{
 "cells": [
  {
   "attachments": {},
   "cell_type": "markdown",
   "metadata": {},
   "source": [
    "## Setup"
   ]
  },
  {
   "attachments": {},
   "cell_type": "markdown",
   "metadata": {},
   "source": [
    "### Imports"
   ]
  },
  {
   "cell_type": "code",
   "execution_count": 1,
   "metadata": {},
   "outputs": [],
   "source": [
    "import os\n",
    "import json\n",
    "import glob\n",
    "import torch\n",
    "import re\n",
    "import einops\n",
    "import pandas as pd\n",
    "from functools import partial\n",
    "from torch import Tensor\n",
    "from torchtyping import TensorType as TT\n",
    "\n",
    "\n",
    "import plotly.express as px\n",
    "\n",
    "from utils.data_utils import generate_data_and_caches\n",
    "from utils.data_processing import (\n",
    "    load_edge_scores_into_dictionary,\n",
    ")\n",
    "from utils.visualization import plot_attention_heads, imshow_p\n",
    "from utils.backup_analysis import (\n",
    "    load_model,\n",
    "    run_iteration,\n",
    "    process_backup_results,\n",
    "    get_past_nmhs_for_checkpoints,\n",
    "    plot_top_heads\n",
    ")"
   ]
  },
  {
   "attachments": {},
   "cell_type": "markdown",
   "metadata": {},
   "source": [
    "### Parameters"
   ]
  },
  {
   "cell_type": "code",
   "execution_count": 2,
   "metadata": {},
   "outputs": [
    {
     "data": {
      "text/plain": [
       "<torch.autograd.grad_mode.set_grad_enabled at 0x7f4c6c9c5120>"
      ]
     },
     "execution_count": 2,
     "metadata": {},
     "output_type": "execute_result"
    }
   ],
   "source": [
    "TASK = 'ioi'\n",
    "PERFORMANCE_METRIC = 'logit_diff'\n",
    "BASE_MODEL = \"pythia-160m\"\n",
    "VARIANT = 'pythia-160m-alldropout'\n",
    "CACHE = \"model_cache\"\n",
    "IOI_DATASET_SIZE = 70\n",
    "\n",
    "if torch.cuda.is_available():\n",
    "    device = \"cuda\"\n",
    "else:\n",
    "    device = \"cpu\"\n",
    "\n",
    "torch.set_grad_enabled(False)"
   ]
  },
  {
   "attachments": {},
   "cell_type": "markdown",
   "metadata": {},
   "source": [
    "### Functions"
   ]
  },
  {
   "attachments": {},
   "cell_type": "markdown",
   "metadata": {},
   "source": [
    "## Experiments"
   ]
  },
  {
   "attachments": {},
   "cell_type": "markdown",
   "metadata": {},
   "source": [
    "### Experiment Parameters"
   ]
  },
  {
   "cell_type": "code",
   "execution_count": 3,
   "metadata": {},
   "outputs": [],
   "source": [
    "TASK = 'ioi'\n",
    "PERFORMANCE_METRIC = 'logit_diff'\n",
    "BASE_MODEL = \"pythia-160m\"\n",
    "VARIANT = \"EleutherAI/pythia-160m-seed1\"\n",
    "MODEL_SHORTNAME = BASE_MODEL if not VARIANT else VARIANT[11:]\n",
    "CACHE = \"model_cache\"\n",
    "IOI_DATASET_SIZE = 70\n",
    "COPY_SCORE_THRESHOLD = 75.0"
   ]
  },
  {
   "attachments": {},
   "cell_type": "markdown",
   "metadata": {},
   "source": [
    "### Circuit Data"
   ]
  },
  {
   "cell_type": "code",
   "execution_count": 4,
   "metadata": {},
   "outputs": [
    {
     "name": "stdout",
     "output_type": "stream",
     "text": [
      "Processing file 1/140: results/graphs/pythia-160m-seed1/ioi/57000.json\n",
      "Processing file 2/140: results/graphs/pythia-160m-seed1/ioi/141000.json\n",
      "Processing file 3/140: results/graphs/pythia-160m-seed1/ioi/95000.json\n",
      "Processing file 4/140: results/graphs/pythia-160m-seed1/ioi/107000.json\n",
      "Processing file 5/140: results/graphs/pythia-160m-seed1/ioi/34000.json\n",
      "Processing file 6/140: results/graphs/pythia-160m-seed1/ioi/6000.json\n",
      "Processing file 7/140: results/graphs/pythia-160m-seed1/ioi/37000.json\n",
      "Processing file 8/140: results/graphs/pythia-160m-seed1/ioi/39000.json\n",
      "Processing file 9/140: results/graphs/pythia-160m-seed1/ioi/104000.json\n",
      "Processing file 10/140: results/graphs/pythia-160m-seed1/ioi/59000.json\n",
      "Processing file 11/140: results/graphs/pythia-160m-seed1/ioi/67000.json\n",
      "Processing file 12/140: results/graphs/pythia-160m-seed1/ioi/111000.json\n",
      "Processing file 13/140: results/graphs/pythia-160m-seed1/ioi/76000.json\n",
      "Processing file 14/140: results/graphs/pythia-160m-seed1/ioi/5000.json\n",
      "Processing file 15/140: results/graphs/pythia-160m-seed1/ioi/42000.json\n",
      "Processing file 16/140: results/graphs/pythia-160m-seed1/ioi/77000.json\n",
      "Processing file 17/140: results/graphs/pythia-160m-seed1/ioi/86000.json\n",
      "Processing file 18/140: results/graphs/pythia-160m-seed1/ioi/80000.json\n",
      "Processing file 19/140: results/graphs/pythia-160m-seed1/ioi/81000.json\n",
      "Processing file 20/140: results/graphs/pythia-160m-seed1/ioi/63000.json\n",
      "Processing file 21/140: results/graphs/pythia-160m-seed1/ioi/142000.json\n",
      "Processing file 22/140: results/graphs/pythia-160m-seed1/ioi/56000.json\n",
      "Processing file 23/140: results/graphs/pythia-160m-seed1/ioi/8000.json\n",
      "Processing file 24/140: results/graphs/pythia-160m-seed1/ioi/93000.json\n",
      "Processing file 25/140: results/graphs/pythia-160m-seed1/ioi/120000.json\n",
      "Processing file 26/140: results/graphs/pythia-160m-seed1/ioi/62000.json\n",
      "Processing file 27/140: results/graphs/pythia-160m-seed1/ioi/70000.json\n",
      "Processing file 28/140: results/graphs/pythia-160m-seed1/ioi/19000.json\n",
      "Processing file 29/140: results/graphs/pythia-160m-seed1/ioi/121000.json\n",
      "Processing file 30/140: results/graphs/pythia-160m-seed1/ioi/105000.json\n",
      "Processing file 31/140: results/graphs/pythia-160m-seed1/ioi/129000.json\n",
      "Processing file 32/140: results/graphs/pythia-160m-seed1/ioi/96000.json\n",
      "Processing file 33/140: results/graphs/pythia-160m-seed1/ioi/124000.json\n",
      "Processing file 34/140: results/graphs/pythia-160m-seed1/ioi/143000.json\n",
      "Processing file 35/140: results/graphs/pythia-160m-seed1/ioi/79000.json\n",
      "Processing file 36/140: results/graphs/pythia-160m-seed1/ioi/29000.json\n",
      "Processing file 37/140: results/graphs/pythia-160m-seed1/ioi/137000.json\n",
      "Processing file 38/140: results/graphs/pythia-160m-seed1/ioi/10000.json\n",
      "Processing file 39/140: results/graphs/pythia-160m-seed1/ioi/135000.json\n",
      "Processing file 40/140: results/graphs/pythia-160m-seed1/ioi/65000.json\n",
      "Processing file 41/140: results/graphs/pythia-160m-seed1/ioi/60000.json\n",
      "Processing file 42/140: results/graphs/pythia-160m-seed1/ioi/90000.json\n",
      "Processing file 43/140: results/graphs/pythia-160m-seed1/ioi/106000.json\n",
      "Processing file 44/140: results/graphs/pythia-160m-seed1/ioi/33000.json\n",
      "Processing file 45/140: results/graphs/pythia-160m-seed1/ioi/103000.json\n",
      "Processing file 46/140: results/graphs/pythia-160m-seed1/ioi/113000.json\n",
      "Processing file 47/140: results/graphs/pythia-160m-seed1/ioi/35000.json\n",
      "Processing file 48/140: results/graphs/pythia-160m-seed1/ioi/133000.json\n",
      "Processing file 49/140: results/graphs/pythia-160m-seed1/ioi/18000.json\n",
      "Processing file 50/140: results/graphs/pythia-160m-seed1/ioi/55000.json\n",
      "Processing file 51/140: results/graphs/pythia-160m-seed1/ioi/102000.json\n",
      "Processing file 52/140: results/graphs/pythia-160m-seed1/ioi/108000.json\n",
      "Processing file 53/140: results/graphs/pythia-160m-seed1/ioi/49000.json\n",
      "Processing file 54/140: results/graphs/pythia-160m-seed1/ioi/130000.json\n",
      "Processing file 55/140: results/graphs/pythia-160m-seed1/ioi/83000.json\n",
      "Processing file 56/140: results/graphs/pythia-160m-seed1/ioi/31000.json\n",
      "Processing file 57/140: results/graphs/pythia-160m-seed1/ioi/46000.json\n",
      "Processing file 58/140: results/graphs/pythia-160m-seed1/ioi/112000.json\n",
      "Processing file 59/140: results/graphs/pythia-160m-seed1/ioi/26000.json\n",
      "Processing file 60/140: results/graphs/pythia-160m-seed1/ioi/78000.json\n",
      "Processing file 61/140: results/graphs/pythia-160m-seed1/ioi/13000.json\n",
      "Processing file 62/140: results/graphs/pythia-160m-seed1/ioi/47000.json\n",
      "Processing file 63/140: results/graphs/pythia-160m-seed1/ioi/58000.json\n",
      "Processing file 64/140: results/graphs/pythia-160m-seed1/ioi/134000.json\n",
      "Processing file 65/140: results/graphs/pythia-160m-seed1/ioi/100000.json\n",
      "Processing file 66/140: results/graphs/pythia-160m-seed1/ioi/138000.json\n",
      "Processing file 67/140: results/graphs/pythia-160m-seed1/ioi/27000.json\n",
      "Processing file 68/140: results/graphs/pythia-160m-seed1/ioi/48000.json\n",
      "Processing file 69/140: results/graphs/pythia-160m-seed1/ioi/91000.json\n",
      "Processing file 70/140: results/graphs/pythia-160m-seed1/ioi/122000.json\n",
      "Processing file 71/140: results/graphs/pythia-160m-seed1/ioi/99000.json\n",
      "Processing file 72/140: results/graphs/pythia-160m-seed1/ioi/32000.json\n",
      "Processing file 73/140: results/graphs/pythia-160m-seed1/ioi/30000.json\n",
      "Processing file 74/140: results/graphs/pythia-160m-seed1/ioi/44000.json\n",
      "Processing file 75/140: results/graphs/pythia-160m-seed1/ioi/136000.json\n",
      "Processing file 76/140: results/graphs/pythia-160m-seed1/ioi/116000.json\n",
      "Processing file 77/140: results/graphs/pythia-160m-seed1/ioi/74000.json\n",
      "Processing file 78/140: results/graphs/pythia-160m-seed1/ioi/118000.json\n",
      "Processing file 79/140: results/graphs/pythia-160m-seed1/ioi/94000.json\n",
      "Processing file 80/140: results/graphs/pythia-160m-seed1/ioi/119000.json\n",
      "Processing file 81/140: results/graphs/pythia-160m-seed1/ioi/64000.json\n",
      "Processing file 82/140: results/graphs/pythia-160m-seed1/ioi/69000.json\n",
      "Processing file 83/140: results/graphs/pythia-160m-seed1/ioi/140000.json\n",
      "Processing file 84/140: results/graphs/pythia-160m-seed1/ioi/72000.json\n",
      "Processing file 85/140: results/graphs/pythia-160m-seed1/ioi/117000.json\n",
      "Processing file 86/140: results/graphs/pythia-160m-seed1/ioi/9000.json\n",
      "Processing file 87/140: results/graphs/pythia-160m-seed1/ioi/98000.json\n",
      "Processing file 88/140: results/graphs/pythia-160m-seed1/ioi/110000.json\n",
      "Processing file 89/140: results/graphs/pythia-160m-seed1/ioi/88000.json\n",
      "Processing file 90/140: results/graphs/pythia-160m-seed1/ioi/16000.json\n",
      "Processing file 91/140: results/graphs/pythia-160m-seed1/ioi/23000.json\n",
      "Processing file 92/140: results/graphs/pythia-160m-seed1/ioi/109000.json\n",
      "Processing file 93/140: results/graphs/pythia-160m-seed1/ioi/22000.json\n",
      "Processing file 94/140: results/graphs/pythia-160m-seed1/ioi/17000.json\n",
      "Processing file 95/140: results/graphs/pythia-160m-seed1/ioi/73000.json\n",
      "Processing file 96/140: results/graphs/pythia-160m-seed1/ioi/71000.json\n",
      "Processing file 97/140: results/graphs/pythia-160m-seed1/ioi/125000.json\n",
      "Processing file 98/140: results/graphs/pythia-160m-seed1/ioi/84000.json\n",
      "Processing file 99/140: results/graphs/pythia-160m-seed1/ioi/87000.json\n",
      "Processing file 100/140: results/graphs/pythia-160m-seed1/ioi/131000.json\n",
      "Processing file 101/140: results/graphs/pythia-160m-seed1/ioi/24000.json\n",
      "Processing file 102/140: results/graphs/pythia-160m-seed1/ioi/128000.json\n",
      "Processing file 103/140: results/graphs/pythia-160m-seed1/ioi/51000.json\n",
      "Processing file 104/140: results/graphs/pythia-160m-seed1/ioi/52000.json\n",
      "Processing file 105/140: results/graphs/pythia-160m-seed1/ioi/132000.json\n",
      "Processing file 106/140: results/graphs/pythia-160m-seed1/ioi/101000.json\n",
      "Processing file 107/140: results/graphs/pythia-160m-seed1/ioi/89000.json\n",
      "Processing file 108/140: results/graphs/pythia-160m-seed1/ioi/40000.json\n",
      "Processing file 109/140: results/graphs/pythia-160m-seed1/ioi/43000.json\n",
      "Processing file 110/140: results/graphs/pythia-160m-seed1/ioi/54000.json\n",
      "Processing file 111/140: results/graphs/pythia-160m-seed1/ioi/11000.json\n",
      "Processing file 112/140: results/graphs/pythia-160m-seed1/ioi/36000.json\n",
      "Processing file 113/140: results/graphs/pythia-160m-seed1/ioi/45000.json\n",
      "Processing file 114/140: results/graphs/pythia-160m-seed1/ioi/50000.json\n",
      "Processing file 115/140: results/graphs/pythia-160m-seed1/ioi/114000.json\n",
      "Processing file 116/140: results/graphs/pythia-160m-seed1/ioi/66000.json\n",
      "Processing file 117/140: results/graphs/pythia-160m-seed1/ioi/28000.json\n",
      "Processing file 118/140: results/graphs/pythia-160m-seed1/ioi/82000.json\n",
      "Processing file 119/140: results/graphs/pythia-160m-seed1/ioi/127000.json\n",
      "Processing file 120/140: results/graphs/pythia-160m-seed1/ioi/14000.json\n",
      "Processing file 121/140: results/graphs/pythia-160m-seed1/ioi/75000.json\n",
      "Processing file 122/140: results/graphs/pythia-160m-seed1/ioi/115000.json\n",
      "Processing file 123/140: results/graphs/pythia-160m-seed1/ioi/12000.json\n",
      "Processing file 124/140: results/graphs/pythia-160m-seed1/ioi/21000.json\n",
      "Processing file 125/140: results/graphs/pythia-160m-seed1/ioi/38000.json\n",
      "Processing file 126/140: results/graphs/pythia-160m-seed1/ioi/15000.json\n",
      "Processing file 127/140: results/graphs/pythia-160m-seed1/ioi/85000.json\n",
      "Processing file 128/140: results/graphs/pythia-160m-seed1/ioi/139000.json\n",
      "Processing file 129/140: results/graphs/pythia-160m-seed1/ioi/61000.json\n",
      "Processing file 130/140: results/graphs/pythia-160m-seed1/ioi/7000.json\n",
      "Processing file 131/140: results/graphs/pythia-160m-seed1/ioi/68000.json\n",
      "Processing file 132/140: results/graphs/pythia-160m-seed1/ioi/53000.json\n",
      "Processing file 133/140: results/graphs/pythia-160m-seed1/ioi/25000.json\n",
      "Processing file 134/140: results/graphs/pythia-160m-seed1/ioi/97000.json\n",
      "Processing file 135/140: results/graphs/pythia-160m-seed1/ioi/4000.json\n",
      "Processing file 136/140: results/graphs/pythia-160m-seed1/ioi/123000.json\n",
      "Processing file 137/140: results/graphs/pythia-160m-seed1/ioi/20000.json\n",
      "Processing file 138/140: results/graphs/pythia-160m-seed1/ioi/41000.json\n",
      "Processing file 139/140: results/graphs/pythia-160m-seed1/ioi/126000.json\n",
      "Processing file 140/140: results/graphs/pythia-160m-seed1/ioi/92000.json\n"
     ]
    },
    {
     "data": {
      "text/plain": [
       "445"
      ]
     },
     "execution_count": 4,
     "metadata": {},
     "output_type": "execute_result"
    }
   ],
   "source": [
    "folder_path = f'results/graphs/{MODEL_SHORTNAME}/{TASK}'\n",
    "df = load_edge_scores_into_dictionary(folder_path)\n",
    "\n",
    "# filter everything before 1000 steps\n",
    "df = df[df['checkpoint'] >= 1000]\n",
    "\n",
    "df[['source', 'target']] = df['edge'].str.split('->', expand=True)\n",
    "len(df['target'].unique())"
   ]
  },
  {
   "attachments": {},
   "cell_type": "markdown",
   "metadata": {},
   "source": [
    "### Dataset Setup"
   ]
  },
  {
   "cell_type": "code",
   "execution_count": 5,
   "metadata": {},
   "outputs": [
    {
     "name": "stderr",
     "output_type": "stream",
     "text": [
      "Special tokens have been added in the vocabulary, make sure the associated word embeddings are fine-tuned or trained.\n"
     ]
    },
    {
     "name": "stdout",
     "output_type": "stream",
     "text": [
      "Loaded model EleutherAI/pythia-160m-seed1 at step143000; now loading into HookedTransformer\n",
      "Loaded pretrained model pythia-160m into HookedTransformer\n"
     ]
    }
   ],
   "source": [
    "initial_model = load_model(BASE_MODEL, VARIANT, 143000, CACHE, device)\n",
    "size=70\n",
    "ioi_dataset, abc_dataset = generate_data_and_caches(initial_model, size, verbose=True)"
   ]
  },
  {
   "cell_type": "code",
   "execution_count": 6,
   "metadata": {},
   "outputs": [],
   "source": [
    "# imshow_p(\n",
    "#     per_head_ablated_logit_diffs,\n",
    "#     title=\"Headwise logit diff contribution, post NMH KO\",\n",
    "#     labels={\"x\": \"Head\", \"y\": \"Layer\", \"color\": \"Logit diff attribution\"},\n",
    "#     #coloraxis=dict(colorbar_ticksuffix = \"%\"),\n",
    "#     border=True,\n",
    "#     width=600,\n",
    "#     margin={\"r\": 100, \"l\": 100}\n",
    "# )"
   ]
  },
  {
   "attachments": {},
   "cell_type": "markdown",
   "metadata": {},
   "source": [
    "### Run Experiment"
   ]
  },
  {
   "cell_type": "code",
   "execution_count": 10,
   "metadata": {},
   "outputs": [
    {
     "name": "stdout",
     "output_type": "stream",
     "text": [
      "Loaded model EleutherAI/pythia-160m-seed1 at step4000; now loading into HookedTransformer\n"
     ]
    },
    {
     "name": "stderr",
     "output_type": "stream",
     "text": [
      "Special tokens have been added in the vocabulary, make sure the associated word embeddings are fine-tuned or trained.\n"
     ]
    },
    {
     "name": "stdout",
     "output_type": "stream",
     "text": [
      "Loaded pretrained model pythia-160m into HookedTransformer\n",
      "Checkpoint 4000:\n",
      "Heads ablated:            []\n",
      "Original logit diff:      0.4883192480\n",
      "Post ablation logit diff: 0.4883192480\n",
      "Logit diff % change:      0.00%\n",
      "Loaded model EleutherAI/pythia-160m-seed1 at step5000; now loading into HookedTransformer\n"
     ]
    },
    {
     "name": "stderr",
     "output_type": "stream",
     "text": [
      "Special tokens have been added in the vocabulary, make sure the associated word embeddings are fine-tuned or trained.\n"
     ]
    },
    {
     "name": "stdout",
     "output_type": "stream",
     "text": [
      "Loaded pretrained model pythia-160m into HookedTransformer\n",
      "Copy circuit for head 6.5 (sign=1) : Top 5 accuracy: 100.0%\n",
      "Checkpoint 5000:\n",
      "Heads ablated:            [(6, 5)]\n",
      "Original logit diff:      1.3061420918\n",
      "Post ablation logit diff: 1.2755876780\n",
      "Logit diff % change:      -2.34%\n",
      "Loaded model EleutherAI/pythia-160m-seed1 at step6000; now loading into HookedTransformer\n"
     ]
    },
    {
     "name": "stderr",
     "output_type": "stream",
     "text": [
      "Special tokens have been added in the vocabulary, make sure the associated word embeddings are fine-tuned or trained.\n"
     ]
    },
    {
     "name": "stdout",
     "output_type": "stream",
     "text": [
      "Loaded pretrained model pythia-160m into HookedTransformer\n",
      "Copy circuit for head 9.4 (sign=1) : Top 5 accuracy: 91.42857142857143%\n",
      "Copy circuit for head 11.2 (sign=1) : Top 5 accuracy: 20.0%\n",
      "Copy circuit for head 9.11 (sign=1) : Top 5 accuracy: 47.14285714285714%\n",
      "Copy circuit for head 9.10 (sign=1) : Top 5 accuracy: 8.095238095238095%\n",
      "Copy circuit for head 9.9 (sign=1) : Top 5 accuracy: 4.285714285714286%\n",
      "Copy circuit for head 6.7 (sign=1) : Top 5 accuracy: 7.142857142857142%\n",
      "Copy circuit for head 6.5 (sign=1) : Top 5 accuracy: 100.0%\n",
      "Checkpoint 6000:\n",
      "Heads ablated:            [(9, 4), (6, 5)]\n",
      "Original logit diff:      1.6456636190\n",
      "Post ablation logit diff: 1.6411461830\n",
      "Logit diff % change:      -0.27%\n",
      "Loaded model EleutherAI/pythia-160m-seed1 at step7000; now loading into HookedTransformer\n"
     ]
    },
    {
     "name": "stderr",
     "output_type": "stream",
     "text": [
      "Special tokens have been added in the vocabulary, make sure the associated word embeddings are fine-tuned or trained.\n"
     ]
    },
    {
     "name": "stdout",
     "output_type": "stream",
     "text": [
      "Loaded pretrained model pythia-160m into HookedTransformer\n",
      "Copy circuit for head 9.4 (sign=1) : Top 5 accuracy: 93.33333333333333%\n",
      "Copy circuit for head 9.1 (sign=1) : Top 5 accuracy: 37.142857142857146%\n",
      "Copy circuit for head 7.9 (sign=1) : Top 5 accuracy: 91.42857142857143%\n",
      "Copy circuit for head 7.7 (sign=1) : Top 5 accuracy: 89.04761904761904%\n",
      "Copy circuit for head 9.9 (sign=1) : Top 5 accuracy: 4.285714285714286%\n",
      "Copy circuit for head 9.10 (sign=1) : Top 5 accuracy: 7.6190476190476195%\n",
      "Copy circuit for head 11.2 (sign=1) : Top 5 accuracy: 26.190476190476193%\n",
      "Copy circuit for head 9.11 (sign=1) : Top 5 accuracy: 46.19047619047619%\n",
      "Copy circuit for head 6.9 (sign=1) : Top 5 accuracy: 100.0%\n",
      "Copy circuit for head 6.7 (sign=1) : Top 5 accuracy: 14.285714285714285%\n",
      "Copy circuit for head 6.5 (sign=1) : Top 5 accuracy: 100.0%\n",
      "Copy circuit for head 6.2 (sign=1) : Top 5 accuracy: 79.52380952380952%\n",
      "Checkpoint 7000:\n",
      "Heads ablated:            [(9, 4), (7, 9), (7, 7), (6, 9), (6, 5), (6, 2)]\n",
      "Original logit diff:      1.4822077751\n",
      "Post ablation logit diff: 1.4808026552\n",
      "Logit diff % change:      -0.09%\n",
      "Loaded model EleutherAI/pythia-160m-seed1 at step8000; now loading into HookedTransformer\n"
     ]
    },
    {
     "name": "stderr",
     "output_type": "stream",
     "text": [
      "Special tokens have been added in the vocabulary, make sure the associated word embeddings are fine-tuned or trained.\n"
     ]
    },
    {
     "name": "stdout",
     "output_type": "stream",
     "text": [
      "Loaded pretrained model pythia-160m into HookedTransformer\n",
      "Copy circuit for head 6.2 (sign=1) : Top 5 accuracy: 88.09523809523809%\n",
      "Copy circuit for head 6.5 (sign=1) : Top 5 accuracy: 100.0%\n",
      "Copy circuit for head 6.7 (sign=1) : Top 5 accuracy: 14.761904761904763%\n",
      "Copy circuit for head 6.9 (sign=1) : Top 5 accuracy: 100.0%\n",
      "Copy circuit for head 9.10 (sign=1) : Top 5 accuracy: 8.095238095238095%\n",
      "Copy circuit for head 9.11 (sign=1) : Top 5 accuracy: 45.23809523809524%\n",
      "Copy circuit for head 11.2 (sign=1) : Top 5 accuracy: 30.952380952380953%\n",
      "Copy circuit for head 9.8 (sign=1) : Top 5 accuracy: 31.428571428571427%\n",
      "Copy circuit for head 7.7 (sign=1) : Top 5 accuracy: 84.76190476190476%\n",
      "Copy circuit for head 7.9 (sign=1) : Top 5 accuracy: 97.61904761904762%\n",
      "Copy circuit for head 8.10 (sign=1) : Top 5 accuracy: 3.8095238095238098%\n",
      "Checkpoint 8000:\n",
      "Heads ablated:            [(6, 2), (6, 5), (6, 9), (7, 7), (7, 9)]\n",
      "Original logit diff:      2.1917302608\n",
      "Post ablation logit diff: 2.1420717239\n",
      "Logit diff % change:      -2.27%\n"
     ]
    },
    {
     "data": {
      "application/vnd.jupyter.widget-view+json": {
       "model_id": "00605e73c2264255820a1c4dc6cfd5d8",
       "version_major": 2,
       "version_minor": 0
      },
      "text/plain": [
       "pytorch_model.bin:   0%|          | 0.00/375M [00:00<?, ?B/s]"
      ]
     },
     "metadata": {},
     "output_type": "display_data"
    },
    {
     "name": "stdout",
     "output_type": "stream",
     "text": [
      "Loaded model EleutherAI/pythia-160m-seed1 at step9000; now loading into HookedTransformer\n"
     ]
    },
    {
     "name": "stderr",
     "output_type": "stream",
     "text": [
      "Special tokens have been added in the vocabulary, make sure the associated word embeddings are fine-tuned or trained.\n"
     ]
    },
    {
     "name": "stdout",
     "output_type": "stream",
     "text": [
      "Loaded pretrained model pythia-160m into HookedTransformer\n",
      "Copy circuit for head 8.10 (sign=1) : Top 5 accuracy: 3.8095238095238098%\n",
      "Copy circuit for head 7.9 (sign=1) : Top 5 accuracy: 97.61904761904762%\n",
      "Copy circuit for head 7.7 (sign=1) : Top 5 accuracy: 84.76190476190476%\n",
      "Copy circuit for head 9.8 (sign=1) : Top 5 accuracy: 31.9047619047619%\n",
      "Copy circuit for head 9.10 (sign=1) : Top 5 accuracy: 9.523809523809524%\n",
      "Copy circuit for head 9.11 (sign=1) : Top 5 accuracy: 45.714285714285715%\n",
      "Copy circuit for head 11.2 (sign=1) : Top 5 accuracy: 37.142857142857146%\n",
      "Copy circuit for head 10.9 (sign=1) : Top 5 accuracy: 8.571428571428571%\n",
      "Copy circuit for head 6.9 (sign=1) : Top 5 accuracy: 100.0%\n",
      "Copy circuit for head 6.7 (sign=1) : Top 5 accuracy: 10.952380952380953%\n",
      "Copy circuit for head 6.5 (sign=1) : Top 5 accuracy: 100.0%\n",
      "Copy circuit for head 6.2 (sign=1) : Top 5 accuracy: 90.47619047619048%\n",
      "Checkpoint 9000:\n",
      "Heads ablated:            [(7, 9), (7, 7), (6, 9), (6, 5), (6, 2)]\n",
      "Original logit diff:      2.0324258804\n",
      "Post ablation logit diff: 1.8639928102\n",
      "Logit diff % change:      -8.29%\n"
     ]
    },
    {
     "data": {
      "application/vnd.jupyter.widget-view+json": {
       "model_id": "48504f3603c5454aa476fd744b145b7f",
       "version_major": 2,
       "version_minor": 0
      },
      "text/plain": [
       "pytorch_model.bin:   0%|          | 0.00/375M [00:00<?, ?B/s]"
      ]
     },
     "metadata": {},
     "output_type": "display_data"
    },
    {
     "name": "stdout",
     "output_type": "stream",
     "text": [
      "Loaded model EleutherAI/pythia-160m-seed1 at step10000; now loading into HookedTransformer\n"
     ]
    },
    {
     "name": "stderr",
     "output_type": "stream",
     "text": [
      "Special tokens have been added in the vocabulary, make sure the associated word embeddings are fine-tuned or trained.\n"
     ]
    },
    {
     "name": "stdout",
     "output_type": "stream",
     "text": [
      "Loaded pretrained model pythia-160m into HookedTransformer\n",
      "Copy circuit for head 9.4 (sign=1) : Top 5 accuracy: 94.28571428571428%\n",
      "Copy circuit for head 9.1 (sign=1) : Top 5 accuracy: 29.04761904761905%\n",
      "Copy circuit for head 8.10 (sign=1) : Top 5 accuracy: 2.857142857142857%\n",
      "Copy circuit for head 7.9 (sign=1) : Top 5 accuracy: 94.76190476190476%\n",
      "Copy circuit for head 7.7 (sign=1) : Top 5 accuracy: 86.19047619047619%\n",
      "Copy circuit for head 9.8 (sign=1) : Top 5 accuracy: 27.61904761904762%\n",
      "Copy circuit for head 11.2 (sign=1) : Top 5 accuracy: 33.80952380952381%\n",
      "Copy circuit for head 9.11 (sign=1) : Top 5 accuracy: 44.285714285714285%\n",
      "Copy circuit for head 9.10 (sign=1) : Top 5 accuracy: 11.904761904761903%\n",
      "Copy circuit for head 10.9 (sign=1) : Top 5 accuracy: 8.571428571428571%\n",
      "Copy circuit for head 6.7 (sign=1) : Top 5 accuracy: 11.904761904761903%\n",
      "Copy circuit for head 6.5 (sign=1) : Top 5 accuracy: 100.0%\n",
      "Copy circuit for head 6.2 (sign=1) : Top 5 accuracy: 92.85714285714286%\n",
      "Checkpoint 10000:\n",
      "Heads ablated:            [(9, 4), (7, 9), (7, 7), (6, 5), (6, 2)]\n",
      "Original logit diff:      2.6936187744\n",
      "Post ablation logit diff: 2.3793451786\n",
      "Logit diff % change:      -11.67%\n"
     ]
    },
    {
     "data": {
      "application/vnd.jupyter.widget-view+json": {
       "model_id": "955e1309263a48f49b1ce51aeb91b420",
       "version_major": 2,
       "version_minor": 0
      },
      "text/plain": [
       "pytorch_model.bin:   0%|          | 0.00/375M [00:00<?, ?B/s]"
      ]
     },
     "metadata": {},
     "output_type": "display_data"
    },
    {
     "name": "stderr",
     "output_type": "stream",
     "text": [
      "Special tokens have been added in the vocabulary, make sure the associated word embeddings are fine-tuned or trained.\n"
     ]
    },
    {
     "name": "stdout",
     "output_type": "stream",
     "text": [
      "Loaded model EleutherAI/pythia-160m-seed1 at step11000; now loading into HookedTransformer\n",
      "Loaded pretrained model pythia-160m into HookedTransformer\n",
      "Copy circuit for head 9.1 (sign=1) : Top 5 accuracy: 28.095238095238095%\n",
      "Copy circuit for head 7.7 (sign=1) : Top 5 accuracy: 87.14285714285714%\n",
      "Copy circuit for head 9.4 (sign=1) : Top 5 accuracy: 94.76190476190476%\n",
      "Copy circuit for head 9.11 (sign=1) : Top 5 accuracy: 44.761904761904766%\n",
      "Copy circuit for head 9.8 (sign=1) : Top 5 accuracy: 27.142857142857142%\n",
      "Copy circuit for head 6.7 (sign=1) : Top 5 accuracy: 10.476190476190476%\n",
      "Copy circuit for head 6.5 (sign=1) : Top 5 accuracy: 100.0%\n",
      "Checkpoint 11000:\n",
      "Heads ablated:            [(7, 7), (9, 4), (6, 5)]\n",
      "Original logit diff:      2.5621244907\n",
      "Post ablation logit diff: 2.2477440834\n",
      "Logit diff % change:      -12.27%\n"
     ]
    },
    {
     "data": {
      "application/vnd.jupyter.widget-view+json": {
       "model_id": "22533a444f634cc0b97369f8550869f3",
       "version_major": 2,
       "version_minor": 0
      },
      "text/plain": [
       "pytorch_model.bin:   0%|          | 0.00/375M [00:00<?, ?B/s]"
      ]
     },
     "metadata": {},
     "output_type": "display_data"
    },
    {
     "name": "stdout",
     "output_type": "stream",
     "text": [
      "Loaded model EleutherAI/pythia-160m-seed1 at step12000; now loading into HookedTransformer\n"
     ]
    },
    {
     "name": "stderr",
     "output_type": "stream",
     "text": [
      "Special tokens have been added in the vocabulary, make sure the associated word embeddings are fine-tuned or trained.\n"
     ]
    },
    {
     "name": "stdout",
     "output_type": "stream",
     "text": [
      "Loaded pretrained model pythia-160m into HookedTransformer\n",
      "Copy circuit for head 9.8 (sign=1) : Top 5 accuracy: 26.190476190476193%\n",
      "Copy circuit for head 9.4 (sign=1) : Top 5 accuracy: 94.28571428571428%\n",
      "Copy circuit for head 9.1 (sign=1) : Top 5 accuracy: 26.666666666666668%\n",
      "Copy circuit for head 9.11 (sign=1) : Top 5 accuracy: 43.333333333333336%\n",
      "Copy circuit for head 10.9 (sign=1) : Top 5 accuracy: 14.761904761904763%\n",
      "Copy circuit for head 7.7 (sign=1) : Top 5 accuracy: 78.57142857142857%\n",
      "Copy circuit for head 6.7 (sign=1) : Top 5 accuracy: 12.857142857142856%\n",
      "Copy circuit for head 6.5 (sign=1) : Top 5 accuracy: 100.0%\n",
      "Checkpoint 12000:\n",
      "Heads ablated:            [(9, 4), (7, 7), (6, 5)]\n",
      "Original logit diff:      2.6678431034\n",
      "Post ablation logit diff: 2.3599007130\n",
      "Logit diff % change:      -11.54%\n"
     ]
    },
    {
     "data": {
      "application/vnd.jupyter.widget-view+json": {
       "model_id": "730628d2b0334e408c0a1278cab53d5e",
       "version_major": 2,
       "version_minor": 0
      },
      "text/plain": [
       "pytorch_model.bin:   0%|          | 0.00/375M [00:00<?, ?B/s]"
      ]
     },
     "metadata": {},
     "output_type": "display_data"
    },
    {
     "name": "stdout",
     "output_type": "stream",
     "text": [
      "Loaded model EleutherAI/pythia-160m-seed1 at step13000; now loading into HookedTransformer\n"
     ]
    },
    {
     "name": "stderr",
     "output_type": "stream",
     "text": [
      "Special tokens have been added in the vocabulary, make sure the associated word embeddings are fine-tuned or trained.\n"
     ]
    },
    {
     "name": "stdout",
     "output_type": "stream",
     "text": [
      "Loaded pretrained model pythia-160m into HookedTransformer\n",
      "Copy circuit for head 6.2 (sign=1) : Top 5 accuracy: 97.14285714285714%\n",
      "Copy circuit for head 6.5 (sign=1) : Top 5 accuracy: 100.0%\n",
      "Copy circuit for head 6.7 (sign=1) : Top 5 accuracy: 15.238095238095239%\n",
      "Copy circuit for head 10.9 (sign=1) : Top 5 accuracy: 13.80952380952381%\n",
      "Copy circuit for head 11.2 (sign=1) : Top 5 accuracy: 36.666666666666664%\n",
      "Copy circuit for head 9.11 (sign=1) : Top 5 accuracy: 38.57142857142858%\n",
      "Copy circuit for head 7.9 (sign=1) : Top 5 accuracy: 98.57142857142858%\n",
      "Copy circuit for head 7.7 (sign=1) : Top 5 accuracy: 79.04761904761905%\n",
      "Copy circuit for head 9.1 (sign=1) : Top 5 accuracy: 27.142857142857142%\n",
      "Copy circuit for head 9.4 (sign=1) : Top 5 accuracy: 95.23809523809523%\n",
      "Copy circuit for head 9.8 (sign=1) : Top 5 accuracy: 19.523809523809526%\n",
      "Checkpoint 13000:\n",
      "Heads ablated:            [(6, 2), (6, 5), (7, 9), (7, 7), (9, 4)]\n",
      "Original logit diff:      2.4753828049\n",
      "Post ablation logit diff: 1.9894469976\n",
      "Logit diff % change:      -19.63%\n"
     ]
    },
    {
     "data": {
      "application/vnd.jupyter.widget-view+json": {
       "model_id": "a2793ef2c98c4328ae527f8276967eb3",
       "version_major": 2,
       "version_minor": 0
      },
      "text/plain": [
       "pytorch_model.bin:   0%|          | 0.00/375M [00:00<?, ?B/s]"
      ]
     },
     "metadata": {},
     "output_type": "display_data"
    },
    {
     "name": "stderr",
     "output_type": "stream",
     "text": [
      "Special tokens have been added in the vocabulary, make sure the associated word embeddings are fine-tuned or trained.\n"
     ]
    },
    {
     "name": "stdout",
     "output_type": "stream",
     "text": [
      "Loaded model EleutherAI/pythia-160m-seed1 at step14000; now loading into HookedTransformer\n",
      "Loaded pretrained model pythia-160m into HookedTransformer\n",
      "Copy circuit for head 6.2 (sign=1) : Top 5 accuracy: 98.09523809523809%\n",
      "Copy circuit for head 6.5 (sign=1) : Top 5 accuracy: 100.0%\n",
      "Copy circuit for head 6.7 (sign=1) : Top 5 accuracy: 14.761904761904763%\n",
      "Copy circuit for head 9.11 (sign=1) : Top 5 accuracy: 41.904761904761905%\n",
      "Copy circuit for head 10.9 (sign=1) : Top 5 accuracy: 15.714285714285714%\n",
      "Copy circuit for head 9.8 (sign=1) : Top 5 accuracy: 19.523809523809526%\n",
      "Copy circuit for head 7.7 (sign=1) : Top 5 accuracy: 78.57142857142857%\n",
      "Copy circuit for head 9.1 (sign=1) : Top 5 accuracy: 24.285714285714285%\n",
      "Copy circuit for head 9.4 (sign=1) : Top 5 accuracy: 95.23809523809523%\n",
      "Checkpoint 14000:\n",
      "Heads ablated:            [(6, 2), (6, 5), (7, 7), (9, 4)]\n",
      "Original logit diff:      2.9184849262\n",
      "Post ablation logit diff: 2.5127847195\n",
      "Logit diff % change:      -13.90%\n"
     ]
    },
    {
     "data": {
      "application/vnd.jupyter.widget-view+json": {
       "model_id": "cf0c67a2639947f1af1ae75ddaa538c6",
       "version_major": 2,
       "version_minor": 0
      },
      "text/plain": [
       "pytorch_model.bin:   0%|          | 0.00/375M [00:00<?, ?B/s]"
      ]
     },
     "metadata": {},
     "output_type": "display_data"
    },
    {
     "name": "stdout",
     "output_type": "stream",
     "text": [
      "Loaded model EleutherAI/pythia-160m-seed1 at step15000; now loading into HookedTransformer\n"
     ]
    },
    {
     "name": "stderr",
     "output_type": "stream",
     "text": [
      "Special tokens have been added in the vocabulary, make sure the associated word embeddings are fine-tuned or trained.\n"
     ]
    },
    {
     "name": "stdout",
     "output_type": "stream",
     "text": [
      "Loaded pretrained model pythia-160m into HookedTransformer\n",
      "Copy circuit for head 6.7 (sign=1) : Top 5 accuracy: 13.80952380952381%\n",
      "Copy circuit for head 10.9 (sign=1) : Top 5 accuracy: 11.904761904761903%\n",
      "Copy circuit for head 9.11 (sign=1) : Top 5 accuracy: 42.857142857142854%\n",
      "Copy circuit for head 9.8 (sign=1) : Top 5 accuracy: 20.0%\n",
      "Copy circuit for head 7.7 (sign=1) : Top 5 accuracy: 73.80952380952381%\n",
      "Copy circuit for head 7.9 (sign=1) : Top 5 accuracy: 99.04761904761905%\n",
      "Copy circuit for head 9.1 (sign=1) : Top 5 accuracy: 24.285714285714285%\n",
      "Copy circuit for head 9.4 (sign=1) : Top 5 accuracy: 97.61904761904762%\n",
      "Checkpoint 15000:\n",
      "Heads ablated:            [(7, 9), (9, 4)]\n",
      "Original logit diff:      2.8664309978\n",
      "Post ablation logit diff: 2.3307163715\n",
      "Logit diff % change:      -18.69%\n"
     ]
    },
    {
     "data": {
      "application/vnd.jupyter.widget-view+json": {
       "model_id": "126931bb4c8c42d49a8a708bf9b9ee0f",
       "version_major": 2,
       "version_minor": 0
      },
      "text/plain": [
       "pytorch_model.bin:   0%|          | 0.00/375M [00:00<?, ?B/s]"
      ]
     },
     "metadata": {},
     "output_type": "display_data"
    },
    {
     "name": "stdout",
     "output_type": "stream",
     "text": [
      "Loaded model EleutherAI/pythia-160m-seed1 at step16000; now loading into HookedTransformer\n"
     ]
    },
    {
     "name": "stderr",
     "output_type": "stream",
     "text": [
      "Special tokens have been added in the vocabulary, make sure the associated word embeddings are fine-tuned or trained.\n"
     ]
    },
    {
     "name": "stdout",
     "output_type": "stream",
     "text": [
      "Loaded pretrained model pythia-160m into HookedTransformer\n",
      "Copy circuit for head 6.2 (sign=1) : Top 5 accuracy: 97.61904761904762%\n",
      "Copy circuit for head 6.7 (sign=1) : Top 5 accuracy: 15.238095238095239%\n",
      "Copy circuit for head 10.9 (sign=1) : Top 5 accuracy: 15.714285714285714%\n",
      "Copy circuit for head 9.11 (sign=1) : Top 5 accuracy: 35.23809523809524%\n",
      "Copy circuit for head 9.8 (sign=1) : Top 5 accuracy: 13.80952380952381%\n",
      "Copy circuit for head 7.7 (sign=1) : Top 5 accuracy: 75.23809523809524%\n",
      "Copy circuit for head 8.10 (sign=1) : Top 5 accuracy: 8.095238095238095%\n",
      "Copy circuit for head 9.1 (sign=1) : Top 5 accuracy: 24.285714285714285%\n",
      "Copy circuit for head 9.4 (sign=1) : Top 5 accuracy: 98.57142857142858%\n",
      "Checkpoint 16000:\n",
      "Heads ablated:            [(6, 2), (7, 7), (9, 4)]\n",
      "Original logit diff:      3.0151734352\n",
      "Post ablation logit diff: 2.3903312683\n",
      "Logit diff % change:      -20.72%\n"
     ]
    },
    {
     "data": {
      "application/vnd.jupyter.widget-view+json": {
       "model_id": "d1cbfc87490247fab48f97d76357c475",
       "version_major": 2,
       "version_minor": 0
      },
      "text/plain": [
       "pytorch_model.bin:   0%|          | 0.00/375M [00:00<?, ?B/s]"
      ]
     },
     "metadata": {},
     "output_type": "display_data"
    },
    {
     "name": "stdout",
     "output_type": "stream",
     "text": [
      "Loaded model EleutherAI/pythia-160m-seed1 at step17000; now loading into HookedTransformer\n"
     ]
    },
    {
     "name": "stderr",
     "output_type": "stream",
     "text": [
      "Special tokens have been added in the vocabulary, make sure the associated word embeddings are fine-tuned or trained.\n"
     ]
    },
    {
     "name": "stdout",
     "output_type": "stream",
     "text": [
      "Loaded pretrained model pythia-160m into HookedTransformer\n",
      "Copy circuit for head 6.2 (sign=1) : Top 5 accuracy: 99.04761904761905%\n",
      "Copy circuit for head 6.7 (sign=1) : Top 5 accuracy: 16.19047619047619%\n",
      "Copy circuit for head 9.8 (sign=1) : Top 5 accuracy: 11.904761904761903%\n",
      "Copy circuit for head 9.9 (sign=1) : Top 5 accuracy: 4.761904761904762%\n",
      "Copy circuit for head 9.10 (sign=1) : Top 5 accuracy: 17.142857142857142%\n",
      "Copy circuit for head 9.11 (sign=1) : Top 5 accuracy: 36.19047619047619%\n",
      "Copy circuit for head 10.9 (sign=1) : Top 5 accuracy: 15.714285714285714%\n",
      "Copy circuit for head 9.4 (sign=1) : Top 5 accuracy: 98.57142857142858%\n",
      "Copy circuit for head 7.7 (sign=1) : Top 5 accuracy: 76.66666666666667%\n",
      "Copy circuit for head 7.9 (sign=1) : Top 5 accuracy: 98.57142857142858%\n",
      "Copy circuit for head 8.10 (sign=1) : Top 5 accuracy: 5.714285714285714%\n",
      "Copy circuit for head 9.1 (sign=1) : Top 5 accuracy: 22.857142857142858%\n",
      "Checkpoint 17000:\n",
      "Heads ablated:            [(6, 2), (9, 4), (7, 7), (7, 9)]\n",
      "Original logit diff:      3.1617166996\n",
      "Post ablation logit diff: 2.4598402977\n",
      "Logit diff % change:      -22.20%\n"
     ]
    },
    {
     "data": {
      "application/vnd.jupyter.widget-view+json": {
       "model_id": "acfa942cdf984698a7b8e0c96672eb5b",
       "version_major": 2,
       "version_minor": 0
      },
      "text/plain": [
       "pytorch_model.bin:   0%|          | 0.00/375M [00:00<?, ?B/s]"
      ]
     },
     "metadata": {},
     "output_type": "display_data"
    },
    {
     "name": "stdout",
     "output_type": "stream",
     "text": [
      "Loaded model EleutherAI/pythia-160m-seed1 at step18000; now loading into HookedTransformer\n"
     ]
    },
    {
     "name": "stderr",
     "output_type": "stream",
     "text": [
      "Special tokens have been added in the vocabulary, make sure the associated word embeddings are fine-tuned or trained.\n"
     ]
    },
    {
     "name": "stdout",
     "output_type": "stream",
     "text": [
      "Loaded pretrained model pythia-160m into HookedTransformer\n",
      "Copy circuit for head 7.9 (sign=1) : Top 5 accuracy: 99.04761904761905%\n",
      "Copy circuit for head 7.7 (sign=1) : Top 5 accuracy: 70.47619047619048%\n",
      "Copy circuit for head 9.1 (sign=1) : Top 5 accuracy: 23.333333333333332%\n",
      "Copy circuit for head 9.4 (sign=1) : Top 5 accuracy: 95.71428571428572%\n",
      "Copy circuit for head 10.9 (sign=1) : Top 5 accuracy: 14.761904761904763%\n",
      "Copy circuit for head 9.11 (sign=1) : Top 5 accuracy: 31.428571428571427%\n",
      "Copy circuit for head 9.10 (sign=1) : Top 5 accuracy: 18.095238095238095%\n",
      "Copy circuit for head 9.9 (sign=1) : Top 5 accuracy: 4.761904761904762%\n",
      "Copy circuit for head 9.8 (sign=1) : Top 5 accuracy: 12.857142857142856%\n",
      "Copy circuit for head 6.7 (sign=1) : Top 5 accuracy: 10.952380952380953%\n",
      "Copy circuit for head 6.2 (sign=1) : Top 5 accuracy: 98.57142857142858%\n",
      "Checkpoint 18000:\n",
      "Heads ablated:            [(7, 9), (9, 4), (6, 2)]\n",
      "Original logit diff:      3.1994860172\n",
      "Post ablation logit diff: 2.5466251373\n",
      "Logit diff % change:      -20.41%\n"
     ]
    },
    {
     "data": {
      "application/vnd.jupyter.widget-view+json": {
       "model_id": "8b39136a545c465c8dbb9601c1e87be5",
       "version_major": 2,
       "version_minor": 0
      },
      "text/plain": [
       "pytorch_model.bin:   0%|          | 0.00/375M [00:00<?, ?B/s]"
      ]
     },
     "metadata": {},
     "output_type": "display_data"
    },
    {
     "name": "stderr",
     "output_type": "stream",
     "text": [
      "Special tokens have been added in the vocabulary, make sure the associated word embeddings are fine-tuned or trained.\n"
     ]
    },
    {
     "name": "stdout",
     "output_type": "stream",
     "text": [
      "Loaded model EleutherAI/pythia-160m-seed1 at step19000; now loading into HookedTransformer\n",
      "Loaded pretrained model pythia-160m into HookedTransformer\n",
      "Copy circuit for head 9.4 (sign=1) : Top 5 accuracy: 98.57142857142858%\n",
      "Copy circuit for head 9.1 (sign=1) : Top 5 accuracy: 26.666666666666668%\n",
      "Copy circuit for head 7.9 (sign=1) : Top 5 accuracy: 99.52380952380952%\n",
      "Copy circuit for head 7.7 (sign=1) : Top 5 accuracy: 71.9047619047619%\n",
      "Copy circuit for head 9.8 (sign=1) : Top 5 accuracy: 10.476190476190476%\n",
      "Copy circuit for head 9.10 (sign=1) : Top 5 accuracy: 19.047619047619047%\n",
      "Copy circuit for head 9.11 (sign=1) : Top 5 accuracy: 28.095238095238095%\n",
      "Copy circuit for head 10.9 (sign=1) : Top 5 accuracy: 13.80952380952381%\n",
      "Copy circuit for head 6.7 (sign=1) : Top 5 accuracy: 12.857142857142856%\n",
      "Checkpoint 19000:\n",
      "Heads ablated:            [(9, 4), (7, 9)]\n",
      "Original logit diff:      3.5188028812\n",
      "Post ablation logit diff: 2.8616716862\n",
      "Logit diff % change:      -18.67%\n"
     ]
    },
    {
     "data": {
      "application/vnd.jupyter.widget-view+json": {
       "model_id": "588430424ce043a89399e1606fa9adb9",
       "version_major": 2,
       "version_minor": 0
      },
      "text/plain": [
       "pytorch_model.bin:   0%|          | 0.00/375M [00:00<?, ?B/s]"
      ]
     },
     "metadata": {},
     "output_type": "display_data"
    },
    {
     "name": "stderr",
     "output_type": "stream",
     "text": [
      "Special tokens have been added in the vocabulary, make sure the associated word embeddings are fine-tuned or trained.\n"
     ]
    },
    {
     "name": "stdout",
     "output_type": "stream",
     "text": [
      "Loaded model EleutherAI/pythia-160m-seed1 at step20000; now loading into HookedTransformer\n",
      "Loaded pretrained model pythia-160m into HookedTransformer\n",
      "Copy circuit for head 6.2 (sign=1) : Top 5 accuracy: 96.19047619047619%\n",
      "Copy circuit for head 6.7 (sign=1) : Top 5 accuracy: 12.857142857142856%\n",
      "Copy circuit for head 9.11 (sign=1) : Top 5 accuracy: 30.0%\n",
      "Copy circuit for head 10.9 (sign=1) : Top 5 accuracy: 15.238095238095239%\n",
      "Copy circuit for head 9.10 (sign=1) : Top 5 accuracy: 22.857142857142858%\n",
      "Copy circuit for head 9.8 (sign=1) : Top 5 accuracy: 10.952380952380953%\n",
      "Copy circuit for head 7.7 (sign=1) : Top 5 accuracy: 68.57142857142857%\n",
      "Copy circuit for head 7.9 (sign=1) : Top 5 accuracy: 99.04761904761905%\n",
      "Copy circuit for head 9.1 (sign=1) : Top 5 accuracy: 23.333333333333332%\n",
      "Copy circuit for head 9.4 (sign=1) : Top 5 accuracy: 98.57142857142858%\n",
      "Checkpoint 20000:\n",
      "Heads ablated:            [(6, 2), (7, 9), (9, 4)]\n",
      "Original logit diff:      3.8367567062\n",
      "Post ablation logit diff: 2.9600145817\n",
      "Logit diff % change:      -22.85%\n"
     ]
    },
    {
     "data": {
      "application/vnd.jupyter.widget-view+json": {
       "model_id": "b9e2e09ba2074cf8a90ddc4b47957e0b",
       "version_major": 2,
       "version_minor": 0
      },
      "text/plain": [
       "pytorch_model.bin:   0%|          | 0.00/375M [00:00<?, ?B/s]"
      ]
     },
     "metadata": {},
     "output_type": "display_data"
    },
    {
     "name": "stdout",
     "output_type": "stream",
     "text": [
      "Loaded model EleutherAI/pythia-160m-seed1 at step21000; now loading into HookedTransformer\n"
     ]
    },
    {
     "name": "stderr",
     "output_type": "stream",
     "text": [
      "Special tokens have been added in the vocabulary, make sure the associated word embeddings are fine-tuned or trained.\n"
     ]
    },
    {
     "name": "stdout",
     "output_type": "stream",
     "text": [
      "Loaded pretrained model pythia-160m into HookedTransformer\n",
      "Copy circuit for head 6.7 (sign=1) : Top 5 accuracy: 12.857142857142856%\n",
      "Copy circuit for head 10.9 (sign=1) : Top 5 accuracy: 15.238095238095239%\n",
      "Copy circuit for head 9.11 (sign=1) : Top 5 accuracy: 28.095238095238095%\n",
      "Copy circuit for head 9.10 (sign=1) : Top 5 accuracy: 23.809523809523807%\n",
      "Copy circuit for head 9.8 (sign=1) : Top 5 accuracy: 10.476190476190476%\n",
      "Copy circuit for head 9.1 (sign=1) : Top 5 accuracy: 23.333333333333332%\n",
      "Copy circuit for head 9.4 (sign=1) : Top 5 accuracy: 98.57142857142858%\n",
      "Checkpoint 21000:\n",
      "Heads ablated:            [(9, 4)]\n",
      "Original logit diff:      3.2442209721\n",
      "Post ablation logit diff: 2.5282549858\n",
      "Logit diff % change:      -22.07%\n"
     ]
    },
    {
     "data": {
      "application/vnd.jupyter.widget-view+json": {
       "model_id": "36b830b406c449f183edeccbf19ad87a",
       "version_major": 2,
       "version_minor": 0
      },
      "text/plain": [
       "pytorch_model.bin:   0%|          | 0.00/375M [00:00<?, ?B/s]"
      ]
     },
     "metadata": {},
     "output_type": "display_data"
    },
    {
     "name": "stderr",
     "output_type": "stream",
     "text": [
      "Special tokens have been added in the vocabulary, make sure the associated word embeddings are fine-tuned or trained.\n"
     ]
    },
    {
     "name": "stdout",
     "output_type": "stream",
     "text": [
      "Loaded model EleutherAI/pythia-160m-seed1 at step22000; now loading into HookedTransformer\n",
      "Loaded pretrained model pythia-160m into HookedTransformer\n",
      "Copy circuit for head 7.9 (sign=1) : Top 5 accuracy: 99.04761904761905%\n",
      "Copy circuit for head 7.7 (sign=1) : Top 5 accuracy: 71.42857142857143%\n",
      "Copy circuit for head 9.1 (sign=1) : Top 5 accuracy: 23.809523809523807%\n",
      "Copy circuit for head 9.4 (sign=1) : Top 5 accuracy: 98.57142857142858%\n",
      "Copy circuit for head 10.9 (sign=1) : Top 5 accuracy: 15.238095238095239%\n",
      "Copy circuit for head 10.7 (sign=1) : Top 5 accuracy: 44.761904761904766%\n",
      "Copy circuit for head 9.11 (sign=1) : Top 5 accuracy: 34.285714285714285%\n",
      "Copy circuit for head 9.10 (sign=1) : Top 5 accuracy: 26.666666666666668%\n",
      "Copy circuit for head 9.8 (sign=1) : Top 5 accuracy: 11.904761904761903%\n",
      "Copy circuit for head 6.7 (sign=1) : Top 5 accuracy: 11.904761904761903%\n",
      "Copy circuit for head 6.5 (sign=1) : Top 5 accuracy: 100.0%\n",
      "Copy circuit for head 6.2 (sign=1) : Top 5 accuracy: 94.28571428571428%\n",
      "Checkpoint 22000:\n",
      "Heads ablated:            [(7, 9), (9, 4), (6, 5), (6, 2)]\n",
      "Original logit diff:      3.5269074440\n",
      "Post ablation logit diff: 2.9209277630\n",
      "Logit diff % change:      -17.18%\n"
     ]
    },
    {
     "data": {
      "application/vnd.jupyter.widget-view+json": {
       "model_id": "556491e49f504f57909fd6200074ec3d",
       "version_major": 2,
       "version_minor": 0
      },
      "text/plain": [
       "pytorch_model.bin:   0%|          | 0.00/375M [00:00<?, ?B/s]"
      ]
     },
     "metadata": {},
     "output_type": "display_data"
    },
    {
     "name": "stdout",
     "output_type": "stream",
     "text": [
      "Loaded model EleutherAI/pythia-160m-seed1 at step23000; now loading into HookedTransformer\n"
     ]
    },
    {
     "name": "stderr",
     "output_type": "stream",
     "text": [
      "Special tokens have been added in the vocabulary, make sure the associated word embeddings are fine-tuned or trained.\n"
     ]
    },
    {
     "name": "stdout",
     "output_type": "stream",
     "text": [
      "Loaded pretrained model pythia-160m into HookedTransformer\n",
      "Copy circuit for head 9.8 (sign=1) : Top 5 accuracy: 11.904761904761903%\n",
      "Copy circuit for head 9.10 (sign=1) : Top 5 accuracy: 24.761904761904763%\n",
      "Copy circuit for head 9.4 (sign=1) : Top 5 accuracy: 98.09523809523809%\n",
      "Copy circuit for head 9.1 (sign=1) : Top 5 accuracy: 23.333333333333332%\n",
      "Checkpoint 23000:\n",
      "Heads ablated:            [(9, 4)]\n",
      "Original logit diff:      3.8865993023\n",
      "Post ablation logit diff: 3.0545184612\n",
      "Logit diff % change:      -21.41%\n"
     ]
    },
    {
     "data": {
      "application/vnd.jupyter.widget-view+json": {
       "model_id": "bdf6bc2d76b944cb87d1f782ab5d3fa8",
       "version_major": 2,
       "version_minor": 0
      },
      "text/plain": [
       "pytorch_model.bin:   0%|          | 0.00/375M [00:00<?, ?B/s]"
      ]
     },
     "metadata": {},
     "output_type": "display_data"
    },
    {
     "name": "stderr",
     "output_type": "stream",
     "text": [
      "Special tokens have been added in the vocabulary, make sure the associated word embeddings are fine-tuned or trained.\n"
     ]
    },
    {
     "name": "stdout",
     "output_type": "stream",
     "text": [
      "Loaded model EleutherAI/pythia-160m-seed1 at step24000; now loading into HookedTransformer\n",
      "Loaded pretrained model pythia-160m into HookedTransformer\n",
      "Copy circuit for head 10.9 (sign=1) : Top 5 accuracy: 15.714285714285714%\n",
      "Copy circuit for head 10.7 (sign=1) : Top 5 accuracy: 54.285714285714285%\n",
      "Copy circuit for head 9.10 (sign=1) : Top 5 accuracy: 28.57142857142857%\n",
      "Copy circuit for head 9.8 (sign=1) : Top 5 accuracy: 11.904761904761903%\n",
      "Copy circuit for head 9.4 (sign=1) : Top 5 accuracy: 98.09523809523809%\n",
      "Copy circuit for head 9.1 (sign=1) : Top 5 accuracy: 21.428571428571427%\n",
      "Checkpoint 24000:\n",
      "Heads ablated:            [(9, 4)]\n",
      "Original logit diff:      3.4092087746\n",
      "Post ablation logit diff: 2.7277810574\n",
      "Logit diff % change:      -19.99%\n"
     ]
    },
    {
     "data": {
      "application/vnd.jupyter.widget-view+json": {
       "model_id": "2238a9ec48af4e6da1ea7f3808c358b0",
       "version_major": 2,
       "version_minor": 0
      },
      "text/plain": [
       "pytorch_model.bin:   0%|          | 0.00/375M [00:00<?, ?B/s]"
      ]
     },
     "metadata": {},
     "output_type": "display_data"
    },
    {
     "name": "stdout",
     "output_type": "stream",
     "text": [
      "Loaded model EleutherAI/pythia-160m-seed1 at step25000; now loading into HookedTransformer\n"
     ]
    },
    {
     "name": "stderr",
     "output_type": "stream",
     "text": [
      "Special tokens have been added in the vocabulary, make sure the associated word embeddings are fine-tuned or trained.\n"
     ]
    },
    {
     "name": "stdout",
     "output_type": "stream",
     "text": [
      "Loaded pretrained model pythia-160m into HookedTransformer\n",
      "Copy circuit for head 9.4 (sign=1) : Top 5 accuracy: 98.09523809523809%\n",
      "Copy circuit for head 9.1 (sign=1) : Top 5 accuracy: 22.380952380952383%\n",
      "Copy circuit for head 7.9 (sign=1) : Top 5 accuracy: 99.52380952380952%\n",
      "Copy circuit for head 9.8 (sign=1) : Top 5 accuracy: 11.904761904761903%\n",
      "Copy circuit for head 9.10 (sign=1) : Top 5 accuracy: 26.666666666666668%\n",
      "Copy circuit for head 9.11 (sign=1) : Top 5 accuracy: 31.428571428571427%\n",
      "Copy circuit for head 10.9 (sign=1) : Top 5 accuracy: 16.666666666666664%\n",
      "Copy circuit for head 10.7 (sign=1) : Top 5 accuracy: 52.85714285714286%\n",
      "Copy circuit for head 6.7 (sign=1) : Top 5 accuracy: 13.80952380952381%\n",
      "Checkpoint 25000:\n",
      "Heads ablated:            [(9, 4), (7, 9)]\n",
      "Original logit diff:      3.4135973454\n",
      "Post ablation logit diff: 2.5710132122\n",
      "Logit diff % change:      -24.68%\n"
     ]
    },
    {
     "data": {
      "application/vnd.jupyter.widget-view+json": {
       "model_id": "1afc1b03736a491b9e4f5b41d948d0d9",
       "version_major": 2,
       "version_minor": 0
      },
      "text/plain": [
       "pytorch_model.bin:   0%|          | 0.00/375M [00:00<?, ?B/s]"
      ]
     },
     "metadata": {},
     "output_type": "display_data"
    },
    {
     "name": "stdout",
     "output_type": "stream",
     "text": [
      "Loaded model EleutherAI/pythia-160m-seed1 at step26000; now loading into HookedTransformer\n"
     ]
    },
    {
     "name": "stderr",
     "output_type": "stream",
     "text": [
      "Special tokens have been added in the vocabulary, make sure the associated word embeddings are fine-tuned or trained.\n"
     ]
    },
    {
     "name": "stdout",
     "output_type": "stream",
     "text": [
      "Loaded pretrained model pythia-160m into HookedTransformer\n",
      "Copy circuit for head 6.7 (sign=1) : Top 5 accuracy: 16.19047619047619%\n",
      "Copy circuit for head 10.7 (sign=1) : Top 5 accuracy: 53.333333333333336%\n",
      "Copy circuit for head 10.9 (sign=1) : Top 5 accuracy: 16.666666666666664%\n",
      "Copy circuit for head 9.11 (sign=1) : Top 5 accuracy: 29.523809523809526%\n",
      "Copy circuit for head 9.10 (sign=1) : Top 5 accuracy: 30.0%\n",
      "Copy circuit for head 9.9 (sign=1) : Top 5 accuracy: 6.666666666666667%\n",
      "Copy circuit for head 7.7 (sign=1) : Top 5 accuracy: 68.0952380952381%\n",
      "Copy circuit for head 7.9 (sign=1) : Top 5 accuracy: 98.57142857142858%\n",
      "Copy circuit for head 8.10 (sign=1) : Top 5 accuracy: 3.3333333333333335%\n",
      "Copy circuit for head 9.1 (sign=1) : Top 5 accuracy: 24.285714285714285%\n",
      "Copy circuit for head 9.4 (sign=1) : Top 5 accuracy: 98.57142857142858%\n",
      "Copy circuit for head 9.8 (sign=1) : Top 5 accuracy: 10.0%\n",
      "Checkpoint 26000:\n",
      "Heads ablated:            [(7, 9), (9, 4)]\n",
      "Original logit diff:      3.4300081730\n",
      "Post ablation logit diff: 2.5403251648\n",
      "Logit diff % change:      -25.94%\n"
     ]
    },
    {
     "data": {
      "application/vnd.jupyter.widget-view+json": {
       "model_id": "fe477677c19343bc8c9aea31a1f77cb1",
       "version_major": 2,
       "version_minor": 0
      },
      "text/plain": [
       "pytorch_model.bin:   0%|          | 0.00/375M [00:00<?, ?B/s]"
      ]
     },
     "metadata": {},
     "output_type": "display_data"
    },
    {
     "name": "stderr",
     "output_type": "stream",
     "text": [
      "Special tokens have been added in the vocabulary, make sure the associated word embeddings are fine-tuned or trained.\n"
     ]
    },
    {
     "name": "stdout",
     "output_type": "stream",
     "text": [
      "Loaded model EleutherAI/pythia-160m-seed1 at step27000; now loading into HookedTransformer\n",
      "Loaded pretrained model pythia-160m into HookedTransformer\n",
      "Copy circuit for head 9.4 (sign=1) : Top 5 accuracy: 94.76190476190476%\n",
      "Copy circuit for head 9.1 (sign=1) : Top 5 accuracy: 24.285714285714285%\n",
      "Copy circuit for head 9.8 (sign=1) : Top 5 accuracy: 10.952380952380953%\n",
      "Copy circuit for head 9.9 (sign=1) : Top 5 accuracy: 6.190476190476191%\n",
      "Copy circuit for head 10.9 (sign=1) : Top 5 accuracy: 17.142857142857142%\n",
      "Copy circuit for head 10.7 (sign=1) : Top 5 accuracy: 53.333333333333336%\n",
      "Copy circuit for head 9.10 (sign=1) : Top 5 accuracy: 27.142857142857142%\n",
      "Copy circuit for head 6.7 (sign=1) : Top 5 accuracy: 11.428571428571429%\n",
      "Checkpoint 27000:\n",
      "Heads ablated:            [(9, 4)]\n",
      "Original logit diff:      3.9375889301\n",
      "Post ablation logit diff: 3.0321161747\n",
      "Logit diff % change:      -23.00%\n"
     ]
    },
    {
     "data": {
      "application/vnd.jupyter.widget-view+json": {
       "model_id": "407621367e454f5aaeac8392c41e6e10",
       "version_major": 2,
       "version_minor": 0
      },
      "text/plain": [
       "pytorch_model.bin:   0%|          | 0.00/375M [00:00<?, ?B/s]"
      ]
     },
     "metadata": {},
     "output_type": "display_data"
    },
    {
     "name": "stdout",
     "output_type": "stream",
     "text": [
      "Loaded model EleutherAI/pythia-160m-seed1 at step28000; now loading into HookedTransformer\n"
     ]
    },
    {
     "name": "stderr",
     "output_type": "stream",
     "text": [
      "Special tokens have been added in the vocabulary, make sure the associated word embeddings are fine-tuned or trained.\n"
     ]
    },
    {
     "name": "stdout",
     "output_type": "stream",
     "text": [
      "Loaded pretrained model pythia-160m into HookedTransformer\n",
      "Copy circuit for head 6.2 (sign=1) : Top 5 accuracy: 90.95238095238095%\n",
      "Copy circuit for head 6.5 (sign=1) : Top 5 accuracy: 100.0%\n",
      "Copy circuit for head 6.7 (sign=1) : Top 5 accuracy: 11.904761904761903%\n",
      "Copy circuit for head 10.7 (sign=1) : Top 5 accuracy: 56.19047619047619%\n",
      "Copy circuit for head 10.9 (sign=1) : Top 5 accuracy: 16.19047619047619%\n",
      "Copy circuit for head 9.11 (sign=1) : Top 5 accuracy: 28.57142857142857%\n",
      "Copy circuit for head 9.10 (sign=1) : Top 5 accuracy: 25.238095238095237%\n",
      "Copy circuit for head 9.9 (sign=1) : Top 5 accuracy: 6.190476190476191%\n",
      "Copy circuit for head 9.8 (sign=1) : Top 5 accuracy: 8.095238095238095%\n",
      "Copy circuit for head 7.7 (sign=1) : Top 5 accuracy: 65.71428571428571%\n",
      "Copy circuit for head 7.9 (sign=1) : Top 5 accuracy: 99.04761904761905%\n",
      "Copy circuit for head 8.10 (sign=1) : Top 5 accuracy: 2.857142857142857%\n",
      "Copy circuit for head 9.1 (sign=1) : Top 5 accuracy: 23.809523809523807%\n",
      "Copy circuit for head 9.4 (sign=1) : Top 5 accuracy: 98.57142857142858%\n",
      "Checkpoint 28000:\n",
      "Heads ablated:            [(6, 2), (6, 5), (7, 9), (9, 4)]\n",
      "Original logit diff:      3.7193081379\n",
      "Post ablation logit diff: 2.6211369038\n",
      "Logit diff % change:      -29.53%\n"
     ]
    },
    {
     "data": {
      "application/vnd.jupyter.widget-view+json": {
       "model_id": "ddf1f5a442ce4d78b228a7af8b3c3c5c",
       "version_major": 2,
       "version_minor": 0
      },
      "text/plain": [
       "pytorch_model.bin:   0%|          | 0.00/375M [00:00<?, ?B/s]"
      ]
     },
     "metadata": {},
     "output_type": "display_data"
    },
    {
     "name": "stdout",
     "output_type": "stream",
     "text": [
      "Loaded model EleutherAI/pythia-160m-seed1 at step29000; now loading into HookedTransformer\n"
     ]
    },
    {
     "name": "stderr",
     "output_type": "stream",
     "text": [
      "Special tokens have been added in the vocabulary, make sure the associated word embeddings are fine-tuned or trained.\n"
     ]
    },
    {
     "name": "stdout",
     "output_type": "stream",
     "text": [
      "Loaded pretrained model pythia-160m into HookedTransformer\n",
      "Copy circuit for head 9.10 (sign=1) : Top 5 accuracy: 26.190476190476193%\n",
      "Copy circuit for head 10.7 (sign=1) : Top 5 accuracy: 56.666666666666664%\n",
      "Copy circuit for head 9.8 (sign=1) : Top 5 accuracy: 8.571428571428571%\n",
      "Copy circuit for head 9.1 (sign=1) : Top 5 accuracy: 27.142857142857142%\n",
      "Copy circuit for head 9.4 (sign=1) : Top 5 accuracy: 97.61904761904762%\n",
      "Checkpoint 29000:\n",
      "Heads ablated:            [(9, 4)]\n",
      "Original logit diff:      3.8444402218\n",
      "Post ablation logit diff: 2.9600272179\n",
      "Logit diff % change:      -23.00%\n"
     ]
    },
    {
     "data": {
      "application/vnd.jupyter.widget-view+json": {
       "model_id": "1bd168d1701d4c4fbc3f66b57d78b363",
       "version_major": 2,
       "version_minor": 0
      },
      "text/plain": [
       "pytorch_model.bin:   0%|          | 0.00/375M [00:00<?, ?B/s]"
      ]
     },
     "metadata": {},
     "output_type": "display_data"
    },
    {
     "name": "stderr",
     "output_type": "stream",
     "text": [
      "Special tokens have been added in the vocabulary, make sure the associated word embeddings are fine-tuned or trained.\n"
     ]
    },
    {
     "name": "stdout",
     "output_type": "stream",
     "text": [
      "Loaded model EleutherAI/pythia-160m-seed1 at step30000; now loading into HookedTransformer\n",
      "Loaded pretrained model pythia-160m into HookedTransformer\n",
      "Copy circuit for head 9.10 (sign=1) : Top 5 accuracy: 29.523809523809526%\n",
      "Copy circuit for head 9.8 (sign=1) : Top 5 accuracy: 7.142857142857142%\n",
      "Copy circuit for head 9.4 (sign=1) : Top 5 accuracy: 95.23809523809523%\n",
      "Copy circuit for head 9.1 (sign=1) : Top 5 accuracy: 25.238095238095237%\n",
      "Copy circuit for head 10.7 (sign=1) : Top 5 accuracy: 60.952380952380956%\n",
      "Checkpoint 30000:\n",
      "Heads ablated:            [(9, 4)]\n",
      "Original logit diff:      3.6603560448\n",
      "Post ablation logit diff: 2.8263506889\n",
      "Logit diff % change:      -22.78%\n"
     ]
    },
    {
     "data": {
      "application/vnd.jupyter.widget-view+json": {
       "model_id": "0e82cc6a204b4a0f8d0db47d3e76ed55",
       "version_major": 2,
       "version_minor": 0
      },
      "text/plain": [
       "pytorch_model.bin:   0%|          | 0.00/375M [00:00<?, ?B/s]"
      ]
     },
     "metadata": {},
     "output_type": "display_data"
    },
    {
     "name": "stdout",
     "output_type": "stream",
     "text": [
      "Loaded model EleutherAI/pythia-160m-seed1 at step31000; now loading into HookedTransformer\n"
     ]
    },
    {
     "name": "stderr",
     "output_type": "stream",
     "text": [
      "Special tokens have been added in the vocabulary, make sure the associated word embeddings are fine-tuned or trained.\n"
     ]
    },
    {
     "name": "stdout",
     "output_type": "stream",
     "text": [
      "Loaded pretrained model pythia-160m into HookedTransformer\n",
      "Copy circuit for head 9.4 (sign=1) : Top 5 accuracy: 95.23809523809523%\n",
      "Copy circuit for head 9.1 (sign=1) : Top 5 accuracy: 24.285714285714285%\n",
      "Copy circuit for head 9.8 (sign=1) : Top 5 accuracy: 8.095238095238095%\n",
      "Copy circuit for head 9.10 (sign=1) : Top 5 accuracy: 32.38095238095238%\n",
      "Checkpoint 31000:\n",
      "Heads ablated:            [(9, 4)]\n",
      "Original logit diff:      3.3969445229\n",
      "Post ablation logit diff: 2.5804700851\n",
      "Logit diff % change:      -24.04%\n"
     ]
    },
    {
     "data": {
      "application/vnd.jupyter.widget-view+json": {
       "model_id": "5cf0e2de0d654e82ac8585d14ba14311",
       "version_major": 2,
       "version_minor": 0
      },
      "text/plain": [
       "pytorch_model.bin:   0%|          | 0.00/375M [00:00<?, ?B/s]"
      ]
     },
     "metadata": {},
     "output_type": "display_data"
    },
    {
     "name": "stdout",
     "output_type": "stream",
     "text": [
      "Loaded model EleutherAI/pythia-160m-seed1 at step32000; now loading into HookedTransformer\n"
     ]
    },
    {
     "name": "stderr",
     "output_type": "stream",
     "text": [
      "Special tokens have been added in the vocabulary, make sure the associated word embeddings are fine-tuned or trained.\n"
     ]
    },
    {
     "name": "stdout",
     "output_type": "stream",
     "text": [
      "Loaded pretrained model pythia-160m into HookedTransformer\n",
      "Copy circuit for head 6.7 (sign=1) : Top 5 accuracy: 12.380952380952381%\n",
      "Copy circuit for head 10.7 (sign=1) : Top 5 accuracy: 62.857142857142854%\n",
      "Copy circuit for head 10.9 (sign=1) : Top 5 accuracy: 16.666666666666664%\n",
      "Copy circuit for head 9.11 (sign=1) : Top 5 accuracy: 34.285714285714285%\n",
      "Copy circuit for head 9.10 (sign=1) : Top 5 accuracy: 29.04761904761905%\n",
      "Copy circuit for head 9.9 (sign=1) : Top 5 accuracy: 7.142857142857142%\n",
      "Copy circuit for head 9.8 (sign=1) : Top 5 accuracy: 7.142857142857142%\n",
      "Copy circuit for head 7.7 (sign=1) : Top 5 accuracy: 62.857142857142854%\n",
      "Copy circuit for head 7.9 (sign=1) : Top 5 accuracy: 99.52380952380952%\n",
      "Copy circuit for head 9.1 (sign=1) : Top 5 accuracy: 22.857142857142858%\n",
      "Copy circuit for head 9.4 (sign=1) : Top 5 accuracy: 95.23809523809523%\n",
      "Checkpoint 32000:\n",
      "Heads ablated:            [(7, 9), (9, 4)]\n",
      "Original logit diff:      3.9896893501\n",
      "Post ablation logit diff: 2.9204747677\n",
      "Logit diff % change:      -26.80%\n"
     ]
    },
    {
     "data": {
      "application/vnd.jupyter.widget-view+json": {
       "model_id": "2aacaa3a4a67462d8453f34962b4d7fd",
       "version_major": 2,
       "version_minor": 0
      },
      "text/plain": [
       "pytorch_model.bin:   0%|          | 0.00/375M [00:00<?, ?B/s]"
      ]
     },
     "metadata": {},
     "output_type": "display_data"
    },
    {
     "name": "stderr",
     "output_type": "stream",
     "text": [
      "Special tokens have been added in the vocabulary, make sure the associated word embeddings are fine-tuned or trained.\n"
     ]
    },
    {
     "name": "stdout",
     "output_type": "stream",
     "text": [
      "Loaded model EleutherAI/pythia-160m-seed1 at step33000; now loading into HookedTransformer\n",
      "Loaded pretrained model pythia-160m into HookedTransformer\n",
      "Copy circuit for head 9.10 (sign=1) : Top 5 accuracy: 28.095238095238095%\n",
      "Copy circuit for head 10.7 (sign=1) : Top 5 accuracy: 66.66666666666666%\n",
      "Copy circuit for head 10.9 (sign=1) : Top 5 accuracy: 17.142857142857142%\n",
      "Copy circuit for head 9.8 (sign=1) : Top 5 accuracy: 7.142857142857142%\n",
      "Copy circuit for head 9.1 (sign=1) : Top 5 accuracy: 23.333333333333332%\n",
      "Copy circuit for head 9.4 (sign=1) : Top 5 accuracy: 95.23809523809523%\n",
      "Checkpoint 33000:\n",
      "Heads ablated:            [(9, 4)]\n",
      "Original logit diff:      3.2891156673\n",
      "Post ablation logit diff: 2.5718388557\n",
      "Logit diff % change:      -21.81%\n"
     ]
    },
    {
     "data": {
      "application/vnd.jupyter.widget-view+json": {
       "model_id": "048cebd7bf51493caa2b0f1a858f90a4",
       "version_major": 2,
       "version_minor": 0
      },
      "text/plain": [
       "pytorch_model.bin:   0%|          | 0.00/375M [00:00<?, ?B/s]"
      ]
     },
     "metadata": {},
     "output_type": "display_data"
    },
    {
     "name": "stdout",
     "output_type": "stream",
     "text": [
      "Loaded model EleutherAI/pythia-160m-seed1 at step34000; now loading into HookedTransformer\n"
     ]
    },
    {
     "name": "stderr",
     "output_type": "stream",
     "text": [
      "Special tokens have been added in the vocabulary, make sure the associated word embeddings are fine-tuned or trained.\n"
     ]
    },
    {
     "name": "stdout",
     "output_type": "stream",
     "text": [
      "Loaded pretrained model pythia-160m into HookedTransformer\n",
      "Copy circuit for head 10.7 (sign=1) : Top 5 accuracy: 66.66666666666666%\n",
      "Copy circuit for head 9.10 (sign=1) : Top 5 accuracy: 27.142857142857142%\n",
      "Copy circuit for head 9.1 (sign=1) : Top 5 accuracy: 22.380952380952383%\n",
      "Copy circuit for head 9.4 (sign=1) : Top 5 accuracy: 95.23809523809523%\n",
      "Copy circuit for head 9.8 (sign=1) : Top 5 accuracy: 5.714285714285714%\n",
      "Checkpoint 34000:\n",
      "Heads ablated:            [(9, 4)]\n",
      "Original logit diff:      4.0030670166\n",
      "Post ablation logit diff: 2.9906995296\n",
      "Logit diff % change:      -25.29%\n"
     ]
    },
    {
     "data": {
      "application/vnd.jupyter.widget-view+json": {
       "model_id": "362193f99905467a85332b0e31682625",
       "version_major": 2,
       "version_minor": 0
      },
      "text/plain": [
       "pytorch_model.bin:   0%|          | 0.00/375M [00:00<?, ?B/s]"
      ]
     },
     "metadata": {},
     "output_type": "display_data"
    },
    {
     "name": "stdout",
     "output_type": "stream",
     "text": [
      "Loaded model EleutherAI/pythia-160m-seed1 at step35000; now loading into HookedTransformer\n"
     ]
    },
    {
     "name": "stderr",
     "output_type": "stream",
     "text": [
      "Special tokens have been added in the vocabulary, make sure the associated word embeddings are fine-tuned or trained.\n"
     ]
    },
    {
     "name": "stdout",
     "output_type": "stream",
     "text": [
      "Loaded pretrained model pythia-160m into HookedTransformer\n",
      "Copy circuit for head 9.10 (sign=1) : Top 5 accuracy: 29.523809523809526%\n",
      "Copy circuit for head 10.7 (sign=1) : Top 5 accuracy: 65.71428571428571%\n",
      "Copy circuit for head 9.8 (sign=1) : Top 5 accuracy: 7.6190476190476195%\n",
      "Copy circuit for head 9.1 (sign=1) : Top 5 accuracy: 22.857142857142858%\n",
      "Copy circuit for head 9.4 (sign=1) : Top 5 accuracy: 95.23809523809523%\n",
      "Checkpoint 35000:\n",
      "Heads ablated:            [(9, 4)]\n",
      "Original logit diff:      3.5902304649\n",
      "Post ablation logit diff: 2.7152640820\n",
      "Logit diff % change:      -24.37%\n"
     ]
    },
    {
     "data": {
      "application/vnd.jupyter.widget-view+json": {
       "model_id": "dca47706eb70458a9af9b3f4fc642b0d",
       "version_major": 2,
       "version_minor": 0
      },
      "text/plain": [
       "pytorch_model.bin:   0%|          | 0.00/375M [00:00<?, ?B/s]"
      ]
     },
     "metadata": {},
     "output_type": "display_data"
    },
    {
     "name": "stdout",
     "output_type": "stream",
     "text": [
      "Loaded model EleutherAI/pythia-160m-seed1 at step36000; now loading into HookedTransformer\n"
     ]
    },
    {
     "name": "stderr",
     "output_type": "stream",
     "text": [
      "Special tokens have been added in the vocabulary, make sure the associated word embeddings are fine-tuned or trained.\n"
     ]
    },
    {
     "name": "stdout",
     "output_type": "stream",
     "text": [
      "Loaded pretrained model pythia-160m into HookedTransformer\n",
      "Copy circuit for head 9.8 (sign=1) : Top 5 accuracy: 4.285714285714286%\n",
      "Copy circuit for head 9.10 (sign=1) : Top 5 accuracy: 28.57142857142857%\n",
      "Copy circuit for head 10.7 (sign=1) : Top 5 accuracy: 65.71428571428571%\n",
      "Copy circuit for head 9.4 (sign=1) : Top 5 accuracy: 94.76190476190476%\n",
      "Copy circuit for head 8.11 (sign=1) : Top 5 accuracy: 0.4761904761904762%\n",
      "Copy circuit for head 9.1 (sign=1) : Top 5 accuracy: 22.857142857142858%\n",
      "Checkpoint 36000:\n",
      "Heads ablated:            [(9, 4)]\n",
      "Original logit diff:      3.5038461685\n",
      "Post ablation logit diff: 2.6678073406\n",
      "Logit diff % change:      -23.86%\n"
     ]
    },
    {
     "data": {
      "application/vnd.jupyter.widget-view+json": {
       "model_id": "27fa2f4697b543169e16a994b1af89cf",
       "version_major": 2,
       "version_minor": 0
      },
      "text/plain": [
       "pytorch_model.bin:   0%|          | 0.00/375M [00:00<?, ?B/s]"
      ]
     },
     "metadata": {},
     "output_type": "display_data"
    },
    {
     "name": "stdout",
     "output_type": "stream",
     "text": [
      "Loaded model EleutherAI/pythia-160m-seed1 at step37000; now loading into HookedTransformer\n"
     ]
    },
    {
     "name": "stderr",
     "output_type": "stream",
     "text": [
      "Special tokens have been added in the vocabulary, make sure the associated word embeddings are fine-tuned or trained.\n"
     ]
    },
    {
     "name": "stdout",
     "output_type": "stream",
     "text": [
      "Loaded pretrained model pythia-160m into HookedTransformer\n",
      "Copy circuit for head 9.4 (sign=1) : Top 5 accuracy: 95.23809523809523%\n",
      "Copy circuit for head 9.1 (sign=1) : Top 5 accuracy: 21.428571428571427%\n",
      "Copy circuit for head 7.9 (sign=1) : Top 5 accuracy: 100.0%\n",
      "Copy circuit for head 9.8 (sign=1) : Top 5 accuracy: 7.6190476190476195%\n",
      "Copy circuit for head 9.10 (sign=1) : Top 5 accuracy: 31.428571428571427%\n",
      "Copy circuit for head 10.9 (sign=1) : Top 5 accuracy: 20.476190476190474%\n",
      "Copy circuit for head 10.7 (sign=1) : Top 5 accuracy: 68.0952380952381%\n",
      "Copy circuit for head 6.7 (sign=1) : Top 5 accuracy: 11.904761904761903%\n",
      "Checkpoint 37000:\n",
      "Heads ablated:            [(9, 4), (7, 9)]\n",
      "Original logit diff:      3.9260063171\n",
      "Post ablation logit diff: 2.9072592258\n",
      "Logit diff % change:      -25.95%\n"
     ]
    },
    {
     "data": {
      "application/vnd.jupyter.widget-view+json": {
       "model_id": "05de242208f64a7185b456362f074446",
       "version_major": 2,
       "version_minor": 0
      },
      "text/plain": [
       "pytorch_model.bin:   0%|          | 0.00/375M [00:00<?, ?B/s]"
      ]
     },
     "metadata": {},
     "output_type": "display_data"
    },
    {
     "name": "stderr",
     "output_type": "stream",
     "text": [
      "Special tokens have been added in the vocabulary, make sure the associated word embeddings are fine-tuned or trained.\n"
     ]
    },
    {
     "name": "stdout",
     "output_type": "stream",
     "text": [
      "Loaded model EleutherAI/pythia-160m-seed1 at step38000; now loading into HookedTransformer\n",
      "Loaded pretrained model pythia-160m into HookedTransformer\n",
      "Copy circuit for head 9.8 (sign=1) : Top 5 accuracy: 4.761904761904762%\n",
      "Copy circuit for head 9.10 (sign=1) : Top 5 accuracy: 29.04761904761905%\n",
      "Copy circuit for head 10.7 (sign=1) : Top 5 accuracy: 68.0952380952381%\n",
      "Copy circuit for head 10.9 (sign=1) : Top 5 accuracy: 20.476190476190474%\n",
      "Copy circuit for head 9.4 (sign=1) : Top 5 accuracy: 95.23809523809523%\n",
      "Copy circuit for head 9.1 (sign=1) : Top 5 accuracy: 22.857142857142858%\n",
      "Checkpoint 38000:\n",
      "Heads ablated:            [(9, 4)]\n",
      "Original logit diff:      3.7442700863\n",
      "Post ablation logit diff: 2.8718061447\n",
      "Logit diff % change:      -23.30%\n"
     ]
    },
    {
     "data": {
      "application/vnd.jupyter.widget-view+json": {
       "model_id": "6002dfd0891748579b99f4cabf60d191",
       "version_major": 2,
       "version_minor": 0
      },
      "text/plain": [
       "pytorch_model.bin:   0%|          | 0.00/375M [00:00<?, ?B/s]"
      ]
     },
     "metadata": {},
     "output_type": "display_data"
    },
    {
     "name": "stderr",
     "output_type": "stream",
     "text": [
      "Special tokens have been added in the vocabulary, make sure the associated word embeddings are fine-tuned or trained.\n"
     ]
    },
    {
     "name": "stdout",
     "output_type": "stream",
     "text": [
      "Loaded model EleutherAI/pythia-160m-seed1 at step39000; now loading into HookedTransformer\n",
      "Loaded pretrained model pythia-160m into HookedTransformer\n",
      "Copy circuit for head 9.1 (sign=1) : Top 5 accuracy: 25.71428571428571%\n",
      "Copy circuit for head 9.4 (sign=1) : Top 5 accuracy: 95.23809523809523%\n",
      "Copy circuit for head 10.7 (sign=1) : Top 5 accuracy: 70.47619047619048%\n",
      "Copy circuit for head 9.10 (sign=1) : Top 5 accuracy: 29.523809523809526%\n",
      "Copy circuit for head 9.8 (sign=1) : Top 5 accuracy: 6.190476190476191%\n",
      "Checkpoint 39000:\n",
      "Heads ablated:            [(9, 4)]\n",
      "Original logit diff:      3.9355041981\n",
      "Post ablation logit diff: 2.9590353966\n",
      "Logit diff % change:      -24.81%\n"
     ]
    },
    {
     "data": {
      "application/vnd.jupyter.widget-view+json": {
       "model_id": "85fbbe3065744e3689f66d9d10497a4e",
       "version_major": 2,
       "version_minor": 0
      },
      "text/plain": [
       "pytorch_model.bin:   0%|          | 0.00/375M [00:00<?, ?B/s]"
      ]
     },
     "metadata": {},
     "output_type": "display_data"
    },
    {
     "name": "stderr",
     "output_type": "stream",
     "text": [
      "Special tokens have been added in the vocabulary, make sure the associated word embeddings are fine-tuned or trained.\n"
     ]
    },
    {
     "name": "stdout",
     "output_type": "stream",
     "text": [
      "Loaded model EleutherAI/pythia-160m-seed1 at step40000; now loading into HookedTransformer\n",
      "Loaded pretrained model pythia-160m into HookedTransformer\n",
      "Copy circuit for head 10.7 (sign=1) : Top 5 accuracy: 67.61904761904762%\n",
      "Copy circuit for head 9.10 (sign=1) : Top 5 accuracy: 30.0%\n",
      "Copy circuit for head 9.8 (sign=1) : Top 5 accuracy: 6.190476190476191%\n",
      "Copy circuit for head 9.1 (sign=1) : Top 5 accuracy: 24.285714285714285%\n",
      "Copy circuit for head 9.4 (sign=1) : Top 5 accuracy: 95.23809523809523%\n",
      "Checkpoint 40000:\n",
      "Heads ablated:            [(9, 4)]\n",
      "Original logit diff:      3.2015888691\n",
      "Post ablation logit diff: 2.4716193676\n",
      "Logit diff % change:      -22.80%\n"
     ]
    },
    {
     "data": {
      "application/vnd.jupyter.widget-view+json": {
       "model_id": "e8752f0803514479994010968bcbf262",
       "version_major": 2,
       "version_minor": 0
      },
      "text/plain": [
       "pytorch_model.bin:   0%|          | 0.00/375M [00:00<?, ?B/s]"
      ]
     },
     "metadata": {},
     "output_type": "display_data"
    },
    {
     "name": "stdout",
     "output_type": "stream",
     "text": [
      "Loaded model EleutherAI/pythia-160m-seed1 at step41000; now loading into HookedTransformer\n"
     ]
    },
    {
     "name": "stderr",
     "output_type": "stream",
     "text": [
      "Special tokens have been added in the vocabulary, make sure the associated word embeddings are fine-tuned or trained.\n"
     ]
    },
    {
     "name": "stdout",
     "output_type": "stream",
     "text": [
      "Loaded pretrained model pythia-160m into HookedTransformer\n",
      "Copy circuit for head 9.4 (sign=1) : Top 5 accuracy: 95.23809523809523%\n",
      "Copy circuit for head 9.1 (sign=1) : Top 5 accuracy: 23.809523809523807%\n",
      "Copy circuit for head 9.8 (sign=1) : Top 5 accuracy: 5.238095238095238%\n",
      "Copy circuit for head 10.7 (sign=1) : Top 5 accuracy: 69.04761904761905%\n",
      "Copy circuit for head 9.10 (sign=1) : Top 5 accuracy: 30.952380952380953%\n",
      "Checkpoint 41000:\n",
      "Heads ablated:            [(9, 4)]\n",
      "Original logit diff:      3.6185610294\n",
      "Post ablation logit diff: 2.6267118454\n",
      "Logit diff % change:      -27.41%\n"
     ]
    },
    {
     "data": {
      "application/vnd.jupyter.widget-view+json": {
       "model_id": "a1a8d13d623b4f5eb424d385fd77c7e7",
       "version_major": 2,
       "version_minor": 0
      },
      "text/plain": [
       "pytorch_model.bin:   0%|          | 0.00/375M [00:00<?, ?B/s]"
      ]
     },
     "metadata": {},
     "output_type": "display_data"
    },
    {
     "name": "stdout",
     "output_type": "stream",
     "text": [
      "Loaded model EleutherAI/pythia-160m-seed1 at step42000; now loading into HookedTransformer\n"
     ]
    },
    {
     "name": "stderr",
     "output_type": "stream",
     "text": [
      "Special tokens have been added in the vocabulary, make sure the associated word embeddings are fine-tuned or trained.\n"
     ]
    },
    {
     "name": "stdout",
     "output_type": "stream",
     "text": [
      "Loaded pretrained model pythia-160m into HookedTransformer\n",
      "Copy circuit for head 10.7 (sign=1) : Top 5 accuracy: 73.33333333333333%\n",
      "Copy circuit for head 9.1 (sign=1) : Top 5 accuracy: 22.857142857142858%\n",
      "Copy circuit for head 9.4 (sign=1) : Top 5 accuracy: 97.61904761904762%\n",
      "Checkpoint 42000:\n",
      "Heads ablated:            [(9, 4)]\n",
      "Original logit diff:      3.5045366287\n",
      "Post ablation logit diff: 2.4332091808\n",
      "Logit diff % change:      -30.57%\n"
     ]
    },
    {
     "data": {
      "application/vnd.jupyter.widget-view+json": {
       "model_id": "16ea74a0dd424e0eaa7de4e30271b839",
       "version_major": 2,
       "version_minor": 0
      },
      "text/plain": [
       "pytorch_model.bin:   0%|          | 0.00/375M [00:00<?, ?B/s]"
      ]
     },
     "metadata": {},
     "output_type": "display_data"
    },
    {
     "name": "stdout",
     "output_type": "stream",
     "text": [
      "Loaded model EleutherAI/pythia-160m-seed1 at step43000; now loading into HookedTransformer\n"
     ]
    },
    {
     "name": "stderr",
     "output_type": "stream",
     "text": [
      "Special tokens have been added in the vocabulary, make sure the associated word embeddings are fine-tuned or trained.\n"
     ]
    },
    {
     "name": "stdout",
     "output_type": "stream",
     "text": [
      "Loaded pretrained model pythia-160m into HookedTransformer\n",
      "Copy circuit for head 9.10 (sign=1) : Top 5 accuracy: 28.095238095238095%\n",
      "Copy circuit for head 10.7 (sign=1) : Top 5 accuracy: 75.23809523809524%\n",
      "Copy circuit for head 10.9 (sign=1) : Top 5 accuracy: 20.952380952380953%\n",
      "Copy circuit for head 9.8 (sign=1) : Top 5 accuracy: 4.761904761904762%\n",
      "Copy circuit for head 7.9 (sign=1) : Top 5 accuracy: 99.04761904761905%\n",
      "Copy circuit for head 9.1 (sign=1) : Top 5 accuracy: 21.428571428571427%\n",
      "Copy circuit for head 9.4 (sign=1) : Top 5 accuracy: 95.71428571428572%\n",
      "Checkpoint 43000:\n",
      "Heads ablated:            [(10, 7), (7, 9), (9, 4)]\n",
      "Original logit diff:      4.0419116020\n",
      "Post ablation logit diff: 3.0659754276\n",
      "Logit diff % change:      -24.15%\n"
     ]
    },
    {
     "data": {
      "application/vnd.jupyter.widget-view+json": {
       "model_id": "81148548fd204d7caa63c6d57f15c022",
       "version_major": 2,
       "version_minor": 0
      },
      "text/plain": [
       "pytorch_model.bin:   0%|          | 0.00/375M [00:00<?, ?B/s]"
      ]
     },
     "metadata": {},
     "output_type": "display_data"
    },
    {
     "name": "stderr",
     "output_type": "stream",
     "text": [
      "Special tokens have been added in the vocabulary, make sure the associated word embeddings are fine-tuned or trained.\n"
     ]
    },
    {
     "name": "stdout",
     "output_type": "stream",
     "text": [
      "Loaded model EleutherAI/pythia-160m-seed1 at step44000; now loading into HookedTransformer\n",
      "Loaded pretrained model pythia-160m into HookedTransformer\n",
      "Copy circuit for head 9.1 (sign=1) : Top 5 accuracy: 23.333333333333332%\n",
      "Copy circuit for head 9.4 (sign=1) : Top 5 accuracy: 97.61904761904762%\n",
      "Checkpoint 44000:\n",
      "Heads ablated:            [(9, 4)]\n",
      "Original logit diff:      3.6379678249\n",
      "Post ablation logit diff: 2.7220175266\n",
      "Logit diff % change:      -25.18%\n"
     ]
    },
    {
     "data": {
      "application/vnd.jupyter.widget-view+json": {
       "model_id": "5da9b81ac4e5483da7d87068164daff1",
       "version_major": 2,
       "version_minor": 0
      },
      "text/plain": [
       "pytorch_model.bin:   0%|          | 0.00/375M [00:00<?, ?B/s]"
      ]
     },
     "metadata": {},
     "output_type": "display_data"
    },
    {
     "name": "stdout",
     "output_type": "stream",
     "text": [
      "Loaded model EleutherAI/pythia-160m-seed1 at step45000; now loading into HookedTransformer\n"
     ]
    },
    {
     "name": "stderr",
     "output_type": "stream",
     "text": [
      "Special tokens have been added in the vocabulary, make sure the associated word embeddings are fine-tuned or trained.\n"
     ]
    },
    {
     "name": "stdout",
     "output_type": "stream",
     "text": [
      "Loaded pretrained model pythia-160m into HookedTransformer\n",
      "Copy circuit for head 9.1 (sign=1) : Top 5 accuracy: 23.333333333333332%\n",
      "Copy circuit for head 9.4 (sign=1) : Top 5 accuracy: 97.14285714285714%\n",
      "Copy circuit for head 10.7 (sign=1) : Top 5 accuracy: 74.28571428571429%\n",
      "Copy circuit for head 9.10 (sign=1) : Top 5 accuracy: 30.476190476190478%\n",
      "Checkpoint 45000:\n",
      "Heads ablated:            [(9, 4)]\n",
      "Original logit diff:      3.6509871483\n",
      "Post ablation logit diff: 2.6584887505\n",
      "Logit diff % change:      -27.18%\n"
     ]
    },
    {
     "data": {
      "application/vnd.jupyter.widget-view+json": {
       "model_id": "95c0b3984415491793aa6750c0b29dbb",
       "version_major": 2,
       "version_minor": 0
      },
      "text/plain": [
       "pytorch_model.bin:   0%|          | 0.00/375M [00:00<?, ?B/s]"
      ]
     },
     "metadata": {},
     "output_type": "display_data"
    },
    {
     "name": "stdout",
     "output_type": "stream",
     "text": [
      "Loaded model EleutherAI/pythia-160m-seed1 at step46000; now loading into HookedTransformer\n"
     ]
    },
    {
     "name": "stderr",
     "output_type": "stream",
     "text": [
      "Special tokens have been added in the vocabulary, make sure the associated word embeddings are fine-tuned or trained.\n"
     ]
    },
    {
     "name": "stdout",
     "output_type": "stream",
     "text": [
      "Loaded pretrained model pythia-160m into HookedTransformer\n",
      "Copy circuit for head 9.4 (sign=1) : Top 5 accuracy: 95.23809523809523%\n",
      "Copy circuit for head 9.1 (sign=1) : Top 5 accuracy: 23.333333333333332%\n",
      "Copy circuit for head 7.9 (sign=1) : Top 5 accuracy: 100.0%\n",
      "Copy circuit for head 9.8 (sign=1) : Top 5 accuracy: 8.571428571428571%\n",
      "Copy circuit for head 9.10 (sign=1) : Top 5 accuracy: 30.952380952380953%\n",
      "Copy circuit for head 10.9 (sign=1) : Top 5 accuracy: 20.952380952380953%\n",
      "Copy circuit for head 10.7 (sign=1) : Top 5 accuracy: 74.28571428571429%\n",
      "Checkpoint 46000:\n",
      "Heads ablated:            [(9, 4), (7, 9)]\n",
      "Original logit diff:      4.1936593056\n",
      "Post ablation logit diff: 3.0248901844\n",
      "Logit diff % change:      -27.87%\n"
     ]
    },
    {
     "data": {
      "application/vnd.jupyter.widget-view+json": {
       "model_id": "20be0a6392c54e31bb8d00e63cbaba2c",
       "version_major": 2,
       "version_minor": 0
      },
      "text/plain": [
       "pytorch_model.bin:   0%|          | 0.00/375M [00:00<?, ?B/s]"
      ]
     },
     "metadata": {},
     "output_type": "display_data"
    },
    {
     "name": "stderr",
     "output_type": "stream",
     "text": [
      "Special tokens have been added in the vocabulary, make sure the associated word embeddings are fine-tuned or trained.\n"
     ]
    },
    {
     "name": "stdout",
     "output_type": "stream",
     "text": [
      "Loaded model EleutherAI/pythia-160m-seed1 at step47000; now loading into HookedTransformer\n",
      "Loaded pretrained model pythia-160m into HookedTransformer\n",
      "Copy circuit for head 10.7 (sign=1) : Top 5 accuracy: 71.9047619047619%\n",
      "Copy circuit for head 9.10 (sign=1) : Top 5 accuracy: 30.952380952380953%\n",
      "Copy circuit for head 9.1 (sign=1) : Top 5 accuracy: 23.333333333333332%\n",
      "Copy circuit for head 9.4 (sign=1) : Top 5 accuracy: 95.23809523809523%\n",
      "Checkpoint 47000:\n",
      "Heads ablated:            [(9, 4)]\n",
      "Original logit diff:      4.1424846649\n",
      "Post ablation logit diff: 3.0635030270\n",
      "Logit diff % change:      -26.05%\n"
     ]
    },
    {
     "data": {
      "application/vnd.jupyter.widget-view+json": {
       "model_id": "ac7a2c9ddb054d6c8668d6180c899c54",
       "version_major": 2,
       "version_minor": 0
      },
      "text/plain": [
       "pytorch_model.bin:   0%|          | 0.00/375M [00:00<?, ?B/s]"
      ]
     },
     "metadata": {},
     "output_type": "display_data"
    },
    {
     "name": "stdout",
     "output_type": "stream",
     "text": [
      "Loaded model EleutherAI/pythia-160m-seed1 at step48000; now loading into HookedTransformer\n"
     ]
    },
    {
     "name": "stderr",
     "output_type": "stream",
     "text": [
      "Special tokens have been added in the vocabulary, make sure the associated word embeddings are fine-tuned or trained.\n"
     ]
    },
    {
     "name": "stdout",
     "output_type": "stream",
     "text": [
      "Loaded pretrained model pythia-160m into HookedTransformer\n",
      "Copy circuit for head 9.1 (sign=1) : Top 5 accuracy: 23.333333333333332%\n",
      "Copy circuit for head 9.4 (sign=1) : Top 5 accuracy: 95.23809523809523%\n",
      "Checkpoint 48000:\n",
      "Heads ablated:            [(9, 4)]\n",
      "Original logit diff:      3.4861955643\n",
      "Post ablation logit diff: 2.5028870106\n",
      "Logit diff % change:      -28.21%\n"
     ]
    },
    {
     "data": {
      "application/vnd.jupyter.widget-view+json": {
       "model_id": "9bc298428a594982a722d8e74f413bf2",
       "version_major": 2,
       "version_minor": 0
      },
      "text/plain": [
       "pytorch_model.bin:   0%|          | 0.00/375M [00:00<?, ?B/s]"
      ]
     },
     "metadata": {},
     "output_type": "display_data"
    },
    {
     "name": "stdout",
     "output_type": "stream",
     "text": [
      "Loaded model EleutherAI/pythia-160m-seed1 at step49000; now loading into HookedTransformer\n"
     ]
    },
    {
     "name": "stderr",
     "output_type": "stream",
     "text": [
      "Special tokens have been added in the vocabulary, make sure the associated word embeddings are fine-tuned or trained.\n"
     ]
    },
    {
     "name": "stdout",
     "output_type": "stream",
     "text": [
      "Loaded pretrained model pythia-160m into HookedTransformer\n",
      "Copy circuit for head 9.4 (sign=1) : Top 5 accuracy: 95.23809523809523%\n",
      "Copy circuit for head 9.1 (sign=1) : Top 5 accuracy: 22.857142857142858%\n",
      "Checkpoint 49000:\n",
      "Heads ablated:            [(9, 4)]\n",
      "Original logit diff:      4.0814199448\n",
      "Post ablation logit diff: 2.9077925682\n",
      "Logit diff % change:      -28.76%\n"
     ]
    },
    {
     "data": {
      "application/vnd.jupyter.widget-view+json": {
       "model_id": "eaf0d10469ea4df58d0a4589aa3685d0",
       "version_major": 2,
       "version_minor": 0
      },
      "text/plain": [
       "pytorch_model.bin:   0%|          | 0.00/375M [00:00<?, ?B/s]"
      ]
     },
     "metadata": {},
     "output_type": "display_data"
    },
    {
     "name": "stdout",
     "output_type": "stream",
     "text": [
      "Loaded model EleutherAI/pythia-160m-seed1 at step50000; now loading into HookedTransformer\n"
     ]
    },
    {
     "name": "stderr",
     "output_type": "stream",
     "text": [
      "Special tokens have been added in the vocabulary, make sure the associated word embeddings are fine-tuned or trained.\n"
     ]
    },
    {
     "name": "stdout",
     "output_type": "stream",
     "text": [
      "Loaded pretrained model pythia-160m into HookedTransformer\n",
      "Copy circuit for head 9.1 (sign=1) : Top 5 accuracy: 23.333333333333332%\n",
      "Copy circuit for head 9.4 (sign=1) : Top 5 accuracy: 95.71428571428572%\n",
      "Copy circuit for head 10.7 (sign=1) : Top 5 accuracy: 79.52380952380952%\n",
      "Checkpoint 50000:\n",
      "Heads ablated:            [(9, 4), (10, 7)]\n",
      "Original logit diff:      3.6973965168\n",
      "Post ablation logit diff: 2.6896388531\n",
      "Logit diff % change:      -27.26%\n"
     ]
    },
    {
     "data": {
      "application/vnd.jupyter.widget-view+json": {
       "model_id": "5458d1d172cd4d1c8c3fd780cbf9b327",
       "version_major": 2,
       "version_minor": 0
      },
      "text/plain": [
       "pytorch_model.bin:   0%|          | 0.00/375M [00:00<?, ?B/s]"
      ]
     },
     "metadata": {},
     "output_type": "display_data"
    },
    {
     "name": "stderr",
     "output_type": "stream",
     "text": [
      "Special tokens have been added in the vocabulary, make sure the associated word embeddings are fine-tuned or trained.\n"
     ]
    },
    {
     "name": "stdout",
     "output_type": "stream",
     "text": [
      "Loaded model EleutherAI/pythia-160m-seed1 at step51000; now loading into HookedTransformer\n",
      "Loaded pretrained model pythia-160m into HookedTransformer\n",
      "Copy circuit for head 9.1 (sign=1) : Top 5 accuracy: 22.380952380952383%\n",
      "Copy circuit for head 9.4 (sign=1) : Top 5 accuracy: 95.23809523809523%\n",
      "Copy circuit for head 10.7 (sign=1) : Top 5 accuracy: 79.52380952380952%\n",
      "Checkpoint 51000:\n",
      "Heads ablated:            [(9, 4), (10, 7)]\n",
      "Original logit diff:      3.2232468128\n",
      "Post ablation logit diff: 2.5220363140\n",
      "Logit diff % change:      -21.75%\n"
     ]
    },
    {
     "data": {
      "application/vnd.jupyter.widget-view+json": {
       "model_id": "7dc3c7a30bd247669b2ab4509fa25572",
       "version_major": 2,
       "version_minor": 0
      },
      "text/plain": [
       "pytorch_model.bin:   0%|          | 0.00/375M [00:00<?, ?B/s]"
      ]
     },
     "metadata": {},
     "output_type": "display_data"
    },
    {
     "name": "stdout",
     "output_type": "stream",
     "text": [
      "Loaded model EleutherAI/pythia-160m-seed1 at step52000; now loading into HookedTransformer\n"
     ]
    },
    {
     "name": "stderr",
     "output_type": "stream",
     "text": [
      "Special tokens have been added in the vocabulary, make sure the associated word embeddings are fine-tuned or trained.\n"
     ]
    },
    {
     "name": "stdout",
     "output_type": "stream",
     "text": [
      "Loaded pretrained model pythia-160m into HookedTransformer\n",
      "Copy circuit for head 9.10 (sign=1) : Top 5 accuracy: 30.0%\n",
      "Copy circuit for head 10.7 (sign=1) : Top 5 accuracy: 77.14285714285715%\n",
      "Copy circuit for head 9.4 (sign=1) : Top 5 accuracy: 95.23809523809523%\n",
      "Copy circuit for head 9.1 (sign=1) : Top 5 accuracy: 20.952380952380953%\n",
      "Checkpoint 52000:\n",
      "Heads ablated:            [(10, 7), (9, 4)]\n",
      "Original logit diff:      4.0100221634\n",
      "Post ablation logit diff: 2.9494888783\n",
      "Logit diff % change:      -26.45%\n"
     ]
    },
    {
     "data": {
      "application/vnd.jupyter.widget-view+json": {
       "model_id": "f0db71c0532b49b38bf72ed0ce15fd66",
       "version_major": 2,
       "version_minor": 0
      },
      "text/plain": [
       "pytorch_model.bin:   0%|          | 0.00/375M [00:00<?, ?B/s]"
      ]
     },
     "metadata": {},
     "output_type": "display_data"
    },
    {
     "name": "stdout",
     "output_type": "stream",
     "text": [
      "Loaded model EleutherAI/pythia-160m-seed1 at step53000; now loading into HookedTransformer\n"
     ]
    },
    {
     "name": "stderr",
     "output_type": "stream",
     "text": [
      "Special tokens have been added in the vocabulary, make sure the associated word embeddings are fine-tuned or trained.\n"
     ]
    },
    {
     "name": "stdout",
     "output_type": "stream",
     "text": [
      "Loaded pretrained model pythia-160m into HookedTransformer\n",
      "Copy circuit for head 9.10 (sign=1) : Top 5 accuracy: 32.38095238095238%\n",
      "Copy circuit for head 10.7 (sign=1) : Top 5 accuracy: 77.61904761904762%\n",
      "Copy circuit for head 10.9 (sign=1) : Top 5 accuracy: 21.904761904761905%\n",
      "Copy circuit for head 9.8 (sign=1) : Top 5 accuracy: 4.285714285714286%\n",
      "Copy circuit for head 7.9 (sign=1) : Top 5 accuracy: 100.0%\n",
      "Copy circuit for head 8.11 (sign=1) : Top 5 accuracy: 0.4761904761904762%\n",
      "Copy circuit for head 9.0 (sign=1) : Top 5 accuracy: 3.3333333333333335%\n",
      "Copy circuit for head 9.1 (sign=1) : Top 5 accuracy: 21.904761904761905%\n",
      "Copy circuit for head 9.4 (sign=1) : Top 5 accuracy: 95.23809523809523%\n",
      "Checkpoint 53000:\n",
      "Heads ablated:            [(10, 7), (7, 9), (9, 4)]\n",
      "Original logit diff:      4.2180585861\n",
      "Post ablation logit diff: 3.1862819195\n",
      "Logit diff % change:      -24.46%\n"
     ]
    },
    {
     "data": {
      "application/vnd.jupyter.widget-view+json": {
       "model_id": "cdc2cba7fd2347f1b0cba8191080964c",
       "version_major": 2,
       "version_minor": 0
      },
      "text/plain": [
       "pytorch_model.bin:   0%|          | 0.00/375M [00:00<?, ?B/s]"
      ]
     },
     "metadata": {},
     "output_type": "display_data"
    },
    {
     "name": "stdout",
     "output_type": "stream",
     "text": [
      "Loaded model EleutherAI/pythia-160m-seed1 at step54000; now loading into HookedTransformer\n"
     ]
    },
    {
     "name": "stderr",
     "output_type": "stream",
     "text": [
      "Special tokens have been added in the vocabulary, make sure the associated word embeddings are fine-tuned or trained.\n"
     ]
    },
    {
     "name": "stdout",
     "output_type": "stream",
     "text": [
      "Loaded pretrained model pythia-160m into HookedTransformer\n",
      "Copy circuit for head 9.1 (sign=1) : Top 5 accuracy: 22.380952380952383%\n",
      "Copy circuit for head 9.4 (sign=1) : Top 5 accuracy: 95.23809523809523%\n",
      "Copy circuit for head 10.7 (sign=1) : Top 5 accuracy: 76.66666666666667%\n",
      "Checkpoint 54000:\n",
      "Heads ablated:            [(9, 4), (10, 7)]\n",
      "Original logit diff:      4.1220326424\n",
      "Post ablation logit diff: 3.1170897484\n",
      "Logit diff % change:      -24.38%\n"
     ]
    },
    {
     "data": {
      "application/vnd.jupyter.widget-view+json": {
       "model_id": "86126191dd1a4ab9a466a381a6ec39ad",
       "version_major": 2,
       "version_minor": 0
      },
      "text/plain": [
       "pytorch_model.bin:   0%|          | 0.00/375M [00:00<?, ?B/s]"
      ]
     },
     "metadata": {},
     "output_type": "display_data"
    },
    {
     "name": "stdout",
     "output_type": "stream",
     "text": [
      "Loaded model EleutherAI/pythia-160m-seed1 at step55000; now loading into HookedTransformer\n"
     ]
    },
    {
     "name": "stderr",
     "output_type": "stream",
     "text": [
      "Special tokens have been added in the vocabulary, make sure the associated word embeddings are fine-tuned or trained.\n"
     ]
    },
    {
     "name": "stdout",
     "output_type": "stream",
     "text": [
      "Loaded pretrained model pythia-160m into HookedTransformer\n",
      "Copy circuit for head 9.4 (sign=1) : Top 5 accuracy: 95.23809523809523%\n",
      "Copy circuit for head 9.1 (sign=1) : Top 5 accuracy: 20.476190476190474%\n",
      "Copy circuit for head 10.7 (sign=1) : Top 5 accuracy: 78.0952380952381%\n",
      "Checkpoint 55000:\n",
      "Heads ablated:            [(9, 4), (10, 7)]\n",
      "Original logit diff:      3.6567335129\n",
      "Post ablation logit diff: 2.7164523602\n",
      "Logit diff % change:      -25.71%\n"
     ]
    },
    {
     "data": {
      "application/vnd.jupyter.widget-view+json": {
       "model_id": "9dc7795965ed443d91709f61dec651ac",
       "version_major": 2,
       "version_minor": 0
      },
      "text/plain": [
       "pytorch_model.bin:   0%|          | 0.00/375M [00:00<?, ?B/s]"
      ]
     },
     "metadata": {},
     "output_type": "display_data"
    },
    {
     "name": "stderr",
     "output_type": "stream",
     "text": [
      "Special tokens have been added in the vocabulary, make sure the associated word embeddings are fine-tuned or trained.\n"
     ]
    },
    {
     "name": "stdout",
     "output_type": "stream",
     "text": [
      "Loaded model EleutherAI/pythia-160m-seed1 at step56000; now loading into HookedTransformer\n",
      "Loaded pretrained model pythia-160m into HookedTransformer\n",
      "Copy circuit for head 9.4 (sign=1) : Top 5 accuracy: 95.23809523809523%\n",
      "Copy circuit for head 9.1 (sign=1) : Top 5 accuracy: 21.428571428571427%\n",
      "Copy circuit for head 10.7 (sign=1) : Top 5 accuracy: 78.57142857142857%\n",
      "Copy circuit for head 9.10 (sign=1) : Top 5 accuracy: 35.714285714285715%\n",
      "Checkpoint 56000:\n",
      "Heads ablated:            [(9, 4), (10, 7)]\n",
      "Original logit diff:      3.6387138367\n",
      "Post ablation logit diff: 2.5444419384\n",
      "Logit diff % change:      -30.07%\n"
     ]
    },
    {
     "data": {
      "application/vnd.jupyter.widget-view+json": {
       "model_id": "d6e23a6d798b462fa4ae6dd7016e6ace",
       "version_major": 2,
       "version_minor": 0
      },
      "text/plain": [
       "pytorch_model.bin:   0%|          | 0.00/375M [00:00<?, ?B/s]"
      ]
     },
     "metadata": {},
     "output_type": "display_data"
    },
    {
     "name": "stderr",
     "output_type": "stream",
     "text": [
      "Special tokens have been added in the vocabulary, make sure the associated word embeddings are fine-tuned or trained.\n"
     ]
    },
    {
     "name": "stdout",
     "output_type": "stream",
     "text": [
      "Loaded model EleutherAI/pythia-160m-seed1 at step57000; now loading into HookedTransformer\n",
      "Loaded pretrained model pythia-160m into HookedTransformer\n",
      "Copy circuit for head 9.4 (sign=1) : Top 5 accuracy: 95.23809523809523%\n",
      "Copy circuit for head 9.1 (sign=1) : Top 5 accuracy: 24.761904761904763%\n",
      "Copy circuit for head 10.7 (sign=1) : Top 5 accuracy: 77.14285714285715%\n",
      "Copy circuit for head 9.10 (sign=1) : Top 5 accuracy: 30.952380952380953%\n",
      "Checkpoint 57000:\n",
      "Heads ablated:            [(9, 4), (10, 7)]\n",
      "Original logit diff:      3.9495539665\n",
      "Post ablation logit diff: 3.0349915028\n",
      "Logit diff % change:      -23.16%\n"
     ]
    },
    {
     "data": {
      "application/vnd.jupyter.widget-view+json": {
       "model_id": "2eea4ade357c4671a4226fe61384e7ce",
       "version_major": 2,
       "version_minor": 0
      },
      "text/plain": [
       "pytorch_model.bin:   0%|          | 0.00/375M [00:00<?, ?B/s]"
      ]
     },
     "metadata": {},
     "output_type": "display_data"
    },
    {
     "name": "stderr",
     "output_type": "stream",
     "text": [
      "Special tokens have been added in the vocabulary, make sure the associated word embeddings are fine-tuned or trained.\n"
     ]
    },
    {
     "name": "stdout",
     "output_type": "stream",
     "text": [
      "Loaded model EleutherAI/pythia-160m-seed1 at step58000; now loading into HookedTransformer\n",
      "Loaded pretrained model pythia-160m into HookedTransformer\n",
      "Copy circuit for head 10.7 (sign=1) : Top 5 accuracy: 77.61904761904762%\n",
      "Copy circuit for head 9.4 (sign=1) : Top 5 accuracy: 95.23809523809523%\n",
      "Checkpoint 58000:\n",
      "Heads ablated:            [(10, 7), (9, 4)]\n",
      "Original logit diff:      3.7310407162\n",
      "Post ablation logit diff: 2.8688542843\n",
      "Logit diff % change:      -23.11%\n"
     ]
    },
    {
     "data": {
      "application/vnd.jupyter.widget-view+json": {
       "model_id": "2f6e994cc020466881284c6545cc8a8a",
       "version_major": 2,
       "version_minor": 0
      },
      "text/plain": [
       "pytorch_model.bin:   0%|          | 0.00/375M [00:00<?, ?B/s]"
      ]
     },
     "metadata": {},
     "output_type": "display_data"
    },
    {
     "name": "stderr",
     "output_type": "stream",
     "text": [
      "Special tokens have been added in the vocabulary, make sure the associated word embeddings are fine-tuned or trained.\n"
     ]
    },
    {
     "name": "stdout",
     "output_type": "stream",
     "text": [
      "Loaded model EleutherAI/pythia-160m-seed1 at step59000; now loading into HookedTransformer\n",
      "Loaded pretrained model pythia-160m into HookedTransformer\n",
      "Copy circuit for head 9.1 (sign=1) : Top 5 accuracy: 21.904761904761905%\n",
      "Copy circuit for head 9.4 (sign=1) : Top 5 accuracy: 95.23809523809523%\n",
      "Checkpoint 59000:\n",
      "Heads ablated:            [(9, 4)]\n",
      "Original logit diff:      4.0946054459\n",
      "Post ablation logit diff: 3.0021619797\n",
      "Logit diff % change:      -26.68%\n"
     ]
    },
    {
     "data": {
      "application/vnd.jupyter.widget-view+json": {
       "model_id": "f80bec35684c4e60bd5cf46a42bcc31e",
       "version_major": 2,
       "version_minor": 0
      },
      "text/plain": [
       "pytorch_model.bin:   0%|          | 0.00/375M [00:00<?, ?B/s]"
      ]
     },
     "metadata": {},
     "output_type": "display_data"
    },
    {
     "name": "stdout",
     "output_type": "stream",
     "text": [
      "Loaded model EleutherAI/pythia-160m-seed1 at step60000; now loading into HookedTransformer\n"
     ]
    },
    {
     "name": "stderr",
     "output_type": "stream",
     "text": [
      "Special tokens have been added in the vocabulary, make sure the associated word embeddings are fine-tuned or trained.\n"
     ]
    },
    {
     "name": "stdout",
     "output_type": "stream",
     "text": [
      "Loaded pretrained model pythia-160m into HookedTransformer\n",
      "Copy circuit for head 9.4 (sign=1) : Top 5 accuracy: 95.23809523809523%\n",
      "Copy circuit for head 9.1 (sign=1) : Top 5 accuracy: 20.0%\n",
      "Checkpoint 60000:\n",
      "Heads ablated:            [(9, 4)]\n",
      "Original logit diff:      3.9870021343\n",
      "Post ablation logit diff: 2.7961189747\n",
      "Logit diff % change:      -29.87%\n"
     ]
    },
    {
     "data": {
      "application/vnd.jupyter.widget-view+json": {
       "model_id": "c3dc34f6e30b46fc9646632be916f99b",
       "version_major": 2,
       "version_minor": 0
      },
      "text/plain": [
       "pytorch_model.bin:   0%|          | 0.00/375M [00:00<?, ?B/s]"
      ]
     },
     "metadata": {},
     "output_type": "display_data"
    },
    {
     "name": "stderr",
     "output_type": "stream",
     "text": [
      "Special tokens have been added in the vocabulary, make sure the associated word embeddings are fine-tuned or trained.\n"
     ]
    },
    {
     "name": "stdout",
     "output_type": "stream",
     "text": [
      "Loaded model EleutherAI/pythia-160m-seed1 at step61000; now loading into HookedTransformer\n",
      "Loaded pretrained model pythia-160m into HookedTransformer\n",
      "Copy circuit for head 9.4 (sign=1) : Top 5 accuracy: 95.23809523809523%\n",
      "Copy circuit for head 9.1 (sign=1) : Top 5 accuracy: 19.523809523809526%\n",
      "Checkpoint 61000:\n",
      "Heads ablated:            [(9, 4)]\n",
      "Original logit diff:      4.5288734436\n",
      "Post ablation logit diff: 3.2354993820\n",
      "Logit diff % change:      -28.56%\n"
     ]
    },
    {
     "data": {
      "application/vnd.jupyter.widget-view+json": {
       "model_id": "7391fb55401949818d07db493911cca4",
       "version_major": 2,
       "version_minor": 0
      },
      "text/plain": [
       "pytorch_model.bin:   0%|          | 0.00/375M [00:00<?, ?B/s]"
      ]
     },
     "metadata": {},
     "output_type": "display_data"
    },
    {
     "name": "stdout",
     "output_type": "stream",
     "text": [
      "Loaded model EleutherAI/pythia-160m-seed1 at step62000; now loading into HookedTransformer\n"
     ]
    },
    {
     "name": "stderr",
     "output_type": "stream",
     "text": [
      "Special tokens have been added in the vocabulary, make sure the associated word embeddings are fine-tuned or trained.\n"
     ]
    },
    {
     "name": "stdout",
     "output_type": "stream",
     "text": [
      "Loaded pretrained model pythia-160m into HookedTransformer\n",
      "Copy circuit for head 9.1 (sign=1) : Top 5 accuracy: 18.571428571428573%\n",
      "Copy circuit for head 9.4 (sign=1) : Top 5 accuracy: 95.23809523809523%\n",
      "Checkpoint 62000:\n",
      "Heads ablated:            [(9, 4)]\n",
      "Original logit diff:      4.3536715508\n",
      "Post ablation logit diff: 3.1797568798\n",
      "Logit diff % change:      -26.96%\n"
     ]
    },
    {
     "data": {
      "application/vnd.jupyter.widget-view+json": {
       "model_id": "15b7916723614c339f7eba8ce16e7d9e",
       "version_major": 2,
       "version_minor": 0
      },
      "text/plain": [
       "pytorch_model.bin:   0%|          | 0.00/375M [00:00<?, ?B/s]"
      ]
     },
     "metadata": {},
     "output_type": "display_data"
    },
    {
     "name": "stdout",
     "output_type": "stream",
     "text": [
      "Loaded model EleutherAI/pythia-160m-seed1 at step63000; now loading into HookedTransformer\n"
     ]
    },
    {
     "name": "stderr",
     "output_type": "stream",
     "text": [
      "Special tokens have been added in the vocabulary, make sure the associated word embeddings are fine-tuned or trained.\n"
     ]
    },
    {
     "name": "stdout",
     "output_type": "stream",
     "text": [
      "Loaded pretrained model pythia-160m into HookedTransformer\n",
      "Copy circuit for head 9.10 (sign=1) : Top 5 accuracy: 32.857142857142854%\n",
      "Copy circuit for head 10.7 (sign=1) : Top 5 accuracy: 79.04761904761905%\n",
      "Copy circuit for head 9.4 (sign=1) : Top 5 accuracy: 95.23809523809523%\n",
      "Copy circuit for head 9.1 (sign=1) : Top 5 accuracy: 20.952380952380953%\n",
      "Checkpoint 63000:\n",
      "Heads ablated:            [(10, 7), (9, 4)]\n",
      "Original logit diff:      3.9957475662\n",
      "Post ablation logit diff: 3.0076088905\n",
      "Logit diff % change:      -24.73%\n"
     ]
    },
    {
     "data": {
      "application/vnd.jupyter.widget-view+json": {
       "model_id": "5d8e5dc14eec4d02b7ebd0c6a4cac89c",
       "version_major": 2,
       "version_minor": 0
      },
      "text/plain": [
       "pytorch_model.bin:   0%|          | 0.00/375M [00:00<?, ?B/s]"
      ]
     },
     "metadata": {},
     "output_type": "display_data"
    },
    {
     "name": "stderr",
     "output_type": "stream",
     "text": [
      "Special tokens have been added in the vocabulary, make sure the associated word embeddings are fine-tuned or trained.\n"
     ]
    },
    {
     "name": "stdout",
     "output_type": "stream",
     "text": [
      "Loaded model EleutherAI/pythia-160m-seed1 at step64000; now loading into HookedTransformer\n",
      "Loaded pretrained model pythia-160m into HookedTransformer\n",
      "Copy circuit for head 9.1 (sign=1) : Top 5 accuracy: 18.095238095238095%\n",
      "Copy circuit for head 9.4 (sign=1) : Top 5 accuracy: 95.23809523809523%\n",
      "Checkpoint 64000:\n",
      "Heads ablated:            [(9, 4)]\n",
      "Original logit diff:      4.0706906319\n",
      "Post ablation logit diff: 2.8701951504\n",
      "Logit diff % change:      -29.49%\n"
     ]
    },
    {
     "data": {
      "application/vnd.jupyter.widget-view+json": {
       "model_id": "df321ebb3d234c1b881c5aba860fe6e4",
       "version_major": 2,
       "version_minor": 0
      },
      "text/plain": [
       "pytorch_model.bin:   0%|          | 0.00/375M [00:00<?, ?B/s]"
      ]
     },
     "metadata": {},
     "output_type": "display_data"
    },
    {
     "name": "stderr",
     "output_type": "stream",
     "text": [
      "Special tokens have been added in the vocabulary, make sure the associated word embeddings are fine-tuned or trained.\n"
     ]
    },
    {
     "name": "stdout",
     "output_type": "stream",
     "text": [
      "Loaded model EleutherAI/pythia-160m-seed1 at step65000; now loading into HookedTransformer\n",
      "Loaded pretrained model pythia-160m into HookedTransformer\n",
      "Copy circuit for head 9.4 (sign=1) : Top 5 accuracy: 95.23809523809523%\n",
      "Copy circuit for head 9.1 (sign=1) : Top 5 accuracy: 21.904761904761905%\n",
      "Copy circuit for head 7.9 (sign=1) : Top 5 accuracy: 100.0%\n",
      "Copy circuit for head 9.8 (sign=1) : Top 5 accuracy: 4.285714285714286%\n",
      "Copy circuit for head 10.7 (sign=1) : Top 5 accuracy: 78.0952380952381%\n",
      "Copy circuit for head 9.10 (sign=1) : Top 5 accuracy: 30.952380952380953%\n",
      "Checkpoint 65000:\n",
      "Heads ablated:            [(9, 4), (7, 9), (10, 7)]\n",
      "Original logit diff:      3.8199245930\n",
      "Post ablation logit diff: 2.9957001209\n",
      "Logit diff % change:      -21.58%\n"
     ]
    },
    {
     "data": {
      "application/vnd.jupyter.widget-view+json": {
       "model_id": "57e0081293bf483ea8b0a24cab60632d",
       "version_major": 2,
       "version_minor": 0
      },
      "text/plain": [
       "pytorch_model.bin:   0%|          | 0.00/375M [00:00<?, ?B/s]"
      ]
     },
     "metadata": {},
     "output_type": "display_data"
    },
    {
     "name": "stderr",
     "output_type": "stream",
     "text": [
      "Special tokens have been added in the vocabulary, make sure the associated word embeddings are fine-tuned or trained.\n"
     ]
    },
    {
     "name": "stdout",
     "output_type": "stream",
     "text": [
      "Loaded model EleutherAI/pythia-160m-seed1 at step66000; now loading into HookedTransformer\n",
      "Loaded pretrained model pythia-160m into HookedTransformer\n",
      "Copy circuit for head 9.4 (sign=1) : Top 5 accuracy: 95.23809523809523%\n",
      "Copy circuit for head 9.1 (sign=1) : Top 5 accuracy: 19.047619047619047%\n",
      "Copy circuit for head 9.8 (sign=1) : Top 5 accuracy: 3.3333333333333335%\n",
      "Copy circuit for head 10.7 (sign=1) : Top 5 accuracy: 78.57142857142857%\n",
      "Copy circuit for head 9.10 (sign=1) : Top 5 accuracy: 33.80952380952381%\n",
      "Checkpoint 66000:\n",
      "Heads ablated:            [(9, 4), (10, 7)]\n",
      "Original logit diff:      4.2061839104\n",
      "Post ablation logit diff: 3.2141239643\n",
      "Logit diff % change:      -23.59%\n"
     ]
    },
    {
     "data": {
      "application/vnd.jupyter.widget-view+json": {
       "model_id": "f5e0d627702f45a29d34e43136716987",
       "version_major": 2,
       "version_minor": 0
      },
      "text/plain": [
       "pytorch_model.bin:   0%|          | 0.00/375M [00:00<?, ?B/s]"
      ]
     },
     "metadata": {},
     "output_type": "display_data"
    },
    {
     "name": "stdout",
     "output_type": "stream",
     "text": [
      "Loaded model EleutherAI/pythia-160m-seed1 at step67000; now loading into HookedTransformer\n"
     ]
    },
    {
     "name": "stderr",
     "output_type": "stream",
     "text": [
      "Special tokens have been added in the vocabulary, make sure the associated word embeddings are fine-tuned or trained.\n"
     ]
    },
    {
     "name": "stdout",
     "output_type": "stream",
     "text": [
      "Loaded pretrained model pythia-160m into HookedTransformer\n",
      "Copy circuit for head 9.4 (sign=1) : Top 5 accuracy: 95.23809523809523%\n",
      "Copy circuit for head 9.1 (sign=1) : Top 5 accuracy: 20.0%\n",
      "Copy circuit for head 9.8 (sign=1) : Top 5 accuracy: 2.380952380952381%\n",
      "Copy circuit for head 9.10 (sign=1) : Top 5 accuracy: 30.0%\n",
      "Copy circuit for head 10.7 (sign=1) : Top 5 accuracy: 78.57142857142857%\n",
      "Checkpoint 67000:\n",
      "Heads ablated:            [(9, 4), (10, 7)]\n",
      "Original logit diff:      3.7779767513\n",
      "Post ablation logit diff: 2.9182565212\n",
      "Logit diff % change:      -22.76%\n"
     ]
    },
    {
     "data": {
      "application/vnd.jupyter.widget-view+json": {
       "model_id": "1d583f72afea482998939d419274024c",
       "version_major": 2,
       "version_minor": 0
      },
      "text/plain": [
       "pytorch_model.bin:   0%|          | 0.00/375M [00:00<?, ?B/s]"
      ]
     },
     "metadata": {},
     "output_type": "display_data"
    },
    {
     "name": "stdout",
     "output_type": "stream",
     "text": [
      "Loaded model EleutherAI/pythia-160m-seed1 at step68000; now loading into HookedTransformer\n"
     ]
    },
    {
     "name": "stderr",
     "output_type": "stream",
     "text": [
      "Special tokens have been added in the vocabulary, make sure the associated word embeddings are fine-tuned or trained.\n"
     ]
    },
    {
     "name": "stdout",
     "output_type": "stream",
     "text": [
      "Loaded pretrained model pythia-160m into HookedTransformer\n",
      "Copy circuit for head 9.4 (sign=1) : Top 5 accuracy: 98.57142857142858%\n",
      "Copy circuit for head 9.1 (sign=1) : Top 5 accuracy: 16.666666666666664%\n",
      "Checkpoint 68000:\n",
      "Heads ablated:            [(9, 4)]\n",
      "Original logit diff:      3.8012237549\n",
      "Post ablation logit diff: 2.6346006393\n",
      "Logit diff % change:      -30.69%\n"
     ]
    },
    {
     "data": {
      "application/vnd.jupyter.widget-view+json": {
       "model_id": "778c9a1fd96e4bd593f57aa7cb75b5b7",
       "version_major": 2,
       "version_minor": 0
      },
      "text/plain": [
       "pytorch_model.bin:   0%|          | 0.00/375M [00:00<?, ?B/s]"
      ]
     },
     "metadata": {},
     "output_type": "display_data"
    },
    {
     "name": "stdout",
     "output_type": "stream",
     "text": [
      "Loaded model EleutherAI/pythia-160m-seed1 at step69000; now loading into HookedTransformer\n"
     ]
    },
    {
     "name": "stderr",
     "output_type": "stream",
     "text": [
      "Special tokens have been added in the vocabulary, make sure the associated word embeddings are fine-tuned or trained.\n"
     ]
    },
    {
     "name": "stdout",
     "output_type": "stream",
     "text": [
      "Loaded pretrained model pythia-160m into HookedTransformer\n",
      "Copy circuit for head 9.1 (sign=1) : Top 5 accuracy: 17.61904761904762%\n",
      "Copy circuit for head 9.4 (sign=1) : Top 5 accuracy: 98.09523809523809%\n",
      "Checkpoint 69000:\n",
      "Heads ablated:            [(9, 4)]\n",
      "Original logit diff:      3.9573757648\n",
      "Post ablation logit diff: 2.7337894440\n",
      "Logit diff % change:      -30.92%\n"
     ]
    },
    {
     "data": {
      "application/vnd.jupyter.widget-view+json": {
       "model_id": "74040286f7c341aea3959139e1b19c8b",
       "version_major": 2,
       "version_minor": 0
      },
      "text/plain": [
       "pytorch_model.bin:   0%|          | 0.00/375M [00:00<?, ?B/s]"
      ]
     },
     "metadata": {},
     "output_type": "display_data"
    },
    {
     "name": "stdout",
     "output_type": "stream",
     "text": [
      "Loaded model EleutherAI/pythia-160m-seed1 at step70000; now loading into HookedTransformer\n"
     ]
    },
    {
     "name": "stderr",
     "output_type": "stream",
     "text": [
      "Special tokens have been added in the vocabulary, make sure the associated word embeddings are fine-tuned or trained.\n"
     ]
    },
    {
     "name": "stdout",
     "output_type": "stream",
     "text": [
      "Loaded pretrained model pythia-160m into HookedTransformer\n",
      "Copy circuit for head 9.10 (sign=1) : Top 5 accuracy: 29.523809523809526%\n",
      "Copy circuit for head 9.8 (sign=1) : Top 5 accuracy: 7.6190476190476195%\n",
      "Copy circuit for head 9.1 (sign=1) : Top 5 accuracy: 22.380952380952383%\n",
      "Copy circuit for head 9.4 (sign=1) : Top 5 accuracy: 98.57142857142858%\n",
      "Checkpoint 70000:\n",
      "Heads ablated:            [(9, 4)]\n",
      "Original logit diff:      4.5520052910\n",
      "Post ablation logit diff: 3.2888369560\n",
      "Logit diff % change:      -27.75%\n"
     ]
    },
    {
     "data": {
      "application/vnd.jupyter.widget-view+json": {
       "model_id": "1335ba828e484a59a0a642c9aa6656c3",
       "version_major": 2,
       "version_minor": 0
      },
      "text/plain": [
       "pytorch_model.bin:   0%|          | 0.00/375M [00:00<?, ?B/s]"
      ]
     },
     "metadata": {},
     "output_type": "display_data"
    },
    {
     "name": "stdout",
     "output_type": "stream",
     "text": [
      "Loaded model EleutherAI/pythia-160m-seed1 at step71000; now loading into HookedTransformer\n"
     ]
    },
    {
     "name": "stderr",
     "output_type": "stream",
     "text": [
      "Special tokens have been added in the vocabulary, make sure the associated word embeddings are fine-tuned or trained.\n"
     ]
    },
    {
     "name": "stdout",
     "output_type": "stream",
     "text": [
      "Loaded pretrained model pythia-160m into HookedTransformer\n",
      "Copy circuit for head 9.10 (sign=1) : Top 5 accuracy: 26.190476190476193%\n",
      "Copy circuit for head 9.8 (sign=1) : Top 5 accuracy: 7.142857142857142%\n",
      "Copy circuit for head 9.0 (sign=1) : Top 5 accuracy: 5.238095238095238%\n",
      "Copy circuit for head 9.1 (sign=1) : Top 5 accuracy: 23.809523809523807%\n",
      "Copy circuit for head 9.4 (sign=1) : Top 5 accuracy: 98.57142857142858%\n",
      "Checkpoint 71000:\n",
      "Heads ablated:            [(9, 4)]\n",
      "Original logit diff:      4.3181972504\n",
      "Post ablation logit diff: 2.9645009041\n",
      "Logit diff % change:      -31.35%\n"
     ]
    },
    {
     "data": {
      "application/vnd.jupyter.widget-view+json": {
       "model_id": "10a91985fd7e41f9b3e5b6754d8ebc5f",
       "version_major": 2,
       "version_minor": 0
      },
      "text/plain": [
       "pytorch_model.bin:   0%|          | 0.00/375M [00:00<?, ?B/s]"
      ]
     },
     "metadata": {},
     "output_type": "display_data"
    },
    {
     "name": "stdout",
     "output_type": "stream",
     "text": [
      "Loaded model EleutherAI/pythia-160m-seed1 at step72000; now loading into HookedTransformer\n"
     ]
    },
    {
     "name": "stderr",
     "output_type": "stream",
     "text": [
      "Special tokens have been added in the vocabulary, make sure the associated word embeddings are fine-tuned or trained.\n"
     ]
    },
    {
     "name": "stdout",
     "output_type": "stream",
     "text": [
      "Loaded pretrained model pythia-160m into HookedTransformer\n",
      "Copy circuit for head 9.4 (sign=1) : Top 5 accuracy: 98.57142857142858%\n",
      "Copy circuit for head 9.1 (sign=1) : Top 5 accuracy: 24.285714285714285%\n",
      "Copy circuit for head 9.0 (sign=1) : Top 5 accuracy: 4.761904761904762%\n",
      "Copy circuit for head 9.8 (sign=1) : Top 5 accuracy: 7.142857142857142%\n",
      "Copy circuit for head 9.10 (sign=1) : Top 5 accuracy: 24.761904761904763%\n",
      "Checkpoint 72000:\n",
      "Heads ablated:            [(9, 4)]\n",
      "Original logit diff:      4.2969908714\n",
      "Post ablation logit diff: 2.9704041481\n",
      "Logit diff % change:      -30.87%\n"
     ]
    },
    {
     "data": {
      "application/vnd.jupyter.widget-view+json": {
       "model_id": "8a4eef189ce8462bbc11280d7033801e",
       "version_major": 2,
       "version_minor": 0
      },
      "text/plain": [
       "pytorch_model.bin:   0%|          | 0.00/375M [00:00<?, ?B/s]"
      ]
     },
     "metadata": {},
     "output_type": "display_data"
    },
    {
     "name": "stdout",
     "output_type": "stream",
     "text": [
      "Loaded model EleutherAI/pythia-160m-seed1 at step73000; now loading into HookedTransformer\n"
     ]
    },
    {
     "name": "stderr",
     "output_type": "stream",
     "text": [
      "Special tokens have been added in the vocabulary, make sure the associated word embeddings are fine-tuned or trained.\n"
     ]
    },
    {
     "name": "stdout",
     "output_type": "stream",
     "text": [
      "Loaded pretrained model pythia-160m into HookedTransformer\n",
      "Copy circuit for head 9.10 (sign=1) : Top 5 accuracy: 29.523809523809526%\n",
      "Copy circuit for head 9.8 (sign=1) : Top 5 accuracy: 3.8095238095238098%\n",
      "Copy circuit for head 9.0 (sign=1) : Top 5 accuracy: 4.761904761904762%\n",
      "Copy circuit for head 9.1 (sign=1) : Top 5 accuracy: 24.285714285714285%\n",
      "Copy circuit for head 9.4 (sign=1) : Top 5 accuracy: 97.61904761904762%\n",
      "Checkpoint 73000:\n",
      "Heads ablated:            [(9, 4)]\n",
      "Original logit diff:      4.1196913719\n",
      "Post ablation logit diff: 2.8461194038\n",
      "Logit diff % change:      -30.91%\n"
     ]
    },
    {
     "data": {
      "application/vnd.jupyter.widget-view+json": {
       "model_id": "96235e627b2743cc8ff51b169ac6d880",
       "version_major": 2,
       "version_minor": 0
      },
      "text/plain": [
       "pytorch_model.bin:   0%|          | 0.00/375M [00:00<?, ?B/s]"
      ]
     },
     "metadata": {},
     "output_type": "display_data"
    },
    {
     "name": "stdout",
     "output_type": "stream",
     "text": [
      "Loaded model EleutherAI/pythia-160m-seed1 at step74000; now loading into HookedTransformer\n"
     ]
    },
    {
     "name": "stderr",
     "output_type": "stream",
     "text": [
      "Special tokens have been added in the vocabulary, make sure the associated word embeddings are fine-tuned or trained.\n"
     ]
    },
    {
     "name": "stdout",
     "output_type": "stream",
     "text": [
      "Loaded pretrained model pythia-160m into HookedTransformer\n",
      "Copy circuit for head 9.4 (sign=1) : Top 5 accuracy: 95.23809523809523%\n",
      "Copy circuit for head 9.1 (sign=1) : Top 5 accuracy: 27.142857142857142%\n",
      "Copy circuit for head 9.0 (sign=1) : Top 5 accuracy: 6.190476190476191%\n",
      "Copy circuit for head 9.8 (sign=1) : Top 5 accuracy: 4.761904761904762%\n",
      "Copy circuit for head 9.10 (sign=1) : Top 5 accuracy: 31.9047619047619%\n",
      "Checkpoint 74000:\n",
      "Heads ablated:            [(9, 4)]\n",
      "Original logit diff:      4.7691187859\n",
      "Post ablation logit diff: 3.5346071720\n",
      "Logit diff % change:      -25.89%\n"
     ]
    },
    {
     "data": {
      "application/vnd.jupyter.widget-view+json": {
       "model_id": "2d1098c085fd48e6a3caa9effeced43d",
       "version_major": 2,
       "version_minor": 0
      },
      "text/plain": [
       "pytorch_model.bin:   0%|          | 0.00/375M [00:00<?, ?B/s]"
      ]
     },
     "metadata": {},
     "output_type": "display_data"
    },
    {
     "name": "stdout",
     "output_type": "stream",
     "text": [
      "Loaded model EleutherAI/pythia-160m-seed1 at step75000; now loading into HookedTransformer\n"
     ]
    },
    {
     "name": "stderr",
     "output_type": "stream",
     "text": [
      "Special tokens have been added in the vocabulary, make sure the associated word embeddings are fine-tuned or trained.\n"
     ]
    },
    {
     "name": "stdout",
     "output_type": "stream",
     "text": [
      "Loaded pretrained model pythia-160m into HookedTransformer\n",
      "Copy circuit for head 9.4 (sign=1) : Top 5 accuracy: 96.19047619047619%\n",
      "Copy circuit for head 9.1 (sign=1) : Top 5 accuracy: 30.0%\n",
      "Copy circuit for head 9.0 (sign=1) : Top 5 accuracy: 7.142857142857142%\n",
      "Copy circuit for head 9.8 (sign=1) : Top 5 accuracy: 3.8095238095238098%\n",
      "Copy circuit for head 9.10 (sign=1) : Top 5 accuracy: 30.476190476190478%\n",
      "Checkpoint 75000:\n",
      "Heads ablated:            [(9, 4)]\n",
      "Original logit diff:      4.2502665520\n",
      "Post ablation logit diff: 3.1139261723\n",
      "Logit diff % change:      -26.74%\n"
     ]
    },
    {
     "data": {
      "application/vnd.jupyter.widget-view+json": {
       "model_id": "ee329c1417bb4595a0c5ad95f345e24e",
       "version_major": 2,
       "version_minor": 0
      },
      "text/plain": [
       "pytorch_model.bin:   0%|          | 0.00/375M [00:00<?, ?B/s]"
      ]
     },
     "metadata": {},
     "output_type": "display_data"
    },
    {
     "name": "stdout",
     "output_type": "stream",
     "text": [
      "Loaded model EleutherAI/pythia-160m-seed1 at step76000; now loading into HookedTransformer\n"
     ]
    },
    {
     "name": "stderr",
     "output_type": "stream",
     "text": [
      "Special tokens have been added in the vocabulary, make sure the associated word embeddings are fine-tuned or trained.\n"
     ]
    },
    {
     "name": "stdout",
     "output_type": "stream",
     "text": [
      "Loaded pretrained model pythia-160m into HookedTransformer\n",
      "Copy circuit for head 9.4 (sign=1) : Top 5 accuracy: 95.23809523809523%\n",
      "Copy circuit for head 9.1 (sign=1) : Top 5 accuracy: 29.523809523809526%\n",
      "Copy circuit for head 9.0 (sign=1) : Top 5 accuracy: 7.142857142857142%\n",
      "Copy circuit for head 9.8 (sign=1) : Top 5 accuracy: 5.714285714285714%\n",
      "Copy circuit for head 9.10 (sign=1) : Top 5 accuracy: 30.476190476190478%\n",
      "Checkpoint 76000:\n",
      "Heads ablated:            [(9, 4)]\n",
      "Original logit diff:      4.6031956673\n",
      "Post ablation logit diff: 3.3143250942\n",
      "Logit diff % change:      -28.00%\n"
     ]
    },
    {
     "data": {
      "application/vnd.jupyter.widget-view+json": {
       "model_id": "1f0e1b0792a34e1392f1e9336b838ef3",
       "version_major": 2,
       "version_minor": 0
      },
      "text/plain": [
       "pytorch_model.bin:   0%|          | 0.00/375M [00:00<?, ?B/s]"
      ]
     },
     "metadata": {},
     "output_type": "display_data"
    },
    {
     "name": "stdout",
     "output_type": "stream",
     "text": [
      "Loaded model EleutherAI/pythia-160m-seed1 at step77000; now loading into HookedTransformer\n"
     ]
    },
    {
     "name": "stderr",
     "output_type": "stream",
     "text": [
      "Special tokens have been added in the vocabulary, make sure the associated word embeddings are fine-tuned or trained.\n"
     ]
    },
    {
     "name": "stdout",
     "output_type": "stream",
     "text": [
      "Loaded pretrained model pythia-160m into HookedTransformer\n",
      "Copy circuit for head 9.4 (sign=1) : Top 5 accuracy: 98.57142857142858%\n",
      "Copy circuit for head 9.1 (sign=1) : Top 5 accuracy: 35.714285714285715%\n",
      "Copy circuit for head 9.0 (sign=1) : Top 5 accuracy: 7.142857142857142%\n",
      "Copy circuit for head 7.9 (sign=1) : Top 5 accuracy: 100.0%\n",
      "Copy circuit for head 9.8 (sign=1) : Top 5 accuracy: 6.190476190476191%\n",
      "Copy circuit for head 9.10 (sign=1) : Top 5 accuracy: 29.04761904761905%\n",
      "Copy circuit for head 10.7 (sign=1) : Top 5 accuracy: 68.0952380952381%\n",
      "Checkpoint 77000:\n",
      "Heads ablated:            [(9, 4), (7, 9)]\n",
      "Original logit diff:      4.2473039627\n",
      "Post ablation logit diff: 3.4592707157\n",
      "Logit diff % change:      -18.55%\n"
     ]
    },
    {
     "data": {
      "application/vnd.jupyter.widget-view+json": {
       "model_id": "a602fb417b3141519d87a129a4d06ab2",
       "version_major": 2,
       "version_minor": 0
      },
      "text/plain": [
       "pytorch_model.bin:   0%|          | 0.00/375M [00:00<?, ?B/s]"
      ]
     },
     "metadata": {},
     "output_type": "display_data"
    },
    {
     "name": "stderr",
     "output_type": "stream",
     "text": [
      "Special tokens have been added in the vocabulary, make sure the associated word embeddings are fine-tuned or trained.\n"
     ]
    },
    {
     "name": "stdout",
     "output_type": "stream",
     "text": [
      "Loaded model EleutherAI/pythia-160m-seed1 at step78000; now loading into HookedTransformer\n",
      "Loaded pretrained model pythia-160m into HookedTransformer\n",
      "Copy circuit for head 9.10 (sign=1) : Top 5 accuracy: 30.476190476190478%\n",
      "Copy circuit for head 9.8 (sign=1) : Top 5 accuracy: 2.857142857142857%\n",
      "Copy circuit for head 9.0 (sign=1) : Top 5 accuracy: 7.142857142857142%\n",
      "Copy circuit for head 9.1 (sign=1) : Top 5 accuracy: 32.857142857142854%\n",
      "Copy circuit for head 9.4 (sign=1) : Top 5 accuracy: 96.66666666666667%\n",
      "Checkpoint 78000:\n",
      "Heads ablated:            [(9, 4)]\n",
      "Original logit diff:      3.9035549164\n",
      "Post ablation logit diff: 2.9668130875\n",
      "Logit diff % change:      -24.00%\n"
     ]
    },
    {
     "data": {
      "application/vnd.jupyter.widget-view+json": {
       "model_id": "7ce8385f0c3f464a8384a063dacc8ee1",
       "version_major": 2,
       "version_minor": 0
      },
      "text/plain": [
       "pytorch_model.bin:   0%|          | 0.00/375M [00:00<?, ?B/s]"
      ]
     },
     "metadata": {},
     "output_type": "display_data"
    },
    {
     "name": "stdout",
     "output_type": "stream",
     "text": [
      "Loaded model EleutherAI/pythia-160m-seed1 at step79000; now loading into HookedTransformer\n"
     ]
    },
    {
     "name": "stderr",
     "output_type": "stream",
     "text": [
      "Special tokens have been added in the vocabulary, make sure the associated word embeddings are fine-tuned or trained.\n"
     ]
    },
    {
     "name": "stdout",
     "output_type": "stream",
     "text": [
      "Loaded pretrained model pythia-160m into HookedTransformer\n",
      "Copy circuit for head 9.4 (sign=1) : Top 5 accuracy: 93.33333333333333%\n",
      "Copy circuit for head 9.1 (sign=1) : Top 5 accuracy: 36.19047619047619%\n",
      "Copy circuit for head 9.0 (sign=1) : Top 5 accuracy: 7.142857142857142%\n",
      "Copy circuit for head 9.8 (sign=1) : Top 5 accuracy: 3.3333333333333335%\n",
      "Copy circuit for head 9.10 (sign=1) : Top 5 accuracy: 30.476190476190478%\n",
      "Checkpoint 79000:\n",
      "Heads ablated:            [(9, 4)]\n",
      "Original logit diff:      4.6397361755\n",
      "Post ablation logit diff: 3.7240126133\n",
      "Logit diff % change:      -19.74%\n"
     ]
    },
    {
     "data": {
      "application/vnd.jupyter.widget-view+json": {
       "model_id": "2e58b0879d0a473082a72626a69382d7",
       "version_major": 2,
       "version_minor": 0
      },
      "text/plain": [
       "pytorch_model.bin:   0%|          | 0.00/375M [00:00<?, ?B/s]"
      ]
     },
     "metadata": {},
     "output_type": "display_data"
    },
    {
     "name": "stdout",
     "output_type": "stream",
     "text": [
      "Loaded model EleutherAI/pythia-160m-seed1 at step80000; now loading into HookedTransformer\n"
     ]
    },
    {
     "name": "stderr",
     "output_type": "stream",
     "text": [
      "Special tokens have been added in the vocabulary, make sure the associated word embeddings are fine-tuned or trained.\n"
     ]
    },
    {
     "name": "stdout",
     "output_type": "stream",
     "text": [
      "Loaded pretrained model pythia-160m into HookedTransformer\n",
      "Copy circuit for head 9.4 (sign=1) : Top 5 accuracy: 92.85714285714286%\n",
      "Copy circuit for head 9.1 (sign=1) : Top 5 accuracy: 39.04761904761905%\n",
      "Copy circuit for head 9.0 (sign=1) : Top 5 accuracy: 7.6190476190476195%\n",
      "Copy circuit for head 8.6 (sign=1) : Top 5 accuracy: 1.4285714285714286%\n",
      "Copy circuit for head 7.9 (sign=1) : Top 5 accuracy: 99.04761904761905%\n",
      "Copy circuit for head 7.7 (sign=1) : Top 5 accuracy: 59.04761904761905%\n",
      "Copy circuit for head 9.8 (sign=1) : Top 5 accuracy: 1.9047619047619049%\n",
      "Copy circuit for head 9.10 (sign=1) : Top 5 accuracy: 32.38095238095238%\n",
      "Copy circuit for head 9.11 (sign=1) : Top 5 accuracy: 41.42857142857143%\n",
      "Copy circuit for head 10.9 (sign=1) : Top 5 accuracy: 16.19047619047619%\n",
      "Copy circuit for head 10.7 (sign=1) : Top 5 accuracy: 61.904761904761905%\n",
      "Copy circuit for head 6.7 (sign=1) : Top 5 accuracy: 4.761904761904762%\n",
      "Checkpoint 80000:\n",
      "Heads ablated:            [(9, 4), (7, 9)]\n",
      "Original logit diff:      4.4327263832\n",
      "Post ablation logit diff: 3.8900408745\n",
      "Logit diff % change:      -12.24%\n"
     ]
    },
    {
     "data": {
      "application/vnd.jupyter.widget-view+json": {
       "model_id": "34551e52dfd64bd18522631dc4baf517",
       "version_major": 2,
       "version_minor": 0
      },
      "text/plain": [
       "pytorch_model.bin:   0%|          | 0.00/375M [00:00<?, ?B/s]"
      ]
     },
     "metadata": {},
     "output_type": "display_data"
    },
    {
     "name": "stdout",
     "output_type": "stream",
     "text": [
      "Loaded model EleutherAI/pythia-160m-seed1 at step81000; now loading into HookedTransformer\n"
     ]
    },
    {
     "name": "stderr",
     "output_type": "stream",
     "text": [
      "Special tokens have been added in the vocabulary, make sure the associated word embeddings are fine-tuned or trained.\n"
     ]
    },
    {
     "name": "stdout",
     "output_type": "stream",
     "text": [
      "Loaded pretrained model pythia-160m into HookedTransformer\n",
      "Copy circuit for head 9.10 (sign=1) : Top 5 accuracy: 36.19047619047619%\n",
      "Copy circuit for head 9.8 (sign=1) : Top 5 accuracy: 2.857142857142857%\n",
      "Copy circuit for head 7.9 (sign=1) : Top 5 accuracy: 100.0%\n",
      "Copy circuit for head 9.0 (sign=1) : Top 5 accuracy: 7.142857142857142%\n",
      "Copy circuit for head 9.1 (sign=1) : Top 5 accuracy: 37.142857142857146%\n",
      "Copy circuit for head 9.4 (sign=1) : Top 5 accuracy: 92.38095238095238%\n",
      "Checkpoint 81000:\n",
      "Heads ablated:            [(7, 9), (9, 4)]\n",
      "Original logit diff:      4.1107807159\n",
      "Post ablation logit diff: 3.6432967186\n",
      "Logit diff % change:      -11.37%\n"
     ]
    },
    {
     "data": {
      "application/vnd.jupyter.widget-view+json": {
       "model_id": "b6a53aaf871a487ba691d6ddc12dfed2",
       "version_major": 2,
       "version_minor": 0
      },
      "text/plain": [
       "pytorch_model.bin:   0%|          | 0.00/375M [00:00<?, ?B/s]"
      ]
     },
     "metadata": {},
     "output_type": "display_data"
    },
    {
     "name": "stdout",
     "output_type": "stream",
     "text": [
      "Loaded model EleutherAI/pythia-160m-seed1 at step82000; now loading into HookedTransformer\n"
     ]
    },
    {
     "name": "stderr",
     "output_type": "stream",
     "text": [
      "Special tokens have been added in the vocabulary, make sure the associated word embeddings are fine-tuned or trained.\n"
     ]
    },
    {
     "name": "stdout",
     "output_type": "stream",
     "text": [
      "Loaded pretrained model pythia-160m into HookedTransformer\n",
      "Copy circuit for head 9.10 (sign=1) : Top 5 accuracy: 36.666666666666664%\n",
      "Copy circuit for head 9.0 (sign=1) : Top 5 accuracy: 7.6190476190476195%\n",
      "Copy circuit for head 9.1 (sign=1) : Top 5 accuracy: 39.04761904761905%\n",
      "Copy circuit for head 9.4 (sign=1) : Top 5 accuracy: 93.33333333333333%\n",
      "Checkpoint 82000:\n",
      "Heads ablated:            [(9, 4)]\n",
      "Original logit diff:      4.1647262573\n",
      "Post ablation logit diff: 3.4556372166\n",
      "Logit diff % change:      -17.03%\n"
     ]
    },
    {
     "data": {
      "application/vnd.jupyter.widget-view+json": {
       "model_id": "acb57577326446f9914c6500c4c73f21",
       "version_major": 2,
       "version_minor": 0
      },
      "text/plain": [
       "pytorch_model.bin:   0%|          | 0.00/375M [00:00<?, ?B/s]"
      ]
     },
     "metadata": {},
     "output_type": "display_data"
    },
    {
     "name": "stderr",
     "output_type": "stream",
     "text": [
      "Special tokens have been added in the vocabulary, make sure the associated word embeddings are fine-tuned or trained.\n"
     ]
    },
    {
     "name": "stdout",
     "output_type": "stream",
     "text": [
      "Loaded model EleutherAI/pythia-160m-seed1 at step83000; now loading into HookedTransformer\n",
      "Loaded pretrained model pythia-160m into HookedTransformer\n",
      "Copy circuit for head 9.10 (sign=1) : Top 5 accuracy: 37.61904761904762%\n",
      "Copy circuit for head 9.8 (sign=1) : Top 5 accuracy: 3.3333333333333335%\n",
      "Copy circuit for head 7.7 (sign=1) : Top 5 accuracy: 61.904761904761905%\n",
      "Copy circuit for head 9.0 (sign=1) : Top 5 accuracy: 8.095238095238095%\n",
      "Copy circuit for head 9.1 (sign=1) : Top 5 accuracy: 37.61904761904762%\n",
      "Copy circuit for head 9.4 (sign=1) : Top 5 accuracy: 93.33333333333333%\n",
      "Checkpoint 83000:\n",
      "Heads ablated:            [(9, 4)]\n",
      "Original logit diff:      3.9369411469\n",
      "Post ablation logit diff: 3.1750335693\n",
      "Logit diff % change:      -19.35%\n"
     ]
    },
    {
     "data": {
      "application/vnd.jupyter.widget-view+json": {
       "model_id": "b8f0e7c07b404a848bec39479bdd86bb",
       "version_major": 2,
       "version_minor": 0
      },
      "text/plain": [
       "pytorch_model.bin:   0%|          | 0.00/375M [00:00<?, ?B/s]"
      ]
     },
     "metadata": {},
     "output_type": "display_data"
    },
    {
     "name": "stdout",
     "output_type": "stream",
     "text": [
      "Loaded model EleutherAI/pythia-160m-seed1 at step84000; now loading into HookedTransformer\n"
     ]
    },
    {
     "name": "stderr",
     "output_type": "stream",
     "text": [
      "Special tokens have been added in the vocabulary, make sure the associated word embeddings are fine-tuned or trained.\n"
     ]
    },
    {
     "name": "stdout",
     "output_type": "stream",
     "text": [
      "Loaded pretrained model pythia-160m into HookedTransformer\n",
      "Copy circuit for head 9.4 (sign=1) : Top 5 accuracy: 93.33333333333333%\n",
      "Copy circuit for head 9.1 (sign=1) : Top 5 accuracy: 37.61904761904762%\n",
      "Copy circuit for head 9.8 (sign=1) : Top 5 accuracy: 6.666666666666667%\n",
      "Copy circuit for head 9.10 (sign=1) : Top 5 accuracy: 34.285714285714285%\n",
      "Copy circuit for head 10.9 (sign=1) : Top 5 accuracy: 18.571428571428573%\n",
      "Checkpoint 84000:\n",
      "Heads ablated:            [(9, 4)]\n",
      "Original logit diff:      4.0487155914\n",
      "Post ablation logit diff: 3.3913390636\n",
      "Logit diff % change:      -16.24%\n"
     ]
    },
    {
     "data": {
      "application/vnd.jupyter.widget-view+json": {
       "model_id": "441ef3d8b52a4a59b4f31d2669ec719b",
       "version_major": 2,
       "version_minor": 0
      },
      "text/plain": [
       "pytorch_model.bin:   0%|          | 0.00/375M [00:00<?, ?B/s]"
      ]
     },
     "metadata": {},
     "output_type": "display_data"
    },
    {
     "name": "stdout",
     "output_type": "stream",
     "text": [
      "Loaded model EleutherAI/pythia-160m-seed1 at step85000; now loading into HookedTransformer\n"
     ]
    },
    {
     "name": "stderr",
     "output_type": "stream",
     "text": [
      "Special tokens have been added in the vocabulary, make sure the associated word embeddings are fine-tuned or trained.\n"
     ]
    },
    {
     "name": "stdout",
     "output_type": "stream",
     "text": [
      "Loaded pretrained model pythia-160m into HookedTransformer\n",
      "Copy circuit for head 10.9 (sign=1) : Top 5 accuracy: 18.095238095238095%\n",
      "Copy circuit for head 9.10 (sign=1) : Top 5 accuracy: 36.19047619047619%\n",
      "Copy circuit for head 7.7 (sign=1) : Top 5 accuracy: 61.42857142857143%\n",
      "Copy circuit for head 7.9 (sign=1) : Top 5 accuracy: 100.0%\n",
      "Copy circuit for head 8.6 (sign=1) : Top 5 accuracy: 8.571428571428571%\n",
      "Copy circuit for head 9.0 (sign=1) : Top 5 accuracy: 8.571428571428571%\n",
      "Copy circuit for head 9.1 (sign=1) : Top 5 accuracy: 39.04761904761905%\n",
      "Copy circuit for head 9.4 (sign=1) : Top 5 accuracy: 93.33333333333333%\n",
      "Copy circuit for head 9.8 (sign=1) : Top 5 accuracy: 7.6190476190476195%\n",
      "Checkpoint 85000:\n",
      "Heads ablated:            [(7, 9), (9, 4)]\n",
      "Original logit diff:      4.0690698624\n",
      "Post ablation logit diff: 3.7052295208\n",
      "Logit diff % change:      -8.94%\n"
     ]
    },
    {
     "data": {
      "application/vnd.jupyter.widget-view+json": {
       "model_id": "d1a7dd554dcd4b74ba7d298cab3f7375",
       "version_major": 2,
       "version_minor": 0
      },
      "text/plain": [
       "pytorch_model.bin:   0%|          | 0.00/375M [00:00<?, ?B/s]"
      ]
     },
     "metadata": {},
     "output_type": "display_data"
    },
    {
     "name": "stderr",
     "output_type": "stream",
     "text": [
      "Special tokens have been added in the vocabulary, make sure the associated word embeddings are fine-tuned or trained.\n"
     ]
    },
    {
     "name": "stdout",
     "output_type": "stream",
     "text": [
      "Loaded model EleutherAI/pythia-160m-seed1 at step86000; now loading into HookedTransformer\n",
      "Loaded pretrained model pythia-160m into HookedTransformer\n",
      "Copy circuit for head 9.10 (sign=1) : Top 5 accuracy: 37.142857142857146%\n",
      "Copy circuit for head 9.0 (sign=1) : Top 5 accuracy: 10.476190476190476%\n",
      "Copy circuit for head 9.1 (sign=1) : Top 5 accuracy: 38.095238095238095%\n",
      "Copy circuit for head 9.4 (sign=1) : Top 5 accuracy: 93.33333333333333%\n",
      "Copy circuit for head 9.8 (sign=1) : Top 5 accuracy: 5.238095238095238%\n",
      "Checkpoint 86000:\n",
      "Heads ablated:            [(9, 4)]\n",
      "Original logit diff:      4.2123036385\n",
      "Post ablation logit diff: 3.4532034397\n",
      "Logit diff % change:      -18.02%\n"
     ]
    },
    {
     "data": {
      "application/vnd.jupyter.widget-view+json": {
       "model_id": "3c723f58039440f38a9f923851b25f7a",
       "version_major": 2,
       "version_minor": 0
      },
      "text/plain": [
       "pytorch_model.bin:   0%|          | 0.00/375M [00:00<?, ?B/s]"
      ]
     },
     "metadata": {},
     "output_type": "display_data"
    },
    {
     "name": "stderr",
     "output_type": "stream",
     "text": [
      "Special tokens have been added in the vocabulary, make sure the associated word embeddings are fine-tuned or trained.\n"
     ]
    },
    {
     "name": "stdout",
     "output_type": "stream",
     "text": [
      "Loaded model EleutherAI/pythia-160m-seed1 at step87000; now loading into HookedTransformer\n",
      "Loaded pretrained model pythia-160m into HookedTransformer\n",
      "Copy circuit for head 9.4 (sign=1) : Top 5 accuracy: 93.33333333333333%\n",
      "Copy circuit for head 9.1 (sign=1) : Top 5 accuracy: 33.33333333333333%\n",
      "Copy circuit for head 9.0 (sign=1) : Top 5 accuracy: 9.523809523809524%\n",
      "Copy circuit for head 8.6 (sign=1) : Top 5 accuracy: 8.095238095238095%\n",
      "Copy circuit for head 7.9 (sign=1) : Top 5 accuracy: 100.0%\n",
      "Copy circuit for head 7.7 (sign=1) : Top 5 accuracy: 66.66666666666666%\n",
      "Copy circuit for head 9.8 (sign=1) : Top 5 accuracy: 5.238095238095238%\n",
      "Copy circuit for head 9.9 (sign=1) : Top 5 accuracy: 2.380952380952381%\n",
      "Copy circuit for head 9.10 (sign=1) : Top 5 accuracy: 40.0%\n",
      "Copy circuit for head 10.9 (sign=1) : Top 5 accuracy: 18.095238095238095%\n",
      "Copy circuit for head 10.7 (sign=1) : Top 5 accuracy: 31.428571428571427%\n",
      "Copy circuit for head 9.11 (sign=1) : Top 5 accuracy: 64.28571428571429%\n",
      "Copy circuit for head 10.11 (sign=1) : Top 5 accuracy: 0.4761904761904762%\n",
      "Copy circuit for head 6.7 (sign=1) : Top 5 accuracy: 0.9523809523809524%\n",
      "Copy circuit for head 6.5 (sign=1) : Top 5 accuracy: 100.0%\n",
      "Copy circuit for head 6.2 (sign=1) : Top 5 accuracy: 18.095238095238095%\n",
      "Checkpoint 87000:\n",
      "Heads ablated:            [(9, 4), (7, 9), (6, 5)]\n",
      "Original logit diff:      4.2522463799\n",
      "Post ablation logit diff: 4.0459260941\n",
      "Logit diff % change:      -4.85%\n"
     ]
    },
    {
     "data": {
      "application/vnd.jupyter.widget-view+json": {
       "model_id": "5a2cb0f372624d8bb59974c3a47536bc",
       "version_major": 2,
       "version_minor": 0
      },
      "text/plain": [
       "pytorch_model.bin:   0%|          | 0.00/375M [00:00<?, ?B/s]"
      ]
     },
     "metadata": {},
     "output_type": "display_data"
    },
    {
     "name": "stdout",
     "output_type": "stream",
     "text": [
      "Loaded model EleutherAI/pythia-160m-seed1 at step88000; now loading into HookedTransformer\n"
     ]
    },
    {
     "name": "stderr",
     "output_type": "stream",
     "text": [
      "Special tokens have been added in the vocabulary, make sure the associated word embeddings are fine-tuned or trained.\n"
     ]
    },
    {
     "name": "stdout",
     "output_type": "stream",
     "text": [
      "Loaded pretrained model pythia-160m into HookedTransformer\n",
      "Copy circuit for head 9.8 (sign=1) : Top 5 accuracy: 2.857142857142857%\n",
      "Copy circuit for head 9.10 (sign=1) : Top 5 accuracy: 38.57142857142858%\n",
      "Copy circuit for head 9.4 (sign=1) : Top 5 accuracy: 93.33333333333333%\n",
      "Copy circuit for head 9.0 (sign=1) : Top 5 accuracy: 10.952380952380953%\n",
      "Copy circuit for head 9.1 (sign=1) : Top 5 accuracy: 30.952380952380953%\n",
      "Checkpoint 88000:\n",
      "Heads ablated:            [(9, 4)]\n",
      "Original logit diff:      4.4651060104\n",
      "Post ablation logit diff: 3.5784504414\n",
      "Logit diff % change:      -19.86%\n"
     ]
    },
    {
     "data": {
      "application/vnd.jupyter.widget-view+json": {
       "model_id": "fec069dbbb9a4b15bc0c1e5f6ec76d08",
       "version_major": 2,
       "version_minor": 0
      },
      "text/plain": [
       "pytorch_model.bin:   0%|          | 0.00/375M [00:00<?, ?B/s]"
      ]
     },
     "metadata": {},
     "output_type": "display_data"
    },
    {
     "name": "stdout",
     "output_type": "stream",
     "text": [
      "Loaded model EleutherAI/pythia-160m-seed1 at step89000; now loading into HookedTransformer\n"
     ]
    },
    {
     "name": "stderr",
     "output_type": "stream",
     "text": [
      "Special tokens have been added in the vocabulary, make sure the associated word embeddings are fine-tuned or trained.\n"
     ]
    },
    {
     "name": "stdout",
     "output_type": "stream",
     "text": [
      "Loaded pretrained model pythia-160m into HookedTransformer\n",
      "Copy circuit for head 6.7 (sign=1) : Top 5 accuracy: 1.4285714285714286%\n",
      "Copy circuit for head 10.9 (sign=1) : Top 5 accuracy: 17.61904761904762%\n",
      "Copy circuit for head 9.11 (sign=1) : Top 5 accuracy: 71.42857142857143%\n",
      "Copy circuit for head 9.10 (sign=1) : Top 5 accuracy: 39.523809523809526%\n",
      "Copy circuit for head 9.8 (sign=1) : Top 5 accuracy: 1.9047619047619049%\n",
      "Copy circuit for head 7.7 (sign=1) : Top 5 accuracy: 69.04761904761905%\n",
      "Copy circuit for head 7.9 (sign=1) : Top 5 accuracy: 100.0%\n",
      "Copy circuit for head 8.6 (sign=1) : Top 5 accuracy: 11.428571428571429%\n",
      "Copy circuit for head 8.10 (sign=1) : Top 5 accuracy: 0.4761904761904762%\n",
      "Copy circuit for head 9.0 (sign=1) : Top 5 accuracy: 10.0%\n",
      "Copy circuit for head 9.1 (sign=1) : Top 5 accuracy: 30.0%\n",
      "Copy circuit for head 9.4 (sign=1) : Top 5 accuracy: 93.33333333333333%\n",
      "Checkpoint 89000:\n",
      "Heads ablated:            [(7, 9), (9, 4)]\n",
      "Original logit diff:      4.4992170334\n",
      "Post ablation logit diff: 4.0115427971\n",
      "Logit diff % change:      -10.84%\n"
     ]
    },
    {
     "data": {
      "application/vnd.jupyter.widget-view+json": {
       "model_id": "44d7eec322f84a94a8d08bce7d982ed6",
       "version_major": 2,
       "version_minor": 0
      },
      "text/plain": [
       "pytorch_model.bin:   0%|          | 0.00/375M [00:00<?, ?B/s]"
      ]
     },
     "metadata": {},
     "output_type": "display_data"
    },
    {
     "name": "stderr",
     "output_type": "stream",
     "text": [
      "Special tokens have been added in the vocabulary, make sure the associated word embeddings are fine-tuned or trained.\n"
     ]
    },
    {
     "name": "stdout",
     "output_type": "stream",
     "text": [
      "Loaded model EleutherAI/pythia-160m-seed1 at step90000; now loading into HookedTransformer\n",
      "Loaded pretrained model pythia-160m into HookedTransformer\n",
      "Copy circuit for head 6.5 (sign=1) : Top 5 accuracy: 100.0%\n",
      "Copy circuit for head 6.7 (sign=1) : Top 5 accuracy: 1.4285714285714286%\n",
      "Copy circuit for head 9.11 (sign=1) : Top 5 accuracy: 71.9047619047619%\n",
      "Copy circuit for head 10.9 (sign=1) : Top 5 accuracy: 18.095238095238095%\n",
      "Copy circuit for head 10.11 (sign=1) : Top 5 accuracy: 0.4761904761904762%\n",
      "Copy circuit for head 9.10 (sign=1) : Top 5 accuracy: 36.666666666666664%\n",
      "Copy circuit for head 9.9 (sign=1) : Top 5 accuracy: 2.380952380952381%\n",
      "Copy circuit for head 9.8 (sign=1) : Top 5 accuracy: 6.190476190476191%\n",
      "Copy circuit for head 7.7 (sign=1) : Top 5 accuracy: 64.28571428571429%\n",
      "Copy circuit for head 7.9 (sign=1) : Top 5 accuracy: 100.0%\n",
      "Copy circuit for head 8.10 (sign=1) : Top 5 accuracy: 0.4761904761904762%\n",
      "Copy circuit for head 9.0 (sign=1) : Top 5 accuracy: 10.0%\n",
      "Copy circuit for head 9.1 (sign=1) : Top 5 accuracy: 30.476190476190478%\n",
      "Copy circuit for head 9.4 (sign=1) : Top 5 accuracy: 93.33333333333333%\n",
      "Copy circuit for head 8.6 (sign=1) : Top 5 accuracy: 15.238095238095239%\n",
      "Checkpoint 90000:\n",
      "Heads ablated:            [(6, 5), (7, 9), (9, 4)]\n",
      "Original logit diff:      4.5105876923\n",
      "Post ablation logit diff: 4.1682233810\n",
      "Logit diff % change:      -7.59%\n"
     ]
    },
    {
     "data": {
      "application/vnd.jupyter.widget-view+json": {
       "model_id": "cc024d9ef0bf4b27b94a203eee0596d4",
       "version_major": 2,
       "version_minor": 0
      },
      "text/plain": [
       "pytorch_model.bin:   0%|          | 0.00/375M [00:00<?, ?B/s]"
      ]
     },
     "metadata": {},
     "output_type": "display_data"
    },
    {
     "name": "stdout",
     "output_type": "stream",
     "text": [
      "Loaded model EleutherAI/pythia-160m-seed1 at step91000; now loading into HookedTransformer\n"
     ]
    },
    {
     "name": "stderr",
     "output_type": "stream",
     "text": [
      "Special tokens have been added in the vocabulary, make sure the associated word embeddings are fine-tuned or trained.\n"
     ]
    },
    {
     "name": "stdout",
     "output_type": "stream",
     "text": [
      "Loaded pretrained model pythia-160m into HookedTransformer\n",
      "Copy circuit for head 9.4 (sign=1) : Top 5 accuracy: 93.33333333333333%\n",
      "Copy circuit for head 9.1 (sign=1) : Top 5 accuracy: 28.095238095238095%\n",
      "Copy circuit for head 9.0 (sign=1) : Top 5 accuracy: 9.523809523809524%\n",
      "Copy circuit for head 8.10 (sign=1) : Top 5 accuracy: 0.4761904761904762%\n",
      "Copy circuit for head 8.6 (sign=1) : Top 5 accuracy: 12.380952380952381%\n",
      "Copy circuit for head 7.9 (sign=1) : Top 5 accuracy: 100.0%\n",
      "Copy circuit for head 7.7 (sign=1) : Top 5 accuracy: 62.857142857142854%\n",
      "Copy circuit for head 9.8 (sign=1) : Top 5 accuracy: 7.6190476190476195%\n",
      "Copy circuit for head 9.9 (sign=1) : Top 5 accuracy: 2.857142857142857%\n",
      "Copy circuit for head 9.10 (sign=1) : Top 5 accuracy: 30.476190476190478%\n",
      "Copy circuit for head 10.9 (sign=1) : Top 5 accuracy: 18.095238095238095%\n",
      "Copy circuit for head 9.11 (sign=1) : Top 5 accuracy: 72.85714285714285%\n",
      "Copy circuit for head 10.11 (sign=1) : Top 5 accuracy: 0.4761904761904762%\n",
      "Copy circuit for head 6.7 (sign=1) : Top 5 accuracy: 0.9523809523809524%\n",
      "Copy circuit for head 6.5 (sign=1) : Top 5 accuracy: 100.0%\n",
      "Copy circuit for head 6.2 (sign=1) : Top 5 accuracy: 4.761904761904762%\n",
      "Checkpoint 91000:\n",
      "Heads ablated:            [(9, 4), (7, 9), (6, 5)]\n",
      "Original logit diff:      4.2568783760\n",
      "Post ablation logit diff: 3.8574061394\n",
      "Logit diff % change:      -9.38%\n"
     ]
    },
    {
     "data": {
      "application/vnd.jupyter.widget-view+json": {
       "model_id": "8c38e03e9f9d4ee780eff244b83fb045",
       "version_major": 2,
       "version_minor": 0
      },
      "text/plain": [
       "pytorch_model.bin:   0%|          | 0.00/375M [00:00<?, ?B/s]"
      ]
     },
     "metadata": {},
     "output_type": "display_data"
    },
    {
     "name": "stderr",
     "output_type": "stream",
     "text": [
      "Special tokens have been added in the vocabulary, make sure the associated word embeddings are fine-tuned or trained.\n"
     ]
    },
    {
     "name": "stdout",
     "output_type": "stream",
     "text": [
      "Loaded model EleutherAI/pythia-160m-seed1 at step92000; now loading into HookedTransformer\n",
      "Loaded pretrained model pythia-160m into HookedTransformer\n",
      "Copy circuit for head 6.5 (sign=1) : Top 5 accuracy: 100.0%\n",
      "Copy circuit for head 6.7 (sign=1) : Top 5 accuracy: 1.4285714285714286%\n",
      "Copy circuit for head 9.10 (sign=1) : Top 5 accuracy: 26.666666666666668%\n",
      "Copy circuit for head 9.11 (sign=1) : Top 5 accuracy: 72.38095238095238%\n",
      "Copy circuit for head 10.9 (sign=1) : Top 5 accuracy: 17.61904761904762%\n",
      "Copy circuit for head 10.11 (sign=1) : Top 5 accuracy: 0.4761904761904762%\n",
      "Copy circuit for head 9.9 (sign=1) : Top 5 accuracy: 2.380952380952381%\n",
      "Copy circuit for head 9.8 (sign=1) : Top 5 accuracy: 8.095238095238095%\n",
      "Copy circuit for head 7.7 (sign=1) : Top 5 accuracy: 62.857142857142854%\n",
      "Copy circuit for head 7.9 (sign=1) : Top 5 accuracy: 100.0%\n",
      "Copy circuit for head 8.6 (sign=1) : Top 5 accuracy: 13.80952380952381%\n",
      "Copy circuit for head 9.0 (sign=1) : Top 5 accuracy: 8.095238095238095%\n",
      "Copy circuit for head 9.1 (sign=1) : Top 5 accuracy: 26.666666666666668%\n",
      "Copy circuit for head 9.4 (sign=1) : Top 5 accuracy: 93.33333333333333%\n",
      "Checkpoint 92000:\n",
      "Heads ablated:            [(6, 5), (7, 9), (9, 4)]\n",
      "Original logit diff:      4.3019366264\n",
      "Post ablation logit diff: 3.9028887749\n",
      "Logit diff % change:      -9.28%\n"
     ]
    },
    {
     "data": {
      "application/vnd.jupyter.widget-view+json": {
       "model_id": "bea83d840f384c5faed4970f88ad5d4d",
       "version_major": 2,
       "version_minor": 0
      },
      "text/plain": [
       "pytorch_model.bin:   0%|          | 0.00/375M [00:00<?, ?B/s]"
      ]
     },
     "metadata": {},
     "output_type": "display_data"
    },
    {
     "name": "stderr",
     "output_type": "stream",
     "text": [
      "Special tokens have been added in the vocabulary, make sure the associated word embeddings are fine-tuned or trained.\n"
     ]
    },
    {
     "name": "stdout",
     "output_type": "stream",
     "text": [
      "Loaded model EleutherAI/pythia-160m-seed1 at step93000; now loading into HookedTransformer\n",
      "Loaded pretrained model pythia-160m into HookedTransformer\n",
      "Copy circuit for head 6.5 (sign=1) : Top 5 accuracy: 100.0%\n",
      "Copy circuit for head 6.7 (sign=1) : Top 5 accuracy: 0.9523809523809524%\n",
      "Copy circuit for head 10.9 (sign=1) : Top 5 accuracy: 17.61904761904762%\n",
      "Copy circuit for head 10.11 (sign=1) : Top 5 accuracy: 0.4761904761904762%\n",
      "Copy circuit for head 9.10 (sign=1) : Top 5 accuracy: 21.428571428571427%\n",
      "Copy circuit for head 9.9 (sign=1) : Top 5 accuracy: 2.380952380952381%\n",
      "Copy circuit for head 9.8 (sign=1) : Top 5 accuracy: 6.190476190476191%\n",
      "Copy circuit for head 7.7 (sign=1) : Top 5 accuracy: 63.8095238095238%\n",
      "Copy circuit for head 7.9 (sign=1) : Top 5 accuracy: 100.0%\n",
      "Copy circuit for head 8.6 (sign=1) : Top 5 accuracy: 15.714285714285714%\n",
      "Copy circuit for head 9.0 (sign=1) : Top 5 accuracy: 8.571428571428571%\n",
      "Copy circuit for head 9.1 (sign=1) : Top 5 accuracy: 24.285714285714285%\n",
      "Copy circuit for head 9.4 (sign=1) : Top 5 accuracy: 93.33333333333333%\n",
      "Checkpoint 93000:\n",
      "Heads ablated:            [(6, 5), (7, 9), (9, 4)]\n",
      "Original logit diff:      4.3317131996\n",
      "Post ablation logit diff: 3.9726297855\n",
      "Logit diff % change:      -8.29%\n"
     ]
    },
    {
     "data": {
      "application/vnd.jupyter.widget-view+json": {
       "model_id": "ea6077324344464ba1204645d9bdad82",
       "version_major": 2,
       "version_minor": 0
      },
      "text/plain": [
       "pytorch_model.bin:   0%|          | 0.00/375M [00:00<?, ?B/s]"
      ]
     },
     "metadata": {},
     "output_type": "display_data"
    },
    {
     "name": "stderr",
     "output_type": "stream",
     "text": [
      "Special tokens have been added in the vocabulary, make sure the associated word embeddings are fine-tuned or trained.\n"
     ]
    },
    {
     "name": "stdout",
     "output_type": "stream",
     "text": [
      "Loaded model EleutherAI/pythia-160m-seed1 at step94000; now loading into HookedTransformer\n",
      "Loaded pretrained model pythia-160m into HookedTransformer\n",
      "Copy circuit for head 9.10 (sign=1) : Top 5 accuracy: 21.428571428571427%\n",
      "Copy circuit for head 9.8 (sign=1) : Top 5 accuracy: 8.571428571428571%\n",
      "Copy circuit for head 7.9 (sign=1) : Top 5 accuracy: 100.0%\n",
      "Copy circuit for head 9.1 (sign=1) : Top 5 accuracy: 24.285714285714285%\n",
      "Copy circuit for head 9.4 (sign=1) : Top 5 accuracy: 93.33333333333333%\n",
      "Checkpoint 94000:\n",
      "Heads ablated:            [(7, 9), (9, 4)]\n",
      "Original logit diff:      3.7619745731\n",
      "Post ablation logit diff: 3.7470912933\n",
      "Logit diff % change:      -0.40%\n"
     ]
    },
    {
     "data": {
      "application/vnd.jupyter.widget-view+json": {
       "model_id": "6bc78033166e410ca531f6176732815f",
       "version_major": 2,
       "version_minor": 0
      },
      "text/plain": [
       "pytorch_model.bin:   0%|          | 0.00/375M [00:00<?, ?B/s]"
      ]
     },
     "metadata": {},
     "output_type": "display_data"
    },
    {
     "name": "stderr",
     "output_type": "stream",
     "text": [
      "Special tokens have been added in the vocabulary, make sure the associated word embeddings are fine-tuned or trained.\n"
     ]
    },
    {
     "name": "stdout",
     "output_type": "stream",
     "text": [
      "Loaded model EleutherAI/pythia-160m-seed1 at step95000; now loading into HookedTransformer\n",
      "Loaded pretrained model pythia-160m into HookedTransformer\n",
      "Copy circuit for head 10.9 (sign=1) : Top 5 accuracy: 13.80952380952381%\n",
      "Copy circuit for head 9.0 (sign=1) : Top 5 accuracy: 8.095238095238095%\n",
      "Copy circuit for head 9.1 (sign=1) : Top 5 accuracy: 23.333333333333332%\n",
      "Copy circuit for head 9.4 (sign=1) : Top 5 accuracy: 92.38095238095238%\n",
      "Copy circuit for head 9.8 (sign=1) : Top 5 accuracy: 6.666666666666667%\n",
      "Copy circuit for head 9.10 (sign=1) : Top 5 accuracy: 20.952380952380953%\n",
      "Checkpoint 95000:\n",
      "Heads ablated:            [(9, 4)]\n",
      "Original logit diff:      4.5374121666\n",
      "Post ablation logit diff: 3.6587786674\n",
      "Logit diff % change:      -19.36%\n"
     ]
    },
    {
     "data": {
      "application/vnd.jupyter.widget-view+json": {
       "model_id": "49725aab2f4f4905a38d74b1823211d7",
       "version_major": 2,
       "version_minor": 0
      },
      "text/plain": [
       "pytorch_model.bin:   0%|          | 0.00/375M [00:00<?, ?B/s]"
      ]
     },
     "metadata": {},
     "output_type": "display_data"
    },
    {
     "name": "stdout",
     "output_type": "stream",
     "text": [
      "Loaded model EleutherAI/pythia-160m-seed1 at step96000; now loading into HookedTransformer\n"
     ]
    },
    {
     "name": "stderr",
     "output_type": "stream",
     "text": [
      "Special tokens have been added in the vocabulary, make sure the associated word embeddings are fine-tuned or trained.\n"
     ]
    },
    {
     "name": "stdout",
     "output_type": "stream",
     "text": [
      "Loaded pretrained model pythia-160m into HookedTransformer\n",
      "Copy circuit for head 9.4 (sign=1) : Top 5 accuracy: 92.38095238095238%\n",
      "Copy circuit for head 9.1 (sign=1) : Top 5 accuracy: 24.761904761904763%\n",
      "Copy circuit for head 7.7 (sign=1) : Top 5 accuracy: 60.952380952380956%\n",
      "Copy circuit for head 9.8 (sign=1) : Top 5 accuracy: 6.190476190476191%\n",
      "Copy circuit for head 9.10 (sign=1) : Top 5 accuracy: 19.523809523809526%\n",
      "Copy circuit for head 10.9 (sign=1) : Top 5 accuracy: 12.857142857142856%\n",
      "Checkpoint 96000:\n",
      "Heads ablated:            [(9, 4)]\n",
      "Original logit diff:      4.3737378120\n",
      "Post ablation logit diff: 3.6137661934\n",
      "Logit diff % change:      -17.38%\n"
     ]
    },
    {
     "data": {
      "application/vnd.jupyter.widget-view+json": {
       "model_id": "8492d202e8eb46eba0734fd96ba21d35",
       "version_major": 2,
       "version_minor": 0
      },
      "text/plain": [
       "pytorch_model.bin:   0%|          | 0.00/375M [00:00<?, ?B/s]"
      ]
     },
     "metadata": {},
     "output_type": "display_data"
    },
    {
     "name": "stdout",
     "output_type": "stream",
     "text": [
      "Loaded model EleutherAI/pythia-160m-seed1 at step97000; now loading into HookedTransformer\n"
     ]
    },
    {
     "name": "stderr",
     "output_type": "stream",
     "text": [
      "Special tokens have been added in the vocabulary, make sure the associated word embeddings are fine-tuned or trained.\n"
     ]
    },
    {
     "name": "stdout",
     "output_type": "stream",
     "text": [
      "Loaded pretrained model pythia-160m into HookedTransformer\n",
      "Copy circuit for head 9.10 (sign=1) : Top 5 accuracy: 18.095238095238095%\n",
      "Copy circuit for head 9.1 (sign=1) : Top 5 accuracy: 22.380952380952383%\n",
      "Copy circuit for head 9.4 (sign=1) : Top 5 accuracy: 92.38095238095238%\n",
      "Checkpoint 97000:\n",
      "Heads ablated:            [(9, 4)]\n",
      "Original logit diff:      3.8905107975\n",
      "Post ablation logit diff: 3.2574594021\n",
      "Logit diff % change:      -16.27%\n"
     ]
    },
    {
     "data": {
      "application/vnd.jupyter.widget-view+json": {
       "model_id": "09ec6679fae44153b1f952961d1f8f41",
       "version_major": 2,
       "version_minor": 0
      },
      "text/plain": [
       "pytorch_model.bin:   0%|          | 0.00/375M [00:00<?, ?B/s]"
      ]
     },
     "metadata": {},
     "output_type": "display_data"
    },
    {
     "name": "stdout",
     "output_type": "stream",
     "text": [
      "Loaded model EleutherAI/pythia-160m-seed1 at step98000; now loading into HookedTransformer\n"
     ]
    },
    {
     "name": "stderr",
     "output_type": "stream",
     "text": [
      "Special tokens have been added in the vocabulary, make sure the associated word embeddings are fine-tuned or trained.\n"
     ]
    },
    {
     "name": "stdout",
     "output_type": "stream",
     "text": [
      "Loaded pretrained model pythia-160m into HookedTransformer\n",
      "Copy circuit for head 9.8 (sign=1) : Top 5 accuracy: 5.714285714285714%\n",
      "Copy circuit for head 9.10 (sign=1) : Top 5 accuracy: 18.095238095238095%\n",
      "Copy circuit for head 9.4 (sign=1) : Top 5 accuracy: 91.42857142857143%\n",
      "Copy circuit for head 9.1 (sign=1) : Top 5 accuracy: 22.857142857142858%\n",
      "Checkpoint 98000:\n",
      "Heads ablated:            [(9, 4)]\n",
      "Original logit diff:      4.1684527397\n",
      "Post ablation logit diff: 3.4029834270\n",
      "Logit diff % change:      -18.36%\n"
     ]
    },
    {
     "data": {
      "application/vnd.jupyter.widget-view+json": {
       "model_id": "9f382952262d4d39b61a412db12479ff",
       "version_major": 2,
       "version_minor": 0
      },
      "text/plain": [
       "pytorch_model.bin:   0%|          | 0.00/375M [00:00<?, ?B/s]"
      ]
     },
     "metadata": {},
     "output_type": "display_data"
    },
    {
     "name": "stdout",
     "output_type": "stream",
     "text": [
      "Loaded model EleutherAI/pythia-160m-seed1 at step99000; now loading into HookedTransformer\n"
     ]
    },
    {
     "name": "stderr",
     "output_type": "stream",
     "text": [
      "Special tokens have been added in the vocabulary, make sure the associated word embeddings are fine-tuned or trained.\n"
     ]
    },
    {
     "name": "stdout",
     "output_type": "stream",
     "text": [
      "Loaded pretrained model pythia-160m into HookedTransformer\n",
      "Copy circuit for head 6.5 (sign=1) : Top 5 accuracy: 100.0%\n",
      "Copy circuit for head 6.7 (sign=1) : Top 5 accuracy: 0.4761904761904762%\n",
      "Copy circuit for head 10.9 (sign=1) : Top 5 accuracy: 7.6190476190476195%\n",
      "Copy circuit for head 9.11 (sign=1) : Top 5 accuracy: 83.33333333333334%\n",
      "Copy circuit for head 9.10 (sign=1) : Top 5 accuracy: 16.666666666666664%\n",
      "Copy circuit for head 9.9 (sign=1) : Top 5 accuracy: 2.380952380952381%\n",
      "Copy circuit for head 9.8 (sign=1) : Top 5 accuracy: 5.238095238095238%\n",
      "Copy circuit for head 7.7 (sign=1) : Top 5 accuracy: 63.33333333333333%\n",
      "Copy circuit for head 7.9 (sign=1) : Top 5 accuracy: 100.0%\n",
      "Copy circuit for head 8.6 (sign=1) : Top 5 accuracy: 9.047619047619047%\n",
      "Copy circuit for head 9.0 (sign=1) : Top 5 accuracy: 7.6190476190476195%\n",
      "Copy circuit for head 9.1 (sign=1) : Top 5 accuracy: 22.380952380952383%\n",
      "Copy circuit for head 9.4 (sign=1) : Top 5 accuracy: 89.04761904761904%\n",
      "Checkpoint 99000:\n",
      "Heads ablated:            [(6, 5), (9, 11), (7, 9), (9, 4)]\n",
      "Original logit diff:      4.3933525085\n",
      "Post ablation logit diff: 4.2454614639\n",
      "Logit diff % change:      -3.37%\n"
     ]
    },
    {
     "data": {
      "application/vnd.jupyter.widget-view+json": {
       "model_id": "970c6cf2a0b7404e9d820145d41ee305",
       "version_major": 2,
       "version_minor": 0
      },
      "text/plain": [
       "pytorch_model.bin:   0%|          | 0.00/375M [00:00<?, ?B/s]"
      ]
     },
     "metadata": {},
     "output_type": "display_data"
    },
    {
     "name": "stdout",
     "output_type": "stream",
     "text": [
      "Loaded model EleutherAI/pythia-160m-seed1 at step100000; now loading into HookedTransformer\n"
     ]
    },
    {
     "name": "stderr",
     "output_type": "stream",
     "text": [
      "Special tokens have been added in the vocabulary, make sure the associated word embeddings are fine-tuned or trained.\n"
     ]
    },
    {
     "name": "stdout",
     "output_type": "stream",
     "text": [
      "Loaded pretrained model pythia-160m into HookedTransformer\n",
      "Copy circuit for head 9.4 (sign=1) : Top 5 accuracy: 86.66666666666667%\n",
      "Copy circuit for head 9.1 (sign=1) : Top 5 accuracy: 20.952380952380953%\n",
      "Copy circuit for head 9.10 (sign=1) : Top 5 accuracy: 16.19047619047619%\n",
      "Checkpoint 100000:\n",
      "Heads ablated:            [(9, 4)]\n",
      "Original logit diff:      3.9002842903\n",
      "Post ablation logit diff: 3.1865835190\n",
      "Logit diff % change:      -18.30%\n"
     ]
    },
    {
     "data": {
      "application/vnd.jupyter.widget-view+json": {
       "model_id": "fe80c3ba72dd4ee787a2802ead7f1b38",
       "version_major": 2,
       "version_minor": 0
      },
      "text/plain": [
       "pytorch_model.bin:   0%|          | 0.00/375M [00:00<?, ?B/s]"
      ]
     },
     "metadata": {},
     "output_type": "display_data"
    },
    {
     "name": "stdout",
     "output_type": "stream",
     "text": [
      "Loaded model EleutherAI/pythia-160m-seed1 at step101000; now loading into HookedTransformer\n"
     ]
    },
    {
     "name": "stderr",
     "output_type": "stream",
     "text": [
      "Special tokens have been added in the vocabulary, make sure the associated word embeddings are fine-tuned or trained.\n"
     ]
    },
    {
     "name": "stdout",
     "output_type": "stream",
     "text": [
      "Loaded pretrained model pythia-160m into HookedTransformer\n",
      "Copy circuit for head 9.4 (sign=1) : Top 5 accuracy: 83.80952380952381%\n",
      "Copy circuit for head 9.1 (sign=1) : Top 5 accuracy: 19.523809523809526%\n",
      "Copy circuit for head 9.10 (sign=1) : Top 5 accuracy: 15.714285714285714%\n",
      "Checkpoint 101000:\n",
      "Heads ablated:            [(9, 4)]\n",
      "Original logit diff:      4.3399715424\n",
      "Post ablation logit diff: 3.5631897449\n",
      "Logit diff % change:      -17.90%\n"
     ]
    },
    {
     "data": {
      "application/vnd.jupyter.widget-view+json": {
       "model_id": "30629d5b40c44581ab85863eb72be361",
       "version_major": 2,
       "version_minor": 0
      },
      "text/plain": [
       "pytorch_model.bin:   0%|          | 0.00/375M [00:00<?, ?B/s]"
      ]
     },
     "metadata": {},
     "output_type": "display_data"
    },
    {
     "name": "stdout",
     "output_type": "stream",
     "text": [
      "Loaded model EleutherAI/pythia-160m-seed1 at step102000; now loading into HookedTransformer\n"
     ]
    },
    {
     "name": "stderr",
     "output_type": "stream",
     "text": [
      "Special tokens have been added in the vocabulary, make sure the associated word embeddings are fine-tuned or trained.\n"
     ]
    },
    {
     "name": "stdout",
     "output_type": "stream",
     "text": [
      "Loaded pretrained model pythia-160m into HookedTransformer\n",
      "Copy circuit for head 6.5 (sign=1) : Top 5 accuracy: 100.0%\n",
      "Copy circuit for head 9.11 (sign=1) : Top 5 accuracy: 85.71428571428571%\n",
      "Copy circuit for head 10.9 (sign=1) : Top 5 accuracy: 5.714285714285714%\n",
      "Copy circuit for head 9.10 (sign=1) : Top 5 accuracy: 14.285714285714285%\n",
      "Copy circuit for head 9.9 (sign=1) : Top 5 accuracy: 2.380952380952381%\n",
      "Copy circuit for head 9.8 (sign=1) : Top 5 accuracy: 0.9523809523809524%\n",
      "Copy circuit for head 7.7 (sign=1) : Top 5 accuracy: 60.952380952380956%\n",
      "Copy circuit for head 7.9 (sign=1) : Top 5 accuracy: 100.0%\n",
      "Copy circuit for head 9.0 (sign=1) : Top 5 accuracy: 6.190476190476191%\n",
      "Copy circuit for head 9.1 (sign=1) : Top 5 accuracy: 20.0%\n",
      "Copy circuit for head 9.4 (sign=1) : Top 5 accuracy: 82.38095238095238%\n",
      "Copy circuit for head 8.6 (sign=1) : Top 5 accuracy: 8.571428571428571%\n",
      "Checkpoint 102000:\n",
      "Heads ablated:            [(6, 5), (9, 11), (7, 9), (9, 4)]\n",
      "Original logit diff:      4.6266775131\n",
      "Post ablation logit diff: 4.5172557831\n",
      "Logit diff % change:      -2.37%\n"
     ]
    },
    {
     "data": {
      "application/vnd.jupyter.widget-view+json": {
       "model_id": "cef406d18f1a4982b1a79513ffbb1fa9",
       "version_major": 2,
       "version_minor": 0
      },
      "text/plain": [
       "pytorch_model.bin:   0%|          | 0.00/375M [00:00<?, ?B/s]"
      ]
     },
     "metadata": {},
     "output_type": "display_data"
    },
    {
     "name": "stdout",
     "output_type": "stream",
     "text": [
      "Loaded model EleutherAI/pythia-160m-seed1 at step103000; now loading into HookedTransformer\n"
     ]
    },
    {
     "name": "stderr",
     "output_type": "stream",
     "text": [
      "Special tokens have been added in the vocabulary, make sure the associated word embeddings are fine-tuned or trained.\n"
     ]
    },
    {
     "name": "stdout",
     "output_type": "stream",
     "text": [
      "Loaded pretrained model pythia-160m into HookedTransformer\n",
      "Copy circuit for head 9.1 (sign=1) : Top 5 accuracy: 19.523809523809526%\n",
      "Copy circuit for head 9.4 (sign=1) : Top 5 accuracy: 81.9047619047619%\n",
      "Copy circuit for head 9.10 (sign=1) : Top 5 accuracy: 12.857142857142856%\n",
      "Copy circuit for head 9.8 (sign=1) : Top 5 accuracy: 0.9523809523809524%\n",
      "Checkpoint 103000:\n",
      "Heads ablated:            [(9, 4)]\n",
      "Original logit diff:      4.0318021774\n",
      "Post ablation logit diff: 3.3574888706\n",
      "Logit diff % change:      -16.72%\n"
     ]
    },
    {
     "data": {
      "application/vnd.jupyter.widget-view+json": {
       "model_id": "a7305452866043d2b7e3a25efc141f1b",
       "version_major": 2,
       "version_minor": 0
      },
      "text/plain": [
       "pytorch_model.bin:   0%|          | 0.00/375M [00:00<?, ?B/s]"
      ]
     },
     "metadata": {},
     "output_type": "display_data"
    },
    {
     "name": "stdout",
     "output_type": "stream",
     "text": [
      "Loaded model EleutherAI/pythia-160m-seed1 at step104000; now loading into HookedTransformer\n"
     ]
    },
    {
     "name": "stderr",
     "output_type": "stream",
     "text": [
      "Special tokens have been added in the vocabulary, make sure the associated word embeddings are fine-tuned or trained.\n"
     ]
    },
    {
     "name": "stdout",
     "output_type": "stream",
     "text": [
      "Loaded pretrained model pythia-160m into HookedTransformer\n",
      "Copy circuit for head 9.4 (sign=1) : Top 5 accuracy: 78.57142857142857%\n",
      "Copy circuit for head 9.1 (sign=1) : Top 5 accuracy: 20.476190476190474%\n",
      "Copy circuit for head 7.9 (sign=1) : Top 5 accuracy: 100.0%\n",
      "Copy circuit for head 9.8 (sign=1) : Top 5 accuracy: 0.9523809523809524%\n",
      "Copy circuit for head 9.10 (sign=1) : Top 5 accuracy: 11.428571428571429%\n",
      "Checkpoint 104000:\n",
      "Heads ablated:            [(9, 4), (7, 9)]\n",
      "Original logit diff:      4.0640726089\n",
      "Post ablation logit diff: 4.1390528679\n",
      "Logit diff % change:      1.84%\n"
     ]
    },
    {
     "data": {
      "application/vnd.jupyter.widget-view+json": {
       "model_id": "2ac3feca6ed849cf85a26211e256547a",
       "version_major": 2,
       "version_minor": 0
      },
      "text/plain": [
       "pytorch_model.bin:   0%|          | 0.00/375M [00:00<?, ?B/s]"
      ]
     },
     "metadata": {},
     "output_type": "display_data"
    },
    {
     "name": "stdout",
     "output_type": "stream",
     "text": [
      "Loaded model EleutherAI/pythia-160m-seed1 at step105000; now loading into HookedTransformer\n"
     ]
    },
    {
     "name": "stderr",
     "output_type": "stream",
     "text": [
      "Special tokens have been added in the vocabulary, make sure the associated word embeddings are fine-tuned or trained.\n"
     ]
    },
    {
     "name": "stdout",
     "output_type": "stream",
     "text": [
      "Loaded pretrained model pythia-160m into HookedTransformer\n",
      "Copy circuit for head 9.4 (sign=1) : Top 5 accuracy: 73.33333333333333%\n",
      "Copy circuit for head 9.1 (sign=1) : Top 5 accuracy: 16.19047619047619%\n",
      "Copy circuit for head 9.0 (sign=1) : Top 5 accuracy: 5.238095238095238%\n",
      "Copy circuit for head 8.6 (sign=1) : Top 5 accuracy: 3.8095238095238098%\n",
      "Copy circuit for head 7.9 (sign=1) : Top 5 accuracy: 100.0%\n",
      "Copy circuit for head 7.7 (sign=1) : Top 5 accuracy: 62.38095238095238%\n",
      "Copy circuit for head 9.8 (sign=1) : Top 5 accuracy: 0.4761904761904762%\n",
      "Copy circuit for head 9.11 (sign=1) : Top 5 accuracy: 89.52380952380953%\n",
      "Copy circuit for head 9.10 (sign=1) : Top 5 accuracy: 11.428571428571429%\n",
      "Copy circuit for head 9.9 (sign=1) : Top 5 accuracy: 1.4285714285714286%\n",
      "Copy circuit for head 10.9 (sign=1) : Top 5 accuracy: 5.238095238095238%\n",
      "Copy circuit for head 6.5 (sign=1) : Top 5 accuracy: 100.0%\n",
      "Checkpoint 105000:\n",
      "Heads ablated:            [(7, 9), (9, 11), (6, 5)]\n",
      "Original logit diff:      4.1752910614\n",
      "Post ablation logit diff: 4.9761023521\n",
      "Logit diff % change:      19.18%\n"
     ]
    },
    {
     "data": {
      "application/vnd.jupyter.widget-view+json": {
       "model_id": "4c768165903b423e87a8ea4ac35b4f1c",
       "version_major": 2,
       "version_minor": 0
      },
      "text/plain": [
       "pytorch_model.bin:   0%|          | 0.00/375M [00:00<?, ?B/s]"
      ]
     },
     "metadata": {},
     "output_type": "display_data"
    },
    {
     "name": "stdout",
     "output_type": "stream",
     "text": [
      "Loaded model EleutherAI/pythia-160m-seed1 at step106000; now loading into HookedTransformer\n"
     ]
    },
    {
     "name": "stderr",
     "output_type": "stream",
     "text": [
      "Special tokens have been added in the vocabulary, make sure the associated word embeddings are fine-tuned or trained.\n"
     ]
    },
    {
     "name": "stdout",
     "output_type": "stream",
     "text": [
      "Loaded pretrained model pythia-160m into HookedTransformer\n",
      "Copy circuit for head 9.4 (sign=1) : Top 5 accuracy: 71.42857142857143%\n",
      "Copy circuit for head 9.1 (sign=1) : Top 5 accuracy: 15.238095238095239%\n",
      "Copy circuit for head 9.0 (sign=1) : Top 5 accuracy: 4.761904761904762%\n",
      "Copy circuit for head 8.6 (sign=1) : Top 5 accuracy: 3.8095238095238098%\n",
      "Copy circuit for head 7.9 (sign=1) : Top 5 accuracy: 100.0%\n",
      "Copy circuit for head 7.7 (sign=1) : Top 5 accuracy: 58.0952380952381%\n",
      "Copy circuit for head 9.9 (sign=1) : Top 5 accuracy: 0.9523809523809524%\n",
      "Copy circuit for head 9.10 (sign=1) : Top 5 accuracy: 11.428571428571429%\n",
      "Copy circuit for head 9.11 (sign=1) : Top 5 accuracy: 90.47619047619048%\n",
      "Copy circuit for head 10.11 (sign=1) : Top 5 accuracy: 0.4761904761904762%\n",
      "Copy circuit for head 6.5 (sign=1) : Top 5 accuracy: 100.0%\n",
      "Checkpoint 106000:\n",
      "Heads ablated:            [(7, 9), (9, 11), (6, 5)]\n",
      "Original logit diff:      4.0057411194\n",
      "Post ablation logit diff: 4.9847536087\n",
      "Logit diff % change:      24.44%\n"
     ]
    },
    {
     "data": {
      "application/vnd.jupyter.widget-view+json": {
       "model_id": "a9a36e10492946f19efb231f0d71c9b7",
       "version_major": 2,
       "version_minor": 0
      },
      "text/plain": [
       "pytorch_model.bin:   0%|          | 0.00/375M [00:00<?, ?B/s]"
      ]
     },
     "metadata": {},
     "output_type": "display_data"
    },
    {
     "name": "stderr",
     "output_type": "stream",
     "text": [
      "Special tokens have been added in the vocabulary, make sure the associated word embeddings are fine-tuned or trained.\n"
     ]
    },
    {
     "name": "stdout",
     "output_type": "stream",
     "text": [
      "Loaded model EleutherAI/pythia-160m-seed1 at step107000; now loading into HookedTransformer\n",
      "Loaded pretrained model pythia-160m into HookedTransformer\n",
      "Copy circuit for head 6.5 (sign=1) : Top 5 accuracy: 100.0%\n",
      "Copy circuit for head 9.9 (sign=1) : Top 5 accuracy: 0.9523809523809524%\n",
      "Copy circuit for head 9.10 (sign=1) : Top 5 accuracy: 10.952380952380953%\n",
      "Copy circuit for head 9.11 (sign=1) : Top 5 accuracy: 91.9047619047619%\n",
      "Copy circuit for head 10.9 (sign=1) : Top 5 accuracy: 5.238095238095238%\n",
      "Copy circuit for head 10.11 (sign=1) : Top 5 accuracy: 0.4761904761904762%\n",
      "Copy circuit for head 7.7 (sign=1) : Top 5 accuracy: 58.0952380952381%\n",
      "Copy circuit for head 7.9 (sign=1) : Top 5 accuracy: 100.0%\n",
      "Copy circuit for head 8.6 (sign=1) : Top 5 accuracy: 2.857142857142857%\n",
      "Copy circuit for head 9.0 (sign=1) : Top 5 accuracy: 5.238095238095238%\n",
      "Copy circuit for head 9.1 (sign=1) : Top 5 accuracy: 14.761904761904763%\n",
      "Copy circuit for head 9.4 (sign=1) : Top 5 accuracy: 69.52380952380952%\n",
      "Checkpoint 107000:\n",
      "Heads ablated:            [(6, 5), (9, 11), (7, 9)]\n",
      "Original logit diff:      4.3217892647\n",
      "Post ablation logit diff: 5.1763033867\n",
      "Logit diff % change:      19.77%\n"
     ]
    },
    {
     "data": {
      "application/vnd.jupyter.widget-view+json": {
       "model_id": "e77344a2e0df457ba7e7062e7666e342",
       "version_major": 2,
       "version_minor": 0
      },
      "text/plain": [
       "pytorch_model.bin:   0%|          | 0.00/375M [00:00<?, ?B/s]"
      ]
     },
     "metadata": {},
     "output_type": "display_data"
    },
    {
     "name": "stderr",
     "output_type": "stream",
     "text": [
      "Special tokens have been added in the vocabulary, make sure the associated word embeddings are fine-tuned or trained.\n"
     ]
    },
    {
     "name": "stdout",
     "output_type": "stream",
     "text": [
      "Loaded model EleutherAI/pythia-160m-seed1 at step108000; now loading into HookedTransformer\n",
      "Loaded pretrained model pythia-160m into HookedTransformer\n",
      "Copy circuit for head 6.5 (sign=1) : Top 5 accuracy: 100.0%\n",
      "Copy circuit for head 10.9 (sign=1) : Top 5 accuracy: 5.238095238095238%\n",
      "Copy circuit for head 10.11 (sign=1) : Top 5 accuracy: 0.4761904761904762%\n",
      "Copy circuit for head 9.10 (sign=1) : Top 5 accuracy: 5.714285714285714%\n",
      "Copy circuit for head 9.9 (sign=1) : Top 5 accuracy: 0.9523809523809524%\n",
      "Copy circuit for head 7.7 (sign=1) : Top 5 accuracy: 57.14285714285714%\n",
      "Copy circuit for head 7.9 (sign=1) : Top 5 accuracy: 100.0%\n",
      "Copy circuit for head 9.0 (sign=1) : Top 5 accuracy: 5.238095238095238%\n",
      "Copy circuit for head 9.1 (sign=1) : Top 5 accuracy: 12.380952380952381%\n",
      "Copy circuit for head 9.4 (sign=1) : Top 5 accuracy: 67.61904761904762%\n",
      "Copy circuit for head 8.6 (sign=1) : Top 5 accuracy: 1.4285714285714286%\n",
      "Checkpoint 108000:\n",
      "Heads ablated:            [(6, 5), (7, 9)]\n",
      "Original logit diff:      4.2022624016\n",
      "Post ablation logit diff: 4.7190098763\n",
      "Logit diff % change:      12.30%\n"
     ]
    },
    {
     "data": {
      "application/vnd.jupyter.widget-view+json": {
       "model_id": "2251f6ce0c714087a26b6da9d34d30e8",
       "version_major": 2,
       "version_minor": 0
      },
      "text/plain": [
       "pytorch_model.bin:   0%|          | 0.00/375M [00:00<?, ?B/s]"
      ]
     },
     "metadata": {},
     "output_type": "display_data"
    },
    {
     "name": "stdout",
     "output_type": "stream",
     "text": [
      "Loaded model EleutherAI/pythia-160m-seed1 at step109000; now loading into HookedTransformer\n"
     ]
    },
    {
     "name": "stderr",
     "output_type": "stream",
     "text": [
      "Special tokens have been added in the vocabulary, make sure the associated word embeddings are fine-tuned or trained.\n"
     ]
    },
    {
     "name": "stdout",
     "output_type": "stream",
     "text": [
      "Loaded pretrained model pythia-160m into HookedTransformer\n",
      "Copy circuit for head 6.5 (sign=1) : Top 5 accuracy: 100.0%\n",
      "Copy circuit for head 9.11 (sign=1) : Top 5 accuracy: 90.0%\n",
      "Copy circuit for head 9.10 (sign=1) : Top 5 accuracy: 9.047619047619047%\n",
      "Copy circuit for head 7.7 (sign=1) : Top 5 accuracy: 55.714285714285715%\n",
      "Copy circuit for head 7.9 (sign=1) : Top 5 accuracy: 100.0%\n",
      "Copy circuit for head 8.6 (sign=1) : Top 5 accuracy: 0.9523809523809524%\n",
      "Copy circuit for head 9.0 (sign=1) : Top 5 accuracy: 5.238095238095238%\n",
      "Copy circuit for head 9.1 (sign=1) : Top 5 accuracy: 11.904761904761903%\n",
      "Copy circuit for head 9.4 (sign=1) : Top 5 accuracy: 65.71428571428571%\n",
      "Checkpoint 109000:\n",
      "Heads ablated:            [(6, 5), (9, 11), (7, 9)]\n",
      "Original logit diff:      4.1018290520\n",
      "Post ablation logit diff: 4.6790719032\n",
      "Logit diff % change:      14.07%\n"
     ]
    },
    {
     "data": {
      "application/vnd.jupyter.widget-view+json": {
       "model_id": "94e5f8baff70400fb7ff2724c021208c",
       "version_major": 2,
       "version_minor": 0
      },
      "text/plain": [
       "pytorch_model.bin:   0%|          | 0.00/375M [00:00<?, ?B/s]"
      ]
     },
     "metadata": {},
     "output_type": "display_data"
    },
    {
     "name": "stderr",
     "output_type": "stream",
     "text": [
      "Special tokens have been added in the vocabulary, make sure the associated word embeddings are fine-tuned or trained.\n"
     ]
    },
    {
     "name": "stdout",
     "output_type": "stream",
     "text": [
      "Loaded model EleutherAI/pythia-160m-seed1 at step110000; now loading into HookedTransformer\n",
      "Loaded pretrained model pythia-160m into HookedTransformer\n",
      "Copy circuit for head 9.4 (sign=1) : Top 5 accuracy: 67.61904761904762%\n",
      "Copy circuit for head 9.1 (sign=1) : Top 5 accuracy: 10.952380952380953%\n",
      "Copy circuit for head 8.6 (sign=1) : Top 5 accuracy: 0.4761904761904762%\n",
      "Copy circuit for head 7.9 (sign=1) : Top 5 accuracy: 100.0%\n",
      "Copy circuit for head 7.7 (sign=1) : Top 5 accuracy: 54.285714285714285%\n",
      "Copy circuit for head 9.11 (sign=1) : Top 5 accuracy: 91.42857142857143%\n",
      "Copy circuit for head 9.10 (sign=1) : Top 5 accuracy: 3.3333333333333335%\n",
      "Copy circuit for head 6.5 (sign=1) : Top 5 accuracy: 100.0%\n",
      "Checkpoint 110000:\n",
      "Heads ablated:            [(7, 9), (9, 11), (6, 5)]\n",
      "Original logit diff:      4.4156990051\n",
      "Post ablation logit diff: 5.0655627251\n",
      "Logit diff % change:      14.72%\n"
     ]
    },
    {
     "data": {
      "application/vnd.jupyter.widget-view+json": {
       "model_id": "8b083751735e4b8aad861c1229ae5d7d",
       "version_major": 2,
       "version_minor": 0
      },
      "text/plain": [
       "pytorch_model.bin:   0%|          | 0.00/375M [00:00<?, ?B/s]"
      ]
     },
     "metadata": {},
     "output_type": "display_data"
    },
    {
     "name": "stderr",
     "output_type": "stream",
     "text": [
      "Special tokens have been added in the vocabulary, make sure the associated word embeddings are fine-tuned or trained.\n"
     ]
    },
    {
     "name": "stdout",
     "output_type": "stream",
     "text": [
      "Loaded model EleutherAI/pythia-160m-seed1 at step111000; now loading into HookedTransformer\n",
      "Loaded pretrained model pythia-160m into HookedTransformer\n",
      "Copy circuit for head 6.5 (sign=1) : Top 5 accuracy: 100.0%\n",
      "Copy circuit for head 9.11 (sign=1) : Top 5 accuracy: 90.0%\n",
      "Copy circuit for head 9.10 (sign=1) : Top 5 accuracy: 8.095238095238095%\n",
      "Copy circuit for head 7.7 (sign=1) : Top 5 accuracy: 62.38095238095238%\n",
      "Copy circuit for head 7.9 (sign=1) : Top 5 accuracy: 100.0%\n",
      "Copy circuit for head 9.1 (sign=1) : Top 5 accuracy: 11.904761904761903%\n",
      "Copy circuit for head 9.4 (sign=1) : Top 5 accuracy: 70.0%\n",
      "Copy circuit for head 8.6 (sign=1) : Top 5 accuracy: 0.4761904761904762%\n",
      "Checkpoint 111000:\n",
      "Heads ablated:            [(6, 5), (9, 11), (7, 9)]\n",
      "Original logit diff:      4.5978817940\n",
      "Post ablation logit diff: 4.7608127594\n",
      "Logit diff % change:      3.54%\n"
     ]
    },
    {
     "data": {
      "application/vnd.jupyter.widget-view+json": {
       "model_id": "8752cc1a434f483b9dbc5d58021de9e3",
       "version_major": 2,
       "version_minor": 0
      },
      "text/plain": [
       "pytorch_model.bin:   0%|          | 0.00/375M [00:00<?, ?B/s]"
      ]
     },
     "metadata": {},
     "output_type": "display_data"
    },
    {
     "name": "stdout",
     "output_type": "stream",
     "text": [
      "Loaded model EleutherAI/pythia-160m-seed1 at step112000; now loading into HookedTransformer\n"
     ]
    },
    {
     "name": "stderr",
     "output_type": "stream",
     "text": [
      "Special tokens have been added in the vocabulary, make sure the associated word embeddings are fine-tuned or trained.\n"
     ]
    },
    {
     "name": "stdout",
     "output_type": "stream",
     "text": [
      "Loaded pretrained model pythia-160m into HookedTransformer\n",
      "Copy circuit for head 6.5 (sign=1) : Top 5 accuracy: 100.0%\n",
      "Copy circuit for head 6.7 (sign=1) : Top 5 accuracy: 0.4761904761904762%\n",
      "Copy circuit for head 9.11 (sign=1) : Top 5 accuracy: 89.04761904761904%\n",
      "Copy circuit for head 10.7 (sign=1) : Top 5 accuracy: 2.380952380952381%\n",
      "Copy circuit for head 9.10 (sign=1) : Top 5 accuracy: 10.952380952380953%\n",
      "Copy circuit for head 7.7 (sign=1) : Top 5 accuracy: 60.952380952380956%\n",
      "Copy circuit for head 7.9 (sign=1) : Top 5 accuracy: 100.0%\n",
      "Copy circuit for head 9.1 (sign=1) : Top 5 accuracy: 12.857142857142856%\n",
      "Copy circuit for head 9.4 (sign=1) : Top 5 accuracy: 74.28571428571429%\n",
      "Checkpoint 112000:\n",
      "Heads ablated:            [(6, 5), (9, 11), (7, 9)]\n",
      "Original logit diff:      4.3038253784\n",
      "Post ablation logit diff: 4.4980916977\n",
      "Logit diff % change:      4.51%\n"
     ]
    },
    {
     "data": {
      "application/vnd.jupyter.widget-view+json": {
       "model_id": "990558811d5d46f1a6b9ee69ec77baf9",
       "version_major": 2,
       "version_minor": 0
      },
      "text/plain": [
       "pytorch_model.bin:   0%|          | 0.00/375M [00:00<?, ?B/s]"
      ]
     },
     "metadata": {},
     "output_type": "display_data"
    },
    {
     "name": "stdout",
     "output_type": "stream",
     "text": [
      "Loaded model EleutherAI/pythia-160m-seed1 at step113000; now loading into HookedTransformer\n"
     ]
    },
    {
     "name": "stderr",
     "output_type": "stream",
     "text": [
      "Special tokens have been added in the vocabulary, make sure the associated word embeddings are fine-tuned or trained.\n"
     ]
    },
    {
     "name": "stdout",
     "output_type": "stream",
     "text": [
      "Loaded pretrained model pythia-160m into HookedTransformer\n",
      "Copy circuit for head 7.9 (sign=1) : Top 5 accuracy: 100.0%\n",
      "Copy circuit for head 9.4 (sign=1) : Top 5 accuracy: 81.42857142857143%\n",
      "Checkpoint 113000:\n",
      "Heads ablated:            [(7, 9), (9, 4)]\n",
      "Original logit diff:      4.1878333092\n",
      "Post ablation logit diff: 3.9840052128\n",
      "Logit diff % change:      -4.87%\n"
     ]
    },
    {
     "data": {
      "application/vnd.jupyter.widget-view+json": {
       "model_id": "946ac2246ff243dfacc0c4ba8dcabeb5",
       "version_major": 2,
       "version_minor": 0
      },
      "text/plain": [
       "pytorch_model.bin:   0%|          | 0.00/375M [00:00<?, ?B/s]"
      ]
     },
     "metadata": {},
     "output_type": "display_data"
    },
    {
     "name": "stdout",
     "output_type": "stream",
     "text": [
      "Loaded model EleutherAI/pythia-160m-seed1 at step114000; now loading into HookedTransformer\n"
     ]
    },
    {
     "name": "stderr",
     "output_type": "stream",
     "text": [
      "Special tokens have been added in the vocabulary, make sure the associated word embeddings are fine-tuned or trained.\n"
     ]
    },
    {
     "name": "stdout",
     "output_type": "stream",
     "text": [
      "Loaded pretrained model pythia-160m into HookedTransformer\n",
      "Copy circuit for head 6.5 (sign=1) : Top 5 accuracy: 100.0%\n",
      "Copy circuit for head 6.7 (sign=1) : Top 5 accuracy: 0.9523809523809524%\n",
      "Copy circuit for head 9.10 (sign=1) : Top 5 accuracy: 13.333333333333334%\n",
      "Copy circuit for head 9.11 (sign=1) : Top 5 accuracy: 90.47619047619048%\n",
      "Copy circuit for head 10.9 (sign=1) : Top 5 accuracy: 12.857142857142856%\n",
      "Copy circuit for head 9.8 (sign=1) : Top 5 accuracy: 0.9523809523809524%\n",
      "Copy circuit for head 7.7 (sign=1) : Top 5 accuracy: 66.66666666666666%\n",
      "Copy circuit for head 7.9 (sign=1) : Top 5 accuracy: 100.0%\n",
      "Copy circuit for head 9.1 (sign=1) : Top 5 accuracy: 17.61904761904762%\n",
      "Copy circuit for head 9.4 (sign=1) : Top 5 accuracy: 81.42857142857143%\n",
      "Checkpoint 114000:\n",
      "Heads ablated:            [(6, 5), (9, 11), (7, 9), (9, 4)]\n",
      "Original logit diff:      4.0382838249\n",
      "Post ablation logit diff: 3.8254237175\n",
      "Logit diff % change:      -5.27%\n"
     ]
    },
    {
     "data": {
      "application/vnd.jupyter.widget-view+json": {
       "model_id": "9df914e9cc77406d84618386de3991d6",
       "version_major": 2,
       "version_minor": 0
      },
      "text/plain": [
       "pytorch_model.bin:   0%|          | 0.00/375M [00:00<?, ?B/s]"
      ]
     },
     "metadata": {},
     "output_type": "display_data"
    },
    {
     "name": "stderr",
     "output_type": "stream",
     "text": [
      "Special tokens have been added in the vocabulary, make sure the associated word embeddings are fine-tuned or trained.\n"
     ]
    },
    {
     "name": "stdout",
     "output_type": "stream",
     "text": [
      "Loaded model EleutherAI/pythia-160m-seed1 at step115000; now loading into HookedTransformer\n",
      "Loaded pretrained model pythia-160m into HookedTransformer\n",
      "Copy circuit for head 6.5 (sign=1) : Top 5 accuracy: 100.0%\n",
      "Copy circuit for head 6.7 (sign=1) : Top 5 accuracy: 1.4285714285714286%\n",
      "Copy circuit for head 9.8 (sign=1) : Top 5 accuracy: 0.9523809523809524%\n",
      "Copy circuit for head 9.10 (sign=1) : Top 5 accuracy: 14.285714285714285%\n",
      "Copy circuit for head 9.4 (sign=1) : Top 5 accuracy: 83.80952380952381%\n",
      "Copy circuit for head 7.7 (sign=1) : Top 5 accuracy: 68.0952380952381%\n",
      "Copy circuit for head 7.9 (sign=1) : Top 5 accuracy: 100.0%\n",
      "Copy circuit for head 9.0 (sign=1) : Top 5 accuracy: 8.095238095238095%\n",
      "Copy circuit for head 9.1 (sign=1) : Top 5 accuracy: 21.904761904761905%\n",
      "Checkpoint 115000:\n",
      "Heads ablated:            [(6, 5), (9, 4), (7, 9)]\n",
      "Original logit diff:      4.2476220131\n",
      "Post ablation logit diff: 4.1571927071\n",
      "Logit diff % change:      -2.13%\n"
     ]
    },
    {
     "data": {
      "application/vnd.jupyter.widget-view+json": {
       "model_id": "ead70d44f7794880bb5fbf843592dba0",
       "version_major": 2,
       "version_minor": 0
      },
      "text/plain": [
       "pytorch_model.bin:   0%|          | 0.00/375M [00:00<?, ?B/s]"
      ]
     },
     "metadata": {},
     "output_type": "display_data"
    },
    {
     "name": "stdout",
     "output_type": "stream",
     "text": [
      "Loaded model EleutherAI/pythia-160m-seed1 at step116000; now loading into HookedTransformer\n"
     ]
    },
    {
     "name": "stderr",
     "output_type": "stream",
     "text": [
      "Special tokens have been added in the vocabulary, make sure the associated word embeddings are fine-tuned or trained.\n"
     ]
    },
    {
     "name": "stdout",
     "output_type": "stream",
     "text": [
      "Loaded pretrained model pythia-160m into HookedTransformer\n",
      "Copy circuit for head 9.1 (sign=1) : Top 5 accuracy: 19.523809523809526%\n",
      "Copy circuit for head 9.0 (sign=1) : Top 5 accuracy: 8.095238095238095%\n",
      "Copy circuit for head 7.9 (sign=1) : Top 5 accuracy: 100.0%\n",
      "Copy circuit for head 7.7 (sign=1) : Top 5 accuracy: 64.28571428571429%\n",
      "Copy circuit for head 9.4 (sign=1) : Top 5 accuracy: 84.28571428571429%\n",
      "Copy circuit for head 10.7 (sign=1) : Top 5 accuracy: 10.952380952380953%\n",
      "Copy circuit for head 9.11 (sign=1) : Top 5 accuracy: 89.04761904761904%\n",
      "Copy circuit for head 9.10 (sign=1) : Top 5 accuracy: 14.761904761904763%\n",
      "Copy circuit for head 9.8 (sign=1) : Top 5 accuracy: 1.9047619047619049%\n",
      "Copy circuit for head 6.7 (sign=1) : Top 5 accuracy: 1.4285714285714286%\n",
      "Copy circuit for head 6.5 (sign=1) : Top 5 accuracy: 100.0%\n",
      "Checkpoint 116000:\n",
      "Heads ablated:            [(7, 9), (9, 4), (9, 11), (6, 5)]\n",
      "Original logit diff:      4.2377133369\n",
      "Post ablation logit diff: 3.9852373600\n",
      "Logit diff % change:      -5.96%\n"
     ]
    },
    {
     "data": {
      "application/vnd.jupyter.widget-view+json": {
       "model_id": "afd1b72f661f41338ca16d2fdbdb7079",
       "version_major": 2,
       "version_minor": 0
      },
      "text/plain": [
       "pytorch_model.bin:   0%|          | 0.00/375M [00:00<?, ?B/s]"
      ]
     },
     "metadata": {},
     "output_type": "display_data"
    },
    {
     "name": "stdout",
     "output_type": "stream",
     "text": [
      "Loaded model EleutherAI/pythia-160m-seed1 at step117000; now loading into HookedTransformer\n"
     ]
    },
    {
     "name": "stderr",
     "output_type": "stream",
     "text": [
      "Special tokens have been added in the vocabulary, make sure the associated word embeddings are fine-tuned or trained.\n"
     ]
    },
    {
     "name": "stdout",
     "output_type": "stream",
     "text": [
      "Loaded pretrained model pythia-160m into HookedTransformer\n",
      "Copy circuit for head 9.4 (sign=1) : Top 5 accuracy: 85.23809523809524%\n",
      "Copy circuit for head 9.1 (sign=1) : Top 5 accuracy: 21.904761904761905%\n",
      "Copy circuit for head 9.0 (sign=1) : Top 5 accuracy: 7.6190476190476195%\n",
      "Copy circuit for head 7.9 (sign=1) : Top 5 accuracy: 100.0%\n",
      "Copy circuit for head 7.7 (sign=1) : Top 5 accuracy: 66.19047619047619%\n",
      "Copy circuit for head 9.8 (sign=1) : Top 5 accuracy: 2.380952380952381%\n",
      "Copy circuit for head 9.10 (sign=1) : Top 5 accuracy: 15.714285714285714%\n",
      "Copy circuit for head 10.9 (sign=1) : Top 5 accuracy: 15.238095238095239%\n",
      "Copy circuit for head 10.7 (sign=1) : Top 5 accuracy: 10.952380952380953%\n",
      "Copy circuit for head 9.11 (sign=1) : Top 5 accuracy: 90.0%\n",
      "Copy circuit for head 6.7 (sign=1) : Top 5 accuracy: 1.4285714285714286%\n",
      "Copy circuit for head 6.5 (sign=1) : Top 5 accuracy: 100.0%\n",
      "Checkpoint 117000:\n",
      "Heads ablated:            [(9, 4), (7, 9), (9, 11), (6, 5)]\n",
      "Original logit diff:      4.3117194176\n",
      "Post ablation logit diff: 3.8393974304\n",
      "Logit diff % change:      -10.95%\n"
     ]
    },
    {
     "data": {
      "application/vnd.jupyter.widget-view+json": {
       "model_id": "bf0d083d85a84337be0f7f000f7c4ab4",
       "version_major": 2,
       "version_minor": 0
      },
      "text/plain": [
       "pytorch_model.bin:   0%|          | 0.00/375M [00:00<?, ?B/s]"
      ]
     },
     "metadata": {},
     "output_type": "display_data"
    },
    {
     "name": "stdout",
     "output_type": "stream",
     "text": [
      "Loaded model EleutherAI/pythia-160m-seed1 at step118000; now loading into HookedTransformer\n"
     ]
    },
    {
     "name": "stderr",
     "output_type": "stream",
     "text": [
      "Special tokens have been added in the vocabulary, make sure the associated word embeddings are fine-tuned or trained.\n"
     ]
    },
    {
     "name": "stdout",
     "output_type": "stream",
     "text": [
      "Loaded pretrained model pythia-160m into HookedTransformer\n",
      "Copy circuit for head 6.5 (sign=1) : Top 5 accuracy: 100.0%\n",
      "Copy circuit for head 6.7 (sign=1) : Top 5 accuracy: 1.4285714285714286%\n",
      "Copy circuit for head 9.11 (sign=1) : Top 5 accuracy: 90.95238095238095%\n",
      "Copy circuit for head 9.10 (sign=1) : Top 5 accuracy: 15.238095238095239%\n",
      "Copy circuit for head 9.8 (sign=1) : Top 5 accuracy: 1.9047619047619049%\n",
      "Copy circuit for head 7.7 (sign=1) : Top 5 accuracy: 63.33333333333333%\n",
      "Copy circuit for head 7.9 (sign=1) : Top 5 accuracy: 100.0%\n",
      "Copy circuit for head 9.0 (sign=1) : Top 5 accuracy: 7.142857142857142%\n",
      "Copy circuit for head 9.1 (sign=1) : Top 5 accuracy: 20.476190476190474%\n",
      "Copy circuit for head 9.4 (sign=1) : Top 5 accuracy: 82.38095238095238%\n",
      "Checkpoint 118000:\n",
      "Heads ablated:            [(6, 5), (9, 11), (7, 9), (9, 4)]\n",
      "Original logit diff:      4.8152790070\n",
      "Post ablation logit diff: 4.0367293358\n",
      "Logit diff % change:      -16.17%\n"
     ]
    },
    {
     "data": {
      "application/vnd.jupyter.widget-view+json": {
       "model_id": "31fb80cb137d42888c4e4c5e1ca06982",
       "version_major": 2,
       "version_minor": 0
      },
      "text/plain": [
       "pytorch_model.bin:   0%|          | 0.00/375M [00:00<?, ?B/s]"
      ]
     },
     "metadata": {},
     "output_type": "display_data"
    },
    {
     "name": "stderr",
     "output_type": "stream",
     "text": [
      "Special tokens have been added in the vocabulary, make sure the associated word embeddings are fine-tuned or trained.\n"
     ]
    },
    {
     "name": "stdout",
     "output_type": "stream",
     "text": [
      "Loaded model EleutherAI/pythia-160m-seed1 at step119000; now loading into HookedTransformer\n",
      "Loaded pretrained model pythia-160m into HookedTransformer\n",
      "Copy circuit for head 9.4 (sign=1) : Top 5 accuracy: 83.80952380952381%\n",
      "Copy circuit for head 9.1 (sign=1) : Top 5 accuracy: 20.0%\n",
      "Copy circuit for head 9.0 (sign=1) : Top 5 accuracy: 7.142857142857142%\n",
      "Copy circuit for head 7.9 (sign=1) : Top 5 accuracy: 100.0%\n",
      "Copy circuit for head 7.7 (sign=1) : Top 5 accuracy: 60.476190476190474%\n",
      "Copy circuit for head 9.8 (sign=1) : Top 5 accuracy: 1.4285714285714286%\n",
      "Copy circuit for head 9.10 (sign=1) : Top 5 accuracy: 11.904761904761903%\n",
      "Copy circuit for head 10.9 (sign=1) : Top 5 accuracy: 14.285714285714285%\n",
      "Copy circuit for head 10.7 (sign=1) : Top 5 accuracy: 10.0%\n",
      "Copy circuit for head 9.11 (sign=1) : Top 5 accuracy: 90.0%\n",
      "Copy circuit for head 6.7 (sign=1) : Top 5 accuracy: 1.4285714285714286%\n",
      "Copy circuit for head 6.5 (sign=1) : Top 5 accuracy: 100.0%\n",
      "Checkpoint 119000:\n",
      "Heads ablated:            [(9, 4), (7, 9), (9, 11), (6, 5)]\n",
      "Original logit diff:      4.2793865204\n",
      "Post ablation logit diff: 3.9486014843\n",
      "Logit diff % change:      -7.73%\n"
     ]
    },
    {
     "data": {
      "application/vnd.jupyter.widget-view+json": {
       "model_id": "31a75c2c36dc4165be14d516c27aa2a0",
       "version_major": 2,
       "version_minor": 0
      },
      "text/plain": [
       "pytorch_model.bin:   0%|          | 0.00/375M [00:00<?, ?B/s]"
      ]
     },
     "metadata": {},
     "output_type": "display_data"
    },
    {
     "name": "stderr",
     "output_type": "stream",
     "text": [
      "Special tokens have been added in the vocabulary, make sure the associated word embeddings are fine-tuned or trained.\n"
     ]
    },
    {
     "name": "stdout",
     "output_type": "stream",
     "text": [
      "Loaded model EleutherAI/pythia-160m-seed1 at step120000; now loading into HookedTransformer\n",
      "Loaded pretrained model pythia-160m into HookedTransformer\n",
      "Copy circuit for head 9.4 (sign=1) : Top 5 accuracy: 84.76190476190476%\n",
      "Copy circuit for head 9.1 (sign=1) : Top 5 accuracy: 19.523809523809526%\n",
      "Copy circuit for head 7.9 (sign=1) : Top 5 accuracy: 100.0%\n",
      "Copy circuit for head 9.10 (sign=1) : Top 5 accuracy: 11.428571428571429%\n",
      "Checkpoint 120000:\n",
      "Heads ablated:            [(9, 4), (7, 9)]\n",
      "Original logit diff:      4.0286650658\n",
      "Post ablation logit diff: 3.7592551708\n",
      "Logit diff % change:      -6.69%\n"
     ]
    },
    {
     "data": {
      "application/vnd.jupyter.widget-view+json": {
       "model_id": "fb5b4854969843dc81ff5761f8f46fb4",
       "version_major": 2,
       "version_minor": 0
      },
      "text/plain": [
       "pytorch_model.bin:   0%|          | 0.00/375M [00:00<?, ?B/s]"
      ]
     },
     "metadata": {},
     "output_type": "display_data"
    },
    {
     "name": "stdout",
     "output_type": "stream",
     "text": [
      "Loaded model EleutherAI/pythia-160m-seed1 at step121000; now loading into HookedTransformer\n"
     ]
    },
    {
     "name": "stderr",
     "output_type": "stream",
     "text": [
      "Special tokens have been added in the vocabulary, make sure the associated word embeddings are fine-tuned or trained.\n"
     ]
    },
    {
     "name": "stdout",
     "output_type": "stream",
     "text": [
      "Loaded pretrained model pythia-160m into HookedTransformer\n",
      "Copy circuit for head 6.5 (sign=1) : Top 5 accuracy: 100.0%\n",
      "Copy circuit for head 9.10 (sign=1) : Top 5 accuracy: 11.904761904761903%\n",
      "Copy circuit for head 9.11 (sign=1) : Top 5 accuracy: 89.52380952380953%\n",
      "Copy circuit for head 7.9 (sign=1) : Top 5 accuracy: 100.0%\n",
      "Copy circuit for head 9.1 (sign=1) : Top 5 accuracy: 17.61904761904762%\n",
      "Copy circuit for head 9.4 (sign=1) : Top 5 accuracy: 82.38095238095238%\n",
      "Checkpoint 121000:\n",
      "Heads ablated:            [(6, 5), (9, 11), (7, 9), (9, 4)]\n",
      "Original logit diff:      4.9286441803\n",
      "Post ablation logit diff: 4.4905133247\n",
      "Logit diff % change:      -8.89%\n"
     ]
    },
    {
     "data": {
      "application/vnd.jupyter.widget-view+json": {
       "model_id": "d2d40247d2d94e8980875a21e80e9cac",
       "version_major": 2,
       "version_minor": 0
      },
      "text/plain": [
       "pytorch_model.bin:   0%|          | 0.00/375M [00:00<?, ?B/s]"
      ]
     },
     "metadata": {},
     "output_type": "display_data"
    },
    {
     "name": "stderr",
     "output_type": "stream",
     "text": [
      "Special tokens have been added in the vocabulary, make sure the associated word embeddings are fine-tuned or trained.\n"
     ]
    },
    {
     "name": "stdout",
     "output_type": "stream",
     "text": [
      "Loaded model EleutherAI/pythia-160m-seed1 at step122000; now loading into HookedTransformer\n",
      "Loaded pretrained model pythia-160m into HookedTransformer\n",
      "Copy circuit for head 9.8 (sign=1) : Top 5 accuracy: 0.9523809523809524%\n",
      "Copy circuit for head 9.4 (sign=1) : Top 5 accuracy: 80.0%\n",
      "Copy circuit for head 9.1 (sign=1) : Top 5 accuracy: 17.142857142857142%\n",
      "Copy circuit for head 7.9 (sign=1) : Top 5 accuracy: 100.0%\n",
      "Copy circuit for head 9.10 (sign=1) : Top 5 accuracy: 11.904761904761903%\n",
      "Copy circuit for head 7.7 (sign=1) : Top 5 accuracy: 57.61904761904761%\n",
      "Copy circuit for head 6.7 (sign=1) : Top 5 accuracy: 1.4285714285714286%\n",
      "Copy circuit for head 6.5 (sign=1) : Top 5 accuracy: 100.0%\n",
      "Checkpoint 122000:\n",
      "Heads ablated:            [(9, 4), (7, 9), (6, 5)]\n",
      "Original logit diff:      4.4834618568\n",
      "Post ablation logit diff: 4.2635087967\n",
      "Logit diff % change:      -4.91%\n"
     ]
    },
    {
     "data": {
      "application/vnd.jupyter.widget-view+json": {
       "model_id": "234a2890a1904063984209b254c76b21",
       "version_major": 2,
       "version_minor": 0
      },
      "text/plain": [
       "pytorch_model.bin:   0%|          | 0.00/375M [00:00<?, ?B/s]"
      ]
     },
     "metadata": {},
     "output_type": "display_data"
    },
    {
     "name": "stdout",
     "output_type": "stream",
     "text": [
      "Loaded model EleutherAI/pythia-160m-seed1 at step123000; now loading into HookedTransformer\n"
     ]
    },
    {
     "name": "stderr",
     "output_type": "stream",
     "text": [
      "Special tokens have been added in the vocabulary, make sure the associated word embeddings are fine-tuned or trained.\n"
     ]
    },
    {
     "name": "stdout",
     "output_type": "stream",
     "text": [
      "Loaded pretrained model pythia-160m into HookedTransformer\n",
      "Copy circuit for head 6.5 (sign=1) : Top 5 accuracy: 100.0%\n",
      "Copy circuit for head 6.7 (sign=1) : Top 5 accuracy: 0.9523809523809524%\n",
      "Copy circuit for head 9.8 (sign=1) : Top 5 accuracy: 0.9523809523809524%\n",
      "Copy circuit for head 9.9 (sign=1) : Top 5 accuracy: 0.9523809523809524%\n",
      "Copy circuit for head 9.10 (sign=1) : Top 5 accuracy: 11.428571428571429%\n",
      "Copy circuit for head 9.11 (sign=1) : Top 5 accuracy: 89.52380952380953%\n",
      "Copy circuit for head 10.7 (sign=1) : Top 5 accuracy: 7.142857142857142%\n",
      "Copy circuit for head 10.9 (sign=1) : Top 5 accuracy: 12.857142857142856%\n",
      "Copy circuit for head 10.11 (sign=1) : Top 5 accuracy: 0.4761904761904762%\n",
      "Copy circuit for head 9.4 (sign=1) : Top 5 accuracy: 79.52380952380952%\n",
      "Copy circuit for head 7.7 (sign=1) : Top 5 accuracy: 56.666666666666664%\n",
      "Copy circuit for head 7.9 (sign=1) : Top 5 accuracy: 100.0%\n",
      "Copy circuit for head 9.0 (sign=1) : Top 5 accuracy: 6.666666666666667%\n",
      "Copy circuit for head 9.1 (sign=1) : Top 5 accuracy: 14.285714285714285%\n",
      "Checkpoint 123000:\n",
      "Heads ablated:            [(6, 5), (9, 11), (9, 4), (7, 9)]\n",
      "Original logit diff:      4.2516412735\n",
      "Post ablation logit diff: 4.0375199318\n",
      "Logit diff % change:      -5.04%\n"
     ]
    },
    {
     "data": {
      "application/vnd.jupyter.widget-view+json": {
       "model_id": "cdc2be31b18c4661a8f73ee808cebd04",
       "version_major": 2,
       "version_minor": 0
      },
      "text/plain": [
       "pytorch_model.bin:   0%|          | 0.00/375M [00:00<?, ?B/s]"
      ]
     },
     "metadata": {},
     "output_type": "display_data"
    },
    {
     "name": "stderr",
     "output_type": "stream",
     "text": [
      "Special tokens have been added in the vocabulary, make sure the associated word embeddings are fine-tuned or trained.\n"
     ]
    },
    {
     "name": "stdout",
     "output_type": "stream",
     "text": [
      "Loaded model EleutherAI/pythia-160m-seed1 at step124000; now loading into HookedTransformer\n",
      "Loaded pretrained model pythia-160m into HookedTransformer\n",
      "Copy circuit for head 6.5 (sign=1) : Top 5 accuracy: 100.0%\n",
      "Copy circuit for head 6.7 (sign=1) : Top 5 accuracy: 0.4761904761904762%\n",
      "Copy circuit for head 9.10 (sign=1) : Top 5 accuracy: 11.428571428571429%\n",
      "Copy circuit for head 9.11 (sign=1) : Top 5 accuracy: 92.38095238095238%\n",
      "Copy circuit for head 10.7 (sign=1) : Top 5 accuracy: 6.666666666666667%\n",
      "Copy circuit for head 10.9 (sign=1) : Top 5 accuracy: 12.380952380952381%\n",
      "Copy circuit for head 9.8 (sign=1) : Top 5 accuracy: 1.9047619047619049%\n",
      "Copy circuit for head 7.7 (sign=1) : Top 5 accuracy: 52.38095238095239%\n",
      "Copy circuit for head 7.9 (sign=1) : Top 5 accuracy: 100.0%\n",
      "Copy circuit for head 9.0 (sign=1) : Top 5 accuracy: 6.190476190476191%\n",
      "Copy circuit for head 9.1 (sign=1) : Top 5 accuracy: 13.80952380952381%\n",
      "Copy circuit for head 9.4 (sign=1) : Top 5 accuracy: 79.52380952380952%\n",
      "Checkpoint 124000:\n",
      "Heads ablated:            [(6, 5), (9, 11), (7, 9), (9, 4)]\n",
      "Original logit diff:      4.4872407913\n",
      "Post ablation logit diff: 4.0573844910\n",
      "Logit diff % change:      -9.58%\n"
     ]
    },
    {
     "data": {
      "application/vnd.jupyter.widget-view+json": {
       "model_id": "7a3f9b1428d9422db07eae631dd9fe3a",
       "version_major": 2,
       "version_minor": 0
      },
      "text/plain": [
       "pytorch_model.bin:   0%|          | 0.00/375M [00:00<?, ?B/s]"
      ]
     },
     "metadata": {},
     "output_type": "display_data"
    },
    {
     "name": "stderr",
     "output_type": "stream",
     "text": [
      "Special tokens have been added in the vocabulary, make sure the associated word embeddings are fine-tuned or trained.\n"
     ]
    },
    {
     "name": "stdout",
     "output_type": "stream",
     "text": [
      "Loaded model EleutherAI/pythia-160m-seed1 at step125000; now loading into HookedTransformer\n",
      "Loaded pretrained model pythia-160m into HookedTransformer\n",
      "Copy circuit for head 9.4 (sign=1) : Top 5 accuracy: 77.61904761904762%\n",
      "Copy circuit for head 9.1 (sign=1) : Top 5 accuracy: 16.19047619047619%\n",
      "Copy circuit for head 9.0 (sign=1) : Top 5 accuracy: 6.190476190476191%\n",
      "Copy circuit for head 7.9 (sign=1) : Top 5 accuracy: 100.0%\n",
      "Copy circuit for head 7.7 (sign=1) : Top 5 accuracy: 50.95238095238095%\n",
      "Copy circuit for head 9.8 (sign=1) : Top 5 accuracy: 0.9523809523809524%\n",
      "Copy circuit for head 10.11 (sign=1) : Top 5 accuracy: 0.4761904761904762%\n",
      "Copy circuit for head 10.9 (sign=1) : Top 5 accuracy: 10.476190476190476%\n",
      "Copy circuit for head 10.7 (sign=1) : Top 5 accuracy: 8.571428571428571%\n",
      "Copy circuit for head 9.11 (sign=1) : Top 5 accuracy: 90.95238095238095%\n",
      "Copy circuit for head 9.10 (sign=1) : Top 5 accuracy: 11.428571428571429%\n",
      "Copy circuit for head 6.7 (sign=1) : Top 5 accuracy: 0.4761904761904762%\n",
      "Copy circuit for head 6.5 (sign=1) : Top 5 accuracy: 100.0%\n",
      "Checkpoint 125000:\n",
      "Heads ablated:            [(9, 4), (7, 9), (9, 11), (6, 5)]\n",
      "Original logit diff:      3.9184076786\n",
      "Post ablation logit diff: 3.8452501297\n",
      "Logit diff % change:      -1.87%\n"
     ]
    },
    {
     "data": {
      "application/vnd.jupyter.widget-view+json": {
       "model_id": "61d96a02321a4b538929663597348d9f",
       "version_major": 2,
       "version_minor": 0
      },
      "text/plain": [
       "pytorch_model.bin:   0%|          | 0.00/375M [00:00<?, ?B/s]"
      ]
     },
     "metadata": {},
     "output_type": "display_data"
    },
    {
     "name": "stderr",
     "output_type": "stream",
     "text": [
      "Special tokens have been added in the vocabulary, make sure the associated word embeddings are fine-tuned or trained.\n"
     ]
    },
    {
     "name": "stdout",
     "output_type": "stream",
     "text": [
      "Loaded model EleutherAI/pythia-160m-seed1 at step126000; now loading into HookedTransformer\n",
      "Loaded pretrained model pythia-160m into HookedTransformer\n",
      "Copy circuit for head 9.4 (sign=1) : Top 5 accuracy: 78.0952380952381%\n",
      "Copy circuit for head 9.1 (sign=1) : Top 5 accuracy: 14.761904761904763%\n",
      "Copy circuit for head 7.9 (sign=1) : Top 5 accuracy: 100.0%\n",
      "Copy circuit for head 7.7 (sign=1) : Top 5 accuracy: 47.14285714285714%\n",
      "Copy circuit for head 9.8 (sign=1) : Top 5 accuracy: 0.9523809523809524%\n",
      "Copy circuit for head 9.10 (sign=1) : Top 5 accuracy: 12.380952380952381%\n",
      "Copy circuit for head 10.9 (sign=1) : Top 5 accuracy: 11.428571428571429%\n",
      "Copy circuit for head 10.7 (sign=1) : Top 5 accuracy: 6.666666666666667%\n",
      "Copy circuit for head 6.7 (sign=1) : Top 5 accuracy: 0.4761904761904762%\n",
      "Copy circuit for head 6.5 (sign=1) : Top 5 accuracy: 100.0%\n",
      "Checkpoint 126000:\n",
      "Heads ablated:            [(9, 4), (7, 9), (6, 5)]\n",
      "Original logit diff:      3.7175040245\n",
      "Post ablation logit diff: 3.6437487602\n",
      "Logit diff % change:      -1.98%\n"
     ]
    },
    {
     "data": {
      "application/vnd.jupyter.widget-view+json": {
       "model_id": "856802f0213940eb8ebefdc8ba69e080",
       "version_major": 2,
       "version_minor": 0
      },
      "text/plain": [
       "pytorch_model.bin:   0%|          | 0.00/375M [00:00<?, ?B/s]"
      ]
     },
     "metadata": {},
     "output_type": "display_data"
    },
    {
     "name": "stdout",
     "output_type": "stream",
     "text": [
      "Loaded model EleutherAI/pythia-160m-seed1 at step127000; now loading into HookedTransformer\n"
     ]
    },
    {
     "name": "stderr",
     "output_type": "stream",
     "text": [
      "Special tokens have been added in the vocabulary, make sure the associated word embeddings are fine-tuned or trained.\n"
     ]
    },
    {
     "name": "stdout",
     "output_type": "stream",
     "text": [
      "Loaded pretrained model pythia-160m into HookedTransformer\n",
      "Copy circuit for head 9.10 (sign=1) : Top 5 accuracy: 11.904761904761903%\n",
      "Copy circuit for head 9.1 (sign=1) : Top 5 accuracy: 15.238095238095239%\n",
      "Copy circuit for head 9.4 (sign=1) : Top 5 accuracy: 76.66666666666667%\n",
      "Checkpoint 127000:\n",
      "Heads ablated:            [(9, 4)]\n",
      "Original logit diff:      4.0880470276\n",
      "Post ablation logit diff: 3.6595773697\n",
      "Logit diff % change:      -10.48%\n"
     ]
    },
    {
     "data": {
      "application/vnd.jupyter.widget-view+json": {
       "model_id": "a4fa50da693441c68c8439e44102fa66",
       "version_major": 2,
       "version_minor": 0
      },
      "text/plain": [
       "pytorch_model.bin:   0%|          | 0.00/375M [00:00<?, ?B/s]"
      ]
     },
     "metadata": {},
     "output_type": "display_data"
    },
    {
     "name": "stdout",
     "output_type": "stream",
     "text": [
      "Loaded model EleutherAI/pythia-160m-seed1 at step128000; now loading into HookedTransformer\n"
     ]
    },
    {
     "name": "stderr",
     "output_type": "stream",
     "text": [
      "Special tokens have been added in the vocabulary, make sure the associated word embeddings are fine-tuned or trained.\n"
     ]
    },
    {
     "name": "stdout",
     "output_type": "stream",
     "text": [
      "Loaded pretrained model pythia-160m into HookedTransformer\n",
      "Copy circuit for head 9.4 (sign=1) : Top 5 accuracy: 71.42857142857143%\n",
      "Copy circuit for head 9.1 (sign=1) : Top 5 accuracy: 14.285714285714285%\n",
      "Copy circuit for head 7.9 (sign=1) : Top 5 accuracy: 100.0%\n",
      "Copy circuit for head 7.7 (sign=1) : Top 5 accuracy: 42.38095238095238%\n",
      "Copy circuit for head 9.8 (sign=1) : Top 5 accuracy: 0.9523809523809524%\n",
      "Copy circuit for head 9.10 (sign=1) : Top 5 accuracy: 11.428571428571429%\n",
      "Copy circuit for head 10.9 (sign=1) : Top 5 accuracy: 8.571428571428571%\n",
      "Copy circuit for head 10.7 (sign=1) : Top 5 accuracy: 3.8095238095238098%\n",
      "Copy circuit for head 6.7 (sign=1) : Top 5 accuracy: 0.4761904761904762%\n",
      "Copy circuit for head 6.5 (sign=1) : Top 5 accuracy: 100.0%\n",
      "Checkpoint 128000:\n",
      "Heads ablated:            [(7, 9), (6, 5)]\n",
      "Original logit diff:      4.1163740158\n",
      "Post ablation logit diff: 4.5164976120\n",
      "Logit diff % change:      9.72%\n"
     ]
    },
    {
     "data": {
      "application/vnd.jupyter.widget-view+json": {
       "model_id": "4f591ed0d72048128007c1c8a95d8faf",
       "version_major": 2,
       "version_minor": 0
      },
      "text/plain": [
       "pytorch_model.bin:   0%|          | 0.00/375M [00:00<?, ?B/s]"
      ]
     },
     "metadata": {},
     "output_type": "display_data"
    },
    {
     "name": "stdout",
     "output_type": "stream",
     "text": [
      "Loaded model EleutherAI/pythia-160m-seed1 at step129000; now loading into HookedTransformer\n"
     ]
    },
    {
     "name": "stderr",
     "output_type": "stream",
     "text": [
      "Special tokens have been added in the vocabulary, make sure the associated word embeddings are fine-tuned or trained.\n"
     ]
    },
    {
     "name": "stdout",
     "output_type": "stream",
     "text": [
      "Loaded pretrained model pythia-160m into HookedTransformer\n",
      "Copy circuit for head 6.5 (sign=1) : Top 5 accuracy: 100.0%\n",
      "Copy circuit for head 9.10 (sign=1) : Top 5 accuracy: 11.428571428571429%\n",
      "Copy circuit for head 9.8 (sign=1) : Top 5 accuracy: 0.9523809523809524%\n",
      "Copy circuit for head 7.7 (sign=1) : Top 5 accuracy: 37.61904761904762%\n",
      "Copy circuit for head 7.9 (sign=1) : Top 5 accuracy: 100.0%\n",
      "Copy circuit for head 9.0 (sign=1) : Top 5 accuracy: 5.238095238095238%\n",
      "Copy circuit for head 9.1 (sign=1) : Top 5 accuracy: 15.238095238095239%\n",
      "Copy circuit for head 9.4 (sign=1) : Top 5 accuracy: 70.95238095238095%\n",
      "Checkpoint 129000:\n",
      "Heads ablated:            [(6, 5), (7, 9)]\n",
      "Original logit diff:      4.1987295151\n",
      "Post ablation logit diff: 4.6413297653\n",
      "Logit diff % change:      10.54%\n"
     ]
    },
    {
     "data": {
      "application/vnd.jupyter.widget-view+json": {
       "model_id": "23875a2c51834e19af58ca8def0b78ab",
       "version_major": 2,
       "version_minor": 0
      },
      "text/plain": [
       "pytorch_model.bin:   0%|          | 0.00/375M [00:00<?, ?B/s]"
      ]
     },
     "metadata": {},
     "output_type": "display_data"
    },
    {
     "name": "stderr",
     "output_type": "stream",
     "text": [
      "Special tokens have been added in the vocabulary, make sure the associated word embeddings are fine-tuned or trained.\n"
     ]
    },
    {
     "name": "stdout",
     "output_type": "stream",
     "text": [
      "Loaded model EleutherAI/pythia-160m-seed1 at step130000; now loading into HookedTransformer\n",
      "Loaded pretrained model pythia-160m into HookedTransformer\n",
      "Copy circuit for head 9.4 (sign=1) : Top 5 accuracy: 72.38095238095238%\n",
      "Copy circuit for head 9.1 (sign=1) : Top 5 accuracy: 13.80952380952381%\n",
      "Copy circuit for head 7.9 (sign=1) : Top 5 accuracy: 100.0%\n",
      "Copy circuit for head 9.10 (sign=1) : Top 5 accuracy: 12.380952380952381%\n",
      "Checkpoint 130000:\n",
      "Heads ablated:            [(7, 9)]\n",
      "Original logit diff:      4.1157593727\n",
      "Post ablation logit diff: 4.4240784645\n",
      "Logit diff % change:      7.49%\n"
     ]
    },
    {
     "data": {
      "application/vnd.jupyter.widget-view+json": {
       "model_id": "45624144efce4c999cce2d2b64f29be6",
       "version_major": 2,
       "version_minor": 0
      },
      "text/plain": [
       "pytorch_model.bin:   0%|          | 0.00/375M [00:00<?, ?B/s]"
      ]
     },
     "metadata": {},
     "output_type": "display_data"
    },
    {
     "name": "stdout",
     "output_type": "stream",
     "text": [
      "Loaded model EleutherAI/pythia-160m-seed1 at step131000; now loading into HookedTransformer\n"
     ]
    },
    {
     "name": "stderr",
     "output_type": "stream",
     "text": [
      "Special tokens have been added in the vocabulary, make sure the associated word embeddings are fine-tuned or trained.\n"
     ]
    },
    {
     "name": "stdout",
     "output_type": "stream",
     "text": [
      "Loaded pretrained model pythia-160m into HookedTransformer\n",
      "Copy circuit for head 9.10 (sign=1) : Top 5 accuracy: 11.428571428571429%\n",
      "Copy circuit for head 9.1 (sign=1) : Top 5 accuracy: 12.380952380952381%\n",
      "Copy circuit for head 9.4 (sign=1) : Top 5 accuracy: 70.0%\n",
      "Checkpoint 131000:\n",
      "Heads ablated:            []\n",
      "Original logit diff:      3.8637290001\n",
      "Post ablation logit diff: 3.8637290001\n",
      "Logit diff % change:      0.00%\n"
     ]
    },
    {
     "data": {
      "application/vnd.jupyter.widget-view+json": {
       "model_id": "7a8fc885b9434c499fc235600582ea1c",
       "version_major": 2,
       "version_minor": 0
      },
      "text/plain": [
       "pytorch_model.bin:   0%|          | 0.00/375M [00:00<?, ?B/s]"
      ]
     },
     "metadata": {},
     "output_type": "display_data"
    },
    {
     "name": "stdout",
     "output_type": "stream",
     "text": [
      "Loaded model EleutherAI/pythia-160m-seed1 at step132000; now loading into HookedTransformer\n"
     ]
    },
    {
     "name": "stderr",
     "output_type": "stream",
     "text": [
      "Special tokens have been added in the vocabulary, make sure the associated word embeddings are fine-tuned or trained.\n"
     ]
    },
    {
     "name": "stdout",
     "output_type": "stream",
     "text": [
      "Loaded pretrained model pythia-160m into HookedTransformer\n",
      "Copy circuit for head 9.4 (sign=1) : Top 5 accuracy: 69.04761904761905%\n",
      "Copy circuit for head 9.1 (sign=1) : Top 5 accuracy: 11.904761904761903%\n",
      "Copy circuit for head 7.9 (sign=1) : Top 5 accuracy: 100.0%\n",
      "Copy circuit for head 6.5 (sign=1) : Top 5 accuracy: 100.0%\n",
      "Checkpoint 132000:\n",
      "Heads ablated:            [(7, 9), (6, 5)]\n",
      "Original logit diff:      3.7537474632\n",
      "Post ablation logit diff: 3.9796819687\n",
      "Logit diff % change:      6.02%\n"
     ]
    },
    {
     "data": {
      "application/vnd.jupyter.widget-view+json": {
       "model_id": "28e0de6251be4fd5aad6dda97f2032ae",
       "version_major": 2,
       "version_minor": 0
      },
      "text/plain": [
       "pytorch_model.bin:   0%|          | 0.00/375M [00:00<?, ?B/s]"
      ]
     },
     "metadata": {},
     "output_type": "display_data"
    },
    {
     "name": "stderr",
     "output_type": "stream",
     "text": [
      "Special tokens have been added in the vocabulary, make sure the associated word embeddings are fine-tuned or trained.\n"
     ]
    },
    {
     "name": "stdout",
     "output_type": "stream",
     "text": [
      "Loaded model EleutherAI/pythia-160m-seed1 at step133000; now loading into HookedTransformer\n",
      "Loaded pretrained model pythia-160m into HookedTransformer\n",
      "Copy circuit for head 6.5 (sign=1) : Top 5 accuracy: 100.0%\n",
      "Copy circuit for head 6.7 (sign=1) : Top 5 accuracy: 0.4761904761904762%\n",
      "Copy circuit for head 9.10 (sign=1) : Top 5 accuracy: 11.428571428571429%\n",
      "Copy circuit for head 9.8 (sign=1) : Top 5 accuracy: 0.9523809523809524%\n",
      "Copy circuit for head 7.7 (sign=1) : Top 5 accuracy: 24.285714285714285%\n",
      "Copy circuit for head 9.0 (sign=1) : Top 5 accuracy: 5.238095238095238%\n",
      "Copy circuit for head 9.1 (sign=1) : Top 5 accuracy: 11.428571428571429%\n",
      "Copy circuit for head 9.4 (sign=1) : Top 5 accuracy: 67.61904761904762%\n",
      "Checkpoint 133000:\n",
      "Heads ablated:            [(6, 5)]\n",
      "Original logit diff:      3.9673488140\n",
      "Post ablation logit diff: 4.2723121643\n",
      "Logit diff % change:      7.69%\n"
     ]
    },
    {
     "data": {
      "application/vnd.jupyter.widget-view+json": {
       "model_id": "c23ad967f3364b8e8bbefd01eb49d13b",
       "version_major": 2,
       "version_minor": 0
      },
      "text/plain": [
       "pytorch_model.bin:   0%|          | 0.00/375M [00:00<?, ?B/s]"
      ]
     },
     "metadata": {},
     "output_type": "display_data"
    },
    {
     "name": "stdout",
     "output_type": "stream",
     "text": [
      "Loaded model EleutherAI/pythia-160m-seed1 at step134000; now loading into HookedTransformer\n"
     ]
    },
    {
     "name": "stderr",
     "output_type": "stream",
     "text": [
      "Special tokens have been added in the vocabulary, make sure the associated word embeddings are fine-tuned or trained.\n"
     ]
    },
    {
     "name": "stdout",
     "output_type": "stream",
     "text": [
      "Loaded pretrained model pythia-160m into HookedTransformer\n",
      "Copy circuit for head 6.5 (sign=1) : Top 5 accuracy: 100.0%\n",
      "Copy circuit for head 9.10 (sign=1) : Top 5 accuracy: 10.952380952380953%\n",
      "Copy circuit for head 9.8 (sign=1) : Top 5 accuracy: 0.9523809523809524%\n",
      "Copy circuit for head 7.7 (sign=1) : Top 5 accuracy: 19.523809523809526%\n",
      "Copy circuit for head 7.9 (sign=1) : Top 5 accuracy: 100.0%\n",
      "Copy circuit for head 9.1 (sign=1) : Top 5 accuracy: 12.380952380952381%\n",
      "Copy circuit for head 9.4 (sign=1) : Top 5 accuracy: 68.57142857142857%\n",
      "Checkpoint 134000:\n",
      "Heads ablated:            [(6, 5), (7, 9)]\n",
      "Original logit diff:      3.4627699852\n",
      "Post ablation logit diff: 3.8828229904\n",
      "Logit diff % change:      12.13%\n"
     ]
    },
    {
     "data": {
      "application/vnd.jupyter.widget-view+json": {
       "model_id": "f33fdd0ca07e49639aa9a2b7bf210e91",
       "version_major": 2,
       "version_minor": 0
      },
      "text/plain": [
       "pytorch_model.bin:   0%|          | 0.00/375M [00:00<?, ?B/s]"
      ]
     },
     "metadata": {},
     "output_type": "display_data"
    },
    {
     "name": "stdout",
     "output_type": "stream",
     "text": [
      "Loaded model EleutherAI/pythia-160m-seed1 at step135000; now loading into HookedTransformer\n"
     ]
    },
    {
     "name": "stderr",
     "output_type": "stream",
     "text": [
      "Special tokens have been added in the vocabulary, make sure the associated word embeddings are fine-tuned or trained.\n"
     ]
    },
    {
     "name": "stdout",
     "output_type": "stream",
     "text": [
      "Loaded pretrained model pythia-160m into HookedTransformer\n",
      "Copy circuit for head 9.10 (sign=1) : Top 5 accuracy: 11.428571428571429%\n",
      "Copy circuit for head 9.4 (sign=1) : Top 5 accuracy: 66.66666666666666%\n",
      "Checkpoint 135000:\n",
      "Heads ablated:            []\n",
      "Original logit diff:      3.7677934170\n",
      "Post ablation logit diff: 3.7677934170\n",
      "Logit diff % change:      0.00%\n"
     ]
    },
    {
     "data": {
      "application/vnd.jupyter.widget-view+json": {
       "model_id": "ba63645ebfa5430db43bd5c23a62725c",
       "version_major": 2,
       "version_minor": 0
      },
      "text/plain": [
       "pytorch_model.bin:   0%|          | 0.00/375M [00:00<?, ?B/s]"
      ]
     },
     "metadata": {},
     "output_type": "display_data"
    },
    {
     "name": "stdout",
     "output_type": "stream",
     "text": [
      "Loaded model EleutherAI/pythia-160m-seed1 at step136000; now loading into HookedTransformer\n"
     ]
    },
    {
     "name": "stderr",
     "output_type": "stream",
     "text": [
      "Special tokens have been added in the vocabulary, make sure the associated word embeddings are fine-tuned or trained.\n"
     ]
    },
    {
     "name": "stdout",
     "output_type": "stream",
     "text": [
      "Loaded pretrained model pythia-160m into HookedTransformer\n",
      "Copy circuit for head 9.4 (sign=1) : Top 5 accuracy: 66.66666666666666%\n",
      "Copy circuit for head 6.5 (sign=1) : Top 5 accuracy: 100.0%\n",
      "Checkpoint 136000:\n",
      "Heads ablated:            [(6, 5)]\n",
      "Original logit diff:      3.7300231457\n",
      "Post ablation logit diff: 4.0226554871\n",
      "Logit diff % change:      7.85%\n"
     ]
    },
    {
     "data": {
      "application/vnd.jupyter.widget-view+json": {
       "model_id": "61a789a909c14d12863dc4d8e76bbacb",
       "version_major": 2,
       "version_minor": 0
      },
      "text/plain": [
       "pytorch_model.bin:   0%|          | 0.00/375M [00:00<?, ?B/s]"
      ]
     },
     "metadata": {},
     "output_type": "display_data"
    },
    {
     "name": "stderr",
     "output_type": "stream",
     "text": [
      "Special tokens have been added in the vocabulary, make sure the associated word embeddings are fine-tuned or trained.\n"
     ]
    },
    {
     "name": "stdout",
     "output_type": "stream",
     "text": [
      "Loaded model EleutherAI/pythia-160m-seed1 at step137000; now loading into HookedTransformer\n",
      "Loaded pretrained model pythia-160m into HookedTransformer\n",
      "Copy circuit for head 6.5 (sign=1) : Top 5 accuracy: 100.0%\n",
      "Copy circuit for head 9.10 (sign=1) : Top 5 accuracy: 9.523809523809524%\n",
      "Copy circuit for head 9.8 (sign=1) : Top 5 accuracy: 0.4761904761904762%\n",
      "Copy circuit for head 7.7 (sign=1) : Top 5 accuracy: 14.285714285714285%\n",
      "Copy circuit for head 7.9 (sign=1) : Top 5 accuracy: 100.0%\n",
      "Copy circuit for head 9.0 (sign=1) : Top 5 accuracy: 4.761904761904762%\n",
      "Copy circuit for head 9.1 (sign=1) : Top 5 accuracy: 10.0%\n",
      "Copy circuit for head 9.4 (sign=1) : Top 5 accuracy: 66.66666666666666%\n",
      "Checkpoint 137000:\n",
      "Heads ablated:            [(6, 5), (7, 9)]\n",
      "Original logit diff:      3.9361040592\n",
      "Post ablation logit diff: 4.4704632759\n",
      "Logit diff % change:      13.58%\n"
     ]
    },
    {
     "data": {
      "application/vnd.jupyter.widget-view+json": {
       "model_id": "5c347ffb7a324b82a2beea5fa5e808fd",
       "version_major": 2,
       "version_minor": 0
      },
      "text/plain": [
       "pytorch_model.bin:   0%|          | 0.00/375M [00:00<?, ?B/s]"
      ]
     },
     "metadata": {},
     "output_type": "display_data"
    },
    {
     "name": "stdout",
     "output_type": "stream",
     "text": [
      "Loaded model EleutherAI/pythia-160m-seed1 at step138000; now loading into HookedTransformer\n"
     ]
    },
    {
     "name": "stderr",
     "output_type": "stream",
     "text": [
      "Special tokens have been added in the vocabulary, make sure the associated word embeddings are fine-tuned or trained.\n"
     ]
    },
    {
     "name": "stdout",
     "output_type": "stream",
     "text": [
      "Loaded pretrained model pythia-160m into HookedTransformer\n",
      "Copy circuit for head 6.5 (sign=1) : Top 5 accuracy: 100.0%\n",
      "Copy circuit for head 6.7 (sign=1) : Top 5 accuracy: 0.4761904761904762%\n",
      "Copy circuit for head 9.10 (sign=1) : Top 5 accuracy: 6.190476190476191%\n",
      "Copy circuit for head 7.7 (sign=1) : Top 5 accuracy: 11.904761904761903%\n",
      "Copy circuit for head 7.9 (sign=1) : Top 5 accuracy: 100.0%\n",
      "Copy circuit for head 9.0 (sign=1) : Top 5 accuracy: 4.761904761904762%\n",
      "Copy circuit for head 9.1 (sign=1) : Top 5 accuracy: 9.523809523809524%\n",
      "Copy circuit for head 9.4 (sign=1) : Top 5 accuracy: 64.76190476190476%\n",
      "Checkpoint 138000:\n",
      "Heads ablated:            [(6, 5), (7, 9)]\n",
      "Original logit diff:      3.7484784126\n",
      "Post ablation logit diff: 4.2262396812\n",
      "Logit diff % change:      12.75%\n"
     ]
    },
    {
     "data": {
      "application/vnd.jupyter.widget-view+json": {
       "model_id": "25e8681348424a35bd39b17f38e915ef",
       "version_major": 2,
       "version_minor": 0
      },
      "text/plain": [
       "pytorch_model.bin:   0%|          | 0.00/375M [00:00<?, ?B/s]"
      ]
     },
     "metadata": {},
     "output_type": "display_data"
    },
    {
     "name": "stderr",
     "output_type": "stream",
     "text": [
      "Special tokens have been added in the vocabulary, make sure the associated word embeddings are fine-tuned or trained.\n"
     ]
    },
    {
     "name": "stdout",
     "output_type": "stream",
     "text": [
      "Loaded model EleutherAI/pythia-160m-seed1 at step139000; now loading into HookedTransformer\n",
      "Loaded pretrained model pythia-160m into HookedTransformer\n",
      "Copy circuit for head 6.5 (sign=1) : Top 5 accuracy: 100.0%\n",
      "Copy circuit for head 9.10 (sign=1) : Top 5 accuracy: 7.6190476190476195%\n",
      "Copy circuit for head 9.8 (sign=1) : Top 5 accuracy: 0.9523809523809524%\n",
      "Copy circuit for head 9.1 (sign=1) : Top 5 accuracy: 9.523809523809524%\n",
      "Copy circuit for head 9.4 (sign=1) : Top 5 accuracy: 66.19047619047619%\n",
      "Checkpoint 139000:\n",
      "Heads ablated:            [(6, 5)]\n",
      "Original logit diff:      3.5742802620\n",
      "Post ablation logit diff: 3.8744885921\n",
      "Logit diff % change:      8.40%\n"
     ]
    },
    {
     "data": {
      "application/vnd.jupyter.widget-view+json": {
       "model_id": "89e31a3663b349328d8578cd359af1d5",
       "version_major": 2,
       "version_minor": 0
      },
      "text/plain": [
       "pytorch_model.bin:   0%|          | 0.00/375M [00:00<?, ?B/s]"
      ]
     },
     "metadata": {},
     "output_type": "display_data"
    },
    {
     "name": "stdout",
     "output_type": "stream",
     "text": [
      "Loaded model EleutherAI/pythia-160m-seed1 at step140000; now loading into HookedTransformer\n"
     ]
    },
    {
     "name": "stderr",
     "output_type": "stream",
     "text": [
      "Special tokens have been added in the vocabulary, make sure the associated word embeddings are fine-tuned or trained.\n"
     ]
    },
    {
     "name": "stdout",
     "output_type": "stream",
     "text": [
      "Loaded pretrained model pythia-160m into HookedTransformer\n",
      "Copy circuit for head 9.4 (sign=1) : Top 5 accuracy: 66.66666666666666%\n",
      "Copy circuit for head 9.1 (sign=1) : Top 5 accuracy: 9.047619047619047%\n",
      "Copy circuit for head 9.0 (sign=1) : Top 5 accuracy: 4.285714285714286%\n",
      "Copy circuit for head 7.9 (sign=1) : Top 5 accuracy: 100.0%\n",
      "Copy circuit for head 7.7 (sign=1) : Top 5 accuracy: 8.095238095238095%\n",
      "Copy circuit for head 9.9 (sign=1) : Top 5 accuracy: 0.9523809523809524%\n",
      "Copy circuit for head 9.10 (sign=1) : Top 5 accuracy: 6.666666666666667%\n",
      "Copy circuit for head 9.11 (sign=1) : Top 5 accuracy: 14.285714285714285%\n",
      "Copy circuit for head 10.11 (sign=1) : Top 5 accuracy: 0.4761904761904762%\n",
      "Copy circuit for head 6.5 (sign=1) : Top 5 accuracy: 100.0%\n",
      "Checkpoint 140000:\n",
      "Heads ablated:            [(7, 9), (6, 5)]\n",
      "Original logit diff:      3.9236083031\n",
      "Post ablation logit diff: 4.4777450562\n",
      "Logit diff % change:      14.12%\n"
     ]
    },
    {
     "data": {
      "application/vnd.jupyter.widget-view+json": {
       "model_id": "00d65dd704d84ccb8da353b4476e02e8",
       "version_major": 2,
       "version_minor": 0
      },
      "text/plain": [
       "pytorch_model.bin:   0%|          | 0.00/375M [00:00<?, ?B/s]"
      ]
     },
     "metadata": {},
     "output_type": "display_data"
    },
    {
     "name": "stderr",
     "output_type": "stream",
     "text": [
      "Special tokens have been added in the vocabulary, make sure the associated word embeddings are fine-tuned or trained.\n"
     ]
    },
    {
     "name": "stdout",
     "output_type": "stream",
     "text": [
      "Loaded model EleutherAI/pythia-160m-seed1 at step141000; now loading into HookedTransformer\n",
      "Loaded pretrained model pythia-160m into HookedTransformer\n",
      "Copy circuit for head 9.4 (sign=1) : Top 5 accuracy: 62.38095238095238%\n",
      "Copy circuit for head 9.1 (sign=1) : Top 5 accuracy: 9.047619047619047%\n",
      "Copy circuit for head 7.7 (sign=1) : Top 5 accuracy: 5.238095238095238%\n",
      "Copy circuit for head 10.9 (sign=1) : Top 5 accuracy: 5.238095238095238%\n",
      "Copy circuit for head 9.11 (sign=1) : Top 5 accuracy: 10.476190476190476%\n",
      "Copy circuit for head 9.10 (sign=1) : Top 5 accuracy: 2.857142857142857%\n",
      "Copy circuit for head 6.5 (sign=1) : Top 5 accuracy: 100.0%\n",
      "Checkpoint 141000:\n",
      "Heads ablated:            [(6, 5)]\n",
      "Original logit diff:      4.0417561531\n",
      "Post ablation logit diff: 4.3179554939\n",
      "Logit diff % change:      6.83%\n"
     ]
    },
    {
     "data": {
      "application/vnd.jupyter.widget-view+json": {
       "model_id": "dab721cb645c48af90b4456b1aee888b",
       "version_major": 2,
       "version_minor": 0
      },
      "text/plain": [
       "pytorch_model.bin:   0%|          | 0.00/375M [00:00<?, ?B/s]"
      ]
     },
     "metadata": {},
     "output_type": "display_data"
    },
    {
     "name": "stderr",
     "output_type": "stream",
     "text": [
      "Special tokens have been added in the vocabulary, make sure the associated word embeddings are fine-tuned or trained.\n"
     ]
    },
    {
     "name": "stdout",
     "output_type": "stream",
     "text": [
      "Loaded model EleutherAI/pythia-160m-seed1 at step142000; now loading into HookedTransformer\n",
      "Loaded pretrained model pythia-160m into HookedTransformer\n",
      "Copy circuit for head 6.5 (sign=1) : Top 5 accuracy: 100.0%\n",
      "Copy circuit for head 10.9 (sign=1) : Top 5 accuracy: 5.238095238095238%\n",
      "Copy circuit for head 9.11 (sign=1) : Top 5 accuracy: 7.142857142857142%\n",
      "Copy circuit for head 9.10 (sign=1) : Top 5 accuracy: 3.8095238095238098%\n",
      "Copy circuit for head 9.9 (sign=1) : Top 5 accuracy: 0.9523809523809524%\n",
      "Copy circuit for head 7.7 (sign=1) : Top 5 accuracy: 4.761904761904762%\n",
      "Copy circuit for head 7.9 (sign=1) : Top 5 accuracy: 100.0%\n",
      "Copy circuit for head 9.0 (sign=1) : Top 5 accuracy: 4.285714285714286%\n",
      "Copy circuit for head 9.1 (sign=1) : Top 5 accuracy: 9.047619047619047%\n",
      "Copy circuit for head 9.4 (sign=1) : Top 5 accuracy: 62.857142857142854%\n",
      "Checkpoint 142000:\n",
      "Heads ablated:            [(6, 5), (7, 9)]\n",
      "Original logit diff:      3.8105905056\n",
      "Post ablation logit diff: 4.3644423485\n",
      "Logit diff % change:      14.53%\n"
     ]
    },
    {
     "name": "stderr",
     "output_type": "stream",
     "text": [
      "Special tokens have been added in the vocabulary, make sure the associated word embeddings are fine-tuned or trained.\n"
     ]
    },
    {
     "name": "stdout",
     "output_type": "stream",
     "text": [
      "Loaded model EleutherAI/pythia-160m-seed1 at step143000; now loading into HookedTransformer\n",
      "Loaded pretrained model pythia-160m into HookedTransformer\n",
      "Copy circuit for head 6.5 (sign=1) : Top 5 accuracy: 100.0%\n",
      "Copy circuit for head 10.9 (sign=1) : Top 5 accuracy: 5.714285714285714%\n",
      "Copy circuit for head 10.11 (sign=1) : Top 5 accuracy: 0.4761904761904762%\n",
      "Copy circuit for head 9.10 (sign=1) : Top 5 accuracy: 2.857142857142857%\n",
      "Copy circuit for head 7.7 (sign=1) : Top 5 accuracy: 3.8095238095238098%\n",
      "Copy circuit for head 7.9 (sign=1) : Top 5 accuracy: 100.0%\n",
      "Copy circuit for head 9.0 (sign=1) : Top 5 accuracy: 4.761904761904762%\n",
      "Copy circuit for head 9.1 (sign=1) : Top 5 accuracy: 9.047619047619047%\n",
      "Copy circuit for head 9.4 (sign=1) : Top 5 accuracy: 60.0%\n",
      "Checkpoint 143000:\n",
      "Heads ablated:            [(6, 5), (7, 9)]\n",
      "Original logit diff:      3.9022033215\n",
      "Post ablation logit diff: 4.2479395866\n",
      "Logit diff % change:      8.86%\n"
     ]
    },
    {
     "ename": "",
     "evalue": "",
     "output_type": "error",
     "traceback": [
      "\u001b[1;31mThe Kernel crashed while executing code in the the current cell or a previous cell. Please review the code in the cell(s) to identify a possible cause of the failure. Click <a href='https://aka.ms/vscodeJupyterKernelCrash'>here</a> for more info. View Jupyter <a href='command:jupyter.viewOutput'>log</a> for further details."
     ]
    }
   ],
   "source": [
    "experiment_metrics = dict()\n",
    "# create folder\n",
    "os.makedirs(f'results/backup/{MODEL_SHORTNAME}', exist_ok=True)\n",
    "\n",
    "for checkpoint in range(4000, 144000, 1000):\n",
    "\n",
    "    experiment_metrics = run_iteration(\n",
    "        BASE_MODEL, VARIANT, df, checkpoint=checkpoint, dataset=ioi_dataset, experiment_metrics=experiment_metrics, \n",
    "        threshold=COPY_SCORE_THRESHOLD\n",
    "    )\n",
    "    experiment_metrics = process_backup_results(df, checkpoint, experiment_metrics)\n",
    "\n",
    "    # save to file, using pytorch format\n",
    "    torch.save(experiment_metrics, f'results/backup/{MODEL_SHORTNAME}/nmh_backup_metrics.pt')"
   ]
  },
  {
   "cell_type": "code",
   "execution_count": 9,
   "metadata": {},
   "outputs": [
    {
     "data": {
      "text/plain": [
       "dict_keys([4000, 5000, 6000, 7000])"
      ]
     },
     "execution_count": 9,
     "metadata": {},
     "output_type": "execute_result"
    }
   ],
   "source": [
    "experiment_metrics.keys()"
   ]
  },
  {
   "attachments": {},
   "cell_type": "markdown",
   "metadata": {},
   "source": [
    "## View Results"
   ]
  },
  {
   "attachments": {},
   "cell_type": "markdown",
   "metadata": {},
   "source": [
    "#### Pythia 160m"
   ]
  },
  {
   "cell_type": "code",
   "execution_count": 25,
   "metadata": {},
   "outputs": [],
   "source": [
    "MODEL_TO_VIEW = \"pythia-160m-hiddendropout\""
   ]
  },
  {
   "cell_type": "code",
   "execution_count": 26,
   "metadata": {},
   "outputs": [],
   "source": [
    "experiment_metrics = torch.load(f'results/backup/{MODEL_TO_VIEW}/nmh_backup_metrics.pt')"
   ]
  },
  {
   "cell_type": "code",
   "execution_count": 27,
   "metadata": {},
   "outputs": [
    {
     "data": {
      "text/plain": [
       "dict_keys(['logit_diff', 'per_head_logit_diffs', 'ablation_targets', 'ablated_logit_diff', 'per_head_ablated_logit_diffs', 'per_head_logit_diff_delta', 'in_circuit_head_delta', 'outside_circuit_head_delta', 'summed_in_circuit_head_delta', 'summed_outside_circuit_head_delta', 'summed_total_head_delta'])"
      ]
     },
     "execution_count": 27,
     "metadata": {},
     "output_type": "execute_result"
    }
   ],
   "source": [
    "experiment_metrics[4000].keys()"
   ]
  },
  {
   "cell_type": "code",
   "execution_count": 28,
   "metadata": {},
   "outputs": [],
   "source": [
    "summed_in_circuit_head_deltas = {checkpoint: experiment_metrics[checkpoint][\"summed_in_circuit_head_delta\"] for checkpoint in experiment_metrics.keys()}\n",
    "summed_outside_circuit_head_deltas = {checkpoint: experiment_metrics[checkpoint][\"summed_outside_circuit_head_delta\"] for checkpoint in experiment_metrics.keys()}\n",
    "summed_total_head_deltas = {checkpoint: experiment_metrics[checkpoint][\"summed_total_head_delta\"] for checkpoint in experiment_metrics.keys()}\n",
    "per_head_logit_diff_deltas = {checkpoint: experiment_metrics[checkpoint][\"per_head_logit_diff_delta\"] for checkpoint in experiment_metrics.keys()}\n",
    "total_logit_diff_deltas = {checkpoint: experiment_metrics[checkpoint]['ablated_logit_diff'] - experiment_metrics[checkpoint]['logit_diff'] for checkpoint in experiment_metrics.keys()}\n",
    "\n",
    "for checkpoint in experiment_metrics.keys():\n",
    "    # divide by total original logit diff\n",
    "    summed_in_circuit_head_deltas[checkpoint] = summed_in_circuit_head_deltas[checkpoint] / experiment_metrics[checkpoint][\"logit_diff\"]\n",
    "    summed_outside_circuit_head_deltas[checkpoint] = summed_outside_circuit_head_deltas[checkpoint] / experiment_metrics[checkpoint][\"logit_diff\"]\n",
    "    summed_total_head_deltas[checkpoint] = summed_total_head_deltas[checkpoint] / experiment_metrics[checkpoint][\"logit_diff\"]\n",
    "    per_head_logit_diff_deltas[checkpoint] = per_head_logit_diff_deltas[checkpoint] / experiment_metrics[checkpoint][\"logit_diff\"]\n",
    "    total_logit_diff_deltas[checkpoint] = total_logit_diff_deltas[checkpoint] / experiment_metrics[checkpoint][\"logit_diff\"]"
   ]
  },
  {
   "cell_type": "code",
   "execution_count": 29,
   "metadata": {},
   "outputs": [
    {
     "data": {
      "application/vnd.plotly.v1+json": {
       "config": {
        "plotlyServerURL": "https://plot.ly"
       },
       "data": [
        {
         "hovertemplate": "Checkpoint=%{x}<br>Change as % of original logit diff=%{y}<extra></extra>",
         "legendgroup": "",
         "line": {
          "color": "#636efa",
          "dash": "solid"
         },
         "marker": {
          "symbol": "circle"
         },
         "mode": "lines",
         "name": "",
         "orientation": "v",
         "showlegend": false,
         "type": "scatter",
         "x": [
          4000,
          5000,
          6000,
          7000,
          8000,
          9000,
          10000,
          11000,
          12000,
          13000,
          14000,
          15000,
          16000,
          17000,
          18000,
          19000,
          20000,
          21000,
          22000,
          23000,
          24000,
          25000,
          26000,
          27000,
          28000,
          29000,
          30000,
          31000,
          32000,
          33000,
          34000,
          35000,
          36000,
          37000,
          38000,
          39000,
          40000,
          41000,
          42000,
          43000,
          44000,
          45000,
          46000,
          47000,
          48000,
          49000,
          50000,
          51000,
          52000,
          53000,
          54000,
          55000,
          56000,
          57000,
          58000,
          59000,
          60000,
          61000,
          62000,
          63000,
          64000,
          65000,
          66000,
          67000,
          68000,
          69000,
          70000,
          71000,
          72000,
          73000,
          74000,
          75000,
          76000,
          77000,
          78000,
          79000,
          80000,
          81000,
          82000,
          83000,
          84000,
          85000,
          86000,
          87000,
          88000,
          89000,
          90000,
          91000,
          92000,
          93000,
          94000,
          95000,
          96000,
          97000,
          98000,
          99000,
          100000,
          101000,
          102000,
          103000,
          104000,
          105000,
          106000,
          107000,
          108000,
          109000,
          110000,
          111000,
          112000,
          113000,
          114000,
          115000,
          116000,
          117000,
          118000,
          119000,
          120000,
          121000,
          122000,
          123000,
          124000,
          125000,
          126000,
          127000,
          128000,
          129000,
          130000,
          131000,
          132000,
          133000,
          134000,
          135000,
          136000,
          137000,
          138000,
          139000,
          140000,
          141000,
          142000,
          143000
         ],
         "xaxis": "x",
         "y": [
          -0.32773712166052565,
          -0.0014980677700448637,
          0.045497956610234466,
          0.11465365662455942,
          0.11960311330959414,
          0.12045615461714299,
          0.07759339173646199,
          0.12095867072232172,
          0.025725052123041162,
          0.12852595314831408,
          0.11590235821384351,
          0.11093692293725316,
          0.12403080422325546,
          0.10134196982303306,
          0.09365660849364019,
          0.09439612880833048,
          0.12183245976140016,
          0.10426586135913464,
          0.09479151781130486,
          0.09701409889283652,
          0.10221370486130019,
          0.10005460213949328,
          0.07484574567773616,
          0.10857816746232003,
          0.10596712205211789,
          0.11597004957641532,
          0.10652760534929996,
          0.11593586295239017,
          0.11793357527561547,
          0.10184223813218807,
          0.12447602726056596,
          0.11959639972136843,
          0.12122301055059735,
          0.13424749553131032,
          0.11601899144671625,
          0.13191841316317487,
          0.1234083549536909,
          0.13047902427260838,
          0.10336482054826492,
          0.11531702705266286,
          0.12896699516588234,
          0.11350793815136995,
          0.10998405372370712,
          0.10681920062904082,
          0.12744446212570892,
          0.10507916147748439,
          0.1124001008313657,
          0.12006697121188463,
          0.11118421522342505,
          0.10880690078886567,
          0.1180236332985992,
          0.11413219394626273,
          0.1135796239277393,
          0.09976213975103555,
          0.10058929131486272,
          0.11310923514746211,
          0.10399346103416217,
          0.10198189626106621,
          0.09563704413913317,
          0.10146079839843038,
          0.10429618214165667,
          0.10238905375812772,
          0.09065652469906454,
          0.08971439760509918,
          0.0860669671933312,
          0.08754518280461676,
          0.07960374318862057,
          0.0864972385333099,
          0.09481940339547493,
          0.05646050180095076,
          0.05104917881995082,
          0.04792098201675925,
          0.046320159619742465,
          0.05231072071258634,
          0.047236295278277635,
          0.04342067811057987,
          0.0343063490346432,
          0.02826244374376802,
          0.023573805525404827,
          0.027904945824293984,
          0.02804024330685945,
          0.022230685574588103,
          0.023630941829542736,
          0.024499607788527666,
          0.02504191116670566,
          0.02017189374403054,
          0.021362578980331594,
          0.0232197214909037,
          0.02692342961458965,
          0.020759429087361943,
          0.0269646675427456,
          0.02554603180334318,
          0.026766748598757904,
          0.02448592760474465,
          0.02588858366534651,
          0.021357132588779987,
          0.01725164330666216,
          0.027527146160957396,
          0.023890551066276425,
          0.019168214064271598,
          0.026259222785074948,
          0.02501282580551352,
          0.030143235776556445,
          0.023955019313423642,
          0.003267218830164064,
          0.026395171661519272,
          0.020443984716306242,
          0.024492611067937514,
          0.0027959998139151917,
          0.025146280647166352,
          0.019545932511912823,
          0.02064345450273848,
          -0.00026568975728188905,
          0.02188063809680994,
          0.02083221502955448,
          0.018885620075397822,
          0.0007570156546275243,
          0.02227715961967552,
          0.029293001632877187,
          0.013785422540899345,
          0.013880360859229375,
          -0.00022919858326265173,
          0.017097720235829582,
          0.021447440287795033,
          0.024158508080818392,
          0.0023181112953218354,
          0.0027337011241501874,
          0.020775452636188244,
          0.0008939172712666617,
          0.022189349597147388,
          0.026416186010343623,
          0.013768488003347774,
          0.02376804739384191,
          0.01771305183426707,
          0.01872201689303422,
          0.02150678944897468,
          0.022421632036272225,
          0.02399514544896338,
          0.013752235640292734,
          0.025087877569447293
         ],
         "yaxis": "y"
        }
       ],
       "layout": {
        "legend": {
         "tracegroupgap": 0
        },
        "template": {
         "data": {
          "bar": [
           {
            "error_x": {
             "color": "#2a3f5f"
            },
            "error_y": {
             "color": "#2a3f5f"
            },
            "marker": {
             "line": {
              "color": "#E5ECF6",
              "width": 0.5
             },
             "pattern": {
              "fillmode": "overlay",
              "size": 10,
              "solidity": 0.2
             }
            },
            "type": "bar"
           }
          ],
          "barpolar": [
           {
            "marker": {
             "line": {
              "color": "#E5ECF6",
              "width": 0.5
             },
             "pattern": {
              "fillmode": "overlay",
              "size": 10,
              "solidity": 0.2
             }
            },
            "type": "barpolar"
           }
          ],
          "carpet": [
           {
            "aaxis": {
             "endlinecolor": "#2a3f5f",
             "gridcolor": "white",
             "linecolor": "white",
             "minorgridcolor": "white",
             "startlinecolor": "#2a3f5f"
            },
            "baxis": {
             "endlinecolor": "#2a3f5f",
             "gridcolor": "white",
             "linecolor": "white",
             "minorgridcolor": "white",
             "startlinecolor": "#2a3f5f"
            },
            "type": "carpet"
           }
          ],
          "choropleth": [
           {
            "colorbar": {
             "outlinewidth": 0,
             "ticks": ""
            },
            "type": "choropleth"
           }
          ],
          "contour": [
           {
            "colorbar": {
             "outlinewidth": 0,
             "ticks": ""
            },
            "colorscale": [
             [
              0,
              "#0d0887"
             ],
             [
              0.1111111111111111,
              "#46039f"
             ],
             [
              0.2222222222222222,
              "#7201a8"
             ],
             [
              0.3333333333333333,
              "#9c179e"
             ],
             [
              0.4444444444444444,
              "#bd3786"
             ],
             [
              0.5555555555555556,
              "#d8576b"
             ],
             [
              0.6666666666666666,
              "#ed7953"
             ],
             [
              0.7777777777777778,
              "#fb9f3a"
             ],
             [
              0.8888888888888888,
              "#fdca26"
             ],
             [
              1,
              "#f0f921"
             ]
            ],
            "type": "contour"
           }
          ],
          "contourcarpet": [
           {
            "colorbar": {
             "outlinewidth": 0,
             "ticks": ""
            },
            "type": "contourcarpet"
           }
          ],
          "heatmap": [
           {
            "colorbar": {
             "outlinewidth": 0,
             "ticks": ""
            },
            "colorscale": [
             [
              0,
              "#0d0887"
             ],
             [
              0.1111111111111111,
              "#46039f"
             ],
             [
              0.2222222222222222,
              "#7201a8"
             ],
             [
              0.3333333333333333,
              "#9c179e"
             ],
             [
              0.4444444444444444,
              "#bd3786"
             ],
             [
              0.5555555555555556,
              "#d8576b"
             ],
             [
              0.6666666666666666,
              "#ed7953"
             ],
             [
              0.7777777777777778,
              "#fb9f3a"
             ],
             [
              0.8888888888888888,
              "#fdca26"
             ],
             [
              1,
              "#f0f921"
             ]
            ],
            "type": "heatmap"
           }
          ],
          "heatmapgl": [
           {
            "colorbar": {
             "outlinewidth": 0,
             "ticks": ""
            },
            "colorscale": [
             [
              0,
              "#0d0887"
             ],
             [
              0.1111111111111111,
              "#46039f"
             ],
             [
              0.2222222222222222,
              "#7201a8"
             ],
             [
              0.3333333333333333,
              "#9c179e"
             ],
             [
              0.4444444444444444,
              "#bd3786"
             ],
             [
              0.5555555555555556,
              "#d8576b"
             ],
             [
              0.6666666666666666,
              "#ed7953"
             ],
             [
              0.7777777777777778,
              "#fb9f3a"
             ],
             [
              0.8888888888888888,
              "#fdca26"
             ],
             [
              1,
              "#f0f921"
             ]
            ],
            "type": "heatmapgl"
           }
          ],
          "histogram": [
           {
            "marker": {
             "pattern": {
              "fillmode": "overlay",
              "size": 10,
              "solidity": 0.2
             }
            },
            "type": "histogram"
           }
          ],
          "histogram2d": [
           {
            "colorbar": {
             "outlinewidth": 0,
             "ticks": ""
            },
            "colorscale": [
             [
              0,
              "#0d0887"
             ],
             [
              0.1111111111111111,
              "#46039f"
             ],
             [
              0.2222222222222222,
              "#7201a8"
             ],
             [
              0.3333333333333333,
              "#9c179e"
             ],
             [
              0.4444444444444444,
              "#bd3786"
             ],
             [
              0.5555555555555556,
              "#d8576b"
             ],
             [
              0.6666666666666666,
              "#ed7953"
             ],
             [
              0.7777777777777778,
              "#fb9f3a"
             ],
             [
              0.8888888888888888,
              "#fdca26"
             ],
             [
              1,
              "#f0f921"
             ]
            ],
            "type": "histogram2d"
           }
          ],
          "histogram2dcontour": [
           {
            "colorbar": {
             "outlinewidth": 0,
             "ticks": ""
            },
            "colorscale": [
             [
              0,
              "#0d0887"
             ],
             [
              0.1111111111111111,
              "#46039f"
             ],
             [
              0.2222222222222222,
              "#7201a8"
             ],
             [
              0.3333333333333333,
              "#9c179e"
             ],
             [
              0.4444444444444444,
              "#bd3786"
             ],
             [
              0.5555555555555556,
              "#d8576b"
             ],
             [
              0.6666666666666666,
              "#ed7953"
             ],
             [
              0.7777777777777778,
              "#fb9f3a"
             ],
             [
              0.8888888888888888,
              "#fdca26"
             ],
             [
              1,
              "#f0f921"
             ]
            ],
            "type": "histogram2dcontour"
           }
          ],
          "mesh3d": [
           {
            "colorbar": {
             "outlinewidth": 0,
             "ticks": ""
            },
            "type": "mesh3d"
           }
          ],
          "parcoords": [
           {
            "line": {
             "colorbar": {
              "outlinewidth": 0,
              "ticks": ""
             }
            },
            "type": "parcoords"
           }
          ],
          "pie": [
           {
            "automargin": true,
            "type": "pie"
           }
          ],
          "scatter": [
           {
            "fillpattern": {
             "fillmode": "overlay",
             "size": 10,
             "solidity": 0.2
            },
            "type": "scatter"
           }
          ],
          "scatter3d": [
           {
            "line": {
             "colorbar": {
              "outlinewidth": 0,
              "ticks": ""
             }
            },
            "marker": {
             "colorbar": {
              "outlinewidth": 0,
              "ticks": ""
             }
            },
            "type": "scatter3d"
           }
          ],
          "scattercarpet": [
           {
            "marker": {
             "colorbar": {
              "outlinewidth": 0,
              "ticks": ""
             }
            },
            "type": "scattercarpet"
           }
          ],
          "scattergeo": [
           {
            "marker": {
             "colorbar": {
              "outlinewidth": 0,
              "ticks": ""
             }
            },
            "type": "scattergeo"
           }
          ],
          "scattergl": [
           {
            "marker": {
             "colorbar": {
              "outlinewidth": 0,
              "ticks": ""
             }
            },
            "type": "scattergl"
           }
          ],
          "scattermapbox": [
           {
            "marker": {
             "colorbar": {
              "outlinewidth": 0,
              "ticks": ""
             }
            },
            "type": "scattermapbox"
           }
          ],
          "scatterpolar": [
           {
            "marker": {
             "colorbar": {
              "outlinewidth": 0,
              "ticks": ""
             }
            },
            "type": "scatterpolar"
           }
          ],
          "scatterpolargl": [
           {
            "marker": {
             "colorbar": {
              "outlinewidth": 0,
              "ticks": ""
             }
            },
            "type": "scatterpolargl"
           }
          ],
          "scatterternary": [
           {
            "marker": {
             "colorbar": {
              "outlinewidth": 0,
              "ticks": ""
             }
            },
            "type": "scatterternary"
           }
          ],
          "surface": [
           {
            "colorbar": {
             "outlinewidth": 0,
             "ticks": ""
            },
            "colorscale": [
             [
              0,
              "#0d0887"
             ],
             [
              0.1111111111111111,
              "#46039f"
             ],
             [
              0.2222222222222222,
              "#7201a8"
             ],
             [
              0.3333333333333333,
              "#9c179e"
             ],
             [
              0.4444444444444444,
              "#bd3786"
             ],
             [
              0.5555555555555556,
              "#d8576b"
             ],
             [
              0.6666666666666666,
              "#ed7953"
             ],
             [
              0.7777777777777778,
              "#fb9f3a"
             ],
             [
              0.8888888888888888,
              "#fdca26"
             ],
             [
              1,
              "#f0f921"
             ]
            ],
            "type": "surface"
           }
          ],
          "table": [
           {
            "cells": {
             "fill": {
              "color": "#EBF0F8"
             },
             "line": {
              "color": "white"
             }
            },
            "header": {
             "fill": {
              "color": "#C8D4E3"
             },
             "line": {
              "color": "white"
             }
            },
            "type": "table"
           }
          ]
         },
         "layout": {
          "annotationdefaults": {
           "arrowcolor": "#2a3f5f",
           "arrowhead": 0,
           "arrowwidth": 1
          },
          "autotypenumbers": "strict",
          "coloraxis": {
           "colorbar": {
            "outlinewidth": 0,
            "ticks": ""
           }
          },
          "colorscale": {
           "diverging": [
            [
             0,
             "#8e0152"
            ],
            [
             0.1,
             "#c51b7d"
            ],
            [
             0.2,
             "#de77ae"
            ],
            [
             0.3,
             "#f1b6da"
            ],
            [
             0.4,
             "#fde0ef"
            ],
            [
             0.5,
             "#f7f7f7"
            ],
            [
             0.6,
             "#e6f5d0"
            ],
            [
             0.7,
             "#b8e186"
            ],
            [
             0.8,
             "#7fbc41"
            ],
            [
             0.9,
             "#4d9221"
            ],
            [
             1,
             "#276419"
            ]
           ],
           "sequential": [
            [
             0,
             "#0d0887"
            ],
            [
             0.1111111111111111,
             "#46039f"
            ],
            [
             0.2222222222222222,
             "#7201a8"
            ],
            [
             0.3333333333333333,
             "#9c179e"
            ],
            [
             0.4444444444444444,
             "#bd3786"
            ],
            [
             0.5555555555555556,
             "#d8576b"
            ],
            [
             0.6666666666666666,
             "#ed7953"
            ],
            [
             0.7777777777777778,
             "#fb9f3a"
            ],
            [
             0.8888888888888888,
             "#fdca26"
            ],
            [
             1,
             "#f0f921"
            ]
           ],
           "sequentialminus": [
            [
             0,
             "#0d0887"
            ],
            [
             0.1111111111111111,
             "#46039f"
            ],
            [
             0.2222222222222222,
             "#7201a8"
            ],
            [
             0.3333333333333333,
             "#9c179e"
            ],
            [
             0.4444444444444444,
             "#bd3786"
            ],
            [
             0.5555555555555556,
             "#d8576b"
            ],
            [
             0.6666666666666666,
             "#ed7953"
            ],
            [
             0.7777777777777778,
             "#fb9f3a"
            ],
            [
             0.8888888888888888,
             "#fdca26"
            ],
            [
             1,
             "#f0f921"
            ]
           ]
          },
          "colorway": [
           "#636efa",
           "#EF553B",
           "#00cc96",
           "#ab63fa",
           "#FFA15A",
           "#19d3f3",
           "#FF6692",
           "#B6E880",
           "#FF97FF",
           "#FECB52"
          ],
          "font": {
           "color": "#2a3f5f"
          },
          "geo": {
           "bgcolor": "white",
           "lakecolor": "white",
           "landcolor": "#E5ECF6",
           "showlakes": true,
           "showland": true,
           "subunitcolor": "white"
          },
          "hoverlabel": {
           "align": "left"
          },
          "hovermode": "closest",
          "mapbox": {
           "style": "light"
          },
          "paper_bgcolor": "white",
          "plot_bgcolor": "#E5ECF6",
          "polar": {
           "angularaxis": {
            "gridcolor": "white",
            "linecolor": "white",
            "ticks": ""
           },
           "bgcolor": "#E5ECF6",
           "radialaxis": {
            "gridcolor": "white",
            "linecolor": "white",
            "ticks": ""
           }
          },
          "scene": {
           "xaxis": {
            "backgroundcolor": "#E5ECF6",
            "gridcolor": "white",
            "gridwidth": 2,
            "linecolor": "white",
            "showbackground": true,
            "ticks": "",
            "zerolinecolor": "white"
           },
           "yaxis": {
            "backgroundcolor": "#E5ECF6",
            "gridcolor": "white",
            "gridwidth": 2,
            "linecolor": "white",
            "showbackground": true,
            "ticks": "",
            "zerolinecolor": "white"
           },
           "zaxis": {
            "backgroundcolor": "#E5ECF6",
            "gridcolor": "white",
            "gridwidth": 2,
            "linecolor": "white",
            "showbackground": true,
            "ticks": "",
            "zerolinecolor": "white"
           }
          },
          "shapedefaults": {
           "line": {
            "color": "#2a3f5f"
           }
          },
          "ternary": {
           "aaxis": {
            "gridcolor": "white",
            "linecolor": "white",
            "ticks": ""
           },
           "baxis": {
            "gridcolor": "white",
            "linecolor": "white",
            "ticks": ""
           },
           "bgcolor": "#E5ECF6",
           "caxis": {
            "gridcolor": "white",
            "linecolor": "white",
            "ticks": ""
           }
          },
          "title": {
           "x": 0.05
          },
          "xaxis": {
           "automargin": true,
           "gridcolor": "white",
           "linecolor": "white",
           "ticks": "",
           "title": {
            "standoff": 15
           },
           "zerolinecolor": "white",
           "zerolinewidth": 2
          },
          "yaxis": {
           "automargin": true,
           "gridcolor": "white",
           "linecolor": "white",
           "ticks": "",
           "title": {
            "standoff": 15
           },
           "zerolinecolor": "white",
           "zerolinewidth": 2
          }
         }
        },
        "title": {
         "text": "Summed Post-NMH-Ablation In-Circuit Head Logit Diff Change Over Time (pythia-160m-hiddendropout)"
        },
        "xaxis": {
         "anchor": "y",
         "domain": [
          0,
          1
         ],
         "title": {
          "text": "Checkpoint"
         }
        },
        "yaxis": {
         "anchor": "x",
         "domain": [
          0,
          1
         ],
         "title": {
          "text": "Change as % of original logit diff"
         }
        }
       }
      },
      "text/html": [
       "<div>                            <div id=\"ef10e4fa-f786-484a-acd8-3454cf56b53f\" class=\"plotly-graph-div\" style=\"height:525px; width:100%;\"></div>            <script type=\"text/javascript\">                require([\"plotly\"], function(Plotly) {                    window.PLOTLYENV=window.PLOTLYENV || {};                                    if (document.getElementById(\"ef10e4fa-f786-484a-acd8-3454cf56b53f\")) {                    Plotly.newPlot(                        \"ef10e4fa-f786-484a-acd8-3454cf56b53f\",                        [{\"hovertemplate\":\"Checkpoint=%{x}\\u003cbr\\u003eChange as % of original logit diff=%{y}\\u003cextra\\u003e\\u003c\\u002fextra\\u003e\",\"legendgroup\":\"\",\"line\":{\"color\":\"#636efa\",\"dash\":\"solid\"},\"marker\":{\"symbol\":\"circle\"},\"mode\":\"lines\",\"name\":\"\",\"orientation\":\"v\",\"showlegend\":false,\"x\":[4000,5000,6000,7000,8000,9000,10000,11000,12000,13000,14000,15000,16000,17000,18000,19000,20000,21000,22000,23000,24000,25000,26000,27000,28000,29000,30000,31000,32000,33000,34000,35000,36000,37000,38000,39000,40000,41000,42000,43000,44000,45000,46000,47000,48000,49000,50000,51000,52000,53000,54000,55000,56000,57000,58000,59000,60000,61000,62000,63000,64000,65000,66000,67000,68000,69000,70000,71000,72000,73000,74000,75000,76000,77000,78000,79000,80000,81000,82000,83000,84000,85000,86000,87000,88000,89000,90000,91000,92000,93000,94000,95000,96000,97000,98000,99000,100000,101000,102000,103000,104000,105000,106000,107000,108000,109000,110000,111000,112000,113000,114000,115000,116000,117000,118000,119000,120000,121000,122000,123000,124000,125000,126000,127000,128000,129000,130000,131000,132000,133000,134000,135000,136000,137000,138000,139000,140000,141000,142000,143000],\"xaxis\":\"x\",\"y\":[-0.32773712166052565,-0.0014980677700448637,0.045497956610234466,0.11465365662455942,0.11960311330959414,0.12045615461714299,0.07759339173646199,0.12095867072232172,0.025725052123041162,0.12852595314831408,0.11590235821384351,0.11093692293725316,0.12403080422325546,0.10134196982303306,0.09365660849364019,0.09439612880833048,0.12183245976140016,0.10426586135913464,0.09479151781130486,0.09701409889283652,0.10221370486130019,0.10005460213949328,0.07484574567773616,0.10857816746232003,0.10596712205211789,0.11597004957641532,0.10652760534929996,0.11593586295239017,0.11793357527561547,0.10184223813218807,0.12447602726056596,0.11959639972136843,0.12122301055059735,0.13424749553131032,0.11601899144671625,0.13191841316317487,0.1234083549536909,0.13047902427260838,0.10336482054826492,0.11531702705266286,0.12896699516588234,0.11350793815136995,0.10998405372370712,0.10681920062904082,0.12744446212570892,0.10507916147748439,0.1124001008313657,0.12006697121188463,0.11118421522342505,0.10880690078886567,0.1180236332985992,0.11413219394626273,0.1135796239277393,0.09976213975103555,0.10058929131486272,0.11310923514746211,0.10399346103416217,0.10198189626106621,0.09563704413913317,0.10146079839843038,0.10429618214165667,0.10238905375812772,0.09065652469906454,0.08971439760509918,0.0860669671933312,0.08754518280461676,0.07960374318862057,0.0864972385333099,0.09481940339547493,0.05646050180095076,0.05104917881995082,0.04792098201675925,0.046320159619742465,0.05231072071258634,0.047236295278277635,0.04342067811057987,0.0343063490346432,0.02826244374376802,0.023573805525404827,0.027904945824293984,0.02804024330685945,0.022230685574588103,0.023630941829542736,0.024499607788527666,0.02504191116670566,0.02017189374403054,0.021362578980331594,0.0232197214909037,0.02692342961458965,0.020759429087361943,0.0269646675427456,0.02554603180334318,0.026766748598757904,0.02448592760474465,0.02588858366534651,0.021357132588779987,0.01725164330666216,0.027527146160957396,0.023890551066276425,0.019168214064271598,0.026259222785074948,0.02501282580551352,0.030143235776556445,0.023955019313423642,0.003267218830164064,0.026395171661519272,0.020443984716306242,0.024492611067937514,0.0027959998139151917,0.025146280647166352,0.019545932511912823,0.02064345450273848,-0.00026568975728188905,0.02188063809680994,0.02083221502955448,0.018885620075397822,0.0007570156546275243,0.02227715961967552,0.029293001632877187,0.013785422540899345,0.013880360859229375,-0.00022919858326265173,0.017097720235829582,0.021447440287795033,0.024158508080818392,0.0023181112953218354,0.0027337011241501874,0.020775452636188244,0.0008939172712666617,0.022189349597147388,0.026416186010343623,0.013768488003347774,0.02376804739384191,0.01771305183426707,0.01872201689303422,0.02150678944897468,0.022421632036272225,0.02399514544896338,0.013752235640292734,0.025087877569447293],\"yaxis\":\"y\",\"type\":\"scatter\"}],                        {\"template\":{\"data\":{\"histogram2dcontour\":[{\"type\":\"histogram2dcontour\",\"colorbar\":{\"outlinewidth\":0,\"ticks\":\"\"},\"colorscale\":[[0.0,\"#0d0887\"],[0.1111111111111111,\"#46039f\"],[0.2222222222222222,\"#7201a8\"],[0.3333333333333333,\"#9c179e\"],[0.4444444444444444,\"#bd3786\"],[0.5555555555555556,\"#d8576b\"],[0.6666666666666666,\"#ed7953\"],[0.7777777777777778,\"#fb9f3a\"],[0.8888888888888888,\"#fdca26\"],[1.0,\"#f0f921\"]]}],\"choropleth\":[{\"type\":\"choropleth\",\"colorbar\":{\"outlinewidth\":0,\"ticks\":\"\"}}],\"histogram2d\":[{\"type\":\"histogram2d\",\"colorbar\":{\"outlinewidth\":0,\"ticks\":\"\"},\"colorscale\":[[0.0,\"#0d0887\"],[0.1111111111111111,\"#46039f\"],[0.2222222222222222,\"#7201a8\"],[0.3333333333333333,\"#9c179e\"],[0.4444444444444444,\"#bd3786\"],[0.5555555555555556,\"#d8576b\"],[0.6666666666666666,\"#ed7953\"],[0.7777777777777778,\"#fb9f3a\"],[0.8888888888888888,\"#fdca26\"],[1.0,\"#f0f921\"]]}],\"heatmap\":[{\"type\":\"heatmap\",\"colorbar\":{\"outlinewidth\":0,\"ticks\":\"\"},\"colorscale\":[[0.0,\"#0d0887\"],[0.1111111111111111,\"#46039f\"],[0.2222222222222222,\"#7201a8\"],[0.3333333333333333,\"#9c179e\"],[0.4444444444444444,\"#bd3786\"],[0.5555555555555556,\"#d8576b\"],[0.6666666666666666,\"#ed7953\"],[0.7777777777777778,\"#fb9f3a\"],[0.8888888888888888,\"#fdca26\"],[1.0,\"#f0f921\"]]}],\"heatmapgl\":[{\"type\":\"heatmapgl\",\"colorbar\":{\"outlinewidth\":0,\"ticks\":\"\"},\"colorscale\":[[0.0,\"#0d0887\"],[0.1111111111111111,\"#46039f\"],[0.2222222222222222,\"#7201a8\"],[0.3333333333333333,\"#9c179e\"],[0.4444444444444444,\"#bd3786\"],[0.5555555555555556,\"#d8576b\"],[0.6666666666666666,\"#ed7953\"],[0.7777777777777778,\"#fb9f3a\"],[0.8888888888888888,\"#fdca26\"],[1.0,\"#f0f921\"]]}],\"contourcarpet\":[{\"type\":\"contourcarpet\",\"colorbar\":{\"outlinewidth\":0,\"ticks\":\"\"}}],\"contour\":[{\"type\":\"contour\",\"colorbar\":{\"outlinewidth\":0,\"ticks\":\"\"},\"colorscale\":[[0.0,\"#0d0887\"],[0.1111111111111111,\"#46039f\"],[0.2222222222222222,\"#7201a8\"],[0.3333333333333333,\"#9c179e\"],[0.4444444444444444,\"#bd3786\"],[0.5555555555555556,\"#d8576b\"],[0.6666666666666666,\"#ed7953\"],[0.7777777777777778,\"#fb9f3a\"],[0.8888888888888888,\"#fdca26\"],[1.0,\"#f0f921\"]]}],\"surface\":[{\"type\":\"surface\",\"colorbar\":{\"outlinewidth\":0,\"ticks\":\"\"},\"colorscale\":[[0.0,\"#0d0887\"],[0.1111111111111111,\"#46039f\"],[0.2222222222222222,\"#7201a8\"],[0.3333333333333333,\"#9c179e\"],[0.4444444444444444,\"#bd3786\"],[0.5555555555555556,\"#d8576b\"],[0.6666666666666666,\"#ed7953\"],[0.7777777777777778,\"#fb9f3a\"],[0.8888888888888888,\"#fdca26\"],[1.0,\"#f0f921\"]]}],\"mesh3d\":[{\"type\":\"mesh3d\",\"colorbar\":{\"outlinewidth\":0,\"ticks\":\"\"}}],\"scatter\":[{\"fillpattern\":{\"fillmode\":\"overlay\",\"size\":10,\"solidity\":0.2},\"type\":\"scatter\"}],\"parcoords\":[{\"type\":\"parcoords\",\"line\":{\"colorbar\":{\"outlinewidth\":0,\"ticks\":\"\"}}}],\"scatterpolargl\":[{\"type\":\"scatterpolargl\",\"marker\":{\"colorbar\":{\"outlinewidth\":0,\"ticks\":\"\"}}}],\"bar\":[{\"error_x\":{\"color\":\"#2a3f5f\"},\"error_y\":{\"color\":\"#2a3f5f\"},\"marker\":{\"line\":{\"color\":\"#E5ECF6\",\"width\":0.5},\"pattern\":{\"fillmode\":\"overlay\",\"size\":10,\"solidity\":0.2}},\"type\":\"bar\"}],\"scattergeo\":[{\"type\":\"scattergeo\",\"marker\":{\"colorbar\":{\"outlinewidth\":0,\"ticks\":\"\"}}}],\"scatterpolar\":[{\"type\":\"scatterpolar\",\"marker\":{\"colorbar\":{\"outlinewidth\":0,\"ticks\":\"\"}}}],\"histogram\":[{\"marker\":{\"pattern\":{\"fillmode\":\"overlay\",\"size\":10,\"solidity\":0.2}},\"type\":\"histogram\"}],\"scattergl\":[{\"type\":\"scattergl\",\"marker\":{\"colorbar\":{\"outlinewidth\":0,\"ticks\":\"\"}}}],\"scatter3d\":[{\"type\":\"scatter3d\",\"line\":{\"colorbar\":{\"outlinewidth\":0,\"ticks\":\"\"}},\"marker\":{\"colorbar\":{\"outlinewidth\":0,\"ticks\":\"\"}}}],\"scattermapbox\":[{\"type\":\"scattermapbox\",\"marker\":{\"colorbar\":{\"outlinewidth\":0,\"ticks\":\"\"}}}],\"scatterternary\":[{\"type\":\"scatterternary\",\"marker\":{\"colorbar\":{\"outlinewidth\":0,\"ticks\":\"\"}}}],\"scattercarpet\":[{\"type\":\"scattercarpet\",\"marker\":{\"colorbar\":{\"outlinewidth\":0,\"ticks\":\"\"}}}],\"carpet\":[{\"aaxis\":{\"endlinecolor\":\"#2a3f5f\",\"gridcolor\":\"white\",\"linecolor\":\"white\",\"minorgridcolor\":\"white\",\"startlinecolor\":\"#2a3f5f\"},\"baxis\":{\"endlinecolor\":\"#2a3f5f\",\"gridcolor\":\"white\",\"linecolor\":\"white\",\"minorgridcolor\":\"white\",\"startlinecolor\":\"#2a3f5f\"},\"type\":\"carpet\"}],\"table\":[{\"cells\":{\"fill\":{\"color\":\"#EBF0F8\"},\"line\":{\"color\":\"white\"}},\"header\":{\"fill\":{\"color\":\"#C8D4E3\"},\"line\":{\"color\":\"white\"}},\"type\":\"table\"}],\"barpolar\":[{\"marker\":{\"line\":{\"color\":\"#E5ECF6\",\"width\":0.5},\"pattern\":{\"fillmode\":\"overlay\",\"size\":10,\"solidity\":0.2}},\"type\":\"barpolar\"}],\"pie\":[{\"automargin\":true,\"type\":\"pie\"}]},\"layout\":{\"autotypenumbers\":\"strict\",\"colorway\":[\"#636efa\",\"#EF553B\",\"#00cc96\",\"#ab63fa\",\"#FFA15A\",\"#19d3f3\",\"#FF6692\",\"#B6E880\",\"#FF97FF\",\"#FECB52\"],\"font\":{\"color\":\"#2a3f5f\"},\"hovermode\":\"closest\",\"hoverlabel\":{\"align\":\"left\"},\"paper_bgcolor\":\"white\",\"plot_bgcolor\":\"#E5ECF6\",\"polar\":{\"bgcolor\":\"#E5ECF6\",\"angularaxis\":{\"gridcolor\":\"white\",\"linecolor\":\"white\",\"ticks\":\"\"},\"radialaxis\":{\"gridcolor\":\"white\",\"linecolor\":\"white\",\"ticks\":\"\"}},\"ternary\":{\"bgcolor\":\"#E5ECF6\",\"aaxis\":{\"gridcolor\":\"white\",\"linecolor\":\"white\",\"ticks\":\"\"},\"baxis\":{\"gridcolor\":\"white\",\"linecolor\":\"white\",\"ticks\":\"\"},\"caxis\":{\"gridcolor\":\"white\",\"linecolor\":\"white\",\"ticks\":\"\"}},\"coloraxis\":{\"colorbar\":{\"outlinewidth\":0,\"ticks\":\"\"}},\"colorscale\":{\"sequential\":[[0.0,\"#0d0887\"],[0.1111111111111111,\"#46039f\"],[0.2222222222222222,\"#7201a8\"],[0.3333333333333333,\"#9c179e\"],[0.4444444444444444,\"#bd3786\"],[0.5555555555555556,\"#d8576b\"],[0.6666666666666666,\"#ed7953\"],[0.7777777777777778,\"#fb9f3a\"],[0.8888888888888888,\"#fdca26\"],[1.0,\"#f0f921\"]],\"sequentialminus\":[[0.0,\"#0d0887\"],[0.1111111111111111,\"#46039f\"],[0.2222222222222222,\"#7201a8\"],[0.3333333333333333,\"#9c179e\"],[0.4444444444444444,\"#bd3786\"],[0.5555555555555556,\"#d8576b\"],[0.6666666666666666,\"#ed7953\"],[0.7777777777777778,\"#fb9f3a\"],[0.8888888888888888,\"#fdca26\"],[1.0,\"#f0f921\"]],\"diverging\":[[0,\"#8e0152\"],[0.1,\"#c51b7d\"],[0.2,\"#de77ae\"],[0.3,\"#f1b6da\"],[0.4,\"#fde0ef\"],[0.5,\"#f7f7f7\"],[0.6,\"#e6f5d0\"],[0.7,\"#b8e186\"],[0.8,\"#7fbc41\"],[0.9,\"#4d9221\"],[1,\"#276419\"]]},\"xaxis\":{\"gridcolor\":\"white\",\"linecolor\":\"white\",\"ticks\":\"\",\"title\":{\"standoff\":15},\"zerolinecolor\":\"white\",\"automargin\":true,\"zerolinewidth\":2},\"yaxis\":{\"gridcolor\":\"white\",\"linecolor\":\"white\",\"ticks\":\"\",\"title\":{\"standoff\":15},\"zerolinecolor\":\"white\",\"automargin\":true,\"zerolinewidth\":2},\"scene\":{\"xaxis\":{\"backgroundcolor\":\"#E5ECF6\",\"gridcolor\":\"white\",\"linecolor\":\"white\",\"showbackground\":true,\"ticks\":\"\",\"zerolinecolor\":\"white\",\"gridwidth\":2},\"yaxis\":{\"backgroundcolor\":\"#E5ECF6\",\"gridcolor\":\"white\",\"linecolor\":\"white\",\"showbackground\":true,\"ticks\":\"\",\"zerolinecolor\":\"white\",\"gridwidth\":2},\"zaxis\":{\"backgroundcolor\":\"#E5ECF6\",\"gridcolor\":\"white\",\"linecolor\":\"white\",\"showbackground\":true,\"ticks\":\"\",\"zerolinecolor\":\"white\",\"gridwidth\":2}},\"shapedefaults\":{\"line\":{\"color\":\"#2a3f5f\"}},\"annotationdefaults\":{\"arrowcolor\":\"#2a3f5f\",\"arrowhead\":0,\"arrowwidth\":1},\"geo\":{\"bgcolor\":\"white\",\"landcolor\":\"#E5ECF6\",\"subunitcolor\":\"white\",\"showland\":true,\"showlakes\":true,\"lakecolor\":\"white\"},\"title\":{\"x\":0.05},\"mapbox\":{\"style\":\"light\"}}},\"xaxis\":{\"anchor\":\"y\",\"domain\":[0.0,1.0],\"title\":{\"text\":\"Checkpoint\"}},\"yaxis\":{\"anchor\":\"x\",\"domain\":[0.0,1.0],\"title\":{\"text\":\"Change as % of original logit diff\"}},\"legend\":{\"tracegroupgap\":0},\"title\":{\"text\":\"Summed Post-NMH-Ablation In-Circuit Head Logit Diff Change Over Time (pythia-160m-hiddendropout)\"}},                        {\"responsive\": true}                    ).then(function(){\n",
       "                            \n",
       "var gd = document.getElementById('ef10e4fa-f786-484a-acd8-3454cf56b53f');\n",
       "var x = new MutationObserver(function (mutations, observer) {{\n",
       "        var display = window.getComputedStyle(gd).display;\n",
       "        if (!display || display === 'none') {{\n",
       "            console.log([gd, 'removed!']);\n",
       "            Plotly.purge(gd);\n",
       "            observer.disconnect();\n",
       "        }}\n",
       "}});\n",
       "\n",
       "// Listen for the removal of the full notebook cells\n",
       "var notebookContainer = gd.closest('#notebook-container');\n",
       "if (notebookContainer) {{\n",
       "    x.observe(notebookContainer, {childList: true});\n",
       "}}\n",
       "\n",
       "// Listen for the clearing of the current output cell\n",
       "var outputEl = gd.closest('.output');\n",
       "if (outputEl) {{\n",
       "    x.observe(outputEl, {childList: true});\n",
       "}}\n",
       "\n",
       "                        })                };                });            </script>        </div>"
      ]
     },
     "metadata": {},
     "output_type": "display_data"
    }
   ],
   "source": [
    "# plot summed_in_circuit_head_deltas with plotly express\n",
    "fig = px.line(\n",
    "    x=list(summed_in_circuit_head_deltas.keys()), \n",
    "    y=list(summed_in_circuit_head_deltas.values()), \n",
    "    title=f\"Summed Post-NMH-Ablation In-Circuit Head Logit Diff Change Over Time ({MODEL_TO_VIEW})\",\n",
    "    labels={'x': 'Checkpoint', 'y': 'Change as % of original logit diff'} \n",
    ")\n",
    "fig.show()\n"
   ]
  },
  {
   "cell_type": "code",
   "execution_count": 30,
   "metadata": {},
   "outputs": [
    {
     "data": {
      "application/vnd.plotly.v1+json": {
       "config": {
        "plotlyServerURL": "https://plot.ly"
       },
       "data": [
        {
         "hovertemplate": "Checkpoint=%{x}<br>Change as % of original logit diff=%{y}<extra></extra>",
         "legendgroup": "",
         "line": {
          "color": "#636efa",
          "dash": "solid"
         },
         "marker": {
          "symbol": "circle"
         },
         "mode": "lines",
         "name": "",
         "orientation": "v",
         "showlegend": false,
         "type": "scatter",
         "x": [
          4000,
          5000,
          6000,
          7000,
          8000,
          9000,
          10000,
          11000,
          12000,
          13000,
          14000,
          15000,
          16000,
          17000,
          18000,
          19000,
          20000,
          21000,
          22000,
          23000,
          24000,
          25000,
          26000,
          27000,
          28000,
          29000,
          30000,
          31000,
          32000,
          33000,
          34000,
          35000,
          36000,
          37000,
          38000,
          39000,
          40000,
          41000,
          42000,
          43000,
          44000,
          45000,
          46000,
          47000,
          48000,
          49000,
          50000,
          51000,
          52000,
          53000,
          54000,
          55000,
          56000,
          57000,
          58000,
          59000,
          60000,
          61000,
          62000,
          63000,
          64000,
          65000,
          66000,
          67000,
          68000,
          69000,
          70000,
          71000,
          72000,
          73000,
          74000,
          75000,
          76000,
          77000,
          78000,
          79000,
          80000,
          81000,
          82000,
          83000,
          84000,
          85000,
          86000,
          87000,
          88000,
          89000,
          90000,
          91000,
          92000,
          93000,
          94000,
          95000,
          96000,
          97000,
          98000,
          99000,
          100000,
          101000,
          102000,
          103000,
          104000,
          105000,
          106000,
          107000,
          108000,
          109000,
          110000,
          111000,
          112000,
          113000,
          114000,
          115000,
          116000,
          117000,
          118000,
          119000,
          120000,
          121000,
          122000,
          123000,
          124000,
          125000,
          126000,
          127000,
          128000,
          129000,
          130000,
          131000,
          132000,
          133000,
          134000,
          135000,
          136000,
          137000,
          138000,
          139000,
          140000,
          141000,
          142000,
          143000
         ],
         "xaxis": "x",
         "y": [
          -0.07043685871710884,
          -0.00132225950876823,
          0.004405876110956027,
          0.034114933394919986,
          0.02752575332598628,
          0.0284665078651694,
          0.018342716184868862,
          0.018258957064910618,
          0.11776532110354761,
          0.012514012015726692,
          0.01565235600362791,
          0.0005638211315526071,
          0.007003096535618776,
          0.016299466421353746,
          0.012094612982962662,
          0.013732598357296226,
          0.00439760211189669,
          0.021175961297509604,
          0.014526403324551088,
          0.0025358271114573265,
          0.017359909661789207,
          0.0033194896106811833,
          0.018009436634314344,
          0.00298384934299946,
          0.004479101981233254,
          0.004877912897302456,
          0.005510984819030462,
          0.004717278550456887,
          0.0041353132196101546,
          0.0014169025723033426,
          0.003564372096419594,
          0.0037198153960508536,
          0.005981854347516697,
          0.005453590621895846,
          0.004935041120722226,
          0.00608027479274436,
          0.004652028617157939,
          0.00628426002712672,
          0.004072383538866932,
          0.004956200465230696,
          0.005756909346545017,
          0.002041946844448471,
          0.0072105491717404675,
          0.0027814367989567605,
          0.005484424327876404,
          0.0016816690379682557,
          0.006130534323033865,
          0.003953916962020149,
          0.0048326236490526635,
          0.001218177128913676,
          0.0050389041923176335,
          0.006053807324272513,
          0.0015590623787043504,
          0.0018009217869592957,
          0.0034719964978811887,
          0.004056528751214506,
          0.005747998874355523,
          0.003698648392963393,
          0.0024066049187916466,
          0.0005345362243085149,
          0.00056603418599151,
          0.0023549273301330105,
          0.0011630427347248979,
          0.0016828688089397872,
          0.00177332977333453,
          -0.0003727536947705727,
          -0.00041420560371148733,
          -0.0001979561141324056,
          -0.0006404172110975819,
          -0.0019638979542819213,
          -0.0015506672437266822,
          -0.0008872933046228247,
          -0.0027563978590295574,
          -0.0011259080918666086,
          -0.0014948620988867896,
          -0.0026802985722859263,
          -0.002333954209354617,
          -0.001461270784488102,
          -0.0027564084585971695,
          -0.002026363527002137,
          -0.0019245194882449087,
          -0.0007877968549720104,
          0.0018411931633477178,
          0.0027038165978191856,
          0.0027845440912375274,
          0.0018497007176787041,
          0.002636596781146272,
          0.0032155808388856936,
          0.0035944908313248676,
          0.0002935847377776048,
          0.004201964558095935,
          0.004480147780710239,
          0.003484612155794787,
          0.0027429556313214028,
          0.0026797491410668166,
          0.0013560609170806673,
          0.0013675578757057737,
          0.00280225834640769,
          -0.002592444278383946,
          0.0023944235326925907,
          0.0012980580943816795,
          0.0019279735928775525,
          0.00066562102031145,
          0.0013153952453056348,
          0.019272312244748874,
          0.0023523332158785428,
          0.00029345564749255054,
          0.002045136155488162,
          0.024465393056531136,
          -0.0012314511667830535,
          0.0008058552013082404,
          -0.0011673471144889051,
          0.02254273282340756,
          0.0009171615874912116,
          0.00127300301870498,
          0.0005690065521954501,
          0.025330130983240336,
          0.002469642263708221,
          -0.00007711475110643763,
          0.004221048293535407,
          0.004032496530185871,
          0.021274615924578404,
          0.0021710345501927087,
          0.0007245326512255363,
          0.004414624649276275,
          0.021948081316898734,
          0.024399907152684627,
          0.001873374513150332,
          0.025858677426047017,
          0.0028888059127224904,
          0.0030856060629488634,
          0.003235652210508413,
          0.003476534944459739,
          0.001470786163354799,
          0.0020110454345519764,
          0.003896944396447165,
          0.0004856515464808526,
          -0.000049136110472148626,
          0.00220537144278562,
          -0.0006643000992556526
         ],
         "yaxis": "y"
        }
       ],
       "layout": {
        "legend": {
         "tracegroupgap": 0
        },
        "template": {
         "data": {
          "bar": [
           {
            "error_x": {
             "color": "#2a3f5f"
            },
            "error_y": {
             "color": "#2a3f5f"
            },
            "marker": {
             "line": {
              "color": "#E5ECF6",
              "width": 0.5
             },
             "pattern": {
              "fillmode": "overlay",
              "size": 10,
              "solidity": 0.2
             }
            },
            "type": "bar"
           }
          ],
          "barpolar": [
           {
            "marker": {
             "line": {
              "color": "#E5ECF6",
              "width": 0.5
             },
             "pattern": {
              "fillmode": "overlay",
              "size": 10,
              "solidity": 0.2
             }
            },
            "type": "barpolar"
           }
          ],
          "carpet": [
           {
            "aaxis": {
             "endlinecolor": "#2a3f5f",
             "gridcolor": "white",
             "linecolor": "white",
             "minorgridcolor": "white",
             "startlinecolor": "#2a3f5f"
            },
            "baxis": {
             "endlinecolor": "#2a3f5f",
             "gridcolor": "white",
             "linecolor": "white",
             "minorgridcolor": "white",
             "startlinecolor": "#2a3f5f"
            },
            "type": "carpet"
           }
          ],
          "choropleth": [
           {
            "colorbar": {
             "outlinewidth": 0,
             "ticks": ""
            },
            "type": "choropleth"
           }
          ],
          "contour": [
           {
            "colorbar": {
             "outlinewidth": 0,
             "ticks": ""
            },
            "colorscale": [
             [
              0,
              "#0d0887"
             ],
             [
              0.1111111111111111,
              "#46039f"
             ],
             [
              0.2222222222222222,
              "#7201a8"
             ],
             [
              0.3333333333333333,
              "#9c179e"
             ],
             [
              0.4444444444444444,
              "#bd3786"
             ],
             [
              0.5555555555555556,
              "#d8576b"
             ],
             [
              0.6666666666666666,
              "#ed7953"
             ],
             [
              0.7777777777777778,
              "#fb9f3a"
             ],
             [
              0.8888888888888888,
              "#fdca26"
             ],
             [
              1,
              "#f0f921"
             ]
            ],
            "type": "contour"
           }
          ],
          "contourcarpet": [
           {
            "colorbar": {
             "outlinewidth": 0,
             "ticks": ""
            },
            "type": "contourcarpet"
           }
          ],
          "heatmap": [
           {
            "colorbar": {
             "outlinewidth": 0,
             "ticks": ""
            },
            "colorscale": [
             [
              0,
              "#0d0887"
             ],
             [
              0.1111111111111111,
              "#46039f"
             ],
             [
              0.2222222222222222,
              "#7201a8"
             ],
             [
              0.3333333333333333,
              "#9c179e"
             ],
             [
              0.4444444444444444,
              "#bd3786"
             ],
             [
              0.5555555555555556,
              "#d8576b"
             ],
             [
              0.6666666666666666,
              "#ed7953"
             ],
             [
              0.7777777777777778,
              "#fb9f3a"
             ],
             [
              0.8888888888888888,
              "#fdca26"
             ],
             [
              1,
              "#f0f921"
             ]
            ],
            "type": "heatmap"
           }
          ],
          "heatmapgl": [
           {
            "colorbar": {
             "outlinewidth": 0,
             "ticks": ""
            },
            "colorscale": [
             [
              0,
              "#0d0887"
             ],
             [
              0.1111111111111111,
              "#46039f"
             ],
             [
              0.2222222222222222,
              "#7201a8"
             ],
             [
              0.3333333333333333,
              "#9c179e"
             ],
             [
              0.4444444444444444,
              "#bd3786"
             ],
             [
              0.5555555555555556,
              "#d8576b"
             ],
             [
              0.6666666666666666,
              "#ed7953"
             ],
             [
              0.7777777777777778,
              "#fb9f3a"
             ],
             [
              0.8888888888888888,
              "#fdca26"
             ],
             [
              1,
              "#f0f921"
             ]
            ],
            "type": "heatmapgl"
           }
          ],
          "histogram": [
           {
            "marker": {
             "pattern": {
              "fillmode": "overlay",
              "size": 10,
              "solidity": 0.2
             }
            },
            "type": "histogram"
           }
          ],
          "histogram2d": [
           {
            "colorbar": {
             "outlinewidth": 0,
             "ticks": ""
            },
            "colorscale": [
             [
              0,
              "#0d0887"
             ],
             [
              0.1111111111111111,
              "#46039f"
             ],
             [
              0.2222222222222222,
              "#7201a8"
             ],
             [
              0.3333333333333333,
              "#9c179e"
             ],
             [
              0.4444444444444444,
              "#bd3786"
             ],
             [
              0.5555555555555556,
              "#d8576b"
             ],
             [
              0.6666666666666666,
              "#ed7953"
             ],
             [
              0.7777777777777778,
              "#fb9f3a"
             ],
             [
              0.8888888888888888,
              "#fdca26"
             ],
             [
              1,
              "#f0f921"
             ]
            ],
            "type": "histogram2d"
           }
          ],
          "histogram2dcontour": [
           {
            "colorbar": {
             "outlinewidth": 0,
             "ticks": ""
            },
            "colorscale": [
             [
              0,
              "#0d0887"
             ],
             [
              0.1111111111111111,
              "#46039f"
             ],
             [
              0.2222222222222222,
              "#7201a8"
             ],
             [
              0.3333333333333333,
              "#9c179e"
             ],
             [
              0.4444444444444444,
              "#bd3786"
             ],
             [
              0.5555555555555556,
              "#d8576b"
             ],
             [
              0.6666666666666666,
              "#ed7953"
             ],
             [
              0.7777777777777778,
              "#fb9f3a"
             ],
             [
              0.8888888888888888,
              "#fdca26"
             ],
             [
              1,
              "#f0f921"
             ]
            ],
            "type": "histogram2dcontour"
           }
          ],
          "mesh3d": [
           {
            "colorbar": {
             "outlinewidth": 0,
             "ticks": ""
            },
            "type": "mesh3d"
           }
          ],
          "parcoords": [
           {
            "line": {
             "colorbar": {
              "outlinewidth": 0,
              "ticks": ""
             }
            },
            "type": "parcoords"
           }
          ],
          "pie": [
           {
            "automargin": true,
            "type": "pie"
           }
          ],
          "scatter": [
           {
            "fillpattern": {
             "fillmode": "overlay",
             "size": 10,
             "solidity": 0.2
            },
            "type": "scatter"
           }
          ],
          "scatter3d": [
           {
            "line": {
             "colorbar": {
              "outlinewidth": 0,
              "ticks": ""
             }
            },
            "marker": {
             "colorbar": {
              "outlinewidth": 0,
              "ticks": ""
             }
            },
            "type": "scatter3d"
           }
          ],
          "scattercarpet": [
           {
            "marker": {
             "colorbar": {
              "outlinewidth": 0,
              "ticks": ""
             }
            },
            "type": "scattercarpet"
           }
          ],
          "scattergeo": [
           {
            "marker": {
             "colorbar": {
              "outlinewidth": 0,
              "ticks": ""
             }
            },
            "type": "scattergeo"
           }
          ],
          "scattergl": [
           {
            "marker": {
             "colorbar": {
              "outlinewidth": 0,
              "ticks": ""
             }
            },
            "type": "scattergl"
           }
          ],
          "scattermapbox": [
           {
            "marker": {
             "colorbar": {
              "outlinewidth": 0,
              "ticks": ""
             }
            },
            "type": "scattermapbox"
           }
          ],
          "scatterpolar": [
           {
            "marker": {
             "colorbar": {
              "outlinewidth": 0,
              "ticks": ""
             }
            },
            "type": "scatterpolar"
           }
          ],
          "scatterpolargl": [
           {
            "marker": {
             "colorbar": {
              "outlinewidth": 0,
              "ticks": ""
             }
            },
            "type": "scatterpolargl"
           }
          ],
          "scatterternary": [
           {
            "marker": {
             "colorbar": {
              "outlinewidth": 0,
              "ticks": ""
             }
            },
            "type": "scatterternary"
           }
          ],
          "surface": [
           {
            "colorbar": {
             "outlinewidth": 0,
             "ticks": ""
            },
            "colorscale": [
             [
              0,
              "#0d0887"
             ],
             [
              0.1111111111111111,
              "#46039f"
             ],
             [
              0.2222222222222222,
              "#7201a8"
             ],
             [
              0.3333333333333333,
              "#9c179e"
             ],
             [
              0.4444444444444444,
              "#bd3786"
             ],
             [
              0.5555555555555556,
              "#d8576b"
             ],
             [
              0.6666666666666666,
              "#ed7953"
             ],
             [
              0.7777777777777778,
              "#fb9f3a"
             ],
             [
              0.8888888888888888,
              "#fdca26"
             ],
             [
              1,
              "#f0f921"
             ]
            ],
            "type": "surface"
           }
          ],
          "table": [
           {
            "cells": {
             "fill": {
              "color": "#EBF0F8"
             },
             "line": {
              "color": "white"
             }
            },
            "header": {
             "fill": {
              "color": "#C8D4E3"
             },
             "line": {
              "color": "white"
             }
            },
            "type": "table"
           }
          ]
         },
         "layout": {
          "annotationdefaults": {
           "arrowcolor": "#2a3f5f",
           "arrowhead": 0,
           "arrowwidth": 1
          },
          "autotypenumbers": "strict",
          "coloraxis": {
           "colorbar": {
            "outlinewidth": 0,
            "ticks": ""
           }
          },
          "colorscale": {
           "diverging": [
            [
             0,
             "#8e0152"
            ],
            [
             0.1,
             "#c51b7d"
            ],
            [
             0.2,
             "#de77ae"
            ],
            [
             0.3,
             "#f1b6da"
            ],
            [
             0.4,
             "#fde0ef"
            ],
            [
             0.5,
             "#f7f7f7"
            ],
            [
             0.6,
             "#e6f5d0"
            ],
            [
             0.7,
             "#b8e186"
            ],
            [
             0.8,
             "#7fbc41"
            ],
            [
             0.9,
             "#4d9221"
            ],
            [
             1,
             "#276419"
            ]
           ],
           "sequential": [
            [
             0,
             "#0d0887"
            ],
            [
             0.1111111111111111,
             "#46039f"
            ],
            [
             0.2222222222222222,
             "#7201a8"
            ],
            [
             0.3333333333333333,
             "#9c179e"
            ],
            [
             0.4444444444444444,
             "#bd3786"
            ],
            [
             0.5555555555555556,
             "#d8576b"
            ],
            [
             0.6666666666666666,
             "#ed7953"
            ],
            [
             0.7777777777777778,
             "#fb9f3a"
            ],
            [
             0.8888888888888888,
             "#fdca26"
            ],
            [
             1,
             "#f0f921"
            ]
           ],
           "sequentialminus": [
            [
             0,
             "#0d0887"
            ],
            [
             0.1111111111111111,
             "#46039f"
            ],
            [
             0.2222222222222222,
             "#7201a8"
            ],
            [
             0.3333333333333333,
             "#9c179e"
            ],
            [
             0.4444444444444444,
             "#bd3786"
            ],
            [
             0.5555555555555556,
             "#d8576b"
            ],
            [
             0.6666666666666666,
             "#ed7953"
            ],
            [
             0.7777777777777778,
             "#fb9f3a"
            ],
            [
             0.8888888888888888,
             "#fdca26"
            ],
            [
             1,
             "#f0f921"
            ]
           ]
          },
          "colorway": [
           "#636efa",
           "#EF553B",
           "#00cc96",
           "#ab63fa",
           "#FFA15A",
           "#19d3f3",
           "#FF6692",
           "#B6E880",
           "#FF97FF",
           "#FECB52"
          ],
          "font": {
           "color": "#2a3f5f"
          },
          "geo": {
           "bgcolor": "white",
           "lakecolor": "white",
           "landcolor": "#E5ECF6",
           "showlakes": true,
           "showland": true,
           "subunitcolor": "white"
          },
          "hoverlabel": {
           "align": "left"
          },
          "hovermode": "closest",
          "mapbox": {
           "style": "light"
          },
          "paper_bgcolor": "white",
          "plot_bgcolor": "#E5ECF6",
          "polar": {
           "angularaxis": {
            "gridcolor": "white",
            "linecolor": "white",
            "ticks": ""
           },
           "bgcolor": "#E5ECF6",
           "radialaxis": {
            "gridcolor": "white",
            "linecolor": "white",
            "ticks": ""
           }
          },
          "scene": {
           "xaxis": {
            "backgroundcolor": "#E5ECF6",
            "gridcolor": "white",
            "gridwidth": 2,
            "linecolor": "white",
            "showbackground": true,
            "ticks": "",
            "zerolinecolor": "white"
           },
           "yaxis": {
            "backgroundcolor": "#E5ECF6",
            "gridcolor": "white",
            "gridwidth": 2,
            "linecolor": "white",
            "showbackground": true,
            "ticks": "",
            "zerolinecolor": "white"
           },
           "zaxis": {
            "backgroundcolor": "#E5ECF6",
            "gridcolor": "white",
            "gridwidth": 2,
            "linecolor": "white",
            "showbackground": true,
            "ticks": "",
            "zerolinecolor": "white"
           }
          },
          "shapedefaults": {
           "line": {
            "color": "#2a3f5f"
           }
          },
          "ternary": {
           "aaxis": {
            "gridcolor": "white",
            "linecolor": "white",
            "ticks": ""
           },
           "baxis": {
            "gridcolor": "white",
            "linecolor": "white",
            "ticks": ""
           },
           "bgcolor": "#E5ECF6",
           "caxis": {
            "gridcolor": "white",
            "linecolor": "white",
            "ticks": ""
           }
          },
          "title": {
           "x": 0.05
          },
          "xaxis": {
           "automargin": true,
           "gridcolor": "white",
           "linecolor": "white",
           "ticks": "",
           "title": {
            "standoff": 15
           },
           "zerolinecolor": "white",
           "zerolinewidth": 2
          },
          "yaxis": {
           "automargin": true,
           "gridcolor": "white",
           "linecolor": "white",
           "ticks": "",
           "title": {
            "standoff": 15
           },
           "zerolinecolor": "white",
           "zerolinewidth": 2
          }
         }
        },
        "title": {
         "text": "Summed Post-NMH-Ablation Outside-Circuit Head Attribution Change (pythia-160m-hiddendropout)"
        },
        "xaxis": {
         "anchor": "y",
         "domain": [
          0,
          1
         ],
         "title": {
          "text": "Checkpoint"
         }
        },
        "yaxis": {
         "anchor": "x",
         "domain": [
          0,
          1
         ],
         "title": {
          "text": "Change as % of original logit diff"
         }
        }
       }
      },
      "text/html": [
       "<div>                            <div id=\"2a3b662f-aabb-4223-a8d6-3755fc11866a\" class=\"plotly-graph-div\" style=\"height:525px; width:100%;\"></div>            <script type=\"text/javascript\">                require([\"plotly\"], function(Plotly) {                    window.PLOTLYENV=window.PLOTLYENV || {};                                    if (document.getElementById(\"2a3b662f-aabb-4223-a8d6-3755fc11866a\")) {                    Plotly.newPlot(                        \"2a3b662f-aabb-4223-a8d6-3755fc11866a\",                        [{\"hovertemplate\":\"Checkpoint=%{x}\\u003cbr\\u003eChange as % of original logit diff=%{y}\\u003cextra\\u003e\\u003c\\u002fextra\\u003e\",\"legendgroup\":\"\",\"line\":{\"color\":\"#636efa\",\"dash\":\"solid\"},\"marker\":{\"symbol\":\"circle\"},\"mode\":\"lines\",\"name\":\"\",\"orientation\":\"v\",\"showlegend\":false,\"x\":[4000,5000,6000,7000,8000,9000,10000,11000,12000,13000,14000,15000,16000,17000,18000,19000,20000,21000,22000,23000,24000,25000,26000,27000,28000,29000,30000,31000,32000,33000,34000,35000,36000,37000,38000,39000,40000,41000,42000,43000,44000,45000,46000,47000,48000,49000,50000,51000,52000,53000,54000,55000,56000,57000,58000,59000,60000,61000,62000,63000,64000,65000,66000,67000,68000,69000,70000,71000,72000,73000,74000,75000,76000,77000,78000,79000,80000,81000,82000,83000,84000,85000,86000,87000,88000,89000,90000,91000,92000,93000,94000,95000,96000,97000,98000,99000,100000,101000,102000,103000,104000,105000,106000,107000,108000,109000,110000,111000,112000,113000,114000,115000,116000,117000,118000,119000,120000,121000,122000,123000,124000,125000,126000,127000,128000,129000,130000,131000,132000,133000,134000,135000,136000,137000,138000,139000,140000,141000,142000,143000],\"xaxis\":\"x\",\"y\":[-0.07043685871710884,-0.00132225950876823,0.004405876110956027,0.034114933394919986,0.02752575332598628,0.0284665078651694,0.018342716184868862,0.018258957064910618,0.11776532110354761,0.012514012015726692,0.01565235600362791,0.0005638211315526071,0.007003096535618776,0.016299466421353746,0.012094612982962662,0.013732598357296226,0.00439760211189669,0.021175961297509604,0.014526403324551088,0.0025358271114573265,0.017359909661789207,0.0033194896106811833,0.018009436634314344,0.00298384934299946,0.004479101981233254,0.004877912897302456,0.005510984819030462,0.004717278550456887,0.0041353132196101546,0.0014169025723033426,0.003564372096419594,0.0037198153960508536,0.005981854347516697,0.005453590621895846,0.004935041120722226,0.00608027479274436,0.004652028617157939,0.00628426002712672,0.004072383538866932,0.004956200465230696,0.005756909346545017,0.002041946844448471,0.0072105491717404675,0.0027814367989567605,0.005484424327876404,0.0016816690379682557,0.006130534323033865,0.003953916962020149,0.0048326236490526635,0.001218177128913676,0.0050389041923176335,0.006053807324272513,0.0015590623787043504,0.0018009217869592957,0.0034719964978811887,0.004056528751214506,0.005747998874355523,0.003698648392963393,0.0024066049187916466,0.0005345362243085149,0.00056603418599151,0.0023549273301330105,0.0011630427347248979,0.0016828688089397872,0.00177332977333453,-0.0003727536947705727,-0.00041420560371148733,-0.0001979561141324056,-0.0006404172110975819,-0.0019638979542819213,-0.0015506672437266822,-0.0008872933046228247,-0.0027563978590295574,-0.0011259080918666086,-0.0014948620988867896,-0.0026802985722859263,-0.002333954209354617,-0.001461270784488102,-0.0027564084585971695,-0.002026363527002137,-0.0019245194882449087,-0.0007877968549720104,0.0018411931633477178,0.0027038165978191856,0.0027845440912375274,0.0018497007176787041,0.002636596781146272,0.0032155808388856936,0.0035944908313248676,0.0002935847377776048,0.004201964558095935,0.004480147780710239,0.003484612155794787,0.0027429556313214028,0.0026797491410668166,0.0013560609170806673,0.0013675578757057737,0.00280225834640769,-0.002592444278383946,0.0023944235326925907,0.0012980580943816795,0.0019279735928775525,0.00066562102031145,0.0013153952453056348,0.019272312244748874,0.0023523332158785428,0.00029345564749255054,0.002045136155488162,0.024465393056531136,-0.0012314511667830535,0.0008058552013082404,-0.0011673471144889051,0.02254273282340756,0.0009171615874912116,0.00127300301870498,0.0005690065521954501,0.025330130983240336,0.002469642263708221,-7.711475110643763e-05,0.004221048293535407,0.004032496530185871,0.021274615924578404,0.0021710345501927087,0.0007245326512255363,0.004414624649276275,0.021948081316898734,0.024399907152684627,0.001873374513150332,0.025858677426047017,0.0028888059127224904,0.0030856060629488634,0.003235652210508413,0.003476534944459739,0.001470786163354799,0.0020110454345519764,0.003896944396447165,0.0004856515464808526,-4.9136110472148626e-05,0.00220537144278562,-0.0006643000992556526],\"yaxis\":\"y\",\"type\":\"scatter\"}],                        {\"template\":{\"data\":{\"histogram2dcontour\":[{\"type\":\"histogram2dcontour\",\"colorbar\":{\"outlinewidth\":0,\"ticks\":\"\"},\"colorscale\":[[0.0,\"#0d0887\"],[0.1111111111111111,\"#46039f\"],[0.2222222222222222,\"#7201a8\"],[0.3333333333333333,\"#9c179e\"],[0.4444444444444444,\"#bd3786\"],[0.5555555555555556,\"#d8576b\"],[0.6666666666666666,\"#ed7953\"],[0.7777777777777778,\"#fb9f3a\"],[0.8888888888888888,\"#fdca26\"],[1.0,\"#f0f921\"]]}],\"choropleth\":[{\"type\":\"choropleth\",\"colorbar\":{\"outlinewidth\":0,\"ticks\":\"\"}}],\"histogram2d\":[{\"type\":\"histogram2d\",\"colorbar\":{\"outlinewidth\":0,\"ticks\":\"\"},\"colorscale\":[[0.0,\"#0d0887\"],[0.1111111111111111,\"#46039f\"],[0.2222222222222222,\"#7201a8\"],[0.3333333333333333,\"#9c179e\"],[0.4444444444444444,\"#bd3786\"],[0.5555555555555556,\"#d8576b\"],[0.6666666666666666,\"#ed7953\"],[0.7777777777777778,\"#fb9f3a\"],[0.8888888888888888,\"#fdca26\"],[1.0,\"#f0f921\"]]}],\"heatmap\":[{\"type\":\"heatmap\",\"colorbar\":{\"outlinewidth\":0,\"ticks\":\"\"},\"colorscale\":[[0.0,\"#0d0887\"],[0.1111111111111111,\"#46039f\"],[0.2222222222222222,\"#7201a8\"],[0.3333333333333333,\"#9c179e\"],[0.4444444444444444,\"#bd3786\"],[0.5555555555555556,\"#d8576b\"],[0.6666666666666666,\"#ed7953\"],[0.7777777777777778,\"#fb9f3a\"],[0.8888888888888888,\"#fdca26\"],[1.0,\"#f0f921\"]]}],\"heatmapgl\":[{\"type\":\"heatmapgl\",\"colorbar\":{\"outlinewidth\":0,\"ticks\":\"\"},\"colorscale\":[[0.0,\"#0d0887\"],[0.1111111111111111,\"#46039f\"],[0.2222222222222222,\"#7201a8\"],[0.3333333333333333,\"#9c179e\"],[0.4444444444444444,\"#bd3786\"],[0.5555555555555556,\"#d8576b\"],[0.6666666666666666,\"#ed7953\"],[0.7777777777777778,\"#fb9f3a\"],[0.8888888888888888,\"#fdca26\"],[1.0,\"#f0f921\"]]}],\"contourcarpet\":[{\"type\":\"contourcarpet\",\"colorbar\":{\"outlinewidth\":0,\"ticks\":\"\"}}],\"contour\":[{\"type\":\"contour\",\"colorbar\":{\"outlinewidth\":0,\"ticks\":\"\"},\"colorscale\":[[0.0,\"#0d0887\"],[0.1111111111111111,\"#46039f\"],[0.2222222222222222,\"#7201a8\"],[0.3333333333333333,\"#9c179e\"],[0.4444444444444444,\"#bd3786\"],[0.5555555555555556,\"#d8576b\"],[0.6666666666666666,\"#ed7953\"],[0.7777777777777778,\"#fb9f3a\"],[0.8888888888888888,\"#fdca26\"],[1.0,\"#f0f921\"]]}],\"surface\":[{\"type\":\"surface\",\"colorbar\":{\"outlinewidth\":0,\"ticks\":\"\"},\"colorscale\":[[0.0,\"#0d0887\"],[0.1111111111111111,\"#46039f\"],[0.2222222222222222,\"#7201a8\"],[0.3333333333333333,\"#9c179e\"],[0.4444444444444444,\"#bd3786\"],[0.5555555555555556,\"#d8576b\"],[0.6666666666666666,\"#ed7953\"],[0.7777777777777778,\"#fb9f3a\"],[0.8888888888888888,\"#fdca26\"],[1.0,\"#f0f921\"]]}],\"mesh3d\":[{\"type\":\"mesh3d\",\"colorbar\":{\"outlinewidth\":0,\"ticks\":\"\"}}],\"scatter\":[{\"fillpattern\":{\"fillmode\":\"overlay\",\"size\":10,\"solidity\":0.2},\"type\":\"scatter\"}],\"parcoords\":[{\"type\":\"parcoords\",\"line\":{\"colorbar\":{\"outlinewidth\":0,\"ticks\":\"\"}}}],\"scatterpolargl\":[{\"type\":\"scatterpolargl\",\"marker\":{\"colorbar\":{\"outlinewidth\":0,\"ticks\":\"\"}}}],\"bar\":[{\"error_x\":{\"color\":\"#2a3f5f\"},\"error_y\":{\"color\":\"#2a3f5f\"},\"marker\":{\"line\":{\"color\":\"#E5ECF6\",\"width\":0.5},\"pattern\":{\"fillmode\":\"overlay\",\"size\":10,\"solidity\":0.2}},\"type\":\"bar\"}],\"scattergeo\":[{\"type\":\"scattergeo\",\"marker\":{\"colorbar\":{\"outlinewidth\":0,\"ticks\":\"\"}}}],\"scatterpolar\":[{\"type\":\"scatterpolar\",\"marker\":{\"colorbar\":{\"outlinewidth\":0,\"ticks\":\"\"}}}],\"histogram\":[{\"marker\":{\"pattern\":{\"fillmode\":\"overlay\",\"size\":10,\"solidity\":0.2}},\"type\":\"histogram\"}],\"scattergl\":[{\"type\":\"scattergl\",\"marker\":{\"colorbar\":{\"outlinewidth\":0,\"ticks\":\"\"}}}],\"scatter3d\":[{\"type\":\"scatter3d\",\"line\":{\"colorbar\":{\"outlinewidth\":0,\"ticks\":\"\"}},\"marker\":{\"colorbar\":{\"outlinewidth\":0,\"ticks\":\"\"}}}],\"scattermapbox\":[{\"type\":\"scattermapbox\",\"marker\":{\"colorbar\":{\"outlinewidth\":0,\"ticks\":\"\"}}}],\"scatterternary\":[{\"type\":\"scatterternary\",\"marker\":{\"colorbar\":{\"outlinewidth\":0,\"ticks\":\"\"}}}],\"scattercarpet\":[{\"type\":\"scattercarpet\",\"marker\":{\"colorbar\":{\"outlinewidth\":0,\"ticks\":\"\"}}}],\"carpet\":[{\"aaxis\":{\"endlinecolor\":\"#2a3f5f\",\"gridcolor\":\"white\",\"linecolor\":\"white\",\"minorgridcolor\":\"white\",\"startlinecolor\":\"#2a3f5f\"},\"baxis\":{\"endlinecolor\":\"#2a3f5f\",\"gridcolor\":\"white\",\"linecolor\":\"white\",\"minorgridcolor\":\"white\",\"startlinecolor\":\"#2a3f5f\"},\"type\":\"carpet\"}],\"table\":[{\"cells\":{\"fill\":{\"color\":\"#EBF0F8\"},\"line\":{\"color\":\"white\"}},\"header\":{\"fill\":{\"color\":\"#C8D4E3\"},\"line\":{\"color\":\"white\"}},\"type\":\"table\"}],\"barpolar\":[{\"marker\":{\"line\":{\"color\":\"#E5ECF6\",\"width\":0.5},\"pattern\":{\"fillmode\":\"overlay\",\"size\":10,\"solidity\":0.2}},\"type\":\"barpolar\"}],\"pie\":[{\"automargin\":true,\"type\":\"pie\"}]},\"layout\":{\"autotypenumbers\":\"strict\",\"colorway\":[\"#636efa\",\"#EF553B\",\"#00cc96\",\"#ab63fa\",\"#FFA15A\",\"#19d3f3\",\"#FF6692\",\"#B6E880\",\"#FF97FF\",\"#FECB52\"],\"font\":{\"color\":\"#2a3f5f\"},\"hovermode\":\"closest\",\"hoverlabel\":{\"align\":\"left\"},\"paper_bgcolor\":\"white\",\"plot_bgcolor\":\"#E5ECF6\",\"polar\":{\"bgcolor\":\"#E5ECF6\",\"angularaxis\":{\"gridcolor\":\"white\",\"linecolor\":\"white\",\"ticks\":\"\"},\"radialaxis\":{\"gridcolor\":\"white\",\"linecolor\":\"white\",\"ticks\":\"\"}},\"ternary\":{\"bgcolor\":\"#E5ECF6\",\"aaxis\":{\"gridcolor\":\"white\",\"linecolor\":\"white\",\"ticks\":\"\"},\"baxis\":{\"gridcolor\":\"white\",\"linecolor\":\"white\",\"ticks\":\"\"},\"caxis\":{\"gridcolor\":\"white\",\"linecolor\":\"white\",\"ticks\":\"\"}},\"coloraxis\":{\"colorbar\":{\"outlinewidth\":0,\"ticks\":\"\"}},\"colorscale\":{\"sequential\":[[0.0,\"#0d0887\"],[0.1111111111111111,\"#46039f\"],[0.2222222222222222,\"#7201a8\"],[0.3333333333333333,\"#9c179e\"],[0.4444444444444444,\"#bd3786\"],[0.5555555555555556,\"#d8576b\"],[0.6666666666666666,\"#ed7953\"],[0.7777777777777778,\"#fb9f3a\"],[0.8888888888888888,\"#fdca26\"],[1.0,\"#f0f921\"]],\"sequentialminus\":[[0.0,\"#0d0887\"],[0.1111111111111111,\"#46039f\"],[0.2222222222222222,\"#7201a8\"],[0.3333333333333333,\"#9c179e\"],[0.4444444444444444,\"#bd3786\"],[0.5555555555555556,\"#d8576b\"],[0.6666666666666666,\"#ed7953\"],[0.7777777777777778,\"#fb9f3a\"],[0.8888888888888888,\"#fdca26\"],[1.0,\"#f0f921\"]],\"diverging\":[[0,\"#8e0152\"],[0.1,\"#c51b7d\"],[0.2,\"#de77ae\"],[0.3,\"#f1b6da\"],[0.4,\"#fde0ef\"],[0.5,\"#f7f7f7\"],[0.6,\"#e6f5d0\"],[0.7,\"#b8e186\"],[0.8,\"#7fbc41\"],[0.9,\"#4d9221\"],[1,\"#276419\"]]},\"xaxis\":{\"gridcolor\":\"white\",\"linecolor\":\"white\",\"ticks\":\"\",\"title\":{\"standoff\":15},\"zerolinecolor\":\"white\",\"automargin\":true,\"zerolinewidth\":2},\"yaxis\":{\"gridcolor\":\"white\",\"linecolor\":\"white\",\"ticks\":\"\",\"title\":{\"standoff\":15},\"zerolinecolor\":\"white\",\"automargin\":true,\"zerolinewidth\":2},\"scene\":{\"xaxis\":{\"backgroundcolor\":\"#E5ECF6\",\"gridcolor\":\"white\",\"linecolor\":\"white\",\"showbackground\":true,\"ticks\":\"\",\"zerolinecolor\":\"white\",\"gridwidth\":2},\"yaxis\":{\"backgroundcolor\":\"#E5ECF6\",\"gridcolor\":\"white\",\"linecolor\":\"white\",\"showbackground\":true,\"ticks\":\"\",\"zerolinecolor\":\"white\",\"gridwidth\":2},\"zaxis\":{\"backgroundcolor\":\"#E5ECF6\",\"gridcolor\":\"white\",\"linecolor\":\"white\",\"showbackground\":true,\"ticks\":\"\",\"zerolinecolor\":\"white\",\"gridwidth\":2}},\"shapedefaults\":{\"line\":{\"color\":\"#2a3f5f\"}},\"annotationdefaults\":{\"arrowcolor\":\"#2a3f5f\",\"arrowhead\":0,\"arrowwidth\":1},\"geo\":{\"bgcolor\":\"white\",\"landcolor\":\"#E5ECF6\",\"subunitcolor\":\"white\",\"showland\":true,\"showlakes\":true,\"lakecolor\":\"white\"},\"title\":{\"x\":0.05},\"mapbox\":{\"style\":\"light\"}}},\"xaxis\":{\"anchor\":\"y\",\"domain\":[0.0,1.0],\"title\":{\"text\":\"Checkpoint\"}},\"yaxis\":{\"anchor\":\"x\",\"domain\":[0.0,1.0],\"title\":{\"text\":\"Change as % of original logit diff\"}},\"legend\":{\"tracegroupgap\":0},\"title\":{\"text\":\"Summed Post-NMH-Ablation Outside-Circuit Head Attribution Change (pythia-160m-hiddendropout)\"}},                        {\"responsive\": true}                    ).then(function(){\n",
       "                            \n",
       "var gd = document.getElementById('2a3b662f-aabb-4223-a8d6-3755fc11866a');\n",
       "var x = new MutationObserver(function (mutations, observer) {{\n",
       "        var display = window.getComputedStyle(gd).display;\n",
       "        if (!display || display === 'none') {{\n",
       "            console.log([gd, 'removed!']);\n",
       "            Plotly.purge(gd);\n",
       "            observer.disconnect();\n",
       "        }}\n",
       "}});\n",
       "\n",
       "// Listen for the removal of the full notebook cells\n",
       "var notebookContainer = gd.closest('#notebook-container');\n",
       "if (notebookContainer) {{\n",
       "    x.observe(notebookContainer, {childList: true});\n",
       "}}\n",
       "\n",
       "// Listen for the clearing of the current output cell\n",
       "var outputEl = gd.closest('.output');\n",
       "if (outputEl) {{\n",
       "    x.observe(outputEl, {childList: true});\n",
       "}}\n",
       "\n",
       "                        })                };                });            </script>        </div>"
      ]
     },
     "metadata": {},
     "output_type": "display_data"
    }
   ],
   "source": [
    "# plot summed_outside_circuit_head_deltas\n",
    "fig = px.line(\n",
    "    x=list(summed_outside_circuit_head_deltas.keys()), \n",
    "    y=list(summed_outside_circuit_head_deltas.values()), \n",
    "    title=f\"Summed Post-NMH-Ablation Outside-Circuit Head Attribution Change ({MODEL_TO_VIEW})\",\n",
    "    labels={'x': 'Checkpoint', 'y': 'Change as % of original logit diff'} \n",
    ")\n",
    "fig.show()"
   ]
  },
  {
   "cell_type": "code",
   "execution_count": 31,
   "metadata": {},
   "outputs": [
    {
     "data": {
      "application/vnd.plotly.v1+json": {
       "config": {
        "plotlyServerURL": "https://plot.ly"
       },
       "data": [
        {
         "hovertemplate": "Checkpoint=%{x}<br>Change as % of original logit diff=%{y}<extra></extra>",
         "legendgroup": "",
         "line": {
          "color": "#636efa",
          "dash": "solid"
         },
         "marker": {
          "symbol": "circle"
         },
         "mode": "lines",
         "name": "",
         "orientation": "v",
         "showlegend": false,
         "type": "scatter",
         "x": [
          4000,
          5000,
          6000,
          7000,
          8000,
          9000,
          10000,
          11000,
          12000,
          13000,
          14000,
          15000,
          16000,
          17000,
          18000,
          19000,
          20000,
          21000,
          22000,
          23000,
          24000,
          25000,
          26000,
          27000,
          28000,
          29000,
          30000,
          31000,
          32000,
          33000,
          34000,
          35000,
          36000,
          37000,
          38000,
          39000,
          40000,
          41000,
          42000,
          43000,
          44000,
          45000,
          46000,
          47000,
          48000,
          49000,
          50000,
          51000,
          52000,
          53000,
          54000,
          55000,
          56000,
          57000,
          58000,
          59000,
          60000,
          61000,
          62000,
          63000,
          64000,
          65000,
          66000,
          67000,
          68000,
          69000,
          70000,
          71000,
          72000,
          73000,
          74000,
          75000,
          76000,
          77000,
          78000,
          79000,
          80000,
          81000,
          82000,
          83000,
          84000,
          85000,
          86000,
          87000,
          88000,
          89000,
          90000,
          91000,
          92000,
          93000,
          94000,
          95000,
          96000,
          97000,
          98000,
          99000,
          100000,
          101000,
          102000,
          103000,
          104000,
          105000,
          106000,
          107000,
          108000,
          109000,
          110000,
          111000,
          112000,
          113000,
          114000,
          115000,
          116000,
          117000,
          118000,
          119000,
          120000,
          121000,
          122000,
          123000,
          124000,
          125000,
          126000,
          127000,
          128000,
          129000,
          130000,
          131000,
          132000,
          133000,
          134000,
          135000,
          136000,
          137000,
          138000,
          139000,
          140000,
          141000,
          142000,
          143000
         ],
         "xaxis": "x",
         "y": [
          -0.39817401265805785,
          -0.0028203267795288674,
          0.04990382981530204,
          0.14876858138131563,
          0.14712886975451905,
          0.14892267446335244,
          0.09593609586499025,
          0.13921763285531452,
          0.14349037322658878,
          0.14103995601363542,
          0.13155471077833925,
          0.11150074311053634,
          0.13103389964447695,
          0.11764144170027259,
          0.10575123460377923,
          0.10812871567569837,
          0.12623004976982266,
          0.12544183952912025,
          0.10931792223848825,
          0.09954993664662548,
          0.11957360418886458,
          0.10337409847664353,
          0.09285517990782227,
          0.11156201981001239,
          0.11044623762858667,
          0.12084797284546851,
          0.11203857726398857,
          0.12065313849441632,
          0.12206887275323737,
          0.10325914512723292,
          0.1280403951852945,
          0.12331621121312895,
          0.12720484120691086,
          0.13970108852804655,
          0.12095402359569672,
          0.13799868351481576,
          0.12806038357084884,
          0.1367632802393768,
          0.10743722807824888,
          0.12027323762752531,
          0.1347239101781172,
          0.11554988747783886,
          0.11719460097535692,
          0.10960064183261761,
          0.13292889997345975,
          0.1067608187551181,
          0.11853063708042658,
          0.12402088036842301,
          0.11601682864647943,
          0.11002508231177123,
          0.12306254257098687,
          0.12018601341250044,
          0.11513869748965999,
          0.1015630544936114,
          0.1040612939256398,
          0.11716576450269212,
          0.1097414576481148,
          0.10568054441307759,
          0.09804366503182627,
          0.10199532851470391,
          0.10486223094602418,
          0.10474399652754088,
          0.09181955789656644,
          0.09139726737088476,
          0.08784029838798686,
          0.08717242466652844,
          0.07918953670932041,
          0.08629928487522924,
          0.09417898594542416,
          0.054496595537656345,
          0.0494985108661281,
          0.047033692045060436,
          0.043563762218553376,
          0.05118481353327216,
          0.045741434240057416,
          0.04074037283765584,
          0.031972390540540685,
          0.026801171274961597,
          0.02081739787719497,
          0.025878582513729265,
          0.026115723392547356,
          0.021442885216485647,
          0.025472137054326174,
          0.027203425434242656,
          0.027826453499740892,
          0.022021594461709242,
          0.02399917616766837,
          0.02643530355565161,
          0.030517922109433007,
          0.02105301221012311,
          0.031166631256344536,
          0.03002617999080138,
          0.030251362796408155,
          0.02722888361675236,
          0.028568333201888074,
          0.022713192384067226,
          0.018619201600163428,
          0.03032940275244927,
          0.021298108051428826,
          0.021562638420503596,
          0.027557279881216003,
          0.026940797605224182,
          0.030808856109133698,
          0.025270415209455777,
          0.022539534847193284,
          0.02874750163862768,
          0.020737438196004255,
          0.026537747007948427,
          0.027261393723357775,
          0.02391482991488681,
          0.020351785594165537,
          0.019476108030017345,
          0.022277042508050286,
          0.02279780073161062,
          0.02210521954598774,
          0.01945463123189758,
          0.02608714567612261,
          0.02474680254072441,
          0.029215888912964564,
          0.01800647083443475,
          0.017912857839432642,
          0.021045418523925826,
          0.01926875571182357,
          0.02217197334983664,
          0.028573133202015114,
          0.024266191685963442,
          0.02713360656282335,
          0.022648829337214578,
          0.02675259633633922,
          0.025078153689471912,
          0.02950179017837842,
          0.017004140213856187,
          0.027244580425220665,
          0.019183837387605512,
          0.020733061637504054,
          0.025403731829858597,
          0.022907282530111428,
          0.023946009509946707,
          0.015957606647423697,
          0.024423578098043554
         ],
         "yaxis": "y"
        }
       ],
       "layout": {
        "legend": {
         "tracegroupgap": 0
        },
        "template": {
         "data": {
          "bar": [
           {
            "error_x": {
             "color": "#2a3f5f"
            },
            "error_y": {
             "color": "#2a3f5f"
            },
            "marker": {
             "line": {
              "color": "#E5ECF6",
              "width": 0.5
             },
             "pattern": {
              "fillmode": "overlay",
              "size": 10,
              "solidity": 0.2
             }
            },
            "type": "bar"
           }
          ],
          "barpolar": [
           {
            "marker": {
             "line": {
              "color": "#E5ECF6",
              "width": 0.5
             },
             "pattern": {
              "fillmode": "overlay",
              "size": 10,
              "solidity": 0.2
             }
            },
            "type": "barpolar"
           }
          ],
          "carpet": [
           {
            "aaxis": {
             "endlinecolor": "#2a3f5f",
             "gridcolor": "white",
             "linecolor": "white",
             "minorgridcolor": "white",
             "startlinecolor": "#2a3f5f"
            },
            "baxis": {
             "endlinecolor": "#2a3f5f",
             "gridcolor": "white",
             "linecolor": "white",
             "minorgridcolor": "white",
             "startlinecolor": "#2a3f5f"
            },
            "type": "carpet"
           }
          ],
          "choropleth": [
           {
            "colorbar": {
             "outlinewidth": 0,
             "ticks": ""
            },
            "type": "choropleth"
           }
          ],
          "contour": [
           {
            "colorbar": {
             "outlinewidth": 0,
             "ticks": ""
            },
            "colorscale": [
             [
              0,
              "#0d0887"
             ],
             [
              0.1111111111111111,
              "#46039f"
             ],
             [
              0.2222222222222222,
              "#7201a8"
             ],
             [
              0.3333333333333333,
              "#9c179e"
             ],
             [
              0.4444444444444444,
              "#bd3786"
             ],
             [
              0.5555555555555556,
              "#d8576b"
             ],
             [
              0.6666666666666666,
              "#ed7953"
             ],
             [
              0.7777777777777778,
              "#fb9f3a"
             ],
             [
              0.8888888888888888,
              "#fdca26"
             ],
             [
              1,
              "#f0f921"
             ]
            ],
            "type": "contour"
           }
          ],
          "contourcarpet": [
           {
            "colorbar": {
             "outlinewidth": 0,
             "ticks": ""
            },
            "type": "contourcarpet"
           }
          ],
          "heatmap": [
           {
            "colorbar": {
             "outlinewidth": 0,
             "ticks": ""
            },
            "colorscale": [
             [
              0,
              "#0d0887"
             ],
             [
              0.1111111111111111,
              "#46039f"
             ],
             [
              0.2222222222222222,
              "#7201a8"
             ],
             [
              0.3333333333333333,
              "#9c179e"
             ],
             [
              0.4444444444444444,
              "#bd3786"
             ],
             [
              0.5555555555555556,
              "#d8576b"
             ],
             [
              0.6666666666666666,
              "#ed7953"
             ],
             [
              0.7777777777777778,
              "#fb9f3a"
             ],
             [
              0.8888888888888888,
              "#fdca26"
             ],
             [
              1,
              "#f0f921"
             ]
            ],
            "type": "heatmap"
           }
          ],
          "heatmapgl": [
           {
            "colorbar": {
             "outlinewidth": 0,
             "ticks": ""
            },
            "colorscale": [
             [
              0,
              "#0d0887"
             ],
             [
              0.1111111111111111,
              "#46039f"
             ],
             [
              0.2222222222222222,
              "#7201a8"
             ],
             [
              0.3333333333333333,
              "#9c179e"
             ],
             [
              0.4444444444444444,
              "#bd3786"
             ],
             [
              0.5555555555555556,
              "#d8576b"
             ],
             [
              0.6666666666666666,
              "#ed7953"
             ],
             [
              0.7777777777777778,
              "#fb9f3a"
             ],
             [
              0.8888888888888888,
              "#fdca26"
             ],
             [
              1,
              "#f0f921"
             ]
            ],
            "type": "heatmapgl"
           }
          ],
          "histogram": [
           {
            "marker": {
             "pattern": {
              "fillmode": "overlay",
              "size": 10,
              "solidity": 0.2
             }
            },
            "type": "histogram"
           }
          ],
          "histogram2d": [
           {
            "colorbar": {
             "outlinewidth": 0,
             "ticks": ""
            },
            "colorscale": [
             [
              0,
              "#0d0887"
             ],
             [
              0.1111111111111111,
              "#46039f"
             ],
             [
              0.2222222222222222,
              "#7201a8"
             ],
             [
              0.3333333333333333,
              "#9c179e"
             ],
             [
              0.4444444444444444,
              "#bd3786"
             ],
             [
              0.5555555555555556,
              "#d8576b"
             ],
             [
              0.6666666666666666,
              "#ed7953"
             ],
             [
              0.7777777777777778,
              "#fb9f3a"
             ],
             [
              0.8888888888888888,
              "#fdca26"
             ],
             [
              1,
              "#f0f921"
             ]
            ],
            "type": "histogram2d"
           }
          ],
          "histogram2dcontour": [
           {
            "colorbar": {
             "outlinewidth": 0,
             "ticks": ""
            },
            "colorscale": [
             [
              0,
              "#0d0887"
             ],
             [
              0.1111111111111111,
              "#46039f"
             ],
             [
              0.2222222222222222,
              "#7201a8"
             ],
             [
              0.3333333333333333,
              "#9c179e"
             ],
             [
              0.4444444444444444,
              "#bd3786"
             ],
             [
              0.5555555555555556,
              "#d8576b"
             ],
             [
              0.6666666666666666,
              "#ed7953"
             ],
             [
              0.7777777777777778,
              "#fb9f3a"
             ],
             [
              0.8888888888888888,
              "#fdca26"
             ],
             [
              1,
              "#f0f921"
             ]
            ],
            "type": "histogram2dcontour"
           }
          ],
          "mesh3d": [
           {
            "colorbar": {
             "outlinewidth": 0,
             "ticks": ""
            },
            "type": "mesh3d"
           }
          ],
          "parcoords": [
           {
            "line": {
             "colorbar": {
              "outlinewidth": 0,
              "ticks": ""
             }
            },
            "type": "parcoords"
           }
          ],
          "pie": [
           {
            "automargin": true,
            "type": "pie"
           }
          ],
          "scatter": [
           {
            "fillpattern": {
             "fillmode": "overlay",
             "size": 10,
             "solidity": 0.2
            },
            "type": "scatter"
           }
          ],
          "scatter3d": [
           {
            "line": {
             "colorbar": {
              "outlinewidth": 0,
              "ticks": ""
             }
            },
            "marker": {
             "colorbar": {
              "outlinewidth": 0,
              "ticks": ""
             }
            },
            "type": "scatter3d"
           }
          ],
          "scattercarpet": [
           {
            "marker": {
             "colorbar": {
              "outlinewidth": 0,
              "ticks": ""
             }
            },
            "type": "scattercarpet"
           }
          ],
          "scattergeo": [
           {
            "marker": {
             "colorbar": {
              "outlinewidth": 0,
              "ticks": ""
             }
            },
            "type": "scattergeo"
           }
          ],
          "scattergl": [
           {
            "marker": {
             "colorbar": {
              "outlinewidth": 0,
              "ticks": ""
             }
            },
            "type": "scattergl"
           }
          ],
          "scattermapbox": [
           {
            "marker": {
             "colorbar": {
              "outlinewidth": 0,
              "ticks": ""
             }
            },
            "type": "scattermapbox"
           }
          ],
          "scatterpolar": [
           {
            "marker": {
             "colorbar": {
              "outlinewidth": 0,
              "ticks": ""
             }
            },
            "type": "scatterpolar"
           }
          ],
          "scatterpolargl": [
           {
            "marker": {
             "colorbar": {
              "outlinewidth": 0,
              "ticks": ""
             }
            },
            "type": "scatterpolargl"
           }
          ],
          "scatterternary": [
           {
            "marker": {
             "colorbar": {
              "outlinewidth": 0,
              "ticks": ""
             }
            },
            "type": "scatterternary"
           }
          ],
          "surface": [
           {
            "colorbar": {
             "outlinewidth": 0,
             "ticks": ""
            },
            "colorscale": [
             [
              0,
              "#0d0887"
             ],
             [
              0.1111111111111111,
              "#46039f"
             ],
             [
              0.2222222222222222,
              "#7201a8"
             ],
             [
              0.3333333333333333,
              "#9c179e"
             ],
             [
              0.4444444444444444,
              "#bd3786"
             ],
             [
              0.5555555555555556,
              "#d8576b"
             ],
             [
              0.6666666666666666,
              "#ed7953"
             ],
             [
              0.7777777777777778,
              "#fb9f3a"
             ],
             [
              0.8888888888888888,
              "#fdca26"
             ],
             [
              1,
              "#f0f921"
             ]
            ],
            "type": "surface"
           }
          ],
          "table": [
           {
            "cells": {
             "fill": {
              "color": "#EBF0F8"
             },
             "line": {
              "color": "white"
             }
            },
            "header": {
             "fill": {
              "color": "#C8D4E3"
             },
             "line": {
              "color": "white"
             }
            },
            "type": "table"
           }
          ]
         },
         "layout": {
          "annotationdefaults": {
           "arrowcolor": "#2a3f5f",
           "arrowhead": 0,
           "arrowwidth": 1
          },
          "autotypenumbers": "strict",
          "coloraxis": {
           "colorbar": {
            "outlinewidth": 0,
            "ticks": ""
           }
          },
          "colorscale": {
           "diverging": [
            [
             0,
             "#8e0152"
            ],
            [
             0.1,
             "#c51b7d"
            ],
            [
             0.2,
             "#de77ae"
            ],
            [
             0.3,
             "#f1b6da"
            ],
            [
             0.4,
             "#fde0ef"
            ],
            [
             0.5,
             "#f7f7f7"
            ],
            [
             0.6,
             "#e6f5d0"
            ],
            [
             0.7,
             "#b8e186"
            ],
            [
             0.8,
             "#7fbc41"
            ],
            [
             0.9,
             "#4d9221"
            ],
            [
             1,
             "#276419"
            ]
           ],
           "sequential": [
            [
             0,
             "#0d0887"
            ],
            [
             0.1111111111111111,
             "#46039f"
            ],
            [
             0.2222222222222222,
             "#7201a8"
            ],
            [
             0.3333333333333333,
             "#9c179e"
            ],
            [
             0.4444444444444444,
             "#bd3786"
            ],
            [
             0.5555555555555556,
             "#d8576b"
            ],
            [
             0.6666666666666666,
             "#ed7953"
            ],
            [
             0.7777777777777778,
             "#fb9f3a"
            ],
            [
             0.8888888888888888,
             "#fdca26"
            ],
            [
             1,
             "#f0f921"
            ]
           ],
           "sequentialminus": [
            [
             0,
             "#0d0887"
            ],
            [
             0.1111111111111111,
             "#46039f"
            ],
            [
             0.2222222222222222,
             "#7201a8"
            ],
            [
             0.3333333333333333,
             "#9c179e"
            ],
            [
             0.4444444444444444,
             "#bd3786"
            ],
            [
             0.5555555555555556,
             "#d8576b"
            ],
            [
             0.6666666666666666,
             "#ed7953"
            ],
            [
             0.7777777777777778,
             "#fb9f3a"
            ],
            [
             0.8888888888888888,
             "#fdca26"
            ],
            [
             1,
             "#f0f921"
            ]
           ]
          },
          "colorway": [
           "#636efa",
           "#EF553B",
           "#00cc96",
           "#ab63fa",
           "#FFA15A",
           "#19d3f3",
           "#FF6692",
           "#B6E880",
           "#FF97FF",
           "#FECB52"
          ],
          "font": {
           "color": "#2a3f5f"
          },
          "geo": {
           "bgcolor": "white",
           "lakecolor": "white",
           "landcolor": "#E5ECF6",
           "showlakes": true,
           "showland": true,
           "subunitcolor": "white"
          },
          "hoverlabel": {
           "align": "left"
          },
          "hovermode": "closest",
          "mapbox": {
           "style": "light"
          },
          "paper_bgcolor": "white",
          "plot_bgcolor": "#E5ECF6",
          "polar": {
           "angularaxis": {
            "gridcolor": "white",
            "linecolor": "white",
            "ticks": ""
           },
           "bgcolor": "#E5ECF6",
           "radialaxis": {
            "gridcolor": "white",
            "linecolor": "white",
            "ticks": ""
           }
          },
          "scene": {
           "xaxis": {
            "backgroundcolor": "#E5ECF6",
            "gridcolor": "white",
            "gridwidth": 2,
            "linecolor": "white",
            "showbackground": true,
            "ticks": "",
            "zerolinecolor": "white"
           },
           "yaxis": {
            "backgroundcolor": "#E5ECF6",
            "gridcolor": "white",
            "gridwidth": 2,
            "linecolor": "white",
            "showbackground": true,
            "ticks": "",
            "zerolinecolor": "white"
           },
           "zaxis": {
            "backgroundcolor": "#E5ECF6",
            "gridcolor": "white",
            "gridwidth": 2,
            "linecolor": "white",
            "showbackground": true,
            "ticks": "",
            "zerolinecolor": "white"
           }
          },
          "shapedefaults": {
           "line": {
            "color": "#2a3f5f"
           }
          },
          "ternary": {
           "aaxis": {
            "gridcolor": "white",
            "linecolor": "white",
            "ticks": ""
           },
           "baxis": {
            "gridcolor": "white",
            "linecolor": "white",
            "ticks": ""
           },
           "bgcolor": "#E5ECF6",
           "caxis": {
            "gridcolor": "white",
            "linecolor": "white",
            "ticks": ""
           }
          },
          "title": {
           "x": 0.05
          },
          "xaxis": {
           "automargin": true,
           "gridcolor": "white",
           "linecolor": "white",
           "ticks": "",
           "title": {
            "standoff": 15
           },
           "zerolinecolor": "white",
           "zerolinewidth": 2
          },
          "yaxis": {
           "automargin": true,
           "gridcolor": "white",
           "linecolor": "white",
           "ticks": "",
           "title": {
            "standoff": 15
           },
           "zerolinecolor": "white",
           "zerolinewidth": 2
          }
         }
        },
        "title": {
         "text": "Summed Total Post-NMH-Ablation Head Attribution Change (pythia-160m-hiddendropout)"
        },
        "xaxis": {
         "anchor": "y",
         "domain": [
          0,
          1
         ],
         "title": {
          "text": "Checkpoint"
         }
        },
        "yaxis": {
         "anchor": "x",
         "domain": [
          0,
          1
         ],
         "title": {
          "text": "Change as % of original logit diff"
         }
        }
       }
      },
      "text/html": [
       "<div>                            <div id=\"3cef579f-b0d5-490e-9a74-5a1de908190c\" class=\"plotly-graph-div\" style=\"height:525px; width:100%;\"></div>            <script type=\"text/javascript\">                require([\"plotly\"], function(Plotly) {                    window.PLOTLYENV=window.PLOTLYENV || {};                                    if (document.getElementById(\"3cef579f-b0d5-490e-9a74-5a1de908190c\")) {                    Plotly.newPlot(                        \"3cef579f-b0d5-490e-9a74-5a1de908190c\",                        [{\"hovertemplate\":\"Checkpoint=%{x}\\u003cbr\\u003eChange as % of original logit diff=%{y}\\u003cextra\\u003e\\u003c\\u002fextra\\u003e\",\"legendgroup\":\"\",\"line\":{\"color\":\"#636efa\",\"dash\":\"solid\"},\"marker\":{\"symbol\":\"circle\"},\"mode\":\"lines\",\"name\":\"\",\"orientation\":\"v\",\"showlegend\":false,\"x\":[4000,5000,6000,7000,8000,9000,10000,11000,12000,13000,14000,15000,16000,17000,18000,19000,20000,21000,22000,23000,24000,25000,26000,27000,28000,29000,30000,31000,32000,33000,34000,35000,36000,37000,38000,39000,40000,41000,42000,43000,44000,45000,46000,47000,48000,49000,50000,51000,52000,53000,54000,55000,56000,57000,58000,59000,60000,61000,62000,63000,64000,65000,66000,67000,68000,69000,70000,71000,72000,73000,74000,75000,76000,77000,78000,79000,80000,81000,82000,83000,84000,85000,86000,87000,88000,89000,90000,91000,92000,93000,94000,95000,96000,97000,98000,99000,100000,101000,102000,103000,104000,105000,106000,107000,108000,109000,110000,111000,112000,113000,114000,115000,116000,117000,118000,119000,120000,121000,122000,123000,124000,125000,126000,127000,128000,129000,130000,131000,132000,133000,134000,135000,136000,137000,138000,139000,140000,141000,142000,143000],\"xaxis\":\"x\",\"y\":[-0.39817401265805785,-0.0028203267795288674,0.04990382981530204,0.14876858138131563,0.14712886975451905,0.14892267446335244,0.09593609586499025,0.13921763285531452,0.14349037322658878,0.14103995601363542,0.13155471077833925,0.11150074311053634,0.13103389964447695,0.11764144170027259,0.10575123460377923,0.10812871567569837,0.12623004976982266,0.12544183952912025,0.10931792223848825,0.09954993664662548,0.11957360418886458,0.10337409847664353,0.09285517990782227,0.11156201981001239,0.11044623762858667,0.12084797284546851,0.11203857726398857,0.12065313849441632,0.12206887275323737,0.10325914512723292,0.1280403951852945,0.12331621121312895,0.12720484120691086,0.13970108852804655,0.12095402359569672,0.13799868351481576,0.12806038357084884,0.1367632802393768,0.10743722807824888,0.12027323762752531,0.1347239101781172,0.11554988747783886,0.11719460097535692,0.10960064183261761,0.13292889997345975,0.1067608187551181,0.11853063708042658,0.12402088036842301,0.11601682864647943,0.11002508231177123,0.12306254257098687,0.12018601341250044,0.11513869748965999,0.1015630544936114,0.1040612939256398,0.11716576450269212,0.1097414576481148,0.10568054441307759,0.09804366503182627,0.10199532851470391,0.10486223094602418,0.10474399652754088,0.09181955789656644,0.09139726737088476,0.08784029838798686,0.08717242466652844,0.07918953670932041,0.08629928487522924,0.09417898594542416,0.054496595537656345,0.0494985108661281,0.047033692045060436,0.043563762218553376,0.05118481353327216,0.045741434240057416,0.04074037283765584,0.031972390540540685,0.026801171274961597,0.02081739787719497,0.025878582513729265,0.026115723392547356,0.021442885216485647,0.025472137054326174,0.027203425434242656,0.027826453499740892,0.022021594461709242,0.02399917616766837,0.02643530355565161,0.030517922109433007,0.02105301221012311,0.031166631256344536,0.03002617999080138,0.030251362796408155,0.02722888361675236,0.028568333201888074,0.022713192384067226,0.018619201600163428,0.03032940275244927,0.021298108051428826,0.021562638420503596,0.027557279881216003,0.026940797605224182,0.030808856109133698,0.025270415209455777,0.022539534847193284,0.02874750163862768,0.020737438196004255,0.026537747007948427,0.027261393723357775,0.02391482991488681,0.020351785594165537,0.019476108030017345,0.022277042508050286,0.02279780073161062,0.02210521954598774,0.01945463123189758,0.02608714567612261,0.02474680254072441,0.029215888912964564,0.01800647083443475,0.017912857839432642,0.021045418523925826,0.01926875571182357,0.02217197334983664,0.028573133202015114,0.024266191685963442,0.02713360656282335,0.022648829337214578,0.02675259633633922,0.025078153689471912,0.02950179017837842,0.017004140213856187,0.027244580425220665,0.019183837387605512,0.020733061637504054,0.025403731829858597,0.022907282530111428,0.023946009509946707,0.015957606647423697,0.024423578098043554],\"yaxis\":\"y\",\"type\":\"scatter\"}],                        {\"template\":{\"data\":{\"histogram2dcontour\":[{\"type\":\"histogram2dcontour\",\"colorbar\":{\"outlinewidth\":0,\"ticks\":\"\"},\"colorscale\":[[0.0,\"#0d0887\"],[0.1111111111111111,\"#46039f\"],[0.2222222222222222,\"#7201a8\"],[0.3333333333333333,\"#9c179e\"],[0.4444444444444444,\"#bd3786\"],[0.5555555555555556,\"#d8576b\"],[0.6666666666666666,\"#ed7953\"],[0.7777777777777778,\"#fb9f3a\"],[0.8888888888888888,\"#fdca26\"],[1.0,\"#f0f921\"]]}],\"choropleth\":[{\"type\":\"choropleth\",\"colorbar\":{\"outlinewidth\":0,\"ticks\":\"\"}}],\"histogram2d\":[{\"type\":\"histogram2d\",\"colorbar\":{\"outlinewidth\":0,\"ticks\":\"\"},\"colorscale\":[[0.0,\"#0d0887\"],[0.1111111111111111,\"#46039f\"],[0.2222222222222222,\"#7201a8\"],[0.3333333333333333,\"#9c179e\"],[0.4444444444444444,\"#bd3786\"],[0.5555555555555556,\"#d8576b\"],[0.6666666666666666,\"#ed7953\"],[0.7777777777777778,\"#fb9f3a\"],[0.8888888888888888,\"#fdca26\"],[1.0,\"#f0f921\"]]}],\"heatmap\":[{\"type\":\"heatmap\",\"colorbar\":{\"outlinewidth\":0,\"ticks\":\"\"},\"colorscale\":[[0.0,\"#0d0887\"],[0.1111111111111111,\"#46039f\"],[0.2222222222222222,\"#7201a8\"],[0.3333333333333333,\"#9c179e\"],[0.4444444444444444,\"#bd3786\"],[0.5555555555555556,\"#d8576b\"],[0.6666666666666666,\"#ed7953\"],[0.7777777777777778,\"#fb9f3a\"],[0.8888888888888888,\"#fdca26\"],[1.0,\"#f0f921\"]]}],\"heatmapgl\":[{\"type\":\"heatmapgl\",\"colorbar\":{\"outlinewidth\":0,\"ticks\":\"\"},\"colorscale\":[[0.0,\"#0d0887\"],[0.1111111111111111,\"#46039f\"],[0.2222222222222222,\"#7201a8\"],[0.3333333333333333,\"#9c179e\"],[0.4444444444444444,\"#bd3786\"],[0.5555555555555556,\"#d8576b\"],[0.6666666666666666,\"#ed7953\"],[0.7777777777777778,\"#fb9f3a\"],[0.8888888888888888,\"#fdca26\"],[1.0,\"#f0f921\"]]}],\"contourcarpet\":[{\"type\":\"contourcarpet\",\"colorbar\":{\"outlinewidth\":0,\"ticks\":\"\"}}],\"contour\":[{\"type\":\"contour\",\"colorbar\":{\"outlinewidth\":0,\"ticks\":\"\"},\"colorscale\":[[0.0,\"#0d0887\"],[0.1111111111111111,\"#46039f\"],[0.2222222222222222,\"#7201a8\"],[0.3333333333333333,\"#9c179e\"],[0.4444444444444444,\"#bd3786\"],[0.5555555555555556,\"#d8576b\"],[0.6666666666666666,\"#ed7953\"],[0.7777777777777778,\"#fb9f3a\"],[0.8888888888888888,\"#fdca26\"],[1.0,\"#f0f921\"]]}],\"surface\":[{\"type\":\"surface\",\"colorbar\":{\"outlinewidth\":0,\"ticks\":\"\"},\"colorscale\":[[0.0,\"#0d0887\"],[0.1111111111111111,\"#46039f\"],[0.2222222222222222,\"#7201a8\"],[0.3333333333333333,\"#9c179e\"],[0.4444444444444444,\"#bd3786\"],[0.5555555555555556,\"#d8576b\"],[0.6666666666666666,\"#ed7953\"],[0.7777777777777778,\"#fb9f3a\"],[0.8888888888888888,\"#fdca26\"],[1.0,\"#f0f921\"]]}],\"mesh3d\":[{\"type\":\"mesh3d\",\"colorbar\":{\"outlinewidth\":0,\"ticks\":\"\"}}],\"scatter\":[{\"fillpattern\":{\"fillmode\":\"overlay\",\"size\":10,\"solidity\":0.2},\"type\":\"scatter\"}],\"parcoords\":[{\"type\":\"parcoords\",\"line\":{\"colorbar\":{\"outlinewidth\":0,\"ticks\":\"\"}}}],\"scatterpolargl\":[{\"type\":\"scatterpolargl\",\"marker\":{\"colorbar\":{\"outlinewidth\":0,\"ticks\":\"\"}}}],\"bar\":[{\"error_x\":{\"color\":\"#2a3f5f\"},\"error_y\":{\"color\":\"#2a3f5f\"},\"marker\":{\"line\":{\"color\":\"#E5ECF6\",\"width\":0.5},\"pattern\":{\"fillmode\":\"overlay\",\"size\":10,\"solidity\":0.2}},\"type\":\"bar\"}],\"scattergeo\":[{\"type\":\"scattergeo\",\"marker\":{\"colorbar\":{\"outlinewidth\":0,\"ticks\":\"\"}}}],\"scatterpolar\":[{\"type\":\"scatterpolar\",\"marker\":{\"colorbar\":{\"outlinewidth\":0,\"ticks\":\"\"}}}],\"histogram\":[{\"marker\":{\"pattern\":{\"fillmode\":\"overlay\",\"size\":10,\"solidity\":0.2}},\"type\":\"histogram\"}],\"scattergl\":[{\"type\":\"scattergl\",\"marker\":{\"colorbar\":{\"outlinewidth\":0,\"ticks\":\"\"}}}],\"scatter3d\":[{\"type\":\"scatter3d\",\"line\":{\"colorbar\":{\"outlinewidth\":0,\"ticks\":\"\"}},\"marker\":{\"colorbar\":{\"outlinewidth\":0,\"ticks\":\"\"}}}],\"scattermapbox\":[{\"type\":\"scattermapbox\",\"marker\":{\"colorbar\":{\"outlinewidth\":0,\"ticks\":\"\"}}}],\"scatterternary\":[{\"type\":\"scatterternary\",\"marker\":{\"colorbar\":{\"outlinewidth\":0,\"ticks\":\"\"}}}],\"scattercarpet\":[{\"type\":\"scattercarpet\",\"marker\":{\"colorbar\":{\"outlinewidth\":0,\"ticks\":\"\"}}}],\"carpet\":[{\"aaxis\":{\"endlinecolor\":\"#2a3f5f\",\"gridcolor\":\"white\",\"linecolor\":\"white\",\"minorgridcolor\":\"white\",\"startlinecolor\":\"#2a3f5f\"},\"baxis\":{\"endlinecolor\":\"#2a3f5f\",\"gridcolor\":\"white\",\"linecolor\":\"white\",\"minorgridcolor\":\"white\",\"startlinecolor\":\"#2a3f5f\"},\"type\":\"carpet\"}],\"table\":[{\"cells\":{\"fill\":{\"color\":\"#EBF0F8\"},\"line\":{\"color\":\"white\"}},\"header\":{\"fill\":{\"color\":\"#C8D4E3\"},\"line\":{\"color\":\"white\"}},\"type\":\"table\"}],\"barpolar\":[{\"marker\":{\"line\":{\"color\":\"#E5ECF6\",\"width\":0.5},\"pattern\":{\"fillmode\":\"overlay\",\"size\":10,\"solidity\":0.2}},\"type\":\"barpolar\"}],\"pie\":[{\"automargin\":true,\"type\":\"pie\"}]},\"layout\":{\"autotypenumbers\":\"strict\",\"colorway\":[\"#636efa\",\"#EF553B\",\"#00cc96\",\"#ab63fa\",\"#FFA15A\",\"#19d3f3\",\"#FF6692\",\"#B6E880\",\"#FF97FF\",\"#FECB52\"],\"font\":{\"color\":\"#2a3f5f\"},\"hovermode\":\"closest\",\"hoverlabel\":{\"align\":\"left\"},\"paper_bgcolor\":\"white\",\"plot_bgcolor\":\"#E5ECF6\",\"polar\":{\"bgcolor\":\"#E5ECF6\",\"angularaxis\":{\"gridcolor\":\"white\",\"linecolor\":\"white\",\"ticks\":\"\"},\"radialaxis\":{\"gridcolor\":\"white\",\"linecolor\":\"white\",\"ticks\":\"\"}},\"ternary\":{\"bgcolor\":\"#E5ECF6\",\"aaxis\":{\"gridcolor\":\"white\",\"linecolor\":\"white\",\"ticks\":\"\"},\"baxis\":{\"gridcolor\":\"white\",\"linecolor\":\"white\",\"ticks\":\"\"},\"caxis\":{\"gridcolor\":\"white\",\"linecolor\":\"white\",\"ticks\":\"\"}},\"coloraxis\":{\"colorbar\":{\"outlinewidth\":0,\"ticks\":\"\"}},\"colorscale\":{\"sequential\":[[0.0,\"#0d0887\"],[0.1111111111111111,\"#46039f\"],[0.2222222222222222,\"#7201a8\"],[0.3333333333333333,\"#9c179e\"],[0.4444444444444444,\"#bd3786\"],[0.5555555555555556,\"#d8576b\"],[0.6666666666666666,\"#ed7953\"],[0.7777777777777778,\"#fb9f3a\"],[0.8888888888888888,\"#fdca26\"],[1.0,\"#f0f921\"]],\"sequentialminus\":[[0.0,\"#0d0887\"],[0.1111111111111111,\"#46039f\"],[0.2222222222222222,\"#7201a8\"],[0.3333333333333333,\"#9c179e\"],[0.4444444444444444,\"#bd3786\"],[0.5555555555555556,\"#d8576b\"],[0.6666666666666666,\"#ed7953\"],[0.7777777777777778,\"#fb9f3a\"],[0.8888888888888888,\"#fdca26\"],[1.0,\"#f0f921\"]],\"diverging\":[[0,\"#8e0152\"],[0.1,\"#c51b7d\"],[0.2,\"#de77ae\"],[0.3,\"#f1b6da\"],[0.4,\"#fde0ef\"],[0.5,\"#f7f7f7\"],[0.6,\"#e6f5d0\"],[0.7,\"#b8e186\"],[0.8,\"#7fbc41\"],[0.9,\"#4d9221\"],[1,\"#276419\"]]},\"xaxis\":{\"gridcolor\":\"white\",\"linecolor\":\"white\",\"ticks\":\"\",\"title\":{\"standoff\":15},\"zerolinecolor\":\"white\",\"automargin\":true,\"zerolinewidth\":2},\"yaxis\":{\"gridcolor\":\"white\",\"linecolor\":\"white\",\"ticks\":\"\",\"title\":{\"standoff\":15},\"zerolinecolor\":\"white\",\"automargin\":true,\"zerolinewidth\":2},\"scene\":{\"xaxis\":{\"backgroundcolor\":\"#E5ECF6\",\"gridcolor\":\"white\",\"linecolor\":\"white\",\"showbackground\":true,\"ticks\":\"\",\"zerolinecolor\":\"white\",\"gridwidth\":2},\"yaxis\":{\"backgroundcolor\":\"#E5ECF6\",\"gridcolor\":\"white\",\"linecolor\":\"white\",\"showbackground\":true,\"ticks\":\"\",\"zerolinecolor\":\"white\",\"gridwidth\":2},\"zaxis\":{\"backgroundcolor\":\"#E5ECF6\",\"gridcolor\":\"white\",\"linecolor\":\"white\",\"showbackground\":true,\"ticks\":\"\",\"zerolinecolor\":\"white\",\"gridwidth\":2}},\"shapedefaults\":{\"line\":{\"color\":\"#2a3f5f\"}},\"annotationdefaults\":{\"arrowcolor\":\"#2a3f5f\",\"arrowhead\":0,\"arrowwidth\":1},\"geo\":{\"bgcolor\":\"white\",\"landcolor\":\"#E5ECF6\",\"subunitcolor\":\"white\",\"showland\":true,\"showlakes\":true,\"lakecolor\":\"white\"},\"title\":{\"x\":0.05},\"mapbox\":{\"style\":\"light\"}}},\"xaxis\":{\"anchor\":\"y\",\"domain\":[0.0,1.0],\"title\":{\"text\":\"Checkpoint\"}},\"yaxis\":{\"anchor\":\"x\",\"domain\":[0.0,1.0],\"title\":{\"text\":\"Change as % of original logit diff\"}},\"legend\":{\"tracegroupgap\":0},\"title\":{\"text\":\"Summed Total Post-NMH-Ablation Head Attribution Change (pythia-160m-hiddendropout)\"}},                        {\"responsive\": true}                    ).then(function(){\n",
       "                            \n",
       "var gd = document.getElementById('3cef579f-b0d5-490e-9a74-5a1de908190c');\n",
       "var x = new MutationObserver(function (mutations, observer) {{\n",
       "        var display = window.getComputedStyle(gd).display;\n",
       "        if (!display || display === 'none') {{\n",
       "            console.log([gd, 'removed!']);\n",
       "            Plotly.purge(gd);\n",
       "            observer.disconnect();\n",
       "        }}\n",
       "}});\n",
       "\n",
       "// Listen for the removal of the full notebook cells\n",
       "var notebookContainer = gd.closest('#notebook-container');\n",
       "if (notebookContainer) {{\n",
       "    x.observe(notebookContainer, {childList: true});\n",
       "}}\n",
       "\n",
       "// Listen for the clearing of the current output cell\n",
       "var outputEl = gd.closest('.output');\n",
       "if (outputEl) {{\n",
       "    x.observe(outputEl, {childList: true});\n",
       "}}\n",
       "\n",
       "                        })                };                });            </script>        </div>"
      ]
     },
     "metadata": {},
     "output_type": "display_data"
    }
   ],
   "source": [
    "# plot total_head_deltas\n",
    "fig = px.line(\n",
    "    x=list(summed_total_head_deltas.keys()), \n",
    "    y=list(summed_total_head_deltas.values()), \n",
    "    title=f\"Summed Total Post-NMH-Ablation Head Attribution Change ({MODEL_TO_VIEW})\",\n",
    "    labels={'x': 'Checkpoint', 'y': 'Change as % of original logit diff'}\n",
    ")\n",
    "\n",
    "fig.show()"
   ]
  },
  {
   "cell_type": "code",
   "execution_count": 32,
   "metadata": {},
   "outputs": [],
   "source": [
    "cumulative_nmhs, checkpoint_nmhs = get_past_nmhs_for_checkpoints(experiment_metrics)"
   ]
  },
  {
   "cell_type": "code",
   "execution_count": 33,
   "metadata": {},
   "outputs": [
    {
     "data": {
      "application/vnd.plotly.v1+json": {
       "config": {
        "plotlyServerURL": "https://plot.ly"
       },
       "data": [
        {
         "hovertemplate": "Layer-Head=Layer 5-Head 5<br>Checkpoint=%{x}<br>Value=%{y}<extra></extra>",
         "legendgroup": "Layer 5-Head 5",
         "line": {
          "color": "#636efa",
          "dash": "solid"
         },
         "marker": {
          "symbol": "circle"
         },
         "mode": "lines",
         "name": "Layer 5-Head 5",
         "orientation": "v",
         "showlegend": true,
         "type": "scatter",
         "x": [
          4000
         ],
         "xaxis": "x",
         "y": [
          0.005946827586740255
         ],
         "yaxis": "y"
        },
        {
         "hovertemplate": "Layer-Head=Layer 9-Head 9<br>Checkpoint=%{x}<br>Value=%{y}<extra></extra>",
         "legendgroup": "Layer 9-Head 9",
         "line": {
          "color": "#EF553B",
          "dash": "solid"
         },
         "marker": {
          "symbol": "circle"
         },
         "mode": "lines",
         "name": "Layer 9-Head 9",
         "orientation": "v",
         "showlegend": true,
         "type": "scatter",
         "x": [
          5000,
          6000,
          7000,
          8000,
          9000,
          10000,
          11000,
          12000,
          13000,
          14000,
          15000,
          16000,
          17000,
          18000,
          19000,
          20000,
          21000,
          22000,
          23000,
          24000,
          25000,
          26000,
          27000,
          28000,
          29000,
          30000,
          31000,
          32000,
          33000,
          34000,
          35000,
          36000,
          37000,
          38000,
          39000,
          40000,
          41000,
          42000,
          43000,
          44000,
          45000,
          46000,
          47000,
          48000,
          49000,
          50000,
          51000,
          52000,
          53000,
          54000,
          55000,
          56000,
          57000,
          58000,
          59000,
          60000,
          61000,
          62000,
          63000,
          64000,
          65000,
          66000,
          67000,
          68000,
          69000,
          70000,
          71000,
          72000,
          73000,
          74000,
          75000,
          76000,
          77000,
          78000,
          79000,
          80000,
          81000,
          82000,
          83000,
          84000,
          85000,
          86000,
          87000,
          88000,
          89000,
          90000,
          91000,
          92000,
          93000,
          94000,
          95000,
          96000,
          97000
         ],
         "xaxis": "x",
         "y": [
          0.0021921114530414343,
          0.0033301496878266335,
          0.004896008875221014,
          0.006643212866038084,
          0.0070739625953137875,
          0.004615113604813814,
          0.0063184225000441074,
          0.007278257515281439,
          0.004429490305483341,
          0.006198696326464415,
          0.005067969206720591,
          0.004933976102620363,
          0.004354965407401323,
          0.0017482677940279245,
          0.003365372773259878,
          0.004099610727280378,
          0.005768931470811367,
          0.00387192633934319,
          0.002616189420223236,
          0.0035459366627037525,
          0.003143745008856058,
          0.0019357295241206884,
          0.003105754731222987,
          0.0027279488276690245,
          0.0071923802606761456,
          0.0032409948762506247,
          0.005669787060469389,
          0.0036816680803894997,
          0.0031865525525063276,
          0.003979111090302467,
          0.008744766935706139,
          0.008336053229868412,
          0.012110353447496891,
          0.009740440174937248,
          0.009663274511694908,
          0.012142122723162174,
          0.008716638199985027,
          0.008181140758097172,
          0.00795803964138031,
          0.009026565589010715,
          0.008828248828649521,
          0.008451678790152073,
          0.007293220609426498,
          0.009870316833257675,
          0.007291517220437527,
          0.008624843321740627,
          0.010599297471344471,
          0.008403007872402668,
          0.009056313894689083,
          0.009235464036464691,
          0.008416542783379555,
          0.010793718509376049,
          0.007733253762125969,
          0.007664770819246769,
          0.009666572324931622,
          0.0088255126029253,
          0.008340260945260525,
          0.006801338400691748,
          0.008390987291932106,
          0.007603666745126247,
          0.006769448984414339,
          0.008315094746649265,
          0.007859102450311184,
          0.006007528398185968,
          0.006379814352840185,
          0.006291769910603762,
          0.006912712473422289,
          0.0086058359593153,
          0.0052987500093877316,
          0.0065327840857207775,
          0.00683312164619565,
          0.003945857752114534,
          0.006271168123930693,
          0.0051797134801745415,
          0.006185016129165888,
          0.00492804916575551,
          0.0012085303897038102,
          0.002083627274259925,
          0.0015724212862551212,
          0.0017886027926579118,
          0.001135248807258904,
          0.00205377209931612,
          0.0014465254498645663,
          0.0035931402817368507,
          0.0014449185691773891,
          0.0027862198185175657,
          0.0029822024516761303,
          0.005433220881968737,
          0.003557556075975299,
          0.006817691959440708,
          0.008974948897957802,
          0.00858828891068697,
          0.007092515006661415
         ],
         "yaxis": "y"
        },
        {
         "hovertemplate": "Layer-Head=Layer 9-Head 11<br>Checkpoint=%{x}<br>Value=%{y}<extra></extra>",
         "legendgroup": "Layer 9-Head 11",
         "line": {
          "color": "#00cc96",
          "dash": "solid"
         },
         "marker": {
          "symbol": "circle"
         },
         "mode": "lines",
         "name": "Layer 9-Head 11",
         "orientation": "v",
         "showlegend": true,
         "type": "scatter",
         "x": [
          6000,
          7000,
          8000,
          9000,
          10000,
          11000,
          12000,
          13000,
          14000,
          15000,
          16000,
          17000,
          18000,
          19000,
          20000,
          21000,
          22000,
          23000,
          24000,
          25000,
          26000,
          27000,
          28000,
          29000,
          30000,
          31000,
          32000,
          33000,
          34000,
          35000,
          36000,
          37000,
          38000,
          39000,
          40000,
          41000,
          42000,
          43000,
          44000,
          45000,
          46000,
          47000,
          48000,
          49000,
          50000,
          51000,
          52000,
          53000,
          54000,
          55000,
          56000,
          57000,
          58000,
          59000,
          60000,
          61000,
          62000,
          63000,
          64000,
          65000,
          66000,
          67000,
          68000,
          69000,
          70000,
          71000,
          72000,
          73000,
          74000,
          75000,
          76000,
          77000,
          78000,
          79000,
          80000,
          81000,
          82000,
          83000,
          84000,
          85000,
          86000,
          87000,
          88000,
          89000,
          90000,
          91000,
          92000,
          93000,
          94000,
          95000,
          96000,
          97000,
          98000,
          99000,
          100000,
          101000,
          102000,
          103000,
          104000,
          105000,
          106000,
          107000,
          108000,
          109000,
          110000,
          111000,
          112000,
          113000,
          114000,
          115000,
          116000,
          117000,
          119000,
          120000,
          125000,
          126000,
          127000,
          128000,
          130000,
          132000,
          133000,
          137000,
          138000,
          140000,
          142000,
          143000
         ],
         "xaxis": "x",
         "y": [
          0.0029126713052392006,
          0.004971115384250879,
          0.007421291433274746,
          0.008156726136803627,
          0.004880028776824474,
          0.009423351846635342,
          0.007257569115608931,
          0.00488381227478385,
          0.006938620004802942,
          0.00413495022803545,
          0.005882059223949909,
          0.005144965369254351,
          0.0030401479452848434,
          0.004949942696839571,
          0.00517395231872797,
          0.0051779127679765224,
          0.004234492313116789,
          0.003197608282789588,
          0.004121313337236643,
          0.00434175506234169,
          0.0034466979559510946,
          0.004074031952768564,
          0.0043862359598279,
          0.0065673887729644775,
          0.0038899811916053295,
          0.007534830365329981,
          0.003884121309965849,
          0.0033355082850903273,
          0.004272392485290766,
          0.0062998514622449875,
          0.006544520612806082,
          0.007542640436440706,
          0.006683975458145142,
          0.009531918913125992,
          0.009292039088904858,
          0.008186263963580132,
          0.006634954828768969,
          0.006940560415387154,
          0.007790351752191782,
          0.007486701477319002,
          0.00685950368642807,
          0.006202563643455505,
          0.007979116402566433,
          0.0067994012497365475,
          0.006454521790146828,
          0.008161983452737331,
          0.0064681400544941425,
          0.006293033249676228,
          0.007543314713984728,
          0.007149349898099899,
          0.00761215016245842,
          0.006062510889023542,
          0.005263881757855415,
          0.008199074305593967,
          0.006895949132740498,
          0.006451324559748173,
          0.005479228682816029,
          0.006782808341085911,
          0.007193021476268768,
          0.005633647553622723,
          0.0060435147024691105,
          0.00630587711930275,
          0.005885867867618799,
          0.006079849787056446,
          0.0045456429943442345,
          0.005400778725743294,
          0.008095873519778252,
          0.005162439774721861,
          0.006271380931138992,
          0.005793034099042416,
          0.004861304070800543,
          0.006369617767632008,
          0.004521514754742384,
          0.006245242897421122,
          0.004418363329023123,
          0.0016401353059336543,
          0.0020923325791954994,
          0.0021805663127452135,
          0.0022356656845659018,
          0.0025039108004420996,
          0.002439983654767275,
          0.0022781859152019024,
          0.0030774010811001062,
          0.0021595798898488283,
          0.0024403096176683903,
          0.0028384029865264893,
          0.0025362176820635796,
          0.0019634144846349955,
          0.002490149810910225,
          0.002251937286928296,
          0.002058548154309392,
          0.0018667402910068631,
          0.001737212180159986,
          0.0014257089933380485,
          0.0015046937623992562,
          0.0012535987189039588,
          0.0009358137613162398,
          0.0009367809980176389,
          0.0008569753845222294,
          0.0007317941053770483,
          0.0011393921449780464,
          0.0006511295214295387,
          0.00042521365685388446,
          0.0003696887579280883,
          0.000334674958139658,
          0.0003139163018204272,
          0.0003625833196565509,
          0.00018650932179298252,
          0.00032332359114661813,
          0.0002023682027356699,
          0.0003119886969216168,
          0.00018151482800021768,
          0.0002714754082262516,
          0.00019383242761250585,
          0.0002661547332536429,
          0.000186113131348975,
          0.00018046211334876716,
          0.0002451187465339899,
          0.00037996083847247064,
          0.00013769195356871933,
          0.00009750062599778175,
          0.0001586947764735669,
          0.00020304573990870267,
          0.00011869119043694809,
          0.00019151699962094426,
          0.00009422371658729389
         ],
         "yaxis": "y"
        },
        {
         "hovertemplate": "Layer-Head=Layer 10-Head 0<br>Checkpoint=%{x}<br>Value=%{y}<extra></extra>",
         "legendgroup": "Layer 10-Head 0",
         "line": {
          "color": "#ab63fa",
          "dash": "solid"
         },
         "marker": {
          "symbol": "circle"
         },
         "mode": "lines",
         "name": "Layer 10-Head 0",
         "orientation": "v",
         "showlegend": true,
         "type": "scatter",
         "x": [
          6000,
          7000,
          8000,
          9000,
          10000,
          11000,
          12000,
          13000,
          14000,
          15000,
          16000,
          17000,
          18000,
          19000,
          20000,
          21000,
          22000,
          23000,
          24000,
          25000,
          26000,
          27000,
          28000,
          29000,
          30000,
          31000,
          32000,
          33000,
          34000,
          35000,
          36000,
          37000,
          38000,
          39000,
          40000,
          41000,
          42000,
          43000,
          44000,
          45000,
          46000,
          47000,
          48000,
          49000,
          50000,
          51000,
          52000,
          53000,
          54000,
          55000,
          56000,
          57000,
          58000,
          59000,
          60000,
          61000,
          62000,
          63000,
          64000,
          65000,
          66000,
          67000,
          68000,
          69000,
          70000,
          71000,
          72000,
          73000,
          74000,
          75000,
          76000,
          77000,
          78000,
          79000,
          80000,
          81000,
          82000,
          83000,
          84000,
          85000,
          86000,
          87000,
          88000,
          89000,
          90000,
          91000,
          92000,
          93000,
          94000,
          95000,
          96000,
          97000,
          98000,
          99000,
          100000,
          101000,
          102000,
          103000,
          104000,
          105000,
          106000,
          107000,
          108000,
          109000,
          110000,
          111000,
          112000,
          113000,
          114000,
          115000,
          116000,
          117000,
          118000,
          119000,
          120000,
          121000,
          122000,
          123000,
          124000,
          125000,
          126000,
          127000,
          128000,
          129000,
          130000,
          131000,
          132000,
          133000,
          134000,
          135000,
          136000,
          137000,
          138000,
          139000,
          140000,
          141000,
          142000,
          143000
         ],
         "xaxis": "x",
         "y": [
          0.034266382455825806,
          0.0889577642083168,
          0.11292029917240143,
          0.11100166290998459,
          0.07145658880472183,
          0.10499360412359238,
          0.10304929316043854,
          0.11223682016134262,
          0.09496566653251648,
          0.08262193948030472,
          0.095211923122406,
          0.0815095603466034,
          0.08334509283304214,
          0.07892605662345886,
          0.090305857360363,
          0.08329591900110245,
          0.0771566778421402,
          0.07074577361345291,
          0.08445951342582703,
          0.07270081341266632,
          0.0694626197218895,
          0.08379753679037094,
          0.07797972857952118,
          0.07807552814483643,
          0.08455658704042435,
          0.08014293760061264,
          0.08773437142372131,
          0.07865739613771439,
          0.09687748551368713,
          0.08098354190587997,
          0.08759357780218124,
          0.09079206734895706,
          0.0794881135225296,
          0.08908385783433914,
          0.07871297001838684,
          0.0918525829911232,
          0.07300258427858353,
          0.08204833418130875,
          0.08499718457460403,
          0.07732260227203369,
          0.07618096470832825,
          0.07315301895141602,
          0.08312883973121643,
          0.07221124321222305,
          0.0796155110001564,
          0.07763731479644775,
          0.07705402374267578,
          0.07342015206813812,
          0.0806230828166008,
          0.07647886872291565,
          0.07025308161973953,
          0.06881919503211975,
          0.07035074383020401,
          0.07820718735456467,
          0.07351253181695938,
          0.06890083849430084,
          0.0681181252002716,
          0.06471925228834152,
          0.06908219307661057,
          0.07276349514722824,
          0.05784815177321434,
          0.05952079966664314,
          0.059459954500198364,
          0.05788157135248184,
          0.05498998612165451,
          0.058854661881923676,
          0.056473903357982635,
          0.03196566179394722,
          0.02649591863155365,
          0.025146551430225372,
          0.028227556496858597,
          0.027797598391771317,
          0.026388559490442276,
          0.019753526896238327,
          0.018936820328235626,
          0.019733069464564323,
          0.014184089377522469,
          0.019384561106562614,
          0.019654087722301483,
          0.016744112595915794,
          0.018590321764349937,
          0.01842915080487728,
          0.015604048036038876,
          0.015764497220516205,
          0.016717972233891487,
          0.0162653811275959,
          0.015389307402074337,
          0.014096362516283989,
          0.014674793928861618,
          0.009961431846022606,
          0.01064653042703867,
          0.011689567007124424,
          0.017949681729078293,
          0.01678442768752575,
          0.01250140368938446,
          0.020973552018404007,
          0.019580533728003502,
          0.016762828454375267,
          0.021821167320013046,
          0.02119656465947628,
          0.02086917869746685,
          0.020131397992372513,
          0.017911963164806366,
          0.021878521889448166,
          0.015769967809319496,
          0.02240923047065735,
          0.022222798317670822,
          0.02176656387746334,
          0.017450740560889244,
          0.017774583771824837,
          0.022461963817477226,
          0.019319484010338783,
          0.02121390774846077,
          0.017337393015623093,
          0.02416990138590336,
          0.019157372415065765,
          0.023205457255244255,
          0.01448737271130085,
          0.013846133835613728,
          0.01884130761027336,
          0.01682283543050289,
          0.021412229165434837,
          0.02363976277410984,
          0.022717885673046112,
          0.023730600252747536,
          0.022445345297455788,
          0.024734750390052795,
          0.022590268403291702,
          0.02580098807811737,
          0.016230005770921707,
          0.023096859455108643,
          0.017950130626559258,
          0.019809378311038017,
          0.023900866508483887,
          0.023384394124150276,
          0.02029435895383358,
          0.016874710097908974,
          0.022000951692461967
         ],
         "yaxis": "y"
        },
        {
         "hovertemplate": "Layer-Head=Layer 10-Head 10<br>Checkpoint=%{x}<br>Value=%{y}<extra></extra>",
         "legendgroup": "Layer 10-Head 10",
         "line": {
          "color": "#FFA15A",
          "dash": "solid"
         },
         "marker": {
          "symbol": "circle"
         },
         "mode": "lines",
         "name": "Layer 10-Head 10",
         "orientation": "v",
         "showlegend": true,
         "type": "scatter",
         "x": [
          6000,
          7000,
          8000,
          9000,
          10000,
          11000,
          12000,
          13000,
          14000,
          15000,
          16000,
          17000,
          18000,
          19000,
          20000,
          21000,
          22000,
          23000,
          24000,
          25000,
          26000,
          27000,
          28000,
          29000,
          30000,
          31000,
          32000,
          33000,
          34000,
          35000,
          36000,
          37000,
          38000,
          39000,
          40000,
          41000,
          42000,
          43000,
          44000,
          45000,
          46000,
          47000,
          48000,
          49000,
          50000,
          51000,
          52000,
          53000,
          54000,
          55000,
          56000,
          57000,
          58000,
          59000,
          60000,
          61000,
          62000,
          63000,
          64000,
          65000,
          66000,
          67000,
          68000,
          69000,
          70000,
          71000,
          72000,
          73000,
          74000,
          75000,
          76000,
          77000,
          78000,
          79000,
          80000,
          81000,
          82000,
          83000,
          84000,
          85000,
          86000,
          87000,
          88000,
          89000,
          90000,
          91000,
          92000,
          93000,
          94000,
          96000,
          97000,
          98000,
          99000,
          100000,
          101000,
          102000,
          103000,
          104000,
          105000,
          106000,
          107000,
          108000,
          109000,
          110000,
          111000,
          112000,
          113000,
          114000,
          115000,
          116000,
          117000,
          118000,
          119000,
          120000,
          121000,
          122000,
          123000,
          124000,
          125000,
          126000,
          127000,
          128000,
          129000,
          130000,
          131000,
          132000,
          133000,
          134000,
          135000,
          136000,
          137000,
          138000,
          139000,
          140000,
          141000,
          142000,
          143000
         ],
         "xaxis": "x",
         "y": [
          0.0036260278429836035,
          0.000807476113550365,
          0.005004402715712786,
          0.006926409900188446,
          0.005310072097927332,
          0.006573786493390799,
          0.011896437034010887,
          0.008467482402920723,
          0.01060445699840784,
          0.011159676127135754,
          0.013457361608743668,
          0.012284581549465656,
          0.011338536627590656,
          0.011039193719625473,
          0.014067722484469414,
          0.015307093039155006,
          0.01160769909620285,
          0.011526152491569519,
          0.01233744341880083,
          0.011477561667561531,
          0.00875954981893301,
          0.009684002958238125,
          0.010445874184370041,
          0.013115578331053257,
          0.009716745465993881,
          0.011672885157167912,
          0.013041120953857899,
          0.009189196862280369,
          0.010249136947095394,
          0.013867193832993507,
          0.012463848106563091,
          0.013594478368759155,
          0.011747675947844982,
          0.014604114927351475,
          0.013219873420894146,
          0.0136778075248003,
          0.011052991263568401,
          0.011124353855848312,
          0.01763390749692917,
          0.010735522024333477,
          0.014157954603433609,
          0.013546597212553024,
          0.016090545803308487,
          0.010824834927916527,
          0.012547925114631653,
          0.014105502516031265,
          0.012210438027977943,
          0.011760681867599487,
          0.01478496752679348,
          0.016008879989385605,
          0.013172200880944729,
          0.010851551778614521,
          0.010928275063633919,
          0.013065808452665806,
          0.009689318016171455,
          0.012972118332982063,
          0.00983221735805273,
          0.011092529632151127,
          0.01130710355937481,
          0.011564332991838455,
          0.010679885745048523,
          0.010582205839455128,
          0.008727476000785828,
          0.009164919145405293,
          0.007261105813086033,
          0.010424253530800343,
          0.01233675703406334,
          0.008883751928806305,
          0.007272080518305302,
          0.006211267318576574,
          0.006149070803076029,
          0.008088154718279839,
          0.006282394751906395,
          0.006263285409659147,
          0.0036438798997551203,
          0.0032705203630030155,
          0.003962523303925991,
          0.002802170580253005,
          0.0024586282670497894,
          0.0017043083207681775,
          0.0019245806615799665,
          0.002349695423617959,
          0.0013979602372273803,
          0.002484347438439727,
          0.00046691091847606003,
          0.0014019322115927935,
          0.0007455624872818589,
          0.000607862719334662,
          0.0010159482480958104,
          0.0011614075629040599,
          0.001354068168438971,
          0.001407474628649652,
          0.0014903801493346691,
          0.0012496934505179524,
          0.0014453569892793894,
          0.0019529040437191725,
          0.0012480635195970535,
          0.001138713676482439,
          0.0014767213724553585,
          0.0017618306446820498,
          0.001362930634059012,
          0.0007737771375104785,
          0.0014383228262886405,
          0.0014261497417464852,
          0.0014599323039874434,
          0.0013380417367443442,
          0.0006022108718752861,
          0.0008517646347172558,
          0.0008981883293017745,
          0.0010614205384626985,
          0.0011473515769466758,
          0.0011460944078862667,
          0.0009426198084838688,
          0.0007885732920840383,
          0.000979354721494019,
          0.0007563490653410554,
          0.0009368759347125888,
          0.0008240682072937489,
          0.0008730409317649901,
          0.0011187539203092456,
          0.0010151003953069448,
          0.0010704847518354654,
          0.0009915005648508668,
          0.0010060167405754328,
          0.0007923190714791417,
          0.0011170182842761278,
          0.0008988044573925436,
          0.0010896865278482437,
          0.0008237673901021481,
          0.0009049850632436574,
          0.0005138166015967727,
          0.0008848572033457458,
          0.001003181911073625,
          0.0004716595576610416,
          0.0010085442336276174,
          0.0009478009887970984,
          0.0005717907915823162
         ],
         "yaxis": "y"
        }
       ],
       "layout": {
        "height": 500,
        "legend": {
         "title": {
          "text": "Layer-Head"
         },
         "tracegroupgap": 0
        },
        "template": {
         "data": {
          "bar": [
           {
            "error_x": {
             "color": "#2a3f5f"
            },
            "error_y": {
             "color": "#2a3f5f"
            },
            "marker": {
             "line": {
              "color": "#E5ECF6",
              "width": 0.5
             },
             "pattern": {
              "fillmode": "overlay",
              "size": 10,
              "solidity": 0.2
             }
            },
            "type": "bar"
           }
          ],
          "barpolar": [
           {
            "marker": {
             "line": {
              "color": "#E5ECF6",
              "width": 0.5
             },
             "pattern": {
              "fillmode": "overlay",
              "size": 10,
              "solidity": 0.2
             }
            },
            "type": "barpolar"
           }
          ],
          "carpet": [
           {
            "aaxis": {
             "endlinecolor": "#2a3f5f",
             "gridcolor": "white",
             "linecolor": "white",
             "minorgridcolor": "white",
             "startlinecolor": "#2a3f5f"
            },
            "baxis": {
             "endlinecolor": "#2a3f5f",
             "gridcolor": "white",
             "linecolor": "white",
             "minorgridcolor": "white",
             "startlinecolor": "#2a3f5f"
            },
            "type": "carpet"
           }
          ],
          "choropleth": [
           {
            "colorbar": {
             "outlinewidth": 0,
             "ticks": ""
            },
            "type": "choropleth"
           }
          ],
          "contour": [
           {
            "colorbar": {
             "outlinewidth": 0,
             "ticks": ""
            },
            "colorscale": [
             [
              0,
              "#0d0887"
             ],
             [
              0.1111111111111111,
              "#46039f"
             ],
             [
              0.2222222222222222,
              "#7201a8"
             ],
             [
              0.3333333333333333,
              "#9c179e"
             ],
             [
              0.4444444444444444,
              "#bd3786"
             ],
             [
              0.5555555555555556,
              "#d8576b"
             ],
             [
              0.6666666666666666,
              "#ed7953"
             ],
             [
              0.7777777777777778,
              "#fb9f3a"
             ],
             [
              0.8888888888888888,
              "#fdca26"
             ],
             [
              1,
              "#f0f921"
             ]
            ],
            "type": "contour"
           }
          ],
          "contourcarpet": [
           {
            "colorbar": {
             "outlinewidth": 0,
             "ticks": ""
            },
            "type": "contourcarpet"
           }
          ],
          "heatmap": [
           {
            "colorbar": {
             "outlinewidth": 0,
             "ticks": ""
            },
            "colorscale": [
             [
              0,
              "#0d0887"
             ],
             [
              0.1111111111111111,
              "#46039f"
             ],
             [
              0.2222222222222222,
              "#7201a8"
             ],
             [
              0.3333333333333333,
              "#9c179e"
             ],
             [
              0.4444444444444444,
              "#bd3786"
             ],
             [
              0.5555555555555556,
              "#d8576b"
             ],
             [
              0.6666666666666666,
              "#ed7953"
             ],
             [
              0.7777777777777778,
              "#fb9f3a"
             ],
             [
              0.8888888888888888,
              "#fdca26"
             ],
             [
              1,
              "#f0f921"
             ]
            ],
            "type": "heatmap"
           }
          ],
          "heatmapgl": [
           {
            "colorbar": {
             "outlinewidth": 0,
             "ticks": ""
            },
            "colorscale": [
             [
              0,
              "#0d0887"
             ],
             [
              0.1111111111111111,
              "#46039f"
             ],
             [
              0.2222222222222222,
              "#7201a8"
             ],
             [
              0.3333333333333333,
              "#9c179e"
             ],
             [
              0.4444444444444444,
              "#bd3786"
             ],
             [
              0.5555555555555556,
              "#d8576b"
             ],
             [
              0.6666666666666666,
              "#ed7953"
             ],
             [
              0.7777777777777778,
              "#fb9f3a"
             ],
             [
              0.8888888888888888,
              "#fdca26"
             ],
             [
              1,
              "#f0f921"
             ]
            ],
            "type": "heatmapgl"
           }
          ],
          "histogram": [
           {
            "marker": {
             "pattern": {
              "fillmode": "overlay",
              "size": 10,
              "solidity": 0.2
             }
            },
            "type": "histogram"
           }
          ],
          "histogram2d": [
           {
            "colorbar": {
             "outlinewidth": 0,
             "ticks": ""
            },
            "colorscale": [
             [
              0,
              "#0d0887"
             ],
             [
              0.1111111111111111,
              "#46039f"
             ],
             [
              0.2222222222222222,
              "#7201a8"
             ],
             [
              0.3333333333333333,
              "#9c179e"
             ],
             [
              0.4444444444444444,
              "#bd3786"
             ],
             [
              0.5555555555555556,
              "#d8576b"
             ],
             [
              0.6666666666666666,
              "#ed7953"
             ],
             [
              0.7777777777777778,
              "#fb9f3a"
             ],
             [
              0.8888888888888888,
              "#fdca26"
             ],
             [
              1,
              "#f0f921"
             ]
            ],
            "type": "histogram2d"
           }
          ],
          "histogram2dcontour": [
           {
            "colorbar": {
             "outlinewidth": 0,
             "ticks": ""
            },
            "colorscale": [
             [
              0,
              "#0d0887"
             ],
             [
              0.1111111111111111,
              "#46039f"
             ],
             [
              0.2222222222222222,
              "#7201a8"
             ],
             [
              0.3333333333333333,
              "#9c179e"
             ],
             [
              0.4444444444444444,
              "#bd3786"
             ],
             [
              0.5555555555555556,
              "#d8576b"
             ],
             [
              0.6666666666666666,
              "#ed7953"
             ],
             [
              0.7777777777777778,
              "#fb9f3a"
             ],
             [
              0.8888888888888888,
              "#fdca26"
             ],
             [
              1,
              "#f0f921"
             ]
            ],
            "type": "histogram2dcontour"
           }
          ],
          "mesh3d": [
           {
            "colorbar": {
             "outlinewidth": 0,
             "ticks": ""
            },
            "type": "mesh3d"
           }
          ],
          "parcoords": [
           {
            "line": {
             "colorbar": {
              "outlinewidth": 0,
              "ticks": ""
             }
            },
            "type": "parcoords"
           }
          ],
          "pie": [
           {
            "automargin": true,
            "type": "pie"
           }
          ],
          "scatter": [
           {
            "fillpattern": {
             "fillmode": "overlay",
             "size": 10,
             "solidity": 0.2
            },
            "type": "scatter"
           }
          ],
          "scatter3d": [
           {
            "line": {
             "colorbar": {
              "outlinewidth": 0,
              "ticks": ""
             }
            },
            "marker": {
             "colorbar": {
              "outlinewidth": 0,
              "ticks": ""
             }
            },
            "type": "scatter3d"
           }
          ],
          "scattercarpet": [
           {
            "marker": {
             "colorbar": {
              "outlinewidth": 0,
              "ticks": ""
             }
            },
            "type": "scattercarpet"
           }
          ],
          "scattergeo": [
           {
            "marker": {
             "colorbar": {
              "outlinewidth": 0,
              "ticks": ""
             }
            },
            "type": "scattergeo"
           }
          ],
          "scattergl": [
           {
            "marker": {
             "colorbar": {
              "outlinewidth": 0,
              "ticks": ""
             }
            },
            "type": "scattergl"
           }
          ],
          "scattermapbox": [
           {
            "marker": {
             "colorbar": {
              "outlinewidth": 0,
              "ticks": ""
             }
            },
            "type": "scattermapbox"
           }
          ],
          "scatterpolar": [
           {
            "marker": {
             "colorbar": {
              "outlinewidth": 0,
              "ticks": ""
             }
            },
            "type": "scatterpolar"
           }
          ],
          "scatterpolargl": [
           {
            "marker": {
             "colorbar": {
              "outlinewidth": 0,
              "ticks": ""
             }
            },
            "type": "scatterpolargl"
           }
          ],
          "scatterternary": [
           {
            "marker": {
             "colorbar": {
              "outlinewidth": 0,
              "ticks": ""
             }
            },
            "type": "scatterternary"
           }
          ],
          "surface": [
           {
            "colorbar": {
             "outlinewidth": 0,
             "ticks": ""
            },
            "colorscale": [
             [
              0,
              "#0d0887"
             ],
             [
              0.1111111111111111,
              "#46039f"
             ],
             [
              0.2222222222222222,
              "#7201a8"
             ],
             [
              0.3333333333333333,
              "#9c179e"
             ],
             [
              0.4444444444444444,
              "#bd3786"
             ],
             [
              0.5555555555555556,
              "#d8576b"
             ],
             [
              0.6666666666666666,
              "#ed7953"
             ],
             [
              0.7777777777777778,
              "#fb9f3a"
             ],
             [
              0.8888888888888888,
              "#fdca26"
             ],
             [
              1,
              "#f0f921"
             ]
            ],
            "type": "surface"
           }
          ],
          "table": [
           {
            "cells": {
             "fill": {
              "color": "#EBF0F8"
             },
             "line": {
              "color": "white"
             }
            },
            "header": {
             "fill": {
              "color": "#C8D4E3"
             },
             "line": {
              "color": "white"
             }
            },
            "type": "table"
           }
          ]
         },
         "layout": {
          "annotationdefaults": {
           "arrowcolor": "#2a3f5f",
           "arrowhead": 0,
           "arrowwidth": 1
          },
          "autotypenumbers": "strict",
          "coloraxis": {
           "colorbar": {
            "outlinewidth": 0,
            "ticks": ""
           }
          },
          "colorscale": {
           "diverging": [
            [
             0,
             "#8e0152"
            ],
            [
             0.1,
             "#c51b7d"
            ],
            [
             0.2,
             "#de77ae"
            ],
            [
             0.3,
             "#f1b6da"
            ],
            [
             0.4,
             "#fde0ef"
            ],
            [
             0.5,
             "#f7f7f7"
            ],
            [
             0.6,
             "#e6f5d0"
            ],
            [
             0.7,
             "#b8e186"
            ],
            [
             0.8,
             "#7fbc41"
            ],
            [
             0.9,
             "#4d9221"
            ],
            [
             1,
             "#276419"
            ]
           ],
           "sequential": [
            [
             0,
             "#0d0887"
            ],
            [
             0.1111111111111111,
             "#46039f"
            ],
            [
             0.2222222222222222,
             "#7201a8"
            ],
            [
             0.3333333333333333,
             "#9c179e"
            ],
            [
             0.4444444444444444,
             "#bd3786"
            ],
            [
             0.5555555555555556,
             "#d8576b"
            ],
            [
             0.6666666666666666,
             "#ed7953"
            ],
            [
             0.7777777777777778,
             "#fb9f3a"
            ],
            [
             0.8888888888888888,
             "#fdca26"
            ],
            [
             1,
             "#f0f921"
            ]
           ],
           "sequentialminus": [
            [
             0,
             "#0d0887"
            ],
            [
             0.1111111111111111,
             "#46039f"
            ],
            [
             0.2222222222222222,
             "#7201a8"
            ],
            [
             0.3333333333333333,
             "#9c179e"
            ],
            [
             0.4444444444444444,
             "#bd3786"
            ],
            [
             0.5555555555555556,
             "#d8576b"
            ],
            [
             0.6666666666666666,
             "#ed7953"
            ],
            [
             0.7777777777777778,
             "#fb9f3a"
            ],
            [
             0.8888888888888888,
             "#fdca26"
            ],
            [
             1,
             "#f0f921"
            ]
           ]
          },
          "colorway": [
           "#636efa",
           "#EF553B",
           "#00cc96",
           "#ab63fa",
           "#FFA15A",
           "#19d3f3",
           "#FF6692",
           "#B6E880",
           "#FF97FF",
           "#FECB52"
          ],
          "font": {
           "color": "#2a3f5f"
          },
          "geo": {
           "bgcolor": "white",
           "lakecolor": "white",
           "landcolor": "#E5ECF6",
           "showlakes": true,
           "showland": true,
           "subunitcolor": "white"
          },
          "hoverlabel": {
           "align": "left"
          },
          "hovermode": "closest",
          "mapbox": {
           "style": "light"
          },
          "paper_bgcolor": "white",
          "plot_bgcolor": "#E5ECF6",
          "polar": {
           "angularaxis": {
            "gridcolor": "white",
            "linecolor": "white",
            "ticks": ""
           },
           "bgcolor": "#E5ECF6",
           "radialaxis": {
            "gridcolor": "white",
            "linecolor": "white",
            "ticks": ""
           }
          },
          "scene": {
           "xaxis": {
            "backgroundcolor": "#E5ECF6",
            "gridcolor": "white",
            "gridwidth": 2,
            "linecolor": "white",
            "showbackground": true,
            "ticks": "",
            "zerolinecolor": "white"
           },
           "yaxis": {
            "backgroundcolor": "#E5ECF6",
            "gridcolor": "white",
            "gridwidth": 2,
            "linecolor": "white",
            "showbackground": true,
            "ticks": "",
            "zerolinecolor": "white"
           },
           "zaxis": {
            "backgroundcolor": "#E5ECF6",
            "gridcolor": "white",
            "gridwidth": 2,
            "linecolor": "white",
            "showbackground": true,
            "ticks": "",
            "zerolinecolor": "white"
           }
          },
          "shapedefaults": {
           "line": {
            "color": "#2a3f5f"
           }
          },
          "ternary": {
           "aaxis": {
            "gridcolor": "white",
            "linecolor": "white",
            "ticks": ""
           },
           "baxis": {
            "gridcolor": "white",
            "linecolor": "white",
            "ticks": ""
           },
           "bgcolor": "#E5ECF6",
           "caxis": {
            "gridcolor": "white",
            "linecolor": "white",
            "ticks": ""
           }
          },
          "title": {
           "x": 0.05
          },
          "xaxis": {
           "automargin": true,
           "gridcolor": "white",
           "linecolor": "white",
           "ticks": "",
           "title": {
            "standoff": 15
           },
           "zerolinecolor": "white",
           "zerolinewidth": 2
          },
          "yaxis": {
           "automargin": true,
           "gridcolor": "white",
           "linecolor": "white",
           "ticks": "",
           "title": {
            "standoff": 15
           },
           "zerolinecolor": "white",
           "zerolinewidth": 2
          }
         }
        },
        "title": {
         "text": "Top Backup Heads Attribution Across Checkpoints (pythia-160m-hiddendropout)"
        },
        "xaxis": {
         "anchor": "y",
         "domain": [
          0,
          1
         ],
         "title": {
          "text": "Checkpoint"
         }
        },
        "yaxis": {
         "anchor": "x",
         "domain": [
          0,
          1
         ],
         "title": {
          "text": "Value"
         }
        }
       }
      },
      "text/html": [
       "<div>                            <div id=\"567a1e69-dc21-486b-8324-2593f743de57\" class=\"plotly-graph-div\" style=\"height:500px; width:100%;\"></div>            <script type=\"text/javascript\">                require([\"plotly\"], function(Plotly) {                    window.PLOTLYENV=window.PLOTLYENV || {};                                    if (document.getElementById(\"567a1e69-dc21-486b-8324-2593f743de57\")) {                    Plotly.newPlot(                        \"567a1e69-dc21-486b-8324-2593f743de57\",                        [{\"hovertemplate\":\"Layer-Head=Layer 5-Head 5\\u003cbr\\u003eCheckpoint=%{x}\\u003cbr\\u003eValue=%{y}\\u003cextra\\u003e\\u003c\\u002fextra\\u003e\",\"legendgroup\":\"Layer 5-Head 5\",\"line\":{\"color\":\"#636efa\",\"dash\":\"solid\"},\"marker\":{\"symbol\":\"circle\"},\"mode\":\"lines\",\"name\":\"Layer 5-Head 5\",\"orientation\":\"v\",\"showlegend\":true,\"x\":[4000],\"xaxis\":\"x\",\"y\":[0.005946827586740255],\"yaxis\":\"y\",\"type\":\"scatter\"},{\"hovertemplate\":\"Layer-Head=Layer 9-Head 9\\u003cbr\\u003eCheckpoint=%{x}\\u003cbr\\u003eValue=%{y}\\u003cextra\\u003e\\u003c\\u002fextra\\u003e\",\"legendgroup\":\"Layer 9-Head 9\",\"line\":{\"color\":\"#EF553B\",\"dash\":\"solid\"},\"marker\":{\"symbol\":\"circle\"},\"mode\":\"lines\",\"name\":\"Layer 9-Head 9\",\"orientation\":\"v\",\"showlegend\":true,\"x\":[5000,6000,7000,8000,9000,10000,11000,12000,13000,14000,15000,16000,17000,18000,19000,20000,21000,22000,23000,24000,25000,26000,27000,28000,29000,30000,31000,32000,33000,34000,35000,36000,37000,38000,39000,40000,41000,42000,43000,44000,45000,46000,47000,48000,49000,50000,51000,52000,53000,54000,55000,56000,57000,58000,59000,60000,61000,62000,63000,64000,65000,66000,67000,68000,69000,70000,71000,72000,73000,74000,75000,76000,77000,78000,79000,80000,81000,82000,83000,84000,85000,86000,87000,88000,89000,90000,91000,92000,93000,94000,95000,96000,97000],\"xaxis\":\"x\",\"y\":[0.0021921114530414343,0.0033301496878266335,0.004896008875221014,0.006643212866038084,0.0070739625953137875,0.004615113604813814,0.0063184225000441074,0.007278257515281439,0.004429490305483341,0.006198696326464415,0.005067969206720591,0.004933976102620363,0.004354965407401323,0.0017482677940279245,0.003365372773259878,0.004099610727280378,0.005768931470811367,0.00387192633934319,0.002616189420223236,0.0035459366627037525,0.003143745008856058,0.0019357295241206884,0.003105754731222987,0.0027279488276690245,0.0071923802606761456,0.0032409948762506247,0.005669787060469389,0.0036816680803894997,0.0031865525525063276,0.003979111090302467,0.008744766935706139,0.008336053229868412,0.012110353447496891,0.009740440174937248,0.009663274511694908,0.012142122723162174,0.008716638199985027,0.008181140758097172,0.00795803964138031,0.009026565589010715,0.008828248828649521,0.008451678790152073,0.007293220609426498,0.009870316833257675,0.007291517220437527,0.008624843321740627,0.010599297471344471,0.008403007872402668,0.009056313894689083,0.009235464036464691,0.008416542783379555,0.010793718509376049,0.007733253762125969,0.007664770819246769,0.009666572324931622,0.0088255126029253,0.008340260945260525,0.006801338400691748,0.008390987291932106,0.007603666745126247,0.006769448984414339,0.008315094746649265,0.007859102450311184,0.006007528398185968,0.006379814352840185,0.006291769910603762,0.006912712473422289,0.0086058359593153,0.0052987500093877316,0.0065327840857207775,0.00683312164619565,0.003945857752114534,0.006271168123930693,0.0051797134801745415,0.006185016129165888,0.00492804916575551,0.0012085303897038102,0.002083627274259925,0.0015724212862551212,0.0017886027926579118,0.001135248807258904,0.00205377209931612,0.0014465254498645663,0.0035931402817368507,0.0014449185691773891,0.0027862198185175657,0.0029822024516761303,0.005433220881968737,0.003557556075975299,0.006817691959440708,0.008974948897957802,0.00858828891068697,0.007092515006661415],\"yaxis\":\"y\",\"type\":\"scatter\"},{\"hovertemplate\":\"Layer-Head=Layer 9-Head 11\\u003cbr\\u003eCheckpoint=%{x}\\u003cbr\\u003eValue=%{y}\\u003cextra\\u003e\\u003c\\u002fextra\\u003e\",\"legendgroup\":\"Layer 9-Head 11\",\"line\":{\"color\":\"#00cc96\",\"dash\":\"solid\"},\"marker\":{\"symbol\":\"circle\"},\"mode\":\"lines\",\"name\":\"Layer 9-Head 11\",\"orientation\":\"v\",\"showlegend\":true,\"x\":[6000,7000,8000,9000,10000,11000,12000,13000,14000,15000,16000,17000,18000,19000,20000,21000,22000,23000,24000,25000,26000,27000,28000,29000,30000,31000,32000,33000,34000,35000,36000,37000,38000,39000,40000,41000,42000,43000,44000,45000,46000,47000,48000,49000,50000,51000,52000,53000,54000,55000,56000,57000,58000,59000,60000,61000,62000,63000,64000,65000,66000,67000,68000,69000,70000,71000,72000,73000,74000,75000,76000,77000,78000,79000,80000,81000,82000,83000,84000,85000,86000,87000,88000,89000,90000,91000,92000,93000,94000,95000,96000,97000,98000,99000,100000,101000,102000,103000,104000,105000,106000,107000,108000,109000,110000,111000,112000,113000,114000,115000,116000,117000,119000,120000,125000,126000,127000,128000,130000,132000,133000,137000,138000,140000,142000,143000],\"xaxis\":\"x\",\"y\":[0.0029126713052392006,0.004971115384250879,0.007421291433274746,0.008156726136803627,0.004880028776824474,0.009423351846635342,0.007257569115608931,0.00488381227478385,0.006938620004802942,0.00413495022803545,0.005882059223949909,0.005144965369254351,0.0030401479452848434,0.004949942696839571,0.00517395231872797,0.0051779127679765224,0.004234492313116789,0.003197608282789588,0.004121313337236643,0.00434175506234169,0.0034466979559510946,0.004074031952768564,0.0043862359598279,0.0065673887729644775,0.0038899811916053295,0.007534830365329981,0.003884121309965849,0.0033355082850903273,0.004272392485290766,0.0062998514622449875,0.006544520612806082,0.007542640436440706,0.006683975458145142,0.009531918913125992,0.009292039088904858,0.008186263963580132,0.006634954828768969,0.006940560415387154,0.007790351752191782,0.007486701477319002,0.00685950368642807,0.006202563643455505,0.007979116402566433,0.0067994012497365475,0.006454521790146828,0.008161983452737331,0.0064681400544941425,0.006293033249676228,0.007543314713984728,0.007149349898099899,0.00761215016245842,0.006062510889023542,0.005263881757855415,0.008199074305593967,0.006895949132740498,0.006451324559748173,0.005479228682816029,0.006782808341085911,0.007193021476268768,0.005633647553622723,0.0060435147024691105,0.00630587711930275,0.005885867867618799,0.006079849787056446,0.0045456429943442345,0.005400778725743294,0.008095873519778252,0.005162439774721861,0.006271380931138992,0.005793034099042416,0.004861304070800543,0.006369617767632008,0.004521514754742384,0.006245242897421122,0.004418363329023123,0.0016401353059336543,0.0020923325791954994,0.0021805663127452135,0.0022356656845659018,0.0025039108004420996,0.002439983654767275,0.0022781859152019024,0.0030774010811001062,0.0021595798898488283,0.0024403096176683903,0.0028384029865264893,0.0025362176820635796,0.0019634144846349955,0.002490149810910225,0.002251937286928296,0.002058548154309392,0.0018667402910068631,0.001737212180159986,0.0014257089933380485,0.0015046937623992562,0.0012535987189039588,0.0009358137613162398,0.0009367809980176389,0.0008569753845222294,0.0007317941053770483,0.0011393921449780464,0.0006511295214295387,0.00042521365685388446,0.0003696887579280883,0.000334674958139658,0.0003139163018204272,0.0003625833196565509,0.00018650932179298252,0.00032332359114661813,0.0002023682027356699,0.0003119886969216168,0.00018151482800021768,0.0002714754082262516,0.00019383242761250585,0.0002661547332536429,0.000186113131348975,0.00018046211334876716,0.0002451187465339899,0.00037996083847247064,0.00013769195356871933,9.750062599778175e-05,0.0001586947764735669,0.00020304573990870267,0.00011869119043694809,0.00019151699962094426,9.422371658729389e-05],\"yaxis\":\"y\",\"type\":\"scatter\"},{\"hovertemplate\":\"Layer-Head=Layer 10-Head 0\\u003cbr\\u003eCheckpoint=%{x}\\u003cbr\\u003eValue=%{y}\\u003cextra\\u003e\\u003c\\u002fextra\\u003e\",\"legendgroup\":\"Layer 10-Head 0\",\"line\":{\"color\":\"#ab63fa\",\"dash\":\"solid\"},\"marker\":{\"symbol\":\"circle\"},\"mode\":\"lines\",\"name\":\"Layer 10-Head 0\",\"orientation\":\"v\",\"showlegend\":true,\"x\":[6000,7000,8000,9000,10000,11000,12000,13000,14000,15000,16000,17000,18000,19000,20000,21000,22000,23000,24000,25000,26000,27000,28000,29000,30000,31000,32000,33000,34000,35000,36000,37000,38000,39000,40000,41000,42000,43000,44000,45000,46000,47000,48000,49000,50000,51000,52000,53000,54000,55000,56000,57000,58000,59000,60000,61000,62000,63000,64000,65000,66000,67000,68000,69000,70000,71000,72000,73000,74000,75000,76000,77000,78000,79000,80000,81000,82000,83000,84000,85000,86000,87000,88000,89000,90000,91000,92000,93000,94000,95000,96000,97000,98000,99000,100000,101000,102000,103000,104000,105000,106000,107000,108000,109000,110000,111000,112000,113000,114000,115000,116000,117000,118000,119000,120000,121000,122000,123000,124000,125000,126000,127000,128000,129000,130000,131000,132000,133000,134000,135000,136000,137000,138000,139000,140000,141000,142000,143000],\"xaxis\":\"x\",\"y\":[0.034266382455825806,0.0889577642083168,0.11292029917240143,0.11100166290998459,0.07145658880472183,0.10499360412359238,0.10304929316043854,0.11223682016134262,0.09496566653251648,0.08262193948030472,0.095211923122406,0.0815095603466034,0.08334509283304214,0.07892605662345886,0.090305857360363,0.08329591900110245,0.0771566778421402,0.07074577361345291,0.08445951342582703,0.07270081341266632,0.0694626197218895,0.08379753679037094,0.07797972857952118,0.07807552814483643,0.08455658704042435,0.08014293760061264,0.08773437142372131,0.07865739613771439,0.09687748551368713,0.08098354190587997,0.08759357780218124,0.09079206734895706,0.0794881135225296,0.08908385783433914,0.07871297001838684,0.0918525829911232,0.07300258427858353,0.08204833418130875,0.08499718457460403,0.07732260227203369,0.07618096470832825,0.07315301895141602,0.08312883973121643,0.07221124321222305,0.0796155110001564,0.07763731479644775,0.07705402374267578,0.07342015206813812,0.0806230828166008,0.07647886872291565,0.07025308161973953,0.06881919503211975,0.07035074383020401,0.07820718735456467,0.07351253181695938,0.06890083849430084,0.0681181252002716,0.06471925228834152,0.06908219307661057,0.07276349514722824,0.05784815177321434,0.05952079966664314,0.059459954500198364,0.05788157135248184,0.05498998612165451,0.058854661881923676,0.056473903357982635,0.03196566179394722,0.02649591863155365,0.025146551430225372,0.028227556496858597,0.027797598391771317,0.026388559490442276,0.019753526896238327,0.018936820328235626,0.019733069464564323,0.014184089377522469,0.019384561106562614,0.019654087722301483,0.016744112595915794,0.018590321764349937,0.01842915080487728,0.015604048036038876,0.015764497220516205,0.016717972233891487,0.0162653811275959,0.015389307402074337,0.014096362516283989,0.014674793928861618,0.009961431846022606,0.01064653042703867,0.011689567007124424,0.017949681729078293,0.01678442768752575,0.01250140368938446,0.020973552018404007,0.019580533728003502,0.016762828454375267,0.021821167320013046,0.02119656465947628,0.02086917869746685,0.020131397992372513,0.017911963164806366,0.021878521889448166,0.015769967809319496,0.02240923047065735,0.022222798317670822,0.02176656387746334,0.017450740560889244,0.017774583771824837,0.022461963817477226,0.019319484010338783,0.02121390774846077,0.017337393015623093,0.02416990138590336,0.019157372415065765,0.023205457255244255,0.01448737271130085,0.013846133835613728,0.01884130761027336,0.01682283543050289,0.021412229165434837,0.02363976277410984,0.022717885673046112,0.023730600252747536,0.022445345297455788,0.024734750390052795,0.022590268403291702,0.02580098807811737,0.016230005770921707,0.023096859455108643,0.017950130626559258,0.019809378311038017,0.023900866508483887,0.023384394124150276,0.02029435895383358,0.016874710097908974,0.022000951692461967],\"yaxis\":\"y\",\"type\":\"scatter\"},{\"hovertemplate\":\"Layer-Head=Layer 10-Head 10\\u003cbr\\u003eCheckpoint=%{x}\\u003cbr\\u003eValue=%{y}\\u003cextra\\u003e\\u003c\\u002fextra\\u003e\",\"legendgroup\":\"Layer 10-Head 10\",\"line\":{\"color\":\"#FFA15A\",\"dash\":\"solid\"},\"marker\":{\"symbol\":\"circle\"},\"mode\":\"lines\",\"name\":\"Layer 10-Head 10\",\"orientation\":\"v\",\"showlegend\":true,\"x\":[6000,7000,8000,9000,10000,11000,12000,13000,14000,15000,16000,17000,18000,19000,20000,21000,22000,23000,24000,25000,26000,27000,28000,29000,30000,31000,32000,33000,34000,35000,36000,37000,38000,39000,40000,41000,42000,43000,44000,45000,46000,47000,48000,49000,50000,51000,52000,53000,54000,55000,56000,57000,58000,59000,60000,61000,62000,63000,64000,65000,66000,67000,68000,69000,70000,71000,72000,73000,74000,75000,76000,77000,78000,79000,80000,81000,82000,83000,84000,85000,86000,87000,88000,89000,90000,91000,92000,93000,94000,96000,97000,98000,99000,100000,101000,102000,103000,104000,105000,106000,107000,108000,109000,110000,111000,112000,113000,114000,115000,116000,117000,118000,119000,120000,121000,122000,123000,124000,125000,126000,127000,128000,129000,130000,131000,132000,133000,134000,135000,136000,137000,138000,139000,140000,141000,142000,143000],\"xaxis\":\"x\",\"y\":[0.0036260278429836035,0.000807476113550365,0.005004402715712786,0.006926409900188446,0.005310072097927332,0.006573786493390799,0.011896437034010887,0.008467482402920723,0.01060445699840784,0.011159676127135754,0.013457361608743668,0.012284581549465656,0.011338536627590656,0.011039193719625473,0.014067722484469414,0.015307093039155006,0.01160769909620285,0.011526152491569519,0.01233744341880083,0.011477561667561531,0.00875954981893301,0.009684002958238125,0.010445874184370041,0.013115578331053257,0.009716745465993881,0.011672885157167912,0.013041120953857899,0.009189196862280369,0.010249136947095394,0.013867193832993507,0.012463848106563091,0.013594478368759155,0.011747675947844982,0.014604114927351475,0.013219873420894146,0.0136778075248003,0.011052991263568401,0.011124353855848312,0.01763390749692917,0.010735522024333477,0.014157954603433609,0.013546597212553024,0.016090545803308487,0.010824834927916527,0.012547925114631653,0.014105502516031265,0.012210438027977943,0.011760681867599487,0.01478496752679348,0.016008879989385605,0.013172200880944729,0.010851551778614521,0.010928275063633919,0.013065808452665806,0.009689318016171455,0.012972118332982063,0.00983221735805273,0.011092529632151127,0.01130710355937481,0.011564332991838455,0.010679885745048523,0.010582205839455128,0.008727476000785828,0.009164919145405293,0.007261105813086033,0.010424253530800343,0.01233675703406334,0.008883751928806305,0.007272080518305302,0.006211267318576574,0.006149070803076029,0.008088154718279839,0.006282394751906395,0.006263285409659147,0.0036438798997551203,0.0032705203630030155,0.003962523303925991,0.002802170580253005,0.0024586282670497894,0.0017043083207681775,0.0019245806615799665,0.002349695423617959,0.0013979602372273803,0.002484347438439727,0.00046691091847606003,0.0014019322115927935,0.0007455624872818589,0.000607862719334662,0.0010159482480958104,0.0011614075629040599,0.001354068168438971,0.001407474628649652,0.0014903801493346691,0.0012496934505179524,0.0014453569892793894,0.0019529040437191725,0.0012480635195970535,0.001138713676482439,0.0014767213724553585,0.0017618306446820498,0.001362930634059012,0.0007737771375104785,0.0014383228262886405,0.0014261497417464852,0.0014599323039874434,0.0013380417367443442,0.0006022108718752861,0.0008517646347172558,0.0008981883293017745,0.0010614205384626985,0.0011473515769466758,0.0011460944078862667,0.0009426198084838688,0.0007885732920840383,0.000979354721494019,0.0007563490653410554,0.0009368759347125888,0.0008240682072937489,0.0008730409317649901,0.0011187539203092456,0.0010151003953069448,0.0010704847518354654,0.0009915005648508668,0.0010060167405754328,0.0007923190714791417,0.0011170182842761278,0.0008988044573925436,0.0010896865278482437,0.0008237673901021481,0.0009049850632436574,0.0005138166015967727,0.0008848572033457458,0.001003181911073625,0.0004716595576610416,0.0010085442336276174,0.0009478009887970984,0.0005717907915823162],\"yaxis\":\"y\",\"type\":\"scatter\"}],                        {\"template\":{\"data\":{\"histogram2dcontour\":[{\"type\":\"histogram2dcontour\",\"colorbar\":{\"outlinewidth\":0,\"ticks\":\"\"},\"colorscale\":[[0.0,\"#0d0887\"],[0.1111111111111111,\"#46039f\"],[0.2222222222222222,\"#7201a8\"],[0.3333333333333333,\"#9c179e\"],[0.4444444444444444,\"#bd3786\"],[0.5555555555555556,\"#d8576b\"],[0.6666666666666666,\"#ed7953\"],[0.7777777777777778,\"#fb9f3a\"],[0.8888888888888888,\"#fdca26\"],[1.0,\"#f0f921\"]]}],\"choropleth\":[{\"type\":\"choropleth\",\"colorbar\":{\"outlinewidth\":0,\"ticks\":\"\"}}],\"histogram2d\":[{\"type\":\"histogram2d\",\"colorbar\":{\"outlinewidth\":0,\"ticks\":\"\"},\"colorscale\":[[0.0,\"#0d0887\"],[0.1111111111111111,\"#46039f\"],[0.2222222222222222,\"#7201a8\"],[0.3333333333333333,\"#9c179e\"],[0.4444444444444444,\"#bd3786\"],[0.5555555555555556,\"#d8576b\"],[0.6666666666666666,\"#ed7953\"],[0.7777777777777778,\"#fb9f3a\"],[0.8888888888888888,\"#fdca26\"],[1.0,\"#f0f921\"]]}],\"heatmap\":[{\"type\":\"heatmap\",\"colorbar\":{\"outlinewidth\":0,\"ticks\":\"\"},\"colorscale\":[[0.0,\"#0d0887\"],[0.1111111111111111,\"#46039f\"],[0.2222222222222222,\"#7201a8\"],[0.3333333333333333,\"#9c179e\"],[0.4444444444444444,\"#bd3786\"],[0.5555555555555556,\"#d8576b\"],[0.6666666666666666,\"#ed7953\"],[0.7777777777777778,\"#fb9f3a\"],[0.8888888888888888,\"#fdca26\"],[1.0,\"#f0f921\"]]}],\"heatmapgl\":[{\"type\":\"heatmapgl\",\"colorbar\":{\"outlinewidth\":0,\"ticks\":\"\"},\"colorscale\":[[0.0,\"#0d0887\"],[0.1111111111111111,\"#46039f\"],[0.2222222222222222,\"#7201a8\"],[0.3333333333333333,\"#9c179e\"],[0.4444444444444444,\"#bd3786\"],[0.5555555555555556,\"#d8576b\"],[0.6666666666666666,\"#ed7953\"],[0.7777777777777778,\"#fb9f3a\"],[0.8888888888888888,\"#fdca26\"],[1.0,\"#f0f921\"]]}],\"contourcarpet\":[{\"type\":\"contourcarpet\",\"colorbar\":{\"outlinewidth\":0,\"ticks\":\"\"}}],\"contour\":[{\"type\":\"contour\",\"colorbar\":{\"outlinewidth\":0,\"ticks\":\"\"},\"colorscale\":[[0.0,\"#0d0887\"],[0.1111111111111111,\"#46039f\"],[0.2222222222222222,\"#7201a8\"],[0.3333333333333333,\"#9c179e\"],[0.4444444444444444,\"#bd3786\"],[0.5555555555555556,\"#d8576b\"],[0.6666666666666666,\"#ed7953\"],[0.7777777777777778,\"#fb9f3a\"],[0.8888888888888888,\"#fdca26\"],[1.0,\"#f0f921\"]]}],\"surface\":[{\"type\":\"surface\",\"colorbar\":{\"outlinewidth\":0,\"ticks\":\"\"},\"colorscale\":[[0.0,\"#0d0887\"],[0.1111111111111111,\"#46039f\"],[0.2222222222222222,\"#7201a8\"],[0.3333333333333333,\"#9c179e\"],[0.4444444444444444,\"#bd3786\"],[0.5555555555555556,\"#d8576b\"],[0.6666666666666666,\"#ed7953\"],[0.7777777777777778,\"#fb9f3a\"],[0.8888888888888888,\"#fdca26\"],[1.0,\"#f0f921\"]]}],\"mesh3d\":[{\"type\":\"mesh3d\",\"colorbar\":{\"outlinewidth\":0,\"ticks\":\"\"}}],\"scatter\":[{\"fillpattern\":{\"fillmode\":\"overlay\",\"size\":10,\"solidity\":0.2},\"type\":\"scatter\"}],\"parcoords\":[{\"type\":\"parcoords\",\"line\":{\"colorbar\":{\"outlinewidth\":0,\"ticks\":\"\"}}}],\"scatterpolargl\":[{\"type\":\"scatterpolargl\",\"marker\":{\"colorbar\":{\"outlinewidth\":0,\"ticks\":\"\"}}}],\"bar\":[{\"error_x\":{\"color\":\"#2a3f5f\"},\"error_y\":{\"color\":\"#2a3f5f\"},\"marker\":{\"line\":{\"color\":\"#E5ECF6\",\"width\":0.5},\"pattern\":{\"fillmode\":\"overlay\",\"size\":10,\"solidity\":0.2}},\"type\":\"bar\"}],\"scattergeo\":[{\"type\":\"scattergeo\",\"marker\":{\"colorbar\":{\"outlinewidth\":0,\"ticks\":\"\"}}}],\"scatterpolar\":[{\"type\":\"scatterpolar\",\"marker\":{\"colorbar\":{\"outlinewidth\":0,\"ticks\":\"\"}}}],\"histogram\":[{\"marker\":{\"pattern\":{\"fillmode\":\"overlay\",\"size\":10,\"solidity\":0.2}},\"type\":\"histogram\"}],\"scattergl\":[{\"type\":\"scattergl\",\"marker\":{\"colorbar\":{\"outlinewidth\":0,\"ticks\":\"\"}}}],\"scatter3d\":[{\"type\":\"scatter3d\",\"line\":{\"colorbar\":{\"outlinewidth\":0,\"ticks\":\"\"}},\"marker\":{\"colorbar\":{\"outlinewidth\":0,\"ticks\":\"\"}}}],\"scattermapbox\":[{\"type\":\"scattermapbox\",\"marker\":{\"colorbar\":{\"outlinewidth\":0,\"ticks\":\"\"}}}],\"scatterternary\":[{\"type\":\"scatterternary\",\"marker\":{\"colorbar\":{\"outlinewidth\":0,\"ticks\":\"\"}}}],\"scattercarpet\":[{\"type\":\"scattercarpet\",\"marker\":{\"colorbar\":{\"outlinewidth\":0,\"ticks\":\"\"}}}],\"carpet\":[{\"aaxis\":{\"endlinecolor\":\"#2a3f5f\",\"gridcolor\":\"white\",\"linecolor\":\"white\",\"minorgridcolor\":\"white\",\"startlinecolor\":\"#2a3f5f\"},\"baxis\":{\"endlinecolor\":\"#2a3f5f\",\"gridcolor\":\"white\",\"linecolor\":\"white\",\"minorgridcolor\":\"white\",\"startlinecolor\":\"#2a3f5f\"},\"type\":\"carpet\"}],\"table\":[{\"cells\":{\"fill\":{\"color\":\"#EBF0F8\"},\"line\":{\"color\":\"white\"}},\"header\":{\"fill\":{\"color\":\"#C8D4E3\"},\"line\":{\"color\":\"white\"}},\"type\":\"table\"}],\"barpolar\":[{\"marker\":{\"line\":{\"color\":\"#E5ECF6\",\"width\":0.5},\"pattern\":{\"fillmode\":\"overlay\",\"size\":10,\"solidity\":0.2}},\"type\":\"barpolar\"}],\"pie\":[{\"automargin\":true,\"type\":\"pie\"}]},\"layout\":{\"autotypenumbers\":\"strict\",\"colorway\":[\"#636efa\",\"#EF553B\",\"#00cc96\",\"#ab63fa\",\"#FFA15A\",\"#19d3f3\",\"#FF6692\",\"#B6E880\",\"#FF97FF\",\"#FECB52\"],\"font\":{\"color\":\"#2a3f5f\"},\"hovermode\":\"closest\",\"hoverlabel\":{\"align\":\"left\"},\"paper_bgcolor\":\"white\",\"plot_bgcolor\":\"#E5ECF6\",\"polar\":{\"bgcolor\":\"#E5ECF6\",\"angularaxis\":{\"gridcolor\":\"white\",\"linecolor\":\"white\",\"ticks\":\"\"},\"radialaxis\":{\"gridcolor\":\"white\",\"linecolor\":\"white\",\"ticks\":\"\"}},\"ternary\":{\"bgcolor\":\"#E5ECF6\",\"aaxis\":{\"gridcolor\":\"white\",\"linecolor\":\"white\",\"ticks\":\"\"},\"baxis\":{\"gridcolor\":\"white\",\"linecolor\":\"white\",\"ticks\":\"\"},\"caxis\":{\"gridcolor\":\"white\",\"linecolor\":\"white\",\"ticks\":\"\"}},\"coloraxis\":{\"colorbar\":{\"outlinewidth\":0,\"ticks\":\"\"}},\"colorscale\":{\"sequential\":[[0.0,\"#0d0887\"],[0.1111111111111111,\"#46039f\"],[0.2222222222222222,\"#7201a8\"],[0.3333333333333333,\"#9c179e\"],[0.4444444444444444,\"#bd3786\"],[0.5555555555555556,\"#d8576b\"],[0.6666666666666666,\"#ed7953\"],[0.7777777777777778,\"#fb9f3a\"],[0.8888888888888888,\"#fdca26\"],[1.0,\"#f0f921\"]],\"sequentialminus\":[[0.0,\"#0d0887\"],[0.1111111111111111,\"#46039f\"],[0.2222222222222222,\"#7201a8\"],[0.3333333333333333,\"#9c179e\"],[0.4444444444444444,\"#bd3786\"],[0.5555555555555556,\"#d8576b\"],[0.6666666666666666,\"#ed7953\"],[0.7777777777777778,\"#fb9f3a\"],[0.8888888888888888,\"#fdca26\"],[1.0,\"#f0f921\"]],\"diverging\":[[0,\"#8e0152\"],[0.1,\"#c51b7d\"],[0.2,\"#de77ae\"],[0.3,\"#f1b6da\"],[0.4,\"#fde0ef\"],[0.5,\"#f7f7f7\"],[0.6,\"#e6f5d0\"],[0.7,\"#b8e186\"],[0.8,\"#7fbc41\"],[0.9,\"#4d9221\"],[1,\"#276419\"]]},\"xaxis\":{\"gridcolor\":\"white\",\"linecolor\":\"white\",\"ticks\":\"\",\"title\":{\"standoff\":15},\"zerolinecolor\":\"white\",\"automargin\":true,\"zerolinewidth\":2},\"yaxis\":{\"gridcolor\":\"white\",\"linecolor\":\"white\",\"ticks\":\"\",\"title\":{\"standoff\":15},\"zerolinecolor\":\"white\",\"automargin\":true,\"zerolinewidth\":2},\"scene\":{\"xaxis\":{\"backgroundcolor\":\"#E5ECF6\",\"gridcolor\":\"white\",\"linecolor\":\"white\",\"showbackground\":true,\"ticks\":\"\",\"zerolinecolor\":\"white\",\"gridwidth\":2},\"yaxis\":{\"backgroundcolor\":\"#E5ECF6\",\"gridcolor\":\"white\",\"linecolor\":\"white\",\"showbackground\":true,\"ticks\":\"\",\"zerolinecolor\":\"white\",\"gridwidth\":2},\"zaxis\":{\"backgroundcolor\":\"#E5ECF6\",\"gridcolor\":\"white\",\"linecolor\":\"white\",\"showbackground\":true,\"ticks\":\"\",\"zerolinecolor\":\"white\",\"gridwidth\":2}},\"shapedefaults\":{\"line\":{\"color\":\"#2a3f5f\"}},\"annotationdefaults\":{\"arrowcolor\":\"#2a3f5f\",\"arrowhead\":0,\"arrowwidth\":1},\"geo\":{\"bgcolor\":\"white\",\"landcolor\":\"#E5ECF6\",\"subunitcolor\":\"white\",\"showland\":true,\"showlakes\":true,\"lakecolor\":\"white\"},\"title\":{\"x\":0.05},\"mapbox\":{\"style\":\"light\"}}},\"xaxis\":{\"anchor\":\"y\",\"domain\":[0.0,1.0],\"title\":{\"text\":\"Checkpoint\"}},\"yaxis\":{\"anchor\":\"x\",\"domain\":[0.0,1.0],\"title\":{\"text\":\"Value\"}},\"legend\":{\"title\":{\"text\":\"Layer-Head\"},\"tracegroupgap\":0},\"title\":{\"text\":\"Top Backup Heads Attribution Across Checkpoints (pythia-160m-hiddendropout)\"},\"height\":500},                        {\"responsive\": true}                    ).then(function(){\n",
       "                            \n",
       "var gd = document.getElementById('567a1e69-dc21-486b-8324-2593f743de57');\n",
       "var x = new MutationObserver(function (mutations, observer) {{\n",
       "        var display = window.getComputedStyle(gd).display;\n",
       "        if (!display || display === 'none') {{\n",
       "            console.log([gd, 'removed!']);\n",
       "            Plotly.purge(gd);\n",
       "            observer.disconnect();\n",
       "        }}\n",
       "}});\n",
       "\n",
       "// Listen for the removal of the full notebook cells\n",
       "var notebookContainer = gd.closest('#notebook-container');\n",
       "if (notebookContainer) {{\n",
       "    x.observe(notebookContainer, {childList: true});\n",
       "}}\n",
       "\n",
       "// Listen for the clearing of the current output cell\n",
       "var outputEl = gd.closest('.output');\n",
       "if (outputEl) {{\n",
       "    x.observe(outputEl, {childList: true});\n",
       "}}\n",
       "\n",
       "                        })                };                });            </script>        </div>"
      ]
     },
     "metadata": {},
     "output_type": "display_data"
    }
   ],
   "source": [
    "top_backup_heads = plot_top_heads(model_name=MODEL_TO_VIEW, checkpoint_dict=per_head_logit_diff_deltas, cumulative_nmhs=cumulative_nmhs, top_k_per_checkpoint=10)"
   ]
  },
  {
   "cell_type": "code",
   "execution_count": 57,
   "metadata": {},
   "outputs": [
    {
     "data": {
      "application/vnd.plotly.v1+json": {
       "config": {
        "plotlyServerURL": "https://plot.ly"
       },
       "data": [
        {
         "coloraxis": "coloraxis",
         "hovertemplate": "Head: %{x}<br>Layer: %{y}<br>Logit diff attribution: %{z}<extra></extra>",
         "name": "0",
         "type": "heatmap",
         "xaxis": "x",
         "yaxis": "y",
         "z": [
          [
           0,
           0,
           0,
           0,
           0,
           0,
           0,
           0,
           0,
           0,
           0,
           0
          ],
          [
           0,
           0,
           0,
           0,
           0,
           0,
           0,
           0,
           0,
           0,
           0,
           0
          ],
          [
           0,
           0,
           0,
           0,
           0,
           0,
           0,
           0,
           0,
           0,
           0,
           0
          ],
          [
           0,
           0,
           0,
           0,
           0,
           0,
           0,
           0,
           0,
           0,
           0,
           0
          ],
          [
           0,
           0,
           0,
           0,
           0,
           0,
           0,
           0,
           0,
           0,
           0,
           0
          ],
          [
           0,
           0,
           0,
           0,
           0,
           0,
           0,
           0,
           0,
           0,
           0,
           0
          ],
          [
           0,
           0,
           0,
           0,
           0,
           0,
           0,
           0,
           0,
           0,
           0,
           0
          ],
          [
           0,
           0,
           0,
           0,
           0,
           0,
           0,
           0,
           0,
           0,
           0,
           0
          ],
          [
           0,
           0,
           0,
           0,
           0,
           0,
           0,
           0,
           0,
           0,
           0,
           0
          ],
          [
           -0.00031765131279826164,
           0.3156936466693878,
           0.0032243020832538605,
           0.0043573444709181786,
           0.02283836156129837,
           0.1909862607717514,
           0.015091687440872192,
           0.03277648985385895,
           0.0030522309243679047,
           0.0035090791061520576,
           0.000053514144383370876,
           -0.00011852476745843887
          ],
          [
           -0.00014347699470818043,
           0.027818620204925537,
           -0.0041803522035479546,
           0.0003439248539507389,
           0.000005809706635773182,
           -0.001769278198480606,
           -0.0033143162727355957,
           0.039005570113658905,
           0.003304571844637394,
           -0.0014683082699775696,
           0.007542278617620468,
           -0.002905469387769699
          ],
          [
           -0.0010985229164361954,
           0.0011500654509291053,
           -0.0004440473858267069,
           0.00000995676964521408,
           -0.003775139572098851,
           0.02032054215669632,
           -0.0019474942237138748,
           -0.0006243046373128891,
           0.0016780085861682892,
           -0.00171709805727005,
           0.01802472025156021,
           -0.0001716803526505828
          ]
         ]
        }
       ],
       "layout": {
        "coloraxis": {
         "cmid": 0,
         "colorbar": {
          "title": {
           "text": "Logit diff attribution"
          }
         },
         "colorscale": [
          [
           0,
           "rgb(103,0,31)"
          ],
          [
           0.1,
           "rgb(178,24,43)"
          ],
          [
           0.2,
           "rgb(214,96,77)"
          ],
          [
           0.3,
           "rgb(244,165,130)"
          ],
          [
           0.4,
           "rgb(253,219,199)"
          ],
          [
           0.5,
           "rgb(247,247,247)"
          ],
          [
           0.6,
           "rgb(209,229,240)"
          ],
          [
           0.7,
           "rgb(146,197,222)"
          ],
          [
           0.8,
           "rgb(67,147,195)"
          ],
          [
           0.9,
           "rgb(33,102,172)"
          ],
          [
           1,
           "rgb(5,48,97)"
          ]
         ]
        },
        "margin": {
         "l": 100,
         "r": 100
        },
        "template": {
         "data": {
          "bar": [
           {
            "error_x": {
             "color": "#2a3f5f"
            },
            "error_y": {
             "color": "#2a3f5f"
            },
            "marker": {
             "line": {
              "color": "#E5ECF6",
              "width": 0.5
             },
             "pattern": {
              "fillmode": "overlay",
              "size": 10,
              "solidity": 0.2
             }
            },
            "type": "bar"
           }
          ],
          "barpolar": [
           {
            "marker": {
             "line": {
              "color": "#E5ECF6",
              "width": 0.5
             },
             "pattern": {
              "fillmode": "overlay",
              "size": 10,
              "solidity": 0.2
             }
            },
            "type": "barpolar"
           }
          ],
          "carpet": [
           {
            "aaxis": {
             "endlinecolor": "#2a3f5f",
             "gridcolor": "white",
             "linecolor": "white",
             "minorgridcolor": "white",
             "startlinecolor": "#2a3f5f"
            },
            "baxis": {
             "endlinecolor": "#2a3f5f",
             "gridcolor": "white",
             "linecolor": "white",
             "minorgridcolor": "white",
             "startlinecolor": "#2a3f5f"
            },
            "type": "carpet"
           }
          ],
          "choropleth": [
           {
            "colorbar": {
             "outlinewidth": 0,
             "ticks": ""
            },
            "type": "choropleth"
           }
          ],
          "contour": [
           {
            "colorbar": {
             "outlinewidth": 0,
             "ticks": ""
            },
            "colorscale": [
             [
              0,
              "#0d0887"
             ],
             [
              0.1111111111111111,
              "#46039f"
             ],
             [
              0.2222222222222222,
              "#7201a8"
             ],
             [
              0.3333333333333333,
              "#9c179e"
             ],
             [
              0.4444444444444444,
              "#bd3786"
             ],
             [
              0.5555555555555556,
              "#d8576b"
             ],
             [
              0.6666666666666666,
              "#ed7953"
             ],
             [
              0.7777777777777778,
              "#fb9f3a"
             ],
             [
              0.8888888888888888,
              "#fdca26"
             ],
             [
              1,
              "#f0f921"
             ]
            ],
            "type": "contour"
           }
          ],
          "contourcarpet": [
           {
            "colorbar": {
             "outlinewidth": 0,
             "ticks": ""
            },
            "type": "contourcarpet"
           }
          ],
          "heatmap": [
           {
            "colorbar": {
             "outlinewidth": 0,
             "ticks": ""
            },
            "colorscale": [
             [
              0,
              "#0d0887"
             ],
             [
              0.1111111111111111,
              "#46039f"
             ],
             [
              0.2222222222222222,
              "#7201a8"
             ],
             [
              0.3333333333333333,
              "#9c179e"
             ],
             [
              0.4444444444444444,
              "#bd3786"
             ],
             [
              0.5555555555555556,
              "#d8576b"
             ],
             [
              0.6666666666666666,
              "#ed7953"
             ],
             [
              0.7777777777777778,
              "#fb9f3a"
             ],
             [
              0.8888888888888888,
              "#fdca26"
             ],
             [
              1,
              "#f0f921"
             ]
            ],
            "type": "heatmap"
           }
          ],
          "heatmapgl": [
           {
            "colorbar": {
             "outlinewidth": 0,
             "ticks": ""
            },
            "colorscale": [
             [
              0,
              "#0d0887"
             ],
             [
              0.1111111111111111,
              "#46039f"
             ],
             [
              0.2222222222222222,
              "#7201a8"
             ],
             [
              0.3333333333333333,
              "#9c179e"
             ],
             [
              0.4444444444444444,
              "#bd3786"
             ],
             [
              0.5555555555555556,
              "#d8576b"
             ],
             [
              0.6666666666666666,
              "#ed7953"
             ],
             [
              0.7777777777777778,
              "#fb9f3a"
             ],
             [
              0.8888888888888888,
              "#fdca26"
             ],
             [
              1,
              "#f0f921"
             ]
            ],
            "type": "heatmapgl"
           }
          ],
          "histogram": [
           {
            "marker": {
             "pattern": {
              "fillmode": "overlay",
              "size": 10,
              "solidity": 0.2
             }
            },
            "type": "histogram"
           }
          ],
          "histogram2d": [
           {
            "colorbar": {
             "outlinewidth": 0,
             "ticks": ""
            },
            "colorscale": [
             [
              0,
              "#0d0887"
             ],
             [
              0.1111111111111111,
              "#46039f"
             ],
             [
              0.2222222222222222,
              "#7201a8"
             ],
             [
              0.3333333333333333,
              "#9c179e"
             ],
             [
              0.4444444444444444,
              "#bd3786"
             ],
             [
              0.5555555555555556,
              "#d8576b"
             ],
             [
              0.6666666666666666,
              "#ed7953"
             ],
             [
              0.7777777777777778,
              "#fb9f3a"
             ],
             [
              0.8888888888888888,
              "#fdca26"
             ],
             [
              1,
              "#f0f921"
             ]
            ],
            "type": "histogram2d"
           }
          ],
          "histogram2dcontour": [
           {
            "colorbar": {
             "outlinewidth": 0,
             "ticks": ""
            },
            "colorscale": [
             [
              0,
              "#0d0887"
             ],
             [
              0.1111111111111111,
              "#46039f"
             ],
             [
              0.2222222222222222,
              "#7201a8"
             ],
             [
              0.3333333333333333,
              "#9c179e"
             ],
             [
              0.4444444444444444,
              "#bd3786"
             ],
             [
              0.5555555555555556,
              "#d8576b"
             ],
             [
              0.6666666666666666,
              "#ed7953"
             ],
             [
              0.7777777777777778,
              "#fb9f3a"
             ],
             [
              0.8888888888888888,
              "#fdca26"
             ],
             [
              1,
              "#f0f921"
             ]
            ],
            "type": "histogram2dcontour"
           }
          ],
          "mesh3d": [
           {
            "colorbar": {
             "outlinewidth": 0,
             "ticks": ""
            },
            "type": "mesh3d"
           }
          ],
          "parcoords": [
           {
            "line": {
             "colorbar": {
              "outlinewidth": 0,
              "ticks": ""
             }
            },
            "type": "parcoords"
           }
          ],
          "pie": [
           {
            "automargin": true,
            "type": "pie"
           }
          ],
          "scatter": [
           {
            "fillpattern": {
             "fillmode": "overlay",
             "size": 10,
             "solidity": 0.2
            },
            "type": "scatter"
           }
          ],
          "scatter3d": [
           {
            "line": {
             "colorbar": {
              "outlinewidth": 0,
              "ticks": ""
             }
            },
            "marker": {
             "colorbar": {
              "outlinewidth": 0,
              "ticks": ""
             }
            },
            "type": "scatter3d"
           }
          ],
          "scattercarpet": [
           {
            "marker": {
             "colorbar": {
              "outlinewidth": 0,
              "ticks": ""
             }
            },
            "type": "scattercarpet"
           }
          ],
          "scattergeo": [
           {
            "marker": {
             "colorbar": {
              "outlinewidth": 0,
              "ticks": ""
             }
            },
            "type": "scattergeo"
           }
          ],
          "scattergl": [
           {
            "marker": {
             "colorbar": {
              "outlinewidth": 0,
              "ticks": ""
             }
            },
            "type": "scattergl"
           }
          ],
          "scattermapbox": [
           {
            "marker": {
             "colorbar": {
              "outlinewidth": 0,
              "ticks": ""
             }
            },
            "type": "scattermapbox"
           }
          ],
          "scatterpolar": [
           {
            "marker": {
             "colorbar": {
              "outlinewidth": 0,
              "ticks": ""
             }
            },
            "type": "scatterpolar"
           }
          ],
          "scatterpolargl": [
           {
            "marker": {
             "colorbar": {
              "outlinewidth": 0,
              "ticks": ""
             }
            },
            "type": "scatterpolargl"
           }
          ],
          "scatterternary": [
           {
            "marker": {
             "colorbar": {
              "outlinewidth": 0,
              "ticks": ""
             }
            },
            "type": "scatterternary"
           }
          ],
          "surface": [
           {
            "colorbar": {
             "outlinewidth": 0,
             "ticks": ""
            },
            "colorscale": [
             [
              0,
              "#0d0887"
             ],
             [
              0.1111111111111111,
              "#46039f"
             ],
             [
              0.2222222222222222,
              "#7201a8"
             ],
             [
              0.3333333333333333,
              "#9c179e"
             ],
             [
              0.4444444444444444,
              "#bd3786"
             ],
             [
              0.5555555555555556,
              "#d8576b"
             ],
             [
              0.6666666666666666,
              "#ed7953"
             ],
             [
              0.7777777777777778,
              "#fb9f3a"
             ],
             [
              0.8888888888888888,
              "#fdca26"
             ],
             [
              1,
              "#f0f921"
             ]
            ],
            "type": "surface"
           }
          ],
          "table": [
           {
            "cells": {
             "fill": {
              "color": "#EBF0F8"
             },
             "line": {
              "color": "white"
             }
            },
            "header": {
             "fill": {
              "color": "#C8D4E3"
             },
             "line": {
              "color": "white"
             }
            },
            "type": "table"
           }
          ]
         },
         "layout": {
          "annotationdefaults": {
           "arrowcolor": "#2a3f5f",
           "arrowhead": 0,
           "arrowwidth": 1
          },
          "autotypenumbers": "strict",
          "coloraxis": {
           "colorbar": {
            "outlinewidth": 0,
            "ticks": ""
           }
          },
          "colorscale": {
           "diverging": [
            [
             0,
             "#8e0152"
            ],
            [
             0.1,
             "#c51b7d"
            ],
            [
             0.2,
             "#de77ae"
            ],
            [
             0.3,
             "#f1b6da"
            ],
            [
             0.4,
             "#fde0ef"
            ],
            [
             0.5,
             "#f7f7f7"
            ],
            [
             0.6,
             "#e6f5d0"
            ],
            [
             0.7,
             "#b8e186"
            ],
            [
             0.8,
             "#7fbc41"
            ],
            [
             0.9,
             "#4d9221"
            ],
            [
             1,
             "#276419"
            ]
           ],
           "sequential": [
            [
             0,
             "#0d0887"
            ],
            [
             0.1111111111111111,
             "#46039f"
            ],
            [
             0.2222222222222222,
             "#7201a8"
            ],
            [
             0.3333333333333333,
             "#9c179e"
            ],
            [
             0.4444444444444444,
             "#bd3786"
            ],
            [
             0.5555555555555556,
             "#d8576b"
            ],
            [
             0.6666666666666666,
             "#ed7953"
            ],
            [
             0.7777777777777778,
             "#fb9f3a"
            ],
            [
             0.8888888888888888,
             "#fdca26"
            ],
            [
             1,
             "#f0f921"
            ]
           ],
           "sequentialminus": [
            [
             0,
             "#0d0887"
            ],
            [
             0.1111111111111111,
             "#46039f"
            ],
            [
             0.2222222222222222,
             "#7201a8"
            ],
            [
             0.3333333333333333,
             "#9c179e"
            ],
            [
             0.4444444444444444,
             "#bd3786"
            ],
            [
             0.5555555555555556,
             "#d8576b"
            ],
            [
             0.6666666666666666,
             "#ed7953"
            ],
            [
             0.7777777777777778,
             "#fb9f3a"
            ],
            [
             0.8888888888888888,
             "#fdca26"
            ],
            [
             1,
             "#f0f921"
            ]
           ]
          },
          "colorway": [
           "#636efa",
           "#EF553B",
           "#00cc96",
           "#ab63fa",
           "#FFA15A",
           "#19d3f3",
           "#FF6692",
           "#B6E880",
           "#FF97FF",
           "#FECB52"
          ],
          "font": {
           "color": "#2a3f5f"
          },
          "geo": {
           "bgcolor": "white",
           "lakecolor": "white",
           "landcolor": "#E5ECF6",
           "showlakes": true,
           "showland": true,
           "subunitcolor": "white"
          },
          "hoverlabel": {
           "align": "left"
          },
          "hovermode": "closest",
          "mapbox": {
           "style": "light"
          },
          "paper_bgcolor": "white",
          "plot_bgcolor": "#E5ECF6",
          "polar": {
           "angularaxis": {
            "gridcolor": "white",
            "linecolor": "white",
            "ticks": ""
           },
           "bgcolor": "#E5ECF6",
           "radialaxis": {
            "gridcolor": "white",
            "linecolor": "white",
            "ticks": ""
           }
          },
          "scene": {
           "xaxis": {
            "backgroundcolor": "#E5ECF6",
            "gridcolor": "white",
            "gridwidth": 2,
            "linecolor": "white",
            "showbackground": true,
            "ticks": "",
            "zerolinecolor": "white"
           },
           "yaxis": {
            "backgroundcolor": "#E5ECF6",
            "gridcolor": "white",
            "gridwidth": 2,
            "linecolor": "white",
            "showbackground": true,
            "ticks": "",
            "zerolinecolor": "white"
           },
           "zaxis": {
            "backgroundcolor": "#E5ECF6",
            "gridcolor": "white",
            "gridwidth": 2,
            "linecolor": "white",
            "showbackground": true,
            "ticks": "",
            "zerolinecolor": "white"
           }
          },
          "shapedefaults": {
           "line": {
            "color": "#2a3f5f"
           }
          },
          "ternary": {
           "aaxis": {
            "gridcolor": "white",
            "linecolor": "white",
            "ticks": ""
           },
           "baxis": {
            "gridcolor": "white",
            "linecolor": "white",
            "ticks": ""
           },
           "bgcolor": "#E5ECF6",
           "caxis": {
            "gridcolor": "white",
            "linecolor": "white",
            "ticks": ""
           }
          },
          "title": {
           "x": 0.05
          },
          "xaxis": {
           "automargin": true,
           "gridcolor": "white",
           "linecolor": "white",
           "ticks": "",
           "title": {
            "standoff": 15
           },
           "zerolinecolor": "white",
           "zerolinewidth": 2
          },
          "yaxis": {
           "automargin": true,
           "gridcolor": "white",
           "linecolor": "white",
           "ticks": "",
           "title": {
            "standoff": 15
           },
           "zerolinecolor": "white",
           "zerolinewidth": 2
          }
         }
        },
        "title": {
         "text": "Headwise logit diff contribution, post NMH KO"
        },
        "width": 600,
        "xaxis": {
         "anchor": "y",
         "constrain": "domain",
         "domain": [
          0,
          1
         ],
         "linecolor": "black",
         "linewidth": 1,
         "mirror": true,
         "scaleanchor": "y",
         "showline": true,
         "title": {
          "text": "Head"
         }
        },
        "yaxis": {
         "anchor": "x",
         "autorange": "reversed",
         "constrain": "domain",
         "domain": [
          0,
          1
         ],
         "linecolor": "black",
         "linewidth": 1,
         "mirror": true,
         "showline": true,
         "title": {
          "text": "Layer"
         }
        }
       }
      },
      "text/html": [
       "<div>                            <div id=\"ff1a0e17-38be-4c43-99f6-37b628aadbba\" class=\"plotly-graph-div\" style=\"height:525px; width:600px;\"></div>            <script type=\"text/javascript\">                require([\"plotly\"], function(Plotly) {                    window.PLOTLYENV=window.PLOTLYENV || {};                                    if (document.getElementById(\"ff1a0e17-38be-4c43-99f6-37b628aadbba\")) {                    Plotly.newPlot(                        \"ff1a0e17-38be-4c43-99f6-37b628aadbba\",                        [{\"coloraxis\":\"coloraxis\",\"name\":\"0\",\"z\":[[0.0,0.0,0.0,0.0,0.0,0.0,0.0,0.0,0.0,0.0,0.0,0.0],[0.0,0.0,0.0,0.0,0.0,0.0,0.0,0.0,0.0,0.0,0.0,0.0],[0.0,0.0,0.0,0.0,0.0,0.0,0.0,0.0,0.0,0.0,0.0,0.0],[0.0,0.0,0.0,0.0,0.0,0.0,0.0,0.0,0.0,0.0,0.0,0.0],[0.0,0.0,0.0,0.0,0.0,0.0,0.0,0.0,0.0,0.0,0.0,0.0],[0.0,0.0,0.0,0.0,0.0,0.0,0.0,0.0,0.0,0.0,0.0,0.0],[0.0,0.0,0.0,0.0,0.0,0.0,0.0,0.0,0.0,0.0,0.0,0.0],[0.0,0.0,0.0,0.0,0.0,0.0,0.0,0.0,0.0,0.0,0.0,0.0],[0.0,0.0,0.0,0.0,0.0,0.0,0.0,0.0,0.0,0.0,0.0,0.0],[-0.00031765131279826164,0.3156936466693878,0.0032243020832538605,0.0043573444709181786,0.02283836156129837,0.1909862607717514,0.015091687440872192,0.03277648985385895,0.0030522309243679047,0.0035090791061520576,5.3514144383370876e-05,-0.00011852476745843887],[-0.00014347699470818043,0.027818620204925537,-0.0041803522035479546,0.0003439248539507389,5.809706635773182e-06,-0.001769278198480606,-0.0033143162727355957,0.039005570113658905,0.003304571844637394,-0.0014683082699775696,0.007542278617620468,-0.002905469387769699],[-0.0010985229164361954,0.0011500654509291053,-0.0004440473858267069,9.95676964521408e-06,-0.003775139572098851,0.02032054215669632,-0.0019474942237138748,-0.0006243046373128891,0.0016780085861682892,-0.00171709805727005,0.01802472025156021,-0.0001716803526505828]],\"type\":\"heatmap\",\"xaxis\":\"x\",\"yaxis\":\"y\",\"hovertemplate\":\"Head: %{x}\\u003cbr\\u003eLayer: %{y}\\u003cbr\\u003eLogit diff attribution: %{z}\\u003cextra\\u003e\\u003c\\u002fextra\\u003e\"}],                        {\"template\":{\"data\":{\"histogram2dcontour\":[{\"type\":\"histogram2dcontour\",\"colorbar\":{\"outlinewidth\":0,\"ticks\":\"\"},\"colorscale\":[[0.0,\"#0d0887\"],[0.1111111111111111,\"#46039f\"],[0.2222222222222222,\"#7201a8\"],[0.3333333333333333,\"#9c179e\"],[0.4444444444444444,\"#bd3786\"],[0.5555555555555556,\"#d8576b\"],[0.6666666666666666,\"#ed7953\"],[0.7777777777777778,\"#fb9f3a\"],[0.8888888888888888,\"#fdca26\"],[1.0,\"#f0f921\"]]}],\"choropleth\":[{\"type\":\"choropleth\",\"colorbar\":{\"outlinewidth\":0,\"ticks\":\"\"}}],\"histogram2d\":[{\"type\":\"histogram2d\",\"colorbar\":{\"outlinewidth\":0,\"ticks\":\"\"},\"colorscale\":[[0.0,\"#0d0887\"],[0.1111111111111111,\"#46039f\"],[0.2222222222222222,\"#7201a8\"],[0.3333333333333333,\"#9c179e\"],[0.4444444444444444,\"#bd3786\"],[0.5555555555555556,\"#d8576b\"],[0.6666666666666666,\"#ed7953\"],[0.7777777777777778,\"#fb9f3a\"],[0.8888888888888888,\"#fdca26\"],[1.0,\"#f0f921\"]]}],\"heatmap\":[{\"type\":\"heatmap\",\"colorbar\":{\"outlinewidth\":0,\"ticks\":\"\"},\"colorscale\":[[0.0,\"#0d0887\"],[0.1111111111111111,\"#46039f\"],[0.2222222222222222,\"#7201a8\"],[0.3333333333333333,\"#9c179e\"],[0.4444444444444444,\"#bd3786\"],[0.5555555555555556,\"#d8576b\"],[0.6666666666666666,\"#ed7953\"],[0.7777777777777778,\"#fb9f3a\"],[0.8888888888888888,\"#fdca26\"],[1.0,\"#f0f921\"]]}],\"heatmapgl\":[{\"type\":\"heatmapgl\",\"colorbar\":{\"outlinewidth\":0,\"ticks\":\"\"},\"colorscale\":[[0.0,\"#0d0887\"],[0.1111111111111111,\"#46039f\"],[0.2222222222222222,\"#7201a8\"],[0.3333333333333333,\"#9c179e\"],[0.4444444444444444,\"#bd3786\"],[0.5555555555555556,\"#d8576b\"],[0.6666666666666666,\"#ed7953\"],[0.7777777777777778,\"#fb9f3a\"],[0.8888888888888888,\"#fdca26\"],[1.0,\"#f0f921\"]]}],\"contourcarpet\":[{\"type\":\"contourcarpet\",\"colorbar\":{\"outlinewidth\":0,\"ticks\":\"\"}}],\"contour\":[{\"type\":\"contour\",\"colorbar\":{\"outlinewidth\":0,\"ticks\":\"\"},\"colorscale\":[[0.0,\"#0d0887\"],[0.1111111111111111,\"#46039f\"],[0.2222222222222222,\"#7201a8\"],[0.3333333333333333,\"#9c179e\"],[0.4444444444444444,\"#bd3786\"],[0.5555555555555556,\"#d8576b\"],[0.6666666666666666,\"#ed7953\"],[0.7777777777777778,\"#fb9f3a\"],[0.8888888888888888,\"#fdca26\"],[1.0,\"#f0f921\"]]}],\"surface\":[{\"type\":\"surface\",\"colorbar\":{\"outlinewidth\":0,\"ticks\":\"\"},\"colorscale\":[[0.0,\"#0d0887\"],[0.1111111111111111,\"#46039f\"],[0.2222222222222222,\"#7201a8\"],[0.3333333333333333,\"#9c179e\"],[0.4444444444444444,\"#bd3786\"],[0.5555555555555556,\"#d8576b\"],[0.6666666666666666,\"#ed7953\"],[0.7777777777777778,\"#fb9f3a\"],[0.8888888888888888,\"#fdca26\"],[1.0,\"#f0f921\"]]}],\"mesh3d\":[{\"type\":\"mesh3d\",\"colorbar\":{\"outlinewidth\":0,\"ticks\":\"\"}}],\"scatter\":[{\"fillpattern\":{\"fillmode\":\"overlay\",\"size\":10,\"solidity\":0.2},\"type\":\"scatter\"}],\"parcoords\":[{\"type\":\"parcoords\",\"line\":{\"colorbar\":{\"outlinewidth\":0,\"ticks\":\"\"}}}],\"scatterpolargl\":[{\"type\":\"scatterpolargl\",\"marker\":{\"colorbar\":{\"outlinewidth\":0,\"ticks\":\"\"}}}],\"bar\":[{\"error_x\":{\"color\":\"#2a3f5f\"},\"error_y\":{\"color\":\"#2a3f5f\"},\"marker\":{\"line\":{\"color\":\"#E5ECF6\",\"width\":0.5},\"pattern\":{\"fillmode\":\"overlay\",\"size\":10,\"solidity\":0.2}},\"type\":\"bar\"}],\"scattergeo\":[{\"type\":\"scattergeo\",\"marker\":{\"colorbar\":{\"outlinewidth\":0,\"ticks\":\"\"}}}],\"scatterpolar\":[{\"type\":\"scatterpolar\",\"marker\":{\"colorbar\":{\"outlinewidth\":0,\"ticks\":\"\"}}}],\"histogram\":[{\"marker\":{\"pattern\":{\"fillmode\":\"overlay\",\"size\":10,\"solidity\":0.2}},\"type\":\"histogram\"}],\"scattergl\":[{\"type\":\"scattergl\",\"marker\":{\"colorbar\":{\"outlinewidth\":0,\"ticks\":\"\"}}}],\"scatter3d\":[{\"type\":\"scatter3d\",\"line\":{\"colorbar\":{\"outlinewidth\":0,\"ticks\":\"\"}},\"marker\":{\"colorbar\":{\"outlinewidth\":0,\"ticks\":\"\"}}}],\"scattermapbox\":[{\"type\":\"scattermapbox\",\"marker\":{\"colorbar\":{\"outlinewidth\":0,\"ticks\":\"\"}}}],\"scatterternary\":[{\"type\":\"scatterternary\",\"marker\":{\"colorbar\":{\"outlinewidth\":0,\"ticks\":\"\"}}}],\"scattercarpet\":[{\"type\":\"scattercarpet\",\"marker\":{\"colorbar\":{\"outlinewidth\":0,\"ticks\":\"\"}}}],\"carpet\":[{\"aaxis\":{\"endlinecolor\":\"#2a3f5f\",\"gridcolor\":\"white\",\"linecolor\":\"white\",\"minorgridcolor\":\"white\",\"startlinecolor\":\"#2a3f5f\"},\"baxis\":{\"endlinecolor\":\"#2a3f5f\",\"gridcolor\":\"white\",\"linecolor\":\"white\",\"minorgridcolor\":\"white\",\"startlinecolor\":\"#2a3f5f\"},\"type\":\"carpet\"}],\"table\":[{\"cells\":{\"fill\":{\"color\":\"#EBF0F8\"},\"line\":{\"color\":\"white\"}},\"header\":{\"fill\":{\"color\":\"#C8D4E3\"},\"line\":{\"color\":\"white\"}},\"type\":\"table\"}],\"barpolar\":[{\"marker\":{\"line\":{\"color\":\"#E5ECF6\",\"width\":0.5},\"pattern\":{\"fillmode\":\"overlay\",\"size\":10,\"solidity\":0.2}},\"type\":\"barpolar\"}],\"pie\":[{\"automargin\":true,\"type\":\"pie\"}]},\"layout\":{\"autotypenumbers\":\"strict\",\"colorway\":[\"#636efa\",\"#EF553B\",\"#00cc96\",\"#ab63fa\",\"#FFA15A\",\"#19d3f3\",\"#FF6692\",\"#B6E880\",\"#FF97FF\",\"#FECB52\"],\"font\":{\"color\":\"#2a3f5f\"},\"hovermode\":\"closest\",\"hoverlabel\":{\"align\":\"left\"},\"paper_bgcolor\":\"white\",\"plot_bgcolor\":\"#E5ECF6\",\"polar\":{\"bgcolor\":\"#E5ECF6\",\"angularaxis\":{\"gridcolor\":\"white\",\"linecolor\":\"white\",\"ticks\":\"\"},\"radialaxis\":{\"gridcolor\":\"white\",\"linecolor\":\"white\",\"ticks\":\"\"}},\"ternary\":{\"bgcolor\":\"#E5ECF6\",\"aaxis\":{\"gridcolor\":\"white\",\"linecolor\":\"white\",\"ticks\":\"\"},\"baxis\":{\"gridcolor\":\"white\",\"linecolor\":\"white\",\"ticks\":\"\"},\"caxis\":{\"gridcolor\":\"white\",\"linecolor\":\"white\",\"ticks\":\"\"}},\"coloraxis\":{\"colorbar\":{\"outlinewidth\":0,\"ticks\":\"\"}},\"colorscale\":{\"sequential\":[[0.0,\"#0d0887\"],[0.1111111111111111,\"#46039f\"],[0.2222222222222222,\"#7201a8\"],[0.3333333333333333,\"#9c179e\"],[0.4444444444444444,\"#bd3786\"],[0.5555555555555556,\"#d8576b\"],[0.6666666666666666,\"#ed7953\"],[0.7777777777777778,\"#fb9f3a\"],[0.8888888888888888,\"#fdca26\"],[1.0,\"#f0f921\"]],\"sequentialminus\":[[0.0,\"#0d0887\"],[0.1111111111111111,\"#46039f\"],[0.2222222222222222,\"#7201a8\"],[0.3333333333333333,\"#9c179e\"],[0.4444444444444444,\"#bd3786\"],[0.5555555555555556,\"#d8576b\"],[0.6666666666666666,\"#ed7953\"],[0.7777777777777778,\"#fb9f3a\"],[0.8888888888888888,\"#fdca26\"],[1.0,\"#f0f921\"]],\"diverging\":[[0,\"#8e0152\"],[0.1,\"#c51b7d\"],[0.2,\"#de77ae\"],[0.3,\"#f1b6da\"],[0.4,\"#fde0ef\"],[0.5,\"#f7f7f7\"],[0.6,\"#e6f5d0\"],[0.7,\"#b8e186\"],[0.8,\"#7fbc41\"],[0.9,\"#4d9221\"],[1,\"#276419\"]]},\"xaxis\":{\"gridcolor\":\"white\",\"linecolor\":\"white\",\"ticks\":\"\",\"title\":{\"standoff\":15},\"zerolinecolor\":\"white\",\"automargin\":true,\"zerolinewidth\":2},\"yaxis\":{\"gridcolor\":\"white\",\"linecolor\":\"white\",\"ticks\":\"\",\"title\":{\"standoff\":15},\"zerolinecolor\":\"white\",\"automargin\":true,\"zerolinewidth\":2},\"scene\":{\"xaxis\":{\"backgroundcolor\":\"#E5ECF6\",\"gridcolor\":\"white\",\"linecolor\":\"white\",\"showbackground\":true,\"ticks\":\"\",\"zerolinecolor\":\"white\",\"gridwidth\":2},\"yaxis\":{\"backgroundcolor\":\"#E5ECF6\",\"gridcolor\":\"white\",\"linecolor\":\"white\",\"showbackground\":true,\"ticks\":\"\",\"zerolinecolor\":\"white\",\"gridwidth\":2},\"zaxis\":{\"backgroundcolor\":\"#E5ECF6\",\"gridcolor\":\"white\",\"linecolor\":\"white\",\"showbackground\":true,\"ticks\":\"\",\"zerolinecolor\":\"white\",\"gridwidth\":2}},\"shapedefaults\":{\"line\":{\"color\":\"#2a3f5f\"}},\"annotationdefaults\":{\"arrowcolor\":\"#2a3f5f\",\"arrowhead\":0,\"arrowwidth\":1},\"geo\":{\"bgcolor\":\"white\",\"landcolor\":\"#E5ECF6\",\"subunitcolor\":\"white\",\"showland\":true,\"showlakes\":true,\"lakecolor\":\"white\"},\"title\":{\"x\":0.05},\"mapbox\":{\"style\":\"light\"}}},\"xaxis\":{\"anchor\":\"y\",\"domain\":[0.0,1.0],\"scaleanchor\":\"y\",\"constrain\":\"domain\",\"title\":{\"text\":\"Head\"},\"showline\":true,\"linewidth\":1,\"linecolor\":\"black\",\"mirror\":true},\"yaxis\":{\"anchor\":\"x\",\"domain\":[0.0,1.0],\"autorange\":\"reversed\",\"constrain\":\"domain\",\"title\":{\"text\":\"Layer\"},\"showline\":true,\"linewidth\":1,\"linecolor\":\"black\",\"mirror\":true},\"coloraxis\":{\"colorbar\":{\"title\":{\"text\":\"Logit diff attribution\"}},\"colorscale\":[[0.0,\"rgb(103,0,31)\"],[0.1,\"rgb(178,24,43)\"],[0.2,\"rgb(214,96,77)\"],[0.3,\"rgb(244,165,130)\"],[0.4,\"rgb(253,219,199)\"],[0.5,\"rgb(247,247,247)\"],[0.6,\"rgb(209,229,240)\"],[0.7,\"rgb(146,197,222)\"],[0.8,\"rgb(67,147,195)\"],[0.9,\"rgb(33,102,172)\"],[1.0,\"rgb(5,48,97)\"]],\"cmid\":0.0},\"title\":{\"text\":\"Headwise logit diff contribution, post NMH KO\"},\"width\":600,\"margin\":{\"r\":100,\"l\":100}},                        {\"responsive\": true}                    ).then(function(){\n",
       "                            \n",
       "var gd = document.getElementById('ff1a0e17-38be-4c43-99f6-37b628aadbba');\n",
       "var x = new MutationObserver(function (mutations, observer) {{\n",
       "        var display = window.getComputedStyle(gd).display;\n",
       "        if (!display || display === 'none') {{\n",
       "            console.log([gd, 'removed!']);\n",
       "            Plotly.purge(gd);\n",
       "            observer.disconnect();\n",
       "        }}\n",
       "}});\n",
       "\n",
       "// Listen for the removal of the full notebook cells\n",
       "var notebookContainer = gd.closest('#notebook-container');\n",
       "if (notebookContainer) {{\n",
       "    x.observe(notebookContainer, {childList: true});\n",
       "}}\n",
       "\n",
       "// Listen for the clearing of the current output cell\n",
       "var outputEl = gd.closest('.output');\n",
       "if (outputEl) {{\n",
       "    x.observe(outputEl, {childList: true});\n",
       "}}\n",
       "\n",
       "                        })                };                });            </script>        </div>"
      ]
     },
     "metadata": {},
     "output_type": "display_data"
    }
   ],
   "source": [
    "#per_head_logit_diff_deltas\n",
    "\n",
    "imshow_p(\n",
    "    experiment_metrics[143000]['per_head_logit_diff_delta'], #[143000],\n",
    "    title=\"Headwise logit diff contribution, post NMH KO\",\n",
    "    labels={\"x\": \"Head\", \"y\": \"Layer\", \"color\": \"Logit diff attribution\"},\n",
    "    #coloraxis=dict(colorbar_ticksuffix = \"%\"),\n",
    "    border=True,\n",
    "    width=600,\n",
    "    margin={\"r\": 100, \"l\": 100}\n",
    ")"
   ]
  },
  {
   "cell_type": "code",
   "execution_count": 58,
   "metadata": {},
   "outputs": [
    {
     "data": {
      "text/plain": [
       "dict_keys(['logit_diff', 'per_head_logit_diffs', 'ablation_targets', 'ablated_logit_diff', 'per_head_ablated_logit_diffs', 'per_head_logit_diff_delta', 'in_circuit_head_delta', 'outside_circuit_head_delta', 'summed_in_circuit_head_delta', 'summed_outside_circuit_head_delta', 'summed_total_head_delta'])"
      ]
     },
     "execution_count": 58,
     "metadata": {},
     "output_type": "execute_result"
    }
   ],
   "source": [
    "experiment_metrics[143000].keys()"
   ]
  },
  {
   "cell_type": "code",
   "execution_count": 59,
   "metadata": {},
   "outputs": [
    {
     "data": {
      "text/html": [
       "<div>\n",
       "<style scoped>\n",
       "    .dataframe tbody tr th:only-of-type {\n",
       "        vertical-align: middle;\n",
       "    }\n",
       "\n",
       "    .dataframe tbody tr th {\n",
       "        vertical-align: top;\n",
       "    }\n",
       "\n",
       "    .dataframe thead th {\n",
       "        text-align: right;\n",
       "    }\n",
       "</style>\n",
       "<table border=\"1\" class=\"dataframe\">\n",
       "  <thead>\n",
       "    <tr style=\"text-align: right;\">\n",
       "      <th></th>\n",
       "      <th>Checkpoint</th>\n",
       "      <th>Layer-Head</th>\n",
       "      <th>Layer</th>\n",
       "      <th>Head</th>\n",
       "      <th>Value</th>\n",
       "      <th>Previous NMH</th>\n",
       "      <th>Checkpoint_sum</th>\n",
       "      <th>Value_sum</th>\n",
       "      <th>Previous NMH_sum</th>\n",
       "      <th>Top K</th>\n",
       "    </tr>\n",
       "  </thead>\n",
       "  <tbody>\n",
       "    <tr>\n",
       "      <th>72</th>\n",
       "      <td>20000</td>\n",
       "      <td>Layer 9-Head 4</td>\n",
       "      <td>9</td>\n",
       "      <td>4</td>\n",
       "      <td>0.002460</td>\n",
       "      <td>True</td>\n",
       "      <td>3135000</td>\n",
       "      <td>0.334368</td>\n",
       "      <td>38</td>\n",
       "      <td>True</td>\n",
       "    </tr>\n",
       "    <tr>\n",
       "      <th>97</th>\n",
       "      <td>25000</td>\n",
       "      <td>Layer 9-Head 4</td>\n",
       "      <td>9</td>\n",
       "      <td>4</td>\n",
       "      <td>0.006947</td>\n",
       "      <td>True</td>\n",
       "      <td>3135000</td>\n",
       "      <td>0.334368</td>\n",
       "      <td>38</td>\n",
       "      <td>True</td>\n",
       "    </tr>\n",
       "    <tr>\n",
       "      <th>121</th>\n",
       "      <td>30000</td>\n",
       "      <td>Layer 9-Head 4</td>\n",
       "      <td>9</td>\n",
       "      <td>4</td>\n",
       "      <td>0.006404</td>\n",
       "      <td>True</td>\n",
       "      <td>3135000</td>\n",
       "      <td>0.334368</td>\n",
       "      <td>38</td>\n",
       "      <td>True</td>\n",
       "    </tr>\n",
       "    <tr>\n",
       "      <th>149</th>\n",
       "      <td>35000</td>\n",
       "      <td>Layer 9-Head 4</td>\n",
       "      <td>9</td>\n",
       "      <td>4</td>\n",
       "      <td>0.014621</td>\n",
       "      <td>True</td>\n",
       "      <td>3135000</td>\n",
       "      <td>0.334368</td>\n",
       "      <td>38</td>\n",
       "      <td>True</td>\n",
       "    </tr>\n",
       "    <tr>\n",
       "      <th>156</th>\n",
       "      <td>37000</td>\n",
       "      <td>Layer 9-Head 4</td>\n",
       "      <td>9</td>\n",
       "      <td>4</td>\n",
       "      <td>0.013440</td>\n",
       "      <td>True</td>\n",
       "      <td>3135000</td>\n",
       "      <td>0.334368</td>\n",
       "      <td>38</td>\n",
       "      <td>True</td>\n",
       "    </tr>\n",
       "    <tr>\n",
       "      <th>171</th>\n",
       "      <td>40000</td>\n",
       "      <td>Layer 9-Head 4</td>\n",
       "      <td>9</td>\n",
       "      <td>4</td>\n",
       "      <td>0.010845</td>\n",
       "      <td>True</td>\n",
       "      <td>3135000</td>\n",
       "      <td>0.334368</td>\n",
       "      <td>38</td>\n",
       "      <td>True</td>\n",
       "    </tr>\n",
       "    <tr>\n",
       "      <th>197</th>\n",
       "      <td>45000</td>\n",
       "      <td>Layer 9-Head 4</td>\n",
       "      <td>9</td>\n",
       "      <td>4</td>\n",
       "      <td>0.035425</td>\n",
       "      <td>True</td>\n",
       "      <td>3135000</td>\n",
       "      <td>0.334368</td>\n",
       "      <td>38</td>\n",
       "      <td>True</td>\n",
       "    </tr>\n",
       "    <tr>\n",
       "      <th>202</th>\n",
       "      <td>46000</td>\n",
       "      <td>Layer 9-Head 4</td>\n",
       "      <td>9</td>\n",
       "      <td>4</td>\n",
       "      <td>0.033058</td>\n",
       "      <td>True</td>\n",
       "      <td>3135000</td>\n",
       "      <td>0.334368</td>\n",
       "      <td>38</td>\n",
       "      <td>True</td>\n",
       "    </tr>\n",
       "    <tr>\n",
       "      <th>207</th>\n",
       "      <td>47000</td>\n",
       "      <td>Layer 9-Head 4</td>\n",
       "      <td>9</td>\n",
       "      <td>4</td>\n",
       "      <td>0.014968</td>\n",
       "      <td>True</td>\n",
       "      <td>3135000</td>\n",
       "      <td>0.334368</td>\n",
       "      <td>38</td>\n",
       "      <td>True</td>\n",
       "    </tr>\n",
       "    <tr>\n",
       "      <th>212</th>\n",
       "      <td>48000</td>\n",
       "      <td>Layer 9-Head 4</td>\n",
       "      <td>9</td>\n",
       "      <td>4</td>\n",
       "      <td>0.008163</td>\n",
       "      <td>True</td>\n",
       "      <td>3135000</td>\n",
       "      <td>0.334368</td>\n",
       "      <td>38</td>\n",
       "      <td>True</td>\n",
       "    </tr>\n",
       "    <tr>\n",
       "      <th>234</th>\n",
       "      <td>52000</td>\n",
       "      <td>Layer 9-Head 4</td>\n",
       "      <td>9</td>\n",
       "      <td>4</td>\n",
       "      <td>0.020150</td>\n",
       "      <td>True</td>\n",
       "      <td>3135000</td>\n",
       "      <td>0.334368</td>\n",
       "      <td>38</td>\n",
       "      <td>True</td>\n",
       "    </tr>\n",
       "    <tr>\n",
       "      <th>276</th>\n",
       "      <td>61000</td>\n",
       "      <td>Layer 9-Head 4</td>\n",
       "      <td>9</td>\n",
       "      <td>4</td>\n",
       "      <td>0.015234</td>\n",
       "      <td>True</td>\n",
       "      <td>3135000</td>\n",
       "      <td>0.334368</td>\n",
       "      <td>38</td>\n",
       "      <td>True</td>\n",
       "    </tr>\n",
       "    <tr>\n",
       "      <th>283</th>\n",
       "      <td>62000</td>\n",
       "      <td>Layer 9-Head 4</td>\n",
       "      <td>9</td>\n",
       "      <td>4</td>\n",
       "      <td>0.007663</td>\n",
       "      <td>True</td>\n",
       "      <td>3135000</td>\n",
       "      <td>0.334368</td>\n",
       "      <td>38</td>\n",
       "      <td>True</td>\n",
       "    </tr>\n",
       "    <tr>\n",
       "      <th>287</th>\n",
       "      <td>63000</td>\n",
       "      <td>Layer 9-Head 4</td>\n",
       "      <td>9</td>\n",
       "      <td>4</td>\n",
       "      <td>0.007319</td>\n",
       "      <td>True</td>\n",
       "      <td>3135000</td>\n",
       "      <td>0.334368</td>\n",
       "      <td>38</td>\n",
       "      <td>True</td>\n",
       "    </tr>\n",
       "    <tr>\n",
       "      <th>291</th>\n",
       "      <td>64000</td>\n",
       "      <td>Layer 9-Head 4</td>\n",
       "      <td>9</td>\n",
       "      <td>4</td>\n",
       "      <td>0.005687</td>\n",
       "      <td>True</td>\n",
       "      <td>3135000</td>\n",
       "      <td>0.334368</td>\n",
       "      <td>38</td>\n",
       "      <td>True</td>\n",
       "    </tr>\n",
       "    <tr>\n",
       "      <th>295</th>\n",
       "      <td>65000</td>\n",
       "      <td>Layer 9-Head 4</td>\n",
       "      <td>9</td>\n",
       "      <td>4</td>\n",
       "      <td>0.007628</td>\n",
       "      <td>True</td>\n",
       "      <td>3135000</td>\n",
       "      <td>0.334368</td>\n",
       "      <td>38</td>\n",
       "      <td>True</td>\n",
       "    </tr>\n",
       "    <tr>\n",
       "      <th>300</th>\n",
       "      <td>66000</td>\n",
       "      <td>Layer 9-Head 4</td>\n",
       "      <td>9</td>\n",
       "      <td>4</td>\n",
       "      <td>0.004789</td>\n",
       "      <td>True</td>\n",
       "      <td>3135000</td>\n",
       "      <td>0.334368</td>\n",
       "      <td>38</td>\n",
       "      <td>True</td>\n",
       "    </tr>\n",
       "    <tr>\n",
       "      <th>301</th>\n",
       "      <td>66000</td>\n",
       "      <td>Layer 10-Head 7</td>\n",
       "      <td>10</td>\n",
       "      <td>7</td>\n",
       "      <td>0.005050</td>\n",
       "      <td>True</td>\n",
       "      <td>2216000</td>\n",
       "      <td>0.121681</td>\n",
       "      <td>22</td>\n",
       "      <td>False</td>\n",
       "    </tr>\n",
       "    <tr>\n",
       "      <th>310</th>\n",
       "      <td>68000</td>\n",
       "      <td>Layer 10-Head 7</td>\n",
       "      <td>10</td>\n",
       "      <td>7</td>\n",
       "      <td>0.003615</td>\n",
       "      <td>True</td>\n",
       "      <td>2216000</td>\n",
       "      <td>0.121681</td>\n",
       "      <td>22</td>\n",
       "      <td>False</td>\n",
       "    </tr>\n",
       "    <tr>\n",
       "      <th>316</th>\n",
       "      <td>69000</td>\n",
       "      <td>Layer 9-Head 4</td>\n",
       "      <td>9</td>\n",
       "      <td>4</td>\n",
       "      <td>0.005792</td>\n",
       "      <td>True</td>\n",
       "      <td>3135000</td>\n",
       "      <td>0.334368</td>\n",
       "      <td>38</td>\n",
       "      <td>True</td>\n",
       "    </tr>\n",
       "    <tr>\n",
       "      <th>320</th>\n",
       "      <td>70000</td>\n",
       "      <td>Layer 9-Head 4</td>\n",
       "      <td>9</td>\n",
       "      <td>4</td>\n",
       "      <td>0.002369</td>\n",
       "      <td>True</td>\n",
       "      <td>3135000</td>\n",
       "      <td>0.334368</td>\n",
       "      <td>38</td>\n",
       "      <td>True</td>\n",
       "    </tr>\n",
       "    <tr>\n",
       "      <th>326</th>\n",
       "      <td>71000</td>\n",
       "      <td>Layer 9-Head 4</td>\n",
       "      <td>9</td>\n",
       "      <td>4</td>\n",
       "      <td>0.005183</td>\n",
       "      <td>True</td>\n",
       "      <td>3135000</td>\n",
       "      <td>0.334368</td>\n",
       "      <td>38</td>\n",
       "      <td>True</td>\n",
       "    </tr>\n",
       "    <tr>\n",
       "      <th>330</th>\n",
       "      <td>72000</td>\n",
       "      <td>Layer 10-Head 7</td>\n",
       "      <td>10</td>\n",
       "      <td>7</td>\n",
       "      <td>0.003973</td>\n",
       "      <td>True</td>\n",
       "      <td>2216000</td>\n",
       "      <td>0.121681</td>\n",
       "      <td>22</td>\n",
       "      <td>False</td>\n",
       "    </tr>\n",
       "    <tr>\n",
       "      <th>335</th>\n",
       "      <td>73000</td>\n",
       "      <td>Layer 9-Head 4</td>\n",
       "      <td>9</td>\n",
       "      <td>4</td>\n",
       "      <td>0.002946</td>\n",
       "      <td>True</td>\n",
       "      <td>3135000</td>\n",
       "      <td>0.334368</td>\n",
       "      <td>38</td>\n",
       "      <td>True</td>\n",
       "    </tr>\n",
       "    <tr>\n",
       "      <th>340</th>\n",
       "      <td>74000</td>\n",
       "      <td>Layer 9-Head 4</td>\n",
       "      <td>9</td>\n",
       "      <td>4</td>\n",
       "      <td>0.003834</td>\n",
       "      <td>True</td>\n",
       "      <td>3135000</td>\n",
       "      <td>0.334368</td>\n",
       "      <td>38</td>\n",
       "      <td>True</td>\n",
       "    </tr>\n",
       "    <tr>\n",
       "      <th>345</th>\n",
       "      <td>75000</td>\n",
       "      <td>Layer 9-Head 4</td>\n",
       "      <td>9</td>\n",
       "      <td>4</td>\n",
       "      <td>0.005873</td>\n",
       "      <td>True</td>\n",
       "      <td>3135000</td>\n",
       "      <td>0.334368</td>\n",
       "      <td>38</td>\n",
       "      <td>True</td>\n",
       "    </tr>\n",
       "    <tr>\n",
       "      <th>351</th>\n",
       "      <td>76000</td>\n",
       "      <td>Layer 10-Head 7</td>\n",
       "      <td>10</td>\n",
       "      <td>7</td>\n",
       "      <td>0.003486</td>\n",
       "      <td>True</td>\n",
       "      <td>2216000</td>\n",
       "      <td>0.121681</td>\n",
       "      <td>22</td>\n",
       "      <td>False</td>\n",
       "    </tr>\n",
       "    <tr>\n",
       "      <th>355</th>\n",
       "      <td>77000</td>\n",
       "      <td>Layer 10-Head 7</td>\n",
       "      <td>10</td>\n",
       "      <td>7</td>\n",
       "      <td>0.003142</td>\n",
       "      <td>True</td>\n",
       "      <td>2216000</td>\n",
       "      <td>0.121681</td>\n",
       "      <td>22</td>\n",
       "      <td>False</td>\n",
       "    </tr>\n",
       "    <tr>\n",
       "      <th>360</th>\n",
       "      <td>78000</td>\n",
       "      <td>Layer 10-Head 7</td>\n",
       "      <td>10</td>\n",
       "      <td>7</td>\n",
       "      <td>0.003221</td>\n",
       "      <td>True</td>\n",
       "      <td>2216000</td>\n",
       "      <td>0.121681</td>\n",
       "      <td>22</td>\n",
       "      <td>False</td>\n",
       "    </tr>\n",
       "    <tr>\n",
       "      <th>368</th>\n",
       "      <td>79000</td>\n",
       "      <td>Layer 10-Head 7</td>\n",
       "      <td>10</td>\n",
       "      <td>7</td>\n",
       "      <td>0.001927</td>\n",
       "      <td>True</td>\n",
       "      <td>2216000</td>\n",
       "      <td>0.121681</td>\n",
       "      <td>22</td>\n",
       "      <td>False</td>\n",
       "    </tr>\n",
       "    <tr>\n",
       "      <th>385</th>\n",
       "      <td>83000</td>\n",
       "      <td>Layer 10-Head 7</td>\n",
       "      <td>10</td>\n",
       "      <td>7</td>\n",
       "      <td>0.002465</td>\n",
       "      <td>True</td>\n",
       "      <td>2216000</td>\n",
       "      <td>0.121681</td>\n",
       "      <td>22</td>\n",
       "      <td>False</td>\n",
       "    </tr>\n",
       "    <tr>\n",
       "      <th>390</th>\n",
       "      <td>84000</td>\n",
       "      <td>Layer 10-Head 7</td>\n",
       "      <td>10</td>\n",
       "      <td>7</td>\n",
       "      <td>0.002987</td>\n",
       "      <td>True</td>\n",
       "      <td>2216000</td>\n",
       "      <td>0.121681</td>\n",
       "      <td>22</td>\n",
       "      <td>False</td>\n",
       "    </tr>\n",
       "    <tr>\n",
       "      <th>400</th>\n",
       "      <td>86000</td>\n",
       "      <td>Layer 10-Head 7</td>\n",
       "      <td>10</td>\n",
       "      <td>7</td>\n",
       "      <td>0.003382</td>\n",
       "      <td>True</td>\n",
       "      <td>2216000</td>\n",
       "      <td>0.121681</td>\n",
       "      <td>22</td>\n",
       "      <td>False</td>\n",
       "    </tr>\n",
       "    <tr>\n",
       "      <th>415</th>\n",
       "      <td>89000</td>\n",
       "      <td>Layer 10-Head 7</td>\n",
       "      <td>10</td>\n",
       "      <td>7</td>\n",
       "      <td>0.003476</td>\n",
       "      <td>True</td>\n",
       "      <td>2216000</td>\n",
       "      <td>0.121681</td>\n",
       "      <td>22</td>\n",
       "      <td>False</td>\n",
       "    </tr>\n",
       "    <tr>\n",
       "      <th>420</th>\n",
       "      <td>90000</td>\n",
       "      <td>Layer 10-Head 7</td>\n",
       "      <td>10</td>\n",
       "      <td>7</td>\n",
       "      <td>0.003540</td>\n",
       "      <td>True</td>\n",
       "      <td>2216000</td>\n",
       "      <td>0.121681</td>\n",
       "      <td>22</td>\n",
       "      <td>False</td>\n",
       "    </tr>\n",
       "    <tr>\n",
       "      <th>440</th>\n",
       "      <td>94000</td>\n",
       "      <td>Layer 10-Head 7</td>\n",
       "      <td>10</td>\n",
       "      <td>7</td>\n",
       "      <td>0.004098</td>\n",
       "      <td>True</td>\n",
       "      <td>2216000</td>\n",
       "      <td>0.121681</td>\n",
       "      <td>22</td>\n",
       "      <td>False</td>\n",
       "    </tr>\n",
       "    <tr>\n",
       "      <th>500</th>\n",
       "      <td>106000</td>\n",
       "      <td>Layer 9-Head 4</td>\n",
       "      <td>9</td>\n",
       "      <td>4</td>\n",
       "      <td>0.003578</td>\n",
       "      <td>True</td>\n",
       "      <td>3135000</td>\n",
       "      <td>0.334368</td>\n",
       "      <td>38</td>\n",
       "      <td>True</td>\n",
       "    </tr>\n",
       "    <tr>\n",
       "      <th>506</th>\n",
       "      <td>107000</td>\n",
       "      <td>Layer 10-Head 7</td>\n",
       "      <td>10</td>\n",
       "      <td>7</td>\n",
       "      <td>0.007569</td>\n",
       "      <td>True</td>\n",
       "      <td>2216000</td>\n",
       "      <td>0.121681</td>\n",
       "      <td>22</td>\n",
       "      <td>False</td>\n",
       "    </tr>\n",
       "    <tr>\n",
       "      <th>515</th>\n",
       "      <td>109000</td>\n",
       "      <td>Layer 9-Head 4</td>\n",
       "      <td>9</td>\n",
       "      <td>4</td>\n",
       "      <td>0.005699</td>\n",
       "      <td>True</td>\n",
       "      <td>3135000</td>\n",
       "      <td>0.334368</td>\n",
       "      <td>38</td>\n",
       "      <td>True</td>\n",
       "    </tr>\n",
       "    <tr>\n",
       "      <th>520</th>\n",
       "      <td>110000</td>\n",
       "      <td>Layer 9-Head 4</td>\n",
       "      <td>9</td>\n",
       "      <td>4</td>\n",
       "      <td>0.005541</td>\n",
       "      <td>True</td>\n",
       "      <td>3135000</td>\n",
       "      <td>0.334368</td>\n",
       "      <td>38</td>\n",
       "      <td>True</td>\n",
       "    </tr>\n",
       "    <tr>\n",
       "      <th>526</th>\n",
       "      <td>111000</td>\n",
       "      <td>Layer 10-Head 7</td>\n",
       "      <td>10</td>\n",
       "      <td>7</td>\n",
       "      <td>0.008061</td>\n",
       "      <td>True</td>\n",
       "      <td>2216000</td>\n",
       "      <td>0.121681</td>\n",
       "      <td>22</td>\n",
       "      <td>False</td>\n",
       "    </tr>\n",
       "    <tr>\n",
       "      <th>536</th>\n",
       "      <td>113000</td>\n",
       "      <td>Layer 9-Head 4</td>\n",
       "      <td>9</td>\n",
       "      <td>4</td>\n",
       "      <td>0.005804</td>\n",
       "      <td>True</td>\n",
       "      <td>3135000</td>\n",
       "      <td>0.334368</td>\n",
       "      <td>38</td>\n",
       "      <td>True</td>\n",
       "    </tr>\n",
       "    <tr>\n",
       "      <th>544</th>\n",
       "      <td>114000</td>\n",
       "      <td>Layer 9-Head 4</td>\n",
       "      <td>9</td>\n",
       "      <td>4</td>\n",
       "      <td>0.006457</td>\n",
       "      <td>True</td>\n",
       "      <td>3135000</td>\n",
       "      <td>0.334368</td>\n",
       "      <td>38</td>\n",
       "      <td>True</td>\n",
       "    </tr>\n",
       "    <tr>\n",
       "      <th>550</th>\n",
       "      <td>116000</td>\n",
       "      <td>Layer 9-Head 4</td>\n",
       "      <td>9</td>\n",
       "      <td>4</td>\n",
       "      <td>0.004402</td>\n",
       "      <td>True</td>\n",
       "      <td>3135000</td>\n",
       "      <td>0.334368</td>\n",
       "      <td>38</td>\n",
       "      <td>True</td>\n",
       "    </tr>\n",
       "    <tr>\n",
       "      <th>576</th>\n",
       "      <td>121000</td>\n",
       "      <td>Layer 9-Head 4</td>\n",
       "      <td>9</td>\n",
       "      <td>4</td>\n",
       "      <td>0.008774</td>\n",
       "      <td>True</td>\n",
       "      <td>3135000</td>\n",
       "      <td>0.334368</td>\n",
       "      <td>38</td>\n",
       "      <td>True</td>\n",
       "    </tr>\n",
       "    <tr>\n",
       "      <th>580</th>\n",
       "      <td>122000</td>\n",
       "      <td>Layer 9-Head 4</td>\n",
       "      <td>9</td>\n",
       "      <td>4</td>\n",
       "      <td>0.006190</td>\n",
       "      <td>True</td>\n",
       "      <td>3135000</td>\n",
       "      <td>0.334368</td>\n",
       "      <td>38</td>\n",
       "      <td>True</td>\n",
       "    </tr>\n",
       "    <tr>\n",
       "      <th>588</th>\n",
       "      <td>123000</td>\n",
       "      <td>Layer 10-Head 7</td>\n",
       "      <td>10</td>\n",
       "      <td>7</td>\n",
       "      <td>0.008291</td>\n",
       "      <td>True</td>\n",
       "      <td>2216000</td>\n",
       "      <td>0.121681</td>\n",
       "      <td>22</td>\n",
       "      <td>False</td>\n",
       "    </tr>\n",
       "    <tr>\n",
       "      <th>596</th>\n",
       "      <td>125000</td>\n",
       "      <td>Layer 9-Head 4</td>\n",
       "      <td>9</td>\n",
       "      <td>4</td>\n",
       "      <td>0.003753</td>\n",
       "      <td>True</td>\n",
       "      <td>3135000</td>\n",
       "      <td>0.334368</td>\n",
       "      <td>38</td>\n",
       "      <td>True</td>\n",
       "    </tr>\n",
       "    <tr>\n",
       "      <th>621</th>\n",
       "      <td>130000</td>\n",
       "      <td>Layer 9-Head 4</td>\n",
       "      <td>9</td>\n",
       "      <td>4</td>\n",
       "      <td>0.004050</td>\n",
       "      <td>True</td>\n",
       "      <td>3135000</td>\n",
       "      <td>0.334368</td>\n",
       "      <td>38</td>\n",
       "      <td>True</td>\n",
       "    </tr>\n",
       "    <tr>\n",
       "      <th>629</th>\n",
       "      <td>131000</td>\n",
       "      <td>Layer 10-Head 7</td>\n",
       "      <td>10</td>\n",
       "      <td>7</td>\n",
       "      <td>0.007888</td>\n",
       "      <td>True</td>\n",
       "      <td>2216000</td>\n",
       "      <td>0.121681</td>\n",
       "      <td>22</td>\n",
       "      <td>False</td>\n",
       "    </tr>\n",
       "  </tbody>\n",
       "</table>\n",
       "</div>"
      ],
      "text/plain": [
       "     Checkpoint       Layer-Head  Layer  Head     Value  Previous NMH  \\\n",
       "72        20000   Layer 9-Head 4      9     4  0.002460          True   \n",
       "97        25000   Layer 9-Head 4      9     4  0.006947          True   \n",
       "121       30000   Layer 9-Head 4      9     4  0.006404          True   \n",
       "149       35000   Layer 9-Head 4      9     4  0.014621          True   \n",
       "156       37000   Layer 9-Head 4      9     4  0.013440          True   \n",
       "171       40000   Layer 9-Head 4      9     4  0.010845          True   \n",
       "197       45000   Layer 9-Head 4      9     4  0.035425          True   \n",
       "202       46000   Layer 9-Head 4      9     4  0.033058          True   \n",
       "207       47000   Layer 9-Head 4      9     4  0.014968          True   \n",
       "212       48000   Layer 9-Head 4      9     4  0.008163          True   \n",
       "234       52000   Layer 9-Head 4      9     4  0.020150          True   \n",
       "276       61000   Layer 9-Head 4      9     4  0.015234          True   \n",
       "283       62000   Layer 9-Head 4      9     4  0.007663          True   \n",
       "287       63000   Layer 9-Head 4      9     4  0.007319          True   \n",
       "291       64000   Layer 9-Head 4      9     4  0.005687          True   \n",
       "295       65000   Layer 9-Head 4      9     4  0.007628          True   \n",
       "300       66000   Layer 9-Head 4      9     4  0.004789          True   \n",
       "301       66000  Layer 10-Head 7     10     7  0.005050          True   \n",
       "310       68000  Layer 10-Head 7     10     7  0.003615          True   \n",
       "316       69000   Layer 9-Head 4      9     4  0.005792          True   \n",
       "320       70000   Layer 9-Head 4      9     4  0.002369          True   \n",
       "326       71000   Layer 9-Head 4      9     4  0.005183          True   \n",
       "330       72000  Layer 10-Head 7     10     7  0.003973          True   \n",
       "335       73000   Layer 9-Head 4      9     4  0.002946          True   \n",
       "340       74000   Layer 9-Head 4      9     4  0.003834          True   \n",
       "345       75000   Layer 9-Head 4      9     4  0.005873          True   \n",
       "351       76000  Layer 10-Head 7     10     7  0.003486          True   \n",
       "355       77000  Layer 10-Head 7     10     7  0.003142          True   \n",
       "360       78000  Layer 10-Head 7     10     7  0.003221          True   \n",
       "368       79000  Layer 10-Head 7     10     7  0.001927          True   \n",
       "385       83000  Layer 10-Head 7     10     7  0.002465          True   \n",
       "390       84000  Layer 10-Head 7     10     7  0.002987          True   \n",
       "400       86000  Layer 10-Head 7     10     7  0.003382          True   \n",
       "415       89000  Layer 10-Head 7     10     7  0.003476          True   \n",
       "420       90000  Layer 10-Head 7     10     7  0.003540          True   \n",
       "440       94000  Layer 10-Head 7     10     7  0.004098          True   \n",
       "500      106000   Layer 9-Head 4      9     4  0.003578          True   \n",
       "506      107000  Layer 10-Head 7     10     7  0.007569          True   \n",
       "515      109000   Layer 9-Head 4      9     4  0.005699          True   \n",
       "520      110000   Layer 9-Head 4      9     4  0.005541          True   \n",
       "526      111000  Layer 10-Head 7     10     7  0.008061          True   \n",
       "536      113000   Layer 9-Head 4      9     4  0.005804          True   \n",
       "544      114000   Layer 9-Head 4      9     4  0.006457          True   \n",
       "550      116000   Layer 9-Head 4      9     4  0.004402          True   \n",
       "576      121000   Layer 9-Head 4      9     4  0.008774          True   \n",
       "580      122000   Layer 9-Head 4      9     4  0.006190          True   \n",
       "588      123000  Layer 10-Head 7     10     7  0.008291          True   \n",
       "596      125000   Layer 9-Head 4      9     4  0.003753          True   \n",
       "621      130000   Layer 9-Head 4      9     4  0.004050          True   \n",
       "629      131000  Layer 10-Head 7     10     7  0.007888          True   \n",
       "\n",
       "     Checkpoint_sum  Value_sum  Previous NMH_sum  Top K  \n",
       "72          3135000   0.334368                38   True  \n",
       "97          3135000   0.334368                38   True  \n",
       "121         3135000   0.334368                38   True  \n",
       "149         3135000   0.334368                38   True  \n",
       "156         3135000   0.334368                38   True  \n",
       "171         3135000   0.334368                38   True  \n",
       "197         3135000   0.334368                38   True  \n",
       "202         3135000   0.334368                38   True  \n",
       "207         3135000   0.334368                38   True  \n",
       "212         3135000   0.334368                38   True  \n",
       "234         3135000   0.334368                38   True  \n",
       "276         3135000   0.334368                38   True  \n",
       "283         3135000   0.334368                38   True  \n",
       "287         3135000   0.334368                38   True  \n",
       "291         3135000   0.334368                38   True  \n",
       "295         3135000   0.334368                38   True  \n",
       "300         3135000   0.334368                38   True  \n",
       "301         2216000   0.121681                22  False  \n",
       "310         2216000   0.121681                22  False  \n",
       "316         3135000   0.334368                38   True  \n",
       "320         3135000   0.334368                38   True  \n",
       "326         3135000   0.334368                38   True  \n",
       "330         2216000   0.121681                22  False  \n",
       "335         3135000   0.334368                38   True  \n",
       "340         3135000   0.334368                38   True  \n",
       "345         3135000   0.334368                38   True  \n",
       "351         2216000   0.121681                22  False  \n",
       "355         2216000   0.121681                22  False  \n",
       "360         2216000   0.121681                22  False  \n",
       "368         2216000   0.121681                22  False  \n",
       "385         2216000   0.121681                22  False  \n",
       "390         2216000   0.121681                22  False  \n",
       "400         2216000   0.121681                22  False  \n",
       "415         2216000   0.121681                22  False  \n",
       "420         2216000   0.121681                22  False  \n",
       "440         2216000   0.121681                22  False  \n",
       "500         3135000   0.334368                38   True  \n",
       "506         2216000   0.121681                22  False  \n",
       "515         3135000   0.334368                38   True  \n",
       "520         3135000   0.334368                38   True  \n",
       "526         2216000   0.121681                22  False  \n",
       "536         3135000   0.334368                38   True  \n",
       "544         3135000   0.334368                38   True  \n",
       "550         3135000   0.334368                38   True  \n",
       "576         3135000   0.334368                38   True  \n",
       "580         3135000   0.334368                38   True  \n",
       "588         2216000   0.121681                22  False  \n",
       "596         3135000   0.334368                38   True  \n",
       "621         3135000   0.334368                38   True  \n",
       "629         2216000   0.121681                22  False  "
      ]
     },
     "execution_count": 59,
     "metadata": {},
     "output_type": "execute_result"
    }
   ],
   "source": [
    "top_backup_heads[top_backup_heads['Previous NMH']==True].head(50)"
   ]
  },
  {
   "cell_type": "code",
   "execution_count": 60,
   "metadata": {},
   "outputs": [
    {
     "data": {
      "text/plain": [
       "{4000: set(),\n",
       " 5000: set(),\n",
       " 6000: set(),\n",
       " 7000: set(),\n",
       " 8000: {(8, 2)},\n",
       " 9000: set(),\n",
       " 10000: {(8, 1), (8, 10)},\n",
       " 11000: {(10, 7)},\n",
       " 12000: {(8, 2), (10, 7)},\n",
       " 13000: {(10, 7)},\n",
       " 14000: {(8, 2), (10, 7)},\n",
       " 15000: {(8, 2), (10, 7)},\n",
       " 16000: {(8, 1), (8, 2), (8, 10), (9, 4), (10, 7)},\n",
       " 17000: {(8, 1), (8, 2), (8, 10), (9, 4), (10, 7)},\n",
       " 18000: {(8, 1), (8, 2), (8, 10), (9, 4), (10, 7)},\n",
       " 19000: {(8, 1), (8, 2), (8, 10), (9, 4), (10, 7)},\n",
       " 20000: {(8, 2), (10, 7)},\n",
       " 21000: {(8, 1), (8, 2), (8, 10), (9, 4), (10, 7)},\n",
       " 22000: {(8, 1), (8, 2), (8, 10), (9, 4), (10, 7)},\n",
       " 23000: {(8, 1), (8, 2), (8, 10), (9, 4), (10, 7)},\n",
       " 24000: {(8, 1), (8, 2), (8, 10), (9, 4), (10, 7)},\n",
       " 25000: {(8, 2), (10, 7)},\n",
       " 26000: {(8, 1), (8, 2), (8, 10), (9, 4), (10, 7)},\n",
       " 27000: {(8, 1), (8, 2), (8, 10), (9, 4), (10, 7)},\n",
       " 28000: {(8, 1), (8, 2), (8, 10), (9, 4), (10, 7)},\n",
       " 29000: {(8, 1), (8, 2), (8, 10), (9, 4), (10, 7)},\n",
       " 30000: {(8, 2), (10, 7)},\n",
       " 31000: {(8, 1), (8, 2), (9, 4), (10, 7)},\n",
       " 32000: {(8, 1), (8, 2), (8, 10), (9, 4), (10, 7)},\n",
       " 33000: {(8, 1), (8, 2), (8, 10), (9, 4), (10, 7)},\n",
       " 34000: {(8, 1), (8, 2), (8, 10), (9, 4), (10, 7)},\n",
       " 35000: {(8, 2), (8, 10), (10, 7)},\n",
       " 36000: {(8, 2), (8, 10), (9, 4), (10, 7)},\n",
       " 37000: {(8, 1), (8, 2), (8, 10), (10, 7)},\n",
       " 38000: {(8, 2), (8, 10), (9, 4), (10, 7)},\n",
       " 39000: {(8, 1), (8, 2), (8, 10), (9, 4), (10, 7)},\n",
       " 40000: {(8, 2), (8, 10), (10, 7)},\n",
       " 41000: {(8, 1), (8, 2), (8, 10), (9, 4), (10, 7)},\n",
       " 42000: {(8, 2), (9, 4), (10, 7)},\n",
       " 43000: {(8, 1), (8, 2), (8, 10), (9, 4), (10, 7)},\n",
       " 44000: {(8, 2), (8, 10), (9, 4), (10, 7)},\n",
       " 45000: {(8, 1), (8, 2), (8, 10), (10, 7)},\n",
       " 46000: {(8, 1), (8, 2), (8, 10), (10, 7)},\n",
       " 47000: {(8, 2), (8, 10), (10, 7)},\n",
       " 48000: {(8, 2), (8, 10), (10, 7)},\n",
       " 49000: {(8, 1), (8, 2), (8, 10), (9, 4), (10, 7)},\n",
       " 50000: {(8, 1), (8, 2), (8, 10), (9, 4), (10, 7)},\n",
       " 51000: {(8, 2), (9, 4), (10, 7)},\n",
       " 52000: {(8, 2), (8, 10)},\n",
       " 53000: {(8, 1), (8, 2), (8, 10), (9, 4), (10, 7)},\n",
       " 54000: {(8, 2), (8, 10), (9, 4), (10, 7)},\n",
       " 55000: {(8, 1), (8, 2), (8, 10), (9, 4), (10, 7)},\n",
       " 56000: {(8, 1), (8, 2), (8, 10), (9, 4), (10, 7)},\n",
       " 57000: {(8, 1), (8, 2), (8, 10), (9, 4), (10, 7)},\n",
       " 58000: {(8, 2), (8, 10), (9, 4), (10, 7)},\n",
       " 59000: {(8, 1), (8, 2), (8, 10), (9, 4), (10, 7)},\n",
       " 60000: {(8, 2), (8, 10), (9, 4), (10, 7)},\n",
       " 61000: {(8, 1), (8, 2), (8, 10), (10, 7)},\n",
       " 62000: {(8, 2), (8, 10), (10, 7)},\n",
       " 63000: {(8, 2), (8, 10), (10, 7)},\n",
       " 64000: {(8, 2), (8, 10), (10, 7)},\n",
       " 65000: {(8, 1), (8, 2), (8, 10), (10, 7)},\n",
       " 66000: {(8, 2), (8, 10)},\n",
       " 67000: {(8, 2), (8, 10), (10, 7)},\n",
       " 68000: {(8, 2), (8, 10)},\n",
       " 69000: {(8, 1), (8, 2), (8, 10), (10, 7)},\n",
       " 70000: {(8, 2), (8, 10), (10, 7)},\n",
       " 71000: {(8, 2), (8, 10), (10, 7)},\n",
       " 72000: {(8, 2), (8, 10)},\n",
       " 73000: {(8, 2), (8, 10), (10, 7)},\n",
       " 74000: {(8, 2), (8, 10)},\n",
       " 75000: {(8, 1), (8, 2), (8, 10)},\n",
       " 76000: {(8, 2), (8, 10)},\n",
       " 77000: {(8, 1), (8, 2), (8, 10)},\n",
       " 78000: {(8, 2), (8, 10)},\n",
       " 79000: {(8, 2), (8, 10)},\n",
       " 80000: {(8, 2), (8, 10)},\n",
       " 81000: {(8, 2), (8, 10)},\n",
       " 82000: {(8, 2), (8, 10)},\n",
       " 83000: {(8, 2), (8, 10)},\n",
       " 84000: {(8, 2), (8, 10)},\n",
       " 85000: {(8, 2), (8, 10)},\n",
       " 86000: {(8, 1), (8, 2), (8, 10)},\n",
       " 87000: {(8, 1), (8, 2), (8, 10)},\n",
       " 88000: {(8, 2), (8, 10)},\n",
       " 89000: {(8, 10)},\n",
       " 90000: {(8, 2), (8, 10)},\n",
       " 91000: {(8, 1), (8, 2), (8, 10)},\n",
       " 92000: {(8, 1), (8, 2), (8, 10)},\n",
       " 93000: {(8, 2), (8, 10)},\n",
       " 94000: {(8, 2), (8, 10)},\n",
       " 95000: {(8, 2), (8, 10)},\n",
       " 96000: {(8, 2), (8, 10)},\n",
       " 97000: {(8, 2), (8, 10)},\n",
       " 98000: {(8, 1), (8, 2), (8, 10)},\n",
       " 99000: {(8, 1), (8, 2), (8, 10)},\n",
       " 100000: {(8, 2), (8, 10)},\n",
       " 101000: {(8, 1), (8, 2), (8, 10), (10, 7)},\n",
       " 102000: {(8, 1), (8, 2), (8, 10), (10, 7)},\n",
       " 103000: {(8, 2), (8, 10)},\n",
       " 104000: {(8, 2), (8, 10)},\n",
       " 105000: {(8, 1), (8, 2), (8, 10), (9, 4), (10, 7)},\n",
       " 106000: {(8, 1), (8, 10), (10, 7)},\n",
       " 107000: {(8, 2), (8, 10)},\n",
       " 108000: {(8, 2), (8, 10)},\n",
       " 109000: {(8, 2), (8, 10)},\n",
       " 110000: {(8, 2), (8, 10), (10, 7)},\n",
       " 111000: {(8, 2), (8, 10)},\n",
       " 112000: {(5, 0), (8, 1), (8, 2), (8, 10), (10, 7)},\n",
       " 113000: {(8, 1), (8, 10), (10, 7)},\n",
       " 114000: {(8, 2), (8, 10)},\n",
       " 115000: {(8, 10)},\n",
       " 116000: {(8, 2), (8, 10), (10, 7)},\n",
       " 117000: {(8, 10)},\n",
       " 118000: {(8, 2), (8, 10), (10, 7)},\n",
       " 119000: {(8, 1), (8, 2), (8, 10), (10, 7)},\n",
       " 120000: {(8, 2), (8, 10), (10, 7)},\n",
       " 121000: {(8, 1), (8, 2), (8, 10), (10, 7)},\n",
       " 122000: {(5, 0), (8, 2), (8, 10), (10, 7)},\n",
       " 123000: {(8, 2), (8, 10)},\n",
       " 124000: {(5, 0), (8, 2), (8, 10), (10, 7)},\n",
       " 125000: {(8, 1), (8, 2), (8, 10), (10, 7)},\n",
       " 126000: {(5, 0), (8, 2), (8, 10)},\n",
       " 127000: {(8, 2), (8, 10)},\n",
       " 128000: {(8, 2), (8, 10)},\n",
       " 129000: {(8, 2), (8, 10)},\n",
       " 130000: {(8, 2), (8, 10)},\n",
       " 131000: {(8, 2), (8, 10)},\n",
       " 132000: {(5, 0), (8, 2), (8, 10)},\n",
       " 133000: set(),\n",
       " 134000: {(8, 2), (8, 10)},\n",
       " 135000: {(8, 2), (8, 10)},\n",
       " 136000: {(8, 2), (8, 10)},\n",
       " 137000: {(5, 0), (8, 2), (8, 10)},\n",
       " 138000: {(5, 0), (8, 2), (8, 10)},\n",
       " 139000: {(8, 2), (8, 10)},\n",
       " 140000: {(8, 2), (8, 10)},\n",
       " 141000: {(8, 2), (8, 10)},\n",
       " 142000: {(5, 0), (8, 2), (8, 10)},\n",
       " 143000: {(8, 2), (8, 10)}}"
      ]
     },
     "execution_count": 60,
     "metadata": {},
     "output_type": "execute_result"
    }
   ],
   "source": [
    "checkpoint_nmhs"
   ]
  },
  {
   "cell_type": "code",
   "execution_count": 61,
   "metadata": {},
   "outputs": [
    {
     "data": {
      "text/plain": [
       "{4000: set(),\n",
       " 5000: set(),\n",
       " 6000: set(),\n",
       " 7000: set(),\n",
       " 8000: {(8, 2)},\n",
       " 9000: {(8, 2)},\n",
       " 10000: {(8, 1), (8, 2), (8, 10)},\n",
       " 11000: {(8, 1), (8, 2), (8, 10), (10, 7)},\n",
       " 12000: {(8, 1), (8, 2), (8, 10), (10, 7)},\n",
       " 13000: {(8, 1), (8, 2), (8, 10), (10, 7)},\n",
       " 14000: {(8, 1), (8, 2), (8, 10), (10, 7)},\n",
       " 15000: {(8, 1), (8, 2), (8, 10), (10, 7)},\n",
       " 16000: {(8, 1), (8, 2), (8, 10), (9, 4), (10, 7)},\n",
       " 17000: {(8, 1), (8, 2), (8, 10), (9, 4), (10, 7)},\n",
       " 18000: {(8, 1), (8, 2), (8, 10), (9, 4), (10, 7)},\n",
       " 19000: {(8, 1), (8, 2), (8, 10), (9, 4), (10, 7)},\n",
       " 20000: {(8, 1), (8, 2), (8, 10), (9, 4), (10, 7)},\n",
       " 21000: {(8, 1), (8, 2), (8, 10), (9, 4), (10, 7)},\n",
       " 22000: {(8, 1), (8, 2), (8, 10), (9, 4), (10, 7)},\n",
       " 23000: {(8, 1), (8, 2), (8, 10), (9, 4), (10, 7)},\n",
       " 24000: {(8, 1), (8, 2), (8, 10), (9, 4), (10, 7)},\n",
       " 25000: {(8, 1), (8, 2), (8, 10), (9, 4), (10, 7)},\n",
       " 26000: {(8, 1), (8, 2), (8, 10), (9, 4), (10, 7)},\n",
       " 27000: {(8, 1), (8, 2), (8, 10), (9, 4), (10, 7)},\n",
       " 28000: {(8, 1), (8, 2), (8, 10), (9, 4), (10, 7)},\n",
       " 29000: {(8, 1), (8, 2), (8, 10), (9, 4), (10, 7)},\n",
       " 30000: {(8, 1), (8, 2), (8, 10), (9, 4), (10, 7)},\n",
       " 31000: {(8, 1), (8, 2), (8, 10), (9, 4), (10, 7)},\n",
       " 32000: {(8, 1), (8, 2), (8, 10), (9, 4), (10, 7)},\n",
       " 33000: {(8, 1), (8, 2), (8, 10), (9, 4), (10, 7)},\n",
       " 34000: {(8, 1), (8, 2), (8, 10), (9, 4), (10, 7)},\n",
       " 35000: {(8, 1), (8, 2), (8, 10), (9, 4), (10, 7)},\n",
       " 36000: {(8, 1), (8, 2), (8, 10), (9, 4), (10, 7)},\n",
       " 37000: {(8, 1), (8, 2), (8, 10), (9, 4), (10, 7)},\n",
       " 38000: {(8, 1), (8, 2), (8, 10), (9, 4), (10, 7)},\n",
       " 39000: {(8, 1), (8, 2), (8, 10), (9, 4), (10, 7)},\n",
       " 40000: {(8, 1), (8, 2), (8, 10), (9, 4), (10, 7)},\n",
       " 41000: {(8, 1), (8, 2), (8, 10), (9, 4), (10, 7)},\n",
       " 42000: {(8, 1), (8, 2), (8, 10), (9, 4), (10, 7)},\n",
       " 43000: {(8, 1), (8, 2), (8, 10), (9, 4), (10, 7)},\n",
       " 44000: {(8, 1), (8, 2), (8, 10), (9, 4), (10, 7)},\n",
       " 45000: {(8, 1), (8, 2), (8, 10), (9, 4), (10, 7)},\n",
       " 46000: {(8, 1), (8, 2), (8, 10), (9, 4), (10, 7)},\n",
       " 47000: {(8, 1), (8, 2), (8, 10), (9, 4), (10, 7)},\n",
       " 48000: {(8, 1), (8, 2), (8, 10), (9, 4), (10, 7)},\n",
       " 49000: {(8, 1), (8, 2), (8, 10), (9, 4), (10, 7)},\n",
       " 50000: {(8, 1), (8, 2), (8, 10), (9, 4), (10, 7)},\n",
       " 51000: {(8, 1), (8, 2), (8, 10), (9, 4), (10, 7)},\n",
       " 52000: {(8, 1), (8, 2), (8, 10), (9, 4), (10, 7)},\n",
       " 53000: {(8, 1), (8, 2), (8, 10), (9, 4), (10, 7)},\n",
       " 54000: {(8, 1), (8, 2), (8, 10), (9, 4), (10, 7)},\n",
       " 55000: {(8, 1), (8, 2), (8, 10), (9, 4), (10, 7)},\n",
       " 56000: {(8, 1), (8, 2), (8, 10), (9, 4), (10, 7)},\n",
       " 57000: {(8, 1), (8, 2), (8, 10), (9, 4), (10, 7)},\n",
       " 58000: {(8, 1), (8, 2), (8, 10), (9, 4), (10, 7)},\n",
       " 59000: {(8, 1), (8, 2), (8, 10), (9, 4), (10, 7)},\n",
       " 60000: {(8, 1), (8, 2), (8, 10), (9, 4), (10, 7)},\n",
       " 61000: {(8, 1), (8, 2), (8, 10), (9, 4), (10, 7)},\n",
       " 62000: {(8, 1), (8, 2), (8, 10), (9, 4), (10, 7)},\n",
       " 63000: {(8, 1), (8, 2), (8, 10), (9, 4), (10, 7)},\n",
       " 64000: {(8, 1), (8, 2), (8, 10), (9, 4), (10, 7)},\n",
       " 65000: {(8, 1), (8, 2), (8, 10), (9, 4), (10, 7)},\n",
       " 66000: {(8, 1), (8, 2), (8, 10), (9, 4), (10, 7)},\n",
       " 67000: {(8, 1), (8, 2), (8, 10), (9, 4), (10, 7)},\n",
       " 68000: {(8, 1), (8, 2), (8, 10), (9, 4), (10, 7)},\n",
       " 69000: {(8, 1), (8, 2), (8, 10), (9, 4), (10, 7)},\n",
       " 70000: {(8, 1), (8, 2), (8, 10), (9, 4), (10, 7)},\n",
       " 71000: {(8, 1), (8, 2), (8, 10), (9, 4), (10, 7)},\n",
       " 72000: {(8, 1), (8, 2), (8, 10), (9, 4), (10, 7)},\n",
       " 73000: {(8, 1), (8, 2), (8, 10), (9, 4), (10, 7)},\n",
       " 74000: {(8, 1), (8, 2), (8, 10), (9, 4), (10, 7)},\n",
       " 75000: {(8, 1), (8, 2), (8, 10), (9, 4), (10, 7)},\n",
       " 76000: {(8, 1), (8, 2), (8, 10), (9, 4), (10, 7)},\n",
       " 77000: {(8, 1), (8, 2), (8, 10), (9, 4), (10, 7)},\n",
       " 78000: {(8, 1), (8, 2), (8, 10), (9, 4), (10, 7)},\n",
       " 79000: {(8, 1), (8, 2), (8, 10), (9, 4), (10, 7)},\n",
       " 80000: {(8, 1), (8, 2), (8, 10), (9, 4), (10, 7)},\n",
       " 81000: {(8, 1), (8, 2), (8, 10), (9, 4), (10, 7)},\n",
       " 82000: {(8, 1), (8, 2), (8, 10), (9, 4), (10, 7)},\n",
       " 83000: {(8, 1), (8, 2), (8, 10), (9, 4), (10, 7)},\n",
       " 84000: {(8, 1), (8, 2), (8, 10), (9, 4), (10, 7)},\n",
       " 85000: {(8, 1), (8, 2), (8, 10), (9, 4), (10, 7)},\n",
       " 86000: {(8, 1), (8, 2), (8, 10), (9, 4), (10, 7)},\n",
       " 87000: {(8, 1), (8, 2), (8, 10), (9, 4), (10, 7)},\n",
       " 88000: {(8, 1), (8, 2), (8, 10), (9, 4), (10, 7)},\n",
       " 89000: {(8, 1), (8, 2), (8, 10), (9, 4), (10, 7)},\n",
       " 90000: {(8, 1), (8, 2), (8, 10), (9, 4), (10, 7)},\n",
       " 91000: {(8, 1), (8, 2), (8, 10), (9, 4), (10, 7)},\n",
       " 92000: {(8, 1), (8, 2), (8, 10), (9, 4), (10, 7)},\n",
       " 93000: {(8, 1), (8, 2), (8, 10), (9, 4), (10, 7)},\n",
       " 94000: {(8, 1), (8, 2), (8, 10), (9, 4), (10, 7)},\n",
       " 95000: {(8, 1), (8, 2), (8, 10), (9, 4), (10, 7)},\n",
       " 96000: {(8, 1), (8, 2), (8, 10), (9, 4), (10, 7)},\n",
       " 97000: {(8, 1), (8, 2), (8, 10), (9, 4), (10, 7)},\n",
       " 98000: {(8, 1), (8, 2), (8, 10), (9, 4), (10, 7)},\n",
       " 99000: {(8, 1), (8, 2), (8, 10), (9, 4), (10, 7)},\n",
       " 100000: {(8, 1), (8, 2), (8, 10), (9, 4), (10, 7)},\n",
       " 101000: {(8, 1), (8, 2), (8, 10), (9, 4), (10, 7)},\n",
       " 102000: {(8, 1), (8, 2), (8, 10), (9, 4), (10, 7)},\n",
       " 103000: {(8, 1), (8, 2), (8, 10), (9, 4), (10, 7)},\n",
       " 104000: {(8, 1), (8, 2), (8, 10), (9, 4), (10, 7)},\n",
       " 105000: {(8, 1), (8, 2), (8, 10), (9, 4), (10, 7)},\n",
       " 106000: {(8, 1), (8, 2), (8, 10), (9, 4), (10, 7)},\n",
       " 107000: {(8, 1), (8, 2), (8, 10), (9, 4), (10, 7)},\n",
       " 108000: {(8, 1), (8, 2), (8, 10), (9, 4), (10, 7)},\n",
       " 109000: {(8, 1), (8, 2), (8, 10), (9, 4), (10, 7)},\n",
       " 110000: {(8, 1), (8, 2), (8, 10), (9, 4), (10, 7)},\n",
       " 111000: {(8, 1), (8, 2), (8, 10), (9, 4), (10, 7)},\n",
       " 112000: {(5, 0), (8, 1), (8, 2), (8, 10), (9, 4), (10, 7)},\n",
       " 113000: {(5, 0), (8, 1), (8, 2), (8, 10), (9, 4), (10, 7)},\n",
       " 114000: {(5, 0), (8, 1), (8, 2), (8, 10), (9, 4), (10, 7)},\n",
       " 115000: {(5, 0), (8, 1), (8, 2), (8, 10), (9, 4), (10, 7)},\n",
       " 116000: {(5, 0), (8, 1), (8, 2), (8, 10), (9, 4), (10, 7)},\n",
       " 117000: {(5, 0), (8, 1), (8, 2), (8, 10), (9, 4), (10, 7)},\n",
       " 118000: {(5, 0), (8, 1), (8, 2), (8, 10), (9, 4), (10, 7)},\n",
       " 119000: {(5, 0), (8, 1), (8, 2), (8, 10), (9, 4), (10, 7)},\n",
       " 120000: {(5, 0), (8, 1), (8, 2), (8, 10), (9, 4), (10, 7)},\n",
       " 121000: {(5, 0), (8, 1), (8, 2), (8, 10), (9, 4), (10, 7)},\n",
       " 122000: {(5, 0), (8, 1), (8, 2), (8, 10), (9, 4), (10, 7)},\n",
       " 123000: {(5, 0), (8, 1), (8, 2), (8, 10), (9, 4), (10, 7)},\n",
       " 124000: {(5, 0), (8, 1), (8, 2), (8, 10), (9, 4), (10, 7)},\n",
       " 125000: {(5, 0), (8, 1), (8, 2), (8, 10), (9, 4), (10, 7)},\n",
       " 126000: {(5, 0), (8, 1), (8, 2), (8, 10), (9, 4), (10, 7)},\n",
       " 127000: {(5, 0), (8, 1), (8, 2), (8, 10), (9, 4), (10, 7)},\n",
       " 128000: {(5, 0), (8, 1), (8, 2), (8, 10), (9, 4), (10, 7)},\n",
       " 129000: {(5, 0), (8, 1), (8, 2), (8, 10), (9, 4), (10, 7)},\n",
       " 130000: {(5, 0), (8, 1), (8, 2), (8, 10), (9, 4), (10, 7)},\n",
       " 131000: {(5, 0), (8, 1), (8, 2), (8, 10), (9, 4), (10, 7)},\n",
       " 132000: {(5, 0), (8, 1), (8, 2), (8, 10), (9, 4), (10, 7)},\n",
       " 133000: {(5, 0), (8, 1), (8, 2), (8, 10), (9, 4), (10, 7)},\n",
       " 134000: {(5, 0), (8, 1), (8, 2), (8, 10), (9, 4), (10, 7)},\n",
       " 135000: {(5, 0), (8, 1), (8, 2), (8, 10), (9, 4), (10, 7)},\n",
       " 136000: {(5, 0), (8, 1), (8, 2), (8, 10), (9, 4), (10, 7)},\n",
       " 137000: {(5, 0), (8, 1), (8, 2), (8, 10), (9, 4), (10, 7)},\n",
       " 138000: {(5, 0), (8, 1), (8, 2), (8, 10), (9, 4), (10, 7)},\n",
       " 139000: {(5, 0), (8, 1), (8, 2), (8, 10), (9, 4), (10, 7)},\n",
       " 140000: {(5, 0), (8, 1), (8, 2), (8, 10), (9, 4), (10, 7)},\n",
       " 141000: {(5, 0), (8, 1), (8, 2), (8, 10), (9, 4), (10, 7)},\n",
       " 142000: {(5, 0), (8, 1), (8, 2), (8, 10), (9, 4), (10, 7)},\n",
       " 143000: {(5, 0), (8, 1), (8, 2), (8, 10), (9, 4), (10, 7)}}"
      ]
     },
     "execution_count": 61,
     "metadata": {},
     "output_type": "execute_result"
    }
   ],
   "source": [
    "cumulative_nmhs"
   ]
  },
  {
   "cell_type": "code",
   "execution_count": 62,
   "metadata": {},
   "outputs": [
    {
     "data": {
      "application/vnd.plotly.v1+json": {
       "config": {
        "plotlyServerURL": "https://plot.ly"
       },
       "data": [
        {
         "hovertemplate": "Checkpoint=%{x}<br>Number of NMHs=%{y}<extra></extra>",
         "legendgroup": "",
         "line": {
          "color": "#636efa",
          "dash": "solid"
         },
         "marker": {
          "symbol": "circle"
         },
         "mode": "lines",
         "name": "",
         "orientation": "v",
         "showlegend": false,
         "type": "scatter",
         "x": [
          4000,
          5000,
          6000,
          7000,
          8000,
          9000,
          10000,
          11000,
          12000,
          13000,
          14000,
          15000,
          16000,
          17000,
          18000,
          19000,
          20000,
          21000,
          22000,
          23000,
          24000,
          25000,
          26000,
          27000,
          28000,
          29000,
          30000,
          31000,
          32000,
          33000,
          34000,
          35000,
          36000,
          37000,
          38000,
          39000,
          40000,
          41000,
          42000,
          43000,
          44000,
          45000,
          46000,
          47000,
          48000,
          49000,
          50000,
          51000,
          52000,
          53000,
          54000,
          55000,
          56000,
          57000,
          58000,
          59000,
          60000,
          61000,
          62000,
          63000,
          64000,
          65000,
          66000,
          67000,
          68000,
          69000,
          70000,
          71000,
          72000,
          73000,
          74000,
          75000,
          76000,
          77000,
          78000,
          79000,
          80000,
          81000,
          82000,
          83000,
          84000,
          85000,
          86000,
          87000,
          88000,
          89000,
          90000,
          91000,
          92000,
          93000,
          94000,
          95000,
          96000,
          97000,
          98000,
          99000,
          100000,
          101000,
          102000,
          103000,
          104000,
          105000,
          106000,
          107000,
          108000,
          109000,
          110000,
          111000,
          112000,
          113000,
          114000,
          115000,
          116000,
          117000,
          118000,
          119000,
          120000,
          121000,
          122000,
          123000,
          124000,
          125000,
          126000,
          127000,
          128000,
          129000,
          130000,
          131000,
          132000,
          133000,
          134000,
          135000,
          136000,
          137000,
          138000,
          139000,
          140000,
          141000,
          142000,
          143000
         ],
         "xaxis": "x",
         "y": [
          0,
          0,
          0,
          0,
          1,
          0,
          2,
          1,
          2,
          1,
          2,
          2,
          5,
          5,
          5,
          5,
          2,
          5,
          5,
          5,
          5,
          2,
          5,
          5,
          5,
          5,
          2,
          4,
          5,
          5,
          5,
          3,
          4,
          4,
          4,
          5,
          3,
          5,
          3,
          5,
          4,
          4,
          4,
          3,
          3,
          5,
          5,
          3,
          2,
          5,
          4,
          5,
          5,
          5,
          4,
          5,
          4,
          4,
          3,
          3,
          3,
          4,
          2,
          3,
          2,
          4,
          3,
          3,
          2,
          3,
          2,
          3,
          2,
          3,
          2,
          2,
          2,
          2,
          2,
          2,
          2,
          2,
          3,
          3,
          2,
          1,
          2,
          3,
          3,
          2,
          2,
          2,
          2,
          2,
          3,
          3,
          2,
          4,
          4,
          2,
          2,
          5,
          3,
          2,
          2,
          2,
          3,
          2,
          5,
          3,
          2,
          1,
          3,
          1,
          3,
          4,
          3,
          4,
          4,
          2,
          4,
          4,
          3,
          2,
          2,
          2,
          2,
          2,
          3,
          0,
          2,
          2,
          2,
          3,
          3,
          2,
          2,
          2,
          3,
          2
         ],
         "yaxis": "y"
        }
       ],
       "layout": {
        "legend": {
         "tracegroupgap": 0
        },
        "template": {
         "data": {
          "bar": [
           {
            "error_x": {
             "color": "#2a3f5f"
            },
            "error_y": {
             "color": "#2a3f5f"
            },
            "marker": {
             "line": {
              "color": "#E5ECF6",
              "width": 0.5
             },
             "pattern": {
              "fillmode": "overlay",
              "size": 10,
              "solidity": 0.2
             }
            },
            "type": "bar"
           }
          ],
          "barpolar": [
           {
            "marker": {
             "line": {
              "color": "#E5ECF6",
              "width": 0.5
             },
             "pattern": {
              "fillmode": "overlay",
              "size": 10,
              "solidity": 0.2
             }
            },
            "type": "barpolar"
           }
          ],
          "carpet": [
           {
            "aaxis": {
             "endlinecolor": "#2a3f5f",
             "gridcolor": "white",
             "linecolor": "white",
             "minorgridcolor": "white",
             "startlinecolor": "#2a3f5f"
            },
            "baxis": {
             "endlinecolor": "#2a3f5f",
             "gridcolor": "white",
             "linecolor": "white",
             "minorgridcolor": "white",
             "startlinecolor": "#2a3f5f"
            },
            "type": "carpet"
           }
          ],
          "choropleth": [
           {
            "colorbar": {
             "outlinewidth": 0,
             "ticks": ""
            },
            "type": "choropleth"
           }
          ],
          "contour": [
           {
            "colorbar": {
             "outlinewidth": 0,
             "ticks": ""
            },
            "colorscale": [
             [
              0,
              "#0d0887"
             ],
             [
              0.1111111111111111,
              "#46039f"
             ],
             [
              0.2222222222222222,
              "#7201a8"
             ],
             [
              0.3333333333333333,
              "#9c179e"
             ],
             [
              0.4444444444444444,
              "#bd3786"
             ],
             [
              0.5555555555555556,
              "#d8576b"
             ],
             [
              0.6666666666666666,
              "#ed7953"
             ],
             [
              0.7777777777777778,
              "#fb9f3a"
             ],
             [
              0.8888888888888888,
              "#fdca26"
             ],
             [
              1,
              "#f0f921"
             ]
            ],
            "type": "contour"
           }
          ],
          "contourcarpet": [
           {
            "colorbar": {
             "outlinewidth": 0,
             "ticks": ""
            },
            "type": "contourcarpet"
           }
          ],
          "heatmap": [
           {
            "colorbar": {
             "outlinewidth": 0,
             "ticks": ""
            },
            "colorscale": [
             [
              0,
              "#0d0887"
             ],
             [
              0.1111111111111111,
              "#46039f"
             ],
             [
              0.2222222222222222,
              "#7201a8"
             ],
             [
              0.3333333333333333,
              "#9c179e"
             ],
             [
              0.4444444444444444,
              "#bd3786"
             ],
             [
              0.5555555555555556,
              "#d8576b"
             ],
             [
              0.6666666666666666,
              "#ed7953"
             ],
             [
              0.7777777777777778,
              "#fb9f3a"
             ],
             [
              0.8888888888888888,
              "#fdca26"
             ],
             [
              1,
              "#f0f921"
             ]
            ],
            "type": "heatmap"
           }
          ],
          "heatmapgl": [
           {
            "colorbar": {
             "outlinewidth": 0,
             "ticks": ""
            },
            "colorscale": [
             [
              0,
              "#0d0887"
             ],
             [
              0.1111111111111111,
              "#46039f"
             ],
             [
              0.2222222222222222,
              "#7201a8"
             ],
             [
              0.3333333333333333,
              "#9c179e"
             ],
             [
              0.4444444444444444,
              "#bd3786"
             ],
             [
              0.5555555555555556,
              "#d8576b"
             ],
             [
              0.6666666666666666,
              "#ed7953"
             ],
             [
              0.7777777777777778,
              "#fb9f3a"
             ],
             [
              0.8888888888888888,
              "#fdca26"
             ],
             [
              1,
              "#f0f921"
             ]
            ],
            "type": "heatmapgl"
           }
          ],
          "histogram": [
           {
            "marker": {
             "pattern": {
              "fillmode": "overlay",
              "size": 10,
              "solidity": 0.2
             }
            },
            "type": "histogram"
           }
          ],
          "histogram2d": [
           {
            "colorbar": {
             "outlinewidth": 0,
             "ticks": ""
            },
            "colorscale": [
             [
              0,
              "#0d0887"
             ],
             [
              0.1111111111111111,
              "#46039f"
             ],
             [
              0.2222222222222222,
              "#7201a8"
             ],
             [
              0.3333333333333333,
              "#9c179e"
             ],
             [
              0.4444444444444444,
              "#bd3786"
             ],
             [
              0.5555555555555556,
              "#d8576b"
             ],
             [
              0.6666666666666666,
              "#ed7953"
             ],
             [
              0.7777777777777778,
              "#fb9f3a"
             ],
             [
              0.8888888888888888,
              "#fdca26"
             ],
             [
              1,
              "#f0f921"
             ]
            ],
            "type": "histogram2d"
           }
          ],
          "histogram2dcontour": [
           {
            "colorbar": {
             "outlinewidth": 0,
             "ticks": ""
            },
            "colorscale": [
             [
              0,
              "#0d0887"
             ],
             [
              0.1111111111111111,
              "#46039f"
             ],
             [
              0.2222222222222222,
              "#7201a8"
             ],
             [
              0.3333333333333333,
              "#9c179e"
             ],
             [
              0.4444444444444444,
              "#bd3786"
             ],
             [
              0.5555555555555556,
              "#d8576b"
             ],
             [
              0.6666666666666666,
              "#ed7953"
             ],
             [
              0.7777777777777778,
              "#fb9f3a"
             ],
             [
              0.8888888888888888,
              "#fdca26"
             ],
             [
              1,
              "#f0f921"
             ]
            ],
            "type": "histogram2dcontour"
           }
          ],
          "mesh3d": [
           {
            "colorbar": {
             "outlinewidth": 0,
             "ticks": ""
            },
            "type": "mesh3d"
           }
          ],
          "parcoords": [
           {
            "line": {
             "colorbar": {
              "outlinewidth": 0,
              "ticks": ""
             }
            },
            "type": "parcoords"
           }
          ],
          "pie": [
           {
            "automargin": true,
            "type": "pie"
           }
          ],
          "scatter": [
           {
            "fillpattern": {
             "fillmode": "overlay",
             "size": 10,
             "solidity": 0.2
            },
            "type": "scatter"
           }
          ],
          "scatter3d": [
           {
            "line": {
             "colorbar": {
              "outlinewidth": 0,
              "ticks": ""
             }
            },
            "marker": {
             "colorbar": {
              "outlinewidth": 0,
              "ticks": ""
             }
            },
            "type": "scatter3d"
           }
          ],
          "scattercarpet": [
           {
            "marker": {
             "colorbar": {
              "outlinewidth": 0,
              "ticks": ""
             }
            },
            "type": "scattercarpet"
           }
          ],
          "scattergeo": [
           {
            "marker": {
             "colorbar": {
              "outlinewidth": 0,
              "ticks": ""
             }
            },
            "type": "scattergeo"
           }
          ],
          "scattergl": [
           {
            "marker": {
             "colorbar": {
              "outlinewidth": 0,
              "ticks": ""
             }
            },
            "type": "scattergl"
           }
          ],
          "scattermapbox": [
           {
            "marker": {
             "colorbar": {
              "outlinewidth": 0,
              "ticks": ""
             }
            },
            "type": "scattermapbox"
           }
          ],
          "scatterpolar": [
           {
            "marker": {
             "colorbar": {
              "outlinewidth": 0,
              "ticks": ""
             }
            },
            "type": "scatterpolar"
           }
          ],
          "scatterpolargl": [
           {
            "marker": {
             "colorbar": {
              "outlinewidth": 0,
              "ticks": ""
             }
            },
            "type": "scatterpolargl"
           }
          ],
          "scatterternary": [
           {
            "marker": {
             "colorbar": {
              "outlinewidth": 0,
              "ticks": ""
             }
            },
            "type": "scatterternary"
           }
          ],
          "surface": [
           {
            "colorbar": {
             "outlinewidth": 0,
             "ticks": ""
            },
            "colorscale": [
             [
              0,
              "#0d0887"
             ],
             [
              0.1111111111111111,
              "#46039f"
             ],
             [
              0.2222222222222222,
              "#7201a8"
             ],
             [
              0.3333333333333333,
              "#9c179e"
             ],
             [
              0.4444444444444444,
              "#bd3786"
             ],
             [
              0.5555555555555556,
              "#d8576b"
             ],
             [
              0.6666666666666666,
              "#ed7953"
             ],
             [
              0.7777777777777778,
              "#fb9f3a"
             ],
             [
              0.8888888888888888,
              "#fdca26"
             ],
             [
              1,
              "#f0f921"
             ]
            ],
            "type": "surface"
           }
          ],
          "table": [
           {
            "cells": {
             "fill": {
              "color": "#EBF0F8"
             },
             "line": {
              "color": "white"
             }
            },
            "header": {
             "fill": {
              "color": "#C8D4E3"
             },
             "line": {
              "color": "white"
             }
            },
            "type": "table"
           }
          ]
         },
         "layout": {
          "annotationdefaults": {
           "arrowcolor": "#2a3f5f",
           "arrowhead": 0,
           "arrowwidth": 1
          },
          "autotypenumbers": "strict",
          "coloraxis": {
           "colorbar": {
            "outlinewidth": 0,
            "ticks": ""
           }
          },
          "colorscale": {
           "diverging": [
            [
             0,
             "#8e0152"
            ],
            [
             0.1,
             "#c51b7d"
            ],
            [
             0.2,
             "#de77ae"
            ],
            [
             0.3,
             "#f1b6da"
            ],
            [
             0.4,
             "#fde0ef"
            ],
            [
             0.5,
             "#f7f7f7"
            ],
            [
             0.6,
             "#e6f5d0"
            ],
            [
             0.7,
             "#b8e186"
            ],
            [
             0.8,
             "#7fbc41"
            ],
            [
             0.9,
             "#4d9221"
            ],
            [
             1,
             "#276419"
            ]
           ],
           "sequential": [
            [
             0,
             "#0d0887"
            ],
            [
             0.1111111111111111,
             "#46039f"
            ],
            [
             0.2222222222222222,
             "#7201a8"
            ],
            [
             0.3333333333333333,
             "#9c179e"
            ],
            [
             0.4444444444444444,
             "#bd3786"
            ],
            [
             0.5555555555555556,
             "#d8576b"
            ],
            [
             0.6666666666666666,
             "#ed7953"
            ],
            [
             0.7777777777777778,
             "#fb9f3a"
            ],
            [
             0.8888888888888888,
             "#fdca26"
            ],
            [
             1,
             "#f0f921"
            ]
           ],
           "sequentialminus": [
            [
             0,
             "#0d0887"
            ],
            [
             0.1111111111111111,
             "#46039f"
            ],
            [
             0.2222222222222222,
             "#7201a8"
            ],
            [
             0.3333333333333333,
             "#9c179e"
            ],
            [
             0.4444444444444444,
             "#bd3786"
            ],
            [
             0.5555555555555556,
             "#d8576b"
            ],
            [
             0.6666666666666666,
             "#ed7953"
            ],
            [
             0.7777777777777778,
             "#fb9f3a"
            ],
            [
             0.8888888888888888,
             "#fdca26"
            ],
            [
             1,
             "#f0f921"
            ]
           ]
          },
          "colorway": [
           "#636efa",
           "#EF553B",
           "#00cc96",
           "#ab63fa",
           "#FFA15A",
           "#19d3f3",
           "#FF6692",
           "#B6E880",
           "#FF97FF",
           "#FECB52"
          ],
          "font": {
           "color": "#2a3f5f"
          },
          "geo": {
           "bgcolor": "white",
           "lakecolor": "white",
           "landcolor": "#E5ECF6",
           "showlakes": true,
           "showland": true,
           "subunitcolor": "white"
          },
          "hoverlabel": {
           "align": "left"
          },
          "hovermode": "closest",
          "mapbox": {
           "style": "light"
          },
          "paper_bgcolor": "white",
          "plot_bgcolor": "#E5ECF6",
          "polar": {
           "angularaxis": {
            "gridcolor": "white",
            "linecolor": "white",
            "ticks": ""
           },
           "bgcolor": "#E5ECF6",
           "radialaxis": {
            "gridcolor": "white",
            "linecolor": "white",
            "ticks": ""
           }
          },
          "scene": {
           "xaxis": {
            "backgroundcolor": "#E5ECF6",
            "gridcolor": "white",
            "gridwidth": 2,
            "linecolor": "white",
            "showbackground": true,
            "ticks": "",
            "zerolinecolor": "white"
           },
           "yaxis": {
            "backgroundcolor": "#E5ECF6",
            "gridcolor": "white",
            "gridwidth": 2,
            "linecolor": "white",
            "showbackground": true,
            "ticks": "",
            "zerolinecolor": "white"
           },
           "zaxis": {
            "backgroundcolor": "#E5ECF6",
            "gridcolor": "white",
            "gridwidth": 2,
            "linecolor": "white",
            "showbackground": true,
            "ticks": "",
            "zerolinecolor": "white"
           }
          },
          "shapedefaults": {
           "line": {
            "color": "#2a3f5f"
           }
          },
          "ternary": {
           "aaxis": {
            "gridcolor": "white",
            "linecolor": "white",
            "ticks": ""
           },
           "baxis": {
            "gridcolor": "white",
            "linecolor": "white",
            "ticks": ""
           },
           "bgcolor": "#E5ECF6",
           "caxis": {
            "gridcolor": "white",
            "linecolor": "white",
            "ticks": ""
           }
          },
          "title": {
           "x": 0.05
          },
          "xaxis": {
           "automargin": true,
           "gridcolor": "white",
           "linecolor": "white",
           "ticks": "",
           "title": {
            "standoff": 15
           },
           "zerolinecolor": "white",
           "zerolinewidth": 2
          },
          "yaxis": {
           "automargin": true,
           "gridcolor": "white",
           "linecolor": "white",
           "ticks": "",
           "title": {
            "standoff": 15
           },
           "zerolinecolor": "white",
           "zerolinewidth": 2
          }
         }
        },
        "title": {
         "text": "Number of NMHs Over Time (pythia-160m)"
        },
        "xaxis": {
         "anchor": "y",
         "domain": [
          0,
          1
         ],
         "title": {
          "text": "Checkpoint"
         }
        },
        "yaxis": {
         "anchor": "x",
         "domain": [
          0,
          1
         ],
         "title": {
          "text": "Number of NMHs"
         }
        }
       }
      },
      "text/html": [
       "<div>                            <div id=\"ac1fd460-59e7-451f-812d-e6e46a4d6776\" class=\"plotly-graph-div\" style=\"height:525px; width:100%;\"></div>            <script type=\"text/javascript\">                require([\"plotly\"], function(Plotly) {                    window.PLOTLYENV=window.PLOTLYENV || {};                                    if (document.getElementById(\"ac1fd460-59e7-451f-812d-e6e46a4d6776\")) {                    Plotly.newPlot(                        \"ac1fd460-59e7-451f-812d-e6e46a4d6776\",                        [{\"hovertemplate\":\"Checkpoint=%{x}\\u003cbr\\u003eNumber of NMHs=%{y}\\u003cextra\\u003e\\u003c\\u002fextra\\u003e\",\"legendgroup\":\"\",\"line\":{\"color\":\"#636efa\",\"dash\":\"solid\"},\"marker\":{\"symbol\":\"circle\"},\"mode\":\"lines\",\"name\":\"\",\"orientation\":\"v\",\"showlegend\":false,\"x\":[4000,5000,6000,7000,8000,9000,10000,11000,12000,13000,14000,15000,16000,17000,18000,19000,20000,21000,22000,23000,24000,25000,26000,27000,28000,29000,30000,31000,32000,33000,34000,35000,36000,37000,38000,39000,40000,41000,42000,43000,44000,45000,46000,47000,48000,49000,50000,51000,52000,53000,54000,55000,56000,57000,58000,59000,60000,61000,62000,63000,64000,65000,66000,67000,68000,69000,70000,71000,72000,73000,74000,75000,76000,77000,78000,79000,80000,81000,82000,83000,84000,85000,86000,87000,88000,89000,90000,91000,92000,93000,94000,95000,96000,97000,98000,99000,100000,101000,102000,103000,104000,105000,106000,107000,108000,109000,110000,111000,112000,113000,114000,115000,116000,117000,118000,119000,120000,121000,122000,123000,124000,125000,126000,127000,128000,129000,130000,131000,132000,133000,134000,135000,136000,137000,138000,139000,140000,141000,142000,143000],\"xaxis\":\"x\",\"y\":[0,0,0,0,1,0,2,1,2,1,2,2,5,5,5,5,2,5,5,5,5,2,5,5,5,5,2,4,5,5,5,3,4,4,4,5,3,5,3,5,4,4,4,3,3,5,5,3,2,5,4,5,5,5,4,5,4,4,3,3,3,4,2,3,2,4,3,3,2,3,2,3,2,3,2,2,2,2,2,2,2,2,3,3,2,1,2,3,3,2,2,2,2,2,3,3,2,4,4,2,2,5,3,2,2,2,3,2,5,3,2,1,3,1,3,4,3,4,4,2,4,4,3,2,2,2,2,2,3,0,2,2,2,3,3,2,2,2,3,2],\"yaxis\":\"y\",\"type\":\"scatter\"}],                        {\"template\":{\"data\":{\"histogram2dcontour\":[{\"type\":\"histogram2dcontour\",\"colorbar\":{\"outlinewidth\":0,\"ticks\":\"\"},\"colorscale\":[[0.0,\"#0d0887\"],[0.1111111111111111,\"#46039f\"],[0.2222222222222222,\"#7201a8\"],[0.3333333333333333,\"#9c179e\"],[0.4444444444444444,\"#bd3786\"],[0.5555555555555556,\"#d8576b\"],[0.6666666666666666,\"#ed7953\"],[0.7777777777777778,\"#fb9f3a\"],[0.8888888888888888,\"#fdca26\"],[1.0,\"#f0f921\"]]}],\"choropleth\":[{\"type\":\"choropleth\",\"colorbar\":{\"outlinewidth\":0,\"ticks\":\"\"}}],\"histogram2d\":[{\"type\":\"histogram2d\",\"colorbar\":{\"outlinewidth\":0,\"ticks\":\"\"},\"colorscale\":[[0.0,\"#0d0887\"],[0.1111111111111111,\"#46039f\"],[0.2222222222222222,\"#7201a8\"],[0.3333333333333333,\"#9c179e\"],[0.4444444444444444,\"#bd3786\"],[0.5555555555555556,\"#d8576b\"],[0.6666666666666666,\"#ed7953\"],[0.7777777777777778,\"#fb9f3a\"],[0.8888888888888888,\"#fdca26\"],[1.0,\"#f0f921\"]]}],\"heatmap\":[{\"type\":\"heatmap\",\"colorbar\":{\"outlinewidth\":0,\"ticks\":\"\"},\"colorscale\":[[0.0,\"#0d0887\"],[0.1111111111111111,\"#46039f\"],[0.2222222222222222,\"#7201a8\"],[0.3333333333333333,\"#9c179e\"],[0.4444444444444444,\"#bd3786\"],[0.5555555555555556,\"#d8576b\"],[0.6666666666666666,\"#ed7953\"],[0.7777777777777778,\"#fb9f3a\"],[0.8888888888888888,\"#fdca26\"],[1.0,\"#f0f921\"]]}],\"heatmapgl\":[{\"type\":\"heatmapgl\",\"colorbar\":{\"outlinewidth\":0,\"ticks\":\"\"},\"colorscale\":[[0.0,\"#0d0887\"],[0.1111111111111111,\"#46039f\"],[0.2222222222222222,\"#7201a8\"],[0.3333333333333333,\"#9c179e\"],[0.4444444444444444,\"#bd3786\"],[0.5555555555555556,\"#d8576b\"],[0.6666666666666666,\"#ed7953\"],[0.7777777777777778,\"#fb9f3a\"],[0.8888888888888888,\"#fdca26\"],[1.0,\"#f0f921\"]]}],\"contourcarpet\":[{\"type\":\"contourcarpet\",\"colorbar\":{\"outlinewidth\":0,\"ticks\":\"\"}}],\"contour\":[{\"type\":\"contour\",\"colorbar\":{\"outlinewidth\":0,\"ticks\":\"\"},\"colorscale\":[[0.0,\"#0d0887\"],[0.1111111111111111,\"#46039f\"],[0.2222222222222222,\"#7201a8\"],[0.3333333333333333,\"#9c179e\"],[0.4444444444444444,\"#bd3786\"],[0.5555555555555556,\"#d8576b\"],[0.6666666666666666,\"#ed7953\"],[0.7777777777777778,\"#fb9f3a\"],[0.8888888888888888,\"#fdca26\"],[1.0,\"#f0f921\"]]}],\"surface\":[{\"type\":\"surface\",\"colorbar\":{\"outlinewidth\":0,\"ticks\":\"\"},\"colorscale\":[[0.0,\"#0d0887\"],[0.1111111111111111,\"#46039f\"],[0.2222222222222222,\"#7201a8\"],[0.3333333333333333,\"#9c179e\"],[0.4444444444444444,\"#bd3786\"],[0.5555555555555556,\"#d8576b\"],[0.6666666666666666,\"#ed7953\"],[0.7777777777777778,\"#fb9f3a\"],[0.8888888888888888,\"#fdca26\"],[1.0,\"#f0f921\"]]}],\"mesh3d\":[{\"type\":\"mesh3d\",\"colorbar\":{\"outlinewidth\":0,\"ticks\":\"\"}}],\"scatter\":[{\"fillpattern\":{\"fillmode\":\"overlay\",\"size\":10,\"solidity\":0.2},\"type\":\"scatter\"}],\"parcoords\":[{\"type\":\"parcoords\",\"line\":{\"colorbar\":{\"outlinewidth\":0,\"ticks\":\"\"}}}],\"scatterpolargl\":[{\"type\":\"scatterpolargl\",\"marker\":{\"colorbar\":{\"outlinewidth\":0,\"ticks\":\"\"}}}],\"bar\":[{\"error_x\":{\"color\":\"#2a3f5f\"},\"error_y\":{\"color\":\"#2a3f5f\"},\"marker\":{\"line\":{\"color\":\"#E5ECF6\",\"width\":0.5},\"pattern\":{\"fillmode\":\"overlay\",\"size\":10,\"solidity\":0.2}},\"type\":\"bar\"}],\"scattergeo\":[{\"type\":\"scattergeo\",\"marker\":{\"colorbar\":{\"outlinewidth\":0,\"ticks\":\"\"}}}],\"scatterpolar\":[{\"type\":\"scatterpolar\",\"marker\":{\"colorbar\":{\"outlinewidth\":0,\"ticks\":\"\"}}}],\"histogram\":[{\"marker\":{\"pattern\":{\"fillmode\":\"overlay\",\"size\":10,\"solidity\":0.2}},\"type\":\"histogram\"}],\"scattergl\":[{\"type\":\"scattergl\",\"marker\":{\"colorbar\":{\"outlinewidth\":0,\"ticks\":\"\"}}}],\"scatter3d\":[{\"type\":\"scatter3d\",\"line\":{\"colorbar\":{\"outlinewidth\":0,\"ticks\":\"\"}},\"marker\":{\"colorbar\":{\"outlinewidth\":0,\"ticks\":\"\"}}}],\"scattermapbox\":[{\"type\":\"scattermapbox\",\"marker\":{\"colorbar\":{\"outlinewidth\":0,\"ticks\":\"\"}}}],\"scatterternary\":[{\"type\":\"scatterternary\",\"marker\":{\"colorbar\":{\"outlinewidth\":0,\"ticks\":\"\"}}}],\"scattercarpet\":[{\"type\":\"scattercarpet\",\"marker\":{\"colorbar\":{\"outlinewidth\":0,\"ticks\":\"\"}}}],\"carpet\":[{\"aaxis\":{\"endlinecolor\":\"#2a3f5f\",\"gridcolor\":\"white\",\"linecolor\":\"white\",\"minorgridcolor\":\"white\",\"startlinecolor\":\"#2a3f5f\"},\"baxis\":{\"endlinecolor\":\"#2a3f5f\",\"gridcolor\":\"white\",\"linecolor\":\"white\",\"minorgridcolor\":\"white\",\"startlinecolor\":\"#2a3f5f\"},\"type\":\"carpet\"}],\"table\":[{\"cells\":{\"fill\":{\"color\":\"#EBF0F8\"},\"line\":{\"color\":\"white\"}},\"header\":{\"fill\":{\"color\":\"#C8D4E3\"},\"line\":{\"color\":\"white\"}},\"type\":\"table\"}],\"barpolar\":[{\"marker\":{\"line\":{\"color\":\"#E5ECF6\",\"width\":0.5},\"pattern\":{\"fillmode\":\"overlay\",\"size\":10,\"solidity\":0.2}},\"type\":\"barpolar\"}],\"pie\":[{\"automargin\":true,\"type\":\"pie\"}]},\"layout\":{\"autotypenumbers\":\"strict\",\"colorway\":[\"#636efa\",\"#EF553B\",\"#00cc96\",\"#ab63fa\",\"#FFA15A\",\"#19d3f3\",\"#FF6692\",\"#B6E880\",\"#FF97FF\",\"#FECB52\"],\"font\":{\"color\":\"#2a3f5f\"},\"hovermode\":\"closest\",\"hoverlabel\":{\"align\":\"left\"},\"paper_bgcolor\":\"white\",\"plot_bgcolor\":\"#E5ECF6\",\"polar\":{\"bgcolor\":\"#E5ECF6\",\"angularaxis\":{\"gridcolor\":\"white\",\"linecolor\":\"white\",\"ticks\":\"\"},\"radialaxis\":{\"gridcolor\":\"white\",\"linecolor\":\"white\",\"ticks\":\"\"}},\"ternary\":{\"bgcolor\":\"#E5ECF6\",\"aaxis\":{\"gridcolor\":\"white\",\"linecolor\":\"white\",\"ticks\":\"\"},\"baxis\":{\"gridcolor\":\"white\",\"linecolor\":\"white\",\"ticks\":\"\"},\"caxis\":{\"gridcolor\":\"white\",\"linecolor\":\"white\",\"ticks\":\"\"}},\"coloraxis\":{\"colorbar\":{\"outlinewidth\":0,\"ticks\":\"\"}},\"colorscale\":{\"sequential\":[[0.0,\"#0d0887\"],[0.1111111111111111,\"#46039f\"],[0.2222222222222222,\"#7201a8\"],[0.3333333333333333,\"#9c179e\"],[0.4444444444444444,\"#bd3786\"],[0.5555555555555556,\"#d8576b\"],[0.6666666666666666,\"#ed7953\"],[0.7777777777777778,\"#fb9f3a\"],[0.8888888888888888,\"#fdca26\"],[1.0,\"#f0f921\"]],\"sequentialminus\":[[0.0,\"#0d0887\"],[0.1111111111111111,\"#46039f\"],[0.2222222222222222,\"#7201a8\"],[0.3333333333333333,\"#9c179e\"],[0.4444444444444444,\"#bd3786\"],[0.5555555555555556,\"#d8576b\"],[0.6666666666666666,\"#ed7953\"],[0.7777777777777778,\"#fb9f3a\"],[0.8888888888888888,\"#fdca26\"],[1.0,\"#f0f921\"]],\"diverging\":[[0,\"#8e0152\"],[0.1,\"#c51b7d\"],[0.2,\"#de77ae\"],[0.3,\"#f1b6da\"],[0.4,\"#fde0ef\"],[0.5,\"#f7f7f7\"],[0.6,\"#e6f5d0\"],[0.7,\"#b8e186\"],[0.8,\"#7fbc41\"],[0.9,\"#4d9221\"],[1,\"#276419\"]]},\"xaxis\":{\"gridcolor\":\"white\",\"linecolor\":\"white\",\"ticks\":\"\",\"title\":{\"standoff\":15},\"zerolinecolor\":\"white\",\"automargin\":true,\"zerolinewidth\":2},\"yaxis\":{\"gridcolor\":\"white\",\"linecolor\":\"white\",\"ticks\":\"\",\"title\":{\"standoff\":15},\"zerolinecolor\":\"white\",\"automargin\":true,\"zerolinewidth\":2},\"scene\":{\"xaxis\":{\"backgroundcolor\":\"#E5ECF6\",\"gridcolor\":\"white\",\"linecolor\":\"white\",\"showbackground\":true,\"ticks\":\"\",\"zerolinecolor\":\"white\",\"gridwidth\":2},\"yaxis\":{\"backgroundcolor\":\"#E5ECF6\",\"gridcolor\":\"white\",\"linecolor\":\"white\",\"showbackground\":true,\"ticks\":\"\",\"zerolinecolor\":\"white\",\"gridwidth\":2},\"zaxis\":{\"backgroundcolor\":\"#E5ECF6\",\"gridcolor\":\"white\",\"linecolor\":\"white\",\"showbackground\":true,\"ticks\":\"\",\"zerolinecolor\":\"white\",\"gridwidth\":2}},\"shapedefaults\":{\"line\":{\"color\":\"#2a3f5f\"}},\"annotationdefaults\":{\"arrowcolor\":\"#2a3f5f\",\"arrowhead\":0,\"arrowwidth\":1},\"geo\":{\"bgcolor\":\"white\",\"landcolor\":\"#E5ECF6\",\"subunitcolor\":\"white\",\"showland\":true,\"showlakes\":true,\"lakecolor\":\"white\"},\"title\":{\"x\":0.05},\"mapbox\":{\"style\":\"light\"}}},\"xaxis\":{\"anchor\":\"y\",\"domain\":[0.0,1.0],\"title\":{\"text\":\"Checkpoint\"}},\"yaxis\":{\"anchor\":\"x\",\"domain\":[0.0,1.0],\"title\":{\"text\":\"Number of NMHs\"}},\"legend\":{\"tracegroupgap\":0},\"title\":{\"text\":\"Number of NMHs Over Time (pythia-160m)\"}},                        {\"responsive\": true}                    ).then(function(){\n",
       "                            \n",
       "var gd = document.getElementById('ac1fd460-59e7-451f-812d-e6e46a4d6776');\n",
       "var x = new MutationObserver(function (mutations, observer) {{\n",
       "        var display = window.getComputedStyle(gd).display;\n",
       "        if (!display || display === 'none') {{\n",
       "            console.log([gd, 'removed!']);\n",
       "            Plotly.purge(gd);\n",
       "            observer.disconnect();\n",
       "        }}\n",
       "}});\n",
       "\n",
       "// Listen for the removal of the full notebook cells\n",
       "var notebookContainer = gd.closest('#notebook-container');\n",
       "if (notebookContainer) {{\n",
       "    x.observe(notebookContainer, {childList: true});\n",
       "}}\n",
       "\n",
       "// Listen for the clearing of the current output cell\n",
       "var outputEl = gd.closest('.output');\n",
       "if (outputEl) {{\n",
       "    x.observe(outputEl, {childList: true});\n",
       "}}\n",
       "\n",
       "                        })                };                });            </script>        </div>"
      ]
     },
     "metadata": {},
     "output_type": "display_data"
    }
   ],
   "source": [
    "# plot number of nmhs over time\n",
    "fig = px.line(\n",
    "    x=list(checkpoint_nmhs.keys()), \n",
    "    y=list([len(heads) for heads in checkpoint_nmhs.values()]), \n",
    "    title=f\"Number of NMHs Over Time ({MODEL_TO_VIEW})\",\n",
    "    labels={'x': 'Checkpoint', 'y': 'Number of NMHs'}\n",
    ")\n",
    "fig.show()"
   ]
  },
  {
   "cell_type": "code",
   "execution_count": null,
   "metadata": {},
   "outputs": [],
   "source": []
  }
 ],
 "metadata": {
  "kernelspec": {
   "display_name": "Python 3 (ipykernel)",
   "language": "python",
   "name": "python3"
  },
  "language_info": {
   "codemirror_mode": {
    "name": "ipython",
    "version": 3
   },
   "file_extension": ".py",
   "mimetype": "text/x-python",
   "name": "python",
   "nbconvert_exporter": "python",
   "pygments_lexer": "ipython3",
   "version": "3.10.13"
  },
  "orig_nbformat": 4
 },
 "nbformat": 4,
 "nbformat_minor": 2
}
