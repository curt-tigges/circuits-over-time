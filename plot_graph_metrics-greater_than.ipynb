{
 "cells": [
  {
   "attachments": {},
   "cell_type": "markdown",
   "metadata": {},
   "source": [
    "## Setup"
   ]
  },
  {
   "cell_type": "code",
   "execution_count": 1,
   "metadata": {},
   "outputs": [],
   "source": [
    "import os\n",
    "import json\n",
    "import glob\n",
    "import torch\n",
    "import re\n",
    "import pandas as pd\n",
    "import plotly.express as px\n",
    "import plotly.graph_objects as go\n",
    "import plotly.io as pio\n",
    "#import seaborn as sns\n",
    "import matplotlib.pyplot as plt\n",
    "from utils.data_processing import (\n",
    "    load_edge_scores_into_dictionary,\n",
    "    read_json_file,\n",
    "    get_ckpts,\n",
    "    load_metrics,\n",
    "    compute_ged,\n",
    "    compute_weighted_ged,\n",
    "    compute_gtd,\n",
    "    compute_jaccard_similarity_to_reference,\n",
    "    compute_jaccard_similarity,\n",
    "    aggregate_metrics_to_tensors_step_number,\n",
    "    get_ckpts\n",
    ")"
   ]
  },
  {
   "cell_type": "code",
   "execution_count": 26,
   "metadata": {},
   "outputs": [],
   "source": [
    "TASK = 'greater_than'\n",
    "PERFORMANCE_METRIC = 'prob_diff'"
   ]
  },
  {
   "attachments": {},
   "cell_type": "markdown",
   "metadata": {},
   "source": [
    "## Retrieve & Process Data"
   ]
  },
  {
   "attachments": {},
   "cell_type": "markdown",
   "metadata": {},
   "source": [
    "### Circuit Data"
   ]
  },
  {
   "cell_type": "code",
   "execution_count": 3,
   "metadata": {},
   "outputs": [
    {
     "name": "stdout",
     "output_type": "stream",
     "text": [
      "Processing file 1/143: results/graphs/pythia-160m/greater_than/57000.json\n",
      "Processing file 2/143: results/graphs/pythia-160m/greater_than/141000.json\n",
      "Processing file 3/143: results/graphs/pythia-160m/greater_than/95000.json\n",
      "Processing file 4/143: results/graphs/pythia-160m/greater_than/107000.json\n",
      "Processing file 5/143: results/graphs/pythia-160m/greater_than/34000.json\n",
      "Processing file 6/143: results/graphs/pythia-160m/greater_than/6000.json\n",
      "Processing file 7/143: results/graphs/pythia-160m/greater_than/37000.json\n",
      "Processing file 8/143: results/graphs/pythia-160m/greater_than/39000.json\n",
      "Processing file 9/143: results/graphs/pythia-160m/greater_than/104000.json\n",
      "Processing file 10/143: results/graphs/pythia-160m/greater_than/59000.json\n",
      "Processing file 11/143: results/graphs/pythia-160m/greater_than/67000.json\n",
      "Processing file 12/143: results/graphs/pythia-160m/greater_than/111000.json\n",
      "Processing file 13/143: results/graphs/pythia-160m/greater_than/76000.json\n",
      "Processing file 14/143: results/graphs/pythia-160m/greater_than/5000.json\n",
      "Processing file 15/143: results/graphs/pythia-160m/greater_than/42000.json\n",
      "Processing file 16/143: results/graphs/pythia-160m/greater_than/77000.json\n",
      "Processing file 17/143: results/graphs/pythia-160m/greater_than/86000.json\n",
      "Processing file 18/143: results/graphs/pythia-160m/greater_than/80000.json\n",
      "Processing file 19/143: results/graphs/pythia-160m/greater_than/81000.json\n",
      "Processing file 20/143: results/graphs/pythia-160m/greater_than/63000.json\n",
      "Processing file 21/143: results/graphs/pythia-160m/greater_than/142000.json\n",
      "Processing file 22/143: results/graphs/pythia-160m/greater_than/56000.json\n",
      "Processing file 23/143: results/graphs/pythia-160m/greater_than/8000.json\n",
      "Processing file 24/143: results/graphs/pythia-160m/greater_than/93000.json\n",
      "Processing file 25/143: results/graphs/pythia-160m/greater_than/120000.json\n",
      "Processing file 26/143: results/graphs/pythia-160m/greater_than/62000.json\n",
      "Processing file 27/143: results/graphs/pythia-160m/greater_than/70000.json\n",
      "Processing file 28/143: results/graphs/pythia-160m/greater_than/19000.json\n",
      "Processing file 29/143: results/graphs/pythia-160m/greater_than/121000.json\n",
      "Processing file 30/143: results/graphs/pythia-160m/greater_than/105000.json\n",
      "Processing file 31/143: results/graphs/pythia-160m/greater_than/129000.json\n",
      "Processing file 32/143: results/graphs/pythia-160m/greater_than/2000.json\n",
      "Processing file 33/143: results/graphs/pythia-160m/greater_than/96000.json\n",
      "Processing file 34/143: results/graphs/pythia-160m/greater_than/124000.json\n",
      "Processing file 35/143: results/graphs/pythia-160m/greater_than/143000.json\n",
      "Processing file 36/143: results/graphs/pythia-160m/greater_than/79000.json\n",
      "Processing file 37/143: results/graphs/pythia-160m/greater_than/29000.json\n",
      "Processing file 38/143: results/graphs/pythia-160m/greater_than/137000.json\n",
      "Processing file 39/143: results/graphs/pythia-160m/greater_than/10000.json\n",
      "Processing file 40/143: results/graphs/pythia-160m/greater_than/135000.json\n",
      "Processing file 41/143: results/graphs/pythia-160m/greater_than/65000.json\n",
      "Processing file 42/143: results/graphs/pythia-160m/greater_than/60000.json\n",
      "Processing file 43/143: results/graphs/pythia-160m/greater_than/90000.json\n",
      "Processing file 44/143: results/graphs/pythia-160m/greater_than/106000.json\n",
      "Processing file 45/143: results/graphs/pythia-160m/greater_than/1000.json\n",
      "Processing file 46/143: results/graphs/pythia-160m/greater_than/33000.json\n",
      "Processing file 47/143: results/graphs/pythia-160m/greater_than/103000.json\n",
      "Processing file 48/143: results/graphs/pythia-160m/greater_than/113000.json\n",
      "Processing file 49/143: results/graphs/pythia-160m/greater_than/35000.json\n",
      "Processing file 50/143: results/graphs/pythia-160m/greater_than/133000.json\n",
      "Processing file 51/143: results/graphs/pythia-160m/greater_than/18000.json\n",
      "Processing file 52/143: results/graphs/pythia-160m/greater_than/55000.json\n",
      "Processing file 53/143: results/graphs/pythia-160m/greater_than/102000.json\n",
      "Processing file 54/143: results/graphs/pythia-160m/greater_than/108000.json\n",
      "Processing file 55/143: results/graphs/pythia-160m/greater_than/49000.json\n",
      "Processing file 56/143: results/graphs/pythia-160m/greater_than/130000.json\n",
      "Processing file 57/143: results/graphs/pythia-160m/greater_than/83000.json\n",
      "Processing file 58/143: results/graphs/pythia-160m/greater_than/31000.json\n",
      "Processing file 59/143: results/graphs/pythia-160m/greater_than/46000.json\n",
      "Processing file 60/143: results/graphs/pythia-160m/greater_than/112000.json\n",
      "Processing file 61/143: results/graphs/pythia-160m/greater_than/26000.json\n",
      "Processing file 62/143: results/graphs/pythia-160m/greater_than/78000.json\n",
      "Processing file 63/143: results/graphs/pythia-160m/greater_than/13000.json\n",
      "Processing file 64/143: results/graphs/pythia-160m/greater_than/47000.json\n",
      "Processing file 65/143: results/graphs/pythia-160m/greater_than/58000.json\n",
      "Processing file 66/143: results/graphs/pythia-160m/greater_than/134000.json\n",
      "Processing file 67/143: results/graphs/pythia-160m/greater_than/100000.json\n",
      "Processing file 68/143: results/graphs/pythia-160m/greater_than/138000.json\n",
      "Processing file 69/143: results/graphs/pythia-160m/greater_than/27000.json\n",
      "Processing file 70/143: results/graphs/pythia-160m/greater_than/48000.json\n",
      "Processing file 71/143: results/graphs/pythia-160m/greater_than/91000.json\n",
      "Processing file 72/143: results/graphs/pythia-160m/greater_than/122000.json\n",
      "Processing file 73/143: results/graphs/pythia-160m/greater_than/99000.json\n",
      "Processing file 74/143: results/graphs/pythia-160m/greater_than/32000.json\n",
      "Processing file 75/143: results/graphs/pythia-160m/greater_than/30000.json\n",
      "Processing file 76/143: results/graphs/pythia-160m/greater_than/44000.json\n",
      "Processing file 77/143: results/graphs/pythia-160m/greater_than/136000.json\n",
      "Processing file 78/143: results/graphs/pythia-160m/greater_than/116000.json\n",
      "Processing file 79/143: results/graphs/pythia-160m/greater_than/74000.json\n",
      "Processing file 80/143: results/graphs/pythia-160m/greater_than/118000.json\n",
      "Processing file 81/143: results/graphs/pythia-160m/greater_than/94000.json\n",
      "Processing file 82/143: results/graphs/pythia-160m/greater_than/119000.json\n",
      "Processing file 83/143: results/graphs/pythia-160m/greater_than/64000.json\n",
      "Processing file 84/143: results/graphs/pythia-160m/greater_than/69000.json\n",
      "Processing file 85/143: results/graphs/pythia-160m/greater_than/140000.json\n",
      "Processing file 86/143: results/graphs/pythia-160m/greater_than/72000.json\n",
      "Processing file 87/143: results/graphs/pythia-160m/greater_than/117000.json\n",
      "Processing file 88/143: results/graphs/pythia-160m/greater_than/9000.json\n",
      "Processing file 89/143: results/graphs/pythia-160m/greater_than/98000.json\n",
      "Processing file 90/143: results/graphs/pythia-160m/greater_than/110000.json\n",
      "Processing file 91/143: results/graphs/pythia-160m/greater_than/88000.json\n",
      "Processing file 92/143: results/graphs/pythia-160m/greater_than/16000.json\n",
      "Processing file 93/143: results/graphs/pythia-160m/greater_than/23000.json\n",
      "Processing file 94/143: results/graphs/pythia-160m/greater_than/109000.json\n",
      "Processing file 95/143: results/graphs/pythia-160m/greater_than/22000.json\n",
      "Processing file 96/143: results/graphs/pythia-160m/greater_than/17000.json\n",
      "Processing file 97/143: results/graphs/pythia-160m/greater_than/73000.json\n",
      "Processing file 98/143: results/graphs/pythia-160m/greater_than/3000.json\n",
      "Processing file 99/143: results/graphs/pythia-160m/greater_than/71000.json\n",
      "Processing file 100/143: results/graphs/pythia-160m/greater_than/125000.json\n",
      "Processing file 101/143: results/graphs/pythia-160m/greater_than/84000.json\n",
      "Processing file 102/143: results/graphs/pythia-160m/greater_than/87000.json\n",
      "Processing file 103/143: results/graphs/pythia-160m/greater_than/131000.json\n",
      "Processing file 104/143: results/graphs/pythia-160m/greater_than/24000.json\n",
      "Processing file 105/143: results/graphs/pythia-160m/greater_than/128000.json\n",
      "Processing file 106/143: results/graphs/pythia-160m/greater_than/51000.json\n",
      "Processing file 107/143: results/graphs/pythia-160m/greater_than/52000.json\n",
      "Processing file 108/143: results/graphs/pythia-160m/greater_than/132000.json\n",
      "Processing file 109/143: results/graphs/pythia-160m/greater_than/101000.json\n",
      "Processing file 110/143: results/graphs/pythia-160m/greater_than/89000.json\n",
      "Processing file 111/143: results/graphs/pythia-160m/greater_than/40000.json\n",
      "Processing file 112/143: results/graphs/pythia-160m/greater_than/43000.json\n",
      "Processing file 113/143: results/graphs/pythia-160m/greater_than/54000.json\n",
      "Processing file 114/143: results/graphs/pythia-160m/greater_than/11000.json\n",
      "Processing file 115/143: results/graphs/pythia-160m/greater_than/36000.json\n",
      "Processing file 116/143: results/graphs/pythia-160m/greater_than/45000.json\n",
      "Processing file 117/143: results/graphs/pythia-160m/greater_than/50000.json\n",
      "Processing file 118/143: results/graphs/pythia-160m/greater_than/114000.json\n",
      "Processing file 119/143: results/graphs/pythia-160m/greater_than/66000.json\n",
      "Processing file 120/143: results/graphs/pythia-160m/greater_than/28000.json\n",
      "Processing file 121/143: results/graphs/pythia-160m/greater_than/82000.json\n",
      "Processing file 122/143: results/graphs/pythia-160m/greater_than/127000.json\n",
      "Processing file 123/143: results/graphs/pythia-160m/greater_than/14000.json\n",
      "Processing file 124/143: results/graphs/pythia-160m/greater_than/75000.json\n",
      "Processing file 125/143: results/graphs/pythia-160m/greater_than/115000.json\n",
      "Processing file 126/143: results/graphs/pythia-160m/greater_than/12000.json\n",
      "Processing file 127/143: results/graphs/pythia-160m/greater_than/21000.json\n",
      "Processing file 128/143: results/graphs/pythia-160m/greater_than/38000.json\n",
      "Processing file 129/143: results/graphs/pythia-160m/greater_than/15000.json\n",
      "Processing file 130/143: results/graphs/pythia-160m/greater_than/85000.json\n",
      "Processing file 131/143: results/graphs/pythia-160m/greater_than/139000.json\n",
      "Processing file 132/143: results/graphs/pythia-160m/greater_than/61000.json\n",
      "Processing file 133/143: results/graphs/pythia-160m/greater_than/7000.json\n",
      "Processing file 134/143: results/graphs/pythia-160m/greater_than/68000.json\n",
      "Processing file 135/143: results/graphs/pythia-160m/greater_than/53000.json\n",
      "Processing file 136/143: results/graphs/pythia-160m/greater_than/25000.json\n",
      "Processing file 137/143: results/graphs/pythia-160m/greater_than/97000.json\n",
      "Processing file 138/143: results/graphs/pythia-160m/greater_than/4000.json\n",
      "Processing file 139/143: results/graphs/pythia-160m/greater_than/123000.json\n",
      "Processing file 140/143: results/graphs/pythia-160m/greater_than/20000.json\n",
      "Processing file 141/143: results/graphs/pythia-160m/greater_than/41000.json\n",
      "Processing file 142/143: results/graphs/pythia-160m/greater_than/126000.json\n",
      "Processing file 143/143: results/graphs/pythia-160m/greater_than/92000.json\n"
     ]
    }
   ],
   "source": [
    "folder_path = f'results/graphs/pythia-160m/{TASK}'\n",
    "df = load_edge_scores_into_dictionary(folder_path)"
   ]
  },
  {
   "attachments": {},
   "cell_type": "markdown",
   "metadata": {},
   "source": [
    "### Performance Data"
   ]
  },
  {
   "cell_type": "code",
   "execution_count": 16,
   "metadata": {},
   "outputs": [],
   "source": [
    "directory_path = 'results'\n",
    "perf_metrics = load_metrics(directory_path)\n",
    "\n",
    "ckpts = get_ckpts(schedule=\"exp_plus_detail\")\n",
    "#pythia_evals = aggregate_metrics_to_tensors_step_number(\"results/pythia-evals/pythia-v1\")"
   ]
  },
  {
   "cell_type": "code",
   "execution_count": 27,
   "metadata": {},
   "outputs": [],
   "source": [
    "perf_metric = perf_metrics['pythia-160m'][TASK][PERFORMANCE_METRIC]\n",
    "\n",
    "perf_metric = [x.item() for x in perf_metric]\n",
    "\n",
    "# zip into dictionary with ckpts as key\n",
    "perf_metric_dict = dict(zip(ckpts, perf_metric))\n"
   ]
  },
  {
   "attachments": {},
   "cell_type": "markdown",
   "metadata": {},
   "source": [
    "## Visualize Results"
   ]
  },
  {
   "attachments": {},
   "cell_type": "markdown",
   "metadata": {},
   "source": [
    "### Graph Size"
   ]
  },
  {
   "cell_type": "code",
   "execution_count": 28,
   "metadata": {},
   "outputs": [
    {
     "data": {
      "text/html": [
       "<div>\n",
       "<style scoped>\n",
       "    .dataframe tbody tr th:only-of-type {\n",
       "        vertical-align: middle;\n",
       "    }\n",
       "\n",
       "    .dataframe tbody tr th {\n",
       "        vertical-align: top;\n",
       "    }\n",
       "\n",
       "    .dataframe thead th {\n",
       "        text-align: right;\n",
       "    }\n",
       "</style>\n",
       "<table border=\"1\" class=\"dataframe\">\n",
       "  <thead>\n",
       "    <tr style=\"text-align: right;\">\n",
       "      <th></th>\n",
       "      <th>checkpoint</th>\n",
       "      <th>num_edges</th>\n",
       "    </tr>\n",
       "  </thead>\n",
       "  <tbody>\n",
       "    <tr>\n",
       "      <th>0</th>\n",
       "      <td>2000</td>\n",
       "      <td>76</td>\n",
       "    </tr>\n",
       "    <tr>\n",
       "      <th>1</th>\n",
       "      <td>3000</td>\n",
       "      <td>112</td>\n",
       "    </tr>\n",
       "    <tr>\n",
       "      <th>2</th>\n",
       "      <td>4000</td>\n",
       "      <td>32</td>\n",
       "    </tr>\n",
       "    <tr>\n",
       "      <th>3</th>\n",
       "      <td>5000</td>\n",
       "      <td>34</td>\n",
       "    </tr>\n",
       "    <tr>\n",
       "      <th>4</th>\n",
       "      <td>6000</td>\n",
       "      <td>40</td>\n",
       "    </tr>\n",
       "  </tbody>\n",
       "</table>\n",
       "</div>"
      ],
      "text/plain": [
       "   checkpoint  num_edges\n",
       "0        2000         76\n",
       "1        3000        112\n",
       "2        4000         32\n",
       "3        5000         34\n",
       "4        6000         40"
      ]
     },
     "execution_count": 28,
     "metadata": {},
     "output_type": "execute_result"
    }
   ],
   "source": [
    "# Summarize the total number of edges in the graph at each checkpoint, filtered by in_circuit\n",
    "subgraph_df = df[df['in_circuit'] == True]\n",
    "\n",
    "# Group by checkpoint and sum the number of edges\n",
    "subgraph_df = subgraph_df.groupby('checkpoint').size().reset_index(name='num_edges')\n",
    "\n",
    "subgraph_df.head()\n"
   ]
  },
  {
   "cell_type": "code",
   "execution_count": 29,
   "metadata": {},
   "outputs": [
    {
     "data": {
      "application/vnd.plotly.v1+json": {
       "config": {
        "plotlyServerURL": "https://plot.ly"
       },
       "data": [
        {
         "hovertemplate": "variable=num_edges<br>checkpoint=%{x}<br>value=%{y}<extra></extra>",
         "legendgroup": "num_edges",
         "line": {
          "color": "lightblue",
          "dash": "solid"
         },
         "marker": {
          "symbol": "circle"
         },
         "mode": "lines",
         "name": "num_edges",
         "orientation": "v",
         "showlegend": true,
         "type": "scatter",
         "x": [
          2000,
          3000,
          4000,
          5000,
          6000,
          7000,
          8000,
          9000,
          10000,
          11000,
          12000,
          13000,
          14000,
          15000,
          16000,
          17000,
          18000,
          19000,
          20000,
          21000,
          22000,
          23000,
          24000,
          25000,
          26000,
          27000,
          28000,
          29000,
          30000,
          31000,
          32000,
          33000,
          34000,
          35000,
          36000,
          37000,
          38000,
          39000,
          40000,
          41000,
          42000,
          43000,
          44000,
          45000,
          46000,
          47000,
          48000,
          49000,
          50000,
          51000,
          52000,
          53000,
          54000,
          55000,
          56000,
          57000,
          58000,
          59000,
          60000,
          61000,
          62000,
          63000,
          64000,
          65000,
          66000,
          67000,
          68000,
          69000,
          70000,
          71000,
          72000,
          73000,
          74000,
          75000,
          76000,
          77000,
          78000,
          79000,
          80000,
          81000,
          82000,
          83000,
          84000,
          85000,
          86000,
          87000,
          88000,
          89000,
          90000,
          91000,
          92000,
          93000,
          94000,
          95000,
          96000,
          97000,
          98000,
          99000,
          100000,
          101000,
          102000,
          103000,
          104000,
          105000,
          106000,
          107000,
          108000,
          109000,
          110000,
          111000,
          112000,
          113000,
          114000,
          115000,
          116000,
          117000,
          118000,
          119000,
          120000,
          121000,
          122000,
          123000,
          124000,
          125000,
          126000,
          127000,
          128000,
          129000,
          130000,
          131000,
          132000,
          133000,
          134000,
          135000,
          136000,
          137000,
          138000,
          139000,
          140000,
          141000,
          142000,
          143000
         ],
         "xaxis": "x",
         "y": [
          76,
          112,
          32,
          34,
          40,
          29,
          57,
          53,
          41,
          52,
          55,
          81,
          65,
          79,
          72,
          67,
          74,
          63,
          84,
          75,
          82,
          95,
          81,
          101,
          142,
          55,
          81,
          82,
          73,
          56,
          67,
          63,
          89,
          37,
          29,
          57,
          31,
          35,
          65,
          26,
          23,
          42,
          27,
          33,
          26,
          26,
          35,
          40,
          24,
          24,
          31,
          25,
          27,
          28,
          30,
          29,
          27,
          41,
          37,
          26,
          47,
          31,
          46,
          46,
          45,
          28,
          45,
          32,
          27,
          31,
          35,
          34,
          47,
          39,
          32,
          32,
          60,
          52,
          38,
          44,
          68,
          54,
          55,
          44,
          31,
          37,
          27,
          38,
          40,
          22,
          27,
          36,
          39,
          44,
          35,
          35,
          37,
          39,
          35,
          39,
          37,
          53,
          35,
          41,
          41,
          38,
          20,
          41,
          31,
          26,
          59,
          33,
          33,
          23,
          40,
          37,
          75,
          22,
          62,
          59,
          60,
          43,
          63,
          95,
          61,
          59,
          47,
          36,
          25,
          30,
          20,
          22,
          40,
          42,
          24,
          68,
          30,
          48,
          49,
          43,
          37,
          47
         ],
         "yaxis": "y"
        },
        {
         "line": {
          "color": "black"
         },
         "mode": "lines",
         "name": "perf_metric",
         "type": "scatter",
         "x": [
          2000,
          3000,
          4000,
          5000,
          6000,
          7000,
          8000,
          9000,
          10000,
          11000,
          12000,
          13000,
          14000,
          15000,
          16000,
          17000,
          18000,
          19000,
          20000,
          21000,
          22000,
          23000,
          24000,
          25000,
          26000,
          27000,
          28000,
          29000,
          30000,
          31000,
          32000,
          33000,
          34000,
          35000,
          36000,
          37000,
          38000,
          39000,
          40000,
          41000,
          42000,
          43000,
          44000,
          45000,
          46000,
          47000,
          48000,
          49000,
          50000,
          51000,
          52000,
          53000,
          54000,
          55000,
          56000,
          57000,
          58000,
          59000,
          60000,
          61000,
          62000,
          63000,
          64000,
          65000,
          66000,
          67000,
          68000,
          69000,
          70000,
          71000,
          72000,
          73000,
          74000,
          75000,
          76000,
          77000,
          78000,
          79000,
          80000,
          81000,
          82000,
          83000,
          84000,
          85000,
          86000,
          87000,
          88000,
          89000,
          90000,
          91000,
          92000,
          93000,
          94000,
          95000,
          96000,
          97000,
          98000,
          99000,
          100000,
          101000,
          102000,
          103000,
          104000,
          105000,
          106000,
          107000,
          108000,
          109000,
          110000,
          111000,
          112000,
          113000,
          114000,
          115000,
          116000,
          117000,
          118000,
          119000,
          120000,
          121000,
          122000,
          123000,
          124000,
          125000,
          126000,
          127000,
          128000,
          129000,
          130000,
          131000,
          132000,
          133000,
          134000,
          135000,
          136000,
          137000,
          138000,
          139000,
          140000,
          141000,
          142000,
          143000
         ],
         "y": [
          0.14408066868782043,
          0.30164390802383423,
          0.5214207172393799,
          0.6283944845199585,
          0.42528706789016724,
          0.6616678237915039,
          0.5040611624717712,
          0.5024839639663696,
          0.5974746346473694,
          0.6558032035827637,
          0.4376274645328522,
          0.5673839449882507,
          0.5760918855667114,
          0.673001766204834,
          0.6555053234100342,
          0.6380088806152344,
          0.6205124378204345,
          0.6030159950256347,
          0.585519552230835,
          0.5996431350708008,
          0.6137667179107666,
          0.6278903007507324,
          0.6420138835906982,
          0.6561374664306641,
          0.6663044571876526,
          0.6764714479446411,
          0.6866384387016297,
          0.6968054294586181,
          0.7069724202156067,
          0.7357974052429199,
          0.7646223902702332,
          0.7934473752975464,
          0.8222723603248596,
          0.8510973453521729,
          0.8380409240722656,
          0.8249845027923584,
          0.8119280815124512,
          0.798871660232544,
          0.7858152389526367,
          0.79725341796875,
          0.8086915969848633,
          0.8201297760009766,
          0.8315679550170898,
          0.8430061340332031,
          0.846302616596222,
          0.8495990991592407,
          0.8528955817222595,
          0.8561920642852783,
          0.8594885468482971,
          0.8525122761726379,
          0.8455360054969787,
          0.8385597348213196,
          0.8315834641456604,
          0.8246071934700012,
          0.8252315759658814,
          0.8258559584617615,
          0.8264803409576416,
          0.8271047234535217,
          0.8277291059494019,
          0.8395205616950989,
          0.8513120174407959,
          0.8631034731864929,
          0.8748949289321899,
          0.886686384677887,
          0.88213552236557,
          0.8775846600532532,
          0.8730337977409363,
          0.8684829354286194,
          0.8639320731163025,
          0.8613804459571839,
          0.8588288187980652,
          0.8562771916389466,
          0.8537255644798278,
          0.8511739373207092,
          0.8486223101615906,
          0.8460706830024719,
          0.8435190558433533,
          0.8409674286842346,
          0.838415801525116,
          0.8408834636211395,
          0.8433511257171631,
          0.8458187878131866,
          0.8482864499092102,
          0.8507541120052338,
          0.8532217741012573,
          0.8556894361972809,
          0.8581570982933044,
          0.860624760389328,
          0.8630924224853516,
          0.8648158371448517,
          0.8665392518043518,
          0.868262666463852,
          0.8699860811233521,
          0.8717094957828522,
          0.8734329104423523,
          0.8751563251018524,
          0.8768797397613526,
          0.8786031544208527,
          0.8803265690803528,
          0.8766833901405334,
          0.8730402112007141,
          0.8693970322608948,
          0.8657538533210755,
          0.8621106743812561,
          0.8584674954414367,
          0.8548243165016174,
          0.8511811375617981,
          0.8475379586219788,
          0.8438947796821594,
          0.8408937096595764,
          0.8378926396369935,
          0.8348915696144104,
          0.8318904995918274,
          0.8288894295692444,
          0.8258883595466614,
          0.8228872895240784,
          0.8198862195014953,
          0.8168851494789123,
          0.8138840794563293,
          0.8138286948204041,
          0.8137733101844787,
          0.8137179255485535,
          0.8136625409126281,
          0.8136071562767029,
          0.8135517716407776,
          0.8134963870048523,
          0.813441002368927,
          0.8133856177330017,
          0.8133302330970764,
          0.814875864982605,
          0.8164214968681336,
          0.8179671287536621,
          0.8195127606391907,
          0.8210583925247192,
          0.8226040244102478,
          0.8241496562957764,
          0.8256952881813049,
          0.8272409200668335,
          0.8287865519523621,
          0.8287865519523621,
          0.8287865519523621,
          0.8287865519523621
         ],
         "yaxis": "y2"
        }
       ],
       "layout": {
        "legend": {
         "title": {
          "text": "variable"
         },
         "tracegroupgap": 0
        },
        "template": {
         "data": {
          "bar": [
           {
            "error_x": {
             "color": "#2a3f5f"
            },
            "error_y": {
             "color": "#2a3f5f"
            },
            "marker": {
             "line": {
              "color": "#E5ECF6",
              "width": 0.5
             },
             "pattern": {
              "fillmode": "overlay",
              "size": 10,
              "solidity": 0.2
             }
            },
            "type": "bar"
           }
          ],
          "barpolar": [
           {
            "marker": {
             "line": {
              "color": "#E5ECF6",
              "width": 0.5
             },
             "pattern": {
              "fillmode": "overlay",
              "size": 10,
              "solidity": 0.2
             }
            },
            "type": "barpolar"
           }
          ],
          "carpet": [
           {
            "aaxis": {
             "endlinecolor": "#2a3f5f",
             "gridcolor": "white",
             "linecolor": "white",
             "minorgridcolor": "white",
             "startlinecolor": "#2a3f5f"
            },
            "baxis": {
             "endlinecolor": "#2a3f5f",
             "gridcolor": "white",
             "linecolor": "white",
             "minorgridcolor": "white",
             "startlinecolor": "#2a3f5f"
            },
            "type": "carpet"
           }
          ],
          "choropleth": [
           {
            "colorbar": {
             "outlinewidth": 0,
             "ticks": ""
            },
            "type": "choropleth"
           }
          ],
          "contour": [
           {
            "colorbar": {
             "outlinewidth": 0,
             "ticks": ""
            },
            "colorscale": [
             [
              0,
              "#0d0887"
             ],
             [
              0.1111111111111111,
              "#46039f"
             ],
             [
              0.2222222222222222,
              "#7201a8"
             ],
             [
              0.3333333333333333,
              "#9c179e"
             ],
             [
              0.4444444444444444,
              "#bd3786"
             ],
             [
              0.5555555555555556,
              "#d8576b"
             ],
             [
              0.6666666666666666,
              "#ed7953"
             ],
             [
              0.7777777777777778,
              "#fb9f3a"
             ],
             [
              0.8888888888888888,
              "#fdca26"
             ],
             [
              1,
              "#f0f921"
             ]
            ],
            "type": "contour"
           }
          ],
          "contourcarpet": [
           {
            "colorbar": {
             "outlinewidth": 0,
             "ticks": ""
            },
            "type": "contourcarpet"
           }
          ],
          "heatmap": [
           {
            "colorbar": {
             "outlinewidth": 0,
             "ticks": ""
            },
            "colorscale": [
             [
              0,
              "#0d0887"
             ],
             [
              0.1111111111111111,
              "#46039f"
             ],
             [
              0.2222222222222222,
              "#7201a8"
             ],
             [
              0.3333333333333333,
              "#9c179e"
             ],
             [
              0.4444444444444444,
              "#bd3786"
             ],
             [
              0.5555555555555556,
              "#d8576b"
             ],
             [
              0.6666666666666666,
              "#ed7953"
             ],
             [
              0.7777777777777778,
              "#fb9f3a"
             ],
             [
              0.8888888888888888,
              "#fdca26"
             ],
             [
              1,
              "#f0f921"
             ]
            ],
            "type": "heatmap"
           }
          ],
          "heatmapgl": [
           {
            "colorbar": {
             "outlinewidth": 0,
             "ticks": ""
            },
            "colorscale": [
             [
              0,
              "#0d0887"
             ],
             [
              0.1111111111111111,
              "#46039f"
             ],
             [
              0.2222222222222222,
              "#7201a8"
             ],
             [
              0.3333333333333333,
              "#9c179e"
             ],
             [
              0.4444444444444444,
              "#bd3786"
             ],
             [
              0.5555555555555556,
              "#d8576b"
             ],
             [
              0.6666666666666666,
              "#ed7953"
             ],
             [
              0.7777777777777778,
              "#fb9f3a"
             ],
             [
              0.8888888888888888,
              "#fdca26"
             ],
             [
              1,
              "#f0f921"
             ]
            ],
            "type": "heatmapgl"
           }
          ],
          "histogram": [
           {
            "marker": {
             "pattern": {
              "fillmode": "overlay",
              "size": 10,
              "solidity": 0.2
             }
            },
            "type": "histogram"
           }
          ],
          "histogram2d": [
           {
            "colorbar": {
             "outlinewidth": 0,
             "ticks": ""
            },
            "colorscale": [
             [
              0,
              "#0d0887"
             ],
             [
              0.1111111111111111,
              "#46039f"
             ],
             [
              0.2222222222222222,
              "#7201a8"
             ],
             [
              0.3333333333333333,
              "#9c179e"
             ],
             [
              0.4444444444444444,
              "#bd3786"
             ],
             [
              0.5555555555555556,
              "#d8576b"
             ],
             [
              0.6666666666666666,
              "#ed7953"
             ],
             [
              0.7777777777777778,
              "#fb9f3a"
             ],
             [
              0.8888888888888888,
              "#fdca26"
             ],
             [
              1,
              "#f0f921"
             ]
            ],
            "type": "histogram2d"
           }
          ],
          "histogram2dcontour": [
           {
            "colorbar": {
             "outlinewidth": 0,
             "ticks": ""
            },
            "colorscale": [
             [
              0,
              "#0d0887"
             ],
             [
              0.1111111111111111,
              "#46039f"
             ],
             [
              0.2222222222222222,
              "#7201a8"
             ],
             [
              0.3333333333333333,
              "#9c179e"
             ],
             [
              0.4444444444444444,
              "#bd3786"
             ],
             [
              0.5555555555555556,
              "#d8576b"
             ],
             [
              0.6666666666666666,
              "#ed7953"
             ],
             [
              0.7777777777777778,
              "#fb9f3a"
             ],
             [
              0.8888888888888888,
              "#fdca26"
             ],
             [
              1,
              "#f0f921"
             ]
            ],
            "type": "histogram2dcontour"
           }
          ],
          "mesh3d": [
           {
            "colorbar": {
             "outlinewidth": 0,
             "ticks": ""
            },
            "type": "mesh3d"
           }
          ],
          "parcoords": [
           {
            "line": {
             "colorbar": {
              "outlinewidth": 0,
              "ticks": ""
             }
            },
            "type": "parcoords"
           }
          ],
          "pie": [
           {
            "automargin": true,
            "type": "pie"
           }
          ],
          "scatter": [
           {
            "fillpattern": {
             "fillmode": "overlay",
             "size": 10,
             "solidity": 0.2
            },
            "type": "scatter"
           }
          ],
          "scatter3d": [
           {
            "line": {
             "colorbar": {
              "outlinewidth": 0,
              "ticks": ""
             }
            },
            "marker": {
             "colorbar": {
              "outlinewidth": 0,
              "ticks": ""
             }
            },
            "type": "scatter3d"
           }
          ],
          "scattercarpet": [
           {
            "marker": {
             "colorbar": {
              "outlinewidth": 0,
              "ticks": ""
             }
            },
            "type": "scattercarpet"
           }
          ],
          "scattergeo": [
           {
            "marker": {
             "colorbar": {
              "outlinewidth": 0,
              "ticks": ""
             }
            },
            "type": "scattergeo"
           }
          ],
          "scattergl": [
           {
            "marker": {
             "colorbar": {
              "outlinewidth": 0,
              "ticks": ""
             }
            },
            "type": "scattergl"
           }
          ],
          "scattermapbox": [
           {
            "marker": {
             "colorbar": {
              "outlinewidth": 0,
              "ticks": ""
             }
            },
            "type": "scattermapbox"
           }
          ],
          "scatterpolar": [
           {
            "marker": {
             "colorbar": {
              "outlinewidth": 0,
              "ticks": ""
             }
            },
            "type": "scatterpolar"
           }
          ],
          "scatterpolargl": [
           {
            "marker": {
             "colorbar": {
              "outlinewidth": 0,
              "ticks": ""
             }
            },
            "type": "scatterpolargl"
           }
          ],
          "scatterternary": [
           {
            "marker": {
             "colorbar": {
              "outlinewidth": 0,
              "ticks": ""
             }
            },
            "type": "scatterternary"
           }
          ],
          "surface": [
           {
            "colorbar": {
             "outlinewidth": 0,
             "ticks": ""
            },
            "colorscale": [
             [
              0,
              "#0d0887"
             ],
             [
              0.1111111111111111,
              "#46039f"
             ],
             [
              0.2222222222222222,
              "#7201a8"
             ],
             [
              0.3333333333333333,
              "#9c179e"
             ],
             [
              0.4444444444444444,
              "#bd3786"
             ],
             [
              0.5555555555555556,
              "#d8576b"
             ],
             [
              0.6666666666666666,
              "#ed7953"
             ],
             [
              0.7777777777777778,
              "#fb9f3a"
             ],
             [
              0.8888888888888888,
              "#fdca26"
             ],
             [
              1,
              "#f0f921"
             ]
            ],
            "type": "surface"
           }
          ],
          "table": [
           {
            "cells": {
             "fill": {
              "color": "#EBF0F8"
             },
             "line": {
              "color": "white"
             }
            },
            "header": {
             "fill": {
              "color": "#C8D4E3"
             },
             "line": {
              "color": "white"
             }
            },
            "type": "table"
           }
          ]
         },
         "layout": {
          "annotationdefaults": {
           "arrowcolor": "#2a3f5f",
           "arrowhead": 0,
           "arrowwidth": 1
          },
          "autotypenumbers": "strict",
          "coloraxis": {
           "colorbar": {
            "outlinewidth": 0,
            "ticks": ""
           }
          },
          "colorscale": {
           "diverging": [
            [
             0,
             "#8e0152"
            ],
            [
             0.1,
             "#c51b7d"
            ],
            [
             0.2,
             "#de77ae"
            ],
            [
             0.3,
             "#f1b6da"
            ],
            [
             0.4,
             "#fde0ef"
            ],
            [
             0.5,
             "#f7f7f7"
            ],
            [
             0.6,
             "#e6f5d0"
            ],
            [
             0.7,
             "#b8e186"
            ],
            [
             0.8,
             "#7fbc41"
            ],
            [
             0.9,
             "#4d9221"
            ],
            [
             1,
             "#276419"
            ]
           ],
           "sequential": [
            [
             0,
             "#0d0887"
            ],
            [
             0.1111111111111111,
             "#46039f"
            ],
            [
             0.2222222222222222,
             "#7201a8"
            ],
            [
             0.3333333333333333,
             "#9c179e"
            ],
            [
             0.4444444444444444,
             "#bd3786"
            ],
            [
             0.5555555555555556,
             "#d8576b"
            ],
            [
             0.6666666666666666,
             "#ed7953"
            ],
            [
             0.7777777777777778,
             "#fb9f3a"
            ],
            [
             0.8888888888888888,
             "#fdca26"
            ],
            [
             1,
             "#f0f921"
            ]
           ],
           "sequentialminus": [
            [
             0,
             "#0d0887"
            ],
            [
             0.1111111111111111,
             "#46039f"
            ],
            [
             0.2222222222222222,
             "#7201a8"
            ],
            [
             0.3333333333333333,
             "#9c179e"
            ],
            [
             0.4444444444444444,
             "#bd3786"
            ],
            [
             0.5555555555555556,
             "#d8576b"
            ],
            [
             0.6666666666666666,
             "#ed7953"
            ],
            [
             0.7777777777777778,
             "#fb9f3a"
            ],
            [
             0.8888888888888888,
             "#fdca26"
            ],
            [
             1,
             "#f0f921"
            ]
           ]
          },
          "colorway": [
           "#636efa",
           "#EF553B",
           "#00cc96",
           "#ab63fa",
           "#FFA15A",
           "#19d3f3",
           "#FF6692",
           "#B6E880",
           "#FF97FF",
           "#FECB52"
          ],
          "font": {
           "color": "#2a3f5f"
          },
          "geo": {
           "bgcolor": "white",
           "lakecolor": "white",
           "landcolor": "#E5ECF6",
           "showlakes": true,
           "showland": true,
           "subunitcolor": "white"
          },
          "hoverlabel": {
           "align": "left"
          },
          "hovermode": "closest",
          "mapbox": {
           "style": "light"
          },
          "paper_bgcolor": "white",
          "plot_bgcolor": "#E5ECF6",
          "polar": {
           "angularaxis": {
            "gridcolor": "white",
            "linecolor": "white",
            "ticks": ""
           },
           "bgcolor": "#E5ECF6",
           "radialaxis": {
            "gridcolor": "white",
            "linecolor": "white",
            "ticks": ""
           }
          },
          "scene": {
           "xaxis": {
            "backgroundcolor": "#E5ECF6",
            "gridcolor": "white",
            "gridwidth": 2,
            "linecolor": "white",
            "showbackground": true,
            "ticks": "",
            "zerolinecolor": "white"
           },
           "yaxis": {
            "backgroundcolor": "#E5ECF6",
            "gridcolor": "white",
            "gridwidth": 2,
            "linecolor": "white",
            "showbackground": true,
            "ticks": "",
            "zerolinecolor": "white"
           },
           "zaxis": {
            "backgroundcolor": "#E5ECF6",
            "gridcolor": "white",
            "gridwidth": 2,
            "linecolor": "white",
            "showbackground": true,
            "ticks": "",
            "zerolinecolor": "white"
           }
          },
          "shapedefaults": {
           "line": {
            "color": "#2a3f5f"
           }
          },
          "ternary": {
           "aaxis": {
            "gridcolor": "white",
            "linecolor": "white",
            "ticks": ""
           },
           "baxis": {
            "gridcolor": "white",
            "linecolor": "white",
            "ticks": ""
           },
           "bgcolor": "#E5ECF6",
           "caxis": {
            "gridcolor": "white",
            "linecolor": "white",
            "ticks": ""
           }
          },
          "title": {
           "x": 0.05
          },
          "xaxis": {
           "automargin": true,
           "gridcolor": "white",
           "linecolor": "white",
           "ticks": "",
           "title": {
            "standoff": 15
           },
           "zerolinecolor": "white",
           "zerolinewidth": 2
          },
          "yaxis": {
           "automargin": true,
           "gridcolor": "white",
           "linecolor": "white",
           "ticks": "",
           "title": {
            "standoff": 15
           },
           "zerolinecolor": "white",
           "zerolinewidth": 2
          }
         }
        },
        "title": {
         "text": "Smallest Faithful Graph Size Over Training (greater_than)"
        },
        "xaxis": {
         "anchor": "y",
         "domain": [
          0,
          1
         ],
         "title": {
          "text": "checkpoint"
         },
         "type": "log"
        },
        "yaxis": {
         "anchor": "x",
         "domain": [
          0,
          1
         ],
         "title": {
          "text": "Graph Size"
         }
        },
        "yaxis2": {
         "overlaying": "y",
         "showgrid": false,
         "side": "right",
         "title": {
          "text": "Performance Metric"
         }
        }
       }
      },
      "text/html": [
       "<div>                            <div id=\"64918167-5c06-4bb8-83db-0d488d3f7a30\" class=\"plotly-graph-div\" style=\"height:525px; width:100%;\"></div>            <script type=\"text/javascript\">                require([\"plotly\"], function(Plotly) {                    window.PLOTLYENV=window.PLOTLYENV || {};                                    if (document.getElementById(\"64918167-5c06-4bb8-83db-0d488d3f7a30\")) {                    Plotly.newPlot(                        \"64918167-5c06-4bb8-83db-0d488d3f7a30\",                        [{\"hovertemplate\":\"variable=num_edges\\u003cbr\\u003echeckpoint=%{x}\\u003cbr\\u003evalue=%{y}\\u003cextra\\u003e\\u003c\\u002fextra\\u003e\",\"legendgroup\":\"num_edges\",\"line\":{\"color\":\"lightblue\",\"dash\":\"solid\"},\"marker\":{\"symbol\":\"circle\"},\"mode\":\"lines\",\"name\":\"num_edges\",\"orientation\":\"v\",\"showlegend\":true,\"x\":[2000,3000,4000,5000,6000,7000,8000,9000,10000,11000,12000,13000,14000,15000,16000,17000,18000,19000,20000,21000,22000,23000,24000,25000,26000,27000,28000,29000,30000,31000,32000,33000,34000,35000,36000,37000,38000,39000,40000,41000,42000,43000,44000,45000,46000,47000,48000,49000,50000,51000,52000,53000,54000,55000,56000,57000,58000,59000,60000,61000,62000,63000,64000,65000,66000,67000,68000,69000,70000,71000,72000,73000,74000,75000,76000,77000,78000,79000,80000,81000,82000,83000,84000,85000,86000,87000,88000,89000,90000,91000,92000,93000,94000,95000,96000,97000,98000,99000,100000,101000,102000,103000,104000,105000,106000,107000,108000,109000,110000,111000,112000,113000,114000,115000,116000,117000,118000,119000,120000,121000,122000,123000,124000,125000,126000,127000,128000,129000,130000,131000,132000,133000,134000,135000,136000,137000,138000,139000,140000,141000,142000,143000],\"xaxis\":\"x\",\"y\":[76,112,32,34,40,29,57,53,41,52,55,81,65,79,72,67,74,63,84,75,82,95,81,101,142,55,81,82,73,56,67,63,89,37,29,57,31,35,65,26,23,42,27,33,26,26,35,40,24,24,31,25,27,28,30,29,27,41,37,26,47,31,46,46,45,28,45,32,27,31,35,34,47,39,32,32,60,52,38,44,68,54,55,44,31,37,27,38,40,22,27,36,39,44,35,35,37,39,35,39,37,53,35,41,41,38,20,41,31,26,59,33,33,23,40,37,75,22,62,59,60,43,63,95,61,59,47,36,25,30,20,22,40,42,24,68,30,48,49,43,37,47],\"yaxis\":\"y\",\"type\":\"scatter\"},{\"line\":{\"color\":\"black\"},\"mode\":\"lines\",\"name\":\"perf_metric\",\"x\":[2000,3000,4000,5000,6000,7000,8000,9000,10000,11000,12000,13000,14000,15000,16000,17000,18000,19000,20000,21000,22000,23000,24000,25000,26000,27000,28000,29000,30000,31000,32000,33000,34000,35000,36000,37000,38000,39000,40000,41000,42000,43000,44000,45000,46000,47000,48000,49000,50000,51000,52000,53000,54000,55000,56000,57000,58000,59000,60000,61000,62000,63000,64000,65000,66000,67000,68000,69000,70000,71000,72000,73000,74000,75000,76000,77000,78000,79000,80000,81000,82000,83000,84000,85000,86000,87000,88000,89000,90000,91000,92000,93000,94000,95000,96000,97000,98000,99000,100000,101000,102000,103000,104000,105000,106000,107000,108000,109000,110000,111000,112000,113000,114000,115000,116000,117000,118000,119000,120000,121000,122000,123000,124000,125000,126000,127000,128000,129000,130000,131000,132000,133000,134000,135000,136000,137000,138000,139000,140000,141000,142000,143000],\"y\":[0.14408066868782043,0.30164390802383423,0.5214207172393799,0.6283944845199585,0.42528706789016724,0.6616678237915039,0.5040611624717712,0.5024839639663696,0.5974746346473694,0.6558032035827637,0.4376274645328522,0.5673839449882507,0.5760918855667114,0.673001766204834,0.6555053234100342,0.6380088806152344,0.6205124378204345,0.6030159950256347,0.585519552230835,0.5996431350708008,0.6137667179107666,0.6278903007507324,0.6420138835906982,0.6561374664306641,0.6663044571876526,0.6764714479446411,0.6866384387016297,0.6968054294586181,0.7069724202156067,0.7357974052429199,0.7646223902702332,0.7934473752975464,0.8222723603248596,0.8510973453521729,0.8380409240722656,0.8249845027923584,0.8119280815124512,0.798871660232544,0.7858152389526367,0.79725341796875,0.8086915969848633,0.8201297760009766,0.8315679550170898,0.8430061340332031,0.846302616596222,0.8495990991592407,0.8528955817222595,0.8561920642852783,0.8594885468482971,0.8525122761726379,0.8455360054969787,0.8385597348213196,0.8315834641456604,0.8246071934700012,0.8252315759658814,0.8258559584617615,0.8264803409576416,0.8271047234535217,0.8277291059494019,0.8395205616950989,0.8513120174407959,0.8631034731864929,0.8748949289321899,0.886686384677887,0.88213552236557,0.8775846600532532,0.8730337977409363,0.8684829354286194,0.8639320731163025,0.8613804459571839,0.8588288187980652,0.8562771916389466,0.8537255644798278,0.8511739373207092,0.8486223101615906,0.8460706830024719,0.8435190558433533,0.8409674286842346,0.838415801525116,0.8408834636211395,0.8433511257171631,0.8458187878131866,0.8482864499092102,0.8507541120052338,0.8532217741012573,0.8556894361972809,0.8581570982933044,0.860624760389328,0.8630924224853516,0.8648158371448517,0.8665392518043518,0.868262666463852,0.8699860811233521,0.8717094957828522,0.8734329104423523,0.8751563251018524,0.8768797397613526,0.8786031544208527,0.8803265690803528,0.8766833901405334,0.8730402112007141,0.8693970322608948,0.8657538533210755,0.8621106743812561,0.8584674954414367,0.8548243165016174,0.8511811375617981,0.8475379586219788,0.8438947796821594,0.8408937096595764,0.8378926396369935,0.8348915696144104,0.8318904995918274,0.8288894295692444,0.8258883595466614,0.8228872895240784,0.8198862195014953,0.8168851494789123,0.8138840794563293,0.8138286948204041,0.8137733101844787,0.8137179255485535,0.8136625409126281,0.8136071562767029,0.8135517716407776,0.8134963870048523,0.813441002368927,0.8133856177330017,0.8133302330970764,0.814875864982605,0.8164214968681336,0.8179671287536621,0.8195127606391907,0.8210583925247192,0.8226040244102478,0.8241496562957764,0.8256952881813049,0.8272409200668335,0.8287865519523621,0.8287865519523621,0.8287865519523621,0.8287865519523621],\"yaxis\":\"y2\",\"type\":\"scatter\"}],                        {\"template\":{\"data\":{\"histogram2dcontour\":[{\"type\":\"histogram2dcontour\",\"colorbar\":{\"outlinewidth\":0,\"ticks\":\"\"},\"colorscale\":[[0.0,\"#0d0887\"],[0.1111111111111111,\"#46039f\"],[0.2222222222222222,\"#7201a8\"],[0.3333333333333333,\"#9c179e\"],[0.4444444444444444,\"#bd3786\"],[0.5555555555555556,\"#d8576b\"],[0.6666666666666666,\"#ed7953\"],[0.7777777777777778,\"#fb9f3a\"],[0.8888888888888888,\"#fdca26\"],[1.0,\"#f0f921\"]]}],\"choropleth\":[{\"type\":\"choropleth\",\"colorbar\":{\"outlinewidth\":0,\"ticks\":\"\"}}],\"histogram2d\":[{\"type\":\"histogram2d\",\"colorbar\":{\"outlinewidth\":0,\"ticks\":\"\"},\"colorscale\":[[0.0,\"#0d0887\"],[0.1111111111111111,\"#46039f\"],[0.2222222222222222,\"#7201a8\"],[0.3333333333333333,\"#9c179e\"],[0.4444444444444444,\"#bd3786\"],[0.5555555555555556,\"#d8576b\"],[0.6666666666666666,\"#ed7953\"],[0.7777777777777778,\"#fb9f3a\"],[0.8888888888888888,\"#fdca26\"],[1.0,\"#f0f921\"]]}],\"heatmap\":[{\"type\":\"heatmap\",\"colorbar\":{\"outlinewidth\":0,\"ticks\":\"\"},\"colorscale\":[[0.0,\"#0d0887\"],[0.1111111111111111,\"#46039f\"],[0.2222222222222222,\"#7201a8\"],[0.3333333333333333,\"#9c179e\"],[0.4444444444444444,\"#bd3786\"],[0.5555555555555556,\"#d8576b\"],[0.6666666666666666,\"#ed7953\"],[0.7777777777777778,\"#fb9f3a\"],[0.8888888888888888,\"#fdca26\"],[1.0,\"#f0f921\"]]}],\"heatmapgl\":[{\"type\":\"heatmapgl\",\"colorbar\":{\"outlinewidth\":0,\"ticks\":\"\"},\"colorscale\":[[0.0,\"#0d0887\"],[0.1111111111111111,\"#46039f\"],[0.2222222222222222,\"#7201a8\"],[0.3333333333333333,\"#9c179e\"],[0.4444444444444444,\"#bd3786\"],[0.5555555555555556,\"#d8576b\"],[0.6666666666666666,\"#ed7953\"],[0.7777777777777778,\"#fb9f3a\"],[0.8888888888888888,\"#fdca26\"],[1.0,\"#f0f921\"]]}],\"contourcarpet\":[{\"type\":\"contourcarpet\",\"colorbar\":{\"outlinewidth\":0,\"ticks\":\"\"}}],\"contour\":[{\"type\":\"contour\",\"colorbar\":{\"outlinewidth\":0,\"ticks\":\"\"},\"colorscale\":[[0.0,\"#0d0887\"],[0.1111111111111111,\"#46039f\"],[0.2222222222222222,\"#7201a8\"],[0.3333333333333333,\"#9c179e\"],[0.4444444444444444,\"#bd3786\"],[0.5555555555555556,\"#d8576b\"],[0.6666666666666666,\"#ed7953\"],[0.7777777777777778,\"#fb9f3a\"],[0.8888888888888888,\"#fdca26\"],[1.0,\"#f0f921\"]]}],\"surface\":[{\"type\":\"surface\",\"colorbar\":{\"outlinewidth\":0,\"ticks\":\"\"},\"colorscale\":[[0.0,\"#0d0887\"],[0.1111111111111111,\"#46039f\"],[0.2222222222222222,\"#7201a8\"],[0.3333333333333333,\"#9c179e\"],[0.4444444444444444,\"#bd3786\"],[0.5555555555555556,\"#d8576b\"],[0.6666666666666666,\"#ed7953\"],[0.7777777777777778,\"#fb9f3a\"],[0.8888888888888888,\"#fdca26\"],[1.0,\"#f0f921\"]]}],\"mesh3d\":[{\"type\":\"mesh3d\",\"colorbar\":{\"outlinewidth\":0,\"ticks\":\"\"}}],\"scatter\":[{\"fillpattern\":{\"fillmode\":\"overlay\",\"size\":10,\"solidity\":0.2},\"type\":\"scatter\"}],\"parcoords\":[{\"type\":\"parcoords\",\"line\":{\"colorbar\":{\"outlinewidth\":0,\"ticks\":\"\"}}}],\"scatterpolargl\":[{\"type\":\"scatterpolargl\",\"marker\":{\"colorbar\":{\"outlinewidth\":0,\"ticks\":\"\"}}}],\"bar\":[{\"error_x\":{\"color\":\"#2a3f5f\"},\"error_y\":{\"color\":\"#2a3f5f\"},\"marker\":{\"line\":{\"color\":\"#E5ECF6\",\"width\":0.5},\"pattern\":{\"fillmode\":\"overlay\",\"size\":10,\"solidity\":0.2}},\"type\":\"bar\"}],\"scattergeo\":[{\"type\":\"scattergeo\",\"marker\":{\"colorbar\":{\"outlinewidth\":0,\"ticks\":\"\"}}}],\"scatterpolar\":[{\"type\":\"scatterpolar\",\"marker\":{\"colorbar\":{\"outlinewidth\":0,\"ticks\":\"\"}}}],\"histogram\":[{\"marker\":{\"pattern\":{\"fillmode\":\"overlay\",\"size\":10,\"solidity\":0.2}},\"type\":\"histogram\"}],\"scattergl\":[{\"type\":\"scattergl\",\"marker\":{\"colorbar\":{\"outlinewidth\":0,\"ticks\":\"\"}}}],\"scatter3d\":[{\"type\":\"scatter3d\",\"line\":{\"colorbar\":{\"outlinewidth\":0,\"ticks\":\"\"}},\"marker\":{\"colorbar\":{\"outlinewidth\":0,\"ticks\":\"\"}}}],\"scattermapbox\":[{\"type\":\"scattermapbox\",\"marker\":{\"colorbar\":{\"outlinewidth\":0,\"ticks\":\"\"}}}],\"scatterternary\":[{\"type\":\"scatterternary\",\"marker\":{\"colorbar\":{\"outlinewidth\":0,\"ticks\":\"\"}}}],\"scattercarpet\":[{\"type\":\"scattercarpet\",\"marker\":{\"colorbar\":{\"outlinewidth\":0,\"ticks\":\"\"}}}],\"carpet\":[{\"aaxis\":{\"endlinecolor\":\"#2a3f5f\",\"gridcolor\":\"white\",\"linecolor\":\"white\",\"minorgridcolor\":\"white\",\"startlinecolor\":\"#2a3f5f\"},\"baxis\":{\"endlinecolor\":\"#2a3f5f\",\"gridcolor\":\"white\",\"linecolor\":\"white\",\"minorgridcolor\":\"white\",\"startlinecolor\":\"#2a3f5f\"},\"type\":\"carpet\"}],\"table\":[{\"cells\":{\"fill\":{\"color\":\"#EBF0F8\"},\"line\":{\"color\":\"white\"}},\"header\":{\"fill\":{\"color\":\"#C8D4E3\"},\"line\":{\"color\":\"white\"}},\"type\":\"table\"}],\"barpolar\":[{\"marker\":{\"line\":{\"color\":\"#E5ECF6\",\"width\":0.5},\"pattern\":{\"fillmode\":\"overlay\",\"size\":10,\"solidity\":0.2}},\"type\":\"barpolar\"}],\"pie\":[{\"automargin\":true,\"type\":\"pie\"}]},\"layout\":{\"autotypenumbers\":\"strict\",\"colorway\":[\"#636efa\",\"#EF553B\",\"#00cc96\",\"#ab63fa\",\"#FFA15A\",\"#19d3f3\",\"#FF6692\",\"#B6E880\",\"#FF97FF\",\"#FECB52\"],\"font\":{\"color\":\"#2a3f5f\"},\"hovermode\":\"closest\",\"hoverlabel\":{\"align\":\"left\"},\"paper_bgcolor\":\"white\",\"plot_bgcolor\":\"#E5ECF6\",\"polar\":{\"bgcolor\":\"#E5ECF6\",\"angularaxis\":{\"gridcolor\":\"white\",\"linecolor\":\"white\",\"ticks\":\"\"},\"radialaxis\":{\"gridcolor\":\"white\",\"linecolor\":\"white\",\"ticks\":\"\"}},\"ternary\":{\"bgcolor\":\"#E5ECF6\",\"aaxis\":{\"gridcolor\":\"white\",\"linecolor\":\"white\",\"ticks\":\"\"},\"baxis\":{\"gridcolor\":\"white\",\"linecolor\":\"white\",\"ticks\":\"\"},\"caxis\":{\"gridcolor\":\"white\",\"linecolor\":\"white\",\"ticks\":\"\"}},\"coloraxis\":{\"colorbar\":{\"outlinewidth\":0,\"ticks\":\"\"}},\"colorscale\":{\"sequential\":[[0.0,\"#0d0887\"],[0.1111111111111111,\"#46039f\"],[0.2222222222222222,\"#7201a8\"],[0.3333333333333333,\"#9c179e\"],[0.4444444444444444,\"#bd3786\"],[0.5555555555555556,\"#d8576b\"],[0.6666666666666666,\"#ed7953\"],[0.7777777777777778,\"#fb9f3a\"],[0.8888888888888888,\"#fdca26\"],[1.0,\"#f0f921\"]],\"sequentialminus\":[[0.0,\"#0d0887\"],[0.1111111111111111,\"#46039f\"],[0.2222222222222222,\"#7201a8\"],[0.3333333333333333,\"#9c179e\"],[0.4444444444444444,\"#bd3786\"],[0.5555555555555556,\"#d8576b\"],[0.6666666666666666,\"#ed7953\"],[0.7777777777777778,\"#fb9f3a\"],[0.8888888888888888,\"#fdca26\"],[1.0,\"#f0f921\"]],\"diverging\":[[0,\"#8e0152\"],[0.1,\"#c51b7d\"],[0.2,\"#de77ae\"],[0.3,\"#f1b6da\"],[0.4,\"#fde0ef\"],[0.5,\"#f7f7f7\"],[0.6,\"#e6f5d0\"],[0.7,\"#b8e186\"],[0.8,\"#7fbc41\"],[0.9,\"#4d9221\"],[1,\"#276419\"]]},\"xaxis\":{\"gridcolor\":\"white\",\"linecolor\":\"white\",\"ticks\":\"\",\"title\":{\"standoff\":15},\"zerolinecolor\":\"white\",\"automargin\":true,\"zerolinewidth\":2},\"yaxis\":{\"gridcolor\":\"white\",\"linecolor\":\"white\",\"ticks\":\"\",\"title\":{\"standoff\":15},\"zerolinecolor\":\"white\",\"automargin\":true,\"zerolinewidth\":2},\"scene\":{\"xaxis\":{\"backgroundcolor\":\"#E5ECF6\",\"gridcolor\":\"white\",\"linecolor\":\"white\",\"showbackground\":true,\"ticks\":\"\",\"zerolinecolor\":\"white\",\"gridwidth\":2},\"yaxis\":{\"backgroundcolor\":\"#E5ECF6\",\"gridcolor\":\"white\",\"linecolor\":\"white\",\"showbackground\":true,\"ticks\":\"\",\"zerolinecolor\":\"white\",\"gridwidth\":2},\"zaxis\":{\"backgroundcolor\":\"#E5ECF6\",\"gridcolor\":\"white\",\"linecolor\":\"white\",\"showbackground\":true,\"ticks\":\"\",\"zerolinecolor\":\"white\",\"gridwidth\":2}},\"shapedefaults\":{\"line\":{\"color\":\"#2a3f5f\"}},\"annotationdefaults\":{\"arrowcolor\":\"#2a3f5f\",\"arrowhead\":0,\"arrowwidth\":1},\"geo\":{\"bgcolor\":\"white\",\"landcolor\":\"#E5ECF6\",\"subunitcolor\":\"white\",\"showland\":true,\"showlakes\":true,\"lakecolor\":\"white\"},\"title\":{\"x\":0.05},\"mapbox\":{\"style\":\"light\"}}},\"xaxis\":{\"anchor\":\"y\",\"domain\":[0.0,1.0],\"title\":{\"text\":\"checkpoint\"},\"type\":\"log\"},\"yaxis\":{\"anchor\":\"x\",\"domain\":[0.0,1.0],\"title\":{\"text\":\"Graph Size\"}},\"legend\":{\"title\":{\"text\":\"variable\"},\"tracegroupgap\":0},\"title\":{\"text\":\"Smallest Faithful Graph Size Over Training (greater_than)\"},\"yaxis2\":{\"title\":{\"text\":\"Performance Metric\"},\"overlaying\":\"y\",\"side\":\"right\",\"showgrid\":false}},                        {\"responsive\": true}                    ).then(function(){\n",
       "                            \n",
       "var gd = document.getElementById('64918167-5c06-4bb8-83db-0d488d3f7a30');\n",
       "var x = new MutationObserver(function (mutations, observer) {{\n",
       "        var display = window.getComputedStyle(gd).display;\n",
       "        if (!display || display === 'none') {{\n",
       "            console.log([gd, 'removed!']);\n",
       "            Plotly.purge(gd);\n",
       "            observer.disconnect();\n",
       "        }}\n",
       "}});\n",
       "\n",
       "// Listen for the removal of the full notebook cells\n",
       "var notebookContainer = gd.closest('#notebook-container');\n",
       "if (notebookContainer) {{\n",
       "    x.observe(notebookContainer, {childList: true});\n",
       "}}\n",
       "\n",
       "// Listen for the clearing of the current output cell\n",
       "var outputEl = gd.closest('.output');\n",
       "if (outputEl) {{\n",
       "    x.observe(outputEl, {childList: true});\n",
       "}}\n",
       "\n",
       "                        })                };                });            </script>        </div>"
      ]
     },
     "metadata": {},
     "output_type": "display_data"
    }
   ],
   "source": [
    "# Plot the number of edges in the subgraph at each checkpoint, along with performance metrics\n",
    "\n",
    "# Add a new column for the performance metric by mapping the checkpoint values using the perf_metric_dict\n",
    "subgraph_df['perf_metric'] = subgraph_df['checkpoint'].map(perf_metric_dict)\n",
    "\n",
    "# Interpolate missing values\n",
    "subgraph_df['perf_metric'] = subgraph_df['perf_metric'].interpolate(method='linear')\n",
    "\n",
    "# Plot the number of edges in the subgraph at each checkpoint\n",
    "fig = px.line(subgraph_df, x='checkpoint', y=['num_edges'], title=f'Smallest Faithful Graph Size Over Training ({TASK})', log_x=True)\n",
    "\n",
    "# Specify colors for each line\n",
    "colors = {'num_edges': 'lightblue', 'perf_metric': 'black'}\n",
    "\n",
    "# Update each trace with the specified color\n",
    "for i, trace in enumerate(fig.data):\n",
    "    fig.data[i].update(line=dict(color=colors[trace.name]))\n",
    "\n",
    "\n",
    "fig.update_layout(\n",
    "    yaxis2=dict(title=\"Performance Metric\", overlaying=\"y\", side=\"right\", showgrid=False)\n",
    ")\n",
    "fig.add_trace(\n",
    "    go.Scatter(x=subgraph_df['checkpoint'], y=subgraph_df['perf_metric'], name='perf_metric', mode='lines', yaxis='y2', line=dict(color=colors['perf_metric']))\n",
    ")\n",
    "\n",
    "# Optional: Update the layout if you need to adjust titles or other aesthetics\n",
    "fig.update_layout(\n",
    "    yaxis_title=\"Graph Size\"\n",
    ")\n",
    "\n",
    "fig.show()\n"
   ]
  },
  {
   "attachments": {},
   "cell_type": "markdown",
   "metadata": {},
   "source": [
    "### Graph Transformations"
   ]
  },
  {
   "cell_type": "code",
   "execution_count": 9,
   "metadata": {},
   "outputs": [
    {
     "data": {
      "application/vnd.plotly.v1+json": {
       "config": {
        "plotlyServerURL": "https://plot.ly"
       },
       "data": [
        {
         "hovertemplate": "variable=additions<br>checkpoint_2=%{x}<br>value=%{y}<extra></extra>",
         "legendgroup": "additions",
         "line": {
          "color": "lightgreen",
          "dash": "solid"
         },
         "marker": {
          "symbol": "circle"
         },
         "mode": "lines",
         "name": "additions",
         "orientation": "v",
         "showlegend": true,
         "type": "scatter",
         "x": [
          2000,
          3000,
          4000,
          5000,
          6000,
          7000,
          8000,
          9000,
          10000,
          11000,
          12000,
          13000,
          14000,
          15000,
          16000,
          17000,
          18000,
          19000,
          20000,
          21000,
          22000,
          23000,
          24000,
          25000,
          26000,
          27000,
          28000,
          29000,
          30000,
          31000,
          32000,
          33000,
          34000,
          35000,
          36000,
          37000,
          38000,
          39000,
          40000,
          41000,
          42000,
          43000,
          44000,
          45000,
          46000,
          47000,
          48000,
          49000,
          50000,
          51000,
          52000,
          53000,
          54000,
          55000,
          56000,
          57000,
          58000,
          59000,
          60000,
          61000,
          62000,
          63000,
          64000,
          65000,
          66000,
          67000,
          68000,
          69000,
          70000,
          71000,
          72000,
          73000,
          74000,
          75000,
          76000,
          77000,
          78000,
          79000,
          80000,
          81000,
          82000,
          83000,
          84000,
          85000,
          86000,
          87000,
          88000,
          89000,
          90000,
          91000,
          92000,
          93000,
          94000,
          95000,
          96000,
          97000,
          98000,
          99000,
          100000,
          101000,
          102000,
          103000,
          104000,
          105000,
          106000,
          107000,
          108000,
          109000,
          110000,
          111000,
          112000,
          113000,
          114000,
          115000,
          116000,
          117000,
          118000,
          119000,
          120000,
          121000,
          122000,
          123000,
          124000,
          125000,
          126000,
          127000,
          128000,
          129000,
          130000,
          131000,
          132000,
          133000,
          134000,
          135000,
          136000,
          137000,
          138000,
          139000,
          140000,
          141000,
          142000,
          143000
         ],
         "xaxis": "x",
         "y": [
          76,
          56,
          0,
          7,
          9,
          3,
          28,
          9,
          1,
          12,
          8,
          28,
          6,
          24,
          6,
          10,
          16,
          8,
          26,
          9,
          15,
          22,
          9,
          31,
          55,
          5,
          32,
          13,
          14,
          7,
          19,
          8,
          26,
          0,
          1,
          28,
          1,
          4,
          30,
          0,
          1,
          19,
          0,
          6,
          0,
          0,
          9,
          6,
          0,
          2,
          8,
          2,
          4,
          1,
          4,
          4,
          3,
          14,
          5,
          2,
          23,
          2,
          16,
          6,
          8,
          1,
          17,
          3,
          1,
          5,
          7,
          7,
          19,
          10,
          1,
          2,
          30,
          7,
          5,
          14,
          29,
          5,
          13,
          6,
          0,
          7,
          0,
          14,
          7,
          0,
          5,
          10,
          6,
          10,
          2,
          6,
          6,
          6,
          2,
          7,
          5,
          19,
          4,
          9,
          7,
          2,
          0,
          21,
          1,
          2,
          33,
          0,
          4,
          0,
          17,
          4,
          38,
          0,
          40,
          8,
          6,
          1,
          22,
          36,
          4,
          7,
          5,
          1,
          1,
          6,
          0,
          3,
          18,
          9,
          1,
          44,
          1,
          19,
          7,
          2,
          5,
          14
         ],
         "yaxis": "y"
        },
        {
         "hovertemplate": "variable=deletions<br>checkpoint_2=%{x}<br>value=%{y}<extra></extra>",
         "legendgroup": "deletions",
         "line": {
          "color": "lightsalmon",
          "dash": "solid"
         },
         "marker": {
          "symbol": "circle"
         },
         "mode": "lines",
         "name": "deletions",
         "orientation": "v",
         "showlegend": true,
         "type": "scatter",
         "x": [
          2000,
          3000,
          4000,
          5000,
          6000,
          7000,
          8000,
          9000,
          10000,
          11000,
          12000,
          13000,
          14000,
          15000,
          16000,
          17000,
          18000,
          19000,
          20000,
          21000,
          22000,
          23000,
          24000,
          25000,
          26000,
          27000,
          28000,
          29000,
          30000,
          31000,
          32000,
          33000,
          34000,
          35000,
          36000,
          37000,
          38000,
          39000,
          40000,
          41000,
          42000,
          43000,
          44000,
          45000,
          46000,
          47000,
          48000,
          49000,
          50000,
          51000,
          52000,
          53000,
          54000,
          55000,
          56000,
          57000,
          58000,
          59000,
          60000,
          61000,
          62000,
          63000,
          64000,
          65000,
          66000,
          67000,
          68000,
          69000,
          70000,
          71000,
          72000,
          73000,
          74000,
          75000,
          76000,
          77000,
          78000,
          79000,
          80000,
          81000,
          82000,
          83000,
          84000,
          85000,
          86000,
          87000,
          88000,
          89000,
          90000,
          91000,
          92000,
          93000,
          94000,
          95000,
          96000,
          97000,
          98000,
          99000,
          100000,
          101000,
          102000,
          103000,
          104000,
          105000,
          106000,
          107000,
          108000,
          109000,
          110000,
          111000,
          112000,
          113000,
          114000,
          115000,
          116000,
          117000,
          118000,
          119000,
          120000,
          121000,
          122000,
          123000,
          124000,
          125000,
          126000,
          127000,
          128000,
          129000,
          130000,
          131000,
          132000,
          133000,
          134000,
          135000,
          136000,
          137000,
          138000,
          139000,
          140000,
          141000,
          142000,
          143000
         ],
         "xaxis": "x",
         "y": [
          0,
          20,
          80,
          5,
          3,
          14,
          0,
          13,
          13,
          1,
          5,
          2,
          22,
          10,
          13,
          15,
          9,
          19,
          5,
          18,
          8,
          9,
          23,
          11,
          14,
          92,
          6,
          12,
          23,
          24,
          8,
          12,
          0,
          52,
          9,
          0,
          27,
          0,
          0,
          39,
          4,
          0,
          15,
          0,
          7,
          0,
          0,
          1,
          16,
          2,
          1,
          8,
          2,
          0,
          2,
          5,
          5,
          0,
          9,
          13,
          2,
          18,
          1,
          6,
          9,
          18,
          0,
          16,
          6,
          1,
          3,
          8,
          6,
          18,
          8,
          2,
          2,
          15,
          19,
          8,
          5,
          19,
          12,
          17,
          13,
          1,
          10,
          3,
          5,
          18,
          0,
          1,
          3,
          5,
          11,
          6,
          4,
          4,
          6,
          3,
          7,
          3,
          22,
          3,
          7,
          5,
          18,
          0,
          11,
          7,
          0,
          26,
          4,
          10,
          0,
          7,
          0,
          53,
          0,
          11,
          5,
          18,
          2,
          4,
          38,
          9,
          17,
          12,
          12,
          1,
          10,
          1,
          0,
          7,
          19,
          0,
          39,
          1,
          6,
          8,
          11,
          4
         ],
         "yaxis": "y"
        },
        {
         "hovertemplate": "variable=total_ged<br>checkpoint_2=%{x}<br>value=%{y}<extra></extra>",
         "legendgroup": "total_ged",
         "line": {
          "color": "lightblue",
          "dash": "solid"
         },
         "marker": {
          "symbol": "circle"
         },
         "mode": "lines",
         "name": "total_ged",
         "orientation": "v",
         "showlegend": true,
         "type": "scatter",
         "x": [
          2000,
          3000,
          4000,
          5000,
          6000,
          7000,
          8000,
          9000,
          10000,
          11000,
          12000,
          13000,
          14000,
          15000,
          16000,
          17000,
          18000,
          19000,
          20000,
          21000,
          22000,
          23000,
          24000,
          25000,
          26000,
          27000,
          28000,
          29000,
          30000,
          31000,
          32000,
          33000,
          34000,
          35000,
          36000,
          37000,
          38000,
          39000,
          40000,
          41000,
          42000,
          43000,
          44000,
          45000,
          46000,
          47000,
          48000,
          49000,
          50000,
          51000,
          52000,
          53000,
          54000,
          55000,
          56000,
          57000,
          58000,
          59000,
          60000,
          61000,
          62000,
          63000,
          64000,
          65000,
          66000,
          67000,
          68000,
          69000,
          70000,
          71000,
          72000,
          73000,
          74000,
          75000,
          76000,
          77000,
          78000,
          79000,
          80000,
          81000,
          82000,
          83000,
          84000,
          85000,
          86000,
          87000,
          88000,
          89000,
          90000,
          91000,
          92000,
          93000,
          94000,
          95000,
          96000,
          97000,
          98000,
          99000,
          100000,
          101000,
          102000,
          103000,
          104000,
          105000,
          106000,
          107000,
          108000,
          109000,
          110000,
          111000,
          112000,
          113000,
          114000,
          115000,
          116000,
          117000,
          118000,
          119000,
          120000,
          121000,
          122000,
          123000,
          124000,
          125000,
          126000,
          127000,
          128000,
          129000,
          130000,
          131000,
          132000,
          133000,
          134000,
          135000,
          136000,
          137000,
          138000,
          139000,
          140000,
          141000,
          142000,
          143000
         ],
         "xaxis": "x",
         "y": [
          76,
          76,
          80,
          12,
          12,
          17,
          28,
          22,
          14,
          13,
          13,
          30,
          28,
          34,
          19,
          25,
          25,
          27,
          31,
          27,
          23,
          31,
          32,
          42,
          69,
          97,
          38,
          25,
          37,
          31,
          27,
          20,
          26,
          52,
          10,
          28,
          28,
          4,
          30,
          39,
          5,
          19,
          15,
          6,
          7,
          0,
          9,
          7,
          16,
          4,
          9,
          10,
          6,
          1,
          6,
          9,
          8,
          14,
          14,
          15,
          25,
          20,
          17,
          12,
          17,
          19,
          17,
          19,
          7,
          6,
          10,
          15,
          25,
          28,
          9,
          4,
          32,
          22,
          24,
          22,
          34,
          24,
          25,
          23,
          13,
          8,
          10,
          17,
          12,
          18,
          5,
          11,
          9,
          15,
          13,
          12,
          10,
          10,
          8,
          10,
          12,
          22,
          26,
          12,
          14,
          7,
          18,
          21,
          12,
          9,
          33,
          26,
          8,
          10,
          17,
          11,
          38,
          53,
          40,
          19,
          11,
          19,
          24,
          40,
          42,
          16,
          22,
          13,
          13,
          7,
          10,
          4,
          18,
          16,
          20,
          44,
          40,
          20,
          13,
          10,
          16,
          18
         ],
         "yaxis": "y"
        },
        {
         "line": {
          "color": "black"
         },
         "mode": "lines",
         "name": "perf_metric",
         "type": "scatter",
         "x": [
          2000,
          3000,
          4000,
          5000,
          6000,
          7000,
          8000,
          9000,
          10000,
          11000,
          12000,
          13000,
          14000,
          15000,
          16000,
          17000,
          18000,
          19000,
          20000,
          21000,
          22000,
          23000,
          24000,
          25000,
          26000,
          27000,
          28000,
          29000,
          30000,
          31000,
          32000,
          33000,
          34000,
          35000,
          36000,
          37000,
          38000,
          39000,
          40000,
          41000,
          42000,
          43000,
          44000,
          45000,
          46000,
          47000,
          48000,
          49000,
          50000,
          51000,
          52000,
          53000,
          54000,
          55000,
          56000,
          57000,
          58000,
          59000,
          60000,
          61000,
          62000,
          63000,
          64000,
          65000,
          66000,
          67000,
          68000,
          69000,
          70000,
          71000,
          72000,
          73000,
          74000,
          75000,
          76000,
          77000,
          78000,
          79000,
          80000,
          81000,
          82000,
          83000,
          84000,
          85000,
          86000,
          87000,
          88000,
          89000,
          90000,
          91000,
          92000,
          93000,
          94000,
          95000,
          96000,
          97000,
          98000,
          99000,
          100000,
          101000,
          102000,
          103000,
          104000,
          105000,
          106000,
          107000,
          108000,
          109000,
          110000,
          111000,
          112000,
          113000,
          114000,
          115000,
          116000,
          117000,
          118000,
          119000,
          120000,
          121000,
          122000,
          123000,
          124000,
          125000,
          126000,
          127000,
          128000,
          129000,
          130000,
          131000,
          132000,
          133000,
          134000,
          135000,
          136000,
          137000,
          138000,
          139000,
          140000,
          141000,
          142000,
          143000
         ],
         "y": [
          0.14408066868782043,
          0.30164390802383423,
          0.5214207172393799,
          0.6283944845199585,
          0.42528706789016724,
          0.6616678237915039,
          0.5040611624717712,
          0.5024839639663696,
          0.5974746346473694,
          0.6558032035827637,
          0.4376274645328522,
          0.5673839449882507,
          0.5760918855667114,
          0.673001766204834,
          0.6555053234100342,
          0.6380088806152344,
          0.6205124378204345,
          0.6030159950256347,
          0.585519552230835,
          0.5996431350708008,
          0.6137667179107666,
          0.6278903007507324,
          0.6420138835906982,
          0.6561374664306641,
          0.6663044571876526,
          0.6764714479446411,
          0.6866384387016297,
          0.6968054294586181,
          0.7069724202156067,
          0.7357974052429199,
          0.7646223902702332,
          0.7934473752975464,
          0.8222723603248596,
          0.8510973453521729,
          0.8380409240722656,
          0.8249845027923584,
          0.8119280815124512,
          0.798871660232544,
          0.7858152389526367,
          0.79725341796875,
          0.8086915969848633,
          0.8201297760009766,
          0.8315679550170898,
          0.8430061340332031,
          0.846302616596222,
          0.8495990991592407,
          0.8528955817222595,
          0.8561920642852783,
          0.8594885468482971,
          0.8525122761726379,
          0.8455360054969787,
          0.8385597348213196,
          0.8315834641456604,
          0.8246071934700012,
          0.8252315759658814,
          0.8258559584617615,
          0.8264803409576416,
          0.8271047234535217,
          0.8277291059494019,
          0.8395205616950989,
          0.8513120174407959,
          0.8631034731864929,
          0.8748949289321899,
          0.886686384677887,
          0.88213552236557,
          0.8775846600532532,
          0.8730337977409363,
          0.8684829354286194,
          0.8639320731163025,
          0.8613804459571839,
          0.8588288187980652,
          0.8562771916389466,
          0.8537255644798278,
          0.8511739373207092,
          0.8486223101615906,
          0.8460706830024719,
          0.8435190558433533,
          0.8409674286842346,
          0.838415801525116,
          0.8408834636211395,
          0.8433511257171631,
          0.8458187878131866,
          0.8482864499092102,
          0.8507541120052338,
          0.8532217741012573,
          0.8556894361972809,
          0.8581570982933044,
          0.860624760389328,
          0.8630924224853516,
          0.8648158371448517,
          0.8665392518043518,
          0.868262666463852,
          0.8699860811233521,
          0.8717094957828522,
          0.8734329104423523,
          0.8751563251018524,
          0.8768797397613526,
          0.8786031544208527,
          0.8803265690803528,
          0.8766833901405334,
          0.8730402112007141,
          0.8693970322608948,
          0.8657538533210755,
          0.8621106743812561,
          0.8584674954414367,
          0.8548243165016174,
          0.8511811375617981,
          0.8475379586219788,
          0.8438947796821594,
          0.8408937096595764,
          0.8378926396369935,
          0.8348915696144104,
          0.8318904995918274,
          0.8288894295692444,
          0.8258883595466614,
          0.8228872895240784,
          0.8198862195014953,
          0.8168851494789123,
          0.8138840794563293,
          0.8138286948204041,
          0.8137733101844787,
          0.8137179255485535,
          0.8136625409126281,
          0.8136071562767029,
          0.8135517716407776,
          0.8134963870048523,
          0.813441002368927,
          0.8133856177330017,
          0.8133302330970764,
          0.814875864982605,
          0.8164214968681336,
          0.8179671287536621,
          0.8195127606391907,
          0.8210583925247192,
          0.8226040244102478,
          0.8241496562957764,
          0.8256952881813049,
          0.8272409200668335,
          0.8287865519523621,
          0.8287865519523621,
          0.8287865519523621,
          0.8287865519523621
         ],
         "yaxis": "y2"
        }
       ],
       "layout": {
        "legend": {
         "title": {
          "text": "variable"
         },
         "tracegroupgap": 0
        },
        "template": {
         "data": {
          "bar": [
           {
            "error_x": {
             "color": "#2a3f5f"
            },
            "error_y": {
             "color": "#2a3f5f"
            },
            "marker": {
             "line": {
              "color": "#E5ECF6",
              "width": 0.5
             },
             "pattern": {
              "fillmode": "overlay",
              "size": 10,
              "solidity": 0.2
             }
            },
            "type": "bar"
           }
          ],
          "barpolar": [
           {
            "marker": {
             "line": {
              "color": "#E5ECF6",
              "width": 0.5
             },
             "pattern": {
              "fillmode": "overlay",
              "size": 10,
              "solidity": 0.2
             }
            },
            "type": "barpolar"
           }
          ],
          "carpet": [
           {
            "aaxis": {
             "endlinecolor": "#2a3f5f",
             "gridcolor": "white",
             "linecolor": "white",
             "minorgridcolor": "white",
             "startlinecolor": "#2a3f5f"
            },
            "baxis": {
             "endlinecolor": "#2a3f5f",
             "gridcolor": "white",
             "linecolor": "white",
             "minorgridcolor": "white",
             "startlinecolor": "#2a3f5f"
            },
            "type": "carpet"
           }
          ],
          "choropleth": [
           {
            "colorbar": {
             "outlinewidth": 0,
             "ticks": ""
            },
            "type": "choropleth"
           }
          ],
          "contour": [
           {
            "colorbar": {
             "outlinewidth": 0,
             "ticks": ""
            },
            "colorscale": [
             [
              0,
              "#0d0887"
             ],
             [
              0.1111111111111111,
              "#46039f"
             ],
             [
              0.2222222222222222,
              "#7201a8"
             ],
             [
              0.3333333333333333,
              "#9c179e"
             ],
             [
              0.4444444444444444,
              "#bd3786"
             ],
             [
              0.5555555555555556,
              "#d8576b"
             ],
             [
              0.6666666666666666,
              "#ed7953"
             ],
             [
              0.7777777777777778,
              "#fb9f3a"
             ],
             [
              0.8888888888888888,
              "#fdca26"
             ],
             [
              1,
              "#f0f921"
             ]
            ],
            "type": "contour"
           }
          ],
          "contourcarpet": [
           {
            "colorbar": {
             "outlinewidth": 0,
             "ticks": ""
            },
            "type": "contourcarpet"
           }
          ],
          "heatmap": [
           {
            "colorbar": {
             "outlinewidth": 0,
             "ticks": ""
            },
            "colorscale": [
             [
              0,
              "#0d0887"
             ],
             [
              0.1111111111111111,
              "#46039f"
             ],
             [
              0.2222222222222222,
              "#7201a8"
             ],
             [
              0.3333333333333333,
              "#9c179e"
             ],
             [
              0.4444444444444444,
              "#bd3786"
             ],
             [
              0.5555555555555556,
              "#d8576b"
             ],
             [
              0.6666666666666666,
              "#ed7953"
             ],
             [
              0.7777777777777778,
              "#fb9f3a"
             ],
             [
              0.8888888888888888,
              "#fdca26"
             ],
             [
              1,
              "#f0f921"
             ]
            ],
            "type": "heatmap"
           }
          ],
          "heatmapgl": [
           {
            "colorbar": {
             "outlinewidth": 0,
             "ticks": ""
            },
            "colorscale": [
             [
              0,
              "#0d0887"
             ],
             [
              0.1111111111111111,
              "#46039f"
             ],
             [
              0.2222222222222222,
              "#7201a8"
             ],
             [
              0.3333333333333333,
              "#9c179e"
             ],
             [
              0.4444444444444444,
              "#bd3786"
             ],
             [
              0.5555555555555556,
              "#d8576b"
             ],
             [
              0.6666666666666666,
              "#ed7953"
             ],
             [
              0.7777777777777778,
              "#fb9f3a"
             ],
             [
              0.8888888888888888,
              "#fdca26"
             ],
             [
              1,
              "#f0f921"
             ]
            ],
            "type": "heatmapgl"
           }
          ],
          "histogram": [
           {
            "marker": {
             "pattern": {
              "fillmode": "overlay",
              "size": 10,
              "solidity": 0.2
             }
            },
            "type": "histogram"
           }
          ],
          "histogram2d": [
           {
            "colorbar": {
             "outlinewidth": 0,
             "ticks": ""
            },
            "colorscale": [
             [
              0,
              "#0d0887"
             ],
             [
              0.1111111111111111,
              "#46039f"
             ],
             [
              0.2222222222222222,
              "#7201a8"
             ],
             [
              0.3333333333333333,
              "#9c179e"
             ],
             [
              0.4444444444444444,
              "#bd3786"
             ],
             [
              0.5555555555555556,
              "#d8576b"
             ],
             [
              0.6666666666666666,
              "#ed7953"
             ],
             [
              0.7777777777777778,
              "#fb9f3a"
             ],
             [
              0.8888888888888888,
              "#fdca26"
             ],
             [
              1,
              "#f0f921"
             ]
            ],
            "type": "histogram2d"
           }
          ],
          "histogram2dcontour": [
           {
            "colorbar": {
             "outlinewidth": 0,
             "ticks": ""
            },
            "colorscale": [
             [
              0,
              "#0d0887"
             ],
             [
              0.1111111111111111,
              "#46039f"
             ],
             [
              0.2222222222222222,
              "#7201a8"
             ],
             [
              0.3333333333333333,
              "#9c179e"
             ],
             [
              0.4444444444444444,
              "#bd3786"
             ],
             [
              0.5555555555555556,
              "#d8576b"
             ],
             [
              0.6666666666666666,
              "#ed7953"
             ],
             [
              0.7777777777777778,
              "#fb9f3a"
             ],
             [
              0.8888888888888888,
              "#fdca26"
             ],
             [
              1,
              "#f0f921"
             ]
            ],
            "type": "histogram2dcontour"
           }
          ],
          "mesh3d": [
           {
            "colorbar": {
             "outlinewidth": 0,
             "ticks": ""
            },
            "type": "mesh3d"
           }
          ],
          "parcoords": [
           {
            "line": {
             "colorbar": {
              "outlinewidth": 0,
              "ticks": ""
             }
            },
            "type": "parcoords"
           }
          ],
          "pie": [
           {
            "automargin": true,
            "type": "pie"
           }
          ],
          "scatter": [
           {
            "fillpattern": {
             "fillmode": "overlay",
             "size": 10,
             "solidity": 0.2
            },
            "type": "scatter"
           }
          ],
          "scatter3d": [
           {
            "line": {
             "colorbar": {
              "outlinewidth": 0,
              "ticks": ""
             }
            },
            "marker": {
             "colorbar": {
              "outlinewidth": 0,
              "ticks": ""
             }
            },
            "type": "scatter3d"
           }
          ],
          "scattercarpet": [
           {
            "marker": {
             "colorbar": {
              "outlinewidth": 0,
              "ticks": ""
             }
            },
            "type": "scattercarpet"
           }
          ],
          "scattergeo": [
           {
            "marker": {
             "colorbar": {
              "outlinewidth": 0,
              "ticks": ""
             }
            },
            "type": "scattergeo"
           }
          ],
          "scattergl": [
           {
            "marker": {
             "colorbar": {
              "outlinewidth": 0,
              "ticks": ""
             }
            },
            "type": "scattergl"
           }
          ],
          "scattermapbox": [
           {
            "marker": {
             "colorbar": {
              "outlinewidth": 0,
              "ticks": ""
             }
            },
            "type": "scattermapbox"
           }
          ],
          "scatterpolar": [
           {
            "marker": {
             "colorbar": {
              "outlinewidth": 0,
              "ticks": ""
             }
            },
            "type": "scatterpolar"
           }
          ],
          "scatterpolargl": [
           {
            "marker": {
             "colorbar": {
              "outlinewidth": 0,
              "ticks": ""
             }
            },
            "type": "scatterpolargl"
           }
          ],
          "scatterternary": [
           {
            "marker": {
             "colorbar": {
              "outlinewidth": 0,
              "ticks": ""
             }
            },
            "type": "scatterternary"
           }
          ],
          "surface": [
           {
            "colorbar": {
             "outlinewidth": 0,
             "ticks": ""
            },
            "colorscale": [
             [
              0,
              "#0d0887"
             ],
             [
              0.1111111111111111,
              "#46039f"
             ],
             [
              0.2222222222222222,
              "#7201a8"
             ],
             [
              0.3333333333333333,
              "#9c179e"
             ],
             [
              0.4444444444444444,
              "#bd3786"
             ],
             [
              0.5555555555555556,
              "#d8576b"
             ],
             [
              0.6666666666666666,
              "#ed7953"
             ],
             [
              0.7777777777777778,
              "#fb9f3a"
             ],
             [
              0.8888888888888888,
              "#fdca26"
             ],
             [
              1,
              "#f0f921"
             ]
            ],
            "type": "surface"
           }
          ],
          "table": [
           {
            "cells": {
             "fill": {
              "color": "#EBF0F8"
             },
             "line": {
              "color": "white"
             }
            },
            "header": {
             "fill": {
              "color": "#C8D4E3"
             },
             "line": {
              "color": "white"
             }
            },
            "type": "table"
           }
          ]
         },
         "layout": {
          "annotationdefaults": {
           "arrowcolor": "#2a3f5f",
           "arrowhead": 0,
           "arrowwidth": 1
          },
          "autotypenumbers": "strict",
          "coloraxis": {
           "colorbar": {
            "outlinewidth": 0,
            "ticks": ""
           }
          },
          "colorscale": {
           "diverging": [
            [
             0,
             "#8e0152"
            ],
            [
             0.1,
             "#c51b7d"
            ],
            [
             0.2,
             "#de77ae"
            ],
            [
             0.3,
             "#f1b6da"
            ],
            [
             0.4,
             "#fde0ef"
            ],
            [
             0.5,
             "#f7f7f7"
            ],
            [
             0.6,
             "#e6f5d0"
            ],
            [
             0.7,
             "#b8e186"
            ],
            [
             0.8,
             "#7fbc41"
            ],
            [
             0.9,
             "#4d9221"
            ],
            [
             1,
             "#276419"
            ]
           ],
           "sequential": [
            [
             0,
             "#0d0887"
            ],
            [
             0.1111111111111111,
             "#46039f"
            ],
            [
             0.2222222222222222,
             "#7201a8"
            ],
            [
             0.3333333333333333,
             "#9c179e"
            ],
            [
             0.4444444444444444,
             "#bd3786"
            ],
            [
             0.5555555555555556,
             "#d8576b"
            ],
            [
             0.6666666666666666,
             "#ed7953"
            ],
            [
             0.7777777777777778,
             "#fb9f3a"
            ],
            [
             0.8888888888888888,
             "#fdca26"
            ],
            [
             1,
             "#f0f921"
            ]
           ],
           "sequentialminus": [
            [
             0,
             "#0d0887"
            ],
            [
             0.1111111111111111,
             "#46039f"
            ],
            [
             0.2222222222222222,
             "#7201a8"
            ],
            [
             0.3333333333333333,
             "#9c179e"
            ],
            [
             0.4444444444444444,
             "#bd3786"
            ],
            [
             0.5555555555555556,
             "#d8576b"
            ],
            [
             0.6666666666666666,
             "#ed7953"
            ],
            [
             0.7777777777777778,
             "#fb9f3a"
            ],
            [
             0.8888888888888888,
             "#fdca26"
            ],
            [
             1,
             "#f0f921"
            ]
           ]
          },
          "colorway": [
           "#636efa",
           "#EF553B",
           "#00cc96",
           "#ab63fa",
           "#FFA15A",
           "#19d3f3",
           "#FF6692",
           "#B6E880",
           "#FF97FF",
           "#FECB52"
          ],
          "font": {
           "color": "#2a3f5f"
          },
          "geo": {
           "bgcolor": "white",
           "lakecolor": "white",
           "landcolor": "#E5ECF6",
           "showlakes": true,
           "showland": true,
           "subunitcolor": "white"
          },
          "hoverlabel": {
           "align": "left"
          },
          "hovermode": "closest",
          "mapbox": {
           "style": "light"
          },
          "paper_bgcolor": "white",
          "plot_bgcolor": "#E5ECF6",
          "polar": {
           "angularaxis": {
            "gridcolor": "white",
            "linecolor": "white",
            "ticks": ""
           },
           "bgcolor": "#E5ECF6",
           "radialaxis": {
            "gridcolor": "white",
            "linecolor": "white",
            "ticks": ""
           }
          },
          "scene": {
           "xaxis": {
            "backgroundcolor": "#E5ECF6",
            "gridcolor": "white",
            "gridwidth": 2,
            "linecolor": "white",
            "showbackground": true,
            "ticks": "",
            "zerolinecolor": "white"
           },
           "yaxis": {
            "backgroundcolor": "#E5ECF6",
            "gridcolor": "white",
            "gridwidth": 2,
            "linecolor": "white",
            "showbackground": true,
            "ticks": "",
            "zerolinecolor": "white"
           },
           "zaxis": {
            "backgroundcolor": "#E5ECF6",
            "gridcolor": "white",
            "gridwidth": 2,
            "linecolor": "white",
            "showbackground": true,
            "ticks": "",
            "zerolinecolor": "white"
           }
          },
          "shapedefaults": {
           "line": {
            "color": "#2a3f5f"
           }
          },
          "ternary": {
           "aaxis": {
            "gridcolor": "white",
            "linecolor": "white",
            "ticks": ""
           },
           "baxis": {
            "gridcolor": "white",
            "linecolor": "white",
            "ticks": ""
           },
           "bgcolor": "#E5ECF6",
           "caxis": {
            "gridcolor": "white",
            "linecolor": "white",
            "ticks": ""
           }
          },
          "title": {
           "x": 0.05
          },
          "xaxis": {
           "automargin": true,
           "gridcolor": "white",
           "linecolor": "white",
           "ticks": "",
           "title": {
            "standoff": 15
           },
           "zerolinecolor": "white",
           "zerolinewidth": 2
          },
          "yaxis": {
           "automargin": true,
           "gridcolor": "white",
           "linecolor": "white",
           "ticks": "",
           "title": {
            "standoff": 15
           },
           "zerolinecolor": "white",
           "zerolinewidth": 2
          }
         }
        },
        "title": {
         "text": "GED Over Time (minimum faithful graph)"
        },
        "xaxis": {
         "anchor": "y",
         "domain": [
          0,
          1
         ],
         "title": {
          "text": "checkpoint_2"
         },
         "type": "log"
        },
        "yaxis": {
         "anchor": "x",
         "domain": [
          0,
          1
         ],
         "title": {
          "text": "GED Metrics"
         }
        },
        "yaxis2": {
         "overlaying": "y",
         "showgrid": false,
         "side": "right",
         "title": {
          "text": "Probability Difference"
         }
        }
       }
      },
      "text/html": [
       "<div>                            <div id=\"5ffad048-01b7-45ab-a60a-0aa32f8a3f3e\" class=\"plotly-graph-div\" style=\"height:525px; width:100%;\"></div>            <script type=\"text/javascript\">                require([\"plotly\"], function(Plotly) {                    window.PLOTLYENV=window.PLOTLYENV || {};                                    if (document.getElementById(\"5ffad048-01b7-45ab-a60a-0aa32f8a3f3e\")) {                    Plotly.newPlot(                        \"5ffad048-01b7-45ab-a60a-0aa32f8a3f3e\",                        [{\"hovertemplate\":\"variable=additions\\u003cbr\\u003echeckpoint_2=%{x}\\u003cbr\\u003evalue=%{y}\\u003cextra\\u003e\\u003c\\u002fextra\\u003e\",\"legendgroup\":\"additions\",\"line\":{\"color\":\"lightgreen\",\"dash\":\"solid\"},\"marker\":{\"symbol\":\"circle\"},\"mode\":\"lines\",\"name\":\"additions\",\"orientation\":\"v\",\"showlegend\":true,\"x\":[2000,3000,4000,5000,6000,7000,8000,9000,10000,11000,12000,13000,14000,15000,16000,17000,18000,19000,20000,21000,22000,23000,24000,25000,26000,27000,28000,29000,30000,31000,32000,33000,34000,35000,36000,37000,38000,39000,40000,41000,42000,43000,44000,45000,46000,47000,48000,49000,50000,51000,52000,53000,54000,55000,56000,57000,58000,59000,60000,61000,62000,63000,64000,65000,66000,67000,68000,69000,70000,71000,72000,73000,74000,75000,76000,77000,78000,79000,80000,81000,82000,83000,84000,85000,86000,87000,88000,89000,90000,91000,92000,93000,94000,95000,96000,97000,98000,99000,100000,101000,102000,103000,104000,105000,106000,107000,108000,109000,110000,111000,112000,113000,114000,115000,116000,117000,118000,119000,120000,121000,122000,123000,124000,125000,126000,127000,128000,129000,130000,131000,132000,133000,134000,135000,136000,137000,138000,139000,140000,141000,142000,143000],\"xaxis\":\"x\",\"y\":[76,56,0,7,9,3,28,9,1,12,8,28,6,24,6,10,16,8,26,9,15,22,9,31,55,5,32,13,14,7,19,8,26,0,1,28,1,4,30,0,1,19,0,6,0,0,9,6,0,2,8,2,4,1,4,4,3,14,5,2,23,2,16,6,8,1,17,3,1,5,7,7,19,10,1,2,30,7,5,14,29,5,13,6,0,7,0,14,7,0,5,10,6,10,2,6,6,6,2,7,5,19,4,9,7,2,0,21,1,2,33,0,4,0,17,4,38,0,40,8,6,1,22,36,4,7,5,1,1,6,0,3,18,9,1,44,1,19,7,2,5,14],\"yaxis\":\"y\",\"type\":\"scatter\"},{\"hovertemplate\":\"variable=deletions\\u003cbr\\u003echeckpoint_2=%{x}\\u003cbr\\u003evalue=%{y}\\u003cextra\\u003e\\u003c\\u002fextra\\u003e\",\"legendgroup\":\"deletions\",\"line\":{\"color\":\"lightsalmon\",\"dash\":\"solid\"},\"marker\":{\"symbol\":\"circle\"},\"mode\":\"lines\",\"name\":\"deletions\",\"orientation\":\"v\",\"showlegend\":true,\"x\":[2000,3000,4000,5000,6000,7000,8000,9000,10000,11000,12000,13000,14000,15000,16000,17000,18000,19000,20000,21000,22000,23000,24000,25000,26000,27000,28000,29000,30000,31000,32000,33000,34000,35000,36000,37000,38000,39000,40000,41000,42000,43000,44000,45000,46000,47000,48000,49000,50000,51000,52000,53000,54000,55000,56000,57000,58000,59000,60000,61000,62000,63000,64000,65000,66000,67000,68000,69000,70000,71000,72000,73000,74000,75000,76000,77000,78000,79000,80000,81000,82000,83000,84000,85000,86000,87000,88000,89000,90000,91000,92000,93000,94000,95000,96000,97000,98000,99000,100000,101000,102000,103000,104000,105000,106000,107000,108000,109000,110000,111000,112000,113000,114000,115000,116000,117000,118000,119000,120000,121000,122000,123000,124000,125000,126000,127000,128000,129000,130000,131000,132000,133000,134000,135000,136000,137000,138000,139000,140000,141000,142000,143000],\"xaxis\":\"x\",\"y\":[0,20,80,5,3,14,0,13,13,1,5,2,22,10,13,15,9,19,5,18,8,9,23,11,14,92,6,12,23,24,8,12,0,52,9,0,27,0,0,39,4,0,15,0,7,0,0,1,16,2,1,8,2,0,2,5,5,0,9,13,2,18,1,6,9,18,0,16,6,1,3,8,6,18,8,2,2,15,19,8,5,19,12,17,13,1,10,3,5,18,0,1,3,5,11,6,4,4,6,3,7,3,22,3,7,5,18,0,11,7,0,26,4,10,0,7,0,53,0,11,5,18,2,4,38,9,17,12,12,1,10,1,0,7,19,0,39,1,6,8,11,4],\"yaxis\":\"y\",\"type\":\"scatter\"},{\"hovertemplate\":\"variable=total_ged\\u003cbr\\u003echeckpoint_2=%{x}\\u003cbr\\u003evalue=%{y}\\u003cextra\\u003e\\u003c\\u002fextra\\u003e\",\"legendgroup\":\"total_ged\",\"line\":{\"color\":\"lightblue\",\"dash\":\"solid\"},\"marker\":{\"symbol\":\"circle\"},\"mode\":\"lines\",\"name\":\"total_ged\",\"orientation\":\"v\",\"showlegend\":true,\"x\":[2000,3000,4000,5000,6000,7000,8000,9000,10000,11000,12000,13000,14000,15000,16000,17000,18000,19000,20000,21000,22000,23000,24000,25000,26000,27000,28000,29000,30000,31000,32000,33000,34000,35000,36000,37000,38000,39000,40000,41000,42000,43000,44000,45000,46000,47000,48000,49000,50000,51000,52000,53000,54000,55000,56000,57000,58000,59000,60000,61000,62000,63000,64000,65000,66000,67000,68000,69000,70000,71000,72000,73000,74000,75000,76000,77000,78000,79000,80000,81000,82000,83000,84000,85000,86000,87000,88000,89000,90000,91000,92000,93000,94000,95000,96000,97000,98000,99000,100000,101000,102000,103000,104000,105000,106000,107000,108000,109000,110000,111000,112000,113000,114000,115000,116000,117000,118000,119000,120000,121000,122000,123000,124000,125000,126000,127000,128000,129000,130000,131000,132000,133000,134000,135000,136000,137000,138000,139000,140000,141000,142000,143000],\"xaxis\":\"x\",\"y\":[76,76,80,12,12,17,28,22,14,13,13,30,28,34,19,25,25,27,31,27,23,31,32,42,69,97,38,25,37,31,27,20,26,52,10,28,28,4,30,39,5,19,15,6,7,0,9,7,16,4,9,10,6,1,6,9,8,14,14,15,25,20,17,12,17,19,17,19,7,6,10,15,25,28,9,4,32,22,24,22,34,24,25,23,13,8,10,17,12,18,5,11,9,15,13,12,10,10,8,10,12,22,26,12,14,7,18,21,12,9,33,26,8,10,17,11,38,53,40,19,11,19,24,40,42,16,22,13,13,7,10,4,18,16,20,44,40,20,13,10,16,18],\"yaxis\":\"y\",\"type\":\"scatter\"},{\"line\":{\"color\":\"black\"},\"mode\":\"lines\",\"name\":\"perf_metric\",\"x\":[2000,3000,4000,5000,6000,7000,8000,9000,10000,11000,12000,13000,14000,15000,16000,17000,18000,19000,20000,21000,22000,23000,24000,25000,26000,27000,28000,29000,30000,31000,32000,33000,34000,35000,36000,37000,38000,39000,40000,41000,42000,43000,44000,45000,46000,47000,48000,49000,50000,51000,52000,53000,54000,55000,56000,57000,58000,59000,60000,61000,62000,63000,64000,65000,66000,67000,68000,69000,70000,71000,72000,73000,74000,75000,76000,77000,78000,79000,80000,81000,82000,83000,84000,85000,86000,87000,88000,89000,90000,91000,92000,93000,94000,95000,96000,97000,98000,99000,100000,101000,102000,103000,104000,105000,106000,107000,108000,109000,110000,111000,112000,113000,114000,115000,116000,117000,118000,119000,120000,121000,122000,123000,124000,125000,126000,127000,128000,129000,130000,131000,132000,133000,134000,135000,136000,137000,138000,139000,140000,141000,142000,143000],\"y\":[0.14408066868782043,0.30164390802383423,0.5214207172393799,0.6283944845199585,0.42528706789016724,0.6616678237915039,0.5040611624717712,0.5024839639663696,0.5974746346473694,0.6558032035827637,0.4376274645328522,0.5673839449882507,0.5760918855667114,0.673001766204834,0.6555053234100342,0.6380088806152344,0.6205124378204345,0.6030159950256347,0.585519552230835,0.5996431350708008,0.6137667179107666,0.6278903007507324,0.6420138835906982,0.6561374664306641,0.6663044571876526,0.6764714479446411,0.6866384387016297,0.6968054294586181,0.7069724202156067,0.7357974052429199,0.7646223902702332,0.7934473752975464,0.8222723603248596,0.8510973453521729,0.8380409240722656,0.8249845027923584,0.8119280815124512,0.798871660232544,0.7858152389526367,0.79725341796875,0.8086915969848633,0.8201297760009766,0.8315679550170898,0.8430061340332031,0.846302616596222,0.8495990991592407,0.8528955817222595,0.8561920642852783,0.8594885468482971,0.8525122761726379,0.8455360054969787,0.8385597348213196,0.8315834641456604,0.8246071934700012,0.8252315759658814,0.8258559584617615,0.8264803409576416,0.8271047234535217,0.8277291059494019,0.8395205616950989,0.8513120174407959,0.8631034731864929,0.8748949289321899,0.886686384677887,0.88213552236557,0.8775846600532532,0.8730337977409363,0.8684829354286194,0.8639320731163025,0.8613804459571839,0.8588288187980652,0.8562771916389466,0.8537255644798278,0.8511739373207092,0.8486223101615906,0.8460706830024719,0.8435190558433533,0.8409674286842346,0.838415801525116,0.8408834636211395,0.8433511257171631,0.8458187878131866,0.8482864499092102,0.8507541120052338,0.8532217741012573,0.8556894361972809,0.8581570982933044,0.860624760389328,0.8630924224853516,0.8648158371448517,0.8665392518043518,0.868262666463852,0.8699860811233521,0.8717094957828522,0.8734329104423523,0.8751563251018524,0.8768797397613526,0.8786031544208527,0.8803265690803528,0.8766833901405334,0.8730402112007141,0.8693970322608948,0.8657538533210755,0.8621106743812561,0.8584674954414367,0.8548243165016174,0.8511811375617981,0.8475379586219788,0.8438947796821594,0.8408937096595764,0.8378926396369935,0.8348915696144104,0.8318904995918274,0.8288894295692444,0.8258883595466614,0.8228872895240784,0.8198862195014953,0.8168851494789123,0.8138840794563293,0.8138286948204041,0.8137733101844787,0.8137179255485535,0.8136625409126281,0.8136071562767029,0.8135517716407776,0.8134963870048523,0.813441002368927,0.8133856177330017,0.8133302330970764,0.814875864982605,0.8164214968681336,0.8179671287536621,0.8195127606391907,0.8210583925247192,0.8226040244102478,0.8241496562957764,0.8256952881813049,0.8272409200668335,0.8287865519523621,0.8287865519523621,0.8287865519523621,0.8287865519523621],\"yaxis\":\"y2\",\"type\":\"scatter\"}],                        {\"template\":{\"data\":{\"histogram2dcontour\":[{\"type\":\"histogram2dcontour\",\"colorbar\":{\"outlinewidth\":0,\"ticks\":\"\"},\"colorscale\":[[0.0,\"#0d0887\"],[0.1111111111111111,\"#46039f\"],[0.2222222222222222,\"#7201a8\"],[0.3333333333333333,\"#9c179e\"],[0.4444444444444444,\"#bd3786\"],[0.5555555555555556,\"#d8576b\"],[0.6666666666666666,\"#ed7953\"],[0.7777777777777778,\"#fb9f3a\"],[0.8888888888888888,\"#fdca26\"],[1.0,\"#f0f921\"]]}],\"choropleth\":[{\"type\":\"choropleth\",\"colorbar\":{\"outlinewidth\":0,\"ticks\":\"\"}}],\"histogram2d\":[{\"type\":\"histogram2d\",\"colorbar\":{\"outlinewidth\":0,\"ticks\":\"\"},\"colorscale\":[[0.0,\"#0d0887\"],[0.1111111111111111,\"#46039f\"],[0.2222222222222222,\"#7201a8\"],[0.3333333333333333,\"#9c179e\"],[0.4444444444444444,\"#bd3786\"],[0.5555555555555556,\"#d8576b\"],[0.6666666666666666,\"#ed7953\"],[0.7777777777777778,\"#fb9f3a\"],[0.8888888888888888,\"#fdca26\"],[1.0,\"#f0f921\"]]}],\"heatmap\":[{\"type\":\"heatmap\",\"colorbar\":{\"outlinewidth\":0,\"ticks\":\"\"},\"colorscale\":[[0.0,\"#0d0887\"],[0.1111111111111111,\"#46039f\"],[0.2222222222222222,\"#7201a8\"],[0.3333333333333333,\"#9c179e\"],[0.4444444444444444,\"#bd3786\"],[0.5555555555555556,\"#d8576b\"],[0.6666666666666666,\"#ed7953\"],[0.7777777777777778,\"#fb9f3a\"],[0.8888888888888888,\"#fdca26\"],[1.0,\"#f0f921\"]]}],\"heatmapgl\":[{\"type\":\"heatmapgl\",\"colorbar\":{\"outlinewidth\":0,\"ticks\":\"\"},\"colorscale\":[[0.0,\"#0d0887\"],[0.1111111111111111,\"#46039f\"],[0.2222222222222222,\"#7201a8\"],[0.3333333333333333,\"#9c179e\"],[0.4444444444444444,\"#bd3786\"],[0.5555555555555556,\"#d8576b\"],[0.6666666666666666,\"#ed7953\"],[0.7777777777777778,\"#fb9f3a\"],[0.8888888888888888,\"#fdca26\"],[1.0,\"#f0f921\"]]}],\"contourcarpet\":[{\"type\":\"contourcarpet\",\"colorbar\":{\"outlinewidth\":0,\"ticks\":\"\"}}],\"contour\":[{\"type\":\"contour\",\"colorbar\":{\"outlinewidth\":0,\"ticks\":\"\"},\"colorscale\":[[0.0,\"#0d0887\"],[0.1111111111111111,\"#46039f\"],[0.2222222222222222,\"#7201a8\"],[0.3333333333333333,\"#9c179e\"],[0.4444444444444444,\"#bd3786\"],[0.5555555555555556,\"#d8576b\"],[0.6666666666666666,\"#ed7953\"],[0.7777777777777778,\"#fb9f3a\"],[0.8888888888888888,\"#fdca26\"],[1.0,\"#f0f921\"]]}],\"surface\":[{\"type\":\"surface\",\"colorbar\":{\"outlinewidth\":0,\"ticks\":\"\"},\"colorscale\":[[0.0,\"#0d0887\"],[0.1111111111111111,\"#46039f\"],[0.2222222222222222,\"#7201a8\"],[0.3333333333333333,\"#9c179e\"],[0.4444444444444444,\"#bd3786\"],[0.5555555555555556,\"#d8576b\"],[0.6666666666666666,\"#ed7953\"],[0.7777777777777778,\"#fb9f3a\"],[0.8888888888888888,\"#fdca26\"],[1.0,\"#f0f921\"]]}],\"mesh3d\":[{\"type\":\"mesh3d\",\"colorbar\":{\"outlinewidth\":0,\"ticks\":\"\"}}],\"scatter\":[{\"fillpattern\":{\"fillmode\":\"overlay\",\"size\":10,\"solidity\":0.2},\"type\":\"scatter\"}],\"parcoords\":[{\"type\":\"parcoords\",\"line\":{\"colorbar\":{\"outlinewidth\":0,\"ticks\":\"\"}}}],\"scatterpolargl\":[{\"type\":\"scatterpolargl\",\"marker\":{\"colorbar\":{\"outlinewidth\":0,\"ticks\":\"\"}}}],\"bar\":[{\"error_x\":{\"color\":\"#2a3f5f\"},\"error_y\":{\"color\":\"#2a3f5f\"},\"marker\":{\"line\":{\"color\":\"#E5ECF6\",\"width\":0.5},\"pattern\":{\"fillmode\":\"overlay\",\"size\":10,\"solidity\":0.2}},\"type\":\"bar\"}],\"scattergeo\":[{\"type\":\"scattergeo\",\"marker\":{\"colorbar\":{\"outlinewidth\":0,\"ticks\":\"\"}}}],\"scatterpolar\":[{\"type\":\"scatterpolar\",\"marker\":{\"colorbar\":{\"outlinewidth\":0,\"ticks\":\"\"}}}],\"histogram\":[{\"marker\":{\"pattern\":{\"fillmode\":\"overlay\",\"size\":10,\"solidity\":0.2}},\"type\":\"histogram\"}],\"scattergl\":[{\"type\":\"scattergl\",\"marker\":{\"colorbar\":{\"outlinewidth\":0,\"ticks\":\"\"}}}],\"scatter3d\":[{\"type\":\"scatter3d\",\"line\":{\"colorbar\":{\"outlinewidth\":0,\"ticks\":\"\"}},\"marker\":{\"colorbar\":{\"outlinewidth\":0,\"ticks\":\"\"}}}],\"scattermapbox\":[{\"type\":\"scattermapbox\",\"marker\":{\"colorbar\":{\"outlinewidth\":0,\"ticks\":\"\"}}}],\"scatterternary\":[{\"type\":\"scatterternary\",\"marker\":{\"colorbar\":{\"outlinewidth\":0,\"ticks\":\"\"}}}],\"scattercarpet\":[{\"type\":\"scattercarpet\",\"marker\":{\"colorbar\":{\"outlinewidth\":0,\"ticks\":\"\"}}}],\"carpet\":[{\"aaxis\":{\"endlinecolor\":\"#2a3f5f\",\"gridcolor\":\"white\",\"linecolor\":\"white\",\"minorgridcolor\":\"white\",\"startlinecolor\":\"#2a3f5f\"},\"baxis\":{\"endlinecolor\":\"#2a3f5f\",\"gridcolor\":\"white\",\"linecolor\":\"white\",\"minorgridcolor\":\"white\",\"startlinecolor\":\"#2a3f5f\"},\"type\":\"carpet\"}],\"table\":[{\"cells\":{\"fill\":{\"color\":\"#EBF0F8\"},\"line\":{\"color\":\"white\"}},\"header\":{\"fill\":{\"color\":\"#C8D4E3\"},\"line\":{\"color\":\"white\"}},\"type\":\"table\"}],\"barpolar\":[{\"marker\":{\"line\":{\"color\":\"#E5ECF6\",\"width\":0.5},\"pattern\":{\"fillmode\":\"overlay\",\"size\":10,\"solidity\":0.2}},\"type\":\"barpolar\"}],\"pie\":[{\"automargin\":true,\"type\":\"pie\"}]},\"layout\":{\"autotypenumbers\":\"strict\",\"colorway\":[\"#636efa\",\"#EF553B\",\"#00cc96\",\"#ab63fa\",\"#FFA15A\",\"#19d3f3\",\"#FF6692\",\"#B6E880\",\"#FF97FF\",\"#FECB52\"],\"font\":{\"color\":\"#2a3f5f\"},\"hovermode\":\"closest\",\"hoverlabel\":{\"align\":\"left\"},\"paper_bgcolor\":\"white\",\"plot_bgcolor\":\"#E5ECF6\",\"polar\":{\"bgcolor\":\"#E5ECF6\",\"angularaxis\":{\"gridcolor\":\"white\",\"linecolor\":\"white\",\"ticks\":\"\"},\"radialaxis\":{\"gridcolor\":\"white\",\"linecolor\":\"white\",\"ticks\":\"\"}},\"ternary\":{\"bgcolor\":\"#E5ECF6\",\"aaxis\":{\"gridcolor\":\"white\",\"linecolor\":\"white\",\"ticks\":\"\"},\"baxis\":{\"gridcolor\":\"white\",\"linecolor\":\"white\",\"ticks\":\"\"},\"caxis\":{\"gridcolor\":\"white\",\"linecolor\":\"white\",\"ticks\":\"\"}},\"coloraxis\":{\"colorbar\":{\"outlinewidth\":0,\"ticks\":\"\"}},\"colorscale\":{\"sequential\":[[0.0,\"#0d0887\"],[0.1111111111111111,\"#46039f\"],[0.2222222222222222,\"#7201a8\"],[0.3333333333333333,\"#9c179e\"],[0.4444444444444444,\"#bd3786\"],[0.5555555555555556,\"#d8576b\"],[0.6666666666666666,\"#ed7953\"],[0.7777777777777778,\"#fb9f3a\"],[0.8888888888888888,\"#fdca26\"],[1.0,\"#f0f921\"]],\"sequentialminus\":[[0.0,\"#0d0887\"],[0.1111111111111111,\"#46039f\"],[0.2222222222222222,\"#7201a8\"],[0.3333333333333333,\"#9c179e\"],[0.4444444444444444,\"#bd3786\"],[0.5555555555555556,\"#d8576b\"],[0.6666666666666666,\"#ed7953\"],[0.7777777777777778,\"#fb9f3a\"],[0.8888888888888888,\"#fdca26\"],[1.0,\"#f0f921\"]],\"diverging\":[[0,\"#8e0152\"],[0.1,\"#c51b7d\"],[0.2,\"#de77ae\"],[0.3,\"#f1b6da\"],[0.4,\"#fde0ef\"],[0.5,\"#f7f7f7\"],[0.6,\"#e6f5d0\"],[0.7,\"#b8e186\"],[0.8,\"#7fbc41\"],[0.9,\"#4d9221\"],[1,\"#276419\"]]},\"xaxis\":{\"gridcolor\":\"white\",\"linecolor\":\"white\",\"ticks\":\"\",\"title\":{\"standoff\":15},\"zerolinecolor\":\"white\",\"automargin\":true,\"zerolinewidth\":2},\"yaxis\":{\"gridcolor\":\"white\",\"linecolor\":\"white\",\"ticks\":\"\",\"title\":{\"standoff\":15},\"zerolinecolor\":\"white\",\"automargin\":true,\"zerolinewidth\":2},\"scene\":{\"xaxis\":{\"backgroundcolor\":\"#E5ECF6\",\"gridcolor\":\"white\",\"linecolor\":\"white\",\"showbackground\":true,\"ticks\":\"\",\"zerolinecolor\":\"white\",\"gridwidth\":2},\"yaxis\":{\"backgroundcolor\":\"#E5ECF6\",\"gridcolor\":\"white\",\"linecolor\":\"white\",\"showbackground\":true,\"ticks\":\"\",\"zerolinecolor\":\"white\",\"gridwidth\":2},\"zaxis\":{\"backgroundcolor\":\"#E5ECF6\",\"gridcolor\":\"white\",\"linecolor\":\"white\",\"showbackground\":true,\"ticks\":\"\",\"zerolinecolor\":\"white\",\"gridwidth\":2}},\"shapedefaults\":{\"line\":{\"color\":\"#2a3f5f\"}},\"annotationdefaults\":{\"arrowcolor\":\"#2a3f5f\",\"arrowhead\":0,\"arrowwidth\":1},\"geo\":{\"bgcolor\":\"white\",\"landcolor\":\"#E5ECF6\",\"subunitcolor\":\"white\",\"showland\":true,\"showlakes\":true,\"lakecolor\":\"white\"},\"title\":{\"x\":0.05},\"mapbox\":{\"style\":\"light\"}}},\"xaxis\":{\"anchor\":\"y\",\"domain\":[0.0,1.0],\"title\":{\"text\":\"checkpoint_2\"},\"type\":\"log\"},\"yaxis\":{\"anchor\":\"x\",\"domain\":[0.0,1.0],\"title\":{\"text\":\"GED Metrics\"}},\"legend\":{\"title\":{\"text\":\"variable\"},\"tracegroupgap\":0},\"title\":{\"text\":\"GED Over Time (minimum faithful graph)\"},\"yaxis2\":{\"title\":{\"text\":\"Probability Difference\"},\"overlaying\":\"y\",\"side\":\"right\",\"showgrid\":false}},                        {\"responsive\": true}                    ).then(function(){\n",
       "                            \n",
       "var gd = document.getElementById('5ffad048-01b7-45ab-a60a-0aa32f8a3f3e');\n",
       "var x = new MutationObserver(function (mutations, observer) {{\n",
       "        var display = window.getComputedStyle(gd).display;\n",
       "        if (!display || display === 'none') {{\n",
       "            console.log([gd, 'removed!']);\n",
       "            Plotly.purge(gd);\n",
       "            observer.disconnect();\n",
       "        }}\n",
       "}});\n",
       "\n",
       "// Listen for the removal of the full notebook cells\n",
       "var notebookContainer = gd.closest('#notebook-container');\n",
       "if (notebookContainer) {{\n",
       "    x.observe(notebookContainer, {childList: true});\n",
       "}}\n",
       "\n",
       "// Listen for the clearing of the current output cell\n",
       "var outputEl = gd.closest('.output');\n",
       "if (outputEl) {{\n",
       "    x.observe(outputEl, {childList: true});\n",
       "}}\n",
       "\n",
       "                        })                };                });            </script>        </div>"
      ]
     },
     "metadata": {},
     "output_type": "display_data"
    }
   ],
   "source": [
    "# Assuming ged_results is a DataFrame and compute_ged is a function that returns a DataFrame\n",
    "ged_results = compute_ged(df)\n",
    "\n",
    "# Add a new column for the performance metric by mapping the checkpoint_2 values using the perf_metric_dict\n",
    "ged_results['perf_metric'] = ged_results['checkpoint_2'].map(perf_metric_dict)\n",
    "\n",
    "# Interpolate missing values\n",
    "ged_results['perf_metric'] = ged_results['perf_metric'].interpolate(method='linear')\n",
    "\n",
    "# Plotting as before\n",
    "fig = px.line(ged_results, x='checkpoint_2', y=['additions', 'deletions', 'total_ged'], title='GED Over Time (minimum faithful graph)', log_x=True)\n",
    "\n",
    "# Specify colors for each line and update trace colors\n",
    "colors = {'additions': 'lightgreen', 'deletions': 'lightsalmon', 'total_ged': 'lightblue', 'perf_metric': 'black'}\n",
    "for i, trace in enumerate(fig.data):\n",
    "    fig.data[i].update(line=dict(color=colors[trace.name]))\n",
    "\n",
    "# Convert to a go.Figure to add secondary Y-axis features and add the performance metric line\n",
    "fig.update_layout(\n",
    "    yaxis2=dict(title=\"Probability Difference\", overlaying=\"y\", side=\"right\", showgrid=False)\n",
    ")\n",
    "fig.add_trace(\n",
    "    go.Scatter(x=ged_results['checkpoint_2'], y=ged_results['perf_metric'], name='perf_metric', mode='lines', yaxis='y2', line=dict(color=colors['perf_metric']))\n",
    ")\n",
    "\n",
    "# Optional: Update the layout for titles or other aesthetics\n",
    "fig.update_layout(yaxis_title=\"GED Metrics\")\n",
    "fig.show()"
   ]
  },
  {
   "cell_type": "code",
   "execution_count": 10,
   "metadata": {},
   "outputs": [
    {
     "data": {
      "application/vnd.plotly.v1+json": {
       "config": {
        "plotlyServerURL": "https://plot.ly"
       },
       "data": [
        {
         "hovertemplate": "variable=weighted_additions<br>checkpoint_2=%{x}<br>value=%{y}<extra></extra>",
         "legendgroup": "weighted_additions",
         "line": {
          "color": "lightgreen",
          "dash": "solid"
         },
         "marker": {
          "symbol": "circle"
         },
         "mode": "lines",
         "name": "weighted_additions",
         "orientation": "v",
         "showlegend": true,
         "type": "scatter",
         "x": [
          2000,
          3000,
          4000,
          5000,
          6000,
          7000,
          8000,
          9000,
          10000,
          11000,
          12000,
          13000,
          14000,
          15000,
          16000,
          17000,
          18000,
          19000,
          20000,
          21000,
          22000,
          23000,
          24000,
          25000,
          26000,
          27000,
          28000,
          29000,
          30000,
          31000,
          32000,
          33000,
          34000,
          35000,
          36000,
          37000,
          38000,
          39000,
          40000,
          41000,
          42000,
          43000,
          44000,
          45000,
          46000,
          47000,
          48000,
          49000,
          50000,
          51000,
          52000,
          53000,
          54000,
          55000,
          56000,
          57000,
          58000,
          59000,
          60000,
          61000,
          62000,
          63000,
          64000,
          65000,
          66000,
          67000,
          68000,
          69000,
          70000,
          71000,
          72000,
          73000,
          74000,
          75000,
          76000,
          77000,
          78000,
          79000,
          80000,
          81000,
          82000,
          83000,
          84000,
          85000,
          86000,
          87000,
          88000,
          89000,
          90000,
          91000,
          92000,
          93000,
          94000,
          95000,
          96000,
          97000,
          98000,
          99000,
          100000,
          101000,
          102000,
          103000,
          104000,
          105000,
          106000,
          107000,
          108000,
          109000,
          110000,
          111000,
          112000,
          113000,
          114000,
          115000,
          116000,
          117000,
          118000,
          119000,
          120000,
          121000,
          122000,
          123000,
          124000,
          125000,
          126000,
          127000,
          128000,
          129000,
          130000,
          131000,
          132000,
          133000,
          134000,
          135000,
          136000,
          137000,
          138000,
          139000,
          140000,
          141000,
          142000,
          143000
         ],
         "xaxis": "x",
         "y": [
          0.07589530944824219,
          0.001766204833984375,
          0,
          -0.0012664794921875,
          0.00399017333984375,
          0.00482177734375,
          0.01129150390625,
          0.0054931640625,
          0.000949859619140625,
          -0.000335693359375,
          0.00016021728515625,
          0.0026645660400390625,
          0.001766204833984375,
          0.0046405792236328125,
          0.0000934600830078125,
          -0.000896453857421875,
          0.0046405792236328125,
          0.00025177001953125,
          0.00336456298828125,
          0.00177764892578125,
          0.0077953338623046875,
          -0.0016536712646484375,
          0.001262664794921875,
          0.0030422210693359375,
          0.0061817169189453125,
          0.000339508056640625,
          -0.00396728515625,
          0.00433349609375,
          0.004734039306640625,
          0.00789642333984375,
          0.002658843994140625,
          0.003269195556640625,
          0.002231597900390625,
          0,
          0.00179290771484375,
          0,
          0.001983642578125,
          0.006591796875,
          0.00189208984375,
          0,
          0.0014801025390625,
          0.015232086181640625,
          0,
          0.0030975341796875,
          0,
          0,
          0.00115203857421875,
          -0.001506805419921875,
          0,
          0.003814697265625,
          0.00252532958984375,
          0.0023345947265625,
          0.0055389404296875,
          0.001251220703125,
          -0.00063323974609375,
          0.0020599365234375,
          0.0046539306640625,
          0.0025634765625,
          0.00055694580078125,
          0.00489044189453125,
          0.009586334228515625,
          0.00305938720703125,
          0.004940032958984375,
          0.00457000732421875,
          0.00572967529296875,
          0.00106048583984375,
          0.0007171630859375,
          0.004558563232421875,
          0.0009918212890625,
          0.0009918212890625,
          0.0044403076171875,
          0.00384521484375,
          0.00551605224609375,
          0.0030059814453125,
          0.0010528564453125,
          0.00173187255859375,
          -0.000453948974609375,
          -0.0047149658203125,
          0.0065460205078125,
          -0.002391815185546875,
          0.0055255889892578125,
          0.003620147705078125,
          0.00212860107421875,
          0.003383636474609375,
          0,
          0.006725311279296875,
          0,
          0.002651214599609375,
          -0.00322723388671875,
          0,
          0.0002899169921875,
          -0.00077056884765625,
          -0.00035858154296875,
          0.003971099853515625,
          0.00386810302734375,
          0.0033721923828125,
          -0.00800323486328125,
          0.001834869384765625,
          -0.00251007080078125,
          0.00464630126953125,
          0.004299163818359375,
          -0.004913330078125,
          0.004505157470703125,
          0.00154876708984375,
          0.006153106689453125,
          -0.00006866455078125,
          0,
          0.00652313232421875,
          -0.0011444091796875,
          -0.00334930419921875,
          0.01071929931640625,
          0,
          -0.0003662109375,
          0,
          -0.000118255615234375,
          0.006504058837890625,
          0.00435638427734375,
          0,
          0.004627227783203125,
          0.001079559326171875,
          0.00347137451171875,
          0.00170135498046875,
          0.00470733642578125,
          -0.000270843505859375,
          0.003955841064453125,
          0.002620697021484375,
          -0.003833770751953125,
          0.0022430419921875,
          -0.001312255859375,
          -0.00263214111328125,
          0,
          -0.0037689208984375,
          0.00189971923828125,
          0.001613616943359375,
          -0.00144195556640625,
          -0.000446319580078125,
          0.0012664794921875,
          -0.004405975341796875,
          0.002712249755859375,
          -0.00054168701171875,
          0.0009765625,
          0.008167266845703125
         ],
         "yaxis": "y"
        },
        {
         "hovertemplate": "variable=weighted_deletions<br>checkpoint_2=%{x}<br>value=%{y}<extra></extra>",
         "legendgroup": "weighted_deletions",
         "line": {
          "color": "lightsalmon",
          "dash": "solid"
         },
         "marker": {
          "symbol": "circle"
         },
         "mode": "lines",
         "name": "weighted_deletions",
         "orientation": "v",
         "showlegend": true,
         "type": "scatter",
         "x": [
          2000,
          3000,
          4000,
          5000,
          6000,
          7000,
          8000,
          9000,
          10000,
          11000,
          12000,
          13000,
          14000,
          15000,
          16000,
          17000,
          18000,
          19000,
          20000,
          21000,
          22000,
          23000,
          24000,
          25000,
          26000,
          27000,
          28000,
          29000,
          30000,
          31000,
          32000,
          33000,
          34000,
          35000,
          36000,
          37000,
          38000,
          39000,
          40000,
          41000,
          42000,
          43000,
          44000,
          45000,
          46000,
          47000,
          48000,
          49000,
          50000,
          51000,
          52000,
          53000,
          54000,
          55000,
          56000,
          57000,
          58000,
          59000,
          60000,
          61000,
          62000,
          63000,
          64000,
          65000,
          66000,
          67000,
          68000,
          69000,
          70000,
          71000,
          72000,
          73000,
          74000,
          75000,
          76000,
          77000,
          78000,
          79000,
          80000,
          81000,
          82000,
          83000,
          84000,
          85000,
          86000,
          87000,
          88000,
          89000,
          90000,
          91000,
          92000,
          93000,
          94000,
          95000,
          96000,
          97000,
          98000,
          99000,
          100000,
          101000,
          102000,
          103000,
          104000,
          105000,
          106000,
          107000,
          108000,
          109000,
          110000,
          111000,
          112000,
          113000,
          114000,
          115000,
          116000,
          117000,
          118000,
          119000,
          120000,
          121000,
          122000,
          123000,
          124000,
          125000,
          126000,
          127000,
          128000,
          129000,
          130000,
          131000,
          132000,
          133000,
          134000,
          135000,
          136000,
          137000,
          138000,
          139000,
          140000,
          141000,
          142000,
          143000
         ],
         "xaxis": "x",
         "y": [
          0,
          0.0050449371337890625,
          0.01318359375,
          0.0034637451171875,
          0.00353240966796875,
          0.0110321044921875,
          0,
          0.0039825439453125,
          0.00554656982421875,
          -0.0010833740234375,
          0.000324249267578125,
          0.000186920166015625,
          -0.0005626678466796875,
          0.0044002532958984375,
          -0.004913330078125,
          0.0053195953369140625,
          -0.00194549560546875,
          0.0044460296630859375,
          0.001331329345703125,
          0.0035266876220703125,
          0.0017337799072265625,
          0.0026035308837890625,
          0.0073089599609375,
          0.0033931732177734375,
          0.003025054931640625,
          0.0047779083251953125,
          -0.000652313232421875,
          0.0023956298828125,
          0.010242462158203125,
          0.00469207763671875,
          0.006938934326171875,
          -0.00099945068359375,
          0,
          0.0019474029541015625,
          0.00167083740234375,
          0,
          0.00072479248046875,
          0,
          0,
          0.0100860595703125,
          0.007171630859375,
          0,
          0.009674072265625,
          0,
          -0.00341033935546875,
          0,
          0,
          0.00095367431640625,
          0.002231597900390625,
          0.00400543212890625,
          0.00142669677734375,
          0.0007171630859375,
          0.0023345947265625,
          0,
          0.0025177001953125,
          -0.0003509521484375,
          0.0047607421875,
          0,
          0.002841949462890625,
          0.006061553955078125,
          0.00390625,
          0.009174346923828125,
          0.00089263916015625,
          0.001895904541015625,
          0.003574371337890625,
          0.009136199951171875,
          0,
          -0.00157928466796875,
          0.00872802734375,
          0.00103759765625,
          0.00429534912109375,
          0.000270843505859375,
          0.004695892333984375,
          0.001087188720703125,
          -0.00054168701171875,
          0.00205230712890625,
          0.00395965576171875,
          -0.00061798095703125,
          0.002582550048828125,
          0.008586883544921875,
          -0.002960205078125,
          0.0030078887939453125,
          0.00603485107421875,
          0.00318145751953125,
          0.0053863525390625,
          0.00103759765625,
          0.002948760986328125,
          0.00357818603515625,
          -0.001850128173828125,
          0.00201416015625,
          0,
          0.0012969970703125,
          0.00054168701171875,
          -0.00136566162109375,
          0.00696563720703125,
          -0.00545501708984375,
          0.00051116943359375,
          0.00089263916015625,
          0.001773834228515625,
          -0.0013885498046875,
          -0.002288818359375,
          0.0030364990234375,
          0.003704071044921875,
          0.001068115234375,
          -0.000247955322265625,
          0.003116607666015625,
          0.00525665283203125,
          0,
          0.009937286376953125,
          -0.00020599365234375,
          0,
          0.00629425048828125,
          0.000091552734375,
          0.00341796875,
          0,
          0.00145721435546875,
          0,
          0.004291534423828125,
          0,
          0.00748443603515625,
          0.0022125244140625,
          -0.000011444091796875,
          0.000041961669921875,
          0.003955841064453125,
          0.006946563720703125,
          -0.00209808349609375,
          0.002716064453125,
          0.003520965576171875,
          -0.00476837158203125,
          -0.001312255859375,
          -0.002288818359375,
          0.00164031982421875,
          0,
          0.0010986328125,
          -0.003536224365234375,
          0,
          -0.0011138916015625,
          0.00115203857421875,
          -0.00000762939453125,
          0.004222869873046875,
          0.001953125,
          0.00467681884765625
         ],
         "yaxis": "y"
        },
        {
         "hovertemplate": "variable=total_weighted_ged<br>checkpoint_2=%{x}<br>value=%{y}<extra></extra>",
         "legendgroup": "total_weighted_ged",
         "line": {
          "color": "lightblue",
          "dash": "solid"
         },
         "marker": {
          "symbol": "circle"
         },
         "mode": "lines",
         "name": "total_weighted_ged",
         "orientation": "v",
         "showlegend": true,
         "type": "scatter",
         "x": [
          2000,
          3000,
          4000,
          5000,
          6000,
          7000,
          8000,
          9000,
          10000,
          11000,
          12000,
          13000,
          14000,
          15000,
          16000,
          17000,
          18000,
          19000,
          20000,
          21000,
          22000,
          23000,
          24000,
          25000,
          26000,
          27000,
          28000,
          29000,
          30000,
          31000,
          32000,
          33000,
          34000,
          35000,
          36000,
          37000,
          38000,
          39000,
          40000,
          41000,
          42000,
          43000,
          44000,
          45000,
          46000,
          47000,
          48000,
          49000,
          50000,
          51000,
          52000,
          53000,
          54000,
          55000,
          56000,
          57000,
          58000,
          59000,
          60000,
          61000,
          62000,
          63000,
          64000,
          65000,
          66000,
          67000,
          68000,
          69000,
          70000,
          71000,
          72000,
          73000,
          74000,
          75000,
          76000,
          77000,
          78000,
          79000,
          80000,
          81000,
          82000,
          83000,
          84000,
          85000,
          86000,
          87000,
          88000,
          89000,
          90000,
          91000,
          92000,
          93000,
          94000,
          95000,
          96000,
          97000,
          98000,
          99000,
          100000,
          101000,
          102000,
          103000,
          104000,
          105000,
          106000,
          107000,
          108000,
          109000,
          110000,
          111000,
          112000,
          113000,
          114000,
          115000,
          116000,
          117000,
          118000,
          119000,
          120000,
          121000,
          122000,
          123000,
          124000,
          125000,
          126000,
          127000,
          128000,
          129000,
          130000,
          131000,
          132000,
          133000,
          134000,
          135000,
          136000,
          137000,
          138000,
          139000,
          140000,
          141000,
          142000,
          143000
         ],
         "xaxis": "x",
         "y": [
          0.07589530944824219,
          0.0068111419677734375,
          0.01318359375,
          0.002197265625,
          0.0075225830078125,
          0.0158538818359375,
          0.01129150390625,
          0.0094757080078125,
          0.006496429443359375,
          -0.0014190673828125,
          0.000484466552734375,
          0.0028514862060546875,
          0.0012035369873046875,
          0.00904083251953125,
          -0.0048198699951171875,
          0.0044231414794921875,
          0.0026950836181640625,
          0.0046977996826171875,
          0.004695892333984375,
          0.0053043365478515625,
          0.00952911376953125,
          0.000949859619140625,
          0.008571624755859375,
          0.006435394287109375,
          0.009206771850585938,
          0.0051174163818359375,
          -0.004619598388671875,
          0.0067291259765625,
          0.01497650146484375,
          0.0125885009765625,
          0.0095977783203125,
          0.002269744873046875,
          0.002231597900390625,
          0.0019474029541015625,
          0.0034637451171875,
          0,
          0.00270843505859375,
          0.006591796875,
          0.00189208984375,
          0.0100860595703125,
          0.0086517333984375,
          0.015232086181640625,
          0.009674072265625,
          0.0030975341796875,
          -0.00341033935546875,
          0,
          0.00115203857421875,
          -0.000553131103515625,
          0.002231597900390625,
          0.00782012939453125,
          0.0039520263671875,
          0.0030517578125,
          0.00787353515625,
          0.001251220703125,
          0.00188446044921875,
          0.001708984375,
          0.0094146728515625,
          0.0025634765625,
          0.003398895263671875,
          0.010951995849609375,
          0.013492584228515625,
          0.012233734130859375,
          0.005832672119140625,
          0.006465911865234375,
          0.009304046630859375,
          0.010196685791015625,
          0.0007171630859375,
          0.002979278564453125,
          0.0097198486328125,
          0.0020294189453125,
          0.00873565673828125,
          0.004116058349609375,
          0.010211944580078125,
          0.004093170166015625,
          0.00051116943359375,
          0.0037841796875,
          0.003505706787109375,
          -0.00533294677734375,
          0.009128570556640625,
          0.006195068359375,
          0.0025653839111328125,
          0.0066280364990234375,
          0.0081634521484375,
          0.006565093994140625,
          0.0053863525390625,
          0.007762908935546875,
          0.002948760986328125,
          0.006229400634765625,
          -0.005077362060546875,
          0.00201416015625,
          0.0002899169921875,
          0.00052642822265625,
          0.00018310546875,
          0.002605438232421875,
          0.010833740234375,
          -0.00208282470703125,
          -0.0074920654296875,
          0.002727508544921875,
          -0.000736236572265625,
          0.00325775146484375,
          0.002010345458984375,
          -0.0018768310546875,
          0.008209228515625,
          0.00261688232421875,
          0.0059051513671875,
          0.003047943115234375,
          0.00525665283203125,
          0.00652313232421875,
          0.008792877197265625,
          -0.0035552978515625,
          0.01071929931640625,
          0.00629425048828125,
          -0.000274658203125,
          0.00341796875,
          -0.000118255615234375,
          0.007961273193359375,
          0.00435638427734375,
          0.004291534423828125,
          0.004627227783203125,
          0.008563995361328125,
          0.00568389892578125,
          0.001689910888671875,
          0.004749298095703125,
          0.00368499755859375,
          0.01090240478515625,
          0.000522613525390625,
          -0.001117706298828125,
          0.005764007568359375,
          -0.00608062744140625,
          -0.00394439697265625,
          -0.002288818359375,
          -0.00212860107421875,
          0.00189971923828125,
          0.002712249755859375,
          -0.004978179931640625,
          -0.000446319580078125,
          0.000152587890625,
          -0.003253936767578125,
          0.002704620361328125,
          0.003681182861328125,
          0.0029296875,
          0.012844085693359375
         ],
         "yaxis": "y"
        },
        {
         "line": {
          "color": "black"
         },
         "mode": "lines",
         "name": "perf_metric",
         "type": "scatter",
         "x": [
          2000,
          3000,
          4000,
          5000,
          6000,
          7000,
          8000,
          9000,
          10000,
          11000,
          12000,
          13000,
          14000,
          15000,
          16000,
          17000,
          18000,
          19000,
          20000,
          21000,
          22000,
          23000,
          24000,
          25000,
          26000,
          27000,
          28000,
          29000,
          30000,
          31000,
          32000,
          33000,
          34000,
          35000,
          36000,
          37000,
          38000,
          39000,
          40000,
          41000,
          42000,
          43000,
          44000,
          45000,
          46000,
          47000,
          48000,
          49000,
          50000,
          51000,
          52000,
          53000,
          54000,
          55000,
          56000,
          57000,
          58000,
          59000,
          60000,
          61000,
          62000,
          63000,
          64000,
          65000,
          66000,
          67000,
          68000,
          69000,
          70000,
          71000,
          72000,
          73000,
          74000,
          75000,
          76000,
          77000,
          78000,
          79000,
          80000,
          81000,
          82000,
          83000,
          84000,
          85000,
          86000,
          87000,
          88000,
          89000,
          90000,
          91000,
          92000,
          93000,
          94000,
          95000,
          96000,
          97000,
          98000,
          99000,
          100000,
          101000,
          102000,
          103000,
          104000,
          105000,
          106000,
          107000,
          108000,
          109000,
          110000,
          111000,
          112000,
          113000,
          114000,
          115000,
          116000,
          117000,
          118000,
          119000,
          120000,
          121000,
          122000,
          123000,
          124000,
          125000,
          126000,
          127000,
          128000,
          129000,
          130000,
          131000,
          132000,
          133000,
          134000,
          135000,
          136000,
          137000,
          138000,
          139000,
          140000,
          141000,
          142000,
          143000
         ],
         "y": [
          0.14408066868782043,
          0.30164390802383423,
          0.5214207172393799,
          0.6283944845199585,
          0.42528706789016724,
          0.6616678237915039,
          0.5040611624717712,
          0.5024839639663696,
          0.5974746346473694,
          0.6558032035827637,
          0.4376274645328522,
          0.5673839449882507,
          0.5760918855667114,
          0.673001766204834,
          0.6555053234100342,
          0.6380088806152344,
          0.6205124378204345,
          0.6030159950256347,
          0.585519552230835,
          0.5996431350708008,
          0.6137667179107666,
          0.6278903007507324,
          0.6420138835906982,
          0.6561374664306641,
          0.6663044571876526,
          0.6764714479446411,
          0.6866384387016297,
          0.6968054294586181,
          0.7069724202156067,
          0.7357974052429199,
          0.7646223902702332,
          0.7934473752975464,
          0.8222723603248596,
          0.8510973453521729,
          0.8380409240722656,
          0.8249845027923584,
          0.8119280815124512,
          0.798871660232544,
          0.7858152389526367,
          0.79725341796875,
          0.8086915969848633,
          0.8201297760009766,
          0.8315679550170898,
          0.8430061340332031,
          0.846302616596222,
          0.8495990991592407,
          0.8528955817222595,
          0.8561920642852783,
          0.8594885468482971,
          0.8525122761726379,
          0.8455360054969787,
          0.8385597348213196,
          0.8315834641456604,
          0.8246071934700012,
          0.8252315759658814,
          0.8258559584617615,
          0.8264803409576416,
          0.8271047234535217,
          0.8277291059494019,
          0.8395205616950989,
          0.8513120174407959,
          0.8631034731864929,
          0.8748949289321899,
          0.886686384677887,
          0.88213552236557,
          0.8775846600532532,
          0.8730337977409363,
          0.8684829354286194,
          0.8639320731163025,
          0.8613804459571839,
          0.8588288187980652,
          0.8562771916389466,
          0.8537255644798278,
          0.8511739373207092,
          0.8486223101615906,
          0.8460706830024719,
          0.8435190558433533,
          0.8409674286842346,
          0.838415801525116,
          0.8408834636211395,
          0.8433511257171631,
          0.8458187878131866,
          0.8482864499092102,
          0.8507541120052338,
          0.8532217741012573,
          0.8556894361972809,
          0.8581570982933044,
          0.860624760389328,
          0.8630924224853516,
          0.8648158371448517,
          0.8665392518043518,
          0.868262666463852,
          0.8699860811233521,
          0.8717094957828522,
          0.8734329104423523,
          0.8751563251018524,
          0.8768797397613526,
          0.8786031544208527,
          0.8803265690803528,
          0.8766833901405334,
          0.8730402112007141,
          0.8693970322608948,
          0.8657538533210755,
          0.8621106743812561,
          0.8584674954414367,
          0.8548243165016174,
          0.8511811375617981,
          0.8475379586219788,
          0.8438947796821594,
          0.8408937096595764,
          0.8378926396369935,
          0.8348915696144104,
          0.8318904995918274,
          0.8288894295692444,
          0.8258883595466614,
          0.8228872895240784,
          0.8198862195014953,
          0.8168851494789123,
          0.8138840794563293,
          0.8138286948204041,
          0.8137733101844787,
          0.8137179255485535,
          0.8136625409126281,
          0.8136071562767029,
          0.8135517716407776,
          0.8134963870048523,
          0.813441002368927,
          0.8133856177330017,
          0.8133302330970764,
          0.814875864982605,
          0.8164214968681336,
          0.8179671287536621,
          0.8195127606391907,
          0.8210583925247192,
          0.8226040244102478,
          0.8241496562957764,
          0.8256952881813049,
          0.8272409200668335,
          0.8287865519523621,
          0.8287865519523621,
          0.8287865519523621,
          0.8287865519523621
         ],
         "yaxis": "y2"
        }
       ],
       "layout": {
        "legend": {
         "title": {
          "text": "variable"
         },
         "tracegroupgap": 0
        },
        "template": {
         "data": {
          "bar": [
           {
            "error_x": {
             "color": "#2a3f5f"
            },
            "error_y": {
             "color": "#2a3f5f"
            },
            "marker": {
             "line": {
              "color": "#E5ECF6",
              "width": 0.5
             },
             "pattern": {
              "fillmode": "overlay",
              "size": 10,
              "solidity": 0.2
             }
            },
            "type": "bar"
           }
          ],
          "barpolar": [
           {
            "marker": {
             "line": {
              "color": "#E5ECF6",
              "width": 0.5
             },
             "pattern": {
              "fillmode": "overlay",
              "size": 10,
              "solidity": 0.2
             }
            },
            "type": "barpolar"
           }
          ],
          "carpet": [
           {
            "aaxis": {
             "endlinecolor": "#2a3f5f",
             "gridcolor": "white",
             "linecolor": "white",
             "minorgridcolor": "white",
             "startlinecolor": "#2a3f5f"
            },
            "baxis": {
             "endlinecolor": "#2a3f5f",
             "gridcolor": "white",
             "linecolor": "white",
             "minorgridcolor": "white",
             "startlinecolor": "#2a3f5f"
            },
            "type": "carpet"
           }
          ],
          "choropleth": [
           {
            "colorbar": {
             "outlinewidth": 0,
             "ticks": ""
            },
            "type": "choropleth"
           }
          ],
          "contour": [
           {
            "colorbar": {
             "outlinewidth": 0,
             "ticks": ""
            },
            "colorscale": [
             [
              0,
              "#0d0887"
             ],
             [
              0.1111111111111111,
              "#46039f"
             ],
             [
              0.2222222222222222,
              "#7201a8"
             ],
             [
              0.3333333333333333,
              "#9c179e"
             ],
             [
              0.4444444444444444,
              "#bd3786"
             ],
             [
              0.5555555555555556,
              "#d8576b"
             ],
             [
              0.6666666666666666,
              "#ed7953"
             ],
             [
              0.7777777777777778,
              "#fb9f3a"
             ],
             [
              0.8888888888888888,
              "#fdca26"
             ],
             [
              1,
              "#f0f921"
             ]
            ],
            "type": "contour"
           }
          ],
          "contourcarpet": [
           {
            "colorbar": {
             "outlinewidth": 0,
             "ticks": ""
            },
            "type": "contourcarpet"
           }
          ],
          "heatmap": [
           {
            "colorbar": {
             "outlinewidth": 0,
             "ticks": ""
            },
            "colorscale": [
             [
              0,
              "#0d0887"
             ],
             [
              0.1111111111111111,
              "#46039f"
             ],
             [
              0.2222222222222222,
              "#7201a8"
             ],
             [
              0.3333333333333333,
              "#9c179e"
             ],
             [
              0.4444444444444444,
              "#bd3786"
             ],
             [
              0.5555555555555556,
              "#d8576b"
             ],
             [
              0.6666666666666666,
              "#ed7953"
             ],
             [
              0.7777777777777778,
              "#fb9f3a"
             ],
             [
              0.8888888888888888,
              "#fdca26"
             ],
             [
              1,
              "#f0f921"
             ]
            ],
            "type": "heatmap"
           }
          ],
          "heatmapgl": [
           {
            "colorbar": {
             "outlinewidth": 0,
             "ticks": ""
            },
            "colorscale": [
             [
              0,
              "#0d0887"
             ],
             [
              0.1111111111111111,
              "#46039f"
             ],
             [
              0.2222222222222222,
              "#7201a8"
             ],
             [
              0.3333333333333333,
              "#9c179e"
             ],
             [
              0.4444444444444444,
              "#bd3786"
             ],
             [
              0.5555555555555556,
              "#d8576b"
             ],
             [
              0.6666666666666666,
              "#ed7953"
             ],
             [
              0.7777777777777778,
              "#fb9f3a"
             ],
             [
              0.8888888888888888,
              "#fdca26"
             ],
             [
              1,
              "#f0f921"
             ]
            ],
            "type": "heatmapgl"
           }
          ],
          "histogram": [
           {
            "marker": {
             "pattern": {
              "fillmode": "overlay",
              "size": 10,
              "solidity": 0.2
             }
            },
            "type": "histogram"
           }
          ],
          "histogram2d": [
           {
            "colorbar": {
             "outlinewidth": 0,
             "ticks": ""
            },
            "colorscale": [
             [
              0,
              "#0d0887"
             ],
             [
              0.1111111111111111,
              "#46039f"
             ],
             [
              0.2222222222222222,
              "#7201a8"
             ],
             [
              0.3333333333333333,
              "#9c179e"
             ],
             [
              0.4444444444444444,
              "#bd3786"
             ],
             [
              0.5555555555555556,
              "#d8576b"
             ],
             [
              0.6666666666666666,
              "#ed7953"
             ],
             [
              0.7777777777777778,
              "#fb9f3a"
             ],
             [
              0.8888888888888888,
              "#fdca26"
             ],
             [
              1,
              "#f0f921"
             ]
            ],
            "type": "histogram2d"
           }
          ],
          "histogram2dcontour": [
           {
            "colorbar": {
             "outlinewidth": 0,
             "ticks": ""
            },
            "colorscale": [
             [
              0,
              "#0d0887"
             ],
             [
              0.1111111111111111,
              "#46039f"
             ],
             [
              0.2222222222222222,
              "#7201a8"
             ],
             [
              0.3333333333333333,
              "#9c179e"
             ],
             [
              0.4444444444444444,
              "#bd3786"
             ],
             [
              0.5555555555555556,
              "#d8576b"
             ],
             [
              0.6666666666666666,
              "#ed7953"
             ],
             [
              0.7777777777777778,
              "#fb9f3a"
             ],
             [
              0.8888888888888888,
              "#fdca26"
             ],
             [
              1,
              "#f0f921"
             ]
            ],
            "type": "histogram2dcontour"
           }
          ],
          "mesh3d": [
           {
            "colorbar": {
             "outlinewidth": 0,
             "ticks": ""
            },
            "type": "mesh3d"
           }
          ],
          "parcoords": [
           {
            "line": {
             "colorbar": {
              "outlinewidth": 0,
              "ticks": ""
             }
            },
            "type": "parcoords"
           }
          ],
          "pie": [
           {
            "automargin": true,
            "type": "pie"
           }
          ],
          "scatter": [
           {
            "fillpattern": {
             "fillmode": "overlay",
             "size": 10,
             "solidity": 0.2
            },
            "type": "scatter"
           }
          ],
          "scatter3d": [
           {
            "line": {
             "colorbar": {
              "outlinewidth": 0,
              "ticks": ""
             }
            },
            "marker": {
             "colorbar": {
              "outlinewidth": 0,
              "ticks": ""
             }
            },
            "type": "scatter3d"
           }
          ],
          "scattercarpet": [
           {
            "marker": {
             "colorbar": {
              "outlinewidth": 0,
              "ticks": ""
             }
            },
            "type": "scattercarpet"
           }
          ],
          "scattergeo": [
           {
            "marker": {
             "colorbar": {
              "outlinewidth": 0,
              "ticks": ""
             }
            },
            "type": "scattergeo"
           }
          ],
          "scattergl": [
           {
            "marker": {
             "colorbar": {
              "outlinewidth": 0,
              "ticks": ""
             }
            },
            "type": "scattergl"
           }
          ],
          "scattermapbox": [
           {
            "marker": {
             "colorbar": {
              "outlinewidth": 0,
              "ticks": ""
             }
            },
            "type": "scattermapbox"
           }
          ],
          "scatterpolar": [
           {
            "marker": {
             "colorbar": {
              "outlinewidth": 0,
              "ticks": ""
             }
            },
            "type": "scatterpolar"
           }
          ],
          "scatterpolargl": [
           {
            "marker": {
             "colorbar": {
              "outlinewidth": 0,
              "ticks": ""
             }
            },
            "type": "scatterpolargl"
           }
          ],
          "scatterternary": [
           {
            "marker": {
             "colorbar": {
              "outlinewidth": 0,
              "ticks": ""
             }
            },
            "type": "scatterternary"
           }
          ],
          "surface": [
           {
            "colorbar": {
             "outlinewidth": 0,
             "ticks": ""
            },
            "colorscale": [
             [
              0,
              "#0d0887"
             ],
             [
              0.1111111111111111,
              "#46039f"
             ],
             [
              0.2222222222222222,
              "#7201a8"
             ],
             [
              0.3333333333333333,
              "#9c179e"
             ],
             [
              0.4444444444444444,
              "#bd3786"
             ],
             [
              0.5555555555555556,
              "#d8576b"
             ],
             [
              0.6666666666666666,
              "#ed7953"
             ],
             [
              0.7777777777777778,
              "#fb9f3a"
             ],
             [
              0.8888888888888888,
              "#fdca26"
             ],
             [
              1,
              "#f0f921"
             ]
            ],
            "type": "surface"
           }
          ],
          "table": [
           {
            "cells": {
             "fill": {
              "color": "#EBF0F8"
             },
             "line": {
              "color": "white"
             }
            },
            "header": {
             "fill": {
              "color": "#C8D4E3"
             },
             "line": {
              "color": "white"
             }
            },
            "type": "table"
           }
          ]
         },
         "layout": {
          "annotationdefaults": {
           "arrowcolor": "#2a3f5f",
           "arrowhead": 0,
           "arrowwidth": 1
          },
          "autotypenumbers": "strict",
          "coloraxis": {
           "colorbar": {
            "outlinewidth": 0,
            "ticks": ""
           }
          },
          "colorscale": {
           "diverging": [
            [
             0,
             "#8e0152"
            ],
            [
             0.1,
             "#c51b7d"
            ],
            [
             0.2,
             "#de77ae"
            ],
            [
             0.3,
             "#f1b6da"
            ],
            [
             0.4,
             "#fde0ef"
            ],
            [
             0.5,
             "#f7f7f7"
            ],
            [
             0.6,
             "#e6f5d0"
            ],
            [
             0.7,
             "#b8e186"
            ],
            [
             0.8,
             "#7fbc41"
            ],
            [
             0.9,
             "#4d9221"
            ],
            [
             1,
             "#276419"
            ]
           ],
           "sequential": [
            [
             0,
             "#0d0887"
            ],
            [
             0.1111111111111111,
             "#46039f"
            ],
            [
             0.2222222222222222,
             "#7201a8"
            ],
            [
             0.3333333333333333,
             "#9c179e"
            ],
            [
             0.4444444444444444,
             "#bd3786"
            ],
            [
             0.5555555555555556,
             "#d8576b"
            ],
            [
             0.6666666666666666,
             "#ed7953"
            ],
            [
             0.7777777777777778,
             "#fb9f3a"
            ],
            [
             0.8888888888888888,
             "#fdca26"
            ],
            [
             1,
             "#f0f921"
            ]
           ],
           "sequentialminus": [
            [
             0,
             "#0d0887"
            ],
            [
             0.1111111111111111,
             "#46039f"
            ],
            [
             0.2222222222222222,
             "#7201a8"
            ],
            [
             0.3333333333333333,
             "#9c179e"
            ],
            [
             0.4444444444444444,
             "#bd3786"
            ],
            [
             0.5555555555555556,
             "#d8576b"
            ],
            [
             0.6666666666666666,
             "#ed7953"
            ],
            [
             0.7777777777777778,
             "#fb9f3a"
            ],
            [
             0.8888888888888888,
             "#fdca26"
            ],
            [
             1,
             "#f0f921"
            ]
           ]
          },
          "colorway": [
           "#636efa",
           "#EF553B",
           "#00cc96",
           "#ab63fa",
           "#FFA15A",
           "#19d3f3",
           "#FF6692",
           "#B6E880",
           "#FF97FF",
           "#FECB52"
          ],
          "font": {
           "color": "#2a3f5f"
          },
          "geo": {
           "bgcolor": "white",
           "lakecolor": "white",
           "landcolor": "#E5ECF6",
           "showlakes": true,
           "showland": true,
           "subunitcolor": "white"
          },
          "hoverlabel": {
           "align": "left"
          },
          "hovermode": "closest",
          "mapbox": {
           "style": "light"
          },
          "paper_bgcolor": "white",
          "plot_bgcolor": "#E5ECF6",
          "polar": {
           "angularaxis": {
            "gridcolor": "white",
            "linecolor": "white",
            "ticks": ""
           },
           "bgcolor": "#E5ECF6",
           "radialaxis": {
            "gridcolor": "white",
            "linecolor": "white",
            "ticks": ""
           }
          },
          "scene": {
           "xaxis": {
            "backgroundcolor": "#E5ECF6",
            "gridcolor": "white",
            "gridwidth": 2,
            "linecolor": "white",
            "showbackground": true,
            "ticks": "",
            "zerolinecolor": "white"
           },
           "yaxis": {
            "backgroundcolor": "#E5ECF6",
            "gridcolor": "white",
            "gridwidth": 2,
            "linecolor": "white",
            "showbackground": true,
            "ticks": "",
            "zerolinecolor": "white"
           },
           "zaxis": {
            "backgroundcolor": "#E5ECF6",
            "gridcolor": "white",
            "gridwidth": 2,
            "linecolor": "white",
            "showbackground": true,
            "ticks": "",
            "zerolinecolor": "white"
           }
          },
          "shapedefaults": {
           "line": {
            "color": "#2a3f5f"
           }
          },
          "ternary": {
           "aaxis": {
            "gridcolor": "white",
            "linecolor": "white",
            "ticks": ""
           },
           "baxis": {
            "gridcolor": "white",
            "linecolor": "white",
            "ticks": ""
           },
           "bgcolor": "#E5ECF6",
           "caxis": {
            "gridcolor": "white",
            "linecolor": "white",
            "ticks": ""
           }
          },
          "title": {
           "x": 0.05
          },
          "xaxis": {
           "automargin": true,
           "gridcolor": "white",
           "linecolor": "white",
           "ticks": "",
           "title": {
            "standoff": 15
           },
           "zerolinecolor": "white",
           "zerolinewidth": 2
          },
          "yaxis": {
           "automargin": true,
           "gridcolor": "white",
           "linecolor": "white",
           "ticks": "",
           "title": {
            "standoff": 15
           },
           "zerolinecolor": "white",
           "zerolinewidth": 2
          }
         }
        },
        "title": {
         "text": "Weighted GED Over Time (top 100 edges)"
        },
        "xaxis": {
         "anchor": "y",
         "domain": [
          0,
          1
         ],
         "title": {
          "text": "checkpoint_2"
         },
         "type": "log"
        },
        "yaxis": {
         "anchor": "x",
         "domain": [
          0,
          1
         ],
         "title": {
          "text": "Weighted GED Metrics"
         }
        },
        "yaxis2": {
         "overlaying": "y",
         "showgrid": false,
         "side": "right",
         "title": {
          "text": "Probability Difference"
         }
        }
       }
      },
      "text/html": [
       "<div>                            <div id=\"07d94698-777f-417f-8902-566924a7efb9\" class=\"plotly-graph-div\" style=\"height:525px; width:100%;\"></div>            <script type=\"text/javascript\">                require([\"plotly\"], function(Plotly) {                    window.PLOTLYENV=window.PLOTLYENV || {};                                    if (document.getElementById(\"07d94698-777f-417f-8902-566924a7efb9\")) {                    Plotly.newPlot(                        \"07d94698-777f-417f-8902-566924a7efb9\",                        [{\"hovertemplate\":\"variable=weighted_additions\\u003cbr\\u003echeckpoint_2=%{x}\\u003cbr\\u003evalue=%{y}\\u003cextra\\u003e\\u003c\\u002fextra\\u003e\",\"legendgroup\":\"weighted_additions\",\"line\":{\"color\":\"lightgreen\",\"dash\":\"solid\"},\"marker\":{\"symbol\":\"circle\"},\"mode\":\"lines\",\"name\":\"weighted_additions\",\"orientation\":\"v\",\"showlegend\":true,\"x\":[2000,3000,4000,5000,6000,7000,8000,9000,10000,11000,12000,13000,14000,15000,16000,17000,18000,19000,20000,21000,22000,23000,24000,25000,26000,27000,28000,29000,30000,31000,32000,33000,34000,35000,36000,37000,38000,39000,40000,41000,42000,43000,44000,45000,46000,47000,48000,49000,50000,51000,52000,53000,54000,55000,56000,57000,58000,59000,60000,61000,62000,63000,64000,65000,66000,67000,68000,69000,70000,71000,72000,73000,74000,75000,76000,77000,78000,79000,80000,81000,82000,83000,84000,85000,86000,87000,88000,89000,90000,91000,92000,93000,94000,95000,96000,97000,98000,99000,100000,101000,102000,103000,104000,105000,106000,107000,108000,109000,110000,111000,112000,113000,114000,115000,116000,117000,118000,119000,120000,121000,122000,123000,124000,125000,126000,127000,128000,129000,130000,131000,132000,133000,134000,135000,136000,137000,138000,139000,140000,141000,142000,143000],\"xaxis\":\"x\",\"y\":[0.07589530944824219,0.001766204833984375,0.0,-0.0012664794921875,0.00399017333984375,0.00482177734375,0.01129150390625,0.0054931640625,0.000949859619140625,-0.000335693359375,0.00016021728515625,0.0026645660400390625,0.001766204833984375,0.0046405792236328125,9.34600830078125e-05,-0.000896453857421875,0.0046405792236328125,0.00025177001953125,0.00336456298828125,0.00177764892578125,0.0077953338623046875,-0.0016536712646484375,0.001262664794921875,0.0030422210693359375,0.0061817169189453125,0.000339508056640625,-0.00396728515625,0.00433349609375,0.004734039306640625,0.00789642333984375,0.002658843994140625,0.003269195556640625,0.002231597900390625,0.0,0.00179290771484375,0.0,0.001983642578125,0.006591796875,0.00189208984375,0.0,0.0014801025390625,0.015232086181640625,0.0,0.0030975341796875,0.0,0.0,0.00115203857421875,-0.001506805419921875,0.0,0.003814697265625,0.00252532958984375,0.0023345947265625,0.0055389404296875,0.001251220703125,-0.00063323974609375,0.0020599365234375,0.0046539306640625,0.0025634765625,0.00055694580078125,0.00489044189453125,0.009586334228515625,0.00305938720703125,0.004940032958984375,0.00457000732421875,0.00572967529296875,0.00106048583984375,0.0007171630859375,0.004558563232421875,0.0009918212890625,0.0009918212890625,0.0044403076171875,0.00384521484375,0.00551605224609375,0.0030059814453125,0.0010528564453125,0.00173187255859375,-0.000453948974609375,-0.0047149658203125,0.0065460205078125,-0.002391815185546875,0.0055255889892578125,0.003620147705078125,0.00212860107421875,0.003383636474609375,0.0,0.006725311279296875,0.0,0.002651214599609375,-0.00322723388671875,0.0,0.0002899169921875,-0.00077056884765625,-0.00035858154296875,0.003971099853515625,0.00386810302734375,0.0033721923828125,-0.00800323486328125,0.001834869384765625,-0.00251007080078125,0.00464630126953125,0.004299163818359375,-0.004913330078125,0.004505157470703125,0.00154876708984375,0.006153106689453125,-6.866455078125e-05,0.0,0.00652313232421875,-0.0011444091796875,-0.00334930419921875,0.01071929931640625,0.0,-0.0003662109375,0.0,-0.000118255615234375,0.006504058837890625,0.00435638427734375,0.0,0.004627227783203125,0.001079559326171875,0.00347137451171875,0.00170135498046875,0.00470733642578125,-0.000270843505859375,0.003955841064453125,0.002620697021484375,-0.003833770751953125,0.0022430419921875,-0.001312255859375,-0.00263214111328125,0.0,-0.0037689208984375,0.00189971923828125,0.001613616943359375,-0.00144195556640625,-0.000446319580078125,0.0012664794921875,-0.004405975341796875,0.002712249755859375,-0.00054168701171875,0.0009765625,0.008167266845703125],\"yaxis\":\"y\",\"type\":\"scatter\"},{\"hovertemplate\":\"variable=weighted_deletions\\u003cbr\\u003echeckpoint_2=%{x}\\u003cbr\\u003evalue=%{y}\\u003cextra\\u003e\\u003c\\u002fextra\\u003e\",\"legendgroup\":\"weighted_deletions\",\"line\":{\"color\":\"lightsalmon\",\"dash\":\"solid\"},\"marker\":{\"symbol\":\"circle\"},\"mode\":\"lines\",\"name\":\"weighted_deletions\",\"orientation\":\"v\",\"showlegend\":true,\"x\":[2000,3000,4000,5000,6000,7000,8000,9000,10000,11000,12000,13000,14000,15000,16000,17000,18000,19000,20000,21000,22000,23000,24000,25000,26000,27000,28000,29000,30000,31000,32000,33000,34000,35000,36000,37000,38000,39000,40000,41000,42000,43000,44000,45000,46000,47000,48000,49000,50000,51000,52000,53000,54000,55000,56000,57000,58000,59000,60000,61000,62000,63000,64000,65000,66000,67000,68000,69000,70000,71000,72000,73000,74000,75000,76000,77000,78000,79000,80000,81000,82000,83000,84000,85000,86000,87000,88000,89000,90000,91000,92000,93000,94000,95000,96000,97000,98000,99000,100000,101000,102000,103000,104000,105000,106000,107000,108000,109000,110000,111000,112000,113000,114000,115000,116000,117000,118000,119000,120000,121000,122000,123000,124000,125000,126000,127000,128000,129000,130000,131000,132000,133000,134000,135000,136000,137000,138000,139000,140000,141000,142000,143000],\"xaxis\":\"x\",\"y\":[0.0,0.0050449371337890625,0.01318359375,0.0034637451171875,0.00353240966796875,0.0110321044921875,0.0,0.0039825439453125,0.00554656982421875,-0.0010833740234375,0.000324249267578125,0.000186920166015625,-0.0005626678466796875,0.0044002532958984375,-0.004913330078125,0.0053195953369140625,-0.00194549560546875,0.0044460296630859375,0.001331329345703125,0.0035266876220703125,0.0017337799072265625,0.0026035308837890625,0.0073089599609375,0.0033931732177734375,0.003025054931640625,0.0047779083251953125,-0.000652313232421875,0.0023956298828125,0.010242462158203125,0.00469207763671875,0.006938934326171875,-0.00099945068359375,0.0,0.0019474029541015625,0.00167083740234375,0.0,0.00072479248046875,0.0,0.0,0.0100860595703125,0.007171630859375,0.0,0.009674072265625,0.0,-0.00341033935546875,0.0,0.0,0.00095367431640625,0.002231597900390625,0.00400543212890625,0.00142669677734375,0.0007171630859375,0.0023345947265625,0.0,0.0025177001953125,-0.0003509521484375,0.0047607421875,0.0,0.002841949462890625,0.006061553955078125,0.00390625,0.009174346923828125,0.00089263916015625,0.001895904541015625,0.003574371337890625,0.009136199951171875,0.0,-0.00157928466796875,0.00872802734375,0.00103759765625,0.00429534912109375,0.000270843505859375,0.004695892333984375,0.001087188720703125,-0.00054168701171875,0.00205230712890625,0.00395965576171875,-0.00061798095703125,0.002582550048828125,0.008586883544921875,-0.002960205078125,0.0030078887939453125,0.00603485107421875,0.00318145751953125,0.0053863525390625,0.00103759765625,0.002948760986328125,0.00357818603515625,-0.001850128173828125,0.00201416015625,0.0,0.0012969970703125,0.00054168701171875,-0.00136566162109375,0.00696563720703125,-0.00545501708984375,0.00051116943359375,0.00089263916015625,0.001773834228515625,-0.0013885498046875,-0.002288818359375,0.0030364990234375,0.003704071044921875,0.001068115234375,-0.000247955322265625,0.003116607666015625,0.00525665283203125,0.0,0.009937286376953125,-0.00020599365234375,0.0,0.00629425048828125,9.1552734375e-05,0.00341796875,0.0,0.00145721435546875,0.0,0.004291534423828125,0.0,0.00748443603515625,0.0022125244140625,-1.1444091796875e-05,4.1961669921875e-05,0.003955841064453125,0.006946563720703125,-0.00209808349609375,0.002716064453125,0.003520965576171875,-0.00476837158203125,-0.001312255859375,-0.002288818359375,0.00164031982421875,0.0,0.0010986328125,-0.003536224365234375,0.0,-0.0011138916015625,0.00115203857421875,-7.62939453125e-06,0.004222869873046875,0.001953125,0.00467681884765625],\"yaxis\":\"y\",\"type\":\"scatter\"},{\"hovertemplate\":\"variable=total_weighted_ged\\u003cbr\\u003echeckpoint_2=%{x}\\u003cbr\\u003evalue=%{y}\\u003cextra\\u003e\\u003c\\u002fextra\\u003e\",\"legendgroup\":\"total_weighted_ged\",\"line\":{\"color\":\"lightblue\",\"dash\":\"solid\"},\"marker\":{\"symbol\":\"circle\"},\"mode\":\"lines\",\"name\":\"total_weighted_ged\",\"orientation\":\"v\",\"showlegend\":true,\"x\":[2000,3000,4000,5000,6000,7000,8000,9000,10000,11000,12000,13000,14000,15000,16000,17000,18000,19000,20000,21000,22000,23000,24000,25000,26000,27000,28000,29000,30000,31000,32000,33000,34000,35000,36000,37000,38000,39000,40000,41000,42000,43000,44000,45000,46000,47000,48000,49000,50000,51000,52000,53000,54000,55000,56000,57000,58000,59000,60000,61000,62000,63000,64000,65000,66000,67000,68000,69000,70000,71000,72000,73000,74000,75000,76000,77000,78000,79000,80000,81000,82000,83000,84000,85000,86000,87000,88000,89000,90000,91000,92000,93000,94000,95000,96000,97000,98000,99000,100000,101000,102000,103000,104000,105000,106000,107000,108000,109000,110000,111000,112000,113000,114000,115000,116000,117000,118000,119000,120000,121000,122000,123000,124000,125000,126000,127000,128000,129000,130000,131000,132000,133000,134000,135000,136000,137000,138000,139000,140000,141000,142000,143000],\"xaxis\":\"x\",\"y\":[0.07589530944824219,0.0068111419677734375,0.01318359375,0.002197265625,0.0075225830078125,0.0158538818359375,0.01129150390625,0.0094757080078125,0.006496429443359375,-0.0014190673828125,0.000484466552734375,0.0028514862060546875,0.0012035369873046875,0.00904083251953125,-0.0048198699951171875,0.0044231414794921875,0.0026950836181640625,0.0046977996826171875,0.004695892333984375,0.0053043365478515625,0.00952911376953125,0.000949859619140625,0.008571624755859375,0.006435394287109375,0.009206771850585938,0.0051174163818359375,-0.004619598388671875,0.0067291259765625,0.01497650146484375,0.0125885009765625,0.0095977783203125,0.002269744873046875,0.002231597900390625,0.0019474029541015625,0.0034637451171875,0.0,0.00270843505859375,0.006591796875,0.00189208984375,0.0100860595703125,0.0086517333984375,0.015232086181640625,0.009674072265625,0.0030975341796875,-0.00341033935546875,0.0,0.00115203857421875,-0.000553131103515625,0.002231597900390625,0.00782012939453125,0.0039520263671875,0.0030517578125,0.00787353515625,0.001251220703125,0.00188446044921875,0.001708984375,0.0094146728515625,0.0025634765625,0.003398895263671875,0.010951995849609375,0.013492584228515625,0.012233734130859375,0.005832672119140625,0.006465911865234375,0.009304046630859375,0.010196685791015625,0.0007171630859375,0.002979278564453125,0.0097198486328125,0.0020294189453125,0.00873565673828125,0.004116058349609375,0.010211944580078125,0.004093170166015625,0.00051116943359375,0.0037841796875,0.003505706787109375,-0.00533294677734375,0.009128570556640625,0.006195068359375,0.0025653839111328125,0.0066280364990234375,0.0081634521484375,0.006565093994140625,0.0053863525390625,0.007762908935546875,0.002948760986328125,0.006229400634765625,-0.005077362060546875,0.00201416015625,0.0002899169921875,0.00052642822265625,0.00018310546875,0.002605438232421875,0.010833740234375,-0.00208282470703125,-0.0074920654296875,0.002727508544921875,-0.000736236572265625,0.00325775146484375,0.002010345458984375,-0.0018768310546875,0.008209228515625,0.00261688232421875,0.0059051513671875,0.003047943115234375,0.00525665283203125,0.00652313232421875,0.008792877197265625,-0.0035552978515625,0.01071929931640625,0.00629425048828125,-0.000274658203125,0.00341796875,-0.000118255615234375,0.007961273193359375,0.00435638427734375,0.004291534423828125,0.004627227783203125,0.008563995361328125,0.00568389892578125,0.001689910888671875,0.004749298095703125,0.00368499755859375,0.01090240478515625,0.000522613525390625,-0.001117706298828125,0.005764007568359375,-0.00608062744140625,-0.00394439697265625,-0.002288818359375,-0.00212860107421875,0.00189971923828125,0.002712249755859375,-0.004978179931640625,-0.000446319580078125,0.000152587890625,-0.003253936767578125,0.002704620361328125,0.003681182861328125,0.0029296875,0.012844085693359375],\"yaxis\":\"y\",\"type\":\"scatter\"},{\"line\":{\"color\":\"black\"},\"mode\":\"lines\",\"name\":\"perf_metric\",\"x\":[2000,3000,4000,5000,6000,7000,8000,9000,10000,11000,12000,13000,14000,15000,16000,17000,18000,19000,20000,21000,22000,23000,24000,25000,26000,27000,28000,29000,30000,31000,32000,33000,34000,35000,36000,37000,38000,39000,40000,41000,42000,43000,44000,45000,46000,47000,48000,49000,50000,51000,52000,53000,54000,55000,56000,57000,58000,59000,60000,61000,62000,63000,64000,65000,66000,67000,68000,69000,70000,71000,72000,73000,74000,75000,76000,77000,78000,79000,80000,81000,82000,83000,84000,85000,86000,87000,88000,89000,90000,91000,92000,93000,94000,95000,96000,97000,98000,99000,100000,101000,102000,103000,104000,105000,106000,107000,108000,109000,110000,111000,112000,113000,114000,115000,116000,117000,118000,119000,120000,121000,122000,123000,124000,125000,126000,127000,128000,129000,130000,131000,132000,133000,134000,135000,136000,137000,138000,139000,140000,141000,142000,143000],\"y\":[0.14408066868782043,0.30164390802383423,0.5214207172393799,0.6283944845199585,0.42528706789016724,0.6616678237915039,0.5040611624717712,0.5024839639663696,0.5974746346473694,0.6558032035827637,0.4376274645328522,0.5673839449882507,0.5760918855667114,0.673001766204834,0.6555053234100342,0.6380088806152344,0.6205124378204345,0.6030159950256347,0.585519552230835,0.5996431350708008,0.6137667179107666,0.6278903007507324,0.6420138835906982,0.6561374664306641,0.6663044571876526,0.6764714479446411,0.6866384387016297,0.6968054294586181,0.7069724202156067,0.7357974052429199,0.7646223902702332,0.7934473752975464,0.8222723603248596,0.8510973453521729,0.8380409240722656,0.8249845027923584,0.8119280815124512,0.798871660232544,0.7858152389526367,0.79725341796875,0.8086915969848633,0.8201297760009766,0.8315679550170898,0.8430061340332031,0.846302616596222,0.8495990991592407,0.8528955817222595,0.8561920642852783,0.8594885468482971,0.8525122761726379,0.8455360054969787,0.8385597348213196,0.8315834641456604,0.8246071934700012,0.8252315759658814,0.8258559584617615,0.8264803409576416,0.8271047234535217,0.8277291059494019,0.8395205616950989,0.8513120174407959,0.8631034731864929,0.8748949289321899,0.886686384677887,0.88213552236557,0.8775846600532532,0.8730337977409363,0.8684829354286194,0.8639320731163025,0.8613804459571839,0.8588288187980652,0.8562771916389466,0.8537255644798278,0.8511739373207092,0.8486223101615906,0.8460706830024719,0.8435190558433533,0.8409674286842346,0.838415801525116,0.8408834636211395,0.8433511257171631,0.8458187878131866,0.8482864499092102,0.8507541120052338,0.8532217741012573,0.8556894361972809,0.8581570982933044,0.860624760389328,0.8630924224853516,0.8648158371448517,0.8665392518043518,0.868262666463852,0.8699860811233521,0.8717094957828522,0.8734329104423523,0.8751563251018524,0.8768797397613526,0.8786031544208527,0.8803265690803528,0.8766833901405334,0.8730402112007141,0.8693970322608948,0.8657538533210755,0.8621106743812561,0.8584674954414367,0.8548243165016174,0.8511811375617981,0.8475379586219788,0.8438947796821594,0.8408937096595764,0.8378926396369935,0.8348915696144104,0.8318904995918274,0.8288894295692444,0.8258883595466614,0.8228872895240784,0.8198862195014953,0.8168851494789123,0.8138840794563293,0.8138286948204041,0.8137733101844787,0.8137179255485535,0.8136625409126281,0.8136071562767029,0.8135517716407776,0.8134963870048523,0.813441002368927,0.8133856177330017,0.8133302330970764,0.814875864982605,0.8164214968681336,0.8179671287536621,0.8195127606391907,0.8210583925247192,0.8226040244102478,0.8241496562957764,0.8256952881813049,0.8272409200668335,0.8287865519523621,0.8287865519523621,0.8287865519523621,0.8287865519523621],\"yaxis\":\"y2\",\"type\":\"scatter\"}],                        {\"template\":{\"data\":{\"histogram2dcontour\":[{\"type\":\"histogram2dcontour\",\"colorbar\":{\"outlinewidth\":0,\"ticks\":\"\"},\"colorscale\":[[0.0,\"#0d0887\"],[0.1111111111111111,\"#46039f\"],[0.2222222222222222,\"#7201a8\"],[0.3333333333333333,\"#9c179e\"],[0.4444444444444444,\"#bd3786\"],[0.5555555555555556,\"#d8576b\"],[0.6666666666666666,\"#ed7953\"],[0.7777777777777778,\"#fb9f3a\"],[0.8888888888888888,\"#fdca26\"],[1.0,\"#f0f921\"]]}],\"choropleth\":[{\"type\":\"choropleth\",\"colorbar\":{\"outlinewidth\":0,\"ticks\":\"\"}}],\"histogram2d\":[{\"type\":\"histogram2d\",\"colorbar\":{\"outlinewidth\":0,\"ticks\":\"\"},\"colorscale\":[[0.0,\"#0d0887\"],[0.1111111111111111,\"#46039f\"],[0.2222222222222222,\"#7201a8\"],[0.3333333333333333,\"#9c179e\"],[0.4444444444444444,\"#bd3786\"],[0.5555555555555556,\"#d8576b\"],[0.6666666666666666,\"#ed7953\"],[0.7777777777777778,\"#fb9f3a\"],[0.8888888888888888,\"#fdca26\"],[1.0,\"#f0f921\"]]}],\"heatmap\":[{\"type\":\"heatmap\",\"colorbar\":{\"outlinewidth\":0,\"ticks\":\"\"},\"colorscale\":[[0.0,\"#0d0887\"],[0.1111111111111111,\"#46039f\"],[0.2222222222222222,\"#7201a8\"],[0.3333333333333333,\"#9c179e\"],[0.4444444444444444,\"#bd3786\"],[0.5555555555555556,\"#d8576b\"],[0.6666666666666666,\"#ed7953\"],[0.7777777777777778,\"#fb9f3a\"],[0.8888888888888888,\"#fdca26\"],[1.0,\"#f0f921\"]]}],\"heatmapgl\":[{\"type\":\"heatmapgl\",\"colorbar\":{\"outlinewidth\":0,\"ticks\":\"\"},\"colorscale\":[[0.0,\"#0d0887\"],[0.1111111111111111,\"#46039f\"],[0.2222222222222222,\"#7201a8\"],[0.3333333333333333,\"#9c179e\"],[0.4444444444444444,\"#bd3786\"],[0.5555555555555556,\"#d8576b\"],[0.6666666666666666,\"#ed7953\"],[0.7777777777777778,\"#fb9f3a\"],[0.8888888888888888,\"#fdca26\"],[1.0,\"#f0f921\"]]}],\"contourcarpet\":[{\"type\":\"contourcarpet\",\"colorbar\":{\"outlinewidth\":0,\"ticks\":\"\"}}],\"contour\":[{\"type\":\"contour\",\"colorbar\":{\"outlinewidth\":0,\"ticks\":\"\"},\"colorscale\":[[0.0,\"#0d0887\"],[0.1111111111111111,\"#46039f\"],[0.2222222222222222,\"#7201a8\"],[0.3333333333333333,\"#9c179e\"],[0.4444444444444444,\"#bd3786\"],[0.5555555555555556,\"#d8576b\"],[0.6666666666666666,\"#ed7953\"],[0.7777777777777778,\"#fb9f3a\"],[0.8888888888888888,\"#fdca26\"],[1.0,\"#f0f921\"]]}],\"surface\":[{\"type\":\"surface\",\"colorbar\":{\"outlinewidth\":0,\"ticks\":\"\"},\"colorscale\":[[0.0,\"#0d0887\"],[0.1111111111111111,\"#46039f\"],[0.2222222222222222,\"#7201a8\"],[0.3333333333333333,\"#9c179e\"],[0.4444444444444444,\"#bd3786\"],[0.5555555555555556,\"#d8576b\"],[0.6666666666666666,\"#ed7953\"],[0.7777777777777778,\"#fb9f3a\"],[0.8888888888888888,\"#fdca26\"],[1.0,\"#f0f921\"]]}],\"mesh3d\":[{\"type\":\"mesh3d\",\"colorbar\":{\"outlinewidth\":0,\"ticks\":\"\"}}],\"scatter\":[{\"fillpattern\":{\"fillmode\":\"overlay\",\"size\":10,\"solidity\":0.2},\"type\":\"scatter\"}],\"parcoords\":[{\"type\":\"parcoords\",\"line\":{\"colorbar\":{\"outlinewidth\":0,\"ticks\":\"\"}}}],\"scatterpolargl\":[{\"type\":\"scatterpolargl\",\"marker\":{\"colorbar\":{\"outlinewidth\":0,\"ticks\":\"\"}}}],\"bar\":[{\"error_x\":{\"color\":\"#2a3f5f\"},\"error_y\":{\"color\":\"#2a3f5f\"},\"marker\":{\"line\":{\"color\":\"#E5ECF6\",\"width\":0.5},\"pattern\":{\"fillmode\":\"overlay\",\"size\":10,\"solidity\":0.2}},\"type\":\"bar\"}],\"scattergeo\":[{\"type\":\"scattergeo\",\"marker\":{\"colorbar\":{\"outlinewidth\":0,\"ticks\":\"\"}}}],\"scatterpolar\":[{\"type\":\"scatterpolar\",\"marker\":{\"colorbar\":{\"outlinewidth\":0,\"ticks\":\"\"}}}],\"histogram\":[{\"marker\":{\"pattern\":{\"fillmode\":\"overlay\",\"size\":10,\"solidity\":0.2}},\"type\":\"histogram\"}],\"scattergl\":[{\"type\":\"scattergl\",\"marker\":{\"colorbar\":{\"outlinewidth\":0,\"ticks\":\"\"}}}],\"scatter3d\":[{\"type\":\"scatter3d\",\"line\":{\"colorbar\":{\"outlinewidth\":0,\"ticks\":\"\"}},\"marker\":{\"colorbar\":{\"outlinewidth\":0,\"ticks\":\"\"}}}],\"scattermapbox\":[{\"type\":\"scattermapbox\",\"marker\":{\"colorbar\":{\"outlinewidth\":0,\"ticks\":\"\"}}}],\"scatterternary\":[{\"type\":\"scatterternary\",\"marker\":{\"colorbar\":{\"outlinewidth\":0,\"ticks\":\"\"}}}],\"scattercarpet\":[{\"type\":\"scattercarpet\",\"marker\":{\"colorbar\":{\"outlinewidth\":0,\"ticks\":\"\"}}}],\"carpet\":[{\"aaxis\":{\"endlinecolor\":\"#2a3f5f\",\"gridcolor\":\"white\",\"linecolor\":\"white\",\"minorgridcolor\":\"white\",\"startlinecolor\":\"#2a3f5f\"},\"baxis\":{\"endlinecolor\":\"#2a3f5f\",\"gridcolor\":\"white\",\"linecolor\":\"white\",\"minorgridcolor\":\"white\",\"startlinecolor\":\"#2a3f5f\"},\"type\":\"carpet\"}],\"table\":[{\"cells\":{\"fill\":{\"color\":\"#EBF0F8\"},\"line\":{\"color\":\"white\"}},\"header\":{\"fill\":{\"color\":\"#C8D4E3\"},\"line\":{\"color\":\"white\"}},\"type\":\"table\"}],\"barpolar\":[{\"marker\":{\"line\":{\"color\":\"#E5ECF6\",\"width\":0.5},\"pattern\":{\"fillmode\":\"overlay\",\"size\":10,\"solidity\":0.2}},\"type\":\"barpolar\"}],\"pie\":[{\"automargin\":true,\"type\":\"pie\"}]},\"layout\":{\"autotypenumbers\":\"strict\",\"colorway\":[\"#636efa\",\"#EF553B\",\"#00cc96\",\"#ab63fa\",\"#FFA15A\",\"#19d3f3\",\"#FF6692\",\"#B6E880\",\"#FF97FF\",\"#FECB52\"],\"font\":{\"color\":\"#2a3f5f\"},\"hovermode\":\"closest\",\"hoverlabel\":{\"align\":\"left\"},\"paper_bgcolor\":\"white\",\"plot_bgcolor\":\"#E5ECF6\",\"polar\":{\"bgcolor\":\"#E5ECF6\",\"angularaxis\":{\"gridcolor\":\"white\",\"linecolor\":\"white\",\"ticks\":\"\"},\"radialaxis\":{\"gridcolor\":\"white\",\"linecolor\":\"white\",\"ticks\":\"\"}},\"ternary\":{\"bgcolor\":\"#E5ECF6\",\"aaxis\":{\"gridcolor\":\"white\",\"linecolor\":\"white\",\"ticks\":\"\"},\"baxis\":{\"gridcolor\":\"white\",\"linecolor\":\"white\",\"ticks\":\"\"},\"caxis\":{\"gridcolor\":\"white\",\"linecolor\":\"white\",\"ticks\":\"\"}},\"coloraxis\":{\"colorbar\":{\"outlinewidth\":0,\"ticks\":\"\"}},\"colorscale\":{\"sequential\":[[0.0,\"#0d0887\"],[0.1111111111111111,\"#46039f\"],[0.2222222222222222,\"#7201a8\"],[0.3333333333333333,\"#9c179e\"],[0.4444444444444444,\"#bd3786\"],[0.5555555555555556,\"#d8576b\"],[0.6666666666666666,\"#ed7953\"],[0.7777777777777778,\"#fb9f3a\"],[0.8888888888888888,\"#fdca26\"],[1.0,\"#f0f921\"]],\"sequentialminus\":[[0.0,\"#0d0887\"],[0.1111111111111111,\"#46039f\"],[0.2222222222222222,\"#7201a8\"],[0.3333333333333333,\"#9c179e\"],[0.4444444444444444,\"#bd3786\"],[0.5555555555555556,\"#d8576b\"],[0.6666666666666666,\"#ed7953\"],[0.7777777777777778,\"#fb9f3a\"],[0.8888888888888888,\"#fdca26\"],[1.0,\"#f0f921\"]],\"diverging\":[[0,\"#8e0152\"],[0.1,\"#c51b7d\"],[0.2,\"#de77ae\"],[0.3,\"#f1b6da\"],[0.4,\"#fde0ef\"],[0.5,\"#f7f7f7\"],[0.6,\"#e6f5d0\"],[0.7,\"#b8e186\"],[0.8,\"#7fbc41\"],[0.9,\"#4d9221\"],[1,\"#276419\"]]},\"xaxis\":{\"gridcolor\":\"white\",\"linecolor\":\"white\",\"ticks\":\"\",\"title\":{\"standoff\":15},\"zerolinecolor\":\"white\",\"automargin\":true,\"zerolinewidth\":2},\"yaxis\":{\"gridcolor\":\"white\",\"linecolor\":\"white\",\"ticks\":\"\",\"title\":{\"standoff\":15},\"zerolinecolor\":\"white\",\"automargin\":true,\"zerolinewidth\":2},\"scene\":{\"xaxis\":{\"backgroundcolor\":\"#E5ECF6\",\"gridcolor\":\"white\",\"linecolor\":\"white\",\"showbackground\":true,\"ticks\":\"\",\"zerolinecolor\":\"white\",\"gridwidth\":2},\"yaxis\":{\"backgroundcolor\":\"#E5ECF6\",\"gridcolor\":\"white\",\"linecolor\":\"white\",\"showbackground\":true,\"ticks\":\"\",\"zerolinecolor\":\"white\",\"gridwidth\":2},\"zaxis\":{\"backgroundcolor\":\"#E5ECF6\",\"gridcolor\":\"white\",\"linecolor\":\"white\",\"showbackground\":true,\"ticks\":\"\",\"zerolinecolor\":\"white\",\"gridwidth\":2}},\"shapedefaults\":{\"line\":{\"color\":\"#2a3f5f\"}},\"annotationdefaults\":{\"arrowcolor\":\"#2a3f5f\",\"arrowhead\":0,\"arrowwidth\":1},\"geo\":{\"bgcolor\":\"white\",\"landcolor\":\"#E5ECF6\",\"subunitcolor\":\"white\",\"showland\":true,\"showlakes\":true,\"lakecolor\":\"white\"},\"title\":{\"x\":0.05},\"mapbox\":{\"style\":\"light\"}}},\"xaxis\":{\"anchor\":\"y\",\"domain\":[0.0,1.0],\"title\":{\"text\":\"checkpoint_2\"},\"type\":\"log\"},\"yaxis\":{\"anchor\":\"x\",\"domain\":[0.0,1.0],\"title\":{\"text\":\"Weighted GED Metrics\"}},\"legend\":{\"title\":{\"text\":\"variable\"},\"tracegroupgap\":0},\"title\":{\"text\":\"Weighted GED Over Time (top 100 edges)\"},\"yaxis2\":{\"title\":{\"text\":\"Probability Difference\"},\"overlaying\":\"y\",\"side\":\"right\",\"showgrid\":false}},                        {\"responsive\": true}                    ).then(function(){\n",
       "                            \n",
       "var gd = document.getElementById('07d94698-777f-417f-8902-566924a7efb9');\n",
       "var x = new MutationObserver(function (mutations, observer) {{\n",
       "        var display = window.getComputedStyle(gd).display;\n",
       "        if (!display || display === 'none') {{\n",
       "            console.log([gd, 'removed!']);\n",
       "            Plotly.purge(gd);\n",
       "            observer.disconnect();\n",
       "        }}\n",
       "}});\n",
       "\n",
       "// Listen for the removal of the full notebook cells\n",
       "var notebookContainer = gd.closest('#notebook-container');\n",
       "if (notebookContainer) {{\n",
       "    x.observe(notebookContainer, {childList: true});\n",
       "}}\n",
       "\n",
       "// Listen for the clearing of the current output cell\n",
       "var outputEl = gd.closest('.output');\n",
       "if (outputEl) {{\n",
       "    x.observe(outputEl, {childList: true});\n",
       "}}\n",
       "\n",
       "                        })                };                });            </script>        </div>"
      ]
     },
     "metadata": {},
     "output_type": "display_data"
    }
   ],
   "source": [
    "weighted_ged_results = compute_weighted_ged(df)\n",
    "# Add a new column for the performance metric by mapping the checkpoint_2 values using the perf_metric_dict\n",
    "weighted_ged_results['perf_metric'] = weighted_ged_results['checkpoint_2'].map(perf_metric_dict)\n",
    "\n",
    "# Interpolate missing values\n",
    "weighted_ged_results['perf_metric'] = weighted_ged_results['perf_metric'].interpolate(method='linear')\n",
    "\n",
    "# plot weighted additions, deletions, and total weighted GED over time\n",
    "fig = px.line(weighted_ged_results, x='checkpoint_2', y=['weighted_additions', 'weighted_deletions', 'total_weighted_ged'], title='Weighted GED Over Time (top 100 edges)', log_x=True)\n",
    "\n",
    "# Specify colors for each line\n",
    "colors = {'weighted_additions': 'lightgreen', 'weighted_deletions': 'lightsalmon', 'total_weighted_ged': 'lightblue', 'perf_metric': 'black'}\n",
    "\n",
    "# Update each trace with the specified color\n",
    "for i, trace in enumerate(fig.data):\n",
    "    fig.data[i].update(line=dict(color=colors[trace.name]))\n",
    "\n",
    "\n",
    "# Convert to a go.Figure to add secondary Y-axis features and add the performance metric line\n",
    "fig.update_layout(\n",
    "    yaxis2=dict(title=\"Probability Difference\", overlaying=\"y\", side=\"right\", showgrid=False)\n",
    ")\n",
    "fig.add_trace(\n",
    "    go.Scatter(x=weighted_ged_results['checkpoint_2'], y=weighted_ged_results['perf_metric'], name='perf_metric', mode='lines', yaxis='y2', line=dict(color=colors['perf_metric']))\n",
    ")\n",
    "\n",
    "# Optional: Update the layout if you need to adjust titles or other aesthetics\n",
    "fig.update_layout(\n",
    "    yaxis_title=\"Weighted GED Metrics\"\n",
    ")\n",
    "\n",
    "fig.show()"
   ]
  },
  {
   "cell_type": "code",
   "execution_count": 11,
   "metadata": {},
   "outputs": [
    {
     "data": {
      "application/vnd.plotly.v1+json": {
       "config": {
        "plotlyServerURL": "https://plot.ly"
       },
       "data": [
        {
         "hovertemplate": "variable=summed_increases<br>checkpoint_2=%{x}<br>value=%{y}<extra></extra>",
         "legendgroup": "summed_increases",
         "line": {
          "color": "lightgreen",
          "dash": "solid"
         },
         "marker": {
          "symbol": "circle"
         },
         "mode": "lines",
         "name": "summed_increases",
         "orientation": "v",
         "showlegend": true,
         "type": "scatter",
         "x": [
          2000,
          3000,
          4000,
          5000,
          6000,
          7000,
          8000,
          9000,
          10000,
          11000,
          12000,
          13000,
          14000,
          15000,
          16000,
          17000,
          18000,
          19000,
          20000,
          21000,
          22000,
          23000,
          24000,
          25000,
          26000,
          27000,
          28000,
          29000,
          30000,
          31000,
          32000,
          33000,
          34000,
          35000,
          36000,
          37000,
          38000,
          39000,
          40000,
          41000,
          42000,
          43000,
          44000,
          45000,
          46000,
          47000,
          48000,
          49000,
          50000,
          51000,
          52000,
          53000,
          54000,
          55000,
          56000,
          57000,
          58000,
          59000,
          60000,
          61000,
          62000,
          63000,
          64000,
          65000,
          66000,
          67000,
          68000,
          69000,
          70000,
          71000,
          72000,
          73000,
          74000,
          75000,
          76000,
          77000,
          78000,
          79000,
          80000,
          81000,
          82000,
          83000,
          84000,
          85000,
          86000,
          87000,
          88000,
          89000,
          90000,
          91000,
          92000,
          93000,
          94000,
          95000,
          96000,
          97000,
          98000,
          99000,
          100000,
          101000,
          102000,
          103000,
          104000,
          105000,
          106000,
          107000,
          108000,
          109000,
          110000,
          111000,
          112000,
          113000,
          114000,
          115000,
          116000,
          117000,
          118000,
          119000,
          120000,
          121000,
          122000,
          123000,
          124000,
          125000,
          126000,
          127000,
          128000,
          129000,
          130000,
          131000,
          132000,
          133000,
          134000,
          135000,
          136000,
          137000,
          138000,
          139000,
          140000,
          141000,
          142000,
          143000
         ],
         "xaxis": "x",
         "y": [
          0.10631384927449972,
          0.14484581033173072,
          0.12001566174040335,
          0.11642154684253825,
          0.08792951325207099,
          0.11221990280196792,
          0.09158454875671396,
          0.08924005077076913,
          0.10390017409779517,
          0.07651972270604723,
          0.07162422744724495,
          0.08509903030603994,
          0.07166874670224388,
          0.0984842412379443,
          0.07326124770199449,
          0.08058162719373563,
          0.11690527622849084,
          0.07560692604552782,
          0.07638554563107469,
          0.07216704711636268,
          0.09159817016735872,
          0.08736890617215276,
          0.08994833401693403,
          0.06674160894261424,
          0.0923496962116706,
          0.08442144984658982,
          0.14210190741650397,
          0.09100458676903145,
          0.0788760448350907,
          0.1088817906355066,
          0.08566145245174192,
          0.08496219046151715,
          0.08396873962380713,
          0.07481226168259769,
          0.08006978596471989,
          0.0863005217433646,
          0.08838755407661085,
          0.08554196502154005,
          0.08726646905554075,
          0.08164729963982444,
          0.08432036317598338,
          0.10695806156024032,
          0.07900033644072264,
          0.08489599470195919,
          0.07958169421166805,
          0.0916677758213179,
          0.09092738417788503,
          0.08052631494457985,
          0.08560126163014031,
          0.07864110193939422,
          0.06700073109587565,
          0.10123581466643244,
          0.08372769010868952,
          0.0854249971145548,
          0.0733143946455588,
          0.0790091685417404,
          0.09114073203742074,
          0.07769580282157892,
          0.093143641155836,
          0.12298307345871931,
          0.08443407430920294,
          0.08028114415885587,
          0.0763250455005427,
          0.07233445539672637,
          0.07636255587926111,
          0.0742151181353714,
          0.07250580618729861,
          0.07096096034476132,
          0.07167163305773548,
          0.06843429462733495,
          0.0718535876382981,
          0.0808292831661948,
          0.06585370954429838,
          0.06511826073223032,
          0.07422827582031533,
          0.0648308493397979,
          0.06473378027501128,
          0.07727642044217563,
          0.07461933078329434,
          0.06451312474120789,
          0.07386499400506859,
          0.06989295179912365,
          0.0905389208345779,
          0.07536917363277874,
          0.06710326517812122,
          0.07553328020735908,
          0.06212125975654617,
          0.0702340466184748,
          0.08411434224509046,
          0.0646878261960936,
          0.06041414069406579,
          0.06301365930536082,
          0.07230191666470472,
          0.07275982396478889,
          0.07471395151812246,
          0.06798935773913459,
          0.0711481428993848,
          0.05743939228817562,
          0.06319740753490173,
          0.0727961390487161,
          0.06366419368804377,
          0.05447564467455721,
          0.0635841687046409,
          0.07761788886767249,
          0.06621929562860994,
          0.06310934937538631,
          0.057421154252791824,
          0.061467257179940206,
          0.06114922641266179,
          0.08147538965467084,
          0.08585899490642201,
          0.06974044396816095,
          0.050711283685904676,
          0.05327999311805999,
          0.06076104234906067,
          0.056613761089476036,
          0.057912058598085465,
          0.06721020570250502,
          0.06337196468187709,
          0.06672299277793388,
          0.053408072940042156,
          0.06194549349579694,
          0.09564518465443449,
          0.0702360206193697,
          0.07107394431596811,
          0.06348206969174766,
          0.055044762503151365,
          0.07099385859501856,
          0.06079548831670124,
          0.06896194757569692,
          0.07224486358988987,
          0.06179619116905533,
          0.07059056358692693,
          0.060426924780171844,
          0.06487635762104271,
          0.05367859689353604,
          0.06837852393733557,
          0.06773446696946489,
          0.06486952898783592,
          0.06900870693319841,
          0.07170046341423718,
          0.06942717406116782
         ],
         "yaxis": "y"
        },
        {
         "hovertemplate": "variable=summed_decreases<br>checkpoint_2=%{x}<br>value=%{y}<extra></extra>",
         "legendgroup": "summed_decreases",
         "line": {
          "color": "lightsalmon",
          "dash": "solid"
         },
         "marker": {
          "symbol": "circle"
         },
         "mode": "lines",
         "name": "summed_decreases",
         "orientation": "v",
         "showlegend": true,
         "type": "scatter",
         "x": [
          2000,
          3000,
          4000,
          5000,
          6000,
          7000,
          8000,
          9000,
          10000,
          11000,
          12000,
          13000,
          14000,
          15000,
          16000,
          17000,
          18000,
          19000,
          20000,
          21000,
          22000,
          23000,
          24000,
          25000,
          26000,
          27000,
          28000,
          29000,
          30000,
          31000,
          32000,
          33000,
          34000,
          35000,
          36000,
          37000,
          38000,
          39000,
          40000,
          41000,
          42000,
          43000,
          44000,
          45000,
          46000,
          47000,
          48000,
          49000,
          50000,
          51000,
          52000,
          53000,
          54000,
          55000,
          56000,
          57000,
          58000,
          59000,
          60000,
          61000,
          62000,
          63000,
          64000,
          65000,
          66000,
          67000,
          68000,
          69000,
          70000,
          71000,
          72000,
          73000,
          74000,
          75000,
          76000,
          77000,
          78000,
          79000,
          80000,
          81000,
          82000,
          83000,
          84000,
          85000,
          86000,
          87000,
          88000,
          89000,
          90000,
          91000,
          92000,
          93000,
          94000,
          95000,
          96000,
          97000,
          98000,
          99000,
          100000,
          101000,
          102000,
          103000,
          104000,
          105000,
          106000,
          107000,
          108000,
          109000,
          110000,
          111000,
          112000,
          113000,
          114000,
          115000,
          116000,
          117000,
          118000,
          119000,
          120000,
          121000,
          122000,
          123000,
          124000,
          125000,
          126000,
          127000,
          128000,
          129000,
          130000,
          131000,
          132000,
          133000,
          134000,
          135000,
          136000,
          137000,
          138000,
          139000,
          140000,
          141000,
          142000,
          143000
         ],
         "xaxis": "x",
         "y": [
          0.10469269710171147,
          0.1036869138844736,
          0.11728091333752033,
          0.11132759953958882,
          0.11078442880193506,
          0.08059622590454296,
          0.10820823012323189,
          0.11861409430844105,
          0.06999134197736545,
          0.08473397894405821,
          0.10515285931182916,
          0.07451077786883431,
          0.0651269775439296,
          0.07339910671328198,
          0.09794041432599698,
          0.07767116482239089,
          0.08115284250750676,
          0.1008438612085456,
          0.07650181491694497,
          0.08490696998353542,
          0.0702119884050254,
          0.0942881713186412,
          0.08435479463984663,
          0.09694360600792645,
          0.07049810670101761,
          0.10353188010936187,
          0.10227477101763267,
          0.09012861391831875,
          0.09936984529146953,
          0.07817674862335988,
          0.08476788648190053,
          0.09991761528655929,
          0.08778658425547212,
          0.0906902525085107,
          0.0825559006483994,
          0.0782177820400177,
          0.0810941129496244,
          0.07642094115067358,
          0.07904542202004716,
          0.1174402934926678,
          0.08148198519437763,
          0.07606307653368327,
          0.0932916272357496,
          0.07299689749474023,
          0.09081279614169765,
          0.08249020206789717,
          0.08913478611624873,
          0.08402358431407879,
          0.07850830659053154,
          0.08848233156648108,
          0.08369628320526634,
          0.07943988268193886,
          0.08797762123611058,
          0.07557986204765875,
          0.08282814912410735,
          0.0858511908520244,
          0.0837394214953703,
          0.08523326600311792,
          0.08698294811170114,
          0.09078591238519783,
          0.11087118174545707,
          0.08490740222210279,
          0.06818945499443238,
          0.08984983193265852,
          0.058708581224058025,
          0.0740003835900901,
          0.06863948683868952,
          0.08784373942262574,
          0.07762702438805592,
          0.06529863715373775,
          0.07338726782481411,
          0.07347920793802817,
          0.0681132309679329,
          0.07238796182805993,
          0.07157810180573931,
          0.06481425112585729,
          0.06121650177038447,
          0.07077364586541103,
          0.06788421586250576,
          0.10224762542691718,
          0.08014871115524674,
          0.0625260218830332,
          0.06831057228580617,
          0.08550135870605857,
          0.0699674715542736,
          0.06133095382345281,
          0.08032146885374544,
          0.06733721698360587,
          0.06795699093806126,
          0.06942711073746763,
          0.05901709915343725,
          0.06417647230608564,
          0.06407661889754149,
          0.07423938882681688,
          0.060104535433164866,
          0.07952650868712297,
          0.07117029763290869,
          0.07489182040294588,
          0.05827083877353109,
          0.05903832559788391,
          0.0719878755292267,
          0.0667957812499563,
          0.08037684214243923,
          0.05901745860629762,
          0.05901524793019218,
          0.05532312961398743,
          0.06464932585841501,
          0.05764034932488843,
          0.05893418273173631,
          0.07375223125464572,
          0.09327026885996301,
          0.07035614314485816,
          0.05298587691821187,
          0.05969542939610528,
          0.053301262567227344,
          0.053452798987323094,
          0.06766290716165274,
          0.05892544031889439,
          0.07142187278410231,
          0.06663493407811005,
          0.05818436518437245,
          0.06812933977272512,
          0.05814484371615166,
          0.09742687799130878,
          0.06987526324169396,
          0.06557374317832856,
          0.061041033310755013,
          0.05471153798282245,
          0.08326608328474405,
          0.06394471570136857,
          0.056264710704068126,
          0.07625207372545631,
          0.05931667883341113,
          0.05789572536129459,
          0.05921486861014465,
          0.06089995117867137,
          0.059621177099044534,
          0.06923135049474566,
          0.06479271061706987,
          0.06738899445400075,
          0.06807613304483229,
          0.06265812492495265
         ],
         "yaxis": "y"
        },
        {
         "hovertemplate": "variable=summed_absolute_change<br>checkpoint_2=%{x}<br>value=%{y}<extra></extra>",
         "legendgroup": "summed_absolute_change",
         "line": {
          "color": "lightblue",
          "dash": "solid"
         },
         "marker": {
          "symbol": "circle"
         },
         "mode": "lines",
         "name": "summed_absolute_change",
         "orientation": "v",
         "showlegend": true,
         "type": "scatter",
         "x": [
          2000,
          3000,
          4000,
          5000,
          6000,
          7000,
          8000,
          9000,
          10000,
          11000,
          12000,
          13000,
          14000,
          15000,
          16000,
          17000,
          18000,
          19000,
          20000,
          21000,
          22000,
          23000,
          24000,
          25000,
          26000,
          27000,
          28000,
          29000,
          30000,
          31000,
          32000,
          33000,
          34000,
          35000,
          36000,
          37000,
          38000,
          39000,
          40000,
          41000,
          42000,
          43000,
          44000,
          45000,
          46000,
          47000,
          48000,
          49000,
          50000,
          51000,
          52000,
          53000,
          54000,
          55000,
          56000,
          57000,
          58000,
          59000,
          60000,
          61000,
          62000,
          63000,
          64000,
          65000,
          66000,
          67000,
          68000,
          69000,
          70000,
          71000,
          72000,
          73000,
          74000,
          75000,
          76000,
          77000,
          78000,
          79000,
          80000,
          81000,
          82000,
          83000,
          84000,
          85000,
          86000,
          87000,
          88000,
          89000,
          90000,
          91000,
          92000,
          93000,
          94000,
          95000,
          96000,
          97000,
          98000,
          99000,
          100000,
          101000,
          102000,
          103000,
          104000,
          105000,
          106000,
          107000,
          108000,
          109000,
          110000,
          111000,
          112000,
          113000,
          114000,
          115000,
          116000,
          117000,
          118000,
          119000,
          120000,
          121000,
          122000,
          123000,
          124000,
          125000,
          126000,
          127000,
          128000,
          129000,
          130000,
          131000,
          132000,
          133000,
          134000,
          135000,
          136000,
          137000,
          138000,
          139000,
          140000,
          141000,
          142000,
          143000
         ],
         "xaxis": "x",
         "y": [
          0.2110065463762112,
          0.24853272421620431,
          0.23729657507792368,
          0.22774914638212707,
          0.19871394205400605,
          0.19281612870651088,
          0.19979277887994584,
          0.20785414507921018,
          0.17389151607516062,
          0.16125370165010544,
          0.1767770867590741,
          0.15960980817487425,
          0.13679572424617348,
          0.17188334795122628,
          0.17120166202799147,
          0.15825279201612652,
          0.1980581187359976,
          0.17645078725407343,
          0.15288736054801966,
          0.1570740170998981,
          0.16181015857238412,
          0.18165707749079396,
          0.17430312865678066,
          0.1636852149505407,
          0.16284780291268822,
          0.1879533299559517,
          0.24437667843413663,
          0.1811332006873502,
          0.17824589012656022,
          0.18705853925886648,
          0.17042933893364245,
          0.18487980574807644,
          0.17175532387927925,
          0.1655025141911084,
          0.1626256866131193,
          0.16451830378338228,
          0.16948166702623524,
          0.16196290617221362,
          0.16631189107558791,
          0.19908759313249225,
          0.165802348370361,
          0.1830211380939236,
          0.17229196367647226,
          0.1578928921966994,
          0.1703944903533657,
          0.17415797788921505,
          0.18006217029413374,
          0.16454989925865865,
          0.16410956822067185,
          0.1671234335058753,
          0.150697014301142,
          0.1806756973483713,
          0.1717053113448001,
          0.16100485916221355,
          0.15614254376966616,
          0.1648603593937648,
          0.17488015353279102,
          0.16292906882469685,
          0.18012658926753713,
          0.21376898584391713,
          0.19530525605466,
          0.16518854638095865,
          0.14451450049497508,
          0.1621842873293849,
          0.13507113710331914,
          0.1482155017254615,
          0.14114529302598813,
          0.15880469976738706,
          0.1492986574457914,
          0.1337329317810727,
          0.14524085546311222,
          0.15430849110422296,
          0.1339669405122313,
          0.13750622256029024,
          0.14580637762605464,
          0.1296451004656552,
          0.12595028204539577,
          0.14805006630758666,
          0.14250354664580012,
          0.16676075016812508,
          0.15401370516031532,
          0.13241897368215685,
          0.15884949312038407,
          0.1608705323388373,
          0.13707073673239484,
          0.13686423403081188,
          0.1424427286102916,
          0.13757126360208066,
          0.15207133318315172,
          0.13411493693356125,
          0.11943123984750303,
          0.12719013161144646,
          0.13637853556224622,
          0.14699921279160577,
          0.13481848695128734,
          0.14751586642625755,
          0.14231844053229348,
          0.1323312126911215,
          0.12146824630843282,
          0.1318344646466,
          0.13565206921727047,
          0.12127142592451351,
          0.14396101084708013,
          0.1366353474739701,
          0.12523454355880212,
          0.11843247898937374,
          0.12207048011120683,
          0.11910760650482863,
          0.1200834091443981,
          0.15522762090931658,
          0.17912926376638502,
          0.14009658711301912,
          0.10369716060411655,
          0.11297542251416527,
          0.11406230491628802,
          0.11006656007679913,
          0.1255749657597382,
          0.12613564602139943,
          0.1347938374659794,
          0.13335792685604392,
          0.1115924381244146,
          0.13007483326852207,
          0.15379002837058614,
          0.16766289861067848,
          0.14094920755766208,
          0.12905581287007623,
          0.11608579581390638,
          0.12570539657784102,
          0.14406157160144528,
          0.1329066632770655,
          0.12850957429395798,
          0.13804826489451164,
          0.12990724242033808,
          0.11832265014146642,
          0.12409122623118736,
          0.11457854807220741,
          0.1279997010363801,
          0.13696581746421055,
          0.1296622396049058,
          0.13639770138719914,
          0.13977659645906948,
          0.13208529898612048
         ],
         "yaxis": "y"
        },
        {
         "line": {
          "color": "black"
         },
         "mode": "lines",
         "name": "perf_metric",
         "type": "scatter",
         "x": [
          2000,
          3000,
          4000,
          5000,
          6000,
          7000,
          8000,
          9000,
          10000,
          11000,
          12000,
          13000,
          14000,
          15000,
          16000,
          17000,
          18000,
          19000,
          20000,
          21000,
          22000,
          23000,
          24000,
          25000,
          26000,
          27000,
          28000,
          29000,
          30000,
          31000,
          32000,
          33000,
          34000,
          35000,
          36000,
          37000,
          38000,
          39000,
          40000,
          41000,
          42000,
          43000,
          44000,
          45000,
          46000,
          47000,
          48000,
          49000,
          50000,
          51000,
          52000,
          53000,
          54000,
          55000,
          56000,
          57000,
          58000,
          59000,
          60000,
          61000,
          62000,
          63000,
          64000,
          65000,
          66000,
          67000,
          68000,
          69000,
          70000,
          71000,
          72000,
          73000,
          74000,
          75000,
          76000,
          77000,
          78000,
          79000,
          80000,
          81000,
          82000,
          83000,
          84000,
          85000,
          86000,
          87000,
          88000,
          89000,
          90000,
          91000,
          92000,
          93000,
          94000,
          95000,
          96000,
          97000,
          98000,
          99000,
          100000,
          101000,
          102000,
          103000,
          104000,
          105000,
          106000,
          107000,
          108000,
          109000,
          110000,
          111000,
          112000,
          113000,
          114000,
          115000,
          116000,
          117000,
          118000,
          119000,
          120000,
          121000,
          122000,
          123000,
          124000,
          125000,
          126000,
          127000,
          128000,
          129000,
          130000,
          131000,
          132000,
          133000,
          134000,
          135000,
          136000,
          137000,
          138000,
          139000,
          140000,
          141000,
          142000,
          143000
         ],
         "y": [
          0.14408066868782043,
          0.30164390802383423,
          0.5214207172393799,
          0.6283944845199585,
          0.42528706789016724,
          0.6616678237915039,
          0.5040611624717712,
          0.5024839639663696,
          0.5974746346473694,
          0.6558032035827637,
          0.4376274645328522,
          0.5673839449882507,
          0.5760918855667114,
          0.673001766204834,
          0.6555053234100342,
          0.6380088806152344,
          0.6205124378204345,
          0.6030159950256347,
          0.585519552230835,
          0.5996431350708008,
          0.6137667179107666,
          0.6278903007507324,
          0.6420138835906982,
          0.6561374664306641,
          0.6663044571876526,
          0.6764714479446411,
          0.6866384387016297,
          0.6968054294586181,
          0.7069724202156067,
          0.7357974052429199,
          0.7646223902702332,
          0.7934473752975464,
          0.8222723603248596,
          0.8510973453521729,
          0.8380409240722656,
          0.8249845027923584,
          0.8119280815124512,
          0.798871660232544,
          0.7858152389526367,
          0.79725341796875,
          0.8086915969848633,
          0.8201297760009766,
          0.8315679550170898,
          0.8430061340332031,
          0.846302616596222,
          0.8495990991592407,
          0.8528955817222595,
          0.8561920642852783,
          0.8594885468482971,
          0.8525122761726379,
          0.8455360054969787,
          0.8385597348213196,
          0.8315834641456604,
          0.8246071934700012,
          0.8252315759658814,
          0.8258559584617615,
          0.8264803409576416,
          0.8271047234535217,
          0.8277291059494019,
          0.8395205616950989,
          0.8513120174407959,
          0.8631034731864929,
          0.8748949289321899,
          0.886686384677887,
          0.88213552236557,
          0.8775846600532532,
          0.8730337977409363,
          0.8684829354286194,
          0.8639320731163025,
          0.8613804459571839,
          0.8588288187980652,
          0.8562771916389466,
          0.8537255644798278,
          0.8511739373207092,
          0.8486223101615906,
          0.8460706830024719,
          0.8435190558433533,
          0.8409674286842346,
          0.838415801525116,
          0.8408834636211395,
          0.8433511257171631,
          0.8458187878131866,
          0.8482864499092102,
          0.8507541120052338,
          0.8532217741012573,
          0.8556894361972809,
          0.8581570982933044,
          0.860624760389328,
          0.8630924224853516,
          0.8648158371448517,
          0.8665392518043518,
          0.868262666463852,
          0.8699860811233521,
          0.8717094957828522,
          0.8734329104423523,
          0.8751563251018524,
          0.8768797397613526,
          0.8786031544208527,
          0.8803265690803528,
          0.8766833901405334,
          0.8730402112007141,
          0.8693970322608948,
          0.8657538533210755,
          0.8621106743812561,
          0.8584674954414367,
          0.8548243165016174,
          0.8511811375617981,
          0.8475379586219788,
          0.8438947796821594,
          0.8408937096595764,
          0.8378926396369935,
          0.8348915696144104,
          0.8318904995918274,
          0.8288894295692444,
          0.8258883595466614,
          0.8228872895240784,
          0.8198862195014953,
          0.8168851494789123,
          0.8138840794563293,
          0.8138286948204041,
          0.8137733101844787,
          0.8137179255485535,
          0.8136625409126281,
          0.8136071562767029,
          0.8135517716407776,
          0.8134963870048523,
          0.813441002368927,
          0.8133856177330017,
          0.8133302330970764,
          0.814875864982605,
          0.8164214968681336,
          0.8179671287536621,
          0.8195127606391907,
          0.8210583925247192,
          0.8226040244102478,
          0.8241496562957764,
          0.8256952881813049,
          0.8272409200668335,
          0.8287865519523621,
          0.8287865519523621,
          0.8287865519523621,
          0.8287865519523621
         ],
         "yaxis": "y2"
        }
       ],
       "layout": {
        "legend": {
         "title": {
          "text": "variable"
         },
         "tracegroupgap": 0
        },
        "template": {
         "data": {
          "bar": [
           {
            "error_x": {
             "color": "#2a3f5f"
            },
            "error_y": {
             "color": "#2a3f5f"
            },
            "marker": {
             "line": {
              "color": "#E5ECF6",
              "width": 0.5
             },
             "pattern": {
              "fillmode": "overlay",
              "size": 10,
              "solidity": 0.2
             }
            },
            "type": "bar"
           }
          ],
          "barpolar": [
           {
            "marker": {
             "line": {
              "color": "#E5ECF6",
              "width": 0.5
             },
             "pattern": {
              "fillmode": "overlay",
              "size": 10,
              "solidity": 0.2
             }
            },
            "type": "barpolar"
           }
          ],
          "carpet": [
           {
            "aaxis": {
             "endlinecolor": "#2a3f5f",
             "gridcolor": "white",
             "linecolor": "white",
             "minorgridcolor": "white",
             "startlinecolor": "#2a3f5f"
            },
            "baxis": {
             "endlinecolor": "#2a3f5f",
             "gridcolor": "white",
             "linecolor": "white",
             "minorgridcolor": "white",
             "startlinecolor": "#2a3f5f"
            },
            "type": "carpet"
           }
          ],
          "choropleth": [
           {
            "colorbar": {
             "outlinewidth": 0,
             "ticks": ""
            },
            "type": "choropleth"
           }
          ],
          "contour": [
           {
            "colorbar": {
             "outlinewidth": 0,
             "ticks": ""
            },
            "colorscale": [
             [
              0,
              "#0d0887"
             ],
             [
              0.1111111111111111,
              "#46039f"
             ],
             [
              0.2222222222222222,
              "#7201a8"
             ],
             [
              0.3333333333333333,
              "#9c179e"
             ],
             [
              0.4444444444444444,
              "#bd3786"
             ],
             [
              0.5555555555555556,
              "#d8576b"
             ],
             [
              0.6666666666666666,
              "#ed7953"
             ],
             [
              0.7777777777777778,
              "#fb9f3a"
             ],
             [
              0.8888888888888888,
              "#fdca26"
             ],
             [
              1,
              "#f0f921"
             ]
            ],
            "type": "contour"
           }
          ],
          "contourcarpet": [
           {
            "colorbar": {
             "outlinewidth": 0,
             "ticks": ""
            },
            "type": "contourcarpet"
           }
          ],
          "heatmap": [
           {
            "colorbar": {
             "outlinewidth": 0,
             "ticks": ""
            },
            "colorscale": [
             [
              0,
              "#0d0887"
             ],
             [
              0.1111111111111111,
              "#46039f"
             ],
             [
              0.2222222222222222,
              "#7201a8"
             ],
             [
              0.3333333333333333,
              "#9c179e"
             ],
             [
              0.4444444444444444,
              "#bd3786"
             ],
             [
              0.5555555555555556,
              "#d8576b"
             ],
             [
              0.6666666666666666,
              "#ed7953"
             ],
             [
              0.7777777777777778,
              "#fb9f3a"
             ],
             [
              0.8888888888888888,
              "#fdca26"
             ],
             [
              1,
              "#f0f921"
             ]
            ],
            "type": "heatmap"
           }
          ],
          "heatmapgl": [
           {
            "colorbar": {
             "outlinewidth": 0,
             "ticks": ""
            },
            "colorscale": [
             [
              0,
              "#0d0887"
             ],
             [
              0.1111111111111111,
              "#46039f"
             ],
             [
              0.2222222222222222,
              "#7201a8"
             ],
             [
              0.3333333333333333,
              "#9c179e"
             ],
             [
              0.4444444444444444,
              "#bd3786"
             ],
             [
              0.5555555555555556,
              "#d8576b"
             ],
             [
              0.6666666666666666,
              "#ed7953"
             ],
             [
              0.7777777777777778,
              "#fb9f3a"
             ],
             [
              0.8888888888888888,
              "#fdca26"
             ],
             [
              1,
              "#f0f921"
             ]
            ],
            "type": "heatmapgl"
           }
          ],
          "histogram": [
           {
            "marker": {
             "pattern": {
              "fillmode": "overlay",
              "size": 10,
              "solidity": 0.2
             }
            },
            "type": "histogram"
           }
          ],
          "histogram2d": [
           {
            "colorbar": {
             "outlinewidth": 0,
             "ticks": ""
            },
            "colorscale": [
             [
              0,
              "#0d0887"
             ],
             [
              0.1111111111111111,
              "#46039f"
             ],
             [
              0.2222222222222222,
              "#7201a8"
             ],
             [
              0.3333333333333333,
              "#9c179e"
             ],
             [
              0.4444444444444444,
              "#bd3786"
             ],
             [
              0.5555555555555556,
              "#d8576b"
             ],
             [
              0.6666666666666666,
              "#ed7953"
             ],
             [
              0.7777777777777778,
              "#fb9f3a"
             ],
             [
              0.8888888888888888,
              "#fdca26"
             ],
             [
              1,
              "#f0f921"
             ]
            ],
            "type": "histogram2d"
           }
          ],
          "histogram2dcontour": [
           {
            "colorbar": {
             "outlinewidth": 0,
             "ticks": ""
            },
            "colorscale": [
             [
              0,
              "#0d0887"
             ],
             [
              0.1111111111111111,
              "#46039f"
             ],
             [
              0.2222222222222222,
              "#7201a8"
             ],
             [
              0.3333333333333333,
              "#9c179e"
             ],
             [
              0.4444444444444444,
              "#bd3786"
             ],
             [
              0.5555555555555556,
              "#d8576b"
             ],
             [
              0.6666666666666666,
              "#ed7953"
             ],
             [
              0.7777777777777778,
              "#fb9f3a"
             ],
             [
              0.8888888888888888,
              "#fdca26"
             ],
             [
              1,
              "#f0f921"
             ]
            ],
            "type": "histogram2dcontour"
           }
          ],
          "mesh3d": [
           {
            "colorbar": {
             "outlinewidth": 0,
             "ticks": ""
            },
            "type": "mesh3d"
           }
          ],
          "parcoords": [
           {
            "line": {
             "colorbar": {
              "outlinewidth": 0,
              "ticks": ""
             }
            },
            "type": "parcoords"
           }
          ],
          "pie": [
           {
            "automargin": true,
            "type": "pie"
           }
          ],
          "scatter": [
           {
            "fillpattern": {
             "fillmode": "overlay",
             "size": 10,
             "solidity": 0.2
            },
            "type": "scatter"
           }
          ],
          "scatter3d": [
           {
            "line": {
             "colorbar": {
              "outlinewidth": 0,
              "ticks": ""
             }
            },
            "marker": {
             "colorbar": {
              "outlinewidth": 0,
              "ticks": ""
             }
            },
            "type": "scatter3d"
           }
          ],
          "scattercarpet": [
           {
            "marker": {
             "colorbar": {
              "outlinewidth": 0,
              "ticks": ""
             }
            },
            "type": "scattercarpet"
           }
          ],
          "scattergeo": [
           {
            "marker": {
             "colorbar": {
              "outlinewidth": 0,
              "ticks": ""
             }
            },
            "type": "scattergeo"
           }
          ],
          "scattergl": [
           {
            "marker": {
             "colorbar": {
              "outlinewidth": 0,
              "ticks": ""
             }
            },
            "type": "scattergl"
           }
          ],
          "scattermapbox": [
           {
            "marker": {
             "colorbar": {
              "outlinewidth": 0,
              "ticks": ""
             }
            },
            "type": "scattermapbox"
           }
          ],
          "scatterpolar": [
           {
            "marker": {
             "colorbar": {
              "outlinewidth": 0,
              "ticks": ""
             }
            },
            "type": "scatterpolar"
           }
          ],
          "scatterpolargl": [
           {
            "marker": {
             "colorbar": {
              "outlinewidth": 0,
              "ticks": ""
             }
            },
            "type": "scatterpolargl"
           }
          ],
          "scatterternary": [
           {
            "marker": {
             "colorbar": {
              "outlinewidth": 0,
              "ticks": ""
             }
            },
            "type": "scatterternary"
           }
          ],
          "surface": [
           {
            "colorbar": {
             "outlinewidth": 0,
             "ticks": ""
            },
            "colorscale": [
             [
              0,
              "#0d0887"
             ],
             [
              0.1111111111111111,
              "#46039f"
             ],
             [
              0.2222222222222222,
              "#7201a8"
             ],
             [
              0.3333333333333333,
              "#9c179e"
             ],
             [
              0.4444444444444444,
              "#bd3786"
             ],
             [
              0.5555555555555556,
              "#d8576b"
             ],
             [
              0.6666666666666666,
              "#ed7953"
             ],
             [
              0.7777777777777778,
              "#fb9f3a"
             ],
             [
              0.8888888888888888,
              "#fdca26"
             ],
             [
              1,
              "#f0f921"
             ]
            ],
            "type": "surface"
           }
          ],
          "table": [
           {
            "cells": {
             "fill": {
              "color": "#EBF0F8"
             },
             "line": {
              "color": "white"
             }
            },
            "header": {
             "fill": {
              "color": "#C8D4E3"
             },
             "line": {
              "color": "white"
             }
            },
            "type": "table"
           }
          ]
         },
         "layout": {
          "annotationdefaults": {
           "arrowcolor": "#2a3f5f",
           "arrowhead": 0,
           "arrowwidth": 1
          },
          "autotypenumbers": "strict",
          "coloraxis": {
           "colorbar": {
            "outlinewidth": 0,
            "ticks": ""
           }
          },
          "colorscale": {
           "diverging": [
            [
             0,
             "#8e0152"
            ],
            [
             0.1,
             "#c51b7d"
            ],
            [
             0.2,
             "#de77ae"
            ],
            [
             0.3,
             "#f1b6da"
            ],
            [
             0.4,
             "#fde0ef"
            ],
            [
             0.5,
             "#f7f7f7"
            ],
            [
             0.6,
             "#e6f5d0"
            ],
            [
             0.7,
             "#b8e186"
            ],
            [
             0.8,
             "#7fbc41"
            ],
            [
             0.9,
             "#4d9221"
            ],
            [
             1,
             "#276419"
            ]
           ],
           "sequential": [
            [
             0,
             "#0d0887"
            ],
            [
             0.1111111111111111,
             "#46039f"
            ],
            [
             0.2222222222222222,
             "#7201a8"
            ],
            [
             0.3333333333333333,
             "#9c179e"
            ],
            [
             0.4444444444444444,
             "#bd3786"
            ],
            [
             0.5555555555555556,
             "#d8576b"
            ],
            [
             0.6666666666666666,
             "#ed7953"
            ],
            [
             0.7777777777777778,
             "#fb9f3a"
            ],
            [
             0.8888888888888888,
             "#fdca26"
            ],
            [
             1,
             "#f0f921"
            ]
           ],
           "sequentialminus": [
            [
             0,
             "#0d0887"
            ],
            [
             0.1111111111111111,
             "#46039f"
            ],
            [
             0.2222222222222222,
             "#7201a8"
            ],
            [
             0.3333333333333333,
             "#9c179e"
            ],
            [
             0.4444444444444444,
             "#bd3786"
            ],
            [
             0.5555555555555556,
             "#d8576b"
            ],
            [
             0.6666666666666666,
             "#ed7953"
            ],
            [
             0.7777777777777778,
             "#fb9f3a"
            ],
            [
             0.8888888888888888,
             "#fdca26"
            ],
            [
             1,
             "#f0f921"
            ]
           ]
          },
          "colorway": [
           "#636efa",
           "#EF553B",
           "#00cc96",
           "#ab63fa",
           "#FFA15A",
           "#19d3f3",
           "#FF6692",
           "#B6E880",
           "#FF97FF",
           "#FECB52"
          ],
          "font": {
           "color": "#2a3f5f"
          },
          "geo": {
           "bgcolor": "white",
           "lakecolor": "white",
           "landcolor": "#E5ECF6",
           "showlakes": true,
           "showland": true,
           "subunitcolor": "white"
          },
          "hoverlabel": {
           "align": "left"
          },
          "hovermode": "closest",
          "mapbox": {
           "style": "light"
          },
          "paper_bgcolor": "white",
          "plot_bgcolor": "#E5ECF6",
          "polar": {
           "angularaxis": {
            "gridcolor": "white",
            "linecolor": "white",
            "ticks": ""
           },
           "bgcolor": "#E5ECF6",
           "radialaxis": {
            "gridcolor": "white",
            "linecolor": "white",
            "ticks": ""
           }
          },
          "scene": {
           "xaxis": {
            "backgroundcolor": "#E5ECF6",
            "gridcolor": "white",
            "gridwidth": 2,
            "linecolor": "white",
            "showbackground": true,
            "ticks": "",
            "zerolinecolor": "white"
           },
           "yaxis": {
            "backgroundcolor": "#E5ECF6",
            "gridcolor": "white",
            "gridwidth": 2,
            "linecolor": "white",
            "showbackground": true,
            "ticks": "",
            "zerolinecolor": "white"
           },
           "zaxis": {
            "backgroundcolor": "#E5ECF6",
            "gridcolor": "white",
            "gridwidth": 2,
            "linecolor": "white",
            "showbackground": true,
            "ticks": "",
            "zerolinecolor": "white"
           }
          },
          "shapedefaults": {
           "line": {
            "color": "#2a3f5f"
           }
          },
          "ternary": {
           "aaxis": {
            "gridcolor": "white",
            "linecolor": "white",
            "ticks": ""
           },
           "baxis": {
            "gridcolor": "white",
            "linecolor": "white",
            "ticks": ""
           },
           "bgcolor": "#E5ECF6",
           "caxis": {
            "gridcolor": "white",
            "linecolor": "white",
            "ticks": ""
           }
          },
          "title": {
           "x": 0.05
          },
          "xaxis": {
           "automargin": true,
           "gridcolor": "white",
           "linecolor": "white",
           "ticks": "",
           "title": {
            "standoff": 15
           },
           "zerolinecolor": "white",
           "zerolinewidth": 2
          },
          "yaxis": {
           "automargin": true,
           "gridcolor": "white",
           "linecolor": "white",
           "ticks": "",
           "title": {
            "standoff": 15
           },
           "zerolinecolor": "white",
           "zerolinewidth": 2
          }
         }
        },
        "title": {
         "text": "Summed Changes Over Time (all edges)"
        },
        "xaxis": {
         "anchor": "y",
         "domain": [
          0,
          1
         ],
         "title": {
          "text": "checkpoint_2"
         },
         "type": "log"
        },
        "yaxis": {
         "anchor": "x",
         "domain": [
          0,
          1
         ],
         "title": {
          "text": "Summed Scores"
         }
        },
        "yaxis2": {
         "overlaying": "y",
         "showgrid": false,
         "side": "right",
         "title": {
          "text": "Probability Difference"
         }
        }
       }
      },
      "text/html": [
       "<div>                            <div id=\"630eed4f-f962-492b-b37b-1bd6298873cc\" class=\"plotly-graph-div\" style=\"height:525px; width:100%;\"></div>            <script type=\"text/javascript\">                require([\"plotly\"], function(Plotly) {                    window.PLOTLYENV=window.PLOTLYENV || {};                                    if (document.getElementById(\"630eed4f-f962-492b-b37b-1bd6298873cc\")) {                    Plotly.newPlot(                        \"630eed4f-f962-492b-b37b-1bd6298873cc\",                        [{\"hovertemplate\":\"variable=summed_increases\\u003cbr\\u003echeckpoint_2=%{x}\\u003cbr\\u003evalue=%{y}\\u003cextra\\u003e\\u003c\\u002fextra\\u003e\",\"legendgroup\":\"summed_increases\",\"line\":{\"color\":\"lightgreen\",\"dash\":\"solid\"},\"marker\":{\"symbol\":\"circle\"},\"mode\":\"lines\",\"name\":\"summed_increases\",\"orientation\":\"v\",\"showlegend\":true,\"x\":[2000,3000,4000,5000,6000,7000,8000,9000,10000,11000,12000,13000,14000,15000,16000,17000,18000,19000,20000,21000,22000,23000,24000,25000,26000,27000,28000,29000,30000,31000,32000,33000,34000,35000,36000,37000,38000,39000,40000,41000,42000,43000,44000,45000,46000,47000,48000,49000,50000,51000,52000,53000,54000,55000,56000,57000,58000,59000,60000,61000,62000,63000,64000,65000,66000,67000,68000,69000,70000,71000,72000,73000,74000,75000,76000,77000,78000,79000,80000,81000,82000,83000,84000,85000,86000,87000,88000,89000,90000,91000,92000,93000,94000,95000,96000,97000,98000,99000,100000,101000,102000,103000,104000,105000,106000,107000,108000,109000,110000,111000,112000,113000,114000,115000,116000,117000,118000,119000,120000,121000,122000,123000,124000,125000,126000,127000,128000,129000,130000,131000,132000,133000,134000,135000,136000,137000,138000,139000,140000,141000,142000,143000],\"xaxis\":\"x\",\"y\":[0.10631384927449972,0.14484581033173072,0.12001566174040335,0.11642154684253825,0.08792951325207099,0.11221990280196792,0.09158454875671396,0.08924005077076913,0.10390017409779517,0.07651972270604723,0.07162422744724495,0.08509903030603994,0.07166874670224388,0.0984842412379443,0.07326124770199449,0.08058162719373563,0.11690527622849084,0.07560692604552782,0.07638554563107469,0.07216704711636268,0.09159817016735872,0.08736890617215276,0.08994833401693403,0.06674160894261424,0.0923496962116706,0.08442144984658982,0.14210190741650397,0.09100458676903145,0.0788760448350907,0.1088817906355066,0.08566145245174192,0.08496219046151715,0.08396873962380713,0.07481226168259769,0.08006978596471989,0.0863005217433646,0.08838755407661085,0.08554196502154005,0.08726646905554075,0.08164729963982444,0.08432036317598338,0.10695806156024032,0.07900033644072264,0.08489599470195919,0.07958169421166805,0.0916677758213179,0.09092738417788503,0.08052631494457985,0.08560126163014031,0.07864110193939422,0.06700073109587565,0.10123581466643244,0.08372769010868952,0.0854249971145548,0.0733143946455588,0.0790091685417404,0.09114073203742074,0.07769580282157892,0.093143641155836,0.12298307345871931,0.08443407430920294,0.08028114415885587,0.0763250455005427,0.07233445539672637,0.07636255587926111,0.0742151181353714,0.07250580618729861,0.07096096034476132,0.07167163305773548,0.06843429462733495,0.0718535876382981,0.0808292831661948,0.06585370954429838,0.06511826073223032,0.07422827582031533,0.0648308493397979,0.06473378027501128,0.07727642044217563,0.07461933078329434,0.06451312474120789,0.07386499400506859,0.06989295179912365,0.0905389208345779,0.07536917363277874,0.06710326517812122,0.07553328020735908,0.06212125975654617,0.0702340466184748,0.08411434224509046,0.0646878261960936,0.06041414069406579,0.06301365930536082,0.07230191666470472,0.07275982396478889,0.07471395151812246,0.06798935773913459,0.0711481428993848,0.05743939228817562,0.06319740753490173,0.0727961390487161,0.06366419368804377,0.05447564467455721,0.0635841687046409,0.07761788886767249,0.06621929562860994,0.06310934937538631,0.057421154252791824,0.061467257179940206,0.06114922641266179,0.08147538965467084,0.08585899490642201,0.06974044396816095,0.050711283685904676,0.05327999311805999,0.06076104234906067,0.056613761089476036,0.057912058598085465,0.06721020570250502,0.06337196468187709,0.06672299277793388,0.053408072940042156,0.06194549349579694,0.09564518465443449,0.0702360206193697,0.07107394431596811,0.06348206969174766,0.055044762503151365,0.07099385859501856,0.06079548831670124,0.06896194757569692,0.07224486358988987,0.06179619116905533,0.07059056358692693,0.060426924780171844,0.06487635762104271,0.05367859689353604,0.06837852393733557,0.06773446696946489,0.06486952898783592,0.06900870693319841,0.07170046341423718,0.06942717406116782],\"yaxis\":\"y\",\"type\":\"scatter\"},{\"hovertemplate\":\"variable=summed_decreases\\u003cbr\\u003echeckpoint_2=%{x}\\u003cbr\\u003evalue=%{y}\\u003cextra\\u003e\\u003c\\u002fextra\\u003e\",\"legendgroup\":\"summed_decreases\",\"line\":{\"color\":\"lightsalmon\",\"dash\":\"solid\"},\"marker\":{\"symbol\":\"circle\"},\"mode\":\"lines\",\"name\":\"summed_decreases\",\"orientation\":\"v\",\"showlegend\":true,\"x\":[2000,3000,4000,5000,6000,7000,8000,9000,10000,11000,12000,13000,14000,15000,16000,17000,18000,19000,20000,21000,22000,23000,24000,25000,26000,27000,28000,29000,30000,31000,32000,33000,34000,35000,36000,37000,38000,39000,40000,41000,42000,43000,44000,45000,46000,47000,48000,49000,50000,51000,52000,53000,54000,55000,56000,57000,58000,59000,60000,61000,62000,63000,64000,65000,66000,67000,68000,69000,70000,71000,72000,73000,74000,75000,76000,77000,78000,79000,80000,81000,82000,83000,84000,85000,86000,87000,88000,89000,90000,91000,92000,93000,94000,95000,96000,97000,98000,99000,100000,101000,102000,103000,104000,105000,106000,107000,108000,109000,110000,111000,112000,113000,114000,115000,116000,117000,118000,119000,120000,121000,122000,123000,124000,125000,126000,127000,128000,129000,130000,131000,132000,133000,134000,135000,136000,137000,138000,139000,140000,141000,142000,143000],\"xaxis\":\"x\",\"y\":[0.10469269710171147,0.1036869138844736,0.11728091333752033,0.11132759953958882,0.11078442880193506,0.08059622590454296,0.10820823012323189,0.11861409430844105,0.06999134197736545,0.08473397894405821,0.10515285931182916,0.07451077786883431,0.0651269775439296,0.07339910671328198,0.09794041432599698,0.07767116482239089,0.08115284250750676,0.1008438612085456,0.07650181491694497,0.08490696998353542,0.0702119884050254,0.0942881713186412,0.08435479463984663,0.09694360600792645,0.07049810670101761,0.10353188010936187,0.10227477101763267,0.09012861391831875,0.09936984529146953,0.07817674862335988,0.08476788648190053,0.09991761528655929,0.08778658425547212,0.0906902525085107,0.0825559006483994,0.0782177820400177,0.0810941129496244,0.07642094115067358,0.07904542202004716,0.1174402934926678,0.08148198519437763,0.07606307653368327,0.0932916272357496,0.07299689749474023,0.09081279614169765,0.08249020206789717,0.08913478611624873,0.08402358431407879,0.07850830659053154,0.08848233156648108,0.08369628320526634,0.07943988268193886,0.08797762123611058,0.07557986204765875,0.08282814912410735,0.0858511908520244,0.0837394214953703,0.08523326600311792,0.08698294811170114,0.09078591238519783,0.11087118174545707,0.08490740222210279,0.06818945499443238,0.08984983193265852,0.058708581224058025,0.0740003835900901,0.06863948683868952,0.08784373942262574,0.07762702438805592,0.06529863715373775,0.07338726782481411,0.07347920793802817,0.0681132309679329,0.07238796182805993,0.07157810180573931,0.06481425112585729,0.06121650177038447,0.07077364586541103,0.06788421586250576,0.10224762542691718,0.08014871115524674,0.0625260218830332,0.06831057228580617,0.08550135870605857,0.0699674715542736,0.06133095382345281,0.08032146885374544,0.06733721698360587,0.06795699093806126,0.06942711073746763,0.05901709915343725,0.06417647230608564,0.06407661889754149,0.07423938882681688,0.060104535433164866,0.07952650868712297,0.07117029763290869,0.07489182040294588,0.05827083877353109,0.05903832559788391,0.0719878755292267,0.0667957812499563,0.08037684214243923,0.05901745860629762,0.05901524793019218,0.05532312961398743,0.06464932585841501,0.05764034932488843,0.05893418273173631,0.07375223125464572,0.09327026885996301,0.07035614314485816,0.05298587691821187,0.05969542939610528,0.053301262567227344,0.053452798987323094,0.06766290716165274,0.05892544031889439,0.07142187278410231,0.06663493407811005,0.05818436518437245,0.06812933977272512,0.05814484371615166,0.09742687799130878,0.06987526324169396,0.06557374317832856,0.061041033310755013,0.05471153798282245,0.08326608328474405,0.06394471570136857,0.056264710704068126,0.07625207372545631,0.05931667883341113,0.05789572536129459,0.05921486861014465,0.06089995117867137,0.059621177099044534,0.06923135049474566,0.06479271061706987,0.06738899445400075,0.06807613304483229,0.06265812492495265],\"yaxis\":\"y\",\"type\":\"scatter\"},{\"hovertemplate\":\"variable=summed_absolute_change\\u003cbr\\u003echeckpoint_2=%{x}\\u003cbr\\u003evalue=%{y}\\u003cextra\\u003e\\u003c\\u002fextra\\u003e\",\"legendgroup\":\"summed_absolute_change\",\"line\":{\"color\":\"lightblue\",\"dash\":\"solid\"},\"marker\":{\"symbol\":\"circle\"},\"mode\":\"lines\",\"name\":\"summed_absolute_change\",\"orientation\":\"v\",\"showlegend\":true,\"x\":[2000,3000,4000,5000,6000,7000,8000,9000,10000,11000,12000,13000,14000,15000,16000,17000,18000,19000,20000,21000,22000,23000,24000,25000,26000,27000,28000,29000,30000,31000,32000,33000,34000,35000,36000,37000,38000,39000,40000,41000,42000,43000,44000,45000,46000,47000,48000,49000,50000,51000,52000,53000,54000,55000,56000,57000,58000,59000,60000,61000,62000,63000,64000,65000,66000,67000,68000,69000,70000,71000,72000,73000,74000,75000,76000,77000,78000,79000,80000,81000,82000,83000,84000,85000,86000,87000,88000,89000,90000,91000,92000,93000,94000,95000,96000,97000,98000,99000,100000,101000,102000,103000,104000,105000,106000,107000,108000,109000,110000,111000,112000,113000,114000,115000,116000,117000,118000,119000,120000,121000,122000,123000,124000,125000,126000,127000,128000,129000,130000,131000,132000,133000,134000,135000,136000,137000,138000,139000,140000,141000,142000,143000],\"xaxis\":\"x\",\"y\":[0.2110065463762112,0.24853272421620431,0.23729657507792368,0.22774914638212707,0.19871394205400605,0.19281612870651088,0.19979277887994584,0.20785414507921018,0.17389151607516062,0.16125370165010544,0.1767770867590741,0.15960980817487425,0.13679572424617348,0.17188334795122628,0.17120166202799147,0.15825279201612652,0.1980581187359976,0.17645078725407343,0.15288736054801966,0.1570740170998981,0.16181015857238412,0.18165707749079396,0.17430312865678066,0.1636852149505407,0.16284780291268822,0.1879533299559517,0.24437667843413663,0.1811332006873502,0.17824589012656022,0.18705853925886648,0.17042933893364245,0.18487980574807644,0.17175532387927925,0.1655025141911084,0.1626256866131193,0.16451830378338228,0.16948166702623524,0.16196290617221362,0.16631189107558791,0.19908759313249225,0.165802348370361,0.1830211380939236,0.17229196367647226,0.1578928921966994,0.1703944903533657,0.17415797788921505,0.18006217029413374,0.16454989925865865,0.16410956822067185,0.1671234335058753,0.150697014301142,0.1806756973483713,0.1717053113448001,0.16100485916221355,0.15614254376966616,0.1648603593937648,0.17488015353279102,0.16292906882469685,0.18012658926753713,0.21376898584391713,0.19530525605466,0.16518854638095865,0.14451450049497508,0.1621842873293849,0.13507113710331914,0.1482155017254615,0.14114529302598813,0.15880469976738706,0.1492986574457914,0.1337329317810727,0.14524085546311222,0.15430849110422296,0.1339669405122313,0.13750622256029024,0.14580637762605464,0.1296451004656552,0.12595028204539577,0.14805006630758666,0.14250354664580012,0.16676075016812508,0.15401370516031532,0.13241897368215685,0.15884949312038407,0.1608705323388373,0.13707073673239484,0.13686423403081188,0.1424427286102916,0.13757126360208066,0.15207133318315172,0.13411493693356125,0.11943123984750303,0.12719013161144646,0.13637853556224622,0.14699921279160577,0.13481848695128734,0.14751586642625755,0.14231844053229348,0.1323312126911215,0.12146824630843282,0.1318344646466,0.13565206921727047,0.12127142592451351,0.14396101084708013,0.1366353474739701,0.12523454355880212,0.11843247898937374,0.12207048011120683,0.11910760650482863,0.1200834091443981,0.15522762090931658,0.17912926376638502,0.14009658711301912,0.10369716060411655,0.11297542251416527,0.11406230491628802,0.11006656007679913,0.1255749657597382,0.12613564602139943,0.1347938374659794,0.13335792685604392,0.1115924381244146,0.13007483326852207,0.15379002837058614,0.16766289861067848,0.14094920755766208,0.12905581287007623,0.11608579581390638,0.12570539657784102,0.14406157160144528,0.1329066632770655,0.12850957429395798,0.13804826489451164,0.12990724242033808,0.11832265014146642,0.12409122623118736,0.11457854807220741,0.1279997010363801,0.13696581746421055,0.1296622396049058,0.13639770138719914,0.13977659645906948,0.13208529898612048],\"yaxis\":\"y\",\"type\":\"scatter\"},{\"line\":{\"color\":\"black\"},\"mode\":\"lines\",\"name\":\"perf_metric\",\"x\":[2000,3000,4000,5000,6000,7000,8000,9000,10000,11000,12000,13000,14000,15000,16000,17000,18000,19000,20000,21000,22000,23000,24000,25000,26000,27000,28000,29000,30000,31000,32000,33000,34000,35000,36000,37000,38000,39000,40000,41000,42000,43000,44000,45000,46000,47000,48000,49000,50000,51000,52000,53000,54000,55000,56000,57000,58000,59000,60000,61000,62000,63000,64000,65000,66000,67000,68000,69000,70000,71000,72000,73000,74000,75000,76000,77000,78000,79000,80000,81000,82000,83000,84000,85000,86000,87000,88000,89000,90000,91000,92000,93000,94000,95000,96000,97000,98000,99000,100000,101000,102000,103000,104000,105000,106000,107000,108000,109000,110000,111000,112000,113000,114000,115000,116000,117000,118000,119000,120000,121000,122000,123000,124000,125000,126000,127000,128000,129000,130000,131000,132000,133000,134000,135000,136000,137000,138000,139000,140000,141000,142000,143000],\"y\":[0.14408066868782043,0.30164390802383423,0.5214207172393799,0.6283944845199585,0.42528706789016724,0.6616678237915039,0.5040611624717712,0.5024839639663696,0.5974746346473694,0.6558032035827637,0.4376274645328522,0.5673839449882507,0.5760918855667114,0.673001766204834,0.6555053234100342,0.6380088806152344,0.6205124378204345,0.6030159950256347,0.585519552230835,0.5996431350708008,0.6137667179107666,0.6278903007507324,0.6420138835906982,0.6561374664306641,0.6663044571876526,0.6764714479446411,0.6866384387016297,0.6968054294586181,0.7069724202156067,0.7357974052429199,0.7646223902702332,0.7934473752975464,0.8222723603248596,0.8510973453521729,0.8380409240722656,0.8249845027923584,0.8119280815124512,0.798871660232544,0.7858152389526367,0.79725341796875,0.8086915969848633,0.8201297760009766,0.8315679550170898,0.8430061340332031,0.846302616596222,0.8495990991592407,0.8528955817222595,0.8561920642852783,0.8594885468482971,0.8525122761726379,0.8455360054969787,0.8385597348213196,0.8315834641456604,0.8246071934700012,0.8252315759658814,0.8258559584617615,0.8264803409576416,0.8271047234535217,0.8277291059494019,0.8395205616950989,0.8513120174407959,0.8631034731864929,0.8748949289321899,0.886686384677887,0.88213552236557,0.8775846600532532,0.8730337977409363,0.8684829354286194,0.8639320731163025,0.8613804459571839,0.8588288187980652,0.8562771916389466,0.8537255644798278,0.8511739373207092,0.8486223101615906,0.8460706830024719,0.8435190558433533,0.8409674286842346,0.838415801525116,0.8408834636211395,0.8433511257171631,0.8458187878131866,0.8482864499092102,0.8507541120052338,0.8532217741012573,0.8556894361972809,0.8581570982933044,0.860624760389328,0.8630924224853516,0.8648158371448517,0.8665392518043518,0.868262666463852,0.8699860811233521,0.8717094957828522,0.8734329104423523,0.8751563251018524,0.8768797397613526,0.8786031544208527,0.8803265690803528,0.8766833901405334,0.8730402112007141,0.8693970322608948,0.8657538533210755,0.8621106743812561,0.8584674954414367,0.8548243165016174,0.8511811375617981,0.8475379586219788,0.8438947796821594,0.8408937096595764,0.8378926396369935,0.8348915696144104,0.8318904995918274,0.8288894295692444,0.8258883595466614,0.8228872895240784,0.8198862195014953,0.8168851494789123,0.8138840794563293,0.8138286948204041,0.8137733101844787,0.8137179255485535,0.8136625409126281,0.8136071562767029,0.8135517716407776,0.8134963870048523,0.813441002368927,0.8133856177330017,0.8133302330970764,0.814875864982605,0.8164214968681336,0.8179671287536621,0.8195127606391907,0.8210583925247192,0.8226040244102478,0.8241496562957764,0.8256952881813049,0.8272409200668335,0.8287865519523621,0.8287865519523621,0.8287865519523621,0.8287865519523621],\"yaxis\":\"y2\",\"type\":\"scatter\"}],                        {\"template\":{\"data\":{\"histogram2dcontour\":[{\"type\":\"histogram2dcontour\",\"colorbar\":{\"outlinewidth\":0,\"ticks\":\"\"},\"colorscale\":[[0.0,\"#0d0887\"],[0.1111111111111111,\"#46039f\"],[0.2222222222222222,\"#7201a8\"],[0.3333333333333333,\"#9c179e\"],[0.4444444444444444,\"#bd3786\"],[0.5555555555555556,\"#d8576b\"],[0.6666666666666666,\"#ed7953\"],[0.7777777777777778,\"#fb9f3a\"],[0.8888888888888888,\"#fdca26\"],[1.0,\"#f0f921\"]]}],\"choropleth\":[{\"type\":\"choropleth\",\"colorbar\":{\"outlinewidth\":0,\"ticks\":\"\"}}],\"histogram2d\":[{\"type\":\"histogram2d\",\"colorbar\":{\"outlinewidth\":0,\"ticks\":\"\"},\"colorscale\":[[0.0,\"#0d0887\"],[0.1111111111111111,\"#46039f\"],[0.2222222222222222,\"#7201a8\"],[0.3333333333333333,\"#9c179e\"],[0.4444444444444444,\"#bd3786\"],[0.5555555555555556,\"#d8576b\"],[0.6666666666666666,\"#ed7953\"],[0.7777777777777778,\"#fb9f3a\"],[0.8888888888888888,\"#fdca26\"],[1.0,\"#f0f921\"]]}],\"heatmap\":[{\"type\":\"heatmap\",\"colorbar\":{\"outlinewidth\":0,\"ticks\":\"\"},\"colorscale\":[[0.0,\"#0d0887\"],[0.1111111111111111,\"#46039f\"],[0.2222222222222222,\"#7201a8\"],[0.3333333333333333,\"#9c179e\"],[0.4444444444444444,\"#bd3786\"],[0.5555555555555556,\"#d8576b\"],[0.6666666666666666,\"#ed7953\"],[0.7777777777777778,\"#fb9f3a\"],[0.8888888888888888,\"#fdca26\"],[1.0,\"#f0f921\"]]}],\"heatmapgl\":[{\"type\":\"heatmapgl\",\"colorbar\":{\"outlinewidth\":0,\"ticks\":\"\"},\"colorscale\":[[0.0,\"#0d0887\"],[0.1111111111111111,\"#46039f\"],[0.2222222222222222,\"#7201a8\"],[0.3333333333333333,\"#9c179e\"],[0.4444444444444444,\"#bd3786\"],[0.5555555555555556,\"#d8576b\"],[0.6666666666666666,\"#ed7953\"],[0.7777777777777778,\"#fb9f3a\"],[0.8888888888888888,\"#fdca26\"],[1.0,\"#f0f921\"]]}],\"contourcarpet\":[{\"type\":\"contourcarpet\",\"colorbar\":{\"outlinewidth\":0,\"ticks\":\"\"}}],\"contour\":[{\"type\":\"contour\",\"colorbar\":{\"outlinewidth\":0,\"ticks\":\"\"},\"colorscale\":[[0.0,\"#0d0887\"],[0.1111111111111111,\"#46039f\"],[0.2222222222222222,\"#7201a8\"],[0.3333333333333333,\"#9c179e\"],[0.4444444444444444,\"#bd3786\"],[0.5555555555555556,\"#d8576b\"],[0.6666666666666666,\"#ed7953\"],[0.7777777777777778,\"#fb9f3a\"],[0.8888888888888888,\"#fdca26\"],[1.0,\"#f0f921\"]]}],\"surface\":[{\"type\":\"surface\",\"colorbar\":{\"outlinewidth\":0,\"ticks\":\"\"},\"colorscale\":[[0.0,\"#0d0887\"],[0.1111111111111111,\"#46039f\"],[0.2222222222222222,\"#7201a8\"],[0.3333333333333333,\"#9c179e\"],[0.4444444444444444,\"#bd3786\"],[0.5555555555555556,\"#d8576b\"],[0.6666666666666666,\"#ed7953\"],[0.7777777777777778,\"#fb9f3a\"],[0.8888888888888888,\"#fdca26\"],[1.0,\"#f0f921\"]]}],\"mesh3d\":[{\"type\":\"mesh3d\",\"colorbar\":{\"outlinewidth\":0,\"ticks\":\"\"}}],\"scatter\":[{\"fillpattern\":{\"fillmode\":\"overlay\",\"size\":10,\"solidity\":0.2},\"type\":\"scatter\"}],\"parcoords\":[{\"type\":\"parcoords\",\"line\":{\"colorbar\":{\"outlinewidth\":0,\"ticks\":\"\"}}}],\"scatterpolargl\":[{\"type\":\"scatterpolargl\",\"marker\":{\"colorbar\":{\"outlinewidth\":0,\"ticks\":\"\"}}}],\"bar\":[{\"error_x\":{\"color\":\"#2a3f5f\"},\"error_y\":{\"color\":\"#2a3f5f\"},\"marker\":{\"line\":{\"color\":\"#E5ECF6\",\"width\":0.5},\"pattern\":{\"fillmode\":\"overlay\",\"size\":10,\"solidity\":0.2}},\"type\":\"bar\"}],\"scattergeo\":[{\"type\":\"scattergeo\",\"marker\":{\"colorbar\":{\"outlinewidth\":0,\"ticks\":\"\"}}}],\"scatterpolar\":[{\"type\":\"scatterpolar\",\"marker\":{\"colorbar\":{\"outlinewidth\":0,\"ticks\":\"\"}}}],\"histogram\":[{\"marker\":{\"pattern\":{\"fillmode\":\"overlay\",\"size\":10,\"solidity\":0.2}},\"type\":\"histogram\"}],\"scattergl\":[{\"type\":\"scattergl\",\"marker\":{\"colorbar\":{\"outlinewidth\":0,\"ticks\":\"\"}}}],\"scatter3d\":[{\"type\":\"scatter3d\",\"line\":{\"colorbar\":{\"outlinewidth\":0,\"ticks\":\"\"}},\"marker\":{\"colorbar\":{\"outlinewidth\":0,\"ticks\":\"\"}}}],\"scattermapbox\":[{\"type\":\"scattermapbox\",\"marker\":{\"colorbar\":{\"outlinewidth\":0,\"ticks\":\"\"}}}],\"scatterternary\":[{\"type\":\"scatterternary\",\"marker\":{\"colorbar\":{\"outlinewidth\":0,\"ticks\":\"\"}}}],\"scattercarpet\":[{\"type\":\"scattercarpet\",\"marker\":{\"colorbar\":{\"outlinewidth\":0,\"ticks\":\"\"}}}],\"carpet\":[{\"aaxis\":{\"endlinecolor\":\"#2a3f5f\",\"gridcolor\":\"white\",\"linecolor\":\"white\",\"minorgridcolor\":\"white\",\"startlinecolor\":\"#2a3f5f\"},\"baxis\":{\"endlinecolor\":\"#2a3f5f\",\"gridcolor\":\"white\",\"linecolor\":\"white\",\"minorgridcolor\":\"white\",\"startlinecolor\":\"#2a3f5f\"},\"type\":\"carpet\"}],\"table\":[{\"cells\":{\"fill\":{\"color\":\"#EBF0F8\"},\"line\":{\"color\":\"white\"}},\"header\":{\"fill\":{\"color\":\"#C8D4E3\"},\"line\":{\"color\":\"white\"}},\"type\":\"table\"}],\"barpolar\":[{\"marker\":{\"line\":{\"color\":\"#E5ECF6\",\"width\":0.5},\"pattern\":{\"fillmode\":\"overlay\",\"size\":10,\"solidity\":0.2}},\"type\":\"barpolar\"}],\"pie\":[{\"automargin\":true,\"type\":\"pie\"}]},\"layout\":{\"autotypenumbers\":\"strict\",\"colorway\":[\"#636efa\",\"#EF553B\",\"#00cc96\",\"#ab63fa\",\"#FFA15A\",\"#19d3f3\",\"#FF6692\",\"#B6E880\",\"#FF97FF\",\"#FECB52\"],\"font\":{\"color\":\"#2a3f5f\"},\"hovermode\":\"closest\",\"hoverlabel\":{\"align\":\"left\"},\"paper_bgcolor\":\"white\",\"plot_bgcolor\":\"#E5ECF6\",\"polar\":{\"bgcolor\":\"#E5ECF6\",\"angularaxis\":{\"gridcolor\":\"white\",\"linecolor\":\"white\",\"ticks\":\"\"},\"radialaxis\":{\"gridcolor\":\"white\",\"linecolor\":\"white\",\"ticks\":\"\"}},\"ternary\":{\"bgcolor\":\"#E5ECF6\",\"aaxis\":{\"gridcolor\":\"white\",\"linecolor\":\"white\",\"ticks\":\"\"},\"baxis\":{\"gridcolor\":\"white\",\"linecolor\":\"white\",\"ticks\":\"\"},\"caxis\":{\"gridcolor\":\"white\",\"linecolor\":\"white\",\"ticks\":\"\"}},\"coloraxis\":{\"colorbar\":{\"outlinewidth\":0,\"ticks\":\"\"}},\"colorscale\":{\"sequential\":[[0.0,\"#0d0887\"],[0.1111111111111111,\"#46039f\"],[0.2222222222222222,\"#7201a8\"],[0.3333333333333333,\"#9c179e\"],[0.4444444444444444,\"#bd3786\"],[0.5555555555555556,\"#d8576b\"],[0.6666666666666666,\"#ed7953\"],[0.7777777777777778,\"#fb9f3a\"],[0.8888888888888888,\"#fdca26\"],[1.0,\"#f0f921\"]],\"sequentialminus\":[[0.0,\"#0d0887\"],[0.1111111111111111,\"#46039f\"],[0.2222222222222222,\"#7201a8\"],[0.3333333333333333,\"#9c179e\"],[0.4444444444444444,\"#bd3786\"],[0.5555555555555556,\"#d8576b\"],[0.6666666666666666,\"#ed7953\"],[0.7777777777777778,\"#fb9f3a\"],[0.8888888888888888,\"#fdca26\"],[1.0,\"#f0f921\"]],\"diverging\":[[0,\"#8e0152\"],[0.1,\"#c51b7d\"],[0.2,\"#de77ae\"],[0.3,\"#f1b6da\"],[0.4,\"#fde0ef\"],[0.5,\"#f7f7f7\"],[0.6,\"#e6f5d0\"],[0.7,\"#b8e186\"],[0.8,\"#7fbc41\"],[0.9,\"#4d9221\"],[1,\"#276419\"]]},\"xaxis\":{\"gridcolor\":\"white\",\"linecolor\":\"white\",\"ticks\":\"\",\"title\":{\"standoff\":15},\"zerolinecolor\":\"white\",\"automargin\":true,\"zerolinewidth\":2},\"yaxis\":{\"gridcolor\":\"white\",\"linecolor\":\"white\",\"ticks\":\"\",\"title\":{\"standoff\":15},\"zerolinecolor\":\"white\",\"automargin\":true,\"zerolinewidth\":2},\"scene\":{\"xaxis\":{\"backgroundcolor\":\"#E5ECF6\",\"gridcolor\":\"white\",\"linecolor\":\"white\",\"showbackground\":true,\"ticks\":\"\",\"zerolinecolor\":\"white\",\"gridwidth\":2},\"yaxis\":{\"backgroundcolor\":\"#E5ECF6\",\"gridcolor\":\"white\",\"linecolor\":\"white\",\"showbackground\":true,\"ticks\":\"\",\"zerolinecolor\":\"white\",\"gridwidth\":2},\"zaxis\":{\"backgroundcolor\":\"#E5ECF6\",\"gridcolor\":\"white\",\"linecolor\":\"white\",\"showbackground\":true,\"ticks\":\"\",\"zerolinecolor\":\"white\",\"gridwidth\":2}},\"shapedefaults\":{\"line\":{\"color\":\"#2a3f5f\"}},\"annotationdefaults\":{\"arrowcolor\":\"#2a3f5f\",\"arrowhead\":0,\"arrowwidth\":1},\"geo\":{\"bgcolor\":\"white\",\"landcolor\":\"#E5ECF6\",\"subunitcolor\":\"white\",\"showland\":true,\"showlakes\":true,\"lakecolor\":\"white\"},\"title\":{\"x\":0.05},\"mapbox\":{\"style\":\"light\"}}},\"xaxis\":{\"anchor\":\"y\",\"domain\":[0.0,1.0],\"title\":{\"text\":\"checkpoint_2\"},\"type\":\"log\"},\"yaxis\":{\"anchor\":\"x\",\"domain\":[0.0,1.0],\"title\":{\"text\":\"Summed Scores\"}},\"legend\":{\"title\":{\"text\":\"variable\"},\"tracegroupgap\":0},\"title\":{\"text\":\"Summed Changes Over Time (all edges)\"},\"yaxis2\":{\"title\":{\"text\":\"Probability Difference\"},\"overlaying\":\"y\",\"side\":\"right\",\"showgrid\":false}},                        {\"responsive\": true}                    ).then(function(){\n",
       "                            \n",
       "var gd = document.getElementById('630eed4f-f962-492b-b37b-1bd6298873cc');\n",
       "var x = new MutationObserver(function (mutations, observer) {{\n",
       "        var display = window.getComputedStyle(gd).display;\n",
       "        if (!display || display === 'none') {{\n",
       "            console.log([gd, 'removed!']);\n",
       "            Plotly.purge(gd);\n",
       "            observer.disconnect();\n",
       "        }}\n",
       "}});\n",
       "\n",
       "// Listen for the removal of the full notebook cells\n",
       "var notebookContainer = gd.closest('#notebook-container');\n",
       "if (notebookContainer) {{\n",
       "    x.observe(notebookContainer, {childList: true});\n",
       "}}\n",
       "\n",
       "// Listen for the clearing of the current output cell\n",
       "var outputEl = gd.closest('.output');\n",
       "if (outputEl) {{\n",
       "    x.observe(outputEl, {childList: true});\n",
       "}}\n",
       "\n",
       "                        })                };                });            </script>        </div>"
      ]
     },
     "metadata": {},
     "output_type": "display_data"
    }
   ],
   "source": [
    "gtd_results = compute_gtd(df)\n",
    "\n",
    "# Add a new column for the performance metric by mapping the checkpoint_2 values using the perf_metric_dict\n",
    "gtd_results['perf_metric'] = gtd_results['checkpoint_2'].map(perf_metric_dict)\n",
    "\n",
    "# Interpolate missing values\n",
    "gtd_results['perf_metric'] = gtd_results['perf_metric'].interpolate(method='linear')\n",
    "\n",
    "# plot weighted additions, deletions, and total weighted GTD over time\n",
    "fig = px.line(gtd_results, x='checkpoint_2', y=['summed_increases', 'summed_decreases', 'summed_absolute_change'], title='Summed Changes Over Time (all edges)', log_x=True)\n",
    "\n",
    "# Specify colors for each line\n",
    "colors = {'summed_increases': 'lightgreen', 'summed_decreases': 'lightsalmon', 'summed_absolute_change': 'lightblue', 'perf_metric': 'black'}\n",
    "\n",
    "# Update each trace with the specified color\n",
    "for i, trace in enumerate(fig.data):\n",
    "    fig.data[i].update(line=dict(color=colors[trace.name]))\n",
    "\n",
    "\n",
    "# Convert to a go.Figure to add secondary Y-axis features and add the performance metric line\n",
    "fig.update_layout(\n",
    "    yaxis2=dict(title=\"Probability Difference\", overlaying=\"y\", side=\"right\", showgrid=False)\n",
    ")\n",
    "fig.add_trace(\n",
    "    go.Scatter(x=gtd_results['checkpoint_2'], y=gtd_results['perf_metric'], name='perf_metric', mode='lines', yaxis='y2', line=dict(color=colors['perf_metric']))\n",
    ")\n",
    "\n",
    "# Optional: Update the layout if you need to adjust titles or other aesthetics\n",
    "fig.update_layout(\n",
    "    yaxis_title=\"Summed Scores\"\n",
    ")\n",
    "\n",
    "fig.show()"
   ]
  },
  {
   "attachments": {},
   "cell_type": "markdown",
   "metadata": {},
   "source": [
    "### Graph Similarity"
   ]
  },
  {
   "cell_type": "code",
   "execution_count": 12,
   "metadata": {},
   "outputs": [
    {
     "data": {
      "application/vnd.plotly.v1+json": {
       "config": {
        "plotlyServerURL": "https://plot.ly"
       },
       "data": [
        {
         "hovertemplate": "variable=jaccard_similarity<br>checkpoint_2=%{x}<br>value=%{y}<extra></extra>",
         "legendgroup": "jaccard_similarity",
         "line": {
          "color": "lightblue",
          "dash": "solid"
         },
         "marker": {
          "symbol": "circle"
         },
         "mode": "lines",
         "name": "jaccard_similarity",
         "orientation": "v",
         "showlegend": true,
         "type": "scatter",
         "x": [
          2000,
          3000,
          4000,
          5000,
          6000,
          7000,
          8000,
          9000,
          10000,
          11000,
          12000,
          13000,
          14000,
          15000,
          16000,
          17000,
          18000,
          19000,
          20000,
          21000,
          22000,
          23000,
          24000,
          25000,
          26000,
          27000,
          28000,
          29000,
          30000,
          31000,
          32000,
          33000,
          34000,
          35000,
          36000,
          37000,
          38000,
          39000,
          40000,
          41000,
          42000,
          43000,
          44000,
          45000,
          46000,
          47000,
          48000,
          49000,
          50000,
          51000,
          52000,
          53000,
          54000,
          55000,
          56000,
          57000,
          58000,
          59000,
          60000,
          61000,
          62000,
          63000,
          64000,
          65000,
          66000,
          67000,
          68000,
          69000,
          70000,
          71000,
          72000,
          73000,
          74000,
          75000,
          76000,
          77000,
          78000,
          79000,
          80000,
          81000,
          82000,
          83000,
          84000,
          85000,
          86000,
          87000,
          88000,
          89000,
          90000,
          91000,
          92000,
          93000,
          94000,
          95000,
          96000,
          97000,
          98000,
          99000,
          100000,
          101000,
          102000,
          103000,
          104000,
          105000,
          106000,
          107000,
          108000,
          109000,
          110000,
          111000,
          112000,
          113000,
          114000,
          115000,
          116000,
          117000,
          118000,
          119000,
          120000,
          121000,
          122000,
          123000,
          124000,
          125000,
          126000,
          127000,
          128000,
          129000,
          130000,
          131000,
          132000,
          133000,
          134000,
          135000,
          136000,
          137000,
          138000,
          139000,
          140000,
          141000,
          142000,
          143000
         ],
         "xaxis": "x",
         "y": [
          0,
          0.42424242424242425,
          0.2857142857142857,
          0.6923076923076923,
          0.7209302325581395,
          0.6046511627906976,
          0.5087719298245614,
          0.6666666666666666,
          0.7407407407407407,
          0.7547169811320755,
          0.7833333333333333,
          0.6385542168674698,
          0.6781609195402298,
          0.6179775280898876,
          0.7764705882352941,
          0.6951219512195121,
          0.6987951807228916,
          0.6707317073170732,
          0.651685393258427,
          0.7096774193548387,
          0.7444444444444445,
          0.7019230769230769,
          0.6923076923076923,
          0.625,
          0.5576923076923077,
          0.3401360544217687,
          0.5632183908045977,
          0.7340425531914894,
          0.6145833333333334,
          0.6125,
          0.64,
          0.7333333333333333,
          0.7078651685393258,
          0.4157303370786517,
          0.7368421052631579,
          0.5087719298245614,
          0.5172413793103449,
          0.8857142857142857,
          0.5384615384615384,
          0.4,
          0.8148148148148148,
          0.5476190476190477,
          0.6428571428571429,
          0.8181818181818182,
          0.7878787878787878,
          1,
          0.7428571428571429,
          0.8292682926829268,
          0.6,
          0.8461538461538461,
          0.71875,
          0.696969696969697,
          0.7931034482758621,
          0.9642857142857143,
          0.8125,
          0.7352941176470589,
          0.75,
          0.6585365853658537,
          0.6956521739130435,
          0.6153846153846154,
          0.4897959183673469,
          0.5918367346938775,
          0.6382978723404256,
          0.7692307692307693,
          0.6851851851851852,
          0.5869565217391305,
          0.6222222222222222,
          0.6041666666666666,
          0.7878787878787878,
          0.8125,
          0.7368421052631579,
          0.6428571428571429,
          0.5283018867924528,
          0.5087719298245614,
          0.775,
          0.8823529411764706,
          0.4838709677419355,
          0.6716417910447762,
          0.5789473684210527,
          0.5769230769230769,
          0.5342465753424658,
          0.6712328767123288,
          0.6268656716417911,
          0.6229508196721312,
          0.7045454545454546,
          0.7894736842105263,
          0.7297297297297297,
          0.5853658536585366,
          0.7333333333333333,
          0.55,
          0.8148148148148148,
          0.7027027027027027,
          0.7857142857142857,
          0.6938775510204082,
          0.717391304347826,
          0.7073170731707317,
          0.7560975609756098,
          0.7674418604651163,
          0.8048780487804879,
          0.7619047619047619,
          0.7272727272727273,
          0.6071428571428571,
          0.543859649122807,
          0.7272727272727273,
          0.7083333333333334,
          0.8372093023255814,
          0.5263157894736842,
          0.4878048780487805,
          0.7142857142857143,
          0.7272727272727273,
          0.4406779661016949,
          0.559322033898305,
          0.7837837837837838,
          0.696969696969697,
          0.575,
          0.75,
          0.49333333333333335,
          0.29333333333333333,
          0.3548387096774194,
          0.7285714285714285,
          0.8307692307692308,
          0.6885245901639344,
          0.6307692307692307,
          0.5959595959595959,
          0.5757575757575758,
          0.7647058823529411,
          0.65625,
          0.7291666666666666,
          0.6486486486486487,
          0.7741935483870968,
          0.6666666666666666,
          0.8260869565217391,
          0.55,
          0.673469387755102,
          0.5348837209302325,
          0.35294117647058826,
          0.42028985507246375,
          0.5918367346938775,
          0.7636363636363637,
          0.803921568627451,
          0.6666666666666666,
          0.6470588235294118
         ],
         "yaxis": "y"
        },
        {
         "line": {
          "color": "black"
         },
         "mode": "lines",
         "name": "perf_metric",
         "type": "scatter",
         "x": [
          2000,
          3000,
          4000,
          5000,
          6000,
          7000,
          8000,
          9000,
          10000,
          11000,
          12000,
          13000,
          14000,
          15000,
          16000,
          17000,
          18000,
          19000,
          20000,
          21000,
          22000,
          23000,
          24000,
          25000,
          26000,
          27000,
          28000,
          29000,
          30000,
          31000,
          32000,
          33000,
          34000,
          35000,
          36000,
          37000,
          38000,
          39000,
          40000,
          41000,
          42000,
          43000,
          44000,
          45000,
          46000,
          47000,
          48000,
          49000,
          50000,
          51000,
          52000,
          53000,
          54000,
          55000,
          56000,
          57000,
          58000,
          59000,
          60000,
          61000,
          62000,
          63000,
          64000,
          65000,
          66000,
          67000,
          68000,
          69000,
          70000,
          71000,
          72000,
          73000,
          74000,
          75000,
          76000,
          77000,
          78000,
          79000,
          80000,
          81000,
          82000,
          83000,
          84000,
          85000,
          86000,
          87000,
          88000,
          89000,
          90000,
          91000,
          92000,
          93000,
          94000,
          95000,
          96000,
          97000,
          98000,
          99000,
          100000,
          101000,
          102000,
          103000,
          104000,
          105000,
          106000,
          107000,
          108000,
          109000,
          110000,
          111000,
          112000,
          113000,
          114000,
          115000,
          116000,
          117000,
          118000,
          119000,
          120000,
          121000,
          122000,
          123000,
          124000,
          125000,
          126000,
          127000,
          128000,
          129000,
          130000,
          131000,
          132000,
          133000,
          134000,
          135000,
          136000,
          137000,
          138000,
          139000,
          140000,
          141000,
          142000,
          143000
         ],
         "y": [
          0.14408066868782043,
          0.30164390802383423,
          0.5214207172393799,
          0.6283944845199585,
          0.42528706789016724,
          0.6616678237915039,
          0.5040611624717712,
          0.5024839639663696,
          0.5974746346473694,
          0.6558032035827637,
          0.4376274645328522,
          0.5673839449882507,
          0.5760918855667114,
          0.673001766204834,
          0.6555053234100342,
          0.6380088806152344,
          0.6205124378204345,
          0.6030159950256347,
          0.585519552230835,
          0.5996431350708008,
          0.6137667179107666,
          0.6278903007507324,
          0.6420138835906982,
          0.6561374664306641,
          0.6663044571876526,
          0.6764714479446411,
          0.6866384387016297,
          0.6968054294586181,
          0.7069724202156067,
          0.7357974052429199,
          0.7646223902702332,
          0.7934473752975464,
          0.8222723603248596,
          0.8510973453521729,
          0.8380409240722656,
          0.8249845027923584,
          0.8119280815124512,
          0.798871660232544,
          0.7858152389526367,
          0.79725341796875,
          0.8086915969848633,
          0.8201297760009766,
          0.8315679550170898,
          0.8430061340332031,
          0.846302616596222,
          0.8495990991592407,
          0.8528955817222595,
          0.8561920642852783,
          0.8594885468482971,
          0.8525122761726379,
          0.8455360054969787,
          0.8385597348213196,
          0.8315834641456604,
          0.8246071934700012,
          0.8252315759658814,
          0.8258559584617615,
          0.8264803409576416,
          0.8271047234535217,
          0.8277291059494019,
          0.8395205616950989,
          0.8513120174407959,
          0.8631034731864929,
          0.8748949289321899,
          0.886686384677887,
          0.88213552236557,
          0.8775846600532532,
          0.8730337977409363,
          0.8684829354286194,
          0.8639320731163025,
          0.8613804459571839,
          0.8588288187980652,
          0.8562771916389466,
          0.8537255644798278,
          0.8511739373207092,
          0.8486223101615906,
          0.8460706830024719,
          0.8435190558433533,
          0.8409674286842346,
          0.838415801525116,
          0.8408834636211395,
          0.8433511257171631,
          0.8458187878131866,
          0.8482864499092102,
          0.8507541120052338,
          0.8532217741012573,
          0.8556894361972809,
          0.8581570982933044,
          0.860624760389328,
          0.8630924224853516,
          0.8648158371448517,
          0.8665392518043518,
          0.868262666463852,
          0.8699860811233521,
          0.8717094957828522,
          0.8734329104423523,
          0.8751563251018524,
          0.8768797397613526,
          0.8786031544208527,
          0.8803265690803528,
          0.8766833901405334,
          0.8730402112007141,
          0.8693970322608948,
          0.8657538533210755,
          0.8621106743812561,
          0.8584674954414367,
          0.8548243165016174,
          0.8511811375617981,
          0.8475379586219788,
          0.8438947796821594,
          0.8408937096595764,
          0.8378926396369935,
          0.8348915696144104,
          0.8318904995918274,
          0.8288894295692444,
          0.8258883595466614,
          0.8228872895240784,
          0.8198862195014953,
          0.8168851494789123,
          0.8138840794563293,
          0.8138286948204041,
          0.8137733101844787,
          0.8137179255485535,
          0.8136625409126281,
          0.8136071562767029,
          0.8135517716407776,
          0.8134963870048523,
          0.813441002368927,
          0.8133856177330017,
          0.8133302330970764,
          0.814875864982605,
          0.8164214968681336,
          0.8179671287536621,
          0.8195127606391907,
          0.8210583925247192,
          0.8226040244102478,
          0.8241496562957764,
          0.8256952881813049,
          0.8272409200668335,
          0.8287865519523621,
          0.8287865519523621,
          0.8287865519523621,
          0.8287865519523621
         ],
         "yaxis": "y2"
        }
       ],
       "layout": {
        "legend": {
         "title": {
          "text": "variable"
         },
         "tracegroupgap": 0
        },
        "template": {
         "data": {
          "bar": [
           {
            "error_x": {
             "color": "#2a3f5f"
            },
            "error_y": {
             "color": "#2a3f5f"
            },
            "marker": {
             "line": {
              "color": "#E5ECF6",
              "width": 0.5
             },
             "pattern": {
              "fillmode": "overlay",
              "size": 10,
              "solidity": 0.2
             }
            },
            "type": "bar"
           }
          ],
          "barpolar": [
           {
            "marker": {
             "line": {
              "color": "#E5ECF6",
              "width": 0.5
             },
             "pattern": {
              "fillmode": "overlay",
              "size": 10,
              "solidity": 0.2
             }
            },
            "type": "barpolar"
           }
          ],
          "carpet": [
           {
            "aaxis": {
             "endlinecolor": "#2a3f5f",
             "gridcolor": "white",
             "linecolor": "white",
             "minorgridcolor": "white",
             "startlinecolor": "#2a3f5f"
            },
            "baxis": {
             "endlinecolor": "#2a3f5f",
             "gridcolor": "white",
             "linecolor": "white",
             "minorgridcolor": "white",
             "startlinecolor": "#2a3f5f"
            },
            "type": "carpet"
           }
          ],
          "choropleth": [
           {
            "colorbar": {
             "outlinewidth": 0,
             "ticks": ""
            },
            "type": "choropleth"
           }
          ],
          "contour": [
           {
            "colorbar": {
             "outlinewidth": 0,
             "ticks": ""
            },
            "colorscale": [
             [
              0,
              "#0d0887"
             ],
             [
              0.1111111111111111,
              "#46039f"
             ],
             [
              0.2222222222222222,
              "#7201a8"
             ],
             [
              0.3333333333333333,
              "#9c179e"
             ],
             [
              0.4444444444444444,
              "#bd3786"
             ],
             [
              0.5555555555555556,
              "#d8576b"
             ],
             [
              0.6666666666666666,
              "#ed7953"
             ],
             [
              0.7777777777777778,
              "#fb9f3a"
             ],
             [
              0.8888888888888888,
              "#fdca26"
             ],
             [
              1,
              "#f0f921"
             ]
            ],
            "type": "contour"
           }
          ],
          "contourcarpet": [
           {
            "colorbar": {
             "outlinewidth": 0,
             "ticks": ""
            },
            "type": "contourcarpet"
           }
          ],
          "heatmap": [
           {
            "colorbar": {
             "outlinewidth": 0,
             "ticks": ""
            },
            "colorscale": [
             [
              0,
              "#0d0887"
             ],
             [
              0.1111111111111111,
              "#46039f"
             ],
             [
              0.2222222222222222,
              "#7201a8"
             ],
             [
              0.3333333333333333,
              "#9c179e"
             ],
             [
              0.4444444444444444,
              "#bd3786"
             ],
             [
              0.5555555555555556,
              "#d8576b"
             ],
             [
              0.6666666666666666,
              "#ed7953"
             ],
             [
              0.7777777777777778,
              "#fb9f3a"
             ],
             [
              0.8888888888888888,
              "#fdca26"
             ],
             [
              1,
              "#f0f921"
             ]
            ],
            "type": "heatmap"
           }
          ],
          "heatmapgl": [
           {
            "colorbar": {
             "outlinewidth": 0,
             "ticks": ""
            },
            "colorscale": [
             [
              0,
              "#0d0887"
             ],
             [
              0.1111111111111111,
              "#46039f"
             ],
             [
              0.2222222222222222,
              "#7201a8"
             ],
             [
              0.3333333333333333,
              "#9c179e"
             ],
             [
              0.4444444444444444,
              "#bd3786"
             ],
             [
              0.5555555555555556,
              "#d8576b"
             ],
             [
              0.6666666666666666,
              "#ed7953"
             ],
             [
              0.7777777777777778,
              "#fb9f3a"
             ],
             [
              0.8888888888888888,
              "#fdca26"
             ],
             [
              1,
              "#f0f921"
             ]
            ],
            "type": "heatmapgl"
           }
          ],
          "histogram": [
           {
            "marker": {
             "pattern": {
              "fillmode": "overlay",
              "size": 10,
              "solidity": 0.2
             }
            },
            "type": "histogram"
           }
          ],
          "histogram2d": [
           {
            "colorbar": {
             "outlinewidth": 0,
             "ticks": ""
            },
            "colorscale": [
             [
              0,
              "#0d0887"
             ],
             [
              0.1111111111111111,
              "#46039f"
             ],
             [
              0.2222222222222222,
              "#7201a8"
             ],
             [
              0.3333333333333333,
              "#9c179e"
             ],
             [
              0.4444444444444444,
              "#bd3786"
             ],
             [
              0.5555555555555556,
              "#d8576b"
             ],
             [
              0.6666666666666666,
              "#ed7953"
             ],
             [
              0.7777777777777778,
              "#fb9f3a"
             ],
             [
              0.8888888888888888,
              "#fdca26"
             ],
             [
              1,
              "#f0f921"
             ]
            ],
            "type": "histogram2d"
           }
          ],
          "histogram2dcontour": [
           {
            "colorbar": {
             "outlinewidth": 0,
             "ticks": ""
            },
            "colorscale": [
             [
              0,
              "#0d0887"
             ],
             [
              0.1111111111111111,
              "#46039f"
             ],
             [
              0.2222222222222222,
              "#7201a8"
             ],
             [
              0.3333333333333333,
              "#9c179e"
             ],
             [
              0.4444444444444444,
              "#bd3786"
             ],
             [
              0.5555555555555556,
              "#d8576b"
             ],
             [
              0.6666666666666666,
              "#ed7953"
             ],
             [
              0.7777777777777778,
              "#fb9f3a"
             ],
             [
              0.8888888888888888,
              "#fdca26"
             ],
             [
              1,
              "#f0f921"
             ]
            ],
            "type": "histogram2dcontour"
           }
          ],
          "mesh3d": [
           {
            "colorbar": {
             "outlinewidth": 0,
             "ticks": ""
            },
            "type": "mesh3d"
           }
          ],
          "parcoords": [
           {
            "line": {
             "colorbar": {
              "outlinewidth": 0,
              "ticks": ""
             }
            },
            "type": "parcoords"
           }
          ],
          "pie": [
           {
            "automargin": true,
            "type": "pie"
           }
          ],
          "scatter": [
           {
            "fillpattern": {
             "fillmode": "overlay",
             "size": 10,
             "solidity": 0.2
            },
            "type": "scatter"
           }
          ],
          "scatter3d": [
           {
            "line": {
             "colorbar": {
              "outlinewidth": 0,
              "ticks": ""
             }
            },
            "marker": {
             "colorbar": {
              "outlinewidth": 0,
              "ticks": ""
             }
            },
            "type": "scatter3d"
           }
          ],
          "scattercarpet": [
           {
            "marker": {
             "colorbar": {
              "outlinewidth": 0,
              "ticks": ""
             }
            },
            "type": "scattercarpet"
           }
          ],
          "scattergeo": [
           {
            "marker": {
             "colorbar": {
              "outlinewidth": 0,
              "ticks": ""
             }
            },
            "type": "scattergeo"
           }
          ],
          "scattergl": [
           {
            "marker": {
             "colorbar": {
              "outlinewidth": 0,
              "ticks": ""
             }
            },
            "type": "scattergl"
           }
          ],
          "scattermapbox": [
           {
            "marker": {
             "colorbar": {
              "outlinewidth": 0,
              "ticks": ""
             }
            },
            "type": "scattermapbox"
           }
          ],
          "scatterpolar": [
           {
            "marker": {
             "colorbar": {
              "outlinewidth": 0,
              "ticks": ""
             }
            },
            "type": "scatterpolar"
           }
          ],
          "scatterpolargl": [
           {
            "marker": {
             "colorbar": {
              "outlinewidth": 0,
              "ticks": ""
             }
            },
            "type": "scatterpolargl"
           }
          ],
          "scatterternary": [
           {
            "marker": {
             "colorbar": {
              "outlinewidth": 0,
              "ticks": ""
             }
            },
            "type": "scatterternary"
           }
          ],
          "surface": [
           {
            "colorbar": {
             "outlinewidth": 0,
             "ticks": ""
            },
            "colorscale": [
             [
              0,
              "#0d0887"
             ],
             [
              0.1111111111111111,
              "#46039f"
             ],
             [
              0.2222222222222222,
              "#7201a8"
             ],
             [
              0.3333333333333333,
              "#9c179e"
             ],
             [
              0.4444444444444444,
              "#bd3786"
             ],
             [
              0.5555555555555556,
              "#d8576b"
             ],
             [
              0.6666666666666666,
              "#ed7953"
             ],
             [
              0.7777777777777778,
              "#fb9f3a"
             ],
             [
              0.8888888888888888,
              "#fdca26"
             ],
             [
              1,
              "#f0f921"
             ]
            ],
            "type": "surface"
           }
          ],
          "table": [
           {
            "cells": {
             "fill": {
              "color": "#EBF0F8"
             },
             "line": {
              "color": "white"
             }
            },
            "header": {
             "fill": {
              "color": "#C8D4E3"
             },
             "line": {
              "color": "white"
             }
            },
            "type": "table"
           }
          ]
         },
         "layout": {
          "annotationdefaults": {
           "arrowcolor": "#2a3f5f",
           "arrowhead": 0,
           "arrowwidth": 1
          },
          "autotypenumbers": "strict",
          "coloraxis": {
           "colorbar": {
            "outlinewidth": 0,
            "ticks": ""
           }
          },
          "colorscale": {
           "diverging": [
            [
             0,
             "#8e0152"
            ],
            [
             0.1,
             "#c51b7d"
            ],
            [
             0.2,
             "#de77ae"
            ],
            [
             0.3,
             "#f1b6da"
            ],
            [
             0.4,
             "#fde0ef"
            ],
            [
             0.5,
             "#f7f7f7"
            ],
            [
             0.6,
             "#e6f5d0"
            ],
            [
             0.7,
             "#b8e186"
            ],
            [
             0.8,
             "#7fbc41"
            ],
            [
             0.9,
             "#4d9221"
            ],
            [
             1,
             "#276419"
            ]
           ],
           "sequential": [
            [
             0,
             "#0d0887"
            ],
            [
             0.1111111111111111,
             "#46039f"
            ],
            [
             0.2222222222222222,
             "#7201a8"
            ],
            [
             0.3333333333333333,
             "#9c179e"
            ],
            [
             0.4444444444444444,
             "#bd3786"
            ],
            [
             0.5555555555555556,
             "#d8576b"
            ],
            [
             0.6666666666666666,
             "#ed7953"
            ],
            [
             0.7777777777777778,
             "#fb9f3a"
            ],
            [
             0.8888888888888888,
             "#fdca26"
            ],
            [
             1,
             "#f0f921"
            ]
           ],
           "sequentialminus": [
            [
             0,
             "#0d0887"
            ],
            [
             0.1111111111111111,
             "#46039f"
            ],
            [
             0.2222222222222222,
             "#7201a8"
            ],
            [
             0.3333333333333333,
             "#9c179e"
            ],
            [
             0.4444444444444444,
             "#bd3786"
            ],
            [
             0.5555555555555556,
             "#d8576b"
            ],
            [
             0.6666666666666666,
             "#ed7953"
            ],
            [
             0.7777777777777778,
             "#fb9f3a"
            ],
            [
             0.8888888888888888,
             "#fdca26"
            ],
            [
             1,
             "#f0f921"
            ]
           ]
          },
          "colorway": [
           "#636efa",
           "#EF553B",
           "#00cc96",
           "#ab63fa",
           "#FFA15A",
           "#19d3f3",
           "#FF6692",
           "#B6E880",
           "#FF97FF",
           "#FECB52"
          ],
          "font": {
           "color": "#2a3f5f"
          },
          "geo": {
           "bgcolor": "white",
           "lakecolor": "white",
           "landcolor": "#E5ECF6",
           "showlakes": true,
           "showland": true,
           "subunitcolor": "white"
          },
          "hoverlabel": {
           "align": "left"
          },
          "hovermode": "closest",
          "mapbox": {
           "style": "light"
          },
          "paper_bgcolor": "white",
          "plot_bgcolor": "#E5ECF6",
          "polar": {
           "angularaxis": {
            "gridcolor": "white",
            "linecolor": "white",
            "ticks": ""
           },
           "bgcolor": "#E5ECF6",
           "radialaxis": {
            "gridcolor": "white",
            "linecolor": "white",
            "ticks": ""
           }
          },
          "scene": {
           "xaxis": {
            "backgroundcolor": "#E5ECF6",
            "gridcolor": "white",
            "gridwidth": 2,
            "linecolor": "white",
            "showbackground": true,
            "ticks": "",
            "zerolinecolor": "white"
           },
           "yaxis": {
            "backgroundcolor": "#E5ECF6",
            "gridcolor": "white",
            "gridwidth": 2,
            "linecolor": "white",
            "showbackground": true,
            "ticks": "",
            "zerolinecolor": "white"
           },
           "zaxis": {
            "backgroundcolor": "#E5ECF6",
            "gridcolor": "white",
            "gridwidth": 2,
            "linecolor": "white",
            "showbackground": true,
            "ticks": "",
            "zerolinecolor": "white"
           }
          },
          "shapedefaults": {
           "line": {
            "color": "#2a3f5f"
           }
          },
          "ternary": {
           "aaxis": {
            "gridcolor": "white",
            "linecolor": "white",
            "ticks": ""
           },
           "baxis": {
            "gridcolor": "white",
            "linecolor": "white",
            "ticks": ""
           },
           "bgcolor": "#E5ECF6",
           "caxis": {
            "gridcolor": "white",
            "linecolor": "white",
            "ticks": ""
           }
          },
          "title": {
           "x": 0.05
          },
          "xaxis": {
           "automargin": true,
           "gridcolor": "white",
           "linecolor": "white",
           "ticks": "",
           "title": {
            "standoff": 15
           },
           "zerolinecolor": "white",
           "zerolinewidth": 2
          },
          "yaxis": {
           "automargin": true,
           "gridcolor": "white",
           "linecolor": "white",
           "ticks": "",
           "title": {
            "standoff": 15
           },
           "zerolinecolor": "white",
           "zerolinewidth": 2
          }
         }
        },
        "title": {
         "text": "Jaccard Similarity Over Time"
        },
        "xaxis": {
         "anchor": "y",
         "domain": [
          0,
          1
         ],
         "title": {
          "text": "checkpoint_2"
         },
         "type": "log"
        },
        "yaxis": {
         "anchor": "x",
         "domain": [
          0,
          1
         ],
         "title": {
          "text": "Jaccard Similarity"
         }
        },
        "yaxis2": {
         "overlaying": "y",
         "showgrid": false,
         "side": "right",
         "title": {
          "text": "Probability Difference"
         }
        }
       }
      },
      "text/html": [
       "<div>                            <div id=\"da7b3918-e69c-463c-98b7-e9de13682443\" class=\"plotly-graph-div\" style=\"height:525px; width:100%;\"></div>            <script type=\"text/javascript\">                require([\"plotly\"], function(Plotly) {                    window.PLOTLYENV=window.PLOTLYENV || {};                                    if (document.getElementById(\"da7b3918-e69c-463c-98b7-e9de13682443\")) {                    Plotly.newPlot(                        \"da7b3918-e69c-463c-98b7-e9de13682443\",                        [{\"hovertemplate\":\"variable=jaccard_similarity\\u003cbr\\u003echeckpoint_2=%{x}\\u003cbr\\u003evalue=%{y}\\u003cextra\\u003e\\u003c\\u002fextra\\u003e\",\"legendgroup\":\"jaccard_similarity\",\"line\":{\"color\":\"lightblue\",\"dash\":\"solid\"},\"marker\":{\"symbol\":\"circle\"},\"mode\":\"lines\",\"name\":\"jaccard_similarity\",\"orientation\":\"v\",\"showlegend\":true,\"x\":[2000,3000,4000,5000,6000,7000,8000,9000,10000,11000,12000,13000,14000,15000,16000,17000,18000,19000,20000,21000,22000,23000,24000,25000,26000,27000,28000,29000,30000,31000,32000,33000,34000,35000,36000,37000,38000,39000,40000,41000,42000,43000,44000,45000,46000,47000,48000,49000,50000,51000,52000,53000,54000,55000,56000,57000,58000,59000,60000,61000,62000,63000,64000,65000,66000,67000,68000,69000,70000,71000,72000,73000,74000,75000,76000,77000,78000,79000,80000,81000,82000,83000,84000,85000,86000,87000,88000,89000,90000,91000,92000,93000,94000,95000,96000,97000,98000,99000,100000,101000,102000,103000,104000,105000,106000,107000,108000,109000,110000,111000,112000,113000,114000,115000,116000,117000,118000,119000,120000,121000,122000,123000,124000,125000,126000,127000,128000,129000,130000,131000,132000,133000,134000,135000,136000,137000,138000,139000,140000,141000,142000,143000],\"xaxis\":\"x\",\"y\":[0.0,0.42424242424242425,0.2857142857142857,0.6923076923076923,0.7209302325581395,0.6046511627906976,0.5087719298245614,0.6666666666666666,0.7407407407407407,0.7547169811320755,0.7833333333333333,0.6385542168674698,0.6781609195402298,0.6179775280898876,0.7764705882352941,0.6951219512195121,0.6987951807228916,0.6707317073170732,0.651685393258427,0.7096774193548387,0.7444444444444445,0.7019230769230769,0.6923076923076923,0.625,0.5576923076923077,0.3401360544217687,0.5632183908045977,0.7340425531914894,0.6145833333333334,0.6125,0.64,0.7333333333333333,0.7078651685393258,0.4157303370786517,0.7368421052631579,0.5087719298245614,0.5172413793103449,0.8857142857142857,0.5384615384615384,0.4,0.8148148148148148,0.5476190476190477,0.6428571428571429,0.8181818181818182,0.7878787878787878,1.0,0.7428571428571429,0.8292682926829268,0.6,0.8461538461538461,0.71875,0.696969696969697,0.7931034482758621,0.9642857142857143,0.8125,0.7352941176470589,0.75,0.6585365853658537,0.6956521739130435,0.6153846153846154,0.4897959183673469,0.5918367346938775,0.6382978723404256,0.7692307692307693,0.6851851851851852,0.5869565217391305,0.6222222222222222,0.6041666666666666,0.7878787878787878,0.8125,0.7368421052631579,0.6428571428571429,0.5283018867924528,0.5087719298245614,0.775,0.8823529411764706,0.4838709677419355,0.6716417910447762,0.5789473684210527,0.5769230769230769,0.5342465753424658,0.6712328767123288,0.6268656716417911,0.6229508196721312,0.7045454545454546,0.7894736842105263,0.7297297297297297,0.5853658536585366,0.7333333333333333,0.55,0.8148148148148148,0.7027027027027027,0.7857142857142857,0.6938775510204082,0.717391304347826,0.7073170731707317,0.7560975609756098,0.7674418604651163,0.8048780487804879,0.7619047619047619,0.7272727272727273,0.6071428571428571,0.543859649122807,0.7272727272727273,0.7083333333333334,0.8372093023255814,0.5263157894736842,0.4878048780487805,0.7142857142857143,0.7272727272727273,0.4406779661016949,0.559322033898305,0.7837837837837838,0.696969696969697,0.575,0.75,0.49333333333333335,0.29333333333333333,0.3548387096774194,0.7285714285714285,0.8307692307692308,0.6885245901639344,0.6307692307692307,0.5959595959595959,0.5757575757575758,0.7647058823529411,0.65625,0.7291666666666666,0.6486486486486487,0.7741935483870968,0.6666666666666666,0.8260869565217391,0.55,0.673469387755102,0.5348837209302325,0.35294117647058826,0.42028985507246375,0.5918367346938775,0.7636363636363637,0.803921568627451,0.6666666666666666,0.6470588235294118],\"yaxis\":\"y\",\"type\":\"scatter\"},{\"line\":{\"color\":\"black\"},\"mode\":\"lines\",\"name\":\"perf_metric\",\"x\":[2000,3000,4000,5000,6000,7000,8000,9000,10000,11000,12000,13000,14000,15000,16000,17000,18000,19000,20000,21000,22000,23000,24000,25000,26000,27000,28000,29000,30000,31000,32000,33000,34000,35000,36000,37000,38000,39000,40000,41000,42000,43000,44000,45000,46000,47000,48000,49000,50000,51000,52000,53000,54000,55000,56000,57000,58000,59000,60000,61000,62000,63000,64000,65000,66000,67000,68000,69000,70000,71000,72000,73000,74000,75000,76000,77000,78000,79000,80000,81000,82000,83000,84000,85000,86000,87000,88000,89000,90000,91000,92000,93000,94000,95000,96000,97000,98000,99000,100000,101000,102000,103000,104000,105000,106000,107000,108000,109000,110000,111000,112000,113000,114000,115000,116000,117000,118000,119000,120000,121000,122000,123000,124000,125000,126000,127000,128000,129000,130000,131000,132000,133000,134000,135000,136000,137000,138000,139000,140000,141000,142000,143000],\"y\":[0.14408066868782043,0.30164390802383423,0.5214207172393799,0.6283944845199585,0.42528706789016724,0.6616678237915039,0.5040611624717712,0.5024839639663696,0.5974746346473694,0.6558032035827637,0.4376274645328522,0.5673839449882507,0.5760918855667114,0.673001766204834,0.6555053234100342,0.6380088806152344,0.6205124378204345,0.6030159950256347,0.585519552230835,0.5996431350708008,0.6137667179107666,0.6278903007507324,0.6420138835906982,0.6561374664306641,0.6663044571876526,0.6764714479446411,0.6866384387016297,0.6968054294586181,0.7069724202156067,0.7357974052429199,0.7646223902702332,0.7934473752975464,0.8222723603248596,0.8510973453521729,0.8380409240722656,0.8249845027923584,0.8119280815124512,0.798871660232544,0.7858152389526367,0.79725341796875,0.8086915969848633,0.8201297760009766,0.8315679550170898,0.8430061340332031,0.846302616596222,0.8495990991592407,0.8528955817222595,0.8561920642852783,0.8594885468482971,0.8525122761726379,0.8455360054969787,0.8385597348213196,0.8315834641456604,0.8246071934700012,0.8252315759658814,0.8258559584617615,0.8264803409576416,0.8271047234535217,0.8277291059494019,0.8395205616950989,0.8513120174407959,0.8631034731864929,0.8748949289321899,0.886686384677887,0.88213552236557,0.8775846600532532,0.8730337977409363,0.8684829354286194,0.8639320731163025,0.8613804459571839,0.8588288187980652,0.8562771916389466,0.8537255644798278,0.8511739373207092,0.8486223101615906,0.8460706830024719,0.8435190558433533,0.8409674286842346,0.838415801525116,0.8408834636211395,0.8433511257171631,0.8458187878131866,0.8482864499092102,0.8507541120052338,0.8532217741012573,0.8556894361972809,0.8581570982933044,0.860624760389328,0.8630924224853516,0.8648158371448517,0.8665392518043518,0.868262666463852,0.8699860811233521,0.8717094957828522,0.8734329104423523,0.8751563251018524,0.8768797397613526,0.8786031544208527,0.8803265690803528,0.8766833901405334,0.8730402112007141,0.8693970322608948,0.8657538533210755,0.8621106743812561,0.8584674954414367,0.8548243165016174,0.8511811375617981,0.8475379586219788,0.8438947796821594,0.8408937096595764,0.8378926396369935,0.8348915696144104,0.8318904995918274,0.8288894295692444,0.8258883595466614,0.8228872895240784,0.8198862195014953,0.8168851494789123,0.8138840794563293,0.8138286948204041,0.8137733101844787,0.8137179255485535,0.8136625409126281,0.8136071562767029,0.8135517716407776,0.8134963870048523,0.813441002368927,0.8133856177330017,0.8133302330970764,0.814875864982605,0.8164214968681336,0.8179671287536621,0.8195127606391907,0.8210583925247192,0.8226040244102478,0.8241496562957764,0.8256952881813049,0.8272409200668335,0.8287865519523621,0.8287865519523621,0.8287865519523621,0.8287865519523621],\"yaxis\":\"y2\",\"type\":\"scatter\"}],                        {\"template\":{\"data\":{\"histogram2dcontour\":[{\"type\":\"histogram2dcontour\",\"colorbar\":{\"outlinewidth\":0,\"ticks\":\"\"},\"colorscale\":[[0.0,\"#0d0887\"],[0.1111111111111111,\"#46039f\"],[0.2222222222222222,\"#7201a8\"],[0.3333333333333333,\"#9c179e\"],[0.4444444444444444,\"#bd3786\"],[0.5555555555555556,\"#d8576b\"],[0.6666666666666666,\"#ed7953\"],[0.7777777777777778,\"#fb9f3a\"],[0.8888888888888888,\"#fdca26\"],[1.0,\"#f0f921\"]]}],\"choropleth\":[{\"type\":\"choropleth\",\"colorbar\":{\"outlinewidth\":0,\"ticks\":\"\"}}],\"histogram2d\":[{\"type\":\"histogram2d\",\"colorbar\":{\"outlinewidth\":0,\"ticks\":\"\"},\"colorscale\":[[0.0,\"#0d0887\"],[0.1111111111111111,\"#46039f\"],[0.2222222222222222,\"#7201a8\"],[0.3333333333333333,\"#9c179e\"],[0.4444444444444444,\"#bd3786\"],[0.5555555555555556,\"#d8576b\"],[0.6666666666666666,\"#ed7953\"],[0.7777777777777778,\"#fb9f3a\"],[0.8888888888888888,\"#fdca26\"],[1.0,\"#f0f921\"]]}],\"heatmap\":[{\"type\":\"heatmap\",\"colorbar\":{\"outlinewidth\":0,\"ticks\":\"\"},\"colorscale\":[[0.0,\"#0d0887\"],[0.1111111111111111,\"#46039f\"],[0.2222222222222222,\"#7201a8\"],[0.3333333333333333,\"#9c179e\"],[0.4444444444444444,\"#bd3786\"],[0.5555555555555556,\"#d8576b\"],[0.6666666666666666,\"#ed7953\"],[0.7777777777777778,\"#fb9f3a\"],[0.8888888888888888,\"#fdca26\"],[1.0,\"#f0f921\"]]}],\"heatmapgl\":[{\"type\":\"heatmapgl\",\"colorbar\":{\"outlinewidth\":0,\"ticks\":\"\"},\"colorscale\":[[0.0,\"#0d0887\"],[0.1111111111111111,\"#46039f\"],[0.2222222222222222,\"#7201a8\"],[0.3333333333333333,\"#9c179e\"],[0.4444444444444444,\"#bd3786\"],[0.5555555555555556,\"#d8576b\"],[0.6666666666666666,\"#ed7953\"],[0.7777777777777778,\"#fb9f3a\"],[0.8888888888888888,\"#fdca26\"],[1.0,\"#f0f921\"]]}],\"contourcarpet\":[{\"type\":\"contourcarpet\",\"colorbar\":{\"outlinewidth\":0,\"ticks\":\"\"}}],\"contour\":[{\"type\":\"contour\",\"colorbar\":{\"outlinewidth\":0,\"ticks\":\"\"},\"colorscale\":[[0.0,\"#0d0887\"],[0.1111111111111111,\"#46039f\"],[0.2222222222222222,\"#7201a8\"],[0.3333333333333333,\"#9c179e\"],[0.4444444444444444,\"#bd3786\"],[0.5555555555555556,\"#d8576b\"],[0.6666666666666666,\"#ed7953\"],[0.7777777777777778,\"#fb9f3a\"],[0.8888888888888888,\"#fdca26\"],[1.0,\"#f0f921\"]]}],\"surface\":[{\"type\":\"surface\",\"colorbar\":{\"outlinewidth\":0,\"ticks\":\"\"},\"colorscale\":[[0.0,\"#0d0887\"],[0.1111111111111111,\"#46039f\"],[0.2222222222222222,\"#7201a8\"],[0.3333333333333333,\"#9c179e\"],[0.4444444444444444,\"#bd3786\"],[0.5555555555555556,\"#d8576b\"],[0.6666666666666666,\"#ed7953\"],[0.7777777777777778,\"#fb9f3a\"],[0.8888888888888888,\"#fdca26\"],[1.0,\"#f0f921\"]]}],\"mesh3d\":[{\"type\":\"mesh3d\",\"colorbar\":{\"outlinewidth\":0,\"ticks\":\"\"}}],\"scatter\":[{\"fillpattern\":{\"fillmode\":\"overlay\",\"size\":10,\"solidity\":0.2},\"type\":\"scatter\"}],\"parcoords\":[{\"type\":\"parcoords\",\"line\":{\"colorbar\":{\"outlinewidth\":0,\"ticks\":\"\"}}}],\"scatterpolargl\":[{\"type\":\"scatterpolargl\",\"marker\":{\"colorbar\":{\"outlinewidth\":0,\"ticks\":\"\"}}}],\"bar\":[{\"error_x\":{\"color\":\"#2a3f5f\"},\"error_y\":{\"color\":\"#2a3f5f\"},\"marker\":{\"line\":{\"color\":\"#E5ECF6\",\"width\":0.5},\"pattern\":{\"fillmode\":\"overlay\",\"size\":10,\"solidity\":0.2}},\"type\":\"bar\"}],\"scattergeo\":[{\"type\":\"scattergeo\",\"marker\":{\"colorbar\":{\"outlinewidth\":0,\"ticks\":\"\"}}}],\"scatterpolar\":[{\"type\":\"scatterpolar\",\"marker\":{\"colorbar\":{\"outlinewidth\":0,\"ticks\":\"\"}}}],\"histogram\":[{\"marker\":{\"pattern\":{\"fillmode\":\"overlay\",\"size\":10,\"solidity\":0.2}},\"type\":\"histogram\"}],\"scattergl\":[{\"type\":\"scattergl\",\"marker\":{\"colorbar\":{\"outlinewidth\":0,\"ticks\":\"\"}}}],\"scatter3d\":[{\"type\":\"scatter3d\",\"line\":{\"colorbar\":{\"outlinewidth\":0,\"ticks\":\"\"}},\"marker\":{\"colorbar\":{\"outlinewidth\":0,\"ticks\":\"\"}}}],\"scattermapbox\":[{\"type\":\"scattermapbox\",\"marker\":{\"colorbar\":{\"outlinewidth\":0,\"ticks\":\"\"}}}],\"scatterternary\":[{\"type\":\"scatterternary\",\"marker\":{\"colorbar\":{\"outlinewidth\":0,\"ticks\":\"\"}}}],\"scattercarpet\":[{\"type\":\"scattercarpet\",\"marker\":{\"colorbar\":{\"outlinewidth\":0,\"ticks\":\"\"}}}],\"carpet\":[{\"aaxis\":{\"endlinecolor\":\"#2a3f5f\",\"gridcolor\":\"white\",\"linecolor\":\"white\",\"minorgridcolor\":\"white\",\"startlinecolor\":\"#2a3f5f\"},\"baxis\":{\"endlinecolor\":\"#2a3f5f\",\"gridcolor\":\"white\",\"linecolor\":\"white\",\"minorgridcolor\":\"white\",\"startlinecolor\":\"#2a3f5f\"},\"type\":\"carpet\"}],\"table\":[{\"cells\":{\"fill\":{\"color\":\"#EBF0F8\"},\"line\":{\"color\":\"white\"}},\"header\":{\"fill\":{\"color\":\"#C8D4E3\"},\"line\":{\"color\":\"white\"}},\"type\":\"table\"}],\"barpolar\":[{\"marker\":{\"line\":{\"color\":\"#E5ECF6\",\"width\":0.5},\"pattern\":{\"fillmode\":\"overlay\",\"size\":10,\"solidity\":0.2}},\"type\":\"barpolar\"}],\"pie\":[{\"automargin\":true,\"type\":\"pie\"}]},\"layout\":{\"autotypenumbers\":\"strict\",\"colorway\":[\"#636efa\",\"#EF553B\",\"#00cc96\",\"#ab63fa\",\"#FFA15A\",\"#19d3f3\",\"#FF6692\",\"#B6E880\",\"#FF97FF\",\"#FECB52\"],\"font\":{\"color\":\"#2a3f5f\"},\"hovermode\":\"closest\",\"hoverlabel\":{\"align\":\"left\"},\"paper_bgcolor\":\"white\",\"plot_bgcolor\":\"#E5ECF6\",\"polar\":{\"bgcolor\":\"#E5ECF6\",\"angularaxis\":{\"gridcolor\":\"white\",\"linecolor\":\"white\",\"ticks\":\"\"},\"radialaxis\":{\"gridcolor\":\"white\",\"linecolor\":\"white\",\"ticks\":\"\"}},\"ternary\":{\"bgcolor\":\"#E5ECF6\",\"aaxis\":{\"gridcolor\":\"white\",\"linecolor\":\"white\",\"ticks\":\"\"},\"baxis\":{\"gridcolor\":\"white\",\"linecolor\":\"white\",\"ticks\":\"\"},\"caxis\":{\"gridcolor\":\"white\",\"linecolor\":\"white\",\"ticks\":\"\"}},\"coloraxis\":{\"colorbar\":{\"outlinewidth\":0,\"ticks\":\"\"}},\"colorscale\":{\"sequential\":[[0.0,\"#0d0887\"],[0.1111111111111111,\"#46039f\"],[0.2222222222222222,\"#7201a8\"],[0.3333333333333333,\"#9c179e\"],[0.4444444444444444,\"#bd3786\"],[0.5555555555555556,\"#d8576b\"],[0.6666666666666666,\"#ed7953\"],[0.7777777777777778,\"#fb9f3a\"],[0.8888888888888888,\"#fdca26\"],[1.0,\"#f0f921\"]],\"sequentialminus\":[[0.0,\"#0d0887\"],[0.1111111111111111,\"#46039f\"],[0.2222222222222222,\"#7201a8\"],[0.3333333333333333,\"#9c179e\"],[0.4444444444444444,\"#bd3786\"],[0.5555555555555556,\"#d8576b\"],[0.6666666666666666,\"#ed7953\"],[0.7777777777777778,\"#fb9f3a\"],[0.8888888888888888,\"#fdca26\"],[1.0,\"#f0f921\"]],\"diverging\":[[0,\"#8e0152\"],[0.1,\"#c51b7d\"],[0.2,\"#de77ae\"],[0.3,\"#f1b6da\"],[0.4,\"#fde0ef\"],[0.5,\"#f7f7f7\"],[0.6,\"#e6f5d0\"],[0.7,\"#b8e186\"],[0.8,\"#7fbc41\"],[0.9,\"#4d9221\"],[1,\"#276419\"]]},\"xaxis\":{\"gridcolor\":\"white\",\"linecolor\":\"white\",\"ticks\":\"\",\"title\":{\"standoff\":15},\"zerolinecolor\":\"white\",\"automargin\":true,\"zerolinewidth\":2},\"yaxis\":{\"gridcolor\":\"white\",\"linecolor\":\"white\",\"ticks\":\"\",\"title\":{\"standoff\":15},\"zerolinecolor\":\"white\",\"automargin\":true,\"zerolinewidth\":2},\"scene\":{\"xaxis\":{\"backgroundcolor\":\"#E5ECF6\",\"gridcolor\":\"white\",\"linecolor\":\"white\",\"showbackground\":true,\"ticks\":\"\",\"zerolinecolor\":\"white\",\"gridwidth\":2},\"yaxis\":{\"backgroundcolor\":\"#E5ECF6\",\"gridcolor\":\"white\",\"linecolor\":\"white\",\"showbackground\":true,\"ticks\":\"\",\"zerolinecolor\":\"white\",\"gridwidth\":2},\"zaxis\":{\"backgroundcolor\":\"#E5ECF6\",\"gridcolor\":\"white\",\"linecolor\":\"white\",\"showbackground\":true,\"ticks\":\"\",\"zerolinecolor\":\"white\",\"gridwidth\":2}},\"shapedefaults\":{\"line\":{\"color\":\"#2a3f5f\"}},\"annotationdefaults\":{\"arrowcolor\":\"#2a3f5f\",\"arrowhead\":0,\"arrowwidth\":1},\"geo\":{\"bgcolor\":\"white\",\"landcolor\":\"#E5ECF6\",\"subunitcolor\":\"white\",\"showland\":true,\"showlakes\":true,\"lakecolor\":\"white\"},\"title\":{\"x\":0.05},\"mapbox\":{\"style\":\"light\"}}},\"xaxis\":{\"anchor\":\"y\",\"domain\":[0.0,1.0],\"title\":{\"text\":\"checkpoint_2\"},\"type\":\"log\"},\"yaxis\":{\"anchor\":\"x\",\"domain\":[0.0,1.0],\"title\":{\"text\":\"Jaccard Similarity\"}},\"legend\":{\"title\":{\"text\":\"variable\"},\"tracegroupgap\":0},\"title\":{\"text\":\"Jaccard Similarity Over Time\"},\"yaxis2\":{\"title\":{\"text\":\"Probability Difference\"},\"overlaying\":\"y\",\"side\":\"right\",\"showgrid\":false}},                        {\"responsive\": true}                    ).then(function(){\n",
       "                            \n",
       "var gd = document.getElementById('da7b3918-e69c-463c-98b7-e9de13682443');\n",
       "var x = new MutationObserver(function (mutations, observer) {{\n",
       "        var display = window.getComputedStyle(gd).display;\n",
       "        if (!display || display === 'none') {{\n",
       "            console.log([gd, 'removed!']);\n",
       "            Plotly.purge(gd);\n",
       "            observer.disconnect();\n",
       "        }}\n",
       "}});\n",
       "\n",
       "// Listen for the removal of the full notebook cells\n",
       "var notebookContainer = gd.closest('#notebook-container');\n",
       "if (notebookContainer) {{\n",
       "    x.observe(notebookContainer, {childList: true});\n",
       "}}\n",
       "\n",
       "// Listen for the clearing of the current output cell\n",
       "var outputEl = gd.closest('.output');\n",
       "if (outputEl) {{\n",
       "    x.observe(outputEl, {childList: true});\n",
       "}}\n",
       "\n",
       "                        })                };                });            </script>        </div>"
      ]
     },
     "metadata": {},
     "output_type": "display_data"
    }
   ],
   "source": [
    "jaccard_results = compute_jaccard_similarity(df)\n",
    "\n",
    "# Add a new column for the performance metric by mapping the checkpoint_2 values using the perf_metric_dict\n",
    "jaccard_results['perf_metric'] = jaccard_results['checkpoint_2'].map(perf_metric_dict)\n",
    "\n",
    "# Interpolate missing values\n",
    "jaccard_results['perf_metric'] = jaccard_results['perf_metric'].interpolate(method='linear')\n",
    "\n",
    "# plot jaccard similarity over time\n",
    "fig = px.line(jaccard_results, x='checkpoint_2', y=['jaccard_similarity'], title='Jaccard Similarity Over Time', log_x=True)\n",
    "\n",
    "# Specify colors for each line\n",
    "colors = {'jaccard_similarity': 'lightblue', 'perf_metric': 'black'}\n",
    "\n",
    "# Update each trace with the specified color\n",
    "for i, trace in enumerate(fig.data):\n",
    "    fig.data[i].update(line=dict(color=colors[trace.name]))\n",
    "\n",
    "\n",
    "fig.update_layout(\n",
    "    yaxis2=dict(title=\"Probability Difference\", overlaying=\"y\", side=\"right\", showgrid=False)\n",
    ")\n",
    "fig.add_trace(\n",
    "    go.Scatter(x=jaccard_results['checkpoint_2'], y=jaccard_results['perf_metric'], name='perf_metric', mode='lines', yaxis='y2', line=dict(color=colors['perf_metric']))\n",
    ")\n",
    "\n",
    "# Optional: Update the layout if you need to adjust titles or other aesthetics\n",
    "fig.update_layout(\n",
    "    yaxis_title=\"Jaccard Similarity\"\n",
    ")\n",
    "\n",
    "fig.show()"
   ]
  },
  {
   "cell_type": "code",
   "execution_count": 13,
   "metadata": {},
   "outputs": [
    {
     "data": {
      "application/vnd.plotly.v1+json": {
       "config": {
        "plotlyServerURL": "https://plot.ly"
       },
       "data": [
        {
         "hovertemplate": "variable=jaccard_similarity<br>checkpoint=%{x}<br>value=%{y}<extra></extra>",
         "legendgroup": "jaccard_similarity",
         "line": {
          "color": "lightblue",
          "dash": "solid"
         },
         "marker": {
          "symbol": "circle"
         },
         "mode": "lines",
         "name": "jaccard_similarity",
         "orientation": "v",
         "showlegend": true,
         "type": "scatter",
         "x": [
          1000,
          3000,
          4000,
          5000,
          6000,
          7000,
          8000,
          9000,
          10000,
          11000,
          12000,
          13000,
          14000,
          15000,
          16000,
          17000,
          18000,
          19000,
          20000,
          21000,
          22000,
          23000,
          24000,
          25000,
          26000,
          27000,
          28000,
          29000,
          30000,
          31000,
          32000,
          33000,
          34000,
          35000,
          36000,
          37000,
          38000,
          39000,
          40000,
          41000,
          42000,
          43000,
          44000,
          45000,
          46000,
          47000,
          48000,
          49000,
          50000,
          51000,
          52000,
          53000,
          54000,
          55000,
          56000,
          57000,
          58000,
          59000,
          60000,
          61000,
          62000,
          63000,
          64000,
          65000,
          66000,
          67000,
          68000,
          69000,
          70000,
          71000,
          72000,
          73000,
          74000,
          75000,
          76000,
          77000,
          78000,
          79000,
          80000,
          81000,
          82000,
          83000,
          84000,
          85000,
          86000,
          87000,
          88000,
          89000,
          90000,
          91000,
          92000,
          93000,
          94000,
          95000,
          96000,
          97000,
          98000,
          99000,
          100000,
          101000,
          102000,
          103000,
          104000,
          105000,
          106000,
          107000,
          108000,
          109000,
          110000,
          111000,
          112000,
          113000,
          114000,
          115000,
          116000,
          117000,
          118000,
          119000,
          120000,
          121000,
          122000,
          123000,
          124000,
          125000,
          126000,
          127000,
          128000,
          129000,
          130000,
          131000,
          132000,
          133000,
          134000,
          135000,
          136000,
          137000,
          138000,
          139000,
          140000,
          141000,
          142000,
          143000
         ],
         "xaxis": "x",
         "y": [
          0,
          0.42424242424242425,
          0.4025974025974026,
          0.375,
          0.38095238095238093,
          0.3291139240506329,
          0.44565217391304346,
          0.4175824175824176,
          0.40963855421686746,
          0.43820224719101125,
          0.42391304347826086,
          0.4017857142857143,
          0.38235294117647056,
          0.3247863247863248,
          0.3577981651376147,
          0.3364485981308411,
          0.41509433962264153,
          0.37623762376237624,
          0.391304347826087,
          0.3482142857142857,
          0.38596491228070173,
          0.3464566929133858,
          0.35344827586206895,
          0.3208955223880597,
          0.25287356321839083,
          0.3645833333333333,
          0.3652173913043478,
          0.3504273504273504,
          0.30701754385964913,
          0.32,
          0.32407407407407407,
          0.33653846153846156,
          0.3524590163934426,
          0.32941176470588235,
          0.2962962962962963,
          0.3434343434343434,
          0.2891566265060241,
          0.3373493975903614,
          0.3177570093457944,
          0.275,
          0.2375,
          0.3258426966292135,
          0.2875,
          0.2976190476190476,
          0.2911392405063291,
          0.2911392405063291,
          0.32142857142857145,
          0.3181818181818182,
          0.28205128205128205,
          0.26582278481012656,
          0.32098765432098764,
          0.27848101265822783,
          0.2875,
          0.3,
          0.30864197530864196,
          0.26506024096385544,
          0.3037974683544304,
          0.32954545454545453,
          0.2988505747126437,
          0.25925925925925924,
          0.30851063829787234,
          0.32098765432098764,
          0.2978723404255319,
          0.35555555555555557,
          0.39080459770114945,
          0.3,
          0.31521739130434784,
          0.3170731707317073,
          0.2875,
          0.3048780487804878,
          0.27586206896551724,
          0.30952380952380953,
          0.33695652173913043,
          0.3372093023255814,
          0.30120481927710846,
          0.3170731707317073,
          0.37373737373737376,
          0.3473684210526316,
          0.32558139534883723,
          0.2765957446808511,
          0.3211009174311927,
          0.3402061855670103,
          0.32323232323232326,
          0.34831460674157305,
          0.2891566265060241,
          0.34523809523809523,
          0.2875,
          0.32558139534883723,
          0.30337078651685395,
          0.24050632911392406,
          0.25609756097560976,
          0.28735632183908044,
          0.2777777777777778,
          0.36363636363636365,
          0.26136363636363635,
          0.26136363636363635,
          0.2840909090909091,
          0.26373626373626374,
          0.3058823529411765,
          0.2777777777777778,
          0.2988505747126437,
          0.30303030303030304,
          0.27586206896551724,
          0.3146067415730337,
          0.3146067415730337,
          0.32558139534883723,
          0.21518987341772153,
          0.32954545454545453,
          0.22988505747126436,
          0.21428571428571427,
          0.33663366336633666,
          0.25287356321839083,
          0.2247191011235955,
          0.2222222222222222,
          0.2608695652173913,
          0.2840909090909091,
          0.336283185840708,
          0.225,
          0.2897196261682243,
          0.3235294117647059,
          0.3076923076923077,
          0.3076923076923077,
          0.3627450980392157,
          0.29545454545454547,
          0.37,
          0.33663366336633666,
          0.28125,
          0.25842696629213485,
          0.23170731707317074,
          0.24705882352941178,
          0.23076923076923078,
          0.20987654320987653,
          0.28888888888888886,
          0.3111111111111111,
          0.2345679012345679,
          0.3584905660377358,
          0.2619047619047619,
          0.3191489361702128,
          0.32978723404255317,
          0.27956989247311825,
          0.2840909090909091,
          0.33695652173913043
         ],
         "yaxis": "y"
        },
        {
         "line": {
          "color": "black"
         },
         "mode": "lines",
         "name": "perf_metric",
         "type": "scatter",
         "x": [
          1000,
          3000,
          4000,
          5000,
          6000,
          7000,
          8000,
          9000,
          10000,
          11000,
          12000,
          13000,
          14000,
          15000,
          16000,
          17000,
          18000,
          19000,
          20000,
          21000,
          22000,
          23000,
          24000,
          25000,
          26000,
          27000,
          28000,
          29000,
          30000,
          31000,
          32000,
          33000,
          34000,
          35000,
          36000,
          37000,
          38000,
          39000,
          40000,
          41000,
          42000,
          43000,
          44000,
          45000,
          46000,
          47000,
          48000,
          49000,
          50000,
          51000,
          52000,
          53000,
          54000,
          55000,
          56000,
          57000,
          58000,
          59000,
          60000,
          61000,
          62000,
          63000,
          64000,
          65000,
          66000,
          67000,
          68000,
          69000,
          70000,
          71000,
          72000,
          73000,
          74000,
          75000,
          76000,
          77000,
          78000,
          79000,
          80000,
          81000,
          82000,
          83000,
          84000,
          85000,
          86000,
          87000,
          88000,
          89000,
          90000,
          91000,
          92000,
          93000,
          94000,
          95000,
          96000,
          97000,
          98000,
          99000,
          100000,
          101000,
          102000,
          103000,
          104000,
          105000,
          106000,
          107000,
          108000,
          109000,
          110000,
          111000,
          112000,
          113000,
          114000,
          115000,
          116000,
          117000,
          118000,
          119000,
          120000,
          121000,
          122000,
          123000,
          124000,
          125000,
          126000,
          127000,
          128000,
          129000,
          130000,
          131000,
          132000,
          133000,
          134000,
          135000,
          136000,
          137000,
          138000,
          139000,
          140000,
          141000,
          142000,
          143000
         ],
         "y": [
          -0.17926901578903198,
          0.30164390802383423,
          0.5214207172393799,
          0.6283944845199585,
          0.42528706789016724,
          0.6616678237915039,
          0.5040611624717712,
          0.5024839639663696,
          0.5974746346473694,
          0.6558032035827637,
          0.4376274645328522,
          0.5673839449882507,
          0.5760918855667114,
          0.673001766204834,
          0.6555053234100342,
          0.6380088806152344,
          0.6205124378204345,
          0.6030159950256347,
          0.585519552230835,
          0.5996431350708008,
          0.6137667179107666,
          0.6278903007507324,
          0.6420138835906982,
          0.6561374664306641,
          0.6663044571876526,
          0.6764714479446411,
          0.6866384387016297,
          0.6968054294586181,
          0.7069724202156067,
          0.7357974052429199,
          0.7646223902702332,
          0.7934473752975464,
          0.8222723603248596,
          0.8510973453521729,
          0.8380409240722656,
          0.8249845027923584,
          0.8119280815124512,
          0.798871660232544,
          0.7858152389526367,
          0.79725341796875,
          0.8086915969848633,
          0.8201297760009766,
          0.8315679550170898,
          0.8430061340332031,
          0.846302616596222,
          0.8495990991592407,
          0.8528955817222595,
          0.8561920642852783,
          0.8594885468482971,
          0.8525122761726379,
          0.8455360054969787,
          0.8385597348213196,
          0.8315834641456604,
          0.8246071934700012,
          0.8252315759658814,
          0.8258559584617615,
          0.8264803409576416,
          0.8271047234535217,
          0.8277291059494019,
          0.8395205616950989,
          0.8513120174407959,
          0.8631034731864929,
          0.8748949289321899,
          0.886686384677887,
          0.88213552236557,
          0.8775846600532532,
          0.8730337977409363,
          0.8684829354286194,
          0.8639320731163025,
          0.8613804459571839,
          0.8588288187980652,
          0.8562771916389466,
          0.8537255644798278,
          0.8511739373207092,
          0.8486223101615906,
          0.8460706830024719,
          0.8435190558433533,
          0.8409674286842346,
          0.838415801525116,
          0.8408834636211395,
          0.8433511257171631,
          0.8458187878131866,
          0.8482864499092102,
          0.8507541120052338,
          0.8532217741012573,
          0.8556894361972809,
          0.8581570982933044,
          0.860624760389328,
          0.8630924224853516,
          0.8648158371448517,
          0.8665392518043518,
          0.868262666463852,
          0.8699860811233521,
          0.8717094957828522,
          0.8734329104423523,
          0.8751563251018524,
          0.8768797397613526,
          0.8786031544208527,
          0.8803265690803528,
          0.8766833901405334,
          0.8730402112007141,
          0.8693970322608948,
          0.8657538533210755,
          0.8621106743812561,
          0.8584674954414367,
          0.8548243165016174,
          0.8511811375617981,
          0.8475379586219788,
          0.8438947796821594,
          0.8408937096595764,
          0.8378926396369935,
          0.8348915696144104,
          0.8318904995918274,
          0.8288894295692444,
          0.8258883595466614,
          0.8228872895240784,
          0.8198862195014953,
          0.8168851494789123,
          0.8138840794563293,
          0.8138286948204041,
          0.8137733101844787,
          0.8137179255485535,
          0.8136625409126281,
          0.8136071562767029,
          0.8135517716407776,
          0.8134963870048523,
          0.813441002368927,
          0.8133856177330017,
          0.8133302330970764,
          0.814875864982605,
          0.8164214968681336,
          0.8179671287536621,
          0.8195127606391907,
          0.8210583925247192,
          0.8226040244102478,
          0.8241496562957764,
          0.8256952881813049,
          0.8272409200668335,
          0.8287865519523621,
          0.8287865519523621,
          0.8287865519523621,
          0.8287865519523621
         ],
         "yaxis": "y2"
        }
       ],
       "layout": {
        "legend": {
         "title": {
          "text": "variable"
         },
         "tracegroupgap": 0
        },
        "template": {
         "data": {
          "bar": [
           {
            "error_x": {
             "color": "#2a3f5f"
            },
            "error_y": {
             "color": "#2a3f5f"
            },
            "marker": {
             "line": {
              "color": "#E5ECF6",
              "width": 0.5
             },
             "pattern": {
              "fillmode": "overlay",
              "size": 10,
              "solidity": 0.2
             }
            },
            "type": "bar"
           }
          ],
          "barpolar": [
           {
            "marker": {
             "line": {
              "color": "#E5ECF6",
              "width": 0.5
             },
             "pattern": {
              "fillmode": "overlay",
              "size": 10,
              "solidity": 0.2
             }
            },
            "type": "barpolar"
           }
          ],
          "carpet": [
           {
            "aaxis": {
             "endlinecolor": "#2a3f5f",
             "gridcolor": "white",
             "linecolor": "white",
             "minorgridcolor": "white",
             "startlinecolor": "#2a3f5f"
            },
            "baxis": {
             "endlinecolor": "#2a3f5f",
             "gridcolor": "white",
             "linecolor": "white",
             "minorgridcolor": "white",
             "startlinecolor": "#2a3f5f"
            },
            "type": "carpet"
           }
          ],
          "choropleth": [
           {
            "colorbar": {
             "outlinewidth": 0,
             "ticks": ""
            },
            "type": "choropleth"
           }
          ],
          "contour": [
           {
            "colorbar": {
             "outlinewidth": 0,
             "ticks": ""
            },
            "colorscale": [
             [
              0,
              "#0d0887"
             ],
             [
              0.1111111111111111,
              "#46039f"
             ],
             [
              0.2222222222222222,
              "#7201a8"
             ],
             [
              0.3333333333333333,
              "#9c179e"
             ],
             [
              0.4444444444444444,
              "#bd3786"
             ],
             [
              0.5555555555555556,
              "#d8576b"
             ],
             [
              0.6666666666666666,
              "#ed7953"
             ],
             [
              0.7777777777777778,
              "#fb9f3a"
             ],
             [
              0.8888888888888888,
              "#fdca26"
             ],
             [
              1,
              "#f0f921"
             ]
            ],
            "type": "contour"
           }
          ],
          "contourcarpet": [
           {
            "colorbar": {
             "outlinewidth": 0,
             "ticks": ""
            },
            "type": "contourcarpet"
           }
          ],
          "heatmap": [
           {
            "colorbar": {
             "outlinewidth": 0,
             "ticks": ""
            },
            "colorscale": [
             [
              0,
              "#0d0887"
             ],
             [
              0.1111111111111111,
              "#46039f"
             ],
             [
              0.2222222222222222,
              "#7201a8"
             ],
             [
              0.3333333333333333,
              "#9c179e"
             ],
             [
              0.4444444444444444,
              "#bd3786"
             ],
             [
              0.5555555555555556,
              "#d8576b"
             ],
             [
              0.6666666666666666,
              "#ed7953"
             ],
             [
              0.7777777777777778,
              "#fb9f3a"
             ],
             [
              0.8888888888888888,
              "#fdca26"
             ],
             [
              1,
              "#f0f921"
             ]
            ],
            "type": "heatmap"
           }
          ],
          "heatmapgl": [
           {
            "colorbar": {
             "outlinewidth": 0,
             "ticks": ""
            },
            "colorscale": [
             [
              0,
              "#0d0887"
             ],
             [
              0.1111111111111111,
              "#46039f"
             ],
             [
              0.2222222222222222,
              "#7201a8"
             ],
             [
              0.3333333333333333,
              "#9c179e"
             ],
             [
              0.4444444444444444,
              "#bd3786"
             ],
             [
              0.5555555555555556,
              "#d8576b"
             ],
             [
              0.6666666666666666,
              "#ed7953"
             ],
             [
              0.7777777777777778,
              "#fb9f3a"
             ],
             [
              0.8888888888888888,
              "#fdca26"
             ],
             [
              1,
              "#f0f921"
             ]
            ],
            "type": "heatmapgl"
           }
          ],
          "histogram": [
           {
            "marker": {
             "pattern": {
              "fillmode": "overlay",
              "size": 10,
              "solidity": 0.2
             }
            },
            "type": "histogram"
           }
          ],
          "histogram2d": [
           {
            "colorbar": {
             "outlinewidth": 0,
             "ticks": ""
            },
            "colorscale": [
             [
              0,
              "#0d0887"
             ],
             [
              0.1111111111111111,
              "#46039f"
             ],
             [
              0.2222222222222222,
              "#7201a8"
             ],
             [
              0.3333333333333333,
              "#9c179e"
             ],
             [
              0.4444444444444444,
              "#bd3786"
             ],
             [
              0.5555555555555556,
              "#d8576b"
             ],
             [
              0.6666666666666666,
              "#ed7953"
             ],
             [
              0.7777777777777778,
              "#fb9f3a"
             ],
             [
              0.8888888888888888,
              "#fdca26"
             ],
             [
              1,
              "#f0f921"
             ]
            ],
            "type": "histogram2d"
           }
          ],
          "histogram2dcontour": [
           {
            "colorbar": {
             "outlinewidth": 0,
             "ticks": ""
            },
            "colorscale": [
             [
              0,
              "#0d0887"
             ],
             [
              0.1111111111111111,
              "#46039f"
             ],
             [
              0.2222222222222222,
              "#7201a8"
             ],
             [
              0.3333333333333333,
              "#9c179e"
             ],
             [
              0.4444444444444444,
              "#bd3786"
             ],
             [
              0.5555555555555556,
              "#d8576b"
             ],
             [
              0.6666666666666666,
              "#ed7953"
             ],
             [
              0.7777777777777778,
              "#fb9f3a"
             ],
             [
              0.8888888888888888,
              "#fdca26"
             ],
             [
              1,
              "#f0f921"
             ]
            ],
            "type": "histogram2dcontour"
           }
          ],
          "mesh3d": [
           {
            "colorbar": {
             "outlinewidth": 0,
             "ticks": ""
            },
            "type": "mesh3d"
           }
          ],
          "parcoords": [
           {
            "line": {
             "colorbar": {
              "outlinewidth": 0,
              "ticks": ""
             }
            },
            "type": "parcoords"
           }
          ],
          "pie": [
           {
            "automargin": true,
            "type": "pie"
           }
          ],
          "scatter": [
           {
            "fillpattern": {
             "fillmode": "overlay",
             "size": 10,
             "solidity": 0.2
            },
            "type": "scatter"
           }
          ],
          "scatter3d": [
           {
            "line": {
             "colorbar": {
              "outlinewidth": 0,
              "ticks": ""
             }
            },
            "marker": {
             "colorbar": {
              "outlinewidth": 0,
              "ticks": ""
             }
            },
            "type": "scatter3d"
           }
          ],
          "scattercarpet": [
           {
            "marker": {
             "colorbar": {
              "outlinewidth": 0,
              "ticks": ""
             }
            },
            "type": "scattercarpet"
           }
          ],
          "scattergeo": [
           {
            "marker": {
             "colorbar": {
              "outlinewidth": 0,
              "ticks": ""
             }
            },
            "type": "scattergeo"
           }
          ],
          "scattergl": [
           {
            "marker": {
             "colorbar": {
              "outlinewidth": 0,
              "ticks": ""
             }
            },
            "type": "scattergl"
           }
          ],
          "scattermapbox": [
           {
            "marker": {
             "colorbar": {
              "outlinewidth": 0,
              "ticks": ""
             }
            },
            "type": "scattermapbox"
           }
          ],
          "scatterpolar": [
           {
            "marker": {
             "colorbar": {
              "outlinewidth": 0,
              "ticks": ""
             }
            },
            "type": "scatterpolar"
           }
          ],
          "scatterpolargl": [
           {
            "marker": {
             "colorbar": {
              "outlinewidth": 0,
              "ticks": ""
             }
            },
            "type": "scatterpolargl"
           }
          ],
          "scatterternary": [
           {
            "marker": {
             "colorbar": {
              "outlinewidth": 0,
              "ticks": ""
             }
            },
            "type": "scatterternary"
           }
          ],
          "surface": [
           {
            "colorbar": {
             "outlinewidth": 0,
             "ticks": ""
            },
            "colorscale": [
             [
              0,
              "#0d0887"
             ],
             [
              0.1111111111111111,
              "#46039f"
             ],
             [
              0.2222222222222222,
              "#7201a8"
             ],
             [
              0.3333333333333333,
              "#9c179e"
             ],
             [
              0.4444444444444444,
              "#bd3786"
             ],
             [
              0.5555555555555556,
              "#d8576b"
             ],
             [
              0.6666666666666666,
              "#ed7953"
             ],
             [
              0.7777777777777778,
              "#fb9f3a"
             ],
             [
              0.8888888888888888,
              "#fdca26"
             ],
             [
              1,
              "#f0f921"
             ]
            ],
            "type": "surface"
           }
          ],
          "table": [
           {
            "cells": {
             "fill": {
              "color": "#EBF0F8"
             },
             "line": {
              "color": "white"
             }
            },
            "header": {
             "fill": {
              "color": "#C8D4E3"
             },
             "line": {
              "color": "white"
             }
            },
            "type": "table"
           }
          ]
         },
         "layout": {
          "annotationdefaults": {
           "arrowcolor": "#2a3f5f",
           "arrowhead": 0,
           "arrowwidth": 1
          },
          "autotypenumbers": "strict",
          "coloraxis": {
           "colorbar": {
            "outlinewidth": 0,
            "ticks": ""
           }
          },
          "colorscale": {
           "diverging": [
            [
             0,
             "#8e0152"
            ],
            [
             0.1,
             "#c51b7d"
            ],
            [
             0.2,
             "#de77ae"
            ],
            [
             0.3,
             "#f1b6da"
            ],
            [
             0.4,
             "#fde0ef"
            ],
            [
             0.5,
             "#f7f7f7"
            ],
            [
             0.6,
             "#e6f5d0"
            ],
            [
             0.7,
             "#b8e186"
            ],
            [
             0.8,
             "#7fbc41"
            ],
            [
             0.9,
             "#4d9221"
            ],
            [
             1,
             "#276419"
            ]
           ],
           "sequential": [
            [
             0,
             "#0d0887"
            ],
            [
             0.1111111111111111,
             "#46039f"
            ],
            [
             0.2222222222222222,
             "#7201a8"
            ],
            [
             0.3333333333333333,
             "#9c179e"
            ],
            [
             0.4444444444444444,
             "#bd3786"
            ],
            [
             0.5555555555555556,
             "#d8576b"
            ],
            [
             0.6666666666666666,
             "#ed7953"
            ],
            [
             0.7777777777777778,
             "#fb9f3a"
            ],
            [
             0.8888888888888888,
             "#fdca26"
            ],
            [
             1,
             "#f0f921"
            ]
           ],
           "sequentialminus": [
            [
             0,
             "#0d0887"
            ],
            [
             0.1111111111111111,
             "#46039f"
            ],
            [
             0.2222222222222222,
             "#7201a8"
            ],
            [
             0.3333333333333333,
             "#9c179e"
            ],
            [
             0.4444444444444444,
             "#bd3786"
            ],
            [
             0.5555555555555556,
             "#d8576b"
            ],
            [
             0.6666666666666666,
             "#ed7953"
            ],
            [
             0.7777777777777778,
             "#fb9f3a"
            ],
            [
             0.8888888888888888,
             "#fdca26"
            ],
            [
             1,
             "#f0f921"
            ]
           ]
          },
          "colorway": [
           "#636efa",
           "#EF553B",
           "#00cc96",
           "#ab63fa",
           "#FFA15A",
           "#19d3f3",
           "#FF6692",
           "#B6E880",
           "#FF97FF",
           "#FECB52"
          ],
          "font": {
           "color": "#2a3f5f"
          },
          "geo": {
           "bgcolor": "white",
           "lakecolor": "white",
           "landcolor": "#E5ECF6",
           "showlakes": true,
           "showland": true,
           "subunitcolor": "white"
          },
          "hoverlabel": {
           "align": "left"
          },
          "hovermode": "closest",
          "mapbox": {
           "style": "light"
          },
          "paper_bgcolor": "white",
          "plot_bgcolor": "#E5ECF6",
          "polar": {
           "angularaxis": {
            "gridcolor": "white",
            "linecolor": "white",
            "ticks": ""
           },
           "bgcolor": "#E5ECF6",
           "radialaxis": {
            "gridcolor": "white",
            "linecolor": "white",
            "ticks": ""
           }
          },
          "scene": {
           "xaxis": {
            "backgroundcolor": "#E5ECF6",
            "gridcolor": "white",
            "gridwidth": 2,
            "linecolor": "white",
            "showbackground": true,
            "ticks": "",
            "zerolinecolor": "white"
           },
           "yaxis": {
            "backgroundcolor": "#E5ECF6",
            "gridcolor": "white",
            "gridwidth": 2,
            "linecolor": "white",
            "showbackground": true,
            "ticks": "",
            "zerolinecolor": "white"
           },
           "zaxis": {
            "backgroundcolor": "#E5ECF6",
            "gridcolor": "white",
            "gridwidth": 2,
            "linecolor": "white",
            "showbackground": true,
            "ticks": "",
            "zerolinecolor": "white"
           }
          },
          "shapedefaults": {
           "line": {
            "color": "#2a3f5f"
           }
          },
          "ternary": {
           "aaxis": {
            "gridcolor": "white",
            "linecolor": "white",
            "ticks": ""
           },
           "baxis": {
            "gridcolor": "white",
            "linecolor": "white",
            "ticks": ""
           },
           "bgcolor": "#E5ECF6",
           "caxis": {
            "gridcolor": "white",
            "linecolor": "white",
            "ticks": ""
           }
          },
          "title": {
           "x": 0.05
          },
          "xaxis": {
           "automargin": true,
           "gridcolor": "white",
           "linecolor": "white",
           "ticks": "",
           "title": {
            "standoff": 15
           },
           "zerolinecolor": "white",
           "zerolinewidth": 2
          },
          "yaxis": {
           "automargin": true,
           "gridcolor": "white",
           "linecolor": "white",
           "ticks": "",
           "title": {
            "standoff": 15
           },
           "zerolinecolor": "white",
           "zerolinewidth": 2
          }
         }
        },
        "title": {
         "text": "Jaccard Similarity Over Time"
        },
        "xaxis": {
         "anchor": "y",
         "domain": [
          0,
          1
         ],
         "title": {
          "text": "checkpoint"
         },
         "type": "log"
        },
        "yaxis": {
         "anchor": "x",
         "domain": [
          0,
          1
         ],
         "title": {
          "text": "Jaccard Similarity to Checkpoint 2000"
         }
        },
        "yaxis2": {
         "overlaying": "y",
         "showgrid": false,
         "side": "right",
         "title": {
          "text": "Probability Difference"
         }
        }
       }
      },
      "text/html": [
       "<div>                            <div id=\"009cb93e-c541-4a4c-b7f4-b61da9ec716e\" class=\"plotly-graph-div\" style=\"height:525px; width:100%;\"></div>            <script type=\"text/javascript\">                require([\"plotly\"], function(Plotly) {                    window.PLOTLYENV=window.PLOTLYENV || {};                                    if (document.getElementById(\"009cb93e-c541-4a4c-b7f4-b61da9ec716e\")) {                    Plotly.newPlot(                        \"009cb93e-c541-4a4c-b7f4-b61da9ec716e\",                        [{\"hovertemplate\":\"variable=jaccard_similarity\\u003cbr\\u003echeckpoint=%{x}\\u003cbr\\u003evalue=%{y}\\u003cextra\\u003e\\u003c\\u002fextra\\u003e\",\"legendgroup\":\"jaccard_similarity\",\"line\":{\"color\":\"lightblue\",\"dash\":\"solid\"},\"marker\":{\"symbol\":\"circle\"},\"mode\":\"lines\",\"name\":\"jaccard_similarity\",\"orientation\":\"v\",\"showlegend\":true,\"x\":[1000,3000,4000,5000,6000,7000,8000,9000,10000,11000,12000,13000,14000,15000,16000,17000,18000,19000,20000,21000,22000,23000,24000,25000,26000,27000,28000,29000,30000,31000,32000,33000,34000,35000,36000,37000,38000,39000,40000,41000,42000,43000,44000,45000,46000,47000,48000,49000,50000,51000,52000,53000,54000,55000,56000,57000,58000,59000,60000,61000,62000,63000,64000,65000,66000,67000,68000,69000,70000,71000,72000,73000,74000,75000,76000,77000,78000,79000,80000,81000,82000,83000,84000,85000,86000,87000,88000,89000,90000,91000,92000,93000,94000,95000,96000,97000,98000,99000,100000,101000,102000,103000,104000,105000,106000,107000,108000,109000,110000,111000,112000,113000,114000,115000,116000,117000,118000,119000,120000,121000,122000,123000,124000,125000,126000,127000,128000,129000,130000,131000,132000,133000,134000,135000,136000,137000,138000,139000,140000,141000,142000,143000],\"xaxis\":\"x\",\"y\":[0.0,0.42424242424242425,0.4025974025974026,0.375,0.38095238095238093,0.3291139240506329,0.44565217391304346,0.4175824175824176,0.40963855421686746,0.43820224719101125,0.42391304347826086,0.4017857142857143,0.38235294117647056,0.3247863247863248,0.3577981651376147,0.3364485981308411,0.41509433962264153,0.37623762376237624,0.391304347826087,0.3482142857142857,0.38596491228070173,0.3464566929133858,0.35344827586206895,0.3208955223880597,0.25287356321839083,0.3645833333333333,0.3652173913043478,0.3504273504273504,0.30701754385964913,0.32,0.32407407407407407,0.33653846153846156,0.3524590163934426,0.32941176470588235,0.2962962962962963,0.3434343434343434,0.2891566265060241,0.3373493975903614,0.3177570093457944,0.275,0.2375,0.3258426966292135,0.2875,0.2976190476190476,0.2911392405063291,0.2911392405063291,0.32142857142857145,0.3181818181818182,0.28205128205128205,0.26582278481012656,0.32098765432098764,0.27848101265822783,0.2875,0.3,0.30864197530864196,0.26506024096385544,0.3037974683544304,0.32954545454545453,0.2988505747126437,0.25925925925925924,0.30851063829787234,0.32098765432098764,0.2978723404255319,0.35555555555555557,0.39080459770114945,0.3,0.31521739130434784,0.3170731707317073,0.2875,0.3048780487804878,0.27586206896551724,0.30952380952380953,0.33695652173913043,0.3372093023255814,0.30120481927710846,0.3170731707317073,0.37373737373737376,0.3473684210526316,0.32558139534883723,0.2765957446808511,0.3211009174311927,0.3402061855670103,0.32323232323232326,0.34831460674157305,0.2891566265060241,0.34523809523809523,0.2875,0.32558139534883723,0.30337078651685395,0.24050632911392406,0.25609756097560976,0.28735632183908044,0.2777777777777778,0.36363636363636365,0.26136363636363635,0.26136363636363635,0.2840909090909091,0.26373626373626374,0.3058823529411765,0.2777777777777778,0.2988505747126437,0.30303030303030304,0.27586206896551724,0.3146067415730337,0.3146067415730337,0.32558139534883723,0.21518987341772153,0.32954545454545453,0.22988505747126436,0.21428571428571427,0.33663366336633666,0.25287356321839083,0.2247191011235955,0.2222222222222222,0.2608695652173913,0.2840909090909091,0.336283185840708,0.225,0.2897196261682243,0.3235294117647059,0.3076923076923077,0.3076923076923077,0.3627450980392157,0.29545454545454547,0.37,0.33663366336633666,0.28125,0.25842696629213485,0.23170731707317074,0.24705882352941178,0.23076923076923078,0.20987654320987653,0.28888888888888886,0.3111111111111111,0.2345679012345679,0.3584905660377358,0.2619047619047619,0.3191489361702128,0.32978723404255317,0.27956989247311825,0.2840909090909091,0.33695652173913043],\"yaxis\":\"y\",\"type\":\"scatter\"},{\"line\":{\"color\":\"black\"},\"mode\":\"lines\",\"name\":\"perf_metric\",\"x\":[1000,3000,4000,5000,6000,7000,8000,9000,10000,11000,12000,13000,14000,15000,16000,17000,18000,19000,20000,21000,22000,23000,24000,25000,26000,27000,28000,29000,30000,31000,32000,33000,34000,35000,36000,37000,38000,39000,40000,41000,42000,43000,44000,45000,46000,47000,48000,49000,50000,51000,52000,53000,54000,55000,56000,57000,58000,59000,60000,61000,62000,63000,64000,65000,66000,67000,68000,69000,70000,71000,72000,73000,74000,75000,76000,77000,78000,79000,80000,81000,82000,83000,84000,85000,86000,87000,88000,89000,90000,91000,92000,93000,94000,95000,96000,97000,98000,99000,100000,101000,102000,103000,104000,105000,106000,107000,108000,109000,110000,111000,112000,113000,114000,115000,116000,117000,118000,119000,120000,121000,122000,123000,124000,125000,126000,127000,128000,129000,130000,131000,132000,133000,134000,135000,136000,137000,138000,139000,140000,141000,142000,143000],\"y\":[-0.17926901578903198,0.30164390802383423,0.5214207172393799,0.6283944845199585,0.42528706789016724,0.6616678237915039,0.5040611624717712,0.5024839639663696,0.5974746346473694,0.6558032035827637,0.4376274645328522,0.5673839449882507,0.5760918855667114,0.673001766204834,0.6555053234100342,0.6380088806152344,0.6205124378204345,0.6030159950256347,0.585519552230835,0.5996431350708008,0.6137667179107666,0.6278903007507324,0.6420138835906982,0.6561374664306641,0.6663044571876526,0.6764714479446411,0.6866384387016297,0.6968054294586181,0.7069724202156067,0.7357974052429199,0.7646223902702332,0.7934473752975464,0.8222723603248596,0.8510973453521729,0.8380409240722656,0.8249845027923584,0.8119280815124512,0.798871660232544,0.7858152389526367,0.79725341796875,0.8086915969848633,0.8201297760009766,0.8315679550170898,0.8430061340332031,0.846302616596222,0.8495990991592407,0.8528955817222595,0.8561920642852783,0.8594885468482971,0.8525122761726379,0.8455360054969787,0.8385597348213196,0.8315834641456604,0.8246071934700012,0.8252315759658814,0.8258559584617615,0.8264803409576416,0.8271047234535217,0.8277291059494019,0.8395205616950989,0.8513120174407959,0.8631034731864929,0.8748949289321899,0.886686384677887,0.88213552236557,0.8775846600532532,0.8730337977409363,0.8684829354286194,0.8639320731163025,0.8613804459571839,0.8588288187980652,0.8562771916389466,0.8537255644798278,0.8511739373207092,0.8486223101615906,0.8460706830024719,0.8435190558433533,0.8409674286842346,0.838415801525116,0.8408834636211395,0.8433511257171631,0.8458187878131866,0.8482864499092102,0.8507541120052338,0.8532217741012573,0.8556894361972809,0.8581570982933044,0.860624760389328,0.8630924224853516,0.8648158371448517,0.8665392518043518,0.868262666463852,0.8699860811233521,0.8717094957828522,0.8734329104423523,0.8751563251018524,0.8768797397613526,0.8786031544208527,0.8803265690803528,0.8766833901405334,0.8730402112007141,0.8693970322608948,0.8657538533210755,0.8621106743812561,0.8584674954414367,0.8548243165016174,0.8511811375617981,0.8475379586219788,0.8438947796821594,0.8408937096595764,0.8378926396369935,0.8348915696144104,0.8318904995918274,0.8288894295692444,0.8258883595466614,0.8228872895240784,0.8198862195014953,0.8168851494789123,0.8138840794563293,0.8138286948204041,0.8137733101844787,0.8137179255485535,0.8136625409126281,0.8136071562767029,0.8135517716407776,0.8134963870048523,0.813441002368927,0.8133856177330017,0.8133302330970764,0.814875864982605,0.8164214968681336,0.8179671287536621,0.8195127606391907,0.8210583925247192,0.8226040244102478,0.8241496562957764,0.8256952881813049,0.8272409200668335,0.8287865519523621,0.8287865519523621,0.8287865519523621,0.8287865519523621],\"yaxis\":\"y2\",\"type\":\"scatter\"}],                        {\"template\":{\"data\":{\"histogram2dcontour\":[{\"type\":\"histogram2dcontour\",\"colorbar\":{\"outlinewidth\":0,\"ticks\":\"\"},\"colorscale\":[[0.0,\"#0d0887\"],[0.1111111111111111,\"#46039f\"],[0.2222222222222222,\"#7201a8\"],[0.3333333333333333,\"#9c179e\"],[0.4444444444444444,\"#bd3786\"],[0.5555555555555556,\"#d8576b\"],[0.6666666666666666,\"#ed7953\"],[0.7777777777777778,\"#fb9f3a\"],[0.8888888888888888,\"#fdca26\"],[1.0,\"#f0f921\"]]}],\"choropleth\":[{\"type\":\"choropleth\",\"colorbar\":{\"outlinewidth\":0,\"ticks\":\"\"}}],\"histogram2d\":[{\"type\":\"histogram2d\",\"colorbar\":{\"outlinewidth\":0,\"ticks\":\"\"},\"colorscale\":[[0.0,\"#0d0887\"],[0.1111111111111111,\"#46039f\"],[0.2222222222222222,\"#7201a8\"],[0.3333333333333333,\"#9c179e\"],[0.4444444444444444,\"#bd3786\"],[0.5555555555555556,\"#d8576b\"],[0.6666666666666666,\"#ed7953\"],[0.7777777777777778,\"#fb9f3a\"],[0.8888888888888888,\"#fdca26\"],[1.0,\"#f0f921\"]]}],\"heatmap\":[{\"type\":\"heatmap\",\"colorbar\":{\"outlinewidth\":0,\"ticks\":\"\"},\"colorscale\":[[0.0,\"#0d0887\"],[0.1111111111111111,\"#46039f\"],[0.2222222222222222,\"#7201a8\"],[0.3333333333333333,\"#9c179e\"],[0.4444444444444444,\"#bd3786\"],[0.5555555555555556,\"#d8576b\"],[0.6666666666666666,\"#ed7953\"],[0.7777777777777778,\"#fb9f3a\"],[0.8888888888888888,\"#fdca26\"],[1.0,\"#f0f921\"]]}],\"heatmapgl\":[{\"type\":\"heatmapgl\",\"colorbar\":{\"outlinewidth\":0,\"ticks\":\"\"},\"colorscale\":[[0.0,\"#0d0887\"],[0.1111111111111111,\"#46039f\"],[0.2222222222222222,\"#7201a8\"],[0.3333333333333333,\"#9c179e\"],[0.4444444444444444,\"#bd3786\"],[0.5555555555555556,\"#d8576b\"],[0.6666666666666666,\"#ed7953\"],[0.7777777777777778,\"#fb9f3a\"],[0.8888888888888888,\"#fdca26\"],[1.0,\"#f0f921\"]]}],\"contourcarpet\":[{\"type\":\"contourcarpet\",\"colorbar\":{\"outlinewidth\":0,\"ticks\":\"\"}}],\"contour\":[{\"type\":\"contour\",\"colorbar\":{\"outlinewidth\":0,\"ticks\":\"\"},\"colorscale\":[[0.0,\"#0d0887\"],[0.1111111111111111,\"#46039f\"],[0.2222222222222222,\"#7201a8\"],[0.3333333333333333,\"#9c179e\"],[0.4444444444444444,\"#bd3786\"],[0.5555555555555556,\"#d8576b\"],[0.6666666666666666,\"#ed7953\"],[0.7777777777777778,\"#fb9f3a\"],[0.8888888888888888,\"#fdca26\"],[1.0,\"#f0f921\"]]}],\"surface\":[{\"type\":\"surface\",\"colorbar\":{\"outlinewidth\":0,\"ticks\":\"\"},\"colorscale\":[[0.0,\"#0d0887\"],[0.1111111111111111,\"#46039f\"],[0.2222222222222222,\"#7201a8\"],[0.3333333333333333,\"#9c179e\"],[0.4444444444444444,\"#bd3786\"],[0.5555555555555556,\"#d8576b\"],[0.6666666666666666,\"#ed7953\"],[0.7777777777777778,\"#fb9f3a\"],[0.8888888888888888,\"#fdca26\"],[1.0,\"#f0f921\"]]}],\"mesh3d\":[{\"type\":\"mesh3d\",\"colorbar\":{\"outlinewidth\":0,\"ticks\":\"\"}}],\"scatter\":[{\"fillpattern\":{\"fillmode\":\"overlay\",\"size\":10,\"solidity\":0.2},\"type\":\"scatter\"}],\"parcoords\":[{\"type\":\"parcoords\",\"line\":{\"colorbar\":{\"outlinewidth\":0,\"ticks\":\"\"}}}],\"scatterpolargl\":[{\"type\":\"scatterpolargl\",\"marker\":{\"colorbar\":{\"outlinewidth\":0,\"ticks\":\"\"}}}],\"bar\":[{\"error_x\":{\"color\":\"#2a3f5f\"},\"error_y\":{\"color\":\"#2a3f5f\"},\"marker\":{\"line\":{\"color\":\"#E5ECF6\",\"width\":0.5},\"pattern\":{\"fillmode\":\"overlay\",\"size\":10,\"solidity\":0.2}},\"type\":\"bar\"}],\"scattergeo\":[{\"type\":\"scattergeo\",\"marker\":{\"colorbar\":{\"outlinewidth\":0,\"ticks\":\"\"}}}],\"scatterpolar\":[{\"type\":\"scatterpolar\",\"marker\":{\"colorbar\":{\"outlinewidth\":0,\"ticks\":\"\"}}}],\"histogram\":[{\"marker\":{\"pattern\":{\"fillmode\":\"overlay\",\"size\":10,\"solidity\":0.2}},\"type\":\"histogram\"}],\"scattergl\":[{\"type\":\"scattergl\",\"marker\":{\"colorbar\":{\"outlinewidth\":0,\"ticks\":\"\"}}}],\"scatter3d\":[{\"type\":\"scatter3d\",\"line\":{\"colorbar\":{\"outlinewidth\":0,\"ticks\":\"\"}},\"marker\":{\"colorbar\":{\"outlinewidth\":0,\"ticks\":\"\"}}}],\"scattermapbox\":[{\"type\":\"scattermapbox\",\"marker\":{\"colorbar\":{\"outlinewidth\":0,\"ticks\":\"\"}}}],\"scatterternary\":[{\"type\":\"scatterternary\",\"marker\":{\"colorbar\":{\"outlinewidth\":0,\"ticks\":\"\"}}}],\"scattercarpet\":[{\"type\":\"scattercarpet\",\"marker\":{\"colorbar\":{\"outlinewidth\":0,\"ticks\":\"\"}}}],\"carpet\":[{\"aaxis\":{\"endlinecolor\":\"#2a3f5f\",\"gridcolor\":\"white\",\"linecolor\":\"white\",\"minorgridcolor\":\"white\",\"startlinecolor\":\"#2a3f5f\"},\"baxis\":{\"endlinecolor\":\"#2a3f5f\",\"gridcolor\":\"white\",\"linecolor\":\"white\",\"minorgridcolor\":\"white\",\"startlinecolor\":\"#2a3f5f\"},\"type\":\"carpet\"}],\"table\":[{\"cells\":{\"fill\":{\"color\":\"#EBF0F8\"},\"line\":{\"color\":\"white\"}},\"header\":{\"fill\":{\"color\":\"#C8D4E3\"},\"line\":{\"color\":\"white\"}},\"type\":\"table\"}],\"barpolar\":[{\"marker\":{\"line\":{\"color\":\"#E5ECF6\",\"width\":0.5},\"pattern\":{\"fillmode\":\"overlay\",\"size\":10,\"solidity\":0.2}},\"type\":\"barpolar\"}],\"pie\":[{\"automargin\":true,\"type\":\"pie\"}]},\"layout\":{\"autotypenumbers\":\"strict\",\"colorway\":[\"#636efa\",\"#EF553B\",\"#00cc96\",\"#ab63fa\",\"#FFA15A\",\"#19d3f3\",\"#FF6692\",\"#B6E880\",\"#FF97FF\",\"#FECB52\"],\"font\":{\"color\":\"#2a3f5f\"},\"hovermode\":\"closest\",\"hoverlabel\":{\"align\":\"left\"},\"paper_bgcolor\":\"white\",\"plot_bgcolor\":\"#E5ECF6\",\"polar\":{\"bgcolor\":\"#E5ECF6\",\"angularaxis\":{\"gridcolor\":\"white\",\"linecolor\":\"white\",\"ticks\":\"\"},\"radialaxis\":{\"gridcolor\":\"white\",\"linecolor\":\"white\",\"ticks\":\"\"}},\"ternary\":{\"bgcolor\":\"#E5ECF6\",\"aaxis\":{\"gridcolor\":\"white\",\"linecolor\":\"white\",\"ticks\":\"\"},\"baxis\":{\"gridcolor\":\"white\",\"linecolor\":\"white\",\"ticks\":\"\"},\"caxis\":{\"gridcolor\":\"white\",\"linecolor\":\"white\",\"ticks\":\"\"}},\"coloraxis\":{\"colorbar\":{\"outlinewidth\":0,\"ticks\":\"\"}},\"colorscale\":{\"sequential\":[[0.0,\"#0d0887\"],[0.1111111111111111,\"#46039f\"],[0.2222222222222222,\"#7201a8\"],[0.3333333333333333,\"#9c179e\"],[0.4444444444444444,\"#bd3786\"],[0.5555555555555556,\"#d8576b\"],[0.6666666666666666,\"#ed7953\"],[0.7777777777777778,\"#fb9f3a\"],[0.8888888888888888,\"#fdca26\"],[1.0,\"#f0f921\"]],\"sequentialminus\":[[0.0,\"#0d0887\"],[0.1111111111111111,\"#46039f\"],[0.2222222222222222,\"#7201a8\"],[0.3333333333333333,\"#9c179e\"],[0.4444444444444444,\"#bd3786\"],[0.5555555555555556,\"#d8576b\"],[0.6666666666666666,\"#ed7953\"],[0.7777777777777778,\"#fb9f3a\"],[0.8888888888888888,\"#fdca26\"],[1.0,\"#f0f921\"]],\"diverging\":[[0,\"#8e0152\"],[0.1,\"#c51b7d\"],[0.2,\"#de77ae\"],[0.3,\"#f1b6da\"],[0.4,\"#fde0ef\"],[0.5,\"#f7f7f7\"],[0.6,\"#e6f5d0\"],[0.7,\"#b8e186\"],[0.8,\"#7fbc41\"],[0.9,\"#4d9221\"],[1,\"#276419\"]]},\"xaxis\":{\"gridcolor\":\"white\",\"linecolor\":\"white\",\"ticks\":\"\",\"title\":{\"standoff\":15},\"zerolinecolor\":\"white\",\"automargin\":true,\"zerolinewidth\":2},\"yaxis\":{\"gridcolor\":\"white\",\"linecolor\":\"white\",\"ticks\":\"\",\"title\":{\"standoff\":15},\"zerolinecolor\":\"white\",\"automargin\":true,\"zerolinewidth\":2},\"scene\":{\"xaxis\":{\"backgroundcolor\":\"#E5ECF6\",\"gridcolor\":\"white\",\"linecolor\":\"white\",\"showbackground\":true,\"ticks\":\"\",\"zerolinecolor\":\"white\",\"gridwidth\":2},\"yaxis\":{\"backgroundcolor\":\"#E5ECF6\",\"gridcolor\":\"white\",\"linecolor\":\"white\",\"showbackground\":true,\"ticks\":\"\",\"zerolinecolor\":\"white\",\"gridwidth\":2},\"zaxis\":{\"backgroundcolor\":\"#E5ECF6\",\"gridcolor\":\"white\",\"linecolor\":\"white\",\"showbackground\":true,\"ticks\":\"\",\"zerolinecolor\":\"white\",\"gridwidth\":2}},\"shapedefaults\":{\"line\":{\"color\":\"#2a3f5f\"}},\"annotationdefaults\":{\"arrowcolor\":\"#2a3f5f\",\"arrowhead\":0,\"arrowwidth\":1},\"geo\":{\"bgcolor\":\"white\",\"landcolor\":\"#E5ECF6\",\"subunitcolor\":\"white\",\"showland\":true,\"showlakes\":true,\"lakecolor\":\"white\"},\"title\":{\"x\":0.05},\"mapbox\":{\"style\":\"light\"}}},\"xaxis\":{\"anchor\":\"y\",\"domain\":[0.0,1.0],\"title\":{\"text\":\"checkpoint\"},\"type\":\"log\"},\"yaxis\":{\"anchor\":\"x\",\"domain\":[0.0,1.0],\"title\":{\"text\":\"Jaccard Similarity to Checkpoint 2000\"}},\"legend\":{\"title\":{\"text\":\"variable\"},\"tracegroupgap\":0},\"title\":{\"text\":\"Jaccard Similarity Over Time\"},\"yaxis2\":{\"title\":{\"text\":\"Probability Difference\"},\"overlaying\":\"y\",\"side\":\"right\",\"showgrid\":false}},                        {\"responsive\": true}                    ).then(function(){\n",
       "                            \n",
       "var gd = document.getElementById('009cb93e-c541-4a4c-b7f4-b61da9ec716e');\n",
       "var x = new MutationObserver(function (mutations, observer) {{\n",
       "        var display = window.getComputedStyle(gd).display;\n",
       "        if (!display || display === 'none') {{\n",
       "            console.log([gd, 'removed!']);\n",
       "            Plotly.purge(gd);\n",
       "            observer.disconnect();\n",
       "        }}\n",
       "}});\n",
       "\n",
       "// Listen for the removal of the full notebook cells\n",
       "var notebookContainer = gd.closest('#notebook-container');\n",
       "if (notebookContainer) {{\n",
       "    x.observe(notebookContainer, {childList: true});\n",
       "}}\n",
       "\n",
       "// Listen for the clearing of the current output cell\n",
       "var outputEl = gd.closest('.output');\n",
       "if (outputEl) {{\n",
       "    x.observe(outputEl, {childList: true});\n",
       "}}\n",
       "\n",
       "                        })                };                });            </script>        </div>"
      ]
     },
     "metadata": {},
     "output_type": "display_data"
    }
   ],
   "source": [
    "comparison_checkpoint = 2000\n",
    "\n",
    "jaccard_reference_results = compute_jaccard_similarity_to_reference(df, comparison_checkpoint)\n",
    "\n",
    "# Add a new column for the performance metric by mapping the checkpoint_2 values using the perf_metric_dict\n",
    "jaccard_reference_results['perf_metric'] = jaccard_reference_results['checkpoint'].map(perf_metric_dict)\n",
    "\n",
    "# Interpolate missing values\n",
    "jaccard_reference_results['perf_metric'] = jaccard_reference_results['perf_metric'].interpolate(method='linear')\n",
    "\n",
    "# plot jaccard similarity over time\n",
    "fig = px.line(jaccard_reference_results, x='checkpoint', y=['jaccard_similarity'], title='Jaccard Similarity Over Time', log_x=True)\n",
    "\n",
    "# Specify colors for each line\n",
    "colors = {'jaccard_similarity': 'lightblue', 'perf_metric': 'black'}\n",
    "\n",
    "# Update each trace with the specified color\n",
    "for i, trace in enumerate(fig.data):\n",
    "    fig.data[i].update(line=dict(color=colors[trace.name]))\n",
    "\n",
    "\n",
    "fig.update_layout(\n",
    "    yaxis2=dict(title=\"Probability Difference\", overlaying=\"y\", side=\"right\", showgrid=False)\n",
    ")\n",
    "fig.add_trace(\n",
    "    go.Scatter(x=jaccard_reference_results['checkpoint'], y=jaccard_reference_results['perf_metric'], name='perf_metric', mode='lines', yaxis='y2', line=dict(color=colors['perf_metric']))\n",
    ")\n",
    "\n",
    "# Optional: Update the layout if you need to adjust titles or other aesthetics\n",
    "fig.update_layout(\n",
    "    yaxis_title=f\"Jaccard Similarity to Checkpoint {comparison_checkpoint}\"\n",
    ")\n",
    "\n",
    "fig.show()"
   ]
  },
  {
   "cell_type": "code",
   "execution_count": 14,
   "metadata": {},
   "outputs": [
    {
     "data": {
      "application/vnd.plotly.v1+json": {
       "config": {
        "plotlyServerURL": "https://plot.ly"
       },
       "data": [
        {
         "hovertemplate": "variable=jaccard_similarity<br>checkpoint=%{x}<br>value=%{y}<extra></extra>",
         "legendgroup": "jaccard_similarity",
         "line": {
          "color": "lightblue",
          "dash": "solid"
         },
         "marker": {
          "symbol": "circle"
         },
         "mode": "lines",
         "name": "jaccard_similarity",
         "orientation": "v",
         "showlegend": true,
         "type": "scatter",
         "x": [
          1000,
          2000,
          3000,
          4000,
          5000,
          6000,
          7000,
          8000,
          9000,
          10000,
          11000,
          12000,
          13000,
          14000,
          15000,
          16000,
          17000,
          18000,
          19000,
          20000,
          21000,
          22000,
          23000,
          24000,
          25000,
          26000,
          27000,
          28000,
          29000,
          30000,
          31000,
          32000,
          33000,
          34000,
          35000,
          36000,
          37000,
          38000,
          39000,
          40000,
          41000,
          42000,
          43000,
          44000,
          45000,
          46000,
          47000,
          48000,
          49000,
          50000,
          51000,
          52000,
          53000,
          54000,
          55000,
          56000,
          57000,
          58000,
          59000,
          60000,
          61000,
          62000,
          63000,
          64000,
          65000,
          66000,
          67000,
          68000,
          69000,
          70000,
          71000,
          72000,
          73000,
          74000,
          75000,
          76000,
          77000,
          78000,
          79000,
          80000,
          81000,
          82000,
          83000,
          84000,
          85000,
          86000,
          87000,
          88000,
          89000,
          90000,
          91000,
          92000,
          93000,
          94000,
          95000,
          96000,
          97000,
          98000,
          99000,
          100000,
          101000,
          102000,
          103000,
          104000,
          105000,
          106000,
          107000,
          108000,
          109000,
          110000,
          111000,
          112000,
          113000,
          114000,
          115000,
          116000,
          117000,
          118000,
          119000,
          120000,
          121000,
          122000,
          123000,
          124000,
          125000,
          126000,
          127000,
          128000,
          129000,
          130000,
          131000,
          132000,
          133000,
          134000,
          135000,
          136000,
          137000,
          138000,
          139000,
          140000,
          141000,
          142000
         ],
         "xaxis": "x",
         "y": [
          0,
          0.33695652173913043,
          0.25196850393700787,
          0.3620689655172414,
          0.2857142857142857,
          0.29850746268656714,
          0.4074074074074074,
          0.40540540540540543,
          0.3698630136986301,
          0.375,
          0.39436619718309857,
          0.3972602739726027,
          0.4065934065934066,
          0.4177215189873418,
          0.3695652173913043,
          0.3522727272727273,
          0.37349397590361444,
          0.39080459770114945,
          0.34146341463414637,
          0.35051546391752575,
          0.32608695652173914,
          0.35789473684210527,
          0.33962264150943394,
          0.3763440860215054,
          0.32142857142857145,
          0.2684563758389262,
          0.4166666666666667,
          0.3617021276595745,
          0.3723404255319149,
          0.34831460674157305,
          0.4305555555555556,
          0.425,
          0.3924050632911392,
          0.36,
          0.423728813559322,
          0.35714285714285715,
          0.4246575342465753,
          0.3684210526315789,
          0.43859649122807015,
          0.4,
          0.40384615384615385,
          0.4,
          0.48333333333333334,
          0.39622641509433965,
          0.45454545454545453,
          0.40384615384615385,
          0.40384615384615385,
          0.4909090909090909,
          0.45,
          0.39215686274509803,
          0.39215686274509803,
          0.4444444444444444,
          0.4117647058823529,
          0.4230769230769231,
          0.41509433962264153,
          0.4528301886792453,
          0.4339622641509434,
          0.45098039215686275,
          0.5172413793103449,
          0.5272727272727272,
          0.37735849056603776,
          0.42424242424242425,
          0.5294117647058824,
          0.47619047619047616,
          0.47619047619047616,
          0.5333333333333333,
          0.47058823529411764,
          0.5333333333333333,
          0.49056603773584906,
          0.45098039215686275,
          0.5294117647058824,
          0.4642857142857143,
          0.44642857142857145,
          0.5161290322580645,
          0.4576271186440678,
          0.49056603773584906,
          0.46296296296296297,
          0.4861111111111111,
          0.5230769230769231,
          0.5178571428571429,
          0.5423728813559322,
          0.4935064935064935,
          0.5538461538461539,
          0.5454545454545454,
          0.6851851851851852,
          0.5,
          0.5555555555555556,
          0.5102040816326531,
          0.6037735849056604,
          0.6111111111111112,
          0.46808510638297873,
          0.574468085106383,
          0.6274509803921569,
          0.5636363636363636,
          0.6851851851851852,
          0.64,
          0.5185185185185185,
          0.5849056603773585,
          0.5636363636363636,
          0.5769230769230769,
          0.5925925925925926,
          0.5555555555555556,
          0.639344262295082,
          0.5769230769230769,
          0.5714285714285714,
          0.6296296296296297,
          0.6666666666666666,
          0.425531914893617,
          0.660377358490566,
          0.5918367346938775,
          0.5531914893617021,
          0.6307692307692307,
          0.6326530612244898,
          0.6326530612244898,
          0.48936170212765956,
          0.7058823529411765,
          0.7142857142857143,
          0.6052631578947368,
          0.46808510638297873,
          0.6029411764705882,
          0.7096774193548387,
          0.671875,
          0.7307692307692307,
          0.746031746031746,
          0.4489795918367347,
          0.6363636363636364,
          0.65625,
          0.7407407407407407,
          0.5961538461538461,
          0.5319148936170213,
          0.5714285714285714,
          0.425531914893617,
          0.46808510638297873,
          0.6730769230769231,
          0.7450980392156863,
          0.4489795918367347,
          0.5972222222222222,
          0.5714285714285714,
          0.7272727272727273,
          0.92,
          0.8,
          0.6470588235294118
         ],
         "yaxis": "y"
        },
        {
         "line": {
          "color": "black"
         },
         "mode": "lines",
         "name": "perf_metric",
         "type": "scatter",
         "x": [
          1000,
          2000,
          3000,
          4000,
          5000,
          6000,
          7000,
          8000,
          9000,
          10000,
          11000,
          12000,
          13000,
          14000,
          15000,
          16000,
          17000,
          18000,
          19000,
          20000,
          21000,
          22000,
          23000,
          24000,
          25000,
          26000,
          27000,
          28000,
          29000,
          30000,
          31000,
          32000,
          33000,
          34000,
          35000,
          36000,
          37000,
          38000,
          39000,
          40000,
          41000,
          42000,
          43000,
          44000,
          45000,
          46000,
          47000,
          48000,
          49000,
          50000,
          51000,
          52000,
          53000,
          54000,
          55000,
          56000,
          57000,
          58000,
          59000,
          60000,
          61000,
          62000,
          63000,
          64000,
          65000,
          66000,
          67000,
          68000,
          69000,
          70000,
          71000,
          72000,
          73000,
          74000,
          75000,
          76000,
          77000,
          78000,
          79000,
          80000,
          81000,
          82000,
          83000,
          84000,
          85000,
          86000,
          87000,
          88000,
          89000,
          90000,
          91000,
          92000,
          93000,
          94000,
          95000,
          96000,
          97000,
          98000,
          99000,
          100000,
          101000,
          102000,
          103000,
          104000,
          105000,
          106000,
          107000,
          108000,
          109000,
          110000,
          111000,
          112000,
          113000,
          114000,
          115000,
          116000,
          117000,
          118000,
          119000,
          120000,
          121000,
          122000,
          123000,
          124000,
          125000,
          126000,
          127000,
          128000,
          129000,
          130000,
          131000,
          132000,
          133000,
          134000,
          135000,
          136000,
          137000,
          138000,
          139000,
          140000,
          141000,
          142000
         ],
         "y": [
          -0.17926901578903198,
          0.14408066868782043,
          0.30164390802383423,
          0.5214207172393799,
          0.6283944845199585,
          0.42528706789016724,
          0.6616678237915039,
          0.5040611624717712,
          0.5024839639663696,
          0.5974746346473694,
          0.6558032035827637,
          0.4376274645328522,
          0.5673839449882507,
          0.5760918855667114,
          0.673001766204834,
          0.6555053234100342,
          0.6380088806152344,
          0.6205124378204345,
          0.6030159950256347,
          0.585519552230835,
          0.5996431350708008,
          0.6137667179107666,
          0.6278903007507324,
          0.6420138835906982,
          0.6561374664306641,
          0.6663044571876526,
          0.6764714479446411,
          0.6866384387016297,
          0.6968054294586181,
          0.7069724202156067,
          0.7357974052429199,
          0.7646223902702332,
          0.7934473752975464,
          0.8222723603248596,
          0.8510973453521729,
          0.8380409240722656,
          0.8249845027923584,
          0.8119280815124512,
          0.798871660232544,
          0.7858152389526367,
          0.79725341796875,
          0.8086915969848633,
          0.8201297760009766,
          0.8315679550170898,
          0.8430061340332031,
          0.846302616596222,
          0.8495990991592407,
          0.8528955817222595,
          0.8561920642852783,
          0.8594885468482971,
          0.8525122761726379,
          0.8455360054969787,
          0.8385597348213196,
          0.8315834641456604,
          0.8246071934700012,
          0.8252315759658814,
          0.8258559584617615,
          0.8264803409576416,
          0.8271047234535217,
          0.8277291059494019,
          0.8395205616950989,
          0.8513120174407959,
          0.8631034731864929,
          0.8748949289321899,
          0.886686384677887,
          0.88213552236557,
          0.8775846600532532,
          0.8730337977409363,
          0.8684829354286194,
          0.8639320731163025,
          0.8613804459571839,
          0.8588288187980652,
          0.8562771916389466,
          0.8537255644798278,
          0.8511739373207092,
          0.8486223101615906,
          0.8460706830024719,
          0.8435190558433533,
          0.8409674286842346,
          0.838415801525116,
          0.8408834636211395,
          0.8433511257171631,
          0.8458187878131866,
          0.8482864499092102,
          0.8507541120052338,
          0.8532217741012573,
          0.8556894361972809,
          0.8581570982933044,
          0.860624760389328,
          0.8630924224853516,
          0.8648158371448517,
          0.8665392518043518,
          0.868262666463852,
          0.8699860811233521,
          0.8717094957828522,
          0.8734329104423523,
          0.8751563251018524,
          0.8768797397613526,
          0.8786031544208527,
          0.8803265690803528,
          0.8766833901405334,
          0.8730402112007141,
          0.8693970322608948,
          0.8657538533210755,
          0.8621106743812561,
          0.8584674954414367,
          0.8548243165016174,
          0.8511811375617981,
          0.8475379586219788,
          0.8438947796821594,
          0.8408937096595764,
          0.8378926396369935,
          0.8348915696144104,
          0.8318904995918274,
          0.8288894295692444,
          0.8258883595466614,
          0.8228872895240784,
          0.8198862195014953,
          0.8168851494789123,
          0.8138840794563293,
          0.8138286948204041,
          0.8137733101844787,
          0.8137179255485535,
          0.8136625409126281,
          0.8136071562767029,
          0.8135517716407776,
          0.8134963870048523,
          0.813441002368927,
          0.8133856177330017,
          0.8133302330970764,
          0.814875864982605,
          0.8164214968681336,
          0.8179671287536621,
          0.8195127606391907,
          0.8210583925247192,
          0.8226040244102478,
          0.8241496562957764,
          0.8256952881813049,
          0.8272409200668335,
          0.8287865519523621,
          0.8287865519523621,
          0.8287865519523621
         ],
         "yaxis": "y2"
        }
       ],
       "layout": {
        "legend": {
         "title": {
          "text": "variable"
         },
         "tracegroupgap": 0
        },
        "template": {
         "data": {
          "bar": [
           {
            "error_x": {
             "color": "#2a3f5f"
            },
            "error_y": {
             "color": "#2a3f5f"
            },
            "marker": {
             "line": {
              "color": "#E5ECF6",
              "width": 0.5
             },
             "pattern": {
              "fillmode": "overlay",
              "size": 10,
              "solidity": 0.2
             }
            },
            "type": "bar"
           }
          ],
          "barpolar": [
           {
            "marker": {
             "line": {
              "color": "#E5ECF6",
              "width": 0.5
             },
             "pattern": {
              "fillmode": "overlay",
              "size": 10,
              "solidity": 0.2
             }
            },
            "type": "barpolar"
           }
          ],
          "carpet": [
           {
            "aaxis": {
             "endlinecolor": "#2a3f5f",
             "gridcolor": "white",
             "linecolor": "white",
             "minorgridcolor": "white",
             "startlinecolor": "#2a3f5f"
            },
            "baxis": {
             "endlinecolor": "#2a3f5f",
             "gridcolor": "white",
             "linecolor": "white",
             "minorgridcolor": "white",
             "startlinecolor": "#2a3f5f"
            },
            "type": "carpet"
           }
          ],
          "choropleth": [
           {
            "colorbar": {
             "outlinewidth": 0,
             "ticks": ""
            },
            "type": "choropleth"
           }
          ],
          "contour": [
           {
            "colorbar": {
             "outlinewidth": 0,
             "ticks": ""
            },
            "colorscale": [
             [
              0,
              "#0d0887"
             ],
             [
              0.1111111111111111,
              "#46039f"
             ],
             [
              0.2222222222222222,
              "#7201a8"
             ],
             [
              0.3333333333333333,
              "#9c179e"
             ],
             [
              0.4444444444444444,
              "#bd3786"
             ],
             [
              0.5555555555555556,
              "#d8576b"
             ],
             [
              0.6666666666666666,
              "#ed7953"
             ],
             [
              0.7777777777777778,
              "#fb9f3a"
             ],
             [
              0.8888888888888888,
              "#fdca26"
             ],
             [
              1,
              "#f0f921"
             ]
            ],
            "type": "contour"
           }
          ],
          "contourcarpet": [
           {
            "colorbar": {
             "outlinewidth": 0,
             "ticks": ""
            },
            "type": "contourcarpet"
           }
          ],
          "heatmap": [
           {
            "colorbar": {
             "outlinewidth": 0,
             "ticks": ""
            },
            "colorscale": [
             [
              0,
              "#0d0887"
             ],
             [
              0.1111111111111111,
              "#46039f"
             ],
             [
              0.2222222222222222,
              "#7201a8"
             ],
             [
              0.3333333333333333,
              "#9c179e"
             ],
             [
              0.4444444444444444,
              "#bd3786"
             ],
             [
              0.5555555555555556,
              "#d8576b"
             ],
             [
              0.6666666666666666,
              "#ed7953"
             ],
             [
              0.7777777777777778,
              "#fb9f3a"
             ],
             [
              0.8888888888888888,
              "#fdca26"
             ],
             [
              1,
              "#f0f921"
             ]
            ],
            "type": "heatmap"
           }
          ],
          "heatmapgl": [
           {
            "colorbar": {
             "outlinewidth": 0,
             "ticks": ""
            },
            "colorscale": [
             [
              0,
              "#0d0887"
             ],
             [
              0.1111111111111111,
              "#46039f"
             ],
             [
              0.2222222222222222,
              "#7201a8"
             ],
             [
              0.3333333333333333,
              "#9c179e"
             ],
             [
              0.4444444444444444,
              "#bd3786"
             ],
             [
              0.5555555555555556,
              "#d8576b"
             ],
             [
              0.6666666666666666,
              "#ed7953"
             ],
             [
              0.7777777777777778,
              "#fb9f3a"
             ],
             [
              0.8888888888888888,
              "#fdca26"
             ],
             [
              1,
              "#f0f921"
             ]
            ],
            "type": "heatmapgl"
           }
          ],
          "histogram": [
           {
            "marker": {
             "pattern": {
              "fillmode": "overlay",
              "size": 10,
              "solidity": 0.2
             }
            },
            "type": "histogram"
           }
          ],
          "histogram2d": [
           {
            "colorbar": {
             "outlinewidth": 0,
             "ticks": ""
            },
            "colorscale": [
             [
              0,
              "#0d0887"
             ],
             [
              0.1111111111111111,
              "#46039f"
             ],
             [
              0.2222222222222222,
              "#7201a8"
             ],
             [
              0.3333333333333333,
              "#9c179e"
             ],
             [
              0.4444444444444444,
              "#bd3786"
             ],
             [
              0.5555555555555556,
              "#d8576b"
             ],
             [
              0.6666666666666666,
              "#ed7953"
             ],
             [
              0.7777777777777778,
              "#fb9f3a"
             ],
             [
              0.8888888888888888,
              "#fdca26"
             ],
             [
              1,
              "#f0f921"
             ]
            ],
            "type": "histogram2d"
           }
          ],
          "histogram2dcontour": [
           {
            "colorbar": {
             "outlinewidth": 0,
             "ticks": ""
            },
            "colorscale": [
             [
              0,
              "#0d0887"
             ],
             [
              0.1111111111111111,
              "#46039f"
             ],
             [
              0.2222222222222222,
              "#7201a8"
             ],
             [
              0.3333333333333333,
              "#9c179e"
             ],
             [
              0.4444444444444444,
              "#bd3786"
             ],
             [
              0.5555555555555556,
              "#d8576b"
             ],
             [
              0.6666666666666666,
              "#ed7953"
             ],
             [
              0.7777777777777778,
              "#fb9f3a"
             ],
             [
              0.8888888888888888,
              "#fdca26"
             ],
             [
              1,
              "#f0f921"
             ]
            ],
            "type": "histogram2dcontour"
           }
          ],
          "mesh3d": [
           {
            "colorbar": {
             "outlinewidth": 0,
             "ticks": ""
            },
            "type": "mesh3d"
           }
          ],
          "parcoords": [
           {
            "line": {
             "colorbar": {
              "outlinewidth": 0,
              "ticks": ""
             }
            },
            "type": "parcoords"
           }
          ],
          "pie": [
           {
            "automargin": true,
            "type": "pie"
           }
          ],
          "scatter": [
           {
            "fillpattern": {
             "fillmode": "overlay",
             "size": 10,
             "solidity": 0.2
            },
            "type": "scatter"
           }
          ],
          "scatter3d": [
           {
            "line": {
             "colorbar": {
              "outlinewidth": 0,
              "ticks": ""
             }
            },
            "marker": {
             "colorbar": {
              "outlinewidth": 0,
              "ticks": ""
             }
            },
            "type": "scatter3d"
           }
          ],
          "scattercarpet": [
           {
            "marker": {
             "colorbar": {
              "outlinewidth": 0,
              "ticks": ""
             }
            },
            "type": "scattercarpet"
           }
          ],
          "scattergeo": [
           {
            "marker": {
             "colorbar": {
              "outlinewidth": 0,
              "ticks": ""
             }
            },
            "type": "scattergeo"
           }
          ],
          "scattergl": [
           {
            "marker": {
             "colorbar": {
              "outlinewidth": 0,
              "ticks": ""
             }
            },
            "type": "scattergl"
           }
          ],
          "scattermapbox": [
           {
            "marker": {
             "colorbar": {
              "outlinewidth": 0,
              "ticks": ""
             }
            },
            "type": "scattermapbox"
           }
          ],
          "scatterpolar": [
           {
            "marker": {
             "colorbar": {
              "outlinewidth": 0,
              "ticks": ""
             }
            },
            "type": "scatterpolar"
           }
          ],
          "scatterpolargl": [
           {
            "marker": {
             "colorbar": {
              "outlinewidth": 0,
              "ticks": ""
             }
            },
            "type": "scatterpolargl"
           }
          ],
          "scatterternary": [
           {
            "marker": {
             "colorbar": {
              "outlinewidth": 0,
              "ticks": ""
             }
            },
            "type": "scatterternary"
           }
          ],
          "surface": [
           {
            "colorbar": {
             "outlinewidth": 0,
             "ticks": ""
            },
            "colorscale": [
             [
              0,
              "#0d0887"
             ],
             [
              0.1111111111111111,
              "#46039f"
             ],
             [
              0.2222222222222222,
              "#7201a8"
             ],
             [
              0.3333333333333333,
              "#9c179e"
             ],
             [
              0.4444444444444444,
              "#bd3786"
             ],
             [
              0.5555555555555556,
              "#d8576b"
             ],
             [
              0.6666666666666666,
              "#ed7953"
             ],
             [
              0.7777777777777778,
              "#fb9f3a"
             ],
             [
              0.8888888888888888,
              "#fdca26"
             ],
             [
              1,
              "#f0f921"
             ]
            ],
            "type": "surface"
           }
          ],
          "table": [
           {
            "cells": {
             "fill": {
              "color": "#EBF0F8"
             },
             "line": {
              "color": "white"
             }
            },
            "header": {
             "fill": {
              "color": "#C8D4E3"
             },
             "line": {
              "color": "white"
             }
            },
            "type": "table"
           }
          ]
         },
         "layout": {
          "annotationdefaults": {
           "arrowcolor": "#2a3f5f",
           "arrowhead": 0,
           "arrowwidth": 1
          },
          "autotypenumbers": "strict",
          "coloraxis": {
           "colorbar": {
            "outlinewidth": 0,
            "ticks": ""
           }
          },
          "colorscale": {
           "diverging": [
            [
             0,
             "#8e0152"
            ],
            [
             0.1,
             "#c51b7d"
            ],
            [
             0.2,
             "#de77ae"
            ],
            [
             0.3,
             "#f1b6da"
            ],
            [
             0.4,
             "#fde0ef"
            ],
            [
             0.5,
             "#f7f7f7"
            ],
            [
             0.6,
             "#e6f5d0"
            ],
            [
             0.7,
             "#b8e186"
            ],
            [
             0.8,
             "#7fbc41"
            ],
            [
             0.9,
             "#4d9221"
            ],
            [
             1,
             "#276419"
            ]
           ],
           "sequential": [
            [
             0,
             "#0d0887"
            ],
            [
             0.1111111111111111,
             "#46039f"
            ],
            [
             0.2222222222222222,
             "#7201a8"
            ],
            [
             0.3333333333333333,
             "#9c179e"
            ],
            [
             0.4444444444444444,
             "#bd3786"
            ],
            [
             0.5555555555555556,
             "#d8576b"
            ],
            [
             0.6666666666666666,
             "#ed7953"
            ],
            [
             0.7777777777777778,
             "#fb9f3a"
            ],
            [
             0.8888888888888888,
             "#fdca26"
            ],
            [
             1,
             "#f0f921"
            ]
           ],
           "sequentialminus": [
            [
             0,
             "#0d0887"
            ],
            [
             0.1111111111111111,
             "#46039f"
            ],
            [
             0.2222222222222222,
             "#7201a8"
            ],
            [
             0.3333333333333333,
             "#9c179e"
            ],
            [
             0.4444444444444444,
             "#bd3786"
            ],
            [
             0.5555555555555556,
             "#d8576b"
            ],
            [
             0.6666666666666666,
             "#ed7953"
            ],
            [
             0.7777777777777778,
             "#fb9f3a"
            ],
            [
             0.8888888888888888,
             "#fdca26"
            ],
            [
             1,
             "#f0f921"
            ]
           ]
          },
          "colorway": [
           "#636efa",
           "#EF553B",
           "#00cc96",
           "#ab63fa",
           "#FFA15A",
           "#19d3f3",
           "#FF6692",
           "#B6E880",
           "#FF97FF",
           "#FECB52"
          ],
          "font": {
           "color": "#2a3f5f"
          },
          "geo": {
           "bgcolor": "white",
           "lakecolor": "white",
           "landcolor": "#E5ECF6",
           "showlakes": true,
           "showland": true,
           "subunitcolor": "white"
          },
          "hoverlabel": {
           "align": "left"
          },
          "hovermode": "closest",
          "mapbox": {
           "style": "light"
          },
          "paper_bgcolor": "white",
          "plot_bgcolor": "#E5ECF6",
          "polar": {
           "angularaxis": {
            "gridcolor": "white",
            "linecolor": "white",
            "ticks": ""
           },
           "bgcolor": "#E5ECF6",
           "radialaxis": {
            "gridcolor": "white",
            "linecolor": "white",
            "ticks": ""
           }
          },
          "scene": {
           "xaxis": {
            "backgroundcolor": "#E5ECF6",
            "gridcolor": "white",
            "gridwidth": 2,
            "linecolor": "white",
            "showbackground": true,
            "ticks": "",
            "zerolinecolor": "white"
           },
           "yaxis": {
            "backgroundcolor": "#E5ECF6",
            "gridcolor": "white",
            "gridwidth": 2,
            "linecolor": "white",
            "showbackground": true,
            "ticks": "",
            "zerolinecolor": "white"
           },
           "zaxis": {
            "backgroundcolor": "#E5ECF6",
            "gridcolor": "white",
            "gridwidth": 2,
            "linecolor": "white",
            "showbackground": true,
            "ticks": "",
            "zerolinecolor": "white"
           }
          },
          "shapedefaults": {
           "line": {
            "color": "#2a3f5f"
           }
          },
          "ternary": {
           "aaxis": {
            "gridcolor": "white",
            "linecolor": "white",
            "ticks": ""
           },
           "baxis": {
            "gridcolor": "white",
            "linecolor": "white",
            "ticks": ""
           },
           "bgcolor": "#E5ECF6",
           "caxis": {
            "gridcolor": "white",
            "linecolor": "white",
            "ticks": ""
           }
          },
          "title": {
           "x": 0.05
          },
          "xaxis": {
           "automargin": true,
           "gridcolor": "white",
           "linecolor": "white",
           "ticks": "",
           "title": {
            "standoff": 15
           },
           "zerolinecolor": "white",
           "zerolinewidth": 2
          },
          "yaxis": {
           "automargin": true,
           "gridcolor": "white",
           "linecolor": "white",
           "ticks": "",
           "title": {
            "standoff": 15
           },
           "zerolinecolor": "white",
           "zerolinewidth": 2
          }
         }
        },
        "title": {
         "text": "Jaccard Similarity Over Time"
        },
        "xaxis": {
         "anchor": "y",
         "domain": [
          0,
          1
         ],
         "title": {
          "text": "checkpoint"
         },
         "type": "log"
        },
        "yaxis": {
         "anchor": "x",
         "domain": [
          0,
          1
         ],
         "title": {
          "text": "Jaccard Similarity to Checkpoint 143000"
         }
        },
        "yaxis2": {
         "overlaying": "y",
         "showgrid": false,
         "side": "right",
         "title": {
          "text": "Probability Difference"
         }
        }
       }
      },
      "text/html": [
       "<div>                            <div id=\"1f22984a-4f7c-483b-a523-39ca3358b2c0\" class=\"plotly-graph-div\" style=\"height:525px; width:100%;\"></div>            <script type=\"text/javascript\">                require([\"plotly\"], function(Plotly) {                    window.PLOTLYENV=window.PLOTLYENV || {};                                    if (document.getElementById(\"1f22984a-4f7c-483b-a523-39ca3358b2c0\")) {                    Plotly.newPlot(                        \"1f22984a-4f7c-483b-a523-39ca3358b2c0\",                        [{\"hovertemplate\":\"variable=jaccard_similarity\\u003cbr\\u003echeckpoint=%{x}\\u003cbr\\u003evalue=%{y}\\u003cextra\\u003e\\u003c\\u002fextra\\u003e\",\"legendgroup\":\"jaccard_similarity\",\"line\":{\"color\":\"lightblue\",\"dash\":\"solid\"},\"marker\":{\"symbol\":\"circle\"},\"mode\":\"lines\",\"name\":\"jaccard_similarity\",\"orientation\":\"v\",\"showlegend\":true,\"x\":[1000,2000,3000,4000,5000,6000,7000,8000,9000,10000,11000,12000,13000,14000,15000,16000,17000,18000,19000,20000,21000,22000,23000,24000,25000,26000,27000,28000,29000,30000,31000,32000,33000,34000,35000,36000,37000,38000,39000,40000,41000,42000,43000,44000,45000,46000,47000,48000,49000,50000,51000,52000,53000,54000,55000,56000,57000,58000,59000,60000,61000,62000,63000,64000,65000,66000,67000,68000,69000,70000,71000,72000,73000,74000,75000,76000,77000,78000,79000,80000,81000,82000,83000,84000,85000,86000,87000,88000,89000,90000,91000,92000,93000,94000,95000,96000,97000,98000,99000,100000,101000,102000,103000,104000,105000,106000,107000,108000,109000,110000,111000,112000,113000,114000,115000,116000,117000,118000,119000,120000,121000,122000,123000,124000,125000,126000,127000,128000,129000,130000,131000,132000,133000,134000,135000,136000,137000,138000,139000,140000,141000,142000],\"xaxis\":\"x\",\"y\":[0.0,0.33695652173913043,0.25196850393700787,0.3620689655172414,0.2857142857142857,0.29850746268656714,0.4074074074074074,0.40540540540540543,0.3698630136986301,0.375,0.39436619718309857,0.3972602739726027,0.4065934065934066,0.4177215189873418,0.3695652173913043,0.3522727272727273,0.37349397590361444,0.39080459770114945,0.34146341463414637,0.35051546391752575,0.32608695652173914,0.35789473684210527,0.33962264150943394,0.3763440860215054,0.32142857142857145,0.2684563758389262,0.4166666666666667,0.3617021276595745,0.3723404255319149,0.34831460674157305,0.4305555555555556,0.425,0.3924050632911392,0.36,0.423728813559322,0.35714285714285715,0.4246575342465753,0.3684210526315789,0.43859649122807015,0.4,0.40384615384615385,0.4,0.48333333333333334,0.39622641509433965,0.45454545454545453,0.40384615384615385,0.40384615384615385,0.4909090909090909,0.45,0.39215686274509803,0.39215686274509803,0.4444444444444444,0.4117647058823529,0.4230769230769231,0.41509433962264153,0.4528301886792453,0.4339622641509434,0.45098039215686275,0.5172413793103449,0.5272727272727272,0.37735849056603776,0.42424242424242425,0.5294117647058824,0.47619047619047616,0.47619047619047616,0.5333333333333333,0.47058823529411764,0.5333333333333333,0.49056603773584906,0.45098039215686275,0.5294117647058824,0.4642857142857143,0.44642857142857145,0.5161290322580645,0.4576271186440678,0.49056603773584906,0.46296296296296297,0.4861111111111111,0.5230769230769231,0.5178571428571429,0.5423728813559322,0.4935064935064935,0.5538461538461539,0.5454545454545454,0.6851851851851852,0.5,0.5555555555555556,0.5102040816326531,0.6037735849056604,0.6111111111111112,0.46808510638297873,0.574468085106383,0.6274509803921569,0.5636363636363636,0.6851851851851852,0.64,0.5185185185185185,0.5849056603773585,0.5636363636363636,0.5769230769230769,0.5925925925925926,0.5555555555555556,0.639344262295082,0.5769230769230769,0.5714285714285714,0.6296296296296297,0.6666666666666666,0.425531914893617,0.660377358490566,0.5918367346938775,0.5531914893617021,0.6307692307692307,0.6326530612244898,0.6326530612244898,0.48936170212765956,0.7058823529411765,0.7142857142857143,0.6052631578947368,0.46808510638297873,0.6029411764705882,0.7096774193548387,0.671875,0.7307692307692307,0.746031746031746,0.4489795918367347,0.6363636363636364,0.65625,0.7407407407407407,0.5961538461538461,0.5319148936170213,0.5714285714285714,0.425531914893617,0.46808510638297873,0.6730769230769231,0.7450980392156863,0.4489795918367347,0.5972222222222222,0.5714285714285714,0.7272727272727273,0.92,0.8,0.6470588235294118],\"yaxis\":\"y\",\"type\":\"scatter\"},{\"line\":{\"color\":\"black\"},\"mode\":\"lines\",\"name\":\"perf_metric\",\"x\":[1000,2000,3000,4000,5000,6000,7000,8000,9000,10000,11000,12000,13000,14000,15000,16000,17000,18000,19000,20000,21000,22000,23000,24000,25000,26000,27000,28000,29000,30000,31000,32000,33000,34000,35000,36000,37000,38000,39000,40000,41000,42000,43000,44000,45000,46000,47000,48000,49000,50000,51000,52000,53000,54000,55000,56000,57000,58000,59000,60000,61000,62000,63000,64000,65000,66000,67000,68000,69000,70000,71000,72000,73000,74000,75000,76000,77000,78000,79000,80000,81000,82000,83000,84000,85000,86000,87000,88000,89000,90000,91000,92000,93000,94000,95000,96000,97000,98000,99000,100000,101000,102000,103000,104000,105000,106000,107000,108000,109000,110000,111000,112000,113000,114000,115000,116000,117000,118000,119000,120000,121000,122000,123000,124000,125000,126000,127000,128000,129000,130000,131000,132000,133000,134000,135000,136000,137000,138000,139000,140000,141000,142000],\"y\":[-0.17926901578903198,0.14408066868782043,0.30164390802383423,0.5214207172393799,0.6283944845199585,0.42528706789016724,0.6616678237915039,0.5040611624717712,0.5024839639663696,0.5974746346473694,0.6558032035827637,0.4376274645328522,0.5673839449882507,0.5760918855667114,0.673001766204834,0.6555053234100342,0.6380088806152344,0.6205124378204345,0.6030159950256347,0.585519552230835,0.5996431350708008,0.6137667179107666,0.6278903007507324,0.6420138835906982,0.6561374664306641,0.6663044571876526,0.6764714479446411,0.6866384387016297,0.6968054294586181,0.7069724202156067,0.7357974052429199,0.7646223902702332,0.7934473752975464,0.8222723603248596,0.8510973453521729,0.8380409240722656,0.8249845027923584,0.8119280815124512,0.798871660232544,0.7858152389526367,0.79725341796875,0.8086915969848633,0.8201297760009766,0.8315679550170898,0.8430061340332031,0.846302616596222,0.8495990991592407,0.8528955817222595,0.8561920642852783,0.8594885468482971,0.8525122761726379,0.8455360054969787,0.8385597348213196,0.8315834641456604,0.8246071934700012,0.8252315759658814,0.8258559584617615,0.8264803409576416,0.8271047234535217,0.8277291059494019,0.8395205616950989,0.8513120174407959,0.8631034731864929,0.8748949289321899,0.886686384677887,0.88213552236557,0.8775846600532532,0.8730337977409363,0.8684829354286194,0.8639320731163025,0.8613804459571839,0.8588288187980652,0.8562771916389466,0.8537255644798278,0.8511739373207092,0.8486223101615906,0.8460706830024719,0.8435190558433533,0.8409674286842346,0.838415801525116,0.8408834636211395,0.8433511257171631,0.8458187878131866,0.8482864499092102,0.8507541120052338,0.8532217741012573,0.8556894361972809,0.8581570982933044,0.860624760389328,0.8630924224853516,0.8648158371448517,0.8665392518043518,0.868262666463852,0.8699860811233521,0.8717094957828522,0.8734329104423523,0.8751563251018524,0.8768797397613526,0.8786031544208527,0.8803265690803528,0.8766833901405334,0.8730402112007141,0.8693970322608948,0.8657538533210755,0.8621106743812561,0.8584674954414367,0.8548243165016174,0.8511811375617981,0.8475379586219788,0.8438947796821594,0.8408937096595764,0.8378926396369935,0.8348915696144104,0.8318904995918274,0.8288894295692444,0.8258883595466614,0.8228872895240784,0.8198862195014953,0.8168851494789123,0.8138840794563293,0.8138286948204041,0.8137733101844787,0.8137179255485535,0.8136625409126281,0.8136071562767029,0.8135517716407776,0.8134963870048523,0.813441002368927,0.8133856177330017,0.8133302330970764,0.814875864982605,0.8164214968681336,0.8179671287536621,0.8195127606391907,0.8210583925247192,0.8226040244102478,0.8241496562957764,0.8256952881813049,0.8272409200668335,0.8287865519523621,0.8287865519523621,0.8287865519523621],\"yaxis\":\"y2\",\"type\":\"scatter\"}],                        {\"template\":{\"data\":{\"histogram2dcontour\":[{\"type\":\"histogram2dcontour\",\"colorbar\":{\"outlinewidth\":0,\"ticks\":\"\"},\"colorscale\":[[0.0,\"#0d0887\"],[0.1111111111111111,\"#46039f\"],[0.2222222222222222,\"#7201a8\"],[0.3333333333333333,\"#9c179e\"],[0.4444444444444444,\"#bd3786\"],[0.5555555555555556,\"#d8576b\"],[0.6666666666666666,\"#ed7953\"],[0.7777777777777778,\"#fb9f3a\"],[0.8888888888888888,\"#fdca26\"],[1.0,\"#f0f921\"]]}],\"choropleth\":[{\"type\":\"choropleth\",\"colorbar\":{\"outlinewidth\":0,\"ticks\":\"\"}}],\"histogram2d\":[{\"type\":\"histogram2d\",\"colorbar\":{\"outlinewidth\":0,\"ticks\":\"\"},\"colorscale\":[[0.0,\"#0d0887\"],[0.1111111111111111,\"#46039f\"],[0.2222222222222222,\"#7201a8\"],[0.3333333333333333,\"#9c179e\"],[0.4444444444444444,\"#bd3786\"],[0.5555555555555556,\"#d8576b\"],[0.6666666666666666,\"#ed7953\"],[0.7777777777777778,\"#fb9f3a\"],[0.8888888888888888,\"#fdca26\"],[1.0,\"#f0f921\"]]}],\"heatmap\":[{\"type\":\"heatmap\",\"colorbar\":{\"outlinewidth\":0,\"ticks\":\"\"},\"colorscale\":[[0.0,\"#0d0887\"],[0.1111111111111111,\"#46039f\"],[0.2222222222222222,\"#7201a8\"],[0.3333333333333333,\"#9c179e\"],[0.4444444444444444,\"#bd3786\"],[0.5555555555555556,\"#d8576b\"],[0.6666666666666666,\"#ed7953\"],[0.7777777777777778,\"#fb9f3a\"],[0.8888888888888888,\"#fdca26\"],[1.0,\"#f0f921\"]]}],\"heatmapgl\":[{\"type\":\"heatmapgl\",\"colorbar\":{\"outlinewidth\":0,\"ticks\":\"\"},\"colorscale\":[[0.0,\"#0d0887\"],[0.1111111111111111,\"#46039f\"],[0.2222222222222222,\"#7201a8\"],[0.3333333333333333,\"#9c179e\"],[0.4444444444444444,\"#bd3786\"],[0.5555555555555556,\"#d8576b\"],[0.6666666666666666,\"#ed7953\"],[0.7777777777777778,\"#fb9f3a\"],[0.8888888888888888,\"#fdca26\"],[1.0,\"#f0f921\"]]}],\"contourcarpet\":[{\"type\":\"contourcarpet\",\"colorbar\":{\"outlinewidth\":0,\"ticks\":\"\"}}],\"contour\":[{\"type\":\"contour\",\"colorbar\":{\"outlinewidth\":0,\"ticks\":\"\"},\"colorscale\":[[0.0,\"#0d0887\"],[0.1111111111111111,\"#46039f\"],[0.2222222222222222,\"#7201a8\"],[0.3333333333333333,\"#9c179e\"],[0.4444444444444444,\"#bd3786\"],[0.5555555555555556,\"#d8576b\"],[0.6666666666666666,\"#ed7953\"],[0.7777777777777778,\"#fb9f3a\"],[0.8888888888888888,\"#fdca26\"],[1.0,\"#f0f921\"]]}],\"surface\":[{\"type\":\"surface\",\"colorbar\":{\"outlinewidth\":0,\"ticks\":\"\"},\"colorscale\":[[0.0,\"#0d0887\"],[0.1111111111111111,\"#46039f\"],[0.2222222222222222,\"#7201a8\"],[0.3333333333333333,\"#9c179e\"],[0.4444444444444444,\"#bd3786\"],[0.5555555555555556,\"#d8576b\"],[0.6666666666666666,\"#ed7953\"],[0.7777777777777778,\"#fb9f3a\"],[0.8888888888888888,\"#fdca26\"],[1.0,\"#f0f921\"]]}],\"mesh3d\":[{\"type\":\"mesh3d\",\"colorbar\":{\"outlinewidth\":0,\"ticks\":\"\"}}],\"scatter\":[{\"fillpattern\":{\"fillmode\":\"overlay\",\"size\":10,\"solidity\":0.2},\"type\":\"scatter\"}],\"parcoords\":[{\"type\":\"parcoords\",\"line\":{\"colorbar\":{\"outlinewidth\":0,\"ticks\":\"\"}}}],\"scatterpolargl\":[{\"type\":\"scatterpolargl\",\"marker\":{\"colorbar\":{\"outlinewidth\":0,\"ticks\":\"\"}}}],\"bar\":[{\"error_x\":{\"color\":\"#2a3f5f\"},\"error_y\":{\"color\":\"#2a3f5f\"},\"marker\":{\"line\":{\"color\":\"#E5ECF6\",\"width\":0.5},\"pattern\":{\"fillmode\":\"overlay\",\"size\":10,\"solidity\":0.2}},\"type\":\"bar\"}],\"scattergeo\":[{\"type\":\"scattergeo\",\"marker\":{\"colorbar\":{\"outlinewidth\":0,\"ticks\":\"\"}}}],\"scatterpolar\":[{\"type\":\"scatterpolar\",\"marker\":{\"colorbar\":{\"outlinewidth\":0,\"ticks\":\"\"}}}],\"histogram\":[{\"marker\":{\"pattern\":{\"fillmode\":\"overlay\",\"size\":10,\"solidity\":0.2}},\"type\":\"histogram\"}],\"scattergl\":[{\"type\":\"scattergl\",\"marker\":{\"colorbar\":{\"outlinewidth\":0,\"ticks\":\"\"}}}],\"scatter3d\":[{\"type\":\"scatter3d\",\"line\":{\"colorbar\":{\"outlinewidth\":0,\"ticks\":\"\"}},\"marker\":{\"colorbar\":{\"outlinewidth\":0,\"ticks\":\"\"}}}],\"scattermapbox\":[{\"type\":\"scattermapbox\",\"marker\":{\"colorbar\":{\"outlinewidth\":0,\"ticks\":\"\"}}}],\"scatterternary\":[{\"type\":\"scatterternary\",\"marker\":{\"colorbar\":{\"outlinewidth\":0,\"ticks\":\"\"}}}],\"scattercarpet\":[{\"type\":\"scattercarpet\",\"marker\":{\"colorbar\":{\"outlinewidth\":0,\"ticks\":\"\"}}}],\"carpet\":[{\"aaxis\":{\"endlinecolor\":\"#2a3f5f\",\"gridcolor\":\"white\",\"linecolor\":\"white\",\"minorgridcolor\":\"white\",\"startlinecolor\":\"#2a3f5f\"},\"baxis\":{\"endlinecolor\":\"#2a3f5f\",\"gridcolor\":\"white\",\"linecolor\":\"white\",\"minorgridcolor\":\"white\",\"startlinecolor\":\"#2a3f5f\"},\"type\":\"carpet\"}],\"table\":[{\"cells\":{\"fill\":{\"color\":\"#EBF0F8\"},\"line\":{\"color\":\"white\"}},\"header\":{\"fill\":{\"color\":\"#C8D4E3\"},\"line\":{\"color\":\"white\"}},\"type\":\"table\"}],\"barpolar\":[{\"marker\":{\"line\":{\"color\":\"#E5ECF6\",\"width\":0.5},\"pattern\":{\"fillmode\":\"overlay\",\"size\":10,\"solidity\":0.2}},\"type\":\"barpolar\"}],\"pie\":[{\"automargin\":true,\"type\":\"pie\"}]},\"layout\":{\"autotypenumbers\":\"strict\",\"colorway\":[\"#636efa\",\"#EF553B\",\"#00cc96\",\"#ab63fa\",\"#FFA15A\",\"#19d3f3\",\"#FF6692\",\"#B6E880\",\"#FF97FF\",\"#FECB52\"],\"font\":{\"color\":\"#2a3f5f\"},\"hovermode\":\"closest\",\"hoverlabel\":{\"align\":\"left\"},\"paper_bgcolor\":\"white\",\"plot_bgcolor\":\"#E5ECF6\",\"polar\":{\"bgcolor\":\"#E5ECF6\",\"angularaxis\":{\"gridcolor\":\"white\",\"linecolor\":\"white\",\"ticks\":\"\"},\"radialaxis\":{\"gridcolor\":\"white\",\"linecolor\":\"white\",\"ticks\":\"\"}},\"ternary\":{\"bgcolor\":\"#E5ECF6\",\"aaxis\":{\"gridcolor\":\"white\",\"linecolor\":\"white\",\"ticks\":\"\"},\"baxis\":{\"gridcolor\":\"white\",\"linecolor\":\"white\",\"ticks\":\"\"},\"caxis\":{\"gridcolor\":\"white\",\"linecolor\":\"white\",\"ticks\":\"\"}},\"coloraxis\":{\"colorbar\":{\"outlinewidth\":0,\"ticks\":\"\"}},\"colorscale\":{\"sequential\":[[0.0,\"#0d0887\"],[0.1111111111111111,\"#46039f\"],[0.2222222222222222,\"#7201a8\"],[0.3333333333333333,\"#9c179e\"],[0.4444444444444444,\"#bd3786\"],[0.5555555555555556,\"#d8576b\"],[0.6666666666666666,\"#ed7953\"],[0.7777777777777778,\"#fb9f3a\"],[0.8888888888888888,\"#fdca26\"],[1.0,\"#f0f921\"]],\"sequentialminus\":[[0.0,\"#0d0887\"],[0.1111111111111111,\"#46039f\"],[0.2222222222222222,\"#7201a8\"],[0.3333333333333333,\"#9c179e\"],[0.4444444444444444,\"#bd3786\"],[0.5555555555555556,\"#d8576b\"],[0.6666666666666666,\"#ed7953\"],[0.7777777777777778,\"#fb9f3a\"],[0.8888888888888888,\"#fdca26\"],[1.0,\"#f0f921\"]],\"diverging\":[[0,\"#8e0152\"],[0.1,\"#c51b7d\"],[0.2,\"#de77ae\"],[0.3,\"#f1b6da\"],[0.4,\"#fde0ef\"],[0.5,\"#f7f7f7\"],[0.6,\"#e6f5d0\"],[0.7,\"#b8e186\"],[0.8,\"#7fbc41\"],[0.9,\"#4d9221\"],[1,\"#276419\"]]},\"xaxis\":{\"gridcolor\":\"white\",\"linecolor\":\"white\",\"ticks\":\"\",\"title\":{\"standoff\":15},\"zerolinecolor\":\"white\",\"automargin\":true,\"zerolinewidth\":2},\"yaxis\":{\"gridcolor\":\"white\",\"linecolor\":\"white\",\"ticks\":\"\",\"title\":{\"standoff\":15},\"zerolinecolor\":\"white\",\"automargin\":true,\"zerolinewidth\":2},\"scene\":{\"xaxis\":{\"backgroundcolor\":\"#E5ECF6\",\"gridcolor\":\"white\",\"linecolor\":\"white\",\"showbackground\":true,\"ticks\":\"\",\"zerolinecolor\":\"white\",\"gridwidth\":2},\"yaxis\":{\"backgroundcolor\":\"#E5ECF6\",\"gridcolor\":\"white\",\"linecolor\":\"white\",\"showbackground\":true,\"ticks\":\"\",\"zerolinecolor\":\"white\",\"gridwidth\":2},\"zaxis\":{\"backgroundcolor\":\"#E5ECF6\",\"gridcolor\":\"white\",\"linecolor\":\"white\",\"showbackground\":true,\"ticks\":\"\",\"zerolinecolor\":\"white\",\"gridwidth\":2}},\"shapedefaults\":{\"line\":{\"color\":\"#2a3f5f\"}},\"annotationdefaults\":{\"arrowcolor\":\"#2a3f5f\",\"arrowhead\":0,\"arrowwidth\":1},\"geo\":{\"bgcolor\":\"white\",\"landcolor\":\"#E5ECF6\",\"subunitcolor\":\"white\",\"showland\":true,\"showlakes\":true,\"lakecolor\":\"white\"},\"title\":{\"x\":0.05},\"mapbox\":{\"style\":\"light\"}}},\"xaxis\":{\"anchor\":\"y\",\"domain\":[0.0,1.0],\"title\":{\"text\":\"checkpoint\"},\"type\":\"log\"},\"yaxis\":{\"anchor\":\"x\",\"domain\":[0.0,1.0],\"title\":{\"text\":\"Jaccard Similarity to Checkpoint 143000\"}},\"legend\":{\"title\":{\"text\":\"variable\"},\"tracegroupgap\":0},\"title\":{\"text\":\"Jaccard Similarity Over Time\"},\"yaxis2\":{\"title\":{\"text\":\"Probability Difference\"},\"overlaying\":\"y\",\"side\":\"right\",\"showgrid\":false}},                        {\"responsive\": true}                    ).then(function(){\n",
       "                            \n",
       "var gd = document.getElementById('1f22984a-4f7c-483b-a523-39ca3358b2c0');\n",
       "var x = new MutationObserver(function (mutations, observer) {{\n",
       "        var display = window.getComputedStyle(gd).display;\n",
       "        if (!display || display === 'none') {{\n",
       "            console.log([gd, 'removed!']);\n",
       "            Plotly.purge(gd);\n",
       "            observer.disconnect();\n",
       "        }}\n",
       "}});\n",
       "\n",
       "// Listen for the removal of the full notebook cells\n",
       "var notebookContainer = gd.closest('#notebook-container');\n",
       "if (notebookContainer) {{\n",
       "    x.observe(notebookContainer, {childList: true});\n",
       "}}\n",
       "\n",
       "// Listen for the clearing of the current output cell\n",
       "var outputEl = gd.closest('.output');\n",
       "if (outputEl) {{\n",
       "    x.observe(outputEl, {childList: true});\n",
       "}}\n",
       "\n",
       "                        })                };                });            </script>        </div>"
      ]
     },
     "metadata": {},
     "output_type": "display_data"
    }
   ],
   "source": [
    "comparison_checkpoint = 143000\n",
    "\n",
    "jaccard_reference_results = compute_jaccard_similarity_to_reference(df, comparison_checkpoint)\n",
    "\n",
    "# Add a new column for the performance metric by mapping the checkpoint_2 values using the perf_metric_dict\n",
    "jaccard_reference_results['perf_metric'] = jaccard_reference_results['checkpoint'].map(perf_metric_dict)\n",
    "\n",
    "# Interpolate missing values\n",
    "jaccard_reference_results['perf_metric'] = jaccard_reference_results['perf_metric'].interpolate(method='linear')\n",
    "\n",
    "# plot jaccard similarity over time\n",
    "fig = px.line(jaccard_reference_results, x='checkpoint', y=['jaccard_similarity'], title='Jaccard Similarity Over Time', log_x=True)\n",
    "\n",
    "# Specify colors for each line\n",
    "colors = {'jaccard_similarity': 'lightblue', 'perf_metric': 'black'}\n",
    "\n",
    "# Update each trace with the specified color\n",
    "for i, trace in enumerate(fig.data):\n",
    "    fig.data[i].update(line=dict(color=colors[trace.name]))\n",
    "\n",
    "\n",
    "fig.update_layout(\n",
    "    yaxis2=dict(title=\"Probability Difference\", overlaying=\"y\", side=\"right\", showgrid=False)\n",
    ")\n",
    "fig.add_trace(\n",
    "    go.Scatter(x=jaccard_reference_results['checkpoint'], y=jaccard_reference_results['perf_metric'], name='perf_metric', mode='lines', yaxis='y2', line=dict(color=colors['perf_metric']))\n",
    ")\n",
    "\n",
    "# Optional: Update the layout if you need to adjust titles or other aesthetics\n",
    "fig.update_layout(\n",
    "    yaxis_title=f\"Jaccard Similarity to Checkpoint {comparison_checkpoint}\"\n",
    ")\n",
    "\n",
    "fig.show()"
   ]
  },
  {
   "cell_type": "code",
   "execution_count": null,
   "metadata": {},
   "outputs": [],
   "source": []
  }
 ],
 "metadata": {
  "kernelspec": {
   "display_name": "Python 3 (ipykernel)",
   "language": "python",
   "name": "python3"
  },
  "language_info": {
   "codemirror_mode": {
    "name": "ipython",
    "version": 3
   },
   "file_extension": ".py",
   "mimetype": "text/x-python",
   "name": "python",
   "nbconvert_exporter": "python",
   "pygments_lexer": "ipython3",
   "version": "3.10.13"
  },
  "orig_nbformat": 4
 },
 "nbformat": 4,
 "nbformat_minor": 2
}
