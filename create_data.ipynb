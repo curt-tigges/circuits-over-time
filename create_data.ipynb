{
 "cells": [
  {
   "cell_type": "code",
   "execution_count": 3,
   "metadata": {},
   "outputs": [],
   "source": [
    "prompts = [\n",
    "        \"When John and Mary went to the shops, John gave the bag to\",\n",
    "        \"When John and Mary went to the shops, Mary gave the bag to\",\n",
    "        \"When Tom and James went to the park, James gave the ball to\",\n",
    "        \"When Tom and James went to the park, Tom gave the ball to\",\n",
    "        \"When Dan and Sid went to the shops, Sid gave an apple to\",\n",
    "        \"When Dan and Sid went to the shops, Dan gave an apple to\",\n",
    "        \"After Martin and Amy went to the park, Amy gave a drink to\",\n",
    "        \"After Martin and Amy went to the park, Martin gave a drink to\",\n",
    "    ]\n",
    "\n",
    "answers = [\n",
    "    (\" Mary\", \" John\"),\n",
    "    (\" John\", \" Mary\"),\n",
    "    (\" Tom\", \" James\"),\n",
    "    (\" James\", \" Tom\"),\n",
    "    (\" Dan\", \" Sid\"),\n",
    "    (\" Sid\", \" Dan\"),\n",
    "    (\" Martin\", \" Amy\"),\n",
    "    (\" Amy\", \" Martin\"),\n",
    "]"
   ]
  },
  {
   "cell_type": "code",
   "execution_count": 4,
   "metadata": {},
   "outputs": [],
   "source": [
    "with open('data/simple_dataset.txt', 'w') as f:\n",
    "    for prompt in prompts:\n",
    "        f.write(prompt + '\\n')\n",
    "    f.write('\\n')\n",
    "    for answer in answers:\n",
    "        f.write(','.join(answer) + ';')\n"
   ]
  },
  {
   "cell_type": "code",
   "execution_count": 19,
   "metadata": {},
   "outputs": [],
   "source": [
    "def read_data(file_path):\n",
    "    with open(file_path, 'r') as f:\n",
    "        content = f.read()\n",
    "    \n",
    "    prompts_str, answers_str = content.split('\\n\\n')\n",
    "    prompts = prompts_str.split('\\n')  # Remove the last empty item\n",
    "    answers = [tuple(answer.split(',')) for answer in answers_str.split(';')[:-1]]  # Remove the last empty item\n",
    "\n",
    "    return prompts, answers\n"
   ]
  },
  {
   "cell_type": "code",
   "execution_count": 20,
   "metadata": {},
   "outputs": [
    {
     "name": "stdout",
     "output_type": "stream",
     "text": [
      "Prompts: ['When John and Mary went to the shops, John gave the bag to', 'When John and Mary went to the shops, Mary gave the bag to', 'When Tom and James went to the park, James gave the ball to', 'When Tom and James went to the park, Tom gave the ball to', 'When Dan and Sid went to the shops, Sid gave an apple to', 'When Dan and Sid went to the shops, Dan gave an apple to', 'After Martin and Amy went to the park, Amy gave a drink to', 'After Martin and Amy went to the park, Martin gave a drink to']\n",
      "Answers: [(' Mary', ' John'), (' John', ' Mary'), (' Tom', ' James'), (' James', ' Tom'), (' Dan', ' Sid'), (' Sid', ' Dan'), (' Martin', ' Amy'), (' Amy', ' Martin')]\n"
     ]
    }
   ],
   "source": [
    "file_path = 'data/simple_dataset.txt'\n",
    "loaded_prompts, loaded_answers = read_data(file_path)\n",
    "\n",
    "print(\"Prompts:\", loaded_prompts)\n",
    "print(\"Answers:\", loaded_answers)\n"
   ]
  },
  {
   "cell_type": "code",
   "execution_count": 11,
   "metadata": {},
   "outputs": [
    {
     "data": {
      "text/plain": [
       "tuple"
      ]
     },
     "execution_count": 11,
     "metadata": {},
     "output_type": "execute_result"
    }
   ],
   "source": [
    "type(loaded_answers[0])"
   ]
  },
  {
   "cell_type": "code",
   "execution_count": 21,
   "metadata": {},
   "outputs": [],
   "source": [
    "assert answers == loaded_answers\n",
    "assert prompts == loaded_prompts"
   ]
  },
  {
   "cell_type": "code",
   "execution_count": 14,
   "metadata": {},
   "outputs": [
    {
     "data": {
      "text/plain": [
       "['When John and Mary went to the shops, John gave the bag to',\n",
       " 'When John and Mary went to the shops, Mary gave the bag to',\n",
       " 'When Tom and James went to the park, James gave the ball to',\n",
       " 'When Tom and James went to the park, Tom gave the ball to',\n",
       " 'When Dan and Sid went to the shops, Sid gave an apple to',\n",
       " 'When Dan and Sid went to the shops, Dan gave an apple to',\n",
       " 'After Martin and Amy went to the park, Amy gave a drink to',\n",
       " 'After Martin and Amy went to the park, Martin gave a drink to']"
      ]
     },
     "execution_count": 14,
     "metadata": {},
     "output_type": "execute_result"
    }
   ],
   "source": [
    "prompts"
   ]
  },
  {
   "cell_type": "code",
   "execution_count": 15,
   "metadata": {},
   "outputs": [
    {
     "data": {
      "text/plain": [
       "['When John and Mary went to the shops, John gave the bag to',\n",
       " 'When John and Mary went to the shops, Mary gave the bag to',\n",
       " 'When Tom and James went to the park, James gave the ball to',\n",
       " 'When Tom and James went to the park, Tom gave the ball to',\n",
       " 'When Dan and Sid went to the shops, Sid gave an apple to',\n",
       " 'When Dan and Sid went to the shops, Dan gave an apple to',\n",
       " 'After Martin and Amy went to the park, Amy gave a drink to']"
      ]
     },
     "execution_count": 15,
     "metadata": {},
     "output_type": "execute_result"
    }
   ],
   "source": [
    "loaded_prompts"
   ]
  },
  {
   "cell_type": "code",
   "execution_count": null,
   "metadata": {},
   "outputs": [],
   "source": []
  }
 ],
 "metadata": {
  "kernelspec": {
   "display_name": "circuits",
   "language": "python",
   "name": "python3"
  },
  "language_info": {
   "codemirror_mode": {
    "name": "ipython",
    "version": 3
   },
   "file_extension": ".py",
   "mimetype": "text/x-python",
   "name": "python",
   "nbconvert_exporter": "python",
   "pygments_lexer": "ipython3",
   "version": "3.8.16"
  },
  "orig_nbformat": 4
 },
 "nbformat": 4,
 "nbformat_minor": 2
}
