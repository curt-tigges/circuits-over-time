{
 "cells": [
  {
   "cell_type": "code",
   "execution_count": 1,
   "metadata": {},
   "outputs": [],
   "source": [
    "import os\n",
    "import json\n",
    "import glob\n",
    "import torch\n",
    "import pickle\n",
    "import re\n",
    "import plotly.graph_objects as go\n",
    "import einops\n",
    "import pandas as pd\n",
    "from functools import partial\n",
    "from torch import Tensor\n",
    "from torchtyping import TensorType as TT\n",
    "from utils.visualization import imshow_p"
   ]
  },
  {
   "cell_type": "code",
   "execution_count": 85,
   "metadata": {},
   "outputs": [],
   "source": [
    "MODEL_TO_VIEW = \"pythia-160m\""
   ]
  },
  {
   "cell_type": "code",
   "execution_count": 86,
   "metadata": {},
   "outputs": [],
   "source": [
    "filename = f\"backup_research/FINAL_figure_files/sr_over_time/data/{MODEL_TO_VIEW}/sample_results_dict.pt\"\n",
    "data = torch.load(filename)"
   ]
  },
  {
   "cell_type": "code",
   "execution_count": 87,
   "metadata": {},
   "outputs": [
    {
     "data": {
      "text/plain": [
       "dict_keys([256, 512, 1000, 2000, 3000, 5000, 10000, 30000, 60000, 90000, 143000])"
      ]
     },
     "execution_count": 87,
     "metadata": {},
     "output_type": "execute_result"
    }
   ],
   "source": [
    "\n",
    "# sort the dictionary by the key\n",
    "data = dict(sorted(data.items(), key=lambda item: int(item[0])))\n",
    "data.keys()"
   ]
  },
  {
   "attachments": {},
   "cell_type": "markdown",
   "metadata": {},
   "source": [
    "### Single Checkpoint"
   ]
  },
  {
   "cell_type": "code",
   "execution_count": 88,
   "metadata": {},
   "outputs": [],
   "source": [
    "CHECKPOINT = 143000"
   ]
  },
  {
   "cell_type": "code",
   "execution_count": 89,
   "metadata": {},
   "outputs": [],
   "source": [
    "repair_score = 1 - (data[CHECKPOINT]['thresholded_cil'][0] / -data[CHECKPOINT]['thresholded_de'][0])\n",
    "#weighted_repair_score = (data[CHECKPOINT]['thresholded_de'][0] / -data[CHECKPOINT]['thresholded_cil'][0]) * data[CHECKPOINT]['thresholded_de'][0]"
   ]
  },
  {
   "cell_type": "code",
   "execution_count": 90,
   "metadata": {},
   "outputs": [
    {
     "name": "stdout",
     "output_type": "stream",
     "text": [
      "(tensor(0.3570), tensor(-0.0820), tensor(0.7702))\n",
      "(tensor(0.1418), tensor(-0.0197), tensor(0.8609))\n",
      "(tensor(0.1189), tensor(-0.0263), tensor(0.7787))\n",
      "(tensor(0.0934), tensor(-0.0224), tensor(0.7601))\n",
      "(tensor(0.0256), tensor(-0.0113), tensor(0.5582))\n",
      "(tensor(0.2075), tensor(-0.0144), tensor(0.9304))\n",
      "(tensor(0.1735), tensor(-0.0452), tensor(0.7394))\n",
      "(tensor(0.0588), tensor(-0.0193), tensor(0.6724))\n",
      "(tensor(0.0525), tensor(-0.0232), tensor(0.5584))\n",
      "(tensor(0.1587), tensor(-0.0405), tensor(0.7451))\n",
      "(tensor(0.0821), tensor(-0.0182), tensor(0.7782))\n",
      "(tensor(0.1963), tensor(-0.0666), tensor(0.6608))\n"
     ]
    }
   ],
   "source": [
    "layer = 11\n",
    "for head in range(12):\n",
    "    print((data[143000]['thresholded_de'][0][layer, head], data[143000]['thresholded_cil'][0][layer, head], repair_score[layer, head]))"
   ]
  },
  {
   "cell_type": "code",
   "execution_count": 91,
   "metadata": {},
   "outputs": [
    {
     "data": {
      "application/vnd.plotly.v1+json": {
       "config": {
        "plotlyServerURL": "https://plot.ly"
       },
       "data": [
        {
         "marker": {
          "color": [
           0,
           0,
           0,
           0,
           0,
           0,
           0,
           0,
           0,
           0,
           0,
           0,
           1,
           1,
           1,
           1,
           1,
           1,
           1,
           1,
           1,
           1,
           1,
           1,
           2,
           2,
           2,
           2,
           2,
           2,
           2,
           2,
           2,
           2,
           2,
           2,
           3,
           3,
           3,
           3,
           3,
           3,
           3,
           3,
           3,
           3,
           3,
           3,
           4,
           4,
           4,
           4,
           4,
           4,
           4,
           4,
           4,
           4,
           4,
           4,
           5,
           5,
           5,
           5,
           5,
           5,
           5,
           5,
           5,
           5,
           5,
           5,
           6,
           6,
           6,
           6,
           6,
           6,
           6,
           6,
           6,
           6,
           6,
           6,
           7,
           7,
           7,
           7,
           7,
           7,
           7,
           7,
           7,
           7,
           7,
           7,
           8,
           8,
           8,
           8,
           8,
           8,
           8,
           8,
           8,
           8,
           8,
           8,
           9,
           9,
           9,
           9,
           9,
           9,
           9,
           9,
           9,
           9,
           9,
           9,
           10,
           10,
           10,
           10,
           10,
           10,
           10,
           10,
           10,
           10,
           10,
           10,
           11,
           11,
           11,
           11,
           11,
           11,
           11,
           11,
           11,
           11,
           11,
           11
          ],
          "colorbar": {
           "orientation": "h",
           "title": {
            "text": "Layer"
           }
          },
          "colorscale": [
           [
            0,
            "#440154"
           ],
           [
            0.1111111111111111,
            "#482878"
           ],
           [
            0.2222222222222222,
            "#3e4989"
           ],
           [
            0.3333333333333333,
            "#31688e"
           ],
           [
            0.4444444444444444,
            "#26828e"
           ],
           [
            0.5555555555555556,
            "#1f9e89"
           ],
           [
            0.6666666666666666,
            "#35b779"
           ],
           [
            0.7777777777777778,
            "#6ece58"
           ],
           [
            0.8888888888888888,
            "#b5de2b"
           ],
           [
            1,
            "#fde725"
           ]
          ],
          "line": {
           "color": "DarkSlateGrey",
           "width": 0.5
          },
          "opacity": 0.8,
          "size": 8
         },
         "mode": "markers",
         "name": "Attention Heads",
         "text": [
          "Layer 0, Head 0",
          "Layer 0, Head 1",
          "Layer 0, Head 2",
          "Layer 0, Head 3",
          "Layer 0, Head 4",
          "Layer 0, Head 5",
          "Layer 0, Head 6",
          "Layer 0, Head 7",
          "Layer 0, Head 8",
          "Layer 0, Head 9",
          "Layer 0, Head 10",
          "Layer 0, Head 11",
          "Layer 1, Head 0",
          "Layer 1, Head 1",
          "Layer 1, Head 2",
          "Layer 1, Head 3",
          "Layer 1, Head 4",
          "Layer 1, Head 5",
          "Layer 1, Head 6",
          "Layer 1, Head 7",
          "Layer 1, Head 8",
          "Layer 1, Head 9",
          "Layer 1, Head 10",
          "Layer 1, Head 11",
          "Layer 2, Head 0",
          "Layer 2, Head 1",
          "Layer 2, Head 2",
          "Layer 2, Head 3",
          "Layer 2, Head 4",
          "Layer 2, Head 5",
          "Layer 2, Head 6",
          "Layer 2, Head 7",
          "Layer 2, Head 8",
          "Layer 2, Head 9",
          "Layer 2, Head 10",
          "Layer 2, Head 11",
          "Layer 3, Head 0",
          "Layer 3, Head 1",
          "Layer 3, Head 2",
          "Layer 3, Head 3",
          "Layer 3, Head 4",
          "Layer 3, Head 5",
          "Layer 3, Head 6",
          "Layer 3, Head 7",
          "Layer 3, Head 8",
          "Layer 3, Head 9",
          "Layer 3, Head 10",
          "Layer 3, Head 11",
          "Layer 4, Head 0",
          "Layer 4, Head 1",
          "Layer 4, Head 2",
          "Layer 4, Head 3",
          "Layer 4, Head 4",
          "Layer 4, Head 5",
          "Layer 4, Head 6",
          "Layer 4, Head 7",
          "Layer 4, Head 8",
          "Layer 4, Head 9",
          "Layer 4, Head 10",
          "Layer 4, Head 11",
          "Layer 5, Head 0",
          "Layer 5, Head 1",
          "Layer 5, Head 2",
          "Layer 5, Head 3",
          "Layer 5, Head 4",
          "Layer 5, Head 5",
          "Layer 5, Head 6",
          "Layer 5, Head 7",
          "Layer 5, Head 8",
          "Layer 5, Head 9",
          "Layer 5, Head 10",
          "Layer 5, Head 11",
          "Layer 6, Head 0",
          "Layer 6, Head 1",
          "Layer 6, Head 2",
          "Layer 6, Head 3",
          "Layer 6, Head 4",
          "Layer 6, Head 5",
          "Layer 6, Head 6",
          "Layer 6, Head 7",
          "Layer 6, Head 8",
          "Layer 6, Head 9",
          "Layer 6, Head 10",
          "Layer 6, Head 11",
          "Layer 7, Head 0",
          "Layer 7, Head 1",
          "Layer 7, Head 2",
          "Layer 7, Head 3",
          "Layer 7, Head 4",
          "Layer 7, Head 5",
          "Layer 7, Head 6",
          "Layer 7, Head 7",
          "Layer 7, Head 8",
          "Layer 7, Head 9",
          "Layer 7, Head 10",
          "Layer 7, Head 11",
          "Layer 8, Head 0",
          "Layer 8, Head 1",
          "Layer 8, Head 2",
          "Layer 8, Head 3",
          "Layer 8, Head 4",
          "Layer 8, Head 5",
          "Layer 8, Head 6",
          "Layer 8, Head 7",
          "Layer 8, Head 8",
          "Layer 8, Head 9",
          "Layer 8, Head 10",
          "Layer 8, Head 11",
          "Layer 9, Head 0",
          "Layer 9, Head 1",
          "Layer 9, Head 2",
          "Layer 9, Head 3",
          "Layer 9, Head 4",
          "Layer 9, Head 5",
          "Layer 9, Head 6",
          "Layer 9, Head 7",
          "Layer 9, Head 8",
          "Layer 9, Head 9",
          "Layer 9, Head 10",
          "Layer 9, Head 11",
          "Layer 10, Head 0",
          "Layer 10, Head 1",
          "Layer 10, Head 2",
          "Layer 10, Head 3",
          "Layer 10, Head 4",
          "Layer 10, Head 5",
          "Layer 10, Head 6",
          "Layer 10, Head 7",
          "Layer 10, Head 8",
          "Layer 10, Head 9",
          "Layer 10, Head 10",
          "Layer 10, Head 11",
          "Layer 11, Head 0",
          "Layer 11, Head 1",
          "Layer 11, Head 2",
          "Layer 11, Head 3",
          "Layer 11, Head 4",
          "Layer 11, Head 5",
          "Layer 11, Head 6",
          "Layer 11, Head 7",
          "Layer 11, Head 8",
          "Layer 11, Head 9",
          "Layer 11, Head 10",
          "Layer 11, Head 11"
         ],
         "type": "scatter",
         "x": [
          0.030324507504701614,
          0.013429028913378716,
          -0.010004264302551746,
          0.020465299487113953,
          0.03210778161883354,
          0.018871139734983444,
          0.038739949464797974,
          -0.041972752660512924,
          -0.002099133562296629,
          0.019742926582694054,
          0.005440175533294678,
          0.020880477502942085,
          0.017725704237818718,
          -0.010238165967166424,
          0.003319045528769493,
          0.02145262248814106,
          0.021586336195468903,
          0.02136351726949215,
          -0.01350822951644659,
          0.010287312790751457,
          0.010408077389001846,
          0.005972601938992739,
          0.001310373074375093,
          0.010383499786257744,
          0.007428138516843319,
          0.01295908261090517,
          0.00865251012146473,
          0.024908820167183876,
          0.006194974761456251,
          0.027608120813965797,
          0.00911052618175745,
          0.03203725069761276,
          0.025947831571102142,
          0.006552129052579403,
          0.029199913144111633,
          0.02412005327641964,
          0.004510222934186459,
          0.04765069857239723,
          0.03164110705256462,
          -0.04422390088438988,
          0.012100382708013058,
          0.008426020853221416,
          0.003051263280212879,
          -0.040009334683418274,
          0.025285623967647552,
          0.02991809882223606,
          0.03357426077127457,
          0.007406151853501797,
          0.026789793744683266,
          0.03716527670621872,
          0.02138972468674183,
          0.08047417551279068,
          0.025897644460201263,
          0.039356160908937454,
          -0.0014574064407497644,
          0.03304901346564293,
          0.032345645129680634,
          0.06886034458875656,
          -0.02222556248307228,
          0.036156248301267624,
          0.08889426290988922,
          0.04364998638629913,
          0.049376003444194794,
          0.03426997363567352,
          0.03798622265458107,
          0.028061972931027412,
          -0.0014385482063516974,
          0.03630821034312248,
          0.04110868647694588,
          0.035308483988046646,
          -0.006729953922331333,
          0.031160686165094376,
          0.050645798444747925,
          0.06798073649406433,
          0.031248237937688828,
          0.04487696290016174,
          0.058111101388931274,
          0.006128514185547829,
          0.08980528265237808,
          -0.09290117025375366,
          0.03422202542424202,
          0.007999010384082794,
          0.0015261052176356316,
          0.02164296992123127,
          -0.002558054169639945,
          0.021226705983281136,
          -0.010074942372739315,
          0.009421889670193195,
          0.02348180115222931,
          -0.0025172890163958073,
          -0.00626353221014142,
          0.0641145184636116,
          0.1754852682352066,
          0.006575264502316713,
          -0.011591748334467411,
          -0.05707843229174614,
          0.03467608988285065,
          0.02788933925330639,
          0.03273962438106537,
          0.03176572918891907,
          0.038588088005781174,
          0.03762901574373245,
          -0.014793201349675655,
          0.017741693183779716,
          0.03376951068639755,
          0.0029752838890999556,
          0.054036326706409454,
          0.03828907012939453,
          -0.0014388663694262505,
          -0.01890604756772518,
          0.012370592914521694,
          0.1178501546382904,
          0.02604520507156849,
          -0.0009639305644668639,
          0.01662503555417061,
          0.03484887629747391,
          0.02681697905063629,
          0.02535564824938774,
          0.02049269899725914,
          -0.0020003807730972767,
          0.011696279980242252,
          0.042530402541160583,
          0.004491358995437622,
          0.013876760378479958,
          0.02847454883158207,
          0.06353519856929779,
          0.003870883025228977,
          0.016579478979110718,
          0.009245585650205612,
          0.06079769879579544,
          0.01689012162387371,
          0.012368784286081791,
          0.3570389151573181,
          0.14184053242206573,
          0.11891700327396393,
          0.0933837965130806,
          0.02561192959547043,
          0.20750856399536133,
          0.17351354658603668,
          0.058768074959516525,
          0.05248822271823883,
          0.15870727598667145,
          0.08209346979856491,
          0.1963147222995758
         ],
         "y": [
          -0.48138901591300964,
          -0.11481976509094238,
          -0.3895086348056793,
          -0.5902295708656311,
          -0.3153199553489685,
          -0.05591431260108948,
          -0.036689791828393936,
          -0.11049005389213562,
          -0.3895380198955536,
          -0.11485596746206284,
          -0.2183995544910431,
          -0.0913865715265274,
          -0.12889158725738525,
          -0.2485123723745346,
          -0.419612854719162,
          -0.042862266302108765,
          -0.1738452911376953,
          -0.17614467442035675,
          -0.06688995659351349,
          -0.3599315285682678,
          -0.08222462236881256,
          -0.12327755987644196,
          -0.03793289139866829,
          -0.1077570766210556,
          -0.08666864037513733,
          -0.11504951864480972,
          -0.11012063920497894,
          -0.14353018999099731,
          -0.03437817096710205,
          -0.18501466512680054,
          -0.141805037856102,
          -0.3427969515323639,
          -0.2039744108915329,
          -0.2002285122871399,
          -0.200942263007164,
          -0.18656083941459656,
          -0.14869898557662964,
          -0.2847236692905426,
          -0.8681041598320007,
          -0.5324717164039612,
          -0.20045386254787445,
          -0.08191553503274918,
          -0.07202842086553574,
          0.10803317278623581,
          -0.12002216279506683,
          -0.14507551491260529,
          -0.1683393120765686,
          -0.11044155061244965,
          -0.13985827565193176,
          0.0230936910957098,
          -0.13470688462257385,
          -0.2177080512046814,
          -0.09607367217540741,
          -0.18209359049797058,
          -0.04170830175280571,
          -0.09653794020414352,
          -0.13687525689601898,
          -0.3515377342700958,
          -0.02435239590704441,
          -0.1219494640827179,
          -0.10385788977146149,
          -0.2428332418203354,
          -0.06381120532751083,
          -0.1087971106171608,
          -0.13837872445583344,
          -0.1931602656841278,
          -0.009050627239048481,
          -0.02777087688446045,
          -0.19607296586036682,
          -0.04907701909542084,
          -0.05377621203660965,
          -0.06359204649925232,
          -0.1307046264410019,
          -0.11116151511669159,
          -0.060835812240839005,
          -0.08192955702543259,
          -0.08134961873292923,
          -0.017415909096598625,
          -0.1136225163936615,
          0.11634605377912521,
          -0.09809619933366776,
          -0.01696106418967247,
          -0.042313337326049805,
          -0.1297929584980011,
          -0.054922010749578476,
          -0.04864170029759407,
          0.008469007909297943,
          -0.03162570670247078,
          -0.05622634291648865,
          -0.009363437071442604,
          -0.004424222745001316,
          -0.27635496854782104,
          -0.42911431193351746,
          -0.013278353027999401,
          -0.0029041366651654243,
          -0.09730086475610733,
          -0.03589197248220444,
          -0.023033790290355682,
          -0.013108189217746258,
          -0.0198836587369442,
          -0.07169529050588608,
          -0.018773917108774185,
          -0.005158981308341026,
          -0.02195604145526886,
          -0.017581691965460777,
          -0.007151236291974783,
          -0.039017729461193085,
          -0.022629473358392715,
          -0.010964516550302505,
          0.007060113828629255,
          -0.010821863077580929,
          -0.12584944069385529,
          -0.015923915430903435,
          0.013818230479955673,
          -0.012964969500899315,
          -0.02721221186220646,
          -0.024199429899454117,
          -0.016047418117523193,
          -0.032094746828079224,
          -0.0062298099510371685,
          -0.006497666705399752,
          -0.04580116271972656,
          0.00308631407096982,
          -0.006438873242586851,
          -0.015598769299685955,
          -0.07177678495645523,
          -0.0099874846637249,
          -0.01298731379210949,
          -0.009930080734193325,
          -0.05512004345655441,
          -0.012971949763596058,
          -0.01160613726824522,
          -0.0820346549153328,
          -0.019732585176825523,
          -0.02631162479519844,
          -0.022403737530112267,
          -0.011316214688122272,
          -0.014440587721765041,
          -0.04521365091204643,
          -0.019252214580774307,
          -0.023177342489361763,
          -0.040455032140016556,
          -0.018212158232927322,
          -0.06659945100545883
         ]
        },
        {
         "line": {
          "color": "grey",
          "dash": "dot"
         },
         "mode": "lines",
         "name": "Y=-X",
         "type": "scatter",
         "x": [
          -0.4,
          0.2
         ],
         "y": [
          0.4,
          -0.2
         ]
        }
       ],
       "layout": {
        "height": 500,
        "legend": {
         "title": {
          "text": "Component"
         }
        },
        "showlegend": false,
        "template": {
         "data": {
          "bar": [
           {
            "error_x": {
             "color": "#2a3f5f"
            },
            "error_y": {
             "color": "#2a3f5f"
            },
            "marker": {
             "line": {
              "color": "#E5ECF6",
              "width": 0.5
             },
             "pattern": {
              "fillmode": "overlay",
              "size": 10,
              "solidity": 0.2
             }
            },
            "type": "bar"
           }
          ],
          "barpolar": [
           {
            "marker": {
             "line": {
              "color": "#E5ECF6",
              "width": 0.5
             },
             "pattern": {
              "fillmode": "overlay",
              "size": 10,
              "solidity": 0.2
             }
            },
            "type": "barpolar"
           }
          ],
          "carpet": [
           {
            "aaxis": {
             "endlinecolor": "#2a3f5f",
             "gridcolor": "white",
             "linecolor": "white",
             "minorgridcolor": "white",
             "startlinecolor": "#2a3f5f"
            },
            "baxis": {
             "endlinecolor": "#2a3f5f",
             "gridcolor": "white",
             "linecolor": "white",
             "minorgridcolor": "white",
             "startlinecolor": "#2a3f5f"
            },
            "type": "carpet"
           }
          ],
          "choropleth": [
           {
            "colorbar": {
             "outlinewidth": 0,
             "ticks": ""
            },
            "type": "choropleth"
           }
          ],
          "contour": [
           {
            "colorbar": {
             "outlinewidth": 0,
             "ticks": ""
            },
            "colorscale": [
             [
              0,
              "#0d0887"
             ],
             [
              0.1111111111111111,
              "#46039f"
             ],
             [
              0.2222222222222222,
              "#7201a8"
             ],
             [
              0.3333333333333333,
              "#9c179e"
             ],
             [
              0.4444444444444444,
              "#bd3786"
             ],
             [
              0.5555555555555556,
              "#d8576b"
             ],
             [
              0.6666666666666666,
              "#ed7953"
             ],
             [
              0.7777777777777778,
              "#fb9f3a"
             ],
             [
              0.8888888888888888,
              "#fdca26"
             ],
             [
              1,
              "#f0f921"
             ]
            ],
            "type": "contour"
           }
          ],
          "contourcarpet": [
           {
            "colorbar": {
             "outlinewidth": 0,
             "ticks": ""
            },
            "type": "contourcarpet"
           }
          ],
          "heatmap": [
           {
            "colorbar": {
             "outlinewidth": 0,
             "ticks": ""
            },
            "colorscale": [
             [
              0,
              "#0d0887"
             ],
             [
              0.1111111111111111,
              "#46039f"
             ],
             [
              0.2222222222222222,
              "#7201a8"
             ],
             [
              0.3333333333333333,
              "#9c179e"
             ],
             [
              0.4444444444444444,
              "#bd3786"
             ],
             [
              0.5555555555555556,
              "#d8576b"
             ],
             [
              0.6666666666666666,
              "#ed7953"
             ],
             [
              0.7777777777777778,
              "#fb9f3a"
             ],
             [
              0.8888888888888888,
              "#fdca26"
             ],
             [
              1,
              "#f0f921"
             ]
            ],
            "type": "heatmap"
           }
          ],
          "heatmapgl": [
           {
            "colorbar": {
             "outlinewidth": 0,
             "ticks": ""
            },
            "colorscale": [
             [
              0,
              "#0d0887"
             ],
             [
              0.1111111111111111,
              "#46039f"
             ],
             [
              0.2222222222222222,
              "#7201a8"
             ],
             [
              0.3333333333333333,
              "#9c179e"
             ],
             [
              0.4444444444444444,
              "#bd3786"
             ],
             [
              0.5555555555555556,
              "#d8576b"
             ],
             [
              0.6666666666666666,
              "#ed7953"
             ],
             [
              0.7777777777777778,
              "#fb9f3a"
             ],
             [
              0.8888888888888888,
              "#fdca26"
             ],
             [
              1,
              "#f0f921"
             ]
            ],
            "type": "heatmapgl"
           }
          ],
          "histogram": [
           {
            "marker": {
             "pattern": {
              "fillmode": "overlay",
              "size": 10,
              "solidity": 0.2
             }
            },
            "type": "histogram"
           }
          ],
          "histogram2d": [
           {
            "colorbar": {
             "outlinewidth": 0,
             "ticks": ""
            },
            "colorscale": [
             [
              0,
              "#0d0887"
             ],
             [
              0.1111111111111111,
              "#46039f"
             ],
             [
              0.2222222222222222,
              "#7201a8"
             ],
             [
              0.3333333333333333,
              "#9c179e"
             ],
             [
              0.4444444444444444,
              "#bd3786"
             ],
             [
              0.5555555555555556,
              "#d8576b"
             ],
             [
              0.6666666666666666,
              "#ed7953"
             ],
             [
              0.7777777777777778,
              "#fb9f3a"
             ],
             [
              0.8888888888888888,
              "#fdca26"
             ],
             [
              1,
              "#f0f921"
             ]
            ],
            "type": "histogram2d"
           }
          ],
          "histogram2dcontour": [
           {
            "colorbar": {
             "outlinewidth": 0,
             "ticks": ""
            },
            "colorscale": [
             [
              0,
              "#0d0887"
             ],
             [
              0.1111111111111111,
              "#46039f"
             ],
             [
              0.2222222222222222,
              "#7201a8"
             ],
             [
              0.3333333333333333,
              "#9c179e"
             ],
             [
              0.4444444444444444,
              "#bd3786"
             ],
             [
              0.5555555555555556,
              "#d8576b"
             ],
             [
              0.6666666666666666,
              "#ed7953"
             ],
             [
              0.7777777777777778,
              "#fb9f3a"
             ],
             [
              0.8888888888888888,
              "#fdca26"
             ],
             [
              1,
              "#f0f921"
             ]
            ],
            "type": "histogram2dcontour"
           }
          ],
          "mesh3d": [
           {
            "colorbar": {
             "outlinewidth": 0,
             "ticks": ""
            },
            "type": "mesh3d"
           }
          ],
          "parcoords": [
           {
            "line": {
             "colorbar": {
              "outlinewidth": 0,
              "ticks": ""
             }
            },
            "type": "parcoords"
           }
          ],
          "pie": [
           {
            "automargin": true,
            "type": "pie"
           }
          ],
          "scatter": [
           {
            "fillpattern": {
             "fillmode": "overlay",
             "size": 10,
             "solidity": 0.2
            },
            "type": "scatter"
           }
          ],
          "scatter3d": [
           {
            "line": {
             "colorbar": {
              "outlinewidth": 0,
              "ticks": ""
             }
            },
            "marker": {
             "colorbar": {
              "outlinewidth": 0,
              "ticks": ""
             }
            },
            "type": "scatter3d"
           }
          ],
          "scattercarpet": [
           {
            "marker": {
             "colorbar": {
              "outlinewidth": 0,
              "ticks": ""
             }
            },
            "type": "scattercarpet"
           }
          ],
          "scattergeo": [
           {
            "marker": {
             "colorbar": {
              "outlinewidth": 0,
              "ticks": ""
             }
            },
            "type": "scattergeo"
           }
          ],
          "scattergl": [
           {
            "marker": {
             "colorbar": {
              "outlinewidth": 0,
              "ticks": ""
             }
            },
            "type": "scattergl"
           }
          ],
          "scattermapbox": [
           {
            "marker": {
             "colorbar": {
              "outlinewidth": 0,
              "ticks": ""
             }
            },
            "type": "scattermapbox"
           }
          ],
          "scatterpolar": [
           {
            "marker": {
             "colorbar": {
              "outlinewidth": 0,
              "ticks": ""
             }
            },
            "type": "scatterpolar"
           }
          ],
          "scatterpolargl": [
           {
            "marker": {
             "colorbar": {
              "outlinewidth": 0,
              "ticks": ""
             }
            },
            "type": "scatterpolargl"
           }
          ],
          "scatterternary": [
           {
            "marker": {
             "colorbar": {
              "outlinewidth": 0,
              "ticks": ""
             }
            },
            "type": "scatterternary"
           }
          ],
          "surface": [
           {
            "colorbar": {
             "outlinewidth": 0,
             "ticks": ""
            },
            "colorscale": [
             [
              0,
              "#0d0887"
             ],
             [
              0.1111111111111111,
              "#46039f"
             ],
             [
              0.2222222222222222,
              "#7201a8"
             ],
             [
              0.3333333333333333,
              "#9c179e"
             ],
             [
              0.4444444444444444,
              "#bd3786"
             ],
             [
              0.5555555555555556,
              "#d8576b"
             ],
             [
              0.6666666666666666,
              "#ed7953"
             ],
             [
              0.7777777777777778,
              "#fb9f3a"
             ],
             [
              0.8888888888888888,
              "#fdca26"
             ],
             [
              1,
              "#f0f921"
             ]
            ],
            "type": "surface"
           }
          ],
          "table": [
           {
            "cells": {
             "fill": {
              "color": "#EBF0F8"
             },
             "line": {
              "color": "white"
             }
            },
            "header": {
             "fill": {
              "color": "#C8D4E3"
             },
             "line": {
              "color": "white"
             }
            },
            "type": "table"
           }
          ]
         },
         "layout": {
          "annotationdefaults": {
           "arrowcolor": "#2a3f5f",
           "arrowhead": 0,
           "arrowwidth": 1
          },
          "autotypenumbers": "strict",
          "coloraxis": {
           "colorbar": {
            "outlinewidth": 0,
            "ticks": ""
           }
          },
          "colorscale": {
           "diverging": [
            [
             0,
             "#8e0152"
            ],
            [
             0.1,
             "#c51b7d"
            ],
            [
             0.2,
             "#de77ae"
            ],
            [
             0.3,
             "#f1b6da"
            ],
            [
             0.4,
             "#fde0ef"
            ],
            [
             0.5,
             "#f7f7f7"
            ],
            [
             0.6,
             "#e6f5d0"
            ],
            [
             0.7,
             "#b8e186"
            ],
            [
             0.8,
             "#7fbc41"
            ],
            [
             0.9,
             "#4d9221"
            ],
            [
             1,
             "#276419"
            ]
           ],
           "sequential": [
            [
             0,
             "#0d0887"
            ],
            [
             0.1111111111111111,
             "#46039f"
            ],
            [
             0.2222222222222222,
             "#7201a8"
            ],
            [
             0.3333333333333333,
             "#9c179e"
            ],
            [
             0.4444444444444444,
             "#bd3786"
            ],
            [
             0.5555555555555556,
             "#d8576b"
            ],
            [
             0.6666666666666666,
             "#ed7953"
            ],
            [
             0.7777777777777778,
             "#fb9f3a"
            ],
            [
             0.8888888888888888,
             "#fdca26"
            ],
            [
             1,
             "#f0f921"
            ]
           ],
           "sequentialminus": [
            [
             0,
             "#0d0887"
            ],
            [
             0.1111111111111111,
             "#46039f"
            ],
            [
             0.2222222222222222,
             "#7201a8"
            ],
            [
             0.3333333333333333,
             "#9c179e"
            ],
            [
             0.4444444444444444,
             "#bd3786"
            ],
            [
             0.5555555555555556,
             "#d8576b"
            ],
            [
             0.6666666666666666,
             "#ed7953"
            ],
            [
             0.7777777777777778,
             "#fb9f3a"
            ],
            [
             0.8888888888888888,
             "#fdca26"
            ],
            [
             1,
             "#f0f921"
            ]
           ]
          },
          "colorway": [
           "#636efa",
           "#EF553B",
           "#00cc96",
           "#ab63fa",
           "#FFA15A",
           "#19d3f3",
           "#FF6692",
           "#B6E880",
           "#FF97FF",
           "#FECB52"
          ],
          "font": {
           "color": "#2a3f5f"
          },
          "geo": {
           "bgcolor": "white",
           "lakecolor": "white",
           "landcolor": "#E5ECF6",
           "showlakes": true,
           "showland": true,
           "subunitcolor": "white"
          },
          "hoverlabel": {
           "align": "left"
          },
          "hovermode": "closest",
          "mapbox": {
           "style": "light"
          },
          "paper_bgcolor": "white",
          "plot_bgcolor": "#E5ECF6",
          "polar": {
           "angularaxis": {
            "gridcolor": "white",
            "linecolor": "white",
            "ticks": ""
           },
           "bgcolor": "#E5ECF6",
           "radialaxis": {
            "gridcolor": "white",
            "linecolor": "white",
            "ticks": ""
           }
          },
          "scene": {
           "xaxis": {
            "backgroundcolor": "#E5ECF6",
            "gridcolor": "white",
            "gridwidth": 2,
            "linecolor": "white",
            "showbackground": true,
            "ticks": "",
            "zerolinecolor": "white"
           },
           "yaxis": {
            "backgroundcolor": "#E5ECF6",
            "gridcolor": "white",
            "gridwidth": 2,
            "linecolor": "white",
            "showbackground": true,
            "ticks": "",
            "zerolinecolor": "white"
           },
           "zaxis": {
            "backgroundcolor": "#E5ECF6",
            "gridcolor": "white",
            "gridwidth": 2,
            "linecolor": "white",
            "showbackground": true,
            "ticks": "",
            "zerolinecolor": "white"
           }
          },
          "shapedefaults": {
           "line": {
            "color": "#2a3f5f"
           }
          },
          "ternary": {
           "aaxis": {
            "gridcolor": "white",
            "linecolor": "white",
            "ticks": ""
           },
           "baxis": {
            "gridcolor": "white",
            "linecolor": "white",
            "ticks": ""
           },
           "bgcolor": "#E5ECF6",
           "caxis": {
            "gridcolor": "white",
            "linecolor": "white",
            "ticks": ""
           }
          },
          "title": {
           "x": 0.05
          },
          "xaxis": {
           "automargin": true,
           "gridcolor": "white",
           "linecolor": "white",
           "ticks": "",
           "title": {
            "standoff": 15
           },
           "zerolinecolor": "white",
           "zerolinewidth": 2
          },
          "yaxis": {
           "automargin": true,
           "gridcolor": "white",
           "linecolor": "white",
           "ticks": "",
           "title": {
            "standoff": 15
           },
           "zerolinecolor": "white",
           "zerolinewidth": 2
          }
         }
        },
        "title": {
         "text": "Self-Repair in pythia-160m at Checkpoint 143000",
         "x": 0.5
        },
        "width": 500,
        "xaxis": {
         "title": {
          "text": "Direct Effect of Component"
         }
        },
        "yaxis": {
         "title": {
          "text": "Change in Logits Upon Ablation"
         }
        }
       }
      },
      "text/html": [
       "<div>                            <div id=\"50286660-80ad-4504-aed2-1684d83b6abb\" class=\"plotly-graph-div\" style=\"height:500px; width:500px;\"></div>            <script type=\"text/javascript\">                require([\"plotly\"], function(Plotly) {                    window.PLOTLYENV=window.PLOTLYENV || {};                                    if (document.getElementById(\"50286660-80ad-4504-aed2-1684d83b6abb\")) {                    Plotly.newPlot(                        \"50286660-80ad-4504-aed2-1684d83b6abb\",                        [{\"marker\":{\"color\":[0.0,0.0,0.0,0.0,0.0,0.0,0.0,0.0,0.0,0.0,0.0,0.0,1.0,1.0,1.0,1.0,1.0,1.0,1.0,1.0,1.0,1.0,1.0,1.0,2.0,2.0,2.0,2.0,2.0,2.0,2.0,2.0,2.0,2.0,2.0,2.0,3.0,3.0,3.0,3.0,3.0,3.0,3.0,3.0,3.0,3.0,3.0,3.0,4.0,4.0,4.0,4.0,4.0,4.0,4.0,4.0,4.0,4.0,4.0,4.0,5.0,5.0,5.0,5.0,5.0,5.0,5.0,5.0,5.0,5.0,5.0,5.0,6.0,6.0,6.0,6.0,6.0,6.0,6.0,6.0,6.0,6.0,6.0,6.0,7.0,7.0,7.0,7.0,7.0,7.0,7.0,7.0,7.0,7.0,7.0,7.0,8.0,8.0,8.0,8.0,8.0,8.0,8.0,8.0,8.0,8.0,8.0,8.0,9.0,9.0,9.0,9.0,9.0,9.0,9.0,9.0,9.0,9.0,9.0,9.0,10.0,10.0,10.0,10.0,10.0,10.0,10.0,10.0,10.0,10.0,10.0,10.0,11.0,11.0,11.0,11.0,11.0,11.0,11.0,11.0,11.0,11.0,11.0,11.0],\"colorbar\":{\"orientation\":\"h\",\"title\":{\"text\":\"Layer\"}},\"colorscale\":[[0.0,\"#440154\"],[0.1111111111111111,\"#482878\"],[0.2222222222222222,\"#3e4989\"],[0.3333333333333333,\"#31688e\"],[0.4444444444444444,\"#26828e\"],[0.5555555555555556,\"#1f9e89\"],[0.6666666666666666,\"#35b779\"],[0.7777777777777778,\"#6ece58\"],[0.8888888888888888,\"#b5de2b\"],[1.0,\"#fde725\"]],\"line\":{\"color\":\"DarkSlateGrey\",\"width\":0.5},\"opacity\":0.8,\"size\":8},\"mode\":\"markers\",\"name\":\"Attention Heads\",\"text\":[\"Layer 0, Head 0\",\"Layer 0, Head 1\",\"Layer 0, Head 2\",\"Layer 0, Head 3\",\"Layer 0, Head 4\",\"Layer 0, Head 5\",\"Layer 0, Head 6\",\"Layer 0, Head 7\",\"Layer 0, Head 8\",\"Layer 0, Head 9\",\"Layer 0, Head 10\",\"Layer 0, Head 11\",\"Layer 1, Head 0\",\"Layer 1, Head 1\",\"Layer 1, Head 2\",\"Layer 1, Head 3\",\"Layer 1, Head 4\",\"Layer 1, Head 5\",\"Layer 1, Head 6\",\"Layer 1, Head 7\",\"Layer 1, Head 8\",\"Layer 1, Head 9\",\"Layer 1, Head 10\",\"Layer 1, Head 11\",\"Layer 2, Head 0\",\"Layer 2, Head 1\",\"Layer 2, Head 2\",\"Layer 2, Head 3\",\"Layer 2, Head 4\",\"Layer 2, Head 5\",\"Layer 2, Head 6\",\"Layer 2, Head 7\",\"Layer 2, Head 8\",\"Layer 2, Head 9\",\"Layer 2, Head 10\",\"Layer 2, Head 11\",\"Layer 3, Head 0\",\"Layer 3, Head 1\",\"Layer 3, Head 2\",\"Layer 3, Head 3\",\"Layer 3, Head 4\",\"Layer 3, Head 5\",\"Layer 3, Head 6\",\"Layer 3, Head 7\",\"Layer 3, Head 8\",\"Layer 3, Head 9\",\"Layer 3, Head 10\",\"Layer 3, Head 11\",\"Layer 4, Head 0\",\"Layer 4, Head 1\",\"Layer 4, Head 2\",\"Layer 4, Head 3\",\"Layer 4, Head 4\",\"Layer 4, Head 5\",\"Layer 4, Head 6\",\"Layer 4, Head 7\",\"Layer 4, Head 8\",\"Layer 4, Head 9\",\"Layer 4, Head 10\",\"Layer 4, Head 11\",\"Layer 5, Head 0\",\"Layer 5, Head 1\",\"Layer 5, Head 2\",\"Layer 5, Head 3\",\"Layer 5, Head 4\",\"Layer 5, Head 5\",\"Layer 5, Head 6\",\"Layer 5, Head 7\",\"Layer 5, Head 8\",\"Layer 5, Head 9\",\"Layer 5, Head 10\",\"Layer 5, Head 11\",\"Layer 6, Head 0\",\"Layer 6, Head 1\",\"Layer 6, Head 2\",\"Layer 6, Head 3\",\"Layer 6, Head 4\",\"Layer 6, Head 5\",\"Layer 6, Head 6\",\"Layer 6, Head 7\",\"Layer 6, Head 8\",\"Layer 6, Head 9\",\"Layer 6, Head 10\",\"Layer 6, Head 11\",\"Layer 7, Head 0\",\"Layer 7, Head 1\",\"Layer 7, Head 2\",\"Layer 7, Head 3\",\"Layer 7, Head 4\",\"Layer 7, Head 5\",\"Layer 7, Head 6\",\"Layer 7, Head 7\",\"Layer 7, Head 8\",\"Layer 7, Head 9\",\"Layer 7, Head 10\",\"Layer 7, Head 11\",\"Layer 8, Head 0\",\"Layer 8, Head 1\",\"Layer 8, Head 2\",\"Layer 8, Head 3\",\"Layer 8, Head 4\",\"Layer 8, Head 5\",\"Layer 8, Head 6\",\"Layer 8, Head 7\",\"Layer 8, Head 8\",\"Layer 8, Head 9\",\"Layer 8, Head 10\",\"Layer 8, Head 11\",\"Layer 9, Head 0\",\"Layer 9, Head 1\",\"Layer 9, Head 2\",\"Layer 9, Head 3\",\"Layer 9, Head 4\",\"Layer 9, Head 5\",\"Layer 9, Head 6\",\"Layer 9, Head 7\",\"Layer 9, Head 8\",\"Layer 9, Head 9\",\"Layer 9, Head 10\",\"Layer 9, Head 11\",\"Layer 10, Head 0\",\"Layer 10, Head 1\",\"Layer 10, Head 2\",\"Layer 10, Head 3\",\"Layer 10, Head 4\",\"Layer 10, Head 5\",\"Layer 10, Head 6\",\"Layer 10, Head 7\",\"Layer 10, Head 8\",\"Layer 10, Head 9\",\"Layer 10, Head 10\",\"Layer 10, Head 11\",\"Layer 11, Head 0\",\"Layer 11, Head 1\",\"Layer 11, Head 2\",\"Layer 11, Head 3\",\"Layer 11, Head 4\",\"Layer 11, Head 5\",\"Layer 11, Head 6\",\"Layer 11, Head 7\",\"Layer 11, Head 8\",\"Layer 11, Head 9\",\"Layer 11, Head 10\",\"Layer 11, Head 11\"],\"x\":[0.030324507504701614,0.013429028913378716,-0.010004264302551746,0.020465299487113953,0.03210778161883354,0.018871139734983444,0.038739949464797974,-0.041972752660512924,-0.002099133562296629,0.019742926582694054,0.005440175533294678,0.020880477502942085,0.017725704237818718,-0.010238165967166424,0.003319045528769493,0.02145262248814106,0.021586336195468903,0.02136351726949215,-0.01350822951644659,0.010287312790751457,0.010408077389001846,0.005972601938992739,0.001310373074375093,0.010383499786257744,0.007428138516843319,0.01295908261090517,0.00865251012146473,0.024908820167183876,0.006194974761456251,0.027608120813965797,0.00911052618175745,0.03203725069761276,0.025947831571102142,0.006552129052579403,0.029199913144111633,0.02412005327641964,0.004510222934186459,0.04765069857239723,0.03164110705256462,-0.04422390088438988,0.012100382708013058,0.008426020853221416,0.003051263280212879,-0.040009334683418274,0.025285623967647552,0.02991809882223606,0.03357426077127457,0.007406151853501797,0.026789793744683266,0.03716527670621872,0.02138972468674183,0.08047417551279068,0.025897644460201263,0.039356160908937454,-0.0014574064407497644,0.03304901346564293,0.032345645129680634,0.06886034458875656,-0.02222556248307228,0.036156248301267624,0.08889426290988922,0.04364998638629913,0.049376003444194794,0.03426997363567352,0.03798622265458107,0.028061972931027412,-0.0014385482063516974,0.03630821034312248,0.04110868647694588,0.035308483988046646,-0.006729953922331333,0.031160686165094376,0.050645798444747925,0.06798073649406433,0.031248237937688828,0.04487696290016174,0.058111101388931274,0.006128514185547829,0.08980528265237808,-0.09290117025375366,0.03422202542424202,0.007999010384082794,0.0015261052176356316,0.02164296992123127,-0.002558054169639945,0.021226705983281136,-0.010074942372739315,0.009421889670193195,0.02348180115222931,-0.0025172890163958073,-0.00626353221014142,0.0641145184636116,0.1754852682352066,0.006575264502316713,-0.011591748334467411,-0.05707843229174614,0.03467608988285065,0.02788933925330639,0.03273962438106537,0.03176572918891907,0.038588088005781174,0.03762901574373245,-0.014793201349675655,0.017741693183779716,0.03376951068639755,0.0029752838890999556,0.054036326706409454,0.03828907012939453,-0.0014388663694262505,-0.01890604756772518,0.012370592914521694,0.1178501546382904,0.02604520507156849,-0.0009639305644668639,0.01662503555417061,0.03484887629747391,0.02681697905063629,0.02535564824938774,0.02049269899725914,-0.0020003807730972767,0.011696279980242252,0.042530402541160583,0.004491358995437622,0.013876760378479958,0.02847454883158207,0.06353519856929779,0.003870883025228977,0.016579478979110718,0.009245585650205612,0.06079769879579544,0.01689012162387371,0.012368784286081791,0.3570389151573181,0.14184053242206573,0.11891700327396393,0.0933837965130806,0.02561192959547043,0.20750856399536133,0.17351354658603668,0.058768074959516525,0.05248822271823883,0.15870727598667145,0.08209346979856491,0.1963147222995758],\"y\":[-0.48138901591300964,-0.11481976509094238,-0.3895086348056793,-0.5902295708656311,-0.3153199553489685,-0.05591431260108948,-0.036689791828393936,-0.11049005389213562,-0.3895380198955536,-0.11485596746206284,-0.2183995544910431,-0.0913865715265274,-0.12889158725738525,-0.2485123723745346,-0.419612854719162,-0.042862266302108765,-0.1738452911376953,-0.17614467442035675,-0.06688995659351349,-0.3599315285682678,-0.08222462236881256,-0.12327755987644196,-0.03793289139866829,-0.1077570766210556,-0.08666864037513733,-0.11504951864480972,-0.11012063920497894,-0.14353018999099731,-0.03437817096710205,-0.18501466512680054,-0.141805037856102,-0.3427969515323639,-0.2039744108915329,-0.2002285122871399,-0.200942263007164,-0.18656083941459656,-0.14869898557662964,-0.2847236692905426,-0.8681041598320007,-0.5324717164039612,-0.20045386254787445,-0.08191553503274918,-0.07202842086553574,0.10803317278623581,-0.12002216279506683,-0.14507551491260529,-0.1683393120765686,-0.11044155061244965,-0.13985827565193176,0.0230936910957098,-0.13470688462257385,-0.2177080512046814,-0.09607367217540741,-0.18209359049797058,-0.04170830175280571,-0.09653794020414352,-0.13687525689601898,-0.3515377342700958,-0.02435239590704441,-0.1219494640827179,-0.10385788977146149,-0.2428332418203354,-0.06381120532751083,-0.1087971106171608,-0.13837872445583344,-0.1931602656841278,-0.009050627239048481,-0.02777087688446045,-0.19607296586036682,-0.04907701909542084,-0.05377621203660965,-0.06359204649925232,-0.1307046264410019,-0.11116151511669159,-0.060835812240839005,-0.08192955702543259,-0.08134961873292923,-0.017415909096598625,-0.1136225163936615,0.11634605377912521,-0.09809619933366776,-0.01696106418967247,-0.042313337326049805,-0.1297929584980011,-0.054922010749578476,-0.04864170029759407,0.008469007909297943,-0.03162570670247078,-0.05622634291648865,-0.009363437071442604,-0.004424222745001316,-0.27635496854782104,-0.42911431193351746,-0.013278353027999401,-0.0029041366651654243,-0.09730086475610733,-0.03589197248220444,-0.023033790290355682,-0.013108189217746258,-0.0198836587369442,-0.07169529050588608,-0.018773917108774185,-0.005158981308341026,-0.02195604145526886,-0.017581691965460777,-0.007151236291974783,-0.039017729461193085,-0.022629473358392715,-0.010964516550302505,0.007060113828629255,-0.010821863077580929,-0.12584944069385529,-0.015923915430903435,0.013818230479955673,-0.012964969500899315,-0.02721221186220646,-0.024199429899454117,-0.016047418117523193,-0.032094746828079224,-0.0062298099510371685,-0.006497666705399752,-0.04580116271972656,0.00308631407096982,-0.006438873242586851,-0.015598769299685955,-0.07177678495645523,-0.0099874846637249,-0.01298731379210949,-0.009930080734193325,-0.05512004345655441,-0.012971949763596058,-0.01160613726824522,-0.0820346549153328,-0.019732585176825523,-0.02631162479519844,-0.022403737530112267,-0.011316214688122272,-0.014440587721765041,-0.04521365091204643,-0.019252214580774307,-0.023177342489361763,-0.040455032140016556,-0.018212158232927322,-0.06659945100545883],\"type\":\"scatter\"},{\"line\":{\"color\":\"grey\",\"dash\":\"dot\"},\"mode\":\"lines\",\"name\":\"Y=-X\",\"x\":[-0.4,0.2],\"y\":[0.4,-0.2],\"type\":\"scatter\"}],                        {\"template\":{\"data\":{\"histogram2dcontour\":[{\"type\":\"histogram2dcontour\",\"colorbar\":{\"outlinewidth\":0,\"ticks\":\"\"},\"colorscale\":[[0.0,\"#0d0887\"],[0.1111111111111111,\"#46039f\"],[0.2222222222222222,\"#7201a8\"],[0.3333333333333333,\"#9c179e\"],[0.4444444444444444,\"#bd3786\"],[0.5555555555555556,\"#d8576b\"],[0.6666666666666666,\"#ed7953\"],[0.7777777777777778,\"#fb9f3a\"],[0.8888888888888888,\"#fdca26\"],[1.0,\"#f0f921\"]]}],\"choropleth\":[{\"type\":\"choropleth\",\"colorbar\":{\"outlinewidth\":0,\"ticks\":\"\"}}],\"histogram2d\":[{\"type\":\"histogram2d\",\"colorbar\":{\"outlinewidth\":0,\"ticks\":\"\"},\"colorscale\":[[0.0,\"#0d0887\"],[0.1111111111111111,\"#46039f\"],[0.2222222222222222,\"#7201a8\"],[0.3333333333333333,\"#9c179e\"],[0.4444444444444444,\"#bd3786\"],[0.5555555555555556,\"#d8576b\"],[0.6666666666666666,\"#ed7953\"],[0.7777777777777778,\"#fb9f3a\"],[0.8888888888888888,\"#fdca26\"],[1.0,\"#f0f921\"]]}],\"heatmap\":[{\"type\":\"heatmap\",\"colorbar\":{\"outlinewidth\":0,\"ticks\":\"\"},\"colorscale\":[[0.0,\"#0d0887\"],[0.1111111111111111,\"#46039f\"],[0.2222222222222222,\"#7201a8\"],[0.3333333333333333,\"#9c179e\"],[0.4444444444444444,\"#bd3786\"],[0.5555555555555556,\"#d8576b\"],[0.6666666666666666,\"#ed7953\"],[0.7777777777777778,\"#fb9f3a\"],[0.8888888888888888,\"#fdca26\"],[1.0,\"#f0f921\"]]}],\"heatmapgl\":[{\"type\":\"heatmapgl\",\"colorbar\":{\"outlinewidth\":0,\"ticks\":\"\"},\"colorscale\":[[0.0,\"#0d0887\"],[0.1111111111111111,\"#46039f\"],[0.2222222222222222,\"#7201a8\"],[0.3333333333333333,\"#9c179e\"],[0.4444444444444444,\"#bd3786\"],[0.5555555555555556,\"#d8576b\"],[0.6666666666666666,\"#ed7953\"],[0.7777777777777778,\"#fb9f3a\"],[0.8888888888888888,\"#fdca26\"],[1.0,\"#f0f921\"]]}],\"contourcarpet\":[{\"type\":\"contourcarpet\",\"colorbar\":{\"outlinewidth\":0,\"ticks\":\"\"}}],\"contour\":[{\"type\":\"contour\",\"colorbar\":{\"outlinewidth\":0,\"ticks\":\"\"},\"colorscale\":[[0.0,\"#0d0887\"],[0.1111111111111111,\"#46039f\"],[0.2222222222222222,\"#7201a8\"],[0.3333333333333333,\"#9c179e\"],[0.4444444444444444,\"#bd3786\"],[0.5555555555555556,\"#d8576b\"],[0.6666666666666666,\"#ed7953\"],[0.7777777777777778,\"#fb9f3a\"],[0.8888888888888888,\"#fdca26\"],[1.0,\"#f0f921\"]]}],\"surface\":[{\"type\":\"surface\",\"colorbar\":{\"outlinewidth\":0,\"ticks\":\"\"},\"colorscale\":[[0.0,\"#0d0887\"],[0.1111111111111111,\"#46039f\"],[0.2222222222222222,\"#7201a8\"],[0.3333333333333333,\"#9c179e\"],[0.4444444444444444,\"#bd3786\"],[0.5555555555555556,\"#d8576b\"],[0.6666666666666666,\"#ed7953\"],[0.7777777777777778,\"#fb9f3a\"],[0.8888888888888888,\"#fdca26\"],[1.0,\"#f0f921\"]]}],\"mesh3d\":[{\"type\":\"mesh3d\",\"colorbar\":{\"outlinewidth\":0,\"ticks\":\"\"}}],\"scatter\":[{\"fillpattern\":{\"fillmode\":\"overlay\",\"size\":10,\"solidity\":0.2},\"type\":\"scatter\"}],\"parcoords\":[{\"type\":\"parcoords\",\"line\":{\"colorbar\":{\"outlinewidth\":0,\"ticks\":\"\"}}}],\"scatterpolargl\":[{\"type\":\"scatterpolargl\",\"marker\":{\"colorbar\":{\"outlinewidth\":0,\"ticks\":\"\"}}}],\"bar\":[{\"error_x\":{\"color\":\"#2a3f5f\"},\"error_y\":{\"color\":\"#2a3f5f\"},\"marker\":{\"line\":{\"color\":\"#E5ECF6\",\"width\":0.5},\"pattern\":{\"fillmode\":\"overlay\",\"size\":10,\"solidity\":0.2}},\"type\":\"bar\"}],\"scattergeo\":[{\"type\":\"scattergeo\",\"marker\":{\"colorbar\":{\"outlinewidth\":0,\"ticks\":\"\"}}}],\"scatterpolar\":[{\"type\":\"scatterpolar\",\"marker\":{\"colorbar\":{\"outlinewidth\":0,\"ticks\":\"\"}}}],\"histogram\":[{\"marker\":{\"pattern\":{\"fillmode\":\"overlay\",\"size\":10,\"solidity\":0.2}},\"type\":\"histogram\"}],\"scattergl\":[{\"type\":\"scattergl\",\"marker\":{\"colorbar\":{\"outlinewidth\":0,\"ticks\":\"\"}}}],\"scatter3d\":[{\"type\":\"scatter3d\",\"line\":{\"colorbar\":{\"outlinewidth\":0,\"ticks\":\"\"}},\"marker\":{\"colorbar\":{\"outlinewidth\":0,\"ticks\":\"\"}}}],\"scattermapbox\":[{\"type\":\"scattermapbox\",\"marker\":{\"colorbar\":{\"outlinewidth\":0,\"ticks\":\"\"}}}],\"scatterternary\":[{\"type\":\"scatterternary\",\"marker\":{\"colorbar\":{\"outlinewidth\":0,\"ticks\":\"\"}}}],\"scattercarpet\":[{\"type\":\"scattercarpet\",\"marker\":{\"colorbar\":{\"outlinewidth\":0,\"ticks\":\"\"}}}],\"carpet\":[{\"aaxis\":{\"endlinecolor\":\"#2a3f5f\",\"gridcolor\":\"white\",\"linecolor\":\"white\",\"minorgridcolor\":\"white\",\"startlinecolor\":\"#2a3f5f\"},\"baxis\":{\"endlinecolor\":\"#2a3f5f\",\"gridcolor\":\"white\",\"linecolor\":\"white\",\"minorgridcolor\":\"white\",\"startlinecolor\":\"#2a3f5f\"},\"type\":\"carpet\"}],\"table\":[{\"cells\":{\"fill\":{\"color\":\"#EBF0F8\"},\"line\":{\"color\":\"white\"}},\"header\":{\"fill\":{\"color\":\"#C8D4E3\"},\"line\":{\"color\":\"white\"}},\"type\":\"table\"}],\"barpolar\":[{\"marker\":{\"line\":{\"color\":\"#E5ECF6\",\"width\":0.5},\"pattern\":{\"fillmode\":\"overlay\",\"size\":10,\"solidity\":0.2}},\"type\":\"barpolar\"}],\"pie\":[{\"automargin\":true,\"type\":\"pie\"}]},\"layout\":{\"autotypenumbers\":\"strict\",\"colorway\":[\"#636efa\",\"#EF553B\",\"#00cc96\",\"#ab63fa\",\"#FFA15A\",\"#19d3f3\",\"#FF6692\",\"#B6E880\",\"#FF97FF\",\"#FECB52\"],\"font\":{\"color\":\"#2a3f5f\"},\"hovermode\":\"closest\",\"hoverlabel\":{\"align\":\"left\"},\"paper_bgcolor\":\"white\",\"plot_bgcolor\":\"#E5ECF6\",\"polar\":{\"bgcolor\":\"#E5ECF6\",\"angularaxis\":{\"gridcolor\":\"white\",\"linecolor\":\"white\",\"ticks\":\"\"},\"radialaxis\":{\"gridcolor\":\"white\",\"linecolor\":\"white\",\"ticks\":\"\"}},\"ternary\":{\"bgcolor\":\"#E5ECF6\",\"aaxis\":{\"gridcolor\":\"white\",\"linecolor\":\"white\",\"ticks\":\"\"},\"baxis\":{\"gridcolor\":\"white\",\"linecolor\":\"white\",\"ticks\":\"\"},\"caxis\":{\"gridcolor\":\"white\",\"linecolor\":\"white\",\"ticks\":\"\"}},\"coloraxis\":{\"colorbar\":{\"outlinewidth\":0,\"ticks\":\"\"}},\"colorscale\":{\"sequential\":[[0.0,\"#0d0887\"],[0.1111111111111111,\"#46039f\"],[0.2222222222222222,\"#7201a8\"],[0.3333333333333333,\"#9c179e\"],[0.4444444444444444,\"#bd3786\"],[0.5555555555555556,\"#d8576b\"],[0.6666666666666666,\"#ed7953\"],[0.7777777777777778,\"#fb9f3a\"],[0.8888888888888888,\"#fdca26\"],[1.0,\"#f0f921\"]],\"sequentialminus\":[[0.0,\"#0d0887\"],[0.1111111111111111,\"#46039f\"],[0.2222222222222222,\"#7201a8\"],[0.3333333333333333,\"#9c179e\"],[0.4444444444444444,\"#bd3786\"],[0.5555555555555556,\"#d8576b\"],[0.6666666666666666,\"#ed7953\"],[0.7777777777777778,\"#fb9f3a\"],[0.8888888888888888,\"#fdca26\"],[1.0,\"#f0f921\"]],\"diverging\":[[0,\"#8e0152\"],[0.1,\"#c51b7d\"],[0.2,\"#de77ae\"],[0.3,\"#f1b6da\"],[0.4,\"#fde0ef\"],[0.5,\"#f7f7f7\"],[0.6,\"#e6f5d0\"],[0.7,\"#b8e186\"],[0.8,\"#7fbc41\"],[0.9,\"#4d9221\"],[1,\"#276419\"]]},\"xaxis\":{\"gridcolor\":\"white\",\"linecolor\":\"white\",\"ticks\":\"\",\"title\":{\"standoff\":15},\"zerolinecolor\":\"white\",\"automargin\":true,\"zerolinewidth\":2},\"yaxis\":{\"gridcolor\":\"white\",\"linecolor\":\"white\",\"ticks\":\"\",\"title\":{\"standoff\":15},\"zerolinecolor\":\"white\",\"automargin\":true,\"zerolinewidth\":2},\"scene\":{\"xaxis\":{\"backgroundcolor\":\"#E5ECF6\",\"gridcolor\":\"white\",\"linecolor\":\"white\",\"showbackground\":true,\"ticks\":\"\",\"zerolinecolor\":\"white\",\"gridwidth\":2},\"yaxis\":{\"backgroundcolor\":\"#E5ECF6\",\"gridcolor\":\"white\",\"linecolor\":\"white\",\"showbackground\":true,\"ticks\":\"\",\"zerolinecolor\":\"white\",\"gridwidth\":2},\"zaxis\":{\"backgroundcolor\":\"#E5ECF6\",\"gridcolor\":\"white\",\"linecolor\":\"white\",\"showbackground\":true,\"ticks\":\"\",\"zerolinecolor\":\"white\",\"gridwidth\":2}},\"shapedefaults\":{\"line\":{\"color\":\"#2a3f5f\"}},\"annotationdefaults\":{\"arrowcolor\":\"#2a3f5f\",\"arrowhead\":0,\"arrowwidth\":1},\"geo\":{\"bgcolor\":\"white\",\"landcolor\":\"#E5ECF6\",\"subunitcolor\":\"white\",\"showland\":true,\"showlakes\":true,\"lakecolor\":\"white\"},\"title\":{\"x\":0.05},\"mapbox\":{\"style\":\"light\"}}},\"title\":{\"text\":\"Self-Repair in pythia-160m at Checkpoint 143000\",\"x\":0.5},\"xaxis\":{\"title\":{\"text\":\"Direct Effect of Component\"}},\"yaxis\":{\"title\":{\"text\":\"Change in Logits Upon Ablation\"}},\"legend\":{\"title\":{\"text\":\"Component\"}},\"showlegend\":false,\"width\":500,\"height\":500},                        {\"responsive\": true}                    ).then(function(){\n",
       "                            \n",
       "var gd = document.getElementById('50286660-80ad-4504-aed2-1684d83b6abb');\n",
       "var x = new MutationObserver(function (mutations, observer) {{\n",
       "        var display = window.getComputedStyle(gd).display;\n",
       "        if (!display || display === 'none') {{\n",
       "            console.log([gd, 'removed!']);\n",
       "            Plotly.purge(gd);\n",
       "            observer.disconnect();\n",
       "        }}\n",
       "}});\n",
       "\n",
       "// Listen for the removal of the full notebook cells\n",
       "var notebookContainer = gd.closest('#notebook-container');\n",
       "if (notebookContainer) {{\n",
       "    x.observe(notebookContainer, {childList: true});\n",
       "}}\n",
       "\n",
       "// Listen for the clearing of the current output cell\n",
       "var outputEl = gd.closest('.output');\n",
       "if (outputEl) {{\n",
       "    x.observe(outputEl, {childList: true});\n",
       "}}\n",
       "\n",
       "                        })                };                });            </script>        </div>"
      ]
     },
     "metadata": {},
     "output_type": "display_data"
    }
   ],
   "source": [
    "from typing import Union\n",
    "from jaxtyping import Float\n",
    "import numpy as np\n",
    "import itertools\n",
    "\n",
    "def create_layered_scatter(\n",
    "    heads_x: Float[Tensor, \"layer head\"],\n",
    "    heads_y: Float[Tensor, \"layer head\"], \n",
    "    x_title: str, \n",
    "    y_title: str, \n",
    "    plot_title: str,\n",
    "    mlp_x: Union[Float[Tensor, \"layer\"], None] = None,\n",
    "    mlp_y: Union[Float[Tensor, \"layer\"], None] = None,\n",
    "    x_range: Union[list, None] = None,  # New parameter for x-range\n",
    "    y_range: Union[list, None] = None   # New parameter for y-range\n",
    "):\n",
    "    \"\"\"\n",
    "    This function now also accepts x_data and y_data for MLP layers and manual x- and y-ranges. \n",
    "    It plots properties of transformer heads and MLP layers with layered coloring and annotations.\n",
    "    Additionally, it plots a dotted line where the negative value of the y-axis equals the positive value of the x-axis.\n",
    "    \"\"\"\n",
    "    num_layers = 12\n",
    "    num_heads = 12\n",
    "    layer_colors = np.linspace(0, num_layers, num_layers, endpoint=False)\n",
    "    \n",
    "    # Annotations and colors for transformer heads\n",
    "    head_annotations = [f\"Layer {layer}, Head {head}\" for layer, head in itertools.product(range(num_layers), range(num_heads))]\n",
    "    head_marker_colors = [layer_colors[layer] for layer in range(num_layers) for _ in range(num_heads)]\n",
    "\n",
    "    # Prepare MLP data if provided\n",
    "    mlp_annotations = []\n",
    "    mlp_marker_colors = []\n",
    "    if mlp_x is not None and mlp_y is not None:\n",
    "        mlp_annotations = [f\"MLP Layer {layer}\" for layer in range(num_layers)]\n",
    "        mlp_marker_colors = [layer_colors[layer] for layer in range(num_layers)]\n",
    "\n",
    "    # Flatten data\n",
    "    heads_x = heads_x.flatten().cpu().numpy() if heads_x.ndim > 1 else heads_x.cpu().numpy()\n",
    "    heads_y = heads_y.flatten().cpu().numpy() if heads_y.ndim > 1 else heads_y.cpu().numpy()\n",
    "    if mlp_x is not None and mlp_y is not None:\n",
    "        mlp_x = mlp_x.flatten().cpu().numpy() if mlp_x.ndim > 1 else mlp_x.cpu().numpy()\n",
    "        mlp_y = mlp_y.flatten().cpu().numpy() if mlp_y.ndim > 1 else mlp_y.cpu().numpy()\n",
    "\n",
    "    # Create scatter plots\n",
    "    scatter_heads = go.Scatter(\n",
    "        x=heads_x,\n",
    "        y=heads_y,\n",
    "        text=head_annotations,\n",
    "        mode='markers',\n",
    "        marker=dict(\n",
    "            size=8,\n",
    "            opacity=0.8,\n",
    "            color=head_marker_colors,\n",
    "            colorscale='Viridis',\n",
    "            colorbar=dict(\n",
    "                title='Layer',\n",
    "                #tickvals=[0, num_layers - 1],\n",
    "                #ticktext=[0, 1,2,1,1,1,1,1,1,1,1,1,1,11,1,1,3,4,5,5,num_layers - 1],\n",
    "                orientation=\"h\"\n",
    "            ),\n",
    "            line=dict(width=0.5, color='DarkSlateGrey')\n",
    "        ),\n",
    "        name=\"Attention Heads\"\n",
    "    )\n",
    "\n",
    "    scatter_mlp = go.Scatter(\n",
    "        x=mlp_x,\n",
    "        y=mlp_y,\n",
    "        text=mlp_annotations,\n",
    "        mode='markers',\n",
    "        name='MLP Layers',\n",
    "        marker=dict(\n",
    "            size=10,\n",
    "            opacity=0.6,\n",
    "            color=mlp_marker_colors,\n",
    "            colorscale='Viridis',\n",
    "            symbol='diamond',\n",
    "            line=dict(width=1, color='Black')\n",
    "        )\n",
    "    ) if mlp_x is not None and mlp_y is not None else None\n",
    "\n",
    "    # Create the figure and add the traces\n",
    "    fig = go.Figure()\n",
    "    fig.add_trace(scatter_heads)\n",
    "    if scatter_mlp:\n",
    "        fig.add_trace(scatter_mlp)\n",
    "\n",
    "    # Add a dotted line where the negative y-value equals the positive x-value\n",
    "    if x_range and y_range:\n",
    "        # Ensuring the line covers the entire visible range by finding the min and max\n",
    "        line_range = [min(x_range[0], y_range[0]), max(x_range[1], y_range[1])]\n",
    "        fig.add_trace(go.Scatter(x=line_range, y=[-x for x in line_range], mode='lines', line=dict(color='grey', dash='dot'), name='Y=-X'))\n",
    "\n",
    "    # Update the layout with the manual x- and y-range\n",
    "    fig.update_layout(\n",
    "        title=f\"{plot_title}\",\n",
    "        title_x=0.5,\n",
    "        xaxis_title=x_title,\n",
    "        yaxis_title=y_title,\n",
    "        legend_title=\"Component\",\n",
    "        # do not show legend\n",
    "        showlegend=False,\n",
    "        width=500,\n",
    "        height=500,\n",
    "        #xaxis_range=x_range,\n",
    "        #yaxis_range=y_range\n",
    "    )\n",
    "\n",
    "    return fig\n",
    "fig = create_layered_scatter(\n",
    "    data[CHECKPOINT]['thresholded_de'][0], \n",
    "    data[CHECKPOINT]['thresholded_cil'][0], \n",
    "    \"Direct Effect of Component\", \n",
    "    \"Change in Logits Upon Ablation\", \n",
    "    f\"Self-Repair in {MODEL_TO_VIEW} at Checkpoint {CHECKPOINT}\",\n",
    "    x_range=[-0.1, 0.2],\n",
    "    y_range=[-0.4, 0.1]    \n",
    ")\n",
    "fig.show()"
   ]
  },
  {
   "cell_type": "code",
   "execution_count": 92,
   "metadata": {},
   "outputs": [
    {
     "data": {
      "application/vnd.plotly.v1+json": {
       "config": {
        "plotlyServerURL": "https://plot.ly"
       },
       "data": [
        {
         "coloraxis": "coloraxis",
         "hovertemplate": "Head: %{x}<br>Layer: %{y}<br>Self-Repair Score: %{z}<extra></extra>",
         "name": "0",
         "type": "heatmap",
         "xaxis": "x",
         "yaxis": "y",
         "z": [
          [
           -1487.4586181640625,
           -755.0116577148438,
           3993.426025390625,
           -2784.050537109375,
           -882.067138671875,
           -196.29534912109375,
           5.292099952697754,
           363.2423400878906,
           18657.0859375,
           -481.7575378417969,
           -3914.568359375,
           -337.6651306152344
          ],
          [
           -627.1450805664062,
           2527.3134765625,
           -12542.576171875,
           -99.7996597290039,
           -705.3487548828125,
           -724.5115966796875,
           595.1793212890625,
           -3398.790771484375,
           -690.0078125,
           -1964.05126953125,
           -2794.816162109375,
           -937.7721557617188
          ],
          [
           -1066.76123046875,
           -787.7905883789062,
           -1172.70166015625,
           -476.2223815917969,
           -454.9364013671875,
           -570.1458129882812,
           -1456.4967041015625,
           -969.9949340820312,
           -686.09423828125,
           -2955.930419921875,
           -588.1604614257812,
           -673.4677734375
          ],
          [
           -3196.93212890625,
           -497.5225524902344,
           -2643.59619140625,
           1304.0360107421875,
           -1556.591064453125,
           -872.1734008789062,
           -2260.60986328125,
           -170.01991271972656,
           -374.66558837890625,
           -384.90887451171875,
           -401.3939514160156,
           -1391.2137451171875
          ],
          [
           -422.05804443359375,
           162.1378173828125,
           -529.7738037109375,
           -170.53158569335938,
           -270.9745788574219,
           -362.6813049316406,
           2961.81689453125,
           -192.10536193847656,
           -323.1644287109375,
           -410.50823974609375,
           209.56930541992188,
           -237.28460693359375
          ],
          [
           -16.833066940307617,
           -456.3191833496094,
           -29.23525619506836,
           -217.47064208984375,
           -264.28662109375,
           -588.3345947265625,
           729.1500854492188,
           23.513507843017578,
           -376.9623718261719,
           -38.99497985839844,
           899.0576782226562,
           -104.07781982421875
          ],
          [
           -158.07595825195312,
           -63.519142150878906,
           -94.68557739257812,
           -82.5648422241211,
           -39.98980712890625,
           -184.17832946777344,
           -26.520967483520508,
           -25.23636817932129,
           -186.64639282226562,
           -112.03954315185547,
           -2672.6357421875,
           -499.7003173828125
          ],
          [
           2247.02294921875,
           -129.1533203125,
           15.939885139465332,
           -235.6620330810547,
           -139.44647216796875,
           471.9651184082031,
           170.63462829589844,
           -331.03338623046875,
           -144.5301055908203,
           -101.94401550292969,
           125.05347442626953,
           270.4687194824219
          ],
          [
           -3.5063982009887695,
           17.410051345825195,
           59.96230697631836,
           37.405311584472656,
           -85.79642486572266,
           50.107872009277344,
           134.87399291992188,
           -23.753929138183594,
           47.936195373535156,
           -140.35475158691406,
           27.793519973754883,
           40.898345947265625
          ],
          [
           862.024658203125,
           62.6568489074707,
           12.519449234008789,
           -6.787669658660889,
           38.860469818115234,
           -1333.5296630859375,
           22.0153865814209,
           21.913660049438477,
           9.760790824890137,
           36.71067810058594,
           -56.61552047729492,
           411.43121337890625
          ],
          [
           44.44672393798828,
           -7.69040584564209,
           168.7167205810547,
           53.59959411621094,
           45.21855545043945,
           -12.971687316894531,
           -158.01565551757812,
           21.666336059570312,
           -7.4034810066223145,
           9.33859920501709,
           23.198009490966797,
           6.1659040451049805
          ],
          [
           77.02360534667969,
           86.08819580078125,
           77.87395477294922,
           76.00896453857422,
           55.816627502441406,
           93.04096984863281,
           73.94229125976562,
           67.24034881591797,
           55.8427734375,
           74.50965881347656,
           77.81533813476562,
           66.07515716552734
          ]
         ]
        }
       ],
       "layout": {
        "coloraxis": {
         "cmax": 500,
         "cmid": 0,
         "cmin": -500,
         "colorbar": {
          "ticksuffix": "%",
          "title": {
           "text": "Self-Repair Score"
          }
         },
         "colorscale": [
          [
           0,
           "rgb(103,0,31)"
          ],
          [
           0.1,
           "rgb(178,24,43)"
          ],
          [
           0.2,
           "rgb(214,96,77)"
          ],
          [
           0.3,
           "rgb(244,165,130)"
          ],
          [
           0.4,
           "rgb(253,219,199)"
          ],
          [
           0.5,
           "rgb(247,247,247)"
          ],
          [
           0.6,
           "rgb(209,229,240)"
          ],
          [
           0.7,
           "rgb(146,197,222)"
          ],
          [
           0.8,
           "rgb(67,147,195)"
          ],
          [
           0.9,
           "rgb(33,102,172)"
          ],
          [
           1,
           "rgb(5,48,97)"
          ]
         ]
        },
        "margin": {
         "l": 100,
         "r": 100
        },
        "template": {
         "data": {
          "bar": [
           {
            "error_x": {
             "color": "#2a3f5f"
            },
            "error_y": {
             "color": "#2a3f5f"
            },
            "marker": {
             "line": {
              "color": "#E5ECF6",
              "width": 0.5
             },
             "pattern": {
              "fillmode": "overlay",
              "size": 10,
              "solidity": 0.2
             }
            },
            "type": "bar"
           }
          ],
          "barpolar": [
           {
            "marker": {
             "line": {
              "color": "#E5ECF6",
              "width": 0.5
             },
             "pattern": {
              "fillmode": "overlay",
              "size": 10,
              "solidity": 0.2
             }
            },
            "type": "barpolar"
           }
          ],
          "carpet": [
           {
            "aaxis": {
             "endlinecolor": "#2a3f5f",
             "gridcolor": "white",
             "linecolor": "white",
             "minorgridcolor": "white",
             "startlinecolor": "#2a3f5f"
            },
            "baxis": {
             "endlinecolor": "#2a3f5f",
             "gridcolor": "white",
             "linecolor": "white",
             "minorgridcolor": "white",
             "startlinecolor": "#2a3f5f"
            },
            "type": "carpet"
           }
          ],
          "choropleth": [
           {
            "colorbar": {
             "outlinewidth": 0,
             "ticks": ""
            },
            "type": "choropleth"
           }
          ],
          "contour": [
           {
            "colorbar": {
             "outlinewidth": 0,
             "ticks": ""
            },
            "colorscale": [
             [
              0,
              "#0d0887"
             ],
             [
              0.1111111111111111,
              "#46039f"
             ],
             [
              0.2222222222222222,
              "#7201a8"
             ],
             [
              0.3333333333333333,
              "#9c179e"
             ],
             [
              0.4444444444444444,
              "#bd3786"
             ],
             [
              0.5555555555555556,
              "#d8576b"
             ],
             [
              0.6666666666666666,
              "#ed7953"
             ],
             [
              0.7777777777777778,
              "#fb9f3a"
             ],
             [
              0.8888888888888888,
              "#fdca26"
             ],
             [
              1,
              "#f0f921"
             ]
            ],
            "type": "contour"
           }
          ],
          "contourcarpet": [
           {
            "colorbar": {
             "outlinewidth": 0,
             "ticks": ""
            },
            "type": "contourcarpet"
           }
          ],
          "heatmap": [
           {
            "colorbar": {
             "outlinewidth": 0,
             "ticks": ""
            },
            "colorscale": [
             [
              0,
              "#0d0887"
             ],
             [
              0.1111111111111111,
              "#46039f"
             ],
             [
              0.2222222222222222,
              "#7201a8"
             ],
             [
              0.3333333333333333,
              "#9c179e"
             ],
             [
              0.4444444444444444,
              "#bd3786"
             ],
             [
              0.5555555555555556,
              "#d8576b"
             ],
             [
              0.6666666666666666,
              "#ed7953"
             ],
             [
              0.7777777777777778,
              "#fb9f3a"
             ],
             [
              0.8888888888888888,
              "#fdca26"
             ],
             [
              1,
              "#f0f921"
             ]
            ],
            "type": "heatmap"
           }
          ],
          "heatmapgl": [
           {
            "colorbar": {
             "outlinewidth": 0,
             "ticks": ""
            },
            "colorscale": [
             [
              0,
              "#0d0887"
             ],
             [
              0.1111111111111111,
              "#46039f"
             ],
             [
              0.2222222222222222,
              "#7201a8"
             ],
             [
              0.3333333333333333,
              "#9c179e"
             ],
             [
              0.4444444444444444,
              "#bd3786"
             ],
             [
              0.5555555555555556,
              "#d8576b"
             ],
             [
              0.6666666666666666,
              "#ed7953"
             ],
             [
              0.7777777777777778,
              "#fb9f3a"
             ],
             [
              0.8888888888888888,
              "#fdca26"
             ],
             [
              1,
              "#f0f921"
             ]
            ],
            "type": "heatmapgl"
           }
          ],
          "histogram": [
           {
            "marker": {
             "pattern": {
              "fillmode": "overlay",
              "size": 10,
              "solidity": 0.2
             }
            },
            "type": "histogram"
           }
          ],
          "histogram2d": [
           {
            "colorbar": {
             "outlinewidth": 0,
             "ticks": ""
            },
            "colorscale": [
             [
              0,
              "#0d0887"
             ],
             [
              0.1111111111111111,
              "#46039f"
             ],
             [
              0.2222222222222222,
              "#7201a8"
             ],
             [
              0.3333333333333333,
              "#9c179e"
             ],
             [
              0.4444444444444444,
              "#bd3786"
             ],
             [
              0.5555555555555556,
              "#d8576b"
             ],
             [
              0.6666666666666666,
              "#ed7953"
             ],
             [
              0.7777777777777778,
              "#fb9f3a"
             ],
             [
              0.8888888888888888,
              "#fdca26"
             ],
             [
              1,
              "#f0f921"
             ]
            ],
            "type": "histogram2d"
           }
          ],
          "histogram2dcontour": [
           {
            "colorbar": {
             "outlinewidth": 0,
             "ticks": ""
            },
            "colorscale": [
             [
              0,
              "#0d0887"
             ],
             [
              0.1111111111111111,
              "#46039f"
             ],
             [
              0.2222222222222222,
              "#7201a8"
             ],
             [
              0.3333333333333333,
              "#9c179e"
             ],
             [
              0.4444444444444444,
              "#bd3786"
             ],
             [
              0.5555555555555556,
              "#d8576b"
             ],
             [
              0.6666666666666666,
              "#ed7953"
             ],
             [
              0.7777777777777778,
              "#fb9f3a"
             ],
             [
              0.8888888888888888,
              "#fdca26"
             ],
             [
              1,
              "#f0f921"
             ]
            ],
            "type": "histogram2dcontour"
           }
          ],
          "mesh3d": [
           {
            "colorbar": {
             "outlinewidth": 0,
             "ticks": ""
            },
            "type": "mesh3d"
           }
          ],
          "parcoords": [
           {
            "line": {
             "colorbar": {
              "outlinewidth": 0,
              "ticks": ""
             }
            },
            "type": "parcoords"
           }
          ],
          "pie": [
           {
            "automargin": true,
            "type": "pie"
           }
          ],
          "scatter": [
           {
            "fillpattern": {
             "fillmode": "overlay",
             "size": 10,
             "solidity": 0.2
            },
            "type": "scatter"
           }
          ],
          "scatter3d": [
           {
            "line": {
             "colorbar": {
              "outlinewidth": 0,
              "ticks": ""
             }
            },
            "marker": {
             "colorbar": {
              "outlinewidth": 0,
              "ticks": ""
             }
            },
            "type": "scatter3d"
           }
          ],
          "scattercarpet": [
           {
            "marker": {
             "colorbar": {
              "outlinewidth": 0,
              "ticks": ""
             }
            },
            "type": "scattercarpet"
           }
          ],
          "scattergeo": [
           {
            "marker": {
             "colorbar": {
              "outlinewidth": 0,
              "ticks": ""
             }
            },
            "type": "scattergeo"
           }
          ],
          "scattergl": [
           {
            "marker": {
             "colorbar": {
              "outlinewidth": 0,
              "ticks": ""
             }
            },
            "type": "scattergl"
           }
          ],
          "scattermapbox": [
           {
            "marker": {
             "colorbar": {
              "outlinewidth": 0,
              "ticks": ""
             }
            },
            "type": "scattermapbox"
           }
          ],
          "scatterpolar": [
           {
            "marker": {
             "colorbar": {
              "outlinewidth": 0,
              "ticks": ""
             }
            },
            "type": "scatterpolar"
           }
          ],
          "scatterpolargl": [
           {
            "marker": {
             "colorbar": {
              "outlinewidth": 0,
              "ticks": ""
             }
            },
            "type": "scatterpolargl"
           }
          ],
          "scatterternary": [
           {
            "marker": {
             "colorbar": {
              "outlinewidth": 0,
              "ticks": ""
             }
            },
            "type": "scatterternary"
           }
          ],
          "surface": [
           {
            "colorbar": {
             "outlinewidth": 0,
             "ticks": ""
            },
            "colorscale": [
             [
              0,
              "#0d0887"
             ],
             [
              0.1111111111111111,
              "#46039f"
             ],
             [
              0.2222222222222222,
              "#7201a8"
             ],
             [
              0.3333333333333333,
              "#9c179e"
             ],
             [
              0.4444444444444444,
              "#bd3786"
             ],
             [
              0.5555555555555556,
              "#d8576b"
             ],
             [
              0.6666666666666666,
              "#ed7953"
             ],
             [
              0.7777777777777778,
              "#fb9f3a"
             ],
             [
              0.8888888888888888,
              "#fdca26"
             ],
             [
              1,
              "#f0f921"
             ]
            ],
            "type": "surface"
           }
          ],
          "table": [
           {
            "cells": {
             "fill": {
              "color": "#EBF0F8"
             },
             "line": {
              "color": "white"
             }
            },
            "header": {
             "fill": {
              "color": "#C8D4E3"
             },
             "line": {
              "color": "white"
             }
            },
            "type": "table"
           }
          ]
         },
         "layout": {
          "annotationdefaults": {
           "arrowcolor": "#2a3f5f",
           "arrowhead": 0,
           "arrowwidth": 1
          },
          "autotypenumbers": "strict",
          "coloraxis": {
           "colorbar": {
            "outlinewidth": 0,
            "ticks": ""
           }
          },
          "colorscale": {
           "diverging": [
            [
             0,
             "#8e0152"
            ],
            [
             0.1,
             "#c51b7d"
            ],
            [
             0.2,
             "#de77ae"
            ],
            [
             0.3,
             "#f1b6da"
            ],
            [
             0.4,
             "#fde0ef"
            ],
            [
             0.5,
             "#f7f7f7"
            ],
            [
             0.6,
             "#e6f5d0"
            ],
            [
             0.7,
             "#b8e186"
            ],
            [
             0.8,
             "#7fbc41"
            ],
            [
             0.9,
             "#4d9221"
            ],
            [
             1,
             "#276419"
            ]
           ],
           "sequential": [
            [
             0,
             "#0d0887"
            ],
            [
             0.1111111111111111,
             "#46039f"
            ],
            [
             0.2222222222222222,
             "#7201a8"
            ],
            [
             0.3333333333333333,
             "#9c179e"
            ],
            [
             0.4444444444444444,
             "#bd3786"
            ],
            [
             0.5555555555555556,
             "#d8576b"
            ],
            [
             0.6666666666666666,
             "#ed7953"
            ],
            [
             0.7777777777777778,
             "#fb9f3a"
            ],
            [
             0.8888888888888888,
             "#fdca26"
            ],
            [
             1,
             "#f0f921"
            ]
           ],
           "sequentialminus": [
            [
             0,
             "#0d0887"
            ],
            [
             0.1111111111111111,
             "#46039f"
            ],
            [
             0.2222222222222222,
             "#7201a8"
            ],
            [
             0.3333333333333333,
             "#9c179e"
            ],
            [
             0.4444444444444444,
             "#bd3786"
            ],
            [
             0.5555555555555556,
             "#d8576b"
            ],
            [
             0.6666666666666666,
             "#ed7953"
            ],
            [
             0.7777777777777778,
             "#fb9f3a"
            ],
            [
             0.8888888888888888,
             "#fdca26"
            ],
            [
             1,
             "#f0f921"
            ]
           ]
          },
          "colorway": [
           "#636efa",
           "#EF553B",
           "#00cc96",
           "#ab63fa",
           "#FFA15A",
           "#19d3f3",
           "#FF6692",
           "#B6E880",
           "#FF97FF",
           "#FECB52"
          ],
          "font": {
           "color": "#2a3f5f"
          },
          "geo": {
           "bgcolor": "white",
           "lakecolor": "white",
           "landcolor": "#E5ECF6",
           "showlakes": true,
           "showland": true,
           "subunitcolor": "white"
          },
          "hoverlabel": {
           "align": "left"
          },
          "hovermode": "closest",
          "mapbox": {
           "style": "light"
          },
          "paper_bgcolor": "white",
          "plot_bgcolor": "#E5ECF6",
          "polar": {
           "angularaxis": {
            "gridcolor": "white",
            "linecolor": "white",
            "ticks": ""
           },
           "bgcolor": "#E5ECF6",
           "radialaxis": {
            "gridcolor": "white",
            "linecolor": "white",
            "ticks": ""
           }
          },
          "scene": {
           "xaxis": {
            "backgroundcolor": "#E5ECF6",
            "gridcolor": "white",
            "gridwidth": 2,
            "linecolor": "white",
            "showbackground": true,
            "ticks": "",
            "zerolinecolor": "white"
           },
           "yaxis": {
            "backgroundcolor": "#E5ECF6",
            "gridcolor": "white",
            "gridwidth": 2,
            "linecolor": "white",
            "showbackground": true,
            "ticks": "",
            "zerolinecolor": "white"
           },
           "zaxis": {
            "backgroundcolor": "#E5ECF6",
            "gridcolor": "white",
            "gridwidth": 2,
            "linecolor": "white",
            "showbackground": true,
            "ticks": "",
            "zerolinecolor": "white"
           }
          },
          "shapedefaults": {
           "line": {
            "color": "#2a3f5f"
           }
          },
          "ternary": {
           "aaxis": {
            "gridcolor": "white",
            "linecolor": "white",
            "ticks": ""
           },
           "baxis": {
            "gridcolor": "white",
            "linecolor": "white",
            "ticks": ""
           },
           "bgcolor": "#E5ECF6",
           "caxis": {
            "gridcolor": "white",
            "linecolor": "white",
            "ticks": ""
           }
          },
          "title": {
           "x": 0.05
          },
          "xaxis": {
           "automargin": true,
           "gridcolor": "white",
           "linecolor": "white",
           "ticks": "",
           "title": {
            "standoff": 15
           },
           "zerolinecolor": "white",
           "zerolinewidth": 2
          },
          "yaxis": {
           "automargin": true,
           "gridcolor": "white",
           "linecolor": "white",
           "ticks": "",
           "title": {
            "standoff": 15
           },
           "zerolinecolor": "white",
           "zerolinewidth": 2
          }
         }
        },
        "title": {
         "text": "Self-Repair Score"
        },
        "width": 600,
        "xaxis": {
         "anchor": "y",
         "constrain": "domain",
         "domain": [
          0,
          1
         ],
         "linecolor": "black",
         "linewidth": 1,
         "mirror": true,
         "scaleanchor": "y",
         "showline": true,
         "title": {
          "text": "Head"
         }
        },
        "yaxis": {
         "anchor": "x",
         "autorange": "reversed",
         "constrain": "domain",
         "domain": [
          0,
          1
         ],
         "linecolor": "black",
         "linewidth": 1,
         "mirror": true,
         "showline": true,
         "title": {
          "text": "Layer"
         }
        }
       }
      },
      "text/html": [
       "<div>                            <div id=\"bbfc5a84-adc3-4f4e-b9a8-0fbe62c82589\" class=\"plotly-graph-div\" style=\"height:525px; width:600px;\"></div>            <script type=\"text/javascript\">                require([\"plotly\"], function(Plotly) {                    window.PLOTLYENV=window.PLOTLYENV || {};                                    if (document.getElementById(\"bbfc5a84-adc3-4f4e-b9a8-0fbe62c82589\")) {                    Plotly.newPlot(                        \"bbfc5a84-adc3-4f4e-b9a8-0fbe62c82589\",                        [{\"coloraxis\":\"coloraxis\",\"name\":\"0\",\"z\":[[-1487.4586181640625,-755.0116577148438,3993.426025390625,-2784.050537109375,-882.067138671875,-196.29534912109375,5.292099952697754,363.2423400878906,18657.0859375,-481.7575378417969,-3914.568359375,-337.6651306152344],[-627.1450805664062,2527.3134765625,-12542.576171875,-99.7996597290039,-705.3487548828125,-724.5115966796875,595.1793212890625,-3398.790771484375,-690.0078125,-1964.05126953125,-2794.816162109375,-937.7721557617188],[-1066.76123046875,-787.7905883789062,-1172.70166015625,-476.2223815917969,-454.9364013671875,-570.1458129882812,-1456.4967041015625,-969.9949340820312,-686.09423828125,-2955.930419921875,-588.1604614257812,-673.4677734375],[-3196.93212890625,-497.5225524902344,-2643.59619140625,1304.0360107421875,-1556.591064453125,-872.1734008789062,-2260.60986328125,-170.01991271972656,-374.66558837890625,-384.90887451171875,-401.3939514160156,-1391.2137451171875],[-422.05804443359375,162.1378173828125,-529.7738037109375,-170.53158569335938,-270.9745788574219,-362.6813049316406,2961.81689453125,-192.10536193847656,-323.1644287109375,-410.50823974609375,209.56930541992188,-237.28460693359375],[-16.833066940307617,-456.3191833496094,-29.23525619506836,-217.47064208984375,-264.28662109375,-588.3345947265625,729.1500854492188,23.513507843017578,-376.9623718261719,-38.99497985839844,899.0576782226562,-104.07781982421875],[-158.07595825195312,-63.519142150878906,-94.68557739257812,-82.5648422241211,-39.98980712890625,-184.17832946777344,-26.520967483520508,-25.23636817932129,-186.64639282226562,-112.03954315185547,-2672.6357421875,-499.7003173828125],[2247.02294921875,-129.1533203125,15.939885139465332,-235.6620330810547,-139.44647216796875,471.9651184082031,170.63462829589844,-331.03338623046875,-144.5301055908203,-101.94401550292969,125.05347442626953,270.4687194824219],[-3.5063982009887695,17.410051345825195,59.96230697631836,37.405311584472656,-85.79642486572266,50.107872009277344,134.87399291992188,-23.753929138183594,47.936195373535156,-140.35475158691406,27.793519973754883,40.898345947265625],[862.024658203125,62.6568489074707,12.519449234008789,-6.787669658660889,38.860469818115234,-1333.5296630859375,22.0153865814209,21.913660049438477,9.760790824890137,36.71067810058594,-56.61552047729492,411.43121337890625],[44.44672393798828,-7.69040584564209,168.7167205810547,53.59959411621094,45.21855545043945,-12.971687316894531,-158.01565551757812,21.666336059570312,-7.4034810066223145,9.33859920501709,23.198009490966797,6.1659040451049805],[77.02360534667969,86.08819580078125,77.87395477294922,76.00896453857422,55.816627502441406,93.04096984863281,73.94229125976562,67.24034881591797,55.8427734375,74.50965881347656,77.81533813476562,66.07515716552734]],\"type\":\"heatmap\",\"xaxis\":\"x\",\"yaxis\":\"y\",\"hovertemplate\":\"Head: %{x}\\u003cbr\\u003eLayer: %{y}\\u003cbr\\u003eSelf-Repair Score: %{z}\\u003cextra\\u003e\\u003c\\u002fextra\\u003e\"}],                        {\"template\":{\"data\":{\"histogram2dcontour\":[{\"type\":\"histogram2dcontour\",\"colorbar\":{\"outlinewidth\":0,\"ticks\":\"\"},\"colorscale\":[[0.0,\"#0d0887\"],[0.1111111111111111,\"#46039f\"],[0.2222222222222222,\"#7201a8\"],[0.3333333333333333,\"#9c179e\"],[0.4444444444444444,\"#bd3786\"],[0.5555555555555556,\"#d8576b\"],[0.6666666666666666,\"#ed7953\"],[0.7777777777777778,\"#fb9f3a\"],[0.8888888888888888,\"#fdca26\"],[1.0,\"#f0f921\"]]}],\"choropleth\":[{\"type\":\"choropleth\",\"colorbar\":{\"outlinewidth\":0,\"ticks\":\"\"}}],\"histogram2d\":[{\"type\":\"histogram2d\",\"colorbar\":{\"outlinewidth\":0,\"ticks\":\"\"},\"colorscale\":[[0.0,\"#0d0887\"],[0.1111111111111111,\"#46039f\"],[0.2222222222222222,\"#7201a8\"],[0.3333333333333333,\"#9c179e\"],[0.4444444444444444,\"#bd3786\"],[0.5555555555555556,\"#d8576b\"],[0.6666666666666666,\"#ed7953\"],[0.7777777777777778,\"#fb9f3a\"],[0.8888888888888888,\"#fdca26\"],[1.0,\"#f0f921\"]]}],\"heatmap\":[{\"type\":\"heatmap\",\"colorbar\":{\"outlinewidth\":0,\"ticks\":\"\"},\"colorscale\":[[0.0,\"#0d0887\"],[0.1111111111111111,\"#46039f\"],[0.2222222222222222,\"#7201a8\"],[0.3333333333333333,\"#9c179e\"],[0.4444444444444444,\"#bd3786\"],[0.5555555555555556,\"#d8576b\"],[0.6666666666666666,\"#ed7953\"],[0.7777777777777778,\"#fb9f3a\"],[0.8888888888888888,\"#fdca26\"],[1.0,\"#f0f921\"]]}],\"heatmapgl\":[{\"type\":\"heatmapgl\",\"colorbar\":{\"outlinewidth\":0,\"ticks\":\"\"},\"colorscale\":[[0.0,\"#0d0887\"],[0.1111111111111111,\"#46039f\"],[0.2222222222222222,\"#7201a8\"],[0.3333333333333333,\"#9c179e\"],[0.4444444444444444,\"#bd3786\"],[0.5555555555555556,\"#d8576b\"],[0.6666666666666666,\"#ed7953\"],[0.7777777777777778,\"#fb9f3a\"],[0.8888888888888888,\"#fdca26\"],[1.0,\"#f0f921\"]]}],\"contourcarpet\":[{\"type\":\"contourcarpet\",\"colorbar\":{\"outlinewidth\":0,\"ticks\":\"\"}}],\"contour\":[{\"type\":\"contour\",\"colorbar\":{\"outlinewidth\":0,\"ticks\":\"\"},\"colorscale\":[[0.0,\"#0d0887\"],[0.1111111111111111,\"#46039f\"],[0.2222222222222222,\"#7201a8\"],[0.3333333333333333,\"#9c179e\"],[0.4444444444444444,\"#bd3786\"],[0.5555555555555556,\"#d8576b\"],[0.6666666666666666,\"#ed7953\"],[0.7777777777777778,\"#fb9f3a\"],[0.8888888888888888,\"#fdca26\"],[1.0,\"#f0f921\"]]}],\"surface\":[{\"type\":\"surface\",\"colorbar\":{\"outlinewidth\":0,\"ticks\":\"\"},\"colorscale\":[[0.0,\"#0d0887\"],[0.1111111111111111,\"#46039f\"],[0.2222222222222222,\"#7201a8\"],[0.3333333333333333,\"#9c179e\"],[0.4444444444444444,\"#bd3786\"],[0.5555555555555556,\"#d8576b\"],[0.6666666666666666,\"#ed7953\"],[0.7777777777777778,\"#fb9f3a\"],[0.8888888888888888,\"#fdca26\"],[1.0,\"#f0f921\"]]}],\"mesh3d\":[{\"type\":\"mesh3d\",\"colorbar\":{\"outlinewidth\":0,\"ticks\":\"\"}}],\"scatter\":[{\"fillpattern\":{\"fillmode\":\"overlay\",\"size\":10,\"solidity\":0.2},\"type\":\"scatter\"}],\"parcoords\":[{\"type\":\"parcoords\",\"line\":{\"colorbar\":{\"outlinewidth\":0,\"ticks\":\"\"}}}],\"scatterpolargl\":[{\"type\":\"scatterpolargl\",\"marker\":{\"colorbar\":{\"outlinewidth\":0,\"ticks\":\"\"}}}],\"bar\":[{\"error_x\":{\"color\":\"#2a3f5f\"},\"error_y\":{\"color\":\"#2a3f5f\"},\"marker\":{\"line\":{\"color\":\"#E5ECF6\",\"width\":0.5},\"pattern\":{\"fillmode\":\"overlay\",\"size\":10,\"solidity\":0.2}},\"type\":\"bar\"}],\"scattergeo\":[{\"type\":\"scattergeo\",\"marker\":{\"colorbar\":{\"outlinewidth\":0,\"ticks\":\"\"}}}],\"scatterpolar\":[{\"type\":\"scatterpolar\",\"marker\":{\"colorbar\":{\"outlinewidth\":0,\"ticks\":\"\"}}}],\"histogram\":[{\"marker\":{\"pattern\":{\"fillmode\":\"overlay\",\"size\":10,\"solidity\":0.2}},\"type\":\"histogram\"}],\"scattergl\":[{\"type\":\"scattergl\",\"marker\":{\"colorbar\":{\"outlinewidth\":0,\"ticks\":\"\"}}}],\"scatter3d\":[{\"type\":\"scatter3d\",\"line\":{\"colorbar\":{\"outlinewidth\":0,\"ticks\":\"\"}},\"marker\":{\"colorbar\":{\"outlinewidth\":0,\"ticks\":\"\"}}}],\"scattermapbox\":[{\"type\":\"scattermapbox\",\"marker\":{\"colorbar\":{\"outlinewidth\":0,\"ticks\":\"\"}}}],\"scatterternary\":[{\"type\":\"scatterternary\",\"marker\":{\"colorbar\":{\"outlinewidth\":0,\"ticks\":\"\"}}}],\"scattercarpet\":[{\"type\":\"scattercarpet\",\"marker\":{\"colorbar\":{\"outlinewidth\":0,\"ticks\":\"\"}}}],\"carpet\":[{\"aaxis\":{\"endlinecolor\":\"#2a3f5f\",\"gridcolor\":\"white\",\"linecolor\":\"white\",\"minorgridcolor\":\"white\",\"startlinecolor\":\"#2a3f5f\"},\"baxis\":{\"endlinecolor\":\"#2a3f5f\",\"gridcolor\":\"white\",\"linecolor\":\"white\",\"minorgridcolor\":\"white\",\"startlinecolor\":\"#2a3f5f\"},\"type\":\"carpet\"}],\"table\":[{\"cells\":{\"fill\":{\"color\":\"#EBF0F8\"},\"line\":{\"color\":\"white\"}},\"header\":{\"fill\":{\"color\":\"#C8D4E3\"},\"line\":{\"color\":\"white\"}},\"type\":\"table\"}],\"barpolar\":[{\"marker\":{\"line\":{\"color\":\"#E5ECF6\",\"width\":0.5},\"pattern\":{\"fillmode\":\"overlay\",\"size\":10,\"solidity\":0.2}},\"type\":\"barpolar\"}],\"pie\":[{\"automargin\":true,\"type\":\"pie\"}]},\"layout\":{\"autotypenumbers\":\"strict\",\"colorway\":[\"#636efa\",\"#EF553B\",\"#00cc96\",\"#ab63fa\",\"#FFA15A\",\"#19d3f3\",\"#FF6692\",\"#B6E880\",\"#FF97FF\",\"#FECB52\"],\"font\":{\"color\":\"#2a3f5f\"},\"hovermode\":\"closest\",\"hoverlabel\":{\"align\":\"left\"},\"paper_bgcolor\":\"white\",\"plot_bgcolor\":\"#E5ECF6\",\"polar\":{\"bgcolor\":\"#E5ECF6\",\"angularaxis\":{\"gridcolor\":\"white\",\"linecolor\":\"white\",\"ticks\":\"\"},\"radialaxis\":{\"gridcolor\":\"white\",\"linecolor\":\"white\",\"ticks\":\"\"}},\"ternary\":{\"bgcolor\":\"#E5ECF6\",\"aaxis\":{\"gridcolor\":\"white\",\"linecolor\":\"white\",\"ticks\":\"\"},\"baxis\":{\"gridcolor\":\"white\",\"linecolor\":\"white\",\"ticks\":\"\"},\"caxis\":{\"gridcolor\":\"white\",\"linecolor\":\"white\",\"ticks\":\"\"}},\"coloraxis\":{\"colorbar\":{\"outlinewidth\":0,\"ticks\":\"\"}},\"colorscale\":{\"sequential\":[[0.0,\"#0d0887\"],[0.1111111111111111,\"#46039f\"],[0.2222222222222222,\"#7201a8\"],[0.3333333333333333,\"#9c179e\"],[0.4444444444444444,\"#bd3786\"],[0.5555555555555556,\"#d8576b\"],[0.6666666666666666,\"#ed7953\"],[0.7777777777777778,\"#fb9f3a\"],[0.8888888888888888,\"#fdca26\"],[1.0,\"#f0f921\"]],\"sequentialminus\":[[0.0,\"#0d0887\"],[0.1111111111111111,\"#46039f\"],[0.2222222222222222,\"#7201a8\"],[0.3333333333333333,\"#9c179e\"],[0.4444444444444444,\"#bd3786\"],[0.5555555555555556,\"#d8576b\"],[0.6666666666666666,\"#ed7953\"],[0.7777777777777778,\"#fb9f3a\"],[0.8888888888888888,\"#fdca26\"],[1.0,\"#f0f921\"]],\"diverging\":[[0,\"#8e0152\"],[0.1,\"#c51b7d\"],[0.2,\"#de77ae\"],[0.3,\"#f1b6da\"],[0.4,\"#fde0ef\"],[0.5,\"#f7f7f7\"],[0.6,\"#e6f5d0\"],[0.7,\"#b8e186\"],[0.8,\"#7fbc41\"],[0.9,\"#4d9221\"],[1,\"#276419\"]]},\"xaxis\":{\"gridcolor\":\"white\",\"linecolor\":\"white\",\"ticks\":\"\",\"title\":{\"standoff\":15},\"zerolinecolor\":\"white\",\"automargin\":true,\"zerolinewidth\":2},\"yaxis\":{\"gridcolor\":\"white\",\"linecolor\":\"white\",\"ticks\":\"\",\"title\":{\"standoff\":15},\"zerolinecolor\":\"white\",\"automargin\":true,\"zerolinewidth\":2},\"scene\":{\"xaxis\":{\"backgroundcolor\":\"#E5ECF6\",\"gridcolor\":\"white\",\"linecolor\":\"white\",\"showbackground\":true,\"ticks\":\"\",\"zerolinecolor\":\"white\",\"gridwidth\":2},\"yaxis\":{\"backgroundcolor\":\"#E5ECF6\",\"gridcolor\":\"white\",\"linecolor\":\"white\",\"showbackground\":true,\"ticks\":\"\",\"zerolinecolor\":\"white\",\"gridwidth\":2},\"zaxis\":{\"backgroundcolor\":\"#E5ECF6\",\"gridcolor\":\"white\",\"linecolor\":\"white\",\"showbackground\":true,\"ticks\":\"\",\"zerolinecolor\":\"white\",\"gridwidth\":2}},\"shapedefaults\":{\"line\":{\"color\":\"#2a3f5f\"}},\"annotationdefaults\":{\"arrowcolor\":\"#2a3f5f\",\"arrowhead\":0,\"arrowwidth\":1},\"geo\":{\"bgcolor\":\"white\",\"landcolor\":\"#E5ECF6\",\"subunitcolor\":\"white\",\"showland\":true,\"showlakes\":true,\"lakecolor\":\"white\"},\"title\":{\"x\":0.05},\"mapbox\":{\"style\":\"light\"}}},\"xaxis\":{\"anchor\":\"y\",\"domain\":[0.0,1.0],\"scaleanchor\":\"y\",\"constrain\":\"domain\",\"title\":{\"text\":\"Head\"},\"showline\":true,\"linewidth\":1,\"linecolor\":\"black\",\"mirror\":true},\"yaxis\":{\"anchor\":\"x\",\"domain\":[0.0,1.0],\"autorange\":\"reversed\",\"constrain\":\"domain\",\"title\":{\"text\":\"Layer\"},\"showline\":true,\"linewidth\":1,\"linecolor\":\"black\",\"mirror\":true},\"coloraxis\":{\"colorbar\":{\"title\":{\"text\":\"Self-Repair Score\"},\"ticksuffix\":\"%\"},\"colorscale\":[[0.0,\"rgb(103,0,31)\"],[0.1,\"rgb(178,24,43)\"],[0.2,\"rgb(214,96,77)\"],[0.3,\"rgb(244,165,130)\"],[0.4,\"rgb(253,219,199)\"],[0.5,\"rgb(247,247,247)\"],[0.6,\"rgb(209,229,240)\"],[0.7,\"rgb(146,197,222)\"],[0.8,\"rgb(67,147,195)\"],[0.9,\"rgb(33,102,172)\"],[1.0,\"rgb(5,48,97)\"]],\"cmid\":0.0,\"cmin\":-500,\"cmax\":500},\"title\":{\"text\":\"Self-Repair Score\"},\"width\":600,\"margin\":{\"r\":100,\"l\":100}},                        {\"responsive\": true}                    ).then(function(){\n",
       "                            \n",
       "var gd = document.getElementById('bbfc5a84-adc3-4f4e-b9a8-0fbe62c82589');\n",
       "var x = new MutationObserver(function (mutations, observer) {{\n",
       "        var display = window.getComputedStyle(gd).display;\n",
       "        if (!display || display === 'none') {{\n",
       "            console.log([gd, 'removed!']);\n",
       "            Plotly.purge(gd);\n",
       "            observer.disconnect();\n",
       "        }}\n",
       "}});\n",
       "\n",
       "// Listen for the removal of the full notebook cells\n",
       "var notebookContainer = gd.closest('#notebook-container');\n",
       "if (notebookContainer) {{\n",
       "    x.observe(notebookContainer, {childList: true});\n",
       "}}\n",
       "\n",
       "// Listen for the clearing of the current output cell\n",
       "var outputEl = gd.closest('.output');\n",
       "if (outputEl) {{\n",
       "    x.observe(outputEl, {childList: true});\n",
       "}}\n",
       "\n",
       "                        })                };                });            </script>        </div>"
      ]
     },
     "metadata": {},
     "output_type": "display_data"
    }
   ],
   "source": [
    "imshow_p(\n",
    "    repair_score * 100,\n",
    "    title=\"Self-Repair Score\",\n",
    "    labels={\"x\": \"Head\", \"y\": \"Layer\", \"color\": \"Self-Repair Score\"},\n",
    "    coloraxis=dict(colorbar_ticksuffix = \"%\", cmin=-500, cmax=500),\n",
    "    border=True,\n",
    "    width=600,\n",
    "    margin={\"r\": 100, \"l\": 100}\n",
    ")"
   ]
  },
  {
   "cell_type": "code",
   "execution_count": 93,
   "metadata": {},
   "outputs": [
    {
     "data": {
      "text/plain": [
       "(tensor(-15.2078), tensor(4.4502), tensor(-341.2779))"
      ]
     },
     "execution_count": 93,
     "metadata": {},
     "output_type": "execute_result"
    }
   ],
   "source": [
    "data[CHECKPOINT]['thresholded_cil'][0].sum(), data[CHECKPOINT]['thresholded_de'][0].sum(), repair_score.sum()"
   ]
  },
  {
   "attachments": {},
   "cell_type": "markdown",
   "metadata": {},
   "source": [
    "### All Checkpoints"
   ]
  },
  {
   "cell_type": "code",
   "execution_count": 94,
   "metadata": {},
   "outputs": [],
   "source": [
    "subset_checkpoints = [512, 3000, 60000, 143000]\n",
    "subset_data = {checkpoint: data[checkpoint] for checkpoint in subset_checkpoints}"
   ]
  },
  {
   "cell_type": "code",
   "execution_count": 95,
   "metadata": {},
   "outputs": [
    {
     "data": {
      "application/vnd.plotly.v1+json": {
       "config": {
        "plotlyServerURL": "https://plot.ly"
       },
       "data": [
        {
         "marker": {
          "color": [
           0,
           0,
           0,
           0,
           0,
           0,
           0,
           0,
           0,
           0,
           0,
           0,
           1,
           1,
           1,
           1,
           1,
           1,
           1,
           1,
           1,
           1,
           1,
           1,
           2,
           2,
           2,
           2,
           2,
           2,
           2,
           2,
           2,
           2,
           2,
           2,
           3,
           3,
           3,
           3,
           3,
           3,
           3,
           3,
           3,
           3,
           3,
           3,
           4,
           4,
           4,
           4,
           4,
           4,
           4,
           4,
           4,
           4,
           4,
           4,
           5,
           5,
           5,
           5,
           5,
           5,
           5,
           5,
           5,
           5,
           5,
           5,
           6,
           6,
           6,
           6,
           6,
           6,
           6,
           6,
           6,
           6,
           6,
           6,
           7,
           7,
           7,
           7,
           7,
           7,
           7,
           7,
           7,
           7,
           7,
           7,
           8,
           8,
           8,
           8,
           8,
           8,
           8,
           8,
           8,
           8,
           8,
           8,
           9,
           9,
           9,
           9,
           9,
           9,
           9,
           9,
           9,
           9,
           9,
           9,
           10,
           10,
           10,
           10,
           10,
           10,
           10,
           10,
           10,
           10,
           10,
           10,
           11,
           11,
           11,
           11,
           11,
           11,
           11,
           11,
           11,
           11,
           11,
           11
          ],
          "colorbar": {
           "orientation": "h",
           "title": {
            "text": "Layer"
           }
          },
          "colorscale": [
           [
            0,
            "#440154"
           ],
           [
            0.1111111111111111,
            "#482878"
           ],
           [
            0.2222222222222222,
            "#3e4989"
           ],
           [
            0.3333333333333333,
            "#31688e"
           ],
           [
            0.4444444444444444,
            "#26828e"
           ],
           [
            0.5555555555555556,
            "#1f9e89"
           ],
           [
            0.6666666666666666,
            "#35b779"
           ],
           [
            0.7777777777777778,
            "#6ece58"
           ],
           [
            0.8888888888888888,
            "#b5de2b"
           ],
           [
            1,
            "#fde725"
           ]
          ],
          "line": {
           "color": "DarkSlateGrey",
           "width": 0.5
          },
          "opacity": 0.8,
          "size": 8
         },
         "mode": "markers",
         "name": "Attention Heads",
         "text": [
          "Layer 0, Head 0",
          "Layer 0, Head 1",
          "Layer 0, Head 2",
          "Layer 0, Head 3",
          "Layer 0, Head 4",
          "Layer 0, Head 5",
          "Layer 0, Head 6",
          "Layer 0, Head 7",
          "Layer 0, Head 8",
          "Layer 0, Head 9",
          "Layer 0, Head 10",
          "Layer 0, Head 11",
          "Layer 1, Head 0",
          "Layer 1, Head 1",
          "Layer 1, Head 2",
          "Layer 1, Head 3",
          "Layer 1, Head 4",
          "Layer 1, Head 5",
          "Layer 1, Head 6",
          "Layer 1, Head 7",
          "Layer 1, Head 8",
          "Layer 1, Head 9",
          "Layer 1, Head 10",
          "Layer 1, Head 11",
          "Layer 2, Head 0",
          "Layer 2, Head 1",
          "Layer 2, Head 2",
          "Layer 2, Head 3",
          "Layer 2, Head 4",
          "Layer 2, Head 5",
          "Layer 2, Head 6",
          "Layer 2, Head 7",
          "Layer 2, Head 8",
          "Layer 2, Head 9",
          "Layer 2, Head 10",
          "Layer 2, Head 11",
          "Layer 3, Head 0",
          "Layer 3, Head 1",
          "Layer 3, Head 2",
          "Layer 3, Head 3",
          "Layer 3, Head 4",
          "Layer 3, Head 5",
          "Layer 3, Head 6",
          "Layer 3, Head 7",
          "Layer 3, Head 8",
          "Layer 3, Head 9",
          "Layer 3, Head 10",
          "Layer 3, Head 11",
          "Layer 4, Head 0",
          "Layer 4, Head 1",
          "Layer 4, Head 2",
          "Layer 4, Head 3",
          "Layer 4, Head 4",
          "Layer 4, Head 5",
          "Layer 4, Head 6",
          "Layer 4, Head 7",
          "Layer 4, Head 8",
          "Layer 4, Head 9",
          "Layer 4, Head 10",
          "Layer 4, Head 11",
          "Layer 5, Head 0",
          "Layer 5, Head 1",
          "Layer 5, Head 2",
          "Layer 5, Head 3",
          "Layer 5, Head 4",
          "Layer 5, Head 5",
          "Layer 5, Head 6",
          "Layer 5, Head 7",
          "Layer 5, Head 8",
          "Layer 5, Head 9",
          "Layer 5, Head 10",
          "Layer 5, Head 11",
          "Layer 6, Head 0",
          "Layer 6, Head 1",
          "Layer 6, Head 2",
          "Layer 6, Head 3",
          "Layer 6, Head 4",
          "Layer 6, Head 5",
          "Layer 6, Head 6",
          "Layer 6, Head 7",
          "Layer 6, Head 8",
          "Layer 6, Head 9",
          "Layer 6, Head 10",
          "Layer 6, Head 11",
          "Layer 7, Head 0",
          "Layer 7, Head 1",
          "Layer 7, Head 2",
          "Layer 7, Head 3",
          "Layer 7, Head 4",
          "Layer 7, Head 5",
          "Layer 7, Head 6",
          "Layer 7, Head 7",
          "Layer 7, Head 8",
          "Layer 7, Head 9",
          "Layer 7, Head 10",
          "Layer 7, Head 11",
          "Layer 8, Head 0",
          "Layer 8, Head 1",
          "Layer 8, Head 2",
          "Layer 8, Head 3",
          "Layer 8, Head 4",
          "Layer 8, Head 5",
          "Layer 8, Head 6",
          "Layer 8, Head 7",
          "Layer 8, Head 8",
          "Layer 8, Head 9",
          "Layer 8, Head 10",
          "Layer 8, Head 11",
          "Layer 9, Head 0",
          "Layer 9, Head 1",
          "Layer 9, Head 2",
          "Layer 9, Head 3",
          "Layer 9, Head 4",
          "Layer 9, Head 5",
          "Layer 9, Head 6",
          "Layer 9, Head 7",
          "Layer 9, Head 8",
          "Layer 9, Head 9",
          "Layer 9, Head 10",
          "Layer 9, Head 11",
          "Layer 10, Head 0",
          "Layer 10, Head 1",
          "Layer 10, Head 2",
          "Layer 10, Head 3",
          "Layer 10, Head 4",
          "Layer 10, Head 5",
          "Layer 10, Head 6",
          "Layer 10, Head 7",
          "Layer 10, Head 8",
          "Layer 10, Head 9",
          "Layer 10, Head 10",
          "Layer 10, Head 11",
          "Layer 11, Head 0",
          "Layer 11, Head 1",
          "Layer 11, Head 2",
          "Layer 11, Head 3",
          "Layer 11, Head 4",
          "Layer 11, Head 5",
          "Layer 11, Head 6",
          "Layer 11, Head 7",
          "Layer 11, Head 8",
          "Layer 11, Head 9",
          "Layer 11, Head 10",
          "Layer 11, Head 11"
         ],
         "type": "scatter",
         "x": [
          0.0021363599225878716,
          0.0019054827280342579,
          0.004661465063691139,
          0.002064450876787305,
          0.0021133229602128267,
          0.0019249536562711,
          0.0004131165624130517,
          0.00048381605301983654,
          0.001963858725503087,
          0.002200261689722538,
          0.00247517554089427,
          0.0010472849244251847,
          0.0028893891721963882,
          0.003481414867565036,
          0.003775189397856593,
          0.0033714754972606897,
          0.011631949804723263,
          0.011263365857303143,
          0.00265963701531291,
          0.005144200753420591,
          0.017107822000980377,
          0.005806812550872564,
          0.004976120311766863,
          0.0012897975975647569,
          0.002549648517742753,
          0.007679677568376064,
          0.007942146621644497,
          0.011759910732507706,
          0.008105033077299595,
          0.0022980256471782923,
          0.015572146512567997,
          0.0079432288184762,
          0.010036628693342209,
          0.01362208928912878,
          0.010830499231815338,
          0.007659449707716703,
          0.022852208465337753,
          0.017337560653686523,
          0.03047086112201214,
          -0.0027324033435434103,
          0.024090703576803207,
          0.0038240933790802956,
          0.012516411021351814,
          0.0051620639860630035,
          -0.00016975868493318558,
          0.01931585557758808,
          0.013999901711940765,
          0.004422993399202824,
          -0.0038593709468841553,
          0.0008367999689653516,
          0.004020598251372576,
          -0.001993762329220772,
          0.024716289713978767,
          0.007370376028120518,
          0.00940793752670288,
          0.0200462955981493,
          0.003445307957008481,
          0.006345123052597046,
          0.005351772997528315,
          0.009517629630863667,
          0.00036440204712562263,
          -0.006591813638806343,
          -0.0008528719772584736,
          -0.003672406543046236,
          0.00800143089145422,
          0.00319939898326993,
          0.0038005842361599207,
          0.0030175759457051754,
          0.006529694888740778,
          0.006263341289013624,
          0.00013191507605370134,
          0.001064361771568656,
          0.009225478395819664,
          -0.0006646703113801777,
          0.004871582146733999,
          -0.005660263355821371,
          0.001703354879282415,
          -0.004207313060760498,
          0.007463598158210516,
          -0.006139175035059452,
          -0.005870315246284008,
          -0.008136886171996593,
          -0.00902262981981039,
          0.011251712217926979,
          -0.001083611510694027,
          -0.00517154298722744,
          0.007817983627319336,
          0.001958598382771015,
          -0.0037725213915109634,
          0.004101498518139124,
          -0.00836989562958479,
          -0.0026379257906228304,
          0.003202354535460472,
          0.004094605799764395,
          -0.005429933313280344,
          0.00006459177529904991,
          -0.004434111062437296,
          0.0009324510465376079,
          0.002318758051842451,
          0.004128711298108101,
          -0.0005288701504468918,
          -0.0026131824124604464,
          0.00031066537485457957,
          0.003923547919839621,
          0.0018491314258426428,
          -0.00045095739187672734,
          -0.005121266003698111,
          -0.005137365311384201,
          -0.005462672095745802,
          -0.0021822648122906685,
          0.004066625144332647,
          -0.0006815853412263095,
          0.008423379622399807,
          0.002594572026282549,
          0.005420607049018145,
          0.012667541392147541,
          0.012316218577325344,
          -0.0027207175735384226,
          0.014544031582772732,
          -0.001725551439449191,
          0.0009057952556759119,
          0.02590111456811428,
          -0.012433630414307117,
          -0.002634290838614106,
          0.009416514076292515,
          -0.01584085449576378,
          -0.013728211633861065,
          0.004541093483567238,
          -0.008002153597772121,
          -0.003767486196011305,
          -0.0032374125439673662,
          0.009723516181111336,
          0.002114285947754979,
          -0.021141234785318375,
          0.012767423875629902,
          0.05718832090497017,
          -0.003550666617229581,
          -0.0012193704023957253,
          -0.0227863397449255,
          0.02717292495071888,
          0.0023563599679619074,
          0.04476526007056236,
          -0.01228887028992176,
          0.07399982213973999
         ],
         "xaxis": "x",
         "y": [
          -0.007463869173079729,
          -0.010611106641590595,
          -0.005051266867667437,
          -0.006161642260849476,
          -0.00885281153023243,
          -0.004028603434562683,
          -0.008835145272314548,
          -0.006939914543181658,
          -0.004096013493835926,
          -0.007610756438225508,
          -0.005569458473473787,
          -0.006723650265485048,
          -0.0029929534066468477,
          -0.012925409711897373,
          -0.001955913146957755,
          -0.005311251617968082,
          -0.0007888022810220718,
          -0.002099693054333329,
          -0.0026132750790566206,
          -0.00513808149844408,
          -0.00376079767011106,
          -0.007772938348352909,
          -0.0014924346469342709,
          -0.003229770576581359,
          -0.002355605596676469,
          -0.012405263260006905,
          -0.004682484548538923,
          -0.010351900942623615,
          -0.00639726035296917,
          -0.01406694296747446,
          -0.038122549653053284,
          -0.007410714402794838,
          -0.04671243205666542,
          -0.006338310427963734,
          -0.012223443947732449,
          -0.02850911393761635,
          -0.06357058882713318,
          -0.08589006215333939,
          -0.15755745768547058,
          -0.00014845971600152552,
          -0.06195581331849098,
          -0.005450310651212931,
          -0.005047575570642948,
          -0.03194105997681618,
          -0.0041999826207757,
          -0.06438284367322922,
          -0.010275019332766533,
          -0.00905699748545885,
          -0.010409507900476456,
          -0.005571471992880106,
          -0.012039558961987495,
          -0.014236434362828732,
          -0.03072059527039528,
          -0.07419607043266296,
          -0.0143270930275321,
          -0.030675582587718964,
          -0.006219443399459124,
          -0.006128924898803234,
          -0.03750535473227501,
          -0.021012332290410995,
          -0.0013202959671616554,
          -0.002879336941987276,
          -0.006419507786631584,
          0.0001352953986497596,
          -0.003403027541935444,
          -0.0017604143358767033,
          -0.01035690400749445,
          -0.0017874784534797072,
          -0.005926100537180901,
          -0.00638611102476716,
          -0.007945539429783821,
          -0.0007460134802386165,
          -0.010176236741244793,
          -0.0008652114192955196,
          -0.00034822424640879035,
          -0.0007252923096530139,
          -0.005617535673081875,
          0.0005635719280689955,
          -0.019764425233006477,
          0.005977300461381674,
          -0.0011921442346647382,
          0.0008252396364696324,
          -0.002014921512454748,
          -0.004090989474207163,
          0.00125399068929255,
          -0.00009951720130629838,
          0.00047719155554659665,
          -0.006749753374606371,
          0.0027095586992800236,
          0.000721960561349988,
          0.0004784658958669752,
          0.0006799190887250006,
          -0.002379579236730933,
          -0.0011421282542869449,
          -0.00090149010065943,
          -0.0011888325680047274,
          -0.0015645140083506703,
          -0.001780971302650869,
          -0.0026394659653306007,
          -0.002649033209308982,
          -0.0015249809948727489,
          0.0004977249191142619,
          -0.0012343780836090446,
          -0.0013468381948769093,
          -0.001321518560871482,
          0.001465003122575581,
          -0.0022729875054210424,
          0.0009803281864151359,
          0.0017660320736467838,
          0.000691101246047765,
          -0.0012680465588346124,
          0.00009183419751934707,
          0.0020367156248539686,
          0.0017234183615073562,
          0.0016247351886704564,
          -0.0012000356800854206,
          -0.0010087735718116164,
          0.0020645821932703257,
          -0.0013060478959232569,
          -0.0005002798861823976,
          0.0004201505798846483,
          -0.0019638845697045326,
          0.00118842045776546,
          -0.00042531522922217846,
          -0.001893037697300315,
          0.002579455031082034,
          0.0008329325937665999,
          0.0005656516295857728,
          -0.0017441964009776711,
          0.000248835509410128,
          0.00015011572395451367,
          0.0003310380852781236,
          -0.008620956912636757,
          0.0022731407079845667,
          0.0016963825328275561,
          -0.01168887224048376,
          0.002830302342772484,
          0.0014269694220274687,
          -0.011420234106481075,
          -0.008807020261883736,
          0.006154652219265699,
          -0.03142416849732399,
          0.003273464972153306,
          -0.03596443682909012
         ],
         "yaxis": "y"
        },
        {
         "line": {
          "color": "grey",
          "dash": "dot"
         },
         "mode": "lines",
         "name": "Y=-X",
         "type": "scatter",
         "x": [
          -0.4,
          0.4
         ],
         "xaxis": "x",
         "y": [
          0.4,
          -0.4
         ],
         "yaxis": "y"
        },
        {
         "marker": {
          "color": [
           0,
           0,
           0,
           0,
           0,
           0,
           0,
           0,
           0,
           0,
           0,
           0,
           1,
           1,
           1,
           1,
           1,
           1,
           1,
           1,
           1,
           1,
           1,
           1,
           2,
           2,
           2,
           2,
           2,
           2,
           2,
           2,
           2,
           2,
           2,
           2,
           3,
           3,
           3,
           3,
           3,
           3,
           3,
           3,
           3,
           3,
           3,
           3,
           4,
           4,
           4,
           4,
           4,
           4,
           4,
           4,
           4,
           4,
           4,
           4,
           5,
           5,
           5,
           5,
           5,
           5,
           5,
           5,
           5,
           5,
           5,
           5,
           6,
           6,
           6,
           6,
           6,
           6,
           6,
           6,
           6,
           6,
           6,
           6,
           7,
           7,
           7,
           7,
           7,
           7,
           7,
           7,
           7,
           7,
           7,
           7,
           8,
           8,
           8,
           8,
           8,
           8,
           8,
           8,
           8,
           8,
           8,
           8,
           9,
           9,
           9,
           9,
           9,
           9,
           9,
           9,
           9,
           9,
           9,
           9,
           10,
           10,
           10,
           10,
           10,
           10,
           10,
           10,
           10,
           10,
           10,
           10,
           11,
           11,
           11,
           11,
           11,
           11,
           11,
           11,
           11,
           11,
           11,
           11
          ],
          "colorbar": {
           "orientation": "h",
           "title": {
            "text": "Layer"
           }
          },
          "colorscale": [
           [
            0,
            "#440154"
           ],
           [
            0.1111111111111111,
            "#482878"
           ],
           [
            0.2222222222222222,
            "#3e4989"
           ],
           [
            0.3333333333333333,
            "#31688e"
           ],
           [
            0.4444444444444444,
            "#26828e"
           ],
           [
            0.5555555555555556,
            "#1f9e89"
           ],
           [
            0.6666666666666666,
            "#35b779"
           ],
           [
            0.7777777777777778,
            "#6ece58"
           ],
           [
            0.8888888888888888,
            "#b5de2b"
           ],
           [
            1,
            "#fde725"
           ]
          ],
          "line": {
           "color": "DarkSlateGrey",
           "width": 0.5
          },
          "opacity": 0.8,
          "size": 8
         },
         "mode": "markers",
         "name": "Attention Heads",
         "text": [
          "Layer 0, Head 0",
          "Layer 0, Head 1",
          "Layer 0, Head 2",
          "Layer 0, Head 3",
          "Layer 0, Head 4",
          "Layer 0, Head 5",
          "Layer 0, Head 6",
          "Layer 0, Head 7",
          "Layer 0, Head 8",
          "Layer 0, Head 9",
          "Layer 0, Head 10",
          "Layer 0, Head 11",
          "Layer 1, Head 0",
          "Layer 1, Head 1",
          "Layer 1, Head 2",
          "Layer 1, Head 3",
          "Layer 1, Head 4",
          "Layer 1, Head 5",
          "Layer 1, Head 6",
          "Layer 1, Head 7",
          "Layer 1, Head 8",
          "Layer 1, Head 9",
          "Layer 1, Head 10",
          "Layer 1, Head 11",
          "Layer 2, Head 0",
          "Layer 2, Head 1",
          "Layer 2, Head 2",
          "Layer 2, Head 3",
          "Layer 2, Head 4",
          "Layer 2, Head 5",
          "Layer 2, Head 6",
          "Layer 2, Head 7",
          "Layer 2, Head 8",
          "Layer 2, Head 9",
          "Layer 2, Head 10",
          "Layer 2, Head 11",
          "Layer 3, Head 0",
          "Layer 3, Head 1",
          "Layer 3, Head 2",
          "Layer 3, Head 3",
          "Layer 3, Head 4",
          "Layer 3, Head 5",
          "Layer 3, Head 6",
          "Layer 3, Head 7",
          "Layer 3, Head 8",
          "Layer 3, Head 9",
          "Layer 3, Head 10",
          "Layer 3, Head 11",
          "Layer 4, Head 0",
          "Layer 4, Head 1",
          "Layer 4, Head 2",
          "Layer 4, Head 3",
          "Layer 4, Head 4",
          "Layer 4, Head 5",
          "Layer 4, Head 6",
          "Layer 4, Head 7",
          "Layer 4, Head 8",
          "Layer 4, Head 9",
          "Layer 4, Head 10",
          "Layer 4, Head 11",
          "Layer 5, Head 0",
          "Layer 5, Head 1",
          "Layer 5, Head 2",
          "Layer 5, Head 3",
          "Layer 5, Head 4",
          "Layer 5, Head 5",
          "Layer 5, Head 6",
          "Layer 5, Head 7",
          "Layer 5, Head 8",
          "Layer 5, Head 9",
          "Layer 5, Head 10",
          "Layer 5, Head 11",
          "Layer 6, Head 0",
          "Layer 6, Head 1",
          "Layer 6, Head 2",
          "Layer 6, Head 3",
          "Layer 6, Head 4",
          "Layer 6, Head 5",
          "Layer 6, Head 6",
          "Layer 6, Head 7",
          "Layer 6, Head 8",
          "Layer 6, Head 9",
          "Layer 6, Head 10",
          "Layer 6, Head 11",
          "Layer 7, Head 0",
          "Layer 7, Head 1",
          "Layer 7, Head 2",
          "Layer 7, Head 3",
          "Layer 7, Head 4",
          "Layer 7, Head 5",
          "Layer 7, Head 6",
          "Layer 7, Head 7",
          "Layer 7, Head 8",
          "Layer 7, Head 9",
          "Layer 7, Head 10",
          "Layer 7, Head 11",
          "Layer 8, Head 0",
          "Layer 8, Head 1",
          "Layer 8, Head 2",
          "Layer 8, Head 3",
          "Layer 8, Head 4",
          "Layer 8, Head 5",
          "Layer 8, Head 6",
          "Layer 8, Head 7",
          "Layer 8, Head 8",
          "Layer 8, Head 9",
          "Layer 8, Head 10",
          "Layer 8, Head 11",
          "Layer 9, Head 0",
          "Layer 9, Head 1",
          "Layer 9, Head 2",
          "Layer 9, Head 3",
          "Layer 9, Head 4",
          "Layer 9, Head 5",
          "Layer 9, Head 6",
          "Layer 9, Head 7",
          "Layer 9, Head 8",
          "Layer 9, Head 9",
          "Layer 9, Head 10",
          "Layer 9, Head 11",
          "Layer 10, Head 0",
          "Layer 10, Head 1",
          "Layer 10, Head 2",
          "Layer 10, Head 3",
          "Layer 10, Head 4",
          "Layer 10, Head 5",
          "Layer 10, Head 6",
          "Layer 10, Head 7",
          "Layer 10, Head 8",
          "Layer 10, Head 9",
          "Layer 10, Head 10",
          "Layer 10, Head 11",
          "Layer 11, Head 0",
          "Layer 11, Head 1",
          "Layer 11, Head 2",
          "Layer 11, Head 3",
          "Layer 11, Head 4",
          "Layer 11, Head 5",
          "Layer 11, Head 6",
          "Layer 11, Head 7",
          "Layer 11, Head 8",
          "Layer 11, Head 9",
          "Layer 11, Head 10",
          "Layer 11, Head 11"
         ],
         "type": "scatter",
         "x": [
          0.011356278322637081,
          0.01782544143497944,
          0.012991863302886486,
          0.02334252931177616,
          0.027056803926825523,
          0.0016891667619347572,
          0.014489591121673584,
          0.01151395495980978,
          0.019825220108032227,
          0.023776745423674583,
          0.005200548097491264,
          0.015593202784657478,
          -0.004258502274751663,
          0.022721929475665092,
          0.005010835360735655,
          0.002251398516818881,
          0.01035604253411293,
          0.06507600098848343,
          0.041420552879571915,
          0.01914154551923275,
          0.0009618238545954227,
          0.00500844931229949,
          0.002629275433719158,
          0.011706588789820671,
          0.10518870502710342,
          0.012294416315853596,
          0.013367499224841595,
          0.07289659231901169,
          0.014047295786440372,
          0.043620701879262924,
          0.04932384565472603,
          0.0721963569521904,
          0.04528128355741501,
          0.04123988747596741,
          0.05404311791062355,
          0.035369668155908585,
          0.06011124327778816,
          0.04911329224705696,
          0.10866271704435349,
          -0.047403495758771896,
          0.028995683416724205,
          0.015718039125204086,
          0.052580323070287704,
          0.0344100259244442,
          0.01837705820798874,
          0.04321881756186485,
          0.05311679095029831,
          0.014975995756685734,
          0.02345813810825348,
          0.04694316163659096,
          0.03005039319396019,
          0.061776842921972275,
          0.03602354973554611,
          0.06850681453943253,
          0.03605935350060463,
          0.05853457748889923,
          0.04090931639075279,
          0.0829407274723053,
          0.07049437612295151,
          0.07154761254787445,
          0.06282752752304077,
          0.05155988037586212,
          0.05955322086811066,
          0.016041846945881844,
          0.052541300654411316,
          0.052032794803380966,
          0.04783680662512779,
          0.010706205852329731,
          0.054805852472782135,
          0.08621396124362946,
          0.08344448357820511,
          0.012004955671727657,
          0.09260500967502594,
          0.044041987508535385,
          0.04117608815431595,
          0.013500993140041828,
          0.07889313250780106,
          0.001108925323933363,
          0.11589642614126205,
          0.06737624108791351,
          -0.005297989118844271,
          -0.003699987893924117,
          -0.00369661464355886,
          0.033405859023332596,
          0.0003062601899728179,
          0.008760271593928337,
          -0.014281081035733223,
          0.002057132078334689,
          0.004530097357928753,
          -0.017300650477409363,
          -0.011241027154028416,
          0.0961519181728363,
          0.04932573065161705,
          0.033965110778808594,
          -0.06443005800247192,
          0.010515747591853142,
          0.0034233834594488144,
          0.0792941078543663,
          0.029356392100453377,
          0.018002109602093697,
          0.006886069197207689,
          0.025793878361582756,
          -0.020451609045267105,
          -0.023629436269402504,
          0.009657316841185093,
          -0.06657025218009949,
          0.06150103360414505,
          -0.0005973874358460307,
          0.06740455329418182,
          -0.0201154425740242,
          0.025384481996297836,
          0.16275633871555328,
          0.011859348975121975,
          0.14560626447200775,
          0.0033700934145599604,
          0.09368599951267242,
          0.10436272621154785,
          -0.009832075797021389,
          -0.0016887140227481723,
          0.07591680437326431,
          0.021248146891593933,
          0.043745994567871094,
          0.007992495782673359,
          0.0076510231010615826,
          0.03628890961408615,
          -0.026575446128845215,
          0.010243493132293224,
          0.023205013945698738,
          0.007584958337247372,
          0.026461461558938026,
          0.0028865141794085503,
          0.026858652010560036,
          0.2820221185684204,
          0.007101401686668396,
          0.13674965500831604,
          0.22183606028556824,
          0.011151205748319626,
          0.0029412205331027508,
          -0.012475795112550259,
          0.1496453583240509,
          0.03186855465173721,
          0.07861942797899246,
          0.01597260683774948,
          0.17122936248779297
         ],
         "xaxis": "x2",
         "y": [
          -0.02858000248670578,
          -0.013095267117023468,
          -0.0587979219853878,
          -0.05477527156472206,
          -0.012026541866362095,
          -0.007552745286375284,
          -0.01493089273571968,
          -0.020710399374365807,
          -0.024922870099544525,
          -0.01204964891076088,
          0.00475235003978014,
          -0.006155603099614382,
          -0.0446469709277153,
          -0.14891542494297028,
          -0.0890534296631813,
          -0.011740269139409065,
          -0.003435468301177025,
          -0.07551295310258865,
          -0.01457133237272501,
          -0.17303912341594696,
          -0.00017311445844825357,
          -0.09656935930252075,
          -0.033056292682886124,
          -0.029868220910429955,
          -0.02088862657546997,
          -0.06620617210865021,
          -0.051168423146009445,
          -0.05950596556067467,
          -0.012746574357151985,
          -0.06299423426389694,
          -0.20491907000541687,
          -0.13341398537158966,
          -0.1096545159816742,
          -0.11101455986499786,
          -0.16388939321041107,
          -0.17698977887630463,
          -0.36642032861709595,
          -0.18514230847358704,
          -0.6740626096725464,
          -0.006691477727144957,
          -0.1232902929186821,
          -0.016002003103494644,
          -0.023841718211770058,
          -0.001307687838561833,
          -0.044490739703178406,
          -0.12893201410770416,
          -0.05255565419793129,
          -0.03670483082532883,
          -0.06070215627551079,
          -0.00014045847638044506,
          -0.03590703755617142,
          -0.09936036914587021,
          -0.09158448874950409,
          -0.2935613691806793,
          -0.09543062001466751,
          -0.07267413288354874,
          -0.04620874300599098,
          -0.09601885080337524,
          -0.08476509898900986,
          -0.06507772207260132,
          -0.042155828326940536,
          -0.0751325786113739,
          -0.029465630650520325,
          -0.015831785276532173,
          -0.04256433993577957,
          -0.04333403334021568,
          -0.04837797209620476,
          -0.011682442389428616,
          -0.19350090622901917,
          -0.04450620710849762,
          -0.06451506167650223,
          -0.009612363763153553,
          -0.08151087164878845,
          -0.014601723290979862,
          -0.04192100465297699,
          -0.005975442938506603,
          -0.04688875004649162,
          0.009790224954485893,
          -0.10550130158662796,
          0.011308603920042515,
          -0.0024302194360643625,
          -0.016466226428747177,
          -0.00803520530462265,
          -0.027345813810825348,
          -0.006454912479966879,
          -0.008416279219090939,
          0.0025671094190329313,
          -0.00388402515091002,
          0.0008375854231417179,
          0.0020617088302969933,
          -0.0032867821864783764,
          -0.10667447745800018,
          -0.037638112902641296,
          -0.00879084225744009,
          0.02884957753121853,
          -0.007657899986952543,
          -0.004242707043886185,
          -0.07035933434963226,
          -0.031176302582025528,
          -0.0028256881050765514,
          -0.008393590338528156,
          -0.015908680856227875,
          0.005301492288708687,
          0.007943348027765751,
          -0.013279003091156483,
          0.043040912598371506,
          -0.05802743881940842,
          -0.011092538945376873,
          0.008186526596546173,
          0.006239544600248337,
          -0.016044553369283676,
          -0.14035969972610474,
          -0.006624952424317598,
          0.002247616183012724,
          -0.0060497126542031765,
          -0.09167309105396271,
          -0.09680873155593872,
          -0.004458391573280096,
          -0.008627480827271938,
          -0.00002356094410060905,
          -0.005773134995251894,
          -0.03107321634888649,
          -0.005684443283826113,
          -0.001835449947975576,
          -0.019290365278720856,
          -0.011232727207243443,
          -0.003351701656356454,
          -0.021434247493743896,
          -0.006994522642344236,
          -0.01075161062180996,
          -0.005166264716535807,
          -0.018663255497813225,
          -0.13628274202346802,
          -0.000019680674085975625,
          -0.022503580898046494,
          -0.08788637071847916,
          0.004365452099591494,
          0.007694247644394636,
          -0.003951288294047117,
          -0.06376644968986511,
          0.007813060656189919,
          -0.03394605219364166,
          -0.005899920593947172,
          -0.11395912617444992
         ],
         "yaxis": "y2"
        },
        {
         "line": {
          "color": "grey",
          "dash": "dot"
         },
         "mode": "lines",
         "name": "Y=-X",
         "type": "scatter",
         "x": [
          -0.4,
          0.4
         ],
         "xaxis": "x2",
         "y": [
          0.4,
          -0.4
         ],
         "yaxis": "y2"
        },
        {
         "marker": {
          "color": [
           0,
           0,
           0,
           0,
           0,
           0,
           0,
           0,
           0,
           0,
           0,
           0,
           1,
           1,
           1,
           1,
           1,
           1,
           1,
           1,
           1,
           1,
           1,
           1,
           2,
           2,
           2,
           2,
           2,
           2,
           2,
           2,
           2,
           2,
           2,
           2,
           3,
           3,
           3,
           3,
           3,
           3,
           3,
           3,
           3,
           3,
           3,
           3,
           4,
           4,
           4,
           4,
           4,
           4,
           4,
           4,
           4,
           4,
           4,
           4,
           5,
           5,
           5,
           5,
           5,
           5,
           5,
           5,
           5,
           5,
           5,
           5,
           6,
           6,
           6,
           6,
           6,
           6,
           6,
           6,
           6,
           6,
           6,
           6,
           7,
           7,
           7,
           7,
           7,
           7,
           7,
           7,
           7,
           7,
           7,
           7,
           8,
           8,
           8,
           8,
           8,
           8,
           8,
           8,
           8,
           8,
           8,
           8,
           9,
           9,
           9,
           9,
           9,
           9,
           9,
           9,
           9,
           9,
           9,
           9,
           10,
           10,
           10,
           10,
           10,
           10,
           10,
           10,
           10,
           10,
           10,
           10,
           11,
           11,
           11,
           11,
           11,
           11,
           11,
           11,
           11,
           11,
           11,
           11
          ],
          "colorbar": {
           "orientation": "h",
           "title": {
            "text": "Layer"
           }
          },
          "colorscale": [
           [
            0,
            "#440154"
           ],
           [
            0.1111111111111111,
            "#482878"
           ],
           [
            0.2222222222222222,
            "#3e4989"
           ],
           [
            0.3333333333333333,
            "#31688e"
           ],
           [
            0.4444444444444444,
            "#26828e"
           ],
           [
            0.5555555555555556,
            "#1f9e89"
           ],
           [
            0.6666666666666666,
            "#35b779"
           ],
           [
            0.7777777777777778,
            "#6ece58"
           ],
           [
            0.8888888888888888,
            "#b5de2b"
           ],
           [
            1,
            "#fde725"
           ]
          ],
          "line": {
           "color": "DarkSlateGrey",
           "width": 0.5
          },
          "opacity": 0.8,
          "size": 8
         },
         "mode": "markers",
         "name": "Attention Heads",
         "text": [
          "Layer 0, Head 0",
          "Layer 0, Head 1",
          "Layer 0, Head 2",
          "Layer 0, Head 3",
          "Layer 0, Head 4",
          "Layer 0, Head 5",
          "Layer 0, Head 6",
          "Layer 0, Head 7",
          "Layer 0, Head 8",
          "Layer 0, Head 9",
          "Layer 0, Head 10",
          "Layer 0, Head 11",
          "Layer 1, Head 0",
          "Layer 1, Head 1",
          "Layer 1, Head 2",
          "Layer 1, Head 3",
          "Layer 1, Head 4",
          "Layer 1, Head 5",
          "Layer 1, Head 6",
          "Layer 1, Head 7",
          "Layer 1, Head 8",
          "Layer 1, Head 9",
          "Layer 1, Head 10",
          "Layer 1, Head 11",
          "Layer 2, Head 0",
          "Layer 2, Head 1",
          "Layer 2, Head 2",
          "Layer 2, Head 3",
          "Layer 2, Head 4",
          "Layer 2, Head 5",
          "Layer 2, Head 6",
          "Layer 2, Head 7",
          "Layer 2, Head 8",
          "Layer 2, Head 9",
          "Layer 2, Head 10",
          "Layer 2, Head 11",
          "Layer 3, Head 0",
          "Layer 3, Head 1",
          "Layer 3, Head 2",
          "Layer 3, Head 3",
          "Layer 3, Head 4",
          "Layer 3, Head 5",
          "Layer 3, Head 6",
          "Layer 3, Head 7",
          "Layer 3, Head 8",
          "Layer 3, Head 9",
          "Layer 3, Head 10",
          "Layer 3, Head 11",
          "Layer 4, Head 0",
          "Layer 4, Head 1",
          "Layer 4, Head 2",
          "Layer 4, Head 3",
          "Layer 4, Head 4",
          "Layer 4, Head 5",
          "Layer 4, Head 6",
          "Layer 4, Head 7",
          "Layer 4, Head 8",
          "Layer 4, Head 9",
          "Layer 4, Head 10",
          "Layer 4, Head 11",
          "Layer 5, Head 0",
          "Layer 5, Head 1",
          "Layer 5, Head 2",
          "Layer 5, Head 3",
          "Layer 5, Head 4",
          "Layer 5, Head 5",
          "Layer 5, Head 6",
          "Layer 5, Head 7",
          "Layer 5, Head 8",
          "Layer 5, Head 9",
          "Layer 5, Head 10",
          "Layer 5, Head 11",
          "Layer 6, Head 0",
          "Layer 6, Head 1",
          "Layer 6, Head 2",
          "Layer 6, Head 3",
          "Layer 6, Head 4",
          "Layer 6, Head 5",
          "Layer 6, Head 6",
          "Layer 6, Head 7",
          "Layer 6, Head 8",
          "Layer 6, Head 9",
          "Layer 6, Head 10",
          "Layer 6, Head 11",
          "Layer 7, Head 0",
          "Layer 7, Head 1",
          "Layer 7, Head 2",
          "Layer 7, Head 3",
          "Layer 7, Head 4",
          "Layer 7, Head 5",
          "Layer 7, Head 6",
          "Layer 7, Head 7",
          "Layer 7, Head 8",
          "Layer 7, Head 9",
          "Layer 7, Head 10",
          "Layer 7, Head 11",
          "Layer 8, Head 0",
          "Layer 8, Head 1",
          "Layer 8, Head 2",
          "Layer 8, Head 3",
          "Layer 8, Head 4",
          "Layer 8, Head 5",
          "Layer 8, Head 6",
          "Layer 8, Head 7",
          "Layer 8, Head 8",
          "Layer 8, Head 9",
          "Layer 8, Head 10",
          "Layer 8, Head 11",
          "Layer 9, Head 0",
          "Layer 9, Head 1",
          "Layer 9, Head 2",
          "Layer 9, Head 3",
          "Layer 9, Head 4",
          "Layer 9, Head 5",
          "Layer 9, Head 6",
          "Layer 9, Head 7",
          "Layer 9, Head 8",
          "Layer 9, Head 9",
          "Layer 9, Head 10",
          "Layer 9, Head 11",
          "Layer 10, Head 0",
          "Layer 10, Head 1",
          "Layer 10, Head 2",
          "Layer 10, Head 3",
          "Layer 10, Head 4",
          "Layer 10, Head 5",
          "Layer 10, Head 6",
          "Layer 10, Head 7",
          "Layer 10, Head 8",
          "Layer 10, Head 9",
          "Layer 10, Head 10",
          "Layer 10, Head 11",
          "Layer 11, Head 0",
          "Layer 11, Head 1",
          "Layer 11, Head 2",
          "Layer 11, Head 3",
          "Layer 11, Head 4",
          "Layer 11, Head 5",
          "Layer 11, Head 6",
          "Layer 11, Head 7",
          "Layer 11, Head 8",
          "Layer 11, Head 9",
          "Layer 11, Head 10",
          "Layer 11, Head 11"
         ],
         "type": "scatter",
         "x": [
          0.03903922066092491,
          0.011743714101612568,
          -0.009931284002959728,
          0.009787268936634064,
          0.006493018940091133,
          0.02485433779656887,
          0.0386490523815155,
          -0.021807149052619934,
          0.0032193271908909082,
          0.012880796566605568,
          0.0034124369267374277,
          0.03219587355852127,
          0.021677520126104355,
          -0.015001190826296806,
          -0.003607977880164981,
          0.011317383497953415,
          0.011390602216124535,
          0.014414350502192974,
          -0.009207365103065968,
          0.0026729723904281855,
          0.018896959722042084,
          -0.0012604071525856853,
          0.03162252530455589,
          0.010432574898004532,
          0.009415947832167149,
          0.020444046705961227,
          0.011859774589538574,
          0.02290482446551323,
          -0.0061643836088478565,
          0.024181414395570755,
          0.01818251982331276,
          0.040108680725097656,
          0.02230668067932129,
          0.013094687834382057,
          0.03507457301020622,
          0.03358751907944679,
          0.008603207767009735,
          0.0451526865363121,
          0.038611020892858505,
          -0.058938272297382355,
          0.009216061793267727,
          0.014090094715356827,
          0.026611588895320892,
          -0.016835764050483704,
          0.006769280880689621,
          0.02957281842827797,
          0.038670435547828674,
          0.05218484625220299,
          0.02357572689652443,
          0.019960546866059303,
          0.02564096450805664,
          0.09107150882482529,
          0.03242835775017738,
          0.04405003413558006,
          0.012422963045537472,
          0.046707287430763245,
          0.04709199443459511,
          0.06821664422750473,
          -0.010020526126027107,
          0.047550663352012634,
          0.08620944619178772,
          0.08970947563648224,
          0.0838717445731163,
          0.045035071671009064,
          0.08182661980390549,
          0.04509297013282776,
          0.07891280204057693,
          0.06696619838476181,
          0.04260306432843208,
          0.03690432757139206,
          -0.013177811168134212,
          0.04228031262755394,
          0.09634953737258911,
          0.11728223413228989,
          0.06286344677209854,
          0.04141516238451004,
          0.06829198449850082,
          -0.009840516373515129,
          0.08285266160964966,
          -0.10760422796010971,
          0.008818998001515865,
          -0.012227984145283699,
          0.0154489791020751,
          0.04627295956015587,
          0.01895550638437271,
          0.04796125739812851,
          -0.03697194159030914,
          0.009715970605611801,
          0.07789936661720276,
          0.011049359105527401,
          -0.02702777087688446,
          0.1407833695411682,
          0.10680465400218964,
          0.03299408033490181,
          -0.022080574184656143,
          0.0061659482307732105,
          0.08506616204977036,
          0.10390488058328629,
          0.09626097232103348,
          0.11010830849409103,
          0.12486153841018677,
          0.10464860498905182,
          -0.03876393660902977,
          -0.018021350726485252,
          0.12095292657613754,
          -0.02272878959774971,
          0.08964119851589203,
          0.07745936512947083,
          -0.04632104933261871,
          -0.018295343965291977,
          0.01660846546292305,
          0.29545044898986816,
          0.02913970872759819,
          -0.02251017466187477,
          0.03645974397659302,
          0.12306901812553406,
          0.09254501760005951,
          0.06000535935163498,
          0.043921999633312225,
          -0.022229744121432304,
          0.023929569870233536,
          0.049625273793935776,
          -0.016472194343805313,
          0.010037751868367195,
          0.038033466786146164,
          0.026602696627378464,
          0.0028687717858701944,
          0.01438734121620655,
          0.007236168719828129,
          0.18909606337547302,
          0.01549625862389803,
          0.01124277338385582,
          0.10956935584545135,
          0.01244196854531765,
          0.013703214935958385,
          0.019020715728402138,
          0.00352220400236547,
          -0.01058802381157875,
          0.029964685440063477,
          0.014521336182951927,
          -0.005197052378207445,
          0.025126589462161064,
          -0.0057827178388834,
          0.07722614705562592
         ],
         "xaxis": "x3",
         "y": [
          -0.3747751712799072,
          -0.08460482954978943,
          -0.3299938142299652,
          -0.4994507431983948,
          -0.18144376575946808,
          -0.0434594601392746,
          -0.01564187742769718,
          -0.09124185144901276,
          -0.29107075929641724,
          -0.0912063717842102,
          -0.1536158174276352,
          -0.05026564374566078,
          -0.11252786219120026,
          -0.2356775552034378,
          -0.36615943908691406,
          -0.029159652069211006,
          -0.15083520114421844,
          -0.13225057721138,
          -0.050712376832962036,
          -0.34832248091697693,
          -0.06279711425304413,
          -0.10763724893331528,
          -0.028628872707486153,
          -0.08989346772432327,
          -0.07195723801851273,
          -0.09991440922021866,
          -0.09837321937084198,
          -0.10940979421138763,
          -0.030589338392019272,
          -0.15066839754581451,
          -0.15713128447532654,
          -0.3065541982650757,
          -0.18315286934375763,
          -0.17602837085723877,
          -0.1968359649181366,
          -0.18149274587631226,
          -0.1689332276582718,
          -0.27021992206573486,
          -0.8164582252502441,
          -0.35507890582084656,
          -0.18590205907821655,
          -0.0734332874417305,
          -0.057747576385736465,
          0.0813949927687645,
          -0.11183857917785645,
          -0.14224432408809662,
          -0.1402488499879837,
          -0.08259755373001099,
          -0.15574006736278534,
          0.02082083374261856,
          -0.12747308611869812,
          -0.1544233113527298,
          -0.10429325699806213,
          -0.20098468661308289,
          -0.08795648068189621,
          -0.101297527551651,
          -0.09915679693222046,
          -0.3170131742954254,
          -0.053380075842142105,
          -0.08055979013442993,
          -0.05887698382139206,
          -0.20990446209907532,
          -0.044357944279909134,
          -0.10274166613817215,
          -0.11696392297744751,
          -0.19210736453533173,
          -0.035757582634687424,
          -0.018121259286999702,
          -0.2205432504415512,
          -0.040641020983457565,
          -0.043150894343853,
          -0.07036709040403366,
          -0.301238477230072,
          -0.06913036108016968,
          -0.2194288820028305,
          -0.08046435564756393,
          -0.08213943243026733,
          0.013475707732141018,
          -0.11427939683198929,
          0.16476468741893768,
          -0.062230534851551056,
          -0.0006902162567712367,
          -0.019587380811572075,
          -0.12230663001537323,
          -0.04606487601995468,
          -0.11464493721723557,
          0.06953664869070053,
          -0.02532283402979374,
          -0.08137005567550659,
          0.007894160225987434,
          0.01307760551571846,
          -0.47210565209388733,
          -0.287378191947937,
          -0.06018664315342903,
          0.003853833768516779,
          -0.08563205599784851,
          -0.08356647193431854,
          -0.11980018019676208,
          -0.06468313932418823,
          -0.0395767018198967,
          -0.21720081567764282,
          -0.06629052758216858,
          0.01947658136487007,
          -0.011349346488714218,
          -0.06132127344608307,
          -0.016512777656316757,
          -0.08065903931856155,
          -0.06544327735900879,
          -0.014389186166226864,
          0.001429997617378831,
          -0.03151533007621765,
          -0.32214978337287903,
          -0.018579302355647087,
          0.010731031186878681,
          -0.037434596568346024,
          -0.1307130604982376,
          -0.10046447068452835,
          -0.04706917703151703,
          -0.042586687952280045,
          -0.002399544231593609,
          -0.005902478005737066,
          -0.03425455838441849,
          0.013723603449761868,
          -0.0030817340593785048,
          -0.011132929474115372,
          -0.059482309967279434,
          -0.005594354122877121,
          -0.009334665723145008,
          -0.006001935340464115,
          -0.09426293522119522,
          -0.009554476477205753,
          -0.005708062555640936,
          -0.07681851834058762,
          -0.0015122025506570935,
          -0.0172796081751585,
          -0.015728725120425224,
          -0.00696430541574955,
          -0.00174171372782439,
          -0.01613631658256054,
          -0.013142899610102177,
          -0.005041434895247221,
          -0.01158993598073721,
          -0.00435686158016324,
          -0.046280309557914734
         ],
         "yaxis": "y3"
        },
        {
         "line": {
          "color": "grey",
          "dash": "dot"
         },
         "mode": "lines",
         "name": "Y=-X",
         "type": "scatter",
         "x": [
          -0.4,
          0.4
         ],
         "xaxis": "x3",
         "y": [
          0.4,
          -0.4
         ],
         "yaxis": "y3"
        },
        {
         "marker": {
          "color": [
           0,
           0,
           0,
           0,
           0,
           0,
           0,
           0,
           0,
           0,
           0,
           0,
           1,
           1,
           1,
           1,
           1,
           1,
           1,
           1,
           1,
           1,
           1,
           1,
           2,
           2,
           2,
           2,
           2,
           2,
           2,
           2,
           2,
           2,
           2,
           2,
           3,
           3,
           3,
           3,
           3,
           3,
           3,
           3,
           3,
           3,
           3,
           3,
           4,
           4,
           4,
           4,
           4,
           4,
           4,
           4,
           4,
           4,
           4,
           4,
           5,
           5,
           5,
           5,
           5,
           5,
           5,
           5,
           5,
           5,
           5,
           5,
           6,
           6,
           6,
           6,
           6,
           6,
           6,
           6,
           6,
           6,
           6,
           6,
           7,
           7,
           7,
           7,
           7,
           7,
           7,
           7,
           7,
           7,
           7,
           7,
           8,
           8,
           8,
           8,
           8,
           8,
           8,
           8,
           8,
           8,
           8,
           8,
           9,
           9,
           9,
           9,
           9,
           9,
           9,
           9,
           9,
           9,
           9,
           9,
           10,
           10,
           10,
           10,
           10,
           10,
           10,
           10,
           10,
           10,
           10,
           10,
           11,
           11,
           11,
           11,
           11,
           11,
           11,
           11,
           11,
           11,
           11,
           11
          ],
          "colorbar": {
           "orientation": "h",
           "title": {
            "text": "Layer"
           }
          },
          "colorscale": [
           [
            0,
            "#440154"
           ],
           [
            0.1111111111111111,
            "#482878"
           ],
           [
            0.2222222222222222,
            "#3e4989"
           ],
           [
            0.3333333333333333,
            "#31688e"
           ],
           [
            0.4444444444444444,
            "#26828e"
           ],
           [
            0.5555555555555556,
            "#1f9e89"
           ],
           [
            0.6666666666666666,
            "#35b779"
           ],
           [
            0.7777777777777778,
            "#6ece58"
           ],
           [
            0.8888888888888888,
            "#b5de2b"
           ],
           [
            1,
            "#fde725"
           ]
          ],
          "line": {
           "color": "DarkSlateGrey",
           "width": 0.5
          },
          "opacity": 0.8,
          "size": 8
         },
         "mode": "markers",
         "name": "Attention Heads",
         "text": [
          "Layer 0, Head 0",
          "Layer 0, Head 1",
          "Layer 0, Head 2",
          "Layer 0, Head 3",
          "Layer 0, Head 4",
          "Layer 0, Head 5",
          "Layer 0, Head 6",
          "Layer 0, Head 7",
          "Layer 0, Head 8",
          "Layer 0, Head 9",
          "Layer 0, Head 10",
          "Layer 0, Head 11",
          "Layer 1, Head 0",
          "Layer 1, Head 1",
          "Layer 1, Head 2",
          "Layer 1, Head 3",
          "Layer 1, Head 4",
          "Layer 1, Head 5",
          "Layer 1, Head 6",
          "Layer 1, Head 7",
          "Layer 1, Head 8",
          "Layer 1, Head 9",
          "Layer 1, Head 10",
          "Layer 1, Head 11",
          "Layer 2, Head 0",
          "Layer 2, Head 1",
          "Layer 2, Head 2",
          "Layer 2, Head 3",
          "Layer 2, Head 4",
          "Layer 2, Head 5",
          "Layer 2, Head 6",
          "Layer 2, Head 7",
          "Layer 2, Head 8",
          "Layer 2, Head 9",
          "Layer 2, Head 10",
          "Layer 2, Head 11",
          "Layer 3, Head 0",
          "Layer 3, Head 1",
          "Layer 3, Head 2",
          "Layer 3, Head 3",
          "Layer 3, Head 4",
          "Layer 3, Head 5",
          "Layer 3, Head 6",
          "Layer 3, Head 7",
          "Layer 3, Head 8",
          "Layer 3, Head 9",
          "Layer 3, Head 10",
          "Layer 3, Head 11",
          "Layer 4, Head 0",
          "Layer 4, Head 1",
          "Layer 4, Head 2",
          "Layer 4, Head 3",
          "Layer 4, Head 4",
          "Layer 4, Head 5",
          "Layer 4, Head 6",
          "Layer 4, Head 7",
          "Layer 4, Head 8",
          "Layer 4, Head 9",
          "Layer 4, Head 10",
          "Layer 4, Head 11",
          "Layer 5, Head 0",
          "Layer 5, Head 1",
          "Layer 5, Head 2",
          "Layer 5, Head 3",
          "Layer 5, Head 4",
          "Layer 5, Head 5",
          "Layer 5, Head 6",
          "Layer 5, Head 7",
          "Layer 5, Head 8",
          "Layer 5, Head 9",
          "Layer 5, Head 10",
          "Layer 5, Head 11",
          "Layer 6, Head 0",
          "Layer 6, Head 1",
          "Layer 6, Head 2",
          "Layer 6, Head 3",
          "Layer 6, Head 4",
          "Layer 6, Head 5",
          "Layer 6, Head 6",
          "Layer 6, Head 7",
          "Layer 6, Head 8",
          "Layer 6, Head 9",
          "Layer 6, Head 10",
          "Layer 6, Head 11",
          "Layer 7, Head 0",
          "Layer 7, Head 1",
          "Layer 7, Head 2",
          "Layer 7, Head 3",
          "Layer 7, Head 4",
          "Layer 7, Head 5",
          "Layer 7, Head 6",
          "Layer 7, Head 7",
          "Layer 7, Head 8",
          "Layer 7, Head 9",
          "Layer 7, Head 10",
          "Layer 7, Head 11",
          "Layer 8, Head 0",
          "Layer 8, Head 1",
          "Layer 8, Head 2",
          "Layer 8, Head 3",
          "Layer 8, Head 4",
          "Layer 8, Head 5",
          "Layer 8, Head 6",
          "Layer 8, Head 7",
          "Layer 8, Head 8",
          "Layer 8, Head 9",
          "Layer 8, Head 10",
          "Layer 8, Head 11",
          "Layer 9, Head 0",
          "Layer 9, Head 1",
          "Layer 9, Head 2",
          "Layer 9, Head 3",
          "Layer 9, Head 4",
          "Layer 9, Head 5",
          "Layer 9, Head 6",
          "Layer 9, Head 7",
          "Layer 9, Head 8",
          "Layer 9, Head 9",
          "Layer 9, Head 10",
          "Layer 9, Head 11",
          "Layer 10, Head 0",
          "Layer 10, Head 1",
          "Layer 10, Head 2",
          "Layer 10, Head 3",
          "Layer 10, Head 4",
          "Layer 10, Head 5",
          "Layer 10, Head 6",
          "Layer 10, Head 7",
          "Layer 10, Head 8",
          "Layer 10, Head 9",
          "Layer 10, Head 10",
          "Layer 10, Head 11",
          "Layer 11, Head 0",
          "Layer 11, Head 1",
          "Layer 11, Head 2",
          "Layer 11, Head 3",
          "Layer 11, Head 4",
          "Layer 11, Head 5",
          "Layer 11, Head 6",
          "Layer 11, Head 7",
          "Layer 11, Head 8",
          "Layer 11, Head 9",
          "Layer 11, Head 10",
          "Layer 11, Head 11"
         ],
         "type": "scatter",
         "x": [
          0.030324507504701614,
          0.013429028913378716,
          -0.010004264302551746,
          0.020465299487113953,
          0.03210778161883354,
          0.018871139734983444,
          0.038739949464797974,
          -0.041972752660512924,
          -0.002099133562296629,
          0.019742926582694054,
          0.005440175533294678,
          0.020880477502942085,
          0.017725704237818718,
          -0.010238165967166424,
          0.003319045528769493,
          0.02145262248814106,
          0.021586336195468903,
          0.02136351726949215,
          -0.01350822951644659,
          0.010287312790751457,
          0.010408077389001846,
          0.005972601938992739,
          0.001310373074375093,
          0.010383499786257744,
          0.007428138516843319,
          0.01295908261090517,
          0.00865251012146473,
          0.024908820167183876,
          0.006194974761456251,
          0.027608120813965797,
          0.00911052618175745,
          0.03203725069761276,
          0.025947831571102142,
          0.006552129052579403,
          0.029199913144111633,
          0.02412005327641964,
          0.004510222934186459,
          0.04765069857239723,
          0.03164110705256462,
          -0.04422390088438988,
          0.012100382708013058,
          0.008426020853221416,
          0.003051263280212879,
          -0.040009334683418274,
          0.025285623967647552,
          0.02991809882223606,
          0.03357426077127457,
          0.007406151853501797,
          0.026789793744683266,
          0.03716527670621872,
          0.02138972468674183,
          0.08047417551279068,
          0.025897644460201263,
          0.039356160908937454,
          -0.0014574064407497644,
          0.03304901346564293,
          0.032345645129680634,
          0.06886034458875656,
          -0.02222556248307228,
          0.036156248301267624,
          0.08889426290988922,
          0.04364998638629913,
          0.049376003444194794,
          0.03426997363567352,
          0.03798622265458107,
          0.028061972931027412,
          -0.0014385482063516974,
          0.03630821034312248,
          0.04110868647694588,
          0.035308483988046646,
          -0.006729953922331333,
          0.031160686165094376,
          0.050645798444747925,
          0.06798073649406433,
          0.031248237937688828,
          0.04487696290016174,
          0.058111101388931274,
          0.006128514185547829,
          0.08980528265237808,
          -0.09290117025375366,
          0.03422202542424202,
          0.007999010384082794,
          0.0015261052176356316,
          0.02164296992123127,
          -0.002558054169639945,
          0.021226705983281136,
          -0.010074942372739315,
          0.009421889670193195,
          0.02348180115222931,
          -0.0025172890163958073,
          -0.00626353221014142,
          0.0641145184636116,
          0.1754852682352066,
          0.006575264502316713,
          -0.011591748334467411,
          -0.05707843229174614,
          0.03467608988285065,
          0.02788933925330639,
          0.03273962438106537,
          0.03176572918891907,
          0.038588088005781174,
          0.03762901574373245,
          -0.014793201349675655,
          0.017741693183779716,
          0.03376951068639755,
          0.0029752838890999556,
          0.054036326706409454,
          0.03828907012939453,
          -0.0014388663694262505,
          -0.01890604756772518,
          0.012370592914521694,
          0.1178501546382904,
          0.02604520507156849,
          -0.0009639305644668639,
          0.01662503555417061,
          0.03484887629747391,
          0.02681697905063629,
          0.02535564824938774,
          0.02049269899725914,
          -0.0020003807730972767,
          0.011696279980242252,
          0.042530402541160583,
          0.004491358995437622,
          0.013876760378479958,
          0.02847454883158207,
          0.06353519856929779,
          0.003870883025228977,
          0.016579478979110718,
          0.009245585650205612,
          0.06079769879579544,
          0.01689012162387371,
          0.012368784286081791,
          0.3570389151573181,
          0.14184053242206573,
          0.11891700327396393,
          0.0933837965130806,
          0.02561192959547043,
          0.20750856399536133,
          0.17351354658603668,
          0.058768074959516525,
          0.05248822271823883,
          0.15870727598667145,
          0.08209346979856491,
          0.1963147222995758
         ],
         "xaxis": "x4",
         "y": [
          -0.48138901591300964,
          -0.11481976509094238,
          -0.3895086348056793,
          -0.5902295708656311,
          -0.3153199553489685,
          -0.05591431260108948,
          -0.036689791828393936,
          -0.11049005389213562,
          -0.3895380198955536,
          -0.11485596746206284,
          -0.2183995544910431,
          -0.0913865715265274,
          -0.12889158725738525,
          -0.2485123723745346,
          -0.419612854719162,
          -0.042862266302108765,
          -0.1738452911376953,
          -0.17614467442035675,
          -0.06688995659351349,
          -0.3599315285682678,
          -0.08222462236881256,
          -0.12327755987644196,
          -0.03793289139866829,
          -0.1077570766210556,
          -0.08666864037513733,
          -0.11504951864480972,
          -0.11012063920497894,
          -0.14353018999099731,
          -0.03437817096710205,
          -0.18501466512680054,
          -0.141805037856102,
          -0.3427969515323639,
          -0.2039744108915329,
          -0.2002285122871399,
          -0.200942263007164,
          -0.18656083941459656,
          -0.14869898557662964,
          -0.2847236692905426,
          -0.8681041598320007,
          -0.5324717164039612,
          -0.20045386254787445,
          -0.08191553503274918,
          -0.07202842086553574,
          0.10803317278623581,
          -0.12002216279506683,
          -0.14507551491260529,
          -0.1683393120765686,
          -0.11044155061244965,
          -0.13985827565193176,
          0.0230936910957098,
          -0.13470688462257385,
          -0.2177080512046814,
          -0.09607367217540741,
          -0.18209359049797058,
          -0.04170830175280571,
          -0.09653794020414352,
          -0.13687525689601898,
          -0.3515377342700958,
          -0.02435239590704441,
          -0.1219494640827179,
          -0.10385788977146149,
          -0.2428332418203354,
          -0.06381120532751083,
          -0.1087971106171608,
          -0.13837872445583344,
          -0.1931602656841278,
          -0.009050627239048481,
          -0.02777087688446045,
          -0.19607296586036682,
          -0.04907701909542084,
          -0.05377621203660965,
          -0.06359204649925232,
          -0.1307046264410019,
          -0.11116151511669159,
          -0.060835812240839005,
          -0.08192955702543259,
          -0.08134961873292923,
          -0.017415909096598625,
          -0.1136225163936615,
          0.11634605377912521,
          -0.09809619933366776,
          -0.01696106418967247,
          -0.042313337326049805,
          -0.1297929584980011,
          -0.054922010749578476,
          -0.04864170029759407,
          0.008469007909297943,
          -0.03162570670247078,
          -0.05622634291648865,
          -0.009363437071442604,
          -0.004424222745001316,
          -0.27635496854782104,
          -0.42911431193351746,
          -0.013278353027999401,
          -0.0029041366651654243,
          -0.09730086475610733,
          -0.03589197248220444,
          -0.023033790290355682,
          -0.013108189217746258,
          -0.0198836587369442,
          -0.07169529050588608,
          -0.018773917108774185,
          -0.005158981308341026,
          -0.02195604145526886,
          -0.017581691965460777,
          -0.007151236291974783,
          -0.039017729461193085,
          -0.022629473358392715,
          -0.010964516550302505,
          0.007060113828629255,
          -0.010821863077580929,
          -0.12584944069385529,
          -0.015923915430903435,
          0.013818230479955673,
          -0.012964969500899315,
          -0.02721221186220646,
          -0.024199429899454117,
          -0.016047418117523193,
          -0.032094746828079224,
          -0.0062298099510371685,
          -0.006497666705399752,
          -0.04580116271972656,
          0.00308631407096982,
          -0.006438873242586851,
          -0.015598769299685955,
          -0.07177678495645523,
          -0.0099874846637249,
          -0.01298731379210949,
          -0.009930080734193325,
          -0.05512004345655441,
          -0.012971949763596058,
          -0.01160613726824522,
          -0.0820346549153328,
          -0.019732585176825523,
          -0.02631162479519844,
          -0.022403737530112267,
          -0.011316214688122272,
          -0.014440587721765041,
          -0.04521365091204643,
          -0.019252214580774307,
          -0.023177342489361763,
          -0.040455032140016556,
          -0.018212158232927322,
          -0.06659945100545883
         ],
         "yaxis": "y4"
        },
        {
         "line": {
          "color": "grey",
          "dash": "dot"
         },
         "mode": "lines",
         "name": "Y=-X",
         "type": "scatter",
         "x": [
          -0.4,
          0.4
         ],
         "xaxis": "x4",
         "y": [
          0.4,
          -0.4
         ],
         "yaxis": "y4"
        }
       ],
       "layout": {
        "annotations": [
         {
          "font": {
           "size": 16
          },
          "showarrow": false,
          "text": "Checkpoint 256",
          "x": 0.10625,
          "xanchor": "center",
          "xref": "paper",
          "y": 1,
          "yanchor": "bottom",
          "yref": "paper"
         },
         {
          "font": {
           "size": 16
          },
          "showarrow": false,
          "text": "Checkpoint 512",
          "x": 0.36875,
          "xanchor": "center",
          "xref": "paper",
          "y": 1,
          "yanchor": "bottom",
          "yref": "paper"
         },
         {
          "font": {
           "size": 16
          },
          "showarrow": false,
          "text": "Checkpoint 1000",
          "x": 0.6312500000000001,
          "xanchor": "center",
          "xref": "paper",
          "y": 1,
          "yanchor": "bottom",
          "yref": "paper"
         },
         {
          "font": {
           "size": 16
          },
          "showarrow": false,
          "text": "Checkpoint 2000",
          "x": 0.89375,
          "xanchor": "center",
          "xref": "paper",
          "y": 1,
          "yanchor": "bottom",
          "yref": "paper"
         }
        ],
        "height": 500,
        "margin": {
         "t": 75
        },
        "showlegend": false,
        "template": {
         "data": {
          "bar": [
           {
            "error_x": {
             "color": "#2a3f5f"
            },
            "error_y": {
             "color": "#2a3f5f"
            },
            "marker": {
             "line": {
              "color": "#E5ECF6",
              "width": 0.5
             },
             "pattern": {
              "fillmode": "overlay",
              "size": 10,
              "solidity": 0.2
             }
            },
            "type": "bar"
           }
          ],
          "barpolar": [
           {
            "marker": {
             "line": {
              "color": "#E5ECF6",
              "width": 0.5
             },
             "pattern": {
              "fillmode": "overlay",
              "size": 10,
              "solidity": 0.2
             }
            },
            "type": "barpolar"
           }
          ],
          "carpet": [
           {
            "aaxis": {
             "endlinecolor": "#2a3f5f",
             "gridcolor": "white",
             "linecolor": "white",
             "minorgridcolor": "white",
             "startlinecolor": "#2a3f5f"
            },
            "baxis": {
             "endlinecolor": "#2a3f5f",
             "gridcolor": "white",
             "linecolor": "white",
             "minorgridcolor": "white",
             "startlinecolor": "#2a3f5f"
            },
            "type": "carpet"
           }
          ],
          "choropleth": [
           {
            "colorbar": {
             "outlinewidth": 0,
             "ticks": ""
            },
            "type": "choropleth"
           }
          ],
          "contour": [
           {
            "colorbar": {
             "outlinewidth": 0,
             "ticks": ""
            },
            "colorscale": [
             [
              0,
              "#0d0887"
             ],
             [
              0.1111111111111111,
              "#46039f"
             ],
             [
              0.2222222222222222,
              "#7201a8"
             ],
             [
              0.3333333333333333,
              "#9c179e"
             ],
             [
              0.4444444444444444,
              "#bd3786"
             ],
             [
              0.5555555555555556,
              "#d8576b"
             ],
             [
              0.6666666666666666,
              "#ed7953"
             ],
             [
              0.7777777777777778,
              "#fb9f3a"
             ],
             [
              0.8888888888888888,
              "#fdca26"
             ],
             [
              1,
              "#f0f921"
             ]
            ],
            "type": "contour"
           }
          ],
          "contourcarpet": [
           {
            "colorbar": {
             "outlinewidth": 0,
             "ticks": ""
            },
            "type": "contourcarpet"
           }
          ],
          "heatmap": [
           {
            "colorbar": {
             "outlinewidth": 0,
             "ticks": ""
            },
            "colorscale": [
             [
              0,
              "#0d0887"
             ],
             [
              0.1111111111111111,
              "#46039f"
             ],
             [
              0.2222222222222222,
              "#7201a8"
             ],
             [
              0.3333333333333333,
              "#9c179e"
             ],
             [
              0.4444444444444444,
              "#bd3786"
             ],
             [
              0.5555555555555556,
              "#d8576b"
             ],
             [
              0.6666666666666666,
              "#ed7953"
             ],
             [
              0.7777777777777778,
              "#fb9f3a"
             ],
             [
              0.8888888888888888,
              "#fdca26"
             ],
             [
              1,
              "#f0f921"
             ]
            ],
            "type": "heatmap"
           }
          ],
          "heatmapgl": [
           {
            "colorbar": {
             "outlinewidth": 0,
             "ticks": ""
            },
            "colorscale": [
             [
              0,
              "#0d0887"
             ],
             [
              0.1111111111111111,
              "#46039f"
             ],
             [
              0.2222222222222222,
              "#7201a8"
             ],
             [
              0.3333333333333333,
              "#9c179e"
             ],
             [
              0.4444444444444444,
              "#bd3786"
             ],
             [
              0.5555555555555556,
              "#d8576b"
             ],
             [
              0.6666666666666666,
              "#ed7953"
             ],
             [
              0.7777777777777778,
              "#fb9f3a"
             ],
             [
              0.8888888888888888,
              "#fdca26"
             ],
             [
              1,
              "#f0f921"
             ]
            ],
            "type": "heatmapgl"
           }
          ],
          "histogram": [
           {
            "marker": {
             "pattern": {
              "fillmode": "overlay",
              "size": 10,
              "solidity": 0.2
             }
            },
            "type": "histogram"
           }
          ],
          "histogram2d": [
           {
            "colorbar": {
             "outlinewidth": 0,
             "ticks": ""
            },
            "colorscale": [
             [
              0,
              "#0d0887"
             ],
             [
              0.1111111111111111,
              "#46039f"
             ],
             [
              0.2222222222222222,
              "#7201a8"
             ],
             [
              0.3333333333333333,
              "#9c179e"
             ],
             [
              0.4444444444444444,
              "#bd3786"
             ],
             [
              0.5555555555555556,
              "#d8576b"
             ],
             [
              0.6666666666666666,
              "#ed7953"
             ],
             [
              0.7777777777777778,
              "#fb9f3a"
             ],
             [
              0.8888888888888888,
              "#fdca26"
             ],
             [
              1,
              "#f0f921"
             ]
            ],
            "type": "histogram2d"
           }
          ],
          "histogram2dcontour": [
           {
            "colorbar": {
             "outlinewidth": 0,
             "ticks": ""
            },
            "colorscale": [
             [
              0,
              "#0d0887"
             ],
             [
              0.1111111111111111,
              "#46039f"
             ],
             [
              0.2222222222222222,
              "#7201a8"
             ],
             [
              0.3333333333333333,
              "#9c179e"
             ],
             [
              0.4444444444444444,
              "#bd3786"
             ],
             [
              0.5555555555555556,
              "#d8576b"
             ],
             [
              0.6666666666666666,
              "#ed7953"
             ],
             [
              0.7777777777777778,
              "#fb9f3a"
             ],
             [
              0.8888888888888888,
              "#fdca26"
             ],
             [
              1,
              "#f0f921"
             ]
            ],
            "type": "histogram2dcontour"
           }
          ],
          "mesh3d": [
           {
            "colorbar": {
             "outlinewidth": 0,
             "ticks": ""
            },
            "type": "mesh3d"
           }
          ],
          "parcoords": [
           {
            "line": {
             "colorbar": {
              "outlinewidth": 0,
              "ticks": ""
             }
            },
            "type": "parcoords"
           }
          ],
          "pie": [
           {
            "automargin": true,
            "type": "pie"
           }
          ],
          "scatter": [
           {
            "fillpattern": {
             "fillmode": "overlay",
             "size": 10,
             "solidity": 0.2
            },
            "type": "scatter"
           }
          ],
          "scatter3d": [
           {
            "line": {
             "colorbar": {
              "outlinewidth": 0,
              "ticks": ""
             }
            },
            "marker": {
             "colorbar": {
              "outlinewidth": 0,
              "ticks": ""
             }
            },
            "type": "scatter3d"
           }
          ],
          "scattercarpet": [
           {
            "marker": {
             "colorbar": {
              "outlinewidth": 0,
              "ticks": ""
             }
            },
            "type": "scattercarpet"
           }
          ],
          "scattergeo": [
           {
            "marker": {
             "colorbar": {
              "outlinewidth": 0,
              "ticks": ""
             }
            },
            "type": "scattergeo"
           }
          ],
          "scattergl": [
           {
            "marker": {
             "colorbar": {
              "outlinewidth": 0,
              "ticks": ""
             }
            },
            "type": "scattergl"
           }
          ],
          "scattermapbox": [
           {
            "marker": {
             "colorbar": {
              "outlinewidth": 0,
              "ticks": ""
             }
            },
            "type": "scattermapbox"
           }
          ],
          "scatterpolar": [
           {
            "marker": {
             "colorbar": {
              "outlinewidth": 0,
              "ticks": ""
             }
            },
            "type": "scatterpolar"
           }
          ],
          "scatterpolargl": [
           {
            "marker": {
             "colorbar": {
              "outlinewidth": 0,
              "ticks": ""
             }
            },
            "type": "scatterpolargl"
           }
          ],
          "scatterternary": [
           {
            "marker": {
             "colorbar": {
              "outlinewidth": 0,
              "ticks": ""
             }
            },
            "type": "scatterternary"
           }
          ],
          "surface": [
           {
            "colorbar": {
             "outlinewidth": 0,
             "ticks": ""
            },
            "colorscale": [
             [
              0,
              "#0d0887"
             ],
             [
              0.1111111111111111,
              "#46039f"
             ],
             [
              0.2222222222222222,
              "#7201a8"
             ],
             [
              0.3333333333333333,
              "#9c179e"
             ],
             [
              0.4444444444444444,
              "#bd3786"
             ],
             [
              0.5555555555555556,
              "#d8576b"
             ],
             [
              0.6666666666666666,
              "#ed7953"
             ],
             [
              0.7777777777777778,
              "#fb9f3a"
             ],
             [
              0.8888888888888888,
              "#fdca26"
             ],
             [
              1,
              "#f0f921"
             ]
            ],
            "type": "surface"
           }
          ],
          "table": [
           {
            "cells": {
             "fill": {
              "color": "#EBF0F8"
             },
             "line": {
              "color": "white"
             }
            },
            "header": {
             "fill": {
              "color": "#C8D4E3"
             },
             "line": {
              "color": "white"
             }
            },
            "type": "table"
           }
          ]
         },
         "layout": {
          "annotationdefaults": {
           "arrowcolor": "#2a3f5f",
           "arrowhead": 0,
           "arrowwidth": 1
          },
          "autotypenumbers": "strict",
          "coloraxis": {
           "colorbar": {
            "outlinewidth": 0,
            "ticks": ""
           }
          },
          "colorscale": {
           "diverging": [
            [
             0,
             "#8e0152"
            ],
            [
             0.1,
             "#c51b7d"
            ],
            [
             0.2,
             "#de77ae"
            ],
            [
             0.3,
             "#f1b6da"
            ],
            [
             0.4,
             "#fde0ef"
            ],
            [
             0.5,
             "#f7f7f7"
            ],
            [
             0.6,
             "#e6f5d0"
            ],
            [
             0.7,
             "#b8e186"
            ],
            [
             0.8,
             "#7fbc41"
            ],
            [
             0.9,
             "#4d9221"
            ],
            [
             1,
             "#276419"
            ]
           ],
           "sequential": [
            [
             0,
             "#0d0887"
            ],
            [
             0.1111111111111111,
             "#46039f"
            ],
            [
             0.2222222222222222,
             "#7201a8"
            ],
            [
             0.3333333333333333,
             "#9c179e"
            ],
            [
             0.4444444444444444,
             "#bd3786"
            ],
            [
             0.5555555555555556,
             "#d8576b"
            ],
            [
             0.6666666666666666,
             "#ed7953"
            ],
            [
             0.7777777777777778,
             "#fb9f3a"
            ],
            [
             0.8888888888888888,
             "#fdca26"
            ],
            [
             1,
             "#f0f921"
            ]
           ],
           "sequentialminus": [
            [
             0,
             "#0d0887"
            ],
            [
             0.1111111111111111,
             "#46039f"
            ],
            [
             0.2222222222222222,
             "#7201a8"
            ],
            [
             0.3333333333333333,
             "#9c179e"
            ],
            [
             0.4444444444444444,
             "#bd3786"
            ],
            [
             0.5555555555555556,
             "#d8576b"
            ],
            [
             0.6666666666666666,
             "#ed7953"
            ],
            [
             0.7777777777777778,
             "#fb9f3a"
            ],
            [
             0.8888888888888888,
             "#fdca26"
            ],
            [
             1,
             "#f0f921"
            ]
           ]
          },
          "colorway": [
           "#636efa",
           "#EF553B",
           "#00cc96",
           "#ab63fa",
           "#FFA15A",
           "#19d3f3",
           "#FF6692",
           "#B6E880",
           "#FF97FF",
           "#FECB52"
          ],
          "font": {
           "color": "#2a3f5f"
          },
          "geo": {
           "bgcolor": "white",
           "lakecolor": "white",
           "landcolor": "#E5ECF6",
           "showlakes": true,
           "showland": true,
           "subunitcolor": "white"
          },
          "hoverlabel": {
           "align": "left"
          },
          "hovermode": "closest",
          "mapbox": {
           "style": "light"
          },
          "paper_bgcolor": "white",
          "plot_bgcolor": "#E5ECF6",
          "polar": {
           "angularaxis": {
            "gridcolor": "white",
            "linecolor": "white",
            "ticks": ""
           },
           "bgcolor": "#E5ECF6",
           "radialaxis": {
            "gridcolor": "white",
            "linecolor": "white",
            "ticks": ""
           }
          },
          "scene": {
           "xaxis": {
            "backgroundcolor": "#E5ECF6",
            "gridcolor": "white",
            "gridwidth": 2,
            "linecolor": "white",
            "showbackground": true,
            "ticks": "",
            "zerolinecolor": "white"
           },
           "yaxis": {
            "backgroundcolor": "#E5ECF6",
            "gridcolor": "white",
            "gridwidth": 2,
            "linecolor": "white",
            "showbackground": true,
            "ticks": "",
            "zerolinecolor": "white"
           },
           "zaxis": {
            "backgroundcolor": "#E5ECF6",
            "gridcolor": "white",
            "gridwidth": 2,
            "linecolor": "white",
            "showbackground": true,
            "ticks": "",
            "zerolinecolor": "white"
           }
          },
          "shapedefaults": {
           "line": {
            "color": "#2a3f5f"
           }
          },
          "ternary": {
           "aaxis": {
            "gridcolor": "white",
            "linecolor": "white",
            "ticks": ""
           },
           "baxis": {
            "gridcolor": "white",
            "linecolor": "white",
            "ticks": ""
           },
           "bgcolor": "#E5ECF6",
           "caxis": {
            "gridcolor": "white",
            "linecolor": "white",
            "ticks": ""
           }
          },
          "title": {
           "x": 0.05
          },
          "xaxis": {
           "automargin": true,
           "gridcolor": "white",
           "linecolor": "white",
           "ticks": "",
           "title": {
            "standoff": 15
           },
           "zerolinecolor": "white",
           "zerolinewidth": 2
          },
          "yaxis": {
           "automargin": true,
           "gridcolor": "white",
           "linecolor": "white",
           "ticks": "",
           "title": {
            "standoff": 15
           },
           "zerolinecolor": "white",
           "zerolinewidth": 2
          }
         }
        },
        "title": {
         "text": "Self-Repair for pythia-160m"
        },
        "width": 1400,
        "xaxis": {
         "anchor": "y",
         "domain": [
          0,
          0.2125
         ],
         "range": [
          -0.1,
          0.4
         ],
         "title": {
          "font": {
           "size": 16
          },
          "text": "Original Direct Effect"
         }
        },
        "xaxis2": {
         "anchor": "y2",
         "domain": [
          0.2625,
          0.475
         ],
         "range": [
          -0.1,
          0.4
         ]
        },
        "xaxis3": {
         "anchor": "y3",
         "domain": [
          0.525,
          0.7375
         ],
         "range": [
          -0.1,
          0.4
         ]
        },
        "xaxis4": {
         "anchor": "y4",
         "domain": [
          0.7875,
          1
         ],
         "range": [
          -0.1,
          0.4
         ]
        },
        "yaxis": {
         "anchor": "x",
         "domain": [
          0,
          1
         ],
         "range": [
          -0.4,
          0.1
         ],
         "title": {
          "font": {
           "size": 16
          },
          "text": "Change in Logits"
         }
        },
        "yaxis2": {
         "anchor": "x2",
         "domain": [
          0,
          1
         ],
         "range": [
          -0.4,
          0.1
         ]
        },
        "yaxis3": {
         "anchor": "x3",
         "domain": [
          0,
          1
         ],
         "range": [
          -0.4,
          0.1
         ]
        },
        "yaxis4": {
         "anchor": "x4",
         "domain": [
          0,
          1
         ],
         "range": [
          -0.4,
          0.1
         ]
        }
       }
      },
      "text/html": [
       "<div>                            <div id=\"d4d3533b-b309-44fd-a03a-571a167f8137\" class=\"plotly-graph-div\" style=\"height:500px; width:1400px;\"></div>            <script type=\"text/javascript\">                require([\"plotly\"], function(Plotly) {                    window.PLOTLYENV=window.PLOTLYENV || {};                                    if (document.getElementById(\"d4d3533b-b309-44fd-a03a-571a167f8137\")) {                    Plotly.newPlot(                        \"d4d3533b-b309-44fd-a03a-571a167f8137\",                        [{\"marker\":{\"color\":[0.0,0.0,0.0,0.0,0.0,0.0,0.0,0.0,0.0,0.0,0.0,0.0,1.0,1.0,1.0,1.0,1.0,1.0,1.0,1.0,1.0,1.0,1.0,1.0,2.0,2.0,2.0,2.0,2.0,2.0,2.0,2.0,2.0,2.0,2.0,2.0,3.0,3.0,3.0,3.0,3.0,3.0,3.0,3.0,3.0,3.0,3.0,3.0,4.0,4.0,4.0,4.0,4.0,4.0,4.0,4.0,4.0,4.0,4.0,4.0,5.0,5.0,5.0,5.0,5.0,5.0,5.0,5.0,5.0,5.0,5.0,5.0,6.0,6.0,6.0,6.0,6.0,6.0,6.0,6.0,6.0,6.0,6.0,6.0,7.0,7.0,7.0,7.0,7.0,7.0,7.0,7.0,7.0,7.0,7.0,7.0,8.0,8.0,8.0,8.0,8.0,8.0,8.0,8.0,8.0,8.0,8.0,8.0,9.0,9.0,9.0,9.0,9.0,9.0,9.0,9.0,9.0,9.0,9.0,9.0,10.0,10.0,10.0,10.0,10.0,10.0,10.0,10.0,10.0,10.0,10.0,10.0,11.0,11.0,11.0,11.0,11.0,11.0,11.0,11.0,11.0,11.0,11.0,11.0],\"colorbar\":{\"orientation\":\"h\",\"title\":{\"text\":\"Layer\"}},\"colorscale\":[[0.0,\"#440154\"],[0.1111111111111111,\"#482878\"],[0.2222222222222222,\"#3e4989\"],[0.3333333333333333,\"#31688e\"],[0.4444444444444444,\"#26828e\"],[0.5555555555555556,\"#1f9e89\"],[0.6666666666666666,\"#35b779\"],[0.7777777777777778,\"#6ece58\"],[0.8888888888888888,\"#b5de2b\"],[1.0,\"#fde725\"]],\"line\":{\"color\":\"DarkSlateGrey\",\"width\":0.5},\"opacity\":0.8,\"size\":8},\"mode\":\"markers\",\"name\":\"Attention Heads\",\"text\":[\"Layer 0, Head 0\",\"Layer 0, Head 1\",\"Layer 0, Head 2\",\"Layer 0, Head 3\",\"Layer 0, Head 4\",\"Layer 0, Head 5\",\"Layer 0, Head 6\",\"Layer 0, Head 7\",\"Layer 0, Head 8\",\"Layer 0, Head 9\",\"Layer 0, Head 10\",\"Layer 0, Head 11\",\"Layer 1, Head 0\",\"Layer 1, Head 1\",\"Layer 1, Head 2\",\"Layer 1, Head 3\",\"Layer 1, Head 4\",\"Layer 1, Head 5\",\"Layer 1, Head 6\",\"Layer 1, Head 7\",\"Layer 1, Head 8\",\"Layer 1, Head 9\",\"Layer 1, Head 10\",\"Layer 1, Head 11\",\"Layer 2, Head 0\",\"Layer 2, Head 1\",\"Layer 2, Head 2\",\"Layer 2, Head 3\",\"Layer 2, Head 4\",\"Layer 2, Head 5\",\"Layer 2, Head 6\",\"Layer 2, Head 7\",\"Layer 2, Head 8\",\"Layer 2, Head 9\",\"Layer 2, Head 10\",\"Layer 2, Head 11\",\"Layer 3, Head 0\",\"Layer 3, Head 1\",\"Layer 3, Head 2\",\"Layer 3, Head 3\",\"Layer 3, Head 4\",\"Layer 3, Head 5\",\"Layer 3, Head 6\",\"Layer 3, Head 7\",\"Layer 3, Head 8\",\"Layer 3, Head 9\",\"Layer 3, Head 10\",\"Layer 3, Head 11\",\"Layer 4, Head 0\",\"Layer 4, Head 1\",\"Layer 4, Head 2\",\"Layer 4, Head 3\",\"Layer 4, Head 4\",\"Layer 4, Head 5\",\"Layer 4, Head 6\",\"Layer 4, Head 7\",\"Layer 4, Head 8\",\"Layer 4, Head 9\",\"Layer 4, Head 10\",\"Layer 4, Head 11\",\"Layer 5, Head 0\",\"Layer 5, Head 1\",\"Layer 5, Head 2\",\"Layer 5, Head 3\",\"Layer 5, Head 4\",\"Layer 5, Head 5\",\"Layer 5, Head 6\",\"Layer 5, Head 7\",\"Layer 5, Head 8\",\"Layer 5, Head 9\",\"Layer 5, Head 10\",\"Layer 5, Head 11\",\"Layer 6, Head 0\",\"Layer 6, Head 1\",\"Layer 6, Head 2\",\"Layer 6, Head 3\",\"Layer 6, Head 4\",\"Layer 6, Head 5\",\"Layer 6, Head 6\",\"Layer 6, Head 7\",\"Layer 6, Head 8\",\"Layer 6, Head 9\",\"Layer 6, Head 10\",\"Layer 6, Head 11\",\"Layer 7, Head 0\",\"Layer 7, Head 1\",\"Layer 7, Head 2\",\"Layer 7, Head 3\",\"Layer 7, Head 4\",\"Layer 7, Head 5\",\"Layer 7, Head 6\",\"Layer 7, Head 7\",\"Layer 7, Head 8\",\"Layer 7, Head 9\",\"Layer 7, Head 10\",\"Layer 7, Head 11\",\"Layer 8, Head 0\",\"Layer 8, Head 1\",\"Layer 8, Head 2\",\"Layer 8, Head 3\",\"Layer 8, Head 4\",\"Layer 8, Head 5\",\"Layer 8, Head 6\",\"Layer 8, Head 7\",\"Layer 8, Head 8\",\"Layer 8, Head 9\",\"Layer 8, Head 10\",\"Layer 8, Head 11\",\"Layer 9, Head 0\",\"Layer 9, Head 1\",\"Layer 9, Head 2\",\"Layer 9, Head 3\",\"Layer 9, Head 4\",\"Layer 9, Head 5\",\"Layer 9, Head 6\",\"Layer 9, Head 7\",\"Layer 9, Head 8\",\"Layer 9, Head 9\",\"Layer 9, Head 10\",\"Layer 9, Head 11\",\"Layer 10, Head 0\",\"Layer 10, Head 1\",\"Layer 10, Head 2\",\"Layer 10, Head 3\",\"Layer 10, Head 4\",\"Layer 10, Head 5\",\"Layer 10, Head 6\",\"Layer 10, Head 7\",\"Layer 10, Head 8\",\"Layer 10, Head 9\",\"Layer 10, Head 10\",\"Layer 10, Head 11\",\"Layer 11, Head 0\",\"Layer 11, Head 1\",\"Layer 11, Head 2\",\"Layer 11, Head 3\",\"Layer 11, Head 4\",\"Layer 11, Head 5\",\"Layer 11, Head 6\",\"Layer 11, Head 7\",\"Layer 11, Head 8\",\"Layer 11, Head 9\",\"Layer 11, Head 10\",\"Layer 11, Head 11\"],\"x\":[0.0021363599225878716,0.0019054827280342579,0.004661465063691139,0.002064450876787305,0.0021133229602128267,0.0019249536562711,0.0004131165624130517,0.00048381605301983654,0.001963858725503087,0.002200261689722538,0.00247517554089427,0.0010472849244251847,0.0028893891721963882,0.003481414867565036,0.003775189397856593,0.0033714754972606897,0.011631949804723263,0.011263365857303143,0.00265963701531291,0.005144200753420591,0.017107822000980377,0.005806812550872564,0.004976120311766863,0.0012897975975647569,0.002549648517742753,0.007679677568376064,0.007942146621644497,0.011759910732507706,0.008105033077299595,0.0022980256471782923,0.015572146512567997,0.0079432288184762,0.010036628693342209,0.01362208928912878,0.010830499231815338,0.007659449707716703,0.022852208465337753,0.017337560653686523,0.03047086112201214,-0.0027324033435434103,0.024090703576803207,0.0038240933790802956,0.012516411021351814,0.0051620639860630035,-0.00016975868493318558,0.01931585557758808,0.013999901711940765,0.004422993399202824,-0.0038593709468841553,0.0008367999689653516,0.004020598251372576,-0.001993762329220772,0.024716289713978767,0.007370376028120518,0.00940793752670288,0.0200462955981493,0.003445307957008481,0.006345123052597046,0.005351772997528315,0.009517629630863667,0.00036440204712562263,-0.006591813638806343,-0.0008528719772584736,-0.003672406543046236,0.00800143089145422,0.00319939898326993,0.0038005842361599207,0.0030175759457051754,0.006529694888740778,0.006263341289013624,0.00013191507605370134,0.001064361771568656,0.009225478395819664,-0.0006646703113801777,0.004871582146733999,-0.005660263355821371,0.001703354879282415,-0.004207313060760498,0.007463598158210516,-0.006139175035059452,-0.005870315246284008,-0.008136886171996593,-0.00902262981981039,0.011251712217926979,-0.001083611510694027,-0.00517154298722744,0.007817983627319336,0.001958598382771015,-0.0037725213915109634,0.004101498518139124,-0.00836989562958479,-0.0026379257906228304,0.003202354535460472,0.004094605799764395,-0.005429933313280344,6.459177529904991e-05,-0.004434111062437296,0.0009324510465376079,0.002318758051842451,0.004128711298108101,-0.0005288701504468918,-0.0026131824124604464,0.00031066537485457957,0.003923547919839621,0.0018491314258426428,-0.00045095739187672734,-0.005121266003698111,-0.005137365311384201,-0.005462672095745802,-0.0021822648122906685,0.004066625144332647,-0.0006815853412263095,0.008423379622399807,0.002594572026282549,0.005420607049018145,0.012667541392147541,0.012316218577325344,-0.0027207175735384226,0.014544031582772732,-0.001725551439449191,0.0009057952556759119,0.02590111456811428,-0.012433630414307117,-0.002634290838614106,0.009416514076292515,-0.01584085449576378,-0.013728211633861065,0.004541093483567238,-0.008002153597772121,-0.003767486196011305,-0.0032374125439673662,0.009723516181111336,0.002114285947754979,-0.021141234785318375,0.012767423875629902,0.05718832090497017,-0.003550666617229581,-0.0012193704023957253,-0.0227863397449255,0.02717292495071888,0.0023563599679619074,0.04476526007056236,-0.01228887028992176,0.07399982213973999],\"y\":[-0.007463869173079729,-0.010611106641590595,-0.005051266867667437,-0.006161642260849476,-0.00885281153023243,-0.004028603434562683,-0.008835145272314548,-0.006939914543181658,-0.004096013493835926,-0.007610756438225508,-0.005569458473473787,-0.006723650265485048,-0.0029929534066468477,-0.012925409711897373,-0.001955913146957755,-0.005311251617968082,-0.0007888022810220718,-0.002099693054333329,-0.0026132750790566206,-0.00513808149844408,-0.00376079767011106,-0.007772938348352909,-0.0014924346469342709,-0.003229770576581359,-0.002355605596676469,-0.012405263260006905,-0.004682484548538923,-0.010351900942623615,-0.00639726035296917,-0.01406694296747446,-0.038122549653053284,-0.007410714402794838,-0.04671243205666542,-0.006338310427963734,-0.012223443947732449,-0.02850911393761635,-0.06357058882713318,-0.08589006215333939,-0.15755745768547058,-0.00014845971600152552,-0.06195581331849098,-0.005450310651212931,-0.005047575570642948,-0.03194105997681618,-0.0041999826207757,-0.06438284367322922,-0.010275019332766533,-0.00905699748545885,-0.010409507900476456,-0.005571471992880106,-0.012039558961987495,-0.014236434362828732,-0.03072059527039528,-0.07419607043266296,-0.0143270930275321,-0.030675582587718964,-0.006219443399459124,-0.006128924898803234,-0.03750535473227501,-0.021012332290410995,-0.0013202959671616554,-0.002879336941987276,-0.006419507786631584,0.0001352953986497596,-0.003403027541935444,-0.0017604143358767033,-0.01035690400749445,-0.0017874784534797072,-0.005926100537180901,-0.00638611102476716,-0.007945539429783821,-0.0007460134802386165,-0.010176236741244793,-0.0008652114192955196,-0.00034822424640879035,-0.0007252923096530139,-0.005617535673081875,0.0005635719280689955,-0.019764425233006477,0.005977300461381674,-0.0011921442346647382,0.0008252396364696324,-0.002014921512454748,-0.004090989474207163,0.00125399068929255,-9.951720130629838e-05,0.00047719155554659665,-0.006749753374606371,0.0027095586992800236,0.000721960561349988,0.0004784658958669752,0.0006799190887250006,-0.002379579236730933,-0.0011421282542869449,-0.00090149010065943,-0.0011888325680047274,-0.0015645140083506703,-0.001780971302650869,-0.0026394659653306007,-0.002649033209308982,-0.0015249809948727489,0.0004977249191142619,-0.0012343780836090446,-0.0013468381948769093,-0.001321518560871482,0.001465003122575581,-0.0022729875054210424,0.0009803281864151359,0.0017660320736467838,0.000691101246047765,-0.0012680465588346124,9.183419751934707e-05,0.0020367156248539686,0.0017234183615073562,0.0016247351886704564,-0.0012000356800854206,-0.0010087735718116164,0.0020645821932703257,-0.0013060478959232569,-0.0005002798861823976,0.0004201505798846483,-0.0019638845697045326,0.00118842045776546,-0.00042531522922217846,-0.001893037697300315,0.002579455031082034,0.0008329325937665999,0.0005656516295857728,-0.0017441964009776711,0.000248835509410128,0.00015011572395451367,0.0003310380852781236,-0.008620956912636757,0.0022731407079845667,0.0016963825328275561,-0.01168887224048376,0.002830302342772484,0.0014269694220274687,-0.011420234106481075,-0.008807020261883736,0.006154652219265699,-0.03142416849732399,0.003273464972153306,-0.03596443682909012],\"type\":\"scatter\",\"xaxis\":\"x\",\"yaxis\":\"y\"},{\"line\":{\"color\":\"grey\",\"dash\":\"dot\"},\"mode\":\"lines\",\"name\":\"Y=-X\",\"x\":[-0.4,0.4],\"y\":[0.4,-0.4],\"type\":\"scatter\",\"xaxis\":\"x\",\"yaxis\":\"y\"},{\"marker\":{\"color\":[0.0,0.0,0.0,0.0,0.0,0.0,0.0,0.0,0.0,0.0,0.0,0.0,1.0,1.0,1.0,1.0,1.0,1.0,1.0,1.0,1.0,1.0,1.0,1.0,2.0,2.0,2.0,2.0,2.0,2.0,2.0,2.0,2.0,2.0,2.0,2.0,3.0,3.0,3.0,3.0,3.0,3.0,3.0,3.0,3.0,3.0,3.0,3.0,4.0,4.0,4.0,4.0,4.0,4.0,4.0,4.0,4.0,4.0,4.0,4.0,5.0,5.0,5.0,5.0,5.0,5.0,5.0,5.0,5.0,5.0,5.0,5.0,6.0,6.0,6.0,6.0,6.0,6.0,6.0,6.0,6.0,6.0,6.0,6.0,7.0,7.0,7.0,7.0,7.0,7.0,7.0,7.0,7.0,7.0,7.0,7.0,8.0,8.0,8.0,8.0,8.0,8.0,8.0,8.0,8.0,8.0,8.0,8.0,9.0,9.0,9.0,9.0,9.0,9.0,9.0,9.0,9.0,9.0,9.0,9.0,10.0,10.0,10.0,10.0,10.0,10.0,10.0,10.0,10.0,10.0,10.0,10.0,11.0,11.0,11.0,11.0,11.0,11.0,11.0,11.0,11.0,11.0,11.0,11.0],\"colorbar\":{\"orientation\":\"h\",\"title\":{\"text\":\"Layer\"}},\"colorscale\":[[0.0,\"#440154\"],[0.1111111111111111,\"#482878\"],[0.2222222222222222,\"#3e4989\"],[0.3333333333333333,\"#31688e\"],[0.4444444444444444,\"#26828e\"],[0.5555555555555556,\"#1f9e89\"],[0.6666666666666666,\"#35b779\"],[0.7777777777777778,\"#6ece58\"],[0.8888888888888888,\"#b5de2b\"],[1.0,\"#fde725\"]],\"line\":{\"color\":\"DarkSlateGrey\",\"width\":0.5},\"opacity\":0.8,\"size\":8},\"mode\":\"markers\",\"name\":\"Attention Heads\",\"text\":[\"Layer 0, Head 0\",\"Layer 0, Head 1\",\"Layer 0, Head 2\",\"Layer 0, Head 3\",\"Layer 0, Head 4\",\"Layer 0, Head 5\",\"Layer 0, Head 6\",\"Layer 0, Head 7\",\"Layer 0, Head 8\",\"Layer 0, Head 9\",\"Layer 0, Head 10\",\"Layer 0, Head 11\",\"Layer 1, Head 0\",\"Layer 1, Head 1\",\"Layer 1, Head 2\",\"Layer 1, Head 3\",\"Layer 1, Head 4\",\"Layer 1, Head 5\",\"Layer 1, Head 6\",\"Layer 1, Head 7\",\"Layer 1, Head 8\",\"Layer 1, Head 9\",\"Layer 1, Head 10\",\"Layer 1, Head 11\",\"Layer 2, Head 0\",\"Layer 2, Head 1\",\"Layer 2, Head 2\",\"Layer 2, Head 3\",\"Layer 2, Head 4\",\"Layer 2, Head 5\",\"Layer 2, Head 6\",\"Layer 2, Head 7\",\"Layer 2, Head 8\",\"Layer 2, Head 9\",\"Layer 2, Head 10\",\"Layer 2, Head 11\",\"Layer 3, Head 0\",\"Layer 3, Head 1\",\"Layer 3, Head 2\",\"Layer 3, Head 3\",\"Layer 3, Head 4\",\"Layer 3, Head 5\",\"Layer 3, Head 6\",\"Layer 3, Head 7\",\"Layer 3, Head 8\",\"Layer 3, Head 9\",\"Layer 3, Head 10\",\"Layer 3, Head 11\",\"Layer 4, Head 0\",\"Layer 4, Head 1\",\"Layer 4, Head 2\",\"Layer 4, Head 3\",\"Layer 4, Head 4\",\"Layer 4, Head 5\",\"Layer 4, Head 6\",\"Layer 4, Head 7\",\"Layer 4, Head 8\",\"Layer 4, Head 9\",\"Layer 4, Head 10\",\"Layer 4, Head 11\",\"Layer 5, Head 0\",\"Layer 5, Head 1\",\"Layer 5, Head 2\",\"Layer 5, Head 3\",\"Layer 5, Head 4\",\"Layer 5, Head 5\",\"Layer 5, Head 6\",\"Layer 5, Head 7\",\"Layer 5, Head 8\",\"Layer 5, Head 9\",\"Layer 5, Head 10\",\"Layer 5, Head 11\",\"Layer 6, Head 0\",\"Layer 6, Head 1\",\"Layer 6, Head 2\",\"Layer 6, Head 3\",\"Layer 6, Head 4\",\"Layer 6, Head 5\",\"Layer 6, Head 6\",\"Layer 6, Head 7\",\"Layer 6, Head 8\",\"Layer 6, Head 9\",\"Layer 6, Head 10\",\"Layer 6, Head 11\",\"Layer 7, Head 0\",\"Layer 7, Head 1\",\"Layer 7, Head 2\",\"Layer 7, Head 3\",\"Layer 7, Head 4\",\"Layer 7, Head 5\",\"Layer 7, Head 6\",\"Layer 7, Head 7\",\"Layer 7, Head 8\",\"Layer 7, Head 9\",\"Layer 7, Head 10\",\"Layer 7, Head 11\",\"Layer 8, Head 0\",\"Layer 8, Head 1\",\"Layer 8, Head 2\",\"Layer 8, Head 3\",\"Layer 8, Head 4\",\"Layer 8, Head 5\",\"Layer 8, Head 6\",\"Layer 8, Head 7\",\"Layer 8, Head 8\",\"Layer 8, Head 9\",\"Layer 8, Head 10\",\"Layer 8, Head 11\",\"Layer 9, Head 0\",\"Layer 9, Head 1\",\"Layer 9, Head 2\",\"Layer 9, Head 3\",\"Layer 9, Head 4\",\"Layer 9, Head 5\",\"Layer 9, Head 6\",\"Layer 9, Head 7\",\"Layer 9, Head 8\",\"Layer 9, Head 9\",\"Layer 9, Head 10\",\"Layer 9, Head 11\",\"Layer 10, Head 0\",\"Layer 10, Head 1\",\"Layer 10, Head 2\",\"Layer 10, Head 3\",\"Layer 10, Head 4\",\"Layer 10, Head 5\",\"Layer 10, Head 6\",\"Layer 10, Head 7\",\"Layer 10, Head 8\",\"Layer 10, Head 9\",\"Layer 10, Head 10\",\"Layer 10, Head 11\",\"Layer 11, Head 0\",\"Layer 11, Head 1\",\"Layer 11, Head 2\",\"Layer 11, Head 3\",\"Layer 11, Head 4\",\"Layer 11, Head 5\",\"Layer 11, Head 6\",\"Layer 11, Head 7\",\"Layer 11, Head 8\",\"Layer 11, Head 9\",\"Layer 11, Head 10\",\"Layer 11, Head 11\"],\"x\":[0.011356278322637081,0.01782544143497944,0.012991863302886486,0.02334252931177616,0.027056803926825523,0.0016891667619347572,0.014489591121673584,0.01151395495980978,0.019825220108032227,0.023776745423674583,0.005200548097491264,0.015593202784657478,-0.004258502274751663,0.022721929475665092,0.005010835360735655,0.002251398516818881,0.01035604253411293,0.06507600098848343,0.041420552879571915,0.01914154551923275,0.0009618238545954227,0.00500844931229949,0.002629275433719158,0.011706588789820671,0.10518870502710342,0.012294416315853596,0.013367499224841595,0.07289659231901169,0.014047295786440372,0.043620701879262924,0.04932384565472603,0.0721963569521904,0.04528128355741501,0.04123988747596741,0.05404311791062355,0.035369668155908585,0.06011124327778816,0.04911329224705696,0.10866271704435349,-0.047403495758771896,0.028995683416724205,0.015718039125204086,0.052580323070287704,0.0344100259244442,0.01837705820798874,0.04321881756186485,0.05311679095029831,0.014975995756685734,0.02345813810825348,0.04694316163659096,0.03005039319396019,0.061776842921972275,0.03602354973554611,0.06850681453943253,0.03605935350060463,0.05853457748889923,0.04090931639075279,0.0829407274723053,0.07049437612295151,0.07154761254787445,0.06282752752304077,0.05155988037586212,0.05955322086811066,0.016041846945881844,0.052541300654411316,0.052032794803380966,0.04783680662512779,0.010706205852329731,0.054805852472782135,0.08621396124362946,0.08344448357820511,0.012004955671727657,0.09260500967502594,0.044041987508535385,0.04117608815431595,0.013500993140041828,0.07889313250780106,0.001108925323933363,0.11589642614126205,0.06737624108791351,-0.005297989118844271,-0.003699987893924117,-0.00369661464355886,0.033405859023332596,0.0003062601899728179,0.008760271593928337,-0.014281081035733223,0.002057132078334689,0.004530097357928753,-0.017300650477409363,-0.011241027154028416,0.0961519181728363,0.04932573065161705,0.033965110778808594,-0.06443005800247192,0.010515747591853142,0.0034233834594488144,0.0792941078543663,0.029356392100453377,0.018002109602093697,0.006886069197207689,0.025793878361582756,-0.020451609045267105,-0.023629436269402504,0.009657316841185093,-0.06657025218009949,0.06150103360414505,-0.0005973874358460307,0.06740455329418182,-0.0201154425740242,0.025384481996297836,0.16275633871555328,0.011859348975121975,0.14560626447200775,0.0033700934145599604,0.09368599951267242,0.10436272621154785,-0.009832075797021389,-0.0016887140227481723,0.07591680437326431,0.021248146891593933,0.043745994567871094,0.007992495782673359,0.0076510231010615826,0.03628890961408615,-0.026575446128845215,0.010243493132293224,0.023205013945698738,0.007584958337247372,0.026461461558938026,0.0028865141794085503,0.026858652010560036,0.2820221185684204,0.007101401686668396,0.13674965500831604,0.22183606028556824,0.011151205748319626,0.0029412205331027508,-0.012475795112550259,0.1496453583240509,0.03186855465173721,0.07861942797899246,0.01597260683774948,0.17122936248779297],\"y\":[-0.02858000248670578,-0.013095267117023468,-0.0587979219853878,-0.05477527156472206,-0.012026541866362095,-0.007552745286375284,-0.01493089273571968,-0.020710399374365807,-0.024922870099544525,-0.01204964891076088,0.00475235003978014,-0.006155603099614382,-0.0446469709277153,-0.14891542494297028,-0.0890534296631813,-0.011740269139409065,-0.003435468301177025,-0.07551295310258865,-0.01457133237272501,-0.17303912341594696,-0.00017311445844825357,-0.09656935930252075,-0.033056292682886124,-0.029868220910429955,-0.02088862657546997,-0.06620617210865021,-0.051168423146009445,-0.05950596556067467,-0.012746574357151985,-0.06299423426389694,-0.20491907000541687,-0.13341398537158966,-0.1096545159816742,-0.11101455986499786,-0.16388939321041107,-0.17698977887630463,-0.36642032861709595,-0.18514230847358704,-0.6740626096725464,-0.006691477727144957,-0.1232902929186821,-0.016002003103494644,-0.023841718211770058,-0.001307687838561833,-0.044490739703178406,-0.12893201410770416,-0.05255565419793129,-0.03670483082532883,-0.06070215627551079,-0.00014045847638044506,-0.03590703755617142,-0.09936036914587021,-0.09158448874950409,-0.2935613691806793,-0.09543062001466751,-0.07267413288354874,-0.04620874300599098,-0.09601885080337524,-0.08476509898900986,-0.06507772207260132,-0.042155828326940536,-0.0751325786113739,-0.029465630650520325,-0.015831785276532173,-0.04256433993577957,-0.04333403334021568,-0.04837797209620476,-0.011682442389428616,-0.19350090622901917,-0.04450620710849762,-0.06451506167650223,-0.009612363763153553,-0.08151087164878845,-0.014601723290979862,-0.04192100465297699,-0.005975442938506603,-0.04688875004649162,0.009790224954485893,-0.10550130158662796,0.011308603920042515,-0.0024302194360643625,-0.016466226428747177,-0.00803520530462265,-0.027345813810825348,-0.006454912479966879,-0.008416279219090939,0.0025671094190329313,-0.00388402515091002,0.0008375854231417179,0.0020617088302969933,-0.0032867821864783764,-0.10667447745800018,-0.037638112902641296,-0.00879084225744009,0.02884957753121853,-0.007657899986952543,-0.004242707043886185,-0.07035933434963226,-0.031176302582025528,-0.0028256881050765514,-0.008393590338528156,-0.015908680856227875,0.005301492288708687,0.007943348027765751,-0.013279003091156483,0.043040912598371506,-0.05802743881940842,-0.011092538945376873,0.008186526596546173,0.006239544600248337,-0.016044553369283676,-0.14035969972610474,-0.006624952424317598,0.002247616183012724,-0.0060497126542031765,-0.09167309105396271,-0.09680873155593872,-0.004458391573280096,-0.008627480827271938,-2.356094410060905e-05,-0.005773134995251894,-0.03107321634888649,-0.005684443283826113,-0.001835449947975576,-0.019290365278720856,-0.011232727207243443,-0.003351701656356454,-0.021434247493743896,-0.006994522642344236,-0.01075161062180996,-0.005166264716535807,-0.018663255497813225,-0.13628274202346802,-1.9680674085975625e-05,-0.022503580898046494,-0.08788637071847916,0.004365452099591494,0.007694247644394636,-0.003951288294047117,-0.06376644968986511,0.007813060656189919,-0.03394605219364166,-0.005899920593947172,-0.11395912617444992],\"type\":\"scatter\",\"xaxis\":\"x2\",\"yaxis\":\"y2\"},{\"line\":{\"color\":\"grey\",\"dash\":\"dot\"},\"mode\":\"lines\",\"name\":\"Y=-X\",\"x\":[-0.4,0.4],\"y\":[0.4,-0.4],\"type\":\"scatter\",\"xaxis\":\"x2\",\"yaxis\":\"y2\"},{\"marker\":{\"color\":[0.0,0.0,0.0,0.0,0.0,0.0,0.0,0.0,0.0,0.0,0.0,0.0,1.0,1.0,1.0,1.0,1.0,1.0,1.0,1.0,1.0,1.0,1.0,1.0,2.0,2.0,2.0,2.0,2.0,2.0,2.0,2.0,2.0,2.0,2.0,2.0,3.0,3.0,3.0,3.0,3.0,3.0,3.0,3.0,3.0,3.0,3.0,3.0,4.0,4.0,4.0,4.0,4.0,4.0,4.0,4.0,4.0,4.0,4.0,4.0,5.0,5.0,5.0,5.0,5.0,5.0,5.0,5.0,5.0,5.0,5.0,5.0,6.0,6.0,6.0,6.0,6.0,6.0,6.0,6.0,6.0,6.0,6.0,6.0,7.0,7.0,7.0,7.0,7.0,7.0,7.0,7.0,7.0,7.0,7.0,7.0,8.0,8.0,8.0,8.0,8.0,8.0,8.0,8.0,8.0,8.0,8.0,8.0,9.0,9.0,9.0,9.0,9.0,9.0,9.0,9.0,9.0,9.0,9.0,9.0,10.0,10.0,10.0,10.0,10.0,10.0,10.0,10.0,10.0,10.0,10.0,10.0,11.0,11.0,11.0,11.0,11.0,11.0,11.0,11.0,11.0,11.0,11.0,11.0],\"colorbar\":{\"orientation\":\"h\",\"title\":{\"text\":\"Layer\"}},\"colorscale\":[[0.0,\"#440154\"],[0.1111111111111111,\"#482878\"],[0.2222222222222222,\"#3e4989\"],[0.3333333333333333,\"#31688e\"],[0.4444444444444444,\"#26828e\"],[0.5555555555555556,\"#1f9e89\"],[0.6666666666666666,\"#35b779\"],[0.7777777777777778,\"#6ece58\"],[0.8888888888888888,\"#b5de2b\"],[1.0,\"#fde725\"]],\"line\":{\"color\":\"DarkSlateGrey\",\"width\":0.5},\"opacity\":0.8,\"size\":8},\"mode\":\"markers\",\"name\":\"Attention Heads\",\"text\":[\"Layer 0, Head 0\",\"Layer 0, Head 1\",\"Layer 0, Head 2\",\"Layer 0, Head 3\",\"Layer 0, Head 4\",\"Layer 0, Head 5\",\"Layer 0, Head 6\",\"Layer 0, Head 7\",\"Layer 0, Head 8\",\"Layer 0, Head 9\",\"Layer 0, Head 10\",\"Layer 0, Head 11\",\"Layer 1, Head 0\",\"Layer 1, Head 1\",\"Layer 1, Head 2\",\"Layer 1, Head 3\",\"Layer 1, Head 4\",\"Layer 1, Head 5\",\"Layer 1, Head 6\",\"Layer 1, Head 7\",\"Layer 1, Head 8\",\"Layer 1, Head 9\",\"Layer 1, Head 10\",\"Layer 1, Head 11\",\"Layer 2, Head 0\",\"Layer 2, Head 1\",\"Layer 2, Head 2\",\"Layer 2, Head 3\",\"Layer 2, Head 4\",\"Layer 2, Head 5\",\"Layer 2, Head 6\",\"Layer 2, Head 7\",\"Layer 2, Head 8\",\"Layer 2, Head 9\",\"Layer 2, Head 10\",\"Layer 2, Head 11\",\"Layer 3, Head 0\",\"Layer 3, Head 1\",\"Layer 3, Head 2\",\"Layer 3, Head 3\",\"Layer 3, Head 4\",\"Layer 3, Head 5\",\"Layer 3, Head 6\",\"Layer 3, Head 7\",\"Layer 3, Head 8\",\"Layer 3, Head 9\",\"Layer 3, Head 10\",\"Layer 3, Head 11\",\"Layer 4, Head 0\",\"Layer 4, Head 1\",\"Layer 4, Head 2\",\"Layer 4, Head 3\",\"Layer 4, Head 4\",\"Layer 4, Head 5\",\"Layer 4, Head 6\",\"Layer 4, Head 7\",\"Layer 4, Head 8\",\"Layer 4, Head 9\",\"Layer 4, Head 10\",\"Layer 4, Head 11\",\"Layer 5, Head 0\",\"Layer 5, Head 1\",\"Layer 5, Head 2\",\"Layer 5, Head 3\",\"Layer 5, Head 4\",\"Layer 5, Head 5\",\"Layer 5, Head 6\",\"Layer 5, Head 7\",\"Layer 5, Head 8\",\"Layer 5, Head 9\",\"Layer 5, Head 10\",\"Layer 5, Head 11\",\"Layer 6, Head 0\",\"Layer 6, Head 1\",\"Layer 6, Head 2\",\"Layer 6, Head 3\",\"Layer 6, Head 4\",\"Layer 6, Head 5\",\"Layer 6, Head 6\",\"Layer 6, Head 7\",\"Layer 6, Head 8\",\"Layer 6, Head 9\",\"Layer 6, Head 10\",\"Layer 6, Head 11\",\"Layer 7, Head 0\",\"Layer 7, Head 1\",\"Layer 7, Head 2\",\"Layer 7, Head 3\",\"Layer 7, Head 4\",\"Layer 7, Head 5\",\"Layer 7, Head 6\",\"Layer 7, Head 7\",\"Layer 7, Head 8\",\"Layer 7, Head 9\",\"Layer 7, Head 10\",\"Layer 7, Head 11\",\"Layer 8, Head 0\",\"Layer 8, Head 1\",\"Layer 8, Head 2\",\"Layer 8, Head 3\",\"Layer 8, Head 4\",\"Layer 8, Head 5\",\"Layer 8, Head 6\",\"Layer 8, Head 7\",\"Layer 8, Head 8\",\"Layer 8, Head 9\",\"Layer 8, Head 10\",\"Layer 8, Head 11\",\"Layer 9, Head 0\",\"Layer 9, Head 1\",\"Layer 9, Head 2\",\"Layer 9, Head 3\",\"Layer 9, Head 4\",\"Layer 9, Head 5\",\"Layer 9, Head 6\",\"Layer 9, Head 7\",\"Layer 9, Head 8\",\"Layer 9, Head 9\",\"Layer 9, Head 10\",\"Layer 9, Head 11\",\"Layer 10, Head 0\",\"Layer 10, Head 1\",\"Layer 10, Head 2\",\"Layer 10, Head 3\",\"Layer 10, Head 4\",\"Layer 10, Head 5\",\"Layer 10, Head 6\",\"Layer 10, Head 7\",\"Layer 10, Head 8\",\"Layer 10, Head 9\",\"Layer 10, Head 10\",\"Layer 10, Head 11\",\"Layer 11, Head 0\",\"Layer 11, Head 1\",\"Layer 11, Head 2\",\"Layer 11, Head 3\",\"Layer 11, Head 4\",\"Layer 11, Head 5\",\"Layer 11, Head 6\",\"Layer 11, Head 7\",\"Layer 11, Head 8\",\"Layer 11, Head 9\",\"Layer 11, Head 10\",\"Layer 11, Head 11\"],\"x\":[0.03903922066092491,0.011743714101612568,-0.009931284002959728,0.009787268936634064,0.006493018940091133,0.02485433779656887,0.0386490523815155,-0.021807149052619934,0.0032193271908909082,0.012880796566605568,0.0034124369267374277,0.03219587355852127,0.021677520126104355,-0.015001190826296806,-0.003607977880164981,0.011317383497953415,0.011390602216124535,0.014414350502192974,-0.009207365103065968,0.0026729723904281855,0.018896959722042084,-0.0012604071525856853,0.03162252530455589,0.010432574898004532,0.009415947832167149,0.020444046705961227,0.011859774589538574,0.02290482446551323,-0.0061643836088478565,0.024181414395570755,0.01818251982331276,0.040108680725097656,0.02230668067932129,0.013094687834382057,0.03507457301020622,0.03358751907944679,0.008603207767009735,0.0451526865363121,0.038611020892858505,-0.058938272297382355,0.009216061793267727,0.014090094715356827,0.026611588895320892,-0.016835764050483704,0.006769280880689621,0.02957281842827797,0.038670435547828674,0.05218484625220299,0.02357572689652443,0.019960546866059303,0.02564096450805664,0.09107150882482529,0.03242835775017738,0.04405003413558006,0.012422963045537472,0.046707287430763245,0.04709199443459511,0.06821664422750473,-0.010020526126027107,0.047550663352012634,0.08620944619178772,0.08970947563648224,0.0838717445731163,0.045035071671009064,0.08182661980390549,0.04509297013282776,0.07891280204057693,0.06696619838476181,0.04260306432843208,0.03690432757139206,-0.013177811168134212,0.04228031262755394,0.09634953737258911,0.11728223413228989,0.06286344677209854,0.04141516238451004,0.06829198449850082,-0.009840516373515129,0.08285266160964966,-0.10760422796010971,0.008818998001515865,-0.012227984145283699,0.0154489791020751,0.04627295956015587,0.01895550638437271,0.04796125739812851,-0.03697194159030914,0.009715970605611801,0.07789936661720276,0.011049359105527401,-0.02702777087688446,0.1407833695411682,0.10680465400218964,0.03299408033490181,-0.022080574184656143,0.0061659482307732105,0.08506616204977036,0.10390488058328629,0.09626097232103348,0.11010830849409103,0.12486153841018677,0.10464860498905182,-0.03876393660902977,-0.018021350726485252,0.12095292657613754,-0.02272878959774971,0.08964119851589203,0.07745936512947083,-0.04632104933261871,-0.018295343965291977,0.01660846546292305,0.29545044898986816,0.02913970872759819,-0.02251017466187477,0.03645974397659302,0.12306901812553406,0.09254501760005951,0.06000535935163498,0.043921999633312225,-0.022229744121432304,0.023929569870233536,0.049625273793935776,-0.016472194343805313,0.010037751868367195,0.038033466786146164,0.026602696627378464,0.0028687717858701944,0.01438734121620655,0.007236168719828129,0.18909606337547302,0.01549625862389803,0.01124277338385582,0.10956935584545135,0.01244196854531765,0.013703214935958385,0.019020715728402138,0.00352220400236547,-0.01058802381157875,0.029964685440063477,0.014521336182951927,-0.005197052378207445,0.025126589462161064,-0.0057827178388834,0.07722614705562592],\"y\":[-0.3747751712799072,-0.08460482954978943,-0.3299938142299652,-0.4994507431983948,-0.18144376575946808,-0.0434594601392746,-0.01564187742769718,-0.09124185144901276,-0.29107075929641724,-0.0912063717842102,-0.1536158174276352,-0.05026564374566078,-0.11252786219120026,-0.2356775552034378,-0.36615943908691406,-0.029159652069211006,-0.15083520114421844,-0.13225057721138,-0.050712376832962036,-0.34832248091697693,-0.06279711425304413,-0.10763724893331528,-0.028628872707486153,-0.08989346772432327,-0.07195723801851273,-0.09991440922021866,-0.09837321937084198,-0.10940979421138763,-0.030589338392019272,-0.15066839754581451,-0.15713128447532654,-0.3065541982650757,-0.18315286934375763,-0.17602837085723877,-0.1968359649181366,-0.18149274587631226,-0.1689332276582718,-0.27021992206573486,-0.8164582252502441,-0.35507890582084656,-0.18590205907821655,-0.0734332874417305,-0.057747576385736465,0.0813949927687645,-0.11183857917785645,-0.14224432408809662,-0.1402488499879837,-0.08259755373001099,-0.15574006736278534,0.02082083374261856,-0.12747308611869812,-0.1544233113527298,-0.10429325699806213,-0.20098468661308289,-0.08795648068189621,-0.101297527551651,-0.09915679693222046,-0.3170131742954254,-0.053380075842142105,-0.08055979013442993,-0.05887698382139206,-0.20990446209907532,-0.044357944279909134,-0.10274166613817215,-0.11696392297744751,-0.19210736453533173,-0.035757582634687424,-0.018121259286999702,-0.2205432504415512,-0.040641020983457565,-0.043150894343853,-0.07036709040403366,-0.301238477230072,-0.06913036108016968,-0.2194288820028305,-0.08046435564756393,-0.08213943243026733,0.013475707732141018,-0.11427939683198929,0.16476468741893768,-0.062230534851551056,-0.0006902162567712367,-0.019587380811572075,-0.12230663001537323,-0.04606487601995468,-0.11464493721723557,0.06953664869070053,-0.02532283402979374,-0.08137005567550659,0.007894160225987434,0.01307760551571846,-0.47210565209388733,-0.287378191947937,-0.06018664315342903,0.003853833768516779,-0.08563205599784851,-0.08356647193431854,-0.11980018019676208,-0.06468313932418823,-0.0395767018198967,-0.21720081567764282,-0.06629052758216858,0.01947658136487007,-0.011349346488714218,-0.06132127344608307,-0.016512777656316757,-0.08065903931856155,-0.06544327735900879,-0.014389186166226864,0.001429997617378831,-0.03151533007621765,-0.32214978337287903,-0.018579302355647087,0.010731031186878681,-0.037434596568346024,-0.1307130604982376,-0.10046447068452835,-0.04706917703151703,-0.042586687952280045,-0.002399544231593609,-0.005902478005737066,-0.03425455838441849,0.013723603449761868,-0.0030817340593785048,-0.011132929474115372,-0.059482309967279434,-0.005594354122877121,-0.009334665723145008,-0.006001935340464115,-0.09426293522119522,-0.009554476477205753,-0.005708062555640936,-0.07681851834058762,-0.0015122025506570935,-0.0172796081751585,-0.015728725120425224,-0.00696430541574955,-0.00174171372782439,-0.01613631658256054,-0.013142899610102177,-0.005041434895247221,-0.01158993598073721,-0.00435686158016324,-0.046280309557914734],\"type\":\"scatter\",\"xaxis\":\"x3\",\"yaxis\":\"y3\"},{\"line\":{\"color\":\"grey\",\"dash\":\"dot\"},\"mode\":\"lines\",\"name\":\"Y=-X\",\"x\":[-0.4,0.4],\"y\":[0.4,-0.4],\"type\":\"scatter\",\"xaxis\":\"x3\",\"yaxis\":\"y3\"},{\"marker\":{\"color\":[0.0,0.0,0.0,0.0,0.0,0.0,0.0,0.0,0.0,0.0,0.0,0.0,1.0,1.0,1.0,1.0,1.0,1.0,1.0,1.0,1.0,1.0,1.0,1.0,2.0,2.0,2.0,2.0,2.0,2.0,2.0,2.0,2.0,2.0,2.0,2.0,3.0,3.0,3.0,3.0,3.0,3.0,3.0,3.0,3.0,3.0,3.0,3.0,4.0,4.0,4.0,4.0,4.0,4.0,4.0,4.0,4.0,4.0,4.0,4.0,5.0,5.0,5.0,5.0,5.0,5.0,5.0,5.0,5.0,5.0,5.0,5.0,6.0,6.0,6.0,6.0,6.0,6.0,6.0,6.0,6.0,6.0,6.0,6.0,7.0,7.0,7.0,7.0,7.0,7.0,7.0,7.0,7.0,7.0,7.0,7.0,8.0,8.0,8.0,8.0,8.0,8.0,8.0,8.0,8.0,8.0,8.0,8.0,9.0,9.0,9.0,9.0,9.0,9.0,9.0,9.0,9.0,9.0,9.0,9.0,10.0,10.0,10.0,10.0,10.0,10.0,10.0,10.0,10.0,10.0,10.0,10.0,11.0,11.0,11.0,11.0,11.0,11.0,11.0,11.0,11.0,11.0,11.0,11.0],\"colorbar\":{\"orientation\":\"h\",\"title\":{\"text\":\"Layer\"}},\"colorscale\":[[0.0,\"#440154\"],[0.1111111111111111,\"#482878\"],[0.2222222222222222,\"#3e4989\"],[0.3333333333333333,\"#31688e\"],[0.4444444444444444,\"#26828e\"],[0.5555555555555556,\"#1f9e89\"],[0.6666666666666666,\"#35b779\"],[0.7777777777777778,\"#6ece58\"],[0.8888888888888888,\"#b5de2b\"],[1.0,\"#fde725\"]],\"line\":{\"color\":\"DarkSlateGrey\",\"width\":0.5},\"opacity\":0.8,\"size\":8},\"mode\":\"markers\",\"name\":\"Attention Heads\",\"text\":[\"Layer 0, Head 0\",\"Layer 0, Head 1\",\"Layer 0, Head 2\",\"Layer 0, Head 3\",\"Layer 0, Head 4\",\"Layer 0, Head 5\",\"Layer 0, Head 6\",\"Layer 0, Head 7\",\"Layer 0, Head 8\",\"Layer 0, Head 9\",\"Layer 0, Head 10\",\"Layer 0, Head 11\",\"Layer 1, Head 0\",\"Layer 1, Head 1\",\"Layer 1, Head 2\",\"Layer 1, Head 3\",\"Layer 1, Head 4\",\"Layer 1, Head 5\",\"Layer 1, Head 6\",\"Layer 1, Head 7\",\"Layer 1, Head 8\",\"Layer 1, Head 9\",\"Layer 1, Head 10\",\"Layer 1, Head 11\",\"Layer 2, Head 0\",\"Layer 2, Head 1\",\"Layer 2, Head 2\",\"Layer 2, Head 3\",\"Layer 2, Head 4\",\"Layer 2, Head 5\",\"Layer 2, Head 6\",\"Layer 2, Head 7\",\"Layer 2, Head 8\",\"Layer 2, Head 9\",\"Layer 2, Head 10\",\"Layer 2, Head 11\",\"Layer 3, Head 0\",\"Layer 3, Head 1\",\"Layer 3, Head 2\",\"Layer 3, Head 3\",\"Layer 3, Head 4\",\"Layer 3, Head 5\",\"Layer 3, Head 6\",\"Layer 3, Head 7\",\"Layer 3, Head 8\",\"Layer 3, Head 9\",\"Layer 3, Head 10\",\"Layer 3, Head 11\",\"Layer 4, Head 0\",\"Layer 4, Head 1\",\"Layer 4, Head 2\",\"Layer 4, Head 3\",\"Layer 4, Head 4\",\"Layer 4, Head 5\",\"Layer 4, Head 6\",\"Layer 4, Head 7\",\"Layer 4, Head 8\",\"Layer 4, Head 9\",\"Layer 4, Head 10\",\"Layer 4, Head 11\",\"Layer 5, Head 0\",\"Layer 5, Head 1\",\"Layer 5, Head 2\",\"Layer 5, Head 3\",\"Layer 5, Head 4\",\"Layer 5, Head 5\",\"Layer 5, Head 6\",\"Layer 5, Head 7\",\"Layer 5, Head 8\",\"Layer 5, Head 9\",\"Layer 5, Head 10\",\"Layer 5, Head 11\",\"Layer 6, Head 0\",\"Layer 6, Head 1\",\"Layer 6, Head 2\",\"Layer 6, Head 3\",\"Layer 6, Head 4\",\"Layer 6, Head 5\",\"Layer 6, Head 6\",\"Layer 6, Head 7\",\"Layer 6, Head 8\",\"Layer 6, Head 9\",\"Layer 6, Head 10\",\"Layer 6, Head 11\",\"Layer 7, Head 0\",\"Layer 7, Head 1\",\"Layer 7, Head 2\",\"Layer 7, Head 3\",\"Layer 7, Head 4\",\"Layer 7, Head 5\",\"Layer 7, Head 6\",\"Layer 7, Head 7\",\"Layer 7, Head 8\",\"Layer 7, Head 9\",\"Layer 7, Head 10\",\"Layer 7, Head 11\",\"Layer 8, Head 0\",\"Layer 8, Head 1\",\"Layer 8, Head 2\",\"Layer 8, Head 3\",\"Layer 8, Head 4\",\"Layer 8, Head 5\",\"Layer 8, Head 6\",\"Layer 8, Head 7\",\"Layer 8, Head 8\",\"Layer 8, Head 9\",\"Layer 8, Head 10\",\"Layer 8, Head 11\",\"Layer 9, Head 0\",\"Layer 9, Head 1\",\"Layer 9, Head 2\",\"Layer 9, Head 3\",\"Layer 9, Head 4\",\"Layer 9, Head 5\",\"Layer 9, Head 6\",\"Layer 9, Head 7\",\"Layer 9, Head 8\",\"Layer 9, Head 9\",\"Layer 9, Head 10\",\"Layer 9, Head 11\",\"Layer 10, Head 0\",\"Layer 10, Head 1\",\"Layer 10, Head 2\",\"Layer 10, Head 3\",\"Layer 10, Head 4\",\"Layer 10, Head 5\",\"Layer 10, Head 6\",\"Layer 10, Head 7\",\"Layer 10, Head 8\",\"Layer 10, Head 9\",\"Layer 10, Head 10\",\"Layer 10, Head 11\",\"Layer 11, Head 0\",\"Layer 11, Head 1\",\"Layer 11, Head 2\",\"Layer 11, Head 3\",\"Layer 11, Head 4\",\"Layer 11, Head 5\",\"Layer 11, Head 6\",\"Layer 11, Head 7\",\"Layer 11, Head 8\",\"Layer 11, Head 9\",\"Layer 11, Head 10\",\"Layer 11, Head 11\"],\"x\":[0.030324507504701614,0.013429028913378716,-0.010004264302551746,0.020465299487113953,0.03210778161883354,0.018871139734983444,0.038739949464797974,-0.041972752660512924,-0.002099133562296629,0.019742926582694054,0.005440175533294678,0.020880477502942085,0.017725704237818718,-0.010238165967166424,0.003319045528769493,0.02145262248814106,0.021586336195468903,0.02136351726949215,-0.01350822951644659,0.010287312790751457,0.010408077389001846,0.005972601938992739,0.001310373074375093,0.010383499786257744,0.007428138516843319,0.01295908261090517,0.00865251012146473,0.024908820167183876,0.006194974761456251,0.027608120813965797,0.00911052618175745,0.03203725069761276,0.025947831571102142,0.006552129052579403,0.029199913144111633,0.02412005327641964,0.004510222934186459,0.04765069857239723,0.03164110705256462,-0.04422390088438988,0.012100382708013058,0.008426020853221416,0.003051263280212879,-0.040009334683418274,0.025285623967647552,0.02991809882223606,0.03357426077127457,0.007406151853501797,0.026789793744683266,0.03716527670621872,0.02138972468674183,0.08047417551279068,0.025897644460201263,0.039356160908937454,-0.0014574064407497644,0.03304901346564293,0.032345645129680634,0.06886034458875656,-0.02222556248307228,0.036156248301267624,0.08889426290988922,0.04364998638629913,0.049376003444194794,0.03426997363567352,0.03798622265458107,0.028061972931027412,-0.0014385482063516974,0.03630821034312248,0.04110868647694588,0.035308483988046646,-0.006729953922331333,0.031160686165094376,0.050645798444747925,0.06798073649406433,0.031248237937688828,0.04487696290016174,0.058111101388931274,0.006128514185547829,0.08980528265237808,-0.09290117025375366,0.03422202542424202,0.007999010384082794,0.0015261052176356316,0.02164296992123127,-0.002558054169639945,0.021226705983281136,-0.010074942372739315,0.009421889670193195,0.02348180115222931,-0.0025172890163958073,-0.00626353221014142,0.0641145184636116,0.1754852682352066,0.006575264502316713,-0.011591748334467411,-0.05707843229174614,0.03467608988285065,0.02788933925330639,0.03273962438106537,0.03176572918891907,0.038588088005781174,0.03762901574373245,-0.014793201349675655,0.017741693183779716,0.03376951068639755,0.0029752838890999556,0.054036326706409454,0.03828907012939453,-0.0014388663694262505,-0.01890604756772518,0.012370592914521694,0.1178501546382904,0.02604520507156849,-0.0009639305644668639,0.01662503555417061,0.03484887629747391,0.02681697905063629,0.02535564824938774,0.02049269899725914,-0.0020003807730972767,0.011696279980242252,0.042530402541160583,0.004491358995437622,0.013876760378479958,0.02847454883158207,0.06353519856929779,0.003870883025228977,0.016579478979110718,0.009245585650205612,0.06079769879579544,0.01689012162387371,0.012368784286081791,0.3570389151573181,0.14184053242206573,0.11891700327396393,0.0933837965130806,0.02561192959547043,0.20750856399536133,0.17351354658603668,0.058768074959516525,0.05248822271823883,0.15870727598667145,0.08209346979856491,0.1963147222995758],\"y\":[-0.48138901591300964,-0.11481976509094238,-0.3895086348056793,-0.5902295708656311,-0.3153199553489685,-0.05591431260108948,-0.036689791828393936,-0.11049005389213562,-0.3895380198955536,-0.11485596746206284,-0.2183995544910431,-0.0913865715265274,-0.12889158725738525,-0.2485123723745346,-0.419612854719162,-0.042862266302108765,-0.1738452911376953,-0.17614467442035675,-0.06688995659351349,-0.3599315285682678,-0.08222462236881256,-0.12327755987644196,-0.03793289139866829,-0.1077570766210556,-0.08666864037513733,-0.11504951864480972,-0.11012063920497894,-0.14353018999099731,-0.03437817096710205,-0.18501466512680054,-0.141805037856102,-0.3427969515323639,-0.2039744108915329,-0.2002285122871399,-0.200942263007164,-0.18656083941459656,-0.14869898557662964,-0.2847236692905426,-0.8681041598320007,-0.5324717164039612,-0.20045386254787445,-0.08191553503274918,-0.07202842086553574,0.10803317278623581,-0.12002216279506683,-0.14507551491260529,-0.1683393120765686,-0.11044155061244965,-0.13985827565193176,0.0230936910957098,-0.13470688462257385,-0.2177080512046814,-0.09607367217540741,-0.18209359049797058,-0.04170830175280571,-0.09653794020414352,-0.13687525689601898,-0.3515377342700958,-0.02435239590704441,-0.1219494640827179,-0.10385788977146149,-0.2428332418203354,-0.06381120532751083,-0.1087971106171608,-0.13837872445583344,-0.1931602656841278,-0.009050627239048481,-0.02777087688446045,-0.19607296586036682,-0.04907701909542084,-0.05377621203660965,-0.06359204649925232,-0.1307046264410019,-0.11116151511669159,-0.060835812240839005,-0.08192955702543259,-0.08134961873292923,-0.017415909096598625,-0.1136225163936615,0.11634605377912521,-0.09809619933366776,-0.01696106418967247,-0.042313337326049805,-0.1297929584980011,-0.054922010749578476,-0.04864170029759407,0.008469007909297943,-0.03162570670247078,-0.05622634291648865,-0.009363437071442604,-0.004424222745001316,-0.27635496854782104,-0.42911431193351746,-0.013278353027999401,-0.0029041366651654243,-0.09730086475610733,-0.03589197248220444,-0.023033790290355682,-0.013108189217746258,-0.0198836587369442,-0.07169529050588608,-0.018773917108774185,-0.005158981308341026,-0.02195604145526886,-0.017581691965460777,-0.007151236291974783,-0.039017729461193085,-0.022629473358392715,-0.010964516550302505,0.007060113828629255,-0.010821863077580929,-0.12584944069385529,-0.015923915430903435,0.013818230479955673,-0.012964969500899315,-0.02721221186220646,-0.024199429899454117,-0.016047418117523193,-0.032094746828079224,-0.0062298099510371685,-0.006497666705399752,-0.04580116271972656,0.00308631407096982,-0.006438873242586851,-0.015598769299685955,-0.07177678495645523,-0.0099874846637249,-0.01298731379210949,-0.009930080734193325,-0.05512004345655441,-0.012971949763596058,-0.01160613726824522,-0.0820346549153328,-0.019732585176825523,-0.02631162479519844,-0.022403737530112267,-0.011316214688122272,-0.014440587721765041,-0.04521365091204643,-0.019252214580774307,-0.023177342489361763,-0.040455032140016556,-0.018212158232927322,-0.06659945100545883],\"type\":\"scatter\",\"xaxis\":\"x4\",\"yaxis\":\"y4\"},{\"line\":{\"color\":\"grey\",\"dash\":\"dot\"},\"mode\":\"lines\",\"name\":\"Y=-X\",\"x\":[-0.4,0.4],\"y\":[0.4,-0.4],\"type\":\"scatter\",\"xaxis\":\"x4\",\"yaxis\":\"y4\"}],                        {\"template\":{\"data\":{\"histogram2dcontour\":[{\"type\":\"histogram2dcontour\",\"colorbar\":{\"outlinewidth\":0,\"ticks\":\"\"},\"colorscale\":[[0.0,\"#0d0887\"],[0.1111111111111111,\"#46039f\"],[0.2222222222222222,\"#7201a8\"],[0.3333333333333333,\"#9c179e\"],[0.4444444444444444,\"#bd3786\"],[0.5555555555555556,\"#d8576b\"],[0.6666666666666666,\"#ed7953\"],[0.7777777777777778,\"#fb9f3a\"],[0.8888888888888888,\"#fdca26\"],[1.0,\"#f0f921\"]]}],\"choropleth\":[{\"type\":\"choropleth\",\"colorbar\":{\"outlinewidth\":0,\"ticks\":\"\"}}],\"histogram2d\":[{\"type\":\"histogram2d\",\"colorbar\":{\"outlinewidth\":0,\"ticks\":\"\"},\"colorscale\":[[0.0,\"#0d0887\"],[0.1111111111111111,\"#46039f\"],[0.2222222222222222,\"#7201a8\"],[0.3333333333333333,\"#9c179e\"],[0.4444444444444444,\"#bd3786\"],[0.5555555555555556,\"#d8576b\"],[0.6666666666666666,\"#ed7953\"],[0.7777777777777778,\"#fb9f3a\"],[0.8888888888888888,\"#fdca26\"],[1.0,\"#f0f921\"]]}],\"heatmap\":[{\"type\":\"heatmap\",\"colorbar\":{\"outlinewidth\":0,\"ticks\":\"\"},\"colorscale\":[[0.0,\"#0d0887\"],[0.1111111111111111,\"#46039f\"],[0.2222222222222222,\"#7201a8\"],[0.3333333333333333,\"#9c179e\"],[0.4444444444444444,\"#bd3786\"],[0.5555555555555556,\"#d8576b\"],[0.6666666666666666,\"#ed7953\"],[0.7777777777777778,\"#fb9f3a\"],[0.8888888888888888,\"#fdca26\"],[1.0,\"#f0f921\"]]}],\"heatmapgl\":[{\"type\":\"heatmapgl\",\"colorbar\":{\"outlinewidth\":0,\"ticks\":\"\"},\"colorscale\":[[0.0,\"#0d0887\"],[0.1111111111111111,\"#46039f\"],[0.2222222222222222,\"#7201a8\"],[0.3333333333333333,\"#9c179e\"],[0.4444444444444444,\"#bd3786\"],[0.5555555555555556,\"#d8576b\"],[0.6666666666666666,\"#ed7953\"],[0.7777777777777778,\"#fb9f3a\"],[0.8888888888888888,\"#fdca26\"],[1.0,\"#f0f921\"]]}],\"contourcarpet\":[{\"type\":\"contourcarpet\",\"colorbar\":{\"outlinewidth\":0,\"ticks\":\"\"}}],\"contour\":[{\"type\":\"contour\",\"colorbar\":{\"outlinewidth\":0,\"ticks\":\"\"},\"colorscale\":[[0.0,\"#0d0887\"],[0.1111111111111111,\"#46039f\"],[0.2222222222222222,\"#7201a8\"],[0.3333333333333333,\"#9c179e\"],[0.4444444444444444,\"#bd3786\"],[0.5555555555555556,\"#d8576b\"],[0.6666666666666666,\"#ed7953\"],[0.7777777777777778,\"#fb9f3a\"],[0.8888888888888888,\"#fdca26\"],[1.0,\"#f0f921\"]]}],\"surface\":[{\"type\":\"surface\",\"colorbar\":{\"outlinewidth\":0,\"ticks\":\"\"},\"colorscale\":[[0.0,\"#0d0887\"],[0.1111111111111111,\"#46039f\"],[0.2222222222222222,\"#7201a8\"],[0.3333333333333333,\"#9c179e\"],[0.4444444444444444,\"#bd3786\"],[0.5555555555555556,\"#d8576b\"],[0.6666666666666666,\"#ed7953\"],[0.7777777777777778,\"#fb9f3a\"],[0.8888888888888888,\"#fdca26\"],[1.0,\"#f0f921\"]]}],\"mesh3d\":[{\"type\":\"mesh3d\",\"colorbar\":{\"outlinewidth\":0,\"ticks\":\"\"}}],\"scatter\":[{\"fillpattern\":{\"fillmode\":\"overlay\",\"size\":10,\"solidity\":0.2},\"type\":\"scatter\"}],\"parcoords\":[{\"type\":\"parcoords\",\"line\":{\"colorbar\":{\"outlinewidth\":0,\"ticks\":\"\"}}}],\"scatterpolargl\":[{\"type\":\"scatterpolargl\",\"marker\":{\"colorbar\":{\"outlinewidth\":0,\"ticks\":\"\"}}}],\"bar\":[{\"error_x\":{\"color\":\"#2a3f5f\"},\"error_y\":{\"color\":\"#2a3f5f\"},\"marker\":{\"line\":{\"color\":\"#E5ECF6\",\"width\":0.5},\"pattern\":{\"fillmode\":\"overlay\",\"size\":10,\"solidity\":0.2}},\"type\":\"bar\"}],\"scattergeo\":[{\"type\":\"scattergeo\",\"marker\":{\"colorbar\":{\"outlinewidth\":0,\"ticks\":\"\"}}}],\"scatterpolar\":[{\"type\":\"scatterpolar\",\"marker\":{\"colorbar\":{\"outlinewidth\":0,\"ticks\":\"\"}}}],\"histogram\":[{\"marker\":{\"pattern\":{\"fillmode\":\"overlay\",\"size\":10,\"solidity\":0.2}},\"type\":\"histogram\"}],\"scattergl\":[{\"type\":\"scattergl\",\"marker\":{\"colorbar\":{\"outlinewidth\":0,\"ticks\":\"\"}}}],\"scatter3d\":[{\"type\":\"scatter3d\",\"line\":{\"colorbar\":{\"outlinewidth\":0,\"ticks\":\"\"}},\"marker\":{\"colorbar\":{\"outlinewidth\":0,\"ticks\":\"\"}}}],\"scattermapbox\":[{\"type\":\"scattermapbox\",\"marker\":{\"colorbar\":{\"outlinewidth\":0,\"ticks\":\"\"}}}],\"scatterternary\":[{\"type\":\"scatterternary\",\"marker\":{\"colorbar\":{\"outlinewidth\":0,\"ticks\":\"\"}}}],\"scattercarpet\":[{\"type\":\"scattercarpet\",\"marker\":{\"colorbar\":{\"outlinewidth\":0,\"ticks\":\"\"}}}],\"carpet\":[{\"aaxis\":{\"endlinecolor\":\"#2a3f5f\",\"gridcolor\":\"white\",\"linecolor\":\"white\",\"minorgridcolor\":\"white\",\"startlinecolor\":\"#2a3f5f\"},\"baxis\":{\"endlinecolor\":\"#2a3f5f\",\"gridcolor\":\"white\",\"linecolor\":\"white\",\"minorgridcolor\":\"white\",\"startlinecolor\":\"#2a3f5f\"},\"type\":\"carpet\"}],\"table\":[{\"cells\":{\"fill\":{\"color\":\"#EBF0F8\"},\"line\":{\"color\":\"white\"}},\"header\":{\"fill\":{\"color\":\"#C8D4E3\"},\"line\":{\"color\":\"white\"}},\"type\":\"table\"}],\"barpolar\":[{\"marker\":{\"line\":{\"color\":\"#E5ECF6\",\"width\":0.5},\"pattern\":{\"fillmode\":\"overlay\",\"size\":10,\"solidity\":0.2}},\"type\":\"barpolar\"}],\"pie\":[{\"automargin\":true,\"type\":\"pie\"}]},\"layout\":{\"autotypenumbers\":\"strict\",\"colorway\":[\"#636efa\",\"#EF553B\",\"#00cc96\",\"#ab63fa\",\"#FFA15A\",\"#19d3f3\",\"#FF6692\",\"#B6E880\",\"#FF97FF\",\"#FECB52\"],\"font\":{\"color\":\"#2a3f5f\"},\"hovermode\":\"closest\",\"hoverlabel\":{\"align\":\"left\"},\"paper_bgcolor\":\"white\",\"plot_bgcolor\":\"#E5ECF6\",\"polar\":{\"bgcolor\":\"#E5ECF6\",\"angularaxis\":{\"gridcolor\":\"white\",\"linecolor\":\"white\",\"ticks\":\"\"},\"radialaxis\":{\"gridcolor\":\"white\",\"linecolor\":\"white\",\"ticks\":\"\"}},\"ternary\":{\"bgcolor\":\"#E5ECF6\",\"aaxis\":{\"gridcolor\":\"white\",\"linecolor\":\"white\",\"ticks\":\"\"},\"baxis\":{\"gridcolor\":\"white\",\"linecolor\":\"white\",\"ticks\":\"\"},\"caxis\":{\"gridcolor\":\"white\",\"linecolor\":\"white\",\"ticks\":\"\"}},\"coloraxis\":{\"colorbar\":{\"outlinewidth\":0,\"ticks\":\"\"}},\"colorscale\":{\"sequential\":[[0.0,\"#0d0887\"],[0.1111111111111111,\"#46039f\"],[0.2222222222222222,\"#7201a8\"],[0.3333333333333333,\"#9c179e\"],[0.4444444444444444,\"#bd3786\"],[0.5555555555555556,\"#d8576b\"],[0.6666666666666666,\"#ed7953\"],[0.7777777777777778,\"#fb9f3a\"],[0.8888888888888888,\"#fdca26\"],[1.0,\"#f0f921\"]],\"sequentialminus\":[[0.0,\"#0d0887\"],[0.1111111111111111,\"#46039f\"],[0.2222222222222222,\"#7201a8\"],[0.3333333333333333,\"#9c179e\"],[0.4444444444444444,\"#bd3786\"],[0.5555555555555556,\"#d8576b\"],[0.6666666666666666,\"#ed7953\"],[0.7777777777777778,\"#fb9f3a\"],[0.8888888888888888,\"#fdca26\"],[1.0,\"#f0f921\"]],\"diverging\":[[0,\"#8e0152\"],[0.1,\"#c51b7d\"],[0.2,\"#de77ae\"],[0.3,\"#f1b6da\"],[0.4,\"#fde0ef\"],[0.5,\"#f7f7f7\"],[0.6,\"#e6f5d0\"],[0.7,\"#b8e186\"],[0.8,\"#7fbc41\"],[0.9,\"#4d9221\"],[1,\"#276419\"]]},\"xaxis\":{\"gridcolor\":\"white\",\"linecolor\":\"white\",\"ticks\":\"\",\"title\":{\"standoff\":15},\"zerolinecolor\":\"white\",\"automargin\":true,\"zerolinewidth\":2},\"yaxis\":{\"gridcolor\":\"white\",\"linecolor\":\"white\",\"ticks\":\"\",\"title\":{\"standoff\":15},\"zerolinecolor\":\"white\",\"automargin\":true,\"zerolinewidth\":2},\"scene\":{\"xaxis\":{\"backgroundcolor\":\"#E5ECF6\",\"gridcolor\":\"white\",\"linecolor\":\"white\",\"showbackground\":true,\"ticks\":\"\",\"zerolinecolor\":\"white\",\"gridwidth\":2},\"yaxis\":{\"backgroundcolor\":\"#E5ECF6\",\"gridcolor\":\"white\",\"linecolor\":\"white\",\"showbackground\":true,\"ticks\":\"\",\"zerolinecolor\":\"white\",\"gridwidth\":2},\"zaxis\":{\"backgroundcolor\":\"#E5ECF6\",\"gridcolor\":\"white\",\"linecolor\":\"white\",\"showbackground\":true,\"ticks\":\"\",\"zerolinecolor\":\"white\",\"gridwidth\":2}},\"shapedefaults\":{\"line\":{\"color\":\"#2a3f5f\"}},\"annotationdefaults\":{\"arrowcolor\":\"#2a3f5f\",\"arrowhead\":0,\"arrowwidth\":1},\"geo\":{\"bgcolor\":\"white\",\"landcolor\":\"#E5ECF6\",\"subunitcolor\":\"white\",\"showland\":true,\"showlakes\":true,\"lakecolor\":\"white\"},\"title\":{\"x\":0.05},\"mapbox\":{\"style\":\"light\"}}},\"xaxis\":{\"anchor\":\"y\",\"domain\":[0.0,0.2125],\"range\":[-0.1,0.4],\"title\":{\"text\":\"Original Direct Effect\",\"font\":{\"size\":16}}},\"yaxis\":{\"anchor\":\"x\",\"domain\":[0.0,1.0],\"range\":[-0.4,0.1],\"title\":{\"text\":\"Change in Logits\",\"font\":{\"size\":16}}},\"xaxis2\":{\"anchor\":\"y2\",\"domain\":[0.2625,0.475],\"range\":[-0.1,0.4]},\"yaxis2\":{\"anchor\":\"x2\",\"domain\":[0.0,1.0],\"range\":[-0.4,0.1]},\"xaxis3\":{\"anchor\":\"y3\",\"domain\":[0.525,0.7375],\"range\":[-0.1,0.4]},\"yaxis3\":{\"anchor\":\"x3\",\"domain\":[0.0,1.0],\"range\":[-0.4,0.1]},\"xaxis4\":{\"anchor\":\"y4\",\"domain\":[0.7875,1.0],\"range\":[-0.1,0.4]},\"yaxis4\":{\"anchor\":\"x4\",\"domain\":[0.0,1.0],\"range\":[-0.4,0.1]},\"annotations\":[{\"font\":{\"size\":16},\"showarrow\":false,\"text\":\"Checkpoint 256\",\"x\":0.10625,\"xanchor\":\"center\",\"xref\":\"paper\",\"y\":1.0,\"yanchor\":\"bottom\",\"yref\":\"paper\"},{\"font\":{\"size\":16},\"showarrow\":false,\"text\":\"Checkpoint 512\",\"x\":0.36875,\"xanchor\":\"center\",\"xref\":\"paper\",\"y\":1.0,\"yanchor\":\"bottom\",\"yref\":\"paper\"},{\"font\":{\"size\":16},\"showarrow\":false,\"text\":\"Checkpoint 1000\",\"x\":0.6312500000000001,\"xanchor\":\"center\",\"xref\":\"paper\",\"y\":1.0,\"yanchor\":\"bottom\",\"yref\":\"paper\"},{\"font\":{\"size\":16},\"showarrow\":false,\"text\":\"Checkpoint 2000\",\"x\":0.89375,\"xanchor\":\"center\",\"xref\":\"paper\",\"y\":1.0,\"yanchor\":\"bottom\",\"yref\":\"paper\"}],\"title\":{\"text\":\"Self-Repair for pythia-160m\"},\"margin\":{\"t\":75},\"height\":500,\"width\":1400,\"showlegend\":false},                        {\"responsive\": true}                    ).then(function(){\n",
       "                            \n",
       "var gd = document.getElementById('d4d3533b-b309-44fd-a03a-571a167f8137');\n",
       "var x = new MutationObserver(function (mutations, observer) {{\n",
       "        var display = window.getComputedStyle(gd).display;\n",
       "        if (!display || display === 'none') {{\n",
       "            console.log([gd, 'removed!']);\n",
       "            Plotly.purge(gd);\n",
       "            observer.disconnect();\n",
       "        }}\n",
       "}});\n",
       "\n",
       "// Listen for the removal of the full notebook cells\n",
       "var notebookContainer = gd.closest('#notebook-container');\n",
       "if (notebookContainer) {{\n",
       "    x.observe(notebookContainer, {childList: true});\n",
       "}}\n",
       "\n",
       "// Listen for the clearing of the current output cell\n",
       "var outputEl = gd.closest('.output');\n",
       "if (outputEl) {{\n",
       "    x.observe(outputEl, {childList: true});\n",
       "}}\n",
       "\n",
       "                        })                };                });            </script>        </div>"
      ]
     },
     "metadata": {},
     "output_type": "display_data"
    }
   ],
   "source": [
    "import plotly.graph_objects as go\n",
    "from plotly.subplots import make_subplots\n",
    "import numpy as np\n",
    "import torch\n",
    "\n",
    "from utils.visualization import convert_title_to_filename\n",
    "\n",
    "\n",
    "# Specify your desired x and y axis range\n",
    "x_range = [-0.1, 0.4]\n",
    "y_range = [-0.4, 0.1]\n",
    "\n",
    "# Determine the grid size (rows x columns)\n",
    "total_checkpoints = len(subset_data.keys())\n",
    "num_columns = 4  # Example: 3 columns in your grid\n",
    "num_rows = (total_checkpoints + num_columns - 1) // num_columns  # Calculate rows needed\n",
    "\n",
    "# Initialize the subplot figure with specified rows and columns\n",
    "fig = make_subplots(\n",
    "    rows=num_rows, cols=num_columns, \n",
    "    subplot_titles=[f\"Checkpoint {checkpoint}\" for checkpoint in data.keys()],\n",
    "    horizontal_spacing=0.05,  # Reduce horizontal spacing\n",
    "    vertical_spacing=0.05     # Reduce vertical spacing\n",
    ")\n",
    "\n",
    "subplot_index = 1  # Initialize subplot index\n",
    "\n",
    "for checkpoint in subset_data.keys():\n",
    "    # Calculate the current row and column position\n",
    "    row = (subplot_index - 1) // num_columns + 1\n",
    "    col = (subplot_index - 1) % num_columns + 1\n",
    "\n",
    "    # Generate the plot for the current checkpoint\n",
    "    current_fig = create_layered_scatter(\n",
    "        subset_data[checkpoint]['thresholded_de'][0], \n",
    "        subset_data[checkpoint]['thresholded_cil'][0], \n",
    "        \"Direct Effect of Component\", \n",
    "        \"Change in Logits Upon Ablation\", \n",
    "        f\"Self-Repair in {MODEL_TO_VIEW} at Checkpoint {checkpoint}\",\n",
    "    )\n",
    "\n",
    "    # Add each trace from the current figure to the subplot\n",
    "    for trace in current_fig.data:\n",
    "        fig.add_trace(trace, row=row, col=col)\n",
    "\n",
    "    # Explicitly set x and y ranges for this subplot\n",
    "    fig.update_xaxes(range=x_range, row=row, col=col)\n",
    "    fig.update_yaxes(range=y_range, row=row, col=col)\n",
    "    \n",
    "    # Add the dotted line where the negative value of the y-axis equals the positive value of the x-axis\n",
    "    line_range = [min(x_range[0], y_range[0]), max(x_range[1], y_range[1])]\n",
    "    fig.add_trace(\n",
    "        go.Scatter(x=line_range, y=[-x for x in line_range], mode='lines',\n",
    "                   line=dict(color='grey', dash='dot'), name='Y=-X'),\n",
    "        row=row, col=col\n",
    "    )\n",
    "\n",
    "    subplot_index += 1\n",
    "\n",
    "title = f\"Self-Repair for {MODEL_TO_VIEW}\"\n",
    "\n",
    "# Update layout with centered axis titles, increased legend-subplot spacing, and specified label size\n",
    "fig.update_layout(\n",
    "    height=400*num_rows+100, \n",
    "    width=350*num_columns, \n",
    "    title_text=title, \n",
    "    showlegend=False,\n",
    "    xaxis_title=\"Original Direct Effect\",  # Centered x-axis title\n",
    "    yaxis_title=\"Change in Logits\",  # Centered y-axis title\n",
    "    margin=dict(t=75),  # Increase top margin to provide space for the legend\n",
    "    xaxis_title_font=dict(size=16),  # Set x-axis label size\n",
    "    yaxis_title_font=dict(size=16)   # Set y-axis label size\n",
    ")\n",
    "\n",
    "filename = \"results/plots/\" + convert_title_to_filename(title) + \".pdf\"\n",
    "fig.write_image(filename, format='pdf', width=350*num_columns, height=400*num_rows+100, engine=\"kaleido\")\n",
    "\n",
    "fig.show()"
   ]
  },
  {
   "cell_type": "code",
   "execution_count": 53,
   "metadata": {},
   "outputs": [],
   "source": [
    "def convert_title_to_filename(title: str):\n",
    "    # replace spaces with dashes, remove parentheses, and make lowercase\n",
    "    return title.replace(' ', '-').replace('(', '').replace(')', '').lower()\n",
    "\n",
    "import numpy as np\n",
    "import pandas as pd\n",
    "import plotly.express as px\n",
    "from typing import Dict\n",
    "\n",
    "def plot_all_heads(\n",
    "        model_name: str,\n",
    "        checkpoint_dict: Dict[int, Dict[str, np.ndarray]], \n",
    "        plot_everything: bool = False, \n",
    "        top_k_per_checkpoint: int = 5, \n",
    "        top_k: int = 5\n",
    "    ) -> pd.DataFrame:\n",
    "    \"\"\"\n",
    "    Plot the head attributions across checkpoints, with the option to plot all heads or only the top ones.\n",
    "\n",
    "    Args:\n",
    "        model_name (str): Name of the model for title display.\n",
    "        checkpoint_dict (Dict[int, Dict[str, np.ndarray]]): A dictionary mapping checkpoints to a dictionary\n",
    "            that includes a key \"self_repair_score\" pointing to numpy arrays of head attributions.\n",
    "        plot_everything (bool, optional): If True, plots all heads without applying top_k filters. Defaults to False.\n",
    "        top_k_per_checkpoint (int, optional): The number of top heads to consider per checkpoint. Effective only if plot_everything is False.\n",
    "        top_k (int, optional): The number of overall top heads to plot. Effective only if plot_everything is False.\n",
    "\n",
    "    Returns:\n",
    "        pd.DataFrame: A DataFrame containing the plot data.\n",
    "    \"\"\"\n",
    "    plot_data = []\n",
    "\n",
    "    for checkpoint, data in checkpoint_dict.items():\n",
    "        array = data['self_repair_score'][0].numpy()\n",
    "        print(array.shape)\n",
    "        \n",
    "        if plot_everything:\n",
    "            indices = np.indices(array.shape)\n",
    "            selected_heads = [(layer, head) for layer, head in zip(indices[0].flatten(), indices[1].flatten())]\n",
    "        else:\n",
    "            # Use argpartition to get the indices of the top heads in the entire array\n",
    "            flat_indices = np.argpartition(array.flatten(), -top_k_per_checkpoint)[-top_k_per_checkpoint:]\n",
    "            # Convert flat indices to 2D indices\n",
    "            indices = np.unravel_index(flat_indices, array.shape)\n",
    "            selected_heads = [(layer, head) for layer, head in zip(indices[0], indices[1])]\n",
    "\n",
    "        for layer, head in selected_heads:\n",
    "            plot_data.append(\n",
    "                {\n",
    "                    'Checkpoint': checkpoint,\n",
    "                    'Layer-Head': f'Layer {layer}-Head {head}',\n",
    "                    'Layer': layer,\n",
    "                    'Head': head,\n",
    "                    'Value': float(array[layer, head])  # Ensure conversion to float\n",
    "                }\n",
    "            )\n",
    "\n",
    "    # Convert to DataFrame\n",
    "    df = pd.DataFrame(plot_data)\n",
    "\n",
    "    if not plot_everything:\n",
    "        # Ensure 'Value' is numeric for aggregation functions\n",
    "        df['Value'] = pd.to_numeric(df['Value'], errors='coerce')  # Converts non-numeric to NaN, can handle errors\n",
    "\n",
    "        # Calculate sum of values over all checkpoints for each head\n",
    "        summary_df = df.groupby(['Layer-Head', 'Layer', 'Head']).sum().reset_index()\n",
    "\n",
    "        # Label the top_k items in summary_df based on their sum\n",
    "        summary_df['Top K'] = summary_df['Layer-Head'].isin(df.groupby('Layer-Head').mean().nlargest(top_k, 'Value').index)\n",
    "\n",
    "        # Filter the DataFrame to include only the top_k heads across all checkpoints\n",
    "        df = df.merge(summary_df, on=['Layer-Head', 'Layer', 'Head'], how='inner').query('`Top K`')\n",
    "\n",
    "    # Step 3: Plot the data\n",
    "    fig = px.line(\n",
    "        df, \n",
    "        x='Checkpoint',  # Corrected column name for Checkpoint\n",
    "        y='Value',       # Assuming Value_x is the correct column for self-repair scores\n",
    "        color='Layer-Head', \n",
    "        # specify y_range\n",
    "        range_y=[-300, 300],\n",
    "        title=f'Self Repair Across Checkpoints (DE+CIL/DE) ({model_name})', \n",
    "        height=500,\n",
    "        labels={'Checkpoint': 'Checkpoint', 'Value': 'Self Repair Score'}  # Correct labels for axes\n",
    "    )\n",
    "    fig.show()\n",
    "\n",
    "    return df"
   ]
  },
  {
   "cell_type": "code",
   "execution_count": 145,
   "metadata": {},
   "outputs": [],
   "source": [
    "for checkpoint in data.keys():\n",
    "    data[checkpoint]['self_repair_score'] = (data[checkpoint]['thresholded_de'] + data[checkpoint]['thresholded_cil']) / data[checkpoint]['thresholded_de']"
   ]
  },
  {
   "cell_type": "code",
   "execution_count": 133,
   "metadata": {},
   "outputs": [
    {
     "name": "stdout",
     "output_type": "stream",
     "text": [
      "(12, 12)\n",
      "(12, 12)\n",
      "(12, 12)\n"
     ]
    },
    {
     "data": {
      "application/vnd.plotly.v1+json": {
       "config": {
        "plotlyServerURL": "https://plot.ly"
       },
       "data": [
        {
         "hovertemplate": "Layer-Head=Layer 0-Head 0<br>Checkpoint=%{x}<br>Self Repair Score=%{y}<extra></extra>",
         "legendgroup": "Layer 0-Head 0",
         "line": {
          "color": "#636efa",
          "dash": "solid"
         },
         "marker": {
          "symbol": "circle"
         },
         "mode": "lines",
         "name": "Layer 0-Head 0",
         "orientation": "v",
         "showlegend": true,
         "type": "scatter",
         "x": [
          256,
          512,
          1000
         ],
         "xaxis": "x",
         "y": [
          -0.4706576466560364,
          -2.7398886680603027,
          -1.284901738166809
         ],
         "yaxis": "y"
        },
        {
         "hovertemplate": "Layer-Head=Layer 0-Head 1<br>Checkpoint=%{x}<br>Self Repair Score=%{y}<extra></extra>",
         "legendgroup": "Layer 0-Head 1",
         "line": {
          "color": "#EF553B",
          "dash": "solid"
         },
         "marker": {
          "symbol": "circle"
         },
         "mode": "lines",
         "name": "Layer 0-Head 1",
         "orientation": "v",
         "showlegend": true,
         "type": "scatter",
         "x": [
          256,
          512,
          1000
         ],
         "xaxis": "x",
         "y": [
          -6.527976036071777,
          -4.059282302856445,
          -1.9519615173339844
         ],
         "yaxis": "y"
        },
        {
         "hovertemplate": "Layer-Head=Layer 0-Head 2<br>Checkpoint=%{x}<br>Self Repair Score=%{y}<extra></extra>",
         "legendgroup": "Layer 0-Head 2",
         "line": {
          "color": "#00cc96",
          "dash": "solid"
         },
         "marker": {
          "symbol": "circle"
         },
         "mode": "lines",
         "name": "Layer 0-Head 2",
         "orientation": "v",
         "showlegend": true,
         "type": "scatter",
         "x": [
          256,
          512,
          1000
         ],
         "xaxis": "x",
         "y": [
          0.07861097902059555,
          -1.1149029731750488,
          0.28142210841178894
         ],
         "yaxis": "y"
        },
        {
         "hovertemplate": "Layer-Head=Layer 0-Head 3<br>Checkpoint=%{x}<br>Self Repair Score=%{y}<extra></extra>",
         "legendgroup": "Layer 0-Head 3",
         "line": {
          "color": "#ab63fa",
          "dash": "solid"
         },
         "marker": {
          "symbol": "circle"
         },
         "mode": "lines",
         "name": "Layer 0-Head 3",
         "orientation": "v",
         "showlegend": true,
         "type": "scatter",
         "x": [
          256,
          512,
          1000
         ],
         "xaxis": "x",
         "y": [
          -3.0984914302825928,
          -1.5834753513336182,
          -0.2985013425350189
         ],
         "yaxis": "y"
        },
        {
         "hovertemplate": "Layer-Head=Layer 0-Head 4<br>Checkpoint=%{x}<br>Self Repair Score=%{y}<extra></extra>",
         "legendgroup": "Layer 0-Head 4",
         "line": {
          "color": "#FFA15A",
          "dash": "solid"
         },
         "marker": {
          "symbol": "circle"
         },
         "mode": "lines",
         "name": "Layer 0-Head 4",
         "orientation": "v",
         "showlegend": true,
         "type": "scatter",
         "x": [
          256,
          512,
          1000
         ],
         "xaxis": "x",
         "y": [
          -0.6346737742424011,
          -2.8341543674468994,
          -4.233052730560303
         ],
         "yaxis": "y"
        },
        {
         "hovertemplate": "Layer-Head=Layer 0-Head 5<br>Checkpoint=%{x}<br>Self Repair Score=%{y}<extra></extra>",
         "legendgroup": "Layer 0-Head 5",
         "line": {
          "color": "#19d3f3",
          "dash": "solid"
         },
         "marker": {
          "symbol": "circle"
         },
         "mode": "lines",
         "name": "Layer 0-Head 5",
         "orientation": "v",
         "showlegend": true,
         "type": "scatter",
         "x": [
          256,
          512,
          1000
         ],
         "xaxis": "x",
         "y": [
          1.4579076766967773,
          -1.8947117328643799,
          -9.424071311950684
         ],
         "yaxis": "y"
        },
        {
         "hovertemplate": "Layer-Head=Layer 0-Head 6<br>Checkpoint=%{x}<br>Self Repair Score=%{y}<extra></extra>",
         "legendgroup": "Layer 0-Head 6",
         "line": {
          "color": "#FF6692",
          "dash": "solid"
         },
         "marker": {
          "symbol": "circle"
         },
         "mode": "lines",
         "name": "Layer 0-Head 6",
         "orientation": "v",
         "showlegend": true,
         "type": "scatter",
         "x": [
          256,
          512,
          1000
         ],
         "xaxis": "x",
         "y": [
          55.52640914916992,
          -21.29875946044922,
          -2.4802913665771484
         ],
         "yaxis": "y"
        },
        {
         "hovertemplate": "Layer-Head=Layer 0-Head 7<br>Checkpoint=%{x}<br>Self Repair Score=%{y}<extra></extra>",
         "legendgroup": "Layer 0-Head 7",
         "line": {
          "color": "#B6E880",
          "dash": "solid"
         },
         "marker": {
          "symbol": "circle"
         },
         "mode": "lines",
         "name": "Layer 0-Head 7",
         "orientation": "v",
         "showlegend": true,
         "type": "scatter",
         "x": [
          256,
          512,
          1000
         ],
         "xaxis": "x",
         "y": [
          -3.2571358680725098,
          -14.820972442626953,
          -8.06132984161377
         ],
         "yaxis": "y"
        },
        {
         "hovertemplate": "Layer-Head=Layer 0-Head 8<br>Checkpoint=%{x}<br>Self Repair Score=%{y}<extra></extra>",
         "legendgroup": "Layer 0-Head 8",
         "line": {
          "color": "#FF97FF",
          "dash": "solid"
         },
         "marker": {
          "symbol": "circle"
         },
         "mode": "lines",
         "name": "Layer 0-Head 8",
         "orientation": "v",
         "showlegend": true,
         "type": "scatter",
         "x": [
          256,
          512,
          1000
         ],
         "xaxis": "x",
         "y": [
          -3.9929981231689453,
          -1.7694522142410278,
          -0.6070131063461304
         ],
         "yaxis": "y"
        },
        {
         "hovertemplate": "Layer-Head=Layer 0-Head 9<br>Checkpoint=%{x}<br>Self Repair Score=%{y}<extra></extra>",
         "legendgroup": "Layer 0-Head 9",
         "line": {
          "color": "#FECB52",
          "dash": "solid"
         },
         "marker": {
          "symbol": "circle"
         },
         "mode": "lines",
         "name": "Layer 0-Head 9",
         "orientation": "v",
         "showlegend": true,
         "type": "scatter",
         "x": [
          256,
          512,
          1000
         ],
         "xaxis": "x",
         "y": [
          -1.4295823574066162,
          -2.374488353729248,
          -2.125844955444336
         ],
         "yaxis": "y"
        },
        {
         "hovertemplate": "Layer-Head=Layer 0-Head 10<br>Checkpoint=%{x}<br>Self Repair Score=%{y}<extra></extra>",
         "legendgroup": "Layer 0-Head 10",
         "line": {
          "color": "#636efa",
          "dash": "solid"
         },
         "marker": {
          "symbol": "circle"
         },
         "mode": "lines",
         "name": "Layer 0-Head 10",
         "orientation": "v",
         "showlegend": true,
         "type": "scatter",
         "x": [
          256,
          512,
          1000
         ],
         "xaxis": "x",
         "y": [
          3.2586073875427246,
          -1.1204007863998413,
          -0.011817408725619316
         ],
         "yaxis": "y"
        },
        {
         "hovertemplate": "Layer-Head=Layer 0-Head 11<br>Checkpoint=%{x}<br>Self Repair Score=%{y}<extra></extra>",
         "legendgroup": "Layer 0-Head 11",
         "line": {
          "color": "#EF553B",
          "dash": "solid"
         },
         "marker": {
          "symbol": "circle"
         },
         "mode": "lines",
         "name": "Layer 0-Head 11",
         "orientation": "v",
         "showlegend": true,
         "type": "scatter",
         "x": [
          256,
          512,
          1000
         ],
         "xaxis": "x",
         "y": [
          0.8978449702262878,
          -8.821925163269043,
          -4.237267971038818
         ],
         "yaxis": "y"
        },
        {
         "hovertemplate": "Layer-Head=Layer 1-Head 0<br>Checkpoint=%{x}<br>Self Repair Score=%{y}<extra></extra>",
         "legendgroup": "Layer 1-Head 0",
         "line": {
          "color": "#00cc96",
          "dash": "solid"
         },
         "marker": {
          "symbol": "circle"
         },
         "mode": "lines",
         "name": "Layer 1-Head 0",
         "orientation": "v",
         "showlegend": true,
         "type": "scatter",
         "x": [
          256,
          512,
          1000
         ],
         "xaxis": "x",
         "y": [
          0.34558790922164917,
          0.13163913786411285,
          -0.6160555481910706
         ],
         "yaxis": "y"
        },
        {
         "hovertemplate": "Layer-Head=Layer 1-Head 1<br>Checkpoint=%{x}<br>Self Repair Score=%{y}<extra></extra>",
         "legendgroup": "Layer 1-Head 1",
         "line": {
          "color": "#ab63fa",
          "dash": "solid"
         },
         "marker": {
          "symbol": "circle"
         },
         "mode": "lines",
         "name": "Layer 1-Head 1",
         "orientation": "v",
         "showlegend": true,
         "type": "scatter",
         "x": [
          256,
          512,
          1000
         ],
         "xaxis": "x",
         "y": [
          0.5905124545097351,
          -1.5417150259017944,
          -1.0632022619247437
         ],
         "yaxis": "y"
        },
        {
         "hovertemplate": "Layer-Head=Layer 1-Head 2<br>Checkpoint=%{x}<br>Self Repair Score=%{y}<extra></extra>",
         "legendgroup": "Layer 1-Head 2",
         "line": {
          "color": "#FFA15A",
          "dash": "solid"
         },
         "marker": {
          "symbol": "circle"
         },
         "mode": "lines",
         "name": "Layer 1-Head 2",
         "orientation": "v",
         "showlegend": true,
         "type": "scatter",
         "x": [
          256,
          512,
          1000
         ],
         "xaxis": "x",
         "y": [
          0.8162091374397278,
          -0.44527581334114075,
          -5.060528755187988
         ],
         "yaxis": "y"
        },
        {
         "hovertemplate": "Layer-Head=Layer 1-Head 3<br>Checkpoint=%{x}<br>Self Repair Score=%{y}<extra></extra>",
         "legendgroup": "Layer 1-Head 3",
         "line": {
          "color": "#19d3f3",
          "dash": "solid"
         },
         "marker": {
          "symbol": "circle"
         },
         "mode": "lines",
         "name": "Layer 1-Head 3",
         "orientation": "v",
         "showlegend": true,
         "type": "scatter",
         "x": [
          256,
          512,
          1000
         ],
         "xaxis": "x",
         "y": [
          0.7401966452598572,
          -0.461627721786499,
          0.38100293278694153
         ],
         "yaxis": "y"
        },
        {
         "hovertemplate": "Layer-Head=Layer 1-Head 4<br>Checkpoint=%{x}<br>Self Repair Score=%{y}<extra></extra>",
         "legendgroup": "Layer 1-Head 4",
         "line": {
          "color": "#FF6692",
          "dash": "solid"
         },
         "marker": {
          "symbol": "circle"
         },
         "mode": "lines",
         "name": "Layer 1-Head 4",
         "orientation": "v",
         "showlegend": true,
         "type": "scatter",
         "x": [
          256,
          512,
          1000
         ],
         "xaxis": "x",
         "y": [
          0.4103514552116394,
          0.7687098979949951,
          1.7474267482757568
         ],
         "yaxis": "y"
        },
        {
         "hovertemplate": "Layer-Head=Layer 1-Head 5<br>Checkpoint=%{x}<br>Self Repair Score=%{y}<extra></extra>",
         "legendgroup": "Layer 1-Head 5",
         "line": {
          "color": "#B6E880",
          "dash": "solid"
         },
         "marker": {
          "symbol": "circle"
         },
         "mode": "lines",
         "name": "Layer 1-Head 5",
         "orientation": "v",
         "showlegend": true,
         "type": "scatter",
         "x": [
          256,
          512,
          1000
         ],
         "xaxis": "x",
         "y": [
          1.2341625690460205,
          0.7514171600341797,
          0.06991809606552124
         ],
         "yaxis": "y"
        },
        {
         "hovertemplate": "Layer-Head=Layer 1-Head 6<br>Checkpoint=%{x}<br>Self Repair Score=%{y}<extra></extra>",
         "legendgroup": "Layer 1-Head 6",
         "line": {
          "color": "#FF97FF",
          "dash": "solid"
         },
         "marker": {
          "symbol": "circle"
         },
         "mode": "lines",
         "name": "Layer 1-Head 6",
         "orientation": "v",
         "showlegend": true,
         "type": "scatter",
         "x": [
          256,
          512,
          1000
         ],
         "xaxis": "x",
         "y": [
          0.5987066626548767,
          0.5304509997367859,
          -2.455838441848755
         ],
         "yaxis": "y"
        },
        {
         "hovertemplate": "Layer-Head=Layer 1-Head 7<br>Checkpoint=%{x}<br>Self Repair Score=%{y}<extra></extra>",
         "legendgroup": "Layer 1-Head 7",
         "line": {
          "color": "#FECB52",
          "dash": "solid"
         },
         "marker": {
          "symbol": "circle"
         },
         "mode": "lines",
         "name": "Layer 1-Head 7",
         "orientation": "v",
         "showlegend": true,
         "type": "scatter",
         "x": [
          256,
          512,
          1000
         ],
         "xaxis": "x",
         "y": [
          0.6745951175689697,
          0.12881696224212646,
          -0.050156451761722565
         ],
         "yaxis": "y"
        },
        {
         "hovertemplate": "Layer-Head=Layer 1-Head 8<br>Checkpoint=%{x}<br>Self Repair Score=%{y}<extra></extra>",
         "legendgroup": "Layer 1-Head 8",
         "line": {
          "color": "#636efa",
          "dash": "solid"
         },
         "marker": {
          "symbol": "circle"
         },
         "mode": "lines",
         "name": "Layer 1-Head 8",
         "orientation": "v",
         "showlegend": true,
         "type": "scatter",
         "x": [
          256,
          512,
          1000
         ],
         "xaxis": "x",
         "y": [
          1.0330231189727783,
          0.8092206716537476,
          0.8141606450080872
         ],
         "yaxis": "y"
        },
        {
         "hovertemplate": "Layer-Head=Layer 1-Head 9<br>Checkpoint=%{x}<br>Self Repair Score=%{y}<extra></extra>",
         "legendgroup": "Layer 1-Head 9",
         "line": {
          "color": "#EF553B",
          "dash": "solid"
         },
         "marker": {
          "symbol": "circle"
         },
         "mode": "lines",
         "name": "Layer 1-Head 9",
         "orientation": "v",
         "showlegend": true,
         "type": "scatter",
         "x": [
          256,
          512,
          1000
         ],
         "xaxis": "x",
         "y": [
          1.5375268459320068,
          0.04158903658390045,
          -0.7289376854896545
         ],
         "yaxis": "y"
        },
        {
         "hovertemplate": "Layer-Head=Layer 1-Head 10<br>Checkpoint=%{x}<br>Self Repair Score=%{y}<extra></extra>",
         "legendgroup": "Layer 1-Head 10",
         "line": {
          "color": "#00cc96",
          "dash": "solid"
         },
         "marker": {
          "symbol": "circle"
         },
         "mode": "lines",
         "name": "Layer 1-Head 10",
         "orientation": "v",
         "showlegend": true,
         "type": "scatter",
         "x": [
          256,
          512,
          1000
         ],
         "xaxis": "x",
         "y": [
          1.0783387422561646,
          0.6019458174705505,
          0.3235618472099304
         ],
         "yaxis": "y"
        },
        {
         "hovertemplate": "Layer-Head=Layer 1-Head 11<br>Checkpoint=%{x}<br>Self Repair Score=%{y}<extra></extra>",
         "legendgroup": "Layer 1-Head 11",
         "line": {
          "color": "#ab63fa",
          "dash": "solid"
         },
         "marker": {
          "symbol": "circle"
         },
         "mode": "lines",
         "name": "Layer 1-Head 11",
         "orientation": "v",
         "showlegend": true,
         "type": "scatter",
         "x": [
          256,
          512,
          1000
         ],
         "xaxis": "x",
         "y": [
          1.2820103168487549,
          -0.024846332147717476,
          0.6728001236915588
         ],
         "yaxis": "y"
        },
        {
         "hovertemplate": "Layer-Head=Layer 2-Head 0<br>Checkpoint=%{x}<br>Self Repair Score=%{y}<extra></extra>",
         "legendgroup": "Layer 2-Head 0",
         "line": {
          "color": "#FFA15A",
          "dash": "solid"
         },
         "marker": {
          "symbol": "circle"
         },
         "mode": "lines",
         "name": "Layer 2-Head 0",
         "orientation": "v",
         "showlegend": true,
         "type": "scatter",
         "x": [
          256,
          512,
          1000
         ],
         "xaxis": "x",
         "y": [
          0.6434048414230347,
          -0.03565121814608574,
          0.6079283952713013
         ],
         "yaxis": "y"
        },
        {
         "hovertemplate": "Layer-Head=Layer 2-Head 1<br>Checkpoint=%{x}<br>Self Repair Score=%{y}<extra></extra>",
         "legendgroup": "Layer 2-Head 1",
         "line": {
          "color": "#19d3f3",
          "dash": "solid"
         },
         "marker": {
          "symbol": "circle"
         },
         "mode": "lines",
         "name": "Layer 2-Head 1",
         "orientation": "v",
         "showlegend": true,
         "type": "scatter",
         "x": [
          256,
          512,
          1000
         ],
         "xaxis": "x",
         "y": [
          0.8591886758804321,
          -1.0763940811157227,
          -0.6494466662406921
         ],
         "yaxis": "y"
        },
        {
         "hovertemplate": "Layer-Head=Layer 2-Head 2<br>Checkpoint=%{x}<br>Self Repair Score=%{y}<extra></extra>",
         "legendgroup": "Layer 2-Head 2",
         "line": {
          "color": "#FF6692",
          "dash": "solid"
         },
         "marker": {
          "symbol": "circle"
         },
         "mode": "lines",
         "name": "Layer 2-Head 2",
         "orientation": "v",
         "showlegend": true,
         "type": "scatter",
         "x": [
          256,
          512,
          1000
         ],
         "xaxis": "x",
         "y": [
          0.6692618131637573,
          0.19103175401687622,
          0.10125497728586197
         ],
         "yaxis": "y"
        },
        {
         "hovertemplate": "Layer-Head=Layer 2-Head 3<br>Checkpoint=%{x}<br>Self Repair Score=%{y}<extra></extra>",
         "legendgroup": "Layer 2-Head 3",
         "line": {
          "color": "#B6E880",
          "dash": "solid"
         },
         "marker": {
          "symbol": "circle"
         },
         "mode": "lines",
         "name": "Layer 2-Head 3",
         "orientation": "v",
         "showlegend": true,
         "type": "scatter",
         "x": [
          256,
          512,
          1000
         ],
         "xaxis": "x",
         "y": [
          1.112844705581665,
          -0.3710038661956787,
          0.01583094894886017
         ],
         "yaxis": "y"
        },
        {
         "hovertemplate": "Layer-Head=Layer 2-Head 4<br>Checkpoint=%{x}<br>Self Repair Score=%{y}<extra></extra>",
         "legendgroup": "Layer 2-Head 4",
         "line": {
          "color": "#FF97FF",
          "dash": "solid"
         },
         "marker": {
          "symbol": "circle"
         },
         "mode": "lines",
         "name": "Layer 2-Head 4",
         "orientation": "v",
         "showlegend": true,
         "type": "scatter",
         "x": [
          256,
          512,
          1000
         ],
         "xaxis": "x",
         "y": [
          0.1319841891527176,
          0.28498467803001404,
          0.716423749923706
         ],
         "yaxis": "y"
        },
        {
         "hovertemplate": "Layer-Head=Layer 2-Head 5<br>Checkpoint=%{x}<br>Self Repair Score=%{y}<extra></extra>",
         "legendgroup": "Layer 2-Head 5",
         "line": {
          "color": "#FECB52",
          "dash": "solid"
         },
         "marker": {
          "symbol": "circle"
         },
         "mode": "lines",
         "name": "Layer 2-Head 5",
         "orientation": "v",
         "showlegend": true,
         "type": "scatter",
         "x": [
          256,
          512,
          1000
         ],
         "xaxis": "x",
         "y": [
          -1.3875081539154053,
          -2.4028944969177246,
          0.19952242076396942
         ],
         "yaxis": "y"
        },
        {
         "hovertemplate": "Layer-Head=Layer 2-Head 6<br>Checkpoint=%{x}<br>Self Repair Score=%{y}<extra></extra>",
         "legendgroup": "Layer 2-Head 6",
         "line": {
          "color": "#636efa",
          "dash": "solid"
         },
         "marker": {
          "symbol": "circle"
         },
         "mode": "lines",
         "name": "Layer 2-Head 6",
         "orientation": "v",
         "showlegend": true,
         "type": "scatter",
         "x": [
          256,
          512,
          1000
         ],
         "xaxis": "x",
         "y": [
          -0.2933403253555298,
          -1.4831125736236572,
          -0.2498401403427124
         ],
         "yaxis": "y"
        },
        {
         "hovertemplate": "Layer-Head=Layer 2-Head 7<br>Checkpoint=%{x}<br>Self Repair Score=%{y}<extra></extra>",
         "legendgroup": "Layer 2-Head 7",
         "line": {
          "color": "#EF553B",
          "dash": "solid"
         },
         "marker": {
          "symbol": "circle"
         },
         "mode": "lines",
         "name": "Layer 2-Head 7",
         "orientation": "v",
         "showlegend": true,
         "type": "scatter",
         "x": [
          256,
          512,
          1000
         ],
         "xaxis": "x",
         "y": [
          1.3895014524459839,
          -0.9500623941421509,
          0.2550419270992279
         ],
         "yaxis": "y"
        },
        {
         "hovertemplate": "Layer-Head=Layer 2-Head 8<br>Checkpoint=%{x}<br>Self Repair Score=%{y}<extra></extra>",
         "legendgroup": "Layer 2-Head 8",
         "line": {
          "color": "#00cc96",
          "dash": "solid"
         },
         "marker": {
          "symbol": "circle"
         },
         "mode": "lines",
         "name": "Layer 2-Head 8",
         "orientation": "v",
         "showlegend": true,
         "type": "scatter",
         "x": [
          256,
          512,
          1000
         ],
         "xaxis": "x",
         "y": [
          0.48174116015434265,
          -0.38145536184310913,
          0.3054335415363312
         ],
         "yaxis": "y"
        },
        {
         "hovertemplate": "Layer-Head=Layer 2-Head 9<br>Checkpoint=%{x}<br>Self Repair Score=%{y}<extra></extra>",
         "legendgroup": "Layer 2-Head 9",
         "line": {
          "color": "#ab63fa",
          "dash": "solid"
         },
         "marker": {
          "symbol": "circle"
         },
         "mode": "lines",
         "name": "Layer 2-Head 9",
         "orientation": "v",
         "showlegend": true,
         "type": "scatter",
         "x": [
          256,
          512,
          1000
         ],
         "xaxis": "x",
         "y": [
          0.44521573185920715,
          -0.008248276077210903,
          -0.24614214897155762
         ],
         "yaxis": "y"
        },
        {
         "hovertemplate": "Layer-Head=Layer 2-Head 10<br>Checkpoint=%{x}<br>Self Repair Score=%{y}<extra></extra>",
         "legendgroup": "Layer 2-Head 10",
         "line": {
          "color": "#FFA15A",
          "dash": "solid"
         },
         "marker": {
          "symbol": "circle"
         },
         "mode": "lines",
         "name": "Layer 2-Head 10",
         "orientation": "v",
         "showlegend": true,
         "type": "scatter",
         "x": [
          256,
          512,
          1000
         ],
         "xaxis": "x",
         "y": [
          0.7241322994232178,
          -0.3246258795261383,
          0.08674189448356628
         ],
         "yaxis": "y"
        },
        {
         "hovertemplate": "Layer-Head=Layer 2-Head 11<br>Checkpoint=%{x}<br>Self Repair Score=%{y}<extra></extra>",
         "legendgroup": "Layer 2-Head 11",
         "line": {
          "color": "#19d3f3",
          "dash": "solid"
         },
         "marker": {
          "symbol": "circle"
         },
         "mode": "lines",
         "name": "Layer 2-Head 11",
         "orientation": "v",
         "showlegend": true,
         "type": "scatter",
         "x": [
          256,
          512,
          1000
         ],
         "xaxis": "x",
         "y": [
          -0.18100520968437195,
          -3.3381662368774414,
          -0.5570475459098816
         ],
         "yaxis": "y"
        },
        {
         "hovertemplate": "Layer-Head=Layer 3-Head 0<br>Checkpoint=%{x}<br>Self Repair Score=%{y}<extra></extra>",
         "legendgroup": "Layer 3-Head 0",
         "line": {
          "color": "#FF6692",
          "dash": "solid"
         },
         "marker": {
          "symbol": "circle"
         },
         "mode": "lines",
         "name": "Layer 3-Head 0",
         "orientation": "v",
         "showlegend": true,
         "type": "scatter",
         "x": [
          256,
          512,
          1000
         ],
         "xaxis": "x",
         "y": [
          -0.21406680345535278,
          -0.9871094226837158,
          -0.41097524762153625
         ],
         "yaxis": "y"
        },
        {
         "hovertemplate": "Layer-Head=Layer 3-Head 1<br>Checkpoint=%{x}<br>Self Repair Score=%{y}<extra></extra>",
         "legendgroup": "Layer 3-Head 1",
         "line": {
          "color": "#B6E880",
          "dash": "solid"
         },
         "marker": {
          "symbol": "circle"
         },
         "mode": "lines",
         "name": "Layer 3-Head 1",
         "orientation": "v",
         "showlegend": true,
         "type": "scatter",
         "x": [
          256,
          512,
          1000
         ],
         "xaxis": "x",
         "y": [
          8.220745086669922,
          -1.8733538389205933,
          0.15055479109287262
         ],
         "yaxis": "y"
        },
        {
         "hovertemplate": "Layer-Head=Layer 3-Head 2<br>Checkpoint=%{x}<br>Self Repair Score=%{y}<extra></extra>",
         "legendgroup": "Layer 3-Head 2",
         "line": {
          "color": "#FF97FF",
          "dash": "solid"
         },
         "marker": {
          "symbol": "circle"
         },
         "mode": "lines",
         "name": "Layer 3-Head 2",
         "orientation": "v",
         "showlegend": true,
         "type": "scatter",
         "x": [
          256,
          512,
          1000
         ],
         "xaxis": "x",
         "y": [
          -1.4054654836654663,
          -2.2804999351501465,
          -3.7746968269348145
         ],
         "yaxis": "y"
        },
        {
         "hovertemplate": "Layer-Head=Layer 3-Head 3<br>Checkpoint=%{x}<br>Self Repair Score=%{y}<extra></extra>",
         "legendgroup": "Layer 3-Head 3",
         "line": {
          "color": "#FECB52",
          "dash": "solid"
         },
         "marker": {
          "symbol": "circle"
         },
         "mode": "lines",
         "name": "Layer 3-Head 3",
         "orientation": "v",
         "showlegend": true,
         "type": "scatter",
         "x": [
          256,
          512,
          1000
         ],
         "xaxis": "x",
         "y": [
          1.4704787731170654,
          0.8536860942840576,
          1.192244052886963
         ],
         "yaxis": "y"
        },
        {
         "hovertemplate": "Layer-Head=Layer 3-Head 4<br>Checkpoint=%{x}<br>Self Repair Score=%{y}<extra></extra>",
         "legendgroup": "Layer 3-Head 4",
         "line": {
          "color": "#636efa",
          "dash": "solid"
         },
         "marker": {
          "symbol": "circle"
         },
         "mode": "lines",
         "name": "Layer 3-Head 4",
         "orientation": "v",
         "showlegend": true,
         "type": "scatter",
         "x": [
          256,
          512,
          1000
         ],
         "xaxis": "x",
         "y": [
          -0.4184625446796417,
          -1.2619550228118896,
          -2.0389041900634766
         ],
         "yaxis": "y"
        },
        {
         "hovertemplate": "Layer-Head=Layer 3-Head 5<br>Checkpoint=%{x}<br>Self Repair Score=%{y}<extra></extra>",
         "legendgroup": "Layer 3-Head 5",
         "line": {
          "color": "#EF553B",
          "dash": "solid"
         },
         "marker": {
          "symbol": "circle"
         },
         "mode": "lines",
         "name": "Layer 3-Head 5",
         "orientation": "v",
         "showlegend": true,
         "type": "scatter",
         "x": [
          256,
          512,
          1000
         ],
         "xaxis": "x",
         "y": [
          -2.531625747680664,
          -0.07617490738630295,
          0.9084293842315674
         ],
         "yaxis": "y"
        },
        {
         "hovertemplate": "Layer-Head=Layer 3-Head 6<br>Checkpoint=%{x}<br>Self Repair Score=%{y}<extra></extra>",
         "legendgroup": "Layer 3-Head 6",
         "line": {
          "color": "#00cc96",
          "dash": "solid"
         },
         "marker": {
          "symbol": "circle"
         },
         "mode": "lines",
         "name": "Layer 3-Head 6",
         "orientation": "v",
         "showlegend": true,
         "type": "scatter",
         "x": [
          256,
          512,
          1000
         ],
         "xaxis": "x",
         "y": [
          0.7098510265350342,
          0.6783162355422974,
          0.6873812079429626
         ],
         "yaxis": "y"
        },
        {
         "hovertemplate": "Layer-Head=Layer 3-Head 7<br>Checkpoint=%{x}<br>Self Repair Score=%{y}<extra></extra>",
         "legendgroup": "Layer 3-Head 7",
         "line": {
          "color": "#ab63fa",
          "dash": "solid"
         },
         "marker": {
          "symbol": "circle"
         },
         "mode": "lines",
         "name": "Layer 3-Head 7",
         "orientation": "v",
         "showlegend": true,
         "type": "scatter",
         "x": [
          256,
          512,
          1000
         ],
         "xaxis": "x",
         "y": [
          -0.0793718621134758,
          4.185853958129883,
          0.9975298047065735
         ],
         "yaxis": "y"
        },
        {
         "hovertemplate": "Layer-Head=Layer 3-Head 8<br>Checkpoint=%{x}<br>Self Repair Score=%{y}<extra></extra>",
         "legendgroup": "Layer 3-Head 8",
         "line": {
          "color": "#FFA15A",
          "dash": "solid"
         },
         "marker": {
          "symbol": "circle"
         },
         "mode": "lines",
         "name": "Layer 3-Head 8",
         "orientation": "v",
         "showlegend": true,
         "type": "scatter",
         "x": [
          256,
          512,
          1000
         ],
         "xaxis": "x",
         "y": [
          1.7300610542297363,
          -0.9937378168106079,
          0.19119876623153687
         ],
         "yaxis": "y"
        },
        {
         "hovertemplate": "Layer-Head=Layer 3-Head 9<br>Checkpoint=%{x}<br>Self Repair Score=%{y}<extra></extra>",
         "legendgroup": "Layer 3-Head 9",
         "line": {
          "color": "#19d3f3",
          "dash": "solid"
         },
         "marker": {
          "symbol": "circle"
         },
         "mode": "lines",
         "name": "Layer 3-Head 9",
         "orientation": "v",
         "showlegend": true,
         "type": "scatter",
         "x": [
          256,
          512,
          1000
         ],
         "xaxis": "x",
         "y": [
          -14.123698234558105,
          -1.0987862348556519,
          -0.16787467896938324
         ],
         "yaxis": "y"
        },
        {
         "hovertemplate": "Layer-Head=Layer 3-Head 10<br>Checkpoint=%{x}<br>Self Repair Score=%{y}<extra></extra>",
         "legendgroup": "Layer 3-Head 10",
         "line": {
          "color": "#FF6692",
          "dash": "solid"
         },
         "marker": {
          "symbol": "circle"
         },
         "mode": "lines",
         "name": "Layer 3-Head 10",
         "orientation": "v",
         "showlegend": true,
         "type": "scatter",
         "x": [
          256,
          512,
          1000
         ],
         "xaxis": "x",
         "y": [
          1.8713899850845337,
          0.08482009917497635,
          0.4671388268470764
         ],
         "yaxis": "y"
        },
        {
         "hovertemplate": "Layer-Head=Layer 3-Head 11<br>Checkpoint=%{x}<br>Self Repair Score=%{y}<extra></extra>",
         "legendgroup": "Layer 3-Head 11",
         "line": {
          "color": "#B6E880",
          "dash": "solid"
         },
         "marker": {
          "symbol": "circle"
         },
         "mode": "lines",
         "name": "Layer 3-Head 11",
         "orientation": "v",
         "showlegend": true,
         "type": "scatter",
         "x": [
          256,
          512,
          1000
         ],
         "xaxis": "x",
         "y": [
          -0.3212703764438629,
          -0.18670754134655,
          0.10922730714082718
         ],
         "yaxis": "y"
        },
        {
         "hovertemplate": "Layer-Head=Layer 4-Head 0<br>Checkpoint=%{x}<br>Self Repair Score=%{y}<extra></extra>",
         "legendgroup": "Layer 4-Head 0",
         "line": {
          "color": "#FF97FF",
          "dash": "solid"
         },
         "marker": {
          "symbol": "circle"
         },
         "mode": "lines",
         "name": "Layer 4-Head 0",
         "orientation": "v",
         "showlegend": true,
         "type": "scatter",
         "x": [
          256,
          512,
          1000
         ],
         "xaxis": "x",
         "y": [
          1.292636513710022,
          2.992417812347412,
          -0.055359482765197754
         ],
         "yaxis": "y"
        },
        {
         "hovertemplate": "Layer-Head=Layer 4-Head 1<br>Checkpoint=%{x}<br>Self Repair Score=%{y}<extra></extra>",
         "legendgroup": "Layer 4-Head 1",
         "line": {
          "color": "#FECB52",
          "dash": "solid"
         },
         "marker": {
          "symbol": "circle"
         },
         "mode": "lines",
         "name": "Layer 4-Head 1",
         "orientation": "v",
         "showlegend": true,
         "type": "scatter",
         "x": [
          256,
          512,
          1000
         ],
         "xaxis": "x",
         "y": [
          -2.871042251586914,
          -2.941021680831909,
          0.47943297028541565
         ],
         "yaxis": "y"
        },
        {
         "hovertemplate": "Layer-Head=Layer 4-Head 2<br>Checkpoint=%{x}<br>Self Repair Score=%{y}<extra></extra>",
         "legendgroup": "Layer 4-Head 2",
         "line": {
          "color": "#636efa",
          "dash": "solid"
         },
         "marker": {
          "symbol": "circle"
         },
         "mode": "lines",
         "name": "Layer 4-Head 2",
         "orientation": "v",
         "showlegend": true,
         "type": "scatter",
         "x": [
          256,
          512,
          1000
         ],
         "xaxis": "x",
         "y": [
          0.35851171612739563,
          -5.970757961273193,
          0.08151835203170776
         ],
         "yaxis": "y"
        },
        {
         "hovertemplate": "Layer-Head=Layer 4-Head 3<br>Checkpoint=%{x}<br>Self Repair Score=%{y}<extra></extra>",
         "legendgroup": "Layer 4-Head 3",
         "line": {
          "color": "#EF553B",
          "dash": "solid"
         },
         "marker": {
          "symbol": "circle"
         },
         "mode": "lines",
         "name": "Layer 4-Head 3",
         "orientation": "v",
         "showlegend": true,
         "type": "scatter",
         "x": [
          256,
          512,
          1000
         ],
         "xaxis": "x",
         "y": [
          1.439645767211914,
          -2.509539842605591,
          0.21683673560619354
         ],
         "yaxis": "y"
        },
        {
         "hovertemplate": "Layer-Head=Layer 4-Head 4<br>Checkpoint=%{x}<br>Self Repair Score=%{y}<extra></extra>",
         "legendgroup": "Layer 4-Head 4",
         "line": {
          "color": "#00cc96",
          "dash": "solid"
         },
         "marker": {
          "symbol": "circle"
         },
         "mode": "lines",
         "name": "Layer 4-Head 4",
         "orientation": "v",
         "showlegend": true,
         "type": "scatter",
         "x": [
          256,
          512,
          1000
         ],
         "xaxis": "x",
         "y": [
          -0.09024792909622192,
          0.2226416915655136,
          0.1857190728187561
         ],
         "yaxis": "y"
        },
        {
         "hovertemplate": "Layer-Head=Layer 4-Head 5<br>Checkpoint=%{x}<br>Self Repair Score=%{y}<extra></extra>",
         "legendgroup": "Layer 4-Head 5",
         "line": {
          "color": "#ab63fa",
          "dash": "solid"
         },
         "marker": {
          "symbol": "circle"
         },
         "mode": "lines",
         "name": "Layer 4-Head 5",
         "orientation": "v",
         "showlegend": true,
         "type": "scatter",
         "x": [
          256,
          512,
          1000
         ],
         "xaxis": "x",
         "y": [
          4.849526405334473,
          -3.890866994857788,
          -0.49571576714515686
         ],
         "yaxis": "y"
        },
        {
         "hovertemplate": "Layer-Head=Layer 4-Head 6<br>Checkpoint=%{x}<br>Self Repair Score=%{y}<extra></extra>",
         "legendgroup": "Layer 4-Head 6",
         "line": {
          "color": "#FFA15A",
          "dash": "solid"
         },
         "marker": {
          "symbol": "circle"
         },
         "mode": "lines",
         "name": "Layer 4-Head 6",
         "orientation": "v",
         "showlegend": true,
         "type": "scatter",
         "x": [
          256,
          512,
          1000
         ],
         "xaxis": "x",
         "y": [
          -1.3446112871170044,
          -0.5709289908409119,
          0.3367098569869995
         ],
         "yaxis": "y"
        },
        {
         "hovertemplate": "Layer-Head=Layer 4-Head 7<br>Checkpoint=%{x}<br>Self Repair Score=%{y}<extra></extra>",
         "legendgroup": "Layer 4-Head 7",
         "line": {
          "color": "#19d3f3",
          "dash": "solid"
         },
         "marker": {
          "symbol": "circle"
         },
         "mode": "lines",
         "name": "Layer 4-Head 7",
         "orientation": "v",
         "showlegend": true,
         "type": "scatter",
         "x": [
          256,
          512,
          1000
         ],
         "xaxis": "x",
         "y": [
          0.46244725584983826,
          0.5749576091766357,
          -0.005662203766405582
         ],
         "yaxis": "y"
        },
        {
         "hovertemplate": "Layer-Head=Layer 4-Head 8<br>Checkpoint=%{x}<br>Self Repair Score=%{y}<extra></extra>",
         "legendgroup": "Layer 4-Head 8",
         "line": {
          "color": "#FF6692",
          "dash": "solid"
         },
         "marker": {
          "symbol": "circle"
         },
         "mode": "lines",
         "name": "Layer 4-Head 8",
         "orientation": "v",
         "showlegend": true,
         "type": "scatter",
         "x": [
          256,
          512,
          1000
         ],
         "xaxis": "x",
         "y": [
          1.0267361402511597,
          2.765418291091919,
          0.15301275253295898
         ],
         "yaxis": "y"
        },
        {
         "hovertemplate": "Layer-Head=Layer 4-Head 9<br>Checkpoint=%{x}<br>Self Repair Score=%{y}<extra></extra>",
         "legendgroup": "Layer 4-Head 9",
         "line": {
          "color": "#B6E880",
          "dash": "solid"
         },
         "marker": {
          "symbol": "circle"
         },
         "mode": "lines",
         "name": "Layer 4-Head 9",
         "orientation": "v",
         "showlegend": true,
         "type": "scatter",
         "x": [
          256,
          512,
          1000
         ],
         "xaxis": "x",
         "y": [
          1.1677982807159424,
          -2.092636823654175,
          0.14225740730762482
         ],
         "yaxis": "y"
        },
        {
         "hovertemplate": "Layer-Head=Layer 4-Head 10<br>Checkpoint=%{x}<br>Self Repair Score=%{y}<extra></extra>",
         "legendgroup": "Layer 4-Head 10",
         "line": {
          "color": "#FF97FF",
          "dash": "solid"
         },
         "marker": {
          "symbol": "circle"
         },
         "mode": "lines",
         "name": "Layer 4-Head 10",
         "orientation": "v",
         "showlegend": true,
         "type": "scatter",
         "x": [
          256,
          512,
          1000
         ],
         "xaxis": "x",
         "y": [
          1.1570308208465576,
          -3.171882152557373,
          0.2050563097000122
         ],
         "yaxis": "y"
        },
        {
         "hovertemplate": "Layer-Head=Layer 4-Head 11<br>Checkpoint=%{x}<br>Self Repair Score=%{y}<extra></extra>",
         "legendgroup": "Layer 4-Head 11",
         "line": {
          "color": "#FECB52",
          "dash": "solid"
         },
         "marker": {
          "symbol": "circle"
         },
         "mode": "lines",
         "name": "Layer 4-Head 11",
         "orientation": "v",
         "showlegend": true,
         "type": "scatter",
         "x": [
          256,
          512,
          1000
         ],
         "xaxis": "x",
         "y": [
          0.8838509321212769,
          -0.6689593195915222,
          0.1499008685350418
         ],
         "yaxis": "y"
        },
        {
         "hovertemplate": "Layer-Head=Layer 5-Head 0<br>Checkpoint=%{x}<br>Self Repair Score=%{y}<extra></extra>",
         "legendgroup": "Layer 5-Head 0",
         "line": {
          "color": "#636efa",
          "dash": "solid"
         },
         "marker": {
          "symbol": "circle"
         },
         "mode": "lines",
         "name": "Layer 5-Head 0",
         "orientation": "v",
         "showlegend": true,
         "type": "scatter",
         "x": [
          256,
          512,
          1000
         ],
         "xaxis": "x",
         "y": [
          -0.3281202018260956,
          0.8207066059112549,
          1.7258124351501465
         ],
         "yaxis": "y"
        },
        {
         "hovertemplate": "Layer-Head=Layer 5-Head 1<br>Checkpoint=%{x}<br>Self Repair Score=%{y}<extra></extra>",
         "legendgroup": "Layer 5-Head 1",
         "line": {
          "color": "#EF553B",
          "dash": "solid"
         },
         "marker": {
          "symbol": "circle"
         },
         "mode": "lines",
         "name": "Layer 5-Head 1",
         "orientation": "v",
         "showlegend": true,
         "type": "scatter",
         "x": [
          256,
          512,
          1000
         ],
         "xaxis": "x",
         "y": [
          1.2886412143707275,
          1.2937110662460327,
          0.4648109972476959
         ],
         "yaxis": "y"
        },
        {
         "hovertemplate": "Layer-Head=Layer 5-Head 2<br>Checkpoint=%{x}<br>Self Repair Score=%{y}<extra></extra>",
         "legendgroup": "Layer 5-Head 2",
         "line": {
          "color": "#00cc96",
          "dash": "solid"
         },
         "marker": {
          "symbol": "circle"
         },
         "mode": "lines",
         "name": "Layer 5-Head 2",
         "orientation": "v",
         "showlegend": true,
         "type": "scatter",
         "x": [
          256,
          512,
          1000
         ],
         "xaxis": "x",
         "y": [
          0.7465286254882812,
          -1.393649697303772,
          -1.88669753074646
         ],
         "yaxis": "y"
        },
        {
         "hovertemplate": "Layer-Head=Layer 5-Head 3<br>Checkpoint=%{x}<br>Self Repair Score=%{y}<extra></extra>",
         "legendgroup": "Layer 5-Head 3",
         "line": {
          "color": "#ab63fa",
          "dash": "solid"
         },
         "marker": {
          "symbol": "circle"
         },
         "mode": "lines",
         "name": "Layer 5-Head 3",
         "orientation": "v",
         "showlegend": true,
         "type": "scatter",
         "x": [
          256,
          512,
          1000
         ],
         "xaxis": "x",
         "y": [
          2.0228543281555176,
          1.0298875570297241,
          0.3848433196544647
         ],
         "yaxis": "y"
        },
        {
         "hovertemplate": "Layer-Head=Layer 5-Head 4<br>Checkpoint=%{x}<br>Self Repair Score=%{y}<extra></extra>",
         "legendgroup": "Layer 5-Head 4",
         "line": {
          "color": "#FFA15A",
          "dash": "solid"
         },
         "marker": {
          "symbol": "circle"
         },
         "mode": "lines",
         "name": "Layer 5-Head 4",
         "orientation": "v",
         "showlegend": true,
         "type": "scatter",
         "x": [
          256,
          512,
          1000
         ],
         "xaxis": "x",
         "y": [
          0.9287620782852173,
          0.7919294834136963,
          -0.013090699911117554
         ],
         "yaxis": "y"
        },
        {
         "hovertemplate": "Layer-Head=Layer 5-Head 5<br>Checkpoint=%{x}<br>Self Repair Score=%{y}<extra></extra>",
         "legendgroup": "Layer 5-Head 5",
         "line": {
          "color": "#19d3f3",
          "dash": "solid"
         },
         "marker": {
          "symbol": "circle"
         },
         "mode": "lines",
         "name": "Layer 5-Head 5",
         "orientation": "v",
         "showlegend": true,
         "type": "scatter",
         "x": [
          256,
          512,
          1000
         ],
         "xaxis": "x",
         "y": [
          0.6077439785003662,
          0.317332923412323,
          0.7416663765907288
         ],
         "yaxis": "y"
        },
        {
         "hovertemplate": "Layer-Head=Layer 5-Head 6<br>Checkpoint=%{x}<br>Self Repair Score=%{y}<extra></extra>",
         "legendgroup": "Layer 5-Head 6",
         "line": {
          "color": "#FF6692",
          "dash": "solid"
         },
         "marker": {
          "symbol": "circle"
         },
         "mode": "lines",
         "name": "Layer 5-Head 6",
         "orientation": "v",
         "showlegend": true,
         "type": "scatter",
         "x": [
          256,
          512,
          1000
         ],
         "xaxis": "x",
         "y": [
          1.715946078300476,
          -0.07120251655578613,
          -0.13638156652450562
         ],
         "yaxis": "y"
        },
        {
         "hovertemplate": "Layer-Head=Layer 5-Head 7<br>Checkpoint=%{x}<br>Self Repair Score=%{y}<extra></extra>",
         "legendgroup": "Layer 5-Head 7",
         "line": {
          "color": "#B6E880",
          "dash": "solid"
         },
         "marker": {
          "symbol": "circle"
         },
         "mode": "lines",
         "name": "Layer 5-Head 7",
         "orientation": "v",
         "showlegend": true,
         "type": "scatter",
         "x": [
          256,
          512,
          1000
         ],
         "xaxis": "x",
         "y": [
          0.31302374601364136,
          0.6392943859100342,
          1.1036382913589478
         ],
         "yaxis": "y"
        },
        {
         "hovertemplate": "Layer-Head=Layer 5-Head 8<br>Checkpoint=%{x}<br>Self Repair Score=%{y}<extra></extra>",
         "legendgroup": "Layer 5-Head 8",
         "line": {
          "color": "#FF97FF",
          "dash": "solid"
         },
         "marker": {
          "symbol": "circle"
         },
         "mode": "lines",
         "name": "Layer 5-Head 8",
         "orientation": "v",
         "showlegend": true,
         "type": "scatter",
         "x": [
          256,
          512,
          1000
         ],
         "xaxis": "x",
         "y": [
          -0.5047441124916077,
          0.23173032701015472,
          -0.1836385279893875
         ],
         "yaxis": "y"
        },
        {
         "hovertemplate": "Layer-Head=Layer 5-Head 9<br>Checkpoint=%{x}<br>Self Repair Score=%{y}<extra></extra>",
         "legendgroup": "Layer 5-Head 9",
         "line": {
          "color": "#FECB52",
          "dash": "solid"
         },
         "marker": {
          "symbol": "circle"
         },
         "mode": "lines",
         "name": "Layer 5-Head 9",
         "orientation": "v",
         "showlegend": true,
         "type": "scatter",
         "x": [
          256,
          512,
          1000
         ],
         "xaxis": "x",
         "y": [
          1.2930455207824707,
          11.83407974243164,
          0.36290842294692993
         ],
         "yaxis": "y"
        },
        {
         "hovertemplate": "Layer-Head=Layer 5-Head 10<br>Checkpoint=%{x}<br>Self Repair Score=%{y}<extra></extra>",
         "legendgroup": "Layer 5-Head 10",
         "line": {
          "color": "#636efa",
          "dash": "solid"
         },
         "marker": {
          "symbol": "circle"
         },
         "mode": "lines",
         "name": "Layer 5-Head 10",
         "orientation": "v",
         "showlegend": true,
         "type": "scatter",
         "x": [
          256,
          512,
          1000
         ],
         "xaxis": "x",
         "y": [
          1.3298641443252563,
          -0.3130551874637604,
          -0.02489747852087021
         ],
         "yaxis": "y"
        },
        {
         "hovertemplate": "Layer-Head=Layer 5-Head 11<br>Checkpoint=%{x}<br>Self Repair Score=%{y}<extra></extra>",
         "legendgroup": "Layer 5-Head 11",
         "line": {
          "color": "#EF553B",
          "dash": "solid"
         },
         "marker": {
          "symbol": "circle"
         },
         "mode": "lines",
         "name": "Layer 5-Head 11",
         "orientation": "v",
         "showlegend": true,
         "type": "scatter",
         "x": [
          256,
          512,
          1000
         ],
         "xaxis": "x",
         "y": [
          3.2073147296905518,
          1.1102455854415894,
          1.7732570171356201
         ],
         "yaxis": "y"
        },
        {
         "hovertemplate": "Layer-Head=Layer 6-Head 0<br>Checkpoint=%{x}<br>Self Repair Score=%{y}<extra></extra>",
         "legendgroup": "Layer 6-Head 0",
         "line": {
          "color": "#00cc96",
          "dash": "solid"
         },
         "marker": {
          "symbol": "circle"
         },
         "mode": "lines",
         "name": "Layer 6-Head 0",
         "orientation": "v",
         "showlegend": true,
         "type": "scatter",
         "x": [
          256,
          512,
          1000
         ],
         "xaxis": "x",
         "y": [
          2.117673635482788,
          0.22590914368629456,
          -7.882071495056152
         ],
         "yaxis": "y"
        },
        {
         "hovertemplate": "Layer-Head=Layer 6-Head 1<br>Checkpoint=%{x}<br>Self Repair Score=%{y}<extra></extra>",
         "legendgroup": "Layer 6-Head 1",
         "line": {
          "color": "#ab63fa",
          "dash": "solid"
         },
         "marker": {
          "symbol": "circle"
         },
         "mode": "lines",
         "name": "Layer 6-Head 1",
         "orientation": "v",
         "showlegend": true,
         "type": "scatter",
         "x": [
          256,
          512,
          1000
         ],
         "xaxis": "x",
         "y": [
          0.5493417978286743,
          0.8060141205787659,
          0.8600578904151917
         ],
         "yaxis": "y"
        },
        {
         "hovertemplate": "Layer-Head=Layer 6-Head 2<br>Checkpoint=%{x}<br>Self Repair Score=%{y}<extra></extra>",
         "legendgroup": "Layer 6-Head 2",
         "line": {
          "color": "#FFA15A",
          "dash": "solid"
         },
         "marker": {
          "symbol": "circle"
         },
         "mode": "lines",
         "name": "Layer 6-Head 2",
         "orientation": "v",
         "showlegend": true,
         "type": "scatter",
         "x": [
          256,
          512,
          1000
         ],
         "xaxis": "x",
         "y": [
          -7.418001651763916,
          1.0479705333709717,
          0.7219153046607971
         ],
         "yaxis": "y"
        },
        {
         "hovertemplate": "Layer-Head=Layer 6-Head 3<br>Checkpoint=%{x}<br>Self Repair Score=%{y}<extra></extra>",
         "legendgroup": "Layer 6-Head 3",
         "line": {
          "color": "#19d3f3",
          "dash": "solid"
         },
         "marker": {
          "symbol": "circle"
         },
         "mode": "lines",
         "name": "Layer 6-Head 3",
         "orientation": "v",
         "showlegend": true,
         "type": "scatter",
         "x": [
          256,
          512,
          1000
         ],
         "xaxis": "x",
         "y": [
          0.9155080914497375,
          0.9541155695915222,
          0.7434514760971069
         ],
         "yaxis": "y"
        },
        {
         "hovertemplate": "Layer-Head=Layer 6-Head 4<br>Checkpoint=%{x}<br>Self Repair Score=%{y}<extra></extra>",
         "legendgroup": "Layer 6-Head 4",
         "line": {
          "color": "#FF6692",
          "dash": "solid"
         },
         "marker": {
          "symbol": "circle"
         },
         "mode": "lines",
         "name": "Layer 6-Head 4",
         "orientation": "v",
         "showlegend": true,
         "type": "scatter",
         "x": [
          256,
          512,
          1000
         ],
         "xaxis": "x",
         "y": [
          0.4486989676952362,
          0.2629796862602234,
          0.5080364346504211
         ],
         "yaxis": "y"
        },
        {
         "hovertemplate": "Layer-Head=Layer 6-Head 5<br>Checkpoint=%{x}<br>Self Repair Score=%{y}<extra></extra>",
         "legendgroup": "Layer 6-Head 5",
         "line": {
          "color": "#B6E880",
          "dash": "solid"
         },
         "marker": {
          "symbol": "circle"
         },
         "mode": "lines",
         "name": "Layer 6-Head 5",
         "orientation": "v",
         "showlegend": true,
         "type": "scatter",
         "x": [
          256,
          512,
          1000
         ],
         "xaxis": "x",
         "y": [
          2.353668689727783,
          0.9429120421409607,
          0.9883893132209778
         ],
         "yaxis": "y"
        },
        {
         "hovertemplate": "Layer-Head=Layer 6-Head 6<br>Checkpoint=%{x}<br>Self Repair Score=%{y}<extra></extra>",
         "legendgroup": "Layer 6-Head 6",
         "line": {
          "color": "#FF97FF",
          "dash": "solid"
         },
         "marker": {
          "symbol": "circle"
         },
         "mode": "lines",
         "name": "Layer 6-Head 6",
         "orientation": "v",
         "showlegend": true,
         "type": "scatter",
         "x": [
          256,
          512,
          1000
         ],
         "xaxis": "x",
         "y": [
          1.3913280963897705,
          -0.22837582230567932,
          0.18480284512043
         ],
         "yaxis": "y"
        },
        {
         "hovertemplate": "Layer-Head=Layer 6-Head 7<br>Checkpoint=%{x}<br>Self Repair Score=%{y}<extra></extra>",
         "legendgroup": "Layer 6-Head 7",
         "line": {
          "color": "#FECB52",
          "dash": "solid"
         },
         "marker": {
          "symbol": "circle"
         },
         "mode": "lines",
         "name": "Layer 6-Head 7",
         "orientation": "v",
         "showlegend": true,
         "type": "scatter",
         "x": [
          256,
          512,
          1000
         ],
         "xaxis": "x",
         "y": [
          0.48787567019462585,
          0.3648359775543213,
          0.9284432530403137
         ],
         "yaxis": "y"
        },
        {
         "hovertemplate": "Layer-Head=Layer 6-Head 8<br>Checkpoint=%{x}<br>Self Repair Score=%{y}<extra></extra>",
         "legendgroup": "Layer 6-Head 8",
         "line": {
          "color": "#636efa",
          "dash": "solid"
         },
         "marker": {
          "symbol": "circle"
         },
         "mode": "lines",
         "name": "Layer 6-Head 8",
         "orientation": "v",
         "showlegend": true,
         "type": "scatter",
         "x": [
          256,
          512,
          1000
         ],
         "xaxis": "x",
         "y": [
          1.019955039024353,
          1.180216670036316,
          3.376436233520508
         ],
         "yaxis": "y"
        },
        {
         "hovertemplate": "Layer-Head=Layer 6-Head 9<br>Checkpoint=%{x}<br>Self Repair Score=%{y}<extra></extra>",
         "legendgroup": "Layer 6-Head 9",
         "line": {
          "color": "#EF553B",
          "dash": "solid"
         },
         "marker": {
          "symbol": "circle"
         },
         "mode": "lines",
         "name": "Layer 6-Head 9",
         "orientation": "v",
         "showlegend": true,
         "type": "scatter",
         "x": [
          256,
          512,
          1000
         ],
         "xaxis": "x",
         "y": [
          1.0222996473312378,
          0.832761287689209,
          1.0473217964172363
         ],
         "yaxis": "y"
        },
        {
         "hovertemplate": "Layer-Head=Layer 6-Head 10<br>Checkpoint=%{x}<br>Self Repair Score=%{y}<extra></extra>",
         "legendgroup": "Layer 6-Head 10",
         "line": {
          "color": "#00cc96",
          "dash": "solid"
         },
         "marker": {
          "symbol": "circle"
         },
         "mode": "lines",
         "name": "Layer 6-Head 10",
         "orientation": "v",
         "showlegend": true,
         "type": "scatter",
         "x": [
          256,
          512,
          1000
         ],
         "xaxis": "x",
         "y": [
          1.3143138885498047,
          1.1885935068130493,
          1.1619242429733276
         ],
         "yaxis": "y"
        },
        {
         "hovertemplate": "Layer-Head=Layer 6-Head 11<br>Checkpoint=%{x}<br>Self Repair Score=%{y}<extra></extra>",
         "legendgroup": "Layer 6-Head 11",
         "line": {
          "color": "#ab63fa",
          "dash": "solid"
         },
         "marker": {
          "symbol": "circle"
         },
         "mode": "lines",
         "name": "Layer 6-Head 11",
         "orientation": "v",
         "showlegend": true,
         "type": "scatter",
         "x": [
          256,
          512,
          1000
         ],
         "xaxis": "x",
         "y": [
          1.306206226348877,
          -0.16109061241149902,
          2.3832192420959473
         ],
         "yaxis": "y"
        },
        {
         "hovertemplate": "Layer-Head=Layer 7-Head 0<br>Checkpoint=%{x}<br>Self Repair Score=%{y}<extra></extra>",
         "legendgroup": "Layer 7-Head 0",
         "line": {
          "color": "#FFA15A",
          "dash": "solid"
         },
         "marker": {
          "symbol": "circle"
         },
         "mode": "lines",
         "name": "Layer 7-Head 0",
         "orientation": "v",
         "showlegend": true,
         "type": "scatter",
         "x": [
          256,
          512,
          1000
         ],
         "xaxis": "x",
         "y": [
          0.7777344584465027,
          1.2216360569000244,
          0.8508824110031128
         ],
         "yaxis": "y"
        },
        {
         "hovertemplate": "Layer-Head=Layer 7-Head 1<br>Checkpoint=%{x}<br>Self Repair Score=%{y}<extra></extra>",
         "legendgroup": "Layer 7-Head 1",
         "line": {
          "color": "#19d3f3",
          "dash": "solid"
         },
         "marker": {
          "symbol": "circle"
         },
         "mode": "lines",
         "name": "Layer 7-Head 1",
         "orientation": "v",
         "showlegend": true,
         "type": "scatter",
         "x": [
          256,
          512,
          1000
         ],
         "xaxis": "x",
         "y": [
          2.372795820236206,
          1.1495511531829834,
          1.7527495622634888
         ],
         "yaxis": "y"
        },
        {
         "hovertemplate": "Layer-Head=Layer 7-Head 2<br>Checkpoint=%{x}<br>Self Repair Score=%{y}<extra></extra>",
         "legendgroup": "Layer 7-Head 2",
         "line": {
          "color": "#FF6692",
          "dash": "solid"
         },
         "marker": {
          "symbol": "circle"
         },
         "mode": "lines",
         "name": "Layer 7-Head 2",
         "orientation": "v",
         "showlegend": true,
         "type": "scatter",
         "x": [
          256,
          512,
          1000
         ],
         "xaxis": "x",
         "y": [
          0.6577338576316833,
          1.1167101860046387,
          0.9147747755050659
         ],
         "yaxis": "y"
        },
        {
         "hovertemplate": "Layer-Head=Layer 7-Head 3<br>Checkpoint=%{x}<br>Self Repair Score=%{y}<extra></extra>",
         "legendgroup": "Layer 7-Head 3",
         "line": {
          "color": "#B6E880",
          "dash": "solid"
         },
         "marker": {
          "symbol": "circle"
         },
         "mode": "lines",
         "name": "Layer 7-Head 3",
         "orientation": "v",
         "showlegend": true,
         "type": "scatter",
         "x": [
          256,
          512,
          1000
         ],
         "xaxis": "x",
         "y": [
          0.8004704713821411,
          1.2834711074829102,
          1.0165690183639526
         ],
         "yaxis": "y"
        },
        {
         "hovertemplate": "Layer-Head=Layer 7-Head 4<br>Checkpoint=%{x}<br>Self Repair Score=%{y}<extra></extra>",
         "legendgroup": "Layer 7-Head 4",
         "line": {
          "color": "#FF97FF",
          "dash": "solid"
         },
         "marker": {
          "symbol": "circle"
         },
         "mode": "lines",
         "name": "Layer 7-Head 4",
         "orientation": "v",
         "showlegend": true,
         "type": "scatter",
         "x": [
          256,
          512,
          1000
         ],
         "xaxis": "x",
         "y": [
          1.0641512870788574,
          2.5509352684020996,
          1.522046446800232
         ],
         "yaxis": "y"
        },
        {
         "hovertemplate": "Layer-Head=Layer 7-Head 5<br>Checkpoint=%{x}<br>Self Repair Score=%{y}<extra></extra>",
         "legendgroup": "Layer 7-Head 5",
         "line": {
          "color": "#FECB52",
          "dash": "solid"
         },
         "marker": {
          "symbol": "circle"
         },
         "mode": "lines",
         "name": "Layer 7-Head 5",
         "orientation": "v",
         "showlegend": true,
         "type": "scatter",
         "x": [
          256,
          512,
          1000
         ],
         "xaxis": "x",
         "y": [
          -1.0502102375030518,
          2.2736098766326904,
          0.7433738708496094
         ],
         "yaxis": "y"
        },
        {
         "hovertemplate": "Layer-Head=Layer 7-Head 6<br>Checkpoint=%{x}<br>Self Repair Score=%{y}<extra></extra>",
         "legendgroup": "Layer 7-Head 6",
         "line": {
          "color": "#636efa",
          "dash": "solid"
         },
         "marker": {
          "symbol": "circle"
         },
         "mode": "lines",
         "name": "Layer 7-Head 6",
         "orientation": "v",
         "showlegend": true,
         "type": "scatter",
         "x": [
          256,
          512,
          1000
         ],
         "xaxis": "x",
         "y": [
          1.9712250232696533,
          0.9964103102684021,
          0.9057057499885559
         ],
         "yaxis": "y"
        },
        {
         "hovertemplate": "Layer-Head=Layer 7-Head 7<br>Checkpoint=%{x}<br>Self Repair Score=%{y}<extra></extra>",
         "legendgroup": "Layer 7-Head 7",
         "line": {
          "color": "#EF553B",
          "dash": "solid"
         },
         "marker": {
          "symbol": "circle"
         },
         "mode": "lines",
         "name": "Layer 7-Head 7",
         "orientation": "v",
         "showlegend": true,
         "type": "scatter",
         "x": [
          256,
          512,
          1000
         ],
         "xaxis": "x",
         "y": [
          1.714082956314087,
          0.5578955411911011,
          0.9921530485153198
         ],
         "yaxis": "y"
        },
        {
         "hovertemplate": "Layer-Head=Layer 7-Head 8<br>Checkpoint=%{x}<br>Self Repair Score=%{y}<extra></extra>",
         "legendgroup": "Layer 7-Head 8",
         "line": {
          "color": "#00cc96",
          "dash": "solid"
         },
         "marker": {
          "symbol": "circle"
         },
         "mode": "lines",
         "name": "Layer 7-Head 8",
         "orientation": "v",
         "showlegend": true,
         "type": "scatter",
         "x": [
          256,
          512,
          1000
         ],
         "xaxis": "x",
         "y": [
          1.2641079425811768,
          0.23350809514522552,
          10.80573558807373
         ],
         "yaxis": "y"
        },
        {
         "hovertemplate": "Layer-Head=Layer 7-Head 9<br>Checkpoint=%{x}<br>Self Repair Score=%{y}<extra></extra>",
         "legendgroup": "Layer 7-Head 9",
         "line": {
          "color": "#ab63fa",
          "dash": "solid"
         },
         "marker": {
          "symbol": "circle"
         },
         "mode": "lines",
         "name": "Layer 7-Head 9",
         "orientation": "v",
         "showlegend": true,
         "type": "scatter",
         "x": [
          256,
          512,
          1000
         ],
         "xaxis": "x",
         "y": [
          1.8401583433151245,
          1.3020362854003906,
          1.1166130304336548
         ],
         "yaxis": "y"
        },
        {
         "hovertemplate": "Layer-Head=Layer 7-Head 10<br>Checkpoint=%{x}<br>Self Repair Score=%{y}<extra></extra>",
         "legendgroup": "Layer 7-Head 10",
         "line": {
          "color": "#FFA15A",
          "dash": "solid"
         },
         "marker": {
          "symbol": "circle"
         },
         "mode": "lines",
         "name": "Layer 7-Head 10",
         "orientation": "v",
         "showlegend": true,
         "type": "scatter",
         "x": [
          256,
          512,
          1000
         ],
         "xaxis": "x",
         "y": [
          1.0414115190505981,
          1.0509123802185059,
          0.9873833060264587
         ],
         "yaxis": "y"
        },
        {
         "hovertemplate": "Layer-Head=Layer 7-Head 11<br>Checkpoint=%{x}<br>Self Repair Score=%{y}<extra></extra>",
         "legendgroup": "Layer 7-Head 11",
         "line": {
          "color": "#19d3f3",
          "dash": "solid"
         },
         "marker": {
          "symbol": "circle"
         },
         "mode": "lines",
         "name": "Layer 7-Head 11",
         "orientation": "v",
         "showlegend": true,
         "type": "scatter",
         "x": [
          256,
          512,
          1000
         ],
         "xaxis": "x",
         "y": [
          0.8913394808769226,
          1.483603596687317,
          1.053537130355835
         ],
         "yaxis": "y"
        },
        {
         "hovertemplate": "Layer-Head=Layer 8-Head 0<br>Checkpoint=%{x}<br>Self Repair Score=%{y}<extra></extra>",
         "legendgroup": "Layer 8-Head 0",
         "line": {
          "color": "#FF6692",
          "dash": "solid"
         },
         "marker": {
          "symbol": "circle"
         },
         "mode": "lines",
         "name": "Layer 8-Head 0",
         "orientation": "v",
         "showlegend": true,
         "type": "scatter",
         "x": [
          256,
          512,
          1000
         ],
         "xaxis": "x",
         "y": [
          1.9042445421218872,
          0.7669994831085205,
          1.0074217319488525
         ],
         "yaxis": "y"
        },
        {
         "hovertemplate": "Layer-Head=Layer 8-Head 1<br>Checkpoint=%{x}<br>Self Repair Score=%{y}<extra></extra>",
         "legendgroup": "Layer 8-Head 1",
         "line": {
          "color": "#B6E880",
          "dash": "solid"
         },
         "marker": {
          "symbol": "circle"
         },
         "mode": "lines",
         "name": "Layer 8-Head 1",
         "orientation": "v",
         "showlegend": true,
         "type": "scatter",
         "x": [
          256,
          512,
          1000
         ],
         "xaxis": "x",
         "y": [
          0.9719175696372986,
          1.1749826669692993,
          0.8530872464179993
         ],
         "yaxis": "y"
        },
        {
         "hovertemplate": "Layer-Head=Layer 8-Head 2<br>Checkpoint=%{x}<br>Self Repair Score=%{y}<extra></extra>",
         "legendgroup": "Layer 8-Head 2",
         "line": {
          "color": "#FF97FF",
          "dash": "solid"
         },
         "marker": {
          "symbol": "circle"
         },
         "mode": "lines",
         "name": "Layer 8-Head 2",
         "orientation": "v",
         "showlegend": true,
         "type": "scatter",
         "x": [
          256,
          512,
          1000
         ],
         "xaxis": "x",
         "y": [
          0.9223928451538086,
          0.5532092452049255,
          0.6551226377487183
         ],
         "yaxis": "y"
        },
        {
         "hovertemplate": "Layer-Head=Layer 8-Head 3<br>Checkpoint=%{x}<br>Self Repair Score=%{y}<extra></extra>",
         "legendgroup": "Layer 8-Head 3",
         "line": {
          "color": "#FECB52",
          "dash": "solid"
         },
         "marker": {
          "symbol": "circle"
         },
         "mode": "lines",
         "name": "Layer 8-Head 3",
         "orientation": "v",
         "showlegend": true,
         "type": "scatter",
         "x": [
          256,
          512,
          1000
         ],
         "xaxis": "x",
         "y": [
          -0.2956511378288269,
          0.7790183424949646,
          0.634133517742157
         ],
         "yaxis": "y"
        },
        {
         "hovertemplate": "Layer-Head=Layer 8-Head 4<br>Checkpoint=%{x}<br>Self Repair Score=%{y}<extra></extra>",
         "legendgroup": "Layer 8-Head 4",
         "line": {
          "color": "#636efa",
          "dash": "solid"
         },
         "marker": {
          "symbol": "circle"
         },
         "mode": "lines",
         "name": "Layer 8-Head 4",
         "orientation": "v",
         "showlegend": true,
         "type": "scatter",
         "x": [
          256,
          512,
          1000
         ],
         "xaxis": "x",
         "y": [
          0.6960299015045166,
          2.1483731269836426,
          0.7541418075561523
         ],
         "yaxis": "y"
        },
        {
         "hovertemplate": "Layer-Head=Layer 8-Head 5<br>Checkpoint=%{x}<br>Self Repair Score=%{y}<extra></extra>",
         "legendgroup": "Layer 8-Head 5",
         "line": {
          "color": "#EF553B",
          "dash": "solid"
         },
         "marker": {
          "symbol": "circle"
         },
         "mode": "lines",
         "name": "Layer 8-Head 5",
         "orientation": "v",
         "showlegend": true,
         "type": "scatter",
         "x": [
          256,
          512,
          1000
         ],
         "xaxis": "x",
         "y": [
          0.7427996397018433,
          0.8129296898841858,
          0.9917458295822144
         ],
         "yaxis": "y"
        },
        {
         "hovertemplate": "Layer-Head=Layer 8-Head 6<br>Checkpoint=%{x}<br>Self Repair Score=%{y}<extra></extra>",
         "legendgroup": "Layer 8-Head 6",
         "line": {
          "color": "#00cc96",
          "dash": "solid"
         },
         "marker": {
          "symbol": "circle"
         },
         "mode": "lines",
         "name": "Layer 8-Head 6",
         "orientation": "v",
         "showlegend": true,
         "type": "scatter",
         "x": [
          256,
          512,
          1000
         ],
         "xaxis": "x",
         "y": [
          0.707130491733551,
          1.462561845779419,
          2.2406258583068848
         ],
         "yaxis": "y"
        },
        {
         "hovertemplate": "Layer-Head=Layer 8-Head 7<br>Checkpoint=%{x}<br>Self Repair Score=%{y}<extra></extra>",
         "legendgroup": "Layer 8-Head 7",
         "line": {
          "color": "#ab63fa",
          "dash": "solid"
         },
         "marker": {
          "symbol": "circle"
         },
         "mode": "lines",
         "name": "Layer 8-Head 7",
         "orientation": "v",
         "showlegend": true,
         "type": "scatter",
         "x": [
          256,
          512,
          1000
         ],
         "xaxis": "x",
         "y": [
          0.9740793704986572,
          2.4598348140716553,
          0.9907976984977722
         ],
         "yaxis": "y"
        },
        {
         "hovertemplate": "Layer-Head=Layer 8-Head 8<br>Checkpoint=%{x}<br>Self Repair Score=%{y}<extra></extra>",
         "legendgroup": "Layer 8-Head 8",
         "line": {
          "color": "#FFA15A",
          "dash": "solid"
         },
         "marker": {
          "symbol": "circle"
         },
         "mode": "lines",
         "name": "Layer 8-Head 8",
         "orientation": "v",
         "showlegend": true,
         "type": "scatter",
         "x": [
          256,
          512,
          1000
         ],
         "xaxis": "x",
         "y": [
          -0.7501915097236633,
          0.28277742862701416,
          1.6348628997802734
         ],
         "yaxis": "y"
        },
        {
         "hovertemplate": "Layer-Head=Layer 8-Head 9<br>Checkpoint=%{x}<br>Self Repair Score=%{y}<extra></extra>",
         "legendgroup": "Layer 8-Head 9",
         "line": {
          "color": "#19d3f3",
          "dash": "solid"
         },
         "marker": {
          "symbol": "circle"
         },
         "mode": "lines",
         "name": "Layer 8-Head 9",
         "orientation": "v",
         "showlegend": true,
         "type": "scatter",
         "x": [
          256,
          512,
          1000
         ],
         "xaxis": "x",
         "y": [
          1.3409993648529053,
          0.19613708555698395,
          0.5786330699920654
         ],
         "yaxis": "y"
        },
        {
         "hovertemplate": "Layer-Head=Layer 8-Head 10<br>Checkpoint=%{x}<br>Self Repair Score=%{y}<extra></extra>",
         "legendgroup": "Layer 8-Head 10",
         "line": {
          "color": "#FF6692",
          "dash": "solid"
         },
         "marker": {
          "symbol": "circle"
         },
         "mode": "lines",
         "name": "Layer 8-Head 10",
         "orientation": "v",
         "showlegend": true,
         "type": "scatter",
         "x": [
          256,
          512,
          1000
         ],
         "xaxis": "x",
         "y": [
          0.41228121519088745,
          -0.23315058648586273,
          0.8921457529067993
         ],
         "yaxis": "y"
        },
        {
         "hovertemplate": "Layer-Head=Layer 8-Head 11<br>Checkpoint=%{x}<br>Self Repair Score=%{y}<extra></extra>",
         "legendgroup": "Layer 8-Head 11",
         "line": {
          "color": "#B6E880",
          "dash": "solid"
         },
         "marker": {
          "symbol": "circle"
         },
         "mode": "lines",
         "name": "Layer 8-Head 11",
         "orientation": "v",
         "showlegend": true,
         "type": "scatter",
         "x": [
          256,
          512,
          1000
         ],
         "xaxis": "x",
         "y": [
          1.2656768560409546,
          2.641907215118408,
          1.003188133239746
         ],
         "yaxis": "y"
        },
        {
         "hovertemplate": "Layer-Head=Layer 9-Head 0<br>Checkpoint=%{x}<br>Self Repair Score=%{y}<extra></extra>",
         "legendgroup": "Layer 9-Head 0",
         "line": {
          "color": "#FF97FF",
          "dash": "solid"
         },
         "marker": {
          "symbol": "circle"
         },
         "mode": "lines",
         "name": "Layer 9-Head 0",
         "orientation": "v",
         "showlegend": true,
         "type": "scatter",
         "x": [
          256,
          512,
          1000
         ],
         "xaxis": "x",
         "y": [
          0.9236598014831543,
          -2.368184804916382,
          0.439033180475235
         ],
         "yaxis": "y"
        },
        {
         "hovertemplate": "Layer-Head=Layer 9-Head 1<br>Checkpoint=%{x}<br>Self Repair Score=%{y}<extra></extra>",
         "legendgroup": "Layer 9-Head 1",
         "line": {
          "color": "#FECB52",
          "dash": "solid"
         },
         "marker": {
          "symbol": "circle"
         },
         "mode": "lines",
         "name": "Layer 9-Head 1",
         "orientation": "v",
         "showlegend": true,
         "type": "scatter",
         "x": [
          256,
          512,
          1000
         ],
         "xaxis": "x",
         "y": [
          0.9444482326507568,
          0.9421873688697815,
          0.7911605834960938
         ],
         "yaxis": "y"
        },
        {
         "hovertemplate": "Layer-Head=Layer 9-Head 2<br>Checkpoint=%{x}<br>Self Repair Score=%{y}<extra></extra>",
         "legendgroup": "Layer 9-Head 2",
         "line": {
          "color": "#636efa",
          "dash": "solid"
         },
         "marker": {
          "symbol": "circle"
         },
         "mode": "lines",
         "name": "Layer 9-Head 2",
         "orientation": "v",
         "showlegend": true,
         "type": "scatter",
         "x": [
          256,
          512,
          1000
         ],
         "xaxis": "x",
         "y": [
          0.9170137643814087,
          -1.157760739326477,
          0.8823451399803162
         ],
         "yaxis": "y"
        },
        {
         "hovertemplate": "Layer-Head=Layer 9-Head 3<br>Checkpoint=%{x}<br>Self Repair Score=%{y}<extra></extra>",
         "legendgroup": "Layer 9-Head 3",
         "line": {
          "color": "#EF553B",
          "dash": "solid"
         },
         "marker": {
          "symbol": "circle"
         },
         "mode": "lines",
         "name": "Layer 9-Head 3",
         "orientation": "v",
         "showlegend": true,
         "type": "scatter",
         "x": [
          256,
          512,
          1000
         ],
         "xaxis": "x",
         "y": [
          1.042636513710022,
          1.2445909976959229,
          0.7048807144165039
         ],
         "yaxis": "y"
        },
        {
         "hovertemplate": "Layer-Head=Layer 9-Head 4<br>Checkpoint=%{x}<br>Self Repair Score=%{y}<extra></extra>",
         "legendgroup": "Layer 9-Head 4",
         "line": {
          "color": "#00cc96",
          "dash": "solid"
         },
         "marker": {
          "symbol": "circle"
         },
         "mode": "lines",
         "name": "Layer 9-Head 4",
         "orientation": "v",
         "showlegend": true,
         "type": "scatter",
         "x": [
          256,
          512,
          1000
         ],
         "xaxis": "x",
         "y": [
          0.8619170188903809,
          1.2016719579696655,
          0.6486198902130127
         ],
         "yaxis": "y"
        },
        {
         "hovertemplate": "Layer-Head=Layer 9-Head 5<br>Checkpoint=%{x}<br>Self Repair Score=%{y}<extra></extra>",
         "legendgroup": "Layer 9-Head 5",
         "line": {
          "color": "#ab63fa",
          "dash": "solid"
         },
         "marker": {
          "symbol": "circle"
         },
         "mode": "lines",
         "name": "Layer 9-Head 5",
         "orientation": "v",
         "showlegend": true,
         "type": "scatter",
         "x": [
          256,
          512,
          1000
         ],
         "xaxis": "x",
         "y": [
          0.9227003455162048,
          1.6170907020568848,
          0.83160400390625
         ],
         "yaxis": "y"
        },
        {
         "hovertemplate": "Layer-Head=Layer 9-Head 6<br>Checkpoint=%{x}<br>Self Repair Score=%{y}<extra></extra>",
         "legendgroup": "Layer 9-Head 6",
         "line": {
          "color": "#FFA15A",
          "dash": "solid"
         },
         "marker": {
          "symbol": "circle"
         },
         "mode": "lines",
         "name": "Layer 9-Head 6",
         "orientation": "v",
         "showlegend": true,
         "type": "scatter",
         "x": [
          256,
          512,
          1000
         ],
         "xaxis": "x",
         "y": [
          1.3427915573120117,
          1.2954221963882446,
          1.0747783184051514
         ],
         "yaxis": "y"
        },
        {
         "hovertemplate": "Layer-Head=Layer 9-Head 7<br>Checkpoint=%{x}<br>Self Repair Score=%{y}<extra></extra>",
         "legendgroup": "Layer 9-Head 7",
         "line": {
          "color": "#19d3f3",
          "dash": "solid"
         },
         "marker": {
          "symbol": "circle"
         },
         "mode": "lines",
         "name": "Layer 9-Head 7",
         "orientation": "v",
         "showlegend": true,
         "type": "scatter",
         "x": [
          256,
          512,
          1000
         ],
         "xaxis": "x",
         "y": [
          1.0773602724075317,
          -40.54182815551758,
          0.8293107748031616
         ],
         "yaxis": "y"
        },
        {
         "hovertemplate": "Layer-Head=Layer 9-Head 8<br>Checkpoint=%{x}<br>Self Repair Score=%{y}<extra></extra>",
         "legendgroup": "Layer 9-Head 8",
         "line": {
          "color": "#FF6692",
          "dash": "solid"
         },
         "marker": {
          "symbol": "circle"
         },
         "mode": "lines",
         "name": "Layer 9-Head 8",
         "orientation": "v",
         "showlegend": true,
         "type": "scatter",
         "x": [
          256,
          512,
          1000
         ],
         "xaxis": "x",
         "y": [
          1.172109603881836,
          0.9193863868713379,
          0.95915287733078
         ],
         "yaxis": "y"
        },
        {
         "hovertemplate": "Layer-Head=Layer 9-Head 9<br>Checkpoint=%{x}<br>Self Repair Score=%{y}<extra></extra>",
         "legendgroup": "Layer 9-Head 9",
         "line": {
          "color": "#B6E880",
          "dash": "solid"
         },
         "marker": {
          "symbol": "circle"
         },
         "mode": "lines",
         "name": "Layer 9-Head 9",
         "orientation": "v",
         "showlegend": true,
         "type": "scatter",
         "x": [
          256,
          512,
          1000
         ],
         "xaxis": "x",
         "y": [
          0.7638381123542786,
          -0.8921794295310974,
          1.1467311382293701
         ],
         "yaxis": "y"
        },
        {
         "hovertemplate": "Layer-Head=Layer 9-Head 10<br>Checkpoint=%{x}<br>Self Repair Score=%{y}<extra></extra>",
         "legendgroup": "Layer 9-Head 10",
         "line": {
          "color": "#FF97FF",
          "dash": "solid"
         },
         "marker": {
          "symbol": "circle"
         },
         "mode": "lines",
         "name": "Layer 9-Head 10",
         "orientation": "v",
         "showlegend": true,
         "type": "scatter",
         "x": [
          256,
          512,
          1000
         ],
         "xaxis": "x",
         "y": [
          0.7763722538948059,
          0.8287554979324341,
          0.829921543598175
         ],
         "yaxis": "y"
        },
        {
         "hovertemplate": "Layer-Head=Layer 9-Head 11<br>Checkpoint=%{x}<br>Self Repair Score=%{y}<extra></extra>",
         "legendgroup": "Layer 9-Head 11",
         "line": {
          "color": "#FECB52",
          "dash": "solid"
         },
         "marker": {
          "symbol": "circle"
         },
         "mode": "lines",
         "name": "Layer 9-Head 11",
         "orientation": "v",
         "showlegend": true,
         "type": "scatter",
         "x": [
          256,
          512,
          1000
         ],
         "xaxis": "x",
         "y": [
          1.2865300178527832,
          1.692091464996338,
          -2.0418031215667725
         ],
         "yaxis": "y"
        },
        {
         "hovertemplate": "Layer-Head=Layer 10-Head 0<br>Checkpoint=%{x}<br>Self Repair Score=%{y}<extra></extra>",
         "legendgroup": "Layer 10-Head 0",
         "line": {
          "color": "#636efa",
          "dash": "solid"
         },
         "marker": {
          "symbol": "circle"
         },
         "mode": "lines",
         "name": "Layer 10-Head 0",
         "orientation": "v",
         "showlegend": true,
         "type": "scatter",
         "x": [
          256,
          512,
          1000
         ],
         "xaxis": "x",
         "y": [
          1.0026741027832031,
          0.9938101172447205,
          0.9627755880355835
         ],
         "yaxis": "y"
        },
        {
         "hovertemplate": "Layer-Head=Layer 10-Head 1<br>Checkpoint=%{x}<br>Self Repair Score=%{y}<extra></extra>",
         "legendgroup": "Layer 10-Head 1",
         "line": {
          "color": "#EF553B",
          "dash": "solid"
         },
         "marker": {
          "symbol": "circle"
         },
         "mode": "lines",
         "name": "Layer 10-Head 1",
         "orientation": "v",
         "showlegend": true,
         "type": "scatter",
         "x": [
          256,
          512,
          1000
         ],
         "xaxis": "x",
         "y": [
          1.0059938430786133,
          0.781009316444397,
          0.8569588661193848
         ],
         "yaxis": "y"
        },
        {
         "hovertemplate": "Layer-Head=Layer 10-Head 2<br>Checkpoint=%{x}<br>Self Repair Score=%{y}<extra></extra>",
         "legendgroup": "Layer 10-Head 2",
         "line": {
          "color": "#00cc96",
          "dash": "solid"
         },
         "marker": {
          "symbol": "circle"
         },
         "mode": "lines",
         "name": "Layer 10-Head 2",
         "orientation": "v",
         "showlegend": true,
         "type": "scatter",
         "x": [
          256,
          512,
          1000
         ],
         "xaxis": "x",
         "y": [
          0.9879134297370911,
          0.6845247149467468,
          0.9250930547714233
         ],
         "yaxis": "y"
        },
        {
         "hovertemplate": "Layer-Head=Layer 10-Head 3<br>Checkpoint=%{x}<br>Self Repair Score=%{y}<extra></extra>",
         "legendgroup": "Layer 10-Head 3",
         "line": {
          "color": "#ab63fa",
          "dash": "solid"
         },
         "marker": {
          "symbol": "circle"
         },
         "mode": "lines",
         "name": "Layer 10-Head 3",
         "orientation": "v",
         "showlegend": true,
         "type": "scatter",
         "x": [
          256,
          512,
          1000
         ],
         "xaxis": "x",
         "y": [
          1.000322699546814,
          0.6445339322090149,
          0.8596750497817993
         ],
         "yaxis": "y"
        },
        {
         "hovertemplate": "Layer-Head=Layer 10-Head 4<br>Checkpoint=%{x}<br>Self Repair Score=%{y}<extra></extra>",
         "legendgroup": "Layer 10-Head 4",
         "line": {
          "color": "#FFA15A",
          "dash": "solid"
         },
         "marker": {
          "symbol": "circle"
         },
         "mode": "lines",
         "name": "Layer 10-Head 4",
         "orientation": "v",
         "showlegend": true,
         "type": "scatter",
         "x": [
          256,
          512,
          1000
         ],
         "xaxis": "x",
         "y": [
          1.6962255239486694,
          0.9211689829826355,
          0.6427435278892517
         ],
         "yaxis": "y"
        },
        {
         "hovertemplate": "Layer-Head=Layer 10-Head 5<br>Checkpoint=%{x}<br>Self Repair Score=%{y}<extra></extra>",
         "legendgroup": "Layer 10-Head 5",
         "line": {
          "color": "#19d3f3",
          "dash": "solid"
         },
         "marker": {
          "symbol": "circle"
         },
         "mode": "lines",
         "name": "Layer 10-Head 5",
         "orientation": "v",
         "showlegend": true,
         "type": "scatter",
         "x": [
          256,
          512,
          1000
         ],
         "xaxis": "x",
         "y": [
          1.0211535692214966,
          0.8241320848464966,
          0.9855455756187439
         ],
         "yaxis": "y"
        },
        {
         "hovertemplate": "Layer-Head=Layer 10-Head 6<br>Checkpoint=%{x}<br>Self Repair Score=%{y}<extra></extra>",
         "legendgroup": "Layer 10-Head 6",
         "line": {
          "color": "#FF6692",
          "dash": "solid"
         },
         "marker": {
          "symbol": "circle"
         },
         "mode": "lines",
         "name": "Layer 10-Head 6",
         "orientation": "v",
         "showlegend": true,
         "type": "scatter",
         "x": [
          256,
          512,
          1000
         ],
         "xaxis": "x",
         "y": [
          1.0261982679367065,
          1.1753158569335938,
          0.9005624651908875
         ],
         "yaxis": "y"
        },
        {
         "hovertemplate": "Layer-Head=Layer 10-Head 7<br>Checkpoint=%{x}<br>Self Repair Score=%{y}<extra></extra>",
         "legendgroup": "Layer 10-Head 7",
         "line": {
          "color": "#B6E880",
          "dash": "solid"
         },
         "marker": {
          "symbol": "circle"
         },
         "mode": "lines",
         "name": "Layer 10-Head 7",
         "orientation": "v",
         "showlegend": true,
         "type": "scatter",
         "x": [
          256,
          512,
          1000
         ],
         "xaxis": "x",
         "y": [
          1.019861102104187,
          0.9121699929237366,
          0.6886441707611084
         ],
         "yaxis": "y"
        },
        {
         "hovertemplate": "Layer-Head=Layer 10-Head 8<br>Checkpoint=%{x}<br>Self Repair Score=%{y}<extra></extra>",
         "legendgroup": "Layer 10-Head 8",
         "line": {
          "color": "#FF97FF",
          "dash": "solid"
         },
         "marker": {
          "symbol": "circle"
         },
         "mode": "lines",
         "name": "Layer 10-Head 8",
         "orientation": "v",
         "showlegend": true,
         "type": "scatter",
         "x": [
          256,
          512,
          1000
         ],
         "xaxis": "x",
         "y": [
          1.032282829284668,
          3.295184373855591,
          1.4381920099258423
         ],
         "yaxis": "y"
        },
        {
         "hovertemplate": "Layer-Head=Layer 10-Head 9<br>Checkpoint=%{x}<br>Self Repair Score=%{y}<extra></extra>",
         "legendgroup": "Layer 10-Head 9",
         "line": {
          "color": "#FECB52",
          "dash": "solid"
         },
         "marker": {
          "symbol": "circle"
         },
         "mode": "lines",
         "name": "Layer 10-Head 9",
         "orientation": "v",
         "showlegend": true,
         "type": "scatter",
         "x": [
          256,
          512,
          1000
         ],
         "xaxis": "x",
         "y": [
          0.9832625389099121,
          0.9614129066467285,
          0.7525390982627869
         ],
         "yaxis": "y"
        },
        {
         "hovertemplate": "Layer-Head=Layer 10-Head 10<br>Checkpoint=%{x}<br>Self Repair Score=%{y}<extra></extra>",
         "legendgroup": "Layer 10-Head 10",
         "line": {
          "color": "#636efa",
          "dash": "solid"
         },
         "marker": {
          "symbol": "circle"
         },
         "mode": "lines",
         "name": "Layer 10-Head 10",
         "orientation": "v",
         "showlegend": true,
         "type": "scatter",
         "x": [
          256,
          512,
          1000
         ],
         "xaxis": "x",
         "y": [
          0.9639672040939331,
          1.1020607948303223,
          1.1240218877792358
         ],
         "yaxis": "y"
        },
        {
         "hovertemplate": "Layer-Head=Layer 10-Head 11<br>Checkpoint=%{x}<br>Self Repair Score=%{y}<extra></extra>",
         "legendgroup": "Layer 10-Head 11",
         "line": {
          "color": "#EF553B",
          "dash": "solid"
         },
         "marker": {
          "symbol": "circle"
         },
         "mode": "lines",
         "name": "Layer 10-Head 11",
         "orientation": "v",
         "showlegend": true,
         "type": "scatter",
         "x": [
          256,
          512,
          1000
         ],
         "xaxis": "x",
         "y": [
          1.0165650844573975,
          1.0820797681808472,
          0.6944745779037476
         ],
         "yaxis": "y"
        },
        {
         "hovertemplate": "Layer-Head=Layer 11-Head 0<br>Checkpoint=%{x}<br>Self Repair Score=%{y}<extra></extra>",
         "legendgroup": "Layer 11-Head 0",
         "line": {
          "color": "#00cc96",
          "dash": "solid"
         },
         "marker": {
          "symbol": "circle"
         },
         "mode": "lines",
         "name": "Layer 11-Head 0",
         "orientation": "v",
         "showlegend": true,
         "type": "scatter",
         "x": [
          256,
          512,
          1000
         ],
         "xaxis": "x",
         "y": [
          0.9693899750709534,
          0.6018722057342529,
          0.7860614657402039
         ],
         "yaxis": "y"
        },
        {
         "hovertemplate": "Layer-Head=Layer 11-Head 1<br>Checkpoint=%{x}<br>Self Repair Score=%{y}<extra></extra>",
         "legendgroup": "Layer 11-Head 1",
         "line": {
          "color": "#ab63fa",
          "dash": "solid"
         },
         "marker": {
          "symbol": "circle"
         },
         "mode": "lines",
         "name": "Layer 11-Head 1",
         "orientation": "v",
         "showlegend": true,
         "type": "scatter",
         "x": [
          256,
          512,
          1000
         ],
         "xaxis": "x",
         "y": [
          1.0304123163223267,
          0.7919067144393921,
          0.9676273465156555
         ],
         "yaxis": "y"
        },
        {
         "hovertemplate": "Layer-Head=Layer 11-Head 2<br>Checkpoint=%{x}<br>Self Repair Score=%{y}<extra></extra>",
         "legendgroup": "Layer 11-Head 2",
         "line": {
          "color": "#FFA15A",
          "dash": "solid"
         },
         "marker": {
          "symbol": "circle"
         },
         "mode": "lines",
         "name": "Layer 11-Head 2",
         "orientation": "v",
         "showlegend": true,
         "type": "scatter",
         "x": [
          256,
          512,
          1000
         ],
         "xaxis": "x",
         "y": [
          1.0398048162460327,
          1.0555694103240967,
          1.1032360792160034
         ],
         "yaxis": "y"
        },
        {
         "hovertemplate": "Layer-Head=Layer 11-Head 3<br>Checkpoint=%{x}<br>Self Repair Score=%{y}<extra></extra>",
         "legendgroup": "Layer 11-Head 3",
         "line": {
          "color": "#19d3f3",
          "dash": "solid"
         },
         "marker": {
          "symbol": "circle"
         },
         "mode": "lines",
         "name": "Layer 11-Head 3",
         "orientation": "v",
         "showlegend": true,
         "type": "scatter",
         "x": [
          256,
          512,
          1000
         ],
         "xaxis": "x",
         "y": [
          1.0377497673034668,
          0.8529120683670044,
          0.8204299211502075
         ],
         "yaxis": "y"
        },
        {
         "hovertemplate": "Layer-Head=Layer 11-Head 4<br>Checkpoint=%{x}<br>Self Repair Score=%{y}<extra></extra>",
         "legendgroup": "Layer 11-Head 4",
         "line": {
          "color": "#FF6692",
          "dash": "solid"
         },
         "marker": {
          "symbol": "circle"
         },
         "mode": "lines",
         "name": "Layer 11-Head 4",
         "orientation": "v",
         "showlegend": true,
         "type": "scatter",
         "x": [
          256,
          512,
          1000
         ],
         "xaxis": "x",
         "y": [
          1.002427339553833,
          0.24036672711372375,
          1.1140644550323486
         ],
         "yaxis": "y"
        },
        {
         "hovertemplate": "Layer-Head=Layer 11-Head 5<br>Checkpoint=%{x}<br>Self Repair Score=%{y}<extra></extra>",
         "legendgroup": "Layer 11-Head 5",
         "line": {
          "color": "#B6E880",
          "dash": "solid"
         },
         "marker": {
          "symbol": "circle"
         },
         "mode": "lines",
         "name": "Layer 11-Head 5",
         "orientation": "v",
         "showlegend": true,
         "type": "scatter",
         "x": [
          256,
          512,
          1000
         ],
         "xaxis": "x",
         "y": [
          1.004176378250122,
          0.7994313836097717,
          1.9064010381698608
         ],
         "yaxis": "y"
        },
        {
         "hovertemplate": "Layer-Head=Layer 11-Head 6<br>Checkpoint=%{x}<br>Self Repair Score=%{y}<extra></extra>",
         "legendgroup": "Layer 11-Head 6",
         "line": {
          "color": "#FF97FF",
          "dash": "solid"
         },
         "marker": {
          "symbol": "circle"
         },
         "mode": "lines",
         "name": "Layer 11-Head 6",
         "orientation": "v",
         "showlegend": true,
         "type": "scatter",
         "x": [
          256,
          512,
          1000
         ],
         "xaxis": "x",
         "y": [
          0.9388381242752075,
          0.383694052696228,
          -0.2814916968345642
         ],
         "yaxis": "y"
        },
        {
         "hovertemplate": "Layer-Head=Layer 11-Head 7<br>Checkpoint=%{x}<br>Self Repair Score=%{y}<extra></extra>",
         "legendgroup": "Layer 11-Head 7",
         "line": {
          "color": "#FECB52",
          "dash": "solid"
         },
         "marker": {
          "symbol": "circle"
         },
         "mode": "lines",
         "name": "Layer 11-Head 7",
         "orientation": "v",
         "showlegend": true,
         "type": "scatter",
         "x": [
          256,
          512,
          1000
         ],
         "xaxis": "x",
         "y": [
          1.0226624011993408,
          0.8518079519271851,
          0.8401800990104675
         ],
         "yaxis": "y"
        },
        {
         "hovertemplate": "Layer-Head=Layer 11-Head 8<br>Checkpoint=%{x}<br>Self Repair Score=%{y}<extra></extra>",
         "legendgroup": "Layer 11-Head 8",
         "line": {
          "color": "#636efa",
          "dash": "solid"
         },
         "marker": {
          "symbol": "circle"
         },
         "mode": "lines",
         "name": "Layer 11-Head 8",
         "orientation": "v",
         "showlegend": true,
         "type": "scatter",
         "x": [
          256,
          512,
          1000
         ],
         "xaxis": "x",
         "y": [
          1.0550884008407593,
          1.3336280584335327,
          1.0682315826416016
         ],
         "yaxis": "y"
        },
        {
         "hovertemplate": "Layer-Head=Layer 11-Head 9<br>Checkpoint=%{x}<br>Self Repair Score=%{y}<extra></extra>",
         "legendgroup": "Layer 11-Head 9",
         "line": {
          "color": "#EF553B",
          "dash": "solid"
         },
         "marker": {
          "symbol": "circle"
         },
         "mode": "lines",
         "name": "Layer 11-Head 9",
         "orientation": "v",
         "showlegend": true,
         "type": "scatter",
         "x": [
          256,
          512,
          1000
         ],
         "xaxis": "x",
         "y": [
          0.8564891219139099,
          -0.4962986707687378,
          0.7776092290878296
         ],
         "yaxis": "y"
        },
        {
         "hovertemplate": "Layer-Head=Layer 11-Head 10<br>Checkpoint=%{x}<br>Self Repair Score=%{y}<extra></extra>",
         "legendgroup": "Layer 11-Head 10",
         "line": {
          "color": "#00cc96",
          "dash": "solid"
         },
         "marker": {
          "symbol": "circle"
         },
         "mode": "lines",
         "name": "Layer 11-Head 10",
         "orientation": "v",
         "showlegend": true,
         "type": "scatter",
         "x": [
          256,
          512,
          1000
         ],
         "xaxis": "x",
         "y": [
          1.0184071063995361,
          -0.49277040362358093,
          1.0532491207122803
         ],
         "yaxis": "y"
        },
        {
         "hovertemplate": "Layer-Head=Layer 11-Head 11<br>Checkpoint=%{x}<br>Self Repair Score=%{y}<extra></extra>",
         "legendgroup": "Layer 11-Head 11",
         "line": {
          "color": "#ab63fa",
          "dash": "solid"
         },
         "marker": {
          "symbol": "circle"
         },
         "mode": "lines",
         "name": "Layer 11-Head 11",
         "orientation": "v",
         "showlegend": true,
         "type": "scatter",
         "x": [
          256,
          512,
          1000
         ],
         "xaxis": "x",
         "y": [
          1.0255576372146606,
          0.7812933325767517,
          0.7016466856002808
         ],
         "yaxis": "y"
        }
       ],
       "layout": {
        "height": 500,
        "legend": {
         "title": {
          "text": "Layer-Head"
         },
         "tracegroupgap": 0
        },
        "template": {
         "data": {
          "bar": [
           {
            "error_x": {
             "color": "#2a3f5f"
            },
            "error_y": {
             "color": "#2a3f5f"
            },
            "marker": {
             "line": {
              "color": "#E5ECF6",
              "width": 0.5
             },
             "pattern": {
              "fillmode": "overlay",
              "size": 10,
              "solidity": 0.2
             }
            },
            "type": "bar"
           }
          ],
          "barpolar": [
           {
            "marker": {
             "line": {
              "color": "#E5ECF6",
              "width": 0.5
             },
             "pattern": {
              "fillmode": "overlay",
              "size": 10,
              "solidity": 0.2
             }
            },
            "type": "barpolar"
           }
          ],
          "carpet": [
           {
            "aaxis": {
             "endlinecolor": "#2a3f5f",
             "gridcolor": "white",
             "linecolor": "white",
             "minorgridcolor": "white",
             "startlinecolor": "#2a3f5f"
            },
            "baxis": {
             "endlinecolor": "#2a3f5f",
             "gridcolor": "white",
             "linecolor": "white",
             "minorgridcolor": "white",
             "startlinecolor": "#2a3f5f"
            },
            "type": "carpet"
           }
          ],
          "choropleth": [
           {
            "colorbar": {
             "outlinewidth": 0,
             "ticks": ""
            },
            "type": "choropleth"
           }
          ],
          "contour": [
           {
            "colorbar": {
             "outlinewidth": 0,
             "ticks": ""
            },
            "colorscale": [
             [
              0,
              "#0d0887"
             ],
             [
              0.1111111111111111,
              "#46039f"
             ],
             [
              0.2222222222222222,
              "#7201a8"
             ],
             [
              0.3333333333333333,
              "#9c179e"
             ],
             [
              0.4444444444444444,
              "#bd3786"
             ],
             [
              0.5555555555555556,
              "#d8576b"
             ],
             [
              0.6666666666666666,
              "#ed7953"
             ],
             [
              0.7777777777777778,
              "#fb9f3a"
             ],
             [
              0.8888888888888888,
              "#fdca26"
             ],
             [
              1,
              "#f0f921"
             ]
            ],
            "type": "contour"
           }
          ],
          "contourcarpet": [
           {
            "colorbar": {
             "outlinewidth": 0,
             "ticks": ""
            },
            "type": "contourcarpet"
           }
          ],
          "heatmap": [
           {
            "colorbar": {
             "outlinewidth": 0,
             "ticks": ""
            },
            "colorscale": [
             [
              0,
              "#0d0887"
             ],
             [
              0.1111111111111111,
              "#46039f"
             ],
             [
              0.2222222222222222,
              "#7201a8"
             ],
             [
              0.3333333333333333,
              "#9c179e"
             ],
             [
              0.4444444444444444,
              "#bd3786"
             ],
             [
              0.5555555555555556,
              "#d8576b"
             ],
             [
              0.6666666666666666,
              "#ed7953"
             ],
             [
              0.7777777777777778,
              "#fb9f3a"
             ],
             [
              0.8888888888888888,
              "#fdca26"
             ],
             [
              1,
              "#f0f921"
             ]
            ],
            "type": "heatmap"
           }
          ],
          "heatmapgl": [
           {
            "colorbar": {
             "outlinewidth": 0,
             "ticks": ""
            },
            "colorscale": [
             [
              0,
              "#0d0887"
             ],
             [
              0.1111111111111111,
              "#46039f"
             ],
             [
              0.2222222222222222,
              "#7201a8"
             ],
             [
              0.3333333333333333,
              "#9c179e"
             ],
             [
              0.4444444444444444,
              "#bd3786"
             ],
             [
              0.5555555555555556,
              "#d8576b"
             ],
             [
              0.6666666666666666,
              "#ed7953"
             ],
             [
              0.7777777777777778,
              "#fb9f3a"
             ],
             [
              0.8888888888888888,
              "#fdca26"
             ],
             [
              1,
              "#f0f921"
             ]
            ],
            "type": "heatmapgl"
           }
          ],
          "histogram": [
           {
            "marker": {
             "pattern": {
              "fillmode": "overlay",
              "size": 10,
              "solidity": 0.2
             }
            },
            "type": "histogram"
           }
          ],
          "histogram2d": [
           {
            "colorbar": {
             "outlinewidth": 0,
             "ticks": ""
            },
            "colorscale": [
             [
              0,
              "#0d0887"
             ],
             [
              0.1111111111111111,
              "#46039f"
             ],
             [
              0.2222222222222222,
              "#7201a8"
             ],
             [
              0.3333333333333333,
              "#9c179e"
             ],
             [
              0.4444444444444444,
              "#bd3786"
             ],
             [
              0.5555555555555556,
              "#d8576b"
             ],
             [
              0.6666666666666666,
              "#ed7953"
             ],
             [
              0.7777777777777778,
              "#fb9f3a"
             ],
             [
              0.8888888888888888,
              "#fdca26"
             ],
             [
              1,
              "#f0f921"
             ]
            ],
            "type": "histogram2d"
           }
          ],
          "histogram2dcontour": [
           {
            "colorbar": {
             "outlinewidth": 0,
             "ticks": ""
            },
            "colorscale": [
             [
              0,
              "#0d0887"
             ],
             [
              0.1111111111111111,
              "#46039f"
             ],
             [
              0.2222222222222222,
              "#7201a8"
             ],
             [
              0.3333333333333333,
              "#9c179e"
             ],
             [
              0.4444444444444444,
              "#bd3786"
             ],
             [
              0.5555555555555556,
              "#d8576b"
             ],
             [
              0.6666666666666666,
              "#ed7953"
             ],
             [
              0.7777777777777778,
              "#fb9f3a"
             ],
             [
              0.8888888888888888,
              "#fdca26"
             ],
             [
              1,
              "#f0f921"
             ]
            ],
            "type": "histogram2dcontour"
           }
          ],
          "mesh3d": [
           {
            "colorbar": {
             "outlinewidth": 0,
             "ticks": ""
            },
            "type": "mesh3d"
           }
          ],
          "parcoords": [
           {
            "line": {
             "colorbar": {
              "outlinewidth": 0,
              "ticks": ""
             }
            },
            "type": "parcoords"
           }
          ],
          "pie": [
           {
            "automargin": true,
            "type": "pie"
           }
          ],
          "scatter": [
           {
            "fillpattern": {
             "fillmode": "overlay",
             "size": 10,
             "solidity": 0.2
            },
            "type": "scatter"
           }
          ],
          "scatter3d": [
           {
            "line": {
             "colorbar": {
              "outlinewidth": 0,
              "ticks": ""
             }
            },
            "marker": {
             "colorbar": {
              "outlinewidth": 0,
              "ticks": ""
             }
            },
            "type": "scatter3d"
           }
          ],
          "scattercarpet": [
           {
            "marker": {
             "colorbar": {
              "outlinewidth": 0,
              "ticks": ""
             }
            },
            "type": "scattercarpet"
           }
          ],
          "scattergeo": [
           {
            "marker": {
             "colorbar": {
              "outlinewidth": 0,
              "ticks": ""
             }
            },
            "type": "scattergeo"
           }
          ],
          "scattergl": [
           {
            "marker": {
             "colorbar": {
              "outlinewidth": 0,
              "ticks": ""
             }
            },
            "type": "scattergl"
           }
          ],
          "scattermapbox": [
           {
            "marker": {
             "colorbar": {
              "outlinewidth": 0,
              "ticks": ""
             }
            },
            "type": "scattermapbox"
           }
          ],
          "scatterpolar": [
           {
            "marker": {
             "colorbar": {
              "outlinewidth": 0,
              "ticks": ""
             }
            },
            "type": "scatterpolar"
           }
          ],
          "scatterpolargl": [
           {
            "marker": {
             "colorbar": {
              "outlinewidth": 0,
              "ticks": ""
             }
            },
            "type": "scatterpolargl"
           }
          ],
          "scatterternary": [
           {
            "marker": {
             "colorbar": {
              "outlinewidth": 0,
              "ticks": ""
             }
            },
            "type": "scatterternary"
           }
          ],
          "surface": [
           {
            "colorbar": {
             "outlinewidth": 0,
             "ticks": ""
            },
            "colorscale": [
             [
              0,
              "#0d0887"
             ],
             [
              0.1111111111111111,
              "#46039f"
             ],
             [
              0.2222222222222222,
              "#7201a8"
             ],
             [
              0.3333333333333333,
              "#9c179e"
             ],
             [
              0.4444444444444444,
              "#bd3786"
             ],
             [
              0.5555555555555556,
              "#d8576b"
             ],
             [
              0.6666666666666666,
              "#ed7953"
             ],
             [
              0.7777777777777778,
              "#fb9f3a"
             ],
             [
              0.8888888888888888,
              "#fdca26"
             ],
             [
              1,
              "#f0f921"
             ]
            ],
            "type": "surface"
           }
          ],
          "table": [
           {
            "cells": {
             "fill": {
              "color": "#EBF0F8"
             },
             "line": {
              "color": "white"
             }
            },
            "header": {
             "fill": {
              "color": "#C8D4E3"
             },
             "line": {
              "color": "white"
             }
            },
            "type": "table"
           }
          ]
         },
         "layout": {
          "annotationdefaults": {
           "arrowcolor": "#2a3f5f",
           "arrowhead": 0,
           "arrowwidth": 1
          },
          "autotypenumbers": "strict",
          "coloraxis": {
           "colorbar": {
            "outlinewidth": 0,
            "ticks": ""
           }
          },
          "colorscale": {
           "diverging": [
            [
             0,
             "#8e0152"
            ],
            [
             0.1,
             "#c51b7d"
            ],
            [
             0.2,
             "#de77ae"
            ],
            [
             0.3,
             "#f1b6da"
            ],
            [
             0.4,
             "#fde0ef"
            ],
            [
             0.5,
             "#f7f7f7"
            ],
            [
             0.6,
             "#e6f5d0"
            ],
            [
             0.7,
             "#b8e186"
            ],
            [
             0.8,
             "#7fbc41"
            ],
            [
             0.9,
             "#4d9221"
            ],
            [
             1,
             "#276419"
            ]
           ],
           "sequential": [
            [
             0,
             "#0d0887"
            ],
            [
             0.1111111111111111,
             "#46039f"
            ],
            [
             0.2222222222222222,
             "#7201a8"
            ],
            [
             0.3333333333333333,
             "#9c179e"
            ],
            [
             0.4444444444444444,
             "#bd3786"
            ],
            [
             0.5555555555555556,
             "#d8576b"
            ],
            [
             0.6666666666666666,
             "#ed7953"
            ],
            [
             0.7777777777777778,
             "#fb9f3a"
            ],
            [
             0.8888888888888888,
             "#fdca26"
            ],
            [
             1,
             "#f0f921"
            ]
           ],
           "sequentialminus": [
            [
             0,
             "#0d0887"
            ],
            [
             0.1111111111111111,
             "#46039f"
            ],
            [
             0.2222222222222222,
             "#7201a8"
            ],
            [
             0.3333333333333333,
             "#9c179e"
            ],
            [
             0.4444444444444444,
             "#bd3786"
            ],
            [
             0.5555555555555556,
             "#d8576b"
            ],
            [
             0.6666666666666666,
             "#ed7953"
            ],
            [
             0.7777777777777778,
             "#fb9f3a"
            ],
            [
             0.8888888888888888,
             "#fdca26"
            ],
            [
             1,
             "#f0f921"
            ]
           ]
          },
          "colorway": [
           "#636efa",
           "#EF553B",
           "#00cc96",
           "#ab63fa",
           "#FFA15A",
           "#19d3f3",
           "#FF6692",
           "#B6E880",
           "#FF97FF",
           "#FECB52"
          ],
          "font": {
           "color": "#2a3f5f"
          },
          "geo": {
           "bgcolor": "white",
           "lakecolor": "white",
           "landcolor": "#E5ECF6",
           "showlakes": true,
           "showland": true,
           "subunitcolor": "white"
          },
          "hoverlabel": {
           "align": "left"
          },
          "hovermode": "closest",
          "mapbox": {
           "style": "light"
          },
          "paper_bgcolor": "white",
          "plot_bgcolor": "#E5ECF6",
          "polar": {
           "angularaxis": {
            "gridcolor": "white",
            "linecolor": "white",
            "ticks": ""
           },
           "bgcolor": "#E5ECF6",
           "radialaxis": {
            "gridcolor": "white",
            "linecolor": "white",
            "ticks": ""
           }
          },
          "scene": {
           "xaxis": {
            "backgroundcolor": "#E5ECF6",
            "gridcolor": "white",
            "gridwidth": 2,
            "linecolor": "white",
            "showbackground": true,
            "ticks": "",
            "zerolinecolor": "white"
           },
           "yaxis": {
            "backgroundcolor": "#E5ECF6",
            "gridcolor": "white",
            "gridwidth": 2,
            "linecolor": "white",
            "showbackground": true,
            "ticks": "",
            "zerolinecolor": "white"
           },
           "zaxis": {
            "backgroundcolor": "#E5ECF6",
            "gridcolor": "white",
            "gridwidth": 2,
            "linecolor": "white",
            "showbackground": true,
            "ticks": "",
            "zerolinecolor": "white"
           }
          },
          "shapedefaults": {
           "line": {
            "color": "#2a3f5f"
           }
          },
          "ternary": {
           "aaxis": {
            "gridcolor": "white",
            "linecolor": "white",
            "ticks": ""
           },
           "baxis": {
            "gridcolor": "white",
            "linecolor": "white",
            "ticks": ""
           },
           "bgcolor": "#E5ECF6",
           "caxis": {
            "gridcolor": "white",
            "linecolor": "white",
            "ticks": ""
           }
          },
          "title": {
           "x": 0.05
          },
          "xaxis": {
           "automargin": true,
           "gridcolor": "white",
           "linecolor": "white",
           "ticks": "",
           "title": {
            "standoff": 15
           },
           "zerolinecolor": "white",
           "zerolinewidth": 2
          },
          "yaxis": {
           "automargin": true,
           "gridcolor": "white",
           "linecolor": "white",
           "ticks": "",
           "title": {
            "standoff": 15
           },
           "zerolinecolor": "white",
           "zerolinewidth": 2
          }
         }
        },
        "title": {
         "text": "Self Repair Across Checkpoints (DE+CIL/DE) (pythia-160m-attndropout)"
        },
        "xaxis": {
         "anchor": "y",
         "domain": [
          0,
          1
         ],
         "title": {
          "text": "Checkpoint"
         }
        },
        "yaxis": {
         "anchor": "x",
         "domain": [
          0,
          1
         ],
         "range": [
          -300,
          300
         ],
         "title": {
          "text": "Self Repair Score"
         }
        }
       }
      },
      "text/html": [
       "<div>                            <div id=\"f3e1e206-2676-49b2-8e1c-dce274c9b56c\" class=\"plotly-graph-div\" style=\"height:500px; width:100%;\"></div>            <script type=\"text/javascript\">                require([\"plotly\"], function(Plotly) {                    window.PLOTLYENV=window.PLOTLYENV || {};                                    if (document.getElementById(\"f3e1e206-2676-49b2-8e1c-dce274c9b56c\")) {                    Plotly.newPlot(                        \"f3e1e206-2676-49b2-8e1c-dce274c9b56c\",                        [{\"hovertemplate\":\"Layer-Head=Layer 0-Head 0\\u003cbr\\u003eCheckpoint=%{x}\\u003cbr\\u003eSelf Repair Score=%{y}\\u003cextra\\u003e\\u003c\\u002fextra\\u003e\",\"legendgroup\":\"Layer 0-Head 0\",\"line\":{\"color\":\"#636efa\",\"dash\":\"solid\"},\"marker\":{\"symbol\":\"circle\"},\"mode\":\"lines\",\"name\":\"Layer 0-Head 0\",\"orientation\":\"v\",\"showlegend\":true,\"x\":[256,512,1000],\"xaxis\":\"x\",\"y\":[-0.4706576466560364,-2.7398886680603027,-1.284901738166809],\"yaxis\":\"y\",\"type\":\"scatter\"},{\"hovertemplate\":\"Layer-Head=Layer 0-Head 1\\u003cbr\\u003eCheckpoint=%{x}\\u003cbr\\u003eSelf Repair Score=%{y}\\u003cextra\\u003e\\u003c\\u002fextra\\u003e\",\"legendgroup\":\"Layer 0-Head 1\",\"line\":{\"color\":\"#EF553B\",\"dash\":\"solid\"},\"marker\":{\"symbol\":\"circle\"},\"mode\":\"lines\",\"name\":\"Layer 0-Head 1\",\"orientation\":\"v\",\"showlegend\":true,\"x\":[256,512,1000],\"xaxis\":\"x\",\"y\":[-6.527976036071777,-4.059282302856445,-1.9519615173339844],\"yaxis\":\"y\",\"type\":\"scatter\"},{\"hovertemplate\":\"Layer-Head=Layer 0-Head 2\\u003cbr\\u003eCheckpoint=%{x}\\u003cbr\\u003eSelf Repair Score=%{y}\\u003cextra\\u003e\\u003c\\u002fextra\\u003e\",\"legendgroup\":\"Layer 0-Head 2\",\"line\":{\"color\":\"#00cc96\",\"dash\":\"solid\"},\"marker\":{\"symbol\":\"circle\"},\"mode\":\"lines\",\"name\":\"Layer 0-Head 2\",\"orientation\":\"v\",\"showlegend\":true,\"x\":[256,512,1000],\"xaxis\":\"x\",\"y\":[0.07861097902059555,-1.1149029731750488,0.28142210841178894],\"yaxis\":\"y\",\"type\":\"scatter\"},{\"hovertemplate\":\"Layer-Head=Layer 0-Head 3\\u003cbr\\u003eCheckpoint=%{x}\\u003cbr\\u003eSelf Repair Score=%{y}\\u003cextra\\u003e\\u003c\\u002fextra\\u003e\",\"legendgroup\":\"Layer 0-Head 3\",\"line\":{\"color\":\"#ab63fa\",\"dash\":\"solid\"},\"marker\":{\"symbol\":\"circle\"},\"mode\":\"lines\",\"name\":\"Layer 0-Head 3\",\"orientation\":\"v\",\"showlegend\":true,\"x\":[256,512,1000],\"xaxis\":\"x\",\"y\":[-3.0984914302825928,-1.5834753513336182,-0.2985013425350189],\"yaxis\":\"y\",\"type\":\"scatter\"},{\"hovertemplate\":\"Layer-Head=Layer 0-Head 4\\u003cbr\\u003eCheckpoint=%{x}\\u003cbr\\u003eSelf Repair Score=%{y}\\u003cextra\\u003e\\u003c\\u002fextra\\u003e\",\"legendgroup\":\"Layer 0-Head 4\",\"line\":{\"color\":\"#FFA15A\",\"dash\":\"solid\"},\"marker\":{\"symbol\":\"circle\"},\"mode\":\"lines\",\"name\":\"Layer 0-Head 4\",\"orientation\":\"v\",\"showlegend\":true,\"x\":[256,512,1000],\"xaxis\":\"x\",\"y\":[-0.6346737742424011,-2.8341543674468994,-4.233052730560303],\"yaxis\":\"y\",\"type\":\"scatter\"},{\"hovertemplate\":\"Layer-Head=Layer 0-Head 5\\u003cbr\\u003eCheckpoint=%{x}\\u003cbr\\u003eSelf Repair Score=%{y}\\u003cextra\\u003e\\u003c\\u002fextra\\u003e\",\"legendgroup\":\"Layer 0-Head 5\",\"line\":{\"color\":\"#19d3f3\",\"dash\":\"solid\"},\"marker\":{\"symbol\":\"circle\"},\"mode\":\"lines\",\"name\":\"Layer 0-Head 5\",\"orientation\":\"v\",\"showlegend\":true,\"x\":[256,512,1000],\"xaxis\":\"x\",\"y\":[1.4579076766967773,-1.8947117328643799,-9.424071311950684],\"yaxis\":\"y\",\"type\":\"scatter\"},{\"hovertemplate\":\"Layer-Head=Layer 0-Head 6\\u003cbr\\u003eCheckpoint=%{x}\\u003cbr\\u003eSelf Repair Score=%{y}\\u003cextra\\u003e\\u003c\\u002fextra\\u003e\",\"legendgroup\":\"Layer 0-Head 6\",\"line\":{\"color\":\"#FF6692\",\"dash\":\"solid\"},\"marker\":{\"symbol\":\"circle\"},\"mode\":\"lines\",\"name\":\"Layer 0-Head 6\",\"orientation\":\"v\",\"showlegend\":true,\"x\":[256,512,1000],\"xaxis\":\"x\",\"y\":[55.52640914916992,-21.29875946044922,-2.4802913665771484],\"yaxis\":\"y\",\"type\":\"scatter\"},{\"hovertemplate\":\"Layer-Head=Layer 0-Head 7\\u003cbr\\u003eCheckpoint=%{x}\\u003cbr\\u003eSelf Repair Score=%{y}\\u003cextra\\u003e\\u003c\\u002fextra\\u003e\",\"legendgroup\":\"Layer 0-Head 7\",\"line\":{\"color\":\"#B6E880\",\"dash\":\"solid\"},\"marker\":{\"symbol\":\"circle\"},\"mode\":\"lines\",\"name\":\"Layer 0-Head 7\",\"orientation\":\"v\",\"showlegend\":true,\"x\":[256,512,1000],\"xaxis\":\"x\",\"y\":[-3.2571358680725098,-14.820972442626953,-8.06132984161377],\"yaxis\":\"y\",\"type\":\"scatter\"},{\"hovertemplate\":\"Layer-Head=Layer 0-Head 8\\u003cbr\\u003eCheckpoint=%{x}\\u003cbr\\u003eSelf Repair Score=%{y}\\u003cextra\\u003e\\u003c\\u002fextra\\u003e\",\"legendgroup\":\"Layer 0-Head 8\",\"line\":{\"color\":\"#FF97FF\",\"dash\":\"solid\"},\"marker\":{\"symbol\":\"circle\"},\"mode\":\"lines\",\"name\":\"Layer 0-Head 8\",\"orientation\":\"v\",\"showlegend\":true,\"x\":[256,512,1000],\"xaxis\":\"x\",\"y\":[-3.9929981231689453,-1.7694522142410278,-0.6070131063461304],\"yaxis\":\"y\",\"type\":\"scatter\"},{\"hovertemplate\":\"Layer-Head=Layer 0-Head 9\\u003cbr\\u003eCheckpoint=%{x}\\u003cbr\\u003eSelf Repair Score=%{y}\\u003cextra\\u003e\\u003c\\u002fextra\\u003e\",\"legendgroup\":\"Layer 0-Head 9\",\"line\":{\"color\":\"#FECB52\",\"dash\":\"solid\"},\"marker\":{\"symbol\":\"circle\"},\"mode\":\"lines\",\"name\":\"Layer 0-Head 9\",\"orientation\":\"v\",\"showlegend\":true,\"x\":[256,512,1000],\"xaxis\":\"x\",\"y\":[-1.4295823574066162,-2.374488353729248,-2.125844955444336],\"yaxis\":\"y\",\"type\":\"scatter\"},{\"hovertemplate\":\"Layer-Head=Layer 0-Head 10\\u003cbr\\u003eCheckpoint=%{x}\\u003cbr\\u003eSelf Repair Score=%{y}\\u003cextra\\u003e\\u003c\\u002fextra\\u003e\",\"legendgroup\":\"Layer 0-Head 10\",\"line\":{\"color\":\"#636efa\",\"dash\":\"solid\"},\"marker\":{\"symbol\":\"circle\"},\"mode\":\"lines\",\"name\":\"Layer 0-Head 10\",\"orientation\":\"v\",\"showlegend\":true,\"x\":[256,512,1000],\"xaxis\":\"x\",\"y\":[3.2586073875427246,-1.1204007863998413,-0.011817408725619316],\"yaxis\":\"y\",\"type\":\"scatter\"},{\"hovertemplate\":\"Layer-Head=Layer 0-Head 11\\u003cbr\\u003eCheckpoint=%{x}\\u003cbr\\u003eSelf Repair Score=%{y}\\u003cextra\\u003e\\u003c\\u002fextra\\u003e\",\"legendgroup\":\"Layer 0-Head 11\",\"line\":{\"color\":\"#EF553B\",\"dash\":\"solid\"},\"marker\":{\"symbol\":\"circle\"},\"mode\":\"lines\",\"name\":\"Layer 0-Head 11\",\"orientation\":\"v\",\"showlegend\":true,\"x\":[256,512,1000],\"xaxis\":\"x\",\"y\":[0.8978449702262878,-8.821925163269043,-4.237267971038818],\"yaxis\":\"y\",\"type\":\"scatter\"},{\"hovertemplate\":\"Layer-Head=Layer 1-Head 0\\u003cbr\\u003eCheckpoint=%{x}\\u003cbr\\u003eSelf Repair Score=%{y}\\u003cextra\\u003e\\u003c\\u002fextra\\u003e\",\"legendgroup\":\"Layer 1-Head 0\",\"line\":{\"color\":\"#00cc96\",\"dash\":\"solid\"},\"marker\":{\"symbol\":\"circle\"},\"mode\":\"lines\",\"name\":\"Layer 1-Head 0\",\"orientation\":\"v\",\"showlegend\":true,\"x\":[256,512,1000],\"xaxis\":\"x\",\"y\":[0.34558790922164917,0.13163913786411285,-0.6160555481910706],\"yaxis\":\"y\",\"type\":\"scatter\"},{\"hovertemplate\":\"Layer-Head=Layer 1-Head 1\\u003cbr\\u003eCheckpoint=%{x}\\u003cbr\\u003eSelf Repair Score=%{y}\\u003cextra\\u003e\\u003c\\u002fextra\\u003e\",\"legendgroup\":\"Layer 1-Head 1\",\"line\":{\"color\":\"#ab63fa\",\"dash\":\"solid\"},\"marker\":{\"symbol\":\"circle\"},\"mode\":\"lines\",\"name\":\"Layer 1-Head 1\",\"orientation\":\"v\",\"showlegend\":true,\"x\":[256,512,1000],\"xaxis\":\"x\",\"y\":[0.5905124545097351,-1.5417150259017944,-1.0632022619247437],\"yaxis\":\"y\",\"type\":\"scatter\"},{\"hovertemplate\":\"Layer-Head=Layer 1-Head 2\\u003cbr\\u003eCheckpoint=%{x}\\u003cbr\\u003eSelf Repair Score=%{y}\\u003cextra\\u003e\\u003c\\u002fextra\\u003e\",\"legendgroup\":\"Layer 1-Head 2\",\"line\":{\"color\":\"#FFA15A\",\"dash\":\"solid\"},\"marker\":{\"symbol\":\"circle\"},\"mode\":\"lines\",\"name\":\"Layer 1-Head 2\",\"orientation\":\"v\",\"showlegend\":true,\"x\":[256,512,1000],\"xaxis\":\"x\",\"y\":[0.8162091374397278,-0.44527581334114075,-5.060528755187988],\"yaxis\":\"y\",\"type\":\"scatter\"},{\"hovertemplate\":\"Layer-Head=Layer 1-Head 3\\u003cbr\\u003eCheckpoint=%{x}\\u003cbr\\u003eSelf Repair Score=%{y}\\u003cextra\\u003e\\u003c\\u002fextra\\u003e\",\"legendgroup\":\"Layer 1-Head 3\",\"line\":{\"color\":\"#19d3f3\",\"dash\":\"solid\"},\"marker\":{\"symbol\":\"circle\"},\"mode\":\"lines\",\"name\":\"Layer 1-Head 3\",\"orientation\":\"v\",\"showlegend\":true,\"x\":[256,512,1000],\"xaxis\":\"x\",\"y\":[0.7401966452598572,-0.461627721786499,0.38100293278694153],\"yaxis\":\"y\",\"type\":\"scatter\"},{\"hovertemplate\":\"Layer-Head=Layer 1-Head 4\\u003cbr\\u003eCheckpoint=%{x}\\u003cbr\\u003eSelf Repair Score=%{y}\\u003cextra\\u003e\\u003c\\u002fextra\\u003e\",\"legendgroup\":\"Layer 1-Head 4\",\"line\":{\"color\":\"#FF6692\",\"dash\":\"solid\"},\"marker\":{\"symbol\":\"circle\"},\"mode\":\"lines\",\"name\":\"Layer 1-Head 4\",\"orientation\":\"v\",\"showlegend\":true,\"x\":[256,512,1000],\"xaxis\":\"x\",\"y\":[0.4103514552116394,0.7687098979949951,1.7474267482757568],\"yaxis\":\"y\",\"type\":\"scatter\"},{\"hovertemplate\":\"Layer-Head=Layer 1-Head 5\\u003cbr\\u003eCheckpoint=%{x}\\u003cbr\\u003eSelf Repair Score=%{y}\\u003cextra\\u003e\\u003c\\u002fextra\\u003e\",\"legendgroup\":\"Layer 1-Head 5\",\"line\":{\"color\":\"#B6E880\",\"dash\":\"solid\"},\"marker\":{\"symbol\":\"circle\"},\"mode\":\"lines\",\"name\":\"Layer 1-Head 5\",\"orientation\":\"v\",\"showlegend\":true,\"x\":[256,512,1000],\"xaxis\":\"x\",\"y\":[1.2341625690460205,0.7514171600341797,0.06991809606552124],\"yaxis\":\"y\",\"type\":\"scatter\"},{\"hovertemplate\":\"Layer-Head=Layer 1-Head 6\\u003cbr\\u003eCheckpoint=%{x}\\u003cbr\\u003eSelf Repair Score=%{y}\\u003cextra\\u003e\\u003c\\u002fextra\\u003e\",\"legendgroup\":\"Layer 1-Head 6\",\"line\":{\"color\":\"#FF97FF\",\"dash\":\"solid\"},\"marker\":{\"symbol\":\"circle\"},\"mode\":\"lines\",\"name\":\"Layer 1-Head 6\",\"orientation\":\"v\",\"showlegend\":true,\"x\":[256,512,1000],\"xaxis\":\"x\",\"y\":[0.5987066626548767,0.5304509997367859,-2.455838441848755],\"yaxis\":\"y\",\"type\":\"scatter\"},{\"hovertemplate\":\"Layer-Head=Layer 1-Head 7\\u003cbr\\u003eCheckpoint=%{x}\\u003cbr\\u003eSelf Repair Score=%{y}\\u003cextra\\u003e\\u003c\\u002fextra\\u003e\",\"legendgroup\":\"Layer 1-Head 7\",\"line\":{\"color\":\"#FECB52\",\"dash\":\"solid\"},\"marker\":{\"symbol\":\"circle\"},\"mode\":\"lines\",\"name\":\"Layer 1-Head 7\",\"orientation\":\"v\",\"showlegend\":true,\"x\":[256,512,1000],\"xaxis\":\"x\",\"y\":[0.6745951175689697,0.12881696224212646,-0.050156451761722565],\"yaxis\":\"y\",\"type\":\"scatter\"},{\"hovertemplate\":\"Layer-Head=Layer 1-Head 8\\u003cbr\\u003eCheckpoint=%{x}\\u003cbr\\u003eSelf Repair Score=%{y}\\u003cextra\\u003e\\u003c\\u002fextra\\u003e\",\"legendgroup\":\"Layer 1-Head 8\",\"line\":{\"color\":\"#636efa\",\"dash\":\"solid\"},\"marker\":{\"symbol\":\"circle\"},\"mode\":\"lines\",\"name\":\"Layer 1-Head 8\",\"orientation\":\"v\",\"showlegend\":true,\"x\":[256,512,1000],\"xaxis\":\"x\",\"y\":[1.0330231189727783,0.8092206716537476,0.8141606450080872],\"yaxis\":\"y\",\"type\":\"scatter\"},{\"hovertemplate\":\"Layer-Head=Layer 1-Head 9\\u003cbr\\u003eCheckpoint=%{x}\\u003cbr\\u003eSelf Repair Score=%{y}\\u003cextra\\u003e\\u003c\\u002fextra\\u003e\",\"legendgroup\":\"Layer 1-Head 9\",\"line\":{\"color\":\"#EF553B\",\"dash\":\"solid\"},\"marker\":{\"symbol\":\"circle\"},\"mode\":\"lines\",\"name\":\"Layer 1-Head 9\",\"orientation\":\"v\",\"showlegend\":true,\"x\":[256,512,1000],\"xaxis\":\"x\",\"y\":[1.5375268459320068,0.04158903658390045,-0.7289376854896545],\"yaxis\":\"y\",\"type\":\"scatter\"},{\"hovertemplate\":\"Layer-Head=Layer 1-Head 10\\u003cbr\\u003eCheckpoint=%{x}\\u003cbr\\u003eSelf Repair Score=%{y}\\u003cextra\\u003e\\u003c\\u002fextra\\u003e\",\"legendgroup\":\"Layer 1-Head 10\",\"line\":{\"color\":\"#00cc96\",\"dash\":\"solid\"},\"marker\":{\"symbol\":\"circle\"},\"mode\":\"lines\",\"name\":\"Layer 1-Head 10\",\"orientation\":\"v\",\"showlegend\":true,\"x\":[256,512,1000],\"xaxis\":\"x\",\"y\":[1.0783387422561646,0.6019458174705505,0.3235618472099304],\"yaxis\":\"y\",\"type\":\"scatter\"},{\"hovertemplate\":\"Layer-Head=Layer 1-Head 11\\u003cbr\\u003eCheckpoint=%{x}\\u003cbr\\u003eSelf Repair Score=%{y}\\u003cextra\\u003e\\u003c\\u002fextra\\u003e\",\"legendgroup\":\"Layer 1-Head 11\",\"line\":{\"color\":\"#ab63fa\",\"dash\":\"solid\"},\"marker\":{\"symbol\":\"circle\"},\"mode\":\"lines\",\"name\":\"Layer 1-Head 11\",\"orientation\":\"v\",\"showlegend\":true,\"x\":[256,512,1000],\"xaxis\":\"x\",\"y\":[1.2820103168487549,-0.024846332147717476,0.6728001236915588],\"yaxis\":\"y\",\"type\":\"scatter\"},{\"hovertemplate\":\"Layer-Head=Layer 2-Head 0\\u003cbr\\u003eCheckpoint=%{x}\\u003cbr\\u003eSelf Repair Score=%{y}\\u003cextra\\u003e\\u003c\\u002fextra\\u003e\",\"legendgroup\":\"Layer 2-Head 0\",\"line\":{\"color\":\"#FFA15A\",\"dash\":\"solid\"},\"marker\":{\"symbol\":\"circle\"},\"mode\":\"lines\",\"name\":\"Layer 2-Head 0\",\"orientation\":\"v\",\"showlegend\":true,\"x\":[256,512,1000],\"xaxis\":\"x\",\"y\":[0.6434048414230347,-0.03565121814608574,0.6079283952713013],\"yaxis\":\"y\",\"type\":\"scatter\"},{\"hovertemplate\":\"Layer-Head=Layer 2-Head 1\\u003cbr\\u003eCheckpoint=%{x}\\u003cbr\\u003eSelf Repair Score=%{y}\\u003cextra\\u003e\\u003c\\u002fextra\\u003e\",\"legendgroup\":\"Layer 2-Head 1\",\"line\":{\"color\":\"#19d3f3\",\"dash\":\"solid\"},\"marker\":{\"symbol\":\"circle\"},\"mode\":\"lines\",\"name\":\"Layer 2-Head 1\",\"orientation\":\"v\",\"showlegend\":true,\"x\":[256,512,1000],\"xaxis\":\"x\",\"y\":[0.8591886758804321,-1.0763940811157227,-0.6494466662406921],\"yaxis\":\"y\",\"type\":\"scatter\"},{\"hovertemplate\":\"Layer-Head=Layer 2-Head 2\\u003cbr\\u003eCheckpoint=%{x}\\u003cbr\\u003eSelf Repair Score=%{y}\\u003cextra\\u003e\\u003c\\u002fextra\\u003e\",\"legendgroup\":\"Layer 2-Head 2\",\"line\":{\"color\":\"#FF6692\",\"dash\":\"solid\"},\"marker\":{\"symbol\":\"circle\"},\"mode\":\"lines\",\"name\":\"Layer 2-Head 2\",\"orientation\":\"v\",\"showlegend\":true,\"x\":[256,512,1000],\"xaxis\":\"x\",\"y\":[0.6692618131637573,0.19103175401687622,0.10125497728586197],\"yaxis\":\"y\",\"type\":\"scatter\"},{\"hovertemplate\":\"Layer-Head=Layer 2-Head 3\\u003cbr\\u003eCheckpoint=%{x}\\u003cbr\\u003eSelf Repair Score=%{y}\\u003cextra\\u003e\\u003c\\u002fextra\\u003e\",\"legendgroup\":\"Layer 2-Head 3\",\"line\":{\"color\":\"#B6E880\",\"dash\":\"solid\"},\"marker\":{\"symbol\":\"circle\"},\"mode\":\"lines\",\"name\":\"Layer 2-Head 3\",\"orientation\":\"v\",\"showlegend\":true,\"x\":[256,512,1000],\"xaxis\":\"x\",\"y\":[1.112844705581665,-0.3710038661956787,0.01583094894886017],\"yaxis\":\"y\",\"type\":\"scatter\"},{\"hovertemplate\":\"Layer-Head=Layer 2-Head 4\\u003cbr\\u003eCheckpoint=%{x}\\u003cbr\\u003eSelf Repair Score=%{y}\\u003cextra\\u003e\\u003c\\u002fextra\\u003e\",\"legendgroup\":\"Layer 2-Head 4\",\"line\":{\"color\":\"#FF97FF\",\"dash\":\"solid\"},\"marker\":{\"symbol\":\"circle\"},\"mode\":\"lines\",\"name\":\"Layer 2-Head 4\",\"orientation\":\"v\",\"showlegend\":true,\"x\":[256,512,1000],\"xaxis\":\"x\",\"y\":[0.1319841891527176,0.28498467803001404,0.716423749923706],\"yaxis\":\"y\",\"type\":\"scatter\"},{\"hovertemplate\":\"Layer-Head=Layer 2-Head 5\\u003cbr\\u003eCheckpoint=%{x}\\u003cbr\\u003eSelf Repair Score=%{y}\\u003cextra\\u003e\\u003c\\u002fextra\\u003e\",\"legendgroup\":\"Layer 2-Head 5\",\"line\":{\"color\":\"#FECB52\",\"dash\":\"solid\"},\"marker\":{\"symbol\":\"circle\"},\"mode\":\"lines\",\"name\":\"Layer 2-Head 5\",\"orientation\":\"v\",\"showlegend\":true,\"x\":[256,512,1000],\"xaxis\":\"x\",\"y\":[-1.3875081539154053,-2.4028944969177246,0.19952242076396942],\"yaxis\":\"y\",\"type\":\"scatter\"},{\"hovertemplate\":\"Layer-Head=Layer 2-Head 6\\u003cbr\\u003eCheckpoint=%{x}\\u003cbr\\u003eSelf Repair Score=%{y}\\u003cextra\\u003e\\u003c\\u002fextra\\u003e\",\"legendgroup\":\"Layer 2-Head 6\",\"line\":{\"color\":\"#636efa\",\"dash\":\"solid\"},\"marker\":{\"symbol\":\"circle\"},\"mode\":\"lines\",\"name\":\"Layer 2-Head 6\",\"orientation\":\"v\",\"showlegend\":true,\"x\":[256,512,1000],\"xaxis\":\"x\",\"y\":[-0.2933403253555298,-1.4831125736236572,-0.2498401403427124],\"yaxis\":\"y\",\"type\":\"scatter\"},{\"hovertemplate\":\"Layer-Head=Layer 2-Head 7\\u003cbr\\u003eCheckpoint=%{x}\\u003cbr\\u003eSelf Repair Score=%{y}\\u003cextra\\u003e\\u003c\\u002fextra\\u003e\",\"legendgroup\":\"Layer 2-Head 7\",\"line\":{\"color\":\"#EF553B\",\"dash\":\"solid\"},\"marker\":{\"symbol\":\"circle\"},\"mode\":\"lines\",\"name\":\"Layer 2-Head 7\",\"orientation\":\"v\",\"showlegend\":true,\"x\":[256,512,1000],\"xaxis\":\"x\",\"y\":[1.3895014524459839,-0.9500623941421509,0.2550419270992279],\"yaxis\":\"y\",\"type\":\"scatter\"},{\"hovertemplate\":\"Layer-Head=Layer 2-Head 8\\u003cbr\\u003eCheckpoint=%{x}\\u003cbr\\u003eSelf Repair Score=%{y}\\u003cextra\\u003e\\u003c\\u002fextra\\u003e\",\"legendgroup\":\"Layer 2-Head 8\",\"line\":{\"color\":\"#00cc96\",\"dash\":\"solid\"},\"marker\":{\"symbol\":\"circle\"},\"mode\":\"lines\",\"name\":\"Layer 2-Head 8\",\"orientation\":\"v\",\"showlegend\":true,\"x\":[256,512,1000],\"xaxis\":\"x\",\"y\":[0.48174116015434265,-0.38145536184310913,0.3054335415363312],\"yaxis\":\"y\",\"type\":\"scatter\"},{\"hovertemplate\":\"Layer-Head=Layer 2-Head 9\\u003cbr\\u003eCheckpoint=%{x}\\u003cbr\\u003eSelf Repair Score=%{y}\\u003cextra\\u003e\\u003c\\u002fextra\\u003e\",\"legendgroup\":\"Layer 2-Head 9\",\"line\":{\"color\":\"#ab63fa\",\"dash\":\"solid\"},\"marker\":{\"symbol\":\"circle\"},\"mode\":\"lines\",\"name\":\"Layer 2-Head 9\",\"orientation\":\"v\",\"showlegend\":true,\"x\":[256,512,1000],\"xaxis\":\"x\",\"y\":[0.44521573185920715,-0.008248276077210903,-0.24614214897155762],\"yaxis\":\"y\",\"type\":\"scatter\"},{\"hovertemplate\":\"Layer-Head=Layer 2-Head 10\\u003cbr\\u003eCheckpoint=%{x}\\u003cbr\\u003eSelf Repair Score=%{y}\\u003cextra\\u003e\\u003c\\u002fextra\\u003e\",\"legendgroup\":\"Layer 2-Head 10\",\"line\":{\"color\":\"#FFA15A\",\"dash\":\"solid\"},\"marker\":{\"symbol\":\"circle\"},\"mode\":\"lines\",\"name\":\"Layer 2-Head 10\",\"orientation\":\"v\",\"showlegend\":true,\"x\":[256,512,1000],\"xaxis\":\"x\",\"y\":[0.7241322994232178,-0.3246258795261383,0.08674189448356628],\"yaxis\":\"y\",\"type\":\"scatter\"},{\"hovertemplate\":\"Layer-Head=Layer 2-Head 11\\u003cbr\\u003eCheckpoint=%{x}\\u003cbr\\u003eSelf Repair Score=%{y}\\u003cextra\\u003e\\u003c\\u002fextra\\u003e\",\"legendgroup\":\"Layer 2-Head 11\",\"line\":{\"color\":\"#19d3f3\",\"dash\":\"solid\"},\"marker\":{\"symbol\":\"circle\"},\"mode\":\"lines\",\"name\":\"Layer 2-Head 11\",\"orientation\":\"v\",\"showlegend\":true,\"x\":[256,512,1000],\"xaxis\":\"x\",\"y\":[-0.18100520968437195,-3.3381662368774414,-0.5570475459098816],\"yaxis\":\"y\",\"type\":\"scatter\"},{\"hovertemplate\":\"Layer-Head=Layer 3-Head 0\\u003cbr\\u003eCheckpoint=%{x}\\u003cbr\\u003eSelf Repair Score=%{y}\\u003cextra\\u003e\\u003c\\u002fextra\\u003e\",\"legendgroup\":\"Layer 3-Head 0\",\"line\":{\"color\":\"#FF6692\",\"dash\":\"solid\"},\"marker\":{\"symbol\":\"circle\"},\"mode\":\"lines\",\"name\":\"Layer 3-Head 0\",\"orientation\":\"v\",\"showlegend\":true,\"x\":[256,512,1000],\"xaxis\":\"x\",\"y\":[-0.21406680345535278,-0.9871094226837158,-0.41097524762153625],\"yaxis\":\"y\",\"type\":\"scatter\"},{\"hovertemplate\":\"Layer-Head=Layer 3-Head 1\\u003cbr\\u003eCheckpoint=%{x}\\u003cbr\\u003eSelf Repair Score=%{y}\\u003cextra\\u003e\\u003c\\u002fextra\\u003e\",\"legendgroup\":\"Layer 3-Head 1\",\"line\":{\"color\":\"#B6E880\",\"dash\":\"solid\"},\"marker\":{\"symbol\":\"circle\"},\"mode\":\"lines\",\"name\":\"Layer 3-Head 1\",\"orientation\":\"v\",\"showlegend\":true,\"x\":[256,512,1000],\"xaxis\":\"x\",\"y\":[8.220745086669922,-1.8733538389205933,0.15055479109287262],\"yaxis\":\"y\",\"type\":\"scatter\"},{\"hovertemplate\":\"Layer-Head=Layer 3-Head 2\\u003cbr\\u003eCheckpoint=%{x}\\u003cbr\\u003eSelf Repair Score=%{y}\\u003cextra\\u003e\\u003c\\u002fextra\\u003e\",\"legendgroup\":\"Layer 3-Head 2\",\"line\":{\"color\":\"#FF97FF\",\"dash\":\"solid\"},\"marker\":{\"symbol\":\"circle\"},\"mode\":\"lines\",\"name\":\"Layer 3-Head 2\",\"orientation\":\"v\",\"showlegend\":true,\"x\":[256,512,1000],\"xaxis\":\"x\",\"y\":[-1.4054654836654663,-2.2804999351501465,-3.7746968269348145],\"yaxis\":\"y\",\"type\":\"scatter\"},{\"hovertemplate\":\"Layer-Head=Layer 3-Head 3\\u003cbr\\u003eCheckpoint=%{x}\\u003cbr\\u003eSelf Repair Score=%{y}\\u003cextra\\u003e\\u003c\\u002fextra\\u003e\",\"legendgroup\":\"Layer 3-Head 3\",\"line\":{\"color\":\"#FECB52\",\"dash\":\"solid\"},\"marker\":{\"symbol\":\"circle\"},\"mode\":\"lines\",\"name\":\"Layer 3-Head 3\",\"orientation\":\"v\",\"showlegend\":true,\"x\":[256,512,1000],\"xaxis\":\"x\",\"y\":[1.4704787731170654,0.8536860942840576,1.192244052886963],\"yaxis\":\"y\",\"type\":\"scatter\"},{\"hovertemplate\":\"Layer-Head=Layer 3-Head 4\\u003cbr\\u003eCheckpoint=%{x}\\u003cbr\\u003eSelf Repair Score=%{y}\\u003cextra\\u003e\\u003c\\u002fextra\\u003e\",\"legendgroup\":\"Layer 3-Head 4\",\"line\":{\"color\":\"#636efa\",\"dash\":\"solid\"},\"marker\":{\"symbol\":\"circle\"},\"mode\":\"lines\",\"name\":\"Layer 3-Head 4\",\"orientation\":\"v\",\"showlegend\":true,\"x\":[256,512,1000],\"xaxis\":\"x\",\"y\":[-0.4184625446796417,-1.2619550228118896,-2.0389041900634766],\"yaxis\":\"y\",\"type\":\"scatter\"},{\"hovertemplate\":\"Layer-Head=Layer 3-Head 5\\u003cbr\\u003eCheckpoint=%{x}\\u003cbr\\u003eSelf Repair Score=%{y}\\u003cextra\\u003e\\u003c\\u002fextra\\u003e\",\"legendgroup\":\"Layer 3-Head 5\",\"line\":{\"color\":\"#EF553B\",\"dash\":\"solid\"},\"marker\":{\"symbol\":\"circle\"},\"mode\":\"lines\",\"name\":\"Layer 3-Head 5\",\"orientation\":\"v\",\"showlegend\":true,\"x\":[256,512,1000],\"xaxis\":\"x\",\"y\":[-2.531625747680664,-0.07617490738630295,0.9084293842315674],\"yaxis\":\"y\",\"type\":\"scatter\"},{\"hovertemplate\":\"Layer-Head=Layer 3-Head 6\\u003cbr\\u003eCheckpoint=%{x}\\u003cbr\\u003eSelf Repair Score=%{y}\\u003cextra\\u003e\\u003c\\u002fextra\\u003e\",\"legendgroup\":\"Layer 3-Head 6\",\"line\":{\"color\":\"#00cc96\",\"dash\":\"solid\"},\"marker\":{\"symbol\":\"circle\"},\"mode\":\"lines\",\"name\":\"Layer 3-Head 6\",\"orientation\":\"v\",\"showlegend\":true,\"x\":[256,512,1000],\"xaxis\":\"x\",\"y\":[0.7098510265350342,0.6783162355422974,0.6873812079429626],\"yaxis\":\"y\",\"type\":\"scatter\"},{\"hovertemplate\":\"Layer-Head=Layer 3-Head 7\\u003cbr\\u003eCheckpoint=%{x}\\u003cbr\\u003eSelf Repair Score=%{y}\\u003cextra\\u003e\\u003c\\u002fextra\\u003e\",\"legendgroup\":\"Layer 3-Head 7\",\"line\":{\"color\":\"#ab63fa\",\"dash\":\"solid\"},\"marker\":{\"symbol\":\"circle\"},\"mode\":\"lines\",\"name\":\"Layer 3-Head 7\",\"orientation\":\"v\",\"showlegend\":true,\"x\":[256,512,1000],\"xaxis\":\"x\",\"y\":[-0.0793718621134758,4.185853958129883,0.9975298047065735],\"yaxis\":\"y\",\"type\":\"scatter\"},{\"hovertemplate\":\"Layer-Head=Layer 3-Head 8\\u003cbr\\u003eCheckpoint=%{x}\\u003cbr\\u003eSelf Repair Score=%{y}\\u003cextra\\u003e\\u003c\\u002fextra\\u003e\",\"legendgroup\":\"Layer 3-Head 8\",\"line\":{\"color\":\"#FFA15A\",\"dash\":\"solid\"},\"marker\":{\"symbol\":\"circle\"},\"mode\":\"lines\",\"name\":\"Layer 3-Head 8\",\"orientation\":\"v\",\"showlegend\":true,\"x\":[256,512,1000],\"xaxis\":\"x\",\"y\":[1.7300610542297363,-0.9937378168106079,0.19119876623153687],\"yaxis\":\"y\",\"type\":\"scatter\"},{\"hovertemplate\":\"Layer-Head=Layer 3-Head 9\\u003cbr\\u003eCheckpoint=%{x}\\u003cbr\\u003eSelf Repair Score=%{y}\\u003cextra\\u003e\\u003c\\u002fextra\\u003e\",\"legendgroup\":\"Layer 3-Head 9\",\"line\":{\"color\":\"#19d3f3\",\"dash\":\"solid\"},\"marker\":{\"symbol\":\"circle\"},\"mode\":\"lines\",\"name\":\"Layer 3-Head 9\",\"orientation\":\"v\",\"showlegend\":true,\"x\":[256,512,1000],\"xaxis\":\"x\",\"y\":[-14.123698234558105,-1.0987862348556519,-0.16787467896938324],\"yaxis\":\"y\",\"type\":\"scatter\"},{\"hovertemplate\":\"Layer-Head=Layer 3-Head 10\\u003cbr\\u003eCheckpoint=%{x}\\u003cbr\\u003eSelf Repair Score=%{y}\\u003cextra\\u003e\\u003c\\u002fextra\\u003e\",\"legendgroup\":\"Layer 3-Head 10\",\"line\":{\"color\":\"#FF6692\",\"dash\":\"solid\"},\"marker\":{\"symbol\":\"circle\"},\"mode\":\"lines\",\"name\":\"Layer 3-Head 10\",\"orientation\":\"v\",\"showlegend\":true,\"x\":[256,512,1000],\"xaxis\":\"x\",\"y\":[1.8713899850845337,0.08482009917497635,0.4671388268470764],\"yaxis\":\"y\",\"type\":\"scatter\"},{\"hovertemplate\":\"Layer-Head=Layer 3-Head 11\\u003cbr\\u003eCheckpoint=%{x}\\u003cbr\\u003eSelf Repair Score=%{y}\\u003cextra\\u003e\\u003c\\u002fextra\\u003e\",\"legendgroup\":\"Layer 3-Head 11\",\"line\":{\"color\":\"#B6E880\",\"dash\":\"solid\"},\"marker\":{\"symbol\":\"circle\"},\"mode\":\"lines\",\"name\":\"Layer 3-Head 11\",\"orientation\":\"v\",\"showlegend\":true,\"x\":[256,512,1000],\"xaxis\":\"x\",\"y\":[-0.3212703764438629,-0.18670754134655,0.10922730714082718],\"yaxis\":\"y\",\"type\":\"scatter\"},{\"hovertemplate\":\"Layer-Head=Layer 4-Head 0\\u003cbr\\u003eCheckpoint=%{x}\\u003cbr\\u003eSelf Repair Score=%{y}\\u003cextra\\u003e\\u003c\\u002fextra\\u003e\",\"legendgroup\":\"Layer 4-Head 0\",\"line\":{\"color\":\"#FF97FF\",\"dash\":\"solid\"},\"marker\":{\"symbol\":\"circle\"},\"mode\":\"lines\",\"name\":\"Layer 4-Head 0\",\"orientation\":\"v\",\"showlegend\":true,\"x\":[256,512,1000],\"xaxis\":\"x\",\"y\":[1.292636513710022,2.992417812347412,-0.055359482765197754],\"yaxis\":\"y\",\"type\":\"scatter\"},{\"hovertemplate\":\"Layer-Head=Layer 4-Head 1\\u003cbr\\u003eCheckpoint=%{x}\\u003cbr\\u003eSelf Repair Score=%{y}\\u003cextra\\u003e\\u003c\\u002fextra\\u003e\",\"legendgroup\":\"Layer 4-Head 1\",\"line\":{\"color\":\"#FECB52\",\"dash\":\"solid\"},\"marker\":{\"symbol\":\"circle\"},\"mode\":\"lines\",\"name\":\"Layer 4-Head 1\",\"orientation\":\"v\",\"showlegend\":true,\"x\":[256,512,1000],\"xaxis\":\"x\",\"y\":[-2.871042251586914,-2.941021680831909,0.47943297028541565],\"yaxis\":\"y\",\"type\":\"scatter\"},{\"hovertemplate\":\"Layer-Head=Layer 4-Head 2\\u003cbr\\u003eCheckpoint=%{x}\\u003cbr\\u003eSelf Repair Score=%{y}\\u003cextra\\u003e\\u003c\\u002fextra\\u003e\",\"legendgroup\":\"Layer 4-Head 2\",\"line\":{\"color\":\"#636efa\",\"dash\":\"solid\"},\"marker\":{\"symbol\":\"circle\"},\"mode\":\"lines\",\"name\":\"Layer 4-Head 2\",\"orientation\":\"v\",\"showlegend\":true,\"x\":[256,512,1000],\"xaxis\":\"x\",\"y\":[0.35851171612739563,-5.970757961273193,0.08151835203170776],\"yaxis\":\"y\",\"type\":\"scatter\"},{\"hovertemplate\":\"Layer-Head=Layer 4-Head 3\\u003cbr\\u003eCheckpoint=%{x}\\u003cbr\\u003eSelf Repair Score=%{y}\\u003cextra\\u003e\\u003c\\u002fextra\\u003e\",\"legendgroup\":\"Layer 4-Head 3\",\"line\":{\"color\":\"#EF553B\",\"dash\":\"solid\"},\"marker\":{\"symbol\":\"circle\"},\"mode\":\"lines\",\"name\":\"Layer 4-Head 3\",\"orientation\":\"v\",\"showlegend\":true,\"x\":[256,512,1000],\"xaxis\":\"x\",\"y\":[1.439645767211914,-2.509539842605591,0.21683673560619354],\"yaxis\":\"y\",\"type\":\"scatter\"},{\"hovertemplate\":\"Layer-Head=Layer 4-Head 4\\u003cbr\\u003eCheckpoint=%{x}\\u003cbr\\u003eSelf Repair Score=%{y}\\u003cextra\\u003e\\u003c\\u002fextra\\u003e\",\"legendgroup\":\"Layer 4-Head 4\",\"line\":{\"color\":\"#00cc96\",\"dash\":\"solid\"},\"marker\":{\"symbol\":\"circle\"},\"mode\":\"lines\",\"name\":\"Layer 4-Head 4\",\"orientation\":\"v\",\"showlegend\":true,\"x\":[256,512,1000],\"xaxis\":\"x\",\"y\":[-0.09024792909622192,0.2226416915655136,0.1857190728187561],\"yaxis\":\"y\",\"type\":\"scatter\"},{\"hovertemplate\":\"Layer-Head=Layer 4-Head 5\\u003cbr\\u003eCheckpoint=%{x}\\u003cbr\\u003eSelf Repair Score=%{y}\\u003cextra\\u003e\\u003c\\u002fextra\\u003e\",\"legendgroup\":\"Layer 4-Head 5\",\"line\":{\"color\":\"#ab63fa\",\"dash\":\"solid\"},\"marker\":{\"symbol\":\"circle\"},\"mode\":\"lines\",\"name\":\"Layer 4-Head 5\",\"orientation\":\"v\",\"showlegend\":true,\"x\":[256,512,1000],\"xaxis\":\"x\",\"y\":[4.849526405334473,-3.890866994857788,-0.49571576714515686],\"yaxis\":\"y\",\"type\":\"scatter\"},{\"hovertemplate\":\"Layer-Head=Layer 4-Head 6\\u003cbr\\u003eCheckpoint=%{x}\\u003cbr\\u003eSelf Repair Score=%{y}\\u003cextra\\u003e\\u003c\\u002fextra\\u003e\",\"legendgroup\":\"Layer 4-Head 6\",\"line\":{\"color\":\"#FFA15A\",\"dash\":\"solid\"},\"marker\":{\"symbol\":\"circle\"},\"mode\":\"lines\",\"name\":\"Layer 4-Head 6\",\"orientation\":\"v\",\"showlegend\":true,\"x\":[256,512,1000],\"xaxis\":\"x\",\"y\":[-1.3446112871170044,-0.5709289908409119,0.3367098569869995],\"yaxis\":\"y\",\"type\":\"scatter\"},{\"hovertemplate\":\"Layer-Head=Layer 4-Head 7\\u003cbr\\u003eCheckpoint=%{x}\\u003cbr\\u003eSelf Repair Score=%{y}\\u003cextra\\u003e\\u003c\\u002fextra\\u003e\",\"legendgroup\":\"Layer 4-Head 7\",\"line\":{\"color\":\"#19d3f3\",\"dash\":\"solid\"},\"marker\":{\"symbol\":\"circle\"},\"mode\":\"lines\",\"name\":\"Layer 4-Head 7\",\"orientation\":\"v\",\"showlegend\":true,\"x\":[256,512,1000],\"xaxis\":\"x\",\"y\":[0.46244725584983826,0.5749576091766357,-0.005662203766405582],\"yaxis\":\"y\",\"type\":\"scatter\"},{\"hovertemplate\":\"Layer-Head=Layer 4-Head 8\\u003cbr\\u003eCheckpoint=%{x}\\u003cbr\\u003eSelf Repair Score=%{y}\\u003cextra\\u003e\\u003c\\u002fextra\\u003e\",\"legendgroup\":\"Layer 4-Head 8\",\"line\":{\"color\":\"#FF6692\",\"dash\":\"solid\"},\"marker\":{\"symbol\":\"circle\"},\"mode\":\"lines\",\"name\":\"Layer 4-Head 8\",\"orientation\":\"v\",\"showlegend\":true,\"x\":[256,512,1000],\"xaxis\":\"x\",\"y\":[1.0267361402511597,2.765418291091919,0.15301275253295898],\"yaxis\":\"y\",\"type\":\"scatter\"},{\"hovertemplate\":\"Layer-Head=Layer 4-Head 9\\u003cbr\\u003eCheckpoint=%{x}\\u003cbr\\u003eSelf Repair Score=%{y}\\u003cextra\\u003e\\u003c\\u002fextra\\u003e\",\"legendgroup\":\"Layer 4-Head 9\",\"line\":{\"color\":\"#B6E880\",\"dash\":\"solid\"},\"marker\":{\"symbol\":\"circle\"},\"mode\":\"lines\",\"name\":\"Layer 4-Head 9\",\"orientation\":\"v\",\"showlegend\":true,\"x\":[256,512,1000],\"xaxis\":\"x\",\"y\":[1.1677982807159424,-2.092636823654175,0.14225740730762482],\"yaxis\":\"y\",\"type\":\"scatter\"},{\"hovertemplate\":\"Layer-Head=Layer 4-Head 10\\u003cbr\\u003eCheckpoint=%{x}\\u003cbr\\u003eSelf Repair Score=%{y}\\u003cextra\\u003e\\u003c\\u002fextra\\u003e\",\"legendgroup\":\"Layer 4-Head 10\",\"line\":{\"color\":\"#FF97FF\",\"dash\":\"solid\"},\"marker\":{\"symbol\":\"circle\"},\"mode\":\"lines\",\"name\":\"Layer 4-Head 10\",\"orientation\":\"v\",\"showlegend\":true,\"x\":[256,512,1000],\"xaxis\":\"x\",\"y\":[1.1570308208465576,-3.171882152557373,0.2050563097000122],\"yaxis\":\"y\",\"type\":\"scatter\"},{\"hovertemplate\":\"Layer-Head=Layer 4-Head 11\\u003cbr\\u003eCheckpoint=%{x}\\u003cbr\\u003eSelf Repair Score=%{y}\\u003cextra\\u003e\\u003c\\u002fextra\\u003e\",\"legendgroup\":\"Layer 4-Head 11\",\"line\":{\"color\":\"#FECB52\",\"dash\":\"solid\"},\"marker\":{\"symbol\":\"circle\"},\"mode\":\"lines\",\"name\":\"Layer 4-Head 11\",\"orientation\":\"v\",\"showlegend\":true,\"x\":[256,512,1000],\"xaxis\":\"x\",\"y\":[0.8838509321212769,-0.6689593195915222,0.1499008685350418],\"yaxis\":\"y\",\"type\":\"scatter\"},{\"hovertemplate\":\"Layer-Head=Layer 5-Head 0\\u003cbr\\u003eCheckpoint=%{x}\\u003cbr\\u003eSelf Repair Score=%{y}\\u003cextra\\u003e\\u003c\\u002fextra\\u003e\",\"legendgroup\":\"Layer 5-Head 0\",\"line\":{\"color\":\"#636efa\",\"dash\":\"solid\"},\"marker\":{\"symbol\":\"circle\"},\"mode\":\"lines\",\"name\":\"Layer 5-Head 0\",\"orientation\":\"v\",\"showlegend\":true,\"x\":[256,512,1000],\"xaxis\":\"x\",\"y\":[-0.3281202018260956,0.8207066059112549,1.7258124351501465],\"yaxis\":\"y\",\"type\":\"scatter\"},{\"hovertemplate\":\"Layer-Head=Layer 5-Head 1\\u003cbr\\u003eCheckpoint=%{x}\\u003cbr\\u003eSelf Repair Score=%{y}\\u003cextra\\u003e\\u003c\\u002fextra\\u003e\",\"legendgroup\":\"Layer 5-Head 1\",\"line\":{\"color\":\"#EF553B\",\"dash\":\"solid\"},\"marker\":{\"symbol\":\"circle\"},\"mode\":\"lines\",\"name\":\"Layer 5-Head 1\",\"orientation\":\"v\",\"showlegend\":true,\"x\":[256,512,1000],\"xaxis\":\"x\",\"y\":[1.2886412143707275,1.2937110662460327,0.4648109972476959],\"yaxis\":\"y\",\"type\":\"scatter\"},{\"hovertemplate\":\"Layer-Head=Layer 5-Head 2\\u003cbr\\u003eCheckpoint=%{x}\\u003cbr\\u003eSelf Repair Score=%{y}\\u003cextra\\u003e\\u003c\\u002fextra\\u003e\",\"legendgroup\":\"Layer 5-Head 2\",\"line\":{\"color\":\"#00cc96\",\"dash\":\"solid\"},\"marker\":{\"symbol\":\"circle\"},\"mode\":\"lines\",\"name\":\"Layer 5-Head 2\",\"orientation\":\"v\",\"showlegend\":true,\"x\":[256,512,1000],\"xaxis\":\"x\",\"y\":[0.7465286254882812,-1.393649697303772,-1.88669753074646],\"yaxis\":\"y\",\"type\":\"scatter\"},{\"hovertemplate\":\"Layer-Head=Layer 5-Head 3\\u003cbr\\u003eCheckpoint=%{x}\\u003cbr\\u003eSelf Repair Score=%{y}\\u003cextra\\u003e\\u003c\\u002fextra\\u003e\",\"legendgroup\":\"Layer 5-Head 3\",\"line\":{\"color\":\"#ab63fa\",\"dash\":\"solid\"},\"marker\":{\"symbol\":\"circle\"},\"mode\":\"lines\",\"name\":\"Layer 5-Head 3\",\"orientation\":\"v\",\"showlegend\":true,\"x\":[256,512,1000],\"xaxis\":\"x\",\"y\":[2.0228543281555176,1.0298875570297241,0.3848433196544647],\"yaxis\":\"y\",\"type\":\"scatter\"},{\"hovertemplate\":\"Layer-Head=Layer 5-Head 4\\u003cbr\\u003eCheckpoint=%{x}\\u003cbr\\u003eSelf Repair Score=%{y}\\u003cextra\\u003e\\u003c\\u002fextra\\u003e\",\"legendgroup\":\"Layer 5-Head 4\",\"line\":{\"color\":\"#FFA15A\",\"dash\":\"solid\"},\"marker\":{\"symbol\":\"circle\"},\"mode\":\"lines\",\"name\":\"Layer 5-Head 4\",\"orientation\":\"v\",\"showlegend\":true,\"x\":[256,512,1000],\"xaxis\":\"x\",\"y\":[0.9287620782852173,0.7919294834136963,-0.013090699911117554],\"yaxis\":\"y\",\"type\":\"scatter\"},{\"hovertemplate\":\"Layer-Head=Layer 5-Head 5\\u003cbr\\u003eCheckpoint=%{x}\\u003cbr\\u003eSelf Repair Score=%{y}\\u003cextra\\u003e\\u003c\\u002fextra\\u003e\",\"legendgroup\":\"Layer 5-Head 5\",\"line\":{\"color\":\"#19d3f3\",\"dash\":\"solid\"},\"marker\":{\"symbol\":\"circle\"},\"mode\":\"lines\",\"name\":\"Layer 5-Head 5\",\"orientation\":\"v\",\"showlegend\":true,\"x\":[256,512,1000],\"xaxis\":\"x\",\"y\":[0.6077439785003662,0.317332923412323,0.7416663765907288],\"yaxis\":\"y\",\"type\":\"scatter\"},{\"hovertemplate\":\"Layer-Head=Layer 5-Head 6\\u003cbr\\u003eCheckpoint=%{x}\\u003cbr\\u003eSelf Repair Score=%{y}\\u003cextra\\u003e\\u003c\\u002fextra\\u003e\",\"legendgroup\":\"Layer 5-Head 6\",\"line\":{\"color\":\"#FF6692\",\"dash\":\"solid\"},\"marker\":{\"symbol\":\"circle\"},\"mode\":\"lines\",\"name\":\"Layer 5-Head 6\",\"orientation\":\"v\",\"showlegend\":true,\"x\":[256,512,1000],\"xaxis\":\"x\",\"y\":[1.715946078300476,-0.07120251655578613,-0.13638156652450562],\"yaxis\":\"y\",\"type\":\"scatter\"},{\"hovertemplate\":\"Layer-Head=Layer 5-Head 7\\u003cbr\\u003eCheckpoint=%{x}\\u003cbr\\u003eSelf Repair Score=%{y}\\u003cextra\\u003e\\u003c\\u002fextra\\u003e\",\"legendgroup\":\"Layer 5-Head 7\",\"line\":{\"color\":\"#B6E880\",\"dash\":\"solid\"},\"marker\":{\"symbol\":\"circle\"},\"mode\":\"lines\",\"name\":\"Layer 5-Head 7\",\"orientation\":\"v\",\"showlegend\":true,\"x\":[256,512,1000],\"xaxis\":\"x\",\"y\":[0.31302374601364136,0.6392943859100342,1.1036382913589478],\"yaxis\":\"y\",\"type\":\"scatter\"},{\"hovertemplate\":\"Layer-Head=Layer 5-Head 8\\u003cbr\\u003eCheckpoint=%{x}\\u003cbr\\u003eSelf Repair Score=%{y}\\u003cextra\\u003e\\u003c\\u002fextra\\u003e\",\"legendgroup\":\"Layer 5-Head 8\",\"line\":{\"color\":\"#FF97FF\",\"dash\":\"solid\"},\"marker\":{\"symbol\":\"circle\"},\"mode\":\"lines\",\"name\":\"Layer 5-Head 8\",\"orientation\":\"v\",\"showlegend\":true,\"x\":[256,512,1000],\"xaxis\":\"x\",\"y\":[-0.5047441124916077,0.23173032701015472,-0.1836385279893875],\"yaxis\":\"y\",\"type\":\"scatter\"},{\"hovertemplate\":\"Layer-Head=Layer 5-Head 9\\u003cbr\\u003eCheckpoint=%{x}\\u003cbr\\u003eSelf Repair Score=%{y}\\u003cextra\\u003e\\u003c\\u002fextra\\u003e\",\"legendgroup\":\"Layer 5-Head 9\",\"line\":{\"color\":\"#FECB52\",\"dash\":\"solid\"},\"marker\":{\"symbol\":\"circle\"},\"mode\":\"lines\",\"name\":\"Layer 5-Head 9\",\"orientation\":\"v\",\"showlegend\":true,\"x\":[256,512,1000],\"xaxis\":\"x\",\"y\":[1.2930455207824707,11.83407974243164,0.36290842294692993],\"yaxis\":\"y\",\"type\":\"scatter\"},{\"hovertemplate\":\"Layer-Head=Layer 5-Head 10\\u003cbr\\u003eCheckpoint=%{x}\\u003cbr\\u003eSelf Repair Score=%{y}\\u003cextra\\u003e\\u003c\\u002fextra\\u003e\",\"legendgroup\":\"Layer 5-Head 10\",\"line\":{\"color\":\"#636efa\",\"dash\":\"solid\"},\"marker\":{\"symbol\":\"circle\"},\"mode\":\"lines\",\"name\":\"Layer 5-Head 10\",\"orientation\":\"v\",\"showlegend\":true,\"x\":[256,512,1000],\"xaxis\":\"x\",\"y\":[1.3298641443252563,-0.3130551874637604,-0.02489747852087021],\"yaxis\":\"y\",\"type\":\"scatter\"},{\"hovertemplate\":\"Layer-Head=Layer 5-Head 11\\u003cbr\\u003eCheckpoint=%{x}\\u003cbr\\u003eSelf Repair Score=%{y}\\u003cextra\\u003e\\u003c\\u002fextra\\u003e\",\"legendgroup\":\"Layer 5-Head 11\",\"line\":{\"color\":\"#EF553B\",\"dash\":\"solid\"},\"marker\":{\"symbol\":\"circle\"},\"mode\":\"lines\",\"name\":\"Layer 5-Head 11\",\"orientation\":\"v\",\"showlegend\":true,\"x\":[256,512,1000],\"xaxis\":\"x\",\"y\":[3.2073147296905518,1.1102455854415894,1.7732570171356201],\"yaxis\":\"y\",\"type\":\"scatter\"},{\"hovertemplate\":\"Layer-Head=Layer 6-Head 0\\u003cbr\\u003eCheckpoint=%{x}\\u003cbr\\u003eSelf Repair Score=%{y}\\u003cextra\\u003e\\u003c\\u002fextra\\u003e\",\"legendgroup\":\"Layer 6-Head 0\",\"line\":{\"color\":\"#00cc96\",\"dash\":\"solid\"},\"marker\":{\"symbol\":\"circle\"},\"mode\":\"lines\",\"name\":\"Layer 6-Head 0\",\"orientation\":\"v\",\"showlegend\":true,\"x\":[256,512,1000],\"xaxis\":\"x\",\"y\":[2.117673635482788,0.22590914368629456,-7.882071495056152],\"yaxis\":\"y\",\"type\":\"scatter\"},{\"hovertemplate\":\"Layer-Head=Layer 6-Head 1\\u003cbr\\u003eCheckpoint=%{x}\\u003cbr\\u003eSelf Repair Score=%{y}\\u003cextra\\u003e\\u003c\\u002fextra\\u003e\",\"legendgroup\":\"Layer 6-Head 1\",\"line\":{\"color\":\"#ab63fa\",\"dash\":\"solid\"},\"marker\":{\"symbol\":\"circle\"},\"mode\":\"lines\",\"name\":\"Layer 6-Head 1\",\"orientation\":\"v\",\"showlegend\":true,\"x\":[256,512,1000],\"xaxis\":\"x\",\"y\":[0.5493417978286743,0.8060141205787659,0.8600578904151917],\"yaxis\":\"y\",\"type\":\"scatter\"},{\"hovertemplate\":\"Layer-Head=Layer 6-Head 2\\u003cbr\\u003eCheckpoint=%{x}\\u003cbr\\u003eSelf Repair Score=%{y}\\u003cextra\\u003e\\u003c\\u002fextra\\u003e\",\"legendgroup\":\"Layer 6-Head 2\",\"line\":{\"color\":\"#FFA15A\",\"dash\":\"solid\"},\"marker\":{\"symbol\":\"circle\"},\"mode\":\"lines\",\"name\":\"Layer 6-Head 2\",\"orientation\":\"v\",\"showlegend\":true,\"x\":[256,512,1000],\"xaxis\":\"x\",\"y\":[-7.418001651763916,1.0479705333709717,0.7219153046607971],\"yaxis\":\"y\",\"type\":\"scatter\"},{\"hovertemplate\":\"Layer-Head=Layer 6-Head 3\\u003cbr\\u003eCheckpoint=%{x}\\u003cbr\\u003eSelf Repair Score=%{y}\\u003cextra\\u003e\\u003c\\u002fextra\\u003e\",\"legendgroup\":\"Layer 6-Head 3\",\"line\":{\"color\":\"#19d3f3\",\"dash\":\"solid\"},\"marker\":{\"symbol\":\"circle\"},\"mode\":\"lines\",\"name\":\"Layer 6-Head 3\",\"orientation\":\"v\",\"showlegend\":true,\"x\":[256,512,1000],\"xaxis\":\"x\",\"y\":[0.9155080914497375,0.9541155695915222,0.7434514760971069],\"yaxis\":\"y\",\"type\":\"scatter\"},{\"hovertemplate\":\"Layer-Head=Layer 6-Head 4\\u003cbr\\u003eCheckpoint=%{x}\\u003cbr\\u003eSelf Repair Score=%{y}\\u003cextra\\u003e\\u003c\\u002fextra\\u003e\",\"legendgroup\":\"Layer 6-Head 4\",\"line\":{\"color\":\"#FF6692\",\"dash\":\"solid\"},\"marker\":{\"symbol\":\"circle\"},\"mode\":\"lines\",\"name\":\"Layer 6-Head 4\",\"orientation\":\"v\",\"showlegend\":true,\"x\":[256,512,1000],\"xaxis\":\"x\",\"y\":[0.4486989676952362,0.2629796862602234,0.5080364346504211],\"yaxis\":\"y\",\"type\":\"scatter\"},{\"hovertemplate\":\"Layer-Head=Layer 6-Head 5\\u003cbr\\u003eCheckpoint=%{x}\\u003cbr\\u003eSelf Repair Score=%{y}\\u003cextra\\u003e\\u003c\\u002fextra\\u003e\",\"legendgroup\":\"Layer 6-Head 5\",\"line\":{\"color\":\"#B6E880\",\"dash\":\"solid\"},\"marker\":{\"symbol\":\"circle\"},\"mode\":\"lines\",\"name\":\"Layer 6-Head 5\",\"orientation\":\"v\",\"showlegend\":true,\"x\":[256,512,1000],\"xaxis\":\"x\",\"y\":[2.353668689727783,0.9429120421409607,0.9883893132209778],\"yaxis\":\"y\",\"type\":\"scatter\"},{\"hovertemplate\":\"Layer-Head=Layer 6-Head 6\\u003cbr\\u003eCheckpoint=%{x}\\u003cbr\\u003eSelf Repair Score=%{y}\\u003cextra\\u003e\\u003c\\u002fextra\\u003e\",\"legendgroup\":\"Layer 6-Head 6\",\"line\":{\"color\":\"#FF97FF\",\"dash\":\"solid\"},\"marker\":{\"symbol\":\"circle\"},\"mode\":\"lines\",\"name\":\"Layer 6-Head 6\",\"orientation\":\"v\",\"showlegend\":true,\"x\":[256,512,1000],\"xaxis\":\"x\",\"y\":[1.3913280963897705,-0.22837582230567932,0.18480284512043],\"yaxis\":\"y\",\"type\":\"scatter\"},{\"hovertemplate\":\"Layer-Head=Layer 6-Head 7\\u003cbr\\u003eCheckpoint=%{x}\\u003cbr\\u003eSelf Repair Score=%{y}\\u003cextra\\u003e\\u003c\\u002fextra\\u003e\",\"legendgroup\":\"Layer 6-Head 7\",\"line\":{\"color\":\"#FECB52\",\"dash\":\"solid\"},\"marker\":{\"symbol\":\"circle\"},\"mode\":\"lines\",\"name\":\"Layer 6-Head 7\",\"orientation\":\"v\",\"showlegend\":true,\"x\":[256,512,1000],\"xaxis\":\"x\",\"y\":[0.48787567019462585,0.3648359775543213,0.9284432530403137],\"yaxis\":\"y\",\"type\":\"scatter\"},{\"hovertemplate\":\"Layer-Head=Layer 6-Head 8\\u003cbr\\u003eCheckpoint=%{x}\\u003cbr\\u003eSelf Repair Score=%{y}\\u003cextra\\u003e\\u003c\\u002fextra\\u003e\",\"legendgroup\":\"Layer 6-Head 8\",\"line\":{\"color\":\"#636efa\",\"dash\":\"solid\"},\"marker\":{\"symbol\":\"circle\"},\"mode\":\"lines\",\"name\":\"Layer 6-Head 8\",\"orientation\":\"v\",\"showlegend\":true,\"x\":[256,512,1000],\"xaxis\":\"x\",\"y\":[1.019955039024353,1.180216670036316,3.376436233520508],\"yaxis\":\"y\",\"type\":\"scatter\"},{\"hovertemplate\":\"Layer-Head=Layer 6-Head 9\\u003cbr\\u003eCheckpoint=%{x}\\u003cbr\\u003eSelf Repair Score=%{y}\\u003cextra\\u003e\\u003c\\u002fextra\\u003e\",\"legendgroup\":\"Layer 6-Head 9\",\"line\":{\"color\":\"#EF553B\",\"dash\":\"solid\"},\"marker\":{\"symbol\":\"circle\"},\"mode\":\"lines\",\"name\":\"Layer 6-Head 9\",\"orientation\":\"v\",\"showlegend\":true,\"x\":[256,512,1000],\"xaxis\":\"x\",\"y\":[1.0222996473312378,0.832761287689209,1.0473217964172363],\"yaxis\":\"y\",\"type\":\"scatter\"},{\"hovertemplate\":\"Layer-Head=Layer 6-Head 10\\u003cbr\\u003eCheckpoint=%{x}\\u003cbr\\u003eSelf Repair Score=%{y}\\u003cextra\\u003e\\u003c\\u002fextra\\u003e\",\"legendgroup\":\"Layer 6-Head 10\",\"line\":{\"color\":\"#00cc96\",\"dash\":\"solid\"},\"marker\":{\"symbol\":\"circle\"},\"mode\":\"lines\",\"name\":\"Layer 6-Head 10\",\"orientation\":\"v\",\"showlegend\":true,\"x\":[256,512,1000],\"xaxis\":\"x\",\"y\":[1.3143138885498047,1.1885935068130493,1.1619242429733276],\"yaxis\":\"y\",\"type\":\"scatter\"},{\"hovertemplate\":\"Layer-Head=Layer 6-Head 11\\u003cbr\\u003eCheckpoint=%{x}\\u003cbr\\u003eSelf Repair Score=%{y}\\u003cextra\\u003e\\u003c\\u002fextra\\u003e\",\"legendgroup\":\"Layer 6-Head 11\",\"line\":{\"color\":\"#ab63fa\",\"dash\":\"solid\"},\"marker\":{\"symbol\":\"circle\"},\"mode\":\"lines\",\"name\":\"Layer 6-Head 11\",\"orientation\":\"v\",\"showlegend\":true,\"x\":[256,512,1000],\"xaxis\":\"x\",\"y\":[1.306206226348877,-0.16109061241149902,2.3832192420959473],\"yaxis\":\"y\",\"type\":\"scatter\"},{\"hovertemplate\":\"Layer-Head=Layer 7-Head 0\\u003cbr\\u003eCheckpoint=%{x}\\u003cbr\\u003eSelf Repair Score=%{y}\\u003cextra\\u003e\\u003c\\u002fextra\\u003e\",\"legendgroup\":\"Layer 7-Head 0\",\"line\":{\"color\":\"#FFA15A\",\"dash\":\"solid\"},\"marker\":{\"symbol\":\"circle\"},\"mode\":\"lines\",\"name\":\"Layer 7-Head 0\",\"orientation\":\"v\",\"showlegend\":true,\"x\":[256,512,1000],\"xaxis\":\"x\",\"y\":[0.7777344584465027,1.2216360569000244,0.8508824110031128],\"yaxis\":\"y\",\"type\":\"scatter\"},{\"hovertemplate\":\"Layer-Head=Layer 7-Head 1\\u003cbr\\u003eCheckpoint=%{x}\\u003cbr\\u003eSelf Repair Score=%{y}\\u003cextra\\u003e\\u003c\\u002fextra\\u003e\",\"legendgroup\":\"Layer 7-Head 1\",\"line\":{\"color\":\"#19d3f3\",\"dash\":\"solid\"},\"marker\":{\"symbol\":\"circle\"},\"mode\":\"lines\",\"name\":\"Layer 7-Head 1\",\"orientation\":\"v\",\"showlegend\":true,\"x\":[256,512,1000],\"xaxis\":\"x\",\"y\":[2.372795820236206,1.1495511531829834,1.7527495622634888],\"yaxis\":\"y\",\"type\":\"scatter\"},{\"hovertemplate\":\"Layer-Head=Layer 7-Head 2\\u003cbr\\u003eCheckpoint=%{x}\\u003cbr\\u003eSelf Repair Score=%{y}\\u003cextra\\u003e\\u003c\\u002fextra\\u003e\",\"legendgroup\":\"Layer 7-Head 2\",\"line\":{\"color\":\"#FF6692\",\"dash\":\"solid\"},\"marker\":{\"symbol\":\"circle\"},\"mode\":\"lines\",\"name\":\"Layer 7-Head 2\",\"orientation\":\"v\",\"showlegend\":true,\"x\":[256,512,1000],\"xaxis\":\"x\",\"y\":[0.6577338576316833,1.1167101860046387,0.9147747755050659],\"yaxis\":\"y\",\"type\":\"scatter\"},{\"hovertemplate\":\"Layer-Head=Layer 7-Head 3\\u003cbr\\u003eCheckpoint=%{x}\\u003cbr\\u003eSelf Repair Score=%{y}\\u003cextra\\u003e\\u003c\\u002fextra\\u003e\",\"legendgroup\":\"Layer 7-Head 3\",\"line\":{\"color\":\"#B6E880\",\"dash\":\"solid\"},\"marker\":{\"symbol\":\"circle\"},\"mode\":\"lines\",\"name\":\"Layer 7-Head 3\",\"orientation\":\"v\",\"showlegend\":true,\"x\":[256,512,1000],\"xaxis\":\"x\",\"y\":[0.8004704713821411,1.2834711074829102,1.0165690183639526],\"yaxis\":\"y\",\"type\":\"scatter\"},{\"hovertemplate\":\"Layer-Head=Layer 7-Head 4\\u003cbr\\u003eCheckpoint=%{x}\\u003cbr\\u003eSelf Repair Score=%{y}\\u003cextra\\u003e\\u003c\\u002fextra\\u003e\",\"legendgroup\":\"Layer 7-Head 4\",\"line\":{\"color\":\"#FF97FF\",\"dash\":\"solid\"},\"marker\":{\"symbol\":\"circle\"},\"mode\":\"lines\",\"name\":\"Layer 7-Head 4\",\"orientation\":\"v\",\"showlegend\":true,\"x\":[256,512,1000],\"xaxis\":\"x\",\"y\":[1.0641512870788574,2.5509352684020996,1.522046446800232],\"yaxis\":\"y\",\"type\":\"scatter\"},{\"hovertemplate\":\"Layer-Head=Layer 7-Head 5\\u003cbr\\u003eCheckpoint=%{x}\\u003cbr\\u003eSelf Repair Score=%{y}\\u003cextra\\u003e\\u003c\\u002fextra\\u003e\",\"legendgroup\":\"Layer 7-Head 5\",\"line\":{\"color\":\"#FECB52\",\"dash\":\"solid\"},\"marker\":{\"symbol\":\"circle\"},\"mode\":\"lines\",\"name\":\"Layer 7-Head 5\",\"orientation\":\"v\",\"showlegend\":true,\"x\":[256,512,1000],\"xaxis\":\"x\",\"y\":[-1.0502102375030518,2.2736098766326904,0.7433738708496094],\"yaxis\":\"y\",\"type\":\"scatter\"},{\"hovertemplate\":\"Layer-Head=Layer 7-Head 6\\u003cbr\\u003eCheckpoint=%{x}\\u003cbr\\u003eSelf Repair Score=%{y}\\u003cextra\\u003e\\u003c\\u002fextra\\u003e\",\"legendgroup\":\"Layer 7-Head 6\",\"line\":{\"color\":\"#636efa\",\"dash\":\"solid\"},\"marker\":{\"symbol\":\"circle\"},\"mode\":\"lines\",\"name\":\"Layer 7-Head 6\",\"orientation\":\"v\",\"showlegend\":true,\"x\":[256,512,1000],\"xaxis\":\"x\",\"y\":[1.9712250232696533,0.9964103102684021,0.9057057499885559],\"yaxis\":\"y\",\"type\":\"scatter\"},{\"hovertemplate\":\"Layer-Head=Layer 7-Head 7\\u003cbr\\u003eCheckpoint=%{x}\\u003cbr\\u003eSelf Repair Score=%{y}\\u003cextra\\u003e\\u003c\\u002fextra\\u003e\",\"legendgroup\":\"Layer 7-Head 7\",\"line\":{\"color\":\"#EF553B\",\"dash\":\"solid\"},\"marker\":{\"symbol\":\"circle\"},\"mode\":\"lines\",\"name\":\"Layer 7-Head 7\",\"orientation\":\"v\",\"showlegend\":true,\"x\":[256,512,1000],\"xaxis\":\"x\",\"y\":[1.714082956314087,0.5578955411911011,0.9921530485153198],\"yaxis\":\"y\",\"type\":\"scatter\"},{\"hovertemplate\":\"Layer-Head=Layer 7-Head 8\\u003cbr\\u003eCheckpoint=%{x}\\u003cbr\\u003eSelf Repair Score=%{y}\\u003cextra\\u003e\\u003c\\u002fextra\\u003e\",\"legendgroup\":\"Layer 7-Head 8\",\"line\":{\"color\":\"#00cc96\",\"dash\":\"solid\"},\"marker\":{\"symbol\":\"circle\"},\"mode\":\"lines\",\"name\":\"Layer 7-Head 8\",\"orientation\":\"v\",\"showlegend\":true,\"x\":[256,512,1000],\"xaxis\":\"x\",\"y\":[1.2641079425811768,0.23350809514522552,10.80573558807373],\"yaxis\":\"y\",\"type\":\"scatter\"},{\"hovertemplate\":\"Layer-Head=Layer 7-Head 9\\u003cbr\\u003eCheckpoint=%{x}\\u003cbr\\u003eSelf Repair Score=%{y}\\u003cextra\\u003e\\u003c\\u002fextra\\u003e\",\"legendgroup\":\"Layer 7-Head 9\",\"line\":{\"color\":\"#ab63fa\",\"dash\":\"solid\"},\"marker\":{\"symbol\":\"circle\"},\"mode\":\"lines\",\"name\":\"Layer 7-Head 9\",\"orientation\":\"v\",\"showlegend\":true,\"x\":[256,512,1000],\"xaxis\":\"x\",\"y\":[1.8401583433151245,1.3020362854003906,1.1166130304336548],\"yaxis\":\"y\",\"type\":\"scatter\"},{\"hovertemplate\":\"Layer-Head=Layer 7-Head 10\\u003cbr\\u003eCheckpoint=%{x}\\u003cbr\\u003eSelf Repair Score=%{y}\\u003cextra\\u003e\\u003c\\u002fextra\\u003e\",\"legendgroup\":\"Layer 7-Head 10\",\"line\":{\"color\":\"#FFA15A\",\"dash\":\"solid\"},\"marker\":{\"symbol\":\"circle\"},\"mode\":\"lines\",\"name\":\"Layer 7-Head 10\",\"orientation\":\"v\",\"showlegend\":true,\"x\":[256,512,1000],\"xaxis\":\"x\",\"y\":[1.0414115190505981,1.0509123802185059,0.9873833060264587],\"yaxis\":\"y\",\"type\":\"scatter\"},{\"hovertemplate\":\"Layer-Head=Layer 7-Head 11\\u003cbr\\u003eCheckpoint=%{x}\\u003cbr\\u003eSelf Repair Score=%{y}\\u003cextra\\u003e\\u003c\\u002fextra\\u003e\",\"legendgroup\":\"Layer 7-Head 11\",\"line\":{\"color\":\"#19d3f3\",\"dash\":\"solid\"},\"marker\":{\"symbol\":\"circle\"},\"mode\":\"lines\",\"name\":\"Layer 7-Head 11\",\"orientation\":\"v\",\"showlegend\":true,\"x\":[256,512,1000],\"xaxis\":\"x\",\"y\":[0.8913394808769226,1.483603596687317,1.053537130355835],\"yaxis\":\"y\",\"type\":\"scatter\"},{\"hovertemplate\":\"Layer-Head=Layer 8-Head 0\\u003cbr\\u003eCheckpoint=%{x}\\u003cbr\\u003eSelf Repair Score=%{y}\\u003cextra\\u003e\\u003c\\u002fextra\\u003e\",\"legendgroup\":\"Layer 8-Head 0\",\"line\":{\"color\":\"#FF6692\",\"dash\":\"solid\"},\"marker\":{\"symbol\":\"circle\"},\"mode\":\"lines\",\"name\":\"Layer 8-Head 0\",\"orientation\":\"v\",\"showlegend\":true,\"x\":[256,512,1000],\"xaxis\":\"x\",\"y\":[1.9042445421218872,0.7669994831085205,1.0074217319488525],\"yaxis\":\"y\",\"type\":\"scatter\"},{\"hovertemplate\":\"Layer-Head=Layer 8-Head 1\\u003cbr\\u003eCheckpoint=%{x}\\u003cbr\\u003eSelf Repair Score=%{y}\\u003cextra\\u003e\\u003c\\u002fextra\\u003e\",\"legendgroup\":\"Layer 8-Head 1\",\"line\":{\"color\":\"#B6E880\",\"dash\":\"solid\"},\"marker\":{\"symbol\":\"circle\"},\"mode\":\"lines\",\"name\":\"Layer 8-Head 1\",\"orientation\":\"v\",\"showlegend\":true,\"x\":[256,512,1000],\"xaxis\":\"x\",\"y\":[0.9719175696372986,1.1749826669692993,0.8530872464179993],\"yaxis\":\"y\",\"type\":\"scatter\"},{\"hovertemplate\":\"Layer-Head=Layer 8-Head 2\\u003cbr\\u003eCheckpoint=%{x}\\u003cbr\\u003eSelf Repair Score=%{y}\\u003cextra\\u003e\\u003c\\u002fextra\\u003e\",\"legendgroup\":\"Layer 8-Head 2\",\"line\":{\"color\":\"#FF97FF\",\"dash\":\"solid\"},\"marker\":{\"symbol\":\"circle\"},\"mode\":\"lines\",\"name\":\"Layer 8-Head 2\",\"orientation\":\"v\",\"showlegend\":true,\"x\":[256,512,1000],\"xaxis\":\"x\",\"y\":[0.9223928451538086,0.5532092452049255,0.6551226377487183],\"yaxis\":\"y\",\"type\":\"scatter\"},{\"hovertemplate\":\"Layer-Head=Layer 8-Head 3\\u003cbr\\u003eCheckpoint=%{x}\\u003cbr\\u003eSelf Repair Score=%{y}\\u003cextra\\u003e\\u003c\\u002fextra\\u003e\",\"legendgroup\":\"Layer 8-Head 3\",\"line\":{\"color\":\"#FECB52\",\"dash\":\"solid\"},\"marker\":{\"symbol\":\"circle\"},\"mode\":\"lines\",\"name\":\"Layer 8-Head 3\",\"orientation\":\"v\",\"showlegend\":true,\"x\":[256,512,1000],\"xaxis\":\"x\",\"y\":[-0.2956511378288269,0.7790183424949646,0.634133517742157],\"yaxis\":\"y\",\"type\":\"scatter\"},{\"hovertemplate\":\"Layer-Head=Layer 8-Head 4\\u003cbr\\u003eCheckpoint=%{x}\\u003cbr\\u003eSelf Repair Score=%{y}\\u003cextra\\u003e\\u003c\\u002fextra\\u003e\",\"legendgroup\":\"Layer 8-Head 4\",\"line\":{\"color\":\"#636efa\",\"dash\":\"solid\"},\"marker\":{\"symbol\":\"circle\"},\"mode\":\"lines\",\"name\":\"Layer 8-Head 4\",\"orientation\":\"v\",\"showlegend\":true,\"x\":[256,512,1000],\"xaxis\":\"x\",\"y\":[0.6960299015045166,2.1483731269836426,0.7541418075561523],\"yaxis\":\"y\",\"type\":\"scatter\"},{\"hovertemplate\":\"Layer-Head=Layer 8-Head 5\\u003cbr\\u003eCheckpoint=%{x}\\u003cbr\\u003eSelf Repair Score=%{y}\\u003cextra\\u003e\\u003c\\u002fextra\\u003e\",\"legendgroup\":\"Layer 8-Head 5\",\"line\":{\"color\":\"#EF553B\",\"dash\":\"solid\"},\"marker\":{\"symbol\":\"circle\"},\"mode\":\"lines\",\"name\":\"Layer 8-Head 5\",\"orientation\":\"v\",\"showlegend\":true,\"x\":[256,512,1000],\"xaxis\":\"x\",\"y\":[0.7427996397018433,0.8129296898841858,0.9917458295822144],\"yaxis\":\"y\",\"type\":\"scatter\"},{\"hovertemplate\":\"Layer-Head=Layer 8-Head 6\\u003cbr\\u003eCheckpoint=%{x}\\u003cbr\\u003eSelf Repair Score=%{y}\\u003cextra\\u003e\\u003c\\u002fextra\\u003e\",\"legendgroup\":\"Layer 8-Head 6\",\"line\":{\"color\":\"#00cc96\",\"dash\":\"solid\"},\"marker\":{\"symbol\":\"circle\"},\"mode\":\"lines\",\"name\":\"Layer 8-Head 6\",\"orientation\":\"v\",\"showlegend\":true,\"x\":[256,512,1000],\"xaxis\":\"x\",\"y\":[0.707130491733551,1.462561845779419,2.2406258583068848],\"yaxis\":\"y\",\"type\":\"scatter\"},{\"hovertemplate\":\"Layer-Head=Layer 8-Head 7\\u003cbr\\u003eCheckpoint=%{x}\\u003cbr\\u003eSelf Repair Score=%{y}\\u003cextra\\u003e\\u003c\\u002fextra\\u003e\",\"legendgroup\":\"Layer 8-Head 7\",\"line\":{\"color\":\"#ab63fa\",\"dash\":\"solid\"},\"marker\":{\"symbol\":\"circle\"},\"mode\":\"lines\",\"name\":\"Layer 8-Head 7\",\"orientation\":\"v\",\"showlegend\":true,\"x\":[256,512,1000],\"xaxis\":\"x\",\"y\":[0.9740793704986572,2.4598348140716553,0.9907976984977722],\"yaxis\":\"y\",\"type\":\"scatter\"},{\"hovertemplate\":\"Layer-Head=Layer 8-Head 8\\u003cbr\\u003eCheckpoint=%{x}\\u003cbr\\u003eSelf Repair Score=%{y}\\u003cextra\\u003e\\u003c\\u002fextra\\u003e\",\"legendgroup\":\"Layer 8-Head 8\",\"line\":{\"color\":\"#FFA15A\",\"dash\":\"solid\"},\"marker\":{\"symbol\":\"circle\"},\"mode\":\"lines\",\"name\":\"Layer 8-Head 8\",\"orientation\":\"v\",\"showlegend\":true,\"x\":[256,512,1000],\"xaxis\":\"x\",\"y\":[-0.7501915097236633,0.28277742862701416,1.6348628997802734],\"yaxis\":\"y\",\"type\":\"scatter\"},{\"hovertemplate\":\"Layer-Head=Layer 8-Head 9\\u003cbr\\u003eCheckpoint=%{x}\\u003cbr\\u003eSelf Repair Score=%{y}\\u003cextra\\u003e\\u003c\\u002fextra\\u003e\",\"legendgroup\":\"Layer 8-Head 9\",\"line\":{\"color\":\"#19d3f3\",\"dash\":\"solid\"},\"marker\":{\"symbol\":\"circle\"},\"mode\":\"lines\",\"name\":\"Layer 8-Head 9\",\"orientation\":\"v\",\"showlegend\":true,\"x\":[256,512,1000],\"xaxis\":\"x\",\"y\":[1.3409993648529053,0.19613708555698395,0.5786330699920654],\"yaxis\":\"y\",\"type\":\"scatter\"},{\"hovertemplate\":\"Layer-Head=Layer 8-Head 10\\u003cbr\\u003eCheckpoint=%{x}\\u003cbr\\u003eSelf Repair Score=%{y}\\u003cextra\\u003e\\u003c\\u002fextra\\u003e\",\"legendgroup\":\"Layer 8-Head 10\",\"line\":{\"color\":\"#FF6692\",\"dash\":\"solid\"},\"marker\":{\"symbol\":\"circle\"},\"mode\":\"lines\",\"name\":\"Layer 8-Head 10\",\"orientation\":\"v\",\"showlegend\":true,\"x\":[256,512,1000],\"xaxis\":\"x\",\"y\":[0.41228121519088745,-0.23315058648586273,0.8921457529067993],\"yaxis\":\"y\",\"type\":\"scatter\"},{\"hovertemplate\":\"Layer-Head=Layer 8-Head 11\\u003cbr\\u003eCheckpoint=%{x}\\u003cbr\\u003eSelf Repair Score=%{y}\\u003cextra\\u003e\\u003c\\u002fextra\\u003e\",\"legendgroup\":\"Layer 8-Head 11\",\"line\":{\"color\":\"#B6E880\",\"dash\":\"solid\"},\"marker\":{\"symbol\":\"circle\"},\"mode\":\"lines\",\"name\":\"Layer 8-Head 11\",\"orientation\":\"v\",\"showlegend\":true,\"x\":[256,512,1000],\"xaxis\":\"x\",\"y\":[1.2656768560409546,2.641907215118408,1.003188133239746],\"yaxis\":\"y\",\"type\":\"scatter\"},{\"hovertemplate\":\"Layer-Head=Layer 9-Head 0\\u003cbr\\u003eCheckpoint=%{x}\\u003cbr\\u003eSelf Repair Score=%{y}\\u003cextra\\u003e\\u003c\\u002fextra\\u003e\",\"legendgroup\":\"Layer 9-Head 0\",\"line\":{\"color\":\"#FF97FF\",\"dash\":\"solid\"},\"marker\":{\"symbol\":\"circle\"},\"mode\":\"lines\",\"name\":\"Layer 9-Head 0\",\"orientation\":\"v\",\"showlegend\":true,\"x\":[256,512,1000],\"xaxis\":\"x\",\"y\":[0.9236598014831543,-2.368184804916382,0.439033180475235],\"yaxis\":\"y\",\"type\":\"scatter\"},{\"hovertemplate\":\"Layer-Head=Layer 9-Head 1\\u003cbr\\u003eCheckpoint=%{x}\\u003cbr\\u003eSelf Repair Score=%{y}\\u003cextra\\u003e\\u003c\\u002fextra\\u003e\",\"legendgroup\":\"Layer 9-Head 1\",\"line\":{\"color\":\"#FECB52\",\"dash\":\"solid\"},\"marker\":{\"symbol\":\"circle\"},\"mode\":\"lines\",\"name\":\"Layer 9-Head 1\",\"orientation\":\"v\",\"showlegend\":true,\"x\":[256,512,1000],\"xaxis\":\"x\",\"y\":[0.9444482326507568,0.9421873688697815,0.7911605834960938],\"yaxis\":\"y\",\"type\":\"scatter\"},{\"hovertemplate\":\"Layer-Head=Layer 9-Head 2\\u003cbr\\u003eCheckpoint=%{x}\\u003cbr\\u003eSelf Repair Score=%{y}\\u003cextra\\u003e\\u003c\\u002fextra\\u003e\",\"legendgroup\":\"Layer 9-Head 2\",\"line\":{\"color\":\"#636efa\",\"dash\":\"solid\"},\"marker\":{\"symbol\":\"circle\"},\"mode\":\"lines\",\"name\":\"Layer 9-Head 2\",\"orientation\":\"v\",\"showlegend\":true,\"x\":[256,512,1000],\"xaxis\":\"x\",\"y\":[0.9170137643814087,-1.157760739326477,0.8823451399803162],\"yaxis\":\"y\",\"type\":\"scatter\"},{\"hovertemplate\":\"Layer-Head=Layer 9-Head 3\\u003cbr\\u003eCheckpoint=%{x}\\u003cbr\\u003eSelf Repair Score=%{y}\\u003cextra\\u003e\\u003c\\u002fextra\\u003e\",\"legendgroup\":\"Layer 9-Head 3\",\"line\":{\"color\":\"#EF553B\",\"dash\":\"solid\"},\"marker\":{\"symbol\":\"circle\"},\"mode\":\"lines\",\"name\":\"Layer 9-Head 3\",\"orientation\":\"v\",\"showlegend\":true,\"x\":[256,512,1000],\"xaxis\":\"x\",\"y\":[1.042636513710022,1.2445909976959229,0.7048807144165039],\"yaxis\":\"y\",\"type\":\"scatter\"},{\"hovertemplate\":\"Layer-Head=Layer 9-Head 4\\u003cbr\\u003eCheckpoint=%{x}\\u003cbr\\u003eSelf Repair Score=%{y}\\u003cextra\\u003e\\u003c\\u002fextra\\u003e\",\"legendgroup\":\"Layer 9-Head 4\",\"line\":{\"color\":\"#00cc96\",\"dash\":\"solid\"},\"marker\":{\"symbol\":\"circle\"},\"mode\":\"lines\",\"name\":\"Layer 9-Head 4\",\"orientation\":\"v\",\"showlegend\":true,\"x\":[256,512,1000],\"xaxis\":\"x\",\"y\":[0.8619170188903809,1.2016719579696655,0.6486198902130127],\"yaxis\":\"y\",\"type\":\"scatter\"},{\"hovertemplate\":\"Layer-Head=Layer 9-Head 5\\u003cbr\\u003eCheckpoint=%{x}\\u003cbr\\u003eSelf Repair Score=%{y}\\u003cextra\\u003e\\u003c\\u002fextra\\u003e\",\"legendgroup\":\"Layer 9-Head 5\",\"line\":{\"color\":\"#ab63fa\",\"dash\":\"solid\"},\"marker\":{\"symbol\":\"circle\"},\"mode\":\"lines\",\"name\":\"Layer 9-Head 5\",\"orientation\":\"v\",\"showlegend\":true,\"x\":[256,512,1000],\"xaxis\":\"x\",\"y\":[0.9227003455162048,1.6170907020568848,0.83160400390625],\"yaxis\":\"y\",\"type\":\"scatter\"},{\"hovertemplate\":\"Layer-Head=Layer 9-Head 6\\u003cbr\\u003eCheckpoint=%{x}\\u003cbr\\u003eSelf Repair Score=%{y}\\u003cextra\\u003e\\u003c\\u002fextra\\u003e\",\"legendgroup\":\"Layer 9-Head 6\",\"line\":{\"color\":\"#FFA15A\",\"dash\":\"solid\"},\"marker\":{\"symbol\":\"circle\"},\"mode\":\"lines\",\"name\":\"Layer 9-Head 6\",\"orientation\":\"v\",\"showlegend\":true,\"x\":[256,512,1000],\"xaxis\":\"x\",\"y\":[1.3427915573120117,1.2954221963882446,1.0747783184051514],\"yaxis\":\"y\",\"type\":\"scatter\"},{\"hovertemplate\":\"Layer-Head=Layer 9-Head 7\\u003cbr\\u003eCheckpoint=%{x}\\u003cbr\\u003eSelf Repair Score=%{y}\\u003cextra\\u003e\\u003c\\u002fextra\\u003e\",\"legendgroup\":\"Layer 9-Head 7\",\"line\":{\"color\":\"#19d3f3\",\"dash\":\"solid\"},\"marker\":{\"symbol\":\"circle\"},\"mode\":\"lines\",\"name\":\"Layer 9-Head 7\",\"orientation\":\"v\",\"showlegend\":true,\"x\":[256,512,1000],\"xaxis\":\"x\",\"y\":[1.0773602724075317,-40.54182815551758,0.8293107748031616],\"yaxis\":\"y\",\"type\":\"scatter\"},{\"hovertemplate\":\"Layer-Head=Layer 9-Head 8\\u003cbr\\u003eCheckpoint=%{x}\\u003cbr\\u003eSelf Repair Score=%{y}\\u003cextra\\u003e\\u003c\\u002fextra\\u003e\",\"legendgroup\":\"Layer 9-Head 8\",\"line\":{\"color\":\"#FF6692\",\"dash\":\"solid\"},\"marker\":{\"symbol\":\"circle\"},\"mode\":\"lines\",\"name\":\"Layer 9-Head 8\",\"orientation\":\"v\",\"showlegend\":true,\"x\":[256,512,1000],\"xaxis\":\"x\",\"y\":[1.172109603881836,0.9193863868713379,0.95915287733078],\"yaxis\":\"y\",\"type\":\"scatter\"},{\"hovertemplate\":\"Layer-Head=Layer 9-Head 9\\u003cbr\\u003eCheckpoint=%{x}\\u003cbr\\u003eSelf Repair Score=%{y}\\u003cextra\\u003e\\u003c\\u002fextra\\u003e\",\"legendgroup\":\"Layer 9-Head 9\",\"line\":{\"color\":\"#B6E880\",\"dash\":\"solid\"},\"marker\":{\"symbol\":\"circle\"},\"mode\":\"lines\",\"name\":\"Layer 9-Head 9\",\"orientation\":\"v\",\"showlegend\":true,\"x\":[256,512,1000],\"xaxis\":\"x\",\"y\":[0.7638381123542786,-0.8921794295310974,1.1467311382293701],\"yaxis\":\"y\",\"type\":\"scatter\"},{\"hovertemplate\":\"Layer-Head=Layer 9-Head 10\\u003cbr\\u003eCheckpoint=%{x}\\u003cbr\\u003eSelf Repair Score=%{y}\\u003cextra\\u003e\\u003c\\u002fextra\\u003e\",\"legendgroup\":\"Layer 9-Head 10\",\"line\":{\"color\":\"#FF97FF\",\"dash\":\"solid\"},\"marker\":{\"symbol\":\"circle\"},\"mode\":\"lines\",\"name\":\"Layer 9-Head 10\",\"orientation\":\"v\",\"showlegend\":true,\"x\":[256,512,1000],\"xaxis\":\"x\",\"y\":[0.7763722538948059,0.8287554979324341,0.829921543598175],\"yaxis\":\"y\",\"type\":\"scatter\"},{\"hovertemplate\":\"Layer-Head=Layer 9-Head 11\\u003cbr\\u003eCheckpoint=%{x}\\u003cbr\\u003eSelf Repair Score=%{y}\\u003cextra\\u003e\\u003c\\u002fextra\\u003e\",\"legendgroup\":\"Layer 9-Head 11\",\"line\":{\"color\":\"#FECB52\",\"dash\":\"solid\"},\"marker\":{\"symbol\":\"circle\"},\"mode\":\"lines\",\"name\":\"Layer 9-Head 11\",\"orientation\":\"v\",\"showlegend\":true,\"x\":[256,512,1000],\"xaxis\":\"x\",\"y\":[1.2865300178527832,1.692091464996338,-2.0418031215667725],\"yaxis\":\"y\",\"type\":\"scatter\"},{\"hovertemplate\":\"Layer-Head=Layer 10-Head 0\\u003cbr\\u003eCheckpoint=%{x}\\u003cbr\\u003eSelf Repair Score=%{y}\\u003cextra\\u003e\\u003c\\u002fextra\\u003e\",\"legendgroup\":\"Layer 10-Head 0\",\"line\":{\"color\":\"#636efa\",\"dash\":\"solid\"},\"marker\":{\"symbol\":\"circle\"},\"mode\":\"lines\",\"name\":\"Layer 10-Head 0\",\"orientation\":\"v\",\"showlegend\":true,\"x\":[256,512,1000],\"xaxis\":\"x\",\"y\":[1.0026741027832031,0.9938101172447205,0.9627755880355835],\"yaxis\":\"y\",\"type\":\"scatter\"},{\"hovertemplate\":\"Layer-Head=Layer 10-Head 1\\u003cbr\\u003eCheckpoint=%{x}\\u003cbr\\u003eSelf Repair Score=%{y}\\u003cextra\\u003e\\u003c\\u002fextra\\u003e\",\"legendgroup\":\"Layer 10-Head 1\",\"line\":{\"color\":\"#EF553B\",\"dash\":\"solid\"},\"marker\":{\"symbol\":\"circle\"},\"mode\":\"lines\",\"name\":\"Layer 10-Head 1\",\"orientation\":\"v\",\"showlegend\":true,\"x\":[256,512,1000],\"xaxis\":\"x\",\"y\":[1.0059938430786133,0.781009316444397,0.8569588661193848],\"yaxis\":\"y\",\"type\":\"scatter\"},{\"hovertemplate\":\"Layer-Head=Layer 10-Head 2\\u003cbr\\u003eCheckpoint=%{x}\\u003cbr\\u003eSelf Repair Score=%{y}\\u003cextra\\u003e\\u003c\\u002fextra\\u003e\",\"legendgroup\":\"Layer 10-Head 2\",\"line\":{\"color\":\"#00cc96\",\"dash\":\"solid\"},\"marker\":{\"symbol\":\"circle\"},\"mode\":\"lines\",\"name\":\"Layer 10-Head 2\",\"orientation\":\"v\",\"showlegend\":true,\"x\":[256,512,1000],\"xaxis\":\"x\",\"y\":[0.9879134297370911,0.6845247149467468,0.9250930547714233],\"yaxis\":\"y\",\"type\":\"scatter\"},{\"hovertemplate\":\"Layer-Head=Layer 10-Head 3\\u003cbr\\u003eCheckpoint=%{x}\\u003cbr\\u003eSelf Repair Score=%{y}\\u003cextra\\u003e\\u003c\\u002fextra\\u003e\",\"legendgroup\":\"Layer 10-Head 3\",\"line\":{\"color\":\"#ab63fa\",\"dash\":\"solid\"},\"marker\":{\"symbol\":\"circle\"},\"mode\":\"lines\",\"name\":\"Layer 10-Head 3\",\"orientation\":\"v\",\"showlegend\":true,\"x\":[256,512,1000],\"xaxis\":\"x\",\"y\":[1.000322699546814,0.6445339322090149,0.8596750497817993],\"yaxis\":\"y\",\"type\":\"scatter\"},{\"hovertemplate\":\"Layer-Head=Layer 10-Head 4\\u003cbr\\u003eCheckpoint=%{x}\\u003cbr\\u003eSelf Repair Score=%{y}\\u003cextra\\u003e\\u003c\\u002fextra\\u003e\",\"legendgroup\":\"Layer 10-Head 4\",\"line\":{\"color\":\"#FFA15A\",\"dash\":\"solid\"},\"marker\":{\"symbol\":\"circle\"},\"mode\":\"lines\",\"name\":\"Layer 10-Head 4\",\"orientation\":\"v\",\"showlegend\":true,\"x\":[256,512,1000],\"xaxis\":\"x\",\"y\":[1.6962255239486694,0.9211689829826355,0.6427435278892517],\"yaxis\":\"y\",\"type\":\"scatter\"},{\"hovertemplate\":\"Layer-Head=Layer 10-Head 5\\u003cbr\\u003eCheckpoint=%{x}\\u003cbr\\u003eSelf Repair Score=%{y}\\u003cextra\\u003e\\u003c\\u002fextra\\u003e\",\"legendgroup\":\"Layer 10-Head 5\",\"line\":{\"color\":\"#19d3f3\",\"dash\":\"solid\"},\"marker\":{\"symbol\":\"circle\"},\"mode\":\"lines\",\"name\":\"Layer 10-Head 5\",\"orientation\":\"v\",\"showlegend\":true,\"x\":[256,512,1000],\"xaxis\":\"x\",\"y\":[1.0211535692214966,0.8241320848464966,0.9855455756187439],\"yaxis\":\"y\",\"type\":\"scatter\"},{\"hovertemplate\":\"Layer-Head=Layer 10-Head 6\\u003cbr\\u003eCheckpoint=%{x}\\u003cbr\\u003eSelf Repair Score=%{y}\\u003cextra\\u003e\\u003c\\u002fextra\\u003e\",\"legendgroup\":\"Layer 10-Head 6\",\"line\":{\"color\":\"#FF6692\",\"dash\":\"solid\"},\"marker\":{\"symbol\":\"circle\"},\"mode\":\"lines\",\"name\":\"Layer 10-Head 6\",\"orientation\":\"v\",\"showlegend\":true,\"x\":[256,512,1000],\"xaxis\":\"x\",\"y\":[1.0261982679367065,1.1753158569335938,0.9005624651908875],\"yaxis\":\"y\",\"type\":\"scatter\"},{\"hovertemplate\":\"Layer-Head=Layer 10-Head 7\\u003cbr\\u003eCheckpoint=%{x}\\u003cbr\\u003eSelf Repair Score=%{y}\\u003cextra\\u003e\\u003c\\u002fextra\\u003e\",\"legendgroup\":\"Layer 10-Head 7\",\"line\":{\"color\":\"#B6E880\",\"dash\":\"solid\"},\"marker\":{\"symbol\":\"circle\"},\"mode\":\"lines\",\"name\":\"Layer 10-Head 7\",\"orientation\":\"v\",\"showlegend\":true,\"x\":[256,512,1000],\"xaxis\":\"x\",\"y\":[1.019861102104187,0.9121699929237366,0.6886441707611084],\"yaxis\":\"y\",\"type\":\"scatter\"},{\"hovertemplate\":\"Layer-Head=Layer 10-Head 8\\u003cbr\\u003eCheckpoint=%{x}\\u003cbr\\u003eSelf Repair Score=%{y}\\u003cextra\\u003e\\u003c\\u002fextra\\u003e\",\"legendgroup\":\"Layer 10-Head 8\",\"line\":{\"color\":\"#FF97FF\",\"dash\":\"solid\"},\"marker\":{\"symbol\":\"circle\"},\"mode\":\"lines\",\"name\":\"Layer 10-Head 8\",\"orientation\":\"v\",\"showlegend\":true,\"x\":[256,512,1000],\"xaxis\":\"x\",\"y\":[1.032282829284668,3.295184373855591,1.4381920099258423],\"yaxis\":\"y\",\"type\":\"scatter\"},{\"hovertemplate\":\"Layer-Head=Layer 10-Head 9\\u003cbr\\u003eCheckpoint=%{x}\\u003cbr\\u003eSelf Repair Score=%{y}\\u003cextra\\u003e\\u003c\\u002fextra\\u003e\",\"legendgroup\":\"Layer 10-Head 9\",\"line\":{\"color\":\"#FECB52\",\"dash\":\"solid\"},\"marker\":{\"symbol\":\"circle\"},\"mode\":\"lines\",\"name\":\"Layer 10-Head 9\",\"orientation\":\"v\",\"showlegend\":true,\"x\":[256,512,1000],\"xaxis\":\"x\",\"y\":[0.9832625389099121,0.9614129066467285,0.7525390982627869],\"yaxis\":\"y\",\"type\":\"scatter\"},{\"hovertemplate\":\"Layer-Head=Layer 10-Head 10\\u003cbr\\u003eCheckpoint=%{x}\\u003cbr\\u003eSelf Repair Score=%{y}\\u003cextra\\u003e\\u003c\\u002fextra\\u003e\",\"legendgroup\":\"Layer 10-Head 10\",\"line\":{\"color\":\"#636efa\",\"dash\":\"solid\"},\"marker\":{\"symbol\":\"circle\"},\"mode\":\"lines\",\"name\":\"Layer 10-Head 10\",\"orientation\":\"v\",\"showlegend\":true,\"x\":[256,512,1000],\"xaxis\":\"x\",\"y\":[0.9639672040939331,1.1020607948303223,1.1240218877792358],\"yaxis\":\"y\",\"type\":\"scatter\"},{\"hovertemplate\":\"Layer-Head=Layer 10-Head 11\\u003cbr\\u003eCheckpoint=%{x}\\u003cbr\\u003eSelf Repair Score=%{y}\\u003cextra\\u003e\\u003c\\u002fextra\\u003e\",\"legendgroup\":\"Layer 10-Head 11\",\"line\":{\"color\":\"#EF553B\",\"dash\":\"solid\"},\"marker\":{\"symbol\":\"circle\"},\"mode\":\"lines\",\"name\":\"Layer 10-Head 11\",\"orientation\":\"v\",\"showlegend\":true,\"x\":[256,512,1000],\"xaxis\":\"x\",\"y\":[1.0165650844573975,1.0820797681808472,0.6944745779037476],\"yaxis\":\"y\",\"type\":\"scatter\"},{\"hovertemplate\":\"Layer-Head=Layer 11-Head 0\\u003cbr\\u003eCheckpoint=%{x}\\u003cbr\\u003eSelf Repair Score=%{y}\\u003cextra\\u003e\\u003c\\u002fextra\\u003e\",\"legendgroup\":\"Layer 11-Head 0\",\"line\":{\"color\":\"#00cc96\",\"dash\":\"solid\"},\"marker\":{\"symbol\":\"circle\"},\"mode\":\"lines\",\"name\":\"Layer 11-Head 0\",\"orientation\":\"v\",\"showlegend\":true,\"x\":[256,512,1000],\"xaxis\":\"x\",\"y\":[0.9693899750709534,0.6018722057342529,0.7860614657402039],\"yaxis\":\"y\",\"type\":\"scatter\"},{\"hovertemplate\":\"Layer-Head=Layer 11-Head 1\\u003cbr\\u003eCheckpoint=%{x}\\u003cbr\\u003eSelf Repair Score=%{y}\\u003cextra\\u003e\\u003c\\u002fextra\\u003e\",\"legendgroup\":\"Layer 11-Head 1\",\"line\":{\"color\":\"#ab63fa\",\"dash\":\"solid\"},\"marker\":{\"symbol\":\"circle\"},\"mode\":\"lines\",\"name\":\"Layer 11-Head 1\",\"orientation\":\"v\",\"showlegend\":true,\"x\":[256,512,1000],\"xaxis\":\"x\",\"y\":[1.0304123163223267,0.7919067144393921,0.9676273465156555],\"yaxis\":\"y\",\"type\":\"scatter\"},{\"hovertemplate\":\"Layer-Head=Layer 11-Head 2\\u003cbr\\u003eCheckpoint=%{x}\\u003cbr\\u003eSelf Repair Score=%{y}\\u003cextra\\u003e\\u003c\\u002fextra\\u003e\",\"legendgroup\":\"Layer 11-Head 2\",\"line\":{\"color\":\"#FFA15A\",\"dash\":\"solid\"},\"marker\":{\"symbol\":\"circle\"},\"mode\":\"lines\",\"name\":\"Layer 11-Head 2\",\"orientation\":\"v\",\"showlegend\":true,\"x\":[256,512,1000],\"xaxis\":\"x\",\"y\":[1.0398048162460327,1.0555694103240967,1.1032360792160034],\"yaxis\":\"y\",\"type\":\"scatter\"},{\"hovertemplate\":\"Layer-Head=Layer 11-Head 3\\u003cbr\\u003eCheckpoint=%{x}\\u003cbr\\u003eSelf Repair Score=%{y}\\u003cextra\\u003e\\u003c\\u002fextra\\u003e\",\"legendgroup\":\"Layer 11-Head 3\",\"line\":{\"color\":\"#19d3f3\",\"dash\":\"solid\"},\"marker\":{\"symbol\":\"circle\"},\"mode\":\"lines\",\"name\":\"Layer 11-Head 3\",\"orientation\":\"v\",\"showlegend\":true,\"x\":[256,512,1000],\"xaxis\":\"x\",\"y\":[1.0377497673034668,0.8529120683670044,0.8204299211502075],\"yaxis\":\"y\",\"type\":\"scatter\"},{\"hovertemplate\":\"Layer-Head=Layer 11-Head 4\\u003cbr\\u003eCheckpoint=%{x}\\u003cbr\\u003eSelf Repair Score=%{y}\\u003cextra\\u003e\\u003c\\u002fextra\\u003e\",\"legendgroup\":\"Layer 11-Head 4\",\"line\":{\"color\":\"#FF6692\",\"dash\":\"solid\"},\"marker\":{\"symbol\":\"circle\"},\"mode\":\"lines\",\"name\":\"Layer 11-Head 4\",\"orientation\":\"v\",\"showlegend\":true,\"x\":[256,512,1000],\"xaxis\":\"x\",\"y\":[1.002427339553833,0.24036672711372375,1.1140644550323486],\"yaxis\":\"y\",\"type\":\"scatter\"},{\"hovertemplate\":\"Layer-Head=Layer 11-Head 5\\u003cbr\\u003eCheckpoint=%{x}\\u003cbr\\u003eSelf Repair Score=%{y}\\u003cextra\\u003e\\u003c\\u002fextra\\u003e\",\"legendgroup\":\"Layer 11-Head 5\",\"line\":{\"color\":\"#B6E880\",\"dash\":\"solid\"},\"marker\":{\"symbol\":\"circle\"},\"mode\":\"lines\",\"name\":\"Layer 11-Head 5\",\"orientation\":\"v\",\"showlegend\":true,\"x\":[256,512,1000],\"xaxis\":\"x\",\"y\":[1.004176378250122,0.7994313836097717,1.9064010381698608],\"yaxis\":\"y\",\"type\":\"scatter\"},{\"hovertemplate\":\"Layer-Head=Layer 11-Head 6\\u003cbr\\u003eCheckpoint=%{x}\\u003cbr\\u003eSelf Repair Score=%{y}\\u003cextra\\u003e\\u003c\\u002fextra\\u003e\",\"legendgroup\":\"Layer 11-Head 6\",\"line\":{\"color\":\"#FF97FF\",\"dash\":\"solid\"},\"marker\":{\"symbol\":\"circle\"},\"mode\":\"lines\",\"name\":\"Layer 11-Head 6\",\"orientation\":\"v\",\"showlegend\":true,\"x\":[256,512,1000],\"xaxis\":\"x\",\"y\":[0.9388381242752075,0.383694052696228,-0.2814916968345642],\"yaxis\":\"y\",\"type\":\"scatter\"},{\"hovertemplate\":\"Layer-Head=Layer 11-Head 7\\u003cbr\\u003eCheckpoint=%{x}\\u003cbr\\u003eSelf Repair Score=%{y}\\u003cextra\\u003e\\u003c\\u002fextra\\u003e\",\"legendgroup\":\"Layer 11-Head 7\",\"line\":{\"color\":\"#FECB52\",\"dash\":\"solid\"},\"marker\":{\"symbol\":\"circle\"},\"mode\":\"lines\",\"name\":\"Layer 11-Head 7\",\"orientation\":\"v\",\"showlegend\":true,\"x\":[256,512,1000],\"xaxis\":\"x\",\"y\":[1.0226624011993408,0.8518079519271851,0.8401800990104675],\"yaxis\":\"y\",\"type\":\"scatter\"},{\"hovertemplate\":\"Layer-Head=Layer 11-Head 8\\u003cbr\\u003eCheckpoint=%{x}\\u003cbr\\u003eSelf Repair Score=%{y}\\u003cextra\\u003e\\u003c\\u002fextra\\u003e\",\"legendgroup\":\"Layer 11-Head 8\",\"line\":{\"color\":\"#636efa\",\"dash\":\"solid\"},\"marker\":{\"symbol\":\"circle\"},\"mode\":\"lines\",\"name\":\"Layer 11-Head 8\",\"orientation\":\"v\",\"showlegend\":true,\"x\":[256,512,1000],\"xaxis\":\"x\",\"y\":[1.0550884008407593,1.3336280584335327,1.0682315826416016],\"yaxis\":\"y\",\"type\":\"scatter\"},{\"hovertemplate\":\"Layer-Head=Layer 11-Head 9\\u003cbr\\u003eCheckpoint=%{x}\\u003cbr\\u003eSelf Repair Score=%{y}\\u003cextra\\u003e\\u003c\\u002fextra\\u003e\",\"legendgroup\":\"Layer 11-Head 9\",\"line\":{\"color\":\"#EF553B\",\"dash\":\"solid\"},\"marker\":{\"symbol\":\"circle\"},\"mode\":\"lines\",\"name\":\"Layer 11-Head 9\",\"orientation\":\"v\",\"showlegend\":true,\"x\":[256,512,1000],\"xaxis\":\"x\",\"y\":[0.8564891219139099,-0.4962986707687378,0.7776092290878296],\"yaxis\":\"y\",\"type\":\"scatter\"},{\"hovertemplate\":\"Layer-Head=Layer 11-Head 10\\u003cbr\\u003eCheckpoint=%{x}\\u003cbr\\u003eSelf Repair Score=%{y}\\u003cextra\\u003e\\u003c\\u002fextra\\u003e\",\"legendgroup\":\"Layer 11-Head 10\",\"line\":{\"color\":\"#00cc96\",\"dash\":\"solid\"},\"marker\":{\"symbol\":\"circle\"},\"mode\":\"lines\",\"name\":\"Layer 11-Head 10\",\"orientation\":\"v\",\"showlegend\":true,\"x\":[256,512,1000],\"xaxis\":\"x\",\"y\":[1.0184071063995361,-0.49277040362358093,1.0532491207122803],\"yaxis\":\"y\",\"type\":\"scatter\"},{\"hovertemplate\":\"Layer-Head=Layer 11-Head 11\\u003cbr\\u003eCheckpoint=%{x}\\u003cbr\\u003eSelf Repair Score=%{y}\\u003cextra\\u003e\\u003c\\u002fextra\\u003e\",\"legendgroup\":\"Layer 11-Head 11\",\"line\":{\"color\":\"#ab63fa\",\"dash\":\"solid\"},\"marker\":{\"symbol\":\"circle\"},\"mode\":\"lines\",\"name\":\"Layer 11-Head 11\",\"orientation\":\"v\",\"showlegend\":true,\"x\":[256,512,1000],\"xaxis\":\"x\",\"y\":[1.0255576372146606,0.7812933325767517,0.7016466856002808],\"yaxis\":\"y\",\"type\":\"scatter\"}],                        {\"template\":{\"data\":{\"histogram2dcontour\":[{\"type\":\"histogram2dcontour\",\"colorbar\":{\"outlinewidth\":0,\"ticks\":\"\"},\"colorscale\":[[0.0,\"#0d0887\"],[0.1111111111111111,\"#46039f\"],[0.2222222222222222,\"#7201a8\"],[0.3333333333333333,\"#9c179e\"],[0.4444444444444444,\"#bd3786\"],[0.5555555555555556,\"#d8576b\"],[0.6666666666666666,\"#ed7953\"],[0.7777777777777778,\"#fb9f3a\"],[0.8888888888888888,\"#fdca26\"],[1.0,\"#f0f921\"]]}],\"choropleth\":[{\"type\":\"choropleth\",\"colorbar\":{\"outlinewidth\":0,\"ticks\":\"\"}}],\"histogram2d\":[{\"type\":\"histogram2d\",\"colorbar\":{\"outlinewidth\":0,\"ticks\":\"\"},\"colorscale\":[[0.0,\"#0d0887\"],[0.1111111111111111,\"#46039f\"],[0.2222222222222222,\"#7201a8\"],[0.3333333333333333,\"#9c179e\"],[0.4444444444444444,\"#bd3786\"],[0.5555555555555556,\"#d8576b\"],[0.6666666666666666,\"#ed7953\"],[0.7777777777777778,\"#fb9f3a\"],[0.8888888888888888,\"#fdca26\"],[1.0,\"#f0f921\"]]}],\"heatmap\":[{\"type\":\"heatmap\",\"colorbar\":{\"outlinewidth\":0,\"ticks\":\"\"},\"colorscale\":[[0.0,\"#0d0887\"],[0.1111111111111111,\"#46039f\"],[0.2222222222222222,\"#7201a8\"],[0.3333333333333333,\"#9c179e\"],[0.4444444444444444,\"#bd3786\"],[0.5555555555555556,\"#d8576b\"],[0.6666666666666666,\"#ed7953\"],[0.7777777777777778,\"#fb9f3a\"],[0.8888888888888888,\"#fdca26\"],[1.0,\"#f0f921\"]]}],\"heatmapgl\":[{\"type\":\"heatmapgl\",\"colorbar\":{\"outlinewidth\":0,\"ticks\":\"\"},\"colorscale\":[[0.0,\"#0d0887\"],[0.1111111111111111,\"#46039f\"],[0.2222222222222222,\"#7201a8\"],[0.3333333333333333,\"#9c179e\"],[0.4444444444444444,\"#bd3786\"],[0.5555555555555556,\"#d8576b\"],[0.6666666666666666,\"#ed7953\"],[0.7777777777777778,\"#fb9f3a\"],[0.8888888888888888,\"#fdca26\"],[1.0,\"#f0f921\"]]}],\"contourcarpet\":[{\"type\":\"contourcarpet\",\"colorbar\":{\"outlinewidth\":0,\"ticks\":\"\"}}],\"contour\":[{\"type\":\"contour\",\"colorbar\":{\"outlinewidth\":0,\"ticks\":\"\"},\"colorscale\":[[0.0,\"#0d0887\"],[0.1111111111111111,\"#46039f\"],[0.2222222222222222,\"#7201a8\"],[0.3333333333333333,\"#9c179e\"],[0.4444444444444444,\"#bd3786\"],[0.5555555555555556,\"#d8576b\"],[0.6666666666666666,\"#ed7953\"],[0.7777777777777778,\"#fb9f3a\"],[0.8888888888888888,\"#fdca26\"],[1.0,\"#f0f921\"]]}],\"surface\":[{\"type\":\"surface\",\"colorbar\":{\"outlinewidth\":0,\"ticks\":\"\"},\"colorscale\":[[0.0,\"#0d0887\"],[0.1111111111111111,\"#46039f\"],[0.2222222222222222,\"#7201a8\"],[0.3333333333333333,\"#9c179e\"],[0.4444444444444444,\"#bd3786\"],[0.5555555555555556,\"#d8576b\"],[0.6666666666666666,\"#ed7953\"],[0.7777777777777778,\"#fb9f3a\"],[0.8888888888888888,\"#fdca26\"],[1.0,\"#f0f921\"]]}],\"mesh3d\":[{\"type\":\"mesh3d\",\"colorbar\":{\"outlinewidth\":0,\"ticks\":\"\"}}],\"scatter\":[{\"fillpattern\":{\"fillmode\":\"overlay\",\"size\":10,\"solidity\":0.2},\"type\":\"scatter\"}],\"parcoords\":[{\"type\":\"parcoords\",\"line\":{\"colorbar\":{\"outlinewidth\":0,\"ticks\":\"\"}}}],\"scatterpolargl\":[{\"type\":\"scatterpolargl\",\"marker\":{\"colorbar\":{\"outlinewidth\":0,\"ticks\":\"\"}}}],\"bar\":[{\"error_x\":{\"color\":\"#2a3f5f\"},\"error_y\":{\"color\":\"#2a3f5f\"},\"marker\":{\"line\":{\"color\":\"#E5ECF6\",\"width\":0.5},\"pattern\":{\"fillmode\":\"overlay\",\"size\":10,\"solidity\":0.2}},\"type\":\"bar\"}],\"scattergeo\":[{\"type\":\"scattergeo\",\"marker\":{\"colorbar\":{\"outlinewidth\":0,\"ticks\":\"\"}}}],\"scatterpolar\":[{\"type\":\"scatterpolar\",\"marker\":{\"colorbar\":{\"outlinewidth\":0,\"ticks\":\"\"}}}],\"histogram\":[{\"marker\":{\"pattern\":{\"fillmode\":\"overlay\",\"size\":10,\"solidity\":0.2}},\"type\":\"histogram\"}],\"scattergl\":[{\"type\":\"scattergl\",\"marker\":{\"colorbar\":{\"outlinewidth\":0,\"ticks\":\"\"}}}],\"scatter3d\":[{\"type\":\"scatter3d\",\"line\":{\"colorbar\":{\"outlinewidth\":0,\"ticks\":\"\"}},\"marker\":{\"colorbar\":{\"outlinewidth\":0,\"ticks\":\"\"}}}],\"scattermapbox\":[{\"type\":\"scattermapbox\",\"marker\":{\"colorbar\":{\"outlinewidth\":0,\"ticks\":\"\"}}}],\"scatterternary\":[{\"type\":\"scatterternary\",\"marker\":{\"colorbar\":{\"outlinewidth\":0,\"ticks\":\"\"}}}],\"scattercarpet\":[{\"type\":\"scattercarpet\",\"marker\":{\"colorbar\":{\"outlinewidth\":0,\"ticks\":\"\"}}}],\"carpet\":[{\"aaxis\":{\"endlinecolor\":\"#2a3f5f\",\"gridcolor\":\"white\",\"linecolor\":\"white\",\"minorgridcolor\":\"white\",\"startlinecolor\":\"#2a3f5f\"},\"baxis\":{\"endlinecolor\":\"#2a3f5f\",\"gridcolor\":\"white\",\"linecolor\":\"white\",\"minorgridcolor\":\"white\",\"startlinecolor\":\"#2a3f5f\"},\"type\":\"carpet\"}],\"table\":[{\"cells\":{\"fill\":{\"color\":\"#EBF0F8\"},\"line\":{\"color\":\"white\"}},\"header\":{\"fill\":{\"color\":\"#C8D4E3\"},\"line\":{\"color\":\"white\"}},\"type\":\"table\"}],\"barpolar\":[{\"marker\":{\"line\":{\"color\":\"#E5ECF6\",\"width\":0.5},\"pattern\":{\"fillmode\":\"overlay\",\"size\":10,\"solidity\":0.2}},\"type\":\"barpolar\"}],\"pie\":[{\"automargin\":true,\"type\":\"pie\"}]},\"layout\":{\"autotypenumbers\":\"strict\",\"colorway\":[\"#636efa\",\"#EF553B\",\"#00cc96\",\"#ab63fa\",\"#FFA15A\",\"#19d3f3\",\"#FF6692\",\"#B6E880\",\"#FF97FF\",\"#FECB52\"],\"font\":{\"color\":\"#2a3f5f\"},\"hovermode\":\"closest\",\"hoverlabel\":{\"align\":\"left\"},\"paper_bgcolor\":\"white\",\"plot_bgcolor\":\"#E5ECF6\",\"polar\":{\"bgcolor\":\"#E5ECF6\",\"angularaxis\":{\"gridcolor\":\"white\",\"linecolor\":\"white\",\"ticks\":\"\"},\"radialaxis\":{\"gridcolor\":\"white\",\"linecolor\":\"white\",\"ticks\":\"\"}},\"ternary\":{\"bgcolor\":\"#E5ECF6\",\"aaxis\":{\"gridcolor\":\"white\",\"linecolor\":\"white\",\"ticks\":\"\"},\"baxis\":{\"gridcolor\":\"white\",\"linecolor\":\"white\",\"ticks\":\"\"},\"caxis\":{\"gridcolor\":\"white\",\"linecolor\":\"white\",\"ticks\":\"\"}},\"coloraxis\":{\"colorbar\":{\"outlinewidth\":0,\"ticks\":\"\"}},\"colorscale\":{\"sequential\":[[0.0,\"#0d0887\"],[0.1111111111111111,\"#46039f\"],[0.2222222222222222,\"#7201a8\"],[0.3333333333333333,\"#9c179e\"],[0.4444444444444444,\"#bd3786\"],[0.5555555555555556,\"#d8576b\"],[0.6666666666666666,\"#ed7953\"],[0.7777777777777778,\"#fb9f3a\"],[0.8888888888888888,\"#fdca26\"],[1.0,\"#f0f921\"]],\"sequentialminus\":[[0.0,\"#0d0887\"],[0.1111111111111111,\"#46039f\"],[0.2222222222222222,\"#7201a8\"],[0.3333333333333333,\"#9c179e\"],[0.4444444444444444,\"#bd3786\"],[0.5555555555555556,\"#d8576b\"],[0.6666666666666666,\"#ed7953\"],[0.7777777777777778,\"#fb9f3a\"],[0.8888888888888888,\"#fdca26\"],[1.0,\"#f0f921\"]],\"diverging\":[[0,\"#8e0152\"],[0.1,\"#c51b7d\"],[0.2,\"#de77ae\"],[0.3,\"#f1b6da\"],[0.4,\"#fde0ef\"],[0.5,\"#f7f7f7\"],[0.6,\"#e6f5d0\"],[0.7,\"#b8e186\"],[0.8,\"#7fbc41\"],[0.9,\"#4d9221\"],[1,\"#276419\"]]},\"xaxis\":{\"gridcolor\":\"white\",\"linecolor\":\"white\",\"ticks\":\"\",\"title\":{\"standoff\":15},\"zerolinecolor\":\"white\",\"automargin\":true,\"zerolinewidth\":2},\"yaxis\":{\"gridcolor\":\"white\",\"linecolor\":\"white\",\"ticks\":\"\",\"title\":{\"standoff\":15},\"zerolinecolor\":\"white\",\"automargin\":true,\"zerolinewidth\":2},\"scene\":{\"xaxis\":{\"backgroundcolor\":\"#E5ECF6\",\"gridcolor\":\"white\",\"linecolor\":\"white\",\"showbackground\":true,\"ticks\":\"\",\"zerolinecolor\":\"white\",\"gridwidth\":2},\"yaxis\":{\"backgroundcolor\":\"#E5ECF6\",\"gridcolor\":\"white\",\"linecolor\":\"white\",\"showbackground\":true,\"ticks\":\"\",\"zerolinecolor\":\"white\",\"gridwidth\":2},\"zaxis\":{\"backgroundcolor\":\"#E5ECF6\",\"gridcolor\":\"white\",\"linecolor\":\"white\",\"showbackground\":true,\"ticks\":\"\",\"zerolinecolor\":\"white\",\"gridwidth\":2}},\"shapedefaults\":{\"line\":{\"color\":\"#2a3f5f\"}},\"annotationdefaults\":{\"arrowcolor\":\"#2a3f5f\",\"arrowhead\":0,\"arrowwidth\":1},\"geo\":{\"bgcolor\":\"white\",\"landcolor\":\"#E5ECF6\",\"subunitcolor\":\"white\",\"showland\":true,\"showlakes\":true,\"lakecolor\":\"white\"},\"title\":{\"x\":0.05},\"mapbox\":{\"style\":\"light\"}}},\"xaxis\":{\"anchor\":\"y\",\"domain\":[0.0,1.0],\"title\":{\"text\":\"Checkpoint\"}},\"yaxis\":{\"anchor\":\"x\",\"domain\":[0.0,1.0],\"title\":{\"text\":\"Self Repair Score\"},\"range\":[-300,300]},\"legend\":{\"title\":{\"text\":\"Layer-Head\"},\"tracegroupgap\":0},\"title\":{\"text\":\"Self Repair Across Checkpoints (DE+CIL\\u002fDE) (pythia-160m-attndropout)\"},\"height\":500},                        {\"responsive\": true}                    ).then(function(){\n",
       "                            \n",
       "var gd = document.getElementById('f3e1e206-2676-49b2-8e1c-dce274c9b56c');\n",
       "var x = new MutationObserver(function (mutations, observer) {{\n",
       "        var display = window.getComputedStyle(gd).display;\n",
       "        if (!display || display === 'none') {{\n",
       "            console.log([gd, 'removed!']);\n",
       "            Plotly.purge(gd);\n",
       "            observer.disconnect();\n",
       "        }}\n",
       "}});\n",
       "\n",
       "// Listen for the removal of the full notebook cells\n",
       "var notebookContainer = gd.closest('#notebook-container');\n",
       "if (notebookContainer) {{\n",
       "    x.observe(notebookContainer, {childList: true});\n",
       "}}\n",
       "\n",
       "// Listen for the clearing of the current output cell\n",
       "var outputEl = gd.closest('.output');\n",
       "if (outputEl) {{\n",
       "    x.observe(outputEl, {childList: true});\n",
       "}}\n",
       "\n",
       "                        })                };                });            </script>        </div>"
      ]
     },
     "metadata": {},
     "output_type": "display_data"
    }
   ],
   "source": [
    "df = plot_all_heads(MODEL_TO_VIEW, data, plot_everything=True, top_k_per_checkpoint=5, top_k=5)"
   ]
  },
  {
   "cell_type": "code",
   "execution_count": 40,
   "metadata": {},
   "outputs": [
    {
     "data": {
      "text/plain": [
       "torch.Size([1, 12, 12])"
      ]
     },
     "execution_count": 40,
     "metadata": {},
     "output_type": "execute_result"
    }
   ],
   "source": [
    "data[143000]['self_repair_score'].shape"
   ]
  },
  {
   "cell_type": "code",
   "execution_count": 48,
   "metadata": {},
   "outputs": [
    {
     "data": {
      "text/html": [
       "<div>\n",
       "<style scoped>\n",
       "    .dataframe tbody tr th:only-of-type {\n",
       "        vertical-align: middle;\n",
       "    }\n",
       "\n",
       "    .dataframe tbody tr th {\n",
       "        vertical-align: top;\n",
       "    }\n",
       "\n",
       "    .dataframe thead th {\n",
       "        text-align: right;\n",
       "    }\n",
       "</style>\n",
       "<table border=\"1\" class=\"dataframe\">\n",
       "  <thead>\n",
       "    <tr style=\"text-align: right;\">\n",
       "      <th></th>\n",
       "      <th>Checkpoint_x</th>\n",
       "      <th>Layer-Head</th>\n",
       "      <th>Layer</th>\n",
       "      <th>Head</th>\n",
       "      <th>Value_x</th>\n",
       "      <th>Checkpoint_y</th>\n",
       "      <th>Value_y</th>\n",
       "      <th>Top K</th>\n",
       "    </tr>\n",
       "  </thead>\n",
       "  <tbody>\n",
       "    <tr>\n",
       "      <th>1</th>\n",
       "      <td>512</td>\n",
       "      <td>Layer 3-Head 8</td>\n",
       "      <td>3</td>\n",
       "      <td>8</td>\n",
       "      <td>25.740900</td>\n",
       "      <td>30512</td>\n",
       "      <td>173.673319</td>\n",
       "      <td>True</td>\n",
       "    </tr>\n",
       "    <tr>\n",
       "      <th>23</th>\n",
       "      <td>5000</td>\n",
       "      <td>Layer 1-Head 10</td>\n",
       "      <td>1</td>\n",
       "      <td>10</td>\n",
       "      <td>89.960876</td>\n",
       "      <td>5000</td>\n",
       "      <td>89.960876</td>\n",
       "      <td>True</td>\n",
       "    </tr>\n",
       "    <tr>\n",
       "      <th>26</th>\n",
       "      <td>10000</td>\n",
       "      <td>Layer 1-Head 6</td>\n",
       "      <td>1</td>\n",
       "      <td>6</td>\n",
       "      <td>15.675889</td>\n",
       "      <td>40000</td>\n",
       "      <td>226.239076</td>\n",
       "      <td>True</td>\n",
       "    </tr>\n",
       "    <tr>\n",
       "      <th>29</th>\n",
       "      <td>10000</td>\n",
       "      <td>Layer 3-Head 5</td>\n",
       "      <td>3</td>\n",
       "      <td>5</td>\n",
       "      <td>116.355156</td>\n",
       "      <td>10000</td>\n",
       "      <td>116.355156</td>\n",
       "      <td>True</td>\n",
       "    </tr>\n",
       "    <tr>\n",
       "      <th>33</th>\n",
       "      <td>30000</td>\n",
       "      <td>Layer 3-Head 8</td>\n",
       "      <td>3</td>\n",
       "      <td>8</td>\n",
       "      <td>147.932419</td>\n",
       "      <td>30512</td>\n",
       "      <td>173.673319</td>\n",
       "      <td>True</td>\n",
       "    </tr>\n",
       "    <tr>\n",
       "      <th>34</th>\n",
       "      <td>30000</td>\n",
       "      <td>Layer 1-Head 6</td>\n",
       "      <td>1</td>\n",
       "      <td>6</td>\n",
       "      <td>210.563187</td>\n",
       "      <td>40000</td>\n",
       "      <td>226.239076</td>\n",
       "      <td>True</td>\n",
       "    </tr>\n",
       "    <tr>\n",
       "      <th>35</th>\n",
       "      <td>90000</td>\n",
       "      <td>Layer 0-Head 8</td>\n",
       "      <td>0</td>\n",
       "      <td>8</td>\n",
       "      <td>21.291231</td>\n",
       "      <td>233000</td>\n",
       "      <td>207.862093</td>\n",
       "      <td>True</td>\n",
       "    </tr>\n",
       "    <tr>\n",
       "      <th>43</th>\n",
       "      <td>143000</td>\n",
       "      <td>Layer 0-Head 8</td>\n",
       "      <td>0</td>\n",
       "      <td>8</td>\n",
       "      <td>186.570862</td>\n",
       "      <td>233000</td>\n",
       "      <td>207.862093</td>\n",
       "      <td>True</td>\n",
       "    </tr>\n",
       "  </tbody>\n",
       "</table>\n",
       "</div>"
      ],
      "text/plain": [
       "    Checkpoint_x       Layer-Head  Layer  Head     Value_x  Checkpoint_y  \\\n",
       "1            512   Layer 3-Head 8      3     8   25.740900         30512   \n",
       "23          5000  Layer 1-Head 10      1    10   89.960876          5000   \n",
       "26         10000   Layer 1-Head 6      1     6   15.675889         40000   \n",
       "29         10000   Layer 3-Head 5      3     5  116.355156         10000   \n",
       "33         30000   Layer 3-Head 8      3     8  147.932419         30512   \n",
       "34         30000   Layer 1-Head 6      1     6  210.563187         40000   \n",
       "35         90000   Layer 0-Head 8      0     8   21.291231        233000   \n",
       "43        143000   Layer 0-Head 8      0     8  186.570862        233000   \n",
       "\n",
       "       Value_y  Top K  \n",
       "1   173.673319   True  \n",
       "23   89.960876   True  \n",
       "26  226.239076   True  \n",
       "29  116.355156   True  \n",
       "33  173.673319   True  \n",
       "34  226.239076   True  \n",
       "35  207.862093   True  \n",
       "43  207.862093   True  "
      ]
     },
     "execution_count": 48,
     "metadata": {},
     "output_type": "execute_result"
    }
   ],
   "source": [
    "df.head(50)"
   ]
  },
  {
   "cell_type": "code",
   "execution_count": null,
   "metadata": {},
   "outputs": [],
   "source": []
  }
 ],
 "metadata": {
  "kernelspec": {
   "display_name": "Python 3 (ipykernel)",
   "language": "python",
   "name": "python3"
  },
  "orig_nbformat": 4
 },
 "nbformat": 4,
 "nbformat_minor": 2
}
