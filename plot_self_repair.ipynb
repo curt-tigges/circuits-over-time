{
 "cells": [
  {
   "cell_type": "code",
   "execution_count": 10,
   "metadata": {},
   "outputs": [],
   "source": [
    "import os\n",
    "import json\n",
    "import glob\n",
    "import torch\n",
    "import pickle\n",
    "import re\n",
    "import plotly.graph_objects as go\n",
    "import einops\n",
    "import pandas as pd\n",
    "from functools import partial\n",
    "from torch import Tensor\n",
    "from torchtyping import TensorType as TT\n",
    "from utils.visualization import imshow_p"
   ]
  },
  {
   "cell_type": "code",
   "execution_count": 39,
   "metadata": {},
   "outputs": [],
   "source": [
    "MODEL_TO_VIEW = \"pythia-160m-alldropout\""
   ]
  },
  {
   "cell_type": "code",
   "execution_count": 40,
   "metadata": {},
   "outputs": [],
   "source": [
    "filename = f\"backup_research/FINAL_figure_files/sr_over_time/data/{MODEL_TO_VIEW}/sample_results_dict.pt\"\n",
    "data = torch.load(filename)"
   ]
  },
  {
   "cell_type": "code",
   "execution_count": 41,
   "metadata": {},
   "outputs": [
    {
     "data": {
      "text/plain": [
       "dict_keys([512, 1000, 2000, 3000, 5000, 10000, 30000, 90000, 143000])"
      ]
     },
     "execution_count": 41,
     "metadata": {},
     "output_type": "execute_result"
    }
   ],
   "source": [
    "\n",
    "# sort the dictionary by the key\n",
    "data = dict(sorted(data.items(), key=lambda item: int(item[0])))\n",
    "data.keys()"
   ]
  },
  {
   "attachments": {},
   "cell_type": "markdown",
   "metadata": {},
   "source": [
    "### Single Checkpoint"
   ]
  },
  {
   "cell_type": "code",
   "execution_count": 42,
   "metadata": {},
   "outputs": [],
   "source": [
    "CHECKPOINT = 143000"
   ]
  },
  {
   "cell_type": "code",
   "execution_count": 43,
   "metadata": {},
   "outputs": [],
   "source": [
    "repair_score = (data[CHECKPOINT]['thresholded_cil'][0] + data[CHECKPOINT]['thresholded_de'][0]) / data[CHECKPOINT]['thresholded_de'][0]\n",
    "#weighted_repair_score = (data[CHECKPOINT]['thresholded_de'][0] / -data[CHECKPOINT]['thresholded_cil'][0]) * data[CHECKPOINT]['thresholded_de'][0]"
   ]
  },
  {
   "cell_type": "code",
   "execution_count": 50,
   "metadata": {},
   "outputs": [
    {
     "data": {
      "application/vnd.plotly.v1+json": {
       "config": {
        "plotlyServerURL": "https://plot.ly"
       },
       "data": [
        {
         "marker": {
          "color": [
           0,
           0,
           0,
           0,
           0,
           0,
           0,
           0,
           0,
           0,
           0,
           0,
           1,
           1,
           1,
           1,
           1,
           1,
           1,
           1,
           1,
           1,
           1,
           1,
           2,
           2,
           2,
           2,
           2,
           2,
           2,
           2,
           2,
           2,
           2,
           2,
           3,
           3,
           3,
           3,
           3,
           3,
           3,
           3,
           3,
           3,
           3,
           3,
           4,
           4,
           4,
           4,
           4,
           4,
           4,
           4,
           4,
           4,
           4,
           4,
           5,
           5,
           5,
           5,
           5,
           5,
           5,
           5,
           5,
           5,
           5,
           5,
           6,
           6,
           6,
           6,
           6,
           6,
           6,
           6,
           6,
           6,
           6,
           6,
           7,
           7,
           7,
           7,
           7,
           7,
           7,
           7,
           7,
           7,
           7,
           7,
           8,
           8,
           8,
           8,
           8,
           8,
           8,
           8,
           8,
           8,
           8,
           8,
           9,
           9,
           9,
           9,
           9,
           9,
           9,
           9,
           9,
           9,
           9,
           9,
           10,
           10,
           10,
           10,
           10,
           10,
           10,
           10,
           10,
           10,
           10,
           10,
           11,
           11,
           11,
           11,
           11,
           11,
           11,
           11,
           11,
           11,
           11,
           11
          ],
          "colorbar": {
           "orientation": "h",
           "title": {
            "text": "Layer"
           }
          },
          "colorscale": [
           [
            0,
            "#440154"
           ],
           [
            0.1111111111111111,
            "#482878"
           ],
           [
            0.2222222222222222,
            "#3e4989"
           ],
           [
            0.3333333333333333,
            "#31688e"
           ],
           [
            0.4444444444444444,
            "#26828e"
           ],
           [
            0.5555555555555556,
            "#1f9e89"
           ],
           [
            0.6666666666666666,
            "#35b779"
           ],
           [
            0.7777777777777778,
            "#6ece58"
           ],
           [
            0.8888888888888888,
            "#b5de2b"
           ],
           [
            1,
            "#fde725"
           ]
          ],
          "line": {
           "color": "DarkSlateGrey",
           "width": 0.5
          },
          "opacity": 0.8,
          "size": 8
         },
         "mode": "markers",
         "name": "Attention Heads",
         "text": [
          "Layer 0, Head 0",
          "Layer 0, Head 1",
          "Layer 0, Head 2",
          "Layer 0, Head 3",
          "Layer 0, Head 4",
          "Layer 0, Head 5",
          "Layer 0, Head 6",
          "Layer 0, Head 7",
          "Layer 0, Head 8",
          "Layer 0, Head 9",
          "Layer 0, Head 10",
          "Layer 0, Head 11",
          "Layer 1, Head 0",
          "Layer 1, Head 1",
          "Layer 1, Head 2",
          "Layer 1, Head 3",
          "Layer 1, Head 4",
          "Layer 1, Head 5",
          "Layer 1, Head 6",
          "Layer 1, Head 7",
          "Layer 1, Head 8",
          "Layer 1, Head 9",
          "Layer 1, Head 10",
          "Layer 1, Head 11",
          "Layer 2, Head 0",
          "Layer 2, Head 1",
          "Layer 2, Head 2",
          "Layer 2, Head 3",
          "Layer 2, Head 4",
          "Layer 2, Head 5",
          "Layer 2, Head 6",
          "Layer 2, Head 7",
          "Layer 2, Head 8",
          "Layer 2, Head 9",
          "Layer 2, Head 10",
          "Layer 2, Head 11",
          "Layer 3, Head 0",
          "Layer 3, Head 1",
          "Layer 3, Head 2",
          "Layer 3, Head 3",
          "Layer 3, Head 4",
          "Layer 3, Head 5",
          "Layer 3, Head 6",
          "Layer 3, Head 7",
          "Layer 3, Head 8",
          "Layer 3, Head 9",
          "Layer 3, Head 10",
          "Layer 3, Head 11",
          "Layer 4, Head 0",
          "Layer 4, Head 1",
          "Layer 4, Head 2",
          "Layer 4, Head 3",
          "Layer 4, Head 4",
          "Layer 4, Head 5",
          "Layer 4, Head 6",
          "Layer 4, Head 7",
          "Layer 4, Head 8",
          "Layer 4, Head 9",
          "Layer 4, Head 10",
          "Layer 4, Head 11",
          "Layer 5, Head 0",
          "Layer 5, Head 1",
          "Layer 5, Head 2",
          "Layer 5, Head 3",
          "Layer 5, Head 4",
          "Layer 5, Head 5",
          "Layer 5, Head 6",
          "Layer 5, Head 7",
          "Layer 5, Head 8",
          "Layer 5, Head 9",
          "Layer 5, Head 10",
          "Layer 5, Head 11",
          "Layer 6, Head 0",
          "Layer 6, Head 1",
          "Layer 6, Head 2",
          "Layer 6, Head 3",
          "Layer 6, Head 4",
          "Layer 6, Head 5",
          "Layer 6, Head 6",
          "Layer 6, Head 7",
          "Layer 6, Head 8",
          "Layer 6, Head 9",
          "Layer 6, Head 10",
          "Layer 6, Head 11",
          "Layer 7, Head 0",
          "Layer 7, Head 1",
          "Layer 7, Head 2",
          "Layer 7, Head 3",
          "Layer 7, Head 4",
          "Layer 7, Head 5",
          "Layer 7, Head 6",
          "Layer 7, Head 7",
          "Layer 7, Head 8",
          "Layer 7, Head 9",
          "Layer 7, Head 10",
          "Layer 7, Head 11",
          "Layer 8, Head 0",
          "Layer 8, Head 1",
          "Layer 8, Head 2",
          "Layer 8, Head 3",
          "Layer 8, Head 4",
          "Layer 8, Head 5",
          "Layer 8, Head 6",
          "Layer 8, Head 7",
          "Layer 8, Head 8",
          "Layer 8, Head 9",
          "Layer 8, Head 10",
          "Layer 8, Head 11",
          "Layer 9, Head 0",
          "Layer 9, Head 1",
          "Layer 9, Head 2",
          "Layer 9, Head 3",
          "Layer 9, Head 4",
          "Layer 9, Head 5",
          "Layer 9, Head 6",
          "Layer 9, Head 7",
          "Layer 9, Head 8",
          "Layer 9, Head 9",
          "Layer 9, Head 10",
          "Layer 9, Head 11",
          "Layer 10, Head 0",
          "Layer 10, Head 1",
          "Layer 10, Head 2",
          "Layer 10, Head 3",
          "Layer 10, Head 4",
          "Layer 10, Head 5",
          "Layer 10, Head 6",
          "Layer 10, Head 7",
          "Layer 10, Head 8",
          "Layer 10, Head 9",
          "Layer 10, Head 10",
          "Layer 10, Head 11",
          "Layer 11, Head 0",
          "Layer 11, Head 1",
          "Layer 11, Head 2",
          "Layer 11, Head 3",
          "Layer 11, Head 4",
          "Layer 11, Head 5",
          "Layer 11, Head 6",
          "Layer 11, Head 7",
          "Layer 11, Head 8",
          "Layer 11, Head 9",
          "Layer 11, Head 10",
          "Layer 11, Head 11"
         ],
         "type": "scatter",
         "x": [
          0.042363934218883514,
          0.08013368397951126,
          0.025967659428715706,
          0.13380193710327148,
          0.09957255423069,
          0.039116233587265015,
          0.07962941378355026,
          0.09311266988515854,
          0.07450953125953674,
          0.045571547001600266,
          0.03102504275739193,
          0.06877469271421432,
          -0.008935822173953056,
          0.009084487333893776,
          0.0033335238695144653,
          0.03142852708697319,
          -0.05024118348956108,
          0.007478783372789621,
          0.019089581444859505,
          0.009226805530488491,
          0.05838087573647499,
          0.028054771944880486,
          0.024338962510228157,
          0.05282120406627655,
          0.03675699234008789,
          0.07135900110006332,
          0.012074142694473267,
          0.02255646325647831,
          0.022234132513403893,
          0.04953238368034363,
          0.01614893227815628,
          0.030203720554709435,
          0.011555486358702183,
          -0.05475234240293503,
          0.027495797723531723,
          0.008067631162703037,
          0.02778450958430767,
          0.03073486126959324,
          0.02969195507466793,
          0.028745094314217567,
          0.055786896497011185,
          0.026719195768237114,
          0.035932544618844986,
          -0.030759986490011215,
          0.01696738973259926,
          0.028920387849211693,
          0.048928067088127136,
          0.060933079570531845,
          0.07640682905912399,
          0.02464253641664982,
          0.02977559342980385,
          0.040591079741716385,
          0.01612946018576622,
          0.03166407719254494,
          0.03590603545308113,
          0.011237026192247868,
          0.03119264543056488,
          0.06587297469377518,
          0.04361359402537346,
          0.07130860537290573,
          0.013110707513988018,
          0.06247160583734512,
          0.11654772609472275,
          0.0070505389012396336,
          0.042174939066171646,
          0.10703513026237488,
          0.08219248801469803,
          0.0035273206885904074,
          0.03333808854222298,
          0.028712188825011253,
          0.008868892677128315,
          0.025568263605237007,
          0.20240195095539093,
          0.04928603023290634,
          0.06270411610603333,
          0.03355204313993454,
          0.10689512640237808,
          -0.02142876200377941,
          0.010219186544418335,
          -0.03417196124792099,
          0.06411989778280258,
          0.08830296248197556,
          0.006179338321089745,
          0.003077315166592598,
          0.038740724325180054,
          0.07352164387702942,
          0.02717958204448223,
          -0.10188809782266617,
          -0.009598511271178722,
          0.047083497047424316,
          0.04387567564845085,
          0.05251726508140564,
          0.06993125379085541,
          0.1946997046470642,
          0.16215313971042633,
          0.030288944020867348,
          0.06169169768691063,
          0.021097062155604362,
          0.08029714971780777,
          0.2130233496427536,
          0.019567204639315605,
          0.1920442432165146,
          0.0788990780711174,
          0.007507914211601019,
          0.05642477795481682,
          0.14826640486717224,
          0.04255091771483421,
          0.07239776849746704,
          0.11198557913303375,
          0.12007880955934525,
          0.018817046657204628,
          0.03377346321940422,
          0.036566298454999924,
          0.2169341742992401,
          0.03350982069969177,
          0.04063033685088158,
          0.018577368929982185,
          0.014547866769134998,
          -0.04669036716222763,
          0.03349495679140091,
          0.0560305081307888,
          0.06405509263277054,
          0.06959915161132812,
          0.025957034900784492,
          0.024911001324653625,
          0.005858072079718113,
          0.024862173944711685,
          -0.006106855813413858,
          0.056058187037706375,
          0.010630065575242043,
          0.0042777820490300655,
          0.1382749080657959,
          0.0786779373884201,
          -0.0007110333535820246,
          0.033107858151197433,
          0.04898230731487274,
          -0.007174548227339983,
          0.019984805956482887,
          0.03537207469344139,
          0.023920392617583275,
          0.007131108548492193,
          0.018553661182522774,
          0.008161259815096855,
          0.007692839950323105
         ],
         "y": [
          -0.07751151919364929,
          -0.05662618204951286,
          -0.10348629206418991,
          -0.18565654754638672,
          -0.03804973140358925,
          -0.09065665304660797,
          -0.061207666993141174,
          -0.0396285243332386,
          -0.13851405680179596,
          -0.12775184214115143,
          -0.07402154058218002,
          -0.17636623978614807,
          -0.025557177141308784,
          -0.05468142777681351,
          -0.01100768893957138,
          -0.033869192004203796,
          -0.017277948558330536,
          -0.03812320902943611,
          -0.03908925876021385,
          -0.0353686697781086,
          -0.06965108960866928,
          -0.0579155758023262,
          -0.025656625628471375,
          -0.0761551707983017,
          -0.05797173082828522,
          -0.1391851305961609,
          -0.028620464727282524,
          -0.052653007209300995,
          -0.03683580830693245,
          -0.09002888947725296,
          -0.0543927364051342,
          -0.09423761069774628,
          -0.025378743186593056,
          0.0050070518627762794,
          -0.04471885412931442,
          -0.036863867193460464,
          -0.07142196595668793,
          -0.0624396875500679,
          -0.0449054054915905,
          -0.0567854605615139,
          -0.07364112138748169,
          -0.07240211218595505,
          -0.11992445588111877,
          0.03515511378645897,
          -0.03109915740787983,
          -0.05409231781959534,
          -0.05181866139173508,
          -0.07848826050758362,
          -0.06130519509315491,
          -0.055955417454242706,
          -0.06791513413190842,
          -0.09954278916120529,
          -0.06573065370321274,
          -0.0877123549580574,
          -0.046903107315301895,
          -0.04294826462864876,
          -0.042119190096855164,
          -0.1487053781747818,
          -0.05436744913458824,
          -0.03490964695811272,
          0.061333268880844116,
          -0.11416063457727432,
          -0.07406012713909149,
          -0.030890967696905136,
          -0.11848468333482742,
          -0.10966744273900986,
          -0.02520904690027237,
          -0.014414981938898563,
          -0.11207503080368042,
          -0.03475157544016838,
          -0.0576474703848362,
          -0.011319279670715332,
          -0.2809141278266907,
          -0.0982743352651596,
          -0.014749642461538315,
          -0.047437675297260284,
          -0.12473205476999283,
          -0.01245085522532463,
          0.0020968529861420393,
          0.081168033182621,
          -0.047302864491939545,
          -0.08783869445323944,
          -0.05566508695483208,
          -0.023383213207125664,
          -0.045659709721803665,
          -0.10936451703310013,
          -0.006812337785959244,
          0.04990428313612938,
          0.00958334282040596,
          -0.03291426599025726,
          -0.08973955363035202,
          -0.07842660695314407,
          -0.0710006132721901,
          -0.1658136397600174,
          -0.027587227523326874,
          -0.05140858143568039,
          -0.06692873686552048,
          -0.007975085638463497,
          -0.019226767122745514,
          -0.11095175892114639,
          -0.016998691484332085,
          -0.20193026959896088,
          -0.07748416811227798,
          -0.022724835202097893,
          -0.002441821387037635,
          -0.03607030585408211,
          -0.015844576060771942,
          -0.037056341767311096,
          -0.11877287179231644,
          -0.04709610342979431,
          -0.007182606030255556,
          -0.05477874353528023,
          -0.006975091062486172,
          -0.04980714991688728,
          -0.006235161330550909,
          -0.01280017476528883,
          -0.01041979156434536,
          -0.007104960735887289,
          -0.004981732927262783,
          -0.011038505472242832,
          -0.02068471908569336,
          -0.023935416713356972,
          -0.054729118943214417,
          -0.01298785675317049,
          -0.005720790009945631,
          -0.0046482989564538,
          -0.010773923248052597,
          -0.0042875767685472965,
          -0.016585318371653557,
          -0.01975315809249878,
          -0.008942433632910252,
          -0.0862966924905777,
          -0.05506732687354088,
          -0.006056868936866522,
          -0.02774384431540966,
          -0.035596054047346115,
          -0.0058899628929793835,
          -0.16134893894195557,
          -0.014970253221690655,
          -0.01718290150165558,
          -0.007644901052117348,
          -0.009937314316630363,
          -0.00633647944778204,
          -0.014917665161192417
         ]
        },
        {
         "line": {
          "color": "grey",
          "dash": "dot"
         },
         "mode": "lines",
         "name": "Y=-X",
         "type": "scatter",
         "x": [
          -0.4,
          0.2
         ],
         "y": [
          0.4,
          -0.2
         ]
        }
       ],
       "layout": {
        "height": 500,
        "legend": {
         "title": {
          "text": "Component"
         }
        },
        "showlegend": false,
        "template": {
         "data": {
          "bar": [
           {
            "error_x": {
             "color": "#2a3f5f"
            },
            "error_y": {
             "color": "#2a3f5f"
            },
            "marker": {
             "line": {
              "color": "#E5ECF6",
              "width": 0.5
             },
             "pattern": {
              "fillmode": "overlay",
              "size": 10,
              "solidity": 0.2
             }
            },
            "type": "bar"
           }
          ],
          "barpolar": [
           {
            "marker": {
             "line": {
              "color": "#E5ECF6",
              "width": 0.5
             },
             "pattern": {
              "fillmode": "overlay",
              "size": 10,
              "solidity": 0.2
             }
            },
            "type": "barpolar"
           }
          ],
          "carpet": [
           {
            "aaxis": {
             "endlinecolor": "#2a3f5f",
             "gridcolor": "white",
             "linecolor": "white",
             "minorgridcolor": "white",
             "startlinecolor": "#2a3f5f"
            },
            "baxis": {
             "endlinecolor": "#2a3f5f",
             "gridcolor": "white",
             "linecolor": "white",
             "minorgridcolor": "white",
             "startlinecolor": "#2a3f5f"
            },
            "type": "carpet"
           }
          ],
          "choropleth": [
           {
            "colorbar": {
             "outlinewidth": 0,
             "ticks": ""
            },
            "type": "choropleth"
           }
          ],
          "contour": [
           {
            "colorbar": {
             "outlinewidth": 0,
             "ticks": ""
            },
            "colorscale": [
             [
              0,
              "#0d0887"
             ],
             [
              0.1111111111111111,
              "#46039f"
             ],
             [
              0.2222222222222222,
              "#7201a8"
             ],
             [
              0.3333333333333333,
              "#9c179e"
             ],
             [
              0.4444444444444444,
              "#bd3786"
             ],
             [
              0.5555555555555556,
              "#d8576b"
             ],
             [
              0.6666666666666666,
              "#ed7953"
             ],
             [
              0.7777777777777778,
              "#fb9f3a"
             ],
             [
              0.8888888888888888,
              "#fdca26"
             ],
             [
              1,
              "#f0f921"
             ]
            ],
            "type": "contour"
           }
          ],
          "contourcarpet": [
           {
            "colorbar": {
             "outlinewidth": 0,
             "ticks": ""
            },
            "type": "contourcarpet"
           }
          ],
          "heatmap": [
           {
            "colorbar": {
             "outlinewidth": 0,
             "ticks": ""
            },
            "colorscale": [
             [
              0,
              "#0d0887"
             ],
             [
              0.1111111111111111,
              "#46039f"
             ],
             [
              0.2222222222222222,
              "#7201a8"
             ],
             [
              0.3333333333333333,
              "#9c179e"
             ],
             [
              0.4444444444444444,
              "#bd3786"
             ],
             [
              0.5555555555555556,
              "#d8576b"
             ],
             [
              0.6666666666666666,
              "#ed7953"
             ],
             [
              0.7777777777777778,
              "#fb9f3a"
             ],
             [
              0.8888888888888888,
              "#fdca26"
             ],
             [
              1,
              "#f0f921"
             ]
            ],
            "type": "heatmap"
           }
          ],
          "heatmapgl": [
           {
            "colorbar": {
             "outlinewidth": 0,
             "ticks": ""
            },
            "colorscale": [
             [
              0,
              "#0d0887"
             ],
             [
              0.1111111111111111,
              "#46039f"
             ],
             [
              0.2222222222222222,
              "#7201a8"
             ],
             [
              0.3333333333333333,
              "#9c179e"
             ],
             [
              0.4444444444444444,
              "#bd3786"
             ],
             [
              0.5555555555555556,
              "#d8576b"
             ],
             [
              0.6666666666666666,
              "#ed7953"
             ],
             [
              0.7777777777777778,
              "#fb9f3a"
             ],
             [
              0.8888888888888888,
              "#fdca26"
             ],
             [
              1,
              "#f0f921"
             ]
            ],
            "type": "heatmapgl"
           }
          ],
          "histogram": [
           {
            "marker": {
             "pattern": {
              "fillmode": "overlay",
              "size": 10,
              "solidity": 0.2
             }
            },
            "type": "histogram"
           }
          ],
          "histogram2d": [
           {
            "colorbar": {
             "outlinewidth": 0,
             "ticks": ""
            },
            "colorscale": [
             [
              0,
              "#0d0887"
             ],
             [
              0.1111111111111111,
              "#46039f"
             ],
             [
              0.2222222222222222,
              "#7201a8"
             ],
             [
              0.3333333333333333,
              "#9c179e"
             ],
             [
              0.4444444444444444,
              "#bd3786"
             ],
             [
              0.5555555555555556,
              "#d8576b"
             ],
             [
              0.6666666666666666,
              "#ed7953"
             ],
             [
              0.7777777777777778,
              "#fb9f3a"
             ],
             [
              0.8888888888888888,
              "#fdca26"
             ],
             [
              1,
              "#f0f921"
             ]
            ],
            "type": "histogram2d"
           }
          ],
          "histogram2dcontour": [
           {
            "colorbar": {
             "outlinewidth": 0,
             "ticks": ""
            },
            "colorscale": [
             [
              0,
              "#0d0887"
             ],
             [
              0.1111111111111111,
              "#46039f"
             ],
             [
              0.2222222222222222,
              "#7201a8"
             ],
             [
              0.3333333333333333,
              "#9c179e"
             ],
             [
              0.4444444444444444,
              "#bd3786"
             ],
             [
              0.5555555555555556,
              "#d8576b"
             ],
             [
              0.6666666666666666,
              "#ed7953"
             ],
             [
              0.7777777777777778,
              "#fb9f3a"
             ],
             [
              0.8888888888888888,
              "#fdca26"
             ],
             [
              1,
              "#f0f921"
             ]
            ],
            "type": "histogram2dcontour"
           }
          ],
          "mesh3d": [
           {
            "colorbar": {
             "outlinewidth": 0,
             "ticks": ""
            },
            "type": "mesh3d"
           }
          ],
          "parcoords": [
           {
            "line": {
             "colorbar": {
              "outlinewidth": 0,
              "ticks": ""
             }
            },
            "type": "parcoords"
           }
          ],
          "pie": [
           {
            "automargin": true,
            "type": "pie"
           }
          ],
          "scatter": [
           {
            "fillpattern": {
             "fillmode": "overlay",
             "size": 10,
             "solidity": 0.2
            },
            "type": "scatter"
           }
          ],
          "scatter3d": [
           {
            "line": {
             "colorbar": {
              "outlinewidth": 0,
              "ticks": ""
             }
            },
            "marker": {
             "colorbar": {
              "outlinewidth": 0,
              "ticks": ""
             }
            },
            "type": "scatter3d"
           }
          ],
          "scattercarpet": [
           {
            "marker": {
             "colorbar": {
              "outlinewidth": 0,
              "ticks": ""
             }
            },
            "type": "scattercarpet"
           }
          ],
          "scattergeo": [
           {
            "marker": {
             "colorbar": {
              "outlinewidth": 0,
              "ticks": ""
             }
            },
            "type": "scattergeo"
           }
          ],
          "scattergl": [
           {
            "marker": {
             "colorbar": {
              "outlinewidth": 0,
              "ticks": ""
             }
            },
            "type": "scattergl"
           }
          ],
          "scattermapbox": [
           {
            "marker": {
             "colorbar": {
              "outlinewidth": 0,
              "ticks": ""
             }
            },
            "type": "scattermapbox"
           }
          ],
          "scatterpolar": [
           {
            "marker": {
             "colorbar": {
              "outlinewidth": 0,
              "ticks": ""
             }
            },
            "type": "scatterpolar"
           }
          ],
          "scatterpolargl": [
           {
            "marker": {
             "colorbar": {
              "outlinewidth": 0,
              "ticks": ""
             }
            },
            "type": "scatterpolargl"
           }
          ],
          "scatterternary": [
           {
            "marker": {
             "colorbar": {
              "outlinewidth": 0,
              "ticks": ""
             }
            },
            "type": "scatterternary"
           }
          ],
          "surface": [
           {
            "colorbar": {
             "outlinewidth": 0,
             "ticks": ""
            },
            "colorscale": [
             [
              0,
              "#0d0887"
             ],
             [
              0.1111111111111111,
              "#46039f"
             ],
             [
              0.2222222222222222,
              "#7201a8"
             ],
             [
              0.3333333333333333,
              "#9c179e"
             ],
             [
              0.4444444444444444,
              "#bd3786"
             ],
             [
              0.5555555555555556,
              "#d8576b"
             ],
             [
              0.6666666666666666,
              "#ed7953"
             ],
             [
              0.7777777777777778,
              "#fb9f3a"
             ],
             [
              0.8888888888888888,
              "#fdca26"
             ],
             [
              1,
              "#f0f921"
             ]
            ],
            "type": "surface"
           }
          ],
          "table": [
           {
            "cells": {
             "fill": {
              "color": "#EBF0F8"
             },
             "line": {
              "color": "white"
             }
            },
            "header": {
             "fill": {
              "color": "#C8D4E3"
             },
             "line": {
              "color": "white"
             }
            },
            "type": "table"
           }
          ]
         },
         "layout": {
          "annotationdefaults": {
           "arrowcolor": "#2a3f5f",
           "arrowhead": 0,
           "arrowwidth": 1
          },
          "autotypenumbers": "strict",
          "coloraxis": {
           "colorbar": {
            "outlinewidth": 0,
            "ticks": ""
           }
          },
          "colorscale": {
           "diverging": [
            [
             0,
             "#8e0152"
            ],
            [
             0.1,
             "#c51b7d"
            ],
            [
             0.2,
             "#de77ae"
            ],
            [
             0.3,
             "#f1b6da"
            ],
            [
             0.4,
             "#fde0ef"
            ],
            [
             0.5,
             "#f7f7f7"
            ],
            [
             0.6,
             "#e6f5d0"
            ],
            [
             0.7,
             "#b8e186"
            ],
            [
             0.8,
             "#7fbc41"
            ],
            [
             0.9,
             "#4d9221"
            ],
            [
             1,
             "#276419"
            ]
           ],
           "sequential": [
            [
             0,
             "#0d0887"
            ],
            [
             0.1111111111111111,
             "#46039f"
            ],
            [
             0.2222222222222222,
             "#7201a8"
            ],
            [
             0.3333333333333333,
             "#9c179e"
            ],
            [
             0.4444444444444444,
             "#bd3786"
            ],
            [
             0.5555555555555556,
             "#d8576b"
            ],
            [
             0.6666666666666666,
             "#ed7953"
            ],
            [
             0.7777777777777778,
             "#fb9f3a"
            ],
            [
             0.8888888888888888,
             "#fdca26"
            ],
            [
             1,
             "#f0f921"
            ]
           ],
           "sequentialminus": [
            [
             0,
             "#0d0887"
            ],
            [
             0.1111111111111111,
             "#46039f"
            ],
            [
             0.2222222222222222,
             "#7201a8"
            ],
            [
             0.3333333333333333,
             "#9c179e"
            ],
            [
             0.4444444444444444,
             "#bd3786"
            ],
            [
             0.5555555555555556,
             "#d8576b"
            ],
            [
             0.6666666666666666,
             "#ed7953"
            ],
            [
             0.7777777777777778,
             "#fb9f3a"
            ],
            [
             0.8888888888888888,
             "#fdca26"
            ],
            [
             1,
             "#f0f921"
            ]
           ]
          },
          "colorway": [
           "#636efa",
           "#EF553B",
           "#00cc96",
           "#ab63fa",
           "#FFA15A",
           "#19d3f3",
           "#FF6692",
           "#B6E880",
           "#FF97FF",
           "#FECB52"
          ],
          "font": {
           "color": "#2a3f5f"
          },
          "geo": {
           "bgcolor": "white",
           "lakecolor": "white",
           "landcolor": "#E5ECF6",
           "showlakes": true,
           "showland": true,
           "subunitcolor": "white"
          },
          "hoverlabel": {
           "align": "left"
          },
          "hovermode": "closest",
          "mapbox": {
           "style": "light"
          },
          "paper_bgcolor": "white",
          "plot_bgcolor": "#E5ECF6",
          "polar": {
           "angularaxis": {
            "gridcolor": "white",
            "linecolor": "white",
            "ticks": ""
           },
           "bgcolor": "#E5ECF6",
           "radialaxis": {
            "gridcolor": "white",
            "linecolor": "white",
            "ticks": ""
           }
          },
          "scene": {
           "xaxis": {
            "backgroundcolor": "#E5ECF6",
            "gridcolor": "white",
            "gridwidth": 2,
            "linecolor": "white",
            "showbackground": true,
            "ticks": "",
            "zerolinecolor": "white"
           },
           "yaxis": {
            "backgroundcolor": "#E5ECF6",
            "gridcolor": "white",
            "gridwidth": 2,
            "linecolor": "white",
            "showbackground": true,
            "ticks": "",
            "zerolinecolor": "white"
           },
           "zaxis": {
            "backgroundcolor": "#E5ECF6",
            "gridcolor": "white",
            "gridwidth": 2,
            "linecolor": "white",
            "showbackground": true,
            "ticks": "",
            "zerolinecolor": "white"
           }
          },
          "shapedefaults": {
           "line": {
            "color": "#2a3f5f"
           }
          },
          "ternary": {
           "aaxis": {
            "gridcolor": "white",
            "linecolor": "white",
            "ticks": ""
           },
           "baxis": {
            "gridcolor": "white",
            "linecolor": "white",
            "ticks": ""
           },
           "bgcolor": "#E5ECF6",
           "caxis": {
            "gridcolor": "white",
            "linecolor": "white",
            "ticks": ""
           }
          },
          "title": {
           "x": 0.05
          },
          "xaxis": {
           "automargin": true,
           "gridcolor": "white",
           "linecolor": "white",
           "ticks": "",
           "title": {
            "standoff": 15
           },
           "zerolinecolor": "white",
           "zerolinewidth": 2
          },
          "yaxis": {
           "automargin": true,
           "gridcolor": "white",
           "linecolor": "white",
           "ticks": "",
           "title": {
            "standoff": 15
           },
           "zerolinecolor": "white",
           "zerolinewidth": 2
          }
         }
        },
        "title": {
         "text": "Self-Repair in pythia-160m-alldropout at Checkpoint 143000",
         "x": 0.5
        },
        "width": 500,
        "xaxis": {
         "title": {
          "text": "Direct Effect of Component"
         }
        },
        "yaxis": {
         "title": {
          "text": "Change in Logits Upon Ablation"
         }
        }
       }
      },
      "text/html": [
       "<div>                            <div id=\"cc5eae85-d2a0-497f-8dde-4be1bb378a6f\" class=\"plotly-graph-div\" style=\"height:500px; width:500px;\"></div>            <script type=\"text/javascript\">                require([\"plotly\"], function(Plotly) {                    window.PLOTLYENV=window.PLOTLYENV || {};                                    if (document.getElementById(\"cc5eae85-d2a0-497f-8dde-4be1bb378a6f\")) {                    Plotly.newPlot(                        \"cc5eae85-d2a0-497f-8dde-4be1bb378a6f\",                        [{\"marker\":{\"color\":[0.0,0.0,0.0,0.0,0.0,0.0,0.0,0.0,0.0,0.0,0.0,0.0,1.0,1.0,1.0,1.0,1.0,1.0,1.0,1.0,1.0,1.0,1.0,1.0,2.0,2.0,2.0,2.0,2.0,2.0,2.0,2.0,2.0,2.0,2.0,2.0,3.0,3.0,3.0,3.0,3.0,3.0,3.0,3.0,3.0,3.0,3.0,3.0,4.0,4.0,4.0,4.0,4.0,4.0,4.0,4.0,4.0,4.0,4.0,4.0,5.0,5.0,5.0,5.0,5.0,5.0,5.0,5.0,5.0,5.0,5.0,5.0,6.0,6.0,6.0,6.0,6.0,6.0,6.0,6.0,6.0,6.0,6.0,6.0,7.0,7.0,7.0,7.0,7.0,7.0,7.0,7.0,7.0,7.0,7.0,7.0,8.0,8.0,8.0,8.0,8.0,8.0,8.0,8.0,8.0,8.0,8.0,8.0,9.0,9.0,9.0,9.0,9.0,9.0,9.0,9.0,9.0,9.0,9.0,9.0,10.0,10.0,10.0,10.0,10.0,10.0,10.0,10.0,10.0,10.0,10.0,10.0,11.0,11.0,11.0,11.0,11.0,11.0,11.0,11.0,11.0,11.0,11.0,11.0],\"colorbar\":{\"orientation\":\"h\",\"title\":{\"text\":\"Layer\"}},\"colorscale\":[[0.0,\"#440154\"],[0.1111111111111111,\"#482878\"],[0.2222222222222222,\"#3e4989\"],[0.3333333333333333,\"#31688e\"],[0.4444444444444444,\"#26828e\"],[0.5555555555555556,\"#1f9e89\"],[0.6666666666666666,\"#35b779\"],[0.7777777777777778,\"#6ece58\"],[0.8888888888888888,\"#b5de2b\"],[1.0,\"#fde725\"]],\"line\":{\"color\":\"DarkSlateGrey\",\"width\":0.5},\"opacity\":0.8,\"size\":8},\"mode\":\"markers\",\"name\":\"Attention Heads\",\"text\":[\"Layer 0, Head 0\",\"Layer 0, Head 1\",\"Layer 0, Head 2\",\"Layer 0, Head 3\",\"Layer 0, Head 4\",\"Layer 0, Head 5\",\"Layer 0, Head 6\",\"Layer 0, Head 7\",\"Layer 0, Head 8\",\"Layer 0, Head 9\",\"Layer 0, Head 10\",\"Layer 0, Head 11\",\"Layer 1, Head 0\",\"Layer 1, Head 1\",\"Layer 1, Head 2\",\"Layer 1, Head 3\",\"Layer 1, Head 4\",\"Layer 1, Head 5\",\"Layer 1, Head 6\",\"Layer 1, Head 7\",\"Layer 1, Head 8\",\"Layer 1, Head 9\",\"Layer 1, Head 10\",\"Layer 1, Head 11\",\"Layer 2, Head 0\",\"Layer 2, Head 1\",\"Layer 2, Head 2\",\"Layer 2, Head 3\",\"Layer 2, Head 4\",\"Layer 2, Head 5\",\"Layer 2, Head 6\",\"Layer 2, Head 7\",\"Layer 2, Head 8\",\"Layer 2, Head 9\",\"Layer 2, Head 10\",\"Layer 2, Head 11\",\"Layer 3, Head 0\",\"Layer 3, Head 1\",\"Layer 3, Head 2\",\"Layer 3, Head 3\",\"Layer 3, Head 4\",\"Layer 3, Head 5\",\"Layer 3, Head 6\",\"Layer 3, Head 7\",\"Layer 3, Head 8\",\"Layer 3, Head 9\",\"Layer 3, Head 10\",\"Layer 3, Head 11\",\"Layer 4, Head 0\",\"Layer 4, Head 1\",\"Layer 4, Head 2\",\"Layer 4, Head 3\",\"Layer 4, Head 4\",\"Layer 4, Head 5\",\"Layer 4, Head 6\",\"Layer 4, Head 7\",\"Layer 4, Head 8\",\"Layer 4, Head 9\",\"Layer 4, Head 10\",\"Layer 4, Head 11\",\"Layer 5, Head 0\",\"Layer 5, Head 1\",\"Layer 5, Head 2\",\"Layer 5, Head 3\",\"Layer 5, Head 4\",\"Layer 5, Head 5\",\"Layer 5, Head 6\",\"Layer 5, Head 7\",\"Layer 5, Head 8\",\"Layer 5, Head 9\",\"Layer 5, Head 10\",\"Layer 5, Head 11\",\"Layer 6, Head 0\",\"Layer 6, Head 1\",\"Layer 6, Head 2\",\"Layer 6, Head 3\",\"Layer 6, Head 4\",\"Layer 6, Head 5\",\"Layer 6, Head 6\",\"Layer 6, Head 7\",\"Layer 6, Head 8\",\"Layer 6, Head 9\",\"Layer 6, Head 10\",\"Layer 6, Head 11\",\"Layer 7, Head 0\",\"Layer 7, Head 1\",\"Layer 7, Head 2\",\"Layer 7, Head 3\",\"Layer 7, Head 4\",\"Layer 7, Head 5\",\"Layer 7, Head 6\",\"Layer 7, Head 7\",\"Layer 7, Head 8\",\"Layer 7, Head 9\",\"Layer 7, Head 10\",\"Layer 7, Head 11\",\"Layer 8, Head 0\",\"Layer 8, Head 1\",\"Layer 8, Head 2\",\"Layer 8, Head 3\",\"Layer 8, Head 4\",\"Layer 8, Head 5\",\"Layer 8, Head 6\",\"Layer 8, Head 7\",\"Layer 8, Head 8\",\"Layer 8, Head 9\",\"Layer 8, Head 10\",\"Layer 8, Head 11\",\"Layer 9, Head 0\",\"Layer 9, Head 1\",\"Layer 9, Head 2\",\"Layer 9, Head 3\",\"Layer 9, Head 4\",\"Layer 9, Head 5\",\"Layer 9, Head 6\",\"Layer 9, Head 7\",\"Layer 9, Head 8\",\"Layer 9, Head 9\",\"Layer 9, Head 10\",\"Layer 9, Head 11\",\"Layer 10, Head 0\",\"Layer 10, Head 1\",\"Layer 10, Head 2\",\"Layer 10, Head 3\",\"Layer 10, Head 4\",\"Layer 10, Head 5\",\"Layer 10, Head 6\",\"Layer 10, Head 7\",\"Layer 10, Head 8\",\"Layer 10, Head 9\",\"Layer 10, Head 10\",\"Layer 10, Head 11\",\"Layer 11, Head 0\",\"Layer 11, Head 1\",\"Layer 11, Head 2\",\"Layer 11, Head 3\",\"Layer 11, Head 4\",\"Layer 11, Head 5\",\"Layer 11, Head 6\",\"Layer 11, Head 7\",\"Layer 11, Head 8\",\"Layer 11, Head 9\",\"Layer 11, Head 10\",\"Layer 11, Head 11\"],\"x\":[0.042363934218883514,0.08013368397951126,0.025967659428715706,0.13380193710327148,0.09957255423069,0.039116233587265015,0.07962941378355026,0.09311266988515854,0.07450953125953674,0.045571547001600266,0.03102504275739193,0.06877469271421432,-0.008935822173953056,0.009084487333893776,0.0033335238695144653,0.03142852708697319,-0.05024118348956108,0.007478783372789621,0.019089581444859505,0.009226805530488491,0.05838087573647499,0.028054771944880486,0.024338962510228157,0.05282120406627655,0.03675699234008789,0.07135900110006332,0.012074142694473267,0.02255646325647831,0.022234132513403893,0.04953238368034363,0.01614893227815628,0.030203720554709435,0.011555486358702183,-0.05475234240293503,0.027495797723531723,0.008067631162703037,0.02778450958430767,0.03073486126959324,0.02969195507466793,0.028745094314217567,0.055786896497011185,0.026719195768237114,0.035932544618844986,-0.030759986490011215,0.01696738973259926,0.028920387849211693,0.048928067088127136,0.060933079570531845,0.07640682905912399,0.02464253641664982,0.02977559342980385,0.040591079741716385,0.01612946018576622,0.03166407719254494,0.03590603545308113,0.011237026192247868,0.03119264543056488,0.06587297469377518,0.04361359402537346,0.07130860537290573,0.013110707513988018,0.06247160583734512,0.11654772609472275,0.0070505389012396336,0.042174939066171646,0.10703513026237488,0.08219248801469803,0.0035273206885904074,0.03333808854222298,0.028712188825011253,0.008868892677128315,0.025568263605237007,0.20240195095539093,0.04928603023290634,0.06270411610603333,0.03355204313993454,0.10689512640237808,-0.02142876200377941,0.010219186544418335,-0.03417196124792099,0.06411989778280258,0.08830296248197556,0.006179338321089745,0.003077315166592598,0.038740724325180054,0.07352164387702942,0.02717958204448223,-0.10188809782266617,-0.009598511271178722,0.047083497047424316,0.04387567564845085,0.05251726508140564,0.06993125379085541,0.1946997046470642,0.16215313971042633,0.030288944020867348,0.06169169768691063,0.021097062155604362,0.08029714971780777,0.2130233496427536,0.019567204639315605,0.1920442432165146,0.0788990780711174,0.007507914211601019,0.05642477795481682,0.14826640486717224,0.04255091771483421,0.07239776849746704,0.11198557913303375,0.12007880955934525,0.018817046657204628,0.03377346321940422,0.036566298454999924,0.2169341742992401,0.03350982069969177,0.04063033685088158,0.018577368929982185,0.014547866769134998,-0.04669036716222763,0.03349495679140091,0.0560305081307888,0.06405509263277054,0.06959915161132812,0.025957034900784492,0.024911001324653625,0.005858072079718113,0.024862173944711685,-0.006106855813413858,0.056058187037706375,0.010630065575242043,0.0042777820490300655,0.1382749080657959,0.0786779373884201,-0.0007110333535820246,0.033107858151197433,0.04898230731487274,-0.007174548227339983,0.019984805956482887,0.03537207469344139,0.023920392617583275,0.007131108548492193,0.018553661182522774,0.008161259815096855,0.007692839950323105],\"y\":[-0.07751151919364929,-0.05662618204951286,-0.10348629206418991,-0.18565654754638672,-0.03804973140358925,-0.09065665304660797,-0.061207666993141174,-0.0396285243332386,-0.13851405680179596,-0.12775184214115143,-0.07402154058218002,-0.17636623978614807,-0.025557177141308784,-0.05468142777681351,-0.01100768893957138,-0.033869192004203796,-0.017277948558330536,-0.03812320902943611,-0.03908925876021385,-0.0353686697781086,-0.06965108960866928,-0.0579155758023262,-0.025656625628471375,-0.0761551707983017,-0.05797173082828522,-0.1391851305961609,-0.028620464727282524,-0.052653007209300995,-0.03683580830693245,-0.09002888947725296,-0.0543927364051342,-0.09423761069774628,-0.025378743186593056,0.0050070518627762794,-0.04471885412931442,-0.036863867193460464,-0.07142196595668793,-0.0624396875500679,-0.0449054054915905,-0.0567854605615139,-0.07364112138748169,-0.07240211218595505,-0.11992445588111877,0.03515511378645897,-0.03109915740787983,-0.05409231781959534,-0.05181866139173508,-0.07848826050758362,-0.06130519509315491,-0.055955417454242706,-0.06791513413190842,-0.09954278916120529,-0.06573065370321274,-0.0877123549580574,-0.046903107315301895,-0.04294826462864876,-0.042119190096855164,-0.1487053781747818,-0.05436744913458824,-0.03490964695811272,0.061333268880844116,-0.11416063457727432,-0.07406012713909149,-0.030890967696905136,-0.11848468333482742,-0.10966744273900986,-0.02520904690027237,-0.014414981938898563,-0.11207503080368042,-0.03475157544016838,-0.0576474703848362,-0.011319279670715332,-0.2809141278266907,-0.0982743352651596,-0.014749642461538315,-0.047437675297260284,-0.12473205476999283,-0.01245085522532463,0.0020968529861420393,0.081168033182621,-0.047302864491939545,-0.08783869445323944,-0.05566508695483208,-0.023383213207125664,-0.045659709721803665,-0.10936451703310013,-0.006812337785959244,0.04990428313612938,0.00958334282040596,-0.03291426599025726,-0.08973955363035202,-0.07842660695314407,-0.0710006132721901,-0.1658136397600174,-0.027587227523326874,-0.05140858143568039,-0.06692873686552048,-0.007975085638463497,-0.019226767122745514,-0.11095175892114639,-0.016998691484332085,-0.20193026959896088,-0.07748416811227798,-0.022724835202097893,-0.002441821387037635,-0.03607030585408211,-0.015844576060771942,-0.037056341767311096,-0.11877287179231644,-0.04709610342979431,-0.007182606030255556,-0.05477874353528023,-0.006975091062486172,-0.04980714991688728,-0.006235161330550909,-0.01280017476528883,-0.01041979156434536,-0.007104960735887289,-0.004981732927262783,-0.011038505472242832,-0.02068471908569336,-0.023935416713356972,-0.054729118943214417,-0.01298785675317049,-0.005720790009945631,-0.0046482989564538,-0.010773923248052597,-0.0042875767685472965,-0.016585318371653557,-0.01975315809249878,-0.008942433632910252,-0.0862966924905777,-0.05506732687354088,-0.006056868936866522,-0.02774384431540966,-0.035596054047346115,-0.0058899628929793835,-0.16134893894195557,-0.014970253221690655,-0.01718290150165558,-0.007644901052117348,-0.009937314316630363,-0.00633647944778204,-0.014917665161192417],\"type\":\"scatter\"},{\"line\":{\"color\":\"grey\",\"dash\":\"dot\"},\"mode\":\"lines\",\"name\":\"Y=-X\",\"x\":[-0.4,0.2],\"y\":[0.4,-0.2],\"type\":\"scatter\"}],                        {\"template\":{\"data\":{\"histogram2dcontour\":[{\"type\":\"histogram2dcontour\",\"colorbar\":{\"outlinewidth\":0,\"ticks\":\"\"},\"colorscale\":[[0.0,\"#0d0887\"],[0.1111111111111111,\"#46039f\"],[0.2222222222222222,\"#7201a8\"],[0.3333333333333333,\"#9c179e\"],[0.4444444444444444,\"#bd3786\"],[0.5555555555555556,\"#d8576b\"],[0.6666666666666666,\"#ed7953\"],[0.7777777777777778,\"#fb9f3a\"],[0.8888888888888888,\"#fdca26\"],[1.0,\"#f0f921\"]]}],\"choropleth\":[{\"type\":\"choropleth\",\"colorbar\":{\"outlinewidth\":0,\"ticks\":\"\"}}],\"histogram2d\":[{\"type\":\"histogram2d\",\"colorbar\":{\"outlinewidth\":0,\"ticks\":\"\"},\"colorscale\":[[0.0,\"#0d0887\"],[0.1111111111111111,\"#46039f\"],[0.2222222222222222,\"#7201a8\"],[0.3333333333333333,\"#9c179e\"],[0.4444444444444444,\"#bd3786\"],[0.5555555555555556,\"#d8576b\"],[0.6666666666666666,\"#ed7953\"],[0.7777777777777778,\"#fb9f3a\"],[0.8888888888888888,\"#fdca26\"],[1.0,\"#f0f921\"]]}],\"heatmap\":[{\"type\":\"heatmap\",\"colorbar\":{\"outlinewidth\":0,\"ticks\":\"\"},\"colorscale\":[[0.0,\"#0d0887\"],[0.1111111111111111,\"#46039f\"],[0.2222222222222222,\"#7201a8\"],[0.3333333333333333,\"#9c179e\"],[0.4444444444444444,\"#bd3786\"],[0.5555555555555556,\"#d8576b\"],[0.6666666666666666,\"#ed7953\"],[0.7777777777777778,\"#fb9f3a\"],[0.8888888888888888,\"#fdca26\"],[1.0,\"#f0f921\"]]}],\"heatmapgl\":[{\"type\":\"heatmapgl\",\"colorbar\":{\"outlinewidth\":0,\"ticks\":\"\"},\"colorscale\":[[0.0,\"#0d0887\"],[0.1111111111111111,\"#46039f\"],[0.2222222222222222,\"#7201a8\"],[0.3333333333333333,\"#9c179e\"],[0.4444444444444444,\"#bd3786\"],[0.5555555555555556,\"#d8576b\"],[0.6666666666666666,\"#ed7953\"],[0.7777777777777778,\"#fb9f3a\"],[0.8888888888888888,\"#fdca26\"],[1.0,\"#f0f921\"]]}],\"contourcarpet\":[{\"type\":\"contourcarpet\",\"colorbar\":{\"outlinewidth\":0,\"ticks\":\"\"}}],\"contour\":[{\"type\":\"contour\",\"colorbar\":{\"outlinewidth\":0,\"ticks\":\"\"},\"colorscale\":[[0.0,\"#0d0887\"],[0.1111111111111111,\"#46039f\"],[0.2222222222222222,\"#7201a8\"],[0.3333333333333333,\"#9c179e\"],[0.4444444444444444,\"#bd3786\"],[0.5555555555555556,\"#d8576b\"],[0.6666666666666666,\"#ed7953\"],[0.7777777777777778,\"#fb9f3a\"],[0.8888888888888888,\"#fdca26\"],[1.0,\"#f0f921\"]]}],\"surface\":[{\"type\":\"surface\",\"colorbar\":{\"outlinewidth\":0,\"ticks\":\"\"},\"colorscale\":[[0.0,\"#0d0887\"],[0.1111111111111111,\"#46039f\"],[0.2222222222222222,\"#7201a8\"],[0.3333333333333333,\"#9c179e\"],[0.4444444444444444,\"#bd3786\"],[0.5555555555555556,\"#d8576b\"],[0.6666666666666666,\"#ed7953\"],[0.7777777777777778,\"#fb9f3a\"],[0.8888888888888888,\"#fdca26\"],[1.0,\"#f0f921\"]]}],\"mesh3d\":[{\"type\":\"mesh3d\",\"colorbar\":{\"outlinewidth\":0,\"ticks\":\"\"}}],\"scatter\":[{\"fillpattern\":{\"fillmode\":\"overlay\",\"size\":10,\"solidity\":0.2},\"type\":\"scatter\"}],\"parcoords\":[{\"type\":\"parcoords\",\"line\":{\"colorbar\":{\"outlinewidth\":0,\"ticks\":\"\"}}}],\"scatterpolargl\":[{\"type\":\"scatterpolargl\",\"marker\":{\"colorbar\":{\"outlinewidth\":0,\"ticks\":\"\"}}}],\"bar\":[{\"error_x\":{\"color\":\"#2a3f5f\"},\"error_y\":{\"color\":\"#2a3f5f\"},\"marker\":{\"line\":{\"color\":\"#E5ECF6\",\"width\":0.5},\"pattern\":{\"fillmode\":\"overlay\",\"size\":10,\"solidity\":0.2}},\"type\":\"bar\"}],\"scattergeo\":[{\"type\":\"scattergeo\",\"marker\":{\"colorbar\":{\"outlinewidth\":0,\"ticks\":\"\"}}}],\"scatterpolar\":[{\"type\":\"scatterpolar\",\"marker\":{\"colorbar\":{\"outlinewidth\":0,\"ticks\":\"\"}}}],\"histogram\":[{\"marker\":{\"pattern\":{\"fillmode\":\"overlay\",\"size\":10,\"solidity\":0.2}},\"type\":\"histogram\"}],\"scattergl\":[{\"type\":\"scattergl\",\"marker\":{\"colorbar\":{\"outlinewidth\":0,\"ticks\":\"\"}}}],\"scatter3d\":[{\"type\":\"scatter3d\",\"line\":{\"colorbar\":{\"outlinewidth\":0,\"ticks\":\"\"}},\"marker\":{\"colorbar\":{\"outlinewidth\":0,\"ticks\":\"\"}}}],\"scattermapbox\":[{\"type\":\"scattermapbox\",\"marker\":{\"colorbar\":{\"outlinewidth\":0,\"ticks\":\"\"}}}],\"scatterternary\":[{\"type\":\"scatterternary\",\"marker\":{\"colorbar\":{\"outlinewidth\":0,\"ticks\":\"\"}}}],\"scattercarpet\":[{\"type\":\"scattercarpet\",\"marker\":{\"colorbar\":{\"outlinewidth\":0,\"ticks\":\"\"}}}],\"carpet\":[{\"aaxis\":{\"endlinecolor\":\"#2a3f5f\",\"gridcolor\":\"white\",\"linecolor\":\"white\",\"minorgridcolor\":\"white\",\"startlinecolor\":\"#2a3f5f\"},\"baxis\":{\"endlinecolor\":\"#2a3f5f\",\"gridcolor\":\"white\",\"linecolor\":\"white\",\"minorgridcolor\":\"white\",\"startlinecolor\":\"#2a3f5f\"},\"type\":\"carpet\"}],\"table\":[{\"cells\":{\"fill\":{\"color\":\"#EBF0F8\"},\"line\":{\"color\":\"white\"}},\"header\":{\"fill\":{\"color\":\"#C8D4E3\"},\"line\":{\"color\":\"white\"}},\"type\":\"table\"}],\"barpolar\":[{\"marker\":{\"line\":{\"color\":\"#E5ECF6\",\"width\":0.5},\"pattern\":{\"fillmode\":\"overlay\",\"size\":10,\"solidity\":0.2}},\"type\":\"barpolar\"}],\"pie\":[{\"automargin\":true,\"type\":\"pie\"}]},\"layout\":{\"autotypenumbers\":\"strict\",\"colorway\":[\"#636efa\",\"#EF553B\",\"#00cc96\",\"#ab63fa\",\"#FFA15A\",\"#19d3f3\",\"#FF6692\",\"#B6E880\",\"#FF97FF\",\"#FECB52\"],\"font\":{\"color\":\"#2a3f5f\"},\"hovermode\":\"closest\",\"hoverlabel\":{\"align\":\"left\"},\"paper_bgcolor\":\"white\",\"plot_bgcolor\":\"#E5ECF6\",\"polar\":{\"bgcolor\":\"#E5ECF6\",\"angularaxis\":{\"gridcolor\":\"white\",\"linecolor\":\"white\",\"ticks\":\"\"},\"radialaxis\":{\"gridcolor\":\"white\",\"linecolor\":\"white\",\"ticks\":\"\"}},\"ternary\":{\"bgcolor\":\"#E5ECF6\",\"aaxis\":{\"gridcolor\":\"white\",\"linecolor\":\"white\",\"ticks\":\"\"},\"baxis\":{\"gridcolor\":\"white\",\"linecolor\":\"white\",\"ticks\":\"\"},\"caxis\":{\"gridcolor\":\"white\",\"linecolor\":\"white\",\"ticks\":\"\"}},\"coloraxis\":{\"colorbar\":{\"outlinewidth\":0,\"ticks\":\"\"}},\"colorscale\":{\"sequential\":[[0.0,\"#0d0887\"],[0.1111111111111111,\"#46039f\"],[0.2222222222222222,\"#7201a8\"],[0.3333333333333333,\"#9c179e\"],[0.4444444444444444,\"#bd3786\"],[0.5555555555555556,\"#d8576b\"],[0.6666666666666666,\"#ed7953\"],[0.7777777777777778,\"#fb9f3a\"],[0.8888888888888888,\"#fdca26\"],[1.0,\"#f0f921\"]],\"sequentialminus\":[[0.0,\"#0d0887\"],[0.1111111111111111,\"#46039f\"],[0.2222222222222222,\"#7201a8\"],[0.3333333333333333,\"#9c179e\"],[0.4444444444444444,\"#bd3786\"],[0.5555555555555556,\"#d8576b\"],[0.6666666666666666,\"#ed7953\"],[0.7777777777777778,\"#fb9f3a\"],[0.8888888888888888,\"#fdca26\"],[1.0,\"#f0f921\"]],\"diverging\":[[0,\"#8e0152\"],[0.1,\"#c51b7d\"],[0.2,\"#de77ae\"],[0.3,\"#f1b6da\"],[0.4,\"#fde0ef\"],[0.5,\"#f7f7f7\"],[0.6,\"#e6f5d0\"],[0.7,\"#b8e186\"],[0.8,\"#7fbc41\"],[0.9,\"#4d9221\"],[1,\"#276419\"]]},\"xaxis\":{\"gridcolor\":\"white\",\"linecolor\":\"white\",\"ticks\":\"\",\"title\":{\"standoff\":15},\"zerolinecolor\":\"white\",\"automargin\":true,\"zerolinewidth\":2},\"yaxis\":{\"gridcolor\":\"white\",\"linecolor\":\"white\",\"ticks\":\"\",\"title\":{\"standoff\":15},\"zerolinecolor\":\"white\",\"automargin\":true,\"zerolinewidth\":2},\"scene\":{\"xaxis\":{\"backgroundcolor\":\"#E5ECF6\",\"gridcolor\":\"white\",\"linecolor\":\"white\",\"showbackground\":true,\"ticks\":\"\",\"zerolinecolor\":\"white\",\"gridwidth\":2},\"yaxis\":{\"backgroundcolor\":\"#E5ECF6\",\"gridcolor\":\"white\",\"linecolor\":\"white\",\"showbackground\":true,\"ticks\":\"\",\"zerolinecolor\":\"white\",\"gridwidth\":2},\"zaxis\":{\"backgroundcolor\":\"#E5ECF6\",\"gridcolor\":\"white\",\"linecolor\":\"white\",\"showbackground\":true,\"ticks\":\"\",\"zerolinecolor\":\"white\",\"gridwidth\":2}},\"shapedefaults\":{\"line\":{\"color\":\"#2a3f5f\"}},\"annotationdefaults\":{\"arrowcolor\":\"#2a3f5f\",\"arrowhead\":0,\"arrowwidth\":1},\"geo\":{\"bgcolor\":\"white\",\"landcolor\":\"#E5ECF6\",\"subunitcolor\":\"white\",\"showland\":true,\"showlakes\":true,\"lakecolor\":\"white\"},\"title\":{\"x\":0.05},\"mapbox\":{\"style\":\"light\"}}},\"title\":{\"text\":\"Self-Repair in pythia-160m-alldropout at Checkpoint 143000\",\"x\":0.5},\"xaxis\":{\"title\":{\"text\":\"Direct Effect of Component\"}},\"yaxis\":{\"title\":{\"text\":\"Change in Logits Upon Ablation\"}},\"legend\":{\"title\":{\"text\":\"Component\"}},\"showlegend\":false,\"width\":500,\"height\":500},                        {\"responsive\": true}                    ).then(function(){\n",
       "                            \n",
       "var gd = document.getElementById('cc5eae85-d2a0-497f-8dde-4be1bb378a6f');\n",
       "var x = new MutationObserver(function (mutations, observer) {{\n",
       "        var display = window.getComputedStyle(gd).display;\n",
       "        if (!display || display === 'none') {{\n",
       "            console.log([gd, 'removed!']);\n",
       "            Plotly.purge(gd);\n",
       "            observer.disconnect();\n",
       "        }}\n",
       "}});\n",
       "\n",
       "// Listen for the removal of the full notebook cells\n",
       "var notebookContainer = gd.closest('#notebook-container');\n",
       "if (notebookContainer) {{\n",
       "    x.observe(notebookContainer, {childList: true});\n",
       "}}\n",
       "\n",
       "// Listen for the clearing of the current output cell\n",
       "var outputEl = gd.closest('.output');\n",
       "if (outputEl) {{\n",
       "    x.observe(outputEl, {childList: true});\n",
       "}}\n",
       "\n",
       "                        })                };                });            </script>        </div>"
      ]
     },
     "metadata": {},
     "output_type": "display_data"
    }
   ],
   "source": [
    "from typing import Union\n",
    "from jaxtyping import Float\n",
    "import numpy as np\n",
    "import itertools\n",
    "\n",
    "def create_layered_scatter(\n",
    "    heads_x: Float[Tensor, \"layer head\"],\n",
    "    heads_y: Float[Tensor, \"layer head\"], \n",
    "    x_title: str, \n",
    "    y_title: str, \n",
    "    plot_title: str,\n",
    "    mlp_x: Union[Float[Tensor, \"layer\"], None] = None,\n",
    "    mlp_y: Union[Float[Tensor, \"layer\"], None] = None,\n",
    "    x_range: Union[list, None] = None,  # New parameter for x-range\n",
    "    y_range: Union[list, None] = None   # New parameter for y-range\n",
    "):\n",
    "    \"\"\"\n",
    "    This function now also accepts x_data and y_data for MLP layers and manual x- and y-ranges. \n",
    "    It plots properties of transformer heads and MLP layers with layered coloring and annotations.\n",
    "    Additionally, it plots a dotted line where the negative value of the y-axis equals the positive value of the x-axis.\n",
    "    \"\"\"\n",
    "    num_layers = 12\n",
    "    num_heads = 12\n",
    "    layer_colors = np.linspace(0, num_layers, num_layers, endpoint=False)\n",
    "    \n",
    "    # Annotations and colors for transformer heads\n",
    "    head_annotations = [f\"Layer {layer}, Head {head}\" for layer, head in itertools.product(range(num_layers), range(num_heads))]\n",
    "    head_marker_colors = [layer_colors[layer] for layer in range(num_layers) for _ in range(num_heads)]\n",
    "\n",
    "    # Prepare MLP data if provided\n",
    "    mlp_annotations = []\n",
    "    mlp_marker_colors = []\n",
    "    if mlp_x is not None and mlp_y is not None:\n",
    "        mlp_annotations = [f\"MLP Layer {layer}\" for layer in range(num_layers)]\n",
    "        mlp_marker_colors = [layer_colors[layer] for layer in range(num_layers)]\n",
    "\n",
    "    # Flatten data\n",
    "    heads_x = heads_x.flatten().cpu().numpy() if heads_x.ndim > 1 else heads_x.cpu().numpy()\n",
    "    heads_y = heads_y.flatten().cpu().numpy() if heads_y.ndim > 1 else heads_y.cpu().numpy()\n",
    "    if mlp_x is not None and mlp_y is not None:\n",
    "        mlp_x = mlp_x.flatten().cpu().numpy() if mlp_x.ndim > 1 else mlp_x.cpu().numpy()\n",
    "        mlp_y = mlp_y.flatten().cpu().numpy() if mlp_y.ndim > 1 else mlp_y.cpu().numpy()\n",
    "\n",
    "    # Create scatter plots\n",
    "    scatter_heads = go.Scatter(\n",
    "        x=heads_x,\n",
    "        y=heads_y,\n",
    "        text=head_annotations,\n",
    "        mode='markers',\n",
    "        marker=dict(\n",
    "            size=8,\n",
    "            opacity=0.8,\n",
    "            color=head_marker_colors,\n",
    "            colorscale='Viridis',\n",
    "            colorbar=dict(\n",
    "                title='Layer',\n",
    "                #tickvals=[0, num_layers - 1],\n",
    "                #ticktext=[0, 1,2,1,1,1,1,1,1,1,1,1,1,11,1,1,3,4,5,5,num_layers - 1],\n",
    "                orientation=\"h\"\n",
    "            ),\n",
    "            line=dict(width=0.5, color='DarkSlateGrey')\n",
    "        ),\n",
    "        name=\"Attention Heads\"\n",
    "    )\n",
    "\n",
    "    scatter_mlp = go.Scatter(\n",
    "        x=mlp_x,\n",
    "        y=mlp_y,\n",
    "        text=mlp_annotations,\n",
    "        mode='markers',\n",
    "        name='MLP Layers',\n",
    "        marker=dict(\n",
    "            size=10,\n",
    "            opacity=0.6,\n",
    "            color=mlp_marker_colors,\n",
    "            colorscale='Viridis',\n",
    "            symbol='diamond',\n",
    "            line=dict(width=1, color='Black')\n",
    "        )\n",
    "    ) if mlp_x is not None and mlp_y is not None else None\n",
    "\n",
    "    # Create the figure and add the traces\n",
    "    fig = go.Figure()\n",
    "    fig.add_trace(scatter_heads)\n",
    "    if scatter_mlp:\n",
    "        fig.add_trace(scatter_mlp)\n",
    "\n",
    "    # Add a dotted line where the negative y-value equals the positive x-value\n",
    "    if x_range and y_range:\n",
    "        # Ensuring the line covers the entire visible range by finding the min and max\n",
    "        line_range = [min(x_range[0], y_range[0]), max(x_range[1], y_range[1])]\n",
    "        fig.add_trace(go.Scatter(x=line_range, y=[-x for x in line_range], mode='lines', line=dict(color='grey', dash='dot'), name='Y=-X'))\n",
    "\n",
    "    # Update the layout with the manual x- and y-range\n",
    "    fig.update_layout(\n",
    "        title=f\"{plot_title}\",\n",
    "        title_x=0.5,\n",
    "        xaxis_title=x_title,\n",
    "        yaxis_title=y_title,\n",
    "        legend_title=\"Component\",\n",
    "        # do not show legend\n",
    "        showlegend=False,\n",
    "        width=500,\n",
    "        height=500,\n",
    "        #xaxis_range=x_range,\n",
    "        #yaxis_range=y_range\n",
    "    )\n",
    "\n",
    "    return fig\n",
    "fig = create_layered_scatter(\n",
    "    data[CHECKPOINT]['thresholded_de'][0], \n",
    "    data[CHECKPOINT]['thresholded_cil'][0], \n",
    "    \"Direct Effect of Component\", \n",
    "    \"Change in Logits Upon Ablation\", \n",
    "    f\"Self-Repair in {MODEL_TO_VIEW} at Checkpoint {CHECKPOINT}\",\n",
    "    x_range=[-0.1, 0.2],\n",
    "    y_range=[-0.4, 0.1]    \n",
    ")\n",
    "fig.show()"
   ]
  },
  {
   "cell_type": "code",
   "execution_count": 45,
   "metadata": {},
   "outputs": [
    {
     "data": {
      "application/vnd.plotly.v1+json": {
       "config": {
        "plotlyServerURL": "https://plot.ly"
       },
       "data": [
        {
         "coloraxis": "coloraxis",
         "hovertemplate": "Head: %{x}<br>Layer: %{y}<br>Self-Repair Score: %{z}<extra></extra>",
         "name": "0",
         "type": "heatmap",
         "xaxis": "x",
         "yaxis": "y",
         "z": [
          [
           -0.8296582102775574,
           0.2933535575866699,
           -2.985199213027954,
           -0.3875475227832794,
           0.6178692579269409,
           -1.317622184753418,
           0.23134349286556244,
           0.5744024515151978,
           -0.8590112328529358,
           -1.803324580192566,
           -1.3858641386032104,
           -1.5644060373306274
          ],
          [
           3.860081195831299,
           -5.019209384918213,
           -2.3021178245544434,
           -0.07765763252973557,
           1.3439000844955444,
           -4.097515106201172,
           -1.0476750135421753,
           -2.833251714706421,
           -0.19304633140563965,
           -1.0643751621246338,
           -0.05413801595568657,
           -0.4417537748813629
          ],
          [
           -0.577161967754364,
           -0.9504915475845337,
           -1.37039315700531,
           -1.3342758417129517,
           -0.6567234396934509,
           -0.8175763487815857,
           -2.3681938648223877,
           -2.1200661659240723,
           -1.196250557899475,
           0.9085509181022644,
           -0.626388669013977,
           -3.569354772567749
          ],
          [
           -1.5705677270889282,
           -1.0315592288970947,
           -0.5123761892318726,
           -0.9754835367202759,
           -0.3200433552265167,
           -1.7097413539886475,
           -2.3374886512756348,
           -0.14288456737995148,
           -0.8328781127929688,
           -0.8703870177268982,
           -0.05907844752073288,
           -0.28810590505599976
          ],
          [
           0.19764770567417145,
           -1.2706842422485352,
           -1.2808994054794312,
           -1.4523316621780396,
           -3.075192451477051,
           -1.7700903415679932,
           -0.3062736392021179,
           -2.822031259536743,
           -0.3502923250198364,
           -1.2574565410614014,
           -0.24657116830348969,
           0.5104427337646484
          ],
          [
           5.678104877471924,
           -0.8274003267288208,
           0.3645510673522949,
           -3.3813626766204834,
           -1.8093621730804443,
           -0.02459297701716423,
           0.6932925581932068,
           -3.0866661071777344,
           -2.36177134513855,
           -0.21034225821495056,
           -5.49996280670166,
           0.5572918057441711
          ],
          [
           -0.38790225982666016,
           -0.9939592480659485,
           0.764773964881897,
           -0.41385355591773987,
           -0.166863813996315,
           1.5810346603393555,
           1.2051879167556763,
           -1.3752816915512085,
           0.2622748017311096,
           0.005257672164589167,
           -8.008260726928711,
           -6.598576068878174
          ],
          [
           -0.17859721183776855,
           -0.48751458525657654,
           0.7493582367897034,
           0.5102049708366394,
           0.0015802920097485185,
           0.30093836784362793,
           -1.0453144311904907,
           -0.4933490455150604,
           -0.015291581861674786,
           0.1483621448278427,
           0.8298693299293518,
           -0.6972721815109253
          ],
          [
           -0.08489049971103668,
           0.6219812035560608,
           0.7605547904968262,
           0.47915682196617126,
           0.13126622140407562,
           -0.05147785693407059,
           0.017933161929249763,
           -2.0267839431762695,
           0.9567243456840515,
           0.7567196488380432,
           0.6276325583457947,
           0.4881562888622284
          ],
          [
           -0.0606086328625679,
           0.6077900528907776,
           0.6182926297187805,
           -0.6219462752342224,
           0.8092480897903442,
           0.7704043388366699,
           0.813930332660675,
           0.684960126876831,
           0.43911370635032654,
           0.5116149187088013,
           1.1066972017288208,
           0.6704427599906921
          ],
          [
           0.6308311223983765,
           0.6263307929039001,
           0.21365249156951904,
           0.49964019656181335,
           0.7703508138656616,
           0.20651386678218842,
           0.5666540265083313,
           1.7020924091339111,
           0.7041410207748413,
           -0.8582348227500916,
           -1.0904369354248047,
           0.3759048879146576
          ],
          [
           0.3000918924808502,
           9.518404006958008,
           0.16201633214950562,
           0.27328750491142273,
           1.8209524154663086,
           -7.073580265045166,
           0.5767775774002075,
           0.28166306018829346,
           -0.07204946130514145,
           0.4644014239311218,
           0.22359052300453186,
           -0.9391623139381409
          ]
         ]
        }
       ],
       "layout": {
        "coloraxis": {
         "cmax": 1,
         "cmid": 0,
         "cmin": -1,
         "colorbar": {
          "ticksuffix": "%",
          "title": {
           "text": "Self-Repair Score"
          }
         },
         "colorscale": [
          [
           0,
           "rgb(103,0,31)"
          ],
          [
           0.1,
           "rgb(178,24,43)"
          ],
          [
           0.2,
           "rgb(214,96,77)"
          ],
          [
           0.3,
           "rgb(244,165,130)"
          ],
          [
           0.4,
           "rgb(253,219,199)"
          ],
          [
           0.5,
           "rgb(247,247,247)"
          ],
          [
           0.6,
           "rgb(209,229,240)"
          ],
          [
           0.7,
           "rgb(146,197,222)"
          ],
          [
           0.8,
           "rgb(67,147,195)"
          ],
          [
           0.9,
           "rgb(33,102,172)"
          ],
          [
           1,
           "rgb(5,48,97)"
          ]
         ]
        },
        "margin": {
         "l": 100,
         "r": 100
        },
        "template": {
         "data": {
          "bar": [
           {
            "error_x": {
             "color": "#2a3f5f"
            },
            "error_y": {
             "color": "#2a3f5f"
            },
            "marker": {
             "line": {
              "color": "#E5ECF6",
              "width": 0.5
             },
             "pattern": {
              "fillmode": "overlay",
              "size": 10,
              "solidity": 0.2
             }
            },
            "type": "bar"
           }
          ],
          "barpolar": [
           {
            "marker": {
             "line": {
              "color": "#E5ECF6",
              "width": 0.5
             },
             "pattern": {
              "fillmode": "overlay",
              "size": 10,
              "solidity": 0.2
             }
            },
            "type": "barpolar"
           }
          ],
          "carpet": [
           {
            "aaxis": {
             "endlinecolor": "#2a3f5f",
             "gridcolor": "white",
             "linecolor": "white",
             "minorgridcolor": "white",
             "startlinecolor": "#2a3f5f"
            },
            "baxis": {
             "endlinecolor": "#2a3f5f",
             "gridcolor": "white",
             "linecolor": "white",
             "minorgridcolor": "white",
             "startlinecolor": "#2a3f5f"
            },
            "type": "carpet"
           }
          ],
          "choropleth": [
           {
            "colorbar": {
             "outlinewidth": 0,
             "ticks": ""
            },
            "type": "choropleth"
           }
          ],
          "contour": [
           {
            "colorbar": {
             "outlinewidth": 0,
             "ticks": ""
            },
            "colorscale": [
             [
              0,
              "#0d0887"
             ],
             [
              0.1111111111111111,
              "#46039f"
             ],
             [
              0.2222222222222222,
              "#7201a8"
             ],
             [
              0.3333333333333333,
              "#9c179e"
             ],
             [
              0.4444444444444444,
              "#bd3786"
             ],
             [
              0.5555555555555556,
              "#d8576b"
             ],
             [
              0.6666666666666666,
              "#ed7953"
             ],
             [
              0.7777777777777778,
              "#fb9f3a"
             ],
             [
              0.8888888888888888,
              "#fdca26"
             ],
             [
              1,
              "#f0f921"
             ]
            ],
            "type": "contour"
           }
          ],
          "contourcarpet": [
           {
            "colorbar": {
             "outlinewidth": 0,
             "ticks": ""
            },
            "type": "contourcarpet"
           }
          ],
          "heatmap": [
           {
            "colorbar": {
             "outlinewidth": 0,
             "ticks": ""
            },
            "colorscale": [
             [
              0,
              "#0d0887"
             ],
             [
              0.1111111111111111,
              "#46039f"
             ],
             [
              0.2222222222222222,
              "#7201a8"
             ],
             [
              0.3333333333333333,
              "#9c179e"
             ],
             [
              0.4444444444444444,
              "#bd3786"
             ],
             [
              0.5555555555555556,
              "#d8576b"
             ],
             [
              0.6666666666666666,
              "#ed7953"
             ],
             [
              0.7777777777777778,
              "#fb9f3a"
             ],
             [
              0.8888888888888888,
              "#fdca26"
             ],
             [
              1,
              "#f0f921"
             ]
            ],
            "type": "heatmap"
           }
          ],
          "heatmapgl": [
           {
            "colorbar": {
             "outlinewidth": 0,
             "ticks": ""
            },
            "colorscale": [
             [
              0,
              "#0d0887"
             ],
             [
              0.1111111111111111,
              "#46039f"
             ],
             [
              0.2222222222222222,
              "#7201a8"
             ],
             [
              0.3333333333333333,
              "#9c179e"
             ],
             [
              0.4444444444444444,
              "#bd3786"
             ],
             [
              0.5555555555555556,
              "#d8576b"
             ],
             [
              0.6666666666666666,
              "#ed7953"
             ],
             [
              0.7777777777777778,
              "#fb9f3a"
             ],
             [
              0.8888888888888888,
              "#fdca26"
             ],
             [
              1,
              "#f0f921"
             ]
            ],
            "type": "heatmapgl"
           }
          ],
          "histogram": [
           {
            "marker": {
             "pattern": {
              "fillmode": "overlay",
              "size": 10,
              "solidity": 0.2
             }
            },
            "type": "histogram"
           }
          ],
          "histogram2d": [
           {
            "colorbar": {
             "outlinewidth": 0,
             "ticks": ""
            },
            "colorscale": [
             [
              0,
              "#0d0887"
             ],
             [
              0.1111111111111111,
              "#46039f"
             ],
             [
              0.2222222222222222,
              "#7201a8"
             ],
             [
              0.3333333333333333,
              "#9c179e"
             ],
             [
              0.4444444444444444,
              "#bd3786"
             ],
             [
              0.5555555555555556,
              "#d8576b"
             ],
             [
              0.6666666666666666,
              "#ed7953"
             ],
             [
              0.7777777777777778,
              "#fb9f3a"
             ],
             [
              0.8888888888888888,
              "#fdca26"
             ],
             [
              1,
              "#f0f921"
             ]
            ],
            "type": "histogram2d"
           }
          ],
          "histogram2dcontour": [
           {
            "colorbar": {
             "outlinewidth": 0,
             "ticks": ""
            },
            "colorscale": [
             [
              0,
              "#0d0887"
             ],
             [
              0.1111111111111111,
              "#46039f"
             ],
             [
              0.2222222222222222,
              "#7201a8"
             ],
             [
              0.3333333333333333,
              "#9c179e"
             ],
             [
              0.4444444444444444,
              "#bd3786"
             ],
             [
              0.5555555555555556,
              "#d8576b"
             ],
             [
              0.6666666666666666,
              "#ed7953"
             ],
             [
              0.7777777777777778,
              "#fb9f3a"
             ],
             [
              0.8888888888888888,
              "#fdca26"
             ],
             [
              1,
              "#f0f921"
             ]
            ],
            "type": "histogram2dcontour"
           }
          ],
          "mesh3d": [
           {
            "colorbar": {
             "outlinewidth": 0,
             "ticks": ""
            },
            "type": "mesh3d"
           }
          ],
          "parcoords": [
           {
            "line": {
             "colorbar": {
              "outlinewidth": 0,
              "ticks": ""
             }
            },
            "type": "parcoords"
           }
          ],
          "pie": [
           {
            "automargin": true,
            "type": "pie"
           }
          ],
          "scatter": [
           {
            "fillpattern": {
             "fillmode": "overlay",
             "size": 10,
             "solidity": 0.2
            },
            "type": "scatter"
           }
          ],
          "scatter3d": [
           {
            "line": {
             "colorbar": {
              "outlinewidth": 0,
              "ticks": ""
             }
            },
            "marker": {
             "colorbar": {
              "outlinewidth": 0,
              "ticks": ""
             }
            },
            "type": "scatter3d"
           }
          ],
          "scattercarpet": [
           {
            "marker": {
             "colorbar": {
              "outlinewidth": 0,
              "ticks": ""
             }
            },
            "type": "scattercarpet"
           }
          ],
          "scattergeo": [
           {
            "marker": {
             "colorbar": {
              "outlinewidth": 0,
              "ticks": ""
             }
            },
            "type": "scattergeo"
           }
          ],
          "scattergl": [
           {
            "marker": {
             "colorbar": {
              "outlinewidth": 0,
              "ticks": ""
             }
            },
            "type": "scattergl"
           }
          ],
          "scattermapbox": [
           {
            "marker": {
             "colorbar": {
              "outlinewidth": 0,
              "ticks": ""
             }
            },
            "type": "scattermapbox"
           }
          ],
          "scatterpolar": [
           {
            "marker": {
             "colorbar": {
              "outlinewidth": 0,
              "ticks": ""
             }
            },
            "type": "scatterpolar"
           }
          ],
          "scatterpolargl": [
           {
            "marker": {
             "colorbar": {
              "outlinewidth": 0,
              "ticks": ""
             }
            },
            "type": "scatterpolargl"
           }
          ],
          "scatterternary": [
           {
            "marker": {
             "colorbar": {
              "outlinewidth": 0,
              "ticks": ""
             }
            },
            "type": "scatterternary"
           }
          ],
          "surface": [
           {
            "colorbar": {
             "outlinewidth": 0,
             "ticks": ""
            },
            "colorscale": [
             [
              0,
              "#0d0887"
             ],
             [
              0.1111111111111111,
              "#46039f"
             ],
             [
              0.2222222222222222,
              "#7201a8"
             ],
             [
              0.3333333333333333,
              "#9c179e"
             ],
             [
              0.4444444444444444,
              "#bd3786"
             ],
             [
              0.5555555555555556,
              "#d8576b"
             ],
             [
              0.6666666666666666,
              "#ed7953"
             ],
             [
              0.7777777777777778,
              "#fb9f3a"
             ],
             [
              0.8888888888888888,
              "#fdca26"
             ],
             [
              1,
              "#f0f921"
             ]
            ],
            "type": "surface"
           }
          ],
          "table": [
           {
            "cells": {
             "fill": {
              "color": "#EBF0F8"
             },
             "line": {
              "color": "white"
             }
            },
            "header": {
             "fill": {
              "color": "#C8D4E3"
             },
             "line": {
              "color": "white"
             }
            },
            "type": "table"
           }
          ]
         },
         "layout": {
          "annotationdefaults": {
           "arrowcolor": "#2a3f5f",
           "arrowhead": 0,
           "arrowwidth": 1
          },
          "autotypenumbers": "strict",
          "coloraxis": {
           "colorbar": {
            "outlinewidth": 0,
            "ticks": ""
           }
          },
          "colorscale": {
           "diverging": [
            [
             0,
             "#8e0152"
            ],
            [
             0.1,
             "#c51b7d"
            ],
            [
             0.2,
             "#de77ae"
            ],
            [
             0.3,
             "#f1b6da"
            ],
            [
             0.4,
             "#fde0ef"
            ],
            [
             0.5,
             "#f7f7f7"
            ],
            [
             0.6,
             "#e6f5d0"
            ],
            [
             0.7,
             "#b8e186"
            ],
            [
             0.8,
             "#7fbc41"
            ],
            [
             0.9,
             "#4d9221"
            ],
            [
             1,
             "#276419"
            ]
           ],
           "sequential": [
            [
             0,
             "#0d0887"
            ],
            [
             0.1111111111111111,
             "#46039f"
            ],
            [
             0.2222222222222222,
             "#7201a8"
            ],
            [
             0.3333333333333333,
             "#9c179e"
            ],
            [
             0.4444444444444444,
             "#bd3786"
            ],
            [
             0.5555555555555556,
             "#d8576b"
            ],
            [
             0.6666666666666666,
             "#ed7953"
            ],
            [
             0.7777777777777778,
             "#fb9f3a"
            ],
            [
             0.8888888888888888,
             "#fdca26"
            ],
            [
             1,
             "#f0f921"
            ]
           ],
           "sequentialminus": [
            [
             0,
             "#0d0887"
            ],
            [
             0.1111111111111111,
             "#46039f"
            ],
            [
             0.2222222222222222,
             "#7201a8"
            ],
            [
             0.3333333333333333,
             "#9c179e"
            ],
            [
             0.4444444444444444,
             "#bd3786"
            ],
            [
             0.5555555555555556,
             "#d8576b"
            ],
            [
             0.6666666666666666,
             "#ed7953"
            ],
            [
             0.7777777777777778,
             "#fb9f3a"
            ],
            [
             0.8888888888888888,
             "#fdca26"
            ],
            [
             1,
             "#f0f921"
            ]
           ]
          },
          "colorway": [
           "#636efa",
           "#EF553B",
           "#00cc96",
           "#ab63fa",
           "#FFA15A",
           "#19d3f3",
           "#FF6692",
           "#B6E880",
           "#FF97FF",
           "#FECB52"
          ],
          "font": {
           "color": "#2a3f5f"
          },
          "geo": {
           "bgcolor": "white",
           "lakecolor": "white",
           "landcolor": "#E5ECF6",
           "showlakes": true,
           "showland": true,
           "subunitcolor": "white"
          },
          "hoverlabel": {
           "align": "left"
          },
          "hovermode": "closest",
          "mapbox": {
           "style": "light"
          },
          "paper_bgcolor": "white",
          "plot_bgcolor": "#E5ECF6",
          "polar": {
           "angularaxis": {
            "gridcolor": "white",
            "linecolor": "white",
            "ticks": ""
           },
           "bgcolor": "#E5ECF6",
           "radialaxis": {
            "gridcolor": "white",
            "linecolor": "white",
            "ticks": ""
           }
          },
          "scene": {
           "xaxis": {
            "backgroundcolor": "#E5ECF6",
            "gridcolor": "white",
            "gridwidth": 2,
            "linecolor": "white",
            "showbackground": true,
            "ticks": "",
            "zerolinecolor": "white"
           },
           "yaxis": {
            "backgroundcolor": "#E5ECF6",
            "gridcolor": "white",
            "gridwidth": 2,
            "linecolor": "white",
            "showbackground": true,
            "ticks": "",
            "zerolinecolor": "white"
           },
           "zaxis": {
            "backgroundcolor": "#E5ECF6",
            "gridcolor": "white",
            "gridwidth": 2,
            "linecolor": "white",
            "showbackground": true,
            "ticks": "",
            "zerolinecolor": "white"
           }
          },
          "shapedefaults": {
           "line": {
            "color": "#2a3f5f"
           }
          },
          "ternary": {
           "aaxis": {
            "gridcolor": "white",
            "linecolor": "white",
            "ticks": ""
           },
           "baxis": {
            "gridcolor": "white",
            "linecolor": "white",
            "ticks": ""
           },
           "bgcolor": "#E5ECF6",
           "caxis": {
            "gridcolor": "white",
            "linecolor": "white",
            "ticks": ""
           }
          },
          "title": {
           "x": 0.05
          },
          "xaxis": {
           "automargin": true,
           "gridcolor": "white",
           "linecolor": "white",
           "ticks": "",
           "title": {
            "standoff": 15
           },
           "zerolinecolor": "white",
           "zerolinewidth": 2
          },
          "yaxis": {
           "automargin": true,
           "gridcolor": "white",
           "linecolor": "white",
           "ticks": "",
           "title": {
            "standoff": 15
           },
           "zerolinecolor": "white",
           "zerolinewidth": 2
          }
         }
        },
        "title": {
         "text": "Self-Repair Score"
        },
        "width": 600,
        "xaxis": {
         "anchor": "y",
         "constrain": "domain",
         "domain": [
          0,
          1
         ],
         "linecolor": "black",
         "linewidth": 1,
         "mirror": true,
         "scaleanchor": "y",
         "showline": true,
         "title": {
          "text": "Head"
         }
        },
        "yaxis": {
         "anchor": "x",
         "autorange": "reversed",
         "constrain": "domain",
         "domain": [
          0,
          1
         ],
         "linecolor": "black",
         "linewidth": 1,
         "mirror": true,
         "showline": true,
         "title": {
          "text": "Layer"
         }
        }
       }
      },
      "text/html": [
       "<div>                            <div id=\"2992e924-8086-4f3f-9894-2be0adb98f64\" class=\"plotly-graph-div\" style=\"height:525px; width:600px;\"></div>            <script type=\"text/javascript\">                require([\"plotly\"], function(Plotly) {                    window.PLOTLYENV=window.PLOTLYENV || {};                                    if (document.getElementById(\"2992e924-8086-4f3f-9894-2be0adb98f64\")) {                    Plotly.newPlot(                        \"2992e924-8086-4f3f-9894-2be0adb98f64\",                        [{\"coloraxis\":\"coloraxis\",\"name\":\"0\",\"z\":[[-0.8296582102775574,0.2933535575866699,-2.985199213027954,-0.3875475227832794,0.6178692579269409,-1.317622184753418,0.23134349286556244,0.5744024515151978,-0.8590112328529358,-1.803324580192566,-1.3858641386032104,-1.5644060373306274],[3.860081195831299,-5.019209384918213,-2.3021178245544434,-0.07765763252973557,1.3439000844955444,-4.097515106201172,-1.0476750135421753,-2.833251714706421,-0.19304633140563965,-1.0643751621246338,-0.05413801595568657,-0.4417537748813629],[-0.577161967754364,-0.9504915475845337,-1.37039315700531,-1.3342758417129517,-0.6567234396934509,-0.8175763487815857,-2.3681938648223877,-2.1200661659240723,-1.196250557899475,0.9085509181022644,-0.626388669013977,-3.569354772567749],[-1.5705677270889282,-1.0315592288970947,-0.5123761892318726,-0.9754835367202759,-0.3200433552265167,-1.7097413539886475,-2.3374886512756348,-0.14288456737995148,-0.8328781127929688,-0.8703870177268982,-0.05907844752073288,-0.28810590505599976],[0.19764770567417145,-1.2706842422485352,-1.2808994054794312,-1.4523316621780396,-3.075192451477051,-1.7700903415679932,-0.3062736392021179,-2.822031259536743,-0.3502923250198364,-1.2574565410614014,-0.24657116830348969,0.5104427337646484],[5.678104877471924,-0.8274003267288208,0.3645510673522949,-3.3813626766204834,-1.8093621730804443,-0.02459297701716423,0.6932925581932068,-3.0866661071777344,-2.36177134513855,-0.21034225821495056,-5.49996280670166,0.5572918057441711],[-0.38790225982666016,-0.9939592480659485,0.764773964881897,-0.41385355591773987,-0.166863813996315,1.5810346603393555,1.2051879167556763,-1.3752816915512085,0.2622748017311096,0.005257672164589167,-8.008260726928711,-6.598576068878174],[-0.17859721183776855,-0.48751458525657654,0.7493582367897034,0.5102049708366394,0.0015802920097485185,0.30093836784362793,-1.0453144311904907,-0.4933490455150604,-0.015291581861674786,0.1483621448278427,0.8298693299293518,-0.6972721815109253],[-0.08489049971103668,0.6219812035560608,0.7605547904968262,0.47915682196617126,0.13126622140407562,-0.05147785693407059,0.017933161929249763,-2.0267839431762695,0.9567243456840515,0.7567196488380432,0.6276325583457947,0.4881562888622284],[-0.0606086328625679,0.6077900528907776,0.6182926297187805,-0.6219462752342224,0.8092480897903442,0.7704043388366699,0.813930332660675,0.684960126876831,0.43911370635032654,0.5116149187088013,1.1066972017288208,0.6704427599906921],[0.6308311223983765,0.6263307929039001,0.21365249156951904,0.49964019656181335,0.7703508138656616,0.20651386678218842,0.5666540265083313,1.7020924091339111,0.7041410207748413,-0.8582348227500916,-1.0904369354248047,0.3759048879146576],[0.3000918924808502,9.518404006958008,0.16201633214950562,0.27328750491142273,1.8209524154663086,-7.073580265045166,0.5767775774002075,0.28166306018829346,-0.07204946130514145,0.4644014239311218,0.22359052300453186,-0.9391623139381409]],\"type\":\"heatmap\",\"xaxis\":\"x\",\"yaxis\":\"y\",\"hovertemplate\":\"Head: %{x}\\u003cbr\\u003eLayer: %{y}\\u003cbr\\u003eSelf-Repair Score: %{z}\\u003cextra\\u003e\\u003c\\u002fextra\\u003e\"}],                        {\"template\":{\"data\":{\"histogram2dcontour\":[{\"type\":\"histogram2dcontour\",\"colorbar\":{\"outlinewidth\":0,\"ticks\":\"\"},\"colorscale\":[[0.0,\"#0d0887\"],[0.1111111111111111,\"#46039f\"],[0.2222222222222222,\"#7201a8\"],[0.3333333333333333,\"#9c179e\"],[0.4444444444444444,\"#bd3786\"],[0.5555555555555556,\"#d8576b\"],[0.6666666666666666,\"#ed7953\"],[0.7777777777777778,\"#fb9f3a\"],[0.8888888888888888,\"#fdca26\"],[1.0,\"#f0f921\"]]}],\"choropleth\":[{\"type\":\"choropleth\",\"colorbar\":{\"outlinewidth\":0,\"ticks\":\"\"}}],\"histogram2d\":[{\"type\":\"histogram2d\",\"colorbar\":{\"outlinewidth\":0,\"ticks\":\"\"},\"colorscale\":[[0.0,\"#0d0887\"],[0.1111111111111111,\"#46039f\"],[0.2222222222222222,\"#7201a8\"],[0.3333333333333333,\"#9c179e\"],[0.4444444444444444,\"#bd3786\"],[0.5555555555555556,\"#d8576b\"],[0.6666666666666666,\"#ed7953\"],[0.7777777777777778,\"#fb9f3a\"],[0.8888888888888888,\"#fdca26\"],[1.0,\"#f0f921\"]]}],\"heatmap\":[{\"type\":\"heatmap\",\"colorbar\":{\"outlinewidth\":0,\"ticks\":\"\"},\"colorscale\":[[0.0,\"#0d0887\"],[0.1111111111111111,\"#46039f\"],[0.2222222222222222,\"#7201a8\"],[0.3333333333333333,\"#9c179e\"],[0.4444444444444444,\"#bd3786\"],[0.5555555555555556,\"#d8576b\"],[0.6666666666666666,\"#ed7953\"],[0.7777777777777778,\"#fb9f3a\"],[0.8888888888888888,\"#fdca26\"],[1.0,\"#f0f921\"]]}],\"heatmapgl\":[{\"type\":\"heatmapgl\",\"colorbar\":{\"outlinewidth\":0,\"ticks\":\"\"},\"colorscale\":[[0.0,\"#0d0887\"],[0.1111111111111111,\"#46039f\"],[0.2222222222222222,\"#7201a8\"],[0.3333333333333333,\"#9c179e\"],[0.4444444444444444,\"#bd3786\"],[0.5555555555555556,\"#d8576b\"],[0.6666666666666666,\"#ed7953\"],[0.7777777777777778,\"#fb9f3a\"],[0.8888888888888888,\"#fdca26\"],[1.0,\"#f0f921\"]]}],\"contourcarpet\":[{\"type\":\"contourcarpet\",\"colorbar\":{\"outlinewidth\":0,\"ticks\":\"\"}}],\"contour\":[{\"type\":\"contour\",\"colorbar\":{\"outlinewidth\":0,\"ticks\":\"\"},\"colorscale\":[[0.0,\"#0d0887\"],[0.1111111111111111,\"#46039f\"],[0.2222222222222222,\"#7201a8\"],[0.3333333333333333,\"#9c179e\"],[0.4444444444444444,\"#bd3786\"],[0.5555555555555556,\"#d8576b\"],[0.6666666666666666,\"#ed7953\"],[0.7777777777777778,\"#fb9f3a\"],[0.8888888888888888,\"#fdca26\"],[1.0,\"#f0f921\"]]}],\"surface\":[{\"type\":\"surface\",\"colorbar\":{\"outlinewidth\":0,\"ticks\":\"\"},\"colorscale\":[[0.0,\"#0d0887\"],[0.1111111111111111,\"#46039f\"],[0.2222222222222222,\"#7201a8\"],[0.3333333333333333,\"#9c179e\"],[0.4444444444444444,\"#bd3786\"],[0.5555555555555556,\"#d8576b\"],[0.6666666666666666,\"#ed7953\"],[0.7777777777777778,\"#fb9f3a\"],[0.8888888888888888,\"#fdca26\"],[1.0,\"#f0f921\"]]}],\"mesh3d\":[{\"type\":\"mesh3d\",\"colorbar\":{\"outlinewidth\":0,\"ticks\":\"\"}}],\"scatter\":[{\"fillpattern\":{\"fillmode\":\"overlay\",\"size\":10,\"solidity\":0.2},\"type\":\"scatter\"}],\"parcoords\":[{\"type\":\"parcoords\",\"line\":{\"colorbar\":{\"outlinewidth\":0,\"ticks\":\"\"}}}],\"scatterpolargl\":[{\"type\":\"scatterpolargl\",\"marker\":{\"colorbar\":{\"outlinewidth\":0,\"ticks\":\"\"}}}],\"bar\":[{\"error_x\":{\"color\":\"#2a3f5f\"},\"error_y\":{\"color\":\"#2a3f5f\"},\"marker\":{\"line\":{\"color\":\"#E5ECF6\",\"width\":0.5},\"pattern\":{\"fillmode\":\"overlay\",\"size\":10,\"solidity\":0.2}},\"type\":\"bar\"}],\"scattergeo\":[{\"type\":\"scattergeo\",\"marker\":{\"colorbar\":{\"outlinewidth\":0,\"ticks\":\"\"}}}],\"scatterpolar\":[{\"type\":\"scatterpolar\",\"marker\":{\"colorbar\":{\"outlinewidth\":0,\"ticks\":\"\"}}}],\"histogram\":[{\"marker\":{\"pattern\":{\"fillmode\":\"overlay\",\"size\":10,\"solidity\":0.2}},\"type\":\"histogram\"}],\"scattergl\":[{\"type\":\"scattergl\",\"marker\":{\"colorbar\":{\"outlinewidth\":0,\"ticks\":\"\"}}}],\"scatter3d\":[{\"type\":\"scatter3d\",\"line\":{\"colorbar\":{\"outlinewidth\":0,\"ticks\":\"\"}},\"marker\":{\"colorbar\":{\"outlinewidth\":0,\"ticks\":\"\"}}}],\"scattermapbox\":[{\"type\":\"scattermapbox\",\"marker\":{\"colorbar\":{\"outlinewidth\":0,\"ticks\":\"\"}}}],\"scatterternary\":[{\"type\":\"scatterternary\",\"marker\":{\"colorbar\":{\"outlinewidth\":0,\"ticks\":\"\"}}}],\"scattercarpet\":[{\"type\":\"scattercarpet\",\"marker\":{\"colorbar\":{\"outlinewidth\":0,\"ticks\":\"\"}}}],\"carpet\":[{\"aaxis\":{\"endlinecolor\":\"#2a3f5f\",\"gridcolor\":\"white\",\"linecolor\":\"white\",\"minorgridcolor\":\"white\",\"startlinecolor\":\"#2a3f5f\"},\"baxis\":{\"endlinecolor\":\"#2a3f5f\",\"gridcolor\":\"white\",\"linecolor\":\"white\",\"minorgridcolor\":\"white\",\"startlinecolor\":\"#2a3f5f\"},\"type\":\"carpet\"}],\"table\":[{\"cells\":{\"fill\":{\"color\":\"#EBF0F8\"},\"line\":{\"color\":\"white\"}},\"header\":{\"fill\":{\"color\":\"#C8D4E3\"},\"line\":{\"color\":\"white\"}},\"type\":\"table\"}],\"barpolar\":[{\"marker\":{\"line\":{\"color\":\"#E5ECF6\",\"width\":0.5},\"pattern\":{\"fillmode\":\"overlay\",\"size\":10,\"solidity\":0.2}},\"type\":\"barpolar\"}],\"pie\":[{\"automargin\":true,\"type\":\"pie\"}]},\"layout\":{\"autotypenumbers\":\"strict\",\"colorway\":[\"#636efa\",\"#EF553B\",\"#00cc96\",\"#ab63fa\",\"#FFA15A\",\"#19d3f3\",\"#FF6692\",\"#B6E880\",\"#FF97FF\",\"#FECB52\"],\"font\":{\"color\":\"#2a3f5f\"},\"hovermode\":\"closest\",\"hoverlabel\":{\"align\":\"left\"},\"paper_bgcolor\":\"white\",\"plot_bgcolor\":\"#E5ECF6\",\"polar\":{\"bgcolor\":\"#E5ECF6\",\"angularaxis\":{\"gridcolor\":\"white\",\"linecolor\":\"white\",\"ticks\":\"\"},\"radialaxis\":{\"gridcolor\":\"white\",\"linecolor\":\"white\",\"ticks\":\"\"}},\"ternary\":{\"bgcolor\":\"#E5ECF6\",\"aaxis\":{\"gridcolor\":\"white\",\"linecolor\":\"white\",\"ticks\":\"\"},\"baxis\":{\"gridcolor\":\"white\",\"linecolor\":\"white\",\"ticks\":\"\"},\"caxis\":{\"gridcolor\":\"white\",\"linecolor\":\"white\",\"ticks\":\"\"}},\"coloraxis\":{\"colorbar\":{\"outlinewidth\":0,\"ticks\":\"\"}},\"colorscale\":{\"sequential\":[[0.0,\"#0d0887\"],[0.1111111111111111,\"#46039f\"],[0.2222222222222222,\"#7201a8\"],[0.3333333333333333,\"#9c179e\"],[0.4444444444444444,\"#bd3786\"],[0.5555555555555556,\"#d8576b\"],[0.6666666666666666,\"#ed7953\"],[0.7777777777777778,\"#fb9f3a\"],[0.8888888888888888,\"#fdca26\"],[1.0,\"#f0f921\"]],\"sequentialminus\":[[0.0,\"#0d0887\"],[0.1111111111111111,\"#46039f\"],[0.2222222222222222,\"#7201a8\"],[0.3333333333333333,\"#9c179e\"],[0.4444444444444444,\"#bd3786\"],[0.5555555555555556,\"#d8576b\"],[0.6666666666666666,\"#ed7953\"],[0.7777777777777778,\"#fb9f3a\"],[0.8888888888888888,\"#fdca26\"],[1.0,\"#f0f921\"]],\"diverging\":[[0,\"#8e0152\"],[0.1,\"#c51b7d\"],[0.2,\"#de77ae\"],[0.3,\"#f1b6da\"],[0.4,\"#fde0ef\"],[0.5,\"#f7f7f7\"],[0.6,\"#e6f5d0\"],[0.7,\"#b8e186\"],[0.8,\"#7fbc41\"],[0.9,\"#4d9221\"],[1,\"#276419\"]]},\"xaxis\":{\"gridcolor\":\"white\",\"linecolor\":\"white\",\"ticks\":\"\",\"title\":{\"standoff\":15},\"zerolinecolor\":\"white\",\"automargin\":true,\"zerolinewidth\":2},\"yaxis\":{\"gridcolor\":\"white\",\"linecolor\":\"white\",\"ticks\":\"\",\"title\":{\"standoff\":15},\"zerolinecolor\":\"white\",\"automargin\":true,\"zerolinewidth\":2},\"scene\":{\"xaxis\":{\"backgroundcolor\":\"#E5ECF6\",\"gridcolor\":\"white\",\"linecolor\":\"white\",\"showbackground\":true,\"ticks\":\"\",\"zerolinecolor\":\"white\",\"gridwidth\":2},\"yaxis\":{\"backgroundcolor\":\"#E5ECF6\",\"gridcolor\":\"white\",\"linecolor\":\"white\",\"showbackground\":true,\"ticks\":\"\",\"zerolinecolor\":\"white\",\"gridwidth\":2},\"zaxis\":{\"backgroundcolor\":\"#E5ECF6\",\"gridcolor\":\"white\",\"linecolor\":\"white\",\"showbackground\":true,\"ticks\":\"\",\"zerolinecolor\":\"white\",\"gridwidth\":2}},\"shapedefaults\":{\"line\":{\"color\":\"#2a3f5f\"}},\"annotationdefaults\":{\"arrowcolor\":\"#2a3f5f\",\"arrowhead\":0,\"arrowwidth\":1},\"geo\":{\"bgcolor\":\"white\",\"landcolor\":\"#E5ECF6\",\"subunitcolor\":\"white\",\"showland\":true,\"showlakes\":true,\"lakecolor\":\"white\"},\"title\":{\"x\":0.05},\"mapbox\":{\"style\":\"light\"}}},\"xaxis\":{\"anchor\":\"y\",\"domain\":[0.0,1.0],\"scaleanchor\":\"y\",\"constrain\":\"domain\",\"title\":{\"text\":\"Head\"},\"showline\":true,\"linewidth\":1,\"linecolor\":\"black\",\"mirror\":true},\"yaxis\":{\"anchor\":\"x\",\"domain\":[0.0,1.0],\"autorange\":\"reversed\",\"constrain\":\"domain\",\"title\":{\"text\":\"Layer\"},\"showline\":true,\"linewidth\":1,\"linecolor\":\"black\",\"mirror\":true},\"coloraxis\":{\"colorbar\":{\"title\":{\"text\":\"Self-Repair Score\"},\"ticksuffix\":\"%\"},\"colorscale\":[[0.0,\"rgb(103,0,31)\"],[0.1,\"rgb(178,24,43)\"],[0.2,\"rgb(214,96,77)\"],[0.3,\"rgb(244,165,130)\"],[0.4,\"rgb(253,219,199)\"],[0.5,\"rgb(247,247,247)\"],[0.6,\"rgb(209,229,240)\"],[0.7,\"rgb(146,197,222)\"],[0.8,\"rgb(67,147,195)\"],[0.9,\"rgb(33,102,172)\"],[1.0,\"rgb(5,48,97)\"]],\"cmid\":0.0,\"cmin\":-1,\"cmax\":1},\"title\":{\"text\":\"Self-Repair Score\"},\"width\":600,\"margin\":{\"r\":100,\"l\":100}},                        {\"responsive\": true}                    ).then(function(){\n",
       "                            \n",
       "var gd = document.getElementById('2992e924-8086-4f3f-9894-2be0adb98f64');\n",
       "var x = new MutationObserver(function (mutations, observer) {{\n",
       "        var display = window.getComputedStyle(gd).display;\n",
       "        if (!display || display === 'none') {{\n",
       "            console.log([gd, 'removed!']);\n",
       "            Plotly.purge(gd);\n",
       "            observer.disconnect();\n",
       "        }}\n",
       "}});\n",
       "\n",
       "// Listen for the removal of the full notebook cells\n",
       "var notebookContainer = gd.closest('#notebook-container');\n",
       "if (notebookContainer) {{\n",
       "    x.observe(notebookContainer, {childList: true});\n",
       "}}\n",
       "\n",
       "// Listen for the clearing of the current output cell\n",
       "var outputEl = gd.closest('.output');\n",
       "if (outputEl) {{\n",
       "    x.observe(outputEl, {childList: true});\n",
       "}}\n",
       "\n",
       "                        })                };                });            </script>        </div>"
      ]
     },
     "metadata": {},
     "output_type": "display_data"
    }
   ],
   "source": [
    "imshow_p(\n",
    "    repair_score,\n",
    "    title=\"Self-Repair Score\",\n",
    "    labels={\"x\": \"Head\", \"y\": \"Layer\", \"color\": \"Self-Repair Score\"},\n",
    "    coloraxis=dict(colorbar_ticksuffix = \"%\", cmin=-1, cmax=1),\n",
    "    border=True,\n",
    "    width=600,\n",
    "    margin={\"r\": 100, \"l\": 100}\n",
    ")"
   ]
  },
  {
   "cell_type": "code",
   "execution_count": 46,
   "metadata": {},
   "outputs": [
    {
     "ename": "KeyError",
     "evalue": "'self_repair_score'",
     "output_type": "error",
     "traceback": [
      "\u001b[0;31m---------------------------------------------------------------------------\u001b[0m",
      "\u001b[0;31mKeyError\u001b[0m                                  Traceback (most recent call last)",
      "Cell \u001b[0;32mIn[46], line 3\u001b[0m\n\u001b[1;32m      1\u001b[0m layer \u001b[39m=\u001b[39m \u001b[39m4\u001b[39m\n\u001b[1;32m      2\u001b[0m \u001b[39mfor\u001b[39;00m head \u001b[39min\u001b[39;00m \u001b[39mrange\u001b[39m(\u001b[39m12\u001b[39m):\n\u001b[0;32m----> 3\u001b[0m     \u001b[39mprint\u001b[39m((data[\u001b[39m143000\u001b[39m][\u001b[39m'\u001b[39m\u001b[39mthresholded_de\u001b[39m\u001b[39m'\u001b[39m][\u001b[39m0\u001b[39m][layer, head], data[\u001b[39m143000\u001b[39m][\u001b[39m'\u001b[39m\u001b[39mthresholded_cil\u001b[39m\u001b[39m'\u001b[39m][\u001b[39m0\u001b[39m][layer, head], data[\u001b[39m143000\u001b[39;49m][\u001b[39m'\u001b[39;49m\u001b[39mself_repair_score\u001b[39;49m\u001b[39m'\u001b[39;49m][\u001b[39m0\u001b[39m][layer, head]))\n",
      "\u001b[0;31mKeyError\u001b[0m: 'self_repair_score'"
     ]
    }
   ],
   "source": [
    "layer = 4\n",
    "for head in range(12):\n",
    "    print((data[143000]['thresholded_de'][0][layer, head], data[143000]['thresholded_cil'][0][layer, head], data[143000]['self_repair_score'][0][layer, head]))"
   ]
  },
  {
   "attachments": {},
   "cell_type": "markdown",
   "metadata": {},
   "source": [
    "### All Checkpoints"
   ]
  },
  {
   "cell_type": "code",
   "execution_count": null,
   "metadata": {},
   "outputs": [],
   "source": []
  },
  {
   "cell_type": "code",
   "execution_count": 58,
   "metadata": {},
   "outputs": [
    {
     "data": {
      "application/vnd.plotly.v1+json": {
       "config": {
        "plotlyServerURL": "https://plot.ly"
       },
       "data": [
        {
         "marker": {
          "color": [
           0,
           0,
           0,
           0,
           0,
           0,
           0,
           0,
           0,
           0,
           0,
           0,
           1,
           1,
           1,
           1,
           1,
           1,
           1,
           1,
           1,
           1,
           1,
           1,
           2,
           2,
           2,
           2,
           2,
           2,
           2,
           2,
           2,
           2,
           2,
           2,
           3,
           3,
           3,
           3,
           3,
           3,
           3,
           3,
           3,
           3,
           3,
           3,
           4,
           4,
           4,
           4,
           4,
           4,
           4,
           4,
           4,
           4,
           4,
           4,
           5,
           5,
           5,
           5,
           5,
           5,
           5,
           5,
           5,
           5,
           5,
           5,
           6,
           6,
           6,
           6,
           6,
           6,
           6,
           6,
           6,
           6,
           6,
           6,
           7,
           7,
           7,
           7,
           7,
           7,
           7,
           7,
           7,
           7,
           7,
           7,
           8,
           8,
           8,
           8,
           8,
           8,
           8,
           8,
           8,
           8,
           8,
           8,
           9,
           9,
           9,
           9,
           9,
           9,
           9,
           9,
           9,
           9,
           9,
           9,
           10,
           10,
           10,
           10,
           10,
           10,
           10,
           10,
           10,
           10,
           10,
           10,
           11,
           11,
           11,
           11,
           11,
           11,
           11,
           11,
           11,
           11,
           11,
           11
          ],
          "colorbar": {
           "orientation": "h",
           "title": {
            "text": "Layer"
           }
          },
          "colorscale": [
           [
            0,
            "#440154"
           ],
           [
            0.1111111111111111,
            "#482878"
           ],
           [
            0.2222222222222222,
            "#3e4989"
           ],
           [
            0.3333333333333333,
            "#31688e"
           ],
           [
            0.4444444444444444,
            "#26828e"
           ],
           [
            0.5555555555555556,
            "#1f9e89"
           ],
           [
            0.6666666666666666,
            "#35b779"
           ],
           [
            0.7777777777777778,
            "#6ece58"
           ],
           [
            0.8888888888888888,
            "#b5de2b"
           ],
           [
            1,
            "#fde725"
           ]
          ],
          "line": {
           "color": "DarkSlateGrey",
           "width": 0.5
          },
          "opacity": 0.8,
          "size": 8
         },
         "mode": "markers",
         "name": "Attention Heads",
         "text": [
          "Layer 0, Head 0",
          "Layer 0, Head 1",
          "Layer 0, Head 2",
          "Layer 0, Head 3",
          "Layer 0, Head 4",
          "Layer 0, Head 5",
          "Layer 0, Head 6",
          "Layer 0, Head 7",
          "Layer 0, Head 8",
          "Layer 0, Head 9",
          "Layer 0, Head 10",
          "Layer 0, Head 11",
          "Layer 1, Head 0",
          "Layer 1, Head 1",
          "Layer 1, Head 2",
          "Layer 1, Head 3",
          "Layer 1, Head 4",
          "Layer 1, Head 5",
          "Layer 1, Head 6",
          "Layer 1, Head 7",
          "Layer 1, Head 8",
          "Layer 1, Head 9",
          "Layer 1, Head 10",
          "Layer 1, Head 11",
          "Layer 2, Head 0",
          "Layer 2, Head 1",
          "Layer 2, Head 2",
          "Layer 2, Head 3",
          "Layer 2, Head 4",
          "Layer 2, Head 5",
          "Layer 2, Head 6",
          "Layer 2, Head 7",
          "Layer 2, Head 8",
          "Layer 2, Head 9",
          "Layer 2, Head 10",
          "Layer 2, Head 11",
          "Layer 3, Head 0",
          "Layer 3, Head 1",
          "Layer 3, Head 2",
          "Layer 3, Head 3",
          "Layer 3, Head 4",
          "Layer 3, Head 5",
          "Layer 3, Head 6",
          "Layer 3, Head 7",
          "Layer 3, Head 8",
          "Layer 3, Head 9",
          "Layer 3, Head 10",
          "Layer 3, Head 11",
          "Layer 4, Head 0",
          "Layer 4, Head 1",
          "Layer 4, Head 2",
          "Layer 4, Head 3",
          "Layer 4, Head 4",
          "Layer 4, Head 5",
          "Layer 4, Head 6",
          "Layer 4, Head 7",
          "Layer 4, Head 8",
          "Layer 4, Head 9",
          "Layer 4, Head 10",
          "Layer 4, Head 11",
          "Layer 5, Head 0",
          "Layer 5, Head 1",
          "Layer 5, Head 2",
          "Layer 5, Head 3",
          "Layer 5, Head 4",
          "Layer 5, Head 5",
          "Layer 5, Head 6",
          "Layer 5, Head 7",
          "Layer 5, Head 8",
          "Layer 5, Head 9",
          "Layer 5, Head 10",
          "Layer 5, Head 11",
          "Layer 6, Head 0",
          "Layer 6, Head 1",
          "Layer 6, Head 2",
          "Layer 6, Head 3",
          "Layer 6, Head 4",
          "Layer 6, Head 5",
          "Layer 6, Head 6",
          "Layer 6, Head 7",
          "Layer 6, Head 8",
          "Layer 6, Head 9",
          "Layer 6, Head 10",
          "Layer 6, Head 11",
          "Layer 7, Head 0",
          "Layer 7, Head 1",
          "Layer 7, Head 2",
          "Layer 7, Head 3",
          "Layer 7, Head 4",
          "Layer 7, Head 5",
          "Layer 7, Head 6",
          "Layer 7, Head 7",
          "Layer 7, Head 8",
          "Layer 7, Head 9",
          "Layer 7, Head 10",
          "Layer 7, Head 11",
          "Layer 8, Head 0",
          "Layer 8, Head 1",
          "Layer 8, Head 2",
          "Layer 8, Head 3",
          "Layer 8, Head 4",
          "Layer 8, Head 5",
          "Layer 8, Head 6",
          "Layer 8, Head 7",
          "Layer 8, Head 8",
          "Layer 8, Head 9",
          "Layer 8, Head 10",
          "Layer 8, Head 11",
          "Layer 9, Head 0",
          "Layer 9, Head 1",
          "Layer 9, Head 2",
          "Layer 9, Head 3",
          "Layer 9, Head 4",
          "Layer 9, Head 5",
          "Layer 9, Head 6",
          "Layer 9, Head 7",
          "Layer 9, Head 8",
          "Layer 9, Head 9",
          "Layer 9, Head 10",
          "Layer 9, Head 11",
          "Layer 10, Head 0",
          "Layer 10, Head 1",
          "Layer 10, Head 2",
          "Layer 10, Head 3",
          "Layer 10, Head 4",
          "Layer 10, Head 5",
          "Layer 10, Head 6",
          "Layer 10, Head 7",
          "Layer 10, Head 8",
          "Layer 10, Head 9",
          "Layer 10, Head 10",
          "Layer 10, Head 11",
          "Layer 11, Head 0",
          "Layer 11, Head 1",
          "Layer 11, Head 2",
          "Layer 11, Head 3",
          "Layer 11, Head 4",
          "Layer 11, Head 5",
          "Layer 11, Head 6",
          "Layer 11, Head 7",
          "Layer 11, Head 8",
          "Layer 11, Head 9",
          "Layer 11, Head 10",
          "Layer 11, Head 11"
         ],
         "type": "scatter",
         "x": [
          0.009456979110836983,
          0.007901237346231937,
          0.0076032658107578754,
          0.007171069737523794,
          0.008098172955214977,
          0.0071631078608334064,
          0.005923224613070488,
          0.00885635707527399,
          0.005318446084856987,
          0.007226511370390654,
          0.008363953791558743,
          0.007296795025467873,
          0.010991769842803478,
          0.012697805650532246,
          0.011179018765687943,
          0.009549840353429317,
          0.012802839279174805,
          0.020929526537656784,
          0.017461303621530533,
          0.02434750832617283,
          0.06148483231663704,
          0.017721185460686684,
          0.017366185784339905,
          0.017994893714785576,
          0.01698222942650318,
          0.025846542790532112,
          0.020871710032224655,
          0.020451581105589867,
          0.012272573076188564,
          0.020983800292015076,
          0.041238244622945786,
          0.019522221758961678,
          0.028428656980395317,
          0.019136657938361168,
          0.024893712252378464,
          0.0328475646674633,
          0.06657018512487411,
          0.03365480154752731,
          0.042077869176864624,
          0.006918090395629406,
          0.04379122704267502,
          0.01816539280116558,
          0.0370933935046196,
          0.007435015868395567,
          0.014617390930652618,
          0.04199986159801483,
          0.07332612574100494,
          0.03949752449989319,
          0.031061526387929916,
          0.0296392310410738,
          0.019404225051403046,
          0.022367525845766068,
          0.026111872866749763,
          0.019200017675757408,
          0.03140546381473541,
          0.030812880024313927,
          0.02686753310263157,
          0.03498200699687004,
          0.026721833273768425,
          0.02850242145359516,
          0.014872478321194649,
          0.010881178081035614,
          0.02416374534368515,
          0.01836492121219635,
          0.01757902093231678,
          0.022442825138568878,
          0.03874383494257927,
          0.016777148470282555,
          0.022777561098337173,
          0.045395754277706146,
          0.02540438435971737,
          0.015105457045137882,
          0.02668800577521324,
          0.03155547007918358,
          0.01896960660815239,
          0.005109013058245182,
          0.025868944823741913,
          0.004650535061955452,
          0.0410112701356411,
          -0.0020191676449030638,
          0.020403025671839714,
          0.0077043999917805195,
          0.005979922134429216,
          0.0070665148086845875,
          0.03156532347202301,
          0.034875839948654175,
          0.013580412603914738,
          0.009333683177828789,
          0.001998632214963436,
          0.01748938299715519,
          0.04020785912871361,
          0.013862404972314835,
          0.006049531977623701,
          0.017468689009547234,
          0.01576748676598072,
          0.018244612962007523,
          0.03376254811882973,
          0.03430640324950218,
          0.029970142990350723,
          0.03245260939002037,
          0.02514277584850788,
          0.0377337709069252,
          0.04608338698744774,
          0.012300747446715832,
          0.021929025650024414,
          0.026322292163968086,
          -0.002665349980816245,
          0.008465323597192764,
          0.03127983585000038,
          0.04188091680407524,
          0.00491102272644639,
          0.038208819925785065,
          0.030932268127799034,
          0.026576945558190346,
          0.020880576223134995,
          0.03314151242375374,
          0.0396474152803421,
          0.006306901574134827,
          0.025631902739405632,
          0.004294459242373705,
          0.004077760502696037,
          0.023743974044919014,
          0.022153260186314583,
          0.00033277086913585663,
          0.004670875146985054,
          -0.012221895158290863,
          0.029928602278232574,
          0.019086403772234917,
          0.029032865539193153,
          0.020321127027273178,
          0.004705044906586409,
          0.03139159083366394,
          0.037349432706832886,
          -0.019016359001398087,
          0.04098669812083244,
          0.037713367491960526,
          0.005810548085719347,
          -0.01758146658539772,
          0.004634171724319458,
          0.05145104601979256,
          0.022444475442171097,
          -0.004369908943772316,
          0.034060459583997726,
          0.06784137338399887
         ],
         "xaxis": "x",
         "y": [
          -0.008364482782781124,
          -0.00851451139897108,
          -0.006078540347516537,
          -0.008631766773760319,
          -0.004339019302278757,
          -0.0067902361042797565,
          -0.01415278296917677,
          -0.008564690127968788,
          -0.004013639409095049,
          -0.0038204374723136425,
          -0.005379954818636179,
          -0.00423509581014514,
          -0.001719326595775783,
          -0.0038366438820958138,
          -0.0019866209477186203,
          -0.002874776255339384,
          -0.00037281366530805826,
          -0.00129402126185596,
          -0.0012304058764129877,
          0.0001640401897020638,
          0.000638431403785944,
          -0.00035458995262160897,
          -0.0024150062818080187,
          -0.0025282741989940405,
          -0.0015397893730551004,
          -0.0021426656749099493,
          0.00016791025700513273,
          -0.0036635587457567453,
          -0.004580559208989143,
          -0.013057850301265717,
          -0.01635880582034588,
          0.00013538850180339068,
          -0.012001276947557926,
          -0.0013711496721953154,
          -0.004384671803563833,
          -0.005894416011869907,
          -0.10353706777095795,
          -0.04952433332800865,
          -0.02761884033679962,
          0.0008535186643712223,
          -0.03089888207614422,
          -0.0022181416861712933,
          -0.005095296073704958,
          -0.009584682062268257,
          -0.0006497246795333922,
          -0.016283903270959854,
          -0.0048901685513556,
          -0.0044367932714521885,
          -0.0049242982640862465,
          -0.005554137285798788,
          -0.003269033506512642,
          -0.008484197780489922,
          -0.006532910279929638,
          -0.012711523100733757,
          -0.016730057075619698,
          -0.0076076919212937355,
          -0.004534187261015177,
          -0.0036367157008498907,
          -0.018212290480732918,
          -0.005806355737149715,
          0.004793044179677963,
          -0.014215703122317791,
          -0.006816178560256958,
          -0.004485758952796459,
          -0.003747074631974101,
          -0.0007686793687753379,
          -0.008733928203582764,
          -0.003454271238297224,
          -0.0068635037168860435,
          -0.02677592821419239,
          -0.007928494364023209,
          -0.000564547604881227,
          -0.01048316154628992,
          -0.002984260208904743,
          -0.001739136059768498,
          0.0009036066476255655,
          -0.0038331481628119946,
          0.0013935723109170794,
          -0.02305450662970543,
          0.0032077680807560682,
          -0.0001824119099183008,
          -0.0032946655992418528,
          -0.0032677820418030024,
          -0.0018850704655051231,
          -0.0007272420916706324,
          -0.004347548354417086,
          -0.0008919258834794164,
          0.00023698715085629374,
          0.003046685364097357,
          0.0006331918411888182,
          -0.00667964993044734,
          -0.0006772596971131861,
          -0.0021340162493288517,
          -0.0014139803824946284,
          -0.0021021547727286816,
          -0.00011443398398114368,
          0.0004555943887680769,
          -0.005782619584351778,
          -0.0044907573610544205,
          -0.006738550029695034,
          -0.0028970728162676096,
          -0.0007150202291086316,
          -0.002760966308414936,
          -0.0015177553286775947,
          0.0014277545269578695,
          -0.0022712277714163065,
          -0.002633405849337578,
          0.0007553601171821356,
          -0.005501988343894482,
          -0.007811791729182005,
          -0.000579452549573034,
          -0.001451063435524702,
          0.000630218128208071,
          -0.016056014224886894,
          0.00039919925620779395,
          -0.0016243396094068885,
          -0.003086425829678774,
          0.002284612273797393,
          -0.0068487320095300674,
          0.00269332411698997,
          0.002018601167947054,
          0.0007480108179152012,
          -0.00020386779215186834,
          -0.00109956378582865,
          -0.003063659416511655,
          0.003933818079531193,
          -0.001933883293531835,
          -0.004075772128999233,
          -0.004413088317960501,
          0.0008384935790672898,
          0.0029541347175836563,
          0.0007843963103368878,
          -0.005785259883850813,
          0.0014850797597318888,
          0.000548199808690697,
          -0.004311463329941034,
          0.0002735466987360269,
          0.003554012393578887,
          -0.003826889442279935,
          -0.000613581680227071,
          0.003962243441492319,
          -0.005105022806674242,
          -0.00043852461385540664,
          -0.003909191582351923
         ],
         "yaxis": "y"
        },
        {
         "line": {
          "color": "grey",
          "dash": "dot"
         },
         "mode": "lines",
         "name": "Y=-X",
         "type": "scatter",
         "x": [
          -0.4,
          0.4
         ],
         "xaxis": "x",
         "y": [
          0.4,
          -0.4
         ],
         "yaxis": "y"
        },
        {
         "marker": {
          "color": [
           0,
           0,
           0,
           0,
           0,
           0,
           0,
           0,
           0,
           0,
           0,
           0,
           1,
           1,
           1,
           1,
           1,
           1,
           1,
           1,
           1,
           1,
           1,
           1,
           2,
           2,
           2,
           2,
           2,
           2,
           2,
           2,
           2,
           2,
           2,
           2,
           3,
           3,
           3,
           3,
           3,
           3,
           3,
           3,
           3,
           3,
           3,
           3,
           4,
           4,
           4,
           4,
           4,
           4,
           4,
           4,
           4,
           4,
           4,
           4,
           5,
           5,
           5,
           5,
           5,
           5,
           5,
           5,
           5,
           5,
           5,
           5,
           6,
           6,
           6,
           6,
           6,
           6,
           6,
           6,
           6,
           6,
           6,
           6,
           7,
           7,
           7,
           7,
           7,
           7,
           7,
           7,
           7,
           7,
           7,
           7,
           8,
           8,
           8,
           8,
           8,
           8,
           8,
           8,
           8,
           8,
           8,
           8,
           9,
           9,
           9,
           9,
           9,
           9,
           9,
           9,
           9,
           9,
           9,
           9,
           10,
           10,
           10,
           10,
           10,
           10,
           10,
           10,
           10,
           10,
           10,
           10,
           11,
           11,
           11,
           11,
           11,
           11,
           11,
           11,
           11,
           11,
           11,
           11
          ],
          "colorbar": {
           "orientation": "h",
           "title": {
            "text": "Layer"
           }
          },
          "colorscale": [
           [
            0,
            "#440154"
           ],
           [
            0.1111111111111111,
            "#482878"
           ],
           [
            0.2222222222222222,
            "#3e4989"
           ],
           [
            0.3333333333333333,
            "#31688e"
           ],
           [
            0.4444444444444444,
            "#26828e"
           ],
           [
            0.5555555555555556,
            "#1f9e89"
           ],
           [
            0.6666666666666666,
            "#35b779"
           ],
           [
            0.7777777777777778,
            "#6ece58"
           ],
           [
            0.8888888888888888,
            "#b5de2b"
           ],
           [
            1,
            "#fde725"
           ]
          ],
          "line": {
           "color": "DarkSlateGrey",
           "width": 0.5
          },
          "opacity": 0.8,
          "size": 8
         },
         "mode": "markers",
         "name": "Attention Heads",
         "text": [
          "Layer 0, Head 0",
          "Layer 0, Head 1",
          "Layer 0, Head 2",
          "Layer 0, Head 3",
          "Layer 0, Head 4",
          "Layer 0, Head 5",
          "Layer 0, Head 6",
          "Layer 0, Head 7",
          "Layer 0, Head 8",
          "Layer 0, Head 9",
          "Layer 0, Head 10",
          "Layer 0, Head 11",
          "Layer 1, Head 0",
          "Layer 1, Head 1",
          "Layer 1, Head 2",
          "Layer 1, Head 3",
          "Layer 1, Head 4",
          "Layer 1, Head 5",
          "Layer 1, Head 6",
          "Layer 1, Head 7",
          "Layer 1, Head 8",
          "Layer 1, Head 9",
          "Layer 1, Head 10",
          "Layer 1, Head 11",
          "Layer 2, Head 0",
          "Layer 2, Head 1",
          "Layer 2, Head 2",
          "Layer 2, Head 3",
          "Layer 2, Head 4",
          "Layer 2, Head 5",
          "Layer 2, Head 6",
          "Layer 2, Head 7",
          "Layer 2, Head 8",
          "Layer 2, Head 9",
          "Layer 2, Head 10",
          "Layer 2, Head 11",
          "Layer 3, Head 0",
          "Layer 3, Head 1",
          "Layer 3, Head 2",
          "Layer 3, Head 3",
          "Layer 3, Head 4",
          "Layer 3, Head 5",
          "Layer 3, Head 6",
          "Layer 3, Head 7",
          "Layer 3, Head 8",
          "Layer 3, Head 9",
          "Layer 3, Head 10",
          "Layer 3, Head 11",
          "Layer 4, Head 0",
          "Layer 4, Head 1",
          "Layer 4, Head 2",
          "Layer 4, Head 3",
          "Layer 4, Head 4",
          "Layer 4, Head 5",
          "Layer 4, Head 6",
          "Layer 4, Head 7",
          "Layer 4, Head 8",
          "Layer 4, Head 9",
          "Layer 4, Head 10",
          "Layer 4, Head 11",
          "Layer 5, Head 0",
          "Layer 5, Head 1",
          "Layer 5, Head 2",
          "Layer 5, Head 3",
          "Layer 5, Head 4",
          "Layer 5, Head 5",
          "Layer 5, Head 6",
          "Layer 5, Head 7",
          "Layer 5, Head 8",
          "Layer 5, Head 9",
          "Layer 5, Head 10",
          "Layer 5, Head 11",
          "Layer 6, Head 0",
          "Layer 6, Head 1",
          "Layer 6, Head 2",
          "Layer 6, Head 3",
          "Layer 6, Head 4",
          "Layer 6, Head 5",
          "Layer 6, Head 6",
          "Layer 6, Head 7",
          "Layer 6, Head 8",
          "Layer 6, Head 9",
          "Layer 6, Head 10",
          "Layer 6, Head 11",
          "Layer 7, Head 0",
          "Layer 7, Head 1",
          "Layer 7, Head 2",
          "Layer 7, Head 3",
          "Layer 7, Head 4",
          "Layer 7, Head 5",
          "Layer 7, Head 6",
          "Layer 7, Head 7",
          "Layer 7, Head 8",
          "Layer 7, Head 9",
          "Layer 7, Head 10",
          "Layer 7, Head 11",
          "Layer 8, Head 0",
          "Layer 8, Head 1",
          "Layer 8, Head 2",
          "Layer 8, Head 3",
          "Layer 8, Head 4",
          "Layer 8, Head 5",
          "Layer 8, Head 6",
          "Layer 8, Head 7",
          "Layer 8, Head 8",
          "Layer 8, Head 9",
          "Layer 8, Head 10",
          "Layer 8, Head 11",
          "Layer 9, Head 0",
          "Layer 9, Head 1",
          "Layer 9, Head 2",
          "Layer 9, Head 3",
          "Layer 9, Head 4",
          "Layer 9, Head 5",
          "Layer 9, Head 6",
          "Layer 9, Head 7",
          "Layer 9, Head 8",
          "Layer 9, Head 9",
          "Layer 9, Head 10",
          "Layer 9, Head 11",
          "Layer 10, Head 0",
          "Layer 10, Head 1",
          "Layer 10, Head 2",
          "Layer 10, Head 3",
          "Layer 10, Head 4",
          "Layer 10, Head 5",
          "Layer 10, Head 6",
          "Layer 10, Head 7",
          "Layer 10, Head 8",
          "Layer 10, Head 9",
          "Layer 10, Head 10",
          "Layer 10, Head 11",
          "Layer 11, Head 0",
          "Layer 11, Head 1",
          "Layer 11, Head 2",
          "Layer 11, Head 3",
          "Layer 11, Head 4",
          "Layer 11, Head 5",
          "Layer 11, Head 6",
          "Layer 11, Head 7",
          "Layer 11, Head 8",
          "Layer 11, Head 9",
          "Layer 11, Head 10",
          "Layer 11, Head 11"
         ],
         "type": "scatter",
         "x": [
          0.027064237743616104,
          0.017617568373680115,
          0.05618965998291969,
          0.03317278251051903,
          0.022308459505438805,
          0.01673710346221924,
          0.026993677020072937,
          0.022293034940958023,
          0.02377541922032833,
          0.024025272578001022,
          0.015802141278982162,
          0.029400277882814407,
          0.027072176337242126,
          0.013388781808316708,
          0.02584553137421608,
          0.01736222393810749,
          0.01620711199939251,
          0.02903173863887787,
          0.03789964318275452,
          0.024561170488595963,
          0.02302328683435917,
          0.04349431395530701,
          0.025023337453603745,
          0.011784863658249378,
          0.009991745464503765,
          0.018294187262654305,
          0.017899055033922195,
          0.021054256707429886,
          0.012549443170428276,
          0.03510149195790291,
          0.06417075544595718,
          0.035808295011520386,
          0.029530640691518784,
          0.013039900921285152,
          0.04644099995493889,
          0.04532289877533913,
          0.04864930361509323,
          0.04489365220069885,
          0.04540552198886871,
          -0.0047018700279295444,
          0.03287660330533981,
          0.0216461680829525,
          0.04739389196038246,
          0.011709601618349552,
          0.01839389093220234,
          0.03726513683795929,
          0.05757142975926399,
          0.04652600362896919,
          0.04902686923742294,
          0.043884605169296265,
          0.022271079942584038,
          0.03282150253653526,
          0.05060429871082306,
          0.03550839051604271,
          0.028538942337036133,
          0.0031097736209630966,
          0.05696656554937363,
          0.039039235562086105,
          0.12301335483789444,
          0.06324192136526108,
          -0.032145239412784576,
          0.038695335388183594,
          0.03921307623386383,
          0.043779611587524414,
          0.03217788413167,
          0.0253034308552742,
          0.0714174285531044,
          0.03001706674695015,
          0.04092653468251228,
          0.2018377184867859,
          0.07739252597093582,
          0.02687741443514824,
          0.04931354150176048,
          0.058164577931165695,
          0.01920832134783268,
          0.013868534937500954,
          0.0358671173453331,
          -0.0005208796355873346,
          0.20378151535987854,
          -0.03630131110548973,
          0.0227773766964674,
          0.01035009603947401,
          0.030874209478497505,
          -0.002835145452991128,
          0.027930473908782005,
          0.04134879261255264,
          -0.002278312109410763,
          -0.03755512833595276,
          -0.0316966213285923,
          -0.012126432731747627,
          0.08629569411277771,
          -0.0035823530051857233,
          -0.011743704788386822,
          0.03421848267316818,
          0.022419342771172523,
          -0.0028202456887811422,
          0.064767986536026,
          0.07652654498815536,
          0.030708687379956245,
          0.029858531430363655,
          0.041166748851537704,
          0.07695627212524414,
          0.06277947872877121,
          0.015247232280671597,
          0.018419021740555763,
          0.05637979507446289,
          0.003023345721885562,
          -0.0039990185759961605,
          0.08157166838645935,
          0.08619141578674316,
          0.0027027607429772615,
          0.0722057893872261,
          0.03979390487074852,
          0.052499327808618546,
          0.0712820515036583,
          0.057186417281627655,
          0.048090673983097076,
          0.025234783068299294,
          0.03059246949851513,
          0.0006997785530984402,
          0.04815340042114258,
          0.050771985203027725,
          0.055513691157102585,
          0.020880267024040222,
          0.03013613633811474,
          -0.017989693209528923,
          0.0552954338490963,
          0.023234043270349503,
          0.056615326553583145,
          0.0626203641295433,
          0.018351349979639053,
          0.03100637160241604,
          0.0795324444770813,
          0.01344193797558546,
          0.07938576489686966,
          0.06038948521018028,
          0.018980631604790688,
          0.009849782101809978,
          0.025197317823767662,
          0.0845084860920906,
          0.04081258922815323,
          0.027282575145363808,
          0.038668472319841385,
          0.08963574469089508
         ],
         "xaxis": "x2",
         "y": [
          -0.011939477175474167,
          -0.01507568173110485,
          -0.014381395652890205,
          -0.01212599128484726,
          -0.013937276788055897,
          -0.012047704309225082,
          -0.022746406495571136,
          -0.009173913858830929,
          -0.010124387219548225,
          -0.00854282733052969,
          -0.008473950438201427,
          -0.013675524853169918,
          -0.003307400969788432,
          -0.005098248366266489,
          -0.002375212498009205,
          -0.0038714823313057423,
          -0.0026699260342866182,
          -0.0007697975961491466,
          -0.004436700604856014,
          -0.0025741022545844316,
          -0.002382261911407113,
          -0.0022138196509331465,
          -0.0025437043514102697,
          -0.0005890228785574436,
          -0.0016332208178937435,
          -0.004979188088327646,
          -0.002828555181622505,
          -0.009722749702632427,
          -0.0014610993675887585,
          -0.02117132768034935,
          -0.03582542762160301,
          -0.006166736129671335,
          -0.011351204477250576,
          -0.0008882044348865747,
          -0.021081160753965378,
          -0.009343202225863934,
          -0.06278267502784729,
          -0.01906144805252552,
          -0.023538390174508095,
          0.0006725979619659483,
          -0.011964003555476665,
          -0.0036767064593732357,
          -0.015395663678646088,
          -0.013161885552108288,
          -0.0014671413227915764,
          -0.013751302845776081,
          -0.006067231297492981,
          -0.009894398972392082,
          -0.002919570542871952,
          -0.009004669263958931,
          -0.005566197447478771,
          -0.008169536478817463,
          -0.008592583239078522,
          -0.011534282006323338,
          -0.011073637753725052,
          -0.026760384440422058,
          -0.006867331452667713,
          -0.00554114393889904,
          -0.049466487020254135,
          -0.007573139853775501,
          0.005863690748810768,
          -0.02086724154651165,
          -0.014524192549288273,
          -0.018833117559552193,
          -0.009997465647757053,
          -0.003868643892928958,
          -0.027180958539247513,
          -0.010193709284067154,
          -0.007930539548397064,
          -0.057582542300224304,
          -0.03830740973353386,
          -0.019811149686574936,
          -0.017969336360692978,
          -0.010912630707025528,
          -0.008100001141428947,
          -0.002048005349934101,
          -0.007577683310955763,
          -0.001713322359137237,
          -0.08006416261196136,
          0.0031994220335036516,
          -0.004718562122434378,
          -0.0046252054162323475,
          -0.026218483224511147,
          -0.005033380351960659,
          -0.002804138697683811,
          -0.008559402078390121,
          -0.007259428966790438,
          0.0007842800114303827,
          0.004883613903075457,
          -0.0011011107126250863,
          -0.028788531199097633,
          -0.004446106497198343,
          -0.00418781116604805,
          -0.005094232968986034,
          -0.0093399528414011,
          -0.002702124183997512,
          -0.019464125856757164,
          -0.03152851387858391,
          -0.015357057563960552,
          -0.006237694527953863,
          -0.0031138183549046516,
          -0.020495984703302383,
          -0.016735883429646492,
          -0.0049600545316934586,
          -0.0028952169232070446,
          -0.012430399656295776,
          -0.004660777281969786,
          -0.00017957520321942866,
          -0.031702034175395966,
          -0.021906685084104538,
          -0.002683296799659729,
          -0.015340905636548996,
          -0.005575840827077627,
          -0.011382369324564934,
          -0.01950259506702423,
          -0.014205901883542538,
          -0.014905457384884357,
          0.0029081080574542284,
          -0.007309508044272661,
          -0.0026721390895545483,
          -0.007129216566681862,
          -0.010076357051730156,
          -0.008970309048891068,
          -0.0005511750350706279,
          -0.006067641545087099,
          0.006503489334136248,
          -0.00982198491692543,
          -0.004697493743151426,
          -0.014837543480098248,
          -0.013613752089440823,
          -0.0017614776734262705,
          -0.007335714530199766,
          -0.01269207801669836,
          -0.0004429955151863396,
          -0.0025351818185299635,
          -0.006412639748305082,
          0.0004818387096747756,
          0.003807470668107271,
          0.00044251023791730404,
          0.0017290887190029025,
          0.005426793359220028,
          -0.0019501624628901482,
          -0.002632011426612735,
          -0.00803619809448719
         ],
         "yaxis": "y2"
        },
        {
         "line": {
          "color": "grey",
          "dash": "dot"
         },
         "mode": "lines",
         "name": "Y=-X",
         "type": "scatter",
         "x": [
          -0.4,
          0.4
         ],
         "xaxis": "x2",
         "y": [
          0.4,
          -0.4
         ],
         "yaxis": "y2"
        },
        {
         "marker": {
          "color": [
           0,
           0,
           0,
           0,
           0,
           0,
           0,
           0,
           0,
           0,
           0,
           0,
           1,
           1,
           1,
           1,
           1,
           1,
           1,
           1,
           1,
           1,
           1,
           1,
           2,
           2,
           2,
           2,
           2,
           2,
           2,
           2,
           2,
           2,
           2,
           2,
           3,
           3,
           3,
           3,
           3,
           3,
           3,
           3,
           3,
           3,
           3,
           3,
           4,
           4,
           4,
           4,
           4,
           4,
           4,
           4,
           4,
           4,
           4,
           4,
           5,
           5,
           5,
           5,
           5,
           5,
           5,
           5,
           5,
           5,
           5,
           5,
           6,
           6,
           6,
           6,
           6,
           6,
           6,
           6,
           6,
           6,
           6,
           6,
           7,
           7,
           7,
           7,
           7,
           7,
           7,
           7,
           7,
           7,
           7,
           7,
           8,
           8,
           8,
           8,
           8,
           8,
           8,
           8,
           8,
           8,
           8,
           8,
           9,
           9,
           9,
           9,
           9,
           9,
           9,
           9,
           9,
           9,
           9,
           9,
           10,
           10,
           10,
           10,
           10,
           10,
           10,
           10,
           10,
           10,
           10,
           10,
           11,
           11,
           11,
           11,
           11,
           11,
           11,
           11,
           11,
           11,
           11,
           11
          ],
          "colorbar": {
           "orientation": "h",
           "title": {
            "text": "Layer"
           }
          },
          "colorscale": [
           [
            0,
            "#440154"
           ],
           [
            0.1111111111111111,
            "#482878"
           ],
           [
            0.2222222222222222,
            "#3e4989"
           ],
           [
            0.3333333333333333,
            "#31688e"
           ],
           [
            0.4444444444444444,
            "#26828e"
           ],
           [
            0.5555555555555556,
            "#1f9e89"
           ],
           [
            0.6666666666666666,
            "#35b779"
           ],
           [
            0.7777777777777778,
            "#6ece58"
           ],
           [
            0.8888888888888888,
            "#b5de2b"
           ],
           [
            1,
            "#fde725"
           ]
          ],
          "line": {
           "color": "DarkSlateGrey",
           "width": 0.5
          },
          "opacity": 0.8,
          "size": 8
         },
         "mode": "markers",
         "name": "Attention Heads",
         "text": [
          "Layer 0, Head 0",
          "Layer 0, Head 1",
          "Layer 0, Head 2",
          "Layer 0, Head 3",
          "Layer 0, Head 4",
          "Layer 0, Head 5",
          "Layer 0, Head 6",
          "Layer 0, Head 7",
          "Layer 0, Head 8",
          "Layer 0, Head 9",
          "Layer 0, Head 10",
          "Layer 0, Head 11",
          "Layer 1, Head 0",
          "Layer 1, Head 1",
          "Layer 1, Head 2",
          "Layer 1, Head 3",
          "Layer 1, Head 4",
          "Layer 1, Head 5",
          "Layer 1, Head 6",
          "Layer 1, Head 7",
          "Layer 1, Head 8",
          "Layer 1, Head 9",
          "Layer 1, Head 10",
          "Layer 1, Head 11",
          "Layer 2, Head 0",
          "Layer 2, Head 1",
          "Layer 2, Head 2",
          "Layer 2, Head 3",
          "Layer 2, Head 4",
          "Layer 2, Head 5",
          "Layer 2, Head 6",
          "Layer 2, Head 7",
          "Layer 2, Head 8",
          "Layer 2, Head 9",
          "Layer 2, Head 10",
          "Layer 2, Head 11",
          "Layer 3, Head 0",
          "Layer 3, Head 1",
          "Layer 3, Head 2",
          "Layer 3, Head 3",
          "Layer 3, Head 4",
          "Layer 3, Head 5",
          "Layer 3, Head 6",
          "Layer 3, Head 7",
          "Layer 3, Head 8",
          "Layer 3, Head 9",
          "Layer 3, Head 10",
          "Layer 3, Head 11",
          "Layer 4, Head 0",
          "Layer 4, Head 1",
          "Layer 4, Head 2",
          "Layer 4, Head 3",
          "Layer 4, Head 4",
          "Layer 4, Head 5",
          "Layer 4, Head 6",
          "Layer 4, Head 7",
          "Layer 4, Head 8",
          "Layer 4, Head 9",
          "Layer 4, Head 10",
          "Layer 4, Head 11",
          "Layer 5, Head 0",
          "Layer 5, Head 1",
          "Layer 5, Head 2",
          "Layer 5, Head 3",
          "Layer 5, Head 4",
          "Layer 5, Head 5",
          "Layer 5, Head 6",
          "Layer 5, Head 7",
          "Layer 5, Head 8",
          "Layer 5, Head 9",
          "Layer 5, Head 10",
          "Layer 5, Head 11",
          "Layer 6, Head 0",
          "Layer 6, Head 1",
          "Layer 6, Head 2",
          "Layer 6, Head 3",
          "Layer 6, Head 4",
          "Layer 6, Head 5",
          "Layer 6, Head 6",
          "Layer 6, Head 7",
          "Layer 6, Head 8",
          "Layer 6, Head 9",
          "Layer 6, Head 10",
          "Layer 6, Head 11",
          "Layer 7, Head 0",
          "Layer 7, Head 1",
          "Layer 7, Head 2",
          "Layer 7, Head 3",
          "Layer 7, Head 4",
          "Layer 7, Head 5",
          "Layer 7, Head 6",
          "Layer 7, Head 7",
          "Layer 7, Head 8",
          "Layer 7, Head 9",
          "Layer 7, Head 10",
          "Layer 7, Head 11",
          "Layer 8, Head 0",
          "Layer 8, Head 1",
          "Layer 8, Head 2",
          "Layer 8, Head 3",
          "Layer 8, Head 4",
          "Layer 8, Head 5",
          "Layer 8, Head 6",
          "Layer 8, Head 7",
          "Layer 8, Head 8",
          "Layer 8, Head 9",
          "Layer 8, Head 10",
          "Layer 8, Head 11",
          "Layer 9, Head 0",
          "Layer 9, Head 1",
          "Layer 9, Head 2",
          "Layer 9, Head 3",
          "Layer 9, Head 4",
          "Layer 9, Head 5",
          "Layer 9, Head 6",
          "Layer 9, Head 7",
          "Layer 9, Head 8",
          "Layer 9, Head 9",
          "Layer 9, Head 10",
          "Layer 9, Head 11",
          "Layer 10, Head 0",
          "Layer 10, Head 1",
          "Layer 10, Head 2",
          "Layer 10, Head 3",
          "Layer 10, Head 4",
          "Layer 10, Head 5",
          "Layer 10, Head 6",
          "Layer 10, Head 7",
          "Layer 10, Head 8",
          "Layer 10, Head 9",
          "Layer 10, Head 10",
          "Layer 10, Head 11",
          "Layer 11, Head 0",
          "Layer 11, Head 1",
          "Layer 11, Head 2",
          "Layer 11, Head 3",
          "Layer 11, Head 4",
          "Layer 11, Head 5",
          "Layer 11, Head 6",
          "Layer 11, Head 7",
          "Layer 11, Head 8",
          "Layer 11, Head 9",
          "Layer 11, Head 10",
          "Layer 11, Head 11"
         ],
         "type": "scatter",
         "x": [
          0.040250442922115326,
          0.023838290944695473,
          0.05374287813901901,
          0.029657959938049316,
          0.028585754334926605,
          0.0453965924680233,
          0.05708985775709152,
          0.03971128910779953,
          0.03528708592057228,
          0.011209416203200817,
          0.02374035306274891,
          0.05266084149479866,
          0.04521685093641281,
          0.027806034311652184,
          0.022831415757536888,
          0.004502537194639444,
          0.004800549242645502,
          0.023337261751294136,
          0.03453738987445831,
          0.021765856072306633,
          0.006538726855069399,
          0.010861612856388092,
          0.009805216453969479,
          0.007505414076149464,
          0.013147639110684395,
          0.031161585822701454,
          0.006723531521856785,
          0.021896667778491974,
          0.007293442729860544,
          0.038425132632255554,
          0.07951902598142624,
          0.02746574580669403,
          0.03621988371014595,
          -0.004329617600888014,
          0.0675283893942833,
          0.029645027592778206,
          0.05347583070397377,
          0.03760789334774017,
          0.040012262761592865,
          -0.025095220655202866,
          0.03263859450817108,
          0.018706833943724632,
          0.05323190242052078,
          0.009768279269337654,
          0.012625976465642452,
          0.02986893802881241,
          0.02586909756064415,
          0.03558448702096939,
          0.029344864189624786,
          0.04237569123506546,
          0.031716007739305496,
          0.038155265152454376,
          0.04692573845386505,
          0.034911565482616425,
          0.01636672019958496,
          0.010997094213962555,
          0.04839475080370903,
          0.029109684750437737,
          0.14946581423282623,
          0.058539602905511856,
          -0.03362046927213669,
          0.05179751664400101,
          0.059505075216293335,
          0.05602995678782463,
          0.04154413565993309,
          0.04942081868648529,
          0.06203056126832962,
          0.03995451331138611,
          0.03594641014933586,
          0.1091029942035675,
          0.09318019449710846,
          0.06759819388389587,
          0.0629483163356781,
          0.04378965124487877,
          0.042742762714624405,
          0.013885598629713058,
          0.0512847825884819,
          -0.009672184474766254,
          0.1251116544008255,
          -0.016699841246008873,
          0.012903286144137383,
          0.01799093931913376,
          0.08170661330223083,
          0.01787843182682991,
          0.027878986671566963,
          0.05692547187209129,
          0.02420048601925373,
          -0.023211462423205376,
          -0.026077447459101677,
          -0.032082390040159225,
          0.08359070867300034,
          0.017202269285917282,
          0.01829584687948227,
          0.020144011825323105,
          0.05943521484732628,
          0.0013508695410564542,
          0.09500721842050552,
          0.0977644994854927,
          0.05949215590953827,
          0.017479918897151947,
          0.029108377173542976,
          0.08354900777339935,
          0.06628203392028809,
          -0.004792080260813236,
          0.03288889676332474,
          0.04417959228157997,
          0.02892124280333519,
          -0.0017209738725796342,
          0.09652101248502731,
          0.0899929478764534,
          0.017456717789173126,
          0.06786350160837173,
          0.05489996075630188,
          0.052171740680933,
          0.07122306525707245,
          0.06201509013772011,
          0.09379157423973083,
          0.021284835413098335,
          0.033638663589954376,
          0.024147888645529747,
          0.06858283281326294,
          0.07027824223041534,
          0.12404101341962814,
          0.012794053182005882,
          0.049593113362789154,
          0.012676829472184181,
          0.05122845247387886,
          0.028250304982066154,
          0.05521716922521591,
          0.07282835245132446,
          0.012244896963238716,
          0.056675247848033905,
          0.085617296397686,
          0.007003690581768751,
          0.05579891800880432,
          0.07462754100561142,
          -0.001635126187466085,
          -0.012312130071222782,
          0.018750954419374466,
          0.050481706857681274,
          0.017941568046808243,
          0.014810355380177498,
          0.03279675543308258,
          0.09018320590257645
         ],
         "xaxis": "x3",
         "y": [
          -0.015475086867809296,
          -0.014253068715333939,
          -0.015749778598546982,
          -0.01813221350312233,
          -0.019750352948904037,
          -0.016248919069767,
          -0.025343136861920357,
          -0.016435084864497185,
          -0.019268635660409927,
          -0.009734857827425003,
          -0.018817676231265068,
          -0.02264588326215744,
          -0.008733189664781094,
          -0.02891760878264904,
          -0.005650554317981005,
          -0.0033444752916693687,
          -0.006775383371859789,
          -0.0028385252226144075,
          -0.016655180603265762,
          -0.02122855931520462,
          -0.001995555590838194,
          -0.007602234836667776,
          -0.001238192431628704,
          -0.005693607963621616,
          -0.005419788416475058,
          -0.01264042966067791,
          -0.007610664237290621,
          -0.015481200069189072,
          -0.00566061120480299,
          -0.02686675637960434,
          -0.053241707384586334,
          -0.01711653731763363,
          -0.0168297216296196,
          -0.006474845577031374,
          -0.04915167763829231,
          -0.017193637788295746,
          -0.04041941091418266,
          -0.02122981660068035,
          -0.02550400234758854,
          -0.004331557080149651,
          -0.011967360973358154,
          -0.011809279210865498,
          -0.0308273583650589,
          -0.013586163520812988,
          -0.0016584942350164056,
          -0.01685393787920475,
          -0.014439107850193977,
          -0.015802690759301186,
          -0.004626945126801729,
          -0.015414059162139893,
          -0.008222437463700771,
          -0.01594478264451027,
          -0.013256954029202461,
          -0.016793081536889076,
          -0.006003422662615776,
          -0.035726096481084824,
          -0.004892056807875633,
          -0.013830456882715225,
          -0.045855239033699036,
          -0.01785721629858017,
          0.013546220026910305,
          -0.04045260325074196,
          -0.024203680455684662,
          -0.03235303983092308,
          -0.02301016077399254,
          -0.010304565541446209,
          -0.02491447702050209,
          -0.015393195673823357,
          -0.024817703291773796,
          -0.02994074672460556,
          -0.031402602791786194,
          -0.024514131247997284,
          -0.03324819728732109,
          -0.022108621895313263,
          -0.01895013079047203,
          -0.005636123940348625,
          -0.01762545481324196,
          -0.0019897986203432083,
          -0.04336324706673622,
          0.008426769636571407,
          -0.009538143873214722,
          -0.01280979160219431,
          -0.04499545693397522,
          -0.013957030139863491,
          -0.00806577131152153,
          -0.033012475818395615,
          -0.013103504665195942,
          0.006142091937363148,
          0.01064129639416933,
          0.008501791395246983,
          -0.0645933449268341,
          -0.008783089928328991,
          -0.0023724830243736506,
          -0.009163377806544304,
          -0.016828132793307304,
          -0.001768643269315362,
          -0.04847182333469391,
          -0.06139495596289635,
          -0.029493331909179688,
          -0.004427388776093721,
          -0.0057761999778449535,
          -0.06484221667051315,
          -0.02566973678767681,
          -0.004385848995298147,
          -0.009098969399929047,
          -0.021418726071715355,
          -0.008335635997354984,
          -0.008320276625454426,
          -0.05105860158801079,
          -0.026579905301332474,
          -0.007856257259845734,
          -0.03597107529640198,
          -0.028820335865020752,
          -0.011366029269993305,
          -0.034022703766822815,
          -0.032588716596364975,
          -0.061863262206315994,
          -0.009855568408966064,
          -0.01333093736320734,
          -0.012525307014584541,
          -0.015353156253695488,
          -0.01831931807100773,
          -0.04722582921385765,
          -0.002290064236149192,
          -0.010134208016097546,
          0.002740226686000824,
          -0.015655606985092163,
          -0.006126978900283575,
          -0.011924154125154018,
          -0.033202506601810455,
          -0.003148284973576665,
          -0.019774196669459343,
          -0.01965935342013836,
          -0.0029184981249272823,
          -0.006876387167721987,
          -0.008256562054157257,
          0.0026619895361363888,
          0.004627876449376345,
          0.0019178427755832672,
          0.002264082431793213,
          0.008116978220641613,
          -0.0008281138143502176,
          0.00009858311386778951,
          -0.015133465640246868
         ],
         "yaxis": "y3"
        },
        {
         "line": {
          "color": "grey",
          "dash": "dot"
         },
         "mode": "lines",
         "name": "Y=-X",
         "type": "scatter",
         "x": [
          -0.4,
          0.4
         ],
         "xaxis": "x3",
         "y": [
          0.4,
          -0.4
         ],
         "yaxis": "y3"
        },
        {
         "marker": {
          "color": [
           0,
           0,
           0,
           0,
           0,
           0,
           0,
           0,
           0,
           0,
           0,
           0,
           1,
           1,
           1,
           1,
           1,
           1,
           1,
           1,
           1,
           1,
           1,
           1,
           2,
           2,
           2,
           2,
           2,
           2,
           2,
           2,
           2,
           2,
           2,
           2,
           3,
           3,
           3,
           3,
           3,
           3,
           3,
           3,
           3,
           3,
           3,
           3,
           4,
           4,
           4,
           4,
           4,
           4,
           4,
           4,
           4,
           4,
           4,
           4,
           5,
           5,
           5,
           5,
           5,
           5,
           5,
           5,
           5,
           5,
           5,
           5,
           6,
           6,
           6,
           6,
           6,
           6,
           6,
           6,
           6,
           6,
           6,
           6,
           7,
           7,
           7,
           7,
           7,
           7,
           7,
           7,
           7,
           7,
           7,
           7,
           8,
           8,
           8,
           8,
           8,
           8,
           8,
           8,
           8,
           8,
           8,
           8,
           9,
           9,
           9,
           9,
           9,
           9,
           9,
           9,
           9,
           9,
           9,
           9,
           10,
           10,
           10,
           10,
           10,
           10,
           10,
           10,
           10,
           10,
           10,
           10,
           11,
           11,
           11,
           11,
           11,
           11,
           11,
           11,
           11,
           11,
           11,
           11
          ],
          "colorbar": {
           "orientation": "h",
           "title": {
            "text": "Layer"
           }
          },
          "colorscale": [
           [
            0,
            "#440154"
           ],
           [
            0.1111111111111111,
            "#482878"
           ],
           [
            0.2222222222222222,
            "#3e4989"
           ],
           [
            0.3333333333333333,
            "#31688e"
           ],
           [
            0.4444444444444444,
            "#26828e"
           ],
           [
            0.5555555555555556,
            "#1f9e89"
           ],
           [
            0.6666666666666666,
            "#35b779"
           ],
           [
            0.7777777777777778,
            "#6ece58"
           ],
           [
            0.8888888888888888,
            "#b5de2b"
           ],
           [
            1,
            "#fde725"
           ]
          ],
          "line": {
           "color": "DarkSlateGrey",
           "width": 0.5
          },
          "opacity": 0.8,
          "size": 8
         },
         "mode": "markers",
         "name": "Attention Heads",
         "text": [
          "Layer 0, Head 0",
          "Layer 0, Head 1",
          "Layer 0, Head 2",
          "Layer 0, Head 3",
          "Layer 0, Head 4",
          "Layer 0, Head 5",
          "Layer 0, Head 6",
          "Layer 0, Head 7",
          "Layer 0, Head 8",
          "Layer 0, Head 9",
          "Layer 0, Head 10",
          "Layer 0, Head 11",
          "Layer 1, Head 0",
          "Layer 1, Head 1",
          "Layer 1, Head 2",
          "Layer 1, Head 3",
          "Layer 1, Head 4",
          "Layer 1, Head 5",
          "Layer 1, Head 6",
          "Layer 1, Head 7",
          "Layer 1, Head 8",
          "Layer 1, Head 9",
          "Layer 1, Head 10",
          "Layer 1, Head 11",
          "Layer 2, Head 0",
          "Layer 2, Head 1",
          "Layer 2, Head 2",
          "Layer 2, Head 3",
          "Layer 2, Head 4",
          "Layer 2, Head 5",
          "Layer 2, Head 6",
          "Layer 2, Head 7",
          "Layer 2, Head 8",
          "Layer 2, Head 9",
          "Layer 2, Head 10",
          "Layer 2, Head 11",
          "Layer 3, Head 0",
          "Layer 3, Head 1",
          "Layer 3, Head 2",
          "Layer 3, Head 3",
          "Layer 3, Head 4",
          "Layer 3, Head 5",
          "Layer 3, Head 6",
          "Layer 3, Head 7",
          "Layer 3, Head 8",
          "Layer 3, Head 9",
          "Layer 3, Head 10",
          "Layer 3, Head 11",
          "Layer 4, Head 0",
          "Layer 4, Head 1",
          "Layer 4, Head 2",
          "Layer 4, Head 3",
          "Layer 4, Head 4",
          "Layer 4, Head 5",
          "Layer 4, Head 6",
          "Layer 4, Head 7",
          "Layer 4, Head 8",
          "Layer 4, Head 9",
          "Layer 4, Head 10",
          "Layer 4, Head 11",
          "Layer 5, Head 0",
          "Layer 5, Head 1",
          "Layer 5, Head 2",
          "Layer 5, Head 3",
          "Layer 5, Head 4",
          "Layer 5, Head 5",
          "Layer 5, Head 6",
          "Layer 5, Head 7",
          "Layer 5, Head 8",
          "Layer 5, Head 9",
          "Layer 5, Head 10",
          "Layer 5, Head 11",
          "Layer 6, Head 0",
          "Layer 6, Head 1",
          "Layer 6, Head 2",
          "Layer 6, Head 3",
          "Layer 6, Head 4",
          "Layer 6, Head 5",
          "Layer 6, Head 6",
          "Layer 6, Head 7",
          "Layer 6, Head 8",
          "Layer 6, Head 9",
          "Layer 6, Head 10",
          "Layer 6, Head 11",
          "Layer 7, Head 0",
          "Layer 7, Head 1",
          "Layer 7, Head 2",
          "Layer 7, Head 3",
          "Layer 7, Head 4",
          "Layer 7, Head 5",
          "Layer 7, Head 6",
          "Layer 7, Head 7",
          "Layer 7, Head 8",
          "Layer 7, Head 9",
          "Layer 7, Head 10",
          "Layer 7, Head 11",
          "Layer 8, Head 0",
          "Layer 8, Head 1",
          "Layer 8, Head 2",
          "Layer 8, Head 3",
          "Layer 8, Head 4",
          "Layer 8, Head 5",
          "Layer 8, Head 6",
          "Layer 8, Head 7",
          "Layer 8, Head 8",
          "Layer 8, Head 9",
          "Layer 8, Head 10",
          "Layer 8, Head 11",
          "Layer 9, Head 0",
          "Layer 9, Head 1",
          "Layer 9, Head 2",
          "Layer 9, Head 3",
          "Layer 9, Head 4",
          "Layer 9, Head 5",
          "Layer 9, Head 6",
          "Layer 9, Head 7",
          "Layer 9, Head 8",
          "Layer 9, Head 9",
          "Layer 9, Head 10",
          "Layer 9, Head 11",
          "Layer 10, Head 0",
          "Layer 10, Head 1",
          "Layer 10, Head 2",
          "Layer 10, Head 3",
          "Layer 10, Head 4",
          "Layer 10, Head 5",
          "Layer 10, Head 6",
          "Layer 10, Head 7",
          "Layer 10, Head 8",
          "Layer 10, Head 9",
          "Layer 10, Head 10",
          "Layer 10, Head 11",
          "Layer 11, Head 0",
          "Layer 11, Head 1",
          "Layer 11, Head 2",
          "Layer 11, Head 3",
          "Layer 11, Head 4",
          "Layer 11, Head 5",
          "Layer 11, Head 6",
          "Layer 11, Head 7",
          "Layer 11, Head 8",
          "Layer 11, Head 9",
          "Layer 11, Head 10",
          "Layer 11, Head 11"
         ],
         "type": "scatter",
         "x": [
          0.03660503402352333,
          0.028106963261961937,
          0.03754181042313576,
          0.02644418738782406,
          0.024594545364379883,
          0.05192571133375168,
          0.05582299083471298,
          0.04340715333819389,
          0.0314423143863678,
          0.006720009725540876,
          0.018717782571911812,
          0.041098304092884064,
          0.03327453136444092,
          0.0360267199575901,
          0.04235786944627762,
          0.011230934411287308,
          0.014040692709386349,
          0.00961403176188469,
          0.020707733929157257,
          0.026527713984251022,
          0.03287794813513756,
          0.013726763427257538,
          0.022870775312185287,
          0.0056153652258217335,
          0.010153478942811489,
          0.026614002883434296,
          0.00396600179374218,
          0.024885622784495354,
          0.0006321275141090155,
          0.044290587306022644,
          0.07046671956777573,
          0.01590687781572342,
          0.03044908493757248,
          -0.014365780167281628,
          0.055208537727594376,
          0.027219291776418686,
          0.041566118597984314,
          0.029507437720894814,
          0.030065355822443962,
          -0.015484679490327835,
          0.02671094797551632,
          0.013027159497141838,
          0.04085677117109299,
          0.025043893605470657,
          0.01608695089817047,
          0.022836152464151382,
          0.02741633541882038,
          0.02779954858124256,
          0.02562391385436058,
          0.0356968529522419,
          0.03007400408387184,
          0.02893800288438797,
          0.03134975582361221,
          0.027845563367009163,
          0.01544426754117012,
          0.01441540103405714,
          0.03765913471579552,
          0.03625177592039108,
          0.1371299922466278,
          0.04374191537499428,
          -0.031016962602734566,
          0.0488363578915596,
          0.07369682192802429,
          0.06355207413434982,
          0.046376220881938934,
          0.047748979181051254,
          0.06324087828397751,
          0.03520607948303223,
          0.03642779961228371,
          0.08525636792182922,
          0.07446271181106567,
          0.07215942442417145,
          0.07161465287208557,
          0.05381793901324272,
          0.05441389977931976,
          0.02076181210577488,
          0.05677366256713867,
          -0.00841169711202383,
          0.08546644449234009,
          -0.017977459356188774,
          0.022497650235891342,
          0.029555317014455795,
          0.08300894498825073,
          0.03609103709459305,
          0.023449059575796127,
          0.07089756429195404,
          0.04767412692308426,
          -0.029642852023243904,
          -0.026107454672455788,
          -0.02897176519036293,
          0.10812681913375854,
          0.01105410698801279,
          0.01520188245922327,
          0.024332484230399132,
          0.0878591239452362,
          0.007984110154211521,
          0.09434350579977036,
          0.08347124606370926,
          0.06560829281806946,
          0.023108895868062973,
          0.019930627197027206,
          0.08777555078268051,
          0.06801789999008179,
          0.0015042637242004275,
          0.051037948578596115,
          0.0515858419239521,
          0.03624248877167702,
          0.02320150099694729,
          0.10224476456642151,
          0.09176425635814667,
          0.03006253018975258,
          0.08070426434278488,
          0.05160357803106308,
          0.06214159354567528,
          0.05519750341773033,
          0.059114083647727966,
          0.08596057444810867,
          0.027827046811580658,
          0.023701544851064682,
          0.025359179824590683,
          0.08057571202516556,
          0.08265992999076843,
          0.12661956250667572,
          0.01801205612719059,
          0.05272497609257698,
          0.015149522572755814,
          0.04549422860145569,
          0.031072620302438736,
          0.06395259499549866,
          0.07470306009054184,
          0.017554517835378647,
          0.06659937649965286,
          0.10409177094697952,
          0.004372927825897932,
          0.06318085640668869,
          0.08803032338619232,
          -0.00412237411364913,
          -0.021360458806157112,
          0.039348259568214417,
          0.05867680907249451,
          0.021189499646425247,
          0.01663247123360634,
          0.02898014336824417,
          0.09676679223775864
         ],
         "xaxis": "x4",
         "y": [
          -0.01842687837779522,
          -0.015752360224723816,
          -0.026706650853157043,
          -0.02545718289911747,
          -0.025498654693365097,
          -0.014681526459753513,
          -0.026435486972332,
          -0.017489062622189522,
          -0.024603672325611115,
          -0.019477400928735733,
          -0.023369932547211647,
          -0.023934893310070038,
          -0.015278138220310211,
          -0.056242164224386215,
          -0.011900142766535282,
          -0.0021452982909977436,
          -0.009253038093447685,
          -0.0026127812452614307,
          -0.028799032792448997,
          -0.03033231385052204,
          -0.002588866511359811,
          -0.01605648174881935,
          0.001092872116714716,
          -0.009522581472992897,
          -0.01006657350808382,
          -0.027602549642324448,
          -0.010461742989718914,
          -0.025730108842253685,
          -0.010349835269153118,
          -0.037977203726768494,
          -0.058341559022665024,
          -0.02975003980100155,
          -0.02306913025677204,
          -0.005183488130569458,
          -0.06570552289485931,
          -0.02653118222951889,
          -0.04219396412372589,
          -0.028545379638671875,
          -0.029789267107844353,
          -0.0017665133345872164,
          -0.02309511788189411,
          -0.01947818510234356,
          -0.05193019658327103,
          -0.005224942695349455,
          -0.009924755431711674,
          -0.02544054202735424,
          -0.02113279141485691,
          -0.023631572723388672,
          -0.008425556123256683,
          -0.024769196286797523,
          -0.01163813378661871,
          -0.03375709801912308,
          -0.016926158219575882,
          -0.029299108311533928,
          -0.014293200336396694,
          -0.04625846818089485,
          -0.004148294683545828,
          -0.026604536920785904,
          -0.04686193913221359,
          -0.02725430391728878,
          0.01660625822842121,
          -0.05549918860197067,
          -0.03157670795917511,
          -0.034029096364974976,
          -0.03636247292160988,
          -0.01768525131046772,
          -0.01973154954612255,
          -0.010483904741704464,
          -0.0497998483479023,
          -0.02812991291284561,
          -0.023733241483569145,
          -0.020185140892863274,
          -0.05849304050207138,
          -0.0427655428647995,
          -0.024369612336158752,
          -0.009357349015772343,
          -0.025559626519680023,
          -0.0016531767323613167,
          -0.02874138578772545,
          0.007515330333262682,
          -0.008285142481327057,
          -0.024777283892035484,
          -0.034687589854002,
          -0.022390028461813927,
          -0.011214316822588444,
          -0.054305996745824814,
          -0.01705107092857361,
          0.006093663163483143,
          0.012368817813694477,
          0.006266769487410784,
          -0.07475703954696655,
          -0.01341327466070652,
          -0.005057849455624819,
          -0.01299670897424221,
          -0.021424219012260437,
          -0.0014444004045799375,
          -0.05509094521403313,
          -0.06563349068164825,
          -0.03586866706609726,
          -0.005689823068678379,
          -0.010793172754347324,
          -0.08708816021680832,
          -0.03325521573424339,
          -0.004088219255208969,
          -0.01001545786857605,
          -0.021539924666285515,
          -0.013395614922046661,
          -0.011933556757867336,
          -0.05470889434218407,
          -0.025192923843860626,
          -0.011934971436858177,
          -0.04451589658856392,
          -0.03133036196231842,
          -0.009785383939743042,
          -0.03151218593120575,
          -0.03677184134721756,
          -0.07186354696750641,
          -0.013588781468570232,
          -0.007075481582432985,
          -0.016325343400239944,
          -0.017629288136959076,
          -0.018887152895331383,
          -0.05291573330760002,
          -0.005305248312652111,
          -0.011097117327153683,
          -0.0009551197290420532,
          -0.011790887452661991,
          -0.006756254006177187,
          -0.012270710431039333,
          -0.033517878502607346,
          -0.005317783448845148,
          -0.027901044115424156,
          -0.0264829620718956,
          -0.002613535849377513,
          -0.008753427304327488,
          -0.010255511850118637,
          0.0013199596432968974,
          0.0031189178116619587,
          0.0043943822383880615,
          0.0029828911647200584,
          0.011480635963380337,
          0.001622057636268437,
          0.002166497753933072,
          -0.012680270709097385
         ],
         "yaxis": "y4"
        },
        {
         "line": {
          "color": "grey",
          "dash": "dot"
         },
         "mode": "lines",
         "name": "Y=-X",
         "type": "scatter",
         "x": [
          -0.4,
          0.4
         ],
         "xaxis": "x4",
         "y": [
          0.4,
          -0.4
         ],
         "yaxis": "y4"
        },
        {
         "marker": {
          "color": [
           0,
           0,
           0,
           0,
           0,
           0,
           0,
           0,
           0,
           0,
           0,
           0,
           1,
           1,
           1,
           1,
           1,
           1,
           1,
           1,
           1,
           1,
           1,
           1,
           2,
           2,
           2,
           2,
           2,
           2,
           2,
           2,
           2,
           2,
           2,
           2,
           3,
           3,
           3,
           3,
           3,
           3,
           3,
           3,
           3,
           3,
           3,
           3,
           4,
           4,
           4,
           4,
           4,
           4,
           4,
           4,
           4,
           4,
           4,
           4,
           5,
           5,
           5,
           5,
           5,
           5,
           5,
           5,
           5,
           5,
           5,
           5,
           6,
           6,
           6,
           6,
           6,
           6,
           6,
           6,
           6,
           6,
           6,
           6,
           7,
           7,
           7,
           7,
           7,
           7,
           7,
           7,
           7,
           7,
           7,
           7,
           8,
           8,
           8,
           8,
           8,
           8,
           8,
           8,
           8,
           8,
           8,
           8,
           9,
           9,
           9,
           9,
           9,
           9,
           9,
           9,
           9,
           9,
           9,
           9,
           10,
           10,
           10,
           10,
           10,
           10,
           10,
           10,
           10,
           10,
           10,
           10,
           11,
           11,
           11,
           11,
           11,
           11,
           11,
           11,
           11,
           11,
           11,
           11
          ],
          "colorbar": {
           "orientation": "h",
           "title": {
            "text": "Layer"
           }
          },
          "colorscale": [
           [
            0,
            "#440154"
           ],
           [
            0.1111111111111111,
            "#482878"
           ],
           [
            0.2222222222222222,
            "#3e4989"
           ],
           [
            0.3333333333333333,
            "#31688e"
           ],
           [
            0.4444444444444444,
            "#26828e"
           ],
           [
            0.5555555555555556,
            "#1f9e89"
           ],
           [
            0.6666666666666666,
            "#35b779"
           ],
           [
            0.7777777777777778,
            "#6ece58"
           ],
           [
            0.8888888888888888,
            "#b5de2b"
           ],
           [
            1,
            "#fde725"
           ]
          ],
          "line": {
           "color": "DarkSlateGrey",
           "width": 0.5
          },
          "opacity": 0.8,
          "size": 8
         },
         "mode": "markers",
         "name": "Attention Heads",
         "text": [
          "Layer 0, Head 0",
          "Layer 0, Head 1",
          "Layer 0, Head 2",
          "Layer 0, Head 3",
          "Layer 0, Head 4",
          "Layer 0, Head 5",
          "Layer 0, Head 6",
          "Layer 0, Head 7",
          "Layer 0, Head 8",
          "Layer 0, Head 9",
          "Layer 0, Head 10",
          "Layer 0, Head 11",
          "Layer 1, Head 0",
          "Layer 1, Head 1",
          "Layer 1, Head 2",
          "Layer 1, Head 3",
          "Layer 1, Head 4",
          "Layer 1, Head 5",
          "Layer 1, Head 6",
          "Layer 1, Head 7",
          "Layer 1, Head 8",
          "Layer 1, Head 9",
          "Layer 1, Head 10",
          "Layer 1, Head 11",
          "Layer 2, Head 0",
          "Layer 2, Head 1",
          "Layer 2, Head 2",
          "Layer 2, Head 3",
          "Layer 2, Head 4",
          "Layer 2, Head 5",
          "Layer 2, Head 6",
          "Layer 2, Head 7",
          "Layer 2, Head 8",
          "Layer 2, Head 9",
          "Layer 2, Head 10",
          "Layer 2, Head 11",
          "Layer 3, Head 0",
          "Layer 3, Head 1",
          "Layer 3, Head 2",
          "Layer 3, Head 3",
          "Layer 3, Head 4",
          "Layer 3, Head 5",
          "Layer 3, Head 6",
          "Layer 3, Head 7",
          "Layer 3, Head 8",
          "Layer 3, Head 9",
          "Layer 3, Head 10",
          "Layer 3, Head 11",
          "Layer 4, Head 0",
          "Layer 4, Head 1",
          "Layer 4, Head 2",
          "Layer 4, Head 3",
          "Layer 4, Head 4",
          "Layer 4, Head 5",
          "Layer 4, Head 6",
          "Layer 4, Head 7",
          "Layer 4, Head 8",
          "Layer 4, Head 9",
          "Layer 4, Head 10",
          "Layer 4, Head 11",
          "Layer 5, Head 0",
          "Layer 5, Head 1",
          "Layer 5, Head 2",
          "Layer 5, Head 3",
          "Layer 5, Head 4",
          "Layer 5, Head 5",
          "Layer 5, Head 6",
          "Layer 5, Head 7",
          "Layer 5, Head 8",
          "Layer 5, Head 9",
          "Layer 5, Head 10",
          "Layer 5, Head 11",
          "Layer 6, Head 0",
          "Layer 6, Head 1",
          "Layer 6, Head 2",
          "Layer 6, Head 3",
          "Layer 6, Head 4",
          "Layer 6, Head 5",
          "Layer 6, Head 6",
          "Layer 6, Head 7",
          "Layer 6, Head 8",
          "Layer 6, Head 9",
          "Layer 6, Head 10",
          "Layer 6, Head 11",
          "Layer 7, Head 0",
          "Layer 7, Head 1",
          "Layer 7, Head 2",
          "Layer 7, Head 3",
          "Layer 7, Head 4",
          "Layer 7, Head 5",
          "Layer 7, Head 6",
          "Layer 7, Head 7",
          "Layer 7, Head 8",
          "Layer 7, Head 9",
          "Layer 7, Head 10",
          "Layer 7, Head 11",
          "Layer 8, Head 0",
          "Layer 8, Head 1",
          "Layer 8, Head 2",
          "Layer 8, Head 3",
          "Layer 8, Head 4",
          "Layer 8, Head 5",
          "Layer 8, Head 6",
          "Layer 8, Head 7",
          "Layer 8, Head 8",
          "Layer 8, Head 9",
          "Layer 8, Head 10",
          "Layer 8, Head 11",
          "Layer 9, Head 0",
          "Layer 9, Head 1",
          "Layer 9, Head 2",
          "Layer 9, Head 3",
          "Layer 9, Head 4",
          "Layer 9, Head 5",
          "Layer 9, Head 6",
          "Layer 9, Head 7",
          "Layer 9, Head 8",
          "Layer 9, Head 9",
          "Layer 9, Head 10",
          "Layer 9, Head 11",
          "Layer 10, Head 0",
          "Layer 10, Head 1",
          "Layer 10, Head 2",
          "Layer 10, Head 3",
          "Layer 10, Head 4",
          "Layer 10, Head 5",
          "Layer 10, Head 6",
          "Layer 10, Head 7",
          "Layer 10, Head 8",
          "Layer 10, Head 9",
          "Layer 10, Head 10",
          "Layer 10, Head 11",
          "Layer 11, Head 0",
          "Layer 11, Head 1",
          "Layer 11, Head 2",
          "Layer 11, Head 3",
          "Layer 11, Head 4",
          "Layer 11, Head 5",
          "Layer 11, Head 6",
          "Layer 11, Head 7",
          "Layer 11, Head 8",
          "Layer 11, Head 9",
          "Layer 11, Head 10",
          "Layer 11, Head 11"
         ],
         "type": "scatter",
         "x": [
          0.02472011186182499,
          0.05376420170068741,
          0.03994455188512802,
          0.02984004095196724,
          0.03302537649869919,
          0.03834977000951767,
          0.05037352815270424,
          0.04238800331950188,
          0.03382636979222298,
          0.01216752640902996,
          0.019789015874266624,
          0.016155673190951347,
          0.018977681174874306,
          0.03930284455418587,
          0.04439118877053261,
          0.014713638462126255,
          -0.0051442780531942844,
          0.012710429728031158,
          0.022432945668697357,
          0.02365308627486229,
          0.07097212225198746,
          0.016061892732977867,
          0.021392980590462685,
          0.002335340017452836,
          0.014074485749006271,
          0.0284879170358181,
          0.007900264114141464,
          0.022850366309285164,
          -0.0032877535559237003,
          0.06476785242557526,
          0.05747728794813156,
          0.016393253579735756,
          0.02214551903307438,
          -0.027466906234622,
          0.042365577071905136,
          0.025463607162237167,
          0.03476107493042946,
          0.02406167984008789,
          0.027323206886649132,
          -0.021771488711237907,
          0.027474524453282356,
          0.011798887513577938,
          0.032293908298015594,
          0.025414012372493744,
          0.009242938831448555,
          0.0195003654807806,
          0.024927638471126556,
          0.02811349369585514,
          0.02447608858346939,
          0.03418096527457237,
          0.02511667273938656,
          0.03031967766582966,
          0.024317480623722076,
          0.025443438440561295,
          0.01097900327295065,
          0.018473995849490166,
          0.028132464736700058,
          0.04275227338075638,
          0.10547427088022232,
          0.025893807411193848,
          -0.03543815016746521,
          0.0510856918990612,
          0.0826219990849495,
          0.06474798917770386,
          0.055563345551490784,
          0.0501314178109169,
          0.058055948466062546,
          0.0375821515917778,
          0.0389103963971138,
          0.06798482686281204,
          0.06251431256532669,
          0.06927598267793655,
          0.09462815523147583,
          0.05134158208966255,
          0.06418353319168091,
          0.011278761550784111,
          0.055158909410238266,
          -0.01139742136001587,
          0.05950729921460152,
          -0.019607238471508026,
          0.037237782031297684,
          0.033234380185604095,
          0.08218581229448318,
          0.05089908093214035,
          0.028612442314624786,
          0.07383350282907486,
          0.07336072623729706,
          -0.05271902307868004,
          -0.05541788786649704,
          -0.010742390528321266,
          0.10622770339250565,
          0.01956784352660179,
          0.01836146041750908,
          0.032465413212776184,
          0.10368184000253677,
          0.0024068180937319994,
          0.08115722239017487,
          0.084435373544693,
          0.07898154109716415,
          0.03683789446949959,
          0.03814813122153282,
          0.10200537741184235,
          0.07003705948591232,
          -0.0012283670948818326,
          0.06572715193033218,
          0.05447838827967644,
          0.05432397499680519,
          0.04598604887723923,
          0.10316351056098938,
          0.09187383949756622,
          0.04508180916309357,
          0.10060177743434906,
          0.06044795364141464,
          0.08486911654472351,
          0.0510902926325798,
          0.06725499033927917,
          0.08179618418216705,
          0.030967338010668755,
          -0.02204246260225773,
          0.028619958087801933,
          0.09771031141281128,
          0.09694177657365799,
          0.1495831459760666,
          0.01853478141129017,
          0.05774903669953346,
          0.025662841275334358,
          0.049723051488399506,
          0.03824271634221077,
          0.06619055569171906,
          0.07782647013664246,
          0.03191818296909332,
          0.08663493394851685,
          0.1190548986196518,
          0.00010955678590107709,
          0.07441649585962296,
          0.08814222365617752,
          0.0028087326791137457,
          -0.02124600112438202,
          0.05191434919834137,
          0.0681798905134201,
          0.030198892578482628,
          0.028358343988656998,
          0.03274184465408325,
          0.11507710814476013
         ],
         "xaxis": "x5",
         "y": [
          -0.022784166038036346,
          -0.03128178045153618,
          -0.057171132415533066,
          -0.05384013429284096,
          -0.029071494936943054,
          -0.013268322683870792,
          -0.020362379029393196,
          -0.01351224910467863,
          -0.03351571038365364,
          -0.036531127989292145,
          -0.03441745415329933,
          -0.025600243359804153,
          -0.020963476970791817,
          -0.06874948740005493,
          -0.008602281101047993,
          -0.007933523505926132,
          -0.016071246936917305,
          -0.008747418411076069,
          -0.04044491797685623,
          -0.042133595794439316,
          -0.0020596878603100777,
          -0.032457925379276276,
          -0.002311526797711849,
          -0.015915390104055405,
          -0.01781925931572914,
          -0.05303170904517174,
          -0.01746447943150997,
          -0.02936314232647419,
          -0.01565745659172535,
          -0.04791141301393509,
          -0.04888778179883957,
          -0.04833473637700081,
          -0.022879039868712425,
          -0.0006001756410114467,
          -0.06835108995437622,
          -0.0377340130507946,
          -0.039224106818437576,
          -0.03225180506706238,
          -0.03623328357934952,
          0.0014090539189055562,
          -0.031940482556819916,
          -0.027177652344107628,
          -0.06156669557094574,
          0.0026007641572505236,
          -0.017343631014227867,
          -0.030395159497857094,
          -0.03330090269446373,
          -0.03857143595814705,
          -0.017184635624289513,
          -0.03280690684914589,
          -0.01715993508696556,
          -0.04658824950456619,
          -0.02877514809370041,
          -0.04579311981797218,
          -0.02235001139342785,
          -0.04148564115166664,
          -0.0024115305859595537,
          -0.04844512417912483,
          -0.032393258064985275,
          -0.040586117655038834,
          0.018115920946002007,
          -0.07539620995521545,
          -0.03681319206953049,
          -0.03641105443239212,
          -0.06511203944683075,
          -0.03433198854327202,
          -0.018559016287326813,
          -0.004017997533082962,
          -0.07864940911531448,
          -0.02664189413189888,
          -0.024902965873479843,
          -0.017996517941355705,
          -0.11386437714099884,
          -0.07105394452810287,
          -0.028834780678153038,
          -0.011115271598100662,
          -0.03955727070569992,
          -0.0016127697890624404,
          -0.01588943786919117,
          0.02435026317834854,
          -0.011833403259515762,
          -0.037984449416399,
          -0.02461354434490204,
          -0.035698581486940384,
          -0.024788878858089447,
          -0.09752298891544342,
          -0.024276163429021835,
          0.00981051754206419,
          0.034363631159067154,
          0.0027186949737370014,
          -0.09362692385911942,
          -0.027533795684576035,
          -0.004857977386564016,
          -0.0194034893065691,
          -0.011053507216274738,
          -0.003005126491189003,
          -0.06446731835603714,
          -0.06606145948171616,
          -0.03494952246546745,
          -0.014571637846529484,
          -0.017258992418646812,
          -0.11584730446338654,
          -0.04649360105395317,
          0.002498032758012414,
          -0.009990504942834377,
          -0.015728658065199852,
          -0.016249122098088264,
          -0.014955556951463223,
          -0.06021599471569061,
          -0.026023952290415764,
          -0.018344245851039886,
          -0.06445875763893127,
          -0.0270437840372324,
          -0.010077793151140213,
          -0.029761994257569313,
          -0.04217764362692833,
          -0.0783068835735321,
          -0.017764607444405556,
          0.02725541591644287,
          -0.019559428095817566,
          -0.02327934093773365,
          -0.017551131546497345,
          -0.060833994299173355,
          -0.008650963194668293,
          -0.01861049421131611,
          -0.007064710836857557,
          -0.012175502255558968,
          -0.009926695376634598,
          -0.013313386589288712,
          -0.03358052670955658,
          -0.007093345746397972,
          -0.0419970266520977,
          -0.03966139256954193,
          -0.002220224356278777,
          -0.015143061988055706,
          -0.019569169729948044,
          -0.0042888871394097805,
          0.0002867774455808103,
          -0.0003808991750702262,
          -0.0022127730771899223,
          0.009449433535337448,
          -0.0009981670882552862,
          0.0009616502793505788,
          -0.018474498763680458
         ],
         "yaxis": "y5"
        },
        {
         "line": {
          "color": "grey",
          "dash": "dot"
         },
         "mode": "lines",
         "name": "Y=-X",
         "type": "scatter",
         "x": [
          -0.4,
          0.4
         ],
         "xaxis": "x5",
         "y": [
          0.4,
          -0.4
         ],
         "yaxis": "y5"
        },
        {
         "marker": {
          "color": [
           0,
           0,
           0,
           0,
           0,
           0,
           0,
           0,
           0,
           0,
           0,
           0,
           1,
           1,
           1,
           1,
           1,
           1,
           1,
           1,
           1,
           1,
           1,
           1,
           2,
           2,
           2,
           2,
           2,
           2,
           2,
           2,
           2,
           2,
           2,
           2,
           3,
           3,
           3,
           3,
           3,
           3,
           3,
           3,
           3,
           3,
           3,
           3,
           4,
           4,
           4,
           4,
           4,
           4,
           4,
           4,
           4,
           4,
           4,
           4,
           5,
           5,
           5,
           5,
           5,
           5,
           5,
           5,
           5,
           5,
           5,
           5,
           6,
           6,
           6,
           6,
           6,
           6,
           6,
           6,
           6,
           6,
           6,
           6,
           7,
           7,
           7,
           7,
           7,
           7,
           7,
           7,
           7,
           7,
           7,
           7,
           8,
           8,
           8,
           8,
           8,
           8,
           8,
           8,
           8,
           8,
           8,
           8,
           9,
           9,
           9,
           9,
           9,
           9,
           9,
           9,
           9,
           9,
           9,
           9,
           10,
           10,
           10,
           10,
           10,
           10,
           10,
           10,
           10,
           10,
           10,
           10,
           11,
           11,
           11,
           11,
           11,
           11,
           11,
           11,
           11,
           11,
           11,
           11
          ],
          "colorbar": {
           "orientation": "h",
           "title": {
            "text": "Layer"
           }
          },
          "colorscale": [
           [
            0,
            "#440154"
           ],
           [
            0.1111111111111111,
            "#482878"
           ],
           [
            0.2222222222222222,
            "#3e4989"
           ],
           [
            0.3333333333333333,
            "#31688e"
           ],
           [
            0.4444444444444444,
            "#26828e"
           ],
           [
            0.5555555555555556,
            "#1f9e89"
           ],
           [
            0.6666666666666666,
            "#35b779"
           ],
           [
            0.7777777777777778,
            "#6ece58"
           ],
           [
            0.8888888888888888,
            "#b5de2b"
           ],
           [
            1,
            "#fde725"
           ]
          ],
          "line": {
           "color": "DarkSlateGrey",
           "width": 0.5
          },
          "opacity": 0.8,
          "size": 8
         },
         "mode": "markers",
         "name": "Attention Heads",
         "text": [
          "Layer 0, Head 0",
          "Layer 0, Head 1",
          "Layer 0, Head 2",
          "Layer 0, Head 3",
          "Layer 0, Head 4",
          "Layer 0, Head 5",
          "Layer 0, Head 6",
          "Layer 0, Head 7",
          "Layer 0, Head 8",
          "Layer 0, Head 9",
          "Layer 0, Head 10",
          "Layer 0, Head 11",
          "Layer 1, Head 0",
          "Layer 1, Head 1",
          "Layer 1, Head 2",
          "Layer 1, Head 3",
          "Layer 1, Head 4",
          "Layer 1, Head 5",
          "Layer 1, Head 6",
          "Layer 1, Head 7",
          "Layer 1, Head 8",
          "Layer 1, Head 9",
          "Layer 1, Head 10",
          "Layer 1, Head 11",
          "Layer 2, Head 0",
          "Layer 2, Head 1",
          "Layer 2, Head 2",
          "Layer 2, Head 3",
          "Layer 2, Head 4",
          "Layer 2, Head 5",
          "Layer 2, Head 6",
          "Layer 2, Head 7",
          "Layer 2, Head 8",
          "Layer 2, Head 9",
          "Layer 2, Head 10",
          "Layer 2, Head 11",
          "Layer 3, Head 0",
          "Layer 3, Head 1",
          "Layer 3, Head 2",
          "Layer 3, Head 3",
          "Layer 3, Head 4",
          "Layer 3, Head 5",
          "Layer 3, Head 6",
          "Layer 3, Head 7",
          "Layer 3, Head 8",
          "Layer 3, Head 9",
          "Layer 3, Head 10",
          "Layer 3, Head 11",
          "Layer 4, Head 0",
          "Layer 4, Head 1",
          "Layer 4, Head 2",
          "Layer 4, Head 3",
          "Layer 4, Head 4",
          "Layer 4, Head 5",
          "Layer 4, Head 6",
          "Layer 4, Head 7",
          "Layer 4, Head 8",
          "Layer 4, Head 9",
          "Layer 4, Head 10",
          "Layer 4, Head 11",
          "Layer 5, Head 0",
          "Layer 5, Head 1",
          "Layer 5, Head 2",
          "Layer 5, Head 3",
          "Layer 5, Head 4",
          "Layer 5, Head 5",
          "Layer 5, Head 6",
          "Layer 5, Head 7",
          "Layer 5, Head 8",
          "Layer 5, Head 9",
          "Layer 5, Head 10",
          "Layer 5, Head 11",
          "Layer 6, Head 0",
          "Layer 6, Head 1",
          "Layer 6, Head 2",
          "Layer 6, Head 3",
          "Layer 6, Head 4",
          "Layer 6, Head 5",
          "Layer 6, Head 6",
          "Layer 6, Head 7",
          "Layer 6, Head 8",
          "Layer 6, Head 9",
          "Layer 6, Head 10",
          "Layer 6, Head 11",
          "Layer 7, Head 0",
          "Layer 7, Head 1",
          "Layer 7, Head 2",
          "Layer 7, Head 3",
          "Layer 7, Head 4",
          "Layer 7, Head 5",
          "Layer 7, Head 6",
          "Layer 7, Head 7",
          "Layer 7, Head 8",
          "Layer 7, Head 9",
          "Layer 7, Head 10",
          "Layer 7, Head 11",
          "Layer 8, Head 0",
          "Layer 8, Head 1",
          "Layer 8, Head 2",
          "Layer 8, Head 3",
          "Layer 8, Head 4",
          "Layer 8, Head 5",
          "Layer 8, Head 6",
          "Layer 8, Head 7",
          "Layer 8, Head 8",
          "Layer 8, Head 9",
          "Layer 8, Head 10",
          "Layer 8, Head 11",
          "Layer 9, Head 0",
          "Layer 9, Head 1",
          "Layer 9, Head 2",
          "Layer 9, Head 3",
          "Layer 9, Head 4",
          "Layer 9, Head 5",
          "Layer 9, Head 6",
          "Layer 9, Head 7",
          "Layer 9, Head 8",
          "Layer 9, Head 9",
          "Layer 9, Head 10",
          "Layer 9, Head 11",
          "Layer 10, Head 0",
          "Layer 10, Head 1",
          "Layer 10, Head 2",
          "Layer 10, Head 3",
          "Layer 10, Head 4",
          "Layer 10, Head 5",
          "Layer 10, Head 6",
          "Layer 10, Head 7",
          "Layer 10, Head 8",
          "Layer 10, Head 9",
          "Layer 10, Head 10",
          "Layer 10, Head 11",
          "Layer 11, Head 0",
          "Layer 11, Head 1",
          "Layer 11, Head 2",
          "Layer 11, Head 3",
          "Layer 11, Head 4",
          "Layer 11, Head 5",
          "Layer 11, Head 6",
          "Layer 11, Head 7",
          "Layer 11, Head 8",
          "Layer 11, Head 9",
          "Layer 11, Head 10",
          "Layer 11, Head 11"
         ],
         "type": "scatter",
         "x": [
          0.012857251800596714,
          0.04663245752453804,
          0.04276076331734657,
          0.024832438677549362,
          0.051328595727682114,
          0.04089020937681198,
          0.04865647107362747,
          0.021856650710105896,
          0.03418117016553879,
          0.025798656046390533,
          0.020172318443655968,
          0.02271808497607708,
          0.010972453281283379,
          0.034110017120838165,
          0.0432179756462574,
          0.023817546665668488,
          0.013317924924194813,
          0.012780910357832909,
          0.023917708545923233,
          0.022709829732775688,
          0.13257820904254913,
          0.018376827239990234,
          0.020769847556948662,
          0.0062074121087789536,
          0.01592940092086792,
          0.03441966325044632,
          0.011678781360387802,
          0.01996448263525963,
          0.002538250060752034,
          0.07501072436571121,
          0.040243618190288544,
          0.018001416698098183,
          0.012667391449213028,
          -0.020950909703969955,
          0.02749502658843994,
          0.022285232320427895,
          0.0244479700922966,
          0.016741082072257996,
          0.019632043316960335,
          -0.019301746040582657,
          0.027017580345273018,
          0.012861227616667747,
          0.026148555800318718,
          0.024694835767149925,
          0.007360788527876139,
          0.017281420528888702,
          0.028888186439871788,
          0.03159896656870842,
          0.03646928817033768,
          0.02792932838201523,
          0.023903176188468933,
          0.025434229522943497,
          0.017509208992123604,
          0.023671496659517288,
          0.012503447011113167,
          0.02429126761853695,
          0.0325905941426754,
          0.04324531927704811,
          0.07879681885242462,
          0.017180459573864937,
          -0.025584932416677475,
          0.04456792026758194,
          0.08265110105276108,
          0.05308686941862106,
          0.04328065365552902,
          0.05403974652290344,
          0.05008687078952789,
          0.02231680043041706,
          0.03563142195343971,
          0.05699920654296875,
          0.03646218404173851,
          0.06460323929786682,
          0.11676483601331711,
          0.04905814304947853,
          0.08216965943574905,
          0.022566726431250572,
          0.049184005707502365,
          -0.0074877310544252396,
          0.03484590724110603,
          -0.02151935175061226,
          0.04594772681593895,
          0.038208745419979095,
          0.050039079040288925,
          0.03170749545097351,
          0.030496081337332726,
          0.07807321846485138,
          0.0701785534620285,
          -0.056440047919750214,
          -0.025207050144672394,
          0.013444035314023495,
          0.06772951036691666,
          0.027433589100837708,
          0.03294463828206062,
          0.05751500278711319,
          0.08975528925657272,
          -0.0028061841148883104,
          0.06559395045042038,
          0.083296999335289,
          0.09352200478315353,
          0.054906636476516724,
          0.04438955336809158,
          0.12055703997612,
          0.06343983113765717,
          0.01752854324877262,
          0.07780251652002335,
          0.05318353325128555,
          0.056956782937049866,
          0.04927497357130051,
          0.0968126580119133,
          0.08989433944225311,
          0.0446191169321537,
          0.1102810874581337,
          0.06376088410615921,
          0.09751102328300476,
          0.048796962946653366,
          0.07248524576425552,
          0.08263741433620453,
          0.03406064212322235,
          -0.033656053245067596,
          0.036807745695114136,
          0.0945836678147316,
          0.10067795217037201,
          0.15394367277622223,
          0.02149771712720394,
          0.08733886480331421,
          0.03544944152235985,
          0.04923245683312416,
          0.0341220423579216,
          0.06724561005830765,
          0.06192280724644661,
          0.035437457263469696,
          0.10944294184446335,
          0.1224304661154747,
          0.005448778625577688,
          0.07292971014976501,
          0.08261603116989136,
          0.00567282922565937,
          0.003059766720980406,
          0.06245157867670059,
          0.07098481059074402,
          0.033363040536642075,
          0.02717592753469944,
          0.03724086657166481,
          0.11421537399291992
         ],
         "xaxis": "x6",
         "y": [
          -0.03071686252951622,
          -0.02927289716899395,
          -0.07095268368721008,
          -0.10199889540672302,
          -0.023071257397532463,
          -0.020696716383099556,
          -0.02179844304919243,
          -0.013931101188063622,
          -0.048445120453834534,
          -0.06412521749734879,
          -0.05395356938242912,
          -0.03936505317687988,
          -0.022106340155005455,
          -0.06076060235500336,
          -0.006394010037183762,
          -0.0148996626958251,
          -0.018630150705575943,
          -0.017073893919587135,
          -0.02869306318461895,
          -0.034639593213796616,
          -0.008980418555438519,
          -0.04155811667442322,
          -0.0063626267947256565,
          -0.02858368121087551,
          -0.0254683755338192,
          -0.06976873427629471,
          -0.021560873836278915,
          -0.034607045352458954,
          -0.019672764465212822,
          -0.06436396390199661,
          -0.03951118513941765,
          -0.05685507878661156,
          -0.01847011223435402,
          0.006933198310434818,
          -0.053491998463869095,
          -0.04259710758924484,
          -0.03707118704915047,
          -0.04026930406689644,
          -0.026856759563088417,
          -0.008003181777894497,
          -0.0383269339799881,
          -0.037546057254076004,
          -0.05722725763916969,
          0.008275994099676609,
          -0.02077315002679825,
          -0.030871393159031868,
          -0.032172176986932755,
          -0.04619859904050827,
          -0.030008478090167046,
          -0.043626315891742706,
          -0.02978241816163063,
          -0.05426514521241188,
          -0.04215932637453079,
          -0.060289956629276276,
          -0.027006860822439194,
          -0.05105524882674217,
          -0.0068923416547477245,
          -0.08472714573144913,
          -0.03199777752161026,
          -0.03585342690348625,
          0.022960733622312546,
          -0.08630375564098358,
          -0.0386723130941391,
          -0.03778866305947304,
          -0.07177220284938812,
          -0.04835306107997894,
          -0.014537882059812546,
          -0.004954425152391195,
          -0.09446877241134644,
          -0.028249450027942657,
          -0.02980349399149418,
          -0.01497610006481409,
          -0.179205521941185,
          -0.09395652264356613,
          -0.03407968580722809,
          -0.017468787729740143,
          -0.06213618069887161,
          -0.0021216943860054016,
          -0.006862504407763481,
          0.04612334072589874,
          -0.015947075560688972,
          -0.05742983520030975,
          -0.018969904631376266,
          -0.035166554152965546,
          -0.03842933848500252,
          -0.12559643387794495,
          -0.023664889857172966,
          0.017493201419711113,
          0.028352145105600357,
          -0.010510949417948723,
          -0.07040353864431381,
          -0.06444467604160309,
          -0.01274949312210083,
          -0.03707012161612511,
          -0.007032986264675856,
          -0.013669653795659542,
          -0.06973551958799362,
          -0.05875707417726517,
          -0.033562663942575455,
          -0.03322248533368111,
          -0.032012779265642166,
          -0.14415547251701355,
          -0.055343423038721085,
          0.008644802495837212,
          -0.007453969679772854,
          -0.012621056288480759,
          -0.01676938496530056,
          -0.01562309917062521,
          -0.05936431884765625,
          -0.025089861825108528,
          -0.017989061772823334,
          -0.07151088118553162,
          -0.021873604506254196,
          -0.013018948026001453,
          -0.02923361398279667,
          -0.0445982962846756,
          -0.08202031999826431,
          -0.01943434216082096,
          0.03194563090801239,
          -0.02329442836344242,
          -0.025747384876012802,
          -0.017454413697123528,
          -0.06983458995819092,
          -0.012295138090848923,
          -0.024399176239967346,
          -0.013145005330443382,
          -0.012070930562913418,
          -0.013471909798681736,
          -0.015231152065098286,
          -0.029855523258447647,
          -0.010396049357950687,
          -0.05682260915637016,
          -0.057793669402599335,
          -0.0031056394800543785,
          -0.02379811741411686,
          -0.031848207116127014,
          -0.00939345546066761,
          -0.0031530673149973154,
          -0.008553745225071907,
          -0.013664823025465012,
          0.0029432778246700764,
          -0.00365687464363873,
          -0.003559809410944581,
          -0.027526753023266792
         ],
         "yaxis": "y6"
        },
        {
         "line": {
          "color": "grey",
          "dash": "dot"
         },
         "mode": "lines",
         "name": "Y=-X",
         "type": "scatter",
         "x": [
          -0.4,
          0.4
         ],
         "xaxis": "x6",
         "y": [
          0.4,
          -0.4
         ],
         "yaxis": "y6"
        },
        {
         "marker": {
          "color": [
           0,
           0,
           0,
           0,
           0,
           0,
           0,
           0,
           0,
           0,
           0,
           0,
           1,
           1,
           1,
           1,
           1,
           1,
           1,
           1,
           1,
           1,
           1,
           1,
           2,
           2,
           2,
           2,
           2,
           2,
           2,
           2,
           2,
           2,
           2,
           2,
           3,
           3,
           3,
           3,
           3,
           3,
           3,
           3,
           3,
           3,
           3,
           3,
           4,
           4,
           4,
           4,
           4,
           4,
           4,
           4,
           4,
           4,
           4,
           4,
           5,
           5,
           5,
           5,
           5,
           5,
           5,
           5,
           5,
           5,
           5,
           5,
           6,
           6,
           6,
           6,
           6,
           6,
           6,
           6,
           6,
           6,
           6,
           6,
           7,
           7,
           7,
           7,
           7,
           7,
           7,
           7,
           7,
           7,
           7,
           7,
           8,
           8,
           8,
           8,
           8,
           8,
           8,
           8,
           8,
           8,
           8,
           8,
           9,
           9,
           9,
           9,
           9,
           9,
           9,
           9,
           9,
           9,
           9,
           9,
           10,
           10,
           10,
           10,
           10,
           10,
           10,
           10,
           10,
           10,
           10,
           10,
           11,
           11,
           11,
           11,
           11,
           11,
           11,
           11,
           11,
           11,
           11,
           11
          ],
          "colorbar": {
           "orientation": "h",
           "title": {
            "text": "Layer"
           }
          },
          "colorscale": [
           [
            0,
            "#440154"
           ],
           [
            0.1111111111111111,
            "#482878"
           ],
           [
            0.2222222222222222,
            "#3e4989"
           ],
           [
            0.3333333333333333,
            "#31688e"
           ],
           [
            0.4444444444444444,
            "#26828e"
           ],
           [
            0.5555555555555556,
            "#1f9e89"
           ],
           [
            0.6666666666666666,
            "#35b779"
           ],
           [
            0.7777777777777778,
            "#6ece58"
           ],
           [
            0.8888888888888888,
            "#b5de2b"
           ],
           [
            1,
            "#fde725"
           ]
          ],
          "line": {
           "color": "DarkSlateGrey",
           "width": 0.5
          },
          "opacity": 0.8,
          "size": 8
         },
         "mode": "markers",
         "name": "Attention Heads",
         "text": [
          "Layer 0, Head 0",
          "Layer 0, Head 1",
          "Layer 0, Head 2",
          "Layer 0, Head 3",
          "Layer 0, Head 4",
          "Layer 0, Head 5",
          "Layer 0, Head 6",
          "Layer 0, Head 7",
          "Layer 0, Head 8",
          "Layer 0, Head 9",
          "Layer 0, Head 10",
          "Layer 0, Head 11",
          "Layer 1, Head 0",
          "Layer 1, Head 1",
          "Layer 1, Head 2",
          "Layer 1, Head 3",
          "Layer 1, Head 4",
          "Layer 1, Head 5",
          "Layer 1, Head 6",
          "Layer 1, Head 7",
          "Layer 1, Head 8",
          "Layer 1, Head 9",
          "Layer 1, Head 10",
          "Layer 1, Head 11",
          "Layer 2, Head 0",
          "Layer 2, Head 1",
          "Layer 2, Head 2",
          "Layer 2, Head 3",
          "Layer 2, Head 4",
          "Layer 2, Head 5",
          "Layer 2, Head 6",
          "Layer 2, Head 7",
          "Layer 2, Head 8",
          "Layer 2, Head 9",
          "Layer 2, Head 10",
          "Layer 2, Head 11",
          "Layer 3, Head 0",
          "Layer 3, Head 1",
          "Layer 3, Head 2",
          "Layer 3, Head 3",
          "Layer 3, Head 4",
          "Layer 3, Head 5",
          "Layer 3, Head 6",
          "Layer 3, Head 7",
          "Layer 3, Head 8",
          "Layer 3, Head 9",
          "Layer 3, Head 10",
          "Layer 3, Head 11",
          "Layer 4, Head 0",
          "Layer 4, Head 1",
          "Layer 4, Head 2",
          "Layer 4, Head 3",
          "Layer 4, Head 4",
          "Layer 4, Head 5",
          "Layer 4, Head 6",
          "Layer 4, Head 7",
          "Layer 4, Head 8",
          "Layer 4, Head 9",
          "Layer 4, Head 10",
          "Layer 4, Head 11",
          "Layer 5, Head 0",
          "Layer 5, Head 1",
          "Layer 5, Head 2",
          "Layer 5, Head 3",
          "Layer 5, Head 4",
          "Layer 5, Head 5",
          "Layer 5, Head 6",
          "Layer 5, Head 7",
          "Layer 5, Head 8",
          "Layer 5, Head 9",
          "Layer 5, Head 10",
          "Layer 5, Head 11",
          "Layer 6, Head 0",
          "Layer 6, Head 1",
          "Layer 6, Head 2",
          "Layer 6, Head 3",
          "Layer 6, Head 4",
          "Layer 6, Head 5",
          "Layer 6, Head 6",
          "Layer 6, Head 7",
          "Layer 6, Head 8",
          "Layer 6, Head 9",
          "Layer 6, Head 10",
          "Layer 6, Head 11",
          "Layer 7, Head 0",
          "Layer 7, Head 1",
          "Layer 7, Head 2",
          "Layer 7, Head 3",
          "Layer 7, Head 4",
          "Layer 7, Head 5",
          "Layer 7, Head 6",
          "Layer 7, Head 7",
          "Layer 7, Head 8",
          "Layer 7, Head 9",
          "Layer 7, Head 10",
          "Layer 7, Head 11",
          "Layer 8, Head 0",
          "Layer 8, Head 1",
          "Layer 8, Head 2",
          "Layer 8, Head 3",
          "Layer 8, Head 4",
          "Layer 8, Head 5",
          "Layer 8, Head 6",
          "Layer 8, Head 7",
          "Layer 8, Head 8",
          "Layer 8, Head 9",
          "Layer 8, Head 10",
          "Layer 8, Head 11",
          "Layer 9, Head 0",
          "Layer 9, Head 1",
          "Layer 9, Head 2",
          "Layer 9, Head 3",
          "Layer 9, Head 4",
          "Layer 9, Head 5",
          "Layer 9, Head 6",
          "Layer 9, Head 7",
          "Layer 9, Head 8",
          "Layer 9, Head 9",
          "Layer 9, Head 10",
          "Layer 9, Head 11",
          "Layer 10, Head 0",
          "Layer 10, Head 1",
          "Layer 10, Head 2",
          "Layer 10, Head 3",
          "Layer 10, Head 4",
          "Layer 10, Head 5",
          "Layer 10, Head 6",
          "Layer 10, Head 7",
          "Layer 10, Head 8",
          "Layer 10, Head 9",
          "Layer 10, Head 10",
          "Layer 10, Head 11",
          "Layer 11, Head 0",
          "Layer 11, Head 1",
          "Layer 11, Head 2",
          "Layer 11, Head 3",
          "Layer 11, Head 4",
          "Layer 11, Head 5",
          "Layer 11, Head 6",
          "Layer 11, Head 7",
          "Layer 11, Head 8",
          "Layer 11, Head 9",
          "Layer 11, Head 10",
          "Layer 11, Head 11"
         ],
         "type": "scatter",
         "x": [
          0.02275623381137848,
          0.039778560400009155,
          0.026786919683218002,
          0.04605221748352051,
          0.11494122445583344,
          0.02912580594420433,
          0.08552833646535873,
          0.01672598533332348,
          0.05315938591957092,
          0.04410688579082489,
          0.017702026292681694,
          0.019086766988039017,
          -0.0006171842687763274,
          0.0213110763579607,
          0.06219778209924698,
          0.018784938380122185,
          -0.007500442676246166,
          0.0021765476558357477,
          0.02078167162835598,
          0.01645324006676674,
          0.1671563982963562,
          0.01792934350669384,
          0.04224465414881706,
          0.02782781608402729,
          0.02197389304637909,
          0.042788032442331314,
          0.009356711991131306,
          0.01944650150835514,
          0.0019523096270859241,
          0.05820281803607941,
          0.01859506405889988,
          0.017726989462971687,
          0.0031125443056225777,
          -0.03579440712928772,
          0.028110608458518982,
          0.02335750311613083,
          0.015581583604216576,
          0.012124653905630112,
          0.012087089009582996,
          0.021839164197444916,
          0.032202959060668945,
          0.014395100064575672,
          0.02616339549422264,
          0.003155843587592244,
          0.01557251438498497,
          0.021779537200927734,
          0.03096713311970234,
          0.04055366665124893,
          0.05023495480418205,
          0.019735516980290413,
          0.03016624227166176,
          0.024682143703103065,
          0.017565712332725525,
          0.028934014961123466,
          0.02100846916437149,
          0.025302374735474586,
          0.034898728132247925,
          0.04090716317296028,
          0.07336996495723724,
          0.035457219928503036,
          0.0020202978048473597,
          0.04519264027476311,
          0.07422949373722076,
          0.038186948746442795,
          0.03337349370121956,
          0.07851450890302658,
          0.035960160195827484,
          0.011547013185918331,
          0.03528923541307449,
          0.05219097435474396,
          0.021993407979607582,
          0.06224031001329422,
          0.1299651712179184,
          0.04971960559487343,
          0.09653066098690033,
          0.011138774454593658,
          0.043700091540813446,
          -0.008969925343990326,
          0.027700696140527725,
          -0.020352594554424286,
          0.03517650067806244,
          0.046590328216552734,
          0.016219042241573334,
          0.020026609301567078,
          0.03862452134490013,
          0.07578354328870773,
          0.0692736953496933,
          -0.07201173901557922,
          -0.0040094866417348385,
          0.018664376810193062,
          0.04143916070461273,
          0.037885021418333054,
          0.02885768748819828,
          0.08574328571557999,
          0.08201839029788971,
          0.008342305198311806,
          0.057435717433691025,
          0.08681114763021469,
          0.10057825595140457,
          0.08175848424434662,
          0.0804208442568779,
          0.10877002030611038,
          0.07002601027488708,
          0.02757657878100872,
          0.0962563082575798,
          0.061168450862169266,
          0.04976825416088104,
          0.053114671260118484,
          0.09575843811035156,
          0.09844285994768143,
          0.03861141577363014,
          0.12210134416818619,
          0.05479273945093155,
          0.13023638725280762,
          0.046316202729940414,
          0.06683441996574402,
          0.08480262011289597,
          0.031844429671764374,
          -0.007127835415303707,
          0.06260129809379578,
          0.09883497655391693,
          0.11634472012519836,
          0.16962097585201263,
          0.019589660689234734,
          0.10076753050088882,
          0.02166091650724411,
          0.06104908883571625,
          0.03268957883119583,
          0.08053293079137802,
          0.05082261934876442,
          0.02813480980694294,
          0.12892523407936096,
          0.13377875089645386,
          0.004762614145874977,
          0.07399208098649979,
          0.07182025164365768,
          0.0038445154204964638,
          0.01587073691189289,
          0.0849154144525528,
          0.05840308964252472,
          0.015425317920744419,
          0.024497365579009056,
          0.03332170471549034,
          0.02216207981109619
         ],
         "xaxis": "x7",
         "y": [
          -0.044371459633111954,
          -0.02003568597137928,
          -0.07301439344882965,
          -0.12510845065116882,
          -0.022828245535492897,
          -0.030293677002191544,
          -0.040681734681129456,
          -0.028301795944571495,
          -0.06988319754600525,
          -0.0774552971124649,
          -0.05830249935388565,
          -0.07912453263998032,
          -0.016829242929816246,
          -0.044258590787649155,
          -0.002413986250758171,
          -0.01868988201022148,
          -0.014498884789645672,
          -0.012779081240296364,
          -0.02131222002208233,
          -0.01895195059478283,
          -0.018290461972355843,
          -0.03626995533704758,
          -0.013831045478582382,
          -0.053955819457769394,
          -0.026965688914060593,
          -0.07890663295984268,
          -0.017104828730225563,
          -0.031167132779955864,
          -0.017316289246082306,
          -0.058324143290519714,
          -0.02619774453341961,
          -0.05916864797472954,
          -0.012054633349180222,
          0.004633081611245871,
          -0.02806798182427883,
          -0.02951858378946781,
          -0.029145123437047005,
          -0.036160677671432495,
          -0.018097851425409317,
          -0.021697722375392914,
          -0.030998213216662407,
          -0.03897111490368843,
          -0.06843989342451096,
          0.009298299439251423,
          -0.017175883054733276,
          -0.030911533161997795,
          -0.030325889587402344,
          -0.042256470769643784,
          -0.03504021465778351,
          -0.03854503482580185,
          -0.04078185185790062,
          -0.04517896845936775,
          -0.04430043697357178,
          -0.061381738632917404,
          -0.029407350346446037,
          -0.04478447511792183,
          -0.017973707988858223,
          -0.09328246861696243,
          -0.029259633272886276,
          -0.03263450041413307,
          0.02383018471300602,
          -0.07717061042785645,
          -0.03714596480131149,
          -0.038705937564373016,
          -0.06440946459770203,
          -0.05667347460985184,
          -0.007466543931514025,
          -0.008149483241140842,
          -0.08189243823289871,
          -0.03224848955869675,
          -0.038464613258838654,
          -0.014329669997096062,
          -0.18386681377887726,
          -0.09919596463441849,
          -0.026434756815433502,
          -0.030136417597532272,
          -0.06724037230014801,
          -0.0021377408411353827,
          -0.004340074956417084,
          0.05898423492908478,
          -0.021365821361541748,
          -0.057964615523815155,
          -0.02851264178752899,
          -0.035575393587350845,
          -0.053502991795539856,
          -0.11940207332372665,
          -0.022608302533626556,
          0.047589875757694244,
          0.024478361010551453,
          -0.028906358405947685,
          -0.05325803905725479,
          -0.09246273338794708,
          -0.017565811052918434,
          -0.07382508367300034,
          -0.007464531343430281,
          -0.029624052345752716,
          -0.06602388620376587,
          -0.0455840602517128,
          -0.025775246322155,
          -0.04091422259807587,
          -0.06548988074064255,
          -0.12003809213638306,
          -0.0677388608455658,
          -0.006428492721170187,
          -0.006032346747815609,
          -0.009031926281750202,
          -0.01615883782505989,
          -0.016492143273353577,
          -0.05974684655666351,
          -0.02363518439233303,
          -0.01918436586856842,
          -0.06851740181446075,
          -0.016856877133250237,
          -0.0180438831448555,
          -0.02310379408299923,
          -0.03647007793188095,
          -0.06248057261109352,
          -0.017538703978061676,
          0.02544032596051693,
          -0.023297635838389397,
          -0.022908838465809822,
          -0.015644652768969536,
          -0.07522255927324295,
          -0.011696403846144676,
          -0.02283317968249321,
          -0.01169745996594429,
          -0.012636130675673485,
          -0.01564769819378853,
          -0.01806456223130226,
          -0.02253700979053974,
          -0.012013441883027554,
          -0.06629740446805954,
          -0.06619708240032196,
          -0.000965198443736881,
          -0.03323058411478996,
          -0.0345514751970768,
          -0.00990266352891922,
          -0.005254391115158796,
          -0.01271482091397047,
          -0.022796154022216797,
          -0.0037167116533964872,
          -0.007502139545977116,
          -0.00810092780739069,
          -0.018673697486519814
         ],
         "yaxis": "y7"
        },
        {
         "line": {
          "color": "grey",
          "dash": "dot"
         },
         "mode": "lines",
         "name": "Y=-X",
         "type": "scatter",
         "x": [
          -0.4,
          0.4
         ],
         "xaxis": "x7",
         "y": [
          0.4,
          -0.4
         ],
         "yaxis": "y7"
        },
        {
         "marker": {
          "color": [
           0,
           0,
           0,
           0,
           0,
           0,
           0,
           0,
           0,
           0,
           0,
           0,
           1,
           1,
           1,
           1,
           1,
           1,
           1,
           1,
           1,
           1,
           1,
           1,
           2,
           2,
           2,
           2,
           2,
           2,
           2,
           2,
           2,
           2,
           2,
           2,
           3,
           3,
           3,
           3,
           3,
           3,
           3,
           3,
           3,
           3,
           3,
           3,
           4,
           4,
           4,
           4,
           4,
           4,
           4,
           4,
           4,
           4,
           4,
           4,
           5,
           5,
           5,
           5,
           5,
           5,
           5,
           5,
           5,
           5,
           5,
           5,
           6,
           6,
           6,
           6,
           6,
           6,
           6,
           6,
           6,
           6,
           6,
           6,
           7,
           7,
           7,
           7,
           7,
           7,
           7,
           7,
           7,
           7,
           7,
           7,
           8,
           8,
           8,
           8,
           8,
           8,
           8,
           8,
           8,
           8,
           8,
           8,
           9,
           9,
           9,
           9,
           9,
           9,
           9,
           9,
           9,
           9,
           9,
           9,
           10,
           10,
           10,
           10,
           10,
           10,
           10,
           10,
           10,
           10,
           10,
           10,
           11,
           11,
           11,
           11,
           11,
           11,
           11,
           11,
           11,
           11,
           11,
           11
          ],
          "colorbar": {
           "orientation": "h",
           "title": {
            "text": "Layer"
           }
          },
          "colorscale": [
           [
            0,
            "#440154"
           ],
           [
            0.1111111111111111,
            "#482878"
           ],
           [
            0.2222222222222222,
            "#3e4989"
           ],
           [
            0.3333333333333333,
            "#31688e"
           ],
           [
            0.4444444444444444,
            "#26828e"
           ],
           [
            0.5555555555555556,
            "#1f9e89"
           ],
           [
            0.6666666666666666,
            "#35b779"
           ],
           [
            0.7777777777777778,
            "#6ece58"
           ],
           [
            0.8888888888888888,
            "#b5de2b"
           ],
           [
            1,
            "#fde725"
           ]
          ],
          "line": {
           "color": "DarkSlateGrey",
           "width": 0.5
          },
          "opacity": 0.8,
          "size": 8
         },
         "mode": "markers",
         "name": "Attention Heads",
         "text": [
          "Layer 0, Head 0",
          "Layer 0, Head 1",
          "Layer 0, Head 2",
          "Layer 0, Head 3",
          "Layer 0, Head 4",
          "Layer 0, Head 5",
          "Layer 0, Head 6",
          "Layer 0, Head 7",
          "Layer 0, Head 8",
          "Layer 0, Head 9",
          "Layer 0, Head 10",
          "Layer 0, Head 11",
          "Layer 1, Head 0",
          "Layer 1, Head 1",
          "Layer 1, Head 2",
          "Layer 1, Head 3",
          "Layer 1, Head 4",
          "Layer 1, Head 5",
          "Layer 1, Head 6",
          "Layer 1, Head 7",
          "Layer 1, Head 8",
          "Layer 1, Head 9",
          "Layer 1, Head 10",
          "Layer 1, Head 11",
          "Layer 2, Head 0",
          "Layer 2, Head 1",
          "Layer 2, Head 2",
          "Layer 2, Head 3",
          "Layer 2, Head 4",
          "Layer 2, Head 5",
          "Layer 2, Head 6",
          "Layer 2, Head 7",
          "Layer 2, Head 8",
          "Layer 2, Head 9",
          "Layer 2, Head 10",
          "Layer 2, Head 11",
          "Layer 3, Head 0",
          "Layer 3, Head 1",
          "Layer 3, Head 2",
          "Layer 3, Head 3",
          "Layer 3, Head 4",
          "Layer 3, Head 5",
          "Layer 3, Head 6",
          "Layer 3, Head 7",
          "Layer 3, Head 8",
          "Layer 3, Head 9",
          "Layer 3, Head 10",
          "Layer 3, Head 11",
          "Layer 4, Head 0",
          "Layer 4, Head 1",
          "Layer 4, Head 2",
          "Layer 4, Head 3",
          "Layer 4, Head 4",
          "Layer 4, Head 5",
          "Layer 4, Head 6",
          "Layer 4, Head 7",
          "Layer 4, Head 8",
          "Layer 4, Head 9",
          "Layer 4, Head 10",
          "Layer 4, Head 11",
          "Layer 5, Head 0",
          "Layer 5, Head 1",
          "Layer 5, Head 2",
          "Layer 5, Head 3",
          "Layer 5, Head 4",
          "Layer 5, Head 5",
          "Layer 5, Head 6",
          "Layer 5, Head 7",
          "Layer 5, Head 8",
          "Layer 5, Head 9",
          "Layer 5, Head 10",
          "Layer 5, Head 11",
          "Layer 6, Head 0",
          "Layer 6, Head 1",
          "Layer 6, Head 2",
          "Layer 6, Head 3",
          "Layer 6, Head 4",
          "Layer 6, Head 5",
          "Layer 6, Head 6",
          "Layer 6, Head 7",
          "Layer 6, Head 8",
          "Layer 6, Head 9",
          "Layer 6, Head 10",
          "Layer 6, Head 11",
          "Layer 7, Head 0",
          "Layer 7, Head 1",
          "Layer 7, Head 2",
          "Layer 7, Head 3",
          "Layer 7, Head 4",
          "Layer 7, Head 5",
          "Layer 7, Head 6",
          "Layer 7, Head 7",
          "Layer 7, Head 8",
          "Layer 7, Head 9",
          "Layer 7, Head 10",
          "Layer 7, Head 11",
          "Layer 8, Head 0",
          "Layer 8, Head 1",
          "Layer 8, Head 2",
          "Layer 8, Head 3",
          "Layer 8, Head 4",
          "Layer 8, Head 5",
          "Layer 8, Head 6",
          "Layer 8, Head 7",
          "Layer 8, Head 8",
          "Layer 8, Head 9",
          "Layer 8, Head 10",
          "Layer 8, Head 11",
          "Layer 9, Head 0",
          "Layer 9, Head 1",
          "Layer 9, Head 2",
          "Layer 9, Head 3",
          "Layer 9, Head 4",
          "Layer 9, Head 5",
          "Layer 9, Head 6",
          "Layer 9, Head 7",
          "Layer 9, Head 8",
          "Layer 9, Head 9",
          "Layer 9, Head 10",
          "Layer 9, Head 11",
          "Layer 10, Head 0",
          "Layer 10, Head 1",
          "Layer 10, Head 2",
          "Layer 10, Head 3",
          "Layer 10, Head 4",
          "Layer 10, Head 5",
          "Layer 10, Head 6",
          "Layer 10, Head 7",
          "Layer 10, Head 8",
          "Layer 10, Head 9",
          "Layer 10, Head 10",
          "Layer 10, Head 11",
          "Layer 11, Head 0",
          "Layer 11, Head 1",
          "Layer 11, Head 2",
          "Layer 11, Head 3",
          "Layer 11, Head 4",
          "Layer 11, Head 5",
          "Layer 11, Head 6",
          "Layer 11, Head 7",
          "Layer 11, Head 8",
          "Layer 11, Head 9",
          "Layer 11, Head 10",
          "Layer 11, Head 11"
         ],
         "type": "scatter",
         "x": [
          0.010276311077177525,
          0.04579366743564606,
          0.015733592212200165,
          0.10725803673267365,
          0.10212957113981247,
          0.027093980461359024,
          0.08307493478059769,
          0.06510566920042038,
          0.033192142844200134,
          0.029925988987088203,
          0.02057700604200363,
          0.024523219093680382,
          0.006747837644070387,
          0.007786094211041927,
          -0.025152035057544708,
          0.01796424575150013,
          -0.040207430720329285,
          -0.003607364371418953,
          -0.01353882160037756,
          0.006307448726147413,
          0.05023219436407089,
          0.0212197657674551,
          0.041496798396110535,
          0.041249003261327744,
          0.022934820502996445,
          0.03289850056171417,
          0.007290619425475597,
          0.020248984917998314,
          0.03381572291254997,
          0.004406436812132597,
          0.0019358531571924686,
          0.012633093632757664,
          0.0034750234335660934,
          -0.02338191494345665,
          0.012084513902664185,
          0.01376214250922203,
          0.025530515238642693,
          0.02928542159497738,
          0.021092042326927185,
          0.023764323443174362,
          0.039670903235673904,
          0.023072287440299988,
          0.02903108485043049,
          -0.007957314141094685,
          0.006896907929331064,
          0.028079085052013397,
          0.030304204672574997,
          0.044593214988708496,
          0.047603435814380646,
          0.024231968447566032,
          0.030586743727326393,
          0.033856406807899475,
          0.014850450679659843,
          0.01999392919242382,
          0.047717832028865814,
          0.02786894701421261,
          0.04624653607606888,
          0.04840531945228577,
          0.03302481025457382,
          0.04305737838149071,
          0.009754031896591187,
          0.039267029613256454,
          0.08612828701734543,
          0.02772330306470394,
          0.024536751210689545,
          0.06658561527729034,
          0.01064789667725563,
          0.005464665126055479,
          0.01777736097574234,
          -0.027007341384887695,
          0.014363833703100681,
          0.04092707484960556,
          0.14150215685367584,
          0.08289448171854019,
          0.07688428461551666,
          0.02037653885781765,
          0.08189721405506134,
          0.004147153347730637,
          -0.006157652009278536,
          -0.017237212508916855,
          0.05724000930786133,
          0.014432047493755817,
          -0.01459555048495531,
          -0.019125618040561676,
          0.02971990406513214,
          0.08346258103847504,
          0.03409435227513313,
          -0.09403246641159058,
          -0.03628776967525482,
          0.028333544731140137,
          0.027752364054322243,
          0.08370858430862427,
          0.08287090808153152,
          0.17573541402816772,
          0.17598587274551392,
          -0.006136114243417978,
          0.05637717247009277,
          0.05288541316986084,
          0.12772119045257568,
          0.12022317200899124,
          0.09181904047727585,
          0.09357847273349762,
          0.08131475746631622,
          0.01878015510737896,
          0.02891533449292183,
          0.12109698355197906,
          0.014263740740716457,
          0.05256643146276474,
          0.017341293394565582,
          0.156370148062706,
          -0.06564512103796005,
          0.15368938446044922,
          0.021094949916005135,
          0.16791890561580658,
          0.06341881304979324,
          0.075193390250206,
          0.11056269705295563,
          -0.019567353650927544,
          0.008573764003813267,
          0.0737999826669693,
          0.04998273774981499,
          0.14406873285770416,
          0.06587313860654831,
          0.02043178491294384,
          0.027700908482074738,
          0.019519207999110222,
          0.02196500450372696,
          -0.02171776443719864,
          0.09843732416629791,
          -0.04049892723560333,
          -0.0005946654127910733,
          0.15121060609817505,
          0.07553677260875702,
          0.006011391524225473,
          0.038531847298145294,
          0.04892127588391304,
          0.00438639335334301,
          0.056664567440748215,
          0.018506672233343124,
          0.01786612719297409,
          0.001676987623795867,
          0.010643607936799526,
          0.013536728918552399,
          0.019119765609502792
         ],
         "xaxis": "x8",
         "y": [
          -0.0670507475733757,
          -0.03797432780265808,
          -0.0795898512005806,
          -0.1419948786497116,
          -0.03265402466058731,
          -0.06668144464492798,
          -0.04371332749724388,
          -0.03699116036295891,
          -0.1180332601070404,
          -0.10285506397485733,
          -0.07006683945655823,
          -0.14261695742607117,
          -0.018070438876748085,
          -0.042548663914203644,
          -0.004338626749813557,
          -0.027391040697693825,
          -0.014800824224948883,
          -0.02479826658964157,
          -0.03023918904364109,
          -0.026982523500919342,
          -0.048079174011945724,
          -0.04121736064553261,
          -0.020357836037874222,
          -0.06767278909683228,
          -0.04398006573319435,
          -0.1153281107544899,
          -0.022788671776652336,
          -0.04422793537378311,
          -0.025076165795326233,
          -0.06562002748250961,
          -0.04233108460903168,
          -0.06944265216588974,
          -0.016801854595541954,
          0.006892230827361345,
          -0.0323701836168766,
          -0.030226221308112144,
          -0.051565274596214294,
          -0.04758298024535179,
          -0.028493352234363556,
          -0.03753650560975075,
          -0.05154525861144066,
          -0.058800891041755676,
          -0.09575042128562927,
          0.0185745507478714,
          -0.028234289959073067,
          -0.04222264140844345,
          -0.03849661722779274,
          -0.052919652312994,
          -0.043729305267333984,
          -0.04678674042224884,
          -0.05596078932285309,
          -0.07572203129529953,
          -0.051139432936906815,
          -0.07463523000478745,
          -0.03829166665673256,
          -0.036720797419548035,
          -0.027836307883262634,
          -0.1187235489487648,
          -0.049356769770383835,
          -0.027815142646431923,
          0.04062619060277939,
          -0.08469850569963455,
          -0.053329918533563614,
          -0.03625816851854324,
          -0.0899166688323021,
          -0.07295791059732437,
          -0.014331497251987457,
          -0.009585630148649216,
          -0.08989536017179489,
          -0.03184140846133232,
          -0.04970936477184296,
          -0.019713295623660088,
          -0.2049325853586197,
          -0.07629503309726715,
          -0.017024647444486618,
          -0.04608795419335365,
          -0.08638576418161392,
          -0.006105506327003241,
          0.004975468851625919,
          0.05865795537829399,
          -0.034563641995191574,
          -0.0650310218334198,
          -0.05043920874595642,
          -0.033884044736623764,
          -0.05706809088587761,
          -0.12737008929252625,
          -0.006749836262315512,
          0.03782809153199196,
          0.01317326445132494,
          -0.03797529265284538,
          -0.06088411435484886,
          -0.08752967417240143,
          -0.03987341374158859,
          -0.1307598203420639,
          -0.01646653190255165,
          -0.03883335366845131,
          -0.04406602308154106,
          -0.03054847940802574,
          -0.017302490770816803,
          -0.06641463935375214,
          -0.0715947076678276,
          -0.13537901639938354,
          -0.07573714107275009,
          -0.014367079362273216,
          0.00011263745545875281,
          -0.01699090749025345,
          -0.011770741082727909,
          -0.027466729283332825,
          -0.04503051936626434,
          -0.04015491530299187,
          -0.007160704582929611,
          -0.13098537921905518,
          -0.00301564228720963,
          -0.036831531673669815,
          -0.03498069569468498,
          -0.03006659634411335,
          -0.08991827070713043,
          -0.0068947928957641125,
          -0.0027398003730922937,
          -0.020508786663413048,
          -0.009988880716264248,
          -0.0619523711502552,
          -0.06981340050697327,
          -0.007309309672564268,
          -0.005430735182017088,
          -0.007317584939301014,
          -0.013887559995055199,
          -0.0007759116124361753,
          -0.03913673385977745,
          -0.0016221569385379553,
          -0.005242288578301668,
          -0.08610004931688309,
          -0.03330377861857414,
          -0.005736235063523054,
          -0.024202970787882805,
          -0.02506684884428978,
          -0.012708724476397038,
          -0.09063366800546646,
          -0.0026345192454755306,
          -0.011834647506475449,
          -0.003490519244223833,
          -0.002442307770252228,
          -0.004440318793058395,
          -0.01232412550598383
         ],
         "yaxis": "y8"
        },
        {
         "line": {
          "color": "grey",
          "dash": "dot"
         },
         "mode": "lines",
         "name": "Y=-X",
         "type": "scatter",
         "x": [
          -0.4,
          0.4
         ],
         "xaxis": "x8",
         "y": [
          0.4,
          -0.4
         ],
         "yaxis": "y8"
        },
        {
         "marker": {
          "color": [
           0,
           0,
           0,
           0,
           0,
           0,
           0,
           0,
           0,
           0,
           0,
           0,
           1,
           1,
           1,
           1,
           1,
           1,
           1,
           1,
           1,
           1,
           1,
           1,
           2,
           2,
           2,
           2,
           2,
           2,
           2,
           2,
           2,
           2,
           2,
           2,
           3,
           3,
           3,
           3,
           3,
           3,
           3,
           3,
           3,
           3,
           3,
           3,
           4,
           4,
           4,
           4,
           4,
           4,
           4,
           4,
           4,
           4,
           4,
           4,
           5,
           5,
           5,
           5,
           5,
           5,
           5,
           5,
           5,
           5,
           5,
           5,
           6,
           6,
           6,
           6,
           6,
           6,
           6,
           6,
           6,
           6,
           6,
           6,
           7,
           7,
           7,
           7,
           7,
           7,
           7,
           7,
           7,
           7,
           7,
           7,
           8,
           8,
           8,
           8,
           8,
           8,
           8,
           8,
           8,
           8,
           8,
           8,
           9,
           9,
           9,
           9,
           9,
           9,
           9,
           9,
           9,
           9,
           9,
           9,
           10,
           10,
           10,
           10,
           10,
           10,
           10,
           10,
           10,
           10,
           10,
           10,
           11,
           11,
           11,
           11,
           11,
           11,
           11,
           11,
           11,
           11,
           11,
           11
          ],
          "colorbar": {
           "orientation": "h",
           "title": {
            "text": "Layer"
           }
          },
          "colorscale": [
           [
            0,
            "#440154"
           ],
           [
            0.1111111111111111,
            "#482878"
           ],
           [
            0.2222222222222222,
            "#3e4989"
           ],
           [
            0.3333333333333333,
            "#31688e"
           ],
           [
            0.4444444444444444,
            "#26828e"
           ],
           [
            0.5555555555555556,
            "#1f9e89"
           ],
           [
            0.6666666666666666,
            "#35b779"
           ],
           [
            0.7777777777777778,
            "#6ece58"
           ],
           [
            0.8888888888888888,
            "#b5de2b"
           ],
           [
            1,
            "#fde725"
           ]
          ],
          "line": {
           "color": "DarkSlateGrey",
           "width": 0.5
          },
          "opacity": 0.8,
          "size": 8
         },
         "mode": "markers",
         "name": "Attention Heads",
         "text": [
          "Layer 0, Head 0",
          "Layer 0, Head 1",
          "Layer 0, Head 2",
          "Layer 0, Head 3",
          "Layer 0, Head 4",
          "Layer 0, Head 5",
          "Layer 0, Head 6",
          "Layer 0, Head 7",
          "Layer 0, Head 8",
          "Layer 0, Head 9",
          "Layer 0, Head 10",
          "Layer 0, Head 11",
          "Layer 1, Head 0",
          "Layer 1, Head 1",
          "Layer 1, Head 2",
          "Layer 1, Head 3",
          "Layer 1, Head 4",
          "Layer 1, Head 5",
          "Layer 1, Head 6",
          "Layer 1, Head 7",
          "Layer 1, Head 8",
          "Layer 1, Head 9",
          "Layer 1, Head 10",
          "Layer 1, Head 11",
          "Layer 2, Head 0",
          "Layer 2, Head 1",
          "Layer 2, Head 2",
          "Layer 2, Head 3",
          "Layer 2, Head 4",
          "Layer 2, Head 5",
          "Layer 2, Head 6",
          "Layer 2, Head 7",
          "Layer 2, Head 8",
          "Layer 2, Head 9",
          "Layer 2, Head 10",
          "Layer 2, Head 11",
          "Layer 3, Head 0",
          "Layer 3, Head 1",
          "Layer 3, Head 2",
          "Layer 3, Head 3",
          "Layer 3, Head 4",
          "Layer 3, Head 5",
          "Layer 3, Head 6",
          "Layer 3, Head 7",
          "Layer 3, Head 8",
          "Layer 3, Head 9",
          "Layer 3, Head 10",
          "Layer 3, Head 11",
          "Layer 4, Head 0",
          "Layer 4, Head 1",
          "Layer 4, Head 2",
          "Layer 4, Head 3",
          "Layer 4, Head 4",
          "Layer 4, Head 5",
          "Layer 4, Head 6",
          "Layer 4, Head 7",
          "Layer 4, Head 8",
          "Layer 4, Head 9",
          "Layer 4, Head 10",
          "Layer 4, Head 11",
          "Layer 5, Head 0",
          "Layer 5, Head 1",
          "Layer 5, Head 2",
          "Layer 5, Head 3",
          "Layer 5, Head 4",
          "Layer 5, Head 5",
          "Layer 5, Head 6",
          "Layer 5, Head 7",
          "Layer 5, Head 8",
          "Layer 5, Head 9",
          "Layer 5, Head 10",
          "Layer 5, Head 11",
          "Layer 6, Head 0",
          "Layer 6, Head 1",
          "Layer 6, Head 2",
          "Layer 6, Head 3",
          "Layer 6, Head 4",
          "Layer 6, Head 5",
          "Layer 6, Head 6",
          "Layer 6, Head 7",
          "Layer 6, Head 8",
          "Layer 6, Head 9",
          "Layer 6, Head 10",
          "Layer 6, Head 11",
          "Layer 7, Head 0",
          "Layer 7, Head 1",
          "Layer 7, Head 2",
          "Layer 7, Head 3",
          "Layer 7, Head 4",
          "Layer 7, Head 5",
          "Layer 7, Head 6",
          "Layer 7, Head 7",
          "Layer 7, Head 8",
          "Layer 7, Head 9",
          "Layer 7, Head 10",
          "Layer 7, Head 11",
          "Layer 8, Head 0",
          "Layer 8, Head 1",
          "Layer 8, Head 2",
          "Layer 8, Head 3",
          "Layer 8, Head 4",
          "Layer 8, Head 5",
          "Layer 8, Head 6",
          "Layer 8, Head 7",
          "Layer 8, Head 8",
          "Layer 8, Head 9",
          "Layer 8, Head 10",
          "Layer 8, Head 11",
          "Layer 9, Head 0",
          "Layer 9, Head 1",
          "Layer 9, Head 2",
          "Layer 9, Head 3",
          "Layer 9, Head 4",
          "Layer 9, Head 5",
          "Layer 9, Head 6",
          "Layer 9, Head 7",
          "Layer 9, Head 8",
          "Layer 9, Head 9",
          "Layer 9, Head 10",
          "Layer 9, Head 11",
          "Layer 10, Head 0",
          "Layer 10, Head 1",
          "Layer 10, Head 2",
          "Layer 10, Head 3",
          "Layer 10, Head 4",
          "Layer 10, Head 5",
          "Layer 10, Head 6",
          "Layer 10, Head 7",
          "Layer 10, Head 8",
          "Layer 10, Head 9",
          "Layer 10, Head 10",
          "Layer 10, Head 11",
          "Layer 11, Head 0",
          "Layer 11, Head 1",
          "Layer 11, Head 2",
          "Layer 11, Head 3",
          "Layer 11, Head 4",
          "Layer 11, Head 5",
          "Layer 11, Head 6",
          "Layer 11, Head 7",
          "Layer 11, Head 8",
          "Layer 11, Head 9",
          "Layer 11, Head 10",
          "Layer 11, Head 11"
         ],
         "type": "scatter",
         "x": [
          0.042363934218883514,
          0.08013368397951126,
          0.025967659428715706,
          0.13380193710327148,
          0.09957255423069,
          0.039116233587265015,
          0.07962941378355026,
          0.09311266988515854,
          0.07450953125953674,
          0.045571547001600266,
          0.03102504275739193,
          0.06877469271421432,
          -0.008935822173953056,
          0.009084487333893776,
          0.0033335238695144653,
          0.03142852708697319,
          -0.05024118348956108,
          0.007478783372789621,
          0.019089581444859505,
          0.009226805530488491,
          0.05838087573647499,
          0.028054771944880486,
          0.024338962510228157,
          0.05282120406627655,
          0.03675699234008789,
          0.07135900110006332,
          0.012074142694473267,
          0.02255646325647831,
          0.022234132513403893,
          0.04953238368034363,
          0.01614893227815628,
          0.030203720554709435,
          0.011555486358702183,
          -0.05475234240293503,
          0.027495797723531723,
          0.008067631162703037,
          0.02778450958430767,
          0.03073486126959324,
          0.02969195507466793,
          0.028745094314217567,
          0.055786896497011185,
          0.026719195768237114,
          0.035932544618844986,
          -0.030759986490011215,
          0.01696738973259926,
          0.028920387849211693,
          0.048928067088127136,
          0.060933079570531845,
          0.07640682905912399,
          0.02464253641664982,
          0.02977559342980385,
          0.040591079741716385,
          0.01612946018576622,
          0.03166407719254494,
          0.03590603545308113,
          0.011237026192247868,
          0.03119264543056488,
          0.06587297469377518,
          0.04361359402537346,
          0.07130860537290573,
          0.013110707513988018,
          0.06247160583734512,
          0.11654772609472275,
          0.0070505389012396336,
          0.042174939066171646,
          0.10703513026237488,
          0.08219248801469803,
          0.0035273206885904074,
          0.03333808854222298,
          0.028712188825011253,
          0.008868892677128315,
          0.025568263605237007,
          0.20240195095539093,
          0.04928603023290634,
          0.06270411610603333,
          0.03355204313993454,
          0.10689512640237808,
          -0.02142876200377941,
          0.010219186544418335,
          -0.03417196124792099,
          0.06411989778280258,
          0.08830296248197556,
          0.006179338321089745,
          0.003077315166592598,
          0.038740724325180054,
          0.07352164387702942,
          0.02717958204448223,
          -0.10188809782266617,
          -0.009598511271178722,
          0.047083497047424316,
          0.04387567564845085,
          0.05251726508140564,
          0.06993125379085541,
          0.1946997046470642,
          0.16215313971042633,
          0.030288944020867348,
          0.06169169768691063,
          0.021097062155604362,
          0.08029714971780777,
          0.2130233496427536,
          0.019567204639315605,
          0.1920442432165146,
          0.0788990780711174,
          0.007507914211601019,
          0.05642477795481682,
          0.14826640486717224,
          0.04255091771483421,
          0.07239776849746704,
          0.11198557913303375,
          0.12007880955934525,
          0.018817046657204628,
          0.03377346321940422,
          0.036566298454999924,
          0.2169341742992401,
          0.03350982069969177,
          0.04063033685088158,
          0.018577368929982185,
          0.014547866769134998,
          -0.04669036716222763,
          0.03349495679140091,
          0.0560305081307888,
          0.06405509263277054,
          0.06959915161132812,
          0.025957034900784492,
          0.024911001324653625,
          0.005858072079718113,
          0.024862173944711685,
          -0.006106855813413858,
          0.056058187037706375,
          0.010630065575242043,
          0.0042777820490300655,
          0.1382749080657959,
          0.0786779373884201,
          -0.0007110333535820246,
          0.033107858151197433,
          0.04898230731487274,
          -0.007174548227339983,
          0.019984805956482887,
          0.03537207469344139,
          0.023920392617583275,
          0.007131108548492193,
          0.018553661182522774,
          0.008161259815096855,
          0.007692839950323105
         ],
         "xaxis": "x9",
         "y": [
          -0.07751151919364929,
          -0.05662618204951286,
          -0.10348629206418991,
          -0.18565654754638672,
          -0.03804973140358925,
          -0.09065665304660797,
          -0.061207666993141174,
          -0.0396285243332386,
          -0.13851405680179596,
          -0.12775184214115143,
          -0.07402154058218002,
          -0.17636623978614807,
          -0.025557177141308784,
          -0.05468142777681351,
          -0.01100768893957138,
          -0.033869192004203796,
          -0.017277948558330536,
          -0.03812320902943611,
          -0.03908925876021385,
          -0.0353686697781086,
          -0.06965108960866928,
          -0.0579155758023262,
          -0.025656625628471375,
          -0.0761551707983017,
          -0.05797173082828522,
          -0.1391851305961609,
          -0.028620464727282524,
          -0.052653007209300995,
          -0.03683580830693245,
          -0.09002888947725296,
          -0.0543927364051342,
          -0.09423761069774628,
          -0.025378743186593056,
          0.0050070518627762794,
          -0.04471885412931442,
          -0.036863867193460464,
          -0.07142196595668793,
          -0.0624396875500679,
          -0.0449054054915905,
          -0.0567854605615139,
          -0.07364112138748169,
          -0.07240211218595505,
          -0.11992445588111877,
          0.03515511378645897,
          -0.03109915740787983,
          -0.05409231781959534,
          -0.05181866139173508,
          -0.07848826050758362,
          -0.06130519509315491,
          -0.055955417454242706,
          -0.06791513413190842,
          -0.09954278916120529,
          -0.06573065370321274,
          -0.0877123549580574,
          -0.046903107315301895,
          -0.04294826462864876,
          -0.042119190096855164,
          -0.1487053781747818,
          -0.05436744913458824,
          -0.03490964695811272,
          0.061333268880844116,
          -0.11416063457727432,
          -0.07406012713909149,
          -0.030890967696905136,
          -0.11848468333482742,
          -0.10966744273900986,
          -0.02520904690027237,
          -0.014414981938898563,
          -0.11207503080368042,
          -0.03475157544016838,
          -0.0576474703848362,
          -0.011319279670715332,
          -0.2809141278266907,
          -0.0982743352651596,
          -0.014749642461538315,
          -0.047437675297260284,
          -0.12473205476999283,
          -0.01245085522532463,
          0.0020968529861420393,
          0.081168033182621,
          -0.047302864491939545,
          -0.08783869445323944,
          -0.05566508695483208,
          -0.023383213207125664,
          -0.045659709721803665,
          -0.10936451703310013,
          -0.006812337785959244,
          0.04990428313612938,
          0.00958334282040596,
          -0.03291426599025726,
          -0.08973955363035202,
          -0.07842660695314407,
          -0.0710006132721901,
          -0.1658136397600174,
          -0.027587227523326874,
          -0.05140858143568039,
          -0.06692873686552048,
          -0.007975085638463497,
          -0.019226767122745514,
          -0.11095175892114639,
          -0.016998691484332085,
          -0.20193026959896088,
          -0.07748416811227798,
          -0.022724835202097893,
          -0.002441821387037635,
          -0.03607030585408211,
          -0.015844576060771942,
          -0.037056341767311096,
          -0.11877287179231644,
          -0.04709610342979431,
          -0.007182606030255556,
          -0.05477874353528023,
          -0.006975091062486172,
          -0.04980714991688728,
          -0.006235161330550909,
          -0.01280017476528883,
          -0.01041979156434536,
          -0.007104960735887289,
          -0.004981732927262783,
          -0.011038505472242832,
          -0.02068471908569336,
          -0.023935416713356972,
          -0.054729118943214417,
          -0.01298785675317049,
          -0.005720790009945631,
          -0.0046482989564538,
          -0.010773923248052597,
          -0.0042875767685472965,
          -0.016585318371653557,
          -0.01975315809249878,
          -0.008942433632910252,
          -0.0862966924905777,
          -0.05506732687354088,
          -0.006056868936866522,
          -0.02774384431540966,
          -0.035596054047346115,
          -0.0058899628929793835,
          -0.16134893894195557,
          -0.014970253221690655,
          -0.01718290150165558,
          -0.007644901052117348,
          -0.009937314316630363,
          -0.00633647944778204,
          -0.014917665161192417
         ],
         "yaxis": "y9"
        },
        {
         "line": {
          "color": "grey",
          "dash": "dot"
         },
         "mode": "lines",
         "name": "Y=-X",
         "type": "scatter",
         "x": [
          -0.4,
          0.4
         ],
         "xaxis": "x9",
         "y": [
          0.4,
          -0.4
         ],
         "yaxis": "y9"
        }
       ],
       "layout": {
        "annotations": [
         {
          "font": {
           "size": 16
          },
          "showarrow": false,
          "text": "Checkpoint 512",
          "x": 0.15,
          "xanchor": "center",
          "xref": "paper",
          "y": 1,
          "yanchor": "bottom",
          "yref": "paper"
         },
         {
          "font": {
           "size": 16
          },
          "showarrow": false,
          "text": "Checkpoint 1000",
          "x": 0.49999999999999994,
          "xanchor": "center",
          "xref": "paper",
          "y": 1,
          "yanchor": "bottom",
          "yref": "paper"
         },
         {
          "font": {
           "size": 16
          },
          "showarrow": false,
          "text": "Checkpoint 2000",
          "x": 0.85,
          "xanchor": "center",
          "xref": "paper",
          "y": 1,
          "yanchor": "bottom",
          "yref": "paper"
         },
         {
          "font": {
           "size": 16
          },
          "showarrow": false,
          "text": "Checkpoint 3000",
          "x": 0.15,
          "xanchor": "center",
          "xref": "paper",
          "y": 0.6499999999999999,
          "yanchor": "bottom",
          "yref": "paper"
         },
         {
          "font": {
           "size": 16
          },
          "showarrow": false,
          "text": "Checkpoint 5000",
          "x": 0.49999999999999994,
          "xanchor": "center",
          "xref": "paper",
          "y": 0.6499999999999999,
          "yanchor": "bottom",
          "yref": "paper"
         },
         {
          "font": {
           "size": 16
          },
          "showarrow": false,
          "text": "Checkpoint 10000",
          "x": 0.85,
          "xanchor": "center",
          "xref": "paper",
          "y": 0.6499999999999999,
          "yanchor": "bottom",
          "yref": "paper"
         },
         {
          "font": {
           "size": 16
          },
          "showarrow": false,
          "text": "Checkpoint 30000",
          "x": 0.15,
          "xanchor": "center",
          "xref": "paper",
          "y": 0.3,
          "yanchor": "bottom",
          "yref": "paper"
         },
         {
          "font": {
           "size": 16
          },
          "showarrow": false,
          "text": "Checkpoint 90000",
          "x": 0.49999999999999994,
          "xanchor": "center",
          "xref": "paper",
          "y": 0.3,
          "yanchor": "bottom",
          "yref": "paper"
         },
         {
          "font": {
           "size": 16
          },
          "showarrow": false,
          "text": "Checkpoint 143000",
          "x": 0.85,
          "xanchor": "center",
          "xref": "paper",
          "y": 0.3,
          "yanchor": "bottom",
          "yref": "paper"
         }
        ],
        "height": 1200,
        "showlegend": false,
        "template": {
         "data": {
          "bar": [
           {
            "error_x": {
             "color": "#2a3f5f"
            },
            "error_y": {
             "color": "#2a3f5f"
            },
            "marker": {
             "line": {
              "color": "#E5ECF6",
              "width": 0.5
             },
             "pattern": {
              "fillmode": "overlay",
              "size": 10,
              "solidity": 0.2
             }
            },
            "type": "bar"
           }
          ],
          "barpolar": [
           {
            "marker": {
             "line": {
              "color": "#E5ECF6",
              "width": 0.5
             },
             "pattern": {
              "fillmode": "overlay",
              "size": 10,
              "solidity": 0.2
             }
            },
            "type": "barpolar"
           }
          ],
          "carpet": [
           {
            "aaxis": {
             "endlinecolor": "#2a3f5f",
             "gridcolor": "white",
             "linecolor": "white",
             "minorgridcolor": "white",
             "startlinecolor": "#2a3f5f"
            },
            "baxis": {
             "endlinecolor": "#2a3f5f",
             "gridcolor": "white",
             "linecolor": "white",
             "minorgridcolor": "white",
             "startlinecolor": "#2a3f5f"
            },
            "type": "carpet"
           }
          ],
          "choropleth": [
           {
            "colorbar": {
             "outlinewidth": 0,
             "ticks": ""
            },
            "type": "choropleth"
           }
          ],
          "contour": [
           {
            "colorbar": {
             "outlinewidth": 0,
             "ticks": ""
            },
            "colorscale": [
             [
              0,
              "#0d0887"
             ],
             [
              0.1111111111111111,
              "#46039f"
             ],
             [
              0.2222222222222222,
              "#7201a8"
             ],
             [
              0.3333333333333333,
              "#9c179e"
             ],
             [
              0.4444444444444444,
              "#bd3786"
             ],
             [
              0.5555555555555556,
              "#d8576b"
             ],
             [
              0.6666666666666666,
              "#ed7953"
             ],
             [
              0.7777777777777778,
              "#fb9f3a"
             ],
             [
              0.8888888888888888,
              "#fdca26"
             ],
             [
              1,
              "#f0f921"
             ]
            ],
            "type": "contour"
           }
          ],
          "contourcarpet": [
           {
            "colorbar": {
             "outlinewidth": 0,
             "ticks": ""
            },
            "type": "contourcarpet"
           }
          ],
          "heatmap": [
           {
            "colorbar": {
             "outlinewidth": 0,
             "ticks": ""
            },
            "colorscale": [
             [
              0,
              "#0d0887"
             ],
             [
              0.1111111111111111,
              "#46039f"
             ],
             [
              0.2222222222222222,
              "#7201a8"
             ],
             [
              0.3333333333333333,
              "#9c179e"
             ],
             [
              0.4444444444444444,
              "#bd3786"
             ],
             [
              0.5555555555555556,
              "#d8576b"
             ],
             [
              0.6666666666666666,
              "#ed7953"
             ],
             [
              0.7777777777777778,
              "#fb9f3a"
             ],
             [
              0.8888888888888888,
              "#fdca26"
             ],
             [
              1,
              "#f0f921"
             ]
            ],
            "type": "heatmap"
           }
          ],
          "heatmapgl": [
           {
            "colorbar": {
             "outlinewidth": 0,
             "ticks": ""
            },
            "colorscale": [
             [
              0,
              "#0d0887"
             ],
             [
              0.1111111111111111,
              "#46039f"
             ],
             [
              0.2222222222222222,
              "#7201a8"
             ],
             [
              0.3333333333333333,
              "#9c179e"
             ],
             [
              0.4444444444444444,
              "#bd3786"
             ],
             [
              0.5555555555555556,
              "#d8576b"
             ],
             [
              0.6666666666666666,
              "#ed7953"
             ],
             [
              0.7777777777777778,
              "#fb9f3a"
             ],
             [
              0.8888888888888888,
              "#fdca26"
             ],
             [
              1,
              "#f0f921"
             ]
            ],
            "type": "heatmapgl"
           }
          ],
          "histogram": [
           {
            "marker": {
             "pattern": {
              "fillmode": "overlay",
              "size": 10,
              "solidity": 0.2
             }
            },
            "type": "histogram"
           }
          ],
          "histogram2d": [
           {
            "colorbar": {
             "outlinewidth": 0,
             "ticks": ""
            },
            "colorscale": [
             [
              0,
              "#0d0887"
             ],
             [
              0.1111111111111111,
              "#46039f"
             ],
             [
              0.2222222222222222,
              "#7201a8"
             ],
             [
              0.3333333333333333,
              "#9c179e"
             ],
             [
              0.4444444444444444,
              "#bd3786"
             ],
             [
              0.5555555555555556,
              "#d8576b"
             ],
             [
              0.6666666666666666,
              "#ed7953"
             ],
             [
              0.7777777777777778,
              "#fb9f3a"
             ],
             [
              0.8888888888888888,
              "#fdca26"
             ],
             [
              1,
              "#f0f921"
             ]
            ],
            "type": "histogram2d"
           }
          ],
          "histogram2dcontour": [
           {
            "colorbar": {
             "outlinewidth": 0,
             "ticks": ""
            },
            "colorscale": [
             [
              0,
              "#0d0887"
             ],
             [
              0.1111111111111111,
              "#46039f"
             ],
             [
              0.2222222222222222,
              "#7201a8"
             ],
             [
              0.3333333333333333,
              "#9c179e"
             ],
             [
              0.4444444444444444,
              "#bd3786"
             ],
             [
              0.5555555555555556,
              "#d8576b"
             ],
             [
              0.6666666666666666,
              "#ed7953"
             ],
             [
              0.7777777777777778,
              "#fb9f3a"
             ],
             [
              0.8888888888888888,
              "#fdca26"
             ],
             [
              1,
              "#f0f921"
             ]
            ],
            "type": "histogram2dcontour"
           }
          ],
          "mesh3d": [
           {
            "colorbar": {
             "outlinewidth": 0,
             "ticks": ""
            },
            "type": "mesh3d"
           }
          ],
          "parcoords": [
           {
            "line": {
             "colorbar": {
              "outlinewidth": 0,
              "ticks": ""
             }
            },
            "type": "parcoords"
           }
          ],
          "pie": [
           {
            "automargin": true,
            "type": "pie"
           }
          ],
          "scatter": [
           {
            "fillpattern": {
             "fillmode": "overlay",
             "size": 10,
             "solidity": 0.2
            },
            "type": "scatter"
           }
          ],
          "scatter3d": [
           {
            "line": {
             "colorbar": {
              "outlinewidth": 0,
              "ticks": ""
             }
            },
            "marker": {
             "colorbar": {
              "outlinewidth": 0,
              "ticks": ""
             }
            },
            "type": "scatter3d"
           }
          ],
          "scattercarpet": [
           {
            "marker": {
             "colorbar": {
              "outlinewidth": 0,
              "ticks": ""
             }
            },
            "type": "scattercarpet"
           }
          ],
          "scattergeo": [
           {
            "marker": {
             "colorbar": {
              "outlinewidth": 0,
              "ticks": ""
             }
            },
            "type": "scattergeo"
           }
          ],
          "scattergl": [
           {
            "marker": {
             "colorbar": {
              "outlinewidth": 0,
              "ticks": ""
             }
            },
            "type": "scattergl"
           }
          ],
          "scattermapbox": [
           {
            "marker": {
             "colorbar": {
              "outlinewidth": 0,
              "ticks": ""
             }
            },
            "type": "scattermapbox"
           }
          ],
          "scatterpolar": [
           {
            "marker": {
             "colorbar": {
              "outlinewidth": 0,
              "ticks": ""
             }
            },
            "type": "scatterpolar"
           }
          ],
          "scatterpolargl": [
           {
            "marker": {
             "colorbar": {
              "outlinewidth": 0,
              "ticks": ""
             }
            },
            "type": "scatterpolargl"
           }
          ],
          "scatterternary": [
           {
            "marker": {
             "colorbar": {
              "outlinewidth": 0,
              "ticks": ""
             }
            },
            "type": "scatterternary"
           }
          ],
          "surface": [
           {
            "colorbar": {
             "outlinewidth": 0,
             "ticks": ""
            },
            "colorscale": [
             [
              0,
              "#0d0887"
             ],
             [
              0.1111111111111111,
              "#46039f"
             ],
             [
              0.2222222222222222,
              "#7201a8"
             ],
             [
              0.3333333333333333,
              "#9c179e"
             ],
             [
              0.4444444444444444,
              "#bd3786"
             ],
             [
              0.5555555555555556,
              "#d8576b"
             ],
             [
              0.6666666666666666,
              "#ed7953"
             ],
             [
              0.7777777777777778,
              "#fb9f3a"
             ],
             [
              0.8888888888888888,
              "#fdca26"
             ],
             [
              1,
              "#f0f921"
             ]
            ],
            "type": "surface"
           }
          ],
          "table": [
           {
            "cells": {
             "fill": {
              "color": "#EBF0F8"
             },
             "line": {
              "color": "white"
             }
            },
            "header": {
             "fill": {
              "color": "#C8D4E3"
             },
             "line": {
              "color": "white"
             }
            },
            "type": "table"
           }
          ]
         },
         "layout": {
          "annotationdefaults": {
           "arrowcolor": "#2a3f5f",
           "arrowhead": 0,
           "arrowwidth": 1
          },
          "autotypenumbers": "strict",
          "coloraxis": {
           "colorbar": {
            "outlinewidth": 0,
            "ticks": ""
           }
          },
          "colorscale": {
           "diverging": [
            [
             0,
             "#8e0152"
            ],
            [
             0.1,
             "#c51b7d"
            ],
            [
             0.2,
             "#de77ae"
            ],
            [
             0.3,
             "#f1b6da"
            ],
            [
             0.4,
             "#fde0ef"
            ],
            [
             0.5,
             "#f7f7f7"
            ],
            [
             0.6,
             "#e6f5d0"
            ],
            [
             0.7,
             "#b8e186"
            ],
            [
             0.8,
             "#7fbc41"
            ],
            [
             0.9,
             "#4d9221"
            ],
            [
             1,
             "#276419"
            ]
           ],
           "sequential": [
            [
             0,
             "#0d0887"
            ],
            [
             0.1111111111111111,
             "#46039f"
            ],
            [
             0.2222222222222222,
             "#7201a8"
            ],
            [
             0.3333333333333333,
             "#9c179e"
            ],
            [
             0.4444444444444444,
             "#bd3786"
            ],
            [
             0.5555555555555556,
             "#d8576b"
            ],
            [
             0.6666666666666666,
             "#ed7953"
            ],
            [
             0.7777777777777778,
             "#fb9f3a"
            ],
            [
             0.8888888888888888,
             "#fdca26"
            ],
            [
             1,
             "#f0f921"
            ]
           ],
           "sequentialminus": [
            [
             0,
             "#0d0887"
            ],
            [
             0.1111111111111111,
             "#46039f"
            ],
            [
             0.2222222222222222,
             "#7201a8"
            ],
            [
             0.3333333333333333,
             "#9c179e"
            ],
            [
             0.4444444444444444,
             "#bd3786"
            ],
            [
             0.5555555555555556,
             "#d8576b"
            ],
            [
             0.6666666666666666,
             "#ed7953"
            ],
            [
             0.7777777777777778,
             "#fb9f3a"
            ],
            [
             0.8888888888888888,
             "#fdca26"
            ],
            [
             1,
             "#f0f921"
            ]
           ]
          },
          "colorway": [
           "#636efa",
           "#EF553B",
           "#00cc96",
           "#ab63fa",
           "#FFA15A",
           "#19d3f3",
           "#FF6692",
           "#B6E880",
           "#FF97FF",
           "#FECB52"
          ],
          "font": {
           "color": "#2a3f5f"
          },
          "geo": {
           "bgcolor": "white",
           "lakecolor": "white",
           "landcolor": "#E5ECF6",
           "showlakes": true,
           "showland": true,
           "subunitcolor": "white"
          },
          "hoverlabel": {
           "align": "left"
          },
          "hovermode": "closest",
          "mapbox": {
           "style": "light"
          },
          "paper_bgcolor": "white",
          "plot_bgcolor": "#E5ECF6",
          "polar": {
           "angularaxis": {
            "gridcolor": "white",
            "linecolor": "white",
            "ticks": ""
           },
           "bgcolor": "#E5ECF6",
           "radialaxis": {
            "gridcolor": "white",
            "linecolor": "white",
            "ticks": ""
           }
          },
          "scene": {
           "xaxis": {
            "backgroundcolor": "#E5ECF6",
            "gridcolor": "white",
            "gridwidth": 2,
            "linecolor": "white",
            "showbackground": true,
            "ticks": "",
            "zerolinecolor": "white"
           },
           "yaxis": {
            "backgroundcolor": "#E5ECF6",
            "gridcolor": "white",
            "gridwidth": 2,
            "linecolor": "white",
            "showbackground": true,
            "ticks": "",
            "zerolinecolor": "white"
           },
           "zaxis": {
            "backgroundcolor": "#E5ECF6",
            "gridcolor": "white",
            "gridwidth": 2,
            "linecolor": "white",
            "showbackground": true,
            "ticks": "",
            "zerolinecolor": "white"
           }
          },
          "shapedefaults": {
           "line": {
            "color": "#2a3f5f"
           }
          },
          "ternary": {
           "aaxis": {
            "gridcolor": "white",
            "linecolor": "white",
            "ticks": ""
           },
           "baxis": {
            "gridcolor": "white",
            "linecolor": "white",
            "ticks": ""
           },
           "bgcolor": "#E5ECF6",
           "caxis": {
            "gridcolor": "white",
            "linecolor": "white",
            "ticks": ""
           }
          },
          "title": {
           "x": 0.05
          },
          "xaxis": {
           "automargin": true,
           "gridcolor": "white",
           "linecolor": "white",
           "ticks": "",
           "title": {
            "standoff": 15
           },
           "zerolinecolor": "white",
           "zerolinewidth": 2
          },
          "yaxis": {
           "automargin": true,
           "gridcolor": "white",
           "linecolor": "white",
           "ticks": "",
           "title": {
            "standoff": 15
           },
           "zerolinecolor": "white",
           "zerolinewidth": 2
          }
         }
        },
        "title": {
         "text": "Self-Repair for pythia-160m-alldropout"
        },
        "width": 1200,
        "xaxis": {
         "anchor": "y",
         "domain": [
          0,
          0.3
         ],
         "range": [
          -0.1,
          0.4
         ]
        },
        "xaxis2": {
         "anchor": "y2",
         "domain": [
          0.35,
          0.6499999999999999
         ],
         "range": [
          -0.1,
          0.4
         ]
        },
        "xaxis3": {
         "anchor": "y3",
         "domain": [
          0.7,
          1
         ],
         "range": [
          -0.1,
          0.4
         ]
        },
        "xaxis4": {
         "anchor": "y4",
         "domain": [
          0,
          0.3
         ],
         "range": [
          -0.1,
          0.4
         ]
        },
        "xaxis5": {
         "anchor": "y5",
         "domain": [
          0.35,
          0.6499999999999999
         ],
         "range": [
          -0.1,
          0.4
         ]
        },
        "xaxis6": {
         "anchor": "y6",
         "domain": [
          0.7,
          1
         ],
         "range": [
          -0.1,
          0.4
         ]
        },
        "xaxis7": {
         "anchor": "y7",
         "domain": [
          0,
          0.3
         ],
         "range": [
          -0.1,
          0.4
         ]
        },
        "xaxis8": {
         "anchor": "y8",
         "domain": [
          0.35,
          0.6499999999999999
         ],
         "range": [
          -0.1,
          0.4
         ]
        },
        "xaxis9": {
         "anchor": "y9",
         "domain": [
          0.7,
          1
         ],
         "range": [
          -0.1,
          0.4
         ]
        },
        "yaxis": {
         "anchor": "x",
         "domain": [
          0.7,
          1
         ],
         "range": [
          -0.4,
          0.1
         ]
        },
        "yaxis2": {
         "anchor": "x2",
         "domain": [
          0.7,
          1
         ],
         "range": [
          -0.4,
          0.1
         ]
        },
        "yaxis3": {
         "anchor": "x3",
         "domain": [
          0.7,
          1
         ],
         "range": [
          -0.4,
          0.1
         ]
        },
        "yaxis4": {
         "anchor": "x4",
         "domain": [
          0.35,
          0.6499999999999999
         ],
         "range": [
          -0.4,
          0.1
         ]
        },
        "yaxis5": {
         "anchor": "x5",
         "domain": [
          0.35,
          0.6499999999999999
         ],
         "range": [
          -0.4,
          0.1
         ]
        },
        "yaxis6": {
         "anchor": "x6",
         "domain": [
          0.35,
          0.6499999999999999
         ],
         "range": [
          -0.4,
          0.1
         ]
        },
        "yaxis7": {
         "anchor": "x7",
         "domain": [
          0,
          0.3
         ],
         "range": [
          -0.4,
          0.1
         ]
        },
        "yaxis8": {
         "anchor": "x8",
         "domain": [
          0,
          0.3
         ],
         "range": [
          -0.4,
          0.1
         ]
        },
        "yaxis9": {
         "anchor": "x9",
         "domain": [
          0,
          0.3
         ],
         "range": [
          -0.4,
          0.1
         ]
        }
       }
      },
      "text/html": [
       "<div>                            <div id=\"61e5dfb5-396d-4297-b1bd-fb8552db5b2d\" class=\"plotly-graph-div\" style=\"height:1200px; width:1200px;\"></div>            <script type=\"text/javascript\">                require([\"plotly\"], function(Plotly) {                    window.PLOTLYENV=window.PLOTLYENV || {};                                    if (document.getElementById(\"61e5dfb5-396d-4297-b1bd-fb8552db5b2d\")) {                    Plotly.newPlot(                        \"61e5dfb5-396d-4297-b1bd-fb8552db5b2d\",                        [{\"marker\":{\"color\":[0.0,0.0,0.0,0.0,0.0,0.0,0.0,0.0,0.0,0.0,0.0,0.0,1.0,1.0,1.0,1.0,1.0,1.0,1.0,1.0,1.0,1.0,1.0,1.0,2.0,2.0,2.0,2.0,2.0,2.0,2.0,2.0,2.0,2.0,2.0,2.0,3.0,3.0,3.0,3.0,3.0,3.0,3.0,3.0,3.0,3.0,3.0,3.0,4.0,4.0,4.0,4.0,4.0,4.0,4.0,4.0,4.0,4.0,4.0,4.0,5.0,5.0,5.0,5.0,5.0,5.0,5.0,5.0,5.0,5.0,5.0,5.0,6.0,6.0,6.0,6.0,6.0,6.0,6.0,6.0,6.0,6.0,6.0,6.0,7.0,7.0,7.0,7.0,7.0,7.0,7.0,7.0,7.0,7.0,7.0,7.0,8.0,8.0,8.0,8.0,8.0,8.0,8.0,8.0,8.0,8.0,8.0,8.0,9.0,9.0,9.0,9.0,9.0,9.0,9.0,9.0,9.0,9.0,9.0,9.0,10.0,10.0,10.0,10.0,10.0,10.0,10.0,10.0,10.0,10.0,10.0,10.0,11.0,11.0,11.0,11.0,11.0,11.0,11.0,11.0,11.0,11.0,11.0,11.0],\"colorbar\":{\"orientation\":\"h\",\"title\":{\"text\":\"Layer\"}},\"colorscale\":[[0.0,\"#440154\"],[0.1111111111111111,\"#482878\"],[0.2222222222222222,\"#3e4989\"],[0.3333333333333333,\"#31688e\"],[0.4444444444444444,\"#26828e\"],[0.5555555555555556,\"#1f9e89\"],[0.6666666666666666,\"#35b779\"],[0.7777777777777778,\"#6ece58\"],[0.8888888888888888,\"#b5de2b\"],[1.0,\"#fde725\"]],\"line\":{\"color\":\"DarkSlateGrey\",\"width\":0.5},\"opacity\":0.8,\"size\":8},\"mode\":\"markers\",\"name\":\"Attention Heads\",\"text\":[\"Layer 0, Head 0\",\"Layer 0, Head 1\",\"Layer 0, Head 2\",\"Layer 0, Head 3\",\"Layer 0, Head 4\",\"Layer 0, Head 5\",\"Layer 0, Head 6\",\"Layer 0, Head 7\",\"Layer 0, Head 8\",\"Layer 0, Head 9\",\"Layer 0, Head 10\",\"Layer 0, Head 11\",\"Layer 1, Head 0\",\"Layer 1, Head 1\",\"Layer 1, Head 2\",\"Layer 1, Head 3\",\"Layer 1, Head 4\",\"Layer 1, Head 5\",\"Layer 1, Head 6\",\"Layer 1, Head 7\",\"Layer 1, Head 8\",\"Layer 1, Head 9\",\"Layer 1, Head 10\",\"Layer 1, Head 11\",\"Layer 2, Head 0\",\"Layer 2, Head 1\",\"Layer 2, Head 2\",\"Layer 2, Head 3\",\"Layer 2, Head 4\",\"Layer 2, Head 5\",\"Layer 2, Head 6\",\"Layer 2, Head 7\",\"Layer 2, Head 8\",\"Layer 2, Head 9\",\"Layer 2, Head 10\",\"Layer 2, Head 11\",\"Layer 3, Head 0\",\"Layer 3, Head 1\",\"Layer 3, Head 2\",\"Layer 3, Head 3\",\"Layer 3, Head 4\",\"Layer 3, Head 5\",\"Layer 3, Head 6\",\"Layer 3, Head 7\",\"Layer 3, Head 8\",\"Layer 3, Head 9\",\"Layer 3, Head 10\",\"Layer 3, Head 11\",\"Layer 4, Head 0\",\"Layer 4, Head 1\",\"Layer 4, Head 2\",\"Layer 4, Head 3\",\"Layer 4, Head 4\",\"Layer 4, Head 5\",\"Layer 4, Head 6\",\"Layer 4, Head 7\",\"Layer 4, Head 8\",\"Layer 4, Head 9\",\"Layer 4, Head 10\",\"Layer 4, Head 11\",\"Layer 5, Head 0\",\"Layer 5, Head 1\",\"Layer 5, Head 2\",\"Layer 5, Head 3\",\"Layer 5, Head 4\",\"Layer 5, Head 5\",\"Layer 5, Head 6\",\"Layer 5, Head 7\",\"Layer 5, Head 8\",\"Layer 5, Head 9\",\"Layer 5, Head 10\",\"Layer 5, Head 11\",\"Layer 6, Head 0\",\"Layer 6, Head 1\",\"Layer 6, Head 2\",\"Layer 6, Head 3\",\"Layer 6, Head 4\",\"Layer 6, Head 5\",\"Layer 6, Head 6\",\"Layer 6, Head 7\",\"Layer 6, Head 8\",\"Layer 6, Head 9\",\"Layer 6, Head 10\",\"Layer 6, Head 11\",\"Layer 7, Head 0\",\"Layer 7, Head 1\",\"Layer 7, Head 2\",\"Layer 7, Head 3\",\"Layer 7, Head 4\",\"Layer 7, Head 5\",\"Layer 7, Head 6\",\"Layer 7, Head 7\",\"Layer 7, Head 8\",\"Layer 7, Head 9\",\"Layer 7, Head 10\",\"Layer 7, Head 11\",\"Layer 8, Head 0\",\"Layer 8, Head 1\",\"Layer 8, Head 2\",\"Layer 8, Head 3\",\"Layer 8, Head 4\",\"Layer 8, Head 5\",\"Layer 8, Head 6\",\"Layer 8, Head 7\",\"Layer 8, Head 8\",\"Layer 8, Head 9\",\"Layer 8, Head 10\",\"Layer 8, Head 11\",\"Layer 9, Head 0\",\"Layer 9, Head 1\",\"Layer 9, Head 2\",\"Layer 9, Head 3\",\"Layer 9, Head 4\",\"Layer 9, Head 5\",\"Layer 9, Head 6\",\"Layer 9, Head 7\",\"Layer 9, Head 8\",\"Layer 9, Head 9\",\"Layer 9, Head 10\",\"Layer 9, Head 11\",\"Layer 10, Head 0\",\"Layer 10, Head 1\",\"Layer 10, Head 2\",\"Layer 10, Head 3\",\"Layer 10, Head 4\",\"Layer 10, Head 5\",\"Layer 10, Head 6\",\"Layer 10, Head 7\",\"Layer 10, Head 8\",\"Layer 10, Head 9\",\"Layer 10, Head 10\",\"Layer 10, Head 11\",\"Layer 11, Head 0\",\"Layer 11, Head 1\",\"Layer 11, Head 2\",\"Layer 11, Head 3\",\"Layer 11, Head 4\",\"Layer 11, Head 5\",\"Layer 11, Head 6\",\"Layer 11, Head 7\",\"Layer 11, Head 8\",\"Layer 11, Head 9\",\"Layer 11, Head 10\",\"Layer 11, Head 11\"],\"x\":[0.009456979110836983,0.007901237346231937,0.0076032658107578754,0.007171069737523794,0.008098172955214977,0.0071631078608334064,0.005923224613070488,0.00885635707527399,0.005318446084856987,0.007226511370390654,0.008363953791558743,0.007296795025467873,0.010991769842803478,0.012697805650532246,0.011179018765687943,0.009549840353429317,0.012802839279174805,0.020929526537656784,0.017461303621530533,0.02434750832617283,0.06148483231663704,0.017721185460686684,0.017366185784339905,0.017994893714785576,0.01698222942650318,0.025846542790532112,0.020871710032224655,0.020451581105589867,0.012272573076188564,0.020983800292015076,0.041238244622945786,0.019522221758961678,0.028428656980395317,0.019136657938361168,0.024893712252378464,0.0328475646674633,0.06657018512487411,0.03365480154752731,0.042077869176864624,0.006918090395629406,0.04379122704267502,0.01816539280116558,0.0370933935046196,0.007435015868395567,0.014617390930652618,0.04199986159801483,0.07332612574100494,0.03949752449989319,0.031061526387929916,0.0296392310410738,0.019404225051403046,0.022367525845766068,0.026111872866749763,0.019200017675757408,0.03140546381473541,0.030812880024313927,0.02686753310263157,0.03498200699687004,0.026721833273768425,0.02850242145359516,0.014872478321194649,0.010881178081035614,0.02416374534368515,0.01836492121219635,0.01757902093231678,0.022442825138568878,0.03874383494257927,0.016777148470282555,0.022777561098337173,0.045395754277706146,0.02540438435971737,0.015105457045137882,0.02668800577521324,0.03155547007918358,0.01896960660815239,0.005109013058245182,0.025868944823741913,0.004650535061955452,0.0410112701356411,-0.0020191676449030638,0.020403025671839714,0.0077043999917805195,0.005979922134429216,0.0070665148086845875,0.03156532347202301,0.034875839948654175,0.013580412603914738,0.009333683177828789,0.001998632214963436,0.01748938299715519,0.04020785912871361,0.013862404972314835,0.006049531977623701,0.017468689009547234,0.01576748676598072,0.018244612962007523,0.03376254811882973,0.03430640324950218,0.029970142990350723,0.03245260939002037,0.02514277584850788,0.0377337709069252,0.04608338698744774,0.012300747446715832,0.021929025650024414,0.026322292163968086,-0.002665349980816245,0.008465323597192764,0.03127983585000038,0.04188091680407524,0.00491102272644639,0.038208819925785065,0.030932268127799034,0.026576945558190346,0.020880576223134995,0.03314151242375374,0.0396474152803421,0.006306901574134827,0.025631902739405632,0.004294459242373705,0.004077760502696037,0.023743974044919014,0.022153260186314583,0.00033277086913585663,0.004670875146985054,-0.012221895158290863,0.029928602278232574,0.019086403772234917,0.029032865539193153,0.020321127027273178,0.004705044906586409,0.03139159083366394,0.037349432706832886,-0.019016359001398087,0.04098669812083244,0.037713367491960526,0.005810548085719347,-0.01758146658539772,0.004634171724319458,0.05145104601979256,0.022444475442171097,-0.004369908943772316,0.034060459583997726,0.06784137338399887],\"y\":[-0.008364482782781124,-0.00851451139897108,-0.006078540347516537,-0.008631766773760319,-0.004339019302278757,-0.0067902361042797565,-0.01415278296917677,-0.008564690127968788,-0.004013639409095049,-0.0038204374723136425,-0.005379954818636179,-0.00423509581014514,-0.001719326595775783,-0.0038366438820958138,-0.0019866209477186203,-0.002874776255339384,-0.00037281366530805826,-0.00129402126185596,-0.0012304058764129877,0.0001640401897020638,0.000638431403785944,-0.00035458995262160897,-0.0024150062818080187,-0.0025282741989940405,-0.0015397893730551004,-0.0021426656749099493,0.00016791025700513273,-0.0036635587457567453,-0.004580559208989143,-0.013057850301265717,-0.01635880582034588,0.00013538850180339068,-0.012001276947557926,-0.0013711496721953154,-0.004384671803563833,-0.005894416011869907,-0.10353706777095795,-0.04952433332800865,-0.02761884033679962,0.0008535186643712223,-0.03089888207614422,-0.0022181416861712933,-0.005095296073704958,-0.009584682062268257,-0.0006497246795333922,-0.016283903270959854,-0.0048901685513556,-0.0044367932714521885,-0.0049242982640862465,-0.005554137285798788,-0.003269033506512642,-0.008484197780489922,-0.006532910279929638,-0.012711523100733757,-0.016730057075619698,-0.0076076919212937355,-0.004534187261015177,-0.0036367157008498907,-0.018212290480732918,-0.005806355737149715,0.004793044179677963,-0.014215703122317791,-0.006816178560256958,-0.004485758952796459,-0.003747074631974101,-0.0007686793687753379,-0.008733928203582764,-0.003454271238297224,-0.0068635037168860435,-0.02677592821419239,-0.007928494364023209,-0.000564547604881227,-0.01048316154628992,-0.002984260208904743,-0.001739136059768498,0.0009036066476255655,-0.0038331481628119946,0.0013935723109170794,-0.02305450662970543,0.0032077680807560682,-0.0001824119099183008,-0.0032946655992418528,-0.0032677820418030024,-0.0018850704655051231,-0.0007272420916706324,-0.004347548354417086,-0.0008919258834794164,0.00023698715085629374,0.003046685364097357,0.0006331918411888182,-0.00667964993044734,-0.0006772596971131861,-0.0021340162493288517,-0.0014139803824946284,-0.0021021547727286816,-0.00011443398398114368,0.0004555943887680769,-0.005782619584351778,-0.0044907573610544205,-0.006738550029695034,-0.0028970728162676096,-0.0007150202291086316,-0.002760966308414936,-0.0015177553286775947,0.0014277545269578695,-0.0022712277714163065,-0.002633405849337578,0.0007553601171821356,-0.005501988343894482,-0.007811791729182005,-0.000579452549573034,-0.001451063435524702,0.000630218128208071,-0.016056014224886894,0.00039919925620779395,-0.0016243396094068885,-0.003086425829678774,0.002284612273797393,-0.0068487320095300674,0.00269332411698997,0.002018601167947054,0.0007480108179152012,-0.00020386779215186834,-0.00109956378582865,-0.003063659416511655,0.003933818079531193,-0.001933883293531835,-0.004075772128999233,-0.004413088317960501,0.0008384935790672898,0.0029541347175836563,0.0007843963103368878,-0.005785259883850813,0.0014850797597318888,0.000548199808690697,-0.004311463329941034,0.0002735466987360269,0.003554012393578887,-0.003826889442279935,-0.000613581680227071,0.003962243441492319,-0.005105022806674242,-0.00043852461385540664,-0.003909191582351923],\"type\":\"scatter\",\"xaxis\":\"x\",\"yaxis\":\"y\"},{\"line\":{\"color\":\"grey\",\"dash\":\"dot\"},\"mode\":\"lines\",\"name\":\"Y=-X\",\"x\":[-0.4,0.4],\"y\":[0.4,-0.4],\"type\":\"scatter\",\"xaxis\":\"x\",\"yaxis\":\"y\"},{\"marker\":{\"color\":[0.0,0.0,0.0,0.0,0.0,0.0,0.0,0.0,0.0,0.0,0.0,0.0,1.0,1.0,1.0,1.0,1.0,1.0,1.0,1.0,1.0,1.0,1.0,1.0,2.0,2.0,2.0,2.0,2.0,2.0,2.0,2.0,2.0,2.0,2.0,2.0,3.0,3.0,3.0,3.0,3.0,3.0,3.0,3.0,3.0,3.0,3.0,3.0,4.0,4.0,4.0,4.0,4.0,4.0,4.0,4.0,4.0,4.0,4.0,4.0,5.0,5.0,5.0,5.0,5.0,5.0,5.0,5.0,5.0,5.0,5.0,5.0,6.0,6.0,6.0,6.0,6.0,6.0,6.0,6.0,6.0,6.0,6.0,6.0,7.0,7.0,7.0,7.0,7.0,7.0,7.0,7.0,7.0,7.0,7.0,7.0,8.0,8.0,8.0,8.0,8.0,8.0,8.0,8.0,8.0,8.0,8.0,8.0,9.0,9.0,9.0,9.0,9.0,9.0,9.0,9.0,9.0,9.0,9.0,9.0,10.0,10.0,10.0,10.0,10.0,10.0,10.0,10.0,10.0,10.0,10.0,10.0,11.0,11.0,11.0,11.0,11.0,11.0,11.0,11.0,11.0,11.0,11.0,11.0],\"colorbar\":{\"orientation\":\"h\",\"title\":{\"text\":\"Layer\"}},\"colorscale\":[[0.0,\"#440154\"],[0.1111111111111111,\"#482878\"],[0.2222222222222222,\"#3e4989\"],[0.3333333333333333,\"#31688e\"],[0.4444444444444444,\"#26828e\"],[0.5555555555555556,\"#1f9e89\"],[0.6666666666666666,\"#35b779\"],[0.7777777777777778,\"#6ece58\"],[0.8888888888888888,\"#b5de2b\"],[1.0,\"#fde725\"]],\"line\":{\"color\":\"DarkSlateGrey\",\"width\":0.5},\"opacity\":0.8,\"size\":8},\"mode\":\"markers\",\"name\":\"Attention Heads\",\"text\":[\"Layer 0, Head 0\",\"Layer 0, Head 1\",\"Layer 0, Head 2\",\"Layer 0, Head 3\",\"Layer 0, Head 4\",\"Layer 0, Head 5\",\"Layer 0, Head 6\",\"Layer 0, Head 7\",\"Layer 0, Head 8\",\"Layer 0, Head 9\",\"Layer 0, Head 10\",\"Layer 0, Head 11\",\"Layer 1, Head 0\",\"Layer 1, Head 1\",\"Layer 1, Head 2\",\"Layer 1, Head 3\",\"Layer 1, Head 4\",\"Layer 1, Head 5\",\"Layer 1, Head 6\",\"Layer 1, Head 7\",\"Layer 1, Head 8\",\"Layer 1, Head 9\",\"Layer 1, Head 10\",\"Layer 1, Head 11\",\"Layer 2, Head 0\",\"Layer 2, Head 1\",\"Layer 2, Head 2\",\"Layer 2, Head 3\",\"Layer 2, Head 4\",\"Layer 2, Head 5\",\"Layer 2, Head 6\",\"Layer 2, Head 7\",\"Layer 2, Head 8\",\"Layer 2, Head 9\",\"Layer 2, Head 10\",\"Layer 2, Head 11\",\"Layer 3, Head 0\",\"Layer 3, Head 1\",\"Layer 3, Head 2\",\"Layer 3, Head 3\",\"Layer 3, Head 4\",\"Layer 3, Head 5\",\"Layer 3, Head 6\",\"Layer 3, Head 7\",\"Layer 3, Head 8\",\"Layer 3, Head 9\",\"Layer 3, Head 10\",\"Layer 3, Head 11\",\"Layer 4, Head 0\",\"Layer 4, Head 1\",\"Layer 4, Head 2\",\"Layer 4, Head 3\",\"Layer 4, Head 4\",\"Layer 4, Head 5\",\"Layer 4, Head 6\",\"Layer 4, Head 7\",\"Layer 4, Head 8\",\"Layer 4, Head 9\",\"Layer 4, Head 10\",\"Layer 4, Head 11\",\"Layer 5, Head 0\",\"Layer 5, Head 1\",\"Layer 5, Head 2\",\"Layer 5, Head 3\",\"Layer 5, Head 4\",\"Layer 5, Head 5\",\"Layer 5, Head 6\",\"Layer 5, Head 7\",\"Layer 5, Head 8\",\"Layer 5, Head 9\",\"Layer 5, Head 10\",\"Layer 5, Head 11\",\"Layer 6, Head 0\",\"Layer 6, Head 1\",\"Layer 6, Head 2\",\"Layer 6, Head 3\",\"Layer 6, Head 4\",\"Layer 6, Head 5\",\"Layer 6, Head 6\",\"Layer 6, Head 7\",\"Layer 6, Head 8\",\"Layer 6, Head 9\",\"Layer 6, Head 10\",\"Layer 6, Head 11\",\"Layer 7, Head 0\",\"Layer 7, Head 1\",\"Layer 7, Head 2\",\"Layer 7, Head 3\",\"Layer 7, Head 4\",\"Layer 7, Head 5\",\"Layer 7, Head 6\",\"Layer 7, Head 7\",\"Layer 7, Head 8\",\"Layer 7, Head 9\",\"Layer 7, Head 10\",\"Layer 7, Head 11\",\"Layer 8, Head 0\",\"Layer 8, Head 1\",\"Layer 8, Head 2\",\"Layer 8, Head 3\",\"Layer 8, Head 4\",\"Layer 8, Head 5\",\"Layer 8, Head 6\",\"Layer 8, Head 7\",\"Layer 8, Head 8\",\"Layer 8, Head 9\",\"Layer 8, Head 10\",\"Layer 8, Head 11\",\"Layer 9, Head 0\",\"Layer 9, Head 1\",\"Layer 9, Head 2\",\"Layer 9, Head 3\",\"Layer 9, Head 4\",\"Layer 9, Head 5\",\"Layer 9, Head 6\",\"Layer 9, Head 7\",\"Layer 9, Head 8\",\"Layer 9, Head 9\",\"Layer 9, Head 10\",\"Layer 9, Head 11\",\"Layer 10, Head 0\",\"Layer 10, Head 1\",\"Layer 10, Head 2\",\"Layer 10, Head 3\",\"Layer 10, Head 4\",\"Layer 10, Head 5\",\"Layer 10, Head 6\",\"Layer 10, Head 7\",\"Layer 10, Head 8\",\"Layer 10, Head 9\",\"Layer 10, Head 10\",\"Layer 10, Head 11\",\"Layer 11, Head 0\",\"Layer 11, Head 1\",\"Layer 11, Head 2\",\"Layer 11, Head 3\",\"Layer 11, Head 4\",\"Layer 11, Head 5\",\"Layer 11, Head 6\",\"Layer 11, Head 7\",\"Layer 11, Head 8\",\"Layer 11, Head 9\",\"Layer 11, Head 10\",\"Layer 11, Head 11\"],\"x\":[0.027064237743616104,0.017617568373680115,0.05618965998291969,0.03317278251051903,0.022308459505438805,0.01673710346221924,0.026993677020072937,0.022293034940958023,0.02377541922032833,0.024025272578001022,0.015802141278982162,0.029400277882814407,0.027072176337242126,0.013388781808316708,0.02584553137421608,0.01736222393810749,0.01620711199939251,0.02903173863887787,0.03789964318275452,0.024561170488595963,0.02302328683435917,0.04349431395530701,0.025023337453603745,0.011784863658249378,0.009991745464503765,0.018294187262654305,0.017899055033922195,0.021054256707429886,0.012549443170428276,0.03510149195790291,0.06417075544595718,0.035808295011520386,0.029530640691518784,0.013039900921285152,0.04644099995493889,0.04532289877533913,0.04864930361509323,0.04489365220069885,0.04540552198886871,-0.0047018700279295444,0.03287660330533981,0.0216461680829525,0.04739389196038246,0.011709601618349552,0.01839389093220234,0.03726513683795929,0.05757142975926399,0.04652600362896919,0.04902686923742294,0.043884605169296265,0.022271079942584038,0.03282150253653526,0.05060429871082306,0.03550839051604271,0.028538942337036133,0.0031097736209630966,0.05696656554937363,0.039039235562086105,0.12301335483789444,0.06324192136526108,-0.032145239412784576,0.038695335388183594,0.03921307623386383,0.043779611587524414,0.03217788413167,0.0253034308552742,0.0714174285531044,0.03001706674695015,0.04092653468251228,0.2018377184867859,0.07739252597093582,0.02687741443514824,0.04931354150176048,0.058164577931165695,0.01920832134783268,0.013868534937500954,0.0358671173453331,-0.0005208796355873346,0.20378151535987854,-0.03630131110548973,0.0227773766964674,0.01035009603947401,0.030874209478497505,-0.002835145452991128,0.027930473908782005,0.04134879261255264,-0.002278312109410763,-0.03755512833595276,-0.0316966213285923,-0.012126432731747627,0.08629569411277771,-0.0035823530051857233,-0.011743704788386822,0.03421848267316818,0.022419342771172523,-0.0028202456887811422,0.064767986536026,0.07652654498815536,0.030708687379956245,0.029858531430363655,0.041166748851537704,0.07695627212524414,0.06277947872877121,0.015247232280671597,0.018419021740555763,0.05637979507446289,0.003023345721885562,-0.0039990185759961605,0.08157166838645935,0.08619141578674316,0.0027027607429772615,0.0722057893872261,0.03979390487074852,0.052499327808618546,0.0712820515036583,0.057186417281627655,0.048090673983097076,0.025234783068299294,0.03059246949851513,0.0006997785530984402,0.04815340042114258,0.050771985203027725,0.055513691157102585,0.020880267024040222,0.03013613633811474,-0.017989693209528923,0.0552954338490963,0.023234043270349503,0.056615326553583145,0.0626203641295433,0.018351349979639053,0.03100637160241604,0.0795324444770813,0.01344193797558546,0.07938576489686966,0.06038948521018028,0.018980631604790688,0.009849782101809978,0.025197317823767662,0.0845084860920906,0.04081258922815323,0.027282575145363808,0.038668472319841385,0.08963574469089508],\"y\":[-0.011939477175474167,-0.01507568173110485,-0.014381395652890205,-0.01212599128484726,-0.013937276788055897,-0.012047704309225082,-0.022746406495571136,-0.009173913858830929,-0.010124387219548225,-0.00854282733052969,-0.008473950438201427,-0.013675524853169918,-0.003307400969788432,-0.005098248366266489,-0.002375212498009205,-0.0038714823313057423,-0.0026699260342866182,-0.0007697975961491466,-0.004436700604856014,-0.0025741022545844316,-0.002382261911407113,-0.0022138196509331465,-0.0025437043514102697,-0.0005890228785574436,-0.0016332208178937435,-0.004979188088327646,-0.002828555181622505,-0.009722749702632427,-0.0014610993675887585,-0.02117132768034935,-0.03582542762160301,-0.006166736129671335,-0.011351204477250576,-0.0008882044348865747,-0.021081160753965378,-0.009343202225863934,-0.06278267502784729,-0.01906144805252552,-0.023538390174508095,0.0006725979619659483,-0.011964003555476665,-0.0036767064593732357,-0.015395663678646088,-0.013161885552108288,-0.0014671413227915764,-0.013751302845776081,-0.006067231297492981,-0.009894398972392082,-0.002919570542871952,-0.009004669263958931,-0.005566197447478771,-0.008169536478817463,-0.008592583239078522,-0.011534282006323338,-0.011073637753725052,-0.026760384440422058,-0.006867331452667713,-0.00554114393889904,-0.049466487020254135,-0.007573139853775501,0.005863690748810768,-0.02086724154651165,-0.014524192549288273,-0.018833117559552193,-0.009997465647757053,-0.003868643892928958,-0.027180958539247513,-0.010193709284067154,-0.007930539548397064,-0.057582542300224304,-0.03830740973353386,-0.019811149686574936,-0.017969336360692978,-0.010912630707025528,-0.008100001141428947,-0.002048005349934101,-0.007577683310955763,-0.001713322359137237,-0.08006416261196136,0.0031994220335036516,-0.004718562122434378,-0.0046252054162323475,-0.026218483224511147,-0.005033380351960659,-0.002804138697683811,-0.008559402078390121,-0.007259428966790438,0.0007842800114303827,0.004883613903075457,-0.0011011107126250863,-0.028788531199097633,-0.004446106497198343,-0.00418781116604805,-0.005094232968986034,-0.0093399528414011,-0.002702124183997512,-0.019464125856757164,-0.03152851387858391,-0.015357057563960552,-0.006237694527953863,-0.0031138183549046516,-0.020495984703302383,-0.016735883429646492,-0.0049600545316934586,-0.0028952169232070446,-0.012430399656295776,-0.004660777281969786,-0.00017957520321942866,-0.031702034175395966,-0.021906685084104538,-0.002683296799659729,-0.015340905636548996,-0.005575840827077627,-0.011382369324564934,-0.01950259506702423,-0.014205901883542538,-0.014905457384884357,0.0029081080574542284,-0.007309508044272661,-0.0026721390895545483,-0.007129216566681862,-0.010076357051730156,-0.008970309048891068,-0.0005511750350706279,-0.006067641545087099,0.006503489334136248,-0.00982198491692543,-0.004697493743151426,-0.014837543480098248,-0.013613752089440823,-0.0017614776734262705,-0.007335714530199766,-0.01269207801669836,-0.0004429955151863396,-0.0025351818185299635,-0.006412639748305082,0.0004818387096747756,0.003807470668107271,0.00044251023791730404,0.0017290887190029025,0.005426793359220028,-0.0019501624628901482,-0.002632011426612735,-0.00803619809448719],\"type\":\"scatter\",\"xaxis\":\"x2\",\"yaxis\":\"y2\"},{\"line\":{\"color\":\"grey\",\"dash\":\"dot\"},\"mode\":\"lines\",\"name\":\"Y=-X\",\"x\":[-0.4,0.4],\"y\":[0.4,-0.4],\"type\":\"scatter\",\"xaxis\":\"x2\",\"yaxis\":\"y2\"},{\"marker\":{\"color\":[0.0,0.0,0.0,0.0,0.0,0.0,0.0,0.0,0.0,0.0,0.0,0.0,1.0,1.0,1.0,1.0,1.0,1.0,1.0,1.0,1.0,1.0,1.0,1.0,2.0,2.0,2.0,2.0,2.0,2.0,2.0,2.0,2.0,2.0,2.0,2.0,3.0,3.0,3.0,3.0,3.0,3.0,3.0,3.0,3.0,3.0,3.0,3.0,4.0,4.0,4.0,4.0,4.0,4.0,4.0,4.0,4.0,4.0,4.0,4.0,5.0,5.0,5.0,5.0,5.0,5.0,5.0,5.0,5.0,5.0,5.0,5.0,6.0,6.0,6.0,6.0,6.0,6.0,6.0,6.0,6.0,6.0,6.0,6.0,7.0,7.0,7.0,7.0,7.0,7.0,7.0,7.0,7.0,7.0,7.0,7.0,8.0,8.0,8.0,8.0,8.0,8.0,8.0,8.0,8.0,8.0,8.0,8.0,9.0,9.0,9.0,9.0,9.0,9.0,9.0,9.0,9.0,9.0,9.0,9.0,10.0,10.0,10.0,10.0,10.0,10.0,10.0,10.0,10.0,10.0,10.0,10.0,11.0,11.0,11.0,11.0,11.0,11.0,11.0,11.0,11.0,11.0,11.0,11.0],\"colorbar\":{\"orientation\":\"h\",\"title\":{\"text\":\"Layer\"}},\"colorscale\":[[0.0,\"#440154\"],[0.1111111111111111,\"#482878\"],[0.2222222222222222,\"#3e4989\"],[0.3333333333333333,\"#31688e\"],[0.4444444444444444,\"#26828e\"],[0.5555555555555556,\"#1f9e89\"],[0.6666666666666666,\"#35b779\"],[0.7777777777777778,\"#6ece58\"],[0.8888888888888888,\"#b5de2b\"],[1.0,\"#fde725\"]],\"line\":{\"color\":\"DarkSlateGrey\",\"width\":0.5},\"opacity\":0.8,\"size\":8},\"mode\":\"markers\",\"name\":\"Attention Heads\",\"text\":[\"Layer 0, Head 0\",\"Layer 0, Head 1\",\"Layer 0, Head 2\",\"Layer 0, Head 3\",\"Layer 0, Head 4\",\"Layer 0, Head 5\",\"Layer 0, Head 6\",\"Layer 0, Head 7\",\"Layer 0, Head 8\",\"Layer 0, Head 9\",\"Layer 0, Head 10\",\"Layer 0, Head 11\",\"Layer 1, Head 0\",\"Layer 1, Head 1\",\"Layer 1, Head 2\",\"Layer 1, Head 3\",\"Layer 1, Head 4\",\"Layer 1, Head 5\",\"Layer 1, Head 6\",\"Layer 1, Head 7\",\"Layer 1, Head 8\",\"Layer 1, Head 9\",\"Layer 1, Head 10\",\"Layer 1, Head 11\",\"Layer 2, Head 0\",\"Layer 2, Head 1\",\"Layer 2, Head 2\",\"Layer 2, Head 3\",\"Layer 2, Head 4\",\"Layer 2, Head 5\",\"Layer 2, Head 6\",\"Layer 2, Head 7\",\"Layer 2, Head 8\",\"Layer 2, Head 9\",\"Layer 2, Head 10\",\"Layer 2, Head 11\",\"Layer 3, Head 0\",\"Layer 3, Head 1\",\"Layer 3, Head 2\",\"Layer 3, Head 3\",\"Layer 3, Head 4\",\"Layer 3, Head 5\",\"Layer 3, Head 6\",\"Layer 3, Head 7\",\"Layer 3, Head 8\",\"Layer 3, Head 9\",\"Layer 3, Head 10\",\"Layer 3, Head 11\",\"Layer 4, Head 0\",\"Layer 4, Head 1\",\"Layer 4, Head 2\",\"Layer 4, Head 3\",\"Layer 4, Head 4\",\"Layer 4, Head 5\",\"Layer 4, Head 6\",\"Layer 4, Head 7\",\"Layer 4, Head 8\",\"Layer 4, Head 9\",\"Layer 4, Head 10\",\"Layer 4, Head 11\",\"Layer 5, Head 0\",\"Layer 5, Head 1\",\"Layer 5, Head 2\",\"Layer 5, Head 3\",\"Layer 5, Head 4\",\"Layer 5, Head 5\",\"Layer 5, Head 6\",\"Layer 5, Head 7\",\"Layer 5, Head 8\",\"Layer 5, Head 9\",\"Layer 5, Head 10\",\"Layer 5, Head 11\",\"Layer 6, Head 0\",\"Layer 6, Head 1\",\"Layer 6, Head 2\",\"Layer 6, Head 3\",\"Layer 6, Head 4\",\"Layer 6, Head 5\",\"Layer 6, Head 6\",\"Layer 6, Head 7\",\"Layer 6, Head 8\",\"Layer 6, Head 9\",\"Layer 6, Head 10\",\"Layer 6, Head 11\",\"Layer 7, Head 0\",\"Layer 7, Head 1\",\"Layer 7, Head 2\",\"Layer 7, Head 3\",\"Layer 7, Head 4\",\"Layer 7, Head 5\",\"Layer 7, Head 6\",\"Layer 7, Head 7\",\"Layer 7, Head 8\",\"Layer 7, Head 9\",\"Layer 7, Head 10\",\"Layer 7, Head 11\",\"Layer 8, Head 0\",\"Layer 8, Head 1\",\"Layer 8, Head 2\",\"Layer 8, Head 3\",\"Layer 8, Head 4\",\"Layer 8, Head 5\",\"Layer 8, Head 6\",\"Layer 8, Head 7\",\"Layer 8, Head 8\",\"Layer 8, Head 9\",\"Layer 8, Head 10\",\"Layer 8, Head 11\",\"Layer 9, Head 0\",\"Layer 9, Head 1\",\"Layer 9, Head 2\",\"Layer 9, Head 3\",\"Layer 9, Head 4\",\"Layer 9, Head 5\",\"Layer 9, Head 6\",\"Layer 9, Head 7\",\"Layer 9, Head 8\",\"Layer 9, Head 9\",\"Layer 9, Head 10\",\"Layer 9, Head 11\",\"Layer 10, Head 0\",\"Layer 10, Head 1\",\"Layer 10, Head 2\",\"Layer 10, Head 3\",\"Layer 10, Head 4\",\"Layer 10, Head 5\",\"Layer 10, Head 6\",\"Layer 10, Head 7\",\"Layer 10, Head 8\",\"Layer 10, Head 9\",\"Layer 10, Head 10\",\"Layer 10, Head 11\",\"Layer 11, Head 0\",\"Layer 11, Head 1\",\"Layer 11, Head 2\",\"Layer 11, Head 3\",\"Layer 11, Head 4\",\"Layer 11, Head 5\",\"Layer 11, Head 6\",\"Layer 11, Head 7\",\"Layer 11, Head 8\",\"Layer 11, Head 9\",\"Layer 11, Head 10\",\"Layer 11, Head 11\"],\"x\":[0.040250442922115326,0.023838290944695473,0.05374287813901901,0.029657959938049316,0.028585754334926605,0.0453965924680233,0.05708985775709152,0.03971128910779953,0.03528708592057228,0.011209416203200817,0.02374035306274891,0.05266084149479866,0.04521685093641281,0.027806034311652184,0.022831415757536888,0.004502537194639444,0.004800549242645502,0.023337261751294136,0.03453738987445831,0.021765856072306633,0.006538726855069399,0.010861612856388092,0.009805216453969479,0.007505414076149464,0.013147639110684395,0.031161585822701454,0.006723531521856785,0.021896667778491974,0.007293442729860544,0.038425132632255554,0.07951902598142624,0.02746574580669403,0.03621988371014595,-0.004329617600888014,0.0675283893942833,0.029645027592778206,0.05347583070397377,0.03760789334774017,0.040012262761592865,-0.025095220655202866,0.03263859450817108,0.018706833943724632,0.05323190242052078,0.009768279269337654,0.012625976465642452,0.02986893802881241,0.02586909756064415,0.03558448702096939,0.029344864189624786,0.04237569123506546,0.031716007739305496,0.038155265152454376,0.04692573845386505,0.034911565482616425,0.01636672019958496,0.010997094213962555,0.04839475080370903,0.029109684750437737,0.14946581423282623,0.058539602905511856,-0.03362046927213669,0.05179751664400101,0.059505075216293335,0.05602995678782463,0.04154413565993309,0.04942081868648529,0.06203056126832962,0.03995451331138611,0.03594641014933586,0.1091029942035675,0.09318019449710846,0.06759819388389587,0.0629483163356781,0.04378965124487877,0.042742762714624405,0.013885598629713058,0.0512847825884819,-0.009672184474766254,0.1251116544008255,-0.016699841246008873,0.012903286144137383,0.01799093931913376,0.08170661330223083,0.01787843182682991,0.027878986671566963,0.05692547187209129,0.02420048601925373,-0.023211462423205376,-0.026077447459101677,-0.032082390040159225,0.08359070867300034,0.017202269285917282,0.01829584687948227,0.020144011825323105,0.05943521484732628,0.0013508695410564542,0.09500721842050552,0.0977644994854927,0.05949215590953827,0.017479918897151947,0.029108377173542976,0.08354900777339935,0.06628203392028809,-0.004792080260813236,0.03288889676332474,0.04417959228157997,0.02892124280333519,-0.0017209738725796342,0.09652101248502731,0.0899929478764534,0.017456717789173126,0.06786350160837173,0.05489996075630188,0.052171740680933,0.07122306525707245,0.06201509013772011,0.09379157423973083,0.021284835413098335,0.033638663589954376,0.024147888645529747,0.06858283281326294,0.07027824223041534,0.12404101341962814,0.012794053182005882,0.049593113362789154,0.012676829472184181,0.05122845247387886,0.028250304982066154,0.05521716922521591,0.07282835245132446,0.012244896963238716,0.056675247848033905,0.085617296397686,0.007003690581768751,0.05579891800880432,0.07462754100561142,-0.001635126187466085,-0.012312130071222782,0.018750954419374466,0.050481706857681274,0.017941568046808243,0.014810355380177498,0.03279675543308258,0.09018320590257645],\"y\":[-0.015475086867809296,-0.014253068715333939,-0.015749778598546982,-0.01813221350312233,-0.019750352948904037,-0.016248919069767,-0.025343136861920357,-0.016435084864497185,-0.019268635660409927,-0.009734857827425003,-0.018817676231265068,-0.02264588326215744,-0.008733189664781094,-0.02891760878264904,-0.005650554317981005,-0.0033444752916693687,-0.006775383371859789,-0.0028385252226144075,-0.016655180603265762,-0.02122855931520462,-0.001995555590838194,-0.007602234836667776,-0.001238192431628704,-0.005693607963621616,-0.005419788416475058,-0.01264042966067791,-0.007610664237290621,-0.015481200069189072,-0.00566061120480299,-0.02686675637960434,-0.053241707384586334,-0.01711653731763363,-0.0168297216296196,-0.006474845577031374,-0.04915167763829231,-0.017193637788295746,-0.04041941091418266,-0.02122981660068035,-0.02550400234758854,-0.004331557080149651,-0.011967360973358154,-0.011809279210865498,-0.0308273583650589,-0.013586163520812988,-0.0016584942350164056,-0.01685393787920475,-0.014439107850193977,-0.015802690759301186,-0.004626945126801729,-0.015414059162139893,-0.008222437463700771,-0.01594478264451027,-0.013256954029202461,-0.016793081536889076,-0.006003422662615776,-0.035726096481084824,-0.004892056807875633,-0.013830456882715225,-0.045855239033699036,-0.01785721629858017,0.013546220026910305,-0.04045260325074196,-0.024203680455684662,-0.03235303983092308,-0.02301016077399254,-0.010304565541446209,-0.02491447702050209,-0.015393195673823357,-0.024817703291773796,-0.02994074672460556,-0.031402602791786194,-0.024514131247997284,-0.03324819728732109,-0.022108621895313263,-0.01895013079047203,-0.005636123940348625,-0.01762545481324196,-0.0019897986203432083,-0.04336324706673622,0.008426769636571407,-0.009538143873214722,-0.01280979160219431,-0.04499545693397522,-0.013957030139863491,-0.00806577131152153,-0.033012475818395615,-0.013103504665195942,0.006142091937363148,0.01064129639416933,0.008501791395246983,-0.0645933449268341,-0.008783089928328991,-0.0023724830243736506,-0.009163377806544304,-0.016828132793307304,-0.001768643269315362,-0.04847182333469391,-0.06139495596289635,-0.029493331909179688,-0.004427388776093721,-0.0057761999778449535,-0.06484221667051315,-0.02566973678767681,-0.004385848995298147,-0.009098969399929047,-0.021418726071715355,-0.008335635997354984,-0.008320276625454426,-0.05105860158801079,-0.026579905301332474,-0.007856257259845734,-0.03597107529640198,-0.028820335865020752,-0.011366029269993305,-0.034022703766822815,-0.032588716596364975,-0.061863262206315994,-0.009855568408966064,-0.01333093736320734,-0.012525307014584541,-0.015353156253695488,-0.01831931807100773,-0.04722582921385765,-0.002290064236149192,-0.010134208016097546,0.002740226686000824,-0.015655606985092163,-0.006126978900283575,-0.011924154125154018,-0.033202506601810455,-0.003148284973576665,-0.019774196669459343,-0.01965935342013836,-0.0029184981249272823,-0.006876387167721987,-0.008256562054157257,0.0026619895361363888,0.004627876449376345,0.0019178427755832672,0.002264082431793213,0.008116978220641613,-0.0008281138143502176,9.858311386778951e-05,-0.015133465640246868],\"type\":\"scatter\",\"xaxis\":\"x3\",\"yaxis\":\"y3\"},{\"line\":{\"color\":\"grey\",\"dash\":\"dot\"},\"mode\":\"lines\",\"name\":\"Y=-X\",\"x\":[-0.4,0.4],\"y\":[0.4,-0.4],\"type\":\"scatter\",\"xaxis\":\"x3\",\"yaxis\":\"y3\"},{\"marker\":{\"color\":[0.0,0.0,0.0,0.0,0.0,0.0,0.0,0.0,0.0,0.0,0.0,0.0,1.0,1.0,1.0,1.0,1.0,1.0,1.0,1.0,1.0,1.0,1.0,1.0,2.0,2.0,2.0,2.0,2.0,2.0,2.0,2.0,2.0,2.0,2.0,2.0,3.0,3.0,3.0,3.0,3.0,3.0,3.0,3.0,3.0,3.0,3.0,3.0,4.0,4.0,4.0,4.0,4.0,4.0,4.0,4.0,4.0,4.0,4.0,4.0,5.0,5.0,5.0,5.0,5.0,5.0,5.0,5.0,5.0,5.0,5.0,5.0,6.0,6.0,6.0,6.0,6.0,6.0,6.0,6.0,6.0,6.0,6.0,6.0,7.0,7.0,7.0,7.0,7.0,7.0,7.0,7.0,7.0,7.0,7.0,7.0,8.0,8.0,8.0,8.0,8.0,8.0,8.0,8.0,8.0,8.0,8.0,8.0,9.0,9.0,9.0,9.0,9.0,9.0,9.0,9.0,9.0,9.0,9.0,9.0,10.0,10.0,10.0,10.0,10.0,10.0,10.0,10.0,10.0,10.0,10.0,10.0,11.0,11.0,11.0,11.0,11.0,11.0,11.0,11.0,11.0,11.0,11.0,11.0],\"colorbar\":{\"orientation\":\"h\",\"title\":{\"text\":\"Layer\"}},\"colorscale\":[[0.0,\"#440154\"],[0.1111111111111111,\"#482878\"],[0.2222222222222222,\"#3e4989\"],[0.3333333333333333,\"#31688e\"],[0.4444444444444444,\"#26828e\"],[0.5555555555555556,\"#1f9e89\"],[0.6666666666666666,\"#35b779\"],[0.7777777777777778,\"#6ece58\"],[0.8888888888888888,\"#b5de2b\"],[1.0,\"#fde725\"]],\"line\":{\"color\":\"DarkSlateGrey\",\"width\":0.5},\"opacity\":0.8,\"size\":8},\"mode\":\"markers\",\"name\":\"Attention Heads\",\"text\":[\"Layer 0, Head 0\",\"Layer 0, Head 1\",\"Layer 0, Head 2\",\"Layer 0, Head 3\",\"Layer 0, Head 4\",\"Layer 0, Head 5\",\"Layer 0, Head 6\",\"Layer 0, Head 7\",\"Layer 0, Head 8\",\"Layer 0, Head 9\",\"Layer 0, Head 10\",\"Layer 0, Head 11\",\"Layer 1, Head 0\",\"Layer 1, Head 1\",\"Layer 1, Head 2\",\"Layer 1, Head 3\",\"Layer 1, Head 4\",\"Layer 1, Head 5\",\"Layer 1, Head 6\",\"Layer 1, Head 7\",\"Layer 1, Head 8\",\"Layer 1, Head 9\",\"Layer 1, Head 10\",\"Layer 1, Head 11\",\"Layer 2, Head 0\",\"Layer 2, Head 1\",\"Layer 2, Head 2\",\"Layer 2, Head 3\",\"Layer 2, Head 4\",\"Layer 2, Head 5\",\"Layer 2, Head 6\",\"Layer 2, Head 7\",\"Layer 2, Head 8\",\"Layer 2, Head 9\",\"Layer 2, Head 10\",\"Layer 2, Head 11\",\"Layer 3, Head 0\",\"Layer 3, Head 1\",\"Layer 3, Head 2\",\"Layer 3, Head 3\",\"Layer 3, Head 4\",\"Layer 3, Head 5\",\"Layer 3, Head 6\",\"Layer 3, Head 7\",\"Layer 3, Head 8\",\"Layer 3, Head 9\",\"Layer 3, Head 10\",\"Layer 3, Head 11\",\"Layer 4, Head 0\",\"Layer 4, Head 1\",\"Layer 4, Head 2\",\"Layer 4, Head 3\",\"Layer 4, Head 4\",\"Layer 4, Head 5\",\"Layer 4, Head 6\",\"Layer 4, Head 7\",\"Layer 4, Head 8\",\"Layer 4, Head 9\",\"Layer 4, Head 10\",\"Layer 4, Head 11\",\"Layer 5, Head 0\",\"Layer 5, Head 1\",\"Layer 5, Head 2\",\"Layer 5, Head 3\",\"Layer 5, Head 4\",\"Layer 5, Head 5\",\"Layer 5, Head 6\",\"Layer 5, Head 7\",\"Layer 5, Head 8\",\"Layer 5, Head 9\",\"Layer 5, Head 10\",\"Layer 5, Head 11\",\"Layer 6, Head 0\",\"Layer 6, Head 1\",\"Layer 6, Head 2\",\"Layer 6, Head 3\",\"Layer 6, Head 4\",\"Layer 6, Head 5\",\"Layer 6, Head 6\",\"Layer 6, Head 7\",\"Layer 6, Head 8\",\"Layer 6, Head 9\",\"Layer 6, Head 10\",\"Layer 6, Head 11\",\"Layer 7, Head 0\",\"Layer 7, Head 1\",\"Layer 7, Head 2\",\"Layer 7, Head 3\",\"Layer 7, Head 4\",\"Layer 7, Head 5\",\"Layer 7, Head 6\",\"Layer 7, Head 7\",\"Layer 7, Head 8\",\"Layer 7, Head 9\",\"Layer 7, Head 10\",\"Layer 7, Head 11\",\"Layer 8, Head 0\",\"Layer 8, Head 1\",\"Layer 8, Head 2\",\"Layer 8, Head 3\",\"Layer 8, Head 4\",\"Layer 8, Head 5\",\"Layer 8, Head 6\",\"Layer 8, Head 7\",\"Layer 8, Head 8\",\"Layer 8, Head 9\",\"Layer 8, Head 10\",\"Layer 8, Head 11\",\"Layer 9, Head 0\",\"Layer 9, Head 1\",\"Layer 9, Head 2\",\"Layer 9, Head 3\",\"Layer 9, Head 4\",\"Layer 9, Head 5\",\"Layer 9, Head 6\",\"Layer 9, Head 7\",\"Layer 9, Head 8\",\"Layer 9, Head 9\",\"Layer 9, Head 10\",\"Layer 9, Head 11\",\"Layer 10, Head 0\",\"Layer 10, Head 1\",\"Layer 10, Head 2\",\"Layer 10, Head 3\",\"Layer 10, Head 4\",\"Layer 10, Head 5\",\"Layer 10, Head 6\",\"Layer 10, Head 7\",\"Layer 10, Head 8\",\"Layer 10, Head 9\",\"Layer 10, Head 10\",\"Layer 10, Head 11\",\"Layer 11, Head 0\",\"Layer 11, Head 1\",\"Layer 11, Head 2\",\"Layer 11, Head 3\",\"Layer 11, Head 4\",\"Layer 11, Head 5\",\"Layer 11, Head 6\",\"Layer 11, Head 7\",\"Layer 11, Head 8\",\"Layer 11, Head 9\",\"Layer 11, Head 10\",\"Layer 11, Head 11\"],\"x\":[0.03660503402352333,0.028106963261961937,0.03754181042313576,0.02644418738782406,0.024594545364379883,0.05192571133375168,0.05582299083471298,0.04340715333819389,0.0314423143863678,0.006720009725540876,0.018717782571911812,0.041098304092884064,0.03327453136444092,0.0360267199575901,0.04235786944627762,0.011230934411287308,0.014040692709386349,0.00961403176188469,0.020707733929157257,0.026527713984251022,0.03287794813513756,0.013726763427257538,0.022870775312185287,0.0056153652258217335,0.010153478942811489,0.026614002883434296,0.00396600179374218,0.024885622784495354,0.0006321275141090155,0.044290587306022644,0.07046671956777573,0.01590687781572342,0.03044908493757248,-0.014365780167281628,0.055208537727594376,0.027219291776418686,0.041566118597984314,0.029507437720894814,0.030065355822443962,-0.015484679490327835,0.02671094797551632,0.013027159497141838,0.04085677117109299,0.025043893605470657,0.01608695089817047,0.022836152464151382,0.02741633541882038,0.02779954858124256,0.02562391385436058,0.0356968529522419,0.03007400408387184,0.02893800288438797,0.03134975582361221,0.027845563367009163,0.01544426754117012,0.01441540103405714,0.03765913471579552,0.03625177592039108,0.1371299922466278,0.04374191537499428,-0.031016962602734566,0.0488363578915596,0.07369682192802429,0.06355207413434982,0.046376220881938934,0.047748979181051254,0.06324087828397751,0.03520607948303223,0.03642779961228371,0.08525636792182922,0.07446271181106567,0.07215942442417145,0.07161465287208557,0.05381793901324272,0.05441389977931976,0.02076181210577488,0.05677366256713867,-0.00841169711202383,0.08546644449234009,-0.017977459356188774,0.022497650235891342,0.029555317014455795,0.08300894498825073,0.03609103709459305,0.023449059575796127,0.07089756429195404,0.04767412692308426,-0.029642852023243904,-0.026107454672455788,-0.02897176519036293,0.10812681913375854,0.01105410698801279,0.01520188245922327,0.024332484230399132,0.0878591239452362,0.007984110154211521,0.09434350579977036,0.08347124606370926,0.06560829281806946,0.023108895868062973,0.019930627197027206,0.08777555078268051,0.06801789999008179,0.0015042637242004275,0.051037948578596115,0.0515858419239521,0.03624248877167702,0.02320150099694729,0.10224476456642151,0.09176425635814667,0.03006253018975258,0.08070426434278488,0.05160357803106308,0.06214159354567528,0.05519750341773033,0.059114083647727966,0.08596057444810867,0.027827046811580658,0.023701544851064682,0.025359179824590683,0.08057571202516556,0.08265992999076843,0.12661956250667572,0.01801205612719059,0.05272497609257698,0.015149522572755814,0.04549422860145569,0.031072620302438736,0.06395259499549866,0.07470306009054184,0.017554517835378647,0.06659937649965286,0.10409177094697952,0.004372927825897932,0.06318085640668869,0.08803032338619232,-0.00412237411364913,-0.021360458806157112,0.039348259568214417,0.05867680907249451,0.021189499646425247,0.01663247123360634,0.02898014336824417,0.09676679223775864],\"y\":[-0.01842687837779522,-0.015752360224723816,-0.026706650853157043,-0.02545718289911747,-0.025498654693365097,-0.014681526459753513,-0.026435486972332,-0.017489062622189522,-0.024603672325611115,-0.019477400928735733,-0.023369932547211647,-0.023934893310070038,-0.015278138220310211,-0.056242164224386215,-0.011900142766535282,-0.0021452982909977436,-0.009253038093447685,-0.0026127812452614307,-0.028799032792448997,-0.03033231385052204,-0.002588866511359811,-0.01605648174881935,0.001092872116714716,-0.009522581472992897,-0.01006657350808382,-0.027602549642324448,-0.010461742989718914,-0.025730108842253685,-0.010349835269153118,-0.037977203726768494,-0.058341559022665024,-0.02975003980100155,-0.02306913025677204,-0.005183488130569458,-0.06570552289485931,-0.02653118222951889,-0.04219396412372589,-0.028545379638671875,-0.029789267107844353,-0.0017665133345872164,-0.02309511788189411,-0.01947818510234356,-0.05193019658327103,-0.005224942695349455,-0.009924755431711674,-0.02544054202735424,-0.02113279141485691,-0.023631572723388672,-0.008425556123256683,-0.024769196286797523,-0.01163813378661871,-0.03375709801912308,-0.016926158219575882,-0.029299108311533928,-0.014293200336396694,-0.04625846818089485,-0.004148294683545828,-0.026604536920785904,-0.04686193913221359,-0.02725430391728878,0.01660625822842121,-0.05549918860197067,-0.03157670795917511,-0.034029096364974976,-0.03636247292160988,-0.01768525131046772,-0.01973154954612255,-0.010483904741704464,-0.0497998483479023,-0.02812991291284561,-0.023733241483569145,-0.020185140892863274,-0.05849304050207138,-0.0427655428647995,-0.024369612336158752,-0.009357349015772343,-0.025559626519680023,-0.0016531767323613167,-0.02874138578772545,0.007515330333262682,-0.008285142481327057,-0.024777283892035484,-0.034687589854002,-0.022390028461813927,-0.011214316822588444,-0.054305996745824814,-0.01705107092857361,0.006093663163483143,0.012368817813694477,0.006266769487410784,-0.07475703954696655,-0.01341327466070652,-0.005057849455624819,-0.01299670897424221,-0.021424219012260437,-0.0014444004045799375,-0.05509094521403313,-0.06563349068164825,-0.03586866706609726,-0.005689823068678379,-0.010793172754347324,-0.08708816021680832,-0.03325521573424339,-0.004088219255208969,-0.01001545786857605,-0.021539924666285515,-0.013395614922046661,-0.011933556757867336,-0.05470889434218407,-0.025192923843860626,-0.011934971436858177,-0.04451589658856392,-0.03133036196231842,-0.009785383939743042,-0.03151218593120575,-0.03677184134721756,-0.07186354696750641,-0.013588781468570232,-0.007075481582432985,-0.016325343400239944,-0.017629288136959076,-0.018887152895331383,-0.05291573330760002,-0.005305248312652111,-0.011097117327153683,-0.0009551197290420532,-0.011790887452661991,-0.006756254006177187,-0.012270710431039333,-0.033517878502607346,-0.005317783448845148,-0.027901044115424156,-0.0264829620718956,-0.002613535849377513,-0.008753427304327488,-0.010255511850118637,0.0013199596432968974,0.0031189178116619587,0.0043943822383880615,0.0029828911647200584,0.011480635963380337,0.001622057636268437,0.002166497753933072,-0.012680270709097385],\"type\":\"scatter\",\"xaxis\":\"x4\",\"yaxis\":\"y4\"},{\"line\":{\"color\":\"grey\",\"dash\":\"dot\"},\"mode\":\"lines\",\"name\":\"Y=-X\",\"x\":[-0.4,0.4],\"y\":[0.4,-0.4],\"type\":\"scatter\",\"xaxis\":\"x4\",\"yaxis\":\"y4\"},{\"marker\":{\"color\":[0.0,0.0,0.0,0.0,0.0,0.0,0.0,0.0,0.0,0.0,0.0,0.0,1.0,1.0,1.0,1.0,1.0,1.0,1.0,1.0,1.0,1.0,1.0,1.0,2.0,2.0,2.0,2.0,2.0,2.0,2.0,2.0,2.0,2.0,2.0,2.0,3.0,3.0,3.0,3.0,3.0,3.0,3.0,3.0,3.0,3.0,3.0,3.0,4.0,4.0,4.0,4.0,4.0,4.0,4.0,4.0,4.0,4.0,4.0,4.0,5.0,5.0,5.0,5.0,5.0,5.0,5.0,5.0,5.0,5.0,5.0,5.0,6.0,6.0,6.0,6.0,6.0,6.0,6.0,6.0,6.0,6.0,6.0,6.0,7.0,7.0,7.0,7.0,7.0,7.0,7.0,7.0,7.0,7.0,7.0,7.0,8.0,8.0,8.0,8.0,8.0,8.0,8.0,8.0,8.0,8.0,8.0,8.0,9.0,9.0,9.0,9.0,9.0,9.0,9.0,9.0,9.0,9.0,9.0,9.0,10.0,10.0,10.0,10.0,10.0,10.0,10.0,10.0,10.0,10.0,10.0,10.0,11.0,11.0,11.0,11.0,11.0,11.0,11.0,11.0,11.0,11.0,11.0,11.0],\"colorbar\":{\"orientation\":\"h\",\"title\":{\"text\":\"Layer\"}},\"colorscale\":[[0.0,\"#440154\"],[0.1111111111111111,\"#482878\"],[0.2222222222222222,\"#3e4989\"],[0.3333333333333333,\"#31688e\"],[0.4444444444444444,\"#26828e\"],[0.5555555555555556,\"#1f9e89\"],[0.6666666666666666,\"#35b779\"],[0.7777777777777778,\"#6ece58\"],[0.8888888888888888,\"#b5de2b\"],[1.0,\"#fde725\"]],\"line\":{\"color\":\"DarkSlateGrey\",\"width\":0.5},\"opacity\":0.8,\"size\":8},\"mode\":\"markers\",\"name\":\"Attention Heads\",\"text\":[\"Layer 0, Head 0\",\"Layer 0, Head 1\",\"Layer 0, Head 2\",\"Layer 0, Head 3\",\"Layer 0, Head 4\",\"Layer 0, Head 5\",\"Layer 0, Head 6\",\"Layer 0, Head 7\",\"Layer 0, Head 8\",\"Layer 0, Head 9\",\"Layer 0, Head 10\",\"Layer 0, Head 11\",\"Layer 1, Head 0\",\"Layer 1, Head 1\",\"Layer 1, Head 2\",\"Layer 1, Head 3\",\"Layer 1, Head 4\",\"Layer 1, Head 5\",\"Layer 1, Head 6\",\"Layer 1, Head 7\",\"Layer 1, Head 8\",\"Layer 1, Head 9\",\"Layer 1, Head 10\",\"Layer 1, Head 11\",\"Layer 2, Head 0\",\"Layer 2, Head 1\",\"Layer 2, Head 2\",\"Layer 2, Head 3\",\"Layer 2, Head 4\",\"Layer 2, Head 5\",\"Layer 2, Head 6\",\"Layer 2, Head 7\",\"Layer 2, Head 8\",\"Layer 2, Head 9\",\"Layer 2, Head 10\",\"Layer 2, Head 11\",\"Layer 3, Head 0\",\"Layer 3, Head 1\",\"Layer 3, Head 2\",\"Layer 3, Head 3\",\"Layer 3, Head 4\",\"Layer 3, Head 5\",\"Layer 3, Head 6\",\"Layer 3, Head 7\",\"Layer 3, Head 8\",\"Layer 3, Head 9\",\"Layer 3, Head 10\",\"Layer 3, Head 11\",\"Layer 4, Head 0\",\"Layer 4, Head 1\",\"Layer 4, Head 2\",\"Layer 4, Head 3\",\"Layer 4, Head 4\",\"Layer 4, Head 5\",\"Layer 4, Head 6\",\"Layer 4, Head 7\",\"Layer 4, Head 8\",\"Layer 4, Head 9\",\"Layer 4, Head 10\",\"Layer 4, Head 11\",\"Layer 5, Head 0\",\"Layer 5, Head 1\",\"Layer 5, Head 2\",\"Layer 5, Head 3\",\"Layer 5, Head 4\",\"Layer 5, Head 5\",\"Layer 5, Head 6\",\"Layer 5, Head 7\",\"Layer 5, Head 8\",\"Layer 5, Head 9\",\"Layer 5, Head 10\",\"Layer 5, Head 11\",\"Layer 6, Head 0\",\"Layer 6, Head 1\",\"Layer 6, Head 2\",\"Layer 6, Head 3\",\"Layer 6, Head 4\",\"Layer 6, Head 5\",\"Layer 6, Head 6\",\"Layer 6, Head 7\",\"Layer 6, Head 8\",\"Layer 6, Head 9\",\"Layer 6, Head 10\",\"Layer 6, Head 11\",\"Layer 7, Head 0\",\"Layer 7, Head 1\",\"Layer 7, Head 2\",\"Layer 7, Head 3\",\"Layer 7, Head 4\",\"Layer 7, Head 5\",\"Layer 7, Head 6\",\"Layer 7, Head 7\",\"Layer 7, Head 8\",\"Layer 7, Head 9\",\"Layer 7, Head 10\",\"Layer 7, Head 11\",\"Layer 8, Head 0\",\"Layer 8, Head 1\",\"Layer 8, Head 2\",\"Layer 8, Head 3\",\"Layer 8, Head 4\",\"Layer 8, Head 5\",\"Layer 8, Head 6\",\"Layer 8, Head 7\",\"Layer 8, Head 8\",\"Layer 8, Head 9\",\"Layer 8, Head 10\",\"Layer 8, Head 11\",\"Layer 9, Head 0\",\"Layer 9, Head 1\",\"Layer 9, Head 2\",\"Layer 9, Head 3\",\"Layer 9, Head 4\",\"Layer 9, Head 5\",\"Layer 9, Head 6\",\"Layer 9, Head 7\",\"Layer 9, Head 8\",\"Layer 9, Head 9\",\"Layer 9, Head 10\",\"Layer 9, Head 11\",\"Layer 10, Head 0\",\"Layer 10, Head 1\",\"Layer 10, Head 2\",\"Layer 10, Head 3\",\"Layer 10, Head 4\",\"Layer 10, Head 5\",\"Layer 10, Head 6\",\"Layer 10, Head 7\",\"Layer 10, Head 8\",\"Layer 10, Head 9\",\"Layer 10, Head 10\",\"Layer 10, Head 11\",\"Layer 11, Head 0\",\"Layer 11, Head 1\",\"Layer 11, Head 2\",\"Layer 11, Head 3\",\"Layer 11, Head 4\",\"Layer 11, Head 5\",\"Layer 11, Head 6\",\"Layer 11, Head 7\",\"Layer 11, Head 8\",\"Layer 11, Head 9\",\"Layer 11, Head 10\",\"Layer 11, Head 11\"],\"x\":[0.02472011186182499,0.05376420170068741,0.03994455188512802,0.02984004095196724,0.03302537649869919,0.03834977000951767,0.05037352815270424,0.04238800331950188,0.03382636979222298,0.01216752640902996,0.019789015874266624,0.016155673190951347,0.018977681174874306,0.03930284455418587,0.04439118877053261,0.014713638462126255,-0.0051442780531942844,0.012710429728031158,0.022432945668697357,0.02365308627486229,0.07097212225198746,0.016061892732977867,0.021392980590462685,0.002335340017452836,0.014074485749006271,0.0284879170358181,0.007900264114141464,0.022850366309285164,-0.0032877535559237003,0.06476785242557526,0.05747728794813156,0.016393253579735756,0.02214551903307438,-0.027466906234622,0.042365577071905136,0.025463607162237167,0.03476107493042946,0.02406167984008789,0.027323206886649132,-0.021771488711237907,0.027474524453282356,0.011798887513577938,0.032293908298015594,0.025414012372493744,0.009242938831448555,0.0195003654807806,0.024927638471126556,0.02811349369585514,0.02447608858346939,0.03418096527457237,0.02511667273938656,0.03031967766582966,0.024317480623722076,0.025443438440561295,0.01097900327295065,0.018473995849490166,0.028132464736700058,0.04275227338075638,0.10547427088022232,0.025893807411193848,-0.03543815016746521,0.0510856918990612,0.0826219990849495,0.06474798917770386,0.055563345551490784,0.0501314178109169,0.058055948466062546,0.0375821515917778,0.0389103963971138,0.06798482686281204,0.06251431256532669,0.06927598267793655,0.09462815523147583,0.05134158208966255,0.06418353319168091,0.011278761550784111,0.055158909410238266,-0.01139742136001587,0.05950729921460152,-0.019607238471508026,0.037237782031297684,0.033234380185604095,0.08218581229448318,0.05089908093214035,0.028612442314624786,0.07383350282907486,0.07336072623729706,-0.05271902307868004,-0.05541788786649704,-0.010742390528321266,0.10622770339250565,0.01956784352660179,0.01836146041750908,0.032465413212776184,0.10368184000253677,0.0024068180937319994,0.08115722239017487,0.084435373544693,0.07898154109716415,0.03683789446949959,0.03814813122153282,0.10200537741184235,0.07003705948591232,-0.0012283670948818326,0.06572715193033218,0.05447838827967644,0.05432397499680519,0.04598604887723923,0.10316351056098938,0.09187383949756622,0.04508180916309357,0.10060177743434906,0.06044795364141464,0.08486911654472351,0.0510902926325798,0.06725499033927917,0.08179618418216705,0.030967338010668755,-0.02204246260225773,0.028619958087801933,0.09771031141281128,0.09694177657365799,0.1495831459760666,0.01853478141129017,0.05774903669953346,0.025662841275334358,0.049723051488399506,0.03824271634221077,0.06619055569171906,0.07782647013664246,0.03191818296909332,0.08663493394851685,0.1190548986196518,0.00010955678590107709,0.07441649585962296,0.08814222365617752,0.0028087326791137457,-0.02124600112438202,0.05191434919834137,0.0681798905134201,0.030198892578482628,0.028358343988656998,0.03274184465408325,0.11507710814476013],\"y\":[-0.022784166038036346,-0.03128178045153618,-0.057171132415533066,-0.05384013429284096,-0.029071494936943054,-0.013268322683870792,-0.020362379029393196,-0.01351224910467863,-0.03351571038365364,-0.036531127989292145,-0.03441745415329933,-0.025600243359804153,-0.020963476970791817,-0.06874948740005493,-0.008602281101047993,-0.007933523505926132,-0.016071246936917305,-0.008747418411076069,-0.04044491797685623,-0.042133595794439316,-0.0020596878603100777,-0.032457925379276276,-0.002311526797711849,-0.015915390104055405,-0.01781925931572914,-0.05303170904517174,-0.01746447943150997,-0.02936314232647419,-0.01565745659172535,-0.04791141301393509,-0.04888778179883957,-0.04833473637700081,-0.022879039868712425,-0.0006001756410114467,-0.06835108995437622,-0.0377340130507946,-0.039224106818437576,-0.03225180506706238,-0.03623328357934952,0.0014090539189055562,-0.031940482556819916,-0.027177652344107628,-0.06156669557094574,0.0026007641572505236,-0.017343631014227867,-0.030395159497857094,-0.03330090269446373,-0.03857143595814705,-0.017184635624289513,-0.03280690684914589,-0.01715993508696556,-0.04658824950456619,-0.02877514809370041,-0.04579311981797218,-0.02235001139342785,-0.04148564115166664,-0.0024115305859595537,-0.04844512417912483,-0.032393258064985275,-0.040586117655038834,0.018115920946002007,-0.07539620995521545,-0.03681319206953049,-0.03641105443239212,-0.06511203944683075,-0.03433198854327202,-0.018559016287326813,-0.004017997533082962,-0.07864940911531448,-0.02664189413189888,-0.024902965873479843,-0.017996517941355705,-0.11386437714099884,-0.07105394452810287,-0.028834780678153038,-0.011115271598100662,-0.03955727070569992,-0.0016127697890624404,-0.01588943786919117,0.02435026317834854,-0.011833403259515762,-0.037984449416399,-0.02461354434490204,-0.035698581486940384,-0.024788878858089447,-0.09752298891544342,-0.024276163429021835,0.00981051754206419,0.034363631159067154,0.0027186949737370014,-0.09362692385911942,-0.027533795684576035,-0.004857977386564016,-0.0194034893065691,-0.011053507216274738,-0.003005126491189003,-0.06446731835603714,-0.06606145948171616,-0.03494952246546745,-0.014571637846529484,-0.017258992418646812,-0.11584730446338654,-0.04649360105395317,0.002498032758012414,-0.009990504942834377,-0.015728658065199852,-0.016249122098088264,-0.014955556951463223,-0.06021599471569061,-0.026023952290415764,-0.018344245851039886,-0.06445875763893127,-0.0270437840372324,-0.010077793151140213,-0.029761994257569313,-0.04217764362692833,-0.0783068835735321,-0.017764607444405556,0.02725541591644287,-0.019559428095817566,-0.02327934093773365,-0.017551131546497345,-0.060833994299173355,-0.008650963194668293,-0.01861049421131611,-0.007064710836857557,-0.012175502255558968,-0.009926695376634598,-0.013313386589288712,-0.03358052670955658,-0.007093345746397972,-0.0419970266520977,-0.03966139256954193,-0.002220224356278777,-0.015143061988055706,-0.019569169729948044,-0.0042888871394097805,0.0002867774455808103,-0.0003808991750702262,-0.0022127730771899223,0.009449433535337448,-0.0009981670882552862,0.0009616502793505788,-0.018474498763680458],\"type\":\"scatter\",\"xaxis\":\"x5\",\"yaxis\":\"y5\"},{\"line\":{\"color\":\"grey\",\"dash\":\"dot\"},\"mode\":\"lines\",\"name\":\"Y=-X\",\"x\":[-0.4,0.4],\"y\":[0.4,-0.4],\"type\":\"scatter\",\"xaxis\":\"x5\",\"yaxis\":\"y5\"},{\"marker\":{\"color\":[0.0,0.0,0.0,0.0,0.0,0.0,0.0,0.0,0.0,0.0,0.0,0.0,1.0,1.0,1.0,1.0,1.0,1.0,1.0,1.0,1.0,1.0,1.0,1.0,2.0,2.0,2.0,2.0,2.0,2.0,2.0,2.0,2.0,2.0,2.0,2.0,3.0,3.0,3.0,3.0,3.0,3.0,3.0,3.0,3.0,3.0,3.0,3.0,4.0,4.0,4.0,4.0,4.0,4.0,4.0,4.0,4.0,4.0,4.0,4.0,5.0,5.0,5.0,5.0,5.0,5.0,5.0,5.0,5.0,5.0,5.0,5.0,6.0,6.0,6.0,6.0,6.0,6.0,6.0,6.0,6.0,6.0,6.0,6.0,7.0,7.0,7.0,7.0,7.0,7.0,7.0,7.0,7.0,7.0,7.0,7.0,8.0,8.0,8.0,8.0,8.0,8.0,8.0,8.0,8.0,8.0,8.0,8.0,9.0,9.0,9.0,9.0,9.0,9.0,9.0,9.0,9.0,9.0,9.0,9.0,10.0,10.0,10.0,10.0,10.0,10.0,10.0,10.0,10.0,10.0,10.0,10.0,11.0,11.0,11.0,11.0,11.0,11.0,11.0,11.0,11.0,11.0,11.0,11.0],\"colorbar\":{\"orientation\":\"h\",\"title\":{\"text\":\"Layer\"}},\"colorscale\":[[0.0,\"#440154\"],[0.1111111111111111,\"#482878\"],[0.2222222222222222,\"#3e4989\"],[0.3333333333333333,\"#31688e\"],[0.4444444444444444,\"#26828e\"],[0.5555555555555556,\"#1f9e89\"],[0.6666666666666666,\"#35b779\"],[0.7777777777777778,\"#6ece58\"],[0.8888888888888888,\"#b5de2b\"],[1.0,\"#fde725\"]],\"line\":{\"color\":\"DarkSlateGrey\",\"width\":0.5},\"opacity\":0.8,\"size\":8},\"mode\":\"markers\",\"name\":\"Attention Heads\",\"text\":[\"Layer 0, Head 0\",\"Layer 0, Head 1\",\"Layer 0, Head 2\",\"Layer 0, Head 3\",\"Layer 0, Head 4\",\"Layer 0, Head 5\",\"Layer 0, Head 6\",\"Layer 0, Head 7\",\"Layer 0, Head 8\",\"Layer 0, Head 9\",\"Layer 0, Head 10\",\"Layer 0, Head 11\",\"Layer 1, Head 0\",\"Layer 1, Head 1\",\"Layer 1, Head 2\",\"Layer 1, Head 3\",\"Layer 1, Head 4\",\"Layer 1, Head 5\",\"Layer 1, Head 6\",\"Layer 1, Head 7\",\"Layer 1, Head 8\",\"Layer 1, Head 9\",\"Layer 1, Head 10\",\"Layer 1, Head 11\",\"Layer 2, Head 0\",\"Layer 2, Head 1\",\"Layer 2, Head 2\",\"Layer 2, Head 3\",\"Layer 2, Head 4\",\"Layer 2, Head 5\",\"Layer 2, Head 6\",\"Layer 2, Head 7\",\"Layer 2, Head 8\",\"Layer 2, Head 9\",\"Layer 2, Head 10\",\"Layer 2, Head 11\",\"Layer 3, Head 0\",\"Layer 3, Head 1\",\"Layer 3, Head 2\",\"Layer 3, Head 3\",\"Layer 3, Head 4\",\"Layer 3, Head 5\",\"Layer 3, Head 6\",\"Layer 3, Head 7\",\"Layer 3, Head 8\",\"Layer 3, Head 9\",\"Layer 3, Head 10\",\"Layer 3, Head 11\",\"Layer 4, Head 0\",\"Layer 4, Head 1\",\"Layer 4, Head 2\",\"Layer 4, Head 3\",\"Layer 4, Head 4\",\"Layer 4, Head 5\",\"Layer 4, Head 6\",\"Layer 4, Head 7\",\"Layer 4, Head 8\",\"Layer 4, Head 9\",\"Layer 4, Head 10\",\"Layer 4, Head 11\",\"Layer 5, Head 0\",\"Layer 5, Head 1\",\"Layer 5, Head 2\",\"Layer 5, Head 3\",\"Layer 5, Head 4\",\"Layer 5, Head 5\",\"Layer 5, Head 6\",\"Layer 5, Head 7\",\"Layer 5, Head 8\",\"Layer 5, Head 9\",\"Layer 5, Head 10\",\"Layer 5, Head 11\",\"Layer 6, Head 0\",\"Layer 6, Head 1\",\"Layer 6, Head 2\",\"Layer 6, Head 3\",\"Layer 6, Head 4\",\"Layer 6, Head 5\",\"Layer 6, Head 6\",\"Layer 6, Head 7\",\"Layer 6, Head 8\",\"Layer 6, Head 9\",\"Layer 6, Head 10\",\"Layer 6, Head 11\",\"Layer 7, Head 0\",\"Layer 7, Head 1\",\"Layer 7, Head 2\",\"Layer 7, Head 3\",\"Layer 7, Head 4\",\"Layer 7, Head 5\",\"Layer 7, Head 6\",\"Layer 7, Head 7\",\"Layer 7, Head 8\",\"Layer 7, Head 9\",\"Layer 7, Head 10\",\"Layer 7, Head 11\",\"Layer 8, Head 0\",\"Layer 8, Head 1\",\"Layer 8, Head 2\",\"Layer 8, Head 3\",\"Layer 8, Head 4\",\"Layer 8, Head 5\",\"Layer 8, Head 6\",\"Layer 8, Head 7\",\"Layer 8, Head 8\",\"Layer 8, Head 9\",\"Layer 8, Head 10\",\"Layer 8, Head 11\",\"Layer 9, Head 0\",\"Layer 9, Head 1\",\"Layer 9, Head 2\",\"Layer 9, Head 3\",\"Layer 9, Head 4\",\"Layer 9, Head 5\",\"Layer 9, Head 6\",\"Layer 9, Head 7\",\"Layer 9, Head 8\",\"Layer 9, Head 9\",\"Layer 9, Head 10\",\"Layer 9, Head 11\",\"Layer 10, Head 0\",\"Layer 10, Head 1\",\"Layer 10, Head 2\",\"Layer 10, Head 3\",\"Layer 10, Head 4\",\"Layer 10, Head 5\",\"Layer 10, Head 6\",\"Layer 10, Head 7\",\"Layer 10, Head 8\",\"Layer 10, Head 9\",\"Layer 10, Head 10\",\"Layer 10, Head 11\",\"Layer 11, Head 0\",\"Layer 11, Head 1\",\"Layer 11, Head 2\",\"Layer 11, Head 3\",\"Layer 11, Head 4\",\"Layer 11, Head 5\",\"Layer 11, Head 6\",\"Layer 11, Head 7\",\"Layer 11, Head 8\",\"Layer 11, Head 9\",\"Layer 11, Head 10\",\"Layer 11, Head 11\"],\"x\":[0.012857251800596714,0.04663245752453804,0.04276076331734657,0.024832438677549362,0.051328595727682114,0.04089020937681198,0.04865647107362747,0.021856650710105896,0.03418117016553879,0.025798656046390533,0.020172318443655968,0.02271808497607708,0.010972453281283379,0.034110017120838165,0.0432179756462574,0.023817546665668488,0.013317924924194813,0.012780910357832909,0.023917708545923233,0.022709829732775688,0.13257820904254913,0.018376827239990234,0.020769847556948662,0.0062074121087789536,0.01592940092086792,0.03441966325044632,0.011678781360387802,0.01996448263525963,0.002538250060752034,0.07501072436571121,0.040243618190288544,0.018001416698098183,0.012667391449213028,-0.020950909703969955,0.02749502658843994,0.022285232320427895,0.0244479700922966,0.016741082072257996,0.019632043316960335,-0.019301746040582657,0.027017580345273018,0.012861227616667747,0.026148555800318718,0.024694835767149925,0.007360788527876139,0.017281420528888702,0.028888186439871788,0.03159896656870842,0.03646928817033768,0.02792932838201523,0.023903176188468933,0.025434229522943497,0.017509208992123604,0.023671496659517288,0.012503447011113167,0.02429126761853695,0.0325905941426754,0.04324531927704811,0.07879681885242462,0.017180459573864937,-0.025584932416677475,0.04456792026758194,0.08265110105276108,0.05308686941862106,0.04328065365552902,0.05403974652290344,0.05008687078952789,0.02231680043041706,0.03563142195343971,0.05699920654296875,0.03646218404173851,0.06460323929786682,0.11676483601331711,0.04905814304947853,0.08216965943574905,0.022566726431250572,0.049184005707502365,-0.0074877310544252396,0.03484590724110603,-0.02151935175061226,0.04594772681593895,0.038208745419979095,0.050039079040288925,0.03170749545097351,0.030496081337332726,0.07807321846485138,0.0701785534620285,-0.056440047919750214,-0.025207050144672394,0.013444035314023495,0.06772951036691666,0.027433589100837708,0.03294463828206062,0.05751500278711319,0.08975528925657272,-0.0028061841148883104,0.06559395045042038,0.083296999335289,0.09352200478315353,0.054906636476516724,0.04438955336809158,0.12055703997612,0.06343983113765717,0.01752854324877262,0.07780251652002335,0.05318353325128555,0.056956782937049866,0.04927497357130051,0.0968126580119133,0.08989433944225311,0.0446191169321537,0.1102810874581337,0.06376088410615921,0.09751102328300476,0.048796962946653366,0.07248524576425552,0.08263741433620453,0.03406064212322235,-0.033656053245067596,0.036807745695114136,0.0945836678147316,0.10067795217037201,0.15394367277622223,0.02149771712720394,0.08733886480331421,0.03544944152235985,0.04923245683312416,0.0341220423579216,0.06724561005830765,0.06192280724644661,0.035437457263469696,0.10944294184446335,0.1224304661154747,0.005448778625577688,0.07292971014976501,0.08261603116989136,0.00567282922565937,0.003059766720980406,0.06245157867670059,0.07098481059074402,0.033363040536642075,0.02717592753469944,0.03724086657166481,0.11421537399291992],\"y\":[-0.03071686252951622,-0.02927289716899395,-0.07095268368721008,-0.10199889540672302,-0.023071257397532463,-0.020696716383099556,-0.02179844304919243,-0.013931101188063622,-0.048445120453834534,-0.06412521749734879,-0.05395356938242912,-0.03936505317687988,-0.022106340155005455,-0.06076060235500336,-0.006394010037183762,-0.0148996626958251,-0.018630150705575943,-0.017073893919587135,-0.02869306318461895,-0.034639593213796616,-0.008980418555438519,-0.04155811667442322,-0.0063626267947256565,-0.02858368121087551,-0.0254683755338192,-0.06976873427629471,-0.021560873836278915,-0.034607045352458954,-0.019672764465212822,-0.06436396390199661,-0.03951118513941765,-0.05685507878661156,-0.01847011223435402,0.006933198310434818,-0.053491998463869095,-0.04259710758924484,-0.03707118704915047,-0.04026930406689644,-0.026856759563088417,-0.008003181777894497,-0.0383269339799881,-0.037546057254076004,-0.05722725763916969,0.008275994099676609,-0.02077315002679825,-0.030871393159031868,-0.032172176986932755,-0.04619859904050827,-0.030008478090167046,-0.043626315891742706,-0.02978241816163063,-0.05426514521241188,-0.04215932637453079,-0.060289956629276276,-0.027006860822439194,-0.05105524882674217,-0.0068923416547477245,-0.08472714573144913,-0.03199777752161026,-0.03585342690348625,0.022960733622312546,-0.08630375564098358,-0.0386723130941391,-0.03778866305947304,-0.07177220284938812,-0.04835306107997894,-0.014537882059812546,-0.004954425152391195,-0.09446877241134644,-0.028249450027942657,-0.02980349399149418,-0.01497610006481409,-0.179205521941185,-0.09395652264356613,-0.03407968580722809,-0.017468787729740143,-0.06213618069887161,-0.0021216943860054016,-0.006862504407763481,0.04612334072589874,-0.015947075560688972,-0.05742983520030975,-0.018969904631376266,-0.035166554152965546,-0.03842933848500252,-0.12559643387794495,-0.023664889857172966,0.017493201419711113,0.028352145105600357,-0.010510949417948723,-0.07040353864431381,-0.06444467604160309,-0.01274949312210083,-0.03707012161612511,-0.007032986264675856,-0.013669653795659542,-0.06973551958799362,-0.05875707417726517,-0.033562663942575455,-0.03322248533368111,-0.032012779265642166,-0.14415547251701355,-0.055343423038721085,0.008644802495837212,-0.007453969679772854,-0.012621056288480759,-0.01676938496530056,-0.01562309917062521,-0.05936431884765625,-0.025089861825108528,-0.017989061772823334,-0.07151088118553162,-0.021873604506254196,-0.013018948026001453,-0.02923361398279667,-0.0445982962846756,-0.08202031999826431,-0.01943434216082096,0.03194563090801239,-0.02329442836344242,-0.025747384876012802,-0.017454413697123528,-0.06983458995819092,-0.012295138090848923,-0.024399176239967346,-0.013145005330443382,-0.012070930562913418,-0.013471909798681736,-0.015231152065098286,-0.029855523258447647,-0.010396049357950687,-0.05682260915637016,-0.057793669402599335,-0.0031056394800543785,-0.02379811741411686,-0.031848207116127014,-0.00939345546066761,-0.0031530673149973154,-0.008553745225071907,-0.013664823025465012,0.0029432778246700764,-0.00365687464363873,-0.003559809410944581,-0.027526753023266792],\"type\":\"scatter\",\"xaxis\":\"x6\",\"yaxis\":\"y6\"},{\"line\":{\"color\":\"grey\",\"dash\":\"dot\"},\"mode\":\"lines\",\"name\":\"Y=-X\",\"x\":[-0.4,0.4],\"y\":[0.4,-0.4],\"type\":\"scatter\",\"xaxis\":\"x6\",\"yaxis\":\"y6\"},{\"marker\":{\"color\":[0.0,0.0,0.0,0.0,0.0,0.0,0.0,0.0,0.0,0.0,0.0,0.0,1.0,1.0,1.0,1.0,1.0,1.0,1.0,1.0,1.0,1.0,1.0,1.0,2.0,2.0,2.0,2.0,2.0,2.0,2.0,2.0,2.0,2.0,2.0,2.0,3.0,3.0,3.0,3.0,3.0,3.0,3.0,3.0,3.0,3.0,3.0,3.0,4.0,4.0,4.0,4.0,4.0,4.0,4.0,4.0,4.0,4.0,4.0,4.0,5.0,5.0,5.0,5.0,5.0,5.0,5.0,5.0,5.0,5.0,5.0,5.0,6.0,6.0,6.0,6.0,6.0,6.0,6.0,6.0,6.0,6.0,6.0,6.0,7.0,7.0,7.0,7.0,7.0,7.0,7.0,7.0,7.0,7.0,7.0,7.0,8.0,8.0,8.0,8.0,8.0,8.0,8.0,8.0,8.0,8.0,8.0,8.0,9.0,9.0,9.0,9.0,9.0,9.0,9.0,9.0,9.0,9.0,9.0,9.0,10.0,10.0,10.0,10.0,10.0,10.0,10.0,10.0,10.0,10.0,10.0,10.0,11.0,11.0,11.0,11.0,11.0,11.0,11.0,11.0,11.0,11.0,11.0,11.0],\"colorbar\":{\"orientation\":\"h\",\"title\":{\"text\":\"Layer\"}},\"colorscale\":[[0.0,\"#440154\"],[0.1111111111111111,\"#482878\"],[0.2222222222222222,\"#3e4989\"],[0.3333333333333333,\"#31688e\"],[0.4444444444444444,\"#26828e\"],[0.5555555555555556,\"#1f9e89\"],[0.6666666666666666,\"#35b779\"],[0.7777777777777778,\"#6ece58\"],[0.8888888888888888,\"#b5de2b\"],[1.0,\"#fde725\"]],\"line\":{\"color\":\"DarkSlateGrey\",\"width\":0.5},\"opacity\":0.8,\"size\":8},\"mode\":\"markers\",\"name\":\"Attention Heads\",\"text\":[\"Layer 0, Head 0\",\"Layer 0, Head 1\",\"Layer 0, Head 2\",\"Layer 0, Head 3\",\"Layer 0, Head 4\",\"Layer 0, Head 5\",\"Layer 0, Head 6\",\"Layer 0, Head 7\",\"Layer 0, Head 8\",\"Layer 0, Head 9\",\"Layer 0, Head 10\",\"Layer 0, Head 11\",\"Layer 1, Head 0\",\"Layer 1, Head 1\",\"Layer 1, Head 2\",\"Layer 1, Head 3\",\"Layer 1, Head 4\",\"Layer 1, Head 5\",\"Layer 1, Head 6\",\"Layer 1, Head 7\",\"Layer 1, Head 8\",\"Layer 1, Head 9\",\"Layer 1, Head 10\",\"Layer 1, Head 11\",\"Layer 2, Head 0\",\"Layer 2, Head 1\",\"Layer 2, Head 2\",\"Layer 2, Head 3\",\"Layer 2, Head 4\",\"Layer 2, Head 5\",\"Layer 2, Head 6\",\"Layer 2, Head 7\",\"Layer 2, Head 8\",\"Layer 2, Head 9\",\"Layer 2, Head 10\",\"Layer 2, Head 11\",\"Layer 3, Head 0\",\"Layer 3, Head 1\",\"Layer 3, Head 2\",\"Layer 3, Head 3\",\"Layer 3, Head 4\",\"Layer 3, Head 5\",\"Layer 3, Head 6\",\"Layer 3, Head 7\",\"Layer 3, Head 8\",\"Layer 3, Head 9\",\"Layer 3, Head 10\",\"Layer 3, Head 11\",\"Layer 4, Head 0\",\"Layer 4, Head 1\",\"Layer 4, Head 2\",\"Layer 4, Head 3\",\"Layer 4, Head 4\",\"Layer 4, Head 5\",\"Layer 4, Head 6\",\"Layer 4, Head 7\",\"Layer 4, Head 8\",\"Layer 4, Head 9\",\"Layer 4, Head 10\",\"Layer 4, Head 11\",\"Layer 5, Head 0\",\"Layer 5, Head 1\",\"Layer 5, Head 2\",\"Layer 5, Head 3\",\"Layer 5, Head 4\",\"Layer 5, Head 5\",\"Layer 5, Head 6\",\"Layer 5, Head 7\",\"Layer 5, Head 8\",\"Layer 5, Head 9\",\"Layer 5, Head 10\",\"Layer 5, Head 11\",\"Layer 6, Head 0\",\"Layer 6, Head 1\",\"Layer 6, Head 2\",\"Layer 6, Head 3\",\"Layer 6, Head 4\",\"Layer 6, Head 5\",\"Layer 6, Head 6\",\"Layer 6, Head 7\",\"Layer 6, Head 8\",\"Layer 6, Head 9\",\"Layer 6, Head 10\",\"Layer 6, Head 11\",\"Layer 7, Head 0\",\"Layer 7, Head 1\",\"Layer 7, Head 2\",\"Layer 7, Head 3\",\"Layer 7, Head 4\",\"Layer 7, Head 5\",\"Layer 7, Head 6\",\"Layer 7, Head 7\",\"Layer 7, Head 8\",\"Layer 7, Head 9\",\"Layer 7, Head 10\",\"Layer 7, Head 11\",\"Layer 8, Head 0\",\"Layer 8, Head 1\",\"Layer 8, Head 2\",\"Layer 8, Head 3\",\"Layer 8, Head 4\",\"Layer 8, Head 5\",\"Layer 8, Head 6\",\"Layer 8, Head 7\",\"Layer 8, Head 8\",\"Layer 8, Head 9\",\"Layer 8, Head 10\",\"Layer 8, Head 11\",\"Layer 9, Head 0\",\"Layer 9, Head 1\",\"Layer 9, Head 2\",\"Layer 9, Head 3\",\"Layer 9, Head 4\",\"Layer 9, Head 5\",\"Layer 9, Head 6\",\"Layer 9, Head 7\",\"Layer 9, Head 8\",\"Layer 9, Head 9\",\"Layer 9, Head 10\",\"Layer 9, Head 11\",\"Layer 10, Head 0\",\"Layer 10, Head 1\",\"Layer 10, Head 2\",\"Layer 10, Head 3\",\"Layer 10, Head 4\",\"Layer 10, Head 5\",\"Layer 10, Head 6\",\"Layer 10, Head 7\",\"Layer 10, Head 8\",\"Layer 10, Head 9\",\"Layer 10, Head 10\",\"Layer 10, Head 11\",\"Layer 11, Head 0\",\"Layer 11, Head 1\",\"Layer 11, Head 2\",\"Layer 11, Head 3\",\"Layer 11, Head 4\",\"Layer 11, Head 5\",\"Layer 11, Head 6\",\"Layer 11, Head 7\",\"Layer 11, Head 8\",\"Layer 11, Head 9\",\"Layer 11, Head 10\",\"Layer 11, Head 11\"],\"x\":[0.02275623381137848,0.039778560400009155,0.026786919683218002,0.04605221748352051,0.11494122445583344,0.02912580594420433,0.08552833646535873,0.01672598533332348,0.05315938591957092,0.04410688579082489,0.017702026292681694,0.019086766988039017,-0.0006171842687763274,0.0213110763579607,0.06219778209924698,0.018784938380122185,-0.007500442676246166,0.0021765476558357477,0.02078167162835598,0.01645324006676674,0.1671563982963562,0.01792934350669384,0.04224465414881706,0.02782781608402729,0.02197389304637909,0.042788032442331314,0.009356711991131306,0.01944650150835514,0.0019523096270859241,0.05820281803607941,0.01859506405889988,0.017726989462971687,0.0031125443056225777,-0.03579440712928772,0.028110608458518982,0.02335750311613083,0.015581583604216576,0.012124653905630112,0.012087089009582996,0.021839164197444916,0.032202959060668945,0.014395100064575672,0.02616339549422264,0.003155843587592244,0.01557251438498497,0.021779537200927734,0.03096713311970234,0.04055366665124893,0.05023495480418205,0.019735516980290413,0.03016624227166176,0.024682143703103065,0.017565712332725525,0.028934014961123466,0.02100846916437149,0.025302374735474586,0.034898728132247925,0.04090716317296028,0.07336996495723724,0.035457219928503036,0.0020202978048473597,0.04519264027476311,0.07422949373722076,0.038186948746442795,0.03337349370121956,0.07851450890302658,0.035960160195827484,0.011547013185918331,0.03528923541307449,0.05219097435474396,0.021993407979607582,0.06224031001329422,0.1299651712179184,0.04971960559487343,0.09653066098690033,0.011138774454593658,0.043700091540813446,-0.008969925343990326,0.027700696140527725,-0.020352594554424286,0.03517650067806244,0.046590328216552734,0.016219042241573334,0.020026609301567078,0.03862452134490013,0.07578354328870773,0.0692736953496933,-0.07201173901557922,-0.0040094866417348385,0.018664376810193062,0.04143916070461273,0.037885021418333054,0.02885768748819828,0.08574328571557999,0.08201839029788971,0.008342305198311806,0.057435717433691025,0.08681114763021469,0.10057825595140457,0.08175848424434662,0.0804208442568779,0.10877002030611038,0.07002601027488708,0.02757657878100872,0.0962563082575798,0.061168450862169266,0.04976825416088104,0.053114671260118484,0.09575843811035156,0.09844285994768143,0.03861141577363014,0.12210134416818619,0.05479273945093155,0.13023638725280762,0.046316202729940414,0.06683441996574402,0.08480262011289597,0.031844429671764374,-0.007127835415303707,0.06260129809379578,0.09883497655391693,0.11634472012519836,0.16962097585201263,0.019589660689234734,0.10076753050088882,0.02166091650724411,0.06104908883571625,0.03268957883119583,0.08053293079137802,0.05082261934876442,0.02813480980694294,0.12892523407936096,0.13377875089645386,0.004762614145874977,0.07399208098649979,0.07182025164365768,0.0038445154204964638,0.01587073691189289,0.0849154144525528,0.05840308964252472,0.015425317920744419,0.024497365579009056,0.03332170471549034,0.02216207981109619],\"y\":[-0.044371459633111954,-0.02003568597137928,-0.07301439344882965,-0.12510845065116882,-0.022828245535492897,-0.030293677002191544,-0.040681734681129456,-0.028301795944571495,-0.06988319754600525,-0.0774552971124649,-0.05830249935388565,-0.07912453263998032,-0.016829242929816246,-0.044258590787649155,-0.002413986250758171,-0.01868988201022148,-0.014498884789645672,-0.012779081240296364,-0.02131222002208233,-0.01895195059478283,-0.018290461972355843,-0.03626995533704758,-0.013831045478582382,-0.053955819457769394,-0.026965688914060593,-0.07890663295984268,-0.017104828730225563,-0.031167132779955864,-0.017316289246082306,-0.058324143290519714,-0.02619774453341961,-0.05916864797472954,-0.012054633349180222,0.004633081611245871,-0.02806798182427883,-0.02951858378946781,-0.029145123437047005,-0.036160677671432495,-0.018097851425409317,-0.021697722375392914,-0.030998213216662407,-0.03897111490368843,-0.06843989342451096,0.009298299439251423,-0.017175883054733276,-0.030911533161997795,-0.030325889587402344,-0.042256470769643784,-0.03504021465778351,-0.03854503482580185,-0.04078185185790062,-0.04517896845936775,-0.04430043697357178,-0.061381738632917404,-0.029407350346446037,-0.04478447511792183,-0.017973707988858223,-0.09328246861696243,-0.029259633272886276,-0.03263450041413307,0.02383018471300602,-0.07717061042785645,-0.03714596480131149,-0.038705937564373016,-0.06440946459770203,-0.05667347460985184,-0.007466543931514025,-0.008149483241140842,-0.08189243823289871,-0.03224848955869675,-0.038464613258838654,-0.014329669997096062,-0.18386681377887726,-0.09919596463441849,-0.026434756815433502,-0.030136417597532272,-0.06724037230014801,-0.0021377408411353827,-0.004340074956417084,0.05898423492908478,-0.021365821361541748,-0.057964615523815155,-0.02851264178752899,-0.035575393587350845,-0.053502991795539856,-0.11940207332372665,-0.022608302533626556,0.047589875757694244,0.024478361010551453,-0.028906358405947685,-0.05325803905725479,-0.09246273338794708,-0.017565811052918434,-0.07382508367300034,-0.007464531343430281,-0.029624052345752716,-0.06602388620376587,-0.0455840602517128,-0.025775246322155,-0.04091422259807587,-0.06548988074064255,-0.12003809213638306,-0.0677388608455658,-0.006428492721170187,-0.006032346747815609,-0.009031926281750202,-0.01615883782505989,-0.016492143273353577,-0.05974684655666351,-0.02363518439233303,-0.01918436586856842,-0.06851740181446075,-0.016856877133250237,-0.0180438831448555,-0.02310379408299923,-0.03647007793188095,-0.06248057261109352,-0.017538703978061676,0.02544032596051693,-0.023297635838389397,-0.022908838465809822,-0.015644652768969536,-0.07522255927324295,-0.011696403846144676,-0.02283317968249321,-0.01169745996594429,-0.012636130675673485,-0.01564769819378853,-0.01806456223130226,-0.02253700979053974,-0.012013441883027554,-0.06629740446805954,-0.06619708240032196,-0.000965198443736881,-0.03323058411478996,-0.0345514751970768,-0.00990266352891922,-0.005254391115158796,-0.01271482091397047,-0.022796154022216797,-0.0037167116533964872,-0.007502139545977116,-0.00810092780739069,-0.018673697486519814],\"type\":\"scatter\",\"xaxis\":\"x7\",\"yaxis\":\"y7\"},{\"line\":{\"color\":\"grey\",\"dash\":\"dot\"},\"mode\":\"lines\",\"name\":\"Y=-X\",\"x\":[-0.4,0.4],\"y\":[0.4,-0.4],\"type\":\"scatter\",\"xaxis\":\"x7\",\"yaxis\":\"y7\"},{\"marker\":{\"color\":[0.0,0.0,0.0,0.0,0.0,0.0,0.0,0.0,0.0,0.0,0.0,0.0,1.0,1.0,1.0,1.0,1.0,1.0,1.0,1.0,1.0,1.0,1.0,1.0,2.0,2.0,2.0,2.0,2.0,2.0,2.0,2.0,2.0,2.0,2.0,2.0,3.0,3.0,3.0,3.0,3.0,3.0,3.0,3.0,3.0,3.0,3.0,3.0,4.0,4.0,4.0,4.0,4.0,4.0,4.0,4.0,4.0,4.0,4.0,4.0,5.0,5.0,5.0,5.0,5.0,5.0,5.0,5.0,5.0,5.0,5.0,5.0,6.0,6.0,6.0,6.0,6.0,6.0,6.0,6.0,6.0,6.0,6.0,6.0,7.0,7.0,7.0,7.0,7.0,7.0,7.0,7.0,7.0,7.0,7.0,7.0,8.0,8.0,8.0,8.0,8.0,8.0,8.0,8.0,8.0,8.0,8.0,8.0,9.0,9.0,9.0,9.0,9.0,9.0,9.0,9.0,9.0,9.0,9.0,9.0,10.0,10.0,10.0,10.0,10.0,10.0,10.0,10.0,10.0,10.0,10.0,10.0,11.0,11.0,11.0,11.0,11.0,11.0,11.0,11.0,11.0,11.0,11.0,11.0],\"colorbar\":{\"orientation\":\"h\",\"title\":{\"text\":\"Layer\"}},\"colorscale\":[[0.0,\"#440154\"],[0.1111111111111111,\"#482878\"],[0.2222222222222222,\"#3e4989\"],[0.3333333333333333,\"#31688e\"],[0.4444444444444444,\"#26828e\"],[0.5555555555555556,\"#1f9e89\"],[0.6666666666666666,\"#35b779\"],[0.7777777777777778,\"#6ece58\"],[0.8888888888888888,\"#b5de2b\"],[1.0,\"#fde725\"]],\"line\":{\"color\":\"DarkSlateGrey\",\"width\":0.5},\"opacity\":0.8,\"size\":8},\"mode\":\"markers\",\"name\":\"Attention Heads\",\"text\":[\"Layer 0, Head 0\",\"Layer 0, Head 1\",\"Layer 0, Head 2\",\"Layer 0, Head 3\",\"Layer 0, Head 4\",\"Layer 0, Head 5\",\"Layer 0, Head 6\",\"Layer 0, Head 7\",\"Layer 0, Head 8\",\"Layer 0, Head 9\",\"Layer 0, Head 10\",\"Layer 0, Head 11\",\"Layer 1, Head 0\",\"Layer 1, Head 1\",\"Layer 1, Head 2\",\"Layer 1, Head 3\",\"Layer 1, Head 4\",\"Layer 1, Head 5\",\"Layer 1, Head 6\",\"Layer 1, Head 7\",\"Layer 1, Head 8\",\"Layer 1, Head 9\",\"Layer 1, Head 10\",\"Layer 1, Head 11\",\"Layer 2, Head 0\",\"Layer 2, Head 1\",\"Layer 2, Head 2\",\"Layer 2, Head 3\",\"Layer 2, Head 4\",\"Layer 2, Head 5\",\"Layer 2, Head 6\",\"Layer 2, Head 7\",\"Layer 2, Head 8\",\"Layer 2, Head 9\",\"Layer 2, Head 10\",\"Layer 2, Head 11\",\"Layer 3, Head 0\",\"Layer 3, Head 1\",\"Layer 3, Head 2\",\"Layer 3, Head 3\",\"Layer 3, Head 4\",\"Layer 3, Head 5\",\"Layer 3, Head 6\",\"Layer 3, Head 7\",\"Layer 3, Head 8\",\"Layer 3, Head 9\",\"Layer 3, Head 10\",\"Layer 3, Head 11\",\"Layer 4, Head 0\",\"Layer 4, Head 1\",\"Layer 4, Head 2\",\"Layer 4, Head 3\",\"Layer 4, Head 4\",\"Layer 4, Head 5\",\"Layer 4, Head 6\",\"Layer 4, Head 7\",\"Layer 4, Head 8\",\"Layer 4, Head 9\",\"Layer 4, Head 10\",\"Layer 4, Head 11\",\"Layer 5, Head 0\",\"Layer 5, Head 1\",\"Layer 5, Head 2\",\"Layer 5, Head 3\",\"Layer 5, Head 4\",\"Layer 5, Head 5\",\"Layer 5, Head 6\",\"Layer 5, Head 7\",\"Layer 5, Head 8\",\"Layer 5, Head 9\",\"Layer 5, Head 10\",\"Layer 5, Head 11\",\"Layer 6, Head 0\",\"Layer 6, Head 1\",\"Layer 6, Head 2\",\"Layer 6, Head 3\",\"Layer 6, Head 4\",\"Layer 6, Head 5\",\"Layer 6, Head 6\",\"Layer 6, Head 7\",\"Layer 6, Head 8\",\"Layer 6, Head 9\",\"Layer 6, Head 10\",\"Layer 6, Head 11\",\"Layer 7, Head 0\",\"Layer 7, Head 1\",\"Layer 7, Head 2\",\"Layer 7, Head 3\",\"Layer 7, Head 4\",\"Layer 7, Head 5\",\"Layer 7, Head 6\",\"Layer 7, Head 7\",\"Layer 7, Head 8\",\"Layer 7, Head 9\",\"Layer 7, Head 10\",\"Layer 7, Head 11\",\"Layer 8, Head 0\",\"Layer 8, Head 1\",\"Layer 8, Head 2\",\"Layer 8, Head 3\",\"Layer 8, Head 4\",\"Layer 8, Head 5\",\"Layer 8, Head 6\",\"Layer 8, Head 7\",\"Layer 8, Head 8\",\"Layer 8, Head 9\",\"Layer 8, Head 10\",\"Layer 8, Head 11\",\"Layer 9, Head 0\",\"Layer 9, Head 1\",\"Layer 9, Head 2\",\"Layer 9, Head 3\",\"Layer 9, Head 4\",\"Layer 9, Head 5\",\"Layer 9, Head 6\",\"Layer 9, Head 7\",\"Layer 9, Head 8\",\"Layer 9, Head 9\",\"Layer 9, Head 10\",\"Layer 9, Head 11\",\"Layer 10, Head 0\",\"Layer 10, Head 1\",\"Layer 10, Head 2\",\"Layer 10, Head 3\",\"Layer 10, Head 4\",\"Layer 10, Head 5\",\"Layer 10, Head 6\",\"Layer 10, Head 7\",\"Layer 10, Head 8\",\"Layer 10, Head 9\",\"Layer 10, Head 10\",\"Layer 10, Head 11\",\"Layer 11, Head 0\",\"Layer 11, Head 1\",\"Layer 11, Head 2\",\"Layer 11, Head 3\",\"Layer 11, Head 4\",\"Layer 11, Head 5\",\"Layer 11, Head 6\",\"Layer 11, Head 7\",\"Layer 11, Head 8\",\"Layer 11, Head 9\",\"Layer 11, Head 10\",\"Layer 11, Head 11\"],\"x\":[0.010276311077177525,0.04579366743564606,0.015733592212200165,0.10725803673267365,0.10212957113981247,0.027093980461359024,0.08307493478059769,0.06510566920042038,0.033192142844200134,0.029925988987088203,0.02057700604200363,0.024523219093680382,0.006747837644070387,0.007786094211041927,-0.025152035057544708,0.01796424575150013,-0.040207430720329285,-0.003607364371418953,-0.01353882160037756,0.006307448726147413,0.05023219436407089,0.0212197657674551,0.041496798396110535,0.041249003261327744,0.022934820502996445,0.03289850056171417,0.007290619425475597,0.020248984917998314,0.03381572291254997,0.004406436812132597,0.0019358531571924686,0.012633093632757664,0.0034750234335660934,-0.02338191494345665,0.012084513902664185,0.01376214250922203,0.025530515238642693,0.02928542159497738,0.021092042326927185,0.023764323443174362,0.039670903235673904,0.023072287440299988,0.02903108485043049,-0.007957314141094685,0.006896907929331064,0.028079085052013397,0.030304204672574997,0.044593214988708496,0.047603435814380646,0.024231968447566032,0.030586743727326393,0.033856406807899475,0.014850450679659843,0.01999392919242382,0.047717832028865814,0.02786894701421261,0.04624653607606888,0.04840531945228577,0.03302481025457382,0.04305737838149071,0.009754031896591187,0.039267029613256454,0.08612828701734543,0.02772330306470394,0.024536751210689545,0.06658561527729034,0.01064789667725563,0.005464665126055479,0.01777736097574234,-0.027007341384887695,0.014363833703100681,0.04092707484960556,0.14150215685367584,0.08289448171854019,0.07688428461551666,0.02037653885781765,0.08189721405506134,0.004147153347730637,-0.006157652009278536,-0.017237212508916855,0.05724000930786133,0.014432047493755817,-0.01459555048495531,-0.019125618040561676,0.02971990406513214,0.08346258103847504,0.03409435227513313,-0.09403246641159058,-0.03628776967525482,0.028333544731140137,0.027752364054322243,0.08370858430862427,0.08287090808153152,0.17573541402816772,0.17598587274551392,-0.006136114243417978,0.05637717247009277,0.05288541316986084,0.12772119045257568,0.12022317200899124,0.09181904047727585,0.09357847273349762,0.08131475746631622,0.01878015510737896,0.02891533449292183,0.12109698355197906,0.014263740740716457,0.05256643146276474,0.017341293394565582,0.156370148062706,-0.06564512103796005,0.15368938446044922,0.021094949916005135,0.16791890561580658,0.06341881304979324,0.075193390250206,0.11056269705295563,-0.019567353650927544,0.008573764003813267,0.0737999826669693,0.04998273774981499,0.14406873285770416,0.06587313860654831,0.02043178491294384,0.027700908482074738,0.019519207999110222,0.02196500450372696,-0.02171776443719864,0.09843732416629791,-0.04049892723560333,-0.0005946654127910733,0.15121060609817505,0.07553677260875702,0.006011391524225473,0.038531847298145294,0.04892127588391304,0.00438639335334301,0.056664567440748215,0.018506672233343124,0.01786612719297409,0.001676987623795867,0.010643607936799526,0.013536728918552399,0.019119765609502792],\"y\":[-0.0670507475733757,-0.03797432780265808,-0.0795898512005806,-0.1419948786497116,-0.03265402466058731,-0.06668144464492798,-0.04371332749724388,-0.03699116036295891,-0.1180332601070404,-0.10285506397485733,-0.07006683945655823,-0.14261695742607117,-0.018070438876748085,-0.042548663914203644,-0.004338626749813557,-0.027391040697693825,-0.014800824224948883,-0.02479826658964157,-0.03023918904364109,-0.026982523500919342,-0.048079174011945724,-0.04121736064553261,-0.020357836037874222,-0.06767278909683228,-0.04398006573319435,-0.1153281107544899,-0.022788671776652336,-0.04422793537378311,-0.025076165795326233,-0.06562002748250961,-0.04233108460903168,-0.06944265216588974,-0.016801854595541954,0.006892230827361345,-0.0323701836168766,-0.030226221308112144,-0.051565274596214294,-0.04758298024535179,-0.028493352234363556,-0.03753650560975075,-0.05154525861144066,-0.058800891041755676,-0.09575042128562927,0.0185745507478714,-0.028234289959073067,-0.04222264140844345,-0.03849661722779274,-0.052919652312994,-0.043729305267333984,-0.04678674042224884,-0.05596078932285309,-0.07572203129529953,-0.051139432936906815,-0.07463523000478745,-0.03829166665673256,-0.036720797419548035,-0.027836307883262634,-0.1187235489487648,-0.049356769770383835,-0.027815142646431923,0.04062619060277939,-0.08469850569963455,-0.053329918533563614,-0.03625816851854324,-0.0899166688323021,-0.07295791059732437,-0.014331497251987457,-0.009585630148649216,-0.08989536017179489,-0.03184140846133232,-0.04970936477184296,-0.019713295623660088,-0.2049325853586197,-0.07629503309726715,-0.017024647444486618,-0.04608795419335365,-0.08638576418161392,-0.006105506327003241,0.004975468851625919,0.05865795537829399,-0.034563641995191574,-0.0650310218334198,-0.05043920874595642,-0.033884044736623764,-0.05706809088587761,-0.12737008929252625,-0.006749836262315512,0.03782809153199196,0.01317326445132494,-0.03797529265284538,-0.06088411435484886,-0.08752967417240143,-0.03987341374158859,-0.1307598203420639,-0.01646653190255165,-0.03883335366845131,-0.04406602308154106,-0.03054847940802574,-0.017302490770816803,-0.06641463935375214,-0.0715947076678276,-0.13537901639938354,-0.07573714107275009,-0.014367079362273216,0.00011263745545875281,-0.01699090749025345,-0.011770741082727909,-0.027466729283332825,-0.04503051936626434,-0.04015491530299187,-0.007160704582929611,-0.13098537921905518,-0.00301564228720963,-0.036831531673669815,-0.03498069569468498,-0.03006659634411335,-0.08991827070713043,-0.0068947928957641125,-0.0027398003730922937,-0.020508786663413048,-0.009988880716264248,-0.0619523711502552,-0.06981340050697327,-0.007309309672564268,-0.005430735182017088,-0.007317584939301014,-0.013887559995055199,-0.0007759116124361753,-0.03913673385977745,-0.0016221569385379553,-0.005242288578301668,-0.08610004931688309,-0.03330377861857414,-0.005736235063523054,-0.024202970787882805,-0.02506684884428978,-0.012708724476397038,-0.09063366800546646,-0.0026345192454755306,-0.011834647506475449,-0.003490519244223833,-0.002442307770252228,-0.004440318793058395,-0.01232412550598383],\"type\":\"scatter\",\"xaxis\":\"x8\",\"yaxis\":\"y8\"},{\"line\":{\"color\":\"grey\",\"dash\":\"dot\"},\"mode\":\"lines\",\"name\":\"Y=-X\",\"x\":[-0.4,0.4],\"y\":[0.4,-0.4],\"type\":\"scatter\",\"xaxis\":\"x8\",\"yaxis\":\"y8\"},{\"marker\":{\"color\":[0.0,0.0,0.0,0.0,0.0,0.0,0.0,0.0,0.0,0.0,0.0,0.0,1.0,1.0,1.0,1.0,1.0,1.0,1.0,1.0,1.0,1.0,1.0,1.0,2.0,2.0,2.0,2.0,2.0,2.0,2.0,2.0,2.0,2.0,2.0,2.0,3.0,3.0,3.0,3.0,3.0,3.0,3.0,3.0,3.0,3.0,3.0,3.0,4.0,4.0,4.0,4.0,4.0,4.0,4.0,4.0,4.0,4.0,4.0,4.0,5.0,5.0,5.0,5.0,5.0,5.0,5.0,5.0,5.0,5.0,5.0,5.0,6.0,6.0,6.0,6.0,6.0,6.0,6.0,6.0,6.0,6.0,6.0,6.0,7.0,7.0,7.0,7.0,7.0,7.0,7.0,7.0,7.0,7.0,7.0,7.0,8.0,8.0,8.0,8.0,8.0,8.0,8.0,8.0,8.0,8.0,8.0,8.0,9.0,9.0,9.0,9.0,9.0,9.0,9.0,9.0,9.0,9.0,9.0,9.0,10.0,10.0,10.0,10.0,10.0,10.0,10.0,10.0,10.0,10.0,10.0,10.0,11.0,11.0,11.0,11.0,11.0,11.0,11.0,11.0,11.0,11.0,11.0,11.0],\"colorbar\":{\"orientation\":\"h\",\"title\":{\"text\":\"Layer\"}},\"colorscale\":[[0.0,\"#440154\"],[0.1111111111111111,\"#482878\"],[0.2222222222222222,\"#3e4989\"],[0.3333333333333333,\"#31688e\"],[0.4444444444444444,\"#26828e\"],[0.5555555555555556,\"#1f9e89\"],[0.6666666666666666,\"#35b779\"],[0.7777777777777778,\"#6ece58\"],[0.8888888888888888,\"#b5de2b\"],[1.0,\"#fde725\"]],\"line\":{\"color\":\"DarkSlateGrey\",\"width\":0.5},\"opacity\":0.8,\"size\":8},\"mode\":\"markers\",\"name\":\"Attention Heads\",\"text\":[\"Layer 0, Head 0\",\"Layer 0, Head 1\",\"Layer 0, Head 2\",\"Layer 0, Head 3\",\"Layer 0, Head 4\",\"Layer 0, Head 5\",\"Layer 0, Head 6\",\"Layer 0, Head 7\",\"Layer 0, Head 8\",\"Layer 0, Head 9\",\"Layer 0, Head 10\",\"Layer 0, Head 11\",\"Layer 1, Head 0\",\"Layer 1, Head 1\",\"Layer 1, Head 2\",\"Layer 1, Head 3\",\"Layer 1, Head 4\",\"Layer 1, Head 5\",\"Layer 1, Head 6\",\"Layer 1, Head 7\",\"Layer 1, Head 8\",\"Layer 1, Head 9\",\"Layer 1, Head 10\",\"Layer 1, Head 11\",\"Layer 2, Head 0\",\"Layer 2, Head 1\",\"Layer 2, Head 2\",\"Layer 2, Head 3\",\"Layer 2, Head 4\",\"Layer 2, Head 5\",\"Layer 2, Head 6\",\"Layer 2, Head 7\",\"Layer 2, Head 8\",\"Layer 2, Head 9\",\"Layer 2, Head 10\",\"Layer 2, Head 11\",\"Layer 3, Head 0\",\"Layer 3, Head 1\",\"Layer 3, Head 2\",\"Layer 3, Head 3\",\"Layer 3, Head 4\",\"Layer 3, Head 5\",\"Layer 3, Head 6\",\"Layer 3, Head 7\",\"Layer 3, Head 8\",\"Layer 3, Head 9\",\"Layer 3, Head 10\",\"Layer 3, Head 11\",\"Layer 4, Head 0\",\"Layer 4, Head 1\",\"Layer 4, Head 2\",\"Layer 4, Head 3\",\"Layer 4, Head 4\",\"Layer 4, Head 5\",\"Layer 4, Head 6\",\"Layer 4, Head 7\",\"Layer 4, Head 8\",\"Layer 4, Head 9\",\"Layer 4, Head 10\",\"Layer 4, Head 11\",\"Layer 5, Head 0\",\"Layer 5, Head 1\",\"Layer 5, Head 2\",\"Layer 5, Head 3\",\"Layer 5, Head 4\",\"Layer 5, Head 5\",\"Layer 5, Head 6\",\"Layer 5, Head 7\",\"Layer 5, Head 8\",\"Layer 5, Head 9\",\"Layer 5, Head 10\",\"Layer 5, Head 11\",\"Layer 6, Head 0\",\"Layer 6, Head 1\",\"Layer 6, Head 2\",\"Layer 6, Head 3\",\"Layer 6, Head 4\",\"Layer 6, Head 5\",\"Layer 6, Head 6\",\"Layer 6, Head 7\",\"Layer 6, Head 8\",\"Layer 6, Head 9\",\"Layer 6, Head 10\",\"Layer 6, Head 11\",\"Layer 7, Head 0\",\"Layer 7, Head 1\",\"Layer 7, Head 2\",\"Layer 7, Head 3\",\"Layer 7, Head 4\",\"Layer 7, Head 5\",\"Layer 7, Head 6\",\"Layer 7, Head 7\",\"Layer 7, Head 8\",\"Layer 7, Head 9\",\"Layer 7, Head 10\",\"Layer 7, Head 11\",\"Layer 8, Head 0\",\"Layer 8, Head 1\",\"Layer 8, Head 2\",\"Layer 8, Head 3\",\"Layer 8, Head 4\",\"Layer 8, Head 5\",\"Layer 8, Head 6\",\"Layer 8, Head 7\",\"Layer 8, Head 8\",\"Layer 8, Head 9\",\"Layer 8, Head 10\",\"Layer 8, Head 11\",\"Layer 9, Head 0\",\"Layer 9, Head 1\",\"Layer 9, Head 2\",\"Layer 9, Head 3\",\"Layer 9, Head 4\",\"Layer 9, Head 5\",\"Layer 9, Head 6\",\"Layer 9, Head 7\",\"Layer 9, Head 8\",\"Layer 9, Head 9\",\"Layer 9, Head 10\",\"Layer 9, Head 11\",\"Layer 10, Head 0\",\"Layer 10, Head 1\",\"Layer 10, Head 2\",\"Layer 10, Head 3\",\"Layer 10, Head 4\",\"Layer 10, Head 5\",\"Layer 10, Head 6\",\"Layer 10, Head 7\",\"Layer 10, Head 8\",\"Layer 10, Head 9\",\"Layer 10, Head 10\",\"Layer 10, Head 11\",\"Layer 11, Head 0\",\"Layer 11, Head 1\",\"Layer 11, Head 2\",\"Layer 11, Head 3\",\"Layer 11, Head 4\",\"Layer 11, Head 5\",\"Layer 11, Head 6\",\"Layer 11, Head 7\",\"Layer 11, Head 8\",\"Layer 11, Head 9\",\"Layer 11, Head 10\",\"Layer 11, Head 11\"],\"x\":[0.042363934218883514,0.08013368397951126,0.025967659428715706,0.13380193710327148,0.09957255423069,0.039116233587265015,0.07962941378355026,0.09311266988515854,0.07450953125953674,0.045571547001600266,0.03102504275739193,0.06877469271421432,-0.008935822173953056,0.009084487333893776,0.0033335238695144653,0.03142852708697319,-0.05024118348956108,0.007478783372789621,0.019089581444859505,0.009226805530488491,0.05838087573647499,0.028054771944880486,0.024338962510228157,0.05282120406627655,0.03675699234008789,0.07135900110006332,0.012074142694473267,0.02255646325647831,0.022234132513403893,0.04953238368034363,0.01614893227815628,0.030203720554709435,0.011555486358702183,-0.05475234240293503,0.027495797723531723,0.008067631162703037,0.02778450958430767,0.03073486126959324,0.02969195507466793,0.028745094314217567,0.055786896497011185,0.026719195768237114,0.035932544618844986,-0.030759986490011215,0.01696738973259926,0.028920387849211693,0.048928067088127136,0.060933079570531845,0.07640682905912399,0.02464253641664982,0.02977559342980385,0.040591079741716385,0.01612946018576622,0.03166407719254494,0.03590603545308113,0.011237026192247868,0.03119264543056488,0.06587297469377518,0.04361359402537346,0.07130860537290573,0.013110707513988018,0.06247160583734512,0.11654772609472275,0.0070505389012396336,0.042174939066171646,0.10703513026237488,0.08219248801469803,0.0035273206885904074,0.03333808854222298,0.028712188825011253,0.008868892677128315,0.025568263605237007,0.20240195095539093,0.04928603023290634,0.06270411610603333,0.03355204313993454,0.10689512640237808,-0.02142876200377941,0.010219186544418335,-0.03417196124792099,0.06411989778280258,0.08830296248197556,0.006179338321089745,0.003077315166592598,0.038740724325180054,0.07352164387702942,0.02717958204448223,-0.10188809782266617,-0.009598511271178722,0.047083497047424316,0.04387567564845085,0.05251726508140564,0.06993125379085541,0.1946997046470642,0.16215313971042633,0.030288944020867348,0.06169169768691063,0.021097062155604362,0.08029714971780777,0.2130233496427536,0.019567204639315605,0.1920442432165146,0.0788990780711174,0.007507914211601019,0.05642477795481682,0.14826640486717224,0.04255091771483421,0.07239776849746704,0.11198557913303375,0.12007880955934525,0.018817046657204628,0.03377346321940422,0.036566298454999924,0.2169341742992401,0.03350982069969177,0.04063033685088158,0.018577368929982185,0.014547866769134998,-0.04669036716222763,0.03349495679140091,0.0560305081307888,0.06405509263277054,0.06959915161132812,0.025957034900784492,0.024911001324653625,0.005858072079718113,0.024862173944711685,-0.006106855813413858,0.056058187037706375,0.010630065575242043,0.0042777820490300655,0.1382749080657959,0.0786779373884201,-0.0007110333535820246,0.033107858151197433,0.04898230731487274,-0.007174548227339983,0.019984805956482887,0.03537207469344139,0.023920392617583275,0.007131108548492193,0.018553661182522774,0.008161259815096855,0.007692839950323105],\"y\":[-0.07751151919364929,-0.05662618204951286,-0.10348629206418991,-0.18565654754638672,-0.03804973140358925,-0.09065665304660797,-0.061207666993141174,-0.0396285243332386,-0.13851405680179596,-0.12775184214115143,-0.07402154058218002,-0.17636623978614807,-0.025557177141308784,-0.05468142777681351,-0.01100768893957138,-0.033869192004203796,-0.017277948558330536,-0.03812320902943611,-0.03908925876021385,-0.0353686697781086,-0.06965108960866928,-0.0579155758023262,-0.025656625628471375,-0.0761551707983017,-0.05797173082828522,-0.1391851305961609,-0.028620464727282524,-0.052653007209300995,-0.03683580830693245,-0.09002888947725296,-0.0543927364051342,-0.09423761069774628,-0.025378743186593056,0.0050070518627762794,-0.04471885412931442,-0.036863867193460464,-0.07142196595668793,-0.0624396875500679,-0.0449054054915905,-0.0567854605615139,-0.07364112138748169,-0.07240211218595505,-0.11992445588111877,0.03515511378645897,-0.03109915740787983,-0.05409231781959534,-0.05181866139173508,-0.07848826050758362,-0.06130519509315491,-0.055955417454242706,-0.06791513413190842,-0.09954278916120529,-0.06573065370321274,-0.0877123549580574,-0.046903107315301895,-0.04294826462864876,-0.042119190096855164,-0.1487053781747818,-0.05436744913458824,-0.03490964695811272,0.061333268880844116,-0.11416063457727432,-0.07406012713909149,-0.030890967696905136,-0.11848468333482742,-0.10966744273900986,-0.02520904690027237,-0.014414981938898563,-0.11207503080368042,-0.03475157544016838,-0.0576474703848362,-0.011319279670715332,-0.2809141278266907,-0.0982743352651596,-0.014749642461538315,-0.047437675297260284,-0.12473205476999283,-0.01245085522532463,0.0020968529861420393,0.081168033182621,-0.047302864491939545,-0.08783869445323944,-0.05566508695483208,-0.023383213207125664,-0.045659709721803665,-0.10936451703310013,-0.006812337785959244,0.04990428313612938,0.00958334282040596,-0.03291426599025726,-0.08973955363035202,-0.07842660695314407,-0.0710006132721901,-0.1658136397600174,-0.027587227523326874,-0.05140858143568039,-0.06692873686552048,-0.007975085638463497,-0.019226767122745514,-0.11095175892114639,-0.016998691484332085,-0.20193026959896088,-0.07748416811227798,-0.022724835202097893,-0.002441821387037635,-0.03607030585408211,-0.015844576060771942,-0.037056341767311096,-0.11877287179231644,-0.04709610342979431,-0.007182606030255556,-0.05477874353528023,-0.006975091062486172,-0.04980714991688728,-0.006235161330550909,-0.01280017476528883,-0.01041979156434536,-0.007104960735887289,-0.004981732927262783,-0.011038505472242832,-0.02068471908569336,-0.023935416713356972,-0.054729118943214417,-0.01298785675317049,-0.005720790009945631,-0.0046482989564538,-0.010773923248052597,-0.0042875767685472965,-0.016585318371653557,-0.01975315809249878,-0.008942433632910252,-0.0862966924905777,-0.05506732687354088,-0.006056868936866522,-0.02774384431540966,-0.035596054047346115,-0.0058899628929793835,-0.16134893894195557,-0.014970253221690655,-0.01718290150165558,-0.007644901052117348,-0.009937314316630363,-0.00633647944778204,-0.014917665161192417],\"type\":\"scatter\",\"xaxis\":\"x9\",\"yaxis\":\"y9\"},{\"line\":{\"color\":\"grey\",\"dash\":\"dot\"},\"mode\":\"lines\",\"name\":\"Y=-X\",\"x\":[-0.4,0.4],\"y\":[0.4,-0.4],\"type\":\"scatter\",\"xaxis\":\"x9\",\"yaxis\":\"y9\"}],                        {\"template\":{\"data\":{\"histogram2dcontour\":[{\"type\":\"histogram2dcontour\",\"colorbar\":{\"outlinewidth\":0,\"ticks\":\"\"},\"colorscale\":[[0.0,\"#0d0887\"],[0.1111111111111111,\"#46039f\"],[0.2222222222222222,\"#7201a8\"],[0.3333333333333333,\"#9c179e\"],[0.4444444444444444,\"#bd3786\"],[0.5555555555555556,\"#d8576b\"],[0.6666666666666666,\"#ed7953\"],[0.7777777777777778,\"#fb9f3a\"],[0.8888888888888888,\"#fdca26\"],[1.0,\"#f0f921\"]]}],\"choropleth\":[{\"type\":\"choropleth\",\"colorbar\":{\"outlinewidth\":0,\"ticks\":\"\"}}],\"histogram2d\":[{\"type\":\"histogram2d\",\"colorbar\":{\"outlinewidth\":0,\"ticks\":\"\"},\"colorscale\":[[0.0,\"#0d0887\"],[0.1111111111111111,\"#46039f\"],[0.2222222222222222,\"#7201a8\"],[0.3333333333333333,\"#9c179e\"],[0.4444444444444444,\"#bd3786\"],[0.5555555555555556,\"#d8576b\"],[0.6666666666666666,\"#ed7953\"],[0.7777777777777778,\"#fb9f3a\"],[0.8888888888888888,\"#fdca26\"],[1.0,\"#f0f921\"]]}],\"heatmap\":[{\"type\":\"heatmap\",\"colorbar\":{\"outlinewidth\":0,\"ticks\":\"\"},\"colorscale\":[[0.0,\"#0d0887\"],[0.1111111111111111,\"#46039f\"],[0.2222222222222222,\"#7201a8\"],[0.3333333333333333,\"#9c179e\"],[0.4444444444444444,\"#bd3786\"],[0.5555555555555556,\"#d8576b\"],[0.6666666666666666,\"#ed7953\"],[0.7777777777777778,\"#fb9f3a\"],[0.8888888888888888,\"#fdca26\"],[1.0,\"#f0f921\"]]}],\"heatmapgl\":[{\"type\":\"heatmapgl\",\"colorbar\":{\"outlinewidth\":0,\"ticks\":\"\"},\"colorscale\":[[0.0,\"#0d0887\"],[0.1111111111111111,\"#46039f\"],[0.2222222222222222,\"#7201a8\"],[0.3333333333333333,\"#9c179e\"],[0.4444444444444444,\"#bd3786\"],[0.5555555555555556,\"#d8576b\"],[0.6666666666666666,\"#ed7953\"],[0.7777777777777778,\"#fb9f3a\"],[0.8888888888888888,\"#fdca26\"],[1.0,\"#f0f921\"]]}],\"contourcarpet\":[{\"type\":\"contourcarpet\",\"colorbar\":{\"outlinewidth\":0,\"ticks\":\"\"}}],\"contour\":[{\"type\":\"contour\",\"colorbar\":{\"outlinewidth\":0,\"ticks\":\"\"},\"colorscale\":[[0.0,\"#0d0887\"],[0.1111111111111111,\"#46039f\"],[0.2222222222222222,\"#7201a8\"],[0.3333333333333333,\"#9c179e\"],[0.4444444444444444,\"#bd3786\"],[0.5555555555555556,\"#d8576b\"],[0.6666666666666666,\"#ed7953\"],[0.7777777777777778,\"#fb9f3a\"],[0.8888888888888888,\"#fdca26\"],[1.0,\"#f0f921\"]]}],\"surface\":[{\"type\":\"surface\",\"colorbar\":{\"outlinewidth\":0,\"ticks\":\"\"},\"colorscale\":[[0.0,\"#0d0887\"],[0.1111111111111111,\"#46039f\"],[0.2222222222222222,\"#7201a8\"],[0.3333333333333333,\"#9c179e\"],[0.4444444444444444,\"#bd3786\"],[0.5555555555555556,\"#d8576b\"],[0.6666666666666666,\"#ed7953\"],[0.7777777777777778,\"#fb9f3a\"],[0.8888888888888888,\"#fdca26\"],[1.0,\"#f0f921\"]]}],\"mesh3d\":[{\"type\":\"mesh3d\",\"colorbar\":{\"outlinewidth\":0,\"ticks\":\"\"}}],\"scatter\":[{\"fillpattern\":{\"fillmode\":\"overlay\",\"size\":10,\"solidity\":0.2},\"type\":\"scatter\"}],\"parcoords\":[{\"type\":\"parcoords\",\"line\":{\"colorbar\":{\"outlinewidth\":0,\"ticks\":\"\"}}}],\"scatterpolargl\":[{\"type\":\"scatterpolargl\",\"marker\":{\"colorbar\":{\"outlinewidth\":0,\"ticks\":\"\"}}}],\"bar\":[{\"error_x\":{\"color\":\"#2a3f5f\"},\"error_y\":{\"color\":\"#2a3f5f\"},\"marker\":{\"line\":{\"color\":\"#E5ECF6\",\"width\":0.5},\"pattern\":{\"fillmode\":\"overlay\",\"size\":10,\"solidity\":0.2}},\"type\":\"bar\"}],\"scattergeo\":[{\"type\":\"scattergeo\",\"marker\":{\"colorbar\":{\"outlinewidth\":0,\"ticks\":\"\"}}}],\"scatterpolar\":[{\"type\":\"scatterpolar\",\"marker\":{\"colorbar\":{\"outlinewidth\":0,\"ticks\":\"\"}}}],\"histogram\":[{\"marker\":{\"pattern\":{\"fillmode\":\"overlay\",\"size\":10,\"solidity\":0.2}},\"type\":\"histogram\"}],\"scattergl\":[{\"type\":\"scattergl\",\"marker\":{\"colorbar\":{\"outlinewidth\":0,\"ticks\":\"\"}}}],\"scatter3d\":[{\"type\":\"scatter3d\",\"line\":{\"colorbar\":{\"outlinewidth\":0,\"ticks\":\"\"}},\"marker\":{\"colorbar\":{\"outlinewidth\":0,\"ticks\":\"\"}}}],\"scattermapbox\":[{\"type\":\"scattermapbox\",\"marker\":{\"colorbar\":{\"outlinewidth\":0,\"ticks\":\"\"}}}],\"scatterternary\":[{\"type\":\"scatterternary\",\"marker\":{\"colorbar\":{\"outlinewidth\":0,\"ticks\":\"\"}}}],\"scattercarpet\":[{\"type\":\"scattercarpet\",\"marker\":{\"colorbar\":{\"outlinewidth\":0,\"ticks\":\"\"}}}],\"carpet\":[{\"aaxis\":{\"endlinecolor\":\"#2a3f5f\",\"gridcolor\":\"white\",\"linecolor\":\"white\",\"minorgridcolor\":\"white\",\"startlinecolor\":\"#2a3f5f\"},\"baxis\":{\"endlinecolor\":\"#2a3f5f\",\"gridcolor\":\"white\",\"linecolor\":\"white\",\"minorgridcolor\":\"white\",\"startlinecolor\":\"#2a3f5f\"},\"type\":\"carpet\"}],\"table\":[{\"cells\":{\"fill\":{\"color\":\"#EBF0F8\"},\"line\":{\"color\":\"white\"}},\"header\":{\"fill\":{\"color\":\"#C8D4E3\"},\"line\":{\"color\":\"white\"}},\"type\":\"table\"}],\"barpolar\":[{\"marker\":{\"line\":{\"color\":\"#E5ECF6\",\"width\":0.5},\"pattern\":{\"fillmode\":\"overlay\",\"size\":10,\"solidity\":0.2}},\"type\":\"barpolar\"}],\"pie\":[{\"automargin\":true,\"type\":\"pie\"}]},\"layout\":{\"autotypenumbers\":\"strict\",\"colorway\":[\"#636efa\",\"#EF553B\",\"#00cc96\",\"#ab63fa\",\"#FFA15A\",\"#19d3f3\",\"#FF6692\",\"#B6E880\",\"#FF97FF\",\"#FECB52\"],\"font\":{\"color\":\"#2a3f5f\"},\"hovermode\":\"closest\",\"hoverlabel\":{\"align\":\"left\"},\"paper_bgcolor\":\"white\",\"plot_bgcolor\":\"#E5ECF6\",\"polar\":{\"bgcolor\":\"#E5ECF6\",\"angularaxis\":{\"gridcolor\":\"white\",\"linecolor\":\"white\",\"ticks\":\"\"},\"radialaxis\":{\"gridcolor\":\"white\",\"linecolor\":\"white\",\"ticks\":\"\"}},\"ternary\":{\"bgcolor\":\"#E5ECF6\",\"aaxis\":{\"gridcolor\":\"white\",\"linecolor\":\"white\",\"ticks\":\"\"},\"baxis\":{\"gridcolor\":\"white\",\"linecolor\":\"white\",\"ticks\":\"\"},\"caxis\":{\"gridcolor\":\"white\",\"linecolor\":\"white\",\"ticks\":\"\"}},\"coloraxis\":{\"colorbar\":{\"outlinewidth\":0,\"ticks\":\"\"}},\"colorscale\":{\"sequential\":[[0.0,\"#0d0887\"],[0.1111111111111111,\"#46039f\"],[0.2222222222222222,\"#7201a8\"],[0.3333333333333333,\"#9c179e\"],[0.4444444444444444,\"#bd3786\"],[0.5555555555555556,\"#d8576b\"],[0.6666666666666666,\"#ed7953\"],[0.7777777777777778,\"#fb9f3a\"],[0.8888888888888888,\"#fdca26\"],[1.0,\"#f0f921\"]],\"sequentialminus\":[[0.0,\"#0d0887\"],[0.1111111111111111,\"#46039f\"],[0.2222222222222222,\"#7201a8\"],[0.3333333333333333,\"#9c179e\"],[0.4444444444444444,\"#bd3786\"],[0.5555555555555556,\"#d8576b\"],[0.6666666666666666,\"#ed7953\"],[0.7777777777777778,\"#fb9f3a\"],[0.8888888888888888,\"#fdca26\"],[1.0,\"#f0f921\"]],\"diverging\":[[0,\"#8e0152\"],[0.1,\"#c51b7d\"],[0.2,\"#de77ae\"],[0.3,\"#f1b6da\"],[0.4,\"#fde0ef\"],[0.5,\"#f7f7f7\"],[0.6,\"#e6f5d0\"],[0.7,\"#b8e186\"],[0.8,\"#7fbc41\"],[0.9,\"#4d9221\"],[1,\"#276419\"]]},\"xaxis\":{\"gridcolor\":\"white\",\"linecolor\":\"white\",\"ticks\":\"\",\"title\":{\"standoff\":15},\"zerolinecolor\":\"white\",\"automargin\":true,\"zerolinewidth\":2},\"yaxis\":{\"gridcolor\":\"white\",\"linecolor\":\"white\",\"ticks\":\"\",\"title\":{\"standoff\":15},\"zerolinecolor\":\"white\",\"automargin\":true,\"zerolinewidth\":2},\"scene\":{\"xaxis\":{\"backgroundcolor\":\"#E5ECF6\",\"gridcolor\":\"white\",\"linecolor\":\"white\",\"showbackground\":true,\"ticks\":\"\",\"zerolinecolor\":\"white\",\"gridwidth\":2},\"yaxis\":{\"backgroundcolor\":\"#E5ECF6\",\"gridcolor\":\"white\",\"linecolor\":\"white\",\"showbackground\":true,\"ticks\":\"\",\"zerolinecolor\":\"white\",\"gridwidth\":2},\"zaxis\":{\"backgroundcolor\":\"#E5ECF6\",\"gridcolor\":\"white\",\"linecolor\":\"white\",\"showbackground\":true,\"ticks\":\"\",\"zerolinecolor\":\"white\",\"gridwidth\":2}},\"shapedefaults\":{\"line\":{\"color\":\"#2a3f5f\"}},\"annotationdefaults\":{\"arrowcolor\":\"#2a3f5f\",\"arrowhead\":0,\"arrowwidth\":1},\"geo\":{\"bgcolor\":\"white\",\"landcolor\":\"#E5ECF6\",\"subunitcolor\":\"white\",\"showland\":true,\"showlakes\":true,\"lakecolor\":\"white\"},\"title\":{\"x\":0.05},\"mapbox\":{\"style\":\"light\"}}},\"xaxis\":{\"anchor\":\"y\",\"domain\":[0.0,0.3],\"range\":[-0.1,0.4]},\"yaxis\":{\"anchor\":\"x\",\"domain\":[0.7,1.0],\"range\":[-0.4,0.1]},\"xaxis2\":{\"anchor\":\"y2\",\"domain\":[0.35,0.6499999999999999],\"range\":[-0.1,0.4]},\"yaxis2\":{\"anchor\":\"x2\",\"domain\":[0.7,1.0],\"range\":[-0.4,0.1]},\"xaxis3\":{\"anchor\":\"y3\",\"domain\":[0.7,1.0],\"range\":[-0.1,0.4]},\"yaxis3\":{\"anchor\":\"x3\",\"domain\":[0.7,1.0],\"range\":[-0.4,0.1]},\"xaxis4\":{\"anchor\":\"y4\",\"domain\":[0.0,0.3],\"range\":[-0.1,0.4]},\"yaxis4\":{\"anchor\":\"x4\",\"domain\":[0.35,0.6499999999999999],\"range\":[-0.4,0.1]},\"xaxis5\":{\"anchor\":\"y5\",\"domain\":[0.35,0.6499999999999999],\"range\":[-0.1,0.4]},\"yaxis5\":{\"anchor\":\"x5\",\"domain\":[0.35,0.6499999999999999],\"range\":[-0.4,0.1]},\"xaxis6\":{\"anchor\":\"y6\",\"domain\":[0.7,1.0],\"range\":[-0.1,0.4]},\"yaxis6\":{\"anchor\":\"x6\",\"domain\":[0.35,0.6499999999999999],\"range\":[-0.4,0.1]},\"xaxis7\":{\"anchor\":\"y7\",\"domain\":[0.0,0.3],\"range\":[-0.1,0.4]},\"yaxis7\":{\"anchor\":\"x7\",\"domain\":[0.0,0.3],\"range\":[-0.4,0.1]},\"xaxis8\":{\"anchor\":\"y8\",\"domain\":[0.35,0.6499999999999999],\"range\":[-0.1,0.4]},\"yaxis8\":{\"anchor\":\"x8\",\"domain\":[0.0,0.3],\"range\":[-0.4,0.1]},\"xaxis9\":{\"anchor\":\"y9\",\"domain\":[0.7,1.0],\"range\":[-0.1,0.4]},\"yaxis9\":{\"anchor\":\"x9\",\"domain\":[0.0,0.3],\"range\":[-0.4,0.1]},\"annotations\":[{\"font\":{\"size\":16},\"showarrow\":false,\"text\":\"Checkpoint 512\",\"x\":0.15,\"xanchor\":\"center\",\"xref\":\"paper\",\"y\":1.0,\"yanchor\":\"bottom\",\"yref\":\"paper\"},{\"font\":{\"size\":16},\"showarrow\":false,\"text\":\"Checkpoint 1000\",\"x\":0.49999999999999994,\"xanchor\":\"center\",\"xref\":\"paper\",\"y\":1.0,\"yanchor\":\"bottom\",\"yref\":\"paper\"},{\"font\":{\"size\":16},\"showarrow\":false,\"text\":\"Checkpoint 2000\",\"x\":0.85,\"xanchor\":\"center\",\"xref\":\"paper\",\"y\":1.0,\"yanchor\":\"bottom\",\"yref\":\"paper\"},{\"font\":{\"size\":16},\"showarrow\":false,\"text\":\"Checkpoint 3000\",\"x\":0.15,\"xanchor\":\"center\",\"xref\":\"paper\",\"y\":0.6499999999999999,\"yanchor\":\"bottom\",\"yref\":\"paper\"},{\"font\":{\"size\":16},\"showarrow\":false,\"text\":\"Checkpoint 5000\",\"x\":0.49999999999999994,\"xanchor\":\"center\",\"xref\":\"paper\",\"y\":0.6499999999999999,\"yanchor\":\"bottom\",\"yref\":\"paper\"},{\"font\":{\"size\":16},\"showarrow\":false,\"text\":\"Checkpoint 10000\",\"x\":0.85,\"xanchor\":\"center\",\"xref\":\"paper\",\"y\":0.6499999999999999,\"yanchor\":\"bottom\",\"yref\":\"paper\"},{\"font\":{\"size\":16},\"showarrow\":false,\"text\":\"Checkpoint 30000\",\"x\":0.15,\"xanchor\":\"center\",\"xref\":\"paper\",\"y\":0.3,\"yanchor\":\"bottom\",\"yref\":\"paper\"},{\"font\":{\"size\":16},\"showarrow\":false,\"text\":\"Checkpoint 90000\",\"x\":0.49999999999999994,\"xanchor\":\"center\",\"xref\":\"paper\",\"y\":0.3,\"yanchor\":\"bottom\",\"yref\":\"paper\"},{\"font\":{\"size\":16},\"showarrow\":false,\"text\":\"Checkpoint 143000\",\"x\":0.85,\"xanchor\":\"center\",\"xref\":\"paper\",\"y\":0.3,\"yanchor\":\"bottom\",\"yref\":\"paper\"}],\"title\":{\"text\":\"Self-Repair for pythia-160m-alldropout\"},\"height\":1200,\"width\":1200,\"showlegend\":false},                        {\"responsive\": true}                    ).then(function(){\n",
       "                            \n",
       "var gd = document.getElementById('61e5dfb5-396d-4297-b1bd-fb8552db5b2d');\n",
       "var x = new MutationObserver(function (mutations, observer) {{\n",
       "        var display = window.getComputedStyle(gd).display;\n",
       "        if (!display || display === 'none') {{\n",
       "            console.log([gd, 'removed!']);\n",
       "            Plotly.purge(gd);\n",
       "            observer.disconnect();\n",
       "        }}\n",
       "}});\n",
       "\n",
       "// Listen for the removal of the full notebook cells\n",
       "var notebookContainer = gd.closest('#notebook-container');\n",
       "if (notebookContainer) {{\n",
       "    x.observe(notebookContainer, {childList: true});\n",
       "}}\n",
       "\n",
       "// Listen for the clearing of the current output cell\n",
       "var outputEl = gd.closest('.output');\n",
       "if (outputEl) {{\n",
       "    x.observe(outputEl, {childList: true});\n",
       "}}\n",
       "\n",
       "                        })                };                });            </script>        </div>"
      ]
     },
     "metadata": {},
     "output_type": "display_data"
    }
   ],
   "source": [
    "import plotly.graph_objects as go\n",
    "from plotly.subplots import make_subplots\n",
    "import numpy as np\n",
    "import torch\n",
    "\n",
    "# Specify your desired x and y axis range\n",
    "x_range = [-0.1, 0.4]\n",
    "y_range = [-0.4, 0.1]\n",
    "\n",
    "# Determine the grid size (rows x columns)\n",
    "total_checkpoints = len(data.keys())\n",
    "num_columns = 3  # Example: 3 columns in your grid\n",
    "num_rows = (total_checkpoints + num_columns - 1) // num_columns  # Calculate rows needed\n",
    "\n",
    "# Initialize the subplot figure with specified rows and columns\n",
    "fig = make_subplots(\n",
    "    rows=num_rows, cols=num_columns, \n",
    "    subplot_titles=[f\"Checkpoint {checkpoint}\" for checkpoint in data.keys()],\n",
    "    horizontal_spacing=0.05,  # Reduce horizontal spacing\n",
    "    vertical_spacing=0.05     # Reduce vertical spacing\n",
    ")\n",
    "\n",
    "subplot_index = 1  # Initialize subplot index\n",
    "\n",
    "for checkpoint in data.keys():\n",
    "    # Calculate the current row and column position\n",
    "    row = (subplot_index - 1) // num_columns + 1\n",
    "    col = (subplot_index - 1) % num_columns + 1\n",
    "\n",
    "    # Generate the plot for the current checkpoint\n",
    "    current_fig = create_layered_scatter(\n",
    "        data[checkpoint]['thresholded_de'][0], \n",
    "        data[checkpoint]['thresholded_cil'][0], \n",
    "        \"Direct Effect of Component\", \n",
    "        \"Change in Logits Upon Ablation\", \n",
    "        f\"Self-Repair in {MODEL_TO_VIEW} at Checkpoint {checkpoint}\",\n",
    "    )\n",
    "\n",
    "    # Add each trace from the current figure to the subplot\n",
    "    for trace in current_fig.data:\n",
    "        fig.add_trace(trace, row=row, col=col)\n",
    "\n",
    "    # Explicitly set x and y ranges for this subplot\n",
    "    fig.update_xaxes(range=x_range, row=row, col=col)\n",
    "    fig.update_yaxes(range=y_range, row=row, col=col)\n",
    "    \n",
    "    # Add the dotted line where the negative value of the y-axis equals the positive value of the x-axis\n",
    "    line_range = [min(x_range[0], y_range[0]), max(x_range[1], y_range[1])]\n",
    "    fig.add_trace(\n",
    "        go.Scatter(x=line_range, y=[-x for x in line_range], mode='lines',\n",
    "                   line=dict(color='grey', dash='dot'), name='Y=-X'),\n",
    "        row=row, col=col\n",
    "    )\n",
    "\n",
    "    subplot_index += 1\n",
    "\n",
    "# Update layout if needed (optional)\n",
    "fig.update_layout(height=400*num_rows, width=400*num_columns, title_text=f\"Self-Repair for {MODEL_TO_VIEW}\", showlegend=False)\n",
    "fig.show()"
   ]
  },
  {
   "cell_type": "code",
   "execution_count": 48,
   "metadata": {},
   "outputs": [],
   "source": [
    "def convert_title_to_filename(title: str):\n",
    "    # replace spaces with dashes, remove parentheses, and make lowercase\n",
    "    return title.replace(' ', '-').replace('(', '').replace(')', '').lower()\n",
    "\n",
    "import numpy as np\n",
    "import pandas as pd\n",
    "import plotly.express as px\n",
    "from typing import Dict\n",
    "\n",
    "def plot_all_heads(\n",
    "        model_name: str,\n",
    "        checkpoint_dict: Dict[int, Dict[str, np.ndarray]], \n",
    "        plot_everything: bool = False, \n",
    "        top_k_per_checkpoint: int = 5, \n",
    "        top_k: int = 5\n",
    "    ) -> pd.DataFrame:\n",
    "    \"\"\"\n",
    "    Plot the head attributions across checkpoints, with the option to plot all heads or only the top ones.\n",
    "\n",
    "    Args:\n",
    "        model_name (str): Name of the model for title display.\n",
    "        checkpoint_dict (Dict[int, Dict[str, np.ndarray]]): A dictionary mapping checkpoints to a dictionary\n",
    "            that includes a key \"self_repair_score\" pointing to numpy arrays of head attributions.\n",
    "        plot_everything (bool, optional): If True, plots all heads without applying top_k filters. Defaults to False.\n",
    "        top_k_per_checkpoint (int, optional): The number of top heads to consider per checkpoint. Effective only if plot_everything is False.\n",
    "        top_k (int, optional): The number of overall top heads to plot. Effective only if plot_everything is False.\n",
    "\n",
    "    Returns:\n",
    "        pd.DataFrame: A DataFrame containing the plot data.\n",
    "    \"\"\"\n",
    "    plot_data = []\n",
    "\n",
    "    for checkpoint, data in checkpoint_dict.items():\n",
    "        array = data['self_repair_score'][0].numpy()\n",
    "        print(array.shape)\n",
    "        \n",
    "        if plot_everything:\n",
    "            indices = np.indices(array.shape)\n",
    "            selected_heads = [(layer, head) for layer, head in zip(indices[0].flatten(), indices[1].flatten())]\n",
    "        else:\n",
    "            # Use argpartition to get the indices of the top heads in the entire array\n",
    "            flat_indices = np.argpartition(array.flatten(), -top_k_per_checkpoint)[-top_k_per_checkpoint:]\n",
    "            # Convert flat indices to 2D indices\n",
    "            indices = np.unravel_index(flat_indices, array.shape)\n",
    "            selected_heads = [(layer, head) for layer, head in zip(indices[0], indices[1])]\n",
    "\n",
    "        for layer, head in selected_heads:\n",
    "            plot_data.append(\n",
    "                {\n",
    "                    'Checkpoint': checkpoint,\n",
    "                    'Layer-Head': f'Layer {layer}-Head {head}',\n",
    "                    'Layer': layer,\n",
    "                    'Head': head,\n",
    "                    'Value': float(array[layer, head])  # Ensure conversion to float\n",
    "                }\n",
    "            )\n",
    "\n",
    "    # Convert to DataFrame\n",
    "    df = pd.DataFrame(plot_data)\n",
    "\n",
    "    if not plot_everything:\n",
    "        # Ensure 'Value' is numeric for aggregation functions\n",
    "        df['Value'] = pd.to_numeric(df['Value'], errors='coerce')  # Converts non-numeric to NaN, can handle errors\n",
    "\n",
    "        # Calculate sum of values over all checkpoints for each head\n",
    "        summary_df = df.groupby(['Layer-Head', 'Layer', 'Head']).sum().reset_index()\n",
    "\n",
    "        # Label the top_k items in summary_df based on their sum\n",
    "        summary_df['Top K'] = summary_df['Layer-Head'].isin(df.groupby('Layer-Head').mean().nlargest(top_k, 'Value').index)\n",
    "\n",
    "        # Filter the DataFrame to include only the top_k heads across all checkpoints\n",
    "        df = df.merge(summary_df, on=['Layer-Head', 'Layer', 'Head'], how='inner').query('`Top K`')\n",
    "\n",
    "    # Step 3: Plot the data\n",
    "    fig = px.line(\n",
    "        df, \n",
    "        x='Checkpoint',  # Corrected column name for Checkpoint\n",
    "        y='Value',       # Assuming Value_x is the correct column for self-repair scores\n",
    "        color='Layer-Head', \n",
    "        # specify y_range\n",
    "        range_y=[-300, 300],\n",
    "        title=f'Self Repair Across Checkpoints (DE+CIL/DE) ({model_name})', \n",
    "        height=500,\n",
    "        labels={'Checkpoint': 'Checkpoint', 'Value': 'Self Repair Score'}  # Correct labels for axes\n",
    "    )\n",
    "    fig.show()\n",
    "\n",
    "    return df"
   ]
  },
  {
   "cell_type": "code",
   "execution_count": 49,
   "metadata": {},
   "outputs": [],
   "source": [
    "for checkpoint in data.keys():\n",
    "    data[checkpoint]['self_repair_score'] = (data[checkpoint]['thresholded_de'] + data[checkpoint]['thresholded_cil']) / data[checkpoint]['thresholded_de']"
   ]
  },
  {
   "cell_type": "code",
   "execution_count": 74,
   "metadata": {},
   "outputs": [
    {
     "name": "stdout",
     "output_type": "stream",
     "text": [
      "(12, 12)\n",
      "(12, 12)\n",
      "(12, 12)\n",
      "(12, 12)\n",
      "(12, 12)\n",
      "(12, 12)\n",
      "(12, 12)\n",
      "(12, 12)\n",
      "(12, 12)\n"
     ]
    },
    {
     "data": {
      "application/vnd.plotly.v1+json": {
       "config": {
        "plotlyServerURL": "https://plot.ly"
       },
       "data": [
        {
         "hovertemplate": "Layer-Head=Layer 0-Head 0<br>Checkpoint=%{x}<br>Self Repair Score=%{y}<extra></extra>",
         "legendgroup": "Layer 0-Head 0",
         "line": {
          "color": "#636efa",
          "dash": "solid"
         },
         "marker": {
          "symbol": "circle"
         },
         "mode": "lines",
         "name": "Layer 0-Head 0",
         "showlegend": true,
         "type": "scattergl",
         "x": [
          512,
          1000,
          2000,
          3000,
          5000,
          10000,
          30000,
          90000,
          143000
         ],
         "xaxis": "x",
         "y": [
          -2.49373197555542,
          -1.676390290260315,
          -0.25345438718795776,
          -1.516669750213623,
          -3.726292610168457,
          -7.327198028564453,
          -8.587989807128906,
          -7.671521186828613,
          -14.87458610534668
         ],
         "yaxis": "y"
        },
        {
         "hovertemplate": "Layer-Head=Layer 0-Head 1<br>Checkpoint=%{x}<br>Self Repair Score=%{y}<extra></extra>",
         "legendgroup": "Layer 0-Head 1",
         "line": {
          "color": "#EF553B",
          "dash": "solid"
         },
         "marker": {
          "symbol": "circle"
         },
         "mode": "lines",
         "name": "Layer 0-Head 1",
         "showlegend": true,
         "type": "scattergl",
         "x": [
          512,
          1000,
          2000,
          3000,
          5000,
          10000,
          30000,
          90000,
          143000
         ],
         "xaxis": "x",
         "y": [
          -4.568723201751709,
          -2.460815668106079,
          0.21674253046512604,
          0.26536086201667786,
          -0.033534515649080276,
          -0.6733417510986328,
          -4.611536979675293,
          -12.940810203552246,
          -7.550116539001465
         ],
         "yaxis": "y"
        },
        {
         "hovertemplate": "Layer-Head=Layer 0-Head 2<br>Checkpoint=%{x}<br>Self Repair Score=%{y}<extra></extra>",
         "legendgroup": "Layer 0-Head 2",
         "line": {
          "color": "#00cc96",
          "dash": "solid"
         },
         "marker": {
          "symbol": "circle"
         },
         "mode": "lines",
         "name": "Layer 0-Head 2",
         "showlegend": true,
         "type": "scattergl",
         "x": [
          512,
          1000,
          2000,
          3000,
          5000,
          10000,
          30000,
          90000,
          143000
         ],
         "xaxis": "x",
         "y": [
          -0.08362216502428055,
          0.3206324577331543,
          -0.0767054632306099,
          -3.525749683380127,
          -11.598383903503418,
          -68.99263763427734,
          -100.30108642578125,
          14.159333229064941,
          39.934261322021484
         ],
         "yaxis": "y"
        },
        {
         "hovertemplate": "Layer-Head=Layer 0-Head 3<br>Checkpoint=%{x}<br>Self Repair Score=%{y}<extra></extra>",
         "legendgroup": "Layer 0-Head 3",
         "line": {
          "color": "#ab63fa",
          "dash": "solid"
         },
         "marker": {
          "symbol": "circle"
         },
         "mode": "lines",
         "name": "Layer 0-Head 3",
         "showlegend": true,
         "type": "scattergl",
         "x": [
          512,
          1000,
          2000,
          3000,
          5000,
          10000,
          30000,
          90000,
          143000
         ],
         "xaxis": "x",
         "y": [
          -1.9846398830413818,
          -0.3391086161136627,
          0.28191182017326355,
          -1.3465867042541504,
          -5.950840950012207,
          -18.52752685546875,
          -71.12125396728516,
          -31.303871154785156,
          -27.840503692626953
         ],
         "yaxis": "y"
        },
        {
         "hovertemplate": "Layer-Head=Layer 0-Head 4<br>Checkpoint=%{x}<br>Self Repair Score=%{y}<extra></extra>",
         "legendgroup": "Layer 0-Head 4",
         "line": {
          "color": "#FFA15A",
          "dash": "solid"
         },
         "marker": {
          "symbol": "circle"
         },
         "mode": "lines",
         "name": "Layer 0-Head 4",
         "showlegend": true,
         "type": "scattergl",
         "x": [
          512,
          1000,
          2000,
          3000,
          5000,
          10000,
          30000,
          90000,
          143000
         ],
         "xaxis": "x",
         "y": [
          -3.1890482902526855,
          -3.6919589042663574,
          -0.4371241331100464,
          0.5555076599121094,
          0.7078572511672974,
          0.6464237570762634,
          -18.140411376953125,
          -7.105382919311523,
          -8.820671081542969
         ],
         "yaxis": "y"
        },
        {
         "hovertemplate": "Layer-Head=Layer 0-Head 5<br>Checkpoint=%{x}<br>Self Repair Score=%{y}<extra></extra>",
         "legendgroup": "Layer 0-Head 5",
         "line": {
          "color": "#19d3f3",
          "dash": "solid"
         },
         "marker": {
          "symbol": "circle"
         },
         "mode": "lines",
         "name": "Layer 0-Head 5",
         "showlegend": true,
         "type": "scattergl",
         "x": [
          512,
          1000,
          2000,
          3000,
          5000,
          10000,
          30000,
          90000,
          143000
         ],
         "xaxis": "x",
         "y": [
          -1.0928313732147217,
          -24.483905792236328,
          -1.1923434734344482,
          -3.4712846279144287,
          -2.1824378967285156,
          -1.1724979877471924,
          -0.22278232872486115,
          -0.40553826093673706,
          -1.9629536867141724
         ],
         "yaxis": "y"
        },
        {
         "hovertemplate": "Layer-Head=Layer 0-Head 6<br>Checkpoint=%{x}<br>Self Repair Score=%{y}<extra></extra>",
         "legendgroup": "Layer 0-Head 6",
         "line": {
          "color": "#FF6692",
          "dash": "solid"
         },
         "marker": {
          "symbol": "circle"
         },
         "mode": "lines",
         "name": "Layer 0-Head 6",
         "showlegend": true,
         "type": "scattergl",
         "x": [
          512,
          1000,
          2000,
          3000,
          5000,
          10000,
          30000,
          90000,
          143000
         ],
         "xaxis": "x",
         "y": [
          -20.386566162109375,
          -2.765578031539917,
          16.566577911376953,
          -0.030456457287073135,
          0.36940568685531616,
          0.770897626876831,
          0.6505663394927979,
          0.7877376079559326,
          0.05292101949453354
         ],
         "yaxis": "y"
        },
        {
         "hovertemplate": "Layer-Head=Layer 0-Head 7<br>Checkpoint=%{x}<br>Self Repair Score=%{y}<extra></extra>",
         "legendgroup": "Layer 0-Head 7",
         "line": {
          "color": "#B6E880",
          "dash": "solid"
         },
         "marker": {
          "symbol": "circle"
         },
         "mode": "lines",
         "name": "Layer 0-Head 7",
         "showlegend": true,
         "type": "scattergl",
         "x": [
          512,
          1000,
          2000,
          3000,
          5000,
          10000,
          30000,
          90000,
          143000
         ],
         "xaxis": "x",
         "y": [
          -13.344118118286133,
          -5.62886381149292,
          -1.9093769788742065,
          -0.7987216114997864,
          0.3147318661212921,
          -0.9487057328224182,
          9.834097862243652,
          3.329024314880371,
          3.6324234008789062
         ],
         "yaxis": "y"
        },
        {
         "hovertemplate": "Layer-Head=Layer 0-Head 8<br>Checkpoint=%{x}<br>Self Repair Score=%{y}<extra></extra>",
         "legendgroup": "Layer 0-Head 8",
         "line": {
          "color": "#FF97FF",
          "dash": "solid"
         },
         "marker": {
          "symbol": "circle"
         },
         "mode": "lines",
         "name": "Layer 0-Head 8",
         "showlegend": true,
         "type": "scattergl",
         "x": [
          512,
          1000,
          2000,
          3000,
          5000,
          10000,
          30000,
          90000,
          143000
         ],
         "xaxis": "x",
         "y": [
          -1.0856965780258179,
          -0.8634668588638306,
          0.2787376940250397,
          -0.2571295499801636,
          -1.4417238235473633,
          -5.195197582244873,
          -14.522470474243164,
          21.291231155395508,
          186.57086181640625
         ],
         "yaxis": "y"
        },
        {
         "hovertemplate": "Layer-Head=Layer 0-Head 9<br>Checkpoint=%{x}<br>Self Repair Score=%{y}<extra></extra>",
         "legendgroup": "Layer 0-Head 9",
         "line": {
          "color": "#FECB52",
          "dash": "solid"
         },
         "marker": {
          "symbol": "circle"
         },
         "mode": "lines",
         "name": "Layer 0-Head 9",
         "showlegend": true,
         "type": "scattergl",
         "x": [
          512,
          1000,
          2000,
          3000,
          5000,
          10000,
          30000,
          90000,
          143000
         ],
         "xaxis": "x",
         "y": [
          -2.4590232372283936,
          -2.6445069313049316,
          0.47290173172950745,
          0.4932170510292053,
          0.3986447751522064,
          -0.517426073551178,
          -3.8964991569519043,
          -5.013786792755127,
          -4.817575454711914
         ],
         "yaxis": "y"
        },
        {
         "hovertemplate": "Layer-Head=Layer 0-Head 10<br>Checkpoint=%{x}<br>Self Repair Score=%{y}<extra></extra>",
         "legendgroup": "Layer 0-Head 10",
         "line": {
          "color": "#636efa",
          "dash": "solid"
         },
         "marker": {
          "symbol": "circle"
         },
         "mode": "lines",
         "name": "Layer 0-Head 10",
         "showlegend": true,
         "type": "scattergl",
         "x": [
          512,
          1000,
          2000,
          3000,
          5000,
          10000,
          30000,
          90000,
          143000
         ],
         "xaxis": "x",
         "y": [
          -1.2501267194747925,
          -0.27048003673553467,
          -0.18696002662181854,
          1.9138171672821045,
          -3.228916883468628,
          -6.172064781188965,
          14.05755615234375,
          -41.98683547973633,
          -39.14568328857422
         ],
         "yaxis": "y"
        },
        {
         "hovertemplate": "Layer-Head=Layer 0-Head 11<br>Checkpoint=%{x}<br>Self Repair Score=%{y}<extra></extra>",
         "legendgroup": "Layer 0-Head 11",
         "line": {
          "color": "#EF553B",
          "dash": "solid"
         },
         "marker": {
          "symbol": "circle"
         },
         "mode": "lines",
         "name": "Layer 0-Head 11",
         "showlegend": true,
         "type": "scattergl",
         "x": [
          512,
          1000,
          2000,
          3000,
          5000,
          10000,
          30000,
          90000,
          143000
         ],
         "xaxis": "x",
         "y": [
          -5.420077323913574,
          -3.0217232704162598,
          -0.5648154616355896,
          0.6052380800247192,
          0.678402304649353,
          0.6983453035354614,
          -0.27524423599243164,
          -2.267080068588257,
          -3.3766515254974365
         ],
         "yaxis": "y"
        },
        {
         "hovertemplate": "Layer-Head=Layer 1-Head 0<br>Checkpoint=%{x}<br>Self Repair Score=%{y}<extra></extra>",
         "legendgroup": "Layer 1-Head 0",
         "line": {
          "color": "#00cc96",
          "dash": "solid"
         },
         "marker": {
          "symbol": "circle"
         },
         "mode": "lines",
         "name": "Layer 1-Head 0",
         "showlegend": true,
         "type": "scattergl",
         "x": [
          512,
          1000,
          2000,
          3000,
          5000,
          10000,
          30000,
          90000,
          143000
         ],
         "xaxis": "x",
         "y": [
          -0.03584295138716698,
          -5.180805683135986,
          7.021041393280029,
          11.484195709228516,
          -6.717453479766846,
          -5.018866062164307,
          -5.7271199226379395,
          -3.475548267364502,
          -6.271450519561768
         ],
         "yaxis": "y"
        },
        {
         "hovertemplate": "Layer-Head=Layer 1-Head 1<br>Checkpoint=%{x}<br>Self Repair Score=%{y}<extra></extra>",
         "legendgroup": "Layer 1-Head 1",
         "line": {
          "color": "#ab63fa",
          "dash": "solid"
         },
         "marker": {
          "symbol": "circle"
         },
         "mode": "lines",
         "name": "Layer 1-Head 1",
         "showlegend": true,
         "type": "scattergl",
         "x": [
          512,
          1000,
          2000,
          3000,
          5000,
          10000,
          30000,
          90000,
          143000
         ],
         "xaxis": "x",
         "y": [
          -2.712688684463501,
          -0.7725434303283691,
          -2.0008633136749268,
          -5.55381965637207,
          -20.968955993652344,
          -22.025915145874023,
          -23.70857048034668,
          8.348150253295898,
          25.27313232421875
         ],
         "yaxis": "y"
        },
        {
         "hovertemplate": "Layer-Head=Layer 1-Head 2<br>Checkpoint=%{x}<br>Self Repair Score=%{y}<extra></extra>",
         "legendgroup": "Layer 1-Head 2",
         "line": {
          "color": "#FFA15A",
          "dash": "solid"
         },
         "marker": {
          "symbol": "circle"
         },
         "mode": "lines",
         "name": "Layer 1-Head 2",
         "showlegend": true,
         "type": "scattergl",
         "x": [
          512,
          1000,
          2000,
          3000,
          5000,
          10000,
          30000,
          90000,
          143000
         ],
         "xaxis": "x",
         "y": [
          0.4819033145904541,
          7.7314887046813965,
          -5.0660271644592285,
          -16.772172927856445,
          -49.77334213256836,
          -40.55344772338867,
          -159.502197265625,
          130.93252563476562,
          -125.4257583618164
         ],
         "yaxis": "y"
        },
        {
         "hovertemplate": "Layer-Head=Layer 1-Head 3<br>Checkpoint=%{x}<br>Self Repair Score=%{y}<extra></extra>",
         "legendgroup": "Layer 1-Head 3",
         "line": {
          "color": "#19d3f3",
          "dash": "solid"
         },
         "marker": {
          "symbol": "circle"
         },
         "mode": "lines",
         "name": "Layer 1-Head 3",
         "showlegend": true,
         "type": "scattergl",
         "x": [
          512,
          1000,
          2000,
          3000,
          5000,
          10000,
          30000,
          90000,
          143000
         ],
         "xaxis": "x",
         "y": [
          -0.5753493309020996,
          0.5606769919395447,
          -0.6964391469955444,
          -4.214655876159668,
          1.805686593055725,
          -12.438365936279297,
          -0.4728166460990906,
          -1.0989739894866943,
          -0.9979965686798096
         ],
         "yaxis": "y"
        },
        {
         "hovertemplate": "Layer-Head=Layer 1-Head 4<br>Checkpoint=%{x}<br>Self Repair Score=%{y}<extra></extra>",
         "legendgroup": "Layer 1-Head 4",
         "line": {
          "color": "#FF6692",
          "dash": "solid"
         },
         "marker": {
          "symbol": "circle"
         },
         "mode": "lines",
         "name": "Layer 1-Head 4",
         "showlegend": true,
         "type": "scattergl",
         "x": [
          512,
          1000,
          2000,
          3000,
          5000,
          10000,
          30000,
          90000,
          143000
         ],
         "xaxis": "x",
         "y": [
          0.9321866035461426,
          -0.5782341361045837,
          0.9948204159736633,
          0.6682643890380859,
          3.919038772583008,
          4.96350622177124,
          4.3597588539123535,
          -3.921398162841797,
          -7.053487777709961
         ],
         "yaxis": "y"
        },
        {
         "hovertemplate": "Layer-Head=Layer 1-Head 5<br>Checkpoint=%{x}<br>Self Repair Score=%{y}<extra></extra>",
         "legendgroup": "Layer 1-Head 5",
         "line": {
          "color": "#B6E880",
          "dash": "solid"
         },
         "marker": {
          "symbol": "circle"
         },
         "mode": "lines",
         "name": "Layer 1-Head 5",
         "showlegend": true,
         "type": "scattergl",
         "x": [
          512,
          1000,
          2000,
          3000,
          5000,
          10000,
          30000,
          90000,
          143000
         ],
         "xaxis": "x",
         "y": [
          0.8135821223258972,
          0.441354900598526,
          0.32305440306663513,
          -0.16038097441196442,
          -1.1713625192642212,
          -2.9095563888549805,
          -5.0904388427734375,
          -13.414421081542969,
          -7.245116233825684
         ],
         "yaxis": "y"
        },
        {
         "hovertemplate": "Layer-Head=Layer 1-Head 6<br>Checkpoint=%{x}<br>Self Repair Score=%{y}<extra></extra>",
         "legendgroup": "Layer 1-Head 6",
         "line": {
          "color": "#FF97FF",
          "dash": "solid"
         },
         "marker": {
          "symbol": "circle"
         },
         "mode": "lines",
         "name": "Layer 1-Head 6",
         "showlegend": true,
         "type": "scattergl",
         "x": [
          512,
          1000,
          2000,
          3000,
          5000,
          10000,
          30000,
          90000,
          143000
         ],
         "xaxis": "x",
         "y": [
          0.017431678250432014,
          0.39944368600845337,
          0.5605440735816956,
          0.6482101082801819,
          0.2850731313228607,
          15.675889015197754,
          210.5631866455078,
          1.9038399457931519,
          5.951793193817139
         ],
         "yaxis": "y"
        },
        {
         "hovertemplate": "Layer-Head=Layer 1-Head 7<br>Checkpoint=%{x}<br>Self Repair Score=%{y}<extra></extra>",
         "legendgroup": "Layer 1-Head 7",
         "line": {
          "color": "#FECB52",
          "dash": "solid"
         },
         "marker": {
          "symbol": "circle"
         },
         "mode": "lines",
         "name": "Layer 1-Head 7",
         "showlegend": true,
         "type": "scattergl",
         "x": [
          512,
          1000,
          2000,
          3000,
          5000,
          10000,
          30000,
          90000,
          143000
         ],
         "xaxis": "x",
         "y": [
          0.0011895443312823772,
          -0.758567214012146,
          -5.50601863861084,
          -8.039977073669434,
          -12.699535369873047,
          -17.498733520507812,
          -48.26830291748047,
          -132.53009033203125,
          -33.9879035949707
         ],
         "yaxis": "y"
        },
        {
         "hovertemplate": "Layer-Head=Layer 1-Head 8<br>Checkpoint=%{x}<br>Self Repair Score=%{y}<extra></extra>",
         "legendgroup": "Layer 1-Head 8",
         "line": {
          "color": "#636efa",
          "dash": "solid"
         },
         "marker": {
          "symbol": "circle"
         },
         "mode": "lines",
         "name": "Layer 1-Head 8",
         "showlegend": true,
         "type": "scattergl",
         "x": [
          512,
          1000,
          2000,
          3000,
          5000,
          10000,
          30000,
          90000,
          143000
         ],
         "xaxis": "x",
         "y": [
          0.7801708579063416,
          0.8876436948776245,
          1.2937378883361816,
          0.8200143575668335,
          44.23937225341797,
          5.283933162689209,
          -3.241656541824341,
          -2.7065377235412598,
          -6.900078296661377
         ],
         "yaxis": "y"
        },
        {
         "hovertemplate": "Layer-Head=Layer 1-Head 9<br>Checkpoint=%{x}<br>Self Repair Score=%{y}<extra></extra>",
         "legendgroup": "Layer 1-Head 9",
         "line": {
          "color": "#EF553B",
          "dash": "solid"
         },
         "marker": {
          "symbol": "circle"
         },
         "mode": "lines",
         "name": "Layer 1-Head 9",
         "showlegend": true,
         "type": "scattergl",
         "x": [
          512,
          1000,
          2000,
          3000,
          5000,
          10000,
          30000,
          90000,
          143000
         ],
         "xaxis": "x",
         "y": [
          -0.33858951926231384,
          -0.4387265741825104,
          -5.228428363800049,
          -18.281288146972656,
          -44.47660446166992,
          -121.79206085205078,
          30.847759246826172,
          -453.6716003417969,
          -19.640512466430664
         ],
         "yaxis": "y"
        },
        {
         "hovertemplate": "Layer-Head=Layer 1-Head 10<br>Checkpoint=%{x}<br>Self Repair Score=%{y}<extra></extra>",
         "legendgroup": "Layer 1-Head 10",
         "line": {
          "color": "#00cc96",
          "dash": "solid"
         },
         "marker": {
          "symbol": "circle"
         },
         "mode": "lines",
         "name": "Layer 1-Head 10",
         "showlegend": true,
         "type": "scattergl",
         "x": [
          512,
          1000,
          2000,
          3000,
          5000,
          10000,
          30000,
          90000,
          143000
         ],
         "xaxis": "x",
         "y": [
          0.7000806927680969,
          0.2959771156311035,
          -2.2912936210632324,
          -11.572396278381348,
          89.96087646484375,
          4.440492153167725,
          0.32782942056655884,
          -1.1011440753936768,
          -27.94816017150879
         ],
         "yaxis": "y"
        },
        {
         "hovertemplate": "Layer-Head=Layer 1-Head 11<br>Checkpoint=%{x}<br>Self Repair Score=%{y}<extra></extra>",
         "legendgroup": "Layer 1-Head 11",
         "line": {
          "color": "#ab63fa",
          "dash": "solid"
         },
         "marker": {
          "symbol": "circle"
         },
         "mode": "lines",
         "name": "Layer 1-Head 11",
         "showlegend": true,
         "type": "scattergl",
         "x": [
          512,
          1000,
          2000,
          3000,
          5000,
          10000,
          30000,
          90000,
          143000
         ],
         "xaxis": "x",
         "y": [
          -1.5040910243988037,
          0.1972004771232605,
          -0.2615748643875122,
          -1.5514025688171387,
          -5703.98828125,
          15.386394500732422,
          -24.219144821166992,
          -12.651311874389648,
          -9.377721786499023
         ],
         "yaxis": "y"
        },
        {
         "hovertemplate": "Layer-Head=Layer 2-Head 0<br>Checkpoint=%{x}<br>Self Repair Score=%{y}<extra></extra>",
         "legendgroup": "Layer 2-Head 0",
         "line": {
          "color": "#FFA15A",
          "dash": "solid"
         },
         "marker": {
          "symbol": "circle"
         },
         "mode": "lines",
         "name": "Layer 2-Head 0",
         "showlegend": true,
         "type": "scattergl",
         "x": [
          512,
          1000,
          2000,
          3000,
          5000,
          10000,
          30000,
          90000,
          143000
         ],
         "xaxis": "x",
         "y": [
          0.0761057510972023,
          0.8619885444641113,
          0.9120219349861145,
          0.8014175891876221,
          0.678139865398407,
          -0.06696715205907822,
          -35.92376708984375,
          -9.74067211151123,
          -10.667612075805664
         ],
         "yaxis": "y"
        },
        {
         "hovertemplate": "Layer-Head=Layer 2-Head 1<br>Checkpoint=%{x}<br>Self Repair Score=%{y}<extra></extra>",
         "legendgroup": "Layer 2-Head 1",
         "line": {
          "color": "#19d3f3",
          "dash": "solid"
         },
         "marker": {
          "symbol": "circle"
         },
         "mode": "lines",
         "name": "Layer 2-Head 1",
         "showlegend": true,
         "type": "scattergl",
         "x": [
          512,
          1000,
          2000,
          3000,
          5000,
          10000,
          30000,
          90000,
          143000
         ],
         "xaxis": "x",
         "y": [
          -0.6153364777565002,
          -2.1606650352478027,
          -4.7818756103515625,
          -4.3850603103637695,
          -4.576241493225098,
          -4.510232448577881,
          -4.301515579223633,
          -7.471218585968018,
          -7.87790584564209
         ],
         "yaxis": "y"
        },
        {
         "hovertemplate": "Layer-Head=Layer 2-Head 2<br>Checkpoint=%{x}<br>Self Repair Score=%{y}<extra></extra>",
         "legendgroup": "Layer 2-Head 2",
         "line": {
          "color": "#FF6692",
          "dash": "solid"
         },
         "marker": {
          "symbol": "circle"
         },
         "mode": "lines",
         "name": "Layer 2-Head 2",
         "showlegend": true,
         "type": "scattergl",
         "x": [
          512,
          1000,
          2000,
          3000,
          5000,
          10000,
          30000,
          90000,
          143000
         ],
         "xaxis": "x",
         "y": [
          0.4104258120059967,
          0.034702423959970474,
          -2.3543269634246826,
          -2.8278231620788574,
          -15.564153671264648,
          -12.699298858642578,
          -10.90827465057373,
          -11.361201286315918,
          -11.72701644897461
         ],
         "yaxis": "y"
        },
        {
         "hovertemplate": "Layer-Head=Layer 2-Head 3<br>Checkpoint=%{x}<br>Self Repair Score=%{y}<extra></extra>",
         "legendgroup": "Layer 2-Head 3",
         "line": {
          "color": "#B6E880",
          "dash": "solid"
         },
         "marker": {
          "symbol": "circle"
         },
         "mode": "lines",
         "name": "Layer 2-Head 3",
         "showlegend": true,
         "type": "scattergl",
         "x": [
          512,
          1000,
          2000,
          3000,
          5000,
          10000,
          30000,
          90000,
          143000
         ],
         "xaxis": "x",
         "y": [
          0.11972963064908981,
          0.1677776575088501,
          0.34583914279937744,
          0.18369345366954803,
          -0.4327836334705353,
          -2.5969483852386475,
          -3.8820576667785645,
          -4.683666706085205,
          -4.762223720550537
         ],
         "yaxis": "y"
        },
        {
         "hovertemplate": "Layer-Head=Layer 2-Head 4<br>Checkpoint=%{x}<br>Self Repair Score=%{y}<extra></extra>",
         "legendgroup": "Layer 2-Head 4",
         "line": {
          "color": "#FF97FF",
          "dash": "solid"
         },
         "marker": {
          "symbol": "circle"
         },
         "mode": "lines",
         "name": "Layer 2-Head 4",
         "showlegend": true,
         "type": "scattergl",
         "x": [
          512,
          1000,
          2000,
          3000,
          5000,
          10000,
          30000,
          90000,
          143000
         ],
         "xaxis": "x",
         "y": [
          0.2107052206993103,
          0.6375047564506531,
          0.419138640165329,
          0.09259586036205292,
          5.619881629943848,
          4.435629844665527,
          4.803965091705322,
          0.2269403487443924,
          -4.54936408996582
         ],
         "yaxis": "y"
        },
        {
         "hovertemplate": "Layer-Head=Layer 2-Head 5<br>Checkpoint=%{x}<br>Self Repair Score=%{y}<extra></extra>",
         "legendgroup": "Layer 2-Head 5",
         "line": {
          "color": "#FECB52",
          "dash": "solid"
         },
         "marker": {
          "symbol": "circle"
         },
         "mode": "lines",
         "name": "Layer 2-Head 5",
         "showlegend": true,
         "type": "scattergl",
         "x": [
          512,
          1000,
          2000,
          3000,
          5000,
          10000,
          30000,
          90000,
          143000
         ],
         "xaxis": "x",
         "y": [
          -5.121316909790039,
          -0.6893041133880615,
          -0.08034739643335342,
          -0.44413620233535767,
          -1.2522821426391602,
          -4.015017986297607,
          -3.871042013168335,
          -4.084423065185547,
          -5.701457977294922
         ],
         "yaxis": "y"
        },
        {
         "hovertemplate": "Layer-Head=Layer 2-Head 6<br>Checkpoint=%{x}<br>Self Repair Score=%{y}<extra></extra>",
         "legendgroup": "Layer 2-Head 6",
         "line": {
          "color": "#636efa",
          "dash": "solid"
         },
         "marker": {
          "symbol": "circle"
         },
         "mode": "lines",
         "name": "Layer 2-Head 6",
         "showlegend": true,
         "type": "scattergl",
         "x": [
          512,
          1000,
          2000,
          3000,
          5000,
          10000,
          30000,
          90000,
          143000
         ],
         "xaxis": "x",
         "y": [
          -1.4481242895126343,
          -2.14125394821167,
          -2.543095111846924,
          -3.1545639038085938,
          -3.8073854446411133,
          -4.624170780181885,
          -7.7429633140563965,
          -239.36903381347656,
          -14.564967155456543
         ],
         "yaxis": "y"
        },
        {
         "hovertemplate": "Layer-Head=Layer 2-Head 7<br>Checkpoint=%{x}<br>Self Repair Score=%{y}<extra></extra>",
         "legendgroup": "Layer 2-Head 7",
         "line": {
          "color": "#EF553B",
          "dash": "solid"
         },
         "marker": {
          "symbol": "circle"
         },
         "mode": "lines",
         "name": "Layer 2-Head 7",
         "showlegend": true,
         "type": "scattergl",
         "x": [
          512,
          1000,
          2000,
          3000,
          5000,
          10000,
          30000,
          90000,
          143000
         ],
         "xaxis": "x",
         "y": [
          0.06704004108905792,
          0.00806359387934208,
          -0.015101085416972637,
          -0.8479323983192444,
          -2.1285407543182373,
          -2.8726742267608643,
          -4.00746488571167,
          -8.850884437561035,
          -9.699949264526367
         ],
         "yaxis": "y"
        },
        {
         "hovertemplate": "Layer-Head=Layer 2-Head 8<br>Checkpoint=%{x}<br>Self Repair Score=%{y}<extra></extra>",
         "legendgroup": "Layer 2-Head 8",
         "line": {
          "color": "#00cc96",
          "dash": "solid"
         },
         "marker": {
          "symbol": "circle"
         },
         "mode": "lines",
         "name": "Layer 2-Head 8",
         "showlegend": true,
         "type": "scattergl",
         "x": [
          512,
          1000,
          2000,
          3000,
          5000,
          10000,
          30000,
          90000,
          143000
         ],
         "xaxis": "x",
         "y": [
          -3.654195547103882,
          -0.5236763954162598,
          -0.5632710456848145,
          -1.4216300249099731,
          -3.6631205081939697,
          -8.09542465209961,
          -5.743557929992676,
          -15.954141616821289,
          -6.860942840576172
         ],
         "yaxis": "y"
        },
        {
         "hovertemplate": "Layer-Head=Layer 2-Head 9<br>Checkpoint=%{x}<br>Self Repair Score=%{y}<extra></extra>",
         "legendgroup": "Layer 2-Head 9",
         "line": {
          "color": "#ab63fa",
          "dash": "solid"
         },
         "marker": {
          "symbol": "circle"
         },
         "mode": "lines",
         "name": "Layer 2-Head 9",
         "showlegend": true,
         "type": "scattergl",
         "x": [
          512,
          1000,
          2000,
          3000,
          5000,
          10000,
          30000,
          90000,
          143000
         ],
         "xaxis": "x",
         "y": [
          0.5347034931182861,
          -0.01478226576000452,
          -1.277133584022522,
          -1.6919219493865967,
          -3.228370428085327,
          -7.240506172180176,
          -6.425886154174805,
          -27.16728973388672,
          -29.55930519104004
         ],
         "yaxis": "y"
        },
        {
         "hovertemplate": "Layer-Head=Layer 2-Head 10<br>Checkpoint=%{x}<br>Self Repair Score=%{y}<extra></extra>",
         "legendgroup": "Layer 2-Head 10",
         "line": {
          "color": "#FFA15A",
          "dash": "solid"
         },
         "marker": {
          "symbol": "circle"
         },
         "mode": "lines",
         "name": "Layer 2-Head 10",
         "showlegend": true,
         "type": "scattergl",
         "x": [
          512,
          1000,
          2000,
          3000,
          5000,
          10000,
          30000,
          90000,
          143000
         ],
         "xaxis": "x",
         "y": [
          -0.1286131590604782,
          -0.37221404910087585,
          -1.0105700492858887,
          -2.0325675010681152,
          -2.982445240020752,
          -3.625443458557129,
          -3.030881404876709,
          -13.880308151245117,
          -5.8816046714782715
         ],
         "yaxis": "y"
        },
        {
         "hovertemplate": "Layer-Head=Layer 2-Head 11<br>Checkpoint=%{x}<br>Self Repair Score=%{y}<extra></extra>",
         "legendgroup": "Layer 2-Head 11",
         "line": {
          "color": "#19d3f3",
          "dash": "solid"
         },
         "marker": {
          "symbol": "circle"
         },
         "mode": "lines",
         "name": "Layer 2-Head 11",
         "showlegend": true,
         "type": "scattergl",
         "x": [
          512,
          1000,
          2000,
          3000,
          5000,
          10000,
          30000,
          90000,
          143000
         ],
         "xaxis": "x",
         "y": [
          -2.722083806991577,
          -1.1333683729171753,
          -2.092585802078247,
          -4.003998756408691,
          -6.324031829833984,
          -8.156407356262207,
          -5.4169535636901855,
          -5.39705228805542,
          -6.734677791595459
         ],
         "yaxis": "y"
        },
        {
         "hovertemplate": "Layer-Head=Layer 3-Head 0<br>Checkpoint=%{x}<br>Self Repair Score=%{y}<extra></extra>",
         "legendgroup": "Layer 3-Head 0",
         "line": {
          "color": "#FF6692",
          "dash": "solid"
         },
         "marker": {
          "symbol": "circle"
         },
         "mode": "lines",
         "name": "Layer 3-Head 0",
         "showlegend": true,
         "type": "scattergl",
         "x": [
          512,
          1000,
          2000,
          3000,
          5000,
          10000,
          30000,
          90000,
          143000
         ],
         "xaxis": "x",
         "y": [
          -1.7818137407302856,
          -4.862542629241943,
          -4.095117568969727,
          -5.095703601837158,
          -7.416619777679443,
          -9.651529312133789,
          -13.087541580200195,
          86.40536499023438,
          -31.96932029724121
         ],
         "yaxis": "y"
        },
        {
         "hovertemplate": "Layer-Head=Layer 3-Head 1<br>Checkpoint=%{x}<br>Self Repair Score=%{y}<extra></extra>",
         "legendgroup": "Layer 3-Head 1",
         "line": {
          "color": "#B6E880",
          "dash": "solid"
         },
         "marker": {
          "symbol": "circle"
         },
         "mode": "lines",
         "name": "Layer 3-Head 1",
         "showlegend": true,
         "type": "scattergl",
         "x": [
          512,
          1000,
          2000,
          3000,
          5000,
          10000,
          30000,
          90000,
          143000
         ],
         "xaxis": "x",
         "y": [
          -3.9539875984191895,
          -1.2460825443267822,
          -1.4101498126983643,
          -2.7696986198425293,
          -4.183771133422852,
          -5.379445552825928,
          -5.486240386962891,
          -4.896933078765869,
          -4.975225448608398
         ],
         "yaxis": "y"
        },
        {
         "hovertemplate": "Layer-Head=Layer 3-Head 2<br>Checkpoint=%{x}<br>Self Repair Score=%{y}<extra></extra>",
         "legendgroup": "Layer 3-Head 2",
         "line": {
          "color": "#FF97FF",
          "dash": "solid"
         },
         "marker": {
          "symbol": "circle"
         },
         "mode": "lines",
         "name": "Layer 3-Head 2",
         "showlegend": true,
         "type": "scattergl",
         "x": [
          512,
          1000,
          2000,
          3000,
          5000,
          10000,
          30000,
          90000,
          143000
         ],
         "xaxis": "x",
         "y": [
          -4.170758247375488,
          -7.585670471191406,
          -4.24865198135376,
          -5.203255653381348,
          -7.223325729370117,
          -9.378037452697754,
          -15.703360557556152,
          -15.604698181152344,
          -26.435958862304688
         ],
         "yaxis": "y"
        },
        {
         "hovertemplate": "Layer-Head=Layer 3-Head 3<br>Checkpoint=%{x}<br>Self Repair Score=%{y}<extra></extra>",
         "legendgroup": "Layer 3-Head 3",
         "line": {
          "color": "#FECB52",
          "dash": "solid"
         },
         "marker": {
          "symbol": "circle"
         },
         "mode": "lines",
         "name": "Layer 3-Head 3",
         "showlegend": true,
         "type": "scattergl",
         "x": [
          512,
          1000,
          2000,
          3000,
          5000,
          10000,
          30000,
          90000,
          143000
         ],
         "xaxis": "x",
         "y": [
          1.0543330907821655,
          7.533868312835693,
          0.8751228451728821,
          1.141160011291504,
          1.2532718181610107,
          2.115314483642578,
          3.917304515838623,
          8.096561431884766,
          13.040360450744629
         ],
         "yaxis": "y"
        },
        {
         "hovertemplate": "Layer-Head=Layer 3-Head 4<br>Checkpoint=%{x}<br>Self Repair Score=%{y}<extra></extra>",
         "legendgroup": "Layer 3-Head 4",
         "line": {
          "color": "#636efa",
          "dash": "solid"
         },
         "marker": {
          "symbol": "circle"
         },
         "mode": "lines",
         "name": "Layer 3-Head 4",
         "showlegend": true,
         "type": "scattergl",
         "x": [
          512,
          1000,
          2000,
          3000,
          5000,
          10000,
          30000,
          90000,
          143000
         ],
         "xaxis": "x",
         "y": [
          -1.5717726945877075,
          -1.852705717086792,
          -1.443819284439087,
          -3.2520222663879395,
          -5.2519683837890625,
          -14.218276023864746,
          -28.71048927307129,
          -20.871732711791992,
          -15.565911293029785
         ],
         "yaxis": "y"
        },
        {
         "hovertemplate": "Layer-Head=Layer 3-Head 5<br>Checkpoint=%{x}<br>Self Repair Score=%{y}<extra></extra>",
         "legendgroup": "Layer 3-Head 5",
         "line": {
          "color": "#EF553B",
          "dash": "solid"
         },
         "marker": {
          "symbol": "circle"
         },
         "mode": "lines",
         "name": "Layer 3-Head 5",
         "showlegend": true,
         "type": "scattergl",
         "x": [
          512,
          1000,
          2000,
          3000,
          5000,
          10000,
          30000,
          90000,
          143000
         ],
         "xaxis": "x",
         "y": [
          -0.4252556264400482,
          0.5587511658668518,
          0.6968987584114075,
          -0.01806611940264702,
          -1.6422433853149414,
          116.35515594482422,
          -19.434452056884766,
          -9.393510818481445,
          -8.721734046936035
         ],
         "yaxis": "y"
        },
        {
         "hovertemplate": "Layer-Head=Layer 3-Head 6<br>Checkpoint=%{x}<br>Self Repair Score=%{y}<extra></extra>",
         "legendgroup": "Layer 3-Head 6",
         "line": {
          "color": "#00cc96",
          "dash": "solid"
         },
         "marker": {
          "symbol": "circle"
         },
         "mode": "lines",
         "name": "Layer 3-Head 6",
         "showlegend": true,
         "type": "scattergl",
         "x": [
          512,
          1000,
          2000,
          3000,
          5000,
          10000,
          30000,
          90000,
          143000
         ],
         "xaxis": "x",
         "y": [
          0.5967234373092651,
          0.7915015816688538,
          0.7203646302223206,
          0.5465657711029053,
          0.3178528845310211,
          0.27428141236305237,
          -0.6495665907859802,
          -1.953622817993164,
          -22.606098175048828
         ],
         "yaxis": "y"
        },
        {
         "hovertemplate": "Layer-Head=Layer 3-Head 7<br>Checkpoint=%{x}<br>Self Repair Score=%{y}<extra></extra>",
         "legendgroup": "Layer 3-Head 7",
         "line": {
          "color": "#ab63fa",
          "dash": "solid"
         },
         "marker": {
          "symbol": "circle"
         },
         "mode": "lines",
         "name": "Layer 3-Head 7",
         "showlegend": true,
         "type": "scattergl",
         "x": [
          512,
          1000,
          2000,
          3000,
          5000,
          10000,
          30000,
          90000,
          143000
         ],
         "xaxis": "x",
         "y": [
          -5.187653064727783,
          -0.6906137466430664,
          0.7432463765144348,
          0.961996853351593,
          2.5800960063934326,
          -1.590660810470581,
          -4.072511196136475,
          24.418655395507812,
          -1.7001991271972656
         ],
         "yaxis": "y"
        },
        {
         "hovertemplate": "Layer-Head=Layer 3-Head 8<br>Checkpoint=%{x}<br>Self Repair Score=%{y}<extra></extra>",
         "legendgroup": "Layer 3-Head 8",
         "line": {
          "color": "#FFA15A",
          "dash": "solid"
         },
         "marker": {
          "symbol": "circle"
         },
         "mode": "lines",
         "name": "Layer 3-Head 8",
         "showlegend": true,
         "type": "scattergl",
         "x": [
          512,
          1000,
          2000,
          3000,
          5000,
          10000,
          30000,
          90000,
          143000
         ],
         "xaxis": "x",
         "y": [
          25.74090003967285,
          0.2945002317428589,
          -0.20482027530670166,
          -1.4209935665130615,
          -1.901512622833252,
          -2.386186361312866,
          147.9324188232422,
          -3.193715810775757,
          -3.7466561794281006
         ],
         "yaxis": "y"
        },
        {
         "hovertemplate": "Layer-Head=Layer 3-Head 9<br>Checkpoint=%{x}<br>Self Repair Score=%{y}<extra></extra>",
         "legendgroup": "Layer 3-Head 9",
         "line": {
          "color": "#19d3f3",
          "dash": "solid"
         },
         "marker": {
          "symbol": "circle"
         },
         "mode": "lines",
         "name": "Layer 3-Head 9",
         "showlegend": true,
         "type": "scattergl",
         "x": [
          512,
          1000,
          2000,
          3000,
          5000,
          10000,
          30000,
          90000,
          143000
         ],
         "xaxis": "x",
         "y": [
          -2.333160400390625,
          -1.048065185546875,
          -1.371522068977356,
          -1.983237862586975,
          -2.8164448738098145,
          -3.5787131786346436,
          -2.8392343521118164,
          -4.026723384857178,
          -3.849088668823242
         ],
         "yaxis": "y"
        },
        {
         "hovertemplate": "Layer-Head=Layer 3-Head 10<br>Checkpoint=%{x}<br>Self Repair Score=%{y}<extra></extra>",
         "legendgroup": "Layer 3-Head 10",
         "line": {
          "color": "#FF6692",
          "dash": "solid"
         },
         "marker": {
          "symbol": "circle"
         },
         "mode": "lines",
         "name": "Layer 3-Head 10",
         "showlegend": true,
         "type": "scattergl",
         "x": [
          512,
          1000,
          2000,
          3000,
          5000,
          10000,
          30000,
          90000,
          143000
         ],
         "xaxis": "x",
         "y": [
          0.2660648822784424,
          0.6247341632843018,
          0.4950976073741913,
          0.010564206168055534,
          -0.9424756765365601,
          -2.038149118423462,
          -3.330111265182495,
          -2.273343563079834,
          -4.01393985748291
         ],
         "yaxis": "y"
        },
        {
         "hovertemplate": "Layer-Head=Layer 3-Head 11<br>Checkpoint=%{x}<br>Self Repair Score=%{y}<extra></extra>",
         "legendgroup": "Layer 3-Head 11",
         "line": {
          "color": "#B6E880",
          "dash": "solid"
         },
         "marker": {
          "symbol": "circle"
         },
         "mode": "lines",
         "name": "Layer 3-Head 11",
         "showlegend": true,
         "type": "scattergl",
         "x": [
          512,
          1000,
          2000,
          3000,
          5000,
          10000,
          30000,
          90000,
          143000
         ],
         "xaxis": "x",
         "y": [
          -1.0477076768875122,
          -0.779037356376648,
          -0.09025681763887405,
          -1.4509109258651733,
          -0.5029926300048828,
          -0.6838453412055969,
          -0.7449753880500793,
          -1.149823784828186,
          -13.912137031555176
         ],
         "yaxis": "y"
        },
        {
         "hovertemplate": "Layer-Head=Layer 4-Head 0<br>Checkpoint=%{x}<br>Self Repair Score=%{y}<extra></extra>",
         "legendgroup": "Layer 4-Head 0",
         "line": {
          "color": "#FF97FF",
          "dash": "solid"
         },
         "marker": {
          "symbol": "circle"
         },
         "mode": "lines",
         "name": "Layer 4-Head 0",
         "showlegend": true,
         "type": "scattergl",
         "x": [
          512,
          1000,
          2000,
          3000,
          5000,
          10000,
          30000,
          90000,
          143000
         ],
         "xaxis": "x",
         "y": [
          3.6972031593322754,
          -1.0656969547271729,
          -0.8062286972999573,
          -1.5876801013946533,
          -2.2027828693389893,
          -3.8635294437408447,
          -7.863880157470703,
          -3.825418710708618,
          -4.220580577850342
         ],
         "yaxis": "y"
        },
        {
         "hovertemplate": "Layer-Head=Layer 4-Head 1<br>Checkpoint=%{x}<br>Self Repair Score=%{y}<extra></extra>",
         "legendgroup": "Layer 4-Head 1",
         "line": {
          "color": "#FECB52",
          "dash": "solid"
         },
         "marker": {
          "symbol": "circle"
         },
         "mode": "lines",
         "name": "Layer 4-Head 1",
         "showlegend": true,
         "type": "scattergl",
         "x": [
          512,
          1000,
          2000,
          3000,
          5000,
          10000,
          30000,
          90000,
          143000
         ],
         "xaxis": "x",
         "y": [
          -5.658069133758545,
          0.25716832280158997,
          0.8887876272201538,
          0.9970079064369202,
          1.2173701524734497,
          1.021693229675293,
          0.30965057015419006,
          1.3970801830291748,
          1.6213781833648682
         ],
         "yaxis": "y"
        },
        {
         "hovertemplate": "Layer-Head=Layer 4-Head 2<br>Checkpoint=%{x}<br>Self Repair Score=%{y}<extra></extra>",
         "legendgroup": "Layer 4-Head 2",
         "line": {
          "color": "#636efa",
          "dash": "solid"
         },
         "marker": {
          "symbol": "circle"
         },
         "mode": "lines",
         "name": "Layer 4-Head 2",
         "showlegend": true,
         "type": "scattergl",
         "x": [
          512,
          1000,
          2000,
          3000,
          5000,
          10000,
          30000,
          90000,
          143000
         ],
         "xaxis": "x",
         "y": [
          -1.9944696426391602,
          0.13202357292175293,
          0.14536458253860474,
          -0.19489410519599915,
          -0.7979949116706848,
          -1.7602996826171875,
          -3.572429656982422,
          -6.5247063636779785,
          -5.297738075256348
         ],
         "yaxis": "y"
        },
        {
         "hovertemplate": "Layer-Head=Layer 4-Head 3<br>Checkpoint=%{x}<br>Self Repair Score=%{y}<extra></extra>",
         "legendgroup": "Layer 4-Head 3",
         "line": {
          "color": "#EF553B",
          "dash": "solid"
         },
         "marker": {
          "symbol": "circle"
         },
         "mode": "lines",
         "name": "Layer 4-Head 3",
         "showlegend": true,
         "type": "scattergl",
         "x": [
          512,
          1000,
          2000,
          3000,
          5000,
          10000,
          30000,
          90000,
          143000
         ],
         "xaxis": "x",
         "y": [
          8.140486717224121,
          -1.0053156614303589,
          -0.2163192629814148,
          -0.608375608921051,
          -1.055117130279541,
          -1.0294724702835083,
          -1.1581377983093262,
          -0.6421698331832886,
          -1.7053158283233643
         ],
         "yaxis": "y"
        },
        {
         "hovertemplate": "Layer-Head=Layer 4-Head 4<br>Checkpoint=%{x}<br>Self Repair Score=%{y}<extra></extra>",
         "legendgroup": "Layer 4-Head 4",
         "line": {
          "color": "#00cc96",
          "dash": "solid"
         },
         "marker": {
          "symbol": "circle"
         },
         "mode": "lines",
         "name": "Layer 4-Head 4",
         "showlegend": true,
         "type": "scattergl",
         "x": [
          512,
          1000,
          2000,
          3000,
          5000,
          10000,
          30000,
          90000,
          143000
         ],
         "xaxis": "x",
         "y": [
          -0.24292908608913422,
          -0.6736235022544861,
          -0.47339752316474915,
          -1.5423505306243896,
          -2.241884708404541,
          -3.2432141304016113,
          -3.5814809799194336,
          -1.8353253602981567,
          -2.7097456455230713
         ],
         "yaxis": "y"
        },
        {
         "hovertemplate": "Layer-Head=Layer 4-Head 5<br>Checkpoint=%{x}<br>Self Repair Score=%{y}<extra></extra>",
         "legendgroup": "Layer 4-Head 5",
         "line": {
          "color": "#ab63fa",
          "dash": "solid"
         },
         "marker": {
          "symbol": "circle"
         },
         "mode": "lines",
         "name": "Layer 4-Head 5",
         "showlegend": true,
         "type": "scattergl",
         "x": [
          512,
          1000,
          2000,
          3000,
          5000,
          10000,
          30000,
          90000,
          143000
         ],
         "xaxis": "x",
         "y": [
          -9.06679630279541,
          -2.869612216949463,
          -2.149869203567505,
          -3.2851412296295166,
          -4.3914313316345215,
          -5.865716457366943,
          -4.578164100646973,
          -3.173717975616455,
          -3.6268129348754883
         ],
         "yaxis": "y"
        },
        {
         "hovertemplate": "Layer-Head=Layer 4-Head 6<br>Checkpoint=%{x}<br>Self Repair Score=%{y}<extra></extra>",
         "legendgroup": "Layer 4-Head 6",
         "line": {
          "color": "#FFA15A",
          "dash": "solid"
         },
         "marker": {
          "symbol": "circle"
         },
         "mode": "lines",
         "name": "Layer 4-Head 6",
         "showlegend": true,
         "type": "scattergl",
         "x": [
          512,
          1000,
          2000,
          3000,
          5000,
          10000,
          30000,
          90000,
          143000
         ],
         "xaxis": "x",
         "y": [
          -0.5228728652000427,
          -0.7276780605316162,
          -0.8776816725730896,
          -1.6464872360229492,
          -1.9313446283340454,
          -1.9551619291305542,
          -2.196161985397339,
          5.644755840301514,
          29.618167877197266
         ],
         "yaxis": "y"
        },
        {
         "hovertemplate": "Layer-Head=Layer 4-Head 7<br>Checkpoint=%{x}<br>Self Repair Score=%{y}<extra></extra>",
         "legendgroup": "Layer 4-Head 7",
         "line": {
          "color": "#19d3f3",
          "dash": "solid"
         },
         "marker": {
          "symbol": "circle"
         },
         "mode": "lines",
         "name": "Layer 4-Head 7",
         "showlegend": true,
         "type": "scattergl",
         "x": [
          512,
          1000,
          2000,
          3000,
          5000,
          10000,
          30000,
          90000,
          143000
         ],
         "xaxis": "x",
         "y": [
          -0.5302369594573975,
          -0.6977283954620361,
          -0.061839789152145386,
          -0.24155902862548828,
          -0.45685598254203796,
          -0.7663901448249817,
          -1.2698060274124146,
          -1.157822608947754,
          -1.9210537672042847
         ],
         "yaxis": "y"
        },
        {
         "hovertemplate": "Layer-Head=Layer 4-Head 8<br>Checkpoint=%{x}<br>Self Repair Score=%{y}<extra></extra>",
         "legendgroup": "Layer 4-Head 8",
         "line": {
          "color": "#FF6692",
          "dash": "solid"
         },
         "marker": {
          "symbol": "circle"
         },
         "mode": "lines",
         "name": "Layer 4-Head 8",
         "showlegend": true,
         "type": "scattergl",
         "x": [
          512,
          1000,
          2000,
          3000,
          5000,
          10000,
          30000,
          90000,
          143000
         ],
         "xaxis": "x",
         "y": [
          -0.8051922917366028,
          0.4698166847229004,
          0.0763254314661026,
          -0.1295408308506012,
          -0.7701547741889954,
          -0.6939366459846497,
          -0.695612907409668,
          -2.617929220199585,
          -3.2316441535949707
         ],
         "yaxis": "y"
        },
        {
         "hovertemplate": "Layer-Head=Layer 4-Head 9<br>Checkpoint=%{x}<br>Self Repair Score=%{y}<extra></extra>",
         "legendgroup": "Layer 4-Head 9",
         "line": {
          "color": "#B6E880",
          "dash": "solid"
         },
         "marker": {
          "symbol": "circle"
         },
         "mode": "lines",
         "name": "Layer 4-Head 9",
         "showlegend": true,
         "type": "scattergl",
         "x": [
          512,
          1000,
          2000,
          3000,
          5000,
          10000,
          30000,
          90000,
          143000
         ],
         "xaxis": "x",
         "y": [
          0.0340731218457222,
          -0.049265772104263306,
          0.1364246904850006,
          -0.15768034756183624,
          -0.857968807220459,
          -1.412868857383728,
          -2.3793866634368896,
          -4.584296226501465,
          -4.1050825119018555
         ],
         "yaxis": "y"
        },
        {
         "hovertemplate": "Layer-Head=Layer 4-Head 10<br>Checkpoint=%{x}<br>Self Repair Score=%{y}<extra></extra>",
         "legendgroup": "Layer 4-Head 10",
         "line": {
          "color": "#FF97FF",
          "dash": "solid"
         },
         "marker": {
          "symbol": "circle"
         },
         "mode": "lines",
         "name": "Layer 4-Head 10",
         "showlegend": true,
         "type": "scattergl",
         "x": [
          512,
          1000,
          2000,
          3000,
          5000,
          10000,
          30000,
          90000,
          143000
         ],
         "xaxis": "x",
         "y": [
          -6.008023738861084,
          -2.1700615882873535,
          -1.1309446096420288,
          -0.20243774354457855,
          -0.518657922744751,
          -0.9848592281341553,
          -2.10406231880188,
          1.8996161222457886,
          2.0956931114196777
         ],
         "yaxis": "y"
        },
        {
         "hovertemplate": "Layer-Head=Layer 4-Head 11<br>Checkpoint=%{x}<br>Self Repair Score=%{y}<extra></extra>",
         "legendgroup": "Layer 4-Head 11",
         "line": {
          "color": "#FECB52",
          "dash": "solid"
         },
         "marker": {
          "symbol": "circle"
         },
         "mode": "lines",
         "name": "Layer 4-Head 11",
         "showlegend": true,
         "type": "scattergl",
         "x": [
          512,
          1000,
          2000,
          3000,
          5000,
          10000,
          30000,
          90000,
          143000
         ],
         "xaxis": "x",
         "y": [
          -1.2077274322509766,
          -0.04844873771071434,
          0.11560893058776855,
          0.09042776376008987,
          -0.08836597204208374,
          -0.08343163132667542,
          -0.36166200041770935,
          -3.485778331756592,
          -2.3728461265563965
         ],
         "yaxis": "y"
        },
        {
         "hovertemplate": "Layer-Head=Layer 5-Head 0<br>Checkpoint=%{x}<br>Self Repair Score=%{y}<extra></extra>",
         "legendgroup": "Layer 5-Head 0",
         "line": {
          "color": "#636efa",
          "dash": "solid"
         },
         "marker": {
          "symbol": "circle"
         },
         "mode": "lines",
         "name": "Layer 5-Head 0",
         "showlegend": true,
         "type": "scattergl",
         "x": [
          512,
          1000,
          2000,
          3000,
          5000,
          10000,
          30000,
          90000,
          143000
         ],
         "xaxis": "x",
         "y": [
          -2.6231846809387207,
          -0.6204435229301453,
          0.23847801983356476,
          0.32902297377586365,
          0.40377646684646606,
          0.4163130521774292,
          0.48627224564552307,
          -0.30263426899909973,
          -0.1683306246995926
         ],
         "yaxis": "y"
        },
        {
         "hovertemplate": "Layer-Head=Layer 5-Head 1<br>Checkpoint=%{x}<br>Self Repair Score=%{y}<extra></extra>",
         "legendgroup": "Layer 5-Head 1",
         "line": {
          "color": "#EF553B",
          "dash": "solid"
         },
         "marker": {
          "symbol": "circle"
         },
         "mode": "lines",
         "name": "Layer 5-Head 1",
         "showlegend": true,
         "type": "scattergl",
         "x": [
          512,
          1000,
          2000,
          3000,
          5000,
          10000,
          30000,
          90000,
          143000
         ],
         "xaxis": "x",
         "y": [
          1.4368048906326294,
          0.08311965316534042,
          0.2739138901233673,
          -0.45719072222709656,
          -0.6809287071228027,
          -1.371096134185791,
          -1.10360586643219,
          -1.4847689867019653,
          -4.563191890716553
         ],
         "yaxis": "y"
        },
        {
         "hovertemplate": "Layer-Head=Layer 5-Head 2<br>Checkpoint=%{x}<br>Self Repair Score=%{y}<extra></extra>",
         "legendgroup": "Layer 5-Head 2",
         "line": {
          "color": "#00cc96",
          "dash": "solid"
         },
         "marker": {
          "symbol": "circle"
         },
         "mode": "lines",
         "name": "Layer 5-Head 2",
         "showlegend": true,
         "type": "scattergl",
         "x": [
          512,
          1000,
          2000,
          3000,
          5000,
          10000,
          30000,
          90000,
          143000
         ],
         "xaxis": "x",
         "y": [
          8.526930809020996,
          -1.1509662866592407,
          0.38694700598716736,
          0.5052219033241272,
          0.5246214866638184,
          0.46482640504837036,
          0.5216180682182312,
          0.32202526926994324,
          -0.2923525869846344
         ],
         "yaxis": "y"
        },
        {
         "hovertemplate": "Layer-Head=Layer 5-Head 3<br>Checkpoint=%{x}<br>Self Repair Score=%{y}<extra></extra>",
         "legendgroup": "Layer 5-Head 3",
         "line": {
          "color": "#ab63fa",
          "dash": "solid"
         },
         "marker": {
          "symbol": "circle"
         },
         "mode": "lines",
         "name": "Layer 5-Head 3",
         "showlegend": true,
         "type": "scattergl",
         "x": [
          512,
          1000,
          2000,
          3000,
          5000,
          10000,
          30000,
          90000,
          143000
         ],
         "xaxis": "x",
         "y": [
          0.9631589651107788,
          0.7024214267730713,
          0.5696573853492737,
          0.013094605877995491,
          -1.1243475675582886,
          -1.3452250957489014,
          -0.8793869614601135,
          -2.186345100402832,
          -2.17470645904541
         ],
         "yaxis": "y"
        },
        {
         "hovertemplate": "Layer-Head=Layer 5-Head 4<br>Checkpoint=%{x}<br>Self Repair Score=%{y}<extra></extra>",
         "legendgroup": "Layer 5-Head 4",
         "line": {
          "color": "#FFA15A",
          "dash": "solid"
         },
         "marker": {
          "symbol": "circle"
         },
         "mode": "lines",
         "name": "Layer 5-Head 4",
         "showlegend": true,
         "type": "scattergl",
         "x": [
          512,
          1000,
          2000,
          3000,
          5000,
          10000,
          30000,
          90000,
          143000
         ],
         "xaxis": "x",
         "y": [
          0.5746976137161255,
          0.4442668855190277,
          0.3400757908821106,
          0.18988797068595886,
          -0.004572565201669931,
          0.010234834626317024,
          -0.2830507457256317,
          -1.2316997051239014,
          -2.6428661346435547
         ],
         "yaxis": "y"
        },
        {
         "hovertemplate": "Layer-Head=Layer 5-Head 5<br>Checkpoint=%{x}<br>Self Repair Score=%{y}<extra></extra>",
         "legendgroup": "Layer 5-Head 5",
         "line": {
          "color": "#19d3f3",
          "dash": "solid"
         },
         "marker": {
          "symbol": "circle"
         },
         "mode": "lines",
         "name": "Layer 5-Head 5",
         "showlegend": true,
         "type": "scattergl",
         "x": [
          512,
          1000,
          2000,
          3000,
          5000,
          10000,
          30000,
          90000,
          143000
         ],
         "xaxis": "x",
         "y": [
          0.44976717233657837,
          0.7030451893806458,
          0.3374393880367279,
          0.1671784371137619,
          -0.0767415314912796,
          -0.5797957181930542,
          -1.015222191810608,
          73.02850341796875,
          -5.883346080780029
         ],
         "yaxis": "y"
        },
        {
         "hovertemplate": "Layer-Head=Layer 5-Head 6<br>Checkpoint=%{x}<br>Self Repair Score=%{y}<extra></extra>",
         "legendgroup": "Layer 5-Head 6",
         "line": {
          "color": "#FF6692",
          "dash": "solid"
         },
         "marker": {
          "symbol": "circle"
         },
         "mode": "lines",
         "name": "Layer 5-Head 6",
         "showlegend": true,
         "type": "scattergl",
         "x": [
          512,
          1000,
          2000,
          3000,
          5000,
          10000,
          30000,
          90000,
          143000
         ],
         "xaxis": "x",
         "y": [
          -1.7250821590423584,
          -0.24410243332386017,
          0.03444996103644371,
          -0.011312742717564106,
          0.2786824405193329,
          0.3823508620262146,
          0.6022648215293884,
          -0.01527706440538168,
          7.291500568389893
         ],
         "yaxis": "y"
        },
        {
         "hovertemplate": "Layer-Head=Layer 5-Head 7<br>Checkpoint=%{x}<br>Self Repair Score=%{y}<extra></extra>",
         "legendgroup": "Layer 5-Head 7",
         "line": {
          "color": "#B6E880",
          "dash": "solid"
         },
         "marker": {
          "symbol": "circle"
         },
         "mode": "lines",
         "name": "Layer 5-Head 7",
         "showlegend": true,
         "type": "scattergl",
         "x": [
          512,
          1000,
          2000,
          3000,
          5000,
          10000,
          30000,
          90000,
          143000
         ],
         "xaxis": "x",
         "y": [
          0.40764424204826355,
          1.1691644191741943,
          2.777841567993164,
          -0.09118417650461197,
          0.04930339381098747,
          0.44473594427108765,
          0.7127660512924194,
          0.5506600141525269,
          0.2351350635290146
         ],
         "yaxis": "y"
        },
        {
         "hovertemplate": "Layer-Head=Layer 5-Head 8<br>Checkpoint=%{x}<br>Self Repair Score=%{y}<extra></extra>",
         "legendgroup": "Layer 5-Head 8",
         "line": {
          "color": "#FF97FF",
          "dash": "solid"
         },
         "marker": {
          "symbol": "circle"
         },
         "mode": "lines",
         "name": "Layer 5-Head 8",
         "showlegend": true,
         "type": "scattergl",
         "x": [
          512,
          1000,
          2000,
          3000,
          5000,
          10000,
          30000,
          90000,
          143000
         ],
         "xaxis": "x",
         "y": [
          0.09243836998939514,
          -0.3262655436992645,
          -1.272079348564148,
          -2.5306615829467773,
          -3.052593946456909,
          -4.129241466522217,
          -3.838501214981079,
          -4.891396522521973,
          -3.7696237564086914
         ],
         "yaxis": "y"
        },
        {
         "hovertemplate": "Layer-Head=Layer 5-Head 9<br>Checkpoint=%{x}<br>Self Repair Score=%{y}<extra></extra>",
         "legendgroup": "Layer 5-Head 9",
         "line": {
          "color": "#FECB52",
          "dash": "solid"
         },
         "marker": {
          "symbol": "circle"
         },
         "mode": "lines",
         "name": "Layer 5-Head 9",
         "showlegend": true,
         "type": "scattergl",
         "x": [
          512,
          1000,
          2000,
          3000,
          5000,
          10000,
          30000,
          90000,
          143000
         ],
         "xaxis": "x",
         "y": [
          -0.01960131712257862,
          0.1917256861925125,
          0.510657012462616,
          0.48377031087875366,
          0.3937479853630066,
          0.33994612097740173,
          0.17430901527404785,
          -0.7928298115730286,
          -0.389949768781662
         ],
         "yaxis": "y"
        },
        {
         "hovertemplate": "Layer-Head=Layer 5-Head 10<br>Checkpoint=%{x}<br>Self Repair Score=%{y}<extra></extra>",
         "legendgroup": "Layer 5-Head 10",
         "line": {
          "color": "#636efa",
          "dash": "solid"
         },
         "marker": {
          "symbol": "circle"
         },
         "mode": "lines",
         "name": "Layer 5-Head 10",
         "showlegend": true,
         "type": "scattergl",
         "x": [
          512,
          1000,
          2000,
          3000,
          5000,
          10000,
          30000,
          90000,
          143000
         ],
         "xaxis": "x",
         "y": [
          -59.23223114013672,
          -0.2263377457857132,
          0.2941296398639679,
          0.2268504947423935,
          0.0814555436372757,
          -0.18206921219825745,
          -0.5845213532447815,
          1.9498777389526367,
          8.99057674407959
         ],
         "yaxis": "y"
        },
        {
         "hovertemplate": "Layer-Head=Layer 5-Head 11<br>Checkpoint=%{x}<br>Self Repair Score=%{y}<extra></extra>",
         "legendgroup": "Layer 5-Head 11",
         "line": {
          "color": "#EF553B",
          "dash": "solid"
         },
         "marker": {
          "symbol": "circle"
         },
         "mode": "lines",
         "name": "Layer 5-Head 11",
         "showlegend": true,
         "type": "scattergl",
         "x": [
          512,
          1000,
          2000,
          3000,
          5000,
          10000,
          30000,
          90000,
          143000
         ],
         "xaxis": "x",
         "y": [
          0.29909783601760864,
          0.16792888939380646,
          0.6755483746528625,
          0.1993003487586975,
          -0.07906164973974228,
          -0.5890143513679504,
          -1.0290969610214233,
          -0.29642966389656067,
          -1.0407781600952148
         ],
         "yaxis": "y"
        },
        {
         "hovertemplate": "Layer-Head=Layer 6-Head 0<br>Checkpoint=%{x}<br>Self Repair Score=%{y}<extra></extra>",
         "legendgroup": "Layer 6-Head 0",
         "line": {
          "color": "#00cc96",
          "dash": "solid"
         },
         "marker": {
          "symbol": "circle"
         },
         "mode": "lines",
         "name": "Layer 6-Head 0",
         "showlegend": true,
         "type": "scattergl",
         "x": [
          512,
          1000,
          2000,
          3000,
          5000,
          10000,
          30000,
          90000,
          143000
         ],
         "xaxis": "x",
         "y": [
          -0.10305789113044739,
          -0.42322269082069397,
          0.38970428705215454,
          0.1198006272315979,
          -0.27740541100502014,
          -0.7533791661262512,
          -1.662612795829773,
          -3.002821445465088,
          -1.5807595252990723
         ],
         "yaxis": "y"
        },
        {
         "hovertemplate": "Layer-Head=Layer 6-Head 1<br>Checkpoint=%{x}<br>Self Repair Score=%{y}<extra></extra>",
         "legendgroup": "Layer 6-Head 1",
         "line": {
          "color": "#ab63fa",
          "dash": "solid"
         },
         "marker": {
          "symbol": "circle"
         },
         "mode": "lines",
         "name": "Layer 6-Head 1",
         "showlegend": true,
         "type": "scattergl",
         "x": [
          512,
          1000,
          2000,
          3000,
          5000,
          10000,
          30000,
          90000,
          143000
         ],
         "xaxis": "x",
         "y": [
          2.301715135574341,
          -0.18665088713169098,
          0.5409389734268188,
          0.6684590578079224,
          0.5670331716537476,
          0.5743046402931213,
          0.4954686462879181,
          0.2189234495162964,
          -0.6351913809776306
         ],
         "yaxis": "y"
        },
        {
         "hovertemplate": "Layer-Head=Layer 6-Head 2<br>Checkpoint=%{x}<br>Self Repair Score=%{y}<extra></extra>",
         "legendgroup": "Layer 6-Head 2",
         "line": {
          "color": "#FFA15A",
          "dash": "solid"
         },
         "marker": {
          "symbol": "circle"
         },
         "mode": "lines",
         "name": "Layer 6-Head 2",
         "showlegend": true,
         "type": "scattergl",
         "x": [
          512,
          1000,
          2000,
          3000,
          5000,
          10000,
          30000,
          90000,
          143000
         ],
         "xaxis": "x",
         "y": [
          0.9285192489624023,
          1.0272947549819946,
          0.49593445658683777,
          -0.018090996891260147,
          -0.5012167692184448,
          -1.5197675228118896,
          -2.162170171737671,
          -2.2060446739196777,
          -0.9468557834625244
         ],
         "yaxis": "y"
        },
        {
         "hovertemplate": "Layer-Head=Layer 6-Head 3<br>Checkpoint=%{x}<br>Self Repair Score=%{y}<extra></extra>",
         "legendgroup": "Layer 6-Head 3",
         "line": {
          "color": "#19d3f3",
          "dash": "solid"
         },
         "marker": {
          "symbol": "circle"
         },
         "mode": "lines",
         "name": "Layer 6-Head 3",
         "showlegend": true,
         "type": "scattergl",
         "x": [
          512,
          1000,
          2000,
          3000,
          5000,
          10000,
          30000,
          90000,
          143000
         ],
         "xaxis": "x",
         "y": [
          1.128137469291687,
          0.6450775861740112,
          0.7132177948951721,
          0.5574071407318115,
          0.3532944619655609,
          0.3854106068611145,
          -0.1617078334093094,
          -2.4402596950531006,
          -0.8256484270095825
         ],
         "yaxis": "y"
        },
        {
         "hovertemplate": "Layer-Head=Layer 6-Head 4<br>Checkpoint=%{x}<br>Self Repair Score=%{y}<extra></extra>",
         "legendgroup": "Layer 6-Head 4",
         "line": {
          "color": "#FF6692",
          "dash": "solid"
         },
         "marker": {
          "symbol": "circle"
         },
         "mode": "lines",
         "name": "Layer 6-Head 4",
         "showlegend": true,
         "type": "scattergl",
         "x": [
          512,
          1000,
          2000,
          3000,
          5000,
          10000,
          30000,
          90000,
          143000
         ],
         "xaxis": "x",
         "y": [
          -2.297924280166626,
          -0.25049546360969543,
          0.39478421211242676,
          0.4056675434112549,
          0.2771691083908081,
          0.178418830037117,
          -0.05790599808096886,
          -0.12128795683383942,
          -0.39989808201789856
         ],
         "yaxis": "y"
        },
        {
         "hovertemplate": "Layer-Head=Layer 6-Head 5<br>Checkpoint=%{x}<br>Self Repair Score=%{y}<extra></extra>",
         "legendgroup": "Layer 6-Head 5",
         "line": {
          "color": "#B6E880",
          "dash": "solid"
         },
         "marker": {
          "symbol": "circle"
         },
         "mode": "lines",
         "name": "Layer 6-Head 5",
         "showlegend": true,
         "type": "scattergl",
         "x": [
          512,
          1000,
          2000,
          3000,
          5000,
          10000,
          30000,
          90000,
          143000
         ],
         "xaxis": "x",
         "y": [
          0.8660494685173035,
          0.8751950263977051,
          6.970122814178467,
          9.828570365905762,
          -0.1482379138469696,
          -0.11363911628723145,
          -0.5287842154502869,
          4.223991870880127,
          -1.8417832851409912
         ],
         "yaxis": "y"
        },
        {
         "hovertemplate": "Layer-Head=Layer 6-Head 6<br>Checkpoint=%{x}<br>Self Repair Score=%{y}<extra></extra>",
         "legendgroup": "Layer 6-Head 6",
         "line": {
          "color": "#FF97FF",
          "dash": "solid"
         },
         "marker": {
          "symbol": "circle"
         },
         "mode": "lines",
         "name": "Layer 6-Head 6",
         "showlegend": true,
         "type": "scattergl",
         "x": [
          512,
          1000,
          2000,
          3000,
          5000,
          10000,
          30000,
          90000,
          143000
         ],
         "xaxis": "x",
         "y": [
          -1.6481094360351562,
          -0.18362779915332794,
          0.23023319244384766,
          0.08969322592020035,
          0.13738402724266052,
          0.06288667768239975,
          -0.06937111914157867,
          -0.4423917531967163,
          -0.26520970463752747
         ],
         "yaxis": "y"
        },
        {
         "hovertemplate": "Layer-Head=Layer 6-Head 7<br>Checkpoint=%{x}<br>Self Repair Score=%{y}<extra></extra>",
         "legendgroup": "Layer 6-Head 7",
         "line": {
          "color": "#FECB52",
          "dash": "solid"
         },
         "marker": {
          "symbol": "circle"
         },
         "mode": "lines",
         "name": "Layer 6-Head 7",
         "showlegend": true,
         "type": "scattergl",
         "x": [
          512,
          1000,
          2000,
          3000,
          5000,
          10000,
          30000,
          90000,
          143000
         ],
         "xaxis": "x",
         "y": [
          0.02636747993528843,
          0.7054203748703003,
          1.8606995344161987,
          1.1678426265716553,
          1.4115149974822998,
          -26.752775192260742,
          -0.2452041655778885,
          -0.8975121974945068,
          -0.2523637115955353
         ],
         "yaxis": "y"
        },
        {
         "hovertemplate": "Layer-Head=Layer 6-Head 8<br>Checkpoint=%{x}<br>Self Repair Score=%{y}<extra></extra>",
         "legendgroup": "Layer 6-Head 8",
         "line": {
          "color": "#636efa",
          "dash": "solid"
         },
         "marker": {
          "symbol": "circle"
         },
         "mode": "lines",
         "name": "Layer 6-Head 8",
         "showlegend": true,
         "type": "scattergl",
         "x": [
          512,
          1000,
          2000,
          3000,
          5000,
          10000,
          30000,
          90000,
          143000
         ],
         "xaxis": "x",
         "y": [
          1.2030800580978394,
          0.4448612928390503,
          0.26608020067214966,
          1.458706021308899,
          2.2168772220611572,
          -2.2299861907958984,
          -2.338310480117798,
          -5.735233783721924,
          -1.8664637804031372
         ],
         "yaxis": "y"
        },
        {
         "hovertemplate": "Layer-Head=Layer 6-Head 9<br>Checkpoint=%{x}<br>Self Repair Score=%{y}<extra></extra>",
         "legendgroup": "Layer 6-Head 9",
         "line": {
          "color": "#EF553B",
          "dash": "solid"
         },
         "marker": {
          "symbol": "circle"
         },
         "mode": "lines",
         "name": "Layer 6-Head 9",
         "showlegend": true,
         "type": "scattergl",
         "x": [
          512,
          1000,
          2000,
          3000,
          5000,
          10000,
          30000,
          90000,
          143000
         ],
         "xaxis": "x",
         "y": [
          0.8985803723335266,
          1.1207916736602783,
          1.7277368307113647,
          5.450345993041992,
          2.6026768684387207,
          1.7110530138015747,
          1.5390294790267944,
          0.1620984673500061,
          -1.120395302772522
         ],
         "yaxis": "y"
        },
        {
         "hovertemplate": "Layer-Head=Layer 6-Head 10<br>Checkpoint=%{x}<br>Self Repair Score=%{y}<extra></extra>",
         "legendgroup": "Layer 6-Head 10",
         "line": {
          "color": "#00cc96",
          "dash": "solid"
         },
         "marker": {
          "symbol": "circle"
         },
         "mode": "lines",
         "name": "Layer 6-Head 10",
         "showlegend": true,
         "type": "scattergl",
         "x": [
          512,
          1000,
          2000,
          3000,
          5000,
          10000,
          30000,
          90000,
          143000
         ],
         "xaxis": "x",
         "y": [
          1.2233185768127441,
          1.1567014455795288,
          13.229116439819336,
          3.173666000366211,
          1.6030073165893555,
          11.74020767211914,
          -0.23717132210731506,
          -0.9259011745452881,
          -26.726356506347656
         ],
         "yaxis": "y"
        },
        {
         "hovertemplate": "Layer-Head=Layer 6-Head 11<br>Checkpoint=%{x}<br>Self Repair Score=%{y}<extra></extra>",
         "legendgroup": "Layer 6-Head 11",
         "line": {
          "color": "#ab63fa",
          "dash": "solid"
         },
         "marker": {
          "symbol": "circle"
         },
         "mode": "lines",
         "name": "Layer 6-Head 11",
         "showlegend": true,
         "type": "scattergl",
         "x": [
          512,
          1000,
          2000,
          3000,
          5000,
          10000,
          30000,
          90000,
          143000
         ],
         "xaxis": "x",
         "y": [
          0.6364118456840515,
          1.4194014072418213,
          0.7058844566345215,
          0.1814066618680954,
          -0.20376995205879211,
          -0.45314863324165344,
          -0.9044511318206787,
          -10.818559646606445,
          -4.997003078460693
         ],
         "yaxis": "y"
        },
        {
         "hovertemplate": "Layer-Head=Layer 7-Head 0<br>Checkpoint=%{x}<br>Self Repair Score=%{y}<extra></extra>",
         "legendgroup": "Layer 7-Head 0",
         "line": {
          "color": "#FFA15A",
          "dash": "solid"
         },
         "marker": {
          "symbol": "circle"
         },
         "mode": "lines",
         "name": "Layer 7-Head 0",
         "showlegend": true,
         "type": "scattergl",
         "x": [
          512,
          1000,
          2000,
          3000,
          5000,
          10000,
          30000,
          90000,
          143000
         ],
         "xaxis": "x",
         "y": [
          -0.15723271667957306,
          0.9509515166282654,
          0.6754992604255676,
          -20.076562881469727,
          0.3733682930469513,
          0.05676534026861191,
          -4.236100673675537,
          -5.184971332550049,
          22.47022819519043
         ],
         "yaxis": "y"
        },
        {
         "hovertemplate": "Layer-Head=Layer 7-Head 1<br>Checkpoint=%{x}<br>Self Repair Score=%{y}<extra></extra>",
         "legendgroup": "Layer 7-Head 1",
         "line": {
          "color": "#19d3f3",
          "dash": "solid"
         },
         "marker": {
          "symbol": "circle"
         },
         "mode": "lines",
         "name": "Layer 7-Head 1",
         "showlegend": true,
         "type": "scattergl",
         "x": [
          512,
          1000,
          2000,
          3000,
          5000,
          10000,
          30000,
          90000,
          143000
         ],
         "xaxis": "x",
         "y": [
          1.0192432403564453,
          1.0131425857543945,
          0.5323635339736938,
          0.039267320185899734,
          -1.79570472240448,
          -1.5115197896957397,
          -1.0758696794509888,
          -2.037693738937378,
          -1.29153311252594
         ],
         "yaxis": "y"
        },
        {
         "hovertemplate": "Layer-Head=Layer 7-Head 2<br>Checkpoint=%{x}<br>Self Repair Score=%{y}<extra></extra>",
         "legendgroup": "Layer 7-Head 2",
         "line": {
          "color": "#FF6692",
          "dash": "solid"
         },
         "marker": {
          "symbol": "circle"
         },
         "mode": "lines",
         "name": "Layer 7-Head 2",
         "showlegend": true,
         "type": "scattergl",
         "x": [
          512,
          1000,
          2000,
          3000,
          5000,
          10000,
          30000,
          90000,
          143000
         ],
         "xaxis": "x",
         "y": [
          1.0610377788543701,
          0.8651305437088013,
          -0.1982729434967041,
          0.8202440142631531,
          0.7107398509979248,
          -0.05591495335102081,
          -0.48040491342544556,
          -1.2117254734039307,
          0.1593988686800003
         ],
         "yaxis": "y"
        },
        {
         "hovertemplate": "Layer-Head=Layer 7-Head 3<br>Checkpoint=%{x}<br>Self Repair Score=%{y}<extra></extra>",
         "legendgroup": "Layer 7-Head 3",
         "line": {
          "color": "#B6E880",
          "dash": "solid"
         },
         "marker": {
          "symbol": "circle"
         },
         "mode": "lines",
         "name": "Layer 7-Head 3",
         "showlegend": true,
         "type": "scattergl",
         "x": [
          512,
          1000,
          2000,
          3000,
          5000,
          10000,
          30000,
          90000,
          143000
         ],
         "xaxis": "x",
         "y": [
          -2.446216106414795,
          1.4070091247558594,
          1.815953016281128,
          -0.8880776762962341,
          0.35638317465782166,
          0.3489287793636322,
          -2.4066648483276367,
          -0.5874864459037781,
          -2.3566205501556396
         ],
         "yaxis": "y"
        },
        {
         "hovertemplate": "Layer-Head=Layer 7-Head 4<br>Checkpoint=%{x}<br>Self Repair Score=%{y}<extra></extra>",
         "legendgroup": "Layer 7-Head 4",
         "line": {
          "color": "#FF97FF",
          "dash": "solid"
         },
         "marker": {
          "symbol": "circle"
         },
         "mode": "lines",
         "name": "Layer 7-Head 4",
         "showlegend": true,
         "type": "scattergl",
         "x": [
          512,
          1000,
          2000,
          3000,
          5000,
          10000,
          30000,
          90000,
          143000
         ],
         "xaxis": "x",
         "y": [
          0.28176453709602356,
          -0.49224355816841125,
          0.04919601231813431,
          1.1848934888839722,
          1.7053419351577759,
          0.6269592046737671,
          0.5611681938171387,
          -0.34601277112960815,
          -1.3944646120071411
         ],
         "yaxis": "y"
        },
        {
         "hovertemplate": "Layer-Head=Layer 7-Head 5<br>Checkpoint=%{x}<br>Self Repair Score=%{y}<extra></extra>",
         "legendgroup": "Layer 7-Head 5",
         "line": {
          "color": "#FECB52",
          "dash": "solid"
         },
         "marker": {
          "symbol": "circle"
         },
         "mode": "lines",
         "name": "Layer 7-Head 5",
         "showlegend": true,
         "type": "scattergl",
         "x": [
          512,
          1000,
          2000,
          3000,
          5000,
          10000,
          30000,
          90000,
          143000
         ],
         "xaxis": "x",
         "y": [
          1.1760237216949463,
          0.8532406687736511,
          0.8792872428894043,
          0.8808305859565735,
          0.5050713419914246,
          -2.0022284984588623,
          -1.541247010231018,
          -1.0225528478622437,
          4.719651222229004
         ],
         "yaxis": "y"
        },
        {
         "hovertemplate": "Layer-Head=Layer 7-Head 6<br>Checkpoint=%{x}<br>Self Repair Score=%{y}<extra></extra>",
         "legendgroup": "Layer 7-Head 6",
         "line": {
          "color": "#636efa",
          "dash": "solid"
         },
         "marker": {
          "symbol": "circle"
         },
         "mode": "lines",
         "name": "Layer 7-Head 6",
         "showlegend": true,
         "type": "scattergl",
         "x": [
          512,
          1000,
          2000,
          3000,
          5000,
          10000,
          30000,
          90000,
          143000
         ],
         "xaxis": "x",
         "y": [
          0.9428349137306213,
          0.8672233819961548,
          1.225075125694275,
          1.2923915386199951,
          1.3010413646697998,
          1.1675889492034912,
          0.9049396514892578,
          0.6627765893936157,
          1.7063463926315308
         ],
         "yaxis": "y"
        },
        {
         "hovertemplate": "Layer-Head=Layer 7-Head 7<br>Checkpoint=%{x}<br>Self Repair Score=%{y}<extra></extra>",
         "legendgroup": "Layer 7-Head 7",
         "line": {
          "color": "#EF553B",
          "dash": "solid"
         },
         "marker": {
          "symbol": "circle"
         },
         "mode": "lines",
         "name": "Layer 7-Head 7",
         "showlegend": true,
         "type": "scattergl",
         "x": [
          512,
          1000,
          2000,
          3000,
          5000,
          10000,
          30000,
          90000,
          143000
         ],
         "xaxis": "x",
         "y": [
          0.7422524094581604,
          0.8945423364639282,
          0.5860734581947327,
          -0.10943681001663208,
          -0.5715655088424683,
          -1.4442291259765625,
          -2.0105011463165283,
          -2.357523202896118,
          -3.310333728790283
         ],
         "yaxis": "y"
        },
        {
         "hovertemplate": "Layer-Head=Layer 7-Head 8<br>Checkpoint=%{x}<br>Self Repair Score=%{y}<extra></extra>",
         "legendgroup": "Layer 7-Head 8",
         "line": {
          "color": "#00cc96",
          "dash": "solid"
         },
         "marker": {
          "symbol": "circle"
         },
         "mode": "lines",
         "name": "Layer 7-Head 8",
         "showlegend": true,
         "type": "scattergl",
         "x": [
          512,
          1000,
          2000,
          3000,
          5000,
          10000,
          30000,
          90000,
          143000
         ],
         "xaxis": "x",
         "y": [
          0.2569282352924347,
          0.6034530401229858,
          0.21239417791366577,
          0.2369476854801178,
          0.05764817073941231,
          -0.6913606524467468,
          -1.3225828409194946,
          -2.360485792160034,
          -1.4453009366989136
         ],
         "yaxis": "y"
        },
        {
         "hovertemplate": "Layer-Head=Layer 7-Head 9<br>Checkpoint=%{x}<br>Self Repair Score=%{y}<extra></extra>",
         "legendgroup": "Layer 7-Head 9",
         "line": {
          "color": "#ab63fa",
          "dash": "solid"
         },
         "marker": {
          "symbol": "circle"
         },
         "mode": "lines",
         "name": "Layer 7-Head 9",
         "showlegend": true,
         "type": "scattergl",
         "x": [
          512,
          1000,
          2000,
          3000,
          5000,
          10000,
          30000,
          90000,
          143000
         ],
         "xaxis": "x",
         "y": [
          0.721065104007721,
          0.9537506103515625,
          0.5950663089752197,
          0.7411801815032959,
          -0.11479029059410095,
          0.3111671805381775,
          -0.37379443645477295,
          -1.3517920970916748,
          -1.0194401741027832
         ],
         "yaxis": "y"
        },
        {
         "hovertemplate": "Layer-Head=Layer 7-Head 10<br>Checkpoint=%{x}<br>Self Repair Score=%{y}<extra></extra>",
         "legendgroup": "Layer 7-Head 10",
         "line": {
          "color": "#FFA15A",
          "dash": "solid"
         },
         "marker": {
          "symbol": "circle"
         },
         "mode": "lines",
         "name": "Layer 7-Head 10",
         "showlegend": true,
         "type": "scattergl",
         "x": [
          512,
          1000,
          2000,
          3000,
          5000,
          10000,
          30000,
          90000,
          143000
         ],
         "xaxis": "x",
         "y": [
          1.1660223007202148,
          0.9635664224624634,
          0.42990612983703613,
          0.5522341728210449,
          0.5144105553627014,
          0.3140943646430969,
          0.3310618996620178,
          1.1965694427490234,
          1.2505347728729248
         ],
         "yaxis": "y"
        },
        {
         "hovertemplate": "Layer-Head=Layer 7-Head 11<br>Checkpoint=%{x}<br>Self Repair Score=%{y}<extra></extra>",
         "legendgroup": "Layer 7-Head 11",
         "line": {
          "color": "#19d3f3",
          "dash": "solid"
         },
         "marker": {
          "symbol": "circle"
         },
         "mode": "lines",
         "name": "Layer 7-Head 11",
         "showlegend": true,
         "type": "scattergl",
         "x": [
          512,
          1000,
          2000,
          3000,
          5000,
          10000,
          30000,
          90000,
          143000
         ],
         "xaxis": "x",
         "y": [
          -17.405324935913086,
          1.1387330293655396,
          0.9391589760780334,
          0.27176836133003235,
          -0.40501999855041504,
          -1.8610862493515015,
          -1.9556330442428589,
          2.7333896160125732,
          2.7046868801116943
         ],
         "yaxis": "y"
        },
        {
         "hovertemplate": "Layer-Head=Layer 8-Head 0<br>Checkpoint=%{x}<br>Self Repair Score=%{y}<extra></extra>",
         "legendgroup": "Layer 8-Head 0",
         "line": {
          "color": "#FF6692",
          "dash": "solid"
         },
         "marker": {
          "symbol": "circle"
         },
         "mode": "lines",
         "name": "Layer 8-Head 0",
         "showlegend": true,
         "type": "scattergl",
         "x": [
          512,
          1000,
          2000,
          3000,
          5000,
          10000,
          30000,
          90000,
          143000
         ],
         "xaxis": "x",
         "y": [
          1.352836012840271,
          1.3567286729812622,
          -13.524765968322754,
          -0.23933152854442596,
          -1.8595142364501953,
          0.24428637325763702,
          -0.1394510120153427,
          0.29560285806655884,
          -0.035064004361629486
         ],
         "yaxis": "y"
        },
        {
         "hovertemplate": "Layer-Head=Layer 8-Head 1<br>Checkpoint=%{x}<br>Self Repair Score=%{y}<extra></extra>",
         "legendgroup": "Layer 8-Head 1",
         "line": {
          "color": "#B6E880",
          "dash": "solid"
         },
         "marker": {
          "symbol": "circle"
         },
         "mode": "lines",
         "name": "Layer 8-Head 1",
         "showlegend": true,
         "type": "scattergl",
         "x": [
          512,
          1000,
          2000,
          3000,
          5000,
          10000,
          30000,
          90000,
          143000
         ],
         "xaxis": "x",
         "y": [
          -0.909989058971405,
          0.9258961081504822,
          0.46521809697151184,
          0.1126789078116417,
          -0.03136785328388214,
          -0.03606633469462395,
          -0.003158497391268611,
          -0.36450332403182983,
          0.17410053312778473
         ],
         "yaxis": "y"
        },
        {
         "hovertemplate": "Layer-Head=Layer 8-Head 2<br>Checkpoint=%{x}<br>Self Repair Score=%{y}<extra></extra>",
         "legendgroup": "Layer 8-Head 2",
         "line": {
          "color": "#FF97FF",
          "dash": "solid"
         },
         "marker": {
          "symbol": "circle"
         },
         "mode": "lines",
         "name": "Layer 8-Head 2",
         "showlegend": true,
         "type": "scattergl",
         "x": [
          512,
          1000,
          2000,
          3000,
          5000,
          10000,
          30000,
          90000,
          143000
         ],
         "xaxis": "x",
         "y": [
          -0.13831020891666412,
          0.7965527772903442,
          0.5757500529289246,
          -0.06199366971850395,
          0.1576845794916153,
          0.14918307960033417,
          0.29047659039497375,
          0.5701669454574585,
          0.5996230840682983
         ],
         "yaxis": "y"
        },
        {
         "hovertemplate": "Layer-Head=Layer 8-Head 3<br>Checkpoint=%{x}<br>Self Repair Score=%{y}<extra></extra>",
         "legendgroup": "Layer 8-Head 3",
         "line": {
          "color": "#FECB52",
          "dash": "solid"
         },
         "marker": {
          "symbol": "circle"
         },
         "mode": "lines",
         "name": "Layer 8-Head 3",
         "showlegend": true,
         "type": "scattergl",
         "x": [
          512,
          1000,
          2000,
          3000,
          5000,
          10000,
          30000,
          90000,
          143000
         ],
         "xaxis": "x",
         "y": [
          0.35838738083839417,
          0.8209765553474426,
          0.9487213492393494,
          0.8430356979370117,
          0.7543790936470032,
          0.20542767643928528,
          0.2914266884326935,
          0.4929332435131073,
          0.37405312061309814
         ],
         "yaxis": "y"
        },
        {
         "hovertemplate": "Layer-Head=Layer 8-Head 4<br>Checkpoint=%{x}<br>Self Repair Score=%{y}<extra></extra>",
         "legendgroup": "Layer 8-Head 4",
         "line": {
          "color": "#636efa",
          "dash": "solid"
         },
         "marker": {
          "symbol": "circle"
         },
         "mode": "lines",
         "name": "Layer 8-Head 4",
         "showlegend": true,
         "type": "scattergl",
         "x": [
          512,
          1000,
          2000,
          3000,
          5000,
          10000,
          30000,
          90000,
          143000
         ],
         "xaxis": "x",
         "y": [
          3.883469820022583,
          0.8267820477485657,
          0.8223687410354614,
          -0.21892331540584564,
          0.25817468762397766,
          -0.11042376607656479,
          -0.7875173687934875,
          -1.1839210987091064,
          -0.8579643368721008
         ],
         "yaxis": "y"
        },
        {
         "hovertemplate": "Layer-Head=Layer 8-Head 5<br>Checkpoint=%{x}<br>Self Repair Score=%{y}<extra></extra>",
         "legendgroup": "Layer 8-Head 5",
         "line": {
          "color": "#EF553B",
          "dash": "solid"
         },
         "marker": {
          "symbol": "circle"
         },
         "mode": "lines",
         "name": "Layer 8-Head 5",
         "showlegend": true,
         "type": "scattergl",
         "x": [
          512,
          1000,
          2000,
          3000,
          5000,
          10000,
          30000,
          90000,
          143000
         ],
         "xaxis": "x",
         "y": [
          0.8095330595970154,
          1.0588393211364746,
          0.5581267476081848,
          0.38323813676834106,
          0.26882949471473694,
          0.32897239923477173,
          0.32949140667915344,
          0.3513805568218231,
          0.501078724861145
         ],
         "yaxis": "y"
        },
        {
         "hovertemplate": "Layer-Head=Layer 8-Head 6<br>Checkpoint=%{x}<br>Self Repair Score=%{y}<extra></extra>",
         "legendgroup": "Layer 8-Head 6",
         "line": {
          "color": "#00cc96",
          "dash": "solid"
         },
         "marker": {
          "symbol": "circle"
         },
         "mode": "lines",
         "name": "Layer 8-Head 6",
         "showlegend": true,
         "type": "scattergl",
         "x": [
          512,
          1000,
          2000,
          3000,
          5000,
          10000,
          30000,
          90000,
          143000
         ],
         "xaxis": "x",
         "y": [
          -2.973336696624756,
          1.0048836469650269,
          6.418487071990967,
          0.7407787442207336,
          0.8062648177146912,
          0.7507686018943787,
          0.4386966824531555,
          1.1775238513946533,
          1.3487399816513062
         ],
         "yaxis": "y"
        },
        {
         "hovertemplate": "Layer-Head=Layer 8-Head 7<br>Checkpoint=%{x}<br>Self Repair Score=%{y}<extra></extra>",
         "legendgroup": "Layer 8-Head 7",
         "line": {
          "color": "#ab63fa",
          "dash": "solid"
         },
         "marker": {
          "symbol": "circle"
         },
         "mode": "lines",
         "name": "Layer 8-Head 7",
         "showlegend": true,
         "type": "scattergl",
         "x": [
          512,
          1000,
          2000,
          3000,
          5000,
          10000,
          30000,
          90000,
          143000
         ],
         "xaxis": "x",
         "y": [
          0.656729519367218,
          1.0119895935058594,
          0.683134913444519,
          0.6638367176055908,
          0.7143038511276245,
          0.8179712295532227,
          1.0783599615097046,
          9.749261856079102,
          -0.23753923177719116
         ],
         "yaxis": "y"
        },
        {
         "hovertemplate": "Layer-Head=Layer 8-Head 8<br>Checkpoint=%{x}<br>Self Repair Score=%{y}<extra></extra>",
         "legendgroup": "Layer 8-Head 8",
         "line": {
          "color": "#FFA15A",
          "dash": "solid"
         },
         "marker": {
          "symbol": "circle"
         },
         "mode": "lines",
         "name": "Layer 8-Head 8",
         "showlegend": true,
         "type": "scattergl",
         "x": [
          512,
          1000,
          2000,
          3000,
          5000,
          10000,
          30000,
          90000,
          143000
         ],
         "xaxis": "x",
         "y": [
          0.2853301167488098,
          0.916858971118927,
          2.541367530822754,
          -0.37501993775367737,
          0.15870332717895508,
          0.3917180597782135,
          0.6137104034423828,
          0.6057559847831726,
          0.47936195135116577
         ],
         "yaxis": "y"
        },
        {
         "hovertemplate": "Layer-Head=Layer 8-Head 9<br>Checkpoint=%{x}<br>Self Repair Score=%{y}<extra></extra>",
         "legendgroup": "Layer 8-Head 9",
         "line": {
          "color": "#19d3f3",
          "dash": "solid"
         },
         "marker": {
          "symbol": "circle"
         },
         "mode": "lines",
         "name": "Layer 8-Head 9",
         "showlegend": true,
         "type": "scattergl",
         "x": [
          512,
          1000,
          2000,
          3000,
          5000,
          10000,
          30000,
          90000,
          143000
         ],
         "xaxis": "x",
         "y": [
          -2.2486507892608643,
          0.12489566206932068,
          0.48742976784706116,
          0.3534512519836426,
          0.2832608222961426,
          0.4330708384513855,
          0.7891231179237366,
          8.820341110229492,
          -1.4035476446151733
         ],
         "yaxis": "y"
        },
        {
         "hovertemplate": "Layer-Head=Layer 8-Head 10<br>Checkpoint=%{x}<br>Self Repair Score=%{y}<extra></extra>",
         "legendgroup": "Layer 8-Head 10",
         "line": {
          "color": "#FF6692",
          "dash": "solid"
         },
         "marker": {
          "symbol": "circle"
         },
         "mode": "lines",
         "name": "Layer 8-Head 10",
         "showlegend": true,
         "type": "scattergl",
         "x": [
          512,
          1000,
          2000,
          3000,
          5000,
          10000,
          30000,
          90000,
          143000
         ],
         "xaxis": "x",
         "y": [
          1.4438331127166748,
          0.9466513395309448,
          0.49026191234588623,
          0.05648026615381241,
          0.054681435227394104,
          0.18212687969207764,
          0.11763398349285126,
          -0.18181674182415009,
          0.2779352068901062
         ],
         "yaxis": "y"
        },
        {
         "hovertemplate": "Layer-Head=Layer 8-Head 11<br>Checkpoint=%{x}<br>Self Repair Score=%{y}<extra></extra>",
         "legendgroup": "Layer 8-Head 11",
         "line": {
          "color": "#B6E880",
          "dash": "solid"
         },
         "marker": {
          "symbol": "circle"
         },
         "mode": "lines",
         "name": "Layer 8-Head 11",
         "showlegend": true,
         "type": "scattergl",
         "x": [
          512,
          1000,
          2000,
          3000,
          5000,
          10000,
          30000,
          90000,
          143000
         ],
         "xaxis": "x",
         "y": [
          0.8091768622398376,
          1.201197862625122,
          3.8499624729156494,
          19.568416595458984,
          -0.6068341732025146,
          -0.07642677426338196,
          0.02731228433549404,
          -0.04693802818655968,
          0.4089834690093994
         ],
         "yaxis": "y"
        },
        {
         "hovertemplate": "Layer-Head=Layer 9-Head 0<br>Checkpoint=%{x}<br>Self Repair Score=%{y}<extra></extra>",
         "legendgroup": "Layer 9-Head 0",
         "line": {
          "color": "#FF97FF",
          "dash": "solid"
         },
         "marker": {
          "symbol": "circle"
         },
         "mode": "lines",
         "name": "Layer 9-Head 0",
         "showlegend": true,
         "type": "scattergl",
         "x": [
          512,
          1000,
          2000,
          3000,
          5000,
          10000,
          30000,
          90000,
          143000
         ],
         "xaxis": "x",
         "y": [
          0.6767091155052185,
          0.5641291737556458,
          1.458292841911316,
          1.1214536428451538,
          -1.2971205711364746,
          0.6291165947914124,
          0.9474204182624817,
          1.0761027336120605,
          8.620246887207031
         ],
         "yaxis": "y"
        },
        {
         "hovertemplate": "Layer-Head=Layer 9-Head 1<br>Checkpoint=%{x}<br>Self Repair Score=%{y}<extra></extra>",
         "legendgroup": "Layer 9-Head 1",
         "line": {
          "color": "#FECB52",
          "dash": "solid"
         },
         "marker": {
          "symbol": "circle"
         },
         "mode": "lines",
         "name": "Layer 9-Head 1",
         "showlegend": true,
         "type": "scattergl",
         "x": [
          512,
          1000,
          2000,
          3000,
          5000,
          10000,
          30000,
          90000,
          143000
         ],
         "xaxis": "x",
         "y": [
          0.6833100914955139,
          1.205448031425476,
          1.131662130355835,
          0.6898131966590881,
          0.7488760948181152,
          0.7335681319236755,
          0.6776183247566223,
          1.0076708793640137,
          0.6265684962272644
         ],
         "yaxis": "y"
        },
        {
         "hovertemplate": "Layer-Head=Layer 9-Head 2<br>Checkpoint=%{x}<br>Self Repair Score=%{y}<extra></extra>",
         "legendgroup": "Layer 9-Head 2",
         "line": {
          "color": "#636efa",
          "dash": "solid"
         },
         "marker": {
          "symbol": "circle"
         },
         "mode": "lines",
         "name": "Layer 9-Head 2",
         "showlegend": true,
         "type": "scattergl",
         "x": [
          512,
          1000,
          2000,
          3000,
          5000,
          10000,
          30000,
          90000,
          143000
         ],
         "xaxis": "x",
         "y": [
          0.6881821155548096,
          0.8264681100845337,
          0.7114773988723755,
          0.3679385185241699,
          -0.18985149264335632,
          -0.28029200434684753,
          -2.793957233428955,
          -0.018773457035422325,
          0.1251944750547409
         ],
         "yaxis": "y"
        },
        {
         "hovertemplate": "Layer-Head=Layer 9-Head 3<br>Checkpoint=%{x}<br>Self Repair Score=%{y}<extra></extra>",
         "legendgroup": "Layer 9-Head 3",
         "line": {
          "color": "#EF553B",
          "dash": "solid"
         },
         "marker": {
          "symbol": "circle"
         },
         "mode": "lines",
         "name": "Layer 9-Head 3",
         "showlegend": true,
         "type": "scattergl",
         "x": [
          512,
          1000,
          2000,
          3000,
          5000,
          10000,
          30000,
          90000,
          143000
         ],
         "xaxis": "x",
         "y": [
          0.8652638792991638,
          0.7179396748542786,
          0.40292486548423767,
          0.1376083940267563,
          0.07431653141975403,
          -0.0016845837235450745,
          -0.052583519369363785,
          -0.212991401553154,
          -0.06787675619125366
         ],
         "yaxis": "y"
        },
        {
         "hovertemplate": "Layer-Head=Layer 9-Head 4<br>Checkpoint=%{x}<br>Self Repair Score=%{y}<extra></extra>",
         "legendgroup": "Layer 9-Head 4",
         "line": {
          "color": "#00cc96",
          "dash": "solid"
         },
         "marker": {
          "symbol": "circle"
         },
         "mode": "lines",
         "name": "Layer 9-Head 4",
         "showlegend": true,
         "type": "scattergl",
         "x": [
          512,
          1000,
          2000,
          3000,
          5000,
          10000,
          30000,
          90000,
          143000
         ],
         "xaxis": "x",
         "y": [
          1.241793155670166,
          0.904061496257782,
          -0.7050341367721558,
          0.4413730204105377,
          0.105760358273983,
          0.2205563336610794,
          0.22850358486175537,
          0.38272824883461,
          0.3886047303676605
         ],
         "yaxis": "y"
        },
        {
         "hovertemplate": "Layer-Head=Layer 9-Head 5<br>Checkpoint=%{x}<br>Self Repair Score=%{y}<extra></extra>",
         "legendgroup": "Layer 9-Head 5",
         "line": {
          "color": "#ab63fa",
          "dash": "solid"
         },
         "marker": {
          "symbol": "circle"
         },
         "mode": "lines",
         "name": "Layer 9-Head 5",
         "showlegend": true,
         "type": "scattergl",
         "x": [
          512,
          1000,
          2000,
          3000,
          5000,
          10000,
          30000,
          90000,
          143000
         ],
         "xaxis": "x",
         "y": [
          1.6642400026321411,
          0.5849124789237976,
          6.664641857147217,
          1.0154362916946411,
          1.0122642517089844,
          0.9960350394248962,
          0.4942648410797119,
          0.669966995716095,
          -13.335295677185059
         ],
         "yaxis": "y"
        },
        {
         "hovertemplate": "Layer-Head=Layer 9-Head 6<br>Checkpoint=%{x}<br>Self Repair Score=%{y}<extra></extra>",
         "legendgroup": "Layer 9-Head 6",
         "line": {
          "color": "#FFA15A",
          "dash": "solid"
         },
         "marker": {
          "symbol": "circle"
         },
         "mode": "lines",
         "name": "Layer 9-Head 6",
         "showlegend": true,
         "type": "scattergl",
         "x": [
          512,
          1000,
          2000,
          3000,
          5000,
          10000,
          30000,
          90000,
          143000
         ],
         "xaxis": "x",
         "y": [
          1.29973304271698,
          -13.507784843444824,
          0.9377389550209045,
          -0.795117199420929,
          -2.0275542736053467,
          -0.5656401515007019,
          0.09450506418943405,
          0.16490750014781952,
          0.22015388309955597
         ],
         "yaxis": "y"
        },
        {
         "hovertemplate": "Layer-Head=Layer 9-Head 7<br>Checkpoint=%{x}<br>Self Repair Score=%{y}<extra></extra>",
         "legendgroup": "Layer 9-Head 7",
         "line": {
          "color": "#19d3f3",
          "dash": "solid"
         },
         "marker": {
          "symbol": "circle"
         },
         "mode": "lines",
         "name": "Layer 9-Head 7",
         "showlegend": true,
         "type": "scattergl",
         "x": [
          512,
          1000,
          2000,
          3000,
          5000,
          10000,
          30000,
          90000,
          143000
         ],
         "xaxis": "x",
         "y": [
          0.9052668213844299,
          0.9255069494247437,
          0.30679816007614136,
          0.021485691890120506,
          -0.1672578901052475,
          -0.18208801746368408,
          -0.15434154868125916,
          -0.07204925268888474,
          0.21913661062717438
         ],
         "yaxis": "y"
        },
        {
         "hovertemplate": "Layer-Head=Layer 9-Head 8<br>Checkpoint=%{x}<br>Self Repair Score=%{y}<extra></extra>",
         "legendgroup": "Layer 9-Head 8",
         "line": {
          "color": "#FF6692",
          "dash": "solid"
         },
         "marker": {
          "symbol": "circle"
         },
         "mode": "lines",
         "name": "Layer 9-Head 8",
         "showlegend": true,
         "type": "scattergl",
         "x": [
          512,
          1000,
          2000,
          3000,
          5000,
          10000,
          30000,
          90000,
          143000
         ],
         "xaxis": "x",
         "y": [
          0.9180939197540283,
          0.9360324740409851,
          0.47808483242988586,
          0.0723821148276329,
          -0.20865881443023682,
          -0.19144971668720245,
          -0.10944131016731262,
          -0.7449347376823425,
          0.09760790318250656
         ],
         "yaxis": "y"
        },
        {
         "hovertemplate": "Layer-Head=Layer 9-Head 9<br>Checkpoint=%{x}<br>Self Repair Score=%{y}<extra></extra>",
         "legendgroup": "Layer 9-Head 9",
         "line": {
          "color": "#B6E880",
          "dash": "solid"
         },
         "marker": {
          "symbol": "circle"
         },
         "mode": "lines",
         "name": "Layer 9-Head 9",
         "showlegend": true,
         "type": "scattergl",
         "x": [
          512,
          1000,
          2000,
          3000,
          5000,
          10000,
          30000,
          90000,
          143000
         ],
         "xaxis": "x",
         "y": [
          0.24116262793540955,
          1.3505452871322632,
          1.1091612577438354,
          1.4534536600112915,
          -1.8446711301803589,
          -0.08050811290740967,
          0.11644788086414337,
          0.402048259973526,
          0.36710676550865173
         ],
         "yaxis": "y"
        },
        {
         "hovertemplate": "Layer-Head=Layer 9-Head 10<br>Checkpoint=%{x}<br>Self Repair Score=%{y}<extra></extra>",
         "legendgroup": "Layer 9-Head 10",
         "line": {
          "color": "#FF97FF",
          "dash": "solid"
         },
         "marker": {
          "symbol": "circle"
         },
         "mode": "lines",
         "name": "Layer 9-Head 10",
         "showlegend": true,
         "type": "scattergl",
         "x": [
          512,
          1000,
          2000,
          3000,
          5000,
          10000,
          30000,
          90000,
          143000
         ],
         "xaxis": "x",
         "y": [
          0.9102004170417786,
          0.043009355664253235,
          -0.39414161443710327,
          6.108905792236328,
          -1.5047224760055542,
          -0.22476014494895935,
          0.005711160134524107,
          -0.04666929319500923,
          -0.566155195236206
         ],
         "yaxis": "y"
        },
        {
         "hovertemplate": "Layer-Head=Layer 9-Head 11<br>Checkpoint=%{x}<br>Self Repair Score=%{y}<extra></extra>",
         "legendgroup": "Layer 9-Head 11",
         "line": {
          "color": "#FECB52",
          "dash": "solid"
         },
         "marker": {
          "symbol": "circle"
         },
         "mode": "lines",
         "name": "Layer 9-Head 11",
         "showlegend": true,
         "type": "scattergl",
         "x": [
          512,
          1000,
          2000,
          3000,
          5000,
          10000,
          30000,
          90000,
          143000
         ],
         "xaxis": "x",
         "y": [
          1.2899246215820312,
          0.8968572020530701,
          0.9873669743537903,
          0.9996896982192993,
          1.1953668594360352,
          0.511811375617981,
          0.9149309396743774,
          1.960801362991333,
          4.114312171936035
         ],
         "yaxis": "y"
        },
        {
         "hovertemplate": "Layer-Head=Layer 10-Head 0<br>Checkpoint=%{x}<br>Self Repair Score=%{y}<extra></extra>",
         "legendgroup": "Layer 10-Head 0",
         "line": {
          "color": "#636efa",
          "dash": "solid"
         },
         "marker": {
          "symbol": "circle"
         },
         "mode": "lines",
         "name": "Layer 10-Head 0",
         "showlegend": true,
         "type": "scattergl",
         "x": [
          512,
          1000,
          2000,
          3000,
          5000,
          10000,
          30000,
          90000,
          143000
         ],
         "xaxis": "x",
         "y": [
          1.4638471603393555,
          0.7685673236846924,
          0.71433025598526,
          0.7282993793487549,
          0.5066998600959778,
          0.6046916246414185,
          0.6636453866958618,
          0.6566725969314575,
          0.4444672465324402
         ],
         "yaxis": "y"
        },
        {
         "hovertemplate": "Layer-Head=Layer 10-Head 1<br>Checkpoint=%{x}<br>Self Repair Score=%{y}<extra></extra>",
         "legendgroup": "Layer 10-Head 1",
         "line": {
          "color": "#EF553B",
          "dash": "solid"
         },
         "marker": {
          "symbol": "circle"
         },
         "mode": "lines",
         "name": "Layer 10-Head 1",
         "showlegend": true,
         "type": "scattergl",
         "x": [
          512,
          1000,
          2000,
          3000,
          5000,
          10000,
          30000,
          90000,
          143000
         ],
         "xaxis": "x",
         "y": [
          0.9241775870323181,
          0.8193287253379822,
          0.49870485067367554,
          0.2896900177001953,
          0.32381853461265564,
          0.330354779958725,
          -0.07360657304525375,
          0.1332530677318573,
          -0.0769040510058403
         ],
         "yaxis": "y"
        },
        {
         "hovertemplate": "Layer-Head=Layer 10-Head 2<br>Checkpoint=%{x}<br>Self Repair Score=%{y}<extra></extra>",
         "legendgroup": "Layer 10-Head 2",
         "line": {
          "color": "#00cc96",
          "dash": "solid"
         },
         "marker": {
          "symbol": "circle"
         },
         "mode": "lines",
         "name": "Layer 10-Head 2",
         "showlegend": true,
         "type": "scattergl",
         "x": [
          512,
          1000,
          2000,
          3000,
          5000,
          10000,
          30000,
          90000,
          143000
         ],
         "xaxis": "x",
         "y": [
          0.9044188261032104,
          0.9877055287361145,
          0.6062214374542236,
          0.2887774407863617,
          0.03371337056159973,
          0.9393329620361328,
          0.3523709177970886,
          -0.2880932092666626,
          1.6871670484542847
         ],
         "yaxis": "y"
        },
        {
         "hovertemplate": "Layer-Head=Layer 10-Head 3<br>Checkpoint=%{x}<br>Self Repair Score=%{y}<extra></extra>",
         "legendgroup": "Layer 10-Head 3",
         "line": {
          "color": "#ab63fa",
          "dash": "solid"
         },
         "marker": {
          "symbol": "circle"
         },
         "mode": "lines",
         "name": "Layer 10-Head 3",
         "showlegend": true,
         "type": "scattergl",
         "x": [
          512,
          1000,
          2000,
          3000,
          5000,
          10000,
          30000,
          90000,
          143000
         ],
         "xaxis": "x",
         "y": [
          1.161453366279602,
          1.037193775177002,
          -2.6115002632141113,
          0.7601039409637451,
          0.7309672832489014,
          -0.027666838839650154,
          0.6940600872039795,
          0.6512540578842163,
          0.5359959602355957
         ],
         "yaxis": "y"
        },
        {
         "hovertemplate": "Layer-Head=Layer 10-Head 4<br>Checkpoint=%{x}<br>Self Repair Score=%{y}<extra></extra>",
         "legendgroup": "Layer 10-Head 4",
         "line": {
          "color": "#FFA15A",
          "dash": "solid"
         },
         "marker": {
          "symbol": "circle"
         },
         "mode": "lines",
         "name": "Layer 10-Head 4",
         "showlegend": true,
         "type": "scattergl",
         "x": [
          512,
          1000,
          2000,
          3000,
          5000,
          10000,
          30000,
          90000,
          143000
         ],
         "xaxis": "x",
         "y": [
          0.7989661693572998,
          0.5691225528717041,
          0.4167071580886841,
          0.4684225618839264,
          0.46410611271858215,
          0.45302799344062805,
          0.6508357524871826,
          0.5728389620780945,
          0.4521855413913727
         ],
         "yaxis": "y"
        },
        {
         "hovertemplate": "Layer-Head=Layer 10-Head 5<br>Checkpoint=%{x}<br>Self Repair Score=%{y}<extra></extra>",
         "legendgroup": "Layer 10-Head 5",
         "line": {
          "color": "#19d3f3",
          "dash": "solid"
         },
         "marker": {
          "symbol": "circle"
         },
         "mode": "lines",
         "name": "Layer 10-Head 5",
         "showlegend": true,
         "type": "scattergl",
         "x": [
          512,
          1000,
          2000,
          3000,
          5000,
          10000,
          30000,
          90000,
          143000
         ],
         "xaxis": "x",
         "y": [
          0.8371644020080566,
          0.8952819108963013,
          1.164564609527588,
          1.4226731061935425,
          1.3812159299850464,
          3.5814764499664307,
          8.44153118133545,
          -0.18509382009506226,
          -0.12971685826778412
         ],
         "yaxis": "y"
        },
        {
         "hovertemplate": "Layer-Head=Layer 10-Head 6<br>Checkpoint=%{x}<br>Self Repair Score=%{y}<extra></extra>",
         "legendgroup": "Layer 10-Head 6",
         "line": {
          "color": "#FF6692",
          "dash": "solid"
         },
         "marker": {
          "symbol": "circle"
         },
         "mode": "lines",
         "name": "Layer 10-Head 6",
         "showlegend": true,
         "type": "scattergl",
         "x": [
          512,
          1000,
          2000,
          3000,
          5000,
          10000,
          30000,
          90000,
          143000
         ],
         "xaxis": "x",
         "y": [
          0.9393268823623657,
          0.9402831792831421,
          0.8989935517311096,
          0.6727970242500305,
          0.09539339691400528,
          -2.9991228580474854,
          5.30631685256958,
          -5.783525466918945,
          -1.580156683921814
         ],
         "yaxis": "y"
        },
        {
         "hovertemplate": "Layer-Head=Layer 10-Head 7<br>Checkpoint=%{x}<br>Self Repair Score=%{y}<extra></extra>",
         "legendgroup": "Layer 10-Head 7",
         "line": {
          "color": "#B6E880",
          "dash": "solid"
         },
         "marker": {
          "symbol": "circle"
         },
         "mode": "lines",
         "name": "Layer 10-Head 7",
         "showlegend": true,
         "type": "scattergl",
         "x": [
          512,
          1000,
          2000,
          3000,
          5000,
          10000,
          30000,
          90000,
          143000
         ],
         "xaxis": "x",
         "y": [
          1.1245628595352173,
          0.6682734489440918,
          0.36549726128578186,
          0.07630965113639832,
          -0.2874687910079956,
          -0.22105461359024048,
          0.10223645716905594,
          0.2927972674369812,
          0.21666333079338074
         ],
         "yaxis": "y"
        },
        {
         "hovertemplate": "Layer-Head=Layer 10-Head 8<br>Checkpoint=%{x}<br>Self Repair Score=%{y}<extra></extra>",
         "legendgroup": "Layer 10-Head 8",
         "line": {
          "color": "#FF97FF",
          "dash": "solid"
         },
         "marker": {
          "symbol": "circle"
         },
         "mode": "lines",
         "name": "Layer 10-Head 8",
         "showlegend": true,
         "type": "scattergl",
         "x": [
          512,
          1000,
          2000,
          3000,
          5000,
          10000,
          30000,
          90000,
          143000
         ],
         "xaxis": "x",
         "y": [
          1.2179659605026245,
          0.15054002404212952,
          1.9512994289398193,
          0.07784297317266464,
          -0.041498247534036636,
          0.027942517772316933,
          -0.023264409974217415,
          -0.025963444262742996,
          -0.07403480261564255
         ],
         "yaxis": "y"
        },
        {
         "hovertemplate": "Layer-Head=Layer 10-Head 9<br>Checkpoint=%{x}<br>Self Repair Score=%{y}<extra></extra>",
         "legendgroup": "Layer 10-Head 9",
         "line": {
          "color": "#FECB52",
          "dash": "solid"
         },
         "marker": {
          "symbol": "circle"
         },
         "mode": "lines",
         "name": "Layer 10-Head 9",
         "showlegend": true,
         "type": "scattergl",
         "x": [
          512,
          1000,
          2000,
          3000,
          5000,
          10000,
          30000,
          90000,
          143000
         ],
         "xaxis": "x",
         "y": [
          0.9339518547058105,
          0.8987564444541931,
          0.8817623257637024,
          0.5936879515647888,
          0.3798501193523407,
          0.3527904152870178,
          0.440399706363678,
          0.29588383436203003,
          0.09338602423667908
         ],
         "yaxis": "y"
        },
        {
         "hovertemplate": "Layer-Head=Layer 10-Head 10<br>Checkpoint=%{x}<br>Self Repair Score=%{y}<extra></extra>",
         "legendgroup": "Layer 10-Head 10",
         "line": {
          "color": "#636efa",
          "dash": "solid"
         },
         "marker": {
          "symbol": "circle"
         },
         "mode": "lines",
         "name": "Layer 10-Head 10",
         "showlegend": true,
         "type": "scattergl",
         "x": [
          512,
          1000,
          2000,
          3000,
          5000,
          10000,
          30000,
          90000,
          143000
         ],
         "xaxis": "x",
         "y": [
          0.9536309838294983,
          1.0127792358398438,
          -7.932400226593018,
          -0.7897936105728149,
          -0.38550153374671936,
          0.07709308713674545,
          0.22443050146102905,
          0.40196335315704346,
          0.2319800853729248
         ],
         "yaxis": "y"
        },
        {
         "hovertemplate": "Layer-Head=Layer 10-Head 11<br>Checkpoint=%{x}<br>Self Repair Score=%{y}<extra></extra>",
         "legendgroup": "Layer 10-Head 11",
         "line": {
          "color": "#EF553B",
          "dash": "solid"
         },
         "marker": {
          "symbol": "circle"
         },
         "mode": "lines",
         "name": "Layer 10-Head 11",
         "showlegend": true,
         "type": "scattergl",
         "x": [
          512,
          1000,
          2000,
          3000,
          5000,
          10000,
          30000,
          90000,
          143000
         ],
         "xaxis": "x",
         "y": [
          1.0340451002120972,
          0.6378939747810364,
          0.4348474442958832,
          0.30513060092926025,
          0.102781280875206,
          0.1484948992729187,
          0.3249721825122833,
          0.30448657274246216,
          0.061659011989831924
         ],
         "yaxis": "y"
        },
        {
         "hovertemplate": "Layer-Head=Layer 11-Head 0<br>Checkpoint=%{x}<br>Self Repair Score=%{y}<extra></extra>",
         "legendgroup": "Layer 11-Head 0",
         "line": {
          "color": "#00cc96",
          "dash": "solid"
         },
         "marker": {
          "symbol": "circle"
         },
         "mode": "lines",
         "name": "Layer 11-Head 0",
         "showlegend": true,
         "type": "scattergl",
         "x": [
          512,
          1000,
          2000,
          3000,
          5000,
          10000,
          30000,
          90000,
          143000
         ],
         "xaxis": "x",
         "y": [
          -3.077479362487793,
          0.7314372658729553,
          0.5969291925430298,
          0.5167657732963562,
          0.42911651730537415,
          0.3421236574649811,
          0.254171222448349,
          0.49149927496910095,
          0.7702361345291138
         ],
         "yaxis": "y"
        },
        {
         "hovertemplate": "Layer-Head=Layer 11-Head 1<br>Checkpoint=%{x}<br>Self Repair Score=%{y}<extra></extra>",
         "legendgroup": "Layer 11-Head 1",
         "line": {
          "color": "#ab63fa",
          "dash": "solid"
         },
         "marker": {
          "symbol": "circle"
         },
         "mode": "lines",
         "name": "Layer 11-Head 1",
         "showlegend": true,
         "type": "scattergl",
         "x": [
          512,
          1000,
          2000,
          3000,
          5000,
          10000,
          30000,
          90000,
          143000
         ],
         "xaxis": "x",
         "y": [
          0.892478346824646,
          1.2260478734970093,
          1.4446147680282593,
          0.9972286224365234,
          0.9939353466033936,
          0.9597319960594177,
          0.7865884304046631,
          0.6993499398231506,
          0.8608818650245667
         ],
         "yaxis": "y"
        },
        {
         "hovertemplate": "Layer-Head=Layer 11-Head 2<br>Checkpoint=%{x}<br>Self Repair Score=%{y}<extra></extra>",
         "legendgroup": "Layer 11-Head 2",
         "line": {
          "color": "#FFA15A",
          "dash": "solid"
         },
         "marker": {
          "symbol": "circle"
         },
         "mode": "lines",
         "name": "Layer 11-Head 2",
         "showlegend": true,
         "type": "scattergl",
         "x": [
          512,
          1000,
          2000,
          3000,
          5000,
          10000,
          30000,
          90000,
          143000
         ],
         "xaxis": "x",
         "y": [
          1.1328680515289307,
          1.070704460144043,
          0.9318333268165588,
          0.8354395627975464,
          0.7366516590118408,
          0.5824405550956726,
          0.14917008578777313,
          0.5558062195777893,
          0.7787396311759949
         ],
         "yaxis": "y"
        },
        {
         "hovertemplate": "Layer-Head=Layer 11-Head 3<br>Checkpoint=%{x}<br>Self Repair Score=%{y}<extra></extra>",
         "legendgroup": "Layer 11-Head 3",
         "line": {
          "color": "#19d3f3",
          "dash": "solid"
         },
         "marker": {
          "symbol": "circle"
         },
         "mode": "lines",
         "name": "Layer 11-Head 3",
         "showlegend": true,
         "type": "scattergl",
         "x": [
          512,
          1000,
          2000,
          3000,
          5000,
          10000,
          30000,
          90000,
          143000
         ],
         "xaxis": "x",
         "y": [
          0.795607328414917,
          0.6785643100738525,
          0.6673175692558289,
          0.6038229465484619,
          0.5568239092826843,
          0.45051321387290955,
          0.31967979669570923,
          0.1321043074131012,
          0.760089635848999
         ],
         "yaxis": "y"
        },
        {
         "hovertemplate": "Layer-Head=Layer 11-Head 4<br>Checkpoint=%{x}<br>Self Repair Score=%{y}<extra></extra>",
         "legendgroup": "Layer 11-Head 4",
         "line": {
          "color": "#FF6692",
          "dash": "solid"
         },
         "marker": {
          "symbol": "circle"
         },
         "mode": "lines",
         "name": "Layer 11-Head 4",
         "showlegend": true,
         "type": "scattergl",
         "x": [
          512,
          1000,
          2000,
          3000,
          5000,
          10000,
          30000,
          90000,
          143000
         ],
         "xaxis": "x",
         "y": [
          0.20288141071796417,
          1.1376081705093384,
          1.3347303867340088,
          1.3914779424667358,
          1.0345358848571777,
          0.6330180764198303,
          -0.916221022605896,
          0.30591878294944763,
          0.5581662654876709
         ],
         "yaxis": "y"
        },
        {
         "hovertemplate": "Layer-Head=Layer 11-Head 5<br>Checkpoint=%{x}<br>Self Repair Score=%{y}<extra></extra>",
         "legendgroup": "Layer 11-Head 5",
         "line": {
          "color": "#B6E880",
          "dash": "solid"
         },
         "marker": {
          "symbol": "circle"
         },
         "mode": "lines",
         "name": "Layer 11-Head 5",
         "showlegend": true,
         "type": "scattergl",
         "x": [
          512,
          1000,
          2000,
          3000,
          5000,
          10000,
          30000,
          90000,
          143000
         ],
         "xaxis": "x",
         "y": [
          -0.1702509969472885,
          1.8396475315093994,
          1.3268095254898071,
          3.6160049438476562,
          -1.116531252861023,
          0.48671212792396545,
          1.9146140813827515,
          0.8656017780303955,
          0.9304097294807434
         ],
         "yaxis": "y"
        },
        {
         "hovertemplate": "Layer-Head=Layer 11-Head 6<br>Checkpoint=%{x}<br>Self Repair Score=%{y}<extra></extra>",
         "legendgroup": "Layer 11-Head 6",
         "line": {
          "color": "#FF97FF",
          "dash": "solid"
         },
         "marker": {
          "symbol": "circle"
         },
         "mode": "lines",
         "name": "Layer 11-Head 6",
         "showlegend": true,
         "type": "scattergl",
         "x": [
          512,
          1000,
          2000,
          3000,
          5000,
          10000,
          30000,
          90000,
          143000
         ],
         "xaxis": "x",
         "y": [
          1.5011876821517944,
          1.2879055738449097,
          1.4567813873291016,
          1.3167163133621216,
          1.2111703157424927,
          0.6000427603721619,
          0.34944093227386475,
          0.4445975720882416,
          0.7394229173660278
         ],
         "yaxis": "y"
        },
        {
         "hovertemplate": "Layer-Head=Layer 11-Head 7<br>Checkpoint=%{x}<br>Self Repair Score=%{y}<extra></extra>",
         "legendgroup": "Layer 11-Head 7",
         "line": {
          "color": "#FECB52",
          "dash": "solid"
         },
         "marker": {
          "symbol": "circle"
         },
         "mode": "lines",
         "name": "Layer 11-Head 7",
         "showlegend": true,
         "type": "scattergl",
         "x": [
          512,
          1000,
          2000,
          3000,
          5000,
          10000,
          30000,
          90000,
          143000
         ],
         "xaxis": "x",
         "y": [
          0.6758898496627808,
          0.7226561307907104,
          0.6701703667640686,
          0.5738828778266907,
          0.5035282373428345,
          0.505669355392456,
          0.400182843208313,
          0.12983089685440063,
          0.6724035143852234
         ],
         "yaxis": "y"
        },
        {
         "hovertemplate": "Layer-Head=Layer 11-Head 8<br>Checkpoint=%{x}<br>Self Repair Score=%{y}<extra></extra>",
         "legendgroup": "Layer 11-Head 8",
         "line": {
          "color": "#636efa",
          "dash": "solid"
         },
         "marker": {
          "symbol": "circle"
         },
         "mode": "lines",
         "name": "Layer 11-Head 8",
         "showlegend": true,
         "type": "scattergl",
         "x": [
          512,
          1000,
          2000,
          3000,
          5000,
          10000,
          30000,
          90000,
          143000
         ],
         "xaxis": "x",
         "y": [
          3.6119322776794434,
          1.117948293685913,
          1.138008713722229,
          1.2451651096343994,
          1.1452491283416748,
          0.9521726965904236,
          0.3173666298389435,
          0.36307600140571594,
          0.5584277510643005
         ],
         "yaxis": "y"
        },
        {
         "hovertemplate": "Layer-Head=Layer 11-Head 9<br>Checkpoint=%{x}<br>Self Repair Score=%{y}<extra></extra>",
         "legendgroup": "Layer 11-Head 9",
         "line": {
          "color": "#EF553B",
          "dash": "solid"
         },
         "marker": {
          "symbol": "circle"
         },
         "mode": "lines",
         "name": "Layer 11-Head 9",
         "showlegend": true,
         "type": "scattergl",
         "x": [
          512,
          1000,
          2000,
          3000,
          5000,
          10000,
          30000,
          90000,
          143000
         ],
         "xaxis": "x",
         "y": [
          0.2980233132839203,
          0.6048771739006042,
          0.5925308465957642,
          0.5682231187820435,
          0.5503363609313965,
          0.5102114677429199,
          0.5130621790885925,
          0.4937724173069,
          0.7450965642929077
         ],
         "yaxis": "y"
        },
        {
         "hovertemplate": "Layer-Head=Layer 11-Head 10<br>Checkpoint=%{x}<br>Self Repair Score=%{y}<extra></extra>",
         "legendgroup": "Layer 11-Head 10",
         "line": {
          "color": "#00cc96",
          "dash": "solid"
         },
         "marker": {
          "symbol": "circle"
         },
         "mode": "lines",
         "name": "Layer 11-Head 10",
         "showlegend": true,
         "type": "scattergl",
         "x": [
          512,
          1000,
          2000,
          3000,
          5000,
          10000,
          30000,
          90000,
          143000
         ],
         "xaxis": "x",
         "y": [
          0.7336236238479614,
          1.192305564880371,
          0.7967481017112732,
          0.6306225061416626,
          0.6652622222900391,
          0.554682731628418,
          -0.24589024484157562,
          0.7262973785400391,
          0.7781533598899841
         ],
         "yaxis": "y"
        },
        {
         "hovertemplate": "Layer-Head=Layer 11-Head 11<br>Checkpoint=%{x}<br>Self Repair Score=%{y}<extra></extra>",
         "legendgroup": "Layer 11-Head 11",
         "line": {
          "color": "#ab63fa",
          "dash": "solid"
         },
         "marker": {
          "symbol": "circle"
         },
         "mode": "lines",
         "name": "Layer 11-Head 11",
         "showlegend": true,
         "type": "scattergl",
         "x": [
          512,
          1000,
          2000,
          3000,
          5000,
          10000,
          30000,
          90000,
          143000
         ],
         "xaxis": "x",
         "y": [
          0.5139929056167603,
          0.35444140434265137,
          0.39902645349502563,
          0.33446505665779114,
          0.368890643119812,
          0.35256749391555786,
          0.36447951197624207,
          0.44982460141181946,
          0.6607515811920166
         ],
         "yaxis": "y"
        }
       ],
       "layout": {
        "height": 500,
        "legend": {
         "title": {
          "text": "Layer-Head"
         },
         "tracegroupgap": 0
        },
        "template": {
         "data": {
          "bar": [
           {
            "error_x": {
             "color": "#2a3f5f"
            },
            "error_y": {
             "color": "#2a3f5f"
            },
            "marker": {
             "line": {
              "color": "#E5ECF6",
              "width": 0.5
             },
             "pattern": {
              "fillmode": "overlay",
              "size": 10,
              "solidity": 0.2
             }
            },
            "type": "bar"
           }
          ],
          "barpolar": [
           {
            "marker": {
             "line": {
              "color": "#E5ECF6",
              "width": 0.5
             },
             "pattern": {
              "fillmode": "overlay",
              "size": 10,
              "solidity": 0.2
             }
            },
            "type": "barpolar"
           }
          ],
          "carpet": [
           {
            "aaxis": {
             "endlinecolor": "#2a3f5f",
             "gridcolor": "white",
             "linecolor": "white",
             "minorgridcolor": "white",
             "startlinecolor": "#2a3f5f"
            },
            "baxis": {
             "endlinecolor": "#2a3f5f",
             "gridcolor": "white",
             "linecolor": "white",
             "minorgridcolor": "white",
             "startlinecolor": "#2a3f5f"
            },
            "type": "carpet"
           }
          ],
          "choropleth": [
           {
            "colorbar": {
             "outlinewidth": 0,
             "ticks": ""
            },
            "type": "choropleth"
           }
          ],
          "contour": [
           {
            "colorbar": {
             "outlinewidth": 0,
             "ticks": ""
            },
            "colorscale": [
             [
              0,
              "#0d0887"
             ],
             [
              0.1111111111111111,
              "#46039f"
             ],
             [
              0.2222222222222222,
              "#7201a8"
             ],
             [
              0.3333333333333333,
              "#9c179e"
             ],
             [
              0.4444444444444444,
              "#bd3786"
             ],
             [
              0.5555555555555556,
              "#d8576b"
             ],
             [
              0.6666666666666666,
              "#ed7953"
             ],
             [
              0.7777777777777778,
              "#fb9f3a"
             ],
             [
              0.8888888888888888,
              "#fdca26"
             ],
             [
              1,
              "#f0f921"
             ]
            ],
            "type": "contour"
           }
          ],
          "contourcarpet": [
           {
            "colorbar": {
             "outlinewidth": 0,
             "ticks": ""
            },
            "type": "contourcarpet"
           }
          ],
          "heatmap": [
           {
            "colorbar": {
             "outlinewidth": 0,
             "ticks": ""
            },
            "colorscale": [
             [
              0,
              "#0d0887"
             ],
             [
              0.1111111111111111,
              "#46039f"
             ],
             [
              0.2222222222222222,
              "#7201a8"
             ],
             [
              0.3333333333333333,
              "#9c179e"
             ],
             [
              0.4444444444444444,
              "#bd3786"
             ],
             [
              0.5555555555555556,
              "#d8576b"
             ],
             [
              0.6666666666666666,
              "#ed7953"
             ],
             [
              0.7777777777777778,
              "#fb9f3a"
             ],
             [
              0.8888888888888888,
              "#fdca26"
             ],
             [
              1,
              "#f0f921"
             ]
            ],
            "type": "heatmap"
           }
          ],
          "heatmapgl": [
           {
            "colorbar": {
             "outlinewidth": 0,
             "ticks": ""
            },
            "colorscale": [
             [
              0,
              "#0d0887"
             ],
             [
              0.1111111111111111,
              "#46039f"
             ],
             [
              0.2222222222222222,
              "#7201a8"
             ],
             [
              0.3333333333333333,
              "#9c179e"
             ],
             [
              0.4444444444444444,
              "#bd3786"
             ],
             [
              0.5555555555555556,
              "#d8576b"
             ],
             [
              0.6666666666666666,
              "#ed7953"
             ],
             [
              0.7777777777777778,
              "#fb9f3a"
             ],
             [
              0.8888888888888888,
              "#fdca26"
             ],
             [
              1,
              "#f0f921"
             ]
            ],
            "type": "heatmapgl"
           }
          ],
          "histogram": [
           {
            "marker": {
             "pattern": {
              "fillmode": "overlay",
              "size": 10,
              "solidity": 0.2
             }
            },
            "type": "histogram"
           }
          ],
          "histogram2d": [
           {
            "colorbar": {
             "outlinewidth": 0,
             "ticks": ""
            },
            "colorscale": [
             [
              0,
              "#0d0887"
             ],
             [
              0.1111111111111111,
              "#46039f"
             ],
             [
              0.2222222222222222,
              "#7201a8"
             ],
             [
              0.3333333333333333,
              "#9c179e"
             ],
             [
              0.4444444444444444,
              "#bd3786"
             ],
             [
              0.5555555555555556,
              "#d8576b"
             ],
             [
              0.6666666666666666,
              "#ed7953"
             ],
             [
              0.7777777777777778,
              "#fb9f3a"
             ],
             [
              0.8888888888888888,
              "#fdca26"
             ],
             [
              1,
              "#f0f921"
             ]
            ],
            "type": "histogram2d"
           }
          ],
          "histogram2dcontour": [
           {
            "colorbar": {
             "outlinewidth": 0,
             "ticks": ""
            },
            "colorscale": [
             [
              0,
              "#0d0887"
             ],
             [
              0.1111111111111111,
              "#46039f"
             ],
             [
              0.2222222222222222,
              "#7201a8"
             ],
             [
              0.3333333333333333,
              "#9c179e"
             ],
             [
              0.4444444444444444,
              "#bd3786"
             ],
             [
              0.5555555555555556,
              "#d8576b"
             ],
             [
              0.6666666666666666,
              "#ed7953"
             ],
             [
              0.7777777777777778,
              "#fb9f3a"
             ],
             [
              0.8888888888888888,
              "#fdca26"
             ],
             [
              1,
              "#f0f921"
             ]
            ],
            "type": "histogram2dcontour"
           }
          ],
          "mesh3d": [
           {
            "colorbar": {
             "outlinewidth": 0,
             "ticks": ""
            },
            "type": "mesh3d"
           }
          ],
          "parcoords": [
           {
            "line": {
             "colorbar": {
              "outlinewidth": 0,
              "ticks": ""
             }
            },
            "type": "parcoords"
           }
          ],
          "pie": [
           {
            "automargin": true,
            "type": "pie"
           }
          ],
          "scatter": [
           {
            "fillpattern": {
             "fillmode": "overlay",
             "size": 10,
             "solidity": 0.2
            },
            "type": "scatter"
           }
          ],
          "scatter3d": [
           {
            "line": {
             "colorbar": {
              "outlinewidth": 0,
              "ticks": ""
             }
            },
            "marker": {
             "colorbar": {
              "outlinewidth": 0,
              "ticks": ""
             }
            },
            "type": "scatter3d"
           }
          ],
          "scattercarpet": [
           {
            "marker": {
             "colorbar": {
              "outlinewidth": 0,
              "ticks": ""
             }
            },
            "type": "scattercarpet"
           }
          ],
          "scattergeo": [
           {
            "marker": {
             "colorbar": {
              "outlinewidth": 0,
              "ticks": ""
             }
            },
            "type": "scattergeo"
           }
          ],
          "scattergl": [
           {
            "marker": {
             "colorbar": {
              "outlinewidth": 0,
              "ticks": ""
             }
            },
            "type": "scattergl"
           }
          ],
          "scattermapbox": [
           {
            "marker": {
             "colorbar": {
              "outlinewidth": 0,
              "ticks": ""
             }
            },
            "type": "scattermapbox"
           }
          ],
          "scatterpolar": [
           {
            "marker": {
             "colorbar": {
              "outlinewidth": 0,
              "ticks": ""
             }
            },
            "type": "scatterpolar"
           }
          ],
          "scatterpolargl": [
           {
            "marker": {
             "colorbar": {
              "outlinewidth": 0,
              "ticks": ""
             }
            },
            "type": "scatterpolargl"
           }
          ],
          "scatterternary": [
           {
            "marker": {
             "colorbar": {
              "outlinewidth": 0,
              "ticks": ""
             }
            },
            "type": "scatterternary"
           }
          ],
          "surface": [
           {
            "colorbar": {
             "outlinewidth": 0,
             "ticks": ""
            },
            "colorscale": [
             [
              0,
              "#0d0887"
             ],
             [
              0.1111111111111111,
              "#46039f"
             ],
             [
              0.2222222222222222,
              "#7201a8"
             ],
             [
              0.3333333333333333,
              "#9c179e"
             ],
             [
              0.4444444444444444,
              "#bd3786"
             ],
             [
              0.5555555555555556,
              "#d8576b"
             ],
             [
              0.6666666666666666,
              "#ed7953"
             ],
             [
              0.7777777777777778,
              "#fb9f3a"
             ],
             [
              0.8888888888888888,
              "#fdca26"
             ],
             [
              1,
              "#f0f921"
             ]
            ],
            "type": "surface"
           }
          ],
          "table": [
           {
            "cells": {
             "fill": {
              "color": "#EBF0F8"
             },
             "line": {
              "color": "white"
             }
            },
            "header": {
             "fill": {
              "color": "#C8D4E3"
             },
             "line": {
              "color": "white"
             }
            },
            "type": "table"
           }
          ]
         },
         "layout": {
          "annotationdefaults": {
           "arrowcolor": "#2a3f5f",
           "arrowhead": 0,
           "arrowwidth": 1
          },
          "autotypenumbers": "strict",
          "coloraxis": {
           "colorbar": {
            "outlinewidth": 0,
            "ticks": ""
           }
          },
          "colorscale": {
           "diverging": [
            [
             0,
             "#8e0152"
            ],
            [
             0.1,
             "#c51b7d"
            ],
            [
             0.2,
             "#de77ae"
            ],
            [
             0.3,
             "#f1b6da"
            ],
            [
             0.4,
             "#fde0ef"
            ],
            [
             0.5,
             "#f7f7f7"
            ],
            [
             0.6,
             "#e6f5d0"
            ],
            [
             0.7,
             "#b8e186"
            ],
            [
             0.8,
             "#7fbc41"
            ],
            [
             0.9,
             "#4d9221"
            ],
            [
             1,
             "#276419"
            ]
           ],
           "sequential": [
            [
             0,
             "#0d0887"
            ],
            [
             0.1111111111111111,
             "#46039f"
            ],
            [
             0.2222222222222222,
             "#7201a8"
            ],
            [
             0.3333333333333333,
             "#9c179e"
            ],
            [
             0.4444444444444444,
             "#bd3786"
            ],
            [
             0.5555555555555556,
             "#d8576b"
            ],
            [
             0.6666666666666666,
             "#ed7953"
            ],
            [
             0.7777777777777778,
             "#fb9f3a"
            ],
            [
             0.8888888888888888,
             "#fdca26"
            ],
            [
             1,
             "#f0f921"
            ]
           ],
           "sequentialminus": [
            [
             0,
             "#0d0887"
            ],
            [
             0.1111111111111111,
             "#46039f"
            ],
            [
             0.2222222222222222,
             "#7201a8"
            ],
            [
             0.3333333333333333,
             "#9c179e"
            ],
            [
             0.4444444444444444,
             "#bd3786"
            ],
            [
             0.5555555555555556,
             "#d8576b"
            ],
            [
             0.6666666666666666,
             "#ed7953"
            ],
            [
             0.7777777777777778,
             "#fb9f3a"
            ],
            [
             0.8888888888888888,
             "#fdca26"
            ],
            [
             1,
             "#f0f921"
            ]
           ]
          },
          "colorway": [
           "#636efa",
           "#EF553B",
           "#00cc96",
           "#ab63fa",
           "#FFA15A",
           "#19d3f3",
           "#FF6692",
           "#B6E880",
           "#FF97FF",
           "#FECB52"
          ],
          "font": {
           "color": "#2a3f5f"
          },
          "geo": {
           "bgcolor": "white",
           "lakecolor": "white",
           "landcolor": "#E5ECF6",
           "showlakes": true,
           "showland": true,
           "subunitcolor": "white"
          },
          "hoverlabel": {
           "align": "left"
          },
          "hovermode": "closest",
          "mapbox": {
           "style": "light"
          },
          "paper_bgcolor": "white",
          "plot_bgcolor": "#E5ECF6",
          "polar": {
           "angularaxis": {
            "gridcolor": "white",
            "linecolor": "white",
            "ticks": ""
           },
           "bgcolor": "#E5ECF6",
           "radialaxis": {
            "gridcolor": "white",
            "linecolor": "white",
            "ticks": ""
           }
          },
          "scene": {
           "xaxis": {
            "backgroundcolor": "#E5ECF6",
            "gridcolor": "white",
            "gridwidth": 2,
            "linecolor": "white",
            "showbackground": true,
            "ticks": "",
            "zerolinecolor": "white"
           },
           "yaxis": {
            "backgroundcolor": "#E5ECF6",
            "gridcolor": "white",
            "gridwidth": 2,
            "linecolor": "white",
            "showbackground": true,
            "ticks": "",
            "zerolinecolor": "white"
           },
           "zaxis": {
            "backgroundcolor": "#E5ECF6",
            "gridcolor": "white",
            "gridwidth": 2,
            "linecolor": "white",
            "showbackground": true,
            "ticks": "",
            "zerolinecolor": "white"
           }
          },
          "shapedefaults": {
           "line": {
            "color": "#2a3f5f"
           }
          },
          "ternary": {
           "aaxis": {
            "gridcolor": "white",
            "linecolor": "white",
            "ticks": ""
           },
           "baxis": {
            "gridcolor": "white",
            "linecolor": "white",
            "ticks": ""
           },
           "bgcolor": "#E5ECF6",
           "caxis": {
            "gridcolor": "white",
            "linecolor": "white",
            "ticks": ""
           }
          },
          "title": {
           "x": 0.05
          },
          "xaxis": {
           "automargin": true,
           "gridcolor": "white",
           "linecolor": "white",
           "ticks": "",
           "title": {
            "standoff": 15
           },
           "zerolinecolor": "white",
           "zerolinewidth": 2
          },
          "yaxis": {
           "automargin": true,
           "gridcolor": "white",
           "linecolor": "white",
           "ticks": "",
           "title": {
            "standoff": 15
           },
           "zerolinecolor": "white",
           "zerolinewidth": 2
          }
         }
        },
        "title": {
         "text": "Self Repair Across Checkpoints (DE+CIL/DE) (pythia-160m)"
        },
        "xaxis": {
         "anchor": "y",
         "domain": [
          0,
          1
         ],
         "title": {
          "text": "Checkpoint"
         }
        },
        "yaxis": {
         "anchor": "x",
         "domain": [
          0,
          1
         ],
         "range": [
          -300,
          300
         ],
         "title": {
          "text": "Self Repair Score"
         }
        }
       }
      },
      "text/html": [
       "<div>                            <div id=\"ee215fe1-dff6-4c1b-b351-08c966815428\" class=\"plotly-graph-div\" style=\"height:500px; width:100%;\"></div>            <script type=\"text/javascript\">                require([\"plotly\"], function(Plotly) {                    window.PLOTLYENV=window.PLOTLYENV || {};                                    if (document.getElementById(\"ee215fe1-dff6-4c1b-b351-08c966815428\")) {                    Plotly.newPlot(                        \"ee215fe1-dff6-4c1b-b351-08c966815428\",                        [{\"hovertemplate\":\"Layer-Head=Layer 0-Head 0\\u003cbr\\u003eCheckpoint=%{x}\\u003cbr\\u003eSelf Repair Score=%{y}\\u003cextra\\u003e\\u003c\\u002fextra\\u003e\",\"legendgroup\":\"Layer 0-Head 0\",\"line\":{\"color\":\"#636efa\",\"dash\":\"solid\"},\"marker\":{\"symbol\":\"circle\"},\"mode\":\"lines\",\"name\":\"Layer 0-Head 0\",\"showlegend\":true,\"x\":[512,1000,2000,3000,5000,10000,30000,90000,143000],\"xaxis\":\"x\",\"y\":[-2.49373197555542,-1.676390290260315,-0.25345438718795776,-1.516669750213623,-3.726292610168457,-7.327198028564453,-8.587989807128906,-7.671521186828613,-14.87458610534668],\"yaxis\":\"y\",\"type\":\"scattergl\"},{\"hovertemplate\":\"Layer-Head=Layer 0-Head 1\\u003cbr\\u003eCheckpoint=%{x}\\u003cbr\\u003eSelf Repair Score=%{y}\\u003cextra\\u003e\\u003c\\u002fextra\\u003e\",\"legendgroup\":\"Layer 0-Head 1\",\"line\":{\"color\":\"#EF553B\",\"dash\":\"solid\"},\"marker\":{\"symbol\":\"circle\"},\"mode\":\"lines\",\"name\":\"Layer 0-Head 1\",\"showlegend\":true,\"x\":[512,1000,2000,3000,5000,10000,30000,90000,143000],\"xaxis\":\"x\",\"y\":[-4.568723201751709,-2.460815668106079,0.21674253046512604,0.26536086201667786,-0.033534515649080276,-0.6733417510986328,-4.611536979675293,-12.940810203552246,-7.550116539001465],\"yaxis\":\"y\",\"type\":\"scattergl\"},{\"hovertemplate\":\"Layer-Head=Layer 0-Head 2\\u003cbr\\u003eCheckpoint=%{x}\\u003cbr\\u003eSelf Repair Score=%{y}\\u003cextra\\u003e\\u003c\\u002fextra\\u003e\",\"legendgroup\":\"Layer 0-Head 2\",\"line\":{\"color\":\"#00cc96\",\"dash\":\"solid\"},\"marker\":{\"symbol\":\"circle\"},\"mode\":\"lines\",\"name\":\"Layer 0-Head 2\",\"showlegend\":true,\"x\":[512,1000,2000,3000,5000,10000,30000,90000,143000],\"xaxis\":\"x\",\"y\":[-0.08362216502428055,0.3206324577331543,-0.0767054632306099,-3.525749683380127,-11.598383903503418,-68.99263763427734,-100.30108642578125,14.159333229064941,39.934261322021484],\"yaxis\":\"y\",\"type\":\"scattergl\"},{\"hovertemplate\":\"Layer-Head=Layer 0-Head 3\\u003cbr\\u003eCheckpoint=%{x}\\u003cbr\\u003eSelf Repair Score=%{y}\\u003cextra\\u003e\\u003c\\u002fextra\\u003e\",\"legendgroup\":\"Layer 0-Head 3\",\"line\":{\"color\":\"#ab63fa\",\"dash\":\"solid\"},\"marker\":{\"symbol\":\"circle\"},\"mode\":\"lines\",\"name\":\"Layer 0-Head 3\",\"showlegend\":true,\"x\":[512,1000,2000,3000,5000,10000,30000,90000,143000],\"xaxis\":\"x\",\"y\":[-1.9846398830413818,-0.3391086161136627,0.28191182017326355,-1.3465867042541504,-5.950840950012207,-18.52752685546875,-71.12125396728516,-31.303871154785156,-27.840503692626953],\"yaxis\":\"y\",\"type\":\"scattergl\"},{\"hovertemplate\":\"Layer-Head=Layer 0-Head 4\\u003cbr\\u003eCheckpoint=%{x}\\u003cbr\\u003eSelf Repair Score=%{y}\\u003cextra\\u003e\\u003c\\u002fextra\\u003e\",\"legendgroup\":\"Layer 0-Head 4\",\"line\":{\"color\":\"#FFA15A\",\"dash\":\"solid\"},\"marker\":{\"symbol\":\"circle\"},\"mode\":\"lines\",\"name\":\"Layer 0-Head 4\",\"showlegend\":true,\"x\":[512,1000,2000,3000,5000,10000,30000,90000,143000],\"xaxis\":\"x\",\"y\":[-3.1890482902526855,-3.6919589042663574,-0.4371241331100464,0.5555076599121094,0.7078572511672974,0.6464237570762634,-18.140411376953125,-7.105382919311523,-8.820671081542969],\"yaxis\":\"y\",\"type\":\"scattergl\"},{\"hovertemplate\":\"Layer-Head=Layer 0-Head 5\\u003cbr\\u003eCheckpoint=%{x}\\u003cbr\\u003eSelf Repair Score=%{y}\\u003cextra\\u003e\\u003c\\u002fextra\\u003e\",\"legendgroup\":\"Layer 0-Head 5\",\"line\":{\"color\":\"#19d3f3\",\"dash\":\"solid\"},\"marker\":{\"symbol\":\"circle\"},\"mode\":\"lines\",\"name\":\"Layer 0-Head 5\",\"showlegend\":true,\"x\":[512,1000,2000,3000,5000,10000,30000,90000,143000],\"xaxis\":\"x\",\"y\":[-1.0928313732147217,-24.483905792236328,-1.1923434734344482,-3.4712846279144287,-2.1824378967285156,-1.1724979877471924,-0.22278232872486115,-0.40553826093673706,-1.9629536867141724],\"yaxis\":\"y\",\"type\":\"scattergl\"},{\"hovertemplate\":\"Layer-Head=Layer 0-Head 6\\u003cbr\\u003eCheckpoint=%{x}\\u003cbr\\u003eSelf Repair Score=%{y}\\u003cextra\\u003e\\u003c\\u002fextra\\u003e\",\"legendgroup\":\"Layer 0-Head 6\",\"line\":{\"color\":\"#FF6692\",\"dash\":\"solid\"},\"marker\":{\"symbol\":\"circle\"},\"mode\":\"lines\",\"name\":\"Layer 0-Head 6\",\"showlegend\":true,\"x\":[512,1000,2000,3000,5000,10000,30000,90000,143000],\"xaxis\":\"x\",\"y\":[-20.386566162109375,-2.765578031539917,16.566577911376953,-0.030456457287073135,0.36940568685531616,0.770897626876831,0.6505663394927979,0.7877376079559326,0.05292101949453354],\"yaxis\":\"y\",\"type\":\"scattergl\"},{\"hovertemplate\":\"Layer-Head=Layer 0-Head 7\\u003cbr\\u003eCheckpoint=%{x}\\u003cbr\\u003eSelf Repair Score=%{y}\\u003cextra\\u003e\\u003c\\u002fextra\\u003e\",\"legendgroup\":\"Layer 0-Head 7\",\"line\":{\"color\":\"#B6E880\",\"dash\":\"solid\"},\"marker\":{\"symbol\":\"circle\"},\"mode\":\"lines\",\"name\":\"Layer 0-Head 7\",\"showlegend\":true,\"x\":[512,1000,2000,3000,5000,10000,30000,90000,143000],\"xaxis\":\"x\",\"y\":[-13.344118118286133,-5.62886381149292,-1.9093769788742065,-0.7987216114997864,0.3147318661212921,-0.9487057328224182,9.834097862243652,3.329024314880371,3.6324234008789062],\"yaxis\":\"y\",\"type\":\"scattergl\"},{\"hovertemplate\":\"Layer-Head=Layer 0-Head 8\\u003cbr\\u003eCheckpoint=%{x}\\u003cbr\\u003eSelf Repair Score=%{y}\\u003cextra\\u003e\\u003c\\u002fextra\\u003e\",\"legendgroup\":\"Layer 0-Head 8\",\"line\":{\"color\":\"#FF97FF\",\"dash\":\"solid\"},\"marker\":{\"symbol\":\"circle\"},\"mode\":\"lines\",\"name\":\"Layer 0-Head 8\",\"showlegend\":true,\"x\":[512,1000,2000,3000,5000,10000,30000,90000,143000],\"xaxis\":\"x\",\"y\":[-1.0856965780258179,-0.8634668588638306,0.2787376940250397,-0.2571295499801636,-1.4417238235473633,-5.195197582244873,-14.522470474243164,21.291231155395508,186.57086181640625],\"yaxis\":\"y\",\"type\":\"scattergl\"},{\"hovertemplate\":\"Layer-Head=Layer 0-Head 9\\u003cbr\\u003eCheckpoint=%{x}\\u003cbr\\u003eSelf Repair Score=%{y}\\u003cextra\\u003e\\u003c\\u002fextra\\u003e\",\"legendgroup\":\"Layer 0-Head 9\",\"line\":{\"color\":\"#FECB52\",\"dash\":\"solid\"},\"marker\":{\"symbol\":\"circle\"},\"mode\":\"lines\",\"name\":\"Layer 0-Head 9\",\"showlegend\":true,\"x\":[512,1000,2000,3000,5000,10000,30000,90000,143000],\"xaxis\":\"x\",\"y\":[-2.4590232372283936,-2.6445069313049316,0.47290173172950745,0.4932170510292053,0.3986447751522064,-0.517426073551178,-3.8964991569519043,-5.013786792755127,-4.817575454711914],\"yaxis\":\"y\",\"type\":\"scattergl\"},{\"hovertemplate\":\"Layer-Head=Layer 0-Head 10\\u003cbr\\u003eCheckpoint=%{x}\\u003cbr\\u003eSelf Repair Score=%{y}\\u003cextra\\u003e\\u003c\\u002fextra\\u003e\",\"legendgroup\":\"Layer 0-Head 10\",\"line\":{\"color\":\"#636efa\",\"dash\":\"solid\"},\"marker\":{\"symbol\":\"circle\"},\"mode\":\"lines\",\"name\":\"Layer 0-Head 10\",\"showlegend\":true,\"x\":[512,1000,2000,3000,5000,10000,30000,90000,143000],\"xaxis\":\"x\",\"y\":[-1.2501267194747925,-0.27048003673553467,-0.18696002662181854,1.9138171672821045,-3.228916883468628,-6.172064781188965,14.05755615234375,-41.98683547973633,-39.14568328857422],\"yaxis\":\"y\",\"type\":\"scattergl\"},{\"hovertemplate\":\"Layer-Head=Layer 0-Head 11\\u003cbr\\u003eCheckpoint=%{x}\\u003cbr\\u003eSelf Repair Score=%{y}\\u003cextra\\u003e\\u003c\\u002fextra\\u003e\",\"legendgroup\":\"Layer 0-Head 11\",\"line\":{\"color\":\"#EF553B\",\"dash\":\"solid\"},\"marker\":{\"symbol\":\"circle\"},\"mode\":\"lines\",\"name\":\"Layer 0-Head 11\",\"showlegend\":true,\"x\":[512,1000,2000,3000,5000,10000,30000,90000,143000],\"xaxis\":\"x\",\"y\":[-5.420077323913574,-3.0217232704162598,-0.5648154616355896,0.6052380800247192,0.678402304649353,0.6983453035354614,-0.27524423599243164,-2.267080068588257,-3.3766515254974365],\"yaxis\":\"y\",\"type\":\"scattergl\"},{\"hovertemplate\":\"Layer-Head=Layer 1-Head 0\\u003cbr\\u003eCheckpoint=%{x}\\u003cbr\\u003eSelf Repair Score=%{y}\\u003cextra\\u003e\\u003c\\u002fextra\\u003e\",\"legendgroup\":\"Layer 1-Head 0\",\"line\":{\"color\":\"#00cc96\",\"dash\":\"solid\"},\"marker\":{\"symbol\":\"circle\"},\"mode\":\"lines\",\"name\":\"Layer 1-Head 0\",\"showlegend\":true,\"x\":[512,1000,2000,3000,5000,10000,30000,90000,143000],\"xaxis\":\"x\",\"y\":[-0.03584295138716698,-5.180805683135986,7.021041393280029,11.484195709228516,-6.717453479766846,-5.018866062164307,-5.7271199226379395,-3.475548267364502,-6.271450519561768],\"yaxis\":\"y\",\"type\":\"scattergl\"},{\"hovertemplate\":\"Layer-Head=Layer 1-Head 1\\u003cbr\\u003eCheckpoint=%{x}\\u003cbr\\u003eSelf Repair Score=%{y}\\u003cextra\\u003e\\u003c\\u002fextra\\u003e\",\"legendgroup\":\"Layer 1-Head 1\",\"line\":{\"color\":\"#ab63fa\",\"dash\":\"solid\"},\"marker\":{\"symbol\":\"circle\"},\"mode\":\"lines\",\"name\":\"Layer 1-Head 1\",\"showlegend\":true,\"x\":[512,1000,2000,3000,5000,10000,30000,90000,143000],\"xaxis\":\"x\",\"y\":[-2.712688684463501,-0.7725434303283691,-2.0008633136749268,-5.55381965637207,-20.968955993652344,-22.025915145874023,-23.70857048034668,8.348150253295898,25.27313232421875],\"yaxis\":\"y\",\"type\":\"scattergl\"},{\"hovertemplate\":\"Layer-Head=Layer 1-Head 2\\u003cbr\\u003eCheckpoint=%{x}\\u003cbr\\u003eSelf Repair Score=%{y}\\u003cextra\\u003e\\u003c\\u002fextra\\u003e\",\"legendgroup\":\"Layer 1-Head 2\",\"line\":{\"color\":\"#FFA15A\",\"dash\":\"solid\"},\"marker\":{\"symbol\":\"circle\"},\"mode\":\"lines\",\"name\":\"Layer 1-Head 2\",\"showlegend\":true,\"x\":[512,1000,2000,3000,5000,10000,30000,90000,143000],\"xaxis\":\"x\",\"y\":[0.4819033145904541,7.7314887046813965,-5.0660271644592285,-16.772172927856445,-49.77334213256836,-40.55344772338867,-159.502197265625,130.93252563476562,-125.4257583618164],\"yaxis\":\"y\",\"type\":\"scattergl\"},{\"hovertemplate\":\"Layer-Head=Layer 1-Head 3\\u003cbr\\u003eCheckpoint=%{x}\\u003cbr\\u003eSelf Repair Score=%{y}\\u003cextra\\u003e\\u003c\\u002fextra\\u003e\",\"legendgroup\":\"Layer 1-Head 3\",\"line\":{\"color\":\"#19d3f3\",\"dash\":\"solid\"},\"marker\":{\"symbol\":\"circle\"},\"mode\":\"lines\",\"name\":\"Layer 1-Head 3\",\"showlegend\":true,\"x\":[512,1000,2000,3000,5000,10000,30000,90000,143000],\"xaxis\":\"x\",\"y\":[-0.5753493309020996,0.5606769919395447,-0.6964391469955444,-4.214655876159668,1.805686593055725,-12.438365936279297,-0.4728166460990906,-1.0989739894866943,-0.9979965686798096],\"yaxis\":\"y\",\"type\":\"scattergl\"},{\"hovertemplate\":\"Layer-Head=Layer 1-Head 4\\u003cbr\\u003eCheckpoint=%{x}\\u003cbr\\u003eSelf Repair Score=%{y}\\u003cextra\\u003e\\u003c\\u002fextra\\u003e\",\"legendgroup\":\"Layer 1-Head 4\",\"line\":{\"color\":\"#FF6692\",\"dash\":\"solid\"},\"marker\":{\"symbol\":\"circle\"},\"mode\":\"lines\",\"name\":\"Layer 1-Head 4\",\"showlegend\":true,\"x\":[512,1000,2000,3000,5000,10000,30000,90000,143000],\"xaxis\":\"x\",\"y\":[0.9321866035461426,-0.5782341361045837,0.9948204159736633,0.6682643890380859,3.919038772583008,4.96350622177124,4.3597588539123535,-3.921398162841797,-7.053487777709961],\"yaxis\":\"y\",\"type\":\"scattergl\"},{\"hovertemplate\":\"Layer-Head=Layer 1-Head 5\\u003cbr\\u003eCheckpoint=%{x}\\u003cbr\\u003eSelf Repair Score=%{y}\\u003cextra\\u003e\\u003c\\u002fextra\\u003e\",\"legendgroup\":\"Layer 1-Head 5\",\"line\":{\"color\":\"#B6E880\",\"dash\":\"solid\"},\"marker\":{\"symbol\":\"circle\"},\"mode\":\"lines\",\"name\":\"Layer 1-Head 5\",\"showlegend\":true,\"x\":[512,1000,2000,3000,5000,10000,30000,90000,143000],\"xaxis\":\"x\",\"y\":[0.8135821223258972,0.441354900598526,0.32305440306663513,-0.16038097441196442,-1.1713625192642212,-2.9095563888549805,-5.0904388427734375,-13.414421081542969,-7.245116233825684],\"yaxis\":\"y\",\"type\":\"scattergl\"},{\"hovertemplate\":\"Layer-Head=Layer 1-Head 6\\u003cbr\\u003eCheckpoint=%{x}\\u003cbr\\u003eSelf Repair Score=%{y}\\u003cextra\\u003e\\u003c\\u002fextra\\u003e\",\"legendgroup\":\"Layer 1-Head 6\",\"line\":{\"color\":\"#FF97FF\",\"dash\":\"solid\"},\"marker\":{\"symbol\":\"circle\"},\"mode\":\"lines\",\"name\":\"Layer 1-Head 6\",\"showlegend\":true,\"x\":[512,1000,2000,3000,5000,10000,30000,90000,143000],\"xaxis\":\"x\",\"y\":[0.017431678250432014,0.39944368600845337,0.5605440735816956,0.6482101082801819,0.2850731313228607,15.675889015197754,210.5631866455078,1.9038399457931519,5.951793193817139],\"yaxis\":\"y\",\"type\":\"scattergl\"},{\"hovertemplate\":\"Layer-Head=Layer 1-Head 7\\u003cbr\\u003eCheckpoint=%{x}\\u003cbr\\u003eSelf Repair Score=%{y}\\u003cextra\\u003e\\u003c\\u002fextra\\u003e\",\"legendgroup\":\"Layer 1-Head 7\",\"line\":{\"color\":\"#FECB52\",\"dash\":\"solid\"},\"marker\":{\"symbol\":\"circle\"},\"mode\":\"lines\",\"name\":\"Layer 1-Head 7\",\"showlegend\":true,\"x\":[512,1000,2000,3000,5000,10000,30000,90000,143000],\"xaxis\":\"x\",\"y\":[0.0011895443312823772,-0.758567214012146,-5.50601863861084,-8.039977073669434,-12.699535369873047,-17.498733520507812,-48.26830291748047,-132.53009033203125,-33.9879035949707],\"yaxis\":\"y\",\"type\":\"scattergl\"},{\"hovertemplate\":\"Layer-Head=Layer 1-Head 8\\u003cbr\\u003eCheckpoint=%{x}\\u003cbr\\u003eSelf Repair Score=%{y}\\u003cextra\\u003e\\u003c\\u002fextra\\u003e\",\"legendgroup\":\"Layer 1-Head 8\",\"line\":{\"color\":\"#636efa\",\"dash\":\"solid\"},\"marker\":{\"symbol\":\"circle\"},\"mode\":\"lines\",\"name\":\"Layer 1-Head 8\",\"showlegend\":true,\"x\":[512,1000,2000,3000,5000,10000,30000,90000,143000],\"xaxis\":\"x\",\"y\":[0.7801708579063416,0.8876436948776245,1.2937378883361816,0.8200143575668335,44.23937225341797,5.283933162689209,-3.241656541824341,-2.7065377235412598,-6.900078296661377],\"yaxis\":\"y\",\"type\":\"scattergl\"},{\"hovertemplate\":\"Layer-Head=Layer 1-Head 9\\u003cbr\\u003eCheckpoint=%{x}\\u003cbr\\u003eSelf Repair Score=%{y}\\u003cextra\\u003e\\u003c\\u002fextra\\u003e\",\"legendgroup\":\"Layer 1-Head 9\",\"line\":{\"color\":\"#EF553B\",\"dash\":\"solid\"},\"marker\":{\"symbol\":\"circle\"},\"mode\":\"lines\",\"name\":\"Layer 1-Head 9\",\"showlegend\":true,\"x\":[512,1000,2000,3000,5000,10000,30000,90000,143000],\"xaxis\":\"x\",\"y\":[-0.33858951926231384,-0.4387265741825104,-5.228428363800049,-18.281288146972656,-44.47660446166992,-121.79206085205078,30.847759246826172,-453.6716003417969,-19.640512466430664],\"yaxis\":\"y\",\"type\":\"scattergl\"},{\"hovertemplate\":\"Layer-Head=Layer 1-Head 10\\u003cbr\\u003eCheckpoint=%{x}\\u003cbr\\u003eSelf Repair Score=%{y}\\u003cextra\\u003e\\u003c\\u002fextra\\u003e\",\"legendgroup\":\"Layer 1-Head 10\",\"line\":{\"color\":\"#00cc96\",\"dash\":\"solid\"},\"marker\":{\"symbol\":\"circle\"},\"mode\":\"lines\",\"name\":\"Layer 1-Head 10\",\"showlegend\":true,\"x\":[512,1000,2000,3000,5000,10000,30000,90000,143000],\"xaxis\":\"x\",\"y\":[0.7000806927680969,0.2959771156311035,-2.2912936210632324,-11.572396278381348,89.96087646484375,4.440492153167725,0.32782942056655884,-1.1011440753936768,-27.94816017150879],\"yaxis\":\"y\",\"type\":\"scattergl\"},{\"hovertemplate\":\"Layer-Head=Layer 1-Head 11\\u003cbr\\u003eCheckpoint=%{x}\\u003cbr\\u003eSelf Repair Score=%{y}\\u003cextra\\u003e\\u003c\\u002fextra\\u003e\",\"legendgroup\":\"Layer 1-Head 11\",\"line\":{\"color\":\"#ab63fa\",\"dash\":\"solid\"},\"marker\":{\"symbol\":\"circle\"},\"mode\":\"lines\",\"name\":\"Layer 1-Head 11\",\"showlegend\":true,\"x\":[512,1000,2000,3000,5000,10000,30000,90000,143000],\"xaxis\":\"x\",\"y\":[-1.5040910243988037,0.1972004771232605,-0.2615748643875122,-1.5514025688171387,-5703.98828125,15.386394500732422,-24.219144821166992,-12.651311874389648,-9.377721786499023],\"yaxis\":\"y\",\"type\":\"scattergl\"},{\"hovertemplate\":\"Layer-Head=Layer 2-Head 0\\u003cbr\\u003eCheckpoint=%{x}\\u003cbr\\u003eSelf Repair Score=%{y}\\u003cextra\\u003e\\u003c\\u002fextra\\u003e\",\"legendgroup\":\"Layer 2-Head 0\",\"line\":{\"color\":\"#FFA15A\",\"dash\":\"solid\"},\"marker\":{\"symbol\":\"circle\"},\"mode\":\"lines\",\"name\":\"Layer 2-Head 0\",\"showlegend\":true,\"x\":[512,1000,2000,3000,5000,10000,30000,90000,143000],\"xaxis\":\"x\",\"y\":[0.0761057510972023,0.8619885444641113,0.9120219349861145,0.8014175891876221,0.678139865398407,-0.06696715205907822,-35.92376708984375,-9.74067211151123,-10.667612075805664],\"yaxis\":\"y\",\"type\":\"scattergl\"},{\"hovertemplate\":\"Layer-Head=Layer 2-Head 1\\u003cbr\\u003eCheckpoint=%{x}\\u003cbr\\u003eSelf Repair Score=%{y}\\u003cextra\\u003e\\u003c\\u002fextra\\u003e\",\"legendgroup\":\"Layer 2-Head 1\",\"line\":{\"color\":\"#19d3f3\",\"dash\":\"solid\"},\"marker\":{\"symbol\":\"circle\"},\"mode\":\"lines\",\"name\":\"Layer 2-Head 1\",\"showlegend\":true,\"x\":[512,1000,2000,3000,5000,10000,30000,90000,143000],\"xaxis\":\"x\",\"y\":[-0.6153364777565002,-2.1606650352478027,-4.7818756103515625,-4.3850603103637695,-4.576241493225098,-4.510232448577881,-4.301515579223633,-7.471218585968018,-7.87790584564209],\"yaxis\":\"y\",\"type\":\"scattergl\"},{\"hovertemplate\":\"Layer-Head=Layer 2-Head 2\\u003cbr\\u003eCheckpoint=%{x}\\u003cbr\\u003eSelf Repair Score=%{y}\\u003cextra\\u003e\\u003c\\u002fextra\\u003e\",\"legendgroup\":\"Layer 2-Head 2\",\"line\":{\"color\":\"#FF6692\",\"dash\":\"solid\"},\"marker\":{\"symbol\":\"circle\"},\"mode\":\"lines\",\"name\":\"Layer 2-Head 2\",\"showlegend\":true,\"x\":[512,1000,2000,3000,5000,10000,30000,90000,143000],\"xaxis\":\"x\",\"y\":[0.4104258120059967,0.034702423959970474,-2.3543269634246826,-2.8278231620788574,-15.564153671264648,-12.699298858642578,-10.90827465057373,-11.361201286315918,-11.72701644897461],\"yaxis\":\"y\",\"type\":\"scattergl\"},{\"hovertemplate\":\"Layer-Head=Layer 2-Head 3\\u003cbr\\u003eCheckpoint=%{x}\\u003cbr\\u003eSelf Repair Score=%{y}\\u003cextra\\u003e\\u003c\\u002fextra\\u003e\",\"legendgroup\":\"Layer 2-Head 3\",\"line\":{\"color\":\"#B6E880\",\"dash\":\"solid\"},\"marker\":{\"symbol\":\"circle\"},\"mode\":\"lines\",\"name\":\"Layer 2-Head 3\",\"showlegend\":true,\"x\":[512,1000,2000,3000,5000,10000,30000,90000,143000],\"xaxis\":\"x\",\"y\":[0.11972963064908981,0.1677776575088501,0.34583914279937744,0.18369345366954803,-0.4327836334705353,-2.5969483852386475,-3.8820576667785645,-4.683666706085205,-4.762223720550537],\"yaxis\":\"y\",\"type\":\"scattergl\"},{\"hovertemplate\":\"Layer-Head=Layer 2-Head 4\\u003cbr\\u003eCheckpoint=%{x}\\u003cbr\\u003eSelf Repair Score=%{y}\\u003cextra\\u003e\\u003c\\u002fextra\\u003e\",\"legendgroup\":\"Layer 2-Head 4\",\"line\":{\"color\":\"#FF97FF\",\"dash\":\"solid\"},\"marker\":{\"symbol\":\"circle\"},\"mode\":\"lines\",\"name\":\"Layer 2-Head 4\",\"showlegend\":true,\"x\":[512,1000,2000,3000,5000,10000,30000,90000,143000],\"xaxis\":\"x\",\"y\":[0.2107052206993103,0.6375047564506531,0.419138640165329,0.09259586036205292,5.619881629943848,4.435629844665527,4.803965091705322,0.2269403487443924,-4.54936408996582],\"yaxis\":\"y\",\"type\":\"scattergl\"},{\"hovertemplate\":\"Layer-Head=Layer 2-Head 5\\u003cbr\\u003eCheckpoint=%{x}\\u003cbr\\u003eSelf Repair Score=%{y}\\u003cextra\\u003e\\u003c\\u002fextra\\u003e\",\"legendgroup\":\"Layer 2-Head 5\",\"line\":{\"color\":\"#FECB52\",\"dash\":\"solid\"},\"marker\":{\"symbol\":\"circle\"},\"mode\":\"lines\",\"name\":\"Layer 2-Head 5\",\"showlegend\":true,\"x\":[512,1000,2000,3000,5000,10000,30000,90000,143000],\"xaxis\":\"x\",\"y\":[-5.121316909790039,-0.6893041133880615,-0.08034739643335342,-0.44413620233535767,-1.2522821426391602,-4.015017986297607,-3.871042013168335,-4.084423065185547,-5.701457977294922],\"yaxis\":\"y\",\"type\":\"scattergl\"},{\"hovertemplate\":\"Layer-Head=Layer 2-Head 6\\u003cbr\\u003eCheckpoint=%{x}\\u003cbr\\u003eSelf Repair Score=%{y}\\u003cextra\\u003e\\u003c\\u002fextra\\u003e\",\"legendgroup\":\"Layer 2-Head 6\",\"line\":{\"color\":\"#636efa\",\"dash\":\"solid\"},\"marker\":{\"symbol\":\"circle\"},\"mode\":\"lines\",\"name\":\"Layer 2-Head 6\",\"showlegend\":true,\"x\":[512,1000,2000,3000,5000,10000,30000,90000,143000],\"xaxis\":\"x\",\"y\":[-1.4481242895126343,-2.14125394821167,-2.543095111846924,-3.1545639038085938,-3.8073854446411133,-4.624170780181885,-7.7429633140563965,-239.36903381347656,-14.564967155456543],\"yaxis\":\"y\",\"type\":\"scattergl\"},{\"hovertemplate\":\"Layer-Head=Layer 2-Head 7\\u003cbr\\u003eCheckpoint=%{x}\\u003cbr\\u003eSelf Repair Score=%{y}\\u003cextra\\u003e\\u003c\\u002fextra\\u003e\",\"legendgroup\":\"Layer 2-Head 7\",\"line\":{\"color\":\"#EF553B\",\"dash\":\"solid\"},\"marker\":{\"symbol\":\"circle\"},\"mode\":\"lines\",\"name\":\"Layer 2-Head 7\",\"showlegend\":true,\"x\":[512,1000,2000,3000,5000,10000,30000,90000,143000],\"xaxis\":\"x\",\"y\":[0.06704004108905792,0.00806359387934208,-0.015101085416972637,-0.8479323983192444,-2.1285407543182373,-2.8726742267608643,-4.00746488571167,-8.850884437561035,-9.699949264526367],\"yaxis\":\"y\",\"type\":\"scattergl\"},{\"hovertemplate\":\"Layer-Head=Layer 2-Head 8\\u003cbr\\u003eCheckpoint=%{x}\\u003cbr\\u003eSelf Repair Score=%{y}\\u003cextra\\u003e\\u003c\\u002fextra\\u003e\",\"legendgroup\":\"Layer 2-Head 8\",\"line\":{\"color\":\"#00cc96\",\"dash\":\"solid\"},\"marker\":{\"symbol\":\"circle\"},\"mode\":\"lines\",\"name\":\"Layer 2-Head 8\",\"showlegend\":true,\"x\":[512,1000,2000,3000,5000,10000,30000,90000,143000],\"xaxis\":\"x\",\"y\":[-3.654195547103882,-0.5236763954162598,-0.5632710456848145,-1.4216300249099731,-3.6631205081939697,-8.09542465209961,-5.743557929992676,-15.954141616821289,-6.860942840576172],\"yaxis\":\"y\",\"type\":\"scattergl\"},{\"hovertemplate\":\"Layer-Head=Layer 2-Head 9\\u003cbr\\u003eCheckpoint=%{x}\\u003cbr\\u003eSelf Repair Score=%{y}\\u003cextra\\u003e\\u003c\\u002fextra\\u003e\",\"legendgroup\":\"Layer 2-Head 9\",\"line\":{\"color\":\"#ab63fa\",\"dash\":\"solid\"},\"marker\":{\"symbol\":\"circle\"},\"mode\":\"lines\",\"name\":\"Layer 2-Head 9\",\"showlegend\":true,\"x\":[512,1000,2000,3000,5000,10000,30000,90000,143000],\"xaxis\":\"x\",\"y\":[0.5347034931182861,-0.01478226576000452,-1.277133584022522,-1.6919219493865967,-3.228370428085327,-7.240506172180176,-6.425886154174805,-27.16728973388672,-29.55930519104004],\"yaxis\":\"y\",\"type\":\"scattergl\"},{\"hovertemplate\":\"Layer-Head=Layer 2-Head 10\\u003cbr\\u003eCheckpoint=%{x}\\u003cbr\\u003eSelf Repair Score=%{y}\\u003cextra\\u003e\\u003c\\u002fextra\\u003e\",\"legendgroup\":\"Layer 2-Head 10\",\"line\":{\"color\":\"#FFA15A\",\"dash\":\"solid\"},\"marker\":{\"symbol\":\"circle\"},\"mode\":\"lines\",\"name\":\"Layer 2-Head 10\",\"showlegend\":true,\"x\":[512,1000,2000,3000,5000,10000,30000,90000,143000],\"xaxis\":\"x\",\"y\":[-0.1286131590604782,-0.37221404910087585,-1.0105700492858887,-2.0325675010681152,-2.982445240020752,-3.625443458557129,-3.030881404876709,-13.880308151245117,-5.8816046714782715],\"yaxis\":\"y\",\"type\":\"scattergl\"},{\"hovertemplate\":\"Layer-Head=Layer 2-Head 11\\u003cbr\\u003eCheckpoint=%{x}\\u003cbr\\u003eSelf Repair Score=%{y}\\u003cextra\\u003e\\u003c\\u002fextra\\u003e\",\"legendgroup\":\"Layer 2-Head 11\",\"line\":{\"color\":\"#19d3f3\",\"dash\":\"solid\"},\"marker\":{\"symbol\":\"circle\"},\"mode\":\"lines\",\"name\":\"Layer 2-Head 11\",\"showlegend\":true,\"x\":[512,1000,2000,3000,5000,10000,30000,90000,143000],\"xaxis\":\"x\",\"y\":[-2.722083806991577,-1.1333683729171753,-2.092585802078247,-4.003998756408691,-6.324031829833984,-8.156407356262207,-5.4169535636901855,-5.39705228805542,-6.734677791595459],\"yaxis\":\"y\",\"type\":\"scattergl\"},{\"hovertemplate\":\"Layer-Head=Layer 3-Head 0\\u003cbr\\u003eCheckpoint=%{x}\\u003cbr\\u003eSelf Repair Score=%{y}\\u003cextra\\u003e\\u003c\\u002fextra\\u003e\",\"legendgroup\":\"Layer 3-Head 0\",\"line\":{\"color\":\"#FF6692\",\"dash\":\"solid\"},\"marker\":{\"symbol\":\"circle\"},\"mode\":\"lines\",\"name\":\"Layer 3-Head 0\",\"showlegend\":true,\"x\":[512,1000,2000,3000,5000,10000,30000,90000,143000],\"xaxis\":\"x\",\"y\":[-1.7818137407302856,-4.862542629241943,-4.095117568969727,-5.095703601837158,-7.416619777679443,-9.651529312133789,-13.087541580200195,86.40536499023438,-31.96932029724121],\"yaxis\":\"y\",\"type\":\"scattergl\"},{\"hovertemplate\":\"Layer-Head=Layer 3-Head 1\\u003cbr\\u003eCheckpoint=%{x}\\u003cbr\\u003eSelf Repair Score=%{y}\\u003cextra\\u003e\\u003c\\u002fextra\\u003e\",\"legendgroup\":\"Layer 3-Head 1\",\"line\":{\"color\":\"#B6E880\",\"dash\":\"solid\"},\"marker\":{\"symbol\":\"circle\"},\"mode\":\"lines\",\"name\":\"Layer 3-Head 1\",\"showlegend\":true,\"x\":[512,1000,2000,3000,5000,10000,30000,90000,143000],\"xaxis\":\"x\",\"y\":[-3.9539875984191895,-1.2460825443267822,-1.4101498126983643,-2.7696986198425293,-4.183771133422852,-5.379445552825928,-5.486240386962891,-4.896933078765869,-4.975225448608398],\"yaxis\":\"y\",\"type\":\"scattergl\"},{\"hovertemplate\":\"Layer-Head=Layer 3-Head 2\\u003cbr\\u003eCheckpoint=%{x}\\u003cbr\\u003eSelf Repair Score=%{y}\\u003cextra\\u003e\\u003c\\u002fextra\\u003e\",\"legendgroup\":\"Layer 3-Head 2\",\"line\":{\"color\":\"#FF97FF\",\"dash\":\"solid\"},\"marker\":{\"symbol\":\"circle\"},\"mode\":\"lines\",\"name\":\"Layer 3-Head 2\",\"showlegend\":true,\"x\":[512,1000,2000,3000,5000,10000,30000,90000,143000],\"xaxis\":\"x\",\"y\":[-4.170758247375488,-7.585670471191406,-4.24865198135376,-5.203255653381348,-7.223325729370117,-9.378037452697754,-15.703360557556152,-15.604698181152344,-26.435958862304688],\"yaxis\":\"y\",\"type\":\"scattergl\"},{\"hovertemplate\":\"Layer-Head=Layer 3-Head 3\\u003cbr\\u003eCheckpoint=%{x}\\u003cbr\\u003eSelf Repair Score=%{y}\\u003cextra\\u003e\\u003c\\u002fextra\\u003e\",\"legendgroup\":\"Layer 3-Head 3\",\"line\":{\"color\":\"#FECB52\",\"dash\":\"solid\"},\"marker\":{\"symbol\":\"circle\"},\"mode\":\"lines\",\"name\":\"Layer 3-Head 3\",\"showlegend\":true,\"x\":[512,1000,2000,3000,5000,10000,30000,90000,143000],\"xaxis\":\"x\",\"y\":[1.0543330907821655,7.533868312835693,0.8751228451728821,1.141160011291504,1.2532718181610107,2.115314483642578,3.917304515838623,8.096561431884766,13.040360450744629],\"yaxis\":\"y\",\"type\":\"scattergl\"},{\"hovertemplate\":\"Layer-Head=Layer 3-Head 4\\u003cbr\\u003eCheckpoint=%{x}\\u003cbr\\u003eSelf Repair Score=%{y}\\u003cextra\\u003e\\u003c\\u002fextra\\u003e\",\"legendgroup\":\"Layer 3-Head 4\",\"line\":{\"color\":\"#636efa\",\"dash\":\"solid\"},\"marker\":{\"symbol\":\"circle\"},\"mode\":\"lines\",\"name\":\"Layer 3-Head 4\",\"showlegend\":true,\"x\":[512,1000,2000,3000,5000,10000,30000,90000,143000],\"xaxis\":\"x\",\"y\":[-1.5717726945877075,-1.852705717086792,-1.443819284439087,-3.2520222663879395,-5.2519683837890625,-14.218276023864746,-28.71048927307129,-20.871732711791992,-15.565911293029785],\"yaxis\":\"y\",\"type\":\"scattergl\"},{\"hovertemplate\":\"Layer-Head=Layer 3-Head 5\\u003cbr\\u003eCheckpoint=%{x}\\u003cbr\\u003eSelf Repair Score=%{y}\\u003cextra\\u003e\\u003c\\u002fextra\\u003e\",\"legendgroup\":\"Layer 3-Head 5\",\"line\":{\"color\":\"#EF553B\",\"dash\":\"solid\"},\"marker\":{\"symbol\":\"circle\"},\"mode\":\"lines\",\"name\":\"Layer 3-Head 5\",\"showlegend\":true,\"x\":[512,1000,2000,3000,5000,10000,30000,90000,143000],\"xaxis\":\"x\",\"y\":[-0.4252556264400482,0.5587511658668518,0.6968987584114075,-0.01806611940264702,-1.6422433853149414,116.35515594482422,-19.434452056884766,-9.393510818481445,-8.721734046936035],\"yaxis\":\"y\",\"type\":\"scattergl\"},{\"hovertemplate\":\"Layer-Head=Layer 3-Head 6\\u003cbr\\u003eCheckpoint=%{x}\\u003cbr\\u003eSelf Repair Score=%{y}\\u003cextra\\u003e\\u003c\\u002fextra\\u003e\",\"legendgroup\":\"Layer 3-Head 6\",\"line\":{\"color\":\"#00cc96\",\"dash\":\"solid\"},\"marker\":{\"symbol\":\"circle\"},\"mode\":\"lines\",\"name\":\"Layer 3-Head 6\",\"showlegend\":true,\"x\":[512,1000,2000,3000,5000,10000,30000,90000,143000],\"xaxis\":\"x\",\"y\":[0.5967234373092651,0.7915015816688538,0.7203646302223206,0.5465657711029053,0.3178528845310211,0.27428141236305237,-0.6495665907859802,-1.953622817993164,-22.606098175048828],\"yaxis\":\"y\",\"type\":\"scattergl\"},{\"hovertemplate\":\"Layer-Head=Layer 3-Head 7\\u003cbr\\u003eCheckpoint=%{x}\\u003cbr\\u003eSelf Repair Score=%{y}\\u003cextra\\u003e\\u003c\\u002fextra\\u003e\",\"legendgroup\":\"Layer 3-Head 7\",\"line\":{\"color\":\"#ab63fa\",\"dash\":\"solid\"},\"marker\":{\"symbol\":\"circle\"},\"mode\":\"lines\",\"name\":\"Layer 3-Head 7\",\"showlegend\":true,\"x\":[512,1000,2000,3000,5000,10000,30000,90000,143000],\"xaxis\":\"x\",\"y\":[-5.187653064727783,-0.6906137466430664,0.7432463765144348,0.961996853351593,2.5800960063934326,-1.590660810470581,-4.072511196136475,24.418655395507812,-1.7001991271972656],\"yaxis\":\"y\",\"type\":\"scattergl\"},{\"hovertemplate\":\"Layer-Head=Layer 3-Head 8\\u003cbr\\u003eCheckpoint=%{x}\\u003cbr\\u003eSelf Repair Score=%{y}\\u003cextra\\u003e\\u003c\\u002fextra\\u003e\",\"legendgroup\":\"Layer 3-Head 8\",\"line\":{\"color\":\"#FFA15A\",\"dash\":\"solid\"},\"marker\":{\"symbol\":\"circle\"},\"mode\":\"lines\",\"name\":\"Layer 3-Head 8\",\"showlegend\":true,\"x\":[512,1000,2000,3000,5000,10000,30000,90000,143000],\"xaxis\":\"x\",\"y\":[25.74090003967285,0.2945002317428589,-0.20482027530670166,-1.4209935665130615,-1.901512622833252,-2.386186361312866,147.9324188232422,-3.193715810775757,-3.7466561794281006],\"yaxis\":\"y\",\"type\":\"scattergl\"},{\"hovertemplate\":\"Layer-Head=Layer 3-Head 9\\u003cbr\\u003eCheckpoint=%{x}\\u003cbr\\u003eSelf Repair Score=%{y}\\u003cextra\\u003e\\u003c\\u002fextra\\u003e\",\"legendgroup\":\"Layer 3-Head 9\",\"line\":{\"color\":\"#19d3f3\",\"dash\":\"solid\"},\"marker\":{\"symbol\":\"circle\"},\"mode\":\"lines\",\"name\":\"Layer 3-Head 9\",\"showlegend\":true,\"x\":[512,1000,2000,3000,5000,10000,30000,90000,143000],\"xaxis\":\"x\",\"y\":[-2.333160400390625,-1.048065185546875,-1.371522068977356,-1.983237862586975,-2.8164448738098145,-3.5787131786346436,-2.8392343521118164,-4.026723384857178,-3.849088668823242],\"yaxis\":\"y\",\"type\":\"scattergl\"},{\"hovertemplate\":\"Layer-Head=Layer 3-Head 10\\u003cbr\\u003eCheckpoint=%{x}\\u003cbr\\u003eSelf Repair Score=%{y}\\u003cextra\\u003e\\u003c\\u002fextra\\u003e\",\"legendgroup\":\"Layer 3-Head 10\",\"line\":{\"color\":\"#FF6692\",\"dash\":\"solid\"},\"marker\":{\"symbol\":\"circle\"},\"mode\":\"lines\",\"name\":\"Layer 3-Head 10\",\"showlegend\":true,\"x\":[512,1000,2000,3000,5000,10000,30000,90000,143000],\"xaxis\":\"x\",\"y\":[0.2660648822784424,0.6247341632843018,0.4950976073741913,0.010564206168055534,-0.9424756765365601,-2.038149118423462,-3.330111265182495,-2.273343563079834,-4.01393985748291],\"yaxis\":\"y\",\"type\":\"scattergl\"},{\"hovertemplate\":\"Layer-Head=Layer 3-Head 11\\u003cbr\\u003eCheckpoint=%{x}\\u003cbr\\u003eSelf Repair Score=%{y}\\u003cextra\\u003e\\u003c\\u002fextra\\u003e\",\"legendgroup\":\"Layer 3-Head 11\",\"line\":{\"color\":\"#B6E880\",\"dash\":\"solid\"},\"marker\":{\"symbol\":\"circle\"},\"mode\":\"lines\",\"name\":\"Layer 3-Head 11\",\"showlegend\":true,\"x\":[512,1000,2000,3000,5000,10000,30000,90000,143000],\"xaxis\":\"x\",\"y\":[-1.0477076768875122,-0.779037356376648,-0.09025681763887405,-1.4509109258651733,-0.5029926300048828,-0.6838453412055969,-0.7449753880500793,-1.149823784828186,-13.912137031555176],\"yaxis\":\"y\",\"type\":\"scattergl\"},{\"hovertemplate\":\"Layer-Head=Layer 4-Head 0\\u003cbr\\u003eCheckpoint=%{x}\\u003cbr\\u003eSelf Repair Score=%{y}\\u003cextra\\u003e\\u003c\\u002fextra\\u003e\",\"legendgroup\":\"Layer 4-Head 0\",\"line\":{\"color\":\"#FF97FF\",\"dash\":\"solid\"},\"marker\":{\"symbol\":\"circle\"},\"mode\":\"lines\",\"name\":\"Layer 4-Head 0\",\"showlegend\":true,\"x\":[512,1000,2000,3000,5000,10000,30000,90000,143000],\"xaxis\":\"x\",\"y\":[3.6972031593322754,-1.0656969547271729,-0.8062286972999573,-1.5876801013946533,-2.2027828693389893,-3.8635294437408447,-7.863880157470703,-3.825418710708618,-4.220580577850342],\"yaxis\":\"y\",\"type\":\"scattergl\"},{\"hovertemplate\":\"Layer-Head=Layer 4-Head 1\\u003cbr\\u003eCheckpoint=%{x}\\u003cbr\\u003eSelf Repair Score=%{y}\\u003cextra\\u003e\\u003c\\u002fextra\\u003e\",\"legendgroup\":\"Layer 4-Head 1\",\"line\":{\"color\":\"#FECB52\",\"dash\":\"solid\"},\"marker\":{\"symbol\":\"circle\"},\"mode\":\"lines\",\"name\":\"Layer 4-Head 1\",\"showlegend\":true,\"x\":[512,1000,2000,3000,5000,10000,30000,90000,143000],\"xaxis\":\"x\",\"y\":[-5.658069133758545,0.25716832280158997,0.8887876272201538,0.9970079064369202,1.2173701524734497,1.021693229675293,0.30965057015419006,1.3970801830291748,1.6213781833648682],\"yaxis\":\"y\",\"type\":\"scattergl\"},{\"hovertemplate\":\"Layer-Head=Layer 4-Head 2\\u003cbr\\u003eCheckpoint=%{x}\\u003cbr\\u003eSelf Repair Score=%{y}\\u003cextra\\u003e\\u003c\\u002fextra\\u003e\",\"legendgroup\":\"Layer 4-Head 2\",\"line\":{\"color\":\"#636efa\",\"dash\":\"solid\"},\"marker\":{\"symbol\":\"circle\"},\"mode\":\"lines\",\"name\":\"Layer 4-Head 2\",\"showlegend\":true,\"x\":[512,1000,2000,3000,5000,10000,30000,90000,143000],\"xaxis\":\"x\",\"y\":[-1.9944696426391602,0.13202357292175293,0.14536458253860474,-0.19489410519599915,-0.7979949116706848,-1.7602996826171875,-3.572429656982422,-6.5247063636779785,-5.297738075256348],\"yaxis\":\"y\",\"type\":\"scattergl\"},{\"hovertemplate\":\"Layer-Head=Layer 4-Head 3\\u003cbr\\u003eCheckpoint=%{x}\\u003cbr\\u003eSelf Repair Score=%{y}\\u003cextra\\u003e\\u003c\\u002fextra\\u003e\",\"legendgroup\":\"Layer 4-Head 3\",\"line\":{\"color\":\"#EF553B\",\"dash\":\"solid\"},\"marker\":{\"symbol\":\"circle\"},\"mode\":\"lines\",\"name\":\"Layer 4-Head 3\",\"showlegend\":true,\"x\":[512,1000,2000,3000,5000,10000,30000,90000,143000],\"xaxis\":\"x\",\"y\":[8.140486717224121,-1.0053156614303589,-0.2163192629814148,-0.608375608921051,-1.055117130279541,-1.0294724702835083,-1.1581377983093262,-0.6421698331832886,-1.7053158283233643],\"yaxis\":\"y\",\"type\":\"scattergl\"},{\"hovertemplate\":\"Layer-Head=Layer 4-Head 4\\u003cbr\\u003eCheckpoint=%{x}\\u003cbr\\u003eSelf Repair Score=%{y}\\u003cextra\\u003e\\u003c\\u002fextra\\u003e\",\"legendgroup\":\"Layer 4-Head 4\",\"line\":{\"color\":\"#00cc96\",\"dash\":\"solid\"},\"marker\":{\"symbol\":\"circle\"},\"mode\":\"lines\",\"name\":\"Layer 4-Head 4\",\"showlegend\":true,\"x\":[512,1000,2000,3000,5000,10000,30000,90000,143000],\"xaxis\":\"x\",\"y\":[-0.24292908608913422,-0.6736235022544861,-0.47339752316474915,-1.5423505306243896,-2.241884708404541,-3.2432141304016113,-3.5814809799194336,-1.8353253602981567,-2.7097456455230713],\"yaxis\":\"y\",\"type\":\"scattergl\"},{\"hovertemplate\":\"Layer-Head=Layer 4-Head 5\\u003cbr\\u003eCheckpoint=%{x}\\u003cbr\\u003eSelf Repair Score=%{y}\\u003cextra\\u003e\\u003c\\u002fextra\\u003e\",\"legendgroup\":\"Layer 4-Head 5\",\"line\":{\"color\":\"#ab63fa\",\"dash\":\"solid\"},\"marker\":{\"symbol\":\"circle\"},\"mode\":\"lines\",\"name\":\"Layer 4-Head 5\",\"showlegend\":true,\"x\":[512,1000,2000,3000,5000,10000,30000,90000,143000],\"xaxis\":\"x\",\"y\":[-9.06679630279541,-2.869612216949463,-2.149869203567505,-3.2851412296295166,-4.3914313316345215,-5.865716457366943,-4.578164100646973,-3.173717975616455,-3.6268129348754883],\"yaxis\":\"y\",\"type\":\"scattergl\"},{\"hovertemplate\":\"Layer-Head=Layer 4-Head 6\\u003cbr\\u003eCheckpoint=%{x}\\u003cbr\\u003eSelf Repair Score=%{y}\\u003cextra\\u003e\\u003c\\u002fextra\\u003e\",\"legendgroup\":\"Layer 4-Head 6\",\"line\":{\"color\":\"#FFA15A\",\"dash\":\"solid\"},\"marker\":{\"symbol\":\"circle\"},\"mode\":\"lines\",\"name\":\"Layer 4-Head 6\",\"showlegend\":true,\"x\":[512,1000,2000,3000,5000,10000,30000,90000,143000],\"xaxis\":\"x\",\"y\":[-0.5228728652000427,-0.7276780605316162,-0.8776816725730896,-1.6464872360229492,-1.9313446283340454,-1.9551619291305542,-2.196161985397339,5.644755840301514,29.618167877197266],\"yaxis\":\"y\",\"type\":\"scattergl\"},{\"hovertemplate\":\"Layer-Head=Layer 4-Head 7\\u003cbr\\u003eCheckpoint=%{x}\\u003cbr\\u003eSelf Repair Score=%{y}\\u003cextra\\u003e\\u003c\\u002fextra\\u003e\",\"legendgroup\":\"Layer 4-Head 7\",\"line\":{\"color\":\"#19d3f3\",\"dash\":\"solid\"},\"marker\":{\"symbol\":\"circle\"},\"mode\":\"lines\",\"name\":\"Layer 4-Head 7\",\"showlegend\":true,\"x\":[512,1000,2000,3000,5000,10000,30000,90000,143000],\"xaxis\":\"x\",\"y\":[-0.5302369594573975,-0.6977283954620361,-0.061839789152145386,-0.24155902862548828,-0.45685598254203796,-0.7663901448249817,-1.2698060274124146,-1.157822608947754,-1.9210537672042847],\"yaxis\":\"y\",\"type\":\"scattergl\"},{\"hovertemplate\":\"Layer-Head=Layer 4-Head 8\\u003cbr\\u003eCheckpoint=%{x}\\u003cbr\\u003eSelf Repair Score=%{y}\\u003cextra\\u003e\\u003c\\u002fextra\\u003e\",\"legendgroup\":\"Layer 4-Head 8\",\"line\":{\"color\":\"#FF6692\",\"dash\":\"solid\"},\"marker\":{\"symbol\":\"circle\"},\"mode\":\"lines\",\"name\":\"Layer 4-Head 8\",\"showlegend\":true,\"x\":[512,1000,2000,3000,5000,10000,30000,90000,143000],\"xaxis\":\"x\",\"y\":[-0.8051922917366028,0.4698166847229004,0.0763254314661026,-0.1295408308506012,-0.7701547741889954,-0.6939366459846497,-0.695612907409668,-2.617929220199585,-3.2316441535949707],\"yaxis\":\"y\",\"type\":\"scattergl\"},{\"hovertemplate\":\"Layer-Head=Layer 4-Head 9\\u003cbr\\u003eCheckpoint=%{x}\\u003cbr\\u003eSelf Repair Score=%{y}\\u003cextra\\u003e\\u003c\\u002fextra\\u003e\",\"legendgroup\":\"Layer 4-Head 9\",\"line\":{\"color\":\"#B6E880\",\"dash\":\"solid\"},\"marker\":{\"symbol\":\"circle\"},\"mode\":\"lines\",\"name\":\"Layer 4-Head 9\",\"showlegend\":true,\"x\":[512,1000,2000,3000,5000,10000,30000,90000,143000],\"xaxis\":\"x\",\"y\":[0.0340731218457222,-0.049265772104263306,0.1364246904850006,-0.15768034756183624,-0.857968807220459,-1.412868857383728,-2.3793866634368896,-4.584296226501465,-4.1050825119018555],\"yaxis\":\"y\",\"type\":\"scattergl\"},{\"hovertemplate\":\"Layer-Head=Layer 4-Head 10\\u003cbr\\u003eCheckpoint=%{x}\\u003cbr\\u003eSelf Repair Score=%{y}\\u003cextra\\u003e\\u003c\\u002fextra\\u003e\",\"legendgroup\":\"Layer 4-Head 10\",\"line\":{\"color\":\"#FF97FF\",\"dash\":\"solid\"},\"marker\":{\"symbol\":\"circle\"},\"mode\":\"lines\",\"name\":\"Layer 4-Head 10\",\"showlegend\":true,\"x\":[512,1000,2000,3000,5000,10000,30000,90000,143000],\"xaxis\":\"x\",\"y\":[-6.008023738861084,-2.1700615882873535,-1.1309446096420288,-0.20243774354457855,-0.518657922744751,-0.9848592281341553,-2.10406231880188,1.8996161222457886,2.0956931114196777],\"yaxis\":\"y\",\"type\":\"scattergl\"},{\"hovertemplate\":\"Layer-Head=Layer 4-Head 11\\u003cbr\\u003eCheckpoint=%{x}\\u003cbr\\u003eSelf Repair Score=%{y}\\u003cextra\\u003e\\u003c\\u002fextra\\u003e\",\"legendgroup\":\"Layer 4-Head 11\",\"line\":{\"color\":\"#FECB52\",\"dash\":\"solid\"},\"marker\":{\"symbol\":\"circle\"},\"mode\":\"lines\",\"name\":\"Layer 4-Head 11\",\"showlegend\":true,\"x\":[512,1000,2000,3000,5000,10000,30000,90000,143000],\"xaxis\":\"x\",\"y\":[-1.2077274322509766,-0.04844873771071434,0.11560893058776855,0.09042776376008987,-0.08836597204208374,-0.08343163132667542,-0.36166200041770935,-3.485778331756592,-2.3728461265563965],\"yaxis\":\"y\",\"type\":\"scattergl\"},{\"hovertemplate\":\"Layer-Head=Layer 5-Head 0\\u003cbr\\u003eCheckpoint=%{x}\\u003cbr\\u003eSelf Repair Score=%{y}\\u003cextra\\u003e\\u003c\\u002fextra\\u003e\",\"legendgroup\":\"Layer 5-Head 0\",\"line\":{\"color\":\"#636efa\",\"dash\":\"solid\"},\"marker\":{\"symbol\":\"circle\"},\"mode\":\"lines\",\"name\":\"Layer 5-Head 0\",\"showlegend\":true,\"x\":[512,1000,2000,3000,5000,10000,30000,90000,143000],\"xaxis\":\"x\",\"y\":[-2.6231846809387207,-0.6204435229301453,0.23847801983356476,0.32902297377586365,0.40377646684646606,0.4163130521774292,0.48627224564552307,-0.30263426899909973,-0.1683306246995926],\"yaxis\":\"y\",\"type\":\"scattergl\"},{\"hovertemplate\":\"Layer-Head=Layer 5-Head 1\\u003cbr\\u003eCheckpoint=%{x}\\u003cbr\\u003eSelf Repair Score=%{y}\\u003cextra\\u003e\\u003c\\u002fextra\\u003e\",\"legendgroup\":\"Layer 5-Head 1\",\"line\":{\"color\":\"#EF553B\",\"dash\":\"solid\"},\"marker\":{\"symbol\":\"circle\"},\"mode\":\"lines\",\"name\":\"Layer 5-Head 1\",\"showlegend\":true,\"x\":[512,1000,2000,3000,5000,10000,30000,90000,143000],\"xaxis\":\"x\",\"y\":[1.4368048906326294,0.08311965316534042,0.2739138901233673,-0.45719072222709656,-0.6809287071228027,-1.371096134185791,-1.10360586643219,-1.4847689867019653,-4.563191890716553],\"yaxis\":\"y\",\"type\":\"scattergl\"},{\"hovertemplate\":\"Layer-Head=Layer 5-Head 2\\u003cbr\\u003eCheckpoint=%{x}\\u003cbr\\u003eSelf Repair Score=%{y}\\u003cextra\\u003e\\u003c\\u002fextra\\u003e\",\"legendgroup\":\"Layer 5-Head 2\",\"line\":{\"color\":\"#00cc96\",\"dash\":\"solid\"},\"marker\":{\"symbol\":\"circle\"},\"mode\":\"lines\",\"name\":\"Layer 5-Head 2\",\"showlegend\":true,\"x\":[512,1000,2000,3000,5000,10000,30000,90000,143000],\"xaxis\":\"x\",\"y\":[8.526930809020996,-1.1509662866592407,0.38694700598716736,0.5052219033241272,0.5246214866638184,0.46482640504837036,0.5216180682182312,0.32202526926994324,-0.2923525869846344],\"yaxis\":\"y\",\"type\":\"scattergl\"},{\"hovertemplate\":\"Layer-Head=Layer 5-Head 3\\u003cbr\\u003eCheckpoint=%{x}\\u003cbr\\u003eSelf Repair Score=%{y}\\u003cextra\\u003e\\u003c\\u002fextra\\u003e\",\"legendgroup\":\"Layer 5-Head 3\",\"line\":{\"color\":\"#ab63fa\",\"dash\":\"solid\"},\"marker\":{\"symbol\":\"circle\"},\"mode\":\"lines\",\"name\":\"Layer 5-Head 3\",\"showlegend\":true,\"x\":[512,1000,2000,3000,5000,10000,30000,90000,143000],\"xaxis\":\"x\",\"y\":[0.9631589651107788,0.7024214267730713,0.5696573853492737,0.013094605877995491,-1.1243475675582886,-1.3452250957489014,-0.8793869614601135,-2.186345100402832,-2.17470645904541],\"yaxis\":\"y\",\"type\":\"scattergl\"},{\"hovertemplate\":\"Layer-Head=Layer 5-Head 4\\u003cbr\\u003eCheckpoint=%{x}\\u003cbr\\u003eSelf Repair Score=%{y}\\u003cextra\\u003e\\u003c\\u002fextra\\u003e\",\"legendgroup\":\"Layer 5-Head 4\",\"line\":{\"color\":\"#FFA15A\",\"dash\":\"solid\"},\"marker\":{\"symbol\":\"circle\"},\"mode\":\"lines\",\"name\":\"Layer 5-Head 4\",\"showlegend\":true,\"x\":[512,1000,2000,3000,5000,10000,30000,90000,143000],\"xaxis\":\"x\",\"y\":[0.5746976137161255,0.4442668855190277,0.3400757908821106,0.18988797068595886,-0.004572565201669931,0.010234834626317024,-0.2830507457256317,-1.2316997051239014,-2.6428661346435547],\"yaxis\":\"y\",\"type\":\"scattergl\"},{\"hovertemplate\":\"Layer-Head=Layer 5-Head 5\\u003cbr\\u003eCheckpoint=%{x}\\u003cbr\\u003eSelf Repair Score=%{y}\\u003cextra\\u003e\\u003c\\u002fextra\\u003e\",\"legendgroup\":\"Layer 5-Head 5\",\"line\":{\"color\":\"#19d3f3\",\"dash\":\"solid\"},\"marker\":{\"symbol\":\"circle\"},\"mode\":\"lines\",\"name\":\"Layer 5-Head 5\",\"showlegend\":true,\"x\":[512,1000,2000,3000,5000,10000,30000,90000,143000],\"xaxis\":\"x\",\"y\":[0.44976717233657837,0.7030451893806458,0.3374393880367279,0.1671784371137619,-0.0767415314912796,-0.5797957181930542,-1.015222191810608,73.02850341796875,-5.883346080780029],\"yaxis\":\"y\",\"type\":\"scattergl\"},{\"hovertemplate\":\"Layer-Head=Layer 5-Head 6\\u003cbr\\u003eCheckpoint=%{x}\\u003cbr\\u003eSelf Repair Score=%{y}\\u003cextra\\u003e\\u003c\\u002fextra\\u003e\",\"legendgroup\":\"Layer 5-Head 6\",\"line\":{\"color\":\"#FF6692\",\"dash\":\"solid\"},\"marker\":{\"symbol\":\"circle\"},\"mode\":\"lines\",\"name\":\"Layer 5-Head 6\",\"showlegend\":true,\"x\":[512,1000,2000,3000,5000,10000,30000,90000,143000],\"xaxis\":\"x\",\"y\":[-1.7250821590423584,-0.24410243332386017,0.03444996103644371,-0.011312742717564106,0.2786824405193329,0.3823508620262146,0.6022648215293884,-0.01527706440538168,7.291500568389893],\"yaxis\":\"y\",\"type\":\"scattergl\"},{\"hovertemplate\":\"Layer-Head=Layer 5-Head 7\\u003cbr\\u003eCheckpoint=%{x}\\u003cbr\\u003eSelf Repair Score=%{y}\\u003cextra\\u003e\\u003c\\u002fextra\\u003e\",\"legendgroup\":\"Layer 5-Head 7\",\"line\":{\"color\":\"#B6E880\",\"dash\":\"solid\"},\"marker\":{\"symbol\":\"circle\"},\"mode\":\"lines\",\"name\":\"Layer 5-Head 7\",\"showlegend\":true,\"x\":[512,1000,2000,3000,5000,10000,30000,90000,143000],\"xaxis\":\"x\",\"y\":[0.40764424204826355,1.1691644191741943,2.777841567993164,-0.09118417650461197,0.04930339381098747,0.44473594427108765,0.7127660512924194,0.5506600141525269,0.2351350635290146],\"yaxis\":\"y\",\"type\":\"scattergl\"},{\"hovertemplate\":\"Layer-Head=Layer 5-Head 8\\u003cbr\\u003eCheckpoint=%{x}\\u003cbr\\u003eSelf Repair Score=%{y}\\u003cextra\\u003e\\u003c\\u002fextra\\u003e\",\"legendgroup\":\"Layer 5-Head 8\",\"line\":{\"color\":\"#FF97FF\",\"dash\":\"solid\"},\"marker\":{\"symbol\":\"circle\"},\"mode\":\"lines\",\"name\":\"Layer 5-Head 8\",\"showlegend\":true,\"x\":[512,1000,2000,3000,5000,10000,30000,90000,143000],\"xaxis\":\"x\",\"y\":[0.09243836998939514,-0.3262655436992645,-1.272079348564148,-2.5306615829467773,-3.052593946456909,-4.129241466522217,-3.838501214981079,-4.891396522521973,-3.7696237564086914],\"yaxis\":\"y\",\"type\":\"scattergl\"},{\"hovertemplate\":\"Layer-Head=Layer 5-Head 9\\u003cbr\\u003eCheckpoint=%{x}\\u003cbr\\u003eSelf Repair Score=%{y}\\u003cextra\\u003e\\u003c\\u002fextra\\u003e\",\"legendgroup\":\"Layer 5-Head 9\",\"line\":{\"color\":\"#FECB52\",\"dash\":\"solid\"},\"marker\":{\"symbol\":\"circle\"},\"mode\":\"lines\",\"name\":\"Layer 5-Head 9\",\"showlegend\":true,\"x\":[512,1000,2000,3000,5000,10000,30000,90000,143000],\"xaxis\":\"x\",\"y\":[-0.01960131712257862,0.1917256861925125,0.510657012462616,0.48377031087875366,0.3937479853630066,0.33994612097740173,0.17430901527404785,-0.7928298115730286,-0.389949768781662],\"yaxis\":\"y\",\"type\":\"scattergl\"},{\"hovertemplate\":\"Layer-Head=Layer 5-Head 10\\u003cbr\\u003eCheckpoint=%{x}\\u003cbr\\u003eSelf Repair Score=%{y}\\u003cextra\\u003e\\u003c\\u002fextra\\u003e\",\"legendgroup\":\"Layer 5-Head 10\",\"line\":{\"color\":\"#636efa\",\"dash\":\"solid\"},\"marker\":{\"symbol\":\"circle\"},\"mode\":\"lines\",\"name\":\"Layer 5-Head 10\",\"showlegend\":true,\"x\":[512,1000,2000,3000,5000,10000,30000,90000,143000],\"xaxis\":\"x\",\"y\":[-59.23223114013672,-0.2263377457857132,0.2941296398639679,0.2268504947423935,0.0814555436372757,-0.18206921219825745,-0.5845213532447815,1.9498777389526367,8.99057674407959],\"yaxis\":\"y\",\"type\":\"scattergl\"},{\"hovertemplate\":\"Layer-Head=Layer 5-Head 11\\u003cbr\\u003eCheckpoint=%{x}\\u003cbr\\u003eSelf Repair Score=%{y}\\u003cextra\\u003e\\u003c\\u002fextra\\u003e\",\"legendgroup\":\"Layer 5-Head 11\",\"line\":{\"color\":\"#EF553B\",\"dash\":\"solid\"},\"marker\":{\"symbol\":\"circle\"},\"mode\":\"lines\",\"name\":\"Layer 5-Head 11\",\"showlegend\":true,\"x\":[512,1000,2000,3000,5000,10000,30000,90000,143000],\"xaxis\":\"x\",\"y\":[0.29909783601760864,0.16792888939380646,0.6755483746528625,0.1993003487586975,-0.07906164973974228,-0.5890143513679504,-1.0290969610214233,-0.29642966389656067,-1.0407781600952148],\"yaxis\":\"y\",\"type\":\"scattergl\"},{\"hovertemplate\":\"Layer-Head=Layer 6-Head 0\\u003cbr\\u003eCheckpoint=%{x}\\u003cbr\\u003eSelf Repair Score=%{y}\\u003cextra\\u003e\\u003c\\u002fextra\\u003e\",\"legendgroup\":\"Layer 6-Head 0\",\"line\":{\"color\":\"#00cc96\",\"dash\":\"solid\"},\"marker\":{\"symbol\":\"circle\"},\"mode\":\"lines\",\"name\":\"Layer 6-Head 0\",\"showlegend\":true,\"x\":[512,1000,2000,3000,5000,10000,30000,90000,143000],\"xaxis\":\"x\",\"y\":[-0.10305789113044739,-0.42322269082069397,0.38970428705215454,0.1198006272315979,-0.27740541100502014,-0.7533791661262512,-1.662612795829773,-3.002821445465088,-1.5807595252990723],\"yaxis\":\"y\",\"type\":\"scattergl\"},{\"hovertemplate\":\"Layer-Head=Layer 6-Head 1\\u003cbr\\u003eCheckpoint=%{x}\\u003cbr\\u003eSelf Repair Score=%{y}\\u003cextra\\u003e\\u003c\\u002fextra\\u003e\",\"legendgroup\":\"Layer 6-Head 1\",\"line\":{\"color\":\"#ab63fa\",\"dash\":\"solid\"},\"marker\":{\"symbol\":\"circle\"},\"mode\":\"lines\",\"name\":\"Layer 6-Head 1\",\"showlegend\":true,\"x\":[512,1000,2000,3000,5000,10000,30000,90000,143000],\"xaxis\":\"x\",\"y\":[2.301715135574341,-0.18665088713169098,0.5409389734268188,0.6684590578079224,0.5670331716537476,0.5743046402931213,0.4954686462879181,0.2189234495162964,-0.6351913809776306],\"yaxis\":\"y\",\"type\":\"scattergl\"},{\"hovertemplate\":\"Layer-Head=Layer 6-Head 2\\u003cbr\\u003eCheckpoint=%{x}\\u003cbr\\u003eSelf Repair Score=%{y}\\u003cextra\\u003e\\u003c\\u002fextra\\u003e\",\"legendgroup\":\"Layer 6-Head 2\",\"line\":{\"color\":\"#FFA15A\",\"dash\":\"solid\"},\"marker\":{\"symbol\":\"circle\"},\"mode\":\"lines\",\"name\":\"Layer 6-Head 2\",\"showlegend\":true,\"x\":[512,1000,2000,3000,5000,10000,30000,90000,143000],\"xaxis\":\"x\",\"y\":[0.9285192489624023,1.0272947549819946,0.49593445658683777,-0.018090996891260147,-0.5012167692184448,-1.5197675228118896,-2.162170171737671,-2.2060446739196777,-0.9468557834625244],\"yaxis\":\"y\",\"type\":\"scattergl\"},{\"hovertemplate\":\"Layer-Head=Layer 6-Head 3\\u003cbr\\u003eCheckpoint=%{x}\\u003cbr\\u003eSelf Repair Score=%{y}\\u003cextra\\u003e\\u003c\\u002fextra\\u003e\",\"legendgroup\":\"Layer 6-Head 3\",\"line\":{\"color\":\"#19d3f3\",\"dash\":\"solid\"},\"marker\":{\"symbol\":\"circle\"},\"mode\":\"lines\",\"name\":\"Layer 6-Head 3\",\"showlegend\":true,\"x\":[512,1000,2000,3000,5000,10000,30000,90000,143000],\"xaxis\":\"x\",\"y\":[1.128137469291687,0.6450775861740112,0.7132177948951721,0.5574071407318115,0.3532944619655609,0.3854106068611145,-0.1617078334093094,-2.4402596950531006,-0.8256484270095825],\"yaxis\":\"y\",\"type\":\"scattergl\"},{\"hovertemplate\":\"Layer-Head=Layer 6-Head 4\\u003cbr\\u003eCheckpoint=%{x}\\u003cbr\\u003eSelf Repair Score=%{y}\\u003cextra\\u003e\\u003c\\u002fextra\\u003e\",\"legendgroup\":\"Layer 6-Head 4\",\"line\":{\"color\":\"#FF6692\",\"dash\":\"solid\"},\"marker\":{\"symbol\":\"circle\"},\"mode\":\"lines\",\"name\":\"Layer 6-Head 4\",\"showlegend\":true,\"x\":[512,1000,2000,3000,5000,10000,30000,90000,143000],\"xaxis\":\"x\",\"y\":[-2.297924280166626,-0.25049546360969543,0.39478421211242676,0.4056675434112549,0.2771691083908081,0.178418830037117,-0.05790599808096886,-0.12128795683383942,-0.39989808201789856],\"yaxis\":\"y\",\"type\":\"scattergl\"},{\"hovertemplate\":\"Layer-Head=Layer 6-Head 5\\u003cbr\\u003eCheckpoint=%{x}\\u003cbr\\u003eSelf Repair Score=%{y}\\u003cextra\\u003e\\u003c\\u002fextra\\u003e\",\"legendgroup\":\"Layer 6-Head 5\",\"line\":{\"color\":\"#B6E880\",\"dash\":\"solid\"},\"marker\":{\"symbol\":\"circle\"},\"mode\":\"lines\",\"name\":\"Layer 6-Head 5\",\"showlegend\":true,\"x\":[512,1000,2000,3000,5000,10000,30000,90000,143000],\"xaxis\":\"x\",\"y\":[0.8660494685173035,0.8751950263977051,6.970122814178467,9.828570365905762,-0.1482379138469696,-0.11363911628723145,-0.5287842154502869,4.223991870880127,-1.8417832851409912],\"yaxis\":\"y\",\"type\":\"scattergl\"},{\"hovertemplate\":\"Layer-Head=Layer 6-Head 6\\u003cbr\\u003eCheckpoint=%{x}\\u003cbr\\u003eSelf Repair Score=%{y}\\u003cextra\\u003e\\u003c\\u002fextra\\u003e\",\"legendgroup\":\"Layer 6-Head 6\",\"line\":{\"color\":\"#FF97FF\",\"dash\":\"solid\"},\"marker\":{\"symbol\":\"circle\"},\"mode\":\"lines\",\"name\":\"Layer 6-Head 6\",\"showlegend\":true,\"x\":[512,1000,2000,3000,5000,10000,30000,90000,143000],\"xaxis\":\"x\",\"y\":[-1.6481094360351562,-0.18362779915332794,0.23023319244384766,0.08969322592020035,0.13738402724266052,0.06288667768239975,-0.06937111914157867,-0.4423917531967163,-0.26520970463752747],\"yaxis\":\"y\",\"type\":\"scattergl\"},{\"hovertemplate\":\"Layer-Head=Layer 6-Head 7\\u003cbr\\u003eCheckpoint=%{x}\\u003cbr\\u003eSelf Repair Score=%{y}\\u003cextra\\u003e\\u003c\\u002fextra\\u003e\",\"legendgroup\":\"Layer 6-Head 7\",\"line\":{\"color\":\"#FECB52\",\"dash\":\"solid\"},\"marker\":{\"symbol\":\"circle\"},\"mode\":\"lines\",\"name\":\"Layer 6-Head 7\",\"showlegend\":true,\"x\":[512,1000,2000,3000,5000,10000,30000,90000,143000],\"xaxis\":\"x\",\"y\":[0.02636747993528843,0.7054203748703003,1.8606995344161987,1.1678426265716553,1.4115149974822998,-26.752775192260742,-0.2452041655778885,-0.8975121974945068,-0.2523637115955353],\"yaxis\":\"y\",\"type\":\"scattergl\"},{\"hovertemplate\":\"Layer-Head=Layer 6-Head 8\\u003cbr\\u003eCheckpoint=%{x}\\u003cbr\\u003eSelf Repair Score=%{y}\\u003cextra\\u003e\\u003c\\u002fextra\\u003e\",\"legendgroup\":\"Layer 6-Head 8\",\"line\":{\"color\":\"#636efa\",\"dash\":\"solid\"},\"marker\":{\"symbol\":\"circle\"},\"mode\":\"lines\",\"name\":\"Layer 6-Head 8\",\"showlegend\":true,\"x\":[512,1000,2000,3000,5000,10000,30000,90000,143000],\"xaxis\":\"x\",\"y\":[1.2030800580978394,0.4448612928390503,0.26608020067214966,1.458706021308899,2.2168772220611572,-2.2299861907958984,-2.338310480117798,-5.735233783721924,-1.8664637804031372],\"yaxis\":\"y\",\"type\":\"scattergl\"},{\"hovertemplate\":\"Layer-Head=Layer 6-Head 9\\u003cbr\\u003eCheckpoint=%{x}\\u003cbr\\u003eSelf Repair Score=%{y}\\u003cextra\\u003e\\u003c\\u002fextra\\u003e\",\"legendgroup\":\"Layer 6-Head 9\",\"line\":{\"color\":\"#EF553B\",\"dash\":\"solid\"},\"marker\":{\"symbol\":\"circle\"},\"mode\":\"lines\",\"name\":\"Layer 6-Head 9\",\"showlegend\":true,\"x\":[512,1000,2000,3000,5000,10000,30000,90000,143000],\"xaxis\":\"x\",\"y\":[0.8985803723335266,1.1207916736602783,1.7277368307113647,5.450345993041992,2.6026768684387207,1.7110530138015747,1.5390294790267944,0.1620984673500061,-1.120395302772522],\"yaxis\":\"y\",\"type\":\"scattergl\"},{\"hovertemplate\":\"Layer-Head=Layer 6-Head 10\\u003cbr\\u003eCheckpoint=%{x}\\u003cbr\\u003eSelf Repair Score=%{y}\\u003cextra\\u003e\\u003c\\u002fextra\\u003e\",\"legendgroup\":\"Layer 6-Head 10\",\"line\":{\"color\":\"#00cc96\",\"dash\":\"solid\"},\"marker\":{\"symbol\":\"circle\"},\"mode\":\"lines\",\"name\":\"Layer 6-Head 10\",\"showlegend\":true,\"x\":[512,1000,2000,3000,5000,10000,30000,90000,143000],\"xaxis\":\"x\",\"y\":[1.2233185768127441,1.1567014455795288,13.229116439819336,3.173666000366211,1.6030073165893555,11.74020767211914,-0.23717132210731506,-0.9259011745452881,-26.726356506347656],\"yaxis\":\"y\",\"type\":\"scattergl\"},{\"hovertemplate\":\"Layer-Head=Layer 6-Head 11\\u003cbr\\u003eCheckpoint=%{x}\\u003cbr\\u003eSelf Repair Score=%{y}\\u003cextra\\u003e\\u003c\\u002fextra\\u003e\",\"legendgroup\":\"Layer 6-Head 11\",\"line\":{\"color\":\"#ab63fa\",\"dash\":\"solid\"},\"marker\":{\"symbol\":\"circle\"},\"mode\":\"lines\",\"name\":\"Layer 6-Head 11\",\"showlegend\":true,\"x\":[512,1000,2000,3000,5000,10000,30000,90000,143000],\"xaxis\":\"x\",\"y\":[0.6364118456840515,1.4194014072418213,0.7058844566345215,0.1814066618680954,-0.20376995205879211,-0.45314863324165344,-0.9044511318206787,-10.818559646606445,-4.997003078460693],\"yaxis\":\"y\",\"type\":\"scattergl\"},{\"hovertemplate\":\"Layer-Head=Layer 7-Head 0\\u003cbr\\u003eCheckpoint=%{x}\\u003cbr\\u003eSelf Repair Score=%{y}\\u003cextra\\u003e\\u003c\\u002fextra\\u003e\",\"legendgroup\":\"Layer 7-Head 0\",\"line\":{\"color\":\"#FFA15A\",\"dash\":\"solid\"},\"marker\":{\"symbol\":\"circle\"},\"mode\":\"lines\",\"name\":\"Layer 7-Head 0\",\"showlegend\":true,\"x\":[512,1000,2000,3000,5000,10000,30000,90000,143000],\"xaxis\":\"x\",\"y\":[-0.15723271667957306,0.9509515166282654,0.6754992604255676,-20.076562881469727,0.3733682930469513,0.05676534026861191,-4.236100673675537,-5.184971332550049,22.47022819519043],\"yaxis\":\"y\",\"type\":\"scattergl\"},{\"hovertemplate\":\"Layer-Head=Layer 7-Head 1\\u003cbr\\u003eCheckpoint=%{x}\\u003cbr\\u003eSelf Repair Score=%{y}\\u003cextra\\u003e\\u003c\\u002fextra\\u003e\",\"legendgroup\":\"Layer 7-Head 1\",\"line\":{\"color\":\"#19d3f3\",\"dash\":\"solid\"},\"marker\":{\"symbol\":\"circle\"},\"mode\":\"lines\",\"name\":\"Layer 7-Head 1\",\"showlegend\":true,\"x\":[512,1000,2000,3000,5000,10000,30000,90000,143000],\"xaxis\":\"x\",\"y\":[1.0192432403564453,1.0131425857543945,0.5323635339736938,0.039267320185899734,-1.79570472240448,-1.5115197896957397,-1.0758696794509888,-2.037693738937378,-1.29153311252594],\"yaxis\":\"y\",\"type\":\"scattergl\"},{\"hovertemplate\":\"Layer-Head=Layer 7-Head 2\\u003cbr\\u003eCheckpoint=%{x}\\u003cbr\\u003eSelf Repair Score=%{y}\\u003cextra\\u003e\\u003c\\u002fextra\\u003e\",\"legendgroup\":\"Layer 7-Head 2\",\"line\":{\"color\":\"#FF6692\",\"dash\":\"solid\"},\"marker\":{\"symbol\":\"circle\"},\"mode\":\"lines\",\"name\":\"Layer 7-Head 2\",\"showlegend\":true,\"x\":[512,1000,2000,3000,5000,10000,30000,90000,143000],\"xaxis\":\"x\",\"y\":[1.0610377788543701,0.8651305437088013,-0.1982729434967041,0.8202440142631531,0.7107398509979248,-0.05591495335102081,-0.48040491342544556,-1.2117254734039307,0.1593988686800003],\"yaxis\":\"y\",\"type\":\"scattergl\"},{\"hovertemplate\":\"Layer-Head=Layer 7-Head 3\\u003cbr\\u003eCheckpoint=%{x}\\u003cbr\\u003eSelf Repair Score=%{y}\\u003cextra\\u003e\\u003c\\u002fextra\\u003e\",\"legendgroup\":\"Layer 7-Head 3\",\"line\":{\"color\":\"#B6E880\",\"dash\":\"solid\"},\"marker\":{\"symbol\":\"circle\"},\"mode\":\"lines\",\"name\":\"Layer 7-Head 3\",\"showlegend\":true,\"x\":[512,1000,2000,3000,5000,10000,30000,90000,143000],\"xaxis\":\"x\",\"y\":[-2.446216106414795,1.4070091247558594,1.815953016281128,-0.8880776762962341,0.35638317465782166,0.3489287793636322,-2.4066648483276367,-0.5874864459037781,-2.3566205501556396],\"yaxis\":\"y\",\"type\":\"scattergl\"},{\"hovertemplate\":\"Layer-Head=Layer 7-Head 4\\u003cbr\\u003eCheckpoint=%{x}\\u003cbr\\u003eSelf Repair Score=%{y}\\u003cextra\\u003e\\u003c\\u002fextra\\u003e\",\"legendgroup\":\"Layer 7-Head 4\",\"line\":{\"color\":\"#FF97FF\",\"dash\":\"solid\"},\"marker\":{\"symbol\":\"circle\"},\"mode\":\"lines\",\"name\":\"Layer 7-Head 4\",\"showlegend\":true,\"x\":[512,1000,2000,3000,5000,10000,30000,90000,143000],\"xaxis\":\"x\",\"y\":[0.28176453709602356,-0.49224355816841125,0.04919601231813431,1.1848934888839722,1.7053419351577759,0.6269592046737671,0.5611681938171387,-0.34601277112960815,-1.3944646120071411],\"yaxis\":\"y\",\"type\":\"scattergl\"},{\"hovertemplate\":\"Layer-Head=Layer 7-Head 5\\u003cbr\\u003eCheckpoint=%{x}\\u003cbr\\u003eSelf Repair Score=%{y}\\u003cextra\\u003e\\u003c\\u002fextra\\u003e\",\"legendgroup\":\"Layer 7-Head 5\",\"line\":{\"color\":\"#FECB52\",\"dash\":\"solid\"},\"marker\":{\"symbol\":\"circle\"},\"mode\":\"lines\",\"name\":\"Layer 7-Head 5\",\"showlegend\":true,\"x\":[512,1000,2000,3000,5000,10000,30000,90000,143000],\"xaxis\":\"x\",\"y\":[1.1760237216949463,0.8532406687736511,0.8792872428894043,0.8808305859565735,0.5050713419914246,-2.0022284984588623,-1.541247010231018,-1.0225528478622437,4.719651222229004],\"yaxis\":\"y\",\"type\":\"scattergl\"},{\"hovertemplate\":\"Layer-Head=Layer 7-Head 6\\u003cbr\\u003eCheckpoint=%{x}\\u003cbr\\u003eSelf Repair Score=%{y}\\u003cextra\\u003e\\u003c\\u002fextra\\u003e\",\"legendgroup\":\"Layer 7-Head 6\",\"line\":{\"color\":\"#636efa\",\"dash\":\"solid\"},\"marker\":{\"symbol\":\"circle\"},\"mode\":\"lines\",\"name\":\"Layer 7-Head 6\",\"showlegend\":true,\"x\":[512,1000,2000,3000,5000,10000,30000,90000,143000],\"xaxis\":\"x\",\"y\":[0.9428349137306213,0.8672233819961548,1.225075125694275,1.2923915386199951,1.3010413646697998,1.1675889492034912,0.9049396514892578,0.6627765893936157,1.7063463926315308],\"yaxis\":\"y\",\"type\":\"scattergl\"},{\"hovertemplate\":\"Layer-Head=Layer 7-Head 7\\u003cbr\\u003eCheckpoint=%{x}\\u003cbr\\u003eSelf Repair Score=%{y}\\u003cextra\\u003e\\u003c\\u002fextra\\u003e\",\"legendgroup\":\"Layer 7-Head 7\",\"line\":{\"color\":\"#EF553B\",\"dash\":\"solid\"},\"marker\":{\"symbol\":\"circle\"},\"mode\":\"lines\",\"name\":\"Layer 7-Head 7\",\"showlegend\":true,\"x\":[512,1000,2000,3000,5000,10000,30000,90000,143000],\"xaxis\":\"x\",\"y\":[0.7422524094581604,0.8945423364639282,0.5860734581947327,-0.10943681001663208,-0.5715655088424683,-1.4442291259765625,-2.0105011463165283,-2.357523202896118,-3.310333728790283],\"yaxis\":\"y\",\"type\":\"scattergl\"},{\"hovertemplate\":\"Layer-Head=Layer 7-Head 8\\u003cbr\\u003eCheckpoint=%{x}\\u003cbr\\u003eSelf Repair Score=%{y}\\u003cextra\\u003e\\u003c\\u002fextra\\u003e\",\"legendgroup\":\"Layer 7-Head 8\",\"line\":{\"color\":\"#00cc96\",\"dash\":\"solid\"},\"marker\":{\"symbol\":\"circle\"},\"mode\":\"lines\",\"name\":\"Layer 7-Head 8\",\"showlegend\":true,\"x\":[512,1000,2000,3000,5000,10000,30000,90000,143000],\"xaxis\":\"x\",\"y\":[0.2569282352924347,0.6034530401229858,0.21239417791366577,0.2369476854801178,0.05764817073941231,-0.6913606524467468,-1.3225828409194946,-2.360485792160034,-1.4453009366989136],\"yaxis\":\"y\",\"type\":\"scattergl\"},{\"hovertemplate\":\"Layer-Head=Layer 7-Head 9\\u003cbr\\u003eCheckpoint=%{x}\\u003cbr\\u003eSelf Repair Score=%{y}\\u003cextra\\u003e\\u003c\\u002fextra\\u003e\",\"legendgroup\":\"Layer 7-Head 9\",\"line\":{\"color\":\"#ab63fa\",\"dash\":\"solid\"},\"marker\":{\"symbol\":\"circle\"},\"mode\":\"lines\",\"name\":\"Layer 7-Head 9\",\"showlegend\":true,\"x\":[512,1000,2000,3000,5000,10000,30000,90000,143000],\"xaxis\":\"x\",\"y\":[0.721065104007721,0.9537506103515625,0.5950663089752197,0.7411801815032959,-0.11479029059410095,0.3111671805381775,-0.37379443645477295,-1.3517920970916748,-1.0194401741027832],\"yaxis\":\"y\",\"type\":\"scattergl\"},{\"hovertemplate\":\"Layer-Head=Layer 7-Head 10\\u003cbr\\u003eCheckpoint=%{x}\\u003cbr\\u003eSelf Repair Score=%{y}\\u003cextra\\u003e\\u003c\\u002fextra\\u003e\",\"legendgroup\":\"Layer 7-Head 10\",\"line\":{\"color\":\"#FFA15A\",\"dash\":\"solid\"},\"marker\":{\"symbol\":\"circle\"},\"mode\":\"lines\",\"name\":\"Layer 7-Head 10\",\"showlegend\":true,\"x\":[512,1000,2000,3000,5000,10000,30000,90000,143000],\"xaxis\":\"x\",\"y\":[1.1660223007202148,0.9635664224624634,0.42990612983703613,0.5522341728210449,0.5144105553627014,0.3140943646430969,0.3310618996620178,1.1965694427490234,1.2505347728729248],\"yaxis\":\"y\",\"type\":\"scattergl\"},{\"hovertemplate\":\"Layer-Head=Layer 7-Head 11\\u003cbr\\u003eCheckpoint=%{x}\\u003cbr\\u003eSelf Repair Score=%{y}\\u003cextra\\u003e\\u003c\\u002fextra\\u003e\",\"legendgroup\":\"Layer 7-Head 11\",\"line\":{\"color\":\"#19d3f3\",\"dash\":\"solid\"},\"marker\":{\"symbol\":\"circle\"},\"mode\":\"lines\",\"name\":\"Layer 7-Head 11\",\"showlegend\":true,\"x\":[512,1000,2000,3000,5000,10000,30000,90000,143000],\"xaxis\":\"x\",\"y\":[-17.405324935913086,1.1387330293655396,0.9391589760780334,0.27176836133003235,-0.40501999855041504,-1.8610862493515015,-1.9556330442428589,2.7333896160125732,2.7046868801116943],\"yaxis\":\"y\",\"type\":\"scattergl\"},{\"hovertemplate\":\"Layer-Head=Layer 8-Head 0\\u003cbr\\u003eCheckpoint=%{x}\\u003cbr\\u003eSelf Repair Score=%{y}\\u003cextra\\u003e\\u003c\\u002fextra\\u003e\",\"legendgroup\":\"Layer 8-Head 0\",\"line\":{\"color\":\"#FF6692\",\"dash\":\"solid\"},\"marker\":{\"symbol\":\"circle\"},\"mode\":\"lines\",\"name\":\"Layer 8-Head 0\",\"showlegend\":true,\"x\":[512,1000,2000,3000,5000,10000,30000,90000,143000],\"xaxis\":\"x\",\"y\":[1.352836012840271,1.3567286729812622,-13.524765968322754,-0.23933152854442596,-1.8595142364501953,0.24428637325763702,-0.1394510120153427,0.29560285806655884,-0.035064004361629486],\"yaxis\":\"y\",\"type\":\"scattergl\"},{\"hovertemplate\":\"Layer-Head=Layer 8-Head 1\\u003cbr\\u003eCheckpoint=%{x}\\u003cbr\\u003eSelf Repair Score=%{y}\\u003cextra\\u003e\\u003c\\u002fextra\\u003e\",\"legendgroup\":\"Layer 8-Head 1\",\"line\":{\"color\":\"#B6E880\",\"dash\":\"solid\"},\"marker\":{\"symbol\":\"circle\"},\"mode\":\"lines\",\"name\":\"Layer 8-Head 1\",\"showlegend\":true,\"x\":[512,1000,2000,3000,5000,10000,30000,90000,143000],\"xaxis\":\"x\",\"y\":[-0.909989058971405,0.9258961081504822,0.46521809697151184,0.1126789078116417,-0.03136785328388214,-0.03606633469462395,-0.003158497391268611,-0.36450332403182983,0.17410053312778473],\"yaxis\":\"y\",\"type\":\"scattergl\"},{\"hovertemplate\":\"Layer-Head=Layer 8-Head 2\\u003cbr\\u003eCheckpoint=%{x}\\u003cbr\\u003eSelf Repair Score=%{y}\\u003cextra\\u003e\\u003c\\u002fextra\\u003e\",\"legendgroup\":\"Layer 8-Head 2\",\"line\":{\"color\":\"#FF97FF\",\"dash\":\"solid\"},\"marker\":{\"symbol\":\"circle\"},\"mode\":\"lines\",\"name\":\"Layer 8-Head 2\",\"showlegend\":true,\"x\":[512,1000,2000,3000,5000,10000,30000,90000,143000],\"xaxis\":\"x\",\"y\":[-0.13831020891666412,0.7965527772903442,0.5757500529289246,-0.06199366971850395,0.1576845794916153,0.14918307960033417,0.29047659039497375,0.5701669454574585,0.5996230840682983],\"yaxis\":\"y\",\"type\":\"scattergl\"},{\"hovertemplate\":\"Layer-Head=Layer 8-Head 3\\u003cbr\\u003eCheckpoint=%{x}\\u003cbr\\u003eSelf Repair Score=%{y}\\u003cextra\\u003e\\u003c\\u002fextra\\u003e\",\"legendgroup\":\"Layer 8-Head 3\",\"line\":{\"color\":\"#FECB52\",\"dash\":\"solid\"},\"marker\":{\"symbol\":\"circle\"},\"mode\":\"lines\",\"name\":\"Layer 8-Head 3\",\"showlegend\":true,\"x\":[512,1000,2000,3000,5000,10000,30000,90000,143000],\"xaxis\":\"x\",\"y\":[0.35838738083839417,0.8209765553474426,0.9487213492393494,0.8430356979370117,0.7543790936470032,0.20542767643928528,0.2914266884326935,0.4929332435131073,0.37405312061309814],\"yaxis\":\"y\",\"type\":\"scattergl\"},{\"hovertemplate\":\"Layer-Head=Layer 8-Head 4\\u003cbr\\u003eCheckpoint=%{x}\\u003cbr\\u003eSelf Repair Score=%{y}\\u003cextra\\u003e\\u003c\\u002fextra\\u003e\",\"legendgroup\":\"Layer 8-Head 4\",\"line\":{\"color\":\"#636efa\",\"dash\":\"solid\"},\"marker\":{\"symbol\":\"circle\"},\"mode\":\"lines\",\"name\":\"Layer 8-Head 4\",\"showlegend\":true,\"x\":[512,1000,2000,3000,5000,10000,30000,90000,143000],\"xaxis\":\"x\",\"y\":[3.883469820022583,0.8267820477485657,0.8223687410354614,-0.21892331540584564,0.25817468762397766,-0.11042376607656479,-0.7875173687934875,-1.1839210987091064,-0.8579643368721008],\"yaxis\":\"y\",\"type\":\"scattergl\"},{\"hovertemplate\":\"Layer-Head=Layer 8-Head 5\\u003cbr\\u003eCheckpoint=%{x}\\u003cbr\\u003eSelf Repair Score=%{y}\\u003cextra\\u003e\\u003c\\u002fextra\\u003e\",\"legendgroup\":\"Layer 8-Head 5\",\"line\":{\"color\":\"#EF553B\",\"dash\":\"solid\"},\"marker\":{\"symbol\":\"circle\"},\"mode\":\"lines\",\"name\":\"Layer 8-Head 5\",\"showlegend\":true,\"x\":[512,1000,2000,3000,5000,10000,30000,90000,143000],\"xaxis\":\"x\",\"y\":[0.8095330595970154,1.0588393211364746,0.5581267476081848,0.38323813676834106,0.26882949471473694,0.32897239923477173,0.32949140667915344,0.3513805568218231,0.501078724861145],\"yaxis\":\"y\",\"type\":\"scattergl\"},{\"hovertemplate\":\"Layer-Head=Layer 8-Head 6\\u003cbr\\u003eCheckpoint=%{x}\\u003cbr\\u003eSelf Repair Score=%{y}\\u003cextra\\u003e\\u003c\\u002fextra\\u003e\",\"legendgroup\":\"Layer 8-Head 6\",\"line\":{\"color\":\"#00cc96\",\"dash\":\"solid\"},\"marker\":{\"symbol\":\"circle\"},\"mode\":\"lines\",\"name\":\"Layer 8-Head 6\",\"showlegend\":true,\"x\":[512,1000,2000,3000,5000,10000,30000,90000,143000],\"xaxis\":\"x\",\"y\":[-2.973336696624756,1.0048836469650269,6.418487071990967,0.7407787442207336,0.8062648177146912,0.7507686018943787,0.4386966824531555,1.1775238513946533,1.3487399816513062],\"yaxis\":\"y\",\"type\":\"scattergl\"},{\"hovertemplate\":\"Layer-Head=Layer 8-Head 7\\u003cbr\\u003eCheckpoint=%{x}\\u003cbr\\u003eSelf Repair Score=%{y}\\u003cextra\\u003e\\u003c\\u002fextra\\u003e\",\"legendgroup\":\"Layer 8-Head 7\",\"line\":{\"color\":\"#ab63fa\",\"dash\":\"solid\"},\"marker\":{\"symbol\":\"circle\"},\"mode\":\"lines\",\"name\":\"Layer 8-Head 7\",\"showlegend\":true,\"x\":[512,1000,2000,3000,5000,10000,30000,90000,143000],\"xaxis\":\"x\",\"y\":[0.656729519367218,1.0119895935058594,0.683134913444519,0.6638367176055908,0.7143038511276245,0.8179712295532227,1.0783599615097046,9.749261856079102,-0.23753923177719116],\"yaxis\":\"y\",\"type\":\"scattergl\"},{\"hovertemplate\":\"Layer-Head=Layer 8-Head 8\\u003cbr\\u003eCheckpoint=%{x}\\u003cbr\\u003eSelf Repair Score=%{y}\\u003cextra\\u003e\\u003c\\u002fextra\\u003e\",\"legendgroup\":\"Layer 8-Head 8\",\"line\":{\"color\":\"#FFA15A\",\"dash\":\"solid\"},\"marker\":{\"symbol\":\"circle\"},\"mode\":\"lines\",\"name\":\"Layer 8-Head 8\",\"showlegend\":true,\"x\":[512,1000,2000,3000,5000,10000,30000,90000,143000],\"xaxis\":\"x\",\"y\":[0.2853301167488098,0.916858971118927,2.541367530822754,-0.37501993775367737,0.15870332717895508,0.3917180597782135,0.6137104034423828,0.6057559847831726,0.47936195135116577],\"yaxis\":\"y\",\"type\":\"scattergl\"},{\"hovertemplate\":\"Layer-Head=Layer 8-Head 9\\u003cbr\\u003eCheckpoint=%{x}\\u003cbr\\u003eSelf Repair Score=%{y}\\u003cextra\\u003e\\u003c\\u002fextra\\u003e\",\"legendgroup\":\"Layer 8-Head 9\",\"line\":{\"color\":\"#19d3f3\",\"dash\":\"solid\"},\"marker\":{\"symbol\":\"circle\"},\"mode\":\"lines\",\"name\":\"Layer 8-Head 9\",\"showlegend\":true,\"x\":[512,1000,2000,3000,5000,10000,30000,90000,143000],\"xaxis\":\"x\",\"y\":[-2.2486507892608643,0.12489566206932068,0.48742976784706116,0.3534512519836426,0.2832608222961426,0.4330708384513855,0.7891231179237366,8.820341110229492,-1.4035476446151733],\"yaxis\":\"y\",\"type\":\"scattergl\"},{\"hovertemplate\":\"Layer-Head=Layer 8-Head 10\\u003cbr\\u003eCheckpoint=%{x}\\u003cbr\\u003eSelf Repair Score=%{y}\\u003cextra\\u003e\\u003c\\u002fextra\\u003e\",\"legendgroup\":\"Layer 8-Head 10\",\"line\":{\"color\":\"#FF6692\",\"dash\":\"solid\"},\"marker\":{\"symbol\":\"circle\"},\"mode\":\"lines\",\"name\":\"Layer 8-Head 10\",\"showlegend\":true,\"x\":[512,1000,2000,3000,5000,10000,30000,90000,143000],\"xaxis\":\"x\",\"y\":[1.4438331127166748,0.9466513395309448,0.49026191234588623,0.05648026615381241,0.054681435227394104,0.18212687969207764,0.11763398349285126,-0.18181674182415009,0.2779352068901062],\"yaxis\":\"y\",\"type\":\"scattergl\"},{\"hovertemplate\":\"Layer-Head=Layer 8-Head 11\\u003cbr\\u003eCheckpoint=%{x}\\u003cbr\\u003eSelf Repair Score=%{y}\\u003cextra\\u003e\\u003c\\u002fextra\\u003e\",\"legendgroup\":\"Layer 8-Head 11\",\"line\":{\"color\":\"#B6E880\",\"dash\":\"solid\"},\"marker\":{\"symbol\":\"circle\"},\"mode\":\"lines\",\"name\":\"Layer 8-Head 11\",\"showlegend\":true,\"x\":[512,1000,2000,3000,5000,10000,30000,90000,143000],\"xaxis\":\"x\",\"y\":[0.8091768622398376,1.201197862625122,3.8499624729156494,19.568416595458984,-0.6068341732025146,-0.07642677426338196,0.02731228433549404,-0.04693802818655968,0.4089834690093994],\"yaxis\":\"y\",\"type\":\"scattergl\"},{\"hovertemplate\":\"Layer-Head=Layer 9-Head 0\\u003cbr\\u003eCheckpoint=%{x}\\u003cbr\\u003eSelf Repair Score=%{y}\\u003cextra\\u003e\\u003c\\u002fextra\\u003e\",\"legendgroup\":\"Layer 9-Head 0\",\"line\":{\"color\":\"#FF97FF\",\"dash\":\"solid\"},\"marker\":{\"symbol\":\"circle\"},\"mode\":\"lines\",\"name\":\"Layer 9-Head 0\",\"showlegend\":true,\"x\":[512,1000,2000,3000,5000,10000,30000,90000,143000],\"xaxis\":\"x\",\"y\":[0.6767091155052185,0.5641291737556458,1.458292841911316,1.1214536428451538,-1.2971205711364746,0.6291165947914124,0.9474204182624817,1.0761027336120605,8.620246887207031],\"yaxis\":\"y\",\"type\":\"scattergl\"},{\"hovertemplate\":\"Layer-Head=Layer 9-Head 1\\u003cbr\\u003eCheckpoint=%{x}\\u003cbr\\u003eSelf Repair Score=%{y}\\u003cextra\\u003e\\u003c\\u002fextra\\u003e\",\"legendgroup\":\"Layer 9-Head 1\",\"line\":{\"color\":\"#FECB52\",\"dash\":\"solid\"},\"marker\":{\"symbol\":\"circle\"},\"mode\":\"lines\",\"name\":\"Layer 9-Head 1\",\"showlegend\":true,\"x\":[512,1000,2000,3000,5000,10000,30000,90000,143000],\"xaxis\":\"x\",\"y\":[0.6833100914955139,1.205448031425476,1.131662130355835,0.6898131966590881,0.7488760948181152,0.7335681319236755,0.6776183247566223,1.0076708793640137,0.6265684962272644],\"yaxis\":\"y\",\"type\":\"scattergl\"},{\"hovertemplate\":\"Layer-Head=Layer 9-Head 2\\u003cbr\\u003eCheckpoint=%{x}\\u003cbr\\u003eSelf Repair Score=%{y}\\u003cextra\\u003e\\u003c\\u002fextra\\u003e\",\"legendgroup\":\"Layer 9-Head 2\",\"line\":{\"color\":\"#636efa\",\"dash\":\"solid\"},\"marker\":{\"symbol\":\"circle\"},\"mode\":\"lines\",\"name\":\"Layer 9-Head 2\",\"showlegend\":true,\"x\":[512,1000,2000,3000,5000,10000,30000,90000,143000],\"xaxis\":\"x\",\"y\":[0.6881821155548096,0.8264681100845337,0.7114773988723755,0.3679385185241699,-0.18985149264335632,-0.28029200434684753,-2.793957233428955,-0.018773457035422325,0.1251944750547409],\"yaxis\":\"y\",\"type\":\"scattergl\"},{\"hovertemplate\":\"Layer-Head=Layer 9-Head 3\\u003cbr\\u003eCheckpoint=%{x}\\u003cbr\\u003eSelf Repair Score=%{y}\\u003cextra\\u003e\\u003c\\u002fextra\\u003e\",\"legendgroup\":\"Layer 9-Head 3\",\"line\":{\"color\":\"#EF553B\",\"dash\":\"solid\"},\"marker\":{\"symbol\":\"circle\"},\"mode\":\"lines\",\"name\":\"Layer 9-Head 3\",\"showlegend\":true,\"x\":[512,1000,2000,3000,5000,10000,30000,90000,143000],\"xaxis\":\"x\",\"y\":[0.8652638792991638,0.7179396748542786,0.40292486548423767,0.1376083940267563,0.07431653141975403,-0.0016845837235450745,-0.052583519369363785,-0.212991401553154,-0.06787675619125366],\"yaxis\":\"y\",\"type\":\"scattergl\"},{\"hovertemplate\":\"Layer-Head=Layer 9-Head 4\\u003cbr\\u003eCheckpoint=%{x}\\u003cbr\\u003eSelf Repair Score=%{y}\\u003cextra\\u003e\\u003c\\u002fextra\\u003e\",\"legendgroup\":\"Layer 9-Head 4\",\"line\":{\"color\":\"#00cc96\",\"dash\":\"solid\"},\"marker\":{\"symbol\":\"circle\"},\"mode\":\"lines\",\"name\":\"Layer 9-Head 4\",\"showlegend\":true,\"x\":[512,1000,2000,3000,5000,10000,30000,90000,143000],\"xaxis\":\"x\",\"y\":[1.241793155670166,0.904061496257782,-0.7050341367721558,0.4413730204105377,0.105760358273983,0.2205563336610794,0.22850358486175537,0.38272824883461,0.3886047303676605],\"yaxis\":\"y\",\"type\":\"scattergl\"},{\"hovertemplate\":\"Layer-Head=Layer 9-Head 5\\u003cbr\\u003eCheckpoint=%{x}\\u003cbr\\u003eSelf Repair Score=%{y}\\u003cextra\\u003e\\u003c\\u002fextra\\u003e\",\"legendgroup\":\"Layer 9-Head 5\",\"line\":{\"color\":\"#ab63fa\",\"dash\":\"solid\"},\"marker\":{\"symbol\":\"circle\"},\"mode\":\"lines\",\"name\":\"Layer 9-Head 5\",\"showlegend\":true,\"x\":[512,1000,2000,3000,5000,10000,30000,90000,143000],\"xaxis\":\"x\",\"y\":[1.6642400026321411,0.5849124789237976,6.664641857147217,1.0154362916946411,1.0122642517089844,0.9960350394248962,0.4942648410797119,0.669966995716095,-13.335295677185059],\"yaxis\":\"y\",\"type\":\"scattergl\"},{\"hovertemplate\":\"Layer-Head=Layer 9-Head 6\\u003cbr\\u003eCheckpoint=%{x}\\u003cbr\\u003eSelf Repair Score=%{y}\\u003cextra\\u003e\\u003c\\u002fextra\\u003e\",\"legendgroup\":\"Layer 9-Head 6\",\"line\":{\"color\":\"#FFA15A\",\"dash\":\"solid\"},\"marker\":{\"symbol\":\"circle\"},\"mode\":\"lines\",\"name\":\"Layer 9-Head 6\",\"showlegend\":true,\"x\":[512,1000,2000,3000,5000,10000,30000,90000,143000],\"xaxis\":\"x\",\"y\":[1.29973304271698,-13.507784843444824,0.9377389550209045,-0.795117199420929,-2.0275542736053467,-0.5656401515007019,0.09450506418943405,0.16490750014781952,0.22015388309955597],\"yaxis\":\"y\",\"type\":\"scattergl\"},{\"hovertemplate\":\"Layer-Head=Layer 9-Head 7\\u003cbr\\u003eCheckpoint=%{x}\\u003cbr\\u003eSelf Repair Score=%{y}\\u003cextra\\u003e\\u003c\\u002fextra\\u003e\",\"legendgroup\":\"Layer 9-Head 7\",\"line\":{\"color\":\"#19d3f3\",\"dash\":\"solid\"},\"marker\":{\"symbol\":\"circle\"},\"mode\":\"lines\",\"name\":\"Layer 9-Head 7\",\"showlegend\":true,\"x\":[512,1000,2000,3000,5000,10000,30000,90000,143000],\"xaxis\":\"x\",\"y\":[0.9052668213844299,0.9255069494247437,0.30679816007614136,0.021485691890120506,-0.1672578901052475,-0.18208801746368408,-0.15434154868125916,-0.07204925268888474,0.21913661062717438],\"yaxis\":\"y\",\"type\":\"scattergl\"},{\"hovertemplate\":\"Layer-Head=Layer 9-Head 8\\u003cbr\\u003eCheckpoint=%{x}\\u003cbr\\u003eSelf Repair Score=%{y}\\u003cextra\\u003e\\u003c\\u002fextra\\u003e\",\"legendgroup\":\"Layer 9-Head 8\",\"line\":{\"color\":\"#FF6692\",\"dash\":\"solid\"},\"marker\":{\"symbol\":\"circle\"},\"mode\":\"lines\",\"name\":\"Layer 9-Head 8\",\"showlegend\":true,\"x\":[512,1000,2000,3000,5000,10000,30000,90000,143000],\"xaxis\":\"x\",\"y\":[0.9180939197540283,0.9360324740409851,0.47808483242988586,0.0723821148276329,-0.20865881443023682,-0.19144971668720245,-0.10944131016731262,-0.7449347376823425,0.09760790318250656],\"yaxis\":\"y\",\"type\":\"scattergl\"},{\"hovertemplate\":\"Layer-Head=Layer 9-Head 9\\u003cbr\\u003eCheckpoint=%{x}\\u003cbr\\u003eSelf Repair Score=%{y}\\u003cextra\\u003e\\u003c\\u002fextra\\u003e\",\"legendgroup\":\"Layer 9-Head 9\",\"line\":{\"color\":\"#B6E880\",\"dash\":\"solid\"},\"marker\":{\"symbol\":\"circle\"},\"mode\":\"lines\",\"name\":\"Layer 9-Head 9\",\"showlegend\":true,\"x\":[512,1000,2000,3000,5000,10000,30000,90000,143000],\"xaxis\":\"x\",\"y\":[0.24116262793540955,1.3505452871322632,1.1091612577438354,1.4534536600112915,-1.8446711301803589,-0.08050811290740967,0.11644788086414337,0.402048259973526,0.36710676550865173],\"yaxis\":\"y\",\"type\":\"scattergl\"},{\"hovertemplate\":\"Layer-Head=Layer 9-Head 10\\u003cbr\\u003eCheckpoint=%{x}\\u003cbr\\u003eSelf Repair Score=%{y}\\u003cextra\\u003e\\u003c\\u002fextra\\u003e\",\"legendgroup\":\"Layer 9-Head 10\",\"line\":{\"color\":\"#FF97FF\",\"dash\":\"solid\"},\"marker\":{\"symbol\":\"circle\"},\"mode\":\"lines\",\"name\":\"Layer 9-Head 10\",\"showlegend\":true,\"x\":[512,1000,2000,3000,5000,10000,30000,90000,143000],\"xaxis\":\"x\",\"y\":[0.9102004170417786,0.043009355664253235,-0.39414161443710327,6.108905792236328,-1.5047224760055542,-0.22476014494895935,0.005711160134524107,-0.04666929319500923,-0.566155195236206],\"yaxis\":\"y\",\"type\":\"scattergl\"},{\"hovertemplate\":\"Layer-Head=Layer 9-Head 11\\u003cbr\\u003eCheckpoint=%{x}\\u003cbr\\u003eSelf Repair Score=%{y}\\u003cextra\\u003e\\u003c\\u002fextra\\u003e\",\"legendgroup\":\"Layer 9-Head 11\",\"line\":{\"color\":\"#FECB52\",\"dash\":\"solid\"},\"marker\":{\"symbol\":\"circle\"},\"mode\":\"lines\",\"name\":\"Layer 9-Head 11\",\"showlegend\":true,\"x\":[512,1000,2000,3000,5000,10000,30000,90000,143000],\"xaxis\":\"x\",\"y\":[1.2899246215820312,0.8968572020530701,0.9873669743537903,0.9996896982192993,1.1953668594360352,0.511811375617981,0.9149309396743774,1.960801362991333,4.114312171936035],\"yaxis\":\"y\",\"type\":\"scattergl\"},{\"hovertemplate\":\"Layer-Head=Layer 10-Head 0\\u003cbr\\u003eCheckpoint=%{x}\\u003cbr\\u003eSelf Repair Score=%{y}\\u003cextra\\u003e\\u003c\\u002fextra\\u003e\",\"legendgroup\":\"Layer 10-Head 0\",\"line\":{\"color\":\"#636efa\",\"dash\":\"solid\"},\"marker\":{\"symbol\":\"circle\"},\"mode\":\"lines\",\"name\":\"Layer 10-Head 0\",\"showlegend\":true,\"x\":[512,1000,2000,3000,5000,10000,30000,90000,143000],\"xaxis\":\"x\",\"y\":[1.4638471603393555,0.7685673236846924,0.71433025598526,0.7282993793487549,0.5066998600959778,0.6046916246414185,0.6636453866958618,0.6566725969314575,0.4444672465324402],\"yaxis\":\"y\",\"type\":\"scattergl\"},{\"hovertemplate\":\"Layer-Head=Layer 10-Head 1\\u003cbr\\u003eCheckpoint=%{x}\\u003cbr\\u003eSelf Repair Score=%{y}\\u003cextra\\u003e\\u003c\\u002fextra\\u003e\",\"legendgroup\":\"Layer 10-Head 1\",\"line\":{\"color\":\"#EF553B\",\"dash\":\"solid\"},\"marker\":{\"symbol\":\"circle\"},\"mode\":\"lines\",\"name\":\"Layer 10-Head 1\",\"showlegend\":true,\"x\":[512,1000,2000,3000,5000,10000,30000,90000,143000],\"xaxis\":\"x\",\"y\":[0.9241775870323181,0.8193287253379822,0.49870485067367554,0.2896900177001953,0.32381853461265564,0.330354779958725,-0.07360657304525375,0.1332530677318573,-0.0769040510058403],\"yaxis\":\"y\",\"type\":\"scattergl\"},{\"hovertemplate\":\"Layer-Head=Layer 10-Head 2\\u003cbr\\u003eCheckpoint=%{x}\\u003cbr\\u003eSelf Repair Score=%{y}\\u003cextra\\u003e\\u003c\\u002fextra\\u003e\",\"legendgroup\":\"Layer 10-Head 2\",\"line\":{\"color\":\"#00cc96\",\"dash\":\"solid\"},\"marker\":{\"symbol\":\"circle\"},\"mode\":\"lines\",\"name\":\"Layer 10-Head 2\",\"showlegend\":true,\"x\":[512,1000,2000,3000,5000,10000,30000,90000,143000],\"xaxis\":\"x\",\"y\":[0.9044188261032104,0.9877055287361145,0.6062214374542236,0.2887774407863617,0.03371337056159973,0.9393329620361328,0.3523709177970886,-0.2880932092666626,1.6871670484542847],\"yaxis\":\"y\",\"type\":\"scattergl\"},{\"hovertemplate\":\"Layer-Head=Layer 10-Head 3\\u003cbr\\u003eCheckpoint=%{x}\\u003cbr\\u003eSelf Repair Score=%{y}\\u003cextra\\u003e\\u003c\\u002fextra\\u003e\",\"legendgroup\":\"Layer 10-Head 3\",\"line\":{\"color\":\"#ab63fa\",\"dash\":\"solid\"},\"marker\":{\"symbol\":\"circle\"},\"mode\":\"lines\",\"name\":\"Layer 10-Head 3\",\"showlegend\":true,\"x\":[512,1000,2000,3000,5000,10000,30000,90000,143000],\"xaxis\":\"x\",\"y\":[1.161453366279602,1.037193775177002,-2.6115002632141113,0.7601039409637451,0.7309672832489014,-0.027666838839650154,0.6940600872039795,0.6512540578842163,0.5359959602355957],\"yaxis\":\"y\",\"type\":\"scattergl\"},{\"hovertemplate\":\"Layer-Head=Layer 10-Head 4\\u003cbr\\u003eCheckpoint=%{x}\\u003cbr\\u003eSelf Repair Score=%{y}\\u003cextra\\u003e\\u003c\\u002fextra\\u003e\",\"legendgroup\":\"Layer 10-Head 4\",\"line\":{\"color\":\"#FFA15A\",\"dash\":\"solid\"},\"marker\":{\"symbol\":\"circle\"},\"mode\":\"lines\",\"name\":\"Layer 10-Head 4\",\"showlegend\":true,\"x\":[512,1000,2000,3000,5000,10000,30000,90000,143000],\"xaxis\":\"x\",\"y\":[0.7989661693572998,0.5691225528717041,0.4167071580886841,0.4684225618839264,0.46410611271858215,0.45302799344062805,0.6508357524871826,0.5728389620780945,0.4521855413913727],\"yaxis\":\"y\",\"type\":\"scattergl\"},{\"hovertemplate\":\"Layer-Head=Layer 10-Head 5\\u003cbr\\u003eCheckpoint=%{x}\\u003cbr\\u003eSelf Repair Score=%{y}\\u003cextra\\u003e\\u003c\\u002fextra\\u003e\",\"legendgroup\":\"Layer 10-Head 5\",\"line\":{\"color\":\"#19d3f3\",\"dash\":\"solid\"},\"marker\":{\"symbol\":\"circle\"},\"mode\":\"lines\",\"name\":\"Layer 10-Head 5\",\"showlegend\":true,\"x\":[512,1000,2000,3000,5000,10000,30000,90000,143000],\"xaxis\":\"x\",\"y\":[0.8371644020080566,0.8952819108963013,1.164564609527588,1.4226731061935425,1.3812159299850464,3.5814764499664307,8.44153118133545,-0.18509382009506226,-0.12971685826778412],\"yaxis\":\"y\",\"type\":\"scattergl\"},{\"hovertemplate\":\"Layer-Head=Layer 10-Head 6\\u003cbr\\u003eCheckpoint=%{x}\\u003cbr\\u003eSelf Repair Score=%{y}\\u003cextra\\u003e\\u003c\\u002fextra\\u003e\",\"legendgroup\":\"Layer 10-Head 6\",\"line\":{\"color\":\"#FF6692\",\"dash\":\"solid\"},\"marker\":{\"symbol\":\"circle\"},\"mode\":\"lines\",\"name\":\"Layer 10-Head 6\",\"showlegend\":true,\"x\":[512,1000,2000,3000,5000,10000,30000,90000,143000],\"xaxis\":\"x\",\"y\":[0.9393268823623657,0.9402831792831421,0.8989935517311096,0.6727970242500305,0.09539339691400528,-2.9991228580474854,5.30631685256958,-5.783525466918945,-1.580156683921814],\"yaxis\":\"y\",\"type\":\"scattergl\"},{\"hovertemplate\":\"Layer-Head=Layer 10-Head 7\\u003cbr\\u003eCheckpoint=%{x}\\u003cbr\\u003eSelf Repair Score=%{y}\\u003cextra\\u003e\\u003c\\u002fextra\\u003e\",\"legendgroup\":\"Layer 10-Head 7\",\"line\":{\"color\":\"#B6E880\",\"dash\":\"solid\"},\"marker\":{\"symbol\":\"circle\"},\"mode\":\"lines\",\"name\":\"Layer 10-Head 7\",\"showlegend\":true,\"x\":[512,1000,2000,3000,5000,10000,30000,90000,143000],\"xaxis\":\"x\",\"y\":[1.1245628595352173,0.6682734489440918,0.36549726128578186,0.07630965113639832,-0.2874687910079956,-0.22105461359024048,0.10223645716905594,0.2927972674369812,0.21666333079338074],\"yaxis\":\"y\",\"type\":\"scattergl\"},{\"hovertemplate\":\"Layer-Head=Layer 10-Head 8\\u003cbr\\u003eCheckpoint=%{x}\\u003cbr\\u003eSelf Repair Score=%{y}\\u003cextra\\u003e\\u003c\\u002fextra\\u003e\",\"legendgroup\":\"Layer 10-Head 8\",\"line\":{\"color\":\"#FF97FF\",\"dash\":\"solid\"},\"marker\":{\"symbol\":\"circle\"},\"mode\":\"lines\",\"name\":\"Layer 10-Head 8\",\"showlegend\":true,\"x\":[512,1000,2000,3000,5000,10000,30000,90000,143000],\"xaxis\":\"x\",\"y\":[1.2179659605026245,0.15054002404212952,1.9512994289398193,0.07784297317266464,-0.041498247534036636,0.027942517772316933,-0.023264409974217415,-0.025963444262742996,-0.07403480261564255],\"yaxis\":\"y\",\"type\":\"scattergl\"},{\"hovertemplate\":\"Layer-Head=Layer 10-Head 9\\u003cbr\\u003eCheckpoint=%{x}\\u003cbr\\u003eSelf Repair Score=%{y}\\u003cextra\\u003e\\u003c\\u002fextra\\u003e\",\"legendgroup\":\"Layer 10-Head 9\",\"line\":{\"color\":\"#FECB52\",\"dash\":\"solid\"},\"marker\":{\"symbol\":\"circle\"},\"mode\":\"lines\",\"name\":\"Layer 10-Head 9\",\"showlegend\":true,\"x\":[512,1000,2000,3000,5000,10000,30000,90000,143000],\"xaxis\":\"x\",\"y\":[0.9339518547058105,0.8987564444541931,0.8817623257637024,0.5936879515647888,0.3798501193523407,0.3527904152870178,0.440399706363678,0.29588383436203003,0.09338602423667908],\"yaxis\":\"y\",\"type\":\"scattergl\"},{\"hovertemplate\":\"Layer-Head=Layer 10-Head 10\\u003cbr\\u003eCheckpoint=%{x}\\u003cbr\\u003eSelf Repair Score=%{y}\\u003cextra\\u003e\\u003c\\u002fextra\\u003e\",\"legendgroup\":\"Layer 10-Head 10\",\"line\":{\"color\":\"#636efa\",\"dash\":\"solid\"},\"marker\":{\"symbol\":\"circle\"},\"mode\":\"lines\",\"name\":\"Layer 10-Head 10\",\"showlegend\":true,\"x\":[512,1000,2000,3000,5000,10000,30000,90000,143000],\"xaxis\":\"x\",\"y\":[0.9536309838294983,1.0127792358398438,-7.932400226593018,-0.7897936105728149,-0.38550153374671936,0.07709308713674545,0.22443050146102905,0.40196335315704346,0.2319800853729248],\"yaxis\":\"y\",\"type\":\"scattergl\"},{\"hovertemplate\":\"Layer-Head=Layer 10-Head 11\\u003cbr\\u003eCheckpoint=%{x}\\u003cbr\\u003eSelf Repair Score=%{y}\\u003cextra\\u003e\\u003c\\u002fextra\\u003e\",\"legendgroup\":\"Layer 10-Head 11\",\"line\":{\"color\":\"#EF553B\",\"dash\":\"solid\"},\"marker\":{\"symbol\":\"circle\"},\"mode\":\"lines\",\"name\":\"Layer 10-Head 11\",\"showlegend\":true,\"x\":[512,1000,2000,3000,5000,10000,30000,90000,143000],\"xaxis\":\"x\",\"y\":[1.0340451002120972,0.6378939747810364,0.4348474442958832,0.30513060092926025,0.102781280875206,0.1484948992729187,0.3249721825122833,0.30448657274246216,0.061659011989831924],\"yaxis\":\"y\",\"type\":\"scattergl\"},{\"hovertemplate\":\"Layer-Head=Layer 11-Head 0\\u003cbr\\u003eCheckpoint=%{x}\\u003cbr\\u003eSelf Repair Score=%{y}\\u003cextra\\u003e\\u003c\\u002fextra\\u003e\",\"legendgroup\":\"Layer 11-Head 0\",\"line\":{\"color\":\"#00cc96\",\"dash\":\"solid\"},\"marker\":{\"symbol\":\"circle\"},\"mode\":\"lines\",\"name\":\"Layer 11-Head 0\",\"showlegend\":true,\"x\":[512,1000,2000,3000,5000,10000,30000,90000,143000],\"xaxis\":\"x\",\"y\":[-3.077479362487793,0.7314372658729553,0.5969291925430298,0.5167657732963562,0.42911651730537415,0.3421236574649811,0.254171222448349,0.49149927496910095,0.7702361345291138],\"yaxis\":\"y\",\"type\":\"scattergl\"},{\"hovertemplate\":\"Layer-Head=Layer 11-Head 1\\u003cbr\\u003eCheckpoint=%{x}\\u003cbr\\u003eSelf Repair Score=%{y}\\u003cextra\\u003e\\u003c\\u002fextra\\u003e\",\"legendgroup\":\"Layer 11-Head 1\",\"line\":{\"color\":\"#ab63fa\",\"dash\":\"solid\"},\"marker\":{\"symbol\":\"circle\"},\"mode\":\"lines\",\"name\":\"Layer 11-Head 1\",\"showlegend\":true,\"x\":[512,1000,2000,3000,5000,10000,30000,90000,143000],\"xaxis\":\"x\",\"y\":[0.892478346824646,1.2260478734970093,1.4446147680282593,0.9972286224365234,0.9939353466033936,0.9597319960594177,0.7865884304046631,0.6993499398231506,0.8608818650245667],\"yaxis\":\"y\",\"type\":\"scattergl\"},{\"hovertemplate\":\"Layer-Head=Layer 11-Head 2\\u003cbr\\u003eCheckpoint=%{x}\\u003cbr\\u003eSelf Repair Score=%{y}\\u003cextra\\u003e\\u003c\\u002fextra\\u003e\",\"legendgroup\":\"Layer 11-Head 2\",\"line\":{\"color\":\"#FFA15A\",\"dash\":\"solid\"},\"marker\":{\"symbol\":\"circle\"},\"mode\":\"lines\",\"name\":\"Layer 11-Head 2\",\"showlegend\":true,\"x\":[512,1000,2000,3000,5000,10000,30000,90000,143000],\"xaxis\":\"x\",\"y\":[1.1328680515289307,1.070704460144043,0.9318333268165588,0.8354395627975464,0.7366516590118408,0.5824405550956726,0.14917008578777313,0.5558062195777893,0.7787396311759949],\"yaxis\":\"y\",\"type\":\"scattergl\"},{\"hovertemplate\":\"Layer-Head=Layer 11-Head 3\\u003cbr\\u003eCheckpoint=%{x}\\u003cbr\\u003eSelf Repair Score=%{y}\\u003cextra\\u003e\\u003c\\u002fextra\\u003e\",\"legendgroup\":\"Layer 11-Head 3\",\"line\":{\"color\":\"#19d3f3\",\"dash\":\"solid\"},\"marker\":{\"symbol\":\"circle\"},\"mode\":\"lines\",\"name\":\"Layer 11-Head 3\",\"showlegend\":true,\"x\":[512,1000,2000,3000,5000,10000,30000,90000,143000],\"xaxis\":\"x\",\"y\":[0.795607328414917,0.6785643100738525,0.6673175692558289,0.6038229465484619,0.5568239092826843,0.45051321387290955,0.31967979669570923,0.1321043074131012,0.760089635848999],\"yaxis\":\"y\",\"type\":\"scattergl\"},{\"hovertemplate\":\"Layer-Head=Layer 11-Head 4\\u003cbr\\u003eCheckpoint=%{x}\\u003cbr\\u003eSelf Repair Score=%{y}\\u003cextra\\u003e\\u003c\\u002fextra\\u003e\",\"legendgroup\":\"Layer 11-Head 4\",\"line\":{\"color\":\"#FF6692\",\"dash\":\"solid\"},\"marker\":{\"symbol\":\"circle\"},\"mode\":\"lines\",\"name\":\"Layer 11-Head 4\",\"showlegend\":true,\"x\":[512,1000,2000,3000,5000,10000,30000,90000,143000],\"xaxis\":\"x\",\"y\":[0.20288141071796417,1.1376081705093384,1.3347303867340088,1.3914779424667358,1.0345358848571777,0.6330180764198303,-0.916221022605896,0.30591878294944763,0.5581662654876709],\"yaxis\":\"y\",\"type\":\"scattergl\"},{\"hovertemplate\":\"Layer-Head=Layer 11-Head 5\\u003cbr\\u003eCheckpoint=%{x}\\u003cbr\\u003eSelf Repair Score=%{y}\\u003cextra\\u003e\\u003c\\u002fextra\\u003e\",\"legendgroup\":\"Layer 11-Head 5\",\"line\":{\"color\":\"#B6E880\",\"dash\":\"solid\"},\"marker\":{\"symbol\":\"circle\"},\"mode\":\"lines\",\"name\":\"Layer 11-Head 5\",\"showlegend\":true,\"x\":[512,1000,2000,3000,5000,10000,30000,90000,143000],\"xaxis\":\"x\",\"y\":[-0.1702509969472885,1.8396475315093994,1.3268095254898071,3.6160049438476562,-1.116531252861023,0.48671212792396545,1.9146140813827515,0.8656017780303955,0.9304097294807434],\"yaxis\":\"y\",\"type\":\"scattergl\"},{\"hovertemplate\":\"Layer-Head=Layer 11-Head 6\\u003cbr\\u003eCheckpoint=%{x}\\u003cbr\\u003eSelf Repair Score=%{y}\\u003cextra\\u003e\\u003c\\u002fextra\\u003e\",\"legendgroup\":\"Layer 11-Head 6\",\"line\":{\"color\":\"#FF97FF\",\"dash\":\"solid\"},\"marker\":{\"symbol\":\"circle\"},\"mode\":\"lines\",\"name\":\"Layer 11-Head 6\",\"showlegend\":true,\"x\":[512,1000,2000,3000,5000,10000,30000,90000,143000],\"xaxis\":\"x\",\"y\":[1.5011876821517944,1.2879055738449097,1.4567813873291016,1.3167163133621216,1.2111703157424927,0.6000427603721619,0.34944093227386475,0.4445975720882416,0.7394229173660278],\"yaxis\":\"y\",\"type\":\"scattergl\"},{\"hovertemplate\":\"Layer-Head=Layer 11-Head 7\\u003cbr\\u003eCheckpoint=%{x}\\u003cbr\\u003eSelf Repair Score=%{y}\\u003cextra\\u003e\\u003c\\u002fextra\\u003e\",\"legendgroup\":\"Layer 11-Head 7\",\"line\":{\"color\":\"#FECB52\",\"dash\":\"solid\"},\"marker\":{\"symbol\":\"circle\"},\"mode\":\"lines\",\"name\":\"Layer 11-Head 7\",\"showlegend\":true,\"x\":[512,1000,2000,3000,5000,10000,30000,90000,143000],\"xaxis\":\"x\",\"y\":[0.6758898496627808,0.7226561307907104,0.6701703667640686,0.5738828778266907,0.5035282373428345,0.505669355392456,0.400182843208313,0.12983089685440063,0.6724035143852234],\"yaxis\":\"y\",\"type\":\"scattergl\"},{\"hovertemplate\":\"Layer-Head=Layer 11-Head 8\\u003cbr\\u003eCheckpoint=%{x}\\u003cbr\\u003eSelf Repair Score=%{y}\\u003cextra\\u003e\\u003c\\u002fextra\\u003e\",\"legendgroup\":\"Layer 11-Head 8\",\"line\":{\"color\":\"#636efa\",\"dash\":\"solid\"},\"marker\":{\"symbol\":\"circle\"},\"mode\":\"lines\",\"name\":\"Layer 11-Head 8\",\"showlegend\":true,\"x\":[512,1000,2000,3000,5000,10000,30000,90000,143000],\"xaxis\":\"x\",\"y\":[3.6119322776794434,1.117948293685913,1.138008713722229,1.2451651096343994,1.1452491283416748,0.9521726965904236,0.3173666298389435,0.36307600140571594,0.5584277510643005],\"yaxis\":\"y\",\"type\":\"scattergl\"},{\"hovertemplate\":\"Layer-Head=Layer 11-Head 9\\u003cbr\\u003eCheckpoint=%{x}\\u003cbr\\u003eSelf Repair Score=%{y}\\u003cextra\\u003e\\u003c\\u002fextra\\u003e\",\"legendgroup\":\"Layer 11-Head 9\",\"line\":{\"color\":\"#EF553B\",\"dash\":\"solid\"},\"marker\":{\"symbol\":\"circle\"},\"mode\":\"lines\",\"name\":\"Layer 11-Head 9\",\"showlegend\":true,\"x\":[512,1000,2000,3000,5000,10000,30000,90000,143000],\"xaxis\":\"x\",\"y\":[0.2980233132839203,0.6048771739006042,0.5925308465957642,0.5682231187820435,0.5503363609313965,0.5102114677429199,0.5130621790885925,0.4937724173069,0.7450965642929077],\"yaxis\":\"y\",\"type\":\"scattergl\"},{\"hovertemplate\":\"Layer-Head=Layer 11-Head 10\\u003cbr\\u003eCheckpoint=%{x}\\u003cbr\\u003eSelf Repair Score=%{y}\\u003cextra\\u003e\\u003c\\u002fextra\\u003e\",\"legendgroup\":\"Layer 11-Head 10\",\"line\":{\"color\":\"#00cc96\",\"dash\":\"solid\"},\"marker\":{\"symbol\":\"circle\"},\"mode\":\"lines\",\"name\":\"Layer 11-Head 10\",\"showlegend\":true,\"x\":[512,1000,2000,3000,5000,10000,30000,90000,143000],\"xaxis\":\"x\",\"y\":[0.7336236238479614,1.192305564880371,0.7967481017112732,0.6306225061416626,0.6652622222900391,0.554682731628418,-0.24589024484157562,0.7262973785400391,0.7781533598899841],\"yaxis\":\"y\",\"type\":\"scattergl\"},{\"hovertemplate\":\"Layer-Head=Layer 11-Head 11\\u003cbr\\u003eCheckpoint=%{x}\\u003cbr\\u003eSelf Repair Score=%{y}\\u003cextra\\u003e\\u003c\\u002fextra\\u003e\",\"legendgroup\":\"Layer 11-Head 11\",\"line\":{\"color\":\"#ab63fa\",\"dash\":\"solid\"},\"marker\":{\"symbol\":\"circle\"},\"mode\":\"lines\",\"name\":\"Layer 11-Head 11\",\"showlegend\":true,\"x\":[512,1000,2000,3000,5000,10000,30000,90000,143000],\"xaxis\":\"x\",\"y\":[0.5139929056167603,0.35444140434265137,0.39902645349502563,0.33446505665779114,0.368890643119812,0.35256749391555786,0.36447951197624207,0.44982460141181946,0.6607515811920166],\"yaxis\":\"y\",\"type\":\"scattergl\"}],                        {\"template\":{\"data\":{\"histogram2dcontour\":[{\"type\":\"histogram2dcontour\",\"colorbar\":{\"outlinewidth\":0,\"ticks\":\"\"},\"colorscale\":[[0.0,\"#0d0887\"],[0.1111111111111111,\"#46039f\"],[0.2222222222222222,\"#7201a8\"],[0.3333333333333333,\"#9c179e\"],[0.4444444444444444,\"#bd3786\"],[0.5555555555555556,\"#d8576b\"],[0.6666666666666666,\"#ed7953\"],[0.7777777777777778,\"#fb9f3a\"],[0.8888888888888888,\"#fdca26\"],[1.0,\"#f0f921\"]]}],\"choropleth\":[{\"type\":\"choropleth\",\"colorbar\":{\"outlinewidth\":0,\"ticks\":\"\"}}],\"histogram2d\":[{\"type\":\"histogram2d\",\"colorbar\":{\"outlinewidth\":0,\"ticks\":\"\"},\"colorscale\":[[0.0,\"#0d0887\"],[0.1111111111111111,\"#46039f\"],[0.2222222222222222,\"#7201a8\"],[0.3333333333333333,\"#9c179e\"],[0.4444444444444444,\"#bd3786\"],[0.5555555555555556,\"#d8576b\"],[0.6666666666666666,\"#ed7953\"],[0.7777777777777778,\"#fb9f3a\"],[0.8888888888888888,\"#fdca26\"],[1.0,\"#f0f921\"]]}],\"heatmap\":[{\"type\":\"heatmap\",\"colorbar\":{\"outlinewidth\":0,\"ticks\":\"\"},\"colorscale\":[[0.0,\"#0d0887\"],[0.1111111111111111,\"#46039f\"],[0.2222222222222222,\"#7201a8\"],[0.3333333333333333,\"#9c179e\"],[0.4444444444444444,\"#bd3786\"],[0.5555555555555556,\"#d8576b\"],[0.6666666666666666,\"#ed7953\"],[0.7777777777777778,\"#fb9f3a\"],[0.8888888888888888,\"#fdca26\"],[1.0,\"#f0f921\"]]}],\"heatmapgl\":[{\"type\":\"heatmapgl\",\"colorbar\":{\"outlinewidth\":0,\"ticks\":\"\"},\"colorscale\":[[0.0,\"#0d0887\"],[0.1111111111111111,\"#46039f\"],[0.2222222222222222,\"#7201a8\"],[0.3333333333333333,\"#9c179e\"],[0.4444444444444444,\"#bd3786\"],[0.5555555555555556,\"#d8576b\"],[0.6666666666666666,\"#ed7953\"],[0.7777777777777778,\"#fb9f3a\"],[0.8888888888888888,\"#fdca26\"],[1.0,\"#f0f921\"]]}],\"contourcarpet\":[{\"type\":\"contourcarpet\",\"colorbar\":{\"outlinewidth\":0,\"ticks\":\"\"}}],\"contour\":[{\"type\":\"contour\",\"colorbar\":{\"outlinewidth\":0,\"ticks\":\"\"},\"colorscale\":[[0.0,\"#0d0887\"],[0.1111111111111111,\"#46039f\"],[0.2222222222222222,\"#7201a8\"],[0.3333333333333333,\"#9c179e\"],[0.4444444444444444,\"#bd3786\"],[0.5555555555555556,\"#d8576b\"],[0.6666666666666666,\"#ed7953\"],[0.7777777777777778,\"#fb9f3a\"],[0.8888888888888888,\"#fdca26\"],[1.0,\"#f0f921\"]]}],\"surface\":[{\"type\":\"surface\",\"colorbar\":{\"outlinewidth\":0,\"ticks\":\"\"},\"colorscale\":[[0.0,\"#0d0887\"],[0.1111111111111111,\"#46039f\"],[0.2222222222222222,\"#7201a8\"],[0.3333333333333333,\"#9c179e\"],[0.4444444444444444,\"#bd3786\"],[0.5555555555555556,\"#d8576b\"],[0.6666666666666666,\"#ed7953\"],[0.7777777777777778,\"#fb9f3a\"],[0.8888888888888888,\"#fdca26\"],[1.0,\"#f0f921\"]]}],\"mesh3d\":[{\"type\":\"mesh3d\",\"colorbar\":{\"outlinewidth\":0,\"ticks\":\"\"}}],\"scatter\":[{\"fillpattern\":{\"fillmode\":\"overlay\",\"size\":10,\"solidity\":0.2},\"type\":\"scatter\"}],\"parcoords\":[{\"type\":\"parcoords\",\"line\":{\"colorbar\":{\"outlinewidth\":0,\"ticks\":\"\"}}}],\"scatterpolargl\":[{\"type\":\"scatterpolargl\",\"marker\":{\"colorbar\":{\"outlinewidth\":0,\"ticks\":\"\"}}}],\"bar\":[{\"error_x\":{\"color\":\"#2a3f5f\"},\"error_y\":{\"color\":\"#2a3f5f\"},\"marker\":{\"line\":{\"color\":\"#E5ECF6\",\"width\":0.5},\"pattern\":{\"fillmode\":\"overlay\",\"size\":10,\"solidity\":0.2}},\"type\":\"bar\"}],\"scattergeo\":[{\"type\":\"scattergeo\",\"marker\":{\"colorbar\":{\"outlinewidth\":0,\"ticks\":\"\"}}}],\"scatterpolar\":[{\"type\":\"scatterpolar\",\"marker\":{\"colorbar\":{\"outlinewidth\":0,\"ticks\":\"\"}}}],\"histogram\":[{\"marker\":{\"pattern\":{\"fillmode\":\"overlay\",\"size\":10,\"solidity\":0.2}},\"type\":\"histogram\"}],\"scattergl\":[{\"type\":\"scattergl\",\"marker\":{\"colorbar\":{\"outlinewidth\":0,\"ticks\":\"\"}}}],\"scatter3d\":[{\"type\":\"scatter3d\",\"line\":{\"colorbar\":{\"outlinewidth\":0,\"ticks\":\"\"}},\"marker\":{\"colorbar\":{\"outlinewidth\":0,\"ticks\":\"\"}}}],\"scattermapbox\":[{\"type\":\"scattermapbox\",\"marker\":{\"colorbar\":{\"outlinewidth\":0,\"ticks\":\"\"}}}],\"scatterternary\":[{\"type\":\"scatterternary\",\"marker\":{\"colorbar\":{\"outlinewidth\":0,\"ticks\":\"\"}}}],\"scattercarpet\":[{\"type\":\"scattercarpet\",\"marker\":{\"colorbar\":{\"outlinewidth\":0,\"ticks\":\"\"}}}],\"carpet\":[{\"aaxis\":{\"endlinecolor\":\"#2a3f5f\",\"gridcolor\":\"white\",\"linecolor\":\"white\",\"minorgridcolor\":\"white\",\"startlinecolor\":\"#2a3f5f\"},\"baxis\":{\"endlinecolor\":\"#2a3f5f\",\"gridcolor\":\"white\",\"linecolor\":\"white\",\"minorgridcolor\":\"white\",\"startlinecolor\":\"#2a3f5f\"},\"type\":\"carpet\"}],\"table\":[{\"cells\":{\"fill\":{\"color\":\"#EBF0F8\"},\"line\":{\"color\":\"white\"}},\"header\":{\"fill\":{\"color\":\"#C8D4E3\"},\"line\":{\"color\":\"white\"}},\"type\":\"table\"}],\"barpolar\":[{\"marker\":{\"line\":{\"color\":\"#E5ECF6\",\"width\":0.5},\"pattern\":{\"fillmode\":\"overlay\",\"size\":10,\"solidity\":0.2}},\"type\":\"barpolar\"}],\"pie\":[{\"automargin\":true,\"type\":\"pie\"}]},\"layout\":{\"autotypenumbers\":\"strict\",\"colorway\":[\"#636efa\",\"#EF553B\",\"#00cc96\",\"#ab63fa\",\"#FFA15A\",\"#19d3f3\",\"#FF6692\",\"#B6E880\",\"#FF97FF\",\"#FECB52\"],\"font\":{\"color\":\"#2a3f5f\"},\"hovermode\":\"closest\",\"hoverlabel\":{\"align\":\"left\"},\"paper_bgcolor\":\"white\",\"plot_bgcolor\":\"#E5ECF6\",\"polar\":{\"bgcolor\":\"#E5ECF6\",\"angularaxis\":{\"gridcolor\":\"white\",\"linecolor\":\"white\",\"ticks\":\"\"},\"radialaxis\":{\"gridcolor\":\"white\",\"linecolor\":\"white\",\"ticks\":\"\"}},\"ternary\":{\"bgcolor\":\"#E5ECF6\",\"aaxis\":{\"gridcolor\":\"white\",\"linecolor\":\"white\",\"ticks\":\"\"},\"baxis\":{\"gridcolor\":\"white\",\"linecolor\":\"white\",\"ticks\":\"\"},\"caxis\":{\"gridcolor\":\"white\",\"linecolor\":\"white\",\"ticks\":\"\"}},\"coloraxis\":{\"colorbar\":{\"outlinewidth\":0,\"ticks\":\"\"}},\"colorscale\":{\"sequential\":[[0.0,\"#0d0887\"],[0.1111111111111111,\"#46039f\"],[0.2222222222222222,\"#7201a8\"],[0.3333333333333333,\"#9c179e\"],[0.4444444444444444,\"#bd3786\"],[0.5555555555555556,\"#d8576b\"],[0.6666666666666666,\"#ed7953\"],[0.7777777777777778,\"#fb9f3a\"],[0.8888888888888888,\"#fdca26\"],[1.0,\"#f0f921\"]],\"sequentialminus\":[[0.0,\"#0d0887\"],[0.1111111111111111,\"#46039f\"],[0.2222222222222222,\"#7201a8\"],[0.3333333333333333,\"#9c179e\"],[0.4444444444444444,\"#bd3786\"],[0.5555555555555556,\"#d8576b\"],[0.6666666666666666,\"#ed7953\"],[0.7777777777777778,\"#fb9f3a\"],[0.8888888888888888,\"#fdca26\"],[1.0,\"#f0f921\"]],\"diverging\":[[0,\"#8e0152\"],[0.1,\"#c51b7d\"],[0.2,\"#de77ae\"],[0.3,\"#f1b6da\"],[0.4,\"#fde0ef\"],[0.5,\"#f7f7f7\"],[0.6,\"#e6f5d0\"],[0.7,\"#b8e186\"],[0.8,\"#7fbc41\"],[0.9,\"#4d9221\"],[1,\"#276419\"]]},\"xaxis\":{\"gridcolor\":\"white\",\"linecolor\":\"white\",\"ticks\":\"\",\"title\":{\"standoff\":15},\"zerolinecolor\":\"white\",\"automargin\":true,\"zerolinewidth\":2},\"yaxis\":{\"gridcolor\":\"white\",\"linecolor\":\"white\",\"ticks\":\"\",\"title\":{\"standoff\":15},\"zerolinecolor\":\"white\",\"automargin\":true,\"zerolinewidth\":2},\"scene\":{\"xaxis\":{\"backgroundcolor\":\"#E5ECF6\",\"gridcolor\":\"white\",\"linecolor\":\"white\",\"showbackground\":true,\"ticks\":\"\",\"zerolinecolor\":\"white\",\"gridwidth\":2},\"yaxis\":{\"backgroundcolor\":\"#E5ECF6\",\"gridcolor\":\"white\",\"linecolor\":\"white\",\"showbackground\":true,\"ticks\":\"\",\"zerolinecolor\":\"white\",\"gridwidth\":2},\"zaxis\":{\"backgroundcolor\":\"#E5ECF6\",\"gridcolor\":\"white\",\"linecolor\":\"white\",\"showbackground\":true,\"ticks\":\"\",\"zerolinecolor\":\"white\",\"gridwidth\":2}},\"shapedefaults\":{\"line\":{\"color\":\"#2a3f5f\"}},\"annotationdefaults\":{\"arrowcolor\":\"#2a3f5f\",\"arrowhead\":0,\"arrowwidth\":1},\"geo\":{\"bgcolor\":\"white\",\"landcolor\":\"#E5ECF6\",\"subunitcolor\":\"white\",\"showland\":true,\"showlakes\":true,\"lakecolor\":\"white\"},\"title\":{\"x\":0.05},\"mapbox\":{\"style\":\"light\"}}},\"xaxis\":{\"anchor\":\"y\",\"domain\":[0.0,1.0],\"title\":{\"text\":\"Checkpoint\"}},\"yaxis\":{\"anchor\":\"x\",\"domain\":[0.0,1.0],\"title\":{\"text\":\"Self Repair Score\"},\"range\":[-300,300]},\"legend\":{\"title\":{\"text\":\"Layer-Head\"},\"tracegroupgap\":0},\"title\":{\"text\":\"Self Repair Across Checkpoints (DE+CIL\\u002fDE) (pythia-160m)\"},\"height\":500},                        {\"responsive\": true}                    ).then(function(){\n",
       "                            \n",
       "var gd = document.getElementById('ee215fe1-dff6-4c1b-b351-08c966815428');\n",
       "var x = new MutationObserver(function (mutations, observer) {{\n",
       "        var display = window.getComputedStyle(gd).display;\n",
       "        if (!display || display === 'none') {{\n",
       "            console.log([gd, 'removed!']);\n",
       "            Plotly.purge(gd);\n",
       "            observer.disconnect();\n",
       "        }}\n",
       "}});\n",
       "\n",
       "// Listen for the removal of the full notebook cells\n",
       "var notebookContainer = gd.closest('#notebook-container');\n",
       "if (notebookContainer) {{\n",
       "    x.observe(notebookContainer, {childList: true});\n",
       "}}\n",
       "\n",
       "// Listen for the clearing of the current output cell\n",
       "var outputEl = gd.closest('.output');\n",
       "if (outputEl) {{\n",
       "    x.observe(outputEl, {childList: true});\n",
       "}}\n",
       "\n",
       "                        })                };                });            </script>        </div>"
      ]
     },
     "metadata": {},
     "output_type": "display_data"
    }
   ],
   "source": [
    "df = plot_all_heads(MODEL_TO_VIEW, data, plot_everything=True, top_k_per_checkpoint=5, top_k=5)"
   ]
  },
  {
   "cell_type": "code",
   "execution_count": 40,
   "metadata": {},
   "outputs": [
    {
     "data": {
      "text/plain": [
       "torch.Size([1, 12, 12])"
      ]
     },
     "execution_count": 40,
     "metadata": {},
     "output_type": "execute_result"
    }
   ],
   "source": [
    "data[143000]['self_repair_score'].shape"
   ]
  },
  {
   "cell_type": "code",
   "execution_count": 48,
   "metadata": {},
   "outputs": [
    {
     "data": {
      "text/html": [
       "<div>\n",
       "<style scoped>\n",
       "    .dataframe tbody tr th:only-of-type {\n",
       "        vertical-align: middle;\n",
       "    }\n",
       "\n",
       "    .dataframe tbody tr th {\n",
       "        vertical-align: top;\n",
       "    }\n",
       "\n",
       "    .dataframe thead th {\n",
       "        text-align: right;\n",
       "    }\n",
       "</style>\n",
       "<table border=\"1\" class=\"dataframe\">\n",
       "  <thead>\n",
       "    <tr style=\"text-align: right;\">\n",
       "      <th></th>\n",
       "      <th>Checkpoint_x</th>\n",
       "      <th>Layer-Head</th>\n",
       "      <th>Layer</th>\n",
       "      <th>Head</th>\n",
       "      <th>Value_x</th>\n",
       "      <th>Checkpoint_y</th>\n",
       "      <th>Value_y</th>\n",
       "      <th>Top K</th>\n",
       "    </tr>\n",
       "  </thead>\n",
       "  <tbody>\n",
       "    <tr>\n",
       "      <th>1</th>\n",
       "      <td>512</td>\n",
       "      <td>Layer 3-Head 8</td>\n",
       "      <td>3</td>\n",
       "      <td>8</td>\n",
       "      <td>25.740900</td>\n",
       "      <td>30512</td>\n",
       "      <td>173.673319</td>\n",
       "      <td>True</td>\n",
       "    </tr>\n",
       "    <tr>\n",
       "      <th>23</th>\n",
       "      <td>5000</td>\n",
       "      <td>Layer 1-Head 10</td>\n",
       "      <td>1</td>\n",
       "      <td>10</td>\n",
       "      <td>89.960876</td>\n",
       "      <td>5000</td>\n",
       "      <td>89.960876</td>\n",
       "      <td>True</td>\n",
       "    </tr>\n",
       "    <tr>\n",
       "      <th>26</th>\n",
       "      <td>10000</td>\n",
       "      <td>Layer 1-Head 6</td>\n",
       "      <td>1</td>\n",
       "      <td>6</td>\n",
       "      <td>15.675889</td>\n",
       "      <td>40000</td>\n",
       "      <td>226.239076</td>\n",
       "      <td>True</td>\n",
       "    </tr>\n",
       "    <tr>\n",
       "      <th>29</th>\n",
       "      <td>10000</td>\n",
       "      <td>Layer 3-Head 5</td>\n",
       "      <td>3</td>\n",
       "      <td>5</td>\n",
       "      <td>116.355156</td>\n",
       "      <td>10000</td>\n",
       "      <td>116.355156</td>\n",
       "      <td>True</td>\n",
       "    </tr>\n",
       "    <tr>\n",
       "      <th>33</th>\n",
       "      <td>30000</td>\n",
       "      <td>Layer 3-Head 8</td>\n",
       "      <td>3</td>\n",
       "      <td>8</td>\n",
       "      <td>147.932419</td>\n",
       "      <td>30512</td>\n",
       "      <td>173.673319</td>\n",
       "      <td>True</td>\n",
       "    </tr>\n",
       "    <tr>\n",
       "      <th>34</th>\n",
       "      <td>30000</td>\n",
       "      <td>Layer 1-Head 6</td>\n",
       "      <td>1</td>\n",
       "      <td>6</td>\n",
       "      <td>210.563187</td>\n",
       "      <td>40000</td>\n",
       "      <td>226.239076</td>\n",
       "      <td>True</td>\n",
       "    </tr>\n",
       "    <tr>\n",
       "      <th>35</th>\n",
       "      <td>90000</td>\n",
       "      <td>Layer 0-Head 8</td>\n",
       "      <td>0</td>\n",
       "      <td>8</td>\n",
       "      <td>21.291231</td>\n",
       "      <td>233000</td>\n",
       "      <td>207.862093</td>\n",
       "      <td>True</td>\n",
       "    </tr>\n",
       "    <tr>\n",
       "      <th>43</th>\n",
       "      <td>143000</td>\n",
       "      <td>Layer 0-Head 8</td>\n",
       "      <td>0</td>\n",
       "      <td>8</td>\n",
       "      <td>186.570862</td>\n",
       "      <td>233000</td>\n",
       "      <td>207.862093</td>\n",
       "      <td>True</td>\n",
       "    </tr>\n",
       "  </tbody>\n",
       "</table>\n",
       "</div>"
      ],
      "text/plain": [
       "    Checkpoint_x       Layer-Head  Layer  Head     Value_x  Checkpoint_y  \\\n",
       "1            512   Layer 3-Head 8      3     8   25.740900         30512   \n",
       "23          5000  Layer 1-Head 10      1    10   89.960876          5000   \n",
       "26         10000   Layer 1-Head 6      1     6   15.675889         40000   \n",
       "29         10000   Layer 3-Head 5      3     5  116.355156         10000   \n",
       "33         30000   Layer 3-Head 8      3     8  147.932419         30512   \n",
       "34         30000   Layer 1-Head 6      1     6  210.563187         40000   \n",
       "35         90000   Layer 0-Head 8      0     8   21.291231        233000   \n",
       "43        143000   Layer 0-Head 8      0     8  186.570862        233000   \n",
       "\n",
       "       Value_y  Top K  \n",
       "1   173.673319   True  \n",
       "23   89.960876   True  \n",
       "26  226.239076   True  \n",
       "29  116.355156   True  \n",
       "33  173.673319   True  \n",
       "34  226.239076   True  \n",
       "35  207.862093   True  \n",
       "43  207.862093   True  "
      ]
     },
     "execution_count": 48,
     "metadata": {},
     "output_type": "execute_result"
    }
   ],
   "source": [
    "df.head(50)"
   ]
  },
  {
   "cell_type": "code",
   "execution_count": null,
   "metadata": {},
   "outputs": [],
   "source": []
  }
 ],
 "metadata": {
  "kernelspec": {
   "display_name": "Python 3 (ipykernel)",
   "language": "python",
   "name": "python3"
  },
  "language_info": {
   "codemirror_mode": {
    "name": "ipython",
    "version": 3
   },
   "file_extension": ".py",
   "mimetype": "text/x-python",
   "name": "python",
   "nbconvert_exporter": "python",
   "pygments_lexer": "ipython3",
   "version": "3.10.13"
  },
  "orig_nbformat": 4
 },
 "nbformat": 4,
 "nbformat_minor": 2
}
