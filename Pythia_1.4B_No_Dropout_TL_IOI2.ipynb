{
  "cells": [
    {
      "cell_type": "markdown",
      "metadata": {
        "id": "rbHij6RQTFny"
      },
      "source": [
        "# Indirect Object Identification Circuit in Pythia"
      ]
    },
    {
      "cell_type": "code",
      "execution_count": 1,
      "metadata": {},
      "outputs": [
        {
          "name": "stderr",
          "output_type": "stream",
          "text": [
            "/tmp/ipykernel_2111414/2182663555.py:6: DeprecationWarning: `magic(...)` is deprecated since IPython 0.13 (warning added in 8.1), use run_line_magic(magic_name, parameter_s).\n",
            "  ipython.magic(\"load_ext autoreload\")\n",
            "/tmp/ipykernel_2111414/2182663555.py:7: DeprecationWarning: `magic(...)` is deprecated since IPython 0.13 (warning added in 8.1), use run_line_magic(magic_name, parameter_s).\n",
            "  ipython.magic(\"autoreload 2\")\n"
          ]
        }
      ],
      "source": [
        "\n",
        "IN_COLAB = False\n",
        "from IPython import get_ipython\n",
        "\n",
        "ipython = get_ipython()\n",
        "# Code to automatically update the HookedTransformer code as its edited without restarting the kernel\n",
        "ipython.magic(\"load_ext autoreload\")\n",
        "ipython.magic(\"autoreload 2\")"
      ]
    },
    {
      "cell_type": "code",
      "execution_count": 2,
      "metadata": {},
      "outputs": [],
      "source": [
        "import os\n",
        "import pathlib\n",
        "from typing import List, Optional, Union\n",
        "\n",
        "import torch\n",
        "import numpy as np\n",
        "import yaml\n",
        "\n",
        "import einops\n",
        "from fancy_einsum import einsum\n",
        "\n",
        "from datasets import load_dataset\n",
        "from transformers import pipeline\n",
        "import plotly.io as pio\n",
        "import plotly.express as px\n",
        "#import pysvelte\n",
        "from IPython.display import HTML\n",
        "\n",
        "import plotly.graph_objs as go\n",
        "import ipywidgets as widgets\n",
        "from IPython.display import display\n",
        "\n",
        "# if IN_COLAB or not DEBUG_MODE:\n",
        "#     # Thanks to annoying rendering issues, Plotly graphics will either show up in colab OR Vscode depending on the renderer - this is bad for developing demos! Thus creating a debug mode.\n",
        "#     pio.renderers.default = \"colab\"\n",
        "# else:\n",
        "#     pio.renderers.default = \"plotly_mimetype+notebook\"\n",
        "\n",
        "if torch.cuda.is_available():\n",
        "    device = int(os.environ.get(\"LOCAL_RANK\", 0))\n",
        "else:\n",
        "    device = \"cpu\""
      ]
    },
    {
      "cell_type": "code",
      "execution_count": 3,
      "metadata": {},
      "outputs": [],
      "source": [
        "import transformers\n",
        "from transformers import AutoConfig, AutoModel, AutoModelForCausalLM\n",
        "import transformer_lens\n",
        "import transformer_lens.utils as utils\n",
        "import transformer_lens.patching as patching\n",
        "from transformer_lens.hook_points import (\n",
        "    HookedRootModule,\n",
        "    HookPoint,\n",
        ")  # Hooking utilities\n",
        "from transformer_lens import HookedTransformer, HookedTransformerConfig, FactoredMatrix, ActivationCache\n",
        "\n",
        "from functools import partial\n",
        "\n",
        "from torchtyping import TensorType as TT"
      ]
    },
    {
      "cell_type": "code",
      "execution_count": 5,
      "metadata": {},
      "outputs": [
        {
          "data": {
            "text/plain": [
              "<torch.autograd.grad_mode.set_grad_enabled at 0x7fddc078f970>"
            ]
          },
          "execution_count": 5,
          "metadata": {},
          "output_type": "execute_result"
        }
      ],
      "source": [
        "torch.set_grad_enabled(False)"
      ]
    },
    {
      "cell_type": "code",
      "execution_count": 6,
      "metadata": {},
      "outputs": [],
      "source": [
        "from neel_plotly import line, imshow, scatter\n",
        "\n",
        "def l_imshow(tensor, renderer=None, **kwargs):\n",
        "    px.imshow(utils.to_numpy(tensor), color_continuous_midpoint=0.0, color_continuous_scale=\"RdBu\", **kwargs).show(renderer)\n",
        "\n",
        "def l_line(tensor, renderer=None, **kwargs):\n",
        "    px.line(y=utils.to_numpy(tensor), **kwargs).show(renderer)\n",
        "\n",
        "def l_scatter(x, y, xaxis=\"\", yaxis=\"\", caxis=\"\", renderer=None, **kwargs):\n",
        "    x = utils.to_numpy(x)\n",
        "    y = utils.to_numpy(y)\n",
        "    px.scatter(y=y, x=x, labels={\"x\":xaxis, \"y\":yaxis, \"color\":caxis}, **kwargs).show(renderer)\n",
        "\n",
        "def two_lines(tensor1, tensor2, renderer=None, **kwargs):\n",
        "    px.line(y=[utils.to_numpy(tensor1), utils.to_numpy(tensor2)], **kwargs).show(renderer)"
      ]
    },
    {
      "cell_type": "markdown",
      "metadata": {
        "id": "Q5t_LmW3Tuej"
      },
      "source": [
        "## Model Setup"
      ]
    },
    {
      "cell_type": "code",
      "execution_count": 9,
      "metadata": {
        "colab": {
          "base_uri": "https://localhost:8080/",
          "height": 359,
          "referenced_widgets": [
            "f9693739d17f4c98a43cc7d033fa2cb8",
            "44d721d6d70240d9b8bf0205acac7dc3",
            "05b59010ed974dd986a86839101ce3ea",
            "9ce916a5e41545049f12c2e3759351ff",
            "0d0d3e1a342f4d5ab798daefed787fce",
            "b1ceea8cba174c48aa7135fc999a3e69",
            "5a6d7211614f4445af664dd76dcf9975",
            "30fe6b41950f432c9acab5e2158f7f1e",
            "e31dc26af5124e27b831b83c8d78e37d",
            "7bc47fcae8894169ac81513918f395ff",
            "37e40e703dda488aa232f65a2c975b88",
            "683bc619a93e44da86ad91bb87748d99",
            "9393eb33559e4227a2d255cf58c71b79",
            "af4f408d66144b5bb9ce45f735f58723",
            "c5d36f6ecdf74c66bcbbc35e6d95e158",
            "4797737007004aa9b0dd5d7cb51cfee3",
            "65cd441b118b4b54b642bb8f98dc0d21"
          ]
        },
        "id": "bIVd-C9hoUmy",
        "outputId": "296105f5-98eb-4fcc-c98a-77a2c7d170fe"
      },
      "outputs": [
        {
          "name": "stdout",
          "output_type": "stream",
          "text": [
            "Token is valid.\n",
            "Your token has been saved in your configured git credential helpers (store).\n",
            "Your token has been saved to /root/.cache/huggingface/token\n",
            "Login successful\n"
          ]
        }
      ],
      "source": [
        "import huggingface_hub\n",
        "huggingface_hub.notebook_login()"
      ]
    },
    {
      "cell_type": "code",
      "execution_count": 7,
      "metadata": {
        "colab": {
          "base_uri": "https://localhost:8080/",
          "height": 81,
          "referenced_widgets": [
            "a9a0659cf58e4380b0134fce33072c3d",
            "a15093c671314a35b5efe16d6686eb51",
            "5650eb52bd7b4329a66fda22961bf0e7",
            "9072974d4b4a456faf6b18e26e1ba53d",
            "d46a4f177d204d6992e1caf3f9b32770",
            "041c551ac941479f8322b181708adbc3",
            "614c947576964c38bce413e9cce94a92",
            "654e7bddff974a669452b9f0c949d9f3",
            "f5af9ae7664d4b27a9c52930c9e927f4",
            "8c65a78b1e354364af195d1a4cab64bf",
            "e06766789c1f4ebb8b1783e721726b20",
            "cabac34aee7c4e24baa8d60ab7c18b15",
            "3c9f22c6d19d4c5788863a6b6a6536b7",
            "fd5b4e87269c4e9fae2665270c852608",
            "d2288a8848fd47ca847a68bdffdc539d",
            "17ace2dfd3ee44e3bfa51bb222058218",
            "92ab521a24c0424f89966e258d75ff17",
            "eafc431d96604c18b88cc82cedb7dd07",
            "afc20fbbf71340a39d7eeb6563dc733a",
            "0566aeabf61c4380933dd30d5b401e49",
            "60b70059b49642038f61159c9ca57d26",
            "0d59de8d71ec4c5dbe46518c812547f9"
          ]
        },
        "id": "zm_w9lBuWUnJ",
        "outputId": "29c4a9aa-5571-478e-9e1d-930a99d62c83"
      },
      "outputs": [],
      "source": [
        "source_model = AutoModelForCausalLM.from_pretrained(\"EleutherAI/pythia-v1.1-1.4b\", revision=\"step143000\")"
      ]
    },
    {
      "cell_type": "code",
      "execution_count": 11,
      "metadata": {
        "colab": {
          "base_uri": "https://localhost:8080/",
          "height": 180,
          "referenced_widgets": [
            "725d6f55eab244e588b5d4777d6646ed",
            "ae37526a683c4998900bd36d0a7779a4",
            "c46947850af147c297258dfa37a8e990",
            "2a68ff8306cb44e088a61efbd544586b",
            "8a1132b1749c410fbe4430eb36e587a8",
            "2ceb6a68f39d46e1b0b34ff7666aef67",
            "b68c8f93308d48eda11d918086c55b0e",
            "f15e0e1d2ccf4ba1b6f195d505704b4b",
            "df024096252b45ffbad506e02423a772",
            "5d1d395545b540868ab84b539a2f3b64",
            "50b63459bc5d495ea59546117237359d",
            "54676bbadc6548658d24b0fcad5ee4f5",
            "dd019ab1c90d43cd8829505e7bc4d632",
            "e5eb50b389a24415871a97a1621b2711",
            "6bc87a6fd58946959300ab4675ba297b",
            "0e8caec2bba745be80069601d893e34c",
            "0b308524d6f14ea192166d1ba1e7a809",
            "f64577bcbc6b4015a89c00c1caf7092b",
            "15b33dd1239d4df8a9ca7c418047b22d",
            "0d25db27700e4de989f1a5c3587a3a4a",
            "a3ebe13477b44a61b5fd539d33b8045c",
            "ec4df465b40d466698270d2abb71fdef",
            "cf3d208d38d54bab84eb70e3a3eb55b9",
            "d39174440c1e4eab9f1cc30f37d842a2",
            "6dc6e284d28c4b0e8a2d03ea131f8932",
            "80b36a70d1e74a378df6b041e4d6e5f3",
            "70737184e655480aac5de70396511856",
            "3666a69ed3a440708bd17a39a4d58df8",
            "35df18a7f90f439c8d7907a12d49d9ce",
            "fb59d991bb07409b92c371a955ebf82e",
            "0889b0f8f6f246a2a1fe5a4d7c2c4685",
            "782fbe051a044449b2d72b71a16f5c0f",
            "ef909da19f6f4036adc219565d29ba34",
            "49283867673045b9bf385cf1b9b5f113",
            "7bff43411d2a442eb071f13718011de0",
            "4162f802a113414aa70bd2561cbd902a",
            "9808d94aafcc4246a6cbc2c214c5d17c",
            "3748785abd5e45ec97ac8c2f4a124a57",
            "ebd0bdddf8f147ef8e9ddddb9adee2bf",
            "3bbd801480944b0fa8436df3fb1b97d2",
            "850e4c7a8b844516bec013825966bb98",
            "727a0e5e2dc249469b215a9b8c51b30f",
            "2aec5071773d4f5c91128587d6c21fdc",
            "06a30641a31448a7a9071844d50d9e65"
          ]
        },
        "id": "61yvZIWCTmFM",
        "outputId": "05b06344-17ea-4702-d0af-ca39a983c76b"
      },
      "outputs": [
        {
          "name": "stderr",
          "output_type": "stream",
          "text": [
            "Using pad_token, but it is not set yet.\n"
          ]
        },
        {
          "name": "stdout",
          "output_type": "stream",
          "text": [
            "Loaded pretrained model EleutherAI/pythia-1.3b into HookedTransformer\n"
          ]
        }
      ],
      "source": [
        "model = HookedTransformer.from_pretrained(\n",
        "    \"EleutherAI/pythia-1.3b\",\n",
        "    hf_model=source_model,\n",
        "    center_unembed=True,\n",
        "    center_writing_weights=True,\n",
        "    fold_ln=True,\n",
        "    #refactor_factored_attn_matrices=True,\n",
        ")"
      ]
    },
    {
      "cell_type": "code",
      "execution_count": 12,
      "metadata": {
        "colab": {
          "base_uri": "https://localhost:8080/",
          "height": 295
        },
        "id": "cDtH6tPBVHup",
        "outputId": "6bab3456-bd6f-4659-82f7-f77a0e107039"
      },
      "outputs": [
        {
          "name": "stdout",
          "output_type": "stream",
          "text": [
            "Tokenized prompt: ['<|endoftext|>', 'After', ' John', ' and', ' Mary', ' went', ' to', ' the', ' store', ',', ' John', ' gave', ' a', ' bottle', ' of', ' milk', ' to']\n",
            "Tokenized answer: [' Mary']\n"
          ]
        },
        {
          "data": {
            "text/html": [
              "<pre style=\"white-space:pre;overflow-x:auto;line-height:normal;font-family:Menlo,'DejaVu Sans Mono',consolas,'Courier New',monospace\">Performance on answer token:\n",
              "<span style=\"font-weight: bold\">Rank: </span><span style=\"color: #008080; text-decoration-color: #008080; font-weight: bold\">0</span><span style=\"font-weight: bold\">        Logit: </span><span style=\"color: #008080; text-decoration-color: #008080; font-weight: bold\">17.05</span><span style=\"font-weight: bold\"> Prob: </span><span style=\"color: #008080; text-decoration-color: #008080; font-weight: bold\">48.49</span><span style=\"font-weight: bold\">% Token: | Mary|</span>\n",
              "</pre>\n"
            ],
            "text/plain": [
              "Performance on answer token:\n",
              "\u001b[1mRank: \u001b[0m\u001b[1;36m0\u001b[0m\u001b[1m        Logit: \u001b[0m\u001b[1;36m17.05\u001b[0m\u001b[1m Prob: \u001b[0m\u001b[1;36m48.49\u001b[0m\u001b[1m% Token: | Mary|\u001b[0m\n"
            ]
          },
          "metadata": {},
          "output_type": "display_data"
        },
        {
          "name": "stdout",
          "output_type": "stream",
          "text": [
            "Top 0th token. Logit: 17.05 Prob: 48.49% Token: | Mary|\n",
            "Top 1th token. Logit: 15.56 Prob: 10.87% Token: | the|\n",
            "Top 2th token. Logit: 14.99 Prob:  6.18% Token: | a|\n",
            "Top 3th token. Logit: 14.59 Prob:  4.15% Token: | his|\n",
            "Top 4th token. Logit: 13.79 Prob:  1.85% Token: | each|\n",
            "Top 5th token. Logit: 13.54 Prob:  1.44% Token: | John|\n",
            "Top 6th token. Logit: 12.87 Prob:  0.74% Token: | their|\n",
            "Top 7th token. Logit: 12.83 Prob:  0.71% Token: | one|\n",
            "Top 8th token. Logit: 12.80 Prob:  0.69% Token: | Mrs|\n",
            "Top 9th token. Logit: 12.53 Prob:  0.53% Token: | an|\n"
          ]
        },
        {
          "data": {
            "text/html": [
              "<pre style=\"white-space:pre;overflow-x:auto;line-height:normal;font-family:Menlo,'DejaVu Sans Mono',consolas,'Courier New',monospace\"><span style=\"font-weight: bold\">Ranks of the answer tokens:</span> <span style=\"font-weight: bold\">[(</span><span style=\"color: #008000; text-decoration-color: #008000\">' Mary'</span>, <span style=\"color: #008080; text-decoration-color: #008080; font-weight: bold\">0</span><span style=\"font-weight: bold\">)]</span>\n",
              "</pre>\n"
            ],
            "text/plain": [
              "\u001b[1mRanks of the answer tokens:\u001b[0m \u001b[1m[\u001b[0m\u001b[1m(\u001b[0m\u001b[32m' Mary'\u001b[0m, \u001b[1;36m0\u001b[0m\u001b[1m)\u001b[0m\u001b[1m]\u001b[0m\n"
            ]
          },
          "metadata": {},
          "output_type": "display_data"
        }
      ],
      "source": [
        "example_prompt = \"After John and Mary went to the store, John gave a bottle of milk to\"\n",
        "example_answer = \" Mary\"\n",
        "utils.test_prompt(example_prompt, example_answer, model, prepend_bos=True)"
      ]
    },
    {
      "cell_type": "code",
      "execution_count": 13,
      "metadata": {
        "colab": {
          "base_uri": "https://localhost:8080/",
          "height": 295
        },
        "id": "ooFJr2nM8Y5O",
        "outputId": "24c17913-335e-491a-df2e-4f2fdca36a4d"
      },
      "outputs": [
        {
          "name": "stdout",
          "output_type": "stream",
          "text": [
            "Tokenized prompt: ['<|endoftext|>', 'After', ' John', ' and', ' Mary', ' went', ' to', ' the', ' store', ',', ' Mary', ' gave', ' a', ' bottle', ' of', ' milk', ' to']\n",
            "Tokenized answer: [' Mary']\n"
          ]
        },
        {
          "data": {
            "text/html": [
              "<pre style=\"white-space:pre;overflow-x:auto;line-height:normal;font-family:Menlo,'DejaVu Sans Mono',consolas,'Courier New',monospace\">Performance on answer token:\n",
              "<span style=\"font-weight: bold\">Rank: </span><span style=\"color: #008080; text-decoration-color: #008080; font-weight: bold\">5</span><span style=\"font-weight: bold\">        Logit: </span><span style=\"color: #008080; text-decoration-color: #008080; font-weight: bold\">13.22</span><span style=\"font-weight: bold\"> Prob:  </span><span style=\"color: #008080; text-decoration-color: #008080; font-weight: bold\">1.45</span><span style=\"font-weight: bold\">% Token: | Mary|</span>\n",
              "</pre>\n"
            ],
            "text/plain": [
              "Performance on answer token:\n",
              "\u001b[1mRank: \u001b[0m\u001b[1;36m5\u001b[0m\u001b[1m        Logit: \u001b[0m\u001b[1;36m13.22\u001b[0m\u001b[1m Prob:  \u001b[0m\u001b[1;36m1.45\u001b[0m\u001b[1m% Token: | Mary|\u001b[0m\n"
            ]
          },
          "metadata": {},
          "output_type": "display_data"
        },
        {
          "name": "stdout",
          "output_type": "stream",
          "text": [
            "Top 0th token. Logit: 15.91 Prob: 21.35% Token: | John|\n",
            "Top 1th token. Logit: 15.86 Prob: 20.21% Token: | the|\n",
            "Top 2th token. Logit: 15.13 Prob:  9.75% Token: | a|\n",
            "Top 3th token. Logit: 14.87 Prob:  7.54% Token: | her|\n",
            "Top 4th token. Logit: 13.86 Prob:  2.76% Token: | each|\n",
            "Top 5th token. Logit: 13.22 Prob:  1.45% Token: | Mary|\n",
            "Top 6th token. Logit: 12.86 Prob:  1.01% Token: | baby|\n",
            "Top 7th token. Logit: 12.82 Prob:  0.97% Token: | one|\n",
            "Top 8th token. Logit: 12.80 Prob:  0.95% Token: | their|\n",
            "Top 9th token. Logit: 12.73 Prob:  0.88% Token: | an|\n"
          ]
        },
        {
          "data": {
            "text/html": [
              "<pre style=\"white-space:pre;overflow-x:auto;line-height:normal;font-family:Menlo,'DejaVu Sans Mono',consolas,'Courier New',monospace\"><span style=\"font-weight: bold\">Ranks of the answer tokens:</span> <span style=\"font-weight: bold\">[(</span><span style=\"color: #008000; text-decoration-color: #008000\">' Mary'</span>, <span style=\"color: #008080; text-decoration-color: #008080; font-weight: bold\">5</span><span style=\"font-weight: bold\">)]</span>\n",
              "</pre>\n"
            ],
            "text/plain": [
              "\u001b[1mRanks of the answer tokens:\u001b[0m \u001b[1m[\u001b[0m\u001b[1m(\u001b[0m\u001b[32m' Mary'\u001b[0m, \u001b[1;36m5\u001b[0m\u001b[1m)\u001b[0m\u001b[1m]\u001b[0m\n"
            ]
          },
          "metadata": {},
          "output_type": "display_data"
        }
      ],
      "source": [
        "example_prompt = \"After John and Mary went to the store, Mary gave a bottle of milk to\"\n",
        "example_answer = \" Mary\"\n",
        "utils.test_prompt(example_prompt, example_answer, model, prepend_bos=True)"
      ]
    },
    {
      "cell_type": "markdown",
      "metadata": {
        "id": "x4diyMzfPCBD"
      },
      "source": [
        "## Data Setup"
      ]
    },
    {
      "cell_type": "code",
      "execution_count": 14,
      "metadata": {
        "colab": {
          "base_uri": "https://localhost:8080/"
        },
        "id": "P6XFjssOZDkw",
        "outputId": "b6d7a217-d459-4dd1-c223-66cbc8950263"
      },
      "outputs": [
        {
          "name": "stdout",
          "output_type": "stream",
          "text": [
            "Clean string 0 <|endoftext|>When John and Mary went to the shops, John gave the bag to\n",
            "Corrupted string 0 <|endoftext|>When John and Mary went to the shops, Mary gave the bag to\n",
            "Answer token indices tensor([[ 6393,  2516],\n",
            "        [ 2516,  6393],\n",
            "        [ 6270,  5490],\n",
            "        [ 5490,  6270],\n",
            "        [ 5682, 24752],\n",
            "        [24752,  5682],\n",
            "        [ 8698, 22138],\n",
            "        [22138,  8698]], device='cuda:0')\n"
          ]
        }
      ],
      "source": [
        "prompts = [\n",
        "    'When John and Mary went to the shops, John gave the bag to',\n",
        "    'When John and Mary went to the shops, Mary gave the bag to',\n",
        "    'When Tom and James went to the park, James gave the ball to',\n",
        "    'When Tom and James went to the park, Tom gave the ball to',\n",
        "    'When Dan and Sid went to the shops, Sid gave an apple to',\n",
        "    'When Dan and Sid went to the shops, Dan gave an apple to',\n",
        "    'After Martin and Amy went to the park, Amy gave a drink to',\n",
        "    'After Martin and Amy went to the park, Martin gave a drink to'\n",
        "    ]\n",
        "    \n",
        "answers = [\n",
        "    (' Mary', ' John'), \n",
        "    (' John', ' Mary'), \n",
        "    (' Tom', ' James'), \n",
        "    (' James', ' Tom'), \n",
        "    (' Dan', ' Sid'), \n",
        "    (' Sid', ' Dan'), \n",
        "    (' Martin', ' Amy'), \n",
        "    (' Amy', ' Martin')\n",
        "    ]\n",
        "\n",
        "clean_tokens = model.to_tokens(prompts)\n",
        "# Swap each adjacent pair, with a hacky list comprehension\n",
        "corrupted_tokens = clean_tokens[\n",
        "    [(i+1 if i%2==0 else i-1) for i in range(len(clean_tokens)) ]\n",
        "    ]\n",
        "print(\"Clean string 0\", model.to_string(clean_tokens[0]))\n",
        "print(\"Corrupted string 0\", model.to_string(corrupted_tokens[0]))\n",
        "\n",
        "answer_token_indices = torch.tensor([[model.to_single_token(answers[i][j]) for j in range(2)] for i in range(len(answers))], device=model.cfg.device)\n",
        "print(\"Answer token indices\", answer_token_indices)"
      ]
    },
    {
      "cell_type": "code",
      "execution_count": 15,
      "metadata": {
        "colab": {
          "base_uri": "https://localhost:8080/"
        },
        "id": "s5xN36qn2Z9S",
        "outputId": "657f0fbd-f410-4df1-a34f-b858046b53e3"
      },
      "outputs": [
        {
          "data": {
            "text/plain": [
              "['<|endoftext|>',\n",
              " 'When',\n",
              " ' John',\n",
              " ' and',\n",
              " ' Mary',\n",
              " ' went',\n",
              " ' to',\n",
              " ' the',\n",
              " ' shops',\n",
              " ',',\n",
              " ' John',\n",
              " ' gave',\n",
              " ' the',\n",
              " ' bag',\n",
              " ' to']"
            ]
          },
          "execution_count": 15,
          "metadata": {},
          "output_type": "execute_result"
        }
      ],
      "source": [
        "model.to_str_tokens(corrupted_tokens[1])"
      ]
    },
    {
      "cell_type": "markdown",
      "metadata": {
        "id": "oHCkQu4YSOX2"
      },
      "source": [
        "## Tool Setup"
      ]
    },
    {
      "cell_type": "markdown",
      "metadata": {
        "id": "hZerXmikSYIN"
      },
      "source": [
        "### Activation Patching"
      ]
    },
    {
      "cell_type": "code",
      "execution_count": 16,
      "metadata": {
        "colab": {
          "base_uri": "https://localhost:8080/"
        },
        "id": "lrxnGyi7E19v",
        "outputId": "8782d11d-d3b0-4b2c-851a-bba66b0765ec"
      },
      "outputs": [
        {
          "name": "stdout",
          "output_type": "stream",
          "text": [
            "Clean logit diff: 4.5503\n",
            "Corrupted logit diff: -4.5503\n"
          ]
        }
      ],
      "source": [
        "def get_logit_diff(logits, answer_token_indices=answer_token_indices):\n",
        "    if len(logits.shape)==3:\n",
        "        # Get final logits only\n",
        "        logits = logits[:, -1, :]\n",
        "    correct_logits = logits.gather(1, answer_token_indices[:, 0].unsqueeze(1))\n",
        "    incorrect_logits = logits.gather(1, answer_token_indices[:, 1].unsqueeze(1))\n",
        "    return (correct_logits - incorrect_logits).mean()\n",
        "\n",
        "clean_logits, clean_cache = model.run_with_cache(clean_tokens)\n",
        "corrupted_logits, corrupted_cache = model.run_with_cache(corrupted_tokens)\n",
        "\n",
        "clean_logit_diff = get_logit_diff(clean_logits, answer_token_indices).item()\n",
        "print(f\"Clean logit diff: {clean_logit_diff:.4f}\")\n",
        "\n",
        "corrupted_logit_diff = get_logit_diff(corrupted_logits, answer_token_indices).item()\n",
        "print(f\"Corrupted logit diff: {corrupted_logit_diff:.4f}\")"
      ]
    },
    {
      "cell_type": "code",
      "execution_count": 17,
      "metadata": {
        "colab": {
          "base_uri": "https://localhost:8080/"
        },
        "id": "DnRTCaAoFK7n",
        "outputId": "0ec92084-b193-42ee-884f-c431a89f5912"
      },
      "outputs": [
        {
          "name": "stdout",
          "output_type": "stream",
          "text": [
            "Clean Baseline is 1: 1.0000\n",
            "Corrupted Baseline is 0: 0.0000\n"
          ]
        }
      ],
      "source": [
        "CLEAN_BASELINE = clean_logit_diff\n",
        "CORRUPTED_BASELINE = corrupted_logit_diff\n",
        "def ioi_metric(logits, answer_token_indices=answer_token_indices):\n",
        "    return (get_logit_diff(logits, answer_token_indices) - CORRUPTED_BASELINE) / (CLEAN_BASELINE  - CORRUPTED_BASELINE)\n",
        "\n",
        "clean_baseline_ioi = ioi_metric(clean_logits)\n",
        "corrupted_baseline_ioi = ioi_metric(corrupted_logits)\n",
        "\n",
        "print(f\"Clean Baseline is 1: {ioi_metric(clean_logits).item():.4f}\")\n",
        "print(f\"Corrupted Baseline is 0: {ioi_metric(corrupted_logits).item():.4f}\")"
      ]
    },
    {
      "cell_type": "code",
      "execution_count": 18,
      "metadata": {
        "id": "AKgmBY7tS0s8"
      },
      "outputs": [],
      "source": [
        "# Whether to do the runs by head and by position, which are much slower\n",
        "DO_SLOW_RUNS = True"
      ]
    },
    {
      "cell_type": "markdown",
      "metadata": {
        "id": "VS_IJFyISciI"
      },
      "source": [
        "### Path Patching"
      ]
    },
    {
      "cell_type": "code",
      "execution_count": 19,
      "metadata": {
        "id": "wqt7lt-yprYK"
      },
      "outputs": [],
      "source": [
        "def patch_pos_head_vector(\n",
        "    orig_head_vector: TT[\"batch\", \"pos\", \"head_index\", \"d_head\"],\n",
        "    hook,\n",
        "    pos, \n",
        "    head_index, \n",
        "    patch_cache):\n",
        "    #print(patch_cache.keys())\n",
        "    orig_head_vector[:, pos, head_index, :] = patch_cache[hook.name][:, pos, head_index, :]\n",
        "    return orig_head_vector\n",
        "\n",
        "def patch_head_vector(\n",
        "    orig_head_vector: TT[\"batch\", \"pos\", \"head_index\", \"d_head\"],\n",
        "    hook,\n",
        "    head_index, \n",
        "    patch_cache):\n",
        "    orig_head_vector[:, :, head_index, :] = patch_cache[hook.name][:, :, head_index, :]\n",
        "    return orig_head_vector"
      ]
    },
    {
      "cell_type": "code",
      "execution_count": 20,
      "metadata": {
        "id": "71ZrLtVyU2fX"
      },
      "outputs": [],
      "source": [
        "def path_patching(\n",
        "    model,\n",
        "    patch_tokens,\n",
        "    orig_tokens,\n",
        "    sender_heads,\n",
        "    receiver_hooks,\n",
        "    positions=-1,\n",
        "):\n",
        "    \"\"\"\n",
        "    Patch in the effect of `sender_heads` on `receiver_hooks` only\n",
        "    (though MLPs are \"ignored\" if `freeze_mlps` is False so are slight confounders in this case - see Appendix B of https://arxiv.org/pdf/2211.00593.pdf)\n",
        "\n",
        "    TODO fix this: if max_layer < model.cfg.n_layers, then let some part of the model do computations (not frozen)\n",
        "    \"\"\"\n",
        "\n",
        "    def patch_positions(z, source_act, hook, positions=[\"end\"], verbose=False):\n",
        "        for pos in positions:\n",
        "            z[torch.arange(orig_tokens.N), orig_tokens.word_idx[pos]] = source_act[\n",
        "                torch.arange(patch_tokens.N), patch_tokens.word_idx[pos]\n",
        "            ]\n",
        "        return z\n",
        "\n",
        "    # process arguments\n",
        "    sender_hooks = []\n",
        "    for layer, head_idx in sender_heads:\n",
        "        if head_idx is None:\n",
        "            sender_hooks.append((f\"blocks.{layer}.hook_mlp_out\", None))\n",
        "\n",
        "        else:\n",
        "            sender_hooks.append((f\"blocks.{layer}.attn.hook_z\", head_idx))\n",
        "\n",
        "    sender_hook_names = [x[0] for x in sender_hooks]\n",
        "    receiver_hook_names = [x[0] for x in receiver_hooks]\n",
        "    receiver_hook_heads = [x[1] for x in receiver_hooks]\n",
        "    # Forward pass A (in https://arxiv.org/pdf/2211.00593.pdf)\n",
        "    source_logits, sender_cache = model.run_with_cache(patch_tokens)\n",
        "\n",
        "    # Forward pass B\n",
        "    target_logits, target_cache = model.run_with_cache(orig_tokens)\n",
        "\n",
        "    # Forward pass C\n",
        "    # Cache the receiver hooks\n",
        "    # (adding these hooks first means we save values BEFORE they are overwritten)\n",
        "    receiver_cache = model.add_caching_hooks(lambda x: x in receiver_hook_names)\n",
        "\n",
        "    # \"Freeze\" intermediate heads to their orig_tokens values\n",
        "    # q, k, and v will get frozen, and then if it's a sender head, this will get undone\n",
        "    # z, attn_out, and the MLP will all be recomputed and added to the residual stream\n",
        "    # however, the effect of the change on the residual stream will be overwritten by the\n",
        "    # freezing for all non-receiver components\n",
        "    pass_c_hooks = []\n",
        "    for layer in range(model.cfg.n_layers):\n",
        "        for head_idx in range(model.cfg.n_heads):\n",
        "            for hook_template in [\n",
        "                \"blocks.{}.attn.hook_q\",\n",
        "                \"blocks.{}.attn.hook_k\",\n",
        "                \"blocks.{}.attn.hook_v\",\n",
        "            ]:\n",
        "                hook_name = hook_template.format(layer)\n",
        "                if (hook_name, head_idx) not in receiver_hooks:\n",
        "                    #print(f\"Freezing {hook_name}\")\n",
        "                    hook = partial(\n",
        "                        patch_head_vector,\n",
        "                        head_index=head_idx,\n",
        "                        patch_cache=target_cache\n",
        "                    )\n",
        "                    pass_c_hooks.append((hook_name, hook))\n",
        "                else:\n",
        "                    pass\n",
        "                    #print(f\"Not freezing {hook_name}\")\n",
        "\n",
        "    # These hooks will overwrite the freezing, for the sender heads\n",
        "    # We also carry out pass C\n",
        "    for hook_name, head_idx in sender_hooks:\n",
        "        assert not torch.allclose(sender_cache[hook_name], target_cache[hook_name]), (\n",
        "            hook_name,\n",
        "            head_idx,\n",
        "        )\n",
        "        hook = partial(\n",
        "            patch_pos_head_vector,\n",
        "            pos=positions,\n",
        "            head_index=head_idx,\n",
        "            patch_cache=sender_cache\n",
        "        )\n",
        "        pass_c_hooks.append((hook_name, hook))\n",
        "  \n",
        "    receiver_logits = model.run_with_hooks(orig_tokens, fwd_hooks=pass_c_hooks)\n",
        "    # Add (or return) all the hooks needed for forward pass D\n",
        "    pass_d_hooks = []\n",
        "\n",
        "    for hook_name, head_idx in receiver_hooks:\n",
        "        #for pos in positions:\n",
        "            # if torch.allclose(\n",
        "            #     receiver_cache[hook_name][torch.arange(orig_tokens.N), orig_tokens.word_idx[pos]],\n",
        "            #     target_cache[hook_name][torch.arange(orig_tokens.N), orig_tokens.word_idx[pos]],\n",
        "            # ):\n",
        "            #     warnings.warn(\"Torch all close for {}\".format(hook_name))\n",
        "        hook = partial(\n",
        "            patch_pos_head_vector,\n",
        "            pos=positions,\n",
        "            head_index=head_idx,\n",
        "            patch_cache=receiver_cache\n",
        "        )\n",
        "        pass_d_hooks.append((hook_name, hook))\n",
        "\n",
        "    return pass_d_hooks\n",
        "    "
      ]
    },
    {
      "cell_type": "markdown",
      "metadata": {
        "id": "wJmRjr70c8I1"
      },
      "source": [
        "### Attention Visualization"
      ]
    },
    {
      "cell_type": "code",
      "execution_count": 21,
      "metadata": {
        "id": "u1G_YRVJJfh9"
      },
      "outputs": [],
      "source": [
        "def get_attn_head_patterns(model, prompt, attn_heads):\n",
        "    if isinstance(prompt, str):\n",
        "        prompt = model.to_tokens(prompt)\n",
        "    logits, cache = model.run_with_cache(prompt, remove_batch_dim=True)\n",
        "\n",
        "    head_list = []\n",
        "    head_name_list = []\n",
        "    for layer, head in attn_heads:\n",
        "        head_list.append(cache[\"pattern\", layer, \"attn\"][head])\n",
        "        head_name_list.append(f\"L{layer}H{head}\")\n",
        "    attention_pattern = torch.stack(head_list, dim=0)\n",
        "    tokens = model.to_str_tokens(prompt)\n",
        "    \n",
        "    return tokens, attention_pattern, head_name_list"
      ]
    },
    {
      "cell_type": "markdown",
      "metadata": {
        "id": "fqoEyBg-gaK9"
      },
      "source": [
        "## Direct Logit Attribution"
      ]
    },
    {
      "cell_type": "markdown",
      "metadata": {
        "id": "Vg4HzeVUfBQt"
      },
      "source": [
        "In this section, we use the residual directions of the logit difference to find what parts of the network are contributing the most to that subspace. Using logit lens, we see how the subspace evolves, and using direct logit contribution, we can see what parts of the network correspond most with the logit difference directions."
      ]
    },
    {
      "cell_type": "code",
      "execution_count": 22,
      "metadata": {
        "colab": {
          "base_uri": "https://localhost:8080/"
        },
        "id": "nE9iwVsTgRYK",
        "outputId": "f8832317-ceea-4c99-b1dd-c9f48da798b3"
      },
      "outputs": [
        {
          "name": "stdout",
          "output_type": "stream",
          "text": [
            "Answer residual directions shape: torch.Size([8, 2, 2048])\n",
            "Logit difference directions shape: torch.Size([8, 2048])\n"
          ]
        }
      ],
      "source": [
        "answer_residual_directions = model.tokens_to_residual_directions(answer_token_indices)\n",
        "print(\"Answer residual directions shape:\", answer_residual_directions.shape)\n",
        "logit_diff_directions = answer_residual_directions[:, 0] - answer_residual_directions[:, 1]\n",
        "print(\"Logit difference directions shape:\", logit_diff_directions.shape)"
      ]
    },
    {
      "cell_type": "code",
      "execution_count": 23,
      "metadata": {
        "colab": {
          "base_uri": "https://localhost:8080/"
        },
        "id": "g7cKoX1qgdr-",
        "outputId": "30095cba-b602-4b07-c54f-532226918238"
      },
      "outputs": [
        {
          "name": "stdout",
          "output_type": "stream",
          "text": [
            "Final residual stream shape: torch.Size([8, 15, 2048])\n",
            "Calculated average logit diff: 4.550283432006836\n",
            "Original logit difference: 4.550281047821045\n"
          ]
        }
      ],
      "source": [
        "# cache syntax - resid_post is the residual stream at the end of the layer, -1 gets the final layer. The general syntax is [activation_name, layer_index, sub_layer_type]. \n",
        "final_residual_stream = clean_cache[\"resid_post\", -1]\n",
        "print(\"Final residual stream shape:\", final_residual_stream.shape)\n",
        "final_token_residual_stream = final_residual_stream[:, -1, :]\n",
        "# Apply LayerNorm scaling\n",
        "# pos_slice is the subset of the positions we take - here the final token of each prompt\n",
        "scaled_final_token_residual_stream = clean_cache.apply_ln_to_stack(final_token_residual_stream, layer = -1, pos_slice=-1)\n",
        "\n",
        "average_logit_diff = einsum(\"batch d_model, batch d_model -> \", scaled_final_token_residual_stream, logit_diff_directions)/len(prompts)\n",
        "print(\"Calculated average logit diff:\", average_logit_diff.item())\n",
        "print(\"Original logit difference:\",clean_logit_diff)"
      ]
    },
    {
      "cell_type": "markdown",
      "metadata": {
        "id": "J_6hJj0lgkma"
      },
      "source": [
        "### Logit Lens"
      ]
    },
    {
      "cell_type": "markdown",
      "metadata": {
        "id": "4oI6tdCKSGGc"
      },
      "source": [
        "The model cannot perform the task until layer 8, and performance increases and then drops afterwards. (This graph shows the logit lens at `resid_pre`, so \"8\" corresponds to the activations previous to block 8.)"
      ]
    },
    {
      "cell_type": "code",
      "execution_count": 24,
      "metadata": {
        "id": "tTKZm-L1ggRJ"
      },
      "outputs": [],
      "source": [
        "def residual_stack_to_logit_diff(residual_stack: TT[\"components\", \"batch\", \"d_model\"], cache: ActivationCache) -> float:\n",
        "    scaled_residual_stack = cache.apply_ln_to_stack(residual_stack, layer = -1, pos_slice=-1)\n",
        "    return einsum(\"... batch d_model, batch d_model -> ...\", scaled_residual_stack, answer_residual_directions[:, 0])/len(prompts)\n"
      ]
    },
    {
      "cell_type": "code",
      "execution_count": 25,
      "metadata": {
        "colab": {
          "base_uri": "https://localhost:8080/",
          "height": 542
        },
        "id": "7Gj4Be6HgluO",
        "outputId": "88ff6e69-2ea2-400c-afa2-36b1e80cf26f"
      },
      "outputs": [
        {
          "data": {
            "application/vnd.plotly.v1+json": {
              "config": {
                "plotlyServerURL": "https://plot.ly"
              },
              "data": [
                {
                  "hovertemplate": "x=%{x}<br>y=%{y}<extra></extra>",
                  "legendgroup": "",
                  "line": {
                    "color": "#636efa",
                    "dash": "solid"
                  },
                  "marker": {
                    "symbol": "circle"
                  },
                  "mode": "lines",
                  "name": "",
                  "orientation": "v",
                  "showlegend": false,
                  "type": "scatter",
                  "x": [
                    0,
                    1,
                    2,
                    3,
                    4,
                    5,
                    6,
                    7,
                    8,
                    9,
                    10,
                    11,
                    12,
                    13,
                    14,
                    15,
                    16,
                    17,
                    18,
                    19,
                    20,
                    21,
                    22,
                    23,
                    24
                  ],
                  "xaxis": "x",
                  "y": [
                    0.0017354893498122692,
                    0.10620806366205215,
                    0.06191759556531906,
                    0.033343516290187836,
                    0.25836145877838135,
                    0.10909858345985413,
                    0.20496545732021332,
                    0.16602985560894012,
                    0.00438806414604187,
                    0.28084421157836914,
                    0.37506529688835144,
                    0.7619237899780273,
                    1.2265137434005737,
                    1.547884464263916,
                    2.884122371673584,
                    3.5432045459747314,
                    6.635268688201904,
                    7.407550811767578,
                    10.136552810668945,
                    10.735614776611328,
                    11.60786247253418,
                    11.125054359436035,
                    11.515605926513672,
                    12.537790298461914,
                    16.83768653869629
                  ],
                  "yaxis": "y"
                }
              ],
              "layout": {
                "legend": {
                  "tracegroupgap": 0
                },
                "template": {
                  "data": {
                    "bar": [
                      {
                        "error_x": {
                          "color": "#2a3f5f"
                        },
                        "error_y": {
                          "color": "#2a3f5f"
                        },
                        "marker": {
                          "line": {
                            "color": "#E5ECF6",
                            "width": 0.5
                          },
                          "pattern": {
                            "fillmode": "overlay",
                            "size": 10,
                            "solidity": 0.2
                          }
                        },
                        "type": "bar"
                      }
                    ],
                    "barpolar": [
                      {
                        "marker": {
                          "line": {
                            "color": "#E5ECF6",
                            "width": 0.5
                          },
                          "pattern": {
                            "fillmode": "overlay",
                            "size": 10,
                            "solidity": 0.2
                          }
                        },
                        "type": "barpolar"
                      }
                    ],
                    "carpet": [
                      {
                        "aaxis": {
                          "endlinecolor": "#2a3f5f",
                          "gridcolor": "white",
                          "linecolor": "white",
                          "minorgridcolor": "white",
                          "startlinecolor": "#2a3f5f"
                        },
                        "baxis": {
                          "endlinecolor": "#2a3f5f",
                          "gridcolor": "white",
                          "linecolor": "white",
                          "minorgridcolor": "white",
                          "startlinecolor": "#2a3f5f"
                        },
                        "type": "carpet"
                      }
                    ],
                    "choropleth": [
                      {
                        "colorbar": {
                          "outlinewidth": 0,
                          "ticks": ""
                        },
                        "type": "choropleth"
                      }
                    ],
                    "contour": [
                      {
                        "colorbar": {
                          "outlinewidth": 0,
                          "ticks": ""
                        },
                        "colorscale": [
                          [
                            0,
                            "#0d0887"
                          ],
                          [
                            0.1111111111111111,
                            "#46039f"
                          ],
                          [
                            0.2222222222222222,
                            "#7201a8"
                          ],
                          [
                            0.3333333333333333,
                            "#9c179e"
                          ],
                          [
                            0.4444444444444444,
                            "#bd3786"
                          ],
                          [
                            0.5555555555555556,
                            "#d8576b"
                          ],
                          [
                            0.6666666666666666,
                            "#ed7953"
                          ],
                          [
                            0.7777777777777778,
                            "#fb9f3a"
                          ],
                          [
                            0.8888888888888888,
                            "#fdca26"
                          ],
                          [
                            1,
                            "#f0f921"
                          ]
                        ],
                        "type": "contour"
                      }
                    ],
                    "contourcarpet": [
                      {
                        "colorbar": {
                          "outlinewidth": 0,
                          "ticks": ""
                        },
                        "type": "contourcarpet"
                      }
                    ],
                    "heatmap": [
                      {
                        "colorbar": {
                          "outlinewidth": 0,
                          "ticks": ""
                        },
                        "colorscale": [
                          [
                            0,
                            "#0d0887"
                          ],
                          [
                            0.1111111111111111,
                            "#46039f"
                          ],
                          [
                            0.2222222222222222,
                            "#7201a8"
                          ],
                          [
                            0.3333333333333333,
                            "#9c179e"
                          ],
                          [
                            0.4444444444444444,
                            "#bd3786"
                          ],
                          [
                            0.5555555555555556,
                            "#d8576b"
                          ],
                          [
                            0.6666666666666666,
                            "#ed7953"
                          ],
                          [
                            0.7777777777777778,
                            "#fb9f3a"
                          ],
                          [
                            0.8888888888888888,
                            "#fdca26"
                          ],
                          [
                            1,
                            "#f0f921"
                          ]
                        ],
                        "type": "heatmap"
                      }
                    ],
                    "heatmapgl": [
                      {
                        "colorbar": {
                          "outlinewidth": 0,
                          "ticks": ""
                        },
                        "colorscale": [
                          [
                            0,
                            "#0d0887"
                          ],
                          [
                            0.1111111111111111,
                            "#46039f"
                          ],
                          [
                            0.2222222222222222,
                            "#7201a8"
                          ],
                          [
                            0.3333333333333333,
                            "#9c179e"
                          ],
                          [
                            0.4444444444444444,
                            "#bd3786"
                          ],
                          [
                            0.5555555555555556,
                            "#d8576b"
                          ],
                          [
                            0.6666666666666666,
                            "#ed7953"
                          ],
                          [
                            0.7777777777777778,
                            "#fb9f3a"
                          ],
                          [
                            0.8888888888888888,
                            "#fdca26"
                          ],
                          [
                            1,
                            "#f0f921"
                          ]
                        ],
                        "type": "heatmapgl"
                      }
                    ],
                    "histogram": [
                      {
                        "marker": {
                          "pattern": {
                            "fillmode": "overlay",
                            "size": 10,
                            "solidity": 0.2
                          }
                        },
                        "type": "histogram"
                      }
                    ],
                    "histogram2d": [
                      {
                        "colorbar": {
                          "outlinewidth": 0,
                          "ticks": ""
                        },
                        "colorscale": [
                          [
                            0,
                            "#0d0887"
                          ],
                          [
                            0.1111111111111111,
                            "#46039f"
                          ],
                          [
                            0.2222222222222222,
                            "#7201a8"
                          ],
                          [
                            0.3333333333333333,
                            "#9c179e"
                          ],
                          [
                            0.4444444444444444,
                            "#bd3786"
                          ],
                          [
                            0.5555555555555556,
                            "#d8576b"
                          ],
                          [
                            0.6666666666666666,
                            "#ed7953"
                          ],
                          [
                            0.7777777777777778,
                            "#fb9f3a"
                          ],
                          [
                            0.8888888888888888,
                            "#fdca26"
                          ],
                          [
                            1,
                            "#f0f921"
                          ]
                        ],
                        "type": "histogram2d"
                      }
                    ],
                    "histogram2dcontour": [
                      {
                        "colorbar": {
                          "outlinewidth": 0,
                          "ticks": ""
                        },
                        "colorscale": [
                          [
                            0,
                            "#0d0887"
                          ],
                          [
                            0.1111111111111111,
                            "#46039f"
                          ],
                          [
                            0.2222222222222222,
                            "#7201a8"
                          ],
                          [
                            0.3333333333333333,
                            "#9c179e"
                          ],
                          [
                            0.4444444444444444,
                            "#bd3786"
                          ],
                          [
                            0.5555555555555556,
                            "#d8576b"
                          ],
                          [
                            0.6666666666666666,
                            "#ed7953"
                          ],
                          [
                            0.7777777777777778,
                            "#fb9f3a"
                          ],
                          [
                            0.8888888888888888,
                            "#fdca26"
                          ],
                          [
                            1,
                            "#f0f921"
                          ]
                        ],
                        "type": "histogram2dcontour"
                      }
                    ],
                    "mesh3d": [
                      {
                        "colorbar": {
                          "outlinewidth": 0,
                          "ticks": ""
                        },
                        "type": "mesh3d"
                      }
                    ],
                    "parcoords": [
                      {
                        "line": {
                          "colorbar": {
                            "outlinewidth": 0,
                            "ticks": ""
                          }
                        },
                        "type": "parcoords"
                      }
                    ],
                    "pie": [
                      {
                        "automargin": true,
                        "type": "pie"
                      }
                    ],
                    "scatter": [
                      {
                        "fillpattern": {
                          "fillmode": "overlay",
                          "size": 10,
                          "solidity": 0.2
                        },
                        "type": "scatter"
                      }
                    ],
                    "scatter3d": [
                      {
                        "line": {
                          "colorbar": {
                            "outlinewidth": 0,
                            "ticks": ""
                          }
                        },
                        "marker": {
                          "colorbar": {
                            "outlinewidth": 0,
                            "ticks": ""
                          }
                        },
                        "type": "scatter3d"
                      }
                    ],
                    "scattercarpet": [
                      {
                        "marker": {
                          "colorbar": {
                            "outlinewidth": 0,
                            "ticks": ""
                          }
                        },
                        "type": "scattercarpet"
                      }
                    ],
                    "scattergeo": [
                      {
                        "marker": {
                          "colorbar": {
                            "outlinewidth": 0,
                            "ticks": ""
                          }
                        },
                        "type": "scattergeo"
                      }
                    ],
                    "scattergl": [
                      {
                        "marker": {
                          "colorbar": {
                            "outlinewidth": 0,
                            "ticks": ""
                          }
                        },
                        "type": "scattergl"
                      }
                    ],
                    "scattermapbox": [
                      {
                        "marker": {
                          "colorbar": {
                            "outlinewidth": 0,
                            "ticks": ""
                          }
                        },
                        "type": "scattermapbox"
                      }
                    ],
                    "scatterpolar": [
                      {
                        "marker": {
                          "colorbar": {
                            "outlinewidth": 0,
                            "ticks": ""
                          }
                        },
                        "type": "scatterpolar"
                      }
                    ],
                    "scatterpolargl": [
                      {
                        "marker": {
                          "colorbar": {
                            "outlinewidth": 0,
                            "ticks": ""
                          }
                        },
                        "type": "scatterpolargl"
                      }
                    ],
                    "scatterternary": [
                      {
                        "marker": {
                          "colorbar": {
                            "outlinewidth": 0,
                            "ticks": ""
                          }
                        },
                        "type": "scatterternary"
                      }
                    ],
                    "surface": [
                      {
                        "colorbar": {
                          "outlinewidth": 0,
                          "ticks": ""
                        },
                        "colorscale": [
                          [
                            0,
                            "#0d0887"
                          ],
                          [
                            0.1111111111111111,
                            "#46039f"
                          ],
                          [
                            0.2222222222222222,
                            "#7201a8"
                          ],
                          [
                            0.3333333333333333,
                            "#9c179e"
                          ],
                          [
                            0.4444444444444444,
                            "#bd3786"
                          ],
                          [
                            0.5555555555555556,
                            "#d8576b"
                          ],
                          [
                            0.6666666666666666,
                            "#ed7953"
                          ],
                          [
                            0.7777777777777778,
                            "#fb9f3a"
                          ],
                          [
                            0.8888888888888888,
                            "#fdca26"
                          ],
                          [
                            1,
                            "#f0f921"
                          ]
                        ],
                        "type": "surface"
                      }
                    ],
                    "table": [
                      {
                        "cells": {
                          "fill": {
                            "color": "#EBF0F8"
                          },
                          "line": {
                            "color": "white"
                          }
                        },
                        "header": {
                          "fill": {
                            "color": "#C8D4E3"
                          },
                          "line": {
                            "color": "white"
                          }
                        },
                        "type": "table"
                      }
                    ]
                  },
                  "layout": {
                    "annotationdefaults": {
                      "arrowcolor": "#2a3f5f",
                      "arrowhead": 0,
                      "arrowwidth": 1
                    },
                    "autotypenumbers": "strict",
                    "coloraxis": {
                      "colorbar": {
                        "outlinewidth": 0,
                        "ticks": ""
                      }
                    },
                    "colorscale": {
                      "diverging": [
                        [
                          0,
                          "#8e0152"
                        ],
                        [
                          0.1,
                          "#c51b7d"
                        ],
                        [
                          0.2,
                          "#de77ae"
                        ],
                        [
                          0.3,
                          "#f1b6da"
                        ],
                        [
                          0.4,
                          "#fde0ef"
                        ],
                        [
                          0.5,
                          "#f7f7f7"
                        ],
                        [
                          0.6,
                          "#e6f5d0"
                        ],
                        [
                          0.7,
                          "#b8e186"
                        ],
                        [
                          0.8,
                          "#7fbc41"
                        ],
                        [
                          0.9,
                          "#4d9221"
                        ],
                        [
                          1,
                          "#276419"
                        ]
                      ],
                      "sequential": [
                        [
                          0,
                          "#0d0887"
                        ],
                        [
                          0.1111111111111111,
                          "#46039f"
                        ],
                        [
                          0.2222222222222222,
                          "#7201a8"
                        ],
                        [
                          0.3333333333333333,
                          "#9c179e"
                        ],
                        [
                          0.4444444444444444,
                          "#bd3786"
                        ],
                        [
                          0.5555555555555556,
                          "#d8576b"
                        ],
                        [
                          0.6666666666666666,
                          "#ed7953"
                        ],
                        [
                          0.7777777777777778,
                          "#fb9f3a"
                        ],
                        [
                          0.8888888888888888,
                          "#fdca26"
                        ],
                        [
                          1,
                          "#f0f921"
                        ]
                      ],
                      "sequentialminus": [
                        [
                          0,
                          "#0d0887"
                        ],
                        [
                          0.1111111111111111,
                          "#46039f"
                        ],
                        [
                          0.2222222222222222,
                          "#7201a8"
                        ],
                        [
                          0.3333333333333333,
                          "#9c179e"
                        ],
                        [
                          0.4444444444444444,
                          "#bd3786"
                        ],
                        [
                          0.5555555555555556,
                          "#d8576b"
                        ],
                        [
                          0.6666666666666666,
                          "#ed7953"
                        ],
                        [
                          0.7777777777777778,
                          "#fb9f3a"
                        ],
                        [
                          0.8888888888888888,
                          "#fdca26"
                        ],
                        [
                          1,
                          "#f0f921"
                        ]
                      ]
                    },
                    "colorway": [
                      "#636efa",
                      "#EF553B",
                      "#00cc96",
                      "#ab63fa",
                      "#FFA15A",
                      "#19d3f3",
                      "#FF6692",
                      "#B6E880",
                      "#FF97FF",
                      "#FECB52"
                    ],
                    "font": {
                      "color": "#2a3f5f"
                    },
                    "geo": {
                      "bgcolor": "white",
                      "lakecolor": "white",
                      "landcolor": "#E5ECF6",
                      "showlakes": true,
                      "showland": true,
                      "subunitcolor": "white"
                    },
                    "hoverlabel": {
                      "align": "left"
                    },
                    "hovermode": "closest",
                    "mapbox": {
                      "style": "light"
                    },
                    "paper_bgcolor": "white",
                    "plot_bgcolor": "#E5ECF6",
                    "polar": {
                      "angularaxis": {
                        "gridcolor": "white",
                        "linecolor": "white",
                        "ticks": ""
                      },
                      "bgcolor": "#E5ECF6",
                      "radialaxis": {
                        "gridcolor": "white",
                        "linecolor": "white",
                        "ticks": ""
                      }
                    },
                    "scene": {
                      "xaxis": {
                        "backgroundcolor": "#E5ECF6",
                        "gridcolor": "white",
                        "gridwidth": 2,
                        "linecolor": "white",
                        "showbackground": true,
                        "ticks": "",
                        "zerolinecolor": "white"
                      },
                      "yaxis": {
                        "backgroundcolor": "#E5ECF6",
                        "gridcolor": "white",
                        "gridwidth": 2,
                        "linecolor": "white",
                        "showbackground": true,
                        "ticks": "",
                        "zerolinecolor": "white"
                      },
                      "zaxis": {
                        "backgroundcolor": "#E5ECF6",
                        "gridcolor": "white",
                        "gridwidth": 2,
                        "linecolor": "white",
                        "showbackground": true,
                        "ticks": "",
                        "zerolinecolor": "white"
                      }
                    },
                    "shapedefaults": {
                      "line": {
                        "color": "#2a3f5f"
                      }
                    },
                    "ternary": {
                      "aaxis": {
                        "gridcolor": "white",
                        "linecolor": "white",
                        "ticks": ""
                      },
                      "baxis": {
                        "gridcolor": "white",
                        "linecolor": "white",
                        "ticks": ""
                      },
                      "bgcolor": "#E5ECF6",
                      "caxis": {
                        "gridcolor": "white",
                        "linecolor": "white",
                        "ticks": ""
                      }
                    },
                    "title": {
                      "x": 0.05
                    },
                    "xaxis": {
                      "automargin": true,
                      "gridcolor": "white",
                      "linecolor": "white",
                      "ticks": "",
                      "title": {
                        "standoff": 15
                      },
                      "zerolinecolor": "white",
                      "zerolinewidth": 2
                    },
                    "yaxis": {
                      "automargin": true,
                      "gridcolor": "white",
                      "linecolor": "white",
                      "ticks": "",
                      "title": {
                        "standoff": 15
                      },
                      "zerolinecolor": "white",
                      "zerolinewidth": 2
                    }
                  }
                },
                "title": {
                  "text": "Logit Difference From Accumulated Residual Stream"
                },
                "xaxis": {
                  "anchor": "y",
                  "domain": [
                    0,
                    1
                  ],
                  "title": {
                    "text": "x"
                  }
                },
                "yaxis": {
                  "anchor": "x",
                  "domain": [
                    0,
                    1
                  ],
                  "title": {
                    "text": "y"
                  }
                }
              }
            }
          },
          "metadata": {},
          "output_type": "display_data"
        }
      ],
      "source": [
        "accumulated_residual, labels = clean_cache.accumulated_resid(layer=-1, incl_mid=False, pos_slice=-1, return_labels=True)\n",
        "logit_lens_logit_diffs = residual_stack_to_logit_diff(accumulated_residual, clean_cache)\n",
        "line(logit_lens_logit_diffs, x=np.arange(model.cfg.n_layers+1), hover_name=labels, title=\"Logit Difference From Accumulated Residual Stream\")"
      ]
    },
    {
      "cell_type": "markdown",
      "metadata": {
        "id": "QC77fKLSiHY1"
      },
      "source": [
        "### Layer Attribution"
      ]
    },
    {
      "cell_type": "markdown",
      "metadata": {
        "id": "PpmdsaGsSmsv"
      },
      "source": [
        "Major contributor is are attention layers 7 and 8; attention 9 seems to have a strong negative effect."
      ]
    },
    {
      "cell_type": "code",
      "execution_count": 26,
      "metadata": {
        "colab": {
          "base_uri": "https://localhost:8080/",
          "height": 542
        },
        "id": "0HLgwIBxhYhR",
        "outputId": "b8dad6a0-0828-467d-b9f2-c8ac38b8bbfb"
      },
      "outputs": [
        {
          "data": {
            "application/vnd.plotly.v1+json": {
              "config": {
                "plotlyServerURL": "https://plot.ly"
              },
              "data": [
                {
                  "hovertemplate": "<b>%{hovertext}</b><br><br>x=%{x}<br>y=%{y}<extra></extra>",
                  "hovertext": [
                    "embed",
                    "0_attn_out",
                    "0_mlp_out",
                    "1_attn_out",
                    "1_mlp_out",
                    "2_attn_out",
                    "2_mlp_out",
                    "3_attn_out",
                    "3_mlp_out",
                    "4_attn_out",
                    "4_mlp_out",
                    "5_attn_out",
                    "5_mlp_out",
                    "6_attn_out",
                    "6_mlp_out",
                    "7_attn_out",
                    "7_mlp_out",
                    "8_attn_out",
                    "8_mlp_out",
                    "9_attn_out",
                    "9_mlp_out",
                    "10_attn_out",
                    "10_mlp_out",
                    "11_attn_out",
                    "11_mlp_out",
                    "12_attn_out",
                    "12_mlp_out",
                    "13_attn_out",
                    "13_mlp_out",
                    "14_attn_out",
                    "14_mlp_out",
                    "15_attn_out",
                    "15_mlp_out",
                    "16_attn_out",
                    "16_mlp_out",
                    "17_attn_out",
                    "17_mlp_out",
                    "18_attn_out",
                    "18_mlp_out",
                    "19_attn_out",
                    "19_mlp_out",
                    "20_attn_out",
                    "20_mlp_out",
                    "21_attn_out",
                    "21_mlp_out",
                    "22_attn_out",
                    "22_mlp_out",
                    "23_attn_out",
                    "23_mlp_out"
                  ],
                  "legendgroup": "",
                  "line": {
                    "color": "#636efa",
                    "dash": "solid"
                  },
                  "marker": {
                    "symbol": "circle"
                  },
                  "mode": "lines",
                  "name": "",
                  "orientation": "v",
                  "showlegend": false,
                  "type": "scatter",
                  "x": [
                    0,
                    1,
                    2,
                    3,
                    4,
                    5,
                    6,
                    7,
                    8,
                    9,
                    10,
                    11,
                    12,
                    13,
                    14,
                    15,
                    16,
                    17,
                    18,
                    19,
                    20,
                    21,
                    22,
                    23,
                    24,
                    25,
                    26,
                    27,
                    28,
                    29,
                    30,
                    31,
                    32,
                    33,
                    34,
                    35,
                    36,
                    37,
                    38,
                    39,
                    40,
                    41,
                    42,
                    43,
                    44,
                    45,
                    46,
                    47,
                    48
                  ],
                  "xaxis": "x",
                  "y": [
                    0.0017354893498122692,
                    -0.0007215561345219612,
                    0.10519411414861679,
                    0.03883127123117447,
                    -0.08312171697616577,
                    0.07845475524663925,
                    -0.10702884197235107,
                    0.06503906100988388,
                    0.15997885167598724,
                    -0.046354711055755615,
                    -0.10290814936161041,
                    -0.008336422964930534,
                    0.10420330613851547,
                    0.07628186792135239,
                    -0.11521750688552856,
                    -0.08050888031721115,
                    -0.08113287389278412,
                    0.2486039102077484,
                    0.02785222791135311,
                    0.10077699273824692,
                    -0.006555870175361633,
                    0.06653033196926117,
                    0.3203280568122864,
                    0.6289304494857788,
                    -0.1643405258655548,
                    0.2924827039241791,
                    0.028888311237096786,
                    1.003249168395996,
                    0.33298879861831665,
                    0.648571789264679,
                    0.010510319843888283,
                    2.8443868160247803,
                    0.2476770579814911,
                    0.946977436542511,
                    -0.17469651997089386,
                    2.6817610263824463,
                    0.047242119908332825,
                    0.3716762959957123,
                    0.22738449275493622,
                    0.7808507680892944,
                    0.09139743447303772,
                    -0.22517499327659607,
                    -0.25763311982154846,
                    0.4345766305923462,
                    -0.04402438551187515,
                    0.9469358325004578,
                    0.07524876296520233,
                    0.5581213235855103,
                    3.7417728900909424
                  ],
                  "yaxis": "y"
                }
              ],
              "layout": {
                "legend": {
                  "tracegroupgap": 0
                },
                "template": {
                  "data": {
                    "bar": [
                      {
                        "error_x": {
                          "color": "#2a3f5f"
                        },
                        "error_y": {
                          "color": "#2a3f5f"
                        },
                        "marker": {
                          "line": {
                            "color": "#E5ECF6",
                            "width": 0.5
                          },
                          "pattern": {
                            "fillmode": "overlay",
                            "size": 10,
                            "solidity": 0.2
                          }
                        },
                        "type": "bar"
                      }
                    ],
                    "barpolar": [
                      {
                        "marker": {
                          "line": {
                            "color": "#E5ECF6",
                            "width": 0.5
                          },
                          "pattern": {
                            "fillmode": "overlay",
                            "size": 10,
                            "solidity": 0.2
                          }
                        },
                        "type": "barpolar"
                      }
                    ],
                    "carpet": [
                      {
                        "aaxis": {
                          "endlinecolor": "#2a3f5f",
                          "gridcolor": "white",
                          "linecolor": "white",
                          "minorgridcolor": "white",
                          "startlinecolor": "#2a3f5f"
                        },
                        "baxis": {
                          "endlinecolor": "#2a3f5f",
                          "gridcolor": "white",
                          "linecolor": "white",
                          "minorgridcolor": "white",
                          "startlinecolor": "#2a3f5f"
                        },
                        "type": "carpet"
                      }
                    ],
                    "choropleth": [
                      {
                        "colorbar": {
                          "outlinewidth": 0,
                          "ticks": ""
                        },
                        "type": "choropleth"
                      }
                    ],
                    "contour": [
                      {
                        "colorbar": {
                          "outlinewidth": 0,
                          "ticks": ""
                        },
                        "colorscale": [
                          [
                            0,
                            "#0d0887"
                          ],
                          [
                            0.1111111111111111,
                            "#46039f"
                          ],
                          [
                            0.2222222222222222,
                            "#7201a8"
                          ],
                          [
                            0.3333333333333333,
                            "#9c179e"
                          ],
                          [
                            0.4444444444444444,
                            "#bd3786"
                          ],
                          [
                            0.5555555555555556,
                            "#d8576b"
                          ],
                          [
                            0.6666666666666666,
                            "#ed7953"
                          ],
                          [
                            0.7777777777777778,
                            "#fb9f3a"
                          ],
                          [
                            0.8888888888888888,
                            "#fdca26"
                          ],
                          [
                            1,
                            "#f0f921"
                          ]
                        ],
                        "type": "contour"
                      }
                    ],
                    "contourcarpet": [
                      {
                        "colorbar": {
                          "outlinewidth": 0,
                          "ticks": ""
                        },
                        "type": "contourcarpet"
                      }
                    ],
                    "heatmap": [
                      {
                        "colorbar": {
                          "outlinewidth": 0,
                          "ticks": ""
                        },
                        "colorscale": [
                          [
                            0,
                            "#0d0887"
                          ],
                          [
                            0.1111111111111111,
                            "#46039f"
                          ],
                          [
                            0.2222222222222222,
                            "#7201a8"
                          ],
                          [
                            0.3333333333333333,
                            "#9c179e"
                          ],
                          [
                            0.4444444444444444,
                            "#bd3786"
                          ],
                          [
                            0.5555555555555556,
                            "#d8576b"
                          ],
                          [
                            0.6666666666666666,
                            "#ed7953"
                          ],
                          [
                            0.7777777777777778,
                            "#fb9f3a"
                          ],
                          [
                            0.8888888888888888,
                            "#fdca26"
                          ],
                          [
                            1,
                            "#f0f921"
                          ]
                        ],
                        "type": "heatmap"
                      }
                    ],
                    "heatmapgl": [
                      {
                        "colorbar": {
                          "outlinewidth": 0,
                          "ticks": ""
                        },
                        "colorscale": [
                          [
                            0,
                            "#0d0887"
                          ],
                          [
                            0.1111111111111111,
                            "#46039f"
                          ],
                          [
                            0.2222222222222222,
                            "#7201a8"
                          ],
                          [
                            0.3333333333333333,
                            "#9c179e"
                          ],
                          [
                            0.4444444444444444,
                            "#bd3786"
                          ],
                          [
                            0.5555555555555556,
                            "#d8576b"
                          ],
                          [
                            0.6666666666666666,
                            "#ed7953"
                          ],
                          [
                            0.7777777777777778,
                            "#fb9f3a"
                          ],
                          [
                            0.8888888888888888,
                            "#fdca26"
                          ],
                          [
                            1,
                            "#f0f921"
                          ]
                        ],
                        "type": "heatmapgl"
                      }
                    ],
                    "histogram": [
                      {
                        "marker": {
                          "pattern": {
                            "fillmode": "overlay",
                            "size": 10,
                            "solidity": 0.2
                          }
                        },
                        "type": "histogram"
                      }
                    ],
                    "histogram2d": [
                      {
                        "colorbar": {
                          "outlinewidth": 0,
                          "ticks": ""
                        },
                        "colorscale": [
                          [
                            0,
                            "#0d0887"
                          ],
                          [
                            0.1111111111111111,
                            "#46039f"
                          ],
                          [
                            0.2222222222222222,
                            "#7201a8"
                          ],
                          [
                            0.3333333333333333,
                            "#9c179e"
                          ],
                          [
                            0.4444444444444444,
                            "#bd3786"
                          ],
                          [
                            0.5555555555555556,
                            "#d8576b"
                          ],
                          [
                            0.6666666666666666,
                            "#ed7953"
                          ],
                          [
                            0.7777777777777778,
                            "#fb9f3a"
                          ],
                          [
                            0.8888888888888888,
                            "#fdca26"
                          ],
                          [
                            1,
                            "#f0f921"
                          ]
                        ],
                        "type": "histogram2d"
                      }
                    ],
                    "histogram2dcontour": [
                      {
                        "colorbar": {
                          "outlinewidth": 0,
                          "ticks": ""
                        },
                        "colorscale": [
                          [
                            0,
                            "#0d0887"
                          ],
                          [
                            0.1111111111111111,
                            "#46039f"
                          ],
                          [
                            0.2222222222222222,
                            "#7201a8"
                          ],
                          [
                            0.3333333333333333,
                            "#9c179e"
                          ],
                          [
                            0.4444444444444444,
                            "#bd3786"
                          ],
                          [
                            0.5555555555555556,
                            "#d8576b"
                          ],
                          [
                            0.6666666666666666,
                            "#ed7953"
                          ],
                          [
                            0.7777777777777778,
                            "#fb9f3a"
                          ],
                          [
                            0.8888888888888888,
                            "#fdca26"
                          ],
                          [
                            1,
                            "#f0f921"
                          ]
                        ],
                        "type": "histogram2dcontour"
                      }
                    ],
                    "mesh3d": [
                      {
                        "colorbar": {
                          "outlinewidth": 0,
                          "ticks": ""
                        },
                        "type": "mesh3d"
                      }
                    ],
                    "parcoords": [
                      {
                        "line": {
                          "colorbar": {
                            "outlinewidth": 0,
                            "ticks": ""
                          }
                        },
                        "type": "parcoords"
                      }
                    ],
                    "pie": [
                      {
                        "automargin": true,
                        "type": "pie"
                      }
                    ],
                    "scatter": [
                      {
                        "fillpattern": {
                          "fillmode": "overlay",
                          "size": 10,
                          "solidity": 0.2
                        },
                        "type": "scatter"
                      }
                    ],
                    "scatter3d": [
                      {
                        "line": {
                          "colorbar": {
                            "outlinewidth": 0,
                            "ticks": ""
                          }
                        },
                        "marker": {
                          "colorbar": {
                            "outlinewidth": 0,
                            "ticks": ""
                          }
                        },
                        "type": "scatter3d"
                      }
                    ],
                    "scattercarpet": [
                      {
                        "marker": {
                          "colorbar": {
                            "outlinewidth": 0,
                            "ticks": ""
                          }
                        },
                        "type": "scattercarpet"
                      }
                    ],
                    "scattergeo": [
                      {
                        "marker": {
                          "colorbar": {
                            "outlinewidth": 0,
                            "ticks": ""
                          }
                        },
                        "type": "scattergeo"
                      }
                    ],
                    "scattergl": [
                      {
                        "marker": {
                          "colorbar": {
                            "outlinewidth": 0,
                            "ticks": ""
                          }
                        },
                        "type": "scattergl"
                      }
                    ],
                    "scattermapbox": [
                      {
                        "marker": {
                          "colorbar": {
                            "outlinewidth": 0,
                            "ticks": ""
                          }
                        },
                        "type": "scattermapbox"
                      }
                    ],
                    "scatterpolar": [
                      {
                        "marker": {
                          "colorbar": {
                            "outlinewidth": 0,
                            "ticks": ""
                          }
                        },
                        "type": "scatterpolar"
                      }
                    ],
                    "scatterpolargl": [
                      {
                        "marker": {
                          "colorbar": {
                            "outlinewidth": 0,
                            "ticks": ""
                          }
                        },
                        "type": "scatterpolargl"
                      }
                    ],
                    "scatterternary": [
                      {
                        "marker": {
                          "colorbar": {
                            "outlinewidth": 0,
                            "ticks": ""
                          }
                        },
                        "type": "scatterternary"
                      }
                    ],
                    "surface": [
                      {
                        "colorbar": {
                          "outlinewidth": 0,
                          "ticks": ""
                        },
                        "colorscale": [
                          [
                            0,
                            "#0d0887"
                          ],
                          [
                            0.1111111111111111,
                            "#46039f"
                          ],
                          [
                            0.2222222222222222,
                            "#7201a8"
                          ],
                          [
                            0.3333333333333333,
                            "#9c179e"
                          ],
                          [
                            0.4444444444444444,
                            "#bd3786"
                          ],
                          [
                            0.5555555555555556,
                            "#d8576b"
                          ],
                          [
                            0.6666666666666666,
                            "#ed7953"
                          ],
                          [
                            0.7777777777777778,
                            "#fb9f3a"
                          ],
                          [
                            0.8888888888888888,
                            "#fdca26"
                          ],
                          [
                            1,
                            "#f0f921"
                          ]
                        ],
                        "type": "surface"
                      }
                    ],
                    "table": [
                      {
                        "cells": {
                          "fill": {
                            "color": "#EBF0F8"
                          },
                          "line": {
                            "color": "white"
                          }
                        },
                        "header": {
                          "fill": {
                            "color": "#C8D4E3"
                          },
                          "line": {
                            "color": "white"
                          }
                        },
                        "type": "table"
                      }
                    ]
                  },
                  "layout": {
                    "annotationdefaults": {
                      "arrowcolor": "#2a3f5f",
                      "arrowhead": 0,
                      "arrowwidth": 1
                    },
                    "autotypenumbers": "strict",
                    "coloraxis": {
                      "colorbar": {
                        "outlinewidth": 0,
                        "ticks": ""
                      }
                    },
                    "colorscale": {
                      "diverging": [
                        [
                          0,
                          "#8e0152"
                        ],
                        [
                          0.1,
                          "#c51b7d"
                        ],
                        [
                          0.2,
                          "#de77ae"
                        ],
                        [
                          0.3,
                          "#f1b6da"
                        ],
                        [
                          0.4,
                          "#fde0ef"
                        ],
                        [
                          0.5,
                          "#f7f7f7"
                        ],
                        [
                          0.6,
                          "#e6f5d0"
                        ],
                        [
                          0.7,
                          "#b8e186"
                        ],
                        [
                          0.8,
                          "#7fbc41"
                        ],
                        [
                          0.9,
                          "#4d9221"
                        ],
                        [
                          1,
                          "#276419"
                        ]
                      ],
                      "sequential": [
                        [
                          0,
                          "#0d0887"
                        ],
                        [
                          0.1111111111111111,
                          "#46039f"
                        ],
                        [
                          0.2222222222222222,
                          "#7201a8"
                        ],
                        [
                          0.3333333333333333,
                          "#9c179e"
                        ],
                        [
                          0.4444444444444444,
                          "#bd3786"
                        ],
                        [
                          0.5555555555555556,
                          "#d8576b"
                        ],
                        [
                          0.6666666666666666,
                          "#ed7953"
                        ],
                        [
                          0.7777777777777778,
                          "#fb9f3a"
                        ],
                        [
                          0.8888888888888888,
                          "#fdca26"
                        ],
                        [
                          1,
                          "#f0f921"
                        ]
                      ],
                      "sequentialminus": [
                        [
                          0,
                          "#0d0887"
                        ],
                        [
                          0.1111111111111111,
                          "#46039f"
                        ],
                        [
                          0.2222222222222222,
                          "#7201a8"
                        ],
                        [
                          0.3333333333333333,
                          "#9c179e"
                        ],
                        [
                          0.4444444444444444,
                          "#bd3786"
                        ],
                        [
                          0.5555555555555556,
                          "#d8576b"
                        ],
                        [
                          0.6666666666666666,
                          "#ed7953"
                        ],
                        [
                          0.7777777777777778,
                          "#fb9f3a"
                        ],
                        [
                          0.8888888888888888,
                          "#fdca26"
                        ],
                        [
                          1,
                          "#f0f921"
                        ]
                      ]
                    },
                    "colorway": [
                      "#636efa",
                      "#EF553B",
                      "#00cc96",
                      "#ab63fa",
                      "#FFA15A",
                      "#19d3f3",
                      "#FF6692",
                      "#B6E880",
                      "#FF97FF",
                      "#FECB52"
                    ],
                    "font": {
                      "color": "#2a3f5f"
                    },
                    "geo": {
                      "bgcolor": "white",
                      "lakecolor": "white",
                      "landcolor": "#E5ECF6",
                      "showlakes": true,
                      "showland": true,
                      "subunitcolor": "white"
                    },
                    "hoverlabel": {
                      "align": "left"
                    },
                    "hovermode": "closest",
                    "mapbox": {
                      "style": "light"
                    },
                    "paper_bgcolor": "white",
                    "plot_bgcolor": "#E5ECF6",
                    "polar": {
                      "angularaxis": {
                        "gridcolor": "white",
                        "linecolor": "white",
                        "ticks": ""
                      },
                      "bgcolor": "#E5ECF6",
                      "radialaxis": {
                        "gridcolor": "white",
                        "linecolor": "white",
                        "ticks": ""
                      }
                    },
                    "scene": {
                      "xaxis": {
                        "backgroundcolor": "#E5ECF6",
                        "gridcolor": "white",
                        "gridwidth": 2,
                        "linecolor": "white",
                        "showbackground": true,
                        "ticks": "",
                        "zerolinecolor": "white"
                      },
                      "yaxis": {
                        "backgroundcolor": "#E5ECF6",
                        "gridcolor": "white",
                        "gridwidth": 2,
                        "linecolor": "white",
                        "showbackground": true,
                        "ticks": "",
                        "zerolinecolor": "white"
                      },
                      "zaxis": {
                        "backgroundcolor": "#E5ECF6",
                        "gridcolor": "white",
                        "gridwidth": 2,
                        "linecolor": "white",
                        "showbackground": true,
                        "ticks": "",
                        "zerolinecolor": "white"
                      }
                    },
                    "shapedefaults": {
                      "line": {
                        "color": "#2a3f5f"
                      }
                    },
                    "ternary": {
                      "aaxis": {
                        "gridcolor": "white",
                        "linecolor": "white",
                        "ticks": ""
                      },
                      "baxis": {
                        "gridcolor": "white",
                        "linecolor": "white",
                        "ticks": ""
                      },
                      "bgcolor": "#E5ECF6",
                      "caxis": {
                        "gridcolor": "white",
                        "linecolor": "white",
                        "ticks": ""
                      }
                    },
                    "title": {
                      "x": 0.05
                    },
                    "xaxis": {
                      "automargin": true,
                      "gridcolor": "white",
                      "linecolor": "white",
                      "ticks": "",
                      "title": {
                        "standoff": 15
                      },
                      "zerolinecolor": "white",
                      "zerolinewidth": 2
                    },
                    "yaxis": {
                      "automargin": true,
                      "gridcolor": "white",
                      "linecolor": "white",
                      "ticks": "",
                      "title": {
                        "standoff": 15
                      },
                      "zerolinecolor": "white",
                      "zerolinewidth": 2
                    }
                  }
                },
                "title": {
                  "text": "Logit Difference From Each Layer"
                },
                "xaxis": {
                  "anchor": "y",
                  "domain": [
                    0,
                    1
                  ],
                  "title": {
                    "text": "x"
                  }
                },
                "yaxis": {
                  "anchor": "x",
                  "domain": [
                    0,
                    1
                  ],
                  "title": {
                    "text": "y"
                  }
                }
              }
            }
          },
          "metadata": {},
          "output_type": "display_data"
        }
      ],
      "source": [
        "per_layer_residual, labels = clean_cache.decompose_resid(layer=-1, pos_slice=-1, return_labels=True)\n",
        "per_layer_logit_diffs = residual_stack_to_logit_diff(per_layer_residual, clean_cache)\n",
        "l_line(per_layer_logit_diffs, hover_name=labels, title=\"Logit Difference From Each Layer\")"
      ]
    },
    {
      "cell_type": "markdown",
      "metadata": {
        "id": "3YeM-O3ViR5L"
      },
      "source": [
        "### Head Attribution"
      ]
    },
    {
      "cell_type": "markdown",
      "metadata": {
        "id": "p01e05EsWOM-"
      },
      "source": [
        "Heads L7H5 and L8H10 make the biggest positive difference, and heads L8H1, L8H2, L8H5, L8H8 make a more modest difference. L9H1 and L9H11 make a negative contribution.\n",
        "\n",
        "These are likely to be name movers and potentially S-inhibition heads."
      ]
    },
    {
      "cell_type": "code",
      "execution_count": 28,
      "metadata": {
        "colab": {
          "base_uri": "https://localhost:8080/",
          "height": 559
        },
        "id": "a5kk0LZKiLB-",
        "outputId": "d981ab71-771c-44d3-b94c-ba7fe741554b"
      },
      "outputs": [
        {
          "name": "stdout",
          "output_type": "stream",
          "text": [
            "Tried to stack head results when they weren't cached. Computing head results now\n"
          ]
        },
        {
          "data": {
            "text/html": [
              "<html>\n",
              "<head><meta charset=\"utf-8\" /></head>\n",
              "<body>\n",
              "    <div>            <script src=\"https://cdnjs.cloudflare.com/ajax/libs/mathjax/2.7.5/MathJax.js?config=TeX-AMS-MML_SVG\"></script><script type=\"text/javascript\">if (window.MathJax && window.MathJax.Hub && window.MathJax.Hub.Config) {window.MathJax.Hub.Config({SVG: {font: \"STIX-Web\"}});}</script>                <script type=\"text/javascript\">window.PlotlyConfig = {MathJaxConfig: 'local'};</script>\n",
              "        <script src=\"https://cdn.plot.ly/plotly-2.18.2.min.js\"></script>                <div id=\"0a2a9166-6b17-479b-98ce-d396786a7904\" class=\"plotly-graph-div\" style=\"height:525px; width:100%;\"></div>            <script type=\"text/javascript\">                                    window.PLOTLYENV=window.PLOTLYENV || {};                                    if (document.getElementById(\"0a2a9166-6b17-479b-98ce-d396786a7904\")) {                    Plotly.newPlot(                        \"0a2a9166-6b17-479b-98ce-d396786a7904\",                        [{\"coloraxis\":\"coloraxis\",\"name\":\"0\",\"z\":[[0.016478922218084335,-0.006862628273665905,0.0037034209817647934,-0.06395141780376434,-0.002996208844706416,0.0026469712611287832,-0.0035575951915234327,-0.010893364436924458,-0.0033227000385522842,-0.0011204248294234276,-0.003431179327890277,-0.0023425521794706583,0.0076361470855772495,0.0025879917666316032,-0.010424219071865082,0.003782229498028755],[-0.004701446741819382,0.009137912653386593,0.0069783530198037624,0.013917664997279644,-0.014173935167491436,-0.011533932760357857,-0.017092224210500717,0.003311991225928068,0.0013094393070787191,0.008163932710886002,0.003543997649103403,0.017023395746946335,-0.0010488773696124554,0.0060088783502578735,-0.0057834056206047535,0.004717343486845493],[0.00038119847886264324,0.006262696348130703,0.02188216522336006,-0.008936312049627304,0.014178362675011158,-0.006742856930941343,0.021073509007692337,0.010857807472348213,-0.010772480629384518,-0.0018158161547034979,-0.004399419762194157,0.007955757901072502,-0.004954058676958084,0.03113817237317562,0.008605021983385086,0.04036200791597366],[0.022744104266166687,-0.00234703766182065,-0.0035563367418944836,0.021375691518187523,0.004561592824757099,-0.014149453490972519,-0.0011565284803509712,0.00015291664749383926,0.0048643057234585285,-0.011454202234745026,0.004156132228672504,0.004326066002249718,0.006560234352946281,0.0017971829511225224,-0.005107471253722906,0.013218089006841183],[0.00043369224295020103,-0.005950296763330698,-0.036555830389261246,0.002549767028540373,-0.0036973017267882824,0.006078632548451424,-0.014394554309546947,-0.011765804141759872,0.01244997326284647,-0.013419481925666332,0.01603430137038231,-0.006448682397603989,-0.019295712932944298,-0.0007534902542829514,0.00449704984202981,0.003327438607811928],[0.0042403265833854675,-0.006633271463215351,0.014172796159982681,-0.00566435232758522,0.003273754846304655,-0.005855226423591375,-0.00021656975150108337,0.00404284056276083,0.006640271283686161,-0.01894012652337551,-0.011713046580553055,0.0041325753554701805,0.017213597893714905,-0.014570152387022972,-0.004778199829161167,-0.006301554851233959],[0.006540514528751373,0.0026702152099460363,-0.005171069409698248,-0.006053252145648003,0.009478827938437462,0.014407077804207802,-0.0023875869810581207,-0.00275728409178555,0.0019236588850617409,-0.012318126857280731,0.022633899003267288,0.022416476160287857,0.010197950527071953,-0.0032434258610010147,-0.018204323947429657,0.004553392995148897],[0.023961234837770462,0.00850974302738905,-0.004518961533904076,0.010490301996469498,0.008947421796619892,-0.029320959001779556,-0.01937691867351532,0.0034387456253170967,0.013313430361449718,0.015677768737077713,-0.002219037152826786,-0.004455009941011667,-0.0025156307965517044,0.005193082615733147,-0.14046910405158997,0.02218150720000267],[0.012520723976194859,0.017491178587079048,0.02324766293168068,0.028160303831100464,0.05755897983908653,0.004647082183510065,0.0030775736086070538,-0.00870535708963871,0.00473196804523468,0.04586157202720642,-0.008586366660892963,0.010852564126253128,-0.017795387655496597,0.013613957911729813,0.017921101301908493,0.04092232137918472],[0.010878434404730797,0.024588117375969887,0.0044713011011481285,0.01007784716784954,-0.004752829670906067,-0.005902467295527458,0.025557072833180428,0.014631027355790138,0.039262816309928894,-0.024398045614361763,0.007370725739747286,0.005604896694421768,0.007506538648158312,0.009179925546050072,-0.0006085392087697983,-0.04144124686717987],[0.0647965669631958,0.018958812579512596,0.009770523756742477,0.0012707143323495984,0.033602647483348846,-0.06224922090768814,0.001957095693796873,-0.05782424658536911,0.0003917519934475422,0.0033585927449166775,0.03573142737150192,0.007243071682751179,0.0009422912262380123,-0.03194992616772652,-0.002142595127224922,0.009464597329497337],[0.0023637250997126102,0.045816123485565186,-0.00537228025496006,-0.026478249579668045,0.011126378551125526,0.008201944641768932,0.11408895254135132,-0.01108068972826004,0.2722409963607788,0.0305730402469635,0.09513789415359497,0.035171449184417725,-0.002229362726211548,0.005959841422736645,0.1055901050567627,-0.10621194541454315],[0.007959463633596897,0.021239224821329117,-0.0430305153131485,-0.00820363312959671,0.001261653145775199,-0.0005616806447505951,-0.010533308610320091,-0.45075154304504395,0.006530800834298134,0.09466923773288727,0.033647570759058,0.1314261257648468,0.0039051021449267864,-0.00486807432025671,0.017887592315673828,0.42655885219573975],[0.012789294123649597,0.44022488594055176,0.059685491025447845,-0.09370489418506622,0.12800469994544983,0.014515561982989311,0.4414685368537903,-0.02990548685193062,0.04094463959336281,-0.05606361851096153,0.002288015093654394,-0.01159013994038105,0.014233527705073357,0.013350844383239746,-6.665964610874653e-05,0.02731013111770153],[-0.0054112086072564125,-0.009980335831642151,0.043074361979961395,0.04131578654050827,0.0297860037535429,0.04545717313885689,0.5175992250442505,0.015276364050805569,0.0007782019674777985,-0.019864603877067566,0.005549025721848011,0.010747620835900307,0.04235966503620148,-0.005094554275274277,-0.10832631587982178,-0.00442774360999465],[0.000338622136041522,0.042352497577667236,-0.0026063411496579647,0.1954464614391327,0.006882450543344021,0.04419638216495514,0.015114312060177326,0.111530601978302,0.01079367846250534,0.015222941525280476,-0.0252317376434803,0.23862886428833008,-0.009695694781839848,0.02323092520236969,0.08169969916343689,2.05830717086792],[-0.0031375798862427473,0.09611442685127258,0.0001624963479116559,0.008076604455709457,-0.000805592630058527,0.009600810706615448,0.13653501868247986,-0.02414751425385475,0.06495888531208038,-0.004704613704234362,-0.001914317486807704,0.0016667755553498864,-0.01931833103299141,0.6396807432174683,-0.002883730223402381,0.016765877604484558],[0.797523021697998,0.03539726883172989,0.10777799040079117,0.0015234793536365032,0.0005611337255686522,-0.00084739550948143,0.04508237540721893,1.0350558757781982,-0.005190415773540735,0.006430279463529587,0.3968524634838104,-0.020296012982726097,-0.0048581259325146675,0.12572279572486877,0.005710863508284092,0.13298210501670837],[0.006459166295826435,0.030115338042378426,0.06262027472257614,0.00514412485063076,0.024185113608837128,-0.002503379713743925,0.015397364273667336,-0.005017345771193504,0.014539549127221107,0.10596418380737305,-0.009272100403904915,0.016550546512007713,-0.00355291785672307,0.015061499550938606,-0.0034858095459640026,0.03626153990626335],[0.004983250051736832,0.08838124573230743,0.09995526075363159,-0.00577120017260313,0.005576091818511486,0.19993427395820618,0.08769454061985016,-0.004406279884278774,0.005559023469686508,-0.014477469027042389,-0.009603172540664673,0.004407666623592377,-0.003532974049448967,-0.031112205237150192,0.2516723573207855,0.004024378024041653],[-0.006188029423356056,-0.47934287786483765,0.03997252881526947,0.010182389058172703,0.010682179592549801,-0.0112417908385396,-0.007380886934697628,-0.0073043303564190865,0.017816860228776932,-0.0018140589818358421,0.02376984991133213,0.050018541514873505,-0.004351187497377396,0.0066360170021653175,0.0024377903901040554,-0.007202065549790859],[-0.012178944423794746,0.06499229371547699,-0.004538934212177992,-0.03900648280978203,-0.0036206827498972416,0.007162304129451513,0.1087098941206932,0.008306203410029411,-0.001814018003642559,0.005966215394437313,0.10041432082653046,-0.009463846683502197,-0.0004488416016101837,-0.019794929772615433,0.05723154544830322,0.04073445871472359],[0.004864654503762722,0.08779868483543396,0.666994571685791,-0.015845732763409615,-0.007843602448701859,-0.001512735616415739,0.1261211633682251,-0.009692845866084099,-0.0010276883840560913,0.04504053667187691,-0.0985182672739029,0.002409036736935377,0.07034005224704742,-0.006731852889060974,-0.0026124478317797184,0.003089908044785261],[-0.004845037590712309,-0.0031008298974484205,0.019797611981630325,-0.004579925909638405,0.06355632096529007,0.08525626361370087,-0.0013221492990851402,0.013433428481221199,0.0006681589875370264,0.2022998034954071,0.020333271473646164,-0.008832461200654507,0.006675908342003822,0.18413496017456055,0.04665374383330345,-0.0033655548468232155]],\"type\":\"heatmap\",\"xaxis\":\"x\",\"yaxis\":\"y\",\"hovertemplate\":\"x: %{x}<br>y: %{y}<br>color: %{z}<extra></extra>\"}],                        {\"template\":{\"data\":{\"histogram2dcontour\":[{\"type\":\"histogram2dcontour\",\"colorbar\":{\"outlinewidth\":0,\"ticks\":\"\"},\"colorscale\":[[0.0,\"#0d0887\"],[0.1111111111111111,\"#46039f\"],[0.2222222222222222,\"#7201a8\"],[0.3333333333333333,\"#9c179e\"],[0.4444444444444444,\"#bd3786\"],[0.5555555555555556,\"#d8576b\"],[0.6666666666666666,\"#ed7953\"],[0.7777777777777778,\"#fb9f3a\"],[0.8888888888888888,\"#fdca26\"],[1.0,\"#f0f921\"]]}],\"choropleth\":[{\"type\":\"choropleth\",\"colorbar\":{\"outlinewidth\":0,\"ticks\":\"\"}}],\"histogram2d\":[{\"type\":\"histogram2d\",\"colorbar\":{\"outlinewidth\":0,\"ticks\":\"\"},\"colorscale\":[[0.0,\"#0d0887\"],[0.1111111111111111,\"#46039f\"],[0.2222222222222222,\"#7201a8\"],[0.3333333333333333,\"#9c179e\"],[0.4444444444444444,\"#bd3786\"],[0.5555555555555556,\"#d8576b\"],[0.6666666666666666,\"#ed7953\"],[0.7777777777777778,\"#fb9f3a\"],[0.8888888888888888,\"#fdca26\"],[1.0,\"#f0f921\"]]}],\"heatmap\":[{\"type\":\"heatmap\",\"colorbar\":{\"outlinewidth\":0,\"ticks\":\"\"},\"colorscale\":[[0.0,\"#0d0887\"],[0.1111111111111111,\"#46039f\"],[0.2222222222222222,\"#7201a8\"],[0.3333333333333333,\"#9c179e\"],[0.4444444444444444,\"#bd3786\"],[0.5555555555555556,\"#d8576b\"],[0.6666666666666666,\"#ed7953\"],[0.7777777777777778,\"#fb9f3a\"],[0.8888888888888888,\"#fdca26\"],[1.0,\"#f0f921\"]]}],\"heatmapgl\":[{\"type\":\"heatmapgl\",\"colorbar\":{\"outlinewidth\":0,\"ticks\":\"\"},\"colorscale\":[[0.0,\"#0d0887\"],[0.1111111111111111,\"#46039f\"],[0.2222222222222222,\"#7201a8\"],[0.3333333333333333,\"#9c179e\"],[0.4444444444444444,\"#bd3786\"],[0.5555555555555556,\"#d8576b\"],[0.6666666666666666,\"#ed7953\"],[0.7777777777777778,\"#fb9f3a\"],[0.8888888888888888,\"#fdca26\"],[1.0,\"#f0f921\"]]}],\"contourcarpet\":[{\"type\":\"contourcarpet\",\"colorbar\":{\"outlinewidth\":0,\"ticks\":\"\"}}],\"contour\":[{\"type\":\"contour\",\"colorbar\":{\"outlinewidth\":0,\"ticks\":\"\"},\"colorscale\":[[0.0,\"#0d0887\"],[0.1111111111111111,\"#46039f\"],[0.2222222222222222,\"#7201a8\"],[0.3333333333333333,\"#9c179e\"],[0.4444444444444444,\"#bd3786\"],[0.5555555555555556,\"#d8576b\"],[0.6666666666666666,\"#ed7953\"],[0.7777777777777778,\"#fb9f3a\"],[0.8888888888888888,\"#fdca26\"],[1.0,\"#f0f921\"]]}],\"surface\":[{\"type\":\"surface\",\"colorbar\":{\"outlinewidth\":0,\"ticks\":\"\"},\"colorscale\":[[0.0,\"#0d0887\"],[0.1111111111111111,\"#46039f\"],[0.2222222222222222,\"#7201a8\"],[0.3333333333333333,\"#9c179e\"],[0.4444444444444444,\"#bd3786\"],[0.5555555555555556,\"#d8576b\"],[0.6666666666666666,\"#ed7953\"],[0.7777777777777778,\"#fb9f3a\"],[0.8888888888888888,\"#fdca26\"],[1.0,\"#f0f921\"]]}],\"mesh3d\":[{\"type\":\"mesh3d\",\"colorbar\":{\"outlinewidth\":0,\"ticks\":\"\"}}],\"scatter\":[{\"fillpattern\":{\"fillmode\":\"overlay\",\"size\":10,\"solidity\":0.2},\"type\":\"scatter\"}],\"parcoords\":[{\"type\":\"parcoords\",\"line\":{\"colorbar\":{\"outlinewidth\":0,\"ticks\":\"\"}}}],\"scatterpolargl\":[{\"type\":\"scatterpolargl\",\"marker\":{\"colorbar\":{\"outlinewidth\":0,\"ticks\":\"\"}}}],\"bar\":[{\"error_x\":{\"color\":\"#2a3f5f\"},\"error_y\":{\"color\":\"#2a3f5f\"},\"marker\":{\"line\":{\"color\":\"#E5ECF6\",\"width\":0.5},\"pattern\":{\"fillmode\":\"overlay\",\"size\":10,\"solidity\":0.2}},\"type\":\"bar\"}],\"scattergeo\":[{\"type\":\"scattergeo\",\"marker\":{\"colorbar\":{\"outlinewidth\":0,\"ticks\":\"\"}}}],\"scatterpolar\":[{\"type\":\"scatterpolar\",\"marker\":{\"colorbar\":{\"outlinewidth\":0,\"ticks\":\"\"}}}],\"histogram\":[{\"marker\":{\"pattern\":{\"fillmode\":\"overlay\",\"size\":10,\"solidity\":0.2}},\"type\":\"histogram\"}],\"scattergl\":[{\"type\":\"scattergl\",\"marker\":{\"colorbar\":{\"outlinewidth\":0,\"ticks\":\"\"}}}],\"scatter3d\":[{\"type\":\"scatter3d\",\"line\":{\"colorbar\":{\"outlinewidth\":0,\"ticks\":\"\"}},\"marker\":{\"colorbar\":{\"outlinewidth\":0,\"ticks\":\"\"}}}],\"scattermapbox\":[{\"type\":\"scattermapbox\",\"marker\":{\"colorbar\":{\"outlinewidth\":0,\"ticks\":\"\"}}}],\"scatterternary\":[{\"type\":\"scatterternary\",\"marker\":{\"colorbar\":{\"outlinewidth\":0,\"ticks\":\"\"}}}],\"scattercarpet\":[{\"type\":\"scattercarpet\",\"marker\":{\"colorbar\":{\"outlinewidth\":0,\"ticks\":\"\"}}}],\"carpet\":[{\"aaxis\":{\"endlinecolor\":\"#2a3f5f\",\"gridcolor\":\"white\",\"linecolor\":\"white\",\"minorgridcolor\":\"white\",\"startlinecolor\":\"#2a3f5f\"},\"baxis\":{\"endlinecolor\":\"#2a3f5f\",\"gridcolor\":\"white\",\"linecolor\":\"white\",\"minorgridcolor\":\"white\",\"startlinecolor\":\"#2a3f5f\"},\"type\":\"carpet\"}],\"table\":[{\"cells\":{\"fill\":{\"color\":\"#EBF0F8\"},\"line\":{\"color\":\"white\"}},\"header\":{\"fill\":{\"color\":\"#C8D4E3\"},\"line\":{\"color\":\"white\"}},\"type\":\"table\"}],\"barpolar\":[{\"marker\":{\"line\":{\"color\":\"#E5ECF6\",\"width\":0.5},\"pattern\":{\"fillmode\":\"overlay\",\"size\":10,\"solidity\":0.2}},\"type\":\"barpolar\"}],\"pie\":[{\"automargin\":true,\"type\":\"pie\"}]},\"layout\":{\"autotypenumbers\":\"strict\",\"colorway\":[\"#636efa\",\"#EF553B\",\"#00cc96\",\"#ab63fa\",\"#FFA15A\",\"#19d3f3\",\"#FF6692\",\"#B6E880\",\"#FF97FF\",\"#FECB52\"],\"font\":{\"color\":\"#2a3f5f\"},\"hovermode\":\"closest\",\"hoverlabel\":{\"align\":\"left\"},\"paper_bgcolor\":\"white\",\"plot_bgcolor\":\"#E5ECF6\",\"polar\":{\"bgcolor\":\"#E5ECF6\",\"angularaxis\":{\"gridcolor\":\"white\",\"linecolor\":\"white\",\"ticks\":\"\"},\"radialaxis\":{\"gridcolor\":\"white\",\"linecolor\":\"white\",\"ticks\":\"\"}},\"ternary\":{\"bgcolor\":\"#E5ECF6\",\"aaxis\":{\"gridcolor\":\"white\",\"linecolor\":\"white\",\"ticks\":\"\"},\"baxis\":{\"gridcolor\":\"white\",\"linecolor\":\"white\",\"ticks\":\"\"},\"caxis\":{\"gridcolor\":\"white\",\"linecolor\":\"white\",\"ticks\":\"\"}},\"coloraxis\":{\"colorbar\":{\"outlinewidth\":0,\"ticks\":\"\"}},\"colorscale\":{\"sequential\":[[0.0,\"#0d0887\"],[0.1111111111111111,\"#46039f\"],[0.2222222222222222,\"#7201a8\"],[0.3333333333333333,\"#9c179e\"],[0.4444444444444444,\"#bd3786\"],[0.5555555555555556,\"#d8576b\"],[0.6666666666666666,\"#ed7953\"],[0.7777777777777778,\"#fb9f3a\"],[0.8888888888888888,\"#fdca26\"],[1.0,\"#f0f921\"]],\"sequentialminus\":[[0.0,\"#0d0887\"],[0.1111111111111111,\"#46039f\"],[0.2222222222222222,\"#7201a8\"],[0.3333333333333333,\"#9c179e\"],[0.4444444444444444,\"#bd3786\"],[0.5555555555555556,\"#d8576b\"],[0.6666666666666666,\"#ed7953\"],[0.7777777777777778,\"#fb9f3a\"],[0.8888888888888888,\"#fdca26\"],[1.0,\"#f0f921\"]],\"diverging\":[[0,\"#8e0152\"],[0.1,\"#c51b7d\"],[0.2,\"#de77ae\"],[0.3,\"#f1b6da\"],[0.4,\"#fde0ef\"],[0.5,\"#f7f7f7\"],[0.6,\"#e6f5d0\"],[0.7,\"#b8e186\"],[0.8,\"#7fbc41\"],[0.9,\"#4d9221\"],[1,\"#276419\"]]},\"xaxis\":{\"gridcolor\":\"white\",\"linecolor\":\"white\",\"ticks\":\"\",\"title\":{\"standoff\":15},\"zerolinecolor\":\"white\",\"automargin\":true,\"zerolinewidth\":2},\"yaxis\":{\"gridcolor\":\"white\",\"linecolor\":\"white\",\"ticks\":\"\",\"title\":{\"standoff\":15},\"zerolinecolor\":\"white\",\"automargin\":true,\"zerolinewidth\":2},\"scene\":{\"xaxis\":{\"backgroundcolor\":\"#E5ECF6\",\"gridcolor\":\"white\",\"linecolor\":\"white\",\"showbackground\":true,\"ticks\":\"\",\"zerolinecolor\":\"white\",\"gridwidth\":2},\"yaxis\":{\"backgroundcolor\":\"#E5ECF6\",\"gridcolor\":\"white\",\"linecolor\":\"white\",\"showbackground\":true,\"ticks\":\"\",\"zerolinecolor\":\"white\",\"gridwidth\":2},\"zaxis\":{\"backgroundcolor\":\"#E5ECF6\",\"gridcolor\":\"white\",\"linecolor\":\"white\",\"showbackground\":true,\"ticks\":\"\",\"zerolinecolor\":\"white\",\"gridwidth\":2}},\"shapedefaults\":{\"line\":{\"color\":\"#2a3f5f\"}},\"annotationdefaults\":{\"arrowcolor\":\"#2a3f5f\",\"arrowhead\":0,\"arrowwidth\":1},\"geo\":{\"bgcolor\":\"white\",\"landcolor\":\"#E5ECF6\",\"subunitcolor\":\"white\",\"showland\":true,\"showlakes\":true,\"lakecolor\":\"white\"},\"title\":{\"x\":0.05},\"mapbox\":{\"style\":\"light\"}}},\"xaxis\":{\"anchor\":\"y\",\"domain\":[0.0,1.0],\"title\":{\"text\":\"Head\"}},\"yaxis\":{\"anchor\":\"x\",\"domain\":[0.0,1.0],\"autorange\":\"reversed\",\"title\":{\"text\":\"Layer\"}},\"coloraxis\":{\"colorscale\":[[0.0,\"rgb(103,0,31)\"],[0.1,\"rgb(178,24,43)\"],[0.2,\"rgb(214,96,77)\"],[0.3,\"rgb(244,165,130)\"],[0.4,\"rgb(253,219,199)\"],[0.5,\"rgb(247,247,247)\"],[0.6,\"rgb(209,229,240)\"],[0.7,\"rgb(146,197,222)\"],[0.8,\"rgb(67,147,195)\"],[0.9,\"rgb(33,102,172)\"],[1.0,\"rgb(5,48,97)\"]],\"cmid\":0.0},\"title\":{\"text\":\"Logit Difference From Each Head\"}},                        {\"responsive\": true}                    ).then(function(){\n",
              "                            \n",
              "var gd = document.getElementById('0a2a9166-6b17-479b-98ce-d396786a7904');\n",
              "var x = new MutationObserver(function (mutations, observer) {{\n",
              "        var display = window.getComputedStyle(gd).display;\n",
              "        if (!display || display === 'none') {{\n",
              "            console.log([gd, 'removed!']);\n",
              "            Plotly.purge(gd);\n",
              "            observer.disconnect();\n",
              "        }}\n",
              "}});\n",
              "\n",
              "// Listen for the removal of the full notebook cells\n",
              "var notebookContainer = gd.closest('#notebook-container');\n",
              "if (notebookContainer) {{\n",
              "    x.observe(notebookContainer, {childList: true});\n",
              "}}\n",
              "\n",
              "// Listen for the clearing of the current output cell\n",
              "var outputEl = gd.closest('.output');\n",
              "if (outputEl) {{\n",
              "    x.observe(outputEl, {childList: true});\n",
              "}}\n",
              "\n",
              "                        })                };                            </script>        </div>\n",
              "</body>\n",
              "</html>"
            ]
          },
          "metadata": {},
          "output_type": "display_data"
        }
      ],
      "source": [
        "per_head_residual, labels = clean_cache.stack_head_results(layer=-1, pos_slice=-1, return_labels=True)\n",
        "per_head_logit_diffs = residual_stack_to_logit_diff(per_head_residual, clean_cache)\n",
        "per_head_logit_diffs = einops.rearrange(per_head_logit_diffs, \"(layer head_index) -> layer head_index\", layer=model.cfg.n_layers, head_index=model.cfg.n_heads)\n",
        "imshow(per_head_logit_diffs, xaxis=\"Head\", yaxis=\"Layer\", title=\"Logit Difference From Each Head\")"
      ]
    },
    {
      "cell_type": "code",
      "execution_count": null,
      "metadata": {
        "colab": {
          "base_uri": "https://localhost:8080/"
        },
        "id": "dLD11Jf7VQcd",
        "outputId": "f22b5724-f341-4c9c-8431-a7b839d83752"
      },
      "outputs": [
        {
          "data": {
            "text/plain": [
              "torch.Size([144])"
            ]
          },
          "execution_count": 33,
          "metadata": {},
          "output_type": "execute_result"
        }
      ],
      "source": [
        "per_head_logit_diffs.flatten().shape"
      ]
    },
    {
      "cell_type": "markdown",
      "metadata": {
        "id": "VAq_C-M1k28L"
      },
      "source": [
        "### Attention Analysis"
      ]
    },
    {
      "cell_type": "markdown",
      "metadata": {
        "id": "7hOFNi2aXoTz"
      },
      "source": [
        "Of the top positive contributors, only 4 out of 5 appear to be attending to the IO name. The other (L7H5)is attending to S2. Might it be an S-inhibition head?\n",
        "\n",
        "Among the top negative heads, only L9H11, L9H8 and L9H3 are attending to the IO. L9H3 is also attending to S2, and as such may also be an S-inhibition head."
      ]
    },
    {
      "cell_type": "code",
      "execution_count": 51,
      "metadata": {
        "colab": {
          "base_uri": "https://localhost:8080/",
          "height": 729
        },
        "id": "2wgxPJXmYLZL",
        "outputId": "7d7d7fe4-baed-4d9b-b915-bbaca08f921a"
      },
      "outputs": [
        {
          "data": {
            "text/html": [
              "<div id=\"circuits-vis-33af085b-d060\" style=\"margin: 15px 0;\"/>\n",
              "    <script crossorigin type=\"module\">\n",
              "    import { render, AttentionHeads } from \"https://unpkg.com/circuitsvis@1.39.1/dist/cdn/esm.js\";\n",
              "    render(\n",
              "      \"circuits-vis-33af085b-d060\",\n",
              "      AttentionHeads,\n",
              "      {\"attention\": [[[1.0, 0.0, 0.0, 0.0, 0.0, 0.0, 0.0, 0.0, 0.0, 0.0, 0.0, 0.0, 0.0, 0.0, 0.0], [0.9889225959777832, 0.011077424511313438, 0.0, 0.0, 0.0, 0.0, 0.0, 0.0, 0.0, 0.0, 0.0, 0.0, 0.0, 0.0, 0.0], [0.9905223250389099, 0.0011988618643954396, 0.008278751745820045, 0.0, 0.0, 0.0, 0.0, 0.0, 0.0, 0.0, 0.0, 0.0, 0.0, 0.0, 0.0], [0.9404603242874146, 0.010008750483393669, 0.014548225328326225, 0.034982651472091675, 0.0, 0.0, 0.0, 0.0, 0.0, 0.0, 0.0, 0.0, 0.0, 0.0, 0.0], [0.985771656036377, 0.0012794631766155362, 0.008257280103862286, 0.0012184622464701533, 0.0034730625338852406, 0.0, 0.0, 0.0, 0.0, 0.0, 0.0, 0.0, 0.0, 0.0, 0.0], [0.9826071858406067, 0.002930878894403577, 0.006641699932515621, 0.0006995522417128086, 0.001626799232326448, 0.0054938471876084805, 0.0, 0.0, 0.0, 0.0, 0.0, 0.0, 0.0, 0.0, 0.0], [0.8523100018501282, 0.011154649779200554, 0.06105383485555649, 0.007167777977883816, 0.02009470947086811, 0.009043584577739239, 0.03917549550533295, 0.0, 0.0, 0.0, 0.0, 0.0, 0.0, 0.0, 0.0], [0.9574077725410461, 0.004296423867344856, 0.007726507727056742, 0.0006769696483388543, 0.001428200164809823, 0.0013429936952888966, 0.004853234626352787, 0.022267809137701988, 0.0, 0.0, 0.0, 0.0, 0.0, 0.0, 0.0], [0.7595401406288147, 0.00981965009123087, 0.14316046237945557, 0.004490210209041834, 0.06078097224235535, 0.003243963001295924, 0.00380962947383523, 0.00467093288898468, 0.010484112426638603, 0.0, 0.0, 0.0, 0.0, 0.0, 0.0], [0.501869261264801, 0.017903465777635574, 0.32621586322784424, 0.010067789815366268, 0.10134784132242203, 0.0028096819296479225, 0.003432357916608453, 0.00445536058396101, 0.008980595506727695, 0.02291775494813919, 0.0, 0.0, 0.0, 0.0, 0.0], [0.8535075783729553, 0.009233607910573483, 0.016069287434220314, 0.01701212301850319, 0.017711078748106956, 0.022437894716858864, 0.012589975260198116, 0.005308354739099741, 0.023462964221835136, 0.010722028091549873, 0.011945120990276337, 0.0, 0.0, 0.0, 0.0], [0.4858582019805908, 0.006339922547340393, 0.03668658435344696, 0.014303812757134438, 0.3859947919845581, 0.0010625876020640135, 0.0014390827855095267, 0.002943797269836068, 0.007901305332779884, 0.011781379580497742, 0.04089898243546486, 0.004789532627910376, 0.0, 0.0, 0.0], [0.8658068776130676, 0.007363418582826853, 0.008938265033066273, 0.005475264973938465, 0.014178750105202198, 0.0009477453422732651, 0.00482319388538599, 0.004549867939203978, 0.047244612127542496, 0.016192950308322906, 0.004267411306500435, 0.0055066002532839775, 0.014705091714859009, 0.0, 0.0], [0.6731828451156616, 0.00368242128752172, 0.030691131949424744, 0.0007947375415824354, 0.018869277089834213, 0.002020064741373062, 0.00275848968885839, 0.0017338611651211977, 0.005439380649477243, 0.004388909786939621, 0.029157713055610657, 0.0028879300225526094, 0.004394857212901115, 0.21999838948249817, 0.0], [0.519077718257904, 0.004541613161563873, 0.03963806480169296, 0.00681905634701252, 0.3291306793689728, 0.0011222576722502708, 0.0008175125694833696, 0.002382118022069335, 0.004163653589785099, 0.006301798392087221, 0.051683779805898666, 0.002136595780029893, 0.003867480903863907, 0.023415852338075638, 0.00490178307518363]], [[1.0, 0.0, 0.0, 0.0, 0.0, 0.0, 0.0, 0.0, 0.0, 0.0, 0.0, 0.0, 0.0, 0.0, 0.0], [0.9941157102584839, 0.005884230602532625, 0.0, 0.0, 0.0, 0.0, 0.0, 0.0, 0.0, 0.0, 0.0, 0.0, 0.0, 0.0, 0.0], [0.995212197303772, 0.0011953490320593119, 0.0035923640243709087, 0.0, 0.0, 0.0, 0.0, 0.0, 0.0, 0.0, 0.0, 0.0, 0.0, 0.0, 0.0], [0.9932228326797485, 0.0016058170003816485, 0.003482947126030922, 0.0016884889919310808, 0.0, 0.0, 0.0, 0.0, 0.0, 0.0, 0.0, 0.0, 0.0, 0.0, 0.0], [0.9433074593544006, 0.0013545213732868433, 0.0008272823761217296, 0.0011188328498974442, 0.053391825407743454, 0.0, 0.0, 0.0, 0.0, 0.0, 0.0, 0.0, 0.0, 0.0, 0.0], [0.9827300310134888, 0.001773602212779224, 0.001373862847685814, 0.0007718793349340558, 0.011655515059828758, 0.0016950967255979776, 0.0, 0.0, 0.0, 0.0, 0.0, 0.0, 0.0, 0.0, 0.0], [0.7885112166404724, 0.002711600624024868, 0.005091899540275335, 0.0030203508213162422, 0.1910371333360672, 0.0014271917752921581, 0.008200649172067642, 0.0, 0.0, 0.0, 0.0, 0.0, 0.0, 0.0, 0.0], [0.958562970161438, 0.0024833146017044783, 0.0015251474687829614, 0.0008060173713602126, 0.02291502244770527, 0.0014101435663178563, 0.003487902693450451, 0.008809490129351616, 0.0, 0.0, 0.0, 0.0, 0.0, 0.0, 0.0], [0.3964526951313019, 0.0032719189766794443, 0.024210356175899506, 0.001962656155228615, 0.5681696534156799, 0.0012057306012138724, 0.0014906516298651695, 0.0019495233427733183, 0.0012868271442130208, 0.0, 0.0, 0.0, 0.0, 0.0, 0.0], [0.16669900715351105, 0.001317439367994666, 0.010143909603357315, 0.0006366153247654438, 0.8180086016654968, 0.0002845599956344813, 0.00041108622099272907, 0.000530809338670224, 0.0004929149872623384, 0.001474944525398314, 0.0, 0.0, 0.0, 0.0, 0.0], [0.8411747217178345, 0.002621448365971446, 0.005988115910440683, 0.008079436607658863, 0.11041222512722015, 0.014046979136765003, 0.004342199303209782, 0.001295336987823248, 0.004845329560339451, 0.002935031894594431, 0.0042591881938278675, 0.0, 0.0, 0.0, 0.0], [0.05797802284359932, 0.0007742195739410818, 0.003084890078753233, 0.0005843759281560779, 0.9323650002479553, 0.0002156566915800795, 0.00020329366088844836, 0.00036654225550591946, 0.00034237775253131986, 0.0008784644887782633, 0.0027974683325737715, 0.0004098006465937942, 0.0, 0.0, 0.0], [0.8349992036819458, 0.001900010509416461, 0.0021717019844800234, 0.0007836991571821272, 0.13561280071735382, 0.001726867281831801, 0.0009101894684135914, 0.0008091441122815013, 0.01146517600864172, 0.002283612033352256, 0.0007112399325706065, 0.0008259091409854591, 0.0058004362508654594, 0.0, 0.0], [0.8978833556175232, 0.0005473651108331978, 0.0038401498459279537, 0.00015206738316919655, 0.0860542505979538, 0.0004281788715161383, 0.0001984482805710286, 0.00019180926028639078, 0.0009161325870081782, 0.000576001824811101, 0.0023540363181382418, 0.0001208471367135644, 0.0005175552214495838, 0.00621987646445632, 0.0], [0.039224039763212204, 0.00035849533742293715, 0.0008703087223693728, 0.0002702680940274149, 0.9562461376190186, 0.00010107737762155011, 7.239785190904513e-05, 0.0001552078319946304, 0.00024248866247944534, 0.0005233735428191721, 0.0008186842314898968, 5.911194239160977e-05, 0.00043573640868999064, 0.00027076961123384535, 0.00035188341280445457]], [[1.0, 0.0, 0.0, 0.0, 0.0, 0.0, 0.0, 0.0, 0.0, 0.0, 0.0, 0.0, 0.0, 0.0, 0.0], [0.957179069519043, 0.04282090440392494, 0.0, 0.0, 0.0, 0.0, 0.0, 0.0, 0.0, 0.0, 0.0, 0.0, 0.0, 0.0, 0.0], [0.1657923460006714, 0.013121729716658592, 0.8210859298706055, 0.0, 0.0, 0.0, 0.0, 0.0, 0.0, 0.0, 0.0, 0.0, 0.0, 0.0, 0.0], [0.3416998088359833, 0.07263118773698807, 0.2752661406993866, 0.3104028105735779, 0.0, 0.0, 0.0, 0.0, 0.0, 0.0, 0.0, 0.0, 0.0, 0.0, 0.0], [0.09821848571300507, 0.003591309068724513, 0.3200140595436096, 0.046304818242788315, 0.5318712592124939, 0.0, 0.0, 0.0, 0.0, 0.0, 0.0, 0.0, 0.0, 0.0, 0.0], [0.8546010255813599, 0.0028752689249813557, 0.0640498548746109, 0.005928907543420792, 0.06694774329662323, 0.005597126670181751, 0.0, 0.0, 0.0, 0.0, 0.0, 0.0, 0.0, 0.0, 0.0], [0.3159601092338562, 0.013802110217511654, 0.23259694874286652, 0.020361267030239105, 0.3621298372745514, 0.015722747892141342, 0.03942699357867241, 0.0, 0.0, 0.0, 0.0, 0.0, 0.0, 0.0, 0.0], [0.3941856622695923, 0.017260080203413963, 0.154558002948761, 0.05372893065214157, 0.26882871985435486, 0.02333983965218067, 0.047427013516426086, 0.040671687573194504, 0.0, 0.0, 0.0, 0.0, 0.0, 0.0, 0.0], [0.45127904415130615, 0.006234722211956978, 0.4299175441265106, 0.006484470330178738, 0.09908144176006317, 0.0009553381241858006, 0.0028058390598744154, 0.0008167700143530965, 0.0024247709661722183, 0.0, 0.0, 0.0, 0.0, 0.0, 0.0], [0.01733217015862465, 0.009497427381575108, 0.7652305960655212, 0.011609932407736778, 0.15740005671977997, 0.005065999459475279, 0.0068098995834589005, 0.0017603154992684722, 0.005909269209951162, 0.019384436309337616, 0.0, 0.0, 0.0, 0.0, 0.0], [0.39281922578811646, 0.0006689899601042271, 0.30341750383377075, 0.012146379798650742, 0.2528079152107239, 0.001777597819454968, 0.0009473074460402131, 0.0015451110666617751, 0.0021246836986392736, 0.0025444659404456615, 0.029200851917266846, 0.0, 0.0, 0.0, 0.0], [0.08731710910797119, 0.01007166225463152, 0.35906723141670227, 0.01885126158595085, 0.39479172229766846, 0.009109477512538433, 0.007526138797402382, 0.00567258195951581, 0.007862272672355175, 0.0365985669195652, 0.048732955008745193, 0.014399060048162937, 0.0, 0.0, 0.0], [0.632926344871521, 0.0014575946843251586, 0.12779118120670319, 0.03371049836277962, 0.13296544551849365, 0.007377976085990667, 0.005974638741463423, 0.011611259542405605, 0.023858224973082542, 0.006670533213764429, 0.007130985148251057, 0.0020055484492331743, 0.006519888527691364, 0.0, 0.0], [0.6638601422309875, 0.0012966976501047611, 0.15024425089359283, 0.003445030190050602, 0.12744449079036713, 0.0010239895200356841, 0.001587777747772634, 0.002694890834391117, 0.0025622393004596233, 0.005365157499909401, 0.03208759054541588, 0.0011736515443772078, 0.0029336796142160892, 0.004280349239706993, 0.0], [0.08779986202716827, 0.011179843917489052, 0.27216967940330505, 0.01623680256307125, 0.38285234570503235, 0.01076734159141779, 0.009124896489083767, 0.006275870371609926, 0.019417699426412582, 0.03164996951818466, 0.04279427230358124, 0.017999175935983658, 0.016662748530507088, 0.004725913517177105, 0.07034359127283096]], [[1.0, 0.0, 0.0, 0.0, 0.0, 0.0, 0.0, 0.0, 0.0, 0.0, 0.0, 0.0, 0.0, 0.0, 0.0], [0.9999996423721313, 3.9393864881276386e-07, 0.0, 0.0, 0.0, 0.0, 0.0, 0.0, 0.0, 0.0, 0.0, 0.0, 0.0, 0.0, 0.0], [0.9928184747695923, 7.747297058813274e-05, 0.0071040671318769455, 0.0, 0.0, 0.0, 0.0, 0.0, 0.0, 0.0, 0.0, 0.0, 0.0, 0.0, 0.0], [0.9968097805976868, 3.976612788392231e-06, 1.2879042515123729e-05, 0.003173401579260826, 0.0, 0.0, 0.0, 0.0, 0.0, 0.0, 0.0, 0.0, 0.0, 0.0, 0.0], [0.13810987770557404, 3.39408893523796e-06, 0.8587193489074707, 0.0004000408516731113, 0.002767358673736453, 0.0, 0.0, 0.0, 0.0, 0.0, 0.0, 0.0, 0.0, 0.0, 0.0], [0.9988478422164917, 0.0003503005427774042, 1.5066846970057668e-07, 1.2442157526493247e-07, 2.0849979591730516e-06, 0.0007995000923983753, 0.0, 0.0, 0.0, 0.0, 0.0, 0.0, 0.0, 0.0, 0.0], [0.9994233846664429, 0.0004227865138091147, 6.759681809853646e-07, 2.052157469734084e-05, 3.4194663385278545e-06, 9.853037141738241e-08, 0.00012906859046779573, 0.0, 0.0, 0.0, 0.0, 0.0, 0.0, 0.0, 0.0], [0.9931750893592834, 0.001301578595302999, 0.0005951791536062956, 2.7485735699883662e-05, 0.002629903145134449, 0.00010846959048649296, 0.0003443791647441685, 0.0018179042963311076, 0.0, 0.0, 0.0, 0.0, 0.0, 0.0, 0.0], [0.015620158053934574, 0.002614217111840844, 1.6534232827325468e-07, 0.00012763679842464626, 3.443695095484145e-05, 9.04846753080335e-10, 5.000972080893007e-08, 5.042656425757741e-08, 0.9816032648086548, 0.0, 0.0, 0.0, 0.0, 0.0, 0.0], [0.024258239194750786, 2.1097368517075665e-05, 6.125875273710335e-08, 0.0008460298995487392, 3.4710628824541345e-06, 2.9022661010569273e-11, 5.1804502909647e-09, 6.430492804909704e-10, 0.0001847623207140714, 0.9746863842010498, 0.0, 0.0, 0.0, 0.0, 0.0], [0.3369140923023224, 9.009560926642735e-06, 1.4738659046997782e-05, 3.0908993267075857e-06, 0.00032449516584165394, 2.704353185833952e-08, 4.6189541080821073e-07, 1.2882861710750149e-07, 0.0004845155926886946, 0.005816774442791939, 0.6564326286315918, 0.0, 0.0, 0.0, 0.0], [0.0002837713109329343, 1.2413370313879568e-05, 8.394292483338006e-10, 2.380729711148888e-06, 1.4625729249928554e-07, 7.24939830387683e-11, 8.461392475567209e-09, 3.9056152756344886e-10, 0.00010726133768912405, 0.5177262425422668, 2.78769931583156e-07, 0.4818675220012665, 0.0, 0.0, 0.0], [0.9818904399871826, 1.2491122106439434e-05, 0.00015224734670482576, 4.518037167144939e-05, 0.001150517724454403, 1.0705111890274566e-05, 1.1680018360493705e-05, 0.0002827047137543559, 0.0014106768649071455, 0.00020937147201038897, 0.0015988964587450027, 0.00020522161503322423, 0.013019935227930546, 0.0, 0.0], [0.13452400267124176, 1.1048242413380649e-05, 1.158458129424389e-08, 2.8053170808561845e-07, 2.56889727268117e-08, 1.0048625265213218e-09, 3.8394617263293185e-08, 5.627449439771226e-08, 8.839905058266595e-05, 0.015863919630646706, 5.991283273942827e-07, 0.05374561622738838, 0.0005625315243378282, 0.7952035069465637, 0.0], [0.08729395270347595, 3.6438914321479388e-06, 1.8998592565822037e-07, 0.004036211874336004, 1.425092250428861e-05, 2.8314824263020455e-08, 4.919445473205997e-07, 3.2845772324208156e-08, 0.0020980527624487877, 0.4730601906776428, 2.0013783796457574e-05, 0.32040125131607056, 1.9676524516398786e-06, 2.0210189177305438e-05, 0.11304954439401627]], [[1.0, 0.0, 0.0, 0.0, 0.0, 0.0, 0.0, 0.0, 0.0, 0.0, 0.0, 0.0, 0.0, 0.0, 0.0], [0.9989556074142456, 0.0010443859500810504, 0.0, 0.0, 0.0, 0.0, 0.0, 0.0, 0.0, 0.0, 0.0, 0.0, 0.0, 0.0, 0.0], [0.9605087637901306, 0.0006772128981538117, 0.03881411254405975, 0.0, 0.0, 0.0, 0.0, 0.0, 0.0, 0.0, 0.0, 0.0, 0.0, 0.0, 0.0], [0.8791043758392334, 0.0007790530798956752, 0.11087042838335037, 0.00924623291939497, 0.0, 0.0, 0.0, 0.0, 0.0, 0.0, 0.0, 0.0, 0.0, 0.0, 0.0], [0.9692580103874207, 0.0009430369827896357, 0.009340688586235046, 0.003663228126242757, 0.01679498516023159, 0.0, 0.0, 0.0, 0.0, 0.0, 0.0, 0.0, 0.0, 0.0, 0.0], [0.9322715997695923, 0.0008118108962662518, 0.037104833871126175, 0.002447254490107298, 0.004550914280116558, 0.02281362935900688, 0.0, 0.0, 0.0, 0.0, 0.0, 0.0, 0.0, 0.0, 0.0], [0.8252648711204529, 0.0007282120059244335, 0.13327321410179138, 0.0010868223616853356, 0.013679268769919872, 0.016777077689766884, 0.009190554730594158, 0.0, 0.0, 0.0, 0.0, 0.0, 0.0, 0.0, 0.0], [0.9197253584861755, 0.0014651189558207989, 0.042641665786504745, 0.0004888774128630757, 0.0021864876616746187, 0.005860727280378342, 0.00520643824711442, 0.022425364702939987, 0.0, 0.0, 0.0, 0.0, 0.0, 0.0, 0.0], [0.5717984437942505, 0.0014449484879150987, 0.25508496165275574, 0.001278201467357576, 0.06035177409648895, 0.001886870013549924, 0.0013560786610469222, 0.0016766812186688185, 0.10512204468250275, 0.0, 0.0, 0.0, 0.0, 0.0, 0.0], [0.6622551679611206, 0.0010792629327625036, 0.25841063261032104, 0.0013896124437451363, 0.06520497053861618, 0.0009154555154964328, 0.0008962982101365924, 0.0012595932930707932, 0.006137060932815075, 0.002451980486512184, 0.0, 0.0, 0.0, 0.0, 0.0], [0.9536123871803284, 0.00046400708379223943, 0.008311646990478039, 0.0022082896903157234, 0.004469180013984442, 0.007294821087270975, 0.0016464290674775839, 0.00040959726902656257, 0.004540529567748308, 0.0004063415981363505, 0.016636718064546585, 0.0, 0.0, 0.0, 0.0], [0.8381102681159973, 0.0001040578936226666, 0.05125002562999725, 0.0015303334221243858, 0.05811643972992897, 0.00012935993436258286, 0.00019298118422739208, 0.000264725589659065, 0.0021506864577531815, 0.0006014675018377602, 0.04561194032430649, 0.0019376541022211313, 0.0, 0.0, 0.0], [0.9663750529289246, 0.0002306388778379187, 0.003932276275008917, 0.0010367793729528785, 0.002355605596676469, 0.000298232160275802, 0.00036782948882319033, 0.0005998953711241484, 0.014845692552626133, 0.0009127792436629534, 0.001518203760497272, 0.0011753627331927419, 0.006351625081151724, 0.0, 0.0], [0.9021643996238708, 0.0004137010546401143, 0.035659756511449814, 0.0015611008275300264, 0.00755242258310318, 0.0011477161897346377, 0.0009184243390336633, 0.0005189290968701243, 0.003180184168741107, 0.0009128635283559561, 0.028628073632717133, 0.0004832818522118032, 0.0015987067017704248, 0.015260503627359867, 0.0], [0.7701306939125061, 0.00010636694787535816, 0.049223799258470535, 0.000981750781647861, 0.125885471701622, 0.00019619480008259416, 0.0003457013808656484, 0.0006205823738127947, 0.0015118664596229792, 0.0004631239571608603, 0.04456373676657677, 0.0006081336177885532, 0.0012370033655315638, 0.0012178627075627446, 0.0029077138751745224]], [[1.0, 0.0, 0.0, 0.0, 0.0, 0.0, 0.0, 0.0, 0.0, 0.0, 0.0, 0.0, 0.0, 0.0, 0.0], [0.9983099699020386, 0.0016900049522519112, 0.0, 0.0, 0.0, 0.0, 0.0, 0.0, 0.0, 0.0, 0.0, 0.0, 0.0, 0.0, 0.0], [0.9980637431144714, 0.0006924195913597941, 0.001243791775777936, 0.0, 0.0, 0.0, 0.0, 0.0, 0.0, 0.0, 0.0, 0.0, 0.0, 0.0, 0.0], [0.9925146698951721, 0.0006218788330443203, 0.0046072788536548615, 0.0022561238147318363, 0.0, 0.0, 0.0, 0.0, 0.0, 0.0, 0.0, 0.0, 0.0, 0.0, 0.0], [0.9892696738243103, 0.000377634190954268, 0.0003912331012543291, 0.0021356926299631596, 0.007825878448784351, 0.0, 0.0, 0.0, 0.0, 0.0, 0.0, 0.0, 0.0, 0.0, 0.0], [0.9862601161003113, 0.00034671553294174373, 0.000422248849645257, 0.0005602088640443981, 0.0019180503441020846, 0.010492708534002304, 0.0, 0.0, 0.0, 0.0, 0.0, 0.0, 0.0, 0.0, 0.0], [0.9594003558158875, 0.00032525433925911784, 0.002265580929815769, 0.0008911897893995047, 0.01338871382176876, 0.015304747968912125, 0.008424143306910992, 0.0, 0.0, 0.0, 0.0, 0.0, 0.0, 0.0, 0.0], [0.9838895797729492, 0.0003479572478681803, 0.0001981950190383941, 0.0004584117268677801, 0.0016947032418102026, 0.007318391930311918, 0.0030972894746810198, 0.0029954754281789064, 0.0, 0.0, 0.0, 0.0, 0.0, 0.0, 0.0], [0.9525526165962219, 0.0009896543342620134, 0.0020601002033799887, 0.0010951550211757421, 0.012028894387185574, 0.014248745515942574, 0.007350478786975145, 0.006844921037554741, 0.0028294117655605078, 0.0, 0.0, 0.0, 0.0, 0.0, 0.0], [0.9262260794639587, 0.0009486923809163272, 0.012615836225450039, 0.0016285727033391595, 0.034820687025785446, 0.012023979797959328, 0.004492073319852352, 0.0030168015509843826, 0.0029743618797510862, 0.0012529452797025442, 0.0, 0.0, 0.0, 0.0, 0.0], [0.9405162930488586, 0.000331898161675781, 0.0016848623054102063, 0.00529359420761466, 0.005307383369654417, 0.03964070603251457, 0.0019250980112701654, 0.00110812543425709, 0.0029321785550564528, 0.00027864103321917355, 0.000981115736067295, 0.0, 0.0, 0.0, 0.0], [0.8060579299926758, 0.0018982923356816173, 0.0035851076245307922, 0.005074709188193083, 0.15378721058368683, 0.009045060724020004, 0.0027284258976578712, 0.003086832584813237, 0.00384925352409482, 0.0016734233358874917, 0.007475598715245724, 0.0017380282515659928, 0.0, 0.0, 0.0], [0.9697889089584351, 0.0003658541536424309, 0.00023471139138564467, 0.001583207631483674, 0.004278951790183783, 0.005606538616120815, 0.0017146398313343525, 0.0012231094297021627, 0.01302992645651102, 0.00047767377691343427, 0.0002366334811085835, 0.0003522521292325109, 0.0011075615184381604, 0.0, 0.0], [0.9492000937461853, 0.00015196521417237818, 0.0006636416655965149, 0.0005283388309180737, 0.005121209193021059, 0.008077381178736687, 0.0025989683344960213, 0.0021028388291597366, 0.0007627549348399043, 0.0005778302438557148, 0.0006418582634069026, 0.0001879407063825056, 0.0009332892368547618, 0.028451910242438316, 0.0], [0.9130339622497559, 0.00047753038234077394, 0.0009610823472030461, 0.0012577890884131193, 0.04787200689315796, 0.006515352986752987, 0.001395914820022881, 0.0023142576683312654, 0.0014715481083840132, 0.0007699805428273976, 0.0018108224030584097, 0.0001579131348989904, 0.0006406147149391472, 0.01967003010213375, 0.0016513029113411903]], [[1.0, 0.0, 0.0, 0.0, 0.0, 0.0, 0.0, 0.0, 0.0, 0.0, 0.0, 0.0, 0.0, 0.0, 0.0], [0.9517961740493774, 0.04820378124713898, 0.0, 0.0, 0.0, 0.0, 0.0, 0.0, 0.0, 0.0, 0.0, 0.0, 0.0, 0.0, 0.0], [0.9875997304916382, 0.0027522684540599585, 0.009647956117987633, 0.0, 0.0, 0.0, 0.0, 0.0, 0.0, 0.0, 0.0, 0.0, 0.0, 0.0, 0.0], [0.8640295267105103, 0.008022686466574669, 0.06005468964576721, 0.06789307296276093, 0.0, 0.0, 0.0, 0.0, 0.0, 0.0, 0.0, 0.0, 0.0, 0.0, 0.0], [0.9191791415214539, 0.005050789099186659, 0.01578194834291935, 0.04856138303875923, 0.011426807381212711, 0.0, 0.0, 0.0, 0.0, 0.0, 0.0, 0.0, 0.0, 0.0, 0.0], [0.9227889180183411, 0.011538778431713581, 0.006608709692955017, 0.01728585734963417, 0.027553945779800415, 0.014223827049136162, 0.0, 0.0, 0.0, 0.0, 0.0, 0.0, 0.0, 0.0, 0.0], [0.8499029874801636, 0.024620166048407555, 0.017129158601164818, 0.028713073581457138, 0.04894013702869415, 0.01389278843998909, 0.016801709309220314, 0.0, 0.0, 0.0, 0.0, 0.0, 0.0, 0.0, 0.0], [0.9279589653015137, 0.014713524840772152, 0.0027578549925237894, 0.010640132240951061, 0.012209346517920494, 0.017680443823337555, 0.005575037561357021, 0.00846465490758419, 0.0, 0.0, 0.0, 0.0, 0.0, 0.0, 0.0], [0.8488804697990417, 0.01102722529321909, 0.011561565101146698, 0.0368170402944088, 0.042072538286447525, 0.020996874198317528, 0.007859479635953903, 0.005035809241235256, 0.01574896089732647, 0.0, 0.0, 0.0, 0.0, 0.0, 0.0], [0.15158163011074066, 0.022782539948821068, 0.10293032228946686, 0.4674829840660095, 0.14130885899066925, 0.07804501801729202, 0.00783001258969307, 0.005965107120573521, 0.001543100574053824, 0.020530451089143753, 0.0, 0.0, 0.0, 0.0, 0.0], [0.8627989888191223, 0.004352154675871134, 0.0101009551435709, 0.036294564604759216, 0.009702643379569054, 0.03255100175738335, 0.005748030263930559, 0.006647913716733456, 0.009744781069457531, 0.011997115798294544, 0.0100619588047266, 0.0, 0.0, 0.0, 0.0], [0.1856858879327774, 0.005073328036814928, 0.0034519212786108255, 0.07792250066995621, 0.6138411164283752, 0.041814032942056656, 0.006782753858715296, 0.002927267225459218, 0.0019144867546856403, 0.025762230157852173, 0.019450394436717033, 0.015374084003269672, 0.0, 0.0, 0.0], [0.5291957855224609, 0.010852904058992863, 0.0016760638682171702, 0.08271262049674988, 0.18047113716602325, 0.09470120817422867, 0.012714010663330555, 0.0058052209205925465, 0.016048504039645195, 0.03306353837251663, 0.0034558644983917475, 0.014296669512987137, 0.01500640343874693, 0.0, 0.0], [0.8073534369468689, 0.009877176024019718, 0.004189744126051664, 0.022836582735180855, 0.038179051131010056, 0.025155281648039818, 0.0036325843539088964, 0.002724569756537676, 0.0038853301666677, 0.015943188220262527, 0.0060758329927921295, 0.006203637924045324, 0.004547057207673788, 0.049396563321352005, 0.0], [0.18740761280059814, 0.0025607936549931765, 0.0032864189706742764, 0.04637579247355461, 0.6585376858711243, 0.012557212263345718, 0.0019902042113244534, 0.0017302741762250662, 0.0031467704102396965, 0.011151599697768688, 0.014160636812448502, 0.01769951358437538, 0.01207836251705885, 0.002523335162550211, 0.02479376830160618]], [[1.0, 0.0, 0.0, 0.0, 0.0, 0.0, 0.0, 0.0, 0.0, 0.0, 0.0, 0.0, 0.0, 0.0, 0.0], [0.9952865839004517, 0.004713356029242277, 0.0, 0.0, 0.0, 0.0, 0.0, 0.0, 0.0, 0.0, 0.0, 0.0, 0.0, 0.0, 0.0], [0.9837464690208435, 0.0014569621998816729, 0.014796527102589607, 0.0, 0.0, 0.0, 0.0, 0.0, 0.0, 0.0, 0.0, 0.0, 0.0, 0.0, 0.0], [0.9425883889198303, 0.0023953563068062067, 0.04412851855158806, 0.010887672193348408, 0.0, 0.0, 0.0, 0.0, 0.0, 0.0, 0.0, 0.0, 0.0, 0.0, 0.0], [0.9173686504364014, 0.005344715900719166, 0.015434565022587776, 0.013248095288872719, 0.04860392585396767, 0.0, 0.0, 0.0, 0.0, 0.0, 0.0, 0.0, 0.0, 0.0, 0.0], [0.9700427651405334, 0.0029463644605129957, 0.002854973543435335, 0.004074549302458763, 0.005130946170538664, 0.014950321055948734, 0.0, 0.0, 0.0, 0.0, 0.0, 0.0, 0.0, 0.0, 0.0], [0.9363909959793091, 0.0029055187478661537, 0.01592913828790188, 0.003031698288396001, 0.025418981909751892, 0.010456472635269165, 0.005867159925401211, 0.0, 0.0, 0.0, 0.0, 0.0, 0.0, 0.0, 0.0], [0.98450767993927, 0.0009707044810056686, 0.0031874829437583685, 0.001592285349033773, 0.003245394676923752, 0.0030763372778892517, 0.0017865431727841496, 0.0016334813553839922, 0.0, 0.0, 0.0, 0.0, 0.0, 0.0, 0.0], [0.9726051092147827, 0.0034351421054452658, 0.009853685274720192, 0.0007408866076730192, 0.005000314675271511, 0.0026231466326862574, 0.001527804764918983, 0.0006746775470674038, 0.003539267461746931, 0.0, 0.0, 0.0, 0.0, 0.0, 0.0], [0.5302109718322754, 0.004550483543425798, 0.17013925313949585, 0.004565924406051636, 0.27738380432128906, 0.00532029801979661, 0.0007122656097635627, 0.0007243769359774888, 0.004811478778719902, 0.0015811951598152518, 0.0, 0.0, 0.0, 0.0, 0.0], [0.9093186259269714, 0.004078371915966272, 0.015173119492828846, 0.012723933905363083, 0.008297707885503769, 0.028035679832100868, 0.002989314729347825, 0.0018015835667029023, 0.005086936056613922, 0.0012803827412426472, 0.01121427770704031, 0.0, 0.0, 0.0, 0.0], [0.38307005167007446, 0.0010837753070518374, 0.006023084744811058, 0.004988895263522863, 0.5880290269851685, 0.0014341925270855427, 0.0004357386496849358, 0.00028702293639071286, 0.0023580980487167835, 0.0003089849487878382, 0.010469073429703712, 0.0015120379393920302, 0.0, 0.0, 0.0], [0.9113158583641052, 0.0006916089332662523, 0.0008029906894080341, 0.00202940427698195, 0.010121642611920834, 0.0014911465113982558, 0.0007082044030539691, 0.0002685252984520048, 0.06913089007139206, 0.0005289496039040387, 0.0010154470801353455, 0.0009961104951798916, 0.0008991148206405342, 0.0, 0.0], [0.9737216234207153, 0.0008622438181191683, 0.001706463168375194, 0.0015094568952918053, 0.004937249701470137, 0.0014101709239184856, 0.0010381619213148952, 0.0005418762448243797, 0.0029253577813506126, 0.0005577735137194395, 0.001651678467169404, 0.0007270910427905619, 0.0006240765796974301, 0.007786727510392666, 0.0], [0.35545414686203003, 0.0002527504984755069, 0.003145616501569748, 0.0021040828432887793, 0.6297136545181274, 0.0007703489973209798, 0.0001284047175431624, 0.00012616347521543503, 0.0015860656276345253, 0.0002122016594512388, 0.004098902456462383, 0.0005590257351286709, 0.0003870721848215908, 0.00039423705311492085, 0.001067404286004603]], [[1.0, 0.0, 0.0, 0.0, 0.0, 0.0, 0.0, 0.0, 0.0, 0.0, 0.0, 0.0, 0.0, 0.0, 0.0], [0.9925755262374878, 0.007424545474350452, 0.0, 0.0, 0.0, 0.0, 0.0, 0.0, 0.0, 0.0, 0.0, 0.0, 0.0, 0.0, 0.0], [0.9801568984985352, 0.003164451103657484, 0.016678642481565475, 0.0, 0.0, 0.0, 0.0, 0.0, 0.0, 0.0, 0.0, 0.0, 0.0, 0.0, 0.0], [0.9188314080238342, 0.00823808740824461, 0.051465317606925964, 0.021465232595801353, 0.0, 0.0, 0.0, 0.0, 0.0, 0.0, 0.0, 0.0, 0.0, 0.0, 0.0], [0.9589453935623169, 0.004502908326685429, 0.0019530169665813446, 0.003840596415102482, 0.030758120119571686, 0.0, 0.0, 0.0, 0.0, 0.0, 0.0, 0.0, 0.0, 0.0, 0.0], [0.8542807102203369, 0.022027745842933655, 0.005546132568269968, 0.012896105647087097, 0.0029761488549411297, 0.10227321833372116, 0.0, 0.0, 0.0, 0.0, 0.0, 0.0, 0.0, 0.0, 0.0], [0.9612372517585754, 0.0061539774760603905, 0.0056006209924817085, 0.003156619844958186, 0.00486165564507246, 0.005769879091531038, 0.013219987042248249, 0.0, 0.0, 0.0, 0.0, 0.0, 0.0, 0.0, 0.0], [0.9544516801834106, 0.002490944927558303, 0.0033716242760419846, 0.005968358833342791, 0.0021869263146072626, 0.0043922970071434975, 0.008621741086244583, 0.01851636730134487, 0.0, 0.0, 0.0, 0.0, 0.0, 0.0, 0.0], [0.9501647353172302, 0.00260936189442873, 0.0009872354567050934, 0.00026900297962129116, 0.000355375959770754, 0.0026251717936247587, 0.0070784795098006725, 0.004798280540853739, 0.03111244924366474, 0.0, 0.0, 0.0, 0.0, 0.0, 0.0], [0.6580884456634521, 0.05694832652807236, 0.13412965834140778, 0.008518043905496597, 0.08697158098220825, 0.012135710567235947, 0.00536787835881114, 0.006390351336449385, 0.0199186559766531, 0.011531331576406956, 0.0, 0.0, 0.0, 0.0, 0.0], [0.7435481548309326, 0.009840056300163269, 0.022301945835351944, 0.05312589183449745, 0.00477880472317338, 0.05639549344778061, 0.021339723840355873, 0.009179957211017609, 0.018516207113862038, 0.02221902459859848, 0.038754768669605255, 0.0, 0.0, 0.0, 0.0], [0.39125725626945496, 0.005884382873773575, 0.020869549363851547, 0.034157369285821915, 0.3680039644241333, 0.005674487445503473, 0.01786736212670803, 0.014477464370429516, 0.018976479768753052, 0.013084438629448414, 0.09191285073757172, 0.01783447153866291, 0.0, 0.0, 0.0], [0.6053681969642639, 0.013185372576117516, 0.01908733695745468, 0.0596294142305851, 0.035529617220163345, 0.012898323126137257, 0.01635824330151081, 0.005221870727837086, 0.12316431850194931, 0.029398009181022644, 0.037080712616443634, 0.035033535212278366, 0.008045066148042679, 0.0, 0.0], [0.9232757091522217, 0.0024268871638923883, 0.0015925782499834895, 0.00045679419417865574, 0.0012871804647147655, 0.0030483792070299387, 0.004366435110569, 0.002307735849171877, 0.008314677514135838, 0.003943391144275665, 0.0021952588576823473, 0.0020453480537980795, 0.0032647682819515467, 0.04147486388683319, 0.0], [0.46408990025520325, 0.006446058861911297, 0.014784528873860836, 0.016636935994029045, 0.39909571409225464, 0.0031740644481033087, 0.004670099820941687, 0.010798205621540546, 0.014916780404746532, 0.005123654846101999, 0.04164804890751839, 0.005323339253664017, 0.005430165678262711, 0.004250430501997471, 0.0036119958385825157]], [[1.0, 0.0, 0.0, 0.0, 0.0, 0.0, 0.0, 0.0, 0.0, 0.0, 0.0, 0.0, 0.0, 0.0, 0.0], [0.968791663646698, 0.031208351254463196, 0.0, 0.0, 0.0, 0.0, 0.0, 0.0, 0.0, 0.0, 0.0, 0.0, 0.0, 0.0, 0.0], [0.9948217868804932, 0.002328990027308464, 0.0028491877019405365, 0.0, 0.0, 0.0, 0.0, 0.0, 0.0, 0.0, 0.0, 0.0, 0.0, 0.0, 0.0], [0.9708739519119263, 0.0059001995250582695, 0.009355191141366959, 0.013870767317712307, 0.0, 0.0, 0.0, 0.0, 0.0, 0.0, 0.0, 0.0, 0.0, 0.0, 0.0], [0.9862765073776245, 0.00395522965118289, 0.001619746908545494, 0.0054998877458274364, 0.002648657653480768, 0.0, 0.0, 0.0, 0.0, 0.0, 0.0, 0.0, 0.0, 0.0, 0.0], [0.988035261631012, 0.0035830396227538586, 0.004043423105031252, 0.001159698236733675, 0.0024475627578794956, 0.0007311223307624459, 0.0, 0.0, 0.0, 0.0, 0.0, 0.0, 0.0, 0.0, 0.0], [0.9449519515037537, 0.013958972878754139, 0.015311761759221554, 0.004470960237085819, 0.013897765427827835, 0.0007999861263670027, 0.006608659401535988, 0.0, 0.0, 0.0, 0.0, 0.0, 0.0, 0.0, 0.0], [0.9735852479934692, 0.0119177782908082, 0.0029763176571577787, 0.0014601347502321005, 0.0017739621689543128, 0.0004891958087682724, 0.0014917076332494617, 0.0063056740909814835, 0.0, 0.0, 0.0, 0.0, 0.0, 0.0, 0.0], [0.4250253438949585, 0.22429411113262177, 0.17353539168834686, 0.03481428697705269, 0.12255658209323883, 0.0034808029886335135, 0.004230030346661806, 0.009843372739851475, 0.002220006426796317, 0.0, 0.0, 0.0, 0.0, 0.0, 0.0], [0.6821738481521606, 0.054921556264162064, 0.09004879742860794, 0.023327037692070007, 0.13387884199619293, 0.0017663801554590464, 0.0017926914151757956, 0.003217002609744668, 0.001839282689616084, 0.007034572772681713, 0.0, 0.0, 0.0, 0.0, 0.0], [0.9021570682525635, 0.011571371927857399, 0.02489299140870571, 0.020247435197234154, 0.023759039118885994, 0.004119325429201126, 0.0009564826614223421, 0.0008033402264118195, 0.0016370427329093218, 0.0013263649307191372, 0.008529460057616234, 0.0, 0.0, 0.0, 0.0], [0.6357418894767761, 0.02685089409351349, 0.02654121071100235, 0.030419085174798965, 0.25226980447769165, 0.0021119520533829927, 0.001062803203240037, 0.0014583820011466742, 0.001581585849635303, 0.004031963646411896, 0.01505239401012659, 0.002878042869269848, 0.0, 0.0, 0.0], [0.9247040152549744, 0.02201136201620102, 0.009230044670403004, 0.0043970439583063126, 0.016249487176537514, 0.001374060520902276, 0.0011282897321507335, 0.0015392269706353545, 0.006413201801478863, 0.0022936516907066107, 0.002069708425551653, 0.001164460787549615, 0.007425494026392698, 0.0, 0.0], [0.9211751818656921, 0.007581478450447321, 0.02226417139172554, 0.0039245267398655415, 0.023628590628504753, 0.0009036151459440589, 0.0009713922045193613, 0.0013462798669934273, 0.000403351616114378, 0.0015170390252023935, 0.010583335533738136, 0.0005057309754192829, 0.0035720134619623423, 0.001623353804461658, 0.0], [0.686616837978363, 0.019219931215047836, 0.019360924139618874, 0.01376781240105629, 0.22802051901817322, 0.0011529308976605535, 0.0007667880272492766, 0.0015234400052577257, 0.0014063527341932058, 0.0034230684395879507, 0.011506905779242516, 0.0011859177611768246, 0.00732610234990716, 0.0007737960550002754, 0.003948654513806105]]], \"attentionHeadNames\": [\"L15H15\", \"L17H7\", \"L17H0\", \"L22H2\", \"L16H13\", \"L14H6\", \"L13H6\", \"L13H1\", \"L12H15\", \"L17H10\"], \"tokens\": [\"<|endoftext|>\", \"When\", \" John\", \" and\", \" Mary\", \" went\", \" to\", \" the\", \" shops\", \",\", \" John\", \" gave\", \" the\", \" bag\", \" to\"]}\n",
              "    )\n",
              "    </script>"
            ],
            "text/plain": [
              "<circuitsvis.utils.render.RenderedHTML at 0x7f2706dee100>"
            ]
          },
          "execution_count": 51,
          "metadata": {},
          "output_type": "execute_result"
        }
      ],
      "source": [
        "top_k = 10\n",
        "top_heads = torch.topk(per_head_logit_diffs.flatten(), k=top_k).indices.cpu().numpy()\n",
        "heads = [(head // model.cfg.n_heads, head % model.cfg.n_heads) for head in top_heads]\n",
        "tokens, attn, names = get_attn_head_patterns(model, prompts[0], heads)\n",
        "cv.attention.attention_heads(tokens=tokens, attention=attn, attention_head_names=names)"
      ]
    },
    {
      "cell_type": "code",
      "execution_count": 53,
      "metadata": {
        "id": "gol6LDwpvWZd"
      },
      "outputs": [],
      "source": [
        "nmh_candidates = [(12, 15), (13, 1), (13, 6), (15, 15), (16, 13), (17, 0), (17, 10), (17, 7)]"
      ]
    },
    {
      "cell_type": "code",
      "execution_count": 30,
      "metadata": {
        "colab": {
          "base_uri": "https://localhost:8080/",
          "height": 799
        },
        "id": "ZDEKgFVHozPM",
        "outputId": "23c2d46d-5504-45fb-e80e-75b53b585f6a"
      },
      "outputs": [
        {
          "data": {
            "text/html": [
              "<div id=\"circuits-vis-e33328ba-bdd8\" style=\"margin: 15px 0;\"/>\n",
              "    <script crossorigin type=\"module\">\n",
              "    import { render, AttentionHeads } from \"https://unpkg.com/circuitsvis@1.39.1/dist/cdn/esm.js\";\n",
              "    render(\n",
              "      \"circuits-vis-e33328ba-bdd8\",\n",
              "      AttentionHeads,\n",
              "      {\"attention\": [[[1.0, 0.0, 0.0, 0.0, 0.0, 0.0, 0.0, 0.0, 0.0, 0.0, 0.0, 0.0, 0.0, 0.0, 0.0, 0.0, 0.0], [0.986954391002655, 0.013045614585280418, 0.0, 0.0, 0.0, 0.0, 0.0, 0.0, 0.0, 0.0, 0.0, 0.0, 0.0, 0.0, 0.0, 0.0, 0.0], [0.9906377792358398, 0.0012476041447371244, 0.008114572614431381, 0.0, 0.0, 0.0, 0.0, 0.0, 0.0, 0.0, 0.0, 0.0, 0.0, 0.0, 0.0, 0.0, 0.0], [0.9840434193611145, 0.0005616084672510624, 0.013221044093370438, 0.0021739096846431494, 0.0, 0.0, 0.0, 0.0, 0.0, 0.0, 0.0, 0.0, 0.0, 0.0, 0.0, 0.0, 0.0], [0.8158886432647705, 0.012085117399692535, 0.044503651559352875, 0.016076643019914627, 0.11144597828388214, 0.0, 0.0, 0.0, 0.0, 0.0, 0.0, 0.0, 0.0, 0.0, 0.0, 0.0, 0.0], [0.9846231341362, 0.011316428892314434, 0.000643434002995491, 0.0015705963596701622, 0.0013977702474221587, 0.00044864992378279567, 0.0, 0.0, 0.0, 0.0, 0.0, 0.0, 0.0, 0.0, 0.0, 0.0, 0.0], [0.881080150604248, 0.014811355620622635, 0.003467694390565157, 0.003283547703176737, 0.08598589152097702, 0.0005001789540983737, 0.01087133027613163, 0.0, 0.0, 0.0, 0.0, 0.0, 0.0, 0.0, 0.0, 0.0, 0.0], [0.9833047389984131, 0.0017248229123651981, 0.0006103302584961057, 0.001220658770762384, 0.0028694691136479378, 0.0006452277302742004, 0.0026629925705492496, 0.00696166418492794, 0.0, 0.0, 0.0, 0.0, 0.0, 0.0, 0.0, 0.0, 0.0], [0.19435982406139374, 0.006360809318721294, 0.02266141027212143, 0.0021625717636197805, 0.031957708299160004, 0.0010777624556794763, 0.0013833676930516958, 0.004288206342607737, 0.7357482314109802, 0.0, 0.0, 0.0, 0.0, 0.0, 0.0, 0.0, 0.0], [0.15580028295516968, 0.004066663794219494, 0.1863832026720047, 0.005110243801027536, 0.6121722459793091, 0.00013190486060921103, 0.0005182663444429636, 0.00046295751235447824, 0.0013502008514478803, 0.03400406986474991, 0.0, 0.0, 0.0, 0.0, 0.0, 0.0, 0.0], [0.7949919700622559, 0.011220157146453857, 0.00022079718473833054, 0.0028355151880532503, 0.0009466533665545285, 0.007073873188346624, 0.005810291972011328, 0.0036909927148371935, 0.12796975672245026, 0.03117712214589119, 0.014062926173210144, 0.0, 0.0, 0.0, 0.0, 0.0, 0.0], [0.3133915662765503, 0.008956681936979294, 0.2616048753261566, 0.009805220179259777, 0.14284107089042664, 0.0002630203671287745, 0.0020125519949942827, 0.0014145170571282506, 0.0037784611340612173, 0.07695122808218002, 0.14353586733341217, 0.03544490784406662, 0.0, 0.0, 0.0, 0.0, 0.0], [0.7298409938812256, 0.00974427442997694, 0.0009339317912235856, 0.0067161694169044495, 0.002062555169686675, 0.004343967419117689, 0.006491085980087519, 0.004618487786501646, 0.044856760650873184, 0.024531515315175056, 0.008566812612116337, 0.09821866452693939, 0.059074774384498596, 0.0, 0.0, 0.0, 0.0], [0.1926441490650177, 0.005830145440995693, 0.0037958326283842325, 0.0014656585408374667, 0.020599134266376495, 0.0006398690748028457, 0.00043155878665857017, 0.0008278499590232968, 0.046899307519197464, 0.025958813726902008, 0.1822805255651474, 0.27995362877845764, 0.0131745720282197, 0.22549892961978912, 0.0, 0.0, 0.0], [0.8763055801391602, 0.002092695562168956, 0.001736547565087676, 0.002184709068387747, 0.0010870021069422364, 1.5053452443680726e-05, 0.00010528229176998138, 0.0015080022858455777, 0.001006632810458541, 0.005858014803379774, 0.0015057488344609737, 0.005492526106536388, 0.012221826240420341, 0.03372187167406082, 0.05515855923295021, 0.0, 0.0], [0.08381751924753189, 0.003532104892656207, 0.0005474824574775994, 0.0009187652613036335, 0.004479466006159782, 0.00035201720311306417, 0.0004495777830015868, 0.0007955618784762919, 0.030619066208600998, 0.011124064214527607, 0.11683168262243271, 0.3606805205345154, 0.017535896971821785, 0.3135751485824585, 0.004917029291391373, 0.04982417821884155, 0.0], [0.09349667280912399, 0.004117244854569435, 0.21109706163406372, 0.004296702332794666, 0.2804444432258606, 4.193100176053122e-05, 0.00030787003925070167, 0.000627864443231374, 0.0035957307554781437, 0.058698296546936035, 0.26504990458488464, 0.0414888970553875, 0.0034908498637378216, 0.0001594481582287699, 0.0003472267708275467, 0.013902979902923107, 0.01883682981133461]], [[1.0, 0.0, 0.0, 0.0, 0.0, 0.0, 0.0, 0.0, 0.0, 0.0, 0.0, 0.0, 0.0, 0.0, 0.0, 0.0, 0.0], [0.9839481711387634, 0.016051847487688065, 0.0, 0.0, 0.0, 0.0, 0.0, 0.0, 0.0, 0.0, 0.0, 0.0, 0.0, 0.0, 0.0, 0.0, 0.0], [0.9486216306686401, 0.0033632246777415276, 0.048015154898166656, 0.0, 0.0, 0.0, 0.0, 0.0, 0.0, 0.0, 0.0, 0.0, 0.0, 0.0, 0.0, 0.0, 0.0], [0.8252838850021362, 0.02356766164302826, 0.03821244835853577, 0.11293602734804153, 0.0, 0.0, 0.0, 0.0, 0.0, 0.0, 0.0, 0.0, 0.0, 0.0, 0.0, 0.0, 0.0], [0.7854806184768677, 0.02139289118349552, 0.04110896959900856, 0.07500574737787247, 0.07701168954372406, 0.0, 0.0, 0.0, 0.0, 0.0, 0.0, 0.0, 0.0, 0.0, 0.0, 0.0, 0.0], [0.810542643070221, 0.039716094732284546, 0.010542212054133415, 0.057299546897411346, 0.01710701547563076, 0.06479249894618988, 0.0, 0.0, 0.0, 0.0, 0.0, 0.0, 0.0, 0.0, 0.0, 0.0, 0.0], [0.8165392279624939, 0.010232909582555294, 0.014019767753779888, 0.01940426602959633, 0.03295288234949112, 0.016332877799868584, 0.09051812440156937, 0.0, 0.0, 0.0, 0.0, 0.0, 0.0, 0.0, 0.0, 0.0, 0.0], [0.848838210105896, 0.012058441527187824, 0.007709589786827564, 0.010149705223739147, 0.013774599879980087, 0.010593117214739323, 0.04593588039278984, 0.05094044283032417, 0.0, 0.0, 0.0, 0.0, 0.0, 0.0, 0.0, 0.0, 0.0], [0.6851171255111694, 0.030453482642769814, 0.011682181619107723, 0.01462165080010891, 0.02684331312775612, 0.03303632512688637, 0.04299009591341019, 0.013366506434977055, 0.1418893039226532, 0.0, 0.0, 0.0, 0.0, 0.0, 0.0, 0.0, 0.0], [0.37995806336402893, 0.03222079947590828, 0.07022351026535034, 0.09822447597980499, 0.28267383575439453, 0.03484397754073143, 0.016834506765007973, 0.007712163962423801, 0.0427803136408329, 0.03452833369374275, 0.0, 0.0, 0.0, 0.0, 0.0, 0.0, 0.0], [0.5427638292312622, 0.015917180106043816, 0.006108738481998444, 0.0750441923737526, 0.017341090366244316, 0.19150955975055695, 0.04827994108200073, 0.004516955930739641, 0.03090260550379753, 0.032460425049066544, 0.03515540435910225, 0.0, 0.0, 0.0, 0.0, 0.0, 0.0], [0.3986998498439789, 0.02634178288280964, 0.19945573806762695, 0.13414818048477173, 0.017255719751119614, 0.021268360316753387, 0.025372345000505447, 0.012156440876424313, 0.017600389197468758, 0.04041784256696701, 0.06443004310131073, 0.04285323619842529, 0.0, 0.0, 0.0, 0.0, 0.0], [0.7476828694343567, 0.007720394991338253, 0.004117924720048904, 0.01056172139942646, 0.005381809547543526, 0.0050760479643940926, 0.00859290175139904, 0.006459933239966631, 0.03344055265188217, 0.014212469570338726, 0.011667302809655666, 0.08298438042402267, 0.06210168078541756, 0.0, 0.0, 0.0, 0.0], [0.8153025507926941, 0.006070641800761223, 0.002708671847358346, 0.003128265030682087, 0.0019263236317783594, 0.0040885997004806995, 0.005526191089302301, 0.0019210325554013252, 0.010283288545906544, 0.005690692458301783, 0.004759283270686865, 0.03803476318717003, 0.018350763246417046, 0.08220893144607544, 0.0, 0.0, 0.0], [0.8078206777572632, 0.0049926238134503365, 0.006003868766129017, 0.004310396499931812, 0.006054978352040052, 0.0012307707220315933, 0.0018968938384205103, 0.00420320825651288, 0.01785525493323803, 0.004822889342904091, 0.006367061287164688, 0.011159875430166721, 0.018979931250214577, 0.029982421547174454, 0.07431913912296295, 0.0, 0.0], [0.5522348880767822, 0.014174073003232479, 0.002854865277186036, 0.0056373197585344315, 0.004814808256924152, 0.01393346581608057, 0.010347390547394753, 0.0021439429838210344, 0.012100058607757092, 0.012073577381670475, 0.014248743653297424, 0.09347794204950333, 0.017475614324212074, 0.07207443565130234, 0.05054757744073868, 0.12186131626367569, 0.0], [0.2838251292705536, 0.0171369519084692, 0.1994968056678772, 0.10355088859796524, 0.027769828215241432, 0.023070260882377625, 0.014454497955739498, 0.009155990555882454, 0.0144612742587924, 0.035641614347696304, 0.14481742680072784, 0.0338917076587677, 0.01772456057369709, 0.009129291400313377, 0.006844687275588512, 0.013528387062251568, 0.04550068825483322]]], \"attentionHeadNames\": [\"L20H1\", \"L12H7\"], \"tokens\": [\"<|endoftext|>\", \"After\", \" John\", \" and\", \" Mary\", \" went\", \" to\", \" the\", \" store\", \",\", \" Mary\", \" gave\", \" a\", \" bottle\", \" of\", \" milk\", \" to\"]}\n",
              "    )\n",
              "    </script>"
            ],
            "text/plain": [
              "<circuitsvis.utils.render.RenderedHTML at 0x7f2707623b80>"
            ]
          },
          "execution_count": 30,
          "metadata": {},
          "output_type": "execute_result"
        }
      ],
      "source": [
        "top_k = 2\n",
        "top_heads = torch.topk(-per_head_logit_diffs.flatten(), k=top_k).indices.cpu().numpy()\n",
        "heads = [(head // model.cfg.n_heads, head % model.cfg.n_heads) for head in top_heads]\n",
        "tokens, attn, names = get_attn_head_patterns(model, example_prompt, heads)\n",
        "cv.attention.attention_heads(tokens=tokens, attention=attn, attention_head_names=names)"
      ]
    },
    {
      "cell_type": "markdown",
      "metadata": {
        "id": "mIE1CDqQyfRP"
      },
      "source": [
        "## Activation Patching for Model Component Importance"
      ]
    },
    {
      "cell_type": "markdown",
      "metadata": {
        "id": "RHnzMN_U1yiT"
      },
      "source": [
        "Before we sketch out the circuit, we'll take a look at the model from a top-down perspective and see how computation flows through the network. We will use the activation patching technique to see what layers, positions, heads, etc. are important as data flows through the network."
      ]
    },
    {
      "cell_type": "markdown",
      "metadata": {
        "id": "xTIMVadvpzU0"
      },
      "source": [
        "### Residual Stream"
      ]
    },
    {
      "cell_type": "markdown",
      "metadata": {
        "id": "XS_jzgr1ZbJL"
      },
      "source": [
        "Computation occurs at the S2 position for all layers until layer 7 (resid_pre is the residual stream prior to the given layer)."
      ]
    },
    {
      "cell_type": "code",
      "execution_count": 31,
      "metadata": {
        "colab": {
          "base_uri": "https://localhost:8080/",
          "height": 574,
          "referenced_widgets": [
            "a6c01dcbb16f40739edde63ebdfe7ba8",
            "a4d7f4c66ad6479a8712d633efe47dc3",
            "9bcc7b06013c490eacbf3db3c1fc4db9",
            "9d86487287844852b80c08095d4b40ca",
            "470d27bfb21a4fb199b58b99d01ce516",
            "8bfca06bb19445f6a5a8cd672e0a3892",
            "266328f488064603892cfd81dbc06762",
            "ac86aa09d88a42f9b5a3545f938783de",
            "1d156ea8352d4dc2b28afa4a8f272124",
            "2fead2d2f89e42f5af38b6661d801bf7",
            "c34e2c86d1824caa8199a11ebec52daa"
          ]
        },
        "id": "SDb7z0oLp7bt",
        "outputId": "aaba3964-fee9-49b1-b9ff-18191e948125"
      },
      "outputs": [
        {
          "data": {
            "application/vnd.jupyter.widget-view+json": {
              "model_id": "a6c01dcbb16f40739edde63ebdfe7ba8",
              "version_major": 2,
              "version_minor": 0
            },
            "text/plain": [
              "  0%|          | 0/360 [00:00<?, ?it/s]"
            ]
          },
          "metadata": {},
          "output_type": "display_data"
        },
        {
          "data": {
            "text/html": [
              "<html>\n",
              "<head><meta charset=\"utf-8\" /></head>\n",
              "<body>\n",
              "    <div>            <script src=\"https://cdnjs.cloudflare.com/ajax/libs/mathjax/2.7.5/MathJax.js?config=TeX-AMS-MML_SVG\"></script><script type=\"text/javascript\">if (window.MathJax && window.MathJax.Hub && window.MathJax.Hub.Config) {window.MathJax.Hub.Config({SVG: {font: \"STIX-Web\"}});}</script>                <script type=\"text/javascript\">window.PlotlyConfig = {MathJaxConfig: 'local'};</script>\n",
              "        <script src=\"https://cdn.plot.ly/plotly-2.18.2.min.js\"></script>                <div id=\"fde6f678-dc3b-4f5b-b2c6-a9f749703c9e\" class=\"plotly-graph-div\" style=\"height:525px; width:100%;\"></div>            <script type=\"text/javascript\">                                    window.PLOTLYENV=window.PLOTLYENV || {};                                    if (document.getElementById(\"fde6f678-dc3b-4f5b-b2c6-a9f749703c9e\")) {                    Plotly.newPlot(                        \"fde6f678-dc3b-4f5b-b2c6-a9f749703c9e\",                        [{\"coloraxis\":\"coloraxis\",\"name\":\"0\",\"x\":[\"<|endoftext|> 0\",\"When 1\",\" John 2\",\" and 3\",\" Mary 4\",\" went 5\",\" to 6\",\" the 7\",\" shops 8\",\", 9\",\" John 10\",\" gave 11\",\" the 12\",\" bag 13\",\" to 14\"],\"z\":[[0.0,0.0,0.0,0.0,0.0,0.0,0.0,0.0,0.0,0.0,1.0,0.0,0.0,0.0,0.0],[0.0,0.0,0.0,0.0,0.0,0.0,0.0,0.0,0.0,0.0,1.0016489028930664,2.3893155230325647e-05,0.000464501790702343,-0.001739065395668149,-0.000398533622501418],[0.0,0.0,0.0,0.0,0.0,0.0,0.0,0.0,0.0,0.0,1.002601146697998,-0.0017225602641701698,0.0005063671851530671,-0.0013597615761682391,-0.00017794112500268966],[0.0,0.0,0.0,0.0,0.0,0.0,0.0,0.0,0.0,0.0,1.0049543380737305,-0.0021638500038534403,0.00029593976796604693,-0.0013627482112497091,-0.0016595786437392235],[0.0,0.0,0.0,0.0,0.0,0.0,0.0,0.0,0.0,0.0,1.0037050247192383,-0.0002607288188301027,-3.950754035031423e-05,-0.0009845446329563856,-0.002322456566616893],[0.0,0.0,0.0,0.0,0.0,0.0,0.0,0.0,0.0,0.0,1.0028140544891357,0.0016803804319351912,-9.641097676649224e-06,-0.001447788905352354,-0.0029878495261073112],[0.0,0.0,0.0,0.0,0.0,0.0,0.0,0.0,0.0,0.0,0.9991515874862671,0.0033086780458688736,-0.0002477342786733061,-0.0007712877704761922,-0.0035703498870134354],[0.0,0.0,0.0,0.0,0.0,0.0,0.0,0.0,0.0,0.0,0.9936994314193726,0.0061422172002494335,-0.00036615211865864694,-0.00021053222008049488,-0.0022779712453484535],[0.0,0.0,0.0,0.0,0.0,0.0,0.0,0.0,0.0,0.0,0.9908751249313354,0.007704546675086021,1.875822272268124e-05,-0.0007991107413545251,-0.0005787802510894835],[0.0,0.0,0.0,0.0,0.0,0.0,0.0,0.0,0.0,0.0,0.9833521246910095,0.00972461886703968,0.0004154055495746434,-0.0008988227345980704,0.004150387831032276],[0.0,0.0,0.0,0.0,0.0,0.0,0.0,0.0,0.0,0.0,0.9759697914123535,0.004640302155166864,0.0004476298636291176,-0.0017089892644435167,0.013703248463571072],[0.0,0.0,0.0,0.0,0.0,0.0,0.0,0.0,0.0,0.0,0.43079113960266113,0.10450860857963562,0.001729109906591475,-0.0021030690986663103,0.43992212414741516],[0.0,0.0,0.0,0.0,0.0,0.0,0.0,0.0,0.0,0.0,0.26869121193885803,0.11283170431852341,0.0010627213632687926,-0.0038397766184061766,0.6078335046768188],[0.0,0.0,0.0,0.0,0.0,0.0,0.0,0.0,0.0,0.0,0.05090567469596863,0.07586611062288284,-0.00038412437424995005,-0.00117003102786839,0.8700994253158569],[0.0,0.0,0.0,0.0,0.0,0.0,0.0,0.0,0.0,0.0,0.04803100600838661,0.07658284902572632,0.0005200952873565257,-0.0002408178406767547,0.87081378698349],[0.0,0.0,0.0,0.0,0.0,0.0,0.0,0.0,0.0,0.0,0.02362435683608055,0.0700463205575943,-0.00039811444003134966,-0.0005185757763683796,0.9052324891090393],[0.0,0.0,0.0,0.0,0.0,0.0,0.0,0.0,0.0,0.0,0.043110061436891556,0.06956900656223297,-4.9358226533513516e-05,-0.00033911512582562864,0.8872222900390625],[0.0,0.0,0.0,0.0,0.0,0.0,0.0,0.0,0.0,0.0,0.06073844060301781,0.06989976763725281,0.00016515619063284248,0.00023531613987870514,0.8685983419418335],[0.0,0.0,0.0,0.0,0.0,0.0,0.0,0.0,0.0,0.0,0.08232372999191284,0.06846290081739426,4.155103306402452e-05,0.00020665483316406608,0.8487629294395447],[0.0,0.0,0.0,0.0,0.0,0.0,0.0,0.0,0.0,0.0,0.08593133836984634,0.06837419420480728,5.9104120737174526e-05,-5.40739820280578e-05,0.8459338545799255],[0.0,0.0,0.0,0.0,0.0,0.0,0.0,0.0,0.0,0.0,0.07828778028488159,0.062149081379175186,0.00025234525674022734,-9.221919754054397e-06,0.8597721457481384],[0.0,0.0,0.0,0.0,0.0,0.0,0.0,0.0,0.0,0.0,0.0722130760550499,0.06162432208657265,0.00022247880406212062,0.0003294740163255483,0.8655912280082703],[0.0,0.0,0.0,0.0,0.0,0.0,0.0,0.0,0.0,0.0,0.024318043142557144,0.061322830617427826,0.00018485756299924105,0.00013811919779982418,0.9139833450317383],[0.0,0.0,0.0,0.0,0.0,0.0,0.0,0.0,0.0,0.0,0.00018962571630254388,0.0015993742272257805,0.00015740140224806964,0.0006516648572869599,0.9973486661911011]],\"type\":\"heatmap\",\"xaxis\":\"x\",\"yaxis\":\"y\",\"hovertemplate\":\"x: %{x}<br>y: %{y}<br>color: %{z}<extra></extra>\"}],                        {\"template\":{\"data\":{\"histogram2dcontour\":[{\"type\":\"histogram2dcontour\",\"colorbar\":{\"outlinewidth\":0,\"ticks\":\"\"},\"colorscale\":[[0.0,\"#0d0887\"],[0.1111111111111111,\"#46039f\"],[0.2222222222222222,\"#7201a8\"],[0.3333333333333333,\"#9c179e\"],[0.4444444444444444,\"#bd3786\"],[0.5555555555555556,\"#d8576b\"],[0.6666666666666666,\"#ed7953\"],[0.7777777777777778,\"#fb9f3a\"],[0.8888888888888888,\"#fdca26\"],[1.0,\"#f0f921\"]]}],\"choropleth\":[{\"type\":\"choropleth\",\"colorbar\":{\"outlinewidth\":0,\"ticks\":\"\"}}],\"histogram2d\":[{\"type\":\"histogram2d\",\"colorbar\":{\"outlinewidth\":0,\"ticks\":\"\"},\"colorscale\":[[0.0,\"#0d0887\"],[0.1111111111111111,\"#46039f\"],[0.2222222222222222,\"#7201a8\"],[0.3333333333333333,\"#9c179e\"],[0.4444444444444444,\"#bd3786\"],[0.5555555555555556,\"#d8576b\"],[0.6666666666666666,\"#ed7953\"],[0.7777777777777778,\"#fb9f3a\"],[0.8888888888888888,\"#fdca26\"],[1.0,\"#f0f921\"]]}],\"heatmap\":[{\"type\":\"heatmap\",\"colorbar\":{\"outlinewidth\":0,\"ticks\":\"\"},\"colorscale\":[[0.0,\"#0d0887\"],[0.1111111111111111,\"#46039f\"],[0.2222222222222222,\"#7201a8\"],[0.3333333333333333,\"#9c179e\"],[0.4444444444444444,\"#bd3786\"],[0.5555555555555556,\"#d8576b\"],[0.6666666666666666,\"#ed7953\"],[0.7777777777777778,\"#fb9f3a\"],[0.8888888888888888,\"#fdca26\"],[1.0,\"#f0f921\"]]}],\"heatmapgl\":[{\"type\":\"heatmapgl\",\"colorbar\":{\"outlinewidth\":0,\"ticks\":\"\"},\"colorscale\":[[0.0,\"#0d0887\"],[0.1111111111111111,\"#46039f\"],[0.2222222222222222,\"#7201a8\"],[0.3333333333333333,\"#9c179e\"],[0.4444444444444444,\"#bd3786\"],[0.5555555555555556,\"#d8576b\"],[0.6666666666666666,\"#ed7953\"],[0.7777777777777778,\"#fb9f3a\"],[0.8888888888888888,\"#fdca26\"],[1.0,\"#f0f921\"]]}],\"contourcarpet\":[{\"type\":\"contourcarpet\",\"colorbar\":{\"outlinewidth\":0,\"ticks\":\"\"}}],\"contour\":[{\"type\":\"contour\",\"colorbar\":{\"outlinewidth\":0,\"ticks\":\"\"},\"colorscale\":[[0.0,\"#0d0887\"],[0.1111111111111111,\"#46039f\"],[0.2222222222222222,\"#7201a8\"],[0.3333333333333333,\"#9c179e\"],[0.4444444444444444,\"#bd3786\"],[0.5555555555555556,\"#d8576b\"],[0.6666666666666666,\"#ed7953\"],[0.7777777777777778,\"#fb9f3a\"],[0.8888888888888888,\"#fdca26\"],[1.0,\"#f0f921\"]]}],\"surface\":[{\"type\":\"surface\",\"colorbar\":{\"outlinewidth\":0,\"ticks\":\"\"},\"colorscale\":[[0.0,\"#0d0887\"],[0.1111111111111111,\"#46039f\"],[0.2222222222222222,\"#7201a8\"],[0.3333333333333333,\"#9c179e\"],[0.4444444444444444,\"#bd3786\"],[0.5555555555555556,\"#d8576b\"],[0.6666666666666666,\"#ed7953\"],[0.7777777777777778,\"#fb9f3a\"],[0.8888888888888888,\"#fdca26\"],[1.0,\"#f0f921\"]]}],\"mesh3d\":[{\"type\":\"mesh3d\",\"colorbar\":{\"outlinewidth\":0,\"ticks\":\"\"}}],\"scatter\":[{\"fillpattern\":{\"fillmode\":\"overlay\",\"size\":10,\"solidity\":0.2},\"type\":\"scatter\"}],\"parcoords\":[{\"type\":\"parcoords\",\"line\":{\"colorbar\":{\"outlinewidth\":0,\"ticks\":\"\"}}}],\"scatterpolargl\":[{\"type\":\"scatterpolargl\",\"marker\":{\"colorbar\":{\"outlinewidth\":0,\"ticks\":\"\"}}}],\"bar\":[{\"error_x\":{\"color\":\"#2a3f5f\"},\"error_y\":{\"color\":\"#2a3f5f\"},\"marker\":{\"line\":{\"color\":\"#E5ECF6\",\"width\":0.5},\"pattern\":{\"fillmode\":\"overlay\",\"size\":10,\"solidity\":0.2}},\"type\":\"bar\"}],\"scattergeo\":[{\"type\":\"scattergeo\",\"marker\":{\"colorbar\":{\"outlinewidth\":0,\"ticks\":\"\"}}}],\"scatterpolar\":[{\"type\":\"scatterpolar\",\"marker\":{\"colorbar\":{\"outlinewidth\":0,\"ticks\":\"\"}}}],\"histogram\":[{\"marker\":{\"pattern\":{\"fillmode\":\"overlay\",\"size\":10,\"solidity\":0.2}},\"type\":\"histogram\"}],\"scattergl\":[{\"type\":\"scattergl\",\"marker\":{\"colorbar\":{\"outlinewidth\":0,\"ticks\":\"\"}}}],\"scatter3d\":[{\"type\":\"scatter3d\",\"line\":{\"colorbar\":{\"outlinewidth\":0,\"ticks\":\"\"}},\"marker\":{\"colorbar\":{\"outlinewidth\":0,\"ticks\":\"\"}}}],\"scattermapbox\":[{\"type\":\"scattermapbox\",\"marker\":{\"colorbar\":{\"outlinewidth\":0,\"ticks\":\"\"}}}],\"scatterternary\":[{\"type\":\"scatterternary\",\"marker\":{\"colorbar\":{\"outlinewidth\":0,\"ticks\":\"\"}}}],\"scattercarpet\":[{\"type\":\"scattercarpet\",\"marker\":{\"colorbar\":{\"outlinewidth\":0,\"ticks\":\"\"}}}],\"carpet\":[{\"aaxis\":{\"endlinecolor\":\"#2a3f5f\",\"gridcolor\":\"white\",\"linecolor\":\"white\",\"minorgridcolor\":\"white\",\"startlinecolor\":\"#2a3f5f\"},\"baxis\":{\"endlinecolor\":\"#2a3f5f\",\"gridcolor\":\"white\",\"linecolor\":\"white\",\"minorgridcolor\":\"white\",\"startlinecolor\":\"#2a3f5f\"},\"type\":\"carpet\"}],\"table\":[{\"cells\":{\"fill\":{\"color\":\"#EBF0F8\"},\"line\":{\"color\":\"white\"}},\"header\":{\"fill\":{\"color\":\"#C8D4E3\"},\"line\":{\"color\":\"white\"}},\"type\":\"table\"}],\"barpolar\":[{\"marker\":{\"line\":{\"color\":\"#E5ECF6\",\"width\":0.5},\"pattern\":{\"fillmode\":\"overlay\",\"size\":10,\"solidity\":0.2}},\"type\":\"barpolar\"}],\"pie\":[{\"automargin\":true,\"type\":\"pie\"}]},\"layout\":{\"autotypenumbers\":\"strict\",\"colorway\":[\"#636efa\",\"#EF553B\",\"#00cc96\",\"#ab63fa\",\"#FFA15A\",\"#19d3f3\",\"#FF6692\",\"#B6E880\",\"#FF97FF\",\"#FECB52\"],\"font\":{\"color\":\"#2a3f5f\"},\"hovermode\":\"closest\",\"hoverlabel\":{\"align\":\"left\"},\"paper_bgcolor\":\"white\",\"plot_bgcolor\":\"#E5ECF6\",\"polar\":{\"bgcolor\":\"#E5ECF6\",\"angularaxis\":{\"gridcolor\":\"white\",\"linecolor\":\"white\",\"ticks\":\"\"},\"radialaxis\":{\"gridcolor\":\"white\",\"linecolor\":\"white\",\"ticks\":\"\"}},\"ternary\":{\"bgcolor\":\"#E5ECF6\",\"aaxis\":{\"gridcolor\":\"white\",\"linecolor\":\"white\",\"ticks\":\"\"},\"baxis\":{\"gridcolor\":\"white\",\"linecolor\":\"white\",\"ticks\":\"\"},\"caxis\":{\"gridcolor\":\"white\",\"linecolor\":\"white\",\"ticks\":\"\"}},\"coloraxis\":{\"colorbar\":{\"outlinewidth\":0,\"ticks\":\"\"}},\"colorscale\":{\"sequential\":[[0.0,\"#0d0887\"],[0.1111111111111111,\"#46039f\"],[0.2222222222222222,\"#7201a8\"],[0.3333333333333333,\"#9c179e\"],[0.4444444444444444,\"#bd3786\"],[0.5555555555555556,\"#d8576b\"],[0.6666666666666666,\"#ed7953\"],[0.7777777777777778,\"#fb9f3a\"],[0.8888888888888888,\"#fdca26\"],[1.0,\"#f0f921\"]],\"sequentialminus\":[[0.0,\"#0d0887\"],[0.1111111111111111,\"#46039f\"],[0.2222222222222222,\"#7201a8\"],[0.3333333333333333,\"#9c179e\"],[0.4444444444444444,\"#bd3786\"],[0.5555555555555556,\"#d8576b\"],[0.6666666666666666,\"#ed7953\"],[0.7777777777777778,\"#fb9f3a\"],[0.8888888888888888,\"#fdca26\"],[1.0,\"#f0f921\"]],\"diverging\":[[0,\"#8e0152\"],[0.1,\"#c51b7d\"],[0.2,\"#de77ae\"],[0.3,\"#f1b6da\"],[0.4,\"#fde0ef\"],[0.5,\"#f7f7f7\"],[0.6,\"#e6f5d0\"],[0.7,\"#b8e186\"],[0.8,\"#7fbc41\"],[0.9,\"#4d9221\"],[1,\"#276419\"]]},\"xaxis\":{\"gridcolor\":\"white\",\"linecolor\":\"white\",\"ticks\":\"\",\"title\":{\"standoff\":15},\"zerolinecolor\":\"white\",\"automargin\":true,\"zerolinewidth\":2},\"yaxis\":{\"gridcolor\":\"white\",\"linecolor\":\"white\",\"ticks\":\"\",\"title\":{\"standoff\":15},\"zerolinecolor\":\"white\",\"automargin\":true,\"zerolinewidth\":2},\"scene\":{\"xaxis\":{\"backgroundcolor\":\"#E5ECF6\",\"gridcolor\":\"white\",\"linecolor\":\"white\",\"showbackground\":true,\"ticks\":\"\",\"zerolinecolor\":\"white\",\"gridwidth\":2},\"yaxis\":{\"backgroundcolor\":\"#E5ECF6\",\"gridcolor\":\"white\",\"linecolor\":\"white\",\"showbackground\":true,\"ticks\":\"\",\"zerolinecolor\":\"white\",\"gridwidth\":2},\"zaxis\":{\"backgroundcolor\":\"#E5ECF6\",\"gridcolor\":\"white\",\"linecolor\":\"white\",\"showbackground\":true,\"ticks\":\"\",\"zerolinecolor\":\"white\",\"gridwidth\":2}},\"shapedefaults\":{\"line\":{\"color\":\"#2a3f5f\"}},\"annotationdefaults\":{\"arrowcolor\":\"#2a3f5f\",\"arrowhead\":0,\"arrowwidth\":1},\"geo\":{\"bgcolor\":\"white\",\"landcolor\":\"#E5ECF6\",\"subunitcolor\":\"white\",\"showland\":true,\"showlakes\":true,\"lakecolor\":\"white\"},\"title\":{\"x\":0.05},\"mapbox\":{\"style\":\"light\"}}},\"xaxis\":{\"anchor\":\"y\",\"domain\":[0.0,1.0],\"title\":{\"text\":\"Position\"}},\"yaxis\":{\"anchor\":\"x\",\"domain\":[0.0,1.0],\"autorange\":\"reversed\",\"title\":{\"text\":\"Layer\"}},\"coloraxis\":{\"colorscale\":[[0.0,\"rgb(103,0,31)\"],[0.1,\"rgb(178,24,43)\"],[0.2,\"rgb(214,96,77)\"],[0.3,\"rgb(244,165,130)\"],[0.4,\"rgb(253,219,199)\"],[0.5,\"rgb(247,247,247)\"],[0.6,\"rgb(209,229,240)\"],[0.7,\"rgb(146,197,222)\"],[0.8,\"rgb(67,147,195)\"],[0.9,\"rgb(33,102,172)\"],[1.0,\"rgb(5,48,97)\"]],\"cmid\":0.0},\"title\":{\"text\":\"IOI Metric for 'resid_pre' Activation Patching\"}},                        {\"responsive\": true}                    ).then(function(){\n",
              "                            \n",
              "var gd = document.getElementById('fde6f678-dc3b-4f5b-b2c6-a9f749703c9e');\n",
              "var x = new MutationObserver(function (mutations, observer) {{\n",
              "        var display = window.getComputedStyle(gd).display;\n",
              "        if (!display || display === 'none') {{\n",
              "            console.log([gd, 'removed!']);\n",
              "            Plotly.purge(gd);\n",
              "            observer.disconnect();\n",
              "        }}\n",
              "}});\n",
              "\n",
              "// Listen for the removal of the full notebook cells\n",
              "var notebookContainer = gd.closest('#notebook-container');\n",
              "if (notebookContainer) {{\n",
              "    x.observe(notebookContainer, {childList: true});\n",
              "}}\n",
              "\n",
              "// Listen for the clearing of the current output cell\n",
              "var outputEl = gd.closest('.output');\n",
              "if (outputEl) {{\n",
              "    x.observe(outputEl, {childList: true});\n",
              "}}\n",
              "\n",
              "                        })                };                            </script>        </div>\n",
              "</body>\n",
              "</html>"
            ]
          },
          "metadata": {},
          "output_type": "display_data"
        }
      ],
      "source": [
        "resid_pre_act_patch_results = patching.get_act_patch_resid_pre(\n",
        "    model, \n",
        "    corrupted_tokens, \n",
        "    clean_cache, \n",
        "    ioi_metric)\n",
        "\n",
        "imshow(resid_pre_act_patch_results, \n",
        "       yaxis=\"Layer\", \n",
        "       xaxis=\"Position\", \n",
        "       x=[f\"{tok} {i}\" for i, tok in enumerate(model.to_str_tokens(clean_tokens[0]))],\n",
        "       title=\"IOI Metric for 'resid_pre' Activation Patching\")"
      ]
    },
    {
      "cell_type": "code",
      "execution_count": 32,
      "metadata": {
        "colab": {
          "base_uri": "https://localhost:8080/",
          "height": 542
        },
        "id": "KPqjszIJcxaH",
        "outputId": "1da6b351-0695-4715-a0c3-f664a49aeffb"
      },
      "outputs": [
        {
          "data": {
            "text/html": [
              "<html>\n",
              "<head><meta charset=\"utf-8\" /></head>\n",
              "<body>\n",
              "    <div>            <script src=\"https://cdnjs.cloudflare.com/ajax/libs/mathjax/2.7.5/MathJax.js?config=TeX-AMS-MML_SVG\"></script><script type=\"text/javascript\">if (window.MathJax && window.MathJax.Hub && window.MathJax.Hub.Config) {window.MathJax.Hub.Config({SVG: {font: \"STIX-Web\"}});}</script>                <script type=\"text/javascript\">window.PlotlyConfig = {MathJaxConfig: 'local'};</script>\n",
              "        <script src=\"https://cdn.plot.ly/plotly-2.18.2.min.js\"></script>                <div id=\"543f4367-c4fe-4aff-bdcc-784f99c5302b\" class=\"plotly-graph-div\" style=\"height:525px; width:100%;\"></div>            <script type=\"text/javascript\">                                    window.PLOTLYENV=window.PLOTLYENV || {};                                    if (document.getElementById(\"543f4367-c4fe-4aff-bdcc-784f99c5302b\")) {                    Plotly.newPlot(                        \"543f4367-c4fe-4aff-bdcc-784f99c5302b\",                        [{\"coloraxis\":\"coloraxis\",\"name\":\"0\",\"x\":[\"<|endoftext|> 0\",\"When 1\",\" John 2\",\" and 3\",\" Mary 4\",\" went 5\",\" to 6\",\" the 7\",\" shops 8\",\", 9\",\" John 10\",\" gave 11\",\" the 12\",\" bag 13\",\" to 14\"],\"z\":[[0.0,0.0,0.0,0.0,0.0,0.0,0.0,0.0,0.0,0.0,1.0,0.0,0.0,0.0,0.0],[0.0,0.0,0.0,0.0,0.0,0.0,0.0,0.0,0.0,0.0,1.0016489028930664,2.3893155230325647e-05,0.000464501790702343,-0.001739065395668149,-0.000398533622501418],[0.0,0.0,0.0,0.0,0.0,0.0,0.0,0.0,0.0,0.0,1.002601146697998,-0.0017225602641701698,0.0005063671851530671,-0.0013597615761682391,-0.00017794112500268966],[0.0,0.0,0.0,0.0,0.0,0.0,0.0,0.0,0.0,0.0,1.0049543380737305,-0.0021638500038534403,0.00029593976796604693,-0.0013627482112497091,-0.0016595786437392235],[0.0,0.0,0.0,0.0,0.0,0.0,0.0,0.0,0.0,0.0,1.0037050247192383,-0.0002607288188301027,-3.950754035031423e-05,-0.0009845446329563856,-0.002322456566616893],[0.0,0.0,0.0,0.0,0.0,0.0,0.0,0.0,0.0,0.0,1.0028140544891357,0.0016803804319351912,-9.641097676649224e-06,-0.001447788905352354,-0.0029878495261073112],[0.0,0.0,0.0,0.0,0.0,0.0,0.0,0.0,0.0,0.0,0.9991515874862671,0.0033086780458688736,-0.0002477342786733061,-0.0007712877704761922,-0.0035703498870134354],[0.0,0.0,0.0,0.0,0.0,0.0,0.0,0.0,0.0,0.0,0.9936994314193726,0.0061422172002494335,-0.00036615211865864694,-0.00021053222008049488,-0.0022779712453484535],[0.0,0.0,0.0,0.0,0.0,0.0,0.0,0.0,0.0,0.0,0.9908751249313354,0.007704546675086021,1.875822272268124e-05,-0.0007991107413545251,-0.0005787802510894835],[0.0,0.0,0.0,0.0,0.0,0.0,0.0,0.0,0.0,0.0,0.9833521246910095,0.00972461886703968,0.0004154055495746434,-0.0008988227345980704,0.004150387831032276],[0.0,0.0,0.0,0.0,0.0,0.0,0.0,0.0,0.0,0.0,0.9759697914123535,0.004640302155166864,0.0004476298636291176,-0.0017089892644435167,0.013703248463571072],[0.0,0.0,0.0,0.0,0.0,0.0,0.0,0.0,0.0,0.0,0.43079113960266113,0.10450860857963562,0.001729109906591475,-0.0021030690986663103,0.43992212414741516],[0.0,0.0,0.0,0.0,0.0,0.0,0.0,0.0,0.0,0.0,0.26869121193885803,0.11283170431852341,0.0010627213632687926,-0.0038397766184061766,0.6078335046768188],[0.0,0.0,0.0,0.0,0.0,0.0,0.0,0.0,0.0,0.0,0.05090567469596863,0.07586611062288284,-0.00038412437424995005,-0.00117003102786839,0.8700994253158569],[0.0,0.0,0.0,0.0,0.0,0.0,0.0,0.0,0.0,0.0,0.04803100600838661,0.07658284902572632,0.0005200952873565257,-0.0002408178406767547,0.87081378698349],[0.0,0.0,0.0,0.0,0.0,0.0,0.0,0.0,0.0,0.0,0.02362435683608055,0.0700463205575943,-0.00039811444003134966,-0.0005185757763683796,0.9052324891090393],[0.0,0.0,0.0,0.0,0.0,0.0,0.0,0.0,0.0,0.0,0.043110061436891556,0.06956900656223297,-4.9358226533513516e-05,-0.00033911512582562864,0.8872222900390625],[0.0,0.0,0.0,0.0,0.0,0.0,0.0,0.0,0.0,0.0,0.06073844060301781,0.06989976763725281,0.00016515619063284248,0.00023531613987870514,0.8685983419418335],[0.0,0.0,0.0,0.0,0.0,0.0,0.0,0.0,0.0,0.0,0.08232372999191284,0.06846290081739426,4.155103306402452e-05,0.00020665483316406608,0.8487629294395447],[0.0,0.0,0.0,0.0,0.0,0.0,0.0,0.0,0.0,0.0,0.08593133836984634,0.06837419420480728,5.9104120737174526e-05,-5.40739820280578e-05,0.8459338545799255],[0.0,0.0,0.0,0.0,0.0,0.0,0.0,0.0,0.0,0.0,0.07828778028488159,0.062149081379175186,0.00025234525674022734,-9.221919754054397e-06,0.8597721457481384],[0.0,0.0,0.0,0.0,0.0,0.0,0.0,0.0,0.0,0.0,0.0722130760550499,0.06162432208657265,0.00022247880406212062,0.0003294740163255483,0.8655912280082703],[0.0,0.0,0.0,0.0,0.0,0.0,0.0,0.0,0.0,0.0,0.024318043142557144,0.061322830617427826,0.00018485756299924105,0.00013811919779982418,0.9139833450317383],[0.0,0.0,0.0,0.0,0.0,0.0,0.0,0.0,0.0,0.0,0.00018962571630254388,0.0015993742272257805,0.00015740140224806964,0.0006516648572869599,0.9973486661911011]],\"type\":\"heatmap\",\"xaxis\":\"x\",\"yaxis\":\"y\",\"hovertemplate\":\"x: %{x}<br>y: %{y}<br>color: %{z}<extra></extra>\"}],                        {\"template\":{\"data\":{\"histogram2dcontour\":[{\"type\":\"histogram2dcontour\",\"colorbar\":{\"outlinewidth\":0,\"ticks\":\"\"},\"colorscale\":[[0.0,\"#0d0887\"],[0.1111111111111111,\"#46039f\"],[0.2222222222222222,\"#7201a8\"],[0.3333333333333333,\"#9c179e\"],[0.4444444444444444,\"#bd3786\"],[0.5555555555555556,\"#d8576b\"],[0.6666666666666666,\"#ed7953\"],[0.7777777777777778,\"#fb9f3a\"],[0.8888888888888888,\"#fdca26\"],[1.0,\"#f0f921\"]]}],\"choropleth\":[{\"type\":\"choropleth\",\"colorbar\":{\"outlinewidth\":0,\"ticks\":\"\"}}],\"histogram2d\":[{\"type\":\"histogram2d\",\"colorbar\":{\"outlinewidth\":0,\"ticks\":\"\"},\"colorscale\":[[0.0,\"#0d0887\"],[0.1111111111111111,\"#46039f\"],[0.2222222222222222,\"#7201a8\"],[0.3333333333333333,\"#9c179e\"],[0.4444444444444444,\"#bd3786\"],[0.5555555555555556,\"#d8576b\"],[0.6666666666666666,\"#ed7953\"],[0.7777777777777778,\"#fb9f3a\"],[0.8888888888888888,\"#fdca26\"],[1.0,\"#f0f921\"]]}],\"heatmap\":[{\"type\":\"heatmap\",\"colorbar\":{\"outlinewidth\":0,\"ticks\":\"\"},\"colorscale\":[[0.0,\"#0d0887\"],[0.1111111111111111,\"#46039f\"],[0.2222222222222222,\"#7201a8\"],[0.3333333333333333,\"#9c179e\"],[0.4444444444444444,\"#bd3786\"],[0.5555555555555556,\"#d8576b\"],[0.6666666666666666,\"#ed7953\"],[0.7777777777777778,\"#fb9f3a\"],[0.8888888888888888,\"#fdca26\"],[1.0,\"#f0f921\"]]}],\"heatmapgl\":[{\"type\":\"heatmapgl\",\"colorbar\":{\"outlinewidth\":0,\"ticks\":\"\"},\"colorscale\":[[0.0,\"#0d0887\"],[0.1111111111111111,\"#46039f\"],[0.2222222222222222,\"#7201a8\"],[0.3333333333333333,\"#9c179e\"],[0.4444444444444444,\"#bd3786\"],[0.5555555555555556,\"#d8576b\"],[0.6666666666666666,\"#ed7953\"],[0.7777777777777778,\"#fb9f3a\"],[0.8888888888888888,\"#fdca26\"],[1.0,\"#f0f921\"]]}],\"contourcarpet\":[{\"type\":\"contourcarpet\",\"colorbar\":{\"outlinewidth\":0,\"ticks\":\"\"}}],\"contour\":[{\"type\":\"contour\",\"colorbar\":{\"outlinewidth\":0,\"ticks\":\"\"},\"colorscale\":[[0.0,\"#0d0887\"],[0.1111111111111111,\"#46039f\"],[0.2222222222222222,\"#7201a8\"],[0.3333333333333333,\"#9c179e\"],[0.4444444444444444,\"#bd3786\"],[0.5555555555555556,\"#d8576b\"],[0.6666666666666666,\"#ed7953\"],[0.7777777777777778,\"#fb9f3a\"],[0.8888888888888888,\"#fdca26\"],[1.0,\"#f0f921\"]]}],\"surface\":[{\"type\":\"surface\",\"colorbar\":{\"outlinewidth\":0,\"ticks\":\"\"},\"colorscale\":[[0.0,\"#0d0887\"],[0.1111111111111111,\"#46039f\"],[0.2222222222222222,\"#7201a8\"],[0.3333333333333333,\"#9c179e\"],[0.4444444444444444,\"#bd3786\"],[0.5555555555555556,\"#d8576b\"],[0.6666666666666666,\"#ed7953\"],[0.7777777777777778,\"#fb9f3a\"],[0.8888888888888888,\"#fdca26\"],[1.0,\"#f0f921\"]]}],\"mesh3d\":[{\"type\":\"mesh3d\",\"colorbar\":{\"outlinewidth\":0,\"ticks\":\"\"}}],\"scatter\":[{\"fillpattern\":{\"fillmode\":\"overlay\",\"size\":10,\"solidity\":0.2},\"type\":\"scatter\"}],\"parcoords\":[{\"type\":\"parcoords\",\"line\":{\"colorbar\":{\"outlinewidth\":0,\"ticks\":\"\"}}}],\"scatterpolargl\":[{\"type\":\"scatterpolargl\",\"marker\":{\"colorbar\":{\"outlinewidth\":0,\"ticks\":\"\"}}}],\"bar\":[{\"error_x\":{\"color\":\"#2a3f5f\"},\"error_y\":{\"color\":\"#2a3f5f\"},\"marker\":{\"line\":{\"color\":\"#E5ECF6\",\"width\":0.5},\"pattern\":{\"fillmode\":\"overlay\",\"size\":10,\"solidity\":0.2}},\"type\":\"bar\"}],\"scattergeo\":[{\"type\":\"scattergeo\",\"marker\":{\"colorbar\":{\"outlinewidth\":0,\"ticks\":\"\"}}}],\"scatterpolar\":[{\"type\":\"scatterpolar\",\"marker\":{\"colorbar\":{\"outlinewidth\":0,\"ticks\":\"\"}}}],\"histogram\":[{\"marker\":{\"pattern\":{\"fillmode\":\"overlay\",\"size\":10,\"solidity\":0.2}},\"type\":\"histogram\"}],\"scattergl\":[{\"type\":\"scattergl\",\"marker\":{\"colorbar\":{\"outlinewidth\":0,\"ticks\":\"\"}}}],\"scatter3d\":[{\"type\":\"scatter3d\",\"line\":{\"colorbar\":{\"outlinewidth\":0,\"ticks\":\"\"}},\"marker\":{\"colorbar\":{\"outlinewidth\":0,\"ticks\":\"\"}}}],\"scattermapbox\":[{\"type\":\"scattermapbox\",\"marker\":{\"colorbar\":{\"outlinewidth\":0,\"ticks\":\"\"}}}],\"scatterternary\":[{\"type\":\"scatterternary\",\"marker\":{\"colorbar\":{\"outlinewidth\":0,\"ticks\":\"\"}}}],\"scattercarpet\":[{\"type\":\"scattercarpet\",\"marker\":{\"colorbar\":{\"outlinewidth\":0,\"ticks\":\"\"}}}],\"carpet\":[{\"aaxis\":{\"endlinecolor\":\"#2a3f5f\",\"gridcolor\":\"white\",\"linecolor\":\"white\",\"minorgridcolor\":\"white\",\"startlinecolor\":\"#2a3f5f\"},\"baxis\":{\"endlinecolor\":\"#2a3f5f\",\"gridcolor\":\"white\",\"linecolor\":\"white\",\"minorgridcolor\":\"white\",\"startlinecolor\":\"#2a3f5f\"},\"type\":\"carpet\"}],\"table\":[{\"cells\":{\"fill\":{\"color\":\"#EBF0F8\"},\"line\":{\"color\":\"white\"}},\"header\":{\"fill\":{\"color\":\"#C8D4E3\"},\"line\":{\"color\":\"white\"}},\"type\":\"table\"}],\"barpolar\":[{\"marker\":{\"line\":{\"color\":\"#E5ECF6\",\"width\":0.5},\"pattern\":{\"fillmode\":\"overlay\",\"size\":10,\"solidity\":0.2}},\"type\":\"barpolar\"}],\"pie\":[{\"automargin\":true,\"type\":\"pie\"}]},\"layout\":{\"autotypenumbers\":\"strict\",\"colorway\":[\"#636efa\",\"#EF553B\",\"#00cc96\",\"#ab63fa\",\"#FFA15A\",\"#19d3f3\",\"#FF6692\",\"#B6E880\",\"#FF97FF\",\"#FECB52\"],\"font\":{\"color\":\"#2a3f5f\"},\"hovermode\":\"closest\",\"hoverlabel\":{\"align\":\"left\"},\"paper_bgcolor\":\"white\",\"plot_bgcolor\":\"#E5ECF6\",\"polar\":{\"bgcolor\":\"#E5ECF6\",\"angularaxis\":{\"gridcolor\":\"white\",\"linecolor\":\"white\",\"ticks\":\"\"},\"radialaxis\":{\"gridcolor\":\"white\",\"linecolor\":\"white\",\"ticks\":\"\"}},\"ternary\":{\"bgcolor\":\"#E5ECF6\",\"aaxis\":{\"gridcolor\":\"white\",\"linecolor\":\"white\",\"ticks\":\"\"},\"baxis\":{\"gridcolor\":\"white\",\"linecolor\":\"white\",\"ticks\":\"\"},\"caxis\":{\"gridcolor\":\"white\",\"linecolor\":\"white\",\"ticks\":\"\"}},\"coloraxis\":{\"colorbar\":{\"outlinewidth\":0,\"ticks\":\"\"}},\"colorscale\":{\"sequential\":[[0.0,\"#0d0887\"],[0.1111111111111111,\"#46039f\"],[0.2222222222222222,\"#7201a8\"],[0.3333333333333333,\"#9c179e\"],[0.4444444444444444,\"#bd3786\"],[0.5555555555555556,\"#d8576b\"],[0.6666666666666666,\"#ed7953\"],[0.7777777777777778,\"#fb9f3a\"],[0.8888888888888888,\"#fdca26\"],[1.0,\"#f0f921\"]],\"sequentialminus\":[[0.0,\"#0d0887\"],[0.1111111111111111,\"#46039f\"],[0.2222222222222222,\"#7201a8\"],[0.3333333333333333,\"#9c179e\"],[0.4444444444444444,\"#bd3786\"],[0.5555555555555556,\"#d8576b\"],[0.6666666666666666,\"#ed7953\"],[0.7777777777777778,\"#fb9f3a\"],[0.8888888888888888,\"#fdca26\"],[1.0,\"#f0f921\"]],\"diverging\":[[0,\"#8e0152\"],[0.1,\"#c51b7d\"],[0.2,\"#de77ae\"],[0.3,\"#f1b6da\"],[0.4,\"#fde0ef\"],[0.5,\"#f7f7f7\"],[0.6,\"#e6f5d0\"],[0.7,\"#b8e186\"],[0.8,\"#7fbc41\"],[0.9,\"#4d9221\"],[1,\"#276419\"]]},\"xaxis\":{\"gridcolor\":\"white\",\"linecolor\":\"white\",\"ticks\":\"\",\"title\":{\"standoff\":15},\"zerolinecolor\":\"white\",\"automargin\":true,\"zerolinewidth\":2},\"yaxis\":{\"gridcolor\":\"white\",\"linecolor\":\"white\",\"ticks\":\"\",\"title\":{\"standoff\":15},\"zerolinecolor\":\"white\",\"automargin\":true,\"zerolinewidth\":2},\"scene\":{\"xaxis\":{\"backgroundcolor\":\"#E5ECF6\",\"gridcolor\":\"white\",\"linecolor\":\"white\",\"showbackground\":true,\"ticks\":\"\",\"zerolinecolor\":\"white\",\"gridwidth\":2},\"yaxis\":{\"backgroundcolor\":\"#E5ECF6\",\"gridcolor\":\"white\",\"linecolor\":\"white\",\"showbackground\":true,\"ticks\":\"\",\"zerolinecolor\":\"white\",\"gridwidth\":2},\"zaxis\":{\"backgroundcolor\":\"#E5ECF6\",\"gridcolor\":\"white\",\"linecolor\":\"white\",\"showbackground\":true,\"ticks\":\"\",\"zerolinecolor\":\"white\",\"gridwidth\":2}},\"shapedefaults\":{\"line\":{\"color\":\"#2a3f5f\"}},\"annotationdefaults\":{\"arrowcolor\":\"#2a3f5f\",\"arrowhead\":0,\"arrowwidth\":1},\"geo\":{\"bgcolor\":\"white\",\"landcolor\":\"#E5ECF6\",\"subunitcolor\":\"white\",\"showland\":true,\"showlakes\":true,\"lakecolor\":\"white\"},\"title\":{\"x\":0.05},\"mapbox\":{\"style\":\"light\"}}},\"xaxis\":{\"anchor\":\"y\",\"domain\":[0.0,1.0],\"title\":{\"text\":\"Position\"}},\"yaxis\":{\"anchor\":\"x\",\"domain\":[0.0,1.0],\"autorange\":\"reversed\",\"title\":{\"text\":\"Layer\"}},\"coloraxis\":{\"colorscale\":[[0.0,\"rgb(103,0,31)\"],[0.1,\"rgb(178,24,43)\"],[0.2,\"rgb(214,96,77)\"],[0.3,\"rgb(244,165,130)\"],[0.4,\"rgb(253,219,199)\"],[0.5,\"rgb(247,247,247)\"],[0.6,\"rgb(209,229,240)\"],[0.7,\"rgb(146,197,222)\"],[0.8,\"rgb(67,147,195)\"],[0.9,\"rgb(33,102,172)\"],[1.0,\"rgb(5,48,97)\"]],\"cmid\":0.0},\"title\":{\"text\":\"IOI Metric for 'resid_pre' Activation Patching\"}},                        {\"responsive\": true}                    ).then(function(){\n",
              "                            \n",
              "var gd = document.getElementById('543f4367-c4fe-4aff-bdcc-784f99c5302b');\n",
              "var x = new MutationObserver(function (mutations, observer) {{\n",
              "        var display = window.getComputedStyle(gd).display;\n",
              "        if (!display || display === 'none') {{\n",
              "            console.log([gd, 'removed!']);\n",
              "            Plotly.purge(gd);\n",
              "            observer.disconnect();\n",
              "        }}\n",
              "}});\n",
              "\n",
              "// Listen for the removal of the full notebook cells\n",
              "var notebookContainer = gd.closest('#notebook-container');\n",
              "if (notebookContainer) {{\n",
              "    x.observe(notebookContainer, {childList: true});\n",
              "}}\n",
              "\n",
              "// Listen for the clearing of the current output cell\n",
              "var outputEl = gd.closest('.output');\n",
              "if (outputEl) {{\n",
              "    x.observe(outputEl, {childList: true});\n",
              "}}\n",
              "\n",
              "                        })                };                            </script>        </div>\n",
              "</body>\n",
              "</html>"
            ]
          },
          "metadata": {},
          "output_type": "display_data"
        }
      ],
      "source": [
        "imshow(resid_pre_act_patch_results, \n",
        "       yaxis=\"Layer\", \n",
        "       xaxis=\"Position\", \n",
        "       x=[f\"{tok} {i}\" for i, tok in enumerate(model.to_str_tokens(clean_tokens[0]))],\n",
        "       title=\"IOI Metric for 'resid_pre' Activation Patching\")"
      ]
    },
    {
      "cell_type": "markdown",
      "metadata": {
        "id": "Qghcp74yJYWa"
      },
      "source": [
        "### MLP Layers"
      ]
    },
    {
      "cell_type": "markdown",
      "metadata": {
        "id": "40onqiv8bSFG"
      },
      "source": [
        "MLP layers do not matter much. Layer 0 is, per Neel Nanda's suggestion, probably an extension of the embedding."
      ]
    },
    {
      "cell_type": "code",
      "execution_count": 33,
      "metadata": {
        "colab": {
          "base_uri": "https://localhost:8080/",
          "height": 574,
          "referenced_widgets": [
            "3a0c7adb6e904763bc88c1462beebaf9",
            "b09cf7e6795744b49ef728b042c7053b",
            "aecf67d6a65f4b568181687bf6f5e90e",
            "dae3844e4998458298afb261a23c6918",
            "12b5b9254b824bb98e7884bb1551cf45",
            "b01dada9b960438889cb3852fd110a16",
            "458fd3d1456b408c8bab727519c6b886",
            "b48164b99a284532aa4d01de999e1253",
            "d805a7ad25b444e9ad623b367f86617c",
            "d021e5ac9ba04aff94cc051b197ca9ca",
            "02100bf0396a48b8a89ea3de4928a4c4"
          ]
        },
        "id": "csi9QlLwIGR8",
        "outputId": "fe66e387-1dac-46a6-a3fa-a614d89910b9"
      },
      "outputs": [
        {
          "data": {
            "application/vnd.jupyter.widget-view+json": {
              "model_id": "3a0c7adb6e904763bc88c1462beebaf9",
              "version_major": 2,
              "version_minor": 0
            },
            "text/plain": [
              "  0%|          | 0/360 [00:00<?, ?it/s]"
            ]
          },
          "metadata": {},
          "output_type": "display_data"
        },
        {
          "data": {
            "text/html": [
              "<html>\n",
              "<head><meta charset=\"utf-8\" /></head>\n",
              "<body>\n",
              "    <div>            <script src=\"https://cdnjs.cloudflare.com/ajax/libs/mathjax/2.7.5/MathJax.js?config=TeX-AMS-MML_SVG\"></script><script type=\"text/javascript\">if (window.MathJax && window.MathJax.Hub && window.MathJax.Hub.Config) {window.MathJax.Hub.Config({SVG: {font: \"STIX-Web\"}});}</script>                <script type=\"text/javascript\">window.PlotlyConfig = {MathJaxConfig: 'local'};</script>\n",
              "        <script src=\"https://cdn.plot.ly/plotly-2.18.2.min.js\"></script>                <div id=\"1c513767-404e-47ad-8321-1ef0d5ce6979\" class=\"plotly-graph-div\" style=\"height:525px; width:100%;\"></div>            <script type=\"text/javascript\">                                    window.PLOTLYENV=window.PLOTLYENV || {};                                    if (document.getElementById(\"1c513767-404e-47ad-8321-1ef0d5ce6979\")) {                    Plotly.newPlot(                        \"1c513767-404e-47ad-8321-1ef0d5ce6979\",                        [{\"coloraxis\":\"coloraxis\",\"name\":\"0\",\"x\":[\"<|endoftext|> 0\",\"When 1\",\" John 2\",\" and 3\",\" Mary 4\",\" went 5\",\" to 6\",\" the 7\",\" shops 8\",\", 9\",\" John 10\",\" gave 11\",\" the 12\",\" bag 13\",\" to 14\"],\"z\":[[0.0,0.0,0.0,0.0,0.0,0.0,0.0,0.0,0.0,0.0,1.0050641298294067,0.0,0.0,0.0,0.0],[0.0,0.0,0.0,0.0,0.0,0.0,0.0,0.0,0.0,0.0,0.0064705912955105305,-0.00023390140268020332,-0.00021545756317209452,0.00016552297165617347,-0.00043091512634418905],[0.0,0.0,0.0,0.0,0.0,0.0,0.0,0.0,0.0,0.0,-0.0009497004793956876,0.0002257798332720995,8.105857705231756e-05,-0.00010930070129688829,-0.00016693769430276006],[0.0,0.0,0.0,0.0,0.0,0.0,0.0,0.0,0.0,0.0,-0.001965736038982868,0.00033324662945233285,9.77733070612885e-05,-0.00015719181101303548,-0.0008568525081500411],[0.0,0.0,0.0,0.0,0.0,0.0,0.0,0.0,0.0,0.0,-0.006640044040977955,-0.00033848636667244136,0.00061336241196841,-0.0004969356814399362,0.00048289322876371443],[0.0,0.0,0.0,0.0,0.0,0.0,0.0,0.0,0.0,0.0,0.0035246070474386215,0.0018382009584456682,-0.00016468462126795202,-0.0005037473165430129,-0.0009060535812750459],[0.0,0.0,0.0,0.0,0.0,0.0,0.0,0.0,0.0,0.0,0.0011451947502791882,0.0041579329408705235,5.7322613429278135e-05,-1.5509591321460903e-05,0.003046848811209202],[0.0,0.0,0.0,0.0,0.0,0.0,0.0,0.0,0.0,0.0,0.010968267917633057,-6.591576675418764e-05,-0.00040503087802790105,-3.0390416213776916e-05,-0.00047534803161397576],[0.0,0.0,0.0,0.0,0.0,0.0,0.0,0.0,0.0,0.0,0.040631987154483795,-0.0006705802516080439,-0.00011412124877097085,0.000544617185369134,0.00038501512608490884],[0.0,0.0,0.0,0.0,0.0,0.0,0.0,0.0,0.0,0.0,0.03314122185111046,0.0007466610986739397,-0.0006359980325214565,0.0010429676622152328,0.00022363154857885092],[0.0,0.0,0.0,0.0,0.0,0.0,0.0,0.0,0.0,0.0,0.01123758964240551,3.90883615182247e-05,5.7951379858423024e-05,-0.00016358427819795907,-0.009137140586972237],[0.0,0.0,0.0,0.0,0.0,0.0,0.0,0.0,0.0,0.0,0.009638844057917595,0.0039451997727155685,4.810069367522374e-05,0.0022535016760230064,-0.03513975813984871],[0.0,0.0,0.0,0.0,0.0,0.0,0.0,0.0,0.0,0.0,0.004679023753851652,0.00025905208894982934,0.0002608860086183995,0.00031029662932269275,-0.01094075944274664],[0.0,0.0,0.0,0.0,0.0,0.0,0.0,0.0,0.0,0.0,-0.0016774461837485433,-0.00035017094342038035,-1.4252056644181721e-05,0.00015305241686291993,0.0034589008428156376],[0.0,0.0,0.0,0.0,0.0,0.0,0.0,0.0,0.0,0.0,0.0012659180210903287,0.0009431508369743824,6.067603681003675e-05,-3.426781404414214e-05,0.025484563782811165],[0.0,0.0,0.0,0.0,0.0,0.0,0.0,0.0,0.0,0.0,0.0010726768523454666,0.0019772632513195276,6.277192733250558e-05,0.0004722041776403785,0.012165283784270287],[0.0,0.0,0.0,0.0,0.0,0.0,0.0,0.0,0.0,0.0,0.0020270408131182194,0.00041844460065476596,1.2260960829735268e-05,0.0001249150955118239,-0.006734882947057486],[0.0,0.0,0.0,0.0,0.0,0.0,0.0,0.0,0.0,0.0,0.0007312038796953857,0.0010247858008369803,2.892329212045297e-05,-0.00024542881874367595,-0.029071472585201263],[0.0,0.0,0.0,0.0,0.0,0.0,0.0,0.0,0.0,0.0,-0.0016979859210550785,9.43150826060446e-06,-5.072055500932038e-05,-0.00014115824887994677,-0.03516485542058945],[0.0,0.0,0.0,0.0,0.0,0.0,0.0,0.0,0.0,0.0,-0.003275405615568161,-0.0019459297182038426,-6.203836528584361e-05,-7.576645293738693e-05,-0.03047545626759529],[0.0,0.0,0.0,0.0,0.0,0.0,0.0,0.0,0.0,0.0,-0.004454396665096283,-0.0031804093159735203,-8.488357707392424e-06,-0.00013770001532975584,-0.04395376145839691],[0.0,0.0,0.0,0.0,0.0,0.0,0.0,0.0,0.0,0.0,-0.0003849627391900867,0.0008868761942721903,3.6678088690678123e-06,2.4888702682801522e-05,-0.005923144519329071],[0.0,0.0,0.0,0.0,0.0,0.0,0.0,0.0,0.0,0.0,7.697158434893936e-05,0.00024343770928680897,3.5210963687859476e-05,9.850686183199286e-05,0.002440559910610318],[0.0,0.0,0.0,0.0,0.0,0.0,0.0,0.0,0.0,0.0,0.0,0.0,0.0,0.0,-0.031624894589185715]],\"type\":\"heatmap\",\"xaxis\":\"x\",\"yaxis\":\"y\",\"hovertemplate\":\"x: %{x}<br>y: %{y}<br>color: %{z}<extra></extra>\"}],                        {\"template\":{\"data\":{\"histogram2dcontour\":[{\"type\":\"histogram2dcontour\",\"colorbar\":{\"outlinewidth\":0,\"ticks\":\"\"},\"colorscale\":[[0.0,\"#0d0887\"],[0.1111111111111111,\"#46039f\"],[0.2222222222222222,\"#7201a8\"],[0.3333333333333333,\"#9c179e\"],[0.4444444444444444,\"#bd3786\"],[0.5555555555555556,\"#d8576b\"],[0.6666666666666666,\"#ed7953\"],[0.7777777777777778,\"#fb9f3a\"],[0.8888888888888888,\"#fdca26\"],[1.0,\"#f0f921\"]]}],\"choropleth\":[{\"type\":\"choropleth\",\"colorbar\":{\"outlinewidth\":0,\"ticks\":\"\"}}],\"histogram2d\":[{\"type\":\"histogram2d\",\"colorbar\":{\"outlinewidth\":0,\"ticks\":\"\"},\"colorscale\":[[0.0,\"#0d0887\"],[0.1111111111111111,\"#46039f\"],[0.2222222222222222,\"#7201a8\"],[0.3333333333333333,\"#9c179e\"],[0.4444444444444444,\"#bd3786\"],[0.5555555555555556,\"#d8576b\"],[0.6666666666666666,\"#ed7953\"],[0.7777777777777778,\"#fb9f3a\"],[0.8888888888888888,\"#fdca26\"],[1.0,\"#f0f921\"]]}],\"heatmap\":[{\"type\":\"heatmap\",\"colorbar\":{\"outlinewidth\":0,\"ticks\":\"\"},\"colorscale\":[[0.0,\"#0d0887\"],[0.1111111111111111,\"#46039f\"],[0.2222222222222222,\"#7201a8\"],[0.3333333333333333,\"#9c179e\"],[0.4444444444444444,\"#bd3786\"],[0.5555555555555556,\"#d8576b\"],[0.6666666666666666,\"#ed7953\"],[0.7777777777777778,\"#fb9f3a\"],[0.8888888888888888,\"#fdca26\"],[1.0,\"#f0f921\"]]}],\"heatmapgl\":[{\"type\":\"heatmapgl\",\"colorbar\":{\"outlinewidth\":0,\"ticks\":\"\"},\"colorscale\":[[0.0,\"#0d0887\"],[0.1111111111111111,\"#46039f\"],[0.2222222222222222,\"#7201a8\"],[0.3333333333333333,\"#9c179e\"],[0.4444444444444444,\"#bd3786\"],[0.5555555555555556,\"#d8576b\"],[0.6666666666666666,\"#ed7953\"],[0.7777777777777778,\"#fb9f3a\"],[0.8888888888888888,\"#fdca26\"],[1.0,\"#f0f921\"]]}],\"contourcarpet\":[{\"type\":\"contourcarpet\",\"colorbar\":{\"outlinewidth\":0,\"ticks\":\"\"}}],\"contour\":[{\"type\":\"contour\",\"colorbar\":{\"outlinewidth\":0,\"ticks\":\"\"},\"colorscale\":[[0.0,\"#0d0887\"],[0.1111111111111111,\"#46039f\"],[0.2222222222222222,\"#7201a8\"],[0.3333333333333333,\"#9c179e\"],[0.4444444444444444,\"#bd3786\"],[0.5555555555555556,\"#d8576b\"],[0.6666666666666666,\"#ed7953\"],[0.7777777777777778,\"#fb9f3a\"],[0.8888888888888888,\"#fdca26\"],[1.0,\"#f0f921\"]]}],\"surface\":[{\"type\":\"surface\",\"colorbar\":{\"outlinewidth\":0,\"ticks\":\"\"},\"colorscale\":[[0.0,\"#0d0887\"],[0.1111111111111111,\"#46039f\"],[0.2222222222222222,\"#7201a8\"],[0.3333333333333333,\"#9c179e\"],[0.4444444444444444,\"#bd3786\"],[0.5555555555555556,\"#d8576b\"],[0.6666666666666666,\"#ed7953\"],[0.7777777777777778,\"#fb9f3a\"],[0.8888888888888888,\"#fdca26\"],[1.0,\"#f0f921\"]]}],\"mesh3d\":[{\"type\":\"mesh3d\",\"colorbar\":{\"outlinewidth\":0,\"ticks\":\"\"}}],\"scatter\":[{\"fillpattern\":{\"fillmode\":\"overlay\",\"size\":10,\"solidity\":0.2},\"type\":\"scatter\"}],\"parcoords\":[{\"type\":\"parcoords\",\"line\":{\"colorbar\":{\"outlinewidth\":0,\"ticks\":\"\"}}}],\"scatterpolargl\":[{\"type\":\"scatterpolargl\",\"marker\":{\"colorbar\":{\"outlinewidth\":0,\"ticks\":\"\"}}}],\"bar\":[{\"error_x\":{\"color\":\"#2a3f5f\"},\"error_y\":{\"color\":\"#2a3f5f\"},\"marker\":{\"line\":{\"color\":\"#E5ECF6\",\"width\":0.5},\"pattern\":{\"fillmode\":\"overlay\",\"size\":10,\"solidity\":0.2}},\"type\":\"bar\"}],\"scattergeo\":[{\"type\":\"scattergeo\",\"marker\":{\"colorbar\":{\"outlinewidth\":0,\"ticks\":\"\"}}}],\"scatterpolar\":[{\"type\":\"scatterpolar\",\"marker\":{\"colorbar\":{\"outlinewidth\":0,\"ticks\":\"\"}}}],\"histogram\":[{\"marker\":{\"pattern\":{\"fillmode\":\"overlay\",\"size\":10,\"solidity\":0.2}},\"type\":\"histogram\"}],\"scattergl\":[{\"type\":\"scattergl\",\"marker\":{\"colorbar\":{\"outlinewidth\":0,\"ticks\":\"\"}}}],\"scatter3d\":[{\"type\":\"scatter3d\",\"line\":{\"colorbar\":{\"outlinewidth\":0,\"ticks\":\"\"}},\"marker\":{\"colorbar\":{\"outlinewidth\":0,\"ticks\":\"\"}}}],\"scattermapbox\":[{\"type\":\"scattermapbox\",\"marker\":{\"colorbar\":{\"outlinewidth\":0,\"ticks\":\"\"}}}],\"scatterternary\":[{\"type\":\"scatterternary\",\"marker\":{\"colorbar\":{\"outlinewidth\":0,\"ticks\":\"\"}}}],\"scattercarpet\":[{\"type\":\"scattercarpet\",\"marker\":{\"colorbar\":{\"outlinewidth\":0,\"ticks\":\"\"}}}],\"carpet\":[{\"aaxis\":{\"endlinecolor\":\"#2a3f5f\",\"gridcolor\":\"white\",\"linecolor\":\"white\",\"minorgridcolor\":\"white\",\"startlinecolor\":\"#2a3f5f\"},\"baxis\":{\"endlinecolor\":\"#2a3f5f\",\"gridcolor\":\"white\",\"linecolor\":\"white\",\"minorgridcolor\":\"white\",\"startlinecolor\":\"#2a3f5f\"},\"type\":\"carpet\"}],\"table\":[{\"cells\":{\"fill\":{\"color\":\"#EBF0F8\"},\"line\":{\"color\":\"white\"}},\"header\":{\"fill\":{\"color\":\"#C8D4E3\"},\"line\":{\"color\":\"white\"}},\"type\":\"table\"}],\"barpolar\":[{\"marker\":{\"line\":{\"color\":\"#E5ECF6\",\"width\":0.5},\"pattern\":{\"fillmode\":\"overlay\",\"size\":10,\"solidity\":0.2}},\"type\":\"barpolar\"}],\"pie\":[{\"automargin\":true,\"type\":\"pie\"}]},\"layout\":{\"autotypenumbers\":\"strict\",\"colorway\":[\"#636efa\",\"#EF553B\",\"#00cc96\",\"#ab63fa\",\"#FFA15A\",\"#19d3f3\",\"#FF6692\",\"#B6E880\",\"#FF97FF\",\"#FECB52\"],\"font\":{\"color\":\"#2a3f5f\"},\"hovermode\":\"closest\",\"hoverlabel\":{\"align\":\"left\"},\"paper_bgcolor\":\"white\",\"plot_bgcolor\":\"#E5ECF6\",\"polar\":{\"bgcolor\":\"#E5ECF6\",\"angularaxis\":{\"gridcolor\":\"white\",\"linecolor\":\"white\",\"ticks\":\"\"},\"radialaxis\":{\"gridcolor\":\"white\",\"linecolor\":\"white\",\"ticks\":\"\"}},\"ternary\":{\"bgcolor\":\"#E5ECF6\",\"aaxis\":{\"gridcolor\":\"white\",\"linecolor\":\"white\",\"ticks\":\"\"},\"baxis\":{\"gridcolor\":\"white\",\"linecolor\":\"white\",\"ticks\":\"\"},\"caxis\":{\"gridcolor\":\"white\",\"linecolor\":\"white\",\"ticks\":\"\"}},\"coloraxis\":{\"colorbar\":{\"outlinewidth\":0,\"ticks\":\"\"}},\"colorscale\":{\"sequential\":[[0.0,\"#0d0887\"],[0.1111111111111111,\"#46039f\"],[0.2222222222222222,\"#7201a8\"],[0.3333333333333333,\"#9c179e\"],[0.4444444444444444,\"#bd3786\"],[0.5555555555555556,\"#d8576b\"],[0.6666666666666666,\"#ed7953\"],[0.7777777777777778,\"#fb9f3a\"],[0.8888888888888888,\"#fdca26\"],[1.0,\"#f0f921\"]],\"sequentialminus\":[[0.0,\"#0d0887\"],[0.1111111111111111,\"#46039f\"],[0.2222222222222222,\"#7201a8\"],[0.3333333333333333,\"#9c179e\"],[0.4444444444444444,\"#bd3786\"],[0.5555555555555556,\"#d8576b\"],[0.6666666666666666,\"#ed7953\"],[0.7777777777777778,\"#fb9f3a\"],[0.8888888888888888,\"#fdca26\"],[1.0,\"#f0f921\"]],\"diverging\":[[0,\"#8e0152\"],[0.1,\"#c51b7d\"],[0.2,\"#de77ae\"],[0.3,\"#f1b6da\"],[0.4,\"#fde0ef\"],[0.5,\"#f7f7f7\"],[0.6,\"#e6f5d0\"],[0.7,\"#b8e186\"],[0.8,\"#7fbc41\"],[0.9,\"#4d9221\"],[1,\"#276419\"]]},\"xaxis\":{\"gridcolor\":\"white\",\"linecolor\":\"white\",\"ticks\":\"\",\"title\":{\"standoff\":15},\"zerolinecolor\":\"white\",\"automargin\":true,\"zerolinewidth\":2},\"yaxis\":{\"gridcolor\":\"white\",\"linecolor\":\"white\",\"ticks\":\"\",\"title\":{\"standoff\":15},\"zerolinecolor\":\"white\",\"automargin\":true,\"zerolinewidth\":2},\"scene\":{\"xaxis\":{\"backgroundcolor\":\"#E5ECF6\",\"gridcolor\":\"white\",\"linecolor\":\"white\",\"showbackground\":true,\"ticks\":\"\",\"zerolinecolor\":\"white\",\"gridwidth\":2},\"yaxis\":{\"backgroundcolor\":\"#E5ECF6\",\"gridcolor\":\"white\",\"linecolor\":\"white\",\"showbackground\":true,\"ticks\":\"\",\"zerolinecolor\":\"white\",\"gridwidth\":2},\"zaxis\":{\"backgroundcolor\":\"#E5ECF6\",\"gridcolor\":\"white\",\"linecolor\":\"white\",\"showbackground\":true,\"ticks\":\"\",\"zerolinecolor\":\"white\",\"gridwidth\":2}},\"shapedefaults\":{\"line\":{\"color\":\"#2a3f5f\"}},\"annotationdefaults\":{\"arrowcolor\":\"#2a3f5f\",\"arrowhead\":0,\"arrowwidth\":1},\"geo\":{\"bgcolor\":\"white\",\"landcolor\":\"#E5ECF6\",\"subunitcolor\":\"white\",\"showland\":true,\"showlakes\":true,\"lakecolor\":\"white\"},\"title\":{\"x\":0.05},\"mapbox\":{\"style\":\"light\"}}},\"xaxis\":{\"anchor\":\"y\",\"domain\":[0.0,1.0],\"title\":{\"text\":\"Position\"}},\"yaxis\":{\"anchor\":\"x\",\"domain\":[0.0,1.0],\"autorange\":\"reversed\",\"title\":{\"text\":\"Layer\"}},\"coloraxis\":{\"colorscale\":[[0.0,\"rgb(103,0,31)\"],[0.1,\"rgb(178,24,43)\"],[0.2,\"rgb(214,96,77)\"],[0.3,\"rgb(244,165,130)\"],[0.4,\"rgb(253,219,199)\"],[0.5,\"rgb(247,247,247)\"],[0.6,\"rgb(209,229,240)\"],[0.7,\"rgb(146,197,222)\"],[0.8,\"rgb(67,147,195)\"],[0.9,\"rgb(33,102,172)\"],[1.0,\"rgb(5,48,97)\"]],\"cmid\":0.0},\"title\":{\"text\":\"IOI Metric for 'mlp_out' Activation Patching\"}},                        {\"responsive\": true}                    ).then(function(){\n",
              "                            \n",
              "var gd = document.getElementById('1c513767-404e-47ad-8321-1ef0d5ce6979');\n",
              "var x = new MutationObserver(function (mutations, observer) {{\n",
              "        var display = window.getComputedStyle(gd).display;\n",
              "        if (!display || display === 'none') {{\n",
              "            console.log([gd, 'removed!']);\n",
              "            Plotly.purge(gd);\n",
              "            observer.disconnect();\n",
              "        }}\n",
              "}});\n",
              "\n",
              "// Listen for the removal of the full notebook cells\n",
              "var notebookContainer = gd.closest('#notebook-container');\n",
              "if (notebookContainer) {{\n",
              "    x.observe(notebookContainer, {childList: true});\n",
              "}}\n",
              "\n",
              "// Listen for the clearing of the current output cell\n",
              "var outputEl = gd.closest('.output');\n",
              "if (outputEl) {{\n",
              "    x.observe(outputEl, {childList: true});\n",
              "}}\n",
              "\n",
              "                        })                };                            </script>        </div>\n",
              "</body>\n",
              "</html>"
            ]
          },
          "metadata": {},
          "output_type": "display_data"
        }
      ],
      "source": [
        "resid_pre_act_patch_results = patching.get_act_patch_mlp_out(\n",
        "    model, \n",
        "    corrupted_tokens, \n",
        "    clean_cache, \n",
        "    ioi_metric)\n",
        "\n",
        "imshow(resid_pre_act_patch_results, \n",
        "       yaxis=\"Layer\", \n",
        "       xaxis=\"Position\", \n",
        "       x=[f\"{tok} {i}\" for i, tok in enumerate(model.to_str_tokens(clean_tokens[0]))],\n",
        "       title=\"IOI Metric for 'mlp_out' Activation Patching\")"
      ]
    },
    {
      "cell_type": "code",
      "execution_count": 34,
      "metadata": {
        "colab": {
          "base_uri": "https://localhost:8080/",
          "height": 542
        },
        "id": "BhGhkGWwdgUp",
        "outputId": "0b7c83ae-deb8-4f2f-c1d8-ea110568b85a"
      },
      "outputs": [
        {
          "data": {
            "text/html": [
              "<html>\n",
              "<head><meta charset=\"utf-8\" /></head>\n",
              "<body>\n",
              "    <div>            <script src=\"https://cdnjs.cloudflare.com/ajax/libs/mathjax/2.7.5/MathJax.js?config=TeX-AMS-MML_SVG\"></script><script type=\"text/javascript\">if (window.MathJax && window.MathJax.Hub && window.MathJax.Hub.Config) {window.MathJax.Hub.Config({SVG: {font: \"STIX-Web\"}});}</script>                <script type=\"text/javascript\">window.PlotlyConfig = {MathJaxConfig: 'local'};</script>\n",
              "        <script src=\"https://cdn.plot.ly/plotly-2.18.2.min.js\"></script>                <div id=\"f81f2e87-d575-481c-b939-bd0fd986502c\" class=\"plotly-graph-div\" style=\"height:525px; width:100%;\"></div>            <script type=\"text/javascript\">                                    window.PLOTLYENV=window.PLOTLYENV || {};                                    if (document.getElementById(\"f81f2e87-d575-481c-b939-bd0fd986502c\")) {                    Plotly.newPlot(                        \"f81f2e87-d575-481c-b939-bd0fd986502c\",                        [{\"coloraxis\":\"coloraxis\",\"name\":\"0\",\"x\":[\"<|endoftext|> 0\",\"When 1\",\" John 2\",\" and 3\",\" Mary 4\",\" went 5\",\" to 6\",\" the 7\",\" shops 8\",\", 9\",\" John 10\",\" gave 11\",\" the 12\",\" bag 13\",\" to 14\"],\"z\":[[0.0,0.0,0.0,0.0,0.0,0.0,0.0,0.0,0.0,0.0,1.0050641298294067,0.0,0.0,0.0,0.0],[0.0,0.0,0.0,0.0,0.0,0.0,0.0,0.0,0.0,0.0,0.0064705912955105305,-0.00023390140268020332,-0.00021545756317209452,0.00016552297165617347,-0.00043091512634418905],[0.0,0.0,0.0,0.0,0.0,0.0,0.0,0.0,0.0,0.0,-0.0009497004793956876,0.0002257798332720995,8.105857705231756e-05,-0.00010930070129688829,-0.00016693769430276006],[0.0,0.0,0.0,0.0,0.0,0.0,0.0,0.0,0.0,0.0,-0.001965736038982868,0.00033324662945233285,9.77733070612885e-05,-0.00015719181101303548,-0.0008568525081500411],[0.0,0.0,0.0,0.0,0.0,0.0,0.0,0.0,0.0,0.0,-0.006640044040977955,-0.00033848636667244136,0.00061336241196841,-0.0004969356814399362,0.00048289322876371443],[0.0,0.0,0.0,0.0,0.0,0.0,0.0,0.0,0.0,0.0,0.0035246070474386215,0.0018382009584456682,-0.00016468462126795202,-0.0005037473165430129,-0.0009060535812750459],[0.0,0.0,0.0,0.0,0.0,0.0,0.0,0.0,0.0,0.0,0.0011451947502791882,0.0041579329408705235,5.7322613429278135e-05,-1.5509591321460903e-05,0.003046848811209202],[0.0,0.0,0.0,0.0,0.0,0.0,0.0,0.0,0.0,0.0,0.010968267917633057,-6.591576675418764e-05,-0.00040503087802790105,-3.0390416213776916e-05,-0.00047534803161397576],[0.0,0.0,0.0,0.0,0.0,0.0,0.0,0.0,0.0,0.0,0.040631987154483795,-0.0006705802516080439,-0.00011412124877097085,0.000544617185369134,0.00038501512608490884],[0.0,0.0,0.0,0.0,0.0,0.0,0.0,0.0,0.0,0.0,0.03314122185111046,0.0007466610986739397,-0.0006359980325214565,0.0010429676622152328,0.00022363154857885092],[0.0,0.0,0.0,0.0,0.0,0.0,0.0,0.0,0.0,0.0,0.01123758964240551,3.90883615182247e-05,5.7951379858423024e-05,-0.00016358427819795907,-0.009137140586972237],[0.0,0.0,0.0,0.0,0.0,0.0,0.0,0.0,0.0,0.0,0.009638844057917595,0.0039451997727155685,4.810069367522374e-05,0.0022535016760230064,-0.03513975813984871],[0.0,0.0,0.0,0.0,0.0,0.0,0.0,0.0,0.0,0.0,0.004679023753851652,0.00025905208894982934,0.0002608860086183995,0.00031029662932269275,-0.01094075944274664],[0.0,0.0,0.0,0.0,0.0,0.0,0.0,0.0,0.0,0.0,-0.0016774461837485433,-0.00035017094342038035,-1.4252056644181721e-05,0.00015305241686291993,0.0034589008428156376],[0.0,0.0,0.0,0.0,0.0,0.0,0.0,0.0,0.0,0.0,0.0012659180210903287,0.0009431508369743824,6.067603681003675e-05,-3.426781404414214e-05,0.025484563782811165],[0.0,0.0,0.0,0.0,0.0,0.0,0.0,0.0,0.0,0.0,0.0010726768523454666,0.0019772632513195276,6.277192733250558e-05,0.0004722041776403785,0.012165283784270287],[0.0,0.0,0.0,0.0,0.0,0.0,0.0,0.0,0.0,0.0,0.0020270408131182194,0.00041844460065476596,1.2260960829735268e-05,0.0001249150955118239,-0.006734882947057486],[0.0,0.0,0.0,0.0,0.0,0.0,0.0,0.0,0.0,0.0,0.0007312038796953857,0.0010247858008369803,2.892329212045297e-05,-0.00024542881874367595,-0.029071472585201263],[0.0,0.0,0.0,0.0,0.0,0.0,0.0,0.0,0.0,0.0,-0.0016979859210550785,9.43150826060446e-06,-5.072055500932038e-05,-0.00014115824887994677,-0.03516485542058945],[0.0,0.0,0.0,0.0,0.0,0.0,0.0,0.0,0.0,0.0,-0.003275405615568161,-0.0019459297182038426,-6.203836528584361e-05,-7.576645293738693e-05,-0.03047545626759529],[0.0,0.0,0.0,0.0,0.0,0.0,0.0,0.0,0.0,0.0,-0.004454396665096283,-0.0031804093159735203,-8.488357707392424e-06,-0.00013770001532975584,-0.04395376145839691],[0.0,0.0,0.0,0.0,0.0,0.0,0.0,0.0,0.0,0.0,-0.0003849627391900867,0.0008868761942721903,3.6678088690678123e-06,2.4888702682801522e-05,-0.005923144519329071],[0.0,0.0,0.0,0.0,0.0,0.0,0.0,0.0,0.0,0.0,7.697158434893936e-05,0.00024343770928680897,3.5210963687859476e-05,9.850686183199286e-05,0.002440559910610318],[0.0,0.0,0.0,0.0,0.0,0.0,0.0,0.0,0.0,0.0,0.0,0.0,0.0,0.0,-0.031624894589185715]],\"type\":\"heatmap\",\"xaxis\":\"x\",\"yaxis\":\"y\",\"hovertemplate\":\"x: %{x}<br>y: %{y}<br>color: %{z}<extra></extra>\"}],                        {\"template\":{\"data\":{\"histogram2dcontour\":[{\"type\":\"histogram2dcontour\",\"colorbar\":{\"outlinewidth\":0,\"ticks\":\"\"},\"colorscale\":[[0.0,\"#0d0887\"],[0.1111111111111111,\"#46039f\"],[0.2222222222222222,\"#7201a8\"],[0.3333333333333333,\"#9c179e\"],[0.4444444444444444,\"#bd3786\"],[0.5555555555555556,\"#d8576b\"],[0.6666666666666666,\"#ed7953\"],[0.7777777777777778,\"#fb9f3a\"],[0.8888888888888888,\"#fdca26\"],[1.0,\"#f0f921\"]]}],\"choropleth\":[{\"type\":\"choropleth\",\"colorbar\":{\"outlinewidth\":0,\"ticks\":\"\"}}],\"histogram2d\":[{\"type\":\"histogram2d\",\"colorbar\":{\"outlinewidth\":0,\"ticks\":\"\"},\"colorscale\":[[0.0,\"#0d0887\"],[0.1111111111111111,\"#46039f\"],[0.2222222222222222,\"#7201a8\"],[0.3333333333333333,\"#9c179e\"],[0.4444444444444444,\"#bd3786\"],[0.5555555555555556,\"#d8576b\"],[0.6666666666666666,\"#ed7953\"],[0.7777777777777778,\"#fb9f3a\"],[0.8888888888888888,\"#fdca26\"],[1.0,\"#f0f921\"]]}],\"heatmap\":[{\"type\":\"heatmap\",\"colorbar\":{\"outlinewidth\":0,\"ticks\":\"\"},\"colorscale\":[[0.0,\"#0d0887\"],[0.1111111111111111,\"#46039f\"],[0.2222222222222222,\"#7201a8\"],[0.3333333333333333,\"#9c179e\"],[0.4444444444444444,\"#bd3786\"],[0.5555555555555556,\"#d8576b\"],[0.6666666666666666,\"#ed7953\"],[0.7777777777777778,\"#fb9f3a\"],[0.8888888888888888,\"#fdca26\"],[1.0,\"#f0f921\"]]}],\"heatmapgl\":[{\"type\":\"heatmapgl\",\"colorbar\":{\"outlinewidth\":0,\"ticks\":\"\"},\"colorscale\":[[0.0,\"#0d0887\"],[0.1111111111111111,\"#46039f\"],[0.2222222222222222,\"#7201a8\"],[0.3333333333333333,\"#9c179e\"],[0.4444444444444444,\"#bd3786\"],[0.5555555555555556,\"#d8576b\"],[0.6666666666666666,\"#ed7953\"],[0.7777777777777778,\"#fb9f3a\"],[0.8888888888888888,\"#fdca26\"],[1.0,\"#f0f921\"]]}],\"contourcarpet\":[{\"type\":\"contourcarpet\",\"colorbar\":{\"outlinewidth\":0,\"ticks\":\"\"}}],\"contour\":[{\"type\":\"contour\",\"colorbar\":{\"outlinewidth\":0,\"ticks\":\"\"},\"colorscale\":[[0.0,\"#0d0887\"],[0.1111111111111111,\"#46039f\"],[0.2222222222222222,\"#7201a8\"],[0.3333333333333333,\"#9c179e\"],[0.4444444444444444,\"#bd3786\"],[0.5555555555555556,\"#d8576b\"],[0.6666666666666666,\"#ed7953\"],[0.7777777777777778,\"#fb9f3a\"],[0.8888888888888888,\"#fdca26\"],[1.0,\"#f0f921\"]]}],\"surface\":[{\"type\":\"surface\",\"colorbar\":{\"outlinewidth\":0,\"ticks\":\"\"},\"colorscale\":[[0.0,\"#0d0887\"],[0.1111111111111111,\"#46039f\"],[0.2222222222222222,\"#7201a8\"],[0.3333333333333333,\"#9c179e\"],[0.4444444444444444,\"#bd3786\"],[0.5555555555555556,\"#d8576b\"],[0.6666666666666666,\"#ed7953\"],[0.7777777777777778,\"#fb9f3a\"],[0.8888888888888888,\"#fdca26\"],[1.0,\"#f0f921\"]]}],\"mesh3d\":[{\"type\":\"mesh3d\",\"colorbar\":{\"outlinewidth\":0,\"ticks\":\"\"}}],\"scatter\":[{\"fillpattern\":{\"fillmode\":\"overlay\",\"size\":10,\"solidity\":0.2},\"type\":\"scatter\"}],\"parcoords\":[{\"type\":\"parcoords\",\"line\":{\"colorbar\":{\"outlinewidth\":0,\"ticks\":\"\"}}}],\"scatterpolargl\":[{\"type\":\"scatterpolargl\",\"marker\":{\"colorbar\":{\"outlinewidth\":0,\"ticks\":\"\"}}}],\"bar\":[{\"error_x\":{\"color\":\"#2a3f5f\"},\"error_y\":{\"color\":\"#2a3f5f\"},\"marker\":{\"line\":{\"color\":\"#E5ECF6\",\"width\":0.5},\"pattern\":{\"fillmode\":\"overlay\",\"size\":10,\"solidity\":0.2}},\"type\":\"bar\"}],\"scattergeo\":[{\"type\":\"scattergeo\",\"marker\":{\"colorbar\":{\"outlinewidth\":0,\"ticks\":\"\"}}}],\"scatterpolar\":[{\"type\":\"scatterpolar\",\"marker\":{\"colorbar\":{\"outlinewidth\":0,\"ticks\":\"\"}}}],\"histogram\":[{\"marker\":{\"pattern\":{\"fillmode\":\"overlay\",\"size\":10,\"solidity\":0.2}},\"type\":\"histogram\"}],\"scattergl\":[{\"type\":\"scattergl\",\"marker\":{\"colorbar\":{\"outlinewidth\":0,\"ticks\":\"\"}}}],\"scatter3d\":[{\"type\":\"scatter3d\",\"line\":{\"colorbar\":{\"outlinewidth\":0,\"ticks\":\"\"}},\"marker\":{\"colorbar\":{\"outlinewidth\":0,\"ticks\":\"\"}}}],\"scattermapbox\":[{\"type\":\"scattermapbox\",\"marker\":{\"colorbar\":{\"outlinewidth\":0,\"ticks\":\"\"}}}],\"scatterternary\":[{\"type\":\"scatterternary\",\"marker\":{\"colorbar\":{\"outlinewidth\":0,\"ticks\":\"\"}}}],\"scattercarpet\":[{\"type\":\"scattercarpet\",\"marker\":{\"colorbar\":{\"outlinewidth\":0,\"ticks\":\"\"}}}],\"carpet\":[{\"aaxis\":{\"endlinecolor\":\"#2a3f5f\",\"gridcolor\":\"white\",\"linecolor\":\"white\",\"minorgridcolor\":\"white\",\"startlinecolor\":\"#2a3f5f\"},\"baxis\":{\"endlinecolor\":\"#2a3f5f\",\"gridcolor\":\"white\",\"linecolor\":\"white\",\"minorgridcolor\":\"white\",\"startlinecolor\":\"#2a3f5f\"},\"type\":\"carpet\"}],\"table\":[{\"cells\":{\"fill\":{\"color\":\"#EBF0F8\"},\"line\":{\"color\":\"white\"}},\"header\":{\"fill\":{\"color\":\"#C8D4E3\"},\"line\":{\"color\":\"white\"}},\"type\":\"table\"}],\"barpolar\":[{\"marker\":{\"line\":{\"color\":\"#E5ECF6\",\"width\":0.5},\"pattern\":{\"fillmode\":\"overlay\",\"size\":10,\"solidity\":0.2}},\"type\":\"barpolar\"}],\"pie\":[{\"automargin\":true,\"type\":\"pie\"}]},\"layout\":{\"autotypenumbers\":\"strict\",\"colorway\":[\"#636efa\",\"#EF553B\",\"#00cc96\",\"#ab63fa\",\"#FFA15A\",\"#19d3f3\",\"#FF6692\",\"#B6E880\",\"#FF97FF\",\"#FECB52\"],\"font\":{\"color\":\"#2a3f5f\"},\"hovermode\":\"closest\",\"hoverlabel\":{\"align\":\"left\"},\"paper_bgcolor\":\"white\",\"plot_bgcolor\":\"#E5ECF6\",\"polar\":{\"bgcolor\":\"#E5ECF6\",\"angularaxis\":{\"gridcolor\":\"white\",\"linecolor\":\"white\",\"ticks\":\"\"},\"radialaxis\":{\"gridcolor\":\"white\",\"linecolor\":\"white\",\"ticks\":\"\"}},\"ternary\":{\"bgcolor\":\"#E5ECF6\",\"aaxis\":{\"gridcolor\":\"white\",\"linecolor\":\"white\",\"ticks\":\"\"},\"baxis\":{\"gridcolor\":\"white\",\"linecolor\":\"white\",\"ticks\":\"\"},\"caxis\":{\"gridcolor\":\"white\",\"linecolor\":\"white\",\"ticks\":\"\"}},\"coloraxis\":{\"colorbar\":{\"outlinewidth\":0,\"ticks\":\"\"}},\"colorscale\":{\"sequential\":[[0.0,\"#0d0887\"],[0.1111111111111111,\"#46039f\"],[0.2222222222222222,\"#7201a8\"],[0.3333333333333333,\"#9c179e\"],[0.4444444444444444,\"#bd3786\"],[0.5555555555555556,\"#d8576b\"],[0.6666666666666666,\"#ed7953\"],[0.7777777777777778,\"#fb9f3a\"],[0.8888888888888888,\"#fdca26\"],[1.0,\"#f0f921\"]],\"sequentialminus\":[[0.0,\"#0d0887\"],[0.1111111111111111,\"#46039f\"],[0.2222222222222222,\"#7201a8\"],[0.3333333333333333,\"#9c179e\"],[0.4444444444444444,\"#bd3786\"],[0.5555555555555556,\"#d8576b\"],[0.6666666666666666,\"#ed7953\"],[0.7777777777777778,\"#fb9f3a\"],[0.8888888888888888,\"#fdca26\"],[1.0,\"#f0f921\"]],\"diverging\":[[0,\"#8e0152\"],[0.1,\"#c51b7d\"],[0.2,\"#de77ae\"],[0.3,\"#f1b6da\"],[0.4,\"#fde0ef\"],[0.5,\"#f7f7f7\"],[0.6,\"#e6f5d0\"],[0.7,\"#b8e186\"],[0.8,\"#7fbc41\"],[0.9,\"#4d9221\"],[1,\"#276419\"]]},\"xaxis\":{\"gridcolor\":\"white\",\"linecolor\":\"white\",\"ticks\":\"\",\"title\":{\"standoff\":15},\"zerolinecolor\":\"white\",\"automargin\":true,\"zerolinewidth\":2},\"yaxis\":{\"gridcolor\":\"white\",\"linecolor\":\"white\",\"ticks\":\"\",\"title\":{\"standoff\":15},\"zerolinecolor\":\"white\",\"automargin\":true,\"zerolinewidth\":2},\"scene\":{\"xaxis\":{\"backgroundcolor\":\"#E5ECF6\",\"gridcolor\":\"white\",\"linecolor\":\"white\",\"showbackground\":true,\"ticks\":\"\",\"zerolinecolor\":\"white\",\"gridwidth\":2},\"yaxis\":{\"backgroundcolor\":\"#E5ECF6\",\"gridcolor\":\"white\",\"linecolor\":\"white\",\"showbackground\":true,\"ticks\":\"\",\"zerolinecolor\":\"white\",\"gridwidth\":2},\"zaxis\":{\"backgroundcolor\":\"#E5ECF6\",\"gridcolor\":\"white\",\"linecolor\":\"white\",\"showbackground\":true,\"ticks\":\"\",\"zerolinecolor\":\"white\",\"gridwidth\":2}},\"shapedefaults\":{\"line\":{\"color\":\"#2a3f5f\"}},\"annotationdefaults\":{\"arrowcolor\":\"#2a3f5f\",\"arrowhead\":0,\"arrowwidth\":1},\"geo\":{\"bgcolor\":\"white\",\"landcolor\":\"#E5ECF6\",\"subunitcolor\":\"white\",\"showland\":true,\"showlakes\":true,\"lakecolor\":\"white\"},\"title\":{\"x\":0.05},\"mapbox\":{\"style\":\"light\"}}},\"xaxis\":{\"anchor\":\"y\",\"domain\":[0.0,1.0],\"title\":{\"text\":\"Position\"}},\"yaxis\":{\"anchor\":\"x\",\"domain\":[0.0,1.0],\"autorange\":\"reversed\",\"title\":{\"text\":\"Layer\"}},\"coloraxis\":{\"colorscale\":[[0.0,\"rgb(103,0,31)\"],[0.1,\"rgb(178,24,43)\"],[0.2,\"rgb(214,96,77)\"],[0.3,\"rgb(244,165,130)\"],[0.4,\"rgb(253,219,199)\"],[0.5,\"rgb(247,247,247)\"],[0.6,\"rgb(209,229,240)\"],[0.7,\"rgb(146,197,222)\"],[0.8,\"rgb(67,147,195)\"],[0.9,\"rgb(33,102,172)\"],[1.0,\"rgb(5,48,97)\"]],\"cmid\":0.0},\"title\":{\"text\":\"IOI Metric for 'mlp_out' Activation Patching\"}},                        {\"responsive\": true}                    ).then(function(){\n",
              "                            \n",
              "var gd = document.getElementById('f81f2e87-d575-481c-b939-bd0fd986502c');\n",
              "var x = new MutationObserver(function (mutations, observer) {{\n",
              "        var display = window.getComputedStyle(gd).display;\n",
              "        if (!display || display === 'none') {{\n",
              "            console.log([gd, 'removed!']);\n",
              "            Plotly.purge(gd);\n",
              "            observer.disconnect();\n",
              "        }}\n",
              "}});\n",
              "\n",
              "// Listen for the removal of the full notebook cells\n",
              "var notebookContainer = gd.closest('#notebook-container');\n",
              "if (notebookContainer) {{\n",
              "    x.observe(notebookContainer, {childList: true});\n",
              "}}\n",
              "\n",
              "// Listen for the clearing of the current output cell\n",
              "var outputEl = gd.closest('.output');\n",
              "if (outputEl) {{\n",
              "    x.observe(outputEl, {childList: true});\n",
              "}}\n",
              "\n",
              "                        })                };                            </script>        </div>\n",
              "</body>\n",
              "</html>"
            ]
          },
          "metadata": {},
          "output_type": "display_data"
        }
      ],
      "source": [
        "imshow(resid_pre_act_patch_results, \n",
        "       yaxis=\"Layer\", \n",
        "       xaxis=\"Position\", \n",
        "       x=[f\"{tok} {i}\" for i, tok in enumerate(model.to_str_tokens(clean_tokens[0]))],\n",
        "       title=\"IOI Metric for 'mlp_out' Activation Patching\")"
      ]
    },
    {
      "cell_type": "markdown",
      "metadata": {
        "id": "Flzv5FJbJbPX"
      },
      "source": [
        "### Attention Layers"
      ]
    },
    {
      "cell_type": "markdown",
      "metadata": {
        "id": "6sSoQS51bkiE"
      },
      "source": [
        "Oddly, attention only seems to matter on the final token, and only for layers 7, 8, and 9. In GPT-2, attention layers mattered on the S2 token, but here we do not see that that is the case.\n",
        "\n",
        "Swapping in the clean activations for Attention 7 and 8 makes a positive difference in recovering performance, but layer 9 makes a negative difference. With the exception of layer 7, this follows what we saw earlier with the name mover heads."
      ]
    },
    {
      "cell_type": "code",
      "execution_count": 35,
      "metadata": {
        "colab": {
          "base_uri": "https://localhost:8080/",
          "height": 49,
          "referenced_widgets": [
            "2fc23f252a7f41838e95cfb1d1908358",
            "277e1141969a4938935acff4f6eb3c4f",
            "b5cea32693f74fdfaa8a526ebaa891b9",
            "72e5b3cdd8ce411a9aa67a00a84e80fe",
            "1d96e3a4df8b41ddbe2bc039726bfc96",
            "9c67420b3aba43278ac5c6baa27755c3",
            "101fb873c0f247f0ad327e235bef7669",
            "45bcfc56604146ee8fa1020f6050571d",
            "a810e43e3d9a4ea0b7174655053690bf",
            "16d2886cd27341e5a1fa85c91ba50b26",
            "887055e0e6964fc3aefe0a85711cb57a"
          ]
        },
        "id": "aka6UXmMIiGf",
        "outputId": "9d3e1913-efa8-4a94-f6e5-a5b2b9c3a1bf"
      },
      "outputs": [
        {
          "data": {
            "application/vnd.jupyter.widget-view+json": {
              "model_id": "2fc23f252a7f41838e95cfb1d1908358",
              "version_major": 2,
              "version_minor": 0
            },
            "text/plain": [
              "  0%|          | 0/360 [00:00<?, ?it/s]"
            ]
          },
          "metadata": {},
          "output_type": "display_data"
        }
      ],
      "source": [
        "resid_pre_act_patch_results = patching.get_act_patch_attn_out(\n",
        "    model, \n",
        "    corrupted_tokens, \n",
        "    clean_cache, \n",
        "    ioi_metric)"
      ]
    },
    {
      "cell_type": "code",
      "execution_count": 36,
      "metadata": {
        "colab": {
          "base_uri": "https://localhost:8080/",
          "height": 542
        },
        "id": "SNL_-SwJdkrc",
        "outputId": "2be3d3e0-2774-4ce5-d733-20097cdcb508"
      },
      "outputs": [
        {
          "data": {
            "text/html": [
              "<html>\n",
              "<head><meta charset=\"utf-8\" /></head>\n",
              "<body>\n",
              "    <div>            <script src=\"https://cdnjs.cloudflare.com/ajax/libs/mathjax/2.7.5/MathJax.js?config=TeX-AMS-MML_SVG\"></script><script type=\"text/javascript\">if (window.MathJax && window.MathJax.Hub && window.MathJax.Hub.Config) {window.MathJax.Hub.Config({SVG: {font: \"STIX-Web\"}});}</script>                <script type=\"text/javascript\">window.PlotlyConfig = {MathJaxConfig: 'local'};</script>\n",
              "        <script src=\"https://cdn.plot.ly/plotly-2.18.2.min.js\"></script>                <div id=\"beab6a5f-b621-4cc3-850d-5162b31550a0\" class=\"plotly-graph-div\" style=\"height:525px; width:100%;\"></div>            <script type=\"text/javascript\">                                    window.PLOTLYENV=window.PLOTLYENV || {};                                    if (document.getElementById(\"beab6a5f-b621-4cc3-850d-5162b31550a0\")) {                    Plotly.newPlot(                        \"beab6a5f-b621-4cc3-850d-5162b31550a0\",                        [{\"coloraxis\":\"coloraxis\",\"name\":\"0\",\"x\":[\"<|endoftext|> 0\",\"When 1\",\" John 2\",\" and 3\",\" Mary 4\",\" went 5\",\" to 6\",\" the 7\",\" shops 8\",\", 9\",\" John 10\",\" gave 11\",\" the 12\",\" bag 13\",\" to 14\"],\"z\":[[0.0,0.0,0.0,0.0,0.0,0.0,0.0,0.0,0.0,0.0,-0.00376369571313262,2.3893155230325647e-05,0.000464501790702343,-0.001739065395668149,-0.000398533622501418],[0.0,0.0,0.0,0.0,0.0,0.0,0.0,0.0,0.0,0.0,-0.0004664404841605574,-0.0017751146806403995,4.5061651690048166e-06,6.078083060856443e-06,0.00023149113985709846],[0.0,0.0,0.0,0.0,0.0,0.0,0.0,0.0,0.0,0.0,-0.0006727285217493773,-0.0015626961831003428,-0.00018024659948423505,-3.825000749202445e-05,-0.0016540769720450044],[0.0,0.0,0.0,0.0,0.0,0.0,0.0,0.0,0.0,0.0,-0.0029471367597579956,0.0009062631870619953,-0.00010730960639193654,-0.0001318315335083753,-0.000411475746659562],[0.0,0.0,0.0,0.0,0.0,0.0,0.0,0.0,0.0,0.0,-0.0034304491709917784,0.00046947953524068,-0.00011150138743687421,-0.0003006031329277903,-0.0015023868763819337],[0.0,0.0,0.0,0.0,0.0,0.0,0.0,0.0,0.0,0.0,-0.009148511104285717,-0.0003608599945437163,-4.810069367522374e-05,0.0003897832939401269,-0.0010406097862869501],[0.0,0.0,0.0,0.0,0.0,0.0,0.0,0.0,0.0,0.0,-0.004651096183806658,-0.0003522668266668916,1.1894179806404281e-05,0.0005327754188328981,0.00048022097325883806],[0.0,0.0,0.0,0.0,0.0,0.0,0.0,0.0,0.0,0.0,0.15551257133483887,-0.001471158117055893,4.6214390749810264e-05,0.0002558034611865878,0.0004995031631551683],[0.0,0.0,0.0,0.0,0.0,0.0,0.0,0.0,0.0,0.0,-0.013670971617102623,-3.311507316539064e-05,0.00014975138765294105,-5.1978091505588964e-05,0.0020518770907074213],[0.0,0.0,0.0,0.0,0.0,0.0,0.0,0.0,0.0,0.0,0.11623207479715347,-0.00024197058519348502,2.8713702704408206e-05,-0.0011314665898680687,0.008976280689239502],[0.0,0.0,0.0,0.0,0.0,0.0,0.0,0.0,0.0,0.0,-0.0021436770912259817,0.07166405767202377,0.00031333568040281534,0.000376369571313262,0.40985390543937683],[0.0,0.0,0.0,0.0,0.0,0.0,0.0,0.0,0.0,0.0,-0.0057013994082808495,0.0014096436789259315,3.552534690243192e-05,0.00029300551977939904,0.06677434593439102],[0.0,0.0,0.0,0.0,0.0,0.0,0.0,0.0,0.0,0.0,-0.00022164045367389917,0.003413786878809333,3.5839730117004365e-05,0.0008755059679970145,-0.031359974294900894],[0.0,0.0,0.0,0.0,0.0,0.0,0.0,0.0,0.0,0.0,-0.0012867720797657967,0.00708185788244009,0.00031595551990903914,0.00018417640239931643,0.04569419100880623],[0.0,0.0,0.0,0.0,0.0,0.0,0.0,0.0,0.0,0.0,-0.0019313633674755692,0.004274097736924887,-0.0002826308773364872,-0.0002534979721531272,-0.03346864879131317],[0.0,0.0,0.0,0.0,0.0,0.0,0.0,0.0,0.0,0.0,-0.000629291171208024,0.004436948336660862,-6.140959885669872e-05,-0.00015383838035631925,0.19074513018131256],[0.0,0.0,0.0,0.0,0.0,0.0,0.0,0.0,0.0,0.0,2.1430483684525825e-05,0.0012753495248034596,-7.04743288224563e-05,-0.0004445384256541729,0.015220463275909424],[0.0,0.0,0.0,0.0,0.0,0.0,0.0,0.0,0.0,0.0,0.0001969613367691636,0.002370295347645879,7.031713175820187e-05,-0.00018077057029586285,0.11530553549528122],[0.0,0.0,0.0,0.0,0.0,0.0,0.0,0.0,0.0,0.0,1.6609934391453862e-05,9.829727787291631e-05,-2.3893155230325647e-05,-4.055548561154865e-05,0.008872481994330883],[0.0,0.0,0.0,0.0,0.0,0.0,0.0,0.0,0.0,0.0,0.0003605980018619448,-0.00039612335967831314,5.072055500932038e-05,-7.974864274729043e-05,0.015136156231164932],[0.0,0.0,0.0,0.0,0.0,0.0,0.0,0.0,0.0,0.0,-0.0006816884852014482,-0.008913561701774597,-5.947090176050551e-05,0.0002878705854527652,-0.08262006938457489],[0.0,0.0,0.0,0.0,0.0,0.0,0.0,0.0,0.0,0.0,0.001119153224863112,0.005083792377263308,1.4985618690843694e-05,-1.4776030184293631e-05,0.043839745223522186],[0.0,0.0,0.0,0.0,0.0,0.0,0.0,0.0,0.0,0.0,8.907535629987251e-06,8.477878145640716e-05,-3.8511992897838354e-05,0.00031401682645082474,0.08114702254533768],[0.0,0.0,0.0,0.0,0.0,0.0,0.0,0.0,0.0,0.0,0.0,0.0,0.0,0.0,0.016655204817652702]],\"type\":\"heatmap\",\"xaxis\":\"x\",\"yaxis\":\"y\",\"hovertemplate\":\"x: %{x}<br>y: %{y}<br>color: %{z}<extra></extra>\"}],                        {\"template\":{\"data\":{\"histogram2dcontour\":[{\"type\":\"histogram2dcontour\",\"colorbar\":{\"outlinewidth\":0,\"ticks\":\"\"},\"colorscale\":[[0.0,\"#0d0887\"],[0.1111111111111111,\"#46039f\"],[0.2222222222222222,\"#7201a8\"],[0.3333333333333333,\"#9c179e\"],[0.4444444444444444,\"#bd3786\"],[0.5555555555555556,\"#d8576b\"],[0.6666666666666666,\"#ed7953\"],[0.7777777777777778,\"#fb9f3a\"],[0.8888888888888888,\"#fdca26\"],[1.0,\"#f0f921\"]]}],\"choropleth\":[{\"type\":\"choropleth\",\"colorbar\":{\"outlinewidth\":0,\"ticks\":\"\"}}],\"histogram2d\":[{\"type\":\"histogram2d\",\"colorbar\":{\"outlinewidth\":0,\"ticks\":\"\"},\"colorscale\":[[0.0,\"#0d0887\"],[0.1111111111111111,\"#46039f\"],[0.2222222222222222,\"#7201a8\"],[0.3333333333333333,\"#9c179e\"],[0.4444444444444444,\"#bd3786\"],[0.5555555555555556,\"#d8576b\"],[0.6666666666666666,\"#ed7953\"],[0.7777777777777778,\"#fb9f3a\"],[0.8888888888888888,\"#fdca26\"],[1.0,\"#f0f921\"]]}],\"heatmap\":[{\"type\":\"heatmap\",\"colorbar\":{\"outlinewidth\":0,\"ticks\":\"\"},\"colorscale\":[[0.0,\"#0d0887\"],[0.1111111111111111,\"#46039f\"],[0.2222222222222222,\"#7201a8\"],[0.3333333333333333,\"#9c179e\"],[0.4444444444444444,\"#bd3786\"],[0.5555555555555556,\"#d8576b\"],[0.6666666666666666,\"#ed7953\"],[0.7777777777777778,\"#fb9f3a\"],[0.8888888888888888,\"#fdca26\"],[1.0,\"#f0f921\"]]}],\"heatmapgl\":[{\"type\":\"heatmapgl\",\"colorbar\":{\"outlinewidth\":0,\"ticks\":\"\"},\"colorscale\":[[0.0,\"#0d0887\"],[0.1111111111111111,\"#46039f\"],[0.2222222222222222,\"#7201a8\"],[0.3333333333333333,\"#9c179e\"],[0.4444444444444444,\"#bd3786\"],[0.5555555555555556,\"#d8576b\"],[0.6666666666666666,\"#ed7953\"],[0.7777777777777778,\"#fb9f3a\"],[0.8888888888888888,\"#fdca26\"],[1.0,\"#f0f921\"]]}],\"contourcarpet\":[{\"type\":\"contourcarpet\",\"colorbar\":{\"outlinewidth\":0,\"ticks\":\"\"}}],\"contour\":[{\"type\":\"contour\",\"colorbar\":{\"outlinewidth\":0,\"ticks\":\"\"},\"colorscale\":[[0.0,\"#0d0887\"],[0.1111111111111111,\"#46039f\"],[0.2222222222222222,\"#7201a8\"],[0.3333333333333333,\"#9c179e\"],[0.4444444444444444,\"#bd3786\"],[0.5555555555555556,\"#d8576b\"],[0.6666666666666666,\"#ed7953\"],[0.7777777777777778,\"#fb9f3a\"],[0.8888888888888888,\"#fdca26\"],[1.0,\"#f0f921\"]]}],\"surface\":[{\"type\":\"surface\",\"colorbar\":{\"outlinewidth\":0,\"ticks\":\"\"},\"colorscale\":[[0.0,\"#0d0887\"],[0.1111111111111111,\"#46039f\"],[0.2222222222222222,\"#7201a8\"],[0.3333333333333333,\"#9c179e\"],[0.4444444444444444,\"#bd3786\"],[0.5555555555555556,\"#d8576b\"],[0.6666666666666666,\"#ed7953\"],[0.7777777777777778,\"#fb9f3a\"],[0.8888888888888888,\"#fdca26\"],[1.0,\"#f0f921\"]]}],\"mesh3d\":[{\"type\":\"mesh3d\",\"colorbar\":{\"outlinewidth\":0,\"ticks\":\"\"}}],\"scatter\":[{\"fillpattern\":{\"fillmode\":\"overlay\",\"size\":10,\"solidity\":0.2},\"type\":\"scatter\"}],\"parcoords\":[{\"type\":\"parcoords\",\"line\":{\"colorbar\":{\"outlinewidth\":0,\"ticks\":\"\"}}}],\"scatterpolargl\":[{\"type\":\"scatterpolargl\",\"marker\":{\"colorbar\":{\"outlinewidth\":0,\"ticks\":\"\"}}}],\"bar\":[{\"error_x\":{\"color\":\"#2a3f5f\"},\"error_y\":{\"color\":\"#2a3f5f\"},\"marker\":{\"line\":{\"color\":\"#E5ECF6\",\"width\":0.5},\"pattern\":{\"fillmode\":\"overlay\",\"size\":10,\"solidity\":0.2}},\"type\":\"bar\"}],\"scattergeo\":[{\"type\":\"scattergeo\",\"marker\":{\"colorbar\":{\"outlinewidth\":0,\"ticks\":\"\"}}}],\"scatterpolar\":[{\"type\":\"scatterpolar\",\"marker\":{\"colorbar\":{\"outlinewidth\":0,\"ticks\":\"\"}}}],\"histogram\":[{\"marker\":{\"pattern\":{\"fillmode\":\"overlay\",\"size\":10,\"solidity\":0.2}},\"type\":\"histogram\"}],\"scattergl\":[{\"type\":\"scattergl\",\"marker\":{\"colorbar\":{\"outlinewidth\":0,\"ticks\":\"\"}}}],\"scatter3d\":[{\"type\":\"scatter3d\",\"line\":{\"colorbar\":{\"outlinewidth\":0,\"ticks\":\"\"}},\"marker\":{\"colorbar\":{\"outlinewidth\":0,\"ticks\":\"\"}}}],\"scattermapbox\":[{\"type\":\"scattermapbox\",\"marker\":{\"colorbar\":{\"outlinewidth\":0,\"ticks\":\"\"}}}],\"scatterternary\":[{\"type\":\"scatterternary\",\"marker\":{\"colorbar\":{\"outlinewidth\":0,\"ticks\":\"\"}}}],\"scattercarpet\":[{\"type\":\"scattercarpet\",\"marker\":{\"colorbar\":{\"outlinewidth\":0,\"ticks\":\"\"}}}],\"carpet\":[{\"aaxis\":{\"endlinecolor\":\"#2a3f5f\",\"gridcolor\":\"white\",\"linecolor\":\"white\",\"minorgridcolor\":\"white\",\"startlinecolor\":\"#2a3f5f\"},\"baxis\":{\"endlinecolor\":\"#2a3f5f\",\"gridcolor\":\"white\",\"linecolor\":\"white\",\"minorgridcolor\":\"white\",\"startlinecolor\":\"#2a3f5f\"},\"type\":\"carpet\"}],\"table\":[{\"cells\":{\"fill\":{\"color\":\"#EBF0F8\"},\"line\":{\"color\":\"white\"}},\"header\":{\"fill\":{\"color\":\"#C8D4E3\"},\"line\":{\"color\":\"white\"}},\"type\":\"table\"}],\"barpolar\":[{\"marker\":{\"line\":{\"color\":\"#E5ECF6\",\"width\":0.5},\"pattern\":{\"fillmode\":\"overlay\",\"size\":10,\"solidity\":0.2}},\"type\":\"barpolar\"}],\"pie\":[{\"automargin\":true,\"type\":\"pie\"}]},\"layout\":{\"autotypenumbers\":\"strict\",\"colorway\":[\"#636efa\",\"#EF553B\",\"#00cc96\",\"#ab63fa\",\"#FFA15A\",\"#19d3f3\",\"#FF6692\",\"#B6E880\",\"#FF97FF\",\"#FECB52\"],\"font\":{\"color\":\"#2a3f5f\"},\"hovermode\":\"closest\",\"hoverlabel\":{\"align\":\"left\"},\"paper_bgcolor\":\"white\",\"plot_bgcolor\":\"#E5ECF6\",\"polar\":{\"bgcolor\":\"#E5ECF6\",\"angularaxis\":{\"gridcolor\":\"white\",\"linecolor\":\"white\",\"ticks\":\"\"},\"radialaxis\":{\"gridcolor\":\"white\",\"linecolor\":\"white\",\"ticks\":\"\"}},\"ternary\":{\"bgcolor\":\"#E5ECF6\",\"aaxis\":{\"gridcolor\":\"white\",\"linecolor\":\"white\",\"ticks\":\"\"},\"baxis\":{\"gridcolor\":\"white\",\"linecolor\":\"white\",\"ticks\":\"\"},\"caxis\":{\"gridcolor\":\"white\",\"linecolor\":\"white\",\"ticks\":\"\"}},\"coloraxis\":{\"colorbar\":{\"outlinewidth\":0,\"ticks\":\"\"}},\"colorscale\":{\"sequential\":[[0.0,\"#0d0887\"],[0.1111111111111111,\"#46039f\"],[0.2222222222222222,\"#7201a8\"],[0.3333333333333333,\"#9c179e\"],[0.4444444444444444,\"#bd3786\"],[0.5555555555555556,\"#d8576b\"],[0.6666666666666666,\"#ed7953\"],[0.7777777777777778,\"#fb9f3a\"],[0.8888888888888888,\"#fdca26\"],[1.0,\"#f0f921\"]],\"sequentialminus\":[[0.0,\"#0d0887\"],[0.1111111111111111,\"#46039f\"],[0.2222222222222222,\"#7201a8\"],[0.3333333333333333,\"#9c179e\"],[0.4444444444444444,\"#bd3786\"],[0.5555555555555556,\"#d8576b\"],[0.6666666666666666,\"#ed7953\"],[0.7777777777777778,\"#fb9f3a\"],[0.8888888888888888,\"#fdca26\"],[1.0,\"#f0f921\"]],\"diverging\":[[0,\"#8e0152\"],[0.1,\"#c51b7d\"],[0.2,\"#de77ae\"],[0.3,\"#f1b6da\"],[0.4,\"#fde0ef\"],[0.5,\"#f7f7f7\"],[0.6,\"#e6f5d0\"],[0.7,\"#b8e186\"],[0.8,\"#7fbc41\"],[0.9,\"#4d9221\"],[1,\"#276419\"]]},\"xaxis\":{\"gridcolor\":\"white\",\"linecolor\":\"white\",\"ticks\":\"\",\"title\":{\"standoff\":15},\"zerolinecolor\":\"white\",\"automargin\":true,\"zerolinewidth\":2},\"yaxis\":{\"gridcolor\":\"white\",\"linecolor\":\"white\",\"ticks\":\"\",\"title\":{\"standoff\":15},\"zerolinecolor\":\"white\",\"automargin\":true,\"zerolinewidth\":2},\"scene\":{\"xaxis\":{\"backgroundcolor\":\"#E5ECF6\",\"gridcolor\":\"white\",\"linecolor\":\"white\",\"showbackground\":true,\"ticks\":\"\",\"zerolinecolor\":\"white\",\"gridwidth\":2},\"yaxis\":{\"backgroundcolor\":\"#E5ECF6\",\"gridcolor\":\"white\",\"linecolor\":\"white\",\"showbackground\":true,\"ticks\":\"\",\"zerolinecolor\":\"white\",\"gridwidth\":2},\"zaxis\":{\"backgroundcolor\":\"#E5ECF6\",\"gridcolor\":\"white\",\"linecolor\":\"white\",\"showbackground\":true,\"ticks\":\"\",\"zerolinecolor\":\"white\",\"gridwidth\":2}},\"shapedefaults\":{\"line\":{\"color\":\"#2a3f5f\"}},\"annotationdefaults\":{\"arrowcolor\":\"#2a3f5f\",\"arrowhead\":0,\"arrowwidth\":1},\"geo\":{\"bgcolor\":\"white\",\"landcolor\":\"#E5ECF6\",\"subunitcolor\":\"white\",\"showland\":true,\"showlakes\":true,\"lakecolor\":\"white\"},\"title\":{\"x\":0.05},\"mapbox\":{\"style\":\"light\"}}},\"xaxis\":{\"anchor\":\"y\",\"domain\":[0.0,1.0],\"title\":{\"text\":\"Position\"}},\"yaxis\":{\"anchor\":\"x\",\"domain\":[0.0,1.0],\"autorange\":\"reversed\",\"title\":{\"text\":\"Layer\"}},\"coloraxis\":{\"colorscale\":[[0.0,\"rgb(103,0,31)\"],[0.1,\"rgb(178,24,43)\"],[0.2,\"rgb(214,96,77)\"],[0.3,\"rgb(244,165,130)\"],[0.4,\"rgb(253,219,199)\"],[0.5,\"rgb(247,247,247)\"],[0.6,\"rgb(209,229,240)\"],[0.7,\"rgb(146,197,222)\"],[0.8,\"rgb(67,147,195)\"],[0.9,\"rgb(33,102,172)\"],[1.0,\"rgb(5,48,97)\"]],\"cmid\":0.0},\"title\":{\"text\":\"IOI Metric for 'attn_out' Activation Patching\"}},                        {\"responsive\": true}                    ).then(function(){\n",
              "                            \n",
              "var gd = document.getElementById('beab6a5f-b621-4cc3-850d-5162b31550a0');\n",
              "var x = new MutationObserver(function (mutations, observer) {{\n",
              "        var display = window.getComputedStyle(gd).display;\n",
              "        if (!display || display === 'none') {{\n",
              "            console.log([gd, 'removed!']);\n",
              "            Plotly.purge(gd);\n",
              "            observer.disconnect();\n",
              "        }}\n",
              "}});\n",
              "\n",
              "// Listen for the removal of the full notebook cells\n",
              "var notebookContainer = gd.closest('#notebook-container');\n",
              "if (notebookContainer) {{\n",
              "    x.observe(notebookContainer, {childList: true});\n",
              "}}\n",
              "\n",
              "// Listen for the clearing of the current output cell\n",
              "var outputEl = gd.closest('.output');\n",
              "if (outputEl) {{\n",
              "    x.observe(outputEl, {childList: true});\n",
              "}}\n",
              "\n",
              "                        })                };                            </script>        </div>\n",
              "</body>\n",
              "</html>"
            ]
          },
          "metadata": {},
          "output_type": "display_data"
        }
      ],
      "source": [
        "imshow(resid_pre_act_patch_results, \n",
        "       yaxis=\"Layer\", \n",
        "       xaxis=\"Position\", \n",
        "       x=[f\"{tok} {i}\" for i, tok in enumerate(model.to_str_tokens(clean_tokens[0]))],\n",
        "       title=\"IOI Metric for 'attn_out' Activation Patching\")"
      ]
    },
    {
      "cell_type": "markdown",
      "metadata": {
        "id": "k90ITCtrJhxj"
      },
      "source": [
        "### Attention Layers by Head"
      ]
    },
    {
      "cell_type": "markdown",
      "metadata": {
        "id": "_qm6_hzoduEv"
      },
      "source": [
        "Here we see that patching L7H5 recovers full performance, and patching L8H10 recovers a quarter of the performance. Patching L9H1 and L9H11 reduce performance. Aside from L7H5 (whose role is unclear at present), this matches with the positive NMHs and the two negative NMHs of significant magnitude."
      ]
    },
    {
      "cell_type": "code",
      "execution_count": 37,
      "metadata": {
        "colab": {
          "base_uri": "https://localhost:8080/",
          "height": 49,
          "referenced_widgets": [
            "afb77aa38de346dd97f0e06f40d190a5",
            "25e12d29c27b47a19be5c9fdb173dab8",
            "4d9becfe15444fa39ee363b2abde5288",
            "84c40d45c75a4d0e9ee0f812bd43c528",
            "0a31b769bf934c2ea2c7e80e0f5fe8db",
            "c0e46d7929e04a8e8c3d560cb1485981",
            "23fb054532874e749305421247d85ba5",
            "1076ca8b6f32490da48c9fe17200cf3a",
            "0d94912b59dc4e7e927892f15793ca98",
            "604b8130fa46449eacc0f4e3422e1f39",
            "97812acb682849c899d530640b3ff8b8"
          ]
        },
        "id": "RODK4olIp91a",
        "outputId": "a3ef2ebc-bfd5-4f3d-dc04-15c11a4182ce"
      },
      "outputs": [
        {
          "data": {
            "application/vnd.jupyter.widget-view+json": {
              "model_id": "afb77aa38de346dd97f0e06f40d190a5",
              "version_major": 2,
              "version_minor": 0
            },
            "text/plain": [
              "  0%|          | 0/384 [00:00<?, ?it/s]"
            ]
          },
          "metadata": {},
          "output_type": "display_data"
        }
      ],
      "source": [
        "attn_head_out_all_pos_act_patch_results = patching.get_act_patch_attn_head_out_all_pos(model, corrupted_tokens, clean_cache, ioi_metric)"
      ]
    },
    {
      "cell_type": "code",
      "execution_count": 38,
      "metadata": {
        "colab": {
          "base_uri": "https://localhost:8080/",
          "height": 542
        },
        "id": "IN6Ibzd6eHfz",
        "outputId": "206109f4-c9a4-4ff0-e22e-757a5546d535"
      },
      "outputs": [
        {
          "data": {
            "text/html": [
              "<html>\n",
              "<head><meta charset=\"utf-8\" /></head>\n",
              "<body>\n",
              "    <div>            <script src=\"https://cdnjs.cloudflare.com/ajax/libs/mathjax/2.7.5/MathJax.js?config=TeX-AMS-MML_SVG\"></script><script type=\"text/javascript\">if (window.MathJax && window.MathJax.Hub && window.MathJax.Hub.Config) {window.MathJax.Hub.Config({SVG: {font: \"STIX-Web\"}});}</script>                <script type=\"text/javascript\">window.PlotlyConfig = {MathJaxConfig: 'local'};</script>\n",
              "        <script src=\"https://cdn.plot.ly/plotly-2.18.2.min.js\"></script>                <div id=\"bc5178dc-e9ec-4fbf-9cc6-e72dc5733e50\" class=\"plotly-graph-div\" style=\"height:525px; width:100%;\"></div>            <script type=\"text/javascript\">                                    window.PLOTLYENV=window.PLOTLYENV || {};                                    if (document.getElementById(\"bc5178dc-e9ec-4fbf-9cc6-e72dc5733e50\")) {                    Plotly.newPlot(                        \"bc5178dc-e9ec-4fbf-9cc6-e72dc5733e50\",                        [{\"coloraxis\":\"coloraxis\",\"name\":\"0\",\"z\":[[-3.6678088690678123e-06,0.00046832679072394967,-8.593151869717985e-05,-0.001616141409613192,-0.0003618555492721498,8.991371578304097e-05,-0.00018883975280914456,-0.0003946038195863366,-0.00023327264352701604,-0.0008373083546757698,-0.0011155378306284547,-0.0002816353226080537,-6.544419011333957e-05,0.0001095626867027022,-0.0008552282233722508,-2.724657861108426e-06],[-9.101405885303393e-05,-0.00014220619050320238,-0.0011281132465228438,-9.049008076544851e-05,0.0004892332945019007,-0.00018999249732587487,-5.307843457558192e-05,0.00012245241669006646,-0.00019575619080569595,0.00042714254232123494,-0.0005743264337070286,-0.0011979063274338841,0.000890648749191314,-0.00021896818361710757,-3.65208979928866e-05,-9.504864283371717e-05],[0.0012597350869327784,1.0374658813816495e-05,-0.00029426306718960404,0.0002277185267303139,7.126028503989801e-05,-0.0006140960031189024,-3.783082865993492e-05,-0.0018700584769248962,0.00011401645315345377,-0.00012281919771339744,-0.00022174524201545864,0.00080953782889992,-0.0014451167080551386,-0.0014093817444518209,-4.584760972647928e-05,-0.00043332541827112436],[7.152227044571191e-05,0.002325600478798151,0.000629291171208024,-0.0006608867552131414,-0.00032538705272600055,-0.001623529358766973,-0.0002023582492256537,-0.0001454548182664439,0.0003655757464002818,-1.3937673429609276e-05,-6.104281783336774e-05,0.0013877940364181995,0.0011629574000835419,-0.003609019098803401,-2.2635620553046465e-05,-0.001404037233442068],[-0.00016714728553779423,-0.0011429416481405497,-0.0006325922440737486,0.00011747467942768708,-0.0001144356356235221,-0.0002738805196713656,0.00027828189195133746,-0.0004874517908319831,0.00018475277465768158,-0.0012204896192997694,1.6400344975409098e-05,2.6198633804597193e-06,-0.00027891065110452473,0.00045805692207068205,-0.000377627118723467,0.00020110071636736393],[-0.0007808764930814505,-1.75530858541606e-05,0.0006851466605439782,-8.750343840802088e-05,-0.0001104534458136186,0.0015182108618319035,-0.0014385145623236895,3.793562427745201e-05,-0.004892961587756872,-0.0003930319217033684,-0.00028022058540955186,-0.0010336933191865683,0.0027431542985141277,-0.00013078357733320445,8.79226136021316e-05,0.00033827676088549197],[5.52267229068093e-05,-3.154315709252842e-05,3.374383959453553e-05,0.00024626715457998216,-0.00030516169499605894,9.557262092130259e-05,3.950754035031423e-05,-7.65000095270807e-06,-0.0005990055506117642,-0.00041310006054118276,0.0010802220785990357,-0.0001759500300977379,0.0012099053710699081,-0.0034289297182112932,-0.000212208935408853,-8.991371578304097e-05],[-0.0006051360396668315,-0.00011957056995015591,-3.311507316539064e-05,-0.010272851213812828,0.00012501988385338336,-0.00014126303722150624,-0.003531733062118292,-0.00020880311785731465,0.007464724592864513,-7.65000149840489e-05,0.0005588692729361355,0.0005808761343359947,-0.0003736973158083856,-0.0015697174239903688,-0.000898665573913604,-0.00081299600424245],[-0.0002369404537603259,0.001641920767724514,-0.0010671227937564254,-0.0014943700516596437,0.0005339805502444506,0.0048659248277544975,-0.00468405382707715,-0.002116902032867074,-0.0007840727339498699,0.0001822376943891868,-0.0003027514321729541,0.0008248378289863467,5.941850395174697e-05,-0.00061336241196841,-0.007317697629332542,0.00020916989888064563],[0.00024762950488366187,0.13762451708316803,-0.0002097462711390108,0.0007149083539843559,0.0023043269757181406,-5.250206231721677e-05,0.0009710261947475374,0.0007170566241256893,0.004306426737457514,-0.006433650851249695,3.201473009539768e-05,0.0003356045053806156,5.4440763051388785e-05,-0.001832175301387906,0.001473149168305099,-0.002312605967745185],[0.0013119227951392531,-0.000225151059566997,-0.003689553588628769,-0.0004960449296049774,8.818460628390312e-05,0.007129696197807789,-2.3840757421567105e-05,0.5020562410354614,-0.0002867178409360349,-5.941850395174697e-05,0.0010020453482866287,-0.00021985893545206636,-0.00015383838035631925,-0.0003727541770786047,-0.0018894454697147012,0.00015572468691971153],[-0.0002888137532863766,-0.0007001847261562943,-0.034946829080581665,0.0017347163520753384,0.0013024912914261222,0.001781350001692772,0.005604202393442392,4.71575413030223e-06,0.05902877077460289,-0.005638365168124437,-0.0003099822497460991,-0.003388636279851198,0.00012260960647836328,-0.0019735954701900482,0.015986930578947067,0.028221536427736282],[-0.0002333774318685755,0.007407716475427151,-0.00048294561565853655,-0.005206768866628408,-0.0003135976439807564,-0.04909723624587059,0.0009772090706974268,-0.07135742902755737,0.025409530848264694,-0.0015305766137316823,-0.0006541275070048869,0.017700111493468285,-0.0008997658733278513,6.434384704334661e-05,-0.0016028848476707935,0.06031114235520363],[0.0024508298374712467,0.00416799308732152,0.004483634140342474,-0.036977119743824005,3.4582196803967236e-06,0.00012229522690176964,0.06856518238782883,0.0006687463610433042,0.009351235814392567,-0.005107004661113024,-3.353425199748017e-06,0.0061688353307545185,0.0004904384259134531,0.00042871444020420313,-0.00037825587787665427,0.0021928781643509865],[-0.00019832365796901286,-0.003265607403591275,-5.5121927289292216e-05,9.431508374291298e-07,-0.0006423381273634732,-0.0007558306097052991,0.04215569794178009,-0.0006461107404902577,0.020692309364676476,0.012253206223249435,1.5404797522933222e-05,-0.05852166935801506,-0.012647495605051517,0.00026020483346655965,-0.0319359265267849,0.0013953916495665908],[-7.917227048892528e-05,0.0014335892628878355,0.0,7.262261351570487e-05,-0.00018370481848251075,-0.0001888921542558819,-0.00018883975280914456,0.0012627742253243923,-1.9491784769343212e-05,0.0003426781331654638,-0.011430359445512295,0.016292458400130272,-0.0024909137282520533,-0.00012014693493256345,0.00812702625989914,0.1782110184431076],[0.0002254130522487685,-0.006721940822899342,-7.335617624448787e-07,-0.001961125060915947,5.302603676682338e-05,0.00010322262096451595,-0.006037842016667128,0.0007140699890442193,-1.1003426152456086e-06,-1.0165070307266433e-05,0.00011679351155180484,-0.00021409524197224528,-0.003786645829677582,0.035277508199214935,-0.00022509867267217487,-0.0014115824596956372],[-0.01300133392214775,0.0018441218417137861,0.0,-1.4880823982821312e-05,-0.00010107432899530977,4.464247467694804e-05,-0.001057953224517405,0.1155947670340538,0.000559602805878967,1.2208563930471428e-05,0.01582161709666252,-0.009957104921340942,-5.8003777667181566e-05,0.008036169223487377,2.8713702704408206e-05,0.00011600755533436313],[-0.0007479186169803143,0.00038831616984680295,0.0012567484518513083,-6.643973756581545e-05,0.0005452983896248043,-6.968836532905698e-05,0.0017553608631715178,1.0479453749212553e-07,0.0001422585773980245,0.005759664811193943,-0.00039947679033502936,0.0009672535816207528,3.4372609661659226e-05,-0.0004296576080378145,-7.07363142282702e-05,-0.00010421816841699183],[-1.1108220860478468e-05,0.015531493350863457,-0.0021629068069159985,-0.00017107708845287561,-3.0233224606490694e-05,0.0009216679609380662,0.0013679354451596737,4.071267903782427e-05,5.9104120737174526e-05,0.0001658373512327671,-1.9282195353298448e-05,-0.00013764762843493372,-4.25465805165004e-05,-0.00116405775770545,0.0002056592784356326,-2.8451717298594303e-05],[0.0006739336531609297,-0.09478555619716644,6.853562808828428e-05,0.0010618306696414948,-0.00012984043860342354,-5.1558912673499435e-05,-9.43150826060446e-06,-0.00034875620622187853,0.0010264625307172537,-5.4597952839685604e-05,-0.0006476302514784038,0.0007533155148848891,2.116849645972252e-05,0.00027644800138659775,7.670959894312546e-05,-1.6295551176881418e-05],[-0.00034697470255196095,7.639521936653182e-05,1.9491784769343212e-05,0.043169062584638596,-0.00018071818340104073,0.00012758735101670027,0.003555154660716653,-0.000155829475261271,-1.4671235248897574e-06,-7.461370842065662e-05,0.0028464291244745255,-2.5727058527991176e-05,6.979316094657406e-05,-6.989795656409115e-05,0.002071473514661193,-0.0006840987480245531],[5.035377398598939e-05,0.00102661969140172,0.0698612779378891,-7.230823393911123e-05,-0.00015425756282638758,-9.326713552582078e-06,-0.0005904124118387699,0.00208604009822011,3.625890894909389e-05,0.0011393262539058924,0.008196871727705002,-0.00010112673044204712,0.0003865870530717075,-2.122089426848106e-05,-1.8077058484777808e-05,-0.0003208284906577319],[0.0006095897988416255,-6.544419011333957e-05,0.0022988778073340654,3.1438362384506036e-06,6.0833230236312374e-05,0.0010170310270041227,1.0898631444433704e-05,-3.982192538387608e-06,-8.173973583325278e-06,0.00841615442186594,0.00153534475248307,6.120000762166455e-05,-1.0479453749212553e-07,-4.9986992962658405e-05,0.0020101163536310196,0.000746294273994863]],\"type\":\"heatmap\",\"xaxis\":\"x\",\"yaxis\":\"y\",\"hovertemplate\":\"x: %{x}<br>y: %{y}<br>color: %{z}<extra></extra>\"}],                        {\"template\":{\"data\":{\"histogram2dcontour\":[{\"type\":\"histogram2dcontour\",\"colorbar\":{\"outlinewidth\":0,\"ticks\":\"\"},\"colorscale\":[[0.0,\"#0d0887\"],[0.1111111111111111,\"#46039f\"],[0.2222222222222222,\"#7201a8\"],[0.3333333333333333,\"#9c179e\"],[0.4444444444444444,\"#bd3786\"],[0.5555555555555556,\"#d8576b\"],[0.6666666666666666,\"#ed7953\"],[0.7777777777777778,\"#fb9f3a\"],[0.8888888888888888,\"#fdca26\"],[1.0,\"#f0f921\"]]}],\"choropleth\":[{\"type\":\"choropleth\",\"colorbar\":{\"outlinewidth\":0,\"ticks\":\"\"}}],\"histogram2d\":[{\"type\":\"histogram2d\",\"colorbar\":{\"outlinewidth\":0,\"ticks\":\"\"},\"colorscale\":[[0.0,\"#0d0887\"],[0.1111111111111111,\"#46039f\"],[0.2222222222222222,\"#7201a8\"],[0.3333333333333333,\"#9c179e\"],[0.4444444444444444,\"#bd3786\"],[0.5555555555555556,\"#d8576b\"],[0.6666666666666666,\"#ed7953\"],[0.7777777777777778,\"#fb9f3a\"],[0.8888888888888888,\"#fdca26\"],[1.0,\"#f0f921\"]]}],\"heatmap\":[{\"type\":\"heatmap\",\"colorbar\":{\"outlinewidth\":0,\"ticks\":\"\"},\"colorscale\":[[0.0,\"#0d0887\"],[0.1111111111111111,\"#46039f\"],[0.2222222222222222,\"#7201a8\"],[0.3333333333333333,\"#9c179e\"],[0.4444444444444444,\"#bd3786\"],[0.5555555555555556,\"#d8576b\"],[0.6666666666666666,\"#ed7953\"],[0.7777777777777778,\"#fb9f3a\"],[0.8888888888888888,\"#fdca26\"],[1.0,\"#f0f921\"]]}],\"heatmapgl\":[{\"type\":\"heatmapgl\",\"colorbar\":{\"outlinewidth\":0,\"ticks\":\"\"},\"colorscale\":[[0.0,\"#0d0887\"],[0.1111111111111111,\"#46039f\"],[0.2222222222222222,\"#7201a8\"],[0.3333333333333333,\"#9c179e\"],[0.4444444444444444,\"#bd3786\"],[0.5555555555555556,\"#d8576b\"],[0.6666666666666666,\"#ed7953\"],[0.7777777777777778,\"#fb9f3a\"],[0.8888888888888888,\"#fdca26\"],[1.0,\"#f0f921\"]]}],\"contourcarpet\":[{\"type\":\"contourcarpet\",\"colorbar\":{\"outlinewidth\":0,\"ticks\":\"\"}}],\"contour\":[{\"type\":\"contour\",\"colorbar\":{\"outlinewidth\":0,\"ticks\":\"\"},\"colorscale\":[[0.0,\"#0d0887\"],[0.1111111111111111,\"#46039f\"],[0.2222222222222222,\"#7201a8\"],[0.3333333333333333,\"#9c179e\"],[0.4444444444444444,\"#bd3786\"],[0.5555555555555556,\"#d8576b\"],[0.6666666666666666,\"#ed7953\"],[0.7777777777777778,\"#fb9f3a\"],[0.8888888888888888,\"#fdca26\"],[1.0,\"#f0f921\"]]}],\"surface\":[{\"type\":\"surface\",\"colorbar\":{\"outlinewidth\":0,\"ticks\":\"\"},\"colorscale\":[[0.0,\"#0d0887\"],[0.1111111111111111,\"#46039f\"],[0.2222222222222222,\"#7201a8\"],[0.3333333333333333,\"#9c179e\"],[0.4444444444444444,\"#bd3786\"],[0.5555555555555556,\"#d8576b\"],[0.6666666666666666,\"#ed7953\"],[0.7777777777777778,\"#fb9f3a\"],[0.8888888888888888,\"#fdca26\"],[1.0,\"#f0f921\"]]}],\"mesh3d\":[{\"type\":\"mesh3d\",\"colorbar\":{\"outlinewidth\":0,\"ticks\":\"\"}}],\"scatter\":[{\"fillpattern\":{\"fillmode\":\"overlay\",\"size\":10,\"solidity\":0.2},\"type\":\"scatter\"}],\"parcoords\":[{\"type\":\"parcoords\",\"line\":{\"colorbar\":{\"outlinewidth\":0,\"ticks\":\"\"}}}],\"scatterpolargl\":[{\"type\":\"scatterpolargl\",\"marker\":{\"colorbar\":{\"outlinewidth\":0,\"ticks\":\"\"}}}],\"bar\":[{\"error_x\":{\"color\":\"#2a3f5f\"},\"error_y\":{\"color\":\"#2a3f5f\"},\"marker\":{\"line\":{\"color\":\"#E5ECF6\",\"width\":0.5},\"pattern\":{\"fillmode\":\"overlay\",\"size\":10,\"solidity\":0.2}},\"type\":\"bar\"}],\"scattergeo\":[{\"type\":\"scattergeo\",\"marker\":{\"colorbar\":{\"outlinewidth\":0,\"ticks\":\"\"}}}],\"scatterpolar\":[{\"type\":\"scatterpolar\",\"marker\":{\"colorbar\":{\"outlinewidth\":0,\"ticks\":\"\"}}}],\"histogram\":[{\"marker\":{\"pattern\":{\"fillmode\":\"overlay\",\"size\":10,\"solidity\":0.2}},\"type\":\"histogram\"}],\"scattergl\":[{\"type\":\"scattergl\",\"marker\":{\"colorbar\":{\"outlinewidth\":0,\"ticks\":\"\"}}}],\"scatter3d\":[{\"type\":\"scatter3d\",\"line\":{\"colorbar\":{\"outlinewidth\":0,\"ticks\":\"\"}},\"marker\":{\"colorbar\":{\"outlinewidth\":0,\"ticks\":\"\"}}}],\"scattermapbox\":[{\"type\":\"scattermapbox\",\"marker\":{\"colorbar\":{\"outlinewidth\":0,\"ticks\":\"\"}}}],\"scatterternary\":[{\"type\":\"scatterternary\",\"marker\":{\"colorbar\":{\"outlinewidth\":0,\"ticks\":\"\"}}}],\"scattercarpet\":[{\"type\":\"scattercarpet\",\"marker\":{\"colorbar\":{\"outlinewidth\":0,\"ticks\":\"\"}}}],\"carpet\":[{\"aaxis\":{\"endlinecolor\":\"#2a3f5f\",\"gridcolor\":\"white\",\"linecolor\":\"white\",\"minorgridcolor\":\"white\",\"startlinecolor\":\"#2a3f5f\"},\"baxis\":{\"endlinecolor\":\"#2a3f5f\",\"gridcolor\":\"white\",\"linecolor\":\"white\",\"minorgridcolor\":\"white\",\"startlinecolor\":\"#2a3f5f\"},\"type\":\"carpet\"}],\"table\":[{\"cells\":{\"fill\":{\"color\":\"#EBF0F8\"},\"line\":{\"color\":\"white\"}},\"header\":{\"fill\":{\"color\":\"#C8D4E3\"},\"line\":{\"color\":\"white\"}},\"type\":\"table\"}],\"barpolar\":[{\"marker\":{\"line\":{\"color\":\"#E5ECF6\",\"width\":0.5},\"pattern\":{\"fillmode\":\"overlay\",\"size\":10,\"solidity\":0.2}},\"type\":\"barpolar\"}],\"pie\":[{\"automargin\":true,\"type\":\"pie\"}]},\"layout\":{\"autotypenumbers\":\"strict\",\"colorway\":[\"#636efa\",\"#EF553B\",\"#00cc96\",\"#ab63fa\",\"#FFA15A\",\"#19d3f3\",\"#FF6692\",\"#B6E880\",\"#FF97FF\",\"#FECB52\"],\"font\":{\"color\":\"#2a3f5f\"},\"hovermode\":\"closest\",\"hoverlabel\":{\"align\":\"left\"},\"paper_bgcolor\":\"white\",\"plot_bgcolor\":\"#E5ECF6\",\"polar\":{\"bgcolor\":\"#E5ECF6\",\"angularaxis\":{\"gridcolor\":\"white\",\"linecolor\":\"white\",\"ticks\":\"\"},\"radialaxis\":{\"gridcolor\":\"white\",\"linecolor\":\"white\",\"ticks\":\"\"}},\"ternary\":{\"bgcolor\":\"#E5ECF6\",\"aaxis\":{\"gridcolor\":\"white\",\"linecolor\":\"white\",\"ticks\":\"\"},\"baxis\":{\"gridcolor\":\"white\",\"linecolor\":\"white\",\"ticks\":\"\"},\"caxis\":{\"gridcolor\":\"white\",\"linecolor\":\"white\",\"ticks\":\"\"}},\"coloraxis\":{\"colorbar\":{\"outlinewidth\":0,\"ticks\":\"\"}},\"colorscale\":{\"sequential\":[[0.0,\"#0d0887\"],[0.1111111111111111,\"#46039f\"],[0.2222222222222222,\"#7201a8\"],[0.3333333333333333,\"#9c179e\"],[0.4444444444444444,\"#bd3786\"],[0.5555555555555556,\"#d8576b\"],[0.6666666666666666,\"#ed7953\"],[0.7777777777777778,\"#fb9f3a\"],[0.8888888888888888,\"#fdca26\"],[1.0,\"#f0f921\"]],\"sequentialminus\":[[0.0,\"#0d0887\"],[0.1111111111111111,\"#46039f\"],[0.2222222222222222,\"#7201a8\"],[0.3333333333333333,\"#9c179e\"],[0.4444444444444444,\"#bd3786\"],[0.5555555555555556,\"#d8576b\"],[0.6666666666666666,\"#ed7953\"],[0.7777777777777778,\"#fb9f3a\"],[0.8888888888888888,\"#fdca26\"],[1.0,\"#f0f921\"]],\"diverging\":[[0,\"#8e0152\"],[0.1,\"#c51b7d\"],[0.2,\"#de77ae\"],[0.3,\"#f1b6da\"],[0.4,\"#fde0ef\"],[0.5,\"#f7f7f7\"],[0.6,\"#e6f5d0\"],[0.7,\"#b8e186\"],[0.8,\"#7fbc41\"],[0.9,\"#4d9221\"],[1,\"#276419\"]]},\"xaxis\":{\"gridcolor\":\"white\",\"linecolor\":\"white\",\"ticks\":\"\",\"title\":{\"standoff\":15},\"zerolinecolor\":\"white\",\"automargin\":true,\"zerolinewidth\":2},\"yaxis\":{\"gridcolor\":\"white\",\"linecolor\":\"white\",\"ticks\":\"\",\"title\":{\"standoff\":15},\"zerolinecolor\":\"white\",\"automargin\":true,\"zerolinewidth\":2},\"scene\":{\"xaxis\":{\"backgroundcolor\":\"#E5ECF6\",\"gridcolor\":\"white\",\"linecolor\":\"white\",\"showbackground\":true,\"ticks\":\"\",\"zerolinecolor\":\"white\",\"gridwidth\":2},\"yaxis\":{\"backgroundcolor\":\"#E5ECF6\",\"gridcolor\":\"white\",\"linecolor\":\"white\",\"showbackground\":true,\"ticks\":\"\",\"zerolinecolor\":\"white\",\"gridwidth\":2},\"zaxis\":{\"backgroundcolor\":\"#E5ECF6\",\"gridcolor\":\"white\",\"linecolor\":\"white\",\"showbackground\":true,\"ticks\":\"\",\"zerolinecolor\":\"white\",\"gridwidth\":2}},\"shapedefaults\":{\"line\":{\"color\":\"#2a3f5f\"}},\"annotationdefaults\":{\"arrowcolor\":\"#2a3f5f\",\"arrowhead\":0,\"arrowwidth\":1},\"geo\":{\"bgcolor\":\"white\",\"landcolor\":\"#E5ECF6\",\"subunitcolor\":\"white\",\"showland\":true,\"showlakes\":true,\"lakecolor\":\"white\"},\"title\":{\"x\":0.05},\"mapbox\":{\"style\":\"light\"}}},\"xaxis\":{\"anchor\":\"y\",\"domain\":[0.0,1.0],\"title\":{\"text\":\"Head\"}},\"yaxis\":{\"anchor\":\"x\",\"domain\":[0.0,1.0],\"autorange\":\"reversed\",\"title\":{\"text\":\"Layer\"}},\"coloraxis\":{\"colorscale\":[[0.0,\"rgb(103,0,31)\"],[0.1,\"rgb(178,24,43)\"],[0.2,\"rgb(214,96,77)\"],[0.3,\"rgb(244,165,130)\"],[0.4,\"rgb(253,219,199)\"],[0.5,\"rgb(247,247,247)\"],[0.6,\"rgb(209,229,240)\"],[0.7,\"rgb(146,197,222)\"],[0.8,\"rgb(67,147,195)\"],[0.9,\"rgb(33,102,172)\"],[1.0,\"rgb(5,48,97)\"]],\"cmid\":0.0},\"title\":{\"text\":\"IOI Metric for 'attn_head_out' Activation Patching (All Pos)\"}},                        {\"responsive\": true}                    ).then(function(){\n",
              "                            \n",
              "var gd = document.getElementById('bc5178dc-e9ec-4fbf-9cc6-e72dc5733e50');\n",
              "var x = new MutationObserver(function (mutations, observer) {{\n",
              "        var display = window.getComputedStyle(gd).display;\n",
              "        if (!display || display === 'none') {{\n",
              "            console.log([gd, 'removed!']);\n",
              "            Plotly.purge(gd);\n",
              "            observer.disconnect();\n",
              "        }}\n",
              "}});\n",
              "\n",
              "// Listen for the removal of the full notebook cells\n",
              "var notebookContainer = gd.closest('#notebook-container');\n",
              "if (notebookContainer) {{\n",
              "    x.observe(notebookContainer, {childList: true});\n",
              "}}\n",
              "\n",
              "// Listen for the clearing of the current output cell\n",
              "var outputEl = gd.closest('.output');\n",
              "if (outputEl) {{\n",
              "    x.observe(outputEl, {childList: true});\n",
              "}}\n",
              "\n",
              "                        })                };                            </script>        </div>\n",
              "</body>\n",
              "</html>"
            ]
          },
          "metadata": {},
          "output_type": "display_data"
        }
      ],
      "source": [
        "imshow(attn_head_out_all_pos_act_patch_results, \n",
        "       yaxis=\"Layer\", \n",
        "       xaxis=\"Head\", \n",
        "       title=\"IOI Metric for 'attn_head_out' Activation Patching (All Pos)\")"
      ]
    },
    {
      "cell_type": "markdown",
      "metadata": {
        "id": "P5Dt3nhUfWlD"
      },
      "source": [
        "We can also look at the values separately."
      ]
    },
    {
      "cell_type": "code",
      "execution_count": null,
      "metadata": {
        "colab": {
          "base_uri": "https://localhost:8080/",
          "height": 285,
          "referenced_widgets": [
            "c0d8e052762f4742a4589527fced5fd2",
            "6355e7df26a141b183bdfb7f8be79778",
            "5a6db6d2bd9c4d5697041d3b6cfc2ed6",
            "2c3112527ebd4790b5c9bc7fb84ff494",
            "ce028da02fad43608ca2d68936a66129",
            "8501c54f82c84882a8705833798ecfb4",
            "e39919bc2f864f57abc72184365887ec",
            "5b4e510574df4e6dae68e7cbeda49029",
            "c0047268b94745a8b8010d06f9315199",
            "6cf92f0162f946049b8d67f7a89dfc27",
            "03d73123d0644c8c81d7a0b3f810b8da"
          ]
        },
        "id": "NPjhPiz4-64X",
        "outputId": "5615b85f-ddfb-42c1-abd8-0a3c9bf06f58"
      },
      "outputs": [
        {
          "data": {
            "application/vnd.jupyter.widget-view+json": {
              "model_id": "c0d8e052762f4742a4589527fced5fd2",
              "version_major": 2,
              "version_minor": 0
            },
            "text/plain": [
              "  0%|          | 0/144 [00:00<?, ?it/s]"
            ]
          },
          "metadata": {},
          "output_type": "display_data"
        },
        {
          "ename": "NameError",
          "evalue": "ignored",
          "output_type": "error",
          "traceback": [
            "\u001b[0;31m---------------------------------------------------------------------------\u001b[0m",
            "\u001b[0;31mNameError\u001b[0m                                 Traceback (most recent call last)",
            "\u001b[0;32m<ipython-input-35-a53983f7531a>\u001b[0m in \u001b[0;36m<module>\u001b[0;34m\u001b[0m\n\u001b[1;32m      1\u001b[0m \u001b[0mattn_head_v_all_pos_act_patch_results\u001b[0m \u001b[0;34m=\u001b[0m \u001b[0mpatching\u001b[0m\u001b[0;34m.\u001b[0m\u001b[0mget_act_patch_attn_head_v_all_pos\u001b[0m\u001b[0;34m(\u001b[0m\u001b[0mmodel\u001b[0m\u001b[0;34m,\u001b[0m \u001b[0mcorrupted_tokens\u001b[0m\u001b[0;34m,\u001b[0m \u001b[0mclean_cache\u001b[0m\u001b[0;34m,\u001b[0m \u001b[0mioi_metric\u001b[0m\u001b[0;34m)\u001b[0m\u001b[0;34m\u001b[0m\u001b[0;34m\u001b[0m\u001b[0m\n\u001b[0;32m----> 2\u001b[0;31m imshow(attn_head_out_all_pos_act_patch_results, \n\u001b[0m\u001b[1;32m      3\u001b[0m        \u001b[0myaxis\u001b[0m\u001b[0;34m=\u001b[0m\u001b[0;34m\"Layer\"\u001b[0m\u001b[0;34m,\u001b[0m\u001b[0;34m\u001b[0m\u001b[0;34m\u001b[0m\u001b[0m\n\u001b[1;32m      4\u001b[0m        \u001b[0mxaxis\u001b[0m\u001b[0;34m=\u001b[0m\u001b[0;34m\"Head\"\u001b[0m\u001b[0;34m,\u001b[0m\u001b[0;34m\u001b[0m\u001b[0;34m\u001b[0m\u001b[0m\n\u001b[1;32m      5\u001b[0m        title=\"IOI Metric for 'attn_head_v' Activation Patching (All Pos)\")\n",
            "\u001b[0;31mNameError\u001b[0m: name 'attn_head_out_all_pos_act_patch_results' is not defined"
          ]
        }
      ],
      "source": [
        "attn_head_v_all_pos_act_patch_results = patching.get_act_patch_attn_head_v_all_pos(model, corrupted_tokens, clean_cache, ioi_metric)\n",
        "imshow(attn_head_out_all_pos_act_patch_results, \n",
        "       yaxis=\"Layer\", \n",
        "       xaxis=\"Head\", \n",
        "       title=\"IOI Metric for 'attn_head_v' Activation Patching (All Pos)\")"
      ]
    },
    {
      "cell_type": "code",
      "execution_count": 54,
      "metadata": {
        "colab": {
          "base_uri": "https://localhost:8080/"
        },
        "id": "pPQxJdMc4dtW",
        "outputId": "ff63c382-effd-4a00-d28b-2050f9b3dea3"
      },
      "outputs": [
        {
          "data": {
            "text/plain": [
              "[(12, 15), (13, 1), (13, 6), (15, 15), (16, 13), (17, 0), (17, 10), (17, 7)]"
            ]
          },
          "execution_count": 54,
          "metadata": {},
          "output_type": "execute_result"
        }
      ],
      "source": [
        "nmh_candidates"
      ]
    },
    {
      "cell_type": "markdown",
      "metadata": {
        "id": "Ef1LLrBpfnI0"
      },
      "source": [
        "We can also see what heads are important at what positions for the IOI task."
      ]
    },
    {
      "cell_type": "code",
      "execution_count": null,
      "metadata": {
        "colab": {
          "base_uri": "https://localhost:8080/",
          "height": 574,
          "referenced_widgets": [
            "2b4ed578eab0412cab5191a1cff83364",
            "96ad2b63efe349f2ab068599a0d8c74e",
            "90ca171bbc754e089e502b53713e1188",
            "50c94f552e0f4d90886bc24be7b1e198",
            "df9ccf7fb6b149b6b13a81116f0623e9",
            "063c166bc4b44f0292ca6ff9133cd0b7",
            "fffaff2fb61446a5b900e35345b2b5eb",
            "576a2c6d603d4c0486684a47c115f6c3",
            "eaa96b03fde14c8298310984e35dfda6",
            "82a9834fb9bc44199e454e8b92bbcdee",
            "2fbb8019e37846dab7d6445f91645506"
          ]
        },
        "id": "URF5gwY2fILR",
        "outputId": "5906076a-3d44-4f92-d623-39f2be9d3efa"
      },
      "outputs": [
        {
          "data": {
            "application/vnd.jupyter.widget-view+json": {
              "model_id": "2b4ed578eab0412cab5191a1cff83364",
              "version_major": 2,
              "version_minor": 0
            },
            "text/plain": [
              "  0%|          | 0/2160 [00:00<?, ?it/s]"
            ]
          },
          "metadata": {},
          "output_type": "display_data"
        },
        {
          "data": {
            "text/html": [
              "<html>\n",
              "<head><meta charset=\"utf-8\" /></head>\n",
              "<body>\n",
              "    <div>            <script src=\"https://cdnjs.cloudflare.com/ajax/libs/mathjax/2.7.5/MathJax.js?config=TeX-AMS-MML_SVG\"></script><script type=\"text/javascript\">if (window.MathJax) {MathJax.Hub.Config({SVG: {font: \"STIX-Web\"}});}</script>                <script type=\"text/javascript\">window.PlotlyConfig = {MathJaxConfig: 'local'};</script>\n",
              "        <script src=\"https://cdn.plot.ly/plotly-2.8.3.min.js\"></script>                <div id=\"7ed45f0e-4413-4ebf-a305-5374320b4716\" class=\"plotly-graph-div\" style=\"height:525px; width:100%;\"></div>            <script type=\"text/javascript\">                                    window.PLOTLYENV=window.PLOTLYENV || {};                                    if (document.getElementById(\"7ed45f0e-4413-4ebf-a305-5374320b4716\")) {                    Plotly.newPlot(                        \"7ed45f0e-4413-4ebf-a305-5374320b4716\",                        [{\"coloraxis\":\"coloraxis\",\"name\":\"0\",\"x\":[\"<|endoftext|> 0\",\"When 1\",\" John 2\",\" and 3\",\" Mary 4\",\" went 5\",\" to 6\",\" the 7\",\" shops 8\",\", 9\",\" John 10\",\" gave 11\",\" the 12\",\" bag 13\",\" to 14\"],\"y\":[\"L0H0\",\"L0H1\",\"L0H2\",\"L0H3\",\"L0H4\",\"L0H5\",\"L0H6\",\"L0H7\",\"L0H8\",\"L0H9\",\"L0H10\",\"L0H11\",\"L1H0\",\"L1H1\",\"L1H2\",\"L1H3\",\"L1H4\",\"L1H5\",\"L1H6\",\"L1H7\",\"L1H8\",\"L1H9\",\"L1H10\",\"L1H11\",\"L2H0\",\"L2H1\",\"L2H2\",\"L2H3\",\"L2H4\",\"L2H5\",\"L2H6\",\"L2H7\",\"L2H8\",\"L2H9\",\"L2H10\",\"L2H11\",\"L3H0\",\"L3H1\",\"L3H2\",\"L3H3\",\"L3H4\",\"L3H5\",\"L3H6\",\"L3H7\",\"L3H8\",\"L3H9\",\"L3H10\",\"L3H11\",\"L4H0\",\"L4H1\",\"L4H2\",\"L4H3\",\"L4H4\",\"L4H5\",\"L4H6\",\"L4H7\",\"L4H8\",\"L4H9\",\"L4H10\",\"L4H11\",\"L5H0\",\"L5H1\",\"L5H2\",\"L5H3\",\"L5H4\",\"L5H5\",\"L5H6\",\"L5H7\",\"L5H8\",\"L5H9\",\"L5H10\",\"L5H11\",\"L6H0\",\"L6H1\",\"L6H2\",\"L6H3\",\"L6H4\",\"L6H5\",\"L6H6\",\"L6H7\",\"L6H8\",\"L6H9\",\"L6H10\",\"L6H11\",\"L7H0\",\"L7H1\",\"L7H2\",\"L7H3\",\"L7H4\",\"L7H5\",\"L7H6\",\"L7H7\",\"L7H8\",\"L7H9\",\"L7H10\",\"L7H11\",\"L8H0\",\"L8H1\",\"L8H2\",\"L8H3\",\"L8H4\",\"L8H5\",\"L8H6\",\"L8H7\",\"L8H8\",\"L8H9\",\"L8H10\",\"L8H11\",\"L9H0\",\"L9H1\",\"L9H2\",\"L9H3\",\"L9H4\",\"L9H5\",\"L9H6\",\"L9H7\",\"L9H8\",\"L9H9\",\"L9H10\",\"L9H11\",\"L10H0\",\"L10H1\",\"L10H2\",\"L10H3\",\"L10H4\",\"L10H5\",\"L10H6\",\"L10H7\",\"L10H8\",\"L10H9\",\"L10H10\",\"L10H11\",\"L11H0\",\"L11H1\",\"L11H2\",\"L11H3\",\"L11H4\",\"L11H5\",\"L11H6\",\"L11H7\",\"L11H8\",\"L11H9\",\"L11H10\",\"L11H11\"],\"z\":[[0.0,0.0,0.0,0.0,0.0,0.0,0.0,0.0,0.0,0.0,0.0008391982410103083,0.0006232266314327717,-0.0006776116206310689,-3.8904236134840176e-05,-3.516052311169915e-05],[0.0,0.0,0.0,0.0,0.0,0.0,0.0,0.0,0.0,0.0,0.0013409060193225741,-4.998359509045258e-05,-1.3710075108974706e-05,-0.00018055814143735915,-6.126531661720946e-05],[0.0,0.0,0.0,0.0,0.0,0.0,0.0,0.0,0.0,0.0,0.0001864266669144854,-2.8684917197097093e-05,-3.8752463296987116e-05,-5.2664898248622194e-05,3.2883942822081735e-06],[0.0,0.0,0.0,0.0,0.0,0.0,0.0,0.0,0.0,0.0,0.002434727270156145,-8.605475159129128e-05,2.109631350322161e-05,-0.0002711154520511627,6.647615373367444e-05],[0.0,0.0,0.0,0.0,0.0,0.0,0.0,0.0,0.0,0.0,0.0036423266865313053,0.001411834149621427,-0.0005865989369340241,-0.0002593784302007407,0.0014480064855888486],[0.0,0.0,0.0,0.0,0.0,0.0,0.0,0.0,0.0,0.0,-0.001097008353099227,0.00019973200687672943,-0.00012885447358712554,-5.6509790738346055e-05,7.411534897983074e-05],[0.0,0.0,0.0,0.0,0.0,0.0,0.0,0.0,0.0,0.0,0.00022563444508705288,-0.00011013591574737802,5.033772686147131e-05,0.0002191082458011806,-3.435107282712124e-05],[0.0,0.0,0.0,0.0,0.0,0.0,0.0,0.0,0.0,0.0,0.005148664116859436,-4.052313670399599e-05,3.5919383662985638e-06,-3.1517993193119764e-05,-2.7066014808951877e-05],[0.0,0.0,0.0,0.0,0.0,0.0,0.0,0.0,0.0,0.0,-0.00017868628492578864,0.00033283609081991017,4.365975837572478e-05,-2.635774580994621e-05,-1.9072687791776843e-05],[0.0,0.0,0.0,0.0,0.0,0.0,0.0,0.0,0.0,0.0,0.0060148779302835464,0.001455645659007132,3.435107282712124e-05,-2.8684917197097093e-05,8.969727787189186e-05],[0.0,0.0,0.0,0.0,0.0,0.0,0.0,0.0,0.0,0.0,0.000601371459197253,-0.0003499357553664595,0.0006590448319911957,5.6813336414052173e-05,0.0002498673857189715],[0.0,0.0,0.0,0.0,0.0,0.0,0.0,0.0,0.0,0.0,-2.5143568564089946e-05,-2.4536480850656517e-05,-3.0455590604105964e-05,-1.5126614016480744e-05,-1.9932727809646167e-05],[0.0,0.0,0.0,0.0,0.0,0.0,0.0,0.0,0.0,0.0,-0.0005275090225040913,-0.00011317135795252398,6.075940837035887e-05,-1.0978177670040168e-05,0.00026251503732055426],[0.0,0.0,0.0,0.0,0.0,0.0,0.0,0.0,0.0,0.0,0.00010224376455880702,-5.362612137105316e-05,7.568365981569514e-05,-0.0001364430645480752,-0.0001993778714677319],[0.0,0.0,0.0,0.0,0.0,0.0,0.0,0.0,0.0,0.0,-0.0005150637589395046,0.0035590038169175386,-0.0003348597092553973,0.0004933097516186535,-6.920805026311427e-05],[0.0,0.0,0.0,0.0,0.0,0.0,0.0,0.0,0.0,0.0,-0.0005056538502685726,-0.0002033239434240386,9.865182619250845e-06,-1.5834883015486412e-05,2.3777620299370028e-05],[0.0,0.0,0.0,0.0,0.0,0.0,0.0,0.0,0.0,0.0,-0.0004034606972709298,2.377762029937003e-06,-4.3255033233435825e-05,5.686392614734359e-05,3.7335921660996974e-05],[0.0,0.0,0.0,0.0,0.0,0.0,0.0,0.0,0.0,0.0,-0.00014640943845734,-0.00016194077034015208,8.782542136032134e-05,-4.092786184628494e-05,0.0007528399582952261],[0.0,0.0,0.0,0.0,0.0,0.0,0.0,0.0,0.0,0.0,-0.0028669738676398993,8.109686314128339e-05,2.757192123681307e-05,-4.50257084594341e-06,-2.4536480850656517e-05],[0.0,0.0,0.0,0.0,0.0,0.0,0.0,0.0,0.0,0.0,-0.0005198698490858078,0.00011307017120998353,0.0003489745140541345,-0.00012197413161629811,-0.0001675057428656146],[0.0,0.0,0.0,0.0,0.0,0.0,0.0,0.0,0.0,0.0,-0.0002172869717469439,1.0371089956606738e-05,-2.7774283807957545e-05,2.5851837563095614e-05,-0.0002003896952373907],[0.0,0.0,0.0,0.0,0.0,0.0,0.0,0.0,0.0,0.0,0.00022922638163436204,1.2647670928345178e-06,-1.5126614016480744e-05,-5.5902703024912626e-05,-0.0001537450880277902],[0.0,0.0,0.0,0.0,0.0,0.0,0.0,0.0,0.0,0.0,0.0017969809705391526,-2.7875465093529783e-05,-7.436830401275074e-06,-7.03210480423877e-06,-0.0010301780421286821],[0.0,0.0,0.0,0.0,0.0,0.0,0.0,0.0,0.0,0.0,0.00010082723019877449,-0.0002367643901379779,8.807837730273604e-05,-0.00011438553337939084,0.00046497894800268114],[0.0,0.0,0.0,0.0,0.0,0.0,0.0,0.0,0.0,0.0,0.0006294998456723988,-4.0118411561707035e-05,0.00010224376455880702,-0.0005651484825648367,0.0005864977720193565],[0.0,0.0,0.0,0.0,0.0,0.0,0.0,0.0,0.0,0.0,-0.00056312489323318,0.001444313325919211,-4.973063914803788e-05,-0.0002169834333471954,0.0005127365584485233],[0.0,0.0,0.0,0.0,0.0,0.0,0.0,0.0,0.0,0.0,0.0007726714829914272,-0.000202312134206295,-3.111326805083081e-05,-0.00010831464896909893,0.000662130827549845],[0.0,0.0,0.0,0.0,0.0,0.0,0.0,0.0,0.0,0.0,-3.647588164312765e-05,-0.00048501286073587835,-2.7673102522385307e-05,0.00011984932643827051,0.001633269595913589],[0.0,0.0,0.0,0.0,0.0,0.0,0.0,0.0,0.0,0.0,0.00016052422870416194,-0.0001243013102794066,4.47727543360088e-05,0.00013441944611258805,-0.00013128282444085926],[0.0,0.0,0.0,0.0,0.0,0.0,0.0,0.0,0.0,0.0,0.00014463876141235232,9.364334982819855e-05,-4.097845248907106e-06,4.5531612613558536e-07,0.00012981568579562008],[0.0,0.0,0.0,0.0,0.0,0.0,0.0,0.0,0.0,0.0,0.003372779581695795,1.856677954492625e-05,9.607170795788988e-05,-7.53295244066976e-05,-0.00044337674626149237],[0.0,0.0,0.0,0.0,0.0,0.0,0.0,0.0,0.0,0.0,0.0003478109429124743,-8.706656080903485e-05,1.9679775505210273e-05,-0.00013846669753547758,8.301930938614532e-05],[0.0,0.0,0.0,0.0,0.0,0.0,0.0,0.0,0.0,0.0,-0.0007341213640756905,0.00029094700585119426,-2.7167196094524115e-05,0.00022077772882767022,0.00026023847749456763],[0.0,0.0,0.0,0.0,0.0,0.0,0.0,0.0,0.0,0.0,-0.000338198704412207,-0.0003286876599304378,-0.00026646110927686095,-3.263098915340379e-05,0.0023206451442092657],[0.0,0.0,0.0,0.0,0.0,0.0,0.0,0.0,0.0,0.0,0.0018681620713323355,-0.0003683507675305009,-9.910714288707823e-05,-0.0002958037075586617,-0.0001909292332129553],[0.0,0.0,0.0,0.0,0.0,0.0,0.0,0.0,0.0,0.0,0.000491488492116332,0.0003636964247561991,1.735260411805939e-05,-0.00021010309865232557,0.008741816505789757],[0.0,0.0,0.0,0.0,0.0,0.0,0.0,0.0,0.0,0.0,0.006760938558727503,0.00276250415481627,-0.0001385678770020604,-0.00027404972934164107,-0.0001748919894453138],[0.0,0.0,0.0,0.0,0.0,0.0,0.0,0.0,0.0,0.0,0.0009894019458442926,0.001079858047887683,0.0002514862862881273,6.602083885809407e-05,-0.00044737340067513287],[0.0,0.0,0.0,0.0,0.0,0.0,0.0,0.0,0.0,0.0,0.00011028768494725227,-0.0006743737612850964,0.0004029042029287666,-8.028741285670549e-05,-0.0002901375701185316],[0.0,0.0,0.0,0.0,0.0,0.0,0.0,0.0,0.0,0.0,-0.001771938637830317,-0.00010578511864878237,7.366003410425037e-05,-1.6543153833481483e-05,-4.244558294885792e-05],[0.0,0.0,0.0,0.0,0.0,0.0,0.0,0.0,0.0,0.0,-0.0008068708120845258,-0.000950598914641887,-0.00020266626961529255,-0.00024855200899764895,0.00033754101605154574],[0.0,0.0,0.0,0.0,0.0,0.0,0.0,0.0,0.0,0.0,2.8179008950246498e-05,-2.873550693038851e-05,-0.00011286781227681786,-1.9730366602743743e-06,-6.723501428496093e-05],[0.0,0.0,0.0,0.0,0.0,0.0,0.0,0.0,0.0,0.0,-0.002406952902674675,-0.00024455535458400846,-0.0001072016530088149,-1.795969183149282e-05,-0.00039708625990897417],[0.0,0.0,0.0,0.0,0.0,0.0,0.0,0.0,0.0,0.0,-0.001858853385783732,0.0003370857157278806,1.462070667912485e-05,5.175426849746145e-05,0.00013188990124035627],[0.0,0.0,0.0,0.0,0.0,0.0,0.0,0.0,0.0,0.0,0.0003527182270772755,0.00010487448162166402,-0.00015637579781468958,0.00031482582562603056,1.1686447578540538e-05],[0.0,0.0,0.0,0.0,0.0,0.0,0.0,0.0,0.0,0.0,0.00048329279525205493,0.00015364389400929213,3.0354408409039024e-07,-0.00010042250505648553,0.000517390901222825],[0.0,0.0,0.0,0.0,0.0,0.0,0.0,0.0,0.0,0.0,0.0004741358570754528,2.6560108381090686e-05,2.9848501981177833e-06,9.597052121534944e-05,0.00011089477629866451],[0.0,0.0,0.0,0.0,0.0,0.0,0.0,0.0,0.0,0.0,-0.00033354436163790524,8.155217801686376e-05,2.0691588360932656e-05,8.9545510491007e-06,0.00011873633047798648],[0.0,0.0,0.0,0.0,0.0,0.0,0.0,0.0,0.0,0.0,0.0010160632664337754,0.0009235328761860728,-2.2209309463505633e-05,0.0004985711420886219,0.004255890380591154],[0.0,0.0,0.0,0.0,0.0,0.0,0.0,0.0,0.0,0.0,0.015457729808986187,5.3676714742323384e-05,1.1079358955612406e-05,-3.4047527151415125e-05,8.676302240928635e-05],[0.0,0.0,0.0,0.0,0.0,0.0,0.0,0.0,0.0,0.0,0.0008100073901005089,0.00013371117529459298,-9.920832962961867e-05,-4.9022371968021616e-05,-0.00016755633987486362],[0.0,0.0,0.0,0.0,0.0,0.0,0.0,0.0,0.0,0.0,-3.8803053030278534e-05,-0.0002671187976375222,-6.930923518666532e-06,-0.00011312076821923256,0.0007503104279749095],[0.0,0.0,0.0,0.0,0.0,0.0,0.0,0.0,0.0,0.0,0.001179015845991671,0.00026408335543237627,8.737010648474097e-05,6.956218567211181e-05,2.544711242080666e-05],[0.0,0.0,0.0,0.0,0.0,0.0,0.0,0.0,0.0,0.0,-0.00044737340067513287,-0.00028937868773937225,0.00016548212443012744,0.00012308712757658213,0.0017980433767661452],[0.0,0.0,0.0,0.0,0.0,0.0,0.0,0.0,0.0,0.0,0.05739917606115341,-1.5025432730908506e-05,-2.2614034605794586e-05,-1.9376231648493558e-05,-2.231049074907787e-05],[0.0,0.0,0.0,0.0,0.0,0.0,0.0,0.0,0.0,0.0,-0.0020707272924482822,-0.00020079441310372204,8.398053068958689e-06,-0.00011539734259713441,-0.0001793945557437837],[0.0,0.0,0.0,0.0,0.0,0.0,0.0,0.0,0.0,0.0,0.011487980373203754,2.9747321605100296e-05,-5.312021676218137e-05,-0.000111653636849951,-0.0001672022044658661],[0.0,0.0,0.0,0.0,0.0,0.0,0.0,0.0,0.0,0.0,0.0016355460975319147,-0.00010092840966535732,-0.00011595384421525523,-0.00010942764492938295,-0.0008625711197964847],[0.0,0.0,0.0,0.0,0.0,0.0,0.0,0.0,0.0,0.0,-0.00010548157297307625,-1.9022096239496022e-05,-2.433411827951204e-05,-2.2209309463505633e-05,-5.1298949983902276e-05],[0.0,0.0,0.0,0.0,0.0,0.0,0.0,0.0,0.0,0.0,0.48294076323509216,0.00011301958147669211,4.629047543858178e-05,7.679665577597916e-05,-0.00014828129496891052],[0.0,0.0,0.0,0.0,0.0,0.0,0.0,0.0,0.0,0.0,0.018961185589432716,-3.0404999051825143e-05,-2.0691588360932656e-05,-3.293453482910991e-05,-0.0006639520870521665],[0.0,0.0,0.0,0.0,0.0,0.0,0.0,0.0,0.0,0.0,-0.003870338900014758,0.0003108291421085596,-1.4468934750766493e-05,3.0910905479686335e-05,0.0005472393822856247],[0.0,0.0,0.0,0.0,0.0,0.0,0.0,0.0,0.0,0.0,0.0010634667705744505,-4.674579031416215e-05,-2.180458432121668e-05,-1.988213807635475e-05,-9.091145329875872e-05],[0.0,0.0,0.0,0.0,0.0,0.0,0.0,0.0,0.0,0.0,-0.0022863447666168213,-0.0001179774699267,-6.075940837035887e-05,4.811173857888207e-05,0.0020061228424310684],[0.0,0.0,0.0,0.0,0.0,0.0,0.0,0.0,0.0,0.0,-0.0002620597369968891,-8.37275802041404e-05,-4.558220462058671e-05,-6.339012179523706e-05,-0.0004879471380263567],[0.0,0.0,0.0,0.0,0.0,0.0,0.0,0.0,0.0,0.0,-0.006244104355573654,0.00027850171318277717,0.00016952937585301697,6.829742051195353e-05,-0.0005457722581923008],[0.0,0.0,0.0,0.0,0.0,0.0,0.0,0.0,0.0,0.0,-2.9696730052819476e-05,-4.8465873987879604e-05,-1.6239608157775365e-05,-3.424989336053841e-05,-5.731924102292396e-05],[0.0,0.0,0.0,0.0,0.0,0.0,0.0,0.0,0.0,0.0,0.0014489677269011736,-3.8195965316845104e-05,-2.4030574422795326e-05,-1.8364416973781772e-05,-8.119804260786623e-05],[0.0,0.0,0.0,0.0,0.0,0.0,0.0,0.0,0.0,0.0,0.021052857860922813,0.04255480691790581,0.001888094819150865,0.0014158814447000623,-0.0006389603368006647],[0.0,0.0,0.0,0.0,0.0,0.0,0.0,0.0,0.0,0.0,-0.0004677108663599938,-6.308658339548856e-05,-1.8667960830498487e-05,-2.8482554625952616e-05,-3.8448917621281e-05],[0.0,0.0,0.0,0.0,0.0,0.0,0.0,0.0,0.0,0.0,0.04610242694616318,-6.080999810365029e-05,-3.0303817766252905e-05,-4.527865894488059e-05,-0.00010618984379107133],[0.0,0.0,0.0,0.0,0.0,0.0,0.0,0.0,0.0,0.0,0.003291277913376689,-0.0007940207724459469,0.00036410114262253046,0.0001148408482549712,-0.0027330603916198015],[0.0,0.0,0.0,0.0,0.0,0.0,0.0,0.0,0.0,0.0,-8.362640073755756e-05,-0.00010163668048335239,4.148435982642695e-05,0.0003911165695171803,0.0023203922901302576],[0.0,0.0,0.0,0.0,0.0,0.0,0.0,0.0,0.0,0.0,0.00014716829173266888,-3.632410880527459e-05,-4.411507325130515e-05,1.0573452527751215e-05,-0.0001092758757295087],[0.0,0.0,0.0,0.0,0.0,0.0,0.0,0.0,0.0,0.0,-0.00015192381397355348,-4.6998742618598044e-05,-0.0001922951778396964,-0.00026190796052105725,-0.0047540063969790936],[0.0,0.0,0.0,0.0,0.0,0.0,0.0,0.0,0.0,0.0,-0.000620494713075459,-2.92414133582497e-05,-7.871910202084109e-05,-4.062431617057882e-05,-0.001041358569636941],[0.0,0.0,0.0,0.0,0.0,0.0,0.0,0.0,0.0,0.0,0.0004616399819497019,-0.0001688211050350219,-1.674551640462596e-05,-1.5581930711050518e-05,0.0005453169578686357],[0.0,0.0,0.0,0.0,0.0,0.0,0.0,0.0,0.0,0.0,0.001904536853544414,0.013703801669180393,0.0006915240082889795,0.00026858592173084617,0.08688443899154663],[0.0,0.0,0.0,0.0,0.0,0.0,0.0,0.0,0.0,0.0,0.001180483028292656,0.02803715318441391,0.00013452062557917088,2.3221122319228016e-05,0.38843315839767456],[0.0,0.0,0.0,0.0,0.0,0.0,0.0,0.0,0.0,0.0,-0.0021373045165091753,0.0011764357332140207,8.534648077329621e-05,0.00015920888108666986,0.0018080603331327438],[0.0,0.0,0.0,0.0,0.0,0.0,0.0,0.0,0.0,0.0,0.00035145346191711724,-0.0003257534117437899,1.1028768312826287e-05,-0.00011054064088966697,0.00019866960064973682],[0.0,0.0,0.0,0.0,0.0,0.0,0.0,0.0,0.0,0.0,-3.328867023810744e-05,-2.625656452437397e-05,-2.762251278909389e-05,2.681306114027393e-06,-8.651006282889284e-06],[0.0,0.0,0.0,0.0,0.0,0.0,0.0,0.0,0.0,0.0,-0.0021721108350902796,-7.219290273496881e-05,-2.6458927095518447e-05,-1.0674633813323453e-05,-0.00029651197837665677],[0.0,0.0,0.0,0.0,0.0,0.0,0.0,0.0,0.0,0.0,0.0030330631416291,0.0007525364053435624,-1.335593969997717e-05,-1.3001805200474337e-05,0.018739698454737663],[0.0,0.0,0.0,0.0,0.0,0.0,0.0,0.0,0.0,0.0,0.0015661357901990414,0.00017873688193503767,4.047254549277568e-07,-3.748769449885003e-05,-0.0006968866218812764],[0.0,0.0,0.0,0.0,0.0,0.0,0.0,0.0,0.0,0.0,-5.104599767946638e-05,-2.377762029937003e-06,-0.00010234495130134746,-7.436830401275074e-06,-0.000853313016705215],[0.0,0.0,0.0,0.0,0.0,0.0,0.0,0.0,0.0,0.0,-0.0012749863089993596,0.0011296393349766731,0.00014079386892262846,4.148435891693225e-06,0.06262003630399704],[0.0,0.0,0.0,0.0,0.0,0.0,0.0,0.0,0.0,0.0,6.480666343122721e-05,0.00018733729666564614,-1.988213807635475e-05,-1.9679775505210273e-05,-0.001434599980711937],[0.0,0.0,0.0,0.0,0.0,0.0,0.0,0.0,0.0,0.0,-0.0003723980044014752,0.0002294287405675277,-7.512716547353193e-05,-4.436802919371985e-05,0.004412367474287748],[0.0,0.0,0.0,0.0,0.0,0.0,0.0,0.0,0.0,0.0,0.00017286835645791143,-0.00013472298451233655,-1.0219318028248381e-05,-2.696483352337964e-05,-0.0013052901485934854],[0.0,0.0,0.0,0.0,0.0,0.0,0.0,0.0,0.0,0.0,-0.006284576840698719,0.00011812923912657425,1.9528002667357214e-05,-1.0624042943163658e-06,-0.007031750865280628],[0.0,0.0,0.0,0.0,0.0,0.0,0.0,0.0,0.0,0.0,-0.0008502776036038995,0.00010204140562564135,-8.989964408101514e-05,-1.5834883015486412e-05,0.006199635099619627],[0.0,0.0,0.0,0.0,0.0,0.0,0.0,0.0,0.0,0.0,-0.00023261595924850553,-5.286726081976667e-05,-0.00011575147800613195,-4.5481021516025066e-05,-0.001442340319044888],[0.0,0.0,0.0,0.0,0.0,0.0,0.0,0.0,0.0,0.0,-0.0004219768743496388,0.0017427983693778515,0.00013684779696632177,-6.7791515903081745e-06,0.04685961827635765],[0.0,0.0,0.0,0.0,0.0,0.0,0.0,0.0,0.0,0.0,-0.0009741235990077257,-0.00039106595795601606,-2.7167196094524115e-05,-9.00514169188682e-06,-0.006029296200722456],[0.0,0.0,0.0,0.0,0.0,0.0,0.0,0.0,0.0,0.0,0.0007445430383086205,0.008002636022865772,-4.87188262923155e-05,-2.0084500647499226e-05,0.037921104580163956],[0.0,0.0,0.0,0.0,0.0,0.0,0.0,0.0,0.0,0.0,0.00031401636078953743,-1.1939400792471133e-05,2.529534128825617e-07,-1.8870325220632367e-05,-5.509325274033472e-05],[0.0,0.0,0.0,0.0,0.0,0.0,0.0,0.0,0.0,0.0,-0.00030824902933090925,0.0009009694331325591,-3.996663963334868e-06,6.576788678103185e-07,-1.340653034276329e-05],[0.0,0.0,0.0,0.0,0.0,0.0,0.0,0.0,0.0,0.0,-1.7757329260348342e-05,0.004852101672440767,-2.833078269759426e-06,-2.478943315509241e-06,0.04561230540275574],[0.0,0.0,0.0,0.0,0.0,0.0,0.0,0.0,0.0,0.0,-4.7049334170878865e-06,-1.3102986486046575e-05,-9.612230087441276e-07,5.05906818659696e-08,-3.455343539826572e-05],[0.0,0.0,0.0,0.0,0.0,0.0,0.0,0.0,0.0,0.0,-9.61222940532025e-06,3.961250331485644e-05,2.8988461053813808e-05,-2.7824873995996313e-06,-0.0021148421801626682],[0.0,0.0,0.0,0.0,0.0,0.0,0.0,0.0,0.0,0.0,-5.413202870840905e-06,0.00011382903176127002,-5.317080649547279e-05,-3.677942731883377e-05,0.00025684889988042414],[0.0,0.0,0.0,0.0,0.0,0.0,0.0,0.0,0.0,0.0,-3.323807686683722e-05,-2.0185681933071464e-05,5.05906818659696e-08,-1.669492485234514e-05,0.00056312489323318],[0.0,0.0,0.0,0.0,0.0,0.0,0.0,0.0,0.0,0.0,-0.0015720042865723372,-0.0006995173753239214,-0.00010371089592808858,-1.4317162822408136e-05,0.009395448490977287],[0.0,0.0,0.0,0.0,0.0,0.0,0.0,0.0,0.0,0.0,-2.5953020667657256e-05,-0.00016871992556843907,-5.615565896732733e-06,4.047254549277568e-07,0.01708897575736046],[0.0,0.0,0.0,0.0,0.0,0.0,0.0,0.0,0.0,0.0,0.0008754717418923974,0.01423085480928421,0.0005719782202504575,-1.6037245586630888e-05,0.3597224950790405],[0.0,0.0,0.0,0.0,0.0,0.0,0.0,0.0,0.0,0.0,0.001243873150087893,0.01558946818113327,0.00013011923874728382,-6.42501663605799e-06,0.2634112238883972],[0.0,0.0,0.0,0.0,0.0,0.0,0.0,0.0,0.0,0.0,-2.888727976824157e-05,0.0018304215045645833,-3.1872129966359353e-06,-1.532897658762522e-05,-0.0010239554103463888],[0.0,0.0,0.0,0.0,0.0,0.0,0.0,0.0,0.0,0.0,-2.7824873995996313e-06,1.3659484466188587e-05,-7.588602102259756e-07,1.5177204204519512e-07,0.002651204587891698],[0.0,0.0,0.0,0.0,0.0,0.0,0.0,0.0,0.0,0.0,-0.00011347489635227248,-0.007258750963956118,-2.5750656277523376e-05,7.993327926669735e-06,-0.12019197642803192],[0.0,0.0,0.0,0.0,0.0,0.0,0.0,0.0,0.0,0.0,-2.529534128825617e-07,0.00012081054592272267,0.0,-1.011813637319392e-07,0.005525767337530851],[0.0,0.0,0.0,0.0,0.0,0.0,0.0,0.0,0.0,0.0,-3.6931198792444775e-06,-0.0001311310479650274,5.66109738429077e-05,-0.00012288476864341646,-0.0010095370234921575],[0.0,0.0,0.0,0.0,0.0,0.0,0.0,0.0,0.0,0.0,-5.05906818659696e-08,7.0574002165813e-05,-6.070881681807805e-07,-1.5177204204519512e-07,4.047254606120987e-06],[0.0,0.0,0.0,0.0,0.0,0.0,0.0,0.0,0.0,0.0,0.00013077691255602986,-0.005601248703896999,2.099513221764937e-05,2.175399231418851e-06,-0.09674562513828278],[0.0,0.0,0.0,0.0,0.0,0.0,0.0,0.0,0.0,0.0,5.05906818659696e-08,0.0013238063547760248,0.000157488786499016,1.214176336361561e-06,0.07058437168598175],[0.0,0.0,0.0,0.0,0.0,0.0,0.0,0.0,0.0,0.0,-0.00030511239310726523,-0.0003997675667051226,2.0742179458466126e-06,2.5801248284551548e-06,0.0024160591419786215],[0.0,0.0,0.0,0.0,0.0,0.0,0.0,0.0,0.0,0.0,2.5801248284551548e-06,9.672938176663592e-05,1.365948378406756e-06,-1.5177204204519512e-07,0.004210004583001137],[0.0,0.0,0.0,0.0,0.0,0.0,0.0,0.0,0.0,0.0,-6.070881681807805e-07,0.0016438430175185204,-4.047254549277568e-07,-2.529534128825617e-07,-0.00605939794331789],[0.0,0.0,0.0,0.0,0.0,0.0,0.0,0.0,0.0,0.0,-0.000273341458523646,3.2074491173261777e-05,3.0354408409039024e-07,1.2647670928345178e-06,5.312021585268667e-06],[0.0,0.0,0.0,0.0,0.0,0.0,0.0,0.0,0.0,0.0,-5.413202870840905e-06,-1.9730366602743743e-06,-3.3389849249942927e-06,2.377762029937003e-06,-6.930923518666532e-06],[0.0,0.0,0.0,0.0,0.0,0.0,0.0,0.0,0.0,0.0,0.0,5.05906818659696e-08,0.0,0.0,0.0012225743848830462],[0.0,0.0,0.0,0.0,0.0,0.0,0.0,0.0,0.0,0.0,0.0,4.7707013436593115e-05,7.583542901556939e-05,-5.05906818659696e-08,0.0328475683927536],[0.0,0.0,0.0,0.0,0.0,0.0,0.0,0.0,0.0,0.0,1.011813637319392e-07,0.00013173813931643963,-2.883668912545545e-06,0.0,-0.011126358062028885],[0.0,0.0,0.0,0.0,0.0,0.0,0.0,0.0,0.0,0.0,0.0,-7.588602102259756e-07,5.05906818659696e-08,0.0,-0.0012346149887889624],[0.0,0.0,0.0,0.0,0.0,0.0,0.0,0.0,0.0,0.0,0.00018379594257567078,0.0,0.0,0.0,0.0029020332731306553],[0.0,0.0,0.0,0.0,0.0,0.0,0.0,0.0,0.0,0.0,-7.942737283883616e-06,-1.8870325220632367e-05,1.0118136515302467e-06,-1.568311176924908e-06,-0.0003586879465728998],[0.0,0.0,0.0,0.0,0.0,0.0,0.0,0.0,0.0,0.0,0.0,5.05906818659696e-08,-1.4924251445336267e-05,0.0,-1.5177204204519512e-07],[0.0,0.0,0.0,0.0,0.0,0.0,0.0,0.0,0.0,0.0,0.0,0.0018566274084150791,-7.234467375383247e-06,0.0,0.10253646224737167],[0.0,0.0,0.0,0.0,0.0,0.0,0.0,0.0,0.0,0.0,0.0,-5.772396980319172e-05,0.0,0.0,0.053257063031196594],[0.0,0.0,0.0,0.0,0.0,0.0,0.0,0.0,0.0,0.0,-5.05906818659696e-08,2.478943315509241e-06,0.00014969782205298543,-5.246253567747772e-05,9.156913438346237e-05],[0.0,0.0,0.0,0.0,0.0,0.0,0.0,0.0,0.0,0.0,0.0,7.26988073438406e-05,4.5531612613558536e-07,0.0,0.013540140353143215],[0.0,0.0,0.0,0.0,0.0,0.0,0.0,0.0,0.0,0.0,0.0,0.00033799634547904134,5.05906818659696e-08,0.0,-0.0001816711446736008],[0.0,0.0,0.0,0.0,0.0,0.0,0.0,0.0,0.0,0.0,0.0,0.0,0.0,0.0,0.004510968923568726],[0.0,0.0,0.0,0.0,0.0,0.0,0.0,0.0,0.0,0.0,0.0,0.0,0.0,0.0,-0.0008315590093843639],[0.0,0.0,0.0,0.0,0.0,0.0,0.0,0.0,0.0,0.0,0.0,0.0,0.0,0.0,7.608838495798409e-05],[0.0,0.0,0.0,0.0,0.0,0.0,0.0,0.0,0.0,0.0,0.0,0.0,0.0,0.0,0.0],[0.0,0.0,0.0,0.0,0.0,0.0,0.0,0.0,0.0,0.0,0.0,0.0,0.0,0.0,0.0004154000780545175],[0.0,0.0,0.0,0.0,0.0,0.0,0.0,0.0,0.0,0.0,0.0,0.0,0.0,0.0,-0.0019191575702279806],[0.0,0.0,0.0,0.0,0.0,0.0,0.0,0.0,0.0,0.0,0.0,0.0,0.0,0.0,0.01031250599771738],[0.0,0.0,0.0,0.0,0.0,0.0,0.0,0.0,0.0,0.0,0.0,0.0,0.0,0.0,4.851646372117102e-05],[0.0,0.0,0.0,0.0,0.0,0.0,0.0,0.0,0.0,0.0,0.0,0.0,0.0,0.0,1.315357735620637e-06],[0.0,0.0,0.0,0.0,0.0,0.0,0.0,0.0,0.0,0.0,0.0,0.0,0.0,0.0,0.0044491467997431755],[0.0,0.0,0.0,0.0,0.0,0.0,0.0,0.0,0.0,0.0,0.0,0.0,0.0,0.0,0.0],[0.0,0.0,0.0,0.0,0.0,0.0,0.0,0.0,0.0,0.0,0.0,0.0,0.0,0.0,0.0008502776036038995]],\"type\":\"heatmap\",\"xaxis\":\"x\",\"yaxis\":\"y\",\"hovertemplate\":\"x: %{x}<br>y: %{y}<br>color: %{z}<extra></extra>\"}],                        {\"template\":{\"data\":{\"bar\":[{\"error_x\":{\"color\":\"#2a3f5f\"},\"error_y\":{\"color\":\"#2a3f5f\"},\"marker\":{\"line\":{\"color\":\"#E5ECF6\",\"width\":0.5},\"pattern\":{\"fillmode\":\"overlay\",\"size\":10,\"solidity\":0.2}},\"type\":\"bar\"}],\"barpolar\":[{\"marker\":{\"line\":{\"color\":\"#E5ECF6\",\"width\":0.5},\"pattern\":{\"fillmode\":\"overlay\",\"size\":10,\"solidity\":0.2}},\"type\":\"barpolar\"}],\"carpet\":[{\"aaxis\":{\"endlinecolor\":\"#2a3f5f\",\"gridcolor\":\"white\",\"linecolor\":\"white\",\"minorgridcolor\":\"white\",\"startlinecolor\":\"#2a3f5f\"},\"baxis\":{\"endlinecolor\":\"#2a3f5f\",\"gridcolor\":\"white\",\"linecolor\":\"white\",\"minorgridcolor\":\"white\",\"startlinecolor\":\"#2a3f5f\"},\"type\":\"carpet\"}],\"choropleth\":[{\"colorbar\":{\"outlinewidth\":0,\"ticks\":\"\"},\"type\":\"choropleth\"}],\"contour\":[{\"colorbar\":{\"outlinewidth\":0,\"ticks\":\"\"},\"colorscale\":[[0.0,\"#0d0887\"],[0.1111111111111111,\"#46039f\"],[0.2222222222222222,\"#7201a8\"],[0.3333333333333333,\"#9c179e\"],[0.4444444444444444,\"#bd3786\"],[0.5555555555555556,\"#d8576b\"],[0.6666666666666666,\"#ed7953\"],[0.7777777777777778,\"#fb9f3a\"],[0.8888888888888888,\"#fdca26\"],[1.0,\"#f0f921\"]],\"type\":\"contour\"}],\"contourcarpet\":[{\"colorbar\":{\"outlinewidth\":0,\"ticks\":\"\"},\"type\":\"contourcarpet\"}],\"heatmap\":[{\"colorbar\":{\"outlinewidth\":0,\"ticks\":\"\"},\"colorscale\":[[0.0,\"#0d0887\"],[0.1111111111111111,\"#46039f\"],[0.2222222222222222,\"#7201a8\"],[0.3333333333333333,\"#9c179e\"],[0.4444444444444444,\"#bd3786\"],[0.5555555555555556,\"#d8576b\"],[0.6666666666666666,\"#ed7953\"],[0.7777777777777778,\"#fb9f3a\"],[0.8888888888888888,\"#fdca26\"],[1.0,\"#f0f921\"]],\"type\":\"heatmap\"}],\"heatmapgl\":[{\"colorbar\":{\"outlinewidth\":0,\"ticks\":\"\"},\"colorscale\":[[0.0,\"#0d0887\"],[0.1111111111111111,\"#46039f\"],[0.2222222222222222,\"#7201a8\"],[0.3333333333333333,\"#9c179e\"],[0.4444444444444444,\"#bd3786\"],[0.5555555555555556,\"#d8576b\"],[0.6666666666666666,\"#ed7953\"],[0.7777777777777778,\"#fb9f3a\"],[0.8888888888888888,\"#fdca26\"],[1.0,\"#f0f921\"]],\"type\":\"heatmapgl\"}],\"histogram\":[{\"marker\":{\"pattern\":{\"fillmode\":\"overlay\",\"size\":10,\"solidity\":0.2}},\"type\":\"histogram\"}],\"histogram2d\":[{\"colorbar\":{\"outlinewidth\":0,\"ticks\":\"\"},\"colorscale\":[[0.0,\"#0d0887\"],[0.1111111111111111,\"#46039f\"],[0.2222222222222222,\"#7201a8\"],[0.3333333333333333,\"#9c179e\"],[0.4444444444444444,\"#bd3786\"],[0.5555555555555556,\"#d8576b\"],[0.6666666666666666,\"#ed7953\"],[0.7777777777777778,\"#fb9f3a\"],[0.8888888888888888,\"#fdca26\"],[1.0,\"#f0f921\"]],\"type\":\"histogram2d\"}],\"histogram2dcontour\":[{\"colorbar\":{\"outlinewidth\":0,\"ticks\":\"\"},\"colorscale\":[[0.0,\"#0d0887\"],[0.1111111111111111,\"#46039f\"],[0.2222222222222222,\"#7201a8\"],[0.3333333333333333,\"#9c179e\"],[0.4444444444444444,\"#bd3786\"],[0.5555555555555556,\"#d8576b\"],[0.6666666666666666,\"#ed7953\"],[0.7777777777777778,\"#fb9f3a\"],[0.8888888888888888,\"#fdca26\"],[1.0,\"#f0f921\"]],\"type\":\"histogram2dcontour\"}],\"mesh3d\":[{\"colorbar\":{\"outlinewidth\":0,\"ticks\":\"\"},\"type\":\"mesh3d\"}],\"parcoords\":[{\"line\":{\"colorbar\":{\"outlinewidth\":0,\"ticks\":\"\"}},\"type\":\"parcoords\"}],\"pie\":[{\"automargin\":true,\"type\":\"pie\"}],\"scatter\":[{\"marker\":{\"colorbar\":{\"outlinewidth\":0,\"ticks\":\"\"}},\"type\":\"scatter\"}],\"scatter3d\":[{\"line\":{\"colorbar\":{\"outlinewidth\":0,\"ticks\":\"\"}},\"marker\":{\"colorbar\":{\"outlinewidth\":0,\"ticks\":\"\"}},\"type\":\"scatter3d\"}],\"scattercarpet\":[{\"marker\":{\"colorbar\":{\"outlinewidth\":0,\"ticks\":\"\"}},\"type\":\"scattercarpet\"}],\"scattergeo\":[{\"marker\":{\"colorbar\":{\"outlinewidth\":0,\"ticks\":\"\"}},\"type\":\"scattergeo\"}],\"scattergl\":[{\"marker\":{\"colorbar\":{\"outlinewidth\":0,\"ticks\":\"\"}},\"type\":\"scattergl\"}],\"scattermapbox\":[{\"marker\":{\"colorbar\":{\"outlinewidth\":0,\"ticks\":\"\"}},\"type\":\"scattermapbox\"}],\"scatterpolar\":[{\"marker\":{\"colorbar\":{\"outlinewidth\":0,\"ticks\":\"\"}},\"type\":\"scatterpolar\"}],\"scatterpolargl\":[{\"marker\":{\"colorbar\":{\"outlinewidth\":0,\"ticks\":\"\"}},\"type\":\"scatterpolargl\"}],\"scatterternary\":[{\"marker\":{\"colorbar\":{\"outlinewidth\":0,\"ticks\":\"\"}},\"type\":\"scatterternary\"}],\"surface\":[{\"colorbar\":{\"outlinewidth\":0,\"ticks\":\"\"},\"colorscale\":[[0.0,\"#0d0887\"],[0.1111111111111111,\"#46039f\"],[0.2222222222222222,\"#7201a8\"],[0.3333333333333333,\"#9c179e\"],[0.4444444444444444,\"#bd3786\"],[0.5555555555555556,\"#d8576b\"],[0.6666666666666666,\"#ed7953\"],[0.7777777777777778,\"#fb9f3a\"],[0.8888888888888888,\"#fdca26\"],[1.0,\"#f0f921\"]],\"type\":\"surface\"}],\"table\":[{\"cells\":{\"fill\":{\"color\":\"#EBF0F8\"},\"line\":{\"color\":\"white\"}},\"header\":{\"fill\":{\"color\":\"#C8D4E3\"},\"line\":{\"color\":\"white\"}},\"type\":\"table\"}]},\"layout\":{\"annotationdefaults\":{\"arrowcolor\":\"#2a3f5f\",\"arrowhead\":0,\"arrowwidth\":1},\"autotypenumbers\":\"strict\",\"coloraxis\":{\"colorbar\":{\"outlinewidth\":0,\"ticks\":\"\"}},\"colorscale\":{\"diverging\":[[0,\"#8e0152\"],[0.1,\"#c51b7d\"],[0.2,\"#de77ae\"],[0.3,\"#f1b6da\"],[0.4,\"#fde0ef\"],[0.5,\"#f7f7f7\"],[0.6,\"#e6f5d0\"],[0.7,\"#b8e186\"],[0.8,\"#7fbc41\"],[0.9,\"#4d9221\"],[1,\"#276419\"]],\"sequential\":[[0.0,\"#0d0887\"],[0.1111111111111111,\"#46039f\"],[0.2222222222222222,\"#7201a8\"],[0.3333333333333333,\"#9c179e\"],[0.4444444444444444,\"#bd3786\"],[0.5555555555555556,\"#d8576b\"],[0.6666666666666666,\"#ed7953\"],[0.7777777777777778,\"#fb9f3a\"],[0.8888888888888888,\"#fdca26\"],[1.0,\"#f0f921\"]],\"sequentialminus\":[[0.0,\"#0d0887\"],[0.1111111111111111,\"#46039f\"],[0.2222222222222222,\"#7201a8\"],[0.3333333333333333,\"#9c179e\"],[0.4444444444444444,\"#bd3786\"],[0.5555555555555556,\"#d8576b\"],[0.6666666666666666,\"#ed7953\"],[0.7777777777777778,\"#fb9f3a\"],[0.8888888888888888,\"#fdca26\"],[1.0,\"#f0f921\"]]},\"colorway\":[\"#636efa\",\"#EF553B\",\"#00cc96\",\"#ab63fa\",\"#FFA15A\",\"#19d3f3\",\"#FF6692\",\"#B6E880\",\"#FF97FF\",\"#FECB52\"],\"font\":{\"color\":\"#2a3f5f\"},\"geo\":{\"bgcolor\":\"white\",\"lakecolor\":\"white\",\"landcolor\":\"#E5ECF6\",\"showlakes\":true,\"showland\":true,\"subunitcolor\":\"white\"},\"hoverlabel\":{\"align\":\"left\"},\"hovermode\":\"closest\",\"mapbox\":{\"style\":\"light\"},\"paper_bgcolor\":\"white\",\"plot_bgcolor\":\"#E5ECF6\",\"polar\":{\"angularaxis\":{\"gridcolor\":\"white\",\"linecolor\":\"white\",\"ticks\":\"\"},\"bgcolor\":\"#E5ECF6\",\"radialaxis\":{\"gridcolor\":\"white\",\"linecolor\":\"white\",\"ticks\":\"\"}},\"scene\":{\"xaxis\":{\"backgroundcolor\":\"#E5ECF6\",\"gridcolor\":\"white\",\"gridwidth\":2,\"linecolor\":\"white\",\"showbackground\":true,\"ticks\":\"\",\"zerolinecolor\":\"white\"},\"yaxis\":{\"backgroundcolor\":\"#E5ECF6\",\"gridcolor\":\"white\",\"gridwidth\":2,\"linecolor\":\"white\",\"showbackground\":true,\"ticks\":\"\",\"zerolinecolor\":\"white\"},\"zaxis\":{\"backgroundcolor\":\"#E5ECF6\",\"gridcolor\":\"white\",\"gridwidth\":2,\"linecolor\":\"white\",\"showbackground\":true,\"ticks\":\"\",\"zerolinecolor\":\"white\"}},\"shapedefaults\":{\"line\":{\"color\":\"#2a3f5f\"}},\"ternary\":{\"aaxis\":{\"gridcolor\":\"white\",\"linecolor\":\"white\",\"ticks\":\"\"},\"baxis\":{\"gridcolor\":\"white\",\"linecolor\":\"white\",\"ticks\":\"\"},\"bgcolor\":\"#E5ECF6\",\"caxis\":{\"gridcolor\":\"white\",\"linecolor\":\"white\",\"ticks\":\"\"}},\"title\":{\"x\":0.05},\"xaxis\":{\"automargin\":true,\"gridcolor\":\"white\",\"linecolor\":\"white\",\"ticks\":\"\",\"title\":{\"standoff\":15},\"zerolinecolor\":\"white\",\"zerolinewidth\":2},\"yaxis\":{\"automargin\":true,\"gridcolor\":\"white\",\"linecolor\":\"white\",\"ticks\":\"\",\"title\":{\"standoff\":15},\"zerolinecolor\":\"white\",\"zerolinewidth\":2}}},\"xaxis\":{\"anchor\":\"y\",\"domain\":[0.0,1.0],\"title\":{\"text\":\"Pos\"}},\"yaxis\":{\"anchor\":\"x\",\"domain\":[0.0,1.0],\"autorange\":\"reversed\",\"title\":{\"text\":\"Head Label\"}},\"coloraxis\":{\"colorscale\":[[0.0,\"rgb(103,0,31)\"],[0.1,\"rgb(178,24,43)\"],[0.2,\"rgb(214,96,77)\"],[0.3,\"rgb(244,165,130)\"],[0.4,\"rgb(253,219,199)\"],[0.5,\"rgb(247,247,247)\"],[0.6,\"rgb(209,229,240)\"],[0.7,\"rgb(146,197,222)\"],[0.8,\"rgb(67,147,195)\"],[0.9,\"rgb(33,102,172)\"],[1.0,\"rgb(5,48,97)\"]],\"cmid\":0.0},\"title\":{\"text\":\"attn_head_out Activation Patching By Pos\"}},                        {\"responsive\": true}                    ).then(function(){\n",
              "                            \n",
              "var gd = document.getElementById('7ed45f0e-4413-4ebf-a305-5374320b4716');\n",
              "var x = new MutationObserver(function (mutations, observer) {{\n",
              "        var display = window.getComputedStyle(gd).display;\n",
              "        if (!display || display === 'none') {{\n",
              "            console.log([gd, 'removed!']);\n",
              "            Plotly.purge(gd);\n",
              "            observer.disconnect();\n",
              "        }}\n",
              "}});\n",
              "\n",
              "// Listen for the removal of the full notebook cells\n",
              "var notebookContainer = gd.closest('#notebook-container');\n",
              "if (notebookContainer) {{\n",
              "    x.observe(notebookContainer, {childList: true});\n",
              "}}\n",
              "\n",
              "// Listen for the clearing of the current output cell\n",
              "var outputEl = gd.closest('.output');\n",
              "if (outputEl) {{\n",
              "    x.observe(outputEl, {childList: true});\n",
              "}}\n",
              "\n",
              "                        })                };                            </script>        </div>\n",
              "</body>\n",
              "</html>"
            ]
          },
          "metadata": {},
          "output_type": "display_data"
        }
      ],
      "source": [
        "ALL_HEAD_LABELS = [f\"L{i}H{j}\" for i in range(model.cfg.n_layers) for j in range(model.cfg.n_heads)]\n",
        "if DO_SLOW_RUNS:\n",
        "    attn_head_out_act_patch_results = patching.get_act_patch_attn_head_out_by_pos(model, corrupted_tokens, clean_cache, ioi_metric)\n",
        "    attn_head_out_act_patch_results = einops.rearrange(attn_head_out_act_patch_results, \"layer pos head -> (layer head) pos\")\n",
        "    imshow(attn_head_out_act_patch_results, \n",
        "        yaxis=\"Head Label\", \n",
        "        xaxis=\"Pos\", \n",
        "        x=[f\"{tok} {i}\" for i, tok in enumerate(model.to_str_tokens(clean_tokens[0]))],\n",
        "        y=ALL_HEAD_LABELS,\n",
        "        title=\"attn_head_out Activation Patching By Pos\")"
      ]
    },
    {
      "cell_type": "markdown",
      "metadata": {
        "id": "XqgoTFlwf0DS"
      },
      "source": [
        "### Multiple Activation Types"
      ]
    },
    {
      "cell_type": "code",
      "execution_count": 39,
      "metadata": {
        "colab": {
          "base_uri": "https://localhost:8080/",
          "height": 113,
          "referenced_widgets": [
            "602c4501eb414aa581e8ca2184e4538e",
            "328d32de46c1481abdb54c374d1f3b99",
            "5e72b9c7ddfb4625befa4192483c0e03",
            "27be853b3466452c9e0e56e8c6575baf",
            "21b65c1b3d9348cfa4312944e68fb27f",
            "7f1826b6fa514e35b76413b4f2cd63a0",
            "a34d36e536234c1b80a7f7c84630a0fe",
            "b5b2f26b50dd491cbce2e691a93c8eab",
            "5c829452d6a84b99af3d85a494700efd",
            "8f2de51810554bc19fbd998b642afbf6",
            "86d75c0f3dac4c6db779cdd233817a37",
            "f66cf96287a343b58e54a9566243cf81",
            "d7be1c3d99ab489fa3d5973963f26293",
            "0736a66395f74d03864b10d7adf49050",
            "40221efc4a0c4f719dc27961687d197f",
            "6258b16f96554ba1b1ad4f4a088b21fe",
            "f7121b27df404d4b931d4155b4f3bf2b",
            "683d988be8f543b686c7925a41e6db41",
            "21a949a23ee94003a204d0ff4fa94de8",
            "b48fc3b10fb04f91a208f1ce6b1c8545",
            "b14b36d97d82407a9ab82298389a6654",
            "7a066ee01f144561908b97e77219a4f4",
            "f1a98c62fa2d4a07bc04aa02325419c7",
            "3086ffa9332442c7a31f7910fe07d68d",
            "2670132a6fe9405fa8fa76173fba926b",
            "036142f42e2d41c59676d31416eafc05",
            "bf955d6faede41d2994eb0fcff816f8a",
            "e7a6e1ecbe2f4706907cfade6010b251",
            "f57d5ea194a14665bf3100d6713a5b95",
            "a5f8ac9ebb6a4d7f9e52100af5558d29",
            "2a0516d5e7cf4119b5be3598c676d0d3",
            "d5be392889664f99820954f3ee6bcc07",
            "79ce62cfa86b4a9087ed06403f5aebeb"
          ]
        },
        "id": "FQsuV1gxf5lw",
        "outputId": "0f8770de-b879-4d48-e07e-463103de6f20"
      },
      "outputs": [
        {
          "data": {
            "application/vnd.jupyter.widget-view+json": {
              "model_id": "602c4501eb414aa581e8ca2184e4538e",
              "version_major": 2,
              "version_minor": 0
            },
            "text/plain": [
              "  0%|          | 0/360 [00:00<?, ?it/s]"
            ]
          },
          "metadata": {},
          "output_type": "display_data"
        },
        {
          "data": {
            "application/vnd.jupyter.widget-view+json": {
              "model_id": "f66cf96287a343b58e54a9566243cf81",
              "version_major": 2,
              "version_minor": 0
            },
            "text/plain": [
              "  0%|          | 0/360 [00:00<?, ?it/s]"
            ]
          },
          "metadata": {},
          "output_type": "display_data"
        },
        {
          "data": {
            "application/vnd.jupyter.widget-view+json": {
              "model_id": "f1a98c62fa2d4a07bc04aa02325419c7",
              "version_major": 2,
              "version_minor": 0
            },
            "text/plain": [
              "  0%|          | 0/360 [00:00<?, ?it/s]"
            ]
          },
          "metadata": {},
          "output_type": "display_data"
        }
      ],
      "source": [
        "every_block_result = patching.get_act_patch_block_every(model, corrupted_tokens, clean_cache, ioi_metric)"
      ]
    },
    {
      "cell_type": "code",
      "execution_count": 40,
      "metadata": {
        "colab": {
          "base_uri": "https://localhost:8080/",
          "height": 542
        },
        "id": "8Z3E_ToCekK3",
        "outputId": "c2e85432-4909-4c37-a767-4bad4ee8a3c2"
      },
      "outputs": [
        {
          "data": {
            "text/html": [
              "<html>\n",
              "<head><meta charset=\"utf-8\" /></head>\n",
              "<body>\n",
              "    <div>            <script src=\"https://cdnjs.cloudflare.com/ajax/libs/mathjax/2.7.5/MathJax.js?config=TeX-AMS-MML_SVG\"></script><script type=\"text/javascript\">if (window.MathJax && window.MathJax.Hub && window.MathJax.Hub.Config) {window.MathJax.Hub.Config({SVG: {font: \"STIX-Web\"}});}</script>                <script type=\"text/javascript\">window.PlotlyConfig = {MathJaxConfig: 'local'};</script>\n",
              "        <script src=\"https://cdn.plot.ly/plotly-2.18.2.min.js\"></script>                <div id=\"4d308455-8c3d-4ecf-9bbf-4f76272aebf8\" class=\"plotly-graph-div\" style=\"height:525px; width:100%;\"></div>            <script type=\"text/javascript\">                                    window.PLOTLYENV=window.PLOTLYENV || {};                                    if (document.getElementById(\"4d308455-8c3d-4ecf-9bbf-4f76272aebf8\")) {                    Plotly.newPlot(                        \"4d308455-8c3d-4ecf-9bbf-4f76272aebf8\",                        [{\"coloraxis\":\"coloraxis\",\"name\":\"0\",\"x\":[\"<|endoftext|>_0\",\"When_1\",\" John_2\",\" and_3\",\" Mary_4\",\" went_5\",\" to_6\",\" the_7\",\" shops_8\",\",_9\",\" John_10\",\" gave_11\",\" the_12\",\" bag_13\",\" to_14\"],\"z\":[[0.0,0.0,0.0,0.0,0.0,0.0,0.0,0.0,0.0,0.0,1.0,0.0,0.0,0.0,0.0],[0.0,0.0,0.0,0.0,0.0,0.0,0.0,0.0,0.0,0.0,1.0016489028930664,2.3893155230325647e-05,0.000464501790702343,-0.001739065395668149,-0.000398533622501418],[0.0,0.0,0.0,0.0,0.0,0.0,0.0,0.0,0.0,0.0,1.002601146697998,-0.0017225602641701698,0.0005063671851530671,-0.0013597615761682391,-0.00017794112500268966],[0.0,0.0,0.0,0.0,0.0,0.0,0.0,0.0,0.0,0.0,1.0049543380737305,-0.0021638500038534403,0.00029593976796604693,-0.0013627482112497091,-0.0016595786437392235],[0.0,0.0,0.0,0.0,0.0,0.0,0.0,0.0,0.0,0.0,1.0037050247192383,-0.0002607288188301027,-3.950754035031423e-05,-0.0009845446329563856,-0.002322456566616893],[0.0,0.0,0.0,0.0,0.0,0.0,0.0,0.0,0.0,0.0,1.0028140544891357,0.0016803804319351912,-9.641097676649224e-06,-0.001447788905352354,-0.0029878495261073112],[0.0,0.0,0.0,0.0,0.0,0.0,0.0,0.0,0.0,0.0,0.9991515874862671,0.0033086780458688736,-0.0002477342786733061,-0.0007712877704761922,-0.0035703498870134354],[0.0,0.0,0.0,0.0,0.0,0.0,0.0,0.0,0.0,0.0,0.9936994314193726,0.0061422172002494335,-0.00036615211865864694,-0.00021053222008049488,-0.0022779712453484535],[0.0,0.0,0.0,0.0,0.0,0.0,0.0,0.0,0.0,0.0,0.9908751249313354,0.007704546675086021,1.875822272268124e-05,-0.0007991107413545251,-0.0005787802510894835],[0.0,0.0,0.0,0.0,0.0,0.0,0.0,0.0,0.0,0.0,0.9833521246910095,0.00972461886703968,0.0004154055495746434,-0.0008988227345980704,0.004150387831032276],[0.0,0.0,0.0,0.0,0.0,0.0,0.0,0.0,0.0,0.0,0.9759697914123535,0.004640302155166864,0.0004476298636291176,-0.0017089892644435167,0.013703248463571072],[0.0,0.0,0.0,0.0,0.0,0.0,0.0,0.0,0.0,0.0,0.43079113960266113,0.10450860857963562,0.001729109906591475,-0.0021030690986663103,0.43992212414741516],[0.0,0.0,0.0,0.0,0.0,0.0,0.0,0.0,0.0,0.0,0.26869121193885803,0.11283170431852341,0.0010627213632687926,-0.0038397766184061766,0.6078335046768188],[0.0,0.0,0.0,0.0,0.0,0.0,0.0,0.0,0.0,0.0,0.05090567469596863,0.07586611062288284,-0.00038412437424995005,-0.00117003102786839,0.8700994253158569],[0.0,0.0,0.0,0.0,0.0,0.0,0.0,0.0,0.0,0.0,0.04803100600838661,0.07658284902572632,0.0005200952873565257,-0.0002408178406767547,0.87081378698349],[0.0,0.0,0.0,0.0,0.0,0.0,0.0,0.0,0.0,0.0,0.02362435683608055,0.0700463205575943,-0.00039811444003134966,-0.0005185757763683796,0.9052324891090393],[0.0,0.0,0.0,0.0,0.0,0.0,0.0,0.0,0.0,0.0,0.043110061436891556,0.06956900656223297,-4.9358226533513516e-05,-0.00033911512582562864,0.8872222900390625],[0.0,0.0,0.0,0.0,0.0,0.0,0.0,0.0,0.0,0.0,0.06073844060301781,0.06989976763725281,0.00016515619063284248,0.00023531613987870514,0.8685983419418335],[0.0,0.0,0.0,0.0,0.0,0.0,0.0,0.0,0.0,0.0,0.08232372999191284,0.06846290081739426,4.155103306402452e-05,0.00020665483316406608,0.8487629294395447],[0.0,0.0,0.0,0.0,0.0,0.0,0.0,0.0,0.0,0.0,0.08593133836984634,0.06837419420480728,5.9104120737174526e-05,-5.40739820280578e-05,0.8459338545799255],[0.0,0.0,0.0,0.0,0.0,0.0,0.0,0.0,0.0,0.0,0.07828778028488159,0.062149081379175186,0.00025234525674022734,-9.221919754054397e-06,0.8597721457481384],[0.0,0.0,0.0,0.0,0.0,0.0,0.0,0.0,0.0,0.0,0.0722130760550499,0.06162432208657265,0.00022247880406212062,0.0003294740163255483,0.8655912280082703],[0.0,0.0,0.0,0.0,0.0,0.0,0.0,0.0,0.0,0.0,0.024318043142557144,0.061322830617427826,0.00018485756299924105,0.00013811919779982418,0.9139833450317383],[0.0,0.0,0.0,0.0,0.0,0.0,0.0,0.0,0.0,0.0,0.00018962571630254388,0.0015993742272257805,0.00015740140224806964,0.0006516648572869599,0.9973486661911011]],\"type\":\"heatmap\",\"xaxis\":\"x\",\"yaxis\":\"y\",\"hovertemplate\":\"x: %{x}<br>y: %{y}<br>color: %{z}<extra></extra>\"},{\"coloraxis\":\"coloraxis\",\"name\":\"1\",\"x\":[\"<|endoftext|>_0\",\"When_1\",\" John_2\",\" and_3\",\" Mary_4\",\" went_5\",\" to_6\",\" the_7\",\" shops_8\",\",_9\",\" John_10\",\" gave_11\",\" the_12\",\" bag_13\",\" to_14\"],\"z\":[[0.0,0.0,0.0,0.0,0.0,0.0,0.0,0.0,0.0,0.0,-0.00376369571313262,2.3893155230325647e-05,0.000464501790702343,-0.001739065395668149,-0.000398533622501418],[0.0,0.0,0.0,0.0,0.0,0.0,0.0,0.0,0.0,0.0,-0.0004664404841605574,-0.0017751146806403995,4.5061651690048166e-06,6.078083060856443e-06,0.00023149113985709846],[0.0,0.0,0.0,0.0,0.0,0.0,0.0,0.0,0.0,0.0,-0.0006727285217493773,-0.0015626961831003428,-0.00018024659948423505,-3.825000749202445e-05,-0.0016540769720450044],[0.0,0.0,0.0,0.0,0.0,0.0,0.0,0.0,0.0,0.0,-0.0029471367597579956,0.0009062631870619953,-0.00010730960639193654,-0.0001318315335083753,-0.000411475746659562],[0.0,0.0,0.0,0.0,0.0,0.0,0.0,0.0,0.0,0.0,-0.0034304491709917784,0.00046947953524068,-0.00011150138743687421,-0.0003006031329277903,-0.0015023868763819337],[0.0,0.0,0.0,0.0,0.0,0.0,0.0,0.0,0.0,0.0,-0.009148511104285717,-0.0003608599945437163,-4.810069367522374e-05,0.0003897832939401269,-0.0010406097862869501],[0.0,0.0,0.0,0.0,0.0,0.0,0.0,0.0,0.0,0.0,-0.004651096183806658,-0.0003522668266668916,1.1894179806404281e-05,0.0005327754188328981,0.00048022097325883806],[0.0,0.0,0.0,0.0,0.0,0.0,0.0,0.0,0.0,0.0,0.15551257133483887,-0.001471158117055893,4.6214390749810264e-05,0.0002558034611865878,0.0004995031631551683],[0.0,0.0,0.0,0.0,0.0,0.0,0.0,0.0,0.0,0.0,-0.013670971617102623,-3.311507316539064e-05,0.00014975138765294105,-5.1978091505588964e-05,0.0020518770907074213],[0.0,0.0,0.0,0.0,0.0,0.0,0.0,0.0,0.0,0.0,0.11623207479715347,-0.00024197058519348502,2.8713702704408206e-05,-0.0011314665898680687,0.008976280689239502],[0.0,0.0,0.0,0.0,0.0,0.0,0.0,0.0,0.0,0.0,-0.0021436770912259817,0.07166405767202377,0.00031333568040281534,0.000376369571313262,0.40985390543937683],[0.0,0.0,0.0,0.0,0.0,0.0,0.0,0.0,0.0,0.0,-0.0057013994082808495,0.0014096436789259315,3.552534690243192e-05,0.00029300551977939904,0.06677434593439102],[0.0,0.0,0.0,0.0,0.0,0.0,0.0,0.0,0.0,0.0,-0.00022164045367389917,0.003413786878809333,3.5839730117004365e-05,0.0008755059679970145,-0.031359974294900894],[0.0,0.0,0.0,0.0,0.0,0.0,0.0,0.0,0.0,0.0,-0.0012867720797657967,0.00708185788244009,0.00031595551990903914,0.00018417640239931643,0.04569419100880623],[0.0,0.0,0.0,0.0,0.0,0.0,0.0,0.0,0.0,0.0,-0.0019313633674755692,0.004274097736924887,-0.0002826308773364872,-0.0002534979721531272,-0.03346864879131317],[0.0,0.0,0.0,0.0,0.0,0.0,0.0,0.0,0.0,0.0,-0.000629291171208024,0.004436948336660862,-6.140959885669872e-05,-0.00015383838035631925,0.19074513018131256],[0.0,0.0,0.0,0.0,0.0,0.0,0.0,0.0,0.0,0.0,2.1430483684525825e-05,0.0012753495248034596,-7.04743288224563e-05,-0.0004445384256541729,0.015220463275909424],[0.0,0.0,0.0,0.0,0.0,0.0,0.0,0.0,0.0,0.0,0.0001969613367691636,0.002370295347645879,7.031713175820187e-05,-0.00018077057029586285,0.11530553549528122],[0.0,0.0,0.0,0.0,0.0,0.0,0.0,0.0,0.0,0.0,1.6609934391453862e-05,9.829727787291631e-05,-2.3893155230325647e-05,-4.055548561154865e-05,0.008872481994330883],[0.0,0.0,0.0,0.0,0.0,0.0,0.0,0.0,0.0,0.0,0.0003605980018619448,-0.00039612335967831314,5.072055500932038e-05,-7.974864274729043e-05,0.015136156231164932],[0.0,0.0,0.0,0.0,0.0,0.0,0.0,0.0,0.0,0.0,-0.0006816884852014482,-0.008913561701774597,-5.947090176050551e-05,0.0002878705854527652,-0.08262006938457489],[0.0,0.0,0.0,0.0,0.0,0.0,0.0,0.0,0.0,0.0,0.001119153224863112,0.005083792377263308,1.4985618690843694e-05,-1.4776030184293631e-05,0.043839745223522186],[0.0,0.0,0.0,0.0,0.0,0.0,0.0,0.0,0.0,0.0,8.907535629987251e-06,8.477878145640716e-05,-3.8511992897838354e-05,0.00031401682645082474,0.08114702254533768],[0.0,0.0,0.0,0.0,0.0,0.0,0.0,0.0,0.0,0.0,0.0,0.0,0.0,0.0,0.016655204817652702]],\"type\":\"heatmap\",\"xaxis\":\"x2\",\"yaxis\":\"y2\",\"hovertemplate\":\"x: %{x}<br>y: %{y}<br>color: %{z}<extra></extra>\"},{\"coloraxis\":\"coloraxis\",\"name\":\"2\",\"x\":[\"<|endoftext|>_0\",\"When_1\",\" John_2\",\" and_3\",\" Mary_4\",\" went_5\",\" to_6\",\" the_7\",\" shops_8\",\",_9\",\" John_10\",\" gave_11\",\" the_12\",\" bag_13\",\" to_14\"],\"z\":[[0.0,0.0,0.0,0.0,0.0,0.0,0.0,0.0,0.0,0.0,1.0050641298294067,0.0,0.0,0.0,0.0],[0.0,0.0,0.0,0.0,0.0,0.0,0.0,0.0,0.0,0.0,0.0064705912955105305,-0.00023390140268020332,-0.00021545756317209452,0.00016552297165617347,-0.00043091512634418905],[0.0,0.0,0.0,0.0,0.0,0.0,0.0,0.0,0.0,0.0,-0.0009497004793956876,0.0002257798332720995,8.105857705231756e-05,-0.00010930070129688829,-0.00016693769430276006],[0.0,0.0,0.0,0.0,0.0,0.0,0.0,0.0,0.0,0.0,-0.001965736038982868,0.00033324662945233285,9.77733070612885e-05,-0.00015719181101303548,-0.0008568525081500411],[0.0,0.0,0.0,0.0,0.0,0.0,0.0,0.0,0.0,0.0,-0.006640044040977955,-0.00033848636667244136,0.00061336241196841,-0.0004969356814399362,0.00048289322876371443],[0.0,0.0,0.0,0.0,0.0,0.0,0.0,0.0,0.0,0.0,0.0035246070474386215,0.0018382009584456682,-0.00016468462126795202,-0.0005037473165430129,-0.0009060535812750459],[0.0,0.0,0.0,0.0,0.0,0.0,0.0,0.0,0.0,0.0,0.0011451947502791882,0.0041579329408705235,5.7322613429278135e-05,-1.5509591321460903e-05,0.003046848811209202],[0.0,0.0,0.0,0.0,0.0,0.0,0.0,0.0,0.0,0.0,0.010968267917633057,-6.591576675418764e-05,-0.00040503087802790105,-3.0390416213776916e-05,-0.00047534803161397576],[0.0,0.0,0.0,0.0,0.0,0.0,0.0,0.0,0.0,0.0,0.040631987154483795,-0.0006705802516080439,-0.00011412124877097085,0.000544617185369134,0.00038501512608490884],[0.0,0.0,0.0,0.0,0.0,0.0,0.0,0.0,0.0,0.0,0.03314122185111046,0.0007466610986739397,-0.0006359980325214565,0.0010429676622152328,0.00022363154857885092],[0.0,0.0,0.0,0.0,0.0,0.0,0.0,0.0,0.0,0.0,0.01123758964240551,3.90883615182247e-05,5.7951379858423024e-05,-0.00016358427819795907,-0.009137140586972237],[0.0,0.0,0.0,0.0,0.0,0.0,0.0,0.0,0.0,0.0,0.009638844057917595,0.0039451997727155685,4.810069367522374e-05,0.0022535016760230064,-0.03513975813984871],[0.0,0.0,0.0,0.0,0.0,0.0,0.0,0.0,0.0,0.0,0.004679023753851652,0.00025905208894982934,0.0002608860086183995,0.00031029662932269275,-0.01094075944274664],[0.0,0.0,0.0,0.0,0.0,0.0,0.0,0.0,0.0,0.0,-0.0016774461837485433,-0.00035017094342038035,-1.4252056644181721e-05,0.00015305241686291993,0.0034589008428156376],[0.0,0.0,0.0,0.0,0.0,0.0,0.0,0.0,0.0,0.0,0.0012659180210903287,0.0009431508369743824,6.067603681003675e-05,-3.426781404414214e-05,0.025484563782811165],[0.0,0.0,0.0,0.0,0.0,0.0,0.0,0.0,0.0,0.0,0.0010726768523454666,0.0019772632513195276,6.277192733250558e-05,0.0004722041776403785,0.012165283784270287],[0.0,0.0,0.0,0.0,0.0,0.0,0.0,0.0,0.0,0.0,0.0020270408131182194,0.00041844460065476596,1.2260960829735268e-05,0.0001249150955118239,-0.006734882947057486],[0.0,0.0,0.0,0.0,0.0,0.0,0.0,0.0,0.0,0.0,0.0007312038796953857,0.0010247858008369803,2.892329212045297e-05,-0.00024542881874367595,-0.029071472585201263],[0.0,0.0,0.0,0.0,0.0,0.0,0.0,0.0,0.0,0.0,-0.0016979859210550785,9.43150826060446e-06,-5.072055500932038e-05,-0.00014115824887994677,-0.03516485542058945],[0.0,0.0,0.0,0.0,0.0,0.0,0.0,0.0,0.0,0.0,-0.003275405615568161,-0.0019459297182038426,-6.203836528584361e-05,-7.576645293738693e-05,-0.03047545626759529],[0.0,0.0,0.0,0.0,0.0,0.0,0.0,0.0,0.0,0.0,-0.004454396665096283,-0.0031804093159735203,-8.488357707392424e-06,-0.00013770001532975584,-0.04395376145839691],[0.0,0.0,0.0,0.0,0.0,0.0,0.0,0.0,0.0,0.0,-0.0003849627391900867,0.0008868761942721903,3.6678088690678123e-06,2.4888702682801522e-05,-0.005923144519329071],[0.0,0.0,0.0,0.0,0.0,0.0,0.0,0.0,0.0,0.0,7.697158434893936e-05,0.00024343770928680897,3.5210963687859476e-05,9.850686183199286e-05,0.002440559910610318],[0.0,0.0,0.0,0.0,0.0,0.0,0.0,0.0,0.0,0.0,0.0,0.0,0.0,0.0,-0.031624894589185715]],\"type\":\"heatmap\",\"xaxis\":\"x3\",\"yaxis\":\"y3\",\"hovertemplate\":\"x: %{x}<br>y: %{y}<br>color: %{z}<extra></extra>\"}],                        {\"template\":{\"data\":{\"histogram2dcontour\":[{\"type\":\"histogram2dcontour\",\"colorbar\":{\"outlinewidth\":0,\"ticks\":\"\"},\"colorscale\":[[0.0,\"#0d0887\"],[0.1111111111111111,\"#46039f\"],[0.2222222222222222,\"#7201a8\"],[0.3333333333333333,\"#9c179e\"],[0.4444444444444444,\"#bd3786\"],[0.5555555555555556,\"#d8576b\"],[0.6666666666666666,\"#ed7953\"],[0.7777777777777778,\"#fb9f3a\"],[0.8888888888888888,\"#fdca26\"],[1.0,\"#f0f921\"]]}],\"choropleth\":[{\"type\":\"choropleth\",\"colorbar\":{\"outlinewidth\":0,\"ticks\":\"\"}}],\"histogram2d\":[{\"type\":\"histogram2d\",\"colorbar\":{\"outlinewidth\":0,\"ticks\":\"\"},\"colorscale\":[[0.0,\"#0d0887\"],[0.1111111111111111,\"#46039f\"],[0.2222222222222222,\"#7201a8\"],[0.3333333333333333,\"#9c179e\"],[0.4444444444444444,\"#bd3786\"],[0.5555555555555556,\"#d8576b\"],[0.6666666666666666,\"#ed7953\"],[0.7777777777777778,\"#fb9f3a\"],[0.8888888888888888,\"#fdca26\"],[1.0,\"#f0f921\"]]}],\"heatmap\":[{\"type\":\"heatmap\",\"colorbar\":{\"outlinewidth\":0,\"ticks\":\"\"},\"colorscale\":[[0.0,\"#0d0887\"],[0.1111111111111111,\"#46039f\"],[0.2222222222222222,\"#7201a8\"],[0.3333333333333333,\"#9c179e\"],[0.4444444444444444,\"#bd3786\"],[0.5555555555555556,\"#d8576b\"],[0.6666666666666666,\"#ed7953\"],[0.7777777777777778,\"#fb9f3a\"],[0.8888888888888888,\"#fdca26\"],[1.0,\"#f0f921\"]]}],\"heatmapgl\":[{\"type\":\"heatmapgl\",\"colorbar\":{\"outlinewidth\":0,\"ticks\":\"\"},\"colorscale\":[[0.0,\"#0d0887\"],[0.1111111111111111,\"#46039f\"],[0.2222222222222222,\"#7201a8\"],[0.3333333333333333,\"#9c179e\"],[0.4444444444444444,\"#bd3786\"],[0.5555555555555556,\"#d8576b\"],[0.6666666666666666,\"#ed7953\"],[0.7777777777777778,\"#fb9f3a\"],[0.8888888888888888,\"#fdca26\"],[1.0,\"#f0f921\"]]}],\"contourcarpet\":[{\"type\":\"contourcarpet\",\"colorbar\":{\"outlinewidth\":0,\"ticks\":\"\"}}],\"contour\":[{\"type\":\"contour\",\"colorbar\":{\"outlinewidth\":0,\"ticks\":\"\"},\"colorscale\":[[0.0,\"#0d0887\"],[0.1111111111111111,\"#46039f\"],[0.2222222222222222,\"#7201a8\"],[0.3333333333333333,\"#9c179e\"],[0.4444444444444444,\"#bd3786\"],[0.5555555555555556,\"#d8576b\"],[0.6666666666666666,\"#ed7953\"],[0.7777777777777778,\"#fb9f3a\"],[0.8888888888888888,\"#fdca26\"],[1.0,\"#f0f921\"]]}],\"surface\":[{\"type\":\"surface\",\"colorbar\":{\"outlinewidth\":0,\"ticks\":\"\"},\"colorscale\":[[0.0,\"#0d0887\"],[0.1111111111111111,\"#46039f\"],[0.2222222222222222,\"#7201a8\"],[0.3333333333333333,\"#9c179e\"],[0.4444444444444444,\"#bd3786\"],[0.5555555555555556,\"#d8576b\"],[0.6666666666666666,\"#ed7953\"],[0.7777777777777778,\"#fb9f3a\"],[0.8888888888888888,\"#fdca26\"],[1.0,\"#f0f921\"]]}],\"mesh3d\":[{\"type\":\"mesh3d\",\"colorbar\":{\"outlinewidth\":0,\"ticks\":\"\"}}],\"scatter\":[{\"fillpattern\":{\"fillmode\":\"overlay\",\"size\":10,\"solidity\":0.2},\"type\":\"scatter\"}],\"parcoords\":[{\"type\":\"parcoords\",\"line\":{\"colorbar\":{\"outlinewidth\":0,\"ticks\":\"\"}}}],\"scatterpolargl\":[{\"type\":\"scatterpolargl\",\"marker\":{\"colorbar\":{\"outlinewidth\":0,\"ticks\":\"\"}}}],\"bar\":[{\"error_x\":{\"color\":\"#2a3f5f\"},\"error_y\":{\"color\":\"#2a3f5f\"},\"marker\":{\"line\":{\"color\":\"#E5ECF6\",\"width\":0.5},\"pattern\":{\"fillmode\":\"overlay\",\"size\":10,\"solidity\":0.2}},\"type\":\"bar\"}],\"scattergeo\":[{\"type\":\"scattergeo\",\"marker\":{\"colorbar\":{\"outlinewidth\":0,\"ticks\":\"\"}}}],\"scatterpolar\":[{\"type\":\"scatterpolar\",\"marker\":{\"colorbar\":{\"outlinewidth\":0,\"ticks\":\"\"}}}],\"histogram\":[{\"marker\":{\"pattern\":{\"fillmode\":\"overlay\",\"size\":10,\"solidity\":0.2}},\"type\":\"histogram\"}],\"scattergl\":[{\"type\":\"scattergl\",\"marker\":{\"colorbar\":{\"outlinewidth\":0,\"ticks\":\"\"}}}],\"scatter3d\":[{\"type\":\"scatter3d\",\"line\":{\"colorbar\":{\"outlinewidth\":0,\"ticks\":\"\"}},\"marker\":{\"colorbar\":{\"outlinewidth\":0,\"ticks\":\"\"}}}],\"scattermapbox\":[{\"type\":\"scattermapbox\",\"marker\":{\"colorbar\":{\"outlinewidth\":0,\"ticks\":\"\"}}}],\"scatterternary\":[{\"type\":\"scatterternary\",\"marker\":{\"colorbar\":{\"outlinewidth\":0,\"ticks\":\"\"}}}],\"scattercarpet\":[{\"type\":\"scattercarpet\",\"marker\":{\"colorbar\":{\"outlinewidth\":0,\"ticks\":\"\"}}}],\"carpet\":[{\"aaxis\":{\"endlinecolor\":\"#2a3f5f\",\"gridcolor\":\"white\",\"linecolor\":\"white\",\"minorgridcolor\":\"white\",\"startlinecolor\":\"#2a3f5f\"},\"baxis\":{\"endlinecolor\":\"#2a3f5f\",\"gridcolor\":\"white\",\"linecolor\":\"white\",\"minorgridcolor\":\"white\",\"startlinecolor\":\"#2a3f5f\"},\"type\":\"carpet\"}],\"table\":[{\"cells\":{\"fill\":{\"color\":\"#EBF0F8\"},\"line\":{\"color\":\"white\"}},\"header\":{\"fill\":{\"color\":\"#C8D4E3\"},\"line\":{\"color\":\"white\"}},\"type\":\"table\"}],\"barpolar\":[{\"marker\":{\"line\":{\"color\":\"#E5ECF6\",\"width\":0.5},\"pattern\":{\"fillmode\":\"overlay\",\"size\":10,\"solidity\":0.2}},\"type\":\"barpolar\"}],\"pie\":[{\"automargin\":true,\"type\":\"pie\"}]},\"layout\":{\"autotypenumbers\":\"strict\",\"colorway\":[\"#636efa\",\"#EF553B\",\"#00cc96\",\"#ab63fa\",\"#FFA15A\",\"#19d3f3\",\"#FF6692\",\"#B6E880\",\"#FF97FF\",\"#FECB52\"],\"font\":{\"color\":\"#2a3f5f\"},\"hovermode\":\"closest\",\"hoverlabel\":{\"align\":\"left\"},\"paper_bgcolor\":\"white\",\"plot_bgcolor\":\"#E5ECF6\",\"polar\":{\"bgcolor\":\"#E5ECF6\",\"angularaxis\":{\"gridcolor\":\"white\",\"linecolor\":\"white\",\"ticks\":\"\"},\"radialaxis\":{\"gridcolor\":\"white\",\"linecolor\":\"white\",\"ticks\":\"\"}},\"ternary\":{\"bgcolor\":\"#E5ECF6\",\"aaxis\":{\"gridcolor\":\"white\",\"linecolor\":\"white\",\"ticks\":\"\"},\"baxis\":{\"gridcolor\":\"white\",\"linecolor\":\"white\",\"ticks\":\"\"},\"caxis\":{\"gridcolor\":\"white\",\"linecolor\":\"white\",\"ticks\":\"\"}},\"coloraxis\":{\"colorbar\":{\"outlinewidth\":0,\"ticks\":\"\"}},\"colorscale\":{\"sequential\":[[0.0,\"#0d0887\"],[0.1111111111111111,\"#46039f\"],[0.2222222222222222,\"#7201a8\"],[0.3333333333333333,\"#9c179e\"],[0.4444444444444444,\"#bd3786\"],[0.5555555555555556,\"#d8576b\"],[0.6666666666666666,\"#ed7953\"],[0.7777777777777778,\"#fb9f3a\"],[0.8888888888888888,\"#fdca26\"],[1.0,\"#f0f921\"]],\"sequentialminus\":[[0.0,\"#0d0887\"],[0.1111111111111111,\"#46039f\"],[0.2222222222222222,\"#7201a8\"],[0.3333333333333333,\"#9c179e\"],[0.4444444444444444,\"#bd3786\"],[0.5555555555555556,\"#d8576b\"],[0.6666666666666666,\"#ed7953\"],[0.7777777777777778,\"#fb9f3a\"],[0.8888888888888888,\"#fdca26\"],[1.0,\"#f0f921\"]],\"diverging\":[[0,\"#8e0152\"],[0.1,\"#c51b7d\"],[0.2,\"#de77ae\"],[0.3,\"#f1b6da\"],[0.4,\"#fde0ef\"],[0.5,\"#f7f7f7\"],[0.6,\"#e6f5d0\"],[0.7,\"#b8e186\"],[0.8,\"#7fbc41\"],[0.9,\"#4d9221\"],[1,\"#276419\"]]},\"xaxis\":{\"gridcolor\":\"white\",\"linecolor\":\"white\",\"ticks\":\"\",\"title\":{\"standoff\":15},\"zerolinecolor\":\"white\",\"automargin\":true,\"zerolinewidth\":2},\"yaxis\":{\"gridcolor\":\"white\",\"linecolor\":\"white\",\"ticks\":\"\",\"title\":{\"standoff\":15},\"zerolinecolor\":\"white\",\"automargin\":true,\"zerolinewidth\":2},\"scene\":{\"xaxis\":{\"backgroundcolor\":\"#E5ECF6\",\"gridcolor\":\"white\",\"linecolor\":\"white\",\"showbackground\":true,\"ticks\":\"\",\"zerolinecolor\":\"white\",\"gridwidth\":2},\"yaxis\":{\"backgroundcolor\":\"#E5ECF6\",\"gridcolor\":\"white\",\"linecolor\":\"white\",\"showbackground\":true,\"ticks\":\"\",\"zerolinecolor\":\"white\",\"gridwidth\":2},\"zaxis\":{\"backgroundcolor\":\"#E5ECF6\",\"gridcolor\":\"white\",\"linecolor\":\"white\",\"showbackground\":true,\"ticks\":\"\",\"zerolinecolor\":\"white\",\"gridwidth\":2}},\"shapedefaults\":{\"line\":{\"color\":\"#2a3f5f\"}},\"annotationdefaults\":{\"arrowcolor\":\"#2a3f5f\",\"arrowhead\":0,\"arrowwidth\":1},\"geo\":{\"bgcolor\":\"white\",\"landcolor\":\"#E5ECF6\",\"subunitcolor\":\"white\",\"showland\":true,\"showlakes\":true,\"lakecolor\":\"white\"},\"title\":{\"x\":0.05},\"mapbox\":{\"style\":\"light\"}}},\"xaxis\":{\"anchor\":\"y\",\"domain\":[0.0,0.31999999999999995],\"title\":{\"text\":\"Position\"}},\"yaxis\":{\"anchor\":\"x\",\"domain\":[0.0,1.0],\"autorange\":\"reversed\",\"title\":{\"text\":\"Layer\"}},\"xaxis2\":{\"anchor\":\"y2\",\"domain\":[0.33999999999999997,0.6599999999999999],\"matches\":\"x\",\"title\":{\"text\":\"Position\"}},\"yaxis2\":{\"anchor\":\"x2\",\"domain\":[0.0,1.0],\"matches\":\"y\",\"showticklabels\":false},\"xaxis3\":{\"anchor\":\"y3\",\"domain\":[0.6799999999999999,0.9999999999999999],\"matches\":\"x\",\"title\":{\"text\":\"Position\"}},\"yaxis3\":{\"anchor\":\"x3\",\"domain\":[0.0,1.0],\"matches\":\"y\",\"showticklabels\":false},\"annotations\":[{\"font\":{},\"showarrow\":false,\"text\":\"Residual Stream\",\"x\":0.15999999999999998,\"xanchor\":\"center\",\"xref\":\"paper\",\"y\":1.0,\"yanchor\":\"bottom\",\"yref\":\"paper\"},{\"font\":{},\"showarrow\":false,\"text\":\"Attn Output\",\"x\":0.49999999999999994,\"xanchor\":\"center\",\"xref\":\"paper\",\"y\":1.0,\"yanchor\":\"bottom\",\"yref\":\"paper\"},{\"font\":{},\"showarrow\":false,\"text\":\"MLP Output\",\"x\":0.8399999999999999,\"xanchor\":\"center\",\"xref\":\"paper\",\"y\":1.0,\"yanchor\":\"bottom\",\"yref\":\"paper\"}],\"coloraxis\":{\"colorscale\":[[0.0,\"rgb(103,0,31)\"],[0.1,\"rgb(178,24,43)\"],[0.2,\"rgb(214,96,77)\"],[0.3,\"rgb(244,165,130)\"],[0.4,\"rgb(253,219,199)\"],[0.5,\"rgb(247,247,247)\"],[0.6,\"rgb(209,229,240)\"],[0.7,\"rgb(146,197,222)\"],[0.8,\"rgb(67,147,195)\"],[0.9,\"rgb(33,102,172)\"],[1.0,\"rgb(5,48,97)\"]],\"cmid\":0.0,\"cmin\":-1,\"cmax\":1},\"title\":{\"text\":\"Activation Patching Per Block\"}},                        {\"responsive\": true}                    ).then(function(){\n",
              "                            \n",
              "var gd = document.getElementById('4d308455-8c3d-4ecf-9bbf-4f76272aebf8');\n",
              "var x = new MutationObserver(function (mutations, observer) {{\n",
              "        var display = window.getComputedStyle(gd).display;\n",
              "        if (!display || display === 'none') {{\n",
              "            console.log([gd, 'removed!']);\n",
              "            Plotly.purge(gd);\n",
              "            observer.disconnect();\n",
              "        }}\n",
              "}});\n",
              "\n",
              "// Listen for the removal of the full notebook cells\n",
              "var notebookContainer = gd.closest('#notebook-container');\n",
              "if (notebookContainer) {{\n",
              "    x.observe(notebookContainer, {childList: true});\n",
              "}}\n",
              "\n",
              "// Listen for the clearing of the current output cell\n",
              "var outputEl = gd.closest('.output');\n",
              "if (outputEl) {{\n",
              "    x.observe(outputEl, {childList: true});\n",
              "}}\n",
              "\n",
              "                        })                };                            </script>        </div>\n",
              "</body>\n",
              "</html>"
            ]
          },
          "metadata": {},
          "output_type": "display_data"
        }
      ],
      "source": [
        "imshow(every_block_result, facet_col=0, facet_labels=[\"Residual Stream\", \"Attn Output\", \"MLP Output\"], title=\"Activation Patching Per Block\", xaxis=\"Position\", yaxis=\"Layer\", zmax=1, zmin=-1, x= [f\"{tok}_{i}\" for i, tok in enumerate(model.to_str_tokens(clean_tokens[0]))])"
      ]
    },
    {
      "cell_type": "markdown",
      "metadata": {
        "id": "V9n6o1VlhV4u"
      },
      "source": [
        "### Head Component Output"
      ]
    },
    {
      "cell_type": "markdown",
      "metadata": {
        "id": "A53DRj-BhZoZ"
      },
      "source": [
        "We can decompose the heads and patch different components, such as query, key, value, and attention pattern parts. Doing so here helps us to understand the role of L7H5; unlike the NMH L8H10, the value rather than the attention pattern is what's important. (We also see this for the negative NMH L9H1.)"
      ]
    },
    {
      "cell_type": "code",
      "execution_count": 41,
      "metadata": {
        "colab": {
          "base_uri": "https://localhost:8080/",
          "height": 177,
          "referenced_widgets": [
            "26c3d5bd9e1647f595876e002d2966eb",
            "88cbd34e862249358bd79e954329ecd1",
            "399150bbe9094151bc4ae1b0931f190a",
            "5172078f4d5a427683a50ba9bc25c8b8",
            "9cca112c232d42bdb58db0c330781123",
            "ae276f634dd24e7f822595005cddbc12",
            "e618111b331e480a85044fd486dd8161",
            "9d5c92e3d69242e3ae64346c191c4f21",
            "27f3ea7e12234601bbe50690046ba0b3",
            "98e92c91ddad49eda841ce9284645cb0",
            "a2a4344d4b964cf4a39f13c399527dc3",
            "b23559ddd10a429399c6bc598921d93f",
            "b9f450da5bba457487a4afce7155619a",
            "59c64e631b2d484ca1dde20f98110f38",
            "3e4a8e1fc0c04a9cad02430a84ce11b0",
            "a291a67b85a048a4813fef7448c9beb9",
            "58f7d1d77afa4ef79934d7088318e738",
            "974c980012c54025b555cd279e9e5137",
            "5cfb1b95de404788886927fab6cbce9c",
            "90072e04f47d452b822996c94f5d1454",
            "7c2aa5c31e4540ed90482985a33b964c",
            "671bde82c5144c469e7925fac53d3f73",
            "2da9f362c069434cbdda463c45e2601a",
            "4fd1a8c0194e401f8dcc9c565b8a647f",
            "bef1d7dd5c9a4ef5854260b6114da816",
            "b05a63468ede41958f74213a1202cc7b",
            "0345c53d78144d53b67e92b120e780c2",
            "44920bf707aa4e4fb33095afe68d6d69",
            "a1b7d0e5234a4e7380cb62627ecea653",
            "17e7f405110c4c70a98c6a904a2a8c0f",
            "9e420c3d885344a1ba4de5662871c8bd",
            "88c6b0078cf5448c8e22c88a6bc9f509",
            "d3cdc1c9d2694be8bbfc572f562ec156",
            "b9313f6e024748fa9e8c7d2062965f10",
            "ae5d57a94aa64d068640d13ac957f3fd",
            "03c2cf0dd0d642a9aa25237dceeabfde",
            "4f168d4beb0e4aa783b7ef30c77b6b17",
            "b800e027bc1647ae8995b81d90d05fc9",
            "6f00c70935cd4d60bcf175bfe4807413",
            "c7c913d51ae441bc803bbdb370fa601d",
            "a2aeaa74dab24e50ac87c6ce0b6f68e6",
            "07e020d75ac040598f5e06be2a0054bf",
            "0ca6f2e4b58a4a769ee210f6d6dca658",
            "5d101ac531cd465783ee652e2bcbef23",
            "8293fdaa449041dd91c3862e1943cfe1",
            "cb9cbb82b51f4aaa8c4dae757cf40bb0",
            "a3fef7f9e85f49b3a86bd43fd553df22",
            "70d12c17ab324ff18c7a4ad4d78b67b9",
            "6e1f06a5deae4879bd60bc126b60d31e",
            "a552fcd1d88d4fa296e393e4029c5b6c",
            "44a8e45d831f48eaa69feaf4befefb8d",
            "25a1823126c24e5f80e857c150cd3dbd",
            "8701485f90df4f3585d5d2b250d208ea",
            "d844fcad02e4431f9ff9c83c81128764",
            "ed46d385f1b04cecac5195ef56a4d3ee"
          ]
        },
        "id": "JNsdY7NogO3A",
        "outputId": "6b620ed5-cec5-4b3d-ee45-bf2bdcec0bde"
      },
      "outputs": [
        {
          "data": {
            "application/vnd.jupyter.widget-view+json": {
              "model_id": "26c3d5bd9e1647f595876e002d2966eb",
              "version_major": 2,
              "version_minor": 0
            },
            "text/plain": [
              "  0%|          | 0/384 [00:00<?, ?it/s]"
            ]
          },
          "metadata": {},
          "output_type": "display_data"
        },
        {
          "data": {
            "application/vnd.jupyter.widget-view+json": {
              "model_id": "b23559ddd10a429399c6bc598921d93f",
              "version_major": 2,
              "version_minor": 0
            },
            "text/plain": [
              "  0%|          | 0/384 [00:00<?, ?it/s]"
            ]
          },
          "metadata": {},
          "output_type": "display_data"
        },
        {
          "data": {
            "application/vnd.jupyter.widget-view+json": {
              "model_id": "2da9f362c069434cbdda463c45e2601a",
              "version_major": 2,
              "version_minor": 0
            },
            "text/plain": [
              "  0%|          | 0/384 [00:00<?, ?it/s]"
            ]
          },
          "metadata": {},
          "output_type": "display_data"
        },
        {
          "data": {
            "application/vnd.jupyter.widget-view+json": {
              "model_id": "b9313f6e024748fa9e8c7d2062965f10",
              "version_major": 2,
              "version_minor": 0
            },
            "text/plain": [
              "  0%|          | 0/384 [00:00<?, ?it/s]"
            ]
          },
          "metadata": {},
          "output_type": "display_data"
        },
        {
          "data": {
            "application/vnd.jupyter.widget-view+json": {
              "model_id": "8293fdaa449041dd91c3862e1943cfe1",
              "version_major": 2,
              "version_minor": 0
            },
            "text/plain": [
              "  0%|          | 0/384 [00:00<?, ?it/s]"
            ]
          },
          "metadata": {},
          "output_type": "display_data"
        }
      ],
      "source": [
        "every_head_all_pos_act_patch_result = patching.get_act_patch_attn_head_all_pos_every(model, corrupted_tokens, clean_cache, ioi_metric)\n",
        "# [markdown]\n",
        "# We can also do by head *and* by position. This is a bit slow, but it can give useful + fine-grained detail"
      ]
    },
    {
      "cell_type": "code",
      "execution_count": 48,
      "metadata": {
        "colab": {
          "base_uri": "https://localhost:8080/",
          "height": 542
        },
        "id": "XAHCMeepfP9V",
        "outputId": "40bf8210-85a4-461d-d48e-a2a994178a86"
      },
      "outputs": [
        {
          "data": {
            "text/html": [
              "<html>\n",
              "<head><meta charset=\"utf-8\" /></head>\n",
              "<body>\n",
              "    <div>            <script src=\"https://cdnjs.cloudflare.com/ajax/libs/mathjax/2.7.5/MathJax.js?config=TeX-AMS-MML_SVG\"></script><script type=\"text/javascript\">if (window.MathJax && window.MathJax.Hub && window.MathJax.Hub.Config) {window.MathJax.Hub.Config({SVG: {font: \"STIX-Web\"}});}</script>                <script type=\"text/javascript\">window.PlotlyConfig = {MathJaxConfig: 'local'};</script>\n",
              "        <script src=\"https://cdn.plot.ly/plotly-2.18.2.min.js\"></script>                <div id=\"fd94df4e-565e-40fb-8cca-9d08bd58bb60\" class=\"plotly-graph-div\" style=\"height:525px; width:100%;\"></div>            <script type=\"text/javascript\">                                    window.PLOTLYENV=window.PLOTLYENV || {};                                    if (document.getElementById(\"fd94df4e-565e-40fb-8cca-9d08bd58bb60\")) {                    Plotly.newPlot(                        \"fd94df4e-565e-40fb-8cca-9d08bd58bb60\",                        [{\"coloraxis\":\"coloraxis\",\"name\":\"0\",\"z\":[[-3.6678088690678123e-06,0.00046832679072394967,-8.593151869717985e-05,-0.001616141409613192,-0.0003618555492721498,8.991371578304097e-05,-0.00018883975280914456,-0.0003946038195863366,-0.00023327264352701604,-0.0008373083546757698,-0.0011155378306284547,-0.0002816353226080537,-6.544419011333957e-05,0.0001095626867027022,-0.0008552282233722508,-2.724657861108426e-06],[-9.101405885303393e-05,-0.00014220619050320238,-0.0011281132465228438,-9.049008076544851e-05,0.0004892332945019007,-0.00018999249732587487,-5.307843457558192e-05,0.00012245241669006646,-0.00019575619080569595,0.00042714254232123494,-0.0005743264337070286,-0.0011979063274338841,0.000890648749191314,-0.00021896818361710757,-3.65208979928866e-05,-9.504864283371717e-05],[0.0012597350869327784,1.0374658813816495e-05,-0.00029426306718960404,0.0002277185267303139,7.126028503989801e-05,-0.0006140960031189024,-3.783082865993492e-05,-0.0018700584769248962,0.00011401645315345377,-0.00012281919771339744,-0.00022174524201545864,0.00080953782889992,-0.0014451167080551386,-0.0014093817444518209,-4.584760972647928e-05,-0.00043332541827112436],[7.152227044571191e-05,0.002325600478798151,0.000629291171208024,-0.0006608867552131414,-0.00032538705272600055,-0.001623529358766973,-0.0002023582492256537,-0.0001454548182664439,0.0003655757464002818,-1.3937673429609276e-05,-6.104281783336774e-05,0.0013877940364181995,0.0011629574000835419,-0.003609019098803401,-2.2635620553046465e-05,-0.001404037233442068],[-0.00016714728553779423,-0.0011429416481405497,-0.0006325922440737486,0.00011747467942768708,-0.0001144356356235221,-0.0002738805196713656,0.00027828189195133746,-0.0004874517908319831,0.00018475277465768158,-0.0012204896192997694,1.6400344975409098e-05,2.6198633804597193e-06,-0.00027891065110452473,0.00045805692207068205,-0.000377627118723467,0.00020110071636736393],[-0.0007808764930814505,-1.75530858541606e-05,0.0006851466605439782,-8.750343840802088e-05,-0.0001104534458136186,0.0015182108618319035,-0.0014385145623236895,3.793562427745201e-05,-0.004892961587756872,-0.0003930319217033684,-0.00028022058540955186,-0.0010336933191865683,0.0027431542985141277,-0.00013078357733320445,8.79226136021316e-05,0.00033827676088549197],[5.52267229068093e-05,-3.154315709252842e-05,3.374383959453553e-05,0.00024626715457998216,-0.00030516169499605894,9.557262092130259e-05,3.950754035031423e-05,-7.65000095270807e-06,-0.0005990055506117642,-0.00041310006054118276,0.0010802220785990357,-0.0001759500300977379,0.0012099053710699081,-0.0034289297182112932,-0.000212208935408853,-8.991371578304097e-05],[-0.0006051360396668315,-0.00011957056995015591,-3.311507316539064e-05,-0.010272851213812828,0.00012501988385338336,-0.00014126303722150624,-0.003531733062118292,-0.00020880311785731465,0.007464724592864513,-7.65000149840489e-05,0.0005588692729361355,0.0005808761343359947,-0.0003736973158083856,-0.0015697174239903688,-0.000898665573913604,-0.00081299600424245],[-0.0002369404537603259,0.001641920767724514,-0.0010671227937564254,-0.0014943700516596437,0.0005339805502444506,0.0048659248277544975,-0.00468405382707715,-0.002116902032867074,-0.0007840727339498699,0.0001822376943891868,-0.0003027514321729541,0.0008248378289863467,5.941850395174697e-05,-0.00061336241196841,-0.007317697629332542,0.00020916989888064563],[0.00024762950488366187,0.13762451708316803,-0.0002097462711390108,0.0007149083539843559,0.0023043269757181406,-5.250206231721677e-05,0.0009710261947475374,0.0007170566241256893,0.004306426737457514,-0.006433650851249695,3.201473009539768e-05,0.0003356045053806156,5.4440763051388785e-05,-0.001832175301387906,0.001473149168305099,-0.002312605967745185],[0.0013119227951392531,-0.000225151059566997,-0.003689553588628769,-0.0004960449296049774,8.818460628390312e-05,0.007129696197807789,-2.3840757421567105e-05,0.5020562410354614,-0.0002867178409360349,-5.941850395174697e-05,0.0010020453482866287,-0.00021985893545206636,-0.00015383838035631925,-0.0003727541770786047,-0.0018894454697147012,0.00015572468691971153],[-0.0002888137532863766,-0.0007001847261562943,-0.034946829080581665,0.0017347163520753384,0.0013024912914261222,0.001781350001692772,0.005604202393442392,4.71575413030223e-06,0.05902877077460289,-0.005638365168124437,-0.0003099822497460991,-0.003388636279851198,0.00012260960647836328,-0.0019735954701900482,0.015986930578947067,0.028221536427736282],[-0.0002333774318685755,0.007407716475427151,-0.00048294561565853655,-0.005206768866628408,-0.0003135976439807564,-0.04909723624587059,0.0009772090706974268,-0.07135742902755737,0.025409530848264694,-0.0015305766137316823,-0.0006541275070048869,0.017700111493468285,-0.0008997658733278513,6.434384704334661e-05,-0.0016028848476707935,0.06031114235520363],[0.0024508298374712467,0.00416799308732152,0.004483634140342474,-0.036977119743824005,3.4582196803967236e-06,0.00012229522690176964,0.06856518238782883,0.0006687463610433042,0.009351235814392567,-0.005107004661113024,-3.353425199748017e-06,0.0061688353307545185,0.0004904384259134531,0.00042871444020420313,-0.00037825587787665427,0.0021928781643509865],[-0.00019832365796901286,-0.003265607403591275,-5.5121927289292216e-05,9.431508374291298e-07,-0.0006423381273634732,-0.0007558306097052991,0.04215569794178009,-0.0006461107404902577,0.020692309364676476,0.012253206223249435,1.5404797522933222e-05,-0.05852166935801506,-0.012647495605051517,0.00026020483346655965,-0.0319359265267849,0.0013953916495665908],[-7.917227048892528e-05,0.0014335892628878355,0.0,7.262261351570487e-05,-0.00018370481848251075,-0.0001888921542558819,-0.00018883975280914456,0.0012627742253243923,-1.9491784769343212e-05,0.0003426781331654638,-0.011430359445512295,0.016292458400130272,-0.0024909137282520533,-0.00012014693493256345,0.00812702625989914,0.1782110184431076],[0.0002254130522487685,-0.006721940822899342,-7.335617624448787e-07,-0.001961125060915947,5.302603676682338e-05,0.00010322262096451595,-0.006037842016667128,0.0007140699890442193,-1.1003426152456086e-06,-1.0165070307266433e-05,0.00011679351155180484,-0.00021409524197224528,-0.003786645829677582,0.035277508199214935,-0.00022509867267217487,-0.0014115824596956372],[-0.01300133392214775,0.0018441218417137861,0.0,-1.4880823982821312e-05,-0.00010107432899530977,4.464247467694804e-05,-0.001057953224517405,0.1155947670340538,0.000559602805878967,1.2208563930471428e-05,0.01582161709666252,-0.009957104921340942,-5.8003777667181566e-05,0.008036169223487377,2.8713702704408206e-05,0.00011600755533436313],[-0.0007479186169803143,0.00038831616984680295,0.0012567484518513083,-6.643973756581545e-05,0.0005452983896248043,-6.968836532905698e-05,0.0017553608631715178,1.0479453749212553e-07,0.0001422585773980245,0.005759664811193943,-0.00039947679033502936,0.0009672535816207528,3.4372609661659226e-05,-0.0004296576080378145,-7.07363142282702e-05,-0.00010421816841699183],[-1.1108220860478468e-05,0.015531493350863457,-0.0021629068069159985,-0.00017107708845287561,-3.0233224606490694e-05,0.0009216679609380662,0.0013679354451596737,4.071267903782427e-05,5.9104120737174526e-05,0.0001658373512327671,-1.9282195353298448e-05,-0.00013764762843493372,-4.25465805165004e-05,-0.00116405775770545,0.0002056592784356326,-2.8451717298594303e-05],[0.0006739336531609297,-0.09478555619716644,6.853562808828428e-05,0.0010618306696414948,-0.00012984043860342354,-5.1558912673499435e-05,-9.43150826060446e-06,-0.00034875620622187853,0.0010264625307172537,-5.4597952839685604e-05,-0.0006476302514784038,0.0007533155148848891,2.116849645972252e-05,0.00027644800138659775,7.670959894312546e-05,-1.6295551176881418e-05],[-0.00034697470255196095,7.639521936653182e-05,1.9491784769343212e-05,0.043169062584638596,-0.00018071818340104073,0.00012758735101670027,0.003555154660716653,-0.000155829475261271,-1.4671235248897574e-06,-7.461370842065662e-05,0.0028464291244745255,-2.5727058527991176e-05,6.979316094657406e-05,-6.989795656409115e-05,0.002071473514661193,-0.0006840987480245531],[5.035377398598939e-05,0.00102661969140172,0.0698612779378891,-7.230823393911123e-05,-0.00015425756282638758,-9.326713552582078e-06,-0.0005904124118387699,0.00208604009822011,3.625890894909389e-05,0.0011393262539058924,0.008196871727705002,-0.00010112673044204712,0.0003865870530717075,-2.122089426848106e-05,-1.8077058484777808e-05,-0.0003208284906577319],[0.0006095897988416255,-6.544419011333957e-05,0.0022988778073340654,3.1438362384506036e-06,6.0833230236312374e-05,0.0010170310270041227,1.0898631444433704e-05,-3.982192538387608e-06,-8.173973583325278e-06,0.00841615442186594,0.00153534475248307,6.120000762166455e-05,-1.0479453749212553e-07,-4.9986992962658405e-05,0.0020101163536310196,0.000746294273994863]],\"type\":\"heatmap\",\"xaxis\":\"x\",\"yaxis\":\"y\",\"hovertemplate\":\"x: %{x}<br>y: %{y}<br>color: %{z}<extra></extra>\"},{\"coloraxis\":\"coloraxis\",\"name\":\"1\",\"z\":[[-3.5106170344079146e-06,0.0004665452870540321,0.0003555678704287857,-0.0011334053706377745,-2.001575739996042e-05,2.1116098650963977e-05,0.003039879957213998,-0.00013990070146974176,0.00015897331468295306,-0.0007656288798898458,0.002062042010948062,-0.0012000022688880563,0.0007057912298478186,2.9132881536497734e-05,3.866918268613517e-05,-6.287672249527532e-07],[-3.945514254155569e-05,-0.0001448260445613414,-0.0007797761354595423,-0.0002546507166698575,-6.623014633078128e-05,-5.0930146244354546e-05,-0.0005671480321325362,7.618562813149765e-05,0.00015829215408302844,0.00014021509559825063,-0.00014629316865466535,2.1797262888867408e-05,0.000710926135070622,-0.00015425756282638758,-2.5569866920704953e-05,-6.795925582991913e-05],[0.0010590535821393132,8.540754788555205e-05,-0.00020010517619084567,-7.1784256761020515e-06,-1.357089240627829e-05,-0.0007419453468173742,-0.0002805349649861455,-0.0018581119365990162,5.679863897967152e-05,-9.253357711713761e-05,-5.564589810092002e-05,0.0008232658728957176,-0.00010427056258777156,-2.2897605958860368e-05,-9.436748223379254e-05,0.0001403198839398101],[0.0003296836221124977,0.002498878166079521,0.00025009215460158885,-0.00030133669497445226,0.00030338019132614136,4.354213160695508e-05,-0.0001155883728642948,0.000363951432518661,8.823700045468286e-05,1.645274278416764e-05,-0.0002004195557674393,0.00011223494948353618,-0.00014372570149134845,-0.003427148098126054,2.656541437318083e-05,-0.00024165620561689138],[-0.00013670447515323758,-0.0011327764950692654,0.00033539492869749665,0.0002329582639504224,-0.0004605719877872616,-0.0003864822501782328,-5.5121927289292216e-05,-0.00027581921312958,0.0001811897527659312,-0.0029461935628205538,-6.4972614381986205e-06,1.205137209581153e-06,-0.00014629316865466535,0.0004802733601536602,-8.001062815310434e-05,-0.00018967811774928123],[-0.0004646589804906398,3.5001376090804115e-05,0.000480430549941957,0.00012653940939344466,-9.447227785130963e-05,0.0008326973766088486,-0.0007049528649076819,-5.5750693718437105e-05,-0.004859741777181625,-3.0442814022535458e-05,-0.000288761337287724,-0.0003117637534160167,0.0019359742291271687,-0.0007573501206934452,0.0006389322807081044,7.021234068815829e-06],[1.006027559924405e-05,4.836267908103764e-05,3.688767901621759e-05,-0.00011118700786028057,-0.0002676452568266541,-0.0002366784610785544,-0.00011197296407772228,-0.00016609934391453862,-0.00036143636680208147,-0.000778623390942812,0.0002524500305298716,-0.0002869274467229843,0.0017611769726499915,-0.002704380312934518,-0.0009095118148252368,1.0846234545169864e-05],[-0.00038721581222489476,-7.052672299323604e-05,-1.9806167983915657e-05,-0.010197608731687069,9.86640588962473e-05,1.697671541478485e-05,-0.006980888079851866,-0.00020256784046068788,-0.002333407523110509,-0.00015142810298129916,0.0006902816239744425,4.474726665648632e-05,-0.00028546032262966037,-0.002211584011092782,-0.0008072323398664594,-0.0004337446007411927],[-0.0006106377695687115,-0.0007382251205854118,-0.0010531326988711953,-0.0012508275685831904,0.00012627741671167314,-0.0004538651555776596,-0.004847376141697168,-0.0008960980921983719,3.128116804873571e-05,-0.00024542881874367595,-0.004221333656460047,-0.0004716278053820133,-0.000324601074680686,-0.0008714713621884584,0.002667440101504326,-0.00017023872351273894],[0.0006241562659852207,0.13360680639743805,-9.022809535963461e-05,0.00012271440937183797,-0.00047110384912230074,-0.00048320760834030807,0.0020278790034353733,0.0002677500306162983,-0.012559310533106327,-0.00830407626926899,-4.8205485654762015e-05,-0.00013162194227334112,0.00012900207366328686,-0.0007744316244497895,0.0002361544902669266,-0.0017501735128462315],[0.0029141264967620373,0.0002116849645972252,0.0011066303122788668,0.0002067072200588882,0.0035319949965924025,0.00018711065058596432,-0.0002311767457285896,0.0009156946907751262,-5.239726760919439e-06,-3.5839730117004365e-05,0.0006031449884176254,-6.916439451742917e-05,-7.880548946559429e-05,-2.771815525193233e-05,-0.0014184988103806973,-9.169521945295855e-05],[-2.0696921637863852e-05,0.01485011912882328,-0.0036720004864037037,0.00035247643245384097,-0.0005179994041100144,8.519795665051788e-05,0.009375495836138725,0.00011296851153019816,0.05674079433083534,-0.00024752470199018717,0.0008188645006157458,-0.0027892114594578743,2.0958907498425106e-06,0.0002656541473697871,-0.00020303940982557833,-0.05301450937986374],[-0.000618340156506747,-0.04242261126637459,0.00013109797146171331,0.0008621446322649717,-0.00027749594300985336,-0.08462420850992203,0.0014986667083576322,-0.1541730910539627,-0.0021604965440928936,0.0011581892613321543,-0.000114697621029336,0.019843213260173798,-0.00017689318337943405,-1.5719181192253018e-06,-9.148562821792439e-05,0.07176419347524643],[0.004864824470132589,0.006222909316420555,-0.003817560151219368,-0.0049651130102574825,6.287672249527532e-07,-0.0002875562058761716,0.08792871981859207,0.00016463221982121468,0.00013864316861145198,-0.0016744595486670732,-4.5061651690048166e-06,-0.006621128413826227,5.6379460147581995e-05,5.763699664385058e-05,-0.00027901545399799943,0.003076819935813546],[-0.00021498599380720407,-4.36993213952519e-05,0.0009127079974859953,-3.143836124763766e-07,-0.0006032497622072697,-4.5166445488575846e-05,0.04448842629790306,-1.4671235248897574e-06,-0.0010157735086977482,-0.0021785737480968237,2.6198633804597193e-06,-0.05796589329838753,-0.007925296202301979,6.26671317149885e-05,-0.0581393800675869,3.185754030710086e-05],[-0.00016651852638460696,0.0013892088318243623,2.2111647922429256e-05,0.0003051093081012368,-0.00021949215442873538,-8.310206612804905e-05,0.00011118700786028057,0.004953532945364714,1.5509591321460903e-05,0.00038229048368521035,0.00023589249758515507,0.017841637134552002,-0.000571549404412508,0.0008137295953929424,0.009229726158082485,0.1848505437374115],[0.00014278256276156753,-0.0010846235090866685,-0.00040398293640464544,-0.002549546305090189,-0.00025622264365665615,0.00024328051949851215,0.0006375699886120856,-0.000364684994565323,-1.0479453749212553e-06,-6.811645107518416e-06,-2.284520996909123e-05,0.0001632698840694502,0.00016138359205797315,0.04006672278046608,-2.766575744317379e-05,-0.0013084645615890622],[-0.002847791649401188,0.00046617849147878587,0.0,1.362328930554213e-06,1.713390702207107e-05,2.0592126020346768e-05,-0.0005024897982366383,0.1204095259308815,0.0002696363371796906,-3.5630141610454302e-06,0.01891688071191311,8.656028512632474e-05,-2.986644403790706e-06,0.010960722342133522,-2.6198633804597193e-06,0.0004457435570657253],[-0.0009481285815127194,0.0001339274167548865,0.00016279831470455974,-2.001575739996042e-05,-0.000328321271808818,-3.7621237424900755e-05,0.0021090947557240725,1.362328930554213e-06,0.00031642711837776005,0.00564365740865469,-3.877397830365226e-06,0.00171569618396461,-1.0269865015288815e-05,0.00010563289106357843,2.3054799385135993e-06,0.0006428096676245332],[-2.6775003789225593e-05,-0.0007045336533337831,-0.0019225606229156256,-0.0002218500303570181,-9.745892384671606e-06,0.0032568045426160097,0.0023611781653016806,-7.79147376306355e-05,2.515068990760483e-05,-2.006815338972956e-05,-1.9334591343067586e-05,8.844659168971702e-05,3.1438362384506036e-06,-7.702398579567671e-05,2.074931762763299e-05,9.08568617887795e-05],[0.0007546254782937467,-0.1011255756020546,-0.00018380962137598544,-0.00023767401580698788,-2.5150688998110127e-06,5.973288807581412e-06,-1.5038016499602236e-05,-0.0005314131267368793,0.0008605727343820035,1.2051371413690504e-05,-0.0005313082947395742,0.0006727809086441994,2.5569866920704953e-05,-5.5750693718437105e-05,9.148562821792439e-05,-3.374383959453553e-05],[-0.0006342165288515389,2.9761647965642624e-05,3.725445640156977e-05,-0.003083369694650173,4.71575403935276e-05,0.00033020757837221026,-4.0974664443638176e-05,-4.066028122906573e-05,6.287672249527532e-07,-7.498048944398761e-05,-0.00014445926353801042,-2.410274419162306e-06,5.5541106121381745e-05,-7.136508065741509e-05,-0.00047393329441547394,-0.0016810091910883784],[-3.0390415304282214e-06,0.0009629569831304252,0.0055455174297094345,-1.4671235248897574e-06,-0.00016552297165617347,-3.405822553759208e-06,-0.0005858014919795096,-0.0005042189150117338,3.735925201908685e-05,-4.893904770142399e-05,-0.012474846094846725,-3.578733594622463e-05,3.44774016411975e-05,-1.8967812138726003e-05,-1.5719180737505667e-05,-0.00013088838022667915],[0.0001023842633003369,-1.0793837645906024e-05,0.0002116849645972252,1.8863016748582595e-06,5.166370829101652e-05,0.001017135800793767,-3.4582196803967236e-06,-1.5719181192253018e-06,-1.472363237553509e-05,-1.236575553775765e-05,-0.00019958119082730263,0.00011317810276523232,-1.0479453749212553e-07,-6.287672295002267e-05,0.0005001843092031777,-7.901508070062846e-05]],\"type\":\"heatmap\",\"xaxis\":\"x2\",\"yaxis\":\"y2\",\"hovertemplate\":\"x: %{x}<br>y: %{y}<br>color: %{z}<extra></extra>\"},{\"coloraxis\":\"coloraxis\",\"name\":\"2\",\"z\":[[4.244178853696212e-06,0.00033198908204212785,-0.0006848322809673846,0.0005250206450000405,0.00021844421280547976,4.003151479992084e-05,0.002860209671780467,-0.0002587377093732357,-0.0002888137532863766,0.0003974856808781624,0.001298404298722744,-0.001078859786503017,0.0007420501206070185,0.00010992946772603318,-9.84020734904334e-05,-4.244178853696212e-06],[-2.363116800552234e-05,-7.492809527320787e-05,2.4364730052184314e-05,1.17893850983819e-05,9.992159175453708e-05,-0.00036489457124844193,-0.00021860140259377658,-5.627466816804372e-05,-0.0001440400956198573,0.0002690075780265033,0.00027801989926956594,-9.269076690543443e-05,-6.31911025266163e-05,-2.3788359612808563e-05,-0.0002484678407199681,-0.00020293462148401886],[-0.00024134182604029775,3.494897828204557e-05,5.344521559891291e-05,2.0487332221819088e-05,3.311507316539064e-05,-0.00016106919792946428,-6.078083242755383e-05,4.925343091599643e-06,3.714966442203149e-05,-5.307843457558192e-05,3.4372609661659226e-05,0.000163793854881078,-0.0005491757765412331,0.0001324078912148252,8.383562817471102e-05,-8.016781794140115e-05],[-6.649213173659518e-05,-0.00015420516137965024,9.180001507047564e-05,-0.0004999747616238892,3.0390416213776916e-05,-0.0002608335926197469,-7.466610986739397e-05,-0.0001851719425758347,0.0002148812054656446,-6.947878136998042e-05,7.592364272568375e-05,4.841507688979618e-05,-0.0006789113976992667,-7.04743288224563e-05,2.0958907498425106e-06,-0.0003935034910682589],[-3.112397826043889e-05,-6.811644652771065e-07,-0.00030227983370423317,3.4372609661659226e-05,0.0003578733594622463,-3.4582197258714586e-05,0.00010573768668109551,-6.460583244916052e-05,-1.5719181192253018e-06,-0.0016284022713080049,-3.531575930537656e-05,2.0225344997015782e-05,-7.634281791979447e-05,-0.00010783357720356435,1.530000190541614e-05,0.00028126852703280747],[0.00014283494965638965,-1.0793837645906024e-05,-7.629042374901474e-05,0.00014204900071490556,1.818185228330549e-05,0.0006553850253112614,-0.00012984043860342354,-8.755583257880062e-05,2.0958907498425106e-06,-0.0001532620080979541,6.078083060856443e-06,0.0013486009556800127,0.0008601535810157657,0.0005778894992545247,-0.00014508803724311292,-3.39534308295697e-05],[-1.535239971417468e-05,-4.6738365199416876e-05,-7.922467193566263e-05,4.086986882612109e-05,6.078083060856443e-06,7.891028508311138e-05,3.9821923564886674e-05,1.6609934391453862e-05,9.562501509208232e-05,-0.0021828701719641685,0.00025035414728336036,-0.00027209901600144804,0.0012305498821660876,-0.0008724145009182394,-0.0002678024466149509,-1.0793837645906024e-05],[-0.00025417914730496705,-0.00023557811800856143,0.00010489932901691645,-2.9237675335025415e-05,-6.49726134724915e-05,0.000345507578458637,-0.003371554659679532,1.2208563930471428e-05,-0.002894425066187978,0.00011653152614599094,0.00029122401610948145,0.00023379661433864385,6.706850399496034e-05,-0.00095342070562765,0.00017919865786097944,-4.348973379819654e-05],[-0.0006931110983714461,-0.0002346349647268653,-0.0008551758364774287,-0.0001363376941299066,0.0001568774168845266,-0.0005896788788959384,1.1946577615162823e-05,-0.0005867446307092905,-0.0010496220784261823,-9.373871580464765e-05,-0.0033826627768576145,-0.0003486514324322343,-6.581097113667056e-05,-0.0004298147978261113,0.001991410506889224,-0.00032517744693905115],[-0.0005667288787662983,-0.0012570105027407408,-0.00014933221973478794,-0.00024941100855357945,-0.0009253357420675457,-0.0003425733302719891,7.136508065741509e-05,0.00019727571634575725,-0.0033279601484537125,-0.0017288478557020426,-8.006302959984168e-05,6.617775216000155e-05,-5.533151488634758e-05,-0.000432382250437513,0.0004995555500499904,-0.00028828976792283356],[-0.0002989788190461695,-8.50931610330008e-05,0.0003298931987956166,0.00029609695775434375,-8.058700041146949e-05,0.0002951014321297407,-1.2156166121712886e-05,0.004510880913585424,5.0930146244354546e-05,6.5496587922098115e-06,0.00042310793651267886,-0.0002725705853663385,-2.3473976398236118e-05,7.985343836480752e-05,-0.0012279823422431946,-4.0450689994031563e-05],[-9.745892020873725e-05,0.0020600510761141777,-0.0044665527530014515,-8.828939462546259e-05,-0.00019481305207591504,0.0011053727939724922,0.0018637708853930235,0.000163793854881078,0.008529332466423512,-0.0007858018507249653,0.0003151171840727329,-0.002178102033212781,-4.280856956029311e-05,-8.147775224642828e-05,0.0016282974975183606,-0.05797343701124191],[-0.00015844934387132525,-0.03583281487226486,-0.00015305241686291993,0.00016934797167778015,2.2740414351574145e-05,-0.08301744610071182,-0.00023432058515027165,-0.13471190631389618,-0.0027316792402416468,-4.610959877027199e-06,-0.0001673568767728284,0.0037666300777345896,-0.0012134159915149212,6.932158430572599e-05,0.00017097228555940092,0.008801326155662537],[0.002135398332029581,0.0004289240459911525,-0.001573699526488781,-0.0036272008437663317,-5.2397268746062764e-08,0.00044893979793414474,0.019128408282995224,0.00014293975254986435,0.0008463207050226629,-0.000792613485828042,4.663356776291039e-06,-0.003512398572638631,0.00013052159920334816,-0.00024238976766355336,3.542055492289364e-05,0.0007837059674784541],[-9.326713916379958e-05,0.0012821612181141973,-3.5001376090804115e-05,-5.239726874606276e-07,-1.0689042937883642e-05,-0.000129945226944983,0.0033085730392485857,0.00044527198770083487,-0.0005144363967701793,-0.0038187128957360983,-7.440411991410656e-06,-0.0009476569830439985,-0.0006153011345304549,8.94421391421929e-05,-0.05210237577557564,0.0001913548185257241],[-2.295000376761891e-05,0.00031123976805247366,7.335617624448787e-07,2.7246580430073664e-05,-4.296576207707403e-06,-0.0001892589352792129,0.00023453017638530582,0.000834426493383944,-1.2313357728999108e-05,-0.00020859352662228048,-0.0011148566845804453,-0.00026528738089837134,-0.00020560687698889524,0.0001397959131281823,0.00020932708866894245,0.03357187286019325],[-5.554110430239234e-06,-0.0004096942429896444,-0.00025842332979664207,-0.0007984295953065157,-0.00030034114024601877,0.0001409486576449126,-0.0006485733902081847,-0.00011370207357686013,-1.7815070805227151e-06,-3.929795184376417e-06,8.907535629987251e-06,7.24130222806707e-05,-0.0003816093085333705,0.002435058355331421,-3.7202062230790034e-05,-0.00018475277465768158],[0.0021375990472733974,0.00022446989896707237,0.0,3.1438362384506036e-06,-9.274316653318238e-06,3.290548556833528e-05,0.0004289240459911525,0.008469441905617714,-0.00019727571634575725,4.71575413030223e-06,0.002033747499808669,-0.001128689618781209,1.577157854626421e-05,0.0016365762567147613,3.0180826797732152e-05,0.0009020189754664898],[-0.00015027537301648408,-8.121576684061438e-05,0.0002744568919297308,2.1587675291812047e-05,-0.00023400620557367802,-1.2156166121712886e-05,1.6871919797267765e-05,-9.012330338009633e-06,0.0003348185564391315,5.852774847880937e-05,-4.4013704609824345e-05,0.00011590275971684605,-2.0434933958313195e-06,-0.000431648688390851,-1.467123547627125e-05,-7.440411991410656e-06],[2.6722607799456455e-05,-0.0007326186168938875,4.2756171751534566e-05,3.903596370946616e-05,-8.22637139208382e-06,0.0002988740161526948,0.0002828404540196061,0.0001270109787583351,1.938698915182613e-06,3.636370456661098e-05,-5.7951379858423024e-05,4.71575413030223e-06,2.0592126020346768e-05,-0.0001391671394230798,9.305754792876542e-05,2.3945551220094785e-05],[-6.47106280666776e-05,-0.02567455731332302,6.21431609033607e-05,5.438836524263024e-05,-9.117125046032015e-06,3.5630141610454302e-06,1.991096269193804e-06,-0.00010060275963041931,0.0001535240007797256,-1.6767125998740084e-05,-0.0001753212563926354,0.0011770522687584162,-8.016781976039056e-06,-3.3848635212052613e-05,9.483906069363002e-06,6.287672249527532e-07],[9.541542385704815e-05,-4.967260974808596e-05,-1.823425009206403e-05,-0.000879226194228977,-5.7636993915366475e-06,0.00019910962146241218,-0.0002332202420802787,-6.968836532905698e-05,3.877397830365226e-06,-2.5150688998110127e-06,-0.00021320449013728648,3.5630141610454302e-06,1.2522947145043872e-05,1.8863016748582595e-06,0.00019460346084088087,-0.0005602840101346374],[9.274316653318238e-06,-0.0004356832941994071,0.004625001922249794,-3.1647949072066694e-05,-1.530000190541614e-05,-4.925343091599643e-06,4.820548838324612e-06,-5.821336526423693e-05,1.3780481822323054e-05,-3.3272266591666266e-05,-0.007641827221959829,-1.818185228330549e-05,-1.3099316902298597e-06,2.8818496957683237e-06,-3.772603349716519e-06,1.776267345121596e-05],[-7.356576679740101e-05,-9.431508374291298e-07,3.253870454500429e-05,-3.825000476354035e-06,-5.2397268746062764e-08,-5.2397268746062764e-08,5.606507784250425e-06,-2.3054799385135993e-06,-6.968836714804638e-06,1.3728084013564512e-05,0.0005110829370096326,1.938698915182613e-05,0.0,1.8339044345339062e-06,3.2119525712914765e-05,2.0277742805774324e-05]],\"type\":\"heatmap\",\"xaxis\":\"x3\",\"yaxis\":\"y3\",\"hovertemplate\":\"x: %{x}<br>y: %{y}<br>color: %{z}<extra></extra>\"},{\"coloraxis\":\"coloraxis\",\"name\":\"3\",\"z\":[[-4.191781499685021e-07,-0.0001937650959007442,-9.557262092130259e-05,-0.0002308099647052586,0.0001400579058099538,7.199384708655998e-05,-0.00044291411177255213,-0.00013104557001497597,-0.0001546767307445407,-0.00017264900088775903,-0.0007569309673272073,0.0004275093087926507,-0.00024144661438185722,-0.00013025960652157664,-0.0008269860991276801,-6.287672249527532e-07],[-2.420753844489809e-05,6.916439360793447e-06,-0.00013324625615496188,0.00012643460649996996,0.00031888976809568703,0.0001392719423165545,0.00010741440200945362,6.313870835583657e-05,-0.00015158529276959598,8.525035809725523e-05,-0.0007997918874025345,-0.0011602850863710046,0.00010217467206530273,-6.0833230236312374e-05,-3.929795184376417e-06,-3.65208979928866e-05],[7.84387084422633e-05,-1.3308906090969685e-05,-0.0001740113366395235,0.00011155378160765395,4.2284595110686496e-05,-1.886301652120892e-05,-8.802740921964869e-06,-2.0854113245150074e-05,3.133356585749425e-05,-5.648425576509908e-05,-0.00015216166502796113,4.0765076846582815e-05,-0.0007771038799546659,-0.0014768694527447224,3.238151111872867e-05,-0.000319623330142349],[-0.00019240277470089495,8.865617564879358e-05,0.00034194457111880183,-9.604419028619304e-05,-0.0005116069223731756,-0.0031402730382978916,-9.850686183199286e-06,-0.00018800140242092311,1.9701372366398573e-05,3.9193157135741785e-05,0.0001373856357531622,0.001198325539007783,0.0007396398577839136,-7.440411991410656e-06,-2.1692469090339728e-05,-0.0009169522090815008],[-2.1692469090339728e-05,-6.706850399496034e-06,-0.0008794881287030876,-0.00021765824931208044,0.0007382251205854118,0.00011459282541181892,0.00029352950514294207,-0.00013025960652157664,5.7636993915366475e-06,0.0006693227333016694,3.720205995705328e-06,-3.6154116969555616e-05,-9.641097676649224e-06,-3.5106170344079146e-06,-0.00021828702301718295,0.000255646271398291],[-0.0006111617549322546,1.1946577615162823e-05,0.00011516919767018408,-0.0002771815634332597,-1.0165070307266433e-05,0.0008909631287679076,-0.0014699005987495184,-0.00011113460641354322,-4.83102812722791e-05,-0.00023033839534036815,2.0277742805774324e-05,0.00037820349098183215,0.0022501482162624598,0.001535397139377892,-0.0003644753887783736,0.0003506425127852708],[1.577157854626421e-05,-1.938698915182613e-06,-0.0007311514928005636,0.0002575849648565054,-0.0001983760594157502,0.00025234525674022734,9.090926323551685e-05,0.000155829475261271,0.00012868769408669323,8.94421391421929e-05,0.0011113984510302544,-0.00037411649827845395,0.0010432819835841656,-0.0008562237489968538,0.00019675174553412944,-9.284795669373125e-05],[-0.0001229239860549569,0.00019586099369917065,-0.00012313357728999108,-0.00025748019106686115,9.84020734904334e-05,-0.0001144356356235221,0.0003749548632185906,7.932946755317971e-05,0.006231607403606176,0.00016845721984282136,0.0001448260445613414,0.00022656579676549882,-0.0002646062057465315,8.797501504886895e-05,-0.0004330110386945307,-0.00032507264404557645],[0.0003146980016026646,0.0014768694527447224,-0.0005774179007858038,1.645274278416764e-05,0.00045024973223917186,0.008422860875725746,4.348973379819654e-05,-0.0015505923656746745,0.00018606269441079348,0.0005944994045421481,0.0015991122927516699,0.0009962816257029772,-1.0689042937883642e-05,0.0005022801924496889,-0.009884483180940151,0.00016746166511438787],[-0.0004628774768207222,0.0010267768520861864,-4.9777405365603045e-05,0.0004874517908319831,0.0006170302513055503,-0.00017919865786097944,-0.0008868761942721903,0.00044003225048072636,0.004541952628642321,0.0009004994644783437,3.2591102353762835e-05,0.0008056603837758303,3.793562427745201e-05,-0.0012530282838270068,0.0009772090706974268,-0.0007127600256353617],[-0.0018395108636468649,-0.00020691681129392236,-0.005605040583759546,-0.0006721521494910121,-0.003350176615640521,0.0066572823561728,3.594452573452145e-05,0.5019797682762146,-0.00029431545408442616,-6.602055691473652e-06,-0.0002087507164105773,0.0002584757166914642,-0.0001452976284781471,-0.0004754004185087979,0.00016353187675122172,0.00016945276001933962],[-0.00028043019119650126,-0.011389227584004402,-0.03584890067577362,0.0006002631271257997,0.0010955220786854625,0.004515334498137236,-0.0026588470209389925,-0.00016898119065444916,-0.004851672798395157,-0.005968992132693529,-0.0007117645000107586,-0.002381770173087716,2.35787701967638e-05,-0.002059631748124957,0.014832356944680214,0.03967049717903137],[0.0002028822200372815,0.029306158423423767,-0.00036615211865864694,-0.005532313138246536,-0.00011495960643514991,-0.0366637296974659,-9.117124864133075e-05,0.0499974749982357,0.026301437988877296,-0.002794084371998906,-0.00048729460104368627,-0.0005327754188328981,-0.0010623546550050378,4.0974664443638176e-05,-0.0018872448708862066,-0.004164482466876507],[-0.0008203316247090697,6.8954803282395e-05,0.006209076382219791,-0.03691701963543892,-5.763699846283998e-07,2.1482879674294963e-05,-0.006058591417968273,9.012330338009633e-06,0.009284062311053276,-0.0049628596752882,-4.191781499685021e-07,0.009681390598416328,-6.664932880084962e-05,0.00021011305216234177,-0.00011731748236343265,-0.0003274305199738592],[1.9910961782443337e-05,-0.0012732011964544654,-0.0011083070421591401,7.859590596126509e-07,0.0001438829058315605,-0.0007761083543300629,-0.0010291347280144691,-0.0010287680197507143,0.02234649285674095,0.011103609576821327,2.3893155230325647e-05,1.771027746144682e-05,-0.004605405498296022,9.489145304542035e-05,-0.010635701939463615,0.0009903083555400372],[3.725445640156977e-05,-0.00012423392035998404,-1.414726284565404e-05,9.798289283935446e-06,8.593151869717985e-05,1.2156166121712886e-05,-0.00030421855626627803,-0.003165947739034891,-1.6295551176881418e-05,5.973288807581412e-06,-0.011100203730165958,-0.0006600483902730048,-0.0019225606229156256,-0.0010520323412492871,-0.00030338019132614136,-0.00925026647746563],[0.00010353700054110959,-0.005837003234773874,0.00040796512621454895,0.00018433359218761325,0.0001109774166252464,-0.0001937650959007442,-0.00707457447424531,0.0006764487479813397,8.907535402613576e-07,-4.925343091599643e-06,0.00013696645328309387,-0.0002678024466149509,-0.003690549172461033,-0.00810711458325386,-0.00018003700824920088,0.0001273777597816661],[-0.013134947046637535,0.0009747988078743219,0.0,-1.1684591299854219e-05,-0.00010248905891785398,-7.754795660730451e-06,-0.0008940022089518607,-0.006519634742289782,0.00012433872325345874,1.058424822986126e-05,-0.001606605015695095,-0.008856081403791904,-5.072055500932038e-05,-0.0017503831768408418,6.140959885669872e-05,-0.0017271187389269471],[8.409761358052492e-05,0.0004475774767342955,0.0010008402168750763,-4.6423978346865624e-05,0.0011003426043316722,-2.3316784790949896e-05,-0.00027026512543670833,1.5404797522933222e-05,-0.00021420003031380475,-3.5210963687859476e-05,-0.00043521172483451664,-0.0006434384849853814,4.5585624320665374e-05,-0.00024935859255492687,-6.465822661994025e-05,-0.0008141487487591803],[-1.351849550701445e-05,0.015277261845767498,-0.000583967543207109,4.474726665648632e-05,-1.650513877393678e-05,-0.0021317829377949238,-0.0009974343702197075,4.731473381980322e-05,3.0076032999204472e-05,1.5823974536033347e-05,7.157467189244926e-05,-0.00022095927852205932,-5.847535067005083e-05,-0.001558766351081431,6.706850399496034e-05,-0.00011757946776924655],[-1.236575553775765e-05,0.00541583402082324,0.00018166133668273687,0.0012089097872376442,-0.00014052947517484426,-7.702398579567671e-05,6.864042006782256e-06,0.00024050346110016108,-7.545206699433038e-06,-5.1349325076444075e-05,-0.0006453771493397653,-0.0010800125310197473,-2.619863437303138e-07,0.0003675144398584962,-1.708150921331253e-05,1.4042468137631658e-05],[0.00019125003018416464,8.57219347381033e-05,-1.1003426152456086e-05,0.04553275555372238,-0.0002277185267303139,-0.00013005001528654248,0.0036670228000730276,-4.0922266634879634e-05,-4.925343091599643e-06,1.1527399692567997e-06,0.003044386161491275,-2.944726475107018e-05,-3.982192538387608e-06,1.362328930554213e-06,0.0025836569257080555,-0.002052610507234931],[3.4529799449956045e-05,0.000450826104497537,0.06975150853395462,-4.2232197301927954e-05,-7.807193469488993e-06,-1.5719181192253018e-06,-5.396918822953012e-06,0.0023729675449430943,-2.0277742805774324e-05,0.001180929597467184,0.022802505642175674,-5.417877764557488e-05,0.00035682538873516023,-1.058424822986126e-05,-1.6767125998740084e-06,-0.0002816353226080537],[0.0005648425430990756,-5.742740540881641e-05,0.00206518592312932,2.2006852304912172e-06,9.274316653318238e-06,0.0,6.706850399496034e-06,-2.724657861108426e-06,1.1422604984545615e-05,0.008399911224842072,0.0012960988096892834,-2.410274419162306e-06,1.0479453749212553e-07,1.0898631444433704e-05,0.0014649227960035205,0.0007910415879450738]],\"type\":\"heatmap\",\"xaxis\":\"x4\",\"yaxis\":\"y4\",\"hovertemplate\":\"x: %{x}<br>y: %{y}<br>color: %{z}<extra></extra>\"},{\"coloraxis\":\"coloraxis\",\"name\":\"4\",\"z\":[[-2.829452569130808e-06,0.0005842295358888805,-0.0003582925128284842,-0.0014421824598684907,-0.0005569829954765737,6.921678868820891e-05,0.000863297376781702,-0.0004405562358442694,-7.293700036825612e-05,-0.0009050056105479598,0.00019827127107419074,-2.3211989173432812e-05,4.768151484313421e-05,0.00027016032254323363,-0.0003647373814601451,1.0479453749212553e-06],[-5.669384336215444e-05,-0.00020560687698889524,-0.0008308110991492867,1.1527398783073295e-05,0.00015048494969960302,-0.0004527124110609293,-2.0906511053908616e-05,3.531575930537656e-05,-4.658117177314125e-05,0.0003098774468526244,-0.0002868226438295096,-6.434384704334661e-05,0.0007101401570253074,-0.00014592638763133436,-3.625890894909389e-05,-0.00012716816854663193],[0.001172965276055038,-7.65000095270807e-06,-0.00021802503033541143,9.148562821792439e-05,3.489658047328703e-05,-0.0006046121125109494,-6.282432877924293e-05,-0.0018526626517996192,5.952329593128525e-05,-0.00013623290578834713,2.515068990760483e-05,0.0005633754190057516,-0.0006634542369283736,0.00012795413204003125,-5.5121927289292216e-05,-5.229247472016141e-05],[0.00017872708849608898,0.0023486551363021135,0.0002889709430746734,-0.0007574548944830894,0.00018559112504590303,-0.00048105933819897473,-0.0001399531029164791,0.00014309694233816117,0.0002748760743997991,-3.39534308295697e-05,-7.875309529481456e-05,-0.0005530007765628397,-0.0001623267453396693,-0.0036430249456316233,2.0487332221819088e-05,-0.0005703966598957777],[-0.00018616749730426818,-0.0011384878307580948,8.069179602898657e-05,0.00019769489881582558,-0.0009957576403394341,-0.0003055284614674747,3.552534690243192e-05,-0.0002997123810928315,0.00018307605932932347,-0.0017293718410655856,-2.766575744317379e-05,6.0152065998408943e-05,-0.0002148812054656446,0.0004653925425373018,-0.00012748254812322557,-0.00021294249745551497],[0.00030814833007752895,-3.982192538387608e-06,0.0006100613973103464,0.0002484678407199681,-0.00010699521953938529,0.0006614631274715066,0.0007460323395207524,0.00012538666487671435,-0.004863095469772816,-0.00019125003018416464,-0.00028420277521945536,-0.0012509848456829786,0.0009742224356159568,-0.0007286363979801536,0.00047676273970864713,-6.392466730176238e-06],[1.0479453749212553e-06,-1.0165070307266433e-05,0.0011026480933651328,-8.079659164650366e-05,-0.00028200208907946944,-9.913563553709537e-05,-2.7508565835887566e-05,-6.806405144743621e-05,-0.0005657332949340343,-0.0006311251199804246,0.0006380939157679677,6.528700032504275e-05,9.552021947456524e-05,-0.0013473433209583163,-0.0004294480022508651,-3.353425199748017e-06],[-0.0004125761042814702,-0.0005097206449136138,0.00020429695723578334,-0.01004733331501484,3.777843085117638e-05,0.000417711038608104,-0.0038739920128136873,-0.00024841545382514596,0.0010501460637897253,-5.019658419769257e-05,0.0006939494051039219,0.0003346613666508347,-0.00016578496433794498,-0.0015460337745025754,-0.0006158251198939979,-0.0011704502394422889],[-0.0010256764944642782,-0.00047686754260212183,-0.000538696302101016,-0.0016646612202748656,0.00017333016148768365,-0.0005218767910264432,-0.004542895592749119,-0.0008494645007885993,-0.0010089618153870106,-0.0002607288188301027,-0.00227928115054965,-0.0007634806097485125,0.00021650551934726536,-0.00067760149249807,0.0005413685576058924,1.2680138752330095e-05],[0.00040503087802790105,0.10965757817029953,-0.0001632698840694502,-0.0002028822200372815,0.0011382782831788063,-0.0005839151563122869,0.001871525659225881,0.00041372881969437003,-0.00025800414732657373,-0.007082014810293913,-4.5061651690048166e-06,-8.488357707392424e-06,4.244178853696212e-05,-0.0010570625308901072,0.0001858007162809372,-0.0017132335342466831],[0.0032074463088065386,0.00019313633674755692,0.0008200172451324761,-0.00010940549691440538,0.00309269642457366,0.0005764747620560229,-6.575856968993321e-05,0.004993669223040342,7.859590368752833e-06,-6.161919009173289e-05,0.0010650792391970754,-0.0004457959730643779,-0.00012727297144010663,5.606507693300955e-05,-0.0011956008384004235,-5.5960281315492466e-05],[-6.120000762166455e-05,0.010728969238698483,-0.00044820623588748276,0.0009433604427613318,0.0005913555505685508,0.0008599439752288163,0.007887884974479675,0.00020696921274065971,0.06537151336669922,-0.0003493325784802437,0.00045014492934569716,-0.0016908599063754082,1.467123547627125e-05,-9.756371582625434e-05,0.0013672019122168422,-0.0103093720972538],[-0.00045821411185897887,-0.02393648773431778,-0.00026712127146311104,0.00042598979780450463,-0.0002615671546664089,-0.01152383629232645,0.0010840471368283033,-0.11031045019626617,-0.0020055577624589205,0.001190832699649036,-0.000280796957667917,0.018289372324943542,-0.000530260382220149,-9.221919754054397e-06,-0.00011333529255352914,0.06631461530923843],[0.0033276458270847797,0.0042008464224636555,-0.0014554912922903895,-0.00010898632172029465,-2.0958907498425106e-06,0.00010091713920701295,0.07616600394248962,0.0005203572800382972,0.00039208875386975706,-0.0003218240162823349,5.1349325076444075e-06,-0.003228510031476617,0.0004664928710553795,0.0002009435265790671,-0.0002657589502632618,0.002513601677492261],[-0.00019570380391087383,-0.001800684491172433,0.0009054248221218586,5.501713076228043e-06,-0.0006981412298046052,-0.0001778363366611302,0.0432882122695446,0.00043793636723421514,-0.0010784929618239403,0.002782609313726425,-9.117125046032015e-06,-0.058531783521175385,-0.008137505501508713,0.0001403198839398101,-0.016103042289614677,5.124452945892699e-05],[-9.756371582625434e-05,0.0015662068035453558,1.116061866923701e-05,-1.414726284565404e-06,-0.0002318055194336921,-0.0002232123661087826,6.795925582991913e-05,0.0045351930893957615,-4.13938414567383e-06,0.0003353425126988441,-0.00014922741684131324,0.016620727255940437,-0.0005543106817640364,0.0009159042383544147,0.008410390466451645,0.1876174658536911],[0.0001282685116166249,-0.0009219823405146599,-0.0004669644695241004,-0.0021201507188379765,-7.65000149840489e-05,0.0002595236583147198,0.0007208292372524738,-9.436748223379254e-05,2.2006852304912172e-06,-1.058424822986126e-05,-8.435959898633882e-06,4.244178853696212e-05,-0.00014650275988969952,0.041065312922000885,-4.7367131628561765e-05,-0.0015614386647939682],[-0.0001601784460945055,0.0008454823400825262,0.0,2.0958907498425106e-07,-3.405822553759208e-06,5.6169872550526634e-05,-0.00017008153372444212,0.12233321368694305,0.00042137884884141386,1.2575344499055063e-06,0.01742282509803772,-0.0012221138458698988,0.0,0.009956319816410542,-6.025685706845252e-06,0.001469219452701509],[-0.0008434388437308371,-0.0002059212711174041,0.00039722368819639087,-2.5884250135277398e-05,-0.00026649251230992377,-4.883425572188571e-05,0.001955989981070161,-1.2470550245780032e-05,0.00046816960093565285,0.005787173751741648,-1.6138359569595195e-05,0.0015728612197563052,1.5195207652141107e-06,-0.00029426306718960404,-1.0793837645906024e-05,0.000610899762250483],[-1.5719181192253018e-06,-0.00016510378918610513,-0.001621538307517767,-0.00023992708884179592,-1.351849550701445e-05,0.003114179242402315,0.0021789928432554007,2.3683565814280882e-05,1.9072605937253684e-05,8.425481064477935e-05,-7.917227048892528e-05,5.4597952839685604e-05,1.9648976376629435e-05,0.0004237891116645187,0.00013005001528654248,9.876885451376438e-05],[0.0006867186166346073,-0.09996293485164642,-0.00012355275976005942,-0.00019051646813750267,1.3308906090969685e-05,3.594452573452145e-05,-1.2156166121712886e-05,-0.0005401110392995179,0.0010224803118035197,-4.610959877027199e-06,-7.81767230364494e-05,0.0016081769717857242,1.823425009206403e-05,-8.294487633975223e-05,7.948665734147653e-05,-2.949966255982872e-05],[-0.000514803163241595,-2.4626715457998216e-05,2.4941100491560064e-05,-0.0014722584746778011,4.3175350583624095e-05,0.0003708678705152124,-0.00016463221982121468,-0.00010689043119782582,2.724657861108426e-06,-7.251781789818779e-05,-0.0001935031177708879,-5.2397268746062764e-08,6.654453318333253e-05,-7.042192737571895e-05,-0.0006279288791120052,0.0012923262547701597],[1.414726284565404e-05,0.0005572973750531673,0.000533718557562679,-3.159555126330815e-05,-0.0001494370080763474,-7.440411991410656e-06,-0.000586482638027519,-0.00024443326401524246,5.313082874636166e-05,-5.166370829101652e-05,-0.014146004803478718,-4.3804117012768984e-05,3.227671913919039e-05,-1.4933221791579854e-05,-1.723870082059875e-05,-5.810856964671984e-05],[1.7291098629357293e-05,-8.435959898633882e-06,6.806405144743621e-05,-6.287672249527532e-07,5.124452945892699e-05,0.0010169786401093006,3.929795184376417e-06,-2.5150688998110127e-06,-2.1430483684525825e-05,5.187329406908248e-06,0.00024354251218028367,8.545994205633178e-05,-5.2397268746062764e-08,-6.161919009173289e-05,0.000505319272633642,-5.2187679102644324e-05]],\"type\":\"heatmap\",\"xaxis\":\"x5\",\"yaxis\":\"y5\",\"hovertemplate\":\"x: %{x}<br>y: %{y}<br>color: %{z}<extra></extra>\"}],                        {\"template\":{\"data\":{\"histogram2dcontour\":[{\"type\":\"histogram2dcontour\",\"colorbar\":{\"outlinewidth\":0,\"ticks\":\"\"},\"colorscale\":[[0.0,\"#0d0887\"],[0.1111111111111111,\"#46039f\"],[0.2222222222222222,\"#7201a8\"],[0.3333333333333333,\"#9c179e\"],[0.4444444444444444,\"#bd3786\"],[0.5555555555555556,\"#d8576b\"],[0.6666666666666666,\"#ed7953\"],[0.7777777777777778,\"#fb9f3a\"],[0.8888888888888888,\"#fdca26\"],[1.0,\"#f0f921\"]]}],\"choropleth\":[{\"type\":\"choropleth\",\"colorbar\":{\"outlinewidth\":0,\"ticks\":\"\"}}],\"histogram2d\":[{\"type\":\"histogram2d\",\"colorbar\":{\"outlinewidth\":0,\"ticks\":\"\"},\"colorscale\":[[0.0,\"#0d0887\"],[0.1111111111111111,\"#46039f\"],[0.2222222222222222,\"#7201a8\"],[0.3333333333333333,\"#9c179e\"],[0.4444444444444444,\"#bd3786\"],[0.5555555555555556,\"#d8576b\"],[0.6666666666666666,\"#ed7953\"],[0.7777777777777778,\"#fb9f3a\"],[0.8888888888888888,\"#fdca26\"],[1.0,\"#f0f921\"]]}],\"heatmap\":[{\"type\":\"heatmap\",\"colorbar\":{\"outlinewidth\":0,\"ticks\":\"\"},\"colorscale\":[[0.0,\"#0d0887\"],[0.1111111111111111,\"#46039f\"],[0.2222222222222222,\"#7201a8\"],[0.3333333333333333,\"#9c179e\"],[0.4444444444444444,\"#bd3786\"],[0.5555555555555556,\"#d8576b\"],[0.6666666666666666,\"#ed7953\"],[0.7777777777777778,\"#fb9f3a\"],[0.8888888888888888,\"#fdca26\"],[1.0,\"#f0f921\"]]}],\"heatmapgl\":[{\"type\":\"heatmapgl\",\"colorbar\":{\"outlinewidth\":0,\"ticks\":\"\"},\"colorscale\":[[0.0,\"#0d0887\"],[0.1111111111111111,\"#46039f\"],[0.2222222222222222,\"#7201a8\"],[0.3333333333333333,\"#9c179e\"],[0.4444444444444444,\"#bd3786\"],[0.5555555555555556,\"#d8576b\"],[0.6666666666666666,\"#ed7953\"],[0.7777777777777778,\"#fb9f3a\"],[0.8888888888888888,\"#fdca26\"],[1.0,\"#f0f921\"]]}],\"contourcarpet\":[{\"type\":\"contourcarpet\",\"colorbar\":{\"outlinewidth\":0,\"ticks\":\"\"}}],\"contour\":[{\"type\":\"contour\",\"colorbar\":{\"outlinewidth\":0,\"ticks\":\"\"},\"colorscale\":[[0.0,\"#0d0887\"],[0.1111111111111111,\"#46039f\"],[0.2222222222222222,\"#7201a8\"],[0.3333333333333333,\"#9c179e\"],[0.4444444444444444,\"#bd3786\"],[0.5555555555555556,\"#d8576b\"],[0.6666666666666666,\"#ed7953\"],[0.7777777777777778,\"#fb9f3a\"],[0.8888888888888888,\"#fdca26\"],[1.0,\"#f0f921\"]]}],\"surface\":[{\"type\":\"surface\",\"colorbar\":{\"outlinewidth\":0,\"ticks\":\"\"},\"colorscale\":[[0.0,\"#0d0887\"],[0.1111111111111111,\"#46039f\"],[0.2222222222222222,\"#7201a8\"],[0.3333333333333333,\"#9c179e\"],[0.4444444444444444,\"#bd3786\"],[0.5555555555555556,\"#d8576b\"],[0.6666666666666666,\"#ed7953\"],[0.7777777777777778,\"#fb9f3a\"],[0.8888888888888888,\"#fdca26\"],[1.0,\"#f0f921\"]]}],\"mesh3d\":[{\"type\":\"mesh3d\",\"colorbar\":{\"outlinewidth\":0,\"ticks\":\"\"}}],\"scatter\":[{\"fillpattern\":{\"fillmode\":\"overlay\",\"size\":10,\"solidity\":0.2},\"type\":\"scatter\"}],\"parcoords\":[{\"type\":\"parcoords\",\"line\":{\"colorbar\":{\"outlinewidth\":0,\"ticks\":\"\"}}}],\"scatterpolargl\":[{\"type\":\"scatterpolargl\",\"marker\":{\"colorbar\":{\"outlinewidth\":0,\"ticks\":\"\"}}}],\"bar\":[{\"error_x\":{\"color\":\"#2a3f5f\"},\"error_y\":{\"color\":\"#2a3f5f\"},\"marker\":{\"line\":{\"color\":\"#E5ECF6\",\"width\":0.5},\"pattern\":{\"fillmode\":\"overlay\",\"size\":10,\"solidity\":0.2}},\"type\":\"bar\"}],\"scattergeo\":[{\"type\":\"scattergeo\",\"marker\":{\"colorbar\":{\"outlinewidth\":0,\"ticks\":\"\"}}}],\"scatterpolar\":[{\"type\":\"scatterpolar\",\"marker\":{\"colorbar\":{\"outlinewidth\":0,\"ticks\":\"\"}}}],\"histogram\":[{\"marker\":{\"pattern\":{\"fillmode\":\"overlay\",\"size\":10,\"solidity\":0.2}},\"type\":\"histogram\"}],\"scattergl\":[{\"type\":\"scattergl\",\"marker\":{\"colorbar\":{\"outlinewidth\":0,\"ticks\":\"\"}}}],\"scatter3d\":[{\"type\":\"scatter3d\",\"line\":{\"colorbar\":{\"outlinewidth\":0,\"ticks\":\"\"}},\"marker\":{\"colorbar\":{\"outlinewidth\":0,\"ticks\":\"\"}}}],\"scattermapbox\":[{\"type\":\"scattermapbox\",\"marker\":{\"colorbar\":{\"outlinewidth\":0,\"ticks\":\"\"}}}],\"scatterternary\":[{\"type\":\"scatterternary\",\"marker\":{\"colorbar\":{\"outlinewidth\":0,\"ticks\":\"\"}}}],\"scattercarpet\":[{\"type\":\"scattercarpet\",\"marker\":{\"colorbar\":{\"outlinewidth\":0,\"ticks\":\"\"}}}],\"carpet\":[{\"aaxis\":{\"endlinecolor\":\"#2a3f5f\",\"gridcolor\":\"white\",\"linecolor\":\"white\",\"minorgridcolor\":\"white\",\"startlinecolor\":\"#2a3f5f\"},\"baxis\":{\"endlinecolor\":\"#2a3f5f\",\"gridcolor\":\"white\",\"linecolor\":\"white\",\"minorgridcolor\":\"white\",\"startlinecolor\":\"#2a3f5f\"},\"type\":\"carpet\"}],\"table\":[{\"cells\":{\"fill\":{\"color\":\"#EBF0F8\"},\"line\":{\"color\":\"white\"}},\"header\":{\"fill\":{\"color\":\"#C8D4E3\"},\"line\":{\"color\":\"white\"}},\"type\":\"table\"}],\"barpolar\":[{\"marker\":{\"line\":{\"color\":\"#E5ECF6\",\"width\":0.5},\"pattern\":{\"fillmode\":\"overlay\",\"size\":10,\"solidity\":0.2}},\"type\":\"barpolar\"}],\"pie\":[{\"automargin\":true,\"type\":\"pie\"}]},\"layout\":{\"autotypenumbers\":\"strict\",\"colorway\":[\"#636efa\",\"#EF553B\",\"#00cc96\",\"#ab63fa\",\"#FFA15A\",\"#19d3f3\",\"#FF6692\",\"#B6E880\",\"#FF97FF\",\"#FECB52\"],\"font\":{\"color\":\"#2a3f5f\"},\"hovermode\":\"closest\",\"hoverlabel\":{\"align\":\"left\"},\"paper_bgcolor\":\"white\",\"plot_bgcolor\":\"#E5ECF6\",\"polar\":{\"bgcolor\":\"#E5ECF6\",\"angularaxis\":{\"gridcolor\":\"white\",\"linecolor\":\"white\",\"ticks\":\"\"},\"radialaxis\":{\"gridcolor\":\"white\",\"linecolor\":\"white\",\"ticks\":\"\"}},\"ternary\":{\"bgcolor\":\"#E5ECF6\",\"aaxis\":{\"gridcolor\":\"white\",\"linecolor\":\"white\",\"ticks\":\"\"},\"baxis\":{\"gridcolor\":\"white\",\"linecolor\":\"white\",\"ticks\":\"\"},\"caxis\":{\"gridcolor\":\"white\",\"linecolor\":\"white\",\"ticks\":\"\"}},\"coloraxis\":{\"colorbar\":{\"outlinewidth\":0,\"ticks\":\"\"}},\"colorscale\":{\"sequential\":[[0.0,\"#0d0887\"],[0.1111111111111111,\"#46039f\"],[0.2222222222222222,\"#7201a8\"],[0.3333333333333333,\"#9c179e\"],[0.4444444444444444,\"#bd3786\"],[0.5555555555555556,\"#d8576b\"],[0.6666666666666666,\"#ed7953\"],[0.7777777777777778,\"#fb9f3a\"],[0.8888888888888888,\"#fdca26\"],[1.0,\"#f0f921\"]],\"sequentialminus\":[[0.0,\"#0d0887\"],[0.1111111111111111,\"#46039f\"],[0.2222222222222222,\"#7201a8\"],[0.3333333333333333,\"#9c179e\"],[0.4444444444444444,\"#bd3786\"],[0.5555555555555556,\"#d8576b\"],[0.6666666666666666,\"#ed7953\"],[0.7777777777777778,\"#fb9f3a\"],[0.8888888888888888,\"#fdca26\"],[1.0,\"#f0f921\"]],\"diverging\":[[0,\"#8e0152\"],[0.1,\"#c51b7d\"],[0.2,\"#de77ae\"],[0.3,\"#f1b6da\"],[0.4,\"#fde0ef\"],[0.5,\"#f7f7f7\"],[0.6,\"#e6f5d0\"],[0.7,\"#b8e186\"],[0.8,\"#7fbc41\"],[0.9,\"#4d9221\"],[1,\"#276419\"]]},\"xaxis\":{\"gridcolor\":\"white\",\"linecolor\":\"white\",\"ticks\":\"\",\"title\":{\"standoff\":15},\"zerolinecolor\":\"white\",\"automargin\":true,\"zerolinewidth\":2},\"yaxis\":{\"gridcolor\":\"white\",\"linecolor\":\"white\",\"ticks\":\"\",\"title\":{\"standoff\":15},\"zerolinecolor\":\"white\",\"automargin\":true,\"zerolinewidth\":2},\"scene\":{\"xaxis\":{\"backgroundcolor\":\"#E5ECF6\",\"gridcolor\":\"white\",\"linecolor\":\"white\",\"showbackground\":true,\"ticks\":\"\",\"zerolinecolor\":\"white\",\"gridwidth\":2},\"yaxis\":{\"backgroundcolor\":\"#E5ECF6\",\"gridcolor\":\"white\",\"linecolor\":\"white\",\"showbackground\":true,\"ticks\":\"\",\"zerolinecolor\":\"white\",\"gridwidth\":2},\"zaxis\":{\"backgroundcolor\":\"#E5ECF6\",\"gridcolor\":\"white\",\"linecolor\":\"white\",\"showbackground\":true,\"ticks\":\"\",\"zerolinecolor\":\"white\",\"gridwidth\":2}},\"shapedefaults\":{\"line\":{\"color\":\"#2a3f5f\"}},\"annotationdefaults\":{\"arrowcolor\":\"#2a3f5f\",\"arrowhead\":0,\"arrowwidth\":1},\"geo\":{\"bgcolor\":\"white\",\"landcolor\":\"#E5ECF6\",\"subunitcolor\":\"white\",\"showland\":true,\"showlakes\":true,\"lakecolor\":\"white\"},\"title\":{\"x\":0.05},\"mapbox\":{\"style\":\"light\"}}},\"xaxis\":{\"anchor\":\"y\",\"domain\":[0.0,0.18400000000000002],\"title\":{\"text\":\"Head\"}},\"yaxis\":{\"anchor\":\"x\",\"domain\":[0.0,1.0],\"autorange\":\"reversed\",\"title\":{\"text\":\"Layer\"}},\"xaxis2\":{\"anchor\":\"y2\",\"domain\":[0.20400000000000001,0.388],\"matches\":\"x\",\"title\":{\"text\":\"Head\"}},\"yaxis2\":{\"anchor\":\"x2\",\"domain\":[0.0,1.0],\"matches\":\"y\",\"showticklabels\":false},\"xaxis3\":{\"anchor\":\"y3\",\"domain\":[0.40800000000000003,0.5920000000000001],\"matches\":\"x\",\"title\":{\"text\":\"Head\"}},\"yaxis3\":{\"anchor\":\"x3\",\"domain\":[0.0,1.0],\"matches\":\"y\",\"showticklabels\":false},\"xaxis4\":{\"anchor\":\"y4\",\"domain\":[0.6120000000000001,0.7960000000000002],\"matches\":\"x\",\"title\":{\"text\":\"Head\"}},\"yaxis4\":{\"anchor\":\"x4\",\"domain\":[0.0,1.0],\"matches\":\"y\",\"showticklabels\":false},\"xaxis5\":{\"anchor\":\"y5\",\"domain\":[0.8160000000000001,1.0],\"matches\":\"x\",\"title\":{\"text\":\"Head\"}},\"yaxis5\":{\"anchor\":\"x5\",\"domain\":[0.0,1.0],\"matches\":\"y\",\"showticklabels\":false},\"annotations\":[{\"font\":{},\"showarrow\":false,\"text\":\"Output\",\"x\":0.09200000000000001,\"xanchor\":\"center\",\"xref\":\"paper\",\"y\":1.0,\"yanchor\":\"bottom\",\"yref\":\"paper\"},{\"font\":{},\"showarrow\":false,\"text\":\"Query\",\"x\":0.29600000000000004,\"xanchor\":\"center\",\"xref\":\"paper\",\"y\":1.0,\"yanchor\":\"bottom\",\"yref\":\"paper\"},{\"font\":{},\"showarrow\":false,\"text\":\"Key\",\"x\":0.5,\"xanchor\":\"center\",\"xref\":\"paper\",\"y\":1.0,\"yanchor\":\"bottom\",\"yref\":\"paper\"},{\"font\":{},\"showarrow\":false,\"text\":\"Value\",\"x\":0.7040000000000002,\"xanchor\":\"center\",\"xref\":\"paper\",\"y\":1.0,\"yanchor\":\"bottom\",\"yref\":\"paper\"},{\"font\":{},\"showarrow\":false,\"text\":\"Pattern\",\"x\":0.908,\"xanchor\":\"center\",\"xref\":\"paper\",\"y\":1.0,\"yanchor\":\"bottom\",\"yref\":\"paper\"}],\"coloraxis\":{\"colorscale\":[[0.0,\"rgb(103,0,31)\"],[0.1,\"rgb(178,24,43)\"],[0.2,\"rgb(214,96,77)\"],[0.3,\"rgb(244,165,130)\"],[0.4,\"rgb(253,219,199)\"],[0.5,\"rgb(247,247,247)\"],[0.6,\"rgb(209,229,240)\"],[0.7,\"rgb(146,197,222)\"],[0.8,\"rgb(67,147,195)\"],[0.9,\"rgb(33,102,172)\"],[1.0,\"rgb(5,48,97)\"]],\"cmid\":0.0},\"title\":{\"text\":\"Activation Patching Per Head (All Pos)\"}},                        {\"responsive\": true}                    ).then(function(){\n",
              "                            \n",
              "var gd = document.getElementById('fd94df4e-565e-40fb-8cca-9d08bd58bb60');\n",
              "var x = new MutationObserver(function (mutations, observer) {{\n",
              "        var display = window.getComputedStyle(gd).display;\n",
              "        if (!display || display === 'none') {{\n",
              "            console.log([gd, 'removed!']);\n",
              "            Plotly.purge(gd);\n",
              "            observer.disconnect();\n",
              "        }}\n",
              "}});\n",
              "\n",
              "// Listen for the removal of the full notebook cells\n",
              "var notebookContainer = gd.closest('#notebook-container');\n",
              "if (notebookContainer) {{\n",
              "    x.observe(notebookContainer, {childList: true});\n",
              "}}\n",
              "\n",
              "// Listen for the clearing of the current output cell\n",
              "var outputEl = gd.closest('.output');\n",
              "if (outputEl) {{\n",
              "    x.observe(outputEl, {childList: true});\n",
              "}}\n",
              "\n",
              "                        })                };                            </script>        </div>\n",
              "</body>\n",
              "</html>"
            ]
          },
          "metadata": {},
          "output_type": "display_data"
        }
      ],
      "source": [
        "imshow(every_head_all_pos_act_patch_result, facet_col=0, facet_labels=[\"Output\", \"Query\", \"Key\", \"Value\", \"Pattern\"], title=\"Activation Patching Per Head (All Pos)\", xaxis=\"Head\", yaxis=\"Layer\") #, zmax=1, zmin=-1)\n"
      ]
    },
    {
      "cell_type": "code",
      "execution_count": 55,
      "metadata": {
        "colab": {
          "base_uri": "https://localhost:8080/"
        },
        "id": "aO2O_ALx5vDQ",
        "outputId": "6517950b-3355-4443-f850-968c98e8ef09"
      },
      "outputs": [
        {
          "data": {
            "text/plain": [
              "[(12, 15), (13, 1), (13, 6), (15, 15), (16, 13), (17, 0), (17, 10), (17, 7)]"
            ]
          },
          "execution_count": 55,
          "metadata": {},
          "output_type": "execute_result"
        }
      ],
      "source": [
        "nmh_candidates"
      ]
    },
    {
      "cell_type": "markdown",
      "metadata": {
        "id": "jTR8Yuu-glCM"
      },
      "source": [
        "## Circuit Sketching"
      ]
    },
    {
      "cell_type": "markdown",
      "metadata": {
        "id": "fmGNftUvUlOC"
      },
      "source": [
        "### First Level"
      ]
    },
    {
      "cell_type": "markdown",
      "metadata": {
        "id": "g6p64jY37YGs"
      },
      "source": [
        "Previously we identified some NMH candidates through logit difference contribution. In order to be NMHs, the attention pattern should be the key attention head component to performance (as opposed to value), and it should be in the later layers (as opposed to e.g. induction heads, whose attention patterns are also important but occur earlier).\n",
        "\n",
        "Is this the case? We can do some attention patching to find out."
      ]
    },
    {
      "cell_type": "markdown",
      "metadata": {
        "id": "VirxokHeDQ28"
      },
      "source": [
        "#### Attention Pattern Patching"
      ]
    },
    {
      "cell_type": "markdown",
      "metadata": {
        "id": "M4wnoKarDn75"
      },
      "source": [
        "Here we can see that patching the head attention patterns has a different effect from our whole-head patching above--all of our potential NMHs L8H1, L8H2, L8H5, L8H8, and L8H10 are represented. (Earlier heads shown here are probably other parts of the circuit). Interestingly, patching L9H11's attention is having a negative effect, so it is probably a negative NMH."
      ]
    },
    {
      "cell_type": "code",
      "execution_count": 43,
      "metadata": {
        "colab": {
          "base_uri": "https://localhost:8080/",
          "height": 49,
          "referenced_widgets": [
            "17f94e50790d4c29823c40718bf2c641",
            "93c9526b56944ba28c3e4f5a3c026b88",
            "131adce7a0434cf5a35d35645ea19bc4",
            "1757ce7338594a5a955786e5c9fe9404",
            "026cbaecd3494a17aa85cb0436d7db26",
            "15bf0f002c5d42ff80885016c14209d8",
            "9d59a925449f4860a4f4ccb354faa464",
            "490dae1ed740469a9d51dbc7412baace",
            "30f04baf863541ecbcee146ae71aab3f",
            "4f21d5eaf6ec42afbbf4195c7d7ac83d",
            "4b20e429dbe24ff7933b7ed58dee82fd"
          ]
        },
        "id": "FkJzhFdnCmF8",
        "outputId": "4f3ae6ec-1098-42b8-8976-732ccea58dc2"
      },
      "outputs": [
        {
          "data": {
            "application/vnd.jupyter.widget-view+json": {
              "model_id": "17f94e50790d4c29823c40718bf2c641",
              "version_major": 2,
              "version_minor": 0
            },
            "text/plain": [
              "  0%|          | 0/384 [00:00<?, ?it/s]"
            ]
          },
          "metadata": {},
          "output_type": "display_data"
        }
      ],
      "source": [
        "attn_head_pattern_all_pos_act_patch_results = patching.get_act_patch_attn_head_pattern_all_pos(model, corrupted_tokens, clean_cache, ioi_metric)"
      ]
    },
    {
      "cell_type": "code",
      "execution_count": 44,
      "metadata": {
        "colab": {
          "base_uri": "https://localhost:8080/",
          "height": 542
        },
        "id": "-uO83SOTgSyo",
        "outputId": "7a6d2ff8-4f64-47a4-c1c5-d38f5bdab54a"
      },
      "outputs": [
        {
          "data": {
            "text/html": [
              "<html>\n",
              "<head><meta charset=\"utf-8\" /></head>\n",
              "<body>\n",
              "    <div>            <script src=\"https://cdnjs.cloudflare.com/ajax/libs/mathjax/2.7.5/MathJax.js?config=TeX-AMS-MML_SVG\"></script><script type=\"text/javascript\">if (window.MathJax && window.MathJax.Hub && window.MathJax.Hub.Config) {window.MathJax.Hub.Config({SVG: {font: \"STIX-Web\"}});}</script>                <script type=\"text/javascript\">window.PlotlyConfig = {MathJaxConfig: 'local'};</script>\n",
              "        <script src=\"https://cdn.plot.ly/plotly-2.18.2.min.js\"></script>                <div id=\"b2fb2c99-20c0-4973-9d2d-850f66f44e59\" class=\"plotly-graph-div\" style=\"height:525px; width:100%;\"></div>            <script type=\"text/javascript\">                                    window.PLOTLYENV=window.PLOTLYENV || {};                                    if (document.getElementById(\"b2fb2c99-20c0-4973-9d2d-850f66f44e59\")) {                    Plotly.newPlot(                        \"b2fb2c99-20c0-4973-9d2d-850f66f44e59\",                        [{\"coloraxis\":\"coloraxis\",\"name\":\"0\",\"z\":[[-2.829452569130808e-06,0.0005842295358888805,-0.0003582925128284842,-0.0014421824598684907,-0.0005569829954765737,6.921678868820891e-05,0.000863297376781702,-0.0004405562358442694,-7.293700036825612e-05,-0.0009050056105479598,0.00019827127107419074,-2.3211989173432812e-05,4.768151484313421e-05,0.00027016032254323363,-0.0003647373814601451,1.0479453749212553e-06],[-5.669384336215444e-05,-0.00020560687698889524,-0.0008308110991492867,1.1527398783073295e-05,0.00015048494969960302,-0.0004527124110609293,-2.0906511053908616e-05,3.531575930537656e-05,-4.658117177314125e-05,0.0003098774468526244,-0.0002868226438295096,-6.434384704334661e-05,0.0007101401570253074,-0.00014592638763133436,-3.625890894909389e-05,-0.00012716816854663193],[0.001172965276055038,-7.65000095270807e-06,-0.00021802503033541143,9.148562821792439e-05,3.489658047328703e-05,-0.0006046121125109494,-6.282432877924293e-05,-0.0018526626517996192,5.952329593128525e-05,-0.00013623290578834713,2.515068990760483e-05,0.0005633754190057516,-0.0006634542369283736,0.00012795413204003125,-5.5121927289292216e-05,-5.229247472016141e-05],[0.00017872708849608898,0.0023486551363021135,0.0002889709430746734,-0.0007574548944830894,0.00018559112504590303,-0.00048105933819897473,-0.0001399531029164791,0.00014309694233816117,0.0002748760743997991,-3.39534308295697e-05,-7.875309529481456e-05,-0.0005530007765628397,-0.0001623267453396693,-0.0036430249456316233,2.0487332221819088e-05,-0.0005703966598957777],[-0.00018616749730426818,-0.0011384878307580948,8.069179602898657e-05,0.00019769489881582558,-0.0009957576403394341,-0.0003055284614674747,3.552534690243192e-05,-0.0002997123810928315,0.00018307605932932347,-0.0017293718410655856,-2.766575744317379e-05,6.0152065998408943e-05,-0.0002148812054656446,0.0004653925425373018,-0.00012748254812322557,-0.00021294249745551497],[0.00030814833007752895,-3.982192538387608e-06,0.0006100613973103464,0.0002484678407199681,-0.00010699521953938529,0.0006614631274715066,0.0007460323395207524,0.00012538666487671435,-0.004863095469772816,-0.00019125003018416464,-0.00028420277521945536,-0.0012509848456829786,0.0009742224356159568,-0.0007286363979801536,0.00047676273970864713,-6.392466730176238e-06],[1.0479453749212553e-06,-1.0165070307266433e-05,0.0011026480933651328,-8.079659164650366e-05,-0.00028200208907946944,-9.913563553709537e-05,-2.7508565835887566e-05,-6.806405144743621e-05,-0.0005657332949340343,-0.0006311251199804246,0.0006380939157679677,6.528700032504275e-05,9.552021947456524e-05,-0.0013473433209583163,-0.0004294480022508651,-3.353425199748017e-06],[-0.0004125761042814702,-0.0005097206449136138,0.00020429695723578334,-0.01004733331501484,3.777843085117638e-05,0.000417711038608104,-0.0038739920128136873,-0.00024841545382514596,0.0010501460637897253,-5.019658419769257e-05,0.0006939494051039219,0.0003346613666508347,-0.00016578496433794498,-0.0015460337745025754,-0.0006158251198939979,-0.0011704502394422889],[-0.0010256764944642782,-0.00047686754260212183,-0.000538696302101016,-0.0016646612202748656,0.00017333016148768365,-0.0005218767910264432,-0.004542895592749119,-0.0008494645007885993,-0.0010089618153870106,-0.0002607288188301027,-0.00227928115054965,-0.0007634806097485125,0.00021650551934726536,-0.00067760149249807,0.0005413685576058924,1.2680138752330095e-05],[0.00040503087802790105,0.10965757817029953,-0.0001632698840694502,-0.0002028822200372815,0.0011382782831788063,-0.0005839151563122869,0.001871525659225881,0.00041372881969437003,-0.00025800414732657373,-0.007082014810293913,-4.5061651690048166e-06,-8.488357707392424e-06,4.244178853696212e-05,-0.0010570625308901072,0.0001858007162809372,-0.0017132335342466831],[0.0032074463088065386,0.00019313633674755692,0.0008200172451324761,-0.00010940549691440538,0.00309269642457366,0.0005764747620560229,-6.575856968993321e-05,0.004993669223040342,7.859590368752833e-06,-6.161919009173289e-05,0.0010650792391970754,-0.0004457959730643779,-0.00012727297144010663,5.606507693300955e-05,-0.0011956008384004235,-5.5960281315492466e-05],[-6.120000762166455e-05,0.010728969238698483,-0.00044820623588748276,0.0009433604427613318,0.0005913555505685508,0.0008599439752288163,0.007887884974479675,0.00020696921274065971,0.06537151336669922,-0.0003493325784802437,0.00045014492934569716,-0.0016908599063754082,1.467123547627125e-05,-9.756371582625434e-05,0.0013672019122168422,-0.0103093720972538],[-0.00045821411185897887,-0.02393648773431778,-0.00026712127146311104,0.00042598979780450463,-0.0002615671546664089,-0.01152383629232645,0.0010840471368283033,-0.11031045019626617,-0.0020055577624589205,0.001190832699649036,-0.000280796957667917,0.018289372324943542,-0.000530260382220149,-9.221919754054397e-06,-0.00011333529255352914,0.06631461530923843],[0.0033276458270847797,0.0042008464224636555,-0.0014554912922903895,-0.00010898632172029465,-2.0958907498425106e-06,0.00010091713920701295,0.07616600394248962,0.0005203572800382972,0.00039208875386975706,-0.0003218240162823349,5.1349325076444075e-06,-0.003228510031476617,0.0004664928710553795,0.0002009435265790671,-0.0002657589502632618,0.002513601677492261],[-0.00019570380391087383,-0.001800684491172433,0.0009054248221218586,5.501713076228043e-06,-0.0006981412298046052,-0.0001778363366611302,0.0432882122695446,0.00043793636723421514,-0.0010784929618239403,0.002782609313726425,-9.117125046032015e-06,-0.058531783521175385,-0.008137505501508713,0.0001403198839398101,-0.016103042289614677,5.124452945892699e-05],[-9.756371582625434e-05,0.0015662068035453558,1.116061866923701e-05,-1.414726284565404e-06,-0.0002318055194336921,-0.0002232123661087826,6.795925582991913e-05,0.0045351930893957615,-4.13938414567383e-06,0.0003353425126988441,-0.00014922741684131324,0.016620727255940437,-0.0005543106817640364,0.0009159042383544147,0.008410390466451645,0.1876174658536911],[0.0001282685116166249,-0.0009219823405146599,-0.0004669644695241004,-0.0021201507188379765,-7.65000149840489e-05,0.0002595236583147198,0.0007208292372524738,-9.436748223379254e-05,2.2006852304912172e-06,-1.058424822986126e-05,-8.435959898633882e-06,4.244178853696212e-05,-0.00014650275988969952,0.041065312922000885,-4.7367131628561765e-05,-0.0015614386647939682],[-0.0001601784460945055,0.0008454823400825262,0.0,2.0958907498425106e-07,-3.405822553759208e-06,5.6169872550526634e-05,-0.00017008153372444212,0.12233321368694305,0.00042137884884141386,1.2575344499055063e-06,0.01742282509803772,-0.0012221138458698988,0.0,0.009956319816410542,-6.025685706845252e-06,0.001469219452701509],[-0.0008434388437308371,-0.0002059212711174041,0.00039722368819639087,-2.5884250135277398e-05,-0.00026649251230992377,-4.883425572188571e-05,0.001955989981070161,-1.2470550245780032e-05,0.00046816960093565285,0.005787173751741648,-1.6138359569595195e-05,0.0015728612197563052,1.5195207652141107e-06,-0.00029426306718960404,-1.0793837645906024e-05,0.000610899762250483],[-1.5719181192253018e-06,-0.00016510378918610513,-0.001621538307517767,-0.00023992708884179592,-1.351849550701445e-05,0.003114179242402315,0.0021789928432554007,2.3683565814280882e-05,1.9072605937253684e-05,8.425481064477935e-05,-7.917227048892528e-05,5.4597952839685604e-05,1.9648976376629435e-05,0.0004237891116645187,0.00013005001528654248,9.876885451376438e-05],[0.0006867186166346073,-0.09996293485164642,-0.00012355275976005942,-0.00019051646813750267,1.3308906090969685e-05,3.594452573452145e-05,-1.2156166121712886e-05,-0.0005401110392995179,0.0010224803118035197,-4.610959877027199e-06,-7.81767230364494e-05,0.0016081769717857242,1.823425009206403e-05,-8.294487633975223e-05,7.948665734147653e-05,-2.949966255982872e-05],[-0.000514803163241595,-2.4626715457998216e-05,2.4941100491560064e-05,-0.0014722584746778011,4.3175350583624095e-05,0.0003708678705152124,-0.00016463221982121468,-0.00010689043119782582,2.724657861108426e-06,-7.251781789818779e-05,-0.0001935031177708879,-5.2397268746062764e-08,6.654453318333253e-05,-7.042192737571895e-05,-0.0006279288791120052,0.0012923262547701597],[1.414726284565404e-05,0.0005572973750531673,0.000533718557562679,-3.159555126330815e-05,-0.0001494370080763474,-7.440411991410656e-06,-0.000586482638027519,-0.00024443326401524246,5.313082874636166e-05,-5.166370829101652e-05,-0.014146004803478718,-4.3804117012768984e-05,3.227671913919039e-05,-1.4933221791579854e-05,-1.723870082059875e-05,-5.810856964671984e-05],[1.7291098629357293e-05,-8.435959898633882e-06,6.806405144743621e-05,-6.287672249527532e-07,5.124452945892699e-05,0.0010169786401093006,3.929795184376417e-06,-2.5150688998110127e-06,-2.1430483684525825e-05,5.187329406908248e-06,0.00024354251218028367,8.545994205633178e-05,-5.2397268746062764e-08,-6.161919009173289e-05,0.000505319272633642,-5.2187679102644324e-05]],\"type\":\"heatmap\",\"xaxis\":\"x\",\"yaxis\":\"y\",\"hovertemplate\":\"x: %{x}<br>y: %{y}<br>color: %{z}<extra></extra>\"}],                        {\"template\":{\"data\":{\"histogram2dcontour\":[{\"type\":\"histogram2dcontour\",\"colorbar\":{\"outlinewidth\":0,\"ticks\":\"\"},\"colorscale\":[[0.0,\"#0d0887\"],[0.1111111111111111,\"#46039f\"],[0.2222222222222222,\"#7201a8\"],[0.3333333333333333,\"#9c179e\"],[0.4444444444444444,\"#bd3786\"],[0.5555555555555556,\"#d8576b\"],[0.6666666666666666,\"#ed7953\"],[0.7777777777777778,\"#fb9f3a\"],[0.8888888888888888,\"#fdca26\"],[1.0,\"#f0f921\"]]}],\"choropleth\":[{\"type\":\"choropleth\",\"colorbar\":{\"outlinewidth\":0,\"ticks\":\"\"}}],\"histogram2d\":[{\"type\":\"histogram2d\",\"colorbar\":{\"outlinewidth\":0,\"ticks\":\"\"},\"colorscale\":[[0.0,\"#0d0887\"],[0.1111111111111111,\"#46039f\"],[0.2222222222222222,\"#7201a8\"],[0.3333333333333333,\"#9c179e\"],[0.4444444444444444,\"#bd3786\"],[0.5555555555555556,\"#d8576b\"],[0.6666666666666666,\"#ed7953\"],[0.7777777777777778,\"#fb9f3a\"],[0.8888888888888888,\"#fdca26\"],[1.0,\"#f0f921\"]]}],\"heatmap\":[{\"type\":\"heatmap\",\"colorbar\":{\"outlinewidth\":0,\"ticks\":\"\"},\"colorscale\":[[0.0,\"#0d0887\"],[0.1111111111111111,\"#46039f\"],[0.2222222222222222,\"#7201a8\"],[0.3333333333333333,\"#9c179e\"],[0.4444444444444444,\"#bd3786\"],[0.5555555555555556,\"#d8576b\"],[0.6666666666666666,\"#ed7953\"],[0.7777777777777778,\"#fb9f3a\"],[0.8888888888888888,\"#fdca26\"],[1.0,\"#f0f921\"]]}],\"heatmapgl\":[{\"type\":\"heatmapgl\",\"colorbar\":{\"outlinewidth\":0,\"ticks\":\"\"},\"colorscale\":[[0.0,\"#0d0887\"],[0.1111111111111111,\"#46039f\"],[0.2222222222222222,\"#7201a8\"],[0.3333333333333333,\"#9c179e\"],[0.4444444444444444,\"#bd3786\"],[0.5555555555555556,\"#d8576b\"],[0.6666666666666666,\"#ed7953\"],[0.7777777777777778,\"#fb9f3a\"],[0.8888888888888888,\"#fdca26\"],[1.0,\"#f0f921\"]]}],\"contourcarpet\":[{\"type\":\"contourcarpet\",\"colorbar\":{\"outlinewidth\":0,\"ticks\":\"\"}}],\"contour\":[{\"type\":\"contour\",\"colorbar\":{\"outlinewidth\":0,\"ticks\":\"\"},\"colorscale\":[[0.0,\"#0d0887\"],[0.1111111111111111,\"#46039f\"],[0.2222222222222222,\"#7201a8\"],[0.3333333333333333,\"#9c179e\"],[0.4444444444444444,\"#bd3786\"],[0.5555555555555556,\"#d8576b\"],[0.6666666666666666,\"#ed7953\"],[0.7777777777777778,\"#fb9f3a\"],[0.8888888888888888,\"#fdca26\"],[1.0,\"#f0f921\"]]}],\"surface\":[{\"type\":\"surface\",\"colorbar\":{\"outlinewidth\":0,\"ticks\":\"\"},\"colorscale\":[[0.0,\"#0d0887\"],[0.1111111111111111,\"#46039f\"],[0.2222222222222222,\"#7201a8\"],[0.3333333333333333,\"#9c179e\"],[0.4444444444444444,\"#bd3786\"],[0.5555555555555556,\"#d8576b\"],[0.6666666666666666,\"#ed7953\"],[0.7777777777777778,\"#fb9f3a\"],[0.8888888888888888,\"#fdca26\"],[1.0,\"#f0f921\"]]}],\"mesh3d\":[{\"type\":\"mesh3d\",\"colorbar\":{\"outlinewidth\":0,\"ticks\":\"\"}}],\"scatter\":[{\"fillpattern\":{\"fillmode\":\"overlay\",\"size\":10,\"solidity\":0.2},\"type\":\"scatter\"}],\"parcoords\":[{\"type\":\"parcoords\",\"line\":{\"colorbar\":{\"outlinewidth\":0,\"ticks\":\"\"}}}],\"scatterpolargl\":[{\"type\":\"scatterpolargl\",\"marker\":{\"colorbar\":{\"outlinewidth\":0,\"ticks\":\"\"}}}],\"bar\":[{\"error_x\":{\"color\":\"#2a3f5f\"},\"error_y\":{\"color\":\"#2a3f5f\"},\"marker\":{\"line\":{\"color\":\"#E5ECF6\",\"width\":0.5},\"pattern\":{\"fillmode\":\"overlay\",\"size\":10,\"solidity\":0.2}},\"type\":\"bar\"}],\"scattergeo\":[{\"type\":\"scattergeo\",\"marker\":{\"colorbar\":{\"outlinewidth\":0,\"ticks\":\"\"}}}],\"scatterpolar\":[{\"type\":\"scatterpolar\",\"marker\":{\"colorbar\":{\"outlinewidth\":0,\"ticks\":\"\"}}}],\"histogram\":[{\"marker\":{\"pattern\":{\"fillmode\":\"overlay\",\"size\":10,\"solidity\":0.2}},\"type\":\"histogram\"}],\"scattergl\":[{\"type\":\"scattergl\",\"marker\":{\"colorbar\":{\"outlinewidth\":0,\"ticks\":\"\"}}}],\"scatter3d\":[{\"type\":\"scatter3d\",\"line\":{\"colorbar\":{\"outlinewidth\":0,\"ticks\":\"\"}},\"marker\":{\"colorbar\":{\"outlinewidth\":0,\"ticks\":\"\"}}}],\"scattermapbox\":[{\"type\":\"scattermapbox\",\"marker\":{\"colorbar\":{\"outlinewidth\":0,\"ticks\":\"\"}}}],\"scatterternary\":[{\"type\":\"scatterternary\",\"marker\":{\"colorbar\":{\"outlinewidth\":0,\"ticks\":\"\"}}}],\"scattercarpet\":[{\"type\":\"scattercarpet\",\"marker\":{\"colorbar\":{\"outlinewidth\":0,\"ticks\":\"\"}}}],\"carpet\":[{\"aaxis\":{\"endlinecolor\":\"#2a3f5f\",\"gridcolor\":\"white\",\"linecolor\":\"white\",\"minorgridcolor\":\"white\",\"startlinecolor\":\"#2a3f5f\"},\"baxis\":{\"endlinecolor\":\"#2a3f5f\",\"gridcolor\":\"white\",\"linecolor\":\"white\",\"minorgridcolor\":\"white\",\"startlinecolor\":\"#2a3f5f\"},\"type\":\"carpet\"}],\"table\":[{\"cells\":{\"fill\":{\"color\":\"#EBF0F8\"},\"line\":{\"color\":\"white\"}},\"header\":{\"fill\":{\"color\":\"#C8D4E3\"},\"line\":{\"color\":\"white\"}},\"type\":\"table\"}],\"barpolar\":[{\"marker\":{\"line\":{\"color\":\"#E5ECF6\",\"width\":0.5},\"pattern\":{\"fillmode\":\"overlay\",\"size\":10,\"solidity\":0.2}},\"type\":\"barpolar\"}],\"pie\":[{\"automargin\":true,\"type\":\"pie\"}]},\"layout\":{\"autotypenumbers\":\"strict\",\"colorway\":[\"#636efa\",\"#EF553B\",\"#00cc96\",\"#ab63fa\",\"#FFA15A\",\"#19d3f3\",\"#FF6692\",\"#B6E880\",\"#FF97FF\",\"#FECB52\"],\"font\":{\"color\":\"#2a3f5f\"},\"hovermode\":\"closest\",\"hoverlabel\":{\"align\":\"left\"},\"paper_bgcolor\":\"white\",\"plot_bgcolor\":\"#E5ECF6\",\"polar\":{\"bgcolor\":\"#E5ECF6\",\"angularaxis\":{\"gridcolor\":\"white\",\"linecolor\":\"white\",\"ticks\":\"\"},\"radialaxis\":{\"gridcolor\":\"white\",\"linecolor\":\"white\",\"ticks\":\"\"}},\"ternary\":{\"bgcolor\":\"#E5ECF6\",\"aaxis\":{\"gridcolor\":\"white\",\"linecolor\":\"white\",\"ticks\":\"\"},\"baxis\":{\"gridcolor\":\"white\",\"linecolor\":\"white\",\"ticks\":\"\"},\"caxis\":{\"gridcolor\":\"white\",\"linecolor\":\"white\",\"ticks\":\"\"}},\"coloraxis\":{\"colorbar\":{\"outlinewidth\":0,\"ticks\":\"\"}},\"colorscale\":{\"sequential\":[[0.0,\"#0d0887\"],[0.1111111111111111,\"#46039f\"],[0.2222222222222222,\"#7201a8\"],[0.3333333333333333,\"#9c179e\"],[0.4444444444444444,\"#bd3786\"],[0.5555555555555556,\"#d8576b\"],[0.6666666666666666,\"#ed7953\"],[0.7777777777777778,\"#fb9f3a\"],[0.8888888888888888,\"#fdca26\"],[1.0,\"#f0f921\"]],\"sequentialminus\":[[0.0,\"#0d0887\"],[0.1111111111111111,\"#46039f\"],[0.2222222222222222,\"#7201a8\"],[0.3333333333333333,\"#9c179e\"],[0.4444444444444444,\"#bd3786\"],[0.5555555555555556,\"#d8576b\"],[0.6666666666666666,\"#ed7953\"],[0.7777777777777778,\"#fb9f3a\"],[0.8888888888888888,\"#fdca26\"],[1.0,\"#f0f921\"]],\"diverging\":[[0,\"#8e0152\"],[0.1,\"#c51b7d\"],[0.2,\"#de77ae\"],[0.3,\"#f1b6da\"],[0.4,\"#fde0ef\"],[0.5,\"#f7f7f7\"],[0.6,\"#e6f5d0\"],[0.7,\"#b8e186\"],[0.8,\"#7fbc41\"],[0.9,\"#4d9221\"],[1,\"#276419\"]]},\"xaxis\":{\"gridcolor\":\"white\",\"linecolor\":\"white\",\"ticks\":\"\",\"title\":{\"standoff\":15},\"zerolinecolor\":\"white\",\"automargin\":true,\"zerolinewidth\":2},\"yaxis\":{\"gridcolor\":\"white\",\"linecolor\":\"white\",\"ticks\":\"\",\"title\":{\"standoff\":15},\"zerolinecolor\":\"white\",\"automargin\":true,\"zerolinewidth\":2},\"scene\":{\"xaxis\":{\"backgroundcolor\":\"#E5ECF6\",\"gridcolor\":\"white\",\"linecolor\":\"white\",\"showbackground\":true,\"ticks\":\"\",\"zerolinecolor\":\"white\",\"gridwidth\":2},\"yaxis\":{\"backgroundcolor\":\"#E5ECF6\",\"gridcolor\":\"white\",\"linecolor\":\"white\",\"showbackground\":true,\"ticks\":\"\",\"zerolinecolor\":\"white\",\"gridwidth\":2},\"zaxis\":{\"backgroundcolor\":\"#E5ECF6\",\"gridcolor\":\"white\",\"linecolor\":\"white\",\"showbackground\":true,\"ticks\":\"\",\"zerolinecolor\":\"white\",\"gridwidth\":2}},\"shapedefaults\":{\"line\":{\"color\":\"#2a3f5f\"}},\"annotationdefaults\":{\"arrowcolor\":\"#2a3f5f\",\"arrowhead\":0,\"arrowwidth\":1},\"geo\":{\"bgcolor\":\"white\",\"landcolor\":\"#E5ECF6\",\"subunitcolor\":\"white\",\"showland\":true,\"showlakes\":true,\"lakecolor\":\"white\"},\"title\":{\"x\":0.05},\"mapbox\":{\"style\":\"light\"}}},\"xaxis\":{\"anchor\":\"y\",\"domain\":[0.0,1.0],\"title\":{\"text\":\"Head\"}},\"yaxis\":{\"anchor\":\"x\",\"domain\":[0.0,1.0],\"autorange\":\"reversed\",\"title\":{\"text\":\"Layer\"}},\"coloraxis\":{\"colorscale\":[[0.0,\"rgb(103,0,31)\"],[0.1,\"rgb(178,24,43)\"],[0.2,\"rgb(214,96,77)\"],[0.3,\"rgb(244,165,130)\"],[0.4,\"rgb(253,219,199)\"],[0.5,\"rgb(247,247,247)\"],[0.6,\"rgb(209,229,240)\"],[0.7,\"rgb(146,197,222)\"],[0.8,\"rgb(67,147,195)\"],[0.9,\"rgb(33,102,172)\"],[1.0,\"rgb(5,48,97)\"]],\"cmid\":0.0},\"title\":{\"text\":\"IOI Metric for 'attn_head_pattern' Activation Patching (All Pos)\"}},                        {\"responsive\": true}                    ).then(function(){\n",
              "                            \n",
              "var gd = document.getElementById('b2fb2c99-20c0-4973-9d2d-850f66f44e59');\n",
              "var x = new MutationObserver(function (mutations, observer) {{\n",
              "        var display = window.getComputedStyle(gd).display;\n",
              "        if (!display || display === 'none') {{\n",
              "            console.log([gd, 'removed!']);\n",
              "            Plotly.purge(gd);\n",
              "            observer.disconnect();\n",
              "        }}\n",
              "}});\n",
              "\n",
              "// Listen for the removal of the full notebook cells\n",
              "var notebookContainer = gd.closest('#notebook-container');\n",
              "if (notebookContainer) {{\n",
              "    x.observe(notebookContainer, {childList: true});\n",
              "}}\n",
              "\n",
              "// Listen for the clearing of the current output cell\n",
              "var outputEl = gd.closest('.output');\n",
              "if (outputEl) {{\n",
              "    x.observe(outputEl, {childList: true});\n",
              "}}\n",
              "\n",
              "                        })                };                            </script>        </div>\n",
              "</body>\n",
              "</html>"
            ]
          },
          "metadata": {},
          "output_type": "display_data"
        }
      ],
      "source": [
        "imshow(attn_head_pattern_all_pos_act_patch_results, \n",
        "       yaxis=\"Layer\", \n",
        "       xaxis=\"Head\", \n",
        "       title=\"IOI Metric for 'attn_head_pattern' Activation Patching (All Pos)\")"
      ]
    },
    {
      "cell_type": "code",
      "execution_count": 56,
      "metadata": {
        "colab": {
          "base_uri": "https://localhost:8080/"
        },
        "id": "Lmy9j4f86Gkg",
        "outputId": "47845160-c5b1-43a0-ff6e-a9b4b6377613"
      },
      "outputs": [
        {
          "data": {
            "text/plain": [
              "[(12, 15), (13, 1), (13, 6), (15, 15), (16, 13), (17, 0), (17, 10), (17, 7)]"
            ]
          },
          "execution_count": 56,
          "metadata": {},
          "output_type": "execute_result"
        }
      ],
      "source": [
        "nmh_candidates"
      ]
    },
    {
      "cell_type": "markdown",
      "metadata": {
        "id": "LMGitdHK8Rop"
      },
      "source": [
        "If we look at the relative importance of attention vs. value patching for these heads, it's even clearer. But what's apparent is that one of the name mover attention heads is clearly above all the others."
      ]
    },
    {
      "cell_type": "code",
      "execution_count": 47,
      "metadata": {
        "colab": {
          "base_uri": "https://localhost:8080/",
          "height": 542
        },
        "id": "4_5KSLiq-lfT",
        "outputId": "c1655932-de3b-4088-c341-69b7282d9be4"
      },
      "outputs": [
        {
          "data": {
            "text/html": [
              "<html>\n",
              "<head><meta charset=\"utf-8\" /></head>\n",
              "<body>\n",
              "    <div>            <script src=\"https://cdnjs.cloudflare.com/ajax/libs/mathjax/2.7.5/MathJax.js?config=TeX-AMS-MML_SVG\"></script><script type=\"text/javascript\">if (window.MathJax && window.MathJax.Hub && window.MathJax.Hub.Config) {window.MathJax.Hub.Config({SVG: {font: \"STIX-Web\"}});}</script>                <script type=\"text/javascript\">window.PlotlyConfig = {MathJaxConfig: 'local'};</script>\n",
              "        <script src=\"https://cdn.plot.ly/plotly-2.18.2.min.js\"></script>                <div id=\"9fa1b3e8-0fc2-41f2-a3e0-95a0b2aea917\" class=\"plotly-graph-div\" style=\"height:525px; width:100%;\"></div>            <script type=\"text/javascript\">                                    window.PLOTLYENV=window.PLOTLYENV || {};                                    if (document.getElementById(\"9fa1b3e8-0fc2-41f2-a3e0-95a0b2aea917\")) {                    Plotly.newPlot(                        \"9fa1b3e8-0fc2-41f2-a3e0-95a0b2aea917\",                        [{\"hovertemplate\":\"<b>%{hovertext}</b><br><br>Attention Patch=%{x}<br>Output Patch=%{y}<extra></extra>\",\"hovertext\":[\"L0H0\",\"L0H1\",\"L0H2\",\"L0H3\",\"L0H4\",\"L0H5\",\"L0H6\",\"L0H7\",\"L0H8\",\"L0H9\",\"L0H10\",\"L0H11\",\"L0H12\",\"L0H13\",\"L0H14\",\"L0H15\",\"L1H0\",\"L1H1\",\"L1H2\",\"L1H3\",\"L1H4\",\"L1H5\",\"L1H6\",\"L1H7\",\"L1H8\",\"L1H9\",\"L1H10\",\"L1H11\",\"L1H12\",\"L1H13\",\"L1H14\",\"L1H15\",\"L2H0\",\"L2H1\",\"L2H2\",\"L2H3\",\"L2H4\",\"L2H5\",\"L2H6\",\"L2H7\",\"L2H8\",\"L2H9\",\"L2H10\",\"L2H11\",\"L2H12\",\"L2H13\",\"L2H14\",\"L2H15\",\"L3H0\",\"L3H1\",\"L3H2\",\"L3H3\",\"L3H4\",\"L3H5\",\"L3H6\",\"L3H7\",\"L3H8\",\"L3H9\",\"L3H10\",\"L3H11\",\"L3H12\",\"L3H13\",\"L3H14\",\"L3H15\",\"L4H0\",\"L4H1\",\"L4H2\",\"L4H3\",\"L4H4\",\"L4H5\",\"L4H6\",\"L4H7\",\"L4H8\",\"L4H9\",\"L4H10\",\"L4H11\",\"L4H12\",\"L4H13\",\"L4H14\",\"L4H15\",\"L5H0\",\"L5H1\",\"L5H2\",\"L5H3\",\"L5H4\",\"L5H5\",\"L5H6\",\"L5H7\",\"L5H8\",\"L5H9\",\"L5H10\",\"L5H11\",\"L5H12\",\"L5H13\",\"L5H14\",\"L5H15\",\"L6H0\",\"L6H1\",\"L6H2\",\"L6H3\",\"L6H4\",\"L6H5\",\"L6H6\",\"L6H7\",\"L6H8\",\"L6H9\",\"L6H10\",\"L6H11\",\"L6H12\",\"L6H13\",\"L6H14\",\"L6H15\",\"L7H0\",\"L7H1\",\"L7H2\",\"L7H3\",\"L7H4\",\"L7H5\",\"L7H6\",\"L7H7\",\"L7H8\",\"L7H9\",\"L7H10\",\"L7H11\",\"L7H12\",\"L7H13\",\"L7H14\",\"L7H15\",\"L8H0\",\"L8H1\",\"L8H2\",\"L8H3\",\"L8H4\",\"L8H5\",\"L8H6\",\"L8H7\",\"L8H8\",\"L8H9\",\"L8H10\",\"L8H11\",\"L8H12\",\"L8H13\",\"L8H14\",\"L8H15\",\"L9H0\",\"L9H1\",\"L9H2\",\"L9H3\",\"L9H4\",\"L9H5\",\"L9H6\",\"L9H7\",\"L9H8\",\"L9H9\",\"L9H10\",\"L9H11\",\"L9H12\",\"L9H13\",\"L9H14\",\"L9H15\",\"L10H0\",\"L10H1\",\"L10H2\",\"L10H3\",\"L10H4\",\"L10H5\",\"L10H6\",\"L10H7\",\"L10H8\",\"L10H9\",\"L10H10\",\"L10H11\",\"L10H12\",\"L10H13\",\"L10H14\",\"L10H15\",\"L11H0\",\"L11H1\",\"L11H2\",\"L11H3\",\"L11H4\",\"L11H5\",\"L11H6\",\"L11H7\",\"L11H8\",\"L11H9\",\"L11H10\",\"L11H11\",\"L11H12\",\"L11H13\",\"L11H14\",\"L11H15\",\"L12H0\",\"L12H1\",\"L12H2\",\"L12H3\",\"L12H4\",\"L12H5\",\"L12H6\",\"L12H7\",\"L12H8\",\"L12H9\",\"L12H10\",\"L12H11\",\"L12H12\",\"L12H13\",\"L12H14\",\"L12H15\",\"L13H0\",\"L13H1\",\"L13H2\",\"L13H3\",\"L13H4\",\"L13H5\",\"L13H6\",\"L13H7\",\"L13H8\",\"L13H9\",\"L13H10\",\"L13H11\",\"L13H12\",\"L13H13\",\"L13H14\",\"L13H15\",\"L14H0\",\"L14H1\",\"L14H2\",\"L14H3\",\"L14H4\",\"L14H5\",\"L14H6\",\"L14H7\",\"L14H8\",\"L14H9\",\"L14H10\",\"L14H11\",\"L14H12\",\"L14H13\",\"L14H14\",\"L14H15\",\"L15H0\",\"L15H1\",\"L15H2\",\"L15H3\",\"L15H4\",\"L15H5\",\"L15H6\",\"L15H7\",\"L15H8\",\"L15H9\",\"L15H10\",\"L15H11\",\"L15H12\",\"L15H13\",\"L15H14\",\"L15H15\",\"L16H0\",\"L16H1\",\"L16H2\",\"L16H3\",\"L16H4\",\"L16H5\",\"L16H6\",\"L16H7\",\"L16H8\",\"L16H9\",\"L16H10\",\"L16H11\",\"L16H12\",\"L16H13\",\"L16H14\",\"L16H15\",\"L17H0\",\"L17H1\",\"L17H2\",\"L17H3\",\"L17H4\",\"L17H5\",\"L17H6\",\"L17H7\",\"L17H8\",\"L17H9\",\"L17H10\",\"L17H11\",\"L17H12\",\"L17H13\",\"L17H14\",\"L17H15\",\"L18H0\",\"L18H1\",\"L18H2\",\"L18H3\",\"L18H4\",\"L18H5\",\"L18H6\",\"L18H7\",\"L18H8\",\"L18H9\",\"L18H10\",\"L18H11\",\"L18H12\",\"L18H13\",\"L18H14\",\"L18H15\",\"L19H0\",\"L19H1\",\"L19H2\",\"L19H3\",\"L19H4\",\"L19H5\",\"L19H6\",\"L19H7\",\"L19H8\",\"L19H9\",\"L19H10\",\"L19H11\",\"L19H12\",\"L19H13\",\"L19H14\",\"L19H15\",\"L20H0\",\"L20H1\",\"L20H2\",\"L20H3\",\"L20H4\",\"L20H5\",\"L20H6\",\"L20H7\",\"L20H8\",\"L20H9\",\"L20H10\",\"L20H11\",\"L20H12\",\"L20H13\",\"L20H14\",\"L20H15\",\"L21H0\",\"L21H1\",\"L21H2\",\"L21H3\",\"L21H4\",\"L21H5\",\"L21H6\",\"L21H7\",\"L21H8\",\"L21H9\",\"L21H10\",\"L21H11\",\"L21H12\",\"L21H13\",\"L21H14\",\"L21H15\",\"L22H0\",\"L22H1\",\"L22H2\",\"L22H3\",\"L22H4\",\"L22H5\",\"L22H6\",\"L22H7\",\"L22H8\",\"L22H9\",\"L22H10\",\"L22H11\",\"L22H12\",\"L22H13\",\"L22H14\",\"L22H15\",\"L23H0\",\"L23H1\",\"L23H2\",\"L23H3\",\"L23H4\",\"L23H5\",\"L23H6\",\"L23H7\",\"L23H8\",\"L23H9\",\"L23H10\",\"L23H11\",\"L23H12\",\"L23H13\",\"L23H14\",\"L23H15\"],\"legendgroup\":\"\",\"marker\":{\"color\":\"#636efa\",\"symbol\":\"circle\"},\"mode\":\"markers\",\"name\":\"\",\"orientation\":\"v\",\"showlegend\":false,\"x\":[-2.829452569130808e-06,0.0005842295358888805,-0.0003582925128284842,-0.0014421824598684907,-0.0005569829954765737,6.921678868820891e-05,0.000863297376781702,-0.0004405562358442694,-7.293700036825612e-05,-0.0009050056105479598,0.00019827127107419074,-2.3211989173432812e-05,4.768151484313421e-05,0.00027016032254323363,-0.0003647373814601451,1.0479453749212553e-06,-5.669384336215444e-05,-0.00020560687698889524,-0.0008308110991492867,1.1527398783073295e-05,0.00015048494969960302,-0.0004527124110609293,-2.0906511053908616e-05,3.531575930537656e-05,-4.658117177314125e-05,0.0003098774468526244,-0.0002868226438295096,-6.434384704334661e-05,0.0007101401570253074,-0.00014592638763133436,-3.625890894909389e-05,-0.00012716816854663193,0.001172965276055038,-7.65000095270807e-06,-0.00021802503033541143,9.148562821792439e-05,3.489658047328703e-05,-0.0006046121125109494,-6.282432877924293e-05,-0.0018526626517996192,5.952329593128525e-05,-0.00013623290578834713,2.515068990760483e-05,0.0005633754190057516,-0.0006634542369283736,0.00012795413204003125,-5.5121927289292216e-05,-5.229247472016141e-05,0.00017872708849608898,0.0023486551363021135,0.0002889709430746734,-0.0007574548944830894,0.00018559112504590303,-0.00048105933819897473,-0.0001399531029164791,0.00014309694233816117,0.0002748760743997991,-3.39534308295697e-05,-7.875309529481456e-05,-0.0005530007765628397,-0.0001623267453396693,-0.0036430249456316233,2.0487332221819088e-05,-0.0005703966598957777,-0.00018616749730426818,-0.0011384878307580948,8.069179602898657e-05,0.00019769489881582558,-0.0009957576403394341,-0.0003055284614674747,3.552534690243192e-05,-0.0002997123810928315,0.00018307605932932347,-0.0017293718410655856,-2.766575744317379e-05,6.0152065998408943e-05,-0.0002148812054656446,0.0004653925425373018,-0.00012748254812322557,-0.00021294249745551497,0.00030814833007752895,-3.982192538387608e-06,0.0006100613973103464,0.0002484678407199681,-0.00010699521953938529,0.0006614631274715066,0.0007460323395207524,0.00012538666487671435,-0.004863095469772816,-0.00019125003018416464,-0.00028420277521945536,-0.0012509848456829786,0.0009742224356159568,-0.0007286363979801536,0.00047676273970864713,-6.392466730176238e-06,1.0479453749212553e-06,-1.0165070307266433e-05,0.0011026480933651328,-8.079659164650366e-05,-0.00028200208907946944,-9.913563553709537e-05,-2.7508565835887566e-05,-6.806405144743621e-05,-0.0005657332949340343,-0.0006311251199804246,0.0006380939157679677,6.528700032504275e-05,9.552021947456524e-05,-0.0013473433209583163,-0.0004294480022508651,-3.353425199748017e-06,-0.0004125761042814702,-0.0005097206449136138,0.00020429695723578334,-0.01004733331501484,3.777843085117638e-05,0.000417711038608104,-0.0038739920128136873,-0.00024841545382514596,0.0010501460637897253,-5.019658419769257e-05,0.0006939494051039219,0.0003346613666508347,-0.00016578496433794498,-0.0015460337745025754,-0.0006158251198939979,-0.0011704502394422889,-0.0010256764944642782,-0.00047686754260212183,-0.000538696302101016,-0.0016646612202748656,0.00017333016148768365,-0.0005218767910264432,-0.004542895592749119,-0.0008494645007885993,-0.0010089618153870106,-0.0002607288188301027,-0.00227928115054965,-0.0007634806097485125,0.00021650551934726536,-0.00067760149249807,0.0005413685576058924,1.2680138752330095e-05,0.00040503087802790105,0.10965757817029953,-0.0001632698840694502,-0.0002028822200372815,0.0011382782831788063,-0.0005839151563122869,0.001871525659225881,0.00041372881969437003,-0.00025800414732657373,-0.007082014810293913,-4.5061651690048166e-06,-8.488357707392424e-06,4.244178853696212e-05,-0.0010570625308901072,0.0001858007162809372,-0.0017132335342466831,0.0032074463088065386,0.00019313633674755692,0.0008200172451324761,-0.00010940549691440538,0.00309269642457366,0.0005764747620560229,-6.575856968993321e-05,0.004993669223040342,7.859590368752833e-06,-6.161919009173289e-05,0.0010650792391970754,-0.0004457959730643779,-0.00012727297144010663,5.606507693300955e-05,-0.0011956008384004235,-5.5960281315492466e-05,-6.120000762166455e-05,0.010728969238698483,-0.00044820623588748276,0.0009433604427613318,0.0005913555505685508,0.0008599439752288163,0.007887884974479675,0.00020696921274065971,0.06537151336669922,-0.0003493325784802437,0.00045014492934569716,-0.0016908599063754082,1.467123547627125e-05,-9.756371582625434e-05,0.0013672019122168422,-0.0103093720972538,-0.00045821411185897887,-0.02393648773431778,-0.00026712127146311104,0.00042598979780450463,-0.0002615671546664089,-0.01152383629232645,0.0010840471368283033,-0.11031045019626617,-0.0020055577624589205,0.001190832699649036,-0.000280796957667917,0.018289372324943542,-0.000530260382220149,-9.221919754054397e-06,-0.00011333529255352914,0.06631461530923843,0.0033276458270847797,0.0042008464224636555,-0.0014554912922903895,-0.00010898632172029465,-2.0958907498425106e-06,0.00010091713920701295,0.07616600394248962,0.0005203572800382972,0.00039208875386975706,-0.0003218240162823349,5.1349325076444075e-06,-0.003228510031476617,0.0004664928710553795,0.0002009435265790671,-0.0002657589502632618,0.002513601677492261,-0.00019570380391087383,-0.001800684491172433,0.0009054248221218586,5.501713076228043e-06,-0.0006981412298046052,-0.0001778363366611302,0.0432882122695446,0.00043793636723421514,-0.0010784929618239403,0.002782609313726425,-9.117125046032015e-06,-0.058531783521175385,-0.008137505501508713,0.0001403198839398101,-0.016103042289614677,5.124452945892699e-05,-9.756371582625434e-05,0.0015662068035453558,1.116061866923701e-05,-1.414726284565404e-06,-0.0002318055194336921,-0.0002232123661087826,6.795925582991913e-05,0.0045351930893957615,-4.13938414567383e-06,0.0003353425126988441,-0.00014922741684131324,0.016620727255940437,-0.0005543106817640364,0.0009159042383544147,0.008410390466451645,0.1876174658536911,0.0001282685116166249,-0.0009219823405146599,-0.0004669644695241004,-0.0021201507188379765,-7.65000149840489e-05,0.0002595236583147198,0.0007208292372524738,-9.436748223379254e-05,2.2006852304912172e-06,-1.058424822986126e-05,-8.435959898633882e-06,4.244178853696212e-05,-0.00014650275988969952,0.041065312922000885,-4.7367131628561765e-05,-0.0015614386647939682,-0.0001601784460945055,0.0008454823400825262,0.0,2.0958907498425106e-07,-3.405822553759208e-06,5.6169872550526634e-05,-0.00017008153372444212,0.12233321368694305,0.00042137884884141386,1.2575344499055063e-06,0.01742282509803772,-0.0012221138458698988,0.0,0.009956319816410542,-6.025685706845252e-06,0.001469219452701509,-0.0008434388437308371,-0.0002059212711174041,0.00039722368819639087,-2.5884250135277398e-05,-0.00026649251230992377,-4.883425572188571e-05,0.001955989981070161,-1.2470550245780032e-05,0.00046816960093565285,0.005787173751741648,-1.6138359569595195e-05,0.0015728612197563052,1.5195207652141107e-06,-0.00029426306718960404,-1.0793837645906024e-05,0.000610899762250483,-1.5719181192253018e-06,-0.00016510378918610513,-0.001621538307517767,-0.00023992708884179592,-1.351849550701445e-05,0.003114179242402315,0.0021789928432554007,2.3683565814280882e-05,1.9072605937253684e-05,8.425481064477935e-05,-7.917227048892528e-05,5.4597952839685604e-05,1.9648976376629435e-05,0.0004237891116645187,0.00013005001528654248,9.876885451376438e-05,0.0006867186166346073,-0.09996293485164642,-0.00012355275976005942,-0.00019051646813750267,1.3308906090969685e-05,3.594452573452145e-05,-1.2156166121712886e-05,-0.0005401110392995179,0.0010224803118035197,-4.610959877027199e-06,-7.81767230364494e-05,0.0016081769717857242,1.823425009206403e-05,-8.294487633975223e-05,7.948665734147653e-05,-2.949966255982872e-05,-0.000514803163241595,-2.4626715457998216e-05,2.4941100491560064e-05,-0.0014722584746778011,4.3175350583624095e-05,0.0003708678705152124,-0.00016463221982121468,-0.00010689043119782582,2.724657861108426e-06,-7.251781789818779e-05,-0.0001935031177708879,-5.2397268746062764e-08,6.654453318333253e-05,-7.042192737571895e-05,-0.0006279288791120052,0.0012923262547701597,1.414726284565404e-05,0.0005572973750531673,0.000533718557562679,-3.159555126330815e-05,-0.0001494370080763474,-7.440411991410656e-06,-0.000586482638027519,-0.00024443326401524246,5.313082874636166e-05,-5.166370829101652e-05,-0.014146004803478718,-4.3804117012768984e-05,3.227671913919039e-05,-1.4933221791579854e-05,-1.723870082059875e-05,-5.810856964671984e-05,1.7291098629357293e-05,-8.435959898633882e-06,6.806405144743621e-05,-6.287672249527532e-07,5.124452945892699e-05,0.0010169786401093006,3.929795184376417e-06,-2.5150688998110127e-06,-2.1430483684525825e-05,5.187329406908248e-06,0.00024354251218028367,8.545994205633178e-05,-5.2397268746062764e-08,-6.161919009173289e-05,0.000505319272633642,-5.2187679102644324e-05],\"xaxis\":\"x\",\"y\":[-3.6678088690678123e-06,0.00046832679072394967,-8.593151869717985e-05,-0.001616141409613192,-0.0003618555492721498,8.991371578304097e-05,-0.00018883975280914456,-0.0003946038195863366,-0.00023327264352701604,-0.0008373083546757698,-0.0011155378306284547,-0.0002816353226080537,-6.544419011333957e-05,0.0001095626867027022,-0.0008552282233722508,-2.724657861108426e-06,-9.101405885303393e-05,-0.00014220619050320238,-0.0011281132465228438,-9.049008076544851e-05,0.0004892332945019007,-0.00018999249732587487,-5.307843457558192e-05,0.00012245241669006646,-0.00019575619080569595,0.00042714254232123494,-0.0005743264337070286,-0.0011979063274338841,0.000890648749191314,-0.00021896818361710757,-3.65208979928866e-05,-9.504864283371717e-05,0.0012597350869327784,1.0374658813816495e-05,-0.00029426306718960404,0.0002277185267303139,7.126028503989801e-05,-0.0006140960031189024,-3.783082865993492e-05,-0.0018700584769248962,0.00011401645315345377,-0.00012281919771339744,-0.00022174524201545864,0.00080953782889992,-0.0014451167080551386,-0.0014093817444518209,-4.584760972647928e-05,-0.00043332541827112436,7.152227044571191e-05,0.002325600478798151,0.000629291171208024,-0.0006608867552131414,-0.00032538705272600055,-0.001623529358766973,-0.0002023582492256537,-0.0001454548182664439,0.0003655757464002818,-1.3937673429609276e-05,-6.104281783336774e-05,0.0013877940364181995,0.0011629574000835419,-0.003609019098803401,-2.2635620553046465e-05,-0.001404037233442068,-0.00016714728553779423,-0.0011429416481405497,-0.0006325922440737486,0.00011747467942768708,-0.0001144356356235221,-0.0002738805196713656,0.00027828189195133746,-0.0004874517908319831,0.00018475277465768158,-0.0012204896192997694,1.6400344975409098e-05,2.6198633804597193e-06,-0.00027891065110452473,0.00045805692207068205,-0.000377627118723467,0.00020110071636736393,-0.0007808764930814505,-1.75530858541606e-05,0.0006851466605439782,-8.750343840802088e-05,-0.0001104534458136186,0.0015182108618319035,-0.0014385145623236895,3.793562427745201e-05,-0.004892961587756872,-0.0003930319217033684,-0.00028022058540955186,-0.0010336933191865683,0.0027431542985141277,-0.00013078357733320445,8.79226136021316e-05,0.00033827676088549197,5.52267229068093e-05,-3.154315709252842e-05,3.374383959453553e-05,0.00024626715457998216,-0.00030516169499605894,9.557262092130259e-05,3.950754035031423e-05,-7.65000095270807e-06,-0.0005990055506117642,-0.00041310006054118276,0.0010802220785990357,-0.0001759500300977379,0.0012099053710699081,-0.0034289297182112932,-0.000212208935408853,-8.991371578304097e-05,-0.0006051360396668315,-0.00011957056995015591,-3.311507316539064e-05,-0.010272851213812828,0.00012501988385338336,-0.00014126303722150624,-0.003531733062118292,-0.00020880311785731465,0.007464724592864513,-7.65000149840489e-05,0.0005588692729361355,0.0005808761343359947,-0.0003736973158083856,-0.0015697174239903688,-0.000898665573913604,-0.00081299600424245,-0.0002369404537603259,0.001641920767724514,-0.0010671227937564254,-0.0014943700516596437,0.0005339805502444506,0.0048659248277544975,-0.00468405382707715,-0.002116902032867074,-0.0007840727339498699,0.0001822376943891868,-0.0003027514321729541,0.0008248378289863467,5.941850395174697e-05,-0.00061336241196841,-0.007317697629332542,0.00020916989888064563,0.00024762950488366187,0.13762451708316803,-0.0002097462711390108,0.0007149083539843559,0.0023043269757181406,-5.250206231721677e-05,0.0009710261947475374,0.0007170566241256893,0.004306426737457514,-0.006433650851249695,3.201473009539768e-05,0.0003356045053806156,5.4440763051388785e-05,-0.001832175301387906,0.001473149168305099,-0.002312605967745185,0.0013119227951392531,-0.000225151059566997,-0.003689553588628769,-0.0004960449296049774,8.818460628390312e-05,0.007129696197807789,-2.3840757421567105e-05,0.5020562410354614,-0.0002867178409360349,-5.941850395174697e-05,0.0010020453482866287,-0.00021985893545206636,-0.00015383838035631925,-0.0003727541770786047,-0.0018894454697147012,0.00015572468691971153,-0.0002888137532863766,-0.0007001847261562943,-0.034946829080581665,0.0017347163520753384,0.0013024912914261222,0.001781350001692772,0.005604202393442392,4.71575413030223e-06,0.05902877077460289,-0.005638365168124437,-0.0003099822497460991,-0.003388636279851198,0.00012260960647836328,-0.0019735954701900482,0.015986930578947067,0.028221536427736282,-0.0002333774318685755,0.007407716475427151,-0.00048294561565853655,-0.005206768866628408,-0.0003135976439807564,-0.04909723624587059,0.0009772090706974268,-0.07135742902755737,0.025409530848264694,-0.0015305766137316823,-0.0006541275070048869,0.017700111493468285,-0.0008997658733278513,6.434384704334661e-05,-0.0016028848476707935,0.06031114235520363,0.0024508298374712467,0.00416799308732152,0.004483634140342474,-0.036977119743824005,3.4582196803967236e-06,0.00012229522690176964,0.06856518238782883,0.0006687463610433042,0.009351235814392567,-0.005107004661113024,-3.353425199748017e-06,0.0061688353307545185,0.0004904384259134531,0.00042871444020420313,-0.00037825587787665427,0.0021928781643509865,-0.00019832365796901286,-0.003265607403591275,-5.5121927289292216e-05,9.431508374291298e-07,-0.0006423381273634732,-0.0007558306097052991,0.04215569794178009,-0.0006461107404902577,0.020692309364676476,0.012253206223249435,1.5404797522933222e-05,-0.05852166935801506,-0.012647495605051517,0.00026020483346655965,-0.0319359265267849,0.0013953916495665908,-7.917227048892528e-05,0.0014335892628878355,0.0,7.262261351570487e-05,-0.00018370481848251075,-0.0001888921542558819,-0.00018883975280914456,0.0012627742253243923,-1.9491784769343212e-05,0.0003426781331654638,-0.011430359445512295,0.016292458400130272,-0.0024909137282520533,-0.00012014693493256345,0.00812702625989914,0.1782110184431076,0.0002254130522487685,-0.006721940822899342,-7.335617624448787e-07,-0.001961125060915947,5.302603676682338e-05,0.00010322262096451595,-0.006037842016667128,0.0007140699890442193,-1.1003426152456086e-06,-1.0165070307266433e-05,0.00011679351155180484,-0.00021409524197224528,-0.003786645829677582,0.035277508199214935,-0.00022509867267217487,-0.0014115824596956372,-0.01300133392214775,0.0018441218417137861,0.0,-1.4880823982821312e-05,-0.00010107432899530977,4.464247467694804e-05,-0.001057953224517405,0.1155947670340538,0.000559602805878967,1.2208563930471428e-05,0.01582161709666252,-0.009957104921340942,-5.8003777667181566e-05,0.008036169223487377,2.8713702704408206e-05,0.00011600755533436313,-0.0007479186169803143,0.00038831616984680295,0.0012567484518513083,-6.643973756581545e-05,0.0005452983896248043,-6.968836532905698e-05,0.0017553608631715178,1.0479453749212553e-07,0.0001422585773980245,0.005759664811193943,-0.00039947679033502936,0.0009672535816207528,3.4372609661659226e-05,-0.0004296576080378145,-7.07363142282702e-05,-0.00010421816841699183,-1.1108220860478468e-05,0.015531493350863457,-0.0021629068069159985,-0.00017107708845287561,-3.0233224606490694e-05,0.0009216679609380662,0.0013679354451596737,4.071267903782427e-05,5.9104120737174526e-05,0.0001658373512327671,-1.9282195353298448e-05,-0.00013764762843493372,-4.25465805165004e-05,-0.00116405775770545,0.0002056592784356326,-2.8451717298594303e-05,0.0006739336531609297,-0.09478555619716644,6.853562808828428e-05,0.0010618306696414948,-0.00012984043860342354,-5.1558912673499435e-05,-9.43150826060446e-06,-0.00034875620622187853,0.0010264625307172537,-5.4597952839685604e-05,-0.0006476302514784038,0.0007533155148848891,2.116849645972252e-05,0.00027644800138659775,7.670959894312546e-05,-1.6295551176881418e-05,-0.00034697470255196095,7.639521936653182e-05,1.9491784769343212e-05,0.043169062584638596,-0.00018071818340104073,0.00012758735101670027,0.003555154660716653,-0.000155829475261271,-1.4671235248897574e-06,-7.461370842065662e-05,0.0028464291244745255,-2.5727058527991176e-05,6.979316094657406e-05,-6.989795656409115e-05,0.002071473514661193,-0.0006840987480245531,5.035377398598939e-05,0.00102661969140172,0.0698612779378891,-7.230823393911123e-05,-0.00015425756282638758,-9.326713552582078e-06,-0.0005904124118387699,0.00208604009822011,3.625890894909389e-05,0.0011393262539058924,0.008196871727705002,-0.00010112673044204712,0.0003865870530717075,-2.122089426848106e-05,-1.8077058484777808e-05,-0.0003208284906577319,0.0006095897988416255,-6.544419011333957e-05,0.0022988778073340654,3.1438362384506036e-06,6.0833230236312374e-05,0.0010170310270041227,1.0898631444433704e-05,-3.982192538387608e-06,-8.173973583325278e-06,0.00841615442186594,0.00153534475248307,6.120000762166455e-05,-1.0479453749212553e-07,-4.9986992962658405e-05,0.0020101163536310196,0.000746294273994863],\"yaxis\":\"y\",\"type\":\"scatter\"}],                        {\"template\":{\"data\":{\"histogram2dcontour\":[{\"type\":\"histogram2dcontour\",\"colorbar\":{\"outlinewidth\":0,\"ticks\":\"\"},\"colorscale\":[[0.0,\"#0d0887\"],[0.1111111111111111,\"#46039f\"],[0.2222222222222222,\"#7201a8\"],[0.3333333333333333,\"#9c179e\"],[0.4444444444444444,\"#bd3786\"],[0.5555555555555556,\"#d8576b\"],[0.6666666666666666,\"#ed7953\"],[0.7777777777777778,\"#fb9f3a\"],[0.8888888888888888,\"#fdca26\"],[1.0,\"#f0f921\"]]}],\"choropleth\":[{\"type\":\"choropleth\",\"colorbar\":{\"outlinewidth\":0,\"ticks\":\"\"}}],\"histogram2d\":[{\"type\":\"histogram2d\",\"colorbar\":{\"outlinewidth\":0,\"ticks\":\"\"},\"colorscale\":[[0.0,\"#0d0887\"],[0.1111111111111111,\"#46039f\"],[0.2222222222222222,\"#7201a8\"],[0.3333333333333333,\"#9c179e\"],[0.4444444444444444,\"#bd3786\"],[0.5555555555555556,\"#d8576b\"],[0.6666666666666666,\"#ed7953\"],[0.7777777777777778,\"#fb9f3a\"],[0.8888888888888888,\"#fdca26\"],[1.0,\"#f0f921\"]]}],\"heatmap\":[{\"type\":\"heatmap\",\"colorbar\":{\"outlinewidth\":0,\"ticks\":\"\"},\"colorscale\":[[0.0,\"#0d0887\"],[0.1111111111111111,\"#46039f\"],[0.2222222222222222,\"#7201a8\"],[0.3333333333333333,\"#9c179e\"],[0.4444444444444444,\"#bd3786\"],[0.5555555555555556,\"#d8576b\"],[0.6666666666666666,\"#ed7953\"],[0.7777777777777778,\"#fb9f3a\"],[0.8888888888888888,\"#fdca26\"],[1.0,\"#f0f921\"]]}],\"heatmapgl\":[{\"type\":\"heatmapgl\",\"colorbar\":{\"outlinewidth\":0,\"ticks\":\"\"},\"colorscale\":[[0.0,\"#0d0887\"],[0.1111111111111111,\"#46039f\"],[0.2222222222222222,\"#7201a8\"],[0.3333333333333333,\"#9c179e\"],[0.4444444444444444,\"#bd3786\"],[0.5555555555555556,\"#d8576b\"],[0.6666666666666666,\"#ed7953\"],[0.7777777777777778,\"#fb9f3a\"],[0.8888888888888888,\"#fdca26\"],[1.0,\"#f0f921\"]]}],\"contourcarpet\":[{\"type\":\"contourcarpet\",\"colorbar\":{\"outlinewidth\":0,\"ticks\":\"\"}}],\"contour\":[{\"type\":\"contour\",\"colorbar\":{\"outlinewidth\":0,\"ticks\":\"\"},\"colorscale\":[[0.0,\"#0d0887\"],[0.1111111111111111,\"#46039f\"],[0.2222222222222222,\"#7201a8\"],[0.3333333333333333,\"#9c179e\"],[0.4444444444444444,\"#bd3786\"],[0.5555555555555556,\"#d8576b\"],[0.6666666666666666,\"#ed7953\"],[0.7777777777777778,\"#fb9f3a\"],[0.8888888888888888,\"#fdca26\"],[1.0,\"#f0f921\"]]}],\"surface\":[{\"type\":\"surface\",\"colorbar\":{\"outlinewidth\":0,\"ticks\":\"\"},\"colorscale\":[[0.0,\"#0d0887\"],[0.1111111111111111,\"#46039f\"],[0.2222222222222222,\"#7201a8\"],[0.3333333333333333,\"#9c179e\"],[0.4444444444444444,\"#bd3786\"],[0.5555555555555556,\"#d8576b\"],[0.6666666666666666,\"#ed7953\"],[0.7777777777777778,\"#fb9f3a\"],[0.8888888888888888,\"#fdca26\"],[1.0,\"#f0f921\"]]}],\"mesh3d\":[{\"type\":\"mesh3d\",\"colorbar\":{\"outlinewidth\":0,\"ticks\":\"\"}}],\"scatter\":[{\"fillpattern\":{\"fillmode\":\"overlay\",\"size\":10,\"solidity\":0.2},\"type\":\"scatter\"}],\"parcoords\":[{\"type\":\"parcoords\",\"line\":{\"colorbar\":{\"outlinewidth\":0,\"ticks\":\"\"}}}],\"scatterpolargl\":[{\"type\":\"scatterpolargl\",\"marker\":{\"colorbar\":{\"outlinewidth\":0,\"ticks\":\"\"}}}],\"bar\":[{\"error_x\":{\"color\":\"#2a3f5f\"},\"error_y\":{\"color\":\"#2a3f5f\"},\"marker\":{\"line\":{\"color\":\"#E5ECF6\",\"width\":0.5},\"pattern\":{\"fillmode\":\"overlay\",\"size\":10,\"solidity\":0.2}},\"type\":\"bar\"}],\"scattergeo\":[{\"type\":\"scattergeo\",\"marker\":{\"colorbar\":{\"outlinewidth\":0,\"ticks\":\"\"}}}],\"scatterpolar\":[{\"type\":\"scatterpolar\",\"marker\":{\"colorbar\":{\"outlinewidth\":0,\"ticks\":\"\"}}}],\"histogram\":[{\"marker\":{\"pattern\":{\"fillmode\":\"overlay\",\"size\":10,\"solidity\":0.2}},\"type\":\"histogram\"}],\"scattergl\":[{\"type\":\"scattergl\",\"marker\":{\"colorbar\":{\"outlinewidth\":0,\"ticks\":\"\"}}}],\"scatter3d\":[{\"type\":\"scatter3d\",\"line\":{\"colorbar\":{\"outlinewidth\":0,\"ticks\":\"\"}},\"marker\":{\"colorbar\":{\"outlinewidth\":0,\"ticks\":\"\"}}}],\"scattermapbox\":[{\"type\":\"scattermapbox\",\"marker\":{\"colorbar\":{\"outlinewidth\":0,\"ticks\":\"\"}}}],\"scatterternary\":[{\"type\":\"scatterternary\",\"marker\":{\"colorbar\":{\"outlinewidth\":0,\"ticks\":\"\"}}}],\"scattercarpet\":[{\"type\":\"scattercarpet\",\"marker\":{\"colorbar\":{\"outlinewidth\":0,\"ticks\":\"\"}}}],\"carpet\":[{\"aaxis\":{\"endlinecolor\":\"#2a3f5f\",\"gridcolor\":\"white\",\"linecolor\":\"white\",\"minorgridcolor\":\"white\",\"startlinecolor\":\"#2a3f5f\"},\"baxis\":{\"endlinecolor\":\"#2a3f5f\",\"gridcolor\":\"white\",\"linecolor\":\"white\",\"minorgridcolor\":\"white\",\"startlinecolor\":\"#2a3f5f\"},\"type\":\"carpet\"}],\"table\":[{\"cells\":{\"fill\":{\"color\":\"#EBF0F8\"},\"line\":{\"color\":\"white\"}},\"header\":{\"fill\":{\"color\":\"#C8D4E3\"},\"line\":{\"color\":\"white\"}},\"type\":\"table\"}],\"barpolar\":[{\"marker\":{\"line\":{\"color\":\"#E5ECF6\",\"width\":0.5},\"pattern\":{\"fillmode\":\"overlay\",\"size\":10,\"solidity\":0.2}},\"type\":\"barpolar\"}],\"pie\":[{\"automargin\":true,\"type\":\"pie\"}]},\"layout\":{\"autotypenumbers\":\"strict\",\"colorway\":[\"#636efa\",\"#EF553B\",\"#00cc96\",\"#ab63fa\",\"#FFA15A\",\"#19d3f3\",\"#FF6692\",\"#B6E880\",\"#FF97FF\",\"#FECB52\"],\"font\":{\"color\":\"#2a3f5f\"},\"hovermode\":\"closest\",\"hoverlabel\":{\"align\":\"left\"},\"paper_bgcolor\":\"white\",\"plot_bgcolor\":\"#E5ECF6\",\"polar\":{\"bgcolor\":\"#E5ECF6\",\"angularaxis\":{\"gridcolor\":\"white\",\"linecolor\":\"white\",\"ticks\":\"\"},\"radialaxis\":{\"gridcolor\":\"white\",\"linecolor\":\"white\",\"ticks\":\"\"}},\"ternary\":{\"bgcolor\":\"#E5ECF6\",\"aaxis\":{\"gridcolor\":\"white\",\"linecolor\":\"white\",\"ticks\":\"\"},\"baxis\":{\"gridcolor\":\"white\",\"linecolor\":\"white\",\"ticks\":\"\"},\"caxis\":{\"gridcolor\":\"white\",\"linecolor\":\"white\",\"ticks\":\"\"}},\"coloraxis\":{\"colorbar\":{\"outlinewidth\":0,\"ticks\":\"\"}},\"colorscale\":{\"sequential\":[[0.0,\"#0d0887\"],[0.1111111111111111,\"#46039f\"],[0.2222222222222222,\"#7201a8\"],[0.3333333333333333,\"#9c179e\"],[0.4444444444444444,\"#bd3786\"],[0.5555555555555556,\"#d8576b\"],[0.6666666666666666,\"#ed7953\"],[0.7777777777777778,\"#fb9f3a\"],[0.8888888888888888,\"#fdca26\"],[1.0,\"#f0f921\"]],\"sequentialminus\":[[0.0,\"#0d0887\"],[0.1111111111111111,\"#46039f\"],[0.2222222222222222,\"#7201a8\"],[0.3333333333333333,\"#9c179e\"],[0.4444444444444444,\"#bd3786\"],[0.5555555555555556,\"#d8576b\"],[0.6666666666666666,\"#ed7953\"],[0.7777777777777778,\"#fb9f3a\"],[0.8888888888888888,\"#fdca26\"],[1.0,\"#f0f921\"]],\"diverging\":[[0,\"#8e0152\"],[0.1,\"#c51b7d\"],[0.2,\"#de77ae\"],[0.3,\"#f1b6da\"],[0.4,\"#fde0ef\"],[0.5,\"#f7f7f7\"],[0.6,\"#e6f5d0\"],[0.7,\"#b8e186\"],[0.8,\"#7fbc41\"],[0.9,\"#4d9221\"],[1,\"#276419\"]]},\"xaxis\":{\"gridcolor\":\"white\",\"linecolor\":\"white\",\"ticks\":\"\",\"title\":{\"standoff\":15},\"zerolinecolor\":\"white\",\"automargin\":true,\"zerolinewidth\":2},\"yaxis\":{\"gridcolor\":\"white\",\"linecolor\":\"white\",\"ticks\":\"\",\"title\":{\"standoff\":15},\"zerolinecolor\":\"white\",\"automargin\":true,\"zerolinewidth\":2},\"scene\":{\"xaxis\":{\"backgroundcolor\":\"#E5ECF6\",\"gridcolor\":\"white\",\"linecolor\":\"white\",\"showbackground\":true,\"ticks\":\"\",\"zerolinecolor\":\"white\",\"gridwidth\":2},\"yaxis\":{\"backgroundcolor\":\"#E5ECF6\",\"gridcolor\":\"white\",\"linecolor\":\"white\",\"showbackground\":true,\"ticks\":\"\",\"zerolinecolor\":\"white\",\"gridwidth\":2},\"zaxis\":{\"backgroundcolor\":\"#E5ECF6\",\"gridcolor\":\"white\",\"linecolor\":\"white\",\"showbackground\":true,\"ticks\":\"\",\"zerolinecolor\":\"white\",\"gridwidth\":2}},\"shapedefaults\":{\"line\":{\"color\":\"#2a3f5f\"}},\"annotationdefaults\":{\"arrowcolor\":\"#2a3f5f\",\"arrowhead\":0,\"arrowwidth\":1},\"geo\":{\"bgcolor\":\"white\",\"landcolor\":\"#E5ECF6\",\"subunitcolor\":\"white\",\"showland\":true,\"showlakes\":true,\"lakecolor\":\"white\"},\"title\":{\"x\":0.05},\"mapbox\":{\"style\":\"light\"}}},\"xaxis\":{\"anchor\":\"y\",\"domain\":[0.0,1.0],\"title\":{\"text\":\"Attention Patch\"}},\"yaxis\":{\"anchor\":\"x\",\"domain\":[0.0,1.0],\"title\":{\"text\":\"Output Patch\"}},\"legend\":{\"tracegroupgap\":0},\"title\":{\"text\":\"Scatter plot of output patching vs attention patching\"}},                        {\"responsive\": true}                    ).then(function(){\n",
              "                            \n",
              "var gd = document.getElementById('9fa1b3e8-0fc2-41f2-a3e0-95a0b2aea917');\n",
              "var x = new MutationObserver(function (mutations, observer) {{\n",
              "        var display = window.getComputedStyle(gd).display;\n",
              "        if (!display || display === 'none') {{\n",
              "            console.log([gd, 'removed!']);\n",
              "            Plotly.purge(gd);\n",
              "            observer.disconnect();\n",
              "        }}\n",
              "}});\n",
              "\n",
              "// Listen for the removal of the full notebook cells\n",
              "var notebookContainer = gd.closest('#notebook-container');\n",
              "if (notebookContainer) {{\n",
              "    x.observe(notebookContainer, {childList: true});\n",
              "}}\n",
              "\n",
              "// Listen for the clearing of the current output cell\n",
              "var outputEl = gd.closest('.output');\n",
              "if (outputEl) {{\n",
              "    x.observe(outputEl, {childList: true});\n",
              "}}\n",
              "\n",
              "                        })                };                            </script>        </div>\n",
              "</body>\n",
              "</html>"
            ]
          },
          "metadata": {},
          "output_type": "display_data"
        }
      ],
      "source": [
        "head_labels = [f\"L{l}H{h}\" for l in range(model.cfg.n_layers) for h in range(model.cfg.n_heads)]\n",
        "l_scatter(\n",
        "    x=utils.to_numpy(attn_head_pattern_all_pos_act_patch_results.flatten()), \n",
        "    y=utils.to_numpy(attn_head_out_all_pos_act_patch_results.flatten()), \n",
        "    hover_name = head_labels,\n",
        "    xaxis=\"Attention Patch\",\n",
        "    yaxis=\"Output Patch\",\n",
        "    title=\"Scatter plot of output patching vs attention patching\")"
      ]
    },
    {
      "cell_type": "markdown",
      "metadata": {
        "id": "V7scfz6oqIWU"
      },
      "source": [
        "#### Path Patching for NMH Candidate Receivers"
      ]
    },
    {
      "cell_type": "markdown",
      "metadata": {
        "id": "Cs-mFX5Jk5SS"
      },
      "source": [
        "Let us first see what heads are contributing the most to our name mover head candidates. Here we are patching corrupted tokens input in to replace clean token input, so negative values (red) correspond to importance of the respective head."
      ]
    },
    {
      "cell_type": "code",
      "execution_count": 63,
      "metadata": {
        "id": "I91M2_BOe98X"
      },
      "outputs": [],
      "source": [
        "receiver_heads = [(8, 2), (8, 10), (9, 6), (10, 7)]\n",
        "\n",
        "metric_delta_results = torch.zeros(model.cfg.n_layers, model.cfg.n_heads, device='cuda:0')\n",
        "\n",
        "for layer in range(model.cfg.n_layers):\n",
        "        for head_idx in range(model.cfg.n_heads):\n",
        "            pass_d_hooks = path_patching(\n",
        "                model=model,\n",
        "                patch_tokens=corrupted_tokens,\n",
        "                orig_tokens=clean_tokens,\n",
        "                sender_heads=[(layer, head_idx)],\n",
        "                receiver_hooks=[(f\"blocks.{layer_idx}.attn.hook_q\", head_idx) for layer_idx, head_idx in receiver_heads],\n",
        "                positions=-1\n",
        "            )\n",
        "            path_patched_logits = model.run_with_hooks(clean_tokens, fwd_hooks=pass_d_hooks)\n",
        "            iot_metric_res = ioi_metric(path_patched_logits)\n",
        "            metric_delta_results[layer, head_idx] = -(clean_baseline_ioi - iot_metric_res) / clean_baseline_ioi"
      ]
    },
    {
      "cell_type": "code",
      "execution_count": 64,
      "metadata": {
        "colab": {
          "base_uri": "https://localhost:8080/"
        },
        "id": "RkFEbFTz7k6W",
        "outputId": "86a2152f-b6d9-4ee7-b16b-c1ebc60fa853"
      },
      "outputs": [
        {
          "data": {
            "text/plain": [
              "tensor([[-0., -0., -0., -0., -0., -0., -0., -0., -0., -0., -0., -0., -0., -0., -0., -0.],\n",
              "        [-0., -0., -0., -0., -0., -0., -0., -0., -0., -0., -0., -0., -0., -0., -0., -0.],\n",
              "        [-0., -0., -0., -0., -0., -0., -0., -0., -0., -0., -0., -0., -0., -0., -0., -0.],\n",
              "        [-0., -0., -0., -0., -0., -0., -0., -0., -0., -0., -0., -0., -0., -0., -0., -0.],\n",
              "        [-0., -0., -0., -0., -0., -0., -0., -0., -0., -0., -0., -0., -0., -0., -0., -0.],\n",
              "        [-0., -0., -0., -0., -0., -0., -0., -0., -0., -0., -0., -0., -0., -0., -0., -0.],\n",
              "        [-0., -0., -0., -0., -0., -0., -0., -0., -0., -0., -0., -0., -0., -0., -0., -0.],\n",
              "        [-0., -0., -0., -0., -0., -0., -0., -0., -0., -0., -0., -0., -0., -0., -0., -0.],\n",
              "        [-0., -0., -0., -0., -0., -0., -0., -0., -0., -0., -0., -0., -0., -0., -0., -0.],\n",
              "        [-0., -0., -0., -0., -0., -0., -0., -0., -0., -0., -0., -0., -0., -0., -0., -0.],\n",
              "        [-0., -0., -0., -0., -0., -0., -0., -0., -0., -0., -0., -0., -0., -0., -0., -0.],\n",
              "        [-0., -0., -0., -0., -0., -0., -0., -0., -0., -0., -0., -0., -0., -0., -0., -0.],\n",
              "        [-0., -0., -0., -0., -0., -0., -0., -0., -0., -0., -0., -0., -0., -0., -0., -0.],\n",
              "        [-0., -0., -0., -0., -0., -0., -0., -0., -0., -0., -0., -0., -0., -0., -0., -0.],\n",
              "        [-0., -0., -0., -0., -0., -0., -0., -0., -0., -0., -0., -0., -0., -0., -0., -0.],\n",
              "        [-0., -0., -0., -0., -0., -0., -0., -0., -0., -0., -0., -0., -0., -0., -0., -0.],\n",
              "        [-0., -0., -0., -0., -0., -0., -0., -0., -0., -0., -0., -0., -0., -0., -0., -0.],\n",
              "        [-0., -0., -0., -0., -0., -0., -0., -0., -0., -0., -0., -0., -0., -0., -0., -0.],\n",
              "        [-0., -0., -0., -0., -0., -0., -0., -0., -0., -0., -0., -0., -0., -0., -0., -0.],\n",
              "        [-0., -0., -0., -0., -0., -0., -0., -0., -0., -0., -0., -0., -0., -0., -0., -0.],\n",
              "        [-0., -0., -0., -0., -0., -0., -0., -0., -0., -0., -0., -0., -0., -0., -0., -0.],\n",
              "        [-0., -0., -0., -0., -0., -0., -0., -0., -0., -0., -0., -0., -0., -0., -0., -0.],\n",
              "        [-0., -0., -0., -0., -0., -0., -0., -0., -0., -0., -0., -0., -0., -0., -0., -0.],\n",
              "        [-0., -0., -0., -0., -0., -0., -0., -0., -0., -0., -0., -0., -0., -0., -0., -0.]],\n",
              "       device='cuda:0')"
            ]
          },
          "execution_count": 64,
          "metadata": {},
          "output_type": "execute_result"
        }
      ],
      "source": [
        "metric_delta_results"
      ]
    },
    {
      "cell_type": "markdown",
      "metadata": {
        "id": "pn8lzqpik0q9"
      },
      "source": [
        "We only see one head of importance here--only one potential S2-inhibitor."
      ]
    },
    {
      "cell_type": "code",
      "execution_count": 58,
      "metadata": {
        "colab": {
          "base_uri": "https://localhost:8080/",
          "height": 542
        },
        "id": "0RDS-RRP8mx6",
        "outputId": "1d3de119-9fc8-46dc-bc04-9c9e6b0b60aa"
      },
      "outputs": [
        {
          "data": {
            "text/html": [
              "<html>\n",
              "<head><meta charset=\"utf-8\" /></head>\n",
              "<body>\n",
              "    <div>            <script src=\"https://cdnjs.cloudflare.com/ajax/libs/mathjax/2.7.5/MathJax.js?config=TeX-AMS-MML_SVG\"></script><script type=\"text/javascript\">if (window.MathJax && window.MathJax.Hub && window.MathJax.Hub.Config) {window.MathJax.Hub.Config({SVG: {font: \"STIX-Web\"}});}</script>                <script type=\"text/javascript\">window.PlotlyConfig = {MathJaxConfig: 'local'};</script>\n",
              "        <script src=\"https://cdn.plot.ly/plotly-2.18.2.min.js\"></script>                <div id=\"5d42908c-cf6e-4f71-b782-0cc8242227ac\" class=\"plotly-graph-div\" style=\"height:525px; width:100%;\"></div>            <script type=\"text/javascript\">                                    window.PLOTLYENV=window.PLOTLYENV || {};                                    if (document.getElementById(\"5d42908c-cf6e-4f71-b782-0cc8242227ac\")) {                    Plotly.newPlot(                        \"5d42908c-cf6e-4f71-b782-0cc8242227ac\",                        [{\"coloraxis\":\"coloraxis\",\"name\":\"0\",\"z\":[[-0.0,-0.0,-0.0,-0.0,-0.0,-0.0,-0.0,-0.0,-0.0,-0.0,-0.0,-0.0,-0.0,-0.0,-0.0,-0.0],[-0.0,-0.0,-0.0,-0.0,-0.0,-0.0,-0.0,-0.0,-0.0,-0.0,-0.0,-0.0,-0.0,-0.0,-0.0,-0.0],[-0.0,-0.0,-0.0,-0.0,-0.0,-0.0,-0.0,-0.0,-0.0,-0.0,-0.0,-0.0,-0.0,-0.0,-0.0,-0.0],[-0.0,-0.0,-0.0,-0.0,-0.0,-0.0,-0.0,-0.0,-0.0,-0.0,-0.0,-0.0,-0.0,-0.0,-0.0,-0.0],[-0.0,-0.0,-0.0,-0.0,-0.0,-0.0,-0.0,-0.0,-0.0,-0.0,-0.0,-0.0,-0.0,-0.0,-0.0,-0.0],[-0.0,-0.0,-0.0,-0.0,-0.0,-0.0,-0.0,-0.0,-0.0,-0.0,-0.0,-0.0,-0.0,-0.0,-0.0,-0.0],[-0.0,-0.0,-0.0,-0.0,-0.0,-0.0,-0.0,-0.0,-0.0,-0.0,-0.0,-0.0,-0.0,-0.0,-0.0,-0.0],[-0.0,-0.0,-0.0,-0.0,-0.0,-0.0,-0.0,-0.0,-0.0,-0.0,-0.0,-0.0,-0.0,-0.0,-0.0,-0.0],[-0.0,-0.0,-0.0,-0.0,-0.0,-0.0,-0.0,-0.0,-0.0,-0.0,-0.0,-0.0,-0.0,-0.0,-0.0,-0.0],[-0.0,-0.0,-0.0,-0.0,-0.0,-0.0,-0.0,-0.0,-0.0,-0.0,-0.0,-0.0,-0.0,-0.0,-0.0,-0.0],[-0.0,-0.0,-0.0,-0.0,-0.0,-0.0,-0.0,-0.0,-0.0,-0.0,-0.0,-0.0,-0.0,-0.0,-0.0,-0.0],[-0.0,-0.0,-0.0,-0.0,-0.0,-0.0,-0.0,-0.0,-0.0,-0.0,-0.0,-0.0,-0.0,-0.0,-0.0,-0.0],[-0.0,-0.0,-0.0,-0.0,-0.0,-0.0,-0.0,-0.0,-0.0,-0.0,-0.0,-0.0,-0.0,-0.0,-0.0,-0.0],[-0.0,-0.0,-0.0,-0.0,-0.0,-0.0,-0.0,-0.0,-0.0,-0.0,-0.0,-0.0,-0.0,-0.0,-0.0,-0.0],[-0.0,-0.0,-0.0,-0.0,-0.0,-0.0,-0.0,-0.0,-0.0,-0.0,-0.0,-0.0,-0.0,-0.0,-0.0,-0.0],[-0.0,-0.0,-0.0,-0.0,-0.0,-0.0,-0.0,-0.0,-0.0,-0.0,-0.0,-0.0,-0.0,-0.0,-0.0,-0.0],[-0.0,-0.0,-0.0,-0.0,-0.0,-0.0,-0.0,-0.0,-0.0,-0.0,-0.0,-0.0,-0.0,-0.0,-0.0,-0.0],[-0.0,-0.0,-0.0,-0.0,-0.0,-0.0,-0.0,-0.0,-0.0,-0.0,-0.0,-0.0,-0.0,-0.0,-0.0,-0.0],[-0.0,-0.0,-0.0,-0.0,-0.0,-0.0,-0.0,-0.0,-0.0,-0.0,-0.0,-0.0,-0.0,-0.0,-0.0,-0.0],[-0.0,-0.0,-0.0,-0.0,-0.0,-0.0,-0.0,-0.0,-0.0,-0.0,-0.0,-0.0,-0.0,-0.0,-0.0,-0.0],[-0.0,-0.0,-0.0,-0.0,-0.0,-0.0,-0.0,-0.0,-0.0,-0.0,-0.0,-0.0,-0.0,-0.0,-0.0,-0.0],[-0.0,-0.0,-0.0,-0.0,-0.0,-0.0,-0.0,-0.0,-0.0,-0.0,-0.0,-0.0,-0.0,-0.0,-0.0,-0.0],[-0.0,-0.0,-0.0,-0.0,-0.0,-0.0,-0.0,-0.0,-0.0,-0.0,-0.0,-0.0,-0.0,-0.0,-0.0,-0.0],[-0.0,-0.0,-0.0,-0.0,-0.0,-0.0,-0.0,-0.0,-0.0,-0.0,-0.0,-0.0,-0.0,-0.0,-0.0,-0.0]],\"type\":\"heatmap\",\"xaxis\":\"x\",\"yaxis\":\"y\",\"hovertemplate\":\"x: %{x}<br>y: %{y}<br>color: %{z}<extra></extra>\"}],                        {\"template\":{\"data\":{\"histogram2dcontour\":[{\"type\":\"histogram2dcontour\",\"colorbar\":{\"outlinewidth\":0,\"ticks\":\"\"},\"colorscale\":[[0.0,\"#0d0887\"],[0.1111111111111111,\"#46039f\"],[0.2222222222222222,\"#7201a8\"],[0.3333333333333333,\"#9c179e\"],[0.4444444444444444,\"#bd3786\"],[0.5555555555555556,\"#d8576b\"],[0.6666666666666666,\"#ed7953\"],[0.7777777777777778,\"#fb9f3a\"],[0.8888888888888888,\"#fdca26\"],[1.0,\"#f0f921\"]]}],\"choropleth\":[{\"type\":\"choropleth\",\"colorbar\":{\"outlinewidth\":0,\"ticks\":\"\"}}],\"histogram2d\":[{\"type\":\"histogram2d\",\"colorbar\":{\"outlinewidth\":0,\"ticks\":\"\"},\"colorscale\":[[0.0,\"#0d0887\"],[0.1111111111111111,\"#46039f\"],[0.2222222222222222,\"#7201a8\"],[0.3333333333333333,\"#9c179e\"],[0.4444444444444444,\"#bd3786\"],[0.5555555555555556,\"#d8576b\"],[0.6666666666666666,\"#ed7953\"],[0.7777777777777778,\"#fb9f3a\"],[0.8888888888888888,\"#fdca26\"],[1.0,\"#f0f921\"]]}],\"heatmap\":[{\"type\":\"heatmap\",\"colorbar\":{\"outlinewidth\":0,\"ticks\":\"\"},\"colorscale\":[[0.0,\"#0d0887\"],[0.1111111111111111,\"#46039f\"],[0.2222222222222222,\"#7201a8\"],[0.3333333333333333,\"#9c179e\"],[0.4444444444444444,\"#bd3786\"],[0.5555555555555556,\"#d8576b\"],[0.6666666666666666,\"#ed7953\"],[0.7777777777777778,\"#fb9f3a\"],[0.8888888888888888,\"#fdca26\"],[1.0,\"#f0f921\"]]}],\"heatmapgl\":[{\"type\":\"heatmapgl\",\"colorbar\":{\"outlinewidth\":0,\"ticks\":\"\"},\"colorscale\":[[0.0,\"#0d0887\"],[0.1111111111111111,\"#46039f\"],[0.2222222222222222,\"#7201a8\"],[0.3333333333333333,\"#9c179e\"],[0.4444444444444444,\"#bd3786\"],[0.5555555555555556,\"#d8576b\"],[0.6666666666666666,\"#ed7953\"],[0.7777777777777778,\"#fb9f3a\"],[0.8888888888888888,\"#fdca26\"],[1.0,\"#f0f921\"]]}],\"contourcarpet\":[{\"type\":\"contourcarpet\",\"colorbar\":{\"outlinewidth\":0,\"ticks\":\"\"}}],\"contour\":[{\"type\":\"contour\",\"colorbar\":{\"outlinewidth\":0,\"ticks\":\"\"},\"colorscale\":[[0.0,\"#0d0887\"],[0.1111111111111111,\"#46039f\"],[0.2222222222222222,\"#7201a8\"],[0.3333333333333333,\"#9c179e\"],[0.4444444444444444,\"#bd3786\"],[0.5555555555555556,\"#d8576b\"],[0.6666666666666666,\"#ed7953\"],[0.7777777777777778,\"#fb9f3a\"],[0.8888888888888888,\"#fdca26\"],[1.0,\"#f0f921\"]]}],\"surface\":[{\"type\":\"surface\",\"colorbar\":{\"outlinewidth\":0,\"ticks\":\"\"},\"colorscale\":[[0.0,\"#0d0887\"],[0.1111111111111111,\"#46039f\"],[0.2222222222222222,\"#7201a8\"],[0.3333333333333333,\"#9c179e\"],[0.4444444444444444,\"#bd3786\"],[0.5555555555555556,\"#d8576b\"],[0.6666666666666666,\"#ed7953\"],[0.7777777777777778,\"#fb9f3a\"],[0.8888888888888888,\"#fdca26\"],[1.0,\"#f0f921\"]]}],\"mesh3d\":[{\"type\":\"mesh3d\",\"colorbar\":{\"outlinewidth\":0,\"ticks\":\"\"}}],\"scatter\":[{\"fillpattern\":{\"fillmode\":\"overlay\",\"size\":10,\"solidity\":0.2},\"type\":\"scatter\"}],\"parcoords\":[{\"type\":\"parcoords\",\"line\":{\"colorbar\":{\"outlinewidth\":0,\"ticks\":\"\"}}}],\"scatterpolargl\":[{\"type\":\"scatterpolargl\",\"marker\":{\"colorbar\":{\"outlinewidth\":0,\"ticks\":\"\"}}}],\"bar\":[{\"error_x\":{\"color\":\"#2a3f5f\"},\"error_y\":{\"color\":\"#2a3f5f\"},\"marker\":{\"line\":{\"color\":\"#E5ECF6\",\"width\":0.5},\"pattern\":{\"fillmode\":\"overlay\",\"size\":10,\"solidity\":0.2}},\"type\":\"bar\"}],\"scattergeo\":[{\"type\":\"scattergeo\",\"marker\":{\"colorbar\":{\"outlinewidth\":0,\"ticks\":\"\"}}}],\"scatterpolar\":[{\"type\":\"scatterpolar\",\"marker\":{\"colorbar\":{\"outlinewidth\":0,\"ticks\":\"\"}}}],\"histogram\":[{\"marker\":{\"pattern\":{\"fillmode\":\"overlay\",\"size\":10,\"solidity\":0.2}},\"type\":\"histogram\"}],\"scattergl\":[{\"type\":\"scattergl\",\"marker\":{\"colorbar\":{\"outlinewidth\":0,\"ticks\":\"\"}}}],\"scatter3d\":[{\"type\":\"scatter3d\",\"line\":{\"colorbar\":{\"outlinewidth\":0,\"ticks\":\"\"}},\"marker\":{\"colorbar\":{\"outlinewidth\":0,\"ticks\":\"\"}}}],\"scattermapbox\":[{\"type\":\"scattermapbox\",\"marker\":{\"colorbar\":{\"outlinewidth\":0,\"ticks\":\"\"}}}],\"scatterternary\":[{\"type\":\"scatterternary\",\"marker\":{\"colorbar\":{\"outlinewidth\":0,\"ticks\":\"\"}}}],\"scattercarpet\":[{\"type\":\"scattercarpet\",\"marker\":{\"colorbar\":{\"outlinewidth\":0,\"ticks\":\"\"}}}],\"carpet\":[{\"aaxis\":{\"endlinecolor\":\"#2a3f5f\",\"gridcolor\":\"white\",\"linecolor\":\"white\",\"minorgridcolor\":\"white\",\"startlinecolor\":\"#2a3f5f\"},\"baxis\":{\"endlinecolor\":\"#2a3f5f\",\"gridcolor\":\"white\",\"linecolor\":\"white\",\"minorgridcolor\":\"white\",\"startlinecolor\":\"#2a3f5f\"},\"type\":\"carpet\"}],\"table\":[{\"cells\":{\"fill\":{\"color\":\"#EBF0F8\"},\"line\":{\"color\":\"white\"}},\"header\":{\"fill\":{\"color\":\"#C8D4E3\"},\"line\":{\"color\":\"white\"}},\"type\":\"table\"}],\"barpolar\":[{\"marker\":{\"line\":{\"color\":\"#E5ECF6\",\"width\":0.5},\"pattern\":{\"fillmode\":\"overlay\",\"size\":10,\"solidity\":0.2}},\"type\":\"barpolar\"}],\"pie\":[{\"automargin\":true,\"type\":\"pie\"}]},\"layout\":{\"autotypenumbers\":\"strict\",\"colorway\":[\"#636efa\",\"#EF553B\",\"#00cc96\",\"#ab63fa\",\"#FFA15A\",\"#19d3f3\",\"#FF6692\",\"#B6E880\",\"#FF97FF\",\"#FECB52\"],\"font\":{\"color\":\"#2a3f5f\"},\"hovermode\":\"closest\",\"hoverlabel\":{\"align\":\"left\"},\"paper_bgcolor\":\"white\",\"plot_bgcolor\":\"#E5ECF6\",\"polar\":{\"bgcolor\":\"#E5ECF6\",\"angularaxis\":{\"gridcolor\":\"white\",\"linecolor\":\"white\",\"ticks\":\"\"},\"radialaxis\":{\"gridcolor\":\"white\",\"linecolor\":\"white\",\"ticks\":\"\"}},\"ternary\":{\"bgcolor\":\"#E5ECF6\",\"aaxis\":{\"gridcolor\":\"white\",\"linecolor\":\"white\",\"ticks\":\"\"},\"baxis\":{\"gridcolor\":\"white\",\"linecolor\":\"white\",\"ticks\":\"\"},\"caxis\":{\"gridcolor\":\"white\",\"linecolor\":\"white\",\"ticks\":\"\"}},\"coloraxis\":{\"colorbar\":{\"outlinewidth\":0,\"ticks\":\"\"}},\"colorscale\":{\"sequential\":[[0.0,\"#0d0887\"],[0.1111111111111111,\"#46039f\"],[0.2222222222222222,\"#7201a8\"],[0.3333333333333333,\"#9c179e\"],[0.4444444444444444,\"#bd3786\"],[0.5555555555555556,\"#d8576b\"],[0.6666666666666666,\"#ed7953\"],[0.7777777777777778,\"#fb9f3a\"],[0.8888888888888888,\"#fdca26\"],[1.0,\"#f0f921\"]],\"sequentialminus\":[[0.0,\"#0d0887\"],[0.1111111111111111,\"#46039f\"],[0.2222222222222222,\"#7201a8\"],[0.3333333333333333,\"#9c179e\"],[0.4444444444444444,\"#bd3786\"],[0.5555555555555556,\"#d8576b\"],[0.6666666666666666,\"#ed7953\"],[0.7777777777777778,\"#fb9f3a\"],[0.8888888888888888,\"#fdca26\"],[1.0,\"#f0f921\"]],\"diverging\":[[0,\"#8e0152\"],[0.1,\"#c51b7d\"],[0.2,\"#de77ae\"],[0.3,\"#f1b6da\"],[0.4,\"#fde0ef\"],[0.5,\"#f7f7f7\"],[0.6,\"#e6f5d0\"],[0.7,\"#b8e186\"],[0.8,\"#7fbc41\"],[0.9,\"#4d9221\"],[1,\"#276419\"]]},\"xaxis\":{\"gridcolor\":\"white\",\"linecolor\":\"white\",\"ticks\":\"\",\"title\":{\"standoff\":15},\"zerolinecolor\":\"white\",\"automargin\":true,\"zerolinewidth\":2},\"yaxis\":{\"gridcolor\":\"white\",\"linecolor\":\"white\",\"ticks\":\"\",\"title\":{\"standoff\":15},\"zerolinecolor\":\"white\",\"automargin\":true,\"zerolinewidth\":2},\"scene\":{\"xaxis\":{\"backgroundcolor\":\"#E5ECF6\",\"gridcolor\":\"white\",\"linecolor\":\"white\",\"showbackground\":true,\"ticks\":\"\",\"zerolinecolor\":\"white\",\"gridwidth\":2},\"yaxis\":{\"backgroundcolor\":\"#E5ECF6\",\"gridcolor\":\"white\",\"linecolor\":\"white\",\"showbackground\":true,\"ticks\":\"\",\"zerolinecolor\":\"white\",\"gridwidth\":2},\"zaxis\":{\"backgroundcolor\":\"#E5ECF6\",\"gridcolor\":\"white\",\"linecolor\":\"white\",\"showbackground\":true,\"ticks\":\"\",\"zerolinecolor\":\"white\",\"gridwidth\":2}},\"shapedefaults\":{\"line\":{\"color\":\"#2a3f5f\"}},\"annotationdefaults\":{\"arrowcolor\":\"#2a3f5f\",\"arrowhead\":0,\"arrowwidth\":1},\"geo\":{\"bgcolor\":\"white\",\"landcolor\":\"#E5ECF6\",\"subunitcolor\":\"white\",\"showland\":true,\"showlakes\":true,\"lakecolor\":\"white\"},\"title\":{\"x\":0.05},\"mapbox\":{\"style\":\"light\"}}},\"xaxis\":{\"anchor\":\"y\",\"domain\":[0.0,1.0],\"title\":{\"text\":\"x\"}},\"yaxis\":{\"anchor\":\"x\",\"domain\":[0.0,1.0],\"autorange\":\"reversed\",\"title\":{\"text\":\"y\"}},\"coloraxis\":{\"colorscale\":[[0.0,\"rgb(103,0,31)\"],[0.1,\"rgb(178,24,43)\"],[0.2,\"rgb(214,96,77)\"],[0.3,\"rgb(244,165,130)\"],[0.4,\"rgb(253,219,199)\"],[0.5,\"rgb(247,247,247)\"],[0.6,\"rgb(209,229,240)\"],[0.7,\"rgb(146,197,222)\"],[0.8,\"rgb(67,147,195)\"],[0.9,\"rgb(33,102,172)\"],[1.0,\"rgb(5,48,97)\"]],\"cmid\":0.0},\"title\":{\"text\":\"IOI Metric Change From Each Head Through Receivers\"}},                        {\"responsive\": true}                    ).then(function(){\n",
              "                            \n",
              "var gd = document.getElementById('5d42908c-cf6e-4f71-b782-0cc8242227ac');\n",
              "var x = new MutationObserver(function (mutations, observer) {{\n",
              "        var display = window.getComputedStyle(gd).display;\n",
              "        if (!display || display === 'none') {{\n",
              "            console.log([gd, 'removed!']);\n",
              "            Plotly.purge(gd);\n",
              "            observer.disconnect();\n",
              "        }}\n",
              "}});\n",
              "\n",
              "// Listen for the removal of the full notebook cells\n",
              "var notebookContainer = gd.closest('#notebook-container');\n",
              "if (notebookContainer) {{\n",
              "    x.observe(notebookContainer, {childList: true});\n",
              "}}\n",
              "\n",
              "// Listen for the clearing of the current output cell\n",
              "var outputEl = gd.closest('.output');\n",
              "if (outputEl) {{\n",
              "    x.observe(outputEl, {childList: true});\n",
              "}}\n",
              "\n",
              "                        })                };                            </script>        </div>\n",
              "</body>\n",
              "</html>"
            ]
          },
          "metadata": {},
          "output_type": "display_data"
        }
      ],
      "source": [
        "imshow(metric_delta_results, title=\"IOI Metric Change From Each Head Through Receivers\")#, zmin=-0.02, zmax=0.02)"
      ]
    },
    {
      "cell_type": "markdown",
      "metadata": {
        "id": "qz8WYbfCUq6W"
      },
      "source": [
        "### Second Level"
      ]
    },
    {
      "cell_type": "markdown",
      "metadata": {
        "id": "aB0fKK8OVy34"
      },
      "source": [
        "#### Attention Pattern for Second-Level Heads"
      ]
    },
    {
      "cell_type": "markdown",
      "metadata": {
        "id": "32vOYD_kW6cx"
      },
      "source": [
        "Here we can see that the positive head we've identified is highly focused on S2, adding evidence for its role as an S2-inhibitor."
      ]
    },
    {
      "cell_type": "code",
      "execution_count": null,
      "metadata": {
        "colab": {
          "base_uri": "https://localhost:8080/",
          "height": 844
        },
        "id": "zXTbbs53V3bB",
        "outputId": "a3f1f366-2ae4-4f98-c885-8a08d0a8484d"
      },
      "outputs": [
        {
          "data": {
            "text/html": [
              "<div id=\"circuits-vis-a8942153-e179\" style=\"margin: 15px 0;\"/>\n",
              "    <script crossorigin type=\"module\">\n",
              "    import { render, AttentionHeads } from \"https://unpkg.com/circuitsvis@1.39.1/dist/cdn/esm.js\";\n",
              "    render(\n",
              "      \"circuits-vis-a8942153-e179\",\n",
              "      AttentionHeads,\n",
              "      {\"attention\": [[[1.0, 0.0, 0.0, 0.0, 0.0, 0.0, 0.0, 0.0, 0.0, 0.0, 0.0, 0.0, 0.0, 0.0, 0.0, 0.0, 0.0], [0.9908528923988342, 0.009147152304649353, 0.0, 0.0, 0.0, 0.0, 0.0, 0.0, 0.0, 0.0, 0.0, 0.0, 0.0, 0.0, 0.0, 0.0, 0.0], [0.997302770614624, 0.0005569779896177351, 0.002140195108950138, 0.0, 0.0, 0.0, 0.0, 0.0, 0.0, 0.0, 0.0, 0.0, 0.0, 0.0, 0.0, 0.0, 0.0], [0.014382022432982922, 0.035638511180877686, 0.9356981515884399, 0.014281346462666988, 0.0, 0.0, 0.0, 0.0, 0.0, 0.0, 0.0, 0.0, 0.0, 0.0, 0.0, 0.0, 0.0], [0.9309168457984924, 0.006300574634224176, 0.010319956578314304, 0.0407630056142807, 0.011699664406478405, 0.0, 0.0, 0.0, 0.0, 0.0, 0.0, 0.0, 0.0, 0.0, 0.0, 0.0, 0.0], [0.9830211400985718, 0.00135323207359761, 0.008473161607980728, 0.004033352714031935, 0.0017045161221176386, 0.001414560480043292, 0.0, 0.0, 0.0, 0.0, 0.0, 0.0, 0.0, 0.0, 0.0, 0.0, 0.0], [0.9514468312263489, 0.0016436743317171931, 0.020409567281603813, 0.007343794219195843, 0.01412182580679655, 0.0022579003125429153, 0.002776374574750662, 0.0, 0.0, 0.0, 0.0, 0.0, 0.0, 0.0, 0.0, 0.0, 0.0], [0.9725351929664612, 0.003353739157319069, 0.0085005396977067, 0.0033700778149068356, 0.003228226210922003, 0.0008211891399696469, 0.0009392595384269953, 0.00725181121379137, 0.0, 0.0, 0.0, 0.0, 0.0, 0.0, 0.0, 0.0, 0.0], [0.9646738767623901, 0.0021496042609214783, 0.007378367707133293, 0.0035534119233489037, 0.0034137647598981857, 0.0005619333824142814, 0.00022736834944225848, 0.0006644141394644976, 0.01737731322646141, 0.0, 0.0, 0.0, 0.0, 0.0, 0.0, 0.0, 0.0], [0.7745440602302551, 0.06003393977880478, 0.07068001478910446, 0.01048945914953947, 0.024197498336434364, 0.005101419985294342, 0.004672245122492313, 0.006518403068184853, 0.02769855037331581, 0.016064360737800598, 0.0, 0.0, 0.0, 0.0, 0.0, 0.0, 0.0], [0.7532816529273987, 0.008641153573989868, 0.010151865892112255, 0.09055959433317184, 0.0073541863821446896, 0.060061175376176834, 0.006875046528875828, 0.0016631361795589328, 0.0015922817401587963, 0.00431111641228199, 0.055508747696876526, 0.0, 0.0, 0.0, 0.0, 0.0, 0.0], [0.29374420642852783, 0.004318954423069954, 0.06724048405885696, 0.005857817828655243, 0.03890036791563034, 0.0011415248736739159, 0.0009957847651094198, 0.0026740843895822763, 0.005062600132077932, 0.00629565492272377, 0.5591749548912048, 0.01459348201751709, 0.0, 0.0, 0.0, 0.0, 0.0], [0.9244523048400879, 0.004811933729797602, 0.010415439493954182, 0.0014287949306890368, 0.0049887727946043015, 0.0012763348640874028, 0.0036389229353517294, 0.0011476092040538788, 0.006029303651303053, 0.003865730483084917, 0.013048695400357246, 0.004584053996950388, 0.020312007516622543, 0.0, 0.0, 0.0, 0.0], [0.9466182589530945, 0.0015273650642484426, 0.004160529002547264, 0.0025005859788507223, 0.006119356025010347, 0.0013091334840282798, 0.0018231626600027084, 0.0007926253601908684, 0.0063890269957482815, 0.007613773457705975, 0.012310098856687546, 0.0007891167188063264, 0.00288591836579144, 0.005161119159311056, 0.0, 0.0, 0.0], [0.9490718841552734, 0.00023884110851213336, 0.004466382320970297, 0.0007739338325336576, 0.011095086112618446, 8.266370423370972e-05, 0.00023027422139421105, 0.0005676429136656225, 0.007065350189805031, 0.001130200456827879, 0.005062821786850691, 7.173103222157806e-05, 0.0005918143433518708, 0.01020644698292017, 0.00934497732669115, 0.0, 0.0], [0.9170876145362854, 0.001754308003000915, 0.004724721424281597, 0.0028720139525830746, 0.0012818449176847935, 0.002349736401811242, 0.0014333765720948577, 0.0004611680924426764, 0.0032403948716819286, 0.012435263022780418, 0.011995519511401653, 0.0016498942859470844, 0.0012919182190671563, 0.003110461635515094, 0.01362322736531496, 0.020688481628894806, 0.0], [0.21206466853618622, 0.000852306024171412, 0.03639031946659088, 0.0010565606644377112, 0.03232167661190033, 0.0001944379328051582, 0.00014419389481190592, 0.0017227634089067578, 0.003194035030901432, 0.0012075372505933046, 0.7072051763534546, 0.0012011375511065125, 0.00037453309050761163, 0.00025531876599416137, 5.309010521159507e-05, 0.0006658689235337079, 0.0010963925160467625]], [[1.0, 0.0, 0.0, 0.0, 0.0, 0.0, 0.0, 0.0, 0.0, 0.0, 0.0, 0.0, 0.0, 0.0, 0.0, 0.0, 0.0], [0.9989277720451355, 0.0010722599690780044, 0.0, 0.0, 0.0, 0.0, 0.0, 0.0, 0.0, 0.0, 0.0, 0.0, 0.0, 0.0, 0.0, 0.0, 0.0], [0.9922264814376831, 0.0002859597734641284, 0.00748748192563653, 0.0, 0.0, 0.0, 0.0, 0.0, 0.0, 0.0, 0.0, 0.0, 0.0, 0.0, 0.0, 0.0, 0.0], [0.8110906481742859, 7.301795994862914e-05, 0.18436814844608307, 0.004468102473765612, 0.0, 0.0, 0.0, 0.0, 0.0, 0.0, 0.0, 0.0, 0.0, 0.0, 0.0, 0.0, 0.0], [0.9349445700645447, 0.03327052667737007, 0.004135419614613056, 0.01969289220869541, 0.00795664731413126, 0.0, 0.0, 0.0, 0.0, 0.0, 0.0, 0.0, 0.0, 0.0, 0.0, 0.0, 0.0], [0.9836381673812866, 0.008010164834558964, 0.0002702389028854668, 0.0041373963467776775, 0.0018288008868694305, 0.002115239854902029, 0.0, 0.0, 0.0, 0.0, 0.0, 0.0, 0.0, 0.0, 0.0, 0.0, 0.0], [0.9474867582321167, 0.0005119006964378059, 0.0030661248601973057, 0.003312035696581006, 0.03956843540072441, 0.004762840457260609, 0.0012919551227241755, 0.0, 0.0, 0.0, 0.0, 0.0, 0.0, 0.0, 0.0, 0.0, 0.0], [0.7418878674507141, 0.022228730842471123, 0.0004128387081436813, 0.005387865472584963, 0.005283655133098364, 0.012402393855154514, 0.017345597967505455, 0.1950509250164032, 0.0, 0.0, 0.0, 0.0, 0.0, 0.0, 0.0, 0.0, 0.0], [0.6699872612953186, 0.15499480068683624, 0.03856242075562477, 0.007988952100276947, 0.03659941256046295, 0.017534885555505753, 0.006018610671162605, 0.011737925931811333, 0.056575674563646317, 0.0, 0.0, 0.0, 0.0, 0.0, 0.0, 0.0, 0.0], [0.19185872375965118, 0.0026139453984797, 0.2003801465034485, 0.02464349940419197, 0.5551615953445435, 0.01963791809976101, 0.0027393915224820375, 0.0018910462968051434, 0.000483059324324131, 0.0005907018203288317, 0.0, 0.0, 0.0, 0.0, 0.0, 0.0, 0.0], [0.7393664121627808, 0.011860638856887817, 0.0005097945686429739, 0.008528310805559158, 0.006546869408339262, 0.01900421641767025, 0.024217909201979637, 0.05324661359190941, 0.0373905710875988, 0.02183636836707592, 0.07749228924512863, 0.0, 0.0, 0.0, 0.0, 0.0, 0.0], [0.03397153317928314, 0.0004066631954628974, 0.025381458923220634, 0.009001560509204865, 0.1741296797990799, 0.00045633153058588505, 0.0001483663363615051, 0.0014131700154393911, 0.0013346999185159802, 0.000749430269934237, 0.7421172857284546, 0.010889812372624874, 0.0, 0.0, 0.0, 0.0, 0.0], [0.8620191216468811, 0.0024188710376620293, 0.0017027194844558835, 0.005400673020631075, 0.0036338157951831818, 0.00037212506867945194, 0.0001524962717667222, 0.0038408865220844746, 0.02735332027077675, 0.025721173733472824, 0.01647358015179634, 0.023470912128686905, 0.027440275996923447, 0.0, 0.0, 0.0, 0.0], [0.5469768047332764, 0.004172143060714006, 0.0003470999945420772, 0.0013105814578011632, 0.00212832260876894, 0.0008917772793211043, 0.0006227128906175494, 0.003208278678357601, 0.05023495480418205, 0.05776364356279373, 0.03197028115391731, 0.12115638703107834, 0.08679821342229843, 0.09241878241300583, 0.0, 0.0, 0.0], [0.12050502747297287, 0.0001182944979518652, 5.5851091019576415e-05, 1.7293414202868007e-05, 8.258286834461614e-05, 1.181037168862531e-05, 7.971811101015192e-06, 0.0005698897875845432, 0.0034134609159082174, 0.00044556771172210574, 0.007017660420387983, 0.0042377617210149765, 0.010669350624084473, 0.27315816283226013, 0.5796893239021301, 0.0, 0.0], [0.20461811125278473, 0.0168217271566391, 0.0005378369824029505, 0.0006659259670414031, 0.0038967656437307596, 0.0017627462511882186, 0.004305435810238123, 0.007432318292558193, 0.06061805039644241, 0.11483641713857651, 0.06407233327627182, 0.3385132849216461, 0.05532827973365784, 0.04776587337255478, 0.014313057996332645, 0.06451182812452316, 0.0], [0.0018075498519465327, 4.4593096390599385e-05, 0.0018813906935974956, 0.0001873776054708287, 0.06574095785617828, 8.84245237102732e-05, 5.642602627631277e-05, 8.429291483480483e-05, 2.0376370230223984e-05, 5.218554724706337e-05, 0.9236196279525757, 0.005677456967532635, 0.00047244937741197646, 1.0106755325978156e-05, 4.622003189069801e-07, 6.142957863630727e-05, 0.00019484189397189766]], [[1.0, 0.0, 0.0, 0.0, 0.0, 0.0, 0.0, 0.0, 0.0, 0.0, 0.0, 0.0, 0.0, 0.0, 0.0, 0.0, 0.0], [0.9997488856315613, 0.0002510641934350133, 0.0, 0.0, 0.0, 0.0, 0.0, 0.0, 0.0, 0.0, 0.0, 0.0, 0.0, 0.0, 0.0, 0.0, 0.0], [0.9876771569252014, 0.00020749217947013676, 0.01211539562791586, 0.0, 0.0, 0.0, 0.0, 0.0, 0.0, 0.0, 0.0, 0.0, 0.0, 0.0, 0.0, 0.0, 0.0], [0.17900928854942322, 2.358527490287088e-05, 0.8194864392280579, 0.001480701263062656, 0.0, 0.0, 0.0, 0.0, 0.0, 0.0, 0.0, 0.0, 0.0, 0.0, 0.0, 0.0, 0.0], [0.9772250056266785, 3.593956716940738e-05, 0.006211355794221163, 0.0003374628140591085, 0.0161903016269207, 0.0, 0.0, 0.0, 0.0, 0.0, 0.0, 0.0, 0.0, 0.0, 0.0, 0.0, 0.0], [0.9914421439170837, 6.5896397245523985e-06, 0.0004417300224304199, 1.6903408322832547e-05, 0.007800040300935507, 0.0002926168672274798, 0.0, 0.0, 0.0, 0.0, 0.0, 0.0, 0.0, 0.0, 0.0, 0.0, 0.0], [0.6981496214866638, 3.1846336696617072e-06, 0.02372661791741848, 4.1137944208458066e-05, 0.2771628797054291, 0.0007157824584282935, 0.00020071618200745434, 0.0, 0.0, 0.0, 0.0, 0.0, 0.0, 0.0, 0.0, 0.0, 0.0], [0.8376510739326477, 1.1344830454618204e-05, 0.008382703177630901, 0.0015116757713258266, 0.12916553020477295, 0.001416884595528245, 0.0005343532538972795, 0.02132643386721611, 0.0, 0.0, 0.0, 0.0, 0.0, 0.0, 0.0, 0.0, 0.0], [0.9006764888763428, 5.537700786817368e-08, 0.0003420390421524644, 1.5733989130239934e-05, 0.09765750169754028, 5.942859843344195e-06, 9.952417713066097e-06, 0.0008015019702725112, 0.0004909061244688928, 0.0, 0.0, 0.0, 0.0, 0.0, 0.0, 0.0, 0.0], [0.34962016344070435, 2.051772753475234e-06, 0.00036126168561168015, 0.0005551787908188999, 0.6487266421318054, 5.1187795179430395e-05, 0.00010868249228224158, 0.00030570192029699683, 0.0002551741781644523, 1.3953025700175203e-05, 0.0, 0.0, 0.0, 0.0, 0.0, 0.0, 0.0], [0.10346463322639465, 0.0003095047431997955, 0.0027883786242455244, 0.011044417507946491, 0.6629182696342468, 0.054869212210178375, 0.057306237518787384, 0.05792514979839325, 0.03593143820762634, 0.0015996681759133935, 0.01184314675629139, 0.0, 0.0, 0.0, 0.0, 0.0, 0.0], [0.36924874782562256, 1.1306440939051754e-07, 2.3826260076020844e-05, 0.00021739714429713786, 0.03108922205865383, 1.4006735000293702e-05, 2.0476377358136233e-06, 9.854968993749935e-06, 2.6606081519275904e-05, 3.064418478970765e-07, 0.599349856376648, 1.8002576325670816e-05, 0.0, 0.0, 0.0, 0.0, 0.0], [0.6936678886413574, 0.00012491295638028532, 0.006047734059393406, 0.0002569782955106348, 0.23576384782791138, 0.00020401994697749615, 7.041709613986313e-05, 0.0001968518045032397, 0.0007621549884788692, 0.0001790387905202806, 0.04285723716020584, 0.00016465663793496788, 0.019704284146428108, 0.0, 0.0, 0.0, 0.0], [0.3775239884853363, 5.030394277127925e-06, 0.00040264957351610065, 0.00038245617179200053, 0.35547447204589844, 0.0007464854861609638, 0.0004346245841588825, 0.0017116450471803546, 0.004557175096124411, 0.0015021548606455326, 0.24843397736549377, 0.00019776276894845068, 0.003394054714590311, 0.00523344473913312, 0.0, 0.0, 0.0], [0.2316569834947586, 1.828063432185445e-06, 0.00029666771297343075, 4.9264435801887885e-05, 0.4025212824344635, 0.00010616821236908436, 3.265734267188236e-05, 0.0002708453976083547, 0.0026267978828400373, 0.002523701172322035, 0.3538389205932617, 1.99046335183084e-05, 0.00011126333265565336, 0.0007616474176757038, 0.005182092543691397, 0.0, 0.0], [0.6887574791908264, 6.477123406511964e-07, 2.2445756258093752e-05, 5.533719377126545e-05, 0.07541265338659286, 3.0277897167252377e-05, 0.00016650206816848367, 0.001747745554894209, 0.0015952304238453507, 9.556741861160845e-05, 0.2027035802602768, 0.0001541396923130378, 0.0019487992394715548, 0.010659294202923775, 0.0021729811560362577, 0.014477338641881943, 0.0], [0.02549532987177372, 1.7814778541236365e-09, 4.242186150804628e-06, 2.795710997816059e-06, 0.0344419926404953, 4.2038092118446e-08, 5.633948862993066e-09, 8.558531305880024e-08, 9.928069744091772e-08, 2.3835912799086145e-08, 0.9400351047515869, 1.3864762138382503e-07, 1.0612907317408826e-05, 5.463056368171237e-06, 2.7627277177089127e-07, 3.7473741940630134e-06, 3.7855849011059206e-10]], [[1.0, 0.0, 0.0, 0.0, 0.0, 0.0, 0.0, 0.0, 0.0, 0.0, 0.0, 0.0, 0.0, 0.0, 0.0, 0.0, 0.0], [0.9999983310699463, 1.67318273724959e-06, 0.0, 0.0, 0.0, 0.0, 0.0, 0.0, 0.0, 0.0, 0.0, 0.0, 0.0, 0.0, 0.0, 0.0, 0.0], [0.9994292855262756, 1.1857890740429866e-06, 0.0005694806459359825, 0.0, 0.0, 0.0, 0.0, 0.0, 0.0, 0.0, 0.0, 0.0, 0.0, 0.0, 0.0, 0.0, 0.0], [0.13319118320941925, 0.0021133224945515394, 0.8644434213638306, 0.000252077094046399, 0.0, 0.0, 0.0, 0.0, 0.0, 0.0, 0.0, 0.0, 0.0, 0.0, 0.0, 0.0, 0.0], [0.9951537847518921, 1.106100626202533e-05, 0.0003777330566663295, 0.002586383605375886, 0.0018711067968979478, 0.0, 0.0, 0.0, 0.0, 0.0, 0.0, 0.0, 0.0, 0.0, 0.0, 0.0, 0.0], [0.998946487903595, 2.3062017135089263e-05, 6.42601708022994e-06, 0.00017989730986300856, 2.8855714845121838e-05, 0.0008153492817655206, 0.0, 0.0, 0.0, 0.0, 0.0, 0.0, 0.0, 0.0, 0.0, 0.0, 0.0], [0.9967706203460693, 2.42424016505538e-06, 0.0011733837891370058, 0.0002565027098171413, 0.0012551745167002082, 0.0005242574843578041, 1.7704154743114486e-05, 0.0, 0.0, 0.0, 0.0, 0.0, 0.0, 0.0, 0.0, 0.0, 0.0], [0.9970647692680359, 3.095975625910796e-05, 8.395213808398694e-05, 0.0015048932982608676, 3.359009497216903e-05, 5.7812205341178924e-05, 1.4174409443512559e-05, 0.0012098063016310334, 0.0, 0.0, 0.0, 0.0, 0.0, 0.0, 0.0, 0.0, 0.0], [0.9932299852371216, 0.0002714123984333128, 0.0011499653337523341, 0.0018206697423011065, 0.001071362174116075, 0.00019359120051376522, 2.594511170173064e-05, 0.00017101055709645152, 0.0020661132875829935, 0.0, 0.0, 0.0, 0.0, 0.0, 0.0, 0.0, 0.0], [0.7250993847846985, 0.0009370127227157354, 0.0647660419344902, 0.0233082827180624, 0.18022732436656952, 0.004050372168421745, 6.222661613719538e-05, 0.0004916058387607336, 0.0004357513680588454, 0.0006220552022568882, 0.0, 0.0, 0.0, 0.0, 0.0, 0.0, 0.0], [0.8879896402359009, 0.0015600560000166297, 0.0008875920902937651, 0.017749590799212456, 0.003974028863012791, 0.030060678720474243, 0.004217955749481916, 0.004845364950597286, 0.0033530101645737886, 0.0024280890356749296, 0.04293396323919296, 0.0, 0.0, 0.0, 0.0, 0.0, 0.0], [0.09174667298793793, 1.991764293052256e-05, 0.026794489473104477, 0.0005653765983879566, 0.06651563197374344, 0.00038332425174303353, 6.083441803639289e-06, 0.0002651970135048032, 0.0001605166617082432, 0.00011731471022358164, 0.8133984804153442, 2.6956331566907465e-05, 0.0, 0.0, 0.0, 0.0, 0.0], [0.9945268034934998, 4.2444625591997465e-07, 1.3537079212255776e-05, 0.0008742805221118033, 1.2965791711394559e-06, 2.8007807486574166e-05, 4.7705602810310666e-06, 0.0009801044361665845, 0.0031901870388537645, 4.0930597606347874e-05, 8.244019409175962e-05, 4.361296305432916e-05, 0.00021352058683987707, 0.0, 0.0, 0.0, 0.0], [0.9871755242347717, 0.0001325006305705756, 2.7692394723999314e-05, 0.00041842172504402697, 3.974507490056567e-05, 5.2474009862635285e-05, 7.15485803084448e-05, 0.00032238540006801486, 0.0008325374219566584, 0.00013166223652660847, 0.0019234591163694859, 0.0003184739616699517, 0.00046337689855135977, 0.008090161718428135, 0.0, 0.0, 0.0], [0.9925883412361145, 3.0245129778450064e-07, 6.336373189697042e-05, 6.63722021272406e-05, 6.276922704273602e-06, 3.982825447224059e-08, 2.345959693172972e-08, 3.681563975987956e-05, 0.00022618482762482017, 4.448831532499753e-06, 0.0006166379898786545, 7.00820862675755e-07, 1.4200626537785865e-05, 0.006239999085664749, 0.00013625342398881912, 0.0, 0.0], [0.9485796093940735, 0.00017530539480503649, 3.1445877539226785e-05, 0.00038874216261319816, 7.401181937893853e-05, 2.9598420951515436e-05, 4.258450644556433e-05, 0.000222365531953983, 0.0003648329875431955, 0.0001509014837210998, 0.006549441255629063, 0.0007941495277918875, 0.0004046228132210672, 0.02403888665139675, 0.00045426376163959503, 0.017699215561151505, 0.0], [0.0020335849840193987, 0.00017256235878448933, 0.002358999801799655, 5.094710650155321e-05, 0.02280629612505436, 1.167156187875662e-05, 2.043815356955747e-07, 2.130224856955465e-06, 4.37200469605159e-06, 6.374616350512952e-05, 0.9716442227363586, 0.0004429184482432902, 4.2174815462203696e-05, 3.848506821668707e-05, 9.989038289859309e-07, 0.00032270391238853335, 4.033583536511287e-06]]], \"attentionHeadNames\": [\"L6H6\", \"L7H2\", \"L7H9\", \"L8H9\"], \"tokens\": [\"<|endoftext|>\", \"After\", \" John\", \" and\", \" Mary\", \" went\", \" to\", \" the\", \" store\", \",\", \" Mary\", \" gave\", \" a\", \" bottle\", \" of\", \" milk\", \" to\"]}\n",
              "    )\n",
              "    </script>"
            ],
            "text/plain": [
              "<circuitsvis.utils.render.RenderedHTML at 0x7f77c7f55e50>"
            ]
          },
          "execution_count": 34,
          "metadata": {},
          "output_type": "execute_result"
        }
      ],
      "source": [
        "second_level_positive_heads = [(6, 6), (7, 2), (7, 9), (8, 9)]\n",
        "\n",
        "tokens, attn, names = get_attn_head_patterns(model, example_prompt, second_level_positive_heads)\n",
        "cv.attention.attention_heads(tokens=tokens, attention=attn, attention_head_names=names)\n",
        "\n",
        "#second_level_negative_heads = [(7, 8), (8, 10)]\n",
        "#visualize_attention_patterns(torch.tensor([l*12+h for l, h in second_level_negative_heads]), title=f\"Top Negative Second Level IOI Metric Heads\")"
      ]
    },
    {
      "cell_type": "markdown",
      "metadata": {
        "id": "_OX3vKSNBx0g"
      },
      "source": [
        "More evidence that these are S-inhibition heads. S-inhibition heads will have a higher relative importance on values as opposed to other head attributes."
      ]
    },
    {
      "cell_type": "code",
      "execution_count": null,
      "metadata": {
        "colab": {
          "base_uri": "https://localhost:8080/",
          "height": 542
        },
        "id": "Qpk9IlyEOqwy",
        "outputId": "44e8a816-f1ff-47b8-e841-52854211c13e"
      },
      "outputs": [
        {
          "data": {
            "text/html": [
              "<html>\n",
              "<head><meta charset=\"utf-8\" /></head>\n",
              "<body>\n",
              "    <div>            <script src=\"https://cdnjs.cloudflare.com/ajax/libs/mathjax/2.7.5/MathJax.js?config=TeX-AMS-MML_SVG\"></script><script type=\"text/javascript\">if (window.MathJax) {MathJax.Hub.Config({SVG: {font: \"STIX-Web\"}});}</script>                <script type=\"text/javascript\">window.PlotlyConfig = {MathJaxConfig: 'local'};</script>\n",
              "        <script src=\"https://cdn.plot.ly/plotly-2.8.3.min.js\"></script>                <div id=\"ab672a23-c908-4db3-8bf9-31e7aa5121b2\" class=\"plotly-graph-div\" style=\"height:525px; width:100%;\"></div>            <script type=\"text/javascript\">                                    window.PLOTLYENV=window.PLOTLYENV || {};                                    if (document.getElementById(\"ab672a23-c908-4db3-8bf9-31e7aa5121b2\")) {                    Plotly.newPlot(                        \"ab672a23-c908-4db3-8bf9-31e7aa5121b2\",                        [{\"hovertemplate\":\"<b>%{hovertext}</b><br><br>Value Patch=%{x}<br>Output Patch=%{y}<br>=%{marker.color}<extra></extra>\",\"hovertext\":[\"L0H0\",\"L0H1\",\"L0H2\",\"L0H3\",\"L0H4\",\"L0H5\",\"L0H6\",\"L0H7\",\"L0H8\",\"L0H9\",\"L0H10\",\"L0H11\",\"L1H0\",\"L1H1\",\"L1H2\",\"L1H3\",\"L1H4\",\"L1H5\",\"L1H6\",\"L1H7\",\"L1H8\",\"L1H9\",\"L1H10\",\"L1H11\",\"L2H0\",\"L2H1\",\"L2H2\",\"L2H3\",\"L2H4\",\"L2H5\",\"L2H6\",\"L2H7\",\"L2H8\",\"L2H9\",\"L2H10\",\"L2H11\",\"L3H0\",\"L3H1\",\"L3H2\",\"L3H3\",\"L3H4\",\"L3H5\",\"L3H6\",\"L3H7\",\"L3H8\",\"L3H9\",\"L3H10\",\"L3H11\",\"L4H0\",\"L4H1\",\"L4H2\",\"L4H3\",\"L4H4\",\"L4H5\",\"L4H6\",\"L4H7\",\"L4H8\",\"L4H9\",\"L4H10\",\"L4H11\",\"L5H0\",\"L5H1\",\"L5H2\",\"L5H3\",\"L5H4\",\"L5H5\",\"L5H6\",\"L5H7\",\"L5H8\",\"L5H9\",\"L5H10\",\"L5H11\",\"L6H0\",\"L6H1\",\"L6H2\",\"L6H3\",\"L6H4\",\"L6H5\",\"L6H6\",\"L6H7\",\"L6H8\",\"L6H9\",\"L6H10\",\"L6H11\",\"L7H0\",\"L7H1\",\"L7H2\",\"L7H3\",\"L7H4\",\"L7H5\",\"L7H6\",\"L7H7\",\"L7H8\",\"L7H9\",\"L7H10\",\"L7H11\",\"L8H0\",\"L8H1\",\"L8H2\",\"L8H3\",\"L8H4\",\"L8H5\",\"L8H6\",\"L8H7\",\"L8H8\",\"L8H9\",\"L8H10\",\"L8H11\",\"L9H0\",\"L9H1\",\"L9H2\",\"L9H3\",\"L9H4\",\"L9H5\",\"L9H6\",\"L9H7\",\"L9H8\",\"L9H9\",\"L9H10\",\"L9H11\",\"L10H0\",\"L10H1\",\"L10H2\",\"L10H3\",\"L10H4\",\"L10H5\",\"L10H6\",\"L10H7\",\"L10H8\",\"L10H9\",\"L10H10\",\"L10H11\",\"L11H0\",\"L11H1\",\"L11H2\",\"L11H3\",\"L11H4\",\"L11H5\",\"L11H6\",\"L11H7\",\"L11H8\",\"L11H9\",\"L11H10\",\"L11H11\"],\"legendgroup\":\"\",\"marker\":{\"color\":[0,0,0,0,0,0,0,0,0,0,0,0,1,1,1,1,1,1,1,1,1,1,1,1,2,2,2,2,2,2,2,2,2,2,2,2,3,3,3,3,3,3,3,3,3,3,3,3,4,4,4,4,4,4,4,4,4,4,4,4,5,5,5,5,5,5,5,5,5,5,5,5,6,6,6,6,6,6,6,6,6,6,6,6,7,7,7,7,7,7,7,7,7,7,7,7,8,8,8,8,8,8,8,8,8,8,8,8,9,9,9,9,9,9,9,9,9,9,9,9,10,10,10,10,10,10,10,10,10,10,10,10,11,11,11,11,11,11,11,11,11,11,11,11],\"coloraxis\":\"coloraxis\",\"symbol\":\"circle\"},\"mode\":\"markers\",\"name\":\"\",\"orientation\":\"v\",\"showlegend\":false,\"x\":[-0.0005520961130969226,-0.0009247470879927278,0.00010588629811536521,0.00025300399283878505,0.0017078402452170849,-0.00010386267240392044,0.001027041464112699,0.0007114567561075091,0.0009816109668463469,-0.0006931429379619658,0.0017241809982806444,-3.7740650441264734e-05,-0.0001596135989530012,-6.39972131466493e-05,0.0005822481471113861,-0.00037988543044775724,0.00010548157297307625,0.00035357827437110245,0.00010715106327552348,0.0006016749539412558,-0.00018136759172193706,-6.328894232865423e-05,-0.0010138878133147955,-0.00022259900288190693,-3.516052311169915e-05,0.0008287765667773783,0.000893482007086277,0.0006664310349151492,2.5953020667657256e-05,0.00010148491128347814,0.004276885651051998,0.0008262976189143956,-0.00031462343758903444,-0.0006433617090806365,-0.0003465967602096498,0.0006420969148166478,0.012567181140184402,0.0008759776828810573,-0.0009625888778828084,-0.004570615012198687,-0.0021910318173468113,7.563307008240372e-05,-0.00041125164716504514,-0.0013151047751307487,9.495871199760586e-05,0.0009576310403645039,0.0003287382423877716,0.0003682495735120028,0.0074983988888561726,3.900541560142301e-05,0.00016780929581727833,0.000545721675734967,-9.885419422062114e-05,0.0019302369328215718,-2.301875974808354e-05,0.00012981568579562008,-4.285030809114687e-05,-0.0009062308818101883,-9.151854465017095e-05,1.15852662929683e-05,-0.0007769716903567314,-0.0032471122685819864,-0.00013634188508149236,0.0008631276432424784,-0.0008284224313683808,-0.00035034047323279083,-2.8027237931382842e-05,-5.448616502690129e-05,0.06961794197559357,-3.435107282712124e-05,-0.00014969782205298543,-0.0016738938866183162,0.0024821306578814983,-8.554883970646188e-05,-0.004702049773186445,-0.0015775186475366354,0.0009148312965407968,0.10187802463769913,0.400160551071167,0.0018737270729616284,-0.0011489649768918753,1.9072687791776843e-05,0.0005319610354490578,0.021774228662252426,0.0009723023395054042,-0.000178534523001872,0.06615151464939117,-0.0036030684132128954,0.002619433682411909,-0.0009572262642905116,-0.016037195920944214,0.003905904246494174,-0.0037657173816114664,0.052084069699048996,-0.007532395888119936,-0.003373336046934128,-1.2495898772613145e-05,-0.0001699340937193483,-0.015225771814584732,2.377762029937003e-06,-0.0022529042325913906,-9.85000588116236e-05,0.0020508957095444202,0.007072071544826031,0.008559690788388252,0.3574519753456116,0.008297580294311047,-0.0034177040215581656,5.615565896732733e-06,-0.1080825924873352,-0.0020198330748826265,-0.001567198196426034,-0.00027091309311799705,0.019642135128378868,-0.0001430198608431965,-0.02070201002061367,-0.004326413851231337,-0.010237378999590874,1.1787628864112776e-05,-4.50257084594341e-06,-2.023627274638784e-07,0.03765459358692169,0.007998032495379448,5.564975253946614e-07,0.0024737324565649033,-0.00011610561341512948,0.0,-0.005780896171927452,-0.009350270964205265,0.0005492630298249424,-1.568311176924908e-06,-7.13834524503909e-05,0.0042993477545678616,0.0,-5.05906818659696e-08,0.0,0.0,0.0,0.009310304187238216,0.0,1.5177204204519512e-07,0.004709840752184391,0.0,0.00039946401375345886],\"xaxis\":\"x\",\"y\":[0.0011908540036529303,0.00105537218041718,0.00014003500109538436,0.0019421257311478257,0.005328463390469551,-0.0008857416687533259,0.00042182509787380695,0.005136218853294849,-0.00037816533586010337,0.008995073847472668,0.0022878118325024843,-5.064127253717743e-05,-0.0003522123151924461,-9.708351717563346e-05,0.002639821730554104,-0.0006422993028536439,-0.0001514179166406393,0.0005793138989247382,-0.0027291143778711557,-0.0002370173460803926,-0.0002788558485917747,0.00014281750191003084,0.0009030942455865443,0.00041782844346016645,0.0007519798818975687,0.0014154261443763971,0.001225508633069694,0.0014288831735029817,0.00022006947256159037,0.00043755880324169993,0.0037378924898803234,0.0003610657004173845,5.5295615311479196e-05,0.0010379183804616332,0.0007219795952551067,0.00876589771360159,0.008534091524779797,0.0022436967119574547,-0.0007444418733939528,-0.001432171557098627,-0.0018967963987961411,5.924168726778589e-05,-0.003107532626017928,-0.0012055760016664863,0.000666228705085814,0.0010424716165289283,0.0009203962981700897,0.000179141599801369,0.007750239688903093,0.015809284523129463,0.000982521683908999,0.00041327529470436275,0.0023489759769290686,0.0014914133353158832,0.0573815181851387,-0.0021773723419755697,0.011712046340107918,0.000594845216255635,-0.00014716829173266888,0.4826379418373108,0.0183147881180048,-0.003223992418497801,0.0009926398051902652,-0.002333899959921837,-0.0008097544778138399,-0.006659504491835833,-5.185544796404429e-05,0.0014009065926074982,0.07002564519643784,-0.0005087904864922166,0.04600134864449501,0.0002841678506229073,0.0033622568007558584,4.219262700644322e-05,-0.005131058860570192,-0.001906509860418737,0.0007783376495353878,0.1042623370885849,0.4007404148578644,-0.0029783747158944607,0.0002225484058726579,-1.4266572179622017e-05,-0.00254607736133039,0.024374945089221,0.001138846855610609,-0.0009476140839979053,0.06247473508119583,-0.0010858278255909681,0.004026613663882017,-0.0012744298437610269,-0.011301402002573013,0.004561255685985088,-0.0019636773504316807,0.04872328042984009,-0.007536999881267548,0.048388976603746414,0.0002693448041100055,0.0006033950485289097,0.04873617738485336,-5.054008943261579e-05,-0.002039361046627164,0.00028695035143755376,0.0005280149634927511,0.007077282294631004,0.01675487495958805,0.3573077917098999,0.2708517611026764,0.0008684902568347752,0.0026616263203322887,-0.12779757380485535,0.005612479522824287,-0.001194294192828238,7.472244033124298e-05,-0.10223263502120972,0.07188475877046585,0.0018553626723587513,0.0042847273871302605,-0.003737538354471326,-0.0002383327082497999,-1.1484085007396061e-05,0.0012226250255480409,0.03296888619661331,-0.010992545634508133,-0.0012357280356809497,0.0030857280362397432,-0.00038772699190303683,-1.5126614016480744e-05,0.10439470410346985,0.05304569751024246,0.00018318886577617377,0.013617442920804024,0.0001569828891661018,0.004510968923568726,-0.0008315590093843639,7.608838495798409e-05,0.0,0.0004154000780545175,-0.0019191575702279806,0.01031250599771738,4.851646372117102e-05,1.315357735620637e-06,0.0044491467997431755,0.0,0.0008502776036038995],\"yaxis\":\"y\",\"type\":\"scatter\"}],                        {\"template\":{\"data\":{\"bar\":[{\"error_x\":{\"color\":\"#2a3f5f\"},\"error_y\":{\"color\":\"#2a3f5f\"},\"marker\":{\"line\":{\"color\":\"#E5ECF6\",\"width\":0.5},\"pattern\":{\"fillmode\":\"overlay\",\"size\":10,\"solidity\":0.2}},\"type\":\"bar\"}],\"barpolar\":[{\"marker\":{\"line\":{\"color\":\"#E5ECF6\",\"width\":0.5},\"pattern\":{\"fillmode\":\"overlay\",\"size\":10,\"solidity\":0.2}},\"type\":\"barpolar\"}],\"carpet\":[{\"aaxis\":{\"endlinecolor\":\"#2a3f5f\",\"gridcolor\":\"white\",\"linecolor\":\"white\",\"minorgridcolor\":\"white\",\"startlinecolor\":\"#2a3f5f\"},\"baxis\":{\"endlinecolor\":\"#2a3f5f\",\"gridcolor\":\"white\",\"linecolor\":\"white\",\"minorgridcolor\":\"white\",\"startlinecolor\":\"#2a3f5f\"},\"type\":\"carpet\"}],\"choropleth\":[{\"colorbar\":{\"outlinewidth\":0,\"ticks\":\"\"},\"type\":\"choropleth\"}],\"contour\":[{\"colorbar\":{\"outlinewidth\":0,\"ticks\":\"\"},\"colorscale\":[[0.0,\"#0d0887\"],[0.1111111111111111,\"#46039f\"],[0.2222222222222222,\"#7201a8\"],[0.3333333333333333,\"#9c179e\"],[0.4444444444444444,\"#bd3786\"],[0.5555555555555556,\"#d8576b\"],[0.6666666666666666,\"#ed7953\"],[0.7777777777777778,\"#fb9f3a\"],[0.8888888888888888,\"#fdca26\"],[1.0,\"#f0f921\"]],\"type\":\"contour\"}],\"contourcarpet\":[{\"colorbar\":{\"outlinewidth\":0,\"ticks\":\"\"},\"type\":\"contourcarpet\"}],\"heatmap\":[{\"colorbar\":{\"outlinewidth\":0,\"ticks\":\"\"},\"colorscale\":[[0.0,\"#0d0887\"],[0.1111111111111111,\"#46039f\"],[0.2222222222222222,\"#7201a8\"],[0.3333333333333333,\"#9c179e\"],[0.4444444444444444,\"#bd3786\"],[0.5555555555555556,\"#d8576b\"],[0.6666666666666666,\"#ed7953\"],[0.7777777777777778,\"#fb9f3a\"],[0.8888888888888888,\"#fdca26\"],[1.0,\"#f0f921\"]],\"type\":\"heatmap\"}],\"heatmapgl\":[{\"colorbar\":{\"outlinewidth\":0,\"ticks\":\"\"},\"colorscale\":[[0.0,\"#0d0887\"],[0.1111111111111111,\"#46039f\"],[0.2222222222222222,\"#7201a8\"],[0.3333333333333333,\"#9c179e\"],[0.4444444444444444,\"#bd3786\"],[0.5555555555555556,\"#d8576b\"],[0.6666666666666666,\"#ed7953\"],[0.7777777777777778,\"#fb9f3a\"],[0.8888888888888888,\"#fdca26\"],[1.0,\"#f0f921\"]],\"type\":\"heatmapgl\"}],\"histogram\":[{\"marker\":{\"pattern\":{\"fillmode\":\"overlay\",\"size\":10,\"solidity\":0.2}},\"type\":\"histogram\"}],\"histogram2d\":[{\"colorbar\":{\"outlinewidth\":0,\"ticks\":\"\"},\"colorscale\":[[0.0,\"#0d0887\"],[0.1111111111111111,\"#46039f\"],[0.2222222222222222,\"#7201a8\"],[0.3333333333333333,\"#9c179e\"],[0.4444444444444444,\"#bd3786\"],[0.5555555555555556,\"#d8576b\"],[0.6666666666666666,\"#ed7953\"],[0.7777777777777778,\"#fb9f3a\"],[0.8888888888888888,\"#fdca26\"],[1.0,\"#f0f921\"]],\"type\":\"histogram2d\"}],\"histogram2dcontour\":[{\"colorbar\":{\"outlinewidth\":0,\"ticks\":\"\"},\"colorscale\":[[0.0,\"#0d0887\"],[0.1111111111111111,\"#46039f\"],[0.2222222222222222,\"#7201a8\"],[0.3333333333333333,\"#9c179e\"],[0.4444444444444444,\"#bd3786\"],[0.5555555555555556,\"#d8576b\"],[0.6666666666666666,\"#ed7953\"],[0.7777777777777778,\"#fb9f3a\"],[0.8888888888888888,\"#fdca26\"],[1.0,\"#f0f921\"]],\"type\":\"histogram2dcontour\"}],\"mesh3d\":[{\"colorbar\":{\"outlinewidth\":0,\"ticks\":\"\"},\"type\":\"mesh3d\"}],\"parcoords\":[{\"line\":{\"colorbar\":{\"outlinewidth\":0,\"ticks\":\"\"}},\"type\":\"parcoords\"}],\"pie\":[{\"automargin\":true,\"type\":\"pie\"}],\"scatter\":[{\"marker\":{\"colorbar\":{\"outlinewidth\":0,\"ticks\":\"\"}},\"type\":\"scatter\"}],\"scatter3d\":[{\"line\":{\"colorbar\":{\"outlinewidth\":0,\"ticks\":\"\"}},\"marker\":{\"colorbar\":{\"outlinewidth\":0,\"ticks\":\"\"}},\"type\":\"scatter3d\"}],\"scattercarpet\":[{\"marker\":{\"colorbar\":{\"outlinewidth\":0,\"ticks\":\"\"}},\"type\":\"scattercarpet\"}],\"scattergeo\":[{\"marker\":{\"colorbar\":{\"outlinewidth\":0,\"ticks\":\"\"}},\"type\":\"scattergeo\"}],\"scattergl\":[{\"marker\":{\"colorbar\":{\"outlinewidth\":0,\"ticks\":\"\"}},\"type\":\"scattergl\"}],\"scattermapbox\":[{\"marker\":{\"colorbar\":{\"outlinewidth\":0,\"ticks\":\"\"}},\"type\":\"scattermapbox\"}],\"scatterpolar\":[{\"marker\":{\"colorbar\":{\"outlinewidth\":0,\"ticks\":\"\"}},\"type\":\"scatterpolar\"}],\"scatterpolargl\":[{\"marker\":{\"colorbar\":{\"outlinewidth\":0,\"ticks\":\"\"}},\"type\":\"scatterpolargl\"}],\"scatterternary\":[{\"marker\":{\"colorbar\":{\"outlinewidth\":0,\"ticks\":\"\"}},\"type\":\"scatterternary\"}],\"surface\":[{\"colorbar\":{\"outlinewidth\":0,\"ticks\":\"\"},\"colorscale\":[[0.0,\"#0d0887\"],[0.1111111111111111,\"#46039f\"],[0.2222222222222222,\"#7201a8\"],[0.3333333333333333,\"#9c179e\"],[0.4444444444444444,\"#bd3786\"],[0.5555555555555556,\"#d8576b\"],[0.6666666666666666,\"#ed7953\"],[0.7777777777777778,\"#fb9f3a\"],[0.8888888888888888,\"#fdca26\"],[1.0,\"#f0f921\"]],\"type\":\"surface\"}],\"table\":[{\"cells\":{\"fill\":{\"color\":\"#EBF0F8\"},\"line\":{\"color\":\"white\"}},\"header\":{\"fill\":{\"color\":\"#C8D4E3\"},\"line\":{\"color\":\"white\"}},\"type\":\"table\"}]},\"layout\":{\"annotationdefaults\":{\"arrowcolor\":\"#2a3f5f\",\"arrowhead\":0,\"arrowwidth\":1},\"autotypenumbers\":\"strict\",\"coloraxis\":{\"colorbar\":{\"outlinewidth\":0,\"ticks\":\"\"}},\"colorscale\":{\"diverging\":[[0,\"#8e0152\"],[0.1,\"#c51b7d\"],[0.2,\"#de77ae\"],[0.3,\"#f1b6da\"],[0.4,\"#fde0ef\"],[0.5,\"#f7f7f7\"],[0.6,\"#e6f5d0\"],[0.7,\"#b8e186\"],[0.8,\"#7fbc41\"],[0.9,\"#4d9221\"],[1,\"#276419\"]],\"sequential\":[[0.0,\"#0d0887\"],[0.1111111111111111,\"#46039f\"],[0.2222222222222222,\"#7201a8\"],[0.3333333333333333,\"#9c179e\"],[0.4444444444444444,\"#bd3786\"],[0.5555555555555556,\"#d8576b\"],[0.6666666666666666,\"#ed7953\"],[0.7777777777777778,\"#fb9f3a\"],[0.8888888888888888,\"#fdca26\"],[1.0,\"#f0f921\"]],\"sequentialminus\":[[0.0,\"#0d0887\"],[0.1111111111111111,\"#46039f\"],[0.2222222222222222,\"#7201a8\"],[0.3333333333333333,\"#9c179e\"],[0.4444444444444444,\"#bd3786\"],[0.5555555555555556,\"#d8576b\"],[0.6666666666666666,\"#ed7953\"],[0.7777777777777778,\"#fb9f3a\"],[0.8888888888888888,\"#fdca26\"],[1.0,\"#f0f921\"]]},\"colorway\":[\"#636efa\",\"#EF553B\",\"#00cc96\",\"#ab63fa\",\"#FFA15A\",\"#19d3f3\",\"#FF6692\",\"#B6E880\",\"#FF97FF\",\"#FECB52\"],\"font\":{\"color\":\"#2a3f5f\"},\"geo\":{\"bgcolor\":\"white\",\"lakecolor\":\"white\",\"landcolor\":\"#E5ECF6\",\"showlakes\":true,\"showland\":true,\"subunitcolor\":\"white\"},\"hoverlabel\":{\"align\":\"left\"},\"hovermode\":\"closest\",\"mapbox\":{\"style\":\"light\"},\"paper_bgcolor\":\"white\",\"plot_bgcolor\":\"#E5ECF6\",\"polar\":{\"angularaxis\":{\"gridcolor\":\"white\",\"linecolor\":\"white\",\"ticks\":\"\"},\"bgcolor\":\"#E5ECF6\",\"radialaxis\":{\"gridcolor\":\"white\",\"linecolor\":\"white\",\"ticks\":\"\"}},\"scene\":{\"xaxis\":{\"backgroundcolor\":\"#E5ECF6\",\"gridcolor\":\"white\",\"gridwidth\":2,\"linecolor\":\"white\",\"showbackground\":true,\"ticks\":\"\",\"zerolinecolor\":\"white\"},\"yaxis\":{\"backgroundcolor\":\"#E5ECF6\",\"gridcolor\":\"white\",\"gridwidth\":2,\"linecolor\":\"white\",\"showbackground\":true,\"ticks\":\"\",\"zerolinecolor\":\"white\"},\"zaxis\":{\"backgroundcolor\":\"#E5ECF6\",\"gridcolor\":\"white\",\"gridwidth\":2,\"linecolor\":\"white\",\"showbackground\":true,\"ticks\":\"\",\"zerolinecolor\":\"white\"}},\"shapedefaults\":{\"line\":{\"color\":\"#2a3f5f\"}},\"ternary\":{\"aaxis\":{\"gridcolor\":\"white\",\"linecolor\":\"white\",\"ticks\":\"\"},\"baxis\":{\"gridcolor\":\"white\",\"linecolor\":\"white\",\"ticks\":\"\"},\"bgcolor\":\"#E5ECF6\",\"caxis\":{\"gridcolor\":\"white\",\"linecolor\":\"white\",\"ticks\":\"\"}},\"title\":{\"x\":0.05},\"xaxis\":{\"automargin\":true,\"gridcolor\":\"white\",\"linecolor\":\"white\",\"ticks\":\"\",\"title\":{\"standoff\":15},\"zerolinecolor\":\"white\",\"zerolinewidth\":2},\"yaxis\":{\"automargin\":true,\"gridcolor\":\"white\",\"linecolor\":\"white\",\"ticks\":\"\",\"title\":{\"standoff\":15},\"zerolinecolor\":\"white\",\"zerolinewidth\":2}}},\"xaxis\":{\"anchor\":\"y\",\"domain\":[0.0,1.0],\"title\":{\"text\":\"Value Patch\"},\"range\":[-1.5,1.5]},\"yaxis\":{\"anchor\":\"x\",\"domain\":[0.0,1.0],\"title\":{\"text\":\"Output Patch\"},\"range\":[-1.5,1.5]},\"coloraxis\":{\"colorbar\":{\"title\":{\"text\":\"\"}},\"colorscale\":[[0.0,\"#0d0887\"],[0.1111111111111111,\"#46039f\"],[0.2222222222222222,\"#7201a8\"],[0.3333333333333333,\"#9c179e\"],[0.4444444444444444,\"#bd3786\"],[0.5555555555555556,\"#d8576b\"],[0.6666666666666666,\"#ed7953\"],[0.7777777777777778,\"#fb9f3a\"],[0.8888888888888888,\"#fdca26\"],[1.0,\"#f0f921\"]]},\"legend\":{\"tracegroupgap\":0},\"title\":{\"text\":\"Scatter plot of output patching vs value patching\"}},                        {\"responsive\": true}                    ).then(function(){\n",
              "                            \n",
              "var gd = document.getElementById('ab672a23-c908-4db3-8bf9-31e7aa5121b2');\n",
              "var x = new MutationObserver(function (mutations, observer) {{\n",
              "        var display = window.getComputedStyle(gd).display;\n",
              "        if (!display || display === 'none') {{\n",
              "            console.log([gd, 'removed!']);\n",
              "            Plotly.purge(gd);\n",
              "            observer.disconnect();\n",
              "        }}\n",
              "}});\n",
              "\n",
              "// Listen for the removal of the full notebook cells\n",
              "var notebookContainer = gd.closest('#notebook-container');\n",
              "if (notebookContainer) {{\n",
              "    x.observe(notebookContainer, {childList: true});\n",
              "}}\n",
              "\n",
              "// Listen for the clearing of the current output cell\n",
              "var outputEl = gd.closest('.output');\n",
              "if (outputEl) {{\n",
              "    x.observe(outputEl, {childList: true});\n",
              "}}\n",
              "\n",
              "                        })                };                            </script>        </div>\n",
              "</body>\n",
              "</html>"
            ]
          },
          "metadata": {},
          "output_type": "display_data"
        }
      ],
      "source": [
        "head_labels = [f\"L{l}H{h}\" for l in range(model.cfg.n_layers) for h in range(model.cfg.n_heads)]\n",
        "l_scatter(\n",
        "    x=utils.to_numpy(attn_head_v_all_pos_act_patch_results.flatten()), \n",
        "    y=utils.to_numpy(attn_head_out_all_pos_act_patch_results.flatten()), \n",
        "    xaxis=\"Value Patch\",\n",
        "    yaxis=\"Output Patch\",\n",
        "    #caxis=\"Layer\",\n",
        "    hover_name = head_labels,\n",
        "    color=einops.repeat(np.arange(model.cfg.n_layers), \"layer -> (layer head)\", head=model.cfg.n_heads),\n",
        "    range_x=(-1.5, 1.5),\n",
        "    range_y=(-1.5, 1.5),\n",
        "    title=\"Scatter plot of output patching vs value patching\")"
      ]
    },
    {
      "cell_type": "markdown",
      "metadata": {
        "id": "VTFd8gN-qUXf"
      },
      "source": [
        "#### Path Patching for S2-Inhibition Candidates"
      ]
    },
    {
      "cell_type": "code",
      "execution_count": null,
      "metadata": {
        "colab": {
          "base_uri": "https://localhost:8080/"
        },
        "id": "jhSCeGa0tPOM",
        "outputId": "d3577da0-45a5-4594-c2bb-bbc967d6e3a7"
      },
      "outputs": [
        {
          "data": {
            "text/plain": [
              "['<|endoftext|>',\n",
              " 'When',\n",
              " ' Tom',\n",
              " ' and',\n",
              " ' James',\n",
              " ' went',\n",
              " ' to',\n",
              " ' the',\n",
              " ' park',\n",
              " ',',\n",
              " ' Tom',\n",
              " ' gave',\n",
              " ' the',\n",
              " ' ball',\n",
              " ' to']"
            ]
          },
          "execution_count": 105,
          "metadata": {},
          "output_type": "execute_result"
        }
      ],
      "source": [
        "model.to_str_tokens(clean_tokens[3])"
      ]
    },
    {
      "cell_type": "code",
      "execution_count": null,
      "metadata": {
        "id": "Dy44bI-8qYky"
      },
      "outputs": [],
      "source": [
        "receiver_heads = second_level_positive_heads\n",
        "\n",
        "metric_delta_results = torch.zeros(model.cfg.n_layers, model.cfg.n_heads, device='cuda:0')\n",
        "\n",
        "for layer in range(model.cfg.n_layers):\n",
        "        for head_idx in range(model.cfg.n_heads):\n",
        "            pass_d_hooks = path_patching(\n",
        "                model=model,\n",
        "                patch_tokens=corrupted_tokens,\n",
        "                orig_tokens=clean_tokens,\n",
        "                sender_heads=[(layer, head_idx)],\n",
        "                receiver_hooks=[(f\"blocks.{layer_idx}.attn.hook_v\", head_idx) for layer_idx, head_idx in receiver_heads],\n",
        "                positions=10\n",
        "            )\n",
        "            path_patched_logits = model.run_with_hooks(clean_tokens, fwd_hooks=pass_d_hooks)\n",
        "            iot_metric_res = ioi_metric(path_patched_logits)\n",
        "            metric_delta_results[layer, head_idx] = -(clean_baseline_ioi - iot_metric_res) / clean_baseline_ioi"
      ]
    },
    {
      "cell_type": "markdown",
      "metadata": {
        "id": "DK18IQwOqa6Z"
      },
      "source": [
        "The heads we see below have a strong effect on the the IOI metric via the values of the S2-inhibition head candidates at the S2 position. The most significant heads are:\n",
        "- L6H7\n",
        "- L6H0\n",
        "- L5H6\n",
        "- L5H8\n",
        "- L4H1\n",
        "- L4H8\n",
        "- L4H10\n",
        "- L2H8"
      ]
    },
    {
      "cell_type": "code",
      "execution_count": null,
      "metadata": {
        "colab": {
          "base_uri": "https://localhost:8080/",
          "height": 542
        },
        "id": "iXd5UX5mqbg2",
        "outputId": "775cb8b5-6d8b-4998-cc8b-4d180ad8f29b"
      },
      "outputs": [
        {
          "data": {
            "text/html": [
              "<html>\n",
              "<head><meta charset=\"utf-8\" /></head>\n",
              "<body>\n",
              "    <div>            <script src=\"https://cdnjs.cloudflare.com/ajax/libs/mathjax/2.7.5/MathJax.js?config=TeX-AMS-MML_SVG\"></script><script type=\"text/javascript\">if (window.MathJax) {MathJax.Hub.Config({SVG: {font: \"STIX-Web\"}});}</script>                <script type=\"text/javascript\">window.PlotlyConfig = {MathJaxConfig: 'local'};</script>\n",
              "        <script src=\"https://cdn.plot.ly/plotly-2.8.3.min.js\"></script>                <div id=\"c15fb9d1-bb7a-43db-88fd-2f8e5572fff6\" class=\"plotly-graph-div\" style=\"height:525px; width:100%;\"></div>            <script type=\"text/javascript\">                                    window.PLOTLYENV=window.PLOTLYENV || {};                                    if (document.getElementById(\"c15fb9d1-bb7a-43db-88fd-2f8e5572fff6\")) {                    Plotly.newPlot(                        \"c15fb9d1-bb7a-43db-88fd-2f8e5572fff6\",                        [{\"coloraxis\":\"coloraxis\",\"name\":\"0\",\"z\":[[0.0005428791046142578,-0.0020912885665893555,6.663799285888672e-05,-0.0003407001495361328,0.00026798248291015625,0.00044858455657958984,-0.0008546710014343262,0.0017396211624145508,-1.3768672943115234e-05,-0.00048089027404785156,0.0007865428924560547,2.682209014892578e-05],[-0.00023061037063598633,-3.653764724731445e-05,-0.00012981891632080078,0.0002442598342895508,0.0001366138458251953,0.00046455860137939453,0.0012012720108032227,0.00043761730194091797,-0.00017940998077392578,0.00013184547424316406,-0.00020420551300048828,-0.00017452239990234375],[-3.7550926208496094e-05,0.0001596212387084961,-0.0006883144378662109,0.00015354156494140625,-0.00013870000839233398,6.198883056640625e-06,0.0024491548538208008,-3.0040740966796875e-05,-0.0003981590270996094,2.658367156982422e-05,0.0006973743438720703,0.0002480745315551758],[-9.000301361083984e-06,0.00016105175018310547,-8.64267349243164e-05,-0.012742400169372559,0.00018906593322753906,-0.00025266408920288086,-0.0003123283386230469,4.971027374267578e-05,-0.0003795027732849121,0.000370025634765625,-0.000268399715423584,0.00012087821960449219],[-5.048513412475586e-05,-0.010086655616760254,-0.0004566311836242676,-3.2067298889160156e-05,0.00028824806213378906,6.341934204101562e-05,-0.05367255210876465,-0.0008538365364074707,-0.007520496845245361,-0.0004330277442932129,-0.00013649463653564453,-0.3458145260810852],[-0.02403956651687622,0.00045740604400634766,-0.0003179311752319336,-0.0008949637413024902,0.00013768672943115234,0.0013797283172607422,1.5497207641601562e-05,-0.0015034675598144531,-0.007376134395599365,0.0001348257064819336,-0.0336264967918396,-0.004139244556427002],[9.703636169433594e-05,1.7762184143066406e-05,-6.556510925292969e-06,2.467632293701172e-05,1.5735626220703125e-05,-0.00038945674896240234,-0.0002073049545288086,0.0007692575454711914,-6.109476089477539e-05,4.589557647705078e-05,0.000943303108215332,-0.0015649795532226562],[-0.0,-0.0,-0.0,-0.0,-0.0,-0.0,-0.0,-0.0,-0.0,-0.0,-0.0,-0.0],[-0.0,-0.0,-0.0,-0.0,-0.0,-0.0,-0.0,-0.0,-0.0,-0.0,-0.0,-0.0],[-0.0,-0.0,-0.0,-0.0,-0.0,-0.0,-0.0,-0.0,-0.0,-0.0,-0.0,-0.0],[-0.0,-0.0,-0.0,-0.0,-0.0,-0.0,-0.0,-0.0,-0.0,-0.0,-0.0,-0.0],[-0.0,-0.0,-0.0,-0.0,-0.0,-0.0,-0.0,-0.0,-0.0,-0.0,-0.0,-0.0]],\"type\":\"heatmap\",\"xaxis\":\"x\",\"yaxis\":\"y\",\"hovertemplate\":\"x: %{x}<br>y: %{y}<br>color: %{z}<extra></extra>\"}],                        {\"template\":{\"data\":{\"bar\":[{\"error_x\":{\"color\":\"#2a3f5f\"},\"error_y\":{\"color\":\"#2a3f5f\"},\"marker\":{\"line\":{\"color\":\"#E5ECF6\",\"width\":0.5},\"pattern\":{\"fillmode\":\"overlay\",\"size\":10,\"solidity\":0.2}},\"type\":\"bar\"}],\"barpolar\":[{\"marker\":{\"line\":{\"color\":\"#E5ECF6\",\"width\":0.5},\"pattern\":{\"fillmode\":\"overlay\",\"size\":10,\"solidity\":0.2}},\"type\":\"barpolar\"}],\"carpet\":[{\"aaxis\":{\"endlinecolor\":\"#2a3f5f\",\"gridcolor\":\"white\",\"linecolor\":\"white\",\"minorgridcolor\":\"white\",\"startlinecolor\":\"#2a3f5f\"},\"baxis\":{\"endlinecolor\":\"#2a3f5f\",\"gridcolor\":\"white\",\"linecolor\":\"white\",\"minorgridcolor\":\"white\",\"startlinecolor\":\"#2a3f5f\"},\"type\":\"carpet\"}],\"choropleth\":[{\"colorbar\":{\"outlinewidth\":0,\"ticks\":\"\"},\"type\":\"choropleth\"}],\"contour\":[{\"colorbar\":{\"outlinewidth\":0,\"ticks\":\"\"},\"colorscale\":[[0.0,\"#0d0887\"],[0.1111111111111111,\"#46039f\"],[0.2222222222222222,\"#7201a8\"],[0.3333333333333333,\"#9c179e\"],[0.4444444444444444,\"#bd3786\"],[0.5555555555555556,\"#d8576b\"],[0.6666666666666666,\"#ed7953\"],[0.7777777777777778,\"#fb9f3a\"],[0.8888888888888888,\"#fdca26\"],[1.0,\"#f0f921\"]],\"type\":\"contour\"}],\"contourcarpet\":[{\"colorbar\":{\"outlinewidth\":0,\"ticks\":\"\"},\"type\":\"contourcarpet\"}],\"heatmap\":[{\"colorbar\":{\"outlinewidth\":0,\"ticks\":\"\"},\"colorscale\":[[0.0,\"#0d0887\"],[0.1111111111111111,\"#46039f\"],[0.2222222222222222,\"#7201a8\"],[0.3333333333333333,\"#9c179e\"],[0.4444444444444444,\"#bd3786\"],[0.5555555555555556,\"#d8576b\"],[0.6666666666666666,\"#ed7953\"],[0.7777777777777778,\"#fb9f3a\"],[0.8888888888888888,\"#fdca26\"],[1.0,\"#f0f921\"]],\"type\":\"heatmap\"}],\"heatmapgl\":[{\"colorbar\":{\"outlinewidth\":0,\"ticks\":\"\"},\"colorscale\":[[0.0,\"#0d0887\"],[0.1111111111111111,\"#46039f\"],[0.2222222222222222,\"#7201a8\"],[0.3333333333333333,\"#9c179e\"],[0.4444444444444444,\"#bd3786\"],[0.5555555555555556,\"#d8576b\"],[0.6666666666666666,\"#ed7953\"],[0.7777777777777778,\"#fb9f3a\"],[0.8888888888888888,\"#fdca26\"],[1.0,\"#f0f921\"]],\"type\":\"heatmapgl\"}],\"histogram\":[{\"marker\":{\"pattern\":{\"fillmode\":\"overlay\",\"size\":10,\"solidity\":0.2}},\"type\":\"histogram\"}],\"histogram2d\":[{\"colorbar\":{\"outlinewidth\":0,\"ticks\":\"\"},\"colorscale\":[[0.0,\"#0d0887\"],[0.1111111111111111,\"#46039f\"],[0.2222222222222222,\"#7201a8\"],[0.3333333333333333,\"#9c179e\"],[0.4444444444444444,\"#bd3786\"],[0.5555555555555556,\"#d8576b\"],[0.6666666666666666,\"#ed7953\"],[0.7777777777777778,\"#fb9f3a\"],[0.8888888888888888,\"#fdca26\"],[1.0,\"#f0f921\"]],\"type\":\"histogram2d\"}],\"histogram2dcontour\":[{\"colorbar\":{\"outlinewidth\":0,\"ticks\":\"\"},\"colorscale\":[[0.0,\"#0d0887\"],[0.1111111111111111,\"#46039f\"],[0.2222222222222222,\"#7201a8\"],[0.3333333333333333,\"#9c179e\"],[0.4444444444444444,\"#bd3786\"],[0.5555555555555556,\"#d8576b\"],[0.6666666666666666,\"#ed7953\"],[0.7777777777777778,\"#fb9f3a\"],[0.8888888888888888,\"#fdca26\"],[1.0,\"#f0f921\"]],\"type\":\"histogram2dcontour\"}],\"mesh3d\":[{\"colorbar\":{\"outlinewidth\":0,\"ticks\":\"\"},\"type\":\"mesh3d\"}],\"parcoords\":[{\"line\":{\"colorbar\":{\"outlinewidth\":0,\"ticks\":\"\"}},\"type\":\"parcoords\"}],\"pie\":[{\"automargin\":true,\"type\":\"pie\"}],\"scatter\":[{\"marker\":{\"colorbar\":{\"outlinewidth\":0,\"ticks\":\"\"}},\"type\":\"scatter\"}],\"scatter3d\":[{\"line\":{\"colorbar\":{\"outlinewidth\":0,\"ticks\":\"\"}},\"marker\":{\"colorbar\":{\"outlinewidth\":0,\"ticks\":\"\"}},\"type\":\"scatter3d\"}],\"scattercarpet\":[{\"marker\":{\"colorbar\":{\"outlinewidth\":0,\"ticks\":\"\"}},\"type\":\"scattercarpet\"}],\"scattergeo\":[{\"marker\":{\"colorbar\":{\"outlinewidth\":0,\"ticks\":\"\"}},\"type\":\"scattergeo\"}],\"scattergl\":[{\"marker\":{\"colorbar\":{\"outlinewidth\":0,\"ticks\":\"\"}},\"type\":\"scattergl\"}],\"scattermapbox\":[{\"marker\":{\"colorbar\":{\"outlinewidth\":0,\"ticks\":\"\"}},\"type\":\"scattermapbox\"}],\"scatterpolar\":[{\"marker\":{\"colorbar\":{\"outlinewidth\":0,\"ticks\":\"\"}},\"type\":\"scatterpolar\"}],\"scatterpolargl\":[{\"marker\":{\"colorbar\":{\"outlinewidth\":0,\"ticks\":\"\"}},\"type\":\"scatterpolargl\"}],\"scatterternary\":[{\"marker\":{\"colorbar\":{\"outlinewidth\":0,\"ticks\":\"\"}},\"type\":\"scatterternary\"}],\"surface\":[{\"colorbar\":{\"outlinewidth\":0,\"ticks\":\"\"},\"colorscale\":[[0.0,\"#0d0887\"],[0.1111111111111111,\"#46039f\"],[0.2222222222222222,\"#7201a8\"],[0.3333333333333333,\"#9c179e\"],[0.4444444444444444,\"#bd3786\"],[0.5555555555555556,\"#d8576b\"],[0.6666666666666666,\"#ed7953\"],[0.7777777777777778,\"#fb9f3a\"],[0.8888888888888888,\"#fdca26\"],[1.0,\"#f0f921\"]],\"type\":\"surface\"}],\"table\":[{\"cells\":{\"fill\":{\"color\":\"#EBF0F8\"},\"line\":{\"color\":\"white\"}},\"header\":{\"fill\":{\"color\":\"#C8D4E3\"},\"line\":{\"color\":\"white\"}},\"type\":\"table\"}]},\"layout\":{\"annotationdefaults\":{\"arrowcolor\":\"#2a3f5f\",\"arrowhead\":0,\"arrowwidth\":1},\"autotypenumbers\":\"strict\",\"coloraxis\":{\"colorbar\":{\"outlinewidth\":0,\"ticks\":\"\"}},\"colorscale\":{\"diverging\":[[0,\"#8e0152\"],[0.1,\"#c51b7d\"],[0.2,\"#de77ae\"],[0.3,\"#f1b6da\"],[0.4,\"#fde0ef\"],[0.5,\"#f7f7f7\"],[0.6,\"#e6f5d0\"],[0.7,\"#b8e186\"],[0.8,\"#7fbc41\"],[0.9,\"#4d9221\"],[1,\"#276419\"]],\"sequential\":[[0.0,\"#0d0887\"],[0.1111111111111111,\"#46039f\"],[0.2222222222222222,\"#7201a8\"],[0.3333333333333333,\"#9c179e\"],[0.4444444444444444,\"#bd3786\"],[0.5555555555555556,\"#d8576b\"],[0.6666666666666666,\"#ed7953\"],[0.7777777777777778,\"#fb9f3a\"],[0.8888888888888888,\"#fdca26\"],[1.0,\"#f0f921\"]],\"sequentialminus\":[[0.0,\"#0d0887\"],[0.1111111111111111,\"#46039f\"],[0.2222222222222222,\"#7201a8\"],[0.3333333333333333,\"#9c179e\"],[0.4444444444444444,\"#bd3786\"],[0.5555555555555556,\"#d8576b\"],[0.6666666666666666,\"#ed7953\"],[0.7777777777777778,\"#fb9f3a\"],[0.8888888888888888,\"#fdca26\"],[1.0,\"#f0f921\"]]},\"colorway\":[\"#636efa\",\"#EF553B\",\"#00cc96\",\"#ab63fa\",\"#FFA15A\",\"#19d3f3\",\"#FF6692\",\"#B6E880\",\"#FF97FF\",\"#FECB52\"],\"font\":{\"color\":\"#2a3f5f\"},\"geo\":{\"bgcolor\":\"white\",\"lakecolor\":\"white\",\"landcolor\":\"#E5ECF6\",\"showlakes\":true,\"showland\":true,\"subunitcolor\":\"white\"},\"hoverlabel\":{\"align\":\"left\"},\"hovermode\":\"closest\",\"mapbox\":{\"style\":\"light\"},\"paper_bgcolor\":\"white\",\"plot_bgcolor\":\"#E5ECF6\",\"polar\":{\"angularaxis\":{\"gridcolor\":\"white\",\"linecolor\":\"white\",\"ticks\":\"\"},\"bgcolor\":\"#E5ECF6\",\"radialaxis\":{\"gridcolor\":\"white\",\"linecolor\":\"white\",\"ticks\":\"\"}},\"scene\":{\"xaxis\":{\"backgroundcolor\":\"#E5ECF6\",\"gridcolor\":\"white\",\"gridwidth\":2,\"linecolor\":\"white\",\"showbackground\":true,\"ticks\":\"\",\"zerolinecolor\":\"white\"},\"yaxis\":{\"backgroundcolor\":\"#E5ECF6\",\"gridcolor\":\"white\",\"gridwidth\":2,\"linecolor\":\"white\",\"showbackground\":true,\"ticks\":\"\",\"zerolinecolor\":\"white\"},\"zaxis\":{\"backgroundcolor\":\"#E5ECF6\",\"gridcolor\":\"white\",\"gridwidth\":2,\"linecolor\":\"white\",\"showbackground\":true,\"ticks\":\"\",\"zerolinecolor\":\"white\"}},\"shapedefaults\":{\"line\":{\"color\":\"#2a3f5f\"}},\"ternary\":{\"aaxis\":{\"gridcolor\":\"white\",\"linecolor\":\"white\",\"ticks\":\"\"},\"baxis\":{\"gridcolor\":\"white\",\"linecolor\":\"white\",\"ticks\":\"\"},\"bgcolor\":\"#E5ECF6\",\"caxis\":{\"gridcolor\":\"white\",\"linecolor\":\"white\",\"ticks\":\"\"}},\"title\":{\"x\":0.05},\"xaxis\":{\"automargin\":true,\"gridcolor\":\"white\",\"linecolor\":\"white\",\"ticks\":\"\",\"title\":{\"standoff\":15},\"zerolinecolor\":\"white\",\"zerolinewidth\":2},\"yaxis\":{\"automargin\":true,\"gridcolor\":\"white\",\"linecolor\":\"white\",\"ticks\":\"\",\"title\":{\"standoff\":15},\"zerolinecolor\":\"white\",\"zerolinewidth\":2}}},\"xaxis\":{\"anchor\":\"y\",\"domain\":[0.0,1.0],\"title\":{\"text\":\"x\"}},\"yaxis\":{\"anchor\":\"x\",\"domain\":[0.0,1.0],\"autorange\":\"reversed\",\"title\":{\"text\":\"y\"}},\"coloraxis\":{\"colorscale\":[[0.0,\"rgb(103,0,31)\"],[0.1,\"rgb(178,24,43)\"],[0.2,\"rgb(214,96,77)\"],[0.3,\"rgb(244,165,130)\"],[0.4,\"rgb(253,219,199)\"],[0.5,\"rgb(247,247,247)\"],[0.6,\"rgb(209,229,240)\"],[0.7,\"rgb(146,197,222)\"],[0.8,\"rgb(67,147,195)\"],[0.9,\"rgb(33,102,172)\"],[1.0,\"rgb(5,48,97)\"]],\"cmid\":0.0},\"title\":{\"text\":\"IOI Metric Change From Each Head Through Receivers\"}},                        {\"responsive\": true}                    ).then(function(){\n",
              "                            \n",
              "var gd = document.getElementById('c15fb9d1-bb7a-43db-88fd-2f8e5572fff6');\n",
              "var x = new MutationObserver(function (mutations, observer) {{\n",
              "        var display = window.getComputedStyle(gd).display;\n",
              "        if (!display || display === 'none') {{\n",
              "            console.log([gd, 'removed!']);\n",
              "            Plotly.purge(gd);\n",
              "            observer.disconnect();\n",
              "        }}\n",
              "}});\n",
              "\n",
              "// Listen for the removal of the full notebook cells\n",
              "var notebookContainer = gd.closest('#notebook-container');\n",
              "if (notebookContainer) {{\n",
              "    x.observe(notebookContainer, {childList: true});\n",
              "}}\n",
              "\n",
              "// Listen for the clearing of the current output cell\n",
              "var outputEl = gd.closest('.output');\n",
              "if (outputEl) {{\n",
              "    x.observe(outputEl, {childList: true});\n",
              "}}\n",
              "\n",
              "                        })                };                            </script>        </div>\n",
              "</body>\n",
              "</html>"
            ]
          },
          "metadata": {},
          "output_type": "display_data"
        }
      ],
      "source": [
        "imshow(metric_delta_results, title=\"IOI Metric Change From Each Head Through Receivers\")#, zmin=-0.02, zmax=0.02)"
      ]
    },
    {
      "cell_type": "markdown",
      "metadata": {
        "id": "5rEXsaPhdF32"
      },
      "source": [
        "### Third Level"
      ]
    },
    {
      "cell_type": "markdown",
      "metadata": {
        "id": "jGgbWtVEdKKO"
      },
      "source": [
        "#### Attention Patterns for Third-Level Heads"
      ]
    },
    {
      "cell_type": "markdown",
      "metadata": {
        "id": "OQOHwopPgmTV"
      },
      "source": [
        "We have a mix of induction heads and duplicate token heads here, as well as two heads that focus on S2 at S2."
      ]
    },
    {
      "cell_type": "code",
      "execution_count": null,
      "metadata": {
        "colab": {
          "base_uri": "https://localhost:8080/",
          "height": 780
        },
        "id": "d4dciSHKdPh-",
        "outputId": "633c04a1-4f18-4055-f196-d3d26ce96543"
      },
      "outputs": [
        {
          "data": {
            "text/html": [
              "<div id=\"circuits-vis-885c72f8-c5d6\" style=\"margin: 15px 0;\"/>\n",
              "    <script crossorigin type=\"module\">\n",
              "    import { render, AttentionHeads } from \"https://unpkg.com/circuitsvis@1.39.1/dist/cdn/esm.js\";\n",
              "    render(\n",
              "      \"circuits-vis-885c72f8-c5d6\",\n",
              "      AttentionHeads,\n",
              "      {\"attention\": [[[1.0, 0.0, 0.0, 0.0, 0.0, 0.0, 0.0, 0.0, 0.0, 0.0, 0.0, 0.0, 0.0, 0.0, 0.0, 0.0, 0.0], [0.9977405071258545, 0.002259539905935526, 0.0, 0.0, 0.0, 0.0, 0.0, 0.0, 0.0, 0.0, 0.0, 0.0, 0.0, 0.0, 0.0, 0.0, 0.0], [0.9994264841079712, 0.00039312063017860055, 0.00018033561354968697, 0.0, 0.0, 0.0, 0.0, 0.0, 0.0, 0.0, 0.0, 0.0, 0.0, 0.0, 0.0, 0.0, 0.0], [0.994163453578949, 0.0009230868308804929, 0.0032015028409659863, 0.0017119684489443898, 0.0, 0.0, 0.0, 0.0, 0.0, 0.0, 0.0, 0.0, 0.0, 0.0, 0.0, 0.0, 0.0], [0.9981502294540405, 0.00025685771834105253, 6.6376678660162725e-06, 0.00038521274109371006, 0.0012011115904897451, 0.0, 0.0, 0.0, 0.0, 0.0, 0.0, 0.0, 0.0, 0.0, 0.0, 0.0, 0.0], [0.9988204836845398, 0.0011214056285098195, 1.3106645383231808e-05, 5.922308421446587e-09, 8.411591352341929e-07, 4.418792013893835e-05, 0.0, 0.0, 0.0, 0.0, 0.0, 0.0, 0.0, 0.0, 0.0, 0.0, 0.0], [0.9961853623390198, 0.002478961367160082, 0.0003713545738719404, 3.273637716461053e-08, 0.00011933127825614065, 2.4153683853000985e-07, 0.000844660447910428, 0.0, 0.0, 0.0, 0.0, 0.0, 0.0, 0.0, 0.0, 0.0, 0.0], [0.9978790283203125, 0.002050599083304405, 1.5017770920167095e-06, 8.32357471836076e-09, 1.0602497013678658e-06, 2.2199035498715602e-08, 4.942671125718334e-07, 6.731501343892887e-05, 0.0, 0.0, 0.0, 0.0, 0.0, 0.0, 0.0, 0.0, 0.0], [0.9932460188865662, 0.0038690336514264345, 1.4891585351506365e-06, 4.3854950226851486e-10, 5.240216296442668e-07, 3.5871628369932296e-06, 6.222150545909244e-07, 5.662029252562206e-06, 0.0028731164056807756, 0.0, 0.0, 0.0, 0.0, 0.0, 0.0, 0.0, 0.0], [0.9956563711166382, 0.00391122791916132, 6.76918716635555e-05, 9.551131796570189e-08, 5.581791992881335e-05, 5.392621460487135e-07, 1.3266910059428483e-07, 2.6686363980843453e-06, 0.0002962015860248357, 9.314456292486284e-06, 0.0, 0.0, 0.0, 0.0, 0.0, 0.0, 0.0], [0.010538054630160332, 0.0007578033837489784, 1.4056982763577253e-05, 0.9854307174682617, 0.0028073443099856377, 0.000441375799709931, 6.229799964785343e-08, 9.521108346177698e-09, 7.112242315088224e-07, 6.286926090837142e-09, 9.914498150465079e-06, 0.0, 0.0, 0.0, 0.0, 0.0, 0.0], [0.9386114478111267, 0.0011500571854412556, 0.060208868235349655, 7.821565617405213e-09, 1.579935815243516e-05, 6.87531974108424e-06, 3.052394504265976e-06, 8.282650298951921e-08, 3.0256844638643088e-06, 2.197900883516013e-08, 4.0570051851318567e-07, 3.303157143363933e-07, 0.0, 0.0, 0.0, 0.0, 0.0], [0.9853516221046448, 0.0014803316444158554, 0.0003962916089221835, 1.7465285884199488e-09, 1.8371616761214682e-07, 6.71513816996594e-07, 3.970824309362797e-07, 1.0765892710651315e-07, 2.5222989279427566e-05, 7.297026627384184e-08, 6.16215686477517e-07, 1.1684520906385387e-08, 0.012744479812681675, 0.0, 0.0, 0.0, 0.0], [0.9976957440376282, 0.00016759549907874316, 1.633449301152723e-06, 8.394714967607797e-08, 1.9917844440442423e-07, 1.2648195024667075e-07, 3.848440233156225e-09, 5.068569119970334e-09, 4.8741981117927935e-06, 2.0111401681788266e-06, 3.092015177230678e-08, 2.755471939508425e-08, 1.7514135834062472e-05, 0.0021101455204188824, 0.0, 0.0, 0.0], [0.9883521199226379, 0.0003256190102547407, 1.9717934264917858e-05, 3.4199161280668022e-09, 7.811509021848906e-07, 1.7980431366027005e-08, 2.4689256195031817e-10, 2.470869020498867e-08, 4.908182290819241e-06, 1.8227945375315358e-08, 9.715383697539437e-08, 4.63582949805641e-09, 1.2761975085595623e-05, 0.00022357598936650902, 0.011060313321650028, 0.0, 0.0], [0.9992283582687378, 0.0007136223139241338, 1.7833708909620327e-07, 2.8420208408874714e-09, 7.070224850025397e-09, 2.96784801321337e-05, 2.466178150584142e-09, 5.983110274582204e-12, 5.975895192023017e-07, 1.6431637277491973e-06, 1.3658193687149378e-08, 1.2452299191778593e-09, 2.414937805284012e-09, 2.2665331300686375e-07, 1.470626830268884e-05, 1.1033325790776871e-05, 0.0], [0.9981228709220886, 0.0012176126474514604, 0.0006089743692427874, 1.5316044266189266e-10, 4.15239256312816e-08, 4.677787757145779e-08, 9.280206825224013e-08, 2.8589317935256986e-06, 2.6179932888226176e-07, 1.8045979288672243e-07, 3.163004294037819e-06, 1.203116362091805e-08, 1.6234120039371192e-06, 2.344813765375875e-06, 2.6389204776933184e-06, 2.3809318008716218e-05, 1.3480299458024092e-05]], [[1.0, 0.0, 0.0, 0.0, 0.0, 0.0, 0.0, 0.0, 0.0, 0.0, 0.0, 0.0, 0.0, 0.0, 0.0, 0.0, 0.0], [0.9827918410301208, 0.017208164557814598, 0.0, 0.0, 0.0, 0.0, 0.0, 0.0, 0.0, 0.0, 0.0, 0.0, 0.0, 0.0, 0.0, 0.0, 0.0], [0.9702504873275757, 0.025081250816583633, 0.0046682897955179214, 0.0, 0.0, 0.0, 0.0, 0.0, 0.0, 0.0, 0.0, 0.0, 0.0, 0.0, 0.0, 0.0, 0.0], [0.9360012412071228, 0.011503934860229492, 0.00783501286059618, 0.04465978220105171, 0.0, 0.0, 0.0, 0.0, 0.0, 0.0, 0.0, 0.0, 0.0, 0.0, 0.0, 0.0, 0.0], [0.9802427887916565, 0.011045713908970356, 0.0010727186454460025, 0.00427882419899106, 0.0033599610906094313, 0.0, 0.0, 0.0, 0.0, 0.0, 0.0, 0.0, 0.0, 0.0, 0.0, 0.0, 0.0], [0.9330664277076721, 0.057575710117816925, 0.003913296386599541, 0.000834528123959899, 0.0019238045206293464, 0.0026861983351409435, 0.0, 0.0, 0.0, 0.0, 0.0, 0.0, 0.0, 0.0, 0.0, 0.0, 0.0], [0.9412720203399658, 0.024483265355229378, 0.005111923906952143, 0.0002944266307167709, 0.0018513916293159127, 0.00014450705202762038, 0.02684241160750389, 0.0, 0.0, 0.0, 0.0, 0.0, 0.0, 0.0, 0.0, 0.0, 0.0], [0.9524381756782532, 0.03900477662682533, 0.0013604257255792618, 0.0003503157349769026, 0.00040770909981802106, 0.00011033975169993937, 0.0009075552225112915, 0.00542072020471096, 0.0, 0.0, 0.0, 0.0, 0.0, 0.0, 0.0, 0.0, 0.0], [0.8881872296333313, 0.08672479540109634, 0.0009656662587076426, 8.475977665511891e-06, 6.844703602837399e-05, 0.0005778974154964089, 0.0005087208701297641, 0.003950982354581356, 0.01900782622396946, 0.0, 0.0, 0.0, 0.0, 0.0, 0.0, 0.0, 0.0], [0.9225873351097107, 0.05138476938009262, 0.0036632632836699486, 0.00027412656345404685, 0.0017111520282924175, 0.0007745863404124975, 0.00037917704321444035, 0.0008082393324002624, 0.009923804551362991, 0.008493495173752308, 0.0, 0.0, 0.0, 0.0, 0.0, 0.0, 0.0], [0.07538202404975891, 0.011866945773363113, 0.0005239442689344287, 0.808090090751648, 0.09625430405139923, 0.004002163652330637, 0.00043021360761485994, 0.000559573876671493, 0.0006024503381922841, 5.1970509957754984e-05, 0.002236313419416547, 0.0, 0.0, 0.0, 0.0, 0.0, 0.0], [0.758828341960907, 0.03533471003174782, 0.16043074429035187, 0.0009286232525482774, 0.007848231121897697, 0.008539070375263691, 0.006544372532516718, 0.0019433514680713415, 0.0027877024840563536, 0.0038339574821293354, 0.004485052544623613, 0.008495856076478958, 0.0, 0.0, 0.0, 0.0, 0.0], [0.900208592414856, 0.03701711818575859, 0.010248430073261261, 9.174401202471927e-05, 0.00017292269330937415, 0.0004956797347404063, 0.0009162322385236621, 0.00045462624984793365, 0.0019843855407088995, 0.0022685315925627947, 0.0013241366250440478, 0.00035879964707419276, 0.044458769261837006, 0.0, 0.0, 0.0, 0.0], [0.9146052002906799, 0.042606230825185776, 0.0013557893689721823, 3.741780165000819e-05, 0.00026100032846443355, 0.00011062332487199455, 2.6325205908506177e-05, 0.00027366276481188834, 0.0013322237646207213, 0.005098779685795307, 0.001762756728567183, 0.00011280346370767802, 0.006056371610611677, 0.02636081911623478, 0.0, 0.0, 0.0], [0.9532296657562256, 0.011684193275868893, 0.0012932401150465012, 2.2905802325112745e-05, 0.00020226188644301146, 0.00010404899512650445, 1.667732976784464e-05, 0.0001759196602506563, 0.0008314918377436697, 0.003537574550136924, 0.0008400906226597726, 0.00013914771261624992, 0.004338569939136505, 0.0076423343271017075, 0.015941942110657692, 0.0, 0.0], [0.9632976651191711, 0.018758688122034073, 0.0002728313847910613, 2.3039463485474698e-05, 0.00018731066666077822, 0.006783561315387487, 7.916014874354005e-05, 3.0728762794751674e-05, 0.0006256963824853301, 0.005181917455047369, 0.00032573952921666205, 3.638032285380177e-05, 0.00011254272976657376, 0.0005450659664347768, 0.0004944721586070955, 0.003245167899876833, 0.0], [0.9477740526199341, 0.01646292582154274, 0.004593922756612301, 9.204182788380422e-06, 0.00014169032510835677, 0.0001961581438081339, 0.0004538381763268262, 0.0029126377776265144, 0.0017085714498534799, 0.009842637926340103, 0.0008400997030548751, 7.99391491455026e-05, 0.0014424268156290054, 0.002815942745655775, 0.00029656675178557634, 0.0022043560165911913, 0.008225055411458015]], [[1.0, 0.0, 0.0, 0.0, 0.0, 0.0, 0.0, 0.0, 0.0, 0.0, 0.0, 0.0, 0.0, 0.0, 0.0, 0.0, 0.0], [0.9983651041984558, 0.0016349279321730137, 0.0, 0.0, 0.0, 0.0, 0.0, 0.0, 0.0, 0.0, 0.0, 0.0, 0.0, 0.0, 0.0, 0.0, 0.0], [0.9948285222053528, 0.0001823272177716717, 0.004989233799278736, 0.0, 0.0, 0.0, 0.0, 0.0, 0.0, 0.0, 0.0, 0.0, 0.0, 0.0, 0.0, 0.0, 0.0], [0.8673422336578369, 0.0008683042251504958, 0.02855055406689644, 0.10323894768953323, 0.0, 0.0, 0.0, 0.0, 0.0, 0.0, 0.0, 0.0, 0.0, 0.0, 0.0, 0.0, 0.0], [0.9816298484802246, 0.0002972528454847634, 0.0037696179933845997, 0.005884380545467138, 0.008418831042945385, 0.0, 0.0, 0.0, 0.0, 0.0, 0.0, 0.0, 0.0, 0.0, 0.0, 0.0, 0.0], [0.9784131646156311, 0.0004215920635033399, 0.008892450481653214, 0.00550630409270525, 0.004363361746072769, 0.0024032145738601685, 0.0, 0.0, 0.0, 0.0, 0.0, 0.0, 0.0, 0.0, 0.0, 0.0, 0.0], [0.9696672558784485, 0.0012158205499872565, 0.007837453857064247, 0.0030550339724868536, 0.0036144049372524023, 0.0009465496987104416, 0.013663536868989468, 0.0, 0.0, 0.0, 0.0, 0.0, 0.0, 0.0, 0.0, 0.0, 0.0], [0.9931902289390564, 0.0005938818794675171, 0.001769463298842311, 0.0001979475055122748, 7.994507905095816e-05, 3.835221650660969e-05, 0.00025293929502367973, 0.0038772672414779663, 0.0, 0.0, 0.0, 0.0, 0.0, 0.0, 0.0, 0.0, 0.0], [0.9792699813842773, 0.001468436443246901, 0.004866595380008221, 0.00017479195958003402, 5.0723199819913134e-05, 3.22175255860202e-05, 0.0005319865886121988, 0.0015033052768558264, 0.012101864442229271, 0.0, 0.0, 0.0, 0.0, 0.0, 0.0, 0.0, 0.0], [0.9648488163948059, 0.001979277702048421, 0.014410781674087048, 0.00295051047578454, 0.0007358534494414926, 0.0006741246907040477, 0.003066968871280551, 0.0036164200864732265, 0.0017929094610735774, 0.005924378987401724, 0.0, 0.0, 0.0, 0.0, 0.0, 0.0, 0.0], [0.05690183490514755, 0.000198451365577057, 0.0020829851273447275, 0.034692227840423584, 0.7424772381782532, 0.08583527058362961, 0.062168218195438385, 0.004101689904928207, 0.0026152811478823423, 0.004230019170790911, 0.004696801770478487, 0.0, 0.0, 0.0, 0.0, 0.0, 0.0], [0.851166307926178, 0.0020351745188236237, 0.03126072511076927, 0.02583274617791176, 0.006388908252120018, 0.003558568423613906, 0.014532486908137798, 0.0058166347444057465, 0.0015363943530246615, 0.00579272024333477, 0.005638020113110542, 0.04644137620925903, 0.0, 0.0, 0.0, 0.0, 0.0], [0.9821356534957886, 0.0005260174511931837, 0.007259009405970573, 0.0025294029619544744, 0.00022282499412540346, 0.00017740775365382433, 0.0012558765010908246, 0.0004101819358766079, 0.000438519346062094, 0.0006344304420053959, 0.00037530873669311404, 0.0010440535843372345, 0.0029913904145359993, 0.0, 0.0, 0.0, 0.0], [0.9883167147636414, 0.0007262154249474406, 0.004082708619534969, 0.00027668109396472573, 5.541574864764698e-05, 1.2297376088099554e-05, 0.0001299809227930382, 7.257857214426622e-05, 0.0001023350196192041, 0.0004762491153087467, 0.0003743087872862816, 0.00023626819893252105, 0.0007782955071888864, 0.00436003552749753, 0.0, 0.0, 0.0], [0.9980422258377075, 0.0003473364922683686, 0.0005393543979153037, 2.260997280245647e-05, 5.141644123796141e-06, 1.7607973745725758e-07, 3.5449220376904123e-06, 4.628038368537091e-06, 2.7966487323283218e-05, 3.351341001689434e-05, 4.2157280404353514e-05, 4.7745677875354886e-05, 3.0009614420123398e-05, 0.00021074098185636103, 0.0006429177010431886, 0.0, 0.0], [0.9695586562156677, 0.0006224570679478347, 0.0014066080329939723, 1.7161806681542657e-05, 3.785454737226246e-06, 1.9596175206970656e-06, 4.2599211155902594e-05, 2.9251186788314953e-05, 3.2634547096677125e-05, 0.00039342427044175565, 0.0004868159012403339, 0.00020651805971283466, 0.0003758207312785089, 0.00031584565294906497, 0.000715515052434057, 0.0257909893989563, 0.0], [0.9826743006706238, 0.0002647240471560508, 0.0017451538005843759, 5.890051033929922e-05, 1.2226795661263168e-05, 2.5994557290687226e-05, 0.00010059450141852722, 0.0001683767040958628, 0.0011750604026019573, 0.0017100420081987977, 0.0011373099405318499, 0.0002905783767346293, 0.0006429963978007436, 0.0009200103813782334, 0.0012601943453773856, 0.0021939959842711687, 0.005619517061859369]]], \"attentionHeadNames\": [\"L4H6\", \"L4H11\", \"L5H10\"], \"tokens\": [\"<|endoftext|>\", \"After\", \" John\", \" and\", \" Mary\", \" went\", \" to\", \" the\", \" store\", \",\", \" John\", \" gave\", \" a\", \" bottle\", \" of\", \" milk\", \" to\"]}\n",
              "    )\n",
              "    </script>"
            ],
            "text/plain": [
              "<circuitsvis.utils.render.RenderedHTML at 0x7f2725cb6430>"
            ]
          },
          "execution_count": 114,
          "metadata": {},
          "output_type": "execute_result"
        }
      ],
      "source": [
        "third_level_positive_heads = [(4, 6), (4, 11), (5, 10)]\n",
        "\n",
        "tokens, attn, names = get_attn_head_patterns(model, example_prompt, second_level_positive_heads)\n",
        "cv.attention.attention_heads(tokens=tokens, attention=attn, attention_head_names=names)"
      ]
    },
    {
      "cell_type": "markdown",
      "metadata": {
        "id": "iN1BMyEUgIpy"
      },
      "source": [
        "### Backup Name Mover Heads"
      ]
    },
    {
      "cell_type": "code",
      "execution_count": null,
      "metadata": {
        "colab": {
          "base_uri": "https://localhost:8080/"
        },
        "id": "GxJFLGpde4NP",
        "outputId": "2d759aab-459d-46c8-e811-826cfad65b03"
      },
      "outputs": [
        {
          "name": "stdout",
          "output_type": "stream",
          "text": [
            "Heads to ablate: [(8, 2), (8, 10), (9, 6), (10, 7)]\n",
            "Original IOI Metric: 1.0000\n",
            "Post ablation IOI Metric: 0.8575706481933594\n"
          ]
        }
      ],
      "source": [
        "heads_to_ablate = [(8, 2), (8, 10), (9, 6), (10, 7)]\n",
        "\n",
        "print(f\"Heads to ablate: {heads_to_ablate}\")\n",
        "def ablate_top_head_hook(z: TT[\"batch\", \"pos\", \"head_index\", \"d_head\"], hook, head_idx=0):\n",
        "    z[:, -1, head_idx, :] = 0\n",
        "    return z\n",
        "# Adds a hook into global model state\n",
        "for layer, head in heads_to_ablate:\n",
        "    ablate_head_hook = partial(ablate_top_head_hook, head_idx=head)\n",
        "    model.blocks[layer].attn.hook_z.add_hook(ablate_head_hook)\n",
        "# Runs the model, temporarily adds caching hooks and then removes *all* hooks after running, including the ablation hook.\n",
        "ablated_logits, ablated_cache = model.run_with_cache(clean_tokens)\n",
        "print(f\"Original IOI Metric: {ioi_metric(clean_logits).item():.4f}\")\n",
        "print(f\"Post ablation IOI Metric: {ioi_metric(ablated_logits).item()}\")\n",
        "#print(f\"Direct Logit Attribution of top name mover head: {per_head_logit_diffs.flatten()[top_name_mover].item()}\")\n",
        "#print(f\"Naive prediction of post ablation logit diff: {original_average_logit_diff - per_head_logit_diffs.flatten()[top_name_mover].item()}\")"
      ]
    },
    {
      "cell_type": "code",
      "execution_count": null,
      "metadata": {
        "colab": {
          "base_uri": "https://localhost:8080/",
          "height": 1000
        },
        "id": "1m1tFBCdsNlQ",
        "outputId": "e935f174-44cb-4f6c-8ecc-5f950bf72368"
      },
      "outputs": [
        {
          "name": "stdout",
          "output_type": "stream",
          "text": [
            "Tried to stack head results when they weren't cached. Computing head results now\n"
          ]
        },
        {
          "data": {
            "text/html": [
              "<html>\n",
              "<head><meta charset=\"utf-8\" /></head>\n",
              "<body>\n",
              "    <div>            <script src=\"https://cdnjs.cloudflare.com/ajax/libs/mathjax/2.7.5/MathJax.js?config=TeX-AMS-MML_SVG\"></script><script type=\"text/javascript\">if (window.MathJax) {MathJax.Hub.Config({SVG: {font: \"STIX-Web\"}});}</script>                <script type=\"text/javascript\">window.PlotlyConfig = {MathJaxConfig: 'local'};</script>\n",
              "        <script src=\"https://cdn.plot.ly/plotly-2.8.3.min.js\"></script>                <div id=\"e5a00757-a88f-4f99-8185-c27ab6132b9c\" class=\"plotly-graph-div\" style=\"height:525px; width:100%;\"></div>            <script type=\"text/javascript\">                                    window.PLOTLYENV=window.PLOTLYENV || {};                                    if (document.getElementById(\"e5a00757-a88f-4f99-8185-c27ab6132b9c\")) {                    Plotly.newPlot(                        \"e5a00757-a88f-4f99-8185-c27ab6132b9c\",                        [{\"coloraxis\":\"coloraxis\",\"name\":\"0\",\"z\":[[0.020221147686243057,0.04076646268367767,0.03558884188532829,0.0048253959976136684,0.024957366287708282,-0.007088472135365009,-0.12443993240594864,0.10922057181596756,0.03205033391714096,0.055575184524059296,-0.025236904621124268,0.020291203632950783],[0.0007550530135631561,-0.014737319201231003,-0.024554558098316193,0.019622521474957466,-0.05986678972840309,0.0018280120566487312,0.0899171382188797,0.0018582758493721485,-0.01961829513311386,0.011505234986543655,-0.04511275514960289,-0.009110281243920326],[0.04573953151702881,0.02235827036201954,0.0322599932551384,0.0377008393406868,-0.03798897936940193,0.003466061782091856,0.054021503776311874,0.05426923185586929,0.04701157659292221,0.016987457871437073,0.05744236707687378,-0.05343896523118019],[0.006353836506605148,-0.042225852608680725,-0.24046579003334045,0.06063012406229973,-0.03714974969625473,0.0063704270869493484,-0.030900754034519196,-0.040003176778554916,-0.05976790189743042,-0.07053010165691376,0.02100246399641037,-0.03693819046020508],[-0.06916268914937973,-0.04766763746738434,-0.029760828241705894,0.07309339940547943,0.010081769898533821,-0.11592946946620941,-0.019194908440113068,0.0035232175141572952,0.029484277591109276,0.019293740391731262,-0.07106060534715652,0.08528950065374374],[0.07063791155815125,-0.039172716438770294,0.02417067624628544,-0.13682933151721954,0.05316343903541565,0.005066215991973877,4.3764710426330566e-05,0.0037364382296800613,-0.1653049886226654,-0.002058866899460554,0.01643681712448597,0.012991270050406456],[-0.06231163814663887,-0.025746628642082214,0.05797521770000458,-0.033530279994010925,-0.08227971941232681,-0.19398407638072968,0.3900860548019409,-0.12486095726490021,-0.006086645647883415,-0.004902152344584465,0.022770168259739876,-0.009105199947953224],[-0.02023383229970932,0.0189838670194149,-0.09125155210494995,0.024418510496616364,0.01127505674958229,0.05610557645559311,0.021324407309293747,-0.011422182433307171,0.21008455753326416,0.06601433455944061,-0.023878715932369232,0.3044280409812927],[0.004097470548003912,0.3620613217353821,0.0,0.0016961158253252506,0.08038657903671265,0.027160804718732834,-0.0417175218462944,-0.049131814390420914,0.32091638445854187,-0.10812641680240631,0.0,0.2620041072368622],[0.013515446335077286,-0.005177866667509079,0.07304127514362335,0.11866967380046844,0.3298165202140808,0.002148229628801346,0.0,0.30118098855018616,0.2678828537464142,0.10690532624721527,-0.0022950556594878435,-0.003825155086815357],[0.004317328799515963,0.6500676274299622,-0.05766548216342926,0.0018703199457377195,0.040129318833351135,0.15756653249263763,-0.007921959273517132,0.0,0.40858811140060425,-0.0011328421533107758,0.06560211628675461,0.21938328444957733],[0.20423762500286102,0.25975894927978516,0.09834347665309906,0.015183204784989357,0.027995361015200615,0.5032586455345154,0.1976359337568283,0.09341602027416229,0.14680169522762299,0.21252800524234772,0.41151201725006104,0.11118629574775696]],\"type\":\"heatmap\",\"xaxis\":\"x\",\"yaxis\":\"y\",\"hovertemplate\":\"Head: %{x}<br>Layer: %{y}<br>color: %{z}<extra></extra>\"}],                        {\"template\":{\"data\":{\"bar\":[{\"error_x\":{\"color\":\"#2a3f5f\"},\"error_y\":{\"color\":\"#2a3f5f\"},\"marker\":{\"line\":{\"color\":\"#E5ECF6\",\"width\":0.5},\"pattern\":{\"fillmode\":\"overlay\",\"size\":10,\"solidity\":0.2}},\"type\":\"bar\"}],\"barpolar\":[{\"marker\":{\"line\":{\"color\":\"#E5ECF6\",\"width\":0.5},\"pattern\":{\"fillmode\":\"overlay\",\"size\":10,\"solidity\":0.2}},\"type\":\"barpolar\"}],\"carpet\":[{\"aaxis\":{\"endlinecolor\":\"#2a3f5f\",\"gridcolor\":\"white\",\"linecolor\":\"white\",\"minorgridcolor\":\"white\",\"startlinecolor\":\"#2a3f5f\"},\"baxis\":{\"endlinecolor\":\"#2a3f5f\",\"gridcolor\":\"white\",\"linecolor\":\"white\",\"minorgridcolor\":\"white\",\"startlinecolor\":\"#2a3f5f\"},\"type\":\"carpet\"}],\"choropleth\":[{\"colorbar\":{\"outlinewidth\":0,\"ticks\":\"\"},\"type\":\"choropleth\"}],\"contour\":[{\"colorbar\":{\"outlinewidth\":0,\"ticks\":\"\"},\"colorscale\":[[0.0,\"#0d0887\"],[0.1111111111111111,\"#46039f\"],[0.2222222222222222,\"#7201a8\"],[0.3333333333333333,\"#9c179e\"],[0.4444444444444444,\"#bd3786\"],[0.5555555555555556,\"#d8576b\"],[0.6666666666666666,\"#ed7953\"],[0.7777777777777778,\"#fb9f3a\"],[0.8888888888888888,\"#fdca26\"],[1.0,\"#f0f921\"]],\"type\":\"contour\"}],\"contourcarpet\":[{\"colorbar\":{\"outlinewidth\":0,\"ticks\":\"\"},\"type\":\"contourcarpet\"}],\"heatmap\":[{\"colorbar\":{\"outlinewidth\":0,\"ticks\":\"\"},\"colorscale\":[[0.0,\"#0d0887\"],[0.1111111111111111,\"#46039f\"],[0.2222222222222222,\"#7201a8\"],[0.3333333333333333,\"#9c179e\"],[0.4444444444444444,\"#bd3786\"],[0.5555555555555556,\"#d8576b\"],[0.6666666666666666,\"#ed7953\"],[0.7777777777777778,\"#fb9f3a\"],[0.8888888888888888,\"#fdca26\"],[1.0,\"#f0f921\"]],\"type\":\"heatmap\"}],\"heatmapgl\":[{\"colorbar\":{\"outlinewidth\":0,\"ticks\":\"\"},\"colorscale\":[[0.0,\"#0d0887\"],[0.1111111111111111,\"#46039f\"],[0.2222222222222222,\"#7201a8\"],[0.3333333333333333,\"#9c179e\"],[0.4444444444444444,\"#bd3786\"],[0.5555555555555556,\"#d8576b\"],[0.6666666666666666,\"#ed7953\"],[0.7777777777777778,\"#fb9f3a\"],[0.8888888888888888,\"#fdca26\"],[1.0,\"#f0f921\"]],\"type\":\"heatmapgl\"}],\"histogram\":[{\"marker\":{\"pattern\":{\"fillmode\":\"overlay\",\"size\":10,\"solidity\":0.2}},\"type\":\"histogram\"}],\"histogram2d\":[{\"colorbar\":{\"outlinewidth\":0,\"ticks\":\"\"},\"colorscale\":[[0.0,\"#0d0887\"],[0.1111111111111111,\"#46039f\"],[0.2222222222222222,\"#7201a8\"],[0.3333333333333333,\"#9c179e\"],[0.4444444444444444,\"#bd3786\"],[0.5555555555555556,\"#d8576b\"],[0.6666666666666666,\"#ed7953\"],[0.7777777777777778,\"#fb9f3a\"],[0.8888888888888888,\"#fdca26\"],[1.0,\"#f0f921\"]],\"type\":\"histogram2d\"}],\"histogram2dcontour\":[{\"colorbar\":{\"outlinewidth\":0,\"ticks\":\"\"},\"colorscale\":[[0.0,\"#0d0887\"],[0.1111111111111111,\"#46039f\"],[0.2222222222222222,\"#7201a8\"],[0.3333333333333333,\"#9c179e\"],[0.4444444444444444,\"#bd3786\"],[0.5555555555555556,\"#d8576b\"],[0.6666666666666666,\"#ed7953\"],[0.7777777777777778,\"#fb9f3a\"],[0.8888888888888888,\"#fdca26\"],[1.0,\"#f0f921\"]],\"type\":\"histogram2dcontour\"}],\"mesh3d\":[{\"colorbar\":{\"outlinewidth\":0,\"ticks\":\"\"},\"type\":\"mesh3d\"}],\"parcoords\":[{\"line\":{\"colorbar\":{\"outlinewidth\":0,\"ticks\":\"\"}},\"type\":\"parcoords\"}],\"pie\":[{\"automargin\":true,\"type\":\"pie\"}],\"scatter\":[{\"marker\":{\"colorbar\":{\"outlinewidth\":0,\"ticks\":\"\"}},\"type\":\"scatter\"}],\"scatter3d\":[{\"line\":{\"colorbar\":{\"outlinewidth\":0,\"ticks\":\"\"}},\"marker\":{\"colorbar\":{\"outlinewidth\":0,\"ticks\":\"\"}},\"type\":\"scatter3d\"}],\"scattercarpet\":[{\"marker\":{\"colorbar\":{\"outlinewidth\":0,\"ticks\":\"\"}},\"type\":\"scattercarpet\"}],\"scattergeo\":[{\"marker\":{\"colorbar\":{\"outlinewidth\":0,\"ticks\":\"\"}},\"type\":\"scattergeo\"}],\"scattergl\":[{\"marker\":{\"colorbar\":{\"outlinewidth\":0,\"ticks\":\"\"}},\"type\":\"scattergl\"}],\"scattermapbox\":[{\"marker\":{\"colorbar\":{\"outlinewidth\":0,\"ticks\":\"\"}},\"type\":\"scattermapbox\"}],\"scatterpolar\":[{\"marker\":{\"colorbar\":{\"outlinewidth\":0,\"ticks\":\"\"}},\"type\":\"scatterpolar\"}],\"scatterpolargl\":[{\"marker\":{\"colorbar\":{\"outlinewidth\":0,\"ticks\":\"\"}},\"type\":\"scatterpolargl\"}],\"scatterternary\":[{\"marker\":{\"colorbar\":{\"outlinewidth\":0,\"ticks\":\"\"}},\"type\":\"scatterternary\"}],\"surface\":[{\"colorbar\":{\"outlinewidth\":0,\"ticks\":\"\"},\"colorscale\":[[0.0,\"#0d0887\"],[0.1111111111111111,\"#46039f\"],[0.2222222222222222,\"#7201a8\"],[0.3333333333333333,\"#9c179e\"],[0.4444444444444444,\"#bd3786\"],[0.5555555555555556,\"#d8576b\"],[0.6666666666666666,\"#ed7953\"],[0.7777777777777778,\"#fb9f3a\"],[0.8888888888888888,\"#fdca26\"],[1.0,\"#f0f921\"]],\"type\":\"surface\"}],\"table\":[{\"cells\":{\"fill\":{\"color\":\"#EBF0F8\"},\"line\":{\"color\":\"white\"}},\"header\":{\"fill\":{\"color\":\"#C8D4E3\"},\"line\":{\"color\":\"white\"}},\"type\":\"table\"}]},\"layout\":{\"annotationdefaults\":{\"arrowcolor\":\"#2a3f5f\",\"arrowhead\":0,\"arrowwidth\":1},\"autotypenumbers\":\"strict\",\"coloraxis\":{\"colorbar\":{\"outlinewidth\":0,\"ticks\":\"\"}},\"colorscale\":{\"diverging\":[[0,\"#8e0152\"],[0.1,\"#c51b7d\"],[0.2,\"#de77ae\"],[0.3,\"#f1b6da\"],[0.4,\"#fde0ef\"],[0.5,\"#f7f7f7\"],[0.6,\"#e6f5d0\"],[0.7,\"#b8e186\"],[0.8,\"#7fbc41\"],[0.9,\"#4d9221\"],[1,\"#276419\"]],\"sequential\":[[0.0,\"#0d0887\"],[0.1111111111111111,\"#46039f\"],[0.2222222222222222,\"#7201a8\"],[0.3333333333333333,\"#9c179e\"],[0.4444444444444444,\"#bd3786\"],[0.5555555555555556,\"#d8576b\"],[0.6666666666666666,\"#ed7953\"],[0.7777777777777778,\"#fb9f3a\"],[0.8888888888888888,\"#fdca26\"],[1.0,\"#f0f921\"]],\"sequentialminus\":[[0.0,\"#0d0887\"],[0.1111111111111111,\"#46039f\"],[0.2222222222222222,\"#7201a8\"],[0.3333333333333333,\"#9c179e\"],[0.4444444444444444,\"#bd3786\"],[0.5555555555555556,\"#d8576b\"],[0.6666666666666666,\"#ed7953\"],[0.7777777777777778,\"#fb9f3a\"],[0.8888888888888888,\"#fdca26\"],[1.0,\"#f0f921\"]]},\"colorway\":[\"#636efa\",\"#EF553B\",\"#00cc96\",\"#ab63fa\",\"#FFA15A\",\"#19d3f3\",\"#FF6692\",\"#B6E880\",\"#FF97FF\",\"#FECB52\"],\"font\":{\"color\":\"#2a3f5f\"},\"geo\":{\"bgcolor\":\"white\",\"lakecolor\":\"white\",\"landcolor\":\"#E5ECF6\",\"showlakes\":true,\"showland\":true,\"subunitcolor\":\"white\"},\"hoverlabel\":{\"align\":\"left\"},\"hovermode\":\"closest\",\"mapbox\":{\"style\":\"light\"},\"paper_bgcolor\":\"white\",\"plot_bgcolor\":\"#E5ECF6\",\"polar\":{\"angularaxis\":{\"gridcolor\":\"white\",\"linecolor\":\"white\",\"ticks\":\"\"},\"bgcolor\":\"#E5ECF6\",\"radialaxis\":{\"gridcolor\":\"white\",\"linecolor\":\"white\",\"ticks\":\"\"}},\"scene\":{\"xaxis\":{\"backgroundcolor\":\"#E5ECF6\",\"gridcolor\":\"white\",\"gridwidth\":2,\"linecolor\":\"white\",\"showbackground\":true,\"ticks\":\"\",\"zerolinecolor\":\"white\"},\"yaxis\":{\"backgroundcolor\":\"#E5ECF6\",\"gridcolor\":\"white\",\"gridwidth\":2,\"linecolor\":\"white\",\"showbackground\":true,\"ticks\":\"\",\"zerolinecolor\":\"white\"},\"zaxis\":{\"backgroundcolor\":\"#E5ECF6\",\"gridcolor\":\"white\",\"gridwidth\":2,\"linecolor\":\"white\",\"showbackground\":true,\"ticks\":\"\",\"zerolinecolor\":\"white\"}},\"shapedefaults\":{\"line\":{\"color\":\"#2a3f5f\"}},\"ternary\":{\"aaxis\":{\"gridcolor\":\"white\",\"linecolor\":\"white\",\"ticks\":\"\"},\"baxis\":{\"gridcolor\":\"white\",\"linecolor\":\"white\",\"ticks\":\"\"},\"bgcolor\":\"#E5ECF6\",\"caxis\":{\"gridcolor\":\"white\",\"linecolor\":\"white\",\"ticks\":\"\"}},\"title\":{\"x\":0.05},\"xaxis\":{\"automargin\":true,\"gridcolor\":\"white\",\"linecolor\":\"white\",\"ticks\":\"\",\"title\":{\"standoff\":15},\"zerolinecolor\":\"white\",\"zerolinewidth\":2},\"yaxis\":{\"automargin\":true,\"gridcolor\":\"white\",\"linecolor\":\"white\",\"ticks\":\"\",\"title\":{\"standoff\":15},\"zerolinecolor\":\"white\",\"zerolinewidth\":2}}},\"xaxis\":{\"anchor\":\"y\",\"domain\":[0.0,1.0],\"title\":{\"text\":\"x\"}},\"yaxis\":{\"anchor\":\"x\",\"domain\":[0.0,1.0],\"autorange\":\"reversed\",\"title\":{\"text\":\"y\"}},\"coloraxis\":{\"colorscale\":[[0.0,\"rgb(103,0,31)\"],[0.1,\"rgb(178,24,43)\"],[0.2,\"rgb(214,96,77)\"],[0.3,\"rgb(244,165,130)\"],[0.4,\"rgb(253,219,199)\"],[0.5,\"rgb(247,247,247)\"],[0.6,\"rgb(209,229,240)\"],[0.7,\"rgb(146,197,222)\"],[0.8,\"rgb(67,147,195)\"],[0.9,\"rgb(33,102,172)\"],[1.0,\"rgb(5,48,97)\"]],\"cmid\":0.0},\"margin\":{\"t\":60}},                        {\"responsive\": true}                    ).then(function(){\n",
              "                            \n",
              "var gd = document.getElementById('e5a00757-a88f-4f99-8185-c27ab6132b9c');\n",
              "var x = new MutationObserver(function (mutations, observer) {{\n",
              "        var display = window.getComputedStyle(gd).display;\n",
              "        if (!display || display === 'none') {{\n",
              "            console.log([gd, 'removed!']);\n",
              "            Plotly.purge(gd);\n",
              "            observer.disconnect();\n",
              "        }}\n",
              "}});\n",
              "\n",
              "// Listen for the removal of the full notebook cells\n",
              "var notebookContainer = gd.closest('#notebook-container');\n",
              "if (notebookContainer) {{\n",
              "    x.observe(notebookContainer, {childList: true});\n",
              "}}\n",
              "\n",
              "// Listen for the clearing of the current output cell\n",
              "var outputEl = gd.closest('.output');\n",
              "if (outputEl) {{\n",
              "    x.observe(outputEl, {childList: true});\n",
              "}}\n",
              "\n",
              "                        })                };                            </script>        </div>\n",
              "</body>\n",
              "</html>"
            ]
          },
          "metadata": {},
          "output_type": "display_data"
        },
        {
          "data": {
            "text/html": [
              "<html>\n",
              "<head><meta charset=\"utf-8\" /></head>\n",
              "<body>\n",
              "    <div>            <script src=\"https://cdnjs.cloudflare.com/ajax/libs/mathjax/2.7.5/MathJax.js?config=TeX-AMS-MML_SVG\"></script><script type=\"text/javascript\">if (window.MathJax) {MathJax.Hub.Config({SVG: {font: \"STIX-Web\"}});}</script>                <script type=\"text/javascript\">window.PlotlyConfig = {MathJaxConfig: 'local'};</script>\n",
              "        <script src=\"https://cdn.plot.ly/plotly-2.8.3.min.js\"></script>                <div id=\"0c5bb811-ce41-495a-96bf-f2fb2e6e3aab\" class=\"plotly-graph-div\" style=\"height:525px; width:100%;\"></div>            <script type=\"text/javascript\">                                    window.PLOTLYENV=window.PLOTLYENV || {};                                    if (document.getElementById(\"0c5bb811-ce41-495a-96bf-f2fb2e6e3aab\")) {                    Plotly.newPlot(                        \"0c5bb811-ce41-495a-96bf-f2fb2e6e3aab\",                        [{\"hovertemplate\":\"<b>%{hovertext}</b><br><br>Ablated=%{x}<br>Original=%{y}<extra></extra>\",\"hovertext\":[\"L0H0\",\"L0H1\",\"L0H2\",\"L0H3\",\"L0H4\",\"L0H5\",\"L0H6\",\"L0H7\",\"L0H8\",\"L0H9\",\"L0H10\",\"L0H11\",\"L1H0\",\"L1H1\",\"L1H2\",\"L1H3\",\"L1H4\",\"L1H5\",\"L1H6\",\"L1H7\",\"L1H8\",\"L1H9\",\"L1H10\",\"L1H11\",\"L2H0\",\"L2H1\",\"L2H2\",\"L2H3\",\"L2H4\",\"L2H5\",\"L2H6\",\"L2H7\",\"L2H8\",\"L2H9\",\"L2H10\",\"L2H11\",\"L3H0\",\"L3H1\",\"L3H2\",\"L3H3\",\"L3H4\",\"L3H5\",\"L3H6\",\"L3H7\",\"L3H8\",\"L3H9\",\"L3H10\",\"L3H11\",\"L4H0\",\"L4H1\",\"L4H2\",\"L4H3\",\"L4H4\",\"L4H5\",\"L4H6\",\"L4H7\",\"L4H8\",\"L4H9\",\"L4H10\",\"L4H11\",\"L5H0\",\"L5H1\",\"L5H2\",\"L5H3\",\"L5H4\",\"L5H5\",\"L5H6\",\"L5H7\",\"L5H8\",\"L5H9\",\"L5H10\",\"L5H11\",\"L6H0\",\"L6H1\",\"L6H2\",\"L6H3\",\"L6H4\",\"L6H5\",\"L6H6\",\"L6H7\",\"L6H8\",\"L6H9\",\"L6H10\",\"L6H11\",\"L7H0\",\"L7H1\",\"L7H2\",\"L7H3\",\"L7H4\",\"L7H5\",\"L7H6\",\"L7H7\",\"L7H8\",\"L7H9\",\"L7H10\",\"L7H11\",\"L8H0\",\"L8H1\",\"L8H2\",\"L8H3\",\"L8H4\",\"L8H5\",\"L8H6\",\"L8H7\",\"L8H8\",\"L8H9\",\"L8H10\",\"L8H11\",\"L9H0\",\"L9H1\",\"L9H2\",\"L9H3\",\"L9H4\",\"L9H5\",\"L9H6\",\"L9H7\",\"L9H8\",\"L9H9\",\"L9H10\",\"L9H11\",\"L10H0\",\"L10H1\",\"L10H2\",\"L10H3\",\"L10H4\",\"L10H5\",\"L10H6\",\"L10H7\",\"L10H8\",\"L10H9\",\"L10H10\",\"L10H11\",\"L11H0\",\"L11H1\",\"L11H2\",\"L11H3\",\"L11H4\",\"L11H5\",\"L11H6\",\"L11H7\",\"L11H8\",\"L11H9\",\"L11H10\",\"L11H11\"],\"legendgroup\":\"\",\"marker\":{\"color\":\"#636efa\",\"symbol\":\"circle\"},\"mode\":\"markers\",\"name\":\"\",\"orientation\":\"v\",\"showlegend\":false,\"x\":[0.020221147686243057,0.04076646268367767,0.03558884188532829,0.0048253959976136684,0.024957366287708282,-0.007088472135365009,-0.12443993240594864,0.10922057181596756,0.03205033391714096,0.055575184524059296,-0.025236904621124268,0.020291203632950783,0.0007550530135631561,-0.014737319201231003,-0.024554558098316193,0.019622521474957466,-0.05986678972840309,0.0018280120566487312,0.0899171382188797,0.0018582758493721485,-0.01961829513311386,0.011505234986543655,-0.04511275514960289,-0.009110281243920326,0.04573953151702881,0.02235827036201954,0.0322599932551384,0.0377008393406868,-0.03798897936940193,0.003466061782091856,0.054021503776311874,0.05426923185586929,0.04701157659292221,0.016987457871437073,0.05744236707687378,-0.05343896523118019,0.006353836506605148,-0.042225852608680725,-0.24046579003334045,0.06063012406229973,-0.03714974969625473,0.0063704270869493484,-0.030900754034519196,-0.040003176778554916,-0.05976790189743042,-0.07053010165691376,0.02100246399641037,-0.03693819046020508,-0.06916268914937973,-0.04766763746738434,-0.029760828241705894,0.07309339940547943,0.010081769898533821,-0.11592946946620941,-0.019194908440113068,0.0035232175141572952,0.029484277591109276,0.019293740391731262,-0.07106060534715652,0.08528950065374374,0.07063791155815125,-0.039172716438770294,0.02417067624628544,-0.13682933151721954,0.05316343903541565,0.005066215991973877,4.3764710426330566e-05,0.0037364382296800613,-0.1653049886226654,-0.002058866899460554,0.01643681712448597,0.012991270050406456,-0.06231163814663887,-0.025746628642082214,0.05797521770000458,-0.033530279994010925,-0.08227971941232681,-0.19398407638072968,0.3900860548019409,-0.12486095726490021,-0.006086645647883415,-0.004902152344584465,0.022770168259739876,-0.009105199947953224,-0.02023383229970932,0.0189838670194149,-0.09125155210494995,0.024418510496616364,0.01127505674958229,0.05610557645559311,0.021324407309293747,-0.011422182433307171,0.21008455753326416,0.06601433455944061,-0.023878715932369232,0.3044280409812927,0.004097470548003912,0.3620613217353821,0.0,0.0016961158253252506,0.08038657903671265,0.027160804718732834,-0.0417175218462944,-0.049131814390420914,0.32091638445854187,-0.10812641680240631,0.0,0.2620041072368622,0.013515446335077286,-0.005177866667509079,0.07304127514362335,0.11866967380046844,0.3298165202140808,0.002148229628801346,0.0,0.30118098855018616,0.2678828537464142,0.10690532624721527,-0.0022950556594878435,-0.003825155086815357,0.004317328799515963,0.6500676274299622,-0.05766548216342926,0.0018703199457377195,0.040129318833351135,0.15756653249263763,-0.007921959273517132,0.0,0.40858811140060425,-0.0011328421533107758,0.06560211628675461,0.21938328444957733,0.20423762500286102,0.25975894927978516,0.09834347665309906,0.015183204784989357,0.027995361015200615,0.5032586455345154,0.1976359337568283,0.09341602027416229,0.14680169522762299,0.21252800524234772,0.41151201725006104,0.11118629574775696],\"xaxis\":\"x\",\"y\":[0.01844014599919319,0.0364738330245018,0.032107044011354446,0.003577851690351963,0.022146858274936676,-0.006213785149157047,-0.11072809994220734,0.09820982813835144,0.029019661247730255,0.04979649558663368,-0.02312171459197998,0.018462516367435455,0.0004348102957010269,-0.01261545717716217,-0.02187211439013481,0.01771482080221176,-0.05438023805618286,0.0013081012293696404,0.08121002465486526,0.001761406660079956,-0.01819225773215294,0.010220235213637352,-0.04138251394033432,-0.00783531740307808,0.041002169251441956,0.019224373623728752,0.029159709811210632,0.033938538283109665,-0.03414476290345192,0.0030613725539296865,0.04920470342040062,0.04862567409873009,0.043245818465948105,0.01608584076166153,0.051386818289756775,-0.04890447109937668,0.006739657372236252,-0.03734734281897545,-0.21650370955467224,0.053227365016937256,-0.031965579837560654,0.006032237783074379,-0.027470050379633904,-0.036834966391325,-0.053065404295921326,-0.06366297602653503,0.019351685419678688,-0.03311622887849808,-0.06130316108465195,-0.0427783727645874,-0.026597576215863228,0.06579440087080002,0.008960762992501259,-0.10386206954717636,-0.017222853377461433,0.0032024094834923744,0.026417432352900505,0.01704765483736992,-0.06374742090702057,0.07778431475162506,0.06346756219863892,-0.03530063107609749,0.02115187607705593,-0.12262684106826782,0.04791483283042908,0.004663795232772827,0.0001233406364917755,0.0034008678048849106,-0.1489955335855484,-0.0019283073488622904,0.01511321309953928,0.010932410135865211,-0.056761715561151505,-0.023269692435860634,0.05234529450535774,-0.03167383000254631,-0.07431825995445251,-0.1739307940006256,0.3508076071739197,-0.11153577268123627,-0.005762999877333641,-0.004473904147744179,0.020329464226961136,-0.00849364884197712,-0.018262013792991638,0.01625528745353222,-0.08133119344711304,0.02147458679974079,0.00968343485146761,0.049981046468019485,0.01969565451145172,-0.010411754250526428,0.18687602877616882,0.05960730463266373,-0.021071255207061768,0.2730099558830261,0.0037567990366369486,0.3221367597579956,0.7598840594291687,0.0014987257309257984,0.07191638648509979,0.024439087137579918,-0.03739050403237343,-0.04585765302181244,0.283609539270401,-0.09422069787979126,3.3484582901000977,0.232211172580719,0.012749038636684418,-0.6198930740356445,0.04762302711606026,0.10217529535293579,0.29342061281204224,-0.596556544303894,0.4463837444782257,0.24470697343349457,0.18244090676307678,0.08299436420202255,-0.0019992562010884285,-0.0034909758251160383,0.004597994964569807,0.5813180208206177,-0.16531185805797577,-0.0008092271164059639,0.04794204235076904,0.1401897668838501,-0.007062213961035013,1.083420753479004,0.36342713236808777,0.010101533494889736,0.058442372828722,0.09121476113796234,0.281343936920166,0.18383878469467163,0.06189626455307007,0.013302374631166458,0.013149397447705269,0.4180866479873657,0.17829163372516632,0.0819823294878006,0.13144637644290924,0.18351833522319794,0.36885279417037964,0.1210736483335495],\"yaxis\":\"y\",\"type\":\"scatter\"}],                        {\"template\":{\"data\":{\"bar\":[{\"error_x\":{\"color\":\"#2a3f5f\"},\"error_y\":{\"color\":\"#2a3f5f\"},\"marker\":{\"line\":{\"color\":\"#E5ECF6\",\"width\":0.5},\"pattern\":{\"fillmode\":\"overlay\",\"size\":10,\"solidity\":0.2}},\"type\":\"bar\"}],\"barpolar\":[{\"marker\":{\"line\":{\"color\":\"#E5ECF6\",\"width\":0.5},\"pattern\":{\"fillmode\":\"overlay\",\"size\":10,\"solidity\":0.2}},\"type\":\"barpolar\"}],\"carpet\":[{\"aaxis\":{\"endlinecolor\":\"#2a3f5f\",\"gridcolor\":\"white\",\"linecolor\":\"white\",\"minorgridcolor\":\"white\",\"startlinecolor\":\"#2a3f5f\"},\"baxis\":{\"endlinecolor\":\"#2a3f5f\",\"gridcolor\":\"white\",\"linecolor\":\"white\",\"minorgridcolor\":\"white\",\"startlinecolor\":\"#2a3f5f\"},\"type\":\"carpet\"}],\"choropleth\":[{\"colorbar\":{\"outlinewidth\":0,\"ticks\":\"\"},\"type\":\"choropleth\"}],\"contour\":[{\"colorbar\":{\"outlinewidth\":0,\"ticks\":\"\"},\"colorscale\":[[0.0,\"#0d0887\"],[0.1111111111111111,\"#46039f\"],[0.2222222222222222,\"#7201a8\"],[0.3333333333333333,\"#9c179e\"],[0.4444444444444444,\"#bd3786\"],[0.5555555555555556,\"#d8576b\"],[0.6666666666666666,\"#ed7953\"],[0.7777777777777778,\"#fb9f3a\"],[0.8888888888888888,\"#fdca26\"],[1.0,\"#f0f921\"]],\"type\":\"contour\"}],\"contourcarpet\":[{\"colorbar\":{\"outlinewidth\":0,\"ticks\":\"\"},\"type\":\"contourcarpet\"}],\"heatmap\":[{\"colorbar\":{\"outlinewidth\":0,\"ticks\":\"\"},\"colorscale\":[[0.0,\"#0d0887\"],[0.1111111111111111,\"#46039f\"],[0.2222222222222222,\"#7201a8\"],[0.3333333333333333,\"#9c179e\"],[0.4444444444444444,\"#bd3786\"],[0.5555555555555556,\"#d8576b\"],[0.6666666666666666,\"#ed7953\"],[0.7777777777777778,\"#fb9f3a\"],[0.8888888888888888,\"#fdca26\"],[1.0,\"#f0f921\"]],\"type\":\"heatmap\"}],\"heatmapgl\":[{\"colorbar\":{\"outlinewidth\":0,\"ticks\":\"\"},\"colorscale\":[[0.0,\"#0d0887\"],[0.1111111111111111,\"#46039f\"],[0.2222222222222222,\"#7201a8\"],[0.3333333333333333,\"#9c179e\"],[0.4444444444444444,\"#bd3786\"],[0.5555555555555556,\"#d8576b\"],[0.6666666666666666,\"#ed7953\"],[0.7777777777777778,\"#fb9f3a\"],[0.8888888888888888,\"#fdca26\"],[1.0,\"#f0f921\"]],\"type\":\"heatmapgl\"}],\"histogram\":[{\"marker\":{\"pattern\":{\"fillmode\":\"overlay\",\"size\":10,\"solidity\":0.2}},\"type\":\"histogram\"}],\"histogram2d\":[{\"colorbar\":{\"outlinewidth\":0,\"ticks\":\"\"},\"colorscale\":[[0.0,\"#0d0887\"],[0.1111111111111111,\"#46039f\"],[0.2222222222222222,\"#7201a8\"],[0.3333333333333333,\"#9c179e\"],[0.4444444444444444,\"#bd3786\"],[0.5555555555555556,\"#d8576b\"],[0.6666666666666666,\"#ed7953\"],[0.7777777777777778,\"#fb9f3a\"],[0.8888888888888888,\"#fdca26\"],[1.0,\"#f0f921\"]],\"type\":\"histogram2d\"}],\"histogram2dcontour\":[{\"colorbar\":{\"outlinewidth\":0,\"ticks\":\"\"},\"colorscale\":[[0.0,\"#0d0887\"],[0.1111111111111111,\"#46039f\"],[0.2222222222222222,\"#7201a8\"],[0.3333333333333333,\"#9c179e\"],[0.4444444444444444,\"#bd3786\"],[0.5555555555555556,\"#d8576b\"],[0.6666666666666666,\"#ed7953\"],[0.7777777777777778,\"#fb9f3a\"],[0.8888888888888888,\"#fdca26\"],[1.0,\"#f0f921\"]],\"type\":\"histogram2dcontour\"}],\"mesh3d\":[{\"colorbar\":{\"outlinewidth\":0,\"ticks\":\"\"},\"type\":\"mesh3d\"}],\"parcoords\":[{\"line\":{\"colorbar\":{\"outlinewidth\":0,\"ticks\":\"\"}},\"type\":\"parcoords\"}],\"pie\":[{\"automargin\":true,\"type\":\"pie\"}],\"scatter\":[{\"marker\":{\"colorbar\":{\"outlinewidth\":0,\"ticks\":\"\"}},\"type\":\"scatter\"}],\"scatter3d\":[{\"line\":{\"colorbar\":{\"outlinewidth\":0,\"ticks\":\"\"}},\"marker\":{\"colorbar\":{\"outlinewidth\":0,\"ticks\":\"\"}},\"type\":\"scatter3d\"}],\"scattercarpet\":[{\"marker\":{\"colorbar\":{\"outlinewidth\":0,\"ticks\":\"\"}},\"type\":\"scattercarpet\"}],\"scattergeo\":[{\"marker\":{\"colorbar\":{\"outlinewidth\":0,\"ticks\":\"\"}},\"type\":\"scattergeo\"}],\"scattergl\":[{\"marker\":{\"colorbar\":{\"outlinewidth\":0,\"ticks\":\"\"}},\"type\":\"scattergl\"}],\"scattermapbox\":[{\"marker\":{\"colorbar\":{\"outlinewidth\":0,\"ticks\":\"\"}},\"type\":\"scattermapbox\"}],\"scatterpolar\":[{\"marker\":{\"colorbar\":{\"outlinewidth\":0,\"ticks\":\"\"}},\"type\":\"scatterpolar\"}],\"scatterpolargl\":[{\"marker\":{\"colorbar\":{\"outlinewidth\":0,\"ticks\":\"\"}},\"type\":\"scatterpolargl\"}],\"scatterternary\":[{\"marker\":{\"colorbar\":{\"outlinewidth\":0,\"ticks\":\"\"}},\"type\":\"scatterternary\"}],\"surface\":[{\"colorbar\":{\"outlinewidth\":0,\"ticks\":\"\"},\"colorscale\":[[0.0,\"#0d0887\"],[0.1111111111111111,\"#46039f\"],[0.2222222222222222,\"#7201a8\"],[0.3333333333333333,\"#9c179e\"],[0.4444444444444444,\"#bd3786\"],[0.5555555555555556,\"#d8576b\"],[0.6666666666666666,\"#ed7953\"],[0.7777777777777778,\"#fb9f3a\"],[0.8888888888888888,\"#fdca26\"],[1.0,\"#f0f921\"]],\"type\":\"surface\"}],\"table\":[{\"cells\":{\"fill\":{\"color\":\"#EBF0F8\"},\"line\":{\"color\":\"white\"}},\"header\":{\"fill\":{\"color\":\"#C8D4E3\"},\"line\":{\"color\":\"white\"}},\"type\":\"table\"}]},\"layout\":{\"annotationdefaults\":{\"arrowcolor\":\"#2a3f5f\",\"arrowhead\":0,\"arrowwidth\":1},\"autotypenumbers\":\"strict\",\"coloraxis\":{\"colorbar\":{\"outlinewidth\":0,\"ticks\":\"\"}},\"colorscale\":{\"diverging\":[[0,\"#8e0152\"],[0.1,\"#c51b7d\"],[0.2,\"#de77ae\"],[0.3,\"#f1b6da\"],[0.4,\"#fde0ef\"],[0.5,\"#f7f7f7\"],[0.6,\"#e6f5d0\"],[0.7,\"#b8e186\"],[0.8,\"#7fbc41\"],[0.9,\"#4d9221\"],[1,\"#276419\"]],\"sequential\":[[0.0,\"#0d0887\"],[0.1111111111111111,\"#46039f\"],[0.2222222222222222,\"#7201a8\"],[0.3333333333333333,\"#9c179e\"],[0.4444444444444444,\"#bd3786\"],[0.5555555555555556,\"#d8576b\"],[0.6666666666666666,\"#ed7953\"],[0.7777777777777778,\"#fb9f3a\"],[0.8888888888888888,\"#fdca26\"],[1.0,\"#f0f921\"]],\"sequentialminus\":[[0.0,\"#0d0887\"],[0.1111111111111111,\"#46039f\"],[0.2222222222222222,\"#7201a8\"],[0.3333333333333333,\"#9c179e\"],[0.4444444444444444,\"#bd3786\"],[0.5555555555555556,\"#d8576b\"],[0.6666666666666666,\"#ed7953\"],[0.7777777777777778,\"#fb9f3a\"],[0.8888888888888888,\"#fdca26\"],[1.0,\"#f0f921\"]]},\"colorway\":[\"#636efa\",\"#EF553B\",\"#00cc96\",\"#ab63fa\",\"#FFA15A\",\"#19d3f3\",\"#FF6692\",\"#B6E880\",\"#FF97FF\",\"#FECB52\"],\"font\":{\"color\":\"#2a3f5f\"},\"geo\":{\"bgcolor\":\"white\",\"lakecolor\":\"white\",\"landcolor\":\"#E5ECF6\",\"showlakes\":true,\"showland\":true,\"subunitcolor\":\"white\"},\"hoverlabel\":{\"align\":\"left\"},\"hovermode\":\"closest\",\"mapbox\":{\"style\":\"light\"},\"paper_bgcolor\":\"white\",\"plot_bgcolor\":\"#E5ECF6\",\"polar\":{\"angularaxis\":{\"gridcolor\":\"white\",\"linecolor\":\"white\",\"ticks\":\"\"},\"bgcolor\":\"#E5ECF6\",\"radialaxis\":{\"gridcolor\":\"white\",\"linecolor\":\"white\",\"ticks\":\"\"}},\"scene\":{\"xaxis\":{\"backgroundcolor\":\"#E5ECF6\",\"gridcolor\":\"white\",\"gridwidth\":2,\"linecolor\":\"white\",\"showbackground\":true,\"ticks\":\"\",\"zerolinecolor\":\"white\"},\"yaxis\":{\"backgroundcolor\":\"#E5ECF6\",\"gridcolor\":\"white\",\"gridwidth\":2,\"linecolor\":\"white\",\"showbackground\":true,\"ticks\":\"\",\"zerolinecolor\":\"white\"},\"zaxis\":{\"backgroundcolor\":\"#E5ECF6\",\"gridcolor\":\"white\",\"gridwidth\":2,\"linecolor\":\"white\",\"showbackground\":true,\"ticks\":\"\",\"zerolinecolor\":\"white\"}},\"shapedefaults\":{\"line\":{\"color\":\"#2a3f5f\"}},\"ternary\":{\"aaxis\":{\"gridcolor\":\"white\",\"linecolor\":\"white\",\"ticks\":\"\"},\"baxis\":{\"gridcolor\":\"white\",\"linecolor\":\"white\",\"ticks\":\"\"},\"bgcolor\":\"#E5ECF6\",\"caxis\":{\"gridcolor\":\"white\",\"linecolor\":\"white\",\"ticks\":\"\"}},\"title\":{\"x\":0.05},\"xaxis\":{\"automargin\":true,\"gridcolor\":\"white\",\"linecolor\":\"white\",\"ticks\":\"\",\"title\":{\"standoff\":15},\"zerolinecolor\":\"white\",\"zerolinewidth\":2},\"yaxis\":{\"automargin\":true,\"gridcolor\":\"white\",\"linecolor\":\"white\",\"ticks\":\"\",\"title\":{\"standoff\":15},\"zerolinecolor\":\"white\",\"zerolinewidth\":2}}},\"xaxis\":{\"anchor\":\"y\",\"domain\":[0.0,1.0],\"title\":{\"text\":\"Ablated\"},\"range\":[-3,3]},\"yaxis\":{\"anchor\":\"x\",\"domain\":[0.0,1.0],\"title\":{\"text\":\"Original\"},\"range\":[-3,3]},\"legend\":{\"tracegroupgap\":0},\"title\":{\"text\":\"Original vs Post-Ablation Direct Logit Attribution of Heads\"}},                        {\"responsive\": true}                    ).then(function(){\n",
              "                            \n",
              "var gd = document.getElementById('0c5bb811-ce41-495a-96bf-f2fb2e6e3aab');\n",
              "var x = new MutationObserver(function (mutations, observer) {{\n",
              "        var display = window.getComputedStyle(gd).display;\n",
              "        if (!display || display === 'none') {{\n",
              "            console.log([gd, 'removed!']);\n",
              "            Plotly.purge(gd);\n",
              "            observer.disconnect();\n",
              "        }}\n",
              "}});\n",
              "\n",
              "// Listen for the removal of the full notebook cells\n",
              "var notebookContainer = gd.closest('#notebook-container');\n",
              "if (notebookContainer) {{\n",
              "    x.observe(notebookContainer, {childList: true});\n",
              "}}\n",
              "\n",
              "// Listen for the clearing of the current output cell\n",
              "var outputEl = gd.closest('.output');\n",
              "if (outputEl) {{\n",
              "    x.observe(outputEl, {childList: true});\n",
              "}}\n",
              "\n",
              "                        })                };                            </script>        </div>\n",
              "</body>\n",
              "</html>"
            ]
          },
          "metadata": {},
          "output_type": "display_data"
        }
      ],
      "source": [
        "per_head_ablated_residual, labels = ablated_cache.stack_head_results(layer=-1, pos_slice=-1, return_labels=True)\n",
        "per_head_ablated_logit_diffs = residual_stack_to_logit_diff(per_head_ablated_residual, ablated_cache)\n",
        "per_head_ablated_logit_diffs = per_head_ablated_logit_diffs.reshape(model.cfg.n_layers, model.cfg.n_heads)\n",
        "imshow(per_head_ablated_logit_diffs, labels={\"x\":\"Head\", \"y\":\"Layer\"})\n",
        "l_scatter(y=per_head_logit_diffs.flatten(), x=per_head_ablated_logit_diffs.flatten(), hover_name=head_labels, range_x=(-3, 3), range_y=(-3, 3), xaxis=\"Ablated\", yaxis=\"Original\", title=\"Original vs Post-Ablation Direct Logit Attribution of Heads\")"
      ]
    },
    {
      "cell_type": "markdown",
      "metadata": {
        "id": "10nqFSgQrhvw"
      },
      "source": [
        "### Backup S2 Inhibitors"
      ]
    },
    {
      "cell_type": "code",
      "execution_count": null,
      "metadata": {
        "colab": {
          "base_uri": "https://localhost:8080/"
        },
        "id": "MjRCoH0YrllZ",
        "outputId": "a22b1400-5be5-4224-9204-bf8492acc919"
      },
      "outputs": [
        {
          "name": "stdout",
          "output_type": "stream",
          "text": [
            "Heads to ablate: [(6, 6), (7, 2), (7, 9)]\n",
            "Original IOI Metric: 1.0000\n",
            "Post ablation IOI Metric: 0.7133723497390747\n"
          ]
        }
      ],
      "source": [
        "heads_to_ablate = second_level_positive_heads\n",
        "\n",
        "print(f\"Heads to ablate: {heads_to_ablate}\")\n",
        "def ablate_top_head_hook(z: TT[\"batch\", \"pos\", \"head_index\", \"d_head\"], hook, head_idx=0):\n",
        "    z[:, -1, head_idx, :] = 0\n",
        "    return z\n",
        "# Adds a hook into global model state\n",
        "for layer, head in heads_to_ablate:\n",
        "    ablate_head_hook = partial(ablate_top_head_hook, head_idx=head)\n",
        "    model.blocks[layer].attn.hook_z.add_hook(ablate_head_hook)\n",
        "# Runs the model, temporarily adds caching hooks and then removes *all* hooks after running, including the ablation hook.\n",
        "ablated_logits, ablated_cache = model.run_with_cache(clean_tokens)\n",
        "print(f\"Original IOI Metric: {ioi_metric(clean_logits).item():.4f}\")\n",
        "print(f\"Post ablation IOI Metric: {ioi_metric(ablated_logits).item()}\")\n",
        "#print(f\"Direct Logit Attribution of top name mover head: {per_head_logit_diffs.flatten()[top_name_mover].item()}\")\n",
        "#print(f\"Naive prediction of post ablation logit diff: {original_average_logit_diff - per_head_logit_diffs.flatten()[top_name_mover].item()}\")"
      ]
    },
    {
      "cell_type": "code",
      "execution_count": null,
      "metadata": {
        "colab": {
          "base_uri": "https://localhost:8080/",
          "height": 1000
        },
        "id": "SDJti9e6g3Hc",
        "outputId": "71243085-e420-4d84-81f5-5de4ae1548d4"
      },
      "outputs": [
        {
          "name": "stdout",
          "output_type": "stream",
          "text": [
            "Tried to stack head results when they weren't cached. Computing head results now\n"
          ]
        },
        {
          "data": {
            "text/html": [
              "<html>\n",
              "<head><meta charset=\"utf-8\" /></head>\n",
              "<body>\n",
              "    <div>            <script src=\"https://cdnjs.cloudflare.com/ajax/libs/mathjax/2.7.5/MathJax.js?config=TeX-AMS-MML_SVG\"></script><script type=\"text/javascript\">if (window.MathJax) {MathJax.Hub.Config({SVG: {font: \"STIX-Web\"}});}</script>                <script type=\"text/javascript\">window.PlotlyConfig = {MathJaxConfig: 'local'};</script>\n",
              "        <script src=\"https://cdn.plot.ly/plotly-2.8.3.min.js\"></script>                <div id=\"a85142aa-b64a-4972-addb-b1a154fa8884\" class=\"plotly-graph-div\" style=\"height:525px; width:100%;\"></div>            <script type=\"text/javascript\">                                    window.PLOTLYENV=window.PLOTLYENV || {};                                    if (document.getElementById(\"a85142aa-b64a-4972-addb-b1a154fa8884\")) {                    Plotly.newPlot(                        \"a85142aa-b64a-4972-addb-b1a154fa8884\",                        [{\"coloraxis\":\"coloraxis\",\"name\":\"0\",\"z\":[[0.016409479081630707,0.03493637219071388,0.030728893354535103,0.004776289686560631,0.021499089896678925,-0.006429226137697697,-0.10702082514762878,0.09513944387435913,0.02775697037577629,0.048033274710178375,-0.021601885557174683,0.016842611134052277],[0.0006717126816511154,-0.012564499862492085,-0.021560560911893845,0.01680447906255722,-0.051961373537778854,0.001902235671877861,0.07758602499961853,0.001316276378929615,-0.01650451123714447,0.009966699406504631,-0.03914806991815567,-0.007699392735958099],[0.038706712424755096,0.019013244658708572,0.028419489040970802,0.0326288603246212,-0.03326334431767464,0.0027496772818267345,0.04685644060373306,0.04662930220365524,0.04027610272169113,0.014834001660346985,0.05001959204673767,-0.046760354191064835],[0.005339168012142181,-0.03680731728672981,-0.20868496596813202,0.05295638367533684,-0.03228362649679184,0.005773345939815044,-0.02694101817905903,-0.034535232931375504,-0.05129024386405945,-0.061457693576812744,0.017736956477165222,-0.03202641382813454],[-0.06043889373540878,-0.04142897203564644,-0.025405311957001686,0.06298629939556122,0.00813126191496849,-0.10057385265827179,-0.016532203182578087,0.0028554853051900864,0.024740111082792282,0.016319334506988525,-0.061788931488990784,0.0746517926454544],[0.06079830229282379,-0.03523680940270424,0.02071458101272583,-0.12049274146556854,0.04558036848902702,0.004231078550219536,-0.0005907714366912842,0.0031823241151869297,-0.1441987305879593,-0.0016231759218499064,0.013988836668431759,0.010932832956314087],[-0.053841304033994675,-0.022549793124198914,0.050045013427734375,-0.02965015545487404,-0.07121836394071579,-0.16932636499404907,0.0,-0.10743142664432526,-0.00474192388355732,-0.004373564384877682,0.019574714824557304,-0.00787845253944397],[-0.014310743659734726,0.00881775002926588,0.0,0.014924653805792332,0.010115482844412327,0.058343902230262756,0.00778904277831316,-0.012380426749587059,0.11794263124465942,0.0,-0.026368174701929092,0.16875573992729187],[0.003489735769107938,0.3137916624546051,0.486013799905777,0.001444464549422264,0.06312105804681778,0.018452806398272514,-0.0070612686686217785,-0.05133732780814171,0.22814251482486725,-0.0785650759935379,1.9334092140197754,0.18906812369823456],[0.015298418700695038,-0.4729599058628082,0.025474410504102707,0.10893496125936508,0.2859283983707428,-0.3194567561149597,0.227206289768219,0.23157238960266113,0.1815963089466095,0.06639496237039566,-0.002011795062571764,-0.0032339992467314005],[0.00021145562641322613,0.5650625228881836,-0.06065855920314789,0.005869193468242884,0.026542602106928825,0.1356084644794464,-0.006900391075760126,0.7977038621902466,0.3459429442882538,0.004560407716780901,0.008036239072680473,0.09649284183979034],[0.17913660407066345,0.14124175906181335,0.04433535039424896,0.013121461495757103,0.013834835961461067,0.43649351596832275,0.15851256251335144,0.022701065987348557,0.10377201437950134,0.1873791515827179,0.3567788004875183,0.10316319763660431]],\"type\":\"heatmap\",\"xaxis\":\"x\",\"yaxis\":\"y\",\"hovertemplate\":\"Head: %{x}<br>Layer: %{y}<br>color: %{z}<extra></extra>\"}],                        {\"template\":{\"data\":{\"bar\":[{\"error_x\":{\"color\":\"#2a3f5f\"},\"error_y\":{\"color\":\"#2a3f5f\"},\"marker\":{\"line\":{\"color\":\"#E5ECF6\",\"width\":0.5},\"pattern\":{\"fillmode\":\"overlay\",\"size\":10,\"solidity\":0.2}},\"type\":\"bar\"}],\"barpolar\":[{\"marker\":{\"line\":{\"color\":\"#E5ECF6\",\"width\":0.5},\"pattern\":{\"fillmode\":\"overlay\",\"size\":10,\"solidity\":0.2}},\"type\":\"barpolar\"}],\"carpet\":[{\"aaxis\":{\"endlinecolor\":\"#2a3f5f\",\"gridcolor\":\"white\",\"linecolor\":\"white\",\"minorgridcolor\":\"white\",\"startlinecolor\":\"#2a3f5f\"},\"baxis\":{\"endlinecolor\":\"#2a3f5f\",\"gridcolor\":\"white\",\"linecolor\":\"white\",\"minorgridcolor\":\"white\",\"startlinecolor\":\"#2a3f5f\"},\"type\":\"carpet\"}],\"choropleth\":[{\"colorbar\":{\"outlinewidth\":0,\"ticks\":\"\"},\"type\":\"choropleth\"}],\"contour\":[{\"colorbar\":{\"outlinewidth\":0,\"ticks\":\"\"},\"colorscale\":[[0.0,\"#0d0887\"],[0.1111111111111111,\"#46039f\"],[0.2222222222222222,\"#7201a8\"],[0.3333333333333333,\"#9c179e\"],[0.4444444444444444,\"#bd3786\"],[0.5555555555555556,\"#d8576b\"],[0.6666666666666666,\"#ed7953\"],[0.7777777777777778,\"#fb9f3a\"],[0.8888888888888888,\"#fdca26\"],[1.0,\"#f0f921\"]],\"type\":\"contour\"}],\"contourcarpet\":[{\"colorbar\":{\"outlinewidth\":0,\"ticks\":\"\"},\"type\":\"contourcarpet\"}],\"heatmap\":[{\"colorbar\":{\"outlinewidth\":0,\"ticks\":\"\"},\"colorscale\":[[0.0,\"#0d0887\"],[0.1111111111111111,\"#46039f\"],[0.2222222222222222,\"#7201a8\"],[0.3333333333333333,\"#9c179e\"],[0.4444444444444444,\"#bd3786\"],[0.5555555555555556,\"#d8576b\"],[0.6666666666666666,\"#ed7953\"],[0.7777777777777778,\"#fb9f3a\"],[0.8888888888888888,\"#fdca26\"],[1.0,\"#f0f921\"]],\"type\":\"heatmap\"}],\"heatmapgl\":[{\"colorbar\":{\"outlinewidth\":0,\"ticks\":\"\"},\"colorscale\":[[0.0,\"#0d0887\"],[0.1111111111111111,\"#46039f\"],[0.2222222222222222,\"#7201a8\"],[0.3333333333333333,\"#9c179e\"],[0.4444444444444444,\"#bd3786\"],[0.5555555555555556,\"#d8576b\"],[0.6666666666666666,\"#ed7953\"],[0.7777777777777778,\"#fb9f3a\"],[0.8888888888888888,\"#fdca26\"],[1.0,\"#f0f921\"]],\"type\":\"heatmapgl\"}],\"histogram\":[{\"marker\":{\"pattern\":{\"fillmode\":\"overlay\",\"size\":10,\"solidity\":0.2}},\"type\":\"histogram\"}],\"histogram2d\":[{\"colorbar\":{\"outlinewidth\":0,\"ticks\":\"\"},\"colorscale\":[[0.0,\"#0d0887\"],[0.1111111111111111,\"#46039f\"],[0.2222222222222222,\"#7201a8\"],[0.3333333333333333,\"#9c179e\"],[0.4444444444444444,\"#bd3786\"],[0.5555555555555556,\"#d8576b\"],[0.6666666666666666,\"#ed7953\"],[0.7777777777777778,\"#fb9f3a\"],[0.8888888888888888,\"#fdca26\"],[1.0,\"#f0f921\"]],\"type\":\"histogram2d\"}],\"histogram2dcontour\":[{\"colorbar\":{\"outlinewidth\":0,\"ticks\":\"\"},\"colorscale\":[[0.0,\"#0d0887\"],[0.1111111111111111,\"#46039f\"],[0.2222222222222222,\"#7201a8\"],[0.3333333333333333,\"#9c179e\"],[0.4444444444444444,\"#bd3786\"],[0.5555555555555556,\"#d8576b\"],[0.6666666666666666,\"#ed7953\"],[0.7777777777777778,\"#fb9f3a\"],[0.8888888888888888,\"#fdca26\"],[1.0,\"#f0f921\"]],\"type\":\"histogram2dcontour\"}],\"mesh3d\":[{\"colorbar\":{\"outlinewidth\":0,\"ticks\":\"\"},\"type\":\"mesh3d\"}],\"parcoords\":[{\"line\":{\"colorbar\":{\"outlinewidth\":0,\"ticks\":\"\"}},\"type\":\"parcoords\"}],\"pie\":[{\"automargin\":true,\"type\":\"pie\"}],\"scatter\":[{\"marker\":{\"colorbar\":{\"outlinewidth\":0,\"ticks\":\"\"}},\"type\":\"scatter\"}],\"scatter3d\":[{\"line\":{\"colorbar\":{\"outlinewidth\":0,\"ticks\":\"\"}},\"marker\":{\"colorbar\":{\"outlinewidth\":0,\"ticks\":\"\"}},\"type\":\"scatter3d\"}],\"scattercarpet\":[{\"marker\":{\"colorbar\":{\"outlinewidth\":0,\"ticks\":\"\"}},\"type\":\"scattercarpet\"}],\"scattergeo\":[{\"marker\":{\"colorbar\":{\"outlinewidth\":0,\"ticks\":\"\"}},\"type\":\"scattergeo\"}],\"scattergl\":[{\"marker\":{\"colorbar\":{\"outlinewidth\":0,\"ticks\":\"\"}},\"type\":\"scattergl\"}],\"scattermapbox\":[{\"marker\":{\"colorbar\":{\"outlinewidth\":0,\"ticks\":\"\"}},\"type\":\"scattermapbox\"}],\"scatterpolar\":[{\"marker\":{\"colorbar\":{\"outlinewidth\":0,\"ticks\":\"\"}},\"type\":\"scatterpolar\"}],\"scatterpolargl\":[{\"marker\":{\"colorbar\":{\"outlinewidth\":0,\"ticks\":\"\"}},\"type\":\"scatterpolargl\"}],\"scatterternary\":[{\"marker\":{\"colorbar\":{\"outlinewidth\":0,\"ticks\":\"\"}},\"type\":\"scatterternary\"}],\"surface\":[{\"colorbar\":{\"outlinewidth\":0,\"ticks\":\"\"},\"colorscale\":[[0.0,\"#0d0887\"],[0.1111111111111111,\"#46039f\"],[0.2222222222222222,\"#7201a8\"],[0.3333333333333333,\"#9c179e\"],[0.4444444444444444,\"#bd3786\"],[0.5555555555555556,\"#d8576b\"],[0.6666666666666666,\"#ed7953\"],[0.7777777777777778,\"#fb9f3a\"],[0.8888888888888888,\"#fdca26\"],[1.0,\"#f0f921\"]],\"type\":\"surface\"}],\"table\":[{\"cells\":{\"fill\":{\"color\":\"#EBF0F8\"},\"line\":{\"color\":\"white\"}},\"header\":{\"fill\":{\"color\":\"#C8D4E3\"},\"line\":{\"color\":\"white\"}},\"type\":\"table\"}]},\"layout\":{\"annotationdefaults\":{\"arrowcolor\":\"#2a3f5f\",\"arrowhead\":0,\"arrowwidth\":1},\"autotypenumbers\":\"strict\",\"coloraxis\":{\"colorbar\":{\"outlinewidth\":0,\"ticks\":\"\"}},\"colorscale\":{\"diverging\":[[0,\"#8e0152\"],[0.1,\"#c51b7d\"],[0.2,\"#de77ae\"],[0.3,\"#f1b6da\"],[0.4,\"#fde0ef\"],[0.5,\"#f7f7f7\"],[0.6,\"#e6f5d0\"],[0.7,\"#b8e186\"],[0.8,\"#7fbc41\"],[0.9,\"#4d9221\"],[1,\"#276419\"]],\"sequential\":[[0.0,\"#0d0887\"],[0.1111111111111111,\"#46039f\"],[0.2222222222222222,\"#7201a8\"],[0.3333333333333333,\"#9c179e\"],[0.4444444444444444,\"#bd3786\"],[0.5555555555555556,\"#d8576b\"],[0.6666666666666666,\"#ed7953\"],[0.7777777777777778,\"#fb9f3a\"],[0.8888888888888888,\"#fdca26\"],[1.0,\"#f0f921\"]],\"sequentialminus\":[[0.0,\"#0d0887\"],[0.1111111111111111,\"#46039f\"],[0.2222222222222222,\"#7201a8\"],[0.3333333333333333,\"#9c179e\"],[0.4444444444444444,\"#bd3786\"],[0.5555555555555556,\"#d8576b\"],[0.6666666666666666,\"#ed7953\"],[0.7777777777777778,\"#fb9f3a\"],[0.8888888888888888,\"#fdca26\"],[1.0,\"#f0f921\"]]},\"colorway\":[\"#636efa\",\"#EF553B\",\"#00cc96\",\"#ab63fa\",\"#FFA15A\",\"#19d3f3\",\"#FF6692\",\"#B6E880\",\"#FF97FF\",\"#FECB52\"],\"font\":{\"color\":\"#2a3f5f\"},\"geo\":{\"bgcolor\":\"white\",\"lakecolor\":\"white\",\"landcolor\":\"#E5ECF6\",\"showlakes\":true,\"showland\":true,\"subunitcolor\":\"white\"},\"hoverlabel\":{\"align\":\"left\"},\"hovermode\":\"closest\",\"mapbox\":{\"style\":\"light\"},\"paper_bgcolor\":\"white\",\"plot_bgcolor\":\"#E5ECF6\",\"polar\":{\"angularaxis\":{\"gridcolor\":\"white\",\"linecolor\":\"white\",\"ticks\":\"\"},\"bgcolor\":\"#E5ECF6\",\"radialaxis\":{\"gridcolor\":\"white\",\"linecolor\":\"white\",\"ticks\":\"\"}},\"scene\":{\"xaxis\":{\"backgroundcolor\":\"#E5ECF6\",\"gridcolor\":\"white\",\"gridwidth\":2,\"linecolor\":\"white\",\"showbackground\":true,\"ticks\":\"\",\"zerolinecolor\":\"white\"},\"yaxis\":{\"backgroundcolor\":\"#E5ECF6\",\"gridcolor\":\"white\",\"gridwidth\":2,\"linecolor\":\"white\",\"showbackground\":true,\"ticks\":\"\",\"zerolinecolor\":\"white\"},\"zaxis\":{\"backgroundcolor\":\"#E5ECF6\",\"gridcolor\":\"white\",\"gridwidth\":2,\"linecolor\":\"white\",\"showbackground\":true,\"ticks\":\"\",\"zerolinecolor\":\"white\"}},\"shapedefaults\":{\"line\":{\"color\":\"#2a3f5f\"}},\"ternary\":{\"aaxis\":{\"gridcolor\":\"white\",\"linecolor\":\"white\",\"ticks\":\"\"},\"baxis\":{\"gridcolor\":\"white\",\"linecolor\":\"white\",\"ticks\":\"\"},\"bgcolor\":\"#E5ECF6\",\"caxis\":{\"gridcolor\":\"white\",\"linecolor\":\"white\",\"ticks\":\"\"}},\"title\":{\"x\":0.05},\"xaxis\":{\"automargin\":true,\"gridcolor\":\"white\",\"linecolor\":\"white\",\"ticks\":\"\",\"title\":{\"standoff\":15},\"zerolinecolor\":\"white\",\"zerolinewidth\":2},\"yaxis\":{\"automargin\":true,\"gridcolor\":\"white\",\"linecolor\":\"white\",\"ticks\":\"\",\"title\":{\"standoff\":15},\"zerolinecolor\":\"white\",\"zerolinewidth\":2}}},\"xaxis\":{\"anchor\":\"y\",\"domain\":[0.0,1.0],\"title\":{\"text\":\"x\"}},\"yaxis\":{\"anchor\":\"x\",\"domain\":[0.0,1.0],\"autorange\":\"reversed\",\"title\":{\"text\":\"y\"}},\"coloraxis\":{\"colorscale\":[[0.0,\"rgb(103,0,31)\"],[0.1,\"rgb(178,24,43)\"],[0.2,\"rgb(214,96,77)\"],[0.3,\"rgb(244,165,130)\"],[0.4,\"rgb(253,219,199)\"],[0.5,\"rgb(247,247,247)\"],[0.6,\"rgb(209,229,240)\"],[0.7,\"rgb(146,197,222)\"],[0.8,\"rgb(67,147,195)\"],[0.9,\"rgb(33,102,172)\"],[1.0,\"rgb(5,48,97)\"]],\"cmid\":0.0},\"margin\":{\"t\":60}},                        {\"responsive\": true}                    ).then(function(){\n",
              "                            \n",
              "var gd = document.getElementById('a85142aa-b64a-4972-addb-b1a154fa8884');\n",
              "var x = new MutationObserver(function (mutations, observer) {{\n",
              "        var display = window.getComputedStyle(gd).display;\n",
              "        if (!display || display === 'none') {{\n",
              "            console.log([gd, 'removed!']);\n",
              "            Plotly.purge(gd);\n",
              "            observer.disconnect();\n",
              "        }}\n",
              "}});\n",
              "\n",
              "// Listen for the removal of the full notebook cells\n",
              "var notebookContainer = gd.closest('#notebook-container');\n",
              "if (notebookContainer) {{\n",
              "    x.observe(notebookContainer, {childList: true});\n",
              "}}\n",
              "\n",
              "// Listen for the clearing of the current output cell\n",
              "var outputEl = gd.closest('.output');\n",
              "if (outputEl) {{\n",
              "    x.observe(outputEl, {childList: true});\n",
              "}}\n",
              "\n",
              "                        })                };                            </script>        </div>\n",
              "</body>\n",
              "</html>"
            ]
          },
          "metadata": {},
          "output_type": "display_data"
        },
        {
          "data": {
            "text/html": [
              "<html>\n",
              "<head><meta charset=\"utf-8\" /></head>\n",
              "<body>\n",
              "    <div>            <script src=\"https://cdnjs.cloudflare.com/ajax/libs/mathjax/2.7.5/MathJax.js?config=TeX-AMS-MML_SVG\"></script><script type=\"text/javascript\">if (window.MathJax) {MathJax.Hub.Config({SVG: {font: \"STIX-Web\"}});}</script>                <script type=\"text/javascript\">window.PlotlyConfig = {MathJaxConfig: 'local'};</script>\n",
              "        <script src=\"https://cdn.plot.ly/plotly-2.8.3.min.js\"></script>                <div id=\"4fd2d51e-15fe-485b-99bb-6426f8aa5e85\" class=\"plotly-graph-div\" style=\"height:525px; width:100%;\"></div>            <script type=\"text/javascript\">                                    window.PLOTLYENV=window.PLOTLYENV || {};                                    if (document.getElementById(\"4fd2d51e-15fe-485b-99bb-6426f8aa5e85\")) {                    Plotly.newPlot(                        \"4fd2d51e-15fe-485b-99bb-6426f8aa5e85\",                        [{\"hovertemplate\":\"<b>%{hovertext}</b><br><br>Ablated=%{x}<br>Original=%{y}<extra></extra>\",\"hovertext\":[\"L0H0\",\"L0H1\",\"L0H2\",\"L0H3\",\"L0H4\",\"L0H5\",\"L0H6\",\"L0H7\",\"L0H8\",\"L0H9\",\"L0H10\",\"L0H11\",\"L1H0\",\"L1H1\",\"L1H2\",\"L1H3\",\"L1H4\",\"L1H5\",\"L1H6\",\"L1H7\",\"L1H8\",\"L1H9\",\"L1H10\",\"L1H11\",\"L2H0\",\"L2H1\",\"L2H2\",\"L2H3\",\"L2H4\",\"L2H5\",\"L2H6\",\"L2H7\",\"L2H8\",\"L2H9\",\"L2H10\",\"L2H11\",\"L3H0\",\"L3H1\",\"L3H2\",\"L3H3\",\"L3H4\",\"L3H5\",\"L3H6\",\"L3H7\",\"L3H8\",\"L3H9\",\"L3H10\",\"L3H11\",\"L4H0\",\"L4H1\",\"L4H2\",\"L4H3\",\"L4H4\",\"L4H5\",\"L4H6\",\"L4H7\",\"L4H8\",\"L4H9\",\"L4H10\",\"L4H11\",\"L5H0\",\"L5H1\",\"L5H2\",\"L5H3\",\"L5H4\",\"L5H5\",\"L5H6\",\"L5H7\",\"L5H8\",\"L5H9\",\"L5H10\",\"L5H11\",\"L6H0\",\"L6H1\",\"L6H2\",\"L6H3\",\"L6H4\",\"L6H5\",\"L6H6\",\"L6H7\",\"L6H8\",\"L6H9\",\"L6H10\",\"L6H11\",\"L7H0\",\"L7H1\",\"L7H2\",\"L7H3\",\"L7H4\",\"L7H5\",\"L7H6\",\"L7H7\",\"L7H8\",\"L7H9\",\"L7H10\",\"L7H11\",\"L8H0\",\"L8H1\",\"L8H2\",\"L8H3\",\"L8H4\",\"L8H5\",\"L8H6\",\"L8H7\",\"L8H8\",\"L8H9\",\"L8H10\",\"L8H11\",\"L9H0\",\"L9H1\",\"L9H2\",\"L9H3\",\"L9H4\",\"L9H5\",\"L9H6\",\"L9H7\",\"L9H8\",\"L9H9\",\"L9H10\",\"L9H11\",\"L10H0\",\"L10H1\",\"L10H2\",\"L10H3\",\"L10H4\",\"L10H5\",\"L10H6\",\"L10H7\",\"L10H8\",\"L10H9\",\"L10H10\",\"L10H11\",\"L11H0\",\"L11H1\",\"L11H2\",\"L11H3\",\"L11H4\",\"L11H5\",\"L11H6\",\"L11H7\",\"L11H8\",\"L11H9\",\"L11H10\",\"L11H11\"],\"legendgroup\":\"\",\"marker\":{\"color\":\"#636efa\",\"symbol\":\"circle\"},\"mode\":\"markers\",\"name\":\"\",\"orientation\":\"v\",\"showlegend\":false,\"x\":[0.016409479081630707,0.03493637219071388,0.030728893354535103,0.004776289686560631,0.021499089896678925,-0.006429226137697697,-0.10702082514762878,0.09513944387435913,0.02775697037577629,0.048033274710178375,-0.021601885557174683,0.016842611134052277,0.0006717126816511154,-0.012564499862492085,-0.021560560911893845,0.01680447906255722,-0.051961373537778854,0.001902235671877861,0.07758602499961853,0.001316276378929615,-0.01650451123714447,0.009966699406504631,-0.03914806991815567,-0.007699392735958099,0.038706712424755096,0.019013244658708572,0.028419489040970802,0.0326288603246212,-0.03326334431767464,0.0027496772818267345,0.04685644060373306,0.04662930220365524,0.04027610272169113,0.014834001660346985,0.05001959204673767,-0.046760354191064835,0.005339168012142181,-0.03680731728672981,-0.20868496596813202,0.05295638367533684,-0.03228362649679184,0.005773345939815044,-0.02694101817905903,-0.034535232931375504,-0.05129024386405945,-0.061457693576812744,0.017736956477165222,-0.03202641382813454,-0.06043889373540878,-0.04142897203564644,-0.025405311957001686,0.06298629939556122,0.00813126191496849,-0.10057385265827179,-0.016532203182578087,0.0028554853051900864,0.024740111082792282,0.016319334506988525,-0.061788931488990784,0.0746517926454544,0.06079830229282379,-0.03523680940270424,0.02071458101272583,-0.12049274146556854,0.04558036848902702,0.004231078550219536,-0.0005907714366912842,0.0031823241151869297,-0.1441987305879593,-0.0016231759218499064,0.013988836668431759,0.010932832956314087,-0.053841304033994675,-0.022549793124198914,0.050045013427734375,-0.02965015545487404,-0.07121836394071579,-0.16932636499404907,0.0,-0.10743142664432526,-0.00474192388355732,-0.004373564384877682,0.019574714824557304,-0.00787845253944397,-0.014310743659734726,0.00881775002926588,0.0,0.014924653805792332,0.010115482844412327,0.058343902230262756,0.00778904277831316,-0.012380426749587059,0.11794263124465942,0.0,-0.026368174701929092,0.16875573992729187,0.003489735769107938,0.3137916624546051,0.486013799905777,0.001444464549422264,0.06312105804681778,0.018452806398272514,-0.0070612686686217785,-0.05133732780814171,0.22814251482486725,-0.0785650759935379,1.9334092140197754,0.18906812369823456,0.015298418700695038,-0.4729599058628082,0.025474410504102707,0.10893496125936508,0.2859283983707428,-0.3194567561149597,0.227206289768219,0.23157238960266113,0.1815963089466095,0.06639496237039566,-0.002011795062571764,-0.0032339992467314005,0.00021145562641322613,0.5650625228881836,-0.06065855920314789,0.005869193468242884,0.026542602106928825,0.1356084644794464,-0.006900391075760126,0.7977038621902466,0.3459429442882538,0.004560407716780901,0.008036239072680473,0.09649284183979034,0.17913660407066345,0.14124175906181335,0.04433535039424896,0.013121461495757103,0.013834835961461067,0.43649351596832275,0.15851256251335144,0.022701065987348557,0.10377201437950134,0.1873791515827179,0.3567788004875183,0.10316319763660431],\"xaxis\":\"x\",\"y\":[0.01844014599919319,0.0364738330245018,0.032107044011354446,0.003577851690351963,0.022146858274936676,-0.006213785149157047,-0.11072809994220734,0.09820982813835144,0.029019661247730255,0.04979649558663368,-0.02312171459197998,0.018462516367435455,0.0004348102957010269,-0.01261545717716217,-0.02187211439013481,0.01771482080221176,-0.05438023805618286,0.0013081012293696404,0.08121002465486526,0.001761406660079956,-0.01819225773215294,0.010220235213637352,-0.04138251394033432,-0.00783531740307808,0.041002169251441956,0.019224373623728752,0.029159709811210632,0.033938538283109665,-0.03414476290345192,0.0030613725539296865,0.04920470342040062,0.04862567409873009,0.043245818465948105,0.01608584076166153,0.051386818289756775,-0.04890447109937668,0.006739657372236252,-0.03734734281897545,-0.21650370955467224,0.053227365016937256,-0.031965579837560654,0.006032237783074379,-0.027470050379633904,-0.036834966391325,-0.053065404295921326,-0.06366297602653503,0.019351685419678688,-0.03311622887849808,-0.06130316108465195,-0.0427783727645874,-0.026597576215863228,0.06579440087080002,0.008960762992501259,-0.10386206954717636,-0.017222853377461433,0.0032024094834923744,0.026417432352900505,0.01704765483736992,-0.06374742090702057,0.07778431475162506,0.06346756219863892,-0.03530063107609749,0.02115187607705593,-0.12262684106826782,0.04791483283042908,0.004663795232772827,0.0001233406364917755,0.0034008678048849106,-0.1489955335855484,-0.0019283073488622904,0.01511321309953928,0.010932410135865211,-0.056761715561151505,-0.023269692435860634,0.05234529450535774,-0.03167383000254631,-0.07431825995445251,-0.1739307940006256,0.3508076071739197,-0.11153577268123627,-0.005762999877333641,-0.004473904147744179,0.020329464226961136,-0.00849364884197712,-0.018262013792991638,0.01625528745353222,-0.08133119344711304,0.02147458679974079,0.00968343485146761,0.049981046468019485,0.01969565451145172,-0.010411754250526428,0.18687602877616882,0.05960730463266373,-0.021071255207061768,0.2730099558830261,0.0037567990366369486,0.3221367597579956,0.7598840594291687,0.0014987257309257984,0.07191638648509979,0.024439087137579918,-0.03739050403237343,-0.04585765302181244,0.283609539270401,-0.09422069787979126,3.3484582901000977,0.232211172580719,0.012749038636684418,-0.6198930740356445,0.04762302711606026,0.10217529535293579,0.29342061281204224,-0.596556544303894,0.4463837444782257,0.24470697343349457,0.18244090676307678,0.08299436420202255,-0.0019992562010884285,-0.0034909758251160383,0.004597994964569807,0.5813180208206177,-0.16531185805797577,-0.0008092271164059639,0.04794204235076904,0.1401897668838501,-0.007062213961035013,1.083420753479004,0.36342713236808777,0.010101533494889736,0.058442372828722,0.09121476113796234,0.281343936920166,0.18383878469467163,0.06189626455307007,0.013302374631166458,0.013149397447705269,0.4180866479873657,0.17829163372516632,0.0819823294878006,0.13144637644290924,0.18351833522319794,0.36885279417037964,0.1210736483335495],\"yaxis\":\"y\",\"type\":\"scatter\"}],                        {\"template\":{\"data\":{\"bar\":[{\"error_x\":{\"color\":\"#2a3f5f\"},\"error_y\":{\"color\":\"#2a3f5f\"},\"marker\":{\"line\":{\"color\":\"#E5ECF6\",\"width\":0.5},\"pattern\":{\"fillmode\":\"overlay\",\"size\":10,\"solidity\":0.2}},\"type\":\"bar\"}],\"barpolar\":[{\"marker\":{\"line\":{\"color\":\"#E5ECF6\",\"width\":0.5},\"pattern\":{\"fillmode\":\"overlay\",\"size\":10,\"solidity\":0.2}},\"type\":\"barpolar\"}],\"carpet\":[{\"aaxis\":{\"endlinecolor\":\"#2a3f5f\",\"gridcolor\":\"white\",\"linecolor\":\"white\",\"minorgridcolor\":\"white\",\"startlinecolor\":\"#2a3f5f\"},\"baxis\":{\"endlinecolor\":\"#2a3f5f\",\"gridcolor\":\"white\",\"linecolor\":\"white\",\"minorgridcolor\":\"white\",\"startlinecolor\":\"#2a3f5f\"},\"type\":\"carpet\"}],\"choropleth\":[{\"colorbar\":{\"outlinewidth\":0,\"ticks\":\"\"},\"type\":\"choropleth\"}],\"contour\":[{\"colorbar\":{\"outlinewidth\":0,\"ticks\":\"\"},\"colorscale\":[[0.0,\"#0d0887\"],[0.1111111111111111,\"#46039f\"],[0.2222222222222222,\"#7201a8\"],[0.3333333333333333,\"#9c179e\"],[0.4444444444444444,\"#bd3786\"],[0.5555555555555556,\"#d8576b\"],[0.6666666666666666,\"#ed7953\"],[0.7777777777777778,\"#fb9f3a\"],[0.8888888888888888,\"#fdca26\"],[1.0,\"#f0f921\"]],\"type\":\"contour\"}],\"contourcarpet\":[{\"colorbar\":{\"outlinewidth\":0,\"ticks\":\"\"},\"type\":\"contourcarpet\"}],\"heatmap\":[{\"colorbar\":{\"outlinewidth\":0,\"ticks\":\"\"},\"colorscale\":[[0.0,\"#0d0887\"],[0.1111111111111111,\"#46039f\"],[0.2222222222222222,\"#7201a8\"],[0.3333333333333333,\"#9c179e\"],[0.4444444444444444,\"#bd3786\"],[0.5555555555555556,\"#d8576b\"],[0.6666666666666666,\"#ed7953\"],[0.7777777777777778,\"#fb9f3a\"],[0.8888888888888888,\"#fdca26\"],[1.0,\"#f0f921\"]],\"type\":\"heatmap\"}],\"heatmapgl\":[{\"colorbar\":{\"outlinewidth\":0,\"ticks\":\"\"},\"colorscale\":[[0.0,\"#0d0887\"],[0.1111111111111111,\"#46039f\"],[0.2222222222222222,\"#7201a8\"],[0.3333333333333333,\"#9c179e\"],[0.4444444444444444,\"#bd3786\"],[0.5555555555555556,\"#d8576b\"],[0.6666666666666666,\"#ed7953\"],[0.7777777777777778,\"#fb9f3a\"],[0.8888888888888888,\"#fdca26\"],[1.0,\"#f0f921\"]],\"type\":\"heatmapgl\"}],\"histogram\":[{\"marker\":{\"pattern\":{\"fillmode\":\"overlay\",\"size\":10,\"solidity\":0.2}},\"type\":\"histogram\"}],\"histogram2d\":[{\"colorbar\":{\"outlinewidth\":0,\"ticks\":\"\"},\"colorscale\":[[0.0,\"#0d0887\"],[0.1111111111111111,\"#46039f\"],[0.2222222222222222,\"#7201a8\"],[0.3333333333333333,\"#9c179e\"],[0.4444444444444444,\"#bd3786\"],[0.5555555555555556,\"#d8576b\"],[0.6666666666666666,\"#ed7953\"],[0.7777777777777778,\"#fb9f3a\"],[0.8888888888888888,\"#fdca26\"],[1.0,\"#f0f921\"]],\"type\":\"histogram2d\"}],\"histogram2dcontour\":[{\"colorbar\":{\"outlinewidth\":0,\"ticks\":\"\"},\"colorscale\":[[0.0,\"#0d0887\"],[0.1111111111111111,\"#46039f\"],[0.2222222222222222,\"#7201a8\"],[0.3333333333333333,\"#9c179e\"],[0.4444444444444444,\"#bd3786\"],[0.5555555555555556,\"#d8576b\"],[0.6666666666666666,\"#ed7953\"],[0.7777777777777778,\"#fb9f3a\"],[0.8888888888888888,\"#fdca26\"],[1.0,\"#f0f921\"]],\"type\":\"histogram2dcontour\"}],\"mesh3d\":[{\"colorbar\":{\"outlinewidth\":0,\"ticks\":\"\"},\"type\":\"mesh3d\"}],\"parcoords\":[{\"line\":{\"colorbar\":{\"outlinewidth\":0,\"ticks\":\"\"}},\"type\":\"parcoords\"}],\"pie\":[{\"automargin\":true,\"type\":\"pie\"}],\"scatter\":[{\"marker\":{\"colorbar\":{\"outlinewidth\":0,\"ticks\":\"\"}},\"type\":\"scatter\"}],\"scatter3d\":[{\"line\":{\"colorbar\":{\"outlinewidth\":0,\"ticks\":\"\"}},\"marker\":{\"colorbar\":{\"outlinewidth\":0,\"ticks\":\"\"}},\"type\":\"scatter3d\"}],\"scattercarpet\":[{\"marker\":{\"colorbar\":{\"outlinewidth\":0,\"ticks\":\"\"}},\"type\":\"scattercarpet\"}],\"scattergeo\":[{\"marker\":{\"colorbar\":{\"outlinewidth\":0,\"ticks\":\"\"}},\"type\":\"scattergeo\"}],\"scattergl\":[{\"marker\":{\"colorbar\":{\"outlinewidth\":0,\"ticks\":\"\"}},\"type\":\"scattergl\"}],\"scattermapbox\":[{\"marker\":{\"colorbar\":{\"outlinewidth\":0,\"ticks\":\"\"}},\"type\":\"scattermapbox\"}],\"scatterpolar\":[{\"marker\":{\"colorbar\":{\"outlinewidth\":0,\"ticks\":\"\"}},\"type\":\"scatterpolar\"}],\"scatterpolargl\":[{\"marker\":{\"colorbar\":{\"outlinewidth\":0,\"ticks\":\"\"}},\"type\":\"scatterpolargl\"}],\"scatterternary\":[{\"marker\":{\"colorbar\":{\"outlinewidth\":0,\"ticks\":\"\"}},\"type\":\"scatterternary\"}],\"surface\":[{\"colorbar\":{\"outlinewidth\":0,\"ticks\":\"\"},\"colorscale\":[[0.0,\"#0d0887\"],[0.1111111111111111,\"#46039f\"],[0.2222222222222222,\"#7201a8\"],[0.3333333333333333,\"#9c179e\"],[0.4444444444444444,\"#bd3786\"],[0.5555555555555556,\"#d8576b\"],[0.6666666666666666,\"#ed7953\"],[0.7777777777777778,\"#fb9f3a\"],[0.8888888888888888,\"#fdca26\"],[1.0,\"#f0f921\"]],\"type\":\"surface\"}],\"table\":[{\"cells\":{\"fill\":{\"color\":\"#EBF0F8\"},\"line\":{\"color\":\"white\"}},\"header\":{\"fill\":{\"color\":\"#C8D4E3\"},\"line\":{\"color\":\"white\"}},\"type\":\"table\"}]},\"layout\":{\"annotationdefaults\":{\"arrowcolor\":\"#2a3f5f\",\"arrowhead\":0,\"arrowwidth\":1},\"autotypenumbers\":\"strict\",\"coloraxis\":{\"colorbar\":{\"outlinewidth\":0,\"ticks\":\"\"}},\"colorscale\":{\"diverging\":[[0,\"#8e0152\"],[0.1,\"#c51b7d\"],[0.2,\"#de77ae\"],[0.3,\"#f1b6da\"],[0.4,\"#fde0ef\"],[0.5,\"#f7f7f7\"],[0.6,\"#e6f5d0\"],[0.7,\"#b8e186\"],[0.8,\"#7fbc41\"],[0.9,\"#4d9221\"],[1,\"#276419\"]],\"sequential\":[[0.0,\"#0d0887\"],[0.1111111111111111,\"#46039f\"],[0.2222222222222222,\"#7201a8\"],[0.3333333333333333,\"#9c179e\"],[0.4444444444444444,\"#bd3786\"],[0.5555555555555556,\"#d8576b\"],[0.6666666666666666,\"#ed7953\"],[0.7777777777777778,\"#fb9f3a\"],[0.8888888888888888,\"#fdca26\"],[1.0,\"#f0f921\"]],\"sequentialminus\":[[0.0,\"#0d0887\"],[0.1111111111111111,\"#46039f\"],[0.2222222222222222,\"#7201a8\"],[0.3333333333333333,\"#9c179e\"],[0.4444444444444444,\"#bd3786\"],[0.5555555555555556,\"#d8576b\"],[0.6666666666666666,\"#ed7953\"],[0.7777777777777778,\"#fb9f3a\"],[0.8888888888888888,\"#fdca26\"],[1.0,\"#f0f921\"]]},\"colorway\":[\"#636efa\",\"#EF553B\",\"#00cc96\",\"#ab63fa\",\"#FFA15A\",\"#19d3f3\",\"#FF6692\",\"#B6E880\",\"#FF97FF\",\"#FECB52\"],\"font\":{\"color\":\"#2a3f5f\"},\"geo\":{\"bgcolor\":\"white\",\"lakecolor\":\"white\",\"landcolor\":\"#E5ECF6\",\"showlakes\":true,\"showland\":true,\"subunitcolor\":\"white\"},\"hoverlabel\":{\"align\":\"left\"},\"hovermode\":\"closest\",\"mapbox\":{\"style\":\"light\"},\"paper_bgcolor\":\"white\",\"plot_bgcolor\":\"#E5ECF6\",\"polar\":{\"angularaxis\":{\"gridcolor\":\"white\",\"linecolor\":\"white\",\"ticks\":\"\"},\"bgcolor\":\"#E5ECF6\",\"radialaxis\":{\"gridcolor\":\"white\",\"linecolor\":\"white\",\"ticks\":\"\"}},\"scene\":{\"xaxis\":{\"backgroundcolor\":\"#E5ECF6\",\"gridcolor\":\"white\",\"gridwidth\":2,\"linecolor\":\"white\",\"showbackground\":true,\"ticks\":\"\",\"zerolinecolor\":\"white\"},\"yaxis\":{\"backgroundcolor\":\"#E5ECF6\",\"gridcolor\":\"white\",\"gridwidth\":2,\"linecolor\":\"white\",\"showbackground\":true,\"ticks\":\"\",\"zerolinecolor\":\"white\"},\"zaxis\":{\"backgroundcolor\":\"#E5ECF6\",\"gridcolor\":\"white\",\"gridwidth\":2,\"linecolor\":\"white\",\"showbackground\":true,\"ticks\":\"\",\"zerolinecolor\":\"white\"}},\"shapedefaults\":{\"line\":{\"color\":\"#2a3f5f\"}},\"ternary\":{\"aaxis\":{\"gridcolor\":\"white\",\"linecolor\":\"white\",\"ticks\":\"\"},\"baxis\":{\"gridcolor\":\"white\",\"linecolor\":\"white\",\"ticks\":\"\"},\"bgcolor\":\"#E5ECF6\",\"caxis\":{\"gridcolor\":\"white\",\"linecolor\":\"white\",\"ticks\":\"\"}},\"title\":{\"x\":0.05},\"xaxis\":{\"automargin\":true,\"gridcolor\":\"white\",\"linecolor\":\"white\",\"ticks\":\"\",\"title\":{\"standoff\":15},\"zerolinecolor\":\"white\",\"zerolinewidth\":2},\"yaxis\":{\"automargin\":true,\"gridcolor\":\"white\",\"linecolor\":\"white\",\"ticks\":\"\",\"title\":{\"standoff\":15},\"zerolinecolor\":\"white\",\"zerolinewidth\":2}}},\"xaxis\":{\"anchor\":\"y\",\"domain\":[0.0,1.0],\"title\":{\"text\":\"Ablated\"},\"range\":[-3,3]},\"yaxis\":{\"anchor\":\"x\",\"domain\":[0.0,1.0],\"title\":{\"text\":\"Original\"},\"range\":[-3,3]},\"legend\":{\"tracegroupgap\":0},\"title\":{\"text\":\"Original vs Post-Ablation Direct Logit Attribution of Heads\"}},                        {\"responsive\": true}                    ).then(function(){\n",
              "                            \n",
              "var gd = document.getElementById('4fd2d51e-15fe-485b-99bb-6426f8aa5e85');\n",
              "var x = new MutationObserver(function (mutations, observer) {{\n",
              "        var display = window.getComputedStyle(gd).display;\n",
              "        if (!display || display === 'none') {{\n",
              "            console.log([gd, 'removed!']);\n",
              "            Plotly.purge(gd);\n",
              "            observer.disconnect();\n",
              "        }}\n",
              "}});\n",
              "\n",
              "// Listen for the removal of the full notebook cells\n",
              "var notebookContainer = gd.closest('#notebook-container');\n",
              "if (notebookContainer) {{\n",
              "    x.observe(notebookContainer, {childList: true});\n",
              "}}\n",
              "\n",
              "// Listen for the clearing of the current output cell\n",
              "var outputEl = gd.closest('.output');\n",
              "if (outputEl) {{\n",
              "    x.observe(outputEl, {childList: true});\n",
              "}}\n",
              "\n",
              "                        })                };                            </script>        </div>\n",
              "</body>\n",
              "</html>"
            ]
          },
          "metadata": {},
          "output_type": "display_data"
        }
      ],
      "source": [
        "per_head_ablated_residual, labels = ablated_cache.stack_head_results(layer=-1, pos_slice=-1, return_labels=True)\n",
        "per_head_ablated_logit_diffs = residual_stack_to_logit_diff(per_head_ablated_residual, ablated_cache)\n",
        "per_head_ablated_logit_diffs = per_head_ablated_logit_diffs.reshape(model.cfg.n_layers, model.cfg.n_heads)\n",
        "imshow(per_head_ablated_logit_diffs, labels={\"x\":\"Head\", \"y\":\"Layer\"})\n",
        "l_scatter(y=per_head_logit_diffs.flatten(), x=per_head_ablated_logit_diffs.flatten(), hover_name=head_labels, range_x=(-3, 3), range_y=(-3, 3), xaxis=\"Ablated\", yaxis=\"Original\", title=\"Original vs Post-Ablation Direct Logit Attribution of Heads\")"
      ]
    },
    {
      "cell_type": "markdown",
      "metadata": {
        "id": "fvgTSZOhg4HF"
      },
      "source": [
        "### Alternate, still in development"
      ]
    },
    {
      "cell_type": "code",
      "execution_count": null,
      "metadata": {
        "id": "JpgtChRdwFOH"
      },
      "outputs": [],
      "source": [
        "def get_patched_layer_output(layer, head_idx, orig_cache, patch_cache):\n",
        "    \"\"\"Patches the target head at the z tensor, and then recomputes and returns attn_out.\n",
        "        The original IOI paper recomputed the entire model, but we can use this shortcut\n",
        "        to only compute the relevant parts.\n",
        "\n",
        "    Args:\n",
        "      layer (int): Layer to be patched.\n",
        "      head (int): Index of head to be patched.\n",
        "      orig_cache\n",
        "      patch_cache\n",
        "\n",
        "    Returns:\n",
        "      torch.Tensor: attn_out, the tensor that would be added to the residual stream.\n",
        "    \"\"\"\n",
        "    layer_z_cache_name = f'blocks.{layer}.attn.hook_z'\n",
        "    layer_z_patched = orig_cache[layer_z_cache_name]\n",
        "    head_z_source = patch_cache[layer_z_cache_name][:, :, head_idx, :]\n",
        "    layer_z_patched[:, :, head_idx, :] = head_z_source\n",
        "\n",
        "    patched_attn_out = einsum(\n",
        "        \"batch query_pos n_heads d_head, n_heads d_head d_model -> batch query_pos d_model\", \n",
        "        layer_z_patched, \n",
        "        model.blocks[layer].attn.W_O) + model.blocks[layer].attn.b_O\n",
        "\n",
        "    return patched_attn_out\n",
        "\n",
        "\n",
        "def get_path_patching_hook(\n",
        "    receiver_weights,\n",
        "    receiver_bias,\n",
        "    sender_layer,\n",
        "    sender_head,\n",
        "    receiver_layer,\n",
        "    receiver_head,\n",
        "    #positions,\n",
        "    orig_cache,\n",
        "    patch_cache\n",
        "):\n",
        "    \"\"\"Gets the patching hook for a given sender and receiver.\n",
        "    \"\"\"\n",
        "    def patch_path(\n",
        "        destination_head_component,\n",
        "        hook,\n",
        "        receiver_weights,\n",
        "        receiver_bias,\n",
        "        sender_layer,\n",
        "        sender_head,\n",
        "        receiver_layer,\n",
        "        receiver_head,\n",
        "        orig_cache,\n",
        "        patch_cache\n",
        "    ):\n",
        "        patched_attn_output = get_patched_layer_output(sender_layer, sender_head, orig_cache, patch_cache)\n",
        "        orig_attn_output_name = f'blocks.{sender_layer}.hook_attn_out'\n",
        "        orig_receiver_ln1_scale_name = f'blocks.{receiver_layer}.ln1.hook_scale'\n",
        "\n",
        "        outputs_diff = patched_attn_output - orig_cache[orig_attn_output_name]\n",
        "        #print(f\"{outputs_diff.shape=}\")\n",
        "        #print(f\"{receiver_weights[receiver_head, :, :].shape=}\")\n",
        "        #print(f\"{destination_head_component[:, :, receiver_head, :].shape=}\")\n",
        "\n",
        "        destination_head_component[:, :, receiver_head, :] = (destination_head_component[:, :, receiver_head, :] \n",
        "                                                              + ((outputs_diff) @ receiver_weights[receiver_head, :, :] \n",
        "                                                                 + receiver_bias[receiver_head]) / orig_cache[orig_receiver_ln1_scale_name])\n",
        "    \n",
        "    return partial(\n",
        "        patch_path, \n",
        "        receiver_weights=receiver_weights, \n",
        "        receiver_bias=receiver_bias, \n",
        "        sender_layer=sender_layer, \n",
        "        sender_head=sender_head, \n",
        "        receiver_layer=receiver_layer, \n",
        "        receiver_head=receiver_head, \n",
        "        orig_cache=orig_cache, \n",
        "        patch_cache=patch_cache)\n",
        "  \n",
        "\n",
        "def run_path_patching_experiment(\n",
        "    model,\n",
        "    orig_tokens,\n",
        "    patch_tokens,\n",
        "    receiver_heads,\n",
        "    param_module_type,\n",
        "    metric_fn,\n",
        "    average=True\n",
        "):  \n",
        "    \"\"\"For each receiver head, tests the effect of each previous head on the given metric.\n",
        "    \"\"\"\n",
        "    results = torch.zeros(model.cfg.n_layers, model.cfg.n_heads, len(receiver_heads), device=\"cuda\", dtype=torch.float32)\n",
        "\n",
        "    orig_logits, orig_cache = model.run_with_cache(orig_tokens)\n",
        "    patch_logits, patch_cache = model.run_with_cache(patch_tokens)\n",
        "    \n",
        "    for i, receiver_head in enumerate(receiver_heads):\n",
        "        receiver_layer, receiver_head_idx = receiver_head\n",
        "        for layer in range(0, receiver_layer):\n",
        "            for head_idx in range(12): # TODO: replace magic number\n",
        "                \n",
        "                # Get receiver parameters\n",
        "                if param_module_type==\"query\":\n",
        "                    receiver_weights = model.blocks[receiver_layer].attn.W_Q\n",
        "                    receiver_bias = model.blocks[receiver_layer].attn.b_Q\n",
        "                elif param_module_type==\"key\":\n",
        "                    receiver_weights = model.blocks[receiver_layer].attn.W_K\n",
        "                    receiver_bias = model.blocks[receiver_layer].attn.b_K\n",
        "                elif param_module_type==\"value\":\n",
        "                    receiver_weights = model.blocks[receiver_layer].attn.W_V\n",
        "                    receiver_bias = model.blocks[receiver_layer].attn.b_V\n",
        "                else:\n",
        "                    raise Exception(\"wrong receiver type!\")\n",
        "                \n",
        "                # Get patching hook\n",
        "                patching_hook = get_path_patching_hook(\n",
        "                    receiver_weights=receiver_weights,\n",
        "                    receiver_bias=receiver_bias,\n",
        "                    sender_layer=layer,\n",
        "                    sender_head=head_idx,\n",
        "                    receiver_layer=receiver_layer,\n",
        "                    receiver_head=receiver_head_idx,\n",
        "                    orig_cache=orig_cache,\n",
        "                    patch_cache=patch_cache\n",
        "                )\n",
        "\n",
        "                # Run one iteration of the experiment\n",
        "                patched_logits = model.run_with_hooks(\n",
        "                    orig_tokens,\n",
        "                    fwd_hooks = [(utils.get_act_name(\"q\", receiver_layer, \"attn\"), \n",
        "                                  patching_hook)],\n",
        "                    return_type = \"logits\"\n",
        "                )\n",
        "                patched_metric_results = metric_fn(patched_logits, answer_token_indices)\n",
        "\n",
        "                # Save results\n",
        "                #print(f\"Effect of layer {layer} head {head_idx} on head {receiver_head}\")\n",
        "                results[layer, head_idx, i] = patched_metric_results\n",
        "    if average:\n",
        "        return results.mean(dim=2)\n",
        "    else:\n",
        "        return results\n"
      ]
    },
    {
      "cell_type": "code",
      "execution_count": null,
      "metadata": {
        "colab": {
          "base_uri": "https://localhost:8080/"
        },
        "id": "R39ML9O9hJlB",
        "outputId": "12609f1f-9e40-4a1b-9d1a-9920a15769c1"
      },
      "outputs": [
        {
          "data": {
            "text/plain": [
              "tensor(-4.3018, device='cuda:0')"
            ]
          },
          "execution_count": 83,
          "metadata": {},
          "output_type": "execute_result"
        }
      ],
      "source": [
        "path_patched_logits = model.run_with_hooks(corrupted_tokens, fwd_hooks=pass_d_hooks)\n",
        "get_logit_diff(path_patched_logits)"
      ]
    },
    {
      "cell_type": "code",
      "execution_count": null,
      "metadata": {
        "colab": {
          "base_uri": "https://localhost:8080/"
        },
        "id": "OkkzvH9I8Dsl",
        "outputId": "1a784d7f-31d4-4c21-db17-f938464b3466"
      },
      "outputs": [
        {
          "data": {
            "text/plain": [
              "tensor(-4.3018, device='cuda:0')"
            ]
          },
          "execution_count": 86,
          "metadata": {},
          "output_type": "execute_result"
        }
      ],
      "source": [
        "get_logit_diff(model(corrupted_tokens))"
      ]
    },
    {
      "cell_type": "code",
      "execution_count": null,
      "metadata": {
        "id": "yJXj_olNkTu8"
      },
      "outputs": [],
      "source": [
        "res = run_path_patching_experiment(\n",
        "    model=model,\n",
        "    orig_tokens=corrupted_tokens,\n",
        "    patch_tokens=clean_tokens,\n",
        "    receiver_heads=[(8,9), (8,10)],\n",
        "    param_module_type=\"value\",\n",
        "    metric_fn=ioi_metric,\n",
        ")"
      ]
    },
    {
      "cell_type": "code",
      "execution_count": null,
      "metadata": {
        "colab": {
          "base_uri": "https://localhost:8080/",
          "height": 542
        },
        "id": "pSAB-teumWdR",
        "outputId": "14b55cca-2a62-446b-b44d-0e2497883393"
      },
      "outputs": [
        {
          "data": {
            "text/html": [
              "<html>\n",
              "<head><meta charset=\"utf-8\" /></head>\n",
              "<body>\n",
              "    <div>            <script src=\"https://cdnjs.cloudflare.com/ajax/libs/mathjax/2.7.5/MathJax.js?config=TeX-AMS-MML_SVG\"></script><script type=\"text/javascript\">if (window.MathJax) {MathJax.Hub.Config({SVG: {font: \"STIX-Web\"}});}</script>                <script type=\"text/javascript\">window.PlotlyConfig = {MathJaxConfig: 'local'};</script>\n",
              "        <script src=\"https://cdn.plot.ly/plotly-2.8.3.min.js\"></script>                <div id=\"8d04b1d5-de3f-4584-9ab8-f026fb55bbad\" class=\"plotly-graph-div\" style=\"height:525px; width:100%;\"></div>            <script type=\"text/javascript\">                                    window.PLOTLYENV=window.PLOTLYENV || {};                                    if (document.getElementById(\"8d04b1d5-de3f-4584-9ab8-f026fb55bbad\")) {                    Plotly.newPlot(                        \"8d04b1d5-de3f-4584-9ab8-f026fb55bbad\",                        [{\"coloraxis\":\"coloraxis\",\"name\":\"0\",\"z\":[[-3.777067831833847e-05,-4.0043018088908866e-05,-3.2893469324335456e-05,-2.7184913051314652e-05,-3.757670128834434e-05,-3.2311527320416644e-05,-3.3613963751122355e-05,-3.4666998544707894e-05,-2.7517449780134484e-05,-3.5165805456927046e-05,-1.8622082279762253e-05,-2.167033926525619e-05],[3.6024857763550244e-06,2.4663172553118784e-06,2.1337800717446953e-06,-9.144771411229158e-07,-7.509797342208913e-06,8.313429589179577e-07,-6.733877398801269e-06,3.020546046172967e-06,-1.4132829164736904e-06,4.1012917790794745e-06,-8.3134284523112e-07,2.4940286493801977e-06],[-0.00010208891035290435,-9.37477670959197e-05,-9.383090218761936e-05,-9.455139661440626e-05,-9.94563233689405e-05,-8.709702524356544e-05,-9.385861631017178e-05,-0.00010707696492318064,-0.00010461064812261611,-0.00010314194514648989,-9.88743850030005e-05,-8.859344234224409e-05],[0.0001524128601886332,0.00015748405712656677,0.0001538261421956122,0.00015643102233298123,0.0001583985285833478,0.00015507315401919186,0.0001482561492593959,0.00015390927728731185,0.00015410325431730598,0.00015792743943165988,0.00014845012628939003,0.00013750411744695157],[6.057718564989045e-05,5.456380677060224e-05,6.481703167082742e-05,6.337604281725362e-05,5.780604260507971e-05,5.8554251154419035e-05,6.42073864582926e-05,5.617106944555417e-05,5.9524150856304914e-05,5.800002327305265e-05,5.1321567298145965e-05,5.528430119738914e-05],[0.00021684193052351475,0.0002163431199733168,0.00021941908926237375,0.00021637084137182683,0.00022213481133803725,0.00022573729802388698,0.00022279989207163453,0.00022152515884954482,0.00021753471810370684,0.00022127576812636107,0.00022268905013334006,0.00024136654974427074],[0.0005023250705562532,0.0004989166045561433,0.0004929586430080235,0.0005006624269299209,0.0005073131760582328,0.0005066758021712303,0.0005016600480303168,0.0005083662108518183,0.0005104445735923946,0.0005045697325840592,0.0005039323586970568,0.0004990274319425225],[-0.0006856916006654501,-0.0006778492825105786,-0.0006792625645175576,-0.0006781264091841877,-0.0006818674155510962,-0.0006812023930251598,-0.0006842506118118763,-0.0006875205435790122,-0.0006865229806862772,-0.0006825602031312883,-0.0006962219486013055,-0.0006907074130140245],[0.0,0.0,0.0,0.0,0.0,0.0,0.0,0.0,0.0,0.0,0.0,0.0],[0.0,0.0,0.0,0.0,0.0,0.0,0.0,0.0,0.0,0.0,0.0,0.0],[0.0,0.0,0.0,0.0,0.0,0.0,0.0,0.0,0.0,0.0,0.0,0.0],[0.0,0.0,0.0,0.0,0.0,0.0,0.0,0.0,0.0,0.0,0.0,0.0]],\"type\":\"heatmap\",\"xaxis\":\"x\",\"yaxis\":\"y\",\"hovertemplate\":\"x: %{x}<br>y: %{y}<br>color: %{z}<extra></extra>\"}],                        {\"template\":{\"data\":{\"bar\":[{\"error_x\":{\"color\":\"#2a3f5f\"},\"error_y\":{\"color\":\"#2a3f5f\"},\"marker\":{\"line\":{\"color\":\"#E5ECF6\",\"width\":0.5},\"pattern\":{\"fillmode\":\"overlay\",\"size\":10,\"solidity\":0.2}},\"type\":\"bar\"}],\"barpolar\":[{\"marker\":{\"line\":{\"color\":\"#E5ECF6\",\"width\":0.5},\"pattern\":{\"fillmode\":\"overlay\",\"size\":10,\"solidity\":0.2}},\"type\":\"barpolar\"}],\"carpet\":[{\"aaxis\":{\"endlinecolor\":\"#2a3f5f\",\"gridcolor\":\"white\",\"linecolor\":\"white\",\"minorgridcolor\":\"white\",\"startlinecolor\":\"#2a3f5f\"},\"baxis\":{\"endlinecolor\":\"#2a3f5f\",\"gridcolor\":\"white\",\"linecolor\":\"white\",\"minorgridcolor\":\"white\",\"startlinecolor\":\"#2a3f5f\"},\"type\":\"carpet\"}],\"choropleth\":[{\"colorbar\":{\"outlinewidth\":0,\"ticks\":\"\"},\"type\":\"choropleth\"}],\"contour\":[{\"colorbar\":{\"outlinewidth\":0,\"ticks\":\"\"},\"colorscale\":[[0.0,\"#0d0887\"],[0.1111111111111111,\"#46039f\"],[0.2222222222222222,\"#7201a8\"],[0.3333333333333333,\"#9c179e\"],[0.4444444444444444,\"#bd3786\"],[0.5555555555555556,\"#d8576b\"],[0.6666666666666666,\"#ed7953\"],[0.7777777777777778,\"#fb9f3a\"],[0.8888888888888888,\"#fdca26\"],[1.0,\"#f0f921\"]],\"type\":\"contour\"}],\"contourcarpet\":[{\"colorbar\":{\"outlinewidth\":0,\"ticks\":\"\"},\"type\":\"contourcarpet\"}],\"heatmap\":[{\"colorbar\":{\"outlinewidth\":0,\"ticks\":\"\"},\"colorscale\":[[0.0,\"#0d0887\"],[0.1111111111111111,\"#46039f\"],[0.2222222222222222,\"#7201a8\"],[0.3333333333333333,\"#9c179e\"],[0.4444444444444444,\"#bd3786\"],[0.5555555555555556,\"#d8576b\"],[0.6666666666666666,\"#ed7953\"],[0.7777777777777778,\"#fb9f3a\"],[0.8888888888888888,\"#fdca26\"],[1.0,\"#f0f921\"]],\"type\":\"heatmap\"}],\"heatmapgl\":[{\"colorbar\":{\"outlinewidth\":0,\"ticks\":\"\"},\"colorscale\":[[0.0,\"#0d0887\"],[0.1111111111111111,\"#46039f\"],[0.2222222222222222,\"#7201a8\"],[0.3333333333333333,\"#9c179e\"],[0.4444444444444444,\"#bd3786\"],[0.5555555555555556,\"#d8576b\"],[0.6666666666666666,\"#ed7953\"],[0.7777777777777778,\"#fb9f3a\"],[0.8888888888888888,\"#fdca26\"],[1.0,\"#f0f921\"]],\"type\":\"heatmapgl\"}],\"histogram\":[{\"marker\":{\"pattern\":{\"fillmode\":\"overlay\",\"size\":10,\"solidity\":0.2}},\"type\":\"histogram\"}],\"histogram2d\":[{\"colorbar\":{\"outlinewidth\":0,\"ticks\":\"\"},\"colorscale\":[[0.0,\"#0d0887\"],[0.1111111111111111,\"#46039f\"],[0.2222222222222222,\"#7201a8\"],[0.3333333333333333,\"#9c179e\"],[0.4444444444444444,\"#bd3786\"],[0.5555555555555556,\"#d8576b\"],[0.6666666666666666,\"#ed7953\"],[0.7777777777777778,\"#fb9f3a\"],[0.8888888888888888,\"#fdca26\"],[1.0,\"#f0f921\"]],\"type\":\"histogram2d\"}],\"histogram2dcontour\":[{\"colorbar\":{\"outlinewidth\":0,\"ticks\":\"\"},\"colorscale\":[[0.0,\"#0d0887\"],[0.1111111111111111,\"#46039f\"],[0.2222222222222222,\"#7201a8\"],[0.3333333333333333,\"#9c179e\"],[0.4444444444444444,\"#bd3786\"],[0.5555555555555556,\"#d8576b\"],[0.6666666666666666,\"#ed7953\"],[0.7777777777777778,\"#fb9f3a\"],[0.8888888888888888,\"#fdca26\"],[1.0,\"#f0f921\"]],\"type\":\"histogram2dcontour\"}],\"mesh3d\":[{\"colorbar\":{\"outlinewidth\":0,\"ticks\":\"\"},\"type\":\"mesh3d\"}],\"parcoords\":[{\"line\":{\"colorbar\":{\"outlinewidth\":0,\"ticks\":\"\"}},\"type\":\"parcoords\"}],\"pie\":[{\"automargin\":true,\"type\":\"pie\"}],\"scatter\":[{\"marker\":{\"colorbar\":{\"outlinewidth\":0,\"ticks\":\"\"}},\"type\":\"scatter\"}],\"scatter3d\":[{\"line\":{\"colorbar\":{\"outlinewidth\":0,\"ticks\":\"\"}},\"marker\":{\"colorbar\":{\"outlinewidth\":0,\"ticks\":\"\"}},\"type\":\"scatter3d\"}],\"scattercarpet\":[{\"marker\":{\"colorbar\":{\"outlinewidth\":0,\"ticks\":\"\"}},\"type\":\"scattercarpet\"}],\"scattergeo\":[{\"marker\":{\"colorbar\":{\"outlinewidth\":0,\"ticks\":\"\"}},\"type\":\"scattergeo\"}],\"scattergl\":[{\"marker\":{\"colorbar\":{\"outlinewidth\":0,\"ticks\":\"\"}},\"type\":\"scattergl\"}],\"scattermapbox\":[{\"marker\":{\"colorbar\":{\"outlinewidth\":0,\"ticks\":\"\"}},\"type\":\"scattermapbox\"}],\"scatterpolar\":[{\"marker\":{\"colorbar\":{\"outlinewidth\":0,\"ticks\":\"\"}},\"type\":\"scatterpolar\"}],\"scatterpolargl\":[{\"marker\":{\"colorbar\":{\"outlinewidth\":0,\"ticks\":\"\"}},\"type\":\"scatterpolargl\"}],\"scatterternary\":[{\"marker\":{\"colorbar\":{\"outlinewidth\":0,\"ticks\":\"\"}},\"type\":\"scatterternary\"}],\"surface\":[{\"colorbar\":{\"outlinewidth\":0,\"ticks\":\"\"},\"colorscale\":[[0.0,\"#0d0887\"],[0.1111111111111111,\"#46039f\"],[0.2222222222222222,\"#7201a8\"],[0.3333333333333333,\"#9c179e\"],[0.4444444444444444,\"#bd3786\"],[0.5555555555555556,\"#d8576b\"],[0.6666666666666666,\"#ed7953\"],[0.7777777777777778,\"#fb9f3a\"],[0.8888888888888888,\"#fdca26\"],[1.0,\"#f0f921\"]],\"type\":\"surface\"}],\"table\":[{\"cells\":{\"fill\":{\"color\":\"#EBF0F8\"},\"line\":{\"color\":\"white\"}},\"header\":{\"fill\":{\"color\":\"#C8D4E3\"},\"line\":{\"color\":\"white\"}},\"type\":\"table\"}]},\"layout\":{\"annotationdefaults\":{\"arrowcolor\":\"#2a3f5f\",\"arrowhead\":0,\"arrowwidth\":1},\"autotypenumbers\":\"strict\",\"coloraxis\":{\"colorbar\":{\"outlinewidth\":0,\"ticks\":\"\"}},\"colorscale\":{\"diverging\":[[0,\"#8e0152\"],[0.1,\"#c51b7d\"],[0.2,\"#de77ae\"],[0.3,\"#f1b6da\"],[0.4,\"#fde0ef\"],[0.5,\"#f7f7f7\"],[0.6,\"#e6f5d0\"],[0.7,\"#b8e186\"],[0.8,\"#7fbc41\"],[0.9,\"#4d9221\"],[1,\"#276419\"]],\"sequential\":[[0.0,\"#0d0887\"],[0.1111111111111111,\"#46039f\"],[0.2222222222222222,\"#7201a8\"],[0.3333333333333333,\"#9c179e\"],[0.4444444444444444,\"#bd3786\"],[0.5555555555555556,\"#d8576b\"],[0.6666666666666666,\"#ed7953\"],[0.7777777777777778,\"#fb9f3a\"],[0.8888888888888888,\"#fdca26\"],[1.0,\"#f0f921\"]],\"sequentialminus\":[[0.0,\"#0d0887\"],[0.1111111111111111,\"#46039f\"],[0.2222222222222222,\"#7201a8\"],[0.3333333333333333,\"#9c179e\"],[0.4444444444444444,\"#bd3786\"],[0.5555555555555556,\"#d8576b\"],[0.6666666666666666,\"#ed7953\"],[0.7777777777777778,\"#fb9f3a\"],[0.8888888888888888,\"#fdca26\"],[1.0,\"#f0f921\"]]},\"colorway\":[\"#636efa\",\"#EF553B\",\"#00cc96\",\"#ab63fa\",\"#FFA15A\",\"#19d3f3\",\"#FF6692\",\"#B6E880\",\"#FF97FF\",\"#FECB52\"],\"font\":{\"color\":\"#2a3f5f\"},\"geo\":{\"bgcolor\":\"white\",\"lakecolor\":\"white\",\"landcolor\":\"#E5ECF6\",\"showlakes\":true,\"showland\":true,\"subunitcolor\":\"white\"},\"hoverlabel\":{\"align\":\"left\"},\"hovermode\":\"closest\",\"mapbox\":{\"style\":\"light\"},\"paper_bgcolor\":\"white\",\"plot_bgcolor\":\"#E5ECF6\",\"polar\":{\"angularaxis\":{\"gridcolor\":\"white\",\"linecolor\":\"white\",\"ticks\":\"\"},\"bgcolor\":\"#E5ECF6\",\"radialaxis\":{\"gridcolor\":\"white\",\"linecolor\":\"white\",\"ticks\":\"\"}},\"scene\":{\"xaxis\":{\"backgroundcolor\":\"#E5ECF6\",\"gridcolor\":\"white\",\"gridwidth\":2,\"linecolor\":\"white\",\"showbackground\":true,\"ticks\":\"\",\"zerolinecolor\":\"white\"},\"yaxis\":{\"backgroundcolor\":\"#E5ECF6\",\"gridcolor\":\"white\",\"gridwidth\":2,\"linecolor\":\"white\",\"showbackground\":true,\"ticks\":\"\",\"zerolinecolor\":\"white\"},\"zaxis\":{\"backgroundcolor\":\"#E5ECF6\",\"gridcolor\":\"white\",\"gridwidth\":2,\"linecolor\":\"white\",\"showbackground\":true,\"ticks\":\"\",\"zerolinecolor\":\"white\"}},\"shapedefaults\":{\"line\":{\"color\":\"#2a3f5f\"}},\"ternary\":{\"aaxis\":{\"gridcolor\":\"white\",\"linecolor\":\"white\",\"ticks\":\"\"},\"baxis\":{\"gridcolor\":\"white\",\"linecolor\":\"white\",\"ticks\":\"\"},\"bgcolor\":\"#E5ECF6\",\"caxis\":{\"gridcolor\":\"white\",\"linecolor\":\"white\",\"ticks\":\"\"}},\"title\":{\"x\":0.05},\"xaxis\":{\"automargin\":true,\"gridcolor\":\"white\",\"linecolor\":\"white\",\"ticks\":\"\",\"title\":{\"standoff\":15},\"zerolinecolor\":\"white\",\"zerolinewidth\":2},\"yaxis\":{\"automargin\":true,\"gridcolor\":\"white\",\"linecolor\":\"white\",\"ticks\":\"\",\"title\":{\"standoff\":15},\"zerolinecolor\":\"white\",\"zerolinewidth\":2}}},\"xaxis\":{\"anchor\":\"y\",\"domain\":[0.0,1.0],\"title\":{\"text\":\"Head\"}},\"yaxis\":{\"anchor\":\"x\",\"domain\":[0.0,1.0],\"autorange\":\"reversed\",\"title\":{\"text\":\"Layer\"}},\"coloraxis\":{\"colorscale\":[[0.0,\"rgb(103,0,31)\"],[0.1,\"rgb(178,24,43)\"],[0.2,\"rgb(214,96,77)\"],[0.3,\"rgb(244,165,130)\"],[0.4,\"rgb(253,219,199)\"],[0.5,\"rgb(247,247,247)\"],[0.6,\"rgb(209,229,240)\"],[0.7,\"rgb(146,197,222)\"],[0.8,\"rgb(67,147,195)\"],[0.9,\"rgb(33,102,172)\"],[1.0,\"rgb(5,48,97)\"]],\"cmid\":0.0},\"title\":{\"text\":\"Logit Difference From Each Head\"}},                        {\"responsive\": true}                    ).then(function(){\n",
              "                            \n",
              "var gd = document.getElementById('8d04b1d5-de3f-4584-9ab8-f026fb55bbad');\n",
              "var x = new MutationObserver(function (mutations, observer) {{\n",
              "        var display = window.getComputedStyle(gd).display;\n",
              "        if (!display || display === 'none') {{\n",
              "            console.log([gd, 'removed!']);\n",
              "            Plotly.purge(gd);\n",
              "            observer.disconnect();\n",
              "        }}\n",
              "}});\n",
              "\n",
              "// Listen for the removal of the full notebook cells\n",
              "var notebookContainer = gd.closest('#notebook-container');\n",
              "if (notebookContainer) {{\n",
              "    x.observe(notebookContainer, {childList: true});\n",
              "}}\n",
              "\n",
              "// Listen for the clearing of the current output cell\n",
              "var outputEl = gd.closest('.output');\n",
              "if (outputEl) {{\n",
              "    x.observe(outputEl, {childList: true});\n",
              "}}\n",
              "\n",
              "                        })                };                            </script>        </div>\n",
              "</body>\n",
              "</html>"
            ]
          },
          "metadata": {},
          "output_type": "display_data"
        }
      ],
      "source": [
        "imshow(res, xaxis=\"Head\", yaxis=\"Layer\", title=\"Logit Difference From Each Head\")#, zmin=-0.02, zmax=0.02)"
      ]
    },
    {
      "cell_type": "code",
      "execution_count": null,
      "metadata": {
        "id": "dlt6r4sgQekA"
      },
      "outputs": [],
      "source": [
        "def get_patched_layer_output(layer, head_idx, orig_cache, patch_cache):\n",
        "    \"\"\"Patches the target head at the z tensor, and then recomputes and returns attn_out.\n",
        "        The original IOI paper recomputed the entire model, but we can use this shortcut\n",
        "        to only compute the relevant parts.\n",
        "\n",
        "    Args:\n",
        "      layer (int): Layer to be patched.\n",
        "      head (int): Index of head to be patched.\n",
        "      orig_cache\n",
        "      patch_cache\n",
        "\n",
        "    Returns:\n",
        "      torch.Tensor: attn_out, the tensor that would be added to the residual stream.\n",
        "    \"\"\"\n",
        "    layer_z_cache_name = f'blocks.{layer}.attn.hook_z'\n",
        "    layer_z_patched = orig_cache[layer_z_cache_name]\n",
        "    head_z_source = patch_cache[layer_z_cache_name][:, :, head_idx, :]\n",
        "    layer_z_patched[:, :, head_idx, :] = head_z_source\n",
        "\n",
        "    patched_attn_out = einsum(\n",
        "        \"batch query_pos n_heads d_head, n_heads d_head d_model -> batch query_pos d_model\", \n",
        "        layer_z_patched, \n",
        "        model.blocks[layer].attn.W_O) + model.blocks[layer].attn.b_O\n",
        "\n",
        "    return patched_attn_out"
      ]
    },
    {
      "cell_type": "code",
      "execution_count": null,
      "metadata": {
        "colab": {
          "base_uri": "https://localhost:8080/"
        },
        "id": "Va8xAQNjOUmk",
        "outputId": "a638b14f-2499-4839-bfc8-1f62da154085"
      },
      "outputs": [
        {
          "data": {
            "text/plain": [
              "torch.Size([8, 15, 64])"
            ]
          },
          "execution_count": 38,
          "metadata": {},
          "output_type": "execute_result"
        }
      ],
      "source": [
        "sender_layer = 3\n",
        "sender_head = 2\n",
        "receiver_layer = 11\n",
        "receiver_head = 6\n",
        "\n",
        "orig_cache = corrupted_cache\n",
        "patch_cache = clean_cache\n",
        "\n",
        "patched_attn_output = get_patched_layer_output(sender_layer, sender_head, orig_cache, patch_cache)\n",
        "orig_attn_output_name = f'blocks.{sender_layer}.hook_attn_out'\n",
        "orig_receiver_ln1_scale_name = f'blocks.{receiver_layer}.ln1.hook_scale'\n",
        "        \n",
        "res = (patched_attn_output - orig_cache[orig_attn_output_name]) @ model.blocks[receiver_layer].attn.W_Q[receiver_head] / orig_cache[orig_receiver_ln1_scale_name]\n",
        "res.shape"
      ]
    },
    {
      "cell_type": "code",
      "execution_count": null,
      "metadata": {
        "colab": {
          "base_uri": "https://localhost:8080/"
        },
        "id": "kFCsTzAG4J22",
        "outputId": "374c2571-942f-4933-dcba-4a55da80ff4a"
      },
      "outputs": [
        {
          "data": {
            "text/plain": [
              "torch.Size([8, 15, 64])"
            ]
          },
          "execution_count": 16,
          "metadata": {},
          "output_type": "execute_result"
        }
      ],
      "source": [
        "head_B = (11, 6)\n",
        "head_B_W_Q = model.blocks[10].attn.W_Q[4]\n",
        "head_B_dest = corrupted_cache['blocks.11.attn.hook_q'][:, :, head_B[1], :]\n",
        "head_B_dest.shape"
      ]
    },
    {
      "cell_type": "code",
      "execution_count": null,
      "metadata": {
        "colab": {
          "base_uri": "https://localhost:8080/"
        },
        "id": "EN1DWGSaQJkJ",
        "outputId": "c13300dc-2b69-4a8f-b56e-fc2603591b65"
      },
      "outputs": [
        {
          "data": {
            "text/plain": [
              "HookPoint()"
            ]
          },
          "execution_count": 32,
          "metadata": {},
          "output_type": "execute_result"
        }
      ],
      "source": [
        "model.blocks[10].ln1.hook_scale"
      ]
    },
    {
      "cell_type": "code",
      "execution_count": null,
      "metadata": {
        "colab": {
          "base_uri": "https://localhost:8080/",
          "height": 288
        },
        "id": "2iV7RdvD_4RC",
        "outputId": "c56ea50f-0b4e-479c-d1f6-050033f545ff"
      },
      "outputs": [
        {
          "ename": "TypeError",
          "evalue": "ignored",
          "output_type": "error",
          "traceback": [
            "\u001b[0;31m---------------------------------------------------------------------------\u001b[0m",
            "\u001b[0;31mTypeError\u001b[0m                                 Traceback (most recent call last)",
            "\u001b[0;32m<ipython-input-15-e29b143332e8>\u001b[0m in \u001b[0;36m<module>\u001b[0;34m\u001b[0m\n\u001b[0;32m----> 1\u001b[0;31m \u001b[0mprint\u001b[0m\u001b[0;34m(\u001b[0m\u001b[0mutils\u001b[0m\u001b[0;34m.\u001b[0m\u001b[0mget_act_name\u001b[0m\u001b[0;34m(\u001b[0m\u001b[0;36m11\u001b[0m\u001b[0;34m,\u001b[0m \u001b[0;34m\"hook_attn_out\"\u001b[0m\u001b[0;34m)\u001b[0m\u001b[0;34m)\u001b[0m\u001b[0;34m\u001b[0m\u001b[0;34m\u001b[0m\u001b[0m\n\u001b[0m",
            "\u001b[0;32m/usr/local/lib/python3.8/dist-packages/transformer_lens/utils.py\u001b[0m in \u001b[0;36mget_act_name\u001b[0;34m(name, layer, layer_type)\u001b[0m\n\u001b[1;32m    419\u001b[0m     \"\"\"\n\u001b[1;32m    420\u001b[0m     if (\n\u001b[0;32m--> 421\u001b[0;31m         \u001b[0;34m(\u001b[0m\u001b[0;34m\".\"\u001b[0m \u001b[0;32min\u001b[0m \u001b[0mname\u001b[0m \u001b[0;32mor\u001b[0m \u001b[0mname\u001b[0m\u001b[0;34m.\u001b[0m\u001b[0mstartswith\u001b[0m\u001b[0;34m(\u001b[0m\u001b[0;34m\"hook_\"\u001b[0m\u001b[0;34m)\u001b[0m\u001b[0;34m)\u001b[0m\u001b[0;34m\u001b[0m\u001b[0;34m\u001b[0m\u001b[0m\n\u001b[0m\u001b[1;32m    422\u001b[0m         \u001b[0;32mand\u001b[0m \u001b[0mlayer\u001b[0m \u001b[0;32mis\u001b[0m \u001b[0;32mNone\u001b[0m\u001b[0;34m\u001b[0m\u001b[0;34m\u001b[0m\u001b[0m\n\u001b[1;32m    423\u001b[0m         \u001b[0;32mand\u001b[0m \u001b[0mlayer_type\u001b[0m \u001b[0;32mis\u001b[0m \u001b[0;32mNone\u001b[0m\u001b[0;34m\u001b[0m\u001b[0;34m\u001b[0m\u001b[0m\n",
            "\u001b[0;31mTypeError\u001b[0m: argument of type 'int' is not iterable"
          ]
        }
      ],
      "source": [
        "print(utils.get_act_name(11, \"hook_attn_out\"))"
      ]
    },
    {
      "cell_type": "code",
      "execution_count": null,
      "metadata": {
        "colab": {
          "base_uri": "https://localhost:8080/"
        },
        "id": "31mNfyeSM8Fc",
        "outputId": "318e8609-a705-4b5e-f2da-0fafa1e63800"
      },
      "outputs": [
        {
          "data": {
            "text/plain": [
              "torch.Size([8, 15, 1])"
            ]
          },
          "execution_count": 35,
          "metadata": {},
          "output_type": "execute_result"
        }
      ],
      "source": [
        "clean_cache[\"blocks.11.ln1.hook_scale\"].shape"
      ]
    },
    {
      "cell_type": "code",
      "execution_count": null,
      "metadata": {
        "id": "N8jVGLQd517d"
      },
      "outputs": [],
      "source": [
        "head_A = (3, 2)\n",
        "head_A_cache_name = 'blocks.3.attn.hook_z'\n",
        "layer_A_z_patched = corrupted_cache[head_A_cache_name] #[:, :, head_A[1], :]\n",
        "head_A_z_source = clean_cache[head_A_cache_name][:, :, head_A[1], :]\n",
        "layer_A_z_patched[:, :, head_A[1], :] = head_A_z_source "
      ]
    },
    {
      "cell_type": "code",
      "execution_count": null,
      "metadata": {
        "id": "yVKHuzJSOwIo"
      },
      "outputs": [],
      "source": [
        "layer_A_patched_attn_out = einsum(\n",
        "    \"batch query_pos n_heads d_head, n_heads d_head d_model -> batch query_pos d_model\", \n",
        "    layer_A_z_patched, \n",
        "    model.blocks[3].attn.W_O) + model.blocks[3].attn.b_O"
      ]
    },
    {
      "cell_type": "code",
      "execution_count": null,
      "metadata": {
        "colab": {
          "base_uri": "https://localhost:8080/"
        },
        "id": "OUTVj-RKUbOJ",
        "outputId": "e7d9155a-6d40-4510-d89b-23f40995a2fc"
      },
      "outputs": [
        {
          "data": {
            "text/plain": [
              "torch.Size([8, 15, 768])"
            ]
          },
          "execution_count": 43,
          "metadata": {},
          "output_type": "execute_result"
        }
      ],
      "source": [
        "layer_A_patched_attn_out.shape"
      ]
    },
    {
      "cell_type": "code",
      "execution_count": null,
      "metadata": {
        "colab": {
          "base_uri": "https://localhost:8080/"
        },
        "id": "ZAeLJv6LECWI",
        "outputId": "57a94594-2b1f-4e83-c958-23a81ff35b9d"
      },
      "outputs": [
        {
          "data": {
            "text/plain": [
              "TransformerBlock(\n",
              "  (ln1): LayerNormPre(\n",
              "    (hook_scale): HookPoint()\n",
              "    (hook_normalized): HookPoint()\n",
              "  )\n",
              "  (ln2): LayerNormPre(\n",
              "    (hook_scale): HookPoint()\n",
              "    (hook_normalized): HookPoint()\n",
              "  )\n",
              "  (attn): Attention(\n",
              "    (hook_k): HookPoint()\n",
              "    (hook_q): HookPoint()\n",
              "    (hook_v): HookPoint()\n",
              "    (hook_z): HookPoint()\n",
              "    (hook_attn_scores): HookPoint()\n",
              "    (hook_pattern): HookPoint()\n",
              "    (hook_result): HookPoint()\n",
              "    (hook_rot_k): HookPoint()\n",
              "    (hook_rot_q): HookPoint()\n",
              "  )\n",
              "  (mlp): MLP(\n",
              "    (hook_pre): HookPoint()\n",
              "    (hook_post): HookPoint()\n",
              "  )\n",
              "  (hook_q_input): HookPoint()\n",
              "  (hook_k_input): HookPoint()\n",
              "  (hook_v_input): HookPoint()\n",
              "  (hook_attn_out): HookPoint()\n",
              "  (hook_mlp_out): HookPoint()\n",
              "  (hook_resid_pre): HookPoint()\n",
              "  (hook_resid_post): HookPoint()\n",
              ")"
            ]
          },
          "execution_count": 40,
          "metadata": {},
          "output_type": "execute_result"
        }
      ],
      "source": [
        "model.blocks[3]"
      ]
    },
    {
      "cell_type": "code",
      "execution_count": null,
      "metadata": {
        "colab": {
          "base_uri": "https://localhost:8080/"
        },
        "id": "3jN9kdmWBmoH",
        "outputId": "d1a4e4b0-a42a-416a-fc76-0ed565d073e5"
      },
      "outputs": [
        {
          "data": {
            "text/plain": [
              "torch.Size([768, 64])"
            ]
          },
          "execution_count": 41,
          "metadata": {},
          "output_type": "execute_result"
        }
      ],
      "source": [
        "model.blocks[3].attn.W_Q[2].shape"
      ]
    },
    {
      "cell_type": "code",
      "execution_count": null,
      "metadata": {
        "colab": {
          "base_uri": "https://localhost:8080/"
        },
        "id": "QjQPakNo7ZQy",
        "outputId": "06f33b62-989d-4480-d0a3-b7be50d1ec2e"
      },
      "outputs": [
        {
          "data": {
            "text/plain": [
              "HookedTransformer(\n",
              "  (embed): Embed()\n",
              "  (hook_embed): HookPoint()\n",
              "  (blocks): ModuleList(\n",
              "    (0): TransformerBlock(\n",
              "      (ln1): LayerNormPre(\n",
              "        (hook_scale): HookPoint()\n",
              "        (hook_normalized): HookPoint()\n",
              "      )\n",
              "      (ln2): LayerNormPre(\n",
              "        (hook_scale): HookPoint()\n",
              "        (hook_normalized): HookPoint()\n",
              "      )\n",
              "      (attn): Attention(\n",
              "        (hook_k): HookPoint()\n",
              "        (hook_q): HookPoint()\n",
              "        (hook_v): HookPoint()\n",
              "        (hook_z): HookPoint()\n",
              "        (hook_attn_scores): HookPoint()\n",
              "        (hook_pattern): HookPoint()\n",
              "        (hook_result): HookPoint()\n",
              "        (hook_rot_k): HookPoint()\n",
              "        (hook_rot_q): HookPoint()\n",
              "      )\n",
              "      (mlp): MLP(\n",
              "        (hook_pre): HookPoint()\n",
              "        (hook_post): HookPoint()\n",
              "      )\n",
              "      (hook_q_input): HookPoint()\n",
              "      (hook_k_input): HookPoint()\n",
              "      (hook_v_input): HookPoint()\n",
              "      (hook_attn_out): HookPoint()\n",
              "      (hook_mlp_out): HookPoint()\n",
              "      (hook_resid_pre): HookPoint()\n",
              "      (hook_resid_post): HookPoint()\n",
              "    )\n",
              "    (1): TransformerBlock(\n",
              "      (ln1): LayerNormPre(\n",
              "        (hook_scale): HookPoint()\n",
              "        (hook_normalized): HookPoint()\n",
              "      )\n",
              "      (ln2): LayerNormPre(\n",
              "        (hook_scale): HookPoint()\n",
              "        (hook_normalized): HookPoint()\n",
              "      )\n",
              "      (attn): Attention(\n",
              "        (hook_k): HookPoint()\n",
              "        (hook_q): HookPoint()\n",
              "        (hook_v): HookPoint()\n",
              "        (hook_z): HookPoint()\n",
              "        (hook_attn_scores): HookPoint()\n",
              "        (hook_pattern): HookPoint()\n",
              "        (hook_result): HookPoint()\n",
              "        (hook_rot_k): HookPoint()\n",
              "        (hook_rot_q): HookPoint()\n",
              "      )\n",
              "      (mlp): MLP(\n",
              "        (hook_pre): HookPoint()\n",
              "        (hook_post): HookPoint()\n",
              "      )\n",
              "      (hook_q_input): HookPoint()\n",
              "      (hook_k_input): HookPoint()\n",
              "      (hook_v_input): HookPoint()\n",
              "      (hook_attn_out): HookPoint()\n",
              "      (hook_mlp_out): HookPoint()\n",
              "      (hook_resid_pre): HookPoint()\n",
              "      (hook_resid_post): HookPoint()\n",
              "    )\n",
              "    (2): TransformerBlock(\n",
              "      (ln1): LayerNormPre(\n",
              "        (hook_scale): HookPoint()\n",
              "        (hook_normalized): HookPoint()\n",
              "      )\n",
              "      (ln2): LayerNormPre(\n",
              "        (hook_scale): HookPoint()\n",
              "        (hook_normalized): HookPoint()\n",
              "      )\n",
              "      (attn): Attention(\n",
              "        (hook_k): HookPoint()\n",
              "        (hook_q): HookPoint()\n",
              "        (hook_v): HookPoint()\n",
              "        (hook_z): HookPoint()\n",
              "        (hook_attn_scores): HookPoint()\n",
              "        (hook_pattern): HookPoint()\n",
              "        (hook_result): HookPoint()\n",
              "        (hook_rot_k): HookPoint()\n",
              "        (hook_rot_q): HookPoint()\n",
              "      )\n",
              "      (mlp): MLP(\n",
              "        (hook_pre): HookPoint()\n",
              "        (hook_post): HookPoint()\n",
              "      )\n",
              "      (hook_q_input): HookPoint()\n",
              "      (hook_k_input): HookPoint()\n",
              "      (hook_v_input): HookPoint()\n",
              "      (hook_attn_out): HookPoint()\n",
              "      (hook_mlp_out): HookPoint()\n",
              "      (hook_resid_pre): HookPoint()\n",
              "      (hook_resid_post): HookPoint()\n",
              "    )\n",
              "    (3): TransformerBlock(\n",
              "      (ln1): LayerNormPre(\n",
              "        (hook_scale): HookPoint()\n",
              "        (hook_normalized): HookPoint()\n",
              "      )\n",
              "      (ln2): LayerNormPre(\n",
              "        (hook_scale): HookPoint()\n",
              "        (hook_normalized): HookPoint()\n",
              "      )\n",
              "      (attn): Attention(\n",
              "        (hook_k): HookPoint()\n",
              "        (hook_q): HookPoint()\n",
              "        (hook_v): HookPoint()\n",
              "        (hook_z): HookPoint()\n",
              "        (hook_attn_scores): HookPoint()\n",
              "        (hook_pattern): HookPoint()\n",
              "        (hook_result): HookPoint()\n",
              "        (hook_rot_k): HookPoint()\n",
              "        (hook_rot_q): HookPoint()\n",
              "      )\n",
              "      (mlp): MLP(\n",
              "        (hook_pre): HookPoint()\n",
              "        (hook_post): HookPoint()\n",
              "      )\n",
              "      (hook_q_input): HookPoint()\n",
              "      (hook_k_input): HookPoint()\n",
              "      (hook_v_input): HookPoint()\n",
              "      (hook_attn_out): HookPoint()\n",
              "      (hook_mlp_out): HookPoint()\n",
              "      (hook_resid_pre): HookPoint()\n",
              "      (hook_resid_post): HookPoint()\n",
              "    )\n",
              "    (4): TransformerBlock(\n",
              "      (ln1): LayerNormPre(\n",
              "        (hook_scale): HookPoint()\n",
              "        (hook_normalized): HookPoint()\n",
              "      )\n",
              "      (ln2): LayerNormPre(\n",
              "        (hook_scale): HookPoint()\n",
              "        (hook_normalized): HookPoint()\n",
              "      )\n",
              "      (attn): Attention(\n",
              "        (hook_k): HookPoint()\n",
              "        (hook_q): HookPoint()\n",
              "        (hook_v): HookPoint()\n",
              "        (hook_z): HookPoint()\n",
              "        (hook_attn_scores): HookPoint()\n",
              "        (hook_pattern): HookPoint()\n",
              "        (hook_result): HookPoint()\n",
              "        (hook_rot_k): HookPoint()\n",
              "        (hook_rot_q): HookPoint()\n",
              "      )\n",
              "      (mlp): MLP(\n",
              "        (hook_pre): HookPoint()\n",
              "        (hook_post): HookPoint()\n",
              "      )\n",
              "      (hook_q_input): HookPoint()\n",
              "      (hook_k_input): HookPoint()\n",
              "      (hook_v_input): HookPoint()\n",
              "      (hook_attn_out): HookPoint()\n",
              "      (hook_mlp_out): HookPoint()\n",
              "      (hook_resid_pre): HookPoint()\n",
              "      (hook_resid_post): HookPoint()\n",
              "    )\n",
              "    (5): TransformerBlock(\n",
              "      (ln1): LayerNormPre(\n",
              "        (hook_scale): HookPoint()\n",
              "        (hook_normalized): HookPoint()\n",
              "      )\n",
              "      (ln2): LayerNormPre(\n",
              "        (hook_scale): HookPoint()\n",
              "        (hook_normalized): HookPoint()\n",
              "      )\n",
              "      (attn): Attention(\n",
              "        (hook_k): HookPoint()\n",
              "        (hook_q): HookPoint()\n",
              "        (hook_v): HookPoint()\n",
              "        (hook_z): HookPoint()\n",
              "        (hook_attn_scores): HookPoint()\n",
              "        (hook_pattern): HookPoint()\n",
              "        (hook_result): HookPoint()\n",
              "        (hook_rot_k): HookPoint()\n",
              "        (hook_rot_q): HookPoint()\n",
              "      )\n",
              "      (mlp): MLP(\n",
              "        (hook_pre): HookPoint()\n",
              "        (hook_post): HookPoint()\n",
              "      )\n",
              "      (hook_q_input): HookPoint()\n",
              "      (hook_k_input): HookPoint()\n",
              "      (hook_v_input): HookPoint()\n",
              "      (hook_attn_out): HookPoint()\n",
              "      (hook_mlp_out): HookPoint()\n",
              "      (hook_resid_pre): HookPoint()\n",
              "      (hook_resid_post): HookPoint()\n",
              "    )\n",
              "    (6): TransformerBlock(\n",
              "      (ln1): LayerNormPre(\n",
              "        (hook_scale): HookPoint()\n",
              "        (hook_normalized): HookPoint()\n",
              "      )\n",
              "      (ln2): LayerNormPre(\n",
              "        (hook_scale): HookPoint()\n",
              "        (hook_normalized): HookPoint()\n",
              "      )\n",
              "      (attn): Attention(\n",
              "        (hook_k): HookPoint()\n",
              "        (hook_q): HookPoint()\n",
              "        (hook_v): HookPoint()\n",
              "        (hook_z): HookPoint()\n",
              "        (hook_attn_scores): HookPoint()\n",
              "        (hook_pattern): HookPoint()\n",
              "        (hook_result): HookPoint()\n",
              "        (hook_rot_k): HookPoint()\n",
              "        (hook_rot_q): HookPoint()\n",
              "      )\n",
              "      (mlp): MLP(\n",
              "        (hook_pre): HookPoint()\n",
              "        (hook_post): HookPoint()\n",
              "      )\n",
              "      (hook_q_input): HookPoint()\n",
              "      (hook_k_input): HookPoint()\n",
              "      (hook_v_input): HookPoint()\n",
              "      (hook_attn_out): HookPoint()\n",
              "      (hook_mlp_out): HookPoint()\n",
              "      (hook_resid_pre): HookPoint()\n",
              "      (hook_resid_post): HookPoint()\n",
              "    )\n",
              "    (7): TransformerBlock(\n",
              "      (ln1): LayerNormPre(\n",
              "        (hook_scale): HookPoint()\n",
              "        (hook_normalized): HookPoint()\n",
              "      )\n",
              "      (ln2): LayerNormPre(\n",
              "        (hook_scale): HookPoint()\n",
              "        (hook_normalized): HookPoint()\n",
              "      )\n",
              "      (attn): Attention(\n",
              "        (hook_k): HookPoint()\n",
              "        (hook_q): HookPoint()\n",
              "        (hook_v): HookPoint()\n",
              "        (hook_z): HookPoint()\n",
              "        (hook_attn_scores): HookPoint()\n",
              "        (hook_pattern): HookPoint()\n",
              "        (hook_result): HookPoint()\n",
              "        (hook_rot_k): HookPoint()\n",
              "        (hook_rot_q): HookPoint()\n",
              "      )\n",
              "      (mlp): MLP(\n",
              "        (hook_pre): HookPoint()\n",
              "        (hook_post): HookPoint()\n",
              "      )\n",
              "      (hook_q_input): HookPoint()\n",
              "      (hook_k_input): HookPoint()\n",
              "      (hook_v_input): HookPoint()\n",
              "      (hook_attn_out): HookPoint()\n",
              "      (hook_mlp_out): HookPoint()\n",
              "      (hook_resid_pre): HookPoint()\n",
              "      (hook_resid_post): HookPoint()\n",
              "    )\n",
              "    (8): TransformerBlock(\n",
              "      (ln1): LayerNormPre(\n",
              "        (hook_scale): HookPoint()\n",
              "        (hook_normalized): HookPoint()\n",
              "      )\n",
              "      (ln2): LayerNormPre(\n",
              "        (hook_scale): HookPoint()\n",
              "        (hook_normalized): HookPoint()\n",
              "      )\n",
              "      (attn): Attention(\n",
              "        (hook_k): HookPoint()\n",
              "        (hook_q): HookPoint()\n",
              "        (hook_v): HookPoint()\n",
              "        (hook_z): HookPoint()\n",
              "        (hook_attn_scores): HookPoint()\n",
              "        (hook_pattern): HookPoint()\n",
              "        (hook_result): HookPoint()\n",
              "        (hook_rot_k): HookPoint()\n",
              "        (hook_rot_q): HookPoint()\n",
              "      )\n",
              "      (mlp): MLP(\n",
              "        (hook_pre): HookPoint()\n",
              "        (hook_post): HookPoint()\n",
              "      )\n",
              "      (hook_q_input): HookPoint()\n",
              "      (hook_k_input): HookPoint()\n",
              "      (hook_v_input): HookPoint()\n",
              "      (hook_attn_out): HookPoint()\n",
              "      (hook_mlp_out): HookPoint()\n",
              "      (hook_resid_pre): HookPoint()\n",
              "      (hook_resid_post): HookPoint()\n",
              "    )\n",
              "    (9): TransformerBlock(\n",
              "      (ln1): LayerNormPre(\n",
              "        (hook_scale): HookPoint()\n",
              "        (hook_normalized): HookPoint()\n",
              "      )\n",
              "      (ln2): LayerNormPre(\n",
              "        (hook_scale): HookPoint()\n",
              "        (hook_normalized): HookPoint()\n",
              "      )\n",
              "      (attn): Attention(\n",
              "        (hook_k): HookPoint()\n",
              "        (hook_q): HookPoint()\n",
              "        (hook_v): HookPoint()\n",
              "        (hook_z): HookPoint()\n",
              "        (hook_attn_scores): HookPoint()\n",
              "        (hook_pattern): HookPoint()\n",
              "        (hook_result): HookPoint()\n",
              "        (hook_rot_k): HookPoint()\n",
              "        (hook_rot_q): HookPoint()\n",
              "      )\n",
              "      (mlp): MLP(\n",
              "        (hook_pre): HookPoint()\n",
              "        (hook_post): HookPoint()\n",
              "      )\n",
              "      (hook_q_input): HookPoint()\n",
              "      (hook_k_input): HookPoint()\n",
              "      (hook_v_input): HookPoint()\n",
              "      (hook_attn_out): HookPoint()\n",
              "      (hook_mlp_out): HookPoint()\n",
              "      (hook_resid_pre): HookPoint()\n",
              "      (hook_resid_post): HookPoint()\n",
              "    )\n",
              "    (10): TransformerBlock(\n",
              "      (ln1): LayerNormPre(\n",
              "        (hook_scale): HookPoint()\n",
              "        (hook_normalized): HookPoint()\n",
              "      )\n",
              "      (ln2): LayerNormPre(\n",
              "        (hook_scale): HookPoint()\n",
              "        (hook_normalized): HookPoint()\n",
              "      )\n",
              "      (attn): Attention(\n",
              "        (hook_k): HookPoint()\n",
              "        (hook_q): HookPoint()\n",
              "        (hook_v): HookPoint()\n",
              "        (hook_z): HookPoint()\n",
              "        (hook_attn_scores): HookPoint()\n",
              "        (hook_pattern): HookPoint()\n",
              "        (hook_result): HookPoint()\n",
              "        (hook_rot_k): HookPoint()\n",
              "        (hook_rot_q): HookPoint()\n",
              "      )\n",
              "      (mlp): MLP(\n",
              "        (hook_pre): HookPoint()\n",
              "        (hook_post): HookPoint()\n",
              "      )\n",
              "      (hook_q_input): HookPoint()\n",
              "      (hook_k_input): HookPoint()\n",
              "      (hook_v_input): HookPoint()\n",
              "      (hook_attn_out): HookPoint()\n",
              "      (hook_mlp_out): HookPoint()\n",
              "      (hook_resid_pre): HookPoint()\n",
              "      (hook_resid_post): HookPoint()\n",
              "    )\n",
              "    (11): TransformerBlock(\n",
              "      (ln1): LayerNormPre(\n",
              "        (hook_scale): HookPoint()\n",
              "        (hook_normalized): HookPoint()\n",
              "      )\n",
              "      (ln2): LayerNormPre(\n",
              "        (hook_scale): HookPoint()\n",
              "        (hook_normalized): HookPoint()\n",
              "      )\n",
              "      (attn): Attention(\n",
              "        (hook_k): HookPoint()\n",
              "        (hook_q): HookPoint()\n",
              "        (hook_v): HookPoint()\n",
              "        (hook_z): HookPoint()\n",
              "        (hook_attn_scores): HookPoint()\n",
              "        (hook_pattern): HookPoint()\n",
              "        (hook_result): HookPoint()\n",
              "        (hook_rot_k): HookPoint()\n",
              "        (hook_rot_q): HookPoint()\n",
              "      )\n",
              "      (mlp): MLP(\n",
              "        (hook_pre): HookPoint()\n",
              "        (hook_post): HookPoint()\n",
              "      )\n",
              "      (hook_q_input): HookPoint()\n",
              "      (hook_k_input): HookPoint()\n",
              "      (hook_v_input): HookPoint()\n",
              "      (hook_attn_out): HookPoint()\n",
              "      (hook_mlp_out): HookPoint()\n",
              "      (hook_resid_pre): HookPoint()\n",
              "      (hook_resid_post): HookPoint()\n",
              "    )\n",
              "  )\n",
              "  (ln_final): LayerNormPre(\n",
              "    (hook_scale): HookPoint()\n",
              "    (hook_normalized): HookPoint()\n",
              "  )\n",
              "  (unembed): Unembed()\n",
              ")"
            ]
          },
          "execution_count": 29,
          "metadata": {},
          "output_type": "execute_result"
        }
      ],
      "source": [
        "model #.blocks[11].ln1.hook_scale"
      ]
    },
    {
      "cell_type": "code",
      "execution_count": null,
      "metadata": {
        "id": "g-SCvEIPEuSI"
      },
      "outputs": [],
      "source": [
        "def path_patching(\n",
        "    model,\n",
        "    patch_tokens,\n",
        "    orig_tokens,\n",
        "    sender_heads,\n",
        "    receiver_hooks,\n",
        "    positions=[\"end\"],\n",
        "    return_hooks=False,\n",
        "    extra_hooks=[],  # when we call reset hooks, we may want to add some extra hooks after this, add these here\n",
        "    freeze_mlps=False,  # recall in IOI paper we consider these \"vital model components\"\n",
        "    have_internal_interactions=False,\n",
        "):\n",
        "    \"\"\"\n",
        "    Patch in the effect of `sender_heads` on `receiver_hooks` only\n",
        "    (though MLPs are \"ignored\" if `freeze_mlps` is False so are slight confounders in this case - see Appendix B of https://arxiv.org/pdf/2211.00593.pdf)\n",
        "    TODO fix this: if max_layer < model.cfg.n_layers, then let some part of the model do computations (not frozen)\n",
        "\n",
        "    Args: \n",
        "      model (HookedTransformer):\n",
        "      patch_tokens ()\n",
        "    Returns:\n",
        "\n",
        "    \"\"\"\n",
        "\n",
        "    # This function ensures that the patch is applied to every position in the position list.\n",
        "    def patch_positions(z, source_act, hook, positions=[\"end\"], verbose=False):\n",
        "        for pos in positions:\n",
        "            z[torch.arange(orig_tokens.N), orig_tokens.word_idx[pos]] = source_act[\n",
        "                torch.arange(patch_tokens.N), patch_tokens.word_idx[pos]\n",
        "            ]\n",
        "        return z\n",
        "\n",
        "    # Puts all head names into a list.\n",
        "    sender_hooks = []\n",
        "    for layer, head_idx in sender_heads:\n",
        "        if head_idx is None:\n",
        "            sender_hooks.append((f\"blocks.{layer}.hook_mlp_out\", None))\n",
        "\n",
        "        else:\n",
        "            sender_hooks.append((f\"blocks.{layer}.attn.hook_result\", head_idx))\n",
        "\n",
        "    # Makes lists of the names only of the sender and receiver hooks.\n",
        "    sender_hook_names = [x[0] for x in sender_hooks]\n",
        "    receiver_hook_names = [x[0] for x in receiver_hooks]\n",
        "\n",
        "    # Forward pass A (in https://arxiv.org/pdf/2211.00593.pdf)\n",
        "    # Similar to running with \"clean\" prompts\n",
        "    sender_cache = {}\n",
        "    model.reset_hooks()\n",
        "    # This portion is not used.\n",
        "    # for hook in extra_hooks:\n",
        "    #     model.add_hook(*hook)\n",
        "    model.cache_some(\n",
        "        sender_cache, lambda x: x in sender_hook_names, suppress_warning=True\n",
        "    )\n",
        "    source_logits = model(patch_tokens.toks.long())\n",
        "\n",
        "    # Forward pass B\n",
        "    # Similar to running on \"corrupted\" prompts\n",
        "    target_cache = {}\n",
        "    model.reset_hooks()\n",
        "    # for hook in extra_hooks:\n",
        "    #     model.add_hook(*hook)\n",
        "    model.cache_all(target_cache, suppress_warning=True)\n",
        "    target_logits = model(orig_tokens.toks.long())\n",
        "\n",
        "    # Forward pass C\n",
        "    # Cache the receiver hooks\n",
        "    # (adding these hooks first means we save values BEFORE they are overwritten)\n",
        "    receiver_cache = {}\n",
        "    model.reset_hooks()\n",
        "    model.cache_some(\n",
        "        receiver_cache,\n",
        "        lambda x: x in receiver_hook_names,\n",
        "        suppress_warning=True,\n",
        "        verbose=False,\n",
        "    )\n",
        "\n",
        "    # \"Freeze\" intermediate heads to their orig_tokens values\n",
        "    # Effectively, for each layer and head, we are patching in the activations from run B\n",
        "    # (e.g. the \"corrupted\" prompts), which is equivalent to freezing their behavior to \n",
        "    # that of the \"corrupted\" prompts\n",
        "    for layer in range(model.cfg.n_layers):\n",
        "        for head_idx in range(model.cfg.n_heads):\n",
        "            for hook_template in [\n",
        "                \"blocks.{}.attn.hook_q\",\n",
        "                \"blocks.{}.attn.hook_k\",\n",
        "                \"blocks.{}.attn.hook_v\",\n",
        "            ]:\n",
        "                hook_name = hook_template.format(layer)\n",
        "\n",
        "                # this won't run in the default case\n",
        "                # if have_internal_interactions and hook_name in receiver_hook_names:\n",
        "                #     continue # stops the rest of the loop's code and goes to next iteration\n",
        "\n",
        "                hook = get_act_hook(\n",
        "                    patch_all,\n",
        "                    alt_act=target_cache[hook_name],\n",
        "                    idx=head_idx,\n",
        "                    dim=2 if head_idx is not None else None,\n",
        "                    name=hook_name,\n",
        "                )\n",
        "                model.add_hook(hook_name, hook)\n",
        "\n",
        "        # also won't run in the default case\n",
        "        # if freeze_mlps:\n",
        "        #     hook_name = f\"blocks.{layer}.hook_mlp_out\"\n",
        "        #     hook = get_act_hook(\n",
        "        #         patch_all,\n",
        "        #         alt_act=target_cache[hook_name],\n",
        "        #         idx=None,\n",
        "        #         dim=None,\n",
        "        #         name=hook_name,\n",
        "        #     )\n",
        "        #     model.add_hook(hook_name, hook)\n",
        "\n",
        "    # for hook in extra_hooks:\n",
        "    #     model.add_hook(*hook)\n",
        "\n",
        "    # These hooks will overwrite the freezing, for the sender heads - this should be forward pass C\n",
        "    # In more detail, the sender heads will be patched with the new or \"clean\" activations, and the MLPs\n",
        "    # and layer norms will be recomputed. Frozen heads won't be affected.\n",
        "    for hook_name, head_idx in sender_hooks:\n",
        "        assert not torch.allclose(sender_cache[hook_name], target_cache[hook_name]), (\n",
        "            hook_name,\n",
        "            head_idx,\n",
        "        )\n",
        "        hook = get_act_hook(\n",
        "            partial(patch_positions, positions=positions),\n",
        "            alt_act=sender_cache[hook_name],\n",
        "            idx=head_idx,\n",
        "            dim=2 if head_idx is not None else None,\n",
        "            name=hook_name,\n",
        "        )\n",
        "        model.add_hook(hook_name, hook)\n",
        "    receiver_logits = model(orig_tokens.toks.long())\n",
        "\n",
        "    # Add (or return) all the hooks needed for forward pass D\n",
        "    model.reset_hooks()\n",
        "    hooks = []\n",
        "\n",
        "    # Not used\n",
        "    # for hook in extra_hooks:\n",
        "    #     hooks.append(hook)\n",
        "\n",
        "    for hook_name, head_idx in receiver_hooks:\n",
        "        for pos in positions:\n",
        "            if torch.allclose(\n",
        "                receiver_cache[hook_name][torch.arange(orig_tokens.N), orig_tokens.word_idx[pos]],\n",
        "                target_cache[hook_name][torch.arange(orig_tokens.N), orig_tokens.word_idx[pos]],\n",
        "            ):\n",
        "                warnings.warn(\"Torch all close for {}\".format(hook_name))\n",
        "        \n",
        "        # Get the cached receiver activations (cached before getting overwritten)\n",
        "        hook = get_act_hook(\n",
        "            partial(patch_positions, positions=positions),\n",
        "            alt_act=receiver_cache[hook_name],\n",
        "            idx=head_idx,\n",
        "            dim=2 if head_idx is not None else None,\n",
        "            name=hook_name,\n",
        "        )\n",
        "        hooks.append((hook_name, hook))\n",
        "\n",
        "    model.reset_hooks()\n",
        "    if return_hooks:\n",
        "        return hooks\n",
        "    else:\n",
        "        for hook_name, hook in hooks:\n",
        "            model.add_hook(hook_name, hook)\n",
        "        return model"
      ]
    },
    {
      "cell_type": "code",
      "execution_count": null,
      "metadata": {
        "id": "-Q_Czb2bjTZe"
      },
      "outputs": [],
      "source": []
    }
  ],
  "metadata": {
    "accelerator": "GPU",
    "colab": {
      "provenance": [],
      "toc_visible": true
    },
    "gpuClass": "premium",
    "kernelspec": {
      "display_name": "Python 3",
      "name": "python3"
    },
    "language_info": {
      "codemirror_mode": {
        "name": "ipython",
        "version": 3
      },
      "file_extension": ".py",
      "mimetype": "text/x-python",
      "name": "python",
      "nbconvert_exporter": "python",
      "pygments_lexer": "ipython3",
      "version": "3.8.16"
    },
    "widgets": {
      "application/vnd.jupyter.widget-state+json": {
        "02100bf0396a48b8a89ea3de4928a4c4": {
          "model_module": "@jupyter-widgets/controls",
          "model_module_version": "1.5.0",
          "model_name": "DescriptionStyleModel",
          "state": {
            "_model_module": "@jupyter-widgets/controls",
            "_model_module_version": "1.5.0",
            "_model_name": "DescriptionStyleModel",
            "_view_count": null,
            "_view_module": "@jupyter-widgets/base",
            "_view_module_version": "1.2.0",
            "_view_name": "StyleView",
            "description_width": ""
          }
        },
        "026cbaecd3494a17aa85cb0436d7db26": {
          "model_module": "@jupyter-widgets/base",
          "model_module_version": "1.2.0",
          "model_name": "LayoutModel",
          "state": {
            "_model_module": "@jupyter-widgets/base",
            "_model_module_version": "1.2.0",
            "_model_name": "LayoutModel",
            "_view_count": null,
            "_view_module": "@jupyter-widgets/base",
            "_view_module_version": "1.2.0",
            "_view_name": "LayoutView",
            "align_content": null,
            "align_items": null,
            "align_self": null,
            "border": null,
            "bottom": null,
            "display": null,
            "flex": null,
            "flex_flow": null,
            "grid_area": null,
            "grid_auto_columns": null,
            "grid_auto_flow": null,
            "grid_auto_rows": null,
            "grid_column": null,
            "grid_gap": null,
            "grid_row": null,
            "grid_template_areas": null,
            "grid_template_columns": null,
            "grid_template_rows": null,
            "height": null,
            "justify_content": null,
            "justify_items": null,
            "left": null,
            "margin": null,
            "max_height": null,
            "max_width": null,
            "min_height": null,
            "min_width": null,
            "object_fit": null,
            "object_position": null,
            "order": null,
            "overflow": null,
            "overflow_x": null,
            "overflow_y": null,
            "padding": null,
            "right": null,
            "top": null,
            "visibility": null,
            "width": null
          }
        },
        "0345c53d78144d53b67e92b120e780c2": {
          "model_module": "@jupyter-widgets/base",
          "model_module_version": "1.2.0",
          "model_name": "LayoutModel",
          "state": {
            "_model_module": "@jupyter-widgets/base",
            "_model_module_version": "1.2.0",
            "_model_name": "LayoutModel",
            "_view_count": null,
            "_view_module": "@jupyter-widgets/base",
            "_view_module_version": "1.2.0",
            "_view_name": "LayoutView",
            "align_content": null,
            "align_items": null,
            "align_self": null,
            "border": null,
            "bottom": null,
            "display": null,
            "flex": null,
            "flex_flow": null,
            "grid_area": null,
            "grid_auto_columns": null,
            "grid_auto_flow": null,
            "grid_auto_rows": null,
            "grid_column": null,
            "grid_gap": null,
            "grid_row": null,
            "grid_template_areas": null,
            "grid_template_columns": null,
            "grid_template_rows": null,
            "height": null,
            "justify_content": null,
            "justify_items": null,
            "left": null,
            "margin": null,
            "max_height": null,
            "max_width": null,
            "min_height": null,
            "min_width": null,
            "object_fit": null,
            "object_position": null,
            "order": null,
            "overflow": null,
            "overflow_x": null,
            "overflow_y": null,
            "padding": null,
            "right": null,
            "top": null,
            "visibility": null,
            "width": null
          }
        },
        "036142f42e2d41c59676d31416eafc05": {
          "model_module": "@jupyter-widgets/controls",
          "model_module_version": "1.5.0",
          "model_name": "HTMLModel",
          "state": {
            "_dom_classes": [],
            "_model_module": "@jupyter-widgets/controls",
            "_model_module_version": "1.5.0",
            "_model_name": "HTMLModel",
            "_view_count": null,
            "_view_module": "@jupyter-widgets/controls",
            "_view_module_version": "1.5.0",
            "_view_name": "HTMLView",
            "description": "",
            "description_tooltip": null,
            "layout": "IPY_MODEL_d5be392889664f99820954f3ee6bcc07",
            "placeholder": "​",
            "style": "IPY_MODEL_79ce62cfa86b4a9087ed06403f5aebeb",
            "value": " 360/360 [00:44&lt;00:00,  8.05it/s]"
          }
        },
        "03c2cf0dd0d642a9aa25237dceeabfde": {
          "model_module": "@jupyter-widgets/controls",
          "model_module_version": "1.5.0",
          "model_name": "FloatProgressModel",
          "state": {
            "_dom_classes": [],
            "_model_module": "@jupyter-widgets/controls",
            "_model_module_version": "1.5.0",
            "_model_name": "FloatProgressModel",
            "_view_count": null,
            "_view_module": "@jupyter-widgets/controls",
            "_view_module_version": "1.5.0",
            "_view_name": "ProgressView",
            "bar_style": "success",
            "description": "",
            "description_tooltip": null,
            "layout": "IPY_MODEL_a2aeaa74dab24e50ac87c6ce0b6f68e6",
            "max": 384,
            "min": 0,
            "orientation": "horizontal",
            "style": "IPY_MODEL_07e020d75ac040598f5e06be2a0054bf",
            "value": 384
          }
        },
        "03d73123d0644c8c81d7a0b3f810b8da": {
          "model_module": "@jupyter-widgets/controls",
          "model_module_version": "1.5.0",
          "model_name": "DescriptionStyleModel",
          "state": {
            "_model_module": "@jupyter-widgets/controls",
            "_model_module_version": "1.5.0",
            "_model_name": "DescriptionStyleModel",
            "_view_count": null,
            "_view_module": "@jupyter-widgets/base",
            "_view_module_version": "1.2.0",
            "_view_name": "StyleView",
            "description_width": ""
          }
        },
        "041c551ac941479f8322b181708adbc3": {
          "model_module": "@jupyter-widgets/base",
          "model_module_version": "1.2.0",
          "model_name": "LayoutModel",
          "state": {
            "_model_module": "@jupyter-widgets/base",
            "_model_module_version": "1.2.0",
            "_model_name": "LayoutModel",
            "_view_count": null,
            "_view_module": "@jupyter-widgets/base",
            "_view_module_version": "1.2.0",
            "_view_name": "LayoutView",
            "align_content": null,
            "align_items": null,
            "align_self": null,
            "border": null,
            "bottom": null,
            "display": null,
            "flex": null,
            "flex_flow": null,
            "grid_area": null,
            "grid_auto_columns": null,
            "grid_auto_flow": null,
            "grid_auto_rows": null,
            "grid_column": null,
            "grid_gap": null,
            "grid_row": null,
            "grid_template_areas": null,
            "grid_template_columns": null,
            "grid_template_rows": null,
            "height": null,
            "justify_content": null,
            "justify_items": null,
            "left": null,
            "margin": null,
            "max_height": null,
            "max_width": null,
            "min_height": null,
            "min_width": null,
            "object_fit": null,
            "object_position": null,
            "order": null,
            "overflow": null,
            "overflow_x": null,
            "overflow_y": null,
            "padding": null,
            "right": null,
            "top": null,
            "visibility": null,
            "width": null
          }
        },
        "0566aeabf61c4380933dd30d5b401e49": {
          "model_module": "@jupyter-widgets/controls",
          "model_module_version": "1.5.0",
          "model_name": "ProgressStyleModel",
          "state": {
            "_model_module": "@jupyter-widgets/controls",
            "_model_module_version": "1.5.0",
            "_model_name": "ProgressStyleModel",
            "_view_count": null,
            "_view_module": "@jupyter-widgets/base",
            "_view_module_version": "1.2.0",
            "_view_name": "StyleView",
            "bar_color": null,
            "description_width": ""
          }
        },
        "05b59010ed974dd986a86839101ce3ea": {
          "model_module": "@jupyter-widgets/controls",
          "model_module_version": "1.5.0",
          "model_name": "PasswordModel",
          "state": {
            "_dom_classes": [],
            "_model_module": "@jupyter-widgets/controls",
            "_model_module_version": "1.5.0",
            "_model_name": "PasswordModel",
            "_view_count": null,
            "_view_module": "@jupyter-widgets/controls",
            "_view_module_version": "1.5.0",
            "_view_name": "PasswordView",
            "continuous_update": true,
            "description": "Token:",
            "description_tooltip": null,
            "disabled": false,
            "layout": "IPY_MODEL_7bc47fcae8894169ac81513918f395ff",
            "placeholder": "​",
            "style": "IPY_MODEL_37e40e703dda488aa232f65a2c975b88",
            "value": ""
          }
        },
        "063c166bc4b44f0292ca6ff9133cd0b7": {
          "model_module": "@jupyter-widgets/base",
          "model_module_version": "1.2.0",
          "model_name": "LayoutModel",
          "state": {
            "_model_module": "@jupyter-widgets/base",
            "_model_module_version": "1.2.0",
            "_model_name": "LayoutModel",
            "_view_count": null,
            "_view_module": "@jupyter-widgets/base",
            "_view_module_version": "1.2.0",
            "_view_name": "LayoutView",
            "align_content": null,
            "align_items": null,
            "align_self": null,
            "border": null,
            "bottom": null,
            "display": null,
            "flex": null,
            "flex_flow": null,
            "grid_area": null,
            "grid_auto_columns": null,
            "grid_auto_flow": null,
            "grid_auto_rows": null,
            "grid_column": null,
            "grid_gap": null,
            "grid_row": null,
            "grid_template_areas": null,
            "grid_template_columns": null,
            "grid_template_rows": null,
            "height": null,
            "justify_content": null,
            "justify_items": null,
            "left": null,
            "margin": null,
            "max_height": null,
            "max_width": null,
            "min_height": null,
            "min_width": null,
            "object_fit": null,
            "object_position": null,
            "order": null,
            "overflow": null,
            "overflow_x": null,
            "overflow_y": null,
            "padding": null,
            "right": null,
            "top": null,
            "visibility": null,
            "width": null
          }
        },
        "06a30641a31448a7a9071844d50d9e65": {
          "model_module": "@jupyter-widgets/controls",
          "model_module_version": "1.5.0",
          "model_name": "DescriptionStyleModel",
          "state": {
            "_model_module": "@jupyter-widgets/controls",
            "_model_module_version": "1.5.0",
            "_model_name": "DescriptionStyleModel",
            "_view_count": null,
            "_view_module": "@jupyter-widgets/base",
            "_view_module_version": "1.2.0",
            "_view_name": "StyleView",
            "description_width": ""
          }
        },
        "0736a66395f74d03864b10d7adf49050": {
          "model_module": "@jupyter-widgets/controls",
          "model_module_version": "1.5.0",
          "model_name": "FloatProgressModel",
          "state": {
            "_dom_classes": [],
            "_model_module": "@jupyter-widgets/controls",
            "_model_module_version": "1.5.0",
            "_model_name": "FloatProgressModel",
            "_view_count": null,
            "_view_module": "@jupyter-widgets/controls",
            "_view_module_version": "1.5.0",
            "_view_name": "ProgressView",
            "bar_style": "success",
            "description": "",
            "description_tooltip": null,
            "layout": "IPY_MODEL_21a949a23ee94003a204d0ff4fa94de8",
            "max": 360,
            "min": 0,
            "orientation": "horizontal",
            "style": "IPY_MODEL_b48fc3b10fb04f91a208f1ce6b1c8545",
            "value": 360
          }
        },
        "07e020d75ac040598f5e06be2a0054bf": {
          "model_module": "@jupyter-widgets/controls",
          "model_module_version": "1.5.0",
          "model_name": "ProgressStyleModel",
          "state": {
            "_model_module": "@jupyter-widgets/controls",
            "_model_module_version": "1.5.0",
            "_model_name": "ProgressStyleModel",
            "_view_count": null,
            "_view_module": "@jupyter-widgets/base",
            "_view_module_version": "1.2.0",
            "_view_name": "StyleView",
            "bar_color": null,
            "description_width": ""
          }
        },
        "0889b0f8f6f246a2a1fe5a4d7c2c4685": {
          "model_module": "@jupyter-widgets/controls",
          "model_module_version": "1.5.0",
          "model_name": "ProgressStyleModel",
          "state": {
            "_model_module": "@jupyter-widgets/controls",
            "_model_module_version": "1.5.0",
            "_model_name": "ProgressStyleModel",
            "_view_count": null,
            "_view_module": "@jupyter-widgets/base",
            "_view_module_version": "1.2.0",
            "_view_name": "StyleView",
            "bar_color": null,
            "description_width": ""
          }
        },
        "0a31b769bf934c2ea2c7e80e0f5fe8db": {
          "model_module": "@jupyter-widgets/base",
          "model_module_version": "1.2.0",
          "model_name": "LayoutModel",
          "state": {
            "_model_module": "@jupyter-widgets/base",
            "_model_module_version": "1.2.0",
            "_model_name": "LayoutModel",
            "_view_count": null,
            "_view_module": "@jupyter-widgets/base",
            "_view_module_version": "1.2.0",
            "_view_name": "LayoutView",
            "align_content": null,
            "align_items": null,
            "align_self": null,
            "border": null,
            "bottom": null,
            "display": null,
            "flex": null,
            "flex_flow": null,
            "grid_area": null,
            "grid_auto_columns": null,
            "grid_auto_flow": null,
            "grid_auto_rows": null,
            "grid_column": null,
            "grid_gap": null,
            "grid_row": null,
            "grid_template_areas": null,
            "grid_template_columns": null,
            "grid_template_rows": null,
            "height": null,
            "justify_content": null,
            "justify_items": null,
            "left": null,
            "margin": null,
            "max_height": null,
            "max_width": null,
            "min_height": null,
            "min_width": null,
            "object_fit": null,
            "object_position": null,
            "order": null,
            "overflow": null,
            "overflow_x": null,
            "overflow_y": null,
            "padding": null,
            "right": null,
            "top": null,
            "visibility": null,
            "width": null
          }
        },
        "0b308524d6f14ea192166d1ba1e7a809": {
          "model_module": "@jupyter-widgets/base",
          "model_module_version": "1.2.0",
          "model_name": "LayoutModel",
          "state": {
            "_model_module": "@jupyter-widgets/base",
            "_model_module_version": "1.2.0",
            "_model_name": "LayoutModel",
            "_view_count": null,
            "_view_module": "@jupyter-widgets/base",
            "_view_module_version": "1.2.0",
            "_view_name": "LayoutView",
            "align_content": null,
            "align_items": null,
            "align_self": null,
            "border": null,
            "bottom": null,
            "display": null,
            "flex": null,
            "flex_flow": null,
            "grid_area": null,
            "grid_auto_columns": null,
            "grid_auto_flow": null,
            "grid_auto_rows": null,
            "grid_column": null,
            "grid_gap": null,
            "grid_row": null,
            "grid_template_areas": null,
            "grid_template_columns": null,
            "grid_template_rows": null,
            "height": null,
            "justify_content": null,
            "justify_items": null,
            "left": null,
            "margin": null,
            "max_height": null,
            "max_width": null,
            "min_height": null,
            "min_width": null,
            "object_fit": null,
            "object_position": null,
            "order": null,
            "overflow": null,
            "overflow_x": null,
            "overflow_y": null,
            "padding": null,
            "right": null,
            "top": null,
            "visibility": null,
            "width": null
          }
        },
        "0ca6f2e4b58a4a769ee210f6d6dca658": {
          "model_module": "@jupyter-widgets/base",
          "model_module_version": "1.2.0",
          "model_name": "LayoutModel",
          "state": {
            "_model_module": "@jupyter-widgets/base",
            "_model_module_version": "1.2.0",
            "_model_name": "LayoutModel",
            "_view_count": null,
            "_view_module": "@jupyter-widgets/base",
            "_view_module_version": "1.2.0",
            "_view_name": "LayoutView",
            "align_content": null,
            "align_items": null,
            "align_self": null,
            "border": null,
            "bottom": null,
            "display": null,
            "flex": null,
            "flex_flow": null,
            "grid_area": null,
            "grid_auto_columns": null,
            "grid_auto_flow": null,
            "grid_auto_rows": null,
            "grid_column": null,
            "grid_gap": null,
            "grid_row": null,
            "grid_template_areas": null,
            "grid_template_columns": null,
            "grid_template_rows": null,
            "height": null,
            "justify_content": null,
            "justify_items": null,
            "left": null,
            "margin": null,
            "max_height": null,
            "max_width": null,
            "min_height": null,
            "min_width": null,
            "object_fit": null,
            "object_position": null,
            "order": null,
            "overflow": null,
            "overflow_x": null,
            "overflow_y": null,
            "padding": null,
            "right": null,
            "top": null,
            "visibility": null,
            "width": null
          }
        },
        "0d0d3e1a342f4d5ab798daefed787fce": {
          "model_module": "@jupyter-widgets/controls",
          "model_module_version": "1.5.0",
          "model_name": "ButtonModel",
          "state": {
            "_dom_classes": [],
            "_model_module": "@jupyter-widgets/controls",
            "_model_module_version": "1.5.0",
            "_model_name": "ButtonModel",
            "_view_count": null,
            "_view_module": "@jupyter-widgets/controls",
            "_view_module_version": "1.5.0",
            "_view_name": "ButtonView",
            "button_style": "",
            "description": "Login",
            "disabled": false,
            "icon": "",
            "layout": "IPY_MODEL_af4f408d66144b5bb9ce45f735f58723",
            "style": "IPY_MODEL_c5d36f6ecdf74c66bcbbc35e6d95e158",
            "tooltip": ""
          }
        },
        "0d25db27700e4de989f1a5c3587a3a4a": {
          "model_module": "@jupyter-widgets/controls",
          "model_module_version": "1.5.0",
          "model_name": "ProgressStyleModel",
          "state": {
            "_model_module": "@jupyter-widgets/controls",
            "_model_module_version": "1.5.0",
            "_model_name": "ProgressStyleModel",
            "_view_count": null,
            "_view_module": "@jupyter-widgets/base",
            "_view_module_version": "1.2.0",
            "_view_name": "StyleView",
            "bar_color": null,
            "description_width": ""
          }
        },
        "0d59de8d71ec4c5dbe46518c812547f9": {
          "model_module": "@jupyter-widgets/controls",
          "model_module_version": "1.5.0",
          "model_name": "DescriptionStyleModel",
          "state": {
            "_model_module": "@jupyter-widgets/controls",
            "_model_module_version": "1.5.0",
            "_model_name": "DescriptionStyleModel",
            "_view_count": null,
            "_view_module": "@jupyter-widgets/base",
            "_view_module_version": "1.2.0",
            "_view_name": "StyleView",
            "description_width": ""
          }
        },
        "0d94912b59dc4e7e927892f15793ca98": {
          "model_module": "@jupyter-widgets/controls",
          "model_module_version": "1.5.0",
          "model_name": "ProgressStyleModel",
          "state": {
            "_model_module": "@jupyter-widgets/controls",
            "_model_module_version": "1.5.0",
            "_model_name": "ProgressStyleModel",
            "_view_count": null,
            "_view_module": "@jupyter-widgets/base",
            "_view_module_version": "1.2.0",
            "_view_name": "StyleView",
            "bar_color": null,
            "description_width": ""
          }
        },
        "0e8caec2bba745be80069601d893e34c": {
          "model_module": "@jupyter-widgets/base",
          "model_module_version": "1.2.0",
          "model_name": "LayoutModel",
          "state": {
            "_model_module": "@jupyter-widgets/base",
            "_model_module_version": "1.2.0",
            "_model_name": "LayoutModel",
            "_view_count": null,
            "_view_module": "@jupyter-widgets/base",
            "_view_module_version": "1.2.0",
            "_view_name": "LayoutView",
            "align_content": null,
            "align_items": null,
            "align_self": null,
            "border": null,
            "bottom": null,
            "display": null,
            "flex": null,
            "flex_flow": null,
            "grid_area": null,
            "grid_auto_columns": null,
            "grid_auto_flow": null,
            "grid_auto_rows": null,
            "grid_column": null,
            "grid_gap": null,
            "grid_row": null,
            "grid_template_areas": null,
            "grid_template_columns": null,
            "grid_template_rows": null,
            "height": null,
            "justify_content": null,
            "justify_items": null,
            "left": null,
            "margin": null,
            "max_height": null,
            "max_width": null,
            "min_height": null,
            "min_width": null,
            "object_fit": null,
            "object_position": null,
            "order": null,
            "overflow": null,
            "overflow_x": null,
            "overflow_y": null,
            "padding": null,
            "right": null,
            "top": null,
            "visibility": null,
            "width": null
          }
        },
        "101fb873c0f247f0ad327e235bef7669": {
          "model_module": "@jupyter-widgets/controls",
          "model_module_version": "1.5.0",
          "model_name": "DescriptionStyleModel",
          "state": {
            "_model_module": "@jupyter-widgets/controls",
            "_model_module_version": "1.5.0",
            "_model_name": "DescriptionStyleModel",
            "_view_count": null,
            "_view_module": "@jupyter-widgets/base",
            "_view_module_version": "1.2.0",
            "_view_name": "StyleView",
            "description_width": ""
          }
        },
        "1076ca8b6f32490da48c9fe17200cf3a": {
          "model_module": "@jupyter-widgets/base",
          "model_module_version": "1.2.0",
          "model_name": "LayoutModel",
          "state": {
            "_model_module": "@jupyter-widgets/base",
            "_model_module_version": "1.2.0",
            "_model_name": "LayoutModel",
            "_view_count": null,
            "_view_module": "@jupyter-widgets/base",
            "_view_module_version": "1.2.0",
            "_view_name": "LayoutView",
            "align_content": null,
            "align_items": null,
            "align_self": null,
            "border": null,
            "bottom": null,
            "display": null,
            "flex": null,
            "flex_flow": null,
            "grid_area": null,
            "grid_auto_columns": null,
            "grid_auto_flow": null,
            "grid_auto_rows": null,
            "grid_column": null,
            "grid_gap": null,
            "grid_row": null,
            "grid_template_areas": null,
            "grid_template_columns": null,
            "grid_template_rows": null,
            "height": null,
            "justify_content": null,
            "justify_items": null,
            "left": null,
            "margin": null,
            "max_height": null,
            "max_width": null,
            "min_height": null,
            "min_width": null,
            "object_fit": null,
            "object_position": null,
            "order": null,
            "overflow": null,
            "overflow_x": null,
            "overflow_y": null,
            "padding": null,
            "right": null,
            "top": null,
            "visibility": null,
            "width": null
          }
        },
        "12b5b9254b824bb98e7884bb1551cf45": {
          "model_module": "@jupyter-widgets/base",
          "model_module_version": "1.2.0",
          "model_name": "LayoutModel",
          "state": {
            "_model_module": "@jupyter-widgets/base",
            "_model_module_version": "1.2.0",
            "_model_name": "LayoutModel",
            "_view_count": null,
            "_view_module": "@jupyter-widgets/base",
            "_view_module_version": "1.2.0",
            "_view_name": "LayoutView",
            "align_content": null,
            "align_items": null,
            "align_self": null,
            "border": null,
            "bottom": null,
            "display": null,
            "flex": null,
            "flex_flow": null,
            "grid_area": null,
            "grid_auto_columns": null,
            "grid_auto_flow": null,
            "grid_auto_rows": null,
            "grid_column": null,
            "grid_gap": null,
            "grid_row": null,
            "grid_template_areas": null,
            "grid_template_columns": null,
            "grid_template_rows": null,
            "height": null,
            "justify_content": null,
            "justify_items": null,
            "left": null,
            "margin": null,
            "max_height": null,
            "max_width": null,
            "min_height": null,
            "min_width": null,
            "object_fit": null,
            "object_position": null,
            "order": null,
            "overflow": null,
            "overflow_x": null,
            "overflow_y": null,
            "padding": null,
            "right": null,
            "top": null,
            "visibility": null,
            "width": null
          }
        },
        "131adce7a0434cf5a35d35645ea19bc4": {
          "model_module": "@jupyter-widgets/controls",
          "model_module_version": "1.5.0",
          "model_name": "FloatProgressModel",
          "state": {
            "_dom_classes": [],
            "_model_module": "@jupyter-widgets/controls",
            "_model_module_version": "1.5.0",
            "_model_name": "FloatProgressModel",
            "_view_count": null,
            "_view_module": "@jupyter-widgets/controls",
            "_view_module_version": "1.5.0",
            "_view_name": "ProgressView",
            "bar_style": "success",
            "description": "",
            "description_tooltip": null,
            "layout": "IPY_MODEL_490dae1ed740469a9d51dbc7412baace",
            "max": 384,
            "min": 0,
            "orientation": "horizontal",
            "style": "IPY_MODEL_30f04baf863541ecbcee146ae71aab3f",
            "value": 384
          }
        },
        "15b33dd1239d4df8a9ca7c418047b22d": {
          "model_module": "@jupyter-widgets/base",
          "model_module_version": "1.2.0",
          "model_name": "LayoutModel",
          "state": {
            "_model_module": "@jupyter-widgets/base",
            "_model_module_version": "1.2.0",
            "_model_name": "LayoutModel",
            "_view_count": null,
            "_view_module": "@jupyter-widgets/base",
            "_view_module_version": "1.2.0",
            "_view_name": "LayoutView",
            "align_content": null,
            "align_items": null,
            "align_self": null,
            "border": null,
            "bottom": null,
            "display": null,
            "flex": null,
            "flex_flow": null,
            "grid_area": null,
            "grid_auto_columns": null,
            "grid_auto_flow": null,
            "grid_auto_rows": null,
            "grid_column": null,
            "grid_gap": null,
            "grid_row": null,
            "grid_template_areas": null,
            "grid_template_columns": null,
            "grid_template_rows": null,
            "height": null,
            "justify_content": null,
            "justify_items": null,
            "left": null,
            "margin": null,
            "max_height": null,
            "max_width": null,
            "min_height": null,
            "min_width": null,
            "object_fit": null,
            "object_position": null,
            "order": null,
            "overflow": null,
            "overflow_x": null,
            "overflow_y": null,
            "padding": null,
            "right": null,
            "top": null,
            "visibility": null,
            "width": null
          }
        },
        "15bf0f002c5d42ff80885016c14209d8": {
          "model_module": "@jupyter-widgets/base",
          "model_module_version": "1.2.0",
          "model_name": "LayoutModel",
          "state": {
            "_model_module": "@jupyter-widgets/base",
            "_model_module_version": "1.2.0",
            "_model_name": "LayoutModel",
            "_view_count": null,
            "_view_module": "@jupyter-widgets/base",
            "_view_module_version": "1.2.0",
            "_view_name": "LayoutView",
            "align_content": null,
            "align_items": null,
            "align_self": null,
            "border": null,
            "bottom": null,
            "display": null,
            "flex": null,
            "flex_flow": null,
            "grid_area": null,
            "grid_auto_columns": null,
            "grid_auto_flow": null,
            "grid_auto_rows": null,
            "grid_column": null,
            "grid_gap": null,
            "grid_row": null,
            "grid_template_areas": null,
            "grid_template_columns": null,
            "grid_template_rows": null,
            "height": null,
            "justify_content": null,
            "justify_items": null,
            "left": null,
            "margin": null,
            "max_height": null,
            "max_width": null,
            "min_height": null,
            "min_width": null,
            "object_fit": null,
            "object_position": null,
            "order": null,
            "overflow": null,
            "overflow_x": null,
            "overflow_y": null,
            "padding": null,
            "right": null,
            "top": null,
            "visibility": null,
            "width": null
          }
        },
        "16d2886cd27341e5a1fa85c91ba50b26": {
          "model_module": "@jupyter-widgets/base",
          "model_module_version": "1.2.0",
          "model_name": "LayoutModel",
          "state": {
            "_model_module": "@jupyter-widgets/base",
            "_model_module_version": "1.2.0",
            "_model_name": "LayoutModel",
            "_view_count": null,
            "_view_module": "@jupyter-widgets/base",
            "_view_module_version": "1.2.0",
            "_view_name": "LayoutView",
            "align_content": null,
            "align_items": null,
            "align_self": null,
            "border": null,
            "bottom": null,
            "display": null,
            "flex": null,
            "flex_flow": null,
            "grid_area": null,
            "grid_auto_columns": null,
            "grid_auto_flow": null,
            "grid_auto_rows": null,
            "grid_column": null,
            "grid_gap": null,
            "grid_row": null,
            "grid_template_areas": null,
            "grid_template_columns": null,
            "grid_template_rows": null,
            "height": null,
            "justify_content": null,
            "justify_items": null,
            "left": null,
            "margin": null,
            "max_height": null,
            "max_width": null,
            "min_height": null,
            "min_width": null,
            "object_fit": null,
            "object_position": null,
            "order": null,
            "overflow": null,
            "overflow_x": null,
            "overflow_y": null,
            "padding": null,
            "right": null,
            "top": null,
            "visibility": null,
            "width": null
          }
        },
        "1757ce7338594a5a955786e5c9fe9404": {
          "model_module": "@jupyter-widgets/controls",
          "model_module_version": "1.5.0",
          "model_name": "HTMLModel",
          "state": {
            "_dom_classes": [],
            "_model_module": "@jupyter-widgets/controls",
            "_model_module_version": "1.5.0",
            "_model_name": "HTMLModel",
            "_view_count": null,
            "_view_module": "@jupyter-widgets/controls",
            "_view_module_version": "1.5.0",
            "_view_name": "HTMLView",
            "description": "",
            "description_tooltip": null,
            "layout": "IPY_MODEL_4f21d5eaf6ec42afbbf4195c7d7ac83d",
            "placeholder": "​",
            "style": "IPY_MODEL_4b20e429dbe24ff7933b7ed58dee82fd",
            "value": " 384/384 [00:49&lt;00:00,  8.10it/s]"
          }
        },
        "17ace2dfd3ee44e3bfa51bb222058218": {
          "model_module": "@jupyter-widgets/base",
          "model_module_version": "1.2.0",
          "model_name": "LayoutModel",
          "state": {
            "_model_module": "@jupyter-widgets/base",
            "_model_module_version": "1.2.0",
            "_model_name": "LayoutModel",
            "_view_count": null,
            "_view_module": "@jupyter-widgets/base",
            "_view_module_version": "1.2.0",
            "_view_name": "LayoutView",
            "align_content": null,
            "align_items": null,
            "align_self": null,
            "border": null,
            "bottom": null,
            "display": null,
            "flex": null,
            "flex_flow": null,
            "grid_area": null,
            "grid_auto_columns": null,
            "grid_auto_flow": null,
            "grid_auto_rows": null,
            "grid_column": null,
            "grid_gap": null,
            "grid_row": null,
            "grid_template_areas": null,
            "grid_template_columns": null,
            "grid_template_rows": null,
            "height": null,
            "justify_content": null,
            "justify_items": null,
            "left": null,
            "margin": null,
            "max_height": null,
            "max_width": null,
            "min_height": null,
            "min_width": null,
            "object_fit": null,
            "object_position": null,
            "order": null,
            "overflow": null,
            "overflow_x": null,
            "overflow_y": null,
            "padding": null,
            "right": null,
            "top": null,
            "visibility": null,
            "width": null
          }
        },
        "17e7f405110c4c70a98c6a904a2a8c0f": {
          "model_module": "@jupyter-widgets/base",
          "model_module_version": "1.2.0",
          "model_name": "LayoutModel",
          "state": {
            "_model_module": "@jupyter-widgets/base",
            "_model_module_version": "1.2.0",
            "_model_name": "LayoutModel",
            "_view_count": null,
            "_view_module": "@jupyter-widgets/base",
            "_view_module_version": "1.2.0",
            "_view_name": "LayoutView",
            "align_content": null,
            "align_items": null,
            "align_self": null,
            "border": null,
            "bottom": null,
            "display": null,
            "flex": null,
            "flex_flow": null,
            "grid_area": null,
            "grid_auto_columns": null,
            "grid_auto_flow": null,
            "grid_auto_rows": null,
            "grid_column": null,
            "grid_gap": null,
            "grid_row": null,
            "grid_template_areas": null,
            "grid_template_columns": null,
            "grid_template_rows": null,
            "height": null,
            "justify_content": null,
            "justify_items": null,
            "left": null,
            "margin": null,
            "max_height": null,
            "max_width": null,
            "min_height": null,
            "min_width": null,
            "object_fit": null,
            "object_position": null,
            "order": null,
            "overflow": null,
            "overflow_x": null,
            "overflow_y": null,
            "padding": null,
            "right": null,
            "top": null,
            "visibility": null,
            "width": null
          }
        },
        "17f94e50790d4c29823c40718bf2c641": {
          "model_module": "@jupyter-widgets/controls",
          "model_module_version": "1.5.0",
          "model_name": "HBoxModel",
          "state": {
            "_dom_classes": [],
            "_model_module": "@jupyter-widgets/controls",
            "_model_module_version": "1.5.0",
            "_model_name": "HBoxModel",
            "_view_count": null,
            "_view_module": "@jupyter-widgets/controls",
            "_view_module_version": "1.5.0",
            "_view_name": "HBoxView",
            "box_style": "",
            "children": [
              "IPY_MODEL_93c9526b56944ba28c3e4f5a3c026b88",
              "IPY_MODEL_131adce7a0434cf5a35d35645ea19bc4",
              "IPY_MODEL_1757ce7338594a5a955786e5c9fe9404"
            ],
            "layout": "IPY_MODEL_026cbaecd3494a17aa85cb0436d7db26"
          }
        },
        "1d156ea8352d4dc2b28afa4a8f272124": {
          "model_module": "@jupyter-widgets/controls",
          "model_module_version": "1.5.0",
          "model_name": "ProgressStyleModel",
          "state": {
            "_model_module": "@jupyter-widgets/controls",
            "_model_module_version": "1.5.0",
            "_model_name": "ProgressStyleModel",
            "_view_count": null,
            "_view_module": "@jupyter-widgets/base",
            "_view_module_version": "1.2.0",
            "_view_name": "StyleView",
            "bar_color": null,
            "description_width": ""
          }
        },
        "1d96e3a4df8b41ddbe2bc039726bfc96": {
          "model_module": "@jupyter-widgets/base",
          "model_module_version": "1.2.0",
          "model_name": "LayoutModel",
          "state": {
            "_model_module": "@jupyter-widgets/base",
            "_model_module_version": "1.2.0",
            "_model_name": "LayoutModel",
            "_view_count": null,
            "_view_module": "@jupyter-widgets/base",
            "_view_module_version": "1.2.0",
            "_view_name": "LayoutView",
            "align_content": null,
            "align_items": null,
            "align_self": null,
            "border": null,
            "bottom": null,
            "display": null,
            "flex": null,
            "flex_flow": null,
            "grid_area": null,
            "grid_auto_columns": null,
            "grid_auto_flow": null,
            "grid_auto_rows": null,
            "grid_column": null,
            "grid_gap": null,
            "grid_row": null,
            "grid_template_areas": null,
            "grid_template_columns": null,
            "grid_template_rows": null,
            "height": null,
            "justify_content": null,
            "justify_items": null,
            "left": null,
            "margin": null,
            "max_height": null,
            "max_width": null,
            "min_height": null,
            "min_width": null,
            "object_fit": null,
            "object_position": null,
            "order": null,
            "overflow": null,
            "overflow_x": null,
            "overflow_y": null,
            "padding": null,
            "right": null,
            "top": null,
            "visibility": null,
            "width": null
          }
        },
        "21a949a23ee94003a204d0ff4fa94de8": {
          "model_module": "@jupyter-widgets/base",
          "model_module_version": "1.2.0",
          "model_name": "LayoutModel",
          "state": {
            "_model_module": "@jupyter-widgets/base",
            "_model_module_version": "1.2.0",
            "_model_name": "LayoutModel",
            "_view_count": null,
            "_view_module": "@jupyter-widgets/base",
            "_view_module_version": "1.2.0",
            "_view_name": "LayoutView",
            "align_content": null,
            "align_items": null,
            "align_self": null,
            "border": null,
            "bottom": null,
            "display": null,
            "flex": null,
            "flex_flow": null,
            "grid_area": null,
            "grid_auto_columns": null,
            "grid_auto_flow": null,
            "grid_auto_rows": null,
            "grid_column": null,
            "grid_gap": null,
            "grid_row": null,
            "grid_template_areas": null,
            "grid_template_columns": null,
            "grid_template_rows": null,
            "height": null,
            "justify_content": null,
            "justify_items": null,
            "left": null,
            "margin": null,
            "max_height": null,
            "max_width": null,
            "min_height": null,
            "min_width": null,
            "object_fit": null,
            "object_position": null,
            "order": null,
            "overflow": null,
            "overflow_x": null,
            "overflow_y": null,
            "padding": null,
            "right": null,
            "top": null,
            "visibility": null,
            "width": null
          }
        },
        "21b65c1b3d9348cfa4312944e68fb27f": {
          "model_module": "@jupyter-widgets/base",
          "model_module_version": "1.2.0",
          "model_name": "LayoutModel",
          "state": {
            "_model_module": "@jupyter-widgets/base",
            "_model_module_version": "1.2.0",
            "_model_name": "LayoutModel",
            "_view_count": null,
            "_view_module": "@jupyter-widgets/base",
            "_view_module_version": "1.2.0",
            "_view_name": "LayoutView",
            "align_content": null,
            "align_items": null,
            "align_self": null,
            "border": null,
            "bottom": null,
            "display": null,
            "flex": null,
            "flex_flow": null,
            "grid_area": null,
            "grid_auto_columns": null,
            "grid_auto_flow": null,
            "grid_auto_rows": null,
            "grid_column": null,
            "grid_gap": null,
            "grid_row": null,
            "grid_template_areas": null,
            "grid_template_columns": null,
            "grid_template_rows": null,
            "height": null,
            "justify_content": null,
            "justify_items": null,
            "left": null,
            "margin": null,
            "max_height": null,
            "max_width": null,
            "min_height": null,
            "min_width": null,
            "object_fit": null,
            "object_position": null,
            "order": null,
            "overflow": null,
            "overflow_x": null,
            "overflow_y": null,
            "padding": null,
            "right": null,
            "top": null,
            "visibility": null,
            "width": null
          }
        },
        "23fb054532874e749305421247d85ba5": {
          "model_module": "@jupyter-widgets/controls",
          "model_module_version": "1.5.0",
          "model_name": "DescriptionStyleModel",
          "state": {
            "_model_module": "@jupyter-widgets/controls",
            "_model_module_version": "1.5.0",
            "_model_name": "DescriptionStyleModel",
            "_view_count": null,
            "_view_module": "@jupyter-widgets/base",
            "_view_module_version": "1.2.0",
            "_view_name": "StyleView",
            "description_width": ""
          }
        },
        "25a1823126c24e5f80e857c150cd3dbd": {
          "model_module": "@jupyter-widgets/base",
          "model_module_version": "1.2.0",
          "model_name": "LayoutModel",
          "state": {
            "_model_module": "@jupyter-widgets/base",
            "_model_module_version": "1.2.0",
            "_model_name": "LayoutModel",
            "_view_count": null,
            "_view_module": "@jupyter-widgets/base",
            "_view_module_version": "1.2.0",
            "_view_name": "LayoutView",
            "align_content": null,
            "align_items": null,
            "align_self": null,
            "border": null,
            "bottom": null,
            "display": null,
            "flex": null,
            "flex_flow": null,
            "grid_area": null,
            "grid_auto_columns": null,
            "grid_auto_flow": null,
            "grid_auto_rows": null,
            "grid_column": null,
            "grid_gap": null,
            "grid_row": null,
            "grid_template_areas": null,
            "grid_template_columns": null,
            "grid_template_rows": null,
            "height": null,
            "justify_content": null,
            "justify_items": null,
            "left": null,
            "margin": null,
            "max_height": null,
            "max_width": null,
            "min_height": null,
            "min_width": null,
            "object_fit": null,
            "object_position": null,
            "order": null,
            "overflow": null,
            "overflow_x": null,
            "overflow_y": null,
            "padding": null,
            "right": null,
            "top": null,
            "visibility": null,
            "width": null
          }
        },
        "25e12d29c27b47a19be5c9fdb173dab8": {
          "model_module": "@jupyter-widgets/controls",
          "model_module_version": "1.5.0",
          "model_name": "HTMLModel",
          "state": {
            "_dom_classes": [],
            "_model_module": "@jupyter-widgets/controls",
            "_model_module_version": "1.5.0",
            "_model_name": "HTMLModel",
            "_view_count": null,
            "_view_module": "@jupyter-widgets/controls",
            "_view_module_version": "1.5.0",
            "_view_name": "HTMLView",
            "description": "",
            "description_tooltip": null,
            "layout": "IPY_MODEL_c0e46d7929e04a8e8c3d560cb1485981",
            "placeholder": "​",
            "style": "IPY_MODEL_23fb054532874e749305421247d85ba5",
            "value": "100%"
          }
        },
        "266328f488064603892cfd81dbc06762": {
          "model_module": "@jupyter-widgets/controls",
          "model_module_version": "1.5.0",
          "model_name": "DescriptionStyleModel",
          "state": {
            "_model_module": "@jupyter-widgets/controls",
            "_model_module_version": "1.5.0",
            "_model_name": "DescriptionStyleModel",
            "_view_count": null,
            "_view_module": "@jupyter-widgets/base",
            "_view_module_version": "1.2.0",
            "_view_name": "StyleView",
            "description_width": ""
          }
        },
        "2670132a6fe9405fa8fa76173fba926b": {
          "model_module": "@jupyter-widgets/controls",
          "model_module_version": "1.5.0",
          "model_name": "FloatProgressModel",
          "state": {
            "_dom_classes": [],
            "_model_module": "@jupyter-widgets/controls",
            "_model_module_version": "1.5.0",
            "_model_name": "FloatProgressModel",
            "_view_count": null,
            "_view_module": "@jupyter-widgets/controls",
            "_view_module_version": "1.5.0",
            "_view_name": "ProgressView",
            "bar_style": "success",
            "description": "",
            "description_tooltip": null,
            "layout": "IPY_MODEL_a5f8ac9ebb6a4d7f9e52100af5558d29",
            "max": 360,
            "min": 0,
            "orientation": "horizontal",
            "style": "IPY_MODEL_2a0516d5e7cf4119b5be3598c676d0d3",
            "value": 360
          }
        },
        "26c3d5bd9e1647f595876e002d2966eb": {
          "model_module": "@jupyter-widgets/controls",
          "model_module_version": "1.5.0",
          "model_name": "HBoxModel",
          "state": {
            "_dom_classes": [],
            "_model_module": "@jupyter-widgets/controls",
            "_model_module_version": "1.5.0",
            "_model_name": "HBoxModel",
            "_view_count": null,
            "_view_module": "@jupyter-widgets/controls",
            "_view_module_version": "1.5.0",
            "_view_name": "HBoxView",
            "box_style": "",
            "children": [
              "IPY_MODEL_88cbd34e862249358bd79e954329ecd1",
              "IPY_MODEL_399150bbe9094151bc4ae1b0931f190a",
              "IPY_MODEL_5172078f4d5a427683a50ba9bc25c8b8"
            ],
            "layout": "IPY_MODEL_9cca112c232d42bdb58db0c330781123"
          }
        },
        "277e1141969a4938935acff4f6eb3c4f": {
          "model_module": "@jupyter-widgets/controls",
          "model_module_version": "1.5.0",
          "model_name": "HTMLModel",
          "state": {
            "_dom_classes": [],
            "_model_module": "@jupyter-widgets/controls",
            "_model_module_version": "1.5.0",
            "_model_name": "HTMLModel",
            "_view_count": null,
            "_view_module": "@jupyter-widgets/controls",
            "_view_module_version": "1.5.0",
            "_view_name": "HTMLView",
            "description": "",
            "description_tooltip": null,
            "layout": "IPY_MODEL_9c67420b3aba43278ac5c6baa27755c3",
            "placeholder": "​",
            "style": "IPY_MODEL_101fb873c0f247f0ad327e235bef7669",
            "value": "100%"
          }
        },
        "27be853b3466452c9e0e56e8c6575baf": {
          "model_module": "@jupyter-widgets/controls",
          "model_module_version": "1.5.0",
          "model_name": "HTMLModel",
          "state": {
            "_dom_classes": [],
            "_model_module": "@jupyter-widgets/controls",
            "_model_module_version": "1.5.0",
            "_model_name": "HTMLModel",
            "_view_count": null,
            "_view_module": "@jupyter-widgets/controls",
            "_view_module_version": "1.5.0",
            "_view_name": "HTMLView",
            "description": "",
            "description_tooltip": null,
            "layout": "IPY_MODEL_8f2de51810554bc19fbd998b642afbf6",
            "placeholder": "​",
            "style": "IPY_MODEL_86d75c0f3dac4c6db779cdd233817a37",
            "value": " 360/360 [00:45&lt;00:00,  7.83it/s]"
          }
        },
        "27f3ea7e12234601bbe50690046ba0b3": {
          "model_module": "@jupyter-widgets/controls",
          "model_module_version": "1.5.0",
          "model_name": "ProgressStyleModel",
          "state": {
            "_model_module": "@jupyter-widgets/controls",
            "_model_module_version": "1.5.0",
            "_model_name": "ProgressStyleModel",
            "_view_count": null,
            "_view_module": "@jupyter-widgets/base",
            "_view_module_version": "1.2.0",
            "_view_name": "StyleView",
            "bar_color": null,
            "description_width": ""
          }
        },
        "2a0516d5e7cf4119b5be3598c676d0d3": {
          "model_module": "@jupyter-widgets/controls",
          "model_module_version": "1.5.0",
          "model_name": "ProgressStyleModel",
          "state": {
            "_model_module": "@jupyter-widgets/controls",
            "_model_module_version": "1.5.0",
            "_model_name": "ProgressStyleModel",
            "_view_count": null,
            "_view_module": "@jupyter-widgets/base",
            "_view_module_version": "1.2.0",
            "_view_name": "StyleView",
            "bar_color": null,
            "description_width": ""
          }
        },
        "2a68ff8306cb44e088a61efbd544586b": {
          "model_module": "@jupyter-widgets/controls",
          "model_module_version": "1.5.0",
          "model_name": "HTMLModel",
          "state": {
            "_dom_classes": [],
            "_model_module": "@jupyter-widgets/controls",
            "_model_module_version": "1.5.0",
            "_model_name": "HTMLModel",
            "_view_count": null,
            "_view_module": "@jupyter-widgets/controls",
            "_view_module_version": "1.5.0",
            "_view_name": "HTMLView",
            "description": "",
            "description_tooltip": null,
            "layout": "IPY_MODEL_5d1d395545b540868ab84b539a2f3b64",
            "placeholder": "​",
            "style": "IPY_MODEL_50b63459bc5d495ea59546117237359d",
            "value": " 537/537 [00:00&lt;00:00, 12.3kB/s]"
          }
        },
        "2aec5071773d4f5c91128587d6c21fdc": {
          "model_module": "@jupyter-widgets/base",
          "model_module_version": "1.2.0",
          "model_name": "LayoutModel",
          "state": {
            "_model_module": "@jupyter-widgets/base",
            "_model_module_version": "1.2.0",
            "_model_name": "LayoutModel",
            "_view_count": null,
            "_view_module": "@jupyter-widgets/base",
            "_view_module_version": "1.2.0",
            "_view_name": "LayoutView",
            "align_content": null,
            "align_items": null,
            "align_self": null,
            "border": null,
            "bottom": null,
            "display": null,
            "flex": null,
            "flex_flow": null,
            "grid_area": null,
            "grid_auto_columns": null,
            "grid_auto_flow": null,
            "grid_auto_rows": null,
            "grid_column": null,
            "grid_gap": null,
            "grid_row": null,
            "grid_template_areas": null,
            "grid_template_columns": null,
            "grid_template_rows": null,
            "height": null,
            "justify_content": null,
            "justify_items": null,
            "left": null,
            "margin": null,
            "max_height": null,
            "max_width": null,
            "min_height": null,
            "min_width": null,
            "object_fit": null,
            "object_position": null,
            "order": null,
            "overflow": null,
            "overflow_x": null,
            "overflow_y": null,
            "padding": null,
            "right": null,
            "top": null,
            "visibility": null,
            "width": null
          }
        },
        "2b4ed578eab0412cab5191a1cff83364": {
          "model_module": "@jupyter-widgets/controls",
          "model_module_version": "1.5.0",
          "model_name": "HBoxModel",
          "state": {
            "_dom_classes": [],
            "_model_module": "@jupyter-widgets/controls",
            "_model_module_version": "1.5.0",
            "_model_name": "HBoxModel",
            "_view_count": null,
            "_view_module": "@jupyter-widgets/controls",
            "_view_module_version": "1.5.0",
            "_view_name": "HBoxView",
            "box_style": "",
            "children": [
              "IPY_MODEL_96ad2b63efe349f2ab068599a0d8c74e",
              "IPY_MODEL_90ca171bbc754e089e502b53713e1188",
              "IPY_MODEL_50c94f552e0f4d90886bc24be7b1e198"
            ],
            "layout": "IPY_MODEL_df9ccf7fb6b149b6b13a81116f0623e9"
          }
        },
        "2c3112527ebd4790b5c9bc7fb84ff494": {
          "model_module": "@jupyter-widgets/controls",
          "model_module_version": "1.5.0",
          "model_name": "HTMLModel",
          "state": {
            "_dom_classes": [],
            "_model_module": "@jupyter-widgets/controls",
            "_model_module_version": "1.5.0",
            "_model_name": "HTMLModel",
            "_view_count": null,
            "_view_module": "@jupyter-widgets/controls",
            "_view_module_version": "1.5.0",
            "_view_name": "HTMLView",
            "description": "",
            "description_tooltip": null,
            "layout": "IPY_MODEL_6cf92f0162f946049b8d67f7a89dfc27",
            "placeholder": "​",
            "style": "IPY_MODEL_03d73123d0644c8c81d7a0b3f810b8da",
            "value": " 144/144 [00:05&lt;00:00, 34.23it/s]"
          }
        },
        "2ceb6a68f39d46e1b0b34ff7666aef67": {
          "model_module": "@jupyter-widgets/base",
          "model_module_version": "1.2.0",
          "model_name": "LayoutModel",
          "state": {
            "_model_module": "@jupyter-widgets/base",
            "_model_module_version": "1.2.0",
            "_model_name": "LayoutModel",
            "_view_count": null,
            "_view_module": "@jupyter-widgets/base",
            "_view_module_version": "1.2.0",
            "_view_name": "LayoutView",
            "align_content": null,
            "align_items": null,
            "align_self": null,
            "border": null,
            "bottom": null,
            "display": null,
            "flex": null,
            "flex_flow": null,
            "grid_area": null,
            "grid_auto_columns": null,
            "grid_auto_flow": null,
            "grid_auto_rows": null,
            "grid_column": null,
            "grid_gap": null,
            "grid_row": null,
            "grid_template_areas": null,
            "grid_template_columns": null,
            "grid_template_rows": null,
            "height": null,
            "justify_content": null,
            "justify_items": null,
            "left": null,
            "margin": null,
            "max_height": null,
            "max_width": null,
            "min_height": null,
            "min_width": null,
            "object_fit": null,
            "object_position": null,
            "order": null,
            "overflow": null,
            "overflow_x": null,
            "overflow_y": null,
            "padding": null,
            "right": null,
            "top": null,
            "visibility": null,
            "width": null
          }
        },
        "2da9f362c069434cbdda463c45e2601a": {
          "model_module": "@jupyter-widgets/controls",
          "model_module_version": "1.5.0",
          "model_name": "HBoxModel",
          "state": {
            "_dom_classes": [],
            "_model_module": "@jupyter-widgets/controls",
            "_model_module_version": "1.5.0",
            "_model_name": "HBoxModel",
            "_view_count": null,
            "_view_module": "@jupyter-widgets/controls",
            "_view_module_version": "1.5.0",
            "_view_name": "HBoxView",
            "box_style": "",
            "children": [
              "IPY_MODEL_4fd1a8c0194e401f8dcc9c565b8a647f",
              "IPY_MODEL_bef1d7dd5c9a4ef5854260b6114da816",
              "IPY_MODEL_b05a63468ede41958f74213a1202cc7b"
            ],
            "layout": "IPY_MODEL_0345c53d78144d53b67e92b120e780c2"
          }
        },
        "2fbb8019e37846dab7d6445f91645506": {
          "model_module": "@jupyter-widgets/controls",
          "model_module_version": "1.5.0",
          "model_name": "DescriptionStyleModel",
          "state": {
            "_model_module": "@jupyter-widgets/controls",
            "_model_module_version": "1.5.0",
            "_model_name": "DescriptionStyleModel",
            "_view_count": null,
            "_view_module": "@jupyter-widgets/base",
            "_view_module_version": "1.2.0",
            "_view_name": "StyleView",
            "description_width": ""
          }
        },
        "2fc23f252a7f41838e95cfb1d1908358": {
          "model_module": "@jupyter-widgets/controls",
          "model_module_version": "1.5.0",
          "model_name": "HBoxModel",
          "state": {
            "_dom_classes": [],
            "_model_module": "@jupyter-widgets/controls",
            "_model_module_version": "1.5.0",
            "_model_name": "HBoxModel",
            "_view_count": null,
            "_view_module": "@jupyter-widgets/controls",
            "_view_module_version": "1.5.0",
            "_view_name": "HBoxView",
            "box_style": "",
            "children": [
              "IPY_MODEL_277e1141969a4938935acff4f6eb3c4f",
              "IPY_MODEL_b5cea32693f74fdfaa8a526ebaa891b9",
              "IPY_MODEL_72e5b3cdd8ce411a9aa67a00a84e80fe"
            ],
            "layout": "IPY_MODEL_1d96e3a4df8b41ddbe2bc039726bfc96"
          }
        },
        "2fead2d2f89e42f5af38b6661d801bf7": {
          "model_module": "@jupyter-widgets/base",
          "model_module_version": "1.2.0",
          "model_name": "LayoutModel",
          "state": {
            "_model_module": "@jupyter-widgets/base",
            "_model_module_version": "1.2.0",
            "_model_name": "LayoutModel",
            "_view_count": null,
            "_view_module": "@jupyter-widgets/base",
            "_view_module_version": "1.2.0",
            "_view_name": "LayoutView",
            "align_content": null,
            "align_items": null,
            "align_self": null,
            "border": null,
            "bottom": null,
            "display": null,
            "flex": null,
            "flex_flow": null,
            "grid_area": null,
            "grid_auto_columns": null,
            "grid_auto_flow": null,
            "grid_auto_rows": null,
            "grid_column": null,
            "grid_gap": null,
            "grid_row": null,
            "grid_template_areas": null,
            "grid_template_columns": null,
            "grid_template_rows": null,
            "height": null,
            "justify_content": null,
            "justify_items": null,
            "left": null,
            "margin": null,
            "max_height": null,
            "max_width": null,
            "min_height": null,
            "min_width": null,
            "object_fit": null,
            "object_position": null,
            "order": null,
            "overflow": null,
            "overflow_x": null,
            "overflow_y": null,
            "padding": null,
            "right": null,
            "top": null,
            "visibility": null,
            "width": null
          }
        },
        "3086ffa9332442c7a31f7910fe07d68d": {
          "model_module": "@jupyter-widgets/controls",
          "model_module_version": "1.5.0",
          "model_name": "HTMLModel",
          "state": {
            "_dom_classes": [],
            "_model_module": "@jupyter-widgets/controls",
            "_model_module_version": "1.5.0",
            "_model_name": "HTMLModel",
            "_view_count": null,
            "_view_module": "@jupyter-widgets/controls",
            "_view_module_version": "1.5.0",
            "_view_name": "HTMLView",
            "description": "",
            "description_tooltip": null,
            "layout": "IPY_MODEL_e7a6e1ecbe2f4706907cfade6010b251",
            "placeholder": "​",
            "style": "IPY_MODEL_f57d5ea194a14665bf3100d6713a5b95",
            "value": "100%"
          }
        },
        "30f04baf863541ecbcee146ae71aab3f": {
          "model_module": "@jupyter-widgets/controls",
          "model_module_version": "1.5.0",
          "model_name": "ProgressStyleModel",
          "state": {
            "_model_module": "@jupyter-widgets/controls",
            "_model_module_version": "1.5.0",
            "_model_name": "ProgressStyleModel",
            "_view_count": null,
            "_view_module": "@jupyter-widgets/base",
            "_view_module_version": "1.2.0",
            "_view_name": "StyleView",
            "bar_color": null,
            "description_width": ""
          }
        },
        "30fe6b41950f432c9acab5e2158f7f1e": {
          "model_module": "@jupyter-widgets/base",
          "model_module_version": "1.2.0",
          "model_name": "LayoutModel",
          "state": {
            "_model_module": "@jupyter-widgets/base",
            "_model_module_version": "1.2.0",
            "_model_name": "LayoutModel",
            "_view_count": null,
            "_view_module": "@jupyter-widgets/base",
            "_view_module_version": "1.2.0",
            "_view_name": "LayoutView",
            "align_content": null,
            "align_items": null,
            "align_self": null,
            "border": null,
            "bottom": null,
            "display": null,
            "flex": null,
            "flex_flow": null,
            "grid_area": null,
            "grid_auto_columns": null,
            "grid_auto_flow": null,
            "grid_auto_rows": null,
            "grid_column": null,
            "grid_gap": null,
            "grid_row": null,
            "grid_template_areas": null,
            "grid_template_columns": null,
            "grid_template_rows": null,
            "height": null,
            "justify_content": null,
            "justify_items": null,
            "left": null,
            "margin": null,
            "max_height": null,
            "max_width": null,
            "min_height": null,
            "min_width": null,
            "object_fit": null,
            "object_position": null,
            "order": null,
            "overflow": null,
            "overflow_x": null,
            "overflow_y": null,
            "padding": null,
            "right": null,
            "top": null,
            "visibility": null,
            "width": null
          }
        },
        "328d32de46c1481abdb54c374d1f3b99": {
          "model_module": "@jupyter-widgets/controls",
          "model_module_version": "1.5.0",
          "model_name": "HTMLModel",
          "state": {
            "_dom_classes": [],
            "_model_module": "@jupyter-widgets/controls",
            "_model_module_version": "1.5.0",
            "_model_name": "HTMLModel",
            "_view_count": null,
            "_view_module": "@jupyter-widgets/controls",
            "_view_module_version": "1.5.0",
            "_view_name": "HTMLView",
            "description": "",
            "description_tooltip": null,
            "layout": "IPY_MODEL_7f1826b6fa514e35b76413b4f2cd63a0",
            "placeholder": "​",
            "style": "IPY_MODEL_a34d36e536234c1b80a7f7c84630a0fe",
            "value": "100%"
          }
        },
        "35df18a7f90f439c8d7907a12d49d9ce": {
          "model_module": "@jupyter-widgets/controls",
          "model_module_version": "1.5.0",
          "model_name": "DescriptionStyleModel",
          "state": {
            "_model_module": "@jupyter-widgets/controls",
            "_model_module_version": "1.5.0",
            "_model_name": "DescriptionStyleModel",
            "_view_count": null,
            "_view_module": "@jupyter-widgets/base",
            "_view_module_version": "1.2.0",
            "_view_name": "StyleView",
            "description_width": ""
          }
        },
        "3666a69ed3a440708bd17a39a4d58df8": {
          "model_module": "@jupyter-widgets/base",
          "model_module_version": "1.2.0",
          "model_name": "LayoutModel",
          "state": {
            "_model_module": "@jupyter-widgets/base",
            "_model_module_version": "1.2.0",
            "_model_name": "LayoutModel",
            "_view_count": null,
            "_view_module": "@jupyter-widgets/base",
            "_view_module_version": "1.2.0",
            "_view_name": "LayoutView",
            "align_content": null,
            "align_items": null,
            "align_self": null,
            "border": null,
            "bottom": null,
            "display": null,
            "flex": null,
            "flex_flow": null,
            "grid_area": null,
            "grid_auto_columns": null,
            "grid_auto_flow": null,
            "grid_auto_rows": null,
            "grid_column": null,
            "grid_gap": null,
            "grid_row": null,
            "grid_template_areas": null,
            "grid_template_columns": null,
            "grid_template_rows": null,
            "height": null,
            "justify_content": null,
            "justify_items": null,
            "left": null,
            "margin": null,
            "max_height": null,
            "max_width": null,
            "min_height": null,
            "min_width": null,
            "object_fit": null,
            "object_position": null,
            "order": null,
            "overflow": null,
            "overflow_x": null,
            "overflow_y": null,
            "padding": null,
            "right": null,
            "top": null,
            "visibility": null,
            "width": null
          }
        },
        "3748785abd5e45ec97ac8c2f4a124a57": {
          "model_module": "@jupyter-widgets/base",
          "model_module_version": "1.2.0",
          "model_name": "LayoutModel",
          "state": {
            "_model_module": "@jupyter-widgets/base",
            "_model_module_version": "1.2.0",
            "_model_name": "LayoutModel",
            "_view_count": null,
            "_view_module": "@jupyter-widgets/base",
            "_view_module_version": "1.2.0",
            "_view_name": "LayoutView",
            "align_content": null,
            "align_items": null,
            "align_self": null,
            "border": null,
            "bottom": null,
            "display": null,
            "flex": null,
            "flex_flow": null,
            "grid_area": null,
            "grid_auto_columns": null,
            "grid_auto_flow": null,
            "grid_auto_rows": null,
            "grid_column": null,
            "grid_gap": null,
            "grid_row": null,
            "grid_template_areas": null,
            "grid_template_columns": null,
            "grid_template_rows": null,
            "height": null,
            "justify_content": null,
            "justify_items": null,
            "left": null,
            "margin": null,
            "max_height": null,
            "max_width": null,
            "min_height": null,
            "min_width": null,
            "object_fit": null,
            "object_position": null,
            "order": null,
            "overflow": null,
            "overflow_x": null,
            "overflow_y": null,
            "padding": null,
            "right": null,
            "top": null,
            "visibility": null,
            "width": null
          }
        },
        "37e40e703dda488aa232f65a2c975b88": {
          "model_module": "@jupyter-widgets/controls",
          "model_module_version": "1.5.0",
          "model_name": "DescriptionStyleModel",
          "state": {
            "_model_module": "@jupyter-widgets/controls",
            "_model_module_version": "1.5.0",
            "_model_name": "DescriptionStyleModel",
            "_view_count": null,
            "_view_module": "@jupyter-widgets/base",
            "_view_module_version": "1.2.0",
            "_view_name": "StyleView",
            "description_width": ""
          }
        },
        "399150bbe9094151bc4ae1b0931f190a": {
          "model_module": "@jupyter-widgets/controls",
          "model_module_version": "1.5.0",
          "model_name": "FloatProgressModel",
          "state": {
            "_dom_classes": [],
            "_model_module": "@jupyter-widgets/controls",
            "_model_module_version": "1.5.0",
            "_model_name": "FloatProgressModel",
            "_view_count": null,
            "_view_module": "@jupyter-widgets/controls",
            "_view_module_version": "1.5.0",
            "_view_name": "ProgressView",
            "bar_style": "success",
            "description": "",
            "description_tooltip": null,
            "layout": "IPY_MODEL_9d5c92e3d69242e3ae64346c191c4f21",
            "max": 384,
            "min": 0,
            "orientation": "horizontal",
            "style": "IPY_MODEL_27f3ea7e12234601bbe50690046ba0b3",
            "value": 384
          }
        },
        "3a0c7adb6e904763bc88c1462beebaf9": {
          "model_module": "@jupyter-widgets/controls",
          "model_module_version": "1.5.0",
          "model_name": "HBoxModel",
          "state": {
            "_dom_classes": [],
            "_model_module": "@jupyter-widgets/controls",
            "_model_module_version": "1.5.0",
            "_model_name": "HBoxModel",
            "_view_count": null,
            "_view_module": "@jupyter-widgets/controls",
            "_view_module_version": "1.5.0",
            "_view_name": "HBoxView",
            "box_style": "",
            "children": [
              "IPY_MODEL_b09cf7e6795744b49ef728b042c7053b",
              "IPY_MODEL_aecf67d6a65f4b568181687bf6f5e90e",
              "IPY_MODEL_dae3844e4998458298afb261a23c6918"
            ],
            "layout": "IPY_MODEL_12b5b9254b824bb98e7884bb1551cf45"
          }
        },
        "3bbd801480944b0fa8436df3fb1b97d2": {
          "model_module": "@jupyter-widgets/controls",
          "model_module_version": "1.5.0",
          "model_name": "DescriptionStyleModel",
          "state": {
            "_model_module": "@jupyter-widgets/controls",
            "_model_module_version": "1.5.0",
            "_model_name": "DescriptionStyleModel",
            "_view_count": null,
            "_view_module": "@jupyter-widgets/base",
            "_view_module_version": "1.2.0",
            "_view_name": "StyleView",
            "description_width": ""
          }
        },
        "3c9f22c6d19d4c5788863a6b6a6536b7": {
          "model_module": "@jupyter-widgets/controls",
          "model_module_version": "1.5.0",
          "model_name": "HTMLModel",
          "state": {
            "_dom_classes": [],
            "_model_module": "@jupyter-widgets/controls",
            "_model_module_version": "1.5.0",
            "_model_name": "HTMLModel",
            "_view_count": null,
            "_view_module": "@jupyter-widgets/controls",
            "_view_module_version": "1.5.0",
            "_view_name": "HTMLView",
            "description": "",
            "description_tooltip": null,
            "layout": "IPY_MODEL_92ab521a24c0424f89966e258d75ff17",
            "placeholder": "​",
            "style": "IPY_MODEL_eafc431d96604c18b88cc82cedb7dd07",
            "value": "Downloading pytorch_model.bin: 100%"
          }
        },
        "3e4a8e1fc0c04a9cad02430a84ce11b0": {
          "model_module": "@jupyter-widgets/controls",
          "model_module_version": "1.5.0",
          "model_name": "HTMLModel",
          "state": {
            "_dom_classes": [],
            "_model_module": "@jupyter-widgets/controls",
            "_model_module_version": "1.5.0",
            "_model_name": "HTMLModel",
            "_view_count": null,
            "_view_module": "@jupyter-widgets/controls",
            "_view_module_version": "1.5.0",
            "_view_name": "HTMLView",
            "description": "",
            "description_tooltip": null,
            "layout": "IPY_MODEL_7c2aa5c31e4540ed90482985a33b964c",
            "placeholder": "​",
            "style": "IPY_MODEL_671bde82c5144c469e7925fac53d3f73",
            "value": " 384/384 [00:46&lt;00:00,  8.20it/s]"
          }
        },
        "40221efc4a0c4f719dc27961687d197f": {
          "model_module": "@jupyter-widgets/controls",
          "model_module_version": "1.5.0",
          "model_name": "HTMLModel",
          "state": {
            "_dom_classes": [],
            "_model_module": "@jupyter-widgets/controls",
            "_model_module_version": "1.5.0",
            "_model_name": "HTMLModel",
            "_view_count": null,
            "_view_module": "@jupyter-widgets/controls",
            "_view_module_version": "1.5.0",
            "_view_name": "HTMLView",
            "description": "",
            "description_tooltip": null,
            "layout": "IPY_MODEL_b14b36d97d82407a9ab82298389a6654",
            "placeholder": "​",
            "style": "IPY_MODEL_7a066ee01f144561908b97e77219a4f4",
            "value": " 360/360 [00:44&lt;00:00,  8.22it/s]"
          }
        },
        "4162f802a113414aa70bd2561cbd902a": {
          "model_module": "@jupyter-widgets/controls",
          "model_module_version": "1.5.0",
          "model_name": "FloatProgressModel",
          "state": {
            "_dom_classes": [],
            "_model_module": "@jupyter-widgets/controls",
            "_model_module_version": "1.5.0",
            "_model_name": "FloatProgressModel",
            "_view_count": null,
            "_view_module": "@jupyter-widgets/controls",
            "_view_module_version": "1.5.0",
            "_view_name": "ProgressView",
            "bar_style": "success",
            "description": "",
            "description_tooltip": null,
            "layout": "IPY_MODEL_850e4c7a8b844516bec013825966bb98",
            "max": 99,
            "min": 0,
            "orientation": "horizontal",
            "style": "IPY_MODEL_727a0e5e2dc249469b215a9b8c51b30f",
            "value": 99
          }
        },
        "44920bf707aa4e4fb33095afe68d6d69": {
          "model_module": "@jupyter-widgets/base",
          "model_module_version": "1.2.0",
          "model_name": "LayoutModel",
          "state": {
            "_model_module": "@jupyter-widgets/base",
            "_model_module_version": "1.2.0",
            "_model_name": "LayoutModel",
            "_view_count": null,
            "_view_module": "@jupyter-widgets/base",
            "_view_module_version": "1.2.0",
            "_view_name": "LayoutView",
            "align_content": null,
            "align_items": null,
            "align_self": null,
            "border": null,
            "bottom": null,
            "display": null,
            "flex": null,
            "flex_flow": null,
            "grid_area": null,
            "grid_auto_columns": null,
            "grid_auto_flow": null,
            "grid_auto_rows": null,
            "grid_column": null,
            "grid_gap": null,
            "grid_row": null,
            "grid_template_areas": null,
            "grid_template_columns": null,
            "grid_template_rows": null,
            "height": null,
            "justify_content": null,
            "justify_items": null,
            "left": null,
            "margin": null,
            "max_height": null,
            "max_width": null,
            "min_height": null,
            "min_width": null,
            "object_fit": null,
            "object_position": null,
            "order": null,
            "overflow": null,
            "overflow_x": null,
            "overflow_y": null,
            "padding": null,
            "right": null,
            "top": null,
            "visibility": null,
            "width": null
          }
        },
        "44a8e45d831f48eaa69feaf4befefb8d": {
          "model_module": "@jupyter-widgets/controls",
          "model_module_version": "1.5.0",
          "model_name": "DescriptionStyleModel",
          "state": {
            "_model_module": "@jupyter-widgets/controls",
            "_model_module_version": "1.5.0",
            "_model_name": "DescriptionStyleModel",
            "_view_count": null,
            "_view_module": "@jupyter-widgets/base",
            "_view_module_version": "1.2.0",
            "_view_name": "StyleView",
            "description_width": ""
          }
        },
        "44d721d6d70240d9b8bf0205acac7dc3": {
          "model_module": "@jupyter-widgets/controls",
          "model_module_version": "1.5.0",
          "model_name": "HTMLModel",
          "state": {
            "_dom_classes": [],
            "_model_module": "@jupyter-widgets/controls",
            "_model_module_version": "1.5.0",
            "_model_name": "HTMLModel",
            "_view_count": null,
            "_view_module": "@jupyter-widgets/controls",
            "_view_module_version": "1.5.0",
            "_view_name": "HTMLView",
            "description": "",
            "description_tooltip": null,
            "layout": "IPY_MODEL_30fe6b41950f432c9acab5e2158f7f1e",
            "placeholder": "​",
            "style": "IPY_MODEL_e31dc26af5124e27b831b83c8d78e37d",
            "value": "<center> <img\nsrc=https://huggingface.co/front/assets/huggingface_logo-noborder.svg\nalt='Hugging Face'> <br> Copy a token from <a\nhref=\"https://huggingface.co/settings/tokens\" target=\"_blank\">your Hugging Face\ntokens page</a> and paste it below. <br> Immediately click login after copying\nyour token or it might be stored in plain text in this notebook file. </center>"
          }
        },
        "458fd3d1456b408c8bab727519c6b886": {
          "model_module": "@jupyter-widgets/controls",
          "model_module_version": "1.5.0",
          "model_name": "DescriptionStyleModel",
          "state": {
            "_model_module": "@jupyter-widgets/controls",
            "_model_module_version": "1.5.0",
            "_model_name": "DescriptionStyleModel",
            "_view_count": null,
            "_view_module": "@jupyter-widgets/base",
            "_view_module_version": "1.2.0",
            "_view_name": "StyleView",
            "description_width": ""
          }
        },
        "45bcfc56604146ee8fa1020f6050571d": {
          "model_module": "@jupyter-widgets/base",
          "model_module_version": "1.2.0",
          "model_name": "LayoutModel",
          "state": {
            "_model_module": "@jupyter-widgets/base",
            "_model_module_version": "1.2.0",
            "_model_name": "LayoutModel",
            "_view_count": null,
            "_view_module": "@jupyter-widgets/base",
            "_view_module_version": "1.2.0",
            "_view_name": "LayoutView",
            "align_content": null,
            "align_items": null,
            "align_self": null,
            "border": null,
            "bottom": null,
            "display": null,
            "flex": null,
            "flex_flow": null,
            "grid_area": null,
            "grid_auto_columns": null,
            "grid_auto_flow": null,
            "grid_auto_rows": null,
            "grid_column": null,
            "grid_gap": null,
            "grid_row": null,
            "grid_template_areas": null,
            "grid_template_columns": null,
            "grid_template_rows": null,
            "height": null,
            "justify_content": null,
            "justify_items": null,
            "left": null,
            "margin": null,
            "max_height": null,
            "max_width": null,
            "min_height": null,
            "min_width": null,
            "object_fit": null,
            "object_position": null,
            "order": null,
            "overflow": null,
            "overflow_x": null,
            "overflow_y": null,
            "padding": null,
            "right": null,
            "top": null,
            "visibility": null,
            "width": null
          }
        },
        "470d27bfb21a4fb199b58b99d01ce516": {
          "model_module": "@jupyter-widgets/base",
          "model_module_version": "1.2.0",
          "model_name": "LayoutModel",
          "state": {
            "_model_module": "@jupyter-widgets/base",
            "_model_module_version": "1.2.0",
            "_model_name": "LayoutModel",
            "_view_count": null,
            "_view_module": "@jupyter-widgets/base",
            "_view_module_version": "1.2.0",
            "_view_name": "LayoutView",
            "align_content": null,
            "align_items": null,
            "align_self": null,
            "border": null,
            "bottom": null,
            "display": null,
            "flex": null,
            "flex_flow": null,
            "grid_area": null,
            "grid_auto_columns": null,
            "grid_auto_flow": null,
            "grid_auto_rows": null,
            "grid_column": null,
            "grid_gap": null,
            "grid_row": null,
            "grid_template_areas": null,
            "grid_template_columns": null,
            "grid_template_rows": null,
            "height": null,
            "justify_content": null,
            "justify_items": null,
            "left": null,
            "margin": null,
            "max_height": null,
            "max_width": null,
            "min_height": null,
            "min_width": null,
            "object_fit": null,
            "object_position": null,
            "order": null,
            "overflow": null,
            "overflow_x": null,
            "overflow_y": null,
            "padding": null,
            "right": null,
            "top": null,
            "visibility": null,
            "width": null
          }
        },
        "4797737007004aa9b0dd5d7cb51cfee3": {
          "model_module": "@jupyter-widgets/base",
          "model_module_version": "1.2.0",
          "model_name": "LayoutModel",
          "state": {
            "_model_module": "@jupyter-widgets/base",
            "_model_module_version": "1.2.0",
            "_model_name": "LayoutModel",
            "_view_count": null,
            "_view_module": "@jupyter-widgets/base",
            "_view_module_version": "1.2.0",
            "_view_name": "LayoutView",
            "align_content": null,
            "align_items": null,
            "align_self": null,
            "border": null,
            "bottom": null,
            "display": null,
            "flex": null,
            "flex_flow": null,
            "grid_area": null,
            "grid_auto_columns": null,
            "grid_auto_flow": null,
            "grid_auto_rows": null,
            "grid_column": null,
            "grid_gap": null,
            "grid_row": null,
            "grid_template_areas": null,
            "grid_template_columns": null,
            "grid_template_rows": null,
            "height": null,
            "justify_content": null,
            "justify_items": null,
            "left": null,
            "margin": null,
            "max_height": null,
            "max_width": null,
            "min_height": null,
            "min_width": null,
            "object_fit": null,
            "object_position": null,
            "order": null,
            "overflow": null,
            "overflow_x": null,
            "overflow_y": null,
            "padding": null,
            "right": null,
            "top": null,
            "visibility": null,
            "width": null
          }
        },
        "490dae1ed740469a9d51dbc7412baace": {
          "model_module": "@jupyter-widgets/base",
          "model_module_version": "1.2.0",
          "model_name": "LayoutModel",
          "state": {
            "_model_module": "@jupyter-widgets/base",
            "_model_module_version": "1.2.0",
            "_model_name": "LayoutModel",
            "_view_count": null,
            "_view_module": "@jupyter-widgets/base",
            "_view_module_version": "1.2.0",
            "_view_name": "LayoutView",
            "align_content": null,
            "align_items": null,
            "align_self": null,
            "border": null,
            "bottom": null,
            "display": null,
            "flex": null,
            "flex_flow": null,
            "grid_area": null,
            "grid_auto_columns": null,
            "grid_auto_flow": null,
            "grid_auto_rows": null,
            "grid_column": null,
            "grid_gap": null,
            "grid_row": null,
            "grid_template_areas": null,
            "grid_template_columns": null,
            "grid_template_rows": null,
            "height": null,
            "justify_content": null,
            "justify_items": null,
            "left": null,
            "margin": null,
            "max_height": null,
            "max_width": null,
            "min_height": null,
            "min_width": null,
            "object_fit": null,
            "object_position": null,
            "order": null,
            "overflow": null,
            "overflow_x": null,
            "overflow_y": null,
            "padding": null,
            "right": null,
            "top": null,
            "visibility": null,
            "width": null
          }
        },
        "49283867673045b9bf385cf1b9b5f113": {
          "model_module": "@jupyter-widgets/controls",
          "model_module_version": "1.5.0",
          "model_name": "HBoxModel",
          "state": {
            "_dom_classes": [],
            "_model_module": "@jupyter-widgets/controls",
            "_model_module_version": "1.5.0",
            "_model_name": "HBoxModel",
            "_view_count": null,
            "_view_module": "@jupyter-widgets/controls",
            "_view_module_version": "1.5.0",
            "_view_name": "HBoxView",
            "box_style": "",
            "children": [
              "IPY_MODEL_7bff43411d2a442eb071f13718011de0",
              "IPY_MODEL_4162f802a113414aa70bd2561cbd902a",
              "IPY_MODEL_9808d94aafcc4246a6cbc2c214c5d17c"
            ],
            "layout": "IPY_MODEL_3748785abd5e45ec97ac8c2f4a124a57"
          }
        },
        "4b20e429dbe24ff7933b7ed58dee82fd": {
          "model_module": "@jupyter-widgets/controls",
          "model_module_version": "1.5.0",
          "model_name": "DescriptionStyleModel",
          "state": {
            "_model_module": "@jupyter-widgets/controls",
            "_model_module_version": "1.5.0",
            "_model_name": "DescriptionStyleModel",
            "_view_count": null,
            "_view_module": "@jupyter-widgets/base",
            "_view_module_version": "1.2.0",
            "_view_name": "StyleView",
            "description_width": ""
          }
        },
        "4d9becfe15444fa39ee363b2abde5288": {
          "model_module": "@jupyter-widgets/controls",
          "model_module_version": "1.5.0",
          "model_name": "FloatProgressModel",
          "state": {
            "_dom_classes": [],
            "_model_module": "@jupyter-widgets/controls",
            "_model_module_version": "1.5.0",
            "_model_name": "FloatProgressModel",
            "_view_count": null,
            "_view_module": "@jupyter-widgets/controls",
            "_view_module_version": "1.5.0",
            "_view_name": "ProgressView",
            "bar_style": "success",
            "description": "",
            "description_tooltip": null,
            "layout": "IPY_MODEL_1076ca8b6f32490da48c9fe17200cf3a",
            "max": 384,
            "min": 0,
            "orientation": "horizontal",
            "style": "IPY_MODEL_0d94912b59dc4e7e927892f15793ca98",
            "value": 384
          }
        },
        "4f168d4beb0e4aa783b7ef30c77b6b17": {
          "model_module": "@jupyter-widgets/controls",
          "model_module_version": "1.5.0",
          "model_name": "HTMLModel",
          "state": {
            "_dom_classes": [],
            "_model_module": "@jupyter-widgets/controls",
            "_model_module_version": "1.5.0",
            "_model_name": "HTMLModel",
            "_view_count": null,
            "_view_module": "@jupyter-widgets/controls",
            "_view_module_version": "1.5.0",
            "_view_name": "HTMLView",
            "description": "",
            "description_tooltip": null,
            "layout": "IPY_MODEL_0ca6f2e4b58a4a769ee210f6d6dca658",
            "placeholder": "​",
            "style": "IPY_MODEL_5d101ac531cd465783ee652e2bcbef23",
            "value": " 384/384 [00:46&lt;00:00,  8.24it/s]"
          }
        },
        "4f21d5eaf6ec42afbbf4195c7d7ac83d": {
          "model_module": "@jupyter-widgets/base",
          "model_module_version": "1.2.0",
          "model_name": "LayoutModel",
          "state": {
            "_model_module": "@jupyter-widgets/base",
            "_model_module_version": "1.2.0",
            "_model_name": "LayoutModel",
            "_view_count": null,
            "_view_module": "@jupyter-widgets/base",
            "_view_module_version": "1.2.0",
            "_view_name": "LayoutView",
            "align_content": null,
            "align_items": null,
            "align_self": null,
            "border": null,
            "bottom": null,
            "display": null,
            "flex": null,
            "flex_flow": null,
            "grid_area": null,
            "grid_auto_columns": null,
            "grid_auto_flow": null,
            "grid_auto_rows": null,
            "grid_column": null,
            "grid_gap": null,
            "grid_row": null,
            "grid_template_areas": null,
            "grid_template_columns": null,
            "grid_template_rows": null,
            "height": null,
            "justify_content": null,
            "justify_items": null,
            "left": null,
            "margin": null,
            "max_height": null,
            "max_width": null,
            "min_height": null,
            "min_width": null,
            "object_fit": null,
            "object_position": null,
            "order": null,
            "overflow": null,
            "overflow_x": null,
            "overflow_y": null,
            "padding": null,
            "right": null,
            "top": null,
            "visibility": null,
            "width": null
          }
        },
        "4fd1a8c0194e401f8dcc9c565b8a647f": {
          "model_module": "@jupyter-widgets/controls",
          "model_module_version": "1.5.0",
          "model_name": "HTMLModel",
          "state": {
            "_dom_classes": [],
            "_model_module": "@jupyter-widgets/controls",
            "_model_module_version": "1.5.0",
            "_model_name": "HTMLModel",
            "_view_count": null,
            "_view_module": "@jupyter-widgets/controls",
            "_view_module_version": "1.5.0",
            "_view_name": "HTMLView",
            "description": "",
            "description_tooltip": null,
            "layout": "IPY_MODEL_44920bf707aa4e4fb33095afe68d6d69",
            "placeholder": "​",
            "style": "IPY_MODEL_a1b7d0e5234a4e7380cb62627ecea653",
            "value": "100%"
          }
        },
        "50b63459bc5d495ea59546117237359d": {
          "model_module": "@jupyter-widgets/controls",
          "model_module_version": "1.5.0",
          "model_name": "DescriptionStyleModel",
          "state": {
            "_model_module": "@jupyter-widgets/controls",
            "_model_module_version": "1.5.0",
            "_model_name": "DescriptionStyleModel",
            "_view_count": null,
            "_view_module": "@jupyter-widgets/base",
            "_view_module_version": "1.2.0",
            "_view_name": "StyleView",
            "description_width": ""
          }
        },
        "50c94f552e0f4d90886bc24be7b1e198": {
          "model_module": "@jupyter-widgets/controls",
          "model_module_version": "1.5.0",
          "model_name": "HTMLModel",
          "state": {
            "_dom_classes": [],
            "_model_module": "@jupyter-widgets/controls",
            "_model_module_version": "1.5.0",
            "_model_name": "HTMLModel",
            "_view_count": null,
            "_view_module": "@jupyter-widgets/controls",
            "_view_module_version": "1.5.0",
            "_view_name": "HTMLView",
            "description": "",
            "description_tooltip": null,
            "layout": "IPY_MODEL_82a9834fb9bc44199e454e8b92bbcdee",
            "placeholder": "​",
            "style": "IPY_MODEL_2fbb8019e37846dab7d6445f91645506",
            "value": " 2160/2160 [01:26&lt;00:00, 22.69it/s]"
          }
        },
        "5172078f4d5a427683a50ba9bc25c8b8": {
          "model_module": "@jupyter-widgets/controls",
          "model_module_version": "1.5.0",
          "model_name": "HTMLModel",
          "state": {
            "_dom_classes": [],
            "_model_module": "@jupyter-widgets/controls",
            "_model_module_version": "1.5.0",
            "_model_name": "HTMLModel",
            "_view_count": null,
            "_view_module": "@jupyter-widgets/controls",
            "_view_module_version": "1.5.0",
            "_view_name": "HTMLView",
            "description": "",
            "description_tooltip": null,
            "layout": "IPY_MODEL_98e92c91ddad49eda841ce9284645cb0",
            "placeholder": "​",
            "style": "IPY_MODEL_a2a4344d4b964cf4a39f13c399527dc3",
            "value": " 384/384 [00:52&lt;00:00,  8.09it/s]"
          }
        },
        "54676bbadc6548658d24b0fcad5ee4f5": {
          "model_module": "@jupyter-widgets/controls",
          "model_module_version": "1.5.0",
          "model_name": "HBoxModel",
          "state": {
            "_dom_classes": [],
            "_model_module": "@jupyter-widgets/controls",
            "_model_module_version": "1.5.0",
            "_model_name": "HBoxModel",
            "_view_count": null,
            "_view_module": "@jupyter-widgets/controls",
            "_view_module_version": "1.5.0",
            "_view_name": "HBoxView",
            "box_style": "",
            "children": [
              "IPY_MODEL_dd019ab1c90d43cd8829505e7bc4d632",
              "IPY_MODEL_e5eb50b389a24415871a97a1621b2711",
              "IPY_MODEL_6bc87a6fd58946959300ab4675ba297b"
            ],
            "layout": "IPY_MODEL_0e8caec2bba745be80069601d893e34c"
          }
        },
        "5650eb52bd7b4329a66fda22961bf0e7": {
          "model_module": "@jupyter-widgets/controls",
          "model_module_version": "1.5.0",
          "model_name": "FloatProgressModel",
          "state": {
            "_dom_classes": [],
            "_model_module": "@jupyter-widgets/controls",
            "_model_module_version": "1.5.0",
            "_model_name": "FloatProgressModel",
            "_view_count": null,
            "_view_module": "@jupyter-widgets/controls",
            "_view_module_version": "1.5.0",
            "_view_name": "ProgressView",
            "bar_style": "success",
            "description": "",
            "description_tooltip": null,
            "layout": "IPY_MODEL_654e7bddff974a669452b9f0c949d9f3",
            "max": 570,
            "min": 0,
            "orientation": "horizontal",
            "style": "IPY_MODEL_f5af9ae7664d4b27a9c52930c9e927f4",
            "value": 570
          }
        },
        "576a2c6d603d4c0486684a47c115f6c3": {
          "model_module": "@jupyter-widgets/base",
          "model_module_version": "1.2.0",
          "model_name": "LayoutModel",
          "state": {
            "_model_module": "@jupyter-widgets/base",
            "_model_module_version": "1.2.0",
            "_model_name": "LayoutModel",
            "_view_count": null,
            "_view_module": "@jupyter-widgets/base",
            "_view_module_version": "1.2.0",
            "_view_name": "LayoutView",
            "align_content": null,
            "align_items": null,
            "align_self": null,
            "border": null,
            "bottom": null,
            "display": null,
            "flex": null,
            "flex_flow": null,
            "grid_area": null,
            "grid_auto_columns": null,
            "grid_auto_flow": null,
            "grid_auto_rows": null,
            "grid_column": null,
            "grid_gap": null,
            "grid_row": null,
            "grid_template_areas": null,
            "grid_template_columns": null,
            "grid_template_rows": null,
            "height": null,
            "justify_content": null,
            "justify_items": null,
            "left": null,
            "margin": null,
            "max_height": null,
            "max_width": null,
            "min_height": null,
            "min_width": null,
            "object_fit": null,
            "object_position": null,
            "order": null,
            "overflow": null,
            "overflow_x": null,
            "overflow_y": null,
            "padding": null,
            "right": null,
            "top": null,
            "visibility": null,
            "width": null
          }
        },
        "58f7d1d77afa4ef79934d7088318e738": {
          "model_module": "@jupyter-widgets/base",
          "model_module_version": "1.2.0",
          "model_name": "LayoutModel",
          "state": {
            "_model_module": "@jupyter-widgets/base",
            "_model_module_version": "1.2.0",
            "_model_name": "LayoutModel",
            "_view_count": null,
            "_view_module": "@jupyter-widgets/base",
            "_view_module_version": "1.2.0",
            "_view_name": "LayoutView",
            "align_content": null,
            "align_items": null,
            "align_self": null,
            "border": null,
            "bottom": null,
            "display": null,
            "flex": null,
            "flex_flow": null,
            "grid_area": null,
            "grid_auto_columns": null,
            "grid_auto_flow": null,
            "grid_auto_rows": null,
            "grid_column": null,
            "grid_gap": null,
            "grid_row": null,
            "grid_template_areas": null,
            "grid_template_columns": null,
            "grid_template_rows": null,
            "height": null,
            "justify_content": null,
            "justify_items": null,
            "left": null,
            "margin": null,
            "max_height": null,
            "max_width": null,
            "min_height": null,
            "min_width": null,
            "object_fit": null,
            "object_position": null,
            "order": null,
            "overflow": null,
            "overflow_x": null,
            "overflow_y": null,
            "padding": null,
            "right": null,
            "top": null,
            "visibility": null,
            "width": null
          }
        },
        "59c64e631b2d484ca1dde20f98110f38": {
          "model_module": "@jupyter-widgets/controls",
          "model_module_version": "1.5.0",
          "model_name": "FloatProgressModel",
          "state": {
            "_dom_classes": [],
            "_model_module": "@jupyter-widgets/controls",
            "_model_module_version": "1.5.0",
            "_model_name": "FloatProgressModel",
            "_view_count": null,
            "_view_module": "@jupyter-widgets/controls",
            "_view_module_version": "1.5.0",
            "_view_name": "ProgressView",
            "bar_style": "success",
            "description": "",
            "description_tooltip": null,
            "layout": "IPY_MODEL_5cfb1b95de404788886927fab6cbce9c",
            "max": 384,
            "min": 0,
            "orientation": "horizontal",
            "style": "IPY_MODEL_90072e04f47d452b822996c94f5d1454",
            "value": 384
          }
        },
        "5a6d7211614f4445af664dd76dcf9975": {
          "model_module": "@jupyter-widgets/base",
          "model_module_version": "1.2.0",
          "model_name": "LayoutModel",
          "state": {
            "_model_module": "@jupyter-widgets/base",
            "_model_module_version": "1.2.0",
            "_model_name": "LayoutModel",
            "_view_count": null,
            "_view_module": "@jupyter-widgets/base",
            "_view_module_version": "1.2.0",
            "_view_name": "LayoutView",
            "align_content": null,
            "align_items": "center",
            "align_self": null,
            "border": null,
            "bottom": null,
            "display": "flex",
            "flex": null,
            "flex_flow": "column",
            "grid_area": null,
            "grid_auto_columns": null,
            "grid_auto_flow": null,
            "grid_auto_rows": null,
            "grid_column": null,
            "grid_gap": null,
            "grid_row": null,
            "grid_template_areas": null,
            "grid_template_columns": null,
            "grid_template_rows": null,
            "height": null,
            "justify_content": null,
            "justify_items": null,
            "left": null,
            "margin": null,
            "max_height": null,
            "max_width": null,
            "min_height": null,
            "min_width": null,
            "object_fit": null,
            "object_position": null,
            "order": null,
            "overflow": null,
            "overflow_x": null,
            "overflow_y": null,
            "padding": null,
            "right": null,
            "top": null,
            "visibility": null,
            "width": "50%"
          }
        },
        "5a6db6d2bd9c4d5697041d3b6cfc2ed6": {
          "model_module": "@jupyter-widgets/controls",
          "model_module_version": "1.5.0",
          "model_name": "FloatProgressModel",
          "state": {
            "_dom_classes": [],
            "_model_module": "@jupyter-widgets/controls",
            "_model_module_version": "1.5.0",
            "_model_name": "FloatProgressModel",
            "_view_count": null,
            "_view_module": "@jupyter-widgets/controls",
            "_view_module_version": "1.5.0",
            "_view_name": "ProgressView",
            "bar_style": "success",
            "description": "",
            "description_tooltip": null,
            "layout": "IPY_MODEL_5b4e510574df4e6dae68e7cbeda49029",
            "max": 144,
            "min": 0,
            "orientation": "horizontal",
            "style": "IPY_MODEL_c0047268b94745a8b8010d06f9315199",
            "value": 144
          }
        },
        "5b4e510574df4e6dae68e7cbeda49029": {
          "model_module": "@jupyter-widgets/base",
          "model_module_version": "1.2.0",
          "model_name": "LayoutModel",
          "state": {
            "_model_module": "@jupyter-widgets/base",
            "_model_module_version": "1.2.0",
            "_model_name": "LayoutModel",
            "_view_count": null,
            "_view_module": "@jupyter-widgets/base",
            "_view_module_version": "1.2.0",
            "_view_name": "LayoutView",
            "align_content": null,
            "align_items": null,
            "align_self": null,
            "border": null,
            "bottom": null,
            "display": null,
            "flex": null,
            "flex_flow": null,
            "grid_area": null,
            "grid_auto_columns": null,
            "grid_auto_flow": null,
            "grid_auto_rows": null,
            "grid_column": null,
            "grid_gap": null,
            "grid_row": null,
            "grid_template_areas": null,
            "grid_template_columns": null,
            "grid_template_rows": null,
            "height": null,
            "justify_content": null,
            "justify_items": null,
            "left": null,
            "margin": null,
            "max_height": null,
            "max_width": null,
            "min_height": null,
            "min_width": null,
            "object_fit": null,
            "object_position": null,
            "order": null,
            "overflow": null,
            "overflow_x": null,
            "overflow_y": null,
            "padding": null,
            "right": null,
            "top": null,
            "visibility": null,
            "width": null
          }
        },
        "5c829452d6a84b99af3d85a494700efd": {
          "model_module": "@jupyter-widgets/controls",
          "model_module_version": "1.5.0",
          "model_name": "ProgressStyleModel",
          "state": {
            "_model_module": "@jupyter-widgets/controls",
            "_model_module_version": "1.5.0",
            "_model_name": "ProgressStyleModel",
            "_view_count": null,
            "_view_module": "@jupyter-widgets/base",
            "_view_module_version": "1.2.0",
            "_view_name": "StyleView",
            "bar_color": null,
            "description_width": ""
          }
        },
        "5cfb1b95de404788886927fab6cbce9c": {
          "model_module": "@jupyter-widgets/base",
          "model_module_version": "1.2.0",
          "model_name": "LayoutModel",
          "state": {
            "_model_module": "@jupyter-widgets/base",
            "_model_module_version": "1.2.0",
            "_model_name": "LayoutModel",
            "_view_count": null,
            "_view_module": "@jupyter-widgets/base",
            "_view_module_version": "1.2.0",
            "_view_name": "LayoutView",
            "align_content": null,
            "align_items": null,
            "align_self": null,
            "border": null,
            "bottom": null,
            "display": null,
            "flex": null,
            "flex_flow": null,
            "grid_area": null,
            "grid_auto_columns": null,
            "grid_auto_flow": null,
            "grid_auto_rows": null,
            "grid_column": null,
            "grid_gap": null,
            "grid_row": null,
            "grid_template_areas": null,
            "grid_template_columns": null,
            "grid_template_rows": null,
            "height": null,
            "justify_content": null,
            "justify_items": null,
            "left": null,
            "margin": null,
            "max_height": null,
            "max_width": null,
            "min_height": null,
            "min_width": null,
            "object_fit": null,
            "object_position": null,
            "order": null,
            "overflow": null,
            "overflow_x": null,
            "overflow_y": null,
            "padding": null,
            "right": null,
            "top": null,
            "visibility": null,
            "width": null
          }
        },
        "5d101ac531cd465783ee652e2bcbef23": {
          "model_module": "@jupyter-widgets/controls",
          "model_module_version": "1.5.0",
          "model_name": "DescriptionStyleModel",
          "state": {
            "_model_module": "@jupyter-widgets/controls",
            "_model_module_version": "1.5.0",
            "_model_name": "DescriptionStyleModel",
            "_view_count": null,
            "_view_module": "@jupyter-widgets/base",
            "_view_module_version": "1.2.0",
            "_view_name": "StyleView",
            "description_width": ""
          }
        },
        "5d1d395545b540868ab84b539a2f3b64": {
          "model_module": "@jupyter-widgets/base",
          "model_module_version": "1.2.0",
          "model_name": "LayoutModel",
          "state": {
            "_model_module": "@jupyter-widgets/base",
            "_model_module_version": "1.2.0",
            "_model_name": "LayoutModel",
            "_view_count": null,
            "_view_module": "@jupyter-widgets/base",
            "_view_module_version": "1.2.0",
            "_view_name": "LayoutView",
            "align_content": null,
            "align_items": null,
            "align_self": null,
            "border": null,
            "bottom": null,
            "display": null,
            "flex": null,
            "flex_flow": null,
            "grid_area": null,
            "grid_auto_columns": null,
            "grid_auto_flow": null,
            "grid_auto_rows": null,
            "grid_column": null,
            "grid_gap": null,
            "grid_row": null,
            "grid_template_areas": null,
            "grid_template_columns": null,
            "grid_template_rows": null,
            "height": null,
            "justify_content": null,
            "justify_items": null,
            "left": null,
            "margin": null,
            "max_height": null,
            "max_width": null,
            "min_height": null,
            "min_width": null,
            "object_fit": null,
            "object_position": null,
            "order": null,
            "overflow": null,
            "overflow_x": null,
            "overflow_y": null,
            "padding": null,
            "right": null,
            "top": null,
            "visibility": null,
            "width": null
          }
        },
        "5e72b9c7ddfb4625befa4192483c0e03": {
          "model_module": "@jupyter-widgets/controls",
          "model_module_version": "1.5.0",
          "model_name": "FloatProgressModel",
          "state": {
            "_dom_classes": [],
            "_model_module": "@jupyter-widgets/controls",
            "_model_module_version": "1.5.0",
            "_model_name": "FloatProgressModel",
            "_view_count": null,
            "_view_module": "@jupyter-widgets/controls",
            "_view_module_version": "1.5.0",
            "_view_name": "ProgressView",
            "bar_style": "success",
            "description": "",
            "description_tooltip": null,
            "layout": "IPY_MODEL_b5b2f26b50dd491cbce2e691a93c8eab",
            "max": 360,
            "min": 0,
            "orientation": "horizontal",
            "style": "IPY_MODEL_5c829452d6a84b99af3d85a494700efd",
            "value": 360
          }
        },
        "602c4501eb414aa581e8ca2184e4538e": {
          "model_module": "@jupyter-widgets/controls",
          "model_module_version": "1.5.0",
          "model_name": "HBoxModel",
          "state": {
            "_dom_classes": [],
            "_model_module": "@jupyter-widgets/controls",
            "_model_module_version": "1.5.0",
            "_model_name": "HBoxModel",
            "_view_count": null,
            "_view_module": "@jupyter-widgets/controls",
            "_view_module_version": "1.5.0",
            "_view_name": "HBoxView",
            "box_style": "",
            "children": [
              "IPY_MODEL_328d32de46c1481abdb54c374d1f3b99",
              "IPY_MODEL_5e72b9c7ddfb4625befa4192483c0e03",
              "IPY_MODEL_27be853b3466452c9e0e56e8c6575baf"
            ],
            "layout": "IPY_MODEL_21b65c1b3d9348cfa4312944e68fb27f"
          }
        },
        "604b8130fa46449eacc0f4e3422e1f39": {
          "model_module": "@jupyter-widgets/base",
          "model_module_version": "1.2.0",
          "model_name": "LayoutModel",
          "state": {
            "_model_module": "@jupyter-widgets/base",
            "_model_module_version": "1.2.0",
            "_model_name": "LayoutModel",
            "_view_count": null,
            "_view_module": "@jupyter-widgets/base",
            "_view_module_version": "1.2.0",
            "_view_name": "LayoutView",
            "align_content": null,
            "align_items": null,
            "align_self": null,
            "border": null,
            "bottom": null,
            "display": null,
            "flex": null,
            "flex_flow": null,
            "grid_area": null,
            "grid_auto_columns": null,
            "grid_auto_flow": null,
            "grid_auto_rows": null,
            "grid_column": null,
            "grid_gap": null,
            "grid_row": null,
            "grid_template_areas": null,
            "grid_template_columns": null,
            "grid_template_rows": null,
            "height": null,
            "justify_content": null,
            "justify_items": null,
            "left": null,
            "margin": null,
            "max_height": null,
            "max_width": null,
            "min_height": null,
            "min_width": null,
            "object_fit": null,
            "object_position": null,
            "order": null,
            "overflow": null,
            "overflow_x": null,
            "overflow_y": null,
            "padding": null,
            "right": null,
            "top": null,
            "visibility": null,
            "width": null
          }
        },
        "60b70059b49642038f61159c9ca57d26": {
          "model_module": "@jupyter-widgets/base",
          "model_module_version": "1.2.0",
          "model_name": "LayoutModel",
          "state": {
            "_model_module": "@jupyter-widgets/base",
            "_model_module_version": "1.2.0",
            "_model_name": "LayoutModel",
            "_view_count": null,
            "_view_module": "@jupyter-widgets/base",
            "_view_module_version": "1.2.0",
            "_view_name": "LayoutView",
            "align_content": null,
            "align_items": null,
            "align_self": null,
            "border": null,
            "bottom": null,
            "display": null,
            "flex": null,
            "flex_flow": null,
            "grid_area": null,
            "grid_auto_columns": null,
            "grid_auto_flow": null,
            "grid_auto_rows": null,
            "grid_column": null,
            "grid_gap": null,
            "grid_row": null,
            "grid_template_areas": null,
            "grid_template_columns": null,
            "grid_template_rows": null,
            "height": null,
            "justify_content": null,
            "justify_items": null,
            "left": null,
            "margin": null,
            "max_height": null,
            "max_width": null,
            "min_height": null,
            "min_width": null,
            "object_fit": null,
            "object_position": null,
            "order": null,
            "overflow": null,
            "overflow_x": null,
            "overflow_y": null,
            "padding": null,
            "right": null,
            "top": null,
            "visibility": null,
            "width": null
          }
        },
        "614c947576964c38bce413e9cce94a92": {
          "model_module": "@jupyter-widgets/controls",
          "model_module_version": "1.5.0",
          "model_name": "DescriptionStyleModel",
          "state": {
            "_model_module": "@jupyter-widgets/controls",
            "_model_module_version": "1.5.0",
            "_model_name": "DescriptionStyleModel",
            "_view_count": null,
            "_view_module": "@jupyter-widgets/base",
            "_view_module_version": "1.2.0",
            "_view_name": "StyleView",
            "description_width": ""
          }
        },
        "6258b16f96554ba1b1ad4f4a088b21fe": {
          "model_module": "@jupyter-widgets/base",
          "model_module_version": "1.2.0",
          "model_name": "LayoutModel",
          "state": {
            "_model_module": "@jupyter-widgets/base",
            "_model_module_version": "1.2.0",
            "_model_name": "LayoutModel",
            "_view_count": null,
            "_view_module": "@jupyter-widgets/base",
            "_view_module_version": "1.2.0",
            "_view_name": "LayoutView",
            "align_content": null,
            "align_items": null,
            "align_self": null,
            "border": null,
            "bottom": null,
            "display": null,
            "flex": null,
            "flex_flow": null,
            "grid_area": null,
            "grid_auto_columns": null,
            "grid_auto_flow": null,
            "grid_auto_rows": null,
            "grid_column": null,
            "grid_gap": null,
            "grid_row": null,
            "grid_template_areas": null,
            "grid_template_columns": null,
            "grid_template_rows": null,
            "height": null,
            "justify_content": null,
            "justify_items": null,
            "left": null,
            "margin": null,
            "max_height": null,
            "max_width": null,
            "min_height": null,
            "min_width": null,
            "object_fit": null,
            "object_position": null,
            "order": null,
            "overflow": null,
            "overflow_x": null,
            "overflow_y": null,
            "padding": null,
            "right": null,
            "top": null,
            "visibility": null,
            "width": null
          }
        },
        "6355e7df26a141b183bdfb7f8be79778": {
          "model_module": "@jupyter-widgets/controls",
          "model_module_version": "1.5.0",
          "model_name": "HTMLModel",
          "state": {
            "_dom_classes": [],
            "_model_module": "@jupyter-widgets/controls",
            "_model_module_version": "1.5.0",
            "_model_name": "HTMLModel",
            "_view_count": null,
            "_view_module": "@jupyter-widgets/controls",
            "_view_module_version": "1.5.0",
            "_view_name": "HTMLView",
            "description": "",
            "description_tooltip": null,
            "layout": "IPY_MODEL_8501c54f82c84882a8705833798ecfb4",
            "placeholder": "​",
            "style": "IPY_MODEL_e39919bc2f864f57abc72184365887ec",
            "value": "100%"
          }
        },
        "654e7bddff974a669452b9f0c949d9f3": {
          "model_module": "@jupyter-widgets/base",
          "model_module_version": "1.2.0",
          "model_name": "LayoutModel",
          "state": {
            "_model_module": "@jupyter-widgets/base",
            "_model_module_version": "1.2.0",
            "_model_name": "LayoutModel",
            "_view_count": null,
            "_view_module": "@jupyter-widgets/base",
            "_view_module_version": "1.2.0",
            "_view_name": "LayoutView",
            "align_content": null,
            "align_items": null,
            "align_self": null,
            "border": null,
            "bottom": null,
            "display": null,
            "flex": null,
            "flex_flow": null,
            "grid_area": null,
            "grid_auto_columns": null,
            "grid_auto_flow": null,
            "grid_auto_rows": null,
            "grid_column": null,
            "grid_gap": null,
            "grid_row": null,
            "grid_template_areas": null,
            "grid_template_columns": null,
            "grid_template_rows": null,
            "height": null,
            "justify_content": null,
            "justify_items": null,
            "left": null,
            "margin": null,
            "max_height": null,
            "max_width": null,
            "min_height": null,
            "min_width": null,
            "object_fit": null,
            "object_position": null,
            "order": null,
            "overflow": null,
            "overflow_x": null,
            "overflow_y": null,
            "padding": null,
            "right": null,
            "top": null,
            "visibility": null,
            "width": null
          }
        },
        "65cd441b118b4b54b642bb8f98dc0d21": {
          "model_module": "@jupyter-widgets/controls",
          "model_module_version": "1.5.0",
          "model_name": "DescriptionStyleModel",
          "state": {
            "_model_module": "@jupyter-widgets/controls",
            "_model_module_version": "1.5.0",
            "_model_name": "DescriptionStyleModel",
            "_view_count": null,
            "_view_module": "@jupyter-widgets/base",
            "_view_module_version": "1.2.0",
            "_view_name": "StyleView",
            "description_width": ""
          }
        },
        "671bde82c5144c469e7925fac53d3f73": {
          "model_module": "@jupyter-widgets/controls",
          "model_module_version": "1.5.0",
          "model_name": "DescriptionStyleModel",
          "state": {
            "_model_module": "@jupyter-widgets/controls",
            "_model_module_version": "1.5.0",
            "_model_name": "DescriptionStyleModel",
            "_view_count": null,
            "_view_module": "@jupyter-widgets/base",
            "_view_module_version": "1.2.0",
            "_view_name": "StyleView",
            "description_width": ""
          }
        },
        "683bc619a93e44da86ad91bb87748d99": {
          "model_module": "@jupyter-widgets/base",
          "model_module_version": "1.2.0",
          "model_name": "LayoutModel",
          "state": {
            "_model_module": "@jupyter-widgets/base",
            "_model_module_version": "1.2.0",
            "_model_name": "LayoutModel",
            "_view_count": null,
            "_view_module": "@jupyter-widgets/base",
            "_view_module_version": "1.2.0",
            "_view_name": "LayoutView",
            "align_content": null,
            "align_items": null,
            "align_self": null,
            "border": null,
            "bottom": null,
            "display": null,
            "flex": null,
            "flex_flow": null,
            "grid_area": null,
            "grid_auto_columns": null,
            "grid_auto_flow": null,
            "grid_auto_rows": null,
            "grid_column": null,
            "grid_gap": null,
            "grid_row": null,
            "grid_template_areas": null,
            "grid_template_columns": null,
            "grid_template_rows": null,
            "height": null,
            "justify_content": null,
            "justify_items": null,
            "left": null,
            "margin": null,
            "max_height": null,
            "max_width": null,
            "min_height": null,
            "min_width": null,
            "object_fit": null,
            "object_position": null,
            "order": null,
            "overflow": null,
            "overflow_x": null,
            "overflow_y": null,
            "padding": null,
            "right": null,
            "top": null,
            "visibility": null,
            "width": null
          }
        },
        "683d988be8f543b686c7925a41e6db41": {
          "model_module": "@jupyter-widgets/controls",
          "model_module_version": "1.5.0",
          "model_name": "DescriptionStyleModel",
          "state": {
            "_model_module": "@jupyter-widgets/controls",
            "_model_module_version": "1.5.0",
            "_model_name": "DescriptionStyleModel",
            "_view_count": null,
            "_view_module": "@jupyter-widgets/base",
            "_view_module_version": "1.2.0",
            "_view_name": "StyleView",
            "description_width": ""
          }
        },
        "6bc87a6fd58946959300ab4675ba297b": {
          "model_module": "@jupyter-widgets/controls",
          "model_module_version": "1.5.0",
          "model_name": "HTMLModel",
          "state": {
            "_dom_classes": [],
            "_model_module": "@jupyter-widgets/controls",
            "_model_module_version": "1.5.0",
            "_model_name": "HTMLModel",
            "_view_count": null,
            "_view_module": "@jupyter-widgets/controls",
            "_view_module_version": "1.5.0",
            "_view_name": "HTMLView",
            "description": "",
            "description_tooltip": null,
            "layout": "IPY_MODEL_a3ebe13477b44a61b5fd539d33b8045c",
            "placeholder": "​",
            "style": "IPY_MODEL_ec4df465b40d466698270d2abb71fdef",
            "value": " 394/394 [00:00&lt;00:00, 9.19kB/s]"
          }
        },
        "6cf92f0162f946049b8d67f7a89dfc27": {
          "model_module": "@jupyter-widgets/base",
          "model_module_version": "1.2.0",
          "model_name": "LayoutModel",
          "state": {
            "_model_module": "@jupyter-widgets/base",
            "_model_module_version": "1.2.0",
            "_model_name": "LayoutModel",
            "_view_count": null,
            "_view_module": "@jupyter-widgets/base",
            "_view_module_version": "1.2.0",
            "_view_name": "LayoutView",
            "align_content": null,
            "align_items": null,
            "align_self": null,
            "border": null,
            "bottom": null,
            "display": null,
            "flex": null,
            "flex_flow": null,
            "grid_area": null,
            "grid_auto_columns": null,
            "grid_auto_flow": null,
            "grid_auto_rows": null,
            "grid_column": null,
            "grid_gap": null,
            "grid_row": null,
            "grid_template_areas": null,
            "grid_template_columns": null,
            "grid_template_rows": null,
            "height": null,
            "justify_content": null,
            "justify_items": null,
            "left": null,
            "margin": null,
            "max_height": null,
            "max_width": null,
            "min_height": null,
            "min_width": null,
            "object_fit": null,
            "object_position": null,
            "order": null,
            "overflow": null,
            "overflow_x": null,
            "overflow_y": null,
            "padding": null,
            "right": null,
            "top": null,
            "visibility": null,
            "width": null
          }
        },
        "6dc6e284d28c4b0e8a2d03ea131f8932": {
          "model_module": "@jupyter-widgets/controls",
          "model_module_version": "1.5.0",
          "model_name": "FloatProgressModel",
          "state": {
            "_dom_classes": [],
            "_model_module": "@jupyter-widgets/controls",
            "_model_module_version": "1.5.0",
            "_model_name": "FloatProgressModel",
            "_view_count": null,
            "_view_module": "@jupyter-widgets/controls",
            "_view_module_version": "1.5.0",
            "_view_name": "ProgressView",
            "bar_style": "success",
            "description": "",
            "description_tooltip": null,
            "layout": "IPY_MODEL_fb59d991bb07409b92c371a955ebf82e",
            "max": 2113710,
            "min": 0,
            "orientation": "horizontal",
            "style": "IPY_MODEL_0889b0f8f6f246a2a1fe5a4d7c2c4685",
            "value": 2113710
          }
        },
        "6e1f06a5deae4879bd60bc126b60d31e": {
          "model_module": "@jupyter-widgets/base",
          "model_module_version": "1.2.0",
          "model_name": "LayoutModel",
          "state": {
            "_model_module": "@jupyter-widgets/base",
            "_model_module_version": "1.2.0",
            "_model_name": "LayoutModel",
            "_view_count": null,
            "_view_module": "@jupyter-widgets/base",
            "_view_module_version": "1.2.0",
            "_view_name": "LayoutView",
            "align_content": null,
            "align_items": null,
            "align_self": null,
            "border": null,
            "bottom": null,
            "display": null,
            "flex": null,
            "flex_flow": null,
            "grid_area": null,
            "grid_auto_columns": null,
            "grid_auto_flow": null,
            "grid_auto_rows": null,
            "grid_column": null,
            "grid_gap": null,
            "grid_row": null,
            "grid_template_areas": null,
            "grid_template_columns": null,
            "grid_template_rows": null,
            "height": null,
            "justify_content": null,
            "justify_items": null,
            "left": null,
            "margin": null,
            "max_height": null,
            "max_width": null,
            "min_height": null,
            "min_width": null,
            "object_fit": null,
            "object_position": null,
            "order": null,
            "overflow": null,
            "overflow_x": null,
            "overflow_y": null,
            "padding": null,
            "right": null,
            "top": null,
            "visibility": null,
            "width": null
          }
        },
        "6f00c70935cd4d60bcf175bfe4807413": {
          "model_module": "@jupyter-widgets/base",
          "model_module_version": "1.2.0",
          "model_name": "LayoutModel",
          "state": {
            "_model_module": "@jupyter-widgets/base",
            "_model_module_version": "1.2.0",
            "_model_name": "LayoutModel",
            "_view_count": null,
            "_view_module": "@jupyter-widgets/base",
            "_view_module_version": "1.2.0",
            "_view_name": "LayoutView",
            "align_content": null,
            "align_items": null,
            "align_self": null,
            "border": null,
            "bottom": null,
            "display": null,
            "flex": null,
            "flex_flow": null,
            "grid_area": null,
            "grid_auto_columns": null,
            "grid_auto_flow": null,
            "grid_auto_rows": null,
            "grid_column": null,
            "grid_gap": null,
            "grid_row": null,
            "grid_template_areas": null,
            "grid_template_columns": null,
            "grid_template_rows": null,
            "height": null,
            "justify_content": null,
            "justify_items": null,
            "left": null,
            "margin": null,
            "max_height": null,
            "max_width": null,
            "min_height": null,
            "min_width": null,
            "object_fit": null,
            "object_position": null,
            "order": null,
            "overflow": null,
            "overflow_x": null,
            "overflow_y": null,
            "padding": null,
            "right": null,
            "top": null,
            "visibility": null,
            "width": null
          }
        },
        "70737184e655480aac5de70396511856": {
          "model_module": "@jupyter-widgets/base",
          "model_module_version": "1.2.0",
          "model_name": "LayoutModel",
          "state": {
            "_model_module": "@jupyter-widgets/base",
            "_model_module_version": "1.2.0",
            "_model_name": "LayoutModel",
            "_view_count": null,
            "_view_module": "@jupyter-widgets/base",
            "_view_module_version": "1.2.0",
            "_view_name": "LayoutView",
            "align_content": null,
            "align_items": null,
            "align_self": null,
            "border": null,
            "bottom": null,
            "display": null,
            "flex": null,
            "flex_flow": null,
            "grid_area": null,
            "grid_auto_columns": null,
            "grid_auto_flow": null,
            "grid_auto_rows": null,
            "grid_column": null,
            "grid_gap": null,
            "grid_row": null,
            "grid_template_areas": null,
            "grid_template_columns": null,
            "grid_template_rows": null,
            "height": null,
            "justify_content": null,
            "justify_items": null,
            "left": null,
            "margin": null,
            "max_height": null,
            "max_width": null,
            "min_height": null,
            "min_width": null,
            "object_fit": null,
            "object_position": null,
            "order": null,
            "overflow": null,
            "overflow_x": null,
            "overflow_y": null,
            "padding": null,
            "right": null,
            "top": null,
            "visibility": null,
            "width": null
          }
        },
        "70d12c17ab324ff18c7a4ad4d78b67b9": {
          "model_module": "@jupyter-widgets/controls",
          "model_module_version": "1.5.0",
          "model_name": "HTMLModel",
          "state": {
            "_dom_classes": [],
            "_model_module": "@jupyter-widgets/controls",
            "_model_module_version": "1.5.0",
            "_model_name": "HTMLModel",
            "_view_count": null,
            "_view_module": "@jupyter-widgets/controls",
            "_view_module_version": "1.5.0",
            "_view_name": "HTMLView",
            "description": "",
            "description_tooltip": null,
            "layout": "IPY_MODEL_d844fcad02e4431f9ff9c83c81128764",
            "placeholder": "​",
            "style": "IPY_MODEL_ed46d385f1b04cecac5195ef56a4d3ee",
            "value": " 384/384 [00:47&lt;00:00,  8.00it/s]"
          }
        },
        "725d6f55eab244e588b5d4777d6646ed": {
          "model_module": "@jupyter-widgets/controls",
          "model_module_version": "1.5.0",
          "model_name": "HBoxModel",
          "state": {
            "_dom_classes": [],
            "_model_module": "@jupyter-widgets/controls",
            "_model_module_version": "1.5.0",
            "_model_name": "HBoxModel",
            "_view_count": null,
            "_view_module": "@jupyter-widgets/controls",
            "_view_module_version": "1.5.0",
            "_view_name": "HBoxView",
            "box_style": "",
            "children": [
              "IPY_MODEL_ae37526a683c4998900bd36d0a7779a4",
              "IPY_MODEL_c46947850af147c297258dfa37a8e990",
              "IPY_MODEL_2a68ff8306cb44e088a61efbd544586b"
            ],
            "layout": "IPY_MODEL_8a1132b1749c410fbe4430eb36e587a8"
          }
        },
        "727a0e5e2dc249469b215a9b8c51b30f": {
          "model_module": "@jupyter-widgets/controls",
          "model_module_version": "1.5.0",
          "model_name": "ProgressStyleModel",
          "state": {
            "_model_module": "@jupyter-widgets/controls",
            "_model_module_version": "1.5.0",
            "_model_name": "ProgressStyleModel",
            "_view_count": null,
            "_view_module": "@jupyter-widgets/base",
            "_view_module_version": "1.2.0",
            "_view_name": "StyleView",
            "bar_color": null,
            "description_width": ""
          }
        },
        "72e5b3cdd8ce411a9aa67a00a84e80fe": {
          "model_module": "@jupyter-widgets/controls",
          "model_module_version": "1.5.0",
          "model_name": "HTMLModel",
          "state": {
            "_dom_classes": [],
            "_model_module": "@jupyter-widgets/controls",
            "_model_module_version": "1.5.0",
            "_model_name": "HTMLModel",
            "_view_count": null,
            "_view_module": "@jupyter-widgets/controls",
            "_view_module_version": "1.5.0",
            "_view_name": "HTMLView",
            "description": "",
            "description_tooltip": null,
            "layout": "IPY_MODEL_16d2886cd27341e5a1fa85c91ba50b26",
            "placeholder": "​",
            "style": "IPY_MODEL_887055e0e6964fc3aefe0a85711cb57a",
            "value": " 360/360 [00:43&lt;00:00,  8.16it/s]"
          }
        },
        "782fbe051a044449b2d72b71a16f5c0f": {
          "model_module": "@jupyter-widgets/base",
          "model_module_version": "1.2.0",
          "model_name": "LayoutModel",
          "state": {
            "_model_module": "@jupyter-widgets/base",
            "_model_module_version": "1.2.0",
            "_model_name": "LayoutModel",
            "_view_count": null,
            "_view_module": "@jupyter-widgets/base",
            "_view_module_version": "1.2.0",
            "_view_name": "LayoutView",
            "align_content": null,
            "align_items": null,
            "align_self": null,
            "border": null,
            "bottom": null,
            "display": null,
            "flex": null,
            "flex_flow": null,
            "grid_area": null,
            "grid_auto_columns": null,
            "grid_auto_flow": null,
            "grid_auto_rows": null,
            "grid_column": null,
            "grid_gap": null,
            "grid_row": null,
            "grid_template_areas": null,
            "grid_template_columns": null,
            "grid_template_rows": null,
            "height": null,
            "justify_content": null,
            "justify_items": null,
            "left": null,
            "margin": null,
            "max_height": null,
            "max_width": null,
            "min_height": null,
            "min_width": null,
            "object_fit": null,
            "object_position": null,
            "order": null,
            "overflow": null,
            "overflow_x": null,
            "overflow_y": null,
            "padding": null,
            "right": null,
            "top": null,
            "visibility": null,
            "width": null
          }
        },
        "79ce62cfa86b4a9087ed06403f5aebeb": {
          "model_module": "@jupyter-widgets/controls",
          "model_module_version": "1.5.0",
          "model_name": "DescriptionStyleModel",
          "state": {
            "_model_module": "@jupyter-widgets/controls",
            "_model_module_version": "1.5.0",
            "_model_name": "DescriptionStyleModel",
            "_view_count": null,
            "_view_module": "@jupyter-widgets/base",
            "_view_module_version": "1.2.0",
            "_view_name": "StyleView",
            "description_width": ""
          }
        },
        "7a066ee01f144561908b97e77219a4f4": {
          "model_module": "@jupyter-widgets/controls",
          "model_module_version": "1.5.0",
          "model_name": "DescriptionStyleModel",
          "state": {
            "_model_module": "@jupyter-widgets/controls",
            "_model_module_version": "1.5.0",
            "_model_name": "DescriptionStyleModel",
            "_view_count": null,
            "_view_module": "@jupyter-widgets/base",
            "_view_module_version": "1.2.0",
            "_view_name": "StyleView",
            "description_width": ""
          }
        },
        "7bc47fcae8894169ac81513918f395ff": {
          "model_module": "@jupyter-widgets/base",
          "model_module_version": "1.2.0",
          "model_name": "LayoutModel",
          "state": {
            "_model_module": "@jupyter-widgets/base",
            "_model_module_version": "1.2.0",
            "_model_name": "LayoutModel",
            "_view_count": null,
            "_view_module": "@jupyter-widgets/base",
            "_view_module_version": "1.2.0",
            "_view_name": "LayoutView",
            "align_content": null,
            "align_items": null,
            "align_self": null,
            "border": null,
            "bottom": null,
            "display": null,
            "flex": null,
            "flex_flow": null,
            "grid_area": null,
            "grid_auto_columns": null,
            "grid_auto_flow": null,
            "grid_auto_rows": null,
            "grid_column": null,
            "grid_gap": null,
            "grid_row": null,
            "grid_template_areas": null,
            "grid_template_columns": null,
            "grid_template_rows": null,
            "height": null,
            "justify_content": null,
            "justify_items": null,
            "left": null,
            "margin": null,
            "max_height": null,
            "max_width": null,
            "min_height": null,
            "min_width": null,
            "object_fit": null,
            "object_position": null,
            "order": null,
            "overflow": null,
            "overflow_x": null,
            "overflow_y": null,
            "padding": null,
            "right": null,
            "top": null,
            "visibility": null,
            "width": null
          }
        },
        "7bff43411d2a442eb071f13718011de0": {
          "model_module": "@jupyter-widgets/controls",
          "model_module_version": "1.5.0",
          "model_name": "HTMLModel",
          "state": {
            "_dom_classes": [],
            "_model_module": "@jupyter-widgets/controls",
            "_model_module_version": "1.5.0",
            "_model_name": "HTMLModel",
            "_view_count": null,
            "_view_module": "@jupyter-widgets/controls",
            "_view_module_version": "1.5.0",
            "_view_name": "HTMLView",
            "description": "",
            "description_tooltip": null,
            "layout": "IPY_MODEL_ebd0bdddf8f147ef8e9ddddb9adee2bf",
            "placeholder": "​",
            "style": "IPY_MODEL_3bbd801480944b0fa8436df3fb1b97d2",
            "value": "Downloading (…)cial_tokens_map.json: 100%"
          }
        },
        "7c2aa5c31e4540ed90482985a33b964c": {
          "model_module": "@jupyter-widgets/base",
          "model_module_version": "1.2.0",
          "model_name": "LayoutModel",
          "state": {
            "_model_module": "@jupyter-widgets/base",
            "_model_module_version": "1.2.0",
            "_model_name": "LayoutModel",
            "_view_count": null,
            "_view_module": "@jupyter-widgets/base",
            "_view_module_version": "1.2.0",
            "_view_name": "LayoutView",
            "align_content": null,
            "align_items": null,
            "align_self": null,
            "border": null,
            "bottom": null,
            "display": null,
            "flex": null,
            "flex_flow": null,
            "grid_area": null,
            "grid_auto_columns": null,
            "grid_auto_flow": null,
            "grid_auto_rows": null,
            "grid_column": null,
            "grid_gap": null,
            "grid_row": null,
            "grid_template_areas": null,
            "grid_template_columns": null,
            "grid_template_rows": null,
            "height": null,
            "justify_content": null,
            "justify_items": null,
            "left": null,
            "margin": null,
            "max_height": null,
            "max_width": null,
            "min_height": null,
            "min_width": null,
            "object_fit": null,
            "object_position": null,
            "order": null,
            "overflow": null,
            "overflow_x": null,
            "overflow_y": null,
            "padding": null,
            "right": null,
            "top": null,
            "visibility": null,
            "width": null
          }
        },
        "7f1826b6fa514e35b76413b4f2cd63a0": {
          "model_module": "@jupyter-widgets/base",
          "model_module_version": "1.2.0",
          "model_name": "LayoutModel",
          "state": {
            "_model_module": "@jupyter-widgets/base",
            "_model_module_version": "1.2.0",
            "_model_name": "LayoutModel",
            "_view_count": null,
            "_view_module": "@jupyter-widgets/base",
            "_view_module_version": "1.2.0",
            "_view_name": "LayoutView",
            "align_content": null,
            "align_items": null,
            "align_self": null,
            "border": null,
            "bottom": null,
            "display": null,
            "flex": null,
            "flex_flow": null,
            "grid_area": null,
            "grid_auto_columns": null,
            "grid_auto_flow": null,
            "grid_auto_rows": null,
            "grid_column": null,
            "grid_gap": null,
            "grid_row": null,
            "grid_template_areas": null,
            "grid_template_columns": null,
            "grid_template_rows": null,
            "height": null,
            "justify_content": null,
            "justify_items": null,
            "left": null,
            "margin": null,
            "max_height": null,
            "max_width": null,
            "min_height": null,
            "min_width": null,
            "object_fit": null,
            "object_position": null,
            "order": null,
            "overflow": null,
            "overflow_x": null,
            "overflow_y": null,
            "padding": null,
            "right": null,
            "top": null,
            "visibility": null,
            "width": null
          }
        },
        "80b36a70d1e74a378df6b041e4d6e5f3": {
          "model_module": "@jupyter-widgets/controls",
          "model_module_version": "1.5.0",
          "model_name": "HTMLModel",
          "state": {
            "_dom_classes": [],
            "_model_module": "@jupyter-widgets/controls",
            "_model_module_version": "1.5.0",
            "_model_name": "HTMLModel",
            "_view_count": null,
            "_view_module": "@jupyter-widgets/controls",
            "_view_module_version": "1.5.0",
            "_view_name": "HTMLView",
            "description": "",
            "description_tooltip": null,
            "layout": "IPY_MODEL_782fbe051a044449b2d72b71a16f5c0f",
            "placeholder": "​",
            "style": "IPY_MODEL_ef909da19f6f4036adc219565d29ba34",
            "value": " 2.11M/2.11M [00:00&lt;00:00, 5.12MB/s]"
          }
        },
        "8293fdaa449041dd91c3862e1943cfe1": {
          "model_module": "@jupyter-widgets/controls",
          "model_module_version": "1.5.0",
          "model_name": "HBoxModel",
          "state": {
            "_dom_classes": [],
            "_model_module": "@jupyter-widgets/controls",
            "_model_module_version": "1.5.0",
            "_model_name": "HBoxModel",
            "_view_count": null,
            "_view_module": "@jupyter-widgets/controls",
            "_view_module_version": "1.5.0",
            "_view_name": "HBoxView",
            "box_style": "",
            "children": [
              "IPY_MODEL_cb9cbb82b51f4aaa8c4dae757cf40bb0",
              "IPY_MODEL_a3fef7f9e85f49b3a86bd43fd553df22",
              "IPY_MODEL_70d12c17ab324ff18c7a4ad4d78b67b9"
            ],
            "layout": "IPY_MODEL_6e1f06a5deae4879bd60bc126b60d31e"
          }
        },
        "82a9834fb9bc44199e454e8b92bbcdee": {
          "model_module": "@jupyter-widgets/base",
          "model_module_version": "1.2.0",
          "model_name": "LayoutModel",
          "state": {
            "_model_module": "@jupyter-widgets/base",
            "_model_module_version": "1.2.0",
            "_model_name": "LayoutModel",
            "_view_count": null,
            "_view_module": "@jupyter-widgets/base",
            "_view_module_version": "1.2.0",
            "_view_name": "LayoutView",
            "align_content": null,
            "align_items": null,
            "align_self": null,
            "border": null,
            "bottom": null,
            "display": null,
            "flex": null,
            "flex_flow": null,
            "grid_area": null,
            "grid_auto_columns": null,
            "grid_auto_flow": null,
            "grid_auto_rows": null,
            "grid_column": null,
            "grid_gap": null,
            "grid_row": null,
            "grid_template_areas": null,
            "grid_template_columns": null,
            "grid_template_rows": null,
            "height": null,
            "justify_content": null,
            "justify_items": null,
            "left": null,
            "margin": null,
            "max_height": null,
            "max_width": null,
            "min_height": null,
            "min_width": null,
            "object_fit": null,
            "object_position": null,
            "order": null,
            "overflow": null,
            "overflow_x": null,
            "overflow_y": null,
            "padding": null,
            "right": null,
            "top": null,
            "visibility": null,
            "width": null
          }
        },
        "84c40d45c75a4d0e9ee0f812bd43c528": {
          "model_module": "@jupyter-widgets/controls",
          "model_module_version": "1.5.0",
          "model_name": "HTMLModel",
          "state": {
            "_dom_classes": [],
            "_model_module": "@jupyter-widgets/controls",
            "_model_module_version": "1.5.0",
            "_model_name": "HTMLModel",
            "_view_count": null,
            "_view_module": "@jupyter-widgets/controls",
            "_view_module_version": "1.5.0",
            "_view_name": "HTMLView",
            "description": "",
            "description_tooltip": null,
            "layout": "IPY_MODEL_604b8130fa46449eacc0f4e3422e1f39",
            "placeholder": "​",
            "style": "IPY_MODEL_97812acb682849c899d530640b3ff8b8",
            "value": " 384/384 [00:49&lt;00:00,  8.17it/s]"
          }
        },
        "8501c54f82c84882a8705833798ecfb4": {
          "model_module": "@jupyter-widgets/base",
          "model_module_version": "1.2.0",
          "model_name": "LayoutModel",
          "state": {
            "_model_module": "@jupyter-widgets/base",
            "_model_module_version": "1.2.0",
            "_model_name": "LayoutModel",
            "_view_count": null,
            "_view_module": "@jupyter-widgets/base",
            "_view_module_version": "1.2.0",
            "_view_name": "LayoutView",
            "align_content": null,
            "align_items": null,
            "align_self": null,
            "border": null,
            "bottom": null,
            "display": null,
            "flex": null,
            "flex_flow": null,
            "grid_area": null,
            "grid_auto_columns": null,
            "grid_auto_flow": null,
            "grid_auto_rows": null,
            "grid_column": null,
            "grid_gap": null,
            "grid_row": null,
            "grid_template_areas": null,
            "grid_template_columns": null,
            "grid_template_rows": null,
            "height": null,
            "justify_content": null,
            "justify_items": null,
            "left": null,
            "margin": null,
            "max_height": null,
            "max_width": null,
            "min_height": null,
            "min_width": null,
            "object_fit": null,
            "object_position": null,
            "order": null,
            "overflow": null,
            "overflow_x": null,
            "overflow_y": null,
            "padding": null,
            "right": null,
            "top": null,
            "visibility": null,
            "width": null
          }
        },
        "850e4c7a8b844516bec013825966bb98": {
          "model_module": "@jupyter-widgets/base",
          "model_module_version": "1.2.0",
          "model_name": "LayoutModel",
          "state": {
            "_model_module": "@jupyter-widgets/base",
            "_model_module_version": "1.2.0",
            "_model_name": "LayoutModel",
            "_view_count": null,
            "_view_module": "@jupyter-widgets/base",
            "_view_module_version": "1.2.0",
            "_view_name": "LayoutView",
            "align_content": null,
            "align_items": null,
            "align_self": null,
            "border": null,
            "bottom": null,
            "display": null,
            "flex": null,
            "flex_flow": null,
            "grid_area": null,
            "grid_auto_columns": null,
            "grid_auto_flow": null,
            "grid_auto_rows": null,
            "grid_column": null,
            "grid_gap": null,
            "grid_row": null,
            "grid_template_areas": null,
            "grid_template_columns": null,
            "grid_template_rows": null,
            "height": null,
            "justify_content": null,
            "justify_items": null,
            "left": null,
            "margin": null,
            "max_height": null,
            "max_width": null,
            "min_height": null,
            "min_width": null,
            "object_fit": null,
            "object_position": null,
            "order": null,
            "overflow": null,
            "overflow_x": null,
            "overflow_y": null,
            "padding": null,
            "right": null,
            "top": null,
            "visibility": null,
            "width": null
          }
        },
        "86d75c0f3dac4c6db779cdd233817a37": {
          "model_module": "@jupyter-widgets/controls",
          "model_module_version": "1.5.0",
          "model_name": "DescriptionStyleModel",
          "state": {
            "_model_module": "@jupyter-widgets/controls",
            "_model_module_version": "1.5.0",
            "_model_name": "DescriptionStyleModel",
            "_view_count": null,
            "_view_module": "@jupyter-widgets/base",
            "_view_module_version": "1.2.0",
            "_view_name": "StyleView",
            "description_width": ""
          }
        },
        "8701485f90df4f3585d5d2b250d208ea": {
          "model_module": "@jupyter-widgets/controls",
          "model_module_version": "1.5.0",
          "model_name": "ProgressStyleModel",
          "state": {
            "_model_module": "@jupyter-widgets/controls",
            "_model_module_version": "1.5.0",
            "_model_name": "ProgressStyleModel",
            "_view_count": null,
            "_view_module": "@jupyter-widgets/base",
            "_view_module_version": "1.2.0",
            "_view_name": "StyleView",
            "bar_color": null,
            "description_width": ""
          }
        },
        "887055e0e6964fc3aefe0a85711cb57a": {
          "model_module": "@jupyter-widgets/controls",
          "model_module_version": "1.5.0",
          "model_name": "DescriptionStyleModel",
          "state": {
            "_model_module": "@jupyter-widgets/controls",
            "_model_module_version": "1.5.0",
            "_model_name": "DescriptionStyleModel",
            "_view_count": null,
            "_view_module": "@jupyter-widgets/base",
            "_view_module_version": "1.2.0",
            "_view_name": "StyleView",
            "description_width": ""
          }
        },
        "88c6b0078cf5448c8e22c88a6bc9f509": {
          "model_module": "@jupyter-widgets/base",
          "model_module_version": "1.2.0",
          "model_name": "LayoutModel",
          "state": {
            "_model_module": "@jupyter-widgets/base",
            "_model_module_version": "1.2.0",
            "_model_name": "LayoutModel",
            "_view_count": null,
            "_view_module": "@jupyter-widgets/base",
            "_view_module_version": "1.2.0",
            "_view_name": "LayoutView",
            "align_content": null,
            "align_items": null,
            "align_self": null,
            "border": null,
            "bottom": null,
            "display": null,
            "flex": null,
            "flex_flow": null,
            "grid_area": null,
            "grid_auto_columns": null,
            "grid_auto_flow": null,
            "grid_auto_rows": null,
            "grid_column": null,
            "grid_gap": null,
            "grid_row": null,
            "grid_template_areas": null,
            "grid_template_columns": null,
            "grid_template_rows": null,
            "height": null,
            "justify_content": null,
            "justify_items": null,
            "left": null,
            "margin": null,
            "max_height": null,
            "max_width": null,
            "min_height": null,
            "min_width": null,
            "object_fit": null,
            "object_position": null,
            "order": null,
            "overflow": null,
            "overflow_x": null,
            "overflow_y": null,
            "padding": null,
            "right": null,
            "top": null,
            "visibility": null,
            "width": null
          }
        },
        "88cbd34e862249358bd79e954329ecd1": {
          "model_module": "@jupyter-widgets/controls",
          "model_module_version": "1.5.0",
          "model_name": "HTMLModel",
          "state": {
            "_dom_classes": [],
            "_model_module": "@jupyter-widgets/controls",
            "_model_module_version": "1.5.0",
            "_model_name": "HTMLModel",
            "_view_count": null,
            "_view_module": "@jupyter-widgets/controls",
            "_view_module_version": "1.5.0",
            "_view_name": "HTMLView",
            "description": "",
            "description_tooltip": null,
            "layout": "IPY_MODEL_ae276f634dd24e7f822595005cddbc12",
            "placeholder": "​",
            "style": "IPY_MODEL_e618111b331e480a85044fd486dd8161",
            "value": "100%"
          }
        },
        "8a1132b1749c410fbe4430eb36e587a8": {
          "model_module": "@jupyter-widgets/base",
          "model_module_version": "1.2.0",
          "model_name": "LayoutModel",
          "state": {
            "_model_module": "@jupyter-widgets/base",
            "_model_module_version": "1.2.0",
            "_model_name": "LayoutModel",
            "_view_count": null,
            "_view_module": "@jupyter-widgets/base",
            "_view_module_version": "1.2.0",
            "_view_name": "LayoutView",
            "align_content": null,
            "align_items": null,
            "align_self": null,
            "border": null,
            "bottom": null,
            "display": null,
            "flex": null,
            "flex_flow": null,
            "grid_area": null,
            "grid_auto_columns": null,
            "grid_auto_flow": null,
            "grid_auto_rows": null,
            "grid_column": null,
            "grid_gap": null,
            "grid_row": null,
            "grid_template_areas": null,
            "grid_template_columns": null,
            "grid_template_rows": null,
            "height": null,
            "justify_content": null,
            "justify_items": null,
            "left": null,
            "margin": null,
            "max_height": null,
            "max_width": null,
            "min_height": null,
            "min_width": null,
            "object_fit": null,
            "object_position": null,
            "order": null,
            "overflow": null,
            "overflow_x": null,
            "overflow_y": null,
            "padding": null,
            "right": null,
            "top": null,
            "visibility": null,
            "width": null
          }
        },
        "8bfca06bb19445f6a5a8cd672e0a3892": {
          "model_module": "@jupyter-widgets/base",
          "model_module_version": "1.2.0",
          "model_name": "LayoutModel",
          "state": {
            "_model_module": "@jupyter-widgets/base",
            "_model_module_version": "1.2.0",
            "_model_name": "LayoutModel",
            "_view_count": null,
            "_view_module": "@jupyter-widgets/base",
            "_view_module_version": "1.2.0",
            "_view_name": "LayoutView",
            "align_content": null,
            "align_items": null,
            "align_self": null,
            "border": null,
            "bottom": null,
            "display": null,
            "flex": null,
            "flex_flow": null,
            "grid_area": null,
            "grid_auto_columns": null,
            "grid_auto_flow": null,
            "grid_auto_rows": null,
            "grid_column": null,
            "grid_gap": null,
            "grid_row": null,
            "grid_template_areas": null,
            "grid_template_columns": null,
            "grid_template_rows": null,
            "height": null,
            "justify_content": null,
            "justify_items": null,
            "left": null,
            "margin": null,
            "max_height": null,
            "max_width": null,
            "min_height": null,
            "min_width": null,
            "object_fit": null,
            "object_position": null,
            "order": null,
            "overflow": null,
            "overflow_x": null,
            "overflow_y": null,
            "padding": null,
            "right": null,
            "top": null,
            "visibility": null,
            "width": null
          }
        },
        "8c65a78b1e354364af195d1a4cab64bf": {
          "model_module": "@jupyter-widgets/base",
          "model_module_version": "1.2.0",
          "model_name": "LayoutModel",
          "state": {
            "_model_module": "@jupyter-widgets/base",
            "_model_module_version": "1.2.0",
            "_model_name": "LayoutModel",
            "_view_count": null,
            "_view_module": "@jupyter-widgets/base",
            "_view_module_version": "1.2.0",
            "_view_name": "LayoutView",
            "align_content": null,
            "align_items": null,
            "align_self": null,
            "border": null,
            "bottom": null,
            "display": null,
            "flex": null,
            "flex_flow": null,
            "grid_area": null,
            "grid_auto_columns": null,
            "grid_auto_flow": null,
            "grid_auto_rows": null,
            "grid_column": null,
            "grid_gap": null,
            "grid_row": null,
            "grid_template_areas": null,
            "grid_template_columns": null,
            "grid_template_rows": null,
            "height": null,
            "justify_content": null,
            "justify_items": null,
            "left": null,
            "margin": null,
            "max_height": null,
            "max_width": null,
            "min_height": null,
            "min_width": null,
            "object_fit": null,
            "object_position": null,
            "order": null,
            "overflow": null,
            "overflow_x": null,
            "overflow_y": null,
            "padding": null,
            "right": null,
            "top": null,
            "visibility": null,
            "width": null
          }
        },
        "8f2de51810554bc19fbd998b642afbf6": {
          "model_module": "@jupyter-widgets/base",
          "model_module_version": "1.2.0",
          "model_name": "LayoutModel",
          "state": {
            "_model_module": "@jupyter-widgets/base",
            "_model_module_version": "1.2.0",
            "_model_name": "LayoutModel",
            "_view_count": null,
            "_view_module": "@jupyter-widgets/base",
            "_view_module_version": "1.2.0",
            "_view_name": "LayoutView",
            "align_content": null,
            "align_items": null,
            "align_self": null,
            "border": null,
            "bottom": null,
            "display": null,
            "flex": null,
            "flex_flow": null,
            "grid_area": null,
            "grid_auto_columns": null,
            "grid_auto_flow": null,
            "grid_auto_rows": null,
            "grid_column": null,
            "grid_gap": null,
            "grid_row": null,
            "grid_template_areas": null,
            "grid_template_columns": null,
            "grid_template_rows": null,
            "height": null,
            "justify_content": null,
            "justify_items": null,
            "left": null,
            "margin": null,
            "max_height": null,
            "max_width": null,
            "min_height": null,
            "min_width": null,
            "object_fit": null,
            "object_position": null,
            "order": null,
            "overflow": null,
            "overflow_x": null,
            "overflow_y": null,
            "padding": null,
            "right": null,
            "top": null,
            "visibility": null,
            "width": null
          }
        },
        "90072e04f47d452b822996c94f5d1454": {
          "model_module": "@jupyter-widgets/controls",
          "model_module_version": "1.5.0",
          "model_name": "ProgressStyleModel",
          "state": {
            "_model_module": "@jupyter-widgets/controls",
            "_model_module_version": "1.5.0",
            "_model_name": "ProgressStyleModel",
            "_view_count": null,
            "_view_module": "@jupyter-widgets/base",
            "_view_module_version": "1.2.0",
            "_view_name": "StyleView",
            "bar_color": null,
            "description_width": ""
          }
        },
        "9072974d4b4a456faf6b18e26e1ba53d": {
          "model_module": "@jupyter-widgets/controls",
          "model_module_version": "1.5.0",
          "model_name": "HTMLModel",
          "state": {
            "_dom_classes": [],
            "_model_module": "@jupyter-widgets/controls",
            "_model_module_version": "1.5.0",
            "_model_name": "HTMLModel",
            "_view_count": null,
            "_view_module": "@jupyter-widgets/controls",
            "_view_module_version": "1.5.0",
            "_view_name": "HTMLView",
            "description": "",
            "description_tooltip": null,
            "layout": "IPY_MODEL_8c65a78b1e354364af195d1a4cab64bf",
            "placeholder": "​",
            "style": "IPY_MODEL_e06766789c1f4ebb8b1783e721726b20",
            "value": " 570/570 [00:00&lt;00:00, 4.12kB/s]"
          }
        },
        "90ca171bbc754e089e502b53713e1188": {
          "model_module": "@jupyter-widgets/controls",
          "model_module_version": "1.5.0",
          "model_name": "FloatProgressModel",
          "state": {
            "_dom_classes": [],
            "_model_module": "@jupyter-widgets/controls",
            "_model_module_version": "1.5.0",
            "_model_name": "FloatProgressModel",
            "_view_count": null,
            "_view_module": "@jupyter-widgets/controls",
            "_view_module_version": "1.5.0",
            "_view_name": "ProgressView",
            "bar_style": "success",
            "description": "",
            "description_tooltip": null,
            "layout": "IPY_MODEL_576a2c6d603d4c0486684a47c115f6c3",
            "max": 2160,
            "min": 0,
            "orientation": "horizontal",
            "style": "IPY_MODEL_eaa96b03fde14c8298310984e35dfda6",
            "value": 2160
          }
        },
        "92ab521a24c0424f89966e258d75ff17": {
          "model_module": "@jupyter-widgets/base",
          "model_module_version": "1.2.0",
          "model_name": "LayoutModel",
          "state": {
            "_model_module": "@jupyter-widgets/base",
            "_model_module_version": "1.2.0",
            "_model_name": "LayoutModel",
            "_view_count": null,
            "_view_module": "@jupyter-widgets/base",
            "_view_module_version": "1.2.0",
            "_view_name": "LayoutView",
            "align_content": null,
            "align_items": null,
            "align_self": null,
            "border": null,
            "bottom": null,
            "display": null,
            "flex": null,
            "flex_flow": null,
            "grid_area": null,
            "grid_auto_columns": null,
            "grid_auto_flow": null,
            "grid_auto_rows": null,
            "grid_column": null,
            "grid_gap": null,
            "grid_row": null,
            "grid_template_areas": null,
            "grid_template_columns": null,
            "grid_template_rows": null,
            "height": null,
            "justify_content": null,
            "justify_items": null,
            "left": null,
            "margin": null,
            "max_height": null,
            "max_width": null,
            "min_height": null,
            "min_width": null,
            "object_fit": null,
            "object_position": null,
            "order": null,
            "overflow": null,
            "overflow_x": null,
            "overflow_y": null,
            "padding": null,
            "right": null,
            "top": null,
            "visibility": null,
            "width": null
          }
        },
        "9393eb33559e4227a2d255cf58c71b79": {
          "model_module": "@jupyter-widgets/controls",
          "model_module_version": "1.5.0",
          "model_name": "DescriptionStyleModel",
          "state": {
            "_model_module": "@jupyter-widgets/controls",
            "_model_module_version": "1.5.0",
            "_model_name": "DescriptionStyleModel",
            "_view_count": null,
            "_view_module": "@jupyter-widgets/base",
            "_view_module_version": "1.2.0",
            "_view_name": "StyleView",
            "description_width": ""
          }
        },
        "93c9526b56944ba28c3e4f5a3c026b88": {
          "model_module": "@jupyter-widgets/controls",
          "model_module_version": "1.5.0",
          "model_name": "HTMLModel",
          "state": {
            "_dom_classes": [],
            "_model_module": "@jupyter-widgets/controls",
            "_model_module_version": "1.5.0",
            "_model_name": "HTMLModel",
            "_view_count": null,
            "_view_module": "@jupyter-widgets/controls",
            "_view_module_version": "1.5.0",
            "_view_name": "HTMLView",
            "description": "",
            "description_tooltip": null,
            "layout": "IPY_MODEL_15bf0f002c5d42ff80885016c14209d8",
            "placeholder": "​",
            "style": "IPY_MODEL_9d59a925449f4860a4f4ccb354faa464",
            "value": "100%"
          }
        },
        "96ad2b63efe349f2ab068599a0d8c74e": {
          "model_module": "@jupyter-widgets/controls",
          "model_module_version": "1.5.0",
          "model_name": "HTMLModel",
          "state": {
            "_dom_classes": [],
            "_model_module": "@jupyter-widgets/controls",
            "_model_module_version": "1.5.0",
            "_model_name": "HTMLModel",
            "_view_count": null,
            "_view_module": "@jupyter-widgets/controls",
            "_view_module_version": "1.5.0",
            "_view_name": "HTMLView",
            "description": "",
            "description_tooltip": null,
            "layout": "IPY_MODEL_063c166bc4b44f0292ca6ff9133cd0b7",
            "placeholder": "​",
            "style": "IPY_MODEL_fffaff2fb61446a5b900e35345b2b5eb",
            "value": "100%"
          }
        },
        "974c980012c54025b555cd279e9e5137": {
          "model_module": "@jupyter-widgets/controls",
          "model_module_version": "1.5.0",
          "model_name": "DescriptionStyleModel",
          "state": {
            "_model_module": "@jupyter-widgets/controls",
            "_model_module_version": "1.5.0",
            "_model_name": "DescriptionStyleModel",
            "_view_count": null,
            "_view_module": "@jupyter-widgets/base",
            "_view_module_version": "1.2.0",
            "_view_name": "StyleView",
            "description_width": ""
          }
        },
        "97812acb682849c899d530640b3ff8b8": {
          "model_module": "@jupyter-widgets/controls",
          "model_module_version": "1.5.0",
          "model_name": "DescriptionStyleModel",
          "state": {
            "_model_module": "@jupyter-widgets/controls",
            "_model_module_version": "1.5.0",
            "_model_name": "DescriptionStyleModel",
            "_view_count": null,
            "_view_module": "@jupyter-widgets/base",
            "_view_module_version": "1.2.0",
            "_view_name": "StyleView",
            "description_width": ""
          }
        },
        "9808d94aafcc4246a6cbc2c214c5d17c": {
          "model_module": "@jupyter-widgets/controls",
          "model_module_version": "1.5.0",
          "model_name": "HTMLModel",
          "state": {
            "_dom_classes": [],
            "_model_module": "@jupyter-widgets/controls",
            "_model_module_version": "1.5.0",
            "_model_name": "HTMLModel",
            "_view_count": null,
            "_view_module": "@jupyter-widgets/controls",
            "_view_module_version": "1.5.0",
            "_view_name": "HTMLView",
            "description": "",
            "description_tooltip": null,
            "layout": "IPY_MODEL_2aec5071773d4f5c91128587d6c21fdc",
            "placeholder": "​",
            "style": "IPY_MODEL_06a30641a31448a7a9071844d50d9e65",
            "value": " 99.0/99.0 [00:00&lt;00:00, 2.07kB/s]"
          }
        },
        "98e92c91ddad49eda841ce9284645cb0": {
          "model_module": "@jupyter-widgets/base",
          "model_module_version": "1.2.0",
          "model_name": "LayoutModel",
          "state": {
            "_model_module": "@jupyter-widgets/base",
            "_model_module_version": "1.2.0",
            "_model_name": "LayoutModel",
            "_view_count": null,
            "_view_module": "@jupyter-widgets/base",
            "_view_module_version": "1.2.0",
            "_view_name": "LayoutView",
            "align_content": null,
            "align_items": null,
            "align_self": null,
            "border": null,
            "bottom": null,
            "display": null,
            "flex": null,
            "flex_flow": null,
            "grid_area": null,
            "grid_auto_columns": null,
            "grid_auto_flow": null,
            "grid_auto_rows": null,
            "grid_column": null,
            "grid_gap": null,
            "grid_row": null,
            "grid_template_areas": null,
            "grid_template_columns": null,
            "grid_template_rows": null,
            "height": null,
            "justify_content": null,
            "justify_items": null,
            "left": null,
            "margin": null,
            "max_height": null,
            "max_width": null,
            "min_height": null,
            "min_width": null,
            "object_fit": null,
            "object_position": null,
            "order": null,
            "overflow": null,
            "overflow_x": null,
            "overflow_y": null,
            "padding": null,
            "right": null,
            "top": null,
            "visibility": null,
            "width": null
          }
        },
        "9bcc7b06013c490eacbf3db3c1fc4db9": {
          "model_module": "@jupyter-widgets/controls",
          "model_module_version": "1.5.0",
          "model_name": "FloatProgressModel",
          "state": {
            "_dom_classes": [],
            "_model_module": "@jupyter-widgets/controls",
            "_model_module_version": "1.5.0",
            "_model_name": "FloatProgressModel",
            "_view_count": null,
            "_view_module": "@jupyter-widgets/controls",
            "_view_module_version": "1.5.0",
            "_view_name": "ProgressView",
            "bar_style": "success",
            "description": "",
            "description_tooltip": null,
            "layout": "IPY_MODEL_ac86aa09d88a42f9b5a3545f938783de",
            "max": 360,
            "min": 0,
            "orientation": "horizontal",
            "style": "IPY_MODEL_1d156ea8352d4dc2b28afa4a8f272124",
            "value": 360
          }
        },
        "9c67420b3aba43278ac5c6baa27755c3": {
          "model_module": "@jupyter-widgets/base",
          "model_module_version": "1.2.0",
          "model_name": "LayoutModel",
          "state": {
            "_model_module": "@jupyter-widgets/base",
            "_model_module_version": "1.2.0",
            "_model_name": "LayoutModel",
            "_view_count": null,
            "_view_module": "@jupyter-widgets/base",
            "_view_module_version": "1.2.0",
            "_view_name": "LayoutView",
            "align_content": null,
            "align_items": null,
            "align_self": null,
            "border": null,
            "bottom": null,
            "display": null,
            "flex": null,
            "flex_flow": null,
            "grid_area": null,
            "grid_auto_columns": null,
            "grid_auto_flow": null,
            "grid_auto_rows": null,
            "grid_column": null,
            "grid_gap": null,
            "grid_row": null,
            "grid_template_areas": null,
            "grid_template_columns": null,
            "grid_template_rows": null,
            "height": null,
            "justify_content": null,
            "justify_items": null,
            "left": null,
            "margin": null,
            "max_height": null,
            "max_width": null,
            "min_height": null,
            "min_width": null,
            "object_fit": null,
            "object_position": null,
            "order": null,
            "overflow": null,
            "overflow_x": null,
            "overflow_y": null,
            "padding": null,
            "right": null,
            "top": null,
            "visibility": null,
            "width": null
          }
        },
        "9cca112c232d42bdb58db0c330781123": {
          "model_module": "@jupyter-widgets/base",
          "model_module_version": "1.2.0",
          "model_name": "LayoutModel",
          "state": {
            "_model_module": "@jupyter-widgets/base",
            "_model_module_version": "1.2.0",
            "_model_name": "LayoutModel",
            "_view_count": null,
            "_view_module": "@jupyter-widgets/base",
            "_view_module_version": "1.2.0",
            "_view_name": "LayoutView",
            "align_content": null,
            "align_items": null,
            "align_self": null,
            "border": null,
            "bottom": null,
            "display": null,
            "flex": null,
            "flex_flow": null,
            "grid_area": null,
            "grid_auto_columns": null,
            "grid_auto_flow": null,
            "grid_auto_rows": null,
            "grid_column": null,
            "grid_gap": null,
            "grid_row": null,
            "grid_template_areas": null,
            "grid_template_columns": null,
            "grid_template_rows": null,
            "height": null,
            "justify_content": null,
            "justify_items": null,
            "left": null,
            "margin": null,
            "max_height": null,
            "max_width": null,
            "min_height": null,
            "min_width": null,
            "object_fit": null,
            "object_position": null,
            "order": null,
            "overflow": null,
            "overflow_x": null,
            "overflow_y": null,
            "padding": null,
            "right": null,
            "top": null,
            "visibility": null,
            "width": null
          }
        },
        "9ce916a5e41545049f12c2e3759351ff": {
          "model_module": "@jupyter-widgets/controls",
          "model_module_version": "1.5.0",
          "model_name": "CheckboxModel",
          "state": {
            "_dom_classes": [],
            "_model_module": "@jupyter-widgets/controls",
            "_model_module_version": "1.5.0",
            "_model_name": "CheckboxModel",
            "_view_count": null,
            "_view_module": "@jupyter-widgets/controls",
            "_view_module_version": "1.5.0",
            "_view_name": "CheckboxView",
            "description": "Add token as git credential?",
            "description_tooltip": null,
            "disabled": false,
            "indent": true,
            "layout": "IPY_MODEL_683bc619a93e44da86ad91bb87748d99",
            "style": "IPY_MODEL_9393eb33559e4227a2d255cf58c71b79",
            "value": true
          }
        },
        "9d59a925449f4860a4f4ccb354faa464": {
          "model_module": "@jupyter-widgets/controls",
          "model_module_version": "1.5.0",
          "model_name": "DescriptionStyleModel",
          "state": {
            "_model_module": "@jupyter-widgets/controls",
            "_model_module_version": "1.5.0",
            "_model_name": "DescriptionStyleModel",
            "_view_count": null,
            "_view_module": "@jupyter-widgets/base",
            "_view_module_version": "1.2.0",
            "_view_name": "StyleView",
            "description_width": ""
          }
        },
        "9d5c92e3d69242e3ae64346c191c4f21": {
          "model_module": "@jupyter-widgets/base",
          "model_module_version": "1.2.0",
          "model_name": "LayoutModel",
          "state": {
            "_model_module": "@jupyter-widgets/base",
            "_model_module_version": "1.2.0",
            "_model_name": "LayoutModel",
            "_view_count": null,
            "_view_module": "@jupyter-widgets/base",
            "_view_module_version": "1.2.0",
            "_view_name": "LayoutView",
            "align_content": null,
            "align_items": null,
            "align_self": null,
            "border": null,
            "bottom": null,
            "display": null,
            "flex": null,
            "flex_flow": null,
            "grid_area": null,
            "grid_auto_columns": null,
            "grid_auto_flow": null,
            "grid_auto_rows": null,
            "grid_column": null,
            "grid_gap": null,
            "grid_row": null,
            "grid_template_areas": null,
            "grid_template_columns": null,
            "grid_template_rows": null,
            "height": null,
            "justify_content": null,
            "justify_items": null,
            "left": null,
            "margin": null,
            "max_height": null,
            "max_width": null,
            "min_height": null,
            "min_width": null,
            "object_fit": null,
            "object_position": null,
            "order": null,
            "overflow": null,
            "overflow_x": null,
            "overflow_y": null,
            "padding": null,
            "right": null,
            "top": null,
            "visibility": null,
            "width": null
          }
        },
        "9d86487287844852b80c08095d4b40ca": {
          "model_module": "@jupyter-widgets/controls",
          "model_module_version": "1.5.0",
          "model_name": "HTMLModel",
          "state": {
            "_dom_classes": [],
            "_model_module": "@jupyter-widgets/controls",
            "_model_module_version": "1.5.0",
            "_model_name": "HTMLModel",
            "_view_count": null,
            "_view_module": "@jupyter-widgets/controls",
            "_view_module_version": "1.5.0",
            "_view_name": "HTMLView",
            "description": "",
            "description_tooltip": null,
            "layout": "IPY_MODEL_2fead2d2f89e42f5af38b6661d801bf7",
            "placeholder": "​",
            "style": "IPY_MODEL_c34e2c86d1824caa8199a11ebec52daa",
            "value": " 360/360 [00:40&lt;00:00,  8.75it/s]"
          }
        },
        "9e420c3d885344a1ba4de5662871c8bd": {
          "model_module": "@jupyter-widgets/controls",
          "model_module_version": "1.5.0",
          "model_name": "ProgressStyleModel",
          "state": {
            "_model_module": "@jupyter-widgets/controls",
            "_model_module_version": "1.5.0",
            "_model_name": "ProgressStyleModel",
            "_view_count": null,
            "_view_module": "@jupyter-widgets/base",
            "_view_module_version": "1.2.0",
            "_view_name": "StyleView",
            "bar_color": null,
            "description_width": ""
          }
        },
        "a15093c671314a35b5efe16d6686eb51": {
          "model_module": "@jupyter-widgets/controls",
          "model_module_version": "1.5.0",
          "model_name": "HTMLModel",
          "state": {
            "_dom_classes": [],
            "_model_module": "@jupyter-widgets/controls",
            "_model_module_version": "1.5.0",
            "_model_name": "HTMLModel",
            "_view_count": null,
            "_view_module": "@jupyter-widgets/controls",
            "_view_module_version": "1.5.0",
            "_view_name": "HTMLView",
            "description": "",
            "description_tooltip": null,
            "layout": "IPY_MODEL_041c551ac941479f8322b181708adbc3",
            "placeholder": "​",
            "style": "IPY_MODEL_614c947576964c38bce413e9cce94a92",
            "value": "Downloading (…)ep143000/config.json: 100%"
          }
        },
        "a1b7d0e5234a4e7380cb62627ecea653": {
          "model_module": "@jupyter-widgets/controls",
          "model_module_version": "1.5.0",
          "model_name": "DescriptionStyleModel",
          "state": {
            "_model_module": "@jupyter-widgets/controls",
            "_model_module_version": "1.5.0",
            "_model_name": "DescriptionStyleModel",
            "_view_count": null,
            "_view_module": "@jupyter-widgets/base",
            "_view_module_version": "1.2.0",
            "_view_name": "StyleView",
            "description_width": ""
          }
        },
        "a291a67b85a048a4813fef7448c9beb9": {
          "model_module": "@jupyter-widgets/base",
          "model_module_version": "1.2.0",
          "model_name": "LayoutModel",
          "state": {
            "_model_module": "@jupyter-widgets/base",
            "_model_module_version": "1.2.0",
            "_model_name": "LayoutModel",
            "_view_count": null,
            "_view_module": "@jupyter-widgets/base",
            "_view_module_version": "1.2.0",
            "_view_name": "LayoutView",
            "align_content": null,
            "align_items": null,
            "align_self": null,
            "border": null,
            "bottom": null,
            "display": null,
            "flex": null,
            "flex_flow": null,
            "grid_area": null,
            "grid_auto_columns": null,
            "grid_auto_flow": null,
            "grid_auto_rows": null,
            "grid_column": null,
            "grid_gap": null,
            "grid_row": null,
            "grid_template_areas": null,
            "grid_template_columns": null,
            "grid_template_rows": null,
            "height": null,
            "justify_content": null,
            "justify_items": null,
            "left": null,
            "margin": null,
            "max_height": null,
            "max_width": null,
            "min_height": null,
            "min_width": null,
            "object_fit": null,
            "object_position": null,
            "order": null,
            "overflow": null,
            "overflow_x": null,
            "overflow_y": null,
            "padding": null,
            "right": null,
            "top": null,
            "visibility": null,
            "width": null
          }
        },
        "a2a4344d4b964cf4a39f13c399527dc3": {
          "model_module": "@jupyter-widgets/controls",
          "model_module_version": "1.5.0",
          "model_name": "DescriptionStyleModel",
          "state": {
            "_model_module": "@jupyter-widgets/controls",
            "_model_module_version": "1.5.0",
            "_model_name": "DescriptionStyleModel",
            "_view_count": null,
            "_view_module": "@jupyter-widgets/base",
            "_view_module_version": "1.2.0",
            "_view_name": "StyleView",
            "description_width": ""
          }
        },
        "a2aeaa74dab24e50ac87c6ce0b6f68e6": {
          "model_module": "@jupyter-widgets/base",
          "model_module_version": "1.2.0",
          "model_name": "LayoutModel",
          "state": {
            "_model_module": "@jupyter-widgets/base",
            "_model_module_version": "1.2.0",
            "_model_name": "LayoutModel",
            "_view_count": null,
            "_view_module": "@jupyter-widgets/base",
            "_view_module_version": "1.2.0",
            "_view_name": "LayoutView",
            "align_content": null,
            "align_items": null,
            "align_self": null,
            "border": null,
            "bottom": null,
            "display": null,
            "flex": null,
            "flex_flow": null,
            "grid_area": null,
            "grid_auto_columns": null,
            "grid_auto_flow": null,
            "grid_auto_rows": null,
            "grid_column": null,
            "grid_gap": null,
            "grid_row": null,
            "grid_template_areas": null,
            "grid_template_columns": null,
            "grid_template_rows": null,
            "height": null,
            "justify_content": null,
            "justify_items": null,
            "left": null,
            "margin": null,
            "max_height": null,
            "max_width": null,
            "min_height": null,
            "min_width": null,
            "object_fit": null,
            "object_position": null,
            "order": null,
            "overflow": null,
            "overflow_x": null,
            "overflow_y": null,
            "padding": null,
            "right": null,
            "top": null,
            "visibility": null,
            "width": null
          }
        },
        "a34d36e536234c1b80a7f7c84630a0fe": {
          "model_module": "@jupyter-widgets/controls",
          "model_module_version": "1.5.0",
          "model_name": "DescriptionStyleModel",
          "state": {
            "_model_module": "@jupyter-widgets/controls",
            "_model_module_version": "1.5.0",
            "_model_name": "DescriptionStyleModel",
            "_view_count": null,
            "_view_module": "@jupyter-widgets/base",
            "_view_module_version": "1.2.0",
            "_view_name": "StyleView",
            "description_width": ""
          }
        },
        "a3ebe13477b44a61b5fd539d33b8045c": {
          "model_module": "@jupyter-widgets/base",
          "model_module_version": "1.2.0",
          "model_name": "LayoutModel",
          "state": {
            "_model_module": "@jupyter-widgets/base",
            "_model_module_version": "1.2.0",
            "_model_name": "LayoutModel",
            "_view_count": null,
            "_view_module": "@jupyter-widgets/base",
            "_view_module_version": "1.2.0",
            "_view_name": "LayoutView",
            "align_content": null,
            "align_items": null,
            "align_self": null,
            "border": null,
            "bottom": null,
            "display": null,
            "flex": null,
            "flex_flow": null,
            "grid_area": null,
            "grid_auto_columns": null,
            "grid_auto_flow": null,
            "grid_auto_rows": null,
            "grid_column": null,
            "grid_gap": null,
            "grid_row": null,
            "grid_template_areas": null,
            "grid_template_columns": null,
            "grid_template_rows": null,
            "height": null,
            "justify_content": null,
            "justify_items": null,
            "left": null,
            "margin": null,
            "max_height": null,
            "max_width": null,
            "min_height": null,
            "min_width": null,
            "object_fit": null,
            "object_position": null,
            "order": null,
            "overflow": null,
            "overflow_x": null,
            "overflow_y": null,
            "padding": null,
            "right": null,
            "top": null,
            "visibility": null,
            "width": null
          }
        },
        "a3fef7f9e85f49b3a86bd43fd553df22": {
          "model_module": "@jupyter-widgets/controls",
          "model_module_version": "1.5.0",
          "model_name": "FloatProgressModel",
          "state": {
            "_dom_classes": [],
            "_model_module": "@jupyter-widgets/controls",
            "_model_module_version": "1.5.0",
            "_model_name": "FloatProgressModel",
            "_view_count": null,
            "_view_module": "@jupyter-widgets/controls",
            "_view_module_version": "1.5.0",
            "_view_name": "ProgressView",
            "bar_style": "success",
            "description": "",
            "description_tooltip": null,
            "layout": "IPY_MODEL_25a1823126c24e5f80e857c150cd3dbd",
            "max": 384,
            "min": 0,
            "orientation": "horizontal",
            "style": "IPY_MODEL_8701485f90df4f3585d5d2b250d208ea",
            "value": 384
          }
        },
        "a4d7f4c66ad6479a8712d633efe47dc3": {
          "model_module": "@jupyter-widgets/controls",
          "model_module_version": "1.5.0",
          "model_name": "HTMLModel",
          "state": {
            "_dom_classes": [],
            "_model_module": "@jupyter-widgets/controls",
            "_model_module_version": "1.5.0",
            "_model_name": "HTMLModel",
            "_view_count": null,
            "_view_module": "@jupyter-widgets/controls",
            "_view_module_version": "1.5.0",
            "_view_name": "HTMLView",
            "description": "",
            "description_tooltip": null,
            "layout": "IPY_MODEL_8bfca06bb19445f6a5a8cd672e0a3892",
            "placeholder": "​",
            "style": "IPY_MODEL_266328f488064603892cfd81dbc06762",
            "value": "100%"
          }
        },
        "a552fcd1d88d4fa296e393e4029c5b6c": {
          "model_module": "@jupyter-widgets/base",
          "model_module_version": "1.2.0",
          "model_name": "LayoutModel",
          "state": {
            "_model_module": "@jupyter-widgets/base",
            "_model_module_version": "1.2.0",
            "_model_name": "LayoutModel",
            "_view_count": null,
            "_view_module": "@jupyter-widgets/base",
            "_view_module_version": "1.2.0",
            "_view_name": "LayoutView",
            "align_content": null,
            "align_items": null,
            "align_self": null,
            "border": null,
            "bottom": null,
            "display": null,
            "flex": null,
            "flex_flow": null,
            "grid_area": null,
            "grid_auto_columns": null,
            "grid_auto_flow": null,
            "grid_auto_rows": null,
            "grid_column": null,
            "grid_gap": null,
            "grid_row": null,
            "grid_template_areas": null,
            "grid_template_columns": null,
            "grid_template_rows": null,
            "height": null,
            "justify_content": null,
            "justify_items": null,
            "left": null,
            "margin": null,
            "max_height": null,
            "max_width": null,
            "min_height": null,
            "min_width": null,
            "object_fit": null,
            "object_position": null,
            "order": null,
            "overflow": null,
            "overflow_x": null,
            "overflow_y": null,
            "padding": null,
            "right": null,
            "top": null,
            "visibility": null,
            "width": null
          }
        },
        "a5f8ac9ebb6a4d7f9e52100af5558d29": {
          "model_module": "@jupyter-widgets/base",
          "model_module_version": "1.2.0",
          "model_name": "LayoutModel",
          "state": {
            "_model_module": "@jupyter-widgets/base",
            "_model_module_version": "1.2.0",
            "_model_name": "LayoutModel",
            "_view_count": null,
            "_view_module": "@jupyter-widgets/base",
            "_view_module_version": "1.2.0",
            "_view_name": "LayoutView",
            "align_content": null,
            "align_items": null,
            "align_self": null,
            "border": null,
            "bottom": null,
            "display": null,
            "flex": null,
            "flex_flow": null,
            "grid_area": null,
            "grid_auto_columns": null,
            "grid_auto_flow": null,
            "grid_auto_rows": null,
            "grid_column": null,
            "grid_gap": null,
            "grid_row": null,
            "grid_template_areas": null,
            "grid_template_columns": null,
            "grid_template_rows": null,
            "height": null,
            "justify_content": null,
            "justify_items": null,
            "left": null,
            "margin": null,
            "max_height": null,
            "max_width": null,
            "min_height": null,
            "min_width": null,
            "object_fit": null,
            "object_position": null,
            "order": null,
            "overflow": null,
            "overflow_x": null,
            "overflow_y": null,
            "padding": null,
            "right": null,
            "top": null,
            "visibility": null,
            "width": null
          }
        },
        "a6c01dcbb16f40739edde63ebdfe7ba8": {
          "model_module": "@jupyter-widgets/controls",
          "model_module_version": "1.5.0",
          "model_name": "HBoxModel",
          "state": {
            "_dom_classes": [],
            "_model_module": "@jupyter-widgets/controls",
            "_model_module_version": "1.5.0",
            "_model_name": "HBoxModel",
            "_view_count": null,
            "_view_module": "@jupyter-widgets/controls",
            "_view_module_version": "1.5.0",
            "_view_name": "HBoxView",
            "box_style": "",
            "children": [
              "IPY_MODEL_a4d7f4c66ad6479a8712d633efe47dc3",
              "IPY_MODEL_9bcc7b06013c490eacbf3db3c1fc4db9",
              "IPY_MODEL_9d86487287844852b80c08095d4b40ca"
            ],
            "layout": "IPY_MODEL_470d27bfb21a4fb199b58b99d01ce516"
          }
        },
        "a810e43e3d9a4ea0b7174655053690bf": {
          "model_module": "@jupyter-widgets/controls",
          "model_module_version": "1.5.0",
          "model_name": "ProgressStyleModel",
          "state": {
            "_model_module": "@jupyter-widgets/controls",
            "_model_module_version": "1.5.0",
            "_model_name": "ProgressStyleModel",
            "_view_count": null,
            "_view_module": "@jupyter-widgets/base",
            "_view_module_version": "1.2.0",
            "_view_name": "StyleView",
            "bar_color": null,
            "description_width": ""
          }
        },
        "a9a0659cf58e4380b0134fce33072c3d": {
          "model_module": "@jupyter-widgets/controls",
          "model_module_version": "1.5.0",
          "model_name": "HBoxModel",
          "state": {
            "_dom_classes": [],
            "_model_module": "@jupyter-widgets/controls",
            "_model_module_version": "1.5.0",
            "_model_name": "HBoxModel",
            "_view_count": null,
            "_view_module": "@jupyter-widgets/controls",
            "_view_module_version": "1.5.0",
            "_view_name": "HBoxView",
            "box_style": "",
            "children": [
              "IPY_MODEL_a15093c671314a35b5efe16d6686eb51",
              "IPY_MODEL_5650eb52bd7b4329a66fda22961bf0e7",
              "IPY_MODEL_9072974d4b4a456faf6b18e26e1ba53d"
            ],
            "layout": "IPY_MODEL_d46a4f177d204d6992e1caf3f9b32770"
          }
        },
        "ac86aa09d88a42f9b5a3545f938783de": {
          "model_module": "@jupyter-widgets/base",
          "model_module_version": "1.2.0",
          "model_name": "LayoutModel",
          "state": {
            "_model_module": "@jupyter-widgets/base",
            "_model_module_version": "1.2.0",
            "_model_name": "LayoutModel",
            "_view_count": null,
            "_view_module": "@jupyter-widgets/base",
            "_view_module_version": "1.2.0",
            "_view_name": "LayoutView",
            "align_content": null,
            "align_items": null,
            "align_self": null,
            "border": null,
            "bottom": null,
            "display": null,
            "flex": null,
            "flex_flow": null,
            "grid_area": null,
            "grid_auto_columns": null,
            "grid_auto_flow": null,
            "grid_auto_rows": null,
            "grid_column": null,
            "grid_gap": null,
            "grid_row": null,
            "grid_template_areas": null,
            "grid_template_columns": null,
            "grid_template_rows": null,
            "height": null,
            "justify_content": null,
            "justify_items": null,
            "left": null,
            "margin": null,
            "max_height": null,
            "max_width": null,
            "min_height": null,
            "min_width": null,
            "object_fit": null,
            "object_position": null,
            "order": null,
            "overflow": null,
            "overflow_x": null,
            "overflow_y": null,
            "padding": null,
            "right": null,
            "top": null,
            "visibility": null,
            "width": null
          }
        },
        "ae276f634dd24e7f822595005cddbc12": {
          "model_module": "@jupyter-widgets/base",
          "model_module_version": "1.2.0",
          "model_name": "LayoutModel",
          "state": {
            "_model_module": "@jupyter-widgets/base",
            "_model_module_version": "1.2.0",
            "_model_name": "LayoutModel",
            "_view_count": null,
            "_view_module": "@jupyter-widgets/base",
            "_view_module_version": "1.2.0",
            "_view_name": "LayoutView",
            "align_content": null,
            "align_items": null,
            "align_self": null,
            "border": null,
            "bottom": null,
            "display": null,
            "flex": null,
            "flex_flow": null,
            "grid_area": null,
            "grid_auto_columns": null,
            "grid_auto_flow": null,
            "grid_auto_rows": null,
            "grid_column": null,
            "grid_gap": null,
            "grid_row": null,
            "grid_template_areas": null,
            "grid_template_columns": null,
            "grid_template_rows": null,
            "height": null,
            "justify_content": null,
            "justify_items": null,
            "left": null,
            "margin": null,
            "max_height": null,
            "max_width": null,
            "min_height": null,
            "min_width": null,
            "object_fit": null,
            "object_position": null,
            "order": null,
            "overflow": null,
            "overflow_x": null,
            "overflow_y": null,
            "padding": null,
            "right": null,
            "top": null,
            "visibility": null,
            "width": null
          }
        },
        "ae37526a683c4998900bd36d0a7779a4": {
          "model_module": "@jupyter-widgets/controls",
          "model_module_version": "1.5.0",
          "model_name": "HTMLModel",
          "state": {
            "_dom_classes": [],
            "_model_module": "@jupyter-widgets/controls",
            "_model_module_version": "1.5.0",
            "_model_name": "HTMLModel",
            "_view_count": null,
            "_view_module": "@jupyter-widgets/controls",
            "_view_module_version": "1.5.0",
            "_view_name": "HTMLView",
            "description": "",
            "description_tooltip": null,
            "layout": "IPY_MODEL_2ceb6a68f39d46e1b0b34ff7666aef67",
            "placeholder": "​",
            "style": "IPY_MODEL_b68c8f93308d48eda11d918086c55b0e",
            "value": "Downloading (…)lve/main/config.json: 100%"
          }
        },
        "ae5d57a94aa64d068640d13ac957f3fd": {
          "model_module": "@jupyter-widgets/controls",
          "model_module_version": "1.5.0",
          "model_name": "HTMLModel",
          "state": {
            "_dom_classes": [],
            "_model_module": "@jupyter-widgets/controls",
            "_model_module_version": "1.5.0",
            "_model_name": "HTMLModel",
            "_view_count": null,
            "_view_module": "@jupyter-widgets/controls",
            "_view_module_version": "1.5.0",
            "_view_name": "HTMLView",
            "description": "",
            "description_tooltip": null,
            "layout": "IPY_MODEL_6f00c70935cd4d60bcf175bfe4807413",
            "placeholder": "​",
            "style": "IPY_MODEL_c7c913d51ae441bc803bbdb370fa601d",
            "value": "100%"
          }
        },
        "aecf67d6a65f4b568181687bf6f5e90e": {
          "model_module": "@jupyter-widgets/controls",
          "model_module_version": "1.5.0",
          "model_name": "FloatProgressModel",
          "state": {
            "_dom_classes": [],
            "_model_module": "@jupyter-widgets/controls",
            "_model_module_version": "1.5.0",
            "_model_name": "FloatProgressModel",
            "_view_count": null,
            "_view_module": "@jupyter-widgets/controls",
            "_view_module_version": "1.5.0",
            "_view_name": "ProgressView",
            "bar_style": "success",
            "description": "",
            "description_tooltip": null,
            "layout": "IPY_MODEL_b48164b99a284532aa4d01de999e1253",
            "max": 360,
            "min": 0,
            "orientation": "horizontal",
            "style": "IPY_MODEL_d805a7ad25b444e9ad623b367f86617c",
            "value": 360
          }
        },
        "af4f408d66144b5bb9ce45f735f58723": {
          "model_module": "@jupyter-widgets/base",
          "model_module_version": "1.2.0",
          "model_name": "LayoutModel",
          "state": {
            "_model_module": "@jupyter-widgets/base",
            "_model_module_version": "1.2.0",
            "_model_name": "LayoutModel",
            "_view_count": null,
            "_view_module": "@jupyter-widgets/base",
            "_view_module_version": "1.2.0",
            "_view_name": "LayoutView",
            "align_content": null,
            "align_items": null,
            "align_self": null,
            "border": null,
            "bottom": null,
            "display": null,
            "flex": null,
            "flex_flow": null,
            "grid_area": null,
            "grid_auto_columns": null,
            "grid_auto_flow": null,
            "grid_auto_rows": null,
            "grid_column": null,
            "grid_gap": null,
            "grid_row": null,
            "grid_template_areas": null,
            "grid_template_columns": null,
            "grid_template_rows": null,
            "height": null,
            "justify_content": null,
            "justify_items": null,
            "left": null,
            "margin": null,
            "max_height": null,
            "max_width": null,
            "min_height": null,
            "min_width": null,
            "object_fit": null,
            "object_position": null,
            "order": null,
            "overflow": null,
            "overflow_x": null,
            "overflow_y": null,
            "padding": null,
            "right": null,
            "top": null,
            "visibility": null,
            "width": null
          }
        },
        "afb77aa38de346dd97f0e06f40d190a5": {
          "model_module": "@jupyter-widgets/controls",
          "model_module_version": "1.5.0",
          "model_name": "HBoxModel",
          "state": {
            "_dom_classes": [],
            "_model_module": "@jupyter-widgets/controls",
            "_model_module_version": "1.5.0",
            "_model_name": "HBoxModel",
            "_view_count": null,
            "_view_module": "@jupyter-widgets/controls",
            "_view_module_version": "1.5.0",
            "_view_name": "HBoxView",
            "box_style": "",
            "children": [
              "IPY_MODEL_25e12d29c27b47a19be5c9fdb173dab8",
              "IPY_MODEL_4d9becfe15444fa39ee363b2abde5288",
              "IPY_MODEL_84c40d45c75a4d0e9ee0f812bd43c528"
            ],
            "layout": "IPY_MODEL_0a31b769bf934c2ea2c7e80e0f5fe8db"
          }
        },
        "afc20fbbf71340a39d7eeb6563dc733a": {
          "model_module": "@jupyter-widgets/base",
          "model_module_version": "1.2.0",
          "model_name": "LayoutModel",
          "state": {
            "_model_module": "@jupyter-widgets/base",
            "_model_module_version": "1.2.0",
            "_model_name": "LayoutModel",
            "_view_count": null,
            "_view_module": "@jupyter-widgets/base",
            "_view_module_version": "1.2.0",
            "_view_name": "LayoutView",
            "align_content": null,
            "align_items": null,
            "align_self": null,
            "border": null,
            "bottom": null,
            "display": null,
            "flex": null,
            "flex_flow": null,
            "grid_area": null,
            "grid_auto_columns": null,
            "grid_auto_flow": null,
            "grid_auto_rows": null,
            "grid_column": null,
            "grid_gap": null,
            "grid_row": null,
            "grid_template_areas": null,
            "grid_template_columns": null,
            "grid_template_rows": null,
            "height": null,
            "justify_content": null,
            "justify_items": null,
            "left": null,
            "margin": null,
            "max_height": null,
            "max_width": null,
            "min_height": null,
            "min_width": null,
            "object_fit": null,
            "object_position": null,
            "order": null,
            "overflow": null,
            "overflow_x": null,
            "overflow_y": null,
            "padding": null,
            "right": null,
            "top": null,
            "visibility": null,
            "width": null
          }
        },
        "b01dada9b960438889cb3852fd110a16": {
          "model_module": "@jupyter-widgets/base",
          "model_module_version": "1.2.0",
          "model_name": "LayoutModel",
          "state": {
            "_model_module": "@jupyter-widgets/base",
            "_model_module_version": "1.2.0",
            "_model_name": "LayoutModel",
            "_view_count": null,
            "_view_module": "@jupyter-widgets/base",
            "_view_module_version": "1.2.0",
            "_view_name": "LayoutView",
            "align_content": null,
            "align_items": null,
            "align_self": null,
            "border": null,
            "bottom": null,
            "display": null,
            "flex": null,
            "flex_flow": null,
            "grid_area": null,
            "grid_auto_columns": null,
            "grid_auto_flow": null,
            "grid_auto_rows": null,
            "grid_column": null,
            "grid_gap": null,
            "grid_row": null,
            "grid_template_areas": null,
            "grid_template_columns": null,
            "grid_template_rows": null,
            "height": null,
            "justify_content": null,
            "justify_items": null,
            "left": null,
            "margin": null,
            "max_height": null,
            "max_width": null,
            "min_height": null,
            "min_width": null,
            "object_fit": null,
            "object_position": null,
            "order": null,
            "overflow": null,
            "overflow_x": null,
            "overflow_y": null,
            "padding": null,
            "right": null,
            "top": null,
            "visibility": null,
            "width": null
          }
        },
        "b05a63468ede41958f74213a1202cc7b": {
          "model_module": "@jupyter-widgets/controls",
          "model_module_version": "1.5.0",
          "model_name": "HTMLModel",
          "state": {
            "_dom_classes": [],
            "_model_module": "@jupyter-widgets/controls",
            "_model_module_version": "1.5.0",
            "_model_name": "HTMLModel",
            "_view_count": null,
            "_view_module": "@jupyter-widgets/controls",
            "_view_module_version": "1.5.0",
            "_view_name": "HTMLView",
            "description": "",
            "description_tooltip": null,
            "layout": "IPY_MODEL_88c6b0078cf5448c8e22c88a6bc9f509",
            "placeholder": "​",
            "style": "IPY_MODEL_d3cdc1c9d2694be8bbfc572f562ec156",
            "value": " 384/384 [00:47&lt;00:00,  8.19it/s]"
          }
        },
        "b09cf7e6795744b49ef728b042c7053b": {
          "model_module": "@jupyter-widgets/controls",
          "model_module_version": "1.5.0",
          "model_name": "HTMLModel",
          "state": {
            "_dom_classes": [],
            "_model_module": "@jupyter-widgets/controls",
            "_model_module_version": "1.5.0",
            "_model_name": "HTMLModel",
            "_view_count": null,
            "_view_module": "@jupyter-widgets/controls",
            "_view_module_version": "1.5.0",
            "_view_name": "HTMLView",
            "description": "",
            "description_tooltip": null,
            "layout": "IPY_MODEL_b01dada9b960438889cb3852fd110a16",
            "placeholder": "​",
            "style": "IPY_MODEL_458fd3d1456b408c8bab727519c6b886",
            "value": "100%"
          }
        },
        "b14b36d97d82407a9ab82298389a6654": {
          "model_module": "@jupyter-widgets/base",
          "model_module_version": "1.2.0",
          "model_name": "LayoutModel",
          "state": {
            "_model_module": "@jupyter-widgets/base",
            "_model_module_version": "1.2.0",
            "_model_name": "LayoutModel",
            "_view_count": null,
            "_view_module": "@jupyter-widgets/base",
            "_view_module_version": "1.2.0",
            "_view_name": "LayoutView",
            "align_content": null,
            "align_items": null,
            "align_self": null,
            "border": null,
            "bottom": null,
            "display": null,
            "flex": null,
            "flex_flow": null,
            "grid_area": null,
            "grid_auto_columns": null,
            "grid_auto_flow": null,
            "grid_auto_rows": null,
            "grid_column": null,
            "grid_gap": null,
            "grid_row": null,
            "grid_template_areas": null,
            "grid_template_columns": null,
            "grid_template_rows": null,
            "height": null,
            "justify_content": null,
            "justify_items": null,
            "left": null,
            "margin": null,
            "max_height": null,
            "max_width": null,
            "min_height": null,
            "min_width": null,
            "object_fit": null,
            "object_position": null,
            "order": null,
            "overflow": null,
            "overflow_x": null,
            "overflow_y": null,
            "padding": null,
            "right": null,
            "top": null,
            "visibility": null,
            "width": null
          }
        },
        "b1ceea8cba174c48aa7135fc999a3e69": {
          "model_module": "@jupyter-widgets/controls",
          "model_module_version": "1.5.0",
          "model_name": "HTMLModel",
          "state": {
            "_dom_classes": [],
            "_model_module": "@jupyter-widgets/controls",
            "_model_module_version": "1.5.0",
            "_model_name": "HTMLModel",
            "_view_count": null,
            "_view_module": "@jupyter-widgets/controls",
            "_view_module_version": "1.5.0",
            "_view_name": "HTMLView",
            "description": "",
            "description_tooltip": null,
            "layout": "IPY_MODEL_4797737007004aa9b0dd5d7cb51cfee3",
            "placeholder": "​",
            "style": "IPY_MODEL_65cd441b118b4b54b642bb8f98dc0d21",
            "value": "\n<b>Pro Tip:</b> If you don't already have one, you can create a dedicated\n'notebooks' token with 'write' access, that you can then easily reuse for all\nnotebooks. </center>"
          }
        },
        "b23559ddd10a429399c6bc598921d93f": {
          "model_module": "@jupyter-widgets/controls",
          "model_module_version": "1.5.0",
          "model_name": "HBoxModel",
          "state": {
            "_dom_classes": [],
            "_model_module": "@jupyter-widgets/controls",
            "_model_module_version": "1.5.0",
            "_model_name": "HBoxModel",
            "_view_count": null,
            "_view_module": "@jupyter-widgets/controls",
            "_view_module_version": "1.5.0",
            "_view_name": "HBoxView",
            "box_style": "",
            "children": [
              "IPY_MODEL_b9f450da5bba457487a4afce7155619a",
              "IPY_MODEL_59c64e631b2d484ca1dde20f98110f38",
              "IPY_MODEL_3e4a8e1fc0c04a9cad02430a84ce11b0"
            ],
            "layout": "IPY_MODEL_a291a67b85a048a4813fef7448c9beb9"
          }
        },
        "b48164b99a284532aa4d01de999e1253": {
          "model_module": "@jupyter-widgets/base",
          "model_module_version": "1.2.0",
          "model_name": "LayoutModel",
          "state": {
            "_model_module": "@jupyter-widgets/base",
            "_model_module_version": "1.2.0",
            "_model_name": "LayoutModel",
            "_view_count": null,
            "_view_module": "@jupyter-widgets/base",
            "_view_module_version": "1.2.0",
            "_view_name": "LayoutView",
            "align_content": null,
            "align_items": null,
            "align_self": null,
            "border": null,
            "bottom": null,
            "display": null,
            "flex": null,
            "flex_flow": null,
            "grid_area": null,
            "grid_auto_columns": null,
            "grid_auto_flow": null,
            "grid_auto_rows": null,
            "grid_column": null,
            "grid_gap": null,
            "grid_row": null,
            "grid_template_areas": null,
            "grid_template_columns": null,
            "grid_template_rows": null,
            "height": null,
            "justify_content": null,
            "justify_items": null,
            "left": null,
            "margin": null,
            "max_height": null,
            "max_width": null,
            "min_height": null,
            "min_width": null,
            "object_fit": null,
            "object_position": null,
            "order": null,
            "overflow": null,
            "overflow_x": null,
            "overflow_y": null,
            "padding": null,
            "right": null,
            "top": null,
            "visibility": null,
            "width": null
          }
        },
        "b48fc3b10fb04f91a208f1ce6b1c8545": {
          "model_module": "@jupyter-widgets/controls",
          "model_module_version": "1.5.0",
          "model_name": "ProgressStyleModel",
          "state": {
            "_model_module": "@jupyter-widgets/controls",
            "_model_module_version": "1.5.0",
            "_model_name": "ProgressStyleModel",
            "_view_count": null,
            "_view_module": "@jupyter-widgets/base",
            "_view_module_version": "1.2.0",
            "_view_name": "StyleView",
            "bar_color": null,
            "description_width": ""
          }
        },
        "b5b2f26b50dd491cbce2e691a93c8eab": {
          "model_module": "@jupyter-widgets/base",
          "model_module_version": "1.2.0",
          "model_name": "LayoutModel",
          "state": {
            "_model_module": "@jupyter-widgets/base",
            "_model_module_version": "1.2.0",
            "_model_name": "LayoutModel",
            "_view_count": null,
            "_view_module": "@jupyter-widgets/base",
            "_view_module_version": "1.2.0",
            "_view_name": "LayoutView",
            "align_content": null,
            "align_items": null,
            "align_self": null,
            "border": null,
            "bottom": null,
            "display": null,
            "flex": null,
            "flex_flow": null,
            "grid_area": null,
            "grid_auto_columns": null,
            "grid_auto_flow": null,
            "grid_auto_rows": null,
            "grid_column": null,
            "grid_gap": null,
            "grid_row": null,
            "grid_template_areas": null,
            "grid_template_columns": null,
            "grid_template_rows": null,
            "height": null,
            "justify_content": null,
            "justify_items": null,
            "left": null,
            "margin": null,
            "max_height": null,
            "max_width": null,
            "min_height": null,
            "min_width": null,
            "object_fit": null,
            "object_position": null,
            "order": null,
            "overflow": null,
            "overflow_x": null,
            "overflow_y": null,
            "padding": null,
            "right": null,
            "top": null,
            "visibility": null,
            "width": null
          }
        },
        "b5cea32693f74fdfaa8a526ebaa891b9": {
          "model_module": "@jupyter-widgets/controls",
          "model_module_version": "1.5.0",
          "model_name": "FloatProgressModel",
          "state": {
            "_dom_classes": [],
            "_model_module": "@jupyter-widgets/controls",
            "_model_module_version": "1.5.0",
            "_model_name": "FloatProgressModel",
            "_view_count": null,
            "_view_module": "@jupyter-widgets/controls",
            "_view_module_version": "1.5.0",
            "_view_name": "ProgressView",
            "bar_style": "success",
            "description": "",
            "description_tooltip": null,
            "layout": "IPY_MODEL_45bcfc56604146ee8fa1020f6050571d",
            "max": 360,
            "min": 0,
            "orientation": "horizontal",
            "style": "IPY_MODEL_a810e43e3d9a4ea0b7174655053690bf",
            "value": 360
          }
        },
        "b68c8f93308d48eda11d918086c55b0e": {
          "model_module": "@jupyter-widgets/controls",
          "model_module_version": "1.5.0",
          "model_name": "DescriptionStyleModel",
          "state": {
            "_model_module": "@jupyter-widgets/controls",
            "_model_module_version": "1.5.0",
            "_model_name": "DescriptionStyleModel",
            "_view_count": null,
            "_view_module": "@jupyter-widgets/base",
            "_view_module_version": "1.2.0",
            "_view_name": "StyleView",
            "description_width": ""
          }
        },
        "b800e027bc1647ae8995b81d90d05fc9": {
          "model_module": "@jupyter-widgets/base",
          "model_module_version": "1.2.0",
          "model_name": "LayoutModel",
          "state": {
            "_model_module": "@jupyter-widgets/base",
            "_model_module_version": "1.2.0",
            "_model_name": "LayoutModel",
            "_view_count": null,
            "_view_module": "@jupyter-widgets/base",
            "_view_module_version": "1.2.0",
            "_view_name": "LayoutView",
            "align_content": null,
            "align_items": null,
            "align_self": null,
            "border": null,
            "bottom": null,
            "display": null,
            "flex": null,
            "flex_flow": null,
            "grid_area": null,
            "grid_auto_columns": null,
            "grid_auto_flow": null,
            "grid_auto_rows": null,
            "grid_column": null,
            "grid_gap": null,
            "grid_row": null,
            "grid_template_areas": null,
            "grid_template_columns": null,
            "grid_template_rows": null,
            "height": null,
            "justify_content": null,
            "justify_items": null,
            "left": null,
            "margin": null,
            "max_height": null,
            "max_width": null,
            "min_height": null,
            "min_width": null,
            "object_fit": null,
            "object_position": null,
            "order": null,
            "overflow": null,
            "overflow_x": null,
            "overflow_y": null,
            "padding": null,
            "right": null,
            "top": null,
            "visibility": null,
            "width": null
          }
        },
        "b9313f6e024748fa9e8c7d2062965f10": {
          "model_module": "@jupyter-widgets/controls",
          "model_module_version": "1.5.0",
          "model_name": "HBoxModel",
          "state": {
            "_dom_classes": [],
            "_model_module": "@jupyter-widgets/controls",
            "_model_module_version": "1.5.0",
            "_model_name": "HBoxModel",
            "_view_count": null,
            "_view_module": "@jupyter-widgets/controls",
            "_view_module_version": "1.5.0",
            "_view_name": "HBoxView",
            "box_style": "",
            "children": [
              "IPY_MODEL_ae5d57a94aa64d068640d13ac957f3fd",
              "IPY_MODEL_03c2cf0dd0d642a9aa25237dceeabfde",
              "IPY_MODEL_4f168d4beb0e4aa783b7ef30c77b6b17"
            ],
            "layout": "IPY_MODEL_b800e027bc1647ae8995b81d90d05fc9"
          }
        },
        "b9f450da5bba457487a4afce7155619a": {
          "model_module": "@jupyter-widgets/controls",
          "model_module_version": "1.5.0",
          "model_name": "HTMLModel",
          "state": {
            "_dom_classes": [],
            "_model_module": "@jupyter-widgets/controls",
            "_model_module_version": "1.5.0",
            "_model_name": "HTMLModel",
            "_view_count": null,
            "_view_module": "@jupyter-widgets/controls",
            "_view_module_version": "1.5.0",
            "_view_name": "HTMLView",
            "description": "",
            "description_tooltip": null,
            "layout": "IPY_MODEL_58f7d1d77afa4ef79934d7088318e738",
            "placeholder": "​",
            "style": "IPY_MODEL_974c980012c54025b555cd279e9e5137",
            "value": "100%"
          }
        },
        "bef1d7dd5c9a4ef5854260b6114da816": {
          "model_module": "@jupyter-widgets/controls",
          "model_module_version": "1.5.0",
          "model_name": "FloatProgressModel",
          "state": {
            "_dom_classes": [],
            "_model_module": "@jupyter-widgets/controls",
            "_model_module_version": "1.5.0",
            "_model_name": "FloatProgressModel",
            "_view_count": null,
            "_view_module": "@jupyter-widgets/controls",
            "_view_module_version": "1.5.0",
            "_view_name": "ProgressView",
            "bar_style": "success",
            "description": "",
            "description_tooltip": null,
            "layout": "IPY_MODEL_17e7f405110c4c70a98c6a904a2a8c0f",
            "max": 384,
            "min": 0,
            "orientation": "horizontal",
            "style": "IPY_MODEL_9e420c3d885344a1ba4de5662871c8bd",
            "value": 384
          }
        },
        "bf955d6faede41d2994eb0fcff816f8a": {
          "model_module": "@jupyter-widgets/base",
          "model_module_version": "1.2.0",
          "model_name": "LayoutModel",
          "state": {
            "_model_module": "@jupyter-widgets/base",
            "_model_module_version": "1.2.0",
            "_model_name": "LayoutModel",
            "_view_count": null,
            "_view_module": "@jupyter-widgets/base",
            "_view_module_version": "1.2.0",
            "_view_name": "LayoutView",
            "align_content": null,
            "align_items": null,
            "align_self": null,
            "border": null,
            "bottom": null,
            "display": null,
            "flex": null,
            "flex_flow": null,
            "grid_area": null,
            "grid_auto_columns": null,
            "grid_auto_flow": null,
            "grid_auto_rows": null,
            "grid_column": null,
            "grid_gap": null,
            "grid_row": null,
            "grid_template_areas": null,
            "grid_template_columns": null,
            "grid_template_rows": null,
            "height": null,
            "justify_content": null,
            "justify_items": null,
            "left": null,
            "margin": null,
            "max_height": null,
            "max_width": null,
            "min_height": null,
            "min_width": null,
            "object_fit": null,
            "object_position": null,
            "order": null,
            "overflow": null,
            "overflow_x": null,
            "overflow_y": null,
            "padding": null,
            "right": null,
            "top": null,
            "visibility": null,
            "width": null
          }
        },
        "c0047268b94745a8b8010d06f9315199": {
          "model_module": "@jupyter-widgets/controls",
          "model_module_version": "1.5.0",
          "model_name": "ProgressStyleModel",
          "state": {
            "_model_module": "@jupyter-widgets/controls",
            "_model_module_version": "1.5.0",
            "_model_name": "ProgressStyleModel",
            "_view_count": null,
            "_view_module": "@jupyter-widgets/base",
            "_view_module_version": "1.2.0",
            "_view_name": "StyleView",
            "bar_color": null,
            "description_width": ""
          }
        },
        "c0d8e052762f4742a4589527fced5fd2": {
          "model_module": "@jupyter-widgets/controls",
          "model_module_version": "1.5.0",
          "model_name": "HBoxModel",
          "state": {
            "_dom_classes": [],
            "_model_module": "@jupyter-widgets/controls",
            "_model_module_version": "1.5.0",
            "_model_name": "HBoxModel",
            "_view_count": null,
            "_view_module": "@jupyter-widgets/controls",
            "_view_module_version": "1.5.0",
            "_view_name": "HBoxView",
            "box_style": "",
            "children": [
              "IPY_MODEL_6355e7df26a141b183bdfb7f8be79778",
              "IPY_MODEL_5a6db6d2bd9c4d5697041d3b6cfc2ed6",
              "IPY_MODEL_2c3112527ebd4790b5c9bc7fb84ff494"
            ],
            "layout": "IPY_MODEL_ce028da02fad43608ca2d68936a66129"
          }
        },
        "c0e46d7929e04a8e8c3d560cb1485981": {
          "model_module": "@jupyter-widgets/base",
          "model_module_version": "1.2.0",
          "model_name": "LayoutModel",
          "state": {
            "_model_module": "@jupyter-widgets/base",
            "_model_module_version": "1.2.0",
            "_model_name": "LayoutModel",
            "_view_count": null,
            "_view_module": "@jupyter-widgets/base",
            "_view_module_version": "1.2.0",
            "_view_name": "LayoutView",
            "align_content": null,
            "align_items": null,
            "align_self": null,
            "border": null,
            "bottom": null,
            "display": null,
            "flex": null,
            "flex_flow": null,
            "grid_area": null,
            "grid_auto_columns": null,
            "grid_auto_flow": null,
            "grid_auto_rows": null,
            "grid_column": null,
            "grid_gap": null,
            "grid_row": null,
            "grid_template_areas": null,
            "grid_template_columns": null,
            "grid_template_rows": null,
            "height": null,
            "justify_content": null,
            "justify_items": null,
            "left": null,
            "margin": null,
            "max_height": null,
            "max_width": null,
            "min_height": null,
            "min_width": null,
            "object_fit": null,
            "object_position": null,
            "order": null,
            "overflow": null,
            "overflow_x": null,
            "overflow_y": null,
            "padding": null,
            "right": null,
            "top": null,
            "visibility": null,
            "width": null
          }
        },
        "c34e2c86d1824caa8199a11ebec52daa": {
          "model_module": "@jupyter-widgets/controls",
          "model_module_version": "1.5.0",
          "model_name": "DescriptionStyleModel",
          "state": {
            "_model_module": "@jupyter-widgets/controls",
            "_model_module_version": "1.5.0",
            "_model_name": "DescriptionStyleModel",
            "_view_count": null,
            "_view_module": "@jupyter-widgets/base",
            "_view_module_version": "1.2.0",
            "_view_name": "StyleView",
            "description_width": ""
          }
        },
        "c46947850af147c297258dfa37a8e990": {
          "model_module": "@jupyter-widgets/controls",
          "model_module_version": "1.5.0",
          "model_name": "FloatProgressModel",
          "state": {
            "_dom_classes": [],
            "_model_module": "@jupyter-widgets/controls",
            "_model_module_version": "1.5.0",
            "_model_name": "FloatProgressModel",
            "_view_count": null,
            "_view_module": "@jupyter-widgets/controls",
            "_view_module_version": "1.5.0",
            "_view_name": "ProgressView",
            "bar_style": "success",
            "description": "",
            "description_tooltip": null,
            "layout": "IPY_MODEL_f15e0e1d2ccf4ba1b6f195d505704b4b",
            "max": 537,
            "min": 0,
            "orientation": "horizontal",
            "style": "IPY_MODEL_df024096252b45ffbad506e02423a772",
            "value": 537
          }
        },
        "c5d36f6ecdf74c66bcbbc35e6d95e158": {
          "model_module": "@jupyter-widgets/controls",
          "model_module_version": "1.5.0",
          "model_name": "ButtonStyleModel",
          "state": {
            "_model_module": "@jupyter-widgets/controls",
            "_model_module_version": "1.5.0",
            "_model_name": "ButtonStyleModel",
            "_view_count": null,
            "_view_module": "@jupyter-widgets/base",
            "_view_module_version": "1.2.0",
            "_view_name": "StyleView",
            "button_color": null,
            "font_weight": ""
          }
        },
        "c7c913d51ae441bc803bbdb370fa601d": {
          "model_module": "@jupyter-widgets/controls",
          "model_module_version": "1.5.0",
          "model_name": "DescriptionStyleModel",
          "state": {
            "_model_module": "@jupyter-widgets/controls",
            "_model_module_version": "1.5.0",
            "_model_name": "DescriptionStyleModel",
            "_view_count": null,
            "_view_module": "@jupyter-widgets/base",
            "_view_module_version": "1.2.0",
            "_view_name": "StyleView",
            "description_width": ""
          }
        },
        "cabac34aee7c4e24baa8d60ab7c18b15": {
          "model_module": "@jupyter-widgets/controls",
          "model_module_version": "1.5.0",
          "model_name": "HBoxModel",
          "state": {
            "_dom_classes": [],
            "_model_module": "@jupyter-widgets/controls",
            "_model_module_version": "1.5.0",
            "_model_name": "HBoxModel",
            "_view_count": null,
            "_view_module": "@jupyter-widgets/controls",
            "_view_module_version": "1.5.0",
            "_view_name": "HBoxView",
            "box_style": "",
            "children": [
              "IPY_MODEL_3c9f22c6d19d4c5788863a6b6a6536b7",
              "IPY_MODEL_fd5b4e87269c4e9fae2665270c852608",
              "IPY_MODEL_d2288a8848fd47ca847a68bdffdc539d"
            ],
            "layout": "IPY_MODEL_17ace2dfd3ee44e3bfa51bb222058218"
          }
        },
        "cb9cbb82b51f4aaa8c4dae757cf40bb0": {
          "model_module": "@jupyter-widgets/controls",
          "model_module_version": "1.5.0",
          "model_name": "HTMLModel",
          "state": {
            "_dom_classes": [],
            "_model_module": "@jupyter-widgets/controls",
            "_model_module_version": "1.5.0",
            "_model_name": "HTMLModel",
            "_view_count": null,
            "_view_module": "@jupyter-widgets/controls",
            "_view_module_version": "1.5.0",
            "_view_name": "HTMLView",
            "description": "",
            "description_tooltip": null,
            "layout": "IPY_MODEL_a552fcd1d88d4fa296e393e4029c5b6c",
            "placeholder": "​",
            "style": "IPY_MODEL_44a8e45d831f48eaa69feaf4befefb8d",
            "value": "100%"
          }
        },
        "ce028da02fad43608ca2d68936a66129": {
          "model_module": "@jupyter-widgets/base",
          "model_module_version": "1.2.0",
          "model_name": "LayoutModel",
          "state": {
            "_model_module": "@jupyter-widgets/base",
            "_model_module_version": "1.2.0",
            "_model_name": "LayoutModel",
            "_view_count": null,
            "_view_module": "@jupyter-widgets/base",
            "_view_module_version": "1.2.0",
            "_view_name": "LayoutView",
            "align_content": null,
            "align_items": null,
            "align_self": null,
            "border": null,
            "bottom": null,
            "display": null,
            "flex": null,
            "flex_flow": null,
            "grid_area": null,
            "grid_auto_columns": null,
            "grid_auto_flow": null,
            "grid_auto_rows": null,
            "grid_column": null,
            "grid_gap": null,
            "grid_row": null,
            "grid_template_areas": null,
            "grid_template_columns": null,
            "grid_template_rows": null,
            "height": null,
            "justify_content": null,
            "justify_items": null,
            "left": null,
            "margin": null,
            "max_height": null,
            "max_width": null,
            "min_height": null,
            "min_width": null,
            "object_fit": null,
            "object_position": null,
            "order": null,
            "overflow": null,
            "overflow_x": null,
            "overflow_y": null,
            "padding": null,
            "right": null,
            "top": null,
            "visibility": null,
            "width": null
          }
        },
        "cf3d208d38d54bab84eb70e3a3eb55b9": {
          "model_module": "@jupyter-widgets/controls",
          "model_module_version": "1.5.0",
          "model_name": "HBoxModel",
          "state": {
            "_dom_classes": [],
            "_model_module": "@jupyter-widgets/controls",
            "_model_module_version": "1.5.0",
            "_model_name": "HBoxModel",
            "_view_count": null,
            "_view_module": "@jupyter-widgets/controls",
            "_view_module_version": "1.5.0",
            "_view_name": "HBoxView",
            "box_style": "",
            "children": [
              "IPY_MODEL_d39174440c1e4eab9f1cc30f37d842a2",
              "IPY_MODEL_6dc6e284d28c4b0e8a2d03ea131f8932",
              "IPY_MODEL_80b36a70d1e74a378df6b041e4d6e5f3"
            ],
            "layout": "IPY_MODEL_70737184e655480aac5de70396511856"
          }
        },
        "d021e5ac9ba04aff94cc051b197ca9ca": {
          "model_module": "@jupyter-widgets/base",
          "model_module_version": "1.2.0",
          "model_name": "LayoutModel",
          "state": {
            "_model_module": "@jupyter-widgets/base",
            "_model_module_version": "1.2.0",
            "_model_name": "LayoutModel",
            "_view_count": null,
            "_view_module": "@jupyter-widgets/base",
            "_view_module_version": "1.2.0",
            "_view_name": "LayoutView",
            "align_content": null,
            "align_items": null,
            "align_self": null,
            "border": null,
            "bottom": null,
            "display": null,
            "flex": null,
            "flex_flow": null,
            "grid_area": null,
            "grid_auto_columns": null,
            "grid_auto_flow": null,
            "grid_auto_rows": null,
            "grid_column": null,
            "grid_gap": null,
            "grid_row": null,
            "grid_template_areas": null,
            "grid_template_columns": null,
            "grid_template_rows": null,
            "height": null,
            "justify_content": null,
            "justify_items": null,
            "left": null,
            "margin": null,
            "max_height": null,
            "max_width": null,
            "min_height": null,
            "min_width": null,
            "object_fit": null,
            "object_position": null,
            "order": null,
            "overflow": null,
            "overflow_x": null,
            "overflow_y": null,
            "padding": null,
            "right": null,
            "top": null,
            "visibility": null,
            "width": null
          }
        },
        "d2288a8848fd47ca847a68bdffdc539d": {
          "model_module": "@jupyter-widgets/controls",
          "model_module_version": "1.5.0",
          "model_name": "HTMLModel",
          "state": {
            "_dom_classes": [],
            "_model_module": "@jupyter-widgets/controls",
            "_model_module_version": "1.5.0",
            "_model_name": "HTMLModel",
            "_view_count": null,
            "_view_module": "@jupyter-widgets/controls",
            "_view_module_version": "1.5.0",
            "_view_name": "HTMLView",
            "description": "",
            "description_tooltip": null,
            "layout": "IPY_MODEL_60b70059b49642038f61159c9ca57d26",
            "placeholder": "​",
            "style": "IPY_MODEL_0d59de8d71ec4c5dbe46518c812547f9",
            "value": " 2.93G/2.93G [01:14&lt;00:00, 48.8MB/s]"
          }
        },
        "d39174440c1e4eab9f1cc30f37d842a2": {
          "model_module": "@jupyter-widgets/controls",
          "model_module_version": "1.5.0",
          "model_name": "HTMLModel",
          "state": {
            "_dom_classes": [],
            "_model_module": "@jupyter-widgets/controls",
            "_model_module_version": "1.5.0",
            "_model_name": "HTMLModel",
            "_view_count": null,
            "_view_module": "@jupyter-widgets/controls",
            "_view_module_version": "1.5.0",
            "_view_name": "HTMLView",
            "description": "",
            "description_tooltip": null,
            "layout": "IPY_MODEL_3666a69ed3a440708bd17a39a4d58df8",
            "placeholder": "​",
            "style": "IPY_MODEL_35df18a7f90f439c8d7907a12d49d9ce",
            "value": "Downloading (…)/main/tokenizer.json: 100%"
          }
        },
        "d3cdc1c9d2694be8bbfc572f562ec156": {
          "model_module": "@jupyter-widgets/controls",
          "model_module_version": "1.5.0",
          "model_name": "DescriptionStyleModel",
          "state": {
            "_model_module": "@jupyter-widgets/controls",
            "_model_module_version": "1.5.0",
            "_model_name": "DescriptionStyleModel",
            "_view_count": null,
            "_view_module": "@jupyter-widgets/base",
            "_view_module_version": "1.2.0",
            "_view_name": "StyleView",
            "description_width": ""
          }
        },
        "d46a4f177d204d6992e1caf3f9b32770": {
          "model_module": "@jupyter-widgets/base",
          "model_module_version": "1.2.0",
          "model_name": "LayoutModel",
          "state": {
            "_model_module": "@jupyter-widgets/base",
            "_model_module_version": "1.2.0",
            "_model_name": "LayoutModel",
            "_view_count": null,
            "_view_module": "@jupyter-widgets/base",
            "_view_module_version": "1.2.0",
            "_view_name": "LayoutView",
            "align_content": null,
            "align_items": null,
            "align_self": null,
            "border": null,
            "bottom": null,
            "display": null,
            "flex": null,
            "flex_flow": null,
            "grid_area": null,
            "grid_auto_columns": null,
            "grid_auto_flow": null,
            "grid_auto_rows": null,
            "grid_column": null,
            "grid_gap": null,
            "grid_row": null,
            "grid_template_areas": null,
            "grid_template_columns": null,
            "grid_template_rows": null,
            "height": null,
            "justify_content": null,
            "justify_items": null,
            "left": null,
            "margin": null,
            "max_height": null,
            "max_width": null,
            "min_height": null,
            "min_width": null,
            "object_fit": null,
            "object_position": null,
            "order": null,
            "overflow": null,
            "overflow_x": null,
            "overflow_y": null,
            "padding": null,
            "right": null,
            "top": null,
            "visibility": null,
            "width": null
          }
        },
        "d5be392889664f99820954f3ee6bcc07": {
          "model_module": "@jupyter-widgets/base",
          "model_module_version": "1.2.0",
          "model_name": "LayoutModel",
          "state": {
            "_model_module": "@jupyter-widgets/base",
            "_model_module_version": "1.2.0",
            "_model_name": "LayoutModel",
            "_view_count": null,
            "_view_module": "@jupyter-widgets/base",
            "_view_module_version": "1.2.0",
            "_view_name": "LayoutView",
            "align_content": null,
            "align_items": null,
            "align_self": null,
            "border": null,
            "bottom": null,
            "display": null,
            "flex": null,
            "flex_flow": null,
            "grid_area": null,
            "grid_auto_columns": null,
            "grid_auto_flow": null,
            "grid_auto_rows": null,
            "grid_column": null,
            "grid_gap": null,
            "grid_row": null,
            "grid_template_areas": null,
            "grid_template_columns": null,
            "grid_template_rows": null,
            "height": null,
            "justify_content": null,
            "justify_items": null,
            "left": null,
            "margin": null,
            "max_height": null,
            "max_width": null,
            "min_height": null,
            "min_width": null,
            "object_fit": null,
            "object_position": null,
            "order": null,
            "overflow": null,
            "overflow_x": null,
            "overflow_y": null,
            "padding": null,
            "right": null,
            "top": null,
            "visibility": null,
            "width": null
          }
        },
        "d7be1c3d99ab489fa3d5973963f26293": {
          "model_module": "@jupyter-widgets/controls",
          "model_module_version": "1.5.0",
          "model_name": "HTMLModel",
          "state": {
            "_dom_classes": [],
            "_model_module": "@jupyter-widgets/controls",
            "_model_module_version": "1.5.0",
            "_model_name": "HTMLModel",
            "_view_count": null,
            "_view_module": "@jupyter-widgets/controls",
            "_view_module_version": "1.5.0",
            "_view_name": "HTMLView",
            "description": "",
            "description_tooltip": null,
            "layout": "IPY_MODEL_f7121b27df404d4b931d4155b4f3bf2b",
            "placeholder": "​",
            "style": "IPY_MODEL_683d988be8f543b686c7925a41e6db41",
            "value": "100%"
          }
        },
        "d805a7ad25b444e9ad623b367f86617c": {
          "model_module": "@jupyter-widgets/controls",
          "model_module_version": "1.5.0",
          "model_name": "ProgressStyleModel",
          "state": {
            "_model_module": "@jupyter-widgets/controls",
            "_model_module_version": "1.5.0",
            "_model_name": "ProgressStyleModel",
            "_view_count": null,
            "_view_module": "@jupyter-widgets/base",
            "_view_module_version": "1.2.0",
            "_view_name": "StyleView",
            "bar_color": null,
            "description_width": ""
          }
        },
        "d844fcad02e4431f9ff9c83c81128764": {
          "model_module": "@jupyter-widgets/base",
          "model_module_version": "1.2.0",
          "model_name": "LayoutModel",
          "state": {
            "_model_module": "@jupyter-widgets/base",
            "_model_module_version": "1.2.0",
            "_model_name": "LayoutModel",
            "_view_count": null,
            "_view_module": "@jupyter-widgets/base",
            "_view_module_version": "1.2.0",
            "_view_name": "LayoutView",
            "align_content": null,
            "align_items": null,
            "align_self": null,
            "border": null,
            "bottom": null,
            "display": null,
            "flex": null,
            "flex_flow": null,
            "grid_area": null,
            "grid_auto_columns": null,
            "grid_auto_flow": null,
            "grid_auto_rows": null,
            "grid_column": null,
            "grid_gap": null,
            "grid_row": null,
            "grid_template_areas": null,
            "grid_template_columns": null,
            "grid_template_rows": null,
            "height": null,
            "justify_content": null,
            "justify_items": null,
            "left": null,
            "margin": null,
            "max_height": null,
            "max_width": null,
            "min_height": null,
            "min_width": null,
            "object_fit": null,
            "object_position": null,
            "order": null,
            "overflow": null,
            "overflow_x": null,
            "overflow_y": null,
            "padding": null,
            "right": null,
            "top": null,
            "visibility": null,
            "width": null
          }
        },
        "dae3844e4998458298afb261a23c6918": {
          "model_module": "@jupyter-widgets/controls",
          "model_module_version": "1.5.0",
          "model_name": "HTMLModel",
          "state": {
            "_dom_classes": [],
            "_model_module": "@jupyter-widgets/controls",
            "_model_module_version": "1.5.0",
            "_model_name": "HTMLModel",
            "_view_count": null,
            "_view_module": "@jupyter-widgets/controls",
            "_view_module_version": "1.5.0",
            "_view_name": "HTMLView",
            "description": "",
            "description_tooltip": null,
            "layout": "IPY_MODEL_d021e5ac9ba04aff94cc051b197ca9ca",
            "placeholder": "​",
            "style": "IPY_MODEL_02100bf0396a48b8a89ea3de4928a4c4",
            "value": " 360/360 [00:43&lt;00:00,  8.48it/s]"
          }
        },
        "dd019ab1c90d43cd8829505e7bc4d632": {
          "model_module": "@jupyter-widgets/controls",
          "model_module_version": "1.5.0",
          "model_name": "HTMLModel",
          "state": {
            "_dom_classes": [],
            "_model_module": "@jupyter-widgets/controls",
            "_model_module_version": "1.5.0",
            "_model_name": "HTMLModel",
            "_view_count": null,
            "_view_module": "@jupyter-widgets/controls",
            "_view_module_version": "1.5.0",
            "_view_name": "HTMLView",
            "description": "",
            "description_tooltip": null,
            "layout": "IPY_MODEL_0b308524d6f14ea192166d1ba1e7a809",
            "placeholder": "​",
            "style": "IPY_MODEL_f64577bcbc6b4015a89c00c1caf7092b",
            "value": "Downloading (…)okenizer_config.json: 100%"
          }
        },
        "df024096252b45ffbad506e02423a772": {
          "model_module": "@jupyter-widgets/controls",
          "model_module_version": "1.5.0",
          "model_name": "ProgressStyleModel",
          "state": {
            "_model_module": "@jupyter-widgets/controls",
            "_model_module_version": "1.5.0",
            "_model_name": "ProgressStyleModel",
            "_view_count": null,
            "_view_module": "@jupyter-widgets/base",
            "_view_module_version": "1.2.0",
            "_view_name": "StyleView",
            "bar_color": null,
            "description_width": ""
          }
        },
        "df9ccf7fb6b149b6b13a81116f0623e9": {
          "model_module": "@jupyter-widgets/base",
          "model_module_version": "1.2.0",
          "model_name": "LayoutModel",
          "state": {
            "_model_module": "@jupyter-widgets/base",
            "_model_module_version": "1.2.0",
            "_model_name": "LayoutModel",
            "_view_count": null,
            "_view_module": "@jupyter-widgets/base",
            "_view_module_version": "1.2.0",
            "_view_name": "LayoutView",
            "align_content": null,
            "align_items": null,
            "align_self": null,
            "border": null,
            "bottom": null,
            "display": null,
            "flex": null,
            "flex_flow": null,
            "grid_area": null,
            "grid_auto_columns": null,
            "grid_auto_flow": null,
            "grid_auto_rows": null,
            "grid_column": null,
            "grid_gap": null,
            "grid_row": null,
            "grid_template_areas": null,
            "grid_template_columns": null,
            "grid_template_rows": null,
            "height": null,
            "justify_content": null,
            "justify_items": null,
            "left": null,
            "margin": null,
            "max_height": null,
            "max_width": null,
            "min_height": null,
            "min_width": null,
            "object_fit": null,
            "object_position": null,
            "order": null,
            "overflow": null,
            "overflow_x": null,
            "overflow_y": null,
            "padding": null,
            "right": null,
            "top": null,
            "visibility": null,
            "width": null
          }
        },
        "e06766789c1f4ebb8b1783e721726b20": {
          "model_module": "@jupyter-widgets/controls",
          "model_module_version": "1.5.0",
          "model_name": "DescriptionStyleModel",
          "state": {
            "_model_module": "@jupyter-widgets/controls",
            "_model_module_version": "1.5.0",
            "_model_name": "DescriptionStyleModel",
            "_view_count": null,
            "_view_module": "@jupyter-widgets/base",
            "_view_module_version": "1.2.0",
            "_view_name": "StyleView",
            "description_width": ""
          }
        },
        "e31dc26af5124e27b831b83c8d78e37d": {
          "model_module": "@jupyter-widgets/controls",
          "model_module_version": "1.5.0",
          "model_name": "DescriptionStyleModel",
          "state": {
            "_model_module": "@jupyter-widgets/controls",
            "_model_module_version": "1.5.0",
            "_model_name": "DescriptionStyleModel",
            "_view_count": null,
            "_view_module": "@jupyter-widgets/base",
            "_view_module_version": "1.2.0",
            "_view_name": "StyleView",
            "description_width": ""
          }
        },
        "e39919bc2f864f57abc72184365887ec": {
          "model_module": "@jupyter-widgets/controls",
          "model_module_version": "1.5.0",
          "model_name": "DescriptionStyleModel",
          "state": {
            "_model_module": "@jupyter-widgets/controls",
            "_model_module_version": "1.5.0",
            "_model_name": "DescriptionStyleModel",
            "_view_count": null,
            "_view_module": "@jupyter-widgets/base",
            "_view_module_version": "1.2.0",
            "_view_name": "StyleView",
            "description_width": ""
          }
        },
        "e5eb50b389a24415871a97a1621b2711": {
          "model_module": "@jupyter-widgets/controls",
          "model_module_version": "1.5.0",
          "model_name": "FloatProgressModel",
          "state": {
            "_dom_classes": [],
            "_model_module": "@jupyter-widgets/controls",
            "_model_module_version": "1.5.0",
            "_model_name": "FloatProgressModel",
            "_view_count": null,
            "_view_module": "@jupyter-widgets/controls",
            "_view_module_version": "1.5.0",
            "_view_name": "ProgressView",
            "bar_style": "success",
            "description": "",
            "description_tooltip": null,
            "layout": "IPY_MODEL_15b33dd1239d4df8a9ca7c418047b22d",
            "max": 394,
            "min": 0,
            "orientation": "horizontal",
            "style": "IPY_MODEL_0d25db27700e4de989f1a5c3587a3a4a",
            "value": 394
          }
        },
        "e618111b331e480a85044fd486dd8161": {
          "model_module": "@jupyter-widgets/controls",
          "model_module_version": "1.5.0",
          "model_name": "DescriptionStyleModel",
          "state": {
            "_model_module": "@jupyter-widgets/controls",
            "_model_module_version": "1.5.0",
            "_model_name": "DescriptionStyleModel",
            "_view_count": null,
            "_view_module": "@jupyter-widgets/base",
            "_view_module_version": "1.2.0",
            "_view_name": "StyleView",
            "description_width": ""
          }
        },
        "e7a6e1ecbe2f4706907cfade6010b251": {
          "model_module": "@jupyter-widgets/base",
          "model_module_version": "1.2.0",
          "model_name": "LayoutModel",
          "state": {
            "_model_module": "@jupyter-widgets/base",
            "_model_module_version": "1.2.0",
            "_model_name": "LayoutModel",
            "_view_count": null,
            "_view_module": "@jupyter-widgets/base",
            "_view_module_version": "1.2.0",
            "_view_name": "LayoutView",
            "align_content": null,
            "align_items": null,
            "align_self": null,
            "border": null,
            "bottom": null,
            "display": null,
            "flex": null,
            "flex_flow": null,
            "grid_area": null,
            "grid_auto_columns": null,
            "grid_auto_flow": null,
            "grid_auto_rows": null,
            "grid_column": null,
            "grid_gap": null,
            "grid_row": null,
            "grid_template_areas": null,
            "grid_template_columns": null,
            "grid_template_rows": null,
            "height": null,
            "justify_content": null,
            "justify_items": null,
            "left": null,
            "margin": null,
            "max_height": null,
            "max_width": null,
            "min_height": null,
            "min_width": null,
            "object_fit": null,
            "object_position": null,
            "order": null,
            "overflow": null,
            "overflow_x": null,
            "overflow_y": null,
            "padding": null,
            "right": null,
            "top": null,
            "visibility": null,
            "width": null
          }
        },
        "eaa96b03fde14c8298310984e35dfda6": {
          "model_module": "@jupyter-widgets/controls",
          "model_module_version": "1.5.0",
          "model_name": "ProgressStyleModel",
          "state": {
            "_model_module": "@jupyter-widgets/controls",
            "_model_module_version": "1.5.0",
            "_model_name": "ProgressStyleModel",
            "_view_count": null,
            "_view_module": "@jupyter-widgets/base",
            "_view_module_version": "1.2.0",
            "_view_name": "StyleView",
            "bar_color": null,
            "description_width": ""
          }
        },
        "eafc431d96604c18b88cc82cedb7dd07": {
          "model_module": "@jupyter-widgets/controls",
          "model_module_version": "1.5.0",
          "model_name": "DescriptionStyleModel",
          "state": {
            "_model_module": "@jupyter-widgets/controls",
            "_model_module_version": "1.5.0",
            "_model_name": "DescriptionStyleModel",
            "_view_count": null,
            "_view_module": "@jupyter-widgets/base",
            "_view_module_version": "1.2.0",
            "_view_name": "StyleView",
            "description_width": ""
          }
        },
        "ebd0bdddf8f147ef8e9ddddb9adee2bf": {
          "model_module": "@jupyter-widgets/base",
          "model_module_version": "1.2.0",
          "model_name": "LayoutModel",
          "state": {
            "_model_module": "@jupyter-widgets/base",
            "_model_module_version": "1.2.0",
            "_model_name": "LayoutModel",
            "_view_count": null,
            "_view_module": "@jupyter-widgets/base",
            "_view_module_version": "1.2.0",
            "_view_name": "LayoutView",
            "align_content": null,
            "align_items": null,
            "align_self": null,
            "border": null,
            "bottom": null,
            "display": null,
            "flex": null,
            "flex_flow": null,
            "grid_area": null,
            "grid_auto_columns": null,
            "grid_auto_flow": null,
            "grid_auto_rows": null,
            "grid_column": null,
            "grid_gap": null,
            "grid_row": null,
            "grid_template_areas": null,
            "grid_template_columns": null,
            "grid_template_rows": null,
            "height": null,
            "justify_content": null,
            "justify_items": null,
            "left": null,
            "margin": null,
            "max_height": null,
            "max_width": null,
            "min_height": null,
            "min_width": null,
            "object_fit": null,
            "object_position": null,
            "order": null,
            "overflow": null,
            "overflow_x": null,
            "overflow_y": null,
            "padding": null,
            "right": null,
            "top": null,
            "visibility": null,
            "width": null
          }
        },
        "ec4df465b40d466698270d2abb71fdef": {
          "model_module": "@jupyter-widgets/controls",
          "model_module_version": "1.5.0",
          "model_name": "DescriptionStyleModel",
          "state": {
            "_model_module": "@jupyter-widgets/controls",
            "_model_module_version": "1.5.0",
            "_model_name": "DescriptionStyleModel",
            "_view_count": null,
            "_view_module": "@jupyter-widgets/base",
            "_view_module_version": "1.2.0",
            "_view_name": "StyleView",
            "description_width": ""
          }
        },
        "ed46d385f1b04cecac5195ef56a4d3ee": {
          "model_module": "@jupyter-widgets/controls",
          "model_module_version": "1.5.0",
          "model_name": "DescriptionStyleModel",
          "state": {
            "_model_module": "@jupyter-widgets/controls",
            "_model_module_version": "1.5.0",
            "_model_name": "DescriptionStyleModel",
            "_view_count": null,
            "_view_module": "@jupyter-widgets/base",
            "_view_module_version": "1.2.0",
            "_view_name": "StyleView",
            "description_width": ""
          }
        },
        "ef909da19f6f4036adc219565d29ba34": {
          "model_module": "@jupyter-widgets/controls",
          "model_module_version": "1.5.0",
          "model_name": "DescriptionStyleModel",
          "state": {
            "_model_module": "@jupyter-widgets/controls",
            "_model_module_version": "1.5.0",
            "_model_name": "DescriptionStyleModel",
            "_view_count": null,
            "_view_module": "@jupyter-widgets/base",
            "_view_module_version": "1.2.0",
            "_view_name": "StyleView",
            "description_width": ""
          }
        },
        "f15e0e1d2ccf4ba1b6f195d505704b4b": {
          "model_module": "@jupyter-widgets/base",
          "model_module_version": "1.2.0",
          "model_name": "LayoutModel",
          "state": {
            "_model_module": "@jupyter-widgets/base",
            "_model_module_version": "1.2.0",
            "_model_name": "LayoutModel",
            "_view_count": null,
            "_view_module": "@jupyter-widgets/base",
            "_view_module_version": "1.2.0",
            "_view_name": "LayoutView",
            "align_content": null,
            "align_items": null,
            "align_self": null,
            "border": null,
            "bottom": null,
            "display": null,
            "flex": null,
            "flex_flow": null,
            "grid_area": null,
            "grid_auto_columns": null,
            "grid_auto_flow": null,
            "grid_auto_rows": null,
            "grid_column": null,
            "grid_gap": null,
            "grid_row": null,
            "grid_template_areas": null,
            "grid_template_columns": null,
            "grid_template_rows": null,
            "height": null,
            "justify_content": null,
            "justify_items": null,
            "left": null,
            "margin": null,
            "max_height": null,
            "max_width": null,
            "min_height": null,
            "min_width": null,
            "object_fit": null,
            "object_position": null,
            "order": null,
            "overflow": null,
            "overflow_x": null,
            "overflow_y": null,
            "padding": null,
            "right": null,
            "top": null,
            "visibility": null,
            "width": null
          }
        },
        "f1a98c62fa2d4a07bc04aa02325419c7": {
          "model_module": "@jupyter-widgets/controls",
          "model_module_version": "1.5.0",
          "model_name": "HBoxModel",
          "state": {
            "_dom_classes": [],
            "_model_module": "@jupyter-widgets/controls",
            "_model_module_version": "1.5.0",
            "_model_name": "HBoxModel",
            "_view_count": null,
            "_view_module": "@jupyter-widgets/controls",
            "_view_module_version": "1.5.0",
            "_view_name": "HBoxView",
            "box_style": "",
            "children": [
              "IPY_MODEL_3086ffa9332442c7a31f7910fe07d68d",
              "IPY_MODEL_2670132a6fe9405fa8fa76173fba926b",
              "IPY_MODEL_036142f42e2d41c59676d31416eafc05"
            ],
            "layout": "IPY_MODEL_bf955d6faede41d2994eb0fcff816f8a"
          }
        },
        "f57d5ea194a14665bf3100d6713a5b95": {
          "model_module": "@jupyter-widgets/controls",
          "model_module_version": "1.5.0",
          "model_name": "DescriptionStyleModel",
          "state": {
            "_model_module": "@jupyter-widgets/controls",
            "_model_module_version": "1.5.0",
            "_model_name": "DescriptionStyleModel",
            "_view_count": null,
            "_view_module": "@jupyter-widgets/base",
            "_view_module_version": "1.2.0",
            "_view_name": "StyleView",
            "description_width": ""
          }
        },
        "f5af9ae7664d4b27a9c52930c9e927f4": {
          "model_module": "@jupyter-widgets/controls",
          "model_module_version": "1.5.0",
          "model_name": "ProgressStyleModel",
          "state": {
            "_model_module": "@jupyter-widgets/controls",
            "_model_module_version": "1.5.0",
            "_model_name": "ProgressStyleModel",
            "_view_count": null,
            "_view_module": "@jupyter-widgets/base",
            "_view_module_version": "1.2.0",
            "_view_name": "StyleView",
            "bar_color": null,
            "description_width": ""
          }
        },
        "f64577bcbc6b4015a89c00c1caf7092b": {
          "model_module": "@jupyter-widgets/controls",
          "model_module_version": "1.5.0",
          "model_name": "DescriptionStyleModel",
          "state": {
            "_model_module": "@jupyter-widgets/controls",
            "_model_module_version": "1.5.0",
            "_model_name": "DescriptionStyleModel",
            "_view_count": null,
            "_view_module": "@jupyter-widgets/base",
            "_view_module_version": "1.2.0",
            "_view_name": "StyleView",
            "description_width": ""
          }
        },
        "f66cf96287a343b58e54a9566243cf81": {
          "model_module": "@jupyter-widgets/controls",
          "model_module_version": "1.5.0",
          "model_name": "HBoxModel",
          "state": {
            "_dom_classes": [],
            "_model_module": "@jupyter-widgets/controls",
            "_model_module_version": "1.5.0",
            "_model_name": "HBoxModel",
            "_view_count": null,
            "_view_module": "@jupyter-widgets/controls",
            "_view_module_version": "1.5.0",
            "_view_name": "HBoxView",
            "box_style": "",
            "children": [
              "IPY_MODEL_d7be1c3d99ab489fa3d5973963f26293",
              "IPY_MODEL_0736a66395f74d03864b10d7adf49050",
              "IPY_MODEL_40221efc4a0c4f719dc27961687d197f"
            ],
            "layout": "IPY_MODEL_6258b16f96554ba1b1ad4f4a088b21fe"
          }
        },
        "f7121b27df404d4b931d4155b4f3bf2b": {
          "model_module": "@jupyter-widgets/base",
          "model_module_version": "1.2.0",
          "model_name": "LayoutModel",
          "state": {
            "_model_module": "@jupyter-widgets/base",
            "_model_module_version": "1.2.0",
            "_model_name": "LayoutModel",
            "_view_count": null,
            "_view_module": "@jupyter-widgets/base",
            "_view_module_version": "1.2.0",
            "_view_name": "LayoutView",
            "align_content": null,
            "align_items": null,
            "align_self": null,
            "border": null,
            "bottom": null,
            "display": null,
            "flex": null,
            "flex_flow": null,
            "grid_area": null,
            "grid_auto_columns": null,
            "grid_auto_flow": null,
            "grid_auto_rows": null,
            "grid_column": null,
            "grid_gap": null,
            "grid_row": null,
            "grid_template_areas": null,
            "grid_template_columns": null,
            "grid_template_rows": null,
            "height": null,
            "justify_content": null,
            "justify_items": null,
            "left": null,
            "margin": null,
            "max_height": null,
            "max_width": null,
            "min_height": null,
            "min_width": null,
            "object_fit": null,
            "object_position": null,
            "order": null,
            "overflow": null,
            "overflow_x": null,
            "overflow_y": null,
            "padding": null,
            "right": null,
            "top": null,
            "visibility": null,
            "width": null
          }
        },
        "f9693739d17f4c98a43cc7d033fa2cb8": {
          "model_module": "@jupyter-widgets/controls",
          "model_module_version": "1.5.0",
          "model_name": "VBoxModel",
          "state": {
            "_dom_classes": [],
            "_model_module": "@jupyter-widgets/controls",
            "_model_module_version": "1.5.0",
            "_model_name": "VBoxModel",
            "_view_count": null,
            "_view_module": "@jupyter-widgets/controls",
            "_view_module_version": "1.5.0",
            "_view_name": "VBoxView",
            "box_style": "",
            "children": [
              "IPY_MODEL_44d721d6d70240d9b8bf0205acac7dc3",
              "IPY_MODEL_05b59010ed974dd986a86839101ce3ea",
              "IPY_MODEL_9ce916a5e41545049f12c2e3759351ff",
              "IPY_MODEL_0d0d3e1a342f4d5ab798daefed787fce",
              "IPY_MODEL_b1ceea8cba174c48aa7135fc999a3e69"
            ],
            "layout": "IPY_MODEL_5a6d7211614f4445af664dd76dcf9975"
          }
        },
        "fb59d991bb07409b92c371a955ebf82e": {
          "model_module": "@jupyter-widgets/base",
          "model_module_version": "1.2.0",
          "model_name": "LayoutModel",
          "state": {
            "_model_module": "@jupyter-widgets/base",
            "_model_module_version": "1.2.0",
            "_model_name": "LayoutModel",
            "_view_count": null,
            "_view_module": "@jupyter-widgets/base",
            "_view_module_version": "1.2.0",
            "_view_name": "LayoutView",
            "align_content": null,
            "align_items": null,
            "align_self": null,
            "border": null,
            "bottom": null,
            "display": null,
            "flex": null,
            "flex_flow": null,
            "grid_area": null,
            "grid_auto_columns": null,
            "grid_auto_flow": null,
            "grid_auto_rows": null,
            "grid_column": null,
            "grid_gap": null,
            "grid_row": null,
            "grid_template_areas": null,
            "grid_template_columns": null,
            "grid_template_rows": null,
            "height": null,
            "justify_content": null,
            "justify_items": null,
            "left": null,
            "margin": null,
            "max_height": null,
            "max_width": null,
            "min_height": null,
            "min_width": null,
            "object_fit": null,
            "object_position": null,
            "order": null,
            "overflow": null,
            "overflow_x": null,
            "overflow_y": null,
            "padding": null,
            "right": null,
            "top": null,
            "visibility": null,
            "width": null
          }
        },
        "fd5b4e87269c4e9fae2665270c852608": {
          "model_module": "@jupyter-widgets/controls",
          "model_module_version": "1.5.0",
          "model_name": "FloatProgressModel",
          "state": {
            "_dom_classes": [],
            "_model_module": "@jupyter-widgets/controls",
            "_model_module_version": "1.5.0",
            "_model_name": "FloatProgressModel",
            "_view_count": null,
            "_view_module": "@jupyter-widgets/controls",
            "_view_module_version": "1.5.0",
            "_view_name": "ProgressView",
            "bar_style": "success",
            "description": "",
            "description_tooltip": null,
            "layout": "IPY_MODEL_afc20fbbf71340a39d7eeb6563dc733a",
            "max": 2930076797,
            "min": 0,
            "orientation": "horizontal",
            "style": "IPY_MODEL_0566aeabf61c4380933dd30d5b401e49",
            "value": 2930076797
          }
        },
        "fffaff2fb61446a5b900e35345b2b5eb": {
          "model_module": "@jupyter-widgets/controls",
          "model_module_version": "1.5.0",
          "model_name": "DescriptionStyleModel",
          "state": {
            "_model_module": "@jupyter-widgets/controls",
            "_model_module_version": "1.5.0",
            "_model_name": "DescriptionStyleModel",
            "_view_count": null,
            "_view_module": "@jupyter-widgets/base",
            "_view_module_version": "1.2.0",
            "_view_name": "StyleView",
            "description_width": ""
          }
        }
      }
    }
  },
  "nbformat": 4,
  "nbformat_minor": 0
}
