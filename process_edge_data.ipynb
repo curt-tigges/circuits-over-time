{
 "cells": [
  {
   "cell_type": "code",
   "execution_count": 4,
   "metadata": {},
   "outputs": [],
   "source": [
    "import os\n",
    "import json\n",
    "import glob\n",
    "import torch\n",
    "import re\n",
    "import pandas as pd\n",
    "import plotly.express as px\n",
    "import plotly.graph_objects as go\n",
    "import plotly.io as pio\n",
    "#import seaborn as sns\n",
    "import matplotlib.pyplot as plt\n",
    "from edge_attribution_patching.graph import Graph\n",
    "from utils.data_processing import (\n",
    "    load_edge_scores_into_dictionary,\n",
    "    get_ckpts,\n",
    "    load_metrics,\n",
    "    compute_ged,\n",
    "    compute_weighted_ged,\n",
    "    compute_gtd,\n",
    "    compute_jaccard_similarity_to_reference,\n",
    "    compute_jaccard_similarity\n",
    ")"
   ]
  },
  {
   "cell_type": "code",
   "execution_count": 5,
   "metadata": {},
   "outputs": [
    {
     "name": "stdout",
     "output_type": "stream",
     "text": [
      "Processing file 1/44: results/graphs/pythia-160m/ioi/6000.json\n",
      "Processing file 2/44: results/graphs/pythia-160m/ioi/16.json\n",
      "Processing file 3/44: results/graphs/pythia-160m/ioi/1.json\n",
      "Processing file 4/44: results/graphs/pythia-160m/ioi/5000.json\n",
      "Processing file 5/44: results/graphs/pythia-160m/ioi/80000.json\n",
      "Processing file 6/44: results/graphs/pythia-160m/ioi/8000.json\n",
      "Processing file 7/44: results/graphs/pythia-160m/ioi/120000.json\n",
      "Processing file 8/44: results/graphs/pythia-160m/ioi/70000.json\n",
      "Processing file 9/44: results/graphs/pythia-160m/ioi/2000.json\n",
      "Processing file 10/44: results/graphs/pythia-160m/ioi/143000.json\n",
      "Processing file 11/44: results/graphs/pythia-160m/ioi/10000.json\n",
      "Processing file 12/44: results/graphs/pythia-160m/ioi/65000.json\n",
      "Processing file 13/44: results/graphs/pythia-160m/ioi/60000.json\n",
      "Processing file 14/44: results/graphs/pythia-160m/ioi/90000.json\n",
      "Processing file 15/44: results/graphs/pythia-160m/ioi/1000.json\n",
      "Processing file 16/44: results/graphs/pythia-160m/ioi/35000.json\n",
      "Processing file 17/44: results/graphs/pythia-160m/ioi/4.json\n",
      "Processing file 18/44: results/graphs/pythia-160m/ioi/55000.json\n",
      "Processing file 19/44: results/graphs/pythia-160m/ioi/130000.json\n",
      "Processing file 20/44: results/graphs/pythia-160m/ioi/13000.json\n",
      "Processing file 21/44: results/graphs/pythia-160m/ioi/32.json\n",
      "Processing file 22/44: results/graphs/pythia-160m/ioi/128.json\n",
      "Processing file 23/44: results/graphs/pythia-160m/ioi/100000.json\n",
      "Processing file 24/44: results/graphs/pythia-160m/ioi/30000.json\n",
      "Processing file 25/44: results/graphs/pythia-160m/ioi/2.json\n",
      "Processing file 26/44: results/graphs/pythia-160m/ioi/140000.json\n",
      "Processing file 27/44: results/graphs/pythia-160m/ioi/9000.json\n",
      "Processing file 28/44: results/graphs/pythia-160m/ioi/110000.json\n",
      "Processing file 29/44: results/graphs/pythia-160m/ioi/3000.json\n",
      "Processing file 30/44: results/graphs/pythia-160m/ioi/40000.json\n",
      "Processing file 31/44: results/graphs/pythia-160m/ioi/8.json\n",
      "Processing file 32/44: results/graphs/pythia-160m/ioi/11000.json\n",
      "Processing file 33/44: results/graphs/pythia-160m/ioi/45000.json\n",
      "Processing file 34/44: results/graphs/pythia-160m/ioi/50000.json\n",
      "Processing file 35/44: results/graphs/pythia-160m/ioi/64.json\n",
      "Processing file 36/44: results/graphs/pythia-160m/ioi/14000.json\n",
      "Processing file 37/44: results/graphs/pythia-160m/ioi/12000.json\n",
      "Processing file 38/44: results/graphs/pythia-160m/ioi/256.json\n",
      "Processing file 39/44: results/graphs/pythia-160m/ioi/15000.json\n",
      "Processing file 40/44: results/graphs/pythia-160m/ioi/7000.json\n",
      "Processing file 41/44: results/graphs/pythia-160m/ioi/512.json\n",
      "Processing file 42/44: results/graphs/pythia-160m/ioi/25000.json\n",
      "Processing file 43/44: results/graphs/pythia-160m/ioi/4000.json\n",
      "Processing file 44/44: results/graphs/pythia-160m/ioi/20000.json\n"
     ]
    }
   ],
   "source": [
    "folder_path = 'results/graphs/pythia-160m/ioi'\n",
    "df = load_edge_scores_into_dictionary(folder_path)"
   ]
  },
  {
   "cell_type": "code",
   "execution_count": 6,
   "metadata": {},
   "outputs": [
    {
     "data": {
      "text/html": [
       "<div>\n",
       "<style scoped>\n",
       "    .dataframe tbody tr th:only-of-type {\n",
       "        vertical-align: middle;\n",
       "    }\n",
       "\n",
       "    .dataframe tbody tr th {\n",
       "        vertical-align: top;\n",
       "    }\n",
       "\n",
       "    .dataframe thead th {\n",
       "        text-align: right;\n",
       "    }\n",
       "</style>\n",
       "<table border=\"1\" class=\"dataframe\">\n",
       "  <thead>\n",
       "    <tr style=\"text-align: right;\">\n",
       "      <th></th>\n",
       "      <th>edge</th>\n",
       "      <th>score</th>\n",
       "      <th>in_circuit</th>\n",
       "      <th>checkpoint</th>\n",
       "    </tr>\n",
       "  </thead>\n",
       "  <tbody>\n",
       "    <tr>\n",
       "      <th>32346</th>\n",
       "      <td>m11-&gt;logits</td>\n",
       "      <td>-4.589558e-06</td>\n",
       "      <td>False</td>\n",
       "      <td>1</td>\n",
       "    </tr>\n",
       "    <tr>\n",
       "      <th>10773</th>\n",
       "      <td>a0.h10-&gt;a7.h2&lt;q&gt;</td>\n",
       "      <td>-1.909211e-07</td>\n",
       "      <td>False</td>\n",
       "      <td>1</td>\n",
       "    </tr>\n",
       "    <tr>\n",
       "      <th>10774</th>\n",
       "      <td>a0.h10-&gt;a7.h2&lt;k&gt;</td>\n",
       "      <td>5.867332e-08</td>\n",
       "      <td>False</td>\n",
       "      <td>1</td>\n",
       "    </tr>\n",
       "    <tr>\n",
       "      <th>10775</th>\n",
       "      <td>a0.h10-&gt;a7.h2&lt;v&gt;</td>\n",
       "      <td>-8.605421e-07</td>\n",
       "      <td>False</td>\n",
       "      <td>1</td>\n",
       "    </tr>\n",
       "    <tr>\n",
       "      <th>10776</th>\n",
       "      <td>a0.h10-&gt;a7.h3&lt;q&gt;</td>\n",
       "      <td>6.984919e-08</td>\n",
       "      <td>False</td>\n",
       "      <td>1</td>\n",
       "    </tr>\n",
       "  </tbody>\n",
       "</table>\n",
       "</div>"
      ],
      "text/plain": [
       "                   edge         score  in_circuit  checkpoint\n",
       "32346       m11->logits -4.589558e-06       False           1\n",
       "10773  a0.h10->a7.h2<q> -1.909211e-07       False           1\n",
       "10774  a0.h10->a7.h2<k>  5.867332e-08       False           1\n",
       "10775  a0.h10->a7.h2<v> -8.605421e-07       False           1\n",
       "10776  a0.h10->a7.h3<q>  6.984919e-08       False           1"
      ]
     },
     "execution_count": 6,
     "metadata": {},
     "output_type": "execute_result"
    }
   ],
   "source": [
    "df.head()"
   ]
  },
  {
   "cell_type": "code",
   "execution_count": null,
   "metadata": {},
   "outputs": [],
   "source": [
    "%cd "
   ]
  }
 ],
 "metadata": {
  "kernelspec": {
   "display_name": "Python 3 (ipykernel)",
   "language": "python",
   "name": "python3"
  },
  "language_info": {
   "codemirror_mode": {
    "name": "ipython",
    "version": 3
   },
   "file_extension": ".py",
   "mimetype": "text/x-python",
   "name": "python",
   "nbconvert_exporter": "python",
   "pygments_lexer": "ipython3",
   "version": "3.10.13"
  },
  "orig_nbformat": 4
 },
 "nbformat": 4,
 "nbformat_minor": 2
}
