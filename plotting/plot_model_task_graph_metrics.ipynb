{
 "cells": [
  {
   "cell_type": "code",
   "execution_count": 22,
   "metadata": {},
   "outputs": [],
   "source": [
    "import os\n",
    "import json\n",
    "import glob\n",
    "import re\n",
    "import sys\n",
    "from typing import Dict, List\n",
    "\n",
    "import torch\n",
    "import numpy as np\n",
    "import pandas as pd\n",
    "import plotly.express as px\n",
    "import plotly.graph_objects as go\n",
    "import plotly.io as pio\n",
    "import chart_studio\n",
    "from chart_studio import plotly as py\n",
    "\n",
    "from IPython.display import display, clear_output, HTML\n",
    "\n",
    "sys.path.append(\"..\")\n",
    "from utils.data_processing import (\n",
    "    load_edge_scores_into_dictionary,\n",
    "    compute_weighted_jaccard_similarity,\n",
    "    compute_weighted_jaccard_similarity_to_reference,\n",
    "    compute_ewma_weighted_jaccard_similarity,\n",
    "    generate_in_circuit_df_files\n",
    ")\n",
    "from utils.result_plotting import plot_head_circuit_scores, plot_graph_metric"
   ]
  },
  {
   "cell_type": "code",
   "execution_count": 23,
   "metadata": {},
   "outputs": [],
   "source": [
    "# ignore the following if not using chart_studio. if you do want to publish graphs, simple include upload=True in the plotly function\n",
    "\n",
    "# load API key from local file chart_studio_api_key.txt - should be username and api key separated by a comma\n",
    "with open(\"../auth/chart_studio_api_key.txt\") as f:\n",
    "    username, api_key = f.read().strip().split(\",\")\n",
    "    # strip leading whitespace\n",
    "    username = username.strip()\n",
    "    api_key = api_key.strip()\n",
    "\n",
    "chart_studio.tools.set_credentials_file(username=username, api_key=api_key)"
   ]
  },
  {
   "cell_type": "code",
   "execution_count": 166,
   "metadata": {},
   "outputs": [],
   "source": [
    "TASK = 'ioi'\n",
    "PERFORMANCE_METRIC = 'logit_diff'\n",
    "MODEL_NAME = 'pythia-410m'\n",
    "OUTPUT_DIR = f\"../results/plots/graph_metrics/{TASK}/\"\n",
    "\n",
    "# create output directory\n",
    "os.makedirs(OUTPUT_DIR, exist_ok=True)"
   ]
  },
  {
   "attachments": {},
   "cell_type": "markdown",
   "metadata": {},
   "source": [
    "## Graph Metrics"
   ]
  },
  {
   "cell_type": "code",
   "execution_count": 167,
   "metadata": {},
   "outputs": [],
   "source": [
    "# ONLY NEEDS TO BE RUN IF EAP IS REPEATED FOR MODEL/TASK OR NEW CHECKPOINTS ARE ADDED\n",
    "\n",
    "# generate_in_circuit_df_files('../results/graphs', start_checkpoint=3000, limit_to_model=MODEL_NAME, limit_to_task=TASK)\n",
    "# clear_output()"
   ]
  },
  {
   "cell_type": "code",
   "execution_count": 168,
   "metadata": {},
   "outputs": [],
   "source": [
    "# load circuit graph dataframe from file\n",
    "in_circuit_df = pd.read_feather(f'../results/graphs/{MODEL_NAME}/{TASK}/in_circuit_edges.feather')\n",
    "edge_count_df = in_circuit_df.groupby('checkpoint').size().reset_index(name='num_edges')\n",
    "\n",
    "# load performance metrics, e.g. logit diff, from file\n",
    "# check if file exists\n",
    "performance_metrics_file = '../results/task_performance_metrics/all_models_task_performance.pt'\n",
    "perf_metrics_by_model = torch.load(performance_metrics_file)\n",
    "if MODEL_NAME in perf_metrics_by_model and TASK in perf_metrics_by_model[MODEL_NAME]:\n",
    "    # The following can be replaced with any dictionary with (checkpoint: metric) structure,\n",
    "    # e.g. from baselines or other model task runs\n",
    "    perf_metric_dict = perf_metrics_by_model[MODEL_NAME][TASK][PERFORMANCE_METRIC]\n",
    "\n",
    "else:\n",
    "    perf_metric_dict = {c: 0.0 for c in in_circuit_df['checkpoint'].unique()}"
   ]
  },
  {
   "cell_type": "code",
   "execution_count": 169,
   "metadata": {},
   "outputs": [
    {
     "data": {
      "text/html": [
       "<div>\n",
       "<style scoped>\n",
       "    .dataframe tbody tr th:only-of-type {\n",
       "        vertical-align: middle;\n",
       "    }\n",
       "\n",
       "    .dataframe tbody tr th {\n",
       "        vertical-align: top;\n",
       "    }\n",
       "\n",
       "    .dataframe thead th {\n",
       "        text-align: right;\n",
       "    }\n",
       "</style>\n",
       "<table border=\"1\" class=\"dataframe\">\n",
       "  <thead>\n",
       "    <tr style=\"text-align: right;\">\n",
       "      <th></th>\n",
       "      <th>edge</th>\n",
       "      <th>score</th>\n",
       "      <th>in_circuit</th>\n",
       "      <th>checkpoint</th>\n",
       "    </tr>\n",
       "  </thead>\n",
       "  <tbody>\n",
       "    <tr>\n",
       "      <th>0</th>\n",
       "      <td>a11.h4-&gt;m13</td>\n",
       "      <td>0.006226</td>\n",
       "      <td>True</td>\n",
       "      <td>3000</td>\n",
       "    </tr>\n",
       "    <tr>\n",
       "      <th>1</th>\n",
       "      <td>m0-&gt;m4</td>\n",
       "      <td>0.004944</td>\n",
       "      <td>True</td>\n",
       "      <td>3000</td>\n",
       "    </tr>\n",
       "    <tr>\n",
       "      <th>2</th>\n",
       "      <td>m0-&gt;m1</td>\n",
       "      <td>0.013000</td>\n",
       "      <td>True</td>\n",
       "      <td>3000</td>\n",
       "    </tr>\n",
       "    <tr>\n",
       "      <th>3</th>\n",
       "      <td>input-&gt;m0</td>\n",
       "      <td>0.071777</td>\n",
       "      <td>True</td>\n",
       "      <td>3000</td>\n",
       "    </tr>\n",
       "    <tr>\n",
       "      <th>4</th>\n",
       "      <td>m0-&gt;m3</td>\n",
       "      <td>0.010132</td>\n",
       "      <td>True</td>\n",
       "      <td>3000</td>\n",
       "    </tr>\n",
       "  </tbody>\n",
       "</table>\n",
       "</div>"
      ],
      "text/plain": [
       "          edge     score  in_circuit  checkpoint\n",
       "0  a11.h4->m13  0.006226        True        3000\n",
       "1       m0->m4  0.004944        True        3000\n",
       "2       m0->m1  0.013000        True        3000\n",
       "3    input->m0  0.071777        True        3000\n",
       "4       m0->m3  0.010132        True        3000"
      ]
     },
     "execution_count": 169,
     "metadata": {},
     "output_type": "execute_result"
    }
   ],
   "source": [
    "in_circuit_df.head()"
   ]
  },
  {
   "attachments": {},
   "cell_type": "markdown",
   "metadata": {},
   "source": [
    "### Graph Size"
   ]
  },
  {
   "cell_type": "code",
   "execution_count": 175,
   "metadata": {},
   "outputs": [
    {
     "data": {
      "application/vnd.plotly.v1+json": {
       "config": {
        "plotlyServerURL": "https://plotly.com"
       },
       "data": [
        {
         "hovertemplate": "variable=Circuit Edges<br>checkpoint=%{x}<br>value=%{y}<extra></extra>",
         "legendgroup": "Circuit Edges",
         "line": {
          "color": "#636efa",
          "dash": "solid"
         },
         "marker": {
          "symbol": "circle"
         },
         "mode": "lines",
         "name": "Circuit Edges",
         "orientation": "v",
         "showlegend": true,
         "type": "scatter",
         "x": [
          3000,
          4000,
          5000,
          6000,
          7000,
          8000,
          9000,
          10000,
          11000,
          12000,
          13000,
          14000,
          15000,
          16000,
          17000,
          18000,
          19000,
          20000,
          21000,
          22000,
          23000,
          24000,
          25000,
          26000,
          27000,
          28000,
          29000,
          30000,
          31000,
          32000,
          33000,
          34000,
          35000,
          36000,
          37000,
          38000,
          39000,
          40000,
          41000,
          42000,
          43000,
          44000,
          45000,
          46000,
          47000,
          48000,
          49000,
          50000,
          51000,
          52000,
          53000,
          54000,
          55000,
          56000,
          57000,
          58000,
          59000,
          60000,
          61000,
          62000,
          63000,
          64000,
          65000,
          66000,
          67000,
          68000,
          69000,
          70000,
          71000,
          72000,
          73000,
          74000,
          75000,
          76000,
          77000,
          78000,
          79000,
          80000,
          81000,
          82000,
          83000,
          84000,
          85000,
          86000,
          87000,
          88000,
          89000,
          90000,
          91000,
          92000,
          93000,
          94000,
          95000,
          96000,
          97000,
          98000,
          99000,
          100000,
          101000,
          102000,
          103000,
          104000,
          105000,
          106000,
          107000,
          108000,
          109000,
          110000,
          111000,
          112000,
          113000,
          114000,
          115000,
          116000,
          117000,
          118000,
          119000,
          120000,
          121000,
          122000,
          123000,
          124000,
          125000,
          126000,
          127000,
          128000,
          129000,
          130000,
          131000,
          132000,
          133000,
          134000,
          135000,
          136000,
          137000,
          138000,
          139000,
          140000,
          141000,
          142000,
          143000
         ],
         "xaxis": "x",
         "y": [
          24,
          74,
          223,
          248,
          290,
          329,
          203,
          137,
          124,
          141,
          149,
          177,
          350,
          235,
          368,
          152,
          120,
          144,
          173,
          448,
          216,
          207,
          138,
          180,
          156,
          171,
          181,
          121,
          193,
          327,
          162,
          164,
          170,
          222,
          155,
          351,
          458,
          506,
          220,
          110,
          145,
          165,
          703,
          271,
          155,
          507,
          106,
          161,
          487,
          582,
          161,
          527,
          620,
          208,
          594,
          520,
          148,
          505,
          527,
          176,
          573,
          473,
          472,
          482,
          575,
          469,
          631,
          482,
          694,
          492,
          508,
          574,
          524,
          480,
          524,
          565,
          593,
          580,
          549,
          596,
          671,
          629,
          578,
          813,
          578,
          806,
          703,
          935,
          781,
          745,
          1011,
          747,
          680,
          1043,
          1013,
          961,
          788,
          785,
          910,
          994,
          623,
          949,
          935,
          944,
          850,
          1122,
          1178,
          1086,
          1080,
          848,
          1029,
          1121,
          1014,
          1169,
          840,
          1103,
          1001,
          799,
          801,
          997,
          754,
          667,
          788,
          929,
          998,
          906,
          819,
          979,
          1347,
          1212,
          1154,
          1013,
          1154,
          1142,
          1049,
          985,
          1115,
          1377,
          923,
          1248,
          1059
         ],
         "yaxis": "y"
        },
        {
         "line": {
          "color": "gray",
          "dash": "dot",
          "width": 2
         },
         "mode": "lines",
         "name": "Logit Diff",
         "type": "scatter",
         "x": [
          3000,
          4000,
          5000,
          6000,
          7000,
          8000,
          9000,
          10000,
          11000,
          12000,
          13000,
          14000,
          15000,
          16000,
          17000,
          18000,
          19000,
          20000,
          21000,
          22000,
          23000,
          24000,
          25000,
          26000,
          27000,
          28000,
          29000,
          30000,
          31000,
          32000,
          33000,
          34000,
          35000,
          36000,
          37000,
          38000,
          39000,
          40000,
          41000,
          42000,
          43000,
          44000,
          45000,
          46000,
          47000,
          48000,
          49000,
          50000,
          51000,
          52000,
          53000,
          54000,
          55000,
          56000,
          57000,
          58000,
          59000,
          60000,
          61000,
          62000,
          63000,
          64000,
          65000,
          66000,
          67000,
          68000,
          69000,
          70000,
          71000,
          72000,
          73000,
          74000,
          75000,
          76000,
          77000,
          78000,
          79000,
          80000,
          81000,
          82000,
          83000,
          84000,
          85000,
          86000,
          87000,
          88000,
          89000,
          90000,
          91000,
          92000,
          93000,
          94000,
          95000,
          96000,
          97000,
          98000,
          99000,
          100000,
          101000,
          102000,
          103000,
          104000,
          105000,
          106000,
          107000,
          108000,
          109000,
          110000,
          111000,
          112000,
          113000,
          114000,
          115000,
          116000,
          117000,
          118000,
          119000,
          120000,
          121000,
          122000,
          123000,
          124000,
          125000,
          126000,
          127000,
          128000,
          129000,
          130000,
          131000,
          132000,
          133000,
          134000,
          135000,
          136000,
          137000,
          138000,
          139000,
          140000,
          141000,
          142000,
          143000
         ],
         "y": [
          1.2984895706176758,
          1.8091895580291748,
          3.284644842147827,
          4.488880157470703,
          3.800635576248169,
          4.6040778160095215,
          3.803982973098755,
          4.212908744812012,
          3.9969871044158936,
          3.9436161518096924,
          3.8937957286834717,
          3.193147897720337,
          3.7413523197174072,
          3.8434049606323244,
          3.945457601547241,
          4.047510242462158,
          4.149562883377075,
          4.251615524291992,
          4.138780212402343,
          4.0259449005126955,
          3.9131095886230467,
          3.8002742767333983,
          3.68743896484375,
          3.6378165245056153,
          3.5881940841674806,
          3.5385716438293455,
          3.488949203491211,
          3.439326763153076,
          3.497391700744629,
          3.5554566383361816,
          3.6135215759277344,
          3.671586513519287,
          3.72965145111084,
          3.776348829269409,
          3.8230462074279785,
          3.869743585586548,
          3.916440963745117,
          3.9631383419036865,
          3.925833988189697,
          3.888529634475708,
          3.8512252807617187,
          3.8139209270477297,
          3.7766165733337402,
          3.8386295318603514,
          3.900642490386963,
          3.962655448913574,
          4.024668407440186,
          4.086681365966797,
          4.049734163284302,
          4.012786960601806,
          3.9758397579193114,
          3.9388925552368166,
          3.9019453525543213,
          3.8799148082733153,
          3.8578842639923097,
          3.8358537197113036,
          3.813823175430298,
          3.791792631149292,
          3.8062237739562987,
          3.8206549167633055,
          3.8350860595703127,
          3.8495172023773194,
          3.863948345184326,
          3.7297369956970217,
          3.5955256462097167,
          3.461314296722412,
          3.3271029472351072,
          3.1928915977478027,
          3.27441029548645,
          3.3559289932250977,
          3.437447690963745,
          3.5189663887023928,
          3.60048508644104,
          3.6820037841796873,
          3.763522481918335,
          3.8450411796569823,
          3.92655987739563,
          4.008078575134277,
          3.937114191055298,
          3.8661498069763183,
          3.795185422897339,
          3.724221038818359,
          3.65325665473938,
          3.5822922706604006,
          3.511327886581421,
          3.4403635025024415,
          3.3693991184234617,
          3.2984347343444824,
          3.3432880878448485,
          3.3881414413452147,
          3.4329947948455812,
          3.4778481483459474,
          3.5227015018463135,
          3.5675548553466796,
          3.6124082088470457,
          3.6572615623474123,
          3.7021149158477784,
          3.7469682693481445,
          3.7607115507125854,
          3.7744548320770264,
          3.7881981134414673,
          3.801941394805908,
          3.815684676170349,
          3.82942795753479,
          3.843171238899231,
          3.856914520263672,
          3.870657801628113,
          3.8844010829925537,
          3.8523802280426027,
          3.8203593730926513,
          3.7883385181427003,
          3.756317663192749,
          3.724296808242798,
          3.692275953292847,
          3.6602550983428954,
          3.6282342433929444,
          3.596213388442993,
          3.564192533493042,
          3.5834166288375853,
          3.602640724182129,
          3.6218648195266723,
          3.641088914871216,
          3.6603130102157593,
          3.6795371055603026,
          3.6987612009048463,
          3.7179852962493896,
          3.7372093915939333,
          3.7564334869384766,
          3.7487784147262575,
          3.741123342514038,
          3.733468270301819,
          3.7258131980895994,
          3.7181581258773804,
          3.7105030536651613,
          3.702847981452942,
          3.6951929092407227,
          3.6875378370285032,
          3.679882764816284,
          3.679882764816284,
          3.679882764816284,
          3.679882764816284
         ],
         "yaxis": "y2"
        }
       ],
       "layout": {
        "legend": {
         "font": {
          "size": 16
         },
         "title": {
          "text": "Metrics"
         },
         "tracegroupgap": 0
        },
        "template": {
         "data": {
          "bar": [
           {
            "error_x": {
             "color": "#2a3f5f"
            },
            "error_y": {
             "color": "#2a3f5f"
            },
            "marker": {
             "line": {
              "color": "#E5ECF6",
              "width": 0.5
             },
             "pattern": {
              "fillmode": "overlay",
              "size": 10,
              "solidity": 0.2
             }
            },
            "type": "bar"
           }
          ],
          "barpolar": [
           {
            "marker": {
             "line": {
              "color": "#E5ECF6",
              "width": 0.5
             },
             "pattern": {
              "fillmode": "overlay",
              "size": 10,
              "solidity": 0.2
             }
            },
            "type": "barpolar"
           }
          ],
          "carpet": [
           {
            "aaxis": {
             "endlinecolor": "#2a3f5f",
             "gridcolor": "white",
             "linecolor": "white",
             "minorgridcolor": "white",
             "startlinecolor": "#2a3f5f"
            },
            "baxis": {
             "endlinecolor": "#2a3f5f",
             "gridcolor": "white",
             "linecolor": "white",
             "minorgridcolor": "white",
             "startlinecolor": "#2a3f5f"
            },
            "type": "carpet"
           }
          ],
          "choropleth": [
           {
            "colorbar": {
             "outlinewidth": 0,
             "ticks": ""
            },
            "type": "choropleth"
           }
          ],
          "contour": [
           {
            "colorbar": {
             "outlinewidth": 0,
             "ticks": ""
            },
            "colorscale": [
             [
              0,
              "#0d0887"
             ],
             [
              0.1111111111111111,
              "#46039f"
             ],
             [
              0.2222222222222222,
              "#7201a8"
             ],
             [
              0.3333333333333333,
              "#9c179e"
             ],
             [
              0.4444444444444444,
              "#bd3786"
             ],
             [
              0.5555555555555556,
              "#d8576b"
             ],
             [
              0.6666666666666666,
              "#ed7953"
             ],
             [
              0.7777777777777778,
              "#fb9f3a"
             ],
             [
              0.8888888888888888,
              "#fdca26"
             ],
             [
              1,
              "#f0f921"
             ]
            ],
            "type": "contour"
           }
          ],
          "contourcarpet": [
           {
            "colorbar": {
             "outlinewidth": 0,
             "ticks": ""
            },
            "type": "contourcarpet"
           }
          ],
          "heatmap": [
           {
            "colorbar": {
             "outlinewidth": 0,
             "ticks": ""
            },
            "colorscale": [
             [
              0,
              "#0d0887"
             ],
             [
              0.1111111111111111,
              "#46039f"
             ],
             [
              0.2222222222222222,
              "#7201a8"
             ],
             [
              0.3333333333333333,
              "#9c179e"
             ],
             [
              0.4444444444444444,
              "#bd3786"
             ],
             [
              0.5555555555555556,
              "#d8576b"
             ],
             [
              0.6666666666666666,
              "#ed7953"
             ],
             [
              0.7777777777777778,
              "#fb9f3a"
             ],
             [
              0.8888888888888888,
              "#fdca26"
             ],
             [
              1,
              "#f0f921"
             ]
            ],
            "type": "heatmap"
           }
          ],
          "heatmapgl": [
           {
            "colorbar": {
             "outlinewidth": 0,
             "ticks": ""
            },
            "colorscale": [
             [
              0,
              "#0d0887"
             ],
             [
              0.1111111111111111,
              "#46039f"
             ],
             [
              0.2222222222222222,
              "#7201a8"
             ],
             [
              0.3333333333333333,
              "#9c179e"
             ],
             [
              0.4444444444444444,
              "#bd3786"
             ],
             [
              0.5555555555555556,
              "#d8576b"
             ],
             [
              0.6666666666666666,
              "#ed7953"
             ],
             [
              0.7777777777777778,
              "#fb9f3a"
             ],
             [
              0.8888888888888888,
              "#fdca26"
             ],
             [
              1,
              "#f0f921"
             ]
            ],
            "type": "heatmapgl"
           }
          ],
          "histogram": [
           {
            "marker": {
             "pattern": {
              "fillmode": "overlay",
              "size": 10,
              "solidity": 0.2
             }
            },
            "type": "histogram"
           }
          ],
          "histogram2d": [
           {
            "colorbar": {
             "outlinewidth": 0,
             "ticks": ""
            },
            "colorscale": [
             [
              0,
              "#0d0887"
             ],
             [
              0.1111111111111111,
              "#46039f"
             ],
             [
              0.2222222222222222,
              "#7201a8"
             ],
             [
              0.3333333333333333,
              "#9c179e"
             ],
             [
              0.4444444444444444,
              "#bd3786"
             ],
             [
              0.5555555555555556,
              "#d8576b"
             ],
             [
              0.6666666666666666,
              "#ed7953"
             ],
             [
              0.7777777777777778,
              "#fb9f3a"
             ],
             [
              0.8888888888888888,
              "#fdca26"
             ],
             [
              1,
              "#f0f921"
             ]
            ],
            "type": "histogram2d"
           }
          ],
          "histogram2dcontour": [
           {
            "colorbar": {
             "outlinewidth": 0,
             "ticks": ""
            },
            "colorscale": [
             [
              0,
              "#0d0887"
             ],
             [
              0.1111111111111111,
              "#46039f"
             ],
             [
              0.2222222222222222,
              "#7201a8"
             ],
             [
              0.3333333333333333,
              "#9c179e"
             ],
             [
              0.4444444444444444,
              "#bd3786"
             ],
             [
              0.5555555555555556,
              "#d8576b"
             ],
             [
              0.6666666666666666,
              "#ed7953"
             ],
             [
              0.7777777777777778,
              "#fb9f3a"
             ],
             [
              0.8888888888888888,
              "#fdca26"
             ],
             [
              1,
              "#f0f921"
             ]
            ],
            "type": "histogram2dcontour"
           }
          ],
          "mesh3d": [
           {
            "colorbar": {
             "outlinewidth": 0,
             "ticks": ""
            },
            "type": "mesh3d"
           }
          ],
          "parcoords": [
           {
            "line": {
             "colorbar": {
              "outlinewidth": 0,
              "ticks": ""
             }
            },
            "type": "parcoords"
           }
          ],
          "pie": [
           {
            "automargin": true,
            "type": "pie"
           }
          ],
          "scatter": [
           {
            "fillpattern": {
             "fillmode": "overlay",
             "size": 10,
             "solidity": 0.2
            },
            "type": "scatter"
           }
          ],
          "scatter3d": [
           {
            "line": {
             "colorbar": {
              "outlinewidth": 0,
              "ticks": ""
             }
            },
            "marker": {
             "colorbar": {
              "outlinewidth": 0,
              "ticks": ""
             }
            },
            "type": "scatter3d"
           }
          ],
          "scattercarpet": [
           {
            "marker": {
             "colorbar": {
              "outlinewidth": 0,
              "ticks": ""
             }
            },
            "type": "scattercarpet"
           }
          ],
          "scattergeo": [
           {
            "marker": {
             "colorbar": {
              "outlinewidth": 0,
              "ticks": ""
             }
            },
            "type": "scattergeo"
           }
          ],
          "scattergl": [
           {
            "marker": {
             "colorbar": {
              "outlinewidth": 0,
              "ticks": ""
             }
            },
            "type": "scattergl"
           }
          ],
          "scattermapbox": [
           {
            "marker": {
             "colorbar": {
              "outlinewidth": 0,
              "ticks": ""
             }
            },
            "type": "scattermapbox"
           }
          ],
          "scatterpolar": [
           {
            "marker": {
             "colorbar": {
              "outlinewidth": 0,
              "ticks": ""
             }
            },
            "type": "scatterpolar"
           }
          ],
          "scatterpolargl": [
           {
            "marker": {
             "colorbar": {
              "outlinewidth": 0,
              "ticks": ""
             }
            },
            "type": "scatterpolargl"
           }
          ],
          "scatterternary": [
           {
            "marker": {
             "colorbar": {
              "outlinewidth": 0,
              "ticks": ""
             }
            },
            "type": "scatterternary"
           }
          ],
          "surface": [
           {
            "colorbar": {
             "outlinewidth": 0,
             "ticks": ""
            },
            "colorscale": [
             [
              0,
              "#0d0887"
             ],
             [
              0.1111111111111111,
              "#46039f"
             ],
             [
              0.2222222222222222,
              "#7201a8"
             ],
             [
              0.3333333333333333,
              "#9c179e"
             ],
             [
              0.4444444444444444,
              "#bd3786"
             ],
             [
              0.5555555555555556,
              "#d8576b"
             ],
             [
              0.6666666666666666,
              "#ed7953"
             ],
             [
              0.7777777777777778,
              "#fb9f3a"
             ],
             [
              0.8888888888888888,
              "#fdca26"
             ],
             [
              1,
              "#f0f921"
             ]
            ],
            "type": "surface"
           }
          ],
          "table": [
           {
            "cells": {
             "fill": {
              "color": "#EBF0F8"
             },
             "line": {
              "color": "white"
             }
            },
            "header": {
             "fill": {
              "color": "#C8D4E3"
             },
             "line": {
              "color": "white"
             }
            },
            "type": "table"
           }
          ]
         },
         "layout": {
          "annotationdefaults": {
           "arrowcolor": "#2a3f5f",
           "arrowhead": 0,
           "arrowwidth": 1
          },
          "autotypenumbers": "strict",
          "coloraxis": {
           "colorbar": {
            "outlinewidth": 0,
            "ticks": ""
           }
          },
          "colorscale": {
           "diverging": [
            [
             0,
             "#8e0152"
            ],
            [
             0.1,
             "#c51b7d"
            ],
            [
             0.2,
             "#de77ae"
            ],
            [
             0.3,
             "#f1b6da"
            ],
            [
             0.4,
             "#fde0ef"
            ],
            [
             0.5,
             "#f7f7f7"
            ],
            [
             0.6,
             "#e6f5d0"
            ],
            [
             0.7,
             "#b8e186"
            ],
            [
             0.8,
             "#7fbc41"
            ],
            [
             0.9,
             "#4d9221"
            ],
            [
             1,
             "#276419"
            ]
           ],
           "sequential": [
            [
             0,
             "#0d0887"
            ],
            [
             0.1111111111111111,
             "#46039f"
            ],
            [
             0.2222222222222222,
             "#7201a8"
            ],
            [
             0.3333333333333333,
             "#9c179e"
            ],
            [
             0.4444444444444444,
             "#bd3786"
            ],
            [
             0.5555555555555556,
             "#d8576b"
            ],
            [
             0.6666666666666666,
             "#ed7953"
            ],
            [
             0.7777777777777778,
             "#fb9f3a"
            ],
            [
             0.8888888888888888,
             "#fdca26"
            ],
            [
             1,
             "#f0f921"
            ]
           ],
           "sequentialminus": [
            [
             0,
             "#0d0887"
            ],
            [
             0.1111111111111111,
             "#46039f"
            ],
            [
             0.2222222222222222,
             "#7201a8"
            ],
            [
             0.3333333333333333,
             "#9c179e"
            ],
            [
             0.4444444444444444,
             "#bd3786"
            ],
            [
             0.5555555555555556,
             "#d8576b"
            ],
            [
             0.6666666666666666,
             "#ed7953"
            ],
            [
             0.7777777777777778,
             "#fb9f3a"
            ],
            [
             0.8888888888888888,
             "#fdca26"
            ],
            [
             1,
             "#f0f921"
            ]
           ]
          },
          "colorway": [
           "#636efa",
           "#EF553B",
           "#00cc96",
           "#ab63fa",
           "#FFA15A",
           "#19d3f3",
           "#FF6692",
           "#B6E880",
           "#FF97FF",
           "#FECB52"
          ],
          "font": {
           "color": "#2a3f5f"
          },
          "geo": {
           "bgcolor": "white",
           "lakecolor": "white",
           "landcolor": "#E5ECF6",
           "showlakes": true,
           "showland": true,
           "subunitcolor": "white"
          },
          "hoverlabel": {
           "align": "left"
          },
          "hovermode": "closest",
          "mapbox": {
           "style": "light"
          },
          "paper_bgcolor": "white",
          "plot_bgcolor": "#E5ECF6",
          "polar": {
           "angularaxis": {
            "gridcolor": "white",
            "linecolor": "white",
            "ticks": ""
           },
           "bgcolor": "#E5ECF6",
           "radialaxis": {
            "gridcolor": "white",
            "linecolor": "white",
            "ticks": ""
           }
          },
          "scene": {
           "xaxis": {
            "backgroundcolor": "#E5ECF6",
            "gridcolor": "white",
            "gridwidth": 2,
            "linecolor": "white",
            "showbackground": true,
            "ticks": "",
            "zerolinecolor": "white"
           },
           "yaxis": {
            "backgroundcolor": "#E5ECF6",
            "gridcolor": "white",
            "gridwidth": 2,
            "linecolor": "white",
            "showbackground": true,
            "ticks": "",
            "zerolinecolor": "white"
           },
           "zaxis": {
            "backgroundcolor": "#E5ECF6",
            "gridcolor": "white",
            "gridwidth": 2,
            "linecolor": "white",
            "showbackground": true,
            "ticks": "",
            "zerolinecolor": "white"
           }
          },
          "shapedefaults": {
           "line": {
            "color": "#2a3f5f"
           }
          },
          "ternary": {
           "aaxis": {
            "gridcolor": "white",
            "linecolor": "white",
            "ticks": ""
           },
           "baxis": {
            "gridcolor": "white",
            "linecolor": "white",
            "ticks": ""
           },
           "bgcolor": "#E5ECF6",
           "caxis": {
            "gridcolor": "white",
            "linecolor": "white",
            "ticks": ""
           }
          },
          "title": {
           "x": 0.05
          },
          "xaxis": {
           "automargin": true,
           "gridcolor": "white",
           "linecolor": "white",
           "ticks": "",
           "title": {
            "standoff": 15
           },
           "zerolinecolor": "white",
           "zerolinewidth": 2
          },
          "yaxis": {
           "automargin": true,
           "gridcolor": "white",
           "linecolor": "white",
           "ticks": "",
           "title": {
            "standoff": 15
           },
           "zerolinecolor": "white",
           "zerolinewidth": 2
          }
         }
        },
        "title": {
         "text": "Graph Size for pythia-410m"
        },
        "xaxis": {
         "anchor": "y",
         "domain": [
          0,
          1
         ],
         "title": {
          "font": {
           "size": 16
          },
          "text": "Training Checkpoint"
         },
         "type": "log"
        },
        "yaxis": {
         "anchor": "x",
         "domain": [
          0,
          1
         ],
         "range": [
          0,
          1500
         ],
         "title": {
          "font": {
           "size": 16
          },
          "text": "Edge Count"
         }
        },
        "yaxis2": {
         "overlaying": "y",
         "range": [
          0,
          6
         ],
         "showgrid": false,
         "side": "right",
         "title": {
          "font": {
           "size": 16
          },
          "text": "Logit Diff"
         }
        }
       }
      },
      "text/html": [
       "<div>                            <div id=\"b5de10a1-ec9d-4f23-ae67-61543158b819\" class=\"plotly-graph-div\" style=\"height:525px; width:100%;\"></div>            <script type=\"text/javascript\">                require([\"plotly\"], function(Plotly) {                    window.PLOTLYENV=window.PLOTLYENV || {};                                    if (document.getElementById(\"b5de10a1-ec9d-4f23-ae67-61543158b819\")) {                    Plotly.newPlot(                        \"b5de10a1-ec9d-4f23-ae67-61543158b819\",                        [{\"hovertemplate\":\"variable=Circuit Edges\\u003cbr\\u003echeckpoint=%{x}\\u003cbr\\u003evalue=%{y}\\u003cextra\\u003e\\u003c\\u002fextra\\u003e\",\"legendgroup\":\"Circuit Edges\",\"line\":{\"color\":\"#636efa\",\"dash\":\"solid\"},\"marker\":{\"symbol\":\"circle\"},\"mode\":\"lines\",\"name\":\"Circuit Edges\",\"orientation\":\"v\",\"showlegend\":true,\"x\":[3000,4000,5000,6000,7000,8000,9000,10000,11000,12000,13000,14000,15000,16000,17000,18000,19000,20000,21000,22000,23000,24000,25000,26000,27000,28000,29000,30000,31000,32000,33000,34000,35000,36000,37000,38000,39000,40000,41000,42000,43000,44000,45000,46000,47000,48000,49000,50000,51000,52000,53000,54000,55000,56000,57000,58000,59000,60000,61000,62000,63000,64000,65000,66000,67000,68000,69000,70000,71000,72000,73000,74000,75000,76000,77000,78000,79000,80000,81000,82000,83000,84000,85000,86000,87000,88000,89000,90000,91000,92000,93000,94000,95000,96000,97000,98000,99000,100000,101000,102000,103000,104000,105000,106000,107000,108000,109000,110000,111000,112000,113000,114000,115000,116000,117000,118000,119000,120000,121000,122000,123000,124000,125000,126000,127000,128000,129000,130000,131000,132000,133000,134000,135000,136000,137000,138000,139000,140000,141000,142000,143000],\"xaxis\":\"x\",\"y\":[24,74,223,248,290,329,203,137,124,141,149,177,350,235,368,152,120,144,173,448,216,207,138,180,156,171,181,121,193,327,162,164,170,222,155,351,458,506,220,110,145,165,703,271,155,507,106,161,487,582,161,527,620,208,594,520,148,505,527,176,573,473,472,482,575,469,631,482,694,492,508,574,524,480,524,565,593,580,549,596,671,629,578,813,578,806,703,935,781,745,1011,747,680,1043,1013,961,788,785,910,994,623,949,935,944,850,1122,1178,1086,1080,848,1029,1121,1014,1169,840,1103,1001,799,801,997,754,667,788,929,998,906,819,979,1347,1212,1154,1013,1154,1142,1049,985,1115,1377,923,1248,1059],\"yaxis\":\"y\",\"type\":\"scatter\"},{\"line\":{\"color\":\"gray\",\"dash\":\"dot\",\"width\":2},\"mode\":\"lines\",\"name\":\"Logit Diff\",\"x\":[3000,4000,5000,6000,7000,8000,9000,10000,11000,12000,13000,14000,15000,16000,17000,18000,19000,20000,21000,22000,23000,24000,25000,26000,27000,28000,29000,30000,31000,32000,33000,34000,35000,36000,37000,38000,39000,40000,41000,42000,43000,44000,45000,46000,47000,48000,49000,50000,51000,52000,53000,54000,55000,56000,57000,58000,59000,60000,61000,62000,63000,64000,65000,66000,67000,68000,69000,70000,71000,72000,73000,74000,75000,76000,77000,78000,79000,80000,81000,82000,83000,84000,85000,86000,87000,88000,89000,90000,91000,92000,93000,94000,95000,96000,97000,98000,99000,100000,101000,102000,103000,104000,105000,106000,107000,108000,109000,110000,111000,112000,113000,114000,115000,116000,117000,118000,119000,120000,121000,122000,123000,124000,125000,126000,127000,128000,129000,130000,131000,132000,133000,134000,135000,136000,137000,138000,139000,140000,141000,142000,143000],\"y\":[1.2984895706176758,1.8091895580291748,3.284644842147827,4.488880157470703,3.800635576248169,4.6040778160095215,3.803982973098755,4.212908744812012,3.9969871044158936,3.9436161518096924,3.8937957286834717,3.193147897720337,3.7413523197174072,3.8434049606323244,3.945457601547241,4.047510242462158,4.149562883377075,4.251615524291992,4.138780212402343,4.0259449005126955,3.9131095886230467,3.8002742767333983,3.68743896484375,3.6378165245056153,3.5881940841674806,3.5385716438293455,3.488949203491211,3.439326763153076,3.497391700744629,3.5554566383361816,3.6135215759277344,3.671586513519287,3.72965145111084,3.776348829269409,3.8230462074279785,3.869743585586548,3.916440963745117,3.9631383419036865,3.925833988189697,3.888529634475708,3.8512252807617187,3.8139209270477297,3.7766165733337402,3.8386295318603514,3.900642490386963,3.962655448913574,4.024668407440186,4.086681365966797,4.049734163284302,4.012786960601806,3.9758397579193114,3.9388925552368166,3.9019453525543213,3.8799148082733153,3.8578842639923097,3.8358537197113036,3.813823175430298,3.791792631149292,3.8062237739562987,3.8206549167633055,3.8350860595703127,3.8495172023773194,3.863948345184326,3.7297369956970217,3.5955256462097167,3.461314296722412,3.3271029472351072,3.1928915977478027,3.27441029548645,3.3559289932250977,3.437447690963745,3.5189663887023928,3.60048508644104,3.6820037841796873,3.763522481918335,3.8450411796569823,3.92655987739563,4.008078575134277,3.937114191055298,3.8661498069763183,3.795185422897339,3.724221038818359,3.65325665473938,3.5822922706604006,3.511327886581421,3.4403635025024415,3.3693991184234617,3.2984347343444824,3.3432880878448485,3.3881414413452147,3.4329947948455812,3.4778481483459474,3.5227015018463135,3.5675548553466796,3.6124082088470457,3.6572615623474123,3.7021149158477784,3.7469682693481445,3.7607115507125854,3.7744548320770264,3.7881981134414673,3.801941394805908,3.815684676170349,3.82942795753479,3.843171238899231,3.856914520263672,3.870657801628113,3.8844010829925537,3.8523802280426027,3.8203593730926513,3.7883385181427003,3.756317663192749,3.724296808242798,3.692275953292847,3.6602550983428954,3.6282342433929444,3.596213388442993,3.564192533493042,3.5834166288375853,3.602640724182129,3.6218648195266723,3.641088914871216,3.6603130102157593,3.6795371055603026,3.6987612009048463,3.7179852962493896,3.7372093915939333,3.7564334869384766,3.7487784147262575,3.741123342514038,3.733468270301819,3.7258131980895994,3.7181581258773804,3.7105030536651613,3.702847981452942,3.6951929092407227,3.6875378370285032,3.679882764816284,3.679882764816284,3.679882764816284,3.679882764816284],\"yaxis\":\"y2\",\"type\":\"scatter\"}],                        {\"template\":{\"data\":{\"histogram2dcontour\":[{\"type\":\"histogram2dcontour\",\"colorbar\":{\"outlinewidth\":0,\"ticks\":\"\"},\"colorscale\":[[0.0,\"#0d0887\"],[0.1111111111111111,\"#46039f\"],[0.2222222222222222,\"#7201a8\"],[0.3333333333333333,\"#9c179e\"],[0.4444444444444444,\"#bd3786\"],[0.5555555555555556,\"#d8576b\"],[0.6666666666666666,\"#ed7953\"],[0.7777777777777778,\"#fb9f3a\"],[0.8888888888888888,\"#fdca26\"],[1.0,\"#f0f921\"]]}],\"choropleth\":[{\"type\":\"choropleth\",\"colorbar\":{\"outlinewidth\":0,\"ticks\":\"\"}}],\"histogram2d\":[{\"type\":\"histogram2d\",\"colorbar\":{\"outlinewidth\":0,\"ticks\":\"\"},\"colorscale\":[[0.0,\"#0d0887\"],[0.1111111111111111,\"#46039f\"],[0.2222222222222222,\"#7201a8\"],[0.3333333333333333,\"#9c179e\"],[0.4444444444444444,\"#bd3786\"],[0.5555555555555556,\"#d8576b\"],[0.6666666666666666,\"#ed7953\"],[0.7777777777777778,\"#fb9f3a\"],[0.8888888888888888,\"#fdca26\"],[1.0,\"#f0f921\"]]}],\"heatmap\":[{\"type\":\"heatmap\",\"colorbar\":{\"outlinewidth\":0,\"ticks\":\"\"},\"colorscale\":[[0.0,\"#0d0887\"],[0.1111111111111111,\"#46039f\"],[0.2222222222222222,\"#7201a8\"],[0.3333333333333333,\"#9c179e\"],[0.4444444444444444,\"#bd3786\"],[0.5555555555555556,\"#d8576b\"],[0.6666666666666666,\"#ed7953\"],[0.7777777777777778,\"#fb9f3a\"],[0.8888888888888888,\"#fdca26\"],[1.0,\"#f0f921\"]]}],\"heatmapgl\":[{\"type\":\"heatmapgl\",\"colorbar\":{\"outlinewidth\":0,\"ticks\":\"\"},\"colorscale\":[[0.0,\"#0d0887\"],[0.1111111111111111,\"#46039f\"],[0.2222222222222222,\"#7201a8\"],[0.3333333333333333,\"#9c179e\"],[0.4444444444444444,\"#bd3786\"],[0.5555555555555556,\"#d8576b\"],[0.6666666666666666,\"#ed7953\"],[0.7777777777777778,\"#fb9f3a\"],[0.8888888888888888,\"#fdca26\"],[1.0,\"#f0f921\"]]}],\"contourcarpet\":[{\"type\":\"contourcarpet\",\"colorbar\":{\"outlinewidth\":0,\"ticks\":\"\"}}],\"contour\":[{\"type\":\"contour\",\"colorbar\":{\"outlinewidth\":0,\"ticks\":\"\"},\"colorscale\":[[0.0,\"#0d0887\"],[0.1111111111111111,\"#46039f\"],[0.2222222222222222,\"#7201a8\"],[0.3333333333333333,\"#9c179e\"],[0.4444444444444444,\"#bd3786\"],[0.5555555555555556,\"#d8576b\"],[0.6666666666666666,\"#ed7953\"],[0.7777777777777778,\"#fb9f3a\"],[0.8888888888888888,\"#fdca26\"],[1.0,\"#f0f921\"]]}],\"surface\":[{\"type\":\"surface\",\"colorbar\":{\"outlinewidth\":0,\"ticks\":\"\"},\"colorscale\":[[0.0,\"#0d0887\"],[0.1111111111111111,\"#46039f\"],[0.2222222222222222,\"#7201a8\"],[0.3333333333333333,\"#9c179e\"],[0.4444444444444444,\"#bd3786\"],[0.5555555555555556,\"#d8576b\"],[0.6666666666666666,\"#ed7953\"],[0.7777777777777778,\"#fb9f3a\"],[0.8888888888888888,\"#fdca26\"],[1.0,\"#f0f921\"]]}],\"mesh3d\":[{\"type\":\"mesh3d\",\"colorbar\":{\"outlinewidth\":0,\"ticks\":\"\"}}],\"scatter\":[{\"fillpattern\":{\"fillmode\":\"overlay\",\"size\":10,\"solidity\":0.2},\"type\":\"scatter\"}],\"parcoords\":[{\"type\":\"parcoords\",\"line\":{\"colorbar\":{\"outlinewidth\":0,\"ticks\":\"\"}}}],\"scatterpolargl\":[{\"type\":\"scatterpolargl\",\"marker\":{\"colorbar\":{\"outlinewidth\":0,\"ticks\":\"\"}}}],\"bar\":[{\"error_x\":{\"color\":\"#2a3f5f\"},\"error_y\":{\"color\":\"#2a3f5f\"},\"marker\":{\"line\":{\"color\":\"#E5ECF6\",\"width\":0.5},\"pattern\":{\"fillmode\":\"overlay\",\"size\":10,\"solidity\":0.2}},\"type\":\"bar\"}],\"scattergeo\":[{\"type\":\"scattergeo\",\"marker\":{\"colorbar\":{\"outlinewidth\":0,\"ticks\":\"\"}}}],\"scatterpolar\":[{\"type\":\"scatterpolar\",\"marker\":{\"colorbar\":{\"outlinewidth\":0,\"ticks\":\"\"}}}],\"histogram\":[{\"marker\":{\"pattern\":{\"fillmode\":\"overlay\",\"size\":10,\"solidity\":0.2}},\"type\":\"histogram\"}],\"scattergl\":[{\"type\":\"scattergl\",\"marker\":{\"colorbar\":{\"outlinewidth\":0,\"ticks\":\"\"}}}],\"scatter3d\":[{\"type\":\"scatter3d\",\"line\":{\"colorbar\":{\"outlinewidth\":0,\"ticks\":\"\"}},\"marker\":{\"colorbar\":{\"outlinewidth\":0,\"ticks\":\"\"}}}],\"scattermapbox\":[{\"type\":\"scattermapbox\",\"marker\":{\"colorbar\":{\"outlinewidth\":0,\"ticks\":\"\"}}}],\"scatterternary\":[{\"type\":\"scatterternary\",\"marker\":{\"colorbar\":{\"outlinewidth\":0,\"ticks\":\"\"}}}],\"scattercarpet\":[{\"type\":\"scattercarpet\",\"marker\":{\"colorbar\":{\"outlinewidth\":0,\"ticks\":\"\"}}}],\"carpet\":[{\"aaxis\":{\"endlinecolor\":\"#2a3f5f\",\"gridcolor\":\"white\",\"linecolor\":\"white\",\"minorgridcolor\":\"white\",\"startlinecolor\":\"#2a3f5f\"},\"baxis\":{\"endlinecolor\":\"#2a3f5f\",\"gridcolor\":\"white\",\"linecolor\":\"white\",\"minorgridcolor\":\"white\",\"startlinecolor\":\"#2a3f5f\"},\"type\":\"carpet\"}],\"table\":[{\"cells\":{\"fill\":{\"color\":\"#EBF0F8\"},\"line\":{\"color\":\"white\"}},\"header\":{\"fill\":{\"color\":\"#C8D4E3\"},\"line\":{\"color\":\"white\"}},\"type\":\"table\"}],\"barpolar\":[{\"marker\":{\"line\":{\"color\":\"#E5ECF6\",\"width\":0.5},\"pattern\":{\"fillmode\":\"overlay\",\"size\":10,\"solidity\":0.2}},\"type\":\"barpolar\"}],\"pie\":[{\"automargin\":true,\"type\":\"pie\"}]},\"layout\":{\"autotypenumbers\":\"strict\",\"colorway\":[\"#636efa\",\"#EF553B\",\"#00cc96\",\"#ab63fa\",\"#FFA15A\",\"#19d3f3\",\"#FF6692\",\"#B6E880\",\"#FF97FF\",\"#FECB52\"],\"font\":{\"color\":\"#2a3f5f\"},\"hovermode\":\"closest\",\"hoverlabel\":{\"align\":\"left\"},\"paper_bgcolor\":\"white\",\"plot_bgcolor\":\"#E5ECF6\",\"polar\":{\"bgcolor\":\"#E5ECF6\",\"angularaxis\":{\"gridcolor\":\"white\",\"linecolor\":\"white\",\"ticks\":\"\"},\"radialaxis\":{\"gridcolor\":\"white\",\"linecolor\":\"white\",\"ticks\":\"\"}},\"ternary\":{\"bgcolor\":\"#E5ECF6\",\"aaxis\":{\"gridcolor\":\"white\",\"linecolor\":\"white\",\"ticks\":\"\"},\"baxis\":{\"gridcolor\":\"white\",\"linecolor\":\"white\",\"ticks\":\"\"},\"caxis\":{\"gridcolor\":\"white\",\"linecolor\":\"white\",\"ticks\":\"\"}},\"coloraxis\":{\"colorbar\":{\"outlinewidth\":0,\"ticks\":\"\"}},\"colorscale\":{\"sequential\":[[0.0,\"#0d0887\"],[0.1111111111111111,\"#46039f\"],[0.2222222222222222,\"#7201a8\"],[0.3333333333333333,\"#9c179e\"],[0.4444444444444444,\"#bd3786\"],[0.5555555555555556,\"#d8576b\"],[0.6666666666666666,\"#ed7953\"],[0.7777777777777778,\"#fb9f3a\"],[0.8888888888888888,\"#fdca26\"],[1.0,\"#f0f921\"]],\"sequentialminus\":[[0.0,\"#0d0887\"],[0.1111111111111111,\"#46039f\"],[0.2222222222222222,\"#7201a8\"],[0.3333333333333333,\"#9c179e\"],[0.4444444444444444,\"#bd3786\"],[0.5555555555555556,\"#d8576b\"],[0.6666666666666666,\"#ed7953\"],[0.7777777777777778,\"#fb9f3a\"],[0.8888888888888888,\"#fdca26\"],[1.0,\"#f0f921\"]],\"diverging\":[[0,\"#8e0152\"],[0.1,\"#c51b7d\"],[0.2,\"#de77ae\"],[0.3,\"#f1b6da\"],[0.4,\"#fde0ef\"],[0.5,\"#f7f7f7\"],[0.6,\"#e6f5d0\"],[0.7,\"#b8e186\"],[0.8,\"#7fbc41\"],[0.9,\"#4d9221\"],[1,\"#276419\"]]},\"xaxis\":{\"gridcolor\":\"white\",\"linecolor\":\"white\",\"ticks\":\"\",\"title\":{\"standoff\":15},\"zerolinecolor\":\"white\",\"automargin\":true,\"zerolinewidth\":2},\"yaxis\":{\"gridcolor\":\"white\",\"linecolor\":\"white\",\"ticks\":\"\",\"title\":{\"standoff\":15},\"zerolinecolor\":\"white\",\"automargin\":true,\"zerolinewidth\":2},\"scene\":{\"xaxis\":{\"backgroundcolor\":\"#E5ECF6\",\"gridcolor\":\"white\",\"linecolor\":\"white\",\"showbackground\":true,\"ticks\":\"\",\"zerolinecolor\":\"white\",\"gridwidth\":2},\"yaxis\":{\"backgroundcolor\":\"#E5ECF6\",\"gridcolor\":\"white\",\"linecolor\":\"white\",\"showbackground\":true,\"ticks\":\"\",\"zerolinecolor\":\"white\",\"gridwidth\":2},\"zaxis\":{\"backgroundcolor\":\"#E5ECF6\",\"gridcolor\":\"white\",\"linecolor\":\"white\",\"showbackground\":true,\"ticks\":\"\",\"zerolinecolor\":\"white\",\"gridwidth\":2}},\"shapedefaults\":{\"line\":{\"color\":\"#2a3f5f\"}},\"annotationdefaults\":{\"arrowcolor\":\"#2a3f5f\",\"arrowhead\":0,\"arrowwidth\":1},\"geo\":{\"bgcolor\":\"white\",\"landcolor\":\"#E5ECF6\",\"subunitcolor\":\"white\",\"showland\":true,\"showlakes\":true,\"lakecolor\":\"white\"},\"title\":{\"x\":0.05},\"mapbox\":{\"style\":\"light\"}}},\"xaxis\":{\"anchor\":\"y\",\"domain\":[0.0,1.0],\"title\":{\"text\":\"Training Checkpoint\",\"font\":{\"size\":16}},\"type\":\"log\"},\"yaxis\":{\"anchor\":\"x\",\"domain\":[0.0,1.0],\"title\":{\"text\":\"Edge Count\",\"font\":{\"size\":16}},\"range\":[0,1500]},\"legend\":{\"title\":{\"text\":\"Metrics\"},\"tracegroupgap\":0,\"font\":{\"size\":16}},\"title\":{\"text\":\"Graph Size for pythia-410m\"},\"yaxis2\":{\"title\":{\"text\":\"Logit Diff\",\"font\":{\"size\":16}},\"range\":[0,6],\"overlaying\":\"y\",\"side\":\"right\",\"showgrid\":false}},                        {\"responsive\": true}                    ).then(function(){\n",
       "                            \n",
       "var gd = document.getElementById('b5de10a1-ec9d-4f23-ae67-61543158b819');\n",
       "var x = new MutationObserver(function (mutations, observer) {{\n",
       "        var display = window.getComputedStyle(gd).display;\n",
       "        if (!display || display === 'none') {{\n",
       "            console.log([gd, 'removed!']);\n",
       "            Plotly.purge(gd);\n",
       "            observer.disconnect();\n",
       "        }}\n",
       "}});\n",
       "\n",
       "// Listen for the removal of the full notebook cells\n",
       "var notebookContainer = gd.closest('#notebook-container');\n",
       "if (notebookContainer) {{\n",
       "    x.observe(notebookContainer, {childList: true});\n",
       "}}\n",
       "\n",
       "// Listen for the clearing of the current output cell\n",
       "var outputEl = gd.closest('.output');\n",
       "if (outputEl) {{\n",
       "    x.observe(outputEl, {childList: true});\n",
       "}}\n",
       "\n",
       "                        })                };                });            </script>        </div>"
      ]
     },
     "metadata": {},
     "output_type": "display_data"
    }
   ],
   "source": [
    "plot_graph_metric(\n",
    "    edge_count_df, \n",
    "    'num_edges', \n",
    "    perf_metric_dict, \n",
    "    f'Graph Size for {MODEL_NAME}', \n",
    "    right_y_title=\"Logit Diff\",\n",
    "    y_ranges=((0, 1500), (0, 6)), \n",
    "    left_y_title=\"Edge Count\", \n",
    "    x_axis_col='checkpoint', \n",
    "    log_x=True,\n",
    "    output_path = OUTPUT_DIR\n",
    ")"
   ]
  },
  {
   "attachments": {},
   "cell_type": "markdown",
   "metadata": {},
   "source": [
    "### Graph Similarity"
   ]
  },
  {
   "cell_type": "code",
   "execution_count": 176,
   "metadata": {},
   "outputs": [
    {
     "data": {
      "application/vnd.plotly.v1+json": {
       "config": {
        "plotlyServerURL": "https://plotly.com"
       },
       "data": [
        {
         "hovertemplate": "variable=Jaccard Sim<br>checkpoint_2=%{x}<br>value=%{y}<extra></extra>",
         "legendgroup": "Jaccard Sim",
         "line": {
          "color": "#636efa",
          "dash": "solid"
         },
         "marker": {
          "symbol": "circle"
         },
         "mode": "lines",
         "name": "Jaccard Sim",
         "orientation": "v",
         "showlegend": true,
         "type": "scatter",
         "x": [
          4000,
          5000,
          6000,
          7000,
          8000,
          9000,
          10000,
          11000,
          12000,
          13000,
          14000,
          15000,
          16000,
          17000,
          18000,
          19000,
          20000,
          21000,
          22000,
          23000,
          24000,
          25000,
          26000,
          27000,
          28000,
          29000,
          30000,
          31000,
          32000,
          33000,
          34000,
          35000,
          36000,
          37000,
          38000,
          39000,
          40000,
          41000,
          42000,
          43000,
          44000,
          45000,
          46000,
          47000,
          48000,
          49000,
          50000,
          51000,
          52000,
          53000,
          54000,
          55000,
          56000,
          57000,
          58000,
          59000,
          60000,
          61000,
          62000,
          63000,
          64000,
          65000,
          66000,
          67000,
          68000,
          69000,
          70000,
          71000,
          72000,
          73000,
          74000,
          75000,
          76000,
          77000,
          78000,
          79000,
          80000,
          81000,
          82000,
          83000,
          84000,
          85000,
          86000,
          87000,
          88000,
          89000,
          90000,
          91000,
          92000,
          93000,
          94000,
          95000,
          96000,
          97000,
          98000,
          99000,
          100000,
          101000,
          102000,
          103000,
          104000,
          105000,
          106000,
          107000,
          108000,
          109000,
          110000,
          111000,
          112000,
          113000,
          114000,
          115000,
          116000,
          117000,
          118000,
          119000,
          120000,
          121000,
          122000,
          123000,
          124000,
          125000,
          126000,
          127000,
          128000,
          129000,
          130000,
          131000,
          132000,
          133000,
          134000,
          135000,
          136000,
          137000,
          138000,
          139000,
          140000,
          141000,
          142000,
          143000
         ],
         "xaxis": "x",
         "y": [
          0.46142513832788135,
          0.6076123503721147,
          0.7683250069497083,
          0.7993190014926501,
          0.7749721322437305,
          0.7637159070111529,
          0.8170781140903475,
          0.8588457210203996,
          0.8276168712898135,
          0.8159713826195875,
          0.8436300332030104,
          0.7237288367622918,
          0.8129490670062971,
          0.7865884571553804,
          0.6697209428544959,
          0.875678699223471,
          0.8442152904620011,
          0.8413311703017327,
          0.6363578943470836,
          0.6949006776717228,
          0.8357930907417568,
          0.7873970691782333,
          0.8402717659431099,
          0.8529401936313599,
          0.8174987172190403,
          0.8562838871190086,
          0.8001464290687809,
          0.7741928882240899,
          0.7296769769284217,
          0.7241500435182558,
          0.8476308094180033,
          0.8648149377238308,
          0.8178416385997038,
          0.8026082796855823,
          0.673245904845735,
          0.7740346546445609,
          0.8366370286428588,
          0.6828625965695254,
          0.7089367066410358,
          0.8484176324810137,
          0.8275762695653153,
          0.5523647347569898,
          0.6785559565258101,
          0.7131449124439752,
          0.6174871306432146,
          0.5275378220412301,
          0.761378019082553,
          0.6086827275633078,
          0.8453915522046972,
          0.5714587679636836,
          0.5997093806517501,
          0.8577194423972091,
          0.6250636109253064,
          0.6248665308782688,
          0.8691820989468968,
          0.5649650134688758,
          0.5675592957733884,
          0.8658771552794421,
          0.6092836401963826,
          0.585355722851222,
          0.8626803717646335,
          0.8546593000218893,
          0.8594697229209985,
          0.8585645007464465,
          0.8565142846675179,
          0.809932121760784,
          0.8432406344082458,
          0.8020569810022229,
          0.8210778089815937,
          0.8768536958530644,
          0.8668509520668443,
          0.8719852877834627,
          0.8127632086285622,
          0.8169620205738877,
          0.9006941466214693,
          0.8513893553171438,
          0.8328905979223737,
          0.8646334596690568,
          0.8489095088450147,
          0.8676758111350052,
          0.8683900022830944,
          0.8852929362634188,
          0.8354476395967488,
          0.8480947867955563,
          0.8451144606518088,
          0.876544058922515,
          0.8394334542424347,
          0.8584639257646439,
          0.8703557007423616,
          0.8362618765237576,
          0.8411831962949623,
          0.8826832196105214,
          0.804821011748231,
          0.8716119335295642,
          0.8785557205050405,
          0.86852501601533,
          0.8950355287852236,
          0.8876205186727905,
          0.8818285024516809,
          0.7836007084641975,
          0.8209602980013373,
          0.9150300309305212,
          0.913546963566699,
          0.8926924048117569,
          0.8681422453069395,
          0.8840347415758599,
          0.9114965878395319,
          0.8928527325580331,
          0.8678472579605062,
          0.8695239415525793,
          0.8786328689651703,
          0.8821426852221232,
          0.8778654306668069,
          0.8551703968801303,
          0.8488862772476694,
          0.898214474271814,
          0.8726691283485745,
          0.8901655883075873,
          0.8840928281906913,
          0.8651712975328866,
          0.9043197604778201,
          0.8883454325610758,
          0.8893865012401726,
          0.8943411313016657,
          0.9005256131085922,
          0.908968512188267,
          0.88845734631551,
          0.8560148985187334,
          0.8951232675637303,
          0.8962899031183573,
          0.8837970827827349,
          0.9060513683021632,
          0.8938359464188234,
          0.8946276772036917,
          0.9014268469848681,
          0.8979944515151111,
          0.8760992970585562,
          0.8433440068064613,
          0.863044912151963,
          0.8934946811502559
         ],
         "yaxis": "y"
        },
        {
         "line": {
          "color": "gray",
          "dash": "dot",
          "width": 2
         },
         "mode": "lines",
         "name": "Logit Diff",
         "type": "scatter",
         "x": [
          4000,
          5000,
          6000,
          7000,
          8000,
          9000,
          10000,
          11000,
          12000,
          13000,
          14000,
          15000,
          16000,
          17000,
          18000,
          19000,
          20000,
          21000,
          22000,
          23000,
          24000,
          25000,
          26000,
          27000,
          28000,
          29000,
          30000,
          31000,
          32000,
          33000,
          34000,
          35000,
          36000,
          37000,
          38000,
          39000,
          40000,
          41000,
          42000,
          43000,
          44000,
          45000,
          46000,
          47000,
          48000,
          49000,
          50000,
          51000,
          52000,
          53000,
          54000,
          55000,
          56000,
          57000,
          58000,
          59000,
          60000,
          61000,
          62000,
          63000,
          64000,
          65000,
          66000,
          67000,
          68000,
          69000,
          70000,
          71000,
          72000,
          73000,
          74000,
          75000,
          76000,
          77000,
          78000,
          79000,
          80000,
          81000,
          82000,
          83000,
          84000,
          85000,
          86000,
          87000,
          88000,
          89000,
          90000,
          91000,
          92000,
          93000,
          94000,
          95000,
          96000,
          97000,
          98000,
          99000,
          100000,
          101000,
          102000,
          103000,
          104000,
          105000,
          106000,
          107000,
          108000,
          109000,
          110000,
          111000,
          112000,
          113000,
          114000,
          115000,
          116000,
          117000,
          118000,
          119000,
          120000,
          121000,
          122000,
          123000,
          124000,
          125000,
          126000,
          127000,
          128000,
          129000,
          130000,
          131000,
          132000,
          133000,
          134000,
          135000,
          136000,
          137000,
          138000,
          139000,
          140000,
          141000,
          142000,
          143000
         ],
         "y": [
          1.8091895580291748,
          3.284644842147827,
          4.488880157470703,
          3.800635576248169,
          4.6040778160095215,
          3.803982973098755,
          4.212908744812012,
          3.9969871044158936,
          3.9436161518096924,
          3.8937957286834717,
          3.193147897720337,
          3.7413523197174072,
          3.8434049606323244,
          3.945457601547241,
          4.047510242462158,
          4.149562883377075,
          4.251615524291992,
          4.138780212402343,
          4.0259449005126955,
          3.9131095886230467,
          3.8002742767333983,
          3.68743896484375,
          3.6378165245056153,
          3.5881940841674806,
          3.5385716438293455,
          3.488949203491211,
          3.439326763153076,
          3.497391700744629,
          3.5554566383361816,
          3.6135215759277344,
          3.671586513519287,
          3.72965145111084,
          3.776348829269409,
          3.8230462074279785,
          3.869743585586548,
          3.916440963745117,
          3.9631383419036865,
          3.925833988189697,
          3.888529634475708,
          3.8512252807617187,
          3.8139209270477297,
          3.7766165733337402,
          3.8386295318603514,
          3.900642490386963,
          3.962655448913574,
          4.024668407440186,
          4.086681365966797,
          4.049734163284302,
          4.012786960601806,
          3.9758397579193114,
          3.9388925552368166,
          3.9019453525543213,
          3.8799148082733153,
          3.8578842639923097,
          3.8358537197113036,
          3.813823175430298,
          3.791792631149292,
          3.8062237739562987,
          3.8206549167633055,
          3.8350860595703127,
          3.8495172023773194,
          3.863948345184326,
          3.7297369956970217,
          3.5955256462097167,
          3.461314296722412,
          3.3271029472351072,
          3.1928915977478027,
          3.27441029548645,
          3.3559289932250977,
          3.437447690963745,
          3.5189663887023928,
          3.60048508644104,
          3.6820037841796873,
          3.763522481918335,
          3.8450411796569823,
          3.92655987739563,
          4.008078575134277,
          3.937114191055298,
          3.8661498069763183,
          3.795185422897339,
          3.724221038818359,
          3.65325665473938,
          3.5822922706604006,
          3.511327886581421,
          3.4403635025024415,
          3.3693991184234617,
          3.2984347343444824,
          3.3432880878448485,
          3.3881414413452147,
          3.4329947948455812,
          3.4778481483459474,
          3.5227015018463135,
          3.5675548553466796,
          3.6124082088470457,
          3.6572615623474123,
          3.7021149158477784,
          3.7469682693481445,
          3.7607115507125854,
          3.7744548320770264,
          3.7881981134414673,
          3.801941394805908,
          3.815684676170349,
          3.82942795753479,
          3.843171238899231,
          3.856914520263672,
          3.870657801628113,
          3.8844010829925537,
          3.8523802280426027,
          3.8203593730926513,
          3.7883385181427003,
          3.756317663192749,
          3.724296808242798,
          3.692275953292847,
          3.6602550983428954,
          3.6282342433929444,
          3.596213388442993,
          3.564192533493042,
          3.5834166288375853,
          3.602640724182129,
          3.6218648195266723,
          3.641088914871216,
          3.6603130102157593,
          3.6795371055603026,
          3.6987612009048463,
          3.7179852962493896,
          3.7372093915939333,
          3.7564334869384766,
          3.7487784147262575,
          3.741123342514038,
          3.733468270301819,
          3.7258131980895994,
          3.7181581258773804,
          3.7105030536651613,
          3.702847981452942,
          3.6951929092407227,
          3.6875378370285032,
          3.679882764816284,
          3.679882764816284,
          3.679882764816284,
          3.679882764816284
         ],
         "yaxis": "y2"
        }
       ],
       "layout": {
        "legend": {
         "font": {
          "size": 16
         },
         "title": {
          "text": "Metrics"
         },
         "tracegroupgap": 0
        },
        "template": {
         "data": {
          "bar": [
           {
            "error_x": {
             "color": "#2a3f5f"
            },
            "error_y": {
             "color": "#2a3f5f"
            },
            "marker": {
             "line": {
              "color": "#E5ECF6",
              "width": 0.5
             },
             "pattern": {
              "fillmode": "overlay",
              "size": 10,
              "solidity": 0.2
             }
            },
            "type": "bar"
           }
          ],
          "barpolar": [
           {
            "marker": {
             "line": {
              "color": "#E5ECF6",
              "width": 0.5
             },
             "pattern": {
              "fillmode": "overlay",
              "size": 10,
              "solidity": 0.2
             }
            },
            "type": "barpolar"
           }
          ],
          "carpet": [
           {
            "aaxis": {
             "endlinecolor": "#2a3f5f",
             "gridcolor": "white",
             "linecolor": "white",
             "minorgridcolor": "white",
             "startlinecolor": "#2a3f5f"
            },
            "baxis": {
             "endlinecolor": "#2a3f5f",
             "gridcolor": "white",
             "linecolor": "white",
             "minorgridcolor": "white",
             "startlinecolor": "#2a3f5f"
            },
            "type": "carpet"
           }
          ],
          "choropleth": [
           {
            "colorbar": {
             "outlinewidth": 0,
             "ticks": ""
            },
            "type": "choropleth"
           }
          ],
          "contour": [
           {
            "colorbar": {
             "outlinewidth": 0,
             "ticks": ""
            },
            "colorscale": [
             [
              0,
              "#0d0887"
             ],
             [
              0.1111111111111111,
              "#46039f"
             ],
             [
              0.2222222222222222,
              "#7201a8"
             ],
             [
              0.3333333333333333,
              "#9c179e"
             ],
             [
              0.4444444444444444,
              "#bd3786"
             ],
             [
              0.5555555555555556,
              "#d8576b"
             ],
             [
              0.6666666666666666,
              "#ed7953"
             ],
             [
              0.7777777777777778,
              "#fb9f3a"
             ],
             [
              0.8888888888888888,
              "#fdca26"
             ],
             [
              1,
              "#f0f921"
             ]
            ],
            "type": "contour"
           }
          ],
          "contourcarpet": [
           {
            "colorbar": {
             "outlinewidth": 0,
             "ticks": ""
            },
            "type": "contourcarpet"
           }
          ],
          "heatmap": [
           {
            "colorbar": {
             "outlinewidth": 0,
             "ticks": ""
            },
            "colorscale": [
             [
              0,
              "#0d0887"
             ],
             [
              0.1111111111111111,
              "#46039f"
             ],
             [
              0.2222222222222222,
              "#7201a8"
             ],
             [
              0.3333333333333333,
              "#9c179e"
             ],
             [
              0.4444444444444444,
              "#bd3786"
             ],
             [
              0.5555555555555556,
              "#d8576b"
             ],
             [
              0.6666666666666666,
              "#ed7953"
             ],
             [
              0.7777777777777778,
              "#fb9f3a"
             ],
             [
              0.8888888888888888,
              "#fdca26"
             ],
             [
              1,
              "#f0f921"
             ]
            ],
            "type": "heatmap"
           }
          ],
          "heatmapgl": [
           {
            "colorbar": {
             "outlinewidth": 0,
             "ticks": ""
            },
            "colorscale": [
             [
              0,
              "#0d0887"
             ],
             [
              0.1111111111111111,
              "#46039f"
             ],
             [
              0.2222222222222222,
              "#7201a8"
             ],
             [
              0.3333333333333333,
              "#9c179e"
             ],
             [
              0.4444444444444444,
              "#bd3786"
             ],
             [
              0.5555555555555556,
              "#d8576b"
             ],
             [
              0.6666666666666666,
              "#ed7953"
             ],
             [
              0.7777777777777778,
              "#fb9f3a"
             ],
             [
              0.8888888888888888,
              "#fdca26"
             ],
             [
              1,
              "#f0f921"
             ]
            ],
            "type": "heatmapgl"
           }
          ],
          "histogram": [
           {
            "marker": {
             "pattern": {
              "fillmode": "overlay",
              "size": 10,
              "solidity": 0.2
             }
            },
            "type": "histogram"
           }
          ],
          "histogram2d": [
           {
            "colorbar": {
             "outlinewidth": 0,
             "ticks": ""
            },
            "colorscale": [
             [
              0,
              "#0d0887"
             ],
             [
              0.1111111111111111,
              "#46039f"
             ],
             [
              0.2222222222222222,
              "#7201a8"
             ],
             [
              0.3333333333333333,
              "#9c179e"
             ],
             [
              0.4444444444444444,
              "#bd3786"
             ],
             [
              0.5555555555555556,
              "#d8576b"
             ],
             [
              0.6666666666666666,
              "#ed7953"
             ],
             [
              0.7777777777777778,
              "#fb9f3a"
             ],
             [
              0.8888888888888888,
              "#fdca26"
             ],
             [
              1,
              "#f0f921"
             ]
            ],
            "type": "histogram2d"
           }
          ],
          "histogram2dcontour": [
           {
            "colorbar": {
             "outlinewidth": 0,
             "ticks": ""
            },
            "colorscale": [
             [
              0,
              "#0d0887"
             ],
             [
              0.1111111111111111,
              "#46039f"
             ],
             [
              0.2222222222222222,
              "#7201a8"
             ],
             [
              0.3333333333333333,
              "#9c179e"
             ],
             [
              0.4444444444444444,
              "#bd3786"
             ],
             [
              0.5555555555555556,
              "#d8576b"
             ],
             [
              0.6666666666666666,
              "#ed7953"
             ],
             [
              0.7777777777777778,
              "#fb9f3a"
             ],
             [
              0.8888888888888888,
              "#fdca26"
             ],
             [
              1,
              "#f0f921"
             ]
            ],
            "type": "histogram2dcontour"
           }
          ],
          "mesh3d": [
           {
            "colorbar": {
             "outlinewidth": 0,
             "ticks": ""
            },
            "type": "mesh3d"
           }
          ],
          "parcoords": [
           {
            "line": {
             "colorbar": {
              "outlinewidth": 0,
              "ticks": ""
             }
            },
            "type": "parcoords"
           }
          ],
          "pie": [
           {
            "automargin": true,
            "type": "pie"
           }
          ],
          "scatter": [
           {
            "fillpattern": {
             "fillmode": "overlay",
             "size": 10,
             "solidity": 0.2
            },
            "type": "scatter"
           }
          ],
          "scatter3d": [
           {
            "line": {
             "colorbar": {
              "outlinewidth": 0,
              "ticks": ""
             }
            },
            "marker": {
             "colorbar": {
              "outlinewidth": 0,
              "ticks": ""
             }
            },
            "type": "scatter3d"
           }
          ],
          "scattercarpet": [
           {
            "marker": {
             "colorbar": {
              "outlinewidth": 0,
              "ticks": ""
             }
            },
            "type": "scattercarpet"
           }
          ],
          "scattergeo": [
           {
            "marker": {
             "colorbar": {
              "outlinewidth": 0,
              "ticks": ""
             }
            },
            "type": "scattergeo"
           }
          ],
          "scattergl": [
           {
            "marker": {
             "colorbar": {
              "outlinewidth": 0,
              "ticks": ""
             }
            },
            "type": "scattergl"
           }
          ],
          "scattermapbox": [
           {
            "marker": {
             "colorbar": {
              "outlinewidth": 0,
              "ticks": ""
             }
            },
            "type": "scattermapbox"
           }
          ],
          "scatterpolar": [
           {
            "marker": {
             "colorbar": {
              "outlinewidth": 0,
              "ticks": ""
             }
            },
            "type": "scatterpolar"
           }
          ],
          "scatterpolargl": [
           {
            "marker": {
             "colorbar": {
              "outlinewidth": 0,
              "ticks": ""
             }
            },
            "type": "scatterpolargl"
           }
          ],
          "scatterternary": [
           {
            "marker": {
             "colorbar": {
              "outlinewidth": 0,
              "ticks": ""
             }
            },
            "type": "scatterternary"
           }
          ],
          "surface": [
           {
            "colorbar": {
             "outlinewidth": 0,
             "ticks": ""
            },
            "colorscale": [
             [
              0,
              "#0d0887"
             ],
             [
              0.1111111111111111,
              "#46039f"
             ],
             [
              0.2222222222222222,
              "#7201a8"
             ],
             [
              0.3333333333333333,
              "#9c179e"
             ],
             [
              0.4444444444444444,
              "#bd3786"
             ],
             [
              0.5555555555555556,
              "#d8576b"
             ],
             [
              0.6666666666666666,
              "#ed7953"
             ],
             [
              0.7777777777777778,
              "#fb9f3a"
             ],
             [
              0.8888888888888888,
              "#fdca26"
             ],
             [
              1,
              "#f0f921"
             ]
            ],
            "type": "surface"
           }
          ],
          "table": [
           {
            "cells": {
             "fill": {
              "color": "#EBF0F8"
             },
             "line": {
              "color": "white"
             }
            },
            "header": {
             "fill": {
              "color": "#C8D4E3"
             },
             "line": {
              "color": "white"
             }
            },
            "type": "table"
           }
          ]
         },
         "layout": {
          "annotationdefaults": {
           "arrowcolor": "#2a3f5f",
           "arrowhead": 0,
           "arrowwidth": 1
          },
          "autotypenumbers": "strict",
          "coloraxis": {
           "colorbar": {
            "outlinewidth": 0,
            "ticks": ""
           }
          },
          "colorscale": {
           "diverging": [
            [
             0,
             "#8e0152"
            ],
            [
             0.1,
             "#c51b7d"
            ],
            [
             0.2,
             "#de77ae"
            ],
            [
             0.3,
             "#f1b6da"
            ],
            [
             0.4,
             "#fde0ef"
            ],
            [
             0.5,
             "#f7f7f7"
            ],
            [
             0.6,
             "#e6f5d0"
            ],
            [
             0.7,
             "#b8e186"
            ],
            [
             0.8,
             "#7fbc41"
            ],
            [
             0.9,
             "#4d9221"
            ],
            [
             1,
             "#276419"
            ]
           ],
           "sequential": [
            [
             0,
             "#0d0887"
            ],
            [
             0.1111111111111111,
             "#46039f"
            ],
            [
             0.2222222222222222,
             "#7201a8"
            ],
            [
             0.3333333333333333,
             "#9c179e"
            ],
            [
             0.4444444444444444,
             "#bd3786"
            ],
            [
             0.5555555555555556,
             "#d8576b"
            ],
            [
             0.6666666666666666,
             "#ed7953"
            ],
            [
             0.7777777777777778,
             "#fb9f3a"
            ],
            [
             0.8888888888888888,
             "#fdca26"
            ],
            [
             1,
             "#f0f921"
            ]
           ],
           "sequentialminus": [
            [
             0,
             "#0d0887"
            ],
            [
             0.1111111111111111,
             "#46039f"
            ],
            [
             0.2222222222222222,
             "#7201a8"
            ],
            [
             0.3333333333333333,
             "#9c179e"
            ],
            [
             0.4444444444444444,
             "#bd3786"
            ],
            [
             0.5555555555555556,
             "#d8576b"
            ],
            [
             0.6666666666666666,
             "#ed7953"
            ],
            [
             0.7777777777777778,
             "#fb9f3a"
            ],
            [
             0.8888888888888888,
             "#fdca26"
            ],
            [
             1,
             "#f0f921"
            ]
           ]
          },
          "colorway": [
           "#636efa",
           "#EF553B",
           "#00cc96",
           "#ab63fa",
           "#FFA15A",
           "#19d3f3",
           "#FF6692",
           "#B6E880",
           "#FF97FF",
           "#FECB52"
          ],
          "font": {
           "color": "#2a3f5f"
          },
          "geo": {
           "bgcolor": "white",
           "lakecolor": "white",
           "landcolor": "#E5ECF6",
           "showlakes": true,
           "showland": true,
           "subunitcolor": "white"
          },
          "hoverlabel": {
           "align": "left"
          },
          "hovermode": "closest",
          "mapbox": {
           "style": "light"
          },
          "paper_bgcolor": "white",
          "plot_bgcolor": "#E5ECF6",
          "polar": {
           "angularaxis": {
            "gridcolor": "white",
            "linecolor": "white",
            "ticks": ""
           },
           "bgcolor": "#E5ECF6",
           "radialaxis": {
            "gridcolor": "white",
            "linecolor": "white",
            "ticks": ""
           }
          },
          "scene": {
           "xaxis": {
            "backgroundcolor": "#E5ECF6",
            "gridcolor": "white",
            "gridwidth": 2,
            "linecolor": "white",
            "showbackground": true,
            "ticks": "",
            "zerolinecolor": "white"
           },
           "yaxis": {
            "backgroundcolor": "#E5ECF6",
            "gridcolor": "white",
            "gridwidth": 2,
            "linecolor": "white",
            "showbackground": true,
            "ticks": "",
            "zerolinecolor": "white"
           },
           "zaxis": {
            "backgroundcolor": "#E5ECF6",
            "gridcolor": "white",
            "gridwidth": 2,
            "linecolor": "white",
            "showbackground": true,
            "ticks": "",
            "zerolinecolor": "white"
           }
          },
          "shapedefaults": {
           "line": {
            "color": "#2a3f5f"
           }
          },
          "ternary": {
           "aaxis": {
            "gridcolor": "white",
            "linecolor": "white",
            "ticks": ""
           },
           "baxis": {
            "gridcolor": "white",
            "linecolor": "white",
            "ticks": ""
           },
           "bgcolor": "#E5ECF6",
           "caxis": {
            "gridcolor": "white",
            "linecolor": "white",
            "ticks": ""
           }
          },
          "title": {
           "x": 0.05
          },
          "xaxis": {
           "automargin": true,
           "gridcolor": "white",
           "linecolor": "white",
           "ticks": "",
           "title": {
            "standoff": 15
           },
           "zerolinecolor": "white",
           "zerolinewidth": 2
          },
          "yaxis": {
           "automargin": true,
           "gridcolor": "white",
           "linecolor": "white",
           "ticks": "",
           "title": {
            "standoff": 15
           },
           "zerolinecolor": "white",
           "zerolinewidth": 2
          }
         }
        },
        "title": {
         "text": "Jaccard Similarity for pythia-410m"
        },
        "xaxis": {
         "anchor": "y",
         "domain": [
          0,
          1
         ],
         "title": {
          "font": {
           "size": 16
          },
          "text": "Training Checkpoint"
         },
         "type": "log"
        },
        "yaxis": {
         "anchor": "x",
         "domain": [
          0,
          1
         ],
         "range": [
          0,
          1
         ],
         "title": {
          "font": {
           "size": 16
          },
          "text": "Jaccard Similarity"
         }
        },
        "yaxis2": {
         "overlaying": "y",
         "range": [
          0,
          6
         ],
         "showgrid": false,
         "side": "right",
         "title": {
          "font": {
           "size": 16
          },
          "text": "Logit Diff"
         }
        }
       }
      },
      "text/html": [
       "<div>                            <div id=\"5e8406f2-696b-4932-9f9e-6330ffa3b0ae\" class=\"plotly-graph-div\" style=\"height:525px; width:100%;\"></div>            <script type=\"text/javascript\">                require([\"plotly\"], function(Plotly) {                    window.PLOTLYENV=window.PLOTLYENV || {};                                    if (document.getElementById(\"5e8406f2-696b-4932-9f9e-6330ffa3b0ae\")) {                    Plotly.newPlot(                        \"5e8406f2-696b-4932-9f9e-6330ffa3b0ae\",                        [{\"hovertemplate\":\"variable=Jaccard Sim\\u003cbr\\u003echeckpoint_2=%{x}\\u003cbr\\u003evalue=%{y}\\u003cextra\\u003e\\u003c\\u002fextra\\u003e\",\"legendgroup\":\"Jaccard Sim\",\"line\":{\"color\":\"#636efa\",\"dash\":\"solid\"},\"marker\":{\"symbol\":\"circle\"},\"mode\":\"lines\",\"name\":\"Jaccard Sim\",\"orientation\":\"v\",\"showlegend\":true,\"x\":[4000,5000,6000,7000,8000,9000,10000,11000,12000,13000,14000,15000,16000,17000,18000,19000,20000,21000,22000,23000,24000,25000,26000,27000,28000,29000,30000,31000,32000,33000,34000,35000,36000,37000,38000,39000,40000,41000,42000,43000,44000,45000,46000,47000,48000,49000,50000,51000,52000,53000,54000,55000,56000,57000,58000,59000,60000,61000,62000,63000,64000,65000,66000,67000,68000,69000,70000,71000,72000,73000,74000,75000,76000,77000,78000,79000,80000,81000,82000,83000,84000,85000,86000,87000,88000,89000,90000,91000,92000,93000,94000,95000,96000,97000,98000,99000,100000,101000,102000,103000,104000,105000,106000,107000,108000,109000,110000,111000,112000,113000,114000,115000,116000,117000,118000,119000,120000,121000,122000,123000,124000,125000,126000,127000,128000,129000,130000,131000,132000,133000,134000,135000,136000,137000,138000,139000,140000,141000,142000,143000],\"xaxis\":\"x\",\"y\":[0.46142513832788135,0.6076123503721147,0.7683250069497083,0.7993190014926501,0.7749721322437305,0.7637159070111529,0.8170781140903475,0.8588457210203996,0.8276168712898135,0.8159713826195875,0.8436300332030104,0.7237288367622918,0.8129490670062971,0.7865884571553804,0.6697209428544959,0.875678699223471,0.8442152904620011,0.8413311703017327,0.6363578943470836,0.6949006776717228,0.8357930907417568,0.7873970691782333,0.8402717659431099,0.8529401936313599,0.8174987172190403,0.8562838871190086,0.8001464290687809,0.7741928882240899,0.7296769769284217,0.7241500435182558,0.8476308094180033,0.8648149377238308,0.8178416385997038,0.8026082796855823,0.673245904845735,0.7740346546445609,0.8366370286428588,0.6828625965695254,0.7089367066410358,0.8484176324810137,0.8275762695653153,0.5523647347569898,0.6785559565258101,0.7131449124439752,0.6174871306432146,0.5275378220412301,0.761378019082553,0.6086827275633078,0.8453915522046972,0.5714587679636836,0.5997093806517501,0.8577194423972091,0.6250636109253064,0.6248665308782688,0.8691820989468968,0.5649650134688758,0.5675592957733884,0.8658771552794421,0.6092836401963826,0.585355722851222,0.8626803717646335,0.8546593000218893,0.8594697229209985,0.8585645007464465,0.8565142846675179,0.809932121760784,0.8432406344082458,0.8020569810022229,0.8210778089815937,0.8768536958530644,0.8668509520668443,0.8719852877834627,0.8127632086285622,0.8169620205738877,0.9006941466214693,0.8513893553171438,0.8328905979223737,0.8646334596690568,0.8489095088450147,0.8676758111350052,0.8683900022830944,0.8852929362634188,0.8354476395967488,0.8480947867955563,0.8451144606518088,0.876544058922515,0.8394334542424347,0.8584639257646439,0.8703557007423616,0.8362618765237576,0.8411831962949623,0.8826832196105214,0.804821011748231,0.8716119335295642,0.8785557205050405,0.86852501601533,0.8950355287852236,0.8876205186727905,0.8818285024516809,0.7836007084641975,0.8209602980013373,0.9150300309305212,0.913546963566699,0.8926924048117569,0.8681422453069395,0.8840347415758599,0.9114965878395319,0.8928527325580331,0.8678472579605062,0.8695239415525793,0.8786328689651703,0.8821426852221232,0.8778654306668069,0.8551703968801303,0.8488862772476694,0.898214474271814,0.8726691283485745,0.8901655883075873,0.8840928281906913,0.8651712975328866,0.9043197604778201,0.8883454325610758,0.8893865012401726,0.8943411313016657,0.9005256131085922,0.908968512188267,0.88845734631551,0.8560148985187334,0.8951232675637303,0.8962899031183573,0.8837970827827349,0.9060513683021632,0.8938359464188234,0.8946276772036917,0.9014268469848681,0.8979944515151111,0.8760992970585562,0.8433440068064613,0.863044912151963,0.8934946811502559],\"yaxis\":\"y\",\"type\":\"scatter\"},{\"line\":{\"color\":\"gray\",\"dash\":\"dot\",\"width\":2},\"mode\":\"lines\",\"name\":\"Logit Diff\",\"x\":[4000,5000,6000,7000,8000,9000,10000,11000,12000,13000,14000,15000,16000,17000,18000,19000,20000,21000,22000,23000,24000,25000,26000,27000,28000,29000,30000,31000,32000,33000,34000,35000,36000,37000,38000,39000,40000,41000,42000,43000,44000,45000,46000,47000,48000,49000,50000,51000,52000,53000,54000,55000,56000,57000,58000,59000,60000,61000,62000,63000,64000,65000,66000,67000,68000,69000,70000,71000,72000,73000,74000,75000,76000,77000,78000,79000,80000,81000,82000,83000,84000,85000,86000,87000,88000,89000,90000,91000,92000,93000,94000,95000,96000,97000,98000,99000,100000,101000,102000,103000,104000,105000,106000,107000,108000,109000,110000,111000,112000,113000,114000,115000,116000,117000,118000,119000,120000,121000,122000,123000,124000,125000,126000,127000,128000,129000,130000,131000,132000,133000,134000,135000,136000,137000,138000,139000,140000,141000,142000,143000],\"y\":[1.8091895580291748,3.284644842147827,4.488880157470703,3.800635576248169,4.6040778160095215,3.803982973098755,4.212908744812012,3.9969871044158936,3.9436161518096924,3.8937957286834717,3.193147897720337,3.7413523197174072,3.8434049606323244,3.945457601547241,4.047510242462158,4.149562883377075,4.251615524291992,4.138780212402343,4.0259449005126955,3.9131095886230467,3.8002742767333983,3.68743896484375,3.6378165245056153,3.5881940841674806,3.5385716438293455,3.488949203491211,3.439326763153076,3.497391700744629,3.5554566383361816,3.6135215759277344,3.671586513519287,3.72965145111084,3.776348829269409,3.8230462074279785,3.869743585586548,3.916440963745117,3.9631383419036865,3.925833988189697,3.888529634475708,3.8512252807617187,3.8139209270477297,3.7766165733337402,3.8386295318603514,3.900642490386963,3.962655448913574,4.024668407440186,4.086681365966797,4.049734163284302,4.012786960601806,3.9758397579193114,3.9388925552368166,3.9019453525543213,3.8799148082733153,3.8578842639923097,3.8358537197113036,3.813823175430298,3.791792631149292,3.8062237739562987,3.8206549167633055,3.8350860595703127,3.8495172023773194,3.863948345184326,3.7297369956970217,3.5955256462097167,3.461314296722412,3.3271029472351072,3.1928915977478027,3.27441029548645,3.3559289932250977,3.437447690963745,3.5189663887023928,3.60048508644104,3.6820037841796873,3.763522481918335,3.8450411796569823,3.92655987739563,4.008078575134277,3.937114191055298,3.8661498069763183,3.795185422897339,3.724221038818359,3.65325665473938,3.5822922706604006,3.511327886581421,3.4403635025024415,3.3693991184234617,3.2984347343444824,3.3432880878448485,3.3881414413452147,3.4329947948455812,3.4778481483459474,3.5227015018463135,3.5675548553466796,3.6124082088470457,3.6572615623474123,3.7021149158477784,3.7469682693481445,3.7607115507125854,3.7744548320770264,3.7881981134414673,3.801941394805908,3.815684676170349,3.82942795753479,3.843171238899231,3.856914520263672,3.870657801628113,3.8844010829925537,3.8523802280426027,3.8203593730926513,3.7883385181427003,3.756317663192749,3.724296808242798,3.692275953292847,3.6602550983428954,3.6282342433929444,3.596213388442993,3.564192533493042,3.5834166288375853,3.602640724182129,3.6218648195266723,3.641088914871216,3.6603130102157593,3.6795371055603026,3.6987612009048463,3.7179852962493896,3.7372093915939333,3.7564334869384766,3.7487784147262575,3.741123342514038,3.733468270301819,3.7258131980895994,3.7181581258773804,3.7105030536651613,3.702847981452942,3.6951929092407227,3.6875378370285032,3.679882764816284,3.679882764816284,3.679882764816284,3.679882764816284],\"yaxis\":\"y2\",\"type\":\"scatter\"}],                        {\"template\":{\"data\":{\"histogram2dcontour\":[{\"type\":\"histogram2dcontour\",\"colorbar\":{\"outlinewidth\":0,\"ticks\":\"\"},\"colorscale\":[[0.0,\"#0d0887\"],[0.1111111111111111,\"#46039f\"],[0.2222222222222222,\"#7201a8\"],[0.3333333333333333,\"#9c179e\"],[0.4444444444444444,\"#bd3786\"],[0.5555555555555556,\"#d8576b\"],[0.6666666666666666,\"#ed7953\"],[0.7777777777777778,\"#fb9f3a\"],[0.8888888888888888,\"#fdca26\"],[1.0,\"#f0f921\"]]}],\"choropleth\":[{\"type\":\"choropleth\",\"colorbar\":{\"outlinewidth\":0,\"ticks\":\"\"}}],\"histogram2d\":[{\"type\":\"histogram2d\",\"colorbar\":{\"outlinewidth\":0,\"ticks\":\"\"},\"colorscale\":[[0.0,\"#0d0887\"],[0.1111111111111111,\"#46039f\"],[0.2222222222222222,\"#7201a8\"],[0.3333333333333333,\"#9c179e\"],[0.4444444444444444,\"#bd3786\"],[0.5555555555555556,\"#d8576b\"],[0.6666666666666666,\"#ed7953\"],[0.7777777777777778,\"#fb9f3a\"],[0.8888888888888888,\"#fdca26\"],[1.0,\"#f0f921\"]]}],\"heatmap\":[{\"type\":\"heatmap\",\"colorbar\":{\"outlinewidth\":0,\"ticks\":\"\"},\"colorscale\":[[0.0,\"#0d0887\"],[0.1111111111111111,\"#46039f\"],[0.2222222222222222,\"#7201a8\"],[0.3333333333333333,\"#9c179e\"],[0.4444444444444444,\"#bd3786\"],[0.5555555555555556,\"#d8576b\"],[0.6666666666666666,\"#ed7953\"],[0.7777777777777778,\"#fb9f3a\"],[0.8888888888888888,\"#fdca26\"],[1.0,\"#f0f921\"]]}],\"heatmapgl\":[{\"type\":\"heatmapgl\",\"colorbar\":{\"outlinewidth\":0,\"ticks\":\"\"},\"colorscale\":[[0.0,\"#0d0887\"],[0.1111111111111111,\"#46039f\"],[0.2222222222222222,\"#7201a8\"],[0.3333333333333333,\"#9c179e\"],[0.4444444444444444,\"#bd3786\"],[0.5555555555555556,\"#d8576b\"],[0.6666666666666666,\"#ed7953\"],[0.7777777777777778,\"#fb9f3a\"],[0.8888888888888888,\"#fdca26\"],[1.0,\"#f0f921\"]]}],\"contourcarpet\":[{\"type\":\"contourcarpet\",\"colorbar\":{\"outlinewidth\":0,\"ticks\":\"\"}}],\"contour\":[{\"type\":\"contour\",\"colorbar\":{\"outlinewidth\":0,\"ticks\":\"\"},\"colorscale\":[[0.0,\"#0d0887\"],[0.1111111111111111,\"#46039f\"],[0.2222222222222222,\"#7201a8\"],[0.3333333333333333,\"#9c179e\"],[0.4444444444444444,\"#bd3786\"],[0.5555555555555556,\"#d8576b\"],[0.6666666666666666,\"#ed7953\"],[0.7777777777777778,\"#fb9f3a\"],[0.8888888888888888,\"#fdca26\"],[1.0,\"#f0f921\"]]}],\"surface\":[{\"type\":\"surface\",\"colorbar\":{\"outlinewidth\":0,\"ticks\":\"\"},\"colorscale\":[[0.0,\"#0d0887\"],[0.1111111111111111,\"#46039f\"],[0.2222222222222222,\"#7201a8\"],[0.3333333333333333,\"#9c179e\"],[0.4444444444444444,\"#bd3786\"],[0.5555555555555556,\"#d8576b\"],[0.6666666666666666,\"#ed7953\"],[0.7777777777777778,\"#fb9f3a\"],[0.8888888888888888,\"#fdca26\"],[1.0,\"#f0f921\"]]}],\"mesh3d\":[{\"type\":\"mesh3d\",\"colorbar\":{\"outlinewidth\":0,\"ticks\":\"\"}}],\"scatter\":[{\"fillpattern\":{\"fillmode\":\"overlay\",\"size\":10,\"solidity\":0.2},\"type\":\"scatter\"}],\"parcoords\":[{\"type\":\"parcoords\",\"line\":{\"colorbar\":{\"outlinewidth\":0,\"ticks\":\"\"}}}],\"scatterpolargl\":[{\"type\":\"scatterpolargl\",\"marker\":{\"colorbar\":{\"outlinewidth\":0,\"ticks\":\"\"}}}],\"bar\":[{\"error_x\":{\"color\":\"#2a3f5f\"},\"error_y\":{\"color\":\"#2a3f5f\"},\"marker\":{\"line\":{\"color\":\"#E5ECF6\",\"width\":0.5},\"pattern\":{\"fillmode\":\"overlay\",\"size\":10,\"solidity\":0.2}},\"type\":\"bar\"}],\"scattergeo\":[{\"type\":\"scattergeo\",\"marker\":{\"colorbar\":{\"outlinewidth\":0,\"ticks\":\"\"}}}],\"scatterpolar\":[{\"type\":\"scatterpolar\",\"marker\":{\"colorbar\":{\"outlinewidth\":0,\"ticks\":\"\"}}}],\"histogram\":[{\"marker\":{\"pattern\":{\"fillmode\":\"overlay\",\"size\":10,\"solidity\":0.2}},\"type\":\"histogram\"}],\"scattergl\":[{\"type\":\"scattergl\",\"marker\":{\"colorbar\":{\"outlinewidth\":0,\"ticks\":\"\"}}}],\"scatter3d\":[{\"type\":\"scatter3d\",\"line\":{\"colorbar\":{\"outlinewidth\":0,\"ticks\":\"\"}},\"marker\":{\"colorbar\":{\"outlinewidth\":0,\"ticks\":\"\"}}}],\"scattermapbox\":[{\"type\":\"scattermapbox\",\"marker\":{\"colorbar\":{\"outlinewidth\":0,\"ticks\":\"\"}}}],\"scatterternary\":[{\"type\":\"scatterternary\",\"marker\":{\"colorbar\":{\"outlinewidth\":0,\"ticks\":\"\"}}}],\"scattercarpet\":[{\"type\":\"scattercarpet\",\"marker\":{\"colorbar\":{\"outlinewidth\":0,\"ticks\":\"\"}}}],\"carpet\":[{\"aaxis\":{\"endlinecolor\":\"#2a3f5f\",\"gridcolor\":\"white\",\"linecolor\":\"white\",\"minorgridcolor\":\"white\",\"startlinecolor\":\"#2a3f5f\"},\"baxis\":{\"endlinecolor\":\"#2a3f5f\",\"gridcolor\":\"white\",\"linecolor\":\"white\",\"minorgridcolor\":\"white\",\"startlinecolor\":\"#2a3f5f\"},\"type\":\"carpet\"}],\"table\":[{\"cells\":{\"fill\":{\"color\":\"#EBF0F8\"},\"line\":{\"color\":\"white\"}},\"header\":{\"fill\":{\"color\":\"#C8D4E3\"},\"line\":{\"color\":\"white\"}},\"type\":\"table\"}],\"barpolar\":[{\"marker\":{\"line\":{\"color\":\"#E5ECF6\",\"width\":0.5},\"pattern\":{\"fillmode\":\"overlay\",\"size\":10,\"solidity\":0.2}},\"type\":\"barpolar\"}],\"pie\":[{\"automargin\":true,\"type\":\"pie\"}]},\"layout\":{\"autotypenumbers\":\"strict\",\"colorway\":[\"#636efa\",\"#EF553B\",\"#00cc96\",\"#ab63fa\",\"#FFA15A\",\"#19d3f3\",\"#FF6692\",\"#B6E880\",\"#FF97FF\",\"#FECB52\"],\"font\":{\"color\":\"#2a3f5f\"},\"hovermode\":\"closest\",\"hoverlabel\":{\"align\":\"left\"},\"paper_bgcolor\":\"white\",\"plot_bgcolor\":\"#E5ECF6\",\"polar\":{\"bgcolor\":\"#E5ECF6\",\"angularaxis\":{\"gridcolor\":\"white\",\"linecolor\":\"white\",\"ticks\":\"\"},\"radialaxis\":{\"gridcolor\":\"white\",\"linecolor\":\"white\",\"ticks\":\"\"}},\"ternary\":{\"bgcolor\":\"#E5ECF6\",\"aaxis\":{\"gridcolor\":\"white\",\"linecolor\":\"white\",\"ticks\":\"\"},\"baxis\":{\"gridcolor\":\"white\",\"linecolor\":\"white\",\"ticks\":\"\"},\"caxis\":{\"gridcolor\":\"white\",\"linecolor\":\"white\",\"ticks\":\"\"}},\"coloraxis\":{\"colorbar\":{\"outlinewidth\":0,\"ticks\":\"\"}},\"colorscale\":{\"sequential\":[[0.0,\"#0d0887\"],[0.1111111111111111,\"#46039f\"],[0.2222222222222222,\"#7201a8\"],[0.3333333333333333,\"#9c179e\"],[0.4444444444444444,\"#bd3786\"],[0.5555555555555556,\"#d8576b\"],[0.6666666666666666,\"#ed7953\"],[0.7777777777777778,\"#fb9f3a\"],[0.8888888888888888,\"#fdca26\"],[1.0,\"#f0f921\"]],\"sequentialminus\":[[0.0,\"#0d0887\"],[0.1111111111111111,\"#46039f\"],[0.2222222222222222,\"#7201a8\"],[0.3333333333333333,\"#9c179e\"],[0.4444444444444444,\"#bd3786\"],[0.5555555555555556,\"#d8576b\"],[0.6666666666666666,\"#ed7953\"],[0.7777777777777778,\"#fb9f3a\"],[0.8888888888888888,\"#fdca26\"],[1.0,\"#f0f921\"]],\"diverging\":[[0,\"#8e0152\"],[0.1,\"#c51b7d\"],[0.2,\"#de77ae\"],[0.3,\"#f1b6da\"],[0.4,\"#fde0ef\"],[0.5,\"#f7f7f7\"],[0.6,\"#e6f5d0\"],[0.7,\"#b8e186\"],[0.8,\"#7fbc41\"],[0.9,\"#4d9221\"],[1,\"#276419\"]]},\"xaxis\":{\"gridcolor\":\"white\",\"linecolor\":\"white\",\"ticks\":\"\",\"title\":{\"standoff\":15},\"zerolinecolor\":\"white\",\"automargin\":true,\"zerolinewidth\":2},\"yaxis\":{\"gridcolor\":\"white\",\"linecolor\":\"white\",\"ticks\":\"\",\"title\":{\"standoff\":15},\"zerolinecolor\":\"white\",\"automargin\":true,\"zerolinewidth\":2},\"scene\":{\"xaxis\":{\"backgroundcolor\":\"#E5ECF6\",\"gridcolor\":\"white\",\"linecolor\":\"white\",\"showbackground\":true,\"ticks\":\"\",\"zerolinecolor\":\"white\",\"gridwidth\":2},\"yaxis\":{\"backgroundcolor\":\"#E5ECF6\",\"gridcolor\":\"white\",\"linecolor\":\"white\",\"showbackground\":true,\"ticks\":\"\",\"zerolinecolor\":\"white\",\"gridwidth\":2},\"zaxis\":{\"backgroundcolor\":\"#E5ECF6\",\"gridcolor\":\"white\",\"linecolor\":\"white\",\"showbackground\":true,\"ticks\":\"\",\"zerolinecolor\":\"white\",\"gridwidth\":2}},\"shapedefaults\":{\"line\":{\"color\":\"#2a3f5f\"}},\"annotationdefaults\":{\"arrowcolor\":\"#2a3f5f\",\"arrowhead\":0,\"arrowwidth\":1},\"geo\":{\"bgcolor\":\"white\",\"landcolor\":\"#E5ECF6\",\"subunitcolor\":\"white\",\"showland\":true,\"showlakes\":true,\"lakecolor\":\"white\"},\"title\":{\"x\":0.05},\"mapbox\":{\"style\":\"light\"}}},\"xaxis\":{\"anchor\":\"y\",\"domain\":[0.0,1.0],\"title\":{\"text\":\"Training Checkpoint\",\"font\":{\"size\":16}},\"type\":\"log\"},\"yaxis\":{\"anchor\":\"x\",\"domain\":[0.0,1.0],\"title\":{\"text\":\"Jaccard Similarity\",\"font\":{\"size\":16}},\"range\":[0,1]},\"legend\":{\"title\":{\"text\":\"Metrics\"},\"tracegroupgap\":0,\"font\":{\"size\":16}},\"title\":{\"text\":\"Jaccard Similarity for pythia-410m\"},\"yaxis2\":{\"title\":{\"text\":\"Logit Diff\",\"font\":{\"size\":16}},\"range\":[0,6],\"overlaying\":\"y\",\"side\":\"right\",\"showgrid\":false}},                        {\"responsive\": true}                    ).then(function(){\n",
       "                            \n",
       "var gd = document.getElementById('5e8406f2-696b-4932-9f9e-6330ffa3b0ae');\n",
       "var x = new MutationObserver(function (mutations, observer) {{\n",
       "        var display = window.getComputedStyle(gd).display;\n",
       "        if (!display || display === 'none') {{\n",
       "            console.log([gd, 'removed!']);\n",
       "            Plotly.purge(gd);\n",
       "            observer.disconnect();\n",
       "        }}\n",
       "}});\n",
       "\n",
       "// Listen for the removal of the full notebook cells\n",
       "var notebookContainer = gd.closest('#notebook-container');\n",
       "if (notebookContainer) {{\n",
       "    x.observe(notebookContainer, {childList: true});\n",
       "}}\n",
       "\n",
       "// Listen for the clearing of the current output cell\n",
       "var outputEl = gd.closest('.output');\n",
       "if (outputEl) {{\n",
       "    x.observe(outputEl, {childList: true});\n",
       "}}\n",
       "\n",
       "                        })                };                });            </script>        </div>"
      ]
     },
     "metadata": {},
     "output_type": "display_data"
    }
   ],
   "source": [
    "weighted_jaccard_results = compute_weighted_jaccard_similarity(in_circuit_df)\n",
    "plot_graph_metric(\n",
    "    weighted_jaccard_results, \n",
    "    'jaccard_similarity', \n",
    "    perf_metric_dict, \n",
    "    f'Jaccard Similarity for {MODEL_NAME}', \n",
    "    y_ranges=((0, 1), (0, 6)), \n",
    "    left_y_title=\"Jaccard Similarity\", \n",
    "    x_axis_col='checkpoint_2', \n",
    "    log_x=True,\n",
    "    metric_legend_name=\"Jaccard Sim\",\n",
    "    output_path = OUTPUT_DIR\n",
    ")"
   ]
  },
  {
   "cell_type": "code",
   "execution_count": 177,
   "metadata": {},
   "outputs": [
    {
     "data": {
      "application/vnd.plotly.v1+json": {
       "config": {
        "plotlyServerURL": "https://plotly.com"
       },
       "data": [
        {
         "hovertemplate": "variable=Jaccard Sim<br>checkpoint=%{x}<br>value=%{y}<extra></extra>",
         "legendgroup": "Jaccard Sim",
         "line": {
          "color": "#636efa",
          "dash": "solid"
         },
         "marker": {
          "symbol": "circle"
         },
         "mode": "lines",
         "name": "Jaccard Sim",
         "orientation": "v",
         "showlegend": true,
         "type": "scatter",
         "x": [
          3000,
          4000,
          5000,
          6000,
          7000,
          8000,
          9000,
          10000,
          11000,
          12000,
          13000,
          14000,
          15000,
          16000,
          17000,
          18000,
          19000,
          20000,
          21000,
          22000,
          23000,
          24000,
          25000,
          26000,
          27000,
          28000,
          29000,
          30000,
          31000,
          32000,
          33000,
          34000,
          35000,
          36000,
          37000,
          38000,
          39000,
          40000,
          41000,
          42000,
          43000,
          44000,
          45000,
          46000,
          47000,
          48000,
          49000,
          50000,
          51000,
          52000,
          53000,
          54000,
          55000,
          56000,
          57000,
          58000,
          59000,
          60000,
          61000,
          62000,
          63000,
          64000,
          65000,
          66000,
          67000,
          68000,
          69000,
          70000,
          71000,
          72000,
          73000,
          74000,
          75000,
          76000,
          77000,
          78000,
          79000,
          80000,
          81000,
          82000,
          83000,
          84000,
          85000,
          86000,
          87000,
          88000,
          89000,
          90000,
          91000,
          92000,
          93000,
          94000,
          95000,
          96000,
          97000,
          98000,
          99000,
          100000,
          101000,
          102000,
          103000,
          104000,
          105000,
          106000,
          107000,
          108000,
          109000,
          110000,
          111000,
          112000,
          113000,
          114000,
          115000,
          116000,
          117000,
          118000,
          119000,
          120000,
          121000,
          122000,
          123000,
          124000,
          125000,
          126000,
          127000,
          128000,
          129000,
          130000,
          131000,
          132000,
          133000,
          134000,
          135000,
          136000,
          137000,
          138000,
          139000,
          140000,
          141000,
          142000,
          143000
         ],
         "xaxis": "x",
         "y": [
          0.3161800217895104,
          0.6076123503721147,
          1,
          0.7683250069497083,
          0.7178366075920846,
          0.617184889270703,
          0.5731775846836272,
          0.524378614496287,
          0.497717516771552,
          0.5124578301154442,
          0.4641467696036765,
          0.43518849649679603,
          0.43014416250735865,
          0.4178375033324681,
          0.37756743692762,
          0.3886683074371433,
          0.3941301900265825,
          0.37204060102895903,
          0.3564846253616606,
          0.3381635919033078,
          0.3584544305704654,
          0.34580146015752683,
          0.36329890438885964,
          0.33139687689055525,
          0.34256791343326476,
          0.3343653923228689,
          0.3118240948960818,
          0.33261887227973513,
          0.30849799638907915,
          0.292105908143238,
          0.3211031981768765,
          0.3226537862544746,
          0.3128592574925942,
          0.28424906593824456,
          0.29422126899823925,
          0.2843455300293616,
          0.27546521467522944,
          0.2809360881806001,
          0.29126902174220365,
          0.3184820523718687,
          0.30652972182077964,
          0.28608880170593287,
          0.256575528906802,
          0.2868796437101261,
          0.2894714151217836,
          0.26478094567248023,
          0.3005164324122775,
          0.2967554921216501,
          0.26160888347351086,
          0.2585470898592888,
          0.2967382644344076,
          0.2611479025546178,
          0.2561694788448478,
          0.2821045706753007,
          0.2523412936329464,
          0.2509151481669295,
          0.2873053772990057,
          0.24886905732574927,
          0.24778327528844862,
          0.2740135017036665,
          0.2418884046267384,
          0.2494354651962215,
          0.25381626261163803,
          0.25104058763567955,
          0.24638015868802704,
          0.25317364556470046,
          0.2356150117232328,
          0.2401674150417153,
          0.23137746035494255,
          0.2461543765203029,
          0.2582476269921138,
          0.24603210374207363,
          0.24344697019776912,
          0.26056956805953624,
          0.2363123809358801,
          0.23789903623029146,
          0.2301829007620032,
          0.22714207799484645,
          0.22284785601310317,
          0.2342032996900707,
          0.22926881852645434,
          0.23092849799814882,
          0.23255776389279612,
          0.22007064553790118,
          0.22852969871411424,
          0.2196150578491971,
          0.22556634969860123,
          0.21237870263310538,
          0.21337507159307154,
          0.21333766172531285,
          0.2070441941550427,
          0.21894128991040504,
          0.21577363460843893,
          0.20664854341707195,
          0.20469403759830154,
          0.20704554361829755,
          0.2129779185225199,
          0.2080317880514205,
          0.20163555127176738,
          0.19773294462338284,
          0.2202606270083709,
          0.20186357285305667,
          0.20112897926498727,
          0.19925739361460756,
          0.21201593682709546,
          0.1984693804346936,
          0.20704703371781152,
          0.20165337545425005,
          0.20334278987708704,
          0.21550000496733526,
          0.20249029619803258,
          0.21006003748390029,
          0.2049063842955455,
          0.20942451376636886,
          0.21269416342208974,
          0.20302315444220165,
          0.21268622615154495,
          0.2216338382209401,
          0.20833670929383308,
          0.2082419917697737,
          0.21379726682061626,
          0.22177092745135848,
          0.21478757825860492,
          0.20690539049647128,
          0.20427012129644978,
          0.20878443106318217,
          0.21424311471036722,
          0.20340229760872425,
          0.18992483343986472,
          0.1911746607272374,
          0.19400837992704126,
          0.19106244161013455,
          0.1869857753335731,
          0.1943928843234692,
          0.19829963916580934,
          0.20599454389173474,
          0.19743767294852574,
          0.18898729339168427,
          0.20265667794669415,
          0.19259250025450705,
          0.1995083008190621
         ],
         "yaxis": "y"
        },
        {
         "line": {
          "color": "gray",
          "dash": "dot",
          "width": 2
         },
         "mode": "lines",
         "name": "Logit Diff",
         "type": "scatter",
         "x": [
          3000,
          4000,
          5000,
          6000,
          7000,
          8000,
          9000,
          10000,
          11000,
          12000,
          13000,
          14000,
          15000,
          16000,
          17000,
          18000,
          19000,
          20000,
          21000,
          22000,
          23000,
          24000,
          25000,
          26000,
          27000,
          28000,
          29000,
          30000,
          31000,
          32000,
          33000,
          34000,
          35000,
          36000,
          37000,
          38000,
          39000,
          40000,
          41000,
          42000,
          43000,
          44000,
          45000,
          46000,
          47000,
          48000,
          49000,
          50000,
          51000,
          52000,
          53000,
          54000,
          55000,
          56000,
          57000,
          58000,
          59000,
          60000,
          61000,
          62000,
          63000,
          64000,
          65000,
          66000,
          67000,
          68000,
          69000,
          70000,
          71000,
          72000,
          73000,
          74000,
          75000,
          76000,
          77000,
          78000,
          79000,
          80000,
          81000,
          82000,
          83000,
          84000,
          85000,
          86000,
          87000,
          88000,
          89000,
          90000,
          91000,
          92000,
          93000,
          94000,
          95000,
          96000,
          97000,
          98000,
          99000,
          100000,
          101000,
          102000,
          103000,
          104000,
          105000,
          106000,
          107000,
          108000,
          109000,
          110000,
          111000,
          112000,
          113000,
          114000,
          115000,
          116000,
          117000,
          118000,
          119000,
          120000,
          121000,
          122000,
          123000,
          124000,
          125000,
          126000,
          127000,
          128000,
          129000,
          130000,
          131000,
          132000,
          133000,
          134000,
          135000,
          136000,
          137000,
          138000,
          139000,
          140000,
          141000,
          142000,
          143000
         ],
         "y": [
          1.2984895706176758,
          1.8091895580291748,
          3.284644842147827,
          4.488880157470703,
          3.800635576248169,
          4.6040778160095215,
          3.803982973098755,
          4.212908744812012,
          3.9969871044158936,
          3.9436161518096924,
          3.8937957286834717,
          3.193147897720337,
          3.7413523197174072,
          3.8434049606323244,
          3.945457601547241,
          4.047510242462158,
          4.149562883377075,
          4.251615524291992,
          4.138780212402343,
          4.0259449005126955,
          3.9131095886230467,
          3.8002742767333983,
          3.68743896484375,
          3.6378165245056153,
          3.5881940841674806,
          3.5385716438293455,
          3.488949203491211,
          3.439326763153076,
          3.497391700744629,
          3.5554566383361816,
          3.6135215759277344,
          3.671586513519287,
          3.72965145111084,
          3.776348829269409,
          3.8230462074279785,
          3.869743585586548,
          3.916440963745117,
          3.9631383419036865,
          3.925833988189697,
          3.888529634475708,
          3.8512252807617187,
          3.8139209270477297,
          3.7766165733337402,
          3.8386295318603514,
          3.900642490386963,
          3.962655448913574,
          4.024668407440186,
          4.086681365966797,
          4.049734163284302,
          4.012786960601806,
          3.9758397579193114,
          3.9388925552368166,
          3.9019453525543213,
          3.8799148082733153,
          3.8578842639923097,
          3.8358537197113036,
          3.813823175430298,
          3.791792631149292,
          3.8062237739562987,
          3.8206549167633055,
          3.8350860595703127,
          3.8495172023773194,
          3.863948345184326,
          3.7297369956970217,
          3.5955256462097167,
          3.461314296722412,
          3.3271029472351072,
          3.1928915977478027,
          3.27441029548645,
          3.3559289932250977,
          3.437447690963745,
          3.5189663887023928,
          3.60048508644104,
          3.6820037841796873,
          3.763522481918335,
          3.8450411796569823,
          3.92655987739563,
          4.008078575134277,
          3.937114191055298,
          3.8661498069763183,
          3.795185422897339,
          3.724221038818359,
          3.65325665473938,
          3.5822922706604006,
          3.511327886581421,
          3.4403635025024415,
          3.3693991184234617,
          3.2984347343444824,
          3.3432880878448485,
          3.3881414413452147,
          3.4329947948455812,
          3.4778481483459474,
          3.5227015018463135,
          3.5675548553466796,
          3.6124082088470457,
          3.6572615623474123,
          3.7021149158477784,
          3.7469682693481445,
          3.7607115507125854,
          3.7744548320770264,
          3.7881981134414673,
          3.801941394805908,
          3.815684676170349,
          3.82942795753479,
          3.843171238899231,
          3.856914520263672,
          3.870657801628113,
          3.8844010829925537,
          3.8523802280426027,
          3.8203593730926513,
          3.7883385181427003,
          3.756317663192749,
          3.724296808242798,
          3.692275953292847,
          3.6602550983428954,
          3.6282342433929444,
          3.596213388442993,
          3.564192533493042,
          3.5834166288375853,
          3.602640724182129,
          3.6218648195266723,
          3.641088914871216,
          3.6603130102157593,
          3.6795371055603026,
          3.6987612009048463,
          3.7179852962493896,
          3.7372093915939333,
          3.7564334869384766,
          3.7487784147262575,
          3.741123342514038,
          3.733468270301819,
          3.7258131980895994,
          3.7181581258773804,
          3.7105030536651613,
          3.702847981452942,
          3.6951929092407227,
          3.6875378370285032,
          3.679882764816284,
          3.679882764816284,
          3.679882764816284,
          3.679882764816284
         ],
         "yaxis": "y2"
        }
       ],
       "layout": {
        "legend": {
         "font": {
          "size": 16
         },
         "title": {
          "text": "Metrics"
         },
         "tracegroupgap": 0
        },
        "template": {
         "data": {
          "bar": [
           {
            "error_x": {
             "color": "#2a3f5f"
            },
            "error_y": {
             "color": "#2a3f5f"
            },
            "marker": {
             "line": {
              "color": "#E5ECF6",
              "width": 0.5
             },
             "pattern": {
              "fillmode": "overlay",
              "size": 10,
              "solidity": 0.2
             }
            },
            "type": "bar"
           }
          ],
          "barpolar": [
           {
            "marker": {
             "line": {
              "color": "#E5ECF6",
              "width": 0.5
             },
             "pattern": {
              "fillmode": "overlay",
              "size": 10,
              "solidity": 0.2
             }
            },
            "type": "barpolar"
           }
          ],
          "carpet": [
           {
            "aaxis": {
             "endlinecolor": "#2a3f5f",
             "gridcolor": "white",
             "linecolor": "white",
             "minorgridcolor": "white",
             "startlinecolor": "#2a3f5f"
            },
            "baxis": {
             "endlinecolor": "#2a3f5f",
             "gridcolor": "white",
             "linecolor": "white",
             "minorgridcolor": "white",
             "startlinecolor": "#2a3f5f"
            },
            "type": "carpet"
           }
          ],
          "choropleth": [
           {
            "colorbar": {
             "outlinewidth": 0,
             "ticks": ""
            },
            "type": "choropleth"
           }
          ],
          "contour": [
           {
            "colorbar": {
             "outlinewidth": 0,
             "ticks": ""
            },
            "colorscale": [
             [
              0,
              "#0d0887"
             ],
             [
              0.1111111111111111,
              "#46039f"
             ],
             [
              0.2222222222222222,
              "#7201a8"
             ],
             [
              0.3333333333333333,
              "#9c179e"
             ],
             [
              0.4444444444444444,
              "#bd3786"
             ],
             [
              0.5555555555555556,
              "#d8576b"
             ],
             [
              0.6666666666666666,
              "#ed7953"
             ],
             [
              0.7777777777777778,
              "#fb9f3a"
             ],
             [
              0.8888888888888888,
              "#fdca26"
             ],
             [
              1,
              "#f0f921"
             ]
            ],
            "type": "contour"
           }
          ],
          "contourcarpet": [
           {
            "colorbar": {
             "outlinewidth": 0,
             "ticks": ""
            },
            "type": "contourcarpet"
           }
          ],
          "heatmap": [
           {
            "colorbar": {
             "outlinewidth": 0,
             "ticks": ""
            },
            "colorscale": [
             [
              0,
              "#0d0887"
             ],
             [
              0.1111111111111111,
              "#46039f"
             ],
             [
              0.2222222222222222,
              "#7201a8"
             ],
             [
              0.3333333333333333,
              "#9c179e"
             ],
             [
              0.4444444444444444,
              "#bd3786"
             ],
             [
              0.5555555555555556,
              "#d8576b"
             ],
             [
              0.6666666666666666,
              "#ed7953"
             ],
             [
              0.7777777777777778,
              "#fb9f3a"
             ],
             [
              0.8888888888888888,
              "#fdca26"
             ],
             [
              1,
              "#f0f921"
             ]
            ],
            "type": "heatmap"
           }
          ],
          "heatmapgl": [
           {
            "colorbar": {
             "outlinewidth": 0,
             "ticks": ""
            },
            "colorscale": [
             [
              0,
              "#0d0887"
             ],
             [
              0.1111111111111111,
              "#46039f"
             ],
             [
              0.2222222222222222,
              "#7201a8"
             ],
             [
              0.3333333333333333,
              "#9c179e"
             ],
             [
              0.4444444444444444,
              "#bd3786"
             ],
             [
              0.5555555555555556,
              "#d8576b"
             ],
             [
              0.6666666666666666,
              "#ed7953"
             ],
             [
              0.7777777777777778,
              "#fb9f3a"
             ],
             [
              0.8888888888888888,
              "#fdca26"
             ],
             [
              1,
              "#f0f921"
             ]
            ],
            "type": "heatmapgl"
           }
          ],
          "histogram": [
           {
            "marker": {
             "pattern": {
              "fillmode": "overlay",
              "size": 10,
              "solidity": 0.2
             }
            },
            "type": "histogram"
           }
          ],
          "histogram2d": [
           {
            "colorbar": {
             "outlinewidth": 0,
             "ticks": ""
            },
            "colorscale": [
             [
              0,
              "#0d0887"
             ],
             [
              0.1111111111111111,
              "#46039f"
             ],
             [
              0.2222222222222222,
              "#7201a8"
             ],
             [
              0.3333333333333333,
              "#9c179e"
             ],
             [
              0.4444444444444444,
              "#bd3786"
             ],
             [
              0.5555555555555556,
              "#d8576b"
             ],
             [
              0.6666666666666666,
              "#ed7953"
             ],
             [
              0.7777777777777778,
              "#fb9f3a"
             ],
             [
              0.8888888888888888,
              "#fdca26"
             ],
             [
              1,
              "#f0f921"
             ]
            ],
            "type": "histogram2d"
           }
          ],
          "histogram2dcontour": [
           {
            "colorbar": {
             "outlinewidth": 0,
             "ticks": ""
            },
            "colorscale": [
             [
              0,
              "#0d0887"
             ],
             [
              0.1111111111111111,
              "#46039f"
             ],
             [
              0.2222222222222222,
              "#7201a8"
             ],
             [
              0.3333333333333333,
              "#9c179e"
             ],
             [
              0.4444444444444444,
              "#bd3786"
             ],
             [
              0.5555555555555556,
              "#d8576b"
             ],
             [
              0.6666666666666666,
              "#ed7953"
             ],
             [
              0.7777777777777778,
              "#fb9f3a"
             ],
             [
              0.8888888888888888,
              "#fdca26"
             ],
             [
              1,
              "#f0f921"
             ]
            ],
            "type": "histogram2dcontour"
           }
          ],
          "mesh3d": [
           {
            "colorbar": {
             "outlinewidth": 0,
             "ticks": ""
            },
            "type": "mesh3d"
           }
          ],
          "parcoords": [
           {
            "line": {
             "colorbar": {
              "outlinewidth": 0,
              "ticks": ""
             }
            },
            "type": "parcoords"
           }
          ],
          "pie": [
           {
            "automargin": true,
            "type": "pie"
           }
          ],
          "scatter": [
           {
            "fillpattern": {
             "fillmode": "overlay",
             "size": 10,
             "solidity": 0.2
            },
            "type": "scatter"
           }
          ],
          "scatter3d": [
           {
            "line": {
             "colorbar": {
              "outlinewidth": 0,
              "ticks": ""
             }
            },
            "marker": {
             "colorbar": {
              "outlinewidth": 0,
              "ticks": ""
             }
            },
            "type": "scatter3d"
           }
          ],
          "scattercarpet": [
           {
            "marker": {
             "colorbar": {
              "outlinewidth": 0,
              "ticks": ""
             }
            },
            "type": "scattercarpet"
           }
          ],
          "scattergeo": [
           {
            "marker": {
             "colorbar": {
              "outlinewidth": 0,
              "ticks": ""
             }
            },
            "type": "scattergeo"
           }
          ],
          "scattergl": [
           {
            "marker": {
             "colorbar": {
              "outlinewidth": 0,
              "ticks": ""
             }
            },
            "type": "scattergl"
           }
          ],
          "scattermapbox": [
           {
            "marker": {
             "colorbar": {
              "outlinewidth": 0,
              "ticks": ""
             }
            },
            "type": "scattermapbox"
           }
          ],
          "scatterpolar": [
           {
            "marker": {
             "colorbar": {
              "outlinewidth": 0,
              "ticks": ""
             }
            },
            "type": "scatterpolar"
           }
          ],
          "scatterpolargl": [
           {
            "marker": {
             "colorbar": {
              "outlinewidth": 0,
              "ticks": ""
             }
            },
            "type": "scatterpolargl"
           }
          ],
          "scatterternary": [
           {
            "marker": {
             "colorbar": {
              "outlinewidth": 0,
              "ticks": ""
             }
            },
            "type": "scatterternary"
           }
          ],
          "surface": [
           {
            "colorbar": {
             "outlinewidth": 0,
             "ticks": ""
            },
            "colorscale": [
             [
              0,
              "#0d0887"
             ],
             [
              0.1111111111111111,
              "#46039f"
             ],
             [
              0.2222222222222222,
              "#7201a8"
             ],
             [
              0.3333333333333333,
              "#9c179e"
             ],
             [
              0.4444444444444444,
              "#bd3786"
             ],
             [
              0.5555555555555556,
              "#d8576b"
             ],
             [
              0.6666666666666666,
              "#ed7953"
             ],
             [
              0.7777777777777778,
              "#fb9f3a"
             ],
             [
              0.8888888888888888,
              "#fdca26"
             ],
             [
              1,
              "#f0f921"
             ]
            ],
            "type": "surface"
           }
          ],
          "table": [
           {
            "cells": {
             "fill": {
              "color": "#EBF0F8"
             },
             "line": {
              "color": "white"
             }
            },
            "header": {
             "fill": {
              "color": "#C8D4E3"
             },
             "line": {
              "color": "white"
             }
            },
            "type": "table"
           }
          ]
         },
         "layout": {
          "annotationdefaults": {
           "arrowcolor": "#2a3f5f",
           "arrowhead": 0,
           "arrowwidth": 1
          },
          "autotypenumbers": "strict",
          "coloraxis": {
           "colorbar": {
            "outlinewidth": 0,
            "ticks": ""
           }
          },
          "colorscale": {
           "diverging": [
            [
             0,
             "#8e0152"
            ],
            [
             0.1,
             "#c51b7d"
            ],
            [
             0.2,
             "#de77ae"
            ],
            [
             0.3,
             "#f1b6da"
            ],
            [
             0.4,
             "#fde0ef"
            ],
            [
             0.5,
             "#f7f7f7"
            ],
            [
             0.6,
             "#e6f5d0"
            ],
            [
             0.7,
             "#b8e186"
            ],
            [
             0.8,
             "#7fbc41"
            ],
            [
             0.9,
             "#4d9221"
            ],
            [
             1,
             "#276419"
            ]
           ],
           "sequential": [
            [
             0,
             "#0d0887"
            ],
            [
             0.1111111111111111,
             "#46039f"
            ],
            [
             0.2222222222222222,
             "#7201a8"
            ],
            [
             0.3333333333333333,
             "#9c179e"
            ],
            [
             0.4444444444444444,
             "#bd3786"
            ],
            [
             0.5555555555555556,
             "#d8576b"
            ],
            [
             0.6666666666666666,
             "#ed7953"
            ],
            [
             0.7777777777777778,
             "#fb9f3a"
            ],
            [
             0.8888888888888888,
             "#fdca26"
            ],
            [
             1,
             "#f0f921"
            ]
           ],
           "sequentialminus": [
            [
             0,
             "#0d0887"
            ],
            [
             0.1111111111111111,
             "#46039f"
            ],
            [
             0.2222222222222222,
             "#7201a8"
            ],
            [
             0.3333333333333333,
             "#9c179e"
            ],
            [
             0.4444444444444444,
             "#bd3786"
            ],
            [
             0.5555555555555556,
             "#d8576b"
            ],
            [
             0.6666666666666666,
             "#ed7953"
            ],
            [
             0.7777777777777778,
             "#fb9f3a"
            ],
            [
             0.8888888888888888,
             "#fdca26"
            ],
            [
             1,
             "#f0f921"
            ]
           ]
          },
          "colorway": [
           "#636efa",
           "#EF553B",
           "#00cc96",
           "#ab63fa",
           "#FFA15A",
           "#19d3f3",
           "#FF6692",
           "#B6E880",
           "#FF97FF",
           "#FECB52"
          ],
          "font": {
           "color": "#2a3f5f"
          },
          "geo": {
           "bgcolor": "white",
           "lakecolor": "white",
           "landcolor": "#E5ECF6",
           "showlakes": true,
           "showland": true,
           "subunitcolor": "white"
          },
          "hoverlabel": {
           "align": "left"
          },
          "hovermode": "closest",
          "mapbox": {
           "style": "light"
          },
          "paper_bgcolor": "white",
          "plot_bgcolor": "#E5ECF6",
          "polar": {
           "angularaxis": {
            "gridcolor": "white",
            "linecolor": "white",
            "ticks": ""
           },
           "bgcolor": "#E5ECF6",
           "radialaxis": {
            "gridcolor": "white",
            "linecolor": "white",
            "ticks": ""
           }
          },
          "scene": {
           "xaxis": {
            "backgroundcolor": "#E5ECF6",
            "gridcolor": "white",
            "gridwidth": 2,
            "linecolor": "white",
            "showbackground": true,
            "ticks": "",
            "zerolinecolor": "white"
           },
           "yaxis": {
            "backgroundcolor": "#E5ECF6",
            "gridcolor": "white",
            "gridwidth": 2,
            "linecolor": "white",
            "showbackground": true,
            "ticks": "",
            "zerolinecolor": "white"
           },
           "zaxis": {
            "backgroundcolor": "#E5ECF6",
            "gridcolor": "white",
            "gridwidth": 2,
            "linecolor": "white",
            "showbackground": true,
            "ticks": "",
            "zerolinecolor": "white"
           }
          },
          "shapedefaults": {
           "line": {
            "color": "#2a3f5f"
           }
          },
          "ternary": {
           "aaxis": {
            "gridcolor": "white",
            "linecolor": "white",
            "ticks": ""
           },
           "baxis": {
            "gridcolor": "white",
            "linecolor": "white",
            "ticks": ""
           },
           "bgcolor": "#E5ECF6",
           "caxis": {
            "gridcolor": "white",
            "linecolor": "white",
            "ticks": ""
           }
          },
          "title": {
           "x": 0.05
          },
          "xaxis": {
           "automargin": true,
           "gridcolor": "white",
           "linecolor": "white",
           "ticks": "",
           "title": {
            "standoff": 15
           },
           "zerolinecolor": "white",
           "zerolinewidth": 2
          },
          "yaxis": {
           "automargin": true,
           "gridcolor": "white",
           "linecolor": "white",
           "ticks": "",
           "title": {
            "standoff": 15
           },
           "zerolinecolor": "white",
           "zerolinewidth": 2
          }
         }
        },
        "title": {
         "text": "Weighted Jaccard Similarity to Checkpoint 5000 for pythia-410m"
        },
        "xaxis": {
         "anchor": "y",
         "domain": [
          0,
          1
         ],
         "title": {
          "font": {
           "size": 16
          },
          "text": "Training Checkpoint"
         },
         "type": "log"
        },
        "yaxis": {
         "anchor": "x",
         "domain": [
          0,
          1
         ],
         "range": [
          0,
          1
         ],
         "title": {
          "font": {
           "size": 16
          },
          "text": "Jaccard Similarity"
         }
        },
        "yaxis2": {
         "overlaying": "y",
         "range": [
          0,
          6
         ],
         "showgrid": false,
         "side": "right",
         "title": {
          "font": {
           "size": 16
          },
          "text": "Logit Diff"
         }
        }
       }
      },
      "text/html": [
       "<div>                            <div id=\"6903a7ce-7f03-451a-b603-63dfd3eca048\" class=\"plotly-graph-div\" style=\"height:525px; width:100%;\"></div>            <script type=\"text/javascript\">                require([\"plotly\"], function(Plotly) {                    window.PLOTLYENV=window.PLOTLYENV || {};                                    if (document.getElementById(\"6903a7ce-7f03-451a-b603-63dfd3eca048\")) {                    Plotly.newPlot(                        \"6903a7ce-7f03-451a-b603-63dfd3eca048\",                        [{\"hovertemplate\":\"variable=Jaccard Sim\\u003cbr\\u003echeckpoint=%{x}\\u003cbr\\u003evalue=%{y}\\u003cextra\\u003e\\u003c\\u002fextra\\u003e\",\"legendgroup\":\"Jaccard Sim\",\"line\":{\"color\":\"#636efa\",\"dash\":\"solid\"},\"marker\":{\"symbol\":\"circle\"},\"mode\":\"lines\",\"name\":\"Jaccard Sim\",\"orientation\":\"v\",\"showlegend\":true,\"x\":[3000,4000,5000,6000,7000,8000,9000,10000,11000,12000,13000,14000,15000,16000,17000,18000,19000,20000,21000,22000,23000,24000,25000,26000,27000,28000,29000,30000,31000,32000,33000,34000,35000,36000,37000,38000,39000,40000,41000,42000,43000,44000,45000,46000,47000,48000,49000,50000,51000,52000,53000,54000,55000,56000,57000,58000,59000,60000,61000,62000,63000,64000,65000,66000,67000,68000,69000,70000,71000,72000,73000,74000,75000,76000,77000,78000,79000,80000,81000,82000,83000,84000,85000,86000,87000,88000,89000,90000,91000,92000,93000,94000,95000,96000,97000,98000,99000,100000,101000,102000,103000,104000,105000,106000,107000,108000,109000,110000,111000,112000,113000,114000,115000,116000,117000,118000,119000,120000,121000,122000,123000,124000,125000,126000,127000,128000,129000,130000,131000,132000,133000,134000,135000,136000,137000,138000,139000,140000,141000,142000,143000],\"xaxis\":\"x\",\"y\":[0.3161800217895104,0.6076123503721147,1.0,0.7683250069497083,0.7178366075920846,0.617184889270703,0.5731775846836272,0.524378614496287,0.497717516771552,0.5124578301154442,0.4641467696036765,0.43518849649679603,0.43014416250735865,0.4178375033324681,0.37756743692762,0.3886683074371433,0.3941301900265825,0.37204060102895903,0.3564846253616606,0.3381635919033078,0.3584544305704654,0.34580146015752683,0.36329890438885964,0.33139687689055525,0.34256791343326476,0.3343653923228689,0.3118240948960818,0.33261887227973513,0.30849799638907915,0.292105908143238,0.3211031981768765,0.3226537862544746,0.3128592574925942,0.28424906593824456,0.29422126899823925,0.2843455300293616,0.27546521467522944,0.2809360881806001,0.29126902174220365,0.3184820523718687,0.30652972182077964,0.28608880170593287,0.256575528906802,0.2868796437101261,0.2894714151217836,0.26478094567248023,0.3005164324122775,0.2967554921216501,0.26160888347351086,0.2585470898592888,0.2967382644344076,0.2611479025546178,0.2561694788448478,0.2821045706753007,0.2523412936329464,0.2509151481669295,0.2873053772990057,0.24886905732574927,0.24778327528844862,0.2740135017036665,0.2418884046267384,0.2494354651962215,0.25381626261163803,0.25104058763567955,0.24638015868802704,0.25317364556470046,0.2356150117232328,0.2401674150417153,0.23137746035494255,0.2461543765203029,0.2582476269921138,0.24603210374207363,0.24344697019776912,0.26056956805953624,0.2363123809358801,0.23789903623029146,0.2301829007620032,0.22714207799484645,0.22284785601310317,0.2342032996900707,0.22926881852645434,0.23092849799814882,0.23255776389279612,0.22007064553790118,0.22852969871411424,0.2196150578491971,0.22556634969860123,0.21237870263310538,0.21337507159307154,0.21333766172531285,0.2070441941550427,0.21894128991040504,0.21577363460843893,0.20664854341707195,0.20469403759830154,0.20704554361829755,0.2129779185225199,0.2080317880514205,0.20163555127176738,0.19773294462338284,0.2202606270083709,0.20186357285305667,0.20112897926498727,0.19925739361460756,0.21201593682709546,0.1984693804346936,0.20704703371781152,0.20165337545425005,0.20334278987708704,0.21550000496733526,0.20249029619803258,0.21006003748390029,0.2049063842955455,0.20942451376636886,0.21269416342208974,0.20302315444220165,0.21268622615154495,0.2216338382209401,0.20833670929383308,0.2082419917697737,0.21379726682061626,0.22177092745135848,0.21478757825860492,0.20690539049647128,0.20427012129644978,0.20878443106318217,0.21424311471036722,0.20340229760872425,0.18992483343986472,0.1911746607272374,0.19400837992704126,0.19106244161013455,0.1869857753335731,0.1943928843234692,0.19829963916580934,0.20599454389173474,0.19743767294852574,0.18898729339168427,0.20265667794669415,0.19259250025450705,0.1995083008190621],\"yaxis\":\"y\",\"type\":\"scatter\"},{\"line\":{\"color\":\"gray\",\"dash\":\"dot\",\"width\":2},\"mode\":\"lines\",\"name\":\"Logit Diff\",\"x\":[3000,4000,5000,6000,7000,8000,9000,10000,11000,12000,13000,14000,15000,16000,17000,18000,19000,20000,21000,22000,23000,24000,25000,26000,27000,28000,29000,30000,31000,32000,33000,34000,35000,36000,37000,38000,39000,40000,41000,42000,43000,44000,45000,46000,47000,48000,49000,50000,51000,52000,53000,54000,55000,56000,57000,58000,59000,60000,61000,62000,63000,64000,65000,66000,67000,68000,69000,70000,71000,72000,73000,74000,75000,76000,77000,78000,79000,80000,81000,82000,83000,84000,85000,86000,87000,88000,89000,90000,91000,92000,93000,94000,95000,96000,97000,98000,99000,100000,101000,102000,103000,104000,105000,106000,107000,108000,109000,110000,111000,112000,113000,114000,115000,116000,117000,118000,119000,120000,121000,122000,123000,124000,125000,126000,127000,128000,129000,130000,131000,132000,133000,134000,135000,136000,137000,138000,139000,140000,141000,142000,143000],\"y\":[1.2984895706176758,1.8091895580291748,3.284644842147827,4.488880157470703,3.800635576248169,4.6040778160095215,3.803982973098755,4.212908744812012,3.9969871044158936,3.9436161518096924,3.8937957286834717,3.193147897720337,3.7413523197174072,3.8434049606323244,3.945457601547241,4.047510242462158,4.149562883377075,4.251615524291992,4.138780212402343,4.0259449005126955,3.9131095886230467,3.8002742767333983,3.68743896484375,3.6378165245056153,3.5881940841674806,3.5385716438293455,3.488949203491211,3.439326763153076,3.497391700744629,3.5554566383361816,3.6135215759277344,3.671586513519287,3.72965145111084,3.776348829269409,3.8230462074279785,3.869743585586548,3.916440963745117,3.9631383419036865,3.925833988189697,3.888529634475708,3.8512252807617187,3.8139209270477297,3.7766165733337402,3.8386295318603514,3.900642490386963,3.962655448913574,4.024668407440186,4.086681365966797,4.049734163284302,4.012786960601806,3.9758397579193114,3.9388925552368166,3.9019453525543213,3.8799148082733153,3.8578842639923097,3.8358537197113036,3.813823175430298,3.791792631149292,3.8062237739562987,3.8206549167633055,3.8350860595703127,3.8495172023773194,3.863948345184326,3.7297369956970217,3.5955256462097167,3.461314296722412,3.3271029472351072,3.1928915977478027,3.27441029548645,3.3559289932250977,3.437447690963745,3.5189663887023928,3.60048508644104,3.6820037841796873,3.763522481918335,3.8450411796569823,3.92655987739563,4.008078575134277,3.937114191055298,3.8661498069763183,3.795185422897339,3.724221038818359,3.65325665473938,3.5822922706604006,3.511327886581421,3.4403635025024415,3.3693991184234617,3.2984347343444824,3.3432880878448485,3.3881414413452147,3.4329947948455812,3.4778481483459474,3.5227015018463135,3.5675548553466796,3.6124082088470457,3.6572615623474123,3.7021149158477784,3.7469682693481445,3.7607115507125854,3.7744548320770264,3.7881981134414673,3.801941394805908,3.815684676170349,3.82942795753479,3.843171238899231,3.856914520263672,3.870657801628113,3.8844010829925537,3.8523802280426027,3.8203593730926513,3.7883385181427003,3.756317663192749,3.724296808242798,3.692275953292847,3.6602550983428954,3.6282342433929444,3.596213388442993,3.564192533493042,3.5834166288375853,3.602640724182129,3.6218648195266723,3.641088914871216,3.6603130102157593,3.6795371055603026,3.6987612009048463,3.7179852962493896,3.7372093915939333,3.7564334869384766,3.7487784147262575,3.741123342514038,3.733468270301819,3.7258131980895994,3.7181581258773804,3.7105030536651613,3.702847981452942,3.6951929092407227,3.6875378370285032,3.679882764816284,3.679882764816284,3.679882764816284,3.679882764816284],\"yaxis\":\"y2\",\"type\":\"scatter\"}],                        {\"template\":{\"data\":{\"histogram2dcontour\":[{\"type\":\"histogram2dcontour\",\"colorbar\":{\"outlinewidth\":0,\"ticks\":\"\"},\"colorscale\":[[0.0,\"#0d0887\"],[0.1111111111111111,\"#46039f\"],[0.2222222222222222,\"#7201a8\"],[0.3333333333333333,\"#9c179e\"],[0.4444444444444444,\"#bd3786\"],[0.5555555555555556,\"#d8576b\"],[0.6666666666666666,\"#ed7953\"],[0.7777777777777778,\"#fb9f3a\"],[0.8888888888888888,\"#fdca26\"],[1.0,\"#f0f921\"]]}],\"choropleth\":[{\"type\":\"choropleth\",\"colorbar\":{\"outlinewidth\":0,\"ticks\":\"\"}}],\"histogram2d\":[{\"type\":\"histogram2d\",\"colorbar\":{\"outlinewidth\":0,\"ticks\":\"\"},\"colorscale\":[[0.0,\"#0d0887\"],[0.1111111111111111,\"#46039f\"],[0.2222222222222222,\"#7201a8\"],[0.3333333333333333,\"#9c179e\"],[0.4444444444444444,\"#bd3786\"],[0.5555555555555556,\"#d8576b\"],[0.6666666666666666,\"#ed7953\"],[0.7777777777777778,\"#fb9f3a\"],[0.8888888888888888,\"#fdca26\"],[1.0,\"#f0f921\"]]}],\"heatmap\":[{\"type\":\"heatmap\",\"colorbar\":{\"outlinewidth\":0,\"ticks\":\"\"},\"colorscale\":[[0.0,\"#0d0887\"],[0.1111111111111111,\"#46039f\"],[0.2222222222222222,\"#7201a8\"],[0.3333333333333333,\"#9c179e\"],[0.4444444444444444,\"#bd3786\"],[0.5555555555555556,\"#d8576b\"],[0.6666666666666666,\"#ed7953\"],[0.7777777777777778,\"#fb9f3a\"],[0.8888888888888888,\"#fdca26\"],[1.0,\"#f0f921\"]]}],\"heatmapgl\":[{\"type\":\"heatmapgl\",\"colorbar\":{\"outlinewidth\":0,\"ticks\":\"\"},\"colorscale\":[[0.0,\"#0d0887\"],[0.1111111111111111,\"#46039f\"],[0.2222222222222222,\"#7201a8\"],[0.3333333333333333,\"#9c179e\"],[0.4444444444444444,\"#bd3786\"],[0.5555555555555556,\"#d8576b\"],[0.6666666666666666,\"#ed7953\"],[0.7777777777777778,\"#fb9f3a\"],[0.8888888888888888,\"#fdca26\"],[1.0,\"#f0f921\"]]}],\"contourcarpet\":[{\"type\":\"contourcarpet\",\"colorbar\":{\"outlinewidth\":0,\"ticks\":\"\"}}],\"contour\":[{\"type\":\"contour\",\"colorbar\":{\"outlinewidth\":0,\"ticks\":\"\"},\"colorscale\":[[0.0,\"#0d0887\"],[0.1111111111111111,\"#46039f\"],[0.2222222222222222,\"#7201a8\"],[0.3333333333333333,\"#9c179e\"],[0.4444444444444444,\"#bd3786\"],[0.5555555555555556,\"#d8576b\"],[0.6666666666666666,\"#ed7953\"],[0.7777777777777778,\"#fb9f3a\"],[0.8888888888888888,\"#fdca26\"],[1.0,\"#f0f921\"]]}],\"surface\":[{\"type\":\"surface\",\"colorbar\":{\"outlinewidth\":0,\"ticks\":\"\"},\"colorscale\":[[0.0,\"#0d0887\"],[0.1111111111111111,\"#46039f\"],[0.2222222222222222,\"#7201a8\"],[0.3333333333333333,\"#9c179e\"],[0.4444444444444444,\"#bd3786\"],[0.5555555555555556,\"#d8576b\"],[0.6666666666666666,\"#ed7953\"],[0.7777777777777778,\"#fb9f3a\"],[0.8888888888888888,\"#fdca26\"],[1.0,\"#f0f921\"]]}],\"mesh3d\":[{\"type\":\"mesh3d\",\"colorbar\":{\"outlinewidth\":0,\"ticks\":\"\"}}],\"scatter\":[{\"fillpattern\":{\"fillmode\":\"overlay\",\"size\":10,\"solidity\":0.2},\"type\":\"scatter\"}],\"parcoords\":[{\"type\":\"parcoords\",\"line\":{\"colorbar\":{\"outlinewidth\":0,\"ticks\":\"\"}}}],\"scatterpolargl\":[{\"type\":\"scatterpolargl\",\"marker\":{\"colorbar\":{\"outlinewidth\":0,\"ticks\":\"\"}}}],\"bar\":[{\"error_x\":{\"color\":\"#2a3f5f\"},\"error_y\":{\"color\":\"#2a3f5f\"},\"marker\":{\"line\":{\"color\":\"#E5ECF6\",\"width\":0.5},\"pattern\":{\"fillmode\":\"overlay\",\"size\":10,\"solidity\":0.2}},\"type\":\"bar\"}],\"scattergeo\":[{\"type\":\"scattergeo\",\"marker\":{\"colorbar\":{\"outlinewidth\":0,\"ticks\":\"\"}}}],\"scatterpolar\":[{\"type\":\"scatterpolar\",\"marker\":{\"colorbar\":{\"outlinewidth\":0,\"ticks\":\"\"}}}],\"histogram\":[{\"marker\":{\"pattern\":{\"fillmode\":\"overlay\",\"size\":10,\"solidity\":0.2}},\"type\":\"histogram\"}],\"scattergl\":[{\"type\":\"scattergl\",\"marker\":{\"colorbar\":{\"outlinewidth\":0,\"ticks\":\"\"}}}],\"scatter3d\":[{\"type\":\"scatter3d\",\"line\":{\"colorbar\":{\"outlinewidth\":0,\"ticks\":\"\"}},\"marker\":{\"colorbar\":{\"outlinewidth\":0,\"ticks\":\"\"}}}],\"scattermapbox\":[{\"type\":\"scattermapbox\",\"marker\":{\"colorbar\":{\"outlinewidth\":0,\"ticks\":\"\"}}}],\"scatterternary\":[{\"type\":\"scatterternary\",\"marker\":{\"colorbar\":{\"outlinewidth\":0,\"ticks\":\"\"}}}],\"scattercarpet\":[{\"type\":\"scattercarpet\",\"marker\":{\"colorbar\":{\"outlinewidth\":0,\"ticks\":\"\"}}}],\"carpet\":[{\"aaxis\":{\"endlinecolor\":\"#2a3f5f\",\"gridcolor\":\"white\",\"linecolor\":\"white\",\"minorgridcolor\":\"white\",\"startlinecolor\":\"#2a3f5f\"},\"baxis\":{\"endlinecolor\":\"#2a3f5f\",\"gridcolor\":\"white\",\"linecolor\":\"white\",\"minorgridcolor\":\"white\",\"startlinecolor\":\"#2a3f5f\"},\"type\":\"carpet\"}],\"table\":[{\"cells\":{\"fill\":{\"color\":\"#EBF0F8\"},\"line\":{\"color\":\"white\"}},\"header\":{\"fill\":{\"color\":\"#C8D4E3\"},\"line\":{\"color\":\"white\"}},\"type\":\"table\"}],\"barpolar\":[{\"marker\":{\"line\":{\"color\":\"#E5ECF6\",\"width\":0.5},\"pattern\":{\"fillmode\":\"overlay\",\"size\":10,\"solidity\":0.2}},\"type\":\"barpolar\"}],\"pie\":[{\"automargin\":true,\"type\":\"pie\"}]},\"layout\":{\"autotypenumbers\":\"strict\",\"colorway\":[\"#636efa\",\"#EF553B\",\"#00cc96\",\"#ab63fa\",\"#FFA15A\",\"#19d3f3\",\"#FF6692\",\"#B6E880\",\"#FF97FF\",\"#FECB52\"],\"font\":{\"color\":\"#2a3f5f\"},\"hovermode\":\"closest\",\"hoverlabel\":{\"align\":\"left\"},\"paper_bgcolor\":\"white\",\"plot_bgcolor\":\"#E5ECF6\",\"polar\":{\"bgcolor\":\"#E5ECF6\",\"angularaxis\":{\"gridcolor\":\"white\",\"linecolor\":\"white\",\"ticks\":\"\"},\"radialaxis\":{\"gridcolor\":\"white\",\"linecolor\":\"white\",\"ticks\":\"\"}},\"ternary\":{\"bgcolor\":\"#E5ECF6\",\"aaxis\":{\"gridcolor\":\"white\",\"linecolor\":\"white\",\"ticks\":\"\"},\"baxis\":{\"gridcolor\":\"white\",\"linecolor\":\"white\",\"ticks\":\"\"},\"caxis\":{\"gridcolor\":\"white\",\"linecolor\":\"white\",\"ticks\":\"\"}},\"coloraxis\":{\"colorbar\":{\"outlinewidth\":0,\"ticks\":\"\"}},\"colorscale\":{\"sequential\":[[0.0,\"#0d0887\"],[0.1111111111111111,\"#46039f\"],[0.2222222222222222,\"#7201a8\"],[0.3333333333333333,\"#9c179e\"],[0.4444444444444444,\"#bd3786\"],[0.5555555555555556,\"#d8576b\"],[0.6666666666666666,\"#ed7953\"],[0.7777777777777778,\"#fb9f3a\"],[0.8888888888888888,\"#fdca26\"],[1.0,\"#f0f921\"]],\"sequentialminus\":[[0.0,\"#0d0887\"],[0.1111111111111111,\"#46039f\"],[0.2222222222222222,\"#7201a8\"],[0.3333333333333333,\"#9c179e\"],[0.4444444444444444,\"#bd3786\"],[0.5555555555555556,\"#d8576b\"],[0.6666666666666666,\"#ed7953\"],[0.7777777777777778,\"#fb9f3a\"],[0.8888888888888888,\"#fdca26\"],[1.0,\"#f0f921\"]],\"diverging\":[[0,\"#8e0152\"],[0.1,\"#c51b7d\"],[0.2,\"#de77ae\"],[0.3,\"#f1b6da\"],[0.4,\"#fde0ef\"],[0.5,\"#f7f7f7\"],[0.6,\"#e6f5d0\"],[0.7,\"#b8e186\"],[0.8,\"#7fbc41\"],[0.9,\"#4d9221\"],[1,\"#276419\"]]},\"xaxis\":{\"gridcolor\":\"white\",\"linecolor\":\"white\",\"ticks\":\"\",\"title\":{\"standoff\":15},\"zerolinecolor\":\"white\",\"automargin\":true,\"zerolinewidth\":2},\"yaxis\":{\"gridcolor\":\"white\",\"linecolor\":\"white\",\"ticks\":\"\",\"title\":{\"standoff\":15},\"zerolinecolor\":\"white\",\"automargin\":true,\"zerolinewidth\":2},\"scene\":{\"xaxis\":{\"backgroundcolor\":\"#E5ECF6\",\"gridcolor\":\"white\",\"linecolor\":\"white\",\"showbackground\":true,\"ticks\":\"\",\"zerolinecolor\":\"white\",\"gridwidth\":2},\"yaxis\":{\"backgroundcolor\":\"#E5ECF6\",\"gridcolor\":\"white\",\"linecolor\":\"white\",\"showbackground\":true,\"ticks\":\"\",\"zerolinecolor\":\"white\",\"gridwidth\":2},\"zaxis\":{\"backgroundcolor\":\"#E5ECF6\",\"gridcolor\":\"white\",\"linecolor\":\"white\",\"showbackground\":true,\"ticks\":\"\",\"zerolinecolor\":\"white\",\"gridwidth\":2}},\"shapedefaults\":{\"line\":{\"color\":\"#2a3f5f\"}},\"annotationdefaults\":{\"arrowcolor\":\"#2a3f5f\",\"arrowhead\":0,\"arrowwidth\":1},\"geo\":{\"bgcolor\":\"white\",\"landcolor\":\"#E5ECF6\",\"subunitcolor\":\"white\",\"showland\":true,\"showlakes\":true,\"lakecolor\":\"white\"},\"title\":{\"x\":0.05},\"mapbox\":{\"style\":\"light\"}}},\"xaxis\":{\"anchor\":\"y\",\"domain\":[0.0,1.0],\"title\":{\"text\":\"Training Checkpoint\",\"font\":{\"size\":16}},\"type\":\"log\"},\"yaxis\":{\"anchor\":\"x\",\"domain\":[0.0,1.0],\"title\":{\"text\":\"Jaccard Similarity\",\"font\":{\"size\":16}},\"range\":[0,1]},\"legend\":{\"title\":{\"text\":\"Metrics\"},\"tracegroupgap\":0,\"font\":{\"size\":16}},\"title\":{\"text\":\"Weighted Jaccard Similarity to Checkpoint 5000 for pythia-410m\"},\"yaxis2\":{\"title\":{\"text\":\"Logit Diff\",\"font\":{\"size\":16}},\"range\":[0,6],\"overlaying\":\"y\",\"side\":\"right\",\"showgrid\":false}},                        {\"responsive\": true}                    ).then(function(){\n",
       "                            \n",
       "var gd = document.getElementById('6903a7ce-7f03-451a-b603-63dfd3eca048');\n",
       "var x = new MutationObserver(function (mutations, observer) {{\n",
       "        var display = window.getComputedStyle(gd).display;\n",
       "        if (!display || display === 'none') {{\n",
       "            console.log([gd, 'removed!']);\n",
       "            Plotly.purge(gd);\n",
       "            observer.disconnect();\n",
       "        }}\n",
       "}});\n",
       "\n",
       "// Listen for the removal of the full notebook cells\n",
       "var notebookContainer = gd.closest('#notebook-container');\n",
       "if (notebookContainer) {{\n",
       "    x.observe(notebookContainer, {childList: true});\n",
       "}}\n",
       "\n",
       "// Listen for the clearing of the current output cell\n",
       "var outputEl = gd.closest('.output');\n",
       "if (outputEl) {{\n",
       "    x.observe(outputEl, {childList: true});\n",
       "}}\n",
       "\n",
       "                        })                };                });            </script>        </div>"
      ]
     },
     "metadata": {},
     "output_type": "display_data"
    }
   ],
   "source": [
    "comparison_checkpoint = 5000 \n",
    "jaccard_reference_results = compute_weighted_jaccard_similarity_to_reference(in_circuit_df, comparison_checkpoint)\n",
    "plot_graph_metric(\n",
    "    jaccard_reference_results, \n",
    "    'jaccard_similarity', \n",
    "    perf_metric_dict, \n",
    "    f'Weighted Jaccard Similarity to Checkpoint {comparison_checkpoint} for {MODEL_NAME}', \n",
    "    y_ranges=((0, 1), (0, 6)), \n",
    "    left_y_title=\"Jaccard Similarity\", \n",
    "    x_axis_col='checkpoint', \n",
    "    log_x=True,\n",
    "    metric_legend_name=\"Jaccard Sim\",\n",
    "    output_path = OUTPUT_DIR\n",
    ")"
   ]
  },
  {
   "cell_type": "code",
   "execution_count": 178,
   "metadata": {},
   "outputs": [
    {
     "data": {
      "application/vnd.plotly.v1+json": {
       "config": {
        "plotlyServerURL": "https://plotly.com"
       },
       "data": [
        {
         "hovertemplate": "variable=Jaccard Sim<br>checkpoint=%{x}<br>value=%{y}<extra></extra>",
         "legendgroup": "Jaccard Sim",
         "line": {
          "color": "#636efa",
          "dash": "solid"
         },
         "marker": {
          "symbol": "circle"
         },
         "mode": "lines",
         "name": "Jaccard Sim",
         "orientation": "v",
         "showlegend": true,
         "type": "scatter",
         "x": [
          3000,
          4000,
          5000,
          6000,
          7000,
          8000,
          9000,
          10000,
          11000,
          12000,
          13000,
          14000,
          15000,
          16000,
          17000,
          18000,
          19000,
          20000,
          21000,
          22000,
          23000,
          24000,
          25000,
          26000,
          27000,
          28000,
          29000,
          30000,
          31000,
          32000,
          33000,
          34000,
          35000,
          36000,
          37000,
          38000,
          39000,
          40000,
          41000,
          42000,
          43000,
          44000,
          45000,
          46000,
          47000,
          48000,
          49000,
          50000,
          51000,
          52000,
          53000,
          54000,
          55000,
          56000,
          57000,
          58000,
          59000,
          60000,
          61000,
          62000,
          63000,
          64000,
          65000,
          66000,
          67000,
          68000,
          69000,
          70000,
          71000,
          72000,
          73000,
          74000,
          75000,
          76000,
          77000,
          78000,
          79000,
          80000,
          81000,
          82000,
          83000,
          84000,
          85000,
          86000,
          87000,
          88000,
          89000,
          90000,
          91000,
          92000,
          93000,
          94000,
          95000,
          96000,
          97000,
          98000,
          99000,
          100000,
          101000,
          102000,
          103000,
          104000,
          105000,
          106000,
          107000,
          108000,
          109000,
          110000,
          111000,
          112000,
          113000,
          114000,
          115000,
          116000,
          117000,
          118000,
          119000,
          120000,
          121000,
          122000,
          123000,
          124000,
          125000,
          126000,
          127000,
          128000,
          129000,
          130000,
          131000,
          132000,
          133000,
          134000,
          135000,
          136000,
          137000,
          138000,
          139000,
          140000,
          141000,
          142000,
          143000
         ],
         "xaxis": "x",
         "y": [
          0.08463035301555266,
          0.14288783991270185,
          0.1995083008190621,
          0.21902556572905854,
          0.23340163077243015,
          0.263061872646798,
          0.2483288677977129,
          0.25612766628627126,
          0.26356262397097174,
          0.2906412261926294,
          0.30223313598453166,
          0.3229419006900785,
          0.3870424624845297,
          0.35134430693129703,
          0.41054535002130604,
          0.3206567425743821,
          0.30409126140416254,
          0.32260478408720594,
          0.35195260339130346,
          0.4504671675906663,
          0.37692757664664545,
          0.365145249212028,
          0.33352970958861256,
          0.3682377418506793,
          0.35288821683475696,
          0.362106106037189,
          0.38724084730273806,
          0.33864288253126046,
          0.39434810821412447,
          0.4575196913909055,
          0.37952929986472134,
          0.3885354502987001,
          0.39706173023268837,
          0.42837367177656255,
          0.3907221748551498,
          0.484931854049624,
          0.5285870596419863,
          0.5452184552542656,
          0.44165160189688557,
          0.3573283765545853,
          0.395472426438482,
          0.41063587264521256,
          0.5897852264044635,
          0.48340408713221844,
          0.4173675915730126,
          0.5510173081775711,
          0.3504379587262914,
          0.42353623484696523,
          0.5901628066230518,
          0.6055069304672767,
          0.4261757194428292,
          0.602241632019554,
          0.6027758724641642,
          0.4706839237672059,
          0.617888436976081,
          0.6138417454612549,
          0.4134783340445211,
          0.6261176685149347,
          0.6323431875749059,
          0.44791479435386405,
          0.6498992933365036,
          0.6270175678654085,
          0.6102615701392464,
          0.6345167128907679,
          0.6554346998803506,
          0.627027025831633,
          0.6709328912410415,
          0.6416366408153396,
          0.7021184522837174,
          0.6630231113195132,
          0.6556911529943344,
          0.6905841650817611,
          0.6596702079224922,
          0.6416523095182721,
          0.6762614887300933,
          0.6963167289989148,
          0.6897068140094397,
          0.6903049050941739,
          0.6939199709092565,
          0.7077616071319975,
          0.741030473071508,
          0.7135609282789831,
          0.7180423421363664,
          0.7652372911358851,
          0.7210673186686709,
          0.7712169123557181,
          0.7563740633242991,
          0.7764168586847211,
          0.767598785661141,
          0.7641070202455124,
          0.8079446035967789,
          0.7707753433136122,
          0.7558412264929212,
          0.811662476649559,
          0.7971387323562745,
          0.8151156854516289,
          0.7894678898175821,
          0.7874925231348289,
          0.8006339717686125,
          0.818820402076864,
          0.7527978351398212,
          0.8203759546936936,
          0.8218217192224065,
          0.8291453579416561,
          0.8268563976089809,
          0.857679587295597,
          0.8515954953761729,
          0.8623992028204471,
          0.8748364640565328,
          0.839956936008861,
          0.8413005821943585,
          0.8643588422679509,
          0.8540988825481289,
          0.859104803194508,
          0.8449707722012034,
          0.8569813764735704,
          0.8548506850718123,
          0.8307682890312056,
          0.8444772618833527,
          0.8696004574962961,
          0.8257747758903282,
          0.8035797417116115,
          0.8386971706219257,
          0.8814355518106088,
          0.8753663050006456,
          0.8792687985480709,
          0.8521885423313136,
          0.8702200966929368,
          0.8575450871486536,
          0.8759320019191744,
          0.8781183945058767,
          0.8663821465021719,
          0.8699279741340088,
          0.8776255385012321,
          0.8905482648129567,
          0.8943725132096727,
          0.8895962201696298,
          0.8626116930051294,
          0.8913789951672955,
          0.8934946811502559,
          1
         ],
         "yaxis": "y"
        },
        {
         "line": {
          "color": "gray",
          "dash": "dot",
          "width": 2
         },
         "mode": "lines",
         "name": "Logit Diff",
         "type": "scatter",
         "x": [
          3000,
          4000,
          5000,
          6000,
          7000,
          8000,
          9000,
          10000,
          11000,
          12000,
          13000,
          14000,
          15000,
          16000,
          17000,
          18000,
          19000,
          20000,
          21000,
          22000,
          23000,
          24000,
          25000,
          26000,
          27000,
          28000,
          29000,
          30000,
          31000,
          32000,
          33000,
          34000,
          35000,
          36000,
          37000,
          38000,
          39000,
          40000,
          41000,
          42000,
          43000,
          44000,
          45000,
          46000,
          47000,
          48000,
          49000,
          50000,
          51000,
          52000,
          53000,
          54000,
          55000,
          56000,
          57000,
          58000,
          59000,
          60000,
          61000,
          62000,
          63000,
          64000,
          65000,
          66000,
          67000,
          68000,
          69000,
          70000,
          71000,
          72000,
          73000,
          74000,
          75000,
          76000,
          77000,
          78000,
          79000,
          80000,
          81000,
          82000,
          83000,
          84000,
          85000,
          86000,
          87000,
          88000,
          89000,
          90000,
          91000,
          92000,
          93000,
          94000,
          95000,
          96000,
          97000,
          98000,
          99000,
          100000,
          101000,
          102000,
          103000,
          104000,
          105000,
          106000,
          107000,
          108000,
          109000,
          110000,
          111000,
          112000,
          113000,
          114000,
          115000,
          116000,
          117000,
          118000,
          119000,
          120000,
          121000,
          122000,
          123000,
          124000,
          125000,
          126000,
          127000,
          128000,
          129000,
          130000,
          131000,
          132000,
          133000,
          134000,
          135000,
          136000,
          137000,
          138000,
          139000,
          140000,
          141000,
          142000,
          143000
         ],
         "y": [
          1.2984895706176758,
          1.8091895580291748,
          3.284644842147827,
          4.488880157470703,
          3.800635576248169,
          4.6040778160095215,
          3.803982973098755,
          4.212908744812012,
          3.9969871044158936,
          3.9436161518096924,
          3.8937957286834717,
          3.193147897720337,
          3.7413523197174072,
          3.8434049606323244,
          3.945457601547241,
          4.047510242462158,
          4.149562883377075,
          4.251615524291992,
          4.138780212402343,
          4.0259449005126955,
          3.9131095886230467,
          3.8002742767333983,
          3.68743896484375,
          3.6378165245056153,
          3.5881940841674806,
          3.5385716438293455,
          3.488949203491211,
          3.439326763153076,
          3.497391700744629,
          3.5554566383361816,
          3.6135215759277344,
          3.671586513519287,
          3.72965145111084,
          3.776348829269409,
          3.8230462074279785,
          3.869743585586548,
          3.916440963745117,
          3.9631383419036865,
          3.925833988189697,
          3.888529634475708,
          3.8512252807617187,
          3.8139209270477297,
          3.7766165733337402,
          3.8386295318603514,
          3.900642490386963,
          3.962655448913574,
          4.024668407440186,
          4.086681365966797,
          4.049734163284302,
          4.012786960601806,
          3.9758397579193114,
          3.9388925552368166,
          3.9019453525543213,
          3.8799148082733153,
          3.8578842639923097,
          3.8358537197113036,
          3.813823175430298,
          3.791792631149292,
          3.8062237739562987,
          3.8206549167633055,
          3.8350860595703127,
          3.8495172023773194,
          3.863948345184326,
          3.7297369956970217,
          3.5955256462097167,
          3.461314296722412,
          3.3271029472351072,
          3.1928915977478027,
          3.27441029548645,
          3.3559289932250977,
          3.437447690963745,
          3.5189663887023928,
          3.60048508644104,
          3.6820037841796873,
          3.763522481918335,
          3.8450411796569823,
          3.92655987739563,
          4.008078575134277,
          3.937114191055298,
          3.8661498069763183,
          3.795185422897339,
          3.724221038818359,
          3.65325665473938,
          3.5822922706604006,
          3.511327886581421,
          3.4403635025024415,
          3.3693991184234617,
          3.2984347343444824,
          3.3432880878448485,
          3.3881414413452147,
          3.4329947948455812,
          3.4778481483459474,
          3.5227015018463135,
          3.5675548553466796,
          3.6124082088470457,
          3.6572615623474123,
          3.7021149158477784,
          3.7469682693481445,
          3.7607115507125854,
          3.7744548320770264,
          3.7881981134414673,
          3.801941394805908,
          3.815684676170349,
          3.82942795753479,
          3.843171238899231,
          3.856914520263672,
          3.870657801628113,
          3.8844010829925537,
          3.8523802280426027,
          3.8203593730926513,
          3.7883385181427003,
          3.756317663192749,
          3.724296808242798,
          3.692275953292847,
          3.6602550983428954,
          3.6282342433929444,
          3.596213388442993,
          3.564192533493042,
          3.5834166288375853,
          3.602640724182129,
          3.6218648195266723,
          3.641088914871216,
          3.6603130102157593,
          3.6795371055603026,
          3.6987612009048463,
          3.7179852962493896,
          3.7372093915939333,
          3.7564334869384766,
          3.7487784147262575,
          3.741123342514038,
          3.733468270301819,
          3.7258131980895994,
          3.7181581258773804,
          3.7105030536651613,
          3.702847981452942,
          3.6951929092407227,
          3.6875378370285032,
          3.679882764816284,
          3.679882764816284,
          3.679882764816284,
          3.679882764816284
         ],
         "yaxis": "y2"
        }
       ],
       "layout": {
        "legend": {
         "font": {
          "size": 16
         },
         "title": {
          "text": "Metrics"
         },
         "tracegroupgap": 0
        },
        "template": {
         "data": {
          "bar": [
           {
            "error_x": {
             "color": "#2a3f5f"
            },
            "error_y": {
             "color": "#2a3f5f"
            },
            "marker": {
             "line": {
              "color": "#E5ECF6",
              "width": 0.5
             },
             "pattern": {
              "fillmode": "overlay",
              "size": 10,
              "solidity": 0.2
             }
            },
            "type": "bar"
           }
          ],
          "barpolar": [
           {
            "marker": {
             "line": {
              "color": "#E5ECF6",
              "width": 0.5
             },
             "pattern": {
              "fillmode": "overlay",
              "size": 10,
              "solidity": 0.2
             }
            },
            "type": "barpolar"
           }
          ],
          "carpet": [
           {
            "aaxis": {
             "endlinecolor": "#2a3f5f",
             "gridcolor": "white",
             "linecolor": "white",
             "minorgridcolor": "white",
             "startlinecolor": "#2a3f5f"
            },
            "baxis": {
             "endlinecolor": "#2a3f5f",
             "gridcolor": "white",
             "linecolor": "white",
             "minorgridcolor": "white",
             "startlinecolor": "#2a3f5f"
            },
            "type": "carpet"
           }
          ],
          "choropleth": [
           {
            "colorbar": {
             "outlinewidth": 0,
             "ticks": ""
            },
            "type": "choropleth"
           }
          ],
          "contour": [
           {
            "colorbar": {
             "outlinewidth": 0,
             "ticks": ""
            },
            "colorscale": [
             [
              0,
              "#0d0887"
             ],
             [
              0.1111111111111111,
              "#46039f"
             ],
             [
              0.2222222222222222,
              "#7201a8"
             ],
             [
              0.3333333333333333,
              "#9c179e"
             ],
             [
              0.4444444444444444,
              "#bd3786"
             ],
             [
              0.5555555555555556,
              "#d8576b"
             ],
             [
              0.6666666666666666,
              "#ed7953"
             ],
             [
              0.7777777777777778,
              "#fb9f3a"
             ],
             [
              0.8888888888888888,
              "#fdca26"
             ],
             [
              1,
              "#f0f921"
             ]
            ],
            "type": "contour"
           }
          ],
          "contourcarpet": [
           {
            "colorbar": {
             "outlinewidth": 0,
             "ticks": ""
            },
            "type": "contourcarpet"
           }
          ],
          "heatmap": [
           {
            "colorbar": {
             "outlinewidth": 0,
             "ticks": ""
            },
            "colorscale": [
             [
              0,
              "#0d0887"
             ],
             [
              0.1111111111111111,
              "#46039f"
             ],
             [
              0.2222222222222222,
              "#7201a8"
             ],
             [
              0.3333333333333333,
              "#9c179e"
             ],
             [
              0.4444444444444444,
              "#bd3786"
             ],
             [
              0.5555555555555556,
              "#d8576b"
             ],
             [
              0.6666666666666666,
              "#ed7953"
             ],
             [
              0.7777777777777778,
              "#fb9f3a"
             ],
             [
              0.8888888888888888,
              "#fdca26"
             ],
             [
              1,
              "#f0f921"
             ]
            ],
            "type": "heatmap"
           }
          ],
          "heatmapgl": [
           {
            "colorbar": {
             "outlinewidth": 0,
             "ticks": ""
            },
            "colorscale": [
             [
              0,
              "#0d0887"
             ],
             [
              0.1111111111111111,
              "#46039f"
             ],
             [
              0.2222222222222222,
              "#7201a8"
             ],
             [
              0.3333333333333333,
              "#9c179e"
             ],
             [
              0.4444444444444444,
              "#bd3786"
             ],
             [
              0.5555555555555556,
              "#d8576b"
             ],
             [
              0.6666666666666666,
              "#ed7953"
             ],
             [
              0.7777777777777778,
              "#fb9f3a"
             ],
             [
              0.8888888888888888,
              "#fdca26"
             ],
             [
              1,
              "#f0f921"
             ]
            ],
            "type": "heatmapgl"
           }
          ],
          "histogram": [
           {
            "marker": {
             "pattern": {
              "fillmode": "overlay",
              "size": 10,
              "solidity": 0.2
             }
            },
            "type": "histogram"
           }
          ],
          "histogram2d": [
           {
            "colorbar": {
             "outlinewidth": 0,
             "ticks": ""
            },
            "colorscale": [
             [
              0,
              "#0d0887"
             ],
             [
              0.1111111111111111,
              "#46039f"
             ],
             [
              0.2222222222222222,
              "#7201a8"
             ],
             [
              0.3333333333333333,
              "#9c179e"
             ],
             [
              0.4444444444444444,
              "#bd3786"
             ],
             [
              0.5555555555555556,
              "#d8576b"
             ],
             [
              0.6666666666666666,
              "#ed7953"
             ],
             [
              0.7777777777777778,
              "#fb9f3a"
             ],
             [
              0.8888888888888888,
              "#fdca26"
             ],
             [
              1,
              "#f0f921"
             ]
            ],
            "type": "histogram2d"
           }
          ],
          "histogram2dcontour": [
           {
            "colorbar": {
             "outlinewidth": 0,
             "ticks": ""
            },
            "colorscale": [
             [
              0,
              "#0d0887"
             ],
             [
              0.1111111111111111,
              "#46039f"
             ],
             [
              0.2222222222222222,
              "#7201a8"
             ],
             [
              0.3333333333333333,
              "#9c179e"
             ],
             [
              0.4444444444444444,
              "#bd3786"
             ],
             [
              0.5555555555555556,
              "#d8576b"
             ],
             [
              0.6666666666666666,
              "#ed7953"
             ],
             [
              0.7777777777777778,
              "#fb9f3a"
             ],
             [
              0.8888888888888888,
              "#fdca26"
             ],
             [
              1,
              "#f0f921"
             ]
            ],
            "type": "histogram2dcontour"
           }
          ],
          "mesh3d": [
           {
            "colorbar": {
             "outlinewidth": 0,
             "ticks": ""
            },
            "type": "mesh3d"
           }
          ],
          "parcoords": [
           {
            "line": {
             "colorbar": {
              "outlinewidth": 0,
              "ticks": ""
             }
            },
            "type": "parcoords"
           }
          ],
          "pie": [
           {
            "automargin": true,
            "type": "pie"
           }
          ],
          "scatter": [
           {
            "fillpattern": {
             "fillmode": "overlay",
             "size": 10,
             "solidity": 0.2
            },
            "type": "scatter"
           }
          ],
          "scatter3d": [
           {
            "line": {
             "colorbar": {
              "outlinewidth": 0,
              "ticks": ""
             }
            },
            "marker": {
             "colorbar": {
              "outlinewidth": 0,
              "ticks": ""
             }
            },
            "type": "scatter3d"
           }
          ],
          "scattercarpet": [
           {
            "marker": {
             "colorbar": {
              "outlinewidth": 0,
              "ticks": ""
             }
            },
            "type": "scattercarpet"
           }
          ],
          "scattergeo": [
           {
            "marker": {
             "colorbar": {
              "outlinewidth": 0,
              "ticks": ""
             }
            },
            "type": "scattergeo"
           }
          ],
          "scattergl": [
           {
            "marker": {
             "colorbar": {
              "outlinewidth": 0,
              "ticks": ""
             }
            },
            "type": "scattergl"
           }
          ],
          "scattermapbox": [
           {
            "marker": {
             "colorbar": {
              "outlinewidth": 0,
              "ticks": ""
             }
            },
            "type": "scattermapbox"
           }
          ],
          "scatterpolar": [
           {
            "marker": {
             "colorbar": {
              "outlinewidth": 0,
              "ticks": ""
             }
            },
            "type": "scatterpolar"
           }
          ],
          "scatterpolargl": [
           {
            "marker": {
             "colorbar": {
              "outlinewidth": 0,
              "ticks": ""
             }
            },
            "type": "scatterpolargl"
           }
          ],
          "scatterternary": [
           {
            "marker": {
             "colorbar": {
              "outlinewidth": 0,
              "ticks": ""
             }
            },
            "type": "scatterternary"
           }
          ],
          "surface": [
           {
            "colorbar": {
             "outlinewidth": 0,
             "ticks": ""
            },
            "colorscale": [
             [
              0,
              "#0d0887"
             ],
             [
              0.1111111111111111,
              "#46039f"
             ],
             [
              0.2222222222222222,
              "#7201a8"
             ],
             [
              0.3333333333333333,
              "#9c179e"
             ],
             [
              0.4444444444444444,
              "#bd3786"
             ],
             [
              0.5555555555555556,
              "#d8576b"
             ],
             [
              0.6666666666666666,
              "#ed7953"
             ],
             [
              0.7777777777777778,
              "#fb9f3a"
             ],
             [
              0.8888888888888888,
              "#fdca26"
             ],
             [
              1,
              "#f0f921"
             ]
            ],
            "type": "surface"
           }
          ],
          "table": [
           {
            "cells": {
             "fill": {
              "color": "#EBF0F8"
             },
             "line": {
              "color": "white"
             }
            },
            "header": {
             "fill": {
              "color": "#C8D4E3"
             },
             "line": {
              "color": "white"
             }
            },
            "type": "table"
           }
          ]
         },
         "layout": {
          "annotationdefaults": {
           "arrowcolor": "#2a3f5f",
           "arrowhead": 0,
           "arrowwidth": 1
          },
          "autotypenumbers": "strict",
          "coloraxis": {
           "colorbar": {
            "outlinewidth": 0,
            "ticks": ""
           }
          },
          "colorscale": {
           "diverging": [
            [
             0,
             "#8e0152"
            ],
            [
             0.1,
             "#c51b7d"
            ],
            [
             0.2,
             "#de77ae"
            ],
            [
             0.3,
             "#f1b6da"
            ],
            [
             0.4,
             "#fde0ef"
            ],
            [
             0.5,
             "#f7f7f7"
            ],
            [
             0.6,
             "#e6f5d0"
            ],
            [
             0.7,
             "#b8e186"
            ],
            [
             0.8,
             "#7fbc41"
            ],
            [
             0.9,
             "#4d9221"
            ],
            [
             1,
             "#276419"
            ]
           ],
           "sequential": [
            [
             0,
             "#0d0887"
            ],
            [
             0.1111111111111111,
             "#46039f"
            ],
            [
             0.2222222222222222,
             "#7201a8"
            ],
            [
             0.3333333333333333,
             "#9c179e"
            ],
            [
             0.4444444444444444,
             "#bd3786"
            ],
            [
             0.5555555555555556,
             "#d8576b"
            ],
            [
             0.6666666666666666,
             "#ed7953"
            ],
            [
             0.7777777777777778,
             "#fb9f3a"
            ],
            [
             0.8888888888888888,
             "#fdca26"
            ],
            [
             1,
             "#f0f921"
            ]
           ],
           "sequentialminus": [
            [
             0,
             "#0d0887"
            ],
            [
             0.1111111111111111,
             "#46039f"
            ],
            [
             0.2222222222222222,
             "#7201a8"
            ],
            [
             0.3333333333333333,
             "#9c179e"
            ],
            [
             0.4444444444444444,
             "#bd3786"
            ],
            [
             0.5555555555555556,
             "#d8576b"
            ],
            [
             0.6666666666666666,
             "#ed7953"
            ],
            [
             0.7777777777777778,
             "#fb9f3a"
            ],
            [
             0.8888888888888888,
             "#fdca26"
            ],
            [
             1,
             "#f0f921"
            ]
           ]
          },
          "colorway": [
           "#636efa",
           "#EF553B",
           "#00cc96",
           "#ab63fa",
           "#FFA15A",
           "#19d3f3",
           "#FF6692",
           "#B6E880",
           "#FF97FF",
           "#FECB52"
          ],
          "font": {
           "color": "#2a3f5f"
          },
          "geo": {
           "bgcolor": "white",
           "lakecolor": "white",
           "landcolor": "#E5ECF6",
           "showlakes": true,
           "showland": true,
           "subunitcolor": "white"
          },
          "hoverlabel": {
           "align": "left"
          },
          "hovermode": "closest",
          "mapbox": {
           "style": "light"
          },
          "paper_bgcolor": "white",
          "plot_bgcolor": "#E5ECF6",
          "polar": {
           "angularaxis": {
            "gridcolor": "white",
            "linecolor": "white",
            "ticks": ""
           },
           "bgcolor": "#E5ECF6",
           "radialaxis": {
            "gridcolor": "white",
            "linecolor": "white",
            "ticks": ""
           }
          },
          "scene": {
           "xaxis": {
            "backgroundcolor": "#E5ECF6",
            "gridcolor": "white",
            "gridwidth": 2,
            "linecolor": "white",
            "showbackground": true,
            "ticks": "",
            "zerolinecolor": "white"
           },
           "yaxis": {
            "backgroundcolor": "#E5ECF6",
            "gridcolor": "white",
            "gridwidth": 2,
            "linecolor": "white",
            "showbackground": true,
            "ticks": "",
            "zerolinecolor": "white"
           },
           "zaxis": {
            "backgroundcolor": "#E5ECF6",
            "gridcolor": "white",
            "gridwidth": 2,
            "linecolor": "white",
            "showbackground": true,
            "ticks": "",
            "zerolinecolor": "white"
           }
          },
          "shapedefaults": {
           "line": {
            "color": "#2a3f5f"
           }
          },
          "ternary": {
           "aaxis": {
            "gridcolor": "white",
            "linecolor": "white",
            "ticks": ""
           },
           "baxis": {
            "gridcolor": "white",
            "linecolor": "white",
            "ticks": ""
           },
           "bgcolor": "#E5ECF6",
           "caxis": {
            "gridcolor": "white",
            "linecolor": "white",
            "ticks": ""
           }
          },
          "title": {
           "x": 0.05
          },
          "xaxis": {
           "automargin": true,
           "gridcolor": "white",
           "linecolor": "white",
           "ticks": "",
           "title": {
            "standoff": 15
           },
           "zerolinecolor": "white",
           "zerolinewidth": 2
          },
          "yaxis": {
           "automargin": true,
           "gridcolor": "white",
           "linecolor": "white",
           "ticks": "",
           "title": {
            "standoff": 15
           },
           "zerolinecolor": "white",
           "zerolinewidth": 2
          }
         }
        },
        "title": {
         "text": "Weighted Jaccard Similarity to Checkpoint 143000 for pythia-410m"
        },
        "xaxis": {
         "anchor": "y",
         "domain": [
          0,
          1
         ],
         "title": {
          "font": {
           "size": 16
          },
          "text": "Training Checkpoint"
         },
         "type": "log"
        },
        "yaxis": {
         "anchor": "x",
         "domain": [
          0,
          1
         ],
         "range": [
          0,
          1
         ],
         "title": {
          "font": {
           "size": 16
          },
          "text": "Jaccard Similarity"
         }
        },
        "yaxis2": {
         "overlaying": "y",
         "range": [
          0,
          6
         ],
         "showgrid": false,
         "side": "right",
         "title": {
          "font": {
           "size": 16
          },
          "text": "Logit Diff"
         }
        }
       }
      },
      "text/html": [
       "<div>                            <div id=\"baca44e2-b178-4710-99eb-14bca30333c7\" class=\"plotly-graph-div\" style=\"height:525px; width:100%;\"></div>            <script type=\"text/javascript\">                require([\"plotly\"], function(Plotly) {                    window.PLOTLYENV=window.PLOTLYENV || {};                                    if (document.getElementById(\"baca44e2-b178-4710-99eb-14bca30333c7\")) {                    Plotly.newPlot(                        \"baca44e2-b178-4710-99eb-14bca30333c7\",                        [{\"hovertemplate\":\"variable=Jaccard Sim\\u003cbr\\u003echeckpoint=%{x}\\u003cbr\\u003evalue=%{y}\\u003cextra\\u003e\\u003c\\u002fextra\\u003e\",\"legendgroup\":\"Jaccard Sim\",\"line\":{\"color\":\"#636efa\",\"dash\":\"solid\"},\"marker\":{\"symbol\":\"circle\"},\"mode\":\"lines\",\"name\":\"Jaccard Sim\",\"orientation\":\"v\",\"showlegend\":true,\"x\":[3000,4000,5000,6000,7000,8000,9000,10000,11000,12000,13000,14000,15000,16000,17000,18000,19000,20000,21000,22000,23000,24000,25000,26000,27000,28000,29000,30000,31000,32000,33000,34000,35000,36000,37000,38000,39000,40000,41000,42000,43000,44000,45000,46000,47000,48000,49000,50000,51000,52000,53000,54000,55000,56000,57000,58000,59000,60000,61000,62000,63000,64000,65000,66000,67000,68000,69000,70000,71000,72000,73000,74000,75000,76000,77000,78000,79000,80000,81000,82000,83000,84000,85000,86000,87000,88000,89000,90000,91000,92000,93000,94000,95000,96000,97000,98000,99000,100000,101000,102000,103000,104000,105000,106000,107000,108000,109000,110000,111000,112000,113000,114000,115000,116000,117000,118000,119000,120000,121000,122000,123000,124000,125000,126000,127000,128000,129000,130000,131000,132000,133000,134000,135000,136000,137000,138000,139000,140000,141000,142000,143000],\"xaxis\":\"x\",\"y\":[0.08463035301555266,0.14288783991270185,0.1995083008190621,0.21902556572905854,0.23340163077243015,0.263061872646798,0.2483288677977129,0.25612766628627126,0.26356262397097174,0.2906412261926294,0.30223313598453166,0.3229419006900785,0.3870424624845297,0.35134430693129703,0.41054535002130604,0.3206567425743821,0.30409126140416254,0.32260478408720594,0.35195260339130346,0.4504671675906663,0.37692757664664545,0.365145249212028,0.33352970958861256,0.3682377418506793,0.35288821683475696,0.362106106037189,0.38724084730273806,0.33864288253126046,0.39434810821412447,0.4575196913909055,0.37952929986472134,0.3885354502987001,0.39706173023268837,0.42837367177656255,0.3907221748551498,0.484931854049624,0.5285870596419863,0.5452184552542656,0.44165160189688557,0.3573283765545853,0.395472426438482,0.41063587264521256,0.5897852264044635,0.48340408713221844,0.4173675915730126,0.5510173081775711,0.3504379587262914,0.42353623484696523,0.5901628066230518,0.6055069304672767,0.4261757194428292,0.602241632019554,0.6027758724641642,0.4706839237672059,0.617888436976081,0.6138417454612549,0.4134783340445211,0.6261176685149347,0.6323431875749059,0.44791479435386405,0.6498992933365036,0.6270175678654085,0.6102615701392464,0.6345167128907679,0.6554346998803506,0.627027025831633,0.6709328912410415,0.6416366408153396,0.7021184522837174,0.6630231113195132,0.6556911529943344,0.6905841650817611,0.6596702079224922,0.6416523095182721,0.6762614887300933,0.6963167289989148,0.6897068140094397,0.6903049050941739,0.6939199709092565,0.7077616071319975,0.741030473071508,0.7135609282789831,0.7180423421363664,0.7652372911358851,0.7210673186686709,0.7712169123557181,0.7563740633242991,0.7764168586847211,0.767598785661141,0.7641070202455124,0.8079446035967789,0.7707753433136122,0.7558412264929212,0.811662476649559,0.7971387323562745,0.8151156854516289,0.7894678898175821,0.7874925231348289,0.8006339717686125,0.818820402076864,0.7527978351398212,0.8203759546936936,0.8218217192224065,0.8291453579416561,0.8268563976089809,0.857679587295597,0.8515954953761729,0.8623992028204471,0.8748364640565328,0.839956936008861,0.8413005821943585,0.8643588422679509,0.8540988825481289,0.859104803194508,0.8449707722012034,0.8569813764735704,0.8548506850718123,0.8307682890312056,0.8444772618833527,0.8696004574962961,0.8257747758903282,0.8035797417116115,0.8386971706219257,0.8814355518106088,0.8753663050006456,0.8792687985480709,0.8521885423313136,0.8702200966929368,0.8575450871486536,0.8759320019191744,0.8781183945058767,0.8663821465021719,0.8699279741340088,0.8776255385012321,0.8905482648129567,0.8943725132096727,0.8895962201696298,0.8626116930051294,0.8913789951672955,0.8934946811502559,1.0],\"yaxis\":\"y\",\"type\":\"scatter\"},{\"line\":{\"color\":\"gray\",\"dash\":\"dot\",\"width\":2},\"mode\":\"lines\",\"name\":\"Logit Diff\",\"x\":[3000,4000,5000,6000,7000,8000,9000,10000,11000,12000,13000,14000,15000,16000,17000,18000,19000,20000,21000,22000,23000,24000,25000,26000,27000,28000,29000,30000,31000,32000,33000,34000,35000,36000,37000,38000,39000,40000,41000,42000,43000,44000,45000,46000,47000,48000,49000,50000,51000,52000,53000,54000,55000,56000,57000,58000,59000,60000,61000,62000,63000,64000,65000,66000,67000,68000,69000,70000,71000,72000,73000,74000,75000,76000,77000,78000,79000,80000,81000,82000,83000,84000,85000,86000,87000,88000,89000,90000,91000,92000,93000,94000,95000,96000,97000,98000,99000,100000,101000,102000,103000,104000,105000,106000,107000,108000,109000,110000,111000,112000,113000,114000,115000,116000,117000,118000,119000,120000,121000,122000,123000,124000,125000,126000,127000,128000,129000,130000,131000,132000,133000,134000,135000,136000,137000,138000,139000,140000,141000,142000,143000],\"y\":[1.2984895706176758,1.8091895580291748,3.284644842147827,4.488880157470703,3.800635576248169,4.6040778160095215,3.803982973098755,4.212908744812012,3.9969871044158936,3.9436161518096924,3.8937957286834717,3.193147897720337,3.7413523197174072,3.8434049606323244,3.945457601547241,4.047510242462158,4.149562883377075,4.251615524291992,4.138780212402343,4.0259449005126955,3.9131095886230467,3.8002742767333983,3.68743896484375,3.6378165245056153,3.5881940841674806,3.5385716438293455,3.488949203491211,3.439326763153076,3.497391700744629,3.5554566383361816,3.6135215759277344,3.671586513519287,3.72965145111084,3.776348829269409,3.8230462074279785,3.869743585586548,3.916440963745117,3.9631383419036865,3.925833988189697,3.888529634475708,3.8512252807617187,3.8139209270477297,3.7766165733337402,3.8386295318603514,3.900642490386963,3.962655448913574,4.024668407440186,4.086681365966797,4.049734163284302,4.012786960601806,3.9758397579193114,3.9388925552368166,3.9019453525543213,3.8799148082733153,3.8578842639923097,3.8358537197113036,3.813823175430298,3.791792631149292,3.8062237739562987,3.8206549167633055,3.8350860595703127,3.8495172023773194,3.863948345184326,3.7297369956970217,3.5955256462097167,3.461314296722412,3.3271029472351072,3.1928915977478027,3.27441029548645,3.3559289932250977,3.437447690963745,3.5189663887023928,3.60048508644104,3.6820037841796873,3.763522481918335,3.8450411796569823,3.92655987739563,4.008078575134277,3.937114191055298,3.8661498069763183,3.795185422897339,3.724221038818359,3.65325665473938,3.5822922706604006,3.511327886581421,3.4403635025024415,3.3693991184234617,3.2984347343444824,3.3432880878448485,3.3881414413452147,3.4329947948455812,3.4778481483459474,3.5227015018463135,3.5675548553466796,3.6124082088470457,3.6572615623474123,3.7021149158477784,3.7469682693481445,3.7607115507125854,3.7744548320770264,3.7881981134414673,3.801941394805908,3.815684676170349,3.82942795753479,3.843171238899231,3.856914520263672,3.870657801628113,3.8844010829925537,3.8523802280426027,3.8203593730926513,3.7883385181427003,3.756317663192749,3.724296808242798,3.692275953292847,3.6602550983428954,3.6282342433929444,3.596213388442993,3.564192533493042,3.5834166288375853,3.602640724182129,3.6218648195266723,3.641088914871216,3.6603130102157593,3.6795371055603026,3.6987612009048463,3.7179852962493896,3.7372093915939333,3.7564334869384766,3.7487784147262575,3.741123342514038,3.733468270301819,3.7258131980895994,3.7181581258773804,3.7105030536651613,3.702847981452942,3.6951929092407227,3.6875378370285032,3.679882764816284,3.679882764816284,3.679882764816284,3.679882764816284],\"yaxis\":\"y2\",\"type\":\"scatter\"}],                        {\"template\":{\"data\":{\"histogram2dcontour\":[{\"type\":\"histogram2dcontour\",\"colorbar\":{\"outlinewidth\":0,\"ticks\":\"\"},\"colorscale\":[[0.0,\"#0d0887\"],[0.1111111111111111,\"#46039f\"],[0.2222222222222222,\"#7201a8\"],[0.3333333333333333,\"#9c179e\"],[0.4444444444444444,\"#bd3786\"],[0.5555555555555556,\"#d8576b\"],[0.6666666666666666,\"#ed7953\"],[0.7777777777777778,\"#fb9f3a\"],[0.8888888888888888,\"#fdca26\"],[1.0,\"#f0f921\"]]}],\"choropleth\":[{\"type\":\"choropleth\",\"colorbar\":{\"outlinewidth\":0,\"ticks\":\"\"}}],\"histogram2d\":[{\"type\":\"histogram2d\",\"colorbar\":{\"outlinewidth\":0,\"ticks\":\"\"},\"colorscale\":[[0.0,\"#0d0887\"],[0.1111111111111111,\"#46039f\"],[0.2222222222222222,\"#7201a8\"],[0.3333333333333333,\"#9c179e\"],[0.4444444444444444,\"#bd3786\"],[0.5555555555555556,\"#d8576b\"],[0.6666666666666666,\"#ed7953\"],[0.7777777777777778,\"#fb9f3a\"],[0.8888888888888888,\"#fdca26\"],[1.0,\"#f0f921\"]]}],\"heatmap\":[{\"type\":\"heatmap\",\"colorbar\":{\"outlinewidth\":0,\"ticks\":\"\"},\"colorscale\":[[0.0,\"#0d0887\"],[0.1111111111111111,\"#46039f\"],[0.2222222222222222,\"#7201a8\"],[0.3333333333333333,\"#9c179e\"],[0.4444444444444444,\"#bd3786\"],[0.5555555555555556,\"#d8576b\"],[0.6666666666666666,\"#ed7953\"],[0.7777777777777778,\"#fb9f3a\"],[0.8888888888888888,\"#fdca26\"],[1.0,\"#f0f921\"]]}],\"heatmapgl\":[{\"type\":\"heatmapgl\",\"colorbar\":{\"outlinewidth\":0,\"ticks\":\"\"},\"colorscale\":[[0.0,\"#0d0887\"],[0.1111111111111111,\"#46039f\"],[0.2222222222222222,\"#7201a8\"],[0.3333333333333333,\"#9c179e\"],[0.4444444444444444,\"#bd3786\"],[0.5555555555555556,\"#d8576b\"],[0.6666666666666666,\"#ed7953\"],[0.7777777777777778,\"#fb9f3a\"],[0.8888888888888888,\"#fdca26\"],[1.0,\"#f0f921\"]]}],\"contourcarpet\":[{\"type\":\"contourcarpet\",\"colorbar\":{\"outlinewidth\":0,\"ticks\":\"\"}}],\"contour\":[{\"type\":\"contour\",\"colorbar\":{\"outlinewidth\":0,\"ticks\":\"\"},\"colorscale\":[[0.0,\"#0d0887\"],[0.1111111111111111,\"#46039f\"],[0.2222222222222222,\"#7201a8\"],[0.3333333333333333,\"#9c179e\"],[0.4444444444444444,\"#bd3786\"],[0.5555555555555556,\"#d8576b\"],[0.6666666666666666,\"#ed7953\"],[0.7777777777777778,\"#fb9f3a\"],[0.8888888888888888,\"#fdca26\"],[1.0,\"#f0f921\"]]}],\"surface\":[{\"type\":\"surface\",\"colorbar\":{\"outlinewidth\":0,\"ticks\":\"\"},\"colorscale\":[[0.0,\"#0d0887\"],[0.1111111111111111,\"#46039f\"],[0.2222222222222222,\"#7201a8\"],[0.3333333333333333,\"#9c179e\"],[0.4444444444444444,\"#bd3786\"],[0.5555555555555556,\"#d8576b\"],[0.6666666666666666,\"#ed7953\"],[0.7777777777777778,\"#fb9f3a\"],[0.8888888888888888,\"#fdca26\"],[1.0,\"#f0f921\"]]}],\"mesh3d\":[{\"type\":\"mesh3d\",\"colorbar\":{\"outlinewidth\":0,\"ticks\":\"\"}}],\"scatter\":[{\"fillpattern\":{\"fillmode\":\"overlay\",\"size\":10,\"solidity\":0.2},\"type\":\"scatter\"}],\"parcoords\":[{\"type\":\"parcoords\",\"line\":{\"colorbar\":{\"outlinewidth\":0,\"ticks\":\"\"}}}],\"scatterpolargl\":[{\"type\":\"scatterpolargl\",\"marker\":{\"colorbar\":{\"outlinewidth\":0,\"ticks\":\"\"}}}],\"bar\":[{\"error_x\":{\"color\":\"#2a3f5f\"},\"error_y\":{\"color\":\"#2a3f5f\"},\"marker\":{\"line\":{\"color\":\"#E5ECF6\",\"width\":0.5},\"pattern\":{\"fillmode\":\"overlay\",\"size\":10,\"solidity\":0.2}},\"type\":\"bar\"}],\"scattergeo\":[{\"type\":\"scattergeo\",\"marker\":{\"colorbar\":{\"outlinewidth\":0,\"ticks\":\"\"}}}],\"scatterpolar\":[{\"type\":\"scatterpolar\",\"marker\":{\"colorbar\":{\"outlinewidth\":0,\"ticks\":\"\"}}}],\"histogram\":[{\"marker\":{\"pattern\":{\"fillmode\":\"overlay\",\"size\":10,\"solidity\":0.2}},\"type\":\"histogram\"}],\"scattergl\":[{\"type\":\"scattergl\",\"marker\":{\"colorbar\":{\"outlinewidth\":0,\"ticks\":\"\"}}}],\"scatter3d\":[{\"type\":\"scatter3d\",\"line\":{\"colorbar\":{\"outlinewidth\":0,\"ticks\":\"\"}},\"marker\":{\"colorbar\":{\"outlinewidth\":0,\"ticks\":\"\"}}}],\"scattermapbox\":[{\"type\":\"scattermapbox\",\"marker\":{\"colorbar\":{\"outlinewidth\":0,\"ticks\":\"\"}}}],\"scatterternary\":[{\"type\":\"scatterternary\",\"marker\":{\"colorbar\":{\"outlinewidth\":0,\"ticks\":\"\"}}}],\"scattercarpet\":[{\"type\":\"scattercarpet\",\"marker\":{\"colorbar\":{\"outlinewidth\":0,\"ticks\":\"\"}}}],\"carpet\":[{\"aaxis\":{\"endlinecolor\":\"#2a3f5f\",\"gridcolor\":\"white\",\"linecolor\":\"white\",\"minorgridcolor\":\"white\",\"startlinecolor\":\"#2a3f5f\"},\"baxis\":{\"endlinecolor\":\"#2a3f5f\",\"gridcolor\":\"white\",\"linecolor\":\"white\",\"minorgridcolor\":\"white\",\"startlinecolor\":\"#2a3f5f\"},\"type\":\"carpet\"}],\"table\":[{\"cells\":{\"fill\":{\"color\":\"#EBF0F8\"},\"line\":{\"color\":\"white\"}},\"header\":{\"fill\":{\"color\":\"#C8D4E3\"},\"line\":{\"color\":\"white\"}},\"type\":\"table\"}],\"barpolar\":[{\"marker\":{\"line\":{\"color\":\"#E5ECF6\",\"width\":0.5},\"pattern\":{\"fillmode\":\"overlay\",\"size\":10,\"solidity\":0.2}},\"type\":\"barpolar\"}],\"pie\":[{\"automargin\":true,\"type\":\"pie\"}]},\"layout\":{\"autotypenumbers\":\"strict\",\"colorway\":[\"#636efa\",\"#EF553B\",\"#00cc96\",\"#ab63fa\",\"#FFA15A\",\"#19d3f3\",\"#FF6692\",\"#B6E880\",\"#FF97FF\",\"#FECB52\"],\"font\":{\"color\":\"#2a3f5f\"},\"hovermode\":\"closest\",\"hoverlabel\":{\"align\":\"left\"},\"paper_bgcolor\":\"white\",\"plot_bgcolor\":\"#E5ECF6\",\"polar\":{\"bgcolor\":\"#E5ECF6\",\"angularaxis\":{\"gridcolor\":\"white\",\"linecolor\":\"white\",\"ticks\":\"\"},\"radialaxis\":{\"gridcolor\":\"white\",\"linecolor\":\"white\",\"ticks\":\"\"}},\"ternary\":{\"bgcolor\":\"#E5ECF6\",\"aaxis\":{\"gridcolor\":\"white\",\"linecolor\":\"white\",\"ticks\":\"\"},\"baxis\":{\"gridcolor\":\"white\",\"linecolor\":\"white\",\"ticks\":\"\"},\"caxis\":{\"gridcolor\":\"white\",\"linecolor\":\"white\",\"ticks\":\"\"}},\"coloraxis\":{\"colorbar\":{\"outlinewidth\":0,\"ticks\":\"\"}},\"colorscale\":{\"sequential\":[[0.0,\"#0d0887\"],[0.1111111111111111,\"#46039f\"],[0.2222222222222222,\"#7201a8\"],[0.3333333333333333,\"#9c179e\"],[0.4444444444444444,\"#bd3786\"],[0.5555555555555556,\"#d8576b\"],[0.6666666666666666,\"#ed7953\"],[0.7777777777777778,\"#fb9f3a\"],[0.8888888888888888,\"#fdca26\"],[1.0,\"#f0f921\"]],\"sequentialminus\":[[0.0,\"#0d0887\"],[0.1111111111111111,\"#46039f\"],[0.2222222222222222,\"#7201a8\"],[0.3333333333333333,\"#9c179e\"],[0.4444444444444444,\"#bd3786\"],[0.5555555555555556,\"#d8576b\"],[0.6666666666666666,\"#ed7953\"],[0.7777777777777778,\"#fb9f3a\"],[0.8888888888888888,\"#fdca26\"],[1.0,\"#f0f921\"]],\"diverging\":[[0,\"#8e0152\"],[0.1,\"#c51b7d\"],[0.2,\"#de77ae\"],[0.3,\"#f1b6da\"],[0.4,\"#fde0ef\"],[0.5,\"#f7f7f7\"],[0.6,\"#e6f5d0\"],[0.7,\"#b8e186\"],[0.8,\"#7fbc41\"],[0.9,\"#4d9221\"],[1,\"#276419\"]]},\"xaxis\":{\"gridcolor\":\"white\",\"linecolor\":\"white\",\"ticks\":\"\",\"title\":{\"standoff\":15},\"zerolinecolor\":\"white\",\"automargin\":true,\"zerolinewidth\":2},\"yaxis\":{\"gridcolor\":\"white\",\"linecolor\":\"white\",\"ticks\":\"\",\"title\":{\"standoff\":15},\"zerolinecolor\":\"white\",\"automargin\":true,\"zerolinewidth\":2},\"scene\":{\"xaxis\":{\"backgroundcolor\":\"#E5ECF6\",\"gridcolor\":\"white\",\"linecolor\":\"white\",\"showbackground\":true,\"ticks\":\"\",\"zerolinecolor\":\"white\",\"gridwidth\":2},\"yaxis\":{\"backgroundcolor\":\"#E5ECF6\",\"gridcolor\":\"white\",\"linecolor\":\"white\",\"showbackground\":true,\"ticks\":\"\",\"zerolinecolor\":\"white\",\"gridwidth\":2},\"zaxis\":{\"backgroundcolor\":\"#E5ECF6\",\"gridcolor\":\"white\",\"linecolor\":\"white\",\"showbackground\":true,\"ticks\":\"\",\"zerolinecolor\":\"white\",\"gridwidth\":2}},\"shapedefaults\":{\"line\":{\"color\":\"#2a3f5f\"}},\"annotationdefaults\":{\"arrowcolor\":\"#2a3f5f\",\"arrowhead\":0,\"arrowwidth\":1},\"geo\":{\"bgcolor\":\"white\",\"landcolor\":\"#E5ECF6\",\"subunitcolor\":\"white\",\"showland\":true,\"showlakes\":true,\"lakecolor\":\"white\"},\"title\":{\"x\":0.05},\"mapbox\":{\"style\":\"light\"}}},\"xaxis\":{\"anchor\":\"y\",\"domain\":[0.0,1.0],\"title\":{\"text\":\"Training Checkpoint\",\"font\":{\"size\":16}},\"type\":\"log\"},\"yaxis\":{\"anchor\":\"x\",\"domain\":[0.0,1.0],\"title\":{\"text\":\"Jaccard Similarity\",\"font\":{\"size\":16}},\"range\":[0,1]},\"legend\":{\"title\":{\"text\":\"Metrics\"},\"tracegroupgap\":0,\"font\":{\"size\":16}},\"title\":{\"text\":\"Weighted Jaccard Similarity to Checkpoint 143000 for pythia-410m\"},\"yaxis2\":{\"title\":{\"text\":\"Logit Diff\",\"font\":{\"size\":16}},\"range\":[0,6],\"overlaying\":\"y\",\"side\":\"right\",\"showgrid\":false}},                        {\"responsive\": true}                    ).then(function(){\n",
       "                            \n",
       "var gd = document.getElementById('baca44e2-b178-4710-99eb-14bca30333c7');\n",
       "var x = new MutationObserver(function (mutations, observer) {{\n",
       "        var display = window.getComputedStyle(gd).display;\n",
       "        if (!display || display === 'none') {{\n",
       "            console.log([gd, 'removed!']);\n",
       "            Plotly.purge(gd);\n",
       "            observer.disconnect();\n",
       "        }}\n",
       "}});\n",
       "\n",
       "// Listen for the removal of the full notebook cells\n",
       "var notebookContainer = gd.closest('#notebook-container');\n",
       "if (notebookContainer) {{\n",
       "    x.observe(notebookContainer, {childList: true});\n",
       "}}\n",
       "\n",
       "// Listen for the clearing of the current output cell\n",
       "var outputEl = gd.closest('.output');\n",
       "if (outputEl) {{\n",
       "    x.observe(outputEl, {childList: true});\n",
       "}}\n",
       "\n",
       "                        })                };                });            </script>        </div>"
      ]
     },
     "metadata": {},
     "output_type": "display_data"
    }
   ],
   "source": [
    "comparison_checkpoint = 143000\n",
    "\n",
    "jaccard_reference_results = compute_weighted_jaccard_similarity_to_reference(in_circuit_df, comparison_checkpoint)\n",
    "plot_graph_metric(\n",
    "    jaccard_reference_results, \n",
    "    'jaccard_similarity', \n",
    "    perf_metric_dict, \n",
    "    f'Weighted Jaccard Similarity to Checkpoint {comparison_checkpoint} for {MODEL_NAME}', \n",
    "    y_ranges=((0, 1), (0, 6)), \n",
    "    left_y_title=\"Jaccard Similarity\",\n",
    "    x_axis_col='checkpoint', \n",
    "    log_x=True,\n",
    "    metric_legend_name=\"Jaccard Sim\",\n",
    "    output_path = OUTPUT_DIR\n",
    ")"
   ]
  },
  {
   "cell_type": "code",
   "execution_count": 179,
   "metadata": {},
   "outputs": [
    {
     "data": {
      "application/vnd.plotly.v1+json": {
       "config": {
        "plotlyServerURL": "https://plotly.com"
       },
       "data": [
        {
         "hovertemplate": "variable=Jaccard Sim<br>checkpoint_2=%{x}<br>value=%{y}<extra></extra>",
         "legendgroup": "Jaccard Sim",
         "line": {
          "color": "#636efa",
          "dash": "solid"
         },
         "marker": {
          "symbol": "circle"
         },
         "mode": "lines",
         "name": "Jaccard Sim",
         "orientation": "v",
         "showlegend": true,
         "type": "scatter",
         "x": [
          4000,
          5000,
          6000,
          7000,
          8000,
          9000,
          10000,
          11000,
          12000,
          13000,
          14000,
          15000,
          16000,
          17000,
          18000,
          19000,
          20000,
          21000,
          22000,
          23000,
          24000,
          25000,
          26000,
          27000,
          28000,
          29000,
          30000,
          31000,
          32000,
          33000,
          34000,
          35000,
          36000,
          37000,
          38000,
          39000,
          40000,
          41000,
          42000,
          43000,
          44000,
          45000,
          46000,
          47000,
          48000,
          49000,
          50000,
          51000,
          52000,
          53000,
          54000,
          55000,
          56000,
          57000,
          58000,
          59000,
          60000,
          61000,
          62000,
          63000,
          64000,
          65000,
          66000,
          67000,
          68000,
          69000,
          70000,
          71000,
          72000,
          73000,
          74000,
          75000,
          76000,
          77000,
          78000,
          79000,
          80000,
          81000,
          82000,
          83000,
          84000,
          85000,
          86000,
          87000,
          88000,
          89000,
          90000,
          91000,
          92000,
          93000,
          94000,
          95000,
          96000,
          97000,
          98000,
          99000,
          100000,
          101000,
          102000,
          103000,
          104000,
          105000,
          106000,
          107000,
          108000,
          109000,
          110000,
          111000,
          112000,
          113000,
          114000,
          115000,
          116000,
          117000,
          118000,
          119000,
          120000,
          121000,
          122000,
          123000,
          124000,
          125000,
          126000,
          127000,
          128000,
          129000,
          130000,
          131000,
          132000,
          133000,
          134000,
          135000,
          136000,
          137000,
          138000,
          139000,
          140000,
          141000,
          142000,
          143000
         ],
         "xaxis": "x",
         "y": [
          0.053857486167211865,
          0.08771050251327922,
          0.10210695156698048,
          0.11196435626101742,
          0.12327070741054262,
          0.13457204596837308,
          0.13940702996250104,
          0.13958175486421098,
          0.14286189224880855,
          0.14697856476196897,
          0.14791770496547102,
          0.16075305079269475,
          0.16338283901279557,
          0.16838570939597797,
          0.1845750441709306,
          0.17854966983149043,
          0.17627317380214128,
          0.1745127393917539,
          0.19342567601787017,
          0.20459304064891087,
          0.20055442750984412,
          0.20175927784103637,
          0.19755617346262175,
          0.1925065367532236,
          0.1915060113559972,
          0.18672702150849663,
          0.18803967645076888,
          0.191816419983283,
          0.19966708029211253,
          0.2072853679110757,
          0.20179375017816784,
          0.19513288138796797,
          0.1938354293892008,
          0.19419105848172247,
          0.20744736214897672,
          0.20929916046962296,
          0.20470554155837478,
          0.21594872774558477,
          0.22346018430692272,
          0.2162724026281291,
          0.2118875354087847,
          0.23546230839220725,
          0.24406048190040552,
          0.24833994246596747,
          0.2617572351550493,
          0.28282772943542134,
          0.2784071545836239,
          0.28969816636893075,
          0.276189194511568,
          0.2914243982640428,
          0.3023110203724635,
          0.28630797409549624,
          0.295170815593416,
          0.30316708094624756,
          0.28593216295693313,
          0.3008424453143523,
          0.3140022712055782,
          0.2960143285570762,
          0.30548453168173034,
          0.31640050622843513,
          0.29849241842912827,
          0.28317724658402654,
          0.268912549633524,
          0.25616484459552696,
          0.24489693166922247,
          0.23941402632622183,
          0.23114856025277508,
          0.2278280061272753,
          0.2229374246163884,
          0.21295831256944311,
          0.20497738610581437,
          0.19728111871688667,
          0.1962766859823418,
          0.19495281532671885,
          0.18538811913190004,
          0.18171037168699564,
          0.1802502747260587,
          0.17576190128654715,
          0.17329476027339097,
          0.16919770313255136,
          0.16543893259098677,
          0.16036574570554624,
          0.16078440717531672,
          0.15989648777822943,
          0.15939539293522562,
          0.15580144774945154,
          0.1562779575502629,
          0.15480376921877223,
          0.15228782222265885,
          0.15343285234801723,
          0.1539712474837193,
          0.15030580077429523,
          0.1547931195220426,
          0.15215261421688192,
          0.14908178074468967,
          0.1473211010686877,
          0.14308543808329657,
          0.14001484240768786,
          0.137830507921751,
          0.14568738628315617,
          0.14902261785470683,
          0.14261735297618403,
          0.13700092132189573,
          0.13403158870853046,
          0.13381420530698346,
          0.13202931061869913,
          0.12767672077287603,
          0.12562377543978512,
          0.126276672099756,
          0.12669661073452246,
          0.12616366276455318,
          0.12533302796588552,
          0.12501318210261628,
          0.12699482420434163,
          0.12940671405914053,
          0.12664459522604507,
          0.1267132228685831,
          0.12502534175096608,
          0.12411352475680035,
          0.12518504252783166,
          0.12223456222726647,
          0.12117656274843225,
          0.12012025634957177,
          0.11867411758444801,
          0.11675414451514399,
          0.1141818788448029,
          0.11391795632877161,
          0.11692467084402111,
          0.11571987700324597,
          0.11451889899108564,
          0.11468730081370358,
          0.11261343390211692,
          0.1119684958700229,
          0.11130887856265144,
          0.11003530600789949,
          0.10923233025559843,
          0.11069916752418299,
          0.11529485009111858,
          0.11746087386681042,
          0.1163653183651038
         ],
         "yaxis": "y"
        },
        {
         "line": {
          "color": "gray",
          "dash": "dot",
          "width": 2
         },
         "mode": "lines",
         "name": "Logit Diff",
         "type": "scatter",
         "x": [
          4000,
          5000,
          6000,
          7000,
          8000,
          9000,
          10000,
          11000,
          12000,
          13000,
          14000,
          15000,
          16000,
          17000,
          18000,
          19000,
          20000,
          21000,
          22000,
          23000,
          24000,
          25000,
          26000,
          27000,
          28000,
          29000,
          30000,
          31000,
          32000,
          33000,
          34000,
          35000,
          36000,
          37000,
          38000,
          39000,
          40000,
          41000,
          42000,
          43000,
          44000,
          45000,
          46000,
          47000,
          48000,
          49000,
          50000,
          51000,
          52000,
          53000,
          54000,
          55000,
          56000,
          57000,
          58000,
          59000,
          60000,
          61000,
          62000,
          63000,
          64000,
          65000,
          66000,
          67000,
          68000,
          69000,
          70000,
          71000,
          72000,
          73000,
          74000,
          75000,
          76000,
          77000,
          78000,
          79000,
          80000,
          81000,
          82000,
          83000,
          84000,
          85000,
          86000,
          87000,
          88000,
          89000,
          90000,
          91000,
          92000,
          93000,
          94000,
          95000,
          96000,
          97000,
          98000,
          99000,
          100000,
          101000,
          102000,
          103000,
          104000,
          105000,
          106000,
          107000,
          108000,
          109000,
          110000,
          111000,
          112000,
          113000,
          114000,
          115000,
          116000,
          117000,
          118000,
          119000,
          120000,
          121000,
          122000,
          123000,
          124000,
          125000,
          126000,
          127000,
          128000,
          129000,
          130000,
          131000,
          132000,
          133000,
          134000,
          135000,
          136000,
          137000,
          138000,
          139000,
          140000,
          141000,
          142000,
          143000
         ],
         "y": [
          1.8091895580291748,
          3.284644842147827,
          4.488880157470703,
          3.800635576248169,
          4.6040778160095215,
          3.803982973098755,
          4.212908744812012,
          3.9969871044158936,
          3.9436161518096924,
          3.8937957286834717,
          3.193147897720337,
          3.7413523197174072,
          3.8434049606323244,
          3.945457601547241,
          4.047510242462158,
          4.149562883377075,
          4.251615524291992,
          4.138780212402343,
          4.0259449005126955,
          3.9131095886230467,
          3.8002742767333983,
          3.68743896484375,
          3.6378165245056153,
          3.5881940841674806,
          3.5385716438293455,
          3.488949203491211,
          3.439326763153076,
          3.497391700744629,
          3.5554566383361816,
          3.6135215759277344,
          3.671586513519287,
          3.72965145111084,
          3.776348829269409,
          3.8230462074279785,
          3.869743585586548,
          3.916440963745117,
          3.9631383419036865,
          3.925833988189697,
          3.888529634475708,
          3.8512252807617187,
          3.8139209270477297,
          3.7766165733337402,
          3.8386295318603514,
          3.900642490386963,
          3.962655448913574,
          4.024668407440186,
          4.086681365966797,
          4.049734163284302,
          4.012786960601806,
          3.9758397579193114,
          3.9388925552368166,
          3.9019453525543213,
          3.8799148082733153,
          3.8578842639923097,
          3.8358537197113036,
          3.813823175430298,
          3.791792631149292,
          3.8062237739562987,
          3.8206549167633055,
          3.8350860595703127,
          3.8495172023773194,
          3.863948345184326,
          3.7297369956970217,
          3.5955256462097167,
          3.461314296722412,
          3.3271029472351072,
          3.1928915977478027,
          3.27441029548645,
          3.3559289932250977,
          3.437447690963745,
          3.5189663887023928,
          3.60048508644104,
          3.6820037841796873,
          3.763522481918335,
          3.8450411796569823,
          3.92655987739563,
          4.008078575134277,
          3.937114191055298,
          3.8661498069763183,
          3.795185422897339,
          3.724221038818359,
          3.65325665473938,
          3.5822922706604006,
          3.511327886581421,
          3.4403635025024415,
          3.3693991184234617,
          3.2984347343444824,
          3.3432880878448485,
          3.3881414413452147,
          3.4329947948455812,
          3.4778481483459474,
          3.5227015018463135,
          3.5675548553466796,
          3.6124082088470457,
          3.6572615623474123,
          3.7021149158477784,
          3.7469682693481445,
          3.7607115507125854,
          3.7744548320770264,
          3.7881981134414673,
          3.801941394805908,
          3.815684676170349,
          3.82942795753479,
          3.843171238899231,
          3.856914520263672,
          3.870657801628113,
          3.8844010829925537,
          3.8523802280426027,
          3.8203593730926513,
          3.7883385181427003,
          3.756317663192749,
          3.724296808242798,
          3.692275953292847,
          3.6602550983428954,
          3.6282342433929444,
          3.596213388442993,
          3.564192533493042,
          3.5834166288375853,
          3.602640724182129,
          3.6218648195266723,
          3.641088914871216,
          3.6603130102157593,
          3.6795371055603026,
          3.6987612009048463,
          3.7179852962493896,
          3.7372093915939333,
          3.7564334869384766,
          3.7487784147262575,
          3.741123342514038,
          3.733468270301819,
          3.7258131980895994,
          3.7181581258773804,
          3.7105030536651613,
          3.702847981452942,
          3.6951929092407227,
          3.6875378370285032,
          3.679882764816284,
          3.679882764816284,
          3.679882764816284,
          3.679882764816284
         ],
         "yaxis": "y2"
        }
       ],
       "layout": {
        "legend": {
         "font": {
          "size": 16
         },
         "title": {
          "text": "Metrics"
         },
         "tracegroupgap": 0
        },
        "template": {
         "data": {
          "bar": [
           {
            "error_x": {
             "color": "#2a3f5f"
            },
            "error_y": {
             "color": "#2a3f5f"
            },
            "marker": {
             "line": {
              "color": "#E5ECF6",
              "width": 0.5
             },
             "pattern": {
              "fillmode": "overlay",
              "size": 10,
              "solidity": 0.2
             }
            },
            "type": "bar"
           }
          ],
          "barpolar": [
           {
            "marker": {
             "line": {
              "color": "#E5ECF6",
              "width": 0.5
             },
             "pattern": {
              "fillmode": "overlay",
              "size": 10,
              "solidity": 0.2
             }
            },
            "type": "barpolar"
           }
          ],
          "carpet": [
           {
            "aaxis": {
             "endlinecolor": "#2a3f5f",
             "gridcolor": "white",
             "linecolor": "white",
             "minorgridcolor": "white",
             "startlinecolor": "#2a3f5f"
            },
            "baxis": {
             "endlinecolor": "#2a3f5f",
             "gridcolor": "white",
             "linecolor": "white",
             "minorgridcolor": "white",
             "startlinecolor": "#2a3f5f"
            },
            "type": "carpet"
           }
          ],
          "choropleth": [
           {
            "colorbar": {
             "outlinewidth": 0,
             "ticks": ""
            },
            "type": "choropleth"
           }
          ],
          "contour": [
           {
            "colorbar": {
             "outlinewidth": 0,
             "ticks": ""
            },
            "colorscale": [
             [
              0,
              "#0d0887"
             ],
             [
              0.1111111111111111,
              "#46039f"
             ],
             [
              0.2222222222222222,
              "#7201a8"
             ],
             [
              0.3333333333333333,
              "#9c179e"
             ],
             [
              0.4444444444444444,
              "#bd3786"
             ],
             [
              0.5555555555555556,
              "#d8576b"
             ],
             [
              0.6666666666666666,
              "#ed7953"
             ],
             [
              0.7777777777777778,
              "#fb9f3a"
             ],
             [
              0.8888888888888888,
              "#fdca26"
             ],
             [
              1,
              "#f0f921"
             ]
            ],
            "type": "contour"
           }
          ],
          "contourcarpet": [
           {
            "colorbar": {
             "outlinewidth": 0,
             "ticks": ""
            },
            "type": "contourcarpet"
           }
          ],
          "heatmap": [
           {
            "colorbar": {
             "outlinewidth": 0,
             "ticks": ""
            },
            "colorscale": [
             [
              0,
              "#0d0887"
             ],
             [
              0.1111111111111111,
              "#46039f"
             ],
             [
              0.2222222222222222,
              "#7201a8"
             ],
             [
              0.3333333333333333,
              "#9c179e"
             ],
             [
              0.4444444444444444,
              "#bd3786"
             ],
             [
              0.5555555555555556,
              "#d8576b"
             ],
             [
              0.6666666666666666,
              "#ed7953"
             ],
             [
              0.7777777777777778,
              "#fb9f3a"
             ],
             [
              0.8888888888888888,
              "#fdca26"
             ],
             [
              1,
              "#f0f921"
             ]
            ],
            "type": "heatmap"
           }
          ],
          "heatmapgl": [
           {
            "colorbar": {
             "outlinewidth": 0,
             "ticks": ""
            },
            "colorscale": [
             [
              0,
              "#0d0887"
             ],
             [
              0.1111111111111111,
              "#46039f"
             ],
             [
              0.2222222222222222,
              "#7201a8"
             ],
             [
              0.3333333333333333,
              "#9c179e"
             ],
             [
              0.4444444444444444,
              "#bd3786"
             ],
             [
              0.5555555555555556,
              "#d8576b"
             ],
             [
              0.6666666666666666,
              "#ed7953"
             ],
             [
              0.7777777777777778,
              "#fb9f3a"
             ],
             [
              0.8888888888888888,
              "#fdca26"
             ],
             [
              1,
              "#f0f921"
             ]
            ],
            "type": "heatmapgl"
           }
          ],
          "histogram": [
           {
            "marker": {
             "pattern": {
              "fillmode": "overlay",
              "size": 10,
              "solidity": 0.2
             }
            },
            "type": "histogram"
           }
          ],
          "histogram2d": [
           {
            "colorbar": {
             "outlinewidth": 0,
             "ticks": ""
            },
            "colorscale": [
             [
              0,
              "#0d0887"
             ],
             [
              0.1111111111111111,
              "#46039f"
             ],
             [
              0.2222222222222222,
              "#7201a8"
             ],
             [
              0.3333333333333333,
              "#9c179e"
             ],
             [
              0.4444444444444444,
              "#bd3786"
             ],
             [
              0.5555555555555556,
              "#d8576b"
             ],
             [
              0.6666666666666666,
              "#ed7953"
             ],
             [
              0.7777777777777778,
              "#fb9f3a"
             ],
             [
              0.8888888888888888,
              "#fdca26"
             ],
             [
              1,
              "#f0f921"
             ]
            ],
            "type": "histogram2d"
           }
          ],
          "histogram2dcontour": [
           {
            "colorbar": {
             "outlinewidth": 0,
             "ticks": ""
            },
            "colorscale": [
             [
              0,
              "#0d0887"
             ],
             [
              0.1111111111111111,
              "#46039f"
             ],
             [
              0.2222222222222222,
              "#7201a8"
             ],
             [
              0.3333333333333333,
              "#9c179e"
             ],
             [
              0.4444444444444444,
              "#bd3786"
             ],
             [
              0.5555555555555556,
              "#d8576b"
             ],
             [
              0.6666666666666666,
              "#ed7953"
             ],
             [
              0.7777777777777778,
              "#fb9f3a"
             ],
             [
              0.8888888888888888,
              "#fdca26"
             ],
             [
              1,
              "#f0f921"
             ]
            ],
            "type": "histogram2dcontour"
           }
          ],
          "mesh3d": [
           {
            "colorbar": {
             "outlinewidth": 0,
             "ticks": ""
            },
            "type": "mesh3d"
           }
          ],
          "parcoords": [
           {
            "line": {
             "colorbar": {
              "outlinewidth": 0,
              "ticks": ""
             }
            },
            "type": "parcoords"
           }
          ],
          "pie": [
           {
            "automargin": true,
            "type": "pie"
           }
          ],
          "scatter": [
           {
            "fillpattern": {
             "fillmode": "overlay",
             "size": 10,
             "solidity": 0.2
            },
            "type": "scatter"
           }
          ],
          "scatter3d": [
           {
            "line": {
             "colorbar": {
              "outlinewidth": 0,
              "ticks": ""
             }
            },
            "marker": {
             "colorbar": {
              "outlinewidth": 0,
              "ticks": ""
             }
            },
            "type": "scatter3d"
           }
          ],
          "scattercarpet": [
           {
            "marker": {
             "colorbar": {
              "outlinewidth": 0,
              "ticks": ""
             }
            },
            "type": "scattercarpet"
           }
          ],
          "scattergeo": [
           {
            "marker": {
             "colorbar": {
              "outlinewidth": 0,
              "ticks": ""
             }
            },
            "type": "scattergeo"
           }
          ],
          "scattergl": [
           {
            "marker": {
             "colorbar": {
              "outlinewidth": 0,
              "ticks": ""
             }
            },
            "type": "scattergl"
           }
          ],
          "scattermapbox": [
           {
            "marker": {
             "colorbar": {
              "outlinewidth": 0,
              "ticks": ""
             }
            },
            "type": "scattermapbox"
           }
          ],
          "scatterpolar": [
           {
            "marker": {
             "colorbar": {
              "outlinewidth": 0,
              "ticks": ""
             }
            },
            "type": "scatterpolar"
           }
          ],
          "scatterpolargl": [
           {
            "marker": {
             "colorbar": {
              "outlinewidth": 0,
              "ticks": ""
             }
            },
            "type": "scatterpolargl"
           }
          ],
          "scatterternary": [
           {
            "marker": {
             "colorbar": {
              "outlinewidth": 0,
              "ticks": ""
             }
            },
            "type": "scatterternary"
           }
          ],
          "surface": [
           {
            "colorbar": {
             "outlinewidth": 0,
             "ticks": ""
            },
            "colorscale": [
             [
              0,
              "#0d0887"
             ],
             [
              0.1111111111111111,
              "#46039f"
             ],
             [
              0.2222222222222222,
              "#7201a8"
             ],
             [
              0.3333333333333333,
              "#9c179e"
             ],
             [
              0.4444444444444444,
              "#bd3786"
             ],
             [
              0.5555555555555556,
              "#d8576b"
             ],
             [
              0.6666666666666666,
              "#ed7953"
             ],
             [
              0.7777777777777778,
              "#fb9f3a"
             ],
             [
              0.8888888888888888,
              "#fdca26"
             ],
             [
              1,
              "#f0f921"
             ]
            ],
            "type": "surface"
           }
          ],
          "table": [
           {
            "cells": {
             "fill": {
              "color": "#EBF0F8"
             },
             "line": {
              "color": "white"
             }
            },
            "header": {
             "fill": {
              "color": "#C8D4E3"
             },
             "line": {
              "color": "white"
             }
            },
            "type": "table"
           }
          ]
         },
         "layout": {
          "annotationdefaults": {
           "arrowcolor": "#2a3f5f",
           "arrowhead": 0,
           "arrowwidth": 1
          },
          "autotypenumbers": "strict",
          "coloraxis": {
           "colorbar": {
            "outlinewidth": 0,
            "ticks": ""
           }
          },
          "colorscale": {
           "diverging": [
            [
             0,
             "#8e0152"
            ],
            [
             0.1,
             "#c51b7d"
            ],
            [
             0.2,
             "#de77ae"
            ],
            [
             0.3,
             "#f1b6da"
            ],
            [
             0.4,
             "#fde0ef"
            ],
            [
             0.5,
             "#f7f7f7"
            ],
            [
             0.6,
             "#e6f5d0"
            ],
            [
             0.7,
             "#b8e186"
            ],
            [
             0.8,
             "#7fbc41"
            ],
            [
             0.9,
             "#4d9221"
            ],
            [
             1,
             "#276419"
            ]
           ],
           "sequential": [
            [
             0,
             "#0d0887"
            ],
            [
             0.1111111111111111,
             "#46039f"
            ],
            [
             0.2222222222222222,
             "#7201a8"
            ],
            [
             0.3333333333333333,
             "#9c179e"
            ],
            [
             0.4444444444444444,
             "#bd3786"
            ],
            [
             0.5555555555555556,
             "#d8576b"
            ],
            [
             0.6666666666666666,
             "#ed7953"
            ],
            [
             0.7777777777777778,
             "#fb9f3a"
            ],
            [
             0.8888888888888888,
             "#fdca26"
            ],
            [
             1,
             "#f0f921"
            ]
           ],
           "sequentialminus": [
            [
             0,
             "#0d0887"
            ],
            [
             0.1111111111111111,
             "#46039f"
            ],
            [
             0.2222222222222222,
             "#7201a8"
            ],
            [
             0.3333333333333333,
             "#9c179e"
            ],
            [
             0.4444444444444444,
             "#bd3786"
            ],
            [
             0.5555555555555556,
             "#d8576b"
            ],
            [
             0.6666666666666666,
             "#ed7953"
            ],
            [
             0.7777777777777778,
             "#fb9f3a"
            ],
            [
             0.8888888888888888,
             "#fdca26"
            ],
            [
             1,
             "#f0f921"
            ]
           ]
          },
          "colorway": [
           "#636efa",
           "#EF553B",
           "#00cc96",
           "#ab63fa",
           "#FFA15A",
           "#19d3f3",
           "#FF6692",
           "#B6E880",
           "#FF97FF",
           "#FECB52"
          ],
          "font": {
           "color": "#2a3f5f"
          },
          "geo": {
           "bgcolor": "white",
           "lakecolor": "white",
           "landcolor": "#E5ECF6",
           "showlakes": true,
           "showland": true,
           "subunitcolor": "white"
          },
          "hoverlabel": {
           "align": "left"
          },
          "hovermode": "closest",
          "mapbox": {
           "style": "light"
          },
          "paper_bgcolor": "white",
          "plot_bgcolor": "#E5ECF6",
          "polar": {
           "angularaxis": {
            "gridcolor": "white",
            "linecolor": "white",
            "ticks": ""
           },
           "bgcolor": "#E5ECF6",
           "radialaxis": {
            "gridcolor": "white",
            "linecolor": "white",
            "ticks": ""
           }
          },
          "scene": {
           "xaxis": {
            "backgroundcolor": "#E5ECF6",
            "gridcolor": "white",
            "gridwidth": 2,
            "linecolor": "white",
            "showbackground": true,
            "ticks": "",
            "zerolinecolor": "white"
           },
           "yaxis": {
            "backgroundcolor": "#E5ECF6",
            "gridcolor": "white",
            "gridwidth": 2,
            "linecolor": "white",
            "showbackground": true,
            "ticks": "",
            "zerolinecolor": "white"
           },
           "zaxis": {
            "backgroundcolor": "#E5ECF6",
            "gridcolor": "white",
            "gridwidth": 2,
            "linecolor": "white",
            "showbackground": true,
            "ticks": "",
            "zerolinecolor": "white"
           }
          },
          "shapedefaults": {
           "line": {
            "color": "#2a3f5f"
           }
          },
          "ternary": {
           "aaxis": {
            "gridcolor": "white",
            "linecolor": "white",
            "ticks": ""
           },
           "baxis": {
            "gridcolor": "white",
            "linecolor": "white",
            "ticks": ""
           },
           "bgcolor": "#E5ECF6",
           "caxis": {
            "gridcolor": "white",
            "linecolor": "white",
            "ticks": ""
           }
          },
          "title": {
           "x": 0.05
          },
          "xaxis": {
           "automargin": true,
           "gridcolor": "white",
           "linecolor": "white",
           "ticks": "",
           "title": {
            "standoff": 15
           },
           "zerolinecolor": "white",
           "zerolinewidth": 2
          },
          "yaxis": {
           "automargin": true,
           "gridcolor": "white",
           "linecolor": "white",
           "ticks": "",
           "title": {
            "standoff": 15
           },
           "zerolinecolor": "white",
           "zerolinewidth": 2
          }
         }
        },
        "title": {
         "text": "Exponential Weighted Average Graph Change Rate for pythia-410m"
        },
        "xaxis": {
         "anchor": "y",
         "domain": [
          0,
          1
         ],
         "title": {
          "font": {
           "size": 16
          },
          "text": "Training Checkpoint"
         },
         "type": "log"
        },
        "yaxis": {
         "anchor": "x",
         "domain": [
          0,
          1
         ],
         "range": [
          0,
          1
         ],
         "title": {
          "font": {
           "size": 16
          },
          "text": "Jaccard Similarity"
         }
        },
        "yaxis2": {
         "overlaying": "y",
         "range": [
          0,
          6
         ],
         "showgrid": false,
         "side": "right",
         "title": {
          "font": {
           "size": 16
          },
          "text": "Logit Diff"
         }
        }
       }
      },
      "text/html": [
       "<div>                            <div id=\"35ac4189-c615-4713-82d8-ab658245b6ae\" class=\"plotly-graph-div\" style=\"height:525px; width:100%;\"></div>            <script type=\"text/javascript\">                require([\"plotly\"], function(Plotly) {                    window.PLOTLYENV=window.PLOTLYENV || {};                                    if (document.getElementById(\"35ac4189-c615-4713-82d8-ab658245b6ae\")) {                    Plotly.newPlot(                        \"35ac4189-c615-4713-82d8-ab658245b6ae\",                        [{\"hovertemplate\":\"variable=Jaccard Sim\\u003cbr\\u003echeckpoint_2=%{x}\\u003cbr\\u003evalue=%{y}\\u003cextra\\u003e\\u003c\\u002fextra\\u003e\",\"legendgroup\":\"Jaccard Sim\",\"line\":{\"color\":\"#636efa\",\"dash\":\"solid\"},\"marker\":{\"symbol\":\"circle\"},\"mode\":\"lines\",\"name\":\"Jaccard Sim\",\"orientation\":\"v\",\"showlegend\":true,\"x\":[4000,5000,6000,7000,8000,9000,10000,11000,12000,13000,14000,15000,16000,17000,18000,19000,20000,21000,22000,23000,24000,25000,26000,27000,28000,29000,30000,31000,32000,33000,34000,35000,36000,37000,38000,39000,40000,41000,42000,43000,44000,45000,46000,47000,48000,49000,50000,51000,52000,53000,54000,55000,56000,57000,58000,59000,60000,61000,62000,63000,64000,65000,66000,67000,68000,69000,70000,71000,72000,73000,74000,75000,76000,77000,78000,79000,80000,81000,82000,83000,84000,85000,86000,87000,88000,89000,90000,91000,92000,93000,94000,95000,96000,97000,98000,99000,100000,101000,102000,103000,104000,105000,106000,107000,108000,109000,110000,111000,112000,113000,114000,115000,116000,117000,118000,119000,120000,121000,122000,123000,124000,125000,126000,127000,128000,129000,130000,131000,132000,133000,134000,135000,136000,137000,138000,139000,140000,141000,142000,143000],\"xaxis\":\"x\",\"y\":[0.053857486167211865,0.08771050251327922,0.10210695156698048,0.11196435626101742,0.12327070741054262,0.13457204596837308,0.13940702996250104,0.13958175486421098,0.14286189224880855,0.14697856476196897,0.14791770496547102,0.16075305079269475,0.16338283901279557,0.16838570939597797,0.1845750441709306,0.17854966983149043,0.17627317380214128,0.1745127393917539,0.19342567601787017,0.20459304064891087,0.20055442750984412,0.20175927784103637,0.19755617346262175,0.1925065367532236,0.1915060113559972,0.18672702150849663,0.18803967645076888,0.191816419983283,0.19966708029211253,0.2072853679110757,0.20179375017816784,0.19513288138796797,0.1938354293892008,0.19419105848172247,0.20744736214897672,0.20929916046962296,0.20470554155837478,0.21594872774558477,0.22346018430692272,0.2162724026281291,0.2118875354087847,0.23546230839220725,0.24406048190040552,0.24833994246596747,0.2617572351550493,0.28282772943542134,0.2784071545836239,0.28969816636893075,0.276189194511568,0.2914243982640428,0.3023110203724635,0.28630797409549624,0.295170815593416,0.30316708094624756,0.28593216295693313,0.3008424453143523,0.3140022712055782,0.2960143285570762,0.30548453168173034,0.31640050622843513,0.29849241842912827,0.28317724658402654,0.268912549633524,0.25616484459552696,0.24489693166922247,0.23941402632622183,0.23114856025277508,0.2278280061272753,0.2229374246163884,0.21295831256944311,0.20497738610581437,0.19728111871688667,0.1962766859823418,0.19495281532671885,0.18538811913190004,0.18171037168699564,0.1802502747260587,0.17576190128654715,0.17329476027339097,0.16919770313255136,0.16543893259098677,0.16036574570554624,0.16078440717531672,0.15989648777822943,0.15939539293522562,0.15580144774945154,0.1562779575502629,0.15480376921877223,0.15228782222265885,0.15343285234801723,0.1539712474837193,0.15030580077429523,0.1547931195220426,0.15215261421688192,0.14908178074468967,0.1473211010686877,0.14308543808329657,0.14001484240768786,0.137830507921751,0.14568738628315617,0.14902261785470683,0.14261735297618403,0.13700092132189573,0.13403158870853046,0.13381420530698346,0.13202931061869913,0.12767672077287603,0.12562377543978512,0.126276672099756,0.12669661073452246,0.12616366276455318,0.12533302796588552,0.12501318210261628,0.12699482420434163,0.12940671405914053,0.12664459522604507,0.1267132228685831,0.12502534175096608,0.12411352475680035,0.12518504252783166,0.12223456222726647,0.12117656274843225,0.12012025634957177,0.11867411758444801,0.11675414451514399,0.1141818788448029,0.11391795632877161,0.11692467084402111,0.11571987700324597,0.11451889899108564,0.11468730081370358,0.11261343390211692,0.1119684958700229,0.11130887856265144,0.11003530600789949,0.10923233025559843,0.11069916752418299,0.11529485009111858,0.11746087386681042,0.1163653183651038],\"yaxis\":\"y\",\"type\":\"scatter\"},{\"line\":{\"color\":\"gray\",\"dash\":\"dot\",\"width\":2},\"mode\":\"lines\",\"name\":\"Logit Diff\",\"x\":[4000,5000,6000,7000,8000,9000,10000,11000,12000,13000,14000,15000,16000,17000,18000,19000,20000,21000,22000,23000,24000,25000,26000,27000,28000,29000,30000,31000,32000,33000,34000,35000,36000,37000,38000,39000,40000,41000,42000,43000,44000,45000,46000,47000,48000,49000,50000,51000,52000,53000,54000,55000,56000,57000,58000,59000,60000,61000,62000,63000,64000,65000,66000,67000,68000,69000,70000,71000,72000,73000,74000,75000,76000,77000,78000,79000,80000,81000,82000,83000,84000,85000,86000,87000,88000,89000,90000,91000,92000,93000,94000,95000,96000,97000,98000,99000,100000,101000,102000,103000,104000,105000,106000,107000,108000,109000,110000,111000,112000,113000,114000,115000,116000,117000,118000,119000,120000,121000,122000,123000,124000,125000,126000,127000,128000,129000,130000,131000,132000,133000,134000,135000,136000,137000,138000,139000,140000,141000,142000,143000],\"y\":[1.8091895580291748,3.284644842147827,4.488880157470703,3.800635576248169,4.6040778160095215,3.803982973098755,4.212908744812012,3.9969871044158936,3.9436161518096924,3.8937957286834717,3.193147897720337,3.7413523197174072,3.8434049606323244,3.945457601547241,4.047510242462158,4.149562883377075,4.251615524291992,4.138780212402343,4.0259449005126955,3.9131095886230467,3.8002742767333983,3.68743896484375,3.6378165245056153,3.5881940841674806,3.5385716438293455,3.488949203491211,3.439326763153076,3.497391700744629,3.5554566383361816,3.6135215759277344,3.671586513519287,3.72965145111084,3.776348829269409,3.8230462074279785,3.869743585586548,3.916440963745117,3.9631383419036865,3.925833988189697,3.888529634475708,3.8512252807617187,3.8139209270477297,3.7766165733337402,3.8386295318603514,3.900642490386963,3.962655448913574,4.024668407440186,4.086681365966797,4.049734163284302,4.012786960601806,3.9758397579193114,3.9388925552368166,3.9019453525543213,3.8799148082733153,3.8578842639923097,3.8358537197113036,3.813823175430298,3.791792631149292,3.8062237739562987,3.8206549167633055,3.8350860595703127,3.8495172023773194,3.863948345184326,3.7297369956970217,3.5955256462097167,3.461314296722412,3.3271029472351072,3.1928915977478027,3.27441029548645,3.3559289932250977,3.437447690963745,3.5189663887023928,3.60048508644104,3.6820037841796873,3.763522481918335,3.8450411796569823,3.92655987739563,4.008078575134277,3.937114191055298,3.8661498069763183,3.795185422897339,3.724221038818359,3.65325665473938,3.5822922706604006,3.511327886581421,3.4403635025024415,3.3693991184234617,3.2984347343444824,3.3432880878448485,3.3881414413452147,3.4329947948455812,3.4778481483459474,3.5227015018463135,3.5675548553466796,3.6124082088470457,3.6572615623474123,3.7021149158477784,3.7469682693481445,3.7607115507125854,3.7744548320770264,3.7881981134414673,3.801941394805908,3.815684676170349,3.82942795753479,3.843171238899231,3.856914520263672,3.870657801628113,3.8844010829925537,3.8523802280426027,3.8203593730926513,3.7883385181427003,3.756317663192749,3.724296808242798,3.692275953292847,3.6602550983428954,3.6282342433929444,3.596213388442993,3.564192533493042,3.5834166288375853,3.602640724182129,3.6218648195266723,3.641088914871216,3.6603130102157593,3.6795371055603026,3.6987612009048463,3.7179852962493896,3.7372093915939333,3.7564334869384766,3.7487784147262575,3.741123342514038,3.733468270301819,3.7258131980895994,3.7181581258773804,3.7105030536651613,3.702847981452942,3.6951929092407227,3.6875378370285032,3.679882764816284,3.679882764816284,3.679882764816284,3.679882764816284],\"yaxis\":\"y2\",\"type\":\"scatter\"}],                        {\"template\":{\"data\":{\"histogram2dcontour\":[{\"type\":\"histogram2dcontour\",\"colorbar\":{\"outlinewidth\":0,\"ticks\":\"\"},\"colorscale\":[[0.0,\"#0d0887\"],[0.1111111111111111,\"#46039f\"],[0.2222222222222222,\"#7201a8\"],[0.3333333333333333,\"#9c179e\"],[0.4444444444444444,\"#bd3786\"],[0.5555555555555556,\"#d8576b\"],[0.6666666666666666,\"#ed7953\"],[0.7777777777777778,\"#fb9f3a\"],[0.8888888888888888,\"#fdca26\"],[1.0,\"#f0f921\"]]}],\"choropleth\":[{\"type\":\"choropleth\",\"colorbar\":{\"outlinewidth\":0,\"ticks\":\"\"}}],\"histogram2d\":[{\"type\":\"histogram2d\",\"colorbar\":{\"outlinewidth\":0,\"ticks\":\"\"},\"colorscale\":[[0.0,\"#0d0887\"],[0.1111111111111111,\"#46039f\"],[0.2222222222222222,\"#7201a8\"],[0.3333333333333333,\"#9c179e\"],[0.4444444444444444,\"#bd3786\"],[0.5555555555555556,\"#d8576b\"],[0.6666666666666666,\"#ed7953\"],[0.7777777777777778,\"#fb9f3a\"],[0.8888888888888888,\"#fdca26\"],[1.0,\"#f0f921\"]]}],\"heatmap\":[{\"type\":\"heatmap\",\"colorbar\":{\"outlinewidth\":0,\"ticks\":\"\"},\"colorscale\":[[0.0,\"#0d0887\"],[0.1111111111111111,\"#46039f\"],[0.2222222222222222,\"#7201a8\"],[0.3333333333333333,\"#9c179e\"],[0.4444444444444444,\"#bd3786\"],[0.5555555555555556,\"#d8576b\"],[0.6666666666666666,\"#ed7953\"],[0.7777777777777778,\"#fb9f3a\"],[0.8888888888888888,\"#fdca26\"],[1.0,\"#f0f921\"]]}],\"heatmapgl\":[{\"type\":\"heatmapgl\",\"colorbar\":{\"outlinewidth\":0,\"ticks\":\"\"},\"colorscale\":[[0.0,\"#0d0887\"],[0.1111111111111111,\"#46039f\"],[0.2222222222222222,\"#7201a8\"],[0.3333333333333333,\"#9c179e\"],[0.4444444444444444,\"#bd3786\"],[0.5555555555555556,\"#d8576b\"],[0.6666666666666666,\"#ed7953\"],[0.7777777777777778,\"#fb9f3a\"],[0.8888888888888888,\"#fdca26\"],[1.0,\"#f0f921\"]]}],\"contourcarpet\":[{\"type\":\"contourcarpet\",\"colorbar\":{\"outlinewidth\":0,\"ticks\":\"\"}}],\"contour\":[{\"type\":\"contour\",\"colorbar\":{\"outlinewidth\":0,\"ticks\":\"\"},\"colorscale\":[[0.0,\"#0d0887\"],[0.1111111111111111,\"#46039f\"],[0.2222222222222222,\"#7201a8\"],[0.3333333333333333,\"#9c179e\"],[0.4444444444444444,\"#bd3786\"],[0.5555555555555556,\"#d8576b\"],[0.6666666666666666,\"#ed7953\"],[0.7777777777777778,\"#fb9f3a\"],[0.8888888888888888,\"#fdca26\"],[1.0,\"#f0f921\"]]}],\"surface\":[{\"type\":\"surface\",\"colorbar\":{\"outlinewidth\":0,\"ticks\":\"\"},\"colorscale\":[[0.0,\"#0d0887\"],[0.1111111111111111,\"#46039f\"],[0.2222222222222222,\"#7201a8\"],[0.3333333333333333,\"#9c179e\"],[0.4444444444444444,\"#bd3786\"],[0.5555555555555556,\"#d8576b\"],[0.6666666666666666,\"#ed7953\"],[0.7777777777777778,\"#fb9f3a\"],[0.8888888888888888,\"#fdca26\"],[1.0,\"#f0f921\"]]}],\"mesh3d\":[{\"type\":\"mesh3d\",\"colorbar\":{\"outlinewidth\":0,\"ticks\":\"\"}}],\"scatter\":[{\"fillpattern\":{\"fillmode\":\"overlay\",\"size\":10,\"solidity\":0.2},\"type\":\"scatter\"}],\"parcoords\":[{\"type\":\"parcoords\",\"line\":{\"colorbar\":{\"outlinewidth\":0,\"ticks\":\"\"}}}],\"scatterpolargl\":[{\"type\":\"scatterpolargl\",\"marker\":{\"colorbar\":{\"outlinewidth\":0,\"ticks\":\"\"}}}],\"bar\":[{\"error_x\":{\"color\":\"#2a3f5f\"},\"error_y\":{\"color\":\"#2a3f5f\"},\"marker\":{\"line\":{\"color\":\"#E5ECF6\",\"width\":0.5},\"pattern\":{\"fillmode\":\"overlay\",\"size\":10,\"solidity\":0.2}},\"type\":\"bar\"}],\"scattergeo\":[{\"type\":\"scattergeo\",\"marker\":{\"colorbar\":{\"outlinewidth\":0,\"ticks\":\"\"}}}],\"scatterpolar\":[{\"type\":\"scatterpolar\",\"marker\":{\"colorbar\":{\"outlinewidth\":0,\"ticks\":\"\"}}}],\"histogram\":[{\"marker\":{\"pattern\":{\"fillmode\":\"overlay\",\"size\":10,\"solidity\":0.2}},\"type\":\"histogram\"}],\"scattergl\":[{\"type\":\"scattergl\",\"marker\":{\"colorbar\":{\"outlinewidth\":0,\"ticks\":\"\"}}}],\"scatter3d\":[{\"type\":\"scatter3d\",\"line\":{\"colorbar\":{\"outlinewidth\":0,\"ticks\":\"\"}},\"marker\":{\"colorbar\":{\"outlinewidth\":0,\"ticks\":\"\"}}}],\"scattermapbox\":[{\"type\":\"scattermapbox\",\"marker\":{\"colorbar\":{\"outlinewidth\":0,\"ticks\":\"\"}}}],\"scatterternary\":[{\"type\":\"scatterternary\",\"marker\":{\"colorbar\":{\"outlinewidth\":0,\"ticks\":\"\"}}}],\"scattercarpet\":[{\"type\":\"scattercarpet\",\"marker\":{\"colorbar\":{\"outlinewidth\":0,\"ticks\":\"\"}}}],\"carpet\":[{\"aaxis\":{\"endlinecolor\":\"#2a3f5f\",\"gridcolor\":\"white\",\"linecolor\":\"white\",\"minorgridcolor\":\"white\",\"startlinecolor\":\"#2a3f5f\"},\"baxis\":{\"endlinecolor\":\"#2a3f5f\",\"gridcolor\":\"white\",\"linecolor\":\"white\",\"minorgridcolor\":\"white\",\"startlinecolor\":\"#2a3f5f\"},\"type\":\"carpet\"}],\"table\":[{\"cells\":{\"fill\":{\"color\":\"#EBF0F8\"},\"line\":{\"color\":\"white\"}},\"header\":{\"fill\":{\"color\":\"#C8D4E3\"},\"line\":{\"color\":\"white\"}},\"type\":\"table\"}],\"barpolar\":[{\"marker\":{\"line\":{\"color\":\"#E5ECF6\",\"width\":0.5},\"pattern\":{\"fillmode\":\"overlay\",\"size\":10,\"solidity\":0.2}},\"type\":\"barpolar\"}],\"pie\":[{\"automargin\":true,\"type\":\"pie\"}]},\"layout\":{\"autotypenumbers\":\"strict\",\"colorway\":[\"#636efa\",\"#EF553B\",\"#00cc96\",\"#ab63fa\",\"#FFA15A\",\"#19d3f3\",\"#FF6692\",\"#B6E880\",\"#FF97FF\",\"#FECB52\"],\"font\":{\"color\":\"#2a3f5f\"},\"hovermode\":\"closest\",\"hoverlabel\":{\"align\":\"left\"},\"paper_bgcolor\":\"white\",\"plot_bgcolor\":\"#E5ECF6\",\"polar\":{\"bgcolor\":\"#E5ECF6\",\"angularaxis\":{\"gridcolor\":\"white\",\"linecolor\":\"white\",\"ticks\":\"\"},\"radialaxis\":{\"gridcolor\":\"white\",\"linecolor\":\"white\",\"ticks\":\"\"}},\"ternary\":{\"bgcolor\":\"#E5ECF6\",\"aaxis\":{\"gridcolor\":\"white\",\"linecolor\":\"white\",\"ticks\":\"\"},\"baxis\":{\"gridcolor\":\"white\",\"linecolor\":\"white\",\"ticks\":\"\"},\"caxis\":{\"gridcolor\":\"white\",\"linecolor\":\"white\",\"ticks\":\"\"}},\"coloraxis\":{\"colorbar\":{\"outlinewidth\":0,\"ticks\":\"\"}},\"colorscale\":{\"sequential\":[[0.0,\"#0d0887\"],[0.1111111111111111,\"#46039f\"],[0.2222222222222222,\"#7201a8\"],[0.3333333333333333,\"#9c179e\"],[0.4444444444444444,\"#bd3786\"],[0.5555555555555556,\"#d8576b\"],[0.6666666666666666,\"#ed7953\"],[0.7777777777777778,\"#fb9f3a\"],[0.8888888888888888,\"#fdca26\"],[1.0,\"#f0f921\"]],\"sequentialminus\":[[0.0,\"#0d0887\"],[0.1111111111111111,\"#46039f\"],[0.2222222222222222,\"#7201a8\"],[0.3333333333333333,\"#9c179e\"],[0.4444444444444444,\"#bd3786\"],[0.5555555555555556,\"#d8576b\"],[0.6666666666666666,\"#ed7953\"],[0.7777777777777778,\"#fb9f3a\"],[0.8888888888888888,\"#fdca26\"],[1.0,\"#f0f921\"]],\"diverging\":[[0,\"#8e0152\"],[0.1,\"#c51b7d\"],[0.2,\"#de77ae\"],[0.3,\"#f1b6da\"],[0.4,\"#fde0ef\"],[0.5,\"#f7f7f7\"],[0.6,\"#e6f5d0\"],[0.7,\"#b8e186\"],[0.8,\"#7fbc41\"],[0.9,\"#4d9221\"],[1,\"#276419\"]]},\"xaxis\":{\"gridcolor\":\"white\",\"linecolor\":\"white\",\"ticks\":\"\",\"title\":{\"standoff\":15},\"zerolinecolor\":\"white\",\"automargin\":true,\"zerolinewidth\":2},\"yaxis\":{\"gridcolor\":\"white\",\"linecolor\":\"white\",\"ticks\":\"\",\"title\":{\"standoff\":15},\"zerolinecolor\":\"white\",\"automargin\":true,\"zerolinewidth\":2},\"scene\":{\"xaxis\":{\"backgroundcolor\":\"#E5ECF6\",\"gridcolor\":\"white\",\"linecolor\":\"white\",\"showbackground\":true,\"ticks\":\"\",\"zerolinecolor\":\"white\",\"gridwidth\":2},\"yaxis\":{\"backgroundcolor\":\"#E5ECF6\",\"gridcolor\":\"white\",\"linecolor\":\"white\",\"showbackground\":true,\"ticks\":\"\",\"zerolinecolor\":\"white\",\"gridwidth\":2},\"zaxis\":{\"backgroundcolor\":\"#E5ECF6\",\"gridcolor\":\"white\",\"linecolor\":\"white\",\"showbackground\":true,\"ticks\":\"\",\"zerolinecolor\":\"white\",\"gridwidth\":2}},\"shapedefaults\":{\"line\":{\"color\":\"#2a3f5f\"}},\"annotationdefaults\":{\"arrowcolor\":\"#2a3f5f\",\"arrowhead\":0,\"arrowwidth\":1},\"geo\":{\"bgcolor\":\"white\",\"landcolor\":\"#E5ECF6\",\"subunitcolor\":\"white\",\"showland\":true,\"showlakes\":true,\"lakecolor\":\"white\"},\"title\":{\"x\":0.05},\"mapbox\":{\"style\":\"light\"}}},\"xaxis\":{\"anchor\":\"y\",\"domain\":[0.0,1.0],\"title\":{\"text\":\"Training Checkpoint\",\"font\":{\"size\":16}},\"type\":\"log\"},\"yaxis\":{\"anchor\":\"x\",\"domain\":[0.0,1.0],\"title\":{\"text\":\"Jaccard Similarity\",\"font\":{\"size\":16}},\"range\":[0,1]},\"legend\":{\"title\":{\"text\":\"Metrics\"},\"tracegroupgap\":0,\"font\":{\"size\":16}},\"title\":{\"text\":\"Exponential Weighted Average Graph Change Rate for pythia-410m\"},\"yaxis2\":{\"title\":{\"text\":\"Logit Diff\",\"font\":{\"size\":16}},\"range\":[0,6],\"overlaying\":\"y\",\"side\":\"right\",\"showgrid\":false}},                        {\"responsive\": true}                    ).then(function(){\n",
       "                            \n",
       "var gd = document.getElementById('35ac4189-c615-4713-82d8-ab658245b6ae');\n",
       "var x = new MutationObserver(function (mutations, observer) {{\n",
       "        var display = window.getComputedStyle(gd).display;\n",
       "        if (!display || display === 'none') {{\n",
       "            console.log([gd, 'removed!']);\n",
       "            Plotly.purge(gd);\n",
       "            observer.disconnect();\n",
       "        }}\n",
       "}});\n",
       "\n",
       "// Listen for the removal of the full notebook cells\n",
       "var notebookContainer = gd.closest('#notebook-container');\n",
       "if (notebookContainer) {{\n",
       "    x.observe(notebookContainer, {childList: true});\n",
       "}}\n",
       "\n",
       "// Listen for the clearing of the current output cell\n",
       "var outputEl = gd.closest('.output');\n",
       "if (outputEl) {{\n",
       "    x.observe(outputEl, {childList: true});\n",
       "}}\n",
       "\n",
       "                        })                };                });            </script>        </div>"
      ]
     },
     "metadata": {},
     "output_type": "display_data"
    }
   ],
   "source": [
    "jaccard_reference_results = compute_ewma_weighted_jaccard_similarity(in_circuit_df, alpha=0.1)\n",
    "plot_graph_metric(\n",
    "    jaccard_reference_results, \n",
    "    'ewma_change_rate', \n",
    "    perf_metric_dict, \n",
    "    f'Exponential Weighted Average Graph Change Rate for {MODEL_NAME}', \n",
    "    y_ranges=((0, 1), (0, 6)), \n",
    "    left_y_title=\"Jaccard Similarity\",\n",
    "    x_axis_col='checkpoint_2', \n",
    "    log_x=True,\n",
    "    metric_legend_name=\"Jaccard Sim\",\n",
    "    output_path = OUTPUT_DIR\n",
    ")"
   ]
  },
  {
   "cell_type": "code",
   "execution_count": null,
   "metadata": {},
   "outputs": [],
   "source": []
  },
  {
   "cell_type": "code",
   "execution_count": null,
   "metadata": {},
   "outputs": [],
   "source": []
  }
 ],
 "metadata": {
  "kernelspec": {
   "display_name": "Python 3 (ipykernel)",
   "language": "python",
   "name": "python3"
  },
  "language_info": {
   "codemirror_mode": {
    "name": "ipython",
    "version": 3
   },
   "file_extension": ".py",
   "mimetype": "text/x-python",
   "name": "python",
   "nbconvert_exporter": "python",
   "pygments_lexer": "ipython3",
   "version": "3.8.19"
  },
  "orig_nbformat": 4
 },
 "nbformat": 4,
 "nbformat_minor": 2
}
