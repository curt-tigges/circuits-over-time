{
 "cells": [
  {
   "attachments": {},
   "cell_type": "markdown",
   "metadata": {},
   "source": [
    "## Setup"
   ]
  },
  {
   "cell_type": "code",
   "execution_count": 25,
   "metadata": {},
   "outputs": [],
   "source": [
    "import os\n",
    "import json\n",
    "import glob\n",
    "import torch\n",
    "import re\n",
    "import pandas as pd\n",
    "import plotly.express as px\n",
    "import plotly.graph_objects as go\n",
    "import plotly.io as pio\n",
    "#import seaborn as sns\n",
    "import matplotlib.pyplot as plt\n",
    "from utils.data_processing import (\n",
    "    load_edge_scores_into_dictionary,\n",
    "    read_json_file,\n",
    "    get_ckpts,\n",
    "    load_metrics,\n",
    "    compute_ged,\n",
    "    compute_weighted_ged,\n",
    "    compute_gtd,\n",
    "    compute_jaccard_similarity_to_reference,\n",
    "    compute_jaccard_similarity,\n",
    "    aggregate_metrics_to_tensors_step_number,\n",
    "    get_ckpts\n",
    ")"
   ]
  },
  {
   "cell_type": "code",
   "execution_count": 26,
   "metadata": {},
   "outputs": [],
   "source": [
    "TASK = 'ioi'\n",
    "PERFORMANCE_METRIC = 'logit_diff'"
   ]
  },
  {
   "attachments": {},
   "cell_type": "markdown",
   "metadata": {},
   "source": [
    "## Retrieve & Process Data"
   ]
  },
  {
   "attachments": {},
   "cell_type": "markdown",
   "metadata": {},
   "source": [
    "### Circuit Data"
   ]
  },
  {
   "cell_type": "code",
   "execution_count": 27,
   "metadata": {},
   "outputs": [
    {
     "name": "stdout",
     "output_type": "stream",
     "text": [
      "Processing file 1/153: results/graphs/pythia-160m/ioi/57000.json\n",
      "Processing file 2/153: results/graphs/pythia-160m/ioi/141000.json\n",
      "Processing file 3/153: results/graphs/pythia-160m/ioi/95000.json\n",
      "Processing file 4/153: results/graphs/pythia-160m/ioi/107000.json\n",
      "Processing file 5/153: results/graphs/pythia-160m/ioi/34000.json\n",
      "Processing file 6/153: results/graphs/pythia-160m/ioi/6000.json\n",
      "Processing file 7/153: results/graphs/pythia-160m/ioi/37000.json\n",
      "Processing file 8/153: results/graphs/pythia-160m/ioi/39000.json\n",
      "Processing file 9/153: results/graphs/pythia-160m/ioi/104000.json\n",
      "Processing file 10/153: results/graphs/pythia-160m/ioi/59000.json\n",
      "Processing file 11/153: results/graphs/pythia-160m/ioi/67000.json\n",
      "Processing file 12/153: results/graphs/pythia-160m/ioi/111000.json\n",
      "Processing file 13/153: results/graphs/pythia-160m/ioi/16.json\n",
      "Processing file 14/153: results/graphs/pythia-160m/ioi/76000.json\n",
      "Processing file 15/153: results/graphs/pythia-160m/ioi/1.json\n",
      "Processing file 16/153: results/graphs/pythia-160m/ioi/5000.json\n",
      "Processing file 17/153: results/graphs/pythia-160m/ioi/42000.json\n",
      "Processing file 18/153: results/graphs/pythia-160m/ioi/77000.json\n",
      "Processing file 19/153: results/graphs/pythia-160m/ioi/86000.json\n",
      "Processing file 20/153: results/graphs/pythia-160m/ioi/80000.json\n",
      "Processing file 21/153: results/graphs/pythia-160m/ioi/81000.json\n",
      "Processing file 22/153: results/graphs/pythia-160m/ioi/63000.json\n",
      "Processing file 23/153: results/graphs/pythia-160m/ioi/142000.json\n",
      "Processing file 24/153: results/graphs/pythia-160m/ioi/56000.json\n",
      "Processing file 25/153: results/graphs/pythia-160m/ioi/8000.json\n",
      "Processing file 26/153: results/graphs/pythia-160m/ioi/93000.json\n",
      "Processing file 27/153: results/graphs/pythia-160m/ioi/120000.json\n",
      "Processing file 28/153: results/graphs/pythia-160m/ioi/62000.json\n",
      "Processing file 29/153: results/graphs/pythia-160m/ioi/70000.json\n",
      "Processing file 30/153: results/graphs/pythia-160m/ioi/19000.json\n",
      "Processing file 31/153: results/graphs/pythia-160m/ioi/121000.json\n",
      "Processing file 32/153: results/graphs/pythia-160m/ioi/105000.json\n",
      "Processing file 33/153: results/graphs/pythia-160m/ioi/129000.json\n",
      "Processing file 34/153: results/graphs/pythia-160m/ioi/2000.json\n",
      "Processing file 35/153: results/graphs/pythia-160m/ioi/96000.json\n",
      "Processing file 36/153: results/graphs/pythia-160m/ioi/124000.json\n",
      "Processing file 37/153: results/graphs/pythia-160m/ioi/143000.json\n",
      "Processing file 38/153: results/graphs/pythia-160m/ioi/79000.json\n",
      "Processing file 39/153: results/graphs/pythia-160m/ioi/29000.json\n",
      "Processing file 40/153: results/graphs/pythia-160m/ioi/137000.json\n",
      "Processing file 41/153: results/graphs/pythia-160m/ioi/10000.json\n",
      "Processing file 42/153: results/graphs/pythia-160m/ioi/135000.json\n",
      "Processing file 43/153: results/graphs/pythia-160m/ioi/65000.json\n",
      "Processing file 44/153: results/graphs/pythia-160m/ioi/60000.json\n",
      "Processing file 45/153: results/graphs/pythia-160m/ioi/90000.json\n",
      "Processing file 46/153: results/graphs/pythia-160m/ioi/106000.json\n",
      "Processing file 47/153: results/graphs/pythia-160m/ioi/1000.json\n",
      "Processing file 48/153: results/graphs/pythia-160m/ioi/33000.json\n",
      "Processing file 49/153: results/graphs/pythia-160m/ioi/103000.json\n",
      "Processing file 50/153: results/graphs/pythia-160m/ioi/113000.json\n",
      "Processing file 51/153: results/graphs/pythia-160m/ioi/35000.json\n",
      "Processing file 52/153: results/graphs/pythia-160m/ioi/133000.json\n",
      "Processing file 53/153: results/graphs/pythia-160m/ioi/18000.json\n",
      "Processing file 54/153: results/graphs/pythia-160m/ioi/4.json\n",
      "Processing file 55/153: results/graphs/pythia-160m/ioi/55000.json\n",
      "Processing file 56/153: results/graphs/pythia-160m/ioi/102000.json\n",
      "Processing file 57/153: results/graphs/pythia-160m/ioi/108000.json\n",
      "Processing file 58/153: results/graphs/pythia-160m/ioi/49000.json\n",
      "Processing file 59/153: results/graphs/pythia-160m/ioi/130000.json\n",
      "Processing file 60/153: results/graphs/pythia-160m/ioi/83000.json\n",
      "Processing file 61/153: results/graphs/pythia-160m/ioi/31000.json\n",
      "Processing file 62/153: results/graphs/pythia-160m/ioi/46000.json\n",
      "Processing file 63/153: results/graphs/pythia-160m/ioi/112000.json\n",
      "Processing file 64/153: results/graphs/pythia-160m/ioi/26000.json\n",
      "Processing file 65/153: results/graphs/pythia-160m/ioi/78000.json\n",
      "Processing file 66/153: results/graphs/pythia-160m/ioi/13000.json\n",
      "Processing file 67/153: results/graphs/pythia-160m/ioi/47000.json\n",
      "Processing file 68/153: results/graphs/pythia-160m/ioi/58000.json\n",
      "Processing file 69/153: results/graphs/pythia-160m/ioi/134000.json\n",
      "Processing file 70/153: results/graphs/pythia-160m/ioi/32.json\n",
      "Processing file 71/153: results/graphs/pythia-160m/ioi/128.json\n",
      "Processing file 72/153: results/graphs/pythia-160m/ioi/100000.json\n",
      "Processing file 73/153: results/graphs/pythia-160m/ioi/138000.json\n",
      "Processing file 74/153: results/graphs/pythia-160m/ioi/27000.json\n",
      "Processing file 75/153: results/graphs/pythia-160m/ioi/48000.json\n",
      "Processing file 76/153: results/graphs/pythia-160m/ioi/91000.json\n",
      "Processing file 77/153: results/graphs/pythia-160m/ioi/122000.json\n",
      "Processing file 78/153: results/graphs/pythia-160m/ioi/99000.json\n",
      "Processing file 79/153: results/graphs/pythia-160m/ioi/32000.json\n",
      "Processing file 80/153: results/graphs/pythia-160m/ioi/30000.json\n",
      "Processing file 81/153: results/graphs/pythia-160m/ioi/44000.json\n",
      "Processing file 82/153: results/graphs/pythia-160m/ioi/136000.json\n",
      "Processing file 83/153: results/graphs/pythia-160m/ioi/116000.json\n",
      "Processing file 84/153: results/graphs/pythia-160m/ioi/74000.json\n",
      "Processing file 85/153: results/graphs/pythia-160m/ioi/118000.json\n",
      "Processing file 86/153: results/graphs/pythia-160m/ioi/94000.json\n",
      "Processing file 87/153: results/graphs/pythia-160m/ioi/119000.json\n",
      "Processing file 88/153: results/graphs/pythia-160m/ioi/64000.json\n",
      "Processing file 89/153: results/graphs/pythia-160m/ioi/2.json\n",
      "Processing file 90/153: results/graphs/pythia-160m/ioi/69000.json\n",
      "Processing file 91/153: results/graphs/pythia-160m/ioi/140000.json\n",
      "Processing file 92/153: results/graphs/pythia-160m/ioi/72000.json\n",
      "Processing file 93/153: results/graphs/pythia-160m/ioi/117000.json\n",
      "Processing file 94/153: results/graphs/pythia-160m/ioi/9000.json\n",
      "Processing file 95/153: results/graphs/pythia-160m/ioi/98000.json\n",
      "Processing file 96/153: results/graphs/pythia-160m/ioi/110000.json\n",
      "Processing file 97/153: results/graphs/pythia-160m/ioi/88000.json\n",
      "Processing file 98/153: results/graphs/pythia-160m/ioi/16000.json\n",
      "Processing file 99/153: results/graphs/pythia-160m/ioi/23000.json\n",
      "Processing file 100/153: results/graphs/pythia-160m/ioi/109000.json\n",
      "Processing file 101/153: results/graphs/pythia-160m/ioi/22000.json\n",
      "Processing file 102/153: results/graphs/pythia-160m/ioi/17000.json\n",
      "Processing file 103/153: results/graphs/pythia-160m/ioi/73000.json\n",
      "Processing file 104/153: results/graphs/pythia-160m/ioi/3000.json\n",
      "Processing file 105/153: results/graphs/pythia-160m/ioi/71000.json\n",
      "Processing file 106/153: results/graphs/pythia-160m/ioi/125000.json\n",
      "Processing file 107/153: results/graphs/pythia-160m/ioi/84000.json\n",
      "Processing file 108/153: results/graphs/pythia-160m/ioi/87000.json\n",
      "Processing file 109/153: results/graphs/pythia-160m/ioi/131000.json\n",
      "Processing file 110/153: results/graphs/pythia-160m/ioi/24000.json\n",
      "Processing file 111/153: results/graphs/pythia-160m/ioi/128000.json\n",
      "Processing file 112/153: results/graphs/pythia-160m/ioi/51000.json\n",
      "Processing file 113/153: results/graphs/pythia-160m/ioi/52000.json\n",
      "Processing file 114/153: results/graphs/pythia-160m/ioi/132000.json\n",
      "Processing file 115/153: results/graphs/pythia-160m/ioi/101000.json\n",
      "Processing file 116/153: results/graphs/pythia-160m/ioi/89000.json\n",
      "Processing file 117/153: results/graphs/pythia-160m/ioi/40000.json\n",
      "Processing file 118/153: results/graphs/pythia-160m/ioi/8.json\n",
      "Processing file 119/153: results/graphs/pythia-160m/ioi/43000.json\n",
      "Processing file 120/153: results/graphs/pythia-160m/ioi/54000.json\n",
      "Processing file 121/153: results/graphs/pythia-160m/ioi/11000.json\n",
      "Processing file 122/153: results/graphs/pythia-160m/ioi/36000.json\n",
      "Processing file 123/153: results/graphs/pythia-160m/ioi/45000.json\n",
      "Processing file 124/153: results/graphs/pythia-160m/ioi/50000.json\n",
      "Processing file 125/153: results/graphs/pythia-160m/ioi/114000.json\n",
      "Processing file 126/153: results/graphs/pythia-160m/ioi/64.json\n",
      "Processing file 127/153: results/graphs/pythia-160m/ioi/66000.json\n",
      "Processing file 128/153: results/graphs/pythia-160m/ioi/28000.json\n",
      "Processing file 129/153: results/graphs/pythia-160m/ioi/82000.json\n",
      "Processing file 130/153: results/graphs/pythia-160m/ioi/127000.json\n",
      "Processing file 131/153: results/graphs/pythia-160m/ioi/14000.json\n",
      "Processing file 132/153: results/graphs/pythia-160m/ioi/75000.json\n",
      "Processing file 133/153: results/graphs/pythia-160m/ioi/115000.json\n",
      "Processing file 134/153: results/graphs/pythia-160m/ioi/12000.json\n",
      "Processing file 135/153: results/graphs/pythia-160m/ioi/256.json\n",
      "Processing file 136/153: results/graphs/pythia-160m/ioi/21000.json\n",
      "Processing file 137/153: results/graphs/pythia-160m/ioi/38000.json\n",
      "Processing file 138/153: results/graphs/pythia-160m/ioi/15000.json\n",
      "Processing file 139/153: results/graphs/pythia-160m/ioi/85000.json\n",
      "Processing file 140/153: results/graphs/pythia-160m/ioi/139000.json\n",
      "Processing file 141/153: results/graphs/pythia-160m/ioi/61000.json\n",
      "Processing file 142/153: results/graphs/pythia-160m/ioi/7000.json\n",
      "Processing file 143/153: results/graphs/pythia-160m/ioi/512.json\n",
      "Processing file 144/153: results/graphs/pythia-160m/ioi/68000.json\n",
      "Processing file 145/153: results/graphs/pythia-160m/ioi/53000.json\n",
      "Processing file 146/153: results/graphs/pythia-160m/ioi/25000.json\n",
      "Processing file 147/153: results/graphs/pythia-160m/ioi/97000.json\n",
      "Processing file 148/153: results/graphs/pythia-160m/ioi/4000.json\n",
      "Processing file 149/153: results/graphs/pythia-160m/ioi/123000.json\n",
      "Processing file 150/153: results/graphs/pythia-160m/ioi/20000.json\n",
      "Processing file 151/153: results/graphs/pythia-160m/ioi/41000.json\n",
      "Processing file 152/153: results/graphs/pythia-160m/ioi/126000.json\n",
      "Processing file 153/153: results/graphs/pythia-160m/ioi/92000.json\n"
     ]
    }
   ],
   "source": [
    "\n",
    "folder_path = f'results/graphs/pythia-160m/{TASK}'\n",
    "df = load_edge_scores_into_dictionary(folder_path)"
   ]
  },
  {
   "attachments": {},
   "cell_type": "markdown",
   "metadata": {},
   "source": [
    "### Performance Data"
   ]
  },
  {
   "cell_type": "code",
   "execution_count": 28,
   "metadata": {},
   "outputs": [],
   "source": [
    "directory_path = 'results'\n",
    "perf_metrics = load_metrics(directory_path)\n",
    "\n",
    "ckpts = get_ckpts(schedule=\"exp_plus_detail\")\n",
    "#pythia_evals = aggregate_metrics_to_tensors_step_number(\"results/pythia-evals/pythia-v1\")\n",
    "\n",
    "# filter everything before 1000 steps\n",
    "df = df[df['checkpoint'] >= 1000]"
   ]
  },
  {
   "cell_type": "code",
   "execution_count": 29,
   "metadata": {},
   "outputs": [],
   "source": [
    "perf_metric = perf_metrics['pythia-160m'][TASK][PERFORMANCE_METRIC]\n",
    "\n",
    "perf_metric = [x.item() for x in perf_metric]\n",
    "\n",
    "# zip into dictionary with ckpts as key\n",
    "perf_metric_dict = dict(zip(ckpts, perf_metric))\n"
   ]
  },
  {
   "attachments": {},
   "cell_type": "markdown",
   "metadata": {},
   "source": [
    "## Visualize Results"
   ]
  },
  {
   "attachments": {},
   "cell_type": "markdown",
   "metadata": {},
   "source": [
    "### Graph Size"
   ]
  },
  {
   "cell_type": "code",
   "execution_count": 30,
   "metadata": {},
   "outputs": [
    {
     "data": {
      "text/html": [
       "<div>\n",
       "<style scoped>\n",
       "    .dataframe tbody tr th:only-of-type {\n",
       "        vertical-align: middle;\n",
       "    }\n",
       "\n",
       "    .dataframe tbody tr th {\n",
       "        vertical-align: top;\n",
       "    }\n",
       "\n",
       "    .dataframe thead th {\n",
       "        text-align: right;\n",
       "    }\n",
       "</style>\n",
       "<table border=\"1\" class=\"dataframe\">\n",
       "  <thead>\n",
       "    <tr style=\"text-align: right;\">\n",
       "      <th></th>\n",
       "      <th>checkpoint</th>\n",
       "      <th>num_edges</th>\n",
       "    </tr>\n",
       "  </thead>\n",
       "  <tbody>\n",
       "    <tr>\n",
       "      <th>0</th>\n",
       "      <td>3000</td>\n",
       "      <td>8</td>\n",
       "    </tr>\n",
       "    <tr>\n",
       "      <th>1</th>\n",
       "      <td>4000</td>\n",
       "      <td>78</td>\n",
       "    </tr>\n",
       "    <tr>\n",
       "      <th>2</th>\n",
       "      <td>5000</td>\n",
       "      <td>80</td>\n",
       "    </tr>\n",
       "    <tr>\n",
       "      <th>3</th>\n",
       "      <td>6000</td>\n",
       "      <td>89</td>\n",
       "    </tr>\n",
       "    <tr>\n",
       "      <th>4</th>\n",
       "      <td>7000</td>\n",
       "      <td>94</td>\n",
       "    </tr>\n",
       "  </tbody>\n",
       "</table>\n",
       "</div>"
      ],
      "text/plain": [
       "   checkpoint  num_edges\n",
       "0        3000          8\n",
       "1        4000         78\n",
       "2        5000         80\n",
       "3        6000         89\n",
       "4        7000         94"
      ]
     },
     "execution_count": 30,
     "metadata": {},
     "output_type": "execute_result"
    }
   ],
   "source": [
    "# Summarize the total number of edges in the graph at each checkpoint, filtered by in_circuit\n",
    "subgraph_df = df[df['in_circuit'] == True]\n",
    "\n",
    "# Group by checkpoint and sum the number of edges\n",
    "subgraph_df = subgraph_df.groupby('checkpoint').size().reset_index(name='num_edges')\n",
    "\n",
    "subgraph_df.head()\n"
   ]
  },
  {
   "cell_type": "code",
   "execution_count": 31,
   "metadata": {},
   "outputs": [
    {
     "data": {
      "application/vnd.plotly.v1+json": {
       "config": {
        "plotlyServerURL": "https://plot.ly"
       },
       "data": [
        {
         "hovertemplate": "variable=num_edges<br>checkpoint=%{x}<br>value=%{y}<extra></extra>",
         "legendgroup": "num_edges",
         "line": {
          "color": "lightblue",
          "dash": "solid"
         },
         "marker": {
          "symbol": "circle"
         },
         "mode": "lines",
         "name": "num_edges",
         "orientation": "v",
         "showlegend": true,
         "type": "scatter",
         "x": [
          3000,
          4000,
          5000,
          6000,
          7000,
          8000,
          9000,
          10000,
          11000,
          12000,
          13000,
          14000,
          15000,
          16000,
          17000,
          18000,
          19000,
          20000,
          21000,
          22000,
          23000,
          24000,
          25000,
          26000,
          27000,
          28000,
          29000,
          30000,
          31000,
          32000,
          33000,
          34000,
          35000,
          36000,
          37000,
          38000,
          39000,
          40000,
          41000,
          42000,
          43000,
          44000,
          45000,
          46000,
          47000,
          48000,
          49000,
          50000,
          51000,
          52000,
          53000,
          54000,
          55000,
          56000,
          57000,
          58000,
          59000,
          60000,
          61000,
          62000,
          63000,
          64000,
          65000,
          66000,
          67000,
          68000,
          69000,
          70000,
          71000,
          72000,
          73000,
          74000,
          75000,
          76000,
          77000,
          78000,
          79000,
          80000,
          81000,
          82000,
          83000,
          84000,
          85000,
          86000,
          87000,
          88000,
          89000,
          90000,
          91000,
          92000,
          93000,
          94000,
          95000,
          96000,
          97000,
          98000,
          99000,
          100000,
          101000,
          102000,
          103000,
          104000,
          105000,
          106000,
          107000,
          108000,
          109000,
          110000,
          111000,
          112000,
          113000,
          114000,
          115000,
          116000,
          117000,
          118000,
          119000,
          120000,
          121000,
          122000,
          123000,
          124000,
          125000,
          126000,
          127000,
          128000,
          129000,
          130000,
          131000,
          132000,
          133000,
          134000,
          135000,
          136000,
          137000,
          138000,
          139000,
          140000,
          141000,
          142000,
          143000
         ],
         "xaxis": "x",
         "y": [
          8,
          78,
          80,
          89,
          94,
          92,
          94,
          44,
          92,
          94,
          94,
          92,
          92,
          144,
          128,
          143,
          150,
          88,
          218,
          135,
          139,
          227,
          90,
          254,
          166,
          222,
          149,
          89,
          135,
          161,
          190,
          304,
          91,
          358,
          118,
          165,
          237,
          90,
          362,
          196,
          417,
          210,
          91,
          365,
          71,
          87,
          372,
          92,
          69,
          79,
          382,
          445,
          88,
          277,
          341,
          69,
          552,
          89,
          239,
          194,
          357,
          99,
          91,
          105,
          82,
          250,
          254,
          86,
          118,
          390,
          115,
          193,
          203,
          206,
          398,
          79,
          77,
          87,
          242,
          81,
          74,
          93,
          117,
          177,
          100,
          58,
          53,
          89,
          149,
          146,
          84,
          72,
          66,
          117,
          86,
          95,
          171,
          88,
          280,
          383,
          164,
          97,
          297,
          514,
          115,
          236,
          81,
          87,
          75,
          281,
          266,
          102,
          26,
          93,
          25,
          192,
          374,
          92,
          226,
          432,
          105,
          512,
          526,
          509,
          30,
          111,
          457,
          92,
          376,
          192,
          5,
          138,
          268,
          208,
          697,
          229,
          511,
          90,
          254,
          459,
          408
         ],
         "yaxis": "y"
        },
        {
         "line": {
          "color": "black"
         },
         "mode": "lines",
         "name": "perf_metric",
         "type": "scatter",
         "x": [
          3000,
          4000,
          5000,
          6000,
          7000,
          8000,
          9000,
          10000,
          11000,
          12000,
          13000,
          14000,
          15000,
          16000,
          17000,
          18000,
          19000,
          20000,
          21000,
          22000,
          23000,
          24000,
          25000,
          26000,
          27000,
          28000,
          29000,
          30000,
          31000,
          32000,
          33000,
          34000,
          35000,
          36000,
          37000,
          38000,
          39000,
          40000,
          41000,
          42000,
          43000,
          44000,
          45000,
          46000,
          47000,
          48000,
          49000,
          50000,
          51000,
          52000,
          53000,
          54000,
          55000,
          56000,
          57000,
          58000,
          59000,
          60000,
          61000,
          62000,
          63000,
          64000,
          65000,
          66000,
          67000,
          68000,
          69000,
          70000,
          71000,
          72000,
          73000,
          74000,
          75000,
          76000,
          77000,
          78000,
          79000,
          80000,
          81000,
          82000,
          83000,
          84000,
          85000,
          86000,
          87000,
          88000,
          89000,
          90000,
          91000,
          92000,
          93000,
          94000,
          95000,
          96000,
          97000,
          98000,
          99000,
          100000,
          101000,
          102000,
          103000,
          104000,
          105000,
          106000,
          107000,
          108000,
          109000,
          110000,
          111000,
          112000,
          113000,
          114000,
          115000,
          116000,
          117000,
          118000,
          119000,
          120000,
          121000,
          122000,
          123000,
          124000,
          125000,
          126000,
          127000,
          128000,
          129000,
          130000,
          131000,
          132000,
          133000,
          134000,
          135000,
          136000,
          137000,
          138000,
          139000,
          140000,
          141000,
          142000,
          143000
         ],
         "y": [
          0.04771915078163147,
          0.4078015089035034,
          1.1932440996170044,
          1.8560377359390259,
          1.8433938026428223,
          2.3628196716308594,
          1.9960979223251343,
          2.4225189685821533,
          2.5261731147766113,
          2.422247886657715,
          2.1560490131378174,
          2.315804958343506,
          2.756420850753784,
          2.7993170738220217,
          2.8422132968902587,
          2.885109519958496,
          2.928005743026733,
          2.9709019660949707,
          2.9951998710632326,
          3.019497776031494,
          3.043795680999756,
          3.0680935859680174,
          3.0923914909362793,
          3.144391345977783,
          3.196391201019287,
          3.248391056060791,
          3.300390911102295,
          3.352390766143799,
          3.345085048675537,
          3.337779331207275,
          3.330473613739014,
          3.323167896270752,
          3.3158621788024902,
          3.3601420402526854,
          3.404421901702881,
          3.448701763153076,
          3.4929816246032717,
          3.537261486053467,
          3.4823867321014403,
          3.427511978149414,
          3.372637224197388,
          3.3177624702453614,
          3.262887716293335,
          3.4026073455810546,
          3.5423269748687742,
          3.6820466041564943,
          3.821766233444214,
          3.9614858627319336,
          3.9742358207702635,
          3.986985778808594,
          3.9997357368469237,
          4.012485694885254,
          4.025235652923584,
          3.9805383682250977,
          3.9358410835266113,
          3.891143798828125,
          3.8464465141296387,
          3.8017492294311523,
          3.8956336975097656,
          3.989518165588379,
          4.083402633666992,
          4.1772871017456055,
          4.271171569824219,
          4.309825992584228,
          4.3484804153442385,
          4.387134838104248,
          4.425789260864258,
          4.464443683624268,
          4.423270845413208,
          4.382098007202148,
          4.340925168991089,
          4.299752330780029,
          4.25857949256897,
          4.2174066543579105,
          4.17623381614685,
          4.135060977935791,
          4.093888139724731,
          4.052715301513672,
          4.009969091415405,
          3.967222881317139,
          3.924476671218872,
          3.8817304611206054,
          3.838984251022339,
          3.7962380409240724,
          3.753491830825806,
          3.710745620727539,
          3.6679994106292724,
          3.625253200531006,
          3.6081200361251833,
          3.5909868717193603,
          3.5738537073135377,
          3.5567205429077147,
          3.539587378501892,
          3.5224542140960695,
          3.5053210496902465,
          3.488187885284424,
          3.471054720878601,
          3.4539215564727783,
          3.505764389038086,
          3.5576072216033934,
          3.6094500541687013,
          3.661292886734009,
          3.7131357192993164,
          3.764978551864624,
          3.8168213844299315,
          3.8686642169952394,
          3.920507049560547,
          3.9723498821258545,
          3.9614800691604612,
          3.9506102561950684,
          3.939740443229675,
          3.9288706302642824,
          3.918000817298889,
          3.907131004333496,
          3.896261191368103,
          3.88539137840271,
          3.874521565437317,
          3.863651752471924,
          3.831834864616394,
          3.800017976760864,
          3.7682010889053346,
          3.7363842010498045,
          3.704567313194275,
          3.6727504253387453,
          3.6409335374832152,
          3.6091166496276856,
          3.5772997617721556,
          3.545482873916626,
          3.6055633783340455,
          3.665643882751465,
          3.725724387168884,
          3.7858048915863036,
          3.845885396003723,
          3.9059659004211427,
          3.966046404838562,
          4.026126909255981,
          4.086207413673401,
          4.14628791809082,
          4.14628791809082,
          4.14628791809082,
          4.14628791809082
         ],
         "yaxis": "y2"
        }
       ],
       "layout": {
        "legend": {
         "title": {
          "text": "variable"
         },
         "tracegroupgap": 0
        },
        "template": {
         "data": {
          "bar": [
           {
            "error_x": {
             "color": "#2a3f5f"
            },
            "error_y": {
             "color": "#2a3f5f"
            },
            "marker": {
             "line": {
              "color": "#E5ECF6",
              "width": 0.5
             },
             "pattern": {
              "fillmode": "overlay",
              "size": 10,
              "solidity": 0.2
             }
            },
            "type": "bar"
           }
          ],
          "barpolar": [
           {
            "marker": {
             "line": {
              "color": "#E5ECF6",
              "width": 0.5
             },
             "pattern": {
              "fillmode": "overlay",
              "size": 10,
              "solidity": 0.2
             }
            },
            "type": "barpolar"
           }
          ],
          "carpet": [
           {
            "aaxis": {
             "endlinecolor": "#2a3f5f",
             "gridcolor": "white",
             "linecolor": "white",
             "minorgridcolor": "white",
             "startlinecolor": "#2a3f5f"
            },
            "baxis": {
             "endlinecolor": "#2a3f5f",
             "gridcolor": "white",
             "linecolor": "white",
             "minorgridcolor": "white",
             "startlinecolor": "#2a3f5f"
            },
            "type": "carpet"
           }
          ],
          "choropleth": [
           {
            "colorbar": {
             "outlinewidth": 0,
             "ticks": ""
            },
            "type": "choropleth"
           }
          ],
          "contour": [
           {
            "colorbar": {
             "outlinewidth": 0,
             "ticks": ""
            },
            "colorscale": [
             [
              0,
              "#0d0887"
             ],
             [
              0.1111111111111111,
              "#46039f"
             ],
             [
              0.2222222222222222,
              "#7201a8"
             ],
             [
              0.3333333333333333,
              "#9c179e"
             ],
             [
              0.4444444444444444,
              "#bd3786"
             ],
             [
              0.5555555555555556,
              "#d8576b"
             ],
             [
              0.6666666666666666,
              "#ed7953"
             ],
             [
              0.7777777777777778,
              "#fb9f3a"
             ],
             [
              0.8888888888888888,
              "#fdca26"
             ],
             [
              1,
              "#f0f921"
             ]
            ],
            "type": "contour"
           }
          ],
          "contourcarpet": [
           {
            "colorbar": {
             "outlinewidth": 0,
             "ticks": ""
            },
            "type": "contourcarpet"
           }
          ],
          "heatmap": [
           {
            "colorbar": {
             "outlinewidth": 0,
             "ticks": ""
            },
            "colorscale": [
             [
              0,
              "#0d0887"
             ],
             [
              0.1111111111111111,
              "#46039f"
             ],
             [
              0.2222222222222222,
              "#7201a8"
             ],
             [
              0.3333333333333333,
              "#9c179e"
             ],
             [
              0.4444444444444444,
              "#bd3786"
             ],
             [
              0.5555555555555556,
              "#d8576b"
             ],
             [
              0.6666666666666666,
              "#ed7953"
             ],
             [
              0.7777777777777778,
              "#fb9f3a"
             ],
             [
              0.8888888888888888,
              "#fdca26"
             ],
             [
              1,
              "#f0f921"
             ]
            ],
            "type": "heatmap"
           }
          ],
          "heatmapgl": [
           {
            "colorbar": {
             "outlinewidth": 0,
             "ticks": ""
            },
            "colorscale": [
             [
              0,
              "#0d0887"
             ],
             [
              0.1111111111111111,
              "#46039f"
             ],
             [
              0.2222222222222222,
              "#7201a8"
             ],
             [
              0.3333333333333333,
              "#9c179e"
             ],
             [
              0.4444444444444444,
              "#bd3786"
             ],
             [
              0.5555555555555556,
              "#d8576b"
             ],
             [
              0.6666666666666666,
              "#ed7953"
             ],
             [
              0.7777777777777778,
              "#fb9f3a"
             ],
             [
              0.8888888888888888,
              "#fdca26"
             ],
             [
              1,
              "#f0f921"
             ]
            ],
            "type": "heatmapgl"
           }
          ],
          "histogram": [
           {
            "marker": {
             "pattern": {
              "fillmode": "overlay",
              "size": 10,
              "solidity": 0.2
             }
            },
            "type": "histogram"
           }
          ],
          "histogram2d": [
           {
            "colorbar": {
             "outlinewidth": 0,
             "ticks": ""
            },
            "colorscale": [
             [
              0,
              "#0d0887"
             ],
             [
              0.1111111111111111,
              "#46039f"
             ],
             [
              0.2222222222222222,
              "#7201a8"
             ],
             [
              0.3333333333333333,
              "#9c179e"
             ],
             [
              0.4444444444444444,
              "#bd3786"
             ],
             [
              0.5555555555555556,
              "#d8576b"
             ],
             [
              0.6666666666666666,
              "#ed7953"
             ],
             [
              0.7777777777777778,
              "#fb9f3a"
             ],
             [
              0.8888888888888888,
              "#fdca26"
             ],
             [
              1,
              "#f0f921"
             ]
            ],
            "type": "histogram2d"
           }
          ],
          "histogram2dcontour": [
           {
            "colorbar": {
             "outlinewidth": 0,
             "ticks": ""
            },
            "colorscale": [
             [
              0,
              "#0d0887"
             ],
             [
              0.1111111111111111,
              "#46039f"
             ],
             [
              0.2222222222222222,
              "#7201a8"
             ],
             [
              0.3333333333333333,
              "#9c179e"
             ],
             [
              0.4444444444444444,
              "#bd3786"
             ],
             [
              0.5555555555555556,
              "#d8576b"
             ],
             [
              0.6666666666666666,
              "#ed7953"
             ],
             [
              0.7777777777777778,
              "#fb9f3a"
             ],
             [
              0.8888888888888888,
              "#fdca26"
             ],
             [
              1,
              "#f0f921"
             ]
            ],
            "type": "histogram2dcontour"
           }
          ],
          "mesh3d": [
           {
            "colorbar": {
             "outlinewidth": 0,
             "ticks": ""
            },
            "type": "mesh3d"
           }
          ],
          "parcoords": [
           {
            "line": {
             "colorbar": {
              "outlinewidth": 0,
              "ticks": ""
             }
            },
            "type": "parcoords"
           }
          ],
          "pie": [
           {
            "automargin": true,
            "type": "pie"
           }
          ],
          "scatter": [
           {
            "fillpattern": {
             "fillmode": "overlay",
             "size": 10,
             "solidity": 0.2
            },
            "type": "scatter"
           }
          ],
          "scatter3d": [
           {
            "line": {
             "colorbar": {
              "outlinewidth": 0,
              "ticks": ""
             }
            },
            "marker": {
             "colorbar": {
              "outlinewidth": 0,
              "ticks": ""
             }
            },
            "type": "scatter3d"
           }
          ],
          "scattercarpet": [
           {
            "marker": {
             "colorbar": {
              "outlinewidth": 0,
              "ticks": ""
             }
            },
            "type": "scattercarpet"
           }
          ],
          "scattergeo": [
           {
            "marker": {
             "colorbar": {
              "outlinewidth": 0,
              "ticks": ""
             }
            },
            "type": "scattergeo"
           }
          ],
          "scattergl": [
           {
            "marker": {
             "colorbar": {
              "outlinewidth": 0,
              "ticks": ""
             }
            },
            "type": "scattergl"
           }
          ],
          "scattermapbox": [
           {
            "marker": {
             "colorbar": {
              "outlinewidth": 0,
              "ticks": ""
             }
            },
            "type": "scattermapbox"
           }
          ],
          "scatterpolar": [
           {
            "marker": {
             "colorbar": {
              "outlinewidth": 0,
              "ticks": ""
             }
            },
            "type": "scatterpolar"
           }
          ],
          "scatterpolargl": [
           {
            "marker": {
             "colorbar": {
              "outlinewidth": 0,
              "ticks": ""
             }
            },
            "type": "scatterpolargl"
           }
          ],
          "scatterternary": [
           {
            "marker": {
             "colorbar": {
              "outlinewidth": 0,
              "ticks": ""
             }
            },
            "type": "scatterternary"
           }
          ],
          "surface": [
           {
            "colorbar": {
             "outlinewidth": 0,
             "ticks": ""
            },
            "colorscale": [
             [
              0,
              "#0d0887"
             ],
             [
              0.1111111111111111,
              "#46039f"
             ],
             [
              0.2222222222222222,
              "#7201a8"
             ],
             [
              0.3333333333333333,
              "#9c179e"
             ],
             [
              0.4444444444444444,
              "#bd3786"
             ],
             [
              0.5555555555555556,
              "#d8576b"
             ],
             [
              0.6666666666666666,
              "#ed7953"
             ],
             [
              0.7777777777777778,
              "#fb9f3a"
             ],
             [
              0.8888888888888888,
              "#fdca26"
             ],
             [
              1,
              "#f0f921"
             ]
            ],
            "type": "surface"
           }
          ],
          "table": [
           {
            "cells": {
             "fill": {
              "color": "#EBF0F8"
             },
             "line": {
              "color": "white"
             }
            },
            "header": {
             "fill": {
              "color": "#C8D4E3"
             },
             "line": {
              "color": "white"
             }
            },
            "type": "table"
           }
          ]
         },
         "layout": {
          "annotationdefaults": {
           "arrowcolor": "#2a3f5f",
           "arrowhead": 0,
           "arrowwidth": 1
          },
          "autotypenumbers": "strict",
          "coloraxis": {
           "colorbar": {
            "outlinewidth": 0,
            "ticks": ""
           }
          },
          "colorscale": {
           "diverging": [
            [
             0,
             "#8e0152"
            ],
            [
             0.1,
             "#c51b7d"
            ],
            [
             0.2,
             "#de77ae"
            ],
            [
             0.3,
             "#f1b6da"
            ],
            [
             0.4,
             "#fde0ef"
            ],
            [
             0.5,
             "#f7f7f7"
            ],
            [
             0.6,
             "#e6f5d0"
            ],
            [
             0.7,
             "#b8e186"
            ],
            [
             0.8,
             "#7fbc41"
            ],
            [
             0.9,
             "#4d9221"
            ],
            [
             1,
             "#276419"
            ]
           ],
           "sequential": [
            [
             0,
             "#0d0887"
            ],
            [
             0.1111111111111111,
             "#46039f"
            ],
            [
             0.2222222222222222,
             "#7201a8"
            ],
            [
             0.3333333333333333,
             "#9c179e"
            ],
            [
             0.4444444444444444,
             "#bd3786"
            ],
            [
             0.5555555555555556,
             "#d8576b"
            ],
            [
             0.6666666666666666,
             "#ed7953"
            ],
            [
             0.7777777777777778,
             "#fb9f3a"
            ],
            [
             0.8888888888888888,
             "#fdca26"
            ],
            [
             1,
             "#f0f921"
            ]
           ],
           "sequentialminus": [
            [
             0,
             "#0d0887"
            ],
            [
             0.1111111111111111,
             "#46039f"
            ],
            [
             0.2222222222222222,
             "#7201a8"
            ],
            [
             0.3333333333333333,
             "#9c179e"
            ],
            [
             0.4444444444444444,
             "#bd3786"
            ],
            [
             0.5555555555555556,
             "#d8576b"
            ],
            [
             0.6666666666666666,
             "#ed7953"
            ],
            [
             0.7777777777777778,
             "#fb9f3a"
            ],
            [
             0.8888888888888888,
             "#fdca26"
            ],
            [
             1,
             "#f0f921"
            ]
           ]
          },
          "colorway": [
           "#636efa",
           "#EF553B",
           "#00cc96",
           "#ab63fa",
           "#FFA15A",
           "#19d3f3",
           "#FF6692",
           "#B6E880",
           "#FF97FF",
           "#FECB52"
          ],
          "font": {
           "color": "#2a3f5f"
          },
          "geo": {
           "bgcolor": "white",
           "lakecolor": "white",
           "landcolor": "#E5ECF6",
           "showlakes": true,
           "showland": true,
           "subunitcolor": "white"
          },
          "hoverlabel": {
           "align": "left"
          },
          "hovermode": "closest",
          "mapbox": {
           "style": "light"
          },
          "paper_bgcolor": "white",
          "plot_bgcolor": "#E5ECF6",
          "polar": {
           "angularaxis": {
            "gridcolor": "white",
            "linecolor": "white",
            "ticks": ""
           },
           "bgcolor": "#E5ECF6",
           "radialaxis": {
            "gridcolor": "white",
            "linecolor": "white",
            "ticks": ""
           }
          },
          "scene": {
           "xaxis": {
            "backgroundcolor": "#E5ECF6",
            "gridcolor": "white",
            "gridwidth": 2,
            "linecolor": "white",
            "showbackground": true,
            "ticks": "",
            "zerolinecolor": "white"
           },
           "yaxis": {
            "backgroundcolor": "#E5ECF6",
            "gridcolor": "white",
            "gridwidth": 2,
            "linecolor": "white",
            "showbackground": true,
            "ticks": "",
            "zerolinecolor": "white"
           },
           "zaxis": {
            "backgroundcolor": "#E5ECF6",
            "gridcolor": "white",
            "gridwidth": 2,
            "linecolor": "white",
            "showbackground": true,
            "ticks": "",
            "zerolinecolor": "white"
           }
          },
          "shapedefaults": {
           "line": {
            "color": "#2a3f5f"
           }
          },
          "ternary": {
           "aaxis": {
            "gridcolor": "white",
            "linecolor": "white",
            "ticks": ""
           },
           "baxis": {
            "gridcolor": "white",
            "linecolor": "white",
            "ticks": ""
           },
           "bgcolor": "#E5ECF6",
           "caxis": {
            "gridcolor": "white",
            "linecolor": "white",
            "ticks": ""
           }
          },
          "title": {
           "x": 0.05
          },
          "xaxis": {
           "automargin": true,
           "gridcolor": "white",
           "linecolor": "white",
           "ticks": "",
           "title": {
            "standoff": 15
           },
           "zerolinecolor": "white",
           "zerolinewidth": 2
          },
          "yaxis": {
           "automargin": true,
           "gridcolor": "white",
           "linecolor": "white",
           "ticks": "",
           "title": {
            "standoff": 15
           },
           "zerolinecolor": "white",
           "zerolinewidth": 2
          }
         }
        },
        "title": {
         "text": "Smallest Faithful Graph Size Over Training (ioi)"
        },
        "xaxis": {
         "anchor": "y",
         "domain": [
          0,
          1
         ],
         "title": {
          "text": "checkpoint"
         },
         "type": "log"
        },
        "yaxis": {
         "anchor": "x",
         "domain": [
          0,
          1
         ],
         "title": {
          "text": "Graph Size"
         }
        },
        "yaxis2": {
         "overlaying": "y",
         "showgrid": false,
         "side": "right",
         "title": {
          "text": "Performance Metric"
         }
        }
       }
      },
      "text/html": [
       "<div>                            <div id=\"b79b0553-343f-4994-9760-bdcec50cd6a5\" class=\"plotly-graph-div\" style=\"height:525px; width:100%;\"></div>            <script type=\"text/javascript\">                require([\"plotly\"], function(Plotly) {                    window.PLOTLYENV=window.PLOTLYENV || {};                                    if (document.getElementById(\"b79b0553-343f-4994-9760-bdcec50cd6a5\")) {                    Plotly.newPlot(                        \"b79b0553-343f-4994-9760-bdcec50cd6a5\",                        [{\"hovertemplate\":\"variable=num_edges\\u003cbr\\u003echeckpoint=%{x}\\u003cbr\\u003evalue=%{y}\\u003cextra\\u003e\\u003c\\u002fextra\\u003e\",\"legendgroup\":\"num_edges\",\"line\":{\"color\":\"lightblue\",\"dash\":\"solid\"},\"marker\":{\"symbol\":\"circle\"},\"mode\":\"lines\",\"name\":\"num_edges\",\"orientation\":\"v\",\"showlegend\":true,\"x\":[3000,4000,5000,6000,7000,8000,9000,10000,11000,12000,13000,14000,15000,16000,17000,18000,19000,20000,21000,22000,23000,24000,25000,26000,27000,28000,29000,30000,31000,32000,33000,34000,35000,36000,37000,38000,39000,40000,41000,42000,43000,44000,45000,46000,47000,48000,49000,50000,51000,52000,53000,54000,55000,56000,57000,58000,59000,60000,61000,62000,63000,64000,65000,66000,67000,68000,69000,70000,71000,72000,73000,74000,75000,76000,77000,78000,79000,80000,81000,82000,83000,84000,85000,86000,87000,88000,89000,90000,91000,92000,93000,94000,95000,96000,97000,98000,99000,100000,101000,102000,103000,104000,105000,106000,107000,108000,109000,110000,111000,112000,113000,114000,115000,116000,117000,118000,119000,120000,121000,122000,123000,124000,125000,126000,127000,128000,129000,130000,131000,132000,133000,134000,135000,136000,137000,138000,139000,140000,141000,142000,143000],\"xaxis\":\"x\",\"y\":[8,78,80,89,94,92,94,44,92,94,94,92,92,144,128,143,150,88,218,135,139,227,90,254,166,222,149,89,135,161,190,304,91,358,118,165,237,90,362,196,417,210,91,365,71,87,372,92,69,79,382,445,88,277,341,69,552,89,239,194,357,99,91,105,82,250,254,86,118,390,115,193,203,206,398,79,77,87,242,81,74,93,117,177,100,58,53,89,149,146,84,72,66,117,86,95,171,88,280,383,164,97,297,514,115,236,81,87,75,281,266,102,26,93,25,192,374,92,226,432,105,512,526,509,30,111,457,92,376,192,5,138,268,208,697,229,511,90,254,459,408],\"yaxis\":\"y\",\"type\":\"scatter\"},{\"line\":{\"color\":\"black\"},\"mode\":\"lines\",\"name\":\"perf_metric\",\"x\":[3000,4000,5000,6000,7000,8000,9000,10000,11000,12000,13000,14000,15000,16000,17000,18000,19000,20000,21000,22000,23000,24000,25000,26000,27000,28000,29000,30000,31000,32000,33000,34000,35000,36000,37000,38000,39000,40000,41000,42000,43000,44000,45000,46000,47000,48000,49000,50000,51000,52000,53000,54000,55000,56000,57000,58000,59000,60000,61000,62000,63000,64000,65000,66000,67000,68000,69000,70000,71000,72000,73000,74000,75000,76000,77000,78000,79000,80000,81000,82000,83000,84000,85000,86000,87000,88000,89000,90000,91000,92000,93000,94000,95000,96000,97000,98000,99000,100000,101000,102000,103000,104000,105000,106000,107000,108000,109000,110000,111000,112000,113000,114000,115000,116000,117000,118000,119000,120000,121000,122000,123000,124000,125000,126000,127000,128000,129000,130000,131000,132000,133000,134000,135000,136000,137000,138000,139000,140000,141000,142000,143000],\"y\":[0.04771915078163147,0.4078015089035034,1.1932440996170044,1.8560377359390259,1.8433938026428223,2.3628196716308594,1.9960979223251343,2.4225189685821533,2.5261731147766113,2.422247886657715,2.1560490131378174,2.315804958343506,2.756420850753784,2.7993170738220217,2.8422132968902587,2.885109519958496,2.928005743026733,2.9709019660949707,2.9951998710632326,3.019497776031494,3.043795680999756,3.0680935859680174,3.0923914909362793,3.144391345977783,3.196391201019287,3.248391056060791,3.300390911102295,3.352390766143799,3.345085048675537,3.337779331207275,3.330473613739014,3.323167896270752,3.3158621788024902,3.3601420402526854,3.404421901702881,3.448701763153076,3.4929816246032717,3.537261486053467,3.4823867321014403,3.427511978149414,3.372637224197388,3.3177624702453614,3.262887716293335,3.4026073455810546,3.5423269748687742,3.6820466041564943,3.821766233444214,3.9614858627319336,3.9742358207702635,3.986985778808594,3.9997357368469237,4.012485694885254,4.025235652923584,3.9805383682250977,3.9358410835266113,3.891143798828125,3.8464465141296387,3.8017492294311523,3.8956336975097656,3.989518165588379,4.083402633666992,4.1772871017456055,4.271171569824219,4.309825992584228,4.3484804153442385,4.387134838104248,4.425789260864258,4.464443683624268,4.423270845413208,4.382098007202148,4.340925168991089,4.299752330780029,4.25857949256897,4.2174066543579105,4.17623381614685,4.135060977935791,4.093888139724731,4.052715301513672,4.009969091415405,3.967222881317139,3.924476671218872,3.8817304611206054,3.838984251022339,3.7962380409240724,3.753491830825806,3.710745620727539,3.6679994106292724,3.625253200531006,3.6081200361251833,3.5909868717193603,3.5738537073135377,3.5567205429077147,3.539587378501892,3.5224542140960695,3.5053210496902465,3.488187885284424,3.471054720878601,3.4539215564727783,3.505764389038086,3.5576072216033934,3.6094500541687013,3.661292886734009,3.7131357192993164,3.764978551864624,3.8168213844299315,3.8686642169952394,3.920507049560547,3.9723498821258545,3.9614800691604612,3.9506102561950684,3.939740443229675,3.9288706302642824,3.918000817298889,3.907131004333496,3.896261191368103,3.88539137840271,3.874521565437317,3.863651752471924,3.831834864616394,3.800017976760864,3.7682010889053346,3.7363842010498045,3.704567313194275,3.6727504253387453,3.6409335374832152,3.6091166496276856,3.5772997617721556,3.545482873916626,3.6055633783340455,3.665643882751465,3.725724387168884,3.7858048915863036,3.845885396003723,3.9059659004211427,3.966046404838562,4.026126909255981,4.086207413673401,4.14628791809082,4.14628791809082,4.14628791809082,4.14628791809082],\"yaxis\":\"y2\",\"type\":\"scatter\"}],                        {\"template\":{\"data\":{\"histogram2dcontour\":[{\"type\":\"histogram2dcontour\",\"colorbar\":{\"outlinewidth\":0,\"ticks\":\"\"},\"colorscale\":[[0.0,\"#0d0887\"],[0.1111111111111111,\"#46039f\"],[0.2222222222222222,\"#7201a8\"],[0.3333333333333333,\"#9c179e\"],[0.4444444444444444,\"#bd3786\"],[0.5555555555555556,\"#d8576b\"],[0.6666666666666666,\"#ed7953\"],[0.7777777777777778,\"#fb9f3a\"],[0.8888888888888888,\"#fdca26\"],[1.0,\"#f0f921\"]]}],\"choropleth\":[{\"type\":\"choropleth\",\"colorbar\":{\"outlinewidth\":0,\"ticks\":\"\"}}],\"histogram2d\":[{\"type\":\"histogram2d\",\"colorbar\":{\"outlinewidth\":0,\"ticks\":\"\"},\"colorscale\":[[0.0,\"#0d0887\"],[0.1111111111111111,\"#46039f\"],[0.2222222222222222,\"#7201a8\"],[0.3333333333333333,\"#9c179e\"],[0.4444444444444444,\"#bd3786\"],[0.5555555555555556,\"#d8576b\"],[0.6666666666666666,\"#ed7953\"],[0.7777777777777778,\"#fb9f3a\"],[0.8888888888888888,\"#fdca26\"],[1.0,\"#f0f921\"]]}],\"heatmap\":[{\"type\":\"heatmap\",\"colorbar\":{\"outlinewidth\":0,\"ticks\":\"\"},\"colorscale\":[[0.0,\"#0d0887\"],[0.1111111111111111,\"#46039f\"],[0.2222222222222222,\"#7201a8\"],[0.3333333333333333,\"#9c179e\"],[0.4444444444444444,\"#bd3786\"],[0.5555555555555556,\"#d8576b\"],[0.6666666666666666,\"#ed7953\"],[0.7777777777777778,\"#fb9f3a\"],[0.8888888888888888,\"#fdca26\"],[1.0,\"#f0f921\"]]}],\"heatmapgl\":[{\"type\":\"heatmapgl\",\"colorbar\":{\"outlinewidth\":0,\"ticks\":\"\"},\"colorscale\":[[0.0,\"#0d0887\"],[0.1111111111111111,\"#46039f\"],[0.2222222222222222,\"#7201a8\"],[0.3333333333333333,\"#9c179e\"],[0.4444444444444444,\"#bd3786\"],[0.5555555555555556,\"#d8576b\"],[0.6666666666666666,\"#ed7953\"],[0.7777777777777778,\"#fb9f3a\"],[0.8888888888888888,\"#fdca26\"],[1.0,\"#f0f921\"]]}],\"contourcarpet\":[{\"type\":\"contourcarpet\",\"colorbar\":{\"outlinewidth\":0,\"ticks\":\"\"}}],\"contour\":[{\"type\":\"contour\",\"colorbar\":{\"outlinewidth\":0,\"ticks\":\"\"},\"colorscale\":[[0.0,\"#0d0887\"],[0.1111111111111111,\"#46039f\"],[0.2222222222222222,\"#7201a8\"],[0.3333333333333333,\"#9c179e\"],[0.4444444444444444,\"#bd3786\"],[0.5555555555555556,\"#d8576b\"],[0.6666666666666666,\"#ed7953\"],[0.7777777777777778,\"#fb9f3a\"],[0.8888888888888888,\"#fdca26\"],[1.0,\"#f0f921\"]]}],\"surface\":[{\"type\":\"surface\",\"colorbar\":{\"outlinewidth\":0,\"ticks\":\"\"},\"colorscale\":[[0.0,\"#0d0887\"],[0.1111111111111111,\"#46039f\"],[0.2222222222222222,\"#7201a8\"],[0.3333333333333333,\"#9c179e\"],[0.4444444444444444,\"#bd3786\"],[0.5555555555555556,\"#d8576b\"],[0.6666666666666666,\"#ed7953\"],[0.7777777777777778,\"#fb9f3a\"],[0.8888888888888888,\"#fdca26\"],[1.0,\"#f0f921\"]]}],\"mesh3d\":[{\"type\":\"mesh3d\",\"colorbar\":{\"outlinewidth\":0,\"ticks\":\"\"}}],\"scatter\":[{\"fillpattern\":{\"fillmode\":\"overlay\",\"size\":10,\"solidity\":0.2},\"type\":\"scatter\"}],\"parcoords\":[{\"type\":\"parcoords\",\"line\":{\"colorbar\":{\"outlinewidth\":0,\"ticks\":\"\"}}}],\"scatterpolargl\":[{\"type\":\"scatterpolargl\",\"marker\":{\"colorbar\":{\"outlinewidth\":0,\"ticks\":\"\"}}}],\"bar\":[{\"error_x\":{\"color\":\"#2a3f5f\"},\"error_y\":{\"color\":\"#2a3f5f\"},\"marker\":{\"line\":{\"color\":\"#E5ECF6\",\"width\":0.5},\"pattern\":{\"fillmode\":\"overlay\",\"size\":10,\"solidity\":0.2}},\"type\":\"bar\"}],\"scattergeo\":[{\"type\":\"scattergeo\",\"marker\":{\"colorbar\":{\"outlinewidth\":0,\"ticks\":\"\"}}}],\"scatterpolar\":[{\"type\":\"scatterpolar\",\"marker\":{\"colorbar\":{\"outlinewidth\":0,\"ticks\":\"\"}}}],\"histogram\":[{\"marker\":{\"pattern\":{\"fillmode\":\"overlay\",\"size\":10,\"solidity\":0.2}},\"type\":\"histogram\"}],\"scattergl\":[{\"type\":\"scattergl\",\"marker\":{\"colorbar\":{\"outlinewidth\":0,\"ticks\":\"\"}}}],\"scatter3d\":[{\"type\":\"scatter3d\",\"line\":{\"colorbar\":{\"outlinewidth\":0,\"ticks\":\"\"}},\"marker\":{\"colorbar\":{\"outlinewidth\":0,\"ticks\":\"\"}}}],\"scattermapbox\":[{\"type\":\"scattermapbox\",\"marker\":{\"colorbar\":{\"outlinewidth\":0,\"ticks\":\"\"}}}],\"scatterternary\":[{\"type\":\"scatterternary\",\"marker\":{\"colorbar\":{\"outlinewidth\":0,\"ticks\":\"\"}}}],\"scattercarpet\":[{\"type\":\"scattercarpet\",\"marker\":{\"colorbar\":{\"outlinewidth\":0,\"ticks\":\"\"}}}],\"carpet\":[{\"aaxis\":{\"endlinecolor\":\"#2a3f5f\",\"gridcolor\":\"white\",\"linecolor\":\"white\",\"minorgridcolor\":\"white\",\"startlinecolor\":\"#2a3f5f\"},\"baxis\":{\"endlinecolor\":\"#2a3f5f\",\"gridcolor\":\"white\",\"linecolor\":\"white\",\"minorgridcolor\":\"white\",\"startlinecolor\":\"#2a3f5f\"},\"type\":\"carpet\"}],\"table\":[{\"cells\":{\"fill\":{\"color\":\"#EBF0F8\"},\"line\":{\"color\":\"white\"}},\"header\":{\"fill\":{\"color\":\"#C8D4E3\"},\"line\":{\"color\":\"white\"}},\"type\":\"table\"}],\"barpolar\":[{\"marker\":{\"line\":{\"color\":\"#E5ECF6\",\"width\":0.5},\"pattern\":{\"fillmode\":\"overlay\",\"size\":10,\"solidity\":0.2}},\"type\":\"barpolar\"}],\"pie\":[{\"automargin\":true,\"type\":\"pie\"}]},\"layout\":{\"autotypenumbers\":\"strict\",\"colorway\":[\"#636efa\",\"#EF553B\",\"#00cc96\",\"#ab63fa\",\"#FFA15A\",\"#19d3f3\",\"#FF6692\",\"#B6E880\",\"#FF97FF\",\"#FECB52\"],\"font\":{\"color\":\"#2a3f5f\"},\"hovermode\":\"closest\",\"hoverlabel\":{\"align\":\"left\"},\"paper_bgcolor\":\"white\",\"plot_bgcolor\":\"#E5ECF6\",\"polar\":{\"bgcolor\":\"#E5ECF6\",\"angularaxis\":{\"gridcolor\":\"white\",\"linecolor\":\"white\",\"ticks\":\"\"},\"radialaxis\":{\"gridcolor\":\"white\",\"linecolor\":\"white\",\"ticks\":\"\"}},\"ternary\":{\"bgcolor\":\"#E5ECF6\",\"aaxis\":{\"gridcolor\":\"white\",\"linecolor\":\"white\",\"ticks\":\"\"},\"baxis\":{\"gridcolor\":\"white\",\"linecolor\":\"white\",\"ticks\":\"\"},\"caxis\":{\"gridcolor\":\"white\",\"linecolor\":\"white\",\"ticks\":\"\"}},\"coloraxis\":{\"colorbar\":{\"outlinewidth\":0,\"ticks\":\"\"}},\"colorscale\":{\"sequential\":[[0.0,\"#0d0887\"],[0.1111111111111111,\"#46039f\"],[0.2222222222222222,\"#7201a8\"],[0.3333333333333333,\"#9c179e\"],[0.4444444444444444,\"#bd3786\"],[0.5555555555555556,\"#d8576b\"],[0.6666666666666666,\"#ed7953\"],[0.7777777777777778,\"#fb9f3a\"],[0.8888888888888888,\"#fdca26\"],[1.0,\"#f0f921\"]],\"sequentialminus\":[[0.0,\"#0d0887\"],[0.1111111111111111,\"#46039f\"],[0.2222222222222222,\"#7201a8\"],[0.3333333333333333,\"#9c179e\"],[0.4444444444444444,\"#bd3786\"],[0.5555555555555556,\"#d8576b\"],[0.6666666666666666,\"#ed7953\"],[0.7777777777777778,\"#fb9f3a\"],[0.8888888888888888,\"#fdca26\"],[1.0,\"#f0f921\"]],\"diverging\":[[0,\"#8e0152\"],[0.1,\"#c51b7d\"],[0.2,\"#de77ae\"],[0.3,\"#f1b6da\"],[0.4,\"#fde0ef\"],[0.5,\"#f7f7f7\"],[0.6,\"#e6f5d0\"],[0.7,\"#b8e186\"],[0.8,\"#7fbc41\"],[0.9,\"#4d9221\"],[1,\"#276419\"]]},\"xaxis\":{\"gridcolor\":\"white\",\"linecolor\":\"white\",\"ticks\":\"\",\"title\":{\"standoff\":15},\"zerolinecolor\":\"white\",\"automargin\":true,\"zerolinewidth\":2},\"yaxis\":{\"gridcolor\":\"white\",\"linecolor\":\"white\",\"ticks\":\"\",\"title\":{\"standoff\":15},\"zerolinecolor\":\"white\",\"automargin\":true,\"zerolinewidth\":2},\"scene\":{\"xaxis\":{\"backgroundcolor\":\"#E5ECF6\",\"gridcolor\":\"white\",\"linecolor\":\"white\",\"showbackground\":true,\"ticks\":\"\",\"zerolinecolor\":\"white\",\"gridwidth\":2},\"yaxis\":{\"backgroundcolor\":\"#E5ECF6\",\"gridcolor\":\"white\",\"linecolor\":\"white\",\"showbackground\":true,\"ticks\":\"\",\"zerolinecolor\":\"white\",\"gridwidth\":2},\"zaxis\":{\"backgroundcolor\":\"#E5ECF6\",\"gridcolor\":\"white\",\"linecolor\":\"white\",\"showbackground\":true,\"ticks\":\"\",\"zerolinecolor\":\"white\",\"gridwidth\":2}},\"shapedefaults\":{\"line\":{\"color\":\"#2a3f5f\"}},\"annotationdefaults\":{\"arrowcolor\":\"#2a3f5f\",\"arrowhead\":0,\"arrowwidth\":1},\"geo\":{\"bgcolor\":\"white\",\"landcolor\":\"#E5ECF6\",\"subunitcolor\":\"white\",\"showland\":true,\"showlakes\":true,\"lakecolor\":\"white\"},\"title\":{\"x\":0.05},\"mapbox\":{\"style\":\"light\"}}},\"xaxis\":{\"anchor\":\"y\",\"domain\":[0.0,1.0],\"title\":{\"text\":\"checkpoint\"},\"type\":\"log\"},\"yaxis\":{\"anchor\":\"x\",\"domain\":[0.0,1.0],\"title\":{\"text\":\"Graph Size\"}},\"legend\":{\"title\":{\"text\":\"variable\"},\"tracegroupgap\":0},\"title\":{\"text\":\"Smallest Faithful Graph Size Over Training (ioi)\"},\"yaxis2\":{\"title\":{\"text\":\"Performance Metric\"},\"overlaying\":\"y\",\"side\":\"right\",\"showgrid\":false}},                        {\"responsive\": true}                    ).then(function(){\n",
       "                            \n",
       "var gd = document.getElementById('b79b0553-343f-4994-9760-bdcec50cd6a5');\n",
       "var x = new MutationObserver(function (mutations, observer) {{\n",
       "        var display = window.getComputedStyle(gd).display;\n",
       "        if (!display || display === 'none') {{\n",
       "            console.log([gd, 'removed!']);\n",
       "            Plotly.purge(gd);\n",
       "            observer.disconnect();\n",
       "        }}\n",
       "}});\n",
       "\n",
       "// Listen for the removal of the full notebook cells\n",
       "var notebookContainer = gd.closest('#notebook-container');\n",
       "if (notebookContainer) {{\n",
       "    x.observe(notebookContainer, {childList: true});\n",
       "}}\n",
       "\n",
       "// Listen for the clearing of the current output cell\n",
       "var outputEl = gd.closest('.output');\n",
       "if (outputEl) {{\n",
       "    x.observe(outputEl, {childList: true});\n",
       "}}\n",
       "\n",
       "                        })                };                });            </script>        </div>"
      ]
     },
     "metadata": {},
     "output_type": "display_data"
    }
   ],
   "source": [
    "# Plot the number of edges in the subgraph at each checkpoint, along with performance metrics\n",
    "\n",
    "# Add a new column for the performance metric by mapping the checkpoint values using the perf_metric_dict\n",
    "subgraph_df['perf_metric'] = subgraph_df['checkpoint'].map(perf_metric_dict)\n",
    "\n",
    "# Interpolate missing values\n",
    "subgraph_df['perf_metric'] = subgraph_df['perf_metric'].interpolate(method='linear')\n",
    "\n",
    "# Plot the number of edges in the subgraph at each checkpoint\n",
    "fig = px.line(subgraph_df, x='checkpoint', y=['num_edges'], title=f'Smallest Faithful Graph Size Over Training ({TASK})', log_x=True)\n",
    "\n",
    "# Specify colors for each line\n",
    "colors = {'num_edges': 'lightblue', 'perf_metric': 'black'}\n",
    "\n",
    "# Update each trace with the specified color\n",
    "for i, trace in enumerate(fig.data):\n",
    "    fig.data[i].update(line=dict(color=colors[trace.name]))\n",
    "\n",
    "\n",
    "fig.update_layout(\n",
    "    yaxis2=dict(title=\"Performance Metric\", overlaying=\"y\", side=\"right\", showgrid=False)\n",
    ")\n",
    "fig.add_trace(\n",
    "    go.Scatter(x=subgraph_df['checkpoint'], y=subgraph_df['perf_metric'], name='perf_metric', mode='lines', yaxis='y2', line=dict(color=colors['perf_metric']))\n",
    ")\n",
    "\n",
    "# Optional: Update the layout if you need to adjust titles or other aesthetics\n",
    "fig.update_layout(\n",
    "    yaxis_title=\"Graph Size\"\n",
    ")\n",
    "\n",
    "fig.show()\n"
   ]
  },
  {
   "cell_type": "code",
   "execution_count": 32,
   "metadata": {},
   "outputs": [
    {
     "data": {
      "text/html": [
       "<div>\n",
       "<style scoped>\n",
       "    .dataframe tbody tr th:only-of-type {\n",
       "        vertical-align: middle;\n",
       "    }\n",
       "\n",
       "    .dataframe tbody tr th {\n",
       "        vertical-align: top;\n",
       "    }\n",
       "\n",
       "    .dataframe thead th {\n",
       "        text-align: right;\n",
       "    }\n",
       "</style>\n",
       "<table border=\"1\" class=\"dataframe\">\n",
       "  <thead>\n",
       "    <tr style=\"text-align: right;\">\n",
       "      <th></th>\n",
       "      <th>edge</th>\n",
       "      <th>score</th>\n",
       "      <th>in_circuit</th>\n",
       "      <th>checkpoint</th>\n",
       "    </tr>\n",
       "  </thead>\n",
       "  <tbody>\n",
       "    <tr>\n",
       "      <th>2</th>\n",
       "      <td>input-&gt;a0.h0&lt;v&gt;</td>\n",
       "      <td>-1.052856e-03</td>\n",
       "      <td>False</td>\n",
       "      <td>1000</td>\n",
       "    </tr>\n",
       "    <tr>\n",
       "      <th>10773</th>\n",
       "      <td>a0.h10-&gt;a7.h2&lt;q&gt;</td>\n",
       "      <td>-8.605421e-07</td>\n",
       "      <td>False</td>\n",
       "      <td>1000</td>\n",
       "    </tr>\n",
       "    <tr>\n",
       "      <th>10774</th>\n",
       "      <td>a0.h10-&gt;a7.h2&lt;k&gt;</td>\n",
       "      <td>1.778826e-07</td>\n",
       "      <td>False</td>\n",
       "      <td>1000</td>\n",
       "    </tr>\n",
       "    <tr>\n",
       "      <th>10775</th>\n",
       "      <td>a0.h10-&gt;a7.h2&lt;v&gt;</td>\n",
       "      <td>3.322959e-06</td>\n",
       "      <td>False</td>\n",
       "      <td>1000</td>\n",
       "    </tr>\n",
       "    <tr>\n",
       "      <th>10776</th>\n",
       "      <td>a0.h10-&gt;a7.h3&lt;q&gt;</td>\n",
       "      <td>4.563481e-07</td>\n",
       "      <td>False</td>\n",
       "      <td>1000</td>\n",
       "    </tr>\n",
       "  </tbody>\n",
       "</table>\n",
       "</div>"
      ],
      "text/plain": [
       "                   edge         score  in_circuit  checkpoint\n",
       "2       input->a0.h0<v> -1.052856e-03       False        1000\n",
       "10773  a0.h10->a7.h2<q> -8.605421e-07       False        1000\n",
       "10774  a0.h10->a7.h2<k>  1.778826e-07       False        1000\n",
       "10775  a0.h10->a7.h2<v>  3.322959e-06       False        1000\n",
       "10776  a0.h10->a7.h3<q>  4.563481e-07       False        1000"
      ]
     },
     "execution_count": 32,
     "metadata": {},
     "output_type": "execute_result"
    }
   ],
   "source": [
    "df.head()"
   ]
  },
  {
   "attachments": {},
   "cell_type": "markdown",
   "metadata": {},
   "source": [
    "### Graph Transformations"
   ]
  },
  {
   "cell_type": "code",
   "execution_count": 33,
   "metadata": {},
   "outputs": [
    {
     "data": {
      "application/vnd.plotly.v1+json": {
       "config": {
        "plotlyServerURL": "https://plot.ly"
       },
       "data": [
        {
         "hovertemplate": "variable=additions<br>checkpoint_2=%{x}<br>value=%{y}<extra></extra>",
         "legendgroup": "additions",
         "line": {
          "color": "lightgreen",
          "dash": "solid"
         },
         "marker": {
          "symbol": "circle"
         },
         "mode": "lines",
         "name": "additions",
         "orientation": "v",
         "showlegend": true,
         "type": "scatter",
         "x": [
          2000,
          3000,
          4000,
          5000,
          6000,
          7000,
          8000,
          9000,
          10000,
          11000,
          12000,
          13000,
          14000,
          15000,
          16000,
          17000,
          18000,
          19000,
          20000,
          21000,
          22000,
          23000,
          24000,
          25000,
          26000,
          27000,
          28000,
          29000,
          30000,
          31000,
          32000,
          33000,
          34000,
          35000,
          36000,
          37000,
          38000,
          39000,
          40000,
          41000,
          42000,
          43000,
          44000,
          45000,
          46000,
          47000,
          48000,
          49000,
          50000,
          51000,
          52000,
          53000,
          54000,
          55000,
          56000,
          57000,
          58000,
          59000,
          60000,
          61000,
          62000,
          63000,
          64000,
          65000,
          66000,
          67000,
          68000,
          69000,
          70000,
          71000,
          72000,
          73000,
          74000,
          75000,
          76000,
          77000,
          78000,
          79000,
          80000,
          81000,
          82000,
          83000,
          84000,
          85000,
          86000,
          87000,
          88000,
          89000,
          90000,
          91000,
          92000,
          93000,
          94000,
          95000,
          96000,
          97000,
          98000,
          99000,
          100000,
          101000,
          102000,
          103000,
          104000,
          105000,
          106000,
          107000,
          108000,
          109000,
          110000,
          111000,
          112000,
          113000,
          114000,
          115000,
          116000,
          117000,
          118000,
          119000,
          120000,
          121000,
          122000,
          123000,
          124000,
          125000,
          126000,
          127000,
          128000,
          129000,
          130000,
          131000,
          132000,
          133000,
          134000,
          135000,
          136000,
          137000,
          138000,
          139000,
          140000,
          141000,
          142000,
          143000
         ],
         "xaxis": "x",
         "y": [
          0,
          8,
          70,
          22,
          21,
          20,
          21,
          19,
          13,
          65,
          15,
          20,
          18,
          13,
          75,
          4,
          20,
          19,
          14,
          135,
          2,
          12,
          89,
          1,
          170,
          5,
          60,
          1,
          17,
          69,
          28,
          37,
          117,
          0,
          269,
          3,
          50,
          79,
          0,
          278,
          7,
          223,
          2,
          9,
          275,
          0,
          18,
          285,
          0,
          22,
          15,
          303,
          94,
          2,
          189,
          82,
          0,
          483,
          1,
          153,
          6,
          167,
          2,
          34,
          48,
          3,
          169,
          29,
          0,
          52,
          272,
          0,
          78,
          31,
          30,
          196,
          0,
          5,
          46,
          157,
          0,
          4,
          22,
          25,
          60,
          0,
          3,
          2,
          58,
          82,
          18,
          4,
          4,
          5,
          53,
          3,
          14,
          77,
          14,
          195,
          126,
          8,
          0,
          202,
          247,
          3,
          122,
          2,
          45,
          38,
          207,
          50,
          5,
          0,
          67,
          0,
          167,
          189,
          1,
          141,
          220,
          0,
          408,
          156,
          118,
          0,
          82,
          346,
          0,
          289,
          10,
          0,
          133,
          138,
          27,
          490,
          8,
          290,
          0,
          171,
          220,
          79
         ],
         "yaxis": "y"
        },
        {
         "hovertemplate": "variable=deletions<br>checkpoint_2=%{x}<br>value=%{y}<extra></extra>",
         "legendgroup": "deletions",
         "line": {
          "color": "lightsalmon",
          "dash": "solid"
         },
         "marker": {
          "symbol": "circle"
         },
         "mode": "lines",
         "name": "deletions",
         "orientation": "v",
         "showlegend": true,
         "type": "scatter",
         "x": [
          2000,
          3000,
          4000,
          5000,
          6000,
          7000,
          8000,
          9000,
          10000,
          11000,
          12000,
          13000,
          14000,
          15000,
          16000,
          17000,
          18000,
          19000,
          20000,
          21000,
          22000,
          23000,
          24000,
          25000,
          26000,
          27000,
          28000,
          29000,
          30000,
          31000,
          32000,
          33000,
          34000,
          35000,
          36000,
          37000,
          38000,
          39000,
          40000,
          41000,
          42000,
          43000,
          44000,
          45000,
          46000,
          47000,
          48000,
          49000,
          50000,
          51000,
          52000,
          53000,
          54000,
          55000,
          56000,
          57000,
          58000,
          59000,
          60000,
          61000,
          62000,
          63000,
          64000,
          65000,
          66000,
          67000,
          68000,
          69000,
          70000,
          71000,
          72000,
          73000,
          74000,
          75000,
          76000,
          77000,
          78000,
          79000,
          80000,
          81000,
          82000,
          83000,
          84000,
          85000,
          86000,
          87000,
          88000,
          89000,
          90000,
          91000,
          92000,
          93000,
          94000,
          95000,
          96000,
          97000,
          98000,
          99000,
          100000,
          101000,
          102000,
          103000,
          104000,
          105000,
          106000,
          107000,
          108000,
          109000,
          110000,
          111000,
          112000,
          113000,
          114000,
          115000,
          116000,
          117000,
          118000,
          119000,
          120000,
          121000,
          122000,
          123000,
          124000,
          125000,
          126000,
          127000,
          128000,
          129000,
          130000,
          131000,
          132000,
          133000,
          134000,
          135000,
          136000,
          137000,
          138000,
          139000,
          140000,
          141000,
          142000,
          143000
         ],
         "xaxis": "x",
         "y": [
          0,
          0,
          0,
          20,
          12,
          15,
          23,
          17,
          63,
          17,
          13,
          20,
          20,
          13,
          23,
          20,
          5,
          12,
          76,
          5,
          85,
          8,
          1,
          138,
          6,
          93,
          4,
          74,
          77,
          23,
          2,
          8,
          3,
          213,
          2,
          243,
          3,
          7,
          147,
          6,
          173,
          2,
          209,
          128,
          1,
          294,
          2,
          0,
          280,
          45,
          5,
          0,
          31,
          359,
          0,
          18,
          272,
          0,
          464,
          3,
          51,
          4,
          260,
          42,
          34,
          26,
          1,
          25,
          168,
          20,
          0,
          275,
          0,
          21,
          27,
          4,
          319,
          7,
          36,
          2,
          161,
          11,
          3,
          1,
          0,
          77,
          45,
          7,
          22,
          22,
          21,
          66,
          16,
          11,
          2,
          34,
          5,
          1,
          97,
          3,
          23,
          227,
          67,
          2,
          30,
          402,
          1,
          157,
          39,
          50,
          1,
          65,
          169,
          76,
          0,
          68,
          0,
          7,
          283,
          7,
          14,
          327,
          1,
          142,
          135,
          479,
          1,
          0,
          365,
          5,
          194,
          187,
          0,
          8,
          87,
          1,
          476,
          8,
          421,
          7,
          15,
          130
         ],
         "yaxis": "y"
        },
        {
         "hovertemplate": "variable=total_ged<br>checkpoint_2=%{x}<br>value=%{y}<extra></extra>",
         "legendgroup": "total_ged",
         "line": {
          "color": "lightblue",
          "dash": "solid"
         },
         "marker": {
          "symbol": "circle"
         },
         "mode": "lines",
         "name": "total_ged",
         "orientation": "v",
         "showlegend": true,
         "type": "scatter",
         "x": [
          2000,
          3000,
          4000,
          5000,
          6000,
          7000,
          8000,
          9000,
          10000,
          11000,
          12000,
          13000,
          14000,
          15000,
          16000,
          17000,
          18000,
          19000,
          20000,
          21000,
          22000,
          23000,
          24000,
          25000,
          26000,
          27000,
          28000,
          29000,
          30000,
          31000,
          32000,
          33000,
          34000,
          35000,
          36000,
          37000,
          38000,
          39000,
          40000,
          41000,
          42000,
          43000,
          44000,
          45000,
          46000,
          47000,
          48000,
          49000,
          50000,
          51000,
          52000,
          53000,
          54000,
          55000,
          56000,
          57000,
          58000,
          59000,
          60000,
          61000,
          62000,
          63000,
          64000,
          65000,
          66000,
          67000,
          68000,
          69000,
          70000,
          71000,
          72000,
          73000,
          74000,
          75000,
          76000,
          77000,
          78000,
          79000,
          80000,
          81000,
          82000,
          83000,
          84000,
          85000,
          86000,
          87000,
          88000,
          89000,
          90000,
          91000,
          92000,
          93000,
          94000,
          95000,
          96000,
          97000,
          98000,
          99000,
          100000,
          101000,
          102000,
          103000,
          104000,
          105000,
          106000,
          107000,
          108000,
          109000,
          110000,
          111000,
          112000,
          113000,
          114000,
          115000,
          116000,
          117000,
          118000,
          119000,
          120000,
          121000,
          122000,
          123000,
          124000,
          125000,
          126000,
          127000,
          128000,
          129000,
          130000,
          131000,
          132000,
          133000,
          134000,
          135000,
          136000,
          137000,
          138000,
          139000,
          140000,
          141000,
          142000,
          143000
         ],
         "xaxis": "x",
         "y": [
          0,
          8,
          70,
          42,
          33,
          35,
          44,
          36,
          76,
          82,
          28,
          40,
          38,
          26,
          98,
          24,
          25,
          31,
          90,
          140,
          87,
          20,
          90,
          139,
          176,
          98,
          64,
          75,
          94,
          92,
          30,
          45,
          120,
          213,
          271,
          246,
          53,
          86,
          147,
          284,
          180,
          225,
          211,
          137,
          276,
          294,
          20,
          285,
          280,
          67,
          20,
          303,
          125,
          361,
          189,
          100,
          272,
          483,
          465,
          156,
          57,
          171,
          262,
          76,
          82,
          29,
          170,
          54,
          168,
          72,
          272,
          275,
          78,
          52,
          57,
          200,
          319,
          12,
          82,
          159,
          161,
          15,
          25,
          26,
          60,
          77,
          48,
          9,
          80,
          104,
          39,
          70,
          20,
          16,
          55,
          37,
          19,
          78,
          111,
          198,
          149,
          235,
          67,
          204,
          277,
          405,
          123,
          159,
          84,
          88,
          208,
          115,
          174,
          76,
          67,
          68,
          167,
          196,
          284,
          148,
          234,
          327,
          409,
          298,
          253,
          479,
          83,
          346,
          365,
          294,
          204,
          187,
          133,
          146,
          114,
          491,
          484,
          298,
          421,
          178,
          235,
          209
         ],
         "yaxis": "y"
        },
        {
         "line": {
          "color": "black"
         },
         "mode": "lines",
         "name": "perf_metric",
         "type": "scatter",
         "x": [
          2000,
          3000,
          4000,
          5000,
          6000,
          7000,
          8000,
          9000,
          10000,
          11000,
          12000,
          13000,
          14000,
          15000,
          16000,
          17000,
          18000,
          19000,
          20000,
          21000,
          22000,
          23000,
          24000,
          25000,
          26000,
          27000,
          28000,
          29000,
          30000,
          31000,
          32000,
          33000,
          34000,
          35000,
          36000,
          37000,
          38000,
          39000,
          40000,
          41000,
          42000,
          43000,
          44000,
          45000,
          46000,
          47000,
          48000,
          49000,
          50000,
          51000,
          52000,
          53000,
          54000,
          55000,
          56000,
          57000,
          58000,
          59000,
          60000,
          61000,
          62000,
          63000,
          64000,
          65000,
          66000,
          67000,
          68000,
          69000,
          70000,
          71000,
          72000,
          73000,
          74000,
          75000,
          76000,
          77000,
          78000,
          79000,
          80000,
          81000,
          82000,
          83000,
          84000,
          85000,
          86000,
          87000,
          88000,
          89000,
          90000,
          91000,
          92000,
          93000,
          94000,
          95000,
          96000,
          97000,
          98000,
          99000,
          100000,
          101000,
          102000,
          103000,
          104000,
          105000,
          106000,
          107000,
          108000,
          109000,
          110000,
          111000,
          112000,
          113000,
          114000,
          115000,
          116000,
          117000,
          118000,
          119000,
          120000,
          121000,
          122000,
          123000,
          124000,
          125000,
          126000,
          127000,
          128000,
          129000,
          130000,
          131000,
          132000,
          133000,
          134000,
          135000,
          136000,
          137000,
          138000,
          139000,
          140000,
          141000,
          142000,
          143000
         ],
         "y": [
          -0.6974469423294067,
          0.04771915078163147,
          0.4078015089035034,
          1.1932440996170044,
          1.8560377359390259,
          1.8433938026428223,
          2.3628196716308594,
          1.9960979223251343,
          2.4225189685821533,
          2.5261731147766113,
          2.422247886657715,
          2.1560490131378174,
          2.315804958343506,
          2.756420850753784,
          2.7993170738220217,
          2.8422132968902587,
          2.885109519958496,
          2.928005743026733,
          2.9709019660949707,
          2.9951998710632326,
          3.019497776031494,
          3.043795680999756,
          3.0680935859680174,
          3.0923914909362793,
          3.144391345977783,
          3.196391201019287,
          3.248391056060791,
          3.300390911102295,
          3.352390766143799,
          3.345085048675537,
          3.337779331207275,
          3.330473613739014,
          3.323167896270752,
          3.3158621788024902,
          3.3601420402526854,
          3.404421901702881,
          3.448701763153076,
          3.4929816246032717,
          3.537261486053467,
          3.4823867321014403,
          3.427511978149414,
          3.372637224197388,
          3.3177624702453614,
          3.262887716293335,
          3.4026073455810546,
          3.5423269748687742,
          3.6820466041564943,
          3.821766233444214,
          3.9614858627319336,
          3.9742358207702635,
          3.986985778808594,
          3.9997357368469237,
          4.012485694885254,
          4.025235652923584,
          3.9805383682250977,
          3.9358410835266113,
          3.891143798828125,
          3.8464465141296387,
          3.8017492294311523,
          3.8956336975097656,
          3.989518165588379,
          4.083402633666992,
          4.1772871017456055,
          4.271171569824219,
          4.309825992584228,
          4.3484804153442385,
          4.387134838104248,
          4.425789260864258,
          4.464443683624268,
          4.423270845413208,
          4.382098007202148,
          4.340925168991089,
          4.299752330780029,
          4.25857949256897,
          4.2174066543579105,
          4.17623381614685,
          4.135060977935791,
          4.093888139724731,
          4.052715301513672,
          4.009969091415405,
          3.967222881317139,
          3.924476671218872,
          3.8817304611206054,
          3.838984251022339,
          3.7962380409240724,
          3.753491830825806,
          3.710745620727539,
          3.6679994106292724,
          3.625253200531006,
          3.6081200361251833,
          3.5909868717193603,
          3.5738537073135377,
          3.5567205429077147,
          3.539587378501892,
          3.5224542140960695,
          3.5053210496902465,
          3.488187885284424,
          3.471054720878601,
          3.4539215564727783,
          3.505764389038086,
          3.5576072216033934,
          3.6094500541687013,
          3.661292886734009,
          3.7131357192993164,
          3.764978551864624,
          3.8168213844299315,
          3.8686642169952394,
          3.920507049560547,
          3.9723498821258545,
          3.9614800691604612,
          3.9506102561950684,
          3.939740443229675,
          3.9288706302642824,
          3.918000817298889,
          3.907131004333496,
          3.896261191368103,
          3.88539137840271,
          3.874521565437317,
          3.863651752471924,
          3.831834864616394,
          3.800017976760864,
          3.7682010889053346,
          3.7363842010498045,
          3.704567313194275,
          3.6727504253387453,
          3.6409335374832152,
          3.6091166496276856,
          3.5772997617721556,
          3.545482873916626,
          3.6055633783340455,
          3.665643882751465,
          3.725724387168884,
          3.7858048915863036,
          3.845885396003723,
          3.9059659004211427,
          3.966046404838562,
          4.026126909255981,
          4.086207413673401,
          4.14628791809082,
          4.14628791809082,
          4.14628791809082,
          4.14628791809082
         ],
         "yaxis": "y2"
        }
       ],
       "layout": {
        "legend": {
         "title": {
          "text": "variable"
         },
         "tracegroupgap": 0
        },
        "template": {
         "data": {
          "bar": [
           {
            "error_x": {
             "color": "#2a3f5f"
            },
            "error_y": {
             "color": "#2a3f5f"
            },
            "marker": {
             "line": {
              "color": "#E5ECF6",
              "width": 0.5
             },
             "pattern": {
              "fillmode": "overlay",
              "size": 10,
              "solidity": 0.2
             }
            },
            "type": "bar"
           }
          ],
          "barpolar": [
           {
            "marker": {
             "line": {
              "color": "#E5ECF6",
              "width": 0.5
             },
             "pattern": {
              "fillmode": "overlay",
              "size": 10,
              "solidity": 0.2
             }
            },
            "type": "barpolar"
           }
          ],
          "carpet": [
           {
            "aaxis": {
             "endlinecolor": "#2a3f5f",
             "gridcolor": "white",
             "linecolor": "white",
             "minorgridcolor": "white",
             "startlinecolor": "#2a3f5f"
            },
            "baxis": {
             "endlinecolor": "#2a3f5f",
             "gridcolor": "white",
             "linecolor": "white",
             "minorgridcolor": "white",
             "startlinecolor": "#2a3f5f"
            },
            "type": "carpet"
           }
          ],
          "choropleth": [
           {
            "colorbar": {
             "outlinewidth": 0,
             "ticks": ""
            },
            "type": "choropleth"
           }
          ],
          "contour": [
           {
            "colorbar": {
             "outlinewidth": 0,
             "ticks": ""
            },
            "colorscale": [
             [
              0,
              "#0d0887"
             ],
             [
              0.1111111111111111,
              "#46039f"
             ],
             [
              0.2222222222222222,
              "#7201a8"
             ],
             [
              0.3333333333333333,
              "#9c179e"
             ],
             [
              0.4444444444444444,
              "#bd3786"
             ],
             [
              0.5555555555555556,
              "#d8576b"
             ],
             [
              0.6666666666666666,
              "#ed7953"
             ],
             [
              0.7777777777777778,
              "#fb9f3a"
             ],
             [
              0.8888888888888888,
              "#fdca26"
             ],
             [
              1,
              "#f0f921"
             ]
            ],
            "type": "contour"
           }
          ],
          "contourcarpet": [
           {
            "colorbar": {
             "outlinewidth": 0,
             "ticks": ""
            },
            "type": "contourcarpet"
           }
          ],
          "heatmap": [
           {
            "colorbar": {
             "outlinewidth": 0,
             "ticks": ""
            },
            "colorscale": [
             [
              0,
              "#0d0887"
             ],
             [
              0.1111111111111111,
              "#46039f"
             ],
             [
              0.2222222222222222,
              "#7201a8"
             ],
             [
              0.3333333333333333,
              "#9c179e"
             ],
             [
              0.4444444444444444,
              "#bd3786"
             ],
             [
              0.5555555555555556,
              "#d8576b"
             ],
             [
              0.6666666666666666,
              "#ed7953"
             ],
             [
              0.7777777777777778,
              "#fb9f3a"
             ],
             [
              0.8888888888888888,
              "#fdca26"
             ],
             [
              1,
              "#f0f921"
             ]
            ],
            "type": "heatmap"
           }
          ],
          "heatmapgl": [
           {
            "colorbar": {
             "outlinewidth": 0,
             "ticks": ""
            },
            "colorscale": [
             [
              0,
              "#0d0887"
             ],
             [
              0.1111111111111111,
              "#46039f"
             ],
             [
              0.2222222222222222,
              "#7201a8"
             ],
             [
              0.3333333333333333,
              "#9c179e"
             ],
             [
              0.4444444444444444,
              "#bd3786"
             ],
             [
              0.5555555555555556,
              "#d8576b"
             ],
             [
              0.6666666666666666,
              "#ed7953"
             ],
             [
              0.7777777777777778,
              "#fb9f3a"
             ],
             [
              0.8888888888888888,
              "#fdca26"
             ],
             [
              1,
              "#f0f921"
             ]
            ],
            "type": "heatmapgl"
           }
          ],
          "histogram": [
           {
            "marker": {
             "pattern": {
              "fillmode": "overlay",
              "size": 10,
              "solidity": 0.2
             }
            },
            "type": "histogram"
           }
          ],
          "histogram2d": [
           {
            "colorbar": {
             "outlinewidth": 0,
             "ticks": ""
            },
            "colorscale": [
             [
              0,
              "#0d0887"
             ],
             [
              0.1111111111111111,
              "#46039f"
             ],
             [
              0.2222222222222222,
              "#7201a8"
             ],
             [
              0.3333333333333333,
              "#9c179e"
             ],
             [
              0.4444444444444444,
              "#bd3786"
             ],
             [
              0.5555555555555556,
              "#d8576b"
             ],
             [
              0.6666666666666666,
              "#ed7953"
             ],
             [
              0.7777777777777778,
              "#fb9f3a"
             ],
             [
              0.8888888888888888,
              "#fdca26"
             ],
             [
              1,
              "#f0f921"
             ]
            ],
            "type": "histogram2d"
           }
          ],
          "histogram2dcontour": [
           {
            "colorbar": {
             "outlinewidth": 0,
             "ticks": ""
            },
            "colorscale": [
             [
              0,
              "#0d0887"
             ],
             [
              0.1111111111111111,
              "#46039f"
             ],
             [
              0.2222222222222222,
              "#7201a8"
             ],
             [
              0.3333333333333333,
              "#9c179e"
             ],
             [
              0.4444444444444444,
              "#bd3786"
             ],
             [
              0.5555555555555556,
              "#d8576b"
             ],
             [
              0.6666666666666666,
              "#ed7953"
             ],
             [
              0.7777777777777778,
              "#fb9f3a"
             ],
             [
              0.8888888888888888,
              "#fdca26"
             ],
             [
              1,
              "#f0f921"
             ]
            ],
            "type": "histogram2dcontour"
           }
          ],
          "mesh3d": [
           {
            "colorbar": {
             "outlinewidth": 0,
             "ticks": ""
            },
            "type": "mesh3d"
           }
          ],
          "parcoords": [
           {
            "line": {
             "colorbar": {
              "outlinewidth": 0,
              "ticks": ""
             }
            },
            "type": "parcoords"
           }
          ],
          "pie": [
           {
            "automargin": true,
            "type": "pie"
           }
          ],
          "scatter": [
           {
            "fillpattern": {
             "fillmode": "overlay",
             "size": 10,
             "solidity": 0.2
            },
            "type": "scatter"
           }
          ],
          "scatter3d": [
           {
            "line": {
             "colorbar": {
              "outlinewidth": 0,
              "ticks": ""
             }
            },
            "marker": {
             "colorbar": {
              "outlinewidth": 0,
              "ticks": ""
             }
            },
            "type": "scatter3d"
           }
          ],
          "scattercarpet": [
           {
            "marker": {
             "colorbar": {
              "outlinewidth": 0,
              "ticks": ""
             }
            },
            "type": "scattercarpet"
           }
          ],
          "scattergeo": [
           {
            "marker": {
             "colorbar": {
              "outlinewidth": 0,
              "ticks": ""
             }
            },
            "type": "scattergeo"
           }
          ],
          "scattergl": [
           {
            "marker": {
             "colorbar": {
              "outlinewidth": 0,
              "ticks": ""
             }
            },
            "type": "scattergl"
           }
          ],
          "scattermapbox": [
           {
            "marker": {
             "colorbar": {
              "outlinewidth": 0,
              "ticks": ""
             }
            },
            "type": "scattermapbox"
           }
          ],
          "scatterpolar": [
           {
            "marker": {
             "colorbar": {
              "outlinewidth": 0,
              "ticks": ""
             }
            },
            "type": "scatterpolar"
           }
          ],
          "scatterpolargl": [
           {
            "marker": {
             "colorbar": {
              "outlinewidth": 0,
              "ticks": ""
             }
            },
            "type": "scatterpolargl"
           }
          ],
          "scatterternary": [
           {
            "marker": {
             "colorbar": {
              "outlinewidth": 0,
              "ticks": ""
             }
            },
            "type": "scatterternary"
           }
          ],
          "surface": [
           {
            "colorbar": {
             "outlinewidth": 0,
             "ticks": ""
            },
            "colorscale": [
             [
              0,
              "#0d0887"
             ],
             [
              0.1111111111111111,
              "#46039f"
             ],
             [
              0.2222222222222222,
              "#7201a8"
             ],
             [
              0.3333333333333333,
              "#9c179e"
             ],
             [
              0.4444444444444444,
              "#bd3786"
             ],
             [
              0.5555555555555556,
              "#d8576b"
             ],
             [
              0.6666666666666666,
              "#ed7953"
             ],
             [
              0.7777777777777778,
              "#fb9f3a"
             ],
             [
              0.8888888888888888,
              "#fdca26"
             ],
             [
              1,
              "#f0f921"
             ]
            ],
            "type": "surface"
           }
          ],
          "table": [
           {
            "cells": {
             "fill": {
              "color": "#EBF0F8"
             },
             "line": {
              "color": "white"
             }
            },
            "header": {
             "fill": {
              "color": "#C8D4E3"
             },
             "line": {
              "color": "white"
             }
            },
            "type": "table"
           }
          ]
         },
         "layout": {
          "annotationdefaults": {
           "arrowcolor": "#2a3f5f",
           "arrowhead": 0,
           "arrowwidth": 1
          },
          "autotypenumbers": "strict",
          "coloraxis": {
           "colorbar": {
            "outlinewidth": 0,
            "ticks": ""
           }
          },
          "colorscale": {
           "diverging": [
            [
             0,
             "#8e0152"
            ],
            [
             0.1,
             "#c51b7d"
            ],
            [
             0.2,
             "#de77ae"
            ],
            [
             0.3,
             "#f1b6da"
            ],
            [
             0.4,
             "#fde0ef"
            ],
            [
             0.5,
             "#f7f7f7"
            ],
            [
             0.6,
             "#e6f5d0"
            ],
            [
             0.7,
             "#b8e186"
            ],
            [
             0.8,
             "#7fbc41"
            ],
            [
             0.9,
             "#4d9221"
            ],
            [
             1,
             "#276419"
            ]
           ],
           "sequential": [
            [
             0,
             "#0d0887"
            ],
            [
             0.1111111111111111,
             "#46039f"
            ],
            [
             0.2222222222222222,
             "#7201a8"
            ],
            [
             0.3333333333333333,
             "#9c179e"
            ],
            [
             0.4444444444444444,
             "#bd3786"
            ],
            [
             0.5555555555555556,
             "#d8576b"
            ],
            [
             0.6666666666666666,
             "#ed7953"
            ],
            [
             0.7777777777777778,
             "#fb9f3a"
            ],
            [
             0.8888888888888888,
             "#fdca26"
            ],
            [
             1,
             "#f0f921"
            ]
           ],
           "sequentialminus": [
            [
             0,
             "#0d0887"
            ],
            [
             0.1111111111111111,
             "#46039f"
            ],
            [
             0.2222222222222222,
             "#7201a8"
            ],
            [
             0.3333333333333333,
             "#9c179e"
            ],
            [
             0.4444444444444444,
             "#bd3786"
            ],
            [
             0.5555555555555556,
             "#d8576b"
            ],
            [
             0.6666666666666666,
             "#ed7953"
            ],
            [
             0.7777777777777778,
             "#fb9f3a"
            ],
            [
             0.8888888888888888,
             "#fdca26"
            ],
            [
             1,
             "#f0f921"
            ]
           ]
          },
          "colorway": [
           "#636efa",
           "#EF553B",
           "#00cc96",
           "#ab63fa",
           "#FFA15A",
           "#19d3f3",
           "#FF6692",
           "#B6E880",
           "#FF97FF",
           "#FECB52"
          ],
          "font": {
           "color": "#2a3f5f"
          },
          "geo": {
           "bgcolor": "white",
           "lakecolor": "white",
           "landcolor": "#E5ECF6",
           "showlakes": true,
           "showland": true,
           "subunitcolor": "white"
          },
          "hoverlabel": {
           "align": "left"
          },
          "hovermode": "closest",
          "mapbox": {
           "style": "light"
          },
          "paper_bgcolor": "white",
          "plot_bgcolor": "#E5ECF6",
          "polar": {
           "angularaxis": {
            "gridcolor": "white",
            "linecolor": "white",
            "ticks": ""
           },
           "bgcolor": "#E5ECF6",
           "radialaxis": {
            "gridcolor": "white",
            "linecolor": "white",
            "ticks": ""
           }
          },
          "scene": {
           "xaxis": {
            "backgroundcolor": "#E5ECF6",
            "gridcolor": "white",
            "gridwidth": 2,
            "linecolor": "white",
            "showbackground": true,
            "ticks": "",
            "zerolinecolor": "white"
           },
           "yaxis": {
            "backgroundcolor": "#E5ECF6",
            "gridcolor": "white",
            "gridwidth": 2,
            "linecolor": "white",
            "showbackground": true,
            "ticks": "",
            "zerolinecolor": "white"
           },
           "zaxis": {
            "backgroundcolor": "#E5ECF6",
            "gridcolor": "white",
            "gridwidth": 2,
            "linecolor": "white",
            "showbackground": true,
            "ticks": "",
            "zerolinecolor": "white"
           }
          },
          "shapedefaults": {
           "line": {
            "color": "#2a3f5f"
           }
          },
          "ternary": {
           "aaxis": {
            "gridcolor": "white",
            "linecolor": "white",
            "ticks": ""
           },
           "baxis": {
            "gridcolor": "white",
            "linecolor": "white",
            "ticks": ""
           },
           "bgcolor": "#E5ECF6",
           "caxis": {
            "gridcolor": "white",
            "linecolor": "white",
            "ticks": ""
           }
          },
          "title": {
           "x": 0.05
          },
          "xaxis": {
           "automargin": true,
           "gridcolor": "white",
           "linecolor": "white",
           "ticks": "",
           "title": {
            "standoff": 15
           },
           "zerolinecolor": "white",
           "zerolinewidth": 2
          },
          "yaxis": {
           "automargin": true,
           "gridcolor": "white",
           "linecolor": "white",
           "ticks": "",
           "title": {
            "standoff": 15
           },
           "zerolinecolor": "white",
           "zerolinewidth": 2
          }
         }
        },
        "title": {
         "text": "GED Over Time (minimum faithful graph)"
        },
        "xaxis": {
         "anchor": "y",
         "domain": [
          0,
          1
         ],
         "title": {
          "text": "checkpoint_2"
         },
         "type": "log"
        },
        "yaxis": {
         "anchor": "x",
         "domain": [
          0,
          1
         ],
         "title": {
          "text": "GED Metrics"
         }
        },
        "yaxis2": {
         "overlaying": "y",
         "showgrid": false,
         "side": "right",
         "title": {
          "text": "Probability Difference"
         }
        }
       }
      },
      "text/html": [
       "<div>                            <div id=\"8a63dd50-6ba2-4331-83e3-0ce747cea977\" class=\"plotly-graph-div\" style=\"height:525px; width:100%;\"></div>            <script type=\"text/javascript\">                require([\"plotly\"], function(Plotly) {                    window.PLOTLYENV=window.PLOTLYENV || {};                                    if (document.getElementById(\"8a63dd50-6ba2-4331-83e3-0ce747cea977\")) {                    Plotly.newPlot(                        \"8a63dd50-6ba2-4331-83e3-0ce747cea977\",                        [{\"hovertemplate\":\"variable=additions\\u003cbr\\u003echeckpoint_2=%{x}\\u003cbr\\u003evalue=%{y}\\u003cextra\\u003e\\u003c\\u002fextra\\u003e\",\"legendgroup\":\"additions\",\"line\":{\"color\":\"lightgreen\",\"dash\":\"solid\"},\"marker\":{\"symbol\":\"circle\"},\"mode\":\"lines\",\"name\":\"additions\",\"orientation\":\"v\",\"showlegend\":true,\"x\":[2000,3000,4000,5000,6000,7000,8000,9000,10000,11000,12000,13000,14000,15000,16000,17000,18000,19000,20000,21000,22000,23000,24000,25000,26000,27000,28000,29000,30000,31000,32000,33000,34000,35000,36000,37000,38000,39000,40000,41000,42000,43000,44000,45000,46000,47000,48000,49000,50000,51000,52000,53000,54000,55000,56000,57000,58000,59000,60000,61000,62000,63000,64000,65000,66000,67000,68000,69000,70000,71000,72000,73000,74000,75000,76000,77000,78000,79000,80000,81000,82000,83000,84000,85000,86000,87000,88000,89000,90000,91000,92000,93000,94000,95000,96000,97000,98000,99000,100000,101000,102000,103000,104000,105000,106000,107000,108000,109000,110000,111000,112000,113000,114000,115000,116000,117000,118000,119000,120000,121000,122000,123000,124000,125000,126000,127000,128000,129000,130000,131000,132000,133000,134000,135000,136000,137000,138000,139000,140000,141000,142000,143000],\"xaxis\":\"x\",\"y\":[0,8,70,22,21,20,21,19,13,65,15,20,18,13,75,4,20,19,14,135,2,12,89,1,170,5,60,1,17,69,28,37,117,0,269,3,50,79,0,278,7,223,2,9,275,0,18,285,0,22,15,303,94,2,189,82,0,483,1,153,6,167,2,34,48,3,169,29,0,52,272,0,78,31,30,196,0,5,46,157,0,4,22,25,60,0,3,2,58,82,18,4,4,5,53,3,14,77,14,195,126,8,0,202,247,3,122,2,45,38,207,50,5,0,67,0,167,189,1,141,220,0,408,156,118,0,82,346,0,289,10,0,133,138,27,490,8,290,0,171,220,79],\"yaxis\":\"y\",\"type\":\"scatter\"},{\"hovertemplate\":\"variable=deletions\\u003cbr\\u003echeckpoint_2=%{x}\\u003cbr\\u003evalue=%{y}\\u003cextra\\u003e\\u003c\\u002fextra\\u003e\",\"legendgroup\":\"deletions\",\"line\":{\"color\":\"lightsalmon\",\"dash\":\"solid\"},\"marker\":{\"symbol\":\"circle\"},\"mode\":\"lines\",\"name\":\"deletions\",\"orientation\":\"v\",\"showlegend\":true,\"x\":[2000,3000,4000,5000,6000,7000,8000,9000,10000,11000,12000,13000,14000,15000,16000,17000,18000,19000,20000,21000,22000,23000,24000,25000,26000,27000,28000,29000,30000,31000,32000,33000,34000,35000,36000,37000,38000,39000,40000,41000,42000,43000,44000,45000,46000,47000,48000,49000,50000,51000,52000,53000,54000,55000,56000,57000,58000,59000,60000,61000,62000,63000,64000,65000,66000,67000,68000,69000,70000,71000,72000,73000,74000,75000,76000,77000,78000,79000,80000,81000,82000,83000,84000,85000,86000,87000,88000,89000,90000,91000,92000,93000,94000,95000,96000,97000,98000,99000,100000,101000,102000,103000,104000,105000,106000,107000,108000,109000,110000,111000,112000,113000,114000,115000,116000,117000,118000,119000,120000,121000,122000,123000,124000,125000,126000,127000,128000,129000,130000,131000,132000,133000,134000,135000,136000,137000,138000,139000,140000,141000,142000,143000],\"xaxis\":\"x\",\"y\":[0,0,0,20,12,15,23,17,63,17,13,20,20,13,23,20,5,12,76,5,85,8,1,138,6,93,4,74,77,23,2,8,3,213,2,243,3,7,147,6,173,2,209,128,1,294,2,0,280,45,5,0,31,359,0,18,272,0,464,3,51,4,260,42,34,26,1,25,168,20,0,275,0,21,27,4,319,7,36,2,161,11,3,1,0,77,45,7,22,22,21,66,16,11,2,34,5,1,97,3,23,227,67,2,30,402,1,157,39,50,1,65,169,76,0,68,0,7,283,7,14,327,1,142,135,479,1,0,365,5,194,187,0,8,87,1,476,8,421,7,15,130],\"yaxis\":\"y\",\"type\":\"scatter\"},{\"hovertemplate\":\"variable=total_ged\\u003cbr\\u003echeckpoint_2=%{x}\\u003cbr\\u003evalue=%{y}\\u003cextra\\u003e\\u003c\\u002fextra\\u003e\",\"legendgroup\":\"total_ged\",\"line\":{\"color\":\"lightblue\",\"dash\":\"solid\"},\"marker\":{\"symbol\":\"circle\"},\"mode\":\"lines\",\"name\":\"total_ged\",\"orientation\":\"v\",\"showlegend\":true,\"x\":[2000,3000,4000,5000,6000,7000,8000,9000,10000,11000,12000,13000,14000,15000,16000,17000,18000,19000,20000,21000,22000,23000,24000,25000,26000,27000,28000,29000,30000,31000,32000,33000,34000,35000,36000,37000,38000,39000,40000,41000,42000,43000,44000,45000,46000,47000,48000,49000,50000,51000,52000,53000,54000,55000,56000,57000,58000,59000,60000,61000,62000,63000,64000,65000,66000,67000,68000,69000,70000,71000,72000,73000,74000,75000,76000,77000,78000,79000,80000,81000,82000,83000,84000,85000,86000,87000,88000,89000,90000,91000,92000,93000,94000,95000,96000,97000,98000,99000,100000,101000,102000,103000,104000,105000,106000,107000,108000,109000,110000,111000,112000,113000,114000,115000,116000,117000,118000,119000,120000,121000,122000,123000,124000,125000,126000,127000,128000,129000,130000,131000,132000,133000,134000,135000,136000,137000,138000,139000,140000,141000,142000,143000],\"xaxis\":\"x\",\"y\":[0,8,70,42,33,35,44,36,76,82,28,40,38,26,98,24,25,31,90,140,87,20,90,139,176,98,64,75,94,92,30,45,120,213,271,246,53,86,147,284,180,225,211,137,276,294,20,285,280,67,20,303,125,361,189,100,272,483,465,156,57,171,262,76,82,29,170,54,168,72,272,275,78,52,57,200,319,12,82,159,161,15,25,26,60,77,48,9,80,104,39,70,20,16,55,37,19,78,111,198,149,235,67,204,277,405,123,159,84,88,208,115,174,76,67,68,167,196,284,148,234,327,409,298,253,479,83,346,365,294,204,187,133,146,114,491,484,298,421,178,235,209],\"yaxis\":\"y\",\"type\":\"scatter\"},{\"line\":{\"color\":\"black\"},\"mode\":\"lines\",\"name\":\"perf_metric\",\"x\":[2000,3000,4000,5000,6000,7000,8000,9000,10000,11000,12000,13000,14000,15000,16000,17000,18000,19000,20000,21000,22000,23000,24000,25000,26000,27000,28000,29000,30000,31000,32000,33000,34000,35000,36000,37000,38000,39000,40000,41000,42000,43000,44000,45000,46000,47000,48000,49000,50000,51000,52000,53000,54000,55000,56000,57000,58000,59000,60000,61000,62000,63000,64000,65000,66000,67000,68000,69000,70000,71000,72000,73000,74000,75000,76000,77000,78000,79000,80000,81000,82000,83000,84000,85000,86000,87000,88000,89000,90000,91000,92000,93000,94000,95000,96000,97000,98000,99000,100000,101000,102000,103000,104000,105000,106000,107000,108000,109000,110000,111000,112000,113000,114000,115000,116000,117000,118000,119000,120000,121000,122000,123000,124000,125000,126000,127000,128000,129000,130000,131000,132000,133000,134000,135000,136000,137000,138000,139000,140000,141000,142000,143000],\"y\":[-0.6974469423294067,0.04771915078163147,0.4078015089035034,1.1932440996170044,1.8560377359390259,1.8433938026428223,2.3628196716308594,1.9960979223251343,2.4225189685821533,2.5261731147766113,2.422247886657715,2.1560490131378174,2.315804958343506,2.756420850753784,2.7993170738220217,2.8422132968902587,2.885109519958496,2.928005743026733,2.9709019660949707,2.9951998710632326,3.019497776031494,3.043795680999756,3.0680935859680174,3.0923914909362793,3.144391345977783,3.196391201019287,3.248391056060791,3.300390911102295,3.352390766143799,3.345085048675537,3.337779331207275,3.330473613739014,3.323167896270752,3.3158621788024902,3.3601420402526854,3.404421901702881,3.448701763153076,3.4929816246032717,3.537261486053467,3.4823867321014403,3.427511978149414,3.372637224197388,3.3177624702453614,3.262887716293335,3.4026073455810546,3.5423269748687742,3.6820466041564943,3.821766233444214,3.9614858627319336,3.9742358207702635,3.986985778808594,3.9997357368469237,4.012485694885254,4.025235652923584,3.9805383682250977,3.9358410835266113,3.891143798828125,3.8464465141296387,3.8017492294311523,3.8956336975097656,3.989518165588379,4.083402633666992,4.1772871017456055,4.271171569824219,4.309825992584228,4.3484804153442385,4.387134838104248,4.425789260864258,4.464443683624268,4.423270845413208,4.382098007202148,4.340925168991089,4.299752330780029,4.25857949256897,4.2174066543579105,4.17623381614685,4.135060977935791,4.093888139724731,4.052715301513672,4.009969091415405,3.967222881317139,3.924476671218872,3.8817304611206054,3.838984251022339,3.7962380409240724,3.753491830825806,3.710745620727539,3.6679994106292724,3.625253200531006,3.6081200361251833,3.5909868717193603,3.5738537073135377,3.5567205429077147,3.539587378501892,3.5224542140960695,3.5053210496902465,3.488187885284424,3.471054720878601,3.4539215564727783,3.505764389038086,3.5576072216033934,3.6094500541687013,3.661292886734009,3.7131357192993164,3.764978551864624,3.8168213844299315,3.8686642169952394,3.920507049560547,3.9723498821258545,3.9614800691604612,3.9506102561950684,3.939740443229675,3.9288706302642824,3.918000817298889,3.907131004333496,3.896261191368103,3.88539137840271,3.874521565437317,3.863651752471924,3.831834864616394,3.800017976760864,3.7682010889053346,3.7363842010498045,3.704567313194275,3.6727504253387453,3.6409335374832152,3.6091166496276856,3.5772997617721556,3.545482873916626,3.6055633783340455,3.665643882751465,3.725724387168884,3.7858048915863036,3.845885396003723,3.9059659004211427,3.966046404838562,4.026126909255981,4.086207413673401,4.14628791809082,4.14628791809082,4.14628791809082,4.14628791809082],\"yaxis\":\"y2\",\"type\":\"scatter\"}],                        {\"template\":{\"data\":{\"histogram2dcontour\":[{\"type\":\"histogram2dcontour\",\"colorbar\":{\"outlinewidth\":0,\"ticks\":\"\"},\"colorscale\":[[0.0,\"#0d0887\"],[0.1111111111111111,\"#46039f\"],[0.2222222222222222,\"#7201a8\"],[0.3333333333333333,\"#9c179e\"],[0.4444444444444444,\"#bd3786\"],[0.5555555555555556,\"#d8576b\"],[0.6666666666666666,\"#ed7953\"],[0.7777777777777778,\"#fb9f3a\"],[0.8888888888888888,\"#fdca26\"],[1.0,\"#f0f921\"]]}],\"choropleth\":[{\"type\":\"choropleth\",\"colorbar\":{\"outlinewidth\":0,\"ticks\":\"\"}}],\"histogram2d\":[{\"type\":\"histogram2d\",\"colorbar\":{\"outlinewidth\":0,\"ticks\":\"\"},\"colorscale\":[[0.0,\"#0d0887\"],[0.1111111111111111,\"#46039f\"],[0.2222222222222222,\"#7201a8\"],[0.3333333333333333,\"#9c179e\"],[0.4444444444444444,\"#bd3786\"],[0.5555555555555556,\"#d8576b\"],[0.6666666666666666,\"#ed7953\"],[0.7777777777777778,\"#fb9f3a\"],[0.8888888888888888,\"#fdca26\"],[1.0,\"#f0f921\"]]}],\"heatmap\":[{\"type\":\"heatmap\",\"colorbar\":{\"outlinewidth\":0,\"ticks\":\"\"},\"colorscale\":[[0.0,\"#0d0887\"],[0.1111111111111111,\"#46039f\"],[0.2222222222222222,\"#7201a8\"],[0.3333333333333333,\"#9c179e\"],[0.4444444444444444,\"#bd3786\"],[0.5555555555555556,\"#d8576b\"],[0.6666666666666666,\"#ed7953\"],[0.7777777777777778,\"#fb9f3a\"],[0.8888888888888888,\"#fdca26\"],[1.0,\"#f0f921\"]]}],\"heatmapgl\":[{\"type\":\"heatmapgl\",\"colorbar\":{\"outlinewidth\":0,\"ticks\":\"\"},\"colorscale\":[[0.0,\"#0d0887\"],[0.1111111111111111,\"#46039f\"],[0.2222222222222222,\"#7201a8\"],[0.3333333333333333,\"#9c179e\"],[0.4444444444444444,\"#bd3786\"],[0.5555555555555556,\"#d8576b\"],[0.6666666666666666,\"#ed7953\"],[0.7777777777777778,\"#fb9f3a\"],[0.8888888888888888,\"#fdca26\"],[1.0,\"#f0f921\"]]}],\"contourcarpet\":[{\"type\":\"contourcarpet\",\"colorbar\":{\"outlinewidth\":0,\"ticks\":\"\"}}],\"contour\":[{\"type\":\"contour\",\"colorbar\":{\"outlinewidth\":0,\"ticks\":\"\"},\"colorscale\":[[0.0,\"#0d0887\"],[0.1111111111111111,\"#46039f\"],[0.2222222222222222,\"#7201a8\"],[0.3333333333333333,\"#9c179e\"],[0.4444444444444444,\"#bd3786\"],[0.5555555555555556,\"#d8576b\"],[0.6666666666666666,\"#ed7953\"],[0.7777777777777778,\"#fb9f3a\"],[0.8888888888888888,\"#fdca26\"],[1.0,\"#f0f921\"]]}],\"surface\":[{\"type\":\"surface\",\"colorbar\":{\"outlinewidth\":0,\"ticks\":\"\"},\"colorscale\":[[0.0,\"#0d0887\"],[0.1111111111111111,\"#46039f\"],[0.2222222222222222,\"#7201a8\"],[0.3333333333333333,\"#9c179e\"],[0.4444444444444444,\"#bd3786\"],[0.5555555555555556,\"#d8576b\"],[0.6666666666666666,\"#ed7953\"],[0.7777777777777778,\"#fb9f3a\"],[0.8888888888888888,\"#fdca26\"],[1.0,\"#f0f921\"]]}],\"mesh3d\":[{\"type\":\"mesh3d\",\"colorbar\":{\"outlinewidth\":0,\"ticks\":\"\"}}],\"scatter\":[{\"fillpattern\":{\"fillmode\":\"overlay\",\"size\":10,\"solidity\":0.2},\"type\":\"scatter\"}],\"parcoords\":[{\"type\":\"parcoords\",\"line\":{\"colorbar\":{\"outlinewidth\":0,\"ticks\":\"\"}}}],\"scatterpolargl\":[{\"type\":\"scatterpolargl\",\"marker\":{\"colorbar\":{\"outlinewidth\":0,\"ticks\":\"\"}}}],\"bar\":[{\"error_x\":{\"color\":\"#2a3f5f\"},\"error_y\":{\"color\":\"#2a3f5f\"},\"marker\":{\"line\":{\"color\":\"#E5ECF6\",\"width\":0.5},\"pattern\":{\"fillmode\":\"overlay\",\"size\":10,\"solidity\":0.2}},\"type\":\"bar\"}],\"scattergeo\":[{\"type\":\"scattergeo\",\"marker\":{\"colorbar\":{\"outlinewidth\":0,\"ticks\":\"\"}}}],\"scatterpolar\":[{\"type\":\"scatterpolar\",\"marker\":{\"colorbar\":{\"outlinewidth\":0,\"ticks\":\"\"}}}],\"histogram\":[{\"marker\":{\"pattern\":{\"fillmode\":\"overlay\",\"size\":10,\"solidity\":0.2}},\"type\":\"histogram\"}],\"scattergl\":[{\"type\":\"scattergl\",\"marker\":{\"colorbar\":{\"outlinewidth\":0,\"ticks\":\"\"}}}],\"scatter3d\":[{\"type\":\"scatter3d\",\"line\":{\"colorbar\":{\"outlinewidth\":0,\"ticks\":\"\"}},\"marker\":{\"colorbar\":{\"outlinewidth\":0,\"ticks\":\"\"}}}],\"scattermapbox\":[{\"type\":\"scattermapbox\",\"marker\":{\"colorbar\":{\"outlinewidth\":0,\"ticks\":\"\"}}}],\"scatterternary\":[{\"type\":\"scatterternary\",\"marker\":{\"colorbar\":{\"outlinewidth\":0,\"ticks\":\"\"}}}],\"scattercarpet\":[{\"type\":\"scattercarpet\",\"marker\":{\"colorbar\":{\"outlinewidth\":0,\"ticks\":\"\"}}}],\"carpet\":[{\"aaxis\":{\"endlinecolor\":\"#2a3f5f\",\"gridcolor\":\"white\",\"linecolor\":\"white\",\"minorgridcolor\":\"white\",\"startlinecolor\":\"#2a3f5f\"},\"baxis\":{\"endlinecolor\":\"#2a3f5f\",\"gridcolor\":\"white\",\"linecolor\":\"white\",\"minorgridcolor\":\"white\",\"startlinecolor\":\"#2a3f5f\"},\"type\":\"carpet\"}],\"table\":[{\"cells\":{\"fill\":{\"color\":\"#EBF0F8\"},\"line\":{\"color\":\"white\"}},\"header\":{\"fill\":{\"color\":\"#C8D4E3\"},\"line\":{\"color\":\"white\"}},\"type\":\"table\"}],\"barpolar\":[{\"marker\":{\"line\":{\"color\":\"#E5ECF6\",\"width\":0.5},\"pattern\":{\"fillmode\":\"overlay\",\"size\":10,\"solidity\":0.2}},\"type\":\"barpolar\"}],\"pie\":[{\"automargin\":true,\"type\":\"pie\"}]},\"layout\":{\"autotypenumbers\":\"strict\",\"colorway\":[\"#636efa\",\"#EF553B\",\"#00cc96\",\"#ab63fa\",\"#FFA15A\",\"#19d3f3\",\"#FF6692\",\"#B6E880\",\"#FF97FF\",\"#FECB52\"],\"font\":{\"color\":\"#2a3f5f\"},\"hovermode\":\"closest\",\"hoverlabel\":{\"align\":\"left\"},\"paper_bgcolor\":\"white\",\"plot_bgcolor\":\"#E5ECF6\",\"polar\":{\"bgcolor\":\"#E5ECF6\",\"angularaxis\":{\"gridcolor\":\"white\",\"linecolor\":\"white\",\"ticks\":\"\"},\"radialaxis\":{\"gridcolor\":\"white\",\"linecolor\":\"white\",\"ticks\":\"\"}},\"ternary\":{\"bgcolor\":\"#E5ECF6\",\"aaxis\":{\"gridcolor\":\"white\",\"linecolor\":\"white\",\"ticks\":\"\"},\"baxis\":{\"gridcolor\":\"white\",\"linecolor\":\"white\",\"ticks\":\"\"},\"caxis\":{\"gridcolor\":\"white\",\"linecolor\":\"white\",\"ticks\":\"\"}},\"coloraxis\":{\"colorbar\":{\"outlinewidth\":0,\"ticks\":\"\"}},\"colorscale\":{\"sequential\":[[0.0,\"#0d0887\"],[0.1111111111111111,\"#46039f\"],[0.2222222222222222,\"#7201a8\"],[0.3333333333333333,\"#9c179e\"],[0.4444444444444444,\"#bd3786\"],[0.5555555555555556,\"#d8576b\"],[0.6666666666666666,\"#ed7953\"],[0.7777777777777778,\"#fb9f3a\"],[0.8888888888888888,\"#fdca26\"],[1.0,\"#f0f921\"]],\"sequentialminus\":[[0.0,\"#0d0887\"],[0.1111111111111111,\"#46039f\"],[0.2222222222222222,\"#7201a8\"],[0.3333333333333333,\"#9c179e\"],[0.4444444444444444,\"#bd3786\"],[0.5555555555555556,\"#d8576b\"],[0.6666666666666666,\"#ed7953\"],[0.7777777777777778,\"#fb9f3a\"],[0.8888888888888888,\"#fdca26\"],[1.0,\"#f0f921\"]],\"diverging\":[[0,\"#8e0152\"],[0.1,\"#c51b7d\"],[0.2,\"#de77ae\"],[0.3,\"#f1b6da\"],[0.4,\"#fde0ef\"],[0.5,\"#f7f7f7\"],[0.6,\"#e6f5d0\"],[0.7,\"#b8e186\"],[0.8,\"#7fbc41\"],[0.9,\"#4d9221\"],[1,\"#276419\"]]},\"xaxis\":{\"gridcolor\":\"white\",\"linecolor\":\"white\",\"ticks\":\"\",\"title\":{\"standoff\":15},\"zerolinecolor\":\"white\",\"automargin\":true,\"zerolinewidth\":2},\"yaxis\":{\"gridcolor\":\"white\",\"linecolor\":\"white\",\"ticks\":\"\",\"title\":{\"standoff\":15},\"zerolinecolor\":\"white\",\"automargin\":true,\"zerolinewidth\":2},\"scene\":{\"xaxis\":{\"backgroundcolor\":\"#E5ECF6\",\"gridcolor\":\"white\",\"linecolor\":\"white\",\"showbackground\":true,\"ticks\":\"\",\"zerolinecolor\":\"white\",\"gridwidth\":2},\"yaxis\":{\"backgroundcolor\":\"#E5ECF6\",\"gridcolor\":\"white\",\"linecolor\":\"white\",\"showbackground\":true,\"ticks\":\"\",\"zerolinecolor\":\"white\",\"gridwidth\":2},\"zaxis\":{\"backgroundcolor\":\"#E5ECF6\",\"gridcolor\":\"white\",\"linecolor\":\"white\",\"showbackground\":true,\"ticks\":\"\",\"zerolinecolor\":\"white\",\"gridwidth\":2}},\"shapedefaults\":{\"line\":{\"color\":\"#2a3f5f\"}},\"annotationdefaults\":{\"arrowcolor\":\"#2a3f5f\",\"arrowhead\":0,\"arrowwidth\":1},\"geo\":{\"bgcolor\":\"white\",\"landcolor\":\"#E5ECF6\",\"subunitcolor\":\"white\",\"showland\":true,\"showlakes\":true,\"lakecolor\":\"white\"},\"title\":{\"x\":0.05},\"mapbox\":{\"style\":\"light\"}}},\"xaxis\":{\"anchor\":\"y\",\"domain\":[0.0,1.0],\"title\":{\"text\":\"checkpoint_2\"},\"type\":\"log\"},\"yaxis\":{\"anchor\":\"x\",\"domain\":[0.0,1.0],\"title\":{\"text\":\"GED Metrics\"}},\"legend\":{\"title\":{\"text\":\"variable\"},\"tracegroupgap\":0},\"title\":{\"text\":\"GED Over Time (minimum faithful graph)\"},\"yaxis2\":{\"title\":{\"text\":\"Probability Difference\"},\"overlaying\":\"y\",\"side\":\"right\",\"showgrid\":false}},                        {\"responsive\": true}                    ).then(function(){\n",
       "                            \n",
       "var gd = document.getElementById('8a63dd50-6ba2-4331-83e3-0ce747cea977');\n",
       "var x = new MutationObserver(function (mutations, observer) {{\n",
       "        var display = window.getComputedStyle(gd).display;\n",
       "        if (!display || display === 'none') {{\n",
       "            console.log([gd, 'removed!']);\n",
       "            Plotly.purge(gd);\n",
       "            observer.disconnect();\n",
       "        }}\n",
       "}});\n",
       "\n",
       "// Listen for the removal of the full notebook cells\n",
       "var notebookContainer = gd.closest('#notebook-container');\n",
       "if (notebookContainer) {{\n",
       "    x.observe(notebookContainer, {childList: true});\n",
       "}}\n",
       "\n",
       "// Listen for the clearing of the current output cell\n",
       "var outputEl = gd.closest('.output');\n",
       "if (outputEl) {{\n",
       "    x.observe(outputEl, {childList: true});\n",
       "}}\n",
       "\n",
       "                        })                };                });            </script>        </div>"
      ]
     },
     "metadata": {},
     "output_type": "display_data"
    }
   ],
   "source": [
    "# Assuming ged_results is a DataFrame and compute_ged is a function that returns a DataFrame\n",
    "ged_results = compute_ged(df)\n",
    "\n",
    "# Add a new column for the performance metric by mapping the checkpoint_2 values using the perf_metric_dict\n",
    "ged_results['perf_metric'] = ged_results['checkpoint_2'].map(perf_metric_dict)\n",
    "\n",
    "# Interpolate missing values\n",
    "ged_results['perf_metric'] = ged_results['perf_metric'].interpolate(method='linear')\n",
    "\n",
    "# Plotting as before\n",
    "fig = px.line(ged_results, x='checkpoint_2', y=['additions', 'deletions', 'total_ged'], title='GED Over Time (minimum faithful graph)', log_x=True)\n",
    "\n",
    "# Specify colors for each line and update trace colors\n",
    "colors = {'additions': 'lightgreen', 'deletions': 'lightsalmon', 'total_ged': 'lightblue', 'perf_metric': 'black'}\n",
    "for i, trace in enumerate(fig.data):\n",
    "    fig.data[i].update(line=dict(color=colors[trace.name]))\n",
    "\n",
    "# Convert to a go.Figure to add secondary Y-axis features and add the performance metric line\n",
    "fig.update_layout(\n",
    "    yaxis2=dict(title=\"Probability Difference\", overlaying=\"y\", side=\"right\", showgrid=False)\n",
    ")\n",
    "fig.add_trace(\n",
    "    go.Scatter(x=ged_results['checkpoint_2'], y=ged_results['perf_metric'], name='perf_metric', mode='lines', yaxis='y2', line=dict(color=colors['perf_metric']))\n",
    ")\n",
    "\n",
    "# Optional: Update the layout for titles or other aesthetics\n",
    "fig.update_layout(yaxis_title=\"GED Metrics\")\n",
    "fig.show()"
   ]
  },
  {
   "cell_type": "code",
   "execution_count": 34,
   "metadata": {},
   "outputs": [
    {
     "data": {
      "application/vnd.plotly.v1+json": {
       "config": {
        "plotlyServerURL": "https://plot.ly"
       },
       "data": [
        {
         "hovertemplate": "variable=weighted_additions<br>checkpoint_2=%{x}<br>value=%{y}<extra></extra>",
         "legendgroup": "weighted_additions",
         "line": {
          "color": "lightgreen",
          "dash": "solid"
         },
         "marker": {
          "symbol": "circle"
         },
         "mode": "lines",
         "name": "weighted_additions",
         "orientation": "v",
         "showlegend": true,
         "type": "scatter",
         "x": [
          2000,
          3000,
          4000,
          5000,
          6000,
          7000,
          8000,
          9000,
          10000,
          11000,
          12000,
          13000,
          14000,
          15000,
          16000,
          17000,
          18000,
          19000,
          20000,
          21000,
          22000,
          23000,
          24000,
          25000,
          26000,
          27000,
          28000,
          29000,
          30000,
          31000,
          32000,
          33000,
          34000,
          35000,
          36000,
          37000,
          38000,
          39000,
          40000,
          41000,
          42000,
          43000,
          44000,
          45000,
          46000,
          47000,
          48000,
          49000,
          50000,
          51000,
          52000,
          53000,
          54000,
          55000,
          56000,
          57000,
          58000,
          59000,
          60000,
          61000,
          62000,
          63000,
          64000,
          65000,
          66000,
          67000,
          68000,
          69000,
          70000,
          71000,
          72000,
          73000,
          74000,
          75000,
          76000,
          77000,
          78000,
          79000,
          80000,
          81000,
          82000,
          83000,
          84000,
          85000,
          86000,
          87000,
          88000,
          89000,
          90000,
          91000,
          92000,
          93000,
          94000,
          95000,
          96000,
          97000,
          98000,
          99000,
          100000,
          101000,
          102000,
          103000,
          104000,
          105000,
          106000,
          107000,
          108000,
          109000,
          110000,
          111000,
          112000,
          113000,
          114000,
          115000,
          116000,
          117000,
          118000,
          119000,
          120000,
          121000,
          122000,
          123000,
          124000,
          125000,
          126000,
          127000,
          128000,
          129000,
          130000,
          131000,
          132000,
          133000,
          134000,
          135000,
          136000,
          137000,
          138000,
          139000,
          140000,
          141000,
          142000,
          143000
         ],
         "xaxis": "x",
         "y": [
          0,
          0.04811668395996094,
          0.22339630126953125,
          0.019466400146484375,
          0.027164459228515625,
          0.042682647705078125,
          0.04914093017578125,
          0.02758026123046875,
          -0.1842041015625,
          0.14364242553710938,
          0.0301971435546875,
          0.01788330078125,
          0.03997802734375,
          0.014385223388671875,
          -0.268096923828125,
          0.004150390625,
          0.021404266357421875,
          0.01651763916015625,
          0.0276031494140625,
          -0.253387451171875,
          -0.00040435791015625,
          0.0228424072265625,
          0.021270751953125,
          0.00125885009765625,
          -0.31592559814453125,
          0.0050506591796875,
          0.04587554931640625,
          -0.0027313232421875,
          0.0595855712890625,
          -0.3135986328125,
          0.0123138427734375,
          0.02249908447265625,
          0.029773712158203125,
          0,
          -0.3087272644042969,
          -0.00689697265625,
          0.01955413818359375,
          0.001522064208984375,
          0,
          -0.23291778564453125,
          0.000743865966796875,
          0.042278289794921875,
          -0.0030975341796875,
          0.0225677490234375,
          -0.24047470092773438,
          0,
          0.014984130859375,
          0.075775146484375,
          0,
          -0.2009124755859375,
          0.00732421875,
          0.05730438232421875,
          0.016157150268554688,
          0.0048065185546875,
          -0.3349494934082031,
          0.012340545654296875,
          0,
          0.07305908203125,
          0.0014495849609375,
          -0.31768035888671875,
          -0.00316619873046875,
          0.0192413330078125,
          0.0122833251953125,
          0.089599609375,
          -0.2778472900390625,
          0.003570556640625,
          0.05446624755859375,
          0.007965087890625,
          0,
          -0.3548431396484375,
          0.04632568359375,
          0,
          0.02215576171875,
          0.01515960693359375,
          0.04227447509765625,
          0.0013580322265625,
          0,
          0.004425048828125,
          0.17841339111328125,
          -0.29494476318359375,
          0,
          0.0128173828125,
          0.0195159912109375,
          -0.0184326171875,
          0.0170135498046875,
          0,
          0.0389404296875,
          -0.000274658203125,
          0.2211761474609375,
          -0.42343902587890625,
          0.0047149658203125,
          0.03302001953125,
          -0.007415771484375,
          0.021728515625,
          -0.01910400390625,
          -0.014373779296875,
          -0.0240478515625,
          0.03818511962890625,
          0.0316009521484375,
          -0.4346885681152344,
          0.006664276123046875,
          0.0288543701171875,
          0,
          0.039478302001953125,
          0.021390914916992188,
          0.0116119384765625,
          0.026947021484375,
          -0.0099945068359375,
          0.120880126953125,
          -0.248138427734375,
          0.07012557983398438,
          -0.00949859619140625,
          0.0079345703125,
          0,
          0.0316619873046875,
          0,
          0.14020538330078125,
          0.03597259521484375,
          0.0022430419921875,
          -0.314483642578125,
          0.045196533203125,
          0,
          0.10131072998046875,
          0.016147613525390625,
          0.0060577392578125,
          0,
          0.080108642578125,
          0.092132568359375,
          0,
          -0.2896385192871094,
          -0.00650787353515625,
          0,
          0.254669189453125,
          0.0779876708984375,
          0.00922393798828125,
          -0.010648727416992188,
          -0.00124359130859375,
          0.04512214660644531,
          0,
          -0.2752685546875,
          0.017864227294921875,
          -0.00691986083984375
         ],
         "yaxis": "y"
        },
        {
         "hovertemplate": "variable=weighted_deletions<br>checkpoint_2=%{x}<br>value=%{y}<extra></extra>",
         "legendgroup": "weighted_deletions",
         "line": {
          "color": "lightsalmon",
          "dash": "solid"
         },
         "marker": {
          "symbol": "circle"
         },
         "mode": "lines",
         "name": "weighted_deletions",
         "orientation": "v",
         "showlegend": true,
         "type": "scatter",
         "x": [
          2000,
          3000,
          4000,
          5000,
          6000,
          7000,
          8000,
          9000,
          10000,
          11000,
          12000,
          13000,
          14000,
          15000,
          16000,
          17000,
          18000,
          19000,
          20000,
          21000,
          22000,
          23000,
          24000,
          25000,
          26000,
          27000,
          28000,
          29000,
          30000,
          31000,
          32000,
          33000,
          34000,
          35000,
          36000,
          37000,
          38000,
          39000,
          40000,
          41000,
          42000,
          43000,
          44000,
          45000,
          46000,
          47000,
          48000,
          49000,
          50000,
          51000,
          52000,
          53000,
          54000,
          55000,
          56000,
          57000,
          58000,
          59000,
          60000,
          61000,
          62000,
          63000,
          64000,
          65000,
          66000,
          67000,
          68000,
          69000,
          70000,
          71000,
          72000,
          73000,
          74000,
          75000,
          76000,
          77000,
          78000,
          79000,
          80000,
          81000,
          82000,
          83000,
          84000,
          85000,
          86000,
          87000,
          88000,
          89000,
          90000,
          91000,
          92000,
          93000,
          94000,
          95000,
          96000,
          97000,
          98000,
          99000,
          100000,
          101000,
          102000,
          103000,
          104000,
          105000,
          106000,
          107000,
          108000,
          109000,
          110000,
          111000,
          112000,
          113000,
          114000,
          115000,
          116000,
          117000,
          118000,
          119000,
          120000,
          121000,
          122000,
          123000,
          124000,
          125000,
          126000,
          127000,
          128000,
          129000,
          130000,
          131000,
          132000,
          133000,
          134000,
          135000,
          136000,
          137000,
          138000,
          139000,
          140000,
          141000,
          142000,
          143000
         ],
         "xaxis": "x",
         "y": [
          0,
          0,
          0,
          0.015411376953125,
          0.0058803558349609375,
          0.03337669372558594,
          0.033123016357421875,
          0.022655487060546875,
          0.11060714721679688,
          -0.1578369140625,
          0.010280609130859375,
          0.0583953857421875,
          0.01969146728515625,
          0.017108917236328125,
          0.04071044921875,
          0.007781982421875,
          0.01155853271484375,
          0.018566131591796875,
          -0.24825286865234375,
          0.00785064697265625,
          0.039363861083984375,
          0.00923919677734375,
          -0.0026702880859375,
          -0.2920341491699219,
          0.01052093505859375,
          0.030635833740234375,
          -0.00493621826171875,
          0.03759765625,
          -0.3057708740234375,
          0.0740203857421875,
          -0.0006103515625,
          0.0117034912109375,
          -0.0071868896484375,
          -0.309722900390625,
          0.0044708251953125,
          0.042633056640625,
          -0.00689697265625,
          0.0050048828125,
          -0.2439117431640625,
          0.019256591796875,
          0.034637451171875,
          -0.00205230712890625,
          0.0208892822265625,
          -0.23682403564453125,
          0.003387451171875,
          0.06926345825195312,
          0.00360107421875,
          0,
          -0.2908477783203125,
          0.14066314697265625,
          0.006683349609375,
          0,
          -0.0012054443359375,
          -0.2981433868408203,
          0,
          0.0018310546875,
          0.06802749633789062,
          0,
          -0.3575439453125,
          0.004730224609375,
          0.01973724365234375,
          0.0088348388671875,
          0.038814544677734375,
          -0.27471923828125,
          0.0972137451171875,
          0.0191497802734375,
          0.0035858154296875,
          -0.0042877197265625,
          -0.34629058837890625,
          0.0757904052734375,
          0,
          0.04531097412109375,
          0,
          0.0341796875,
          -0.0086669921875,
          0.00661468505859375,
          0.08100128173828125,
          0.001739501953125,
          -0.21075439453125,
          0.0071868896484375,
          0.08179473876953125,
          0.019195556640625,
          -0.006256103515625,
          -0.0032501220703125,
          0,
          0.03235626220703125,
          0.0431060791015625,
          0.019683837890625,
          -0.275543212890625,
          0.0504608154296875,
          0.03460693359375,
          -0.00827789306640625,
          0.0513153076171875,
          -0.055328369140625,
          -0.01165771484375,
          -0.0154876708984375,
          -0.0077972412109375,
          -0.00860595703125,
          -0.3603973388671875,
          0.00464630126953125,
          0.017932891845703125,
          0.035221099853515625,
          0.024078369140625,
          -0.00982666015625,
          0.011402130126953125,
          0.04951286315917969,
          0.0024871826171875,
          0.068389892578125,
          -0.26116943359375,
          0.1579437255859375,
          -0.003387451171875,
          -0.00576019287109375,
          0.0592803955078125,
          0.0104827880859375,
          0,
          0.0670013427734375,
          0,
          0.00034332275390625,
          -0.35358428955078125,
          0.01599884033203125,
          0.011199951171875,
          0.08625411987304688,
          0.0028228759765625,
          0.008129119873046875,
          0.0075473785400390625,
          0.10453033447265625,
          0.01068115234375,
          0,
          -0.22786712646484375,
          0.0126190185546875,
          0.040493011474609375,
          0.410552978515625,
          0,
          -0.0037078857421875,
          0.02585601806640625,
          -0.001983642578125,
          -0.0055751800537109375,
          0.009735107421875,
          -0.2335681915283203,
          0.02056121826171875,
          0.00795745849609375,
          0.020481109619140625
         ],
         "yaxis": "y"
        },
        {
         "hovertemplate": "variable=total_weighted_ged<br>checkpoint_2=%{x}<br>value=%{y}<extra></extra>",
         "legendgroup": "total_weighted_ged",
         "line": {
          "color": "lightblue",
          "dash": "solid"
         },
         "marker": {
          "symbol": "circle"
         },
         "mode": "lines",
         "name": "total_weighted_ged",
         "orientation": "v",
         "showlegend": true,
         "type": "scatter",
         "x": [
          2000,
          3000,
          4000,
          5000,
          6000,
          7000,
          8000,
          9000,
          10000,
          11000,
          12000,
          13000,
          14000,
          15000,
          16000,
          17000,
          18000,
          19000,
          20000,
          21000,
          22000,
          23000,
          24000,
          25000,
          26000,
          27000,
          28000,
          29000,
          30000,
          31000,
          32000,
          33000,
          34000,
          35000,
          36000,
          37000,
          38000,
          39000,
          40000,
          41000,
          42000,
          43000,
          44000,
          45000,
          46000,
          47000,
          48000,
          49000,
          50000,
          51000,
          52000,
          53000,
          54000,
          55000,
          56000,
          57000,
          58000,
          59000,
          60000,
          61000,
          62000,
          63000,
          64000,
          65000,
          66000,
          67000,
          68000,
          69000,
          70000,
          71000,
          72000,
          73000,
          74000,
          75000,
          76000,
          77000,
          78000,
          79000,
          80000,
          81000,
          82000,
          83000,
          84000,
          85000,
          86000,
          87000,
          88000,
          89000,
          90000,
          91000,
          92000,
          93000,
          94000,
          95000,
          96000,
          97000,
          98000,
          99000,
          100000,
          101000,
          102000,
          103000,
          104000,
          105000,
          106000,
          107000,
          108000,
          109000,
          110000,
          111000,
          112000,
          113000,
          114000,
          115000,
          116000,
          117000,
          118000,
          119000,
          120000,
          121000,
          122000,
          123000,
          124000,
          125000,
          126000,
          127000,
          128000,
          129000,
          130000,
          131000,
          132000,
          133000,
          134000,
          135000,
          136000,
          137000,
          138000,
          139000,
          140000,
          141000,
          142000,
          143000
         ],
         "xaxis": "x",
         "y": [
          0,
          0.04811668395996094,
          0.22339630126953125,
          0.034877777099609375,
          0.03304481506347656,
          0.07605934143066406,
          0.08226394653320312,
          0.050235748291015625,
          -0.07359695434570312,
          -0.014194488525390625,
          0.040477752685546875,
          0.0762786865234375,
          0.05966949462890625,
          0.031494140625,
          -0.227386474609375,
          0.011932373046875,
          0.032962799072265625,
          0.035083770751953125,
          -0.22064971923828125,
          -0.24553680419921875,
          0.038959503173828125,
          0.03208160400390625,
          0.0186004638671875,
          -0.2907752990722656,
          -0.3054046630859375,
          0.035686492919921875,
          0.0409393310546875,
          0.0348663330078125,
          -0.246185302734375,
          -0.2395782470703125,
          0.0117034912109375,
          0.03420257568359375,
          0.022586822509765625,
          -0.309722900390625,
          -0.3042564392089844,
          0.035736083984375,
          0.01265716552734375,
          0.006526947021484375,
          -0.2439117431640625,
          -0.21366119384765625,
          0.035381317138671875,
          0.040225982666015625,
          0.017791748046875,
          -0.21425628662109375,
          -0.23708724975585938,
          0.06926345825195312,
          0.018585205078125,
          0.075775146484375,
          -0.2908477783203125,
          -0.06024932861328125,
          0.014007568359375,
          0.05730438232421875,
          0.014951705932617188,
          -0.2933368682861328,
          -0.3349494934082031,
          0.014171600341796875,
          0.06802749633789062,
          0.07305908203125,
          -0.3560943603515625,
          -0.31295013427734375,
          0.016571044921875,
          0.028076171875,
          0.051097869873046875,
          -0.18511962890625,
          -0.180633544921875,
          0.0227203369140625,
          0.05805206298828125,
          0.0036773681640625,
          -0.34629058837890625,
          -0.279052734375,
          0.04632568359375,
          0.04531097412109375,
          0.02215576171875,
          0.04933929443359375,
          0.03360748291015625,
          0.00797271728515625,
          0.08100128173828125,
          0.00616455078125,
          -0.03234100341796875,
          -0.28775787353515625,
          0.08179473876953125,
          0.032012939453125,
          0.0132598876953125,
          -0.0216827392578125,
          0.0170135498046875,
          0.03235626220703125,
          0.0820465087890625,
          0.0194091796875,
          -0.0543670654296875,
          -0.37297821044921875,
          0.0393218994140625,
          0.02474212646484375,
          0.0438995361328125,
          -0.033599853515625,
          -0.03076171875,
          -0.0298614501953125,
          -0.0318450927734375,
          0.02957916259765625,
          -0.32879638671875,
          -0.4300422668457031,
          0.02459716796875,
          0.06407546997070312,
          0.024078369140625,
          0.029651641845703125,
          0.03279304504394531,
          0.06112480163574219,
          0.0294342041015625,
          0.0583953857421875,
          -0.140289306640625,
          -0.0901947021484375,
          0.06673812866210938,
          -0.0152587890625,
          0.0672149658203125,
          0.0104827880859375,
          0.0316619873046875,
          0.0670013427734375,
          0.14020538330078125,
          0.03631591796875,
          -0.35134124755859375,
          -0.29848480224609375,
          0.056396484375,
          0.08625411987304688,
          0.10413360595703125,
          0.0242767333984375,
          0.013605117797851562,
          0.10453033447265625,
          0.090789794921875,
          0.092132568359375,
          -0.22786712646484375,
          -0.2770195007324219,
          0.033985137939453125,
          0.410552978515625,
          0.254669189453125,
          0.07427978515625,
          0.0350799560546875,
          -0.012632369995117188,
          -0.0068187713623046875,
          0.05485725402832031,
          -0.2335681915283203,
          -0.25470733642578125,
          0.025821685791015625,
          0.013561248779296875
         ],
         "yaxis": "y"
        },
        {
         "line": {
          "color": "black"
         },
         "mode": "lines",
         "name": "perf_metric",
         "type": "scatter",
         "x": [
          2000,
          3000,
          4000,
          5000,
          6000,
          7000,
          8000,
          9000,
          10000,
          11000,
          12000,
          13000,
          14000,
          15000,
          16000,
          17000,
          18000,
          19000,
          20000,
          21000,
          22000,
          23000,
          24000,
          25000,
          26000,
          27000,
          28000,
          29000,
          30000,
          31000,
          32000,
          33000,
          34000,
          35000,
          36000,
          37000,
          38000,
          39000,
          40000,
          41000,
          42000,
          43000,
          44000,
          45000,
          46000,
          47000,
          48000,
          49000,
          50000,
          51000,
          52000,
          53000,
          54000,
          55000,
          56000,
          57000,
          58000,
          59000,
          60000,
          61000,
          62000,
          63000,
          64000,
          65000,
          66000,
          67000,
          68000,
          69000,
          70000,
          71000,
          72000,
          73000,
          74000,
          75000,
          76000,
          77000,
          78000,
          79000,
          80000,
          81000,
          82000,
          83000,
          84000,
          85000,
          86000,
          87000,
          88000,
          89000,
          90000,
          91000,
          92000,
          93000,
          94000,
          95000,
          96000,
          97000,
          98000,
          99000,
          100000,
          101000,
          102000,
          103000,
          104000,
          105000,
          106000,
          107000,
          108000,
          109000,
          110000,
          111000,
          112000,
          113000,
          114000,
          115000,
          116000,
          117000,
          118000,
          119000,
          120000,
          121000,
          122000,
          123000,
          124000,
          125000,
          126000,
          127000,
          128000,
          129000,
          130000,
          131000,
          132000,
          133000,
          134000,
          135000,
          136000,
          137000,
          138000,
          139000,
          140000,
          141000,
          142000,
          143000
         ],
         "y": [
          -0.6974469423294067,
          0.04771915078163147,
          0.4078015089035034,
          1.1932440996170044,
          1.8560377359390259,
          1.8433938026428223,
          2.3628196716308594,
          1.9960979223251343,
          2.4225189685821533,
          2.5261731147766113,
          2.422247886657715,
          2.1560490131378174,
          2.315804958343506,
          2.756420850753784,
          2.7993170738220217,
          2.8422132968902587,
          2.885109519958496,
          2.928005743026733,
          2.9709019660949707,
          2.9951998710632326,
          3.019497776031494,
          3.043795680999756,
          3.0680935859680174,
          3.0923914909362793,
          3.144391345977783,
          3.196391201019287,
          3.248391056060791,
          3.300390911102295,
          3.352390766143799,
          3.345085048675537,
          3.337779331207275,
          3.330473613739014,
          3.323167896270752,
          3.3158621788024902,
          3.3601420402526854,
          3.404421901702881,
          3.448701763153076,
          3.4929816246032717,
          3.537261486053467,
          3.4823867321014403,
          3.427511978149414,
          3.372637224197388,
          3.3177624702453614,
          3.262887716293335,
          3.4026073455810546,
          3.5423269748687742,
          3.6820466041564943,
          3.821766233444214,
          3.9614858627319336,
          3.9742358207702635,
          3.986985778808594,
          3.9997357368469237,
          4.012485694885254,
          4.025235652923584,
          3.9805383682250977,
          3.9358410835266113,
          3.891143798828125,
          3.8464465141296387,
          3.8017492294311523,
          3.8956336975097656,
          3.989518165588379,
          4.083402633666992,
          4.1772871017456055,
          4.271171569824219,
          4.309825992584228,
          4.3484804153442385,
          4.387134838104248,
          4.425789260864258,
          4.464443683624268,
          4.423270845413208,
          4.382098007202148,
          4.340925168991089,
          4.299752330780029,
          4.25857949256897,
          4.2174066543579105,
          4.17623381614685,
          4.135060977935791,
          4.093888139724731,
          4.052715301513672,
          4.009969091415405,
          3.967222881317139,
          3.924476671218872,
          3.8817304611206054,
          3.838984251022339,
          3.7962380409240724,
          3.753491830825806,
          3.710745620727539,
          3.6679994106292724,
          3.625253200531006,
          3.6081200361251833,
          3.5909868717193603,
          3.5738537073135377,
          3.5567205429077147,
          3.539587378501892,
          3.5224542140960695,
          3.5053210496902465,
          3.488187885284424,
          3.471054720878601,
          3.4539215564727783,
          3.505764389038086,
          3.5576072216033934,
          3.6094500541687013,
          3.661292886734009,
          3.7131357192993164,
          3.764978551864624,
          3.8168213844299315,
          3.8686642169952394,
          3.920507049560547,
          3.9723498821258545,
          3.9614800691604612,
          3.9506102561950684,
          3.939740443229675,
          3.9288706302642824,
          3.918000817298889,
          3.907131004333496,
          3.896261191368103,
          3.88539137840271,
          3.874521565437317,
          3.863651752471924,
          3.831834864616394,
          3.800017976760864,
          3.7682010889053346,
          3.7363842010498045,
          3.704567313194275,
          3.6727504253387453,
          3.6409335374832152,
          3.6091166496276856,
          3.5772997617721556,
          3.545482873916626,
          3.6055633783340455,
          3.665643882751465,
          3.725724387168884,
          3.7858048915863036,
          3.845885396003723,
          3.9059659004211427,
          3.966046404838562,
          4.026126909255981,
          4.086207413673401,
          4.14628791809082,
          4.14628791809082,
          4.14628791809082,
          4.14628791809082
         ],
         "yaxis": "y2"
        }
       ],
       "layout": {
        "legend": {
         "title": {
          "text": "variable"
         },
         "tracegroupgap": 0
        },
        "template": {
         "data": {
          "bar": [
           {
            "error_x": {
             "color": "#2a3f5f"
            },
            "error_y": {
             "color": "#2a3f5f"
            },
            "marker": {
             "line": {
              "color": "#E5ECF6",
              "width": 0.5
             },
             "pattern": {
              "fillmode": "overlay",
              "size": 10,
              "solidity": 0.2
             }
            },
            "type": "bar"
           }
          ],
          "barpolar": [
           {
            "marker": {
             "line": {
              "color": "#E5ECF6",
              "width": 0.5
             },
             "pattern": {
              "fillmode": "overlay",
              "size": 10,
              "solidity": 0.2
             }
            },
            "type": "barpolar"
           }
          ],
          "carpet": [
           {
            "aaxis": {
             "endlinecolor": "#2a3f5f",
             "gridcolor": "white",
             "linecolor": "white",
             "minorgridcolor": "white",
             "startlinecolor": "#2a3f5f"
            },
            "baxis": {
             "endlinecolor": "#2a3f5f",
             "gridcolor": "white",
             "linecolor": "white",
             "minorgridcolor": "white",
             "startlinecolor": "#2a3f5f"
            },
            "type": "carpet"
           }
          ],
          "choropleth": [
           {
            "colorbar": {
             "outlinewidth": 0,
             "ticks": ""
            },
            "type": "choropleth"
           }
          ],
          "contour": [
           {
            "colorbar": {
             "outlinewidth": 0,
             "ticks": ""
            },
            "colorscale": [
             [
              0,
              "#0d0887"
             ],
             [
              0.1111111111111111,
              "#46039f"
             ],
             [
              0.2222222222222222,
              "#7201a8"
             ],
             [
              0.3333333333333333,
              "#9c179e"
             ],
             [
              0.4444444444444444,
              "#bd3786"
             ],
             [
              0.5555555555555556,
              "#d8576b"
             ],
             [
              0.6666666666666666,
              "#ed7953"
             ],
             [
              0.7777777777777778,
              "#fb9f3a"
             ],
             [
              0.8888888888888888,
              "#fdca26"
             ],
             [
              1,
              "#f0f921"
             ]
            ],
            "type": "contour"
           }
          ],
          "contourcarpet": [
           {
            "colorbar": {
             "outlinewidth": 0,
             "ticks": ""
            },
            "type": "contourcarpet"
           }
          ],
          "heatmap": [
           {
            "colorbar": {
             "outlinewidth": 0,
             "ticks": ""
            },
            "colorscale": [
             [
              0,
              "#0d0887"
             ],
             [
              0.1111111111111111,
              "#46039f"
             ],
             [
              0.2222222222222222,
              "#7201a8"
             ],
             [
              0.3333333333333333,
              "#9c179e"
             ],
             [
              0.4444444444444444,
              "#bd3786"
             ],
             [
              0.5555555555555556,
              "#d8576b"
             ],
             [
              0.6666666666666666,
              "#ed7953"
             ],
             [
              0.7777777777777778,
              "#fb9f3a"
             ],
             [
              0.8888888888888888,
              "#fdca26"
             ],
             [
              1,
              "#f0f921"
             ]
            ],
            "type": "heatmap"
           }
          ],
          "heatmapgl": [
           {
            "colorbar": {
             "outlinewidth": 0,
             "ticks": ""
            },
            "colorscale": [
             [
              0,
              "#0d0887"
             ],
             [
              0.1111111111111111,
              "#46039f"
             ],
             [
              0.2222222222222222,
              "#7201a8"
             ],
             [
              0.3333333333333333,
              "#9c179e"
             ],
             [
              0.4444444444444444,
              "#bd3786"
             ],
             [
              0.5555555555555556,
              "#d8576b"
             ],
             [
              0.6666666666666666,
              "#ed7953"
             ],
             [
              0.7777777777777778,
              "#fb9f3a"
             ],
             [
              0.8888888888888888,
              "#fdca26"
             ],
             [
              1,
              "#f0f921"
             ]
            ],
            "type": "heatmapgl"
           }
          ],
          "histogram": [
           {
            "marker": {
             "pattern": {
              "fillmode": "overlay",
              "size": 10,
              "solidity": 0.2
             }
            },
            "type": "histogram"
           }
          ],
          "histogram2d": [
           {
            "colorbar": {
             "outlinewidth": 0,
             "ticks": ""
            },
            "colorscale": [
             [
              0,
              "#0d0887"
             ],
             [
              0.1111111111111111,
              "#46039f"
             ],
             [
              0.2222222222222222,
              "#7201a8"
             ],
             [
              0.3333333333333333,
              "#9c179e"
             ],
             [
              0.4444444444444444,
              "#bd3786"
             ],
             [
              0.5555555555555556,
              "#d8576b"
             ],
             [
              0.6666666666666666,
              "#ed7953"
             ],
             [
              0.7777777777777778,
              "#fb9f3a"
             ],
             [
              0.8888888888888888,
              "#fdca26"
             ],
             [
              1,
              "#f0f921"
             ]
            ],
            "type": "histogram2d"
           }
          ],
          "histogram2dcontour": [
           {
            "colorbar": {
             "outlinewidth": 0,
             "ticks": ""
            },
            "colorscale": [
             [
              0,
              "#0d0887"
             ],
             [
              0.1111111111111111,
              "#46039f"
             ],
             [
              0.2222222222222222,
              "#7201a8"
             ],
             [
              0.3333333333333333,
              "#9c179e"
             ],
             [
              0.4444444444444444,
              "#bd3786"
             ],
             [
              0.5555555555555556,
              "#d8576b"
             ],
             [
              0.6666666666666666,
              "#ed7953"
             ],
             [
              0.7777777777777778,
              "#fb9f3a"
             ],
             [
              0.8888888888888888,
              "#fdca26"
             ],
             [
              1,
              "#f0f921"
             ]
            ],
            "type": "histogram2dcontour"
           }
          ],
          "mesh3d": [
           {
            "colorbar": {
             "outlinewidth": 0,
             "ticks": ""
            },
            "type": "mesh3d"
           }
          ],
          "parcoords": [
           {
            "line": {
             "colorbar": {
              "outlinewidth": 0,
              "ticks": ""
             }
            },
            "type": "parcoords"
           }
          ],
          "pie": [
           {
            "automargin": true,
            "type": "pie"
           }
          ],
          "scatter": [
           {
            "fillpattern": {
             "fillmode": "overlay",
             "size": 10,
             "solidity": 0.2
            },
            "type": "scatter"
           }
          ],
          "scatter3d": [
           {
            "line": {
             "colorbar": {
              "outlinewidth": 0,
              "ticks": ""
             }
            },
            "marker": {
             "colorbar": {
              "outlinewidth": 0,
              "ticks": ""
             }
            },
            "type": "scatter3d"
           }
          ],
          "scattercarpet": [
           {
            "marker": {
             "colorbar": {
              "outlinewidth": 0,
              "ticks": ""
             }
            },
            "type": "scattercarpet"
           }
          ],
          "scattergeo": [
           {
            "marker": {
             "colorbar": {
              "outlinewidth": 0,
              "ticks": ""
             }
            },
            "type": "scattergeo"
           }
          ],
          "scattergl": [
           {
            "marker": {
             "colorbar": {
              "outlinewidth": 0,
              "ticks": ""
             }
            },
            "type": "scattergl"
           }
          ],
          "scattermapbox": [
           {
            "marker": {
             "colorbar": {
              "outlinewidth": 0,
              "ticks": ""
             }
            },
            "type": "scattermapbox"
           }
          ],
          "scatterpolar": [
           {
            "marker": {
             "colorbar": {
              "outlinewidth": 0,
              "ticks": ""
             }
            },
            "type": "scatterpolar"
           }
          ],
          "scatterpolargl": [
           {
            "marker": {
             "colorbar": {
              "outlinewidth": 0,
              "ticks": ""
             }
            },
            "type": "scatterpolargl"
           }
          ],
          "scatterternary": [
           {
            "marker": {
             "colorbar": {
              "outlinewidth": 0,
              "ticks": ""
             }
            },
            "type": "scatterternary"
           }
          ],
          "surface": [
           {
            "colorbar": {
             "outlinewidth": 0,
             "ticks": ""
            },
            "colorscale": [
             [
              0,
              "#0d0887"
             ],
             [
              0.1111111111111111,
              "#46039f"
             ],
             [
              0.2222222222222222,
              "#7201a8"
             ],
             [
              0.3333333333333333,
              "#9c179e"
             ],
             [
              0.4444444444444444,
              "#bd3786"
             ],
             [
              0.5555555555555556,
              "#d8576b"
             ],
             [
              0.6666666666666666,
              "#ed7953"
             ],
             [
              0.7777777777777778,
              "#fb9f3a"
             ],
             [
              0.8888888888888888,
              "#fdca26"
             ],
             [
              1,
              "#f0f921"
             ]
            ],
            "type": "surface"
           }
          ],
          "table": [
           {
            "cells": {
             "fill": {
              "color": "#EBF0F8"
             },
             "line": {
              "color": "white"
             }
            },
            "header": {
             "fill": {
              "color": "#C8D4E3"
             },
             "line": {
              "color": "white"
             }
            },
            "type": "table"
           }
          ]
         },
         "layout": {
          "annotationdefaults": {
           "arrowcolor": "#2a3f5f",
           "arrowhead": 0,
           "arrowwidth": 1
          },
          "autotypenumbers": "strict",
          "coloraxis": {
           "colorbar": {
            "outlinewidth": 0,
            "ticks": ""
           }
          },
          "colorscale": {
           "diverging": [
            [
             0,
             "#8e0152"
            ],
            [
             0.1,
             "#c51b7d"
            ],
            [
             0.2,
             "#de77ae"
            ],
            [
             0.3,
             "#f1b6da"
            ],
            [
             0.4,
             "#fde0ef"
            ],
            [
             0.5,
             "#f7f7f7"
            ],
            [
             0.6,
             "#e6f5d0"
            ],
            [
             0.7,
             "#b8e186"
            ],
            [
             0.8,
             "#7fbc41"
            ],
            [
             0.9,
             "#4d9221"
            ],
            [
             1,
             "#276419"
            ]
           ],
           "sequential": [
            [
             0,
             "#0d0887"
            ],
            [
             0.1111111111111111,
             "#46039f"
            ],
            [
             0.2222222222222222,
             "#7201a8"
            ],
            [
             0.3333333333333333,
             "#9c179e"
            ],
            [
             0.4444444444444444,
             "#bd3786"
            ],
            [
             0.5555555555555556,
             "#d8576b"
            ],
            [
             0.6666666666666666,
             "#ed7953"
            ],
            [
             0.7777777777777778,
             "#fb9f3a"
            ],
            [
             0.8888888888888888,
             "#fdca26"
            ],
            [
             1,
             "#f0f921"
            ]
           ],
           "sequentialminus": [
            [
             0,
             "#0d0887"
            ],
            [
             0.1111111111111111,
             "#46039f"
            ],
            [
             0.2222222222222222,
             "#7201a8"
            ],
            [
             0.3333333333333333,
             "#9c179e"
            ],
            [
             0.4444444444444444,
             "#bd3786"
            ],
            [
             0.5555555555555556,
             "#d8576b"
            ],
            [
             0.6666666666666666,
             "#ed7953"
            ],
            [
             0.7777777777777778,
             "#fb9f3a"
            ],
            [
             0.8888888888888888,
             "#fdca26"
            ],
            [
             1,
             "#f0f921"
            ]
           ]
          },
          "colorway": [
           "#636efa",
           "#EF553B",
           "#00cc96",
           "#ab63fa",
           "#FFA15A",
           "#19d3f3",
           "#FF6692",
           "#B6E880",
           "#FF97FF",
           "#FECB52"
          ],
          "font": {
           "color": "#2a3f5f"
          },
          "geo": {
           "bgcolor": "white",
           "lakecolor": "white",
           "landcolor": "#E5ECF6",
           "showlakes": true,
           "showland": true,
           "subunitcolor": "white"
          },
          "hoverlabel": {
           "align": "left"
          },
          "hovermode": "closest",
          "mapbox": {
           "style": "light"
          },
          "paper_bgcolor": "white",
          "plot_bgcolor": "#E5ECF6",
          "polar": {
           "angularaxis": {
            "gridcolor": "white",
            "linecolor": "white",
            "ticks": ""
           },
           "bgcolor": "#E5ECF6",
           "radialaxis": {
            "gridcolor": "white",
            "linecolor": "white",
            "ticks": ""
           }
          },
          "scene": {
           "xaxis": {
            "backgroundcolor": "#E5ECF6",
            "gridcolor": "white",
            "gridwidth": 2,
            "linecolor": "white",
            "showbackground": true,
            "ticks": "",
            "zerolinecolor": "white"
           },
           "yaxis": {
            "backgroundcolor": "#E5ECF6",
            "gridcolor": "white",
            "gridwidth": 2,
            "linecolor": "white",
            "showbackground": true,
            "ticks": "",
            "zerolinecolor": "white"
           },
           "zaxis": {
            "backgroundcolor": "#E5ECF6",
            "gridcolor": "white",
            "gridwidth": 2,
            "linecolor": "white",
            "showbackground": true,
            "ticks": "",
            "zerolinecolor": "white"
           }
          },
          "shapedefaults": {
           "line": {
            "color": "#2a3f5f"
           }
          },
          "ternary": {
           "aaxis": {
            "gridcolor": "white",
            "linecolor": "white",
            "ticks": ""
           },
           "baxis": {
            "gridcolor": "white",
            "linecolor": "white",
            "ticks": ""
           },
           "bgcolor": "#E5ECF6",
           "caxis": {
            "gridcolor": "white",
            "linecolor": "white",
            "ticks": ""
           }
          },
          "title": {
           "x": 0.05
          },
          "xaxis": {
           "automargin": true,
           "gridcolor": "white",
           "linecolor": "white",
           "ticks": "",
           "title": {
            "standoff": 15
           },
           "zerolinecolor": "white",
           "zerolinewidth": 2
          },
          "yaxis": {
           "automargin": true,
           "gridcolor": "white",
           "linecolor": "white",
           "ticks": "",
           "title": {
            "standoff": 15
           },
           "zerolinecolor": "white",
           "zerolinewidth": 2
          }
         }
        },
        "title": {
         "text": "Weighted GED Over Time (top 100 edges)"
        },
        "xaxis": {
         "anchor": "y",
         "domain": [
          0,
          1
         ],
         "title": {
          "text": "checkpoint_2"
         },
         "type": "log"
        },
        "yaxis": {
         "anchor": "x",
         "domain": [
          0,
          1
         ],
         "title": {
          "text": "Weighted GED Metrics"
         }
        },
        "yaxis2": {
         "overlaying": "y",
         "showgrid": false,
         "side": "right",
         "title": {
          "text": "Probability Difference"
         }
        }
       }
      },
      "text/html": [
       "<div>                            <div id=\"88059405-990f-455d-9ead-f555832e513f\" class=\"plotly-graph-div\" style=\"height:525px; width:100%;\"></div>            <script type=\"text/javascript\">                require([\"plotly\"], function(Plotly) {                    window.PLOTLYENV=window.PLOTLYENV || {};                                    if (document.getElementById(\"88059405-990f-455d-9ead-f555832e513f\")) {                    Plotly.newPlot(                        \"88059405-990f-455d-9ead-f555832e513f\",                        [{\"hovertemplate\":\"variable=weighted_additions\\u003cbr\\u003echeckpoint_2=%{x}\\u003cbr\\u003evalue=%{y}\\u003cextra\\u003e\\u003c\\u002fextra\\u003e\",\"legendgroup\":\"weighted_additions\",\"line\":{\"color\":\"lightgreen\",\"dash\":\"solid\"},\"marker\":{\"symbol\":\"circle\"},\"mode\":\"lines\",\"name\":\"weighted_additions\",\"orientation\":\"v\",\"showlegend\":true,\"x\":[2000,3000,4000,5000,6000,7000,8000,9000,10000,11000,12000,13000,14000,15000,16000,17000,18000,19000,20000,21000,22000,23000,24000,25000,26000,27000,28000,29000,30000,31000,32000,33000,34000,35000,36000,37000,38000,39000,40000,41000,42000,43000,44000,45000,46000,47000,48000,49000,50000,51000,52000,53000,54000,55000,56000,57000,58000,59000,60000,61000,62000,63000,64000,65000,66000,67000,68000,69000,70000,71000,72000,73000,74000,75000,76000,77000,78000,79000,80000,81000,82000,83000,84000,85000,86000,87000,88000,89000,90000,91000,92000,93000,94000,95000,96000,97000,98000,99000,100000,101000,102000,103000,104000,105000,106000,107000,108000,109000,110000,111000,112000,113000,114000,115000,116000,117000,118000,119000,120000,121000,122000,123000,124000,125000,126000,127000,128000,129000,130000,131000,132000,133000,134000,135000,136000,137000,138000,139000,140000,141000,142000,143000],\"xaxis\":\"x\",\"y\":[0.0,0.04811668395996094,0.22339630126953125,0.019466400146484375,0.027164459228515625,0.042682647705078125,0.04914093017578125,0.02758026123046875,-0.1842041015625,0.14364242553710938,0.0301971435546875,0.01788330078125,0.03997802734375,0.014385223388671875,-0.268096923828125,0.004150390625,0.021404266357421875,0.01651763916015625,0.0276031494140625,-0.253387451171875,-0.00040435791015625,0.0228424072265625,0.021270751953125,0.00125885009765625,-0.31592559814453125,0.0050506591796875,0.04587554931640625,-0.0027313232421875,0.0595855712890625,-0.3135986328125,0.0123138427734375,0.02249908447265625,0.029773712158203125,0.0,-0.3087272644042969,-0.00689697265625,0.01955413818359375,0.001522064208984375,0.0,-0.23291778564453125,0.000743865966796875,0.042278289794921875,-0.0030975341796875,0.0225677490234375,-0.24047470092773438,0.0,0.014984130859375,0.075775146484375,0.0,-0.2009124755859375,0.00732421875,0.05730438232421875,0.016157150268554688,0.0048065185546875,-0.3349494934082031,0.012340545654296875,0.0,0.07305908203125,0.0014495849609375,-0.31768035888671875,-0.00316619873046875,0.0192413330078125,0.0122833251953125,0.089599609375,-0.2778472900390625,0.003570556640625,0.05446624755859375,0.007965087890625,0.0,-0.3548431396484375,0.04632568359375,0.0,0.02215576171875,0.01515960693359375,0.04227447509765625,0.0013580322265625,0.0,0.004425048828125,0.17841339111328125,-0.29494476318359375,0.0,0.0128173828125,0.0195159912109375,-0.0184326171875,0.0170135498046875,0.0,0.0389404296875,-0.000274658203125,0.2211761474609375,-0.42343902587890625,0.0047149658203125,0.03302001953125,-0.007415771484375,0.021728515625,-0.01910400390625,-0.014373779296875,-0.0240478515625,0.03818511962890625,0.0316009521484375,-0.4346885681152344,0.006664276123046875,0.0288543701171875,0.0,0.039478302001953125,0.021390914916992188,0.0116119384765625,0.026947021484375,-0.0099945068359375,0.120880126953125,-0.248138427734375,0.07012557983398438,-0.00949859619140625,0.0079345703125,0.0,0.0316619873046875,0.0,0.14020538330078125,0.03597259521484375,0.0022430419921875,-0.314483642578125,0.045196533203125,0.0,0.10131072998046875,0.016147613525390625,0.0060577392578125,0.0,0.080108642578125,0.092132568359375,0.0,-0.2896385192871094,-0.00650787353515625,0.0,0.254669189453125,0.0779876708984375,0.00922393798828125,-0.010648727416992188,-0.00124359130859375,0.04512214660644531,0.0,-0.2752685546875,0.017864227294921875,-0.00691986083984375],\"yaxis\":\"y\",\"type\":\"scatter\"},{\"hovertemplate\":\"variable=weighted_deletions\\u003cbr\\u003echeckpoint_2=%{x}\\u003cbr\\u003evalue=%{y}\\u003cextra\\u003e\\u003c\\u002fextra\\u003e\",\"legendgroup\":\"weighted_deletions\",\"line\":{\"color\":\"lightsalmon\",\"dash\":\"solid\"},\"marker\":{\"symbol\":\"circle\"},\"mode\":\"lines\",\"name\":\"weighted_deletions\",\"orientation\":\"v\",\"showlegend\":true,\"x\":[2000,3000,4000,5000,6000,7000,8000,9000,10000,11000,12000,13000,14000,15000,16000,17000,18000,19000,20000,21000,22000,23000,24000,25000,26000,27000,28000,29000,30000,31000,32000,33000,34000,35000,36000,37000,38000,39000,40000,41000,42000,43000,44000,45000,46000,47000,48000,49000,50000,51000,52000,53000,54000,55000,56000,57000,58000,59000,60000,61000,62000,63000,64000,65000,66000,67000,68000,69000,70000,71000,72000,73000,74000,75000,76000,77000,78000,79000,80000,81000,82000,83000,84000,85000,86000,87000,88000,89000,90000,91000,92000,93000,94000,95000,96000,97000,98000,99000,100000,101000,102000,103000,104000,105000,106000,107000,108000,109000,110000,111000,112000,113000,114000,115000,116000,117000,118000,119000,120000,121000,122000,123000,124000,125000,126000,127000,128000,129000,130000,131000,132000,133000,134000,135000,136000,137000,138000,139000,140000,141000,142000,143000],\"xaxis\":\"x\",\"y\":[0.0,0.0,0.0,0.015411376953125,0.0058803558349609375,0.03337669372558594,0.033123016357421875,0.022655487060546875,0.11060714721679688,-0.1578369140625,0.010280609130859375,0.0583953857421875,0.01969146728515625,0.017108917236328125,0.04071044921875,0.007781982421875,0.01155853271484375,0.018566131591796875,-0.24825286865234375,0.00785064697265625,0.039363861083984375,0.00923919677734375,-0.0026702880859375,-0.2920341491699219,0.01052093505859375,0.030635833740234375,-0.00493621826171875,0.03759765625,-0.3057708740234375,0.0740203857421875,-0.0006103515625,0.0117034912109375,-0.0071868896484375,-0.309722900390625,0.0044708251953125,0.042633056640625,-0.00689697265625,0.0050048828125,-0.2439117431640625,0.019256591796875,0.034637451171875,-0.00205230712890625,0.0208892822265625,-0.23682403564453125,0.003387451171875,0.06926345825195312,0.00360107421875,0.0,-0.2908477783203125,0.14066314697265625,0.006683349609375,0.0,-0.0012054443359375,-0.2981433868408203,0.0,0.0018310546875,0.06802749633789062,0.0,-0.3575439453125,0.004730224609375,0.01973724365234375,0.0088348388671875,0.038814544677734375,-0.27471923828125,0.0972137451171875,0.0191497802734375,0.0035858154296875,-0.0042877197265625,-0.34629058837890625,0.0757904052734375,0.0,0.04531097412109375,0.0,0.0341796875,-0.0086669921875,0.00661468505859375,0.08100128173828125,0.001739501953125,-0.21075439453125,0.0071868896484375,0.08179473876953125,0.019195556640625,-0.006256103515625,-0.0032501220703125,0.0,0.03235626220703125,0.0431060791015625,0.019683837890625,-0.275543212890625,0.0504608154296875,0.03460693359375,-0.00827789306640625,0.0513153076171875,-0.055328369140625,-0.01165771484375,-0.0154876708984375,-0.0077972412109375,-0.00860595703125,-0.3603973388671875,0.00464630126953125,0.017932891845703125,0.035221099853515625,0.024078369140625,-0.00982666015625,0.011402130126953125,0.04951286315917969,0.0024871826171875,0.068389892578125,-0.26116943359375,0.1579437255859375,-0.003387451171875,-0.00576019287109375,0.0592803955078125,0.0104827880859375,0.0,0.0670013427734375,0.0,0.00034332275390625,-0.35358428955078125,0.01599884033203125,0.011199951171875,0.08625411987304688,0.0028228759765625,0.008129119873046875,0.0075473785400390625,0.10453033447265625,0.01068115234375,0.0,-0.22786712646484375,0.0126190185546875,0.040493011474609375,0.410552978515625,0.0,-0.0037078857421875,0.02585601806640625,-0.001983642578125,-0.0055751800537109375,0.009735107421875,-0.2335681915283203,0.02056121826171875,0.00795745849609375,0.020481109619140625],\"yaxis\":\"y\",\"type\":\"scatter\"},{\"hovertemplate\":\"variable=total_weighted_ged\\u003cbr\\u003echeckpoint_2=%{x}\\u003cbr\\u003evalue=%{y}\\u003cextra\\u003e\\u003c\\u002fextra\\u003e\",\"legendgroup\":\"total_weighted_ged\",\"line\":{\"color\":\"lightblue\",\"dash\":\"solid\"},\"marker\":{\"symbol\":\"circle\"},\"mode\":\"lines\",\"name\":\"total_weighted_ged\",\"orientation\":\"v\",\"showlegend\":true,\"x\":[2000,3000,4000,5000,6000,7000,8000,9000,10000,11000,12000,13000,14000,15000,16000,17000,18000,19000,20000,21000,22000,23000,24000,25000,26000,27000,28000,29000,30000,31000,32000,33000,34000,35000,36000,37000,38000,39000,40000,41000,42000,43000,44000,45000,46000,47000,48000,49000,50000,51000,52000,53000,54000,55000,56000,57000,58000,59000,60000,61000,62000,63000,64000,65000,66000,67000,68000,69000,70000,71000,72000,73000,74000,75000,76000,77000,78000,79000,80000,81000,82000,83000,84000,85000,86000,87000,88000,89000,90000,91000,92000,93000,94000,95000,96000,97000,98000,99000,100000,101000,102000,103000,104000,105000,106000,107000,108000,109000,110000,111000,112000,113000,114000,115000,116000,117000,118000,119000,120000,121000,122000,123000,124000,125000,126000,127000,128000,129000,130000,131000,132000,133000,134000,135000,136000,137000,138000,139000,140000,141000,142000,143000],\"xaxis\":\"x\",\"y\":[0.0,0.04811668395996094,0.22339630126953125,0.034877777099609375,0.03304481506347656,0.07605934143066406,0.08226394653320312,0.050235748291015625,-0.07359695434570312,-0.014194488525390625,0.040477752685546875,0.0762786865234375,0.05966949462890625,0.031494140625,-0.227386474609375,0.011932373046875,0.032962799072265625,0.035083770751953125,-0.22064971923828125,-0.24553680419921875,0.038959503173828125,0.03208160400390625,0.0186004638671875,-0.2907752990722656,-0.3054046630859375,0.035686492919921875,0.0409393310546875,0.0348663330078125,-0.246185302734375,-0.2395782470703125,0.0117034912109375,0.03420257568359375,0.022586822509765625,-0.309722900390625,-0.3042564392089844,0.035736083984375,0.01265716552734375,0.006526947021484375,-0.2439117431640625,-0.21366119384765625,0.035381317138671875,0.040225982666015625,0.017791748046875,-0.21425628662109375,-0.23708724975585938,0.06926345825195312,0.018585205078125,0.075775146484375,-0.2908477783203125,-0.06024932861328125,0.014007568359375,0.05730438232421875,0.014951705932617188,-0.2933368682861328,-0.3349494934082031,0.014171600341796875,0.06802749633789062,0.07305908203125,-0.3560943603515625,-0.31295013427734375,0.016571044921875,0.028076171875,0.051097869873046875,-0.18511962890625,-0.180633544921875,0.0227203369140625,0.05805206298828125,0.0036773681640625,-0.34629058837890625,-0.279052734375,0.04632568359375,0.04531097412109375,0.02215576171875,0.04933929443359375,0.03360748291015625,0.00797271728515625,0.08100128173828125,0.00616455078125,-0.03234100341796875,-0.28775787353515625,0.08179473876953125,0.032012939453125,0.0132598876953125,-0.0216827392578125,0.0170135498046875,0.03235626220703125,0.0820465087890625,0.0194091796875,-0.0543670654296875,-0.37297821044921875,0.0393218994140625,0.02474212646484375,0.0438995361328125,-0.033599853515625,-0.03076171875,-0.0298614501953125,-0.0318450927734375,0.02957916259765625,-0.32879638671875,-0.4300422668457031,0.02459716796875,0.06407546997070312,0.024078369140625,0.029651641845703125,0.03279304504394531,0.06112480163574219,0.0294342041015625,0.0583953857421875,-0.140289306640625,-0.0901947021484375,0.06673812866210938,-0.0152587890625,0.0672149658203125,0.0104827880859375,0.0316619873046875,0.0670013427734375,0.14020538330078125,0.03631591796875,-0.35134124755859375,-0.29848480224609375,0.056396484375,0.08625411987304688,0.10413360595703125,0.0242767333984375,0.013605117797851562,0.10453033447265625,0.090789794921875,0.092132568359375,-0.22786712646484375,-0.2770195007324219,0.033985137939453125,0.410552978515625,0.254669189453125,0.07427978515625,0.0350799560546875,-0.012632369995117188,-0.0068187713623046875,0.05485725402832031,-0.2335681915283203,-0.25470733642578125,0.025821685791015625,0.013561248779296875],\"yaxis\":\"y\",\"type\":\"scatter\"},{\"line\":{\"color\":\"black\"},\"mode\":\"lines\",\"name\":\"perf_metric\",\"x\":[2000,3000,4000,5000,6000,7000,8000,9000,10000,11000,12000,13000,14000,15000,16000,17000,18000,19000,20000,21000,22000,23000,24000,25000,26000,27000,28000,29000,30000,31000,32000,33000,34000,35000,36000,37000,38000,39000,40000,41000,42000,43000,44000,45000,46000,47000,48000,49000,50000,51000,52000,53000,54000,55000,56000,57000,58000,59000,60000,61000,62000,63000,64000,65000,66000,67000,68000,69000,70000,71000,72000,73000,74000,75000,76000,77000,78000,79000,80000,81000,82000,83000,84000,85000,86000,87000,88000,89000,90000,91000,92000,93000,94000,95000,96000,97000,98000,99000,100000,101000,102000,103000,104000,105000,106000,107000,108000,109000,110000,111000,112000,113000,114000,115000,116000,117000,118000,119000,120000,121000,122000,123000,124000,125000,126000,127000,128000,129000,130000,131000,132000,133000,134000,135000,136000,137000,138000,139000,140000,141000,142000,143000],\"y\":[-0.6974469423294067,0.04771915078163147,0.4078015089035034,1.1932440996170044,1.8560377359390259,1.8433938026428223,2.3628196716308594,1.9960979223251343,2.4225189685821533,2.5261731147766113,2.422247886657715,2.1560490131378174,2.315804958343506,2.756420850753784,2.7993170738220217,2.8422132968902587,2.885109519958496,2.928005743026733,2.9709019660949707,2.9951998710632326,3.019497776031494,3.043795680999756,3.0680935859680174,3.0923914909362793,3.144391345977783,3.196391201019287,3.248391056060791,3.300390911102295,3.352390766143799,3.345085048675537,3.337779331207275,3.330473613739014,3.323167896270752,3.3158621788024902,3.3601420402526854,3.404421901702881,3.448701763153076,3.4929816246032717,3.537261486053467,3.4823867321014403,3.427511978149414,3.372637224197388,3.3177624702453614,3.262887716293335,3.4026073455810546,3.5423269748687742,3.6820466041564943,3.821766233444214,3.9614858627319336,3.9742358207702635,3.986985778808594,3.9997357368469237,4.012485694885254,4.025235652923584,3.9805383682250977,3.9358410835266113,3.891143798828125,3.8464465141296387,3.8017492294311523,3.8956336975097656,3.989518165588379,4.083402633666992,4.1772871017456055,4.271171569824219,4.309825992584228,4.3484804153442385,4.387134838104248,4.425789260864258,4.464443683624268,4.423270845413208,4.382098007202148,4.340925168991089,4.299752330780029,4.25857949256897,4.2174066543579105,4.17623381614685,4.135060977935791,4.093888139724731,4.052715301513672,4.009969091415405,3.967222881317139,3.924476671218872,3.8817304611206054,3.838984251022339,3.7962380409240724,3.753491830825806,3.710745620727539,3.6679994106292724,3.625253200531006,3.6081200361251833,3.5909868717193603,3.5738537073135377,3.5567205429077147,3.539587378501892,3.5224542140960695,3.5053210496902465,3.488187885284424,3.471054720878601,3.4539215564727783,3.505764389038086,3.5576072216033934,3.6094500541687013,3.661292886734009,3.7131357192993164,3.764978551864624,3.8168213844299315,3.8686642169952394,3.920507049560547,3.9723498821258545,3.9614800691604612,3.9506102561950684,3.939740443229675,3.9288706302642824,3.918000817298889,3.907131004333496,3.896261191368103,3.88539137840271,3.874521565437317,3.863651752471924,3.831834864616394,3.800017976760864,3.7682010889053346,3.7363842010498045,3.704567313194275,3.6727504253387453,3.6409335374832152,3.6091166496276856,3.5772997617721556,3.545482873916626,3.6055633783340455,3.665643882751465,3.725724387168884,3.7858048915863036,3.845885396003723,3.9059659004211427,3.966046404838562,4.026126909255981,4.086207413673401,4.14628791809082,4.14628791809082,4.14628791809082,4.14628791809082],\"yaxis\":\"y2\",\"type\":\"scatter\"}],                        {\"template\":{\"data\":{\"histogram2dcontour\":[{\"type\":\"histogram2dcontour\",\"colorbar\":{\"outlinewidth\":0,\"ticks\":\"\"},\"colorscale\":[[0.0,\"#0d0887\"],[0.1111111111111111,\"#46039f\"],[0.2222222222222222,\"#7201a8\"],[0.3333333333333333,\"#9c179e\"],[0.4444444444444444,\"#bd3786\"],[0.5555555555555556,\"#d8576b\"],[0.6666666666666666,\"#ed7953\"],[0.7777777777777778,\"#fb9f3a\"],[0.8888888888888888,\"#fdca26\"],[1.0,\"#f0f921\"]]}],\"choropleth\":[{\"type\":\"choropleth\",\"colorbar\":{\"outlinewidth\":0,\"ticks\":\"\"}}],\"histogram2d\":[{\"type\":\"histogram2d\",\"colorbar\":{\"outlinewidth\":0,\"ticks\":\"\"},\"colorscale\":[[0.0,\"#0d0887\"],[0.1111111111111111,\"#46039f\"],[0.2222222222222222,\"#7201a8\"],[0.3333333333333333,\"#9c179e\"],[0.4444444444444444,\"#bd3786\"],[0.5555555555555556,\"#d8576b\"],[0.6666666666666666,\"#ed7953\"],[0.7777777777777778,\"#fb9f3a\"],[0.8888888888888888,\"#fdca26\"],[1.0,\"#f0f921\"]]}],\"heatmap\":[{\"type\":\"heatmap\",\"colorbar\":{\"outlinewidth\":0,\"ticks\":\"\"},\"colorscale\":[[0.0,\"#0d0887\"],[0.1111111111111111,\"#46039f\"],[0.2222222222222222,\"#7201a8\"],[0.3333333333333333,\"#9c179e\"],[0.4444444444444444,\"#bd3786\"],[0.5555555555555556,\"#d8576b\"],[0.6666666666666666,\"#ed7953\"],[0.7777777777777778,\"#fb9f3a\"],[0.8888888888888888,\"#fdca26\"],[1.0,\"#f0f921\"]]}],\"heatmapgl\":[{\"type\":\"heatmapgl\",\"colorbar\":{\"outlinewidth\":0,\"ticks\":\"\"},\"colorscale\":[[0.0,\"#0d0887\"],[0.1111111111111111,\"#46039f\"],[0.2222222222222222,\"#7201a8\"],[0.3333333333333333,\"#9c179e\"],[0.4444444444444444,\"#bd3786\"],[0.5555555555555556,\"#d8576b\"],[0.6666666666666666,\"#ed7953\"],[0.7777777777777778,\"#fb9f3a\"],[0.8888888888888888,\"#fdca26\"],[1.0,\"#f0f921\"]]}],\"contourcarpet\":[{\"type\":\"contourcarpet\",\"colorbar\":{\"outlinewidth\":0,\"ticks\":\"\"}}],\"contour\":[{\"type\":\"contour\",\"colorbar\":{\"outlinewidth\":0,\"ticks\":\"\"},\"colorscale\":[[0.0,\"#0d0887\"],[0.1111111111111111,\"#46039f\"],[0.2222222222222222,\"#7201a8\"],[0.3333333333333333,\"#9c179e\"],[0.4444444444444444,\"#bd3786\"],[0.5555555555555556,\"#d8576b\"],[0.6666666666666666,\"#ed7953\"],[0.7777777777777778,\"#fb9f3a\"],[0.8888888888888888,\"#fdca26\"],[1.0,\"#f0f921\"]]}],\"surface\":[{\"type\":\"surface\",\"colorbar\":{\"outlinewidth\":0,\"ticks\":\"\"},\"colorscale\":[[0.0,\"#0d0887\"],[0.1111111111111111,\"#46039f\"],[0.2222222222222222,\"#7201a8\"],[0.3333333333333333,\"#9c179e\"],[0.4444444444444444,\"#bd3786\"],[0.5555555555555556,\"#d8576b\"],[0.6666666666666666,\"#ed7953\"],[0.7777777777777778,\"#fb9f3a\"],[0.8888888888888888,\"#fdca26\"],[1.0,\"#f0f921\"]]}],\"mesh3d\":[{\"type\":\"mesh3d\",\"colorbar\":{\"outlinewidth\":0,\"ticks\":\"\"}}],\"scatter\":[{\"fillpattern\":{\"fillmode\":\"overlay\",\"size\":10,\"solidity\":0.2},\"type\":\"scatter\"}],\"parcoords\":[{\"type\":\"parcoords\",\"line\":{\"colorbar\":{\"outlinewidth\":0,\"ticks\":\"\"}}}],\"scatterpolargl\":[{\"type\":\"scatterpolargl\",\"marker\":{\"colorbar\":{\"outlinewidth\":0,\"ticks\":\"\"}}}],\"bar\":[{\"error_x\":{\"color\":\"#2a3f5f\"},\"error_y\":{\"color\":\"#2a3f5f\"},\"marker\":{\"line\":{\"color\":\"#E5ECF6\",\"width\":0.5},\"pattern\":{\"fillmode\":\"overlay\",\"size\":10,\"solidity\":0.2}},\"type\":\"bar\"}],\"scattergeo\":[{\"type\":\"scattergeo\",\"marker\":{\"colorbar\":{\"outlinewidth\":0,\"ticks\":\"\"}}}],\"scatterpolar\":[{\"type\":\"scatterpolar\",\"marker\":{\"colorbar\":{\"outlinewidth\":0,\"ticks\":\"\"}}}],\"histogram\":[{\"marker\":{\"pattern\":{\"fillmode\":\"overlay\",\"size\":10,\"solidity\":0.2}},\"type\":\"histogram\"}],\"scattergl\":[{\"type\":\"scattergl\",\"marker\":{\"colorbar\":{\"outlinewidth\":0,\"ticks\":\"\"}}}],\"scatter3d\":[{\"type\":\"scatter3d\",\"line\":{\"colorbar\":{\"outlinewidth\":0,\"ticks\":\"\"}},\"marker\":{\"colorbar\":{\"outlinewidth\":0,\"ticks\":\"\"}}}],\"scattermapbox\":[{\"type\":\"scattermapbox\",\"marker\":{\"colorbar\":{\"outlinewidth\":0,\"ticks\":\"\"}}}],\"scatterternary\":[{\"type\":\"scatterternary\",\"marker\":{\"colorbar\":{\"outlinewidth\":0,\"ticks\":\"\"}}}],\"scattercarpet\":[{\"type\":\"scattercarpet\",\"marker\":{\"colorbar\":{\"outlinewidth\":0,\"ticks\":\"\"}}}],\"carpet\":[{\"aaxis\":{\"endlinecolor\":\"#2a3f5f\",\"gridcolor\":\"white\",\"linecolor\":\"white\",\"minorgridcolor\":\"white\",\"startlinecolor\":\"#2a3f5f\"},\"baxis\":{\"endlinecolor\":\"#2a3f5f\",\"gridcolor\":\"white\",\"linecolor\":\"white\",\"minorgridcolor\":\"white\",\"startlinecolor\":\"#2a3f5f\"},\"type\":\"carpet\"}],\"table\":[{\"cells\":{\"fill\":{\"color\":\"#EBF0F8\"},\"line\":{\"color\":\"white\"}},\"header\":{\"fill\":{\"color\":\"#C8D4E3\"},\"line\":{\"color\":\"white\"}},\"type\":\"table\"}],\"barpolar\":[{\"marker\":{\"line\":{\"color\":\"#E5ECF6\",\"width\":0.5},\"pattern\":{\"fillmode\":\"overlay\",\"size\":10,\"solidity\":0.2}},\"type\":\"barpolar\"}],\"pie\":[{\"automargin\":true,\"type\":\"pie\"}]},\"layout\":{\"autotypenumbers\":\"strict\",\"colorway\":[\"#636efa\",\"#EF553B\",\"#00cc96\",\"#ab63fa\",\"#FFA15A\",\"#19d3f3\",\"#FF6692\",\"#B6E880\",\"#FF97FF\",\"#FECB52\"],\"font\":{\"color\":\"#2a3f5f\"},\"hovermode\":\"closest\",\"hoverlabel\":{\"align\":\"left\"},\"paper_bgcolor\":\"white\",\"plot_bgcolor\":\"#E5ECF6\",\"polar\":{\"bgcolor\":\"#E5ECF6\",\"angularaxis\":{\"gridcolor\":\"white\",\"linecolor\":\"white\",\"ticks\":\"\"},\"radialaxis\":{\"gridcolor\":\"white\",\"linecolor\":\"white\",\"ticks\":\"\"}},\"ternary\":{\"bgcolor\":\"#E5ECF6\",\"aaxis\":{\"gridcolor\":\"white\",\"linecolor\":\"white\",\"ticks\":\"\"},\"baxis\":{\"gridcolor\":\"white\",\"linecolor\":\"white\",\"ticks\":\"\"},\"caxis\":{\"gridcolor\":\"white\",\"linecolor\":\"white\",\"ticks\":\"\"}},\"coloraxis\":{\"colorbar\":{\"outlinewidth\":0,\"ticks\":\"\"}},\"colorscale\":{\"sequential\":[[0.0,\"#0d0887\"],[0.1111111111111111,\"#46039f\"],[0.2222222222222222,\"#7201a8\"],[0.3333333333333333,\"#9c179e\"],[0.4444444444444444,\"#bd3786\"],[0.5555555555555556,\"#d8576b\"],[0.6666666666666666,\"#ed7953\"],[0.7777777777777778,\"#fb9f3a\"],[0.8888888888888888,\"#fdca26\"],[1.0,\"#f0f921\"]],\"sequentialminus\":[[0.0,\"#0d0887\"],[0.1111111111111111,\"#46039f\"],[0.2222222222222222,\"#7201a8\"],[0.3333333333333333,\"#9c179e\"],[0.4444444444444444,\"#bd3786\"],[0.5555555555555556,\"#d8576b\"],[0.6666666666666666,\"#ed7953\"],[0.7777777777777778,\"#fb9f3a\"],[0.8888888888888888,\"#fdca26\"],[1.0,\"#f0f921\"]],\"diverging\":[[0,\"#8e0152\"],[0.1,\"#c51b7d\"],[0.2,\"#de77ae\"],[0.3,\"#f1b6da\"],[0.4,\"#fde0ef\"],[0.5,\"#f7f7f7\"],[0.6,\"#e6f5d0\"],[0.7,\"#b8e186\"],[0.8,\"#7fbc41\"],[0.9,\"#4d9221\"],[1,\"#276419\"]]},\"xaxis\":{\"gridcolor\":\"white\",\"linecolor\":\"white\",\"ticks\":\"\",\"title\":{\"standoff\":15},\"zerolinecolor\":\"white\",\"automargin\":true,\"zerolinewidth\":2},\"yaxis\":{\"gridcolor\":\"white\",\"linecolor\":\"white\",\"ticks\":\"\",\"title\":{\"standoff\":15},\"zerolinecolor\":\"white\",\"automargin\":true,\"zerolinewidth\":2},\"scene\":{\"xaxis\":{\"backgroundcolor\":\"#E5ECF6\",\"gridcolor\":\"white\",\"linecolor\":\"white\",\"showbackground\":true,\"ticks\":\"\",\"zerolinecolor\":\"white\",\"gridwidth\":2},\"yaxis\":{\"backgroundcolor\":\"#E5ECF6\",\"gridcolor\":\"white\",\"linecolor\":\"white\",\"showbackground\":true,\"ticks\":\"\",\"zerolinecolor\":\"white\",\"gridwidth\":2},\"zaxis\":{\"backgroundcolor\":\"#E5ECF6\",\"gridcolor\":\"white\",\"linecolor\":\"white\",\"showbackground\":true,\"ticks\":\"\",\"zerolinecolor\":\"white\",\"gridwidth\":2}},\"shapedefaults\":{\"line\":{\"color\":\"#2a3f5f\"}},\"annotationdefaults\":{\"arrowcolor\":\"#2a3f5f\",\"arrowhead\":0,\"arrowwidth\":1},\"geo\":{\"bgcolor\":\"white\",\"landcolor\":\"#E5ECF6\",\"subunitcolor\":\"white\",\"showland\":true,\"showlakes\":true,\"lakecolor\":\"white\"},\"title\":{\"x\":0.05},\"mapbox\":{\"style\":\"light\"}}},\"xaxis\":{\"anchor\":\"y\",\"domain\":[0.0,1.0],\"title\":{\"text\":\"checkpoint_2\"},\"type\":\"log\"},\"yaxis\":{\"anchor\":\"x\",\"domain\":[0.0,1.0],\"title\":{\"text\":\"Weighted GED Metrics\"}},\"legend\":{\"title\":{\"text\":\"variable\"},\"tracegroupgap\":0},\"title\":{\"text\":\"Weighted GED Over Time (top 100 edges)\"},\"yaxis2\":{\"title\":{\"text\":\"Probability Difference\"},\"overlaying\":\"y\",\"side\":\"right\",\"showgrid\":false}},                        {\"responsive\": true}                    ).then(function(){\n",
       "                            \n",
       "var gd = document.getElementById('88059405-990f-455d-9ead-f555832e513f');\n",
       "var x = new MutationObserver(function (mutations, observer) {{\n",
       "        var display = window.getComputedStyle(gd).display;\n",
       "        if (!display || display === 'none') {{\n",
       "            console.log([gd, 'removed!']);\n",
       "            Plotly.purge(gd);\n",
       "            observer.disconnect();\n",
       "        }}\n",
       "}});\n",
       "\n",
       "// Listen for the removal of the full notebook cells\n",
       "var notebookContainer = gd.closest('#notebook-container');\n",
       "if (notebookContainer) {{\n",
       "    x.observe(notebookContainer, {childList: true});\n",
       "}}\n",
       "\n",
       "// Listen for the clearing of the current output cell\n",
       "var outputEl = gd.closest('.output');\n",
       "if (outputEl) {{\n",
       "    x.observe(outputEl, {childList: true});\n",
       "}}\n",
       "\n",
       "                        })                };                });            </script>        </div>"
      ]
     },
     "metadata": {},
     "output_type": "display_data"
    }
   ],
   "source": [
    "weighted_ged_results = compute_weighted_ged(df)\n",
    "# Add a new column for the performance metric by mapping the checkpoint_2 values using the perf_metric_dict\n",
    "weighted_ged_results['perf_metric'] = weighted_ged_results['checkpoint_2'].map(perf_metric_dict)\n",
    "\n",
    "# Interpolate missing values\n",
    "weighted_ged_results['perf_metric'] = weighted_ged_results['perf_metric'].interpolate(method='linear')\n",
    "\n",
    "# plot weighted additions, deletions, and total weighted GED over time\n",
    "fig = px.line(weighted_ged_results, x='checkpoint_2', y=['weighted_additions', 'weighted_deletions', 'total_weighted_ged'], title='Weighted GED Over Time (top 100 edges)', log_x=True)\n",
    "\n",
    "# Specify colors for each line\n",
    "colors = {'weighted_additions': 'lightgreen', 'weighted_deletions': 'lightsalmon', 'total_weighted_ged': 'lightblue', 'perf_metric': 'black'}\n",
    "\n",
    "# Update each trace with the specified color\n",
    "for i, trace in enumerate(fig.data):\n",
    "    fig.data[i].update(line=dict(color=colors[trace.name]))\n",
    "\n",
    "\n",
    "# Convert to a go.Figure to add secondary Y-axis features and add the performance metric line\n",
    "fig.update_layout(\n",
    "    yaxis2=dict(title=\"Probability Difference\", overlaying=\"y\", side=\"right\", showgrid=False)\n",
    ")\n",
    "fig.add_trace(\n",
    "    go.Scatter(x=weighted_ged_results['checkpoint_2'], y=weighted_ged_results['perf_metric'], name='perf_metric', mode='lines', yaxis='y2', line=dict(color=colors['perf_metric']))\n",
    ")\n",
    "\n",
    "# Optional: Update the layout if you need to adjust titles or other aesthetics\n",
    "fig.update_layout(\n",
    "    yaxis_title=\"Weighted GED Metrics\"\n",
    ")\n",
    "\n",
    "fig.show()"
   ]
  },
  {
   "cell_type": "code",
   "execution_count": 35,
   "metadata": {},
   "outputs": [
    {
     "data": {
      "application/vnd.plotly.v1+json": {
       "config": {
        "plotlyServerURL": "https://plot.ly"
       },
       "data": [
        {
         "hovertemplate": "variable=summed_increases<br>checkpoint_2=%{x}<br>value=%{y}<extra></extra>",
         "legendgroup": "summed_increases",
         "line": {
          "color": "lightgreen",
          "dash": "solid"
         },
         "marker": {
          "symbol": "circle"
         },
         "mode": "lines",
         "name": "summed_increases",
         "orientation": "v",
         "showlegend": true,
         "type": "scatter",
         "x": [
          2000,
          3000,
          4000,
          5000,
          6000,
          7000,
          8000,
          9000,
          10000,
          11000,
          12000,
          13000,
          14000,
          15000,
          16000,
          17000,
          18000,
          19000,
          20000,
          21000,
          22000,
          23000,
          24000,
          25000,
          26000,
          27000,
          28000,
          29000,
          30000,
          31000,
          32000,
          33000,
          34000,
          35000,
          36000,
          37000,
          38000,
          39000,
          40000,
          41000,
          42000,
          43000,
          44000,
          45000,
          46000,
          47000,
          48000,
          49000,
          50000,
          51000,
          52000,
          53000,
          54000,
          55000,
          56000,
          57000,
          58000,
          59000,
          60000,
          61000,
          62000,
          63000,
          64000,
          65000,
          66000,
          67000,
          68000,
          69000,
          70000,
          71000,
          72000,
          73000,
          74000,
          75000,
          76000,
          77000,
          78000,
          79000,
          80000,
          81000,
          82000,
          83000,
          84000,
          85000,
          86000,
          87000,
          88000,
          89000,
          90000,
          91000,
          92000,
          93000,
          94000,
          95000,
          96000,
          97000,
          98000,
          99000,
          100000,
          101000,
          102000,
          103000,
          104000,
          105000,
          106000,
          107000,
          108000,
          109000,
          110000,
          111000,
          112000,
          113000,
          114000,
          115000,
          116000,
          117000,
          118000,
          119000,
          120000,
          121000,
          122000,
          123000,
          124000,
          125000,
          126000,
          127000,
          128000,
          129000,
          130000,
          131000,
          132000,
          133000,
          134000,
          135000,
          136000,
          137000,
          138000,
          139000,
          140000,
          141000,
          142000,
          143000
         ],
         "xaxis": "x",
         "y": [
          0.4148948253357503,
          0.3727612014067745,
          0.44070153187726646,
          0.45325944610112856,
          0.41804126663919305,
          0.2568297813213576,
          0.3397280664266873,
          0.26814826445433937,
          0.3973427948421886,
          0.26021482170381205,
          0.2406174344041574,
          0.22204929754661862,
          0.2667202196907965,
          0.30224744099132295,
          0.2902457643149319,
          0.24575638637315933,
          0.24404252620286115,
          0.28070660652565493,
          0.23341739335467082,
          0.23313765439604595,
          0.3534083305245872,
          0.22135512356993559,
          0.2267074330699188,
          0.27875382208651445,
          0.2692675257501378,
          0.2265388772411825,
          0.29347121783547436,
          0.2514127827426478,
          0.4110307946712055,
          0.28360591398995894,
          0.32774039941978117,
          0.28902359909898223,
          0.3590422976760692,
          0.2924355204868334,
          0.26267290355372097,
          0.3238602331820175,
          0.3013953607694475,
          0.24344488270673992,
          0.34181511338249493,
          0.3003786143448792,
          0.2773381698493722,
          0.37688089532503,
          0.2941768076407243,
          0.32074920645015936,
          0.2849901359043088,
          0.4235783482674833,
          0.26134352715877185,
          0.2912040354749479,
          0.3100979482421735,
          0.27676200788403094,
          0.5709315085371145,
          0.32545039787191854,
          0.39934221056358865,
          0.34167931960791975,
          0.3217590246487134,
          0.33904904255877,
          0.2873647277119744,
          0.45046858059833994,
          0.37364087769458365,
          0.27160501765001754,
          0.30323368477013446,
          0.3834456279504366,
          0.3951949681519693,
          0.25868563258279664,
          0.32353573993975715,
          0.25080855089369436,
          0.4224604751457264,
          0.3219350764877049,
          0.36192966754315137,
          0.4036084287333779,
          0.3090548526541852,
          0.3120565242575992,
          0.319487946574311,
          0.27383052067570546,
          0.376003483536806,
          0.3462797681889924,
          0.2829762639339606,
          0.4195534964300549,
          0.4137750982415156,
          0.3016996615467633,
          0.306364540403365,
          0.3555331374922588,
          0.3289747259877025,
          0.4048028620530104,
          0.42723856335828714,
          0.4078320552622188,
          0.49201969805582735,
          0.41019913953269804,
          0.4771705451507468,
          0.4023444064721575,
          0.3356607785303001,
          0.39842874397271144,
          0.25768193900664493,
          0.5637260104131103,
          0.374102385347058,
          0.45610097084688395,
          0.3741367501307378,
          0.40550825609103014,
          0.41113312197623664,
          0.4873359809887242,
          0.3860117613397831,
          0.5806447099479015,
          0.5133573208252189,
          0.48531349130518575,
          0.5327577627761226,
          0.5178167091561161,
          0.5712812881667323,
          0.5311751365505342,
          0.5790677791976223,
          0.4805557733219567,
          0.5258068083937056,
          0.5158406733485934,
          0.6503056408903471,
          0.4608108142205558,
          0.5481883536247959,
          0.461373839349808,
          0.5855929673236651,
          0.6369070842403157,
          0.5812726192256015,
          0.48218797800644986,
          0.6640180960712536,
          0.5369399755685924,
          0.7880473481798027,
          0.5864916666354539,
          0.6085041562548155,
          0.5175213668108976,
          0.5140492108924393,
          0.4594516381613589,
          0.4606901435248305,
          0.5906698995987125,
          0.7497033202396901,
          0.6848080177560292,
          0.6207381942658825,
          0.735748973899556,
          0.6013037217837429,
          0.4982663664732993,
          0.7122707808072772,
          0.6274325320532794,
          0.4796489713505958,
          0.7000429794459537,
          0.5806746544383282,
          0.5630791339590815
         ],
         "yaxis": "y"
        },
        {
         "hovertemplate": "variable=summed_decreases<br>checkpoint_2=%{x}<br>value=%{y}<extra></extra>",
         "legendgroup": "summed_decreases",
         "line": {
          "color": "lightsalmon",
          "dash": "solid"
         },
         "marker": {
          "symbol": "circle"
         },
         "mode": "lines",
         "name": "summed_decreases",
         "orientation": "v",
         "showlegend": true,
         "type": "scatter",
         "x": [
          2000,
          3000,
          4000,
          5000,
          6000,
          7000,
          8000,
          9000,
          10000,
          11000,
          12000,
          13000,
          14000,
          15000,
          16000,
          17000,
          18000,
          19000,
          20000,
          21000,
          22000,
          23000,
          24000,
          25000,
          26000,
          27000,
          28000,
          29000,
          30000,
          31000,
          32000,
          33000,
          34000,
          35000,
          36000,
          37000,
          38000,
          39000,
          40000,
          41000,
          42000,
          43000,
          44000,
          45000,
          46000,
          47000,
          48000,
          49000,
          50000,
          51000,
          52000,
          53000,
          54000,
          55000,
          56000,
          57000,
          58000,
          59000,
          60000,
          61000,
          62000,
          63000,
          64000,
          65000,
          66000,
          67000,
          68000,
          69000,
          70000,
          71000,
          72000,
          73000,
          74000,
          75000,
          76000,
          77000,
          78000,
          79000,
          80000,
          81000,
          82000,
          83000,
          84000,
          85000,
          86000,
          87000,
          88000,
          89000,
          90000,
          91000,
          92000,
          93000,
          94000,
          95000,
          96000,
          97000,
          98000,
          99000,
          100000,
          101000,
          102000,
          103000,
          104000,
          105000,
          106000,
          107000,
          108000,
          109000,
          110000,
          111000,
          112000,
          113000,
          114000,
          115000,
          116000,
          117000,
          118000,
          119000,
          120000,
          121000,
          122000,
          123000,
          124000,
          125000,
          126000,
          127000,
          128000,
          129000,
          130000,
          131000,
          132000,
          133000,
          134000,
          135000,
          136000,
          137000,
          138000,
          139000,
          140000,
          141000,
          142000,
          143000
         ],
         "xaxis": "x",
         "y": [
          0.22630392873907113,
          0.18505001444532354,
          0.22955043061188007,
          0.2758762369417127,
          0.20955024252907606,
          0.2211242923408463,
          0.23983864669617105,
          0.3795205282358438,
          0.2628807434120972,
          0.22733801888398375,
          0.2904719205780566,
          0.27377434738991724,
          0.21684936910787656,
          0.21830767453388944,
          0.2740554405222042,
          0.2699433208816231,
          0.2246549797306443,
          0.24104346154433642,
          0.2525165205934172,
          0.28700054594639823,
          0.2302248702256975,
          0.2336671194284463,
          0.29083473338658905,
          0.2649014986635052,
          0.250094180959195,
          0.31975814953489134,
          0.2525343703748604,
          0.27147130182265755,
          0.2994303367231623,
          0.389051727597689,
          0.24429080108041035,
          0.2835294832092359,
          0.2631589239249479,
          0.26130833109306195,
          0.3197937022960673,
          0.3233577250871349,
          0.25824758760529676,
          0.39251385782199577,
          0.25618677928514444,
          0.3353226005240231,
          0.3439648992487605,
          0.2594253010429952,
          0.26768931933116846,
          0.2974713814298866,
          0.3246858323083188,
          0.2682749913548719,
          0.43665619933790367,
          0.26424831342478683,
          0.2580074009965756,
          0.440565679261681,
          0.32765987204101066,
          0.41738330738866125,
          0.2750275905368653,
          0.30007101992163143,
          0.41520656156382074,
          0.40906651382147174,
          0.2826511257467814,
          0.3072012703942164,
          0.3741432778971898,
          0.40682609519626567,
          0.28794871991976834,
          0.29039084180806185,
          0.3323063149784389,
          0.3366080351114249,
          0.3002783189050433,
          0.2422005838205905,
          0.3564090737063026,
          0.31543994329108216,
          0.3205478510096782,
          0.29509130254507454,
          0.5178471404912557,
          0.30538262856007314,
          0.27796725178833626,
          0.3273373299935258,
          0.3098913980132352,
          0.36430379769558385,
          0.30210919372700573,
          0.32632728449532067,
          0.37479197189425406,
          0.3585912331725467,
          0.4128853510739674,
          0.3670146358802562,
          0.3318921053016979,
          0.29274248526912316,
          0.3162366928480935,
          0.5688904789622597,
          0.38150532608273924,
          0.6996595636038556,
          0.3603025808025111,
          0.48540392616488254,
          0.44605793935675947,
          0.3243422690161153,
          0.4163272153349262,
          0.3054588783908423,
          0.4866599294776002,
          0.35986800283180287,
          0.42875033483073416,
          0.3502982359030962,
          0.41618814972446305,
          0.5516245032470037,
          0.4900047791978252,
          0.40326763447298297,
          0.6150602484670336,
          0.6061820220271279,
          0.47840008872442896,
          0.4708820335255879,
          0.475801283097923,
          0.80457664298625,
          0.4295491317631157,
          0.7004291739215858,
          0.48366025842421323,
          0.5541086463662466,
          0.5789266055376286,
          0.5591114046082518,
          0.4096182112586497,
          0.5633597942513502,
          0.4496947512972156,
          0.5545289852590798,
          0.633921115621823,
          0.4954077983729155,
          0.7170522295826258,
          0.6260756809609817,
          0.5628025841114361,
          0.7547741833999253,
          0.539292497533605,
          0.5646802449157395,
          0.4585848582528496,
          0.43906183689711314,
          0.5760801234971227,
          0.5049515084506853,
          0.5660982728304937,
          1.1149265230739638,
          0.44877154959700394,
          0.5435744622422632,
          0.637918911288796,
          0.5816777619389009,
          0.5965933019402926,
          0.5926876211946761,
          0.7293598996292857,
          0.5362752084378304,
          0.4748389065947097,
          0.6140316605964321
         ],
         "yaxis": "y"
        },
        {
         "hovertemplate": "variable=summed_absolute_change<br>checkpoint_2=%{x}<br>value=%{y}<extra></extra>",
         "legendgroup": "summed_absolute_change",
         "line": {
          "color": "lightblue",
          "dash": "solid"
         },
         "marker": {
          "symbol": "circle"
         },
         "mode": "lines",
         "name": "summed_absolute_change",
         "orientation": "v",
         "showlegend": true,
         "type": "scatter",
         "x": [
          2000,
          3000,
          4000,
          5000,
          6000,
          7000,
          8000,
          9000,
          10000,
          11000,
          12000,
          13000,
          14000,
          15000,
          16000,
          17000,
          18000,
          19000,
          20000,
          21000,
          22000,
          23000,
          24000,
          25000,
          26000,
          27000,
          28000,
          29000,
          30000,
          31000,
          32000,
          33000,
          34000,
          35000,
          36000,
          37000,
          38000,
          39000,
          40000,
          41000,
          42000,
          43000,
          44000,
          45000,
          46000,
          47000,
          48000,
          49000,
          50000,
          51000,
          52000,
          53000,
          54000,
          55000,
          56000,
          57000,
          58000,
          59000,
          60000,
          61000,
          62000,
          63000,
          64000,
          65000,
          66000,
          67000,
          68000,
          69000,
          70000,
          71000,
          72000,
          73000,
          74000,
          75000,
          76000,
          77000,
          78000,
          79000,
          80000,
          81000,
          82000,
          83000,
          84000,
          85000,
          86000,
          87000,
          88000,
          89000,
          90000,
          91000,
          92000,
          93000,
          94000,
          95000,
          96000,
          97000,
          98000,
          99000,
          100000,
          101000,
          102000,
          103000,
          104000,
          105000,
          106000,
          107000,
          108000,
          109000,
          110000,
          111000,
          112000,
          113000,
          114000,
          115000,
          116000,
          117000,
          118000,
          119000,
          120000,
          121000,
          122000,
          123000,
          124000,
          125000,
          126000,
          127000,
          128000,
          129000,
          130000,
          131000,
          132000,
          133000,
          134000,
          135000,
          136000,
          137000,
          138000,
          139000,
          140000,
          141000,
          142000,
          143000
         ],
         "xaxis": "x",
         "y": [
          0.6411987540748214,
          0.557811215852098,
          0.6702519624891465,
          0.7291356830428413,
          0.6275915091682691,
          0.4779540736622039,
          0.5795667131228583,
          0.6476687926901832,
          0.6602235382542858,
          0.4875528405877958,
          0.531089354982214,
          0.49582364493653586,
          0.48356958879867307,
          0.5205551155252124,
          0.5643012048371361,
          0.5156997072547824,
          0.46869750593350545,
          0.5217500680699914,
          0.48593391394808805,
          0.5201382003424442,
          0.5836332007502847,
          0.4550222429983819,
          0.5175421664565079,
          0.5436553207500197,
          0.5193617067093328,
          0.5462970267760738,
          0.5460055882103347,
          0.5228840845653053,
          0.7104611313943678,
          0.672657641587648,
          0.5720312005001915,
          0.5725530823082181,
          0.6222012216010171,
          0.5537438515798954,
          0.5824666058497883,
          0.6472179582691524,
          0.5596429483747443,
          0.6359587405287357,
          0.5980018926676394,
          0.6357012148689023,
          0.6213030690981327,
          0.6363061963680252,
          0.5618661269718928,
          0.618220587880046,
          0.6096759682126276,
          0.6918533396223552,
          0.6979997264966755,
          0.5554523488997347,
          0.5681053492387491,
          0.7173276871457119,
          0.8985913805781252,
          0.7428337052605798,
          0.674369801100454,
          0.6417503395295512,
          0.7369655862125342,
          0.7481155563802417,
          0.5700158534587558,
          0.7576698509925563,
          0.7477841555917735,
          0.6784311128462832,
          0.5911824046899028,
          0.6738364697584984,
          0.7275012831304082,
          0.5952936676942215,
          0.6238140588448005,
          0.49300913471428487,
          0.778869548852029,
          0.6373750197787871,
          0.6824775185528296,
          0.6986997312784524,
          0.8269019931454409,
          0.6174391528176724,
          0.5974551983626473,
          0.6011678506692313,
          0.6858948815500412,
          0.7105835658845763,
          0.5850854576609663,
          0.7458807809253756,
          0.7885670701357697,
          0.66029089471931,
          0.7192498914773324,
          0.722547773372515,
          0.6608668312894004,
          0.6975453473221336,
          0.7434752562063807,
          0.9767225342244785,
          0.8735250241385666,
          1.1098587031365537,
          0.837473125953258,
          0.8877483326370401,
          0.7817187178870595,
          0.7227710129888267,
          0.6740091543415712,
          0.8691848888039526,
          0.8607623148246581,
          0.8159689736786868,
          0.802887084961472,
          0.7558064919941263,
          0.8273212717006997,
          1.0389604842357278,
          0.8760165405376084,
          0.9839123444208845,
          1.1284175692922525,
          1.0914955133323136,
          1.0111578515005517,
          0.988698742681704,
          1.0470825712646552,
          1.3357517795367841,
          1.008616910960738,
          1.1809849472435425,
          1.0094670668179189,
          1.06994931971484,
          1.229232246427976,
          1.0199222188288077,
          0.9578065648834456,
          1.024733633601158,
          1.0352877186208806,
          1.1914360694993955,
          1.2151937348474244,
          0.9775957763793653,
          1.3810703256538794,
          1.163015656529574,
          1.3508499322912388,
          1.3412658500353793,
          1.1477966537884203,
          1.082201611726637,
          0.9726340691452888,
          0.898513475058472,
          1.0367702670219532,
          1.0956214080493978,
          1.3158015930701839,
          1.799734540829993,
          1.0695097438628864,
          1.2793234361418193,
          1.2392226330725389,
          1.0799441284122002,
          1.30886408274757,
          1.2201201532479555,
          1.2090088709798814,
          1.2363181878837841,
          1.055513561033038,
          1.1771107945555137
         ],
         "yaxis": "y"
        },
        {
         "line": {
          "color": "black"
         },
         "mode": "lines",
         "name": "perf_metric",
         "type": "scatter",
         "x": [
          2000,
          3000,
          4000,
          5000,
          6000,
          7000,
          8000,
          9000,
          10000,
          11000,
          12000,
          13000,
          14000,
          15000,
          16000,
          17000,
          18000,
          19000,
          20000,
          21000,
          22000,
          23000,
          24000,
          25000,
          26000,
          27000,
          28000,
          29000,
          30000,
          31000,
          32000,
          33000,
          34000,
          35000,
          36000,
          37000,
          38000,
          39000,
          40000,
          41000,
          42000,
          43000,
          44000,
          45000,
          46000,
          47000,
          48000,
          49000,
          50000,
          51000,
          52000,
          53000,
          54000,
          55000,
          56000,
          57000,
          58000,
          59000,
          60000,
          61000,
          62000,
          63000,
          64000,
          65000,
          66000,
          67000,
          68000,
          69000,
          70000,
          71000,
          72000,
          73000,
          74000,
          75000,
          76000,
          77000,
          78000,
          79000,
          80000,
          81000,
          82000,
          83000,
          84000,
          85000,
          86000,
          87000,
          88000,
          89000,
          90000,
          91000,
          92000,
          93000,
          94000,
          95000,
          96000,
          97000,
          98000,
          99000,
          100000,
          101000,
          102000,
          103000,
          104000,
          105000,
          106000,
          107000,
          108000,
          109000,
          110000,
          111000,
          112000,
          113000,
          114000,
          115000,
          116000,
          117000,
          118000,
          119000,
          120000,
          121000,
          122000,
          123000,
          124000,
          125000,
          126000,
          127000,
          128000,
          129000,
          130000,
          131000,
          132000,
          133000,
          134000,
          135000,
          136000,
          137000,
          138000,
          139000,
          140000,
          141000,
          142000,
          143000
         ],
         "y": [
          -0.6974469423294067,
          0.04771915078163147,
          0.4078015089035034,
          1.1932440996170044,
          1.8560377359390259,
          1.8433938026428223,
          2.3628196716308594,
          1.9960979223251343,
          2.4225189685821533,
          2.5261731147766113,
          2.422247886657715,
          2.1560490131378174,
          2.315804958343506,
          2.756420850753784,
          2.7993170738220217,
          2.8422132968902587,
          2.885109519958496,
          2.928005743026733,
          2.9709019660949707,
          2.9951998710632326,
          3.019497776031494,
          3.043795680999756,
          3.0680935859680174,
          3.0923914909362793,
          3.144391345977783,
          3.196391201019287,
          3.248391056060791,
          3.300390911102295,
          3.352390766143799,
          3.345085048675537,
          3.337779331207275,
          3.330473613739014,
          3.323167896270752,
          3.3158621788024902,
          3.3601420402526854,
          3.404421901702881,
          3.448701763153076,
          3.4929816246032717,
          3.537261486053467,
          3.4823867321014403,
          3.427511978149414,
          3.372637224197388,
          3.3177624702453614,
          3.262887716293335,
          3.4026073455810546,
          3.5423269748687742,
          3.6820466041564943,
          3.821766233444214,
          3.9614858627319336,
          3.9742358207702635,
          3.986985778808594,
          3.9997357368469237,
          4.012485694885254,
          4.025235652923584,
          3.9805383682250977,
          3.9358410835266113,
          3.891143798828125,
          3.8464465141296387,
          3.8017492294311523,
          3.8956336975097656,
          3.989518165588379,
          4.083402633666992,
          4.1772871017456055,
          4.271171569824219,
          4.309825992584228,
          4.3484804153442385,
          4.387134838104248,
          4.425789260864258,
          4.464443683624268,
          4.423270845413208,
          4.382098007202148,
          4.340925168991089,
          4.299752330780029,
          4.25857949256897,
          4.2174066543579105,
          4.17623381614685,
          4.135060977935791,
          4.093888139724731,
          4.052715301513672,
          4.009969091415405,
          3.967222881317139,
          3.924476671218872,
          3.8817304611206054,
          3.838984251022339,
          3.7962380409240724,
          3.753491830825806,
          3.710745620727539,
          3.6679994106292724,
          3.625253200531006,
          3.6081200361251833,
          3.5909868717193603,
          3.5738537073135377,
          3.5567205429077147,
          3.539587378501892,
          3.5224542140960695,
          3.5053210496902465,
          3.488187885284424,
          3.471054720878601,
          3.4539215564727783,
          3.505764389038086,
          3.5576072216033934,
          3.6094500541687013,
          3.661292886734009,
          3.7131357192993164,
          3.764978551864624,
          3.8168213844299315,
          3.8686642169952394,
          3.920507049560547,
          3.9723498821258545,
          3.9614800691604612,
          3.9506102561950684,
          3.939740443229675,
          3.9288706302642824,
          3.918000817298889,
          3.907131004333496,
          3.896261191368103,
          3.88539137840271,
          3.874521565437317,
          3.863651752471924,
          3.831834864616394,
          3.800017976760864,
          3.7682010889053346,
          3.7363842010498045,
          3.704567313194275,
          3.6727504253387453,
          3.6409335374832152,
          3.6091166496276856,
          3.5772997617721556,
          3.545482873916626,
          3.6055633783340455,
          3.665643882751465,
          3.725724387168884,
          3.7858048915863036,
          3.845885396003723,
          3.9059659004211427,
          3.966046404838562,
          4.026126909255981,
          4.086207413673401,
          4.14628791809082,
          4.14628791809082,
          4.14628791809082,
          4.14628791809082
         ],
         "yaxis": "y2"
        }
       ],
       "layout": {
        "legend": {
         "title": {
          "text": "variable"
         },
         "tracegroupgap": 0
        },
        "template": {
         "data": {
          "bar": [
           {
            "error_x": {
             "color": "#2a3f5f"
            },
            "error_y": {
             "color": "#2a3f5f"
            },
            "marker": {
             "line": {
              "color": "#E5ECF6",
              "width": 0.5
             },
             "pattern": {
              "fillmode": "overlay",
              "size": 10,
              "solidity": 0.2
             }
            },
            "type": "bar"
           }
          ],
          "barpolar": [
           {
            "marker": {
             "line": {
              "color": "#E5ECF6",
              "width": 0.5
             },
             "pattern": {
              "fillmode": "overlay",
              "size": 10,
              "solidity": 0.2
             }
            },
            "type": "barpolar"
           }
          ],
          "carpet": [
           {
            "aaxis": {
             "endlinecolor": "#2a3f5f",
             "gridcolor": "white",
             "linecolor": "white",
             "minorgridcolor": "white",
             "startlinecolor": "#2a3f5f"
            },
            "baxis": {
             "endlinecolor": "#2a3f5f",
             "gridcolor": "white",
             "linecolor": "white",
             "minorgridcolor": "white",
             "startlinecolor": "#2a3f5f"
            },
            "type": "carpet"
           }
          ],
          "choropleth": [
           {
            "colorbar": {
             "outlinewidth": 0,
             "ticks": ""
            },
            "type": "choropleth"
           }
          ],
          "contour": [
           {
            "colorbar": {
             "outlinewidth": 0,
             "ticks": ""
            },
            "colorscale": [
             [
              0,
              "#0d0887"
             ],
             [
              0.1111111111111111,
              "#46039f"
             ],
             [
              0.2222222222222222,
              "#7201a8"
             ],
             [
              0.3333333333333333,
              "#9c179e"
             ],
             [
              0.4444444444444444,
              "#bd3786"
             ],
             [
              0.5555555555555556,
              "#d8576b"
             ],
             [
              0.6666666666666666,
              "#ed7953"
             ],
             [
              0.7777777777777778,
              "#fb9f3a"
             ],
             [
              0.8888888888888888,
              "#fdca26"
             ],
             [
              1,
              "#f0f921"
             ]
            ],
            "type": "contour"
           }
          ],
          "contourcarpet": [
           {
            "colorbar": {
             "outlinewidth": 0,
             "ticks": ""
            },
            "type": "contourcarpet"
           }
          ],
          "heatmap": [
           {
            "colorbar": {
             "outlinewidth": 0,
             "ticks": ""
            },
            "colorscale": [
             [
              0,
              "#0d0887"
             ],
             [
              0.1111111111111111,
              "#46039f"
             ],
             [
              0.2222222222222222,
              "#7201a8"
             ],
             [
              0.3333333333333333,
              "#9c179e"
             ],
             [
              0.4444444444444444,
              "#bd3786"
             ],
             [
              0.5555555555555556,
              "#d8576b"
             ],
             [
              0.6666666666666666,
              "#ed7953"
             ],
             [
              0.7777777777777778,
              "#fb9f3a"
             ],
             [
              0.8888888888888888,
              "#fdca26"
             ],
             [
              1,
              "#f0f921"
             ]
            ],
            "type": "heatmap"
           }
          ],
          "heatmapgl": [
           {
            "colorbar": {
             "outlinewidth": 0,
             "ticks": ""
            },
            "colorscale": [
             [
              0,
              "#0d0887"
             ],
             [
              0.1111111111111111,
              "#46039f"
             ],
             [
              0.2222222222222222,
              "#7201a8"
             ],
             [
              0.3333333333333333,
              "#9c179e"
             ],
             [
              0.4444444444444444,
              "#bd3786"
             ],
             [
              0.5555555555555556,
              "#d8576b"
             ],
             [
              0.6666666666666666,
              "#ed7953"
             ],
             [
              0.7777777777777778,
              "#fb9f3a"
             ],
             [
              0.8888888888888888,
              "#fdca26"
             ],
             [
              1,
              "#f0f921"
             ]
            ],
            "type": "heatmapgl"
           }
          ],
          "histogram": [
           {
            "marker": {
             "pattern": {
              "fillmode": "overlay",
              "size": 10,
              "solidity": 0.2
             }
            },
            "type": "histogram"
           }
          ],
          "histogram2d": [
           {
            "colorbar": {
             "outlinewidth": 0,
             "ticks": ""
            },
            "colorscale": [
             [
              0,
              "#0d0887"
             ],
             [
              0.1111111111111111,
              "#46039f"
             ],
             [
              0.2222222222222222,
              "#7201a8"
             ],
             [
              0.3333333333333333,
              "#9c179e"
             ],
             [
              0.4444444444444444,
              "#bd3786"
             ],
             [
              0.5555555555555556,
              "#d8576b"
             ],
             [
              0.6666666666666666,
              "#ed7953"
             ],
             [
              0.7777777777777778,
              "#fb9f3a"
             ],
             [
              0.8888888888888888,
              "#fdca26"
             ],
             [
              1,
              "#f0f921"
             ]
            ],
            "type": "histogram2d"
           }
          ],
          "histogram2dcontour": [
           {
            "colorbar": {
             "outlinewidth": 0,
             "ticks": ""
            },
            "colorscale": [
             [
              0,
              "#0d0887"
             ],
             [
              0.1111111111111111,
              "#46039f"
             ],
             [
              0.2222222222222222,
              "#7201a8"
             ],
             [
              0.3333333333333333,
              "#9c179e"
             ],
             [
              0.4444444444444444,
              "#bd3786"
             ],
             [
              0.5555555555555556,
              "#d8576b"
             ],
             [
              0.6666666666666666,
              "#ed7953"
             ],
             [
              0.7777777777777778,
              "#fb9f3a"
             ],
             [
              0.8888888888888888,
              "#fdca26"
             ],
             [
              1,
              "#f0f921"
             ]
            ],
            "type": "histogram2dcontour"
           }
          ],
          "mesh3d": [
           {
            "colorbar": {
             "outlinewidth": 0,
             "ticks": ""
            },
            "type": "mesh3d"
           }
          ],
          "parcoords": [
           {
            "line": {
             "colorbar": {
              "outlinewidth": 0,
              "ticks": ""
             }
            },
            "type": "parcoords"
           }
          ],
          "pie": [
           {
            "automargin": true,
            "type": "pie"
           }
          ],
          "scatter": [
           {
            "fillpattern": {
             "fillmode": "overlay",
             "size": 10,
             "solidity": 0.2
            },
            "type": "scatter"
           }
          ],
          "scatter3d": [
           {
            "line": {
             "colorbar": {
              "outlinewidth": 0,
              "ticks": ""
             }
            },
            "marker": {
             "colorbar": {
              "outlinewidth": 0,
              "ticks": ""
             }
            },
            "type": "scatter3d"
           }
          ],
          "scattercarpet": [
           {
            "marker": {
             "colorbar": {
              "outlinewidth": 0,
              "ticks": ""
             }
            },
            "type": "scattercarpet"
           }
          ],
          "scattergeo": [
           {
            "marker": {
             "colorbar": {
              "outlinewidth": 0,
              "ticks": ""
             }
            },
            "type": "scattergeo"
           }
          ],
          "scattergl": [
           {
            "marker": {
             "colorbar": {
              "outlinewidth": 0,
              "ticks": ""
             }
            },
            "type": "scattergl"
           }
          ],
          "scattermapbox": [
           {
            "marker": {
             "colorbar": {
              "outlinewidth": 0,
              "ticks": ""
             }
            },
            "type": "scattermapbox"
           }
          ],
          "scatterpolar": [
           {
            "marker": {
             "colorbar": {
              "outlinewidth": 0,
              "ticks": ""
             }
            },
            "type": "scatterpolar"
           }
          ],
          "scatterpolargl": [
           {
            "marker": {
             "colorbar": {
              "outlinewidth": 0,
              "ticks": ""
             }
            },
            "type": "scatterpolargl"
           }
          ],
          "scatterternary": [
           {
            "marker": {
             "colorbar": {
              "outlinewidth": 0,
              "ticks": ""
             }
            },
            "type": "scatterternary"
           }
          ],
          "surface": [
           {
            "colorbar": {
             "outlinewidth": 0,
             "ticks": ""
            },
            "colorscale": [
             [
              0,
              "#0d0887"
             ],
             [
              0.1111111111111111,
              "#46039f"
             ],
             [
              0.2222222222222222,
              "#7201a8"
             ],
             [
              0.3333333333333333,
              "#9c179e"
             ],
             [
              0.4444444444444444,
              "#bd3786"
             ],
             [
              0.5555555555555556,
              "#d8576b"
             ],
             [
              0.6666666666666666,
              "#ed7953"
             ],
             [
              0.7777777777777778,
              "#fb9f3a"
             ],
             [
              0.8888888888888888,
              "#fdca26"
             ],
             [
              1,
              "#f0f921"
             ]
            ],
            "type": "surface"
           }
          ],
          "table": [
           {
            "cells": {
             "fill": {
              "color": "#EBF0F8"
             },
             "line": {
              "color": "white"
             }
            },
            "header": {
             "fill": {
              "color": "#C8D4E3"
             },
             "line": {
              "color": "white"
             }
            },
            "type": "table"
           }
          ]
         },
         "layout": {
          "annotationdefaults": {
           "arrowcolor": "#2a3f5f",
           "arrowhead": 0,
           "arrowwidth": 1
          },
          "autotypenumbers": "strict",
          "coloraxis": {
           "colorbar": {
            "outlinewidth": 0,
            "ticks": ""
           }
          },
          "colorscale": {
           "diverging": [
            [
             0,
             "#8e0152"
            ],
            [
             0.1,
             "#c51b7d"
            ],
            [
             0.2,
             "#de77ae"
            ],
            [
             0.3,
             "#f1b6da"
            ],
            [
             0.4,
             "#fde0ef"
            ],
            [
             0.5,
             "#f7f7f7"
            ],
            [
             0.6,
             "#e6f5d0"
            ],
            [
             0.7,
             "#b8e186"
            ],
            [
             0.8,
             "#7fbc41"
            ],
            [
             0.9,
             "#4d9221"
            ],
            [
             1,
             "#276419"
            ]
           ],
           "sequential": [
            [
             0,
             "#0d0887"
            ],
            [
             0.1111111111111111,
             "#46039f"
            ],
            [
             0.2222222222222222,
             "#7201a8"
            ],
            [
             0.3333333333333333,
             "#9c179e"
            ],
            [
             0.4444444444444444,
             "#bd3786"
            ],
            [
             0.5555555555555556,
             "#d8576b"
            ],
            [
             0.6666666666666666,
             "#ed7953"
            ],
            [
             0.7777777777777778,
             "#fb9f3a"
            ],
            [
             0.8888888888888888,
             "#fdca26"
            ],
            [
             1,
             "#f0f921"
            ]
           ],
           "sequentialminus": [
            [
             0,
             "#0d0887"
            ],
            [
             0.1111111111111111,
             "#46039f"
            ],
            [
             0.2222222222222222,
             "#7201a8"
            ],
            [
             0.3333333333333333,
             "#9c179e"
            ],
            [
             0.4444444444444444,
             "#bd3786"
            ],
            [
             0.5555555555555556,
             "#d8576b"
            ],
            [
             0.6666666666666666,
             "#ed7953"
            ],
            [
             0.7777777777777778,
             "#fb9f3a"
            ],
            [
             0.8888888888888888,
             "#fdca26"
            ],
            [
             1,
             "#f0f921"
            ]
           ]
          },
          "colorway": [
           "#636efa",
           "#EF553B",
           "#00cc96",
           "#ab63fa",
           "#FFA15A",
           "#19d3f3",
           "#FF6692",
           "#B6E880",
           "#FF97FF",
           "#FECB52"
          ],
          "font": {
           "color": "#2a3f5f"
          },
          "geo": {
           "bgcolor": "white",
           "lakecolor": "white",
           "landcolor": "#E5ECF6",
           "showlakes": true,
           "showland": true,
           "subunitcolor": "white"
          },
          "hoverlabel": {
           "align": "left"
          },
          "hovermode": "closest",
          "mapbox": {
           "style": "light"
          },
          "paper_bgcolor": "white",
          "plot_bgcolor": "#E5ECF6",
          "polar": {
           "angularaxis": {
            "gridcolor": "white",
            "linecolor": "white",
            "ticks": ""
           },
           "bgcolor": "#E5ECF6",
           "radialaxis": {
            "gridcolor": "white",
            "linecolor": "white",
            "ticks": ""
           }
          },
          "scene": {
           "xaxis": {
            "backgroundcolor": "#E5ECF6",
            "gridcolor": "white",
            "gridwidth": 2,
            "linecolor": "white",
            "showbackground": true,
            "ticks": "",
            "zerolinecolor": "white"
           },
           "yaxis": {
            "backgroundcolor": "#E5ECF6",
            "gridcolor": "white",
            "gridwidth": 2,
            "linecolor": "white",
            "showbackground": true,
            "ticks": "",
            "zerolinecolor": "white"
           },
           "zaxis": {
            "backgroundcolor": "#E5ECF6",
            "gridcolor": "white",
            "gridwidth": 2,
            "linecolor": "white",
            "showbackground": true,
            "ticks": "",
            "zerolinecolor": "white"
           }
          },
          "shapedefaults": {
           "line": {
            "color": "#2a3f5f"
           }
          },
          "ternary": {
           "aaxis": {
            "gridcolor": "white",
            "linecolor": "white",
            "ticks": ""
           },
           "baxis": {
            "gridcolor": "white",
            "linecolor": "white",
            "ticks": ""
           },
           "bgcolor": "#E5ECF6",
           "caxis": {
            "gridcolor": "white",
            "linecolor": "white",
            "ticks": ""
           }
          },
          "title": {
           "x": 0.05
          },
          "xaxis": {
           "automargin": true,
           "gridcolor": "white",
           "linecolor": "white",
           "ticks": "",
           "title": {
            "standoff": 15
           },
           "zerolinecolor": "white",
           "zerolinewidth": 2
          },
          "yaxis": {
           "automargin": true,
           "gridcolor": "white",
           "linecolor": "white",
           "ticks": "",
           "title": {
            "standoff": 15
           },
           "zerolinecolor": "white",
           "zerolinewidth": 2
          }
         }
        },
        "title": {
         "text": "Summed Changes Over Time (all edges)"
        },
        "xaxis": {
         "anchor": "y",
         "domain": [
          0,
          1
         ],
         "title": {
          "text": "checkpoint_2"
         },
         "type": "log"
        },
        "yaxis": {
         "anchor": "x",
         "domain": [
          0,
          1
         ],
         "title": {
          "text": "Summed Scores"
         }
        },
        "yaxis2": {
         "overlaying": "y",
         "showgrid": false,
         "side": "right",
         "title": {
          "text": "Probability Difference"
         }
        }
       }
      },
      "text/html": [
       "<div>                            <div id=\"384d3ac9-b824-4539-9eed-84c730f3fed5\" class=\"plotly-graph-div\" style=\"height:525px; width:100%;\"></div>            <script type=\"text/javascript\">                require([\"plotly\"], function(Plotly) {                    window.PLOTLYENV=window.PLOTLYENV || {};                                    if (document.getElementById(\"384d3ac9-b824-4539-9eed-84c730f3fed5\")) {                    Plotly.newPlot(                        \"384d3ac9-b824-4539-9eed-84c730f3fed5\",                        [{\"hovertemplate\":\"variable=summed_increases\\u003cbr\\u003echeckpoint_2=%{x}\\u003cbr\\u003evalue=%{y}\\u003cextra\\u003e\\u003c\\u002fextra\\u003e\",\"legendgroup\":\"summed_increases\",\"line\":{\"color\":\"lightgreen\",\"dash\":\"solid\"},\"marker\":{\"symbol\":\"circle\"},\"mode\":\"lines\",\"name\":\"summed_increases\",\"orientation\":\"v\",\"showlegend\":true,\"x\":[2000,3000,4000,5000,6000,7000,8000,9000,10000,11000,12000,13000,14000,15000,16000,17000,18000,19000,20000,21000,22000,23000,24000,25000,26000,27000,28000,29000,30000,31000,32000,33000,34000,35000,36000,37000,38000,39000,40000,41000,42000,43000,44000,45000,46000,47000,48000,49000,50000,51000,52000,53000,54000,55000,56000,57000,58000,59000,60000,61000,62000,63000,64000,65000,66000,67000,68000,69000,70000,71000,72000,73000,74000,75000,76000,77000,78000,79000,80000,81000,82000,83000,84000,85000,86000,87000,88000,89000,90000,91000,92000,93000,94000,95000,96000,97000,98000,99000,100000,101000,102000,103000,104000,105000,106000,107000,108000,109000,110000,111000,112000,113000,114000,115000,116000,117000,118000,119000,120000,121000,122000,123000,124000,125000,126000,127000,128000,129000,130000,131000,132000,133000,134000,135000,136000,137000,138000,139000,140000,141000,142000,143000],\"xaxis\":\"x\",\"y\":[0.4148948253357503,0.3727612014067745,0.44070153187726646,0.45325944610112856,0.41804126663919305,0.2568297813213576,0.3397280664266873,0.26814826445433937,0.3973427948421886,0.26021482170381205,0.2406174344041574,0.22204929754661862,0.2667202196907965,0.30224744099132295,0.2902457643149319,0.24575638637315933,0.24404252620286115,0.28070660652565493,0.23341739335467082,0.23313765439604595,0.3534083305245872,0.22135512356993559,0.2267074330699188,0.27875382208651445,0.2692675257501378,0.2265388772411825,0.29347121783547436,0.2514127827426478,0.4110307946712055,0.28360591398995894,0.32774039941978117,0.28902359909898223,0.3590422976760692,0.2924355204868334,0.26267290355372097,0.3238602331820175,0.3013953607694475,0.24344488270673992,0.34181511338249493,0.3003786143448792,0.2773381698493722,0.37688089532503,0.2941768076407243,0.32074920645015936,0.2849901359043088,0.4235783482674833,0.26134352715877185,0.2912040354749479,0.3100979482421735,0.27676200788403094,0.5709315085371145,0.32545039787191854,0.39934221056358865,0.34167931960791975,0.3217590246487134,0.33904904255877,0.2873647277119744,0.45046858059833994,0.37364087769458365,0.27160501765001754,0.30323368477013446,0.3834456279504366,0.3951949681519693,0.25868563258279664,0.32353573993975715,0.25080855089369436,0.4224604751457264,0.3219350764877049,0.36192966754315137,0.4036084287333779,0.3090548526541852,0.3120565242575992,0.319487946574311,0.27383052067570546,0.376003483536806,0.3462797681889924,0.2829762639339606,0.4195534964300549,0.4137750982415156,0.3016996615467633,0.306364540403365,0.3555331374922588,0.3289747259877025,0.4048028620530104,0.42723856335828714,0.4078320552622188,0.49201969805582735,0.41019913953269804,0.4771705451507468,0.4023444064721575,0.3356607785303001,0.39842874397271144,0.25768193900664493,0.5637260104131103,0.374102385347058,0.45610097084688395,0.3741367501307378,0.40550825609103014,0.41113312197623664,0.4873359809887242,0.3860117613397831,0.5806447099479015,0.5133573208252189,0.48531349130518575,0.5327577627761226,0.5178167091561161,0.5712812881667323,0.5311751365505342,0.5790677791976223,0.4805557733219567,0.5258068083937056,0.5158406733485934,0.6503056408903471,0.4608108142205558,0.5481883536247959,0.461373839349808,0.5855929673236651,0.6369070842403157,0.5812726192256015,0.48218797800644986,0.6640180960712536,0.5369399755685924,0.7880473481798027,0.5864916666354539,0.6085041562548155,0.5175213668108976,0.5140492108924393,0.4594516381613589,0.4606901435248305,0.5906698995987125,0.7497033202396901,0.6848080177560292,0.6207381942658825,0.735748973899556,0.6013037217837429,0.4982663664732993,0.7122707808072772,0.6274325320532794,0.4796489713505958,0.7000429794459537,0.5806746544383282,0.5630791339590815],\"yaxis\":\"y\",\"type\":\"scatter\"},{\"hovertemplate\":\"variable=summed_decreases\\u003cbr\\u003echeckpoint_2=%{x}\\u003cbr\\u003evalue=%{y}\\u003cextra\\u003e\\u003c\\u002fextra\\u003e\",\"legendgroup\":\"summed_decreases\",\"line\":{\"color\":\"lightsalmon\",\"dash\":\"solid\"},\"marker\":{\"symbol\":\"circle\"},\"mode\":\"lines\",\"name\":\"summed_decreases\",\"orientation\":\"v\",\"showlegend\":true,\"x\":[2000,3000,4000,5000,6000,7000,8000,9000,10000,11000,12000,13000,14000,15000,16000,17000,18000,19000,20000,21000,22000,23000,24000,25000,26000,27000,28000,29000,30000,31000,32000,33000,34000,35000,36000,37000,38000,39000,40000,41000,42000,43000,44000,45000,46000,47000,48000,49000,50000,51000,52000,53000,54000,55000,56000,57000,58000,59000,60000,61000,62000,63000,64000,65000,66000,67000,68000,69000,70000,71000,72000,73000,74000,75000,76000,77000,78000,79000,80000,81000,82000,83000,84000,85000,86000,87000,88000,89000,90000,91000,92000,93000,94000,95000,96000,97000,98000,99000,100000,101000,102000,103000,104000,105000,106000,107000,108000,109000,110000,111000,112000,113000,114000,115000,116000,117000,118000,119000,120000,121000,122000,123000,124000,125000,126000,127000,128000,129000,130000,131000,132000,133000,134000,135000,136000,137000,138000,139000,140000,141000,142000,143000],\"xaxis\":\"x\",\"y\":[0.22630392873907113,0.18505001444532354,0.22955043061188007,0.2758762369417127,0.20955024252907606,0.2211242923408463,0.23983864669617105,0.3795205282358438,0.2628807434120972,0.22733801888398375,0.2904719205780566,0.27377434738991724,0.21684936910787656,0.21830767453388944,0.2740554405222042,0.2699433208816231,0.2246549797306443,0.24104346154433642,0.2525165205934172,0.28700054594639823,0.2302248702256975,0.2336671194284463,0.29083473338658905,0.2649014986635052,0.250094180959195,0.31975814953489134,0.2525343703748604,0.27147130182265755,0.2994303367231623,0.389051727597689,0.24429080108041035,0.2835294832092359,0.2631589239249479,0.26130833109306195,0.3197937022960673,0.3233577250871349,0.25824758760529676,0.39251385782199577,0.25618677928514444,0.3353226005240231,0.3439648992487605,0.2594253010429952,0.26768931933116846,0.2974713814298866,0.3246858323083188,0.2682749913548719,0.43665619933790367,0.26424831342478683,0.2580074009965756,0.440565679261681,0.32765987204101066,0.41738330738866125,0.2750275905368653,0.30007101992163143,0.41520656156382074,0.40906651382147174,0.2826511257467814,0.3072012703942164,0.3741432778971898,0.40682609519626567,0.28794871991976834,0.29039084180806185,0.3323063149784389,0.3366080351114249,0.3002783189050433,0.2422005838205905,0.3564090737063026,0.31543994329108216,0.3205478510096782,0.29509130254507454,0.5178471404912557,0.30538262856007314,0.27796725178833626,0.3273373299935258,0.3098913980132352,0.36430379769558385,0.30210919372700573,0.32632728449532067,0.37479197189425406,0.3585912331725467,0.4128853510739674,0.3670146358802562,0.3318921053016979,0.29274248526912316,0.3162366928480935,0.5688904789622597,0.38150532608273924,0.6996595636038556,0.3603025808025111,0.48540392616488254,0.44605793935675947,0.3243422690161153,0.4163272153349262,0.3054588783908423,0.4866599294776002,0.35986800283180287,0.42875033483073416,0.3502982359030962,0.41618814972446305,0.5516245032470037,0.4900047791978252,0.40326763447298297,0.6150602484670336,0.6061820220271279,0.47840008872442896,0.4708820335255879,0.475801283097923,0.80457664298625,0.4295491317631157,0.7004291739215858,0.48366025842421323,0.5541086463662466,0.5789266055376286,0.5591114046082518,0.4096182112586497,0.5633597942513502,0.4496947512972156,0.5545289852590798,0.633921115621823,0.4954077983729155,0.7170522295826258,0.6260756809609817,0.5628025841114361,0.7547741833999253,0.539292497533605,0.5646802449157395,0.4585848582528496,0.43906183689711314,0.5760801234971227,0.5049515084506853,0.5660982728304937,1.1149265230739638,0.44877154959700394,0.5435744622422632,0.637918911288796,0.5816777619389009,0.5965933019402926,0.5926876211946761,0.7293598996292857,0.5362752084378304,0.4748389065947097,0.6140316605964321],\"yaxis\":\"y\",\"type\":\"scatter\"},{\"hovertemplate\":\"variable=summed_absolute_change\\u003cbr\\u003echeckpoint_2=%{x}\\u003cbr\\u003evalue=%{y}\\u003cextra\\u003e\\u003c\\u002fextra\\u003e\",\"legendgroup\":\"summed_absolute_change\",\"line\":{\"color\":\"lightblue\",\"dash\":\"solid\"},\"marker\":{\"symbol\":\"circle\"},\"mode\":\"lines\",\"name\":\"summed_absolute_change\",\"orientation\":\"v\",\"showlegend\":true,\"x\":[2000,3000,4000,5000,6000,7000,8000,9000,10000,11000,12000,13000,14000,15000,16000,17000,18000,19000,20000,21000,22000,23000,24000,25000,26000,27000,28000,29000,30000,31000,32000,33000,34000,35000,36000,37000,38000,39000,40000,41000,42000,43000,44000,45000,46000,47000,48000,49000,50000,51000,52000,53000,54000,55000,56000,57000,58000,59000,60000,61000,62000,63000,64000,65000,66000,67000,68000,69000,70000,71000,72000,73000,74000,75000,76000,77000,78000,79000,80000,81000,82000,83000,84000,85000,86000,87000,88000,89000,90000,91000,92000,93000,94000,95000,96000,97000,98000,99000,100000,101000,102000,103000,104000,105000,106000,107000,108000,109000,110000,111000,112000,113000,114000,115000,116000,117000,118000,119000,120000,121000,122000,123000,124000,125000,126000,127000,128000,129000,130000,131000,132000,133000,134000,135000,136000,137000,138000,139000,140000,141000,142000,143000],\"xaxis\":\"x\",\"y\":[0.6411987540748214,0.557811215852098,0.6702519624891465,0.7291356830428413,0.6275915091682691,0.4779540736622039,0.5795667131228583,0.6476687926901832,0.6602235382542858,0.4875528405877958,0.531089354982214,0.49582364493653586,0.48356958879867307,0.5205551155252124,0.5643012048371361,0.5156997072547824,0.46869750593350545,0.5217500680699914,0.48593391394808805,0.5201382003424442,0.5836332007502847,0.4550222429983819,0.5175421664565079,0.5436553207500197,0.5193617067093328,0.5462970267760738,0.5460055882103347,0.5228840845653053,0.7104611313943678,0.672657641587648,0.5720312005001915,0.5725530823082181,0.6222012216010171,0.5537438515798954,0.5824666058497883,0.6472179582691524,0.5596429483747443,0.6359587405287357,0.5980018926676394,0.6357012148689023,0.6213030690981327,0.6363061963680252,0.5618661269718928,0.618220587880046,0.6096759682126276,0.6918533396223552,0.6979997264966755,0.5554523488997347,0.5681053492387491,0.7173276871457119,0.8985913805781252,0.7428337052605798,0.674369801100454,0.6417503395295512,0.7369655862125342,0.7481155563802417,0.5700158534587558,0.7576698509925563,0.7477841555917735,0.6784311128462832,0.5911824046899028,0.6738364697584984,0.7275012831304082,0.5952936676942215,0.6238140588448005,0.49300913471428487,0.778869548852029,0.6373750197787871,0.6824775185528296,0.6986997312784524,0.8269019931454409,0.6174391528176724,0.5974551983626473,0.6011678506692313,0.6858948815500412,0.7105835658845763,0.5850854576609663,0.7458807809253756,0.7885670701357697,0.66029089471931,0.7192498914773324,0.722547773372515,0.6608668312894004,0.6975453473221336,0.7434752562063807,0.9767225342244785,0.8735250241385666,1.1098587031365537,0.837473125953258,0.8877483326370401,0.7817187178870595,0.7227710129888267,0.6740091543415712,0.8691848888039526,0.8607623148246581,0.8159689736786868,0.802887084961472,0.7558064919941263,0.8273212717006997,1.0389604842357278,0.8760165405376084,0.9839123444208845,1.1284175692922525,1.0914955133323136,1.0111578515005517,0.988698742681704,1.0470825712646552,1.3357517795367841,1.008616910960738,1.1809849472435425,1.0094670668179189,1.06994931971484,1.229232246427976,1.0199222188288077,0.9578065648834456,1.024733633601158,1.0352877186208806,1.1914360694993955,1.2151937348474244,0.9775957763793653,1.3810703256538794,1.163015656529574,1.3508499322912388,1.3412658500353793,1.1477966537884203,1.082201611726637,0.9726340691452888,0.898513475058472,1.0367702670219532,1.0956214080493978,1.3158015930701839,1.799734540829993,1.0695097438628864,1.2793234361418193,1.2392226330725389,1.0799441284122002,1.30886408274757,1.2201201532479555,1.2090088709798814,1.2363181878837841,1.055513561033038,1.1771107945555137],\"yaxis\":\"y\",\"type\":\"scatter\"},{\"line\":{\"color\":\"black\"},\"mode\":\"lines\",\"name\":\"perf_metric\",\"x\":[2000,3000,4000,5000,6000,7000,8000,9000,10000,11000,12000,13000,14000,15000,16000,17000,18000,19000,20000,21000,22000,23000,24000,25000,26000,27000,28000,29000,30000,31000,32000,33000,34000,35000,36000,37000,38000,39000,40000,41000,42000,43000,44000,45000,46000,47000,48000,49000,50000,51000,52000,53000,54000,55000,56000,57000,58000,59000,60000,61000,62000,63000,64000,65000,66000,67000,68000,69000,70000,71000,72000,73000,74000,75000,76000,77000,78000,79000,80000,81000,82000,83000,84000,85000,86000,87000,88000,89000,90000,91000,92000,93000,94000,95000,96000,97000,98000,99000,100000,101000,102000,103000,104000,105000,106000,107000,108000,109000,110000,111000,112000,113000,114000,115000,116000,117000,118000,119000,120000,121000,122000,123000,124000,125000,126000,127000,128000,129000,130000,131000,132000,133000,134000,135000,136000,137000,138000,139000,140000,141000,142000,143000],\"y\":[-0.6974469423294067,0.04771915078163147,0.4078015089035034,1.1932440996170044,1.8560377359390259,1.8433938026428223,2.3628196716308594,1.9960979223251343,2.4225189685821533,2.5261731147766113,2.422247886657715,2.1560490131378174,2.315804958343506,2.756420850753784,2.7993170738220217,2.8422132968902587,2.885109519958496,2.928005743026733,2.9709019660949707,2.9951998710632326,3.019497776031494,3.043795680999756,3.0680935859680174,3.0923914909362793,3.144391345977783,3.196391201019287,3.248391056060791,3.300390911102295,3.352390766143799,3.345085048675537,3.337779331207275,3.330473613739014,3.323167896270752,3.3158621788024902,3.3601420402526854,3.404421901702881,3.448701763153076,3.4929816246032717,3.537261486053467,3.4823867321014403,3.427511978149414,3.372637224197388,3.3177624702453614,3.262887716293335,3.4026073455810546,3.5423269748687742,3.6820466041564943,3.821766233444214,3.9614858627319336,3.9742358207702635,3.986985778808594,3.9997357368469237,4.012485694885254,4.025235652923584,3.9805383682250977,3.9358410835266113,3.891143798828125,3.8464465141296387,3.8017492294311523,3.8956336975097656,3.989518165588379,4.083402633666992,4.1772871017456055,4.271171569824219,4.309825992584228,4.3484804153442385,4.387134838104248,4.425789260864258,4.464443683624268,4.423270845413208,4.382098007202148,4.340925168991089,4.299752330780029,4.25857949256897,4.2174066543579105,4.17623381614685,4.135060977935791,4.093888139724731,4.052715301513672,4.009969091415405,3.967222881317139,3.924476671218872,3.8817304611206054,3.838984251022339,3.7962380409240724,3.753491830825806,3.710745620727539,3.6679994106292724,3.625253200531006,3.6081200361251833,3.5909868717193603,3.5738537073135377,3.5567205429077147,3.539587378501892,3.5224542140960695,3.5053210496902465,3.488187885284424,3.471054720878601,3.4539215564727783,3.505764389038086,3.5576072216033934,3.6094500541687013,3.661292886734009,3.7131357192993164,3.764978551864624,3.8168213844299315,3.8686642169952394,3.920507049560547,3.9723498821258545,3.9614800691604612,3.9506102561950684,3.939740443229675,3.9288706302642824,3.918000817298889,3.907131004333496,3.896261191368103,3.88539137840271,3.874521565437317,3.863651752471924,3.831834864616394,3.800017976760864,3.7682010889053346,3.7363842010498045,3.704567313194275,3.6727504253387453,3.6409335374832152,3.6091166496276856,3.5772997617721556,3.545482873916626,3.6055633783340455,3.665643882751465,3.725724387168884,3.7858048915863036,3.845885396003723,3.9059659004211427,3.966046404838562,4.026126909255981,4.086207413673401,4.14628791809082,4.14628791809082,4.14628791809082,4.14628791809082],\"yaxis\":\"y2\",\"type\":\"scatter\"}],                        {\"template\":{\"data\":{\"histogram2dcontour\":[{\"type\":\"histogram2dcontour\",\"colorbar\":{\"outlinewidth\":0,\"ticks\":\"\"},\"colorscale\":[[0.0,\"#0d0887\"],[0.1111111111111111,\"#46039f\"],[0.2222222222222222,\"#7201a8\"],[0.3333333333333333,\"#9c179e\"],[0.4444444444444444,\"#bd3786\"],[0.5555555555555556,\"#d8576b\"],[0.6666666666666666,\"#ed7953\"],[0.7777777777777778,\"#fb9f3a\"],[0.8888888888888888,\"#fdca26\"],[1.0,\"#f0f921\"]]}],\"choropleth\":[{\"type\":\"choropleth\",\"colorbar\":{\"outlinewidth\":0,\"ticks\":\"\"}}],\"histogram2d\":[{\"type\":\"histogram2d\",\"colorbar\":{\"outlinewidth\":0,\"ticks\":\"\"},\"colorscale\":[[0.0,\"#0d0887\"],[0.1111111111111111,\"#46039f\"],[0.2222222222222222,\"#7201a8\"],[0.3333333333333333,\"#9c179e\"],[0.4444444444444444,\"#bd3786\"],[0.5555555555555556,\"#d8576b\"],[0.6666666666666666,\"#ed7953\"],[0.7777777777777778,\"#fb9f3a\"],[0.8888888888888888,\"#fdca26\"],[1.0,\"#f0f921\"]]}],\"heatmap\":[{\"type\":\"heatmap\",\"colorbar\":{\"outlinewidth\":0,\"ticks\":\"\"},\"colorscale\":[[0.0,\"#0d0887\"],[0.1111111111111111,\"#46039f\"],[0.2222222222222222,\"#7201a8\"],[0.3333333333333333,\"#9c179e\"],[0.4444444444444444,\"#bd3786\"],[0.5555555555555556,\"#d8576b\"],[0.6666666666666666,\"#ed7953\"],[0.7777777777777778,\"#fb9f3a\"],[0.8888888888888888,\"#fdca26\"],[1.0,\"#f0f921\"]]}],\"heatmapgl\":[{\"type\":\"heatmapgl\",\"colorbar\":{\"outlinewidth\":0,\"ticks\":\"\"},\"colorscale\":[[0.0,\"#0d0887\"],[0.1111111111111111,\"#46039f\"],[0.2222222222222222,\"#7201a8\"],[0.3333333333333333,\"#9c179e\"],[0.4444444444444444,\"#bd3786\"],[0.5555555555555556,\"#d8576b\"],[0.6666666666666666,\"#ed7953\"],[0.7777777777777778,\"#fb9f3a\"],[0.8888888888888888,\"#fdca26\"],[1.0,\"#f0f921\"]]}],\"contourcarpet\":[{\"type\":\"contourcarpet\",\"colorbar\":{\"outlinewidth\":0,\"ticks\":\"\"}}],\"contour\":[{\"type\":\"contour\",\"colorbar\":{\"outlinewidth\":0,\"ticks\":\"\"},\"colorscale\":[[0.0,\"#0d0887\"],[0.1111111111111111,\"#46039f\"],[0.2222222222222222,\"#7201a8\"],[0.3333333333333333,\"#9c179e\"],[0.4444444444444444,\"#bd3786\"],[0.5555555555555556,\"#d8576b\"],[0.6666666666666666,\"#ed7953\"],[0.7777777777777778,\"#fb9f3a\"],[0.8888888888888888,\"#fdca26\"],[1.0,\"#f0f921\"]]}],\"surface\":[{\"type\":\"surface\",\"colorbar\":{\"outlinewidth\":0,\"ticks\":\"\"},\"colorscale\":[[0.0,\"#0d0887\"],[0.1111111111111111,\"#46039f\"],[0.2222222222222222,\"#7201a8\"],[0.3333333333333333,\"#9c179e\"],[0.4444444444444444,\"#bd3786\"],[0.5555555555555556,\"#d8576b\"],[0.6666666666666666,\"#ed7953\"],[0.7777777777777778,\"#fb9f3a\"],[0.8888888888888888,\"#fdca26\"],[1.0,\"#f0f921\"]]}],\"mesh3d\":[{\"type\":\"mesh3d\",\"colorbar\":{\"outlinewidth\":0,\"ticks\":\"\"}}],\"scatter\":[{\"fillpattern\":{\"fillmode\":\"overlay\",\"size\":10,\"solidity\":0.2},\"type\":\"scatter\"}],\"parcoords\":[{\"type\":\"parcoords\",\"line\":{\"colorbar\":{\"outlinewidth\":0,\"ticks\":\"\"}}}],\"scatterpolargl\":[{\"type\":\"scatterpolargl\",\"marker\":{\"colorbar\":{\"outlinewidth\":0,\"ticks\":\"\"}}}],\"bar\":[{\"error_x\":{\"color\":\"#2a3f5f\"},\"error_y\":{\"color\":\"#2a3f5f\"},\"marker\":{\"line\":{\"color\":\"#E5ECF6\",\"width\":0.5},\"pattern\":{\"fillmode\":\"overlay\",\"size\":10,\"solidity\":0.2}},\"type\":\"bar\"}],\"scattergeo\":[{\"type\":\"scattergeo\",\"marker\":{\"colorbar\":{\"outlinewidth\":0,\"ticks\":\"\"}}}],\"scatterpolar\":[{\"type\":\"scatterpolar\",\"marker\":{\"colorbar\":{\"outlinewidth\":0,\"ticks\":\"\"}}}],\"histogram\":[{\"marker\":{\"pattern\":{\"fillmode\":\"overlay\",\"size\":10,\"solidity\":0.2}},\"type\":\"histogram\"}],\"scattergl\":[{\"type\":\"scattergl\",\"marker\":{\"colorbar\":{\"outlinewidth\":0,\"ticks\":\"\"}}}],\"scatter3d\":[{\"type\":\"scatter3d\",\"line\":{\"colorbar\":{\"outlinewidth\":0,\"ticks\":\"\"}},\"marker\":{\"colorbar\":{\"outlinewidth\":0,\"ticks\":\"\"}}}],\"scattermapbox\":[{\"type\":\"scattermapbox\",\"marker\":{\"colorbar\":{\"outlinewidth\":0,\"ticks\":\"\"}}}],\"scatterternary\":[{\"type\":\"scatterternary\",\"marker\":{\"colorbar\":{\"outlinewidth\":0,\"ticks\":\"\"}}}],\"scattercarpet\":[{\"type\":\"scattercarpet\",\"marker\":{\"colorbar\":{\"outlinewidth\":0,\"ticks\":\"\"}}}],\"carpet\":[{\"aaxis\":{\"endlinecolor\":\"#2a3f5f\",\"gridcolor\":\"white\",\"linecolor\":\"white\",\"minorgridcolor\":\"white\",\"startlinecolor\":\"#2a3f5f\"},\"baxis\":{\"endlinecolor\":\"#2a3f5f\",\"gridcolor\":\"white\",\"linecolor\":\"white\",\"minorgridcolor\":\"white\",\"startlinecolor\":\"#2a3f5f\"},\"type\":\"carpet\"}],\"table\":[{\"cells\":{\"fill\":{\"color\":\"#EBF0F8\"},\"line\":{\"color\":\"white\"}},\"header\":{\"fill\":{\"color\":\"#C8D4E3\"},\"line\":{\"color\":\"white\"}},\"type\":\"table\"}],\"barpolar\":[{\"marker\":{\"line\":{\"color\":\"#E5ECF6\",\"width\":0.5},\"pattern\":{\"fillmode\":\"overlay\",\"size\":10,\"solidity\":0.2}},\"type\":\"barpolar\"}],\"pie\":[{\"automargin\":true,\"type\":\"pie\"}]},\"layout\":{\"autotypenumbers\":\"strict\",\"colorway\":[\"#636efa\",\"#EF553B\",\"#00cc96\",\"#ab63fa\",\"#FFA15A\",\"#19d3f3\",\"#FF6692\",\"#B6E880\",\"#FF97FF\",\"#FECB52\"],\"font\":{\"color\":\"#2a3f5f\"},\"hovermode\":\"closest\",\"hoverlabel\":{\"align\":\"left\"},\"paper_bgcolor\":\"white\",\"plot_bgcolor\":\"#E5ECF6\",\"polar\":{\"bgcolor\":\"#E5ECF6\",\"angularaxis\":{\"gridcolor\":\"white\",\"linecolor\":\"white\",\"ticks\":\"\"},\"radialaxis\":{\"gridcolor\":\"white\",\"linecolor\":\"white\",\"ticks\":\"\"}},\"ternary\":{\"bgcolor\":\"#E5ECF6\",\"aaxis\":{\"gridcolor\":\"white\",\"linecolor\":\"white\",\"ticks\":\"\"},\"baxis\":{\"gridcolor\":\"white\",\"linecolor\":\"white\",\"ticks\":\"\"},\"caxis\":{\"gridcolor\":\"white\",\"linecolor\":\"white\",\"ticks\":\"\"}},\"coloraxis\":{\"colorbar\":{\"outlinewidth\":0,\"ticks\":\"\"}},\"colorscale\":{\"sequential\":[[0.0,\"#0d0887\"],[0.1111111111111111,\"#46039f\"],[0.2222222222222222,\"#7201a8\"],[0.3333333333333333,\"#9c179e\"],[0.4444444444444444,\"#bd3786\"],[0.5555555555555556,\"#d8576b\"],[0.6666666666666666,\"#ed7953\"],[0.7777777777777778,\"#fb9f3a\"],[0.8888888888888888,\"#fdca26\"],[1.0,\"#f0f921\"]],\"sequentialminus\":[[0.0,\"#0d0887\"],[0.1111111111111111,\"#46039f\"],[0.2222222222222222,\"#7201a8\"],[0.3333333333333333,\"#9c179e\"],[0.4444444444444444,\"#bd3786\"],[0.5555555555555556,\"#d8576b\"],[0.6666666666666666,\"#ed7953\"],[0.7777777777777778,\"#fb9f3a\"],[0.8888888888888888,\"#fdca26\"],[1.0,\"#f0f921\"]],\"diverging\":[[0,\"#8e0152\"],[0.1,\"#c51b7d\"],[0.2,\"#de77ae\"],[0.3,\"#f1b6da\"],[0.4,\"#fde0ef\"],[0.5,\"#f7f7f7\"],[0.6,\"#e6f5d0\"],[0.7,\"#b8e186\"],[0.8,\"#7fbc41\"],[0.9,\"#4d9221\"],[1,\"#276419\"]]},\"xaxis\":{\"gridcolor\":\"white\",\"linecolor\":\"white\",\"ticks\":\"\",\"title\":{\"standoff\":15},\"zerolinecolor\":\"white\",\"automargin\":true,\"zerolinewidth\":2},\"yaxis\":{\"gridcolor\":\"white\",\"linecolor\":\"white\",\"ticks\":\"\",\"title\":{\"standoff\":15},\"zerolinecolor\":\"white\",\"automargin\":true,\"zerolinewidth\":2},\"scene\":{\"xaxis\":{\"backgroundcolor\":\"#E5ECF6\",\"gridcolor\":\"white\",\"linecolor\":\"white\",\"showbackground\":true,\"ticks\":\"\",\"zerolinecolor\":\"white\",\"gridwidth\":2},\"yaxis\":{\"backgroundcolor\":\"#E5ECF6\",\"gridcolor\":\"white\",\"linecolor\":\"white\",\"showbackground\":true,\"ticks\":\"\",\"zerolinecolor\":\"white\",\"gridwidth\":2},\"zaxis\":{\"backgroundcolor\":\"#E5ECF6\",\"gridcolor\":\"white\",\"linecolor\":\"white\",\"showbackground\":true,\"ticks\":\"\",\"zerolinecolor\":\"white\",\"gridwidth\":2}},\"shapedefaults\":{\"line\":{\"color\":\"#2a3f5f\"}},\"annotationdefaults\":{\"arrowcolor\":\"#2a3f5f\",\"arrowhead\":0,\"arrowwidth\":1},\"geo\":{\"bgcolor\":\"white\",\"landcolor\":\"#E5ECF6\",\"subunitcolor\":\"white\",\"showland\":true,\"showlakes\":true,\"lakecolor\":\"white\"},\"title\":{\"x\":0.05},\"mapbox\":{\"style\":\"light\"}}},\"xaxis\":{\"anchor\":\"y\",\"domain\":[0.0,1.0],\"title\":{\"text\":\"checkpoint_2\"},\"type\":\"log\"},\"yaxis\":{\"anchor\":\"x\",\"domain\":[0.0,1.0],\"title\":{\"text\":\"Summed Scores\"}},\"legend\":{\"title\":{\"text\":\"variable\"},\"tracegroupgap\":0},\"title\":{\"text\":\"Summed Changes Over Time (all edges)\"},\"yaxis2\":{\"title\":{\"text\":\"Probability Difference\"},\"overlaying\":\"y\",\"side\":\"right\",\"showgrid\":false}},                        {\"responsive\": true}                    ).then(function(){\n",
       "                            \n",
       "var gd = document.getElementById('384d3ac9-b824-4539-9eed-84c730f3fed5');\n",
       "var x = new MutationObserver(function (mutations, observer) {{\n",
       "        var display = window.getComputedStyle(gd).display;\n",
       "        if (!display || display === 'none') {{\n",
       "            console.log([gd, 'removed!']);\n",
       "            Plotly.purge(gd);\n",
       "            observer.disconnect();\n",
       "        }}\n",
       "}});\n",
       "\n",
       "// Listen for the removal of the full notebook cells\n",
       "var notebookContainer = gd.closest('#notebook-container');\n",
       "if (notebookContainer) {{\n",
       "    x.observe(notebookContainer, {childList: true});\n",
       "}}\n",
       "\n",
       "// Listen for the clearing of the current output cell\n",
       "var outputEl = gd.closest('.output');\n",
       "if (outputEl) {{\n",
       "    x.observe(outputEl, {childList: true});\n",
       "}}\n",
       "\n",
       "                        })                };                });            </script>        </div>"
      ]
     },
     "metadata": {},
     "output_type": "display_data"
    }
   ],
   "source": [
    "gtd_results = compute_gtd(df)\n",
    "\n",
    "# Add a new column for the performance metric by mapping the checkpoint_2 values using the perf_metric_dict\n",
    "gtd_results['perf_metric'] = gtd_results['checkpoint_2'].map(perf_metric_dict)\n",
    "\n",
    "# Interpolate missing values\n",
    "gtd_results['perf_metric'] = gtd_results['perf_metric'].interpolate(method='linear')\n",
    "\n",
    "# plot weighted additions, deletions, and total weighted GTD over time\n",
    "fig = px.line(gtd_results, x='checkpoint_2', y=['summed_increases', 'summed_decreases', 'summed_absolute_change'], title='Summed Changes Over Time (all edges)', log_x=True)\n",
    "\n",
    "# Specify colors for each line\n",
    "colors = {'summed_increases': 'lightgreen', 'summed_decreases': 'lightsalmon', 'summed_absolute_change': 'lightblue', 'perf_metric': 'black'}\n",
    "\n",
    "# Update each trace with the specified color\n",
    "for i, trace in enumerate(fig.data):\n",
    "    fig.data[i].update(line=dict(color=colors[trace.name]))\n",
    "\n",
    "\n",
    "# Convert to a go.Figure to add secondary Y-axis features and add the performance metric line\n",
    "fig.update_layout(\n",
    "    yaxis2=dict(title=\"Probability Difference\", overlaying=\"y\", side=\"right\", showgrid=False)\n",
    ")\n",
    "fig.add_trace(\n",
    "    go.Scatter(x=gtd_results['checkpoint_2'], y=gtd_results['perf_metric'], name='perf_metric', mode='lines', yaxis='y2', line=dict(color=colors['perf_metric']))\n",
    ")\n",
    "\n",
    "# Optional: Update the layout if you need to adjust titles or other aesthetics\n",
    "fig.update_layout(\n",
    "    yaxis_title=\"Summed Scores\"\n",
    ")\n",
    "\n",
    "fig.show()"
   ]
  },
  {
   "attachments": {},
   "cell_type": "markdown",
   "metadata": {},
   "source": [
    "### Graph Similarity"
   ]
  },
  {
   "cell_type": "code",
   "execution_count": 36,
   "metadata": {},
   "outputs": [
    {
     "data": {
      "application/vnd.plotly.v1+json": {
       "config": {
        "plotlyServerURL": "https://plot.ly"
       },
       "data": [
        {
         "hovertemplate": "variable=jaccard_similarity<br>checkpoint_2=%{x}<br>value=%{y}<extra></extra>",
         "legendgroup": "jaccard_similarity",
         "line": {
          "color": "lightblue",
          "dash": "solid"
         },
         "marker": {
          "symbol": "circle"
         },
         "mode": "lines",
         "name": "jaccard_similarity",
         "orientation": "v",
         "showlegend": true,
         "type": "scatter",
         "x": [
          2000,
          3000,
          4000,
          5000,
          6000,
          7000,
          8000,
          9000,
          10000,
          11000,
          12000,
          13000,
          14000,
          15000,
          16000,
          17000,
          18000,
          19000,
          20000,
          21000,
          22000,
          23000,
          24000,
          25000,
          26000,
          27000,
          28000,
          29000,
          30000,
          31000,
          32000,
          33000,
          34000,
          35000,
          36000,
          37000,
          38000,
          39000,
          40000,
          41000,
          42000,
          43000,
          44000,
          45000,
          46000,
          47000,
          48000,
          49000,
          50000,
          51000,
          52000,
          53000,
          54000,
          55000,
          56000,
          57000,
          58000,
          59000,
          60000,
          61000,
          62000,
          63000,
          64000,
          65000,
          66000,
          67000,
          68000,
          69000,
          70000,
          71000,
          72000,
          73000,
          74000,
          75000,
          76000,
          77000,
          78000,
          79000,
          80000,
          81000,
          82000,
          83000,
          84000,
          85000,
          86000,
          87000,
          88000,
          89000,
          90000,
          91000,
          92000,
          93000,
          94000,
          95000,
          96000,
          97000,
          98000,
          99000,
          100000,
          101000,
          102000,
          103000,
          104000,
          105000,
          106000,
          107000,
          108000,
          109000,
          110000,
          111000,
          112000,
          113000,
          114000,
          115000,
          116000,
          117000,
          118000,
          119000,
          120000,
          121000,
          122000,
          123000,
          124000,
          125000,
          126000,
          127000,
          128000,
          129000,
          130000,
          131000,
          132000,
          133000,
          134000,
          135000,
          136000,
          137000,
          138000,
          139000,
          140000,
          141000,
          142000,
          143000
         ],
         "xaxis": "x",
         "y": [
          0,
          0,
          0.10256410256410256,
          0.58,
          0.6732673267326733,
          0.6788990825688074,
          0.6173913043478261,
          0.6756756756756757,
          0.2897196261682243,
          0.24770642201834864,
          0.7383177570093458,
          0.6491228070175439,
          0.6607142857142857,
          0.7523809523809524,
          0.41317365269461076,
          0.8378378378378378,
          0.831081081081081,
          0.808641975308642,
          0.45121951219512196,
          0.3721973094170404,
          0.6045454545454545,
          0.8639455782312925,
          0.6052631578947368,
          0.39035087719298245,
          0.3230769230769231,
          0.6216216216216216,
          0.7168141592920354,
          0.6636771300448431,
          0.43373493975903615,
          0.4177215189873418,
          0.8159509202453987,
          0.7727272727272727,
          0.6091205211726385,
          0.2993421052631579,
          0.24722222222222223,
          0.3185595567867036,
          0.6845238095238095,
          0.6475409836065574,
          0.379746835443038,
          0.22826086956521738,
          0.5121951219512195,
          0.4630071599045346,
          0.4964200477326969,
          0.3744292237442922,
          0.2459016393442623,
          0.19452054794520549,
          0.7752808988764045,
          0.23387096774193547,
          0.24731182795698925,
          0.41228070175438597,
          0.7619047619047619,
          0.20680628272251309,
          0.7373949579831933,
          0.19239373601789708,
          0.3176895306859206,
          0.7214484679665738,
          0.20234604105571846,
          0.125,
          0.15913200723327306,
          0.35537190082644626,
          0.7673469387755102,
          0.5263157894736842,
          0.27019498607242337,
          0.42857142857142855,
          0.41007194244604317,
          0.7314814814814815,
          0.32270916334661354,
          0.8064516129032258,
          0.33858267716535434,
          0.4782608695652174,
          0.30256410256410254,
          0.2948717948717949,
          0.5958549222797928,
          0.7678571428571429,
          0.7553648068669528,
          0.5024875621890548,
          0.1984924623115578,
          0.8571428571428571,
          0.3333333333333333,
          0.3483606557377049,
          0.3347107438016529,
          0.8235294117647058,
          0.7395833333333334,
          0.7796610169491526,
          0.6610169491525424,
          0.5649717514124294,
          0.5339805825242718,
          0.85,
          0.27927927927927926,
          0.391812865497076,
          0.7664670658682635,
          0.5333333333333333,
          0.7727272727272727,
          0.7922077922077922,
          0.5378151260504201,
          0.6916666666666667,
          0.81,
          0.5465116279069767,
          0.4,
          0.3003533568904594,
          0.6330049261083743,
          0.3989769820971867,
          0.5914634146341463,
          0.3177257525083612,
          0.49080882352941174,
          0.21663442940038685,
          0.4810126582278481,
          0.3319327731092437,
          0.3333333333333333,
          0.296,
          0.2624113475177305,
          0.6525679758308157,
          0.35793357933579334,
          0.2549019607843137,
          0.27956989247311825,
          0.26881720430107525,
          0.13020833333333334,
          0.48556430446194226,
          0.24266666666666667,
          0.3648068669527897,
          0.47533632286995514,
          0.24305555555555555,
          0.20272904483430798,
          0.5538922155688623,
          0.6071428571428571,
          0.05893909626719057,
          0.25892857142857145,
          0.24288840262582057,
          0.2013129102844639,
          0.2283464566929134,
          0.47150259067357514,
          0.026041666666666668,
          0.036231884057971016,
          0.47101449275362317,
          0.6135593220338983,
          0.29656160458452724,
          0.31347517730496455,
          0.4258188824662813,
          0.1761252446183953,
          0.31800766283524906,
          0.5042194092827004,
          0.6115241635687733
         ],
         "yaxis": "y"
        },
        {
         "line": {
          "color": "black"
         },
         "mode": "lines",
         "name": "perf_metric",
         "type": "scatter",
         "x": [
          2000,
          3000,
          4000,
          5000,
          6000,
          7000,
          8000,
          9000,
          10000,
          11000,
          12000,
          13000,
          14000,
          15000,
          16000,
          17000,
          18000,
          19000,
          20000,
          21000,
          22000,
          23000,
          24000,
          25000,
          26000,
          27000,
          28000,
          29000,
          30000,
          31000,
          32000,
          33000,
          34000,
          35000,
          36000,
          37000,
          38000,
          39000,
          40000,
          41000,
          42000,
          43000,
          44000,
          45000,
          46000,
          47000,
          48000,
          49000,
          50000,
          51000,
          52000,
          53000,
          54000,
          55000,
          56000,
          57000,
          58000,
          59000,
          60000,
          61000,
          62000,
          63000,
          64000,
          65000,
          66000,
          67000,
          68000,
          69000,
          70000,
          71000,
          72000,
          73000,
          74000,
          75000,
          76000,
          77000,
          78000,
          79000,
          80000,
          81000,
          82000,
          83000,
          84000,
          85000,
          86000,
          87000,
          88000,
          89000,
          90000,
          91000,
          92000,
          93000,
          94000,
          95000,
          96000,
          97000,
          98000,
          99000,
          100000,
          101000,
          102000,
          103000,
          104000,
          105000,
          106000,
          107000,
          108000,
          109000,
          110000,
          111000,
          112000,
          113000,
          114000,
          115000,
          116000,
          117000,
          118000,
          119000,
          120000,
          121000,
          122000,
          123000,
          124000,
          125000,
          126000,
          127000,
          128000,
          129000,
          130000,
          131000,
          132000,
          133000,
          134000,
          135000,
          136000,
          137000,
          138000,
          139000,
          140000,
          141000,
          142000,
          143000
         ],
         "y": [
          -0.6974469423294067,
          0.04771915078163147,
          0.4078015089035034,
          1.1932440996170044,
          1.8560377359390259,
          1.8433938026428223,
          2.3628196716308594,
          1.9960979223251343,
          2.4225189685821533,
          2.5261731147766113,
          2.422247886657715,
          2.1560490131378174,
          2.315804958343506,
          2.756420850753784,
          2.7993170738220217,
          2.8422132968902587,
          2.885109519958496,
          2.928005743026733,
          2.9709019660949707,
          2.9951998710632326,
          3.019497776031494,
          3.043795680999756,
          3.0680935859680174,
          3.0923914909362793,
          3.144391345977783,
          3.196391201019287,
          3.248391056060791,
          3.300390911102295,
          3.352390766143799,
          3.345085048675537,
          3.337779331207275,
          3.330473613739014,
          3.323167896270752,
          3.3158621788024902,
          3.3601420402526854,
          3.404421901702881,
          3.448701763153076,
          3.4929816246032717,
          3.537261486053467,
          3.4823867321014403,
          3.427511978149414,
          3.372637224197388,
          3.3177624702453614,
          3.262887716293335,
          3.4026073455810546,
          3.5423269748687742,
          3.6820466041564943,
          3.821766233444214,
          3.9614858627319336,
          3.9742358207702635,
          3.986985778808594,
          3.9997357368469237,
          4.012485694885254,
          4.025235652923584,
          3.9805383682250977,
          3.9358410835266113,
          3.891143798828125,
          3.8464465141296387,
          3.8017492294311523,
          3.8956336975097656,
          3.989518165588379,
          4.083402633666992,
          4.1772871017456055,
          4.271171569824219,
          4.309825992584228,
          4.3484804153442385,
          4.387134838104248,
          4.425789260864258,
          4.464443683624268,
          4.423270845413208,
          4.382098007202148,
          4.340925168991089,
          4.299752330780029,
          4.25857949256897,
          4.2174066543579105,
          4.17623381614685,
          4.135060977935791,
          4.093888139724731,
          4.052715301513672,
          4.009969091415405,
          3.967222881317139,
          3.924476671218872,
          3.8817304611206054,
          3.838984251022339,
          3.7962380409240724,
          3.753491830825806,
          3.710745620727539,
          3.6679994106292724,
          3.625253200531006,
          3.6081200361251833,
          3.5909868717193603,
          3.5738537073135377,
          3.5567205429077147,
          3.539587378501892,
          3.5224542140960695,
          3.5053210496902465,
          3.488187885284424,
          3.471054720878601,
          3.4539215564727783,
          3.505764389038086,
          3.5576072216033934,
          3.6094500541687013,
          3.661292886734009,
          3.7131357192993164,
          3.764978551864624,
          3.8168213844299315,
          3.8686642169952394,
          3.920507049560547,
          3.9723498821258545,
          3.9614800691604612,
          3.9506102561950684,
          3.939740443229675,
          3.9288706302642824,
          3.918000817298889,
          3.907131004333496,
          3.896261191368103,
          3.88539137840271,
          3.874521565437317,
          3.863651752471924,
          3.831834864616394,
          3.800017976760864,
          3.7682010889053346,
          3.7363842010498045,
          3.704567313194275,
          3.6727504253387453,
          3.6409335374832152,
          3.6091166496276856,
          3.5772997617721556,
          3.545482873916626,
          3.6055633783340455,
          3.665643882751465,
          3.725724387168884,
          3.7858048915863036,
          3.845885396003723,
          3.9059659004211427,
          3.966046404838562,
          4.026126909255981,
          4.086207413673401,
          4.14628791809082,
          4.14628791809082,
          4.14628791809082,
          4.14628791809082
         ],
         "yaxis": "y2"
        }
       ],
       "layout": {
        "legend": {
         "title": {
          "text": "variable"
         },
         "tracegroupgap": 0
        },
        "template": {
         "data": {
          "bar": [
           {
            "error_x": {
             "color": "#2a3f5f"
            },
            "error_y": {
             "color": "#2a3f5f"
            },
            "marker": {
             "line": {
              "color": "#E5ECF6",
              "width": 0.5
             },
             "pattern": {
              "fillmode": "overlay",
              "size": 10,
              "solidity": 0.2
             }
            },
            "type": "bar"
           }
          ],
          "barpolar": [
           {
            "marker": {
             "line": {
              "color": "#E5ECF6",
              "width": 0.5
             },
             "pattern": {
              "fillmode": "overlay",
              "size": 10,
              "solidity": 0.2
             }
            },
            "type": "barpolar"
           }
          ],
          "carpet": [
           {
            "aaxis": {
             "endlinecolor": "#2a3f5f",
             "gridcolor": "white",
             "linecolor": "white",
             "minorgridcolor": "white",
             "startlinecolor": "#2a3f5f"
            },
            "baxis": {
             "endlinecolor": "#2a3f5f",
             "gridcolor": "white",
             "linecolor": "white",
             "minorgridcolor": "white",
             "startlinecolor": "#2a3f5f"
            },
            "type": "carpet"
           }
          ],
          "choropleth": [
           {
            "colorbar": {
             "outlinewidth": 0,
             "ticks": ""
            },
            "type": "choropleth"
           }
          ],
          "contour": [
           {
            "colorbar": {
             "outlinewidth": 0,
             "ticks": ""
            },
            "colorscale": [
             [
              0,
              "#0d0887"
             ],
             [
              0.1111111111111111,
              "#46039f"
             ],
             [
              0.2222222222222222,
              "#7201a8"
             ],
             [
              0.3333333333333333,
              "#9c179e"
             ],
             [
              0.4444444444444444,
              "#bd3786"
             ],
             [
              0.5555555555555556,
              "#d8576b"
             ],
             [
              0.6666666666666666,
              "#ed7953"
             ],
             [
              0.7777777777777778,
              "#fb9f3a"
             ],
             [
              0.8888888888888888,
              "#fdca26"
             ],
             [
              1,
              "#f0f921"
             ]
            ],
            "type": "contour"
           }
          ],
          "contourcarpet": [
           {
            "colorbar": {
             "outlinewidth": 0,
             "ticks": ""
            },
            "type": "contourcarpet"
           }
          ],
          "heatmap": [
           {
            "colorbar": {
             "outlinewidth": 0,
             "ticks": ""
            },
            "colorscale": [
             [
              0,
              "#0d0887"
             ],
             [
              0.1111111111111111,
              "#46039f"
             ],
             [
              0.2222222222222222,
              "#7201a8"
             ],
             [
              0.3333333333333333,
              "#9c179e"
             ],
             [
              0.4444444444444444,
              "#bd3786"
             ],
             [
              0.5555555555555556,
              "#d8576b"
             ],
             [
              0.6666666666666666,
              "#ed7953"
             ],
             [
              0.7777777777777778,
              "#fb9f3a"
             ],
             [
              0.8888888888888888,
              "#fdca26"
             ],
             [
              1,
              "#f0f921"
             ]
            ],
            "type": "heatmap"
           }
          ],
          "heatmapgl": [
           {
            "colorbar": {
             "outlinewidth": 0,
             "ticks": ""
            },
            "colorscale": [
             [
              0,
              "#0d0887"
             ],
             [
              0.1111111111111111,
              "#46039f"
             ],
             [
              0.2222222222222222,
              "#7201a8"
             ],
             [
              0.3333333333333333,
              "#9c179e"
             ],
             [
              0.4444444444444444,
              "#bd3786"
             ],
             [
              0.5555555555555556,
              "#d8576b"
             ],
             [
              0.6666666666666666,
              "#ed7953"
             ],
             [
              0.7777777777777778,
              "#fb9f3a"
             ],
             [
              0.8888888888888888,
              "#fdca26"
             ],
             [
              1,
              "#f0f921"
             ]
            ],
            "type": "heatmapgl"
           }
          ],
          "histogram": [
           {
            "marker": {
             "pattern": {
              "fillmode": "overlay",
              "size": 10,
              "solidity": 0.2
             }
            },
            "type": "histogram"
           }
          ],
          "histogram2d": [
           {
            "colorbar": {
             "outlinewidth": 0,
             "ticks": ""
            },
            "colorscale": [
             [
              0,
              "#0d0887"
             ],
             [
              0.1111111111111111,
              "#46039f"
             ],
             [
              0.2222222222222222,
              "#7201a8"
             ],
             [
              0.3333333333333333,
              "#9c179e"
             ],
             [
              0.4444444444444444,
              "#bd3786"
             ],
             [
              0.5555555555555556,
              "#d8576b"
             ],
             [
              0.6666666666666666,
              "#ed7953"
             ],
             [
              0.7777777777777778,
              "#fb9f3a"
             ],
             [
              0.8888888888888888,
              "#fdca26"
             ],
             [
              1,
              "#f0f921"
             ]
            ],
            "type": "histogram2d"
           }
          ],
          "histogram2dcontour": [
           {
            "colorbar": {
             "outlinewidth": 0,
             "ticks": ""
            },
            "colorscale": [
             [
              0,
              "#0d0887"
             ],
             [
              0.1111111111111111,
              "#46039f"
             ],
             [
              0.2222222222222222,
              "#7201a8"
             ],
             [
              0.3333333333333333,
              "#9c179e"
             ],
             [
              0.4444444444444444,
              "#bd3786"
             ],
             [
              0.5555555555555556,
              "#d8576b"
             ],
             [
              0.6666666666666666,
              "#ed7953"
             ],
             [
              0.7777777777777778,
              "#fb9f3a"
             ],
             [
              0.8888888888888888,
              "#fdca26"
             ],
             [
              1,
              "#f0f921"
             ]
            ],
            "type": "histogram2dcontour"
           }
          ],
          "mesh3d": [
           {
            "colorbar": {
             "outlinewidth": 0,
             "ticks": ""
            },
            "type": "mesh3d"
           }
          ],
          "parcoords": [
           {
            "line": {
             "colorbar": {
              "outlinewidth": 0,
              "ticks": ""
             }
            },
            "type": "parcoords"
           }
          ],
          "pie": [
           {
            "automargin": true,
            "type": "pie"
           }
          ],
          "scatter": [
           {
            "fillpattern": {
             "fillmode": "overlay",
             "size": 10,
             "solidity": 0.2
            },
            "type": "scatter"
           }
          ],
          "scatter3d": [
           {
            "line": {
             "colorbar": {
              "outlinewidth": 0,
              "ticks": ""
             }
            },
            "marker": {
             "colorbar": {
              "outlinewidth": 0,
              "ticks": ""
             }
            },
            "type": "scatter3d"
           }
          ],
          "scattercarpet": [
           {
            "marker": {
             "colorbar": {
              "outlinewidth": 0,
              "ticks": ""
             }
            },
            "type": "scattercarpet"
           }
          ],
          "scattergeo": [
           {
            "marker": {
             "colorbar": {
              "outlinewidth": 0,
              "ticks": ""
             }
            },
            "type": "scattergeo"
           }
          ],
          "scattergl": [
           {
            "marker": {
             "colorbar": {
              "outlinewidth": 0,
              "ticks": ""
             }
            },
            "type": "scattergl"
           }
          ],
          "scattermapbox": [
           {
            "marker": {
             "colorbar": {
              "outlinewidth": 0,
              "ticks": ""
             }
            },
            "type": "scattermapbox"
           }
          ],
          "scatterpolar": [
           {
            "marker": {
             "colorbar": {
              "outlinewidth": 0,
              "ticks": ""
             }
            },
            "type": "scatterpolar"
           }
          ],
          "scatterpolargl": [
           {
            "marker": {
             "colorbar": {
              "outlinewidth": 0,
              "ticks": ""
             }
            },
            "type": "scatterpolargl"
           }
          ],
          "scatterternary": [
           {
            "marker": {
             "colorbar": {
              "outlinewidth": 0,
              "ticks": ""
             }
            },
            "type": "scatterternary"
           }
          ],
          "surface": [
           {
            "colorbar": {
             "outlinewidth": 0,
             "ticks": ""
            },
            "colorscale": [
             [
              0,
              "#0d0887"
             ],
             [
              0.1111111111111111,
              "#46039f"
             ],
             [
              0.2222222222222222,
              "#7201a8"
             ],
             [
              0.3333333333333333,
              "#9c179e"
             ],
             [
              0.4444444444444444,
              "#bd3786"
             ],
             [
              0.5555555555555556,
              "#d8576b"
             ],
             [
              0.6666666666666666,
              "#ed7953"
             ],
             [
              0.7777777777777778,
              "#fb9f3a"
             ],
             [
              0.8888888888888888,
              "#fdca26"
             ],
             [
              1,
              "#f0f921"
             ]
            ],
            "type": "surface"
           }
          ],
          "table": [
           {
            "cells": {
             "fill": {
              "color": "#EBF0F8"
             },
             "line": {
              "color": "white"
             }
            },
            "header": {
             "fill": {
              "color": "#C8D4E3"
             },
             "line": {
              "color": "white"
             }
            },
            "type": "table"
           }
          ]
         },
         "layout": {
          "annotationdefaults": {
           "arrowcolor": "#2a3f5f",
           "arrowhead": 0,
           "arrowwidth": 1
          },
          "autotypenumbers": "strict",
          "coloraxis": {
           "colorbar": {
            "outlinewidth": 0,
            "ticks": ""
           }
          },
          "colorscale": {
           "diverging": [
            [
             0,
             "#8e0152"
            ],
            [
             0.1,
             "#c51b7d"
            ],
            [
             0.2,
             "#de77ae"
            ],
            [
             0.3,
             "#f1b6da"
            ],
            [
             0.4,
             "#fde0ef"
            ],
            [
             0.5,
             "#f7f7f7"
            ],
            [
             0.6,
             "#e6f5d0"
            ],
            [
             0.7,
             "#b8e186"
            ],
            [
             0.8,
             "#7fbc41"
            ],
            [
             0.9,
             "#4d9221"
            ],
            [
             1,
             "#276419"
            ]
           ],
           "sequential": [
            [
             0,
             "#0d0887"
            ],
            [
             0.1111111111111111,
             "#46039f"
            ],
            [
             0.2222222222222222,
             "#7201a8"
            ],
            [
             0.3333333333333333,
             "#9c179e"
            ],
            [
             0.4444444444444444,
             "#bd3786"
            ],
            [
             0.5555555555555556,
             "#d8576b"
            ],
            [
             0.6666666666666666,
             "#ed7953"
            ],
            [
             0.7777777777777778,
             "#fb9f3a"
            ],
            [
             0.8888888888888888,
             "#fdca26"
            ],
            [
             1,
             "#f0f921"
            ]
           ],
           "sequentialminus": [
            [
             0,
             "#0d0887"
            ],
            [
             0.1111111111111111,
             "#46039f"
            ],
            [
             0.2222222222222222,
             "#7201a8"
            ],
            [
             0.3333333333333333,
             "#9c179e"
            ],
            [
             0.4444444444444444,
             "#bd3786"
            ],
            [
             0.5555555555555556,
             "#d8576b"
            ],
            [
             0.6666666666666666,
             "#ed7953"
            ],
            [
             0.7777777777777778,
             "#fb9f3a"
            ],
            [
             0.8888888888888888,
             "#fdca26"
            ],
            [
             1,
             "#f0f921"
            ]
           ]
          },
          "colorway": [
           "#636efa",
           "#EF553B",
           "#00cc96",
           "#ab63fa",
           "#FFA15A",
           "#19d3f3",
           "#FF6692",
           "#B6E880",
           "#FF97FF",
           "#FECB52"
          ],
          "font": {
           "color": "#2a3f5f"
          },
          "geo": {
           "bgcolor": "white",
           "lakecolor": "white",
           "landcolor": "#E5ECF6",
           "showlakes": true,
           "showland": true,
           "subunitcolor": "white"
          },
          "hoverlabel": {
           "align": "left"
          },
          "hovermode": "closest",
          "mapbox": {
           "style": "light"
          },
          "paper_bgcolor": "white",
          "plot_bgcolor": "#E5ECF6",
          "polar": {
           "angularaxis": {
            "gridcolor": "white",
            "linecolor": "white",
            "ticks": ""
           },
           "bgcolor": "#E5ECF6",
           "radialaxis": {
            "gridcolor": "white",
            "linecolor": "white",
            "ticks": ""
           }
          },
          "scene": {
           "xaxis": {
            "backgroundcolor": "#E5ECF6",
            "gridcolor": "white",
            "gridwidth": 2,
            "linecolor": "white",
            "showbackground": true,
            "ticks": "",
            "zerolinecolor": "white"
           },
           "yaxis": {
            "backgroundcolor": "#E5ECF6",
            "gridcolor": "white",
            "gridwidth": 2,
            "linecolor": "white",
            "showbackground": true,
            "ticks": "",
            "zerolinecolor": "white"
           },
           "zaxis": {
            "backgroundcolor": "#E5ECF6",
            "gridcolor": "white",
            "gridwidth": 2,
            "linecolor": "white",
            "showbackground": true,
            "ticks": "",
            "zerolinecolor": "white"
           }
          },
          "shapedefaults": {
           "line": {
            "color": "#2a3f5f"
           }
          },
          "ternary": {
           "aaxis": {
            "gridcolor": "white",
            "linecolor": "white",
            "ticks": ""
           },
           "baxis": {
            "gridcolor": "white",
            "linecolor": "white",
            "ticks": ""
           },
           "bgcolor": "#E5ECF6",
           "caxis": {
            "gridcolor": "white",
            "linecolor": "white",
            "ticks": ""
           }
          },
          "title": {
           "x": 0.05
          },
          "xaxis": {
           "automargin": true,
           "gridcolor": "white",
           "linecolor": "white",
           "ticks": "",
           "title": {
            "standoff": 15
           },
           "zerolinecolor": "white",
           "zerolinewidth": 2
          },
          "yaxis": {
           "automargin": true,
           "gridcolor": "white",
           "linecolor": "white",
           "ticks": "",
           "title": {
            "standoff": 15
           },
           "zerolinecolor": "white",
           "zerolinewidth": 2
          }
         }
        },
        "title": {
         "text": "Jaccard Similarity Over Time"
        },
        "xaxis": {
         "anchor": "y",
         "domain": [
          0,
          1
         ],
         "title": {
          "text": "checkpoint_2"
         },
         "type": "log"
        },
        "yaxis": {
         "anchor": "x",
         "domain": [
          0,
          1
         ],
         "title": {
          "text": "Jaccard Similarity"
         }
        },
        "yaxis2": {
         "overlaying": "y",
         "showgrid": false,
         "side": "right",
         "title": {
          "text": "Probability Difference"
         }
        }
       }
      },
      "text/html": [
       "<div>                            <div id=\"74f9c0e6-7116-45ff-92b7-7d7df9f59ab2\" class=\"plotly-graph-div\" style=\"height:525px; width:100%;\"></div>            <script type=\"text/javascript\">                require([\"plotly\"], function(Plotly) {                    window.PLOTLYENV=window.PLOTLYENV || {};                                    if (document.getElementById(\"74f9c0e6-7116-45ff-92b7-7d7df9f59ab2\")) {                    Plotly.newPlot(                        \"74f9c0e6-7116-45ff-92b7-7d7df9f59ab2\",                        [{\"hovertemplate\":\"variable=jaccard_similarity\\u003cbr\\u003echeckpoint_2=%{x}\\u003cbr\\u003evalue=%{y}\\u003cextra\\u003e\\u003c\\u002fextra\\u003e\",\"legendgroup\":\"jaccard_similarity\",\"line\":{\"color\":\"lightblue\",\"dash\":\"solid\"},\"marker\":{\"symbol\":\"circle\"},\"mode\":\"lines\",\"name\":\"jaccard_similarity\",\"orientation\":\"v\",\"showlegend\":true,\"x\":[2000,3000,4000,5000,6000,7000,8000,9000,10000,11000,12000,13000,14000,15000,16000,17000,18000,19000,20000,21000,22000,23000,24000,25000,26000,27000,28000,29000,30000,31000,32000,33000,34000,35000,36000,37000,38000,39000,40000,41000,42000,43000,44000,45000,46000,47000,48000,49000,50000,51000,52000,53000,54000,55000,56000,57000,58000,59000,60000,61000,62000,63000,64000,65000,66000,67000,68000,69000,70000,71000,72000,73000,74000,75000,76000,77000,78000,79000,80000,81000,82000,83000,84000,85000,86000,87000,88000,89000,90000,91000,92000,93000,94000,95000,96000,97000,98000,99000,100000,101000,102000,103000,104000,105000,106000,107000,108000,109000,110000,111000,112000,113000,114000,115000,116000,117000,118000,119000,120000,121000,122000,123000,124000,125000,126000,127000,128000,129000,130000,131000,132000,133000,134000,135000,136000,137000,138000,139000,140000,141000,142000,143000],\"xaxis\":\"x\",\"y\":[0.0,0.0,0.10256410256410256,0.58,0.6732673267326733,0.6788990825688074,0.6173913043478261,0.6756756756756757,0.2897196261682243,0.24770642201834864,0.7383177570093458,0.6491228070175439,0.6607142857142857,0.7523809523809524,0.41317365269461076,0.8378378378378378,0.831081081081081,0.808641975308642,0.45121951219512196,0.3721973094170404,0.6045454545454545,0.8639455782312925,0.6052631578947368,0.39035087719298245,0.3230769230769231,0.6216216216216216,0.7168141592920354,0.6636771300448431,0.43373493975903615,0.4177215189873418,0.8159509202453987,0.7727272727272727,0.6091205211726385,0.2993421052631579,0.24722222222222223,0.3185595567867036,0.6845238095238095,0.6475409836065574,0.379746835443038,0.22826086956521738,0.5121951219512195,0.4630071599045346,0.4964200477326969,0.3744292237442922,0.2459016393442623,0.19452054794520549,0.7752808988764045,0.23387096774193547,0.24731182795698925,0.41228070175438597,0.7619047619047619,0.20680628272251309,0.7373949579831933,0.19239373601789708,0.3176895306859206,0.7214484679665738,0.20234604105571846,0.125,0.15913200723327306,0.35537190082644626,0.7673469387755102,0.5263157894736842,0.27019498607242337,0.42857142857142855,0.41007194244604317,0.7314814814814815,0.32270916334661354,0.8064516129032258,0.33858267716535434,0.4782608695652174,0.30256410256410254,0.2948717948717949,0.5958549222797928,0.7678571428571429,0.7553648068669528,0.5024875621890548,0.1984924623115578,0.8571428571428571,0.3333333333333333,0.3483606557377049,0.3347107438016529,0.8235294117647058,0.7395833333333334,0.7796610169491526,0.6610169491525424,0.5649717514124294,0.5339805825242718,0.85,0.27927927927927926,0.391812865497076,0.7664670658682635,0.5333333333333333,0.7727272727272727,0.7922077922077922,0.5378151260504201,0.6916666666666667,0.81,0.5465116279069767,0.4,0.3003533568904594,0.6330049261083743,0.3989769820971867,0.5914634146341463,0.3177257525083612,0.49080882352941174,0.21663442940038685,0.4810126582278481,0.3319327731092437,0.3333333333333333,0.296,0.2624113475177305,0.6525679758308157,0.35793357933579334,0.2549019607843137,0.27956989247311825,0.26881720430107525,0.13020833333333334,0.48556430446194226,0.24266666666666667,0.3648068669527897,0.47533632286995514,0.24305555555555555,0.20272904483430798,0.5538922155688623,0.6071428571428571,0.05893909626719057,0.25892857142857145,0.24288840262582057,0.2013129102844639,0.2283464566929134,0.47150259067357514,0.026041666666666668,0.036231884057971016,0.47101449275362317,0.6135593220338983,0.29656160458452724,0.31347517730496455,0.4258188824662813,0.1761252446183953,0.31800766283524906,0.5042194092827004,0.6115241635687733],\"yaxis\":\"y\",\"type\":\"scatter\"},{\"line\":{\"color\":\"black\"},\"mode\":\"lines\",\"name\":\"perf_metric\",\"x\":[2000,3000,4000,5000,6000,7000,8000,9000,10000,11000,12000,13000,14000,15000,16000,17000,18000,19000,20000,21000,22000,23000,24000,25000,26000,27000,28000,29000,30000,31000,32000,33000,34000,35000,36000,37000,38000,39000,40000,41000,42000,43000,44000,45000,46000,47000,48000,49000,50000,51000,52000,53000,54000,55000,56000,57000,58000,59000,60000,61000,62000,63000,64000,65000,66000,67000,68000,69000,70000,71000,72000,73000,74000,75000,76000,77000,78000,79000,80000,81000,82000,83000,84000,85000,86000,87000,88000,89000,90000,91000,92000,93000,94000,95000,96000,97000,98000,99000,100000,101000,102000,103000,104000,105000,106000,107000,108000,109000,110000,111000,112000,113000,114000,115000,116000,117000,118000,119000,120000,121000,122000,123000,124000,125000,126000,127000,128000,129000,130000,131000,132000,133000,134000,135000,136000,137000,138000,139000,140000,141000,142000,143000],\"y\":[-0.6974469423294067,0.04771915078163147,0.4078015089035034,1.1932440996170044,1.8560377359390259,1.8433938026428223,2.3628196716308594,1.9960979223251343,2.4225189685821533,2.5261731147766113,2.422247886657715,2.1560490131378174,2.315804958343506,2.756420850753784,2.7993170738220217,2.8422132968902587,2.885109519958496,2.928005743026733,2.9709019660949707,2.9951998710632326,3.019497776031494,3.043795680999756,3.0680935859680174,3.0923914909362793,3.144391345977783,3.196391201019287,3.248391056060791,3.300390911102295,3.352390766143799,3.345085048675537,3.337779331207275,3.330473613739014,3.323167896270752,3.3158621788024902,3.3601420402526854,3.404421901702881,3.448701763153076,3.4929816246032717,3.537261486053467,3.4823867321014403,3.427511978149414,3.372637224197388,3.3177624702453614,3.262887716293335,3.4026073455810546,3.5423269748687742,3.6820466041564943,3.821766233444214,3.9614858627319336,3.9742358207702635,3.986985778808594,3.9997357368469237,4.012485694885254,4.025235652923584,3.9805383682250977,3.9358410835266113,3.891143798828125,3.8464465141296387,3.8017492294311523,3.8956336975097656,3.989518165588379,4.083402633666992,4.1772871017456055,4.271171569824219,4.309825992584228,4.3484804153442385,4.387134838104248,4.425789260864258,4.464443683624268,4.423270845413208,4.382098007202148,4.340925168991089,4.299752330780029,4.25857949256897,4.2174066543579105,4.17623381614685,4.135060977935791,4.093888139724731,4.052715301513672,4.009969091415405,3.967222881317139,3.924476671218872,3.8817304611206054,3.838984251022339,3.7962380409240724,3.753491830825806,3.710745620727539,3.6679994106292724,3.625253200531006,3.6081200361251833,3.5909868717193603,3.5738537073135377,3.5567205429077147,3.539587378501892,3.5224542140960695,3.5053210496902465,3.488187885284424,3.471054720878601,3.4539215564727783,3.505764389038086,3.5576072216033934,3.6094500541687013,3.661292886734009,3.7131357192993164,3.764978551864624,3.8168213844299315,3.8686642169952394,3.920507049560547,3.9723498821258545,3.9614800691604612,3.9506102561950684,3.939740443229675,3.9288706302642824,3.918000817298889,3.907131004333496,3.896261191368103,3.88539137840271,3.874521565437317,3.863651752471924,3.831834864616394,3.800017976760864,3.7682010889053346,3.7363842010498045,3.704567313194275,3.6727504253387453,3.6409335374832152,3.6091166496276856,3.5772997617721556,3.545482873916626,3.6055633783340455,3.665643882751465,3.725724387168884,3.7858048915863036,3.845885396003723,3.9059659004211427,3.966046404838562,4.026126909255981,4.086207413673401,4.14628791809082,4.14628791809082,4.14628791809082,4.14628791809082],\"yaxis\":\"y2\",\"type\":\"scatter\"}],                        {\"template\":{\"data\":{\"histogram2dcontour\":[{\"type\":\"histogram2dcontour\",\"colorbar\":{\"outlinewidth\":0,\"ticks\":\"\"},\"colorscale\":[[0.0,\"#0d0887\"],[0.1111111111111111,\"#46039f\"],[0.2222222222222222,\"#7201a8\"],[0.3333333333333333,\"#9c179e\"],[0.4444444444444444,\"#bd3786\"],[0.5555555555555556,\"#d8576b\"],[0.6666666666666666,\"#ed7953\"],[0.7777777777777778,\"#fb9f3a\"],[0.8888888888888888,\"#fdca26\"],[1.0,\"#f0f921\"]]}],\"choropleth\":[{\"type\":\"choropleth\",\"colorbar\":{\"outlinewidth\":0,\"ticks\":\"\"}}],\"histogram2d\":[{\"type\":\"histogram2d\",\"colorbar\":{\"outlinewidth\":0,\"ticks\":\"\"},\"colorscale\":[[0.0,\"#0d0887\"],[0.1111111111111111,\"#46039f\"],[0.2222222222222222,\"#7201a8\"],[0.3333333333333333,\"#9c179e\"],[0.4444444444444444,\"#bd3786\"],[0.5555555555555556,\"#d8576b\"],[0.6666666666666666,\"#ed7953\"],[0.7777777777777778,\"#fb9f3a\"],[0.8888888888888888,\"#fdca26\"],[1.0,\"#f0f921\"]]}],\"heatmap\":[{\"type\":\"heatmap\",\"colorbar\":{\"outlinewidth\":0,\"ticks\":\"\"},\"colorscale\":[[0.0,\"#0d0887\"],[0.1111111111111111,\"#46039f\"],[0.2222222222222222,\"#7201a8\"],[0.3333333333333333,\"#9c179e\"],[0.4444444444444444,\"#bd3786\"],[0.5555555555555556,\"#d8576b\"],[0.6666666666666666,\"#ed7953\"],[0.7777777777777778,\"#fb9f3a\"],[0.8888888888888888,\"#fdca26\"],[1.0,\"#f0f921\"]]}],\"heatmapgl\":[{\"type\":\"heatmapgl\",\"colorbar\":{\"outlinewidth\":0,\"ticks\":\"\"},\"colorscale\":[[0.0,\"#0d0887\"],[0.1111111111111111,\"#46039f\"],[0.2222222222222222,\"#7201a8\"],[0.3333333333333333,\"#9c179e\"],[0.4444444444444444,\"#bd3786\"],[0.5555555555555556,\"#d8576b\"],[0.6666666666666666,\"#ed7953\"],[0.7777777777777778,\"#fb9f3a\"],[0.8888888888888888,\"#fdca26\"],[1.0,\"#f0f921\"]]}],\"contourcarpet\":[{\"type\":\"contourcarpet\",\"colorbar\":{\"outlinewidth\":0,\"ticks\":\"\"}}],\"contour\":[{\"type\":\"contour\",\"colorbar\":{\"outlinewidth\":0,\"ticks\":\"\"},\"colorscale\":[[0.0,\"#0d0887\"],[0.1111111111111111,\"#46039f\"],[0.2222222222222222,\"#7201a8\"],[0.3333333333333333,\"#9c179e\"],[0.4444444444444444,\"#bd3786\"],[0.5555555555555556,\"#d8576b\"],[0.6666666666666666,\"#ed7953\"],[0.7777777777777778,\"#fb9f3a\"],[0.8888888888888888,\"#fdca26\"],[1.0,\"#f0f921\"]]}],\"surface\":[{\"type\":\"surface\",\"colorbar\":{\"outlinewidth\":0,\"ticks\":\"\"},\"colorscale\":[[0.0,\"#0d0887\"],[0.1111111111111111,\"#46039f\"],[0.2222222222222222,\"#7201a8\"],[0.3333333333333333,\"#9c179e\"],[0.4444444444444444,\"#bd3786\"],[0.5555555555555556,\"#d8576b\"],[0.6666666666666666,\"#ed7953\"],[0.7777777777777778,\"#fb9f3a\"],[0.8888888888888888,\"#fdca26\"],[1.0,\"#f0f921\"]]}],\"mesh3d\":[{\"type\":\"mesh3d\",\"colorbar\":{\"outlinewidth\":0,\"ticks\":\"\"}}],\"scatter\":[{\"fillpattern\":{\"fillmode\":\"overlay\",\"size\":10,\"solidity\":0.2},\"type\":\"scatter\"}],\"parcoords\":[{\"type\":\"parcoords\",\"line\":{\"colorbar\":{\"outlinewidth\":0,\"ticks\":\"\"}}}],\"scatterpolargl\":[{\"type\":\"scatterpolargl\",\"marker\":{\"colorbar\":{\"outlinewidth\":0,\"ticks\":\"\"}}}],\"bar\":[{\"error_x\":{\"color\":\"#2a3f5f\"},\"error_y\":{\"color\":\"#2a3f5f\"},\"marker\":{\"line\":{\"color\":\"#E5ECF6\",\"width\":0.5},\"pattern\":{\"fillmode\":\"overlay\",\"size\":10,\"solidity\":0.2}},\"type\":\"bar\"}],\"scattergeo\":[{\"type\":\"scattergeo\",\"marker\":{\"colorbar\":{\"outlinewidth\":0,\"ticks\":\"\"}}}],\"scatterpolar\":[{\"type\":\"scatterpolar\",\"marker\":{\"colorbar\":{\"outlinewidth\":0,\"ticks\":\"\"}}}],\"histogram\":[{\"marker\":{\"pattern\":{\"fillmode\":\"overlay\",\"size\":10,\"solidity\":0.2}},\"type\":\"histogram\"}],\"scattergl\":[{\"type\":\"scattergl\",\"marker\":{\"colorbar\":{\"outlinewidth\":0,\"ticks\":\"\"}}}],\"scatter3d\":[{\"type\":\"scatter3d\",\"line\":{\"colorbar\":{\"outlinewidth\":0,\"ticks\":\"\"}},\"marker\":{\"colorbar\":{\"outlinewidth\":0,\"ticks\":\"\"}}}],\"scattermapbox\":[{\"type\":\"scattermapbox\",\"marker\":{\"colorbar\":{\"outlinewidth\":0,\"ticks\":\"\"}}}],\"scatterternary\":[{\"type\":\"scatterternary\",\"marker\":{\"colorbar\":{\"outlinewidth\":0,\"ticks\":\"\"}}}],\"scattercarpet\":[{\"type\":\"scattercarpet\",\"marker\":{\"colorbar\":{\"outlinewidth\":0,\"ticks\":\"\"}}}],\"carpet\":[{\"aaxis\":{\"endlinecolor\":\"#2a3f5f\",\"gridcolor\":\"white\",\"linecolor\":\"white\",\"minorgridcolor\":\"white\",\"startlinecolor\":\"#2a3f5f\"},\"baxis\":{\"endlinecolor\":\"#2a3f5f\",\"gridcolor\":\"white\",\"linecolor\":\"white\",\"minorgridcolor\":\"white\",\"startlinecolor\":\"#2a3f5f\"},\"type\":\"carpet\"}],\"table\":[{\"cells\":{\"fill\":{\"color\":\"#EBF0F8\"},\"line\":{\"color\":\"white\"}},\"header\":{\"fill\":{\"color\":\"#C8D4E3\"},\"line\":{\"color\":\"white\"}},\"type\":\"table\"}],\"barpolar\":[{\"marker\":{\"line\":{\"color\":\"#E5ECF6\",\"width\":0.5},\"pattern\":{\"fillmode\":\"overlay\",\"size\":10,\"solidity\":0.2}},\"type\":\"barpolar\"}],\"pie\":[{\"automargin\":true,\"type\":\"pie\"}]},\"layout\":{\"autotypenumbers\":\"strict\",\"colorway\":[\"#636efa\",\"#EF553B\",\"#00cc96\",\"#ab63fa\",\"#FFA15A\",\"#19d3f3\",\"#FF6692\",\"#B6E880\",\"#FF97FF\",\"#FECB52\"],\"font\":{\"color\":\"#2a3f5f\"},\"hovermode\":\"closest\",\"hoverlabel\":{\"align\":\"left\"},\"paper_bgcolor\":\"white\",\"plot_bgcolor\":\"#E5ECF6\",\"polar\":{\"bgcolor\":\"#E5ECF6\",\"angularaxis\":{\"gridcolor\":\"white\",\"linecolor\":\"white\",\"ticks\":\"\"},\"radialaxis\":{\"gridcolor\":\"white\",\"linecolor\":\"white\",\"ticks\":\"\"}},\"ternary\":{\"bgcolor\":\"#E5ECF6\",\"aaxis\":{\"gridcolor\":\"white\",\"linecolor\":\"white\",\"ticks\":\"\"},\"baxis\":{\"gridcolor\":\"white\",\"linecolor\":\"white\",\"ticks\":\"\"},\"caxis\":{\"gridcolor\":\"white\",\"linecolor\":\"white\",\"ticks\":\"\"}},\"coloraxis\":{\"colorbar\":{\"outlinewidth\":0,\"ticks\":\"\"}},\"colorscale\":{\"sequential\":[[0.0,\"#0d0887\"],[0.1111111111111111,\"#46039f\"],[0.2222222222222222,\"#7201a8\"],[0.3333333333333333,\"#9c179e\"],[0.4444444444444444,\"#bd3786\"],[0.5555555555555556,\"#d8576b\"],[0.6666666666666666,\"#ed7953\"],[0.7777777777777778,\"#fb9f3a\"],[0.8888888888888888,\"#fdca26\"],[1.0,\"#f0f921\"]],\"sequentialminus\":[[0.0,\"#0d0887\"],[0.1111111111111111,\"#46039f\"],[0.2222222222222222,\"#7201a8\"],[0.3333333333333333,\"#9c179e\"],[0.4444444444444444,\"#bd3786\"],[0.5555555555555556,\"#d8576b\"],[0.6666666666666666,\"#ed7953\"],[0.7777777777777778,\"#fb9f3a\"],[0.8888888888888888,\"#fdca26\"],[1.0,\"#f0f921\"]],\"diverging\":[[0,\"#8e0152\"],[0.1,\"#c51b7d\"],[0.2,\"#de77ae\"],[0.3,\"#f1b6da\"],[0.4,\"#fde0ef\"],[0.5,\"#f7f7f7\"],[0.6,\"#e6f5d0\"],[0.7,\"#b8e186\"],[0.8,\"#7fbc41\"],[0.9,\"#4d9221\"],[1,\"#276419\"]]},\"xaxis\":{\"gridcolor\":\"white\",\"linecolor\":\"white\",\"ticks\":\"\",\"title\":{\"standoff\":15},\"zerolinecolor\":\"white\",\"automargin\":true,\"zerolinewidth\":2},\"yaxis\":{\"gridcolor\":\"white\",\"linecolor\":\"white\",\"ticks\":\"\",\"title\":{\"standoff\":15},\"zerolinecolor\":\"white\",\"automargin\":true,\"zerolinewidth\":2},\"scene\":{\"xaxis\":{\"backgroundcolor\":\"#E5ECF6\",\"gridcolor\":\"white\",\"linecolor\":\"white\",\"showbackground\":true,\"ticks\":\"\",\"zerolinecolor\":\"white\",\"gridwidth\":2},\"yaxis\":{\"backgroundcolor\":\"#E5ECF6\",\"gridcolor\":\"white\",\"linecolor\":\"white\",\"showbackground\":true,\"ticks\":\"\",\"zerolinecolor\":\"white\",\"gridwidth\":2},\"zaxis\":{\"backgroundcolor\":\"#E5ECF6\",\"gridcolor\":\"white\",\"linecolor\":\"white\",\"showbackground\":true,\"ticks\":\"\",\"zerolinecolor\":\"white\",\"gridwidth\":2}},\"shapedefaults\":{\"line\":{\"color\":\"#2a3f5f\"}},\"annotationdefaults\":{\"arrowcolor\":\"#2a3f5f\",\"arrowhead\":0,\"arrowwidth\":1},\"geo\":{\"bgcolor\":\"white\",\"landcolor\":\"#E5ECF6\",\"subunitcolor\":\"white\",\"showland\":true,\"showlakes\":true,\"lakecolor\":\"white\"},\"title\":{\"x\":0.05},\"mapbox\":{\"style\":\"light\"}}},\"xaxis\":{\"anchor\":\"y\",\"domain\":[0.0,1.0],\"title\":{\"text\":\"checkpoint_2\"},\"type\":\"log\"},\"yaxis\":{\"anchor\":\"x\",\"domain\":[0.0,1.0],\"title\":{\"text\":\"Jaccard Similarity\"}},\"legend\":{\"title\":{\"text\":\"variable\"},\"tracegroupgap\":0},\"title\":{\"text\":\"Jaccard Similarity Over Time\"},\"yaxis2\":{\"title\":{\"text\":\"Probability Difference\"},\"overlaying\":\"y\",\"side\":\"right\",\"showgrid\":false}},                        {\"responsive\": true}                    ).then(function(){\n",
       "                            \n",
       "var gd = document.getElementById('74f9c0e6-7116-45ff-92b7-7d7df9f59ab2');\n",
       "var x = new MutationObserver(function (mutations, observer) {{\n",
       "        var display = window.getComputedStyle(gd).display;\n",
       "        if (!display || display === 'none') {{\n",
       "            console.log([gd, 'removed!']);\n",
       "            Plotly.purge(gd);\n",
       "            observer.disconnect();\n",
       "        }}\n",
       "}});\n",
       "\n",
       "// Listen for the removal of the full notebook cells\n",
       "var notebookContainer = gd.closest('#notebook-container');\n",
       "if (notebookContainer) {{\n",
       "    x.observe(notebookContainer, {childList: true});\n",
       "}}\n",
       "\n",
       "// Listen for the clearing of the current output cell\n",
       "var outputEl = gd.closest('.output');\n",
       "if (outputEl) {{\n",
       "    x.observe(outputEl, {childList: true});\n",
       "}}\n",
       "\n",
       "                        })                };                });            </script>        </div>"
      ]
     },
     "metadata": {},
     "output_type": "display_data"
    }
   ],
   "source": [
    "jaccard_results = compute_jaccard_similarity(df)\n",
    "\n",
    "# Add a new column for the performance metric by mapping the checkpoint_2 values using the perf_metric_dict\n",
    "jaccard_results['perf_metric'] = jaccard_results['checkpoint_2'].map(perf_metric_dict)\n",
    "\n",
    "# Interpolate missing values\n",
    "jaccard_results['perf_metric'] = jaccard_results['perf_metric'].interpolate(method='linear')\n",
    "\n",
    "# plot jaccard similarity over time\n",
    "fig = px.line(jaccard_results, x='checkpoint_2', y=['jaccard_similarity'], title='Jaccard Similarity Over Time', log_x=True)\n",
    "\n",
    "# Specify colors for each line\n",
    "colors = {'jaccard_similarity': 'lightblue', 'perf_metric': 'black'}\n",
    "\n",
    "# Update each trace with the specified color\n",
    "for i, trace in enumerate(fig.data):\n",
    "    fig.data[i].update(line=dict(color=colors[trace.name]))\n",
    "\n",
    "\n",
    "fig.update_layout(\n",
    "    yaxis2=dict(title=\"Probability Difference\", overlaying=\"y\", side=\"right\", showgrid=False)\n",
    ")\n",
    "fig.add_trace(\n",
    "    go.Scatter(x=jaccard_results['checkpoint_2'], y=jaccard_results['perf_metric'], name='perf_metric', mode='lines', yaxis='y2', line=dict(color=colors['perf_metric']))\n",
    ")\n",
    "\n",
    "# Optional: Update the layout if you need to adjust titles or other aesthetics\n",
    "fig.update_layout(\n",
    "    yaxis_title=\"Jaccard Similarity\"\n",
    ")\n",
    "\n",
    "fig.show()"
   ]
  },
  {
   "cell_type": "code",
   "execution_count": 37,
   "metadata": {},
   "outputs": [
    {
     "data": {
      "application/vnd.plotly.v1+json": {
       "config": {
        "plotlyServerURL": "https://plot.ly"
       },
       "data": [
        {
         "hovertemplate": "variable=jaccard_similarity<br>checkpoint=%{x}<br>value=%{y}<extra></extra>",
         "legendgroup": "jaccard_similarity",
         "line": {
          "color": "lightblue",
          "dash": "solid"
         },
         "marker": {
          "symbol": "circle"
         },
         "mode": "lines",
         "name": "jaccard_similarity",
         "orientation": "v",
         "showlegend": true,
         "type": "scatter",
         "x": [
          1000,
          2000,
          3000,
          4000,
          6000,
          7000,
          8000,
          9000,
          10000,
          11000,
          12000,
          13000,
          14000,
          15000,
          16000,
          17000,
          18000,
          19000,
          20000,
          21000,
          22000,
          23000,
          24000,
          25000,
          26000,
          27000,
          28000,
          29000,
          30000,
          31000,
          32000,
          33000,
          34000,
          35000,
          36000,
          37000,
          38000,
          39000,
          40000,
          41000,
          42000,
          43000,
          44000,
          45000,
          46000,
          47000,
          48000,
          49000,
          50000,
          51000,
          52000,
          53000,
          54000,
          55000,
          56000,
          57000,
          58000,
          59000,
          60000,
          61000,
          62000,
          63000,
          64000,
          65000,
          66000,
          67000,
          68000,
          69000,
          70000,
          71000,
          72000,
          73000,
          74000,
          75000,
          76000,
          77000,
          78000,
          79000,
          80000,
          81000,
          82000,
          83000,
          84000,
          85000,
          86000,
          87000,
          88000,
          89000,
          90000,
          91000,
          92000,
          93000,
          94000,
          95000,
          96000,
          97000,
          98000,
          99000,
          100000,
          101000,
          102000,
          103000,
          104000,
          105000,
          106000,
          107000,
          108000,
          109000,
          110000,
          111000,
          112000,
          113000,
          114000,
          115000,
          116000,
          117000,
          118000,
          119000,
          120000,
          121000,
          122000,
          123000,
          124000,
          125000,
          126000,
          127000,
          128000,
          129000,
          130000,
          131000,
          132000,
          133000,
          134000,
          135000,
          136000,
          137000,
          138000,
          139000,
          140000,
          141000,
          142000,
          143000
         ],
         "xaxis": "x",
         "y": [
          0,
          0,
          0.1,
          0.58,
          0.6732673267326733,
          0.5675675675675675,
          0.4827586206896552,
          0.5130434782608696,
          0.22772277227722773,
          0.3983739837398374,
          0.38095238095238093,
          0.38095238095238093,
          0.3543307086614173,
          0.3230769230769231,
          0.21081081081081082,
          0.21637426900584794,
          0.21195652173913043,
          0.20418848167539266,
          0.23529411764705882,
          0.16862745098039217,
          0.16847826086956522,
          0.1837837837837838,
          0.1455223880597015,
          0.22302158273381295,
          0.13993174061433447,
          0.14953271028037382,
          0.15267175572519084,
          0.15656565656565657,
          0.26119402985074625,
          0.15591397849462366,
          0.15311004784688995,
          0.14893617021276595,
          0.12941176470588237,
          0.2391304347826087,
          0.12020460358056266,
          0.16470588235294117,
          0.15023474178403756,
          0.14855072463768115,
          0.20567375886524822,
          0.11335012594458438,
          0.14049586776859505,
          0.1244343891402715,
          0.15079365079365079,
          0.1793103448275862,
          0.12090680100755667,
          0.1796875,
          0.15172413793103448,
          0.12437810945273632,
          0.19444444444444445,
          0.14615384615384616,
          0.1276595744680851,
          0.11325301204819277,
          0.10062893081761007,
          0.2,
          0.12618296529968454,
          0.12566844919786097,
          0.15503875968992248,
          0.0821917808219178,
          0.19014084507042253,
          0.12323943661971831,
          0.14166666666666666,
          0.10353535353535354,
          0.17763157894736842,
          0.1875,
          0.16352201257861634,
          0.15714285714285714,
          0.13793103448275862,
          0.12457912457912458,
          0.19424460431654678,
          0.1511627906976744,
          0.10849056603773585,
          0.16766467065868262,
          0.128099173553719,
          0.12749003984063745,
          0.1394422310756972,
          0.10138248847926268,
          0.16911764705882354,
          0.17164179104477612,
          0.176056338028169,
          0.12982456140350876,
          0.15,
          0.15789473684210525,
          0.17687074829931973,
          0.16568047337278108,
          0.13716814159292035,
          0.16129032258064516,
          0.1694915254237288,
          0.1875,
          0.19858156028368795,
          0.16243654822335024,
          0.1414141414141414,
          0.17985611510791366,
          0.15151515151515152,
          0.1774193548387097,
          0.1588235294117647,
          0.16901408450704225,
          0.15894039735099338,
          0.15137614678899083,
          0.20863309352517986,
          0.1111111111111111,
          0.08430913348946135,
          0.15639810426540285,
          0.14935064935064934,
          0.10882352941176471,
          0.08196721311475409,
          0.15384615384615385,
          0.12455516014234876,
          0.15827338129496402,
          0.21014492753623187,
          0.15671641791044777,
          0.11076923076923077,
          0.11612903225806452,
          0.1375,
          0.16483516483516483,
          0.1456953642384106,
          0.14130434782608695,
          0.14767932489451477,
          0.09927360774818401,
          0.19444444444444445,
          0.137546468401487,
          0.09168443496801706,
          0.15625,
          0.08226691042047532,
          0.08021390374331551,
          0.07678244972577697,
          0.13402061855670103,
          0.15060240963855423,
          0.09591836734693877,
          0.20279720279720279,
          0.09879518072289156,
          0.14767932489451477,
          0.0625,
          0.1595744680851064,
          0.1189710610932476,
          0.14285714285714285,
          0.06584362139917696,
          0.12363636363636364,
          0.08241758241758242,
          0.2318840579710145,
          0.12837837837837837,
          0.0823293172690763,
          0.08928571428571429
         ],
         "yaxis": "y"
        },
        {
         "line": {
          "color": "black"
         },
         "mode": "lines",
         "name": "perf_metric",
         "type": "scatter",
         "x": [
          1000,
          2000,
          3000,
          4000,
          6000,
          7000,
          8000,
          9000,
          10000,
          11000,
          12000,
          13000,
          14000,
          15000,
          16000,
          17000,
          18000,
          19000,
          20000,
          21000,
          22000,
          23000,
          24000,
          25000,
          26000,
          27000,
          28000,
          29000,
          30000,
          31000,
          32000,
          33000,
          34000,
          35000,
          36000,
          37000,
          38000,
          39000,
          40000,
          41000,
          42000,
          43000,
          44000,
          45000,
          46000,
          47000,
          48000,
          49000,
          50000,
          51000,
          52000,
          53000,
          54000,
          55000,
          56000,
          57000,
          58000,
          59000,
          60000,
          61000,
          62000,
          63000,
          64000,
          65000,
          66000,
          67000,
          68000,
          69000,
          70000,
          71000,
          72000,
          73000,
          74000,
          75000,
          76000,
          77000,
          78000,
          79000,
          80000,
          81000,
          82000,
          83000,
          84000,
          85000,
          86000,
          87000,
          88000,
          89000,
          90000,
          91000,
          92000,
          93000,
          94000,
          95000,
          96000,
          97000,
          98000,
          99000,
          100000,
          101000,
          102000,
          103000,
          104000,
          105000,
          106000,
          107000,
          108000,
          109000,
          110000,
          111000,
          112000,
          113000,
          114000,
          115000,
          116000,
          117000,
          118000,
          119000,
          120000,
          121000,
          122000,
          123000,
          124000,
          125000,
          126000,
          127000,
          128000,
          129000,
          130000,
          131000,
          132000,
          133000,
          134000,
          135000,
          136000,
          137000,
          138000,
          139000,
          140000,
          141000,
          142000,
          143000
         ],
         "y": [
          -0.3023390769958496,
          -0.6974469423294067,
          0.04771915078163147,
          0.4078015089035034,
          1.8560377359390259,
          1.8433938026428223,
          2.3628196716308594,
          1.9960979223251343,
          2.4225189685821533,
          2.5261731147766113,
          2.422247886657715,
          2.1560490131378174,
          2.315804958343506,
          2.756420850753784,
          2.7993170738220217,
          2.8422132968902587,
          2.885109519958496,
          2.928005743026733,
          2.9709019660949707,
          2.9951998710632326,
          3.019497776031494,
          3.043795680999756,
          3.0680935859680174,
          3.0923914909362793,
          3.144391345977783,
          3.196391201019287,
          3.248391056060791,
          3.300390911102295,
          3.352390766143799,
          3.345085048675537,
          3.337779331207275,
          3.330473613739014,
          3.323167896270752,
          3.3158621788024902,
          3.3601420402526854,
          3.404421901702881,
          3.448701763153076,
          3.4929816246032717,
          3.537261486053467,
          3.4823867321014403,
          3.427511978149414,
          3.372637224197388,
          3.3177624702453614,
          3.262887716293335,
          3.4026073455810546,
          3.5423269748687742,
          3.6820466041564943,
          3.821766233444214,
          3.9614858627319336,
          3.9742358207702635,
          3.986985778808594,
          3.9997357368469237,
          4.012485694885254,
          4.025235652923584,
          3.9805383682250977,
          3.9358410835266113,
          3.891143798828125,
          3.8464465141296387,
          3.8017492294311523,
          3.8956336975097656,
          3.989518165588379,
          4.083402633666992,
          4.1772871017456055,
          4.271171569824219,
          4.309825992584228,
          4.3484804153442385,
          4.387134838104248,
          4.425789260864258,
          4.464443683624268,
          4.423270845413208,
          4.382098007202148,
          4.340925168991089,
          4.299752330780029,
          4.25857949256897,
          4.2174066543579105,
          4.17623381614685,
          4.135060977935791,
          4.093888139724731,
          4.052715301513672,
          4.009969091415405,
          3.967222881317139,
          3.924476671218872,
          3.8817304611206054,
          3.838984251022339,
          3.7962380409240724,
          3.753491830825806,
          3.710745620727539,
          3.6679994106292724,
          3.625253200531006,
          3.6081200361251833,
          3.5909868717193603,
          3.5738537073135377,
          3.5567205429077147,
          3.539587378501892,
          3.5224542140960695,
          3.5053210496902465,
          3.488187885284424,
          3.471054720878601,
          3.4539215564727783,
          3.505764389038086,
          3.5576072216033934,
          3.6094500541687013,
          3.661292886734009,
          3.7131357192993164,
          3.764978551864624,
          3.8168213844299315,
          3.8686642169952394,
          3.920507049560547,
          3.9723498821258545,
          3.9614800691604612,
          3.9506102561950684,
          3.939740443229675,
          3.9288706302642824,
          3.918000817298889,
          3.907131004333496,
          3.896261191368103,
          3.88539137840271,
          3.874521565437317,
          3.863651752471924,
          3.831834864616394,
          3.800017976760864,
          3.7682010889053346,
          3.7363842010498045,
          3.704567313194275,
          3.6727504253387453,
          3.6409335374832152,
          3.6091166496276856,
          3.5772997617721556,
          3.545482873916626,
          3.6055633783340455,
          3.665643882751465,
          3.725724387168884,
          3.7858048915863036,
          3.845885396003723,
          3.9059659004211427,
          3.966046404838562,
          4.026126909255981,
          4.086207413673401,
          4.14628791809082,
          4.14628791809082,
          4.14628791809082,
          4.14628791809082
         ],
         "yaxis": "y2"
        }
       ],
       "layout": {
        "legend": {
         "title": {
          "text": "variable"
         },
         "tracegroupgap": 0
        },
        "template": {
         "data": {
          "bar": [
           {
            "error_x": {
             "color": "#2a3f5f"
            },
            "error_y": {
             "color": "#2a3f5f"
            },
            "marker": {
             "line": {
              "color": "#E5ECF6",
              "width": 0.5
             },
             "pattern": {
              "fillmode": "overlay",
              "size": 10,
              "solidity": 0.2
             }
            },
            "type": "bar"
           }
          ],
          "barpolar": [
           {
            "marker": {
             "line": {
              "color": "#E5ECF6",
              "width": 0.5
             },
             "pattern": {
              "fillmode": "overlay",
              "size": 10,
              "solidity": 0.2
             }
            },
            "type": "barpolar"
           }
          ],
          "carpet": [
           {
            "aaxis": {
             "endlinecolor": "#2a3f5f",
             "gridcolor": "white",
             "linecolor": "white",
             "minorgridcolor": "white",
             "startlinecolor": "#2a3f5f"
            },
            "baxis": {
             "endlinecolor": "#2a3f5f",
             "gridcolor": "white",
             "linecolor": "white",
             "minorgridcolor": "white",
             "startlinecolor": "#2a3f5f"
            },
            "type": "carpet"
           }
          ],
          "choropleth": [
           {
            "colorbar": {
             "outlinewidth": 0,
             "ticks": ""
            },
            "type": "choropleth"
           }
          ],
          "contour": [
           {
            "colorbar": {
             "outlinewidth": 0,
             "ticks": ""
            },
            "colorscale": [
             [
              0,
              "#0d0887"
             ],
             [
              0.1111111111111111,
              "#46039f"
             ],
             [
              0.2222222222222222,
              "#7201a8"
             ],
             [
              0.3333333333333333,
              "#9c179e"
             ],
             [
              0.4444444444444444,
              "#bd3786"
             ],
             [
              0.5555555555555556,
              "#d8576b"
             ],
             [
              0.6666666666666666,
              "#ed7953"
             ],
             [
              0.7777777777777778,
              "#fb9f3a"
             ],
             [
              0.8888888888888888,
              "#fdca26"
             ],
             [
              1,
              "#f0f921"
             ]
            ],
            "type": "contour"
           }
          ],
          "contourcarpet": [
           {
            "colorbar": {
             "outlinewidth": 0,
             "ticks": ""
            },
            "type": "contourcarpet"
           }
          ],
          "heatmap": [
           {
            "colorbar": {
             "outlinewidth": 0,
             "ticks": ""
            },
            "colorscale": [
             [
              0,
              "#0d0887"
             ],
             [
              0.1111111111111111,
              "#46039f"
             ],
             [
              0.2222222222222222,
              "#7201a8"
             ],
             [
              0.3333333333333333,
              "#9c179e"
             ],
             [
              0.4444444444444444,
              "#bd3786"
             ],
             [
              0.5555555555555556,
              "#d8576b"
             ],
             [
              0.6666666666666666,
              "#ed7953"
             ],
             [
              0.7777777777777778,
              "#fb9f3a"
             ],
             [
              0.8888888888888888,
              "#fdca26"
             ],
             [
              1,
              "#f0f921"
             ]
            ],
            "type": "heatmap"
           }
          ],
          "heatmapgl": [
           {
            "colorbar": {
             "outlinewidth": 0,
             "ticks": ""
            },
            "colorscale": [
             [
              0,
              "#0d0887"
             ],
             [
              0.1111111111111111,
              "#46039f"
             ],
             [
              0.2222222222222222,
              "#7201a8"
             ],
             [
              0.3333333333333333,
              "#9c179e"
             ],
             [
              0.4444444444444444,
              "#bd3786"
             ],
             [
              0.5555555555555556,
              "#d8576b"
             ],
             [
              0.6666666666666666,
              "#ed7953"
             ],
             [
              0.7777777777777778,
              "#fb9f3a"
             ],
             [
              0.8888888888888888,
              "#fdca26"
             ],
             [
              1,
              "#f0f921"
             ]
            ],
            "type": "heatmapgl"
           }
          ],
          "histogram": [
           {
            "marker": {
             "pattern": {
              "fillmode": "overlay",
              "size": 10,
              "solidity": 0.2
             }
            },
            "type": "histogram"
           }
          ],
          "histogram2d": [
           {
            "colorbar": {
             "outlinewidth": 0,
             "ticks": ""
            },
            "colorscale": [
             [
              0,
              "#0d0887"
             ],
             [
              0.1111111111111111,
              "#46039f"
             ],
             [
              0.2222222222222222,
              "#7201a8"
             ],
             [
              0.3333333333333333,
              "#9c179e"
             ],
             [
              0.4444444444444444,
              "#bd3786"
             ],
             [
              0.5555555555555556,
              "#d8576b"
             ],
             [
              0.6666666666666666,
              "#ed7953"
             ],
             [
              0.7777777777777778,
              "#fb9f3a"
             ],
             [
              0.8888888888888888,
              "#fdca26"
             ],
             [
              1,
              "#f0f921"
             ]
            ],
            "type": "histogram2d"
           }
          ],
          "histogram2dcontour": [
           {
            "colorbar": {
             "outlinewidth": 0,
             "ticks": ""
            },
            "colorscale": [
             [
              0,
              "#0d0887"
             ],
             [
              0.1111111111111111,
              "#46039f"
             ],
             [
              0.2222222222222222,
              "#7201a8"
             ],
             [
              0.3333333333333333,
              "#9c179e"
             ],
             [
              0.4444444444444444,
              "#bd3786"
             ],
             [
              0.5555555555555556,
              "#d8576b"
             ],
             [
              0.6666666666666666,
              "#ed7953"
             ],
             [
              0.7777777777777778,
              "#fb9f3a"
             ],
             [
              0.8888888888888888,
              "#fdca26"
             ],
             [
              1,
              "#f0f921"
             ]
            ],
            "type": "histogram2dcontour"
           }
          ],
          "mesh3d": [
           {
            "colorbar": {
             "outlinewidth": 0,
             "ticks": ""
            },
            "type": "mesh3d"
           }
          ],
          "parcoords": [
           {
            "line": {
             "colorbar": {
              "outlinewidth": 0,
              "ticks": ""
             }
            },
            "type": "parcoords"
           }
          ],
          "pie": [
           {
            "automargin": true,
            "type": "pie"
           }
          ],
          "scatter": [
           {
            "fillpattern": {
             "fillmode": "overlay",
             "size": 10,
             "solidity": 0.2
            },
            "type": "scatter"
           }
          ],
          "scatter3d": [
           {
            "line": {
             "colorbar": {
              "outlinewidth": 0,
              "ticks": ""
             }
            },
            "marker": {
             "colorbar": {
              "outlinewidth": 0,
              "ticks": ""
             }
            },
            "type": "scatter3d"
           }
          ],
          "scattercarpet": [
           {
            "marker": {
             "colorbar": {
              "outlinewidth": 0,
              "ticks": ""
             }
            },
            "type": "scattercarpet"
           }
          ],
          "scattergeo": [
           {
            "marker": {
             "colorbar": {
              "outlinewidth": 0,
              "ticks": ""
             }
            },
            "type": "scattergeo"
           }
          ],
          "scattergl": [
           {
            "marker": {
             "colorbar": {
              "outlinewidth": 0,
              "ticks": ""
             }
            },
            "type": "scattergl"
           }
          ],
          "scattermapbox": [
           {
            "marker": {
             "colorbar": {
              "outlinewidth": 0,
              "ticks": ""
             }
            },
            "type": "scattermapbox"
           }
          ],
          "scatterpolar": [
           {
            "marker": {
             "colorbar": {
              "outlinewidth": 0,
              "ticks": ""
             }
            },
            "type": "scatterpolar"
           }
          ],
          "scatterpolargl": [
           {
            "marker": {
             "colorbar": {
              "outlinewidth": 0,
              "ticks": ""
             }
            },
            "type": "scatterpolargl"
           }
          ],
          "scatterternary": [
           {
            "marker": {
             "colorbar": {
              "outlinewidth": 0,
              "ticks": ""
             }
            },
            "type": "scatterternary"
           }
          ],
          "surface": [
           {
            "colorbar": {
             "outlinewidth": 0,
             "ticks": ""
            },
            "colorscale": [
             [
              0,
              "#0d0887"
             ],
             [
              0.1111111111111111,
              "#46039f"
             ],
             [
              0.2222222222222222,
              "#7201a8"
             ],
             [
              0.3333333333333333,
              "#9c179e"
             ],
             [
              0.4444444444444444,
              "#bd3786"
             ],
             [
              0.5555555555555556,
              "#d8576b"
             ],
             [
              0.6666666666666666,
              "#ed7953"
             ],
             [
              0.7777777777777778,
              "#fb9f3a"
             ],
             [
              0.8888888888888888,
              "#fdca26"
             ],
             [
              1,
              "#f0f921"
             ]
            ],
            "type": "surface"
           }
          ],
          "table": [
           {
            "cells": {
             "fill": {
              "color": "#EBF0F8"
             },
             "line": {
              "color": "white"
             }
            },
            "header": {
             "fill": {
              "color": "#C8D4E3"
             },
             "line": {
              "color": "white"
             }
            },
            "type": "table"
           }
          ]
         },
         "layout": {
          "annotationdefaults": {
           "arrowcolor": "#2a3f5f",
           "arrowhead": 0,
           "arrowwidth": 1
          },
          "autotypenumbers": "strict",
          "coloraxis": {
           "colorbar": {
            "outlinewidth": 0,
            "ticks": ""
           }
          },
          "colorscale": {
           "diverging": [
            [
             0,
             "#8e0152"
            ],
            [
             0.1,
             "#c51b7d"
            ],
            [
             0.2,
             "#de77ae"
            ],
            [
             0.3,
             "#f1b6da"
            ],
            [
             0.4,
             "#fde0ef"
            ],
            [
             0.5,
             "#f7f7f7"
            ],
            [
             0.6,
             "#e6f5d0"
            ],
            [
             0.7,
             "#b8e186"
            ],
            [
             0.8,
             "#7fbc41"
            ],
            [
             0.9,
             "#4d9221"
            ],
            [
             1,
             "#276419"
            ]
           ],
           "sequential": [
            [
             0,
             "#0d0887"
            ],
            [
             0.1111111111111111,
             "#46039f"
            ],
            [
             0.2222222222222222,
             "#7201a8"
            ],
            [
             0.3333333333333333,
             "#9c179e"
            ],
            [
             0.4444444444444444,
             "#bd3786"
            ],
            [
             0.5555555555555556,
             "#d8576b"
            ],
            [
             0.6666666666666666,
             "#ed7953"
            ],
            [
             0.7777777777777778,
             "#fb9f3a"
            ],
            [
             0.8888888888888888,
             "#fdca26"
            ],
            [
             1,
             "#f0f921"
            ]
           ],
           "sequentialminus": [
            [
             0,
             "#0d0887"
            ],
            [
             0.1111111111111111,
             "#46039f"
            ],
            [
             0.2222222222222222,
             "#7201a8"
            ],
            [
             0.3333333333333333,
             "#9c179e"
            ],
            [
             0.4444444444444444,
             "#bd3786"
            ],
            [
             0.5555555555555556,
             "#d8576b"
            ],
            [
             0.6666666666666666,
             "#ed7953"
            ],
            [
             0.7777777777777778,
             "#fb9f3a"
            ],
            [
             0.8888888888888888,
             "#fdca26"
            ],
            [
             1,
             "#f0f921"
            ]
           ]
          },
          "colorway": [
           "#636efa",
           "#EF553B",
           "#00cc96",
           "#ab63fa",
           "#FFA15A",
           "#19d3f3",
           "#FF6692",
           "#B6E880",
           "#FF97FF",
           "#FECB52"
          ],
          "font": {
           "color": "#2a3f5f"
          },
          "geo": {
           "bgcolor": "white",
           "lakecolor": "white",
           "landcolor": "#E5ECF6",
           "showlakes": true,
           "showland": true,
           "subunitcolor": "white"
          },
          "hoverlabel": {
           "align": "left"
          },
          "hovermode": "closest",
          "mapbox": {
           "style": "light"
          },
          "paper_bgcolor": "white",
          "plot_bgcolor": "#E5ECF6",
          "polar": {
           "angularaxis": {
            "gridcolor": "white",
            "linecolor": "white",
            "ticks": ""
           },
           "bgcolor": "#E5ECF6",
           "radialaxis": {
            "gridcolor": "white",
            "linecolor": "white",
            "ticks": ""
           }
          },
          "scene": {
           "xaxis": {
            "backgroundcolor": "#E5ECF6",
            "gridcolor": "white",
            "gridwidth": 2,
            "linecolor": "white",
            "showbackground": true,
            "ticks": "",
            "zerolinecolor": "white"
           },
           "yaxis": {
            "backgroundcolor": "#E5ECF6",
            "gridcolor": "white",
            "gridwidth": 2,
            "linecolor": "white",
            "showbackground": true,
            "ticks": "",
            "zerolinecolor": "white"
           },
           "zaxis": {
            "backgroundcolor": "#E5ECF6",
            "gridcolor": "white",
            "gridwidth": 2,
            "linecolor": "white",
            "showbackground": true,
            "ticks": "",
            "zerolinecolor": "white"
           }
          },
          "shapedefaults": {
           "line": {
            "color": "#2a3f5f"
           }
          },
          "ternary": {
           "aaxis": {
            "gridcolor": "white",
            "linecolor": "white",
            "ticks": ""
           },
           "baxis": {
            "gridcolor": "white",
            "linecolor": "white",
            "ticks": ""
           },
           "bgcolor": "#E5ECF6",
           "caxis": {
            "gridcolor": "white",
            "linecolor": "white",
            "ticks": ""
           }
          },
          "title": {
           "x": 0.05
          },
          "xaxis": {
           "automargin": true,
           "gridcolor": "white",
           "linecolor": "white",
           "ticks": "",
           "title": {
            "standoff": 15
           },
           "zerolinecolor": "white",
           "zerolinewidth": 2
          },
          "yaxis": {
           "automargin": true,
           "gridcolor": "white",
           "linecolor": "white",
           "ticks": "",
           "title": {
            "standoff": 15
           },
           "zerolinecolor": "white",
           "zerolinewidth": 2
          }
         }
        },
        "title": {
         "text": "Jaccard Similarity Over Time"
        },
        "xaxis": {
         "anchor": "y",
         "domain": [
          0,
          1
         ],
         "title": {
          "text": "checkpoint"
         },
         "type": "log"
        },
        "yaxis": {
         "anchor": "x",
         "domain": [
          0,
          1
         ],
         "title": {
          "text": "Jaccard Similarity to Checkpoint 5000"
         }
        },
        "yaxis2": {
         "overlaying": "y",
         "showgrid": false,
         "side": "right",
         "title": {
          "text": "Probability Difference"
         }
        }
       }
      },
      "text/html": [
       "<div>                            <div id=\"db22705c-59c0-43fc-82b1-d5417dc0c9c8\" class=\"plotly-graph-div\" style=\"height:525px; width:100%;\"></div>            <script type=\"text/javascript\">                require([\"plotly\"], function(Plotly) {                    window.PLOTLYENV=window.PLOTLYENV || {};                                    if (document.getElementById(\"db22705c-59c0-43fc-82b1-d5417dc0c9c8\")) {                    Plotly.newPlot(                        \"db22705c-59c0-43fc-82b1-d5417dc0c9c8\",                        [{\"hovertemplate\":\"variable=jaccard_similarity\\u003cbr\\u003echeckpoint=%{x}\\u003cbr\\u003evalue=%{y}\\u003cextra\\u003e\\u003c\\u002fextra\\u003e\",\"legendgroup\":\"jaccard_similarity\",\"line\":{\"color\":\"lightblue\",\"dash\":\"solid\"},\"marker\":{\"symbol\":\"circle\"},\"mode\":\"lines\",\"name\":\"jaccard_similarity\",\"orientation\":\"v\",\"showlegend\":true,\"x\":[1000,2000,3000,4000,6000,7000,8000,9000,10000,11000,12000,13000,14000,15000,16000,17000,18000,19000,20000,21000,22000,23000,24000,25000,26000,27000,28000,29000,30000,31000,32000,33000,34000,35000,36000,37000,38000,39000,40000,41000,42000,43000,44000,45000,46000,47000,48000,49000,50000,51000,52000,53000,54000,55000,56000,57000,58000,59000,60000,61000,62000,63000,64000,65000,66000,67000,68000,69000,70000,71000,72000,73000,74000,75000,76000,77000,78000,79000,80000,81000,82000,83000,84000,85000,86000,87000,88000,89000,90000,91000,92000,93000,94000,95000,96000,97000,98000,99000,100000,101000,102000,103000,104000,105000,106000,107000,108000,109000,110000,111000,112000,113000,114000,115000,116000,117000,118000,119000,120000,121000,122000,123000,124000,125000,126000,127000,128000,129000,130000,131000,132000,133000,134000,135000,136000,137000,138000,139000,140000,141000,142000,143000],\"xaxis\":\"x\",\"y\":[0.0,0.0,0.1,0.58,0.6732673267326733,0.5675675675675675,0.4827586206896552,0.5130434782608696,0.22772277227722773,0.3983739837398374,0.38095238095238093,0.38095238095238093,0.3543307086614173,0.3230769230769231,0.21081081081081082,0.21637426900584794,0.21195652173913043,0.20418848167539266,0.23529411764705882,0.16862745098039217,0.16847826086956522,0.1837837837837838,0.1455223880597015,0.22302158273381295,0.13993174061433447,0.14953271028037382,0.15267175572519084,0.15656565656565657,0.26119402985074625,0.15591397849462366,0.15311004784688995,0.14893617021276595,0.12941176470588237,0.2391304347826087,0.12020460358056266,0.16470588235294117,0.15023474178403756,0.14855072463768115,0.20567375886524822,0.11335012594458438,0.14049586776859505,0.1244343891402715,0.15079365079365079,0.1793103448275862,0.12090680100755667,0.1796875,0.15172413793103448,0.12437810945273632,0.19444444444444445,0.14615384615384616,0.1276595744680851,0.11325301204819277,0.10062893081761007,0.2,0.12618296529968454,0.12566844919786097,0.15503875968992248,0.0821917808219178,0.19014084507042253,0.12323943661971831,0.14166666666666666,0.10353535353535354,0.17763157894736842,0.1875,0.16352201257861634,0.15714285714285714,0.13793103448275862,0.12457912457912458,0.19424460431654678,0.1511627906976744,0.10849056603773585,0.16766467065868262,0.128099173553719,0.12749003984063745,0.1394422310756972,0.10138248847926268,0.16911764705882354,0.17164179104477612,0.176056338028169,0.12982456140350876,0.15,0.15789473684210525,0.17687074829931973,0.16568047337278108,0.13716814159292035,0.16129032258064516,0.1694915254237288,0.1875,0.19858156028368795,0.16243654822335024,0.1414141414141414,0.17985611510791366,0.15151515151515152,0.1774193548387097,0.1588235294117647,0.16901408450704225,0.15894039735099338,0.15137614678899083,0.20863309352517986,0.1111111111111111,0.08430913348946135,0.15639810426540285,0.14935064935064934,0.10882352941176471,0.08196721311475409,0.15384615384615385,0.12455516014234876,0.15827338129496402,0.21014492753623187,0.15671641791044777,0.11076923076923077,0.11612903225806452,0.1375,0.16483516483516483,0.1456953642384106,0.14130434782608695,0.14767932489451477,0.09927360774818401,0.19444444444444445,0.137546468401487,0.09168443496801706,0.15625,0.08226691042047532,0.08021390374331551,0.07678244972577697,0.13402061855670103,0.15060240963855423,0.09591836734693877,0.20279720279720279,0.09879518072289156,0.14767932489451477,0.0625,0.1595744680851064,0.1189710610932476,0.14285714285714285,0.06584362139917696,0.12363636363636364,0.08241758241758242,0.2318840579710145,0.12837837837837837,0.0823293172690763,0.08928571428571429],\"yaxis\":\"y\",\"type\":\"scatter\"},{\"line\":{\"color\":\"black\"},\"mode\":\"lines\",\"name\":\"perf_metric\",\"x\":[1000,2000,3000,4000,6000,7000,8000,9000,10000,11000,12000,13000,14000,15000,16000,17000,18000,19000,20000,21000,22000,23000,24000,25000,26000,27000,28000,29000,30000,31000,32000,33000,34000,35000,36000,37000,38000,39000,40000,41000,42000,43000,44000,45000,46000,47000,48000,49000,50000,51000,52000,53000,54000,55000,56000,57000,58000,59000,60000,61000,62000,63000,64000,65000,66000,67000,68000,69000,70000,71000,72000,73000,74000,75000,76000,77000,78000,79000,80000,81000,82000,83000,84000,85000,86000,87000,88000,89000,90000,91000,92000,93000,94000,95000,96000,97000,98000,99000,100000,101000,102000,103000,104000,105000,106000,107000,108000,109000,110000,111000,112000,113000,114000,115000,116000,117000,118000,119000,120000,121000,122000,123000,124000,125000,126000,127000,128000,129000,130000,131000,132000,133000,134000,135000,136000,137000,138000,139000,140000,141000,142000,143000],\"y\":[-0.3023390769958496,-0.6974469423294067,0.04771915078163147,0.4078015089035034,1.8560377359390259,1.8433938026428223,2.3628196716308594,1.9960979223251343,2.4225189685821533,2.5261731147766113,2.422247886657715,2.1560490131378174,2.315804958343506,2.756420850753784,2.7993170738220217,2.8422132968902587,2.885109519958496,2.928005743026733,2.9709019660949707,2.9951998710632326,3.019497776031494,3.043795680999756,3.0680935859680174,3.0923914909362793,3.144391345977783,3.196391201019287,3.248391056060791,3.300390911102295,3.352390766143799,3.345085048675537,3.337779331207275,3.330473613739014,3.323167896270752,3.3158621788024902,3.3601420402526854,3.404421901702881,3.448701763153076,3.4929816246032717,3.537261486053467,3.4823867321014403,3.427511978149414,3.372637224197388,3.3177624702453614,3.262887716293335,3.4026073455810546,3.5423269748687742,3.6820466041564943,3.821766233444214,3.9614858627319336,3.9742358207702635,3.986985778808594,3.9997357368469237,4.012485694885254,4.025235652923584,3.9805383682250977,3.9358410835266113,3.891143798828125,3.8464465141296387,3.8017492294311523,3.8956336975097656,3.989518165588379,4.083402633666992,4.1772871017456055,4.271171569824219,4.309825992584228,4.3484804153442385,4.387134838104248,4.425789260864258,4.464443683624268,4.423270845413208,4.382098007202148,4.340925168991089,4.299752330780029,4.25857949256897,4.2174066543579105,4.17623381614685,4.135060977935791,4.093888139724731,4.052715301513672,4.009969091415405,3.967222881317139,3.924476671218872,3.8817304611206054,3.838984251022339,3.7962380409240724,3.753491830825806,3.710745620727539,3.6679994106292724,3.625253200531006,3.6081200361251833,3.5909868717193603,3.5738537073135377,3.5567205429077147,3.539587378501892,3.5224542140960695,3.5053210496902465,3.488187885284424,3.471054720878601,3.4539215564727783,3.505764389038086,3.5576072216033934,3.6094500541687013,3.661292886734009,3.7131357192993164,3.764978551864624,3.8168213844299315,3.8686642169952394,3.920507049560547,3.9723498821258545,3.9614800691604612,3.9506102561950684,3.939740443229675,3.9288706302642824,3.918000817298889,3.907131004333496,3.896261191368103,3.88539137840271,3.874521565437317,3.863651752471924,3.831834864616394,3.800017976760864,3.7682010889053346,3.7363842010498045,3.704567313194275,3.6727504253387453,3.6409335374832152,3.6091166496276856,3.5772997617721556,3.545482873916626,3.6055633783340455,3.665643882751465,3.725724387168884,3.7858048915863036,3.845885396003723,3.9059659004211427,3.966046404838562,4.026126909255981,4.086207413673401,4.14628791809082,4.14628791809082,4.14628791809082,4.14628791809082],\"yaxis\":\"y2\",\"type\":\"scatter\"}],                        {\"template\":{\"data\":{\"histogram2dcontour\":[{\"type\":\"histogram2dcontour\",\"colorbar\":{\"outlinewidth\":0,\"ticks\":\"\"},\"colorscale\":[[0.0,\"#0d0887\"],[0.1111111111111111,\"#46039f\"],[0.2222222222222222,\"#7201a8\"],[0.3333333333333333,\"#9c179e\"],[0.4444444444444444,\"#bd3786\"],[0.5555555555555556,\"#d8576b\"],[0.6666666666666666,\"#ed7953\"],[0.7777777777777778,\"#fb9f3a\"],[0.8888888888888888,\"#fdca26\"],[1.0,\"#f0f921\"]]}],\"choropleth\":[{\"type\":\"choropleth\",\"colorbar\":{\"outlinewidth\":0,\"ticks\":\"\"}}],\"histogram2d\":[{\"type\":\"histogram2d\",\"colorbar\":{\"outlinewidth\":0,\"ticks\":\"\"},\"colorscale\":[[0.0,\"#0d0887\"],[0.1111111111111111,\"#46039f\"],[0.2222222222222222,\"#7201a8\"],[0.3333333333333333,\"#9c179e\"],[0.4444444444444444,\"#bd3786\"],[0.5555555555555556,\"#d8576b\"],[0.6666666666666666,\"#ed7953\"],[0.7777777777777778,\"#fb9f3a\"],[0.8888888888888888,\"#fdca26\"],[1.0,\"#f0f921\"]]}],\"heatmap\":[{\"type\":\"heatmap\",\"colorbar\":{\"outlinewidth\":0,\"ticks\":\"\"},\"colorscale\":[[0.0,\"#0d0887\"],[0.1111111111111111,\"#46039f\"],[0.2222222222222222,\"#7201a8\"],[0.3333333333333333,\"#9c179e\"],[0.4444444444444444,\"#bd3786\"],[0.5555555555555556,\"#d8576b\"],[0.6666666666666666,\"#ed7953\"],[0.7777777777777778,\"#fb9f3a\"],[0.8888888888888888,\"#fdca26\"],[1.0,\"#f0f921\"]]}],\"heatmapgl\":[{\"type\":\"heatmapgl\",\"colorbar\":{\"outlinewidth\":0,\"ticks\":\"\"},\"colorscale\":[[0.0,\"#0d0887\"],[0.1111111111111111,\"#46039f\"],[0.2222222222222222,\"#7201a8\"],[0.3333333333333333,\"#9c179e\"],[0.4444444444444444,\"#bd3786\"],[0.5555555555555556,\"#d8576b\"],[0.6666666666666666,\"#ed7953\"],[0.7777777777777778,\"#fb9f3a\"],[0.8888888888888888,\"#fdca26\"],[1.0,\"#f0f921\"]]}],\"contourcarpet\":[{\"type\":\"contourcarpet\",\"colorbar\":{\"outlinewidth\":0,\"ticks\":\"\"}}],\"contour\":[{\"type\":\"contour\",\"colorbar\":{\"outlinewidth\":0,\"ticks\":\"\"},\"colorscale\":[[0.0,\"#0d0887\"],[0.1111111111111111,\"#46039f\"],[0.2222222222222222,\"#7201a8\"],[0.3333333333333333,\"#9c179e\"],[0.4444444444444444,\"#bd3786\"],[0.5555555555555556,\"#d8576b\"],[0.6666666666666666,\"#ed7953\"],[0.7777777777777778,\"#fb9f3a\"],[0.8888888888888888,\"#fdca26\"],[1.0,\"#f0f921\"]]}],\"surface\":[{\"type\":\"surface\",\"colorbar\":{\"outlinewidth\":0,\"ticks\":\"\"},\"colorscale\":[[0.0,\"#0d0887\"],[0.1111111111111111,\"#46039f\"],[0.2222222222222222,\"#7201a8\"],[0.3333333333333333,\"#9c179e\"],[0.4444444444444444,\"#bd3786\"],[0.5555555555555556,\"#d8576b\"],[0.6666666666666666,\"#ed7953\"],[0.7777777777777778,\"#fb9f3a\"],[0.8888888888888888,\"#fdca26\"],[1.0,\"#f0f921\"]]}],\"mesh3d\":[{\"type\":\"mesh3d\",\"colorbar\":{\"outlinewidth\":0,\"ticks\":\"\"}}],\"scatter\":[{\"fillpattern\":{\"fillmode\":\"overlay\",\"size\":10,\"solidity\":0.2},\"type\":\"scatter\"}],\"parcoords\":[{\"type\":\"parcoords\",\"line\":{\"colorbar\":{\"outlinewidth\":0,\"ticks\":\"\"}}}],\"scatterpolargl\":[{\"type\":\"scatterpolargl\",\"marker\":{\"colorbar\":{\"outlinewidth\":0,\"ticks\":\"\"}}}],\"bar\":[{\"error_x\":{\"color\":\"#2a3f5f\"},\"error_y\":{\"color\":\"#2a3f5f\"},\"marker\":{\"line\":{\"color\":\"#E5ECF6\",\"width\":0.5},\"pattern\":{\"fillmode\":\"overlay\",\"size\":10,\"solidity\":0.2}},\"type\":\"bar\"}],\"scattergeo\":[{\"type\":\"scattergeo\",\"marker\":{\"colorbar\":{\"outlinewidth\":0,\"ticks\":\"\"}}}],\"scatterpolar\":[{\"type\":\"scatterpolar\",\"marker\":{\"colorbar\":{\"outlinewidth\":0,\"ticks\":\"\"}}}],\"histogram\":[{\"marker\":{\"pattern\":{\"fillmode\":\"overlay\",\"size\":10,\"solidity\":0.2}},\"type\":\"histogram\"}],\"scattergl\":[{\"type\":\"scattergl\",\"marker\":{\"colorbar\":{\"outlinewidth\":0,\"ticks\":\"\"}}}],\"scatter3d\":[{\"type\":\"scatter3d\",\"line\":{\"colorbar\":{\"outlinewidth\":0,\"ticks\":\"\"}},\"marker\":{\"colorbar\":{\"outlinewidth\":0,\"ticks\":\"\"}}}],\"scattermapbox\":[{\"type\":\"scattermapbox\",\"marker\":{\"colorbar\":{\"outlinewidth\":0,\"ticks\":\"\"}}}],\"scatterternary\":[{\"type\":\"scatterternary\",\"marker\":{\"colorbar\":{\"outlinewidth\":0,\"ticks\":\"\"}}}],\"scattercarpet\":[{\"type\":\"scattercarpet\",\"marker\":{\"colorbar\":{\"outlinewidth\":0,\"ticks\":\"\"}}}],\"carpet\":[{\"aaxis\":{\"endlinecolor\":\"#2a3f5f\",\"gridcolor\":\"white\",\"linecolor\":\"white\",\"minorgridcolor\":\"white\",\"startlinecolor\":\"#2a3f5f\"},\"baxis\":{\"endlinecolor\":\"#2a3f5f\",\"gridcolor\":\"white\",\"linecolor\":\"white\",\"minorgridcolor\":\"white\",\"startlinecolor\":\"#2a3f5f\"},\"type\":\"carpet\"}],\"table\":[{\"cells\":{\"fill\":{\"color\":\"#EBF0F8\"},\"line\":{\"color\":\"white\"}},\"header\":{\"fill\":{\"color\":\"#C8D4E3\"},\"line\":{\"color\":\"white\"}},\"type\":\"table\"}],\"barpolar\":[{\"marker\":{\"line\":{\"color\":\"#E5ECF6\",\"width\":0.5},\"pattern\":{\"fillmode\":\"overlay\",\"size\":10,\"solidity\":0.2}},\"type\":\"barpolar\"}],\"pie\":[{\"automargin\":true,\"type\":\"pie\"}]},\"layout\":{\"autotypenumbers\":\"strict\",\"colorway\":[\"#636efa\",\"#EF553B\",\"#00cc96\",\"#ab63fa\",\"#FFA15A\",\"#19d3f3\",\"#FF6692\",\"#B6E880\",\"#FF97FF\",\"#FECB52\"],\"font\":{\"color\":\"#2a3f5f\"},\"hovermode\":\"closest\",\"hoverlabel\":{\"align\":\"left\"},\"paper_bgcolor\":\"white\",\"plot_bgcolor\":\"#E5ECF6\",\"polar\":{\"bgcolor\":\"#E5ECF6\",\"angularaxis\":{\"gridcolor\":\"white\",\"linecolor\":\"white\",\"ticks\":\"\"},\"radialaxis\":{\"gridcolor\":\"white\",\"linecolor\":\"white\",\"ticks\":\"\"}},\"ternary\":{\"bgcolor\":\"#E5ECF6\",\"aaxis\":{\"gridcolor\":\"white\",\"linecolor\":\"white\",\"ticks\":\"\"},\"baxis\":{\"gridcolor\":\"white\",\"linecolor\":\"white\",\"ticks\":\"\"},\"caxis\":{\"gridcolor\":\"white\",\"linecolor\":\"white\",\"ticks\":\"\"}},\"coloraxis\":{\"colorbar\":{\"outlinewidth\":0,\"ticks\":\"\"}},\"colorscale\":{\"sequential\":[[0.0,\"#0d0887\"],[0.1111111111111111,\"#46039f\"],[0.2222222222222222,\"#7201a8\"],[0.3333333333333333,\"#9c179e\"],[0.4444444444444444,\"#bd3786\"],[0.5555555555555556,\"#d8576b\"],[0.6666666666666666,\"#ed7953\"],[0.7777777777777778,\"#fb9f3a\"],[0.8888888888888888,\"#fdca26\"],[1.0,\"#f0f921\"]],\"sequentialminus\":[[0.0,\"#0d0887\"],[0.1111111111111111,\"#46039f\"],[0.2222222222222222,\"#7201a8\"],[0.3333333333333333,\"#9c179e\"],[0.4444444444444444,\"#bd3786\"],[0.5555555555555556,\"#d8576b\"],[0.6666666666666666,\"#ed7953\"],[0.7777777777777778,\"#fb9f3a\"],[0.8888888888888888,\"#fdca26\"],[1.0,\"#f0f921\"]],\"diverging\":[[0,\"#8e0152\"],[0.1,\"#c51b7d\"],[0.2,\"#de77ae\"],[0.3,\"#f1b6da\"],[0.4,\"#fde0ef\"],[0.5,\"#f7f7f7\"],[0.6,\"#e6f5d0\"],[0.7,\"#b8e186\"],[0.8,\"#7fbc41\"],[0.9,\"#4d9221\"],[1,\"#276419\"]]},\"xaxis\":{\"gridcolor\":\"white\",\"linecolor\":\"white\",\"ticks\":\"\",\"title\":{\"standoff\":15},\"zerolinecolor\":\"white\",\"automargin\":true,\"zerolinewidth\":2},\"yaxis\":{\"gridcolor\":\"white\",\"linecolor\":\"white\",\"ticks\":\"\",\"title\":{\"standoff\":15},\"zerolinecolor\":\"white\",\"automargin\":true,\"zerolinewidth\":2},\"scene\":{\"xaxis\":{\"backgroundcolor\":\"#E5ECF6\",\"gridcolor\":\"white\",\"linecolor\":\"white\",\"showbackground\":true,\"ticks\":\"\",\"zerolinecolor\":\"white\",\"gridwidth\":2},\"yaxis\":{\"backgroundcolor\":\"#E5ECF6\",\"gridcolor\":\"white\",\"linecolor\":\"white\",\"showbackground\":true,\"ticks\":\"\",\"zerolinecolor\":\"white\",\"gridwidth\":2},\"zaxis\":{\"backgroundcolor\":\"#E5ECF6\",\"gridcolor\":\"white\",\"linecolor\":\"white\",\"showbackground\":true,\"ticks\":\"\",\"zerolinecolor\":\"white\",\"gridwidth\":2}},\"shapedefaults\":{\"line\":{\"color\":\"#2a3f5f\"}},\"annotationdefaults\":{\"arrowcolor\":\"#2a3f5f\",\"arrowhead\":0,\"arrowwidth\":1},\"geo\":{\"bgcolor\":\"white\",\"landcolor\":\"#E5ECF6\",\"subunitcolor\":\"white\",\"showland\":true,\"showlakes\":true,\"lakecolor\":\"white\"},\"title\":{\"x\":0.05},\"mapbox\":{\"style\":\"light\"}}},\"xaxis\":{\"anchor\":\"y\",\"domain\":[0.0,1.0],\"title\":{\"text\":\"checkpoint\"},\"type\":\"log\"},\"yaxis\":{\"anchor\":\"x\",\"domain\":[0.0,1.0],\"title\":{\"text\":\"Jaccard Similarity to Checkpoint 5000\"}},\"legend\":{\"title\":{\"text\":\"variable\"},\"tracegroupgap\":0},\"title\":{\"text\":\"Jaccard Similarity Over Time\"},\"yaxis2\":{\"title\":{\"text\":\"Probability Difference\"},\"overlaying\":\"y\",\"side\":\"right\",\"showgrid\":false}},                        {\"responsive\": true}                    ).then(function(){\n",
       "                            \n",
       "var gd = document.getElementById('db22705c-59c0-43fc-82b1-d5417dc0c9c8');\n",
       "var x = new MutationObserver(function (mutations, observer) {{\n",
       "        var display = window.getComputedStyle(gd).display;\n",
       "        if (!display || display === 'none') {{\n",
       "            console.log([gd, 'removed!']);\n",
       "            Plotly.purge(gd);\n",
       "            observer.disconnect();\n",
       "        }}\n",
       "}});\n",
       "\n",
       "// Listen for the removal of the full notebook cells\n",
       "var notebookContainer = gd.closest('#notebook-container');\n",
       "if (notebookContainer) {{\n",
       "    x.observe(notebookContainer, {childList: true});\n",
       "}}\n",
       "\n",
       "// Listen for the clearing of the current output cell\n",
       "var outputEl = gd.closest('.output');\n",
       "if (outputEl) {{\n",
       "    x.observe(outputEl, {childList: true});\n",
       "}}\n",
       "\n",
       "                        })                };                });            </script>        </div>"
      ]
     },
     "metadata": {},
     "output_type": "display_data"
    }
   ],
   "source": [
    "comparison_checkpoint = 5000\n",
    "\n",
    "jaccard_reference_results = compute_jaccard_similarity_to_reference(df, comparison_checkpoint)\n",
    "\n",
    "# Add a new column for the performance metric by mapping the checkpoint_2 values using the perf_metric_dict\n",
    "jaccard_reference_results['perf_metric'] = jaccard_reference_results['checkpoint'].map(perf_metric_dict)\n",
    "\n",
    "# Interpolate missing values\n",
    "jaccard_reference_results['perf_metric'] = jaccard_reference_results['perf_metric'].interpolate(method='linear')\n",
    "\n",
    "# plot jaccard similarity over time\n",
    "fig = px.line(jaccard_reference_results, x='checkpoint', y=['jaccard_similarity'], title='Jaccard Similarity Over Time', log_x=True)\n",
    "\n",
    "# Specify colors for each line\n",
    "colors = {'jaccard_similarity': 'lightblue', 'perf_metric': 'black'}\n",
    "\n",
    "# Update each trace with the specified color\n",
    "for i, trace in enumerate(fig.data):\n",
    "    fig.data[i].update(line=dict(color=colors[trace.name]))\n",
    "\n",
    "\n",
    "fig.update_layout(\n",
    "    yaxis2=dict(title=\"Probability Difference\", overlaying=\"y\", side=\"right\", showgrid=False)\n",
    ")\n",
    "fig.add_trace(\n",
    "    go.Scatter(x=jaccard_reference_results['checkpoint'], y=jaccard_reference_results['perf_metric'], name='perf_metric', mode='lines', yaxis='y2', line=dict(color=colors['perf_metric']))\n",
    ")\n",
    "\n",
    "# Optional: Update the layout if you need to adjust titles or other aesthetics\n",
    "fig.update_layout(\n",
    "    yaxis_title=f\"Jaccard Similarity to Checkpoint {comparison_checkpoint}\"\n",
    ")\n",
    "\n",
    "fig.show()"
   ]
  },
  {
   "cell_type": "code",
   "execution_count": 38,
   "metadata": {},
   "outputs": [
    {
     "data": {
      "application/vnd.plotly.v1+json": {
       "config": {
        "plotlyServerURL": "https://plot.ly"
       },
       "data": [
        {
         "hovertemplate": "variable=jaccard_similarity<br>checkpoint=%{x}<br>value=%{y}<extra></extra>",
         "legendgroup": "jaccard_similarity",
         "line": {
          "color": "lightblue",
          "dash": "solid"
         },
         "marker": {
          "symbol": "circle"
         },
         "mode": "lines",
         "name": "jaccard_similarity",
         "orientation": "v",
         "showlegend": true,
         "type": "scatter",
         "x": [
          1000,
          2000,
          3000,
          4000,
          5000,
          6000,
          7000,
          8000,
          9000,
          10000,
          11000,
          12000,
          13000,
          14000,
          15000,
          16000,
          17000,
          18000,
          19000,
          20000,
          21000,
          22000,
          23000,
          24000,
          25000,
          26000,
          27000,
          28000,
          29000,
          30000,
          31000,
          32000,
          33000,
          34000,
          35000,
          36000,
          37000,
          38000,
          39000,
          40000,
          41000,
          42000,
          43000,
          44000,
          45000,
          46000,
          47000,
          48000,
          49000,
          50000,
          51000,
          52000,
          53000,
          54000,
          55000,
          56000,
          57000,
          58000,
          59000,
          60000,
          61000,
          62000,
          63000,
          64000,
          65000,
          66000,
          67000,
          68000,
          69000,
          70000,
          71000,
          72000,
          73000,
          74000,
          75000,
          76000,
          77000,
          78000,
          79000,
          80000,
          81000,
          82000,
          83000,
          84000,
          85000,
          86000,
          87000,
          88000,
          89000,
          90000,
          91000,
          92000,
          93000,
          94000,
          95000,
          96000,
          97000,
          98000,
          99000,
          100000,
          101000,
          102000,
          103000,
          104000,
          105000,
          106000,
          107000,
          108000,
          109000,
          110000,
          111000,
          112000,
          113000,
          114000,
          115000,
          116000,
          117000,
          118000,
          119000,
          120000,
          121000,
          122000,
          123000,
          124000,
          125000,
          126000,
          127000,
          128000,
          129000,
          130000,
          131000,
          132000,
          133000,
          134000,
          135000,
          136000,
          137000,
          138000,
          139000,
          140000,
          141000,
          142000
         ],
         "xaxis": "x",
         "y": [
          0,
          0,
          0.014634146341463415,
          0.0945945945945946,
          0.08928571428571429,
          0.10444444444444445,
          0.11804008908685969,
          0.1185682326621924,
          0.12808988764044943,
          0.0891566265060241,
          0.15473441108545036,
          0.15935334872979215,
          0.15935334872979215,
          0.1574074074074074,
          0.17096018735362997,
          0.26605504587155965,
          0.24074074074074073,
          0.26376146788990823,
          0.2798165137614679,
          0.17257683215130024,
          0.33191489361702126,
          0.2716627634660422,
          0.27505827505827507,
          0.35106382978723405,
          0.17176470588235293,
          0.37344398340248963,
          0.3105022831050228,
          0.37254901960784315,
          0.28935185185185186,
          0.16393442622950818,
          0.2776470588235294,
          0.3080459770114943,
          0.34080717488789236,
          0.42115768463073855,
          0.17966903073286053,
          0.40808823529411764,
          0.2523809523809524,
          0.3294663573085847,
          0.3723404255319149,
          0.1828978622327791,
          0.4500941619585687,
          0.35730337078651686,
          0.43478260869565216,
          0.39503386004514673,
          0.18246445497630331,
          0.45300751879699247,
          0.16829268292682928,
          0.20437956204379562,
          0.45251396648044695,
          0.19904076738609114,
          0.16341463414634147,
          0.1878048780487805,
          0.4416058394160584,
          0.45315161839863716,
          0.18660287081339713,
          0.4605543710021322,
          0.45155038759689925,
          0.16341463414634147,
          0.43928035982008995,
          0.19759036144578312,
          0.43458980044345896,
          0.3870967741935484,
          0.4796905222437137,
          0.23058252427184467,
          0.19664268585131894,
          0.24514563106796117,
          0.18932038834951456,
          0.43043478260869567,
          0.4517543859649123,
          0.18465227817745802,
          0.2644230769230769,
          0.46691176470588236,
          0.26024096385542167,
          0.3912037037037037,
          0.4045977011494253,
          0.3797752808988764,
          0.47889908256880737,
          0.18491484184914841,
          0.17718446601941748,
          0.18990384615384615,
          0.45089285714285715,
          0.1926829268292683,
          0.17560975609756097,
          0.22493887530562348,
          0.26811594202898553,
          0.39285714285714285,
          0.23300970873786409,
          0.14215686274509803,
          0.12990196078431374,
          0.20924574209245742,
          0.33573141486810554,
          0.3349397590361446,
          0.20588235294117646,
          0.17647058823529413,
          0.16176470588235295,
          0.2867647058823529,
          0.2048780487804878,
          0.23284313725490197,
          0.38848920863309355,
          0.18944844124700239,
          0.48917748917748916,
          0.5153256704980843,
          0.3619047619047619,
          0.23170731707317074,
          0.4936440677966102,
          0.53156146179402,
          0.2818627450980392,
          0.4804597701149425,
          0.19852941176470587,
          0.21323529411764705,
          0.18382352941176472,
          0.5243362831858407,
          0.5180180180180181,
          0.25,
          0.06372549019607843,
          0.22493887530562348,
          0.061274509803921566,
          0.4423076923076923,
          0.6123711340206186,
          0.21654501216545013,
          0.4608294930875576,
          0.575984990619137,
          0.25735294117647056,
          0.5780445969125214,
          0.543801652892562,
          0.5568760611205433,
          0.07352941176470588,
          0.26277372262773724,
          0.5813528336380256,
          0.20481927710843373,
          0.5934959349593496,
          0.4423076923076923,
          0.012254901960784314,
          0.3031026252983294,
          0.515695067264574,
          0.46318289786223277,
          0.48921832884097033,
          0.47453703703703703,
          0.5927209705372617,
          0.2116788321167883,
          0.550351288056206,
          0.6115241635687733
         ],
         "yaxis": "y"
        },
        {
         "line": {
          "color": "black"
         },
         "mode": "lines",
         "name": "perf_metric",
         "type": "scatter",
         "x": [
          1000,
          2000,
          3000,
          4000,
          5000,
          6000,
          7000,
          8000,
          9000,
          10000,
          11000,
          12000,
          13000,
          14000,
          15000,
          16000,
          17000,
          18000,
          19000,
          20000,
          21000,
          22000,
          23000,
          24000,
          25000,
          26000,
          27000,
          28000,
          29000,
          30000,
          31000,
          32000,
          33000,
          34000,
          35000,
          36000,
          37000,
          38000,
          39000,
          40000,
          41000,
          42000,
          43000,
          44000,
          45000,
          46000,
          47000,
          48000,
          49000,
          50000,
          51000,
          52000,
          53000,
          54000,
          55000,
          56000,
          57000,
          58000,
          59000,
          60000,
          61000,
          62000,
          63000,
          64000,
          65000,
          66000,
          67000,
          68000,
          69000,
          70000,
          71000,
          72000,
          73000,
          74000,
          75000,
          76000,
          77000,
          78000,
          79000,
          80000,
          81000,
          82000,
          83000,
          84000,
          85000,
          86000,
          87000,
          88000,
          89000,
          90000,
          91000,
          92000,
          93000,
          94000,
          95000,
          96000,
          97000,
          98000,
          99000,
          100000,
          101000,
          102000,
          103000,
          104000,
          105000,
          106000,
          107000,
          108000,
          109000,
          110000,
          111000,
          112000,
          113000,
          114000,
          115000,
          116000,
          117000,
          118000,
          119000,
          120000,
          121000,
          122000,
          123000,
          124000,
          125000,
          126000,
          127000,
          128000,
          129000,
          130000,
          131000,
          132000,
          133000,
          134000,
          135000,
          136000,
          137000,
          138000,
          139000,
          140000,
          141000,
          142000
         ],
         "y": [
          -0.3023390769958496,
          -0.6974469423294067,
          0.04771915078163147,
          0.4078015089035034,
          1.1932440996170044,
          1.8560377359390259,
          1.8433938026428223,
          2.3628196716308594,
          1.9960979223251343,
          2.4225189685821533,
          2.5261731147766113,
          2.422247886657715,
          2.1560490131378174,
          2.315804958343506,
          2.756420850753784,
          2.7993170738220217,
          2.8422132968902587,
          2.885109519958496,
          2.928005743026733,
          2.9709019660949707,
          2.9951998710632326,
          3.019497776031494,
          3.043795680999756,
          3.0680935859680174,
          3.0923914909362793,
          3.144391345977783,
          3.196391201019287,
          3.248391056060791,
          3.300390911102295,
          3.352390766143799,
          3.345085048675537,
          3.337779331207275,
          3.330473613739014,
          3.323167896270752,
          3.3158621788024902,
          3.3601420402526854,
          3.404421901702881,
          3.448701763153076,
          3.4929816246032717,
          3.537261486053467,
          3.4823867321014403,
          3.427511978149414,
          3.372637224197388,
          3.3177624702453614,
          3.262887716293335,
          3.4026073455810546,
          3.5423269748687742,
          3.6820466041564943,
          3.821766233444214,
          3.9614858627319336,
          3.9742358207702635,
          3.986985778808594,
          3.9997357368469237,
          4.012485694885254,
          4.025235652923584,
          3.9805383682250977,
          3.9358410835266113,
          3.891143798828125,
          3.8464465141296387,
          3.8017492294311523,
          3.8956336975097656,
          3.989518165588379,
          4.083402633666992,
          4.1772871017456055,
          4.271171569824219,
          4.309825992584228,
          4.3484804153442385,
          4.387134838104248,
          4.425789260864258,
          4.464443683624268,
          4.423270845413208,
          4.382098007202148,
          4.340925168991089,
          4.299752330780029,
          4.25857949256897,
          4.2174066543579105,
          4.17623381614685,
          4.135060977935791,
          4.093888139724731,
          4.052715301513672,
          4.009969091415405,
          3.967222881317139,
          3.924476671218872,
          3.8817304611206054,
          3.838984251022339,
          3.7962380409240724,
          3.753491830825806,
          3.710745620727539,
          3.6679994106292724,
          3.625253200531006,
          3.6081200361251833,
          3.5909868717193603,
          3.5738537073135377,
          3.5567205429077147,
          3.539587378501892,
          3.5224542140960695,
          3.5053210496902465,
          3.488187885284424,
          3.471054720878601,
          3.4539215564727783,
          3.505764389038086,
          3.5576072216033934,
          3.6094500541687013,
          3.661292886734009,
          3.7131357192993164,
          3.764978551864624,
          3.8168213844299315,
          3.8686642169952394,
          3.920507049560547,
          3.9723498821258545,
          3.9614800691604612,
          3.9506102561950684,
          3.939740443229675,
          3.9288706302642824,
          3.918000817298889,
          3.907131004333496,
          3.896261191368103,
          3.88539137840271,
          3.874521565437317,
          3.863651752471924,
          3.831834864616394,
          3.800017976760864,
          3.7682010889053346,
          3.7363842010498045,
          3.704567313194275,
          3.6727504253387453,
          3.6409335374832152,
          3.6091166496276856,
          3.5772997617721556,
          3.545482873916626,
          3.6055633783340455,
          3.665643882751465,
          3.725724387168884,
          3.7858048915863036,
          3.845885396003723,
          3.9059659004211427,
          3.966046404838562,
          4.026126909255981,
          4.086207413673401,
          4.14628791809082,
          4.14628791809082,
          4.14628791809082
         ],
         "yaxis": "y2"
        }
       ],
       "layout": {
        "legend": {
         "title": {
          "text": "variable"
         },
         "tracegroupgap": 0
        },
        "template": {
         "data": {
          "bar": [
           {
            "error_x": {
             "color": "#2a3f5f"
            },
            "error_y": {
             "color": "#2a3f5f"
            },
            "marker": {
             "line": {
              "color": "#E5ECF6",
              "width": 0.5
             },
             "pattern": {
              "fillmode": "overlay",
              "size": 10,
              "solidity": 0.2
             }
            },
            "type": "bar"
           }
          ],
          "barpolar": [
           {
            "marker": {
             "line": {
              "color": "#E5ECF6",
              "width": 0.5
             },
             "pattern": {
              "fillmode": "overlay",
              "size": 10,
              "solidity": 0.2
             }
            },
            "type": "barpolar"
           }
          ],
          "carpet": [
           {
            "aaxis": {
             "endlinecolor": "#2a3f5f",
             "gridcolor": "white",
             "linecolor": "white",
             "minorgridcolor": "white",
             "startlinecolor": "#2a3f5f"
            },
            "baxis": {
             "endlinecolor": "#2a3f5f",
             "gridcolor": "white",
             "linecolor": "white",
             "minorgridcolor": "white",
             "startlinecolor": "#2a3f5f"
            },
            "type": "carpet"
           }
          ],
          "choropleth": [
           {
            "colorbar": {
             "outlinewidth": 0,
             "ticks": ""
            },
            "type": "choropleth"
           }
          ],
          "contour": [
           {
            "colorbar": {
             "outlinewidth": 0,
             "ticks": ""
            },
            "colorscale": [
             [
              0,
              "#0d0887"
             ],
             [
              0.1111111111111111,
              "#46039f"
             ],
             [
              0.2222222222222222,
              "#7201a8"
             ],
             [
              0.3333333333333333,
              "#9c179e"
             ],
             [
              0.4444444444444444,
              "#bd3786"
             ],
             [
              0.5555555555555556,
              "#d8576b"
             ],
             [
              0.6666666666666666,
              "#ed7953"
             ],
             [
              0.7777777777777778,
              "#fb9f3a"
             ],
             [
              0.8888888888888888,
              "#fdca26"
             ],
             [
              1,
              "#f0f921"
             ]
            ],
            "type": "contour"
           }
          ],
          "contourcarpet": [
           {
            "colorbar": {
             "outlinewidth": 0,
             "ticks": ""
            },
            "type": "contourcarpet"
           }
          ],
          "heatmap": [
           {
            "colorbar": {
             "outlinewidth": 0,
             "ticks": ""
            },
            "colorscale": [
             [
              0,
              "#0d0887"
             ],
             [
              0.1111111111111111,
              "#46039f"
             ],
             [
              0.2222222222222222,
              "#7201a8"
             ],
             [
              0.3333333333333333,
              "#9c179e"
             ],
             [
              0.4444444444444444,
              "#bd3786"
             ],
             [
              0.5555555555555556,
              "#d8576b"
             ],
             [
              0.6666666666666666,
              "#ed7953"
             ],
             [
              0.7777777777777778,
              "#fb9f3a"
             ],
             [
              0.8888888888888888,
              "#fdca26"
             ],
             [
              1,
              "#f0f921"
             ]
            ],
            "type": "heatmap"
           }
          ],
          "heatmapgl": [
           {
            "colorbar": {
             "outlinewidth": 0,
             "ticks": ""
            },
            "colorscale": [
             [
              0,
              "#0d0887"
             ],
             [
              0.1111111111111111,
              "#46039f"
             ],
             [
              0.2222222222222222,
              "#7201a8"
             ],
             [
              0.3333333333333333,
              "#9c179e"
             ],
             [
              0.4444444444444444,
              "#bd3786"
             ],
             [
              0.5555555555555556,
              "#d8576b"
             ],
             [
              0.6666666666666666,
              "#ed7953"
             ],
             [
              0.7777777777777778,
              "#fb9f3a"
             ],
             [
              0.8888888888888888,
              "#fdca26"
             ],
             [
              1,
              "#f0f921"
             ]
            ],
            "type": "heatmapgl"
           }
          ],
          "histogram": [
           {
            "marker": {
             "pattern": {
              "fillmode": "overlay",
              "size": 10,
              "solidity": 0.2
             }
            },
            "type": "histogram"
           }
          ],
          "histogram2d": [
           {
            "colorbar": {
             "outlinewidth": 0,
             "ticks": ""
            },
            "colorscale": [
             [
              0,
              "#0d0887"
             ],
             [
              0.1111111111111111,
              "#46039f"
             ],
             [
              0.2222222222222222,
              "#7201a8"
             ],
             [
              0.3333333333333333,
              "#9c179e"
             ],
             [
              0.4444444444444444,
              "#bd3786"
             ],
             [
              0.5555555555555556,
              "#d8576b"
             ],
             [
              0.6666666666666666,
              "#ed7953"
             ],
             [
              0.7777777777777778,
              "#fb9f3a"
             ],
             [
              0.8888888888888888,
              "#fdca26"
             ],
             [
              1,
              "#f0f921"
             ]
            ],
            "type": "histogram2d"
           }
          ],
          "histogram2dcontour": [
           {
            "colorbar": {
             "outlinewidth": 0,
             "ticks": ""
            },
            "colorscale": [
             [
              0,
              "#0d0887"
             ],
             [
              0.1111111111111111,
              "#46039f"
             ],
             [
              0.2222222222222222,
              "#7201a8"
             ],
             [
              0.3333333333333333,
              "#9c179e"
             ],
             [
              0.4444444444444444,
              "#bd3786"
             ],
             [
              0.5555555555555556,
              "#d8576b"
             ],
             [
              0.6666666666666666,
              "#ed7953"
             ],
             [
              0.7777777777777778,
              "#fb9f3a"
             ],
             [
              0.8888888888888888,
              "#fdca26"
             ],
             [
              1,
              "#f0f921"
             ]
            ],
            "type": "histogram2dcontour"
           }
          ],
          "mesh3d": [
           {
            "colorbar": {
             "outlinewidth": 0,
             "ticks": ""
            },
            "type": "mesh3d"
           }
          ],
          "parcoords": [
           {
            "line": {
             "colorbar": {
              "outlinewidth": 0,
              "ticks": ""
             }
            },
            "type": "parcoords"
           }
          ],
          "pie": [
           {
            "automargin": true,
            "type": "pie"
           }
          ],
          "scatter": [
           {
            "fillpattern": {
             "fillmode": "overlay",
             "size": 10,
             "solidity": 0.2
            },
            "type": "scatter"
           }
          ],
          "scatter3d": [
           {
            "line": {
             "colorbar": {
              "outlinewidth": 0,
              "ticks": ""
             }
            },
            "marker": {
             "colorbar": {
              "outlinewidth": 0,
              "ticks": ""
             }
            },
            "type": "scatter3d"
           }
          ],
          "scattercarpet": [
           {
            "marker": {
             "colorbar": {
              "outlinewidth": 0,
              "ticks": ""
             }
            },
            "type": "scattercarpet"
           }
          ],
          "scattergeo": [
           {
            "marker": {
             "colorbar": {
              "outlinewidth": 0,
              "ticks": ""
             }
            },
            "type": "scattergeo"
           }
          ],
          "scattergl": [
           {
            "marker": {
             "colorbar": {
              "outlinewidth": 0,
              "ticks": ""
             }
            },
            "type": "scattergl"
           }
          ],
          "scattermapbox": [
           {
            "marker": {
             "colorbar": {
              "outlinewidth": 0,
              "ticks": ""
             }
            },
            "type": "scattermapbox"
           }
          ],
          "scatterpolar": [
           {
            "marker": {
             "colorbar": {
              "outlinewidth": 0,
              "ticks": ""
             }
            },
            "type": "scatterpolar"
           }
          ],
          "scatterpolargl": [
           {
            "marker": {
             "colorbar": {
              "outlinewidth": 0,
              "ticks": ""
             }
            },
            "type": "scatterpolargl"
           }
          ],
          "scatterternary": [
           {
            "marker": {
             "colorbar": {
              "outlinewidth": 0,
              "ticks": ""
             }
            },
            "type": "scatterternary"
           }
          ],
          "surface": [
           {
            "colorbar": {
             "outlinewidth": 0,
             "ticks": ""
            },
            "colorscale": [
             [
              0,
              "#0d0887"
             ],
             [
              0.1111111111111111,
              "#46039f"
             ],
             [
              0.2222222222222222,
              "#7201a8"
             ],
             [
              0.3333333333333333,
              "#9c179e"
             ],
             [
              0.4444444444444444,
              "#bd3786"
             ],
             [
              0.5555555555555556,
              "#d8576b"
             ],
             [
              0.6666666666666666,
              "#ed7953"
             ],
             [
              0.7777777777777778,
              "#fb9f3a"
             ],
             [
              0.8888888888888888,
              "#fdca26"
             ],
             [
              1,
              "#f0f921"
             ]
            ],
            "type": "surface"
           }
          ],
          "table": [
           {
            "cells": {
             "fill": {
              "color": "#EBF0F8"
             },
             "line": {
              "color": "white"
             }
            },
            "header": {
             "fill": {
              "color": "#C8D4E3"
             },
             "line": {
              "color": "white"
             }
            },
            "type": "table"
           }
          ]
         },
         "layout": {
          "annotationdefaults": {
           "arrowcolor": "#2a3f5f",
           "arrowhead": 0,
           "arrowwidth": 1
          },
          "autotypenumbers": "strict",
          "coloraxis": {
           "colorbar": {
            "outlinewidth": 0,
            "ticks": ""
           }
          },
          "colorscale": {
           "diverging": [
            [
             0,
             "#8e0152"
            ],
            [
             0.1,
             "#c51b7d"
            ],
            [
             0.2,
             "#de77ae"
            ],
            [
             0.3,
             "#f1b6da"
            ],
            [
             0.4,
             "#fde0ef"
            ],
            [
             0.5,
             "#f7f7f7"
            ],
            [
             0.6,
             "#e6f5d0"
            ],
            [
             0.7,
             "#b8e186"
            ],
            [
             0.8,
             "#7fbc41"
            ],
            [
             0.9,
             "#4d9221"
            ],
            [
             1,
             "#276419"
            ]
           ],
           "sequential": [
            [
             0,
             "#0d0887"
            ],
            [
             0.1111111111111111,
             "#46039f"
            ],
            [
             0.2222222222222222,
             "#7201a8"
            ],
            [
             0.3333333333333333,
             "#9c179e"
            ],
            [
             0.4444444444444444,
             "#bd3786"
            ],
            [
             0.5555555555555556,
             "#d8576b"
            ],
            [
             0.6666666666666666,
             "#ed7953"
            ],
            [
             0.7777777777777778,
             "#fb9f3a"
            ],
            [
             0.8888888888888888,
             "#fdca26"
            ],
            [
             1,
             "#f0f921"
            ]
           ],
           "sequentialminus": [
            [
             0,
             "#0d0887"
            ],
            [
             0.1111111111111111,
             "#46039f"
            ],
            [
             0.2222222222222222,
             "#7201a8"
            ],
            [
             0.3333333333333333,
             "#9c179e"
            ],
            [
             0.4444444444444444,
             "#bd3786"
            ],
            [
             0.5555555555555556,
             "#d8576b"
            ],
            [
             0.6666666666666666,
             "#ed7953"
            ],
            [
             0.7777777777777778,
             "#fb9f3a"
            ],
            [
             0.8888888888888888,
             "#fdca26"
            ],
            [
             1,
             "#f0f921"
            ]
           ]
          },
          "colorway": [
           "#636efa",
           "#EF553B",
           "#00cc96",
           "#ab63fa",
           "#FFA15A",
           "#19d3f3",
           "#FF6692",
           "#B6E880",
           "#FF97FF",
           "#FECB52"
          ],
          "font": {
           "color": "#2a3f5f"
          },
          "geo": {
           "bgcolor": "white",
           "lakecolor": "white",
           "landcolor": "#E5ECF6",
           "showlakes": true,
           "showland": true,
           "subunitcolor": "white"
          },
          "hoverlabel": {
           "align": "left"
          },
          "hovermode": "closest",
          "mapbox": {
           "style": "light"
          },
          "paper_bgcolor": "white",
          "plot_bgcolor": "#E5ECF6",
          "polar": {
           "angularaxis": {
            "gridcolor": "white",
            "linecolor": "white",
            "ticks": ""
           },
           "bgcolor": "#E5ECF6",
           "radialaxis": {
            "gridcolor": "white",
            "linecolor": "white",
            "ticks": ""
           }
          },
          "scene": {
           "xaxis": {
            "backgroundcolor": "#E5ECF6",
            "gridcolor": "white",
            "gridwidth": 2,
            "linecolor": "white",
            "showbackground": true,
            "ticks": "",
            "zerolinecolor": "white"
           },
           "yaxis": {
            "backgroundcolor": "#E5ECF6",
            "gridcolor": "white",
            "gridwidth": 2,
            "linecolor": "white",
            "showbackground": true,
            "ticks": "",
            "zerolinecolor": "white"
           },
           "zaxis": {
            "backgroundcolor": "#E5ECF6",
            "gridcolor": "white",
            "gridwidth": 2,
            "linecolor": "white",
            "showbackground": true,
            "ticks": "",
            "zerolinecolor": "white"
           }
          },
          "shapedefaults": {
           "line": {
            "color": "#2a3f5f"
           }
          },
          "ternary": {
           "aaxis": {
            "gridcolor": "white",
            "linecolor": "white",
            "ticks": ""
           },
           "baxis": {
            "gridcolor": "white",
            "linecolor": "white",
            "ticks": ""
           },
           "bgcolor": "#E5ECF6",
           "caxis": {
            "gridcolor": "white",
            "linecolor": "white",
            "ticks": ""
           }
          },
          "title": {
           "x": 0.05
          },
          "xaxis": {
           "automargin": true,
           "gridcolor": "white",
           "linecolor": "white",
           "ticks": "",
           "title": {
            "standoff": 15
           },
           "zerolinecolor": "white",
           "zerolinewidth": 2
          },
          "yaxis": {
           "automargin": true,
           "gridcolor": "white",
           "linecolor": "white",
           "ticks": "",
           "title": {
            "standoff": 15
           },
           "zerolinecolor": "white",
           "zerolinewidth": 2
          }
         }
        },
        "title": {
         "text": "Jaccard Similarity Over Time"
        },
        "xaxis": {
         "anchor": "y",
         "domain": [
          0,
          1
         ],
         "title": {
          "text": "checkpoint"
         },
         "type": "log"
        },
        "yaxis": {
         "anchor": "x",
         "domain": [
          0,
          1
         ],
         "title": {
          "text": "Jaccard Similarity to Checkpoint 143000"
         }
        },
        "yaxis2": {
         "overlaying": "y",
         "showgrid": false,
         "side": "right",
         "title": {
          "text": "Probability Difference"
         }
        }
       }
      },
      "text/html": [
       "<div>                            <div id=\"ad8d1551-9a57-44a3-a5b9-c42b771d64bf\" class=\"plotly-graph-div\" style=\"height:525px; width:100%;\"></div>            <script type=\"text/javascript\">                require([\"plotly\"], function(Plotly) {                    window.PLOTLYENV=window.PLOTLYENV || {};                                    if (document.getElementById(\"ad8d1551-9a57-44a3-a5b9-c42b771d64bf\")) {                    Plotly.newPlot(                        \"ad8d1551-9a57-44a3-a5b9-c42b771d64bf\",                        [{\"hovertemplate\":\"variable=jaccard_similarity\\u003cbr\\u003echeckpoint=%{x}\\u003cbr\\u003evalue=%{y}\\u003cextra\\u003e\\u003c\\u002fextra\\u003e\",\"legendgroup\":\"jaccard_similarity\",\"line\":{\"color\":\"lightblue\",\"dash\":\"solid\"},\"marker\":{\"symbol\":\"circle\"},\"mode\":\"lines\",\"name\":\"jaccard_similarity\",\"orientation\":\"v\",\"showlegend\":true,\"x\":[1000,2000,3000,4000,5000,6000,7000,8000,9000,10000,11000,12000,13000,14000,15000,16000,17000,18000,19000,20000,21000,22000,23000,24000,25000,26000,27000,28000,29000,30000,31000,32000,33000,34000,35000,36000,37000,38000,39000,40000,41000,42000,43000,44000,45000,46000,47000,48000,49000,50000,51000,52000,53000,54000,55000,56000,57000,58000,59000,60000,61000,62000,63000,64000,65000,66000,67000,68000,69000,70000,71000,72000,73000,74000,75000,76000,77000,78000,79000,80000,81000,82000,83000,84000,85000,86000,87000,88000,89000,90000,91000,92000,93000,94000,95000,96000,97000,98000,99000,100000,101000,102000,103000,104000,105000,106000,107000,108000,109000,110000,111000,112000,113000,114000,115000,116000,117000,118000,119000,120000,121000,122000,123000,124000,125000,126000,127000,128000,129000,130000,131000,132000,133000,134000,135000,136000,137000,138000,139000,140000,141000,142000],\"xaxis\":\"x\",\"y\":[0.0,0.0,0.014634146341463415,0.0945945945945946,0.08928571428571429,0.10444444444444445,0.11804008908685969,0.1185682326621924,0.12808988764044943,0.0891566265060241,0.15473441108545036,0.15935334872979215,0.15935334872979215,0.1574074074074074,0.17096018735362997,0.26605504587155965,0.24074074074074073,0.26376146788990823,0.2798165137614679,0.17257683215130024,0.33191489361702126,0.2716627634660422,0.27505827505827507,0.35106382978723405,0.17176470588235293,0.37344398340248963,0.3105022831050228,0.37254901960784315,0.28935185185185186,0.16393442622950818,0.2776470588235294,0.3080459770114943,0.34080717488789236,0.42115768463073855,0.17966903073286053,0.40808823529411764,0.2523809523809524,0.3294663573085847,0.3723404255319149,0.1828978622327791,0.4500941619585687,0.35730337078651686,0.43478260869565216,0.39503386004514673,0.18246445497630331,0.45300751879699247,0.16829268292682928,0.20437956204379562,0.45251396648044695,0.19904076738609114,0.16341463414634147,0.1878048780487805,0.4416058394160584,0.45315161839863716,0.18660287081339713,0.4605543710021322,0.45155038759689925,0.16341463414634147,0.43928035982008995,0.19759036144578312,0.43458980044345896,0.3870967741935484,0.4796905222437137,0.23058252427184467,0.19664268585131894,0.24514563106796117,0.18932038834951456,0.43043478260869567,0.4517543859649123,0.18465227817745802,0.2644230769230769,0.46691176470588236,0.26024096385542167,0.3912037037037037,0.4045977011494253,0.3797752808988764,0.47889908256880737,0.18491484184914841,0.17718446601941748,0.18990384615384615,0.45089285714285715,0.1926829268292683,0.17560975609756097,0.22493887530562348,0.26811594202898553,0.39285714285714285,0.23300970873786409,0.14215686274509803,0.12990196078431374,0.20924574209245742,0.33573141486810554,0.3349397590361446,0.20588235294117646,0.17647058823529413,0.16176470588235295,0.2867647058823529,0.2048780487804878,0.23284313725490197,0.38848920863309355,0.18944844124700239,0.48917748917748916,0.5153256704980843,0.3619047619047619,0.23170731707317074,0.4936440677966102,0.53156146179402,0.2818627450980392,0.4804597701149425,0.19852941176470587,0.21323529411764705,0.18382352941176472,0.5243362831858407,0.5180180180180181,0.25,0.06372549019607843,0.22493887530562348,0.061274509803921566,0.4423076923076923,0.6123711340206186,0.21654501216545013,0.4608294930875576,0.575984990619137,0.25735294117647056,0.5780445969125214,0.543801652892562,0.5568760611205433,0.07352941176470588,0.26277372262773724,0.5813528336380256,0.20481927710843373,0.5934959349593496,0.4423076923076923,0.012254901960784314,0.3031026252983294,0.515695067264574,0.46318289786223277,0.48921832884097033,0.47453703703703703,0.5927209705372617,0.2116788321167883,0.550351288056206,0.6115241635687733],\"yaxis\":\"y\",\"type\":\"scatter\"},{\"line\":{\"color\":\"black\"},\"mode\":\"lines\",\"name\":\"perf_metric\",\"x\":[1000,2000,3000,4000,5000,6000,7000,8000,9000,10000,11000,12000,13000,14000,15000,16000,17000,18000,19000,20000,21000,22000,23000,24000,25000,26000,27000,28000,29000,30000,31000,32000,33000,34000,35000,36000,37000,38000,39000,40000,41000,42000,43000,44000,45000,46000,47000,48000,49000,50000,51000,52000,53000,54000,55000,56000,57000,58000,59000,60000,61000,62000,63000,64000,65000,66000,67000,68000,69000,70000,71000,72000,73000,74000,75000,76000,77000,78000,79000,80000,81000,82000,83000,84000,85000,86000,87000,88000,89000,90000,91000,92000,93000,94000,95000,96000,97000,98000,99000,100000,101000,102000,103000,104000,105000,106000,107000,108000,109000,110000,111000,112000,113000,114000,115000,116000,117000,118000,119000,120000,121000,122000,123000,124000,125000,126000,127000,128000,129000,130000,131000,132000,133000,134000,135000,136000,137000,138000,139000,140000,141000,142000],\"y\":[-0.3023390769958496,-0.6974469423294067,0.04771915078163147,0.4078015089035034,1.1932440996170044,1.8560377359390259,1.8433938026428223,2.3628196716308594,1.9960979223251343,2.4225189685821533,2.5261731147766113,2.422247886657715,2.1560490131378174,2.315804958343506,2.756420850753784,2.7993170738220217,2.8422132968902587,2.885109519958496,2.928005743026733,2.9709019660949707,2.9951998710632326,3.019497776031494,3.043795680999756,3.0680935859680174,3.0923914909362793,3.144391345977783,3.196391201019287,3.248391056060791,3.300390911102295,3.352390766143799,3.345085048675537,3.337779331207275,3.330473613739014,3.323167896270752,3.3158621788024902,3.3601420402526854,3.404421901702881,3.448701763153076,3.4929816246032717,3.537261486053467,3.4823867321014403,3.427511978149414,3.372637224197388,3.3177624702453614,3.262887716293335,3.4026073455810546,3.5423269748687742,3.6820466041564943,3.821766233444214,3.9614858627319336,3.9742358207702635,3.986985778808594,3.9997357368469237,4.012485694885254,4.025235652923584,3.9805383682250977,3.9358410835266113,3.891143798828125,3.8464465141296387,3.8017492294311523,3.8956336975097656,3.989518165588379,4.083402633666992,4.1772871017456055,4.271171569824219,4.309825992584228,4.3484804153442385,4.387134838104248,4.425789260864258,4.464443683624268,4.423270845413208,4.382098007202148,4.340925168991089,4.299752330780029,4.25857949256897,4.2174066543579105,4.17623381614685,4.135060977935791,4.093888139724731,4.052715301513672,4.009969091415405,3.967222881317139,3.924476671218872,3.8817304611206054,3.838984251022339,3.7962380409240724,3.753491830825806,3.710745620727539,3.6679994106292724,3.625253200531006,3.6081200361251833,3.5909868717193603,3.5738537073135377,3.5567205429077147,3.539587378501892,3.5224542140960695,3.5053210496902465,3.488187885284424,3.471054720878601,3.4539215564727783,3.505764389038086,3.5576072216033934,3.6094500541687013,3.661292886734009,3.7131357192993164,3.764978551864624,3.8168213844299315,3.8686642169952394,3.920507049560547,3.9723498821258545,3.9614800691604612,3.9506102561950684,3.939740443229675,3.9288706302642824,3.918000817298889,3.907131004333496,3.896261191368103,3.88539137840271,3.874521565437317,3.863651752471924,3.831834864616394,3.800017976760864,3.7682010889053346,3.7363842010498045,3.704567313194275,3.6727504253387453,3.6409335374832152,3.6091166496276856,3.5772997617721556,3.545482873916626,3.6055633783340455,3.665643882751465,3.725724387168884,3.7858048915863036,3.845885396003723,3.9059659004211427,3.966046404838562,4.026126909255981,4.086207413673401,4.14628791809082,4.14628791809082,4.14628791809082],\"yaxis\":\"y2\",\"type\":\"scatter\"}],                        {\"template\":{\"data\":{\"histogram2dcontour\":[{\"type\":\"histogram2dcontour\",\"colorbar\":{\"outlinewidth\":0,\"ticks\":\"\"},\"colorscale\":[[0.0,\"#0d0887\"],[0.1111111111111111,\"#46039f\"],[0.2222222222222222,\"#7201a8\"],[0.3333333333333333,\"#9c179e\"],[0.4444444444444444,\"#bd3786\"],[0.5555555555555556,\"#d8576b\"],[0.6666666666666666,\"#ed7953\"],[0.7777777777777778,\"#fb9f3a\"],[0.8888888888888888,\"#fdca26\"],[1.0,\"#f0f921\"]]}],\"choropleth\":[{\"type\":\"choropleth\",\"colorbar\":{\"outlinewidth\":0,\"ticks\":\"\"}}],\"histogram2d\":[{\"type\":\"histogram2d\",\"colorbar\":{\"outlinewidth\":0,\"ticks\":\"\"},\"colorscale\":[[0.0,\"#0d0887\"],[0.1111111111111111,\"#46039f\"],[0.2222222222222222,\"#7201a8\"],[0.3333333333333333,\"#9c179e\"],[0.4444444444444444,\"#bd3786\"],[0.5555555555555556,\"#d8576b\"],[0.6666666666666666,\"#ed7953\"],[0.7777777777777778,\"#fb9f3a\"],[0.8888888888888888,\"#fdca26\"],[1.0,\"#f0f921\"]]}],\"heatmap\":[{\"type\":\"heatmap\",\"colorbar\":{\"outlinewidth\":0,\"ticks\":\"\"},\"colorscale\":[[0.0,\"#0d0887\"],[0.1111111111111111,\"#46039f\"],[0.2222222222222222,\"#7201a8\"],[0.3333333333333333,\"#9c179e\"],[0.4444444444444444,\"#bd3786\"],[0.5555555555555556,\"#d8576b\"],[0.6666666666666666,\"#ed7953\"],[0.7777777777777778,\"#fb9f3a\"],[0.8888888888888888,\"#fdca26\"],[1.0,\"#f0f921\"]]}],\"heatmapgl\":[{\"type\":\"heatmapgl\",\"colorbar\":{\"outlinewidth\":0,\"ticks\":\"\"},\"colorscale\":[[0.0,\"#0d0887\"],[0.1111111111111111,\"#46039f\"],[0.2222222222222222,\"#7201a8\"],[0.3333333333333333,\"#9c179e\"],[0.4444444444444444,\"#bd3786\"],[0.5555555555555556,\"#d8576b\"],[0.6666666666666666,\"#ed7953\"],[0.7777777777777778,\"#fb9f3a\"],[0.8888888888888888,\"#fdca26\"],[1.0,\"#f0f921\"]]}],\"contourcarpet\":[{\"type\":\"contourcarpet\",\"colorbar\":{\"outlinewidth\":0,\"ticks\":\"\"}}],\"contour\":[{\"type\":\"contour\",\"colorbar\":{\"outlinewidth\":0,\"ticks\":\"\"},\"colorscale\":[[0.0,\"#0d0887\"],[0.1111111111111111,\"#46039f\"],[0.2222222222222222,\"#7201a8\"],[0.3333333333333333,\"#9c179e\"],[0.4444444444444444,\"#bd3786\"],[0.5555555555555556,\"#d8576b\"],[0.6666666666666666,\"#ed7953\"],[0.7777777777777778,\"#fb9f3a\"],[0.8888888888888888,\"#fdca26\"],[1.0,\"#f0f921\"]]}],\"surface\":[{\"type\":\"surface\",\"colorbar\":{\"outlinewidth\":0,\"ticks\":\"\"},\"colorscale\":[[0.0,\"#0d0887\"],[0.1111111111111111,\"#46039f\"],[0.2222222222222222,\"#7201a8\"],[0.3333333333333333,\"#9c179e\"],[0.4444444444444444,\"#bd3786\"],[0.5555555555555556,\"#d8576b\"],[0.6666666666666666,\"#ed7953\"],[0.7777777777777778,\"#fb9f3a\"],[0.8888888888888888,\"#fdca26\"],[1.0,\"#f0f921\"]]}],\"mesh3d\":[{\"type\":\"mesh3d\",\"colorbar\":{\"outlinewidth\":0,\"ticks\":\"\"}}],\"scatter\":[{\"fillpattern\":{\"fillmode\":\"overlay\",\"size\":10,\"solidity\":0.2},\"type\":\"scatter\"}],\"parcoords\":[{\"type\":\"parcoords\",\"line\":{\"colorbar\":{\"outlinewidth\":0,\"ticks\":\"\"}}}],\"scatterpolargl\":[{\"type\":\"scatterpolargl\",\"marker\":{\"colorbar\":{\"outlinewidth\":0,\"ticks\":\"\"}}}],\"bar\":[{\"error_x\":{\"color\":\"#2a3f5f\"},\"error_y\":{\"color\":\"#2a3f5f\"},\"marker\":{\"line\":{\"color\":\"#E5ECF6\",\"width\":0.5},\"pattern\":{\"fillmode\":\"overlay\",\"size\":10,\"solidity\":0.2}},\"type\":\"bar\"}],\"scattergeo\":[{\"type\":\"scattergeo\",\"marker\":{\"colorbar\":{\"outlinewidth\":0,\"ticks\":\"\"}}}],\"scatterpolar\":[{\"type\":\"scatterpolar\",\"marker\":{\"colorbar\":{\"outlinewidth\":0,\"ticks\":\"\"}}}],\"histogram\":[{\"marker\":{\"pattern\":{\"fillmode\":\"overlay\",\"size\":10,\"solidity\":0.2}},\"type\":\"histogram\"}],\"scattergl\":[{\"type\":\"scattergl\",\"marker\":{\"colorbar\":{\"outlinewidth\":0,\"ticks\":\"\"}}}],\"scatter3d\":[{\"type\":\"scatter3d\",\"line\":{\"colorbar\":{\"outlinewidth\":0,\"ticks\":\"\"}},\"marker\":{\"colorbar\":{\"outlinewidth\":0,\"ticks\":\"\"}}}],\"scattermapbox\":[{\"type\":\"scattermapbox\",\"marker\":{\"colorbar\":{\"outlinewidth\":0,\"ticks\":\"\"}}}],\"scatterternary\":[{\"type\":\"scatterternary\",\"marker\":{\"colorbar\":{\"outlinewidth\":0,\"ticks\":\"\"}}}],\"scattercarpet\":[{\"type\":\"scattercarpet\",\"marker\":{\"colorbar\":{\"outlinewidth\":0,\"ticks\":\"\"}}}],\"carpet\":[{\"aaxis\":{\"endlinecolor\":\"#2a3f5f\",\"gridcolor\":\"white\",\"linecolor\":\"white\",\"minorgridcolor\":\"white\",\"startlinecolor\":\"#2a3f5f\"},\"baxis\":{\"endlinecolor\":\"#2a3f5f\",\"gridcolor\":\"white\",\"linecolor\":\"white\",\"minorgridcolor\":\"white\",\"startlinecolor\":\"#2a3f5f\"},\"type\":\"carpet\"}],\"table\":[{\"cells\":{\"fill\":{\"color\":\"#EBF0F8\"},\"line\":{\"color\":\"white\"}},\"header\":{\"fill\":{\"color\":\"#C8D4E3\"},\"line\":{\"color\":\"white\"}},\"type\":\"table\"}],\"barpolar\":[{\"marker\":{\"line\":{\"color\":\"#E5ECF6\",\"width\":0.5},\"pattern\":{\"fillmode\":\"overlay\",\"size\":10,\"solidity\":0.2}},\"type\":\"barpolar\"}],\"pie\":[{\"automargin\":true,\"type\":\"pie\"}]},\"layout\":{\"autotypenumbers\":\"strict\",\"colorway\":[\"#636efa\",\"#EF553B\",\"#00cc96\",\"#ab63fa\",\"#FFA15A\",\"#19d3f3\",\"#FF6692\",\"#B6E880\",\"#FF97FF\",\"#FECB52\"],\"font\":{\"color\":\"#2a3f5f\"},\"hovermode\":\"closest\",\"hoverlabel\":{\"align\":\"left\"},\"paper_bgcolor\":\"white\",\"plot_bgcolor\":\"#E5ECF6\",\"polar\":{\"bgcolor\":\"#E5ECF6\",\"angularaxis\":{\"gridcolor\":\"white\",\"linecolor\":\"white\",\"ticks\":\"\"},\"radialaxis\":{\"gridcolor\":\"white\",\"linecolor\":\"white\",\"ticks\":\"\"}},\"ternary\":{\"bgcolor\":\"#E5ECF6\",\"aaxis\":{\"gridcolor\":\"white\",\"linecolor\":\"white\",\"ticks\":\"\"},\"baxis\":{\"gridcolor\":\"white\",\"linecolor\":\"white\",\"ticks\":\"\"},\"caxis\":{\"gridcolor\":\"white\",\"linecolor\":\"white\",\"ticks\":\"\"}},\"coloraxis\":{\"colorbar\":{\"outlinewidth\":0,\"ticks\":\"\"}},\"colorscale\":{\"sequential\":[[0.0,\"#0d0887\"],[0.1111111111111111,\"#46039f\"],[0.2222222222222222,\"#7201a8\"],[0.3333333333333333,\"#9c179e\"],[0.4444444444444444,\"#bd3786\"],[0.5555555555555556,\"#d8576b\"],[0.6666666666666666,\"#ed7953\"],[0.7777777777777778,\"#fb9f3a\"],[0.8888888888888888,\"#fdca26\"],[1.0,\"#f0f921\"]],\"sequentialminus\":[[0.0,\"#0d0887\"],[0.1111111111111111,\"#46039f\"],[0.2222222222222222,\"#7201a8\"],[0.3333333333333333,\"#9c179e\"],[0.4444444444444444,\"#bd3786\"],[0.5555555555555556,\"#d8576b\"],[0.6666666666666666,\"#ed7953\"],[0.7777777777777778,\"#fb9f3a\"],[0.8888888888888888,\"#fdca26\"],[1.0,\"#f0f921\"]],\"diverging\":[[0,\"#8e0152\"],[0.1,\"#c51b7d\"],[0.2,\"#de77ae\"],[0.3,\"#f1b6da\"],[0.4,\"#fde0ef\"],[0.5,\"#f7f7f7\"],[0.6,\"#e6f5d0\"],[0.7,\"#b8e186\"],[0.8,\"#7fbc41\"],[0.9,\"#4d9221\"],[1,\"#276419\"]]},\"xaxis\":{\"gridcolor\":\"white\",\"linecolor\":\"white\",\"ticks\":\"\",\"title\":{\"standoff\":15},\"zerolinecolor\":\"white\",\"automargin\":true,\"zerolinewidth\":2},\"yaxis\":{\"gridcolor\":\"white\",\"linecolor\":\"white\",\"ticks\":\"\",\"title\":{\"standoff\":15},\"zerolinecolor\":\"white\",\"automargin\":true,\"zerolinewidth\":2},\"scene\":{\"xaxis\":{\"backgroundcolor\":\"#E5ECF6\",\"gridcolor\":\"white\",\"linecolor\":\"white\",\"showbackground\":true,\"ticks\":\"\",\"zerolinecolor\":\"white\",\"gridwidth\":2},\"yaxis\":{\"backgroundcolor\":\"#E5ECF6\",\"gridcolor\":\"white\",\"linecolor\":\"white\",\"showbackground\":true,\"ticks\":\"\",\"zerolinecolor\":\"white\",\"gridwidth\":2},\"zaxis\":{\"backgroundcolor\":\"#E5ECF6\",\"gridcolor\":\"white\",\"linecolor\":\"white\",\"showbackground\":true,\"ticks\":\"\",\"zerolinecolor\":\"white\",\"gridwidth\":2}},\"shapedefaults\":{\"line\":{\"color\":\"#2a3f5f\"}},\"annotationdefaults\":{\"arrowcolor\":\"#2a3f5f\",\"arrowhead\":0,\"arrowwidth\":1},\"geo\":{\"bgcolor\":\"white\",\"landcolor\":\"#E5ECF6\",\"subunitcolor\":\"white\",\"showland\":true,\"showlakes\":true,\"lakecolor\":\"white\"},\"title\":{\"x\":0.05},\"mapbox\":{\"style\":\"light\"}}},\"xaxis\":{\"anchor\":\"y\",\"domain\":[0.0,1.0],\"title\":{\"text\":\"checkpoint\"},\"type\":\"log\"},\"yaxis\":{\"anchor\":\"x\",\"domain\":[0.0,1.0],\"title\":{\"text\":\"Jaccard Similarity to Checkpoint 143000\"}},\"legend\":{\"title\":{\"text\":\"variable\"},\"tracegroupgap\":0},\"title\":{\"text\":\"Jaccard Similarity Over Time\"},\"yaxis2\":{\"title\":{\"text\":\"Probability Difference\"},\"overlaying\":\"y\",\"side\":\"right\",\"showgrid\":false}},                        {\"responsive\": true}                    ).then(function(){\n",
       "                            \n",
       "var gd = document.getElementById('ad8d1551-9a57-44a3-a5b9-c42b771d64bf');\n",
       "var x = new MutationObserver(function (mutations, observer) {{\n",
       "        var display = window.getComputedStyle(gd).display;\n",
       "        if (!display || display === 'none') {{\n",
       "            console.log([gd, 'removed!']);\n",
       "            Plotly.purge(gd);\n",
       "            observer.disconnect();\n",
       "        }}\n",
       "}});\n",
       "\n",
       "// Listen for the removal of the full notebook cells\n",
       "var notebookContainer = gd.closest('#notebook-container');\n",
       "if (notebookContainer) {{\n",
       "    x.observe(notebookContainer, {childList: true});\n",
       "}}\n",
       "\n",
       "// Listen for the clearing of the current output cell\n",
       "var outputEl = gd.closest('.output');\n",
       "if (outputEl) {{\n",
       "    x.observe(outputEl, {childList: true});\n",
       "}}\n",
       "\n",
       "                        })                };                });            </script>        </div>"
      ]
     },
     "metadata": {},
     "output_type": "display_data"
    }
   ],
   "source": [
    "comparison_checkpoint = 143000\n",
    "\n",
    "jaccard_reference_results = compute_jaccard_similarity_to_reference(df, comparison_checkpoint)\n",
    "\n",
    "# Add a new column for the performance metric by mapping the checkpoint_2 values using the perf_metric_dict\n",
    "jaccard_reference_results['perf_metric'] = jaccard_reference_results['checkpoint'].map(perf_metric_dict)\n",
    "\n",
    "# Interpolate missing values\n",
    "jaccard_reference_results['perf_metric'] = jaccard_reference_results['perf_metric'].interpolate(method='linear')\n",
    "\n",
    "# plot jaccard similarity over time\n",
    "fig = px.line(jaccard_reference_results, x='checkpoint', y=['jaccard_similarity'], title='Jaccard Similarity Over Time', log_x=True)\n",
    "\n",
    "# Specify colors for each line\n",
    "colors = {'jaccard_similarity': 'lightblue', 'perf_metric': 'black'}\n",
    "\n",
    "# Update each trace with the specified color\n",
    "for i, trace in enumerate(fig.data):\n",
    "    fig.data[i].update(line=dict(color=colors[trace.name]))\n",
    "\n",
    "\n",
    "fig.update_layout(\n",
    "    yaxis2=dict(title=\"Probability Difference\", overlaying=\"y\", side=\"right\", showgrid=False)\n",
    ")\n",
    "fig.add_trace(\n",
    "    go.Scatter(x=jaccard_reference_results['checkpoint'], y=jaccard_reference_results['perf_metric'], name='perf_metric', mode='lines', yaxis='y2', line=dict(color=colors['perf_metric']))\n",
    ")\n",
    "\n",
    "# Optional: Update the layout if you need to adjust titles or other aesthetics\n",
    "fig.update_layout(\n",
    "    yaxis_title=f\"Jaccard Similarity to Checkpoint {comparison_checkpoint}\"\n",
    ")\n",
    "\n",
    "fig.show()"
   ]
  },
  {
   "cell_type": "code",
   "execution_count": null,
   "metadata": {},
   "outputs": [],
   "source": []
  }
 ],
 "metadata": {
  "kernelspec": {
   "display_name": "Python 3 (ipykernel)",
   "language": "python",
   "name": "python3"
  },
  "language_info": {
   "codemirror_mode": {
    "name": "ipython",
    "version": 3
   },
   "file_extension": ".py",
   "mimetype": "text/x-python",
   "name": "python",
   "nbconvert_exporter": "python",
   "pygments_lexer": "ipython3",
   "version": "3.10.13"
  },
  "orig_nbformat": 4
 },
 "nbformat": 4,
 "nbformat_minor": 2
}
