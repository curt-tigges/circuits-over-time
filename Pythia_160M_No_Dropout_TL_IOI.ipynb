{
  "cells": [
    {
      "cell_type": "markdown",
      "metadata": {
        "id": "rbHij6RQTFny"
      },
      "source": [
        "# Indirect Object Identification Circuit in Pythia"
      ]
    },
    {
      "cell_type": "code",
      "execution_count": 1,
      "metadata": {},
      "outputs": [
        {
          "name": "stderr",
          "output_type": "stream",
          "text": [
            "/tmp/ipykernel_2109713/2182663555.py:6: DeprecationWarning: `magic(...)` is deprecated since IPython 0.13 (warning added in 8.1), use run_line_magic(magic_name, parameter_s).\n",
            "  ipython.magic(\"load_ext autoreload\")\n",
            "/tmp/ipykernel_2109713/2182663555.py:7: DeprecationWarning: `magic(...)` is deprecated since IPython 0.13 (warning added in 8.1), use run_line_magic(magic_name, parameter_s).\n",
            "  ipython.magic(\"autoreload 2\")\n"
          ]
        }
      ],
      "source": [
        "\n",
        "IN_COLAB = False\n",
        "from IPython import get_ipython\n",
        "\n",
        "ipython = get_ipython()\n",
        "# Code to automatically update the HookedTransformer code as its edited without restarting the kernel\n",
        "ipython.magic(\"load_ext autoreload\")\n",
        "ipython.magic(\"autoreload 2\")"
      ]
    },
    {
      "cell_type": "code",
      "execution_count": 2,
      "metadata": {},
      "outputs": [],
      "source": [
        "import os\n",
        "import pathlib\n",
        "from typing import List, Optional, Union\n",
        "\n",
        "import torch\n",
        "import numpy as np\n",
        "import yaml\n",
        "\n",
        "import einops\n",
        "from fancy_einsum import einsum\n",
        "\n",
        "from datasets import load_dataset\n",
        "from transformers import pipeline\n",
        "import plotly.io as pio\n",
        "import plotly.express as px\n",
        "#import pysvelte\n",
        "from IPython.display import HTML\n",
        "\n",
        "import plotly.graph_objs as go\n",
        "import ipywidgets as widgets\n",
        "from IPython.display import display\n",
        "\n",
        "# if IN_COLAB or not DEBUG_MODE:\n",
        "#     # Thanks to annoying rendering issues, Plotly graphics will either show up in colab OR Vscode depending on the renderer - this is bad for developing demos! Thus creating a debug mode.\n",
        "#     pio.renderers.default = \"colab\"\n",
        "# else:\n",
        "#     pio.renderers.default = \"plotly_mimetype+notebook\"\n",
        "\n",
        "if torch.cuda.is_available():\n",
        "    device = int(os.environ.get(\"LOCAL_RANK\", 0))\n",
        "else:\n",
        "    device = \"cpu\""
      ]
    },
    {
      "cell_type": "code",
      "execution_count": 3,
      "metadata": {},
      "outputs": [],
      "source": [
        "import transformers\n",
        "from transformers import AutoConfig, AutoModel, AutoModelForCausalLM\n",
        "import transformer_lens\n",
        "import transformer_lens.utils as utils\n",
        "import transformer_lens.patching as patching\n",
        "from transformer_lens.hook_points import (\n",
        "    HookedRootModule,\n",
        "    HookPoint,\n",
        ")  # Hooking utilities\n",
        "from transformer_lens import HookedTransformer, HookedTransformerConfig, FactoredMatrix, ActivationCache\n",
        "\n",
        "from functools import partial\n",
        "\n",
        "from torchtyping import TensorType as TT"
      ]
    },
    {
      "cell_type": "code",
      "execution_count": 4,
      "metadata": {},
      "outputs": [
        {
          "name": "stdout",
          "output_type": "stream",
          "text": [
            "Token is valid.\n",
            "Your token has been saved in your configured git credential helpers (store).\n",
            "Your token has been saved to /home/curttigges/.cache/huggingface/token\n",
            "Login successful\n"
          ]
        }
      ],
      "source": [
        "import huggingface_hub\n",
        "huggingface_hub.notebook_login()"
      ]
    },
    {
      "cell_type": "code",
      "execution_count": 5,
      "metadata": {},
      "outputs": [
        {
          "data": {
            "text/plain": [
              "<torch.autograd.grad_mode.set_grad_enabled at 0x7f416863ceb0>"
            ]
          },
          "execution_count": 5,
          "metadata": {},
          "output_type": "execute_result"
        }
      ],
      "source": [
        "torch.set_grad_enabled(False)"
      ]
    },
    {
      "cell_type": "code",
      "execution_count": 6,
      "metadata": {},
      "outputs": [],
      "source": [
        "from neel_plotly import line, imshow, scatter\n",
        "\n",
        "def l_imshow(tensor, renderer=None, **kwargs):\n",
        "    px.imshow(utils.to_numpy(tensor), color_continuous_midpoint=0.0, color_continuous_scale=\"RdBu\", **kwargs).show(renderer)\n",
        "\n",
        "def l_line(tensor, renderer=None, **kwargs):\n",
        "    px.line(y=utils.to_numpy(tensor), **kwargs).show(renderer)\n",
        "\n",
        "def l_scatter(x, y, xaxis=\"\", yaxis=\"\", caxis=\"\", renderer=None, **kwargs):\n",
        "    x = utils.to_numpy(x)\n",
        "    y = utils.to_numpy(y)\n",
        "    px.scatter(y=y, x=x, labels={\"x\":xaxis, \"y\":yaxis, \"color\":caxis}, **kwargs).show(renderer)\n",
        "\n",
        "def two_lines(tensor1, tensor2, renderer=None, **kwargs):\n",
        "    px.line(y=[utils.to_numpy(tensor1), utils.to_numpy(tensor2)], **kwargs).show(renderer)"
      ]
    },
    {
      "attachments": {},
      "cell_type": "markdown",
      "metadata": {},
      "source": [
        "### Old"
      ]
    },
    {
      "cell_type": "code",
      "execution_count": 28,
      "metadata": {
        "colab": {
          "base_uri": "https://localhost:8080/",
          "height": 1000
        },
        "id": "NT9IaPpP_jhl",
        "outputId": "7c68f016-9a03-4537-aac4-925d76d39105"
      },
      "outputs": [
        {
          "name": "stdout",
          "output_type": "stream",
          "text": [
            "Running as a Colab notebook\n",
            "Looking in indexes: https://pypi.org/simple, https://us-python.pkg.dev/colab-wheels/public/simple/\n",
            "Collecting git+https://github.com/neelnanda-io/TransformerLens.git@e752908b9e35db84697d5ca78576a23c2f8b0bf4\n",
            "  Cloning https://github.com/neelnanda-io/TransformerLens.git (to revision e752908b9e35db84697d5ca78576a23c2f8b0bf4) to /tmp/pip-req-build-nwu44twa\n",
            "  Running command git clone --filter=blob:none --quiet https://github.com/neelnanda-io/TransformerLens.git /tmp/pip-req-build-nwu44twa\n",
            "  Running command git rev-parse -q --verify 'sha^e752908b9e35db84697d5ca78576a23c2f8b0bf4'\n",
            "  Running command git fetch -q https://github.com/neelnanda-io/TransformerLens.git e752908b9e35db84697d5ca78576a23c2f8b0bf4\n",
            "  Running command git checkout -q e752908b9e35db84697d5ca78576a23c2f8b0bf4\n",
            "  Resolved https://github.com/neelnanda-io/TransformerLens.git to commit e752908b9e35db84697d5ca78576a23c2f8b0bf4\n",
            "  Installing build dependencies ... \u001b[?25l\u001b[?25hdone\n",
            "  Getting requirements to build wheel ... \u001b[?25l\u001b[?25hdone\n",
            "  Preparing metadata (pyproject.toml) ... \u001b[?25l\u001b[?25hdone\n",
            "Requirement already satisfied: tqdm<5.0.0,>=4.64.1 in /usr/local/lib/python3.9/dist-packages (from transformer-lens==0.0.0) (4.65.0)\n",
            "Requirement already satisfied: transformers<5.0.0,>=4.25.1 in /usr/local/lib/python3.9/dist-packages (from transformer-lens==0.0.0) (4.27.4)\n",
            "Collecting rich<13.0.0,>=12.6.0\n",
            "  Downloading rich-12.6.0-py3-none-any.whl (237 kB)\n",
            "\u001b[2K     \u001b[90m━━━━━━━━━━━━━━━━━━━━━━━━━━━━━━━━━━━━━━━\u001b[0m \u001b[32m237.5/237.5 KB\u001b[0m \u001b[31m3.8 MB/s\u001b[0m eta \u001b[36m0:00:00\u001b[0m\n",
            "\u001b[?25hRequirement already satisfied: pandas<2.0.0,>=1.1.5 in /usr/local/lib/python3.9/dist-packages (from transformer-lens==0.0.0) (1.4.4)\n",
            "Requirement already satisfied: numpy<2.0,>=1.21 in /usr/local/lib/python3.9/dist-packages (from transformer-lens==0.0.0) (1.22.4)\n",
            "Requirement already satisfied: datasets<3.0.0,>=2.7.1 in /usr/local/lib/python3.9/dist-packages (from transformer-lens==0.0.0) (2.11.0)\n",
            "Requirement already satisfied: jaxtyping<0.3.0,>=0.2.11 in /usr/local/lib/python3.9/dist-packages (from transformer-lens==0.0.0) (0.2.14)\n",
            "Requirement already satisfied: fancy-einsum<0.0.4,>=0.0.3 in /usr/local/lib/python3.9/dist-packages (from transformer-lens==0.0.0) (0.0.3)\n",
            "Collecting wandb<0.14.0,>=0.13.5\n",
            "  Downloading wandb-0.13.11-py3-none-any.whl (2.0 MB)\n",
            "\u001b[2K     \u001b[90m━━━━━━━━━━━━━━━━━━━━━━━━━━━━━━━━━━━━━━━━\u001b[0m \u001b[32m2.0/2.0 MB\u001b[0m \u001b[31m42.3 MB/s\u001b[0m eta \u001b[36m0:00:00\u001b[0m\n",
            "\u001b[?25hRequirement already satisfied: torch<2.0,>=1.10 in /usr/local/lib/python3.9/dist-packages (from transformer-lens==0.0.0) (1.13.1+cu116)\n",
            "Requirement already satisfied: einops<0.7.0,>=0.6.0 in /usr/local/lib/python3.9/dist-packages (from transformer-lens==0.0.0) (0.6.0)\n",
            "Requirement already satisfied: dill<0.3.7,>=0.3.0 in /usr/local/lib/python3.9/dist-packages (from datasets<3.0.0,>=2.7.1->transformer-lens==0.0.0) (0.3.6)\n",
            "Requirement already satisfied: packaging in /usr/local/lib/python3.9/dist-packages (from datasets<3.0.0,>=2.7.1->transformer-lens==0.0.0) (23.0)\n",
            "Requirement already satisfied: multiprocess in /usr/local/lib/python3.9/dist-packages (from datasets<3.0.0,>=2.7.1->transformer-lens==0.0.0) (0.70.14)\n",
            "Requirement already satisfied: xxhash in /usr/local/lib/python3.9/dist-packages (from datasets<3.0.0,>=2.7.1->transformer-lens==0.0.0) (3.2.0)\n",
            "Requirement already satisfied: fsspec[http]>=2021.11.1 in /usr/local/lib/python3.9/dist-packages (from datasets<3.0.0,>=2.7.1->transformer-lens==0.0.0) (2023.3.0)\n",
            "Requirement already satisfied: aiohttp in /usr/local/lib/python3.9/dist-packages (from datasets<3.0.0,>=2.7.1->transformer-lens==0.0.0) (3.8.4)\n",
            "Requirement already satisfied: huggingface-hub<1.0.0,>=0.11.0 in /usr/local/lib/python3.9/dist-packages (from datasets<3.0.0,>=2.7.1->transformer-lens==0.0.0) (0.13.3)\n",
            "Requirement already satisfied: pyarrow>=8.0.0 in /usr/local/lib/python3.9/dist-packages (from datasets<3.0.0,>=2.7.1->transformer-lens==0.0.0) (9.0.0)\n",
            "Requirement already satisfied: pyyaml>=5.1 in /usr/local/lib/python3.9/dist-packages (from datasets<3.0.0,>=2.7.1->transformer-lens==0.0.0) (6.0)\n",
            "Requirement already satisfied: responses<0.19 in /usr/local/lib/python3.9/dist-packages (from datasets<3.0.0,>=2.7.1->transformer-lens==0.0.0) (0.18.0)\n",
            "Requirement already satisfied: requests>=2.19.0 in /usr/local/lib/python3.9/dist-packages (from datasets<3.0.0,>=2.7.1->transformer-lens==0.0.0) (2.27.1)\n",
            "Requirement already satisfied: typing-extensions>=3.7.4.1 in /usr/local/lib/python3.9/dist-packages (from jaxtyping<0.3.0,>=0.2.11->transformer-lens==0.0.0) (4.5.0)\n",
            "Requirement already satisfied: typeguard>=2.13.3 in /usr/local/lib/python3.9/dist-packages (from jaxtyping<0.3.0,>=0.2.11->transformer-lens==0.0.0) (3.0.2)\n",
            "Requirement already satisfied: python-dateutil>=2.8.1 in /usr/local/lib/python3.9/dist-packages (from pandas<2.0.0,>=1.1.5->transformer-lens==0.0.0) (2.8.2)\n",
            "Requirement already satisfied: pytz>=2020.1 in /usr/local/lib/python3.9/dist-packages (from pandas<2.0.0,>=1.1.5->transformer-lens==0.0.0) (2022.7.1)\n",
            "Requirement already satisfied: pygments<3.0.0,>=2.6.0 in /usr/local/lib/python3.9/dist-packages (from rich<13.0.0,>=12.6.0->transformer-lens==0.0.0) (2.14.0)\n",
            "Collecting commonmark<0.10.0,>=0.9.0\n",
            "  Downloading commonmark-0.9.1-py2.py3-none-any.whl (51 kB)\n",
            "\u001b[2K     \u001b[90m━━━━━━━━━━━━━━━━━━━━━━━━━━━━━━━━━━━━━━━━\u001b[0m \u001b[32m51.1/51.1 KB\u001b[0m \u001b[31m6.1 MB/s\u001b[0m eta \u001b[36m0:00:00\u001b[0m\n",
            "\u001b[?25hRequirement already satisfied: tokenizers!=0.11.3,<0.14,>=0.11.1 in /usr/local/lib/python3.9/dist-packages (from transformers<5.0.0,>=4.25.1->transformer-lens==0.0.0) (0.13.2)\n",
            "Requirement already satisfied: regex!=2019.12.17 in /usr/local/lib/python3.9/dist-packages (from transformers<5.0.0,>=4.25.1->transformer-lens==0.0.0) (2022.10.31)\n",
            "Requirement already satisfied: filelock in /usr/local/lib/python3.9/dist-packages (from transformers<5.0.0,>=4.25.1->transformer-lens==0.0.0) (3.10.7)\n",
            "Requirement already satisfied: appdirs>=1.4.3 in /usr/local/lib/python3.9/dist-packages (from wandb<0.14.0,>=0.13.5->transformer-lens==0.0.0) (1.4.4)\n",
            "Requirement already satisfied: setproctitle in /usr/local/lib/python3.9/dist-packages (from wandb<0.14.0,>=0.13.5->transformer-lens==0.0.0) (1.3.2)\n",
            "Requirement already satisfied: GitPython!=3.1.29,>=1.0.0 in /usr/local/lib/python3.9/dist-packages (from wandb<0.14.0,>=0.13.5->transformer-lens==0.0.0) (3.1.31)\n",
            "Requirement already satisfied: pathtools in /usr/local/lib/python3.9/dist-packages (from wandb<0.14.0,>=0.13.5->transformer-lens==0.0.0) (0.1.2)\n",
            "Requirement already satisfied: psutil>=5.0.0 in /usr/local/lib/python3.9/dist-packages (from wandb<0.14.0,>=0.13.5->transformer-lens==0.0.0) (5.9.4)\n",
            "Requirement already satisfied: docker-pycreds>=0.4.0 in /usr/local/lib/python3.9/dist-packages (from wandb<0.14.0,>=0.13.5->transformer-lens==0.0.0) (0.4.0)\n",
            "Requirement already satisfied: sentry-sdk>=1.0.0 in /usr/local/lib/python3.9/dist-packages (from wandb<0.14.0,>=0.13.5->transformer-lens==0.0.0) (1.18.0)\n",
            "Requirement already satisfied: Click!=8.0.0,>=7.0 in /usr/local/lib/python3.9/dist-packages (from wandb<0.14.0,>=0.13.5->transformer-lens==0.0.0) (8.1.3)\n",
            "Requirement already satisfied: protobuf!=4.21.0,<5,>=3.15.0 in /usr/local/lib/python3.9/dist-packages (from wandb<0.14.0,>=0.13.5->transformer-lens==0.0.0) (3.20.3)\n",
            "Requirement already satisfied: setuptools in /usr/local/lib/python3.9/dist-packages (from wandb<0.14.0,>=0.13.5->transformer-lens==0.0.0) (67.6.1)\n",
            "Requirement already satisfied: six>=1.4.0 in /usr/local/lib/python3.9/dist-packages (from docker-pycreds>=0.4.0->wandb<0.14.0,>=0.13.5->transformer-lens==0.0.0) (1.16.0)\n",
            "Requirement already satisfied: frozenlist>=1.1.1 in /usr/local/lib/python3.9/dist-packages (from aiohttp->datasets<3.0.0,>=2.7.1->transformer-lens==0.0.0) (1.3.3)\n",
            "Requirement already satisfied: aiosignal>=1.1.2 in /usr/local/lib/python3.9/dist-packages (from aiohttp->datasets<3.0.0,>=2.7.1->transformer-lens==0.0.0) (1.3.1)\n",
            "Requirement already satisfied: async-timeout<5.0,>=4.0.0a3 in /usr/local/lib/python3.9/dist-packages (from aiohttp->datasets<3.0.0,>=2.7.1->transformer-lens==0.0.0) (4.0.2)\n",
            "Requirement already satisfied: attrs>=17.3.0 in /usr/local/lib/python3.9/dist-packages (from aiohttp->datasets<3.0.0,>=2.7.1->transformer-lens==0.0.0) (22.2.0)\n",
            "Requirement already satisfied: charset-normalizer<4.0,>=2.0 in /usr/local/lib/python3.9/dist-packages (from aiohttp->datasets<3.0.0,>=2.7.1->transformer-lens==0.0.0) (2.0.12)\n",
            "Requirement already satisfied: yarl<2.0,>=1.0 in /usr/local/lib/python3.9/dist-packages (from aiohttp->datasets<3.0.0,>=2.7.1->transformer-lens==0.0.0) (1.8.2)\n",
            "Requirement already satisfied: multidict<7.0,>=4.5 in /usr/local/lib/python3.9/dist-packages (from aiohttp->datasets<3.0.0,>=2.7.1->transformer-lens==0.0.0) (6.0.4)\n",
            "Requirement already satisfied: gitdb<5,>=4.0.1 in /usr/local/lib/python3.9/dist-packages (from GitPython!=3.1.29,>=1.0.0->wandb<0.14.0,>=0.13.5->transformer-lens==0.0.0) (4.0.10)\n",
            "Requirement already satisfied: urllib3<1.27,>=1.21.1 in /usr/local/lib/python3.9/dist-packages (from requests>=2.19.0->datasets<3.0.0,>=2.7.1->transformer-lens==0.0.0) (1.26.15)\n",
            "Requirement already satisfied: certifi>=2017.4.17 in /usr/local/lib/python3.9/dist-packages (from requests>=2.19.0->datasets<3.0.0,>=2.7.1->transformer-lens==0.0.0) (2022.12.7)\n",
            "Requirement already satisfied: idna<4,>=2.5 in /usr/local/lib/python3.9/dist-packages (from requests>=2.19.0->datasets<3.0.0,>=2.7.1->transformer-lens==0.0.0) (3.4)\n",
            "Requirement already satisfied: importlib-metadata>=3.6 in /usr/local/lib/python3.9/dist-packages (from typeguard>=2.13.3->jaxtyping<0.3.0,>=0.2.11->transformer-lens==0.0.0) (5.2.0)\n",
            "Requirement already satisfied: smmap<6,>=3.0.1 in /usr/local/lib/python3.9/dist-packages (from gitdb<5,>=4.0.1->GitPython!=3.1.29,>=1.0.0->wandb<0.14.0,>=0.13.5->transformer-lens==0.0.0) (5.0.0)\n",
            "Requirement already satisfied: zipp>=0.5 in /usr/local/lib/python3.9/dist-packages (from importlib-metadata>=3.6->typeguard>=2.13.3->jaxtyping<0.3.0,>=0.2.11->transformer-lens==0.0.0) (3.15.0)\n",
            "Installing collected packages: commonmark, rich, wandb\n",
            "  Attempting uninstall: rich\n",
            "    Found existing installation: rich 13.3.3\n",
            "    Uninstalling rich-13.3.3:\n",
            "      Successfully uninstalled rich-13.3.3\n",
            "  Attempting uninstall: wandb\n",
            "    Found existing installation: wandb 0.14.0\n",
            "    Uninstalling wandb-0.14.0:\n",
            "      Successfully uninstalled wandb-0.14.0\n",
            "Successfully installed commonmark-0.9.1 rich-12.6.0 wandb-0.13.11\n"
          ]
        },
        {
          "data": {
            "application/vnd.colab-display-data+json": {
              "pip_warning": {
                "packages": [
                  "wandb"
                ]
              }
            }
          },
          "metadata": {},
          "output_type": "display_data"
        },
        {
          "name": "stdout",
          "output_type": "stream",
          "text": [
            "Looking in indexes: https://pypi.org/simple, https://us-python.pkg.dev/colab-wheels/public/simple/\n",
            "Requirement already satisfied: circuitsvis in /usr/local/lib/python3.9/dist-packages (1.39.1)\n",
            "Requirement already satisfied: numpy<2.0,>=1.21 in /usr/local/lib/python3.9/dist-packages (from circuitsvis) (1.22.4)\n",
            "Requirement already satisfied: torch<2.0,>=1.10 in /usr/local/lib/python3.9/dist-packages (from circuitsvis) (1.13.1+cu116)\n",
            "Requirement already satisfied: importlib-metadata<6.0.0,>=5.1.0 in /usr/local/lib/python3.9/dist-packages (from circuitsvis) (5.2.0)\n",
            "Requirement already satisfied: zipp>=0.5 in /usr/local/lib/python3.9/dist-packages (from importlib-metadata<6.0.0,>=5.1.0->circuitsvis) (3.15.0)\n",
            "Requirement already satisfied: typing-extensions in /usr/local/lib/python3.9/dist-packages (from torch<2.0,>=1.10->circuitsvis) (4.5.0)\n",
            "Looking in indexes: https://pypi.org/simple, https://us-python.pkg.dev/colab-wheels/public/simple/\n",
            "Collecting git+https://github.com/neelnanda-io/neel-plotly.git\n",
            "  Cloning https://github.com/neelnanda-io/neel-plotly.git to /tmp/pip-req-build-rz21o52v\n",
            "  Running command git clone --filter=blob:none --quiet https://github.com/neelnanda-io/neel-plotly.git /tmp/pip-req-build-rz21o52v\n",
            "  Resolved https://github.com/neelnanda-io/neel-plotly.git to commit 6dc096fdc575da978d3e56489f2347d95cd397e7\n",
            "  Preparing metadata (setup.py) ... \u001b[?25l\u001b[?25hdone\n",
            "Requirement already satisfied: einops in /usr/local/lib/python3.9/dist-packages (from neel-plotly==0.0.0) (0.6.0)\n",
            "Requirement already satisfied: numpy in /usr/local/lib/python3.9/dist-packages (from neel-plotly==0.0.0) (1.22.4)\n",
            "Requirement already satisfied: torch in /usr/local/lib/python3.9/dist-packages (from neel-plotly==0.0.0) (1.13.1+cu116)\n",
            "Requirement already satisfied: plotly in /usr/local/lib/python3.9/dist-packages (from neel-plotly==0.0.0) (5.13.1)\n",
            "Requirement already satisfied: tqdm in /usr/local/lib/python3.9/dist-packages (from neel-plotly==0.0.0) (4.65.0)\n",
            "Requirement already satisfied: pandas in /usr/local/lib/python3.9/dist-packages (from neel-plotly==0.0.0) (1.4.4)\n",
            "Requirement already satisfied: pytz>=2020.1 in /usr/local/lib/python3.9/dist-packages (from pandas->neel-plotly==0.0.0) (2022.7.1)\n",
            "Requirement already satisfied: python-dateutil>=2.8.1 in /usr/local/lib/python3.9/dist-packages (from pandas->neel-plotly==0.0.0) (2.8.2)\n",
            "Requirement already satisfied: tenacity>=6.2.0 in /usr/local/lib/python3.9/dist-packages (from plotly->neel-plotly==0.0.0) (8.2.2)\n",
            "Requirement already satisfied: typing-extensions in /usr/local/lib/python3.9/dist-packages (from torch->neel-plotly==0.0.0) (4.5.0)\n",
            "Requirement already satisfied: six>=1.5 in /usr/local/lib/python3.9/dist-packages (from python-dateutil>=2.8.1->pandas->neel-plotly==0.0.0) (1.16.0)\n",
            "Looking in indexes: https://pypi.org/simple, https://us-python.pkg.dev/colab-wheels/public/simple/\n",
            "Requirement already satisfied: torchtyping in /usr/local/lib/python3.9/dist-packages (0.1.4)\n",
            "Requirement already satisfied: typeguard>=2.11.1 in /usr/local/lib/python3.9/dist-packages (from torchtyping) (3.0.2)\n",
            "Requirement already satisfied: torch>=1.7.0 in /usr/local/lib/python3.9/dist-packages (from torchtyping) (1.13.1+cu116)\n",
            "Requirement already satisfied: typing-extensions in /usr/local/lib/python3.9/dist-packages (from torch>=1.7.0->torchtyping) (4.5.0)\n",
            "Requirement already satisfied: importlib-metadata>=3.6 in /usr/local/lib/python3.9/dist-packages (from typeguard>=2.11.1->torchtyping) (5.2.0)\n",
            "Requirement already satisfied: zipp>=0.5 in /usr/local/lib/python3.9/dist-packages (from importlib-metadata>=3.6->typeguard>=2.11.1->torchtyping) (3.15.0)\n"
          ]
        }
      ],
      "source": [
        "\n",
        "IN_COLAB = False\n",
        "from IPython import get_ipython\n",
        "\n",
        "ipython = get_ipython()\n",
        "# Code to automatically update the HookedTransformer code as its edited without restarting the kernel\n",
        "ipython.magic(\"load_ext autoreload\")\n",
        "ipython.magic(\"autoreload 2\")"
      ]
    },
    {
      "cell_type": "code",
      "execution_count": 29,
      "metadata": {
        "id": "fdClLISPl2Vc"
      },
      "outputs": [],
      "source": [
        "# # Janky code to do different setup when run in a Colab notebook vs VSCode\n",
        "# DEBUG_MODE = False\n",
        "# try:\n",
        "#     import google.colab\n",
        "#     IN_COLAB = True\n",
        "#     print(\"Running as a Colab notebook\")\n",
        "#     %pip install -Uqq git+https://github.com/neelnanda-io/TransformerLens.git\n",
        "#     # Install another version of node that makes PySvelte work way faster\n",
        "#     !curl -fsSL https://deb.nodesource.com/setup_16.x | sudo -E bash -; sudo apt-get install -y nodejs\n",
        "#     %pip install -Uqq git+https://github.com/neelnanda-io/PySvelte.git\n",
        "#     %pip install -Uqq circuitsvis\n",
        "#     %pip install git+https://github.com/neelnanda-io/neel-plotly.git\n",
        "#     %pip install torchtyping\n",
        "#     %pip install fancy_einsum\n",
        "#     %pip install huggingface_hub\n",
        "# except:\n",
        "#     IN_COLAB = False\n",
        "#     print(\"Running as a Jupyter notebook - intended for development only!\")\n",
        "#     from IPython import get_ipython\n",
        "\n",
        "#     ipython = get_ipython()\n",
        "#     # Code to automatically update the HookedTransformer code as its edited without restarting the kernel\n",
        "#     ipython.magic(\"load_ext autoreload\")\n",
        "#     ipython.magic(\"autoreload 2\")"
      ]
    },
    {
      "cell_type": "code",
      "execution_count": 30,
      "metadata": {
        "colab": {
          "base_uri": "https://localhost:8080/"
        },
        "id": "ps-w04CtTY3p",
        "outputId": "a24706d0-fe0e-42d3-ad00-eac034e58f21"
      },
      "outputs": [
        {
          "name": "stdout",
          "output_type": "stream",
          "text": [
            "Using renderer: colab\n"
          ]
        }
      ],
      "source": [
        "# Plotly needs a different renderer for VSCode/Notebooks vs Colab argh\n",
        "import plotly.io as pio\n",
        "if IN_COLAB or not DEVELOPMENT_MODE:\n",
        "    pio.renderers.default = \"colab\"\n",
        "else:\n",
        "    pio.renderers.default = \"notebook_connected\"\n",
        "print(f\"Using renderer: {pio.renderers.default}\")"
      ]
    },
    {
      "cell_type": "code",
      "execution_count": 31,
      "metadata": {
        "colab": {
          "base_uri": "https://localhost:8080/",
          "height": 64
        },
        "id": "mTSRHu69_se7",
        "outputId": "8cad8e8f-f44a-4f74-94a6-2cb3ed2f3bd8"
      },
      "outputs": [
        {
          "data": {
            "text/html": [
              "<div id=\"circuits-vis-4179f20b-5c8f\" style=\"margin: 15px 0;\"/>\n",
              "    <script crossorigin type=\"module\">\n",
              "    import { render, Hello } from \"https://unpkg.com/circuitsvis@1.39.1/dist/cdn/esm.js\";\n",
              "    render(\n",
              "      \"circuits-vis-4179f20b-5c8f\",\n",
              "      Hello,\n",
              "      {\"name\": \"Neel\"}\n",
              "    )\n",
              "    </script>"
            ],
            "text/plain": [
              "<circuitsvis.utils.render.RenderedHTML at 0x7f7e72c917c0>"
            ]
          },
          "execution_count": 31,
          "metadata": {},
          "output_type": "execute_result"
        }
      ],
      "source": [
        "import circuitsvis as cv\n",
        "# Testing that the library works\n",
        "cv.examples.hello(\"Neel\")"
      ]
    },
    {
      "cell_type": "code",
      "execution_count": 32,
      "metadata": {
        "id": "554rW7TyT10F"
      },
      "outputs": [],
      "source": [
        "# Import stuff\n",
        "import torch\n",
        "import torch.nn as nn\n",
        "import torch.nn.functional as F\n",
        "import torch.optim as optim\n",
        "import numpy as np\n",
        "import einops\n",
        "from fancy_einsum import einsum\n",
        "import tqdm.auto as tqdm\n",
        "import random\n",
        "from pathlib import Path\n",
        "import plotly.express as px\n",
        "from torch.utils.data import DataLoader\n",
        "\n",
        "from jaxtyping import Float, Int\n",
        "from typing import List, Union, Optional\n",
        "from functools import partial\n",
        "import copy\n",
        "\n",
        "import itertools\n",
        "from transformers import AutoModelForCausalLM, AutoConfig, AutoTokenizer\n",
        "import dataclasses\n",
        "import datasets\n",
        "\n",
        "from torchtyping import TensorType as TT\n",
        "from IPython.display import HTML"
      ]
    },
    {
      "cell_type": "code",
      "execution_count": 33,
      "metadata": {
        "id": "DB1PoyGk_wZ-"
      },
      "outputs": [],
      "source": [
        "import transformer_lens\n",
        "import transformer_lens.utils as utils\n",
        "import transformer_lens.patching as patching\n",
        "from transformer_lens.hook_points import (\n",
        "    HookedRootModule,\n",
        "    HookPoint,\n",
        ")  # Hooking utilities\n",
        "from transformer_lens import HookedTransformer, HookedTransformerConfig, FactoredMatrix, ActivationCache"
      ]
    },
    {
      "cell_type": "code",
      "execution_count": 34,
      "metadata": {
        "colab": {
          "base_uri": "https://localhost:8080/"
        },
        "id": "6tsCl8XQS-qv",
        "outputId": "2ca7e3bf-c137-4f18-d35b-31ed0c2e3f3e"
      },
      "outputs": [
        {
          "data": {
            "text/plain": [
              "<torch.autograd.grad_mode.set_grad_enabled at 0x7f7e72c5fe50>"
            ]
          },
          "execution_count": 34,
          "metadata": {},
          "output_type": "execute_result"
        }
      ],
      "source": [
        "torch.set_grad_enabled(False)"
      ]
    },
    {
      "cell_type": "code",
      "execution_count": 35,
      "metadata": {
        "id": "mDzG9dhWTaBv"
      },
      "outputs": [],
      "source": [
        "from neel_plotly import line, imshow, scatter\n",
        "\n",
        "def l_imshow(tensor, renderer=None, **kwargs):\n",
        "    px.imshow(utils.to_numpy(tensor), color_continuous_midpoint=0.0, color_continuous_scale=\"RdBu\", **kwargs).show(renderer)\n",
        "\n",
        "def l_line(tensor, renderer=None, **kwargs):\n",
        "    px.line(y=utils.to_numpy(tensor), **kwargs).show(renderer)\n",
        "\n",
        "def l_scatter(x, y, xaxis=\"\", yaxis=\"\", caxis=\"\", renderer=None, **kwargs):\n",
        "    x = utils.to_numpy(x)\n",
        "    y = utils.to_numpy(y)\n",
        "    px.scatter(y=y, x=x, labels={\"x\":xaxis, \"y\":yaxis, \"color\":caxis}, **kwargs).show(renderer)\n",
        "\n",
        "def two_lines(tensor1, tensor2, renderer=None, **kwargs):\n",
        "    px.line(y=[utils.to_numpy(tensor1), utils.to_numpy(tensor2)], **kwargs).show(renderer)"
      ]
    },
    {
      "cell_type": "markdown",
      "metadata": {
        "id": "Q5t_LmW3Tuej"
      },
      "source": [
        "## Model Setup"
      ]
    },
    {
      "cell_type": "code",
      "execution_count": 36,
      "metadata": {
        "colab": {
          "base_uri": "https://localhost:8080/",
          "height": 359,
          "referenced_widgets": [
            "b76c6442906a46f0b164449244f518eb",
            "b95e718ee1a0448aa9150505e439fad3",
            "bb7569ae4d9e4996a7c74e6d6b0e172e",
            "5ec1577140e64c34be0d2860ed137766",
            "9408900617b942e394ced6a0d8b4d799",
            "d3aeb6e3ae164e33812fec42f2205e08",
            "234abcfad26c4c04a5b66f76a7700401",
            "7793574382e94f4fb1eb22c287bcfb02",
            "6541cdb41ba34ae1a8fdf6d42bbe61d8",
            "5b29a1117851485e9333114fabb4e072",
            "bc8a2cda603a424299c53080b6050273",
            "1d7716c911ef47caa5b1875234fb9ed8",
            "c2593312b66d49bd9119824ba09aa2be",
            "ce5debeb4ec54287a2cc248cdb637651",
            "b21edc97e6b04b3ea5eee2aae3f4eb86",
            "fb65972194544c41b8977d99eaa97718",
            "97e98f74d3b74e38be50fb205d6f1efd"
          ]
        },
        "id": "bIVd-C9hoUmy",
        "outputId": "5457aed8-6b5a-4745-9c55-f0b92b70327f"
      },
      "outputs": [
        {
          "name": "stdout",
          "output_type": "stream",
          "text": [
            "Token is valid.\n",
            "Your token has been saved in your configured git credential helpers (store).\n",
            "Your token has been saved to /root/.cache/huggingface/token\n",
            "Login successful\n"
          ]
        }
      ],
      "source": [
        "import huggingface_hub\n",
        "huggingface_hub.notebook_login()"
      ]
    },
    {
      "cell_type": "code",
      "execution_count": 7,
      "metadata": {
        "id": "zm_w9lBuWUnJ"
      },
      "outputs": [],
      "source": [
        "source_model = AutoModelForCausalLM.from_pretrained(\"EleutherAI/pythia-v1.1-160m\", revision=\"step143000\")"
      ]
    },
    {
      "cell_type": "code",
      "execution_count": 8,
      "metadata": {
        "colab": {
          "base_uri": "https://localhost:8080/"
        },
        "id": "61yvZIWCTmFM",
        "outputId": "437321a7-df54-41ab-8fca-557b796d02ec"
      },
      "outputs": [
        {
          "name": "stderr",
          "output_type": "stream",
          "text": [
            "Using pad_token, but it is not set yet.\n"
          ]
        },
        {
          "name": "stdout",
          "output_type": "stream",
          "text": [
            "Loaded pretrained model EleutherAI/pythia-125m into HookedTransformer\n"
          ]
        }
      ],
      "source": [
        "model = HookedTransformer.from_pretrained(\n",
        "    \"EleutherAI/pythia-125m\",\n",
        "    hf_model=source_model,\n",
        "    center_unembed=True,\n",
        "    center_writing_weights=True,\n",
        "    fold_ln=True,\n",
        "    #refactor_factored_attn_matrices=True,\n",
        ")"
      ]
    },
    {
      "cell_type": "code",
      "execution_count": 9,
      "metadata": {
        "colab": {
          "base_uri": "https://localhost:8080/",
          "height": 295
        },
        "id": "cDtH6tPBVHup",
        "outputId": "7b661dff-7675-4d53-cf60-cf671f4da99f"
      },
      "outputs": [
        {
          "name": "stdout",
          "output_type": "stream",
          "text": [
            "Tokenized prompt: ['<|endoftext|>', 'After', ' John', ' and', ' Mary', ' went', ' to', ' the', ' store', ',', ' John', ' gave', ' a', ' bottle', ' of', ' milk', ' to']\n",
            "Tokenized answer: [' Mary']\n"
          ]
        },
        {
          "data": {
            "text/html": [
              "<pre style=\"white-space:pre;overflow-x:auto;line-height:normal;font-family:Menlo,'DejaVu Sans Mono',consolas,'Courier New',monospace\">Performance on answer token:\n",
              "<span style=\"font-weight: bold\">Rank: </span><span style=\"color: #008080; text-decoration-color: #008080; font-weight: bold\">0</span><span style=\"font-weight: bold\">        Logit: </span><span style=\"color: #008080; text-decoration-color: #008080; font-weight: bold\">34.20</span><span style=\"font-weight: bold\"> Prob: </span><span style=\"color: #008080; text-decoration-color: #008080; font-weight: bold\">76.61</span><span style=\"font-weight: bold\">% Token: | Mary|</span>\n",
              "</pre>\n"
            ],
            "text/plain": [
              "Performance on answer token:\n",
              "\u001b[1mRank: \u001b[0m\u001b[1;36m0\u001b[0m\u001b[1m        Logit: \u001b[0m\u001b[1;36m34.20\u001b[0m\u001b[1m Prob: \u001b[0m\u001b[1;36m76.61\u001b[0m\u001b[1m% Token: | Mary|\u001b[0m\n"
            ]
          },
          "metadata": {},
          "output_type": "display_data"
        },
        {
          "name": "stdout",
          "output_type": "stream",
          "text": [
            "Top 0th token. Logit: 34.20 Prob: 76.61% Token: | Mary|\n",
            "Top 1th token. Logit: 31.26 Prob:  4.03% Token: | the|\n",
            "Top 2th token. Logit: 30.70 Prob:  2.30% Token: | his|\n",
            "Top 3th token. Logit: 30.53 Prob:  1.94% Token: | her|\n",
            "Top 4th token. Logit: 29.68 Prob:  0.83% Token: | their|\n",
            "Top 5th token. Logit: 29.63 Prob:  0.79% Token: | a|\n",
            "Top 6th token. Logit: 29.24 Prob:  0.53% Token: | me|\n",
            "Top 7th token. Logit: 29.07 Prob:  0.45% Token: | one|\n",
            "Top 8th token. Logit: 29.04 Prob:  0.44% Token: | them|\n",
            "Top 9th token. Logit: 28.61 Prob:  0.28% Token: | my|\n"
          ]
        },
        {
          "data": {
            "text/html": [
              "<pre style=\"white-space:pre;overflow-x:auto;line-height:normal;font-family:Menlo,'DejaVu Sans Mono',consolas,'Courier New',monospace\"><span style=\"font-weight: bold\">Ranks of the answer tokens:</span> <span style=\"font-weight: bold\">[(</span><span style=\"color: #008000; text-decoration-color: #008000\">' Mary'</span>, <span style=\"color: #008080; text-decoration-color: #008080; font-weight: bold\">0</span><span style=\"font-weight: bold\">)]</span>\n",
              "</pre>\n"
            ],
            "text/plain": [
              "\u001b[1mRanks of the answer tokens:\u001b[0m \u001b[1m[\u001b[0m\u001b[1m(\u001b[0m\u001b[32m' Mary'\u001b[0m, \u001b[1;36m0\u001b[0m\u001b[1m)\u001b[0m\u001b[1m]\u001b[0m\n"
            ]
          },
          "metadata": {},
          "output_type": "display_data"
        }
      ],
      "source": [
        "example_prompt = \"After John and Mary went to the store, John gave a bottle of milk to\"\n",
        "example_answer = \" Mary\"\n",
        "utils.test_prompt(example_prompt, example_answer, model, prepend_bos=True)"
      ]
    },
    {
      "cell_type": "code",
      "execution_count": 10,
      "metadata": {
        "colab": {
          "base_uri": "https://localhost:8080/",
          "height": 295
        },
        "id": "ooFJr2nM8Y5O",
        "outputId": "36a8359a-a50a-4622-e135-dddde30760d7"
      },
      "outputs": [
        {
          "name": "stdout",
          "output_type": "stream",
          "text": [
            "Tokenized prompt: ['<|endoftext|>', 'After', ' John', ' and', ' Mary', ' went', ' to', ' the', ' store', ',', ' Mary', ' gave', ' a', ' bottle', ' of', ' milk', ' to']\n",
            "Tokenized answer: [' Mary']\n"
          ]
        },
        {
          "data": {
            "text/html": [
              "<pre style=\"white-space:pre;overflow-x:auto;line-height:normal;font-family:Menlo,'DejaVu Sans Mono',consolas,'Courier New',monospace\">Performance on answer token:\n",
              "<span style=\"font-weight: bold\">Rank: </span><span style=\"color: #008080; text-decoration-color: #008080; font-weight: bold\">3</span><span style=\"font-weight: bold\">        Logit: </span><span style=\"color: #008080; text-decoration-color: #008080; font-weight: bold\">30.59</span><span style=\"font-weight: bold\"> Prob:  </span><span style=\"color: #008080; text-decoration-color: #008080; font-weight: bold\">3.69</span><span style=\"font-weight: bold\">% Token: | Mary|</span>\n",
              "</pre>\n"
            ],
            "text/plain": [
              "Performance on answer token:\n",
              "\u001b[1mRank: \u001b[0m\u001b[1;36m3\u001b[0m\u001b[1m        Logit: \u001b[0m\u001b[1;36m30.59\u001b[0m\u001b[1m Prob:  \u001b[0m\u001b[1;36m3.69\u001b[0m\u001b[1m% Token: | Mary|\u001b[0m\n"
            ]
          },
          "metadata": {},
          "output_type": "display_data"
        },
        {
          "name": "stdout",
          "output_type": "stream",
          "text": [
            "Top 0th token. Logit: 33.34 Prob: 57.72% Token: | John|\n",
            "Top 1th token. Logit: 31.18 Prob:  6.66% Token: | the|\n",
            "Top 2th token. Logit: 30.76 Prob:  4.35% Token: | her|\n",
            "Top 3th token. Logit: 30.59 Prob:  3.69% Token: | Mary|\n",
            "Top 4th token. Logit: 29.66 Prob:  1.45% Token: | their|\n",
            "Top 5th token. Logit: 29.38 Prob:  1.10% Token: | them|\n",
            "Top 6th token. Logit: 29.32 Prob:  1.03% Token: | him|\n",
            "Top 7th token. Logit: 29.28 Prob:  0.99% Token: | a|\n",
            "Top 8th token. Logit: 28.62 Prob:  0.51% Token: | Peter|\n",
            "Top 9th token. Logit: 28.57 Prob:  0.49% Token: | show|\n"
          ]
        },
        {
          "data": {
            "text/html": [
              "<pre style=\"white-space:pre;overflow-x:auto;line-height:normal;font-family:Menlo,'DejaVu Sans Mono',consolas,'Courier New',monospace\"><span style=\"font-weight: bold\">Ranks of the answer tokens:</span> <span style=\"font-weight: bold\">[(</span><span style=\"color: #008000; text-decoration-color: #008000\">' Mary'</span>, <span style=\"color: #008080; text-decoration-color: #008080; font-weight: bold\">3</span><span style=\"font-weight: bold\">)]</span>\n",
              "</pre>\n"
            ],
            "text/plain": [
              "\u001b[1mRanks of the answer tokens:\u001b[0m \u001b[1m[\u001b[0m\u001b[1m(\u001b[0m\u001b[32m' Mary'\u001b[0m, \u001b[1;36m3\u001b[0m\u001b[1m)\u001b[0m\u001b[1m]\u001b[0m\n"
            ]
          },
          "metadata": {},
          "output_type": "display_data"
        }
      ],
      "source": [
        "example_prompt = \"After John and Mary went to the store, Mary gave a bottle of milk to\"\n",
        "example_answer = \" Mary\"\n",
        "utils.test_prompt(example_prompt, example_answer, model, prepend_bos=True)"
      ]
    },
    {
      "cell_type": "markdown",
      "metadata": {
        "id": "x4diyMzfPCBD"
      },
      "source": [
        "## Data Setup"
      ]
    },
    {
      "cell_type": "code",
      "execution_count": 11,
      "metadata": {
        "colab": {
          "base_uri": "https://localhost:8080/"
        },
        "id": "P6XFjssOZDkw",
        "outputId": "fe99deb8-cfa4-4c62-d874-8ea4847a2176"
      },
      "outputs": [
        {
          "name": "stdout",
          "output_type": "stream",
          "text": [
            "Clean string 0 <|endoftext|>When John and Mary went to the shops, John gave the bag to\n",
            "Corrupted string 0 <|endoftext|>When John and Mary went to the shops, Mary gave the bag to\n",
            "Answer token indices tensor([[ 6393,  2516],\n",
            "        [ 2516,  6393],\n",
            "        [ 6270,  5490],\n",
            "        [ 5490,  6270],\n",
            "        [ 5682, 24752],\n",
            "        [24752,  5682],\n",
            "        [ 8698, 22138],\n",
            "        [22138,  8698]], device='cuda:0')\n"
          ]
        }
      ],
      "source": [
        "prompts = [\n",
        "    'When John and Mary went to the shops, John gave the bag to',\n",
        "    'When John and Mary went to the shops, Mary gave the bag to',\n",
        "    'When Tom and James went to the park, James gave the ball to',\n",
        "    'When Tom and James went to the park, Tom gave the ball to',\n",
        "    'When Dan and Sid went to the shops, Sid gave an apple to',\n",
        "    'When Dan and Sid went to the shops, Dan gave an apple to',\n",
        "    'After Martin and Amy went to the park, Amy gave a drink to',\n",
        "    'After Martin and Amy went to the park, Martin gave a drink to'\n",
        "    ]\n",
        "    \n",
        "answers = [\n",
        "    (' Mary', ' John'), \n",
        "    (' John', ' Mary'), \n",
        "    (' Tom', ' James'), \n",
        "    (' James', ' Tom'), \n",
        "    (' Dan', ' Sid'), \n",
        "    (' Sid', ' Dan'), \n",
        "    (' Martin', ' Amy'), \n",
        "    (' Amy', ' Martin')\n",
        "    ]\n",
        "\n",
        "clean_tokens = model.to_tokens(prompts)\n",
        "# Swap each adjacent pair, with a hacky list comprehension\n",
        "corrupted_tokens = clean_tokens[\n",
        "    [(i+1 if i%2==0 else i-1) for i in range(len(clean_tokens)) ]\n",
        "    ]\n",
        "print(\"Clean string 0\", model.to_string(clean_tokens[0]))\n",
        "print(\"Corrupted string 0\", model.to_string(corrupted_tokens[0]))\n",
        "\n",
        "answer_token_indices = torch.tensor([[model.to_single_token(answers[i][j]) for j in range(2)] for i in range(len(answers))], device=model.cfg.device)\n",
        "print(\"Answer token indices\", answer_token_indices)"
      ]
    },
    {
      "cell_type": "code",
      "execution_count": 12,
      "metadata": {
        "colab": {
          "base_uri": "https://localhost:8080/"
        },
        "id": "s5xN36qn2Z9S",
        "outputId": "804c96f8-32c5-48bf-fc0f-4de1c36fb783"
      },
      "outputs": [
        {
          "data": {
            "text/plain": [
              "['<|endoftext|>',\n",
              " 'When',\n",
              " ' John',\n",
              " ' and',\n",
              " ' Mary',\n",
              " ' went',\n",
              " ' to',\n",
              " ' the',\n",
              " ' shops',\n",
              " ',',\n",
              " ' John',\n",
              " ' gave',\n",
              " ' the',\n",
              " ' bag',\n",
              " ' to']"
            ]
          },
          "execution_count": 12,
          "metadata": {},
          "output_type": "execute_result"
        }
      ],
      "source": [
        "model.to_str_tokens(corrupted_tokens[1])"
      ]
    },
    {
      "cell_type": "markdown",
      "metadata": {
        "id": "oHCkQu4YSOX2"
      },
      "source": [
        "## Tool Setup"
      ]
    },
    {
      "cell_type": "markdown",
      "metadata": {
        "id": "hZerXmikSYIN"
      },
      "source": [
        "### Activation Patching"
      ]
    },
    {
      "cell_type": "code",
      "execution_count": 13,
      "metadata": {
        "colab": {
          "base_uri": "https://localhost:8080/"
        },
        "id": "lrxnGyi7E19v",
        "outputId": "ef4ce3a5-ea1b-456a-c898-05188e08ffdc"
      },
      "outputs": [
        {
          "name": "stdout",
          "output_type": "stream",
          "text": [
            "Clean logit diff: 4.7129\n",
            "Corrupted logit diff: -4.7129\n"
          ]
        }
      ],
      "source": [
        "def get_logit_diff(logits, answer_token_indices=answer_token_indices):\n",
        "    if len(logits.shape)==3:\n",
        "        # Get final logits only\n",
        "        logits = logits[:, -1, :]\n",
        "    correct_logits = logits.gather(1, answer_token_indices[:, 0].unsqueeze(1))\n",
        "    incorrect_logits = logits.gather(1, answer_token_indices[:, 1].unsqueeze(1))\n",
        "    return (correct_logits - incorrect_logits).mean()\n",
        "\n",
        "clean_logits, clean_cache = model.run_with_cache(clean_tokens)\n",
        "corrupted_logits, corrupted_cache = model.run_with_cache(corrupted_tokens)\n",
        "\n",
        "clean_logit_diff = get_logit_diff(clean_logits, answer_token_indices).item()\n",
        "print(f\"Clean logit diff: {clean_logit_diff:.4f}\")\n",
        "\n",
        "corrupted_logit_diff = get_logit_diff(corrupted_logits, answer_token_indices).item()\n",
        "print(f\"Corrupted logit diff: {corrupted_logit_diff:.4f}\")"
      ]
    },
    {
      "cell_type": "code",
      "execution_count": 14,
      "metadata": {
        "colab": {
          "base_uri": "https://localhost:8080/"
        },
        "id": "DnRTCaAoFK7n",
        "outputId": "a9be2bdb-b8c1-459c-a98d-3bce5a746d6d"
      },
      "outputs": [
        {
          "name": "stdout",
          "output_type": "stream",
          "text": [
            "Clean Baseline is 1: 1.0000\n",
            "Corrupted Baseline is 0: 0.0000\n"
          ]
        }
      ],
      "source": [
        "CLEAN_BASELINE = clean_logit_diff\n",
        "CORRUPTED_BASELINE = corrupted_logit_diff\n",
        "def ioi_metric(logits, answer_token_indices=answer_token_indices):\n",
        "    return (get_logit_diff(logits, answer_token_indices) - CORRUPTED_BASELINE) / (CLEAN_BASELINE  - CORRUPTED_BASELINE)\n",
        "\n",
        "clean_baseline_ioi = ioi_metric(clean_logits)\n",
        "corrupted_baseline_ioi = ioi_metric(corrupted_logits)\n",
        "\n",
        "print(f\"Clean Baseline is 1: {ioi_metric(clean_logits).item():.4f}\")\n",
        "print(f\"Corrupted Baseline is 0: {ioi_metric(corrupted_logits).item():.4f}\")"
      ]
    },
    {
      "cell_type": "code",
      "execution_count": 15,
      "metadata": {
        "id": "AKgmBY7tS0s8"
      },
      "outputs": [],
      "source": [
        "# Whether to do the runs by head and by position, which are much slower\n",
        "DO_SLOW_RUNS = True"
      ]
    },
    {
      "cell_type": "markdown",
      "metadata": {
        "id": "VS_IJFyISciI"
      },
      "source": [
        "### Path Patching"
      ]
    },
    {
      "cell_type": "code",
      "execution_count": 16,
      "metadata": {
        "id": "wqt7lt-yprYK"
      },
      "outputs": [],
      "source": [
        "def patch_pos_head_vector(\n",
        "    orig_head_vector: TT[\"batch\", \"pos\", \"head_index\", \"d_head\"],\n",
        "    hook,\n",
        "    pos, \n",
        "    head_index, \n",
        "    patch_cache):\n",
        "    #print(patch_cache.keys())\n",
        "    orig_head_vector[:, pos, head_index, :] = patch_cache[hook.name][:, pos, head_index, :]\n",
        "    return orig_head_vector\n",
        "\n",
        "def patch_head_vector(\n",
        "    orig_head_vector: TT[\"batch\", \"pos\", \"head_index\", \"d_head\"],\n",
        "    hook,\n",
        "    head_index, \n",
        "    patch_cache):\n",
        "    orig_head_vector[:, :, head_index, :] = patch_cache[hook.name][:, :, head_index, :]\n",
        "    return orig_head_vector"
      ]
    },
    {
      "cell_type": "code",
      "execution_count": 17,
      "metadata": {
        "id": "71ZrLtVyU2fX"
      },
      "outputs": [],
      "source": [
        "def path_patching(\n",
        "    model,\n",
        "    patch_tokens,\n",
        "    orig_tokens,\n",
        "    sender_heads,\n",
        "    receiver_hooks,\n",
        "    positions=-1,\n",
        "):\n",
        "    \"\"\"\n",
        "    Patch in the effect of `sender_heads` on `receiver_hooks` only\n",
        "    (though MLPs are \"ignored\" if `freeze_mlps` is False so are slight confounders in this case - see Appendix B of https://arxiv.org/pdf/2211.00593.pdf)\n",
        "\n",
        "    TODO fix this: if max_layer < model.cfg.n_layers, then let some part of the model do computations (not frozen)\n",
        "    \"\"\"\n",
        "\n",
        "    def patch_positions(z, source_act, hook, positions=[\"end\"], verbose=False):\n",
        "        for pos in positions:\n",
        "            z[torch.arange(orig_tokens.N), orig_tokens.word_idx[pos]] = source_act[\n",
        "                torch.arange(patch_tokens.N), patch_tokens.word_idx[pos]\n",
        "            ]\n",
        "        return z\n",
        "\n",
        "    # process arguments\n",
        "    sender_hooks = []\n",
        "    for layer, head_idx in sender_heads:\n",
        "        if head_idx is None:\n",
        "            sender_hooks.append((f\"blocks.{layer}.hook_mlp_out\", None))\n",
        "\n",
        "        else:\n",
        "            sender_hooks.append((f\"blocks.{layer}.attn.hook_z\", head_idx))\n",
        "\n",
        "    sender_hook_names = [x[0] for x in sender_hooks]\n",
        "    receiver_hook_names = [x[0] for x in receiver_hooks]\n",
        "    receiver_hook_heads = [x[1] for x in receiver_hooks]\n",
        "    # Forward pass A (in https://arxiv.org/pdf/2211.00593.pdf)\n",
        "    source_logits, sender_cache = model.run_with_cache(patch_tokens)\n",
        "\n",
        "    # Forward pass B\n",
        "    target_logits, target_cache = model.run_with_cache(orig_tokens)\n",
        "\n",
        "    # Forward pass C\n",
        "    # Cache the receiver hooks\n",
        "    # (adding these hooks first means we save values BEFORE they are overwritten)\n",
        "    receiver_cache = model.add_caching_hooks(lambda x: x in receiver_hook_names)\n",
        "\n",
        "    # \"Freeze\" intermediate heads to their orig_tokens values\n",
        "    # q, k, and v will get frozen, and then if it's a sender head, this will get undone\n",
        "    # z, attn_out, and the MLP will all be recomputed and added to the residual stream\n",
        "    # however, the effect of the change on the residual stream will be overwritten by the\n",
        "    # freezing for all non-receiver components\n",
        "    pass_c_hooks = []\n",
        "    for layer in range(model.cfg.n_layers):\n",
        "        for head_idx in range(model.cfg.n_heads):\n",
        "            for hook_template in [\n",
        "                \"blocks.{}.attn.hook_q\",\n",
        "                \"blocks.{}.attn.hook_k\",\n",
        "                \"blocks.{}.attn.hook_v\",\n",
        "            ]:\n",
        "                hook_name = hook_template.format(layer)\n",
        "                if (hook_name, head_idx) not in receiver_hooks:\n",
        "                    #print(f\"Freezing {hook_name}\")\n",
        "                    hook = partial(\n",
        "                        patch_head_vector,\n",
        "                        head_index=head_idx,\n",
        "                        patch_cache=target_cache\n",
        "                    )\n",
        "                    pass_c_hooks.append((hook_name, hook))\n",
        "                else:\n",
        "                    pass\n",
        "                    #print(f\"Not freezing {hook_name}\")\n",
        "\n",
        "    # These hooks will overwrite the freezing, for the sender heads\n",
        "    # We also carry out pass C\n",
        "    for hook_name, head_idx in sender_hooks:\n",
        "        assert not torch.allclose(sender_cache[hook_name], target_cache[hook_name]), (\n",
        "            hook_name,\n",
        "            head_idx,\n",
        "        )\n",
        "        hook = partial(\n",
        "            patch_pos_head_vector,\n",
        "            pos=positions,\n",
        "            head_index=head_idx,\n",
        "            patch_cache=sender_cache\n",
        "        )\n",
        "        pass_c_hooks.append((hook_name, hook))\n",
        "  \n",
        "    receiver_logits = model.run_with_hooks(orig_tokens, fwd_hooks=pass_c_hooks)\n",
        "    # Add (or return) all the hooks needed for forward pass D\n",
        "    pass_d_hooks = []\n",
        "\n",
        "    for hook_name, head_idx in receiver_hooks:\n",
        "        #for pos in positions:\n",
        "            # if torch.allclose(\n",
        "            #     receiver_cache[hook_name][torch.arange(orig_tokens.N), orig_tokens.word_idx[pos]],\n",
        "            #     target_cache[hook_name][torch.arange(orig_tokens.N), orig_tokens.word_idx[pos]],\n",
        "            # ):\n",
        "            #     warnings.warn(\"Torch all close for {}\".format(hook_name))\n",
        "        hook = partial(\n",
        "            patch_pos_head_vector,\n",
        "            pos=positions,\n",
        "            head_index=head_idx,\n",
        "            patch_cache=receiver_cache\n",
        "        )\n",
        "        pass_d_hooks.append((hook_name, hook))\n",
        "\n",
        "    return pass_d_hooks\n",
        "    "
      ]
    },
    {
      "cell_type": "markdown",
      "metadata": {
        "id": "wJmRjr70c8I1"
      },
      "source": [
        "### Attention Visualization"
      ]
    },
    {
      "cell_type": "code",
      "execution_count": 18,
      "metadata": {
        "id": "u1G_YRVJJfh9"
      },
      "outputs": [],
      "source": [
        "def get_attn_head_patterns(model, prompt, attn_heads):\n",
        "    if isinstance(prompt, str):\n",
        "        prompt = model.to_tokens(prompt)\n",
        "    logits, cache = model.run_with_cache(prompt, remove_batch_dim=True)\n",
        "\n",
        "    head_list = []\n",
        "    head_name_list = []\n",
        "    for layer, head in attn_heads:\n",
        "        head_list.append(cache[\"pattern\", layer, \"attn\"][head])\n",
        "        head_name_list.append(f\"L{layer}H{head}\")\n",
        "    attention_pattern = torch.stack(head_list, dim=0)\n",
        "    tokens = model.to_str_tokens(prompt)\n",
        "    \n",
        "    return tokens, attention_pattern, head_name_list"
      ]
    },
    {
      "cell_type": "markdown",
      "metadata": {
        "id": "fqoEyBg-gaK9"
      },
      "source": [
        "## Direct Logit Attribution"
      ]
    },
    {
      "cell_type": "markdown",
      "metadata": {
        "id": "Vg4HzeVUfBQt"
      },
      "source": [
        "In this section, we use the residual directions of the logit difference to find what parts of the network are contributing the most to that subspace. Using logit lens, we see how the subspace evolves, and using direct logit contribution, we can see what parts of the network correspond most with the logit difference directions."
      ]
    },
    {
      "cell_type": "code",
      "execution_count": 19,
      "metadata": {
        "colab": {
          "base_uri": "https://localhost:8080/"
        },
        "id": "nE9iwVsTgRYK",
        "outputId": "1207b77c-60f8-4c09-8ab7-de44d20a76d3"
      },
      "outputs": [
        {
          "name": "stdout",
          "output_type": "stream",
          "text": [
            "Answer residual directions shape: torch.Size([8, 2, 768])\n",
            "Logit difference directions shape: torch.Size([8, 768])\n"
          ]
        }
      ],
      "source": [
        "answer_residual_directions = model.tokens_to_residual_directions(answer_token_indices)\n",
        "print(\"Answer residual directions shape:\", answer_residual_directions.shape)\n",
        "logit_diff_directions = answer_residual_directions[:, 0] - answer_residual_directions[:, 1]\n",
        "print(\"Logit difference directions shape:\", logit_diff_directions.shape)"
      ]
    },
    {
      "cell_type": "code",
      "execution_count": 20,
      "metadata": {
        "colab": {
          "base_uri": "https://localhost:8080/"
        },
        "id": "g7cKoX1qgdr-",
        "outputId": "6df6d062-ceb1-4525-f202-060610d48b39"
      },
      "outputs": [
        {
          "name": "stdout",
          "output_type": "stream",
          "text": [
            "Final residual stream shape: torch.Size([8, 15, 768])\n",
            "Calculated average logit diff: 4.712858200073242\n",
            "Original logit difference: 4.712859630584717\n"
          ]
        }
      ],
      "source": [
        "# cache syntax - resid_post is the residual stream at the end of the layer, -1 gets the final layer. The general syntax is [activation_name, layer_index, sub_layer_type]. \n",
        "final_residual_stream = clean_cache[\"resid_post\", -1]\n",
        "print(\"Final residual stream shape:\", final_residual_stream.shape)\n",
        "final_token_residual_stream = final_residual_stream[:, -1, :]\n",
        "# Apply LayerNorm scaling\n",
        "# pos_slice is the subset of the positions we take - here the final token of each prompt\n",
        "scaled_final_token_residual_stream = clean_cache.apply_ln_to_stack(final_token_residual_stream, layer = -1, pos_slice=-1)\n",
        "\n",
        "average_logit_diff = einsum(\"batch d_model, batch d_model -> \", scaled_final_token_residual_stream, logit_diff_directions)/len(prompts)\n",
        "print(\"Calculated average logit diff:\", average_logit_diff.item())\n",
        "print(\"Original logit difference:\",clean_logit_diff)"
      ]
    },
    {
      "cell_type": "markdown",
      "metadata": {
        "id": "J_6hJj0lgkma"
      },
      "source": [
        "### Logit Lens"
      ]
    },
    {
      "cell_type": "markdown",
      "metadata": {
        "id": "4oI6tdCKSGGc"
      },
      "source": [
        "The model cannot perform the task until layer 8, and performance increases and then drops afterwards. (This graph shows the logit lens at `resid_pre`, so \"8\" corresponds to the activations previous to block 8.)"
      ]
    },
    {
      "cell_type": "code",
      "execution_count": null,
      "metadata": {
        "id": "tTKZm-L1ggRJ"
      },
      "outputs": [],
      "source": [
        "def residual_stack_to_logit_diff(residual_stack: TT[\"components\", \"batch\", \"d_model\"], cache: ActivationCache) -> float:\n",
        "    scaled_residual_stack = cache.apply_ln_to_stack(residual_stack, layer = -1, pos_slice=-1)\n",
        "    return einsum(\"... batch d_model, batch d_model -> ...\", scaled_residual_stack, answer_residual_directions[:, 0])/len(prompts)\n"
      ]
    },
    {
      "cell_type": "code",
      "execution_count": null,
      "metadata": {
        "colab": {
          "base_uri": "https://localhost:8080/",
          "height": 542
        },
        "id": "7Gj4Be6HgluO",
        "outputId": "15b226e8-57f3-44cc-dede-6d61a5af7350"
      },
      "outputs": [
        {
          "data": {
            "text/html": [
              "<html>\n",
              "<head><meta charset=\"utf-8\" /></head>\n",
              "<body>\n",
              "    <div>            <script src=\"https://cdnjs.cloudflare.com/ajax/libs/mathjax/2.7.5/MathJax.js?config=TeX-AMS-MML_SVG\"></script><script type=\"text/javascript\">if (window.MathJax && window.MathJax.Hub && window.MathJax.Hub.Config) {window.MathJax.Hub.Config({SVG: {font: \"STIX-Web\"}});}</script>                <script type=\"text/javascript\">window.PlotlyConfig = {MathJaxConfig: 'local'};</script>\n",
              "        <script src=\"https://cdn.plot.ly/plotly-2.18.2.min.js\"></script>                <div id=\"e0f9e441-f0e9-4959-85cd-00c1d6952ff5\" class=\"plotly-graph-div\" style=\"height:525px; width:100%;\"></div>            <script type=\"text/javascript\">                                    window.PLOTLYENV=window.PLOTLYENV || {};                                    if (document.getElementById(\"e0f9e441-f0e9-4959-85cd-00c1d6952ff5\")) {                    Plotly.newPlot(                        \"e0f9e441-f0e9-4959-85cd-00c1d6952ff5\",                        [{\"hovertemplate\":\"x=%{x}<br>y=%{y}<extra></extra>\",\"legendgroup\":\"\",\"line\":{\"color\":\"#636efa\",\"dash\":\"solid\"},\"marker\":{\"symbol\":\"circle\"},\"mode\":\"lines\",\"name\":\"\",\"orientation\":\"v\",\"showlegend\":false,\"x\":[0,1,2,3,4,5,6,7,8,9,10,11,12],\"xaxis\":\"x\",\"y\":[-0.010180597193539143,0.13630717992782593,0.042167339473962784,0.29497259855270386,0.0047454833984375,-0.20329484343528748,-0.040272340178489685,0.16224683821201324,1.5237716436386108,7.360949993133545,8.387747764587402,12.02052116394043,26.495393753051758],\"yaxis\":\"y\",\"type\":\"scatter\"}],                        {\"template\":{\"data\":{\"histogram2dcontour\":[{\"type\":\"histogram2dcontour\",\"colorbar\":{\"outlinewidth\":0,\"ticks\":\"\"},\"colorscale\":[[0.0,\"#0d0887\"],[0.1111111111111111,\"#46039f\"],[0.2222222222222222,\"#7201a8\"],[0.3333333333333333,\"#9c179e\"],[0.4444444444444444,\"#bd3786\"],[0.5555555555555556,\"#d8576b\"],[0.6666666666666666,\"#ed7953\"],[0.7777777777777778,\"#fb9f3a\"],[0.8888888888888888,\"#fdca26\"],[1.0,\"#f0f921\"]]}],\"choropleth\":[{\"type\":\"choropleth\",\"colorbar\":{\"outlinewidth\":0,\"ticks\":\"\"}}],\"histogram2d\":[{\"type\":\"histogram2d\",\"colorbar\":{\"outlinewidth\":0,\"ticks\":\"\"},\"colorscale\":[[0.0,\"#0d0887\"],[0.1111111111111111,\"#46039f\"],[0.2222222222222222,\"#7201a8\"],[0.3333333333333333,\"#9c179e\"],[0.4444444444444444,\"#bd3786\"],[0.5555555555555556,\"#d8576b\"],[0.6666666666666666,\"#ed7953\"],[0.7777777777777778,\"#fb9f3a\"],[0.8888888888888888,\"#fdca26\"],[1.0,\"#f0f921\"]]}],\"heatmap\":[{\"type\":\"heatmap\",\"colorbar\":{\"outlinewidth\":0,\"ticks\":\"\"},\"colorscale\":[[0.0,\"#0d0887\"],[0.1111111111111111,\"#46039f\"],[0.2222222222222222,\"#7201a8\"],[0.3333333333333333,\"#9c179e\"],[0.4444444444444444,\"#bd3786\"],[0.5555555555555556,\"#d8576b\"],[0.6666666666666666,\"#ed7953\"],[0.7777777777777778,\"#fb9f3a\"],[0.8888888888888888,\"#fdca26\"],[1.0,\"#f0f921\"]]}],\"heatmapgl\":[{\"type\":\"heatmapgl\",\"colorbar\":{\"outlinewidth\":0,\"ticks\":\"\"},\"colorscale\":[[0.0,\"#0d0887\"],[0.1111111111111111,\"#46039f\"],[0.2222222222222222,\"#7201a8\"],[0.3333333333333333,\"#9c179e\"],[0.4444444444444444,\"#bd3786\"],[0.5555555555555556,\"#d8576b\"],[0.6666666666666666,\"#ed7953\"],[0.7777777777777778,\"#fb9f3a\"],[0.8888888888888888,\"#fdca26\"],[1.0,\"#f0f921\"]]}],\"contourcarpet\":[{\"type\":\"contourcarpet\",\"colorbar\":{\"outlinewidth\":0,\"ticks\":\"\"}}],\"contour\":[{\"type\":\"contour\",\"colorbar\":{\"outlinewidth\":0,\"ticks\":\"\"},\"colorscale\":[[0.0,\"#0d0887\"],[0.1111111111111111,\"#46039f\"],[0.2222222222222222,\"#7201a8\"],[0.3333333333333333,\"#9c179e\"],[0.4444444444444444,\"#bd3786\"],[0.5555555555555556,\"#d8576b\"],[0.6666666666666666,\"#ed7953\"],[0.7777777777777778,\"#fb9f3a\"],[0.8888888888888888,\"#fdca26\"],[1.0,\"#f0f921\"]]}],\"surface\":[{\"type\":\"surface\",\"colorbar\":{\"outlinewidth\":0,\"ticks\":\"\"},\"colorscale\":[[0.0,\"#0d0887\"],[0.1111111111111111,\"#46039f\"],[0.2222222222222222,\"#7201a8\"],[0.3333333333333333,\"#9c179e\"],[0.4444444444444444,\"#bd3786\"],[0.5555555555555556,\"#d8576b\"],[0.6666666666666666,\"#ed7953\"],[0.7777777777777778,\"#fb9f3a\"],[0.8888888888888888,\"#fdca26\"],[1.0,\"#f0f921\"]]}],\"mesh3d\":[{\"type\":\"mesh3d\",\"colorbar\":{\"outlinewidth\":0,\"ticks\":\"\"}}],\"scatter\":[{\"fillpattern\":{\"fillmode\":\"overlay\",\"size\":10,\"solidity\":0.2},\"type\":\"scatter\"}],\"parcoords\":[{\"type\":\"parcoords\",\"line\":{\"colorbar\":{\"outlinewidth\":0,\"ticks\":\"\"}}}],\"scatterpolargl\":[{\"type\":\"scatterpolargl\",\"marker\":{\"colorbar\":{\"outlinewidth\":0,\"ticks\":\"\"}}}],\"bar\":[{\"error_x\":{\"color\":\"#2a3f5f\"},\"error_y\":{\"color\":\"#2a3f5f\"},\"marker\":{\"line\":{\"color\":\"#E5ECF6\",\"width\":0.5},\"pattern\":{\"fillmode\":\"overlay\",\"size\":10,\"solidity\":0.2}},\"type\":\"bar\"}],\"scattergeo\":[{\"type\":\"scattergeo\",\"marker\":{\"colorbar\":{\"outlinewidth\":0,\"ticks\":\"\"}}}],\"scatterpolar\":[{\"type\":\"scatterpolar\",\"marker\":{\"colorbar\":{\"outlinewidth\":0,\"ticks\":\"\"}}}],\"histogram\":[{\"marker\":{\"pattern\":{\"fillmode\":\"overlay\",\"size\":10,\"solidity\":0.2}},\"type\":\"histogram\"}],\"scattergl\":[{\"type\":\"scattergl\",\"marker\":{\"colorbar\":{\"outlinewidth\":0,\"ticks\":\"\"}}}],\"scatter3d\":[{\"type\":\"scatter3d\",\"line\":{\"colorbar\":{\"outlinewidth\":0,\"ticks\":\"\"}},\"marker\":{\"colorbar\":{\"outlinewidth\":0,\"ticks\":\"\"}}}],\"scattermapbox\":[{\"type\":\"scattermapbox\",\"marker\":{\"colorbar\":{\"outlinewidth\":0,\"ticks\":\"\"}}}],\"scatterternary\":[{\"type\":\"scatterternary\",\"marker\":{\"colorbar\":{\"outlinewidth\":0,\"ticks\":\"\"}}}],\"scattercarpet\":[{\"type\":\"scattercarpet\",\"marker\":{\"colorbar\":{\"outlinewidth\":0,\"ticks\":\"\"}}}],\"carpet\":[{\"aaxis\":{\"endlinecolor\":\"#2a3f5f\",\"gridcolor\":\"white\",\"linecolor\":\"white\",\"minorgridcolor\":\"white\",\"startlinecolor\":\"#2a3f5f\"},\"baxis\":{\"endlinecolor\":\"#2a3f5f\",\"gridcolor\":\"white\",\"linecolor\":\"white\",\"minorgridcolor\":\"white\",\"startlinecolor\":\"#2a3f5f\"},\"type\":\"carpet\"}],\"table\":[{\"cells\":{\"fill\":{\"color\":\"#EBF0F8\"},\"line\":{\"color\":\"white\"}},\"header\":{\"fill\":{\"color\":\"#C8D4E3\"},\"line\":{\"color\":\"white\"}},\"type\":\"table\"}],\"barpolar\":[{\"marker\":{\"line\":{\"color\":\"#E5ECF6\",\"width\":0.5},\"pattern\":{\"fillmode\":\"overlay\",\"size\":10,\"solidity\":0.2}},\"type\":\"barpolar\"}],\"pie\":[{\"automargin\":true,\"type\":\"pie\"}]},\"layout\":{\"autotypenumbers\":\"strict\",\"colorway\":[\"#636efa\",\"#EF553B\",\"#00cc96\",\"#ab63fa\",\"#FFA15A\",\"#19d3f3\",\"#FF6692\",\"#B6E880\",\"#FF97FF\",\"#FECB52\"],\"font\":{\"color\":\"#2a3f5f\"},\"hovermode\":\"closest\",\"hoverlabel\":{\"align\":\"left\"},\"paper_bgcolor\":\"white\",\"plot_bgcolor\":\"#E5ECF6\",\"polar\":{\"bgcolor\":\"#E5ECF6\",\"angularaxis\":{\"gridcolor\":\"white\",\"linecolor\":\"white\",\"ticks\":\"\"},\"radialaxis\":{\"gridcolor\":\"white\",\"linecolor\":\"white\",\"ticks\":\"\"}},\"ternary\":{\"bgcolor\":\"#E5ECF6\",\"aaxis\":{\"gridcolor\":\"white\",\"linecolor\":\"white\",\"ticks\":\"\"},\"baxis\":{\"gridcolor\":\"white\",\"linecolor\":\"white\",\"ticks\":\"\"},\"caxis\":{\"gridcolor\":\"white\",\"linecolor\":\"white\",\"ticks\":\"\"}},\"coloraxis\":{\"colorbar\":{\"outlinewidth\":0,\"ticks\":\"\"}},\"colorscale\":{\"sequential\":[[0.0,\"#0d0887\"],[0.1111111111111111,\"#46039f\"],[0.2222222222222222,\"#7201a8\"],[0.3333333333333333,\"#9c179e\"],[0.4444444444444444,\"#bd3786\"],[0.5555555555555556,\"#d8576b\"],[0.6666666666666666,\"#ed7953\"],[0.7777777777777778,\"#fb9f3a\"],[0.8888888888888888,\"#fdca26\"],[1.0,\"#f0f921\"]],\"sequentialminus\":[[0.0,\"#0d0887\"],[0.1111111111111111,\"#46039f\"],[0.2222222222222222,\"#7201a8\"],[0.3333333333333333,\"#9c179e\"],[0.4444444444444444,\"#bd3786\"],[0.5555555555555556,\"#d8576b\"],[0.6666666666666666,\"#ed7953\"],[0.7777777777777778,\"#fb9f3a\"],[0.8888888888888888,\"#fdca26\"],[1.0,\"#f0f921\"]],\"diverging\":[[0,\"#8e0152\"],[0.1,\"#c51b7d\"],[0.2,\"#de77ae\"],[0.3,\"#f1b6da\"],[0.4,\"#fde0ef\"],[0.5,\"#f7f7f7\"],[0.6,\"#e6f5d0\"],[0.7,\"#b8e186\"],[0.8,\"#7fbc41\"],[0.9,\"#4d9221\"],[1,\"#276419\"]]},\"xaxis\":{\"gridcolor\":\"white\",\"linecolor\":\"white\",\"ticks\":\"\",\"title\":{\"standoff\":15},\"zerolinecolor\":\"white\",\"automargin\":true,\"zerolinewidth\":2},\"yaxis\":{\"gridcolor\":\"white\",\"linecolor\":\"white\",\"ticks\":\"\",\"title\":{\"standoff\":15},\"zerolinecolor\":\"white\",\"automargin\":true,\"zerolinewidth\":2},\"scene\":{\"xaxis\":{\"backgroundcolor\":\"#E5ECF6\",\"gridcolor\":\"white\",\"linecolor\":\"white\",\"showbackground\":true,\"ticks\":\"\",\"zerolinecolor\":\"white\",\"gridwidth\":2},\"yaxis\":{\"backgroundcolor\":\"#E5ECF6\",\"gridcolor\":\"white\",\"linecolor\":\"white\",\"showbackground\":true,\"ticks\":\"\",\"zerolinecolor\":\"white\",\"gridwidth\":2},\"zaxis\":{\"backgroundcolor\":\"#E5ECF6\",\"gridcolor\":\"white\",\"linecolor\":\"white\",\"showbackground\":true,\"ticks\":\"\",\"zerolinecolor\":\"white\",\"gridwidth\":2}},\"shapedefaults\":{\"line\":{\"color\":\"#2a3f5f\"}},\"annotationdefaults\":{\"arrowcolor\":\"#2a3f5f\",\"arrowhead\":0,\"arrowwidth\":1},\"geo\":{\"bgcolor\":\"white\",\"landcolor\":\"#E5ECF6\",\"subunitcolor\":\"white\",\"showland\":true,\"showlakes\":true,\"lakecolor\":\"white\"},\"title\":{\"x\":0.05},\"mapbox\":{\"style\":\"light\"}}},\"xaxis\":{\"anchor\":\"y\",\"domain\":[0.0,1.0],\"title\":{\"text\":\"x\"}},\"yaxis\":{\"anchor\":\"x\",\"domain\":[0.0,1.0],\"title\":{\"text\":\"y\"}},\"legend\":{\"tracegroupgap\":0},\"title\":{\"text\":\"Logit Difference From Accumulated Residual Stream\"}},                        {\"responsive\": true}                    ).then(function(){\n",
              "                            \n",
              "var gd = document.getElementById('e0f9e441-f0e9-4959-85cd-00c1d6952ff5');\n",
              "var x = new MutationObserver(function (mutations, observer) {{\n",
              "        var display = window.getComputedStyle(gd).display;\n",
              "        if (!display || display === 'none') {{\n",
              "            console.log([gd, 'removed!']);\n",
              "            Plotly.purge(gd);\n",
              "            observer.disconnect();\n",
              "        }}\n",
              "}});\n",
              "\n",
              "// Listen for the removal of the full notebook cells\n",
              "var notebookContainer = gd.closest('#notebook-container');\n",
              "if (notebookContainer) {{\n",
              "    x.observe(notebookContainer, {childList: true});\n",
              "}}\n",
              "\n",
              "// Listen for the clearing of the current output cell\n",
              "var outputEl = gd.closest('.output');\n",
              "if (outputEl) {{\n",
              "    x.observe(outputEl, {childList: true});\n",
              "}}\n",
              "\n",
              "                        })                };                            </script>        </div>\n",
              "</body>\n",
              "</html>"
            ]
          },
          "metadata": {},
          "output_type": "display_data"
        }
      ],
      "source": [
        "accumulated_residual, labels = clean_cache.accumulated_resid(layer=-1, incl_mid=False, pos_slice=-1, return_labels=True)\n",
        "logit_lens_logit_diffs = residual_stack_to_logit_diff(accumulated_residual, clean_cache)\n",
        "line(logit_lens_logit_diffs, x=np.arange(model.cfg.n_layers+1), hover_name=labels, title=\"Logit Difference From Accumulated Residual Stream\")"
      ]
    },
    {
      "cell_type": "markdown",
      "metadata": {
        "id": "QC77fKLSiHY1"
      },
      "source": [
        "### Layer Attribution"
      ]
    },
    {
      "cell_type": "markdown",
      "metadata": {
        "id": "PpmdsaGsSmsv"
      },
      "source": [
        "Major contributor is are attention layers 7 and 8; attention 9 seems to have a strong negative effect."
      ]
    },
    {
      "cell_type": "code",
      "execution_count": null,
      "metadata": {
        "colab": {
          "base_uri": "https://localhost:8080/",
          "height": 542
        },
        "id": "0HLgwIBxhYhR",
        "outputId": "a3820bde-d8fc-4e27-ebbb-6751f8d2761e"
      },
      "outputs": [
        {
          "data": {
            "text/html": [
              "<html>\n",
              "<head><meta charset=\"utf-8\" /></head>\n",
              "<body>\n",
              "    <div>            <script src=\"https://cdnjs.cloudflare.com/ajax/libs/mathjax/2.7.5/MathJax.js?config=TeX-AMS-MML_SVG\"></script><script type=\"text/javascript\">if (window.MathJax && window.MathJax.Hub && window.MathJax.Hub.Config) {window.MathJax.Hub.Config({SVG: {font: \"STIX-Web\"}});}</script>                <script type=\"text/javascript\">window.PlotlyConfig = {MathJaxConfig: 'local'};</script>\n",
              "        <script src=\"https://cdn.plot.ly/plotly-2.18.2.min.js\"></script>                <div id=\"d6c7d9cd-ea1a-4ecf-876a-27e099836579\" class=\"plotly-graph-div\" style=\"height:525px; width:100%;\"></div>            <script type=\"text/javascript\">                                    window.PLOTLYENV=window.PLOTLYENV || {};                                    if (document.getElementById(\"d6c7d9cd-ea1a-4ecf-876a-27e099836579\")) {                    Plotly.newPlot(                        \"d6c7d9cd-ea1a-4ecf-876a-27e099836579\",                        [{\"hovertemplate\":\"<b>%{hovertext}</b><br><br>x=%{x}<br>y=%{y}<extra></extra>\",\"hovertext\":[\"embed\",\"0_attn_out\",\"0_mlp_out\",\"1_attn_out\",\"1_mlp_out\",\"2_attn_out\",\"2_mlp_out\",\"3_attn_out\",\"3_mlp_out\",\"4_attn_out\",\"4_mlp_out\",\"5_attn_out\",\"5_mlp_out\",\"6_attn_out\",\"6_mlp_out\",\"7_attn_out\",\"7_mlp_out\",\"8_attn_out\",\"8_mlp_out\",\"9_attn_out\",\"9_mlp_out\",\"10_attn_out\",\"10_mlp_out\",\"11_attn_out\",\"11_mlp_out\"],\"legendgroup\":\"\",\"line\":{\"color\":\"#636efa\",\"dash\":\"solid\"},\"marker\":{\"symbol\":\"circle\"},\"mode\":\"lines\",\"name\":\"\",\"orientation\":\"v\",\"showlegend\":false,\"x\":[0,1,2,3,4,5,6,7,8,9,10,11,12,13,14,15,16,17,18,19,20,21,22,23,24],\"xaxis\":\"x\",\"y\":[-0.010180597193539143,0.1078544557094574,0.03863335773348808,-0.14784453809261322,0.0537046417593956,0.25248560309410095,0.0003195926547050476,-0.4714493155479431,0.18122220039367676,-0.09824316948652267,-0.10979709774255753,-0.19992601871490479,0.362948477268219,-0.04063863307237625,0.243157759308815,0.593397855758667,0.7681268453598022,5.065891265869141,0.7712874412536621,0.44809216260910034,0.5787044763565063,2.48551607131958,1.1472584009170532,2.387479782104492,12.087390899658203],\"yaxis\":\"y\",\"type\":\"scatter\"}],                        {\"template\":{\"data\":{\"histogram2dcontour\":[{\"type\":\"histogram2dcontour\",\"colorbar\":{\"outlinewidth\":0,\"ticks\":\"\"},\"colorscale\":[[0.0,\"#0d0887\"],[0.1111111111111111,\"#46039f\"],[0.2222222222222222,\"#7201a8\"],[0.3333333333333333,\"#9c179e\"],[0.4444444444444444,\"#bd3786\"],[0.5555555555555556,\"#d8576b\"],[0.6666666666666666,\"#ed7953\"],[0.7777777777777778,\"#fb9f3a\"],[0.8888888888888888,\"#fdca26\"],[1.0,\"#f0f921\"]]}],\"choropleth\":[{\"type\":\"choropleth\",\"colorbar\":{\"outlinewidth\":0,\"ticks\":\"\"}}],\"histogram2d\":[{\"type\":\"histogram2d\",\"colorbar\":{\"outlinewidth\":0,\"ticks\":\"\"},\"colorscale\":[[0.0,\"#0d0887\"],[0.1111111111111111,\"#46039f\"],[0.2222222222222222,\"#7201a8\"],[0.3333333333333333,\"#9c179e\"],[0.4444444444444444,\"#bd3786\"],[0.5555555555555556,\"#d8576b\"],[0.6666666666666666,\"#ed7953\"],[0.7777777777777778,\"#fb9f3a\"],[0.8888888888888888,\"#fdca26\"],[1.0,\"#f0f921\"]]}],\"heatmap\":[{\"type\":\"heatmap\",\"colorbar\":{\"outlinewidth\":0,\"ticks\":\"\"},\"colorscale\":[[0.0,\"#0d0887\"],[0.1111111111111111,\"#46039f\"],[0.2222222222222222,\"#7201a8\"],[0.3333333333333333,\"#9c179e\"],[0.4444444444444444,\"#bd3786\"],[0.5555555555555556,\"#d8576b\"],[0.6666666666666666,\"#ed7953\"],[0.7777777777777778,\"#fb9f3a\"],[0.8888888888888888,\"#fdca26\"],[1.0,\"#f0f921\"]]}],\"heatmapgl\":[{\"type\":\"heatmapgl\",\"colorbar\":{\"outlinewidth\":0,\"ticks\":\"\"},\"colorscale\":[[0.0,\"#0d0887\"],[0.1111111111111111,\"#46039f\"],[0.2222222222222222,\"#7201a8\"],[0.3333333333333333,\"#9c179e\"],[0.4444444444444444,\"#bd3786\"],[0.5555555555555556,\"#d8576b\"],[0.6666666666666666,\"#ed7953\"],[0.7777777777777778,\"#fb9f3a\"],[0.8888888888888888,\"#fdca26\"],[1.0,\"#f0f921\"]]}],\"contourcarpet\":[{\"type\":\"contourcarpet\",\"colorbar\":{\"outlinewidth\":0,\"ticks\":\"\"}}],\"contour\":[{\"type\":\"contour\",\"colorbar\":{\"outlinewidth\":0,\"ticks\":\"\"},\"colorscale\":[[0.0,\"#0d0887\"],[0.1111111111111111,\"#46039f\"],[0.2222222222222222,\"#7201a8\"],[0.3333333333333333,\"#9c179e\"],[0.4444444444444444,\"#bd3786\"],[0.5555555555555556,\"#d8576b\"],[0.6666666666666666,\"#ed7953\"],[0.7777777777777778,\"#fb9f3a\"],[0.8888888888888888,\"#fdca26\"],[1.0,\"#f0f921\"]]}],\"surface\":[{\"type\":\"surface\",\"colorbar\":{\"outlinewidth\":0,\"ticks\":\"\"},\"colorscale\":[[0.0,\"#0d0887\"],[0.1111111111111111,\"#46039f\"],[0.2222222222222222,\"#7201a8\"],[0.3333333333333333,\"#9c179e\"],[0.4444444444444444,\"#bd3786\"],[0.5555555555555556,\"#d8576b\"],[0.6666666666666666,\"#ed7953\"],[0.7777777777777778,\"#fb9f3a\"],[0.8888888888888888,\"#fdca26\"],[1.0,\"#f0f921\"]]}],\"mesh3d\":[{\"type\":\"mesh3d\",\"colorbar\":{\"outlinewidth\":0,\"ticks\":\"\"}}],\"scatter\":[{\"fillpattern\":{\"fillmode\":\"overlay\",\"size\":10,\"solidity\":0.2},\"type\":\"scatter\"}],\"parcoords\":[{\"type\":\"parcoords\",\"line\":{\"colorbar\":{\"outlinewidth\":0,\"ticks\":\"\"}}}],\"scatterpolargl\":[{\"type\":\"scatterpolargl\",\"marker\":{\"colorbar\":{\"outlinewidth\":0,\"ticks\":\"\"}}}],\"bar\":[{\"error_x\":{\"color\":\"#2a3f5f\"},\"error_y\":{\"color\":\"#2a3f5f\"},\"marker\":{\"line\":{\"color\":\"#E5ECF6\",\"width\":0.5},\"pattern\":{\"fillmode\":\"overlay\",\"size\":10,\"solidity\":0.2}},\"type\":\"bar\"}],\"scattergeo\":[{\"type\":\"scattergeo\",\"marker\":{\"colorbar\":{\"outlinewidth\":0,\"ticks\":\"\"}}}],\"scatterpolar\":[{\"type\":\"scatterpolar\",\"marker\":{\"colorbar\":{\"outlinewidth\":0,\"ticks\":\"\"}}}],\"histogram\":[{\"marker\":{\"pattern\":{\"fillmode\":\"overlay\",\"size\":10,\"solidity\":0.2}},\"type\":\"histogram\"}],\"scattergl\":[{\"type\":\"scattergl\",\"marker\":{\"colorbar\":{\"outlinewidth\":0,\"ticks\":\"\"}}}],\"scatter3d\":[{\"type\":\"scatter3d\",\"line\":{\"colorbar\":{\"outlinewidth\":0,\"ticks\":\"\"}},\"marker\":{\"colorbar\":{\"outlinewidth\":0,\"ticks\":\"\"}}}],\"scattermapbox\":[{\"type\":\"scattermapbox\",\"marker\":{\"colorbar\":{\"outlinewidth\":0,\"ticks\":\"\"}}}],\"scatterternary\":[{\"type\":\"scatterternary\",\"marker\":{\"colorbar\":{\"outlinewidth\":0,\"ticks\":\"\"}}}],\"scattercarpet\":[{\"type\":\"scattercarpet\",\"marker\":{\"colorbar\":{\"outlinewidth\":0,\"ticks\":\"\"}}}],\"carpet\":[{\"aaxis\":{\"endlinecolor\":\"#2a3f5f\",\"gridcolor\":\"white\",\"linecolor\":\"white\",\"minorgridcolor\":\"white\",\"startlinecolor\":\"#2a3f5f\"},\"baxis\":{\"endlinecolor\":\"#2a3f5f\",\"gridcolor\":\"white\",\"linecolor\":\"white\",\"minorgridcolor\":\"white\",\"startlinecolor\":\"#2a3f5f\"},\"type\":\"carpet\"}],\"table\":[{\"cells\":{\"fill\":{\"color\":\"#EBF0F8\"},\"line\":{\"color\":\"white\"}},\"header\":{\"fill\":{\"color\":\"#C8D4E3\"},\"line\":{\"color\":\"white\"}},\"type\":\"table\"}],\"barpolar\":[{\"marker\":{\"line\":{\"color\":\"#E5ECF6\",\"width\":0.5},\"pattern\":{\"fillmode\":\"overlay\",\"size\":10,\"solidity\":0.2}},\"type\":\"barpolar\"}],\"pie\":[{\"automargin\":true,\"type\":\"pie\"}]},\"layout\":{\"autotypenumbers\":\"strict\",\"colorway\":[\"#636efa\",\"#EF553B\",\"#00cc96\",\"#ab63fa\",\"#FFA15A\",\"#19d3f3\",\"#FF6692\",\"#B6E880\",\"#FF97FF\",\"#FECB52\"],\"font\":{\"color\":\"#2a3f5f\"},\"hovermode\":\"closest\",\"hoverlabel\":{\"align\":\"left\"},\"paper_bgcolor\":\"white\",\"plot_bgcolor\":\"#E5ECF6\",\"polar\":{\"bgcolor\":\"#E5ECF6\",\"angularaxis\":{\"gridcolor\":\"white\",\"linecolor\":\"white\",\"ticks\":\"\"},\"radialaxis\":{\"gridcolor\":\"white\",\"linecolor\":\"white\",\"ticks\":\"\"}},\"ternary\":{\"bgcolor\":\"#E5ECF6\",\"aaxis\":{\"gridcolor\":\"white\",\"linecolor\":\"white\",\"ticks\":\"\"},\"baxis\":{\"gridcolor\":\"white\",\"linecolor\":\"white\",\"ticks\":\"\"},\"caxis\":{\"gridcolor\":\"white\",\"linecolor\":\"white\",\"ticks\":\"\"}},\"coloraxis\":{\"colorbar\":{\"outlinewidth\":0,\"ticks\":\"\"}},\"colorscale\":{\"sequential\":[[0.0,\"#0d0887\"],[0.1111111111111111,\"#46039f\"],[0.2222222222222222,\"#7201a8\"],[0.3333333333333333,\"#9c179e\"],[0.4444444444444444,\"#bd3786\"],[0.5555555555555556,\"#d8576b\"],[0.6666666666666666,\"#ed7953\"],[0.7777777777777778,\"#fb9f3a\"],[0.8888888888888888,\"#fdca26\"],[1.0,\"#f0f921\"]],\"sequentialminus\":[[0.0,\"#0d0887\"],[0.1111111111111111,\"#46039f\"],[0.2222222222222222,\"#7201a8\"],[0.3333333333333333,\"#9c179e\"],[0.4444444444444444,\"#bd3786\"],[0.5555555555555556,\"#d8576b\"],[0.6666666666666666,\"#ed7953\"],[0.7777777777777778,\"#fb9f3a\"],[0.8888888888888888,\"#fdca26\"],[1.0,\"#f0f921\"]],\"diverging\":[[0,\"#8e0152\"],[0.1,\"#c51b7d\"],[0.2,\"#de77ae\"],[0.3,\"#f1b6da\"],[0.4,\"#fde0ef\"],[0.5,\"#f7f7f7\"],[0.6,\"#e6f5d0\"],[0.7,\"#b8e186\"],[0.8,\"#7fbc41\"],[0.9,\"#4d9221\"],[1,\"#276419\"]]},\"xaxis\":{\"gridcolor\":\"white\",\"linecolor\":\"white\",\"ticks\":\"\",\"title\":{\"standoff\":15},\"zerolinecolor\":\"white\",\"automargin\":true,\"zerolinewidth\":2},\"yaxis\":{\"gridcolor\":\"white\",\"linecolor\":\"white\",\"ticks\":\"\",\"title\":{\"standoff\":15},\"zerolinecolor\":\"white\",\"automargin\":true,\"zerolinewidth\":2},\"scene\":{\"xaxis\":{\"backgroundcolor\":\"#E5ECF6\",\"gridcolor\":\"white\",\"linecolor\":\"white\",\"showbackground\":true,\"ticks\":\"\",\"zerolinecolor\":\"white\",\"gridwidth\":2},\"yaxis\":{\"backgroundcolor\":\"#E5ECF6\",\"gridcolor\":\"white\",\"linecolor\":\"white\",\"showbackground\":true,\"ticks\":\"\",\"zerolinecolor\":\"white\",\"gridwidth\":2},\"zaxis\":{\"backgroundcolor\":\"#E5ECF6\",\"gridcolor\":\"white\",\"linecolor\":\"white\",\"showbackground\":true,\"ticks\":\"\",\"zerolinecolor\":\"white\",\"gridwidth\":2}},\"shapedefaults\":{\"line\":{\"color\":\"#2a3f5f\"}},\"annotationdefaults\":{\"arrowcolor\":\"#2a3f5f\",\"arrowhead\":0,\"arrowwidth\":1},\"geo\":{\"bgcolor\":\"white\",\"landcolor\":\"#E5ECF6\",\"subunitcolor\":\"white\",\"showland\":true,\"showlakes\":true,\"lakecolor\":\"white\"},\"title\":{\"x\":0.05},\"mapbox\":{\"style\":\"light\"}}},\"xaxis\":{\"anchor\":\"y\",\"domain\":[0.0,1.0],\"title\":{\"text\":\"x\"}},\"yaxis\":{\"anchor\":\"x\",\"domain\":[0.0,1.0],\"title\":{\"text\":\"y\"}},\"legend\":{\"tracegroupgap\":0},\"title\":{\"text\":\"Logit Difference From Each Layer\"}},                        {\"responsive\": true}                    ).then(function(){\n",
              "                            \n",
              "var gd = document.getElementById('d6c7d9cd-ea1a-4ecf-876a-27e099836579');\n",
              "var x = new MutationObserver(function (mutations, observer) {{\n",
              "        var display = window.getComputedStyle(gd).display;\n",
              "        if (!display || display === 'none') {{\n",
              "            console.log([gd, 'removed!']);\n",
              "            Plotly.purge(gd);\n",
              "            observer.disconnect();\n",
              "        }}\n",
              "}});\n",
              "\n",
              "// Listen for the removal of the full notebook cells\n",
              "var notebookContainer = gd.closest('#notebook-container');\n",
              "if (notebookContainer) {{\n",
              "    x.observe(notebookContainer, {childList: true});\n",
              "}}\n",
              "\n",
              "// Listen for the clearing of the current output cell\n",
              "var outputEl = gd.closest('.output');\n",
              "if (outputEl) {{\n",
              "    x.observe(outputEl, {childList: true});\n",
              "}}\n",
              "\n",
              "                        })                };                            </script>        </div>\n",
              "</body>\n",
              "</html>"
            ]
          },
          "metadata": {},
          "output_type": "display_data"
        }
      ],
      "source": [
        "per_layer_residual, labels = clean_cache.decompose_resid(layer=-1, pos_slice=-1, return_labels=True)\n",
        "per_layer_logit_diffs = residual_stack_to_logit_diff(per_layer_residual, clean_cache)\n",
        "l_line(per_layer_logit_diffs, hover_name=labels, title=\"Logit Difference From Each Layer\")"
      ]
    },
    {
      "cell_type": "markdown",
      "metadata": {
        "id": "3YeM-O3ViR5L"
      },
      "source": [
        "### Head Attribution"
      ]
    },
    {
      "cell_type": "markdown",
      "metadata": {
        "id": "p01e05EsWOM-"
      },
      "source": [
        "Heads L7H5 and L8H10 make the biggest positive difference, and heads L8H1, L8H2, L8H5, L8H8 make a more modest difference. L9H1 and L9H11 make a negative contribution.\n",
        "\n",
        "These are likely to be name movers and potentially S-inhibition heads."
      ]
    },
    {
      "cell_type": "code",
      "execution_count": null,
      "metadata": {
        "colab": {
          "base_uri": "https://localhost:8080/",
          "height": 559
        },
        "id": "a5kk0LZKiLB-",
        "outputId": "913b9f04-9fed-46a0-8b87-25b99340e868"
      },
      "outputs": [
        {
          "name": "stdout",
          "output_type": "stream",
          "text": [
            "Tried to stack head results when they weren't cached. Computing head results now\n"
          ]
        },
        {
          "data": {
            "text/html": [
              "<html>\n",
              "<head><meta charset=\"utf-8\" /></head>\n",
              "<body>\n",
              "    <div>            <script src=\"https://cdnjs.cloudflare.com/ajax/libs/mathjax/2.7.5/MathJax.js?config=TeX-AMS-MML_SVG\"></script><script type=\"text/javascript\">if (window.MathJax && window.MathJax.Hub && window.MathJax.Hub.Config) {window.MathJax.Hub.Config({SVG: {font: \"STIX-Web\"}});}</script>                <script type=\"text/javascript\">window.PlotlyConfig = {MathJaxConfig: 'local'};</script>\n",
              "        <script src=\"https://cdn.plot.ly/plotly-2.18.2.min.js\"></script>                <div id=\"b03649de-1b21-46f1-8395-61f22b9d928c\" class=\"plotly-graph-div\" style=\"height:525px; width:100%;\"></div>            <script type=\"text/javascript\">                                    window.PLOTLYENV=window.PLOTLYENV || {};                                    if (document.getElementById(\"b03649de-1b21-46f1-8395-61f22b9d928c\")) {                    Plotly.newPlot(                        \"b03649de-1b21-46f1-8395-61f22b9d928c\",                        [{\"coloraxis\":\"coloraxis\",\"name\":\"0\",\"z\":[[0.01844014599919319,0.0364738330245018,0.032107044011354446,0.003577851690351963,0.022146858274936676,-0.006213785149157047,-0.11072809994220734,0.09820982813835144,0.029019661247730255,0.04979649558663368,-0.02312171459197998,0.018462516367435455],[0.0004348102957010269,-0.01261545717716217,-0.02187211439013481,0.01771482080221176,-0.05438023805618286,0.0013081012293696404,0.08121002465486526,0.001761406660079956,-0.01819225773215294,0.010220235213637352,-0.04138251394033432,-0.00783531740307808],[0.041002169251441956,0.019224373623728752,0.029159709811210632,0.033938538283109665,-0.03414476290345192,0.0030613725539296865,0.04920470342040062,0.04862567409873009,0.043245818465948105,0.01608584076166153,0.051386818289756775,-0.04890447109937668],[0.006739657372236252,-0.03734734281897545,-0.21650370955467224,0.053227365016937256,-0.031965579837560654,0.006032237783074379,-0.027470050379633904,-0.036834966391325,-0.053065404295921326,-0.06366297602653503,0.019351685419678688,-0.03311622887849808],[-0.06130316108465195,-0.0427783727645874,-0.026597576215863228,0.06579440087080002,0.008960762992501259,-0.10386206954717636,-0.017222853377461433,0.0032024094834923744,0.026417432352900505,0.01704765483736992,-0.06374742090702057,0.07778431475162506],[0.06346756219863892,-0.03530063107609749,0.02115187607705593,-0.12262684106826782,0.04791483283042908,0.004663795232772827,0.0001233406364917755,0.0034008678048849106,-0.1489955335855484,-0.0019283073488622904,0.01511321309953928,0.010932410135865211],[-0.056761715561151505,-0.023269692435860634,0.05234529450535774,-0.03167383000254631,-0.07431825995445251,-0.1739307940006256,0.3508076071739197,-0.11153577268123627,-0.005762999877333641,-0.004473904147744179,0.020329464226961136,-0.00849364884197712],[-0.018262013792991638,0.01625528745353222,-0.08133119344711304,0.02147458679974079,0.00968343485146761,0.049981046468019485,0.01969565451145172,-0.010411754250526428,0.18687602877616882,0.05960730463266373,-0.021071255207061768,0.2730099558830261],[0.0037567990366369486,0.3221367597579956,0.7598840594291687,0.0014987257309257984,0.07191638648509979,0.024439087137579918,-0.03739050403237343,-0.04585765302181244,0.283609539270401,-0.09422069787979126,3.3484582901000977,0.232211172580719],[0.012749038636684418,-0.6198930740356445,0.04762302711606026,0.10217529535293579,0.29342061281204224,-0.596556544303894,0.4463837444782257,0.24470697343349457,0.18244090676307678,0.08299436420202255,-0.0019992562010884285,-0.0034909758251160383],[0.004597994964569807,0.5813180208206177,-0.16531185805797577,-0.0008092271164059639,0.04794204235076904,0.1401897668838501,-0.007062213961035013,1.083420753479004,0.36342713236808777,0.010101533494889736,0.058442372828722,0.09121476113796234],[0.281343936920166,0.18383878469467163,0.06189626455307007,0.013302374631166458,0.013149397447705269,0.4180866479873657,0.17829163372516632,0.0819823294878006,0.13144637644290924,0.18351833522319794,0.36885279417037964,0.1210736483335495]],\"type\":\"heatmap\",\"xaxis\":\"x\",\"yaxis\":\"y\",\"hovertemplate\":\"x: %{x}<br>y: %{y}<br>color: %{z}<extra></extra>\"}],                        {\"template\":{\"data\":{\"histogram2dcontour\":[{\"type\":\"histogram2dcontour\",\"colorbar\":{\"outlinewidth\":0,\"ticks\":\"\"},\"colorscale\":[[0.0,\"#0d0887\"],[0.1111111111111111,\"#46039f\"],[0.2222222222222222,\"#7201a8\"],[0.3333333333333333,\"#9c179e\"],[0.4444444444444444,\"#bd3786\"],[0.5555555555555556,\"#d8576b\"],[0.6666666666666666,\"#ed7953\"],[0.7777777777777778,\"#fb9f3a\"],[0.8888888888888888,\"#fdca26\"],[1.0,\"#f0f921\"]]}],\"choropleth\":[{\"type\":\"choropleth\",\"colorbar\":{\"outlinewidth\":0,\"ticks\":\"\"}}],\"histogram2d\":[{\"type\":\"histogram2d\",\"colorbar\":{\"outlinewidth\":0,\"ticks\":\"\"},\"colorscale\":[[0.0,\"#0d0887\"],[0.1111111111111111,\"#46039f\"],[0.2222222222222222,\"#7201a8\"],[0.3333333333333333,\"#9c179e\"],[0.4444444444444444,\"#bd3786\"],[0.5555555555555556,\"#d8576b\"],[0.6666666666666666,\"#ed7953\"],[0.7777777777777778,\"#fb9f3a\"],[0.8888888888888888,\"#fdca26\"],[1.0,\"#f0f921\"]]}],\"heatmap\":[{\"type\":\"heatmap\",\"colorbar\":{\"outlinewidth\":0,\"ticks\":\"\"},\"colorscale\":[[0.0,\"#0d0887\"],[0.1111111111111111,\"#46039f\"],[0.2222222222222222,\"#7201a8\"],[0.3333333333333333,\"#9c179e\"],[0.4444444444444444,\"#bd3786\"],[0.5555555555555556,\"#d8576b\"],[0.6666666666666666,\"#ed7953\"],[0.7777777777777778,\"#fb9f3a\"],[0.8888888888888888,\"#fdca26\"],[1.0,\"#f0f921\"]]}],\"heatmapgl\":[{\"type\":\"heatmapgl\",\"colorbar\":{\"outlinewidth\":0,\"ticks\":\"\"},\"colorscale\":[[0.0,\"#0d0887\"],[0.1111111111111111,\"#46039f\"],[0.2222222222222222,\"#7201a8\"],[0.3333333333333333,\"#9c179e\"],[0.4444444444444444,\"#bd3786\"],[0.5555555555555556,\"#d8576b\"],[0.6666666666666666,\"#ed7953\"],[0.7777777777777778,\"#fb9f3a\"],[0.8888888888888888,\"#fdca26\"],[1.0,\"#f0f921\"]]}],\"contourcarpet\":[{\"type\":\"contourcarpet\",\"colorbar\":{\"outlinewidth\":0,\"ticks\":\"\"}}],\"contour\":[{\"type\":\"contour\",\"colorbar\":{\"outlinewidth\":0,\"ticks\":\"\"},\"colorscale\":[[0.0,\"#0d0887\"],[0.1111111111111111,\"#46039f\"],[0.2222222222222222,\"#7201a8\"],[0.3333333333333333,\"#9c179e\"],[0.4444444444444444,\"#bd3786\"],[0.5555555555555556,\"#d8576b\"],[0.6666666666666666,\"#ed7953\"],[0.7777777777777778,\"#fb9f3a\"],[0.8888888888888888,\"#fdca26\"],[1.0,\"#f0f921\"]]}],\"surface\":[{\"type\":\"surface\",\"colorbar\":{\"outlinewidth\":0,\"ticks\":\"\"},\"colorscale\":[[0.0,\"#0d0887\"],[0.1111111111111111,\"#46039f\"],[0.2222222222222222,\"#7201a8\"],[0.3333333333333333,\"#9c179e\"],[0.4444444444444444,\"#bd3786\"],[0.5555555555555556,\"#d8576b\"],[0.6666666666666666,\"#ed7953\"],[0.7777777777777778,\"#fb9f3a\"],[0.8888888888888888,\"#fdca26\"],[1.0,\"#f0f921\"]]}],\"mesh3d\":[{\"type\":\"mesh3d\",\"colorbar\":{\"outlinewidth\":0,\"ticks\":\"\"}}],\"scatter\":[{\"fillpattern\":{\"fillmode\":\"overlay\",\"size\":10,\"solidity\":0.2},\"type\":\"scatter\"}],\"parcoords\":[{\"type\":\"parcoords\",\"line\":{\"colorbar\":{\"outlinewidth\":0,\"ticks\":\"\"}}}],\"scatterpolargl\":[{\"type\":\"scatterpolargl\",\"marker\":{\"colorbar\":{\"outlinewidth\":0,\"ticks\":\"\"}}}],\"bar\":[{\"error_x\":{\"color\":\"#2a3f5f\"},\"error_y\":{\"color\":\"#2a3f5f\"},\"marker\":{\"line\":{\"color\":\"#E5ECF6\",\"width\":0.5},\"pattern\":{\"fillmode\":\"overlay\",\"size\":10,\"solidity\":0.2}},\"type\":\"bar\"}],\"scattergeo\":[{\"type\":\"scattergeo\",\"marker\":{\"colorbar\":{\"outlinewidth\":0,\"ticks\":\"\"}}}],\"scatterpolar\":[{\"type\":\"scatterpolar\",\"marker\":{\"colorbar\":{\"outlinewidth\":0,\"ticks\":\"\"}}}],\"histogram\":[{\"marker\":{\"pattern\":{\"fillmode\":\"overlay\",\"size\":10,\"solidity\":0.2}},\"type\":\"histogram\"}],\"scattergl\":[{\"type\":\"scattergl\",\"marker\":{\"colorbar\":{\"outlinewidth\":0,\"ticks\":\"\"}}}],\"scatter3d\":[{\"type\":\"scatter3d\",\"line\":{\"colorbar\":{\"outlinewidth\":0,\"ticks\":\"\"}},\"marker\":{\"colorbar\":{\"outlinewidth\":0,\"ticks\":\"\"}}}],\"scattermapbox\":[{\"type\":\"scattermapbox\",\"marker\":{\"colorbar\":{\"outlinewidth\":0,\"ticks\":\"\"}}}],\"scatterternary\":[{\"type\":\"scatterternary\",\"marker\":{\"colorbar\":{\"outlinewidth\":0,\"ticks\":\"\"}}}],\"scattercarpet\":[{\"type\":\"scattercarpet\",\"marker\":{\"colorbar\":{\"outlinewidth\":0,\"ticks\":\"\"}}}],\"carpet\":[{\"aaxis\":{\"endlinecolor\":\"#2a3f5f\",\"gridcolor\":\"white\",\"linecolor\":\"white\",\"minorgridcolor\":\"white\",\"startlinecolor\":\"#2a3f5f\"},\"baxis\":{\"endlinecolor\":\"#2a3f5f\",\"gridcolor\":\"white\",\"linecolor\":\"white\",\"minorgridcolor\":\"white\",\"startlinecolor\":\"#2a3f5f\"},\"type\":\"carpet\"}],\"table\":[{\"cells\":{\"fill\":{\"color\":\"#EBF0F8\"},\"line\":{\"color\":\"white\"}},\"header\":{\"fill\":{\"color\":\"#C8D4E3\"},\"line\":{\"color\":\"white\"}},\"type\":\"table\"}],\"barpolar\":[{\"marker\":{\"line\":{\"color\":\"#E5ECF6\",\"width\":0.5},\"pattern\":{\"fillmode\":\"overlay\",\"size\":10,\"solidity\":0.2}},\"type\":\"barpolar\"}],\"pie\":[{\"automargin\":true,\"type\":\"pie\"}]},\"layout\":{\"autotypenumbers\":\"strict\",\"colorway\":[\"#636efa\",\"#EF553B\",\"#00cc96\",\"#ab63fa\",\"#FFA15A\",\"#19d3f3\",\"#FF6692\",\"#B6E880\",\"#FF97FF\",\"#FECB52\"],\"font\":{\"color\":\"#2a3f5f\"},\"hovermode\":\"closest\",\"hoverlabel\":{\"align\":\"left\"},\"paper_bgcolor\":\"white\",\"plot_bgcolor\":\"#E5ECF6\",\"polar\":{\"bgcolor\":\"#E5ECF6\",\"angularaxis\":{\"gridcolor\":\"white\",\"linecolor\":\"white\",\"ticks\":\"\"},\"radialaxis\":{\"gridcolor\":\"white\",\"linecolor\":\"white\",\"ticks\":\"\"}},\"ternary\":{\"bgcolor\":\"#E5ECF6\",\"aaxis\":{\"gridcolor\":\"white\",\"linecolor\":\"white\",\"ticks\":\"\"},\"baxis\":{\"gridcolor\":\"white\",\"linecolor\":\"white\",\"ticks\":\"\"},\"caxis\":{\"gridcolor\":\"white\",\"linecolor\":\"white\",\"ticks\":\"\"}},\"coloraxis\":{\"colorbar\":{\"outlinewidth\":0,\"ticks\":\"\"}},\"colorscale\":{\"sequential\":[[0.0,\"#0d0887\"],[0.1111111111111111,\"#46039f\"],[0.2222222222222222,\"#7201a8\"],[0.3333333333333333,\"#9c179e\"],[0.4444444444444444,\"#bd3786\"],[0.5555555555555556,\"#d8576b\"],[0.6666666666666666,\"#ed7953\"],[0.7777777777777778,\"#fb9f3a\"],[0.8888888888888888,\"#fdca26\"],[1.0,\"#f0f921\"]],\"sequentialminus\":[[0.0,\"#0d0887\"],[0.1111111111111111,\"#46039f\"],[0.2222222222222222,\"#7201a8\"],[0.3333333333333333,\"#9c179e\"],[0.4444444444444444,\"#bd3786\"],[0.5555555555555556,\"#d8576b\"],[0.6666666666666666,\"#ed7953\"],[0.7777777777777778,\"#fb9f3a\"],[0.8888888888888888,\"#fdca26\"],[1.0,\"#f0f921\"]],\"diverging\":[[0,\"#8e0152\"],[0.1,\"#c51b7d\"],[0.2,\"#de77ae\"],[0.3,\"#f1b6da\"],[0.4,\"#fde0ef\"],[0.5,\"#f7f7f7\"],[0.6,\"#e6f5d0\"],[0.7,\"#b8e186\"],[0.8,\"#7fbc41\"],[0.9,\"#4d9221\"],[1,\"#276419\"]]},\"xaxis\":{\"gridcolor\":\"white\",\"linecolor\":\"white\",\"ticks\":\"\",\"title\":{\"standoff\":15},\"zerolinecolor\":\"white\",\"automargin\":true,\"zerolinewidth\":2},\"yaxis\":{\"gridcolor\":\"white\",\"linecolor\":\"white\",\"ticks\":\"\",\"title\":{\"standoff\":15},\"zerolinecolor\":\"white\",\"automargin\":true,\"zerolinewidth\":2},\"scene\":{\"xaxis\":{\"backgroundcolor\":\"#E5ECF6\",\"gridcolor\":\"white\",\"linecolor\":\"white\",\"showbackground\":true,\"ticks\":\"\",\"zerolinecolor\":\"white\",\"gridwidth\":2},\"yaxis\":{\"backgroundcolor\":\"#E5ECF6\",\"gridcolor\":\"white\",\"linecolor\":\"white\",\"showbackground\":true,\"ticks\":\"\",\"zerolinecolor\":\"white\",\"gridwidth\":2},\"zaxis\":{\"backgroundcolor\":\"#E5ECF6\",\"gridcolor\":\"white\",\"linecolor\":\"white\",\"showbackground\":true,\"ticks\":\"\",\"zerolinecolor\":\"white\",\"gridwidth\":2}},\"shapedefaults\":{\"line\":{\"color\":\"#2a3f5f\"}},\"annotationdefaults\":{\"arrowcolor\":\"#2a3f5f\",\"arrowhead\":0,\"arrowwidth\":1},\"geo\":{\"bgcolor\":\"white\",\"landcolor\":\"#E5ECF6\",\"subunitcolor\":\"white\",\"showland\":true,\"showlakes\":true,\"lakecolor\":\"white\"},\"title\":{\"x\":0.05},\"mapbox\":{\"style\":\"light\"}}},\"xaxis\":{\"anchor\":\"y\",\"domain\":[0.0,1.0],\"title\":{\"text\":\"Head\"}},\"yaxis\":{\"anchor\":\"x\",\"domain\":[0.0,1.0],\"autorange\":\"reversed\",\"title\":{\"text\":\"Layer\"}},\"coloraxis\":{\"colorscale\":[[0.0,\"rgb(103,0,31)\"],[0.1,\"rgb(178,24,43)\"],[0.2,\"rgb(214,96,77)\"],[0.3,\"rgb(244,165,130)\"],[0.4,\"rgb(253,219,199)\"],[0.5,\"rgb(247,247,247)\"],[0.6,\"rgb(209,229,240)\"],[0.7,\"rgb(146,197,222)\"],[0.8,\"rgb(67,147,195)\"],[0.9,\"rgb(33,102,172)\"],[1.0,\"rgb(5,48,97)\"]],\"cmid\":0.0},\"title\":{\"text\":\"Logit Difference From Each Head\"}},                        {\"responsive\": true}                    ).then(function(){\n",
              "                            \n",
              "var gd = document.getElementById('b03649de-1b21-46f1-8395-61f22b9d928c');\n",
              "var x = new MutationObserver(function (mutations, observer) {{\n",
              "        var display = window.getComputedStyle(gd).display;\n",
              "        if (!display || display === 'none') {{\n",
              "            console.log([gd, 'removed!']);\n",
              "            Plotly.purge(gd);\n",
              "            observer.disconnect();\n",
              "        }}\n",
              "}});\n",
              "\n",
              "// Listen for the removal of the full notebook cells\n",
              "var notebookContainer = gd.closest('#notebook-container');\n",
              "if (notebookContainer) {{\n",
              "    x.observe(notebookContainer, {childList: true});\n",
              "}}\n",
              "\n",
              "// Listen for the clearing of the current output cell\n",
              "var outputEl = gd.closest('.output');\n",
              "if (outputEl) {{\n",
              "    x.observe(outputEl, {childList: true});\n",
              "}}\n",
              "\n",
              "                        })                };                            </script>        </div>\n",
              "</body>\n",
              "</html>"
            ]
          },
          "metadata": {},
          "output_type": "display_data"
        }
      ],
      "source": [
        "per_head_residual, labels = clean_cache.stack_head_results(layer=-1, pos_slice=-1, return_labels=True)\n",
        "per_head_logit_diffs = residual_stack_to_logit_diff(per_head_residual, clean_cache)\n",
        "per_head_logit_diffs = einops.rearrange(per_head_logit_diffs, \"(layer head_index) -> layer head_index\", layer=model.cfg.n_layers, head_index=model.cfg.n_heads)\n",
        "imshow(per_head_logit_diffs, xaxis=\"Head\", yaxis=\"Layer\", title=\"Logit Difference From Each Head\")"
      ]
    },
    {
      "cell_type": "code",
      "execution_count": null,
      "metadata": {
        "colab": {
          "base_uri": "https://localhost:8080/"
        },
        "id": "dLD11Jf7VQcd",
        "outputId": "f22b5724-f341-4c9c-8431-a7b839d83752"
      },
      "outputs": [
        {
          "data": {
            "text/plain": [
              "torch.Size([144])"
            ]
          },
          "execution_count": 33,
          "metadata": {},
          "output_type": "execute_result"
        }
      ],
      "source": [
        "per_head_logit_diffs.flatten().shape"
      ]
    },
    {
      "cell_type": "markdown",
      "metadata": {
        "id": "VAq_C-M1k28L"
      },
      "source": [
        "### Attention Analysis"
      ]
    },
    {
      "cell_type": "markdown",
      "metadata": {
        "id": "7hOFNi2aXoTz"
      },
      "source": [
        "Of the top positive contributors, only 4 out of 5 appear to be attending to the IO name. The other (L7H5)is attending to S2. Might it be an S-inhibition head?\n",
        "\n",
        "Among the top negative heads, only L9H11, L9H8 and L9H3 are attending to the IO. L9H3 is also attending to S2, and as such may also be an S-inhibition head."
      ]
    },
    {
      "cell_type": "code",
      "execution_count": null,
      "metadata": {
        "colab": {
          "base_uri": "https://localhost:8080/",
          "height": 844
        },
        "id": "2wgxPJXmYLZL",
        "outputId": "e423f57c-6e00-4842-ac2c-4ffc823e450b"
      },
      "outputs": [
        {
          "data": {
            "text/html": [
              "<div id=\"circuits-vis-b471c834-2629\" style=\"margin: 15px 0;\"/>\n",
              "    <script crossorigin type=\"module\">\n",
              "    import { render, AttentionHeads } from \"https://unpkg.com/circuitsvis@1.39.1/dist/cdn/esm.js\";\n",
              "    render(\n",
              "      \"circuits-vis-b471c834-2629\",\n",
              "      AttentionHeads,\n",
              "      {\"attention\": [[[1.0, 0.0, 0.0, 0.0, 0.0, 0.0, 0.0, 0.0, 0.0, 0.0, 0.0, 0.0, 0.0, 0.0, 0.0, 0.0, 0.0], [0.999017596244812, 0.0009823691798374057, 0.0, 0.0, 0.0, 0.0, 0.0, 0.0, 0.0, 0.0, 0.0, 0.0, 0.0, 0.0, 0.0, 0.0, 0.0], [0.966971218585968, 0.0007389026577584445, 0.032289907336235046, 0.0, 0.0, 0.0, 0.0, 0.0, 0.0, 0.0, 0.0, 0.0, 0.0, 0.0, 0.0, 0.0, 0.0], [0.7529842257499695, 0.00019710818014573306, 0.24589474499225616, 0.000923965300898999, 0.0, 0.0, 0.0, 0.0, 0.0, 0.0, 0.0, 0.0, 0.0, 0.0, 0.0, 0.0, 0.0], [0.7530443668365479, 0.0019258628599345684, 0.06583242118358612, 0.00885739829391241, 0.1703399419784546, 0.0, 0.0, 0.0, 0.0, 0.0, 0.0, 0.0, 0.0, 0.0, 0.0, 0.0, 0.0], [0.9973567724227905, 0.000378910219296813, 0.0005895242211408913, 8.862268441589549e-05, 0.001000598189420998, 0.0005856867064721882, 0.0, 0.0, 0.0, 0.0, 0.0, 0.0, 0.0, 0.0, 0.0, 0.0, 0.0], [0.9702669382095337, 2.6635481845005415e-05, 0.0056274342350661755, 8.06504103820771e-05, 0.023695096373558044, 0.00027306590345688164, 3.016077789652627e-05, 0.0, 0.0, 0.0, 0.0, 0.0, 0.0, 0.0, 0.0, 0.0, 0.0], [0.9838733077049255, 5.291495472192764e-05, 0.001844485173933208, 0.0006217593909241259, 0.010897871106863022, 0.0004832819104194641, 3.283960177213885e-05, 0.0021935913246124983, 0.0, 0.0, 0.0, 0.0, 0.0, 0.0, 0.0, 0.0, 0.0], [0.775692343711853, 0.0009719072259031236, 0.05181295424699783, 0.0035759806632995605, 0.1375124603509903, 0.0010686698369681835, 0.0003401734575163573, 0.004994847346097231, 0.024030640721321106, 0.0, 0.0, 0.0, 0.0, 0.0, 0.0, 0.0, 0.0], [0.02164512127637863, 5.143397720530629e-05, 0.12578141689300537, 0.0005154222599230707, 0.8509989380836487, 4.0243063267553225e-05, 2.1224154806986917e-06, 0.0001157951119239442, 0.0006239989306777716, 0.00022555646137334406, 0.0, 0.0, 0.0, 0.0, 0.0, 0.0, 0.0], [0.21137629449367523, 0.0002600077714305371, 0.04648424685001373, 0.015511464327573776, 0.6970639824867249, 0.002582119544968009, 6.686524284305051e-05, 0.0005532657960429788, 0.00934294331818819, 0.0016841187607496977, 0.015074655413627625, 0.0, 0.0, 0.0, 0.0, 0.0, 0.0], [0.00034844042966142297, 1.1372505923645804e-06, 0.003910560626536608, 9.61083424044773e-06, 0.9935439825057983, 1.4634708804805996e-06, 2.6234671324232295e-08, 1.590523083905282e-06, 3.868933617923176e-06, 2.129857648469624e-06, 0.002177086193114519, 8.583137400819396e-08, 0.0, 0.0, 0.0, 0.0, 0.0], [0.9554965496063232, 0.0001410256081726402, 0.0013865669025108218, 0.0005134628736414015, 0.004081320483237505, 0.0017725802026689053, 9.289418812841177e-05, 0.0016635596984997392, 0.027045857161283493, 0.0046349153853952885, 0.0004357703437563032, 0.0013804868794977665, 0.0013551085721701384, 0.0, 0.0, 0.0, 0.0], [0.9657145738601685, 0.0006558989989571273, 0.0031274009961634874, 0.0005703768692910671, 0.009952820837497711, 0.0006525847711600363, 0.0001672297512413934, 0.002171582542359829, 0.004208634607493877, 0.0031766502652317286, 0.0020602841395884752, 0.00032660167198628187, 0.0001748813083395362, 0.007040397729724646, 0.0, 0.0, 0.0], [0.9398759603500366, 2.954242518171668e-05, 0.0043503642082214355, 0.0007133052567951381, 0.02011588029563427, 4.383175837574527e-05, 7.013515642029233e-06, 0.0016714920056983829, 0.005227082874625921, 0.0008134277304634452, 0.0008637778810225427, 2.5604318580008112e-05, 8.832668390823528e-05, 0.024228867143392563, 0.00194560328964144, 0.0, 0.0], [0.8091831803321838, 0.00255314982496202, 0.013967025093734264, 0.002559781540185213, 0.07575428485870361, 0.0014809001004323363, 0.0004816736909560859, 0.002073860028758645, 0.017329277470707893, 0.009116851724684238, 0.011645694263279438, 0.0005583251477219164, 0.00021530607773456722, 0.022800466045737267, 0.000839937711134553, 0.02944033592939377, 0.0], [0.0006066695787012577, 2.2353378881234676e-06, 0.007179006468504667, 4.001602792413905e-05, 0.989954948425293, 6.944200322323013e-06, 1.0061049238174746e-07, 3.9611559259356e-06, 1.0919427040789742e-05, 3.666490329123917e-06, 0.002152439206838608, 2.430817289678089e-07, 1.424644665348751e-06, 9.128257261181716e-06, 4.84756945695608e-08, 2.7834423235617578e-05, 4.928701855533291e-07]], [[1.0, 0.0, 0.0, 0.0, 0.0, 0.0, 0.0, 0.0, 0.0, 0.0, 0.0, 0.0, 0.0, 0.0, 0.0, 0.0, 0.0], [1.0, 1.6571933881258603e-18, 0.0, 0.0, 0.0, 0.0, 0.0, 0.0, 0.0, 0.0, 0.0, 0.0, 0.0, 0.0, 0.0, 0.0, 0.0], [1.0, 3.2602857003782485e-25, 1.7763171489009607e-24, 0.0, 0.0, 0.0, 0.0, 0.0, 0.0, 0.0, 0.0, 0.0, 0.0, 0.0, 0.0, 0.0, 0.0], [1.0, 1.393415129589026e-28, 8.843652264493851e-13, 1.466439575288187e-26, 0.0, 0.0, 0.0, 0.0, 0.0, 0.0, 0.0, 0.0, 0.0, 0.0, 0.0, 0.0, 0.0], [1.0, 2.6705849795947274e-27, 1.0021295742070288e-25, 6.705752893162793e-22, 1.402213956926135e-12, 0.0, 0.0, 0.0, 0.0, 0.0, 0.0, 0.0, 0.0, 0.0, 0.0, 0.0, 0.0], [1.0, 1.3224302745158504e-25, 1.4532911017760712e-34, 3.7033145962064786e-35, 3.5678285476973834e-23, 2.1285403324124805e-29, 0.0, 0.0, 0.0, 0.0, 0.0, 0.0, 0.0, 0.0, 0.0, 0.0, 0.0], [0.9914224743843079, 9.534654382987245e-27, 1.0865913136165299e-14, 4.120594427761755e-34, 0.008577484637498856, 4.317056813255881e-36, 4.4728071023507376e-21, 0.0, 0.0, 0.0, 0.0, 0.0, 0.0, 0.0, 0.0, 0.0, 0.0], [1.0, 2.919884709250452e-31, 2.6585854805993866e-31, 1.805390345550103e-33, 6.8154214810520505e-18, 2.579900693353998e-36, 1.7822048945042864e-28, 9.49930989451508e-18, 0.0, 0.0, 0.0, 0.0, 0.0, 0.0, 0.0, 0.0, 0.0], [0.9999847412109375, 6.895654691747244e-18, 3.292680711419749e-11, 1.0066374060567287e-21, 1.520683872513473e-05, 6.1129366954100744e-27, 6.310748402248776e-23, 4.512783093456549e-19, 1.0590758303260281e-21, 0.0, 0.0, 0.0, 0.0, 0.0, 0.0, 0.0, 0.0], [7.254975332395379e-18, 1.959146728553211e-35, 5.264909646029992e-07, 2.117710174237214e-37, 0.9999995231628418, 0.0, 0.0, 0.0, 0.0, 1.3121547223869474e-38, 0.0, 0.0, 0.0, 0.0, 0.0, 0.0, 0.0], [1.0, 1.6717084243232851e-25, 7.378125800844566e-23, 6.439159044085487e-19, 2.2725943349399813e-09, 1.7814070281838635e-31, 1.017455067368923e-28, 2.1679043495938238e-24, 1.337619205763178e-27, 1.006202043978329e-24, 4.756510826969533e-20, 0.0, 0.0, 0.0, 0.0, 0.0, 0.0], [1.5126136495148372e-14, 1.615154184841134e-26, 1.2440911632438656e-05, 1.1423987305528523e-30, 0.9999133348464966, 0.0, 2.164247184133564e-38, 6.772615607928273e-40, 0.0, 1.6616842509837582e-32, 7.419040775857866e-05, 1.5750867806119051e-34, 0.0, 0.0, 0.0, 0.0, 0.0], [1.0, 1.2690976998297911e-26, 2.789502722093417e-23, 9.753900639319599e-24, 3.6777421475018993e-16, 2.6730112464550136e-34, 1.7994259883065448e-29, 7.972893139180348e-27, 1.7461475769438975e-21, 1.1854186938257692e-25, 9.568098715699956e-22, 4.9623823779734246e-24, 3.895018863329566e-24, 0.0, 0.0, 0.0, 0.0], [1.0, 8.135001867346849e-23, 1.3672801477693826e-24, 3.6164022635059145e-24, 1.3452621737522529e-15, 1.057512216269521e-31, 1.1597029289845274e-28, 1.7445841882307393e-27, 4.8737321246190954e-27, 8.759125935806688e-25, 1.983400644685002e-18, 7.480808101453713e-22, 5.773820988075139e-30, 3.6988022982463974e-17, 0.0, 0.0, 0.0], [1.0, 1.8316094512908154e-28, 2.8479200097633e-15, 3.94569059381191e-29, 4.2051322424185855e-08, 1.9057659114817512e-43, 1.2193866486664194e-32, 2.830894332599417e-29, 3.1222301886211116e-27, 5.113794804431652e-32, 1.0414148987249945e-16, 2.2925281514256388e-29, 2.1100851106581187e-35, 6.025447762644388e-19, 7.209364522333371e-21, 0.0, 0.0], [1.0, 3.527315024498835e-21, 6.4121409342105474e-21, 2.0810960051019048e-23, 7.0380676113479534e-12, 2.1692264182807403e-33, 1.0874767282842416e-27, 2.0761053332844017e-26, 7.344973725320022e-27, 2.1259734342529324e-24, 1.1506637656588659e-15, 4.466994421791384e-22, 9.388757075215389e-31, 5.885868272106424e-19, 1.0483300759379124e-24, 6.18685788364437e-12, 0.0], [7.667777870978831e-12, 6.321550152905194e-28, 1.036975660895223e-07, 3.1671838001832238e-31, 0.9999998807907104, 0.0, 6.581841433696628e-39, 9.334151365655502e-39, 0.0, 4.681937575596332e-31, 2.7652088618879134e-08, 1.710050837337611e-35, 2.1691957295304807e-38, 5.073401090088e-41, 1.7231767215802276e-41, 9.531818515822773e-36, 4.017241419028948e-28]], [[1.0, 0.0, 0.0, 0.0, 0.0, 0.0, 0.0, 0.0, 0.0, 0.0, 0.0, 0.0, 0.0, 0.0, 0.0, 0.0, 0.0], [1.0, 1.354839573863842e-10, 0.0, 0.0, 0.0, 0.0, 0.0, 0.0, 0.0, 0.0, 0.0, 0.0, 0.0, 0.0, 0.0, 0.0, 0.0], [0.9989443421363831, 3.304861375882928e-12, 0.0010556535562500358, 0.0, 0.0, 0.0, 0.0, 0.0, 0.0, 0.0, 0.0, 0.0, 0.0, 0.0, 0.0, 0.0, 0.0], [0.8272706270217896, 7.565346960003438e-11, 0.17272931337356567, 4.651781043696346e-11, 0.0, 0.0, 0.0, 0.0, 0.0, 0.0, 0.0, 0.0, 0.0, 0.0, 0.0, 0.0, 0.0], [0.9997373223304749, 5.995501946472193e-13, 5.14236717208405e-06, 1.5272932785137527e-07, 0.0002574546670075506, 0.0, 0.0, 0.0, 0.0, 0.0, 0.0, 0.0, 0.0, 0.0, 0.0, 0.0, 0.0], [1.0, 2.815803908535206e-15, 8.494809890235988e-12, 1.7795111702434908e-17, 1.6128681723515115e-11, 5.288073978704233e-09, 0.0, 0.0, 0.0, 0.0, 0.0, 0.0, 0.0, 0.0, 0.0, 0.0, 0.0], [0.9999997615814209, 5.665240461927778e-20, 1.9552031460534636e-07, 6.959415841314363e-19, 1.8910101928781842e-08, 5.384545416421867e-14, 8.666789831108023e-18, 0.0, 0.0, 0.0, 0.0, 0.0, 0.0, 0.0, 0.0, 0.0, 0.0], [1.0, 6.310590619970312e-20, 6.243590713883584e-13, 9.317344325221404e-20, 6.923502298816081e-14, 1.0472220292255556e-18, 3.3260783998689316e-22, 2.829054971371391e-17, 0.0, 0.0, 0.0, 0.0, 0.0, 0.0, 0.0, 0.0, 0.0], [0.9999990463256836, 1.300516291879994e-11, 5.9272863950354804e-08, 7.022039928559131e-15, 1.3524332764802693e-08, 2.0092031472818475e-14, 6.502874694583013e-16, 2.828860709658894e-15, 8.99864744496881e-07, 0.0, 0.0, 0.0, 0.0, 0.0, 0.0, 0.0, 0.0], [0.4123075008392334, 2.145559147015419e-10, 0.11010747402906418, 2.898582795226451e-13, 0.47758495807647705, 3.174157442963066e-13, 2.0053120387260723e-18, 1.0859749065649893e-15, 1.1114721643057379e-10, 1.3940983090154901e-10, 0.0, 0.0, 0.0, 0.0, 0.0, 0.0, 0.0], [0.8405895829200745, 1.8828458757391697e-12, 4.490084029384889e-05, 2.4826210847095354e-06, 0.15906430780887604, 1.925119264001296e-08, 6.145458491049749e-14, 3.7631714151081797e-13, 9.06148489576708e-09, 3.4998209885728215e-10, 0.00029871080187149346, 0.0, 0.0, 0.0, 0.0, 0.0, 0.0], [3.8439574440163327e-11, 1.845751044064307e-19, 3.1598101912777565e-09, 6.265473862916197e-19, 1.0, 6.73072211543453e-20, 3.0681605793424115e-23, 2.337809641952162e-19, 2.086014178110522e-17, 6.5671407386524216e-18, 3.501530798644126e-08, 7.671106452963525e-14, 0.0, 0.0, 0.0, 0.0, 0.0], [1.0, 3.4779088028248785e-19, 4.1764259151727545e-13, 1.5185002216142473e-18, 9.976282820678417e-12, 7.571662257091918e-18, 1.2937602046689568e-23, 9.357870439902177e-22, 1.8103225585264227e-09, 6.134465019833925e-15, 1.5818631669307914e-14, 5.430120936233962e-11, 3.1063503972452973e-17, 0.0, 0.0, 0.0, 0.0], [0.9999994039535522, 1.4607813656614121e-13, 5.189780463016325e-12, 2.4819415313310686e-16, 6.264253699095335e-11, 1.6316083319560287e-15, 3.553125783490397e-18, 1.7235624313692057e-18, 1.9834141273822326e-11, 2.9684624983788988e-12, 2.0064791841911678e-12, 2.43513867924372e-13, 2.609028464629404e-19, 5.845133159709803e-07, 0.0, 0.0, 0.0], [1.0, 5.462176022599106e-19, 1.4602092321749915e-12, 8.190802101249838e-23, 3.718572216641902e-14, 9.643922788754033e-28, 3.467966379445641e-30, 3.450140850493485e-22, 2.0184101785780673e-12, 1.0421211165806708e-18, 1.0418813571220695e-13, 1.0078274721520142e-23, 3.411239781270529e-26, 4.53506787678748e-09, 1.0016683408962295e-15, 0.0, 0.0], [0.9997422099113464, 1.2166873411545431e-12, 1.1263857685114842e-12, 8.488805378704988e-18, 4.6212363796760414e-11, 7.524082497385623e-17, 1.0053703091455524e-18, 1.0187434415062737e-18, 5.6449768470745454e-11, 4.924537860828693e-11, 5.665687016764842e-11, 2.188535133283362e-13, 6.734532962365956e-20, 8.678720853083632e-09, 6.430456861439282e-11, 0.0002578254498075694, 0.0], [5.224125021463522e-10, 2.2573744440911406e-18, 5.706844996566929e-10, 5.464816279716799e-19, 0.9999949932098389, 7.690440326573281e-20, 5.660814086869076e-25, 2.2847584133660734e-19, 1.5574786553902925e-15, 2.601149010947923e-17, 5.06394644617103e-06, 9.296977724888682e-15, 1.307744631100663e-18, 6.6248132400323866e-15, 8.996769961838595e-19, 7.460208839571436e-11, 2.403224409026298e-14]], [[1.0, 0.0, 0.0, 0.0, 0.0, 0.0, 0.0, 0.0, 0.0, 0.0, 0.0, 0.0, 0.0, 0.0, 0.0, 0.0, 0.0], [1.0, 7.402489266093021e-14, 0.0, 0.0, 0.0, 0.0, 0.0, 0.0, 0.0, 0.0, 0.0, 0.0, 0.0, 0.0, 0.0, 0.0, 0.0], [1.0, 9.851090511653362e-23, 1.0389175236164354e-19, 0.0, 0.0, 0.0, 0.0, 0.0, 0.0, 0.0, 0.0, 0.0, 0.0, 0.0, 0.0, 0.0, 0.0], [1.0, 9.31279612432207e-20, 4.672933111800286e-21, 7.96803479891814e-18, 0.0, 0.0, 0.0, 0.0, 0.0, 0.0, 0.0, 0.0, 0.0, 0.0, 0.0, 0.0, 0.0], [0.0003859660937450826, 3.953009252398443e-14, 0.9996140599250793, 1.4177894100756993e-27, 2.7119647673379266e-13, 0.0, 0.0, 0.0, 0.0, 0.0, 0.0, 0.0, 0.0, 0.0, 0.0, 0.0, 0.0], [1.0, 1.2307863379065954e-22, 1.2941284720566076e-26, 4.590881133727573e-35, 1.0616379261459767e-18, 4.4925742148306974e-23, 0.0, 0.0, 0.0, 0.0, 0.0, 0.0, 0.0, 0.0, 0.0, 0.0, 0.0], [0.9999958276748657, 1.1673695343716872e-10, 6.744123971116957e-23, 5.43046142112078e-22, 3.2436045671602187e-07, 6.293805687608838e-28, 3.8001387565600453e-06, 0.0, 0.0, 0.0, 0.0, 0.0, 0.0, 0.0, 0.0, 0.0, 0.0], [1.0, 1.3988513013470723e-15, 5.007342021915253e-29, 7.453961023461793e-33, 5.334997443817713e-10, 1.0404824797641648e-22, 2.3076936195298714e-11, 1.0989548160367235e-09, 0.0, 0.0, 0.0, 0.0, 0.0, 0.0, 0.0, 0.0, 0.0], [1.0, 2.559027552162997e-25, 9.961262502736596e-27, 4.671538039688395e-23, 4.6212506254361373e-17, 2.2126711025697584e-31, 4.940085418621091e-28, 9.860039843849887e-30, 3.87163695200754e-12, 0.0, 0.0, 0.0, 0.0, 0.0, 0.0, 0.0, 0.0], [0.8116759657859802, 1.681564704646664e-14, 3.743079952947381e-18, 7.130918920027738e-18, 1.5801556027192354e-12, 9.980047662921347e-42, 5.3811604067790054e-33, 1.401298464324817e-45, 1.4062764106127086e-21, 0.188323974609375, 0.0, 0.0, 0.0, 0.0, 0.0, 0.0, 0.0], [0.9989182949066162, 1.483227330670994e-21, 2.434046616605484e-13, 4.302231271184678e-31, 7.843038718480244e-12, 1.0786648690818173e-35, 2.599261572097568e-31, 2.105889079132022e-28, 4.3771632131133e-20, 6.195099121623968e-22, 0.0010817153379321098, 0.0, 0.0, 0.0, 0.0, 0.0, 0.0], [5.176681305840702e-09, 1.2269034012962125e-17, 1.779380398158525e-19, 2.4691193053942107e-16, 1.1781267760945131e-14, 1.3547193033706602e-40, 1.8747650575388815e-29, 1.51448694648219e-39, 1.813787225339418e-15, 1.0, 2.7569696525731047e-10, 2.6452075351648837e-19, 0.0, 0.0, 0.0, 0.0, 0.0], [0.001466458197683096, 3.8951648087600076e-27, 3.2079440667979866e-32, 6.887788121400246e-29, 3.028956946371508e-11, 4.566219744587234e-22, 5.496344180916707e-23, 2.8540212674917114e-17, 9.614515681123556e-19, 2.0705603007070223e-21, 8.785647054310175e-08, 2.226061935593252e-20, 0.9985333681106567, 0.0, 0.0, 0.0, 0.0], [0.9999804496765137, 3.287795480701291e-34, 3.2710280055698934e-29, 7.239690443825968e-32, 5.2981864528642183e-17, 4.0831347288789105e-35, 1.3363955583853614e-33, 3.8173274833891225e-28, 2.965771300296094e-18, 6.67540838144437e-13, 1.0715419662687964e-08, 4.565901690511964e-06, 4.746369342001344e-08, 1.5029610040073749e-05, 0.0, 0.0, 0.0], [0.0003500686143524945, 3.6765000552928143e-29, 3.833337372314922e-37, 7.46480422416416e-34, 8.955566027575798e-18, 6.101773675660211e-37, 7.406620441239559e-21, 1.4080671879764327e-21, 1.803658476230242e-24, 2.7362248029035075e-19, 5.063018260252841e-18, 3.494420394914427e-16, 5.7457224755808056e-08, 5.5857353925591394e-14, 0.9996498823165894, 0.0, 0.0], [1.267919742531376e-06, 1.4415394514313434e-36, 2.955161952995465e-29, 1.8795607894197985e-38, 8.556152024893322e-25, 3.0828566215145976e-44, 6.6876969209901895e-40, 1.1635375896277078e-32, 3.763803308833672e-18, 3.208715641822048e-14, 1.427281730304042e-11, 5.133640570420539e-06, 3.8253583379286096e-14, 1.6028006939450279e-06, 1.7247387329097363e-12, 0.9999920129776001, 0.0], [0.7059066295623779, 1.54395329284554e-17, 6.590750657091502e-16, 6.3851146817764525e-19, 1.9818587588815717e-06, 5.656968409553965e-32, 1.1248406512514397e-19, 1.2575069459870674e-31, 0.00040518652531318367, 0.28632837533950806, 0.004583090543746948, 2.2773623950538413e-17, 1.0576368475673573e-13, 0.0008379094651900232, 3.892619937316789e-24, 0.0019368162611499429, 2.933884020825929e-21]], [[1.0, 0.0, 0.0, 0.0, 0.0, 0.0, 0.0, 0.0, 0.0, 0.0, 0.0, 0.0, 0.0, 0.0, 0.0, 0.0, 0.0], [1.0, 1.7577202881458633e-16, 0.0, 0.0, 0.0, 0.0, 0.0, 0.0, 0.0, 0.0, 0.0, 0.0, 0.0, 0.0, 0.0, 0.0, 0.0], [1.0, 8.321030541145089e-22, 3.532057025329438e-12, 0.0, 0.0, 0.0, 0.0, 0.0, 0.0, 0.0, 0.0, 0.0, 0.0, 0.0, 0.0, 0.0, 0.0], [1.0, 3.654073264009841e-20, 8.311564214658063e-10, 1.1800776994363207e-16, 0.0, 0.0, 0.0, 0.0, 0.0, 0.0, 0.0, 0.0, 0.0, 0.0, 0.0, 0.0, 0.0], [0.9999995231628418, 7.872849807512562e-20, 4.651182325572656e-13, 2.6874474867710774e-11, 4.477006143588369e-07, 0.0, 0.0, 0.0, 0.0, 0.0, 0.0, 0.0, 0.0, 0.0, 0.0, 0.0, 0.0], [1.0, 6.713849564032236e-27, 1.2404394710316039e-22, 1.617838101154026e-22, 2.6749737225654233e-16, 4.018059815995796e-25, 0.0, 0.0, 0.0, 0.0, 0.0, 0.0, 0.0, 0.0, 0.0, 0.0, 0.0], [1.0, 8.018550101110467e-28, 1.864345436114901e-14, 2.3181381237629144e-20, 1.7598207335822735e-08, 1.3307973661640462e-22, 6.462431738307924e-21, 0.0, 0.0, 0.0, 0.0, 0.0, 0.0, 0.0, 0.0, 0.0, 0.0], [1.0, 1.888059166864714e-34, 9.48230855802671e-30, 3.0499038154895933e-27, 2.001967923608518e-21, 2.2808648117889554e-37, 9.591218697377571e-32, 1.3372198040038985e-29, 0.0, 0.0, 0.0, 0.0, 0.0, 0.0, 0.0, 0.0, 0.0], [0.999998927116394, 2.68140110809556e-13, 6.543932062896829e-09, 1.308282692250029e-12, 7.070881906656723e-07, 9.802303340479172e-17, 4.759346311119497e-16, 1.5574847963791601e-15, 4.112343106044136e-07, 0.0, 0.0, 0.0, 0.0, 0.0, 0.0, 0.0, 0.0], [1.8189475481378281e-09, 2.933916934075047e-25, 7.797351827321108e-06, 1.3184447293119193e-19, 0.9999922513961792, 3.488319170754422e-30, 2.5860824290212477e-33, 4.906057112710693e-35, 4.133730472886268e-18, 5.85413068689168e-29, 0.0, 0.0, 0.0, 0.0, 0.0, 0.0, 0.0], [0.9999810457229614, 4.943680221404626e-23, 3.9455665538854206e-16, 1.5077185333556287e-10, 1.8999216990778223e-05, 2.674124580307607e-18, 2.2643954561952626e-20, 3.7171371978616505e-23, 1.1180881741290616e-11, 2.4720536963701233e-21, 4.1218729818215394e-11, 0.0, 0.0, 0.0, 0.0, 0.0, 0.0], [1.333159416194718e-10, 5.041190371265909e-23, 9.199897510470123e-10, 9.083218028630084e-17, 0.9999819993972778, 2.0645552879703664e-24, 3.565634343415463e-27, 2.30733605693351e-25, 1.005420630678117e-16, 6.848189772037375e-25, 1.8023283701040782e-05, 6.005433526363362e-15, 0.0, 0.0, 0.0, 0.0, 0.0], [1.0, 4.4953140353446714e-32, 1.8365606418526074e-23, 4.21529337641614e-18, 4.0635524730259914e-15, 1.5299101293748702e-30, 3.367839839512656e-30, 1.602853403587392e-32, 1.6527051949211113e-10, 2.3286301596230083e-29, 6.214859973703784e-21, 3.2838538275785205e-16, 8.193910548482294e-27, 0.0, 0.0, 0.0, 0.0], [0.9999996423721313, 4.2592008208091475e-14, 5.443096060681052e-13, 2.885596709495397e-12, 8.427234021723962e-09, 4.453564770182735e-16, 5.195809286298735e-17, 2.155707321091667e-16, 2.724848957580406e-10, 3.981065440007052e-15, 1.5259750796303706e-08, 1.603421284634976e-10, 9.559410554804693e-15, 3.744333980648662e-07, 0.0, 0.0, 0.0], [1.0, 4.659263225163637e-21, 8.866234857407562e-09, 2.232842905828972e-16, 9.066278283675899e-10, 4.718468178437966e-28, 8.36493312754388e-26, 8.854330701127883e-18, 3.779951462945519e-09, 4.1306776481289544e-23, 9.206303254460924e-12, 6.669562965881773e-19, 2.5053827919366724e-23, 1.450202735675532e-09, 9.851090511653362e-23, 0.0, 0.0], [0.9986355900764465, 1.0776890312222051e-13, 3.802696438987008e-12, 1.6005172718842192e-13, 2.5846469853263443e-08, 1.017736721341766e-17, 3.1191146626366337e-18, 1.235023535584625e-16, 1.6185276729974163e-10, 9.828719386428277e-16, 5.216034182353724e-08, 7.24341268389106e-13, 2.2797653960923385e-18, 9.73241598423158e-10, 5.385694353087346e-16, 0.0013643618440255523, 0.0], [5.035540387443582e-11, 1.1289261457315966e-25, 1.0682675855022694e-09, 2.592880529862273e-22, 0.999998927116394, 1.2082564654768803e-28, 3.093058066815851e-31, 2.6486131507642987e-30, 5.3845661247437454e-20, 1.938634726451375e-27, 1.097300810215529e-06, 1.6122510110846292e-19, 2.0829844532164194e-30, 6.422751504660779e-23, 2.319044253436318e-37, 3.6288822695493966e-14, 3.2673670591791545e-17]]], \"attentionHeadNames\": [\"L8H10\", \"L10H7\", \"L8H2\", \"L10H1\", \"L9H6\"], \"tokens\": [\"<|endoftext|>\", \"After\", \" John\", \" and\", \" Mary\", \" went\", \" to\", \" the\", \" store\", \",\", \" John\", \" gave\", \" a\", \" bottle\", \" of\", \" milk\", \" to\"]}\n",
              "    )\n",
              "    </script>"
            ],
            "text/plain": [
              "<circuitsvis.utils.render.RenderedHTML at 0x7f26b1c64730>"
            ]
          },
          "execution_count": 87,
          "metadata": {},
          "output_type": "execute_result"
        }
      ],
      "source": [
        "top_k = 5\n",
        "top_heads = torch.topk(per_head_logit_diffs.flatten(), k=top_k).indices.cpu().numpy()\n",
        "heads = [(head // model.cfg.n_heads, head % model.cfg.n_heads) for head in top_heads]\n",
        "tokens, attn, names = get_attn_head_patterns(model, example_prompt, heads)\n",
        "cv.attention.attention_heads(tokens=tokens, attention=attn, attention_head_names=names)"
      ]
    },
    {
      "cell_type": "code",
      "execution_count": null,
      "metadata": {
        "colab": {
          "base_uri": "https://localhost:8080/",
          "height": 844
        },
        "id": "ZDEKgFVHozPM",
        "outputId": "324ce785-205a-4101-e5a6-5a56f546e566"
      },
      "outputs": [
        {
          "data": {
            "text/html": [
              "<div id=\"circuits-vis-03164d8c-f799\" style=\"margin: 15px 0;\"/>\n",
              "    <script crossorigin type=\"module\">\n",
              "    import { render, AttentionHeads } from \"https://unpkg.com/circuitsvis@1.39.1/dist/cdn/esm.js\";\n",
              "    render(\n",
              "      \"circuits-vis-03164d8c-f799\",\n",
              "      AttentionHeads,\n",
              "      {\"attention\": [[[1.0, 0.0, 0.0, 0.0, 0.0, 0.0, 0.0, 0.0, 0.0, 0.0, 0.0, 0.0, 0.0, 0.0, 0.0, 0.0, 0.0], [0.0018680213252082467, 0.998132050037384, 0.0, 0.0, 0.0, 0.0, 0.0, 0.0, 0.0, 0.0, 0.0, 0.0, 0.0, 0.0, 0.0, 0.0, 0.0], [0.1414295732975006, 1.7122124162938235e-08, 0.858570396900177, 0.0, 0.0, 0.0, 0.0, 0.0, 0.0, 0.0, 0.0, 0.0, 0.0, 0.0, 0.0, 0.0, 0.0], [1.1251680739465114e-13, 3.6589348396993016e-16, 3.871793107613564e-15, 1.0, 0.0, 0.0, 0.0, 0.0, 0.0, 0.0, 0.0, 0.0, 0.0, 0.0, 0.0, 0.0, 0.0], [0.029346859082579613, 1.0389693549939238e-08, 7.33548972675635e-07, 3.5642356124299113e-06, 0.9706488847732544, 0.0, 0.0, 0.0, 0.0, 0.0, 0.0, 0.0, 0.0, 0.0, 0.0, 0.0, 0.0], [0.9995014667510986, 2.8977672627661377e-05, 1.2987589302626557e-11, 8.242771465383214e-10, 5.101767783344258e-06, 0.00046443313476629555, 0.0, 0.0, 0.0, 0.0, 0.0, 0.0, 0.0, 0.0, 0.0, 0.0, 0.0], [0.9243048429489136, 0.016153987497091293, 6.698453791642578e-09, 4.833230491385621e-07, 1.4090328477323055e-05, 3.4144215987907955e-06, 0.05952320247888565, 0.0, 0.0, 0.0, 0.0, 0.0, 0.0, 0.0, 0.0, 0.0, 0.0], [0.9375675320625305, 0.04316024109721184, 5.822670914312766e-07, 7.464146847269149e-07, 6.7517148636397906e-06, 2.975200175114878e-07, 1.2036232874379493e-05, 0.019251858815550804, 0.0, 0.0, 0.0, 0.0, 0.0, 0.0, 0.0, 0.0, 0.0], [0.1809588074684143, 0.000986207276582718, 1.1396064110158477e-06, 7.589148864894923e-09, 3.886055856128223e-05, 1.2804773064090114e-07, 5.290110948408255e-06, 0.0006477186689153314, 0.8173618912696838, 0.0, 0.0, 0.0, 0.0, 0.0, 0.0, 0.0, 0.0], [1.8509420385282027e-10, 2.4609619897475454e-12, 2.256620841194074e-17, 3.5138036957090696e-14, 9.151150974148758e-13, 6.631587620947347e-18, 7.258227866120941e-15, 4.319122750423565e-12, 2.4322911306579043e-12, 1.0, 0.0, 0.0, 0.0, 0.0, 0.0, 0.0, 0.0], [0.0025230292230844498, 1.3207891669253513e-08, 2.943323362813999e-11, 1.947979104410802e-12, 3.2988275506795617e-06, 4.020481864097647e-12, 2.867158732655639e-10, 3.228840528279875e-09, 1.0250803825329058e-05, 0.1560942828655243, 0.8413691520690918, 0.0, 0.0, 0.0, 0.0, 0.0, 0.0], [9.210865577202743e-13, 4.105464404409963e-16, 8.751592085392165e-22, 1.028479926002694e-19, 2.6666619470726944e-15, 2.933404322398073e-24, 1.0664805516445918e-18, 2.031745422380817e-18, 1.3644566550210846e-16, 0.00421921955421567, 9.76735827862285e-06, 0.9957709908485413, 0.0, 0.0, 0.0, 0.0, 0.0], [0.9967659711837769, 0.0005330311832949519, 1.1450462431526753e-13, 7.1850767508373e-17, 3.8876959984612824e-10, 8.071611955207114e-12, 1.0326831612061937e-09, 5.220906018621463e-08, 0.00018124406051356345, 1.1105099950725617e-08, 2.983591684824205e-07, 3.135439228130893e-13, 0.0025194669142365456, 0.0, 0.0, 0.0, 0.0], [0.6662965416908264, 0.00020951448823325336, 6.011078787504509e-12, 4.375901113342376e-16, 4.1096665626128015e-08, 3.107276103087031e-10, 8.268155049506731e-09, 1.155574409494875e-06, 0.004414475988596678, 1.3959320313006174e-06, 2.4556928110541776e-05, 9.852693313994187e-12, 1.5909428839222528e-05, 0.3290364146232605, 0.0, 0.0, 0.0], [0.9999831914901733, 5.953861847984854e-09, 3.120614728538591e-14, 3.7507758163734476e-15, 1.2873505430069376e-12, 8.646613122492621e-15, 1.2578870194738276e-15, 2.465731828785178e-12, 7.035662292764755e-06, 6.054104439989771e-10, 3.640066026378008e-08, 1.4468379836221623e-13, 3.253034777314645e-12, 9.787146154849324e-06, 1.115364224590909e-11, 0.0, 0.0], [0.941565752029419, 5.2317234803922474e-05, 1.914307046213537e-10, 2.5537858706534654e-14, 4.1278133267041994e-07, 4.519761995225302e-11, 1.1695102664077694e-09, 9.944236012415786e-08, 0.008586201816797256, 1.1579881174839102e-05, 0.0004331020172685385, 1.050363199195381e-10, 1.6950394865489216e-08, 0.0009078558650799096, 5.444041883961859e-10, 0.048442672938108444, 0.0], [9.102742171140932e-11, 1.2605717115759738e-14, 4.379404355585436e-19, 6.8975311509668205e-18, 6.918521745086226e-14, 6.244087683605337e-24, 2.5312725564712305e-18, 2.260509417253686e-17, 1.1440180129173444e-13, 0.0015364837599918246, 0.0004638206446543336, 0.5076485872268677, 1.4900774706057967e-22, 3.181608943736597e-17, 1.2787036898875465e-23, 4.459728840698141e-15, 0.4903510510921478]], [[1.0, 0.0, 0.0, 0.0, 0.0, 0.0, 0.0, 0.0, 0.0, 0.0, 0.0, 0.0, 0.0, 0.0, 0.0, 0.0, 0.0], [0.9999980926513672, 1.864747900981456e-06, 0.0, 0.0, 0.0, 0.0, 0.0, 0.0, 0.0, 0.0, 0.0, 0.0, 0.0, 0.0, 0.0, 0.0, 0.0], [1.0, 3.7501273787710065e-13, 1.2527839210463299e-08, 0.0, 0.0, 0.0, 0.0, 0.0, 0.0, 0.0, 0.0, 0.0, 0.0, 0.0, 0.0, 0.0, 0.0], [0.9999759197235107, 1.627286083660806e-09, 2.4028870029724203e-05, 7.598335294289882e-09, 0.0, 0.0, 0.0, 0.0, 0.0, 0.0, 0.0, 0.0, 0.0, 0.0, 0.0, 0.0, 0.0], [0.9665051102638245, 6.069102553851735e-09, 3.9392372030988554e-08, 2.9192645456532773e-07, 0.03349452093243599, 0.0, 0.0, 0.0, 0.0, 0.0, 0.0, 0.0, 0.0, 0.0, 0.0, 0.0, 0.0], [0.9999994039535522, 1.1628542573305367e-09, 5.30224301964477e-12, 1.3390542841218434e-10, 5.713609425583854e-07, 4.135276565619961e-09, 0.0, 0.0, 0.0, 0.0, 0.0, 0.0, 0.0, 0.0, 0.0, 0.0, 0.0], [0.9998953342437744, 7.342823096223583e-07, 2.99060487485292e-09, 9.778056142550895e-10, 0.00010385987116023898, 1.1916800701783359e-07, 4.33010916012222e-09, 0.0, 0.0, 0.0, 0.0, 0.0, 0.0, 0.0, 0.0, 0.0, 0.0], [0.9998003840446472, 5.5662328080074985e-09, 8.653950494576235e-13, 9.294415903582376e-09, 0.00019968800188507885, 3.708614318420622e-11, 1.3043911437082834e-11, 2.3580426500302565e-09, 0.0, 0.0, 0.0, 0.0, 0.0, 0.0, 0.0, 0.0, 0.0], [0.9275076985359192, 1.0972372592732427e-06, 9.394337894264027e-07, 1.0791717386382516e-06, 0.02747999131679535, 8.507359261500369e-09, 3.2407879158036224e-10, 1.893388557050457e-09, 0.045009177178144455, 0.0, 0.0, 0.0, 0.0, 0.0, 0.0, 0.0, 0.0], [8.797236716873158e-09, 1.8326807085800034e-11, 2.912375007824153e-09, 3.025679826381745e-15, 1.0, 3.8833102278322705e-18, 4.3860070766709567e-17, 9.180112476659443e-18, 6.320273080936967e-13, 2.190636588144182e-13, 0.0, 0.0, 0.0, 0.0, 0.0, 0.0, 0.0], [0.0013935697497799993, 1.1173522125318414e-06, 1.046981876196007e-10, 1.5903833805452905e-11, 0.9985772371292114, 6.921816592120322e-11, 2.524111648860572e-11, 6.311880136394485e-14, 1.6575550887409918e-07, 8.539424278808383e-09, 2.8025920983054675e-05, 0.0, 0.0, 0.0, 0.0, 0.0, 0.0], [2.2971384794345795e-09, 3.251192717823592e-11, 2.564588785925937e-17, 3.4765409175103543e-20, 1.0, 2.1624432678866455e-18, 1.582077323495073e-18, 2.5372894488598956e-20, 4.50453646009142e-15, 2.516588884642914e-16, 9.341776241456046e-09, 9.009639585224553e-16, 0.0, 0.0, 0.0, 0.0, 0.0], [0.9991267323493958, 1.254136972050901e-08, 1.869728881066118e-15, 1.0746571410535921e-09, 2.8234827809114904e-08, 8.104019122434636e-10, 4.125787385345081e-12, 7.165752990978547e-10, 0.0008727666572667658, 2.941258347988196e-09, 1.7293347198688025e-08, 4.3780215719380067e-07, 2.224850881304974e-08, 0.0, 0.0, 0.0, 0.0], [0.9949807524681091, 5.3436171043586e-08, 1.1583369896941975e-12, 6.416411402199174e-09, 1.4365385823111865e-06, 2.5250017632316712e-09, 2.2575406821712107e-10, 8.989991528984831e-10, 4.625895599019714e-06, 6.861339585384485e-08, 3.98971906179213e-06, 1.9523355149431154e-05, 1.1849545700215458e-07, 0.004989387467503548, 0.0, 0.0, 0.0], [0.9997456669807434, 2.0215400805146527e-13, 7.223193397576377e-13, 3.7747377445995767e-10, 7.5334851317165885e-06, 9.351053817018834e-17, 3.6233398682777157e-16, 5.331252475072878e-13, 1.1908069836863433e-06, 8.316327487767339e-11, 7.597720497187765e-08, 1.048917788563919e-12, 1.9791626670873086e-11, 0.000244649505475536, 8.593829079472926e-07, 0.0, 0.0], [0.8913414478302002, 1.845614860940259e-08, 7.028383951224182e-13, 3.600792997104918e-10, 3.301810238554026e-06, 4.79157713506595e-10, 1.0942322742346633e-10, 2.597197179543542e-10, 2.897521198974573e-06, 8.02019251011643e-09, 7.817371624696534e-06, 3.088435187237337e-05, 2.240473975234636e-07, 0.10606641322374344, 1.138717209414608e-08, 0.0025469816755503416, 0.0], [1.2374791469316193e-10, 2.231723269727204e-12, 1.6338927442460072e-18, 4.972853130716815e-20, 1.0, 2.687127319930838e-21, 5.151244000219252e-19, 2.4560460551507317e-21, 1.7078054306575555e-16, 1.0849144213150269e-15, 4.677328524493873e-10, 1.2839758195377172e-16, 9.981049129918e-18, 1.873305689444136e-15, 9.503432174947132e-20, 5.640195421818817e-09, 1.333653163693659e-15]]], \"attentionHeadNames\": [\"L9H1\", \"L9H5\"], \"tokens\": [\"<|endoftext|>\", \"After\", \" John\", \" and\", \" Mary\", \" went\", \" to\", \" the\", \" store\", \",\", \" John\", \" gave\", \" a\", \" bottle\", \" of\", \" milk\", \" to\"]}\n",
              "    )\n",
              "    </script>"
            ],
            "text/plain": [
              "<circuitsvis.utils.render.RenderedHTML at 0x7f2734ad8a00>"
            ]
          },
          "execution_count": 88,
          "metadata": {},
          "output_type": "execute_result"
        }
      ],
      "source": [
        "top_k = 2\n",
        "top_heads = torch.topk(-per_head_logit_diffs.flatten(), k=top_k).indices.cpu().numpy()\n",
        "heads = [(head // model.cfg.n_heads, head % model.cfg.n_heads) for head in top_heads]\n",
        "tokens, attn, names = get_attn_head_patterns(model, example_prompt, heads)\n",
        "cv.attention.attention_heads(tokens=tokens, attention=attn, attention_head_names=names)"
      ]
    },
    {
      "cell_type": "markdown",
      "metadata": {
        "id": "mIE1CDqQyfRP"
      },
      "source": [
        "## Activation Patching for Model Component Importance"
      ]
    },
    {
      "cell_type": "markdown",
      "metadata": {
        "id": "RHnzMN_U1yiT"
      },
      "source": [
        "Before we sketch out the circuit, we'll take a look at the model from a top-down perspective and see how computation flows through the network. We will use the activation patching technique to see what layers, positions, heads, etc. are important as data flows through the network."
      ]
    },
    {
      "cell_type": "markdown",
      "metadata": {
        "id": "xTIMVadvpzU0"
      },
      "source": [
        "### Residual Stream"
      ]
    },
    {
      "cell_type": "markdown",
      "metadata": {
        "id": "XS_jzgr1ZbJL"
      },
      "source": [
        "Computation occurs at the S2 position for all layers until layer 7 (resid_pre is the residual stream prior to the given layer)."
      ]
    },
    {
      "cell_type": "code",
      "execution_count": null,
      "metadata": {
        "colab": {
          "base_uri": "https://localhost:8080/",
          "height": 574,
          "referenced_widgets": [
            "78715c8355a84e7a950ee5e0541d598f",
            "ed976a6e6c9f40b2810d7869459711d4",
            "21ec4ae4727f4308868d2922abae7dc7",
            "4bf78c63b25f45dda35014e3b5f6fbce",
            "84bbf960ddee46e39a41007929a386f1",
            "6e8904a58f3a4ce3856699fb7000d725",
            "480fb7bee6a341c4bf0234aa175bd5e8",
            "1af9fa979cae41d4b95b3607e4969f80",
            "da24d7c9b66f42d7a5b0a2abff104d68",
            "325651b3a4a3456396c773dacb8b693f",
            "7fbcaecd08c24b0c895863ca04bb823e"
          ]
        },
        "id": "SDb7z0oLp7bt",
        "outputId": "f8a9b84b-8e6b-4da4-e423-1d40334af8b1"
      },
      "outputs": [
        {
          "data": {
            "application/vnd.jupyter.widget-view+json": {
              "model_id": "78715c8355a84e7a950ee5e0541d598f",
              "version_major": 2,
              "version_minor": 0
            },
            "text/plain": [
              "  0%|          | 0/180 [00:00<?, ?it/s]"
            ]
          },
          "metadata": {},
          "output_type": "display_data"
        },
        {
          "data": {
            "text/html": [
              "<html>\n",
              "<head><meta charset=\"utf-8\" /></head>\n",
              "<body>\n",
              "    <div>            <script src=\"https://cdnjs.cloudflare.com/ajax/libs/mathjax/2.7.5/MathJax.js?config=TeX-AMS-MML_SVG\"></script><script type=\"text/javascript\">if (window.MathJax) {MathJax.Hub.Config({SVG: {font: \"STIX-Web\"}});}</script>                <script type=\"text/javascript\">window.PlotlyConfig = {MathJaxConfig: 'local'};</script>\n",
              "        <script src=\"https://cdn.plot.ly/plotly-2.8.3.min.js\"></script>                <div id=\"ea2375f6-1b56-407c-9783-c7d1724d664f\" class=\"plotly-graph-div\" style=\"height:525px; width:100%;\"></div>            <script type=\"text/javascript\">                                    window.PLOTLYENV=window.PLOTLYENV || {};                                    if (document.getElementById(\"ea2375f6-1b56-407c-9783-c7d1724d664f\")) {                    Plotly.newPlot(                        \"ea2375f6-1b56-407c-9783-c7d1724d664f\",                        [{\"coloraxis\":\"coloraxis\",\"name\":\"0\",\"x\":[\"<|endoftext|> 0\",\"When 1\",\" John 2\",\" and 3\",\" Mary 4\",\" went 5\",\" to 6\",\" the 7\",\" shops 8\",\", 9\",\" John 10\",\" gave 11\",\" the 12\",\" bag 13\",\" to 14\"],\"z\":[[0.0,0.0,0.0,0.0,0.0,0.0,0.0,0.0,0.0,0.0,1.0,0.0,0.0,0.0,0.0],[0.0,0.0,0.0,0.0,0.0,0.0,0.0,0.0,0.0,0.0,0.9909893274307251,0.005019607488065958,-0.0008164829923771322,-0.00022082832583691925,0.0026190290227532387],[0.0,0.0,0.0,0.0,0.0,0.0,0.0,0.0,0.0,0.0,0.98685622215271,0.014182338491082191,-0.0009836852550506592,-0.00033116660779342055,0.0005660591414198279],[0.0,0.0,0.0,0.0,0.0,0.0,0.0,0.0,0.0,0.0,0.9849092960357666,0.006124254781752825,-0.0006885897601023316,-0.001232034876011312,0.012315542437136173],[0.0,0.0,0.0,0.0,0.0,0.0,0.0,0.0,0.0,0.0,0.9842868447303772,0.00881851278245449,0.00035580425173975527,-0.0005383354728110135,0.006766452919691801],[0.0,0.0,0.0,0.0,0.0,0.0,0.0,0.0,0.0,0.0,0.9829739332199097,0.0024078129790723324,0.001112033729441464,-0.0006830753991380334,0.013787124305963516],[0.0,0.0,0.0,0.0,0.0,0.0,0.0,0.0,0.0,0.0,0.9566123485565186,0.04467000439763069,0.0028279179241508245,0.0005082846037112176,0.004269701894372702],[0.0,0.0,0.0,0.0,0.0,0.0,0.0,0.0,0.0,0.0,0.4354345500469208,0.029490269720554352,0.0011455247877165675,1.467129732191097e-05,0.5360314249992371],[0.0,0.0,0.0,0.0,0.0,0.0,0.0,0.0,0.0,0.0,0.30924132466316223,0.024180272594094276,0.001071814214810729,-0.0001827841333579272,0.6719873547554016],[0.0,0.0,0.0,0.0,0.0,0.0,0.0,0.0,0.0,0.0,0.016029303893446922,0.026439551264047623,0.001719880849123001,-0.00019391407840885222,0.9628171920776367],[0.0,0.0,0.0,0.0,0.0,0.0,0.0,0.0,0.0,0.0,0.013650226406753063,0.02759665995836258,0.0017827650299295783,-0.000312903372105211,0.9580481052398682],[0.0,0.0,0.0,0.0,0.0,0.0,0.0,0.0,0.0,0.0,0.0005763290682807565,0.011117656715214252,0.0014750724658370018,-0.00011155245010741055,0.9872071146965027]],\"type\":\"heatmap\",\"xaxis\":\"x\",\"yaxis\":\"y\",\"hovertemplate\":\"x: %{x}<br>y: %{y}<br>color: %{z}<extra></extra>\"}],                        {\"template\":{\"data\":{\"bar\":[{\"error_x\":{\"color\":\"#2a3f5f\"},\"error_y\":{\"color\":\"#2a3f5f\"},\"marker\":{\"line\":{\"color\":\"#E5ECF6\",\"width\":0.5},\"pattern\":{\"fillmode\":\"overlay\",\"size\":10,\"solidity\":0.2}},\"type\":\"bar\"}],\"barpolar\":[{\"marker\":{\"line\":{\"color\":\"#E5ECF6\",\"width\":0.5},\"pattern\":{\"fillmode\":\"overlay\",\"size\":10,\"solidity\":0.2}},\"type\":\"barpolar\"}],\"carpet\":[{\"aaxis\":{\"endlinecolor\":\"#2a3f5f\",\"gridcolor\":\"white\",\"linecolor\":\"white\",\"minorgridcolor\":\"white\",\"startlinecolor\":\"#2a3f5f\"},\"baxis\":{\"endlinecolor\":\"#2a3f5f\",\"gridcolor\":\"white\",\"linecolor\":\"white\",\"minorgridcolor\":\"white\",\"startlinecolor\":\"#2a3f5f\"},\"type\":\"carpet\"}],\"choropleth\":[{\"colorbar\":{\"outlinewidth\":0,\"ticks\":\"\"},\"type\":\"choropleth\"}],\"contour\":[{\"colorbar\":{\"outlinewidth\":0,\"ticks\":\"\"},\"colorscale\":[[0.0,\"#0d0887\"],[0.1111111111111111,\"#46039f\"],[0.2222222222222222,\"#7201a8\"],[0.3333333333333333,\"#9c179e\"],[0.4444444444444444,\"#bd3786\"],[0.5555555555555556,\"#d8576b\"],[0.6666666666666666,\"#ed7953\"],[0.7777777777777778,\"#fb9f3a\"],[0.8888888888888888,\"#fdca26\"],[1.0,\"#f0f921\"]],\"type\":\"contour\"}],\"contourcarpet\":[{\"colorbar\":{\"outlinewidth\":0,\"ticks\":\"\"},\"type\":\"contourcarpet\"}],\"heatmap\":[{\"colorbar\":{\"outlinewidth\":0,\"ticks\":\"\"},\"colorscale\":[[0.0,\"#0d0887\"],[0.1111111111111111,\"#46039f\"],[0.2222222222222222,\"#7201a8\"],[0.3333333333333333,\"#9c179e\"],[0.4444444444444444,\"#bd3786\"],[0.5555555555555556,\"#d8576b\"],[0.6666666666666666,\"#ed7953\"],[0.7777777777777778,\"#fb9f3a\"],[0.8888888888888888,\"#fdca26\"],[1.0,\"#f0f921\"]],\"type\":\"heatmap\"}],\"heatmapgl\":[{\"colorbar\":{\"outlinewidth\":0,\"ticks\":\"\"},\"colorscale\":[[0.0,\"#0d0887\"],[0.1111111111111111,\"#46039f\"],[0.2222222222222222,\"#7201a8\"],[0.3333333333333333,\"#9c179e\"],[0.4444444444444444,\"#bd3786\"],[0.5555555555555556,\"#d8576b\"],[0.6666666666666666,\"#ed7953\"],[0.7777777777777778,\"#fb9f3a\"],[0.8888888888888888,\"#fdca26\"],[1.0,\"#f0f921\"]],\"type\":\"heatmapgl\"}],\"histogram\":[{\"marker\":{\"pattern\":{\"fillmode\":\"overlay\",\"size\":10,\"solidity\":0.2}},\"type\":\"histogram\"}],\"histogram2d\":[{\"colorbar\":{\"outlinewidth\":0,\"ticks\":\"\"},\"colorscale\":[[0.0,\"#0d0887\"],[0.1111111111111111,\"#46039f\"],[0.2222222222222222,\"#7201a8\"],[0.3333333333333333,\"#9c179e\"],[0.4444444444444444,\"#bd3786\"],[0.5555555555555556,\"#d8576b\"],[0.6666666666666666,\"#ed7953\"],[0.7777777777777778,\"#fb9f3a\"],[0.8888888888888888,\"#fdca26\"],[1.0,\"#f0f921\"]],\"type\":\"histogram2d\"}],\"histogram2dcontour\":[{\"colorbar\":{\"outlinewidth\":0,\"ticks\":\"\"},\"colorscale\":[[0.0,\"#0d0887\"],[0.1111111111111111,\"#46039f\"],[0.2222222222222222,\"#7201a8\"],[0.3333333333333333,\"#9c179e\"],[0.4444444444444444,\"#bd3786\"],[0.5555555555555556,\"#d8576b\"],[0.6666666666666666,\"#ed7953\"],[0.7777777777777778,\"#fb9f3a\"],[0.8888888888888888,\"#fdca26\"],[1.0,\"#f0f921\"]],\"type\":\"histogram2dcontour\"}],\"mesh3d\":[{\"colorbar\":{\"outlinewidth\":0,\"ticks\":\"\"},\"type\":\"mesh3d\"}],\"parcoords\":[{\"line\":{\"colorbar\":{\"outlinewidth\":0,\"ticks\":\"\"}},\"type\":\"parcoords\"}],\"pie\":[{\"automargin\":true,\"type\":\"pie\"}],\"scatter\":[{\"marker\":{\"colorbar\":{\"outlinewidth\":0,\"ticks\":\"\"}},\"type\":\"scatter\"}],\"scatter3d\":[{\"line\":{\"colorbar\":{\"outlinewidth\":0,\"ticks\":\"\"}},\"marker\":{\"colorbar\":{\"outlinewidth\":0,\"ticks\":\"\"}},\"type\":\"scatter3d\"}],\"scattercarpet\":[{\"marker\":{\"colorbar\":{\"outlinewidth\":0,\"ticks\":\"\"}},\"type\":\"scattercarpet\"}],\"scattergeo\":[{\"marker\":{\"colorbar\":{\"outlinewidth\":0,\"ticks\":\"\"}},\"type\":\"scattergeo\"}],\"scattergl\":[{\"marker\":{\"colorbar\":{\"outlinewidth\":0,\"ticks\":\"\"}},\"type\":\"scattergl\"}],\"scattermapbox\":[{\"marker\":{\"colorbar\":{\"outlinewidth\":0,\"ticks\":\"\"}},\"type\":\"scattermapbox\"}],\"scatterpolar\":[{\"marker\":{\"colorbar\":{\"outlinewidth\":0,\"ticks\":\"\"}},\"type\":\"scatterpolar\"}],\"scatterpolargl\":[{\"marker\":{\"colorbar\":{\"outlinewidth\":0,\"ticks\":\"\"}},\"type\":\"scatterpolargl\"}],\"scatterternary\":[{\"marker\":{\"colorbar\":{\"outlinewidth\":0,\"ticks\":\"\"}},\"type\":\"scatterternary\"}],\"surface\":[{\"colorbar\":{\"outlinewidth\":0,\"ticks\":\"\"},\"colorscale\":[[0.0,\"#0d0887\"],[0.1111111111111111,\"#46039f\"],[0.2222222222222222,\"#7201a8\"],[0.3333333333333333,\"#9c179e\"],[0.4444444444444444,\"#bd3786\"],[0.5555555555555556,\"#d8576b\"],[0.6666666666666666,\"#ed7953\"],[0.7777777777777778,\"#fb9f3a\"],[0.8888888888888888,\"#fdca26\"],[1.0,\"#f0f921\"]],\"type\":\"surface\"}],\"table\":[{\"cells\":{\"fill\":{\"color\":\"#EBF0F8\"},\"line\":{\"color\":\"white\"}},\"header\":{\"fill\":{\"color\":\"#C8D4E3\"},\"line\":{\"color\":\"white\"}},\"type\":\"table\"}]},\"layout\":{\"annotationdefaults\":{\"arrowcolor\":\"#2a3f5f\",\"arrowhead\":0,\"arrowwidth\":1},\"autotypenumbers\":\"strict\",\"coloraxis\":{\"colorbar\":{\"outlinewidth\":0,\"ticks\":\"\"}},\"colorscale\":{\"diverging\":[[0,\"#8e0152\"],[0.1,\"#c51b7d\"],[0.2,\"#de77ae\"],[0.3,\"#f1b6da\"],[0.4,\"#fde0ef\"],[0.5,\"#f7f7f7\"],[0.6,\"#e6f5d0\"],[0.7,\"#b8e186\"],[0.8,\"#7fbc41\"],[0.9,\"#4d9221\"],[1,\"#276419\"]],\"sequential\":[[0.0,\"#0d0887\"],[0.1111111111111111,\"#46039f\"],[0.2222222222222222,\"#7201a8\"],[0.3333333333333333,\"#9c179e\"],[0.4444444444444444,\"#bd3786\"],[0.5555555555555556,\"#d8576b\"],[0.6666666666666666,\"#ed7953\"],[0.7777777777777778,\"#fb9f3a\"],[0.8888888888888888,\"#fdca26\"],[1.0,\"#f0f921\"]],\"sequentialminus\":[[0.0,\"#0d0887\"],[0.1111111111111111,\"#46039f\"],[0.2222222222222222,\"#7201a8\"],[0.3333333333333333,\"#9c179e\"],[0.4444444444444444,\"#bd3786\"],[0.5555555555555556,\"#d8576b\"],[0.6666666666666666,\"#ed7953\"],[0.7777777777777778,\"#fb9f3a\"],[0.8888888888888888,\"#fdca26\"],[1.0,\"#f0f921\"]]},\"colorway\":[\"#636efa\",\"#EF553B\",\"#00cc96\",\"#ab63fa\",\"#FFA15A\",\"#19d3f3\",\"#FF6692\",\"#B6E880\",\"#FF97FF\",\"#FECB52\"],\"font\":{\"color\":\"#2a3f5f\"},\"geo\":{\"bgcolor\":\"white\",\"lakecolor\":\"white\",\"landcolor\":\"#E5ECF6\",\"showlakes\":true,\"showland\":true,\"subunitcolor\":\"white\"},\"hoverlabel\":{\"align\":\"left\"},\"hovermode\":\"closest\",\"mapbox\":{\"style\":\"light\"},\"paper_bgcolor\":\"white\",\"plot_bgcolor\":\"#E5ECF6\",\"polar\":{\"angularaxis\":{\"gridcolor\":\"white\",\"linecolor\":\"white\",\"ticks\":\"\"},\"bgcolor\":\"#E5ECF6\",\"radialaxis\":{\"gridcolor\":\"white\",\"linecolor\":\"white\",\"ticks\":\"\"}},\"scene\":{\"xaxis\":{\"backgroundcolor\":\"#E5ECF6\",\"gridcolor\":\"white\",\"gridwidth\":2,\"linecolor\":\"white\",\"showbackground\":true,\"ticks\":\"\",\"zerolinecolor\":\"white\"},\"yaxis\":{\"backgroundcolor\":\"#E5ECF6\",\"gridcolor\":\"white\",\"gridwidth\":2,\"linecolor\":\"white\",\"showbackground\":true,\"ticks\":\"\",\"zerolinecolor\":\"white\"},\"zaxis\":{\"backgroundcolor\":\"#E5ECF6\",\"gridcolor\":\"white\",\"gridwidth\":2,\"linecolor\":\"white\",\"showbackground\":true,\"ticks\":\"\",\"zerolinecolor\":\"white\"}},\"shapedefaults\":{\"line\":{\"color\":\"#2a3f5f\"}},\"ternary\":{\"aaxis\":{\"gridcolor\":\"white\",\"linecolor\":\"white\",\"ticks\":\"\"},\"baxis\":{\"gridcolor\":\"white\",\"linecolor\":\"white\",\"ticks\":\"\"},\"bgcolor\":\"#E5ECF6\",\"caxis\":{\"gridcolor\":\"white\",\"linecolor\":\"white\",\"ticks\":\"\"}},\"title\":{\"x\":0.05},\"xaxis\":{\"automargin\":true,\"gridcolor\":\"white\",\"linecolor\":\"white\",\"ticks\":\"\",\"title\":{\"standoff\":15},\"zerolinecolor\":\"white\",\"zerolinewidth\":2},\"yaxis\":{\"automargin\":true,\"gridcolor\":\"white\",\"linecolor\":\"white\",\"ticks\":\"\",\"title\":{\"standoff\":15},\"zerolinecolor\":\"white\",\"zerolinewidth\":2}}},\"xaxis\":{\"anchor\":\"y\",\"domain\":[0.0,1.0],\"title\":{\"text\":\"Position\"}},\"yaxis\":{\"anchor\":\"x\",\"domain\":[0.0,1.0],\"autorange\":\"reversed\",\"title\":{\"text\":\"Layer\"}},\"coloraxis\":{\"colorscale\":[[0.0,\"rgb(103,0,31)\"],[0.1,\"rgb(178,24,43)\"],[0.2,\"rgb(214,96,77)\"],[0.3,\"rgb(244,165,130)\"],[0.4,\"rgb(253,219,199)\"],[0.5,\"rgb(247,247,247)\"],[0.6,\"rgb(209,229,240)\"],[0.7,\"rgb(146,197,222)\"],[0.8,\"rgb(67,147,195)\"],[0.9,\"rgb(33,102,172)\"],[1.0,\"rgb(5,48,97)\"]],\"cmid\":0.0},\"title\":{\"text\":\"IOI Metric for 'resid_pre' Activation Patching\"}},                        {\"responsive\": true}                    ).then(function(){\n",
              "                            \n",
              "var gd = document.getElementById('ea2375f6-1b56-407c-9783-c7d1724d664f');\n",
              "var x = new MutationObserver(function (mutations, observer) {{\n",
              "        var display = window.getComputedStyle(gd).display;\n",
              "        if (!display || display === 'none') {{\n",
              "            console.log([gd, 'removed!']);\n",
              "            Plotly.purge(gd);\n",
              "            observer.disconnect();\n",
              "        }}\n",
              "}});\n",
              "\n",
              "// Listen for the removal of the full notebook cells\n",
              "var notebookContainer = gd.closest('#notebook-container');\n",
              "if (notebookContainer) {{\n",
              "    x.observe(notebookContainer, {childList: true});\n",
              "}}\n",
              "\n",
              "// Listen for the clearing of the current output cell\n",
              "var outputEl = gd.closest('.output');\n",
              "if (outputEl) {{\n",
              "    x.observe(outputEl, {childList: true});\n",
              "}}\n",
              "\n",
              "                        })                };                            </script>        </div>\n",
              "</body>\n",
              "</html>"
            ]
          },
          "metadata": {},
          "output_type": "display_data"
        }
      ],
      "source": [
        "resid_pre_act_patch_results = patching.get_act_patch_resid_pre(\n",
        "    model, \n",
        "    corrupted_tokens, \n",
        "    clean_cache, \n",
        "    ioi_metric)\n",
        "\n",
        "imshow(resid_pre_act_patch_results, \n",
        "       yaxis=\"Layer\", \n",
        "       xaxis=\"Position\", \n",
        "       x=[f\"{tok} {i}\" for i, tok in enumerate(model.to_str_tokens(clean_tokens[0]))],\n",
        "       title=\"IOI Metric for 'resid_pre' Activation Patching\")"
      ]
    },
    {
      "cell_type": "markdown",
      "metadata": {
        "id": "Qghcp74yJYWa"
      },
      "source": [
        "### MLP Layers"
      ]
    },
    {
      "cell_type": "markdown",
      "metadata": {
        "id": "40onqiv8bSFG"
      },
      "source": [
        "MLP layers do not matter much. Layer 0 is, per Neel Nanda's suggestion, probably an extension of the embedding."
      ]
    },
    {
      "cell_type": "code",
      "execution_count": null,
      "metadata": {
        "colab": {
          "base_uri": "https://localhost:8080/",
          "height": 574,
          "referenced_widgets": [
            "46e0b6d1197741ee812720e6b599b6c8",
            "c8310b424eb941f6ae389d7de87b7287",
            "8fb1bff2394a4aa492a717a0e7db3d2b",
            "74ee415f994d4acf8d31af2e81a93123",
            "044171c855c240ff923b69b4e27e1538",
            "65917c03b217485bac9bdd53e962def8",
            "60ec18de81af433880b6167a01fba30f",
            "66ff90fae10642eca0fa5e631447975b",
            "88861a3614834f7fb3bdc99de0d2baeb",
            "7d3c726ca3fb48de98432b35c8550c0b",
            "5af261b7e4754241abd86e41c98f2750"
          ]
        },
        "id": "csi9QlLwIGR8",
        "outputId": "f3ebde51-e599-434d-8a75-e641c5f3c869"
      },
      "outputs": [
        {
          "data": {
            "application/vnd.jupyter.widget-view+json": {
              "model_id": "46e0b6d1197741ee812720e6b599b6c8",
              "version_major": 2,
              "version_minor": 0
            },
            "text/plain": [
              "  0%|          | 0/180 [00:00<?, ?it/s]"
            ]
          },
          "metadata": {},
          "output_type": "display_data"
        },
        {
          "data": {
            "text/html": [
              "<html>\n",
              "<head><meta charset=\"utf-8\" /></head>\n",
              "<body>\n",
              "    <div>            <script src=\"https://cdnjs.cloudflare.com/ajax/libs/mathjax/2.7.5/MathJax.js?config=TeX-AMS-MML_SVG\"></script><script type=\"text/javascript\">if (window.MathJax) {MathJax.Hub.Config({SVG: {font: \"STIX-Web\"}});}</script>                <script type=\"text/javascript\">window.PlotlyConfig = {MathJaxConfig: 'local'};</script>\n",
              "        <script src=\"https://cdn.plot.ly/plotly-2.8.3.min.js\"></script>                <div id=\"687038ff-b79c-45ba-8b73-4123b4fef886\" class=\"plotly-graph-div\" style=\"height:525px; width:100%;\"></div>            <script type=\"text/javascript\">                                    window.PLOTLYENV=window.PLOTLYENV || {};                                    if (document.getElementById(\"687038ff-b79c-45ba-8b73-4123b4fef886\")) {                    Plotly.newPlot(                        \"687038ff-b79c-45ba-8b73-4123b4fef886\",                        [{\"coloraxis\":\"coloraxis\",\"name\":\"0\",\"x\":[\"<|endoftext|> 0\",\"When 1\",\" John 2\",\" and 3\",\" Mary 4\",\" went 5\",\" to 6\",\" the 7\",\" shops 8\",\", 9\",\" John 10\",\" gave 11\",\" the 12\",\" bag 13\",\" to 14\"],\"z\":[[0.0,0.0,0.0,0.0,0.0,0.0,0.0,0.0,0.0,0.0,0.9854748845100403,0.0,0.0,0.0,0.0],[0.0,0.0,0.0,0.0,0.0,0.0,0.0,0.0,0.0,0.0,0.015028822235763073,0.002695016097277403,-0.0004600210813805461,-0.00019361054000910372,0.00044241550494916737],[0.0,0.0,0.0,0.0,0.0,0.0,0.0,0.0,0.0,0.0,0.017064843326807022,7.107990677468479e-05,3.3592212275834754e-05,0.0007553694886155427,4.350798462837702e-06],[0.0,0.0,0.0,0.0,0.0,0.0,0.0,0.0,0.0,0.0,0.05142264440655708,0.0026953702326864004,0.000614221440628171,0.0004472722066566348,0.003932059742510319],[0.0,0.0,0.0,0.0,0.0,0.0,0.0,0.0,0.0,0.0,0.04349316284060478,-0.006618323735892773,0.00021814701904077083,0.00024956383276730776,0.0017207408091053367],[0.0,0.0,0.0,0.0,0.0,0.0,0.0,0.0,0.0,0.0,-0.07783492654561996,0.0025492138229310513,-0.0002476413792464882,0.00031118327751755714,0.004935677628964186],[0.0,0.0,0.0,0.0,0.0,0.0,0.0,0.0,0.0,0.0,0.00881223939359188,0.0005928722093813121,-0.0003357703681103885,-0.00015232854639180005,0.0044624521397054195],[0.0,0.0,0.0,0.0,0.0,0.0,0.0,0.0,0.0,0.0,0.009345565922558308,0.005339795723557472,0.00023448781576007605,5.6509790738346055e-05,0.04832163825631142],[0.0,0.0,0.0,0.0,0.0,0.0,0.0,0.0,0.0,0.0,0.014530098997056484,0.0009947139769792557,0.00038104900158941746,2.4384708012803458e-05,-0.005642176605761051],[0.0,0.0,0.0,0.0,0.0,0.0,0.0,0.0,0.0,0.0,-0.002937901997938752,4.507629637373611e-05,0.0002399010118097067,-0.00011828101560240611,-0.04885046184062958],[0.0,0.0,0.0,0.0,0.0,0.0,0.0,0.0,0.0,0.0,0.0007750998483970761,0.0029530287720263004,0.0007741891895420849,6.677969849988585e-06,0.0333888903260231],[0.0,0.0,0.0,0.0,0.0,0.0,0.0,0.0,0.0,0.0,0.0,0.0,0.0,0.0,0.021777721121907234]],\"type\":\"heatmap\",\"xaxis\":\"x\",\"yaxis\":\"y\",\"hovertemplate\":\"x: %{x}<br>y: %{y}<br>color: %{z}<extra></extra>\"}],                        {\"template\":{\"data\":{\"bar\":[{\"error_x\":{\"color\":\"#2a3f5f\"},\"error_y\":{\"color\":\"#2a3f5f\"},\"marker\":{\"line\":{\"color\":\"#E5ECF6\",\"width\":0.5},\"pattern\":{\"fillmode\":\"overlay\",\"size\":10,\"solidity\":0.2}},\"type\":\"bar\"}],\"barpolar\":[{\"marker\":{\"line\":{\"color\":\"#E5ECF6\",\"width\":0.5},\"pattern\":{\"fillmode\":\"overlay\",\"size\":10,\"solidity\":0.2}},\"type\":\"barpolar\"}],\"carpet\":[{\"aaxis\":{\"endlinecolor\":\"#2a3f5f\",\"gridcolor\":\"white\",\"linecolor\":\"white\",\"minorgridcolor\":\"white\",\"startlinecolor\":\"#2a3f5f\"},\"baxis\":{\"endlinecolor\":\"#2a3f5f\",\"gridcolor\":\"white\",\"linecolor\":\"white\",\"minorgridcolor\":\"white\",\"startlinecolor\":\"#2a3f5f\"},\"type\":\"carpet\"}],\"choropleth\":[{\"colorbar\":{\"outlinewidth\":0,\"ticks\":\"\"},\"type\":\"choropleth\"}],\"contour\":[{\"colorbar\":{\"outlinewidth\":0,\"ticks\":\"\"},\"colorscale\":[[0.0,\"#0d0887\"],[0.1111111111111111,\"#46039f\"],[0.2222222222222222,\"#7201a8\"],[0.3333333333333333,\"#9c179e\"],[0.4444444444444444,\"#bd3786\"],[0.5555555555555556,\"#d8576b\"],[0.6666666666666666,\"#ed7953\"],[0.7777777777777778,\"#fb9f3a\"],[0.8888888888888888,\"#fdca26\"],[1.0,\"#f0f921\"]],\"type\":\"contour\"}],\"contourcarpet\":[{\"colorbar\":{\"outlinewidth\":0,\"ticks\":\"\"},\"type\":\"contourcarpet\"}],\"heatmap\":[{\"colorbar\":{\"outlinewidth\":0,\"ticks\":\"\"},\"colorscale\":[[0.0,\"#0d0887\"],[0.1111111111111111,\"#46039f\"],[0.2222222222222222,\"#7201a8\"],[0.3333333333333333,\"#9c179e\"],[0.4444444444444444,\"#bd3786\"],[0.5555555555555556,\"#d8576b\"],[0.6666666666666666,\"#ed7953\"],[0.7777777777777778,\"#fb9f3a\"],[0.8888888888888888,\"#fdca26\"],[1.0,\"#f0f921\"]],\"type\":\"heatmap\"}],\"heatmapgl\":[{\"colorbar\":{\"outlinewidth\":0,\"ticks\":\"\"},\"colorscale\":[[0.0,\"#0d0887\"],[0.1111111111111111,\"#46039f\"],[0.2222222222222222,\"#7201a8\"],[0.3333333333333333,\"#9c179e\"],[0.4444444444444444,\"#bd3786\"],[0.5555555555555556,\"#d8576b\"],[0.6666666666666666,\"#ed7953\"],[0.7777777777777778,\"#fb9f3a\"],[0.8888888888888888,\"#fdca26\"],[1.0,\"#f0f921\"]],\"type\":\"heatmapgl\"}],\"histogram\":[{\"marker\":{\"pattern\":{\"fillmode\":\"overlay\",\"size\":10,\"solidity\":0.2}},\"type\":\"histogram\"}],\"histogram2d\":[{\"colorbar\":{\"outlinewidth\":0,\"ticks\":\"\"},\"colorscale\":[[0.0,\"#0d0887\"],[0.1111111111111111,\"#46039f\"],[0.2222222222222222,\"#7201a8\"],[0.3333333333333333,\"#9c179e\"],[0.4444444444444444,\"#bd3786\"],[0.5555555555555556,\"#d8576b\"],[0.6666666666666666,\"#ed7953\"],[0.7777777777777778,\"#fb9f3a\"],[0.8888888888888888,\"#fdca26\"],[1.0,\"#f0f921\"]],\"type\":\"histogram2d\"}],\"histogram2dcontour\":[{\"colorbar\":{\"outlinewidth\":0,\"ticks\":\"\"},\"colorscale\":[[0.0,\"#0d0887\"],[0.1111111111111111,\"#46039f\"],[0.2222222222222222,\"#7201a8\"],[0.3333333333333333,\"#9c179e\"],[0.4444444444444444,\"#bd3786\"],[0.5555555555555556,\"#d8576b\"],[0.6666666666666666,\"#ed7953\"],[0.7777777777777778,\"#fb9f3a\"],[0.8888888888888888,\"#fdca26\"],[1.0,\"#f0f921\"]],\"type\":\"histogram2dcontour\"}],\"mesh3d\":[{\"colorbar\":{\"outlinewidth\":0,\"ticks\":\"\"},\"type\":\"mesh3d\"}],\"parcoords\":[{\"line\":{\"colorbar\":{\"outlinewidth\":0,\"ticks\":\"\"}},\"type\":\"parcoords\"}],\"pie\":[{\"automargin\":true,\"type\":\"pie\"}],\"scatter\":[{\"marker\":{\"colorbar\":{\"outlinewidth\":0,\"ticks\":\"\"}},\"type\":\"scatter\"}],\"scatter3d\":[{\"line\":{\"colorbar\":{\"outlinewidth\":0,\"ticks\":\"\"}},\"marker\":{\"colorbar\":{\"outlinewidth\":0,\"ticks\":\"\"}},\"type\":\"scatter3d\"}],\"scattercarpet\":[{\"marker\":{\"colorbar\":{\"outlinewidth\":0,\"ticks\":\"\"}},\"type\":\"scattercarpet\"}],\"scattergeo\":[{\"marker\":{\"colorbar\":{\"outlinewidth\":0,\"ticks\":\"\"}},\"type\":\"scattergeo\"}],\"scattergl\":[{\"marker\":{\"colorbar\":{\"outlinewidth\":0,\"ticks\":\"\"}},\"type\":\"scattergl\"}],\"scattermapbox\":[{\"marker\":{\"colorbar\":{\"outlinewidth\":0,\"ticks\":\"\"}},\"type\":\"scattermapbox\"}],\"scatterpolar\":[{\"marker\":{\"colorbar\":{\"outlinewidth\":0,\"ticks\":\"\"}},\"type\":\"scatterpolar\"}],\"scatterpolargl\":[{\"marker\":{\"colorbar\":{\"outlinewidth\":0,\"ticks\":\"\"}},\"type\":\"scatterpolargl\"}],\"scatterternary\":[{\"marker\":{\"colorbar\":{\"outlinewidth\":0,\"ticks\":\"\"}},\"type\":\"scatterternary\"}],\"surface\":[{\"colorbar\":{\"outlinewidth\":0,\"ticks\":\"\"},\"colorscale\":[[0.0,\"#0d0887\"],[0.1111111111111111,\"#46039f\"],[0.2222222222222222,\"#7201a8\"],[0.3333333333333333,\"#9c179e\"],[0.4444444444444444,\"#bd3786\"],[0.5555555555555556,\"#d8576b\"],[0.6666666666666666,\"#ed7953\"],[0.7777777777777778,\"#fb9f3a\"],[0.8888888888888888,\"#fdca26\"],[1.0,\"#f0f921\"]],\"type\":\"surface\"}],\"table\":[{\"cells\":{\"fill\":{\"color\":\"#EBF0F8\"},\"line\":{\"color\":\"white\"}},\"header\":{\"fill\":{\"color\":\"#C8D4E3\"},\"line\":{\"color\":\"white\"}},\"type\":\"table\"}]},\"layout\":{\"annotationdefaults\":{\"arrowcolor\":\"#2a3f5f\",\"arrowhead\":0,\"arrowwidth\":1},\"autotypenumbers\":\"strict\",\"coloraxis\":{\"colorbar\":{\"outlinewidth\":0,\"ticks\":\"\"}},\"colorscale\":{\"diverging\":[[0,\"#8e0152\"],[0.1,\"#c51b7d\"],[0.2,\"#de77ae\"],[0.3,\"#f1b6da\"],[0.4,\"#fde0ef\"],[0.5,\"#f7f7f7\"],[0.6,\"#e6f5d0\"],[0.7,\"#b8e186\"],[0.8,\"#7fbc41\"],[0.9,\"#4d9221\"],[1,\"#276419\"]],\"sequential\":[[0.0,\"#0d0887\"],[0.1111111111111111,\"#46039f\"],[0.2222222222222222,\"#7201a8\"],[0.3333333333333333,\"#9c179e\"],[0.4444444444444444,\"#bd3786\"],[0.5555555555555556,\"#d8576b\"],[0.6666666666666666,\"#ed7953\"],[0.7777777777777778,\"#fb9f3a\"],[0.8888888888888888,\"#fdca26\"],[1.0,\"#f0f921\"]],\"sequentialminus\":[[0.0,\"#0d0887\"],[0.1111111111111111,\"#46039f\"],[0.2222222222222222,\"#7201a8\"],[0.3333333333333333,\"#9c179e\"],[0.4444444444444444,\"#bd3786\"],[0.5555555555555556,\"#d8576b\"],[0.6666666666666666,\"#ed7953\"],[0.7777777777777778,\"#fb9f3a\"],[0.8888888888888888,\"#fdca26\"],[1.0,\"#f0f921\"]]},\"colorway\":[\"#636efa\",\"#EF553B\",\"#00cc96\",\"#ab63fa\",\"#FFA15A\",\"#19d3f3\",\"#FF6692\",\"#B6E880\",\"#FF97FF\",\"#FECB52\"],\"font\":{\"color\":\"#2a3f5f\"},\"geo\":{\"bgcolor\":\"white\",\"lakecolor\":\"white\",\"landcolor\":\"#E5ECF6\",\"showlakes\":true,\"showland\":true,\"subunitcolor\":\"white\"},\"hoverlabel\":{\"align\":\"left\"},\"hovermode\":\"closest\",\"mapbox\":{\"style\":\"light\"},\"paper_bgcolor\":\"white\",\"plot_bgcolor\":\"#E5ECF6\",\"polar\":{\"angularaxis\":{\"gridcolor\":\"white\",\"linecolor\":\"white\",\"ticks\":\"\"},\"bgcolor\":\"#E5ECF6\",\"radialaxis\":{\"gridcolor\":\"white\",\"linecolor\":\"white\",\"ticks\":\"\"}},\"scene\":{\"xaxis\":{\"backgroundcolor\":\"#E5ECF6\",\"gridcolor\":\"white\",\"gridwidth\":2,\"linecolor\":\"white\",\"showbackground\":true,\"ticks\":\"\",\"zerolinecolor\":\"white\"},\"yaxis\":{\"backgroundcolor\":\"#E5ECF6\",\"gridcolor\":\"white\",\"gridwidth\":2,\"linecolor\":\"white\",\"showbackground\":true,\"ticks\":\"\",\"zerolinecolor\":\"white\"},\"zaxis\":{\"backgroundcolor\":\"#E5ECF6\",\"gridcolor\":\"white\",\"gridwidth\":2,\"linecolor\":\"white\",\"showbackground\":true,\"ticks\":\"\",\"zerolinecolor\":\"white\"}},\"shapedefaults\":{\"line\":{\"color\":\"#2a3f5f\"}},\"ternary\":{\"aaxis\":{\"gridcolor\":\"white\",\"linecolor\":\"white\",\"ticks\":\"\"},\"baxis\":{\"gridcolor\":\"white\",\"linecolor\":\"white\",\"ticks\":\"\"},\"bgcolor\":\"#E5ECF6\",\"caxis\":{\"gridcolor\":\"white\",\"linecolor\":\"white\",\"ticks\":\"\"}},\"title\":{\"x\":0.05},\"xaxis\":{\"automargin\":true,\"gridcolor\":\"white\",\"linecolor\":\"white\",\"ticks\":\"\",\"title\":{\"standoff\":15},\"zerolinecolor\":\"white\",\"zerolinewidth\":2},\"yaxis\":{\"automargin\":true,\"gridcolor\":\"white\",\"linecolor\":\"white\",\"ticks\":\"\",\"title\":{\"standoff\":15},\"zerolinecolor\":\"white\",\"zerolinewidth\":2}}},\"xaxis\":{\"anchor\":\"y\",\"domain\":[0.0,1.0],\"title\":{\"text\":\"Position\"}},\"yaxis\":{\"anchor\":\"x\",\"domain\":[0.0,1.0],\"autorange\":\"reversed\",\"title\":{\"text\":\"Layer\"}},\"coloraxis\":{\"colorscale\":[[0.0,\"rgb(103,0,31)\"],[0.1,\"rgb(178,24,43)\"],[0.2,\"rgb(214,96,77)\"],[0.3,\"rgb(244,165,130)\"],[0.4,\"rgb(253,219,199)\"],[0.5,\"rgb(247,247,247)\"],[0.6,\"rgb(209,229,240)\"],[0.7,\"rgb(146,197,222)\"],[0.8,\"rgb(67,147,195)\"],[0.9,\"rgb(33,102,172)\"],[1.0,\"rgb(5,48,97)\"]],\"cmid\":0.0},\"title\":{\"text\":\"IOI Metric for 'mlp_out' Activation Patching\"}},                        {\"responsive\": true}                    ).then(function(){\n",
              "                            \n",
              "var gd = document.getElementById('687038ff-b79c-45ba-8b73-4123b4fef886');\n",
              "var x = new MutationObserver(function (mutations, observer) {{\n",
              "        var display = window.getComputedStyle(gd).display;\n",
              "        if (!display || display === 'none') {{\n",
              "            console.log([gd, 'removed!']);\n",
              "            Plotly.purge(gd);\n",
              "            observer.disconnect();\n",
              "        }}\n",
              "}});\n",
              "\n",
              "// Listen for the removal of the full notebook cells\n",
              "var notebookContainer = gd.closest('#notebook-container');\n",
              "if (notebookContainer) {{\n",
              "    x.observe(notebookContainer, {childList: true});\n",
              "}}\n",
              "\n",
              "// Listen for the clearing of the current output cell\n",
              "var outputEl = gd.closest('.output');\n",
              "if (outputEl) {{\n",
              "    x.observe(outputEl, {childList: true});\n",
              "}}\n",
              "\n",
              "                        })                };                            </script>        </div>\n",
              "</body>\n",
              "</html>"
            ]
          },
          "metadata": {},
          "output_type": "display_data"
        }
      ],
      "source": [
        "resid_pre_act_patch_results = patching.get_act_patch_mlp_out(\n",
        "    model, \n",
        "    corrupted_tokens, \n",
        "    clean_cache, \n",
        "    ioi_metric)\n",
        "\n",
        "imshow(resid_pre_act_patch_results, \n",
        "       yaxis=\"Layer\", \n",
        "       xaxis=\"Position\", \n",
        "       x=[f\"{tok} {i}\" for i, tok in enumerate(model.to_str_tokens(clean_tokens[0]))],\n",
        "       title=\"IOI Metric for 'mlp_out' Activation Patching\")"
      ]
    },
    {
      "cell_type": "markdown",
      "metadata": {
        "id": "Flzv5FJbJbPX"
      },
      "source": [
        "### Attention Layers"
      ]
    },
    {
      "cell_type": "markdown",
      "metadata": {
        "id": "6sSoQS51bkiE"
      },
      "source": [
        "Oddly, attention only seems to matter on the final token, and only for layers 7, 8, and 9. In GPT-2, attention layers mattered on the S2 token, but here we do not see that that is the case.\n",
        "\n",
        "Swapping in the clean activations for Attention 7 and 8 makes a positive difference in recovering performance, but layer 9 makes a negative difference. With the exception of layer 7, this follows what we saw earlier with the name mover heads."
      ]
    },
    {
      "cell_type": "code",
      "execution_count": null,
      "metadata": {
        "colab": {
          "base_uri": "https://localhost:8080/",
          "height": 574,
          "referenced_widgets": [
            "1d9762ab63cd4bdf8a40c92c0a3d17a4",
            "71944864009f4728a831eb00192bcc24",
            "9cdfb071b7924b1b92c45bbc3b77fdab",
            "f031bcd482304cf9bbe669a1a1a92ff6",
            "b151ec6b8b9543ee9fda04de3da221b5",
            "28e8be6b8d7245c395afa2b32f21470c",
            "5492c6b666a84d59bd64c4b6cba9108f",
            "8c04505825f449bf8669c1ad29ee706c",
            "8c21b9e91a28441f8297d3a04f5b4d9a",
            "db81ac65ab5847819ccf4c083d049302",
            "1e85072a9aaa4fea99a0f6ea760901dd"
          ]
        },
        "id": "aka6UXmMIiGf",
        "outputId": "18f907eb-ca84-47ef-b936-20b0c24af352"
      },
      "outputs": [
        {
          "data": {
            "application/vnd.jupyter.widget-view+json": {
              "model_id": "1d9762ab63cd4bdf8a40c92c0a3d17a4",
              "version_major": 2,
              "version_minor": 0
            },
            "text/plain": [
              "  0%|          | 0/180 [00:00<?, ?it/s]"
            ]
          },
          "metadata": {},
          "output_type": "display_data"
        },
        {
          "data": {
            "text/html": [
              "<html>\n",
              "<head><meta charset=\"utf-8\" /></head>\n",
              "<body>\n",
              "    <div>            <script src=\"https://cdnjs.cloudflare.com/ajax/libs/mathjax/2.7.5/MathJax.js?config=TeX-AMS-MML_SVG\"></script><script type=\"text/javascript\">if (window.MathJax) {MathJax.Hub.Config({SVG: {font: \"STIX-Web\"}});}</script>                <script type=\"text/javascript\">window.PlotlyConfig = {MathJaxConfig: 'local'};</script>\n",
              "        <script src=\"https://cdn.plot.ly/plotly-2.8.3.min.js\"></script>                <div id=\"c869bb30-15f2-4c1b-a5ba-523c1182f0ce\" class=\"plotly-graph-div\" style=\"height:525px; width:100%;\"></div>            <script type=\"text/javascript\">                                    window.PLOTLYENV=window.PLOTLYENV || {};                                    if (document.getElementById(\"c869bb30-15f2-4c1b-a5ba-523c1182f0ce\")) {                    Plotly.newPlot(                        \"c869bb30-15f2-4c1b-a5ba-523c1182f0ce\",                        [{\"coloraxis\":\"coloraxis\",\"name\":\"0\",\"x\":[\"<|endoftext|> 0\",\"When 1\",\" John 2\",\" and 3\",\" Mary 4\",\" went 5\",\" to 6\",\" the 7\",\" shops 8\",\", 9\",\" John 10\",\" gave 11\",\" the 12\",\" bag 13\",\" to 14\"],\"z\":[[0.0,0.0,0.0,0.0,0.0,0.0,0.0,0.0,0.0,0.0,0.011155801825225353,0.005019607488065958,-0.0008164829923771322,-0.00022082832583691925,0.0026190290227532387],[0.0,0.0,0.0,0.0,0.0,0.0,0.0,0.0,0.0,0.0,-0.0023588917683809996,0.0030815796926617622,0.0005023148842155933,0.00044524858822114766,3.708296935656108e-05],[0.0,0.0,0.0,0.0,0.0,0.0,0.0,0.0,0.0,0.0,0.002734173322096467,0.0008562472648918629,4.097845248907106e-06,-0.0007256727549247444,0.01609679125249386],[0.0,0.0,0.0,0.0,0.0,0.0,0.0,0.0,0.0,0.0,0.003552123438566923,0.001981738256290555,0.0004448438703548163,9.839887934504077e-05,0.0005621130694635212],[0.0,0.0,0.0,0.0,0.0,0.0,0.0,0.0,0.0,0.0,0.6474713087081909,0.0008667701622471213,0.00025735481176525354,0.0008461291436105967,0.006642657797783613],[0.0,0.0,0.0,0.0,0.0,0.0,0.0,0.0,0.0,0.0,0.08003567159175873,0.04195105656981468,0.002331421012058854,0.0011865032138302922,-0.005960290785878897],[0.0,0.0,0.0,0.0,0.0,0.0,0.0,0.0,0.0,0.0,0.0003863104502670467,0.037796348333358765,0.0008812390733510256,0.0004911849391646683,0.5257166028022766],[0.0,0.0,0.0,0.0,0.0,0.0,0.0,0.0,0.0,0.0,-0.0061597698368132114,0.012054242193698883,-5.954523294349201e-05,-7.285058381967247e-05,0.12062890082597733],[0.0,0.0,0.0,0.0,0.0,0.0,0.0,0.0,0.0,0.0,0.0007643240387551486,0.022572550922632217,0.000653176277410239,-3.5969973396277055e-05,0.7246592044830322],[0.0,0.0,0.0,0.0,0.0,0.0,0.0,0.0,0.0,0.0,-0.0007883546059019864,0.009391452185809612,0.00019851783872582018,-0.00011453730257926509,-0.13348104059696198],[0.0,0.0,0.0,0.0,0.0,0.0,0.0,0.0,0.0,0.0,0.00017539788677822798,0.0022912013810127974,0.00019765779143199325,-5.448616502690129e-05,0.19367101788520813],[0.0,0.0,0.0,0.0,0.0,0.0,0.0,0.0,0.0,0.0,0.0,0.0,0.0,0.0,0.017920181155204773]],\"type\":\"heatmap\",\"xaxis\":\"x\",\"yaxis\":\"y\",\"hovertemplate\":\"x: %{x}<br>y: %{y}<br>color: %{z}<extra></extra>\"}],                        {\"template\":{\"data\":{\"bar\":[{\"error_x\":{\"color\":\"#2a3f5f\"},\"error_y\":{\"color\":\"#2a3f5f\"},\"marker\":{\"line\":{\"color\":\"#E5ECF6\",\"width\":0.5},\"pattern\":{\"fillmode\":\"overlay\",\"size\":10,\"solidity\":0.2}},\"type\":\"bar\"}],\"barpolar\":[{\"marker\":{\"line\":{\"color\":\"#E5ECF6\",\"width\":0.5},\"pattern\":{\"fillmode\":\"overlay\",\"size\":10,\"solidity\":0.2}},\"type\":\"barpolar\"}],\"carpet\":[{\"aaxis\":{\"endlinecolor\":\"#2a3f5f\",\"gridcolor\":\"white\",\"linecolor\":\"white\",\"minorgridcolor\":\"white\",\"startlinecolor\":\"#2a3f5f\"},\"baxis\":{\"endlinecolor\":\"#2a3f5f\",\"gridcolor\":\"white\",\"linecolor\":\"white\",\"minorgridcolor\":\"white\",\"startlinecolor\":\"#2a3f5f\"},\"type\":\"carpet\"}],\"choropleth\":[{\"colorbar\":{\"outlinewidth\":0,\"ticks\":\"\"},\"type\":\"choropleth\"}],\"contour\":[{\"colorbar\":{\"outlinewidth\":0,\"ticks\":\"\"},\"colorscale\":[[0.0,\"#0d0887\"],[0.1111111111111111,\"#46039f\"],[0.2222222222222222,\"#7201a8\"],[0.3333333333333333,\"#9c179e\"],[0.4444444444444444,\"#bd3786\"],[0.5555555555555556,\"#d8576b\"],[0.6666666666666666,\"#ed7953\"],[0.7777777777777778,\"#fb9f3a\"],[0.8888888888888888,\"#fdca26\"],[1.0,\"#f0f921\"]],\"type\":\"contour\"}],\"contourcarpet\":[{\"colorbar\":{\"outlinewidth\":0,\"ticks\":\"\"},\"type\":\"contourcarpet\"}],\"heatmap\":[{\"colorbar\":{\"outlinewidth\":0,\"ticks\":\"\"},\"colorscale\":[[0.0,\"#0d0887\"],[0.1111111111111111,\"#46039f\"],[0.2222222222222222,\"#7201a8\"],[0.3333333333333333,\"#9c179e\"],[0.4444444444444444,\"#bd3786\"],[0.5555555555555556,\"#d8576b\"],[0.6666666666666666,\"#ed7953\"],[0.7777777777777778,\"#fb9f3a\"],[0.8888888888888888,\"#fdca26\"],[1.0,\"#f0f921\"]],\"type\":\"heatmap\"}],\"heatmapgl\":[{\"colorbar\":{\"outlinewidth\":0,\"ticks\":\"\"},\"colorscale\":[[0.0,\"#0d0887\"],[0.1111111111111111,\"#46039f\"],[0.2222222222222222,\"#7201a8\"],[0.3333333333333333,\"#9c179e\"],[0.4444444444444444,\"#bd3786\"],[0.5555555555555556,\"#d8576b\"],[0.6666666666666666,\"#ed7953\"],[0.7777777777777778,\"#fb9f3a\"],[0.8888888888888888,\"#fdca26\"],[1.0,\"#f0f921\"]],\"type\":\"heatmapgl\"}],\"histogram\":[{\"marker\":{\"pattern\":{\"fillmode\":\"overlay\",\"size\":10,\"solidity\":0.2}},\"type\":\"histogram\"}],\"histogram2d\":[{\"colorbar\":{\"outlinewidth\":0,\"ticks\":\"\"},\"colorscale\":[[0.0,\"#0d0887\"],[0.1111111111111111,\"#46039f\"],[0.2222222222222222,\"#7201a8\"],[0.3333333333333333,\"#9c179e\"],[0.4444444444444444,\"#bd3786\"],[0.5555555555555556,\"#d8576b\"],[0.6666666666666666,\"#ed7953\"],[0.7777777777777778,\"#fb9f3a\"],[0.8888888888888888,\"#fdca26\"],[1.0,\"#f0f921\"]],\"type\":\"histogram2d\"}],\"histogram2dcontour\":[{\"colorbar\":{\"outlinewidth\":0,\"ticks\":\"\"},\"colorscale\":[[0.0,\"#0d0887\"],[0.1111111111111111,\"#46039f\"],[0.2222222222222222,\"#7201a8\"],[0.3333333333333333,\"#9c179e\"],[0.4444444444444444,\"#bd3786\"],[0.5555555555555556,\"#d8576b\"],[0.6666666666666666,\"#ed7953\"],[0.7777777777777778,\"#fb9f3a\"],[0.8888888888888888,\"#fdca26\"],[1.0,\"#f0f921\"]],\"type\":\"histogram2dcontour\"}],\"mesh3d\":[{\"colorbar\":{\"outlinewidth\":0,\"ticks\":\"\"},\"type\":\"mesh3d\"}],\"parcoords\":[{\"line\":{\"colorbar\":{\"outlinewidth\":0,\"ticks\":\"\"}},\"type\":\"parcoords\"}],\"pie\":[{\"automargin\":true,\"type\":\"pie\"}],\"scatter\":[{\"marker\":{\"colorbar\":{\"outlinewidth\":0,\"ticks\":\"\"}},\"type\":\"scatter\"}],\"scatter3d\":[{\"line\":{\"colorbar\":{\"outlinewidth\":0,\"ticks\":\"\"}},\"marker\":{\"colorbar\":{\"outlinewidth\":0,\"ticks\":\"\"}},\"type\":\"scatter3d\"}],\"scattercarpet\":[{\"marker\":{\"colorbar\":{\"outlinewidth\":0,\"ticks\":\"\"}},\"type\":\"scattercarpet\"}],\"scattergeo\":[{\"marker\":{\"colorbar\":{\"outlinewidth\":0,\"ticks\":\"\"}},\"type\":\"scattergeo\"}],\"scattergl\":[{\"marker\":{\"colorbar\":{\"outlinewidth\":0,\"ticks\":\"\"}},\"type\":\"scattergl\"}],\"scattermapbox\":[{\"marker\":{\"colorbar\":{\"outlinewidth\":0,\"ticks\":\"\"}},\"type\":\"scattermapbox\"}],\"scatterpolar\":[{\"marker\":{\"colorbar\":{\"outlinewidth\":0,\"ticks\":\"\"}},\"type\":\"scatterpolar\"}],\"scatterpolargl\":[{\"marker\":{\"colorbar\":{\"outlinewidth\":0,\"ticks\":\"\"}},\"type\":\"scatterpolargl\"}],\"scatterternary\":[{\"marker\":{\"colorbar\":{\"outlinewidth\":0,\"ticks\":\"\"}},\"type\":\"scatterternary\"}],\"surface\":[{\"colorbar\":{\"outlinewidth\":0,\"ticks\":\"\"},\"colorscale\":[[0.0,\"#0d0887\"],[0.1111111111111111,\"#46039f\"],[0.2222222222222222,\"#7201a8\"],[0.3333333333333333,\"#9c179e\"],[0.4444444444444444,\"#bd3786\"],[0.5555555555555556,\"#d8576b\"],[0.6666666666666666,\"#ed7953\"],[0.7777777777777778,\"#fb9f3a\"],[0.8888888888888888,\"#fdca26\"],[1.0,\"#f0f921\"]],\"type\":\"surface\"}],\"table\":[{\"cells\":{\"fill\":{\"color\":\"#EBF0F8\"},\"line\":{\"color\":\"white\"}},\"header\":{\"fill\":{\"color\":\"#C8D4E3\"},\"line\":{\"color\":\"white\"}},\"type\":\"table\"}]},\"layout\":{\"annotationdefaults\":{\"arrowcolor\":\"#2a3f5f\",\"arrowhead\":0,\"arrowwidth\":1},\"autotypenumbers\":\"strict\",\"coloraxis\":{\"colorbar\":{\"outlinewidth\":0,\"ticks\":\"\"}},\"colorscale\":{\"diverging\":[[0,\"#8e0152\"],[0.1,\"#c51b7d\"],[0.2,\"#de77ae\"],[0.3,\"#f1b6da\"],[0.4,\"#fde0ef\"],[0.5,\"#f7f7f7\"],[0.6,\"#e6f5d0\"],[0.7,\"#b8e186\"],[0.8,\"#7fbc41\"],[0.9,\"#4d9221\"],[1,\"#276419\"]],\"sequential\":[[0.0,\"#0d0887\"],[0.1111111111111111,\"#46039f\"],[0.2222222222222222,\"#7201a8\"],[0.3333333333333333,\"#9c179e\"],[0.4444444444444444,\"#bd3786\"],[0.5555555555555556,\"#d8576b\"],[0.6666666666666666,\"#ed7953\"],[0.7777777777777778,\"#fb9f3a\"],[0.8888888888888888,\"#fdca26\"],[1.0,\"#f0f921\"]],\"sequentialminus\":[[0.0,\"#0d0887\"],[0.1111111111111111,\"#46039f\"],[0.2222222222222222,\"#7201a8\"],[0.3333333333333333,\"#9c179e\"],[0.4444444444444444,\"#bd3786\"],[0.5555555555555556,\"#d8576b\"],[0.6666666666666666,\"#ed7953\"],[0.7777777777777778,\"#fb9f3a\"],[0.8888888888888888,\"#fdca26\"],[1.0,\"#f0f921\"]]},\"colorway\":[\"#636efa\",\"#EF553B\",\"#00cc96\",\"#ab63fa\",\"#FFA15A\",\"#19d3f3\",\"#FF6692\",\"#B6E880\",\"#FF97FF\",\"#FECB52\"],\"font\":{\"color\":\"#2a3f5f\"},\"geo\":{\"bgcolor\":\"white\",\"lakecolor\":\"white\",\"landcolor\":\"#E5ECF6\",\"showlakes\":true,\"showland\":true,\"subunitcolor\":\"white\"},\"hoverlabel\":{\"align\":\"left\"},\"hovermode\":\"closest\",\"mapbox\":{\"style\":\"light\"},\"paper_bgcolor\":\"white\",\"plot_bgcolor\":\"#E5ECF6\",\"polar\":{\"angularaxis\":{\"gridcolor\":\"white\",\"linecolor\":\"white\",\"ticks\":\"\"},\"bgcolor\":\"#E5ECF6\",\"radialaxis\":{\"gridcolor\":\"white\",\"linecolor\":\"white\",\"ticks\":\"\"}},\"scene\":{\"xaxis\":{\"backgroundcolor\":\"#E5ECF6\",\"gridcolor\":\"white\",\"gridwidth\":2,\"linecolor\":\"white\",\"showbackground\":true,\"ticks\":\"\",\"zerolinecolor\":\"white\"},\"yaxis\":{\"backgroundcolor\":\"#E5ECF6\",\"gridcolor\":\"white\",\"gridwidth\":2,\"linecolor\":\"white\",\"showbackground\":true,\"ticks\":\"\",\"zerolinecolor\":\"white\"},\"zaxis\":{\"backgroundcolor\":\"#E5ECF6\",\"gridcolor\":\"white\",\"gridwidth\":2,\"linecolor\":\"white\",\"showbackground\":true,\"ticks\":\"\",\"zerolinecolor\":\"white\"}},\"shapedefaults\":{\"line\":{\"color\":\"#2a3f5f\"}},\"ternary\":{\"aaxis\":{\"gridcolor\":\"white\",\"linecolor\":\"white\",\"ticks\":\"\"},\"baxis\":{\"gridcolor\":\"white\",\"linecolor\":\"white\",\"ticks\":\"\"},\"bgcolor\":\"#E5ECF6\",\"caxis\":{\"gridcolor\":\"white\",\"linecolor\":\"white\",\"ticks\":\"\"}},\"title\":{\"x\":0.05},\"xaxis\":{\"automargin\":true,\"gridcolor\":\"white\",\"linecolor\":\"white\",\"ticks\":\"\",\"title\":{\"standoff\":15},\"zerolinecolor\":\"white\",\"zerolinewidth\":2},\"yaxis\":{\"automargin\":true,\"gridcolor\":\"white\",\"linecolor\":\"white\",\"ticks\":\"\",\"title\":{\"standoff\":15},\"zerolinecolor\":\"white\",\"zerolinewidth\":2}}},\"xaxis\":{\"anchor\":\"y\",\"domain\":[0.0,1.0],\"title\":{\"text\":\"Position\"}},\"yaxis\":{\"anchor\":\"x\",\"domain\":[0.0,1.0],\"autorange\":\"reversed\",\"title\":{\"text\":\"Layer\"}},\"coloraxis\":{\"colorscale\":[[0.0,\"rgb(103,0,31)\"],[0.1,\"rgb(178,24,43)\"],[0.2,\"rgb(214,96,77)\"],[0.3,\"rgb(244,165,130)\"],[0.4,\"rgb(253,219,199)\"],[0.5,\"rgb(247,247,247)\"],[0.6,\"rgb(209,229,240)\"],[0.7,\"rgb(146,197,222)\"],[0.8,\"rgb(67,147,195)\"],[0.9,\"rgb(33,102,172)\"],[1.0,\"rgb(5,48,97)\"]],\"cmid\":0.0},\"title\":{\"text\":\"IOI Metric for 'attn_out' Activation Patching\"}},                        {\"responsive\": true}                    ).then(function(){\n",
              "                            \n",
              "var gd = document.getElementById('c869bb30-15f2-4c1b-a5ba-523c1182f0ce');\n",
              "var x = new MutationObserver(function (mutations, observer) {{\n",
              "        var display = window.getComputedStyle(gd).display;\n",
              "        if (!display || display === 'none') {{\n",
              "            console.log([gd, 'removed!']);\n",
              "            Plotly.purge(gd);\n",
              "            observer.disconnect();\n",
              "        }}\n",
              "}});\n",
              "\n",
              "// Listen for the removal of the full notebook cells\n",
              "var notebookContainer = gd.closest('#notebook-container');\n",
              "if (notebookContainer) {{\n",
              "    x.observe(notebookContainer, {childList: true});\n",
              "}}\n",
              "\n",
              "// Listen for the clearing of the current output cell\n",
              "var outputEl = gd.closest('.output');\n",
              "if (outputEl) {{\n",
              "    x.observe(outputEl, {childList: true});\n",
              "}}\n",
              "\n",
              "                        })                };                            </script>        </div>\n",
              "</body>\n",
              "</html>"
            ]
          },
          "metadata": {},
          "output_type": "display_data"
        }
      ],
      "source": [
        "resid_pre_act_patch_results = patching.get_act_patch_attn_out(\n",
        "    model, \n",
        "    corrupted_tokens, \n",
        "    clean_cache, \n",
        "    ioi_metric)\n",
        "\n",
        "imshow(resid_pre_act_patch_results, \n",
        "       yaxis=\"Layer\", \n",
        "       xaxis=\"Position\", \n",
        "       x=[f\"{tok} {i}\" for i, tok in enumerate(model.to_str_tokens(clean_tokens[0]))],\n",
        "       title=\"IOI Metric for 'attn_out' Activation Patching\")"
      ]
    },
    {
      "cell_type": "markdown",
      "metadata": {
        "id": "k90ITCtrJhxj"
      },
      "source": [
        "### Attention Layers by Head"
      ]
    },
    {
      "cell_type": "markdown",
      "metadata": {
        "id": "_qm6_hzoduEv"
      },
      "source": [
        "Here we see that patching L7H5 recovers full performance, and patching L8H10 recovers a quarter of the performance. Patching L9H1 and L9H11 reduce performance. Aside from L7H5 (whose role is unclear at present), this matches with the positive NMHs and the two negative NMHs of significant magnitude."
      ]
    },
    {
      "cell_type": "code",
      "execution_count": null,
      "metadata": {
        "colab": {
          "base_uri": "https://localhost:8080/",
          "height": 574,
          "referenced_widgets": [
            "577743f69ee944c6b8efdad9fdde6627",
            "0953726feb674665894bddd714143d65",
            "7f122c7354974bb9a6eea53582c0f12d",
            "bd1c647c971a474291feac1b2d87a778",
            "06227bde4fac46bbb093003e74953cad",
            "70f4de7a068b43dc80053d7508ae9cf4",
            "f80833a8b8f442409dec918c4aba25c1",
            "9497f8b2ca644fa981a0acf97fcb8ef8",
            "aae2ea570bca4227952e0cf9e9b39243",
            "b2b7a69c70d7489b8dd9cd4475fb22f9",
            "621c519f5bbe477ab1d6ba8f740cc382"
          ]
        },
        "id": "RODK4olIp91a",
        "outputId": "e25c18c5-ce19-472c-8e82-9f399bc8527d"
      },
      "outputs": [
        {
          "data": {
            "application/vnd.jupyter.widget-view+json": {
              "model_id": "577743f69ee944c6b8efdad9fdde6627",
              "version_major": 2,
              "version_minor": 0
            },
            "text/plain": [
              "  0%|          | 0/144 [00:00<?, ?it/s]"
            ]
          },
          "metadata": {},
          "output_type": "display_data"
        },
        {
          "data": {
            "text/html": [
              "<html>\n",
              "<head><meta charset=\"utf-8\" /></head>\n",
              "<body>\n",
              "    <div>            <script src=\"https://cdnjs.cloudflare.com/ajax/libs/mathjax/2.7.5/MathJax.js?config=TeX-AMS-MML_SVG\"></script><script type=\"text/javascript\">if (window.MathJax) {MathJax.Hub.Config({SVG: {font: \"STIX-Web\"}});}</script>                <script type=\"text/javascript\">window.PlotlyConfig = {MathJaxConfig: 'local'};</script>\n",
              "        <script src=\"https://cdn.plot.ly/plotly-2.8.3.min.js\"></script>                <div id=\"59270d01-a86a-40ac-a1bf-5dc02f1f330c\" class=\"plotly-graph-div\" style=\"height:525px; width:100%;\"></div>            <script type=\"text/javascript\">                                    window.PLOTLYENV=window.PLOTLYENV || {};                                    if (document.getElementById(\"59270d01-a86a-40ac-a1bf-5dc02f1f330c\")) {                    Plotly.newPlot(                        \"59270d01-a86a-40ac-a1bf-5dc02f1f330c\",                        [{\"coloraxis\":\"coloraxis\",\"name\":\"0\",\"z\":[[0.0011908540036529303,0.00105537218041718,0.00014003500109538436,0.0019421257311478257,0.005328463390469551,-0.0008857416687533259,0.00042182509787380695,0.005136218853294849,-0.00037816533586010337,0.008995073847472668,0.0022878118325024843,-5.064127253717743e-05],[-0.0003522123151924461,-9.708351717563346e-05,0.002639821730554104,-0.0006422993028536439,-0.0001514179166406393,0.0005793138989247382,-0.0027291143778711557,-0.0002370173460803926,-0.0002788558485917747,0.00014281750191003084,0.0009030942455865443,0.00041782844346016645],[0.0007519798818975687,0.0014154261443763971,0.001225508633069694,0.0014288831735029817,0.00022006947256159037,0.00043755880324169993,0.0037378924898803234,0.0003610657004173845,5.5295615311479196e-05,0.0010379183804616332,0.0007219795952551067,0.00876589771360159],[0.008534091524779797,0.0022436967119574547,-0.0007444418733939528,-0.001432171557098627,-0.0018967963987961411,5.924168726778589e-05,-0.003107532626017928,-0.0012055760016664863,0.000666228705085814,0.0010424716165289283,0.0009203962981700897,0.000179141599801369],[0.007750239688903093,0.015809284523129463,0.000982521683908999,0.00041327529470436275,0.0023489759769290686,0.0014914133353158832,0.0573815181851387,-0.0021773723419755697,0.011712046340107918,0.000594845216255635,-0.00014716829173266888,0.4826379418373108],[0.0183147881180048,-0.003223992418497801,0.0009926398051902652,-0.002333899959921837,-0.0008097544778138399,-0.006659504491835833,-5.185544796404429e-05,0.0014009065926074982,0.07002564519643784,-0.0005087904864922166,0.04600134864449501,0.0002841678506229073],[0.0033622568007558584,4.219262700644322e-05,-0.005131058860570192,-0.001906509860418737,0.0007783376495353878,0.1042623370885849,0.4007404148578644,-0.0029783747158944607,0.0002225484058726579,-1.4266572179622017e-05,-0.00254607736133039,0.024374945089221],[0.001138846855610609,-0.0009476140839979053,0.06247473508119583,-0.0010858278255909681,0.004026613663882017,-0.0012744298437610269,-0.011301402002573013,0.004561255685985088,-0.0019636773504316807,0.04872328042984009,-0.007536999881267548,0.048388976603746414],[0.0002693448041100055,0.0006033950485289097,0.04873617738485336,-5.054008943261579e-05,-0.002039361046627164,0.00028695035143755376,0.0005280149634927511,0.007077282294631004,0.01675487495958805,0.3573077917098999,0.2708517611026764,0.0008684902568347752],[0.0026616263203322887,-0.12779757380485535,0.005612479522824287,-0.001194294192828238,7.472244033124298e-05,-0.10223263502120972,0.07188475877046585,0.0018553626723587513,0.0042847273871302605,-0.003737538354471326,-0.0002383327082497999,-1.1484085007396061e-05],[0.0012226250255480409,0.03296888619661331,-0.010992545634508133,-0.0012357280356809497,0.0030857280362397432,-0.00038772699190303683,-1.5126614016480744e-05,0.10439470410346985,0.05304569751024246,0.00018318886577617377,0.013617442920804024,0.0001569828891661018],[0.004510968923568726,-0.0008315590093843639,7.608838495798409e-05,0.0,0.0004154000780545175,-0.0019191575702279806,0.01031250599771738,4.851646372117102e-05,1.315357735620637e-06,0.0044491467997431755,0.0,0.0008502776036038995]],\"type\":\"heatmap\",\"xaxis\":\"x\",\"yaxis\":\"y\",\"hovertemplate\":\"x: %{x}<br>y: %{y}<br>color: %{z}<extra></extra>\"}],                        {\"template\":{\"data\":{\"bar\":[{\"error_x\":{\"color\":\"#2a3f5f\"},\"error_y\":{\"color\":\"#2a3f5f\"},\"marker\":{\"line\":{\"color\":\"#E5ECF6\",\"width\":0.5},\"pattern\":{\"fillmode\":\"overlay\",\"size\":10,\"solidity\":0.2}},\"type\":\"bar\"}],\"barpolar\":[{\"marker\":{\"line\":{\"color\":\"#E5ECF6\",\"width\":0.5},\"pattern\":{\"fillmode\":\"overlay\",\"size\":10,\"solidity\":0.2}},\"type\":\"barpolar\"}],\"carpet\":[{\"aaxis\":{\"endlinecolor\":\"#2a3f5f\",\"gridcolor\":\"white\",\"linecolor\":\"white\",\"minorgridcolor\":\"white\",\"startlinecolor\":\"#2a3f5f\"},\"baxis\":{\"endlinecolor\":\"#2a3f5f\",\"gridcolor\":\"white\",\"linecolor\":\"white\",\"minorgridcolor\":\"white\",\"startlinecolor\":\"#2a3f5f\"},\"type\":\"carpet\"}],\"choropleth\":[{\"colorbar\":{\"outlinewidth\":0,\"ticks\":\"\"},\"type\":\"choropleth\"}],\"contour\":[{\"colorbar\":{\"outlinewidth\":0,\"ticks\":\"\"},\"colorscale\":[[0.0,\"#0d0887\"],[0.1111111111111111,\"#46039f\"],[0.2222222222222222,\"#7201a8\"],[0.3333333333333333,\"#9c179e\"],[0.4444444444444444,\"#bd3786\"],[0.5555555555555556,\"#d8576b\"],[0.6666666666666666,\"#ed7953\"],[0.7777777777777778,\"#fb9f3a\"],[0.8888888888888888,\"#fdca26\"],[1.0,\"#f0f921\"]],\"type\":\"contour\"}],\"contourcarpet\":[{\"colorbar\":{\"outlinewidth\":0,\"ticks\":\"\"},\"type\":\"contourcarpet\"}],\"heatmap\":[{\"colorbar\":{\"outlinewidth\":0,\"ticks\":\"\"},\"colorscale\":[[0.0,\"#0d0887\"],[0.1111111111111111,\"#46039f\"],[0.2222222222222222,\"#7201a8\"],[0.3333333333333333,\"#9c179e\"],[0.4444444444444444,\"#bd3786\"],[0.5555555555555556,\"#d8576b\"],[0.6666666666666666,\"#ed7953\"],[0.7777777777777778,\"#fb9f3a\"],[0.8888888888888888,\"#fdca26\"],[1.0,\"#f0f921\"]],\"type\":\"heatmap\"}],\"heatmapgl\":[{\"colorbar\":{\"outlinewidth\":0,\"ticks\":\"\"},\"colorscale\":[[0.0,\"#0d0887\"],[0.1111111111111111,\"#46039f\"],[0.2222222222222222,\"#7201a8\"],[0.3333333333333333,\"#9c179e\"],[0.4444444444444444,\"#bd3786\"],[0.5555555555555556,\"#d8576b\"],[0.6666666666666666,\"#ed7953\"],[0.7777777777777778,\"#fb9f3a\"],[0.8888888888888888,\"#fdca26\"],[1.0,\"#f0f921\"]],\"type\":\"heatmapgl\"}],\"histogram\":[{\"marker\":{\"pattern\":{\"fillmode\":\"overlay\",\"size\":10,\"solidity\":0.2}},\"type\":\"histogram\"}],\"histogram2d\":[{\"colorbar\":{\"outlinewidth\":0,\"ticks\":\"\"},\"colorscale\":[[0.0,\"#0d0887\"],[0.1111111111111111,\"#46039f\"],[0.2222222222222222,\"#7201a8\"],[0.3333333333333333,\"#9c179e\"],[0.4444444444444444,\"#bd3786\"],[0.5555555555555556,\"#d8576b\"],[0.6666666666666666,\"#ed7953\"],[0.7777777777777778,\"#fb9f3a\"],[0.8888888888888888,\"#fdca26\"],[1.0,\"#f0f921\"]],\"type\":\"histogram2d\"}],\"histogram2dcontour\":[{\"colorbar\":{\"outlinewidth\":0,\"ticks\":\"\"},\"colorscale\":[[0.0,\"#0d0887\"],[0.1111111111111111,\"#46039f\"],[0.2222222222222222,\"#7201a8\"],[0.3333333333333333,\"#9c179e\"],[0.4444444444444444,\"#bd3786\"],[0.5555555555555556,\"#d8576b\"],[0.6666666666666666,\"#ed7953\"],[0.7777777777777778,\"#fb9f3a\"],[0.8888888888888888,\"#fdca26\"],[1.0,\"#f0f921\"]],\"type\":\"histogram2dcontour\"}],\"mesh3d\":[{\"colorbar\":{\"outlinewidth\":0,\"ticks\":\"\"},\"type\":\"mesh3d\"}],\"parcoords\":[{\"line\":{\"colorbar\":{\"outlinewidth\":0,\"ticks\":\"\"}},\"type\":\"parcoords\"}],\"pie\":[{\"automargin\":true,\"type\":\"pie\"}],\"scatter\":[{\"marker\":{\"colorbar\":{\"outlinewidth\":0,\"ticks\":\"\"}},\"type\":\"scatter\"}],\"scatter3d\":[{\"line\":{\"colorbar\":{\"outlinewidth\":0,\"ticks\":\"\"}},\"marker\":{\"colorbar\":{\"outlinewidth\":0,\"ticks\":\"\"}},\"type\":\"scatter3d\"}],\"scattercarpet\":[{\"marker\":{\"colorbar\":{\"outlinewidth\":0,\"ticks\":\"\"}},\"type\":\"scattercarpet\"}],\"scattergeo\":[{\"marker\":{\"colorbar\":{\"outlinewidth\":0,\"ticks\":\"\"}},\"type\":\"scattergeo\"}],\"scattergl\":[{\"marker\":{\"colorbar\":{\"outlinewidth\":0,\"ticks\":\"\"}},\"type\":\"scattergl\"}],\"scattermapbox\":[{\"marker\":{\"colorbar\":{\"outlinewidth\":0,\"ticks\":\"\"}},\"type\":\"scattermapbox\"}],\"scatterpolar\":[{\"marker\":{\"colorbar\":{\"outlinewidth\":0,\"ticks\":\"\"}},\"type\":\"scatterpolar\"}],\"scatterpolargl\":[{\"marker\":{\"colorbar\":{\"outlinewidth\":0,\"ticks\":\"\"}},\"type\":\"scatterpolargl\"}],\"scatterternary\":[{\"marker\":{\"colorbar\":{\"outlinewidth\":0,\"ticks\":\"\"}},\"type\":\"scatterternary\"}],\"surface\":[{\"colorbar\":{\"outlinewidth\":0,\"ticks\":\"\"},\"colorscale\":[[0.0,\"#0d0887\"],[0.1111111111111111,\"#46039f\"],[0.2222222222222222,\"#7201a8\"],[0.3333333333333333,\"#9c179e\"],[0.4444444444444444,\"#bd3786\"],[0.5555555555555556,\"#d8576b\"],[0.6666666666666666,\"#ed7953\"],[0.7777777777777778,\"#fb9f3a\"],[0.8888888888888888,\"#fdca26\"],[1.0,\"#f0f921\"]],\"type\":\"surface\"}],\"table\":[{\"cells\":{\"fill\":{\"color\":\"#EBF0F8\"},\"line\":{\"color\":\"white\"}},\"header\":{\"fill\":{\"color\":\"#C8D4E3\"},\"line\":{\"color\":\"white\"}},\"type\":\"table\"}]},\"layout\":{\"annotationdefaults\":{\"arrowcolor\":\"#2a3f5f\",\"arrowhead\":0,\"arrowwidth\":1},\"autotypenumbers\":\"strict\",\"coloraxis\":{\"colorbar\":{\"outlinewidth\":0,\"ticks\":\"\"}},\"colorscale\":{\"diverging\":[[0,\"#8e0152\"],[0.1,\"#c51b7d\"],[0.2,\"#de77ae\"],[0.3,\"#f1b6da\"],[0.4,\"#fde0ef\"],[0.5,\"#f7f7f7\"],[0.6,\"#e6f5d0\"],[0.7,\"#b8e186\"],[0.8,\"#7fbc41\"],[0.9,\"#4d9221\"],[1,\"#276419\"]],\"sequential\":[[0.0,\"#0d0887\"],[0.1111111111111111,\"#46039f\"],[0.2222222222222222,\"#7201a8\"],[0.3333333333333333,\"#9c179e\"],[0.4444444444444444,\"#bd3786\"],[0.5555555555555556,\"#d8576b\"],[0.6666666666666666,\"#ed7953\"],[0.7777777777777778,\"#fb9f3a\"],[0.8888888888888888,\"#fdca26\"],[1.0,\"#f0f921\"]],\"sequentialminus\":[[0.0,\"#0d0887\"],[0.1111111111111111,\"#46039f\"],[0.2222222222222222,\"#7201a8\"],[0.3333333333333333,\"#9c179e\"],[0.4444444444444444,\"#bd3786\"],[0.5555555555555556,\"#d8576b\"],[0.6666666666666666,\"#ed7953\"],[0.7777777777777778,\"#fb9f3a\"],[0.8888888888888888,\"#fdca26\"],[1.0,\"#f0f921\"]]},\"colorway\":[\"#636efa\",\"#EF553B\",\"#00cc96\",\"#ab63fa\",\"#FFA15A\",\"#19d3f3\",\"#FF6692\",\"#B6E880\",\"#FF97FF\",\"#FECB52\"],\"font\":{\"color\":\"#2a3f5f\"},\"geo\":{\"bgcolor\":\"white\",\"lakecolor\":\"white\",\"landcolor\":\"#E5ECF6\",\"showlakes\":true,\"showland\":true,\"subunitcolor\":\"white\"},\"hoverlabel\":{\"align\":\"left\"},\"hovermode\":\"closest\",\"mapbox\":{\"style\":\"light\"},\"paper_bgcolor\":\"white\",\"plot_bgcolor\":\"#E5ECF6\",\"polar\":{\"angularaxis\":{\"gridcolor\":\"white\",\"linecolor\":\"white\",\"ticks\":\"\"},\"bgcolor\":\"#E5ECF6\",\"radialaxis\":{\"gridcolor\":\"white\",\"linecolor\":\"white\",\"ticks\":\"\"}},\"scene\":{\"xaxis\":{\"backgroundcolor\":\"#E5ECF6\",\"gridcolor\":\"white\",\"gridwidth\":2,\"linecolor\":\"white\",\"showbackground\":true,\"ticks\":\"\",\"zerolinecolor\":\"white\"},\"yaxis\":{\"backgroundcolor\":\"#E5ECF6\",\"gridcolor\":\"white\",\"gridwidth\":2,\"linecolor\":\"white\",\"showbackground\":true,\"ticks\":\"\",\"zerolinecolor\":\"white\"},\"zaxis\":{\"backgroundcolor\":\"#E5ECF6\",\"gridcolor\":\"white\",\"gridwidth\":2,\"linecolor\":\"white\",\"showbackground\":true,\"ticks\":\"\",\"zerolinecolor\":\"white\"}},\"shapedefaults\":{\"line\":{\"color\":\"#2a3f5f\"}},\"ternary\":{\"aaxis\":{\"gridcolor\":\"white\",\"linecolor\":\"white\",\"ticks\":\"\"},\"baxis\":{\"gridcolor\":\"white\",\"linecolor\":\"white\",\"ticks\":\"\"},\"bgcolor\":\"#E5ECF6\",\"caxis\":{\"gridcolor\":\"white\",\"linecolor\":\"white\",\"ticks\":\"\"}},\"title\":{\"x\":0.05},\"xaxis\":{\"automargin\":true,\"gridcolor\":\"white\",\"linecolor\":\"white\",\"ticks\":\"\",\"title\":{\"standoff\":15},\"zerolinecolor\":\"white\",\"zerolinewidth\":2},\"yaxis\":{\"automargin\":true,\"gridcolor\":\"white\",\"linecolor\":\"white\",\"ticks\":\"\",\"title\":{\"standoff\":15},\"zerolinecolor\":\"white\",\"zerolinewidth\":2}}},\"xaxis\":{\"anchor\":\"y\",\"domain\":[0.0,1.0],\"title\":{\"text\":\"Head\"}},\"yaxis\":{\"anchor\":\"x\",\"domain\":[0.0,1.0],\"autorange\":\"reversed\",\"title\":{\"text\":\"Layer\"}},\"coloraxis\":{\"colorscale\":[[0.0,\"rgb(103,0,31)\"],[0.1,\"rgb(178,24,43)\"],[0.2,\"rgb(214,96,77)\"],[0.3,\"rgb(244,165,130)\"],[0.4,\"rgb(253,219,199)\"],[0.5,\"rgb(247,247,247)\"],[0.6,\"rgb(209,229,240)\"],[0.7,\"rgb(146,197,222)\"],[0.8,\"rgb(67,147,195)\"],[0.9,\"rgb(33,102,172)\"],[1.0,\"rgb(5,48,97)\"]],\"cmid\":0.0},\"title\":{\"text\":\"IOI Metric for 'attn_head_out' Activation Patching (All Pos)\"}},                        {\"responsive\": true}                    ).then(function(){\n",
              "                            \n",
              "var gd = document.getElementById('59270d01-a86a-40ac-a1bf-5dc02f1f330c');\n",
              "var x = new MutationObserver(function (mutations, observer) {{\n",
              "        var display = window.getComputedStyle(gd).display;\n",
              "        if (!display || display === 'none') {{\n",
              "            console.log([gd, 'removed!']);\n",
              "            Plotly.purge(gd);\n",
              "            observer.disconnect();\n",
              "        }}\n",
              "}});\n",
              "\n",
              "// Listen for the removal of the full notebook cells\n",
              "var notebookContainer = gd.closest('#notebook-container');\n",
              "if (notebookContainer) {{\n",
              "    x.observe(notebookContainer, {childList: true});\n",
              "}}\n",
              "\n",
              "// Listen for the clearing of the current output cell\n",
              "var outputEl = gd.closest('.output');\n",
              "if (outputEl) {{\n",
              "    x.observe(outputEl, {childList: true});\n",
              "}}\n",
              "\n",
              "                        })                };                            </script>        </div>\n",
              "</body>\n",
              "</html>"
            ]
          },
          "metadata": {},
          "output_type": "display_data"
        }
      ],
      "source": [
        "attn_head_out_all_pos_act_patch_results = patching.get_act_patch_attn_head_out_all_pos(model, corrupted_tokens, clean_cache, ioi_metric)\n",
        "imshow(attn_head_out_all_pos_act_patch_results, \n",
        "       yaxis=\"Layer\", \n",
        "       xaxis=\"Head\", \n",
        "       title=\"IOI Metric for 'attn_head_out' Activation Patching (All Pos)\")"
      ]
    },
    {
      "cell_type": "markdown",
      "metadata": {
        "id": "P5Dt3nhUfWlD"
      },
      "source": [
        "We can also look at the values separately."
      ]
    },
    {
      "cell_type": "code",
      "execution_count": null,
      "metadata": {
        "colab": {
          "base_uri": "https://localhost:8080/",
          "height": 285,
          "referenced_widgets": [
            "c0d8e052762f4742a4589527fced5fd2",
            "6355e7df26a141b183bdfb7f8be79778",
            "5a6db6d2bd9c4d5697041d3b6cfc2ed6",
            "2c3112527ebd4790b5c9bc7fb84ff494",
            "ce028da02fad43608ca2d68936a66129",
            "8501c54f82c84882a8705833798ecfb4",
            "e39919bc2f864f57abc72184365887ec",
            "5b4e510574df4e6dae68e7cbeda49029",
            "c0047268b94745a8b8010d06f9315199",
            "6cf92f0162f946049b8d67f7a89dfc27",
            "03d73123d0644c8c81d7a0b3f810b8da"
          ]
        },
        "id": "NPjhPiz4-64X",
        "outputId": "5615b85f-ddfb-42c1-abd8-0a3c9bf06f58"
      },
      "outputs": [
        {
          "data": {
            "application/vnd.jupyter.widget-view+json": {
              "model_id": "c0d8e052762f4742a4589527fced5fd2",
              "version_major": 2,
              "version_minor": 0
            },
            "text/plain": [
              "  0%|          | 0/144 [00:00<?, ?it/s]"
            ]
          },
          "metadata": {},
          "output_type": "display_data"
        },
        {
          "ename": "NameError",
          "evalue": "ignored",
          "output_type": "error",
          "traceback": [
            "\u001b[0;31m---------------------------------------------------------------------------\u001b[0m",
            "\u001b[0;31mNameError\u001b[0m                                 Traceback (most recent call last)",
            "\u001b[0;32m<ipython-input-35-a53983f7531a>\u001b[0m in \u001b[0;36m<module>\u001b[0;34m\u001b[0m\n\u001b[1;32m      1\u001b[0m \u001b[0mattn_head_v_all_pos_act_patch_results\u001b[0m \u001b[0;34m=\u001b[0m \u001b[0mpatching\u001b[0m\u001b[0;34m.\u001b[0m\u001b[0mget_act_patch_attn_head_v_all_pos\u001b[0m\u001b[0;34m(\u001b[0m\u001b[0mmodel\u001b[0m\u001b[0;34m,\u001b[0m \u001b[0mcorrupted_tokens\u001b[0m\u001b[0;34m,\u001b[0m \u001b[0mclean_cache\u001b[0m\u001b[0;34m,\u001b[0m \u001b[0mioi_metric\u001b[0m\u001b[0;34m)\u001b[0m\u001b[0;34m\u001b[0m\u001b[0;34m\u001b[0m\u001b[0m\n\u001b[0;32m----> 2\u001b[0;31m imshow(attn_head_out_all_pos_act_patch_results, \n\u001b[0m\u001b[1;32m      3\u001b[0m        \u001b[0myaxis\u001b[0m\u001b[0;34m=\u001b[0m\u001b[0;34m\"Layer\"\u001b[0m\u001b[0;34m,\u001b[0m\u001b[0;34m\u001b[0m\u001b[0;34m\u001b[0m\u001b[0m\n\u001b[1;32m      4\u001b[0m        \u001b[0mxaxis\u001b[0m\u001b[0;34m=\u001b[0m\u001b[0;34m\"Head\"\u001b[0m\u001b[0;34m,\u001b[0m\u001b[0;34m\u001b[0m\u001b[0;34m\u001b[0m\u001b[0m\n\u001b[1;32m      5\u001b[0m        title=\"IOI Metric for 'attn_head_v' Activation Patching (All Pos)\")\n",
            "\u001b[0;31mNameError\u001b[0m: name 'attn_head_out_all_pos_act_patch_results' is not defined"
          ]
        }
      ],
      "source": [
        "attn_head_v_all_pos_act_patch_results = patching.get_act_patch_attn_head_v_all_pos(model, corrupted_tokens, clean_cache, ioi_metric)\n",
        "imshow(attn_head_out_all_pos_act_patch_results, \n",
        "       yaxis=\"Layer\", \n",
        "       xaxis=\"Head\", \n",
        "       title=\"IOI Metric for 'attn_head_v' Activation Patching (All Pos)\")"
      ]
    },
    {
      "cell_type": "code",
      "execution_count": null,
      "metadata": {
        "id": "pPQxJdMc4dtW"
      },
      "outputs": [],
      "source": []
    },
    {
      "cell_type": "markdown",
      "metadata": {
        "id": "Ef1LLrBpfnI0"
      },
      "source": [
        "We can also see what heads are important at what positions for the IOI task."
      ]
    },
    {
      "cell_type": "code",
      "execution_count": null,
      "metadata": {
        "colab": {
          "base_uri": "https://localhost:8080/",
          "height": 574,
          "referenced_widgets": [
            "2b4ed578eab0412cab5191a1cff83364",
            "96ad2b63efe349f2ab068599a0d8c74e",
            "90ca171bbc754e089e502b53713e1188",
            "50c94f552e0f4d90886bc24be7b1e198",
            "df9ccf7fb6b149b6b13a81116f0623e9",
            "063c166bc4b44f0292ca6ff9133cd0b7",
            "fffaff2fb61446a5b900e35345b2b5eb",
            "576a2c6d603d4c0486684a47c115f6c3",
            "eaa96b03fde14c8298310984e35dfda6",
            "82a9834fb9bc44199e454e8b92bbcdee",
            "2fbb8019e37846dab7d6445f91645506"
          ]
        },
        "id": "URF5gwY2fILR",
        "outputId": "5906076a-3d44-4f92-d623-39f2be9d3efa"
      },
      "outputs": [
        {
          "data": {
            "application/vnd.jupyter.widget-view+json": {
              "model_id": "2b4ed578eab0412cab5191a1cff83364",
              "version_major": 2,
              "version_minor": 0
            },
            "text/plain": [
              "  0%|          | 0/2160 [00:00<?, ?it/s]"
            ]
          },
          "metadata": {},
          "output_type": "display_data"
        },
        {
          "data": {
            "text/html": [
              "<html>\n",
              "<head><meta charset=\"utf-8\" /></head>\n",
              "<body>\n",
              "    <div>            <script src=\"https://cdnjs.cloudflare.com/ajax/libs/mathjax/2.7.5/MathJax.js?config=TeX-AMS-MML_SVG\"></script><script type=\"text/javascript\">if (window.MathJax) {MathJax.Hub.Config({SVG: {font: \"STIX-Web\"}});}</script>                <script type=\"text/javascript\">window.PlotlyConfig = {MathJaxConfig: 'local'};</script>\n",
              "        <script src=\"https://cdn.plot.ly/plotly-2.8.3.min.js\"></script>                <div id=\"7ed45f0e-4413-4ebf-a305-5374320b4716\" class=\"plotly-graph-div\" style=\"height:525px; width:100%;\"></div>            <script type=\"text/javascript\">                                    window.PLOTLYENV=window.PLOTLYENV || {};                                    if (document.getElementById(\"7ed45f0e-4413-4ebf-a305-5374320b4716\")) {                    Plotly.newPlot(                        \"7ed45f0e-4413-4ebf-a305-5374320b4716\",                        [{\"coloraxis\":\"coloraxis\",\"name\":\"0\",\"x\":[\"<|endoftext|> 0\",\"When 1\",\" John 2\",\" and 3\",\" Mary 4\",\" went 5\",\" to 6\",\" the 7\",\" shops 8\",\", 9\",\" John 10\",\" gave 11\",\" the 12\",\" bag 13\",\" to 14\"],\"y\":[\"L0H0\",\"L0H1\",\"L0H2\",\"L0H3\",\"L0H4\",\"L0H5\",\"L0H6\",\"L0H7\",\"L0H8\",\"L0H9\",\"L0H10\",\"L0H11\",\"L1H0\",\"L1H1\",\"L1H2\",\"L1H3\",\"L1H4\",\"L1H5\",\"L1H6\",\"L1H7\",\"L1H8\",\"L1H9\",\"L1H10\",\"L1H11\",\"L2H0\",\"L2H1\",\"L2H2\",\"L2H3\",\"L2H4\",\"L2H5\",\"L2H6\",\"L2H7\",\"L2H8\",\"L2H9\",\"L2H10\",\"L2H11\",\"L3H0\",\"L3H1\",\"L3H2\",\"L3H3\",\"L3H4\",\"L3H5\",\"L3H6\",\"L3H7\",\"L3H8\",\"L3H9\",\"L3H10\",\"L3H11\",\"L4H0\",\"L4H1\",\"L4H2\",\"L4H3\",\"L4H4\",\"L4H5\",\"L4H6\",\"L4H7\",\"L4H8\",\"L4H9\",\"L4H10\",\"L4H11\",\"L5H0\",\"L5H1\",\"L5H2\",\"L5H3\",\"L5H4\",\"L5H5\",\"L5H6\",\"L5H7\",\"L5H8\",\"L5H9\",\"L5H10\",\"L5H11\",\"L6H0\",\"L6H1\",\"L6H2\",\"L6H3\",\"L6H4\",\"L6H5\",\"L6H6\",\"L6H7\",\"L6H8\",\"L6H9\",\"L6H10\",\"L6H11\",\"L7H0\",\"L7H1\",\"L7H2\",\"L7H3\",\"L7H4\",\"L7H5\",\"L7H6\",\"L7H7\",\"L7H8\",\"L7H9\",\"L7H10\",\"L7H11\",\"L8H0\",\"L8H1\",\"L8H2\",\"L8H3\",\"L8H4\",\"L8H5\",\"L8H6\",\"L8H7\",\"L8H8\",\"L8H9\",\"L8H10\",\"L8H11\",\"L9H0\",\"L9H1\",\"L9H2\",\"L9H3\",\"L9H4\",\"L9H5\",\"L9H6\",\"L9H7\",\"L9H8\",\"L9H9\",\"L9H10\",\"L9H11\",\"L10H0\",\"L10H1\",\"L10H2\",\"L10H3\",\"L10H4\",\"L10H5\",\"L10H6\",\"L10H7\",\"L10H8\",\"L10H9\",\"L10H10\",\"L10H11\",\"L11H0\",\"L11H1\",\"L11H2\",\"L11H3\",\"L11H4\",\"L11H5\",\"L11H6\",\"L11H7\",\"L11H8\",\"L11H9\",\"L11H10\",\"L11H11\"],\"z\":[[0.0,0.0,0.0,0.0,0.0,0.0,0.0,0.0,0.0,0.0,0.0008391982410103083,0.0006232266314327717,-0.0006776116206310689,-3.8904236134840176e-05,-3.516052311169915e-05],[0.0,0.0,0.0,0.0,0.0,0.0,0.0,0.0,0.0,0.0,0.0013409060193225741,-4.998359509045258e-05,-1.3710075108974706e-05,-0.00018055814143735915,-6.126531661720946e-05],[0.0,0.0,0.0,0.0,0.0,0.0,0.0,0.0,0.0,0.0,0.0001864266669144854,-2.8684917197097093e-05,-3.8752463296987116e-05,-5.2664898248622194e-05,3.2883942822081735e-06],[0.0,0.0,0.0,0.0,0.0,0.0,0.0,0.0,0.0,0.0,0.002434727270156145,-8.605475159129128e-05,2.109631350322161e-05,-0.0002711154520511627,6.647615373367444e-05],[0.0,0.0,0.0,0.0,0.0,0.0,0.0,0.0,0.0,0.0,0.0036423266865313053,0.001411834149621427,-0.0005865989369340241,-0.0002593784302007407,0.0014480064855888486],[0.0,0.0,0.0,0.0,0.0,0.0,0.0,0.0,0.0,0.0,-0.001097008353099227,0.00019973200687672943,-0.00012885447358712554,-5.6509790738346055e-05,7.411534897983074e-05],[0.0,0.0,0.0,0.0,0.0,0.0,0.0,0.0,0.0,0.0,0.00022563444508705288,-0.00011013591574737802,5.033772686147131e-05,0.0002191082458011806,-3.435107282712124e-05],[0.0,0.0,0.0,0.0,0.0,0.0,0.0,0.0,0.0,0.0,0.005148664116859436,-4.052313670399599e-05,3.5919383662985638e-06,-3.1517993193119764e-05,-2.7066014808951877e-05],[0.0,0.0,0.0,0.0,0.0,0.0,0.0,0.0,0.0,0.0,-0.00017868628492578864,0.00033283609081991017,4.365975837572478e-05,-2.635774580994621e-05,-1.9072687791776843e-05],[0.0,0.0,0.0,0.0,0.0,0.0,0.0,0.0,0.0,0.0,0.0060148779302835464,0.001455645659007132,3.435107282712124e-05,-2.8684917197097093e-05,8.969727787189186e-05],[0.0,0.0,0.0,0.0,0.0,0.0,0.0,0.0,0.0,0.0,0.000601371459197253,-0.0003499357553664595,0.0006590448319911957,5.6813336414052173e-05,0.0002498673857189715],[0.0,0.0,0.0,0.0,0.0,0.0,0.0,0.0,0.0,0.0,-2.5143568564089946e-05,-2.4536480850656517e-05,-3.0455590604105964e-05,-1.5126614016480744e-05,-1.9932727809646167e-05],[0.0,0.0,0.0,0.0,0.0,0.0,0.0,0.0,0.0,0.0,-0.0005275090225040913,-0.00011317135795252398,6.075940837035887e-05,-1.0978177670040168e-05,0.00026251503732055426],[0.0,0.0,0.0,0.0,0.0,0.0,0.0,0.0,0.0,0.0,0.00010224376455880702,-5.362612137105316e-05,7.568365981569514e-05,-0.0001364430645480752,-0.0001993778714677319],[0.0,0.0,0.0,0.0,0.0,0.0,0.0,0.0,0.0,0.0,-0.0005150637589395046,0.0035590038169175386,-0.0003348597092553973,0.0004933097516186535,-6.920805026311427e-05],[0.0,0.0,0.0,0.0,0.0,0.0,0.0,0.0,0.0,0.0,-0.0005056538502685726,-0.0002033239434240386,9.865182619250845e-06,-1.5834883015486412e-05,2.3777620299370028e-05],[0.0,0.0,0.0,0.0,0.0,0.0,0.0,0.0,0.0,0.0,-0.0004034606972709298,2.377762029937003e-06,-4.3255033233435825e-05,5.686392614734359e-05,3.7335921660996974e-05],[0.0,0.0,0.0,0.0,0.0,0.0,0.0,0.0,0.0,0.0,-0.00014640943845734,-0.00016194077034015208,8.782542136032134e-05,-4.092786184628494e-05,0.0007528399582952261],[0.0,0.0,0.0,0.0,0.0,0.0,0.0,0.0,0.0,0.0,-0.0028669738676398993,8.109686314128339e-05,2.757192123681307e-05,-4.50257084594341e-06,-2.4536480850656517e-05],[0.0,0.0,0.0,0.0,0.0,0.0,0.0,0.0,0.0,0.0,-0.0005198698490858078,0.00011307017120998353,0.0003489745140541345,-0.00012197413161629811,-0.0001675057428656146],[0.0,0.0,0.0,0.0,0.0,0.0,0.0,0.0,0.0,0.0,-0.0002172869717469439,1.0371089956606738e-05,-2.7774283807957545e-05,2.5851837563095614e-05,-0.0002003896952373907],[0.0,0.0,0.0,0.0,0.0,0.0,0.0,0.0,0.0,0.0,0.00022922638163436204,1.2647670928345178e-06,-1.5126614016480744e-05,-5.5902703024912626e-05,-0.0001537450880277902],[0.0,0.0,0.0,0.0,0.0,0.0,0.0,0.0,0.0,0.0,0.0017969809705391526,-2.7875465093529783e-05,-7.436830401275074e-06,-7.03210480423877e-06,-0.0010301780421286821],[0.0,0.0,0.0,0.0,0.0,0.0,0.0,0.0,0.0,0.0,0.00010082723019877449,-0.0002367643901379779,8.807837730273604e-05,-0.00011438553337939084,0.00046497894800268114],[0.0,0.0,0.0,0.0,0.0,0.0,0.0,0.0,0.0,0.0,0.0006294998456723988,-4.0118411561707035e-05,0.00010224376455880702,-0.0005651484825648367,0.0005864977720193565],[0.0,0.0,0.0,0.0,0.0,0.0,0.0,0.0,0.0,0.0,-0.00056312489323318,0.001444313325919211,-4.973063914803788e-05,-0.0002169834333471954,0.0005127365584485233],[0.0,0.0,0.0,0.0,0.0,0.0,0.0,0.0,0.0,0.0,0.0007726714829914272,-0.000202312134206295,-3.111326805083081e-05,-0.00010831464896909893,0.000662130827549845],[0.0,0.0,0.0,0.0,0.0,0.0,0.0,0.0,0.0,0.0,-3.647588164312765e-05,-0.00048501286073587835,-2.7673102522385307e-05,0.00011984932643827051,0.001633269595913589],[0.0,0.0,0.0,0.0,0.0,0.0,0.0,0.0,0.0,0.0,0.00016052422870416194,-0.0001243013102794066,4.47727543360088e-05,0.00013441944611258805,-0.00013128282444085926],[0.0,0.0,0.0,0.0,0.0,0.0,0.0,0.0,0.0,0.0,0.00014463876141235232,9.364334982819855e-05,-4.097845248907106e-06,4.5531612613558536e-07,0.00012981568579562008],[0.0,0.0,0.0,0.0,0.0,0.0,0.0,0.0,0.0,0.0,0.003372779581695795,1.856677954492625e-05,9.607170795788988e-05,-7.53295244066976e-05,-0.00044337674626149237],[0.0,0.0,0.0,0.0,0.0,0.0,0.0,0.0,0.0,0.0,0.0003478109429124743,-8.706656080903485e-05,1.9679775505210273e-05,-0.00013846669753547758,8.301930938614532e-05],[0.0,0.0,0.0,0.0,0.0,0.0,0.0,0.0,0.0,0.0,-0.0007341213640756905,0.00029094700585119426,-2.7167196094524115e-05,0.00022077772882767022,0.00026023847749456763],[0.0,0.0,0.0,0.0,0.0,0.0,0.0,0.0,0.0,0.0,-0.000338198704412207,-0.0003286876599304378,-0.00026646110927686095,-3.263098915340379e-05,0.0023206451442092657],[0.0,0.0,0.0,0.0,0.0,0.0,0.0,0.0,0.0,0.0,0.0018681620713323355,-0.0003683507675305009,-9.910714288707823e-05,-0.0002958037075586617,-0.0001909292332129553],[0.0,0.0,0.0,0.0,0.0,0.0,0.0,0.0,0.0,0.0,0.000491488492116332,0.0003636964247561991,1.735260411805939e-05,-0.00021010309865232557,0.008741816505789757],[0.0,0.0,0.0,0.0,0.0,0.0,0.0,0.0,0.0,0.0,0.006760938558727503,0.00276250415481627,-0.0001385678770020604,-0.00027404972934164107,-0.0001748919894453138],[0.0,0.0,0.0,0.0,0.0,0.0,0.0,0.0,0.0,0.0,0.0009894019458442926,0.001079858047887683,0.0002514862862881273,6.602083885809407e-05,-0.00044737340067513287],[0.0,0.0,0.0,0.0,0.0,0.0,0.0,0.0,0.0,0.0,0.00011028768494725227,-0.0006743737612850964,0.0004029042029287666,-8.028741285670549e-05,-0.0002901375701185316],[0.0,0.0,0.0,0.0,0.0,0.0,0.0,0.0,0.0,0.0,-0.001771938637830317,-0.00010578511864878237,7.366003410425037e-05,-1.6543153833481483e-05,-4.244558294885792e-05],[0.0,0.0,0.0,0.0,0.0,0.0,0.0,0.0,0.0,0.0,-0.0008068708120845258,-0.000950598914641887,-0.00020266626961529255,-0.00024855200899764895,0.00033754101605154574],[0.0,0.0,0.0,0.0,0.0,0.0,0.0,0.0,0.0,0.0,2.8179008950246498e-05,-2.873550693038851e-05,-0.00011286781227681786,-1.9730366602743743e-06,-6.723501428496093e-05],[0.0,0.0,0.0,0.0,0.0,0.0,0.0,0.0,0.0,0.0,-0.002406952902674675,-0.00024455535458400846,-0.0001072016530088149,-1.795969183149282e-05,-0.00039708625990897417],[0.0,0.0,0.0,0.0,0.0,0.0,0.0,0.0,0.0,0.0,-0.001858853385783732,0.0003370857157278806,1.462070667912485e-05,5.175426849746145e-05,0.00013188990124035627],[0.0,0.0,0.0,0.0,0.0,0.0,0.0,0.0,0.0,0.0,0.0003527182270772755,0.00010487448162166402,-0.00015637579781468958,0.00031482582562603056,1.1686447578540538e-05],[0.0,0.0,0.0,0.0,0.0,0.0,0.0,0.0,0.0,0.0,0.00048329279525205493,0.00015364389400929213,3.0354408409039024e-07,-0.00010042250505648553,0.000517390901222825],[0.0,0.0,0.0,0.0,0.0,0.0,0.0,0.0,0.0,0.0,0.0004741358570754528,2.6560108381090686e-05,2.9848501981177833e-06,9.597052121534944e-05,0.00011089477629866451],[0.0,0.0,0.0,0.0,0.0,0.0,0.0,0.0,0.0,0.0,-0.00033354436163790524,8.155217801686376e-05,2.0691588360932656e-05,8.9545510491007e-06,0.00011873633047798648],[0.0,0.0,0.0,0.0,0.0,0.0,0.0,0.0,0.0,0.0,0.0010160632664337754,0.0009235328761860728,-2.2209309463505633e-05,0.0004985711420886219,0.004255890380591154],[0.0,0.0,0.0,0.0,0.0,0.0,0.0,0.0,0.0,0.0,0.015457729808986187,5.3676714742323384e-05,1.1079358955612406e-05,-3.4047527151415125e-05,8.676302240928635e-05],[0.0,0.0,0.0,0.0,0.0,0.0,0.0,0.0,0.0,0.0,0.0008100073901005089,0.00013371117529459298,-9.920832962961867e-05,-4.9022371968021616e-05,-0.00016755633987486362],[0.0,0.0,0.0,0.0,0.0,0.0,0.0,0.0,0.0,0.0,-3.8803053030278534e-05,-0.0002671187976375222,-6.930923518666532e-06,-0.00011312076821923256,0.0007503104279749095],[0.0,0.0,0.0,0.0,0.0,0.0,0.0,0.0,0.0,0.0,0.001179015845991671,0.00026408335543237627,8.737010648474097e-05,6.956218567211181e-05,2.544711242080666e-05],[0.0,0.0,0.0,0.0,0.0,0.0,0.0,0.0,0.0,0.0,-0.00044737340067513287,-0.00028937868773937225,0.00016548212443012744,0.00012308712757658213,0.0017980433767661452],[0.0,0.0,0.0,0.0,0.0,0.0,0.0,0.0,0.0,0.0,0.05739917606115341,-1.5025432730908506e-05,-2.2614034605794586e-05,-1.9376231648493558e-05,-2.231049074907787e-05],[0.0,0.0,0.0,0.0,0.0,0.0,0.0,0.0,0.0,0.0,-0.0020707272924482822,-0.00020079441310372204,8.398053068958689e-06,-0.00011539734259713441,-0.0001793945557437837],[0.0,0.0,0.0,0.0,0.0,0.0,0.0,0.0,0.0,0.0,0.011487980373203754,2.9747321605100296e-05,-5.312021676218137e-05,-0.000111653636849951,-0.0001672022044658661],[0.0,0.0,0.0,0.0,0.0,0.0,0.0,0.0,0.0,0.0,0.0016355460975319147,-0.00010092840966535732,-0.00011595384421525523,-0.00010942764492938295,-0.0008625711197964847],[0.0,0.0,0.0,0.0,0.0,0.0,0.0,0.0,0.0,0.0,-0.00010548157297307625,-1.9022096239496022e-05,-2.433411827951204e-05,-2.2209309463505633e-05,-5.1298949983902276e-05],[0.0,0.0,0.0,0.0,0.0,0.0,0.0,0.0,0.0,0.0,0.48294076323509216,0.00011301958147669211,4.629047543858178e-05,7.679665577597916e-05,-0.00014828129496891052],[0.0,0.0,0.0,0.0,0.0,0.0,0.0,0.0,0.0,0.0,0.018961185589432716,-3.0404999051825143e-05,-2.0691588360932656e-05,-3.293453482910991e-05,-0.0006639520870521665],[0.0,0.0,0.0,0.0,0.0,0.0,0.0,0.0,0.0,0.0,-0.003870338900014758,0.0003108291421085596,-1.4468934750766493e-05,3.0910905479686335e-05,0.0005472393822856247],[0.0,0.0,0.0,0.0,0.0,0.0,0.0,0.0,0.0,0.0,0.0010634667705744505,-4.674579031416215e-05,-2.180458432121668e-05,-1.988213807635475e-05,-9.091145329875872e-05],[0.0,0.0,0.0,0.0,0.0,0.0,0.0,0.0,0.0,0.0,-0.0022863447666168213,-0.0001179774699267,-6.075940837035887e-05,4.811173857888207e-05,0.0020061228424310684],[0.0,0.0,0.0,0.0,0.0,0.0,0.0,0.0,0.0,0.0,-0.0002620597369968891,-8.37275802041404e-05,-4.558220462058671e-05,-6.339012179523706e-05,-0.0004879471380263567],[0.0,0.0,0.0,0.0,0.0,0.0,0.0,0.0,0.0,0.0,-0.006244104355573654,0.00027850171318277717,0.00016952937585301697,6.829742051195353e-05,-0.0005457722581923008],[0.0,0.0,0.0,0.0,0.0,0.0,0.0,0.0,0.0,0.0,-2.9696730052819476e-05,-4.8465873987879604e-05,-1.6239608157775365e-05,-3.424989336053841e-05,-5.731924102292396e-05],[0.0,0.0,0.0,0.0,0.0,0.0,0.0,0.0,0.0,0.0,0.0014489677269011736,-3.8195965316845104e-05,-2.4030574422795326e-05,-1.8364416973781772e-05,-8.119804260786623e-05],[0.0,0.0,0.0,0.0,0.0,0.0,0.0,0.0,0.0,0.0,0.021052857860922813,0.04255480691790581,0.001888094819150865,0.0014158814447000623,-0.0006389603368006647],[0.0,0.0,0.0,0.0,0.0,0.0,0.0,0.0,0.0,0.0,-0.0004677108663599938,-6.308658339548856e-05,-1.8667960830498487e-05,-2.8482554625952616e-05,-3.8448917621281e-05],[0.0,0.0,0.0,0.0,0.0,0.0,0.0,0.0,0.0,0.0,0.04610242694616318,-6.080999810365029e-05,-3.0303817766252905e-05,-4.527865894488059e-05,-0.00010618984379107133],[0.0,0.0,0.0,0.0,0.0,0.0,0.0,0.0,0.0,0.0,0.003291277913376689,-0.0007940207724459469,0.00036410114262253046,0.0001148408482549712,-0.0027330603916198015],[0.0,0.0,0.0,0.0,0.0,0.0,0.0,0.0,0.0,0.0,-8.362640073755756e-05,-0.00010163668048335239,4.148435982642695e-05,0.0003911165695171803,0.0023203922901302576],[0.0,0.0,0.0,0.0,0.0,0.0,0.0,0.0,0.0,0.0,0.00014716829173266888,-3.632410880527459e-05,-4.411507325130515e-05,1.0573452527751215e-05,-0.0001092758757295087],[0.0,0.0,0.0,0.0,0.0,0.0,0.0,0.0,0.0,0.0,-0.00015192381397355348,-4.6998742618598044e-05,-0.0001922951778396964,-0.00026190796052105725,-0.0047540063969790936],[0.0,0.0,0.0,0.0,0.0,0.0,0.0,0.0,0.0,0.0,-0.000620494713075459,-2.92414133582497e-05,-7.871910202084109e-05,-4.062431617057882e-05,-0.001041358569636941],[0.0,0.0,0.0,0.0,0.0,0.0,0.0,0.0,0.0,0.0,0.0004616399819497019,-0.0001688211050350219,-1.674551640462596e-05,-1.5581930711050518e-05,0.0005453169578686357],[0.0,0.0,0.0,0.0,0.0,0.0,0.0,0.0,0.0,0.0,0.001904536853544414,0.013703801669180393,0.0006915240082889795,0.00026858592173084617,0.08688443899154663],[0.0,0.0,0.0,0.0,0.0,0.0,0.0,0.0,0.0,0.0,0.001180483028292656,0.02803715318441391,0.00013452062557917088,2.3221122319228016e-05,0.38843315839767456],[0.0,0.0,0.0,0.0,0.0,0.0,0.0,0.0,0.0,0.0,-0.0021373045165091753,0.0011764357332140207,8.534648077329621e-05,0.00015920888108666986,0.0018080603331327438],[0.0,0.0,0.0,0.0,0.0,0.0,0.0,0.0,0.0,0.0,0.00035145346191711724,-0.0003257534117437899,1.1028768312826287e-05,-0.00011054064088966697,0.00019866960064973682],[0.0,0.0,0.0,0.0,0.0,0.0,0.0,0.0,0.0,0.0,-3.328867023810744e-05,-2.625656452437397e-05,-2.762251278909389e-05,2.681306114027393e-06,-8.651006282889284e-06],[0.0,0.0,0.0,0.0,0.0,0.0,0.0,0.0,0.0,0.0,-0.0021721108350902796,-7.219290273496881e-05,-2.6458927095518447e-05,-1.0674633813323453e-05,-0.00029651197837665677],[0.0,0.0,0.0,0.0,0.0,0.0,0.0,0.0,0.0,0.0,0.0030330631416291,0.0007525364053435624,-1.335593969997717e-05,-1.3001805200474337e-05,0.018739698454737663],[0.0,0.0,0.0,0.0,0.0,0.0,0.0,0.0,0.0,0.0,0.0015661357901990414,0.00017873688193503767,4.047254549277568e-07,-3.748769449885003e-05,-0.0006968866218812764],[0.0,0.0,0.0,0.0,0.0,0.0,0.0,0.0,0.0,0.0,-5.104599767946638e-05,-2.377762029937003e-06,-0.00010234495130134746,-7.436830401275074e-06,-0.000853313016705215],[0.0,0.0,0.0,0.0,0.0,0.0,0.0,0.0,0.0,0.0,-0.0012749863089993596,0.0011296393349766731,0.00014079386892262846,4.148435891693225e-06,0.06262003630399704],[0.0,0.0,0.0,0.0,0.0,0.0,0.0,0.0,0.0,0.0,6.480666343122721e-05,0.00018733729666564614,-1.988213807635475e-05,-1.9679775505210273e-05,-0.001434599980711937],[0.0,0.0,0.0,0.0,0.0,0.0,0.0,0.0,0.0,0.0,-0.0003723980044014752,0.0002294287405675277,-7.512716547353193e-05,-4.436802919371985e-05,0.004412367474287748],[0.0,0.0,0.0,0.0,0.0,0.0,0.0,0.0,0.0,0.0,0.00017286835645791143,-0.00013472298451233655,-1.0219318028248381e-05,-2.696483352337964e-05,-0.0013052901485934854],[0.0,0.0,0.0,0.0,0.0,0.0,0.0,0.0,0.0,0.0,-0.006284576840698719,0.00011812923912657425,1.9528002667357214e-05,-1.0624042943163658e-06,-0.007031750865280628],[0.0,0.0,0.0,0.0,0.0,0.0,0.0,0.0,0.0,0.0,-0.0008502776036038995,0.00010204140562564135,-8.989964408101514e-05,-1.5834883015486412e-05,0.006199635099619627],[0.0,0.0,0.0,0.0,0.0,0.0,0.0,0.0,0.0,0.0,-0.00023261595924850553,-5.286726081976667e-05,-0.00011575147800613195,-4.5481021516025066e-05,-0.001442340319044888],[0.0,0.0,0.0,0.0,0.0,0.0,0.0,0.0,0.0,0.0,-0.0004219768743496388,0.0017427983693778515,0.00013684779696632177,-6.7791515903081745e-06,0.04685961827635765],[0.0,0.0,0.0,0.0,0.0,0.0,0.0,0.0,0.0,0.0,-0.0009741235990077257,-0.00039106595795601606,-2.7167196094524115e-05,-9.00514169188682e-06,-0.006029296200722456],[0.0,0.0,0.0,0.0,0.0,0.0,0.0,0.0,0.0,0.0,0.0007445430383086205,0.008002636022865772,-4.87188262923155e-05,-2.0084500647499226e-05,0.037921104580163956],[0.0,0.0,0.0,0.0,0.0,0.0,0.0,0.0,0.0,0.0,0.00031401636078953743,-1.1939400792471133e-05,2.529534128825617e-07,-1.8870325220632367e-05,-5.509325274033472e-05],[0.0,0.0,0.0,0.0,0.0,0.0,0.0,0.0,0.0,0.0,-0.00030824902933090925,0.0009009694331325591,-3.996663963334868e-06,6.576788678103185e-07,-1.340653034276329e-05],[0.0,0.0,0.0,0.0,0.0,0.0,0.0,0.0,0.0,0.0,-1.7757329260348342e-05,0.004852101672440767,-2.833078269759426e-06,-2.478943315509241e-06,0.04561230540275574],[0.0,0.0,0.0,0.0,0.0,0.0,0.0,0.0,0.0,0.0,-4.7049334170878865e-06,-1.3102986486046575e-05,-9.612230087441276e-07,5.05906818659696e-08,-3.455343539826572e-05],[0.0,0.0,0.0,0.0,0.0,0.0,0.0,0.0,0.0,0.0,-9.61222940532025e-06,3.961250331485644e-05,2.8988461053813808e-05,-2.7824873995996313e-06,-0.0021148421801626682],[0.0,0.0,0.0,0.0,0.0,0.0,0.0,0.0,0.0,0.0,-5.413202870840905e-06,0.00011382903176127002,-5.317080649547279e-05,-3.677942731883377e-05,0.00025684889988042414],[0.0,0.0,0.0,0.0,0.0,0.0,0.0,0.0,0.0,0.0,-3.323807686683722e-05,-2.0185681933071464e-05,5.05906818659696e-08,-1.669492485234514e-05,0.00056312489323318],[0.0,0.0,0.0,0.0,0.0,0.0,0.0,0.0,0.0,0.0,-0.0015720042865723372,-0.0006995173753239214,-0.00010371089592808858,-1.4317162822408136e-05,0.009395448490977287],[0.0,0.0,0.0,0.0,0.0,0.0,0.0,0.0,0.0,0.0,-2.5953020667657256e-05,-0.00016871992556843907,-5.615565896732733e-06,4.047254549277568e-07,0.01708897575736046],[0.0,0.0,0.0,0.0,0.0,0.0,0.0,0.0,0.0,0.0,0.0008754717418923974,0.01423085480928421,0.0005719782202504575,-1.6037245586630888e-05,0.3597224950790405],[0.0,0.0,0.0,0.0,0.0,0.0,0.0,0.0,0.0,0.0,0.001243873150087893,0.01558946818113327,0.00013011923874728382,-6.42501663605799e-06,0.2634112238883972],[0.0,0.0,0.0,0.0,0.0,0.0,0.0,0.0,0.0,0.0,-2.888727976824157e-05,0.0018304215045645833,-3.1872129966359353e-06,-1.532897658762522e-05,-0.0010239554103463888],[0.0,0.0,0.0,0.0,0.0,0.0,0.0,0.0,0.0,0.0,-2.7824873995996313e-06,1.3659484466188587e-05,-7.588602102259756e-07,1.5177204204519512e-07,0.002651204587891698],[0.0,0.0,0.0,0.0,0.0,0.0,0.0,0.0,0.0,0.0,-0.00011347489635227248,-0.007258750963956118,-2.5750656277523376e-05,7.993327926669735e-06,-0.12019197642803192],[0.0,0.0,0.0,0.0,0.0,0.0,0.0,0.0,0.0,0.0,-2.529534128825617e-07,0.00012081054592272267,0.0,-1.011813637319392e-07,0.005525767337530851],[0.0,0.0,0.0,0.0,0.0,0.0,0.0,0.0,0.0,0.0,-3.6931198792444775e-06,-0.0001311310479650274,5.66109738429077e-05,-0.00012288476864341646,-0.0010095370234921575],[0.0,0.0,0.0,0.0,0.0,0.0,0.0,0.0,0.0,0.0,-5.05906818659696e-08,7.0574002165813e-05,-6.070881681807805e-07,-1.5177204204519512e-07,4.047254606120987e-06],[0.0,0.0,0.0,0.0,0.0,0.0,0.0,0.0,0.0,0.0,0.00013077691255602986,-0.005601248703896999,2.099513221764937e-05,2.175399231418851e-06,-0.09674562513828278],[0.0,0.0,0.0,0.0,0.0,0.0,0.0,0.0,0.0,0.0,5.05906818659696e-08,0.0013238063547760248,0.000157488786499016,1.214176336361561e-06,0.07058437168598175],[0.0,0.0,0.0,0.0,0.0,0.0,0.0,0.0,0.0,0.0,-0.00030511239310726523,-0.0003997675667051226,2.0742179458466126e-06,2.5801248284551548e-06,0.0024160591419786215],[0.0,0.0,0.0,0.0,0.0,0.0,0.0,0.0,0.0,0.0,2.5801248284551548e-06,9.672938176663592e-05,1.365948378406756e-06,-1.5177204204519512e-07,0.004210004583001137],[0.0,0.0,0.0,0.0,0.0,0.0,0.0,0.0,0.0,0.0,-6.070881681807805e-07,0.0016438430175185204,-4.047254549277568e-07,-2.529534128825617e-07,-0.00605939794331789],[0.0,0.0,0.0,0.0,0.0,0.0,0.0,0.0,0.0,0.0,-0.000273341458523646,3.2074491173261777e-05,3.0354408409039024e-07,1.2647670928345178e-06,5.312021585268667e-06],[0.0,0.0,0.0,0.0,0.0,0.0,0.0,0.0,0.0,0.0,-5.413202870840905e-06,-1.9730366602743743e-06,-3.3389849249942927e-06,2.377762029937003e-06,-6.930923518666532e-06],[0.0,0.0,0.0,0.0,0.0,0.0,0.0,0.0,0.0,0.0,0.0,5.05906818659696e-08,0.0,0.0,0.0012225743848830462],[0.0,0.0,0.0,0.0,0.0,0.0,0.0,0.0,0.0,0.0,0.0,4.7707013436593115e-05,7.583542901556939e-05,-5.05906818659696e-08,0.0328475683927536],[0.0,0.0,0.0,0.0,0.0,0.0,0.0,0.0,0.0,0.0,1.011813637319392e-07,0.00013173813931643963,-2.883668912545545e-06,0.0,-0.011126358062028885],[0.0,0.0,0.0,0.0,0.0,0.0,0.0,0.0,0.0,0.0,0.0,-7.588602102259756e-07,5.05906818659696e-08,0.0,-0.0012346149887889624],[0.0,0.0,0.0,0.0,0.0,0.0,0.0,0.0,0.0,0.0,0.00018379594257567078,0.0,0.0,0.0,0.0029020332731306553],[0.0,0.0,0.0,0.0,0.0,0.0,0.0,0.0,0.0,0.0,-7.942737283883616e-06,-1.8870325220632367e-05,1.0118136515302467e-06,-1.568311176924908e-06,-0.0003586879465728998],[0.0,0.0,0.0,0.0,0.0,0.0,0.0,0.0,0.0,0.0,0.0,5.05906818659696e-08,-1.4924251445336267e-05,0.0,-1.5177204204519512e-07],[0.0,0.0,0.0,0.0,0.0,0.0,0.0,0.0,0.0,0.0,0.0,0.0018566274084150791,-7.234467375383247e-06,0.0,0.10253646224737167],[0.0,0.0,0.0,0.0,0.0,0.0,0.0,0.0,0.0,0.0,0.0,-5.772396980319172e-05,0.0,0.0,0.053257063031196594],[0.0,0.0,0.0,0.0,0.0,0.0,0.0,0.0,0.0,0.0,-5.05906818659696e-08,2.478943315509241e-06,0.00014969782205298543,-5.246253567747772e-05,9.156913438346237e-05],[0.0,0.0,0.0,0.0,0.0,0.0,0.0,0.0,0.0,0.0,0.0,7.26988073438406e-05,4.5531612613558536e-07,0.0,0.013540140353143215],[0.0,0.0,0.0,0.0,0.0,0.0,0.0,0.0,0.0,0.0,0.0,0.00033799634547904134,5.05906818659696e-08,0.0,-0.0001816711446736008],[0.0,0.0,0.0,0.0,0.0,0.0,0.0,0.0,0.0,0.0,0.0,0.0,0.0,0.0,0.004510968923568726],[0.0,0.0,0.0,0.0,0.0,0.0,0.0,0.0,0.0,0.0,0.0,0.0,0.0,0.0,-0.0008315590093843639],[0.0,0.0,0.0,0.0,0.0,0.0,0.0,0.0,0.0,0.0,0.0,0.0,0.0,0.0,7.608838495798409e-05],[0.0,0.0,0.0,0.0,0.0,0.0,0.0,0.0,0.0,0.0,0.0,0.0,0.0,0.0,0.0],[0.0,0.0,0.0,0.0,0.0,0.0,0.0,0.0,0.0,0.0,0.0,0.0,0.0,0.0,0.0004154000780545175],[0.0,0.0,0.0,0.0,0.0,0.0,0.0,0.0,0.0,0.0,0.0,0.0,0.0,0.0,-0.0019191575702279806],[0.0,0.0,0.0,0.0,0.0,0.0,0.0,0.0,0.0,0.0,0.0,0.0,0.0,0.0,0.01031250599771738],[0.0,0.0,0.0,0.0,0.0,0.0,0.0,0.0,0.0,0.0,0.0,0.0,0.0,0.0,4.851646372117102e-05],[0.0,0.0,0.0,0.0,0.0,0.0,0.0,0.0,0.0,0.0,0.0,0.0,0.0,0.0,1.315357735620637e-06],[0.0,0.0,0.0,0.0,0.0,0.0,0.0,0.0,0.0,0.0,0.0,0.0,0.0,0.0,0.0044491467997431755],[0.0,0.0,0.0,0.0,0.0,0.0,0.0,0.0,0.0,0.0,0.0,0.0,0.0,0.0,0.0],[0.0,0.0,0.0,0.0,0.0,0.0,0.0,0.0,0.0,0.0,0.0,0.0,0.0,0.0,0.0008502776036038995]],\"type\":\"heatmap\",\"xaxis\":\"x\",\"yaxis\":\"y\",\"hovertemplate\":\"x: %{x}<br>y: %{y}<br>color: %{z}<extra></extra>\"}],                        {\"template\":{\"data\":{\"bar\":[{\"error_x\":{\"color\":\"#2a3f5f\"},\"error_y\":{\"color\":\"#2a3f5f\"},\"marker\":{\"line\":{\"color\":\"#E5ECF6\",\"width\":0.5},\"pattern\":{\"fillmode\":\"overlay\",\"size\":10,\"solidity\":0.2}},\"type\":\"bar\"}],\"barpolar\":[{\"marker\":{\"line\":{\"color\":\"#E5ECF6\",\"width\":0.5},\"pattern\":{\"fillmode\":\"overlay\",\"size\":10,\"solidity\":0.2}},\"type\":\"barpolar\"}],\"carpet\":[{\"aaxis\":{\"endlinecolor\":\"#2a3f5f\",\"gridcolor\":\"white\",\"linecolor\":\"white\",\"minorgridcolor\":\"white\",\"startlinecolor\":\"#2a3f5f\"},\"baxis\":{\"endlinecolor\":\"#2a3f5f\",\"gridcolor\":\"white\",\"linecolor\":\"white\",\"minorgridcolor\":\"white\",\"startlinecolor\":\"#2a3f5f\"},\"type\":\"carpet\"}],\"choropleth\":[{\"colorbar\":{\"outlinewidth\":0,\"ticks\":\"\"},\"type\":\"choropleth\"}],\"contour\":[{\"colorbar\":{\"outlinewidth\":0,\"ticks\":\"\"},\"colorscale\":[[0.0,\"#0d0887\"],[0.1111111111111111,\"#46039f\"],[0.2222222222222222,\"#7201a8\"],[0.3333333333333333,\"#9c179e\"],[0.4444444444444444,\"#bd3786\"],[0.5555555555555556,\"#d8576b\"],[0.6666666666666666,\"#ed7953\"],[0.7777777777777778,\"#fb9f3a\"],[0.8888888888888888,\"#fdca26\"],[1.0,\"#f0f921\"]],\"type\":\"contour\"}],\"contourcarpet\":[{\"colorbar\":{\"outlinewidth\":0,\"ticks\":\"\"},\"type\":\"contourcarpet\"}],\"heatmap\":[{\"colorbar\":{\"outlinewidth\":0,\"ticks\":\"\"},\"colorscale\":[[0.0,\"#0d0887\"],[0.1111111111111111,\"#46039f\"],[0.2222222222222222,\"#7201a8\"],[0.3333333333333333,\"#9c179e\"],[0.4444444444444444,\"#bd3786\"],[0.5555555555555556,\"#d8576b\"],[0.6666666666666666,\"#ed7953\"],[0.7777777777777778,\"#fb9f3a\"],[0.8888888888888888,\"#fdca26\"],[1.0,\"#f0f921\"]],\"type\":\"heatmap\"}],\"heatmapgl\":[{\"colorbar\":{\"outlinewidth\":0,\"ticks\":\"\"},\"colorscale\":[[0.0,\"#0d0887\"],[0.1111111111111111,\"#46039f\"],[0.2222222222222222,\"#7201a8\"],[0.3333333333333333,\"#9c179e\"],[0.4444444444444444,\"#bd3786\"],[0.5555555555555556,\"#d8576b\"],[0.6666666666666666,\"#ed7953\"],[0.7777777777777778,\"#fb9f3a\"],[0.8888888888888888,\"#fdca26\"],[1.0,\"#f0f921\"]],\"type\":\"heatmapgl\"}],\"histogram\":[{\"marker\":{\"pattern\":{\"fillmode\":\"overlay\",\"size\":10,\"solidity\":0.2}},\"type\":\"histogram\"}],\"histogram2d\":[{\"colorbar\":{\"outlinewidth\":0,\"ticks\":\"\"},\"colorscale\":[[0.0,\"#0d0887\"],[0.1111111111111111,\"#46039f\"],[0.2222222222222222,\"#7201a8\"],[0.3333333333333333,\"#9c179e\"],[0.4444444444444444,\"#bd3786\"],[0.5555555555555556,\"#d8576b\"],[0.6666666666666666,\"#ed7953\"],[0.7777777777777778,\"#fb9f3a\"],[0.8888888888888888,\"#fdca26\"],[1.0,\"#f0f921\"]],\"type\":\"histogram2d\"}],\"histogram2dcontour\":[{\"colorbar\":{\"outlinewidth\":0,\"ticks\":\"\"},\"colorscale\":[[0.0,\"#0d0887\"],[0.1111111111111111,\"#46039f\"],[0.2222222222222222,\"#7201a8\"],[0.3333333333333333,\"#9c179e\"],[0.4444444444444444,\"#bd3786\"],[0.5555555555555556,\"#d8576b\"],[0.6666666666666666,\"#ed7953\"],[0.7777777777777778,\"#fb9f3a\"],[0.8888888888888888,\"#fdca26\"],[1.0,\"#f0f921\"]],\"type\":\"histogram2dcontour\"}],\"mesh3d\":[{\"colorbar\":{\"outlinewidth\":0,\"ticks\":\"\"},\"type\":\"mesh3d\"}],\"parcoords\":[{\"line\":{\"colorbar\":{\"outlinewidth\":0,\"ticks\":\"\"}},\"type\":\"parcoords\"}],\"pie\":[{\"automargin\":true,\"type\":\"pie\"}],\"scatter\":[{\"marker\":{\"colorbar\":{\"outlinewidth\":0,\"ticks\":\"\"}},\"type\":\"scatter\"}],\"scatter3d\":[{\"line\":{\"colorbar\":{\"outlinewidth\":0,\"ticks\":\"\"}},\"marker\":{\"colorbar\":{\"outlinewidth\":0,\"ticks\":\"\"}},\"type\":\"scatter3d\"}],\"scattercarpet\":[{\"marker\":{\"colorbar\":{\"outlinewidth\":0,\"ticks\":\"\"}},\"type\":\"scattercarpet\"}],\"scattergeo\":[{\"marker\":{\"colorbar\":{\"outlinewidth\":0,\"ticks\":\"\"}},\"type\":\"scattergeo\"}],\"scattergl\":[{\"marker\":{\"colorbar\":{\"outlinewidth\":0,\"ticks\":\"\"}},\"type\":\"scattergl\"}],\"scattermapbox\":[{\"marker\":{\"colorbar\":{\"outlinewidth\":0,\"ticks\":\"\"}},\"type\":\"scattermapbox\"}],\"scatterpolar\":[{\"marker\":{\"colorbar\":{\"outlinewidth\":0,\"ticks\":\"\"}},\"type\":\"scatterpolar\"}],\"scatterpolargl\":[{\"marker\":{\"colorbar\":{\"outlinewidth\":0,\"ticks\":\"\"}},\"type\":\"scatterpolargl\"}],\"scatterternary\":[{\"marker\":{\"colorbar\":{\"outlinewidth\":0,\"ticks\":\"\"}},\"type\":\"scatterternary\"}],\"surface\":[{\"colorbar\":{\"outlinewidth\":0,\"ticks\":\"\"},\"colorscale\":[[0.0,\"#0d0887\"],[0.1111111111111111,\"#46039f\"],[0.2222222222222222,\"#7201a8\"],[0.3333333333333333,\"#9c179e\"],[0.4444444444444444,\"#bd3786\"],[0.5555555555555556,\"#d8576b\"],[0.6666666666666666,\"#ed7953\"],[0.7777777777777778,\"#fb9f3a\"],[0.8888888888888888,\"#fdca26\"],[1.0,\"#f0f921\"]],\"type\":\"surface\"}],\"table\":[{\"cells\":{\"fill\":{\"color\":\"#EBF0F8\"},\"line\":{\"color\":\"white\"}},\"header\":{\"fill\":{\"color\":\"#C8D4E3\"},\"line\":{\"color\":\"white\"}},\"type\":\"table\"}]},\"layout\":{\"annotationdefaults\":{\"arrowcolor\":\"#2a3f5f\",\"arrowhead\":0,\"arrowwidth\":1},\"autotypenumbers\":\"strict\",\"coloraxis\":{\"colorbar\":{\"outlinewidth\":0,\"ticks\":\"\"}},\"colorscale\":{\"diverging\":[[0,\"#8e0152\"],[0.1,\"#c51b7d\"],[0.2,\"#de77ae\"],[0.3,\"#f1b6da\"],[0.4,\"#fde0ef\"],[0.5,\"#f7f7f7\"],[0.6,\"#e6f5d0\"],[0.7,\"#b8e186\"],[0.8,\"#7fbc41\"],[0.9,\"#4d9221\"],[1,\"#276419\"]],\"sequential\":[[0.0,\"#0d0887\"],[0.1111111111111111,\"#46039f\"],[0.2222222222222222,\"#7201a8\"],[0.3333333333333333,\"#9c179e\"],[0.4444444444444444,\"#bd3786\"],[0.5555555555555556,\"#d8576b\"],[0.6666666666666666,\"#ed7953\"],[0.7777777777777778,\"#fb9f3a\"],[0.8888888888888888,\"#fdca26\"],[1.0,\"#f0f921\"]],\"sequentialminus\":[[0.0,\"#0d0887\"],[0.1111111111111111,\"#46039f\"],[0.2222222222222222,\"#7201a8\"],[0.3333333333333333,\"#9c179e\"],[0.4444444444444444,\"#bd3786\"],[0.5555555555555556,\"#d8576b\"],[0.6666666666666666,\"#ed7953\"],[0.7777777777777778,\"#fb9f3a\"],[0.8888888888888888,\"#fdca26\"],[1.0,\"#f0f921\"]]},\"colorway\":[\"#636efa\",\"#EF553B\",\"#00cc96\",\"#ab63fa\",\"#FFA15A\",\"#19d3f3\",\"#FF6692\",\"#B6E880\",\"#FF97FF\",\"#FECB52\"],\"font\":{\"color\":\"#2a3f5f\"},\"geo\":{\"bgcolor\":\"white\",\"lakecolor\":\"white\",\"landcolor\":\"#E5ECF6\",\"showlakes\":true,\"showland\":true,\"subunitcolor\":\"white\"},\"hoverlabel\":{\"align\":\"left\"},\"hovermode\":\"closest\",\"mapbox\":{\"style\":\"light\"},\"paper_bgcolor\":\"white\",\"plot_bgcolor\":\"#E5ECF6\",\"polar\":{\"angularaxis\":{\"gridcolor\":\"white\",\"linecolor\":\"white\",\"ticks\":\"\"},\"bgcolor\":\"#E5ECF6\",\"radialaxis\":{\"gridcolor\":\"white\",\"linecolor\":\"white\",\"ticks\":\"\"}},\"scene\":{\"xaxis\":{\"backgroundcolor\":\"#E5ECF6\",\"gridcolor\":\"white\",\"gridwidth\":2,\"linecolor\":\"white\",\"showbackground\":true,\"ticks\":\"\",\"zerolinecolor\":\"white\"},\"yaxis\":{\"backgroundcolor\":\"#E5ECF6\",\"gridcolor\":\"white\",\"gridwidth\":2,\"linecolor\":\"white\",\"showbackground\":true,\"ticks\":\"\",\"zerolinecolor\":\"white\"},\"zaxis\":{\"backgroundcolor\":\"#E5ECF6\",\"gridcolor\":\"white\",\"gridwidth\":2,\"linecolor\":\"white\",\"showbackground\":true,\"ticks\":\"\",\"zerolinecolor\":\"white\"}},\"shapedefaults\":{\"line\":{\"color\":\"#2a3f5f\"}},\"ternary\":{\"aaxis\":{\"gridcolor\":\"white\",\"linecolor\":\"white\",\"ticks\":\"\"},\"baxis\":{\"gridcolor\":\"white\",\"linecolor\":\"white\",\"ticks\":\"\"},\"bgcolor\":\"#E5ECF6\",\"caxis\":{\"gridcolor\":\"white\",\"linecolor\":\"white\",\"ticks\":\"\"}},\"title\":{\"x\":0.05},\"xaxis\":{\"automargin\":true,\"gridcolor\":\"white\",\"linecolor\":\"white\",\"ticks\":\"\",\"title\":{\"standoff\":15},\"zerolinecolor\":\"white\",\"zerolinewidth\":2},\"yaxis\":{\"automargin\":true,\"gridcolor\":\"white\",\"linecolor\":\"white\",\"ticks\":\"\",\"title\":{\"standoff\":15},\"zerolinecolor\":\"white\",\"zerolinewidth\":2}}},\"xaxis\":{\"anchor\":\"y\",\"domain\":[0.0,1.0],\"title\":{\"text\":\"Pos\"}},\"yaxis\":{\"anchor\":\"x\",\"domain\":[0.0,1.0],\"autorange\":\"reversed\",\"title\":{\"text\":\"Head Label\"}},\"coloraxis\":{\"colorscale\":[[0.0,\"rgb(103,0,31)\"],[0.1,\"rgb(178,24,43)\"],[0.2,\"rgb(214,96,77)\"],[0.3,\"rgb(244,165,130)\"],[0.4,\"rgb(253,219,199)\"],[0.5,\"rgb(247,247,247)\"],[0.6,\"rgb(209,229,240)\"],[0.7,\"rgb(146,197,222)\"],[0.8,\"rgb(67,147,195)\"],[0.9,\"rgb(33,102,172)\"],[1.0,\"rgb(5,48,97)\"]],\"cmid\":0.0},\"title\":{\"text\":\"attn_head_out Activation Patching By Pos\"}},                        {\"responsive\": true}                    ).then(function(){\n",
              "                            \n",
              "var gd = document.getElementById('7ed45f0e-4413-4ebf-a305-5374320b4716');\n",
              "var x = new MutationObserver(function (mutations, observer) {{\n",
              "        var display = window.getComputedStyle(gd).display;\n",
              "        if (!display || display === 'none') {{\n",
              "            console.log([gd, 'removed!']);\n",
              "            Plotly.purge(gd);\n",
              "            observer.disconnect();\n",
              "        }}\n",
              "}});\n",
              "\n",
              "// Listen for the removal of the full notebook cells\n",
              "var notebookContainer = gd.closest('#notebook-container');\n",
              "if (notebookContainer) {{\n",
              "    x.observe(notebookContainer, {childList: true});\n",
              "}}\n",
              "\n",
              "// Listen for the clearing of the current output cell\n",
              "var outputEl = gd.closest('.output');\n",
              "if (outputEl) {{\n",
              "    x.observe(outputEl, {childList: true});\n",
              "}}\n",
              "\n",
              "                        })                };                            </script>        </div>\n",
              "</body>\n",
              "</html>"
            ]
          },
          "metadata": {},
          "output_type": "display_data"
        }
      ],
      "source": [
        "ALL_HEAD_LABELS = [f\"L{i}H{j}\" for i in range(model.cfg.n_layers) for j in range(model.cfg.n_heads)]\n",
        "if DO_SLOW_RUNS:\n",
        "    attn_head_out_act_patch_results = patching.get_act_patch_attn_head_out_by_pos(model, corrupted_tokens, clean_cache, ioi_metric)\n",
        "    attn_head_out_act_patch_results = einops.rearrange(attn_head_out_act_patch_results, \"layer pos head -> (layer head) pos\")\n",
        "    imshow(attn_head_out_act_patch_results, \n",
        "        yaxis=\"Head Label\", \n",
        "        xaxis=\"Pos\", \n",
        "        x=[f\"{tok} {i}\" for i, tok in enumerate(model.to_str_tokens(clean_tokens[0]))],\n",
        "        y=ALL_HEAD_LABELS,\n",
        "        title=\"attn_head_out Activation Patching By Pos\")"
      ]
    },
    {
      "cell_type": "markdown",
      "metadata": {
        "id": "XqgoTFlwf0DS"
      },
      "source": [
        "### Multiple Activation Types"
      ]
    },
    {
      "cell_type": "code",
      "execution_count": null,
      "metadata": {
        "colab": {
          "base_uri": "https://localhost:8080/",
          "height": 638,
          "referenced_widgets": [
            "830fda49b567472b91d0c2c210db34cf",
            "8d3b5565501247f7954ae0b18dba7c58",
            "7f924ae9b05f451b9a6c8eb4920f2c2b",
            "63bd8043677442e696ccc0d8a3fe5839",
            "91970688d85e42eb90aa86ccd0a91be7",
            "cdffa3c04b2a4318adac0c9070e40200",
            "8109a631fa3f4443885ecd6953c1137e",
            "addabcbe6ef94a49b1ab76027ce7bd31",
            "1e837c99ea954afea4ad0fb78656c437",
            "508c777cf4ba400388cabd026ed1a08c",
            "30bd8772a8ca42a59c6db93865c61581",
            "9025a4ebdb5f4881aaf62e5f84e6414d",
            "3674a319ee694b939cd4ddda552948d4",
            "8d0ec28c53b042f78568e8d2323e4d29",
            "0d12e07a6cd747588e0d8360a4d9a8d5",
            "8e7c46f6e6624ea8926d067813711c89",
            "7fefca14bcba4b5092ab98577a088b9f",
            "d466487165f84d89bf112aefb990e880",
            "3407bb38c9c34c08a93eb3f95733b525",
            "ec0581dd1df844639b90b53a455454f9",
            "5530412cffde446ba35ae281cbebf6c2",
            "4821854623904c838635611c3725f278",
            "75995faef432410299c34717b1da96e2",
            "9b1f31b34c9342fc8a1b2bfef0cf1f29",
            "81e526b016b7440abf420cc44f64b236",
            "3dcc933a7d134c39ace2c20beee3028c",
            "9c78081eb3fe4146a1d79df360cd66eb",
            "0abe281fc6e5443e87a9a7d28419783a",
            "aeb95b87161f46f6bf173943b77a4e52",
            "1b57fa43b71a4aba9a1c48b32e090a21",
            "375136b0c3754f79825f46860f010a55",
            "ec4883abcba84051ae9d6c41ddefbcb6",
            "a0e05b2d05ba4674983ec9349f57b8ca"
          ]
        },
        "id": "FQsuV1gxf5lw",
        "outputId": "47fa8c98-20fd-402d-9aba-ad3c26c53b08"
      },
      "outputs": [
        {
          "data": {
            "application/vnd.jupyter.widget-view+json": {
              "model_id": "830fda49b567472b91d0c2c210db34cf",
              "version_major": 2,
              "version_minor": 0
            },
            "text/plain": [
              "  0%|          | 0/180 [00:00<?, ?it/s]"
            ]
          },
          "metadata": {},
          "output_type": "display_data"
        },
        {
          "data": {
            "application/vnd.jupyter.widget-view+json": {
              "model_id": "9025a4ebdb5f4881aaf62e5f84e6414d",
              "version_major": 2,
              "version_minor": 0
            },
            "text/plain": [
              "  0%|          | 0/180 [00:00<?, ?it/s]"
            ]
          },
          "metadata": {},
          "output_type": "display_data"
        },
        {
          "data": {
            "application/vnd.jupyter.widget-view+json": {
              "model_id": "75995faef432410299c34717b1da96e2",
              "version_major": 2,
              "version_minor": 0
            },
            "text/plain": [
              "  0%|          | 0/180 [00:00<?, ?it/s]"
            ]
          },
          "metadata": {},
          "output_type": "display_data"
        },
        {
          "data": {
            "text/html": [
              "<html>\n",
              "<head><meta charset=\"utf-8\" /></head>\n",
              "<body>\n",
              "    <div>            <script src=\"https://cdnjs.cloudflare.com/ajax/libs/mathjax/2.7.5/MathJax.js?config=TeX-AMS-MML_SVG\"></script><script type=\"text/javascript\">if (window.MathJax) {MathJax.Hub.Config({SVG: {font: \"STIX-Web\"}});}</script>                <script type=\"text/javascript\">window.PlotlyConfig = {MathJaxConfig: 'local'};</script>\n",
              "        <script src=\"https://cdn.plot.ly/plotly-2.8.3.min.js\"></script>                <div id=\"8f2681eb-fc0a-4738-bb27-0047e242edd5\" class=\"plotly-graph-div\" style=\"height:525px; width:100%;\"></div>            <script type=\"text/javascript\">                                    window.PLOTLYENV=window.PLOTLYENV || {};                                    if (document.getElementById(\"8f2681eb-fc0a-4738-bb27-0047e242edd5\")) {                    Plotly.newPlot(                        \"8f2681eb-fc0a-4738-bb27-0047e242edd5\",                        [{\"coloraxis\":\"coloraxis\",\"name\":\"0\",\"x\":[\"<|endoftext|>_0\",\"When_1\",\" John_2\",\" and_3\",\" Mary_4\",\" went_5\",\" to_6\",\" the_7\",\" shops_8\",\",_9\",\" John_10\",\" gave_11\",\" the_12\",\" bag_13\",\" to_14\"],\"z\":[[0.0,0.0,0.0,0.0,0.0,0.0,0.0,0.0,0.0,0.0,1.0,0.0,0.0,0.0,0.0],[0.0,0.0,0.0,0.0,0.0,0.0,0.0,0.0,0.0,0.0,0.9909893274307251,0.005019607488065958,-0.0008164829923771322,-0.00022082832583691925,0.0026190290227532387],[0.0,0.0,0.0,0.0,0.0,0.0,0.0,0.0,0.0,0.0,0.98685622215271,0.014182338491082191,-0.0009836852550506592,-0.00033116660779342055,0.0005660591414198279],[0.0,0.0,0.0,0.0,0.0,0.0,0.0,0.0,0.0,0.0,0.9849092960357666,0.006124254781752825,-0.0006885897601023316,-0.001232034876011312,0.012315542437136173],[0.0,0.0,0.0,0.0,0.0,0.0,0.0,0.0,0.0,0.0,0.9842868447303772,0.00881851278245449,0.00035580425173975527,-0.0005383354728110135,0.006766452919691801],[0.0,0.0,0.0,0.0,0.0,0.0,0.0,0.0,0.0,0.0,0.9829739332199097,0.0024078129790723324,0.001112033729441464,-0.0006830753991380334,0.013787124305963516],[0.0,0.0,0.0,0.0,0.0,0.0,0.0,0.0,0.0,0.0,0.9566123485565186,0.04467000439763069,0.0028279179241508245,0.0005082846037112176,0.004269701894372702],[0.0,0.0,0.0,0.0,0.0,0.0,0.0,0.0,0.0,0.0,0.4354345500469208,0.029490269720554352,0.0011455247877165675,1.467129732191097e-05,0.5360314249992371],[0.0,0.0,0.0,0.0,0.0,0.0,0.0,0.0,0.0,0.0,0.30924132466316223,0.024180272594094276,0.001071814214810729,-0.0001827841333579272,0.6719873547554016],[0.0,0.0,0.0,0.0,0.0,0.0,0.0,0.0,0.0,0.0,0.016029303893446922,0.026439551264047623,0.001719880849123001,-0.00019391407840885222,0.9628171920776367],[0.0,0.0,0.0,0.0,0.0,0.0,0.0,0.0,0.0,0.0,0.013650226406753063,0.02759665995836258,0.0017827650299295783,-0.000312903372105211,0.9580481052398682],[0.0,0.0,0.0,0.0,0.0,0.0,0.0,0.0,0.0,0.0,0.0005763290682807565,0.011117656715214252,0.0014750724658370018,-0.00011155245010741055,0.9872071146965027]],\"type\":\"heatmap\",\"xaxis\":\"x\",\"yaxis\":\"y\",\"hovertemplate\":\"x: %{x}<br>y: %{y}<br>color: %{z}<extra></extra>\"},{\"coloraxis\":\"coloraxis\",\"name\":\"1\",\"x\":[\"<|endoftext|>_0\",\"When_1\",\" John_2\",\" and_3\",\" Mary_4\",\" went_5\",\" to_6\",\" the_7\",\" shops_8\",\",_9\",\" John_10\",\" gave_11\",\" the_12\",\" bag_13\",\" to_14\"],\"z\":[[0.0,0.0,0.0,0.0,0.0,0.0,0.0,0.0,0.0,0.0,0.011155801825225353,0.005019607488065958,-0.0008164829923771322,-0.00022082832583691925,0.0026190290227532387],[0.0,0.0,0.0,0.0,0.0,0.0,0.0,0.0,0.0,0.0,-0.0023588917683809996,0.0030815796926617622,0.0005023148842155933,0.00044524858822114766,3.708296935656108e-05],[0.0,0.0,0.0,0.0,0.0,0.0,0.0,0.0,0.0,0.0,0.002734173322096467,0.0008562472648918629,4.097845248907106e-06,-0.0007256727549247444,0.01609679125249386],[0.0,0.0,0.0,0.0,0.0,0.0,0.0,0.0,0.0,0.0,0.003552123438566923,0.001981738256290555,0.0004448438703548163,9.839887934504077e-05,0.0005621130694635212],[0.0,0.0,0.0,0.0,0.0,0.0,0.0,0.0,0.0,0.0,0.6474713087081909,0.0008667701622471213,0.00025735481176525354,0.0008461291436105967,0.006642657797783613],[0.0,0.0,0.0,0.0,0.0,0.0,0.0,0.0,0.0,0.0,0.08003567159175873,0.04195105656981468,0.002331421012058854,0.0011865032138302922,-0.005960290785878897],[0.0,0.0,0.0,0.0,0.0,0.0,0.0,0.0,0.0,0.0,0.0003863104502670467,0.037796348333358765,0.0008812390733510256,0.0004911849391646683,0.5257166028022766],[0.0,0.0,0.0,0.0,0.0,0.0,0.0,0.0,0.0,0.0,-0.0061597698368132114,0.012054242193698883,-5.954523294349201e-05,-7.285058381967247e-05,0.12062890082597733],[0.0,0.0,0.0,0.0,0.0,0.0,0.0,0.0,0.0,0.0,0.0007643240387551486,0.022572550922632217,0.000653176277410239,-3.5969973396277055e-05,0.7246592044830322],[0.0,0.0,0.0,0.0,0.0,0.0,0.0,0.0,0.0,0.0,-0.0007883546059019864,0.009391452185809612,0.00019851783872582018,-0.00011453730257926509,-0.13348104059696198],[0.0,0.0,0.0,0.0,0.0,0.0,0.0,0.0,0.0,0.0,0.00017539788677822798,0.0022912013810127974,0.00019765779143199325,-5.448616502690129e-05,0.19367101788520813],[0.0,0.0,0.0,0.0,0.0,0.0,0.0,0.0,0.0,0.0,0.0,0.0,0.0,0.0,0.017920181155204773]],\"type\":\"heatmap\",\"xaxis\":\"x2\",\"yaxis\":\"y2\",\"hovertemplate\":\"x: %{x}<br>y: %{y}<br>color: %{z}<extra></extra>\"},{\"coloraxis\":\"coloraxis\",\"name\":\"2\",\"x\":[\"<|endoftext|>_0\",\"When_1\",\" John_2\",\" and_3\",\" Mary_4\",\" went_5\",\" to_6\",\" the_7\",\" shops_8\",\",_9\",\" John_10\",\" gave_11\",\" the_12\",\" bag_13\",\" to_14\"],\"z\":[[0.0,0.0,0.0,0.0,0.0,0.0,0.0,0.0,0.0,0.0,0.9854748845100403,0.0,0.0,0.0,0.0],[0.0,0.0,0.0,0.0,0.0,0.0,0.0,0.0,0.0,0.0,0.015028822235763073,0.002695016097277403,-0.0004600210813805461,-0.00019361054000910372,0.00044241550494916737],[0.0,0.0,0.0,0.0,0.0,0.0,0.0,0.0,0.0,0.0,0.017064843326807022,7.107990677468479e-05,3.3592212275834754e-05,0.0007553694886155427,4.350798462837702e-06],[0.0,0.0,0.0,0.0,0.0,0.0,0.0,0.0,0.0,0.0,0.05142264440655708,0.0026953702326864004,0.000614221440628171,0.0004472722066566348,0.003932059742510319],[0.0,0.0,0.0,0.0,0.0,0.0,0.0,0.0,0.0,0.0,0.04349316284060478,-0.006618323735892773,0.00021814701904077083,0.00024956383276730776,0.0017207408091053367],[0.0,0.0,0.0,0.0,0.0,0.0,0.0,0.0,0.0,0.0,-0.07783492654561996,0.0025492138229310513,-0.0002476413792464882,0.00031118327751755714,0.004935677628964186],[0.0,0.0,0.0,0.0,0.0,0.0,0.0,0.0,0.0,0.0,0.00881223939359188,0.0005928722093813121,-0.0003357703681103885,-0.00015232854639180005,0.0044624521397054195],[0.0,0.0,0.0,0.0,0.0,0.0,0.0,0.0,0.0,0.0,0.009345565922558308,0.005339795723557472,0.00023448781576007605,5.6509790738346055e-05,0.04832163825631142],[0.0,0.0,0.0,0.0,0.0,0.0,0.0,0.0,0.0,0.0,0.014530098997056484,0.0009947139769792557,0.00038104900158941746,2.4384708012803458e-05,-0.005642176605761051],[0.0,0.0,0.0,0.0,0.0,0.0,0.0,0.0,0.0,0.0,-0.002937901997938752,4.507629637373611e-05,0.0002399010118097067,-0.00011828101560240611,-0.04885046184062958],[0.0,0.0,0.0,0.0,0.0,0.0,0.0,0.0,0.0,0.0,0.0007750998483970761,0.0029530287720263004,0.0007741891895420849,6.677969849988585e-06,0.0333888903260231],[0.0,0.0,0.0,0.0,0.0,0.0,0.0,0.0,0.0,0.0,0.0,0.0,0.0,0.0,0.021777721121907234]],\"type\":\"heatmap\",\"xaxis\":\"x3\",\"yaxis\":\"y3\",\"hovertemplate\":\"x: %{x}<br>y: %{y}<br>color: %{z}<extra></extra>\"}],                        {\"template\":{\"data\":{\"bar\":[{\"error_x\":{\"color\":\"#2a3f5f\"},\"error_y\":{\"color\":\"#2a3f5f\"},\"marker\":{\"line\":{\"color\":\"#E5ECF6\",\"width\":0.5},\"pattern\":{\"fillmode\":\"overlay\",\"size\":10,\"solidity\":0.2}},\"type\":\"bar\"}],\"barpolar\":[{\"marker\":{\"line\":{\"color\":\"#E5ECF6\",\"width\":0.5},\"pattern\":{\"fillmode\":\"overlay\",\"size\":10,\"solidity\":0.2}},\"type\":\"barpolar\"}],\"carpet\":[{\"aaxis\":{\"endlinecolor\":\"#2a3f5f\",\"gridcolor\":\"white\",\"linecolor\":\"white\",\"minorgridcolor\":\"white\",\"startlinecolor\":\"#2a3f5f\"},\"baxis\":{\"endlinecolor\":\"#2a3f5f\",\"gridcolor\":\"white\",\"linecolor\":\"white\",\"minorgridcolor\":\"white\",\"startlinecolor\":\"#2a3f5f\"},\"type\":\"carpet\"}],\"choropleth\":[{\"colorbar\":{\"outlinewidth\":0,\"ticks\":\"\"},\"type\":\"choropleth\"}],\"contour\":[{\"colorbar\":{\"outlinewidth\":0,\"ticks\":\"\"},\"colorscale\":[[0.0,\"#0d0887\"],[0.1111111111111111,\"#46039f\"],[0.2222222222222222,\"#7201a8\"],[0.3333333333333333,\"#9c179e\"],[0.4444444444444444,\"#bd3786\"],[0.5555555555555556,\"#d8576b\"],[0.6666666666666666,\"#ed7953\"],[0.7777777777777778,\"#fb9f3a\"],[0.8888888888888888,\"#fdca26\"],[1.0,\"#f0f921\"]],\"type\":\"contour\"}],\"contourcarpet\":[{\"colorbar\":{\"outlinewidth\":0,\"ticks\":\"\"},\"type\":\"contourcarpet\"}],\"heatmap\":[{\"colorbar\":{\"outlinewidth\":0,\"ticks\":\"\"},\"colorscale\":[[0.0,\"#0d0887\"],[0.1111111111111111,\"#46039f\"],[0.2222222222222222,\"#7201a8\"],[0.3333333333333333,\"#9c179e\"],[0.4444444444444444,\"#bd3786\"],[0.5555555555555556,\"#d8576b\"],[0.6666666666666666,\"#ed7953\"],[0.7777777777777778,\"#fb9f3a\"],[0.8888888888888888,\"#fdca26\"],[1.0,\"#f0f921\"]],\"type\":\"heatmap\"}],\"heatmapgl\":[{\"colorbar\":{\"outlinewidth\":0,\"ticks\":\"\"},\"colorscale\":[[0.0,\"#0d0887\"],[0.1111111111111111,\"#46039f\"],[0.2222222222222222,\"#7201a8\"],[0.3333333333333333,\"#9c179e\"],[0.4444444444444444,\"#bd3786\"],[0.5555555555555556,\"#d8576b\"],[0.6666666666666666,\"#ed7953\"],[0.7777777777777778,\"#fb9f3a\"],[0.8888888888888888,\"#fdca26\"],[1.0,\"#f0f921\"]],\"type\":\"heatmapgl\"}],\"histogram\":[{\"marker\":{\"pattern\":{\"fillmode\":\"overlay\",\"size\":10,\"solidity\":0.2}},\"type\":\"histogram\"}],\"histogram2d\":[{\"colorbar\":{\"outlinewidth\":0,\"ticks\":\"\"},\"colorscale\":[[0.0,\"#0d0887\"],[0.1111111111111111,\"#46039f\"],[0.2222222222222222,\"#7201a8\"],[0.3333333333333333,\"#9c179e\"],[0.4444444444444444,\"#bd3786\"],[0.5555555555555556,\"#d8576b\"],[0.6666666666666666,\"#ed7953\"],[0.7777777777777778,\"#fb9f3a\"],[0.8888888888888888,\"#fdca26\"],[1.0,\"#f0f921\"]],\"type\":\"histogram2d\"}],\"histogram2dcontour\":[{\"colorbar\":{\"outlinewidth\":0,\"ticks\":\"\"},\"colorscale\":[[0.0,\"#0d0887\"],[0.1111111111111111,\"#46039f\"],[0.2222222222222222,\"#7201a8\"],[0.3333333333333333,\"#9c179e\"],[0.4444444444444444,\"#bd3786\"],[0.5555555555555556,\"#d8576b\"],[0.6666666666666666,\"#ed7953\"],[0.7777777777777778,\"#fb9f3a\"],[0.8888888888888888,\"#fdca26\"],[1.0,\"#f0f921\"]],\"type\":\"histogram2dcontour\"}],\"mesh3d\":[{\"colorbar\":{\"outlinewidth\":0,\"ticks\":\"\"},\"type\":\"mesh3d\"}],\"parcoords\":[{\"line\":{\"colorbar\":{\"outlinewidth\":0,\"ticks\":\"\"}},\"type\":\"parcoords\"}],\"pie\":[{\"automargin\":true,\"type\":\"pie\"}],\"scatter\":[{\"marker\":{\"colorbar\":{\"outlinewidth\":0,\"ticks\":\"\"}},\"type\":\"scatter\"}],\"scatter3d\":[{\"line\":{\"colorbar\":{\"outlinewidth\":0,\"ticks\":\"\"}},\"marker\":{\"colorbar\":{\"outlinewidth\":0,\"ticks\":\"\"}},\"type\":\"scatter3d\"}],\"scattercarpet\":[{\"marker\":{\"colorbar\":{\"outlinewidth\":0,\"ticks\":\"\"}},\"type\":\"scattercarpet\"}],\"scattergeo\":[{\"marker\":{\"colorbar\":{\"outlinewidth\":0,\"ticks\":\"\"}},\"type\":\"scattergeo\"}],\"scattergl\":[{\"marker\":{\"colorbar\":{\"outlinewidth\":0,\"ticks\":\"\"}},\"type\":\"scattergl\"}],\"scattermapbox\":[{\"marker\":{\"colorbar\":{\"outlinewidth\":0,\"ticks\":\"\"}},\"type\":\"scattermapbox\"}],\"scatterpolar\":[{\"marker\":{\"colorbar\":{\"outlinewidth\":0,\"ticks\":\"\"}},\"type\":\"scatterpolar\"}],\"scatterpolargl\":[{\"marker\":{\"colorbar\":{\"outlinewidth\":0,\"ticks\":\"\"}},\"type\":\"scatterpolargl\"}],\"scatterternary\":[{\"marker\":{\"colorbar\":{\"outlinewidth\":0,\"ticks\":\"\"}},\"type\":\"scatterternary\"}],\"surface\":[{\"colorbar\":{\"outlinewidth\":0,\"ticks\":\"\"},\"colorscale\":[[0.0,\"#0d0887\"],[0.1111111111111111,\"#46039f\"],[0.2222222222222222,\"#7201a8\"],[0.3333333333333333,\"#9c179e\"],[0.4444444444444444,\"#bd3786\"],[0.5555555555555556,\"#d8576b\"],[0.6666666666666666,\"#ed7953\"],[0.7777777777777778,\"#fb9f3a\"],[0.8888888888888888,\"#fdca26\"],[1.0,\"#f0f921\"]],\"type\":\"surface\"}],\"table\":[{\"cells\":{\"fill\":{\"color\":\"#EBF0F8\"},\"line\":{\"color\":\"white\"}},\"header\":{\"fill\":{\"color\":\"#C8D4E3\"},\"line\":{\"color\":\"white\"}},\"type\":\"table\"}]},\"layout\":{\"annotationdefaults\":{\"arrowcolor\":\"#2a3f5f\",\"arrowhead\":0,\"arrowwidth\":1},\"autotypenumbers\":\"strict\",\"coloraxis\":{\"colorbar\":{\"outlinewidth\":0,\"ticks\":\"\"}},\"colorscale\":{\"diverging\":[[0,\"#8e0152\"],[0.1,\"#c51b7d\"],[0.2,\"#de77ae\"],[0.3,\"#f1b6da\"],[0.4,\"#fde0ef\"],[0.5,\"#f7f7f7\"],[0.6,\"#e6f5d0\"],[0.7,\"#b8e186\"],[0.8,\"#7fbc41\"],[0.9,\"#4d9221\"],[1,\"#276419\"]],\"sequential\":[[0.0,\"#0d0887\"],[0.1111111111111111,\"#46039f\"],[0.2222222222222222,\"#7201a8\"],[0.3333333333333333,\"#9c179e\"],[0.4444444444444444,\"#bd3786\"],[0.5555555555555556,\"#d8576b\"],[0.6666666666666666,\"#ed7953\"],[0.7777777777777778,\"#fb9f3a\"],[0.8888888888888888,\"#fdca26\"],[1.0,\"#f0f921\"]],\"sequentialminus\":[[0.0,\"#0d0887\"],[0.1111111111111111,\"#46039f\"],[0.2222222222222222,\"#7201a8\"],[0.3333333333333333,\"#9c179e\"],[0.4444444444444444,\"#bd3786\"],[0.5555555555555556,\"#d8576b\"],[0.6666666666666666,\"#ed7953\"],[0.7777777777777778,\"#fb9f3a\"],[0.8888888888888888,\"#fdca26\"],[1.0,\"#f0f921\"]]},\"colorway\":[\"#636efa\",\"#EF553B\",\"#00cc96\",\"#ab63fa\",\"#FFA15A\",\"#19d3f3\",\"#FF6692\",\"#B6E880\",\"#FF97FF\",\"#FECB52\"],\"font\":{\"color\":\"#2a3f5f\"},\"geo\":{\"bgcolor\":\"white\",\"lakecolor\":\"white\",\"landcolor\":\"#E5ECF6\",\"showlakes\":true,\"showland\":true,\"subunitcolor\":\"white\"},\"hoverlabel\":{\"align\":\"left\"},\"hovermode\":\"closest\",\"mapbox\":{\"style\":\"light\"},\"paper_bgcolor\":\"white\",\"plot_bgcolor\":\"#E5ECF6\",\"polar\":{\"angularaxis\":{\"gridcolor\":\"white\",\"linecolor\":\"white\",\"ticks\":\"\"},\"bgcolor\":\"#E5ECF6\",\"radialaxis\":{\"gridcolor\":\"white\",\"linecolor\":\"white\",\"ticks\":\"\"}},\"scene\":{\"xaxis\":{\"backgroundcolor\":\"#E5ECF6\",\"gridcolor\":\"white\",\"gridwidth\":2,\"linecolor\":\"white\",\"showbackground\":true,\"ticks\":\"\",\"zerolinecolor\":\"white\"},\"yaxis\":{\"backgroundcolor\":\"#E5ECF6\",\"gridcolor\":\"white\",\"gridwidth\":2,\"linecolor\":\"white\",\"showbackground\":true,\"ticks\":\"\",\"zerolinecolor\":\"white\"},\"zaxis\":{\"backgroundcolor\":\"#E5ECF6\",\"gridcolor\":\"white\",\"gridwidth\":2,\"linecolor\":\"white\",\"showbackground\":true,\"ticks\":\"\",\"zerolinecolor\":\"white\"}},\"shapedefaults\":{\"line\":{\"color\":\"#2a3f5f\"}},\"ternary\":{\"aaxis\":{\"gridcolor\":\"white\",\"linecolor\":\"white\",\"ticks\":\"\"},\"baxis\":{\"gridcolor\":\"white\",\"linecolor\":\"white\",\"ticks\":\"\"},\"bgcolor\":\"#E5ECF6\",\"caxis\":{\"gridcolor\":\"white\",\"linecolor\":\"white\",\"ticks\":\"\"}},\"title\":{\"x\":0.05},\"xaxis\":{\"automargin\":true,\"gridcolor\":\"white\",\"linecolor\":\"white\",\"ticks\":\"\",\"title\":{\"standoff\":15},\"zerolinecolor\":\"white\",\"zerolinewidth\":2},\"yaxis\":{\"automargin\":true,\"gridcolor\":\"white\",\"linecolor\":\"white\",\"ticks\":\"\",\"title\":{\"standoff\":15},\"zerolinecolor\":\"white\",\"zerolinewidth\":2}}},\"xaxis\":{\"anchor\":\"y\",\"domain\":[0.0,0.31999999999999995],\"title\":{\"text\":\"Position\"}},\"yaxis\":{\"anchor\":\"x\",\"domain\":[0.0,1.0],\"autorange\":\"reversed\",\"title\":{\"text\":\"Layer\"}},\"xaxis2\":{\"anchor\":\"y2\",\"domain\":[0.33999999999999997,0.6599999999999999],\"matches\":\"x\",\"title\":{\"text\":\"Position\"}},\"yaxis2\":{\"anchor\":\"x2\",\"domain\":[0.0,1.0],\"matches\":\"y\",\"showticklabels\":false},\"xaxis3\":{\"anchor\":\"y3\",\"domain\":[0.6799999999999999,0.9999999999999999],\"matches\":\"x\",\"title\":{\"text\":\"Position\"}},\"yaxis3\":{\"anchor\":\"x3\",\"domain\":[0.0,1.0],\"matches\":\"y\",\"showticklabels\":false},\"annotations\":[{\"font\":{},\"showarrow\":false,\"text\":\"Residual Stream\",\"x\":0.15999999999999998,\"xanchor\":\"center\",\"xref\":\"paper\",\"y\":1.0,\"yanchor\":\"bottom\",\"yref\":\"paper\"},{\"font\":{},\"showarrow\":false,\"text\":\"Attn Output\",\"x\":0.49999999999999994,\"xanchor\":\"center\",\"xref\":\"paper\",\"y\":1.0,\"yanchor\":\"bottom\",\"yref\":\"paper\"},{\"font\":{},\"showarrow\":false,\"text\":\"MLP Output\",\"x\":0.8399999999999999,\"xanchor\":\"center\",\"xref\":\"paper\",\"y\":1.0,\"yanchor\":\"bottom\",\"yref\":\"paper\"}],\"coloraxis\":{\"colorscale\":[[0.0,\"rgb(103,0,31)\"],[0.1,\"rgb(178,24,43)\"],[0.2,\"rgb(214,96,77)\"],[0.3,\"rgb(244,165,130)\"],[0.4,\"rgb(253,219,199)\"],[0.5,\"rgb(247,247,247)\"],[0.6,\"rgb(209,229,240)\"],[0.7,\"rgb(146,197,222)\"],[0.8,\"rgb(67,147,195)\"],[0.9,\"rgb(33,102,172)\"],[1.0,\"rgb(5,48,97)\"]],\"cmid\":0.0,\"cmin\":-1,\"cmax\":1},\"title\":{\"text\":\"Activation Patching Per Block\"}},                        {\"responsive\": true}                    ).then(function(){\n",
              "                            \n",
              "var gd = document.getElementById('8f2681eb-fc0a-4738-bb27-0047e242edd5');\n",
              "var x = new MutationObserver(function (mutations, observer) {{\n",
              "        var display = window.getComputedStyle(gd).display;\n",
              "        if (!display || display === 'none') {{\n",
              "            console.log([gd, 'removed!']);\n",
              "            Plotly.purge(gd);\n",
              "            observer.disconnect();\n",
              "        }}\n",
              "}});\n",
              "\n",
              "// Listen for the removal of the full notebook cells\n",
              "var notebookContainer = gd.closest('#notebook-container');\n",
              "if (notebookContainer) {{\n",
              "    x.observe(notebookContainer, {childList: true});\n",
              "}}\n",
              "\n",
              "// Listen for the clearing of the current output cell\n",
              "var outputEl = gd.closest('.output');\n",
              "if (outputEl) {{\n",
              "    x.observe(outputEl, {childList: true});\n",
              "}}\n",
              "\n",
              "                        })                };                            </script>        </div>\n",
              "</body>\n",
              "</html>"
            ]
          },
          "metadata": {},
          "output_type": "display_data"
        }
      ],
      "source": [
        "every_block_result = patching.get_act_patch_block_every(model, corrupted_tokens, clean_cache, ioi_metric)\n",
        "imshow(every_block_result, facet_col=0, facet_labels=[\"Residual Stream\", \"Attn Output\", \"MLP Output\"], title=\"Activation Patching Per Block\", xaxis=\"Position\", yaxis=\"Layer\", zmax=1, zmin=-1, x= [f\"{tok}_{i}\" for i, tok in enumerate(model.to_str_tokens(clean_tokens[0]))])"
      ]
    },
    {
      "cell_type": "markdown",
      "metadata": {
        "id": "V9n6o1VlhV4u"
      },
      "source": [
        "### Head Component Output"
      ]
    },
    {
      "cell_type": "markdown",
      "metadata": {
        "id": "A53DRj-BhZoZ"
      },
      "source": [
        "We can decompose the heads and patch different components, such as query, key, value, and attention pattern parts. Doing so here helps us to understand the role of L7H5; unlike the NMH L8H10, the value rather than the attention pattern is what's important. (We also see this for the negative NMH L9H1.)"
      ]
    },
    {
      "cell_type": "code",
      "execution_count": null,
      "metadata": {
        "id": "Qu3yzZFKdWsN"
      },
      "outputs": [],
      "source": []
    },
    {
      "cell_type": "code",
      "execution_count": null,
      "metadata": {
        "colab": {
          "base_uri": "https://localhost:8080/",
          "height": 702,
          "referenced_widgets": [
            "6802a79e197b4396b127eb6fb9ea29e7",
            "8c389ea18e7c435a801c8f11fa508cf0",
            "b5643a5bb9c54a0983f5b0aefb19d050",
            "bd9df13e01aa4795bb3a7e644dde2bd1",
            "4ecd7f1f2b634facbb9b2e48c31295ed",
            "ff227884d1644848b0185b93c0fa6868",
            "07cbbe5fb260457987b2464bb84268fe",
            "4d2ede20c4484505a9d67a9d9300ef15",
            "1620fe07e0c14088bc03ec51f6383846",
            "886acd0422994886888136cc71f23519",
            "14d3b49b8dd542d298fef799a774ba91",
            "70259059c97e4238b778cb1fb53f29e1",
            "f5d17117789a44bd8e16584a2f939115",
            "78024e1dc6434eb58caccc64d36d82c3",
            "0bf040751e6841a79713aa8862ca5224",
            "654bc4b795c94ef280027a0207c5e14f",
            "33519b6e3e8b497ebb22ca138ad08c0a",
            "0ff7c562d0fe412595ffa3badb275e71",
            "05e002ce5986414c816e4435c631404b",
            "bfcf9873f5f14d559f3f0906d6d4b62d",
            "b9c8ade472944666a4cc4f6793ec0f35",
            "3ba2350417e54744b9ae1c5567362202",
            "64e799df39eb44e59b36212d393ba581",
            "7a4e3ed388964a4da909c7210ead5b9a",
            "00cb5a0118bb438fb38ca3bd304a3016",
            "6ce55cdccad141e5a380f4eb07e96033",
            "077b84575f3c4ca5955980a81949216b",
            "52ef2d85092f4e38aa2af174f41c233a",
            "a6229b8c298947498453f64d0e90d004",
            "b7021c7fad1643368f77f69290c1b5ae",
            "65070d65c6bd4e47ae25410c379b0e2b",
            "ec8361b504df49e7a1ffb60ece4355fd",
            "391dfa794c3941c0a608ac7d7353b494",
            "825fb3ad8d7c408f97c2a2939ca0640d",
            "b012ced6282544ffa601fcdf819930c7",
            "91d87964d9a74543b9c95c80f3371187",
            "e98f8f6751114942bbd8bf8d89366e41",
            "22a664b1fd2a4f9fbfd24f1081746fc0",
            "65ca015c87154fdb86e63727041b946c",
            "811ebb000e664308b9a9dc519a70deab",
            "51efc4c80b20442ea75c68a7f2afbaed",
            "8ca69d3bc7d5458288f648a3764b3a84",
            "df27d8e8836146c7a5ff13850032924f",
            "388d5aa11c7448ab82effc14c083dace",
            "2979a00ad822456d80251bbc65086580",
            "0ebe50c7f7404ef0926e461dc673b1c0",
            "d11dbd9d6497460580184f1b0050645e",
            "15878b0ec9a247aca534f81378ff5fca",
            "7ac670a352d44e51b9a3446b219edb21",
            "8188934c142d4862aaf6559a5e1f60e2",
            "25fbd835426d4ebab9eef02ed5cebc69",
            "3e92516b195d413987ec326233626054",
            "cda06f33eb604e25aea0c0b09d47827e",
            "184ffa21537a459789826d1348552f76",
            "54171321fd0c470f84f1fe58eaccfa6a"
          ]
        },
        "id": "JNsdY7NogO3A",
        "outputId": "1453d4d7-2962-4c57-bd0e-0480e1c8e1c3"
      },
      "outputs": [
        {
          "data": {
            "application/vnd.jupyter.widget-view+json": {
              "model_id": "6802a79e197b4396b127eb6fb9ea29e7",
              "version_major": 2,
              "version_minor": 0
            },
            "text/plain": [
              "  0%|          | 0/144 [00:00<?, ?it/s]"
            ]
          },
          "metadata": {},
          "output_type": "display_data"
        },
        {
          "data": {
            "application/vnd.jupyter.widget-view+json": {
              "model_id": "70259059c97e4238b778cb1fb53f29e1",
              "version_major": 2,
              "version_minor": 0
            },
            "text/plain": [
              "  0%|          | 0/144 [00:00<?, ?it/s]"
            ]
          },
          "metadata": {},
          "output_type": "display_data"
        },
        {
          "data": {
            "application/vnd.jupyter.widget-view+json": {
              "model_id": "64e799df39eb44e59b36212d393ba581",
              "version_major": 2,
              "version_minor": 0
            },
            "text/plain": [
              "  0%|          | 0/144 [00:00<?, ?it/s]"
            ]
          },
          "metadata": {},
          "output_type": "display_data"
        },
        {
          "data": {
            "application/vnd.jupyter.widget-view+json": {
              "model_id": "825fb3ad8d7c408f97c2a2939ca0640d",
              "version_major": 2,
              "version_minor": 0
            },
            "text/plain": [
              "  0%|          | 0/144 [00:00<?, ?it/s]"
            ]
          },
          "metadata": {},
          "output_type": "display_data"
        },
        {
          "data": {
            "application/vnd.jupyter.widget-view+json": {
              "model_id": "2979a00ad822456d80251bbc65086580",
              "version_major": 2,
              "version_minor": 0
            },
            "text/plain": [
              "  0%|          | 0/144 [00:00<?, ?it/s]"
            ]
          },
          "metadata": {},
          "output_type": "display_data"
        },
        {
          "data": {
            "text/html": [
              "<html>\n",
              "<head><meta charset=\"utf-8\" /></head>\n",
              "<body>\n",
              "    <div>            <script src=\"https://cdnjs.cloudflare.com/ajax/libs/mathjax/2.7.5/MathJax.js?config=TeX-AMS-MML_SVG\"></script><script type=\"text/javascript\">if (window.MathJax) {MathJax.Hub.Config({SVG: {font: \"STIX-Web\"}});}</script>                <script type=\"text/javascript\">window.PlotlyConfig = {MathJaxConfig: 'local'};</script>\n",
              "        <script src=\"https://cdn.plot.ly/plotly-2.8.3.min.js\"></script>                <div id=\"cee4f7d2-23bb-423b-89bb-37caa7ccff67\" class=\"plotly-graph-div\" style=\"height:525px; width:100%;\"></div>            <script type=\"text/javascript\">                                    window.PLOTLYENV=window.PLOTLYENV || {};                                    if (document.getElementById(\"cee4f7d2-23bb-423b-89bb-37caa7ccff67\")) {                    Plotly.newPlot(                        \"cee4f7d2-23bb-423b-89bb-37caa7ccff67\",                        [{\"coloraxis\":\"coloraxis\",\"name\":\"0\",\"z\":[[0.0011908540036529303,0.00105537218041718,0.00014003500109538436,0.0019421257311478257,0.005328463390469551,-0.0008857416687533259,0.00042182509787380695,0.005136218853294849,-0.00037816533586010337,0.008995073847472668,0.0022878118325024843,-5.064127253717743e-05],[-0.0003522123151924461,-9.708351717563346e-05,0.002639821730554104,-0.0006422993028536439,-0.0001514179166406393,0.0005793138989247382,-0.0027291143778711557,-0.0002370173460803926,-0.0002788558485917747,0.00014281750191003084,0.0009030942455865443,0.00041782844346016645],[0.0007519798818975687,0.0014154261443763971,0.001225508633069694,0.0014288831735029817,0.00022006947256159037,0.00043755880324169993,0.0037378924898803234,0.0003610657004173845,5.5295615311479196e-05,0.0010379183804616332,0.0007219795952551067,0.00876589771360159],[0.008534091524779797,0.0022436967119574547,-0.0007444418733939528,-0.001432171557098627,-0.0018967963987961411,5.924168726778589e-05,-0.003107532626017928,-0.0012055760016664863,0.000666228705085814,0.0010424716165289283,0.0009203962981700897,0.000179141599801369],[0.007750239688903093,0.015809284523129463,0.000982521683908999,0.00041327529470436275,0.0023489759769290686,0.0014914133353158832,0.0573815181851387,-0.0021773723419755697,0.011712046340107918,0.000594845216255635,-0.00014716829173266888,0.4826379418373108],[0.0183147881180048,-0.003223992418497801,0.0009926398051902652,-0.002333899959921837,-0.0008097544778138399,-0.006659504491835833,-5.185544796404429e-05,0.0014009065926074982,0.07002564519643784,-0.0005087904864922166,0.04600134864449501,0.0002841678506229073],[0.0033622568007558584,4.219262700644322e-05,-0.005131058860570192,-0.001906509860418737,0.0007783376495353878,0.1042623370885849,0.4007404148578644,-0.0029783747158944607,0.0002225484058726579,-1.4266572179622017e-05,-0.00254607736133039,0.024374945089221],[0.001138846855610609,-0.0009476140839979053,0.06247473508119583,-0.0010858278255909681,0.004026613663882017,-0.0012744298437610269,-0.011301402002573013,0.004561255685985088,-0.0019636773504316807,0.04872328042984009,-0.007536999881267548,0.048388976603746414],[0.0002693448041100055,0.0006033950485289097,0.04873617738485336,-5.054008943261579e-05,-0.002039361046627164,0.00028695035143755376,0.0005280149634927511,0.007077282294631004,0.01675487495958805,0.3573077917098999,0.2708517611026764,0.0008684902568347752],[0.0026616263203322887,-0.12779757380485535,0.005612479522824287,-0.001194294192828238,7.472244033124298e-05,-0.10223263502120972,0.07188475877046585,0.0018553626723587513,0.0042847273871302605,-0.003737538354471326,-0.0002383327082497999,-1.1484085007396061e-05],[0.0012226250255480409,0.03296888619661331,-0.010992545634508133,-0.0012357280356809497,0.0030857280362397432,-0.00038772699190303683,-1.5126614016480744e-05,0.10439470410346985,0.05304569751024246,0.00018318886577617377,0.013617442920804024,0.0001569828891661018],[0.004510968923568726,-0.0008315590093843639,7.608838495798409e-05,0.0,0.0004154000780545175,-0.0019191575702279806,0.01031250599771738,4.851646372117102e-05,1.315357735620637e-06,0.0044491467997431755,0.0,0.0008502776036038995]],\"type\":\"heatmap\",\"xaxis\":\"x\",\"yaxis\":\"y\",\"hovertemplate\":\"x: %{x}<br>y: %{y}<br>color: %{z}<extra></extra>\"},{\"coloraxis\":\"coloraxis\",\"name\":\"1\",\"z\":[[-0.002123796846717596,0.0020114348735660315,0.004598085768520832,-0.0019655998330563307,0.003095390973612666,-0.0009902113815769553,-0.0007703443407081068,0.0031209392473101616,3.258039942011237e-05,0.00736231030896306,0.000419750896980986,-3.809478221228346e-05],[-0.0006307646399363875,0.00014210923109203577,0.00020291922555770725,-0.0005946428864262998,-0.00032388154068030417,-0.00017094591748900712,-0.002766551449894905,-0.0007196524529717863,-0.00012571783736348152,0.0004220274568069726,0.001802191836759448,0.0003432577650528401],[0.0011302464408800006,-0.0011731473496183753,0.00041003746446222067,-0.00039658034802414477,0.0003963274066336453,0.00022092950530350208,-0.0009732129401527345,-0.00020403221424203366,0.0003454837715253234,-4.7403467760887e-05,0.0010742931626737118,0.0024226359091699123],[-0.0009917797287926078,0.0002496650267858058,2.109631350322161e-05,-0.001986544346436858,9.161972411675379e-05,0.0001535427145427093,-0.0024646262172609568,0.0012098761508241296,0.0016189523739740252,0.0009307167492806911,0.0006944583146832883,-0.00018415007798466831],[0.000651962123811245,0.019024575129151344,0.0014473993796855211,-9.85000588116236e-05,0.00025740539422258735,-0.0005624672048725188,0.057405196130275726,-0.0024411522317677736,0.011456107720732689,0.0016109085408970714,-0.00018865265883505344,0.4832175076007843],[0.018996547907590866,0.0003623810480348766,0.0009525719215162098,-0.002369869966059923,-2.6610698114382103e-05,-0.006550785154104233,-3.8195965316845104e-05,0.0014466405846178532,0.003247972344979644,-0.0005513878422789276,0.045863185077905655,-0.0010048320982605219],[-0.00010608865704853088,5.8128694945480675e-05,-0.00032899121288210154,-0.00035459009814076126,0.0008931278716772795,-0.00013229463365860283,0.011217117309570312,-0.0017871158197522163,3.55652482539881e-05,-5.104599767946638e-05,-0.004064202308654785,0.002773887012153864],[0.001121949520893395,-0.0013260829728096724,-0.010214966721832752,3.455343539826572e-05,0.006670432165265083,-6.222654064913513e-06,-0.00036308931885287166,-0.0009573274874128401,0.0037929352838546038,-0.00047863845247775316,-1.3963028322905302e-05,0.05966528505086899],[0.00029109878232702613,0.0008328743861056864,0.07334358990192413,-2.8431963073671795e-05,0.00011347489635227248,0.000733261345885694,0.0018247553380206227,-1.664433511905372e-05,0.020311400294303894,-0.0041592116467654705,0.2753201723098755,0.02231312170624733],[0.0026064824778586626,-0.06056327000260353,0.0055988202802836895,0.0003852480440400541,0.0017114827642217278,-0.09613732248544693,0.07028057426214218,0.017955847084522247,0.007593206129968166,0.005187113303691149,-2.4030574422795326e-05,-1.2293535291973967e-05],[0.001222372055053711,0.016777943819761276,-0.02343360334634781,-0.001233957358635962,0.0005893814377486706,-0.00018490894581191242,-1.5126614016480744e-05,0.10297123342752457,0.05578548461198807,-0.0002631221432238817,0.013612889684736729,0.00016259845870081335],[-0.00022846751380711794,-0.0008315590093843639,7.618956442456692e-05,0.0,0.0004154000780545175,-0.0019191575702279806,0.003443960566073656,4.851646372117102e-05,0.0001461564825149253,-0.0003169000265188515,0.0,0.0003861586737912148]],\"type\":\"heatmap\",\"xaxis\":\"x2\",\"yaxis\":\"y2\",\"hovertemplate\":\"x: %{x}<br>y: %{y}<br>color: %{z}<extra></extra>\"},{\"coloraxis\":\"coloraxis\",\"name\":\"2\",\"z\":[[-0.0011555417440831661,0.00014291868137661368,-0.0011783582158386707,-0.004146260675042868,0.002101081656292081,-0.0002643363259267062,0.00011291840201010928,0.0008037341758608818,0.013652654364705086,-0.001360282301902771,0.00011003473628079519,-6.571729318238795e-05],[0.0005372224259190261,-0.0006821647402830422,0.0006961277686059475,-0.00016563388635404408,-2.0893950932077132e-05,0.00032231322256848216,0.000648319604806602,7.1332860898110084e-06,-9.091145329875872e-05,-0.00015303681720979512,-1.917386907734908e-05,0.0005682851187884808],[-0.0001243013102794066,0.0014690016396343708,-0.00011888809967786074,0.0008784059900790453,0.0004964463878422976,0.0004036630562040955,0.00024248113913927227,0.00016821401368360966,0.000744644261430949,0.0010219317628070712,-0.0009697728091850877,0.007195057347416878],[0.0006180663476698101,0.0015388167230412364,0.0001056333421729505,-0.007545347325503826,0.0001772191608324647,-8.696538134245202e-05,-0.0002823465911205858,0.001929730991832912,-0.00015313799667637795,-0.0007814742857590318,-9.34915806283243e-05,-0.00024136815045494586],[-0.00016204194980673492,-0.0008100073901005089,-0.00024404944269917905,0.0001867302053142339,0.002112211659550667,0.0005707134841941297,-4.7049334170878865e-06,-0.00021926002227701247,-6.070881681807805e-06,0.0002130373613908887,1.3811256394546945e-05,0.00015738760703243315],[-2.4789434974081814e-05,-0.002310223411768675,-1.9426821381784976e-05,0.00020130032498855144,-0.00023742206394672394,-0.0003773559001274407,-3.799360274570063e-05,-3.4755797969410196e-05,-0.00022705098672304302,7.613897469127551e-05,-0.0001263755257241428,0.003024766221642494],[0.00014757302415091544,-2.119749660778325e-05,0.0009074450354091823,0.0003705261624418199,-0.0009938539005815983,-0.002047354355454445,0.0067999945022165775,-9.571757254889235e-05,0.0008323685033246875,-1.988213807635475e-05,0.0037289380561560392,0.00031108211260288954],[-8.357580372830853e-05,-0.00012020346184726804,-0.00907905399799347,0.002160879783332348,-0.004000458400696516,-0.00018450421339366585,0.00021035605459474027,0.0004348269139882177,-0.00030956437694840133,-0.00040624316898174584,-1.79091020982014e-05,0.002210053848102689],[-1.7757329260348342e-05,-5.312021676218137e-05,0.01808955892920494,-2.1703403035644442e-05,-0.0009553038398735225,-0.00014312104030977935,-0.0020398669876158237,-2.367643901379779e-05,-0.002198114525526762,-0.00455958629027009,0.009009846486151218,0.0031264028511941433],[-1.0371089956606738e-05,-0.04609554633498192,-0.00021374563220888376,0.0005547268083319068,0.0002628691727295518,-0.09412583708763123,0.00886444840580225,0.007346272934228182,0.004068249836564064,0.004588119685649872,-0.0002857361687347293,-4.603752131515648e-06],[-3.5413478371992824e-07,0.01678512804210186,-0.019310563802719116,1.5177204204519512e-07,0.0005920627736486495,-7.0574002165813e-05,0.0,0.003466928843408823,0.0038141326513141394,-0.00013947850675322115,2.5801248284551548e-06,9.991659317165613e-05],[0.00033860342227853835,0.0,-1.5177204204519512e-07,0.0,0.0,0.0,-0.00038261731970123947,0.0,-0.000905826163943857,0.0001467129768570885,0.0,5.878637239220552e-05]],\"type\":\"heatmap\",\"xaxis\":\"x3\",\"yaxis\":\"y3\",\"hovertemplate\":\"x: %{x}<br>y: %{y}<br>color: %{z}<extra></extra>\"},{\"coloraxis\":\"coloraxis\",\"name\":\"3\",\"z\":[[-0.0005520961130969226,-0.0009247470879927278,0.00010588629811536521,0.00025300399283878505,0.0017078402452170849,-0.00010386267240392044,0.001027041464112699,0.0007114567561075091,0.0009816109668463469,-0.0006931429379619658,0.0017241809982806444,-3.7740650441264734e-05],[-0.0001596135989530012,-6.39972131466493e-05,0.0005822481471113861,-0.00037988543044775724,0.00010548157297307625,0.00035357827437110245,0.00010715106327552348,0.0006016749539412558,-0.00018136759172193706,-6.328894232865423e-05,-0.0010138878133147955,-0.00022259900288190693],[-3.516052311169915e-05,0.0008287765667773783,0.000893482007086277,0.0006664310349151492,2.5953020667657256e-05,0.00010148491128347814,0.004276885651051998,0.0008262976189143956,-0.00031462343758903444,-0.0006433617090806365,-0.0003465967602096498,0.0006420969148166478],[0.012567181140184402,0.0008759776828810573,-0.0009625888778828084,-0.004570615012198687,-0.0021910318173468113,7.563307008240372e-05,-0.00041125164716504514,-0.0013151047751307487,9.495871199760586e-05,0.0009576310403645039,0.0003287382423877716,0.0003682495735120028],[0.0074983988888561726,3.900541560142301e-05,0.00016780929581727833,0.000545721675734967,-9.885419422062114e-05,0.0019302369328215718,-2.301875974808354e-05,0.00012981568579562008,-4.285030809114687e-05,-0.0009062308818101883,-9.151854465017095e-05,1.15852662929683e-05],[-0.0007769716903567314,-0.0032471122685819864,-0.00013634188508149236,0.0008631276432424784,-0.0008284224313683808,-0.00035034047323279083,-2.8027237931382842e-05,-5.448616502690129e-05,0.06961794197559357,-3.435107282712124e-05,-0.00014969782205298543,-0.0016738938866183162],[0.0024821306578814983,-8.554883970646188e-05,-0.004702049773186445,-0.0015775186475366354,0.0009148312965407968,0.10187802463769913,0.400160551071167,0.0018737270729616284,-0.0011489649768918753,1.9072687791776843e-05,0.0005319610354490578,0.021774228662252426],[0.0009723023395054042,-0.000178534523001872,0.06615151464939117,-0.0036030684132128954,0.002619433682411909,-0.0009572262642905116,-0.016037195920944214,0.003905904246494174,-0.0037657173816114664,0.052084069699048996,-0.007532395888119936,-0.003373336046934128],[-1.2495898772613145e-05,-0.0001699340937193483,-0.015225771814584732,2.377762029937003e-06,-0.0022529042325913906,-9.85000588116236e-05,0.0020508957095444202,0.007072071544826031,0.008559690788388252,0.3574519753456116,0.008297580294311047,-0.0034177040215581656],[5.615565896732733e-06,-0.1080825924873352,-0.0020198330748826265,-0.001567198196426034,-0.00027091309311799705,0.019642135128378868,-0.0001430198608431965,-0.02070201002061367,-0.004326413851231337,-0.010237378999590874,1.1787628864112776e-05,-4.50257084594341e-06],[-2.023627274638784e-07,0.03765459358692169,0.007998032495379448,5.564975253946614e-07,0.0024737324565649033,-0.00011610561341512948,0.0,-0.005780896171927452,-0.009350270964205265,0.0005492630298249424,-1.568311176924908e-06,-7.13834524503909e-05],[0.0042993477545678616,0.0,-5.05906818659696e-08,0.0,0.0,0.0,0.009310304187238216,0.0,1.5177204204519512e-07,0.004709840752184391,0.0,0.00039946401375345886]],\"type\":\"heatmap\",\"xaxis\":\"x4\",\"yaxis\":\"y4\",\"hovertemplate\":\"x: %{x}<br>y: %{y}<br>color: %{z}<extra></extra>\"},{\"coloraxis\":\"coloraxis\",\"name\":\"4\",\"z\":[[0.0017061707330867648,0.0019154137698933482,-6.966337241465226e-05,6.450311775552109e-05,0.0031408718787133694,-0.0007580001838505268,-0.0007686242461204529,0.003897253191098571,-0.00023823151423130184,0.010893742553889751,0.0017721409676596522,-6.490784289781004e-05],[-0.000279159372439608,-8.549824997317046e-05,0.0019676233641803265,-0.0001551616151118651,-0.0002861914981622249,0.00038332559051923454,-0.0027740388177335262,-0.000179141599801369,-0.0001743860775604844,7.219290273496881e-05,0.0018854135414585471,0.00047879019984975457],[0.0008849828154779971,0.0003039994044229388,0.0003710826567839831,0.0004750970983877778,0.0001285509206354618,0.00017337426834274083,-0.0003561583871487528,1.0067546099890023e-05,0.0004601728287525475,0.001453925622627139,0.0008751681889407337,0.011876719072461128],[0.001526573789305985,0.00215526414103806,0.0002694965514820069,0.001015203190036118,0.0003265628474764526,9.976482397178188e-05,-0.0027357921935617924,0.0009468045900575817,0.0011189141077920794,0.0005346423131413758,0.0006403768784366548,-0.0003368327743373811],[0.0005748113035224378,0.015773922204971313,0.0009212057339027524,0.00011438553337939084,0.0029381043277680874,-0.0005846259300597012,0.057403527200222015,-0.002374777104705572,0.011572213843464851,0.0015748373698443174,-0.0001540486264275387,0.4828205704689026],[0.019014861434698105,0.0008109180489555001,0.0010191493202000856,-0.0018579934258013964,-0.00027875465457327664,-0.005968283861875534,-4.416566662257537e-05,0.0014237735886126757,-0.002539095701649785,-0.0005918098031543195,0.04602289944887161,0.0038206083700060844],[0.00011109713523183018,9.536343713989481e-05,0.0007302258745767176,0.00038752463296987116,-4.7858786274446175e-05,-0.0024020960554480553,0.014115812256932259,-0.0015457982663065195,0.0010879526380449533,-4.173731213086285e-05,-0.0018766107968986034,0.004317712504416704],[0.0006663298700004816,-0.0014400638174265623,-0.0021372034680098295,0.0019668140448629856,0.008986524306237698,-0.0005023148842155933,-0.00019846724171657115,-0.000623631349299103,0.0023858060594648123,-0.0001408950483892113,-5.261430942482548e-06,0.053493425250053406],[0.0002790075959637761,0.0007077636546455324,0.07527533918619156,-2.4232936993939802e-05,6.824683077866212e-05,0.00041833435534499586,-0.0011060640681535006,-2.5750656277523376e-05,0.02538200281560421,-0.0008298389730043709,0.2801147401332855,0.02150554209947586],[0.0026520141400396824,-0.013511809520423412,0.0072296615689992905,0.00029641081346198916,0.00030116632115095854,-0.11895038187503815,0.07210902124643326,0.024332044646143913,0.02050941251218319,0.0069534364156425,-0.00033020536648109555,-3.809478221228346e-05],[0.0012225238606333733,0.007695247419178486,-0.018364062532782555,-0.0012350702891126275,0.0002873044868465513,-0.0002577595296315849,-1.5126614016480744e-05,0.11101416498422623,0.062782883644104,-0.0003292947367299348,0.01361764594912529,0.0002238637680420652],[0.0002009461895795539,-0.0008315590093843639,7.608838495798409e-05,0.0,0.0004154000780545175,-0.0019191575702279806,0.0010676657548174262,4.851646372117102e-05,1.0624042943163658e-06,-0.0002191082458011806,0.0,0.00042865483555942774]],\"type\":\"heatmap\",\"xaxis\":\"x5\",\"yaxis\":\"y5\",\"hovertemplate\":\"x: %{x}<br>y: %{y}<br>color: %{z}<extra></extra>\"}],                        {\"template\":{\"data\":{\"bar\":[{\"error_x\":{\"color\":\"#2a3f5f\"},\"error_y\":{\"color\":\"#2a3f5f\"},\"marker\":{\"line\":{\"color\":\"#E5ECF6\",\"width\":0.5},\"pattern\":{\"fillmode\":\"overlay\",\"size\":10,\"solidity\":0.2}},\"type\":\"bar\"}],\"barpolar\":[{\"marker\":{\"line\":{\"color\":\"#E5ECF6\",\"width\":0.5},\"pattern\":{\"fillmode\":\"overlay\",\"size\":10,\"solidity\":0.2}},\"type\":\"barpolar\"}],\"carpet\":[{\"aaxis\":{\"endlinecolor\":\"#2a3f5f\",\"gridcolor\":\"white\",\"linecolor\":\"white\",\"minorgridcolor\":\"white\",\"startlinecolor\":\"#2a3f5f\"},\"baxis\":{\"endlinecolor\":\"#2a3f5f\",\"gridcolor\":\"white\",\"linecolor\":\"white\",\"minorgridcolor\":\"white\",\"startlinecolor\":\"#2a3f5f\"},\"type\":\"carpet\"}],\"choropleth\":[{\"colorbar\":{\"outlinewidth\":0,\"ticks\":\"\"},\"type\":\"choropleth\"}],\"contour\":[{\"colorbar\":{\"outlinewidth\":0,\"ticks\":\"\"},\"colorscale\":[[0.0,\"#0d0887\"],[0.1111111111111111,\"#46039f\"],[0.2222222222222222,\"#7201a8\"],[0.3333333333333333,\"#9c179e\"],[0.4444444444444444,\"#bd3786\"],[0.5555555555555556,\"#d8576b\"],[0.6666666666666666,\"#ed7953\"],[0.7777777777777778,\"#fb9f3a\"],[0.8888888888888888,\"#fdca26\"],[1.0,\"#f0f921\"]],\"type\":\"contour\"}],\"contourcarpet\":[{\"colorbar\":{\"outlinewidth\":0,\"ticks\":\"\"},\"type\":\"contourcarpet\"}],\"heatmap\":[{\"colorbar\":{\"outlinewidth\":0,\"ticks\":\"\"},\"colorscale\":[[0.0,\"#0d0887\"],[0.1111111111111111,\"#46039f\"],[0.2222222222222222,\"#7201a8\"],[0.3333333333333333,\"#9c179e\"],[0.4444444444444444,\"#bd3786\"],[0.5555555555555556,\"#d8576b\"],[0.6666666666666666,\"#ed7953\"],[0.7777777777777778,\"#fb9f3a\"],[0.8888888888888888,\"#fdca26\"],[1.0,\"#f0f921\"]],\"type\":\"heatmap\"}],\"heatmapgl\":[{\"colorbar\":{\"outlinewidth\":0,\"ticks\":\"\"},\"colorscale\":[[0.0,\"#0d0887\"],[0.1111111111111111,\"#46039f\"],[0.2222222222222222,\"#7201a8\"],[0.3333333333333333,\"#9c179e\"],[0.4444444444444444,\"#bd3786\"],[0.5555555555555556,\"#d8576b\"],[0.6666666666666666,\"#ed7953\"],[0.7777777777777778,\"#fb9f3a\"],[0.8888888888888888,\"#fdca26\"],[1.0,\"#f0f921\"]],\"type\":\"heatmapgl\"}],\"histogram\":[{\"marker\":{\"pattern\":{\"fillmode\":\"overlay\",\"size\":10,\"solidity\":0.2}},\"type\":\"histogram\"}],\"histogram2d\":[{\"colorbar\":{\"outlinewidth\":0,\"ticks\":\"\"},\"colorscale\":[[0.0,\"#0d0887\"],[0.1111111111111111,\"#46039f\"],[0.2222222222222222,\"#7201a8\"],[0.3333333333333333,\"#9c179e\"],[0.4444444444444444,\"#bd3786\"],[0.5555555555555556,\"#d8576b\"],[0.6666666666666666,\"#ed7953\"],[0.7777777777777778,\"#fb9f3a\"],[0.8888888888888888,\"#fdca26\"],[1.0,\"#f0f921\"]],\"type\":\"histogram2d\"}],\"histogram2dcontour\":[{\"colorbar\":{\"outlinewidth\":0,\"ticks\":\"\"},\"colorscale\":[[0.0,\"#0d0887\"],[0.1111111111111111,\"#46039f\"],[0.2222222222222222,\"#7201a8\"],[0.3333333333333333,\"#9c179e\"],[0.4444444444444444,\"#bd3786\"],[0.5555555555555556,\"#d8576b\"],[0.6666666666666666,\"#ed7953\"],[0.7777777777777778,\"#fb9f3a\"],[0.8888888888888888,\"#fdca26\"],[1.0,\"#f0f921\"]],\"type\":\"histogram2dcontour\"}],\"mesh3d\":[{\"colorbar\":{\"outlinewidth\":0,\"ticks\":\"\"},\"type\":\"mesh3d\"}],\"parcoords\":[{\"line\":{\"colorbar\":{\"outlinewidth\":0,\"ticks\":\"\"}},\"type\":\"parcoords\"}],\"pie\":[{\"automargin\":true,\"type\":\"pie\"}],\"scatter\":[{\"marker\":{\"colorbar\":{\"outlinewidth\":0,\"ticks\":\"\"}},\"type\":\"scatter\"}],\"scatter3d\":[{\"line\":{\"colorbar\":{\"outlinewidth\":0,\"ticks\":\"\"}},\"marker\":{\"colorbar\":{\"outlinewidth\":0,\"ticks\":\"\"}},\"type\":\"scatter3d\"}],\"scattercarpet\":[{\"marker\":{\"colorbar\":{\"outlinewidth\":0,\"ticks\":\"\"}},\"type\":\"scattercarpet\"}],\"scattergeo\":[{\"marker\":{\"colorbar\":{\"outlinewidth\":0,\"ticks\":\"\"}},\"type\":\"scattergeo\"}],\"scattergl\":[{\"marker\":{\"colorbar\":{\"outlinewidth\":0,\"ticks\":\"\"}},\"type\":\"scattergl\"}],\"scattermapbox\":[{\"marker\":{\"colorbar\":{\"outlinewidth\":0,\"ticks\":\"\"}},\"type\":\"scattermapbox\"}],\"scatterpolar\":[{\"marker\":{\"colorbar\":{\"outlinewidth\":0,\"ticks\":\"\"}},\"type\":\"scatterpolar\"}],\"scatterpolargl\":[{\"marker\":{\"colorbar\":{\"outlinewidth\":0,\"ticks\":\"\"}},\"type\":\"scatterpolargl\"}],\"scatterternary\":[{\"marker\":{\"colorbar\":{\"outlinewidth\":0,\"ticks\":\"\"}},\"type\":\"scatterternary\"}],\"surface\":[{\"colorbar\":{\"outlinewidth\":0,\"ticks\":\"\"},\"colorscale\":[[0.0,\"#0d0887\"],[0.1111111111111111,\"#46039f\"],[0.2222222222222222,\"#7201a8\"],[0.3333333333333333,\"#9c179e\"],[0.4444444444444444,\"#bd3786\"],[0.5555555555555556,\"#d8576b\"],[0.6666666666666666,\"#ed7953\"],[0.7777777777777778,\"#fb9f3a\"],[0.8888888888888888,\"#fdca26\"],[1.0,\"#f0f921\"]],\"type\":\"surface\"}],\"table\":[{\"cells\":{\"fill\":{\"color\":\"#EBF0F8\"},\"line\":{\"color\":\"white\"}},\"header\":{\"fill\":{\"color\":\"#C8D4E3\"},\"line\":{\"color\":\"white\"}},\"type\":\"table\"}]},\"layout\":{\"annotationdefaults\":{\"arrowcolor\":\"#2a3f5f\",\"arrowhead\":0,\"arrowwidth\":1},\"autotypenumbers\":\"strict\",\"coloraxis\":{\"colorbar\":{\"outlinewidth\":0,\"ticks\":\"\"}},\"colorscale\":{\"diverging\":[[0,\"#8e0152\"],[0.1,\"#c51b7d\"],[0.2,\"#de77ae\"],[0.3,\"#f1b6da\"],[0.4,\"#fde0ef\"],[0.5,\"#f7f7f7\"],[0.6,\"#e6f5d0\"],[0.7,\"#b8e186\"],[0.8,\"#7fbc41\"],[0.9,\"#4d9221\"],[1,\"#276419\"]],\"sequential\":[[0.0,\"#0d0887\"],[0.1111111111111111,\"#46039f\"],[0.2222222222222222,\"#7201a8\"],[0.3333333333333333,\"#9c179e\"],[0.4444444444444444,\"#bd3786\"],[0.5555555555555556,\"#d8576b\"],[0.6666666666666666,\"#ed7953\"],[0.7777777777777778,\"#fb9f3a\"],[0.8888888888888888,\"#fdca26\"],[1.0,\"#f0f921\"]],\"sequentialminus\":[[0.0,\"#0d0887\"],[0.1111111111111111,\"#46039f\"],[0.2222222222222222,\"#7201a8\"],[0.3333333333333333,\"#9c179e\"],[0.4444444444444444,\"#bd3786\"],[0.5555555555555556,\"#d8576b\"],[0.6666666666666666,\"#ed7953\"],[0.7777777777777778,\"#fb9f3a\"],[0.8888888888888888,\"#fdca26\"],[1.0,\"#f0f921\"]]},\"colorway\":[\"#636efa\",\"#EF553B\",\"#00cc96\",\"#ab63fa\",\"#FFA15A\",\"#19d3f3\",\"#FF6692\",\"#B6E880\",\"#FF97FF\",\"#FECB52\"],\"font\":{\"color\":\"#2a3f5f\"},\"geo\":{\"bgcolor\":\"white\",\"lakecolor\":\"white\",\"landcolor\":\"#E5ECF6\",\"showlakes\":true,\"showland\":true,\"subunitcolor\":\"white\"},\"hoverlabel\":{\"align\":\"left\"},\"hovermode\":\"closest\",\"mapbox\":{\"style\":\"light\"},\"paper_bgcolor\":\"white\",\"plot_bgcolor\":\"#E5ECF6\",\"polar\":{\"angularaxis\":{\"gridcolor\":\"white\",\"linecolor\":\"white\",\"ticks\":\"\"},\"bgcolor\":\"#E5ECF6\",\"radialaxis\":{\"gridcolor\":\"white\",\"linecolor\":\"white\",\"ticks\":\"\"}},\"scene\":{\"xaxis\":{\"backgroundcolor\":\"#E5ECF6\",\"gridcolor\":\"white\",\"gridwidth\":2,\"linecolor\":\"white\",\"showbackground\":true,\"ticks\":\"\",\"zerolinecolor\":\"white\"},\"yaxis\":{\"backgroundcolor\":\"#E5ECF6\",\"gridcolor\":\"white\",\"gridwidth\":2,\"linecolor\":\"white\",\"showbackground\":true,\"ticks\":\"\",\"zerolinecolor\":\"white\"},\"zaxis\":{\"backgroundcolor\":\"#E5ECF6\",\"gridcolor\":\"white\",\"gridwidth\":2,\"linecolor\":\"white\",\"showbackground\":true,\"ticks\":\"\",\"zerolinecolor\":\"white\"}},\"shapedefaults\":{\"line\":{\"color\":\"#2a3f5f\"}},\"ternary\":{\"aaxis\":{\"gridcolor\":\"white\",\"linecolor\":\"white\",\"ticks\":\"\"},\"baxis\":{\"gridcolor\":\"white\",\"linecolor\":\"white\",\"ticks\":\"\"},\"bgcolor\":\"#E5ECF6\",\"caxis\":{\"gridcolor\":\"white\",\"linecolor\":\"white\",\"ticks\":\"\"}},\"title\":{\"x\":0.05},\"xaxis\":{\"automargin\":true,\"gridcolor\":\"white\",\"linecolor\":\"white\",\"ticks\":\"\",\"title\":{\"standoff\":15},\"zerolinecolor\":\"white\",\"zerolinewidth\":2},\"yaxis\":{\"automargin\":true,\"gridcolor\":\"white\",\"linecolor\":\"white\",\"ticks\":\"\",\"title\":{\"standoff\":15},\"zerolinecolor\":\"white\",\"zerolinewidth\":2}}},\"xaxis\":{\"anchor\":\"y\",\"domain\":[0.0,0.18400000000000002],\"title\":{\"text\":\"Head\"}},\"yaxis\":{\"anchor\":\"x\",\"domain\":[0.0,1.0],\"autorange\":\"reversed\",\"title\":{\"text\":\"Layer\"}},\"xaxis2\":{\"anchor\":\"y2\",\"domain\":[0.20400000000000001,0.388],\"matches\":\"x\",\"title\":{\"text\":\"Head\"}},\"yaxis2\":{\"anchor\":\"x2\",\"domain\":[0.0,1.0],\"matches\":\"y\",\"showticklabels\":false},\"xaxis3\":{\"anchor\":\"y3\",\"domain\":[0.40800000000000003,0.5920000000000001],\"matches\":\"x\",\"title\":{\"text\":\"Head\"}},\"yaxis3\":{\"anchor\":\"x3\",\"domain\":[0.0,1.0],\"matches\":\"y\",\"showticklabels\":false},\"xaxis4\":{\"anchor\":\"y4\",\"domain\":[0.6120000000000001,0.7960000000000002],\"matches\":\"x\",\"title\":{\"text\":\"Head\"}},\"yaxis4\":{\"anchor\":\"x4\",\"domain\":[0.0,1.0],\"matches\":\"y\",\"showticklabels\":false},\"xaxis5\":{\"anchor\":\"y5\",\"domain\":[0.8160000000000001,1.0],\"matches\":\"x\",\"title\":{\"text\":\"Head\"}},\"yaxis5\":{\"anchor\":\"x5\",\"domain\":[0.0,1.0],\"matches\":\"y\",\"showticklabels\":false},\"annotations\":[{\"font\":{},\"showarrow\":false,\"text\":\"Output\",\"x\":0.09200000000000001,\"xanchor\":\"center\",\"xref\":\"paper\",\"y\":1.0,\"yanchor\":\"bottom\",\"yref\":\"paper\"},{\"font\":{},\"showarrow\":false,\"text\":\"Query\",\"x\":0.29600000000000004,\"xanchor\":\"center\",\"xref\":\"paper\",\"y\":1.0,\"yanchor\":\"bottom\",\"yref\":\"paper\"},{\"font\":{},\"showarrow\":false,\"text\":\"Key\",\"x\":0.5,\"xanchor\":\"center\",\"xref\":\"paper\",\"y\":1.0,\"yanchor\":\"bottom\",\"yref\":\"paper\"},{\"font\":{},\"showarrow\":false,\"text\":\"Value\",\"x\":0.7040000000000002,\"xanchor\":\"center\",\"xref\":\"paper\",\"y\":1.0,\"yanchor\":\"bottom\",\"yref\":\"paper\"},{\"font\":{},\"showarrow\":false,\"text\":\"Pattern\",\"x\":0.908,\"xanchor\":\"center\",\"xref\":\"paper\",\"y\":1.0,\"yanchor\":\"bottom\",\"yref\":\"paper\"}],\"coloraxis\":{\"colorscale\":[[0.0,\"rgb(103,0,31)\"],[0.1,\"rgb(178,24,43)\"],[0.2,\"rgb(214,96,77)\"],[0.3,\"rgb(244,165,130)\"],[0.4,\"rgb(253,219,199)\"],[0.5,\"rgb(247,247,247)\"],[0.6,\"rgb(209,229,240)\"],[0.7,\"rgb(146,197,222)\"],[0.8,\"rgb(67,147,195)\"],[0.9,\"rgb(33,102,172)\"],[1.0,\"rgb(5,48,97)\"]],\"cmid\":0.0},\"title\":{\"text\":\"Activation Patching Per Head (All Pos)\"}},                        {\"responsive\": true}                    ).then(function(){\n",
              "                            \n",
              "var gd = document.getElementById('cee4f7d2-23bb-423b-89bb-37caa7ccff67');\n",
              "var x = new MutationObserver(function (mutations, observer) {{\n",
              "        var display = window.getComputedStyle(gd).display;\n",
              "        if (!display || display === 'none') {{\n",
              "            console.log([gd, 'removed!']);\n",
              "            Plotly.purge(gd);\n",
              "            observer.disconnect();\n",
              "        }}\n",
              "}});\n",
              "\n",
              "// Listen for the removal of the full notebook cells\n",
              "var notebookContainer = gd.closest('#notebook-container');\n",
              "if (notebookContainer) {{\n",
              "    x.observe(notebookContainer, {childList: true});\n",
              "}}\n",
              "\n",
              "// Listen for the clearing of the current output cell\n",
              "var outputEl = gd.closest('.output');\n",
              "if (outputEl) {{\n",
              "    x.observe(outputEl, {childList: true});\n",
              "}}\n",
              "\n",
              "                        })                };                            </script>        </div>\n",
              "</body>\n",
              "</html>"
            ]
          },
          "metadata": {},
          "output_type": "display_data"
        }
      ],
      "source": [
        "every_head_all_pos_act_patch_result = patching.get_act_patch_attn_head_all_pos_every(model, corrupted_tokens, clean_cache, ioi_metric)\n",
        "imshow(every_head_all_pos_act_patch_result, facet_col=0, facet_labels=[\"Output\", \"Query\", \"Key\", \"Value\", \"Pattern\"], title=\"Activation Patching Per Head (All Pos)\", xaxis=\"Head\", yaxis=\"Layer\") #, zmax=1, zmin=-1)\n",
        "# [markdown]\n",
        "# We can also do by head *and* by position. This is a bit slow, but it can give useful + fine-grained detail"
      ]
    },
    {
      "cell_type": "markdown",
      "metadata": {
        "id": "jTR8Yuu-glCM"
      },
      "source": [
        "## Circuit Sketching"
      ]
    },
    {
      "cell_type": "markdown",
      "metadata": {
        "id": "fmGNftUvUlOC"
      },
      "source": [
        "### First Level"
      ]
    },
    {
      "cell_type": "markdown",
      "metadata": {
        "id": "g6p64jY37YGs"
      },
      "source": [
        "Previously we identified some NMH candidates through logit difference contribution. In order to be NMHs, the attention pattern should be the key attention head component to performance (as opposed to value), and it should be in the later layers (as opposed to e.g. induction heads, whose attention patterns are also important but occur earlier).\n",
        "\n",
        "Is this the case? We can do some attention patching to find out."
      ]
    },
    {
      "cell_type": "markdown",
      "metadata": {
        "id": "VirxokHeDQ28"
      },
      "source": [
        "#### Attention Pattern Patching"
      ]
    },
    {
      "cell_type": "markdown",
      "metadata": {
        "id": "M4wnoKarDn75"
      },
      "source": [
        "Here we can see that patching the head attention patterns has a different effect from our whole-head patching above--all of our potential NMHs L8H1, L8H2, L8H5, L8H8, and L8H10 are represented. (Earlier heads shown here are probably other parts of the circuit). Interestingly, patching L9H11's attention is having a negative effect, so it is probably a negative NMH."
      ]
    },
    {
      "cell_type": "code",
      "execution_count": 24,
      "metadata": {
        "colab": {
          "base_uri": "https://localhost:8080/",
          "height": 574,
          "referenced_widgets": [
            "bb40ed2d47ed4e3cbe89e68e816677e4",
            "0c1eb5b72748416ba1a78a06543a7bb8",
            "b08c648d67474d9eb9986ea24f28311b",
            "1ded46589d814836a88da906225cda46",
            "2f43dfcb6a6b46a0a36406767d040503",
            "d4f67196e74e4ff9b5df7045ed98b17a",
            "f5947be879d44715846b197614974298",
            "d7754c6b0a7a4ba6b40b3c1ffc458b55",
            "f0f946dd323d47f88ed986c4c0a2537f",
            "64387ba7a3b04f5f8d844ee43146212d",
            "3c84b4575d8d45c1866f771bb081aeb4"
          ]
        },
        "id": "FkJzhFdnCmF8",
        "outputId": "067a5e08-3c47-47c4-c08c-c0fbe7c88cab"
      },
      "outputs": [
        {
          "data": {
            "application/vnd.jupyter.widget-view+json": {
              "model_id": "bb40ed2d47ed4e3cbe89e68e816677e4",
              "version_major": 2,
              "version_minor": 0
            },
            "text/plain": [
              "  0%|          | 0/144 [00:00<?, ?it/s]"
            ]
          },
          "metadata": {},
          "output_type": "display_data"
        },
        {
          "data": {
            "text/html": [
              "<html>\n",
              "<head><meta charset=\"utf-8\" /></head>\n",
              "<body>\n",
              "    <div>            <script src=\"https://cdnjs.cloudflare.com/ajax/libs/mathjax/2.7.5/MathJax.js?config=TeX-AMS-MML_SVG\"></script><script type=\"text/javascript\">if (window.MathJax && window.MathJax.Hub && window.MathJax.Hub.Config) {window.MathJax.Hub.Config({SVG: {font: \"STIX-Web\"}});}</script>                <script type=\"text/javascript\">window.PlotlyConfig = {MathJaxConfig: 'local'};</script>\n",
              "        <script src=\"https://cdn.plot.ly/plotly-2.18.2.min.js\"></script>                <div id=\"26462ca6-b400-4ad1-8a8c-8d612bc88b41\" class=\"plotly-graph-div\" style=\"height:525px; width:100%;\"></div>            <script type=\"text/javascript\">                                    window.PLOTLYENV=window.PLOTLYENV || {};                                    if (document.getElementById(\"26462ca6-b400-4ad1-8a8c-8d612bc88b41\")) {                    Plotly.newPlot(                        \"26462ca6-b400-4ad1-8a8c-8d612bc88b41\",                        [{\"coloraxis\":\"coloraxis\",\"name\":\"0\",\"z\":[[0.0017061707330867648,0.0019154137698933482,-6.966337241465226e-05,6.450311775552109e-05,0.0031408718787133694,-0.0007580001838505268,-0.0007686242461204529,0.003897253191098571,-0.00023823151423130184,0.010893742553889751,0.0017721409676596522,-6.490784289781004e-05],[-0.000279159372439608,-8.549824997317046e-05,0.0019676233641803265,-0.0001551616151118651,-0.0002861914981622249,0.00038332559051923454,-0.0027740388177335262,-0.000179141599801369,-0.0001743860775604844,7.219290273496881e-05,0.0018854135414585471,0.00047879019984975457],[0.0008849828154779971,0.0003039994044229388,0.0003710826567839831,0.0004750970983877778,0.0001285509206354618,0.00017337426834274083,-0.0003561583871487528,1.0067546099890023e-05,0.0004601728287525475,0.001453925622627139,0.0008751681889407337,0.011876719072461128],[0.001526573789305985,0.00215526414103806,0.0002694965514820069,0.001015203190036118,0.0003265628474764526,9.976482397178188e-05,-0.0027357921935617924,0.0009468045900575817,0.0011189141077920794,0.0005346423131413758,0.0006403768784366548,-0.0003368327743373811],[0.0005748113035224378,0.015773922204971313,0.0009212057339027524,0.00011438553337939084,0.0029381043277680874,-0.0005846259300597012,0.057403527200222015,-0.002374777104705572,0.011572213843464851,0.0015748373698443174,-0.0001540486264275387,0.4828205704689026],[0.019014861434698105,0.0008109180489555001,0.0010191493202000856,-0.0018579934258013964,-0.00027875465457327664,-0.005968283861875534,-4.416566662257537e-05,0.0014237735886126757,-0.002539095701649785,-0.0005918098031543195,0.04602289944887161,0.0038206083700060844],[0.00011109713523183018,9.536343713989481e-05,0.0007302258745767176,0.00038752463296987116,-4.7858786274446175e-05,-0.0024020960554480553,0.014115812256932259,-0.0015457982663065195,0.0010879526380449533,-4.173731213086285e-05,-0.0018766107968986034,0.004317712504416704],[0.0006663298700004816,-0.0014400638174265623,-0.0021372034680098295,0.0019668140448629856,0.008986524306237698,-0.0005023148842155933,-0.00019846724171657115,-0.000623631349299103,0.0023858060594648123,-0.0001408950483892113,-5.261430942482548e-06,0.053493425250053406],[0.0002790075959637761,0.0007077636546455324,0.07527533918619156,-2.4232936993939802e-05,6.824683077866212e-05,0.00041833435534499586,-0.0011060640681535006,-2.5750656277523376e-05,0.02538200281560421,-0.0008298389730043709,0.2801147401332855,0.02150554209947586],[0.0026520141400396824,-0.013511809520423412,0.0072296615689992905,0.00029641081346198916,0.00030116632115095854,-0.11895038187503815,0.07210902124643326,0.024332044646143913,0.02050941251218319,0.0069534364156425,-0.00033020536648109555,-3.809478221228346e-05],[0.0012225238606333733,0.007695247419178486,-0.018364062532782555,-0.0012350702891126275,0.0002873044868465513,-0.0002577595296315849,-1.5126614016480744e-05,0.11101416498422623,0.062782883644104,-0.0003292947367299348,0.01361764594912529,0.0002238637680420652],[0.0002009461895795539,-0.0008315590093843639,7.608838495798409e-05,0.0,0.0004154000780545175,-0.0019191575702279806,0.0010676657548174262,4.851646372117102e-05,1.0624042943163658e-06,-0.0002191082458011806,0.0,0.00042865483555942774]],\"type\":\"heatmap\",\"xaxis\":\"x\",\"yaxis\":\"y\",\"hovertemplate\":\"x: %{x}<br>y: %{y}<br>color: %{z}<extra></extra>\"}],                        {\"template\":{\"data\":{\"histogram2dcontour\":[{\"type\":\"histogram2dcontour\",\"colorbar\":{\"outlinewidth\":0,\"ticks\":\"\"},\"colorscale\":[[0.0,\"#0d0887\"],[0.1111111111111111,\"#46039f\"],[0.2222222222222222,\"#7201a8\"],[0.3333333333333333,\"#9c179e\"],[0.4444444444444444,\"#bd3786\"],[0.5555555555555556,\"#d8576b\"],[0.6666666666666666,\"#ed7953\"],[0.7777777777777778,\"#fb9f3a\"],[0.8888888888888888,\"#fdca26\"],[1.0,\"#f0f921\"]]}],\"choropleth\":[{\"type\":\"choropleth\",\"colorbar\":{\"outlinewidth\":0,\"ticks\":\"\"}}],\"histogram2d\":[{\"type\":\"histogram2d\",\"colorbar\":{\"outlinewidth\":0,\"ticks\":\"\"},\"colorscale\":[[0.0,\"#0d0887\"],[0.1111111111111111,\"#46039f\"],[0.2222222222222222,\"#7201a8\"],[0.3333333333333333,\"#9c179e\"],[0.4444444444444444,\"#bd3786\"],[0.5555555555555556,\"#d8576b\"],[0.6666666666666666,\"#ed7953\"],[0.7777777777777778,\"#fb9f3a\"],[0.8888888888888888,\"#fdca26\"],[1.0,\"#f0f921\"]]}],\"heatmap\":[{\"type\":\"heatmap\",\"colorbar\":{\"outlinewidth\":0,\"ticks\":\"\"},\"colorscale\":[[0.0,\"#0d0887\"],[0.1111111111111111,\"#46039f\"],[0.2222222222222222,\"#7201a8\"],[0.3333333333333333,\"#9c179e\"],[0.4444444444444444,\"#bd3786\"],[0.5555555555555556,\"#d8576b\"],[0.6666666666666666,\"#ed7953\"],[0.7777777777777778,\"#fb9f3a\"],[0.8888888888888888,\"#fdca26\"],[1.0,\"#f0f921\"]]}],\"heatmapgl\":[{\"type\":\"heatmapgl\",\"colorbar\":{\"outlinewidth\":0,\"ticks\":\"\"},\"colorscale\":[[0.0,\"#0d0887\"],[0.1111111111111111,\"#46039f\"],[0.2222222222222222,\"#7201a8\"],[0.3333333333333333,\"#9c179e\"],[0.4444444444444444,\"#bd3786\"],[0.5555555555555556,\"#d8576b\"],[0.6666666666666666,\"#ed7953\"],[0.7777777777777778,\"#fb9f3a\"],[0.8888888888888888,\"#fdca26\"],[1.0,\"#f0f921\"]]}],\"contourcarpet\":[{\"type\":\"contourcarpet\",\"colorbar\":{\"outlinewidth\":0,\"ticks\":\"\"}}],\"contour\":[{\"type\":\"contour\",\"colorbar\":{\"outlinewidth\":0,\"ticks\":\"\"},\"colorscale\":[[0.0,\"#0d0887\"],[0.1111111111111111,\"#46039f\"],[0.2222222222222222,\"#7201a8\"],[0.3333333333333333,\"#9c179e\"],[0.4444444444444444,\"#bd3786\"],[0.5555555555555556,\"#d8576b\"],[0.6666666666666666,\"#ed7953\"],[0.7777777777777778,\"#fb9f3a\"],[0.8888888888888888,\"#fdca26\"],[1.0,\"#f0f921\"]]}],\"surface\":[{\"type\":\"surface\",\"colorbar\":{\"outlinewidth\":0,\"ticks\":\"\"},\"colorscale\":[[0.0,\"#0d0887\"],[0.1111111111111111,\"#46039f\"],[0.2222222222222222,\"#7201a8\"],[0.3333333333333333,\"#9c179e\"],[0.4444444444444444,\"#bd3786\"],[0.5555555555555556,\"#d8576b\"],[0.6666666666666666,\"#ed7953\"],[0.7777777777777778,\"#fb9f3a\"],[0.8888888888888888,\"#fdca26\"],[1.0,\"#f0f921\"]]}],\"mesh3d\":[{\"type\":\"mesh3d\",\"colorbar\":{\"outlinewidth\":0,\"ticks\":\"\"}}],\"scatter\":[{\"fillpattern\":{\"fillmode\":\"overlay\",\"size\":10,\"solidity\":0.2},\"type\":\"scatter\"}],\"parcoords\":[{\"type\":\"parcoords\",\"line\":{\"colorbar\":{\"outlinewidth\":0,\"ticks\":\"\"}}}],\"scatterpolargl\":[{\"type\":\"scatterpolargl\",\"marker\":{\"colorbar\":{\"outlinewidth\":0,\"ticks\":\"\"}}}],\"bar\":[{\"error_x\":{\"color\":\"#2a3f5f\"},\"error_y\":{\"color\":\"#2a3f5f\"},\"marker\":{\"line\":{\"color\":\"#E5ECF6\",\"width\":0.5},\"pattern\":{\"fillmode\":\"overlay\",\"size\":10,\"solidity\":0.2}},\"type\":\"bar\"}],\"scattergeo\":[{\"type\":\"scattergeo\",\"marker\":{\"colorbar\":{\"outlinewidth\":0,\"ticks\":\"\"}}}],\"scatterpolar\":[{\"type\":\"scatterpolar\",\"marker\":{\"colorbar\":{\"outlinewidth\":0,\"ticks\":\"\"}}}],\"histogram\":[{\"marker\":{\"pattern\":{\"fillmode\":\"overlay\",\"size\":10,\"solidity\":0.2}},\"type\":\"histogram\"}],\"scattergl\":[{\"type\":\"scattergl\",\"marker\":{\"colorbar\":{\"outlinewidth\":0,\"ticks\":\"\"}}}],\"scatter3d\":[{\"type\":\"scatter3d\",\"line\":{\"colorbar\":{\"outlinewidth\":0,\"ticks\":\"\"}},\"marker\":{\"colorbar\":{\"outlinewidth\":0,\"ticks\":\"\"}}}],\"scattermapbox\":[{\"type\":\"scattermapbox\",\"marker\":{\"colorbar\":{\"outlinewidth\":0,\"ticks\":\"\"}}}],\"scatterternary\":[{\"type\":\"scatterternary\",\"marker\":{\"colorbar\":{\"outlinewidth\":0,\"ticks\":\"\"}}}],\"scattercarpet\":[{\"type\":\"scattercarpet\",\"marker\":{\"colorbar\":{\"outlinewidth\":0,\"ticks\":\"\"}}}],\"carpet\":[{\"aaxis\":{\"endlinecolor\":\"#2a3f5f\",\"gridcolor\":\"white\",\"linecolor\":\"white\",\"minorgridcolor\":\"white\",\"startlinecolor\":\"#2a3f5f\"},\"baxis\":{\"endlinecolor\":\"#2a3f5f\",\"gridcolor\":\"white\",\"linecolor\":\"white\",\"minorgridcolor\":\"white\",\"startlinecolor\":\"#2a3f5f\"},\"type\":\"carpet\"}],\"table\":[{\"cells\":{\"fill\":{\"color\":\"#EBF0F8\"},\"line\":{\"color\":\"white\"}},\"header\":{\"fill\":{\"color\":\"#C8D4E3\"},\"line\":{\"color\":\"white\"}},\"type\":\"table\"}],\"barpolar\":[{\"marker\":{\"line\":{\"color\":\"#E5ECF6\",\"width\":0.5},\"pattern\":{\"fillmode\":\"overlay\",\"size\":10,\"solidity\":0.2}},\"type\":\"barpolar\"}],\"pie\":[{\"automargin\":true,\"type\":\"pie\"}]},\"layout\":{\"autotypenumbers\":\"strict\",\"colorway\":[\"#636efa\",\"#EF553B\",\"#00cc96\",\"#ab63fa\",\"#FFA15A\",\"#19d3f3\",\"#FF6692\",\"#B6E880\",\"#FF97FF\",\"#FECB52\"],\"font\":{\"color\":\"#2a3f5f\"},\"hovermode\":\"closest\",\"hoverlabel\":{\"align\":\"left\"},\"paper_bgcolor\":\"white\",\"plot_bgcolor\":\"#E5ECF6\",\"polar\":{\"bgcolor\":\"#E5ECF6\",\"angularaxis\":{\"gridcolor\":\"white\",\"linecolor\":\"white\",\"ticks\":\"\"},\"radialaxis\":{\"gridcolor\":\"white\",\"linecolor\":\"white\",\"ticks\":\"\"}},\"ternary\":{\"bgcolor\":\"#E5ECF6\",\"aaxis\":{\"gridcolor\":\"white\",\"linecolor\":\"white\",\"ticks\":\"\"},\"baxis\":{\"gridcolor\":\"white\",\"linecolor\":\"white\",\"ticks\":\"\"},\"caxis\":{\"gridcolor\":\"white\",\"linecolor\":\"white\",\"ticks\":\"\"}},\"coloraxis\":{\"colorbar\":{\"outlinewidth\":0,\"ticks\":\"\"}},\"colorscale\":{\"sequential\":[[0.0,\"#0d0887\"],[0.1111111111111111,\"#46039f\"],[0.2222222222222222,\"#7201a8\"],[0.3333333333333333,\"#9c179e\"],[0.4444444444444444,\"#bd3786\"],[0.5555555555555556,\"#d8576b\"],[0.6666666666666666,\"#ed7953\"],[0.7777777777777778,\"#fb9f3a\"],[0.8888888888888888,\"#fdca26\"],[1.0,\"#f0f921\"]],\"sequentialminus\":[[0.0,\"#0d0887\"],[0.1111111111111111,\"#46039f\"],[0.2222222222222222,\"#7201a8\"],[0.3333333333333333,\"#9c179e\"],[0.4444444444444444,\"#bd3786\"],[0.5555555555555556,\"#d8576b\"],[0.6666666666666666,\"#ed7953\"],[0.7777777777777778,\"#fb9f3a\"],[0.8888888888888888,\"#fdca26\"],[1.0,\"#f0f921\"]],\"diverging\":[[0,\"#8e0152\"],[0.1,\"#c51b7d\"],[0.2,\"#de77ae\"],[0.3,\"#f1b6da\"],[0.4,\"#fde0ef\"],[0.5,\"#f7f7f7\"],[0.6,\"#e6f5d0\"],[0.7,\"#b8e186\"],[0.8,\"#7fbc41\"],[0.9,\"#4d9221\"],[1,\"#276419\"]]},\"xaxis\":{\"gridcolor\":\"white\",\"linecolor\":\"white\",\"ticks\":\"\",\"title\":{\"standoff\":15},\"zerolinecolor\":\"white\",\"automargin\":true,\"zerolinewidth\":2},\"yaxis\":{\"gridcolor\":\"white\",\"linecolor\":\"white\",\"ticks\":\"\",\"title\":{\"standoff\":15},\"zerolinecolor\":\"white\",\"automargin\":true,\"zerolinewidth\":2},\"scene\":{\"xaxis\":{\"backgroundcolor\":\"#E5ECF6\",\"gridcolor\":\"white\",\"linecolor\":\"white\",\"showbackground\":true,\"ticks\":\"\",\"zerolinecolor\":\"white\",\"gridwidth\":2},\"yaxis\":{\"backgroundcolor\":\"#E5ECF6\",\"gridcolor\":\"white\",\"linecolor\":\"white\",\"showbackground\":true,\"ticks\":\"\",\"zerolinecolor\":\"white\",\"gridwidth\":2},\"zaxis\":{\"backgroundcolor\":\"#E5ECF6\",\"gridcolor\":\"white\",\"linecolor\":\"white\",\"showbackground\":true,\"ticks\":\"\",\"zerolinecolor\":\"white\",\"gridwidth\":2}},\"shapedefaults\":{\"line\":{\"color\":\"#2a3f5f\"}},\"annotationdefaults\":{\"arrowcolor\":\"#2a3f5f\",\"arrowhead\":0,\"arrowwidth\":1},\"geo\":{\"bgcolor\":\"white\",\"landcolor\":\"#E5ECF6\",\"subunitcolor\":\"white\",\"showland\":true,\"showlakes\":true,\"lakecolor\":\"white\"},\"title\":{\"x\":0.05},\"mapbox\":{\"style\":\"light\"}}},\"xaxis\":{\"anchor\":\"y\",\"domain\":[0.0,1.0],\"title\":{\"text\":\"Head\"}},\"yaxis\":{\"anchor\":\"x\",\"domain\":[0.0,1.0],\"autorange\":\"reversed\",\"title\":{\"text\":\"Layer\"}},\"coloraxis\":{\"colorscale\":[[0.0,\"rgb(103,0,31)\"],[0.1,\"rgb(178,24,43)\"],[0.2,\"rgb(214,96,77)\"],[0.3,\"rgb(244,165,130)\"],[0.4,\"rgb(253,219,199)\"],[0.5,\"rgb(247,247,247)\"],[0.6,\"rgb(209,229,240)\"],[0.7,\"rgb(146,197,222)\"],[0.8,\"rgb(67,147,195)\"],[0.9,\"rgb(33,102,172)\"],[1.0,\"rgb(5,48,97)\"]],\"cmid\":0.0},\"title\":{\"text\":\"IOI Metric for 'attn_head_pattern' Activation Patching (All Pos)\"}},                        {\"responsive\": true}                    ).then(function(){\n",
              "                            \n",
              "var gd = document.getElementById('26462ca6-b400-4ad1-8a8c-8d612bc88b41');\n",
              "var x = new MutationObserver(function (mutations, observer) {{\n",
              "        var display = window.getComputedStyle(gd).display;\n",
              "        if (!display || display === 'none') {{\n",
              "            console.log([gd, 'removed!']);\n",
              "            Plotly.purge(gd);\n",
              "            observer.disconnect();\n",
              "        }}\n",
              "}});\n",
              "\n",
              "// Listen for the removal of the full notebook cells\n",
              "var notebookContainer = gd.closest('#notebook-container');\n",
              "if (notebookContainer) {{\n",
              "    x.observe(notebookContainer, {childList: true});\n",
              "}}\n",
              "\n",
              "// Listen for the clearing of the current output cell\n",
              "var outputEl = gd.closest('.output');\n",
              "if (outputEl) {{\n",
              "    x.observe(outputEl, {childList: true});\n",
              "}}\n",
              "\n",
              "                        })                };                            </script>        </div>\n",
              "</body>\n",
              "</html>"
            ]
          },
          "metadata": {},
          "output_type": "display_data"
        }
      ],
      "source": [
        "attn_head_pattern_all_pos_act_patch_results = patching.get_act_patch_attn_head_pattern_all_pos(model, corrupted_tokens, clean_cache, ioi_metric)\n",
        "imshow(attn_head_pattern_all_pos_act_patch_results, \n",
        "       yaxis=\"Layer\", \n",
        "       xaxis=\"Head\", \n",
        "       title=\"IOI Metric for 'attn_head_pattern' Activation Patching (All Pos)\")"
      ]
    },
    {
      "cell_type": "markdown",
      "metadata": {
        "id": "LMGitdHK8Rop"
      },
      "source": [
        "If we look at the relative importance of attention vs. value patching for these heads, it's even clearer. But what's apparent is that one of the name mover attention heads is clearly above all the others."
      ]
    },
    {
      "cell_type": "code",
      "execution_count": 25,
      "metadata": {
        "colab": {
          "base_uri": "https://localhost:8080/",
          "height": 236
        },
        "id": "4_5KSLiq-lfT",
        "outputId": "207fb013-2ba3-4c70-b24a-8b9cee0af2a8"
      },
      "outputs": [
        {
          "ename": "NameError",
          "evalue": "ignored",
          "output_type": "error",
          "traceback": [
            "\u001b[0;31m---------------------------------------------------------------------------\u001b[0m",
            "\u001b[0;31mNameError\u001b[0m                                 Traceback (most recent call last)",
            "\u001b[0;32m<ipython-input-25-866d22aca9b9>\u001b[0m in \u001b[0;36m<cell line: 2>\u001b[0;34m()\u001b[0m\n\u001b[1;32m      2\u001b[0m l_scatter(\n\u001b[1;32m      3\u001b[0m     \u001b[0mx\u001b[0m\u001b[0;34m=\u001b[0m\u001b[0mutils\u001b[0m\u001b[0;34m.\u001b[0m\u001b[0mto_numpy\u001b[0m\u001b[0;34m(\u001b[0m\u001b[0mattn_head_pattern_all_pos_act_patch_results\u001b[0m\u001b[0;34m.\u001b[0m\u001b[0mflatten\u001b[0m\u001b[0;34m(\u001b[0m\u001b[0;34m)\u001b[0m\u001b[0;34m)\u001b[0m\u001b[0;34m,\u001b[0m\u001b[0;34m\u001b[0m\u001b[0;34m\u001b[0m\u001b[0m\n\u001b[0;32m----> 4\u001b[0;31m     \u001b[0my\u001b[0m\u001b[0;34m=\u001b[0m\u001b[0mutils\u001b[0m\u001b[0;34m.\u001b[0m\u001b[0mto_numpy\u001b[0m\u001b[0;34m(\u001b[0m\u001b[0mattn_head_out_all_pos_act_patch_results\u001b[0m\u001b[0;34m.\u001b[0m\u001b[0mflatten\u001b[0m\u001b[0;34m(\u001b[0m\u001b[0;34m)\u001b[0m\u001b[0;34m)\u001b[0m\u001b[0;34m,\u001b[0m\u001b[0;34m\u001b[0m\u001b[0;34m\u001b[0m\u001b[0m\n\u001b[0m\u001b[1;32m      5\u001b[0m     \u001b[0mhover_name\u001b[0m \u001b[0;34m=\u001b[0m \u001b[0mhead_labels\u001b[0m\u001b[0;34m,\u001b[0m\u001b[0;34m\u001b[0m\u001b[0;34m\u001b[0m\u001b[0m\n\u001b[1;32m      6\u001b[0m     \u001b[0mxaxis\u001b[0m\u001b[0;34m=\u001b[0m\u001b[0;34m\"Attention Patch\"\u001b[0m\u001b[0;34m,\u001b[0m\u001b[0;34m\u001b[0m\u001b[0;34m\u001b[0m\u001b[0m\n",
            "\u001b[0;31mNameError\u001b[0m: name 'attn_head_out_all_pos_act_patch_results' is not defined"
          ]
        }
      ],
      "source": [
        "head_labels = [f\"L{l}H{h}\" for l in range(model.cfg.n_layers) for h in range(model.cfg.n_heads)]\n",
        "l_scatter(\n",
        "    x=utils.to_numpy(attn_head_pattern_all_pos_act_patch_results.flatten()), \n",
        "    y=utils.to_numpy(attn_head_out_all_pos_act_patch_results.flatten()), \n",
        "    hover_name = head_labels,\n",
        "    xaxis=\"Attention Patch\",\n",
        "    yaxis=\"Output Patch\",\n",
        "    title=\"Scatter plot of output patching vs attention patching\")"
      ]
    },
    {
      "cell_type": "markdown",
      "metadata": {
        "id": "V7scfz6oqIWU"
      },
      "source": [
        "#### Path Patching for NMH Candidate Receivers"
      ]
    },
    {
      "cell_type": "markdown",
      "metadata": {
        "id": "Cs-mFX5Jk5SS"
      },
      "source": [
        "Let us first see what heads are contributing the most to our name mover head candidates. Here we are patching corrupted tokens input in to replace clean token input, so negative values (red) correspond to importance of the respective head."
      ]
    },
    {
      "cell_type": "code",
      "execution_count": 21,
      "metadata": {
        "id": "I91M2_BOe98X"
      },
      "outputs": [],
      "source": [
        "receiver_heads = [(8, 2), (8, 10), (9, 6), (10, 7)]\n",
        "\n",
        "metric_delta_results = torch.zeros(model.cfg.n_layers, model.cfg.n_heads, device='cuda:0')\n",
        "\n",
        "for layer in range(model.cfg.n_layers):\n",
        "        for head_idx in range(model.cfg.n_heads):\n",
        "            pass_d_hooks = path_patching(\n",
        "                model=model,\n",
        "                patch_tokens=corrupted_tokens,\n",
        "                orig_tokens=clean_tokens,\n",
        "                sender_heads=[(layer, head_idx)],\n",
        "                receiver_hooks=[(f\"blocks.{layer_idx}.attn.hook_q\", head_idx) for layer_idx, head_idx in receiver_heads],\n",
        "                positions=-1\n",
        "            )\n",
        "            path_patched_logits = model.run_with_hooks(clean_tokens, fwd_hooks=pass_d_hooks)\n",
        "            iot_metric_res = ioi_metric(path_patched_logits)\n",
        "            metric_delta_results[layer, head_idx] = -(clean_baseline_ioi - iot_metric_res) / clean_baseline_ioi"
      ]
    },
    {
      "cell_type": "markdown",
      "metadata": {
        "id": "pn8lzqpik0q9"
      },
      "source": [
        "We only see one head of importance here--only one potential S2-inhibitor."
      ]
    },
    {
      "cell_type": "code",
      "execution_count": 22,
      "metadata": {
        "colab": {
          "base_uri": "https://localhost:8080/",
          "height": 542
        },
        "id": "0RDS-RRP8mx6",
        "outputId": "433a4d26-ac34-4a03-9d88-97b2121b459c"
      },
      "outputs": [
        {
          "data": {
            "application/vnd.plotly.v1+json": {
              "config": {
                "plotlyServerURL": "https://plot.ly"
              },
              "data": [
                {
                  "coloraxis": "coloraxis",
                  "hovertemplate": "x: %{x}<br>y: %{y}<br>color: %{z}<extra></extra>",
                  "name": "0",
                  "type": "heatmap",
                  "xaxis": "x",
                  "yaxis": "y",
                  "z": [
                    [
                      -0.000007212162017822266,
                      0.000013709068298339844,
                      0.0000016689300537109375,
                      -0.000028848648071289062,
                      -0.0001448988914489746,
                      0.00006103515625,
                      -0.00005841255187988281,
                      -2.980232238769531e-7,
                      -0.0000027418136596679688,
                      -0.00003063678741455078,
                      -0.00004220008850097656,
                      -0.000003933906555175781
                    ],
                    [
                      -0.000048279762268066406,
                      0.00008487701416015625,
                      -0.00003409385681152344,
                      -0.000011265277862548828,
                      -0.00003916025161743164,
                      -0.00013810396194458008,
                      -0.00004220008850097656,
                      -0.000059604644775390625,
                      0.00004780292510986328,
                      -0.00001913309097290039,
                      0.00027108192443847656,
                      -0.00013428926467895508
                    ],
                    [
                      -0.00005644559860229492,
                      -0.0006191134452819824,
                      0.0004899501800537109,
                      -0.00010657310485839844,
                      0.0000013113021850585938,
                      -0.00006979703903198242,
                      0.0006805658340454102,
                      0.00005233287811279297,
                      0.00026154518127441406,
                      0.00018668174743652344,
                      0.0001608133316040039,
                      -0.00034046173095703125
                    ],
                    [
                      0.000045180320739746094,
                      0.000040531158447265625,
                      -0.00006079673767089844,
                      -0.00029796361923217773,
                      -0.00026679039001464844,
                      0.00019073486328125,
                      0.00017905235290527344,
                      0.0002378225326538086,
                      -0.0004649162292480469,
                      -0.000052094459533691406,
                      -0.0002522468566894531,
                      -0.000010848045349121094
                    ],
                    [
                      -0.00014519691467285156,
                      -0.000010848045349121094,
                      0.00017189979553222656,
                      -0.00015681982040405273,
                      0.00022614002227783203,
                      -0.00012695789337158203,
                      -0.00001913309097290039,
                      0.0003273487091064453,
                      -0.00009822845458984375,
                      -0.00033098459243774414,
                      0.00001430511474609375,
                      0.00010144710540771484
                    ],
                    [
                      0.0001264810562133789,
                      0.00014543533325195312,
                      -0.000044405460357666016,
                      -0.0009586811065673828,
                      0.00000476837158203125,
                      0.0006846189498901367,
                      0.000023365020751953125,
                      0.0000025033950805664062,
                      -0.0004519820213317871,
                      -0.0000807642936706543,
                      0.00004744529724121094,
                      0.0007338523864746094
                    ],
                    [
                      -0.000690758228302002,
                      0.0000400543212890625,
                      0.0033113956451416016,
                      -0.0021248459815979004,
                      -0.0008125901222229004,
                      -0.049492478370666504,
                      -0.32093966007232666,
                      -0.003915309906005859,
                      0.0009615421295166016,
                      0.000002384185791015625,
                      0.00035643577575683594,
                      -0.020141780376434326
                    ],
                    [
                      -0.0016936063766479492,
                      0.00006496906280517578,
                      -0.053491950035095215,
                      0.0009839534759521484,
                      -0.005993366241455078,
                      0.0005383491516113281,
                      0.010139107704162598,
                      -0.005821704864501953,
                      -0.00016176700592041016,
                      -0.04605746269226074,
                      0.0067816972732543945,
                      -0.0361706018447876
                    ],
                    [
                      0.000028848648071289062,
                      0.0000025033950805664062,
                      0.007052779197692871,
                      0.0000209808349609375,
                      0.0007387399673461914,
                      -0.0001506805419921875,
                      -0.001117706298828125,
                      -0.0016422271728515625,
                      0.002763509750366211,
                      -0.025374412536621094,
                      0.0102006196975708,
                      0.0023832321166992188
                    ],
                    [
                      -0.000893712043762207,
                      -0.0023650527000427246,
                      -0.0008158087730407715,
                      -0.0003758668899536133,
                      0.0000059604644775390625,
                      0.0028465986251831055,
                      -0.0038193464279174805,
                      -0.000273287296295166,
                      -0.0013995766639709473,
                      0.0026264190673828125,
                      0.0000010728836059570312,
                      0.000006794929504394531
                    ],
                    [
                      0,
                      0,
                      0,
                      0,
                      0,
                      0,
                      0,
                      0,
                      0,
                      0,
                      0,
                      0
                    ],
                    [
                      0,
                      0,
                      0,
                      0,
                      0,
                      0,
                      0,
                      0,
                      0,
                      0,
                      0,
                      0
                    ]
                  ]
                }
              ],
              "layout": {
                "coloraxis": {
                  "cmid": 0,
                  "colorscale": [
                    [
                      0,
                      "rgb(103,0,31)"
                    ],
                    [
                      0.1,
                      "rgb(178,24,43)"
                    ],
                    [
                      0.2,
                      "rgb(214,96,77)"
                    ],
                    [
                      0.3,
                      "rgb(244,165,130)"
                    ],
                    [
                      0.4,
                      "rgb(253,219,199)"
                    ],
                    [
                      0.5,
                      "rgb(247,247,247)"
                    ],
                    [
                      0.6,
                      "rgb(209,229,240)"
                    ],
                    [
                      0.7,
                      "rgb(146,197,222)"
                    ],
                    [
                      0.8,
                      "rgb(67,147,195)"
                    ],
                    [
                      0.9,
                      "rgb(33,102,172)"
                    ],
                    [
                      1,
                      "rgb(5,48,97)"
                    ]
                  ]
                },
                "template": {
                  "data": {
                    "bar": [
                      {
                        "error_x": {
                          "color": "#2a3f5f"
                        },
                        "error_y": {
                          "color": "#2a3f5f"
                        },
                        "marker": {
                          "line": {
                            "color": "#E5ECF6",
                            "width": 0.5
                          },
                          "pattern": {
                            "fillmode": "overlay",
                            "size": 10,
                            "solidity": 0.2
                          }
                        },
                        "type": "bar"
                      }
                    ],
                    "barpolar": [
                      {
                        "marker": {
                          "line": {
                            "color": "#E5ECF6",
                            "width": 0.5
                          },
                          "pattern": {
                            "fillmode": "overlay",
                            "size": 10,
                            "solidity": 0.2
                          }
                        },
                        "type": "barpolar"
                      }
                    ],
                    "carpet": [
                      {
                        "aaxis": {
                          "endlinecolor": "#2a3f5f",
                          "gridcolor": "white",
                          "linecolor": "white",
                          "minorgridcolor": "white",
                          "startlinecolor": "#2a3f5f"
                        },
                        "baxis": {
                          "endlinecolor": "#2a3f5f",
                          "gridcolor": "white",
                          "linecolor": "white",
                          "minorgridcolor": "white",
                          "startlinecolor": "#2a3f5f"
                        },
                        "type": "carpet"
                      }
                    ],
                    "choropleth": [
                      {
                        "colorbar": {
                          "outlinewidth": 0,
                          "ticks": ""
                        },
                        "type": "choropleth"
                      }
                    ],
                    "contour": [
                      {
                        "colorbar": {
                          "outlinewidth": 0,
                          "ticks": ""
                        },
                        "colorscale": [
                          [
                            0,
                            "#0d0887"
                          ],
                          [
                            0.1111111111111111,
                            "#46039f"
                          ],
                          [
                            0.2222222222222222,
                            "#7201a8"
                          ],
                          [
                            0.3333333333333333,
                            "#9c179e"
                          ],
                          [
                            0.4444444444444444,
                            "#bd3786"
                          ],
                          [
                            0.5555555555555556,
                            "#d8576b"
                          ],
                          [
                            0.6666666666666666,
                            "#ed7953"
                          ],
                          [
                            0.7777777777777778,
                            "#fb9f3a"
                          ],
                          [
                            0.8888888888888888,
                            "#fdca26"
                          ],
                          [
                            1,
                            "#f0f921"
                          ]
                        ],
                        "type": "contour"
                      }
                    ],
                    "contourcarpet": [
                      {
                        "colorbar": {
                          "outlinewidth": 0,
                          "ticks": ""
                        },
                        "type": "contourcarpet"
                      }
                    ],
                    "heatmap": [
                      {
                        "colorbar": {
                          "outlinewidth": 0,
                          "ticks": ""
                        },
                        "colorscale": [
                          [
                            0,
                            "#0d0887"
                          ],
                          [
                            0.1111111111111111,
                            "#46039f"
                          ],
                          [
                            0.2222222222222222,
                            "#7201a8"
                          ],
                          [
                            0.3333333333333333,
                            "#9c179e"
                          ],
                          [
                            0.4444444444444444,
                            "#bd3786"
                          ],
                          [
                            0.5555555555555556,
                            "#d8576b"
                          ],
                          [
                            0.6666666666666666,
                            "#ed7953"
                          ],
                          [
                            0.7777777777777778,
                            "#fb9f3a"
                          ],
                          [
                            0.8888888888888888,
                            "#fdca26"
                          ],
                          [
                            1,
                            "#f0f921"
                          ]
                        ],
                        "type": "heatmap"
                      }
                    ],
                    "heatmapgl": [
                      {
                        "colorbar": {
                          "outlinewidth": 0,
                          "ticks": ""
                        },
                        "colorscale": [
                          [
                            0,
                            "#0d0887"
                          ],
                          [
                            0.1111111111111111,
                            "#46039f"
                          ],
                          [
                            0.2222222222222222,
                            "#7201a8"
                          ],
                          [
                            0.3333333333333333,
                            "#9c179e"
                          ],
                          [
                            0.4444444444444444,
                            "#bd3786"
                          ],
                          [
                            0.5555555555555556,
                            "#d8576b"
                          ],
                          [
                            0.6666666666666666,
                            "#ed7953"
                          ],
                          [
                            0.7777777777777778,
                            "#fb9f3a"
                          ],
                          [
                            0.8888888888888888,
                            "#fdca26"
                          ],
                          [
                            1,
                            "#f0f921"
                          ]
                        ],
                        "type": "heatmapgl"
                      }
                    ],
                    "histogram": [
                      {
                        "marker": {
                          "pattern": {
                            "fillmode": "overlay",
                            "size": 10,
                            "solidity": 0.2
                          }
                        },
                        "type": "histogram"
                      }
                    ],
                    "histogram2d": [
                      {
                        "colorbar": {
                          "outlinewidth": 0,
                          "ticks": ""
                        },
                        "colorscale": [
                          [
                            0,
                            "#0d0887"
                          ],
                          [
                            0.1111111111111111,
                            "#46039f"
                          ],
                          [
                            0.2222222222222222,
                            "#7201a8"
                          ],
                          [
                            0.3333333333333333,
                            "#9c179e"
                          ],
                          [
                            0.4444444444444444,
                            "#bd3786"
                          ],
                          [
                            0.5555555555555556,
                            "#d8576b"
                          ],
                          [
                            0.6666666666666666,
                            "#ed7953"
                          ],
                          [
                            0.7777777777777778,
                            "#fb9f3a"
                          ],
                          [
                            0.8888888888888888,
                            "#fdca26"
                          ],
                          [
                            1,
                            "#f0f921"
                          ]
                        ],
                        "type": "histogram2d"
                      }
                    ],
                    "histogram2dcontour": [
                      {
                        "colorbar": {
                          "outlinewidth": 0,
                          "ticks": ""
                        },
                        "colorscale": [
                          [
                            0,
                            "#0d0887"
                          ],
                          [
                            0.1111111111111111,
                            "#46039f"
                          ],
                          [
                            0.2222222222222222,
                            "#7201a8"
                          ],
                          [
                            0.3333333333333333,
                            "#9c179e"
                          ],
                          [
                            0.4444444444444444,
                            "#bd3786"
                          ],
                          [
                            0.5555555555555556,
                            "#d8576b"
                          ],
                          [
                            0.6666666666666666,
                            "#ed7953"
                          ],
                          [
                            0.7777777777777778,
                            "#fb9f3a"
                          ],
                          [
                            0.8888888888888888,
                            "#fdca26"
                          ],
                          [
                            1,
                            "#f0f921"
                          ]
                        ],
                        "type": "histogram2dcontour"
                      }
                    ],
                    "mesh3d": [
                      {
                        "colorbar": {
                          "outlinewidth": 0,
                          "ticks": ""
                        },
                        "type": "mesh3d"
                      }
                    ],
                    "parcoords": [
                      {
                        "line": {
                          "colorbar": {
                            "outlinewidth": 0,
                            "ticks": ""
                          }
                        },
                        "type": "parcoords"
                      }
                    ],
                    "pie": [
                      {
                        "automargin": true,
                        "type": "pie"
                      }
                    ],
                    "scatter": [
                      {
                        "fillpattern": {
                          "fillmode": "overlay",
                          "size": 10,
                          "solidity": 0.2
                        },
                        "type": "scatter"
                      }
                    ],
                    "scatter3d": [
                      {
                        "line": {
                          "colorbar": {
                            "outlinewidth": 0,
                            "ticks": ""
                          }
                        },
                        "marker": {
                          "colorbar": {
                            "outlinewidth": 0,
                            "ticks": ""
                          }
                        },
                        "type": "scatter3d"
                      }
                    ],
                    "scattercarpet": [
                      {
                        "marker": {
                          "colorbar": {
                            "outlinewidth": 0,
                            "ticks": ""
                          }
                        },
                        "type": "scattercarpet"
                      }
                    ],
                    "scattergeo": [
                      {
                        "marker": {
                          "colorbar": {
                            "outlinewidth": 0,
                            "ticks": ""
                          }
                        },
                        "type": "scattergeo"
                      }
                    ],
                    "scattergl": [
                      {
                        "marker": {
                          "colorbar": {
                            "outlinewidth": 0,
                            "ticks": ""
                          }
                        },
                        "type": "scattergl"
                      }
                    ],
                    "scattermapbox": [
                      {
                        "marker": {
                          "colorbar": {
                            "outlinewidth": 0,
                            "ticks": ""
                          }
                        },
                        "type": "scattermapbox"
                      }
                    ],
                    "scatterpolar": [
                      {
                        "marker": {
                          "colorbar": {
                            "outlinewidth": 0,
                            "ticks": ""
                          }
                        },
                        "type": "scatterpolar"
                      }
                    ],
                    "scatterpolargl": [
                      {
                        "marker": {
                          "colorbar": {
                            "outlinewidth": 0,
                            "ticks": ""
                          }
                        },
                        "type": "scatterpolargl"
                      }
                    ],
                    "scatterternary": [
                      {
                        "marker": {
                          "colorbar": {
                            "outlinewidth": 0,
                            "ticks": ""
                          }
                        },
                        "type": "scatterternary"
                      }
                    ],
                    "surface": [
                      {
                        "colorbar": {
                          "outlinewidth": 0,
                          "ticks": ""
                        },
                        "colorscale": [
                          [
                            0,
                            "#0d0887"
                          ],
                          [
                            0.1111111111111111,
                            "#46039f"
                          ],
                          [
                            0.2222222222222222,
                            "#7201a8"
                          ],
                          [
                            0.3333333333333333,
                            "#9c179e"
                          ],
                          [
                            0.4444444444444444,
                            "#bd3786"
                          ],
                          [
                            0.5555555555555556,
                            "#d8576b"
                          ],
                          [
                            0.6666666666666666,
                            "#ed7953"
                          ],
                          [
                            0.7777777777777778,
                            "#fb9f3a"
                          ],
                          [
                            0.8888888888888888,
                            "#fdca26"
                          ],
                          [
                            1,
                            "#f0f921"
                          ]
                        ],
                        "type": "surface"
                      }
                    ],
                    "table": [
                      {
                        "cells": {
                          "fill": {
                            "color": "#EBF0F8"
                          },
                          "line": {
                            "color": "white"
                          }
                        },
                        "header": {
                          "fill": {
                            "color": "#C8D4E3"
                          },
                          "line": {
                            "color": "white"
                          }
                        },
                        "type": "table"
                      }
                    ]
                  },
                  "layout": {
                    "annotationdefaults": {
                      "arrowcolor": "#2a3f5f",
                      "arrowhead": 0,
                      "arrowwidth": 1
                    },
                    "autotypenumbers": "strict",
                    "coloraxis": {
                      "colorbar": {
                        "outlinewidth": 0,
                        "ticks": ""
                      }
                    },
                    "colorscale": {
                      "diverging": [
                        [
                          0,
                          "#8e0152"
                        ],
                        [
                          0.1,
                          "#c51b7d"
                        ],
                        [
                          0.2,
                          "#de77ae"
                        ],
                        [
                          0.3,
                          "#f1b6da"
                        ],
                        [
                          0.4,
                          "#fde0ef"
                        ],
                        [
                          0.5,
                          "#f7f7f7"
                        ],
                        [
                          0.6,
                          "#e6f5d0"
                        ],
                        [
                          0.7,
                          "#b8e186"
                        ],
                        [
                          0.8,
                          "#7fbc41"
                        ],
                        [
                          0.9,
                          "#4d9221"
                        ],
                        [
                          1,
                          "#276419"
                        ]
                      ],
                      "sequential": [
                        [
                          0,
                          "#0d0887"
                        ],
                        [
                          0.1111111111111111,
                          "#46039f"
                        ],
                        [
                          0.2222222222222222,
                          "#7201a8"
                        ],
                        [
                          0.3333333333333333,
                          "#9c179e"
                        ],
                        [
                          0.4444444444444444,
                          "#bd3786"
                        ],
                        [
                          0.5555555555555556,
                          "#d8576b"
                        ],
                        [
                          0.6666666666666666,
                          "#ed7953"
                        ],
                        [
                          0.7777777777777778,
                          "#fb9f3a"
                        ],
                        [
                          0.8888888888888888,
                          "#fdca26"
                        ],
                        [
                          1,
                          "#f0f921"
                        ]
                      ],
                      "sequentialminus": [
                        [
                          0,
                          "#0d0887"
                        ],
                        [
                          0.1111111111111111,
                          "#46039f"
                        ],
                        [
                          0.2222222222222222,
                          "#7201a8"
                        ],
                        [
                          0.3333333333333333,
                          "#9c179e"
                        ],
                        [
                          0.4444444444444444,
                          "#bd3786"
                        ],
                        [
                          0.5555555555555556,
                          "#d8576b"
                        ],
                        [
                          0.6666666666666666,
                          "#ed7953"
                        ],
                        [
                          0.7777777777777778,
                          "#fb9f3a"
                        ],
                        [
                          0.8888888888888888,
                          "#fdca26"
                        ],
                        [
                          1,
                          "#f0f921"
                        ]
                      ]
                    },
                    "colorway": [
                      "#636efa",
                      "#EF553B",
                      "#00cc96",
                      "#ab63fa",
                      "#FFA15A",
                      "#19d3f3",
                      "#FF6692",
                      "#B6E880",
                      "#FF97FF",
                      "#FECB52"
                    ],
                    "font": {
                      "color": "#2a3f5f"
                    },
                    "geo": {
                      "bgcolor": "white",
                      "lakecolor": "white",
                      "landcolor": "#E5ECF6",
                      "showlakes": true,
                      "showland": true,
                      "subunitcolor": "white"
                    },
                    "hoverlabel": {
                      "align": "left"
                    },
                    "hovermode": "closest",
                    "mapbox": {
                      "style": "light"
                    },
                    "paper_bgcolor": "white",
                    "plot_bgcolor": "#E5ECF6",
                    "polar": {
                      "angularaxis": {
                        "gridcolor": "white",
                        "linecolor": "white",
                        "ticks": ""
                      },
                      "bgcolor": "#E5ECF6",
                      "radialaxis": {
                        "gridcolor": "white",
                        "linecolor": "white",
                        "ticks": ""
                      }
                    },
                    "scene": {
                      "xaxis": {
                        "backgroundcolor": "#E5ECF6",
                        "gridcolor": "white",
                        "gridwidth": 2,
                        "linecolor": "white",
                        "showbackground": true,
                        "ticks": "",
                        "zerolinecolor": "white"
                      },
                      "yaxis": {
                        "backgroundcolor": "#E5ECF6",
                        "gridcolor": "white",
                        "gridwidth": 2,
                        "linecolor": "white",
                        "showbackground": true,
                        "ticks": "",
                        "zerolinecolor": "white"
                      },
                      "zaxis": {
                        "backgroundcolor": "#E5ECF6",
                        "gridcolor": "white",
                        "gridwidth": 2,
                        "linecolor": "white",
                        "showbackground": true,
                        "ticks": "",
                        "zerolinecolor": "white"
                      }
                    },
                    "shapedefaults": {
                      "line": {
                        "color": "#2a3f5f"
                      }
                    },
                    "ternary": {
                      "aaxis": {
                        "gridcolor": "white",
                        "linecolor": "white",
                        "ticks": ""
                      },
                      "baxis": {
                        "gridcolor": "white",
                        "linecolor": "white",
                        "ticks": ""
                      },
                      "bgcolor": "#E5ECF6",
                      "caxis": {
                        "gridcolor": "white",
                        "linecolor": "white",
                        "ticks": ""
                      }
                    },
                    "title": {
                      "x": 0.05
                    },
                    "xaxis": {
                      "automargin": true,
                      "gridcolor": "white",
                      "linecolor": "white",
                      "ticks": "",
                      "title": {
                        "standoff": 15
                      },
                      "zerolinecolor": "white",
                      "zerolinewidth": 2
                    },
                    "yaxis": {
                      "automargin": true,
                      "gridcolor": "white",
                      "linecolor": "white",
                      "ticks": "",
                      "title": {
                        "standoff": 15
                      },
                      "zerolinecolor": "white",
                      "zerolinewidth": 2
                    }
                  }
                },
                "title": {
                  "text": "IOI Metric Change From Each Head Through Receivers"
                },
                "xaxis": {
                  "anchor": "y",
                  "domain": [
                    0,
                    1
                  ],
                  "title": {
                    "text": "x"
                  }
                },
                "yaxis": {
                  "anchor": "x",
                  "autorange": "reversed",
                  "domain": [
                    0,
                    1
                  ],
                  "title": {
                    "text": "y"
                  }
                }
              }
            }
          },
          "metadata": {},
          "output_type": "display_data"
        }
      ],
      "source": [
        "imshow(metric_delta_results, title=\"IOI Metric Change From Each Head Through Receivers\")#, zmin=-0.02, zmax=0.02)"
      ]
    },
    {
      "cell_type": "markdown",
      "metadata": {
        "id": "qz8WYbfCUq6W"
      },
      "source": [
        "### Second Level"
      ]
    },
    {
      "cell_type": "markdown",
      "metadata": {
        "id": "aB0fKK8OVy34"
      },
      "source": [
        "#### Attention Pattern for Second-Level Heads"
      ]
    },
    {
      "cell_type": "markdown",
      "metadata": {
        "id": "32vOYD_kW6cx"
      },
      "source": [
        "Here we can see that the positive head we've identified is highly focused on S2, adding evidence for its role as an S2-inhibitor."
      ]
    },
    {
      "cell_type": "code",
      "execution_count": null,
      "metadata": {
        "colab": {
          "base_uri": "https://localhost:8080/",
          "height": 844
        },
        "id": "zXTbbs53V3bB",
        "outputId": "a3f1f366-2ae4-4f98-c885-8a08d0a8484d"
      },
      "outputs": [
        {
          "data": {
            "text/html": [
              "<div id=\"circuits-vis-a8942153-e179\" style=\"margin: 15px 0;\"/>\n",
              "    <script crossorigin type=\"module\">\n",
              "    import { render, AttentionHeads } from \"https://unpkg.com/circuitsvis@1.39.1/dist/cdn/esm.js\";\n",
              "    render(\n",
              "      \"circuits-vis-a8942153-e179\",\n",
              "      AttentionHeads,\n",
              "      {\"attention\": [[[1.0, 0.0, 0.0, 0.0, 0.0, 0.0, 0.0, 0.0, 0.0, 0.0, 0.0, 0.0, 0.0, 0.0, 0.0, 0.0, 0.0], [0.9908528923988342, 0.009147152304649353, 0.0, 0.0, 0.0, 0.0, 0.0, 0.0, 0.0, 0.0, 0.0, 0.0, 0.0, 0.0, 0.0, 0.0, 0.0], [0.997302770614624, 0.0005569779896177351, 0.002140195108950138, 0.0, 0.0, 0.0, 0.0, 0.0, 0.0, 0.0, 0.0, 0.0, 0.0, 0.0, 0.0, 0.0, 0.0], [0.014382022432982922, 0.035638511180877686, 0.9356981515884399, 0.014281346462666988, 0.0, 0.0, 0.0, 0.0, 0.0, 0.0, 0.0, 0.0, 0.0, 0.0, 0.0, 0.0, 0.0], [0.9309168457984924, 0.006300574634224176, 0.010319956578314304, 0.0407630056142807, 0.011699664406478405, 0.0, 0.0, 0.0, 0.0, 0.0, 0.0, 0.0, 0.0, 0.0, 0.0, 0.0, 0.0], [0.9830211400985718, 0.00135323207359761, 0.008473161607980728, 0.004033352714031935, 0.0017045161221176386, 0.001414560480043292, 0.0, 0.0, 0.0, 0.0, 0.0, 0.0, 0.0, 0.0, 0.0, 0.0, 0.0], [0.9514468312263489, 0.0016436743317171931, 0.020409567281603813, 0.007343794219195843, 0.01412182580679655, 0.0022579003125429153, 0.002776374574750662, 0.0, 0.0, 0.0, 0.0, 0.0, 0.0, 0.0, 0.0, 0.0, 0.0], [0.9725351929664612, 0.003353739157319069, 0.0085005396977067, 0.0033700778149068356, 0.003228226210922003, 0.0008211891399696469, 0.0009392595384269953, 0.00725181121379137, 0.0, 0.0, 0.0, 0.0, 0.0, 0.0, 0.0, 0.0, 0.0], [0.9646738767623901, 0.0021496042609214783, 0.007378367707133293, 0.0035534119233489037, 0.0034137647598981857, 0.0005619333824142814, 0.00022736834944225848, 0.0006644141394644976, 0.01737731322646141, 0.0, 0.0, 0.0, 0.0, 0.0, 0.0, 0.0, 0.0], [0.7745440602302551, 0.06003393977880478, 0.07068001478910446, 0.01048945914953947, 0.024197498336434364, 0.005101419985294342, 0.004672245122492313, 0.006518403068184853, 0.02769855037331581, 0.016064360737800598, 0.0, 0.0, 0.0, 0.0, 0.0, 0.0, 0.0], [0.7532816529273987, 0.008641153573989868, 0.010151865892112255, 0.09055959433317184, 0.0073541863821446896, 0.060061175376176834, 0.006875046528875828, 0.0016631361795589328, 0.0015922817401587963, 0.00431111641228199, 0.055508747696876526, 0.0, 0.0, 0.0, 0.0, 0.0, 0.0], [0.29374420642852783, 0.004318954423069954, 0.06724048405885696, 0.005857817828655243, 0.03890036791563034, 0.0011415248736739159, 0.0009957847651094198, 0.0026740843895822763, 0.005062600132077932, 0.00629565492272377, 0.5591749548912048, 0.01459348201751709, 0.0, 0.0, 0.0, 0.0, 0.0], [0.9244523048400879, 0.004811933729797602, 0.010415439493954182, 0.0014287949306890368, 0.0049887727946043015, 0.0012763348640874028, 0.0036389229353517294, 0.0011476092040538788, 0.006029303651303053, 0.003865730483084917, 0.013048695400357246, 0.004584053996950388, 0.020312007516622543, 0.0, 0.0, 0.0, 0.0], [0.9466182589530945, 0.0015273650642484426, 0.004160529002547264, 0.0025005859788507223, 0.006119356025010347, 0.0013091334840282798, 0.0018231626600027084, 0.0007926253601908684, 0.0063890269957482815, 0.007613773457705975, 0.012310098856687546, 0.0007891167188063264, 0.00288591836579144, 0.005161119159311056, 0.0, 0.0, 0.0], [0.9490718841552734, 0.00023884110851213336, 0.004466382320970297, 0.0007739338325336576, 0.011095086112618446, 8.266370423370972e-05, 0.00023027422139421105, 0.0005676429136656225, 0.007065350189805031, 0.001130200456827879, 0.005062821786850691, 7.173103222157806e-05, 0.0005918143433518708, 0.01020644698292017, 0.00934497732669115, 0.0, 0.0], [0.9170876145362854, 0.001754308003000915, 0.004724721424281597, 0.0028720139525830746, 0.0012818449176847935, 0.002349736401811242, 0.0014333765720948577, 0.0004611680924426764, 0.0032403948716819286, 0.012435263022780418, 0.011995519511401653, 0.0016498942859470844, 0.0012919182190671563, 0.003110461635515094, 0.01362322736531496, 0.020688481628894806, 0.0], [0.21206466853618622, 0.000852306024171412, 0.03639031946659088, 0.0010565606644377112, 0.03232167661190033, 0.0001944379328051582, 0.00014419389481190592, 0.0017227634089067578, 0.003194035030901432, 0.0012075372505933046, 0.7072051763534546, 0.0012011375511065125, 0.00037453309050761163, 0.00025531876599416137, 5.309010521159507e-05, 0.0006658689235337079, 0.0010963925160467625]], [[1.0, 0.0, 0.0, 0.0, 0.0, 0.0, 0.0, 0.0, 0.0, 0.0, 0.0, 0.0, 0.0, 0.0, 0.0, 0.0, 0.0], [0.9989277720451355, 0.0010722599690780044, 0.0, 0.0, 0.0, 0.0, 0.0, 0.0, 0.0, 0.0, 0.0, 0.0, 0.0, 0.0, 0.0, 0.0, 0.0], [0.9922264814376831, 0.0002859597734641284, 0.00748748192563653, 0.0, 0.0, 0.0, 0.0, 0.0, 0.0, 0.0, 0.0, 0.0, 0.0, 0.0, 0.0, 0.0, 0.0], [0.8110906481742859, 7.301795994862914e-05, 0.18436814844608307, 0.004468102473765612, 0.0, 0.0, 0.0, 0.0, 0.0, 0.0, 0.0, 0.0, 0.0, 0.0, 0.0, 0.0, 0.0], [0.9349445700645447, 0.03327052667737007, 0.004135419614613056, 0.01969289220869541, 0.00795664731413126, 0.0, 0.0, 0.0, 0.0, 0.0, 0.0, 0.0, 0.0, 0.0, 0.0, 0.0, 0.0], [0.9836381673812866, 0.008010164834558964, 0.0002702389028854668, 0.0041373963467776775, 0.0018288008868694305, 0.002115239854902029, 0.0, 0.0, 0.0, 0.0, 0.0, 0.0, 0.0, 0.0, 0.0, 0.0, 0.0], [0.9474867582321167, 0.0005119006964378059, 0.0030661248601973057, 0.003312035696581006, 0.03956843540072441, 0.004762840457260609, 0.0012919551227241755, 0.0, 0.0, 0.0, 0.0, 0.0, 0.0, 0.0, 0.0, 0.0, 0.0], [0.7418878674507141, 0.022228730842471123, 0.0004128387081436813, 0.005387865472584963, 0.005283655133098364, 0.012402393855154514, 0.017345597967505455, 0.1950509250164032, 0.0, 0.0, 0.0, 0.0, 0.0, 0.0, 0.0, 0.0, 0.0], [0.6699872612953186, 0.15499480068683624, 0.03856242075562477, 0.007988952100276947, 0.03659941256046295, 0.017534885555505753, 0.006018610671162605, 0.011737925931811333, 0.056575674563646317, 0.0, 0.0, 0.0, 0.0, 0.0, 0.0, 0.0, 0.0], [0.19185872375965118, 0.0026139453984797, 0.2003801465034485, 0.02464349940419197, 0.5551615953445435, 0.01963791809976101, 0.0027393915224820375, 0.0018910462968051434, 0.000483059324324131, 0.0005907018203288317, 0.0, 0.0, 0.0, 0.0, 0.0, 0.0, 0.0], [0.7393664121627808, 0.011860638856887817, 0.0005097945686429739, 0.008528310805559158, 0.006546869408339262, 0.01900421641767025, 0.024217909201979637, 0.05324661359190941, 0.0373905710875988, 0.02183636836707592, 0.07749228924512863, 0.0, 0.0, 0.0, 0.0, 0.0, 0.0], [0.03397153317928314, 0.0004066631954628974, 0.025381458923220634, 0.009001560509204865, 0.1741296797990799, 0.00045633153058588505, 0.0001483663363615051, 0.0014131700154393911, 0.0013346999185159802, 0.000749430269934237, 0.7421172857284546, 0.010889812372624874, 0.0, 0.0, 0.0, 0.0, 0.0], [0.8620191216468811, 0.0024188710376620293, 0.0017027194844558835, 0.005400673020631075, 0.0036338157951831818, 0.00037212506867945194, 0.0001524962717667222, 0.0038408865220844746, 0.02735332027077675, 0.025721173733472824, 0.01647358015179634, 0.023470912128686905, 0.027440275996923447, 0.0, 0.0, 0.0, 0.0], [0.5469768047332764, 0.004172143060714006, 0.0003470999945420772, 0.0013105814578011632, 0.00212832260876894, 0.0008917772793211043, 0.0006227128906175494, 0.003208278678357601, 0.05023495480418205, 0.05776364356279373, 0.03197028115391731, 0.12115638703107834, 0.08679821342229843, 0.09241878241300583, 0.0, 0.0, 0.0], [0.12050502747297287, 0.0001182944979518652, 5.5851091019576415e-05, 1.7293414202868007e-05, 8.258286834461614e-05, 1.181037168862531e-05, 7.971811101015192e-06, 0.0005698897875845432, 0.0034134609159082174, 0.00044556771172210574, 0.007017660420387983, 0.0042377617210149765, 0.010669350624084473, 0.27315816283226013, 0.5796893239021301, 0.0, 0.0], [0.20461811125278473, 0.0168217271566391, 0.0005378369824029505, 0.0006659259670414031, 0.0038967656437307596, 0.0017627462511882186, 0.004305435810238123, 0.007432318292558193, 0.06061805039644241, 0.11483641713857651, 0.06407233327627182, 0.3385132849216461, 0.05532827973365784, 0.04776587337255478, 0.014313057996332645, 0.06451182812452316, 0.0], [0.0018075498519465327, 4.4593096390599385e-05, 0.0018813906935974956, 0.0001873776054708287, 0.06574095785617828, 8.84245237102732e-05, 5.642602627631277e-05, 8.429291483480483e-05, 2.0376370230223984e-05, 5.218554724706337e-05, 0.9236196279525757, 0.005677456967532635, 0.00047244937741197646, 1.0106755325978156e-05, 4.622003189069801e-07, 6.142957863630727e-05, 0.00019484189397189766]], [[1.0, 0.0, 0.0, 0.0, 0.0, 0.0, 0.0, 0.0, 0.0, 0.0, 0.0, 0.0, 0.0, 0.0, 0.0, 0.0, 0.0], [0.9997488856315613, 0.0002510641934350133, 0.0, 0.0, 0.0, 0.0, 0.0, 0.0, 0.0, 0.0, 0.0, 0.0, 0.0, 0.0, 0.0, 0.0, 0.0], [0.9876771569252014, 0.00020749217947013676, 0.01211539562791586, 0.0, 0.0, 0.0, 0.0, 0.0, 0.0, 0.0, 0.0, 0.0, 0.0, 0.0, 0.0, 0.0, 0.0], [0.17900928854942322, 2.358527490287088e-05, 0.8194864392280579, 0.001480701263062656, 0.0, 0.0, 0.0, 0.0, 0.0, 0.0, 0.0, 0.0, 0.0, 0.0, 0.0, 0.0, 0.0], [0.9772250056266785, 3.593956716940738e-05, 0.006211355794221163, 0.0003374628140591085, 0.0161903016269207, 0.0, 0.0, 0.0, 0.0, 0.0, 0.0, 0.0, 0.0, 0.0, 0.0, 0.0, 0.0], [0.9914421439170837, 6.5896397245523985e-06, 0.0004417300224304199, 1.6903408322832547e-05, 0.007800040300935507, 0.0002926168672274798, 0.0, 0.0, 0.0, 0.0, 0.0, 0.0, 0.0, 0.0, 0.0, 0.0, 0.0], [0.6981496214866638, 3.1846336696617072e-06, 0.02372661791741848, 4.1137944208458066e-05, 0.2771628797054291, 0.0007157824584282935, 0.00020071618200745434, 0.0, 0.0, 0.0, 0.0, 0.0, 0.0, 0.0, 0.0, 0.0, 0.0], [0.8376510739326477, 1.1344830454618204e-05, 0.008382703177630901, 0.0015116757713258266, 0.12916553020477295, 0.001416884595528245, 0.0005343532538972795, 0.02132643386721611, 0.0, 0.0, 0.0, 0.0, 0.0, 0.0, 0.0, 0.0, 0.0], [0.9006764888763428, 5.537700786817368e-08, 0.0003420390421524644, 1.5733989130239934e-05, 0.09765750169754028, 5.942859843344195e-06, 9.952417713066097e-06, 0.0008015019702725112, 0.0004909061244688928, 0.0, 0.0, 0.0, 0.0, 0.0, 0.0, 0.0, 0.0], [0.34962016344070435, 2.051772753475234e-06, 0.00036126168561168015, 0.0005551787908188999, 0.6487266421318054, 5.1187795179430395e-05, 0.00010868249228224158, 0.00030570192029699683, 0.0002551741781644523, 1.3953025700175203e-05, 0.0, 0.0, 0.0, 0.0, 0.0, 0.0, 0.0], [0.10346463322639465, 0.0003095047431997955, 0.0027883786242455244, 0.011044417507946491, 0.6629182696342468, 0.054869212210178375, 0.057306237518787384, 0.05792514979839325, 0.03593143820762634, 0.0015996681759133935, 0.01184314675629139, 0.0, 0.0, 0.0, 0.0, 0.0, 0.0], [0.36924874782562256, 1.1306440939051754e-07, 2.3826260076020844e-05, 0.00021739714429713786, 0.03108922205865383, 1.4006735000293702e-05, 2.0476377358136233e-06, 9.854968993749935e-06, 2.6606081519275904e-05, 3.064418478970765e-07, 0.599349856376648, 1.8002576325670816e-05, 0.0, 0.0, 0.0, 0.0, 0.0], [0.6936678886413574, 0.00012491295638028532, 0.006047734059393406, 0.0002569782955106348, 0.23576384782791138, 0.00020401994697749615, 7.041709613986313e-05, 0.0001968518045032397, 0.0007621549884788692, 0.0001790387905202806, 0.04285723716020584, 0.00016465663793496788, 0.019704284146428108, 0.0, 0.0, 0.0, 0.0], [0.3775239884853363, 5.030394277127925e-06, 0.00040264957351610065, 0.00038245617179200053, 0.35547447204589844, 0.0007464854861609638, 0.0004346245841588825, 0.0017116450471803546, 0.004557175096124411, 0.0015021548606455326, 0.24843397736549377, 0.00019776276894845068, 0.003394054714590311, 0.00523344473913312, 0.0, 0.0, 0.0], [0.2316569834947586, 1.828063432185445e-06, 0.00029666771297343075, 4.9264435801887885e-05, 0.4025212824344635, 0.00010616821236908436, 3.265734267188236e-05, 0.0002708453976083547, 0.0026267978828400373, 0.002523701172322035, 0.3538389205932617, 1.99046335183084e-05, 0.00011126333265565336, 0.0007616474176757038, 0.005182092543691397, 0.0, 0.0], [0.6887574791908264, 6.477123406511964e-07, 2.2445756258093752e-05, 5.533719377126545e-05, 0.07541265338659286, 3.0277897167252377e-05, 0.00016650206816848367, 0.001747745554894209, 0.0015952304238453507, 9.556741861160845e-05, 0.2027035802602768, 0.0001541396923130378, 0.0019487992394715548, 0.010659294202923775, 0.0021729811560362577, 0.014477338641881943, 0.0], [0.02549532987177372, 1.7814778541236365e-09, 4.242186150804628e-06, 2.795710997816059e-06, 0.0344419926404953, 4.2038092118446e-08, 5.633948862993066e-09, 8.558531305880024e-08, 9.928069744091772e-08, 2.3835912799086145e-08, 0.9400351047515869, 1.3864762138382503e-07, 1.0612907317408826e-05, 5.463056368171237e-06, 2.7627277177089127e-07, 3.7473741940630134e-06, 3.7855849011059206e-10]], [[1.0, 0.0, 0.0, 0.0, 0.0, 0.0, 0.0, 0.0, 0.0, 0.0, 0.0, 0.0, 0.0, 0.0, 0.0, 0.0, 0.0], [0.9999983310699463, 1.67318273724959e-06, 0.0, 0.0, 0.0, 0.0, 0.0, 0.0, 0.0, 0.0, 0.0, 0.0, 0.0, 0.0, 0.0, 0.0, 0.0], [0.9994292855262756, 1.1857890740429866e-06, 0.0005694806459359825, 0.0, 0.0, 0.0, 0.0, 0.0, 0.0, 0.0, 0.0, 0.0, 0.0, 0.0, 0.0, 0.0, 0.0], [0.13319118320941925, 0.0021133224945515394, 0.8644434213638306, 0.000252077094046399, 0.0, 0.0, 0.0, 0.0, 0.0, 0.0, 0.0, 0.0, 0.0, 0.0, 0.0, 0.0, 0.0], [0.9951537847518921, 1.106100626202533e-05, 0.0003777330566663295, 0.002586383605375886, 0.0018711067968979478, 0.0, 0.0, 0.0, 0.0, 0.0, 0.0, 0.0, 0.0, 0.0, 0.0, 0.0, 0.0], [0.998946487903595, 2.3062017135089263e-05, 6.42601708022994e-06, 0.00017989730986300856, 2.8855714845121838e-05, 0.0008153492817655206, 0.0, 0.0, 0.0, 0.0, 0.0, 0.0, 0.0, 0.0, 0.0, 0.0, 0.0], [0.9967706203460693, 2.42424016505538e-06, 0.0011733837891370058, 0.0002565027098171413, 0.0012551745167002082, 0.0005242574843578041, 1.7704154743114486e-05, 0.0, 0.0, 0.0, 0.0, 0.0, 0.0, 0.0, 0.0, 0.0, 0.0], [0.9970647692680359, 3.095975625910796e-05, 8.395213808398694e-05, 0.0015048932982608676, 3.359009497216903e-05, 5.7812205341178924e-05, 1.4174409443512559e-05, 0.0012098063016310334, 0.0, 0.0, 0.0, 0.0, 0.0, 0.0, 0.0, 0.0, 0.0], [0.9932299852371216, 0.0002714123984333128, 0.0011499653337523341, 0.0018206697423011065, 0.001071362174116075, 0.00019359120051376522, 2.594511170173064e-05, 0.00017101055709645152, 0.0020661132875829935, 0.0, 0.0, 0.0, 0.0, 0.0, 0.0, 0.0, 0.0], [0.7250993847846985, 0.0009370127227157354, 0.0647660419344902, 0.0233082827180624, 0.18022732436656952, 0.004050372168421745, 6.222661613719538e-05, 0.0004916058387607336, 0.0004357513680588454, 0.0006220552022568882, 0.0, 0.0, 0.0, 0.0, 0.0, 0.0, 0.0], [0.8879896402359009, 0.0015600560000166297, 0.0008875920902937651, 0.017749590799212456, 0.003974028863012791, 0.030060678720474243, 0.004217955749481916, 0.004845364950597286, 0.0033530101645737886, 0.0024280890356749296, 0.04293396323919296, 0.0, 0.0, 0.0, 0.0, 0.0, 0.0], [0.09174667298793793, 1.991764293052256e-05, 0.026794489473104477, 0.0005653765983879566, 0.06651563197374344, 0.00038332425174303353, 6.083441803639289e-06, 0.0002651970135048032, 0.0001605166617082432, 0.00011731471022358164, 0.8133984804153442, 2.6956331566907465e-05, 0.0, 0.0, 0.0, 0.0, 0.0], [0.9945268034934998, 4.2444625591997465e-07, 1.3537079212255776e-05, 0.0008742805221118033, 1.2965791711394559e-06, 2.8007807486574166e-05, 4.7705602810310666e-06, 0.0009801044361665845, 0.0031901870388537645, 4.0930597606347874e-05, 8.244019409175962e-05, 4.361296305432916e-05, 0.00021352058683987707, 0.0, 0.0, 0.0, 0.0], [0.9871755242347717, 0.0001325006305705756, 2.7692394723999314e-05, 0.00041842172504402697, 3.974507490056567e-05, 5.2474009862635285e-05, 7.15485803084448e-05, 0.00032238540006801486, 0.0008325374219566584, 0.00013166223652660847, 0.0019234591163694859, 0.0003184739616699517, 0.00046337689855135977, 0.008090161718428135, 0.0, 0.0, 0.0], [0.9925883412361145, 3.0245129778450064e-07, 6.336373189697042e-05, 6.63722021272406e-05, 6.276922704273602e-06, 3.982825447224059e-08, 2.345959693172972e-08, 3.681563975987956e-05, 0.00022618482762482017, 4.448831532499753e-06, 0.0006166379898786545, 7.00820862675755e-07, 1.4200626537785865e-05, 0.006239999085664749, 0.00013625342398881912, 0.0, 0.0], [0.9485796093940735, 0.00017530539480503649, 3.1445877539226785e-05, 0.00038874216261319816, 7.401181937893853e-05, 2.9598420951515436e-05, 4.258450644556433e-05, 0.000222365531953983, 0.0003648329875431955, 0.0001509014837210998, 0.006549441255629063, 0.0007941495277918875, 0.0004046228132210672, 0.02403888665139675, 0.00045426376163959503, 0.017699215561151505, 0.0], [0.0020335849840193987, 0.00017256235878448933, 0.002358999801799655, 5.094710650155321e-05, 0.02280629612505436, 1.167156187875662e-05, 2.043815356955747e-07, 2.130224856955465e-06, 4.37200469605159e-06, 6.374616350512952e-05, 0.9716442227363586, 0.0004429184482432902, 4.2174815462203696e-05, 3.848506821668707e-05, 9.989038289859309e-07, 0.00032270391238853335, 4.033583536511287e-06]]], \"attentionHeadNames\": [\"L6H6\", \"L7H2\", \"L7H9\", \"L8H9\"], \"tokens\": [\"<|endoftext|>\", \"After\", \" John\", \" and\", \" Mary\", \" went\", \" to\", \" the\", \" store\", \",\", \" Mary\", \" gave\", \" a\", \" bottle\", \" of\", \" milk\", \" to\"]}\n",
              "    )\n",
              "    </script>"
            ],
            "text/plain": [
              "<circuitsvis.utils.render.RenderedHTML at 0x7f77c7f55e50>"
            ]
          },
          "execution_count": 34,
          "metadata": {},
          "output_type": "execute_result"
        }
      ],
      "source": [
        "second_level_positive_heads = [(6, 6), (7, 2), (7, 9), (8, 9)]\n",
        "\n",
        "tokens, attn, names = get_attn_head_patterns(model, example_prompt, second_level_positive_heads)\n",
        "cv.attention.attention_heads(tokens=tokens, attention=attn, attention_head_names=names)\n",
        "\n",
        "#second_level_negative_heads = [(7, 8), (8, 10)]\n",
        "#visualize_attention_patterns(torch.tensor([l*12+h for l, h in second_level_negative_heads]), title=f\"Top Negative Second Level IOI Metric Heads\")"
      ]
    },
    {
      "cell_type": "markdown",
      "metadata": {
        "id": "_OX3vKSNBx0g"
      },
      "source": [
        "More evidence that these are S-inhibition heads. S-inhibition heads will have a higher relative importance on values as opposed to other head attributes."
      ]
    },
    {
      "cell_type": "code",
      "execution_count": null,
      "metadata": {
        "colab": {
          "base_uri": "https://localhost:8080/",
          "height": 542
        },
        "id": "Qpk9IlyEOqwy",
        "outputId": "44e8a816-f1ff-47b8-e841-52854211c13e"
      },
      "outputs": [
        {
          "data": {
            "text/html": [
              "<html>\n",
              "<head><meta charset=\"utf-8\" /></head>\n",
              "<body>\n",
              "    <div>            <script src=\"https://cdnjs.cloudflare.com/ajax/libs/mathjax/2.7.5/MathJax.js?config=TeX-AMS-MML_SVG\"></script><script type=\"text/javascript\">if (window.MathJax) {MathJax.Hub.Config({SVG: {font: \"STIX-Web\"}});}</script>                <script type=\"text/javascript\">window.PlotlyConfig = {MathJaxConfig: 'local'};</script>\n",
              "        <script src=\"https://cdn.plot.ly/plotly-2.8.3.min.js\"></script>                <div id=\"ab672a23-c908-4db3-8bf9-31e7aa5121b2\" class=\"plotly-graph-div\" style=\"height:525px; width:100%;\"></div>            <script type=\"text/javascript\">                                    window.PLOTLYENV=window.PLOTLYENV || {};                                    if (document.getElementById(\"ab672a23-c908-4db3-8bf9-31e7aa5121b2\")) {                    Plotly.newPlot(                        \"ab672a23-c908-4db3-8bf9-31e7aa5121b2\",                        [{\"hovertemplate\":\"<b>%{hovertext}</b><br><br>Value Patch=%{x}<br>Output Patch=%{y}<br>=%{marker.color}<extra></extra>\",\"hovertext\":[\"L0H0\",\"L0H1\",\"L0H2\",\"L0H3\",\"L0H4\",\"L0H5\",\"L0H6\",\"L0H7\",\"L0H8\",\"L0H9\",\"L0H10\",\"L0H11\",\"L1H0\",\"L1H1\",\"L1H2\",\"L1H3\",\"L1H4\",\"L1H5\",\"L1H6\",\"L1H7\",\"L1H8\",\"L1H9\",\"L1H10\",\"L1H11\",\"L2H0\",\"L2H1\",\"L2H2\",\"L2H3\",\"L2H4\",\"L2H5\",\"L2H6\",\"L2H7\",\"L2H8\",\"L2H9\",\"L2H10\",\"L2H11\",\"L3H0\",\"L3H1\",\"L3H2\",\"L3H3\",\"L3H4\",\"L3H5\",\"L3H6\",\"L3H7\",\"L3H8\",\"L3H9\",\"L3H10\",\"L3H11\",\"L4H0\",\"L4H1\",\"L4H2\",\"L4H3\",\"L4H4\",\"L4H5\",\"L4H6\",\"L4H7\",\"L4H8\",\"L4H9\",\"L4H10\",\"L4H11\",\"L5H0\",\"L5H1\",\"L5H2\",\"L5H3\",\"L5H4\",\"L5H5\",\"L5H6\",\"L5H7\",\"L5H8\",\"L5H9\",\"L5H10\",\"L5H11\",\"L6H0\",\"L6H1\",\"L6H2\",\"L6H3\",\"L6H4\",\"L6H5\",\"L6H6\",\"L6H7\",\"L6H8\",\"L6H9\",\"L6H10\",\"L6H11\",\"L7H0\",\"L7H1\",\"L7H2\",\"L7H3\",\"L7H4\",\"L7H5\",\"L7H6\",\"L7H7\",\"L7H8\",\"L7H9\",\"L7H10\",\"L7H11\",\"L8H0\",\"L8H1\",\"L8H2\",\"L8H3\",\"L8H4\",\"L8H5\",\"L8H6\",\"L8H7\",\"L8H8\",\"L8H9\",\"L8H10\",\"L8H11\",\"L9H0\",\"L9H1\",\"L9H2\",\"L9H3\",\"L9H4\",\"L9H5\",\"L9H6\",\"L9H7\",\"L9H8\",\"L9H9\",\"L9H10\",\"L9H11\",\"L10H0\",\"L10H1\",\"L10H2\",\"L10H3\",\"L10H4\",\"L10H5\",\"L10H6\",\"L10H7\",\"L10H8\",\"L10H9\",\"L10H10\",\"L10H11\",\"L11H0\",\"L11H1\",\"L11H2\",\"L11H3\",\"L11H4\",\"L11H5\",\"L11H6\",\"L11H7\",\"L11H8\",\"L11H9\",\"L11H10\",\"L11H11\"],\"legendgroup\":\"\",\"marker\":{\"color\":[0,0,0,0,0,0,0,0,0,0,0,0,1,1,1,1,1,1,1,1,1,1,1,1,2,2,2,2,2,2,2,2,2,2,2,2,3,3,3,3,3,3,3,3,3,3,3,3,4,4,4,4,4,4,4,4,4,4,4,4,5,5,5,5,5,5,5,5,5,5,5,5,6,6,6,6,6,6,6,6,6,6,6,6,7,7,7,7,7,7,7,7,7,7,7,7,8,8,8,8,8,8,8,8,8,8,8,8,9,9,9,9,9,9,9,9,9,9,9,9,10,10,10,10,10,10,10,10,10,10,10,10,11,11,11,11,11,11,11,11,11,11,11,11],\"coloraxis\":\"coloraxis\",\"symbol\":\"circle\"},\"mode\":\"markers\",\"name\":\"\",\"orientation\":\"v\",\"showlegend\":false,\"x\":[-0.0005520961130969226,-0.0009247470879927278,0.00010588629811536521,0.00025300399283878505,0.0017078402452170849,-0.00010386267240392044,0.001027041464112699,0.0007114567561075091,0.0009816109668463469,-0.0006931429379619658,0.0017241809982806444,-3.7740650441264734e-05,-0.0001596135989530012,-6.39972131466493e-05,0.0005822481471113861,-0.00037988543044775724,0.00010548157297307625,0.00035357827437110245,0.00010715106327552348,0.0006016749539412558,-0.00018136759172193706,-6.328894232865423e-05,-0.0010138878133147955,-0.00022259900288190693,-3.516052311169915e-05,0.0008287765667773783,0.000893482007086277,0.0006664310349151492,2.5953020667657256e-05,0.00010148491128347814,0.004276885651051998,0.0008262976189143956,-0.00031462343758903444,-0.0006433617090806365,-0.0003465967602096498,0.0006420969148166478,0.012567181140184402,0.0008759776828810573,-0.0009625888778828084,-0.004570615012198687,-0.0021910318173468113,7.563307008240372e-05,-0.00041125164716504514,-0.0013151047751307487,9.495871199760586e-05,0.0009576310403645039,0.0003287382423877716,0.0003682495735120028,0.0074983988888561726,3.900541560142301e-05,0.00016780929581727833,0.000545721675734967,-9.885419422062114e-05,0.0019302369328215718,-2.301875974808354e-05,0.00012981568579562008,-4.285030809114687e-05,-0.0009062308818101883,-9.151854465017095e-05,1.15852662929683e-05,-0.0007769716903567314,-0.0032471122685819864,-0.00013634188508149236,0.0008631276432424784,-0.0008284224313683808,-0.00035034047323279083,-2.8027237931382842e-05,-5.448616502690129e-05,0.06961794197559357,-3.435107282712124e-05,-0.00014969782205298543,-0.0016738938866183162,0.0024821306578814983,-8.554883970646188e-05,-0.004702049773186445,-0.0015775186475366354,0.0009148312965407968,0.10187802463769913,0.400160551071167,0.0018737270729616284,-0.0011489649768918753,1.9072687791776843e-05,0.0005319610354490578,0.021774228662252426,0.0009723023395054042,-0.000178534523001872,0.06615151464939117,-0.0036030684132128954,0.002619433682411909,-0.0009572262642905116,-0.016037195920944214,0.003905904246494174,-0.0037657173816114664,0.052084069699048996,-0.007532395888119936,-0.003373336046934128,-1.2495898772613145e-05,-0.0001699340937193483,-0.015225771814584732,2.377762029937003e-06,-0.0022529042325913906,-9.85000588116236e-05,0.0020508957095444202,0.007072071544826031,0.008559690788388252,0.3574519753456116,0.008297580294311047,-0.0034177040215581656,5.615565896732733e-06,-0.1080825924873352,-0.0020198330748826265,-0.001567198196426034,-0.00027091309311799705,0.019642135128378868,-0.0001430198608431965,-0.02070201002061367,-0.004326413851231337,-0.010237378999590874,1.1787628864112776e-05,-4.50257084594341e-06,-2.023627274638784e-07,0.03765459358692169,0.007998032495379448,5.564975253946614e-07,0.0024737324565649033,-0.00011610561341512948,0.0,-0.005780896171927452,-0.009350270964205265,0.0005492630298249424,-1.568311176924908e-06,-7.13834524503909e-05,0.0042993477545678616,0.0,-5.05906818659696e-08,0.0,0.0,0.0,0.009310304187238216,0.0,1.5177204204519512e-07,0.004709840752184391,0.0,0.00039946401375345886],\"xaxis\":\"x\",\"y\":[0.0011908540036529303,0.00105537218041718,0.00014003500109538436,0.0019421257311478257,0.005328463390469551,-0.0008857416687533259,0.00042182509787380695,0.005136218853294849,-0.00037816533586010337,0.008995073847472668,0.0022878118325024843,-5.064127253717743e-05,-0.0003522123151924461,-9.708351717563346e-05,0.002639821730554104,-0.0006422993028536439,-0.0001514179166406393,0.0005793138989247382,-0.0027291143778711557,-0.0002370173460803926,-0.0002788558485917747,0.00014281750191003084,0.0009030942455865443,0.00041782844346016645,0.0007519798818975687,0.0014154261443763971,0.001225508633069694,0.0014288831735029817,0.00022006947256159037,0.00043755880324169993,0.0037378924898803234,0.0003610657004173845,5.5295615311479196e-05,0.0010379183804616332,0.0007219795952551067,0.00876589771360159,0.008534091524779797,0.0022436967119574547,-0.0007444418733939528,-0.001432171557098627,-0.0018967963987961411,5.924168726778589e-05,-0.003107532626017928,-0.0012055760016664863,0.000666228705085814,0.0010424716165289283,0.0009203962981700897,0.000179141599801369,0.007750239688903093,0.015809284523129463,0.000982521683908999,0.00041327529470436275,0.0023489759769290686,0.0014914133353158832,0.0573815181851387,-0.0021773723419755697,0.011712046340107918,0.000594845216255635,-0.00014716829173266888,0.4826379418373108,0.0183147881180048,-0.003223992418497801,0.0009926398051902652,-0.002333899959921837,-0.0008097544778138399,-0.006659504491835833,-5.185544796404429e-05,0.0014009065926074982,0.07002564519643784,-0.0005087904864922166,0.04600134864449501,0.0002841678506229073,0.0033622568007558584,4.219262700644322e-05,-0.005131058860570192,-0.001906509860418737,0.0007783376495353878,0.1042623370885849,0.4007404148578644,-0.0029783747158944607,0.0002225484058726579,-1.4266572179622017e-05,-0.00254607736133039,0.024374945089221,0.001138846855610609,-0.0009476140839979053,0.06247473508119583,-0.0010858278255909681,0.004026613663882017,-0.0012744298437610269,-0.011301402002573013,0.004561255685985088,-0.0019636773504316807,0.04872328042984009,-0.007536999881267548,0.048388976603746414,0.0002693448041100055,0.0006033950485289097,0.04873617738485336,-5.054008943261579e-05,-0.002039361046627164,0.00028695035143755376,0.0005280149634927511,0.007077282294631004,0.01675487495958805,0.3573077917098999,0.2708517611026764,0.0008684902568347752,0.0026616263203322887,-0.12779757380485535,0.005612479522824287,-0.001194294192828238,7.472244033124298e-05,-0.10223263502120972,0.07188475877046585,0.0018553626723587513,0.0042847273871302605,-0.003737538354471326,-0.0002383327082497999,-1.1484085007396061e-05,0.0012226250255480409,0.03296888619661331,-0.010992545634508133,-0.0012357280356809497,0.0030857280362397432,-0.00038772699190303683,-1.5126614016480744e-05,0.10439470410346985,0.05304569751024246,0.00018318886577617377,0.013617442920804024,0.0001569828891661018,0.004510968923568726,-0.0008315590093843639,7.608838495798409e-05,0.0,0.0004154000780545175,-0.0019191575702279806,0.01031250599771738,4.851646372117102e-05,1.315357735620637e-06,0.0044491467997431755,0.0,0.0008502776036038995],\"yaxis\":\"y\",\"type\":\"scatter\"}],                        {\"template\":{\"data\":{\"bar\":[{\"error_x\":{\"color\":\"#2a3f5f\"},\"error_y\":{\"color\":\"#2a3f5f\"},\"marker\":{\"line\":{\"color\":\"#E5ECF6\",\"width\":0.5},\"pattern\":{\"fillmode\":\"overlay\",\"size\":10,\"solidity\":0.2}},\"type\":\"bar\"}],\"barpolar\":[{\"marker\":{\"line\":{\"color\":\"#E5ECF6\",\"width\":0.5},\"pattern\":{\"fillmode\":\"overlay\",\"size\":10,\"solidity\":0.2}},\"type\":\"barpolar\"}],\"carpet\":[{\"aaxis\":{\"endlinecolor\":\"#2a3f5f\",\"gridcolor\":\"white\",\"linecolor\":\"white\",\"minorgridcolor\":\"white\",\"startlinecolor\":\"#2a3f5f\"},\"baxis\":{\"endlinecolor\":\"#2a3f5f\",\"gridcolor\":\"white\",\"linecolor\":\"white\",\"minorgridcolor\":\"white\",\"startlinecolor\":\"#2a3f5f\"},\"type\":\"carpet\"}],\"choropleth\":[{\"colorbar\":{\"outlinewidth\":0,\"ticks\":\"\"},\"type\":\"choropleth\"}],\"contour\":[{\"colorbar\":{\"outlinewidth\":0,\"ticks\":\"\"},\"colorscale\":[[0.0,\"#0d0887\"],[0.1111111111111111,\"#46039f\"],[0.2222222222222222,\"#7201a8\"],[0.3333333333333333,\"#9c179e\"],[0.4444444444444444,\"#bd3786\"],[0.5555555555555556,\"#d8576b\"],[0.6666666666666666,\"#ed7953\"],[0.7777777777777778,\"#fb9f3a\"],[0.8888888888888888,\"#fdca26\"],[1.0,\"#f0f921\"]],\"type\":\"contour\"}],\"contourcarpet\":[{\"colorbar\":{\"outlinewidth\":0,\"ticks\":\"\"},\"type\":\"contourcarpet\"}],\"heatmap\":[{\"colorbar\":{\"outlinewidth\":0,\"ticks\":\"\"},\"colorscale\":[[0.0,\"#0d0887\"],[0.1111111111111111,\"#46039f\"],[0.2222222222222222,\"#7201a8\"],[0.3333333333333333,\"#9c179e\"],[0.4444444444444444,\"#bd3786\"],[0.5555555555555556,\"#d8576b\"],[0.6666666666666666,\"#ed7953\"],[0.7777777777777778,\"#fb9f3a\"],[0.8888888888888888,\"#fdca26\"],[1.0,\"#f0f921\"]],\"type\":\"heatmap\"}],\"heatmapgl\":[{\"colorbar\":{\"outlinewidth\":0,\"ticks\":\"\"},\"colorscale\":[[0.0,\"#0d0887\"],[0.1111111111111111,\"#46039f\"],[0.2222222222222222,\"#7201a8\"],[0.3333333333333333,\"#9c179e\"],[0.4444444444444444,\"#bd3786\"],[0.5555555555555556,\"#d8576b\"],[0.6666666666666666,\"#ed7953\"],[0.7777777777777778,\"#fb9f3a\"],[0.8888888888888888,\"#fdca26\"],[1.0,\"#f0f921\"]],\"type\":\"heatmapgl\"}],\"histogram\":[{\"marker\":{\"pattern\":{\"fillmode\":\"overlay\",\"size\":10,\"solidity\":0.2}},\"type\":\"histogram\"}],\"histogram2d\":[{\"colorbar\":{\"outlinewidth\":0,\"ticks\":\"\"},\"colorscale\":[[0.0,\"#0d0887\"],[0.1111111111111111,\"#46039f\"],[0.2222222222222222,\"#7201a8\"],[0.3333333333333333,\"#9c179e\"],[0.4444444444444444,\"#bd3786\"],[0.5555555555555556,\"#d8576b\"],[0.6666666666666666,\"#ed7953\"],[0.7777777777777778,\"#fb9f3a\"],[0.8888888888888888,\"#fdca26\"],[1.0,\"#f0f921\"]],\"type\":\"histogram2d\"}],\"histogram2dcontour\":[{\"colorbar\":{\"outlinewidth\":0,\"ticks\":\"\"},\"colorscale\":[[0.0,\"#0d0887\"],[0.1111111111111111,\"#46039f\"],[0.2222222222222222,\"#7201a8\"],[0.3333333333333333,\"#9c179e\"],[0.4444444444444444,\"#bd3786\"],[0.5555555555555556,\"#d8576b\"],[0.6666666666666666,\"#ed7953\"],[0.7777777777777778,\"#fb9f3a\"],[0.8888888888888888,\"#fdca26\"],[1.0,\"#f0f921\"]],\"type\":\"histogram2dcontour\"}],\"mesh3d\":[{\"colorbar\":{\"outlinewidth\":0,\"ticks\":\"\"},\"type\":\"mesh3d\"}],\"parcoords\":[{\"line\":{\"colorbar\":{\"outlinewidth\":0,\"ticks\":\"\"}},\"type\":\"parcoords\"}],\"pie\":[{\"automargin\":true,\"type\":\"pie\"}],\"scatter\":[{\"marker\":{\"colorbar\":{\"outlinewidth\":0,\"ticks\":\"\"}},\"type\":\"scatter\"}],\"scatter3d\":[{\"line\":{\"colorbar\":{\"outlinewidth\":0,\"ticks\":\"\"}},\"marker\":{\"colorbar\":{\"outlinewidth\":0,\"ticks\":\"\"}},\"type\":\"scatter3d\"}],\"scattercarpet\":[{\"marker\":{\"colorbar\":{\"outlinewidth\":0,\"ticks\":\"\"}},\"type\":\"scattercarpet\"}],\"scattergeo\":[{\"marker\":{\"colorbar\":{\"outlinewidth\":0,\"ticks\":\"\"}},\"type\":\"scattergeo\"}],\"scattergl\":[{\"marker\":{\"colorbar\":{\"outlinewidth\":0,\"ticks\":\"\"}},\"type\":\"scattergl\"}],\"scattermapbox\":[{\"marker\":{\"colorbar\":{\"outlinewidth\":0,\"ticks\":\"\"}},\"type\":\"scattermapbox\"}],\"scatterpolar\":[{\"marker\":{\"colorbar\":{\"outlinewidth\":0,\"ticks\":\"\"}},\"type\":\"scatterpolar\"}],\"scatterpolargl\":[{\"marker\":{\"colorbar\":{\"outlinewidth\":0,\"ticks\":\"\"}},\"type\":\"scatterpolargl\"}],\"scatterternary\":[{\"marker\":{\"colorbar\":{\"outlinewidth\":0,\"ticks\":\"\"}},\"type\":\"scatterternary\"}],\"surface\":[{\"colorbar\":{\"outlinewidth\":0,\"ticks\":\"\"},\"colorscale\":[[0.0,\"#0d0887\"],[0.1111111111111111,\"#46039f\"],[0.2222222222222222,\"#7201a8\"],[0.3333333333333333,\"#9c179e\"],[0.4444444444444444,\"#bd3786\"],[0.5555555555555556,\"#d8576b\"],[0.6666666666666666,\"#ed7953\"],[0.7777777777777778,\"#fb9f3a\"],[0.8888888888888888,\"#fdca26\"],[1.0,\"#f0f921\"]],\"type\":\"surface\"}],\"table\":[{\"cells\":{\"fill\":{\"color\":\"#EBF0F8\"},\"line\":{\"color\":\"white\"}},\"header\":{\"fill\":{\"color\":\"#C8D4E3\"},\"line\":{\"color\":\"white\"}},\"type\":\"table\"}]},\"layout\":{\"annotationdefaults\":{\"arrowcolor\":\"#2a3f5f\",\"arrowhead\":0,\"arrowwidth\":1},\"autotypenumbers\":\"strict\",\"coloraxis\":{\"colorbar\":{\"outlinewidth\":0,\"ticks\":\"\"}},\"colorscale\":{\"diverging\":[[0,\"#8e0152\"],[0.1,\"#c51b7d\"],[0.2,\"#de77ae\"],[0.3,\"#f1b6da\"],[0.4,\"#fde0ef\"],[0.5,\"#f7f7f7\"],[0.6,\"#e6f5d0\"],[0.7,\"#b8e186\"],[0.8,\"#7fbc41\"],[0.9,\"#4d9221\"],[1,\"#276419\"]],\"sequential\":[[0.0,\"#0d0887\"],[0.1111111111111111,\"#46039f\"],[0.2222222222222222,\"#7201a8\"],[0.3333333333333333,\"#9c179e\"],[0.4444444444444444,\"#bd3786\"],[0.5555555555555556,\"#d8576b\"],[0.6666666666666666,\"#ed7953\"],[0.7777777777777778,\"#fb9f3a\"],[0.8888888888888888,\"#fdca26\"],[1.0,\"#f0f921\"]],\"sequentialminus\":[[0.0,\"#0d0887\"],[0.1111111111111111,\"#46039f\"],[0.2222222222222222,\"#7201a8\"],[0.3333333333333333,\"#9c179e\"],[0.4444444444444444,\"#bd3786\"],[0.5555555555555556,\"#d8576b\"],[0.6666666666666666,\"#ed7953\"],[0.7777777777777778,\"#fb9f3a\"],[0.8888888888888888,\"#fdca26\"],[1.0,\"#f0f921\"]]},\"colorway\":[\"#636efa\",\"#EF553B\",\"#00cc96\",\"#ab63fa\",\"#FFA15A\",\"#19d3f3\",\"#FF6692\",\"#B6E880\",\"#FF97FF\",\"#FECB52\"],\"font\":{\"color\":\"#2a3f5f\"},\"geo\":{\"bgcolor\":\"white\",\"lakecolor\":\"white\",\"landcolor\":\"#E5ECF6\",\"showlakes\":true,\"showland\":true,\"subunitcolor\":\"white\"},\"hoverlabel\":{\"align\":\"left\"},\"hovermode\":\"closest\",\"mapbox\":{\"style\":\"light\"},\"paper_bgcolor\":\"white\",\"plot_bgcolor\":\"#E5ECF6\",\"polar\":{\"angularaxis\":{\"gridcolor\":\"white\",\"linecolor\":\"white\",\"ticks\":\"\"},\"bgcolor\":\"#E5ECF6\",\"radialaxis\":{\"gridcolor\":\"white\",\"linecolor\":\"white\",\"ticks\":\"\"}},\"scene\":{\"xaxis\":{\"backgroundcolor\":\"#E5ECF6\",\"gridcolor\":\"white\",\"gridwidth\":2,\"linecolor\":\"white\",\"showbackground\":true,\"ticks\":\"\",\"zerolinecolor\":\"white\"},\"yaxis\":{\"backgroundcolor\":\"#E5ECF6\",\"gridcolor\":\"white\",\"gridwidth\":2,\"linecolor\":\"white\",\"showbackground\":true,\"ticks\":\"\",\"zerolinecolor\":\"white\"},\"zaxis\":{\"backgroundcolor\":\"#E5ECF6\",\"gridcolor\":\"white\",\"gridwidth\":2,\"linecolor\":\"white\",\"showbackground\":true,\"ticks\":\"\",\"zerolinecolor\":\"white\"}},\"shapedefaults\":{\"line\":{\"color\":\"#2a3f5f\"}},\"ternary\":{\"aaxis\":{\"gridcolor\":\"white\",\"linecolor\":\"white\",\"ticks\":\"\"},\"baxis\":{\"gridcolor\":\"white\",\"linecolor\":\"white\",\"ticks\":\"\"},\"bgcolor\":\"#E5ECF6\",\"caxis\":{\"gridcolor\":\"white\",\"linecolor\":\"white\",\"ticks\":\"\"}},\"title\":{\"x\":0.05},\"xaxis\":{\"automargin\":true,\"gridcolor\":\"white\",\"linecolor\":\"white\",\"ticks\":\"\",\"title\":{\"standoff\":15},\"zerolinecolor\":\"white\",\"zerolinewidth\":2},\"yaxis\":{\"automargin\":true,\"gridcolor\":\"white\",\"linecolor\":\"white\",\"ticks\":\"\",\"title\":{\"standoff\":15},\"zerolinecolor\":\"white\",\"zerolinewidth\":2}}},\"xaxis\":{\"anchor\":\"y\",\"domain\":[0.0,1.0],\"title\":{\"text\":\"Value Patch\"},\"range\":[-1.5,1.5]},\"yaxis\":{\"anchor\":\"x\",\"domain\":[0.0,1.0],\"title\":{\"text\":\"Output Patch\"},\"range\":[-1.5,1.5]},\"coloraxis\":{\"colorbar\":{\"title\":{\"text\":\"\"}},\"colorscale\":[[0.0,\"#0d0887\"],[0.1111111111111111,\"#46039f\"],[0.2222222222222222,\"#7201a8\"],[0.3333333333333333,\"#9c179e\"],[0.4444444444444444,\"#bd3786\"],[0.5555555555555556,\"#d8576b\"],[0.6666666666666666,\"#ed7953\"],[0.7777777777777778,\"#fb9f3a\"],[0.8888888888888888,\"#fdca26\"],[1.0,\"#f0f921\"]]},\"legend\":{\"tracegroupgap\":0},\"title\":{\"text\":\"Scatter plot of output patching vs value patching\"}},                        {\"responsive\": true}                    ).then(function(){\n",
              "                            \n",
              "var gd = document.getElementById('ab672a23-c908-4db3-8bf9-31e7aa5121b2');\n",
              "var x = new MutationObserver(function (mutations, observer) {{\n",
              "        var display = window.getComputedStyle(gd).display;\n",
              "        if (!display || display === 'none') {{\n",
              "            console.log([gd, 'removed!']);\n",
              "            Plotly.purge(gd);\n",
              "            observer.disconnect();\n",
              "        }}\n",
              "}});\n",
              "\n",
              "// Listen for the removal of the full notebook cells\n",
              "var notebookContainer = gd.closest('#notebook-container');\n",
              "if (notebookContainer) {{\n",
              "    x.observe(notebookContainer, {childList: true});\n",
              "}}\n",
              "\n",
              "// Listen for the clearing of the current output cell\n",
              "var outputEl = gd.closest('.output');\n",
              "if (outputEl) {{\n",
              "    x.observe(outputEl, {childList: true});\n",
              "}}\n",
              "\n",
              "                        })                };                            </script>        </div>\n",
              "</body>\n",
              "</html>"
            ]
          },
          "metadata": {},
          "output_type": "display_data"
        }
      ],
      "source": [
        "head_labels = [f\"L{l}H{h}\" for l in range(model.cfg.n_layers) for h in range(model.cfg.n_heads)]\n",
        "l_scatter(\n",
        "    x=utils.to_numpy(attn_head_v_all_pos_act_patch_results.flatten()), \n",
        "    y=utils.to_numpy(attn_head_out_all_pos_act_patch_results.flatten()), \n",
        "    xaxis=\"Value Patch\",\n",
        "    yaxis=\"Output Patch\",\n",
        "    #caxis=\"Layer\",\n",
        "    hover_name = head_labels,\n",
        "    color=einops.repeat(np.arange(model.cfg.n_layers), \"layer -> (layer head)\", head=model.cfg.n_heads),\n",
        "    range_x=(-1.5, 1.5),\n",
        "    range_y=(-1.5, 1.5),\n",
        "    title=\"Scatter plot of output patching vs value patching\")"
      ]
    },
    {
      "cell_type": "markdown",
      "metadata": {
        "id": "VTFd8gN-qUXf"
      },
      "source": [
        "#### Path Patching for S2-Inhibition Candidates"
      ]
    },
    {
      "cell_type": "code",
      "execution_count": null,
      "metadata": {
        "colab": {
          "base_uri": "https://localhost:8080/"
        },
        "id": "jhSCeGa0tPOM",
        "outputId": "d3577da0-45a5-4594-c2bb-bbc967d6e3a7"
      },
      "outputs": [
        {
          "data": {
            "text/plain": [
              "['<|endoftext|>',\n",
              " 'When',\n",
              " ' Tom',\n",
              " ' and',\n",
              " ' James',\n",
              " ' went',\n",
              " ' to',\n",
              " ' the',\n",
              " ' park',\n",
              " ',',\n",
              " ' Tom',\n",
              " ' gave',\n",
              " ' the',\n",
              " ' ball',\n",
              " ' to']"
            ]
          },
          "execution_count": 105,
          "metadata": {},
          "output_type": "execute_result"
        }
      ],
      "source": [
        "model.to_str_tokens(clean_tokens[3])"
      ]
    },
    {
      "cell_type": "code",
      "execution_count": null,
      "metadata": {
        "id": "Dy44bI-8qYky"
      },
      "outputs": [],
      "source": [
        "receiver_heads = second_level_positive_heads\n",
        "\n",
        "metric_delta_results = torch.zeros(model.cfg.n_layers, model.cfg.n_heads, device='cuda:0')\n",
        "\n",
        "for layer in range(model.cfg.n_layers):\n",
        "        for head_idx in range(model.cfg.n_heads):\n",
        "            pass_d_hooks = path_patching(\n",
        "                model=model,\n",
        "                patch_tokens=corrupted_tokens,\n",
        "                orig_tokens=clean_tokens,\n",
        "                sender_heads=[(layer, head_idx)],\n",
        "                receiver_hooks=[(f\"blocks.{layer_idx}.attn.hook_v\", head_idx) for layer_idx, head_idx in receiver_heads],\n",
        "                positions=10\n",
        "            )\n",
        "            path_patched_logits = model.run_with_hooks(clean_tokens, fwd_hooks=pass_d_hooks)\n",
        "            iot_metric_res = ioi_metric(path_patched_logits)\n",
        "            metric_delta_results[layer, head_idx] = -(clean_baseline_ioi - iot_metric_res) / clean_baseline_ioi"
      ]
    },
    {
      "cell_type": "markdown",
      "metadata": {
        "id": "DK18IQwOqa6Z"
      },
      "source": [
        "The heads we see below have a strong effect on the the IOI metric via the values of the S2-inhibition head candidates at the S2 position. The most significant heads are:\n",
        "- L6H7\n",
        "- L6H0\n",
        "- L5H6\n",
        "- L5H8\n",
        "- L4H1\n",
        "- L4H8\n",
        "- L4H10\n",
        "- L2H8"
      ]
    },
    {
      "cell_type": "code",
      "execution_count": null,
      "metadata": {
        "colab": {
          "base_uri": "https://localhost:8080/",
          "height": 542
        },
        "id": "iXd5UX5mqbg2",
        "outputId": "775cb8b5-6d8b-4998-cc8b-4d180ad8f29b"
      },
      "outputs": [
        {
          "data": {
            "text/html": [
              "<html>\n",
              "<head><meta charset=\"utf-8\" /></head>\n",
              "<body>\n",
              "    <div>            <script src=\"https://cdnjs.cloudflare.com/ajax/libs/mathjax/2.7.5/MathJax.js?config=TeX-AMS-MML_SVG\"></script><script type=\"text/javascript\">if (window.MathJax) {MathJax.Hub.Config({SVG: {font: \"STIX-Web\"}});}</script>                <script type=\"text/javascript\">window.PlotlyConfig = {MathJaxConfig: 'local'};</script>\n",
              "        <script src=\"https://cdn.plot.ly/plotly-2.8.3.min.js\"></script>                <div id=\"c15fb9d1-bb7a-43db-88fd-2f8e5572fff6\" class=\"plotly-graph-div\" style=\"height:525px; width:100%;\"></div>            <script type=\"text/javascript\">                                    window.PLOTLYENV=window.PLOTLYENV || {};                                    if (document.getElementById(\"c15fb9d1-bb7a-43db-88fd-2f8e5572fff6\")) {                    Plotly.newPlot(                        \"c15fb9d1-bb7a-43db-88fd-2f8e5572fff6\",                        [{\"coloraxis\":\"coloraxis\",\"name\":\"0\",\"z\":[[0.0005428791046142578,-0.0020912885665893555,6.663799285888672e-05,-0.0003407001495361328,0.00026798248291015625,0.00044858455657958984,-0.0008546710014343262,0.0017396211624145508,-1.3768672943115234e-05,-0.00048089027404785156,0.0007865428924560547,2.682209014892578e-05],[-0.00023061037063598633,-3.653764724731445e-05,-0.00012981891632080078,0.0002442598342895508,0.0001366138458251953,0.00046455860137939453,0.0012012720108032227,0.00043761730194091797,-0.00017940998077392578,0.00013184547424316406,-0.00020420551300048828,-0.00017452239990234375],[-3.7550926208496094e-05,0.0001596212387084961,-0.0006883144378662109,0.00015354156494140625,-0.00013870000839233398,6.198883056640625e-06,0.0024491548538208008,-3.0040740966796875e-05,-0.0003981590270996094,2.658367156982422e-05,0.0006973743438720703,0.0002480745315551758],[-9.000301361083984e-06,0.00016105175018310547,-8.64267349243164e-05,-0.012742400169372559,0.00018906593322753906,-0.00025266408920288086,-0.0003123283386230469,4.971027374267578e-05,-0.0003795027732849121,0.000370025634765625,-0.000268399715423584,0.00012087821960449219],[-5.048513412475586e-05,-0.010086655616760254,-0.0004566311836242676,-3.2067298889160156e-05,0.00028824806213378906,6.341934204101562e-05,-0.05367255210876465,-0.0008538365364074707,-0.007520496845245361,-0.0004330277442932129,-0.00013649463653564453,-0.3458145260810852],[-0.02403956651687622,0.00045740604400634766,-0.0003179311752319336,-0.0008949637413024902,0.00013768672943115234,0.0013797283172607422,1.5497207641601562e-05,-0.0015034675598144531,-0.007376134395599365,0.0001348257064819336,-0.0336264967918396,-0.004139244556427002],[9.703636169433594e-05,1.7762184143066406e-05,-6.556510925292969e-06,2.467632293701172e-05,1.5735626220703125e-05,-0.00038945674896240234,-0.0002073049545288086,0.0007692575454711914,-6.109476089477539e-05,4.589557647705078e-05,0.000943303108215332,-0.0015649795532226562],[-0.0,-0.0,-0.0,-0.0,-0.0,-0.0,-0.0,-0.0,-0.0,-0.0,-0.0,-0.0],[-0.0,-0.0,-0.0,-0.0,-0.0,-0.0,-0.0,-0.0,-0.0,-0.0,-0.0,-0.0],[-0.0,-0.0,-0.0,-0.0,-0.0,-0.0,-0.0,-0.0,-0.0,-0.0,-0.0,-0.0],[-0.0,-0.0,-0.0,-0.0,-0.0,-0.0,-0.0,-0.0,-0.0,-0.0,-0.0,-0.0],[-0.0,-0.0,-0.0,-0.0,-0.0,-0.0,-0.0,-0.0,-0.0,-0.0,-0.0,-0.0]],\"type\":\"heatmap\",\"xaxis\":\"x\",\"yaxis\":\"y\",\"hovertemplate\":\"x: %{x}<br>y: %{y}<br>color: %{z}<extra></extra>\"}],                        {\"template\":{\"data\":{\"bar\":[{\"error_x\":{\"color\":\"#2a3f5f\"},\"error_y\":{\"color\":\"#2a3f5f\"},\"marker\":{\"line\":{\"color\":\"#E5ECF6\",\"width\":0.5},\"pattern\":{\"fillmode\":\"overlay\",\"size\":10,\"solidity\":0.2}},\"type\":\"bar\"}],\"barpolar\":[{\"marker\":{\"line\":{\"color\":\"#E5ECF6\",\"width\":0.5},\"pattern\":{\"fillmode\":\"overlay\",\"size\":10,\"solidity\":0.2}},\"type\":\"barpolar\"}],\"carpet\":[{\"aaxis\":{\"endlinecolor\":\"#2a3f5f\",\"gridcolor\":\"white\",\"linecolor\":\"white\",\"minorgridcolor\":\"white\",\"startlinecolor\":\"#2a3f5f\"},\"baxis\":{\"endlinecolor\":\"#2a3f5f\",\"gridcolor\":\"white\",\"linecolor\":\"white\",\"minorgridcolor\":\"white\",\"startlinecolor\":\"#2a3f5f\"},\"type\":\"carpet\"}],\"choropleth\":[{\"colorbar\":{\"outlinewidth\":0,\"ticks\":\"\"},\"type\":\"choropleth\"}],\"contour\":[{\"colorbar\":{\"outlinewidth\":0,\"ticks\":\"\"},\"colorscale\":[[0.0,\"#0d0887\"],[0.1111111111111111,\"#46039f\"],[0.2222222222222222,\"#7201a8\"],[0.3333333333333333,\"#9c179e\"],[0.4444444444444444,\"#bd3786\"],[0.5555555555555556,\"#d8576b\"],[0.6666666666666666,\"#ed7953\"],[0.7777777777777778,\"#fb9f3a\"],[0.8888888888888888,\"#fdca26\"],[1.0,\"#f0f921\"]],\"type\":\"contour\"}],\"contourcarpet\":[{\"colorbar\":{\"outlinewidth\":0,\"ticks\":\"\"},\"type\":\"contourcarpet\"}],\"heatmap\":[{\"colorbar\":{\"outlinewidth\":0,\"ticks\":\"\"},\"colorscale\":[[0.0,\"#0d0887\"],[0.1111111111111111,\"#46039f\"],[0.2222222222222222,\"#7201a8\"],[0.3333333333333333,\"#9c179e\"],[0.4444444444444444,\"#bd3786\"],[0.5555555555555556,\"#d8576b\"],[0.6666666666666666,\"#ed7953\"],[0.7777777777777778,\"#fb9f3a\"],[0.8888888888888888,\"#fdca26\"],[1.0,\"#f0f921\"]],\"type\":\"heatmap\"}],\"heatmapgl\":[{\"colorbar\":{\"outlinewidth\":0,\"ticks\":\"\"},\"colorscale\":[[0.0,\"#0d0887\"],[0.1111111111111111,\"#46039f\"],[0.2222222222222222,\"#7201a8\"],[0.3333333333333333,\"#9c179e\"],[0.4444444444444444,\"#bd3786\"],[0.5555555555555556,\"#d8576b\"],[0.6666666666666666,\"#ed7953\"],[0.7777777777777778,\"#fb9f3a\"],[0.8888888888888888,\"#fdca26\"],[1.0,\"#f0f921\"]],\"type\":\"heatmapgl\"}],\"histogram\":[{\"marker\":{\"pattern\":{\"fillmode\":\"overlay\",\"size\":10,\"solidity\":0.2}},\"type\":\"histogram\"}],\"histogram2d\":[{\"colorbar\":{\"outlinewidth\":0,\"ticks\":\"\"},\"colorscale\":[[0.0,\"#0d0887\"],[0.1111111111111111,\"#46039f\"],[0.2222222222222222,\"#7201a8\"],[0.3333333333333333,\"#9c179e\"],[0.4444444444444444,\"#bd3786\"],[0.5555555555555556,\"#d8576b\"],[0.6666666666666666,\"#ed7953\"],[0.7777777777777778,\"#fb9f3a\"],[0.8888888888888888,\"#fdca26\"],[1.0,\"#f0f921\"]],\"type\":\"histogram2d\"}],\"histogram2dcontour\":[{\"colorbar\":{\"outlinewidth\":0,\"ticks\":\"\"},\"colorscale\":[[0.0,\"#0d0887\"],[0.1111111111111111,\"#46039f\"],[0.2222222222222222,\"#7201a8\"],[0.3333333333333333,\"#9c179e\"],[0.4444444444444444,\"#bd3786\"],[0.5555555555555556,\"#d8576b\"],[0.6666666666666666,\"#ed7953\"],[0.7777777777777778,\"#fb9f3a\"],[0.8888888888888888,\"#fdca26\"],[1.0,\"#f0f921\"]],\"type\":\"histogram2dcontour\"}],\"mesh3d\":[{\"colorbar\":{\"outlinewidth\":0,\"ticks\":\"\"},\"type\":\"mesh3d\"}],\"parcoords\":[{\"line\":{\"colorbar\":{\"outlinewidth\":0,\"ticks\":\"\"}},\"type\":\"parcoords\"}],\"pie\":[{\"automargin\":true,\"type\":\"pie\"}],\"scatter\":[{\"marker\":{\"colorbar\":{\"outlinewidth\":0,\"ticks\":\"\"}},\"type\":\"scatter\"}],\"scatter3d\":[{\"line\":{\"colorbar\":{\"outlinewidth\":0,\"ticks\":\"\"}},\"marker\":{\"colorbar\":{\"outlinewidth\":0,\"ticks\":\"\"}},\"type\":\"scatter3d\"}],\"scattercarpet\":[{\"marker\":{\"colorbar\":{\"outlinewidth\":0,\"ticks\":\"\"}},\"type\":\"scattercarpet\"}],\"scattergeo\":[{\"marker\":{\"colorbar\":{\"outlinewidth\":0,\"ticks\":\"\"}},\"type\":\"scattergeo\"}],\"scattergl\":[{\"marker\":{\"colorbar\":{\"outlinewidth\":0,\"ticks\":\"\"}},\"type\":\"scattergl\"}],\"scattermapbox\":[{\"marker\":{\"colorbar\":{\"outlinewidth\":0,\"ticks\":\"\"}},\"type\":\"scattermapbox\"}],\"scatterpolar\":[{\"marker\":{\"colorbar\":{\"outlinewidth\":0,\"ticks\":\"\"}},\"type\":\"scatterpolar\"}],\"scatterpolargl\":[{\"marker\":{\"colorbar\":{\"outlinewidth\":0,\"ticks\":\"\"}},\"type\":\"scatterpolargl\"}],\"scatterternary\":[{\"marker\":{\"colorbar\":{\"outlinewidth\":0,\"ticks\":\"\"}},\"type\":\"scatterternary\"}],\"surface\":[{\"colorbar\":{\"outlinewidth\":0,\"ticks\":\"\"},\"colorscale\":[[0.0,\"#0d0887\"],[0.1111111111111111,\"#46039f\"],[0.2222222222222222,\"#7201a8\"],[0.3333333333333333,\"#9c179e\"],[0.4444444444444444,\"#bd3786\"],[0.5555555555555556,\"#d8576b\"],[0.6666666666666666,\"#ed7953\"],[0.7777777777777778,\"#fb9f3a\"],[0.8888888888888888,\"#fdca26\"],[1.0,\"#f0f921\"]],\"type\":\"surface\"}],\"table\":[{\"cells\":{\"fill\":{\"color\":\"#EBF0F8\"},\"line\":{\"color\":\"white\"}},\"header\":{\"fill\":{\"color\":\"#C8D4E3\"},\"line\":{\"color\":\"white\"}},\"type\":\"table\"}]},\"layout\":{\"annotationdefaults\":{\"arrowcolor\":\"#2a3f5f\",\"arrowhead\":0,\"arrowwidth\":1},\"autotypenumbers\":\"strict\",\"coloraxis\":{\"colorbar\":{\"outlinewidth\":0,\"ticks\":\"\"}},\"colorscale\":{\"diverging\":[[0,\"#8e0152\"],[0.1,\"#c51b7d\"],[0.2,\"#de77ae\"],[0.3,\"#f1b6da\"],[0.4,\"#fde0ef\"],[0.5,\"#f7f7f7\"],[0.6,\"#e6f5d0\"],[0.7,\"#b8e186\"],[0.8,\"#7fbc41\"],[0.9,\"#4d9221\"],[1,\"#276419\"]],\"sequential\":[[0.0,\"#0d0887\"],[0.1111111111111111,\"#46039f\"],[0.2222222222222222,\"#7201a8\"],[0.3333333333333333,\"#9c179e\"],[0.4444444444444444,\"#bd3786\"],[0.5555555555555556,\"#d8576b\"],[0.6666666666666666,\"#ed7953\"],[0.7777777777777778,\"#fb9f3a\"],[0.8888888888888888,\"#fdca26\"],[1.0,\"#f0f921\"]],\"sequentialminus\":[[0.0,\"#0d0887\"],[0.1111111111111111,\"#46039f\"],[0.2222222222222222,\"#7201a8\"],[0.3333333333333333,\"#9c179e\"],[0.4444444444444444,\"#bd3786\"],[0.5555555555555556,\"#d8576b\"],[0.6666666666666666,\"#ed7953\"],[0.7777777777777778,\"#fb9f3a\"],[0.8888888888888888,\"#fdca26\"],[1.0,\"#f0f921\"]]},\"colorway\":[\"#636efa\",\"#EF553B\",\"#00cc96\",\"#ab63fa\",\"#FFA15A\",\"#19d3f3\",\"#FF6692\",\"#B6E880\",\"#FF97FF\",\"#FECB52\"],\"font\":{\"color\":\"#2a3f5f\"},\"geo\":{\"bgcolor\":\"white\",\"lakecolor\":\"white\",\"landcolor\":\"#E5ECF6\",\"showlakes\":true,\"showland\":true,\"subunitcolor\":\"white\"},\"hoverlabel\":{\"align\":\"left\"},\"hovermode\":\"closest\",\"mapbox\":{\"style\":\"light\"},\"paper_bgcolor\":\"white\",\"plot_bgcolor\":\"#E5ECF6\",\"polar\":{\"angularaxis\":{\"gridcolor\":\"white\",\"linecolor\":\"white\",\"ticks\":\"\"},\"bgcolor\":\"#E5ECF6\",\"radialaxis\":{\"gridcolor\":\"white\",\"linecolor\":\"white\",\"ticks\":\"\"}},\"scene\":{\"xaxis\":{\"backgroundcolor\":\"#E5ECF6\",\"gridcolor\":\"white\",\"gridwidth\":2,\"linecolor\":\"white\",\"showbackground\":true,\"ticks\":\"\",\"zerolinecolor\":\"white\"},\"yaxis\":{\"backgroundcolor\":\"#E5ECF6\",\"gridcolor\":\"white\",\"gridwidth\":2,\"linecolor\":\"white\",\"showbackground\":true,\"ticks\":\"\",\"zerolinecolor\":\"white\"},\"zaxis\":{\"backgroundcolor\":\"#E5ECF6\",\"gridcolor\":\"white\",\"gridwidth\":2,\"linecolor\":\"white\",\"showbackground\":true,\"ticks\":\"\",\"zerolinecolor\":\"white\"}},\"shapedefaults\":{\"line\":{\"color\":\"#2a3f5f\"}},\"ternary\":{\"aaxis\":{\"gridcolor\":\"white\",\"linecolor\":\"white\",\"ticks\":\"\"},\"baxis\":{\"gridcolor\":\"white\",\"linecolor\":\"white\",\"ticks\":\"\"},\"bgcolor\":\"#E5ECF6\",\"caxis\":{\"gridcolor\":\"white\",\"linecolor\":\"white\",\"ticks\":\"\"}},\"title\":{\"x\":0.05},\"xaxis\":{\"automargin\":true,\"gridcolor\":\"white\",\"linecolor\":\"white\",\"ticks\":\"\",\"title\":{\"standoff\":15},\"zerolinecolor\":\"white\",\"zerolinewidth\":2},\"yaxis\":{\"automargin\":true,\"gridcolor\":\"white\",\"linecolor\":\"white\",\"ticks\":\"\",\"title\":{\"standoff\":15},\"zerolinecolor\":\"white\",\"zerolinewidth\":2}}},\"xaxis\":{\"anchor\":\"y\",\"domain\":[0.0,1.0],\"title\":{\"text\":\"x\"}},\"yaxis\":{\"anchor\":\"x\",\"domain\":[0.0,1.0],\"autorange\":\"reversed\",\"title\":{\"text\":\"y\"}},\"coloraxis\":{\"colorscale\":[[0.0,\"rgb(103,0,31)\"],[0.1,\"rgb(178,24,43)\"],[0.2,\"rgb(214,96,77)\"],[0.3,\"rgb(244,165,130)\"],[0.4,\"rgb(253,219,199)\"],[0.5,\"rgb(247,247,247)\"],[0.6,\"rgb(209,229,240)\"],[0.7,\"rgb(146,197,222)\"],[0.8,\"rgb(67,147,195)\"],[0.9,\"rgb(33,102,172)\"],[1.0,\"rgb(5,48,97)\"]],\"cmid\":0.0},\"title\":{\"text\":\"IOI Metric Change From Each Head Through Receivers\"}},                        {\"responsive\": true}                    ).then(function(){\n",
              "                            \n",
              "var gd = document.getElementById('c15fb9d1-bb7a-43db-88fd-2f8e5572fff6');\n",
              "var x = new MutationObserver(function (mutations, observer) {{\n",
              "        var display = window.getComputedStyle(gd).display;\n",
              "        if (!display || display === 'none') {{\n",
              "            console.log([gd, 'removed!']);\n",
              "            Plotly.purge(gd);\n",
              "            observer.disconnect();\n",
              "        }}\n",
              "}});\n",
              "\n",
              "// Listen for the removal of the full notebook cells\n",
              "var notebookContainer = gd.closest('#notebook-container');\n",
              "if (notebookContainer) {{\n",
              "    x.observe(notebookContainer, {childList: true});\n",
              "}}\n",
              "\n",
              "// Listen for the clearing of the current output cell\n",
              "var outputEl = gd.closest('.output');\n",
              "if (outputEl) {{\n",
              "    x.observe(outputEl, {childList: true});\n",
              "}}\n",
              "\n",
              "                        })                };                            </script>        </div>\n",
              "</body>\n",
              "</html>"
            ]
          },
          "metadata": {},
          "output_type": "display_data"
        }
      ],
      "source": [
        "imshow(metric_delta_results, title=\"IOI Metric Change From Each Head Through Receivers\")#, zmin=-0.02, zmax=0.02)"
      ]
    },
    {
      "cell_type": "markdown",
      "metadata": {
        "id": "5rEXsaPhdF32"
      },
      "source": [
        "### Third Level"
      ]
    },
    {
      "cell_type": "markdown",
      "metadata": {
        "id": "jGgbWtVEdKKO"
      },
      "source": [
        "#### Attention Patterns for Third-Level Heads"
      ]
    },
    {
      "cell_type": "markdown",
      "metadata": {
        "id": "OQOHwopPgmTV"
      },
      "source": [
        "We have a mix of induction heads and duplicate token heads here, as well as two heads that focus on S2 at S2."
      ]
    },
    {
      "cell_type": "code",
      "execution_count": null,
      "metadata": {
        "colab": {
          "base_uri": "https://localhost:8080/",
          "height": 780
        },
        "id": "d4dciSHKdPh-",
        "outputId": "633c04a1-4f18-4055-f196-d3d26ce96543"
      },
      "outputs": [
        {
          "data": {
            "text/html": [
              "<div id=\"circuits-vis-885c72f8-c5d6\" style=\"margin: 15px 0;\"/>\n",
              "    <script crossorigin type=\"module\">\n",
              "    import { render, AttentionHeads } from \"https://unpkg.com/circuitsvis@1.39.1/dist/cdn/esm.js\";\n",
              "    render(\n",
              "      \"circuits-vis-885c72f8-c5d6\",\n",
              "      AttentionHeads,\n",
              "      {\"attention\": [[[1.0, 0.0, 0.0, 0.0, 0.0, 0.0, 0.0, 0.0, 0.0, 0.0, 0.0, 0.0, 0.0, 0.0, 0.0, 0.0, 0.0], [0.9977405071258545, 0.002259539905935526, 0.0, 0.0, 0.0, 0.0, 0.0, 0.0, 0.0, 0.0, 0.0, 0.0, 0.0, 0.0, 0.0, 0.0, 0.0], [0.9994264841079712, 0.00039312063017860055, 0.00018033561354968697, 0.0, 0.0, 0.0, 0.0, 0.0, 0.0, 0.0, 0.0, 0.0, 0.0, 0.0, 0.0, 0.0, 0.0], [0.994163453578949, 0.0009230868308804929, 0.0032015028409659863, 0.0017119684489443898, 0.0, 0.0, 0.0, 0.0, 0.0, 0.0, 0.0, 0.0, 0.0, 0.0, 0.0, 0.0, 0.0], [0.9981502294540405, 0.00025685771834105253, 6.6376678660162725e-06, 0.00038521274109371006, 0.0012011115904897451, 0.0, 0.0, 0.0, 0.0, 0.0, 0.0, 0.0, 0.0, 0.0, 0.0, 0.0, 0.0], [0.9988204836845398, 0.0011214056285098195, 1.3106645383231808e-05, 5.922308421446587e-09, 8.411591352341929e-07, 4.418792013893835e-05, 0.0, 0.0, 0.0, 0.0, 0.0, 0.0, 0.0, 0.0, 0.0, 0.0, 0.0], [0.9961853623390198, 0.002478961367160082, 0.0003713545738719404, 3.273637716461053e-08, 0.00011933127825614065, 2.4153683853000985e-07, 0.000844660447910428, 0.0, 0.0, 0.0, 0.0, 0.0, 0.0, 0.0, 0.0, 0.0, 0.0], [0.9978790283203125, 0.002050599083304405, 1.5017770920167095e-06, 8.32357471836076e-09, 1.0602497013678658e-06, 2.2199035498715602e-08, 4.942671125718334e-07, 6.731501343892887e-05, 0.0, 0.0, 0.0, 0.0, 0.0, 0.0, 0.0, 0.0, 0.0], [0.9932460188865662, 0.0038690336514264345, 1.4891585351506365e-06, 4.3854950226851486e-10, 5.240216296442668e-07, 3.5871628369932296e-06, 6.222150545909244e-07, 5.662029252562206e-06, 0.0028731164056807756, 0.0, 0.0, 0.0, 0.0, 0.0, 0.0, 0.0, 0.0], [0.9956563711166382, 0.00391122791916132, 6.76918716635555e-05, 9.551131796570189e-08, 5.581791992881335e-05, 5.392621460487135e-07, 1.3266910059428483e-07, 2.6686363980843453e-06, 0.0002962015860248357, 9.314456292486284e-06, 0.0, 0.0, 0.0, 0.0, 0.0, 0.0, 0.0], [0.010538054630160332, 0.0007578033837489784, 1.4056982763577253e-05, 0.9854307174682617, 0.0028073443099856377, 0.000441375799709931, 6.229799964785343e-08, 9.521108346177698e-09, 7.112242315088224e-07, 6.286926090837142e-09, 9.914498150465079e-06, 0.0, 0.0, 0.0, 0.0, 0.0, 0.0], [0.9386114478111267, 0.0011500571854412556, 0.060208868235349655, 7.821565617405213e-09, 1.579935815243516e-05, 6.87531974108424e-06, 3.052394504265976e-06, 8.282650298951921e-08, 3.0256844638643088e-06, 2.197900883516013e-08, 4.0570051851318567e-07, 3.303157143363933e-07, 0.0, 0.0, 0.0, 0.0, 0.0], [0.9853516221046448, 0.0014803316444158554, 0.0003962916089221835, 1.7465285884199488e-09, 1.8371616761214682e-07, 6.71513816996594e-07, 3.970824309362797e-07, 1.0765892710651315e-07, 2.5222989279427566e-05, 7.297026627384184e-08, 6.16215686477517e-07, 1.1684520906385387e-08, 0.012744479812681675, 0.0, 0.0, 0.0, 0.0], [0.9976957440376282, 0.00016759549907874316, 1.633449301152723e-06, 8.394714967607797e-08, 1.9917844440442423e-07, 1.2648195024667075e-07, 3.848440233156225e-09, 5.068569119970334e-09, 4.8741981117927935e-06, 2.0111401681788266e-06, 3.092015177230678e-08, 2.755471939508425e-08, 1.7514135834062472e-05, 0.0021101455204188824, 0.0, 0.0, 0.0], [0.9883521199226379, 0.0003256190102547407, 1.9717934264917858e-05, 3.4199161280668022e-09, 7.811509021848906e-07, 1.7980431366027005e-08, 2.4689256195031817e-10, 2.470869020498867e-08, 4.908182290819241e-06, 1.8227945375315358e-08, 9.715383697539437e-08, 4.63582949805641e-09, 1.2761975085595623e-05, 0.00022357598936650902, 0.011060313321650028, 0.0, 0.0], [0.9992283582687378, 0.0007136223139241338, 1.7833708909620327e-07, 2.8420208408874714e-09, 7.070224850025397e-09, 2.96784801321337e-05, 2.466178150584142e-09, 5.983110274582204e-12, 5.975895192023017e-07, 1.6431637277491973e-06, 1.3658193687149378e-08, 1.2452299191778593e-09, 2.414937805284012e-09, 2.2665331300686375e-07, 1.470626830268884e-05, 1.1033325790776871e-05, 0.0], [0.9981228709220886, 0.0012176126474514604, 0.0006089743692427874, 1.5316044266189266e-10, 4.15239256312816e-08, 4.677787757145779e-08, 9.280206825224013e-08, 2.8589317935256986e-06, 2.6179932888226176e-07, 1.8045979288672243e-07, 3.163004294037819e-06, 1.203116362091805e-08, 1.6234120039371192e-06, 2.344813765375875e-06, 2.6389204776933184e-06, 2.3809318008716218e-05, 1.3480299458024092e-05]], [[1.0, 0.0, 0.0, 0.0, 0.0, 0.0, 0.0, 0.0, 0.0, 0.0, 0.0, 0.0, 0.0, 0.0, 0.0, 0.0, 0.0], [0.9827918410301208, 0.017208164557814598, 0.0, 0.0, 0.0, 0.0, 0.0, 0.0, 0.0, 0.0, 0.0, 0.0, 0.0, 0.0, 0.0, 0.0, 0.0], [0.9702504873275757, 0.025081250816583633, 0.0046682897955179214, 0.0, 0.0, 0.0, 0.0, 0.0, 0.0, 0.0, 0.0, 0.0, 0.0, 0.0, 0.0, 0.0, 0.0], [0.9360012412071228, 0.011503934860229492, 0.00783501286059618, 0.04465978220105171, 0.0, 0.0, 0.0, 0.0, 0.0, 0.0, 0.0, 0.0, 0.0, 0.0, 0.0, 0.0, 0.0], [0.9802427887916565, 0.011045713908970356, 0.0010727186454460025, 0.00427882419899106, 0.0033599610906094313, 0.0, 0.0, 0.0, 0.0, 0.0, 0.0, 0.0, 0.0, 0.0, 0.0, 0.0, 0.0], [0.9330664277076721, 0.057575710117816925, 0.003913296386599541, 0.000834528123959899, 0.0019238045206293464, 0.0026861983351409435, 0.0, 0.0, 0.0, 0.0, 0.0, 0.0, 0.0, 0.0, 0.0, 0.0, 0.0], [0.9412720203399658, 0.024483265355229378, 0.005111923906952143, 0.0002944266307167709, 0.0018513916293159127, 0.00014450705202762038, 0.02684241160750389, 0.0, 0.0, 0.0, 0.0, 0.0, 0.0, 0.0, 0.0, 0.0, 0.0], [0.9524381756782532, 0.03900477662682533, 0.0013604257255792618, 0.0003503157349769026, 0.00040770909981802106, 0.00011033975169993937, 0.0009075552225112915, 0.00542072020471096, 0.0, 0.0, 0.0, 0.0, 0.0, 0.0, 0.0, 0.0, 0.0], [0.8881872296333313, 0.08672479540109634, 0.0009656662587076426, 8.475977665511891e-06, 6.844703602837399e-05, 0.0005778974154964089, 0.0005087208701297641, 0.003950982354581356, 0.01900782622396946, 0.0, 0.0, 0.0, 0.0, 0.0, 0.0, 0.0, 0.0], [0.9225873351097107, 0.05138476938009262, 0.0036632632836699486, 0.00027412656345404685, 0.0017111520282924175, 0.0007745863404124975, 0.00037917704321444035, 0.0008082393324002624, 0.009923804551362991, 0.008493495173752308, 0.0, 0.0, 0.0, 0.0, 0.0, 0.0, 0.0], [0.07538202404975891, 0.011866945773363113, 0.0005239442689344287, 0.808090090751648, 0.09625430405139923, 0.004002163652330637, 0.00043021360761485994, 0.000559573876671493, 0.0006024503381922841, 5.1970509957754984e-05, 0.002236313419416547, 0.0, 0.0, 0.0, 0.0, 0.0, 0.0], [0.758828341960907, 0.03533471003174782, 0.16043074429035187, 0.0009286232525482774, 0.007848231121897697, 0.008539070375263691, 0.006544372532516718, 0.0019433514680713415, 0.0027877024840563536, 0.0038339574821293354, 0.004485052544623613, 0.008495856076478958, 0.0, 0.0, 0.0, 0.0, 0.0], [0.900208592414856, 0.03701711818575859, 0.010248430073261261, 9.174401202471927e-05, 0.00017292269330937415, 0.0004956797347404063, 0.0009162322385236621, 0.00045462624984793365, 0.0019843855407088995, 0.0022685315925627947, 0.0013241366250440478, 0.00035879964707419276, 0.044458769261837006, 0.0, 0.0, 0.0, 0.0], [0.9146052002906799, 0.042606230825185776, 0.0013557893689721823, 3.741780165000819e-05, 0.00026100032846443355, 0.00011062332487199455, 2.6325205908506177e-05, 0.00027366276481188834, 0.0013322237646207213, 0.005098779685795307, 0.001762756728567183, 0.00011280346370767802, 0.006056371610611677, 0.02636081911623478, 0.0, 0.0, 0.0], [0.9532296657562256, 0.011684193275868893, 0.0012932401150465012, 2.2905802325112745e-05, 0.00020226188644301146, 0.00010404899512650445, 1.667732976784464e-05, 0.0001759196602506563, 0.0008314918377436697, 0.003537574550136924, 0.0008400906226597726, 0.00013914771261624992, 0.004338569939136505, 0.0076423343271017075, 0.015941942110657692, 0.0, 0.0], [0.9632976651191711, 0.018758688122034073, 0.0002728313847910613, 2.3039463485474698e-05, 0.00018731066666077822, 0.006783561315387487, 7.916014874354005e-05, 3.0728762794751674e-05, 0.0006256963824853301, 0.005181917455047369, 0.00032573952921666205, 3.638032285380177e-05, 0.00011254272976657376, 0.0005450659664347768, 0.0004944721586070955, 0.003245167899876833, 0.0], [0.9477740526199341, 0.01646292582154274, 0.004593922756612301, 9.204182788380422e-06, 0.00014169032510835677, 0.0001961581438081339, 0.0004538381763268262, 0.0029126377776265144, 0.0017085714498534799, 0.009842637926340103, 0.0008400997030548751, 7.99391491455026e-05, 0.0014424268156290054, 0.002815942745655775, 0.00029656675178557634, 0.0022043560165911913, 0.008225055411458015]], [[1.0, 0.0, 0.0, 0.0, 0.0, 0.0, 0.0, 0.0, 0.0, 0.0, 0.0, 0.0, 0.0, 0.0, 0.0, 0.0, 0.0], [0.9983651041984558, 0.0016349279321730137, 0.0, 0.0, 0.0, 0.0, 0.0, 0.0, 0.0, 0.0, 0.0, 0.0, 0.0, 0.0, 0.0, 0.0, 0.0], [0.9948285222053528, 0.0001823272177716717, 0.004989233799278736, 0.0, 0.0, 0.0, 0.0, 0.0, 0.0, 0.0, 0.0, 0.0, 0.0, 0.0, 0.0, 0.0, 0.0], [0.8673422336578369, 0.0008683042251504958, 0.02855055406689644, 0.10323894768953323, 0.0, 0.0, 0.0, 0.0, 0.0, 0.0, 0.0, 0.0, 0.0, 0.0, 0.0, 0.0, 0.0], [0.9816298484802246, 0.0002972528454847634, 0.0037696179933845997, 0.005884380545467138, 0.008418831042945385, 0.0, 0.0, 0.0, 0.0, 0.0, 0.0, 0.0, 0.0, 0.0, 0.0, 0.0, 0.0], [0.9784131646156311, 0.0004215920635033399, 0.008892450481653214, 0.00550630409270525, 0.004363361746072769, 0.0024032145738601685, 0.0, 0.0, 0.0, 0.0, 0.0, 0.0, 0.0, 0.0, 0.0, 0.0, 0.0], [0.9696672558784485, 0.0012158205499872565, 0.007837453857064247, 0.0030550339724868536, 0.0036144049372524023, 0.0009465496987104416, 0.013663536868989468, 0.0, 0.0, 0.0, 0.0, 0.0, 0.0, 0.0, 0.0, 0.0, 0.0], [0.9931902289390564, 0.0005938818794675171, 0.001769463298842311, 0.0001979475055122748, 7.994507905095816e-05, 3.835221650660969e-05, 0.00025293929502367973, 0.0038772672414779663, 0.0, 0.0, 0.0, 0.0, 0.0, 0.0, 0.0, 0.0, 0.0], [0.9792699813842773, 0.001468436443246901, 0.004866595380008221, 0.00017479195958003402, 5.0723199819913134e-05, 3.22175255860202e-05, 0.0005319865886121988, 0.0015033052768558264, 0.012101864442229271, 0.0, 0.0, 0.0, 0.0, 0.0, 0.0, 0.0, 0.0], [0.9648488163948059, 0.001979277702048421, 0.014410781674087048, 0.00295051047578454, 0.0007358534494414926, 0.0006741246907040477, 0.003066968871280551, 0.0036164200864732265, 0.0017929094610735774, 0.005924378987401724, 0.0, 0.0, 0.0, 0.0, 0.0, 0.0, 0.0], [0.05690183490514755, 0.000198451365577057, 0.0020829851273447275, 0.034692227840423584, 0.7424772381782532, 0.08583527058362961, 0.062168218195438385, 0.004101689904928207, 0.0026152811478823423, 0.004230019170790911, 0.004696801770478487, 0.0, 0.0, 0.0, 0.0, 0.0, 0.0], [0.851166307926178, 0.0020351745188236237, 0.03126072511076927, 0.02583274617791176, 0.006388908252120018, 0.003558568423613906, 0.014532486908137798, 0.0058166347444057465, 0.0015363943530246615, 0.00579272024333477, 0.005638020113110542, 0.04644137620925903, 0.0, 0.0, 0.0, 0.0, 0.0], [0.9821356534957886, 0.0005260174511931837, 0.007259009405970573, 0.0025294029619544744, 0.00022282499412540346, 0.00017740775365382433, 0.0012558765010908246, 0.0004101819358766079, 0.000438519346062094, 0.0006344304420053959, 0.00037530873669311404, 0.0010440535843372345, 0.0029913904145359993, 0.0, 0.0, 0.0, 0.0], [0.9883167147636414, 0.0007262154249474406, 0.004082708619534969, 0.00027668109396472573, 5.541574864764698e-05, 1.2297376088099554e-05, 0.0001299809227930382, 7.257857214426622e-05, 0.0001023350196192041, 0.0004762491153087467, 0.0003743087872862816, 0.00023626819893252105, 0.0007782955071888864, 0.00436003552749753, 0.0, 0.0, 0.0], [0.9980422258377075, 0.0003473364922683686, 0.0005393543979153037, 2.260997280245647e-05, 5.141644123796141e-06, 1.7607973745725758e-07, 3.5449220376904123e-06, 4.628038368537091e-06, 2.7966487323283218e-05, 3.351341001689434e-05, 4.2157280404353514e-05, 4.7745677875354886e-05, 3.0009614420123398e-05, 0.00021074098185636103, 0.0006429177010431886, 0.0, 0.0], [0.9695586562156677, 0.0006224570679478347, 0.0014066080329939723, 1.7161806681542657e-05, 3.785454737226246e-06, 1.9596175206970656e-06, 4.2599211155902594e-05, 2.9251186788314953e-05, 3.2634547096677125e-05, 0.00039342427044175565, 0.0004868159012403339, 0.00020651805971283466, 0.0003758207312785089, 0.00031584565294906497, 0.000715515052434057, 0.0257909893989563, 0.0], [0.9826743006706238, 0.0002647240471560508, 0.0017451538005843759, 5.890051033929922e-05, 1.2226795661263168e-05, 2.5994557290687226e-05, 0.00010059450141852722, 0.0001683767040958628, 0.0011750604026019573, 0.0017100420081987977, 0.0011373099405318499, 0.0002905783767346293, 0.0006429963978007436, 0.0009200103813782334, 0.0012601943453773856, 0.0021939959842711687, 0.005619517061859369]]], \"attentionHeadNames\": [\"L4H6\", \"L4H11\", \"L5H10\"], \"tokens\": [\"<|endoftext|>\", \"After\", \" John\", \" and\", \" Mary\", \" went\", \" to\", \" the\", \" store\", \",\", \" John\", \" gave\", \" a\", \" bottle\", \" of\", \" milk\", \" to\"]}\n",
              "    )\n",
              "    </script>"
            ],
            "text/plain": [
              "<circuitsvis.utils.render.RenderedHTML at 0x7f2725cb6430>"
            ]
          },
          "execution_count": 114,
          "metadata": {},
          "output_type": "execute_result"
        }
      ],
      "source": [
        "third_level_positive_heads = [(4, 6), (4, 11), (5, 10)]\n",
        "\n",
        "tokens, attn, names = get_attn_head_patterns(model, example_prompt, second_level_positive_heads)\n",
        "cv.attention.attention_heads(tokens=tokens, attention=attn, attention_head_names=names)"
      ]
    },
    {
      "cell_type": "markdown",
      "metadata": {
        "id": "iN1BMyEUgIpy"
      },
      "source": [
        "### Backup Name Mover Heads"
      ]
    },
    {
      "cell_type": "code",
      "execution_count": null,
      "metadata": {
        "colab": {
          "base_uri": "https://localhost:8080/"
        },
        "id": "GxJFLGpde4NP",
        "outputId": "2d759aab-459d-46c8-e811-826cfad65b03"
      },
      "outputs": [
        {
          "name": "stdout",
          "output_type": "stream",
          "text": [
            "Heads to ablate: [(8, 2), (8, 10), (9, 6), (10, 7)]\n",
            "Original IOI Metric: 1.0000\n",
            "Post ablation IOI Metric: 0.8575706481933594\n"
          ]
        }
      ],
      "source": [
        "heads_to_ablate = [(8, 2), (8, 10), (9, 6), (10, 7)]\n",
        "\n",
        "print(f\"Heads to ablate: {heads_to_ablate}\")\n",
        "def ablate_top_head_hook(z: TT[\"batch\", \"pos\", \"head_index\", \"d_head\"], hook, head_idx=0):\n",
        "    z[:, -1, head_idx, :] = 0\n",
        "    return z\n",
        "# Adds a hook into global model state\n",
        "for layer, head in heads_to_ablate:\n",
        "    ablate_head_hook = partial(ablate_top_head_hook, head_idx=head)\n",
        "    model.blocks[layer].attn.hook_z.add_hook(ablate_head_hook)\n",
        "# Runs the model, temporarily adds caching hooks and then removes *all* hooks after running, including the ablation hook.\n",
        "ablated_logits, ablated_cache = model.run_with_cache(clean_tokens)\n",
        "print(f\"Original IOI Metric: {ioi_metric(clean_logits).item():.4f}\")\n",
        "print(f\"Post ablation IOI Metric: {ioi_metric(ablated_logits).item()}\")\n",
        "#print(f\"Direct Logit Attribution of top name mover head: {per_head_logit_diffs.flatten()[top_name_mover].item()}\")\n",
        "#print(f\"Naive prediction of post ablation logit diff: {original_average_logit_diff - per_head_logit_diffs.flatten()[top_name_mover].item()}\")"
      ]
    },
    {
      "cell_type": "code",
      "execution_count": null,
      "metadata": {
        "colab": {
          "base_uri": "https://localhost:8080/",
          "height": 1000
        },
        "id": "1m1tFBCdsNlQ",
        "outputId": "e935f174-44cb-4f6c-8ecc-5f950bf72368"
      },
      "outputs": [
        {
          "name": "stdout",
          "output_type": "stream",
          "text": [
            "Tried to stack head results when they weren't cached. Computing head results now\n"
          ]
        },
        {
          "data": {
            "text/html": [
              "<html>\n",
              "<head><meta charset=\"utf-8\" /></head>\n",
              "<body>\n",
              "    <div>            <script src=\"https://cdnjs.cloudflare.com/ajax/libs/mathjax/2.7.5/MathJax.js?config=TeX-AMS-MML_SVG\"></script><script type=\"text/javascript\">if (window.MathJax) {MathJax.Hub.Config({SVG: {font: \"STIX-Web\"}});}</script>                <script type=\"text/javascript\">window.PlotlyConfig = {MathJaxConfig: 'local'};</script>\n",
              "        <script src=\"https://cdn.plot.ly/plotly-2.8.3.min.js\"></script>                <div id=\"e5a00757-a88f-4f99-8185-c27ab6132b9c\" class=\"plotly-graph-div\" style=\"height:525px; width:100%;\"></div>            <script type=\"text/javascript\">                                    window.PLOTLYENV=window.PLOTLYENV || {};                                    if (document.getElementById(\"e5a00757-a88f-4f99-8185-c27ab6132b9c\")) {                    Plotly.newPlot(                        \"e5a00757-a88f-4f99-8185-c27ab6132b9c\",                        [{\"coloraxis\":\"coloraxis\",\"name\":\"0\",\"z\":[[0.020221147686243057,0.04076646268367767,0.03558884188532829,0.0048253959976136684,0.024957366287708282,-0.007088472135365009,-0.12443993240594864,0.10922057181596756,0.03205033391714096,0.055575184524059296,-0.025236904621124268,0.020291203632950783],[0.0007550530135631561,-0.014737319201231003,-0.024554558098316193,0.019622521474957466,-0.05986678972840309,0.0018280120566487312,0.0899171382188797,0.0018582758493721485,-0.01961829513311386,0.011505234986543655,-0.04511275514960289,-0.009110281243920326],[0.04573953151702881,0.02235827036201954,0.0322599932551384,0.0377008393406868,-0.03798897936940193,0.003466061782091856,0.054021503776311874,0.05426923185586929,0.04701157659292221,0.016987457871437073,0.05744236707687378,-0.05343896523118019],[0.006353836506605148,-0.042225852608680725,-0.24046579003334045,0.06063012406229973,-0.03714974969625473,0.0063704270869493484,-0.030900754034519196,-0.040003176778554916,-0.05976790189743042,-0.07053010165691376,0.02100246399641037,-0.03693819046020508],[-0.06916268914937973,-0.04766763746738434,-0.029760828241705894,0.07309339940547943,0.010081769898533821,-0.11592946946620941,-0.019194908440113068,0.0035232175141572952,0.029484277591109276,0.019293740391731262,-0.07106060534715652,0.08528950065374374],[0.07063791155815125,-0.039172716438770294,0.02417067624628544,-0.13682933151721954,0.05316343903541565,0.005066215991973877,4.3764710426330566e-05,0.0037364382296800613,-0.1653049886226654,-0.002058866899460554,0.01643681712448597,0.012991270050406456],[-0.06231163814663887,-0.025746628642082214,0.05797521770000458,-0.033530279994010925,-0.08227971941232681,-0.19398407638072968,0.3900860548019409,-0.12486095726490021,-0.006086645647883415,-0.004902152344584465,0.022770168259739876,-0.009105199947953224],[-0.02023383229970932,0.0189838670194149,-0.09125155210494995,0.024418510496616364,0.01127505674958229,0.05610557645559311,0.021324407309293747,-0.011422182433307171,0.21008455753326416,0.06601433455944061,-0.023878715932369232,0.3044280409812927],[0.004097470548003912,0.3620613217353821,0.0,0.0016961158253252506,0.08038657903671265,0.027160804718732834,-0.0417175218462944,-0.049131814390420914,0.32091638445854187,-0.10812641680240631,0.0,0.2620041072368622],[0.013515446335077286,-0.005177866667509079,0.07304127514362335,0.11866967380046844,0.3298165202140808,0.002148229628801346,0.0,0.30118098855018616,0.2678828537464142,0.10690532624721527,-0.0022950556594878435,-0.003825155086815357],[0.004317328799515963,0.6500676274299622,-0.05766548216342926,0.0018703199457377195,0.040129318833351135,0.15756653249263763,-0.007921959273517132,0.0,0.40858811140060425,-0.0011328421533107758,0.06560211628675461,0.21938328444957733],[0.20423762500286102,0.25975894927978516,0.09834347665309906,0.015183204784989357,0.027995361015200615,0.5032586455345154,0.1976359337568283,0.09341602027416229,0.14680169522762299,0.21252800524234772,0.41151201725006104,0.11118629574775696]],\"type\":\"heatmap\",\"xaxis\":\"x\",\"yaxis\":\"y\",\"hovertemplate\":\"Head: %{x}<br>Layer: %{y}<br>color: %{z}<extra></extra>\"}],                        {\"template\":{\"data\":{\"bar\":[{\"error_x\":{\"color\":\"#2a3f5f\"},\"error_y\":{\"color\":\"#2a3f5f\"},\"marker\":{\"line\":{\"color\":\"#E5ECF6\",\"width\":0.5},\"pattern\":{\"fillmode\":\"overlay\",\"size\":10,\"solidity\":0.2}},\"type\":\"bar\"}],\"barpolar\":[{\"marker\":{\"line\":{\"color\":\"#E5ECF6\",\"width\":0.5},\"pattern\":{\"fillmode\":\"overlay\",\"size\":10,\"solidity\":0.2}},\"type\":\"barpolar\"}],\"carpet\":[{\"aaxis\":{\"endlinecolor\":\"#2a3f5f\",\"gridcolor\":\"white\",\"linecolor\":\"white\",\"minorgridcolor\":\"white\",\"startlinecolor\":\"#2a3f5f\"},\"baxis\":{\"endlinecolor\":\"#2a3f5f\",\"gridcolor\":\"white\",\"linecolor\":\"white\",\"minorgridcolor\":\"white\",\"startlinecolor\":\"#2a3f5f\"},\"type\":\"carpet\"}],\"choropleth\":[{\"colorbar\":{\"outlinewidth\":0,\"ticks\":\"\"},\"type\":\"choropleth\"}],\"contour\":[{\"colorbar\":{\"outlinewidth\":0,\"ticks\":\"\"},\"colorscale\":[[0.0,\"#0d0887\"],[0.1111111111111111,\"#46039f\"],[0.2222222222222222,\"#7201a8\"],[0.3333333333333333,\"#9c179e\"],[0.4444444444444444,\"#bd3786\"],[0.5555555555555556,\"#d8576b\"],[0.6666666666666666,\"#ed7953\"],[0.7777777777777778,\"#fb9f3a\"],[0.8888888888888888,\"#fdca26\"],[1.0,\"#f0f921\"]],\"type\":\"contour\"}],\"contourcarpet\":[{\"colorbar\":{\"outlinewidth\":0,\"ticks\":\"\"},\"type\":\"contourcarpet\"}],\"heatmap\":[{\"colorbar\":{\"outlinewidth\":0,\"ticks\":\"\"},\"colorscale\":[[0.0,\"#0d0887\"],[0.1111111111111111,\"#46039f\"],[0.2222222222222222,\"#7201a8\"],[0.3333333333333333,\"#9c179e\"],[0.4444444444444444,\"#bd3786\"],[0.5555555555555556,\"#d8576b\"],[0.6666666666666666,\"#ed7953\"],[0.7777777777777778,\"#fb9f3a\"],[0.8888888888888888,\"#fdca26\"],[1.0,\"#f0f921\"]],\"type\":\"heatmap\"}],\"heatmapgl\":[{\"colorbar\":{\"outlinewidth\":0,\"ticks\":\"\"},\"colorscale\":[[0.0,\"#0d0887\"],[0.1111111111111111,\"#46039f\"],[0.2222222222222222,\"#7201a8\"],[0.3333333333333333,\"#9c179e\"],[0.4444444444444444,\"#bd3786\"],[0.5555555555555556,\"#d8576b\"],[0.6666666666666666,\"#ed7953\"],[0.7777777777777778,\"#fb9f3a\"],[0.8888888888888888,\"#fdca26\"],[1.0,\"#f0f921\"]],\"type\":\"heatmapgl\"}],\"histogram\":[{\"marker\":{\"pattern\":{\"fillmode\":\"overlay\",\"size\":10,\"solidity\":0.2}},\"type\":\"histogram\"}],\"histogram2d\":[{\"colorbar\":{\"outlinewidth\":0,\"ticks\":\"\"},\"colorscale\":[[0.0,\"#0d0887\"],[0.1111111111111111,\"#46039f\"],[0.2222222222222222,\"#7201a8\"],[0.3333333333333333,\"#9c179e\"],[0.4444444444444444,\"#bd3786\"],[0.5555555555555556,\"#d8576b\"],[0.6666666666666666,\"#ed7953\"],[0.7777777777777778,\"#fb9f3a\"],[0.8888888888888888,\"#fdca26\"],[1.0,\"#f0f921\"]],\"type\":\"histogram2d\"}],\"histogram2dcontour\":[{\"colorbar\":{\"outlinewidth\":0,\"ticks\":\"\"},\"colorscale\":[[0.0,\"#0d0887\"],[0.1111111111111111,\"#46039f\"],[0.2222222222222222,\"#7201a8\"],[0.3333333333333333,\"#9c179e\"],[0.4444444444444444,\"#bd3786\"],[0.5555555555555556,\"#d8576b\"],[0.6666666666666666,\"#ed7953\"],[0.7777777777777778,\"#fb9f3a\"],[0.8888888888888888,\"#fdca26\"],[1.0,\"#f0f921\"]],\"type\":\"histogram2dcontour\"}],\"mesh3d\":[{\"colorbar\":{\"outlinewidth\":0,\"ticks\":\"\"},\"type\":\"mesh3d\"}],\"parcoords\":[{\"line\":{\"colorbar\":{\"outlinewidth\":0,\"ticks\":\"\"}},\"type\":\"parcoords\"}],\"pie\":[{\"automargin\":true,\"type\":\"pie\"}],\"scatter\":[{\"marker\":{\"colorbar\":{\"outlinewidth\":0,\"ticks\":\"\"}},\"type\":\"scatter\"}],\"scatter3d\":[{\"line\":{\"colorbar\":{\"outlinewidth\":0,\"ticks\":\"\"}},\"marker\":{\"colorbar\":{\"outlinewidth\":0,\"ticks\":\"\"}},\"type\":\"scatter3d\"}],\"scattercarpet\":[{\"marker\":{\"colorbar\":{\"outlinewidth\":0,\"ticks\":\"\"}},\"type\":\"scattercarpet\"}],\"scattergeo\":[{\"marker\":{\"colorbar\":{\"outlinewidth\":0,\"ticks\":\"\"}},\"type\":\"scattergeo\"}],\"scattergl\":[{\"marker\":{\"colorbar\":{\"outlinewidth\":0,\"ticks\":\"\"}},\"type\":\"scattergl\"}],\"scattermapbox\":[{\"marker\":{\"colorbar\":{\"outlinewidth\":0,\"ticks\":\"\"}},\"type\":\"scattermapbox\"}],\"scatterpolar\":[{\"marker\":{\"colorbar\":{\"outlinewidth\":0,\"ticks\":\"\"}},\"type\":\"scatterpolar\"}],\"scatterpolargl\":[{\"marker\":{\"colorbar\":{\"outlinewidth\":0,\"ticks\":\"\"}},\"type\":\"scatterpolargl\"}],\"scatterternary\":[{\"marker\":{\"colorbar\":{\"outlinewidth\":0,\"ticks\":\"\"}},\"type\":\"scatterternary\"}],\"surface\":[{\"colorbar\":{\"outlinewidth\":0,\"ticks\":\"\"},\"colorscale\":[[0.0,\"#0d0887\"],[0.1111111111111111,\"#46039f\"],[0.2222222222222222,\"#7201a8\"],[0.3333333333333333,\"#9c179e\"],[0.4444444444444444,\"#bd3786\"],[0.5555555555555556,\"#d8576b\"],[0.6666666666666666,\"#ed7953\"],[0.7777777777777778,\"#fb9f3a\"],[0.8888888888888888,\"#fdca26\"],[1.0,\"#f0f921\"]],\"type\":\"surface\"}],\"table\":[{\"cells\":{\"fill\":{\"color\":\"#EBF0F8\"},\"line\":{\"color\":\"white\"}},\"header\":{\"fill\":{\"color\":\"#C8D4E3\"},\"line\":{\"color\":\"white\"}},\"type\":\"table\"}]},\"layout\":{\"annotationdefaults\":{\"arrowcolor\":\"#2a3f5f\",\"arrowhead\":0,\"arrowwidth\":1},\"autotypenumbers\":\"strict\",\"coloraxis\":{\"colorbar\":{\"outlinewidth\":0,\"ticks\":\"\"}},\"colorscale\":{\"diverging\":[[0,\"#8e0152\"],[0.1,\"#c51b7d\"],[0.2,\"#de77ae\"],[0.3,\"#f1b6da\"],[0.4,\"#fde0ef\"],[0.5,\"#f7f7f7\"],[0.6,\"#e6f5d0\"],[0.7,\"#b8e186\"],[0.8,\"#7fbc41\"],[0.9,\"#4d9221\"],[1,\"#276419\"]],\"sequential\":[[0.0,\"#0d0887\"],[0.1111111111111111,\"#46039f\"],[0.2222222222222222,\"#7201a8\"],[0.3333333333333333,\"#9c179e\"],[0.4444444444444444,\"#bd3786\"],[0.5555555555555556,\"#d8576b\"],[0.6666666666666666,\"#ed7953\"],[0.7777777777777778,\"#fb9f3a\"],[0.8888888888888888,\"#fdca26\"],[1.0,\"#f0f921\"]],\"sequentialminus\":[[0.0,\"#0d0887\"],[0.1111111111111111,\"#46039f\"],[0.2222222222222222,\"#7201a8\"],[0.3333333333333333,\"#9c179e\"],[0.4444444444444444,\"#bd3786\"],[0.5555555555555556,\"#d8576b\"],[0.6666666666666666,\"#ed7953\"],[0.7777777777777778,\"#fb9f3a\"],[0.8888888888888888,\"#fdca26\"],[1.0,\"#f0f921\"]]},\"colorway\":[\"#636efa\",\"#EF553B\",\"#00cc96\",\"#ab63fa\",\"#FFA15A\",\"#19d3f3\",\"#FF6692\",\"#B6E880\",\"#FF97FF\",\"#FECB52\"],\"font\":{\"color\":\"#2a3f5f\"},\"geo\":{\"bgcolor\":\"white\",\"lakecolor\":\"white\",\"landcolor\":\"#E5ECF6\",\"showlakes\":true,\"showland\":true,\"subunitcolor\":\"white\"},\"hoverlabel\":{\"align\":\"left\"},\"hovermode\":\"closest\",\"mapbox\":{\"style\":\"light\"},\"paper_bgcolor\":\"white\",\"plot_bgcolor\":\"#E5ECF6\",\"polar\":{\"angularaxis\":{\"gridcolor\":\"white\",\"linecolor\":\"white\",\"ticks\":\"\"},\"bgcolor\":\"#E5ECF6\",\"radialaxis\":{\"gridcolor\":\"white\",\"linecolor\":\"white\",\"ticks\":\"\"}},\"scene\":{\"xaxis\":{\"backgroundcolor\":\"#E5ECF6\",\"gridcolor\":\"white\",\"gridwidth\":2,\"linecolor\":\"white\",\"showbackground\":true,\"ticks\":\"\",\"zerolinecolor\":\"white\"},\"yaxis\":{\"backgroundcolor\":\"#E5ECF6\",\"gridcolor\":\"white\",\"gridwidth\":2,\"linecolor\":\"white\",\"showbackground\":true,\"ticks\":\"\",\"zerolinecolor\":\"white\"},\"zaxis\":{\"backgroundcolor\":\"#E5ECF6\",\"gridcolor\":\"white\",\"gridwidth\":2,\"linecolor\":\"white\",\"showbackground\":true,\"ticks\":\"\",\"zerolinecolor\":\"white\"}},\"shapedefaults\":{\"line\":{\"color\":\"#2a3f5f\"}},\"ternary\":{\"aaxis\":{\"gridcolor\":\"white\",\"linecolor\":\"white\",\"ticks\":\"\"},\"baxis\":{\"gridcolor\":\"white\",\"linecolor\":\"white\",\"ticks\":\"\"},\"bgcolor\":\"#E5ECF6\",\"caxis\":{\"gridcolor\":\"white\",\"linecolor\":\"white\",\"ticks\":\"\"}},\"title\":{\"x\":0.05},\"xaxis\":{\"automargin\":true,\"gridcolor\":\"white\",\"linecolor\":\"white\",\"ticks\":\"\",\"title\":{\"standoff\":15},\"zerolinecolor\":\"white\",\"zerolinewidth\":2},\"yaxis\":{\"automargin\":true,\"gridcolor\":\"white\",\"linecolor\":\"white\",\"ticks\":\"\",\"title\":{\"standoff\":15},\"zerolinecolor\":\"white\",\"zerolinewidth\":2}}},\"xaxis\":{\"anchor\":\"y\",\"domain\":[0.0,1.0],\"title\":{\"text\":\"x\"}},\"yaxis\":{\"anchor\":\"x\",\"domain\":[0.0,1.0],\"autorange\":\"reversed\",\"title\":{\"text\":\"y\"}},\"coloraxis\":{\"colorscale\":[[0.0,\"rgb(103,0,31)\"],[0.1,\"rgb(178,24,43)\"],[0.2,\"rgb(214,96,77)\"],[0.3,\"rgb(244,165,130)\"],[0.4,\"rgb(253,219,199)\"],[0.5,\"rgb(247,247,247)\"],[0.6,\"rgb(209,229,240)\"],[0.7,\"rgb(146,197,222)\"],[0.8,\"rgb(67,147,195)\"],[0.9,\"rgb(33,102,172)\"],[1.0,\"rgb(5,48,97)\"]],\"cmid\":0.0},\"margin\":{\"t\":60}},                        {\"responsive\": true}                    ).then(function(){\n",
              "                            \n",
              "var gd = document.getElementById('e5a00757-a88f-4f99-8185-c27ab6132b9c');\n",
              "var x = new MutationObserver(function (mutations, observer) {{\n",
              "        var display = window.getComputedStyle(gd).display;\n",
              "        if (!display || display === 'none') {{\n",
              "            console.log([gd, 'removed!']);\n",
              "            Plotly.purge(gd);\n",
              "            observer.disconnect();\n",
              "        }}\n",
              "}});\n",
              "\n",
              "// Listen for the removal of the full notebook cells\n",
              "var notebookContainer = gd.closest('#notebook-container');\n",
              "if (notebookContainer) {{\n",
              "    x.observe(notebookContainer, {childList: true});\n",
              "}}\n",
              "\n",
              "// Listen for the clearing of the current output cell\n",
              "var outputEl = gd.closest('.output');\n",
              "if (outputEl) {{\n",
              "    x.observe(outputEl, {childList: true});\n",
              "}}\n",
              "\n",
              "                        })                };                            </script>        </div>\n",
              "</body>\n",
              "</html>"
            ]
          },
          "metadata": {},
          "output_type": "display_data"
        },
        {
          "data": {
            "text/html": [
              "<html>\n",
              "<head><meta charset=\"utf-8\" /></head>\n",
              "<body>\n",
              "    <div>            <script src=\"https://cdnjs.cloudflare.com/ajax/libs/mathjax/2.7.5/MathJax.js?config=TeX-AMS-MML_SVG\"></script><script type=\"text/javascript\">if (window.MathJax) {MathJax.Hub.Config({SVG: {font: \"STIX-Web\"}});}</script>                <script type=\"text/javascript\">window.PlotlyConfig = {MathJaxConfig: 'local'};</script>\n",
              "        <script src=\"https://cdn.plot.ly/plotly-2.8.3.min.js\"></script>                <div id=\"0c5bb811-ce41-495a-96bf-f2fb2e6e3aab\" class=\"plotly-graph-div\" style=\"height:525px; width:100%;\"></div>            <script type=\"text/javascript\">                                    window.PLOTLYENV=window.PLOTLYENV || {};                                    if (document.getElementById(\"0c5bb811-ce41-495a-96bf-f2fb2e6e3aab\")) {                    Plotly.newPlot(                        \"0c5bb811-ce41-495a-96bf-f2fb2e6e3aab\",                        [{\"hovertemplate\":\"<b>%{hovertext}</b><br><br>Ablated=%{x}<br>Original=%{y}<extra></extra>\",\"hovertext\":[\"L0H0\",\"L0H1\",\"L0H2\",\"L0H3\",\"L0H4\",\"L0H5\",\"L0H6\",\"L0H7\",\"L0H8\",\"L0H9\",\"L0H10\",\"L0H11\",\"L1H0\",\"L1H1\",\"L1H2\",\"L1H3\",\"L1H4\",\"L1H5\",\"L1H6\",\"L1H7\",\"L1H8\",\"L1H9\",\"L1H10\",\"L1H11\",\"L2H0\",\"L2H1\",\"L2H2\",\"L2H3\",\"L2H4\",\"L2H5\",\"L2H6\",\"L2H7\",\"L2H8\",\"L2H9\",\"L2H10\",\"L2H11\",\"L3H0\",\"L3H1\",\"L3H2\",\"L3H3\",\"L3H4\",\"L3H5\",\"L3H6\",\"L3H7\",\"L3H8\",\"L3H9\",\"L3H10\",\"L3H11\",\"L4H0\",\"L4H1\",\"L4H2\",\"L4H3\",\"L4H4\",\"L4H5\",\"L4H6\",\"L4H7\",\"L4H8\",\"L4H9\",\"L4H10\",\"L4H11\",\"L5H0\",\"L5H1\",\"L5H2\",\"L5H3\",\"L5H4\",\"L5H5\",\"L5H6\",\"L5H7\",\"L5H8\",\"L5H9\",\"L5H10\",\"L5H11\",\"L6H0\",\"L6H1\",\"L6H2\",\"L6H3\",\"L6H4\",\"L6H5\",\"L6H6\",\"L6H7\",\"L6H8\",\"L6H9\",\"L6H10\",\"L6H11\",\"L7H0\",\"L7H1\",\"L7H2\",\"L7H3\",\"L7H4\",\"L7H5\",\"L7H6\",\"L7H7\",\"L7H8\",\"L7H9\",\"L7H10\",\"L7H11\",\"L8H0\",\"L8H1\",\"L8H2\",\"L8H3\",\"L8H4\",\"L8H5\",\"L8H6\",\"L8H7\",\"L8H8\",\"L8H9\",\"L8H10\",\"L8H11\",\"L9H0\",\"L9H1\",\"L9H2\",\"L9H3\",\"L9H4\",\"L9H5\",\"L9H6\",\"L9H7\",\"L9H8\",\"L9H9\",\"L9H10\",\"L9H11\",\"L10H0\",\"L10H1\",\"L10H2\",\"L10H3\",\"L10H4\",\"L10H5\",\"L10H6\",\"L10H7\",\"L10H8\",\"L10H9\",\"L10H10\",\"L10H11\",\"L11H0\",\"L11H1\",\"L11H2\",\"L11H3\",\"L11H4\",\"L11H5\",\"L11H6\",\"L11H7\",\"L11H8\",\"L11H9\",\"L11H10\",\"L11H11\"],\"legendgroup\":\"\",\"marker\":{\"color\":\"#636efa\",\"symbol\":\"circle\"},\"mode\":\"markers\",\"name\":\"\",\"orientation\":\"v\",\"showlegend\":false,\"x\":[0.020221147686243057,0.04076646268367767,0.03558884188532829,0.0048253959976136684,0.024957366287708282,-0.007088472135365009,-0.12443993240594864,0.10922057181596756,0.03205033391714096,0.055575184524059296,-0.025236904621124268,0.020291203632950783,0.0007550530135631561,-0.014737319201231003,-0.024554558098316193,0.019622521474957466,-0.05986678972840309,0.0018280120566487312,0.0899171382188797,0.0018582758493721485,-0.01961829513311386,0.011505234986543655,-0.04511275514960289,-0.009110281243920326,0.04573953151702881,0.02235827036201954,0.0322599932551384,0.0377008393406868,-0.03798897936940193,0.003466061782091856,0.054021503776311874,0.05426923185586929,0.04701157659292221,0.016987457871437073,0.05744236707687378,-0.05343896523118019,0.006353836506605148,-0.042225852608680725,-0.24046579003334045,0.06063012406229973,-0.03714974969625473,0.0063704270869493484,-0.030900754034519196,-0.040003176778554916,-0.05976790189743042,-0.07053010165691376,0.02100246399641037,-0.03693819046020508,-0.06916268914937973,-0.04766763746738434,-0.029760828241705894,0.07309339940547943,0.010081769898533821,-0.11592946946620941,-0.019194908440113068,0.0035232175141572952,0.029484277591109276,0.019293740391731262,-0.07106060534715652,0.08528950065374374,0.07063791155815125,-0.039172716438770294,0.02417067624628544,-0.13682933151721954,0.05316343903541565,0.005066215991973877,4.3764710426330566e-05,0.0037364382296800613,-0.1653049886226654,-0.002058866899460554,0.01643681712448597,0.012991270050406456,-0.06231163814663887,-0.025746628642082214,0.05797521770000458,-0.033530279994010925,-0.08227971941232681,-0.19398407638072968,0.3900860548019409,-0.12486095726490021,-0.006086645647883415,-0.004902152344584465,0.022770168259739876,-0.009105199947953224,-0.02023383229970932,0.0189838670194149,-0.09125155210494995,0.024418510496616364,0.01127505674958229,0.05610557645559311,0.021324407309293747,-0.011422182433307171,0.21008455753326416,0.06601433455944061,-0.023878715932369232,0.3044280409812927,0.004097470548003912,0.3620613217353821,0.0,0.0016961158253252506,0.08038657903671265,0.027160804718732834,-0.0417175218462944,-0.049131814390420914,0.32091638445854187,-0.10812641680240631,0.0,0.2620041072368622,0.013515446335077286,-0.005177866667509079,0.07304127514362335,0.11866967380046844,0.3298165202140808,0.002148229628801346,0.0,0.30118098855018616,0.2678828537464142,0.10690532624721527,-0.0022950556594878435,-0.003825155086815357,0.004317328799515963,0.6500676274299622,-0.05766548216342926,0.0018703199457377195,0.040129318833351135,0.15756653249263763,-0.007921959273517132,0.0,0.40858811140060425,-0.0011328421533107758,0.06560211628675461,0.21938328444957733,0.20423762500286102,0.25975894927978516,0.09834347665309906,0.015183204784989357,0.027995361015200615,0.5032586455345154,0.1976359337568283,0.09341602027416229,0.14680169522762299,0.21252800524234772,0.41151201725006104,0.11118629574775696],\"xaxis\":\"x\",\"y\":[0.01844014599919319,0.0364738330245018,0.032107044011354446,0.003577851690351963,0.022146858274936676,-0.006213785149157047,-0.11072809994220734,0.09820982813835144,0.029019661247730255,0.04979649558663368,-0.02312171459197998,0.018462516367435455,0.0004348102957010269,-0.01261545717716217,-0.02187211439013481,0.01771482080221176,-0.05438023805618286,0.0013081012293696404,0.08121002465486526,0.001761406660079956,-0.01819225773215294,0.010220235213637352,-0.04138251394033432,-0.00783531740307808,0.041002169251441956,0.019224373623728752,0.029159709811210632,0.033938538283109665,-0.03414476290345192,0.0030613725539296865,0.04920470342040062,0.04862567409873009,0.043245818465948105,0.01608584076166153,0.051386818289756775,-0.04890447109937668,0.006739657372236252,-0.03734734281897545,-0.21650370955467224,0.053227365016937256,-0.031965579837560654,0.006032237783074379,-0.027470050379633904,-0.036834966391325,-0.053065404295921326,-0.06366297602653503,0.019351685419678688,-0.03311622887849808,-0.06130316108465195,-0.0427783727645874,-0.026597576215863228,0.06579440087080002,0.008960762992501259,-0.10386206954717636,-0.017222853377461433,0.0032024094834923744,0.026417432352900505,0.01704765483736992,-0.06374742090702057,0.07778431475162506,0.06346756219863892,-0.03530063107609749,0.02115187607705593,-0.12262684106826782,0.04791483283042908,0.004663795232772827,0.0001233406364917755,0.0034008678048849106,-0.1489955335855484,-0.0019283073488622904,0.01511321309953928,0.010932410135865211,-0.056761715561151505,-0.023269692435860634,0.05234529450535774,-0.03167383000254631,-0.07431825995445251,-0.1739307940006256,0.3508076071739197,-0.11153577268123627,-0.005762999877333641,-0.004473904147744179,0.020329464226961136,-0.00849364884197712,-0.018262013792991638,0.01625528745353222,-0.08133119344711304,0.02147458679974079,0.00968343485146761,0.049981046468019485,0.01969565451145172,-0.010411754250526428,0.18687602877616882,0.05960730463266373,-0.021071255207061768,0.2730099558830261,0.0037567990366369486,0.3221367597579956,0.7598840594291687,0.0014987257309257984,0.07191638648509979,0.024439087137579918,-0.03739050403237343,-0.04585765302181244,0.283609539270401,-0.09422069787979126,3.3484582901000977,0.232211172580719,0.012749038636684418,-0.6198930740356445,0.04762302711606026,0.10217529535293579,0.29342061281204224,-0.596556544303894,0.4463837444782257,0.24470697343349457,0.18244090676307678,0.08299436420202255,-0.0019992562010884285,-0.0034909758251160383,0.004597994964569807,0.5813180208206177,-0.16531185805797577,-0.0008092271164059639,0.04794204235076904,0.1401897668838501,-0.007062213961035013,1.083420753479004,0.36342713236808777,0.010101533494889736,0.058442372828722,0.09121476113796234,0.281343936920166,0.18383878469467163,0.06189626455307007,0.013302374631166458,0.013149397447705269,0.4180866479873657,0.17829163372516632,0.0819823294878006,0.13144637644290924,0.18351833522319794,0.36885279417037964,0.1210736483335495],\"yaxis\":\"y\",\"type\":\"scatter\"}],                        {\"template\":{\"data\":{\"bar\":[{\"error_x\":{\"color\":\"#2a3f5f\"},\"error_y\":{\"color\":\"#2a3f5f\"},\"marker\":{\"line\":{\"color\":\"#E5ECF6\",\"width\":0.5},\"pattern\":{\"fillmode\":\"overlay\",\"size\":10,\"solidity\":0.2}},\"type\":\"bar\"}],\"barpolar\":[{\"marker\":{\"line\":{\"color\":\"#E5ECF6\",\"width\":0.5},\"pattern\":{\"fillmode\":\"overlay\",\"size\":10,\"solidity\":0.2}},\"type\":\"barpolar\"}],\"carpet\":[{\"aaxis\":{\"endlinecolor\":\"#2a3f5f\",\"gridcolor\":\"white\",\"linecolor\":\"white\",\"minorgridcolor\":\"white\",\"startlinecolor\":\"#2a3f5f\"},\"baxis\":{\"endlinecolor\":\"#2a3f5f\",\"gridcolor\":\"white\",\"linecolor\":\"white\",\"minorgridcolor\":\"white\",\"startlinecolor\":\"#2a3f5f\"},\"type\":\"carpet\"}],\"choropleth\":[{\"colorbar\":{\"outlinewidth\":0,\"ticks\":\"\"},\"type\":\"choropleth\"}],\"contour\":[{\"colorbar\":{\"outlinewidth\":0,\"ticks\":\"\"},\"colorscale\":[[0.0,\"#0d0887\"],[0.1111111111111111,\"#46039f\"],[0.2222222222222222,\"#7201a8\"],[0.3333333333333333,\"#9c179e\"],[0.4444444444444444,\"#bd3786\"],[0.5555555555555556,\"#d8576b\"],[0.6666666666666666,\"#ed7953\"],[0.7777777777777778,\"#fb9f3a\"],[0.8888888888888888,\"#fdca26\"],[1.0,\"#f0f921\"]],\"type\":\"contour\"}],\"contourcarpet\":[{\"colorbar\":{\"outlinewidth\":0,\"ticks\":\"\"},\"type\":\"contourcarpet\"}],\"heatmap\":[{\"colorbar\":{\"outlinewidth\":0,\"ticks\":\"\"},\"colorscale\":[[0.0,\"#0d0887\"],[0.1111111111111111,\"#46039f\"],[0.2222222222222222,\"#7201a8\"],[0.3333333333333333,\"#9c179e\"],[0.4444444444444444,\"#bd3786\"],[0.5555555555555556,\"#d8576b\"],[0.6666666666666666,\"#ed7953\"],[0.7777777777777778,\"#fb9f3a\"],[0.8888888888888888,\"#fdca26\"],[1.0,\"#f0f921\"]],\"type\":\"heatmap\"}],\"heatmapgl\":[{\"colorbar\":{\"outlinewidth\":0,\"ticks\":\"\"},\"colorscale\":[[0.0,\"#0d0887\"],[0.1111111111111111,\"#46039f\"],[0.2222222222222222,\"#7201a8\"],[0.3333333333333333,\"#9c179e\"],[0.4444444444444444,\"#bd3786\"],[0.5555555555555556,\"#d8576b\"],[0.6666666666666666,\"#ed7953\"],[0.7777777777777778,\"#fb9f3a\"],[0.8888888888888888,\"#fdca26\"],[1.0,\"#f0f921\"]],\"type\":\"heatmapgl\"}],\"histogram\":[{\"marker\":{\"pattern\":{\"fillmode\":\"overlay\",\"size\":10,\"solidity\":0.2}},\"type\":\"histogram\"}],\"histogram2d\":[{\"colorbar\":{\"outlinewidth\":0,\"ticks\":\"\"},\"colorscale\":[[0.0,\"#0d0887\"],[0.1111111111111111,\"#46039f\"],[0.2222222222222222,\"#7201a8\"],[0.3333333333333333,\"#9c179e\"],[0.4444444444444444,\"#bd3786\"],[0.5555555555555556,\"#d8576b\"],[0.6666666666666666,\"#ed7953\"],[0.7777777777777778,\"#fb9f3a\"],[0.8888888888888888,\"#fdca26\"],[1.0,\"#f0f921\"]],\"type\":\"histogram2d\"}],\"histogram2dcontour\":[{\"colorbar\":{\"outlinewidth\":0,\"ticks\":\"\"},\"colorscale\":[[0.0,\"#0d0887\"],[0.1111111111111111,\"#46039f\"],[0.2222222222222222,\"#7201a8\"],[0.3333333333333333,\"#9c179e\"],[0.4444444444444444,\"#bd3786\"],[0.5555555555555556,\"#d8576b\"],[0.6666666666666666,\"#ed7953\"],[0.7777777777777778,\"#fb9f3a\"],[0.8888888888888888,\"#fdca26\"],[1.0,\"#f0f921\"]],\"type\":\"histogram2dcontour\"}],\"mesh3d\":[{\"colorbar\":{\"outlinewidth\":0,\"ticks\":\"\"},\"type\":\"mesh3d\"}],\"parcoords\":[{\"line\":{\"colorbar\":{\"outlinewidth\":0,\"ticks\":\"\"}},\"type\":\"parcoords\"}],\"pie\":[{\"automargin\":true,\"type\":\"pie\"}],\"scatter\":[{\"marker\":{\"colorbar\":{\"outlinewidth\":0,\"ticks\":\"\"}},\"type\":\"scatter\"}],\"scatter3d\":[{\"line\":{\"colorbar\":{\"outlinewidth\":0,\"ticks\":\"\"}},\"marker\":{\"colorbar\":{\"outlinewidth\":0,\"ticks\":\"\"}},\"type\":\"scatter3d\"}],\"scattercarpet\":[{\"marker\":{\"colorbar\":{\"outlinewidth\":0,\"ticks\":\"\"}},\"type\":\"scattercarpet\"}],\"scattergeo\":[{\"marker\":{\"colorbar\":{\"outlinewidth\":0,\"ticks\":\"\"}},\"type\":\"scattergeo\"}],\"scattergl\":[{\"marker\":{\"colorbar\":{\"outlinewidth\":0,\"ticks\":\"\"}},\"type\":\"scattergl\"}],\"scattermapbox\":[{\"marker\":{\"colorbar\":{\"outlinewidth\":0,\"ticks\":\"\"}},\"type\":\"scattermapbox\"}],\"scatterpolar\":[{\"marker\":{\"colorbar\":{\"outlinewidth\":0,\"ticks\":\"\"}},\"type\":\"scatterpolar\"}],\"scatterpolargl\":[{\"marker\":{\"colorbar\":{\"outlinewidth\":0,\"ticks\":\"\"}},\"type\":\"scatterpolargl\"}],\"scatterternary\":[{\"marker\":{\"colorbar\":{\"outlinewidth\":0,\"ticks\":\"\"}},\"type\":\"scatterternary\"}],\"surface\":[{\"colorbar\":{\"outlinewidth\":0,\"ticks\":\"\"},\"colorscale\":[[0.0,\"#0d0887\"],[0.1111111111111111,\"#46039f\"],[0.2222222222222222,\"#7201a8\"],[0.3333333333333333,\"#9c179e\"],[0.4444444444444444,\"#bd3786\"],[0.5555555555555556,\"#d8576b\"],[0.6666666666666666,\"#ed7953\"],[0.7777777777777778,\"#fb9f3a\"],[0.8888888888888888,\"#fdca26\"],[1.0,\"#f0f921\"]],\"type\":\"surface\"}],\"table\":[{\"cells\":{\"fill\":{\"color\":\"#EBF0F8\"},\"line\":{\"color\":\"white\"}},\"header\":{\"fill\":{\"color\":\"#C8D4E3\"},\"line\":{\"color\":\"white\"}},\"type\":\"table\"}]},\"layout\":{\"annotationdefaults\":{\"arrowcolor\":\"#2a3f5f\",\"arrowhead\":0,\"arrowwidth\":1},\"autotypenumbers\":\"strict\",\"coloraxis\":{\"colorbar\":{\"outlinewidth\":0,\"ticks\":\"\"}},\"colorscale\":{\"diverging\":[[0,\"#8e0152\"],[0.1,\"#c51b7d\"],[0.2,\"#de77ae\"],[0.3,\"#f1b6da\"],[0.4,\"#fde0ef\"],[0.5,\"#f7f7f7\"],[0.6,\"#e6f5d0\"],[0.7,\"#b8e186\"],[0.8,\"#7fbc41\"],[0.9,\"#4d9221\"],[1,\"#276419\"]],\"sequential\":[[0.0,\"#0d0887\"],[0.1111111111111111,\"#46039f\"],[0.2222222222222222,\"#7201a8\"],[0.3333333333333333,\"#9c179e\"],[0.4444444444444444,\"#bd3786\"],[0.5555555555555556,\"#d8576b\"],[0.6666666666666666,\"#ed7953\"],[0.7777777777777778,\"#fb9f3a\"],[0.8888888888888888,\"#fdca26\"],[1.0,\"#f0f921\"]],\"sequentialminus\":[[0.0,\"#0d0887\"],[0.1111111111111111,\"#46039f\"],[0.2222222222222222,\"#7201a8\"],[0.3333333333333333,\"#9c179e\"],[0.4444444444444444,\"#bd3786\"],[0.5555555555555556,\"#d8576b\"],[0.6666666666666666,\"#ed7953\"],[0.7777777777777778,\"#fb9f3a\"],[0.8888888888888888,\"#fdca26\"],[1.0,\"#f0f921\"]]},\"colorway\":[\"#636efa\",\"#EF553B\",\"#00cc96\",\"#ab63fa\",\"#FFA15A\",\"#19d3f3\",\"#FF6692\",\"#B6E880\",\"#FF97FF\",\"#FECB52\"],\"font\":{\"color\":\"#2a3f5f\"},\"geo\":{\"bgcolor\":\"white\",\"lakecolor\":\"white\",\"landcolor\":\"#E5ECF6\",\"showlakes\":true,\"showland\":true,\"subunitcolor\":\"white\"},\"hoverlabel\":{\"align\":\"left\"},\"hovermode\":\"closest\",\"mapbox\":{\"style\":\"light\"},\"paper_bgcolor\":\"white\",\"plot_bgcolor\":\"#E5ECF6\",\"polar\":{\"angularaxis\":{\"gridcolor\":\"white\",\"linecolor\":\"white\",\"ticks\":\"\"},\"bgcolor\":\"#E5ECF6\",\"radialaxis\":{\"gridcolor\":\"white\",\"linecolor\":\"white\",\"ticks\":\"\"}},\"scene\":{\"xaxis\":{\"backgroundcolor\":\"#E5ECF6\",\"gridcolor\":\"white\",\"gridwidth\":2,\"linecolor\":\"white\",\"showbackground\":true,\"ticks\":\"\",\"zerolinecolor\":\"white\"},\"yaxis\":{\"backgroundcolor\":\"#E5ECF6\",\"gridcolor\":\"white\",\"gridwidth\":2,\"linecolor\":\"white\",\"showbackground\":true,\"ticks\":\"\",\"zerolinecolor\":\"white\"},\"zaxis\":{\"backgroundcolor\":\"#E5ECF6\",\"gridcolor\":\"white\",\"gridwidth\":2,\"linecolor\":\"white\",\"showbackground\":true,\"ticks\":\"\",\"zerolinecolor\":\"white\"}},\"shapedefaults\":{\"line\":{\"color\":\"#2a3f5f\"}},\"ternary\":{\"aaxis\":{\"gridcolor\":\"white\",\"linecolor\":\"white\",\"ticks\":\"\"},\"baxis\":{\"gridcolor\":\"white\",\"linecolor\":\"white\",\"ticks\":\"\"},\"bgcolor\":\"#E5ECF6\",\"caxis\":{\"gridcolor\":\"white\",\"linecolor\":\"white\",\"ticks\":\"\"}},\"title\":{\"x\":0.05},\"xaxis\":{\"automargin\":true,\"gridcolor\":\"white\",\"linecolor\":\"white\",\"ticks\":\"\",\"title\":{\"standoff\":15},\"zerolinecolor\":\"white\",\"zerolinewidth\":2},\"yaxis\":{\"automargin\":true,\"gridcolor\":\"white\",\"linecolor\":\"white\",\"ticks\":\"\",\"title\":{\"standoff\":15},\"zerolinecolor\":\"white\",\"zerolinewidth\":2}}},\"xaxis\":{\"anchor\":\"y\",\"domain\":[0.0,1.0],\"title\":{\"text\":\"Ablated\"},\"range\":[-3,3]},\"yaxis\":{\"anchor\":\"x\",\"domain\":[0.0,1.0],\"title\":{\"text\":\"Original\"},\"range\":[-3,3]},\"legend\":{\"tracegroupgap\":0},\"title\":{\"text\":\"Original vs Post-Ablation Direct Logit Attribution of Heads\"}},                        {\"responsive\": true}                    ).then(function(){\n",
              "                            \n",
              "var gd = document.getElementById('0c5bb811-ce41-495a-96bf-f2fb2e6e3aab');\n",
              "var x = new MutationObserver(function (mutations, observer) {{\n",
              "        var display = window.getComputedStyle(gd).display;\n",
              "        if (!display || display === 'none') {{\n",
              "            console.log([gd, 'removed!']);\n",
              "            Plotly.purge(gd);\n",
              "            observer.disconnect();\n",
              "        }}\n",
              "}});\n",
              "\n",
              "// Listen for the removal of the full notebook cells\n",
              "var notebookContainer = gd.closest('#notebook-container');\n",
              "if (notebookContainer) {{\n",
              "    x.observe(notebookContainer, {childList: true});\n",
              "}}\n",
              "\n",
              "// Listen for the clearing of the current output cell\n",
              "var outputEl = gd.closest('.output');\n",
              "if (outputEl) {{\n",
              "    x.observe(outputEl, {childList: true});\n",
              "}}\n",
              "\n",
              "                        })                };                            </script>        </div>\n",
              "</body>\n",
              "</html>"
            ]
          },
          "metadata": {},
          "output_type": "display_data"
        }
      ],
      "source": [
        "per_head_ablated_residual, labels = ablated_cache.stack_head_results(layer=-1, pos_slice=-1, return_labels=True)\n",
        "per_head_ablated_logit_diffs = residual_stack_to_logit_diff(per_head_ablated_residual, ablated_cache)\n",
        "per_head_ablated_logit_diffs = per_head_ablated_logit_diffs.reshape(model.cfg.n_layers, model.cfg.n_heads)\n",
        "imshow(per_head_ablated_logit_diffs, labels={\"x\":\"Head\", \"y\":\"Layer\"})\n",
        "l_scatter(y=per_head_logit_diffs.flatten(), x=per_head_ablated_logit_diffs.flatten(), hover_name=head_labels, range_x=(-3, 3), range_y=(-3, 3), xaxis=\"Ablated\", yaxis=\"Original\", title=\"Original vs Post-Ablation Direct Logit Attribution of Heads\")"
      ]
    },
    {
      "cell_type": "markdown",
      "metadata": {
        "id": "10nqFSgQrhvw"
      },
      "source": [
        "### Backup S2 Inhibitors"
      ]
    },
    {
      "cell_type": "code",
      "execution_count": null,
      "metadata": {
        "colab": {
          "base_uri": "https://localhost:8080/"
        },
        "id": "MjRCoH0YrllZ",
        "outputId": "a22b1400-5be5-4224-9204-bf8492acc919"
      },
      "outputs": [
        {
          "name": "stdout",
          "output_type": "stream",
          "text": [
            "Heads to ablate: [(6, 6), (7, 2), (7, 9)]\n",
            "Original IOI Metric: 1.0000\n",
            "Post ablation IOI Metric: 0.7133723497390747\n"
          ]
        }
      ],
      "source": [
        "heads_to_ablate = second_level_positive_heads\n",
        "\n",
        "print(f\"Heads to ablate: {heads_to_ablate}\")\n",
        "def ablate_top_head_hook(z: TT[\"batch\", \"pos\", \"head_index\", \"d_head\"], hook, head_idx=0):\n",
        "    z[:, -1, head_idx, :] = 0\n",
        "    return z\n",
        "# Adds a hook into global model state\n",
        "for layer, head in heads_to_ablate:\n",
        "    ablate_head_hook = partial(ablate_top_head_hook, head_idx=head)\n",
        "    model.blocks[layer].attn.hook_z.add_hook(ablate_head_hook)\n",
        "# Runs the model, temporarily adds caching hooks and then removes *all* hooks after running, including the ablation hook.\n",
        "ablated_logits, ablated_cache = model.run_with_cache(clean_tokens)\n",
        "print(f\"Original IOI Metric: {ioi_metric(clean_logits).item():.4f}\")\n",
        "print(f\"Post ablation IOI Metric: {ioi_metric(ablated_logits).item()}\")\n",
        "#print(f\"Direct Logit Attribution of top name mover head: {per_head_logit_diffs.flatten()[top_name_mover].item()}\")\n",
        "#print(f\"Naive prediction of post ablation logit diff: {original_average_logit_diff - per_head_logit_diffs.flatten()[top_name_mover].item()}\")"
      ]
    },
    {
      "cell_type": "code",
      "execution_count": null,
      "metadata": {
        "colab": {
          "base_uri": "https://localhost:8080/",
          "height": 1000
        },
        "id": "SDJti9e6g3Hc",
        "outputId": "71243085-e420-4d84-81f5-5de4ae1548d4"
      },
      "outputs": [
        {
          "name": "stdout",
          "output_type": "stream",
          "text": [
            "Tried to stack head results when they weren't cached. Computing head results now\n"
          ]
        },
        {
          "data": {
            "text/html": [
              "<html>\n",
              "<head><meta charset=\"utf-8\" /></head>\n",
              "<body>\n",
              "    <div>            <script src=\"https://cdnjs.cloudflare.com/ajax/libs/mathjax/2.7.5/MathJax.js?config=TeX-AMS-MML_SVG\"></script><script type=\"text/javascript\">if (window.MathJax) {MathJax.Hub.Config({SVG: {font: \"STIX-Web\"}});}</script>                <script type=\"text/javascript\">window.PlotlyConfig = {MathJaxConfig: 'local'};</script>\n",
              "        <script src=\"https://cdn.plot.ly/plotly-2.8.3.min.js\"></script>                <div id=\"a85142aa-b64a-4972-addb-b1a154fa8884\" class=\"plotly-graph-div\" style=\"height:525px; width:100%;\"></div>            <script type=\"text/javascript\">                                    window.PLOTLYENV=window.PLOTLYENV || {};                                    if (document.getElementById(\"a85142aa-b64a-4972-addb-b1a154fa8884\")) {                    Plotly.newPlot(                        \"a85142aa-b64a-4972-addb-b1a154fa8884\",                        [{\"coloraxis\":\"coloraxis\",\"name\":\"0\",\"z\":[[0.016409479081630707,0.03493637219071388,0.030728893354535103,0.004776289686560631,0.021499089896678925,-0.006429226137697697,-0.10702082514762878,0.09513944387435913,0.02775697037577629,0.048033274710178375,-0.021601885557174683,0.016842611134052277],[0.0006717126816511154,-0.012564499862492085,-0.021560560911893845,0.01680447906255722,-0.051961373537778854,0.001902235671877861,0.07758602499961853,0.001316276378929615,-0.01650451123714447,0.009966699406504631,-0.03914806991815567,-0.007699392735958099],[0.038706712424755096,0.019013244658708572,0.028419489040970802,0.0326288603246212,-0.03326334431767464,0.0027496772818267345,0.04685644060373306,0.04662930220365524,0.04027610272169113,0.014834001660346985,0.05001959204673767,-0.046760354191064835],[0.005339168012142181,-0.03680731728672981,-0.20868496596813202,0.05295638367533684,-0.03228362649679184,0.005773345939815044,-0.02694101817905903,-0.034535232931375504,-0.05129024386405945,-0.061457693576812744,0.017736956477165222,-0.03202641382813454],[-0.06043889373540878,-0.04142897203564644,-0.025405311957001686,0.06298629939556122,0.00813126191496849,-0.10057385265827179,-0.016532203182578087,0.0028554853051900864,0.024740111082792282,0.016319334506988525,-0.061788931488990784,0.0746517926454544],[0.06079830229282379,-0.03523680940270424,0.02071458101272583,-0.12049274146556854,0.04558036848902702,0.004231078550219536,-0.0005907714366912842,0.0031823241151869297,-0.1441987305879593,-0.0016231759218499064,0.013988836668431759,0.010932832956314087],[-0.053841304033994675,-0.022549793124198914,0.050045013427734375,-0.02965015545487404,-0.07121836394071579,-0.16932636499404907,0.0,-0.10743142664432526,-0.00474192388355732,-0.004373564384877682,0.019574714824557304,-0.00787845253944397],[-0.014310743659734726,0.00881775002926588,0.0,0.014924653805792332,0.010115482844412327,0.058343902230262756,0.00778904277831316,-0.012380426749587059,0.11794263124465942,0.0,-0.026368174701929092,0.16875573992729187],[0.003489735769107938,0.3137916624546051,0.486013799905777,0.001444464549422264,0.06312105804681778,0.018452806398272514,-0.0070612686686217785,-0.05133732780814171,0.22814251482486725,-0.0785650759935379,1.9334092140197754,0.18906812369823456],[0.015298418700695038,-0.4729599058628082,0.025474410504102707,0.10893496125936508,0.2859283983707428,-0.3194567561149597,0.227206289768219,0.23157238960266113,0.1815963089466095,0.06639496237039566,-0.002011795062571764,-0.0032339992467314005],[0.00021145562641322613,0.5650625228881836,-0.06065855920314789,0.005869193468242884,0.026542602106928825,0.1356084644794464,-0.006900391075760126,0.7977038621902466,0.3459429442882538,0.004560407716780901,0.008036239072680473,0.09649284183979034],[0.17913660407066345,0.14124175906181335,0.04433535039424896,0.013121461495757103,0.013834835961461067,0.43649351596832275,0.15851256251335144,0.022701065987348557,0.10377201437950134,0.1873791515827179,0.3567788004875183,0.10316319763660431]],\"type\":\"heatmap\",\"xaxis\":\"x\",\"yaxis\":\"y\",\"hovertemplate\":\"Head: %{x}<br>Layer: %{y}<br>color: %{z}<extra></extra>\"}],                        {\"template\":{\"data\":{\"bar\":[{\"error_x\":{\"color\":\"#2a3f5f\"},\"error_y\":{\"color\":\"#2a3f5f\"},\"marker\":{\"line\":{\"color\":\"#E5ECF6\",\"width\":0.5},\"pattern\":{\"fillmode\":\"overlay\",\"size\":10,\"solidity\":0.2}},\"type\":\"bar\"}],\"barpolar\":[{\"marker\":{\"line\":{\"color\":\"#E5ECF6\",\"width\":0.5},\"pattern\":{\"fillmode\":\"overlay\",\"size\":10,\"solidity\":0.2}},\"type\":\"barpolar\"}],\"carpet\":[{\"aaxis\":{\"endlinecolor\":\"#2a3f5f\",\"gridcolor\":\"white\",\"linecolor\":\"white\",\"minorgridcolor\":\"white\",\"startlinecolor\":\"#2a3f5f\"},\"baxis\":{\"endlinecolor\":\"#2a3f5f\",\"gridcolor\":\"white\",\"linecolor\":\"white\",\"minorgridcolor\":\"white\",\"startlinecolor\":\"#2a3f5f\"},\"type\":\"carpet\"}],\"choropleth\":[{\"colorbar\":{\"outlinewidth\":0,\"ticks\":\"\"},\"type\":\"choropleth\"}],\"contour\":[{\"colorbar\":{\"outlinewidth\":0,\"ticks\":\"\"},\"colorscale\":[[0.0,\"#0d0887\"],[0.1111111111111111,\"#46039f\"],[0.2222222222222222,\"#7201a8\"],[0.3333333333333333,\"#9c179e\"],[0.4444444444444444,\"#bd3786\"],[0.5555555555555556,\"#d8576b\"],[0.6666666666666666,\"#ed7953\"],[0.7777777777777778,\"#fb9f3a\"],[0.8888888888888888,\"#fdca26\"],[1.0,\"#f0f921\"]],\"type\":\"contour\"}],\"contourcarpet\":[{\"colorbar\":{\"outlinewidth\":0,\"ticks\":\"\"},\"type\":\"contourcarpet\"}],\"heatmap\":[{\"colorbar\":{\"outlinewidth\":0,\"ticks\":\"\"},\"colorscale\":[[0.0,\"#0d0887\"],[0.1111111111111111,\"#46039f\"],[0.2222222222222222,\"#7201a8\"],[0.3333333333333333,\"#9c179e\"],[0.4444444444444444,\"#bd3786\"],[0.5555555555555556,\"#d8576b\"],[0.6666666666666666,\"#ed7953\"],[0.7777777777777778,\"#fb9f3a\"],[0.8888888888888888,\"#fdca26\"],[1.0,\"#f0f921\"]],\"type\":\"heatmap\"}],\"heatmapgl\":[{\"colorbar\":{\"outlinewidth\":0,\"ticks\":\"\"},\"colorscale\":[[0.0,\"#0d0887\"],[0.1111111111111111,\"#46039f\"],[0.2222222222222222,\"#7201a8\"],[0.3333333333333333,\"#9c179e\"],[0.4444444444444444,\"#bd3786\"],[0.5555555555555556,\"#d8576b\"],[0.6666666666666666,\"#ed7953\"],[0.7777777777777778,\"#fb9f3a\"],[0.8888888888888888,\"#fdca26\"],[1.0,\"#f0f921\"]],\"type\":\"heatmapgl\"}],\"histogram\":[{\"marker\":{\"pattern\":{\"fillmode\":\"overlay\",\"size\":10,\"solidity\":0.2}},\"type\":\"histogram\"}],\"histogram2d\":[{\"colorbar\":{\"outlinewidth\":0,\"ticks\":\"\"},\"colorscale\":[[0.0,\"#0d0887\"],[0.1111111111111111,\"#46039f\"],[0.2222222222222222,\"#7201a8\"],[0.3333333333333333,\"#9c179e\"],[0.4444444444444444,\"#bd3786\"],[0.5555555555555556,\"#d8576b\"],[0.6666666666666666,\"#ed7953\"],[0.7777777777777778,\"#fb9f3a\"],[0.8888888888888888,\"#fdca26\"],[1.0,\"#f0f921\"]],\"type\":\"histogram2d\"}],\"histogram2dcontour\":[{\"colorbar\":{\"outlinewidth\":0,\"ticks\":\"\"},\"colorscale\":[[0.0,\"#0d0887\"],[0.1111111111111111,\"#46039f\"],[0.2222222222222222,\"#7201a8\"],[0.3333333333333333,\"#9c179e\"],[0.4444444444444444,\"#bd3786\"],[0.5555555555555556,\"#d8576b\"],[0.6666666666666666,\"#ed7953\"],[0.7777777777777778,\"#fb9f3a\"],[0.8888888888888888,\"#fdca26\"],[1.0,\"#f0f921\"]],\"type\":\"histogram2dcontour\"}],\"mesh3d\":[{\"colorbar\":{\"outlinewidth\":0,\"ticks\":\"\"},\"type\":\"mesh3d\"}],\"parcoords\":[{\"line\":{\"colorbar\":{\"outlinewidth\":0,\"ticks\":\"\"}},\"type\":\"parcoords\"}],\"pie\":[{\"automargin\":true,\"type\":\"pie\"}],\"scatter\":[{\"marker\":{\"colorbar\":{\"outlinewidth\":0,\"ticks\":\"\"}},\"type\":\"scatter\"}],\"scatter3d\":[{\"line\":{\"colorbar\":{\"outlinewidth\":0,\"ticks\":\"\"}},\"marker\":{\"colorbar\":{\"outlinewidth\":0,\"ticks\":\"\"}},\"type\":\"scatter3d\"}],\"scattercarpet\":[{\"marker\":{\"colorbar\":{\"outlinewidth\":0,\"ticks\":\"\"}},\"type\":\"scattercarpet\"}],\"scattergeo\":[{\"marker\":{\"colorbar\":{\"outlinewidth\":0,\"ticks\":\"\"}},\"type\":\"scattergeo\"}],\"scattergl\":[{\"marker\":{\"colorbar\":{\"outlinewidth\":0,\"ticks\":\"\"}},\"type\":\"scattergl\"}],\"scattermapbox\":[{\"marker\":{\"colorbar\":{\"outlinewidth\":0,\"ticks\":\"\"}},\"type\":\"scattermapbox\"}],\"scatterpolar\":[{\"marker\":{\"colorbar\":{\"outlinewidth\":0,\"ticks\":\"\"}},\"type\":\"scatterpolar\"}],\"scatterpolargl\":[{\"marker\":{\"colorbar\":{\"outlinewidth\":0,\"ticks\":\"\"}},\"type\":\"scatterpolargl\"}],\"scatterternary\":[{\"marker\":{\"colorbar\":{\"outlinewidth\":0,\"ticks\":\"\"}},\"type\":\"scatterternary\"}],\"surface\":[{\"colorbar\":{\"outlinewidth\":0,\"ticks\":\"\"},\"colorscale\":[[0.0,\"#0d0887\"],[0.1111111111111111,\"#46039f\"],[0.2222222222222222,\"#7201a8\"],[0.3333333333333333,\"#9c179e\"],[0.4444444444444444,\"#bd3786\"],[0.5555555555555556,\"#d8576b\"],[0.6666666666666666,\"#ed7953\"],[0.7777777777777778,\"#fb9f3a\"],[0.8888888888888888,\"#fdca26\"],[1.0,\"#f0f921\"]],\"type\":\"surface\"}],\"table\":[{\"cells\":{\"fill\":{\"color\":\"#EBF0F8\"},\"line\":{\"color\":\"white\"}},\"header\":{\"fill\":{\"color\":\"#C8D4E3\"},\"line\":{\"color\":\"white\"}},\"type\":\"table\"}]},\"layout\":{\"annotationdefaults\":{\"arrowcolor\":\"#2a3f5f\",\"arrowhead\":0,\"arrowwidth\":1},\"autotypenumbers\":\"strict\",\"coloraxis\":{\"colorbar\":{\"outlinewidth\":0,\"ticks\":\"\"}},\"colorscale\":{\"diverging\":[[0,\"#8e0152\"],[0.1,\"#c51b7d\"],[0.2,\"#de77ae\"],[0.3,\"#f1b6da\"],[0.4,\"#fde0ef\"],[0.5,\"#f7f7f7\"],[0.6,\"#e6f5d0\"],[0.7,\"#b8e186\"],[0.8,\"#7fbc41\"],[0.9,\"#4d9221\"],[1,\"#276419\"]],\"sequential\":[[0.0,\"#0d0887\"],[0.1111111111111111,\"#46039f\"],[0.2222222222222222,\"#7201a8\"],[0.3333333333333333,\"#9c179e\"],[0.4444444444444444,\"#bd3786\"],[0.5555555555555556,\"#d8576b\"],[0.6666666666666666,\"#ed7953\"],[0.7777777777777778,\"#fb9f3a\"],[0.8888888888888888,\"#fdca26\"],[1.0,\"#f0f921\"]],\"sequentialminus\":[[0.0,\"#0d0887\"],[0.1111111111111111,\"#46039f\"],[0.2222222222222222,\"#7201a8\"],[0.3333333333333333,\"#9c179e\"],[0.4444444444444444,\"#bd3786\"],[0.5555555555555556,\"#d8576b\"],[0.6666666666666666,\"#ed7953\"],[0.7777777777777778,\"#fb9f3a\"],[0.8888888888888888,\"#fdca26\"],[1.0,\"#f0f921\"]]},\"colorway\":[\"#636efa\",\"#EF553B\",\"#00cc96\",\"#ab63fa\",\"#FFA15A\",\"#19d3f3\",\"#FF6692\",\"#B6E880\",\"#FF97FF\",\"#FECB52\"],\"font\":{\"color\":\"#2a3f5f\"},\"geo\":{\"bgcolor\":\"white\",\"lakecolor\":\"white\",\"landcolor\":\"#E5ECF6\",\"showlakes\":true,\"showland\":true,\"subunitcolor\":\"white\"},\"hoverlabel\":{\"align\":\"left\"},\"hovermode\":\"closest\",\"mapbox\":{\"style\":\"light\"},\"paper_bgcolor\":\"white\",\"plot_bgcolor\":\"#E5ECF6\",\"polar\":{\"angularaxis\":{\"gridcolor\":\"white\",\"linecolor\":\"white\",\"ticks\":\"\"},\"bgcolor\":\"#E5ECF6\",\"radialaxis\":{\"gridcolor\":\"white\",\"linecolor\":\"white\",\"ticks\":\"\"}},\"scene\":{\"xaxis\":{\"backgroundcolor\":\"#E5ECF6\",\"gridcolor\":\"white\",\"gridwidth\":2,\"linecolor\":\"white\",\"showbackground\":true,\"ticks\":\"\",\"zerolinecolor\":\"white\"},\"yaxis\":{\"backgroundcolor\":\"#E5ECF6\",\"gridcolor\":\"white\",\"gridwidth\":2,\"linecolor\":\"white\",\"showbackground\":true,\"ticks\":\"\",\"zerolinecolor\":\"white\"},\"zaxis\":{\"backgroundcolor\":\"#E5ECF6\",\"gridcolor\":\"white\",\"gridwidth\":2,\"linecolor\":\"white\",\"showbackground\":true,\"ticks\":\"\",\"zerolinecolor\":\"white\"}},\"shapedefaults\":{\"line\":{\"color\":\"#2a3f5f\"}},\"ternary\":{\"aaxis\":{\"gridcolor\":\"white\",\"linecolor\":\"white\",\"ticks\":\"\"},\"baxis\":{\"gridcolor\":\"white\",\"linecolor\":\"white\",\"ticks\":\"\"},\"bgcolor\":\"#E5ECF6\",\"caxis\":{\"gridcolor\":\"white\",\"linecolor\":\"white\",\"ticks\":\"\"}},\"title\":{\"x\":0.05},\"xaxis\":{\"automargin\":true,\"gridcolor\":\"white\",\"linecolor\":\"white\",\"ticks\":\"\",\"title\":{\"standoff\":15},\"zerolinecolor\":\"white\",\"zerolinewidth\":2},\"yaxis\":{\"automargin\":true,\"gridcolor\":\"white\",\"linecolor\":\"white\",\"ticks\":\"\",\"title\":{\"standoff\":15},\"zerolinecolor\":\"white\",\"zerolinewidth\":2}}},\"xaxis\":{\"anchor\":\"y\",\"domain\":[0.0,1.0],\"title\":{\"text\":\"x\"}},\"yaxis\":{\"anchor\":\"x\",\"domain\":[0.0,1.0],\"autorange\":\"reversed\",\"title\":{\"text\":\"y\"}},\"coloraxis\":{\"colorscale\":[[0.0,\"rgb(103,0,31)\"],[0.1,\"rgb(178,24,43)\"],[0.2,\"rgb(214,96,77)\"],[0.3,\"rgb(244,165,130)\"],[0.4,\"rgb(253,219,199)\"],[0.5,\"rgb(247,247,247)\"],[0.6,\"rgb(209,229,240)\"],[0.7,\"rgb(146,197,222)\"],[0.8,\"rgb(67,147,195)\"],[0.9,\"rgb(33,102,172)\"],[1.0,\"rgb(5,48,97)\"]],\"cmid\":0.0},\"margin\":{\"t\":60}},                        {\"responsive\": true}                    ).then(function(){\n",
              "                            \n",
              "var gd = document.getElementById('a85142aa-b64a-4972-addb-b1a154fa8884');\n",
              "var x = new MutationObserver(function (mutations, observer) {{\n",
              "        var display = window.getComputedStyle(gd).display;\n",
              "        if (!display || display === 'none') {{\n",
              "            console.log([gd, 'removed!']);\n",
              "            Plotly.purge(gd);\n",
              "            observer.disconnect();\n",
              "        }}\n",
              "}});\n",
              "\n",
              "// Listen for the removal of the full notebook cells\n",
              "var notebookContainer = gd.closest('#notebook-container');\n",
              "if (notebookContainer) {{\n",
              "    x.observe(notebookContainer, {childList: true});\n",
              "}}\n",
              "\n",
              "// Listen for the clearing of the current output cell\n",
              "var outputEl = gd.closest('.output');\n",
              "if (outputEl) {{\n",
              "    x.observe(outputEl, {childList: true});\n",
              "}}\n",
              "\n",
              "                        })                };                            </script>        </div>\n",
              "</body>\n",
              "</html>"
            ]
          },
          "metadata": {},
          "output_type": "display_data"
        },
        {
          "data": {
            "text/html": [
              "<html>\n",
              "<head><meta charset=\"utf-8\" /></head>\n",
              "<body>\n",
              "    <div>            <script src=\"https://cdnjs.cloudflare.com/ajax/libs/mathjax/2.7.5/MathJax.js?config=TeX-AMS-MML_SVG\"></script><script type=\"text/javascript\">if (window.MathJax) {MathJax.Hub.Config({SVG: {font: \"STIX-Web\"}});}</script>                <script type=\"text/javascript\">window.PlotlyConfig = {MathJaxConfig: 'local'};</script>\n",
              "        <script src=\"https://cdn.plot.ly/plotly-2.8.3.min.js\"></script>                <div id=\"4fd2d51e-15fe-485b-99bb-6426f8aa5e85\" class=\"plotly-graph-div\" style=\"height:525px; width:100%;\"></div>            <script type=\"text/javascript\">                                    window.PLOTLYENV=window.PLOTLYENV || {};                                    if (document.getElementById(\"4fd2d51e-15fe-485b-99bb-6426f8aa5e85\")) {                    Plotly.newPlot(                        \"4fd2d51e-15fe-485b-99bb-6426f8aa5e85\",                        [{\"hovertemplate\":\"<b>%{hovertext}</b><br><br>Ablated=%{x}<br>Original=%{y}<extra></extra>\",\"hovertext\":[\"L0H0\",\"L0H1\",\"L0H2\",\"L0H3\",\"L0H4\",\"L0H5\",\"L0H6\",\"L0H7\",\"L0H8\",\"L0H9\",\"L0H10\",\"L0H11\",\"L1H0\",\"L1H1\",\"L1H2\",\"L1H3\",\"L1H4\",\"L1H5\",\"L1H6\",\"L1H7\",\"L1H8\",\"L1H9\",\"L1H10\",\"L1H11\",\"L2H0\",\"L2H1\",\"L2H2\",\"L2H3\",\"L2H4\",\"L2H5\",\"L2H6\",\"L2H7\",\"L2H8\",\"L2H9\",\"L2H10\",\"L2H11\",\"L3H0\",\"L3H1\",\"L3H2\",\"L3H3\",\"L3H4\",\"L3H5\",\"L3H6\",\"L3H7\",\"L3H8\",\"L3H9\",\"L3H10\",\"L3H11\",\"L4H0\",\"L4H1\",\"L4H2\",\"L4H3\",\"L4H4\",\"L4H5\",\"L4H6\",\"L4H7\",\"L4H8\",\"L4H9\",\"L4H10\",\"L4H11\",\"L5H0\",\"L5H1\",\"L5H2\",\"L5H3\",\"L5H4\",\"L5H5\",\"L5H6\",\"L5H7\",\"L5H8\",\"L5H9\",\"L5H10\",\"L5H11\",\"L6H0\",\"L6H1\",\"L6H2\",\"L6H3\",\"L6H4\",\"L6H5\",\"L6H6\",\"L6H7\",\"L6H8\",\"L6H9\",\"L6H10\",\"L6H11\",\"L7H0\",\"L7H1\",\"L7H2\",\"L7H3\",\"L7H4\",\"L7H5\",\"L7H6\",\"L7H7\",\"L7H8\",\"L7H9\",\"L7H10\",\"L7H11\",\"L8H0\",\"L8H1\",\"L8H2\",\"L8H3\",\"L8H4\",\"L8H5\",\"L8H6\",\"L8H7\",\"L8H8\",\"L8H9\",\"L8H10\",\"L8H11\",\"L9H0\",\"L9H1\",\"L9H2\",\"L9H3\",\"L9H4\",\"L9H5\",\"L9H6\",\"L9H7\",\"L9H8\",\"L9H9\",\"L9H10\",\"L9H11\",\"L10H0\",\"L10H1\",\"L10H2\",\"L10H3\",\"L10H4\",\"L10H5\",\"L10H6\",\"L10H7\",\"L10H8\",\"L10H9\",\"L10H10\",\"L10H11\",\"L11H0\",\"L11H1\",\"L11H2\",\"L11H3\",\"L11H4\",\"L11H5\",\"L11H6\",\"L11H7\",\"L11H8\",\"L11H9\",\"L11H10\",\"L11H11\"],\"legendgroup\":\"\",\"marker\":{\"color\":\"#636efa\",\"symbol\":\"circle\"},\"mode\":\"markers\",\"name\":\"\",\"orientation\":\"v\",\"showlegend\":false,\"x\":[0.016409479081630707,0.03493637219071388,0.030728893354535103,0.004776289686560631,0.021499089896678925,-0.006429226137697697,-0.10702082514762878,0.09513944387435913,0.02775697037577629,0.048033274710178375,-0.021601885557174683,0.016842611134052277,0.0006717126816511154,-0.012564499862492085,-0.021560560911893845,0.01680447906255722,-0.051961373537778854,0.001902235671877861,0.07758602499961853,0.001316276378929615,-0.01650451123714447,0.009966699406504631,-0.03914806991815567,-0.007699392735958099,0.038706712424755096,0.019013244658708572,0.028419489040970802,0.0326288603246212,-0.03326334431767464,0.0027496772818267345,0.04685644060373306,0.04662930220365524,0.04027610272169113,0.014834001660346985,0.05001959204673767,-0.046760354191064835,0.005339168012142181,-0.03680731728672981,-0.20868496596813202,0.05295638367533684,-0.03228362649679184,0.005773345939815044,-0.02694101817905903,-0.034535232931375504,-0.05129024386405945,-0.061457693576812744,0.017736956477165222,-0.03202641382813454,-0.06043889373540878,-0.04142897203564644,-0.025405311957001686,0.06298629939556122,0.00813126191496849,-0.10057385265827179,-0.016532203182578087,0.0028554853051900864,0.024740111082792282,0.016319334506988525,-0.061788931488990784,0.0746517926454544,0.06079830229282379,-0.03523680940270424,0.02071458101272583,-0.12049274146556854,0.04558036848902702,0.004231078550219536,-0.0005907714366912842,0.0031823241151869297,-0.1441987305879593,-0.0016231759218499064,0.013988836668431759,0.010932832956314087,-0.053841304033994675,-0.022549793124198914,0.050045013427734375,-0.02965015545487404,-0.07121836394071579,-0.16932636499404907,0.0,-0.10743142664432526,-0.00474192388355732,-0.004373564384877682,0.019574714824557304,-0.00787845253944397,-0.014310743659734726,0.00881775002926588,0.0,0.014924653805792332,0.010115482844412327,0.058343902230262756,0.00778904277831316,-0.012380426749587059,0.11794263124465942,0.0,-0.026368174701929092,0.16875573992729187,0.003489735769107938,0.3137916624546051,0.486013799905777,0.001444464549422264,0.06312105804681778,0.018452806398272514,-0.0070612686686217785,-0.05133732780814171,0.22814251482486725,-0.0785650759935379,1.9334092140197754,0.18906812369823456,0.015298418700695038,-0.4729599058628082,0.025474410504102707,0.10893496125936508,0.2859283983707428,-0.3194567561149597,0.227206289768219,0.23157238960266113,0.1815963089466095,0.06639496237039566,-0.002011795062571764,-0.0032339992467314005,0.00021145562641322613,0.5650625228881836,-0.06065855920314789,0.005869193468242884,0.026542602106928825,0.1356084644794464,-0.006900391075760126,0.7977038621902466,0.3459429442882538,0.004560407716780901,0.008036239072680473,0.09649284183979034,0.17913660407066345,0.14124175906181335,0.04433535039424896,0.013121461495757103,0.013834835961461067,0.43649351596832275,0.15851256251335144,0.022701065987348557,0.10377201437950134,0.1873791515827179,0.3567788004875183,0.10316319763660431],\"xaxis\":\"x\",\"y\":[0.01844014599919319,0.0364738330245018,0.032107044011354446,0.003577851690351963,0.022146858274936676,-0.006213785149157047,-0.11072809994220734,0.09820982813835144,0.029019661247730255,0.04979649558663368,-0.02312171459197998,0.018462516367435455,0.0004348102957010269,-0.01261545717716217,-0.02187211439013481,0.01771482080221176,-0.05438023805618286,0.0013081012293696404,0.08121002465486526,0.001761406660079956,-0.01819225773215294,0.010220235213637352,-0.04138251394033432,-0.00783531740307808,0.041002169251441956,0.019224373623728752,0.029159709811210632,0.033938538283109665,-0.03414476290345192,0.0030613725539296865,0.04920470342040062,0.04862567409873009,0.043245818465948105,0.01608584076166153,0.051386818289756775,-0.04890447109937668,0.006739657372236252,-0.03734734281897545,-0.21650370955467224,0.053227365016937256,-0.031965579837560654,0.006032237783074379,-0.027470050379633904,-0.036834966391325,-0.053065404295921326,-0.06366297602653503,0.019351685419678688,-0.03311622887849808,-0.06130316108465195,-0.0427783727645874,-0.026597576215863228,0.06579440087080002,0.008960762992501259,-0.10386206954717636,-0.017222853377461433,0.0032024094834923744,0.026417432352900505,0.01704765483736992,-0.06374742090702057,0.07778431475162506,0.06346756219863892,-0.03530063107609749,0.02115187607705593,-0.12262684106826782,0.04791483283042908,0.004663795232772827,0.0001233406364917755,0.0034008678048849106,-0.1489955335855484,-0.0019283073488622904,0.01511321309953928,0.010932410135865211,-0.056761715561151505,-0.023269692435860634,0.05234529450535774,-0.03167383000254631,-0.07431825995445251,-0.1739307940006256,0.3508076071739197,-0.11153577268123627,-0.005762999877333641,-0.004473904147744179,0.020329464226961136,-0.00849364884197712,-0.018262013792991638,0.01625528745353222,-0.08133119344711304,0.02147458679974079,0.00968343485146761,0.049981046468019485,0.01969565451145172,-0.010411754250526428,0.18687602877616882,0.05960730463266373,-0.021071255207061768,0.2730099558830261,0.0037567990366369486,0.3221367597579956,0.7598840594291687,0.0014987257309257984,0.07191638648509979,0.024439087137579918,-0.03739050403237343,-0.04585765302181244,0.283609539270401,-0.09422069787979126,3.3484582901000977,0.232211172580719,0.012749038636684418,-0.6198930740356445,0.04762302711606026,0.10217529535293579,0.29342061281204224,-0.596556544303894,0.4463837444782257,0.24470697343349457,0.18244090676307678,0.08299436420202255,-0.0019992562010884285,-0.0034909758251160383,0.004597994964569807,0.5813180208206177,-0.16531185805797577,-0.0008092271164059639,0.04794204235076904,0.1401897668838501,-0.007062213961035013,1.083420753479004,0.36342713236808777,0.010101533494889736,0.058442372828722,0.09121476113796234,0.281343936920166,0.18383878469467163,0.06189626455307007,0.013302374631166458,0.013149397447705269,0.4180866479873657,0.17829163372516632,0.0819823294878006,0.13144637644290924,0.18351833522319794,0.36885279417037964,0.1210736483335495],\"yaxis\":\"y\",\"type\":\"scatter\"}],                        {\"template\":{\"data\":{\"bar\":[{\"error_x\":{\"color\":\"#2a3f5f\"},\"error_y\":{\"color\":\"#2a3f5f\"},\"marker\":{\"line\":{\"color\":\"#E5ECF6\",\"width\":0.5},\"pattern\":{\"fillmode\":\"overlay\",\"size\":10,\"solidity\":0.2}},\"type\":\"bar\"}],\"barpolar\":[{\"marker\":{\"line\":{\"color\":\"#E5ECF6\",\"width\":0.5},\"pattern\":{\"fillmode\":\"overlay\",\"size\":10,\"solidity\":0.2}},\"type\":\"barpolar\"}],\"carpet\":[{\"aaxis\":{\"endlinecolor\":\"#2a3f5f\",\"gridcolor\":\"white\",\"linecolor\":\"white\",\"minorgridcolor\":\"white\",\"startlinecolor\":\"#2a3f5f\"},\"baxis\":{\"endlinecolor\":\"#2a3f5f\",\"gridcolor\":\"white\",\"linecolor\":\"white\",\"minorgridcolor\":\"white\",\"startlinecolor\":\"#2a3f5f\"},\"type\":\"carpet\"}],\"choropleth\":[{\"colorbar\":{\"outlinewidth\":0,\"ticks\":\"\"},\"type\":\"choropleth\"}],\"contour\":[{\"colorbar\":{\"outlinewidth\":0,\"ticks\":\"\"},\"colorscale\":[[0.0,\"#0d0887\"],[0.1111111111111111,\"#46039f\"],[0.2222222222222222,\"#7201a8\"],[0.3333333333333333,\"#9c179e\"],[0.4444444444444444,\"#bd3786\"],[0.5555555555555556,\"#d8576b\"],[0.6666666666666666,\"#ed7953\"],[0.7777777777777778,\"#fb9f3a\"],[0.8888888888888888,\"#fdca26\"],[1.0,\"#f0f921\"]],\"type\":\"contour\"}],\"contourcarpet\":[{\"colorbar\":{\"outlinewidth\":0,\"ticks\":\"\"},\"type\":\"contourcarpet\"}],\"heatmap\":[{\"colorbar\":{\"outlinewidth\":0,\"ticks\":\"\"},\"colorscale\":[[0.0,\"#0d0887\"],[0.1111111111111111,\"#46039f\"],[0.2222222222222222,\"#7201a8\"],[0.3333333333333333,\"#9c179e\"],[0.4444444444444444,\"#bd3786\"],[0.5555555555555556,\"#d8576b\"],[0.6666666666666666,\"#ed7953\"],[0.7777777777777778,\"#fb9f3a\"],[0.8888888888888888,\"#fdca26\"],[1.0,\"#f0f921\"]],\"type\":\"heatmap\"}],\"heatmapgl\":[{\"colorbar\":{\"outlinewidth\":0,\"ticks\":\"\"},\"colorscale\":[[0.0,\"#0d0887\"],[0.1111111111111111,\"#46039f\"],[0.2222222222222222,\"#7201a8\"],[0.3333333333333333,\"#9c179e\"],[0.4444444444444444,\"#bd3786\"],[0.5555555555555556,\"#d8576b\"],[0.6666666666666666,\"#ed7953\"],[0.7777777777777778,\"#fb9f3a\"],[0.8888888888888888,\"#fdca26\"],[1.0,\"#f0f921\"]],\"type\":\"heatmapgl\"}],\"histogram\":[{\"marker\":{\"pattern\":{\"fillmode\":\"overlay\",\"size\":10,\"solidity\":0.2}},\"type\":\"histogram\"}],\"histogram2d\":[{\"colorbar\":{\"outlinewidth\":0,\"ticks\":\"\"},\"colorscale\":[[0.0,\"#0d0887\"],[0.1111111111111111,\"#46039f\"],[0.2222222222222222,\"#7201a8\"],[0.3333333333333333,\"#9c179e\"],[0.4444444444444444,\"#bd3786\"],[0.5555555555555556,\"#d8576b\"],[0.6666666666666666,\"#ed7953\"],[0.7777777777777778,\"#fb9f3a\"],[0.8888888888888888,\"#fdca26\"],[1.0,\"#f0f921\"]],\"type\":\"histogram2d\"}],\"histogram2dcontour\":[{\"colorbar\":{\"outlinewidth\":0,\"ticks\":\"\"},\"colorscale\":[[0.0,\"#0d0887\"],[0.1111111111111111,\"#46039f\"],[0.2222222222222222,\"#7201a8\"],[0.3333333333333333,\"#9c179e\"],[0.4444444444444444,\"#bd3786\"],[0.5555555555555556,\"#d8576b\"],[0.6666666666666666,\"#ed7953\"],[0.7777777777777778,\"#fb9f3a\"],[0.8888888888888888,\"#fdca26\"],[1.0,\"#f0f921\"]],\"type\":\"histogram2dcontour\"}],\"mesh3d\":[{\"colorbar\":{\"outlinewidth\":0,\"ticks\":\"\"},\"type\":\"mesh3d\"}],\"parcoords\":[{\"line\":{\"colorbar\":{\"outlinewidth\":0,\"ticks\":\"\"}},\"type\":\"parcoords\"}],\"pie\":[{\"automargin\":true,\"type\":\"pie\"}],\"scatter\":[{\"marker\":{\"colorbar\":{\"outlinewidth\":0,\"ticks\":\"\"}},\"type\":\"scatter\"}],\"scatter3d\":[{\"line\":{\"colorbar\":{\"outlinewidth\":0,\"ticks\":\"\"}},\"marker\":{\"colorbar\":{\"outlinewidth\":0,\"ticks\":\"\"}},\"type\":\"scatter3d\"}],\"scattercarpet\":[{\"marker\":{\"colorbar\":{\"outlinewidth\":0,\"ticks\":\"\"}},\"type\":\"scattercarpet\"}],\"scattergeo\":[{\"marker\":{\"colorbar\":{\"outlinewidth\":0,\"ticks\":\"\"}},\"type\":\"scattergeo\"}],\"scattergl\":[{\"marker\":{\"colorbar\":{\"outlinewidth\":0,\"ticks\":\"\"}},\"type\":\"scattergl\"}],\"scattermapbox\":[{\"marker\":{\"colorbar\":{\"outlinewidth\":0,\"ticks\":\"\"}},\"type\":\"scattermapbox\"}],\"scatterpolar\":[{\"marker\":{\"colorbar\":{\"outlinewidth\":0,\"ticks\":\"\"}},\"type\":\"scatterpolar\"}],\"scatterpolargl\":[{\"marker\":{\"colorbar\":{\"outlinewidth\":0,\"ticks\":\"\"}},\"type\":\"scatterpolargl\"}],\"scatterternary\":[{\"marker\":{\"colorbar\":{\"outlinewidth\":0,\"ticks\":\"\"}},\"type\":\"scatterternary\"}],\"surface\":[{\"colorbar\":{\"outlinewidth\":0,\"ticks\":\"\"},\"colorscale\":[[0.0,\"#0d0887\"],[0.1111111111111111,\"#46039f\"],[0.2222222222222222,\"#7201a8\"],[0.3333333333333333,\"#9c179e\"],[0.4444444444444444,\"#bd3786\"],[0.5555555555555556,\"#d8576b\"],[0.6666666666666666,\"#ed7953\"],[0.7777777777777778,\"#fb9f3a\"],[0.8888888888888888,\"#fdca26\"],[1.0,\"#f0f921\"]],\"type\":\"surface\"}],\"table\":[{\"cells\":{\"fill\":{\"color\":\"#EBF0F8\"},\"line\":{\"color\":\"white\"}},\"header\":{\"fill\":{\"color\":\"#C8D4E3\"},\"line\":{\"color\":\"white\"}},\"type\":\"table\"}]},\"layout\":{\"annotationdefaults\":{\"arrowcolor\":\"#2a3f5f\",\"arrowhead\":0,\"arrowwidth\":1},\"autotypenumbers\":\"strict\",\"coloraxis\":{\"colorbar\":{\"outlinewidth\":0,\"ticks\":\"\"}},\"colorscale\":{\"diverging\":[[0,\"#8e0152\"],[0.1,\"#c51b7d\"],[0.2,\"#de77ae\"],[0.3,\"#f1b6da\"],[0.4,\"#fde0ef\"],[0.5,\"#f7f7f7\"],[0.6,\"#e6f5d0\"],[0.7,\"#b8e186\"],[0.8,\"#7fbc41\"],[0.9,\"#4d9221\"],[1,\"#276419\"]],\"sequential\":[[0.0,\"#0d0887\"],[0.1111111111111111,\"#46039f\"],[0.2222222222222222,\"#7201a8\"],[0.3333333333333333,\"#9c179e\"],[0.4444444444444444,\"#bd3786\"],[0.5555555555555556,\"#d8576b\"],[0.6666666666666666,\"#ed7953\"],[0.7777777777777778,\"#fb9f3a\"],[0.8888888888888888,\"#fdca26\"],[1.0,\"#f0f921\"]],\"sequentialminus\":[[0.0,\"#0d0887\"],[0.1111111111111111,\"#46039f\"],[0.2222222222222222,\"#7201a8\"],[0.3333333333333333,\"#9c179e\"],[0.4444444444444444,\"#bd3786\"],[0.5555555555555556,\"#d8576b\"],[0.6666666666666666,\"#ed7953\"],[0.7777777777777778,\"#fb9f3a\"],[0.8888888888888888,\"#fdca26\"],[1.0,\"#f0f921\"]]},\"colorway\":[\"#636efa\",\"#EF553B\",\"#00cc96\",\"#ab63fa\",\"#FFA15A\",\"#19d3f3\",\"#FF6692\",\"#B6E880\",\"#FF97FF\",\"#FECB52\"],\"font\":{\"color\":\"#2a3f5f\"},\"geo\":{\"bgcolor\":\"white\",\"lakecolor\":\"white\",\"landcolor\":\"#E5ECF6\",\"showlakes\":true,\"showland\":true,\"subunitcolor\":\"white\"},\"hoverlabel\":{\"align\":\"left\"},\"hovermode\":\"closest\",\"mapbox\":{\"style\":\"light\"},\"paper_bgcolor\":\"white\",\"plot_bgcolor\":\"#E5ECF6\",\"polar\":{\"angularaxis\":{\"gridcolor\":\"white\",\"linecolor\":\"white\",\"ticks\":\"\"},\"bgcolor\":\"#E5ECF6\",\"radialaxis\":{\"gridcolor\":\"white\",\"linecolor\":\"white\",\"ticks\":\"\"}},\"scene\":{\"xaxis\":{\"backgroundcolor\":\"#E5ECF6\",\"gridcolor\":\"white\",\"gridwidth\":2,\"linecolor\":\"white\",\"showbackground\":true,\"ticks\":\"\",\"zerolinecolor\":\"white\"},\"yaxis\":{\"backgroundcolor\":\"#E5ECF6\",\"gridcolor\":\"white\",\"gridwidth\":2,\"linecolor\":\"white\",\"showbackground\":true,\"ticks\":\"\",\"zerolinecolor\":\"white\"},\"zaxis\":{\"backgroundcolor\":\"#E5ECF6\",\"gridcolor\":\"white\",\"gridwidth\":2,\"linecolor\":\"white\",\"showbackground\":true,\"ticks\":\"\",\"zerolinecolor\":\"white\"}},\"shapedefaults\":{\"line\":{\"color\":\"#2a3f5f\"}},\"ternary\":{\"aaxis\":{\"gridcolor\":\"white\",\"linecolor\":\"white\",\"ticks\":\"\"},\"baxis\":{\"gridcolor\":\"white\",\"linecolor\":\"white\",\"ticks\":\"\"},\"bgcolor\":\"#E5ECF6\",\"caxis\":{\"gridcolor\":\"white\",\"linecolor\":\"white\",\"ticks\":\"\"}},\"title\":{\"x\":0.05},\"xaxis\":{\"automargin\":true,\"gridcolor\":\"white\",\"linecolor\":\"white\",\"ticks\":\"\",\"title\":{\"standoff\":15},\"zerolinecolor\":\"white\",\"zerolinewidth\":2},\"yaxis\":{\"automargin\":true,\"gridcolor\":\"white\",\"linecolor\":\"white\",\"ticks\":\"\",\"title\":{\"standoff\":15},\"zerolinecolor\":\"white\",\"zerolinewidth\":2}}},\"xaxis\":{\"anchor\":\"y\",\"domain\":[0.0,1.0],\"title\":{\"text\":\"Ablated\"},\"range\":[-3,3]},\"yaxis\":{\"anchor\":\"x\",\"domain\":[0.0,1.0],\"title\":{\"text\":\"Original\"},\"range\":[-3,3]},\"legend\":{\"tracegroupgap\":0},\"title\":{\"text\":\"Original vs Post-Ablation Direct Logit Attribution of Heads\"}},                        {\"responsive\": true}                    ).then(function(){\n",
              "                            \n",
              "var gd = document.getElementById('4fd2d51e-15fe-485b-99bb-6426f8aa5e85');\n",
              "var x = new MutationObserver(function (mutations, observer) {{\n",
              "        var display = window.getComputedStyle(gd).display;\n",
              "        if (!display || display === 'none') {{\n",
              "            console.log([gd, 'removed!']);\n",
              "            Plotly.purge(gd);\n",
              "            observer.disconnect();\n",
              "        }}\n",
              "}});\n",
              "\n",
              "// Listen for the removal of the full notebook cells\n",
              "var notebookContainer = gd.closest('#notebook-container');\n",
              "if (notebookContainer) {{\n",
              "    x.observe(notebookContainer, {childList: true});\n",
              "}}\n",
              "\n",
              "// Listen for the clearing of the current output cell\n",
              "var outputEl = gd.closest('.output');\n",
              "if (outputEl) {{\n",
              "    x.observe(outputEl, {childList: true});\n",
              "}}\n",
              "\n",
              "                        })                };                            </script>        </div>\n",
              "</body>\n",
              "</html>"
            ]
          },
          "metadata": {},
          "output_type": "display_data"
        }
      ],
      "source": [
        "per_head_ablated_residual, labels = ablated_cache.stack_head_results(layer=-1, pos_slice=-1, return_labels=True)\n",
        "per_head_ablated_logit_diffs = residual_stack_to_logit_diff(per_head_ablated_residual, ablated_cache)\n",
        "per_head_ablated_logit_diffs = per_head_ablated_logit_diffs.reshape(model.cfg.n_layers, model.cfg.n_heads)\n",
        "imshow(per_head_ablated_logit_diffs, labels={\"x\":\"Head\", \"y\":\"Layer\"})\n",
        "l_scatter(y=per_head_logit_diffs.flatten(), x=per_head_ablated_logit_diffs.flatten(), hover_name=head_labels, range_x=(-3, 3), range_y=(-3, 3), xaxis=\"Ablated\", yaxis=\"Original\", title=\"Original vs Post-Ablation Direct Logit Attribution of Heads\")"
      ]
    },
    {
      "cell_type": "markdown",
      "metadata": {
        "id": "fvgTSZOhg4HF"
      },
      "source": [
        "### Alternate, still in development"
      ]
    },
    {
      "cell_type": "code",
      "execution_count": null,
      "metadata": {
        "id": "JpgtChRdwFOH"
      },
      "outputs": [],
      "source": [
        "def get_patched_layer_output(layer, head_idx, orig_cache, patch_cache):\n",
        "    \"\"\"Patches the target head at the z tensor, and then recomputes and returns attn_out.\n",
        "        The original IOI paper recomputed the entire model, but we can use this shortcut\n",
        "        to only compute the relevant parts.\n",
        "\n",
        "    Args:\n",
        "      layer (int): Layer to be patched.\n",
        "      head (int): Index of head to be patched.\n",
        "      orig_cache\n",
        "      patch_cache\n",
        "\n",
        "    Returns:\n",
        "      torch.Tensor: attn_out, the tensor that would be added to the residual stream.\n",
        "    \"\"\"\n",
        "    layer_z_cache_name = f'blocks.{layer}.attn.hook_z'\n",
        "    layer_z_patched = orig_cache[layer_z_cache_name]\n",
        "    head_z_source = patch_cache[layer_z_cache_name][:, :, head_idx, :]\n",
        "    layer_z_patched[:, :, head_idx, :] = head_z_source\n",
        "\n",
        "    patched_attn_out = einsum(\n",
        "        \"batch query_pos n_heads d_head, n_heads d_head d_model -> batch query_pos d_model\", \n",
        "        layer_z_patched, \n",
        "        model.blocks[layer].attn.W_O) + model.blocks[layer].attn.b_O\n",
        "\n",
        "    return patched_attn_out\n",
        "\n",
        "\n",
        "def get_path_patching_hook(\n",
        "    receiver_weights,\n",
        "    receiver_bias,\n",
        "    sender_layer,\n",
        "    sender_head,\n",
        "    receiver_layer,\n",
        "    receiver_head,\n",
        "    #positions,\n",
        "    orig_cache,\n",
        "    patch_cache\n",
        "):\n",
        "    \"\"\"Gets the patching hook for a given sender and receiver.\n",
        "    \"\"\"\n",
        "    def patch_path(\n",
        "        destination_head_component,\n",
        "        hook,\n",
        "        receiver_weights,\n",
        "        receiver_bias,\n",
        "        sender_layer,\n",
        "        sender_head,\n",
        "        receiver_layer,\n",
        "        receiver_head,\n",
        "        orig_cache,\n",
        "        patch_cache\n",
        "    ):\n",
        "        patched_attn_output = get_patched_layer_output(sender_layer, sender_head, orig_cache, patch_cache)\n",
        "        orig_attn_output_name = f'blocks.{sender_layer}.hook_attn_out'\n",
        "        orig_receiver_ln1_scale_name = f'blocks.{receiver_layer}.ln1.hook_scale'\n",
        "\n",
        "        outputs_diff = patched_attn_output - orig_cache[orig_attn_output_name]\n",
        "        #print(f\"{outputs_diff.shape=}\")\n",
        "        #print(f\"{receiver_weights[receiver_head, :, :].shape=}\")\n",
        "        #print(f\"{destination_head_component[:, :, receiver_head, :].shape=}\")\n",
        "\n",
        "        destination_head_component[:, :, receiver_head, :] = (destination_head_component[:, :, receiver_head, :] \n",
        "                                                              + ((outputs_diff) @ receiver_weights[receiver_head, :, :] \n",
        "                                                                 + receiver_bias[receiver_head]) / orig_cache[orig_receiver_ln1_scale_name])\n",
        "    \n",
        "    return partial(\n",
        "        patch_path, \n",
        "        receiver_weights=receiver_weights, \n",
        "        receiver_bias=receiver_bias, \n",
        "        sender_layer=sender_layer, \n",
        "        sender_head=sender_head, \n",
        "        receiver_layer=receiver_layer, \n",
        "        receiver_head=receiver_head, \n",
        "        orig_cache=orig_cache, \n",
        "        patch_cache=patch_cache)\n",
        "  \n",
        "\n",
        "def run_path_patching_experiment(\n",
        "    model,\n",
        "    orig_tokens,\n",
        "    patch_tokens,\n",
        "    receiver_heads,\n",
        "    param_module_type,\n",
        "    metric_fn,\n",
        "    average=True\n",
        "):  \n",
        "    \"\"\"For each receiver head, tests the effect of each previous head on the given metric.\n",
        "    \"\"\"\n",
        "    results = torch.zeros(model.cfg.n_layers, model.cfg.n_heads, len(receiver_heads), device=\"cuda\", dtype=torch.float32)\n",
        "\n",
        "    orig_logits, orig_cache = model.run_with_cache(orig_tokens)\n",
        "    patch_logits, patch_cache = model.run_with_cache(patch_tokens)\n",
        "    \n",
        "    for i, receiver_head in enumerate(receiver_heads):\n",
        "        receiver_layer, receiver_head_idx = receiver_head\n",
        "        for layer in range(0, receiver_layer):\n",
        "            for head_idx in range(12): # TODO: replace magic number\n",
        "                \n",
        "                # Get receiver parameters\n",
        "                if param_module_type==\"query\":\n",
        "                    receiver_weights = model.blocks[receiver_layer].attn.W_Q\n",
        "                    receiver_bias = model.blocks[receiver_layer].attn.b_Q\n",
        "                elif param_module_type==\"key\":\n",
        "                    receiver_weights = model.blocks[receiver_layer].attn.W_K\n",
        "                    receiver_bias = model.blocks[receiver_layer].attn.b_K\n",
        "                elif param_module_type==\"value\":\n",
        "                    receiver_weights = model.blocks[receiver_layer].attn.W_V\n",
        "                    receiver_bias = model.blocks[receiver_layer].attn.b_V\n",
        "                else:\n",
        "                    raise Exception(\"wrong receiver type!\")\n",
        "                \n",
        "                # Get patching hook\n",
        "                patching_hook = get_path_patching_hook(\n",
        "                    receiver_weights=receiver_weights,\n",
        "                    receiver_bias=receiver_bias,\n",
        "                    sender_layer=layer,\n",
        "                    sender_head=head_idx,\n",
        "                    receiver_layer=receiver_layer,\n",
        "                    receiver_head=receiver_head_idx,\n",
        "                    orig_cache=orig_cache,\n",
        "                    patch_cache=patch_cache\n",
        "                )\n",
        "\n",
        "                # Run one iteration of the experiment\n",
        "                patched_logits = model.run_with_hooks(\n",
        "                    orig_tokens,\n",
        "                    fwd_hooks = [(utils.get_act_name(\"q\", receiver_layer, \"attn\"), \n",
        "                                  patching_hook)],\n",
        "                    return_type = \"logits\"\n",
        "                )\n",
        "                patched_metric_results = metric_fn(patched_logits, answer_token_indices)\n",
        "\n",
        "                # Save results\n",
        "                #print(f\"Effect of layer {layer} head {head_idx} on head {receiver_head}\")\n",
        "                results[layer, head_idx, i] = patched_metric_results\n",
        "    if average:\n",
        "        return results.mean(dim=2)\n",
        "    else:\n",
        "        return results\n"
      ]
    },
    {
      "cell_type": "code",
      "execution_count": null,
      "metadata": {
        "colab": {
          "base_uri": "https://localhost:8080/"
        },
        "id": "R39ML9O9hJlB",
        "outputId": "12609f1f-9e40-4a1b-9d1a-9920a15769c1"
      },
      "outputs": [
        {
          "data": {
            "text/plain": [
              "tensor(-4.3018, device='cuda:0')"
            ]
          },
          "execution_count": 83,
          "metadata": {},
          "output_type": "execute_result"
        }
      ],
      "source": [
        "path_patched_logits = model.run_with_hooks(corrupted_tokens, fwd_hooks=pass_d_hooks)\n",
        "get_logit_diff(path_patched_logits)"
      ]
    },
    {
      "cell_type": "code",
      "execution_count": null,
      "metadata": {
        "colab": {
          "base_uri": "https://localhost:8080/"
        },
        "id": "OkkzvH9I8Dsl",
        "outputId": "1a784d7f-31d4-4c21-db17-f938464b3466"
      },
      "outputs": [
        {
          "data": {
            "text/plain": [
              "tensor(-4.3018, device='cuda:0')"
            ]
          },
          "execution_count": 86,
          "metadata": {},
          "output_type": "execute_result"
        }
      ],
      "source": [
        "get_logit_diff(model(corrupted_tokens))"
      ]
    },
    {
      "cell_type": "code",
      "execution_count": null,
      "metadata": {
        "id": "yJXj_olNkTu8"
      },
      "outputs": [],
      "source": [
        "res = run_path_patching_experiment(\n",
        "    model=model,\n",
        "    orig_tokens=corrupted_tokens,\n",
        "    patch_tokens=clean_tokens,\n",
        "    receiver_heads=[(8,9), (8,10)],\n",
        "    param_module_type=\"value\",\n",
        "    metric_fn=ioi_metric,\n",
        ")"
      ]
    },
    {
      "cell_type": "code",
      "execution_count": null,
      "metadata": {
        "colab": {
          "base_uri": "https://localhost:8080/",
          "height": 542
        },
        "id": "pSAB-teumWdR",
        "outputId": "14b55cca-2a62-446b-b44d-0e2497883393"
      },
      "outputs": [
        {
          "data": {
            "text/html": [
              "<html>\n",
              "<head><meta charset=\"utf-8\" /></head>\n",
              "<body>\n",
              "    <div>            <script src=\"https://cdnjs.cloudflare.com/ajax/libs/mathjax/2.7.5/MathJax.js?config=TeX-AMS-MML_SVG\"></script><script type=\"text/javascript\">if (window.MathJax) {MathJax.Hub.Config({SVG: {font: \"STIX-Web\"}});}</script>                <script type=\"text/javascript\">window.PlotlyConfig = {MathJaxConfig: 'local'};</script>\n",
              "        <script src=\"https://cdn.plot.ly/plotly-2.8.3.min.js\"></script>                <div id=\"8d04b1d5-de3f-4584-9ab8-f026fb55bbad\" class=\"plotly-graph-div\" style=\"height:525px; width:100%;\"></div>            <script type=\"text/javascript\">                                    window.PLOTLYENV=window.PLOTLYENV || {};                                    if (document.getElementById(\"8d04b1d5-de3f-4584-9ab8-f026fb55bbad\")) {                    Plotly.newPlot(                        \"8d04b1d5-de3f-4584-9ab8-f026fb55bbad\",                        [{\"coloraxis\":\"coloraxis\",\"name\":\"0\",\"z\":[[-3.777067831833847e-05,-4.0043018088908866e-05,-3.2893469324335456e-05,-2.7184913051314652e-05,-3.757670128834434e-05,-3.2311527320416644e-05,-3.3613963751122355e-05,-3.4666998544707894e-05,-2.7517449780134484e-05,-3.5165805456927046e-05,-1.8622082279762253e-05,-2.167033926525619e-05],[3.6024857763550244e-06,2.4663172553118784e-06,2.1337800717446953e-06,-9.144771411229158e-07,-7.509797342208913e-06,8.313429589179577e-07,-6.733877398801269e-06,3.020546046172967e-06,-1.4132829164736904e-06,4.1012917790794745e-06,-8.3134284523112e-07,2.4940286493801977e-06],[-0.00010208891035290435,-9.37477670959197e-05,-9.383090218761936e-05,-9.455139661440626e-05,-9.94563233689405e-05,-8.709702524356544e-05,-9.385861631017178e-05,-0.00010707696492318064,-0.00010461064812261611,-0.00010314194514648989,-9.88743850030005e-05,-8.859344234224409e-05],[0.0001524128601886332,0.00015748405712656677,0.0001538261421956122,0.00015643102233298123,0.0001583985285833478,0.00015507315401919186,0.0001482561492593959,0.00015390927728731185,0.00015410325431730598,0.00015792743943165988,0.00014845012628939003,0.00013750411744695157],[6.057718564989045e-05,5.456380677060224e-05,6.481703167082742e-05,6.337604281725362e-05,5.780604260507971e-05,5.8554251154419035e-05,6.42073864582926e-05,5.617106944555417e-05,5.9524150856304914e-05,5.800002327305265e-05,5.1321567298145965e-05,5.528430119738914e-05],[0.00021684193052351475,0.0002163431199733168,0.00021941908926237375,0.00021637084137182683,0.00022213481133803725,0.00022573729802388698,0.00022279989207163453,0.00022152515884954482,0.00021753471810370684,0.00022127576812636107,0.00022268905013334006,0.00024136654974427074],[0.0005023250705562532,0.0004989166045561433,0.0004929586430080235,0.0005006624269299209,0.0005073131760582328,0.0005066758021712303,0.0005016600480303168,0.0005083662108518183,0.0005104445735923946,0.0005045697325840592,0.0005039323586970568,0.0004990274319425225],[-0.0006856916006654501,-0.0006778492825105786,-0.0006792625645175576,-0.0006781264091841877,-0.0006818674155510962,-0.0006812023930251598,-0.0006842506118118763,-0.0006875205435790122,-0.0006865229806862772,-0.0006825602031312883,-0.0006962219486013055,-0.0006907074130140245],[0.0,0.0,0.0,0.0,0.0,0.0,0.0,0.0,0.0,0.0,0.0,0.0],[0.0,0.0,0.0,0.0,0.0,0.0,0.0,0.0,0.0,0.0,0.0,0.0],[0.0,0.0,0.0,0.0,0.0,0.0,0.0,0.0,0.0,0.0,0.0,0.0],[0.0,0.0,0.0,0.0,0.0,0.0,0.0,0.0,0.0,0.0,0.0,0.0]],\"type\":\"heatmap\",\"xaxis\":\"x\",\"yaxis\":\"y\",\"hovertemplate\":\"x: %{x}<br>y: %{y}<br>color: %{z}<extra></extra>\"}],                        {\"template\":{\"data\":{\"bar\":[{\"error_x\":{\"color\":\"#2a3f5f\"},\"error_y\":{\"color\":\"#2a3f5f\"},\"marker\":{\"line\":{\"color\":\"#E5ECF6\",\"width\":0.5},\"pattern\":{\"fillmode\":\"overlay\",\"size\":10,\"solidity\":0.2}},\"type\":\"bar\"}],\"barpolar\":[{\"marker\":{\"line\":{\"color\":\"#E5ECF6\",\"width\":0.5},\"pattern\":{\"fillmode\":\"overlay\",\"size\":10,\"solidity\":0.2}},\"type\":\"barpolar\"}],\"carpet\":[{\"aaxis\":{\"endlinecolor\":\"#2a3f5f\",\"gridcolor\":\"white\",\"linecolor\":\"white\",\"minorgridcolor\":\"white\",\"startlinecolor\":\"#2a3f5f\"},\"baxis\":{\"endlinecolor\":\"#2a3f5f\",\"gridcolor\":\"white\",\"linecolor\":\"white\",\"minorgridcolor\":\"white\",\"startlinecolor\":\"#2a3f5f\"},\"type\":\"carpet\"}],\"choropleth\":[{\"colorbar\":{\"outlinewidth\":0,\"ticks\":\"\"},\"type\":\"choropleth\"}],\"contour\":[{\"colorbar\":{\"outlinewidth\":0,\"ticks\":\"\"},\"colorscale\":[[0.0,\"#0d0887\"],[0.1111111111111111,\"#46039f\"],[0.2222222222222222,\"#7201a8\"],[0.3333333333333333,\"#9c179e\"],[0.4444444444444444,\"#bd3786\"],[0.5555555555555556,\"#d8576b\"],[0.6666666666666666,\"#ed7953\"],[0.7777777777777778,\"#fb9f3a\"],[0.8888888888888888,\"#fdca26\"],[1.0,\"#f0f921\"]],\"type\":\"contour\"}],\"contourcarpet\":[{\"colorbar\":{\"outlinewidth\":0,\"ticks\":\"\"},\"type\":\"contourcarpet\"}],\"heatmap\":[{\"colorbar\":{\"outlinewidth\":0,\"ticks\":\"\"},\"colorscale\":[[0.0,\"#0d0887\"],[0.1111111111111111,\"#46039f\"],[0.2222222222222222,\"#7201a8\"],[0.3333333333333333,\"#9c179e\"],[0.4444444444444444,\"#bd3786\"],[0.5555555555555556,\"#d8576b\"],[0.6666666666666666,\"#ed7953\"],[0.7777777777777778,\"#fb9f3a\"],[0.8888888888888888,\"#fdca26\"],[1.0,\"#f0f921\"]],\"type\":\"heatmap\"}],\"heatmapgl\":[{\"colorbar\":{\"outlinewidth\":0,\"ticks\":\"\"},\"colorscale\":[[0.0,\"#0d0887\"],[0.1111111111111111,\"#46039f\"],[0.2222222222222222,\"#7201a8\"],[0.3333333333333333,\"#9c179e\"],[0.4444444444444444,\"#bd3786\"],[0.5555555555555556,\"#d8576b\"],[0.6666666666666666,\"#ed7953\"],[0.7777777777777778,\"#fb9f3a\"],[0.8888888888888888,\"#fdca26\"],[1.0,\"#f0f921\"]],\"type\":\"heatmapgl\"}],\"histogram\":[{\"marker\":{\"pattern\":{\"fillmode\":\"overlay\",\"size\":10,\"solidity\":0.2}},\"type\":\"histogram\"}],\"histogram2d\":[{\"colorbar\":{\"outlinewidth\":0,\"ticks\":\"\"},\"colorscale\":[[0.0,\"#0d0887\"],[0.1111111111111111,\"#46039f\"],[0.2222222222222222,\"#7201a8\"],[0.3333333333333333,\"#9c179e\"],[0.4444444444444444,\"#bd3786\"],[0.5555555555555556,\"#d8576b\"],[0.6666666666666666,\"#ed7953\"],[0.7777777777777778,\"#fb9f3a\"],[0.8888888888888888,\"#fdca26\"],[1.0,\"#f0f921\"]],\"type\":\"histogram2d\"}],\"histogram2dcontour\":[{\"colorbar\":{\"outlinewidth\":0,\"ticks\":\"\"},\"colorscale\":[[0.0,\"#0d0887\"],[0.1111111111111111,\"#46039f\"],[0.2222222222222222,\"#7201a8\"],[0.3333333333333333,\"#9c179e\"],[0.4444444444444444,\"#bd3786\"],[0.5555555555555556,\"#d8576b\"],[0.6666666666666666,\"#ed7953\"],[0.7777777777777778,\"#fb9f3a\"],[0.8888888888888888,\"#fdca26\"],[1.0,\"#f0f921\"]],\"type\":\"histogram2dcontour\"}],\"mesh3d\":[{\"colorbar\":{\"outlinewidth\":0,\"ticks\":\"\"},\"type\":\"mesh3d\"}],\"parcoords\":[{\"line\":{\"colorbar\":{\"outlinewidth\":0,\"ticks\":\"\"}},\"type\":\"parcoords\"}],\"pie\":[{\"automargin\":true,\"type\":\"pie\"}],\"scatter\":[{\"marker\":{\"colorbar\":{\"outlinewidth\":0,\"ticks\":\"\"}},\"type\":\"scatter\"}],\"scatter3d\":[{\"line\":{\"colorbar\":{\"outlinewidth\":0,\"ticks\":\"\"}},\"marker\":{\"colorbar\":{\"outlinewidth\":0,\"ticks\":\"\"}},\"type\":\"scatter3d\"}],\"scattercarpet\":[{\"marker\":{\"colorbar\":{\"outlinewidth\":0,\"ticks\":\"\"}},\"type\":\"scattercarpet\"}],\"scattergeo\":[{\"marker\":{\"colorbar\":{\"outlinewidth\":0,\"ticks\":\"\"}},\"type\":\"scattergeo\"}],\"scattergl\":[{\"marker\":{\"colorbar\":{\"outlinewidth\":0,\"ticks\":\"\"}},\"type\":\"scattergl\"}],\"scattermapbox\":[{\"marker\":{\"colorbar\":{\"outlinewidth\":0,\"ticks\":\"\"}},\"type\":\"scattermapbox\"}],\"scatterpolar\":[{\"marker\":{\"colorbar\":{\"outlinewidth\":0,\"ticks\":\"\"}},\"type\":\"scatterpolar\"}],\"scatterpolargl\":[{\"marker\":{\"colorbar\":{\"outlinewidth\":0,\"ticks\":\"\"}},\"type\":\"scatterpolargl\"}],\"scatterternary\":[{\"marker\":{\"colorbar\":{\"outlinewidth\":0,\"ticks\":\"\"}},\"type\":\"scatterternary\"}],\"surface\":[{\"colorbar\":{\"outlinewidth\":0,\"ticks\":\"\"},\"colorscale\":[[0.0,\"#0d0887\"],[0.1111111111111111,\"#46039f\"],[0.2222222222222222,\"#7201a8\"],[0.3333333333333333,\"#9c179e\"],[0.4444444444444444,\"#bd3786\"],[0.5555555555555556,\"#d8576b\"],[0.6666666666666666,\"#ed7953\"],[0.7777777777777778,\"#fb9f3a\"],[0.8888888888888888,\"#fdca26\"],[1.0,\"#f0f921\"]],\"type\":\"surface\"}],\"table\":[{\"cells\":{\"fill\":{\"color\":\"#EBF0F8\"},\"line\":{\"color\":\"white\"}},\"header\":{\"fill\":{\"color\":\"#C8D4E3\"},\"line\":{\"color\":\"white\"}},\"type\":\"table\"}]},\"layout\":{\"annotationdefaults\":{\"arrowcolor\":\"#2a3f5f\",\"arrowhead\":0,\"arrowwidth\":1},\"autotypenumbers\":\"strict\",\"coloraxis\":{\"colorbar\":{\"outlinewidth\":0,\"ticks\":\"\"}},\"colorscale\":{\"diverging\":[[0,\"#8e0152\"],[0.1,\"#c51b7d\"],[0.2,\"#de77ae\"],[0.3,\"#f1b6da\"],[0.4,\"#fde0ef\"],[0.5,\"#f7f7f7\"],[0.6,\"#e6f5d0\"],[0.7,\"#b8e186\"],[0.8,\"#7fbc41\"],[0.9,\"#4d9221\"],[1,\"#276419\"]],\"sequential\":[[0.0,\"#0d0887\"],[0.1111111111111111,\"#46039f\"],[0.2222222222222222,\"#7201a8\"],[0.3333333333333333,\"#9c179e\"],[0.4444444444444444,\"#bd3786\"],[0.5555555555555556,\"#d8576b\"],[0.6666666666666666,\"#ed7953\"],[0.7777777777777778,\"#fb9f3a\"],[0.8888888888888888,\"#fdca26\"],[1.0,\"#f0f921\"]],\"sequentialminus\":[[0.0,\"#0d0887\"],[0.1111111111111111,\"#46039f\"],[0.2222222222222222,\"#7201a8\"],[0.3333333333333333,\"#9c179e\"],[0.4444444444444444,\"#bd3786\"],[0.5555555555555556,\"#d8576b\"],[0.6666666666666666,\"#ed7953\"],[0.7777777777777778,\"#fb9f3a\"],[0.8888888888888888,\"#fdca26\"],[1.0,\"#f0f921\"]]},\"colorway\":[\"#636efa\",\"#EF553B\",\"#00cc96\",\"#ab63fa\",\"#FFA15A\",\"#19d3f3\",\"#FF6692\",\"#B6E880\",\"#FF97FF\",\"#FECB52\"],\"font\":{\"color\":\"#2a3f5f\"},\"geo\":{\"bgcolor\":\"white\",\"lakecolor\":\"white\",\"landcolor\":\"#E5ECF6\",\"showlakes\":true,\"showland\":true,\"subunitcolor\":\"white\"},\"hoverlabel\":{\"align\":\"left\"},\"hovermode\":\"closest\",\"mapbox\":{\"style\":\"light\"},\"paper_bgcolor\":\"white\",\"plot_bgcolor\":\"#E5ECF6\",\"polar\":{\"angularaxis\":{\"gridcolor\":\"white\",\"linecolor\":\"white\",\"ticks\":\"\"},\"bgcolor\":\"#E5ECF6\",\"radialaxis\":{\"gridcolor\":\"white\",\"linecolor\":\"white\",\"ticks\":\"\"}},\"scene\":{\"xaxis\":{\"backgroundcolor\":\"#E5ECF6\",\"gridcolor\":\"white\",\"gridwidth\":2,\"linecolor\":\"white\",\"showbackground\":true,\"ticks\":\"\",\"zerolinecolor\":\"white\"},\"yaxis\":{\"backgroundcolor\":\"#E5ECF6\",\"gridcolor\":\"white\",\"gridwidth\":2,\"linecolor\":\"white\",\"showbackground\":true,\"ticks\":\"\",\"zerolinecolor\":\"white\"},\"zaxis\":{\"backgroundcolor\":\"#E5ECF6\",\"gridcolor\":\"white\",\"gridwidth\":2,\"linecolor\":\"white\",\"showbackground\":true,\"ticks\":\"\",\"zerolinecolor\":\"white\"}},\"shapedefaults\":{\"line\":{\"color\":\"#2a3f5f\"}},\"ternary\":{\"aaxis\":{\"gridcolor\":\"white\",\"linecolor\":\"white\",\"ticks\":\"\"},\"baxis\":{\"gridcolor\":\"white\",\"linecolor\":\"white\",\"ticks\":\"\"},\"bgcolor\":\"#E5ECF6\",\"caxis\":{\"gridcolor\":\"white\",\"linecolor\":\"white\",\"ticks\":\"\"}},\"title\":{\"x\":0.05},\"xaxis\":{\"automargin\":true,\"gridcolor\":\"white\",\"linecolor\":\"white\",\"ticks\":\"\",\"title\":{\"standoff\":15},\"zerolinecolor\":\"white\",\"zerolinewidth\":2},\"yaxis\":{\"automargin\":true,\"gridcolor\":\"white\",\"linecolor\":\"white\",\"ticks\":\"\",\"title\":{\"standoff\":15},\"zerolinecolor\":\"white\",\"zerolinewidth\":2}}},\"xaxis\":{\"anchor\":\"y\",\"domain\":[0.0,1.0],\"title\":{\"text\":\"Head\"}},\"yaxis\":{\"anchor\":\"x\",\"domain\":[0.0,1.0],\"autorange\":\"reversed\",\"title\":{\"text\":\"Layer\"}},\"coloraxis\":{\"colorscale\":[[0.0,\"rgb(103,0,31)\"],[0.1,\"rgb(178,24,43)\"],[0.2,\"rgb(214,96,77)\"],[0.3,\"rgb(244,165,130)\"],[0.4,\"rgb(253,219,199)\"],[0.5,\"rgb(247,247,247)\"],[0.6,\"rgb(209,229,240)\"],[0.7,\"rgb(146,197,222)\"],[0.8,\"rgb(67,147,195)\"],[0.9,\"rgb(33,102,172)\"],[1.0,\"rgb(5,48,97)\"]],\"cmid\":0.0},\"title\":{\"text\":\"Logit Difference From Each Head\"}},                        {\"responsive\": true}                    ).then(function(){\n",
              "                            \n",
              "var gd = document.getElementById('8d04b1d5-de3f-4584-9ab8-f026fb55bbad');\n",
              "var x = new MutationObserver(function (mutations, observer) {{\n",
              "        var display = window.getComputedStyle(gd).display;\n",
              "        if (!display || display === 'none') {{\n",
              "            console.log([gd, 'removed!']);\n",
              "            Plotly.purge(gd);\n",
              "            observer.disconnect();\n",
              "        }}\n",
              "}});\n",
              "\n",
              "// Listen for the removal of the full notebook cells\n",
              "var notebookContainer = gd.closest('#notebook-container');\n",
              "if (notebookContainer) {{\n",
              "    x.observe(notebookContainer, {childList: true});\n",
              "}}\n",
              "\n",
              "// Listen for the clearing of the current output cell\n",
              "var outputEl = gd.closest('.output');\n",
              "if (outputEl) {{\n",
              "    x.observe(outputEl, {childList: true});\n",
              "}}\n",
              "\n",
              "                        })                };                            </script>        </div>\n",
              "</body>\n",
              "</html>"
            ]
          },
          "metadata": {},
          "output_type": "display_data"
        }
      ],
      "source": [
        "imshow(res, xaxis=\"Head\", yaxis=\"Layer\", title=\"Logit Difference From Each Head\")#, zmin=-0.02, zmax=0.02)"
      ]
    },
    {
      "cell_type": "code",
      "execution_count": null,
      "metadata": {
        "id": "dlt6r4sgQekA"
      },
      "outputs": [],
      "source": [
        "def get_patched_layer_output(layer, head_idx, orig_cache, patch_cache):\n",
        "    \"\"\"Patches the target head at the z tensor, and then recomputes and returns attn_out.\n",
        "        The original IOI paper recomputed the entire model, but we can use this shortcut\n",
        "        to only compute the relevant parts.\n",
        "\n",
        "    Args:\n",
        "      layer (int): Layer to be patched.\n",
        "      head (int): Index of head to be patched.\n",
        "      orig_cache\n",
        "      patch_cache\n",
        "\n",
        "    Returns:\n",
        "      torch.Tensor: attn_out, the tensor that would be added to the residual stream.\n",
        "    \"\"\"\n",
        "    layer_z_cache_name = f'blocks.{layer}.attn.hook_z'\n",
        "    layer_z_patched = orig_cache[layer_z_cache_name]\n",
        "    head_z_source = patch_cache[layer_z_cache_name][:, :, head_idx, :]\n",
        "    layer_z_patched[:, :, head_idx, :] = head_z_source\n",
        "\n",
        "    patched_attn_out = einsum(\n",
        "        \"batch query_pos n_heads d_head, n_heads d_head d_model -> batch query_pos d_model\", \n",
        "        layer_z_patched, \n",
        "        model.blocks[layer].attn.W_O) + model.blocks[layer].attn.b_O\n",
        "\n",
        "    return patched_attn_out"
      ]
    },
    {
      "cell_type": "code",
      "execution_count": null,
      "metadata": {
        "colab": {
          "base_uri": "https://localhost:8080/"
        },
        "id": "Va8xAQNjOUmk",
        "outputId": "a638b14f-2499-4839-bfc8-1f62da154085"
      },
      "outputs": [
        {
          "data": {
            "text/plain": [
              "torch.Size([8, 15, 64])"
            ]
          },
          "execution_count": 38,
          "metadata": {},
          "output_type": "execute_result"
        }
      ],
      "source": [
        "sender_layer = 3\n",
        "sender_head = 2\n",
        "receiver_layer = 11\n",
        "receiver_head = 6\n",
        "\n",
        "orig_cache = corrupted_cache\n",
        "patch_cache = clean_cache\n",
        "\n",
        "patched_attn_output = get_patched_layer_output(sender_layer, sender_head, orig_cache, patch_cache)\n",
        "orig_attn_output_name = f'blocks.{sender_layer}.hook_attn_out'\n",
        "orig_receiver_ln1_scale_name = f'blocks.{receiver_layer}.ln1.hook_scale'\n",
        "        \n",
        "res = (patched_attn_output - orig_cache[orig_attn_output_name]) @ model.blocks[receiver_layer].attn.W_Q[receiver_head] / orig_cache[orig_receiver_ln1_scale_name]\n",
        "res.shape"
      ]
    },
    {
      "cell_type": "code",
      "execution_count": null,
      "metadata": {
        "colab": {
          "base_uri": "https://localhost:8080/"
        },
        "id": "kFCsTzAG4J22",
        "outputId": "374c2571-942f-4933-dcba-4a55da80ff4a"
      },
      "outputs": [
        {
          "data": {
            "text/plain": [
              "torch.Size([8, 15, 64])"
            ]
          },
          "execution_count": 16,
          "metadata": {},
          "output_type": "execute_result"
        }
      ],
      "source": [
        "head_B = (11, 6)\n",
        "head_B_W_Q = model.blocks[10].attn.W_Q[4]\n",
        "head_B_dest = corrupted_cache['blocks.11.attn.hook_q'][:, :, head_B[1], :]\n",
        "head_B_dest.shape"
      ]
    },
    {
      "cell_type": "code",
      "execution_count": null,
      "metadata": {
        "colab": {
          "base_uri": "https://localhost:8080/"
        },
        "id": "EN1DWGSaQJkJ",
        "outputId": "c13300dc-2b69-4a8f-b56e-fc2603591b65"
      },
      "outputs": [
        {
          "data": {
            "text/plain": [
              "HookPoint()"
            ]
          },
          "execution_count": 32,
          "metadata": {},
          "output_type": "execute_result"
        }
      ],
      "source": [
        "model.blocks[10].ln1.hook_scale"
      ]
    },
    {
      "cell_type": "code",
      "execution_count": null,
      "metadata": {
        "colab": {
          "base_uri": "https://localhost:8080/",
          "height": 288
        },
        "id": "2iV7RdvD_4RC",
        "outputId": "c56ea50f-0b4e-479c-d1f6-050033f545ff"
      },
      "outputs": [
        {
          "ename": "TypeError",
          "evalue": "ignored",
          "output_type": "error",
          "traceback": [
            "\u001b[0;31m---------------------------------------------------------------------------\u001b[0m",
            "\u001b[0;31mTypeError\u001b[0m                                 Traceback (most recent call last)",
            "\u001b[0;32m<ipython-input-15-e29b143332e8>\u001b[0m in \u001b[0;36m<module>\u001b[0;34m\u001b[0m\n\u001b[0;32m----> 1\u001b[0;31m \u001b[0mprint\u001b[0m\u001b[0;34m(\u001b[0m\u001b[0mutils\u001b[0m\u001b[0;34m.\u001b[0m\u001b[0mget_act_name\u001b[0m\u001b[0;34m(\u001b[0m\u001b[0;36m11\u001b[0m\u001b[0;34m,\u001b[0m \u001b[0;34m\"hook_attn_out\"\u001b[0m\u001b[0;34m)\u001b[0m\u001b[0;34m)\u001b[0m\u001b[0;34m\u001b[0m\u001b[0;34m\u001b[0m\u001b[0m\n\u001b[0m",
            "\u001b[0;32m/usr/local/lib/python3.8/dist-packages/transformer_lens/utils.py\u001b[0m in \u001b[0;36mget_act_name\u001b[0;34m(name, layer, layer_type)\u001b[0m\n\u001b[1;32m    419\u001b[0m     \"\"\"\n\u001b[1;32m    420\u001b[0m     if (\n\u001b[0;32m--> 421\u001b[0;31m         \u001b[0;34m(\u001b[0m\u001b[0;34m\".\"\u001b[0m \u001b[0;32min\u001b[0m \u001b[0mname\u001b[0m \u001b[0;32mor\u001b[0m \u001b[0mname\u001b[0m\u001b[0;34m.\u001b[0m\u001b[0mstartswith\u001b[0m\u001b[0;34m(\u001b[0m\u001b[0;34m\"hook_\"\u001b[0m\u001b[0;34m)\u001b[0m\u001b[0;34m)\u001b[0m\u001b[0;34m\u001b[0m\u001b[0;34m\u001b[0m\u001b[0m\n\u001b[0m\u001b[1;32m    422\u001b[0m         \u001b[0;32mand\u001b[0m \u001b[0mlayer\u001b[0m \u001b[0;32mis\u001b[0m \u001b[0;32mNone\u001b[0m\u001b[0;34m\u001b[0m\u001b[0;34m\u001b[0m\u001b[0m\n\u001b[1;32m    423\u001b[0m         \u001b[0;32mand\u001b[0m \u001b[0mlayer_type\u001b[0m \u001b[0;32mis\u001b[0m \u001b[0;32mNone\u001b[0m\u001b[0;34m\u001b[0m\u001b[0;34m\u001b[0m\u001b[0m\n",
            "\u001b[0;31mTypeError\u001b[0m: argument of type 'int' is not iterable"
          ]
        }
      ],
      "source": [
        "print(utils.get_act_name(11, \"hook_attn_out\"))"
      ]
    },
    {
      "cell_type": "code",
      "execution_count": null,
      "metadata": {
        "colab": {
          "base_uri": "https://localhost:8080/"
        },
        "id": "31mNfyeSM8Fc",
        "outputId": "318e8609-a705-4b5e-f2da-0fafa1e63800"
      },
      "outputs": [
        {
          "data": {
            "text/plain": [
              "torch.Size([8, 15, 1])"
            ]
          },
          "execution_count": 35,
          "metadata": {},
          "output_type": "execute_result"
        }
      ],
      "source": [
        "clean_cache[\"blocks.11.ln1.hook_scale\"].shape"
      ]
    },
    {
      "cell_type": "code",
      "execution_count": null,
      "metadata": {
        "id": "N8jVGLQd517d"
      },
      "outputs": [],
      "source": [
        "head_A = (3, 2)\n",
        "head_A_cache_name = 'blocks.3.attn.hook_z'\n",
        "layer_A_z_patched = corrupted_cache[head_A_cache_name] #[:, :, head_A[1], :]\n",
        "head_A_z_source = clean_cache[head_A_cache_name][:, :, head_A[1], :]\n",
        "layer_A_z_patched[:, :, head_A[1], :] = head_A_z_source "
      ]
    },
    {
      "cell_type": "code",
      "execution_count": null,
      "metadata": {
        "id": "yVKHuzJSOwIo"
      },
      "outputs": [],
      "source": [
        "layer_A_patched_attn_out = einsum(\n",
        "    \"batch query_pos n_heads d_head, n_heads d_head d_model -> batch query_pos d_model\", \n",
        "    layer_A_z_patched, \n",
        "    model.blocks[3].attn.W_O) + model.blocks[3].attn.b_O"
      ]
    },
    {
      "cell_type": "code",
      "execution_count": null,
      "metadata": {
        "colab": {
          "base_uri": "https://localhost:8080/"
        },
        "id": "OUTVj-RKUbOJ",
        "outputId": "e7d9155a-6d40-4510-d89b-23f40995a2fc"
      },
      "outputs": [
        {
          "data": {
            "text/plain": [
              "torch.Size([8, 15, 768])"
            ]
          },
          "execution_count": 43,
          "metadata": {},
          "output_type": "execute_result"
        }
      ],
      "source": [
        "layer_A_patched_attn_out.shape"
      ]
    },
    {
      "cell_type": "code",
      "execution_count": null,
      "metadata": {
        "colab": {
          "base_uri": "https://localhost:8080/"
        },
        "id": "ZAeLJv6LECWI",
        "outputId": "57a94594-2b1f-4e83-c958-23a81ff35b9d"
      },
      "outputs": [
        {
          "data": {
            "text/plain": [
              "TransformerBlock(\n",
              "  (ln1): LayerNormPre(\n",
              "    (hook_scale): HookPoint()\n",
              "    (hook_normalized): HookPoint()\n",
              "  )\n",
              "  (ln2): LayerNormPre(\n",
              "    (hook_scale): HookPoint()\n",
              "    (hook_normalized): HookPoint()\n",
              "  )\n",
              "  (attn): Attention(\n",
              "    (hook_k): HookPoint()\n",
              "    (hook_q): HookPoint()\n",
              "    (hook_v): HookPoint()\n",
              "    (hook_z): HookPoint()\n",
              "    (hook_attn_scores): HookPoint()\n",
              "    (hook_pattern): HookPoint()\n",
              "    (hook_result): HookPoint()\n",
              "    (hook_rot_k): HookPoint()\n",
              "    (hook_rot_q): HookPoint()\n",
              "  )\n",
              "  (mlp): MLP(\n",
              "    (hook_pre): HookPoint()\n",
              "    (hook_post): HookPoint()\n",
              "  )\n",
              "  (hook_q_input): HookPoint()\n",
              "  (hook_k_input): HookPoint()\n",
              "  (hook_v_input): HookPoint()\n",
              "  (hook_attn_out): HookPoint()\n",
              "  (hook_mlp_out): HookPoint()\n",
              "  (hook_resid_pre): HookPoint()\n",
              "  (hook_resid_post): HookPoint()\n",
              ")"
            ]
          },
          "execution_count": 40,
          "metadata": {},
          "output_type": "execute_result"
        }
      ],
      "source": [
        "model.blocks[3]"
      ]
    },
    {
      "cell_type": "code",
      "execution_count": null,
      "metadata": {
        "colab": {
          "base_uri": "https://localhost:8080/"
        },
        "id": "3jN9kdmWBmoH",
        "outputId": "d1a4e4b0-a42a-416a-fc76-0ed565d073e5"
      },
      "outputs": [
        {
          "data": {
            "text/plain": [
              "torch.Size([768, 64])"
            ]
          },
          "execution_count": 41,
          "metadata": {},
          "output_type": "execute_result"
        }
      ],
      "source": [
        "model.blocks[3].attn.W_Q[2].shape"
      ]
    },
    {
      "cell_type": "code",
      "execution_count": null,
      "metadata": {
        "colab": {
          "base_uri": "https://localhost:8080/"
        },
        "id": "QjQPakNo7ZQy",
        "outputId": "06f33b62-989d-4480-d0a3-b7be50d1ec2e"
      },
      "outputs": [
        {
          "data": {
            "text/plain": [
              "HookedTransformer(\n",
              "  (embed): Embed()\n",
              "  (hook_embed): HookPoint()\n",
              "  (blocks): ModuleList(\n",
              "    (0): TransformerBlock(\n",
              "      (ln1): LayerNormPre(\n",
              "        (hook_scale): HookPoint()\n",
              "        (hook_normalized): HookPoint()\n",
              "      )\n",
              "      (ln2): LayerNormPre(\n",
              "        (hook_scale): HookPoint()\n",
              "        (hook_normalized): HookPoint()\n",
              "      )\n",
              "      (attn): Attention(\n",
              "        (hook_k): HookPoint()\n",
              "        (hook_q): HookPoint()\n",
              "        (hook_v): HookPoint()\n",
              "        (hook_z): HookPoint()\n",
              "        (hook_attn_scores): HookPoint()\n",
              "        (hook_pattern): HookPoint()\n",
              "        (hook_result): HookPoint()\n",
              "        (hook_rot_k): HookPoint()\n",
              "        (hook_rot_q): HookPoint()\n",
              "      )\n",
              "      (mlp): MLP(\n",
              "        (hook_pre): HookPoint()\n",
              "        (hook_post): HookPoint()\n",
              "      )\n",
              "      (hook_q_input): HookPoint()\n",
              "      (hook_k_input): HookPoint()\n",
              "      (hook_v_input): HookPoint()\n",
              "      (hook_attn_out): HookPoint()\n",
              "      (hook_mlp_out): HookPoint()\n",
              "      (hook_resid_pre): HookPoint()\n",
              "      (hook_resid_post): HookPoint()\n",
              "    )\n",
              "    (1): TransformerBlock(\n",
              "      (ln1): LayerNormPre(\n",
              "        (hook_scale): HookPoint()\n",
              "        (hook_normalized): HookPoint()\n",
              "      )\n",
              "      (ln2): LayerNormPre(\n",
              "        (hook_scale): HookPoint()\n",
              "        (hook_normalized): HookPoint()\n",
              "      )\n",
              "      (attn): Attention(\n",
              "        (hook_k): HookPoint()\n",
              "        (hook_q): HookPoint()\n",
              "        (hook_v): HookPoint()\n",
              "        (hook_z): HookPoint()\n",
              "        (hook_attn_scores): HookPoint()\n",
              "        (hook_pattern): HookPoint()\n",
              "        (hook_result): HookPoint()\n",
              "        (hook_rot_k): HookPoint()\n",
              "        (hook_rot_q): HookPoint()\n",
              "      )\n",
              "      (mlp): MLP(\n",
              "        (hook_pre): HookPoint()\n",
              "        (hook_post): HookPoint()\n",
              "      )\n",
              "      (hook_q_input): HookPoint()\n",
              "      (hook_k_input): HookPoint()\n",
              "      (hook_v_input): HookPoint()\n",
              "      (hook_attn_out): HookPoint()\n",
              "      (hook_mlp_out): HookPoint()\n",
              "      (hook_resid_pre): HookPoint()\n",
              "      (hook_resid_post): HookPoint()\n",
              "    )\n",
              "    (2): TransformerBlock(\n",
              "      (ln1): LayerNormPre(\n",
              "        (hook_scale): HookPoint()\n",
              "        (hook_normalized): HookPoint()\n",
              "      )\n",
              "      (ln2): LayerNormPre(\n",
              "        (hook_scale): HookPoint()\n",
              "        (hook_normalized): HookPoint()\n",
              "      )\n",
              "      (attn): Attention(\n",
              "        (hook_k): HookPoint()\n",
              "        (hook_q): HookPoint()\n",
              "        (hook_v): HookPoint()\n",
              "        (hook_z): HookPoint()\n",
              "        (hook_attn_scores): HookPoint()\n",
              "        (hook_pattern): HookPoint()\n",
              "        (hook_result): HookPoint()\n",
              "        (hook_rot_k): HookPoint()\n",
              "        (hook_rot_q): HookPoint()\n",
              "      )\n",
              "      (mlp): MLP(\n",
              "        (hook_pre): HookPoint()\n",
              "        (hook_post): HookPoint()\n",
              "      )\n",
              "      (hook_q_input): HookPoint()\n",
              "      (hook_k_input): HookPoint()\n",
              "      (hook_v_input): HookPoint()\n",
              "      (hook_attn_out): HookPoint()\n",
              "      (hook_mlp_out): HookPoint()\n",
              "      (hook_resid_pre): HookPoint()\n",
              "      (hook_resid_post): HookPoint()\n",
              "    )\n",
              "    (3): TransformerBlock(\n",
              "      (ln1): LayerNormPre(\n",
              "        (hook_scale): HookPoint()\n",
              "        (hook_normalized): HookPoint()\n",
              "      )\n",
              "      (ln2): LayerNormPre(\n",
              "        (hook_scale): HookPoint()\n",
              "        (hook_normalized): HookPoint()\n",
              "      )\n",
              "      (attn): Attention(\n",
              "        (hook_k): HookPoint()\n",
              "        (hook_q): HookPoint()\n",
              "        (hook_v): HookPoint()\n",
              "        (hook_z): HookPoint()\n",
              "        (hook_attn_scores): HookPoint()\n",
              "        (hook_pattern): HookPoint()\n",
              "        (hook_result): HookPoint()\n",
              "        (hook_rot_k): HookPoint()\n",
              "        (hook_rot_q): HookPoint()\n",
              "      )\n",
              "      (mlp): MLP(\n",
              "        (hook_pre): HookPoint()\n",
              "        (hook_post): HookPoint()\n",
              "      )\n",
              "      (hook_q_input): HookPoint()\n",
              "      (hook_k_input): HookPoint()\n",
              "      (hook_v_input): HookPoint()\n",
              "      (hook_attn_out): HookPoint()\n",
              "      (hook_mlp_out): HookPoint()\n",
              "      (hook_resid_pre): HookPoint()\n",
              "      (hook_resid_post): HookPoint()\n",
              "    )\n",
              "    (4): TransformerBlock(\n",
              "      (ln1): LayerNormPre(\n",
              "        (hook_scale): HookPoint()\n",
              "        (hook_normalized): HookPoint()\n",
              "      )\n",
              "      (ln2): LayerNormPre(\n",
              "        (hook_scale): HookPoint()\n",
              "        (hook_normalized): HookPoint()\n",
              "      )\n",
              "      (attn): Attention(\n",
              "        (hook_k): HookPoint()\n",
              "        (hook_q): HookPoint()\n",
              "        (hook_v): HookPoint()\n",
              "        (hook_z): HookPoint()\n",
              "        (hook_attn_scores): HookPoint()\n",
              "        (hook_pattern): HookPoint()\n",
              "        (hook_result): HookPoint()\n",
              "        (hook_rot_k): HookPoint()\n",
              "        (hook_rot_q): HookPoint()\n",
              "      )\n",
              "      (mlp): MLP(\n",
              "        (hook_pre): HookPoint()\n",
              "        (hook_post): HookPoint()\n",
              "      )\n",
              "      (hook_q_input): HookPoint()\n",
              "      (hook_k_input): HookPoint()\n",
              "      (hook_v_input): HookPoint()\n",
              "      (hook_attn_out): HookPoint()\n",
              "      (hook_mlp_out): HookPoint()\n",
              "      (hook_resid_pre): HookPoint()\n",
              "      (hook_resid_post): HookPoint()\n",
              "    )\n",
              "    (5): TransformerBlock(\n",
              "      (ln1): LayerNormPre(\n",
              "        (hook_scale): HookPoint()\n",
              "        (hook_normalized): HookPoint()\n",
              "      )\n",
              "      (ln2): LayerNormPre(\n",
              "        (hook_scale): HookPoint()\n",
              "        (hook_normalized): HookPoint()\n",
              "      )\n",
              "      (attn): Attention(\n",
              "        (hook_k): HookPoint()\n",
              "        (hook_q): HookPoint()\n",
              "        (hook_v): HookPoint()\n",
              "        (hook_z): HookPoint()\n",
              "        (hook_attn_scores): HookPoint()\n",
              "        (hook_pattern): HookPoint()\n",
              "        (hook_result): HookPoint()\n",
              "        (hook_rot_k): HookPoint()\n",
              "        (hook_rot_q): HookPoint()\n",
              "      )\n",
              "      (mlp): MLP(\n",
              "        (hook_pre): HookPoint()\n",
              "        (hook_post): HookPoint()\n",
              "      )\n",
              "      (hook_q_input): HookPoint()\n",
              "      (hook_k_input): HookPoint()\n",
              "      (hook_v_input): HookPoint()\n",
              "      (hook_attn_out): HookPoint()\n",
              "      (hook_mlp_out): HookPoint()\n",
              "      (hook_resid_pre): HookPoint()\n",
              "      (hook_resid_post): HookPoint()\n",
              "    )\n",
              "    (6): TransformerBlock(\n",
              "      (ln1): LayerNormPre(\n",
              "        (hook_scale): HookPoint()\n",
              "        (hook_normalized): HookPoint()\n",
              "      )\n",
              "      (ln2): LayerNormPre(\n",
              "        (hook_scale): HookPoint()\n",
              "        (hook_normalized): HookPoint()\n",
              "      )\n",
              "      (attn): Attention(\n",
              "        (hook_k): HookPoint()\n",
              "        (hook_q): HookPoint()\n",
              "        (hook_v): HookPoint()\n",
              "        (hook_z): HookPoint()\n",
              "        (hook_attn_scores): HookPoint()\n",
              "        (hook_pattern): HookPoint()\n",
              "        (hook_result): HookPoint()\n",
              "        (hook_rot_k): HookPoint()\n",
              "        (hook_rot_q): HookPoint()\n",
              "      )\n",
              "      (mlp): MLP(\n",
              "        (hook_pre): HookPoint()\n",
              "        (hook_post): HookPoint()\n",
              "      )\n",
              "      (hook_q_input): HookPoint()\n",
              "      (hook_k_input): HookPoint()\n",
              "      (hook_v_input): HookPoint()\n",
              "      (hook_attn_out): HookPoint()\n",
              "      (hook_mlp_out): HookPoint()\n",
              "      (hook_resid_pre): HookPoint()\n",
              "      (hook_resid_post): HookPoint()\n",
              "    )\n",
              "    (7): TransformerBlock(\n",
              "      (ln1): LayerNormPre(\n",
              "        (hook_scale): HookPoint()\n",
              "        (hook_normalized): HookPoint()\n",
              "      )\n",
              "      (ln2): LayerNormPre(\n",
              "        (hook_scale): HookPoint()\n",
              "        (hook_normalized): HookPoint()\n",
              "      )\n",
              "      (attn): Attention(\n",
              "        (hook_k): HookPoint()\n",
              "        (hook_q): HookPoint()\n",
              "        (hook_v): HookPoint()\n",
              "        (hook_z): HookPoint()\n",
              "        (hook_attn_scores): HookPoint()\n",
              "        (hook_pattern): HookPoint()\n",
              "        (hook_result): HookPoint()\n",
              "        (hook_rot_k): HookPoint()\n",
              "        (hook_rot_q): HookPoint()\n",
              "      )\n",
              "      (mlp): MLP(\n",
              "        (hook_pre): HookPoint()\n",
              "        (hook_post): HookPoint()\n",
              "      )\n",
              "      (hook_q_input): HookPoint()\n",
              "      (hook_k_input): HookPoint()\n",
              "      (hook_v_input): HookPoint()\n",
              "      (hook_attn_out): HookPoint()\n",
              "      (hook_mlp_out): HookPoint()\n",
              "      (hook_resid_pre): HookPoint()\n",
              "      (hook_resid_post): HookPoint()\n",
              "    )\n",
              "    (8): TransformerBlock(\n",
              "      (ln1): LayerNormPre(\n",
              "        (hook_scale): HookPoint()\n",
              "        (hook_normalized): HookPoint()\n",
              "      )\n",
              "      (ln2): LayerNormPre(\n",
              "        (hook_scale): HookPoint()\n",
              "        (hook_normalized): HookPoint()\n",
              "      )\n",
              "      (attn): Attention(\n",
              "        (hook_k): HookPoint()\n",
              "        (hook_q): HookPoint()\n",
              "        (hook_v): HookPoint()\n",
              "        (hook_z): HookPoint()\n",
              "        (hook_attn_scores): HookPoint()\n",
              "        (hook_pattern): HookPoint()\n",
              "        (hook_result): HookPoint()\n",
              "        (hook_rot_k): HookPoint()\n",
              "        (hook_rot_q): HookPoint()\n",
              "      )\n",
              "      (mlp): MLP(\n",
              "        (hook_pre): HookPoint()\n",
              "        (hook_post): HookPoint()\n",
              "      )\n",
              "      (hook_q_input): HookPoint()\n",
              "      (hook_k_input): HookPoint()\n",
              "      (hook_v_input): HookPoint()\n",
              "      (hook_attn_out): HookPoint()\n",
              "      (hook_mlp_out): HookPoint()\n",
              "      (hook_resid_pre): HookPoint()\n",
              "      (hook_resid_post): HookPoint()\n",
              "    )\n",
              "    (9): TransformerBlock(\n",
              "      (ln1): LayerNormPre(\n",
              "        (hook_scale): HookPoint()\n",
              "        (hook_normalized): HookPoint()\n",
              "      )\n",
              "      (ln2): LayerNormPre(\n",
              "        (hook_scale): HookPoint()\n",
              "        (hook_normalized): HookPoint()\n",
              "      )\n",
              "      (attn): Attention(\n",
              "        (hook_k): HookPoint()\n",
              "        (hook_q): HookPoint()\n",
              "        (hook_v): HookPoint()\n",
              "        (hook_z): HookPoint()\n",
              "        (hook_attn_scores): HookPoint()\n",
              "        (hook_pattern): HookPoint()\n",
              "        (hook_result): HookPoint()\n",
              "        (hook_rot_k): HookPoint()\n",
              "        (hook_rot_q): HookPoint()\n",
              "      )\n",
              "      (mlp): MLP(\n",
              "        (hook_pre): HookPoint()\n",
              "        (hook_post): HookPoint()\n",
              "      )\n",
              "      (hook_q_input): HookPoint()\n",
              "      (hook_k_input): HookPoint()\n",
              "      (hook_v_input): HookPoint()\n",
              "      (hook_attn_out): HookPoint()\n",
              "      (hook_mlp_out): HookPoint()\n",
              "      (hook_resid_pre): HookPoint()\n",
              "      (hook_resid_post): HookPoint()\n",
              "    )\n",
              "    (10): TransformerBlock(\n",
              "      (ln1): LayerNormPre(\n",
              "        (hook_scale): HookPoint()\n",
              "        (hook_normalized): HookPoint()\n",
              "      )\n",
              "      (ln2): LayerNormPre(\n",
              "        (hook_scale): HookPoint()\n",
              "        (hook_normalized): HookPoint()\n",
              "      )\n",
              "      (attn): Attention(\n",
              "        (hook_k): HookPoint()\n",
              "        (hook_q): HookPoint()\n",
              "        (hook_v): HookPoint()\n",
              "        (hook_z): HookPoint()\n",
              "        (hook_attn_scores): HookPoint()\n",
              "        (hook_pattern): HookPoint()\n",
              "        (hook_result): HookPoint()\n",
              "        (hook_rot_k): HookPoint()\n",
              "        (hook_rot_q): HookPoint()\n",
              "      )\n",
              "      (mlp): MLP(\n",
              "        (hook_pre): HookPoint()\n",
              "        (hook_post): HookPoint()\n",
              "      )\n",
              "      (hook_q_input): HookPoint()\n",
              "      (hook_k_input): HookPoint()\n",
              "      (hook_v_input): HookPoint()\n",
              "      (hook_attn_out): HookPoint()\n",
              "      (hook_mlp_out): HookPoint()\n",
              "      (hook_resid_pre): HookPoint()\n",
              "      (hook_resid_post): HookPoint()\n",
              "    )\n",
              "    (11): TransformerBlock(\n",
              "      (ln1): LayerNormPre(\n",
              "        (hook_scale): HookPoint()\n",
              "        (hook_normalized): HookPoint()\n",
              "      )\n",
              "      (ln2): LayerNormPre(\n",
              "        (hook_scale): HookPoint()\n",
              "        (hook_normalized): HookPoint()\n",
              "      )\n",
              "      (attn): Attention(\n",
              "        (hook_k): HookPoint()\n",
              "        (hook_q): HookPoint()\n",
              "        (hook_v): HookPoint()\n",
              "        (hook_z): HookPoint()\n",
              "        (hook_attn_scores): HookPoint()\n",
              "        (hook_pattern): HookPoint()\n",
              "        (hook_result): HookPoint()\n",
              "        (hook_rot_k): HookPoint()\n",
              "        (hook_rot_q): HookPoint()\n",
              "      )\n",
              "      (mlp): MLP(\n",
              "        (hook_pre): HookPoint()\n",
              "        (hook_post): HookPoint()\n",
              "      )\n",
              "      (hook_q_input): HookPoint()\n",
              "      (hook_k_input): HookPoint()\n",
              "      (hook_v_input): HookPoint()\n",
              "      (hook_attn_out): HookPoint()\n",
              "      (hook_mlp_out): HookPoint()\n",
              "      (hook_resid_pre): HookPoint()\n",
              "      (hook_resid_post): HookPoint()\n",
              "    )\n",
              "  )\n",
              "  (ln_final): LayerNormPre(\n",
              "    (hook_scale): HookPoint()\n",
              "    (hook_normalized): HookPoint()\n",
              "  )\n",
              "  (unembed): Unembed()\n",
              ")"
            ]
          },
          "execution_count": 29,
          "metadata": {},
          "output_type": "execute_result"
        }
      ],
      "source": [
        "model #.blocks[11].ln1.hook_scale"
      ]
    },
    {
      "cell_type": "code",
      "execution_count": null,
      "metadata": {
        "id": "g-SCvEIPEuSI"
      },
      "outputs": [],
      "source": [
        "def path_patching(\n",
        "    model,\n",
        "    patch_tokens,\n",
        "    orig_tokens,\n",
        "    sender_heads,\n",
        "    receiver_hooks,\n",
        "    positions=[\"end\"],\n",
        "    return_hooks=False,\n",
        "    extra_hooks=[],  # when we call reset hooks, we may want to add some extra hooks after this, add these here\n",
        "    freeze_mlps=False,  # recall in IOI paper we consider these \"vital model components\"\n",
        "    have_internal_interactions=False,\n",
        "):\n",
        "    \"\"\"\n",
        "    Patch in the effect of `sender_heads` on `receiver_hooks` only\n",
        "    (though MLPs are \"ignored\" if `freeze_mlps` is False so are slight confounders in this case - see Appendix B of https://arxiv.org/pdf/2211.00593.pdf)\n",
        "    TODO fix this: if max_layer < model.cfg.n_layers, then let some part of the model do computations (not frozen)\n",
        "\n",
        "    Args: \n",
        "      model (HookedTransformer):\n",
        "      patch_tokens ()\n",
        "    Returns:\n",
        "\n",
        "    \"\"\"\n",
        "\n",
        "    # This function ensures that the patch is applied to every position in the position list.\n",
        "    def patch_positions(z, source_act, hook, positions=[\"end\"], verbose=False):\n",
        "        for pos in positions:\n",
        "            z[torch.arange(orig_tokens.N), orig_tokens.word_idx[pos]] = source_act[\n",
        "                torch.arange(patch_tokens.N), patch_tokens.word_idx[pos]\n",
        "            ]\n",
        "        return z\n",
        "\n",
        "    # Puts all head names into a list.\n",
        "    sender_hooks = []\n",
        "    for layer, head_idx in sender_heads:\n",
        "        if head_idx is None:\n",
        "            sender_hooks.append((f\"blocks.{layer}.hook_mlp_out\", None))\n",
        "\n",
        "        else:\n",
        "            sender_hooks.append((f\"blocks.{layer}.attn.hook_result\", head_idx))\n",
        "\n",
        "    # Makes lists of the names only of the sender and receiver hooks.\n",
        "    sender_hook_names = [x[0] for x in sender_hooks]\n",
        "    receiver_hook_names = [x[0] for x in receiver_hooks]\n",
        "\n",
        "    # Forward pass A (in https://arxiv.org/pdf/2211.00593.pdf)\n",
        "    # Similar to running with \"clean\" prompts\n",
        "    sender_cache = {}\n",
        "    model.reset_hooks()\n",
        "    # This portion is not used.\n",
        "    # for hook in extra_hooks:\n",
        "    #     model.add_hook(*hook)\n",
        "    model.cache_some(\n",
        "        sender_cache, lambda x: x in sender_hook_names, suppress_warning=True\n",
        "    )\n",
        "    source_logits = model(patch_tokens.toks.long())\n",
        "\n",
        "    # Forward pass B\n",
        "    # Similar to running on \"corrupted\" prompts\n",
        "    target_cache = {}\n",
        "    model.reset_hooks()\n",
        "    # for hook in extra_hooks:\n",
        "    #     model.add_hook(*hook)\n",
        "    model.cache_all(target_cache, suppress_warning=True)\n",
        "    target_logits = model(orig_tokens.toks.long())\n",
        "\n",
        "    # Forward pass C\n",
        "    # Cache the receiver hooks\n",
        "    # (adding these hooks first means we save values BEFORE they are overwritten)\n",
        "    receiver_cache = {}\n",
        "    model.reset_hooks()\n",
        "    model.cache_some(\n",
        "        receiver_cache,\n",
        "        lambda x: x in receiver_hook_names,\n",
        "        suppress_warning=True,\n",
        "        verbose=False,\n",
        "    )\n",
        "\n",
        "    # \"Freeze\" intermediate heads to their orig_tokens values\n",
        "    # Effectively, for each layer and head, we are patching in the activations from run B\n",
        "    # (e.g. the \"corrupted\" prompts), which is equivalent to freezing their behavior to \n",
        "    # that of the \"corrupted\" prompts\n",
        "    for layer in range(model.cfg.n_layers):\n",
        "        for head_idx in range(model.cfg.n_heads):\n",
        "            for hook_template in [\n",
        "                \"blocks.{}.attn.hook_q\",\n",
        "                \"blocks.{}.attn.hook_k\",\n",
        "                \"blocks.{}.attn.hook_v\",\n",
        "            ]:\n",
        "                hook_name = hook_template.format(layer)\n",
        "\n",
        "                # this won't run in the default case\n",
        "                # if have_internal_interactions and hook_name in receiver_hook_names:\n",
        "                #     continue # stops the rest of the loop's code and goes to next iteration\n",
        "\n",
        "                hook = get_act_hook(\n",
        "                    patch_all,\n",
        "                    alt_act=target_cache[hook_name],\n",
        "                    idx=head_idx,\n",
        "                    dim=2 if head_idx is not None else None,\n",
        "                    name=hook_name,\n",
        "                )\n",
        "                model.add_hook(hook_name, hook)\n",
        "\n",
        "        # also won't run in the default case\n",
        "        # if freeze_mlps:\n",
        "        #     hook_name = f\"blocks.{layer}.hook_mlp_out\"\n",
        "        #     hook = get_act_hook(\n",
        "        #         patch_all,\n",
        "        #         alt_act=target_cache[hook_name],\n",
        "        #         idx=None,\n",
        "        #         dim=None,\n",
        "        #         name=hook_name,\n",
        "        #     )\n",
        "        #     model.add_hook(hook_name, hook)\n",
        "\n",
        "    # for hook in extra_hooks:\n",
        "    #     model.add_hook(*hook)\n",
        "\n",
        "    # These hooks will overwrite the freezing, for the sender heads - this should be forward pass C\n",
        "    # In more detail, the sender heads will be patched with the new or \"clean\" activations, and the MLPs\n",
        "    # and layer norms will be recomputed. Frozen heads won't be affected.\n",
        "    for hook_name, head_idx in sender_hooks:\n",
        "        assert not torch.allclose(sender_cache[hook_name], target_cache[hook_name]), (\n",
        "            hook_name,\n",
        "            head_idx,\n",
        "        )\n",
        "        hook = get_act_hook(\n",
        "            partial(patch_positions, positions=positions),\n",
        "            alt_act=sender_cache[hook_name],\n",
        "            idx=head_idx,\n",
        "            dim=2 if head_idx is not None else None,\n",
        "            name=hook_name,\n",
        "        )\n",
        "        model.add_hook(hook_name, hook)\n",
        "    receiver_logits = model(orig_tokens.toks.long())\n",
        "\n",
        "    # Add (or return) all the hooks needed for forward pass D\n",
        "    model.reset_hooks()\n",
        "    hooks = []\n",
        "\n",
        "    # Not used\n",
        "    # for hook in extra_hooks:\n",
        "    #     hooks.append(hook)\n",
        "\n",
        "    for hook_name, head_idx in receiver_hooks:\n",
        "        for pos in positions:\n",
        "            if torch.allclose(\n",
        "                receiver_cache[hook_name][torch.arange(orig_tokens.N), orig_tokens.word_idx[pos]],\n",
        "                target_cache[hook_name][torch.arange(orig_tokens.N), orig_tokens.word_idx[pos]],\n",
        "            ):\n",
        "                warnings.warn(\"Torch all close for {}\".format(hook_name))\n",
        "        \n",
        "        # Get the cached receiver activations (cached before getting overwritten)\n",
        "        hook = get_act_hook(\n",
        "            partial(patch_positions, positions=positions),\n",
        "            alt_act=receiver_cache[hook_name],\n",
        "            idx=head_idx,\n",
        "            dim=2 if head_idx is not None else None,\n",
        "            name=hook_name,\n",
        "        )\n",
        "        hooks.append((hook_name, hook))\n",
        "\n",
        "    model.reset_hooks()\n",
        "    if return_hooks:\n",
        "        return hooks\n",
        "    else:\n",
        "        for hook_name, hook in hooks:\n",
        "            model.add_hook(hook_name, hook)\n",
        "        return model"
      ]
    },
    {
      "cell_type": "code",
      "execution_count": null,
      "metadata": {
        "id": "-Q_Czb2bjTZe"
      },
      "outputs": [],
      "source": []
    }
  ],
  "metadata": {
    "accelerator": "GPU",
    "colab": {
      "provenance": [],
      "toc_visible": true
    },
    "gpuClass": "premium",
    "kernelspec": {
      "display_name": "Python 3",
      "name": "python3"
    },
    "language_info": {
      "codemirror_mode": {
        "name": "ipython",
        "version": 3
      },
      "file_extension": ".py",
      "mimetype": "text/x-python",
      "name": "python",
      "nbconvert_exporter": "python",
      "pygments_lexer": "ipython3",
      "version": "3.8.16"
    },
    "widgets": {
      "application/vnd.jupyter.widget-state+json": {
        "00cb5a0118bb438fb38ca3bd304a3016": {
          "model_module": "@jupyter-widgets/controls",
          "model_module_version": "1.5.0",
          "model_name": "FloatProgressModel",
          "state": {
            "_dom_classes": [],
            "_model_module": "@jupyter-widgets/controls",
            "_model_module_version": "1.5.0",
            "_model_name": "FloatProgressModel",
            "_view_count": null,
            "_view_module": "@jupyter-widgets/controls",
            "_view_module_version": "1.5.0",
            "_view_name": "ProgressView",
            "bar_style": "success",
            "description": "",
            "description_tooltip": null,
            "layout": "IPY_MODEL_b7021c7fad1643368f77f69290c1b5ae",
            "max": 144,
            "min": 0,
            "orientation": "horizontal",
            "style": "IPY_MODEL_65070d65c6bd4e47ae25410c379b0e2b",
            "value": 144
          }
        },
        "03d73123d0644c8c81d7a0b3f810b8da": {
          "model_module": "@jupyter-widgets/controls",
          "model_module_version": "1.5.0",
          "model_name": "DescriptionStyleModel",
          "state": {
            "_model_module": "@jupyter-widgets/controls",
            "_model_module_version": "1.5.0",
            "_model_name": "DescriptionStyleModel",
            "_view_count": null,
            "_view_module": "@jupyter-widgets/base",
            "_view_module_version": "1.2.0",
            "_view_name": "StyleView",
            "description_width": ""
          }
        },
        "044171c855c240ff923b69b4e27e1538": {
          "model_module": "@jupyter-widgets/base",
          "model_module_version": "1.2.0",
          "model_name": "LayoutModel",
          "state": {
            "_model_module": "@jupyter-widgets/base",
            "_model_module_version": "1.2.0",
            "_model_name": "LayoutModel",
            "_view_count": null,
            "_view_module": "@jupyter-widgets/base",
            "_view_module_version": "1.2.0",
            "_view_name": "LayoutView",
            "align_content": null,
            "align_items": null,
            "align_self": null,
            "border": null,
            "bottom": null,
            "display": null,
            "flex": null,
            "flex_flow": null,
            "grid_area": null,
            "grid_auto_columns": null,
            "grid_auto_flow": null,
            "grid_auto_rows": null,
            "grid_column": null,
            "grid_gap": null,
            "grid_row": null,
            "grid_template_areas": null,
            "grid_template_columns": null,
            "grid_template_rows": null,
            "height": null,
            "justify_content": null,
            "justify_items": null,
            "left": null,
            "margin": null,
            "max_height": null,
            "max_width": null,
            "min_height": null,
            "min_width": null,
            "object_fit": null,
            "object_position": null,
            "order": null,
            "overflow": null,
            "overflow_x": null,
            "overflow_y": null,
            "padding": null,
            "right": null,
            "top": null,
            "visibility": null,
            "width": null
          }
        },
        "05e002ce5986414c816e4435c631404b": {
          "model_module": "@jupyter-widgets/base",
          "model_module_version": "1.2.0",
          "model_name": "LayoutModel",
          "state": {
            "_model_module": "@jupyter-widgets/base",
            "_model_module_version": "1.2.0",
            "_model_name": "LayoutModel",
            "_view_count": null,
            "_view_module": "@jupyter-widgets/base",
            "_view_module_version": "1.2.0",
            "_view_name": "LayoutView",
            "align_content": null,
            "align_items": null,
            "align_self": null,
            "border": null,
            "bottom": null,
            "display": null,
            "flex": null,
            "flex_flow": null,
            "grid_area": null,
            "grid_auto_columns": null,
            "grid_auto_flow": null,
            "grid_auto_rows": null,
            "grid_column": null,
            "grid_gap": null,
            "grid_row": null,
            "grid_template_areas": null,
            "grid_template_columns": null,
            "grid_template_rows": null,
            "height": null,
            "justify_content": null,
            "justify_items": null,
            "left": null,
            "margin": null,
            "max_height": null,
            "max_width": null,
            "min_height": null,
            "min_width": null,
            "object_fit": null,
            "object_position": null,
            "order": null,
            "overflow": null,
            "overflow_x": null,
            "overflow_y": null,
            "padding": null,
            "right": null,
            "top": null,
            "visibility": null,
            "width": null
          }
        },
        "06227bde4fac46bbb093003e74953cad": {
          "model_module": "@jupyter-widgets/base",
          "model_module_version": "1.2.0",
          "model_name": "LayoutModel",
          "state": {
            "_model_module": "@jupyter-widgets/base",
            "_model_module_version": "1.2.0",
            "_model_name": "LayoutModel",
            "_view_count": null,
            "_view_module": "@jupyter-widgets/base",
            "_view_module_version": "1.2.0",
            "_view_name": "LayoutView",
            "align_content": null,
            "align_items": null,
            "align_self": null,
            "border": null,
            "bottom": null,
            "display": null,
            "flex": null,
            "flex_flow": null,
            "grid_area": null,
            "grid_auto_columns": null,
            "grid_auto_flow": null,
            "grid_auto_rows": null,
            "grid_column": null,
            "grid_gap": null,
            "grid_row": null,
            "grid_template_areas": null,
            "grid_template_columns": null,
            "grid_template_rows": null,
            "height": null,
            "justify_content": null,
            "justify_items": null,
            "left": null,
            "margin": null,
            "max_height": null,
            "max_width": null,
            "min_height": null,
            "min_width": null,
            "object_fit": null,
            "object_position": null,
            "order": null,
            "overflow": null,
            "overflow_x": null,
            "overflow_y": null,
            "padding": null,
            "right": null,
            "top": null,
            "visibility": null,
            "width": null
          }
        },
        "063c166bc4b44f0292ca6ff9133cd0b7": {
          "model_module": "@jupyter-widgets/base",
          "model_module_version": "1.2.0",
          "model_name": "LayoutModel",
          "state": {
            "_model_module": "@jupyter-widgets/base",
            "_model_module_version": "1.2.0",
            "_model_name": "LayoutModel",
            "_view_count": null,
            "_view_module": "@jupyter-widgets/base",
            "_view_module_version": "1.2.0",
            "_view_name": "LayoutView",
            "align_content": null,
            "align_items": null,
            "align_self": null,
            "border": null,
            "bottom": null,
            "display": null,
            "flex": null,
            "flex_flow": null,
            "grid_area": null,
            "grid_auto_columns": null,
            "grid_auto_flow": null,
            "grid_auto_rows": null,
            "grid_column": null,
            "grid_gap": null,
            "grid_row": null,
            "grid_template_areas": null,
            "grid_template_columns": null,
            "grid_template_rows": null,
            "height": null,
            "justify_content": null,
            "justify_items": null,
            "left": null,
            "margin": null,
            "max_height": null,
            "max_width": null,
            "min_height": null,
            "min_width": null,
            "object_fit": null,
            "object_position": null,
            "order": null,
            "overflow": null,
            "overflow_x": null,
            "overflow_y": null,
            "padding": null,
            "right": null,
            "top": null,
            "visibility": null,
            "width": null
          }
        },
        "077b84575f3c4ca5955980a81949216b": {
          "model_module": "@jupyter-widgets/base",
          "model_module_version": "1.2.0",
          "model_name": "LayoutModel",
          "state": {
            "_model_module": "@jupyter-widgets/base",
            "_model_module_version": "1.2.0",
            "_model_name": "LayoutModel",
            "_view_count": null,
            "_view_module": "@jupyter-widgets/base",
            "_view_module_version": "1.2.0",
            "_view_name": "LayoutView",
            "align_content": null,
            "align_items": null,
            "align_self": null,
            "border": null,
            "bottom": null,
            "display": null,
            "flex": null,
            "flex_flow": null,
            "grid_area": null,
            "grid_auto_columns": null,
            "grid_auto_flow": null,
            "grid_auto_rows": null,
            "grid_column": null,
            "grid_gap": null,
            "grid_row": null,
            "grid_template_areas": null,
            "grid_template_columns": null,
            "grid_template_rows": null,
            "height": null,
            "justify_content": null,
            "justify_items": null,
            "left": null,
            "margin": null,
            "max_height": null,
            "max_width": null,
            "min_height": null,
            "min_width": null,
            "object_fit": null,
            "object_position": null,
            "order": null,
            "overflow": null,
            "overflow_x": null,
            "overflow_y": null,
            "padding": null,
            "right": null,
            "top": null,
            "visibility": null,
            "width": null
          }
        },
        "07cbbe5fb260457987b2464bb84268fe": {
          "model_module": "@jupyter-widgets/controls",
          "model_module_version": "1.5.0",
          "model_name": "DescriptionStyleModel",
          "state": {
            "_model_module": "@jupyter-widgets/controls",
            "_model_module_version": "1.5.0",
            "_model_name": "DescriptionStyleModel",
            "_view_count": null,
            "_view_module": "@jupyter-widgets/base",
            "_view_module_version": "1.2.0",
            "_view_name": "StyleView",
            "description_width": ""
          }
        },
        "0953726feb674665894bddd714143d65": {
          "model_module": "@jupyter-widgets/controls",
          "model_module_version": "1.5.0",
          "model_name": "HTMLModel",
          "state": {
            "_dom_classes": [],
            "_model_module": "@jupyter-widgets/controls",
            "_model_module_version": "1.5.0",
            "_model_name": "HTMLModel",
            "_view_count": null,
            "_view_module": "@jupyter-widgets/controls",
            "_view_module_version": "1.5.0",
            "_view_name": "HTMLView",
            "description": "",
            "description_tooltip": null,
            "layout": "IPY_MODEL_70f4de7a068b43dc80053d7508ae9cf4",
            "placeholder": "​",
            "style": "IPY_MODEL_f80833a8b8f442409dec918c4aba25c1",
            "value": "100%"
          }
        },
        "0abe281fc6e5443e87a9a7d28419783a": {
          "model_module": "@jupyter-widgets/base",
          "model_module_version": "1.2.0",
          "model_name": "LayoutModel",
          "state": {
            "_model_module": "@jupyter-widgets/base",
            "_model_module_version": "1.2.0",
            "_model_name": "LayoutModel",
            "_view_count": null,
            "_view_module": "@jupyter-widgets/base",
            "_view_module_version": "1.2.0",
            "_view_name": "LayoutView",
            "align_content": null,
            "align_items": null,
            "align_self": null,
            "border": null,
            "bottom": null,
            "display": null,
            "flex": null,
            "flex_flow": null,
            "grid_area": null,
            "grid_auto_columns": null,
            "grid_auto_flow": null,
            "grid_auto_rows": null,
            "grid_column": null,
            "grid_gap": null,
            "grid_row": null,
            "grid_template_areas": null,
            "grid_template_columns": null,
            "grid_template_rows": null,
            "height": null,
            "justify_content": null,
            "justify_items": null,
            "left": null,
            "margin": null,
            "max_height": null,
            "max_width": null,
            "min_height": null,
            "min_width": null,
            "object_fit": null,
            "object_position": null,
            "order": null,
            "overflow": null,
            "overflow_x": null,
            "overflow_y": null,
            "padding": null,
            "right": null,
            "top": null,
            "visibility": null,
            "width": null
          }
        },
        "0bf040751e6841a79713aa8862ca5224": {
          "model_module": "@jupyter-widgets/controls",
          "model_module_version": "1.5.0",
          "model_name": "HTMLModel",
          "state": {
            "_dom_classes": [],
            "_model_module": "@jupyter-widgets/controls",
            "_model_module_version": "1.5.0",
            "_model_name": "HTMLModel",
            "_view_count": null,
            "_view_module": "@jupyter-widgets/controls",
            "_view_module_version": "1.5.0",
            "_view_name": "HTMLView",
            "description": "",
            "description_tooltip": null,
            "layout": "IPY_MODEL_b9c8ade472944666a4cc4f6793ec0f35",
            "placeholder": "​",
            "style": "IPY_MODEL_3ba2350417e54744b9ae1c5567362202",
            "value": " 144/144 [00:05&lt;00:00, 19.52it/s]"
          }
        },
        "0c1eb5b72748416ba1a78a06543a7bb8": {
          "model_module": "@jupyter-widgets/controls",
          "model_module_version": "1.5.0",
          "model_name": "HTMLModel",
          "state": {
            "_dom_classes": [],
            "_model_module": "@jupyter-widgets/controls",
            "_model_module_version": "1.5.0",
            "_model_name": "HTMLModel",
            "_view_count": null,
            "_view_module": "@jupyter-widgets/controls",
            "_view_module_version": "1.5.0",
            "_view_name": "HTMLView",
            "description": "",
            "description_tooltip": null,
            "layout": "IPY_MODEL_d4f67196e74e4ff9b5df7045ed98b17a",
            "placeholder": "​",
            "style": "IPY_MODEL_f5947be879d44715846b197614974298",
            "value": "100%"
          }
        },
        "0d12e07a6cd747588e0d8360a4d9a8d5": {
          "model_module": "@jupyter-widgets/controls",
          "model_module_version": "1.5.0",
          "model_name": "HTMLModel",
          "state": {
            "_dom_classes": [],
            "_model_module": "@jupyter-widgets/controls",
            "_model_module_version": "1.5.0",
            "_model_name": "HTMLModel",
            "_view_count": null,
            "_view_module": "@jupyter-widgets/controls",
            "_view_module_version": "1.5.0",
            "_view_name": "HTMLView",
            "description": "",
            "description_tooltip": null,
            "layout": "IPY_MODEL_5530412cffde446ba35ae281cbebf6c2",
            "placeholder": "​",
            "style": "IPY_MODEL_4821854623904c838635611c3725f278",
            "value": " 180/180 [00:06&lt;00:00, 28.90it/s]"
          }
        },
        "0ebe50c7f7404ef0926e461dc673b1c0": {
          "model_module": "@jupyter-widgets/controls",
          "model_module_version": "1.5.0",
          "model_name": "HTMLModel",
          "state": {
            "_dom_classes": [],
            "_model_module": "@jupyter-widgets/controls",
            "_model_module_version": "1.5.0",
            "_model_name": "HTMLModel",
            "_view_count": null,
            "_view_module": "@jupyter-widgets/controls",
            "_view_module_version": "1.5.0",
            "_view_name": "HTMLView",
            "description": "",
            "description_tooltip": null,
            "layout": "IPY_MODEL_8188934c142d4862aaf6559a5e1f60e2",
            "placeholder": "​",
            "style": "IPY_MODEL_25fbd835426d4ebab9eef02ed5cebc69",
            "value": "100%"
          }
        },
        "0ff7c562d0fe412595ffa3badb275e71": {
          "model_module": "@jupyter-widgets/controls",
          "model_module_version": "1.5.0",
          "model_name": "DescriptionStyleModel",
          "state": {
            "_model_module": "@jupyter-widgets/controls",
            "_model_module_version": "1.5.0",
            "_model_name": "DescriptionStyleModel",
            "_view_count": null,
            "_view_module": "@jupyter-widgets/base",
            "_view_module_version": "1.2.0",
            "_view_name": "StyleView",
            "description_width": ""
          }
        },
        "14d3b49b8dd542d298fef799a774ba91": {
          "model_module": "@jupyter-widgets/controls",
          "model_module_version": "1.5.0",
          "model_name": "DescriptionStyleModel",
          "state": {
            "_model_module": "@jupyter-widgets/controls",
            "_model_module_version": "1.5.0",
            "_model_name": "DescriptionStyleModel",
            "_view_count": null,
            "_view_module": "@jupyter-widgets/base",
            "_view_module_version": "1.2.0",
            "_view_name": "StyleView",
            "description_width": ""
          }
        },
        "15878b0ec9a247aca534f81378ff5fca": {
          "model_module": "@jupyter-widgets/controls",
          "model_module_version": "1.5.0",
          "model_name": "HTMLModel",
          "state": {
            "_dom_classes": [],
            "_model_module": "@jupyter-widgets/controls",
            "_model_module_version": "1.5.0",
            "_model_name": "HTMLModel",
            "_view_count": null,
            "_view_module": "@jupyter-widgets/controls",
            "_view_module_version": "1.5.0",
            "_view_name": "HTMLView",
            "description": "",
            "description_tooltip": null,
            "layout": "IPY_MODEL_184ffa21537a459789826d1348552f76",
            "placeholder": "​",
            "style": "IPY_MODEL_54171321fd0c470f84f1fe58eaccfa6a",
            "value": " 144/144 [00:06&lt;00:00, 20.08it/s]"
          }
        },
        "1620fe07e0c14088bc03ec51f6383846": {
          "model_module": "@jupyter-widgets/controls",
          "model_module_version": "1.5.0",
          "model_name": "ProgressStyleModel",
          "state": {
            "_model_module": "@jupyter-widgets/controls",
            "_model_module_version": "1.5.0",
            "_model_name": "ProgressStyleModel",
            "_view_count": null,
            "_view_module": "@jupyter-widgets/base",
            "_view_module_version": "1.2.0",
            "_view_name": "StyleView",
            "bar_color": null,
            "description_width": ""
          }
        },
        "184ffa21537a459789826d1348552f76": {
          "model_module": "@jupyter-widgets/base",
          "model_module_version": "1.2.0",
          "model_name": "LayoutModel",
          "state": {
            "_model_module": "@jupyter-widgets/base",
            "_model_module_version": "1.2.0",
            "_model_name": "LayoutModel",
            "_view_count": null,
            "_view_module": "@jupyter-widgets/base",
            "_view_module_version": "1.2.0",
            "_view_name": "LayoutView",
            "align_content": null,
            "align_items": null,
            "align_self": null,
            "border": null,
            "bottom": null,
            "display": null,
            "flex": null,
            "flex_flow": null,
            "grid_area": null,
            "grid_auto_columns": null,
            "grid_auto_flow": null,
            "grid_auto_rows": null,
            "grid_column": null,
            "grid_gap": null,
            "grid_row": null,
            "grid_template_areas": null,
            "grid_template_columns": null,
            "grid_template_rows": null,
            "height": null,
            "justify_content": null,
            "justify_items": null,
            "left": null,
            "margin": null,
            "max_height": null,
            "max_width": null,
            "min_height": null,
            "min_width": null,
            "object_fit": null,
            "object_position": null,
            "order": null,
            "overflow": null,
            "overflow_x": null,
            "overflow_y": null,
            "padding": null,
            "right": null,
            "top": null,
            "visibility": null,
            "width": null
          }
        },
        "1af9fa979cae41d4b95b3607e4969f80": {
          "model_module": "@jupyter-widgets/base",
          "model_module_version": "1.2.0",
          "model_name": "LayoutModel",
          "state": {
            "_model_module": "@jupyter-widgets/base",
            "_model_module_version": "1.2.0",
            "_model_name": "LayoutModel",
            "_view_count": null,
            "_view_module": "@jupyter-widgets/base",
            "_view_module_version": "1.2.0",
            "_view_name": "LayoutView",
            "align_content": null,
            "align_items": null,
            "align_self": null,
            "border": null,
            "bottom": null,
            "display": null,
            "flex": null,
            "flex_flow": null,
            "grid_area": null,
            "grid_auto_columns": null,
            "grid_auto_flow": null,
            "grid_auto_rows": null,
            "grid_column": null,
            "grid_gap": null,
            "grid_row": null,
            "grid_template_areas": null,
            "grid_template_columns": null,
            "grid_template_rows": null,
            "height": null,
            "justify_content": null,
            "justify_items": null,
            "left": null,
            "margin": null,
            "max_height": null,
            "max_width": null,
            "min_height": null,
            "min_width": null,
            "object_fit": null,
            "object_position": null,
            "order": null,
            "overflow": null,
            "overflow_x": null,
            "overflow_y": null,
            "padding": null,
            "right": null,
            "top": null,
            "visibility": null,
            "width": null
          }
        },
        "1b57fa43b71a4aba9a1c48b32e090a21": {
          "model_module": "@jupyter-widgets/base",
          "model_module_version": "1.2.0",
          "model_name": "LayoutModel",
          "state": {
            "_model_module": "@jupyter-widgets/base",
            "_model_module_version": "1.2.0",
            "_model_name": "LayoutModel",
            "_view_count": null,
            "_view_module": "@jupyter-widgets/base",
            "_view_module_version": "1.2.0",
            "_view_name": "LayoutView",
            "align_content": null,
            "align_items": null,
            "align_self": null,
            "border": null,
            "bottom": null,
            "display": null,
            "flex": null,
            "flex_flow": null,
            "grid_area": null,
            "grid_auto_columns": null,
            "grid_auto_flow": null,
            "grid_auto_rows": null,
            "grid_column": null,
            "grid_gap": null,
            "grid_row": null,
            "grid_template_areas": null,
            "grid_template_columns": null,
            "grid_template_rows": null,
            "height": null,
            "justify_content": null,
            "justify_items": null,
            "left": null,
            "margin": null,
            "max_height": null,
            "max_width": null,
            "min_height": null,
            "min_width": null,
            "object_fit": null,
            "object_position": null,
            "order": null,
            "overflow": null,
            "overflow_x": null,
            "overflow_y": null,
            "padding": null,
            "right": null,
            "top": null,
            "visibility": null,
            "width": null
          }
        },
        "1d7716c911ef47caa5b1875234fb9ed8": {
          "model_module": "@jupyter-widgets/base",
          "model_module_version": "1.2.0",
          "model_name": "LayoutModel",
          "state": {
            "_model_module": "@jupyter-widgets/base",
            "_model_module_version": "1.2.0",
            "_model_name": "LayoutModel",
            "_view_count": null,
            "_view_module": "@jupyter-widgets/base",
            "_view_module_version": "1.2.0",
            "_view_name": "LayoutView",
            "align_content": null,
            "align_items": null,
            "align_self": null,
            "border": null,
            "bottom": null,
            "display": null,
            "flex": null,
            "flex_flow": null,
            "grid_area": null,
            "grid_auto_columns": null,
            "grid_auto_flow": null,
            "grid_auto_rows": null,
            "grid_column": null,
            "grid_gap": null,
            "grid_row": null,
            "grid_template_areas": null,
            "grid_template_columns": null,
            "grid_template_rows": null,
            "height": null,
            "justify_content": null,
            "justify_items": null,
            "left": null,
            "margin": null,
            "max_height": null,
            "max_width": null,
            "min_height": null,
            "min_width": null,
            "object_fit": null,
            "object_position": null,
            "order": null,
            "overflow": null,
            "overflow_x": null,
            "overflow_y": null,
            "padding": null,
            "right": null,
            "top": null,
            "visibility": null,
            "width": null
          }
        },
        "1d9762ab63cd4bdf8a40c92c0a3d17a4": {
          "model_module": "@jupyter-widgets/controls",
          "model_module_version": "1.5.0",
          "model_name": "HBoxModel",
          "state": {
            "_dom_classes": [],
            "_model_module": "@jupyter-widgets/controls",
            "_model_module_version": "1.5.0",
            "_model_name": "HBoxModel",
            "_view_count": null,
            "_view_module": "@jupyter-widgets/controls",
            "_view_module_version": "1.5.0",
            "_view_name": "HBoxView",
            "box_style": "",
            "children": [
              "IPY_MODEL_71944864009f4728a831eb00192bcc24",
              "IPY_MODEL_9cdfb071b7924b1b92c45bbc3b77fdab",
              "IPY_MODEL_f031bcd482304cf9bbe669a1a1a92ff6"
            ],
            "layout": "IPY_MODEL_b151ec6b8b9543ee9fda04de3da221b5"
          }
        },
        "1ded46589d814836a88da906225cda46": {
          "model_module": "@jupyter-widgets/controls",
          "model_module_version": "1.5.0",
          "model_name": "HTMLModel",
          "state": {
            "_dom_classes": [],
            "_model_module": "@jupyter-widgets/controls",
            "_model_module_version": "1.5.0",
            "_model_name": "HTMLModel",
            "_view_count": null,
            "_view_module": "@jupyter-widgets/controls",
            "_view_module_version": "1.5.0",
            "_view_name": "HTMLView",
            "description": "",
            "description_tooltip": null,
            "layout": "IPY_MODEL_64387ba7a3b04f5f8d844ee43146212d",
            "placeholder": "​",
            "style": "IPY_MODEL_3c84b4575d8d45c1866f771bb081aeb4",
            "value": " 144/144 [00:05&lt;00:00, 30.63it/s]"
          }
        },
        "1e837c99ea954afea4ad0fb78656c437": {
          "model_module": "@jupyter-widgets/controls",
          "model_module_version": "1.5.0",
          "model_name": "ProgressStyleModel",
          "state": {
            "_model_module": "@jupyter-widgets/controls",
            "_model_module_version": "1.5.0",
            "_model_name": "ProgressStyleModel",
            "_view_count": null,
            "_view_module": "@jupyter-widgets/base",
            "_view_module_version": "1.2.0",
            "_view_name": "StyleView",
            "bar_color": null,
            "description_width": ""
          }
        },
        "1e85072a9aaa4fea99a0f6ea760901dd": {
          "model_module": "@jupyter-widgets/controls",
          "model_module_version": "1.5.0",
          "model_name": "DescriptionStyleModel",
          "state": {
            "_model_module": "@jupyter-widgets/controls",
            "_model_module_version": "1.5.0",
            "_model_name": "DescriptionStyleModel",
            "_view_count": null,
            "_view_module": "@jupyter-widgets/base",
            "_view_module_version": "1.2.0",
            "_view_name": "StyleView",
            "description_width": ""
          }
        },
        "21ec4ae4727f4308868d2922abae7dc7": {
          "model_module": "@jupyter-widgets/controls",
          "model_module_version": "1.5.0",
          "model_name": "FloatProgressModel",
          "state": {
            "_dom_classes": [],
            "_model_module": "@jupyter-widgets/controls",
            "_model_module_version": "1.5.0",
            "_model_name": "FloatProgressModel",
            "_view_count": null,
            "_view_module": "@jupyter-widgets/controls",
            "_view_module_version": "1.5.0",
            "_view_name": "ProgressView",
            "bar_style": "success",
            "description": "",
            "description_tooltip": null,
            "layout": "IPY_MODEL_1af9fa979cae41d4b95b3607e4969f80",
            "max": 180,
            "min": 0,
            "orientation": "horizontal",
            "style": "IPY_MODEL_da24d7c9b66f42d7a5b0a2abff104d68",
            "value": 180
          }
        },
        "22a664b1fd2a4f9fbfd24f1081746fc0": {
          "model_module": "@jupyter-widgets/base",
          "model_module_version": "1.2.0",
          "model_name": "LayoutModel",
          "state": {
            "_model_module": "@jupyter-widgets/base",
            "_model_module_version": "1.2.0",
            "_model_name": "LayoutModel",
            "_view_count": null,
            "_view_module": "@jupyter-widgets/base",
            "_view_module_version": "1.2.0",
            "_view_name": "LayoutView",
            "align_content": null,
            "align_items": null,
            "align_self": null,
            "border": null,
            "bottom": null,
            "display": null,
            "flex": null,
            "flex_flow": null,
            "grid_area": null,
            "grid_auto_columns": null,
            "grid_auto_flow": null,
            "grid_auto_rows": null,
            "grid_column": null,
            "grid_gap": null,
            "grid_row": null,
            "grid_template_areas": null,
            "grid_template_columns": null,
            "grid_template_rows": null,
            "height": null,
            "justify_content": null,
            "justify_items": null,
            "left": null,
            "margin": null,
            "max_height": null,
            "max_width": null,
            "min_height": null,
            "min_width": null,
            "object_fit": null,
            "object_position": null,
            "order": null,
            "overflow": null,
            "overflow_x": null,
            "overflow_y": null,
            "padding": null,
            "right": null,
            "top": null,
            "visibility": null,
            "width": null
          }
        },
        "234abcfad26c4c04a5b66f76a7700401": {
          "model_module": "@jupyter-widgets/base",
          "model_module_version": "1.2.0",
          "model_name": "LayoutModel",
          "state": {
            "_model_module": "@jupyter-widgets/base",
            "_model_module_version": "1.2.0",
            "_model_name": "LayoutModel",
            "_view_count": null,
            "_view_module": "@jupyter-widgets/base",
            "_view_module_version": "1.2.0",
            "_view_name": "LayoutView",
            "align_content": null,
            "align_items": "center",
            "align_self": null,
            "border": null,
            "bottom": null,
            "display": "flex",
            "flex": null,
            "flex_flow": "column",
            "grid_area": null,
            "grid_auto_columns": null,
            "grid_auto_flow": null,
            "grid_auto_rows": null,
            "grid_column": null,
            "grid_gap": null,
            "grid_row": null,
            "grid_template_areas": null,
            "grid_template_columns": null,
            "grid_template_rows": null,
            "height": null,
            "justify_content": null,
            "justify_items": null,
            "left": null,
            "margin": null,
            "max_height": null,
            "max_width": null,
            "min_height": null,
            "min_width": null,
            "object_fit": null,
            "object_position": null,
            "order": null,
            "overflow": null,
            "overflow_x": null,
            "overflow_y": null,
            "padding": null,
            "right": null,
            "top": null,
            "visibility": null,
            "width": "50%"
          }
        },
        "25fbd835426d4ebab9eef02ed5cebc69": {
          "model_module": "@jupyter-widgets/controls",
          "model_module_version": "1.5.0",
          "model_name": "DescriptionStyleModel",
          "state": {
            "_model_module": "@jupyter-widgets/controls",
            "_model_module_version": "1.5.0",
            "_model_name": "DescriptionStyleModel",
            "_view_count": null,
            "_view_module": "@jupyter-widgets/base",
            "_view_module_version": "1.2.0",
            "_view_name": "StyleView",
            "description_width": ""
          }
        },
        "28e8be6b8d7245c395afa2b32f21470c": {
          "model_module": "@jupyter-widgets/base",
          "model_module_version": "1.2.0",
          "model_name": "LayoutModel",
          "state": {
            "_model_module": "@jupyter-widgets/base",
            "_model_module_version": "1.2.0",
            "_model_name": "LayoutModel",
            "_view_count": null,
            "_view_module": "@jupyter-widgets/base",
            "_view_module_version": "1.2.0",
            "_view_name": "LayoutView",
            "align_content": null,
            "align_items": null,
            "align_self": null,
            "border": null,
            "bottom": null,
            "display": null,
            "flex": null,
            "flex_flow": null,
            "grid_area": null,
            "grid_auto_columns": null,
            "grid_auto_flow": null,
            "grid_auto_rows": null,
            "grid_column": null,
            "grid_gap": null,
            "grid_row": null,
            "grid_template_areas": null,
            "grid_template_columns": null,
            "grid_template_rows": null,
            "height": null,
            "justify_content": null,
            "justify_items": null,
            "left": null,
            "margin": null,
            "max_height": null,
            "max_width": null,
            "min_height": null,
            "min_width": null,
            "object_fit": null,
            "object_position": null,
            "order": null,
            "overflow": null,
            "overflow_x": null,
            "overflow_y": null,
            "padding": null,
            "right": null,
            "top": null,
            "visibility": null,
            "width": null
          }
        },
        "2979a00ad822456d80251bbc65086580": {
          "model_module": "@jupyter-widgets/controls",
          "model_module_version": "1.5.0",
          "model_name": "HBoxModel",
          "state": {
            "_dom_classes": [],
            "_model_module": "@jupyter-widgets/controls",
            "_model_module_version": "1.5.0",
            "_model_name": "HBoxModel",
            "_view_count": null,
            "_view_module": "@jupyter-widgets/controls",
            "_view_module_version": "1.5.0",
            "_view_name": "HBoxView",
            "box_style": "",
            "children": [
              "IPY_MODEL_0ebe50c7f7404ef0926e461dc673b1c0",
              "IPY_MODEL_d11dbd9d6497460580184f1b0050645e",
              "IPY_MODEL_15878b0ec9a247aca534f81378ff5fca"
            ],
            "layout": "IPY_MODEL_7ac670a352d44e51b9a3446b219edb21"
          }
        },
        "2b4ed578eab0412cab5191a1cff83364": {
          "model_module": "@jupyter-widgets/controls",
          "model_module_version": "1.5.0",
          "model_name": "HBoxModel",
          "state": {
            "_dom_classes": [],
            "_model_module": "@jupyter-widgets/controls",
            "_model_module_version": "1.5.0",
            "_model_name": "HBoxModel",
            "_view_count": null,
            "_view_module": "@jupyter-widgets/controls",
            "_view_module_version": "1.5.0",
            "_view_name": "HBoxView",
            "box_style": "",
            "children": [
              "IPY_MODEL_96ad2b63efe349f2ab068599a0d8c74e",
              "IPY_MODEL_90ca171bbc754e089e502b53713e1188",
              "IPY_MODEL_50c94f552e0f4d90886bc24be7b1e198"
            ],
            "layout": "IPY_MODEL_df9ccf7fb6b149b6b13a81116f0623e9"
          }
        },
        "2c3112527ebd4790b5c9bc7fb84ff494": {
          "model_module": "@jupyter-widgets/controls",
          "model_module_version": "1.5.0",
          "model_name": "HTMLModel",
          "state": {
            "_dom_classes": [],
            "_model_module": "@jupyter-widgets/controls",
            "_model_module_version": "1.5.0",
            "_model_name": "HTMLModel",
            "_view_count": null,
            "_view_module": "@jupyter-widgets/controls",
            "_view_module_version": "1.5.0",
            "_view_name": "HTMLView",
            "description": "",
            "description_tooltip": null,
            "layout": "IPY_MODEL_6cf92f0162f946049b8d67f7a89dfc27",
            "placeholder": "​",
            "style": "IPY_MODEL_03d73123d0644c8c81d7a0b3f810b8da",
            "value": " 144/144 [00:05&lt;00:00, 34.23it/s]"
          }
        },
        "2f43dfcb6a6b46a0a36406767d040503": {
          "model_module": "@jupyter-widgets/base",
          "model_module_version": "1.2.0",
          "model_name": "LayoutModel",
          "state": {
            "_model_module": "@jupyter-widgets/base",
            "_model_module_version": "1.2.0",
            "_model_name": "LayoutModel",
            "_view_count": null,
            "_view_module": "@jupyter-widgets/base",
            "_view_module_version": "1.2.0",
            "_view_name": "LayoutView",
            "align_content": null,
            "align_items": null,
            "align_self": null,
            "border": null,
            "bottom": null,
            "display": null,
            "flex": null,
            "flex_flow": null,
            "grid_area": null,
            "grid_auto_columns": null,
            "grid_auto_flow": null,
            "grid_auto_rows": null,
            "grid_column": null,
            "grid_gap": null,
            "grid_row": null,
            "grid_template_areas": null,
            "grid_template_columns": null,
            "grid_template_rows": null,
            "height": null,
            "justify_content": null,
            "justify_items": null,
            "left": null,
            "margin": null,
            "max_height": null,
            "max_width": null,
            "min_height": null,
            "min_width": null,
            "object_fit": null,
            "object_position": null,
            "order": null,
            "overflow": null,
            "overflow_x": null,
            "overflow_y": null,
            "padding": null,
            "right": null,
            "top": null,
            "visibility": null,
            "width": null
          }
        },
        "2fbb8019e37846dab7d6445f91645506": {
          "model_module": "@jupyter-widgets/controls",
          "model_module_version": "1.5.0",
          "model_name": "DescriptionStyleModel",
          "state": {
            "_model_module": "@jupyter-widgets/controls",
            "_model_module_version": "1.5.0",
            "_model_name": "DescriptionStyleModel",
            "_view_count": null,
            "_view_module": "@jupyter-widgets/base",
            "_view_module_version": "1.2.0",
            "_view_name": "StyleView",
            "description_width": ""
          }
        },
        "30bd8772a8ca42a59c6db93865c61581": {
          "model_module": "@jupyter-widgets/controls",
          "model_module_version": "1.5.0",
          "model_name": "DescriptionStyleModel",
          "state": {
            "_model_module": "@jupyter-widgets/controls",
            "_model_module_version": "1.5.0",
            "_model_name": "DescriptionStyleModel",
            "_view_count": null,
            "_view_module": "@jupyter-widgets/base",
            "_view_module_version": "1.2.0",
            "_view_name": "StyleView",
            "description_width": ""
          }
        },
        "325651b3a4a3456396c773dacb8b693f": {
          "model_module": "@jupyter-widgets/base",
          "model_module_version": "1.2.0",
          "model_name": "LayoutModel",
          "state": {
            "_model_module": "@jupyter-widgets/base",
            "_model_module_version": "1.2.0",
            "_model_name": "LayoutModel",
            "_view_count": null,
            "_view_module": "@jupyter-widgets/base",
            "_view_module_version": "1.2.0",
            "_view_name": "LayoutView",
            "align_content": null,
            "align_items": null,
            "align_self": null,
            "border": null,
            "bottom": null,
            "display": null,
            "flex": null,
            "flex_flow": null,
            "grid_area": null,
            "grid_auto_columns": null,
            "grid_auto_flow": null,
            "grid_auto_rows": null,
            "grid_column": null,
            "grid_gap": null,
            "grid_row": null,
            "grid_template_areas": null,
            "grid_template_columns": null,
            "grid_template_rows": null,
            "height": null,
            "justify_content": null,
            "justify_items": null,
            "left": null,
            "margin": null,
            "max_height": null,
            "max_width": null,
            "min_height": null,
            "min_width": null,
            "object_fit": null,
            "object_position": null,
            "order": null,
            "overflow": null,
            "overflow_x": null,
            "overflow_y": null,
            "padding": null,
            "right": null,
            "top": null,
            "visibility": null,
            "width": null
          }
        },
        "33519b6e3e8b497ebb22ca138ad08c0a": {
          "model_module": "@jupyter-widgets/base",
          "model_module_version": "1.2.0",
          "model_name": "LayoutModel",
          "state": {
            "_model_module": "@jupyter-widgets/base",
            "_model_module_version": "1.2.0",
            "_model_name": "LayoutModel",
            "_view_count": null,
            "_view_module": "@jupyter-widgets/base",
            "_view_module_version": "1.2.0",
            "_view_name": "LayoutView",
            "align_content": null,
            "align_items": null,
            "align_self": null,
            "border": null,
            "bottom": null,
            "display": null,
            "flex": null,
            "flex_flow": null,
            "grid_area": null,
            "grid_auto_columns": null,
            "grid_auto_flow": null,
            "grid_auto_rows": null,
            "grid_column": null,
            "grid_gap": null,
            "grid_row": null,
            "grid_template_areas": null,
            "grid_template_columns": null,
            "grid_template_rows": null,
            "height": null,
            "justify_content": null,
            "justify_items": null,
            "left": null,
            "margin": null,
            "max_height": null,
            "max_width": null,
            "min_height": null,
            "min_width": null,
            "object_fit": null,
            "object_position": null,
            "order": null,
            "overflow": null,
            "overflow_x": null,
            "overflow_y": null,
            "padding": null,
            "right": null,
            "top": null,
            "visibility": null,
            "width": null
          }
        },
        "3407bb38c9c34c08a93eb3f95733b525": {
          "model_module": "@jupyter-widgets/base",
          "model_module_version": "1.2.0",
          "model_name": "LayoutModel",
          "state": {
            "_model_module": "@jupyter-widgets/base",
            "_model_module_version": "1.2.0",
            "_model_name": "LayoutModel",
            "_view_count": null,
            "_view_module": "@jupyter-widgets/base",
            "_view_module_version": "1.2.0",
            "_view_name": "LayoutView",
            "align_content": null,
            "align_items": null,
            "align_self": null,
            "border": null,
            "bottom": null,
            "display": null,
            "flex": null,
            "flex_flow": null,
            "grid_area": null,
            "grid_auto_columns": null,
            "grid_auto_flow": null,
            "grid_auto_rows": null,
            "grid_column": null,
            "grid_gap": null,
            "grid_row": null,
            "grid_template_areas": null,
            "grid_template_columns": null,
            "grid_template_rows": null,
            "height": null,
            "justify_content": null,
            "justify_items": null,
            "left": null,
            "margin": null,
            "max_height": null,
            "max_width": null,
            "min_height": null,
            "min_width": null,
            "object_fit": null,
            "object_position": null,
            "order": null,
            "overflow": null,
            "overflow_x": null,
            "overflow_y": null,
            "padding": null,
            "right": null,
            "top": null,
            "visibility": null,
            "width": null
          }
        },
        "3674a319ee694b939cd4ddda552948d4": {
          "model_module": "@jupyter-widgets/controls",
          "model_module_version": "1.5.0",
          "model_name": "HTMLModel",
          "state": {
            "_dom_classes": [],
            "_model_module": "@jupyter-widgets/controls",
            "_model_module_version": "1.5.0",
            "_model_name": "HTMLModel",
            "_view_count": null,
            "_view_module": "@jupyter-widgets/controls",
            "_view_module_version": "1.5.0",
            "_view_name": "HTMLView",
            "description": "",
            "description_tooltip": null,
            "layout": "IPY_MODEL_7fefca14bcba4b5092ab98577a088b9f",
            "placeholder": "​",
            "style": "IPY_MODEL_d466487165f84d89bf112aefb990e880",
            "value": "100%"
          }
        },
        "375136b0c3754f79825f46860f010a55": {
          "model_module": "@jupyter-widgets/controls",
          "model_module_version": "1.5.0",
          "model_name": "ProgressStyleModel",
          "state": {
            "_model_module": "@jupyter-widgets/controls",
            "_model_module_version": "1.5.0",
            "_model_name": "ProgressStyleModel",
            "_view_count": null,
            "_view_module": "@jupyter-widgets/base",
            "_view_module_version": "1.2.0",
            "_view_name": "StyleView",
            "bar_color": null,
            "description_width": ""
          }
        },
        "388d5aa11c7448ab82effc14c083dace": {
          "model_module": "@jupyter-widgets/controls",
          "model_module_version": "1.5.0",
          "model_name": "DescriptionStyleModel",
          "state": {
            "_model_module": "@jupyter-widgets/controls",
            "_model_module_version": "1.5.0",
            "_model_name": "DescriptionStyleModel",
            "_view_count": null,
            "_view_module": "@jupyter-widgets/base",
            "_view_module_version": "1.2.0",
            "_view_name": "StyleView",
            "description_width": ""
          }
        },
        "391dfa794c3941c0a608ac7d7353b494": {
          "model_module": "@jupyter-widgets/controls",
          "model_module_version": "1.5.0",
          "model_name": "DescriptionStyleModel",
          "state": {
            "_model_module": "@jupyter-widgets/controls",
            "_model_module_version": "1.5.0",
            "_model_name": "DescriptionStyleModel",
            "_view_count": null,
            "_view_module": "@jupyter-widgets/base",
            "_view_module_version": "1.2.0",
            "_view_name": "StyleView",
            "description_width": ""
          }
        },
        "3ba2350417e54744b9ae1c5567362202": {
          "model_module": "@jupyter-widgets/controls",
          "model_module_version": "1.5.0",
          "model_name": "DescriptionStyleModel",
          "state": {
            "_model_module": "@jupyter-widgets/controls",
            "_model_module_version": "1.5.0",
            "_model_name": "DescriptionStyleModel",
            "_view_count": null,
            "_view_module": "@jupyter-widgets/base",
            "_view_module_version": "1.2.0",
            "_view_name": "StyleView",
            "description_width": ""
          }
        },
        "3c84b4575d8d45c1866f771bb081aeb4": {
          "model_module": "@jupyter-widgets/controls",
          "model_module_version": "1.5.0",
          "model_name": "DescriptionStyleModel",
          "state": {
            "_model_module": "@jupyter-widgets/controls",
            "_model_module_version": "1.5.0",
            "_model_name": "DescriptionStyleModel",
            "_view_count": null,
            "_view_module": "@jupyter-widgets/base",
            "_view_module_version": "1.2.0",
            "_view_name": "StyleView",
            "description_width": ""
          }
        },
        "3dcc933a7d134c39ace2c20beee3028c": {
          "model_module": "@jupyter-widgets/controls",
          "model_module_version": "1.5.0",
          "model_name": "HTMLModel",
          "state": {
            "_dom_classes": [],
            "_model_module": "@jupyter-widgets/controls",
            "_model_module_version": "1.5.0",
            "_model_name": "HTMLModel",
            "_view_count": null,
            "_view_module": "@jupyter-widgets/controls",
            "_view_module_version": "1.5.0",
            "_view_name": "HTMLView",
            "description": "",
            "description_tooltip": null,
            "layout": "IPY_MODEL_ec4883abcba84051ae9d6c41ddefbcb6",
            "placeholder": "​",
            "style": "IPY_MODEL_a0e05b2d05ba4674983ec9349f57b8ca",
            "value": " 180/180 [00:07&lt;00:00, 28.93it/s]"
          }
        },
        "3e92516b195d413987ec326233626054": {
          "model_module": "@jupyter-widgets/base",
          "model_module_version": "1.2.0",
          "model_name": "LayoutModel",
          "state": {
            "_model_module": "@jupyter-widgets/base",
            "_model_module_version": "1.2.0",
            "_model_name": "LayoutModel",
            "_view_count": null,
            "_view_module": "@jupyter-widgets/base",
            "_view_module_version": "1.2.0",
            "_view_name": "LayoutView",
            "align_content": null,
            "align_items": null,
            "align_self": null,
            "border": null,
            "bottom": null,
            "display": null,
            "flex": null,
            "flex_flow": null,
            "grid_area": null,
            "grid_auto_columns": null,
            "grid_auto_flow": null,
            "grid_auto_rows": null,
            "grid_column": null,
            "grid_gap": null,
            "grid_row": null,
            "grid_template_areas": null,
            "grid_template_columns": null,
            "grid_template_rows": null,
            "height": null,
            "justify_content": null,
            "justify_items": null,
            "left": null,
            "margin": null,
            "max_height": null,
            "max_width": null,
            "min_height": null,
            "min_width": null,
            "object_fit": null,
            "object_position": null,
            "order": null,
            "overflow": null,
            "overflow_x": null,
            "overflow_y": null,
            "padding": null,
            "right": null,
            "top": null,
            "visibility": null,
            "width": null
          }
        },
        "46e0b6d1197741ee812720e6b599b6c8": {
          "model_module": "@jupyter-widgets/controls",
          "model_module_version": "1.5.0",
          "model_name": "HBoxModel",
          "state": {
            "_dom_classes": [],
            "_model_module": "@jupyter-widgets/controls",
            "_model_module_version": "1.5.0",
            "_model_name": "HBoxModel",
            "_view_count": null,
            "_view_module": "@jupyter-widgets/controls",
            "_view_module_version": "1.5.0",
            "_view_name": "HBoxView",
            "box_style": "",
            "children": [
              "IPY_MODEL_c8310b424eb941f6ae389d7de87b7287",
              "IPY_MODEL_8fb1bff2394a4aa492a717a0e7db3d2b",
              "IPY_MODEL_74ee415f994d4acf8d31af2e81a93123"
            ],
            "layout": "IPY_MODEL_044171c855c240ff923b69b4e27e1538"
          }
        },
        "480fb7bee6a341c4bf0234aa175bd5e8": {
          "model_module": "@jupyter-widgets/controls",
          "model_module_version": "1.5.0",
          "model_name": "DescriptionStyleModel",
          "state": {
            "_model_module": "@jupyter-widgets/controls",
            "_model_module_version": "1.5.0",
            "_model_name": "DescriptionStyleModel",
            "_view_count": null,
            "_view_module": "@jupyter-widgets/base",
            "_view_module_version": "1.2.0",
            "_view_name": "StyleView",
            "description_width": ""
          }
        },
        "4821854623904c838635611c3725f278": {
          "model_module": "@jupyter-widgets/controls",
          "model_module_version": "1.5.0",
          "model_name": "DescriptionStyleModel",
          "state": {
            "_model_module": "@jupyter-widgets/controls",
            "_model_module_version": "1.5.0",
            "_model_name": "DescriptionStyleModel",
            "_view_count": null,
            "_view_module": "@jupyter-widgets/base",
            "_view_module_version": "1.2.0",
            "_view_name": "StyleView",
            "description_width": ""
          }
        },
        "4bf78c63b25f45dda35014e3b5f6fbce": {
          "model_module": "@jupyter-widgets/controls",
          "model_module_version": "1.5.0",
          "model_name": "HTMLModel",
          "state": {
            "_dom_classes": [],
            "_model_module": "@jupyter-widgets/controls",
            "_model_module_version": "1.5.0",
            "_model_name": "HTMLModel",
            "_view_count": null,
            "_view_module": "@jupyter-widgets/controls",
            "_view_module_version": "1.5.0",
            "_view_name": "HTMLView",
            "description": "",
            "description_tooltip": null,
            "layout": "IPY_MODEL_325651b3a4a3456396c773dacb8b693f",
            "placeholder": "​",
            "style": "IPY_MODEL_7fbcaecd08c24b0c895863ca04bb823e",
            "value": " 180/180 [00:06&lt;00:00, 21.78it/s]"
          }
        },
        "4d2ede20c4484505a9d67a9d9300ef15": {
          "model_module": "@jupyter-widgets/base",
          "model_module_version": "1.2.0",
          "model_name": "LayoutModel",
          "state": {
            "_model_module": "@jupyter-widgets/base",
            "_model_module_version": "1.2.0",
            "_model_name": "LayoutModel",
            "_view_count": null,
            "_view_module": "@jupyter-widgets/base",
            "_view_module_version": "1.2.0",
            "_view_name": "LayoutView",
            "align_content": null,
            "align_items": null,
            "align_self": null,
            "border": null,
            "bottom": null,
            "display": null,
            "flex": null,
            "flex_flow": null,
            "grid_area": null,
            "grid_auto_columns": null,
            "grid_auto_flow": null,
            "grid_auto_rows": null,
            "grid_column": null,
            "grid_gap": null,
            "grid_row": null,
            "grid_template_areas": null,
            "grid_template_columns": null,
            "grid_template_rows": null,
            "height": null,
            "justify_content": null,
            "justify_items": null,
            "left": null,
            "margin": null,
            "max_height": null,
            "max_width": null,
            "min_height": null,
            "min_width": null,
            "object_fit": null,
            "object_position": null,
            "order": null,
            "overflow": null,
            "overflow_x": null,
            "overflow_y": null,
            "padding": null,
            "right": null,
            "top": null,
            "visibility": null,
            "width": null
          }
        },
        "4ecd7f1f2b634facbb9b2e48c31295ed": {
          "model_module": "@jupyter-widgets/base",
          "model_module_version": "1.2.0",
          "model_name": "LayoutModel",
          "state": {
            "_model_module": "@jupyter-widgets/base",
            "_model_module_version": "1.2.0",
            "_model_name": "LayoutModel",
            "_view_count": null,
            "_view_module": "@jupyter-widgets/base",
            "_view_module_version": "1.2.0",
            "_view_name": "LayoutView",
            "align_content": null,
            "align_items": null,
            "align_self": null,
            "border": null,
            "bottom": null,
            "display": null,
            "flex": null,
            "flex_flow": null,
            "grid_area": null,
            "grid_auto_columns": null,
            "grid_auto_flow": null,
            "grid_auto_rows": null,
            "grid_column": null,
            "grid_gap": null,
            "grid_row": null,
            "grid_template_areas": null,
            "grid_template_columns": null,
            "grid_template_rows": null,
            "height": null,
            "justify_content": null,
            "justify_items": null,
            "left": null,
            "margin": null,
            "max_height": null,
            "max_width": null,
            "min_height": null,
            "min_width": null,
            "object_fit": null,
            "object_position": null,
            "order": null,
            "overflow": null,
            "overflow_x": null,
            "overflow_y": null,
            "padding": null,
            "right": null,
            "top": null,
            "visibility": null,
            "width": null
          }
        },
        "508c777cf4ba400388cabd026ed1a08c": {
          "model_module": "@jupyter-widgets/base",
          "model_module_version": "1.2.0",
          "model_name": "LayoutModel",
          "state": {
            "_model_module": "@jupyter-widgets/base",
            "_model_module_version": "1.2.0",
            "_model_name": "LayoutModel",
            "_view_count": null,
            "_view_module": "@jupyter-widgets/base",
            "_view_module_version": "1.2.0",
            "_view_name": "LayoutView",
            "align_content": null,
            "align_items": null,
            "align_self": null,
            "border": null,
            "bottom": null,
            "display": null,
            "flex": null,
            "flex_flow": null,
            "grid_area": null,
            "grid_auto_columns": null,
            "grid_auto_flow": null,
            "grid_auto_rows": null,
            "grid_column": null,
            "grid_gap": null,
            "grid_row": null,
            "grid_template_areas": null,
            "grid_template_columns": null,
            "grid_template_rows": null,
            "height": null,
            "justify_content": null,
            "justify_items": null,
            "left": null,
            "margin": null,
            "max_height": null,
            "max_width": null,
            "min_height": null,
            "min_width": null,
            "object_fit": null,
            "object_position": null,
            "order": null,
            "overflow": null,
            "overflow_x": null,
            "overflow_y": null,
            "padding": null,
            "right": null,
            "top": null,
            "visibility": null,
            "width": null
          }
        },
        "50c94f552e0f4d90886bc24be7b1e198": {
          "model_module": "@jupyter-widgets/controls",
          "model_module_version": "1.5.0",
          "model_name": "HTMLModel",
          "state": {
            "_dom_classes": [],
            "_model_module": "@jupyter-widgets/controls",
            "_model_module_version": "1.5.0",
            "_model_name": "HTMLModel",
            "_view_count": null,
            "_view_module": "@jupyter-widgets/controls",
            "_view_module_version": "1.5.0",
            "_view_name": "HTMLView",
            "description": "",
            "description_tooltip": null,
            "layout": "IPY_MODEL_82a9834fb9bc44199e454e8b92bbcdee",
            "placeholder": "​",
            "style": "IPY_MODEL_2fbb8019e37846dab7d6445f91645506",
            "value": " 2160/2160 [01:26&lt;00:00, 22.69it/s]"
          }
        },
        "51efc4c80b20442ea75c68a7f2afbaed": {
          "model_module": "@jupyter-widgets/base",
          "model_module_version": "1.2.0",
          "model_name": "LayoutModel",
          "state": {
            "_model_module": "@jupyter-widgets/base",
            "_model_module_version": "1.2.0",
            "_model_name": "LayoutModel",
            "_view_count": null,
            "_view_module": "@jupyter-widgets/base",
            "_view_module_version": "1.2.0",
            "_view_name": "LayoutView",
            "align_content": null,
            "align_items": null,
            "align_self": null,
            "border": null,
            "bottom": null,
            "display": null,
            "flex": null,
            "flex_flow": null,
            "grid_area": null,
            "grid_auto_columns": null,
            "grid_auto_flow": null,
            "grid_auto_rows": null,
            "grid_column": null,
            "grid_gap": null,
            "grid_row": null,
            "grid_template_areas": null,
            "grid_template_columns": null,
            "grid_template_rows": null,
            "height": null,
            "justify_content": null,
            "justify_items": null,
            "left": null,
            "margin": null,
            "max_height": null,
            "max_width": null,
            "min_height": null,
            "min_width": null,
            "object_fit": null,
            "object_position": null,
            "order": null,
            "overflow": null,
            "overflow_x": null,
            "overflow_y": null,
            "padding": null,
            "right": null,
            "top": null,
            "visibility": null,
            "width": null
          }
        },
        "52ef2d85092f4e38aa2af174f41c233a": {
          "model_module": "@jupyter-widgets/base",
          "model_module_version": "1.2.0",
          "model_name": "LayoutModel",
          "state": {
            "_model_module": "@jupyter-widgets/base",
            "_model_module_version": "1.2.0",
            "_model_name": "LayoutModel",
            "_view_count": null,
            "_view_module": "@jupyter-widgets/base",
            "_view_module_version": "1.2.0",
            "_view_name": "LayoutView",
            "align_content": null,
            "align_items": null,
            "align_self": null,
            "border": null,
            "bottom": null,
            "display": null,
            "flex": null,
            "flex_flow": null,
            "grid_area": null,
            "grid_auto_columns": null,
            "grid_auto_flow": null,
            "grid_auto_rows": null,
            "grid_column": null,
            "grid_gap": null,
            "grid_row": null,
            "grid_template_areas": null,
            "grid_template_columns": null,
            "grid_template_rows": null,
            "height": null,
            "justify_content": null,
            "justify_items": null,
            "left": null,
            "margin": null,
            "max_height": null,
            "max_width": null,
            "min_height": null,
            "min_width": null,
            "object_fit": null,
            "object_position": null,
            "order": null,
            "overflow": null,
            "overflow_x": null,
            "overflow_y": null,
            "padding": null,
            "right": null,
            "top": null,
            "visibility": null,
            "width": null
          }
        },
        "54171321fd0c470f84f1fe58eaccfa6a": {
          "model_module": "@jupyter-widgets/controls",
          "model_module_version": "1.5.0",
          "model_name": "DescriptionStyleModel",
          "state": {
            "_model_module": "@jupyter-widgets/controls",
            "_model_module_version": "1.5.0",
            "_model_name": "DescriptionStyleModel",
            "_view_count": null,
            "_view_module": "@jupyter-widgets/base",
            "_view_module_version": "1.2.0",
            "_view_name": "StyleView",
            "description_width": ""
          }
        },
        "5492c6b666a84d59bd64c4b6cba9108f": {
          "model_module": "@jupyter-widgets/controls",
          "model_module_version": "1.5.0",
          "model_name": "DescriptionStyleModel",
          "state": {
            "_model_module": "@jupyter-widgets/controls",
            "_model_module_version": "1.5.0",
            "_model_name": "DescriptionStyleModel",
            "_view_count": null,
            "_view_module": "@jupyter-widgets/base",
            "_view_module_version": "1.2.0",
            "_view_name": "StyleView",
            "description_width": ""
          }
        },
        "5530412cffde446ba35ae281cbebf6c2": {
          "model_module": "@jupyter-widgets/base",
          "model_module_version": "1.2.0",
          "model_name": "LayoutModel",
          "state": {
            "_model_module": "@jupyter-widgets/base",
            "_model_module_version": "1.2.0",
            "_model_name": "LayoutModel",
            "_view_count": null,
            "_view_module": "@jupyter-widgets/base",
            "_view_module_version": "1.2.0",
            "_view_name": "LayoutView",
            "align_content": null,
            "align_items": null,
            "align_self": null,
            "border": null,
            "bottom": null,
            "display": null,
            "flex": null,
            "flex_flow": null,
            "grid_area": null,
            "grid_auto_columns": null,
            "grid_auto_flow": null,
            "grid_auto_rows": null,
            "grid_column": null,
            "grid_gap": null,
            "grid_row": null,
            "grid_template_areas": null,
            "grid_template_columns": null,
            "grid_template_rows": null,
            "height": null,
            "justify_content": null,
            "justify_items": null,
            "left": null,
            "margin": null,
            "max_height": null,
            "max_width": null,
            "min_height": null,
            "min_width": null,
            "object_fit": null,
            "object_position": null,
            "order": null,
            "overflow": null,
            "overflow_x": null,
            "overflow_y": null,
            "padding": null,
            "right": null,
            "top": null,
            "visibility": null,
            "width": null
          }
        },
        "576a2c6d603d4c0486684a47c115f6c3": {
          "model_module": "@jupyter-widgets/base",
          "model_module_version": "1.2.0",
          "model_name": "LayoutModel",
          "state": {
            "_model_module": "@jupyter-widgets/base",
            "_model_module_version": "1.2.0",
            "_model_name": "LayoutModel",
            "_view_count": null,
            "_view_module": "@jupyter-widgets/base",
            "_view_module_version": "1.2.0",
            "_view_name": "LayoutView",
            "align_content": null,
            "align_items": null,
            "align_self": null,
            "border": null,
            "bottom": null,
            "display": null,
            "flex": null,
            "flex_flow": null,
            "grid_area": null,
            "grid_auto_columns": null,
            "grid_auto_flow": null,
            "grid_auto_rows": null,
            "grid_column": null,
            "grid_gap": null,
            "grid_row": null,
            "grid_template_areas": null,
            "grid_template_columns": null,
            "grid_template_rows": null,
            "height": null,
            "justify_content": null,
            "justify_items": null,
            "left": null,
            "margin": null,
            "max_height": null,
            "max_width": null,
            "min_height": null,
            "min_width": null,
            "object_fit": null,
            "object_position": null,
            "order": null,
            "overflow": null,
            "overflow_x": null,
            "overflow_y": null,
            "padding": null,
            "right": null,
            "top": null,
            "visibility": null,
            "width": null
          }
        },
        "577743f69ee944c6b8efdad9fdde6627": {
          "model_module": "@jupyter-widgets/controls",
          "model_module_version": "1.5.0",
          "model_name": "HBoxModel",
          "state": {
            "_dom_classes": [],
            "_model_module": "@jupyter-widgets/controls",
            "_model_module_version": "1.5.0",
            "_model_name": "HBoxModel",
            "_view_count": null,
            "_view_module": "@jupyter-widgets/controls",
            "_view_module_version": "1.5.0",
            "_view_name": "HBoxView",
            "box_style": "",
            "children": [
              "IPY_MODEL_0953726feb674665894bddd714143d65",
              "IPY_MODEL_7f122c7354974bb9a6eea53582c0f12d",
              "IPY_MODEL_bd1c647c971a474291feac1b2d87a778"
            ],
            "layout": "IPY_MODEL_06227bde4fac46bbb093003e74953cad"
          }
        },
        "5a6db6d2bd9c4d5697041d3b6cfc2ed6": {
          "model_module": "@jupyter-widgets/controls",
          "model_module_version": "1.5.0",
          "model_name": "FloatProgressModel",
          "state": {
            "_dom_classes": [],
            "_model_module": "@jupyter-widgets/controls",
            "_model_module_version": "1.5.0",
            "_model_name": "FloatProgressModel",
            "_view_count": null,
            "_view_module": "@jupyter-widgets/controls",
            "_view_module_version": "1.5.0",
            "_view_name": "ProgressView",
            "bar_style": "success",
            "description": "",
            "description_tooltip": null,
            "layout": "IPY_MODEL_5b4e510574df4e6dae68e7cbeda49029",
            "max": 144,
            "min": 0,
            "orientation": "horizontal",
            "style": "IPY_MODEL_c0047268b94745a8b8010d06f9315199",
            "value": 144
          }
        },
        "5af261b7e4754241abd86e41c98f2750": {
          "model_module": "@jupyter-widgets/controls",
          "model_module_version": "1.5.0",
          "model_name": "DescriptionStyleModel",
          "state": {
            "_model_module": "@jupyter-widgets/controls",
            "_model_module_version": "1.5.0",
            "_model_name": "DescriptionStyleModel",
            "_view_count": null,
            "_view_module": "@jupyter-widgets/base",
            "_view_module_version": "1.2.0",
            "_view_name": "StyleView",
            "description_width": ""
          }
        },
        "5b29a1117851485e9333114fabb4e072": {
          "model_module": "@jupyter-widgets/base",
          "model_module_version": "1.2.0",
          "model_name": "LayoutModel",
          "state": {
            "_model_module": "@jupyter-widgets/base",
            "_model_module_version": "1.2.0",
            "_model_name": "LayoutModel",
            "_view_count": null,
            "_view_module": "@jupyter-widgets/base",
            "_view_module_version": "1.2.0",
            "_view_name": "LayoutView",
            "align_content": null,
            "align_items": null,
            "align_self": null,
            "border": null,
            "bottom": null,
            "display": null,
            "flex": null,
            "flex_flow": null,
            "grid_area": null,
            "grid_auto_columns": null,
            "grid_auto_flow": null,
            "grid_auto_rows": null,
            "grid_column": null,
            "grid_gap": null,
            "grid_row": null,
            "grid_template_areas": null,
            "grid_template_columns": null,
            "grid_template_rows": null,
            "height": null,
            "justify_content": null,
            "justify_items": null,
            "left": null,
            "margin": null,
            "max_height": null,
            "max_width": null,
            "min_height": null,
            "min_width": null,
            "object_fit": null,
            "object_position": null,
            "order": null,
            "overflow": null,
            "overflow_x": null,
            "overflow_y": null,
            "padding": null,
            "right": null,
            "top": null,
            "visibility": null,
            "width": null
          }
        },
        "5b4e510574df4e6dae68e7cbeda49029": {
          "model_module": "@jupyter-widgets/base",
          "model_module_version": "1.2.0",
          "model_name": "LayoutModel",
          "state": {
            "_model_module": "@jupyter-widgets/base",
            "_model_module_version": "1.2.0",
            "_model_name": "LayoutModel",
            "_view_count": null,
            "_view_module": "@jupyter-widgets/base",
            "_view_module_version": "1.2.0",
            "_view_name": "LayoutView",
            "align_content": null,
            "align_items": null,
            "align_self": null,
            "border": null,
            "bottom": null,
            "display": null,
            "flex": null,
            "flex_flow": null,
            "grid_area": null,
            "grid_auto_columns": null,
            "grid_auto_flow": null,
            "grid_auto_rows": null,
            "grid_column": null,
            "grid_gap": null,
            "grid_row": null,
            "grid_template_areas": null,
            "grid_template_columns": null,
            "grid_template_rows": null,
            "height": null,
            "justify_content": null,
            "justify_items": null,
            "left": null,
            "margin": null,
            "max_height": null,
            "max_width": null,
            "min_height": null,
            "min_width": null,
            "object_fit": null,
            "object_position": null,
            "order": null,
            "overflow": null,
            "overflow_x": null,
            "overflow_y": null,
            "padding": null,
            "right": null,
            "top": null,
            "visibility": null,
            "width": null
          }
        },
        "5ec1577140e64c34be0d2860ed137766": {
          "model_module": "@jupyter-widgets/controls",
          "model_module_version": "1.5.0",
          "model_name": "CheckboxModel",
          "state": {
            "_dom_classes": [],
            "_model_module": "@jupyter-widgets/controls",
            "_model_module_version": "1.5.0",
            "_model_name": "CheckboxModel",
            "_view_count": null,
            "_view_module": "@jupyter-widgets/controls",
            "_view_module_version": "1.5.0",
            "_view_name": "CheckboxView",
            "description": "Add token as git credential?",
            "description_tooltip": null,
            "disabled": false,
            "indent": true,
            "layout": "IPY_MODEL_1d7716c911ef47caa5b1875234fb9ed8",
            "style": "IPY_MODEL_c2593312b66d49bd9119824ba09aa2be",
            "value": true
          }
        },
        "60ec18de81af433880b6167a01fba30f": {
          "model_module": "@jupyter-widgets/controls",
          "model_module_version": "1.5.0",
          "model_name": "DescriptionStyleModel",
          "state": {
            "_model_module": "@jupyter-widgets/controls",
            "_model_module_version": "1.5.0",
            "_model_name": "DescriptionStyleModel",
            "_view_count": null,
            "_view_module": "@jupyter-widgets/base",
            "_view_module_version": "1.2.0",
            "_view_name": "StyleView",
            "description_width": ""
          }
        },
        "621c519f5bbe477ab1d6ba8f740cc382": {
          "model_module": "@jupyter-widgets/controls",
          "model_module_version": "1.5.0",
          "model_name": "DescriptionStyleModel",
          "state": {
            "_model_module": "@jupyter-widgets/controls",
            "_model_module_version": "1.5.0",
            "_model_name": "DescriptionStyleModel",
            "_view_count": null,
            "_view_module": "@jupyter-widgets/base",
            "_view_module_version": "1.2.0",
            "_view_name": "StyleView",
            "description_width": ""
          }
        },
        "6355e7df26a141b183bdfb7f8be79778": {
          "model_module": "@jupyter-widgets/controls",
          "model_module_version": "1.5.0",
          "model_name": "HTMLModel",
          "state": {
            "_dom_classes": [],
            "_model_module": "@jupyter-widgets/controls",
            "_model_module_version": "1.5.0",
            "_model_name": "HTMLModel",
            "_view_count": null,
            "_view_module": "@jupyter-widgets/controls",
            "_view_module_version": "1.5.0",
            "_view_name": "HTMLView",
            "description": "",
            "description_tooltip": null,
            "layout": "IPY_MODEL_8501c54f82c84882a8705833798ecfb4",
            "placeholder": "​",
            "style": "IPY_MODEL_e39919bc2f864f57abc72184365887ec",
            "value": "100%"
          }
        },
        "63bd8043677442e696ccc0d8a3fe5839": {
          "model_module": "@jupyter-widgets/controls",
          "model_module_version": "1.5.0",
          "model_name": "HTMLModel",
          "state": {
            "_dom_classes": [],
            "_model_module": "@jupyter-widgets/controls",
            "_model_module_version": "1.5.0",
            "_model_name": "HTMLModel",
            "_view_count": null,
            "_view_module": "@jupyter-widgets/controls",
            "_view_module_version": "1.5.0",
            "_view_name": "HTMLView",
            "description": "",
            "description_tooltip": null,
            "layout": "IPY_MODEL_508c777cf4ba400388cabd026ed1a08c",
            "placeholder": "​",
            "style": "IPY_MODEL_30bd8772a8ca42a59c6db93865c61581",
            "value": " 180/180 [00:07&lt;00:00, 29.38it/s]"
          }
        },
        "64387ba7a3b04f5f8d844ee43146212d": {
          "model_module": "@jupyter-widgets/base",
          "model_module_version": "1.2.0",
          "model_name": "LayoutModel",
          "state": {
            "_model_module": "@jupyter-widgets/base",
            "_model_module_version": "1.2.0",
            "_model_name": "LayoutModel",
            "_view_count": null,
            "_view_module": "@jupyter-widgets/base",
            "_view_module_version": "1.2.0",
            "_view_name": "LayoutView",
            "align_content": null,
            "align_items": null,
            "align_self": null,
            "border": null,
            "bottom": null,
            "display": null,
            "flex": null,
            "flex_flow": null,
            "grid_area": null,
            "grid_auto_columns": null,
            "grid_auto_flow": null,
            "grid_auto_rows": null,
            "grid_column": null,
            "grid_gap": null,
            "grid_row": null,
            "grid_template_areas": null,
            "grid_template_columns": null,
            "grid_template_rows": null,
            "height": null,
            "justify_content": null,
            "justify_items": null,
            "left": null,
            "margin": null,
            "max_height": null,
            "max_width": null,
            "min_height": null,
            "min_width": null,
            "object_fit": null,
            "object_position": null,
            "order": null,
            "overflow": null,
            "overflow_x": null,
            "overflow_y": null,
            "padding": null,
            "right": null,
            "top": null,
            "visibility": null,
            "width": null
          }
        },
        "64e799df39eb44e59b36212d393ba581": {
          "model_module": "@jupyter-widgets/controls",
          "model_module_version": "1.5.0",
          "model_name": "HBoxModel",
          "state": {
            "_dom_classes": [],
            "_model_module": "@jupyter-widgets/controls",
            "_model_module_version": "1.5.0",
            "_model_name": "HBoxModel",
            "_view_count": null,
            "_view_module": "@jupyter-widgets/controls",
            "_view_module_version": "1.5.0",
            "_view_name": "HBoxView",
            "box_style": "",
            "children": [
              "IPY_MODEL_7a4e3ed388964a4da909c7210ead5b9a",
              "IPY_MODEL_00cb5a0118bb438fb38ca3bd304a3016",
              "IPY_MODEL_6ce55cdccad141e5a380f4eb07e96033"
            ],
            "layout": "IPY_MODEL_077b84575f3c4ca5955980a81949216b"
          }
        },
        "65070d65c6bd4e47ae25410c379b0e2b": {
          "model_module": "@jupyter-widgets/controls",
          "model_module_version": "1.5.0",
          "model_name": "ProgressStyleModel",
          "state": {
            "_model_module": "@jupyter-widgets/controls",
            "_model_module_version": "1.5.0",
            "_model_name": "ProgressStyleModel",
            "_view_count": null,
            "_view_module": "@jupyter-widgets/base",
            "_view_module_version": "1.2.0",
            "_view_name": "StyleView",
            "bar_color": null,
            "description_width": ""
          }
        },
        "6541cdb41ba34ae1a8fdf6d42bbe61d8": {
          "model_module": "@jupyter-widgets/controls",
          "model_module_version": "1.5.0",
          "model_name": "DescriptionStyleModel",
          "state": {
            "_model_module": "@jupyter-widgets/controls",
            "_model_module_version": "1.5.0",
            "_model_name": "DescriptionStyleModel",
            "_view_count": null,
            "_view_module": "@jupyter-widgets/base",
            "_view_module_version": "1.2.0",
            "_view_name": "StyleView",
            "description_width": ""
          }
        },
        "654bc4b795c94ef280027a0207c5e14f": {
          "model_module": "@jupyter-widgets/base",
          "model_module_version": "1.2.0",
          "model_name": "LayoutModel",
          "state": {
            "_model_module": "@jupyter-widgets/base",
            "_model_module_version": "1.2.0",
            "_model_name": "LayoutModel",
            "_view_count": null,
            "_view_module": "@jupyter-widgets/base",
            "_view_module_version": "1.2.0",
            "_view_name": "LayoutView",
            "align_content": null,
            "align_items": null,
            "align_self": null,
            "border": null,
            "bottom": null,
            "display": null,
            "flex": null,
            "flex_flow": null,
            "grid_area": null,
            "grid_auto_columns": null,
            "grid_auto_flow": null,
            "grid_auto_rows": null,
            "grid_column": null,
            "grid_gap": null,
            "grid_row": null,
            "grid_template_areas": null,
            "grid_template_columns": null,
            "grid_template_rows": null,
            "height": null,
            "justify_content": null,
            "justify_items": null,
            "left": null,
            "margin": null,
            "max_height": null,
            "max_width": null,
            "min_height": null,
            "min_width": null,
            "object_fit": null,
            "object_position": null,
            "order": null,
            "overflow": null,
            "overflow_x": null,
            "overflow_y": null,
            "padding": null,
            "right": null,
            "top": null,
            "visibility": null,
            "width": null
          }
        },
        "65917c03b217485bac9bdd53e962def8": {
          "model_module": "@jupyter-widgets/base",
          "model_module_version": "1.2.0",
          "model_name": "LayoutModel",
          "state": {
            "_model_module": "@jupyter-widgets/base",
            "_model_module_version": "1.2.0",
            "_model_name": "LayoutModel",
            "_view_count": null,
            "_view_module": "@jupyter-widgets/base",
            "_view_module_version": "1.2.0",
            "_view_name": "LayoutView",
            "align_content": null,
            "align_items": null,
            "align_self": null,
            "border": null,
            "bottom": null,
            "display": null,
            "flex": null,
            "flex_flow": null,
            "grid_area": null,
            "grid_auto_columns": null,
            "grid_auto_flow": null,
            "grid_auto_rows": null,
            "grid_column": null,
            "grid_gap": null,
            "grid_row": null,
            "grid_template_areas": null,
            "grid_template_columns": null,
            "grid_template_rows": null,
            "height": null,
            "justify_content": null,
            "justify_items": null,
            "left": null,
            "margin": null,
            "max_height": null,
            "max_width": null,
            "min_height": null,
            "min_width": null,
            "object_fit": null,
            "object_position": null,
            "order": null,
            "overflow": null,
            "overflow_x": null,
            "overflow_y": null,
            "padding": null,
            "right": null,
            "top": null,
            "visibility": null,
            "width": null
          }
        },
        "65ca015c87154fdb86e63727041b946c": {
          "model_module": "@jupyter-widgets/base",
          "model_module_version": "1.2.0",
          "model_name": "LayoutModel",
          "state": {
            "_model_module": "@jupyter-widgets/base",
            "_model_module_version": "1.2.0",
            "_model_name": "LayoutModel",
            "_view_count": null,
            "_view_module": "@jupyter-widgets/base",
            "_view_module_version": "1.2.0",
            "_view_name": "LayoutView",
            "align_content": null,
            "align_items": null,
            "align_self": null,
            "border": null,
            "bottom": null,
            "display": null,
            "flex": null,
            "flex_flow": null,
            "grid_area": null,
            "grid_auto_columns": null,
            "grid_auto_flow": null,
            "grid_auto_rows": null,
            "grid_column": null,
            "grid_gap": null,
            "grid_row": null,
            "grid_template_areas": null,
            "grid_template_columns": null,
            "grid_template_rows": null,
            "height": null,
            "justify_content": null,
            "justify_items": null,
            "left": null,
            "margin": null,
            "max_height": null,
            "max_width": null,
            "min_height": null,
            "min_width": null,
            "object_fit": null,
            "object_position": null,
            "order": null,
            "overflow": null,
            "overflow_x": null,
            "overflow_y": null,
            "padding": null,
            "right": null,
            "top": null,
            "visibility": null,
            "width": null
          }
        },
        "66ff90fae10642eca0fa5e631447975b": {
          "model_module": "@jupyter-widgets/base",
          "model_module_version": "1.2.0",
          "model_name": "LayoutModel",
          "state": {
            "_model_module": "@jupyter-widgets/base",
            "_model_module_version": "1.2.0",
            "_model_name": "LayoutModel",
            "_view_count": null,
            "_view_module": "@jupyter-widgets/base",
            "_view_module_version": "1.2.0",
            "_view_name": "LayoutView",
            "align_content": null,
            "align_items": null,
            "align_self": null,
            "border": null,
            "bottom": null,
            "display": null,
            "flex": null,
            "flex_flow": null,
            "grid_area": null,
            "grid_auto_columns": null,
            "grid_auto_flow": null,
            "grid_auto_rows": null,
            "grid_column": null,
            "grid_gap": null,
            "grid_row": null,
            "grid_template_areas": null,
            "grid_template_columns": null,
            "grid_template_rows": null,
            "height": null,
            "justify_content": null,
            "justify_items": null,
            "left": null,
            "margin": null,
            "max_height": null,
            "max_width": null,
            "min_height": null,
            "min_width": null,
            "object_fit": null,
            "object_position": null,
            "order": null,
            "overflow": null,
            "overflow_x": null,
            "overflow_y": null,
            "padding": null,
            "right": null,
            "top": null,
            "visibility": null,
            "width": null
          }
        },
        "6802a79e197b4396b127eb6fb9ea29e7": {
          "model_module": "@jupyter-widgets/controls",
          "model_module_version": "1.5.0",
          "model_name": "HBoxModel",
          "state": {
            "_dom_classes": [],
            "_model_module": "@jupyter-widgets/controls",
            "_model_module_version": "1.5.0",
            "_model_name": "HBoxModel",
            "_view_count": null,
            "_view_module": "@jupyter-widgets/controls",
            "_view_module_version": "1.5.0",
            "_view_name": "HBoxView",
            "box_style": "",
            "children": [
              "IPY_MODEL_8c389ea18e7c435a801c8f11fa508cf0",
              "IPY_MODEL_b5643a5bb9c54a0983f5b0aefb19d050",
              "IPY_MODEL_bd9df13e01aa4795bb3a7e644dde2bd1"
            ],
            "layout": "IPY_MODEL_4ecd7f1f2b634facbb9b2e48c31295ed"
          }
        },
        "6ce55cdccad141e5a380f4eb07e96033": {
          "model_module": "@jupyter-widgets/controls",
          "model_module_version": "1.5.0",
          "model_name": "HTMLModel",
          "state": {
            "_dom_classes": [],
            "_model_module": "@jupyter-widgets/controls",
            "_model_module_version": "1.5.0",
            "_model_name": "HTMLModel",
            "_view_count": null,
            "_view_module": "@jupyter-widgets/controls",
            "_view_module_version": "1.5.0",
            "_view_name": "HTMLView",
            "description": "",
            "description_tooltip": null,
            "layout": "IPY_MODEL_ec8361b504df49e7a1ffb60ece4355fd",
            "placeholder": "​",
            "style": "IPY_MODEL_391dfa794c3941c0a608ac7d7353b494",
            "value": " 144/144 [00:05&lt;00:00, 30.34it/s]"
          }
        },
        "6cf92f0162f946049b8d67f7a89dfc27": {
          "model_module": "@jupyter-widgets/base",
          "model_module_version": "1.2.0",
          "model_name": "LayoutModel",
          "state": {
            "_model_module": "@jupyter-widgets/base",
            "_model_module_version": "1.2.0",
            "_model_name": "LayoutModel",
            "_view_count": null,
            "_view_module": "@jupyter-widgets/base",
            "_view_module_version": "1.2.0",
            "_view_name": "LayoutView",
            "align_content": null,
            "align_items": null,
            "align_self": null,
            "border": null,
            "bottom": null,
            "display": null,
            "flex": null,
            "flex_flow": null,
            "grid_area": null,
            "grid_auto_columns": null,
            "grid_auto_flow": null,
            "grid_auto_rows": null,
            "grid_column": null,
            "grid_gap": null,
            "grid_row": null,
            "grid_template_areas": null,
            "grid_template_columns": null,
            "grid_template_rows": null,
            "height": null,
            "justify_content": null,
            "justify_items": null,
            "left": null,
            "margin": null,
            "max_height": null,
            "max_width": null,
            "min_height": null,
            "min_width": null,
            "object_fit": null,
            "object_position": null,
            "order": null,
            "overflow": null,
            "overflow_x": null,
            "overflow_y": null,
            "padding": null,
            "right": null,
            "top": null,
            "visibility": null,
            "width": null
          }
        },
        "6e8904a58f3a4ce3856699fb7000d725": {
          "model_module": "@jupyter-widgets/base",
          "model_module_version": "1.2.0",
          "model_name": "LayoutModel",
          "state": {
            "_model_module": "@jupyter-widgets/base",
            "_model_module_version": "1.2.0",
            "_model_name": "LayoutModel",
            "_view_count": null,
            "_view_module": "@jupyter-widgets/base",
            "_view_module_version": "1.2.0",
            "_view_name": "LayoutView",
            "align_content": null,
            "align_items": null,
            "align_self": null,
            "border": null,
            "bottom": null,
            "display": null,
            "flex": null,
            "flex_flow": null,
            "grid_area": null,
            "grid_auto_columns": null,
            "grid_auto_flow": null,
            "grid_auto_rows": null,
            "grid_column": null,
            "grid_gap": null,
            "grid_row": null,
            "grid_template_areas": null,
            "grid_template_columns": null,
            "grid_template_rows": null,
            "height": null,
            "justify_content": null,
            "justify_items": null,
            "left": null,
            "margin": null,
            "max_height": null,
            "max_width": null,
            "min_height": null,
            "min_width": null,
            "object_fit": null,
            "object_position": null,
            "order": null,
            "overflow": null,
            "overflow_x": null,
            "overflow_y": null,
            "padding": null,
            "right": null,
            "top": null,
            "visibility": null,
            "width": null
          }
        },
        "70259059c97e4238b778cb1fb53f29e1": {
          "model_module": "@jupyter-widgets/controls",
          "model_module_version": "1.5.0",
          "model_name": "HBoxModel",
          "state": {
            "_dom_classes": [],
            "_model_module": "@jupyter-widgets/controls",
            "_model_module_version": "1.5.0",
            "_model_name": "HBoxModel",
            "_view_count": null,
            "_view_module": "@jupyter-widgets/controls",
            "_view_module_version": "1.5.0",
            "_view_name": "HBoxView",
            "box_style": "",
            "children": [
              "IPY_MODEL_f5d17117789a44bd8e16584a2f939115",
              "IPY_MODEL_78024e1dc6434eb58caccc64d36d82c3",
              "IPY_MODEL_0bf040751e6841a79713aa8862ca5224"
            ],
            "layout": "IPY_MODEL_654bc4b795c94ef280027a0207c5e14f"
          }
        },
        "70f4de7a068b43dc80053d7508ae9cf4": {
          "model_module": "@jupyter-widgets/base",
          "model_module_version": "1.2.0",
          "model_name": "LayoutModel",
          "state": {
            "_model_module": "@jupyter-widgets/base",
            "_model_module_version": "1.2.0",
            "_model_name": "LayoutModel",
            "_view_count": null,
            "_view_module": "@jupyter-widgets/base",
            "_view_module_version": "1.2.0",
            "_view_name": "LayoutView",
            "align_content": null,
            "align_items": null,
            "align_self": null,
            "border": null,
            "bottom": null,
            "display": null,
            "flex": null,
            "flex_flow": null,
            "grid_area": null,
            "grid_auto_columns": null,
            "grid_auto_flow": null,
            "grid_auto_rows": null,
            "grid_column": null,
            "grid_gap": null,
            "grid_row": null,
            "grid_template_areas": null,
            "grid_template_columns": null,
            "grid_template_rows": null,
            "height": null,
            "justify_content": null,
            "justify_items": null,
            "left": null,
            "margin": null,
            "max_height": null,
            "max_width": null,
            "min_height": null,
            "min_width": null,
            "object_fit": null,
            "object_position": null,
            "order": null,
            "overflow": null,
            "overflow_x": null,
            "overflow_y": null,
            "padding": null,
            "right": null,
            "top": null,
            "visibility": null,
            "width": null
          }
        },
        "71944864009f4728a831eb00192bcc24": {
          "model_module": "@jupyter-widgets/controls",
          "model_module_version": "1.5.0",
          "model_name": "HTMLModel",
          "state": {
            "_dom_classes": [],
            "_model_module": "@jupyter-widgets/controls",
            "_model_module_version": "1.5.0",
            "_model_name": "HTMLModel",
            "_view_count": null,
            "_view_module": "@jupyter-widgets/controls",
            "_view_module_version": "1.5.0",
            "_view_name": "HTMLView",
            "description": "",
            "description_tooltip": null,
            "layout": "IPY_MODEL_28e8be6b8d7245c395afa2b32f21470c",
            "placeholder": "​",
            "style": "IPY_MODEL_5492c6b666a84d59bd64c4b6cba9108f",
            "value": "100%"
          }
        },
        "74ee415f994d4acf8d31af2e81a93123": {
          "model_module": "@jupyter-widgets/controls",
          "model_module_version": "1.5.0",
          "model_name": "HTMLModel",
          "state": {
            "_dom_classes": [],
            "_model_module": "@jupyter-widgets/controls",
            "_model_module_version": "1.5.0",
            "_model_name": "HTMLModel",
            "_view_count": null,
            "_view_module": "@jupyter-widgets/controls",
            "_view_module_version": "1.5.0",
            "_view_name": "HTMLView",
            "description": "",
            "description_tooltip": null,
            "layout": "IPY_MODEL_7d3c726ca3fb48de98432b35c8550c0b",
            "placeholder": "​",
            "style": "IPY_MODEL_5af261b7e4754241abd86e41c98f2750",
            "value": " 180/180 [00:06&lt;00:00, 29.15it/s]"
          }
        },
        "75995faef432410299c34717b1da96e2": {
          "model_module": "@jupyter-widgets/controls",
          "model_module_version": "1.5.0",
          "model_name": "HBoxModel",
          "state": {
            "_dom_classes": [],
            "_model_module": "@jupyter-widgets/controls",
            "_model_module_version": "1.5.0",
            "_model_name": "HBoxModel",
            "_view_count": null,
            "_view_module": "@jupyter-widgets/controls",
            "_view_module_version": "1.5.0",
            "_view_name": "HBoxView",
            "box_style": "",
            "children": [
              "IPY_MODEL_9b1f31b34c9342fc8a1b2bfef0cf1f29",
              "IPY_MODEL_81e526b016b7440abf420cc44f64b236",
              "IPY_MODEL_3dcc933a7d134c39ace2c20beee3028c"
            ],
            "layout": "IPY_MODEL_9c78081eb3fe4146a1d79df360cd66eb"
          }
        },
        "7793574382e94f4fb1eb22c287bcfb02": {
          "model_module": "@jupyter-widgets/base",
          "model_module_version": "1.2.0",
          "model_name": "LayoutModel",
          "state": {
            "_model_module": "@jupyter-widgets/base",
            "_model_module_version": "1.2.0",
            "_model_name": "LayoutModel",
            "_view_count": null,
            "_view_module": "@jupyter-widgets/base",
            "_view_module_version": "1.2.0",
            "_view_name": "LayoutView",
            "align_content": null,
            "align_items": null,
            "align_self": null,
            "border": null,
            "bottom": null,
            "display": null,
            "flex": null,
            "flex_flow": null,
            "grid_area": null,
            "grid_auto_columns": null,
            "grid_auto_flow": null,
            "grid_auto_rows": null,
            "grid_column": null,
            "grid_gap": null,
            "grid_row": null,
            "grid_template_areas": null,
            "grid_template_columns": null,
            "grid_template_rows": null,
            "height": null,
            "justify_content": null,
            "justify_items": null,
            "left": null,
            "margin": null,
            "max_height": null,
            "max_width": null,
            "min_height": null,
            "min_width": null,
            "object_fit": null,
            "object_position": null,
            "order": null,
            "overflow": null,
            "overflow_x": null,
            "overflow_y": null,
            "padding": null,
            "right": null,
            "top": null,
            "visibility": null,
            "width": null
          }
        },
        "78024e1dc6434eb58caccc64d36d82c3": {
          "model_module": "@jupyter-widgets/controls",
          "model_module_version": "1.5.0",
          "model_name": "FloatProgressModel",
          "state": {
            "_dom_classes": [],
            "_model_module": "@jupyter-widgets/controls",
            "_model_module_version": "1.5.0",
            "_model_name": "FloatProgressModel",
            "_view_count": null,
            "_view_module": "@jupyter-widgets/controls",
            "_view_module_version": "1.5.0",
            "_view_name": "ProgressView",
            "bar_style": "success",
            "description": "",
            "description_tooltip": null,
            "layout": "IPY_MODEL_05e002ce5986414c816e4435c631404b",
            "max": 144,
            "min": 0,
            "orientation": "horizontal",
            "style": "IPY_MODEL_bfcf9873f5f14d559f3f0906d6d4b62d",
            "value": 144
          }
        },
        "78715c8355a84e7a950ee5e0541d598f": {
          "model_module": "@jupyter-widgets/controls",
          "model_module_version": "1.5.0",
          "model_name": "HBoxModel",
          "state": {
            "_dom_classes": [],
            "_model_module": "@jupyter-widgets/controls",
            "_model_module_version": "1.5.0",
            "_model_name": "HBoxModel",
            "_view_count": null,
            "_view_module": "@jupyter-widgets/controls",
            "_view_module_version": "1.5.0",
            "_view_name": "HBoxView",
            "box_style": "",
            "children": [
              "IPY_MODEL_ed976a6e6c9f40b2810d7869459711d4",
              "IPY_MODEL_21ec4ae4727f4308868d2922abae7dc7",
              "IPY_MODEL_4bf78c63b25f45dda35014e3b5f6fbce"
            ],
            "layout": "IPY_MODEL_84bbf960ddee46e39a41007929a386f1"
          }
        },
        "7a4e3ed388964a4da909c7210ead5b9a": {
          "model_module": "@jupyter-widgets/controls",
          "model_module_version": "1.5.0",
          "model_name": "HTMLModel",
          "state": {
            "_dom_classes": [],
            "_model_module": "@jupyter-widgets/controls",
            "_model_module_version": "1.5.0",
            "_model_name": "HTMLModel",
            "_view_count": null,
            "_view_module": "@jupyter-widgets/controls",
            "_view_module_version": "1.5.0",
            "_view_name": "HTMLView",
            "description": "",
            "description_tooltip": null,
            "layout": "IPY_MODEL_52ef2d85092f4e38aa2af174f41c233a",
            "placeholder": "​",
            "style": "IPY_MODEL_a6229b8c298947498453f64d0e90d004",
            "value": "100%"
          }
        },
        "7ac670a352d44e51b9a3446b219edb21": {
          "model_module": "@jupyter-widgets/base",
          "model_module_version": "1.2.0",
          "model_name": "LayoutModel",
          "state": {
            "_model_module": "@jupyter-widgets/base",
            "_model_module_version": "1.2.0",
            "_model_name": "LayoutModel",
            "_view_count": null,
            "_view_module": "@jupyter-widgets/base",
            "_view_module_version": "1.2.0",
            "_view_name": "LayoutView",
            "align_content": null,
            "align_items": null,
            "align_self": null,
            "border": null,
            "bottom": null,
            "display": null,
            "flex": null,
            "flex_flow": null,
            "grid_area": null,
            "grid_auto_columns": null,
            "grid_auto_flow": null,
            "grid_auto_rows": null,
            "grid_column": null,
            "grid_gap": null,
            "grid_row": null,
            "grid_template_areas": null,
            "grid_template_columns": null,
            "grid_template_rows": null,
            "height": null,
            "justify_content": null,
            "justify_items": null,
            "left": null,
            "margin": null,
            "max_height": null,
            "max_width": null,
            "min_height": null,
            "min_width": null,
            "object_fit": null,
            "object_position": null,
            "order": null,
            "overflow": null,
            "overflow_x": null,
            "overflow_y": null,
            "padding": null,
            "right": null,
            "top": null,
            "visibility": null,
            "width": null
          }
        },
        "7d3c726ca3fb48de98432b35c8550c0b": {
          "model_module": "@jupyter-widgets/base",
          "model_module_version": "1.2.0",
          "model_name": "LayoutModel",
          "state": {
            "_model_module": "@jupyter-widgets/base",
            "_model_module_version": "1.2.0",
            "_model_name": "LayoutModel",
            "_view_count": null,
            "_view_module": "@jupyter-widgets/base",
            "_view_module_version": "1.2.0",
            "_view_name": "LayoutView",
            "align_content": null,
            "align_items": null,
            "align_self": null,
            "border": null,
            "bottom": null,
            "display": null,
            "flex": null,
            "flex_flow": null,
            "grid_area": null,
            "grid_auto_columns": null,
            "grid_auto_flow": null,
            "grid_auto_rows": null,
            "grid_column": null,
            "grid_gap": null,
            "grid_row": null,
            "grid_template_areas": null,
            "grid_template_columns": null,
            "grid_template_rows": null,
            "height": null,
            "justify_content": null,
            "justify_items": null,
            "left": null,
            "margin": null,
            "max_height": null,
            "max_width": null,
            "min_height": null,
            "min_width": null,
            "object_fit": null,
            "object_position": null,
            "order": null,
            "overflow": null,
            "overflow_x": null,
            "overflow_y": null,
            "padding": null,
            "right": null,
            "top": null,
            "visibility": null,
            "width": null
          }
        },
        "7f122c7354974bb9a6eea53582c0f12d": {
          "model_module": "@jupyter-widgets/controls",
          "model_module_version": "1.5.0",
          "model_name": "FloatProgressModel",
          "state": {
            "_dom_classes": [],
            "_model_module": "@jupyter-widgets/controls",
            "_model_module_version": "1.5.0",
            "_model_name": "FloatProgressModel",
            "_view_count": null,
            "_view_module": "@jupyter-widgets/controls",
            "_view_module_version": "1.5.0",
            "_view_name": "ProgressView",
            "bar_style": "success",
            "description": "",
            "description_tooltip": null,
            "layout": "IPY_MODEL_9497f8b2ca644fa981a0acf97fcb8ef8",
            "max": 144,
            "min": 0,
            "orientation": "horizontal",
            "style": "IPY_MODEL_aae2ea570bca4227952e0cf9e9b39243",
            "value": 144
          }
        },
        "7f924ae9b05f451b9a6c8eb4920f2c2b": {
          "model_module": "@jupyter-widgets/controls",
          "model_module_version": "1.5.0",
          "model_name": "FloatProgressModel",
          "state": {
            "_dom_classes": [],
            "_model_module": "@jupyter-widgets/controls",
            "_model_module_version": "1.5.0",
            "_model_name": "FloatProgressModel",
            "_view_count": null,
            "_view_module": "@jupyter-widgets/controls",
            "_view_module_version": "1.5.0",
            "_view_name": "ProgressView",
            "bar_style": "success",
            "description": "",
            "description_tooltip": null,
            "layout": "IPY_MODEL_addabcbe6ef94a49b1ab76027ce7bd31",
            "max": 180,
            "min": 0,
            "orientation": "horizontal",
            "style": "IPY_MODEL_1e837c99ea954afea4ad0fb78656c437",
            "value": 180
          }
        },
        "7fbcaecd08c24b0c895863ca04bb823e": {
          "model_module": "@jupyter-widgets/controls",
          "model_module_version": "1.5.0",
          "model_name": "DescriptionStyleModel",
          "state": {
            "_model_module": "@jupyter-widgets/controls",
            "_model_module_version": "1.5.0",
            "_model_name": "DescriptionStyleModel",
            "_view_count": null,
            "_view_module": "@jupyter-widgets/base",
            "_view_module_version": "1.2.0",
            "_view_name": "StyleView",
            "description_width": ""
          }
        },
        "7fefca14bcba4b5092ab98577a088b9f": {
          "model_module": "@jupyter-widgets/base",
          "model_module_version": "1.2.0",
          "model_name": "LayoutModel",
          "state": {
            "_model_module": "@jupyter-widgets/base",
            "_model_module_version": "1.2.0",
            "_model_name": "LayoutModel",
            "_view_count": null,
            "_view_module": "@jupyter-widgets/base",
            "_view_module_version": "1.2.0",
            "_view_name": "LayoutView",
            "align_content": null,
            "align_items": null,
            "align_self": null,
            "border": null,
            "bottom": null,
            "display": null,
            "flex": null,
            "flex_flow": null,
            "grid_area": null,
            "grid_auto_columns": null,
            "grid_auto_flow": null,
            "grid_auto_rows": null,
            "grid_column": null,
            "grid_gap": null,
            "grid_row": null,
            "grid_template_areas": null,
            "grid_template_columns": null,
            "grid_template_rows": null,
            "height": null,
            "justify_content": null,
            "justify_items": null,
            "left": null,
            "margin": null,
            "max_height": null,
            "max_width": null,
            "min_height": null,
            "min_width": null,
            "object_fit": null,
            "object_position": null,
            "order": null,
            "overflow": null,
            "overflow_x": null,
            "overflow_y": null,
            "padding": null,
            "right": null,
            "top": null,
            "visibility": null,
            "width": null
          }
        },
        "8109a631fa3f4443885ecd6953c1137e": {
          "model_module": "@jupyter-widgets/controls",
          "model_module_version": "1.5.0",
          "model_name": "DescriptionStyleModel",
          "state": {
            "_model_module": "@jupyter-widgets/controls",
            "_model_module_version": "1.5.0",
            "_model_name": "DescriptionStyleModel",
            "_view_count": null,
            "_view_module": "@jupyter-widgets/base",
            "_view_module_version": "1.2.0",
            "_view_name": "StyleView",
            "description_width": ""
          }
        },
        "811ebb000e664308b9a9dc519a70deab": {
          "model_module": "@jupyter-widgets/controls",
          "model_module_version": "1.5.0",
          "model_name": "DescriptionStyleModel",
          "state": {
            "_model_module": "@jupyter-widgets/controls",
            "_model_module_version": "1.5.0",
            "_model_name": "DescriptionStyleModel",
            "_view_count": null,
            "_view_module": "@jupyter-widgets/base",
            "_view_module_version": "1.2.0",
            "_view_name": "StyleView",
            "description_width": ""
          }
        },
        "8188934c142d4862aaf6559a5e1f60e2": {
          "model_module": "@jupyter-widgets/base",
          "model_module_version": "1.2.0",
          "model_name": "LayoutModel",
          "state": {
            "_model_module": "@jupyter-widgets/base",
            "_model_module_version": "1.2.0",
            "_model_name": "LayoutModel",
            "_view_count": null,
            "_view_module": "@jupyter-widgets/base",
            "_view_module_version": "1.2.0",
            "_view_name": "LayoutView",
            "align_content": null,
            "align_items": null,
            "align_self": null,
            "border": null,
            "bottom": null,
            "display": null,
            "flex": null,
            "flex_flow": null,
            "grid_area": null,
            "grid_auto_columns": null,
            "grid_auto_flow": null,
            "grid_auto_rows": null,
            "grid_column": null,
            "grid_gap": null,
            "grid_row": null,
            "grid_template_areas": null,
            "grid_template_columns": null,
            "grid_template_rows": null,
            "height": null,
            "justify_content": null,
            "justify_items": null,
            "left": null,
            "margin": null,
            "max_height": null,
            "max_width": null,
            "min_height": null,
            "min_width": null,
            "object_fit": null,
            "object_position": null,
            "order": null,
            "overflow": null,
            "overflow_x": null,
            "overflow_y": null,
            "padding": null,
            "right": null,
            "top": null,
            "visibility": null,
            "width": null
          }
        },
        "81e526b016b7440abf420cc44f64b236": {
          "model_module": "@jupyter-widgets/controls",
          "model_module_version": "1.5.0",
          "model_name": "FloatProgressModel",
          "state": {
            "_dom_classes": [],
            "_model_module": "@jupyter-widgets/controls",
            "_model_module_version": "1.5.0",
            "_model_name": "FloatProgressModel",
            "_view_count": null,
            "_view_module": "@jupyter-widgets/controls",
            "_view_module_version": "1.5.0",
            "_view_name": "ProgressView",
            "bar_style": "success",
            "description": "",
            "description_tooltip": null,
            "layout": "IPY_MODEL_1b57fa43b71a4aba9a1c48b32e090a21",
            "max": 180,
            "min": 0,
            "orientation": "horizontal",
            "style": "IPY_MODEL_375136b0c3754f79825f46860f010a55",
            "value": 180
          }
        },
        "825fb3ad8d7c408f97c2a2939ca0640d": {
          "model_module": "@jupyter-widgets/controls",
          "model_module_version": "1.5.0",
          "model_name": "HBoxModel",
          "state": {
            "_dom_classes": [],
            "_model_module": "@jupyter-widgets/controls",
            "_model_module_version": "1.5.0",
            "_model_name": "HBoxModel",
            "_view_count": null,
            "_view_module": "@jupyter-widgets/controls",
            "_view_module_version": "1.5.0",
            "_view_name": "HBoxView",
            "box_style": "",
            "children": [
              "IPY_MODEL_b012ced6282544ffa601fcdf819930c7",
              "IPY_MODEL_91d87964d9a74543b9c95c80f3371187",
              "IPY_MODEL_e98f8f6751114942bbd8bf8d89366e41"
            ],
            "layout": "IPY_MODEL_22a664b1fd2a4f9fbfd24f1081746fc0"
          }
        },
        "82a9834fb9bc44199e454e8b92bbcdee": {
          "model_module": "@jupyter-widgets/base",
          "model_module_version": "1.2.0",
          "model_name": "LayoutModel",
          "state": {
            "_model_module": "@jupyter-widgets/base",
            "_model_module_version": "1.2.0",
            "_model_name": "LayoutModel",
            "_view_count": null,
            "_view_module": "@jupyter-widgets/base",
            "_view_module_version": "1.2.0",
            "_view_name": "LayoutView",
            "align_content": null,
            "align_items": null,
            "align_self": null,
            "border": null,
            "bottom": null,
            "display": null,
            "flex": null,
            "flex_flow": null,
            "grid_area": null,
            "grid_auto_columns": null,
            "grid_auto_flow": null,
            "grid_auto_rows": null,
            "grid_column": null,
            "grid_gap": null,
            "grid_row": null,
            "grid_template_areas": null,
            "grid_template_columns": null,
            "grid_template_rows": null,
            "height": null,
            "justify_content": null,
            "justify_items": null,
            "left": null,
            "margin": null,
            "max_height": null,
            "max_width": null,
            "min_height": null,
            "min_width": null,
            "object_fit": null,
            "object_position": null,
            "order": null,
            "overflow": null,
            "overflow_x": null,
            "overflow_y": null,
            "padding": null,
            "right": null,
            "top": null,
            "visibility": null,
            "width": null
          }
        },
        "830fda49b567472b91d0c2c210db34cf": {
          "model_module": "@jupyter-widgets/controls",
          "model_module_version": "1.5.0",
          "model_name": "HBoxModel",
          "state": {
            "_dom_classes": [],
            "_model_module": "@jupyter-widgets/controls",
            "_model_module_version": "1.5.0",
            "_model_name": "HBoxModel",
            "_view_count": null,
            "_view_module": "@jupyter-widgets/controls",
            "_view_module_version": "1.5.0",
            "_view_name": "HBoxView",
            "box_style": "",
            "children": [
              "IPY_MODEL_8d3b5565501247f7954ae0b18dba7c58",
              "IPY_MODEL_7f924ae9b05f451b9a6c8eb4920f2c2b",
              "IPY_MODEL_63bd8043677442e696ccc0d8a3fe5839"
            ],
            "layout": "IPY_MODEL_91970688d85e42eb90aa86ccd0a91be7"
          }
        },
        "84bbf960ddee46e39a41007929a386f1": {
          "model_module": "@jupyter-widgets/base",
          "model_module_version": "1.2.0",
          "model_name": "LayoutModel",
          "state": {
            "_model_module": "@jupyter-widgets/base",
            "_model_module_version": "1.2.0",
            "_model_name": "LayoutModel",
            "_view_count": null,
            "_view_module": "@jupyter-widgets/base",
            "_view_module_version": "1.2.0",
            "_view_name": "LayoutView",
            "align_content": null,
            "align_items": null,
            "align_self": null,
            "border": null,
            "bottom": null,
            "display": null,
            "flex": null,
            "flex_flow": null,
            "grid_area": null,
            "grid_auto_columns": null,
            "grid_auto_flow": null,
            "grid_auto_rows": null,
            "grid_column": null,
            "grid_gap": null,
            "grid_row": null,
            "grid_template_areas": null,
            "grid_template_columns": null,
            "grid_template_rows": null,
            "height": null,
            "justify_content": null,
            "justify_items": null,
            "left": null,
            "margin": null,
            "max_height": null,
            "max_width": null,
            "min_height": null,
            "min_width": null,
            "object_fit": null,
            "object_position": null,
            "order": null,
            "overflow": null,
            "overflow_x": null,
            "overflow_y": null,
            "padding": null,
            "right": null,
            "top": null,
            "visibility": null,
            "width": null
          }
        },
        "8501c54f82c84882a8705833798ecfb4": {
          "model_module": "@jupyter-widgets/base",
          "model_module_version": "1.2.0",
          "model_name": "LayoutModel",
          "state": {
            "_model_module": "@jupyter-widgets/base",
            "_model_module_version": "1.2.0",
            "_model_name": "LayoutModel",
            "_view_count": null,
            "_view_module": "@jupyter-widgets/base",
            "_view_module_version": "1.2.0",
            "_view_name": "LayoutView",
            "align_content": null,
            "align_items": null,
            "align_self": null,
            "border": null,
            "bottom": null,
            "display": null,
            "flex": null,
            "flex_flow": null,
            "grid_area": null,
            "grid_auto_columns": null,
            "grid_auto_flow": null,
            "grid_auto_rows": null,
            "grid_column": null,
            "grid_gap": null,
            "grid_row": null,
            "grid_template_areas": null,
            "grid_template_columns": null,
            "grid_template_rows": null,
            "height": null,
            "justify_content": null,
            "justify_items": null,
            "left": null,
            "margin": null,
            "max_height": null,
            "max_width": null,
            "min_height": null,
            "min_width": null,
            "object_fit": null,
            "object_position": null,
            "order": null,
            "overflow": null,
            "overflow_x": null,
            "overflow_y": null,
            "padding": null,
            "right": null,
            "top": null,
            "visibility": null,
            "width": null
          }
        },
        "886acd0422994886888136cc71f23519": {
          "model_module": "@jupyter-widgets/base",
          "model_module_version": "1.2.0",
          "model_name": "LayoutModel",
          "state": {
            "_model_module": "@jupyter-widgets/base",
            "_model_module_version": "1.2.0",
            "_model_name": "LayoutModel",
            "_view_count": null,
            "_view_module": "@jupyter-widgets/base",
            "_view_module_version": "1.2.0",
            "_view_name": "LayoutView",
            "align_content": null,
            "align_items": null,
            "align_self": null,
            "border": null,
            "bottom": null,
            "display": null,
            "flex": null,
            "flex_flow": null,
            "grid_area": null,
            "grid_auto_columns": null,
            "grid_auto_flow": null,
            "grid_auto_rows": null,
            "grid_column": null,
            "grid_gap": null,
            "grid_row": null,
            "grid_template_areas": null,
            "grid_template_columns": null,
            "grid_template_rows": null,
            "height": null,
            "justify_content": null,
            "justify_items": null,
            "left": null,
            "margin": null,
            "max_height": null,
            "max_width": null,
            "min_height": null,
            "min_width": null,
            "object_fit": null,
            "object_position": null,
            "order": null,
            "overflow": null,
            "overflow_x": null,
            "overflow_y": null,
            "padding": null,
            "right": null,
            "top": null,
            "visibility": null,
            "width": null
          }
        },
        "88861a3614834f7fb3bdc99de0d2baeb": {
          "model_module": "@jupyter-widgets/controls",
          "model_module_version": "1.5.0",
          "model_name": "ProgressStyleModel",
          "state": {
            "_model_module": "@jupyter-widgets/controls",
            "_model_module_version": "1.5.0",
            "_model_name": "ProgressStyleModel",
            "_view_count": null,
            "_view_module": "@jupyter-widgets/base",
            "_view_module_version": "1.2.0",
            "_view_name": "StyleView",
            "bar_color": null,
            "description_width": ""
          }
        },
        "8c04505825f449bf8669c1ad29ee706c": {
          "model_module": "@jupyter-widgets/base",
          "model_module_version": "1.2.0",
          "model_name": "LayoutModel",
          "state": {
            "_model_module": "@jupyter-widgets/base",
            "_model_module_version": "1.2.0",
            "_model_name": "LayoutModel",
            "_view_count": null,
            "_view_module": "@jupyter-widgets/base",
            "_view_module_version": "1.2.0",
            "_view_name": "LayoutView",
            "align_content": null,
            "align_items": null,
            "align_self": null,
            "border": null,
            "bottom": null,
            "display": null,
            "flex": null,
            "flex_flow": null,
            "grid_area": null,
            "grid_auto_columns": null,
            "grid_auto_flow": null,
            "grid_auto_rows": null,
            "grid_column": null,
            "grid_gap": null,
            "grid_row": null,
            "grid_template_areas": null,
            "grid_template_columns": null,
            "grid_template_rows": null,
            "height": null,
            "justify_content": null,
            "justify_items": null,
            "left": null,
            "margin": null,
            "max_height": null,
            "max_width": null,
            "min_height": null,
            "min_width": null,
            "object_fit": null,
            "object_position": null,
            "order": null,
            "overflow": null,
            "overflow_x": null,
            "overflow_y": null,
            "padding": null,
            "right": null,
            "top": null,
            "visibility": null,
            "width": null
          }
        },
        "8c21b9e91a28441f8297d3a04f5b4d9a": {
          "model_module": "@jupyter-widgets/controls",
          "model_module_version": "1.5.0",
          "model_name": "ProgressStyleModel",
          "state": {
            "_model_module": "@jupyter-widgets/controls",
            "_model_module_version": "1.5.0",
            "_model_name": "ProgressStyleModel",
            "_view_count": null,
            "_view_module": "@jupyter-widgets/base",
            "_view_module_version": "1.2.0",
            "_view_name": "StyleView",
            "bar_color": null,
            "description_width": ""
          }
        },
        "8c389ea18e7c435a801c8f11fa508cf0": {
          "model_module": "@jupyter-widgets/controls",
          "model_module_version": "1.5.0",
          "model_name": "HTMLModel",
          "state": {
            "_dom_classes": [],
            "_model_module": "@jupyter-widgets/controls",
            "_model_module_version": "1.5.0",
            "_model_name": "HTMLModel",
            "_view_count": null,
            "_view_module": "@jupyter-widgets/controls",
            "_view_module_version": "1.5.0",
            "_view_name": "HTMLView",
            "description": "",
            "description_tooltip": null,
            "layout": "IPY_MODEL_ff227884d1644848b0185b93c0fa6868",
            "placeholder": "​",
            "style": "IPY_MODEL_07cbbe5fb260457987b2464bb84268fe",
            "value": "100%"
          }
        },
        "8ca69d3bc7d5458288f648a3764b3a84": {
          "model_module": "@jupyter-widgets/controls",
          "model_module_version": "1.5.0",
          "model_name": "ProgressStyleModel",
          "state": {
            "_model_module": "@jupyter-widgets/controls",
            "_model_module_version": "1.5.0",
            "_model_name": "ProgressStyleModel",
            "_view_count": null,
            "_view_module": "@jupyter-widgets/base",
            "_view_module_version": "1.2.0",
            "_view_name": "StyleView",
            "bar_color": null,
            "description_width": ""
          }
        },
        "8d0ec28c53b042f78568e8d2323e4d29": {
          "model_module": "@jupyter-widgets/controls",
          "model_module_version": "1.5.0",
          "model_name": "FloatProgressModel",
          "state": {
            "_dom_classes": [],
            "_model_module": "@jupyter-widgets/controls",
            "_model_module_version": "1.5.0",
            "_model_name": "FloatProgressModel",
            "_view_count": null,
            "_view_module": "@jupyter-widgets/controls",
            "_view_module_version": "1.5.0",
            "_view_name": "ProgressView",
            "bar_style": "success",
            "description": "",
            "description_tooltip": null,
            "layout": "IPY_MODEL_3407bb38c9c34c08a93eb3f95733b525",
            "max": 180,
            "min": 0,
            "orientation": "horizontal",
            "style": "IPY_MODEL_ec0581dd1df844639b90b53a455454f9",
            "value": 180
          }
        },
        "8d3b5565501247f7954ae0b18dba7c58": {
          "model_module": "@jupyter-widgets/controls",
          "model_module_version": "1.5.0",
          "model_name": "HTMLModel",
          "state": {
            "_dom_classes": [],
            "_model_module": "@jupyter-widgets/controls",
            "_model_module_version": "1.5.0",
            "_model_name": "HTMLModel",
            "_view_count": null,
            "_view_module": "@jupyter-widgets/controls",
            "_view_module_version": "1.5.0",
            "_view_name": "HTMLView",
            "description": "",
            "description_tooltip": null,
            "layout": "IPY_MODEL_cdffa3c04b2a4318adac0c9070e40200",
            "placeholder": "​",
            "style": "IPY_MODEL_8109a631fa3f4443885ecd6953c1137e",
            "value": "100%"
          }
        },
        "8e7c46f6e6624ea8926d067813711c89": {
          "model_module": "@jupyter-widgets/base",
          "model_module_version": "1.2.0",
          "model_name": "LayoutModel",
          "state": {
            "_model_module": "@jupyter-widgets/base",
            "_model_module_version": "1.2.0",
            "_model_name": "LayoutModel",
            "_view_count": null,
            "_view_module": "@jupyter-widgets/base",
            "_view_module_version": "1.2.0",
            "_view_name": "LayoutView",
            "align_content": null,
            "align_items": null,
            "align_self": null,
            "border": null,
            "bottom": null,
            "display": null,
            "flex": null,
            "flex_flow": null,
            "grid_area": null,
            "grid_auto_columns": null,
            "grid_auto_flow": null,
            "grid_auto_rows": null,
            "grid_column": null,
            "grid_gap": null,
            "grid_row": null,
            "grid_template_areas": null,
            "grid_template_columns": null,
            "grid_template_rows": null,
            "height": null,
            "justify_content": null,
            "justify_items": null,
            "left": null,
            "margin": null,
            "max_height": null,
            "max_width": null,
            "min_height": null,
            "min_width": null,
            "object_fit": null,
            "object_position": null,
            "order": null,
            "overflow": null,
            "overflow_x": null,
            "overflow_y": null,
            "padding": null,
            "right": null,
            "top": null,
            "visibility": null,
            "width": null
          }
        },
        "8fb1bff2394a4aa492a717a0e7db3d2b": {
          "model_module": "@jupyter-widgets/controls",
          "model_module_version": "1.5.0",
          "model_name": "FloatProgressModel",
          "state": {
            "_dom_classes": [],
            "_model_module": "@jupyter-widgets/controls",
            "_model_module_version": "1.5.0",
            "_model_name": "FloatProgressModel",
            "_view_count": null,
            "_view_module": "@jupyter-widgets/controls",
            "_view_module_version": "1.5.0",
            "_view_name": "ProgressView",
            "bar_style": "success",
            "description": "",
            "description_tooltip": null,
            "layout": "IPY_MODEL_66ff90fae10642eca0fa5e631447975b",
            "max": 180,
            "min": 0,
            "orientation": "horizontal",
            "style": "IPY_MODEL_88861a3614834f7fb3bdc99de0d2baeb",
            "value": 180
          }
        },
        "9025a4ebdb5f4881aaf62e5f84e6414d": {
          "model_module": "@jupyter-widgets/controls",
          "model_module_version": "1.5.0",
          "model_name": "HBoxModel",
          "state": {
            "_dom_classes": [],
            "_model_module": "@jupyter-widgets/controls",
            "_model_module_version": "1.5.0",
            "_model_name": "HBoxModel",
            "_view_count": null,
            "_view_module": "@jupyter-widgets/controls",
            "_view_module_version": "1.5.0",
            "_view_name": "HBoxView",
            "box_style": "",
            "children": [
              "IPY_MODEL_3674a319ee694b939cd4ddda552948d4",
              "IPY_MODEL_8d0ec28c53b042f78568e8d2323e4d29",
              "IPY_MODEL_0d12e07a6cd747588e0d8360a4d9a8d5"
            ],
            "layout": "IPY_MODEL_8e7c46f6e6624ea8926d067813711c89"
          }
        },
        "90ca171bbc754e089e502b53713e1188": {
          "model_module": "@jupyter-widgets/controls",
          "model_module_version": "1.5.0",
          "model_name": "FloatProgressModel",
          "state": {
            "_dom_classes": [],
            "_model_module": "@jupyter-widgets/controls",
            "_model_module_version": "1.5.0",
            "_model_name": "FloatProgressModel",
            "_view_count": null,
            "_view_module": "@jupyter-widgets/controls",
            "_view_module_version": "1.5.0",
            "_view_name": "ProgressView",
            "bar_style": "success",
            "description": "",
            "description_tooltip": null,
            "layout": "IPY_MODEL_576a2c6d603d4c0486684a47c115f6c3",
            "max": 2160,
            "min": 0,
            "orientation": "horizontal",
            "style": "IPY_MODEL_eaa96b03fde14c8298310984e35dfda6",
            "value": 2160
          }
        },
        "91970688d85e42eb90aa86ccd0a91be7": {
          "model_module": "@jupyter-widgets/base",
          "model_module_version": "1.2.0",
          "model_name": "LayoutModel",
          "state": {
            "_model_module": "@jupyter-widgets/base",
            "_model_module_version": "1.2.0",
            "_model_name": "LayoutModel",
            "_view_count": null,
            "_view_module": "@jupyter-widgets/base",
            "_view_module_version": "1.2.0",
            "_view_name": "LayoutView",
            "align_content": null,
            "align_items": null,
            "align_self": null,
            "border": null,
            "bottom": null,
            "display": null,
            "flex": null,
            "flex_flow": null,
            "grid_area": null,
            "grid_auto_columns": null,
            "grid_auto_flow": null,
            "grid_auto_rows": null,
            "grid_column": null,
            "grid_gap": null,
            "grid_row": null,
            "grid_template_areas": null,
            "grid_template_columns": null,
            "grid_template_rows": null,
            "height": null,
            "justify_content": null,
            "justify_items": null,
            "left": null,
            "margin": null,
            "max_height": null,
            "max_width": null,
            "min_height": null,
            "min_width": null,
            "object_fit": null,
            "object_position": null,
            "order": null,
            "overflow": null,
            "overflow_x": null,
            "overflow_y": null,
            "padding": null,
            "right": null,
            "top": null,
            "visibility": null,
            "width": null
          }
        },
        "91d87964d9a74543b9c95c80f3371187": {
          "model_module": "@jupyter-widgets/controls",
          "model_module_version": "1.5.0",
          "model_name": "FloatProgressModel",
          "state": {
            "_dom_classes": [],
            "_model_module": "@jupyter-widgets/controls",
            "_model_module_version": "1.5.0",
            "_model_name": "FloatProgressModel",
            "_view_count": null,
            "_view_module": "@jupyter-widgets/controls",
            "_view_module_version": "1.5.0",
            "_view_name": "ProgressView",
            "bar_style": "success",
            "description": "",
            "description_tooltip": null,
            "layout": "IPY_MODEL_51efc4c80b20442ea75c68a7f2afbaed",
            "max": 144,
            "min": 0,
            "orientation": "horizontal",
            "style": "IPY_MODEL_8ca69d3bc7d5458288f648a3764b3a84",
            "value": 144
          }
        },
        "9408900617b942e394ced6a0d8b4d799": {
          "model_module": "@jupyter-widgets/controls",
          "model_module_version": "1.5.0",
          "model_name": "ButtonModel",
          "state": {
            "_dom_classes": [],
            "_model_module": "@jupyter-widgets/controls",
            "_model_module_version": "1.5.0",
            "_model_name": "ButtonModel",
            "_view_count": null,
            "_view_module": "@jupyter-widgets/controls",
            "_view_module_version": "1.5.0",
            "_view_name": "ButtonView",
            "button_style": "",
            "description": "Login",
            "disabled": false,
            "icon": "",
            "layout": "IPY_MODEL_ce5debeb4ec54287a2cc248cdb637651",
            "style": "IPY_MODEL_b21edc97e6b04b3ea5eee2aae3f4eb86",
            "tooltip": ""
          }
        },
        "9497f8b2ca644fa981a0acf97fcb8ef8": {
          "model_module": "@jupyter-widgets/base",
          "model_module_version": "1.2.0",
          "model_name": "LayoutModel",
          "state": {
            "_model_module": "@jupyter-widgets/base",
            "_model_module_version": "1.2.0",
            "_model_name": "LayoutModel",
            "_view_count": null,
            "_view_module": "@jupyter-widgets/base",
            "_view_module_version": "1.2.0",
            "_view_name": "LayoutView",
            "align_content": null,
            "align_items": null,
            "align_self": null,
            "border": null,
            "bottom": null,
            "display": null,
            "flex": null,
            "flex_flow": null,
            "grid_area": null,
            "grid_auto_columns": null,
            "grid_auto_flow": null,
            "grid_auto_rows": null,
            "grid_column": null,
            "grid_gap": null,
            "grid_row": null,
            "grid_template_areas": null,
            "grid_template_columns": null,
            "grid_template_rows": null,
            "height": null,
            "justify_content": null,
            "justify_items": null,
            "left": null,
            "margin": null,
            "max_height": null,
            "max_width": null,
            "min_height": null,
            "min_width": null,
            "object_fit": null,
            "object_position": null,
            "order": null,
            "overflow": null,
            "overflow_x": null,
            "overflow_y": null,
            "padding": null,
            "right": null,
            "top": null,
            "visibility": null,
            "width": null
          }
        },
        "96ad2b63efe349f2ab068599a0d8c74e": {
          "model_module": "@jupyter-widgets/controls",
          "model_module_version": "1.5.0",
          "model_name": "HTMLModel",
          "state": {
            "_dom_classes": [],
            "_model_module": "@jupyter-widgets/controls",
            "_model_module_version": "1.5.0",
            "_model_name": "HTMLModel",
            "_view_count": null,
            "_view_module": "@jupyter-widgets/controls",
            "_view_module_version": "1.5.0",
            "_view_name": "HTMLView",
            "description": "",
            "description_tooltip": null,
            "layout": "IPY_MODEL_063c166bc4b44f0292ca6ff9133cd0b7",
            "placeholder": "​",
            "style": "IPY_MODEL_fffaff2fb61446a5b900e35345b2b5eb",
            "value": "100%"
          }
        },
        "97e98f74d3b74e38be50fb205d6f1efd": {
          "model_module": "@jupyter-widgets/controls",
          "model_module_version": "1.5.0",
          "model_name": "DescriptionStyleModel",
          "state": {
            "_model_module": "@jupyter-widgets/controls",
            "_model_module_version": "1.5.0",
            "_model_name": "DescriptionStyleModel",
            "_view_count": null,
            "_view_module": "@jupyter-widgets/base",
            "_view_module_version": "1.2.0",
            "_view_name": "StyleView",
            "description_width": ""
          }
        },
        "9b1f31b34c9342fc8a1b2bfef0cf1f29": {
          "model_module": "@jupyter-widgets/controls",
          "model_module_version": "1.5.0",
          "model_name": "HTMLModel",
          "state": {
            "_dom_classes": [],
            "_model_module": "@jupyter-widgets/controls",
            "_model_module_version": "1.5.0",
            "_model_name": "HTMLModel",
            "_view_count": null,
            "_view_module": "@jupyter-widgets/controls",
            "_view_module_version": "1.5.0",
            "_view_name": "HTMLView",
            "description": "",
            "description_tooltip": null,
            "layout": "IPY_MODEL_0abe281fc6e5443e87a9a7d28419783a",
            "placeholder": "​",
            "style": "IPY_MODEL_aeb95b87161f46f6bf173943b77a4e52",
            "value": "100%"
          }
        },
        "9c78081eb3fe4146a1d79df360cd66eb": {
          "model_module": "@jupyter-widgets/base",
          "model_module_version": "1.2.0",
          "model_name": "LayoutModel",
          "state": {
            "_model_module": "@jupyter-widgets/base",
            "_model_module_version": "1.2.0",
            "_model_name": "LayoutModel",
            "_view_count": null,
            "_view_module": "@jupyter-widgets/base",
            "_view_module_version": "1.2.0",
            "_view_name": "LayoutView",
            "align_content": null,
            "align_items": null,
            "align_self": null,
            "border": null,
            "bottom": null,
            "display": null,
            "flex": null,
            "flex_flow": null,
            "grid_area": null,
            "grid_auto_columns": null,
            "grid_auto_flow": null,
            "grid_auto_rows": null,
            "grid_column": null,
            "grid_gap": null,
            "grid_row": null,
            "grid_template_areas": null,
            "grid_template_columns": null,
            "grid_template_rows": null,
            "height": null,
            "justify_content": null,
            "justify_items": null,
            "left": null,
            "margin": null,
            "max_height": null,
            "max_width": null,
            "min_height": null,
            "min_width": null,
            "object_fit": null,
            "object_position": null,
            "order": null,
            "overflow": null,
            "overflow_x": null,
            "overflow_y": null,
            "padding": null,
            "right": null,
            "top": null,
            "visibility": null,
            "width": null
          }
        },
        "9cdfb071b7924b1b92c45bbc3b77fdab": {
          "model_module": "@jupyter-widgets/controls",
          "model_module_version": "1.5.0",
          "model_name": "FloatProgressModel",
          "state": {
            "_dom_classes": [],
            "_model_module": "@jupyter-widgets/controls",
            "_model_module_version": "1.5.0",
            "_model_name": "FloatProgressModel",
            "_view_count": null,
            "_view_module": "@jupyter-widgets/controls",
            "_view_module_version": "1.5.0",
            "_view_name": "ProgressView",
            "bar_style": "success",
            "description": "",
            "description_tooltip": null,
            "layout": "IPY_MODEL_8c04505825f449bf8669c1ad29ee706c",
            "max": 180,
            "min": 0,
            "orientation": "horizontal",
            "style": "IPY_MODEL_8c21b9e91a28441f8297d3a04f5b4d9a",
            "value": 180
          }
        },
        "a0e05b2d05ba4674983ec9349f57b8ca": {
          "model_module": "@jupyter-widgets/controls",
          "model_module_version": "1.5.0",
          "model_name": "DescriptionStyleModel",
          "state": {
            "_model_module": "@jupyter-widgets/controls",
            "_model_module_version": "1.5.0",
            "_model_name": "DescriptionStyleModel",
            "_view_count": null,
            "_view_module": "@jupyter-widgets/base",
            "_view_module_version": "1.2.0",
            "_view_name": "StyleView",
            "description_width": ""
          }
        },
        "a6229b8c298947498453f64d0e90d004": {
          "model_module": "@jupyter-widgets/controls",
          "model_module_version": "1.5.0",
          "model_name": "DescriptionStyleModel",
          "state": {
            "_model_module": "@jupyter-widgets/controls",
            "_model_module_version": "1.5.0",
            "_model_name": "DescriptionStyleModel",
            "_view_count": null,
            "_view_module": "@jupyter-widgets/base",
            "_view_module_version": "1.2.0",
            "_view_name": "StyleView",
            "description_width": ""
          }
        },
        "aae2ea570bca4227952e0cf9e9b39243": {
          "model_module": "@jupyter-widgets/controls",
          "model_module_version": "1.5.0",
          "model_name": "ProgressStyleModel",
          "state": {
            "_model_module": "@jupyter-widgets/controls",
            "_model_module_version": "1.5.0",
            "_model_name": "ProgressStyleModel",
            "_view_count": null,
            "_view_module": "@jupyter-widgets/base",
            "_view_module_version": "1.2.0",
            "_view_name": "StyleView",
            "bar_color": null,
            "description_width": ""
          }
        },
        "addabcbe6ef94a49b1ab76027ce7bd31": {
          "model_module": "@jupyter-widgets/base",
          "model_module_version": "1.2.0",
          "model_name": "LayoutModel",
          "state": {
            "_model_module": "@jupyter-widgets/base",
            "_model_module_version": "1.2.0",
            "_model_name": "LayoutModel",
            "_view_count": null,
            "_view_module": "@jupyter-widgets/base",
            "_view_module_version": "1.2.0",
            "_view_name": "LayoutView",
            "align_content": null,
            "align_items": null,
            "align_self": null,
            "border": null,
            "bottom": null,
            "display": null,
            "flex": null,
            "flex_flow": null,
            "grid_area": null,
            "grid_auto_columns": null,
            "grid_auto_flow": null,
            "grid_auto_rows": null,
            "grid_column": null,
            "grid_gap": null,
            "grid_row": null,
            "grid_template_areas": null,
            "grid_template_columns": null,
            "grid_template_rows": null,
            "height": null,
            "justify_content": null,
            "justify_items": null,
            "left": null,
            "margin": null,
            "max_height": null,
            "max_width": null,
            "min_height": null,
            "min_width": null,
            "object_fit": null,
            "object_position": null,
            "order": null,
            "overflow": null,
            "overflow_x": null,
            "overflow_y": null,
            "padding": null,
            "right": null,
            "top": null,
            "visibility": null,
            "width": null
          }
        },
        "aeb95b87161f46f6bf173943b77a4e52": {
          "model_module": "@jupyter-widgets/controls",
          "model_module_version": "1.5.0",
          "model_name": "DescriptionStyleModel",
          "state": {
            "_model_module": "@jupyter-widgets/controls",
            "_model_module_version": "1.5.0",
            "_model_name": "DescriptionStyleModel",
            "_view_count": null,
            "_view_module": "@jupyter-widgets/base",
            "_view_module_version": "1.2.0",
            "_view_name": "StyleView",
            "description_width": ""
          }
        },
        "b012ced6282544ffa601fcdf819930c7": {
          "model_module": "@jupyter-widgets/controls",
          "model_module_version": "1.5.0",
          "model_name": "HTMLModel",
          "state": {
            "_dom_classes": [],
            "_model_module": "@jupyter-widgets/controls",
            "_model_module_version": "1.5.0",
            "_model_name": "HTMLModel",
            "_view_count": null,
            "_view_module": "@jupyter-widgets/controls",
            "_view_module_version": "1.5.0",
            "_view_name": "HTMLView",
            "description": "",
            "description_tooltip": null,
            "layout": "IPY_MODEL_65ca015c87154fdb86e63727041b946c",
            "placeholder": "​",
            "style": "IPY_MODEL_811ebb000e664308b9a9dc519a70deab",
            "value": "100%"
          }
        },
        "b08c648d67474d9eb9986ea24f28311b": {
          "model_module": "@jupyter-widgets/controls",
          "model_module_version": "1.5.0",
          "model_name": "FloatProgressModel",
          "state": {
            "_dom_classes": [],
            "_model_module": "@jupyter-widgets/controls",
            "_model_module_version": "1.5.0",
            "_model_name": "FloatProgressModel",
            "_view_count": null,
            "_view_module": "@jupyter-widgets/controls",
            "_view_module_version": "1.5.0",
            "_view_name": "ProgressView",
            "bar_style": "success",
            "description": "",
            "description_tooltip": null,
            "layout": "IPY_MODEL_d7754c6b0a7a4ba6b40b3c1ffc458b55",
            "max": 144,
            "min": 0,
            "orientation": "horizontal",
            "style": "IPY_MODEL_f0f946dd323d47f88ed986c4c0a2537f",
            "value": 144
          }
        },
        "b151ec6b8b9543ee9fda04de3da221b5": {
          "model_module": "@jupyter-widgets/base",
          "model_module_version": "1.2.0",
          "model_name": "LayoutModel",
          "state": {
            "_model_module": "@jupyter-widgets/base",
            "_model_module_version": "1.2.0",
            "_model_name": "LayoutModel",
            "_view_count": null,
            "_view_module": "@jupyter-widgets/base",
            "_view_module_version": "1.2.0",
            "_view_name": "LayoutView",
            "align_content": null,
            "align_items": null,
            "align_self": null,
            "border": null,
            "bottom": null,
            "display": null,
            "flex": null,
            "flex_flow": null,
            "grid_area": null,
            "grid_auto_columns": null,
            "grid_auto_flow": null,
            "grid_auto_rows": null,
            "grid_column": null,
            "grid_gap": null,
            "grid_row": null,
            "grid_template_areas": null,
            "grid_template_columns": null,
            "grid_template_rows": null,
            "height": null,
            "justify_content": null,
            "justify_items": null,
            "left": null,
            "margin": null,
            "max_height": null,
            "max_width": null,
            "min_height": null,
            "min_width": null,
            "object_fit": null,
            "object_position": null,
            "order": null,
            "overflow": null,
            "overflow_x": null,
            "overflow_y": null,
            "padding": null,
            "right": null,
            "top": null,
            "visibility": null,
            "width": null
          }
        },
        "b21edc97e6b04b3ea5eee2aae3f4eb86": {
          "model_module": "@jupyter-widgets/controls",
          "model_module_version": "1.5.0",
          "model_name": "ButtonStyleModel",
          "state": {
            "_model_module": "@jupyter-widgets/controls",
            "_model_module_version": "1.5.0",
            "_model_name": "ButtonStyleModel",
            "_view_count": null,
            "_view_module": "@jupyter-widgets/base",
            "_view_module_version": "1.2.0",
            "_view_name": "StyleView",
            "button_color": null,
            "font_weight": ""
          }
        },
        "b2b7a69c70d7489b8dd9cd4475fb22f9": {
          "model_module": "@jupyter-widgets/base",
          "model_module_version": "1.2.0",
          "model_name": "LayoutModel",
          "state": {
            "_model_module": "@jupyter-widgets/base",
            "_model_module_version": "1.2.0",
            "_model_name": "LayoutModel",
            "_view_count": null,
            "_view_module": "@jupyter-widgets/base",
            "_view_module_version": "1.2.0",
            "_view_name": "LayoutView",
            "align_content": null,
            "align_items": null,
            "align_self": null,
            "border": null,
            "bottom": null,
            "display": null,
            "flex": null,
            "flex_flow": null,
            "grid_area": null,
            "grid_auto_columns": null,
            "grid_auto_flow": null,
            "grid_auto_rows": null,
            "grid_column": null,
            "grid_gap": null,
            "grid_row": null,
            "grid_template_areas": null,
            "grid_template_columns": null,
            "grid_template_rows": null,
            "height": null,
            "justify_content": null,
            "justify_items": null,
            "left": null,
            "margin": null,
            "max_height": null,
            "max_width": null,
            "min_height": null,
            "min_width": null,
            "object_fit": null,
            "object_position": null,
            "order": null,
            "overflow": null,
            "overflow_x": null,
            "overflow_y": null,
            "padding": null,
            "right": null,
            "top": null,
            "visibility": null,
            "width": null
          }
        },
        "b5643a5bb9c54a0983f5b0aefb19d050": {
          "model_module": "@jupyter-widgets/controls",
          "model_module_version": "1.5.0",
          "model_name": "FloatProgressModel",
          "state": {
            "_dom_classes": [],
            "_model_module": "@jupyter-widgets/controls",
            "_model_module_version": "1.5.0",
            "_model_name": "FloatProgressModel",
            "_view_count": null,
            "_view_module": "@jupyter-widgets/controls",
            "_view_module_version": "1.5.0",
            "_view_name": "ProgressView",
            "bar_style": "success",
            "description": "",
            "description_tooltip": null,
            "layout": "IPY_MODEL_4d2ede20c4484505a9d67a9d9300ef15",
            "max": 144,
            "min": 0,
            "orientation": "horizontal",
            "style": "IPY_MODEL_1620fe07e0c14088bc03ec51f6383846",
            "value": 144
          }
        },
        "b7021c7fad1643368f77f69290c1b5ae": {
          "model_module": "@jupyter-widgets/base",
          "model_module_version": "1.2.0",
          "model_name": "LayoutModel",
          "state": {
            "_model_module": "@jupyter-widgets/base",
            "_model_module_version": "1.2.0",
            "_model_name": "LayoutModel",
            "_view_count": null,
            "_view_module": "@jupyter-widgets/base",
            "_view_module_version": "1.2.0",
            "_view_name": "LayoutView",
            "align_content": null,
            "align_items": null,
            "align_self": null,
            "border": null,
            "bottom": null,
            "display": null,
            "flex": null,
            "flex_flow": null,
            "grid_area": null,
            "grid_auto_columns": null,
            "grid_auto_flow": null,
            "grid_auto_rows": null,
            "grid_column": null,
            "grid_gap": null,
            "grid_row": null,
            "grid_template_areas": null,
            "grid_template_columns": null,
            "grid_template_rows": null,
            "height": null,
            "justify_content": null,
            "justify_items": null,
            "left": null,
            "margin": null,
            "max_height": null,
            "max_width": null,
            "min_height": null,
            "min_width": null,
            "object_fit": null,
            "object_position": null,
            "order": null,
            "overflow": null,
            "overflow_x": null,
            "overflow_y": null,
            "padding": null,
            "right": null,
            "top": null,
            "visibility": null,
            "width": null
          }
        },
        "b76c6442906a46f0b164449244f518eb": {
          "model_module": "@jupyter-widgets/controls",
          "model_module_version": "1.5.0",
          "model_name": "VBoxModel",
          "state": {
            "_dom_classes": [],
            "_model_module": "@jupyter-widgets/controls",
            "_model_module_version": "1.5.0",
            "_model_name": "VBoxModel",
            "_view_count": null,
            "_view_module": "@jupyter-widgets/controls",
            "_view_module_version": "1.5.0",
            "_view_name": "VBoxView",
            "box_style": "",
            "children": [
              "IPY_MODEL_b95e718ee1a0448aa9150505e439fad3",
              "IPY_MODEL_bb7569ae4d9e4996a7c74e6d6b0e172e",
              "IPY_MODEL_5ec1577140e64c34be0d2860ed137766",
              "IPY_MODEL_9408900617b942e394ced6a0d8b4d799",
              "IPY_MODEL_d3aeb6e3ae164e33812fec42f2205e08"
            ],
            "layout": "IPY_MODEL_234abcfad26c4c04a5b66f76a7700401"
          }
        },
        "b95e718ee1a0448aa9150505e439fad3": {
          "model_module": "@jupyter-widgets/controls",
          "model_module_version": "1.5.0",
          "model_name": "HTMLModel",
          "state": {
            "_dom_classes": [],
            "_model_module": "@jupyter-widgets/controls",
            "_model_module_version": "1.5.0",
            "_model_name": "HTMLModel",
            "_view_count": null,
            "_view_module": "@jupyter-widgets/controls",
            "_view_module_version": "1.5.0",
            "_view_name": "HTMLView",
            "description": "",
            "description_tooltip": null,
            "layout": "IPY_MODEL_7793574382e94f4fb1eb22c287bcfb02",
            "placeholder": "​",
            "style": "IPY_MODEL_6541cdb41ba34ae1a8fdf6d42bbe61d8",
            "value": "<center> <img\nsrc=https://huggingface.co/front/assets/huggingface_logo-noborder.svg\nalt='Hugging Face'> <br> Copy a token from <a\nhref=\"https://huggingface.co/settings/tokens\" target=\"_blank\">your Hugging Face\ntokens page</a> and paste it below. <br> Immediately click login after copying\nyour token or it might be stored in plain text in this notebook file. </center>"
          }
        },
        "b9c8ade472944666a4cc4f6793ec0f35": {
          "model_module": "@jupyter-widgets/base",
          "model_module_version": "1.2.0",
          "model_name": "LayoutModel",
          "state": {
            "_model_module": "@jupyter-widgets/base",
            "_model_module_version": "1.2.0",
            "_model_name": "LayoutModel",
            "_view_count": null,
            "_view_module": "@jupyter-widgets/base",
            "_view_module_version": "1.2.0",
            "_view_name": "LayoutView",
            "align_content": null,
            "align_items": null,
            "align_self": null,
            "border": null,
            "bottom": null,
            "display": null,
            "flex": null,
            "flex_flow": null,
            "grid_area": null,
            "grid_auto_columns": null,
            "grid_auto_flow": null,
            "grid_auto_rows": null,
            "grid_column": null,
            "grid_gap": null,
            "grid_row": null,
            "grid_template_areas": null,
            "grid_template_columns": null,
            "grid_template_rows": null,
            "height": null,
            "justify_content": null,
            "justify_items": null,
            "left": null,
            "margin": null,
            "max_height": null,
            "max_width": null,
            "min_height": null,
            "min_width": null,
            "object_fit": null,
            "object_position": null,
            "order": null,
            "overflow": null,
            "overflow_x": null,
            "overflow_y": null,
            "padding": null,
            "right": null,
            "top": null,
            "visibility": null,
            "width": null
          }
        },
        "bb40ed2d47ed4e3cbe89e68e816677e4": {
          "model_module": "@jupyter-widgets/controls",
          "model_module_version": "1.5.0",
          "model_name": "HBoxModel",
          "state": {
            "_dom_classes": [],
            "_model_module": "@jupyter-widgets/controls",
            "_model_module_version": "1.5.0",
            "_model_name": "HBoxModel",
            "_view_count": null,
            "_view_module": "@jupyter-widgets/controls",
            "_view_module_version": "1.5.0",
            "_view_name": "HBoxView",
            "box_style": "",
            "children": [
              "IPY_MODEL_0c1eb5b72748416ba1a78a06543a7bb8",
              "IPY_MODEL_b08c648d67474d9eb9986ea24f28311b",
              "IPY_MODEL_1ded46589d814836a88da906225cda46"
            ],
            "layout": "IPY_MODEL_2f43dfcb6a6b46a0a36406767d040503"
          }
        },
        "bb7569ae4d9e4996a7c74e6d6b0e172e": {
          "model_module": "@jupyter-widgets/controls",
          "model_module_version": "1.5.0",
          "model_name": "PasswordModel",
          "state": {
            "_dom_classes": [],
            "_model_module": "@jupyter-widgets/controls",
            "_model_module_version": "1.5.0",
            "_model_name": "PasswordModel",
            "_view_count": null,
            "_view_module": "@jupyter-widgets/controls",
            "_view_module_version": "1.5.0",
            "_view_name": "PasswordView",
            "continuous_update": true,
            "description": "Token:",
            "description_tooltip": null,
            "disabled": false,
            "layout": "IPY_MODEL_5b29a1117851485e9333114fabb4e072",
            "placeholder": "​",
            "style": "IPY_MODEL_bc8a2cda603a424299c53080b6050273",
            "value": ""
          }
        },
        "bc8a2cda603a424299c53080b6050273": {
          "model_module": "@jupyter-widgets/controls",
          "model_module_version": "1.5.0",
          "model_name": "DescriptionStyleModel",
          "state": {
            "_model_module": "@jupyter-widgets/controls",
            "_model_module_version": "1.5.0",
            "_model_name": "DescriptionStyleModel",
            "_view_count": null,
            "_view_module": "@jupyter-widgets/base",
            "_view_module_version": "1.2.0",
            "_view_name": "StyleView",
            "description_width": ""
          }
        },
        "bd1c647c971a474291feac1b2d87a778": {
          "model_module": "@jupyter-widgets/controls",
          "model_module_version": "1.5.0",
          "model_name": "HTMLModel",
          "state": {
            "_dom_classes": [],
            "_model_module": "@jupyter-widgets/controls",
            "_model_module_version": "1.5.0",
            "_model_name": "HTMLModel",
            "_view_count": null,
            "_view_module": "@jupyter-widgets/controls",
            "_view_module_version": "1.5.0",
            "_view_name": "HTMLView",
            "description": "",
            "description_tooltip": null,
            "layout": "IPY_MODEL_b2b7a69c70d7489b8dd9cd4475fb22f9",
            "placeholder": "​",
            "style": "IPY_MODEL_621c519f5bbe477ab1d6ba8f740cc382",
            "value": " 144/144 [00:04&lt;00:00, 28.77it/s]"
          }
        },
        "bd9df13e01aa4795bb3a7e644dde2bd1": {
          "model_module": "@jupyter-widgets/controls",
          "model_module_version": "1.5.0",
          "model_name": "HTMLModel",
          "state": {
            "_dom_classes": [],
            "_model_module": "@jupyter-widgets/controls",
            "_model_module_version": "1.5.0",
            "_model_name": "HTMLModel",
            "_view_count": null,
            "_view_module": "@jupyter-widgets/controls",
            "_view_module_version": "1.5.0",
            "_view_name": "HTMLView",
            "description": "",
            "description_tooltip": null,
            "layout": "IPY_MODEL_886acd0422994886888136cc71f23519",
            "placeholder": "​",
            "style": "IPY_MODEL_14d3b49b8dd542d298fef799a774ba91",
            "value": " 144/144 [00:05&lt;00:00, 30.99it/s]"
          }
        },
        "bfcf9873f5f14d559f3f0906d6d4b62d": {
          "model_module": "@jupyter-widgets/controls",
          "model_module_version": "1.5.0",
          "model_name": "ProgressStyleModel",
          "state": {
            "_model_module": "@jupyter-widgets/controls",
            "_model_module_version": "1.5.0",
            "_model_name": "ProgressStyleModel",
            "_view_count": null,
            "_view_module": "@jupyter-widgets/base",
            "_view_module_version": "1.2.0",
            "_view_name": "StyleView",
            "bar_color": null,
            "description_width": ""
          }
        },
        "c0047268b94745a8b8010d06f9315199": {
          "model_module": "@jupyter-widgets/controls",
          "model_module_version": "1.5.0",
          "model_name": "ProgressStyleModel",
          "state": {
            "_model_module": "@jupyter-widgets/controls",
            "_model_module_version": "1.5.0",
            "_model_name": "ProgressStyleModel",
            "_view_count": null,
            "_view_module": "@jupyter-widgets/base",
            "_view_module_version": "1.2.0",
            "_view_name": "StyleView",
            "bar_color": null,
            "description_width": ""
          }
        },
        "c0d8e052762f4742a4589527fced5fd2": {
          "model_module": "@jupyter-widgets/controls",
          "model_module_version": "1.5.0",
          "model_name": "HBoxModel",
          "state": {
            "_dom_classes": [],
            "_model_module": "@jupyter-widgets/controls",
            "_model_module_version": "1.5.0",
            "_model_name": "HBoxModel",
            "_view_count": null,
            "_view_module": "@jupyter-widgets/controls",
            "_view_module_version": "1.5.0",
            "_view_name": "HBoxView",
            "box_style": "",
            "children": [
              "IPY_MODEL_6355e7df26a141b183bdfb7f8be79778",
              "IPY_MODEL_5a6db6d2bd9c4d5697041d3b6cfc2ed6",
              "IPY_MODEL_2c3112527ebd4790b5c9bc7fb84ff494"
            ],
            "layout": "IPY_MODEL_ce028da02fad43608ca2d68936a66129"
          }
        },
        "c2593312b66d49bd9119824ba09aa2be": {
          "model_module": "@jupyter-widgets/controls",
          "model_module_version": "1.5.0",
          "model_name": "DescriptionStyleModel",
          "state": {
            "_model_module": "@jupyter-widgets/controls",
            "_model_module_version": "1.5.0",
            "_model_name": "DescriptionStyleModel",
            "_view_count": null,
            "_view_module": "@jupyter-widgets/base",
            "_view_module_version": "1.2.0",
            "_view_name": "StyleView",
            "description_width": ""
          }
        },
        "c8310b424eb941f6ae389d7de87b7287": {
          "model_module": "@jupyter-widgets/controls",
          "model_module_version": "1.5.0",
          "model_name": "HTMLModel",
          "state": {
            "_dom_classes": [],
            "_model_module": "@jupyter-widgets/controls",
            "_model_module_version": "1.5.0",
            "_model_name": "HTMLModel",
            "_view_count": null,
            "_view_module": "@jupyter-widgets/controls",
            "_view_module_version": "1.5.0",
            "_view_name": "HTMLView",
            "description": "",
            "description_tooltip": null,
            "layout": "IPY_MODEL_65917c03b217485bac9bdd53e962def8",
            "placeholder": "​",
            "style": "IPY_MODEL_60ec18de81af433880b6167a01fba30f",
            "value": "100%"
          }
        },
        "cda06f33eb604e25aea0c0b09d47827e": {
          "model_module": "@jupyter-widgets/controls",
          "model_module_version": "1.5.0",
          "model_name": "ProgressStyleModel",
          "state": {
            "_model_module": "@jupyter-widgets/controls",
            "_model_module_version": "1.5.0",
            "_model_name": "ProgressStyleModel",
            "_view_count": null,
            "_view_module": "@jupyter-widgets/base",
            "_view_module_version": "1.2.0",
            "_view_name": "StyleView",
            "bar_color": null,
            "description_width": ""
          }
        },
        "cdffa3c04b2a4318adac0c9070e40200": {
          "model_module": "@jupyter-widgets/base",
          "model_module_version": "1.2.0",
          "model_name": "LayoutModel",
          "state": {
            "_model_module": "@jupyter-widgets/base",
            "_model_module_version": "1.2.0",
            "_model_name": "LayoutModel",
            "_view_count": null,
            "_view_module": "@jupyter-widgets/base",
            "_view_module_version": "1.2.0",
            "_view_name": "LayoutView",
            "align_content": null,
            "align_items": null,
            "align_self": null,
            "border": null,
            "bottom": null,
            "display": null,
            "flex": null,
            "flex_flow": null,
            "grid_area": null,
            "grid_auto_columns": null,
            "grid_auto_flow": null,
            "grid_auto_rows": null,
            "grid_column": null,
            "grid_gap": null,
            "grid_row": null,
            "grid_template_areas": null,
            "grid_template_columns": null,
            "grid_template_rows": null,
            "height": null,
            "justify_content": null,
            "justify_items": null,
            "left": null,
            "margin": null,
            "max_height": null,
            "max_width": null,
            "min_height": null,
            "min_width": null,
            "object_fit": null,
            "object_position": null,
            "order": null,
            "overflow": null,
            "overflow_x": null,
            "overflow_y": null,
            "padding": null,
            "right": null,
            "top": null,
            "visibility": null,
            "width": null
          }
        },
        "ce028da02fad43608ca2d68936a66129": {
          "model_module": "@jupyter-widgets/base",
          "model_module_version": "1.2.0",
          "model_name": "LayoutModel",
          "state": {
            "_model_module": "@jupyter-widgets/base",
            "_model_module_version": "1.2.0",
            "_model_name": "LayoutModel",
            "_view_count": null,
            "_view_module": "@jupyter-widgets/base",
            "_view_module_version": "1.2.0",
            "_view_name": "LayoutView",
            "align_content": null,
            "align_items": null,
            "align_self": null,
            "border": null,
            "bottom": null,
            "display": null,
            "flex": null,
            "flex_flow": null,
            "grid_area": null,
            "grid_auto_columns": null,
            "grid_auto_flow": null,
            "grid_auto_rows": null,
            "grid_column": null,
            "grid_gap": null,
            "grid_row": null,
            "grid_template_areas": null,
            "grid_template_columns": null,
            "grid_template_rows": null,
            "height": null,
            "justify_content": null,
            "justify_items": null,
            "left": null,
            "margin": null,
            "max_height": null,
            "max_width": null,
            "min_height": null,
            "min_width": null,
            "object_fit": null,
            "object_position": null,
            "order": null,
            "overflow": null,
            "overflow_x": null,
            "overflow_y": null,
            "padding": null,
            "right": null,
            "top": null,
            "visibility": null,
            "width": null
          }
        },
        "ce5debeb4ec54287a2cc248cdb637651": {
          "model_module": "@jupyter-widgets/base",
          "model_module_version": "1.2.0",
          "model_name": "LayoutModel",
          "state": {
            "_model_module": "@jupyter-widgets/base",
            "_model_module_version": "1.2.0",
            "_model_name": "LayoutModel",
            "_view_count": null,
            "_view_module": "@jupyter-widgets/base",
            "_view_module_version": "1.2.0",
            "_view_name": "LayoutView",
            "align_content": null,
            "align_items": null,
            "align_self": null,
            "border": null,
            "bottom": null,
            "display": null,
            "flex": null,
            "flex_flow": null,
            "grid_area": null,
            "grid_auto_columns": null,
            "grid_auto_flow": null,
            "grid_auto_rows": null,
            "grid_column": null,
            "grid_gap": null,
            "grid_row": null,
            "grid_template_areas": null,
            "grid_template_columns": null,
            "grid_template_rows": null,
            "height": null,
            "justify_content": null,
            "justify_items": null,
            "left": null,
            "margin": null,
            "max_height": null,
            "max_width": null,
            "min_height": null,
            "min_width": null,
            "object_fit": null,
            "object_position": null,
            "order": null,
            "overflow": null,
            "overflow_x": null,
            "overflow_y": null,
            "padding": null,
            "right": null,
            "top": null,
            "visibility": null,
            "width": null
          }
        },
        "d11dbd9d6497460580184f1b0050645e": {
          "model_module": "@jupyter-widgets/controls",
          "model_module_version": "1.5.0",
          "model_name": "FloatProgressModel",
          "state": {
            "_dom_classes": [],
            "_model_module": "@jupyter-widgets/controls",
            "_model_module_version": "1.5.0",
            "_model_name": "FloatProgressModel",
            "_view_count": null,
            "_view_module": "@jupyter-widgets/controls",
            "_view_module_version": "1.5.0",
            "_view_name": "ProgressView",
            "bar_style": "success",
            "description": "",
            "description_tooltip": null,
            "layout": "IPY_MODEL_3e92516b195d413987ec326233626054",
            "max": 144,
            "min": 0,
            "orientation": "horizontal",
            "style": "IPY_MODEL_cda06f33eb604e25aea0c0b09d47827e",
            "value": 144
          }
        },
        "d3aeb6e3ae164e33812fec42f2205e08": {
          "model_module": "@jupyter-widgets/controls",
          "model_module_version": "1.5.0",
          "model_name": "HTMLModel",
          "state": {
            "_dom_classes": [],
            "_model_module": "@jupyter-widgets/controls",
            "_model_module_version": "1.5.0",
            "_model_name": "HTMLModel",
            "_view_count": null,
            "_view_module": "@jupyter-widgets/controls",
            "_view_module_version": "1.5.0",
            "_view_name": "HTMLView",
            "description": "",
            "description_tooltip": null,
            "layout": "IPY_MODEL_fb65972194544c41b8977d99eaa97718",
            "placeholder": "​",
            "style": "IPY_MODEL_97e98f74d3b74e38be50fb205d6f1efd",
            "value": "\n<b>Pro Tip:</b> If you don't already have one, you can create a dedicated\n'notebooks' token with 'write' access, that you can then easily reuse for all\nnotebooks. </center>"
          }
        },
        "d466487165f84d89bf112aefb990e880": {
          "model_module": "@jupyter-widgets/controls",
          "model_module_version": "1.5.0",
          "model_name": "DescriptionStyleModel",
          "state": {
            "_model_module": "@jupyter-widgets/controls",
            "_model_module_version": "1.5.0",
            "_model_name": "DescriptionStyleModel",
            "_view_count": null,
            "_view_module": "@jupyter-widgets/base",
            "_view_module_version": "1.2.0",
            "_view_name": "StyleView",
            "description_width": ""
          }
        },
        "d4f67196e74e4ff9b5df7045ed98b17a": {
          "model_module": "@jupyter-widgets/base",
          "model_module_version": "1.2.0",
          "model_name": "LayoutModel",
          "state": {
            "_model_module": "@jupyter-widgets/base",
            "_model_module_version": "1.2.0",
            "_model_name": "LayoutModel",
            "_view_count": null,
            "_view_module": "@jupyter-widgets/base",
            "_view_module_version": "1.2.0",
            "_view_name": "LayoutView",
            "align_content": null,
            "align_items": null,
            "align_self": null,
            "border": null,
            "bottom": null,
            "display": null,
            "flex": null,
            "flex_flow": null,
            "grid_area": null,
            "grid_auto_columns": null,
            "grid_auto_flow": null,
            "grid_auto_rows": null,
            "grid_column": null,
            "grid_gap": null,
            "grid_row": null,
            "grid_template_areas": null,
            "grid_template_columns": null,
            "grid_template_rows": null,
            "height": null,
            "justify_content": null,
            "justify_items": null,
            "left": null,
            "margin": null,
            "max_height": null,
            "max_width": null,
            "min_height": null,
            "min_width": null,
            "object_fit": null,
            "object_position": null,
            "order": null,
            "overflow": null,
            "overflow_x": null,
            "overflow_y": null,
            "padding": null,
            "right": null,
            "top": null,
            "visibility": null,
            "width": null
          }
        },
        "d7754c6b0a7a4ba6b40b3c1ffc458b55": {
          "model_module": "@jupyter-widgets/base",
          "model_module_version": "1.2.0",
          "model_name": "LayoutModel",
          "state": {
            "_model_module": "@jupyter-widgets/base",
            "_model_module_version": "1.2.0",
            "_model_name": "LayoutModel",
            "_view_count": null,
            "_view_module": "@jupyter-widgets/base",
            "_view_module_version": "1.2.0",
            "_view_name": "LayoutView",
            "align_content": null,
            "align_items": null,
            "align_self": null,
            "border": null,
            "bottom": null,
            "display": null,
            "flex": null,
            "flex_flow": null,
            "grid_area": null,
            "grid_auto_columns": null,
            "grid_auto_flow": null,
            "grid_auto_rows": null,
            "grid_column": null,
            "grid_gap": null,
            "grid_row": null,
            "grid_template_areas": null,
            "grid_template_columns": null,
            "grid_template_rows": null,
            "height": null,
            "justify_content": null,
            "justify_items": null,
            "left": null,
            "margin": null,
            "max_height": null,
            "max_width": null,
            "min_height": null,
            "min_width": null,
            "object_fit": null,
            "object_position": null,
            "order": null,
            "overflow": null,
            "overflow_x": null,
            "overflow_y": null,
            "padding": null,
            "right": null,
            "top": null,
            "visibility": null,
            "width": null
          }
        },
        "da24d7c9b66f42d7a5b0a2abff104d68": {
          "model_module": "@jupyter-widgets/controls",
          "model_module_version": "1.5.0",
          "model_name": "ProgressStyleModel",
          "state": {
            "_model_module": "@jupyter-widgets/controls",
            "_model_module_version": "1.5.0",
            "_model_name": "ProgressStyleModel",
            "_view_count": null,
            "_view_module": "@jupyter-widgets/base",
            "_view_module_version": "1.2.0",
            "_view_name": "StyleView",
            "bar_color": null,
            "description_width": ""
          }
        },
        "db81ac65ab5847819ccf4c083d049302": {
          "model_module": "@jupyter-widgets/base",
          "model_module_version": "1.2.0",
          "model_name": "LayoutModel",
          "state": {
            "_model_module": "@jupyter-widgets/base",
            "_model_module_version": "1.2.0",
            "_model_name": "LayoutModel",
            "_view_count": null,
            "_view_module": "@jupyter-widgets/base",
            "_view_module_version": "1.2.0",
            "_view_name": "LayoutView",
            "align_content": null,
            "align_items": null,
            "align_self": null,
            "border": null,
            "bottom": null,
            "display": null,
            "flex": null,
            "flex_flow": null,
            "grid_area": null,
            "grid_auto_columns": null,
            "grid_auto_flow": null,
            "grid_auto_rows": null,
            "grid_column": null,
            "grid_gap": null,
            "grid_row": null,
            "grid_template_areas": null,
            "grid_template_columns": null,
            "grid_template_rows": null,
            "height": null,
            "justify_content": null,
            "justify_items": null,
            "left": null,
            "margin": null,
            "max_height": null,
            "max_width": null,
            "min_height": null,
            "min_width": null,
            "object_fit": null,
            "object_position": null,
            "order": null,
            "overflow": null,
            "overflow_x": null,
            "overflow_y": null,
            "padding": null,
            "right": null,
            "top": null,
            "visibility": null,
            "width": null
          }
        },
        "df27d8e8836146c7a5ff13850032924f": {
          "model_module": "@jupyter-widgets/base",
          "model_module_version": "1.2.0",
          "model_name": "LayoutModel",
          "state": {
            "_model_module": "@jupyter-widgets/base",
            "_model_module_version": "1.2.0",
            "_model_name": "LayoutModel",
            "_view_count": null,
            "_view_module": "@jupyter-widgets/base",
            "_view_module_version": "1.2.0",
            "_view_name": "LayoutView",
            "align_content": null,
            "align_items": null,
            "align_self": null,
            "border": null,
            "bottom": null,
            "display": null,
            "flex": null,
            "flex_flow": null,
            "grid_area": null,
            "grid_auto_columns": null,
            "grid_auto_flow": null,
            "grid_auto_rows": null,
            "grid_column": null,
            "grid_gap": null,
            "grid_row": null,
            "grid_template_areas": null,
            "grid_template_columns": null,
            "grid_template_rows": null,
            "height": null,
            "justify_content": null,
            "justify_items": null,
            "left": null,
            "margin": null,
            "max_height": null,
            "max_width": null,
            "min_height": null,
            "min_width": null,
            "object_fit": null,
            "object_position": null,
            "order": null,
            "overflow": null,
            "overflow_x": null,
            "overflow_y": null,
            "padding": null,
            "right": null,
            "top": null,
            "visibility": null,
            "width": null
          }
        },
        "df9ccf7fb6b149b6b13a81116f0623e9": {
          "model_module": "@jupyter-widgets/base",
          "model_module_version": "1.2.0",
          "model_name": "LayoutModel",
          "state": {
            "_model_module": "@jupyter-widgets/base",
            "_model_module_version": "1.2.0",
            "_model_name": "LayoutModel",
            "_view_count": null,
            "_view_module": "@jupyter-widgets/base",
            "_view_module_version": "1.2.0",
            "_view_name": "LayoutView",
            "align_content": null,
            "align_items": null,
            "align_self": null,
            "border": null,
            "bottom": null,
            "display": null,
            "flex": null,
            "flex_flow": null,
            "grid_area": null,
            "grid_auto_columns": null,
            "grid_auto_flow": null,
            "grid_auto_rows": null,
            "grid_column": null,
            "grid_gap": null,
            "grid_row": null,
            "grid_template_areas": null,
            "grid_template_columns": null,
            "grid_template_rows": null,
            "height": null,
            "justify_content": null,
            "justify_items": null,
            "left": null,
            "margin": null,
            "max_height": null,
            "max_width": null,
            "min_height": null,
            "min_width": null,
            "object_fit": null,
            "object_position": null,
            "order": null,
            "overflow": null,
            "overflow_x": null,
            "overflow_y": null,
            "padding": null,
            "right": null,
            "top": null,
            "visibility": null,
            "width": null
          }
        },
        "e39919bc2f864f57abc72184365887ec": {
          "model_module": "@jupyter-widgets/controls",
          "model_module_version": "1.5.0",
          "model_name": "DescriptionStyleModel",
          "state": {
            "_model_module": "@jupyter-widgets/controls",
            "_model_module_version": "1.5.0",
            "_model_name": "DescriptionStyleModel",
            "_view_count": null,
            "_view_module": "@jupyter-widgets/base",
            "_view_module_version": "1.2.0",
            "_view_name": "StyleView",
            "description_width": ""
          }
        },
        "e98f8f6751114942bbd8bf8d89366e41": {
          "model_module": "@jupyter-widgets/controls",
          "model_module_version": "1.5.0",
          "model_name": "HTMLModel",
          "state": {
            "_dom_classes": [],
            "_model_module": "@jupyter-widgets/controls",
            "_model_module_version": "1.5.0",
            "_model_name": "HTMLModel",
            "_view_count": null,
            "_view_module": "@jupyter-widgets/controls",
            "_view_module_version": "1.5.0",
            "_view_name": "HTMLView",
            "description": "",
            "description_tooltip": null,
            "layout": "IPY_MODEL_df27d8e8836146c7a5ff13850032924f",
            "placeholder": "​",
            "style": "IPY_MODEL_388d5aa11c7448ab82effc14c083dace",
            "value": " 144/144 [00:04&lt;00:00, 29.19it/s]"
          }
        },
        "eaa96b03fde14c8298310984e35dfda6": {
          "model_module": "@jupyter-widgets/controls",
          "model_module_version": "1.5.0",
          "model_name": "ProgressStyleModel",
          "state": {
            "_model_module": "@jupyter-widgets/controls",
            "_model_module_version": "1.5.0",
            "_model_name": "ProgressStyleModel",
            "_view_count": null,
            "_view_module": "@jupyter-widgets/base",
            "_view_module_version": "1.2.0",
            "_view_name": "StyleView",
            "bar_color": null,
            "description_width": ""
          }
        },
        "ec0581dd1df844639b90b53a455454f9": {
          "model_module": "@jupyter-widgets/controls",
          "model_module_version": "1.5.0",
          "model_name": "ProgressStyleModel",
          "state": {
            "_model_module": "@jupyter-widgets/controls",
            "_model_module_version": "1.5.0",
            "_model_name": "ProgressStyleModel",
            "_view_count": null,
            "_view_module": "@jupyter-widgets/base",
            "_view_module_version": "1.2.0",
            "_view_name": "StyleView",
            "bar_color": null,
            "description_width": ""
          }
        },
        "ec4883abcba84051ae9d6c41ddefbcb6": {
          "model_module": "@jupyter-widgets/base",
          "model_module_version": "1.2.0",
          "model_name": "LayoutModel",
          "state": {
            "_model_module": "@jupyter-widgets/base",
            "_model_module_version": "1.2.0",
            "_model_name": "LayoutModel",
            "_view_count": null,
            "_view_module": "@jupyter-widgets/base",
            "_view_module_version": "1.2.0",
            "_view_name": "LayoutView",
            "align_content": null,
            "align_items": null,
            "align_self": null,
            "border": null,
            "bottom": null,
            "display": null,
            "flex": null,
            "flex_flow": null,
            "grid_area": null,
            "grid_auto_columns": null,
            "grid_auto_flow": null,
            "grid_auto_rows": null,
            "grid_column": null,
            "grid_gap": null,
            "grid_row": null,
            "grid_template_areas": null,
            "grid_template_columns": null,
            "grid_template_rows": null,
            "height": null,
            "justify_content": null,
            "justify_items": null,
            "left": null,
            "margin": null,
            "max_height": null,
            "max_width": null,
            "min_height": null,
            "min_width": null,
            "object_fit": null,
            "object_position": null,
            "order": null,
            "overflow": null,
            "overflow_x": null,
            "overflow_y": null,
            "padding": null,
            "right": null,
            "top": null,
            "visibility": null,
            "width": null
          }
        },
        "ec8361b504df49e7a1ffb60ece4355fd": {
          "model_module": "@jupyter-widgets/base",
          "model_module_version": "1.2.0",
          "model_name": "LayoutModel",
          "state": {
            "_model_module": "@jupyter-widgets/base",
            "_model_module_version": "1.2.0",
            "_model_name": "LayoutModel",
            "_view_count": null,
            "_view_module": "@jupyter-widgets/base",
            "_view_module_version": "1.2.0",
            "_view_name": "LayoutView",
            "align_content": null,
            "align_items": null,
            "align_self": null,
            "border": null,
            "bottom": null,
            "display": null,
            "flex": null,
            "flex_flow": null,
            "grid_area": null,
            "grid_auto_columns": null,
            "grid_auto_flow": null,
            "grid_auto_rows": null,
            "grid_column": null,
            "grid_gap": null,
            "grid_row": null,
            "grid_template_areas": null,
            "grid_template_columns": null,
            "grid_template_rows": null,
            "height": null,
            "justify_content": null,
            "justify_items": null,
            "left": null,
            "margin": null,
            "max_height": null,
            "max_width": null,
            "min_height": null,
            "min_width": null,
            "object_fit": null,
            "object_position": null,
            "order": null,
            "overflow": null,
            "overflow_x": null,
            "overflow_y": null,
            "padding": null,
            "right": null,
            "top": null,
            "visibility": null,
            "width": null
          }
        },
        "ed976a6e6c9f40b2810d7869459711d4": {
          "model_module": "@jupyter-widgets/controls",
          "model_module_version": "1.5.0",
          "model_name": "HTMLModel",
          "state": {
            "_dom_classes": [],
            "_model_module": "@jupyter-widgets/controls",
            "_model_module_version": "1.5.0",
            "_model_name": "HTMLModel",
            "_view_count": null,
            "_view_module": "@jupyter-widgets/controls",
            "_view_module_version": "1.5.0",
            "_view_name": "HTMLView",
            "description": "",
            "description_tooltip": null,
            "layout": "IPY_MODEL_6e8904a58f3a4ce3856699fb7000d725",
            "placeholder": "​",
            "style": "IPY_MODEL_480fb7bee6a341c4bf0234aa175bd5e8",
            "value": "100%"
          }
        },
        "f031bcd482304cf9bbe669a1a1a92ff6": {
          "model_module": "@jupyter-widgets/controls",
          "model_module_version": "1.5.0",
          "model_name": "HTMLModel",
          "state": {
            "_dom_classes": [],
            "_model_module": "@jupyter-widgets/controls",
            "_model_module_version": "1.5.0",
            "_model_name": "HTMLModel",
            "_view_count": null,
            "_view_module": "@jupyter-widgets/controls",
            "_view_module_version": "1.5.0",
            "_view_name": "HTMLView",
            "description": "",
            "description_tooltip": null,
            "layout": "IPY_MODEL_db81ac65ab5847819ccf4c083d049302",
            "placeholder": "​",
            "style": "IPY_MODEL_1e85072a9aaa4fea99a0f6ea760901dd",
            "value": " 180/180 [00:06&lt;00:00, 27.93it/s]"
          }
        },
        "f0f946dd323d47f88ed986c4c0a2537f": {
          "model_module": "@jupyter-widgets/controls",
          "model_module_version": "1.5.0",
          "model_name": "ProgressStyleModel",
          "state": {
            "_model_module": "@jupyter-widgets/controls",
            "_model_module_version": "1.5.0",
            "_model_name": "ProgressStyleModel",
            "_view_count": null,
            "_view_module": "@jupyter-widgets/base",
            "_view_module_version": "1.2.0",
            "_view_name": "StyleView",
            "bar_color": null,
            "description_width": ""
          }
        },
        "f5947be879d44715846b197614974298": {
          "model_module": "@jupyter-widgets/controls",
          "model_module_version": "1.5.0",
          "model_name": "DescriptionStyleModel",
          "state": {
            "_model_module": "@jupyter-widgets/controls",
            "_model_module_version": "1.5.0",
            "_model_name": "DescriptionStyleModel",
            "_view_count": null,
            "_view_module": "@jupyter-widgets/base",
            "_view_module_version": "1.2.0",
            "_view_name": "StyleView",
            "description_width": ""
          }
        },
        "f5d17117789a44bd8e16584a2f939115": {
          "model_module": "@jupyter-widgets/controls",
          "model_module_version": "1.5.0",
          "model_name": "HTMLModel",
          "state": {
            "_dom_classes": [],
            "_model_module": "@jupyter-widgets/controls",
            "_model_module_version": "1.5.0",
            "_model_name": "HTMLModel",
            "_view_count": null,
            "_view_module": "@jupyter-widgets/controls",
            "_view_module_version": "1.5.0",
            "_view_name": "HTMLView",
            "description": "",
            "description_tooltip": null,
            "layout": "IPY_MODEL_33519b6e3e8b497ebb22ca138ad08c0a",
            "placeholder": "​",
            "style": "IPY_MODEL_0ff7c562d0fe412595ffa3badb275e71",
            "value": "100%"
          }
        },
        "f80833a8b8f442409dec918c4aba25c1": {
          "model_module": "@jupyter-widgets/controls",
          "model_module_version": "1.5.0",
          "model_name": "DescriptionStyleModel",
          "state": {
            "_model_module": "@jupyter-widgets/controls",
            "_model_module_version": "1.5.0",
            "_model_name": "DescriptionStyleModel",
            "_view_count": null,
            "_view_module": "@jupyter-widgets/base",
            "_view_module_version": "1.2.0",
            "_view_name": "StyleView",
            "description_width": ""
          }
        },
        "fb65972194544c41b8977d99eaa97718": {
          "model_module": "@jupyter-widgets/base",
          "model_module_version": "1.2.0",
          "model_name": "LayoutModel",
          "state": {
            "_model_module": "@jupyter-widgets/base",
            "_model_module_version": "1.2.0",
            "_model_name": "LayoutModel",
            "_view_count": null,
            "_view_module": "@jupyter-widgets/base",
            "_view_module_version": "1.2.0",
            "_view_name": "LayoutView",
            "align_content": null,
            "align_items": null,
            "align_self": null,
            "border": null,
            "bottom": null,
            "display": null,
            "flex": null,
            "flex_flow": null,
            "grid_area": null,
            "grid_auto_columns": null,
            "grid_auto_flow": null,
            "grid_auto_rows": null,
            "grid_column": null,
            "grid_gap": null,
            "grid_row": null,
            "grid_template_areas": null,
            "grid_template_columns": null,
            "grid_template_rows": null,
            "height": null,
            "justify_content": null,
            "justify_items": null,
            "left": null,
            "margin": null,
            "max_height": null,
            "max_width": null,
            "min_height": null,
            "min_width": null,
            "object_fit": null,
            "object_position": null,
            "order": null,
            "overflow": null,
            "overflow_x": null,
            "overflow_y": null,
            "padding": null,
            "right": null,
            "top": null,
            "visibility": null,
            "width": null
          }
        },
        "ff227884d1644848b0185b93c0fa6868": {
          "model_module": "@jupyter-widgets/base",
          "model_module_version": "1.2.0",
          "model_name": "LayoutModel",
          "state": {
            "_model_module": "@jupyter-widgets/base",
            "_model_module_version": "1.2.0",
            "_model_name": "LayoutModel",
            "_view_count": null,
            "_view_module": "@jupyter-widgets/base",
            "_view_module_version": "1.2.0",
            "_view_name": "LayoutView",
            "align_content": null,
            "align_items": null,
            "align_self": null,
            "border": null,
            "bottom": null,
            "display": null,
            "flex": null,
            "flex_flow": null,
            "grid_area": null,
            "grid_auto_columns": null,
            "grid_auto_flow": null,
            "grid_auto_rows": null,
            "grid_column": null,
            "grid_gap": null,
            "grid_row": null,
            "grid_template_areas": null,
            "grid_template_columns": null,
            "grid_template_rows": null,
            "height": null,
            "justify_content": null,
            "justify_items": null,
            "left": null,
            "margin": null,
            "max_height": null,
            "max_width": null,
            "min_height": null,
            "min_width": null,
            "object_fit": null,
            "object_position": null,
            "order": null,
            "overflow": null,
            "overflow_x": null,
            "overflow_y": null,
            "padding": null,
            "right": null,
            "top": null,
            "visibility": null,
            "width": null
          }
        },
        "fffaff2fb61446a5b900e35345b2b5eb": {
          "model_module": "@jupyter-widgets/controls",
          "model_module_version": "1.5.0",
          "model_name": "DescriptionStyleModel",
          "state": {
            "_model_module": "@jupyter-widgets/controls",
            "_model_module_version": "1.5.0",
            "_model_name": "DescriptionStyleModel",
            "_view_count": null,
            "_view_module": "@jupyter-widgets/base",
            "_view_module_version": "1.2.0",
            "_view_name": "StyleView",
            "description_width": ""
          }
        }
      }
    }
  },
  "nbformat": 4,
  "nbformat_minor": 0
}
