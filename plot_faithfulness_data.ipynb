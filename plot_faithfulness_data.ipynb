{
 "cells": [
  {
   "attachments": {},
   "cell_type": "markdown",
   "metadata": {},
   "source": [
    "## Setup"
   ]
  },
  {
   "cell_type": "code",
   "execution_count": 1,
   "metadata": {},
   "outputs": [],
   "source": [
    "import os\n",
    "import json\n",
    "import glob\n",
    "import torch\n",
    "import re\n",
    "import pandas as pd\n",
    "import plotly.express as px\n",
    "import plotly.graph_objects as go\n",
    "import plotly.io as pio\n",
    "#import seaborn as sns\n",
    "import matplotlib.pyplot as plt\n",
    "from utils.data_processing import (\n",
    "    load_edge_scores_into_dictionary,\n",
    "    get_ckpts,\n",
    "    load_metrics,\n",
    "    compute_ged,\n",
    "    compute_weighted_ged,\n",
    "    compute_gtd,\n",
    "    compute_jaccard_similarity_to_reference,\n",
    "    compute_jaccard_similarity,\n",
    "    aggregate_metrics_to_tensors_step_number,\n",
    "    get_ckpts\n",
    ")"
   ]
  },
  {
   "attachments": {},
   "cell_type": "markdown",
   "metadata": {},
   "source": [
    "## Retrieve & Process Data"
   ]
  },
  {
   "attachments": {},
   "cell_type": "markdown",
   "metadata": {},
   "source": [
    "### Circuit Data"
   ]
  },
  {
   "cell_type": "code",
   "execution_count": null,
   "metadata": {},
   "outputs": [
    {
     "name": "stdout",
     "output_type": "stream",
     "text": [
      "Processing file 1/133: results/graphs/pythia-160m-seed1/ioi/57000.json\n",
      "Processing file 2/133: results/graphs/pythia-160m-seed1/ioi/95000.json\n",
      "Processing file 3/133: results/graphs/pythia-160m-seed1/ioi/107000.json\n",
      "Processing file 4/133: results/graphs/pythia-160m-seed1/ioi/34000.json\n",
      "Processing file 5/133: results/graphs/pythia-160m-seed1/ioi/6000.json\n",
      "Processing file 6/133: results/graphs/pythia-160m-seed1/ioi/37000.json\n",
      "Processing file 7/133: results/graphs/pythia-160m-seed1/ioi/39000.json\n",
      "Processing file 8/133: results/graphs/pythia-160m-seed1/ioi/104000.json\n",
      "Processing file 9/133: results/graphs/pythia-160m-seed1/ioi/59000.json\n",
      "Processing file 10/133: results/graphs/pythia-160m-seed1/ioi/67000.json\n",
      "Processing file 11/133: results/graphs/pythia-160m-seed1/ioi/111000.json\n",
      "Processing file 12/133: results/graphs/pythia-160m-seed1/ioi/76000.json\n",
      "Processing file 13/133: results/graphs/pythia-160m-seed1/ioi/5000.json\n",
      "Processing file 14/133: results/graphs/pythia-160m-seed1/ioi/42000.json\n",
      "Processing file 15/133: results/graphs/pythia-160m-seed1/ioi/77000.json\n",
      "Processing file 16/133: results/graphs/pythia-160m-seed1/ioi/86000.json\n",
      "Processing file 17/133: results/graphs/pythia-160m-seed1/ioi/80000.json\n",
      "Processing file 18/133: results/graphs/pythia-160m-seed1/ioi/81000.json\n",
      "Processing file 19/133: results/graphs/pythia-160m-seed1/ioi/63000.json\n",
      "Processing file 20/133: results/graphs/pythia-160m-seed1/ioi/56000.json\n",
      "Processing file 21/133: results/graphs/pythia-160m-seed1/ioi/8000.json\n",
      "Processing file 22/133: results/graphs/pythia-160m-seed1/ioi/93000.json\n",
      "Processing file 23/133: results/graphs/pythia-160m-seed1/ioi/120000.json\n",
      "Processing file 24/133: results/graphs/pythia-160m-seed1/ioi/62000.json\n",
      "Processing file 25/133: results/graphs/pythia-160m-seed1/ioi/70000.json\n",
      "Processing file 26/133: results/graphs/pythia-160m-seed1/ioi/19000.json\n",
      "Processing file 27/133: results/graphs/pythia-160m-seed1/ioi/121000.json\n",
      "Processing file 28/133: results/graphs/pythia-160m-seed1/ioi/105000.json\n",
      "Processing file 29/133: results/graphs/pythia-160m-seed1/ioi/129000.json\n",
      "Processing file 30/133: results/graphs/pythia-160m-seed1/ioi/96000.json\n",
      "Processing file 31/133: results/graphs/pythia-160m-seed1/ioi/124000.json\n",
      "Processing file 32/133: results/graphs/pythia-160m-seed1/ioi/143000.json\n",
      "Processing file 33/133: results/graphs/pythia-160m-seed1/ioi/79000.json\n",
      "Processing file 34/133: results/graphs/pythia-160m-seed1/ioi/29000.json\n",
      "Processing file 35/133: results/graphs/pythia-160m-seed1/ioi/10000.json\n",
      "Processing file 36/133: results/graphs/pythia-160m-seed1/ioi/135000.json\n",
      "Processing file 37/133: results/graphs/pythia-160m-seed1/ioi/65000.json\n",
      "Processing file 38/133: results/graphs/pythia-160m-seed1/ioi/60000.json\n",
      "Processing file 39/133: results/graphs/pythia-160m-seed1/ioi/90000.json\n",
      "Processing file 40/133: results/graphs/pythia-160m-seed1/ioi/106000.json\n",
      "Processing file 41/133: results/graphs/pythia-160m-seed1/ioi/33000.json\n",
      "Processing file 42/133: results/graphs/pythia-160m-seed1/ioi/103000.json\n",
      "Processing file 43/133: results/graphs/pythia-160m-seed1/ioi/113000.json\n",
      "Processing file 44/133: results/graphs/pythia-160m-seed1/ioi/35000.json\n",
      "Processing file 45/133: results/graphs/pythia-160m-seed1/ioi/133000.json\n",
      "Processing file 46/133: results/graphs/pythia-160m-seed1/ioi/18000.json\n",
      "Processing file 47/133: results/graphs/pythia-160m-seed1/ioi/55000.json\n",
      "Processing file 48/133: results/graphs/pythia-160m-seed1/ioi/102000.json\n",
      "Processing file 49/133: results/graphs/pythia-160m-seed1/ioi/108000.json\n",
      "Processing file 50/133: results/graphs/pythia-160m-seed1/ioi/49000.json\n",
      "Processing file 51/133: results/graphs/pythia-160m-seed1/ioi/130000.json\n",
      "Processing file 52/133: results/graphs/pythia-160m-seed1/ioi/83000.json\n",
      "Processing file 53/133: results/graphs/pythia-160m-seed1/ioi/31000.json\n",
      "Processing file 54/133: results/graphs/pythia-160m-seed1/ioi/46000.json\n",
      "Processing file 55/133: results/graphs/pythia-160m-seed1/ioi/112000.json\n",
      "Processing file 56/133: results/graphs/pythia-160m-seed1/ioi/26000.json\n",
      "Processing file 57/133: results/graphs/pythia-160m-seed1/ioi/78000.json\n",
      "Processing file 58/133: results/graphs/pythia-160m-seed1/ioi/13000.json\n",
      "Processing file 59/133: results/graphs/pythia-160m-seed1/ioi/47000.json\n",
      "Processing file 60/133: results/graphs/pythia-160m-seed1/ioi/58000.json\n",
      "Processing file 61/133: results/graphs/pythia-160m-seed1/ioi/134000.json\n",
      "Processing file 62/133: results/graphs/pythia-160m-seed1/ioi/100000.json\n",
      "Processing file 63/133: results/graphs/pythia-160m-seed1/ioi/27000.json\n",
      "Processing file 64/133: results/graphs/pythia-160m-seed1/ioi/48000.json\n",
      "Processing file 65/133: results/graphs/pythia-160m-seed1/ioi/91000.json\n",
      "Processing file 66/133: results/graphs/pythia-160m-seed1/ioi/122000.json\n",
      "Processing file 67/133: results/graphs/pythia-160m-seed1/ioi/99000.json\n",
      "Processing file 68/133: results/graphs/pythia-160m-seed1/ioi/32000.json\n",
      "Processing file 69/133: results/graphs/pythia-160m-seed1/ioi/30000.json\n",
      "Processing file 70/133: results/graphs/pythia-160m-seed1/ioi/44000.json\n",
      "Processing file 71/133: results/graphs/pythia-160m-seed1/ioi/116000.json\n",
      "Processing file 72/133: results/graphs/pythia-160m-seed1/ioi/74000.json\n",
      "Processing file 73/133: results/graphs/pythia-160m-seed1/ioi/118000.json\n",
      "Processing file 74/133: results/graphs/pythia-160m-seed1/ioi/94000.json\n",
      "Processing file 75/133: results/graphs/pythia-160m-seed1/ioi/119000.json\n",
      "Processing file 76/133: results/graphs/pythia-160m-seed1/ioi/64000.json\n",
      "Processing file 77/133: results/graphs/pythia-160m-seed1/ioi/69000.json\n",
      "Processing file 78/133: results/graphs/pythia-160m-seed1/ioi/72000.json\n",
      "Processing file 79/133: results/graphs/pythia-160m-seed1/ioi/117000.json\n",
      "Processing file 80/133: results/graphs/pythia-160m-seed1/ioi/9000.json\n",
      "Processing file 81/133: results/graphs/pythia-160m-seed1/ioi/98000.json\n",
      "Processing file 82/133: results/graphs/pythia-160m-seed1/ioi/110000.json\n",
      "Processing file 83/133: results/graphs/pythia-160m-seed1/ioi/88000.json\n",
      "Processing file 84/133: results/graphs/pythia-160m-seed1/ioi/16000.json\n",
      "Processing file 85/133: results/graphs/pythia-160m-seed1/ioi/23000.json\n",
      "Processing file 86/133: results/graphs/pythia-160m-seed1/ioi/109000.json\n",
      "Processing file 87/133: results/graphs/pythia-160m-seed1/ioi/22000.json\n",
      "Processing file 88/133: results/graphs/pythia-160m-seed1/ioi/17000.json\n",
      "Processing file 89/133: results/graphs/pythia-160m-seed1/ioi/73000.json\n",
      "Processing file 90/133: results/graphs/pythia-160m-seed1/ioi/71000.json\n",
      "Processing file 91/133: results/graphs/pythia-160m-seed1/ioi/125000.json\n",
      "Processing file 92/133: results/graphs/pythia-160m-seed1/ioi/84000.json\n",
      "Processing file 93/133: results/graphs/pythia-160m-seed1/ioi/87000.json\n",
      "Processing file 94/133: results/graphs/pythia-160m-seed1/ioi/131000.json\n",
      "Processing file 95/133: results/graphs/pythia-160m-seed1/ioi/24000.json\n",
      "Processing file 96/133: results/graphs/pythia-160m-seed1/ioi/128000.json\n",
      "Processing file 97/133: results/graphs/pythia-160m-seed1/ioi/51000.json\n",
      "Processing file 98/133: results/graphs/pythia-160m-seed1/ioi/52000.json\n",
      "Processing file 99/133: results/graphs/pythia-160m-seed1/ioi/132000.json\n",
      "Processing file 100/133: results/graphs/pythia-160m-seed1/ioi/101000.json\n",
      "Processing file 101/133: results/graphs/pythia-160m-seed1/ioi/89000.json\n",
      "Processing file 102/133: results/graphs/pythia-160m-seed1/ioi/40000.json\n",
      "Processing file 103/133: results/graphs/pythia-160m-seed1/ioi/43000.json\n",
      "Processing file 104/133: results/graphs/pythia-160m-seed1/ioi/54000.json\n",
      "Processing file 105/133: results/graphs/pythia-160m-seed1/ioi/11000.json\n",
      "Processing file 106/133: results/graphs/pythia-160m-seed1/ioi/36000.json\n",
      "Processing file 107/133: results/graphs/pythia-160m-seed1/ioi/45000.json\n",
      "Processing file 108/133: results/graphs/pythia-160m-seed1/ioi/50000.json\n",
      "Processing file 109/133: results/graphs/pythia-160m-seed1/ioi/114000.json\n",
      "Processing file 110/133: results/graphs/pythia-160m-seed1/ioi/66000.json\n",
      "Processing file 111/133: results/graphs/pythia-160m-seed1/ioi/28000.json\n",
      "Processing file 112/133: results/graphs/pythia-160m-seed1/ioi/82000.json\n",
      "Processing file 113/133: results/graphs/pythia-160m-seed1/ioi/127000.json\n",
      "Processing file 114/133: results/graphs/pythia-160m-seed1/ioi/14000.json\n",
      "Processing file 115/133: results/graphs/pythia-160m-seed1/ioi/75000.json\n",
      "Processing file 116/133: results/graphs/pythia-160m-seed1/ioi/115000.json\n",
      "Processing file 117/133: results/graphs/pythia-160m-seed1/ioi/12000.json\n",
      "Processing file 118/133: results/graphs/pythia-160m-seed1/ioi/21000.json\n",
      "Processing file 119/133: results/graphs/pythia-160m-seed1/ioi/38000.json\n",
      "Processing file 120/133: results/graphs/pythia-160m-seed1/ioi/15000.json\n",
      "Processing file 121/133: results/graphs/pythia-160m-seed1/ioi/85000.json\n",
      "Processing file 122/133: results/graphs/pythia-160m-seed1/ioi/61000.json\n",
      "Processing file 123/133: results/graphs/pythia-160m-seed1/ioi/7000.json\n",
      "Processing file 124/133: results/graphs/pythia-160m-seed1/ioi/68000.json\n",
      "Processing file 125/133: results/graphs/pythia-160m-seed1/ioi/53000.json\n",
      "Processing file 126/133: results/graphs/pythia-160m-seed1/ioi/25000.json\n",
      "Processing file 127/133: results/graphs/pythia-160m-seed1/ioi/97000.json\n",
      "Processing file 128/133: results/graphs/pythia-160m-seed1/ioi/4000.json\n",
      "Processing file 129/133: results/graphs/pythia-160m-seed1/ioi/123000.json\n",
      "Processing file 130/133: results/graphs/pythia-160m-seed1/ioi/20000.json\n",
      "Processing file 131/133: results/graphs/pythia-160m-seed1/ioi/41000.json\n",
      "Processing file 132/133: results/graphs/pythia-160m-seed1/ioi/126000.json\n",
      "Processing file 133/133: results/graphs/pythia-160m-seed1/ioi/92000.json\n"
     ]
    }
   ],
   "source": [
    "folder_path = 'results/graphs/pythia-160m-seed1/ioi'\n",
    "df = load_edge_scores_into_dictionary(folder_path)"
   ]
  },
  {
   "cell_type": "code",
   "execution_count": 16,
   "metadata": {},
   "outputs": [],
   "source": [
    "from utils.data_processing import read_json_file\n",
    "\n",
    "def load_faithfulness_scores_into_df(folder_path, seed_name='seed1234'):\n",
    "    file_paths = glob.glob(f'{folder_path}/*.json')\n",
    "\n",
    "    # Create an empty DataFrame to store all edge scores\n",
    "    all_sizes = pd.DataFrame()\n",
    "\n",
    "    for i, file_path in enumerate(file_paths):\n",
    "        print(f'Processing file {i+1}/{len(file_paths)}: {file_path}')\n",
    "        data = read_json_file(file_path)\n",
    "        sizes = data.keys()\n",
    "        scores = [data[size] for size in sizes]\n",
    "\n",
    "        # Extract checkpoint name from the filename\n",
    "        checkpoint_name = int(os.path.basename(file_path).replace('.json', ''))\n",
    "        #checkpoint_name = f'step {checkpoint_name}'\n",
    "\n",
    "        checkpoint_df = pd.DataFrame({'size': sizes, 'faithfulness_score': scores, 'checkpoint': checkpoint_name, 'seed': seed_name})\n",
    "        all_sizes = pd.concat([all_sizes, checkpoint_df])\n",
    "\n",
    "        #ensure size and checkpoint are integer columns\n",
    "        all_sizes['size'] = all_sizes['size'].astype(int)\n",
    "        all_sizes['checkpoint'] = all_sizes['checkpoint'].astype(int)\n",
    "\n",
    "\n",
    "    # sort by checkpoint and then by size\n",
    "    all_sizes = all_sizes.sort_values(by=['seed', 'checkpoint', 'size'])\n",
    "    return all_sizes"
   ]
  },
  {
   "cell_type": "code",
   "execution_count": 22,
   "metadata": {},
   "outputs": [
    {
     "name": "stdout",
     "output_type": "stream",
     "text": [
      "Processing file 1/140: results/faithfulness/pythia-160m/ioi/57000.json\n",
      "Processing file 2/140: results/faithfulness/pythia-160m/ioi/141000.json\n",
      "Processing file 3/140: results/faithfulness/pythia-160m/ioi/95000.json\n",
      "Processing file 4/140: results/faithfulness/pythia-160m/ioi/107000.json\n",
      "Processing file 5/140: results/faithfulness/pythia-160m/ioi/34000.json\n",
      "Processing file 6/140: results/faithfulness/pythia-160m/ioi/6000.json\n",
      "Processing file 7/140: results/faithfulness/pythia-160m/ioi/37000.json\n",
      "Processing file 8/140: results/faithfulness/pythia-160m/ioi/39000.json\n",
      "Processing file 9/140: results/faithfulness/pythia-160m/ioi/104000.json\n",
      "Processing file 10/140: results/faithfulness/pythia-160m/ioi/59000.json\n",
      "Processing file 11/140: results/faithfulness/pythia-160m/ioi/67000.json\n",
      "Processing file 12/140: results/faithfulness/pythia-160m/ioi/111000.json\n",
      "Processing file 13/140: results/faithfulness/pythia-160m/ioi/76000.json\n",
      "Processing file 14/140: results/faithfulness/pythia-160m/ioi/5000.json\n",
      "Processing file 15/140: results/faithfulness/pythia-160m/ioi/42000.json\n",
      "Processing file 16/140: results/faithfulness/pythia-160m/ioi/77000.json\n",
      "Processing file 17/140: results/faithfulness/pythia-160m/ioi/86000.json\n",
      "Processing file 18/140: results/faithfulness/pythia-160m/ioi/80000.json\n",
      "Processing file 19/140: results/faithfulness/pythia-160m/ioi/81000.json\n",
      "Processing file 20/140: results/faithfulness/pythia-160m/ioi/63000.json\n",
      "Processing file 21/140: results/faithfulness/pythia-160m/ioi/142000.json\n",
      "Processing file 22/140: results/faithfulness/pythia-160m/ioi/56000.json\n",
      "Processing file 23/140: results/faithfulness/pythia-160m/ioi/8000.json\n",
      "Processing file 24/140: results/faithfulness/pythia-160m/ioi/93000.json\n",
      "Processing file 25/140: results/faithfulness/pythia-160m/ioi/120000.json\n",
      "Processing file 26/140: results/faithfulness/pythia-160m/ioi/62000.json\n",
      "Processing file 27/140: results/faithfulness/pythia-160m/ioi/70000.json\n",
      "Processing file 28/140: results/faithfulness/pythia-160m/ioi/19000.json\n",
      "Processing file 29/140: results/faithfulness/pythia-160m/ioi/121000.json\n",
      "Processing file 30/140: results/faithfulness/pythia-160m/ioi/105000.json\n",
      "Processing file 31/140: results/faithfulness/pythia-160m/ioi/129000.json\n",
      "Processing file 32/140: results/faithfulness/pythia-160m/ioi/96000.json\n",
      "Processing file 33/140: results/faithfulness/pythia-160m/ioi/124000.json\n",
      "Processing file 34/140: results/faithfulness/pythia-160m/ioi/143000.json\n",
      "Processing file 35/140: results/faithfulness/pythia-160m/ioi/79000.json\n",
      "Processing file 36/140: results/faithfulness/pythia-160m/ioi/29000.json\n",
      "Processing file 37/140: results/faithfulness/pythia-160m/ioi/137000.json\n",
      "Processing file 38/140: results/faithfulness/pythia-160m/ioi/10000.json\n",
      "Processing file 39/140: results/faithfulness/pythia-160m/ioi/135000.json\n",
      "Processing file 40/140: results/faithfulness/pythia-160m/ioi/65000.json\n",
      "Processing file 41/140: results/faithfulness/pythia-160m/ioi/60000.json\n",
      "Processing file 42/140: results/faithfulness/pythia-160m/ioi/90000.json\n",
      "Processing file 43/140: results/faithfulness/pythia-160m/ioi/106000.json\n",
      "Processing file 44/140: results/faithfulness/pythia-160m/ioi/33000.json\n",
      "Processing file 45/140: results/faithfulness/pythia-160m/ioi/103000.json\n",
      "Processing file 46/140: results/faithfulness/pythia-160m/ioi/113000.json\n",
      "Processing file 47/140: results/faithfulness/pythia-160m/ioi/35000.json\n",
      "Processing file 48/140: results/faithfulness/pythia-160m/ioi/133000.json\n",
      "Processing file 49/140: results/faithfulness/pythia-160m/ioi/18000.json\n",
      "Processing file 50/140: results/faithfulness/pythia-160m/ioi/55000.json\n",
      "Processing file 51/140: results/faithfulness/pythia-160m/ioi/102000.json\n",
      "Processing file 52/140: results/faithfulness/pythia-160m/ioi/108000.json\n",
      "Processing file 53/140: results/faithfulness/pythia-160m/ioi/49000.json\n",
      "Processing file 54/140: results/faithfulness/pythia-160m/ioi/130000.json\n",
      "Processing file 55/140: results/faithfulness/pythia-160m/ioi/83000.json\n",
      "Processing file 56/140: results/faithfulness/pythia-160m/ioi/31000.json\n",
      "Processing file 57/140: results/faithfulness/pythia-160m/ioi/46000.json\n",
      "Processing file 58/140: results/faithfulness/pythia-160m/ioi/112000.json\n",
      "Processing file 59/140: results/faithfulness/pythia-160m/ioi/26000.json\n",
      "Processing file 60/140: results/faithfulness/pythia-160m/ioi/78000.json\n",
      "Processing file 61/140: results/faithfulness/pythia-160m/ioi/13000.json\n",
      "Processing file 62/140: results/faithfulness/pythia-160m/ioi/47000.json\n",
      "Processing file 63/140: results/faithfulness/pythia-160m/ioi/58000.json\n",
      "Processing file 64/140: results/faithfulness/pythia-160m/ioi/134000.json\n",
      "Processing file 65/140: results/faithfulness/pythia-160m/ioi/100000.json\n",
      "Processing file 66/140: results/faithfulness/pythia-160m/ioi/138000.json\n",
      "Processing file 67/140: results/faithfulness/pythia-160m/ioi/27000.json\n",
      "Processing file 68/140: results/faithfulness/pythia-160m/ioi/48000.json\n",
      "Processing file 69/140: results/faithfulness/pythia-160m/ioi/91000.json\n",
      "Processing file 70/140: results/faithfulness/pythia-160m/ioi/122000.json\n",
      "Processing file 71/140: results/faithfulness/pythia-160m/ioi/99000.json\n",
      "Processing file 72/140: results/faithfulness/pythia-160m/ioi/32000.json\n",
      "Processing file 73/140: results/faithfulness/pythia-160m/ioi/30000.json\n",
      "Processing file 74/140: results/faithfulness/pythia-160m/ioi/44000.json\n",
      "Processing file 75/140: results/faithfulness/pythia-160m/ioi/136000.json\n",
      "Processing file 76/140: results/faithfulness/pythia-160m/ioi/116000.json\n",
      "Processing file 77/140: results/faithfulness/pythia-160m/ioi/74000.json\n",
      "Processing file 78/140: results/faithfulness/pythia-160m/ioi/118000.json\n",
      "Processing file 79/140: results/faithfulness/pythia-160m/ioi/94000.json\n",
      "Processing file 80/140: results/faithfulness/pythia-160m/ioi/119000.json\n",
      "Processing file 81/140: results/faithfulness/pythia-160m/ioi/64000.json\n",
      "Processing file 82/140: results/faithfulness/pythia-160m/ioi/69000.json\n",
      "Processing file 83/140: results/faithfulness/pythia-160m/ioi/140000.json\n",
      "Processing file 84/140: results/faithfulness/pythia-160m/ioi/72000.json\n",
      "Processing file 85/140: results/faithfulness/pythia-160m/ioi/117000.json\n",
      "Processing file 86/140: results/faithfulness/pythia-160m/ioi/9000.json\n",
      "Processing file 87/140: results/faithfulness/pythia-160m/ioi/98000.json\n",
      "Processing file 88/140: results/faithfulness/pythia-160m/ioi/110000.json\n",
      "Processing file 89/140: results/faithfulness/pythia-160m/ioi/88000.json\n",
      "Processing file 90/140: results/faithfulness/pythia-160m/ioi/16000.json\n",
      "Processing file 91/140: results/faithfulness/pythia-160m/ioi/23000.json\n",
      "Processing file 92/140: results/faithfulness/pythia-160m/ioi/109000.json\n",
      "Processing file 93/140: results/faithfulness/pythia-160m/ioi/22000.json\n",
      "Processing file 94/140: results/faithfulness/pythia-160m/ioi/17000.json\n",
      "Processing file 95/140: results/faithfulness/pythia-160m/ioi/73000.json\n",
      "Processing file 96/140: results/faithfulness/pythia-160m/ioi/71000.json\n",
      "Processing file 97/140: results/faithfulness/pythia-160m/ioi/125000.json\n",
      "Processing file 98/140: results/faithfulness/pythia-160m/ioi/84000.json\n",
      "Processing file 99/140: results/faithfulness/pythia-160m/ioi/87000.json\n",
      "Processing file 100/140: results/faithfulness/pythia-160m/ioi/131000.json\n",
      "Processing file 101/140: results/faithfulness/pythia-160m/ioi/24000.json\n",
      "Processing file 102/140: results/faithfulness/pythia-160m/ioi/128000.json\n",
      "Processing file 103/140: results/faithfulness/pythia-160m/ioi/51000.json\n",
      "Processing file 104/140: results/faithfulness/pythia-160m/ioi/52000.json\n",
      "Processing file 105/140: results/faithfulness/pythia-160m/ioi/132000.json\n",
      "Processing file 106/140: results/faithfulness/pythia-160m/ioi/101000.json\n",
      "Processing file 107/140: results/faithfulness/pythia-160m/ioi/89000.json\n",
      "Processing file 108/140: results/faithfulness/pythia-160m/ioi/40000.json\n",
      "Processing file 109/140: results/faithfulness/pythia-160m/ioi/43000.json\n",
      "Processing file 110/140: results/faithfulness/pythia-160m/ioi/54000.json\n",
      "Processing file 111/140: results/faithfulness/pythia-160m/ioi/11000.json\n",
      "Processing file 112/140: results/faithfulness/pythia-160m/ioi/36000.json\n",
      "Processing file 113/140: results/faithfulness/pythia-160m/ioi/45000.json\n",
      "Processing file 114/140: results/faithfulness/pythia-160m/ioi/50000.json\n",
      "Processing file 115/140: results/faithfulness/pythia-160m/ioi/114000.json\n",
      "Processing file 116/140: results/faithfulness/pythia-160m/ioi/66000.json\n",
      "Processing file 117/140: results/faithfulness/pythia-160m/ioi/28000.json\n",
      "Processing file 118/140: results/faithfulness/pythia-160m/ioi/82000.json\n",
      "Processing file 119/140: results/faithfulness/pythia-160m/ioi/127000.json\n",
      "Processing file 120/140: results/faithfulness/pythia-160m/ioi/14000.json\n",
      "Processing file 121/140: results/faithfulness/pythia-160m/ioi/75000.json\n",
      "Processing file 122/140: results/faithfulness/pythia-160m/ioi/115000.json\n",
      "Processing file 123/140: results/faithfulness/pythia-160m/ioi/12000.json\n",
      "Processing file 124/140: results/faithfulness/pythia-160m/ioi/21000.json\n",
      "Processing file 125/140: results/faithfulness/pythia-160m/ioi/38000.json\n",
      "Processing file 126/140: results/faithfulness/pythia-160m/ioi/15000.json\n",
      "Processing file 127/140: results/faithfulness/pythia-160m/ioi/85000.json\n",
      "Processing file 128/140: results/faithfulness/pythia-160m/ioi/139000.json\n",
      "Processing file 129/140: results/faithfulness/pythia-160m/ioi/61000.json\n",
      "Processing file 130/140: results/faithfulness/pythia-160m/ioi/7000.json\n",
      "Processing file 131/140: results/faithfulness/pythia-160m/ioi/68000.json\n",
      "Processing file 132/140: results/faithfulness/pythia-160m/ioi/53000.json\n",
      "Processing file 133/140: results/faithfulness/pythia-160m/ioi/25000.json\n",
      "Processing file 134/140: results/faithfulness/pythia-160m/ioi/97000.json\n",
      "Processing file 135/140: results/faithfulness/pythia-160m/ioi/4000.json\n",
      "Processing file 136/140: results/faithfulness/pythia-160m/ioi/123000.json\n",
      "Processing file 137/140: results/faithfulness/pythia-160m/ioi/20000.json\n",
      "Processing file 138/140: results/faithfulness/pythia-160m/ioi/41000.json\n",
      "Processing file 139/140: results/faithfulness/pythia-160m/ioi/126000.json\n",
      "Processing file 140/140: results/faithfulness/pythia-160m/ioi/92000.json\n",
      "Processing file 1/140: results/faithfulness/pythia-160m-seed1/ioi/57000.json\n",
      "Processing file 2/140: results/faithfulness/pythia-160m-seed1/ioi/141000.json\n",
      "Processing file 3/140: results/faithfulness/pythia-160m-seed1/ioi/95000.json\n",
      "Processing file 4/140: results/faithfulness/pythia-160m-seed1/ioi/107000.json\n",
      "Processing file 5/140: results/faithfulness/pythia-160m-seed1/ioi/34000.json\n",
      "Processing file 6/140: results/faithfulness/pythia-160m-seed1/ioi/6000.json\n",
      "Processing file 7/140: results/faithfulness/pythia-160m-seed1/ioi/37000.json\n",
      "Processing file 8/140: results/faithfulness/pythia-160m-seed1/ioi/39000.json\n",
      "Processing file 9/140: results/faithfulness/pythia-160m-seed1/ioi/104000.json\n",
      "Processing file 10/140: results/faithfulness/pythia-160m-seed1/ioi/59000.json\n",
      "Processing file 11/140: results/faithfulness/pythia-160m-seed1/ioi/67000.json\n",
      "Processing file 12/140: results/faithfulness/pythia-160m-seed1/ioi/111000.json\n",
      "Processing file 13/140: results/faithfulness/pythia-160m-seed1/ioi/76000.json\n",
      "Processing file 14/140: results/faithfulness/pythia-160m-seed1/ioi/5000.json\n",
      "Processing file 15/140: results/faithfulness/pythia-160m-seed1/ioi/42000.json\n",
      "Processing file 16/140: results/faithfulness/pythia-160m-seed1/ioi/77000.json\n",
      "Processing file 17/140: results/faithfulness/pythia-160m-seed1/ioi/86000.json\n",
      "Processing file 18/140: results/faithfulness/pythia-160m-seed1/ioi/80000.json\n",
      "Processing file 19/140: results/faithfulness/pythia-160m-seed1/ioi/81000.json\n",
      "Processing file 20/140: results/faithfulness/pythia-160m-seed1/ioi/63000.json\n",
      "Processing file 21/140: results/faithfulness/pythia-160m-seed1/ioi/142000.json\n",
      "Processing file 22/140: results/faithfulness/pythia-160m-seed1/ioi/56000.json\n",
      "Processing file 23/140: results/faithfulness/pythia-160m-seed1/ioi/8000.json\n",
      "Processing file 24/140: results/faithfulness/pythia-160m-seed1/ioi/93000.json\n",
      "Processing file 25/140: results/faithfulness/pythia-160m-seed1/ioi/120000.json\n",
      "Processing file 26/140: results/faithfulness/pythia-160m-seed1/ioi/62000.json\n",
      "Processing file 27/140: results/faithfulness/pythia-160m-seed1/ioi/70000.json\n",
      "Processing file 28/140: results/faithfulness/pythia-160m-seed1/ioi/19000.json\n",
      "Processing file 29/140: results/faithfulness/pythia-160m-seed1/ioi/121000.json\n",
      "Processing file 30/140: results/faithfulness/pythia-160m-seed1/ioi/105000.json\n",
      "Processing file 31/140: results/faithfulness/pythia-160m-seed1/ioi/129000.json\n",
      "Processing file 32/140: results/faithfulness/pythia-160m-seed1/ioi/96000.json\n",
      "Processing file 33/140: results/faithfulness/pythia-160m-seed1/ioi/124000.json\n",
      "Processing file 34/140: results/faithfulness/pythia-160m-seed1/ioi/143000.json\n",
      "Processing file 35/140: results/faithfulness/pythia-160m-seed1/ioi/79000.json\n",
      "Processing file 36/140: results/faithfulness/pythia-160m-seed1/ioi/29000.json\n",
      "Processing file 37/140: results/faithfulness/pythia-160m-seed1/ioi/137000.json\n",
      "Processing file 38/140: results/faithfulness/pythia-160m-seed1/ioi/10000.json\n",
      "Processing file 39/140: results/faithfulness/pythia-160m-seed1/ioi/135000.json\n",
      "Processing file 40/140: results/faithfulness/pythia-160m-seed1/ioi/65000.json\n",
      "Processing file 41/140: results/faithfulness/pythia-160m-seed1/ioi/60000.json\n",
      "Processing file 42/140: results/faithfulness/pythia-160m-seed1/ioi/90000.json\n",
      "Processing file 43/140: results/faithfulness/pythia-160m-seed1/ioi/106000.json\n",
      "Processing file 44/140: results/faithfulness/pythia-160m-seed1/ioi/33000.json\n",
      "Processing file 45/140: results/faithfulness/pythia-160m-seed1/ioi/103000.json\n",
      "Processing file 46/140: results/faithfulness/pythia-160m-seed1/ioi/113000.json\n",
      "Processing file 47/140: results/faithfulness/pythia-160m-seed1/ioi/35000.json\n",
      "Processing file 48/140: results/faithfulness/pythia-160m-seed1/ioi/133000.json\n",
      "Processing file 49/140: results/faithfulness/pythia-160m-seed1/ioi/18000.json\n",
      "Processing file 50/140: results/faithfulness/pythia-160m-seed1/ioi/55000.json\n",
      "Processing file 51/140: results/faithfulness/pythia-160m-seed1/ioi/102000.json\n",
      "Processing file 52/140: results/faithfulness/pythia-160m-seed1/ioi/108000.json\n",
      "Processing file 53/140: results/faithfulness/pythia-160m-seed1/ioi/49000.json\n",
      "Processing file 54/140: results/faithfulness/pythia-160m-seed1/ioi/130000.json\n",
      "Processing file 55/140: results/faithfulness/pythia-160m-seed1/ioi/83000.json\n",
      "Processing file 56/140: results/faithfulness/pythia-160m-seed1/ioi/31000.json\n",
      "Processing file 57/140: results/faithfulness/pythia-160m-seed1/ioi/46000.json\n",
      "Processing file 58/140: results/faithfulness/pythia-160m-seed1/ioi/112000.json\n",
      "Processing file 59/140: results/faithfulness/pythia-160m-seed1/ioi/26000.json\n",
      "Processing file 60/140: results/faithfulness/pythia-160m-seed1/ioi/78000.json\n",
      "Processing file 61/140: results/faithfulness/pythia-160m-seed1/ioi/13000.json\n",
      "Processing file 62/140: results/faithfulness/pythia-160m-seed1/ioi/47000.json\n",
      "Processing file 63/140: results/faithfulness/pythia-160m-seed1/ioi/58000.json\n",
      "Processing file 64/140: results/faithfulness/pythia-160m-seed1/ioi/134000.json\n",
      "Processing file 65/140: results/faithfulness/pythia-160m-seed1/ioi/100000.json\n",
      "Processing file 66/140: results/faithfulness/pythia-160m-seed1/ioi/138000.json\n",
      "Processing file 67/140: results/faithfulness/pythia-160m-seed1/ioi/27000.json\n",
      "Processing file 68/140: results/faithfulness/pythia-160m-seed1/ioi/48000.json\n",
      "Processing file 69/140: results/faithfulness/pythia-160m-seed1/ioi/91000.json\n",
      "Processing file 70/140: results/faithfulness/pythia-160m-seed1/ioi/122000.json\n",
      "Processing file 71/140: results/faithfulness/pythia-160m-seed1/ioi/99000.json\n",
      "Processing file 72/140: results/faithfulness/pythia-160m-seed1/ioi/32000.json\n",
      "Processing file 73/140: results/faithfulness/pythia-160m-seed1/ioi/30000.json\n",
      "Processing file 74/140: results/faithfulness/pythia-160m-seed1/ioi/44000.json\n",
      "Processing file 75/140: results/faithfulness/pythia-160m-seed1/ioi/136000.json\n",
      "Processing file 76/140: results/faithfulness/pythia-160m-seed1/ioi/116000.json\n",
      "Processing file 77/140: results/faithfulness/pythia-160m-seed1/ioi/74000.json\n",
      "Processing file 78/140: results/faithfulness/pythia-160m-seed1/ioi/118000.json\n",
      "Processing file 79/140: results/faithfulness/pythia-160m-seed1/ioi/94000.json\n",
      "Processing file 80/140: results/faithfulness/pythia-160m-seed1/ioi/119000.json\n",
      "Processing file 81/140: results/faithfulness/pythia-160m-seed1/ioi/64000.json\n",
      "Processing file 82/140: results/faithfulness/pythia-160m-seed1/ioi/69000.json\n",
      "Processing file 83/140: results/faithfulness/pythia-160m-seed1/ioi/140000.json\n",
      "Processing file 84/140: results/faithfulness/pythia-160m-seed1/ioi/72000.json\n",
      "Processing file 85/140: results/faithfulness/pythia-160m-seed1/ioi/117000.json\n",
      "Processing file 86/140: results/faithfulness/pythia-160m-seed1/ioi/9000.json\n",
      "Processing file 87/140: results/faithfulness/pythia-160m-seed1/ioi/98000.json\n",
      "Processing file 88/140: results/faithfulness/pythia-160m-seed1/ioi/110000.json\n",
      "Processing file 89/140: results/faithfulness/pythia-160m-seed1/ioi/88000.json\n",
      "Processing file 90/140: results/faithfulness/pythia-160m-seed1/ioi/16000.json\n",
      "Processing file 91/140: results/faithfulness/pythia-160m-seed1/ioi/23000.json\n",
      "Processing file 92/140: results/faithfulness/pythia-160m-seed1/ioi/109000.json\n",
      "Processing file 93/140: results/faithfulness/pythia-160m-seed1/ioi/22000.json\n",
      "Processing file 94/140: results/faithfulness/pythia-160m-seed1/ioi/17000.json\n",
      "Processing file 95/140: results/faithfulness/pythia-160m-seed1/ioi/73000.json\n",
      "Processing file 96/140: results/faithfulness/pythia-160m-seed1/ioi/71000.json\n",
      "Processing file 97/140: results/faithfulness/pythia-160m-seed1/ioi/125000.json\n",
      "Processing file 98/140: results/faithfulness/pythia-160m-seed1/ioi/84000.json\n",
      "Processing file 99/140: results/faithfulness/pythia-160m-seed1/ioi/87000.json\n",
      "Processing file 100/140: results/faithfulness/pythia-160m-seed1/ioi/131000.json\n",
      "Processing file 101/140: results/faithfulness/pythia-160m-seed1/ioi/24000.json\n",
      "Processing file 102/140: results/faithfulness/pythia-160m-seed1/ioi/128000.json\n",
      "Processing file 103/140: results/faithfulness/pythia-160m-seed1/ioi/51000.json\n",
      "Processing file 104/140: results/faithfulness/pythia-160m-seed1/ioi/52000.json\n",
      "Processing file 105/140: results/faithfulness/pythia-160m-seed1/ioi/132000.json\n",
      "Processing file 106/140: results/faithfulness/pythia-160m-seed1/ioi/101000.json\n",
      "Processing file 107/140: results/faithfulness/pythia-160m-seed1/ioi/89000.json\n",
      "Processing file 108/140: results/faithfulness/pythia-160m-seed1/ioi/40000.json\n",
      "Processing file 109/140: results/faithfulness/pythia-160m-seed1/ioi/43000.json\n",
      "Processing file 110/140: results/faithfulness/pythia-160m-seed1/ioi/54000.json\n",
      "Processing file 111/140: results/faithfulness/pythia-160m-seed1/ioi/11000.json\n",
      "Processing file 112/140: results/faithfulness/pythia-160m-seed1/ioi/36000.json\n",
      "Processing file 113/140: results/faithfulness/pythia-160m-seed1/ioi/45000.json\n",
      "Processing file 114/140: results/faithfulness/pythia-160m-seed1/ioi/50000.json\n",
      "Processing file 115/140: results/faithfulness/pythia-160m-seed1/ioi/114000.json\n",
      "Processing file 116/140: results/faithfulness/pythia-160m-seed1/ioi/66000.json\n",
      "Processing file 117/140: results/faithfulness/pythia-160m-seed1/ioi/28000.json\n",
      "Processing file 118/140: results/faithfulness/pythia-160m-seed1/ioi/82000.json\n",
      "Processing file 119/140: results/faithfulness/pythia-160m-seed1/ioi/127000.json\n",
      "Processing file 120/140: results/faithfulness/pythia-160m-seed1/ioi/14000.json\n",
      "Processing file 121/140: results/faithfulness/pythia-160m-seed1/ioi/75000.json\n",
      "Processing file 122/140: results/faithfulness/pythia-160m-seed1/ioi/115000.json\n",
      "Processing file 123/140: results/faithfulness/pythia-160m-seed1/ioi/12000.json\n",
      "Processing file 124/140: results/faithfulness/pythia-160m-seed1/ioi/21000.json\n",
      "Processing file 125/140: results/faithfulness/pythia-160m-seed1/ioi/38000.json\n",
      "Processing file 126/140: results/faithfulness/pythia-160m-seed1/ioi/15000.json\n",
      "Processing file 127/140: results/faithfulness/pythia-160m-seed1/ioi/85000.json\n",
      "Processing file 128/140: results/faithfulness/pythia-160m-seed1/ioi/139000.json\n",
      "Processing file 129/140: results/faithfulness/pythia-160m-seed1/ioi/61000.json\n",
      "Processing file 130/140: results/faithfulness/pythia-160m-seed1/ioi/7000.json\n",
      "Processing file 131/140: results/faithfulness/pythia-160m-seed1/ioi/68000.json\n",
      "Processing file 132/140: results/faithfulness/pythia-160m-seed1/ioi/53000.json\n",
      "Processing file 133/140: results/faithfulness/pythia-160m-seed1/ioi/25000.json\n",
      "Processing file 134/140: results/faithfulness/pythia-160m-seed1/ioi/97000.json\n",
      "Processing file 135/140: results/faithfulness/pythia-160m-seed1/ioi/4000.json\n",
      "Processing file 136/140: results/faithfulness/pythia-160m-seed1/ioi/123000.json\n",
      "Processing file 137/140: results/faithfulness/pythia-160m-seed1/ioi/20000.json\n",
      "Processing file 138/140: results/faithfulness/pythia-160m-seed1/ioi/41000.json\n",
      "Processing file 139/140: results/faithfulness/pythia-160m-seed1/ioi/126000.json\n",
      "Processing file 140/140: results/faithfulness/pythia-160m-seed1/ioi/92000.json\n",
      "Processing file 1/140: results/faithfulness/pythia-160m-seed2/ioi/57000.json\n",
      "Processing file 2/140: results/faithfulness/pythia-160m-seed2/ioi/141000.json\n",
      "Processing file 3/140: results/faithfulness/pythia-160m-seed2/ioi/95000.json\n",
      "Processing file 4/140: results/faithfulness/pythia-160m-seed2/ioi/107000.json\n",
      "Processing file 5/140: results/faithfulness/pythia-160m-seed2/ioi/34000.json\n",
      "Processing file 6/140: results/faithfulness/pythia-160m-seed2/ioi/6000.json\n",
      "Processing file 7/140: results/faithfulness/pythia-160m-seed2/ioi/37000.json\n",
      "Processing file 8/140: results/faithfulness/pythia-160m-seed2/ioi/39000.json\n",
      "Processing file 9/140: results/faithfulness/pythia-160m-seed2/ioi/104000.json\n",
      "Processing file 10/140: results/faithfulness/pythia-160m-seed2/ioi/59000.json\n",
      "Processing file 11/140: results/faithfulness/pythia-160m-seed2/ioi/67000.json\n",
      "Processing file 12/140: results/faithfulness/pythia-160m-seed2/ioi/111000.json\n",
      "Processing file 13/140: results/faithfulness/pythia-160m-seed2/ioi/76000.json\n",
      "Processing file 14/140: results/faithfulness/pythia-160m-seed2/ioi/5000.json\n",
      "Processing file 15/140: results/faithfulness/pythia-160m-seed2/ioi/42000.json\n",
      "Processing file 16/140: results/faithfulness/pythia-160m-seed2/ioi/77000.json\n",
      "Processing file 17/140: results/faithfulness/pythia-160m-seed2/ioi/86000.json\n",
      "Processing file 18/140: results/faithfulness/pythia-160m-seed2/ioi/80000.json\n",
      "Processing file 19/140: results/faithfulness/pythia-160m-seed2/ioi/81000.json\n",
      "Processing file 20/140: results/faithfulness/pythia-160m-seed2/ioi/63000.json\n",
      "Processing file 21/140: results/faithfulness/pythia-160m-seed2/ioi/142000.json\n",
      "Processing file 22/140: results/faithfulness/pythia-160m-seed2/ioi/56000.json\n",
      "Processing file 23/140: results/faithfulness/pythia-160m-seed2/ioi/8000.json\n",
      "Processing file 24/140: results/faithfulness/pythia-160m-seed2/ioi/93000.json\n",
      "Processing file 25/140: results/faithfulness/pythia-160m-seed2/ioi/120000.json\n",
      "Processing file 26/140: results/faithfulness/pythia-160m-seed2/ioi/62000.json\n",
      "Processing file 27/140: results/faithfulness/pythia-160m-seed2/ioi/70000.json\n",
      "Processing file 28/140: results/faithfulness/pythia-160m-seed2/ioi/19000.json\n",
      "Processing file 29/140: results/faithfulness/pythia-160m-seed2/ioi/121000.json\n",
      "Processing file 30/140: results/faithfulness/pythia-160m-seed2/ioi/105000.json\n",
      "Processing file 31/140: results/faithfulness/pythia-160m-seed2/ioi/129000.json\n",
      "Processing file 32/140: results/faithfulness/pythia-160m-seed2/ioi/96000.json\n",
      "Processing file 33/140: results/faithfulness/pythia-160m-seed2/ioi/124000.json\n",
      "Processing file 34/140: results/faithfulness/pythia-160m-seed2/ioi/143000.json\n",
      "Processing file 35/140: results/faithfulness/pythia-160m-seed2/ioi/79000.json\n",
      "Processing file 36/140: results/faithfulness/pythia-160m-seed2/ioi/29000.json\n",
      "Processing file 37/140: results/faithfulness/pythia-160m-seed2/ioi/137000.json\n",
      "Processing file 38/140: results/faithfulness/pythia-160m-seed2/ioi/10000.json\n",
      "Processing file 39/140: results/faithfulness/pythia-160m-seed2/ioi/135000.json\n",
      "Processing file 40/140: results/faithfulness/pythia-160m-seed2/ioi/65000.json\n",
      "Processing file 41/140: results/faithfulness/pythia-160m-seed2/ioi/60000.json\n",
      "Processing file 42/140: results/faithfulness/pythia-160m-seed2/ioi/90000.json\n",
      "Processing file 43/140: results/faithfulness/pythia-160m-seed2/ioi/106000.json\n",
      "Processing file 44/140: results/faithfulness/pythia-160m-seed2/ioi/33000.json\n",
      "Processing file 45/140: results/faithfulness/pythia-160m-seed2/ioi/103000.json\n",
      "Processing file 46/140: results/faithfulness/pythia-160m-seed2/ioi/113000.json\n",
      "Processing file 47/140: results/faithfulness/pythia-160m-seed2/ioi/35000.json\n",
      "Processing file 48/140: results/faithfulness/pythia-160m-seed2/ioi/133000.json\n",
      "Processing file 49/140: results/faithfulness/pythia-160m-seed2/ioi/18000.json\n",
      "Processing file 50/140: results/faithfulness/pythia-160m-seed2/ioi/55000.json\n",
      "Processing file 51/140: results/faithfulness/pythia-160m-seed2/ioi/102000.json\n",
      "Processing file 52/140: results/faithfulness/pythia-160m-seed2/ioi/108000.json\n",
      "Processing file 53/140: results/faithfulness/pythia-160m-seed2/ioi/49000.json\n",
      "Processing file 54/140: results/faithfulness/pythia-160m-seed2/ioi/130000.json\n",
      "Processing file 55/140: results/faithfulness/pythia-160m-seed2/ioi/83000.json\n",
      "Processing file 56/140: results/faithfulness/pythia-160m-seed2/ioi/31000.json\n",
      "Processing file 57/140: results/faithfulness/pythia-160m-seed2/ioi/46000.json\n",
      "Processing file 58/140: results/faithfulness/pythia-160m-seed2/ioi/112000.json\n",
      "Processing file 59/140: results/faithfulness/pythia-160m-seed2/ioi/26000.json\n",
      "Processing file 60/140: results/faithfulness/pythia-160m-seed2/ioi/78000.json\n",
      "Processing file 61/140: results/faithfulness/pythia-160m-seed2/ioi/13000.json\n",
      "Processing file 62/140: results/faithfulness/pythia-160m-seed2/ioi/47000.json\n",
      "Processing file 63/140: results/faithfulness/pythia-160m-seed2/ioi/58000.json\n",
      "Processing file 64/140: results/faithfulness/pythia-160m-seed2/ioi/134000.json\n",
      "Processing file 65/140: results/faithfulness/pythia-160m-seed2/ioi/100000.json\n",
      "Processing file 66/140: results/faithfulness/pythia-160m-seed2/ioi/138000.json\n",
      "Processing file 67/140: results/faithfulness/pythia-160m-seed2/ioi/27000.json\n",
      "Processing file 68/140: results/faithfulness/pythia-160m-seed2/ioi/48000.json\n",
      "Processing file 69/140: results/faithfulness/pythia-160m-seed2/ioi/91000.json\n",
      "Processing file 70/140: results/faithfulness/pythia-160m-seed2/ioi/122000.json\n",
      "Processing file 71/140: results/faithfulness/pythia-160m-seed2/ioi/99000.json\n",
      "Processing file 72/140: results/faithfulness/pythia-160m-seed2/ioi/32000.json\n",
      "Processing file 73/140: results/faithfulness/pythia-160m-seed2/ioi/30000.json\n",
      "Processing file 74/140: results/faithfulness/pythia-160m-seed2/ioi/44000.json\n",
      "Processing file 75/140: results/faithfulness/pythia-160m-seed2/ioi/136000.json\n",
      "Processing file 76/140: results/faithfulness/pythia-160m-seed2/ioi/116000.json\n",
      "Processing file 77/140: results/faithfulness/pythia-160m-seed2/ioi/74000.json\n",
      "Processing file 78/140: results/faithfulness/pythia-160m-seed2/ioi/118000.json\n",
      "Processing file 79/140: results/faithfulness/pythia-160m-seed2/ioi/94000.json\n",
      "Processing file 80/140: results/faithfulness/pythia-160m-seed2/ioi/119000.json\n",
      "Processing file 81/140: results/faithfulness/pythia-160m-seed2/ioi/64000.json\n",
      "Processing file 82/140: results/faithfulness/pythia-160m-seed2/ioi/69000.json\n",
      "Processing file 83/140: results/faithfulness/pythia-160m-seed2/ioi/140000.json\n",
      "Processing file 84/140: results/faithfulness/pythia-160m-seed2/ioi/72000.json\n",
      "Processing file 85/140: results/faithfulness/pythia-160m-seed2/ioi/117000.json\n",
      "Processing file 86/140: results/faithfulness/pythia-160m-seed2/ioi/9000.json\n",
      "Processing file 87/140: results/faithfulness/pythia-160m-seed2/ioi/98000.json\n",
      "Processing file 88/140: results/faithfulness/pythia-160m-seed2/ioi/110000.json\n",
      "Processing file 89/140: results/faithfulness/pythia-160m-seed2/ioi/88000.json\n",
      "Processing file 90/140: results/faithfulness/pythia-160m-seed2/ioi/16000.json\n",
      "Processing file 91/140: results/faithfulness/pythia-160m-seed2/ioi/23000.json\n",
      "Processing file 92/140: results/faithfulness/pythia-160m-seed2/ioi/109000.json\n",
      "Processing file 93/140: results/faithfulness/pythia-160m-seed2/ioi/22000.json\n",
      "Processing file 94/140: results/faithfulness/pythia-160m-seed2/ioi/17000.json\n",
      "Processing file 95/140: results/faithfulness/pythia-160m-seed2/ioi/73000.json\n",
      "Processing file 96/140: results/faithfulness/pythia-160m-seed2/ioi/71000.json\n",
      "Processing file 97/140: results/faithfulness/pythia-160m-seed2/ioi/125000.json\n",
      "Processing file 98/140: results/faithfulness/pythia-160m-seed2/ioi/84000.json\n",
      "Processing file 99/140: results/faithfulness/pythia-160m-seed2/ioi/87000.json\n",
      "Processing file 100/140: results/faithfulness/pythia-160m-seed2/ioi/131000.json\n",
      "Processing file 101/140: results/faithfulness/pythia-160m-seed2/ioi/24000.json\n",
      "Processing file 102/140: results/faithfulness/pythia-160m-seed2/ioi/128000.json\n",
      "Processing file 103/140: results/faithfulness/pythia-160m-seed2/ioi/51000.json\n",
      "Processing file 104/140: results/faithfulness/pythia-160m-seed2/ioi/52000.json\n",
      "Processing file 105/140: results/faithfulness/pythia-160m-seed2/ioi/132000.json\n",
      "Processing file 106/140: results/faithfulness/pythia-160m-seed2/ioi/101000.json\n",
      "Processing file 107/140: results/faithfulness/pythia-160m-seed2/ioi/89000.json\n",
      "Processing file 108/140: results/faithfulness/pythia-160m-seed2/ioi/40000.json\n",
      "Processing file 109/140: results/faithfulness/pythia-160m-seed2/ioi/43000.json\n",
      "Processing file 110/140: results/faithfulness/pythia-160m-seed2/ioi/54000.json\n",
      "Processing file 111/140: results/faithfulness/pythia-160m-seed2/ioi/11000.json\n",
      "Processing file 112/140: results/faithfulness/pythia-160m-seed2/ioi/36000.json\n",
      "Processing file 113/140: results/faithfulness/pythia-160m-seed2/ioi/45000.json\n",
      "Processing file 114/140: results/faithfulness/pythia-160m-seed2/ioi/50000.json\n",
      "Processing file 115/140: results/faithfulness/pythia-160m-seed2/ioi/114000.json\n",
      "Processing file 116/140: results/faithfulness/pythia-160m-seed2/ioi/66000.json\n",
      "Processing file 117/140: results/faithfulness/pythia-160m-seed2/ioi/28000.json\n",
      "Processing file 118/140: results/faithfulness/pythia-160m-seed2/ioi/82000.json\n",
      "Processing file 119/140: results/faithfulness/pythia-160m-seed2/ioi/127000.json\n",
      "Processing file 120/140: results/faithfulness/pythia-160m-seed2/ioi/14000.json\n",
      "Processing file 121/140: results/faithfulness/pythia-160m-seed2/ioi/75000.json\n",
      "Processing file 122/140: results/faithfulness/pythia-160m-seed2/ioi/115000.json\n",
      "Processing file 123/140: results/faithfulness/pythia-160m-seed2/ioi/12000.json\n",
      "Processing file 124/140: results/faithfulness/pythia-160m-seed2/ioi/21000.json\n",
      "Processing file 125/140: results/faithfulness/pythia-160m-seed2/ioi/38000.json\n",
      "Processing file 126/140: results/faithfulness/pythia-160m-seed2/ioi/15000.json\n",
      "Processing file 127/140: results/faithfulness/pythia-160m-seed2/ioi/85000.json\n",
      "Processing file 128/140: results/faithfulness/pythia-160m-seed2/ioi/139000.json\n",
      "Processing file 129/140: results/faithfulness/pythia-160m-seed2/ioi/61000.json\n",
      "Processing file 130/140: results/faithfulness/pythia-160m-seed2/ioi/7000.json\n",
      "Processing file 131/140: results/faithfulness/pythia-160m-seed2/ioi/68000.json\n",
      "Processing file 132/140: results/faithfulness/pythia-160m-seed2/ioi/53000.json\n",
      "Processing file 133/140: results/faithfulness/pythia-160m-seed2/ioi/25000.json\n",
      "Processing file 134/140: results/faithfulness/pythia-160m-seed2/ioi/97000.json\n",
      "Processing file 135/140: results/faithfulness/pythia-160m-seed2/ioi/4000.json\n",
      "Processing file 136/140: results/faithfulness/pythia-160m-seed2/ioi/123000.json\n",
      "Processing file 137/140: results/faithfulness/pythia-160m-seed2/ioi/20000.json\n",
      "Processing file 138/140: results/faithfulness/pythia-160m-seed2/ioi/41000.json\n",
      "Processing file 139/140: results/faithfulness/pythia-160m-seed2/ioi/126000.json\n",
      "Processing file 140/140: results/faithfulness/pythia-160m-seed2/ioi/92000.json\n",
      "Processing file 1/140: results/faithfulness/pythia-160m-seed3/ioi/57000.json\n",
      "Processing file 2/140: results/faithfulness/pythia-160m-seed3/ioi/141000.json\n",
      "Processing file 3/140: results/faithfulness/pythia-160m-seed3/ioi/95000.json\n",
      "Processing file 4/140: results/faithfulness/pythia-160m-seed3/ioi/107000.json\n",
      "Processing file 5/140: results/faithfulness/pythia-160m-seed3/ioi/34000.json\n",
      "Processing file 6/140: results/faithfulness/pythia-160m-seed3/ioi/6000.json\n",
      "Processing file 7/140: results/faithfulness/pythia-160m-seed3/ioi/37000.json\n",
      "Processing file 8/140: results/faithfulness/pythia-160m-seed3/ioi/39000.json\n",
      "Processing file 9/140: results/faithfulness/pythia-160m-seed3/ioi/104000.json\n",
      "Processing file 10/140: results/faithfulness/pythia-160m-seed3/ioi/59000.json\n",
      "Processing file 11/140: results/faithfulness/pythia-160m-seed3/ioi/67000.json\n",
      "Processing file 12/140: results/faithfulness/pythia-160m-seed3/ioi/111000.json\n",
      "Processing file 13/140: results/faithfulness/pythia-160m-seed3/ioi/76000.json\n",
      "Processing file 14/140: results/faithfulness/pythia-160m-seed3/ioi/5000.json\n",
      "Processing file 15/140: results/faithfulness/pythia-160m-seed3/ioi/42000.json\n",
      "Processing file 16/140: results/faithfulness/pythia-160m-seed3/ioi/77000.json\n",
      "Processing file 17/140: results/faithfulness/pythia-160m-seed3/ioi/86000.json\n",
      "Processing file 18/140: results/faithfulness/pythia-160m-seed3/ioi/80000.json\n",
      "Processing file 19/140: results/faithfulness/pythia-160m-seed3/ioi/81000.json\n",
      "Processing file 20/140: results/faithfulness/pythia-160m-seed3/ioi/63000.json\n",
      "Processing file 21/140: results/faithfulness/pythia-160m-seed3/ioi/142000.json\n",
      "Processing file 22/140: results/faithfulness/pythia-160m-seed3/ioi/56000.json\n",
      "Processing file 23/140: results/faithfulness/pythia-160m-seed3/ioi/8000.json\n",
      "Processing file 24/140: results/faithfulness/pythia-160m-seed3/ioi/93000.json\n",
      "Processing file 25/140: results/faithfulness/pythia-160m-seed3/ioi/120000.json\n",
      "Processing file 26/140: results/faithfulness/pythia-160m-seed3/ioi/62000.json\n",
      "Processing file 27/140: results/faithfulness/pythia-160m-seed3/ioi/70000.json\n",
      "Processing file 28/140: results/faithfulness/pythia-160m-seed3/ioi/19000.json\n",
      "Processing file 29/140: results/faithfulness/pythia-160m-seed3/ioi/121000.json\n",
      "Processing file 30/140: results/faithfulness/pythia-160m-seed3/ioi/105000.json\n",
      "Processing file 31/140: results/faithfulness/pythia-160m-seed3/ioi/129000.json\n",
      "Processing file 32/140: results/faithfulness/pythia-160m-seed3/ioi/96000.json\n",
      "Processing file 33/140: results/faithfulness/pythia-160m-seed3/ioi/124000.json\n",
      "Processing file 34/140: results/faithfulness/pythia-160m-seed3/ioi/143000.json\n",
      "Processing file 35/140: results/faithfulness/pythia-160m-seed3/ioi/79000.json\n",
      "Processing file 36/140: results/faithfulness/pythia-160m-seed3/ioi/29000.json\n",
      "Processing file 37/140: results/faithfulness/pythia-160m-seed3/ioi/137000.json\n",
      "Processing file 38/140: results/faithfulness/pythia-160m-seed3/ioi/10000.json\n",
      "Processing file 39/140: results/faithfulness/pythia-160m-seed3/ioi/135000.json\n",
      "Processing file 40/140: results/faithfulness/pythia-160m-seed3/ioi/65000.json\n",
      "Processing file 41/140: results/faithfulness/pythia-160m-seed3/ioi/60000.json\n",
      "Processing file 42/140: results/faithfulness/pythia-160m-seed3/ioi/90000.json\n",
      "Processing file 43/140: results/faithfulness/pythia-160m-seed3/ioi/106000.json\n",
      "Processing file 44/140: results/faithfulness/pythia-160m-seed3/ioi/33000.json\n",
      "Processing file 45/140: results/faithfulness/pythia-160m-seed3/ioi/103000.json\n",
      "Processing file 46/140: results/faithfulness/pythia-160m-seed3/ioi/113000.json\n",
      "Processing file 47/140: results/faithfulness/pythia-160m-seed3/ioi/35000.json\n",
      "Processing file 48/140: results/faithfulness/pythia-160m-seed3/ioi/133000.json\n",
      "Processing file 49/140: results/faithfulness/pythia-160m-seed3/ioi/18000.json\n",
      "Processing file 50/140: results/faithfulness/pythia-160m-seed3/ioi/55000.json\n",
      "Processing file 51/140: results/faithfulness/pythia-160m-seed3/ioi/102000.json\n",
      "Processing file 52/140: results/faithfulness/pythia-160m-seed3/ioi/108000.json\n",
      "Processing file 53/140: results/faithfulness/pythia-160m-seed3/ioi/49000.json\n",
      "Processing file 54/140: results/faithfulness/pythia-160m-seed3/ioi/130000.json\n",
      "Processing file 55/140: results/faithfulness/pythia-160m-seed3/ioi/83000.json\n",
      "Processing file 56/140: results/faithfulness/pythia-160m-seed3/ioi/31000.json\n",
      "Processing file 57/140: results/faithfulness/pythia-160m-seed3/ioi/46000.json\n",
      "Processing file 58/140: results/faithfulness/pythia-160m-seed3/ioi/112000.json\n",
      "Processing file 59/140: results/faithfulness/pythia-160m-seed3/ioi/26000.json\n",
      "Processing file 60/140: results/faithfulness/pythia-160m-seed3/ioi/78000.json\n",
      "Processing file 61/140: results/faithfulness/pythia-160m-seed3/ioi/13000.json\n",
      "Processing file 62/140: results/faithfulness/pythia-160m-seed3/ioi/47000.json\n",
      "Processing file 63/140: results/faithfulness/pythia-160m-seed3/ioi/58000.json\n",
      "Processing file 64/140: results/faithfulness/pythia-160m-seed3/ioi/134000.json\n",
      "Processing file 65/140: results/faithfulness/pythia-160m-seed3/ioi/100000.json\n",
      "Processing file 66/140: results/faithfulness/pythia-160m-seed3/ioi/138000.json\n",
      "Processing file 67/140: results/faithfulness/pythia-160m-seed3/ioi/27000.json\n",
      "Processing file 68/140: results/faithfulness/pythia-160m-seed3/ioi/48000.json\n",
      "Processing file 69/140: results/faithfulness/pythia-160m-seed3/ioi/91000.json\n",
      "Processing file 70/140: results/faithfulness/pythia-160m-seed3/ioi/122000.json\n",
      "Processing file 71/140: results/faithfulness/pythia-160m-seed3/ioi/99000.json\n",
      "Processing file 72/140: results/faithfulness/pythia-160m-seed3/ioi/32000.json\n",
      "Processing file 73/140: results/faithfulness/pythia-160m-seed3/ioi/30000.json\n",
      "Processing file 74/140: results/faithfulness/pythia-160m-seed3/ioi/44000.json\n",
      "Processing file 75/140: results/faithfulness/pythia-160m-seed3/ioi/136000.json\n",
      "Processing file 76/140: results/faithfulness/pythia-160m-seed3/ioi/116000.json\n",
      "Processing file 77/140: results/faithfulness/pythia-160m-seed3/ioi/74000.json\n",
      "Processing file 78/140: results/faithfulness/pythia-160m-seed3/ioi/118000.json\n",
      "Processing file 79/140: results/faithfulness/pythia-160m-seed3/ioi/94000.json\n",
      "Processing file 80/140: results/faithfulness/pythia-160m-seed3/ioi/119000.json\n",
      "Processing file 81/140: results/faithfulness/pythia-160m-seed3/ioi/64000.json\n",
      "Processing file 82/140: results/faithfulness/pythia-160m-seed3/ioi/69000.json\n",
      "Processing file 83/140: results/faithfulness/pythia-160m-seed3/ioi/140000.json\n",
      "Processing file 84/140: results/faithfulness/pythia-160m-seed3/ioi/72000.json\n",
      "Processing file 85/140: results/faithfulness/pythia-160m-seed3/ioi/117000.json\n",
      "Processing file 86/140: results/faithfulness/pythia-160m-seed3/ioi/9000.json\n",
      "Processing file 87/140: results/faithfulness/pythia-160m-seed3/ioi/98000.json\n",
      "Processing file 88/140: results/faithfulness/pythia-160m-seed3/ioi/110000.json\n",
      "Processing file 89/140: results/faithfulness/pythia-160m-seed3/ioi/88000.json\n",
      "Processing file 90/140: results/faithfulness/pythia-160m-seed3/ioi/16000.json\n",
      "Processing file 91/140: results/faithfulness/pythia-160m-seed3/ioi/23000.json\n",
      "Processing file 92/140: results/faithfulness/pythia-160m-seed3/ioi/109000.json\n",
      "Processing file 93/140: results/faithfulness/pythia-160m-seed3/ioi/22000.json\n",
      "Processing file 94/140: results/faithfulness/pythia-160m-seed3/ioi/17000.json\n",
      "Processing file 95/140: results/faithfulness/pythia-160m-seed3/ioi/73000.json\n",
      "Processing file 96/140: results/faithfulness/pythia-160m-seed3/ioi/71000.json\n",
      "Processing file 97/140: results/faithfulness/pythia-160m-seed3/ioi/125000.json\n",
      "Processing file 98/140: results/faithfulness/pythia-160m-seed3/ioi/84000.json\n",
      "Processing file 99/140: results/faithfulness/pythia-160m-seed3/ioi/87000.json\n",
      "Processing file 100/140: results/faithfulness/pythia-160m-seed3/ioi/131000.json\n",
      "Processing file 101/140: results/faithfulness/pythia-160m-seed3/ioi/24000.json\n",
      "Processing file 102/140: results/faithfulness/pythia-160m-seed3/ioi/128000.json\n",
      "Processing file 103/140: results/faithfulness/pythia-160m-seed3/ioi/51000.json\n",
      "Processing file 104/140: results/faithfulness/pythia-160m-seed3/ioi/52000.json\n",
      "Processing file 105/140: results/faithfulness/pythia-160m-seed3/ioi/132000.json\n",
      "Processing file 106/140: results/faithfulness/pythia-160m-seed3/ioi/101000.json\n",
      "Processing file 107/140: results/faithfulness/pythia-160m-seed3/ioi/89000.json\n",
      "Processing file 108/140: results/faithfulness/pythia-160m-seed3/ioi/40000.json\n",
      "Processing file 109/140: results/faithfulness/pythia-160m-seed3/ioi/43000.json\n",
      "Processing file 110/140: results/faithfulness/pythia-160m-seed3/ioi/54000.json\n",
      "Processing file 111/140: results/faithfulness/pythia-160m-seed3/ioi/11000.json\n",
      "Processing file 112/140: results/faithfulness/pythia-160m-seed3/ioi/36000.json\n",
      "Processing file 113/140: results/faithfulness/pythia-160m-seed3/ioi/45000.json\n",
      "Processing file 114/140: results/faithfulness/pythia-160m-seed3/ioi/50000.json\n",
      "Processing file 115/140: results/faithfulness/pythia-160m-seed3/ioi/114000.json\n",
      "Processing file 116/140: results/faithfulness/pythia-160m-seed3/ioi/66000.json\n",
      "Processing file 117/140: results/faithfulness/pythia-160m-seed3/ioi/28000.json\n",
      "Processing file 118/140: results/faithfulness/pythia-160m-seed3/ioi/82000.json\n",
      "Processing file 119/140: results/faithfulness/pythia-160m-seed3/ioi/127000.json\n",
      "Processing file 120/140: results/faithfulness/pythia-160m-seed3/ioi/14000.json\n",
      "Processing file 121/140: results/faithfulness/pythia-160m-seed3/ioi/75000.json\n",
      "Processing file 122/140: results/faithfulness/pythia-160m-seed3/ioi/115000.json\n",
      "Processing file 123/140: results/faithfulness/pythia-160m-seed3/ioi/12000.json\n",
      "Processing file 124/140: results/faithfulness/pythia-160m-seed3/ioi/21000.json\n",
      "Processing file 125/140: results/faithfulness/pythia-160m-seed3/ioi/38000.json\n",
      "Processing file 126/140: results/faithfulness/pythia-160m-seed3/ioi/15000.json\n",
      "Processing file 127/140: results/faithfulness/pythia-160m-seed3/ioi/85000.json\n",
      "Processing file 128/140: results/faithfulness/pythia-160m-seed3/ioi/139000.json\n",
      "Processing file 129/140: results/faithfulness/pythia-160m-seed3/ioi/61000.json\n",
      "Processing file 130/140: results/faithfulness/pythia-160m-seed3/ioi/7000.json\n",
      "Processing file 131/140: results/faithfulness/pythia-160m-seed3/ioi/68000.json\n",
      "Processing file 132/140: results/faithfulness/pythia-160m-seed3/ioi/53000.json\n",
      "Processing file 133/140: results/faithfulness/pythia-160m-seed3/ioi/25000.json\n",
      "Processing file 134/140: results/faithfulness/pythia-160m-seed3/ioi/97000.json\n",
      "Processing file 135/140: results/faithfulness/pythia-160m-seed3/ioi/4000.json\n",
      "Processing file 136/140: results/faithfulness/pythia-160m-seed3/ioi/123000.json\n",
      "Processing file 137/140: results/faithfulness/pythia-160m-seed3/ioi/20000.json\n",
      "Processing file 138/140: results/faithfulness/pythia-160m-seed3/ioi/41000.json\n",
      "Processing file 139/140: results/faithfulness/pythia-160m-seed3/ioi/126000.json\n",
      "Processing file 140/140: results/faithfulness/pythia-160m-seed3/ioi/92000.json\n"
     ]
    }
   ],
   "source": [
    "df_ff_seed_1234 = load_faithfulness_scores_into_df('results/faithfulness/pythia-160m/ioi')\n",
    "df_ff_seed_1 = load_faithfulness_scores_into_df('results/faithfulness/pythia-160m-seed1/ioi', seed_name='seed1')\n",
    "df_ff_seed_2 = load_faithfulness_scores_into_df('results/faithfulness/pythia-160m-seed2/ioi', seed_name='seed2')\n",
    "df_ff_seed_3 = load_faithfulness_scores_into_df('results/faithfulness/pythia-160m-seed3/ioi', seed_name='seed3')"
   ]
  },
  {
   "cell_type": "code",
   "execution_count": 23,
   "metadata": {},
   "outputs": [
    {
     "data": {
      "text/html": [
       "<div>\n",
       "<style scoped>\n",
       "    .dataframe tbody tr th:only-of-type {\n",
       "        vertical-align: middle;\n",
       "    }\n",
       "\n",
       "    .dataframe tbody tr th {\n",
       "        vertical-align: top;\n",
       "    }\n",
       "\n",
       "    .dataframe thead th {\n",
       "        text-align: right;\n",
       "    }\n",
       "</style>\n",
       "<table border=\"1\" class=\"dataframe\">\n",
       "  <thead>\n",
       "    <tr style=\"text-align: right;\">\n",
       "      <th></th>\n",
       "      <th>size</th>\n",
       "      <th>faithfulness_score</th>\n",
       "      <th>checkpoint</th>\n",
       "      <th>seed</th>\n",
       "    </tr>\n",
       "  </thead>\n",
       "  <tbody>\n",
       "    <tr>\n",
       "      <th>4</th>\n",
       "      <td>1</td>\n",
       "      <td>1.000000</td>\n",
       "      <td>4000</td>\n",
       "      <td>seed1234</td>\n",
       "    </tr>\n",
       "    <tr>\n",
       "      <th>3</th>\n",
       "      <td>3</td>\n",
       "      <td>2.281250</td>\n",
       "      <td>4000</td>\n",
       "      <td>seed1234</td>\n",
       "    </tr>\n",
       "    <tr>\n",
       "      <th>2</th>\n",
       "      <td>6</td>\n",
       "      <td>1.414062</td>\n",
       "      <td>4000</td>\n",
       "      <td>seed1234</td>\n",
       "    </tr>\n",
       "    <tr>\n",
       "      <th>1</th>\n",
       "      <td>13</td>\n",
       "      <td>1.046875</td>\n",
       "      <td>4000</td>\n",
       "      <td>seed1234</td>\n",
       "    </tr>\n",
       "    <tr>\n",
       "      <th>0</th>\n",
       "      <td>25</td>\n",
       "      <td>1.578125</td>\n",
       "      <td>4000</td>\n",
       "      <td>seed1234</td>\n",
       "    </tr>\n",
       "  </tbody>\n",
       "</table>\n",
       "</div>"
      ],
      "text/plain": [
       "   size  faithfulness_score  checkpoint      seed\n",
       "4     1            1.000000        4000  seed1234\n",
       "3     3            2.281250        4000  seed1234\n",
       "2     6            1.414062        4000  seed1234\n",
       "1    13            1.046875        4000  seed1234\n",
       "0    25            1.578125        4000  seed1234"
      ]
     },
     "execution_count": 23,
     "metadata": {},
     "output_type": "execute_result"
    }
   ],
   "source": [
    "# concatenate all seeds\n",
    "df_ff = pd.concat([df_ff_seed_1234, df_ff_seed_1, df_ff_seed_2, df_ff_seed_3])\n",
    "df_ff.head()"
   ]
  },
  {
   "cell_type": "code",
   "execution_count": 30,
   "metadata": {},
   "outputs": [
    {
     "data": {
      "application/vnd.plotly.v1+json": {
       "config": {
        "plotlyServerURL": "https://plot.ly"
       },
       "data": [
        {
         "hovertemplate": "seed=seed1234<br>size=%{x}<br>faithfulness_score=%{y}<extra></extra>",
         "legendgroup": "seed1234",
         "line": {
          "color": "#636efa",
          "dash": "solid"
         },
         "marker": {
          "symbol": "circle"
         },
         "mode": "lines",
         "name": "seed1234",
         "orientation": "v",
         "showlegend": true,
         "type": "scatter",
         "x": [
          25,
          50,
          75,
          76,
          77,
          78,
          79,
          80,
          81,
          82,
          83,
          84,
          85,
          86,
          87,
          137,
          187,
          237,
          287,
          337,
          387,
          437,
          487,
          537,
          587,
          637,
          687,
          737,
          787,
          837,
          887,
          937,
          987,
          1037,
          1087,
          1137,
          1187,
          1237,
          1287,
          1337,
          1387,
          1437,
          1487,
          1537,
          1587
         ],
         "xaxis": "x",
         "y": [
          0.2158203125,
          0.5546875,
          0.7421875,
          0.74609375,
          0.74609375,
          0.75390625,
          0.75390625,
          0.77734375,
          0.77734375,
          0.77734375,
          0.75,
          0.74609375,
          0.74609375,
          0.74609375,
          0.80078125,
          0.71484375,
          0.67578125,
          0.6640625,
          0.68359375,
          0.69921875,
          0.7109375,
          0.7578125,
          0.7890625,
          0.83984375,
          0.875,
          0.8828125,
          0.95703125,
          0.94921875,
          0.9375,
          0.94921875,
          0.953125,
          0.93359375,
          0.9609375,
          0.96484375,
          0.9921875,
          0.98046875,
          0.953125,
          0.95703125,
          0.94140625,
          0.96484375,
          1.0078125,
          0.99609375,
          0.98828125,
          0.98046875,
          0.95703125
         ],
         "yaxis": "y"
        },
        {
         "hovertemplate": "seed=seed1<br>size=%{x}<br>faithfulness_score=%{y}<extra></extra>",
         "legendgroup": "seed1",
         "line": {
          "color": "#EF553B",
          "dash": "solid"
         },
         "marker": {
          "symbol": "circle"
         },
         "mode": "lines",
         "name": "seed1",
         "orientation": "v",
         "showlegend": true,
         "type": "scatter",
         "x": [
          25,
          26,
          27,
          28,
          29,
          30,
          31,
          32,
          33,
          37,
          87,
          137,
          187,
          237,
          287,
          337,
          387,
          437,
          487,
          537,
          587,
          637,
          687,
          737,
          787,
          837,
          887,
          937,
          987,
          1037,
          1087,
          1137,
          1187,
          1237,
          1287,
          1337,
          1387,
          1437,
          1487,
          1537,
          1587
         ],
         "xaxis": "x",
         "y": [
          0.6796875,
          0.6796875,
          0.79296875,
          0.79296875,
          0.88671875,
          0.95703125,
          1.03125,
          0.953125,
          0.85546875,
          0.83984375,
          0.79296875,
          0.765625,
          0.74609375,
          0.7578125,
          0.7890625,
          0.80078125,
          0.8125,
          0.84765625,
          0.85546875,
          0.84375,
          0.78515625,
          0.79296875,
          0.80078125,
          0.82421875,
          0.84765625,
          0.8515625,
          0.84765625,
          0.859375,
          0.859375,
          0.86328125,
          0.87109375,
          0.859375,
          0.875,
          0.875,
          0.875,
          0.87890625,
          0.87890625,
          0.90234375,
          0.90234375,
          0.89453125,
          0.89453125
         ],
         "yaxis": "y"
        },
        {
         "hovertemplate": "seed=seed2<br>size=%{x}<br>faithfulness_score=%{y}<extra></extra>",
         "legendgroup": "seed2",
         "line": {
          "color": "#00cc96",
          "dash": "solid"
         },
         "marker": {
          "symbol": "circle"
         },
         "mode": "lines",
         "name": "seed2",
         "orientation": "v",
         "showlegend": true,
         "type": "scatter",
         "x": [
          13,
          17,
          18,
          19,
          20,
          21,
          22,
          23,
          24,
          25,
          75,
          125,
          175,
          225,
          275,
          325,
          375,
          425,
          475,
          525,
          575,
          625,
          675,
          725,
          775,
          825,
          875,
          925,
          975,
          1025,
          1075,
          1125,
          1175,
          1225,
          1275,
          1325,
          1375,
          1425,
          1475,
          1525,
          1575
         ],
         "xaxis": "x",
         "y": [
          0.416015625,
          0.388671875,
          0.53125,
          0.53125,
          0.43359375,
          0.43359375,
          0.734375,
          0.734375,
          0.8828125,
          0.8828125,
          1.0078125,
          0.75390625,
          0.94921875,
          0.91015625,
          0.9765625,
          0.98046875,
          0.99609375,
          1.046875,
          1.0234375,
          1.0234375,
          1.0390625,
          1.046875,
          1.046875,
          1.0625,
          1.0390625,
          1.0546875,
          1.0546875,
          1.03125,
          1,
          1.0390625,
          1.0390625,
          1.03125,
          1.0390625,
          1.0390625,
          1.015625,
          1.0078125,
          1,
          1.015625,
          1.0234375,
          1.015625,
          1.015625
         ],
         "yaxis": "y"
        },
        {
         "hovertemplate": "seed=seed3<br>size=%{x}<br>faithfulness_score=%{y}<extra></extra>",
         "legendgroup": "seed3",
         "line": {
          "color": "#ab63fa",
          "dash": "solid"
         },
         "marker": {
          "symbol": "circle"
         },
         "mode": "lines",
         "name": "seed3",
         "orientation": "v",
         "showlegend": true,
         "type": "scatter",
         "x": [
          25,
          50,
          62,
          74,
          75,
          76,
          77,
          78,
          79,
          80,
          130,
          180,
          230,
          280,
          330,
          380,
          430,
          480,
          530,
          580,
          630,
          680,
          730,
          780,
          830,
          880,
          930,
          980,
          1030,
          1080,
          1130,
          1180,
          1230,
          1280,
          1330,
          1380,
          1430,
          1480,
          1530,
          1580
         ],
         "xaxis": "x",
         "y": [
          0.5546875,
          0.7265625,
          0.69921875,
          0.765625,
          0.7578125,
          0.796875,
          0.796875,
          0.796875,
          0.80078125,
          0.80078125,
          0.87890625,
          1.0625,
          1.0546875,
          0.97265625,
          0.921875,
          0.9296875,
          0.89453125,
          0.94921875,
          0.953125,
          0.96875,
          0.9609375,
          0.9765625,
          0.96484375,
          0.9609375,
          0.9609375,
          1.015625,
          1.015625,
          1.0078125,
          1.0390625,
          1.015625,
          1.0234375,
          1.0234375,
          1.0234375,
          1.0234375,
          1.0234375,
          1.0078125,
          1.0234375,
          1.03125,
          1.0234375,
          1.015625
         ],
         "yaxis": "y"
        }
       ],
       "layout": {
        "legend": {
         "title": {
          "text": "seed"
         },
         "tracegroupgap": 0
        },
        "margin": {
         "t": 60
        },
        "template": {
         "data": {
          "bar": [
           {
            "error_x": {
             "color": "#2a3f5f"
            },
            "error_y": {
             "color": "#2a3f5f"
            },
            "marker": {
             "line": {
              "color": "#E5ECF6",
              "width": 0.5
             },
             "pattern": {
              "fillmode": "overlay",
              "size": 10,
              "solidity": 0.2
             }
            },
            "type": "bar"
           }
          ],
          "barpolar": [
           {
            "marker": {
             "line": {
              "color": "#E5ECF6",
              "width": 0.5
             },
             "pattern": {
              "fillmode": "overlay",
              "size": 10,
              "solidity": 0.2
             }
            },
            "type": "barpolar"
           }
          ],
          "carpet": [
           {
            "aaxis": {
             "endlinecolor": "#2a3f5f",
             "gridcolor": "white",
             "linecolor": "white",
             "minorgridcolor": "white",
             "startlinecolor": "#2a3f5f"
            },
            "baxis": {
             "endlinecolor": "#2a3f5f",
             "gridcolor": "white",
             "linecolor": "white",
             "minorgridcolor": "white",
             "startlinecolor": "#2a3f5f"
            },
            "type": "carpet"
           }
          ],
          "choropleth": [
           {
            "colorbar": {
             "outlinewidth": 0,
             "ticks": ""
            },
            "type": "choropleth"
           }
          ],
          "contour": [
           {
            "colorbar": {
             "outlinewidth": 0,
             "ticks": ""
            },
            "colorscale": [
             [
              0,
              "#0d0887"
             ],
             [
              0.1111111111111111,
              "#46039f"
             ],
             [
              0.2222222222222222,
              "#7201a8"
             ],
             [
              0.3333333333333333,
              "#9c179e"
             ],
             [
              0.4444444444444444,
              "#bd3786"
             ],
             [
              0.5555555555555556,
              "#d8576b"
             ],
             [
              0.6666666666666666,
              "#ed7953"
             ],
             [
              0.7777777777777778,
              "#fb9f3a"
             ],
             [
              0.8888888888888888,
              "#fdca26"
             ],
             [
              1,
              "#f0f921"
             ]
            ],
            "type": "contour"
           }
          ],
          "contourcarpet": [
           {
            "colorbar": {
             "outlinewidth": 0,
             "ticks": ""
            },
            "type": "contourcarpet"
           }
          ],
          "heatmap": [
           {
            "colorbar": {
             "outlinewidth": 0,
             "ticks": ""
            },
            "colorscale": [
             [
              0,
              "#0d0887"
             ],
             [
              0.1111111111111111,
              "#46039f"
             ],
             [
              0.2222222222222222,
              "#7201a8"
             ],
             [
              0.3333333333333333,
              "#9c179e"
             ],
             [
              0.4444444444444444,
              "#bd3786"
             ],
             [
              0.5555555555555556,
              "#d8576b"
             ],
             [
              0.6666666666666666,
              "#ed7953"
             ],
             [
              0.7777777777777778,
              "#fb9f3a"
             ],
             [
              0.8888888888888888,
              "#fdca26"
             ],
             [
              1,
              "#f0f921"
             ]
            ],
            "type": "heatmap"
           }
          ],
          "heatmapgl": [
           {
            "colorbar": {
             "outlinewidth": 0,
             "ticks": ""
            },
            "colorscale": [
             [
              0,
              "#0d0887"
             ],
             [
              0.1111111111111111,
              "#46039f"
             ],
             [
              0.2222222222222222,
              "#7201a8"
             ],
             [
              0.3333333333333333,
              "#9c179e"
             ],
             [
              0.4444444444444444,
              "#bd3786"
             ],
             [
              0.5555555555555556,
              "#d8576b"
             ],
             [
              0.6666666666666666,
              "#ed7953"
             ],
             [
              0.7777777777777778,
              "#fb9f3a"
             ],
             [
              0.8888888888888888,
              "#fdca26"
             ],
             [
              1,
              "#f0f921"
             ]
            ],
            "type": "heatmapgl"
           }
          ],
          "histogram": [
           {
            "marker": {
             "pattern": {
              "fillmode": "overlay",
              "size": 10,
              "solidity": 0.2
             }
            },
            "type": "histogram"
           }
          ],
          "histogram2d": [
           {
            "colorbar": {
             "outlinewidth": 0,
             "ticks": ""
            },
            "colorscale": [
             [
              0,
              "#0d0887"
             ],
             [
              0.1111111111111111,
              "#46039f"
             ],
             [
              0.2222222222222222,
              "#7201a8"
             ],
             [
              0.3333333333333333,
              "#9c179e"
             ],
             [
              0.4444444444444444,
              "#bd3786"
             ],
             [
              0.5555555555555556,
              "#d8576b"
             ],
             [
              0.6666666666666666,
              "#ed7953"
             ],
             [
              0.7777777777777778,
              "#fb9f3a"
             ],
             [
              0.8888888888888888,
              "#fdca26"
             ],
             [
              1,
              "#f0f921"
             ]
            ],
            "type": "histogram2d"
           }
          ],
          "histogram2dcontour": [
           {
            "colorbar": {
             "outlinewidth": 0,
             "ticks": ""
            },
            "colorscale": [
             [
              0,
              "#0d0887"
             ],
             [
              0.1111111111111111,
              "#46039f"
             ],
             [
              0.2222222222222222,
              "#7201a8"
             ],
             [
              0.3333333333333333,
              "#9c179e"
             ],
             [
              0.4444444444444444,
              "#bd3786"
             ],
             [
              0.5555555555555556,
              "#d8576b"
             ],
             [
              0.6666666666666666,
              "#ed7953"
             ],
             [
              0.7777777777777778,
              "#fb9f3a"
             ],
             [
              0.8888888888888888,
              "#fdca26"
             ],
             [
              1,
              "#f0f921"
             ]
            ],
            "type": "histogram2dcontour"
           }
          ],
          "mesh3d": [
           {
            "colorbar": {
             "outlinewidth": 0,
             "ticks": ""
            },
            "type": "mesh3d"
           }
          ],
          "parcoords": [
           {
            "line": {
             "colorbar": {
              "outlinewidth": 0,
              "ticks": ""
             }
            },
            "type": "parcoords"
           }
          ],
          "pie": [
           {
            "automargin": true,
            "type": "pie"
           }
          ],
          "scatter": [
           {
            "fillpattern": {
             "fillmode": "overlay",
             "size": 10,
             "solidity": 0.2
            },
            "type": "scatter"
           }
          ],
          "scatter3d": [
           {
            "line": {
             "colorbar": {
              "outlinewidth": 0,
              "ticks": ""
             }
            },
            "marker": {
             "colorbar": {
              "outlinewidth": 0,
              "ticks": ""
             }
            },
            "type": "scatter3d"
           }
          ],
          "scattercarpet": [
           {
            "marker": {
             "colorbar": {
              "outlinewidth": 0,
              "ticks": ""
             }
            },
            "type": "scattercarpet"
           }
          ],
          "scattergeo": [
           {
            "marker": {
             "colorbar": {
              "outlinewidth": 0,
              "ticks": ""
             }
            },
            "type": "scattergeo"
           }
          ],
          "scattergl": [
           {
            "marker": {
             "colorbar": {
              "outlinewidth": 0,
              "ticks": ""
             }
            },
            "type": "scattergl"
           }
          ],
          "scattermapbox": [
           {
            "marker": {
             "colorbar": {
              "outlinewidth": 0,
              "ticks": ""
             }
            },
            "type": "scattermapbox"
           }
          ],
          "scatterpolar": [
           {
            "marker": {
             "colorbar": {
              "outlinewidth": 0,
              "ticks": ""
             }
            },
            "type": "scatterpolar"
           }
          ],
          "scatterpolargl": [
           {
            "marker": {
             "colorbar": {
              "outlinewidth": 0,
              "ticks": ""
             }
            },
            "type": "scatterpolargl"
           }
          ],
          "scatterternary": [
           {
            "marker": {
             "colorbar": {
              "outlinewidth": 0,
              "ticks": ""
             }
            },
            "type": "scatterternary"
           }
          ],
          "surface": [
           {
            "colorbar": {
             "outlinewidth": 0,
             "ticks": ""
            },
            "colorscale": [
             [
              0,
              "#0d0887"
             ],
             [
              0.1111111111111111,
              "#46039f"
             ],
             [
              0.2222222222222222,
              "#7201a8"
             ],
             [
              0.3333333333333333,
              "#9c179e"
             ],
             [
              0.4444444444444444,
              "#bd3786"
             ],
             [
              0.5555555555555556,
              "#d8576b"
             ],
             [
              0.6666666666666666,
              "#ed7953"
             ],
             [
              0.7777777777777778,
              "#fb9f3a"
             ],
             [
              0.8888888888888888,
              "#fdca26"
             ],
             [
              1,
              "#f0f921"
             ]
            ],
            "type": "surface"
           }
          ],
          "table": [
           {
            "cells": {
             "fill": {
              "color": "#EBF0F8"
             },
             "line": {
              "color": "white"
             }
            },
            "header": {
             "fill": {
              "color": "#C8D4E3"
             },
             "line": {
              "color": "white"
             }
            },
            "type": "table"
           }
          ]
         },
         "layout": {
          "annotationdefaults": {
           "arrowcolor": "#2a3f5f",
           "arrowhead": 0,
           "arrowwidth": 1
          },
          "autotypenumbers": "strict",
          "coloraxis": {
           "colorbar": {
            "outlinewidth": 0,
            "ticks": ""
           }
          },
          "colorscale": {
           "diverging": [
            [
             0,
             "#8e0152"
            ],
            [
             0.1,
             "#c51b7d"
            ],
            [
             0.2,
             "#de77ae"
            ],
            [
             0.3,
             "#f1b6da"
            ],
            [
             0.4,
             "#fde0ef"
            ],
            [
             0.5,
             "#f7f7f7"
            ],
            [
             0.6,
             "#e6f5d0"
            ],
            [
             0.7,
             "#b8e186"
            ],
            [
             0.8,
             "#7fbc41"
            ],
            [
             0.9,
             "#4d9221"
            ],
            [
             1,
             "#276419"
            ]
           ],
           "sequential": [
            [
             0,
             "#0d0887"
            ],
            [
             0.1111111111111111,
             "#46039f"
            ],
            [
             0.2222222222222222,
             "#7201a8"
            ],
            [
             0.3333333333333333,
             "#9c179e"
            ],
            [
             0.4444444444444444,
             "#bd3786"
            ],
            [
             0.5555555555555556,
             "#d8576b"
            ],
            [
             0.6666666666666666,
             "#ed7953"
            ],
            [
             0.7777777777777778,
             "#fb9f3a"
            ],
            [
             0.8888888888888888,
             "#fdca26"
            ],
            [
             1,
             "#f0f921"
            ]
           ],
           "sequentialminus": [
            [
             0,
             "#0d0887"
            ],
            [
             0.1111111111111111,
             "#46039f"
            ],
            [
             0.2222222222222222,
             "#7201a8"
            ],
            [
             0.3333333333333333,
             "#9c179e"
            ],
            [
             0.4444444444444444,
             "#bd3786"
            ],
            [
             0.5555555555555556,
             "#d8576b"
            ],
            [
             0.6666666666666666,
             "#ed7953"
            ],
            [
             0.7777777777777778,
             "#fb9f3a"
            ],
            [
             0.8888888888888888,
             "#fdca26"
            ],
            [
             1,
             "#f0f921"
            ]
           ]
          },
          "colorway": [
           "#636efa",
           "#EF553B",
           "#00cc96",
           "#ab63fa",
           "#FFA15A",
           "#19d3f3",
           "#FF6692",
           "#B6E880",
           "#FF97FF",
           "#FECB52"
          ],
          "font": {
           "color": "#2a3f5f"
          },
          "geo": {
           "bgcolor": "white",
           "lakecolor": "white",
           "landcolor": "#E5ECF6",
           "showlakes": true,
           "showland": true,
           "subunitcolor": "white"
          },
          "hoverlabel": {
           "align": "left"
          },
          "hovermode": "closest",
          "mapbox": {
           "style": "light"
          },
          "paper_bgcolor": "white",
          "plot_bgcolor": "#E5ECF6",
          "polar": {
           "angularaxis": {
            "gridcolor": "white",
            "linecolor": "white",
            "ticks": ""
           },
           "bgcolor": "#E5ECF6",
           "radialaxis": {
            "gridcolor": "white",
            "linecolor": "white",
            "ticks": ""
           }
          },
          "scene": {
           "xaxis": {
            "backgroundcolor": "#E5ECF6",
            "gridcolor": "white",
            "gridwidth": 2,
            "linecolor": "white",
            "showbackground": true,
            "ticks": "",
            "zerolinecolor": "white"
           },
           "yaxis": {
            "backgroundcolor": "#E5ECF6",
            "gridcolor": "white",
            "gridwidth": 2,
            "linecolor": "white",
            "showbackground": true,
            "ticks": "",
            "zerolinecolor": "white"
           },
           "zaxis": {
            "backgroundcolor": "#E5ECF6",
            "gridcolor": "white",
            "gridwidth": 2,
            "linecolor": "white",
            "showbackground": true,
            "ticks": "",
            "zerolinecolor": "white"
           }
          },
          "shapedefaults": {
           "line": {
            "color": "#2a3f5f"
           }
          },
          "ternary": {
           "aaxis": {
            "gridcolor": "white",
            "linecolor": "white",
            "ticks": ""
           },
           "baxis": {
            "gridcolor": "white",
            "linecolor": "white",
            "ticks": ""
           },
           "bgcolor": "#E5ECF6",
           "caxis": {
            "gridcolor": "white",
            "linecolor": "white",
            "ticks": ""
           }
          },
          "title": {
           "x": 0.05
          },
          "xaxis": {
           "automargin": true,
           "gridcolor": "white",
           "linecolor": "white",
           "ticks": "",
           "title": {
            "standoff": 15
           },
           "zerolinecolor": "white",
           "zerolinewidth": 2
          },
          "yaxis": {
           "automargin": true,
           "gridcolor": "white",
           "linecolor": "white",
           "ticks": "",
           "title": {
            "standoff": 15
           },
           "zerolinecolor": "white",
           "zerolinewidth": 2
          }
         }
        },
        "title": {
         "text": "Faithfulness scores for each seed at checkpoint 52000"
        },
        "xaxis": {
         "anchor": "y",
         "domain": [
          0,
          1
         ],
         "title": {
          "text": "Size"
         }
        },
        "yaxis": {
         "anchor": "x",
         "domain": [
          0,
          1
         ],
         "title": {
          "text": "Faithfulness score"
         }
        }
       }
      },
      "text/html": [
       "<div>                            <div id=\"ffeb0300-a510-46af-b640-40ed90230d5d\" class=\"plotly-graph-div\" style=\"height:525px; width:100%;\"></div>            <script type=\"text/javascript\">                require([\"plotly\"], function(Plotly) {                    window.PLOTLYENV=window.PLOTLYENV || {};                                    if (document.getElementById(\"ffeb0300-a510-46af-b640-40ed90230d5d\")) {                    Plotly.newPlot(                        \"ffeb0300-a510-46af-b640-40ed90230d5d\",                        [{\"hovertemplate\":\"seed=seed1234\\u003cbr\\u003esize=%{x}\\u003cbr\\u003efaithfulness_score=%{y}\\u003cextra\\u003e\\u003c\\u002fextra\\u003e\",\"legendgroup\":\"seed1234\",\"line\":{\"color\":\"#636efa\",\"dash\":\"solid\"},\"marker\":{\"symbol\":\"circle\"},\"mode\":\"lines\",\"name\":\"seed1234\",\"orientation\":\"v\",\"showlegend\":true,\"x\":[25,50,75,76,77,78,79,80,81,82,83,84,85,86,87,137,187,237,287,337,387,437,487,537,587,637,687,737,787,837,887,937,987,1037,1087,1137,1187,1237,1287,1337,1387,1437,1487,1537,1587],\"xaxis\":\"x\",\"y\":[0.2158203125,0.5546875,0.7421875,0.74609375,0.74609375,0.75390625,0.75390625,0.77734375,0.77734375,0.77734375,0.75,0.74609375,0.74609375,0.74609375,0.80078125,0.71484375,0.67578125,0.6640625,0.68359375,0.69921875,0.7109375,0.7578125,0.7890625,0.83984375,0.875,0.8828125,0.95703125,0.94921875,0.9375,0.94921875,0.953125,0.93359375,0.9609375,0.96484375,0.9921875,0.98046875,0.953125,0.95703125,0.94140625,0.96484375,1.0078125,0.99609375,0.98828125,0.98046875,0.95703125],\"yaxis\":\"y\",\"type\":\"scatter\"},{\"hovertemplate\":\"seed=seed1\\u003cbr\\u003esize=%{x}\\u003cbr\\u003efaithfulness_score=%{y}\\u003cextra\\u003e\\u003c\\u002fextra\\u003e\",\"legendgroup\":\"seed1\",\"line\":{\"color\":\"#EF553B\",\"dash\":\"solid\"},\"marker\":{\"symbol\":\"circle\"},\"mode\":\"lines\",\"name\":\"seed1\",\"orientation\":\"v\",\"showlegend\":true,\"x\":[25,26,27,28,29,30,31,32,33,37,87,137,187,237,287,337,387,437,487,537,587,637,687,737,787,837,887,937,987,1037,1087,1137,1187,1237,1287,1337,1387,1437,1487,1537,1587],\"xaxis\":\"x\",\"y\":[0.6796875,0.6796875,0.79296875,0.79296875,0.88671875,0.95703125,1.03125,0.953125,0.85546875,0.83984375,0.79296875,0.765625,0.74609375,0.7578125,0.7890625,0.80078125,0.8125,0.84765625,0.85546875,0.84375,0.78515625,0.79296875,0.80078125,0.82421875,0.84765625,0.8515625,0.84765625,0.859375,0.859375,0.86328125,0.87109375,0.859375,0.875,0.875,0.875,0.87890625,0.87890625,0.90234375,0.90234375,0.89453125,0.89453125],\"yaxis\":\"y\",\"type\":\"scatter\"},{\"hovertemplate\":\"seed=seed2\\u003cbr\\u003esize=%{x}\\u003cbr\\u003efaithfulness_score=%{y}\\u003cextra\\u003e\\u003c\\u002fextra\\u003e\",\"legendgroup\":\"seed2\",\"line\":{\"color\":\"#00cc96\",\"dash\":\"solid\"},\"marker\":{\"symbol\":\"circle\"},\"mode\":\"lines\",\"name\":\"seed2\",\"orientation\":\"v\",\"showlegend\":true,\"x\":[13,17,18,19,20,21,22,23,24,25,75,125,175,225,275,325,375,425,475,525,575,625,675,725,775,825,875,925,975,1025,1075,1125,1175,1225,1275,1325,1375,1425,1475,1525,1575],\"xaxis\":\"x\",\"y\":[0.416015625,0.388671875,0.53125,0.53125,0.43359375,0.43359375,0.734375,0.734375,0.8828125,0.8828125,1.0078125,0.75390625,0.94921875,0.91015625,0.9765625,0.98046875,0.99609375,1.046875,1.0234375,1.0234375,1.0390625,1.046875,1.046875,1.0625,1.0390625,1.0546875,1.0546875,1.03125,1.0,1.0390625,1.0390625,1.03125,1.0390625,1.0390625,1.015625,1.0078125,1.0,1.015625,1.0234375,1.015625,1.015625],\"yaxis\":\"y\",\"type\":\"scatter\"},{\"hovertemplate\":\"seed=seed3\\u003cbr\\u003esize=%{x}\\u003cbr\\u003efaithfulness_score=%{y}\\u003cextra\\u003e\\u003c\\u002fextra\\u003e\",\"legendgroup\":\"seed3\",\"line\":{\"color\":\"#ab63fa\",\"dash\":\"solid\"},\"marker\":{\"symbol\":\"circle\"},\"mode\":\"lines\",\"name\":\"seed3\",\"orientation\":\"v\",\"showlegend\":true,\"x\":[25,50,62,74,75,76,77,78,79,80,130,180,230,280,330,380,430,480,530,580,630,680,730,780,830,880,930,980,1030,1080,1130,1180,1230,1280,1330,1380,1430,1480,1530,1580],\"xaxis\":\"x\",\"y\":[0.5546875,0.7265625,0.69921875,0.765625,0.7578125,0.796875,0.796875,0.796875,0.80078125,0.80078125,0.87890625,1.0625,1.0546875,0.97265625,0.921875,0.9296875,0.89453125,0.94921875,0.953125,0.96875,0.9609375,0.9765625,0.96484375,0.9609375,0.9609375,1.015625,1.015625,1.0078125,1.0390625,1.015625,1.0234375,1.0234375,1.0234375,1.0234375,1.0234375,1.0078125,1.0234375,1.03125,1.0234375,1.015625],\"yaxis\":\"y\",\"type\":\"scatter\"}],                        {\"template\":{\"data\":{\"histogram2dcontour\":[{\"type\":\"histogram2dcontour\",\"colorbar\":{\"outlinewidth\":0,\"ticks\":\"\"},\"colorscale\":[[0.0,\"#0d0887\"],[0.1111111111111111,\"#46039f\"],[0.2222222222222222,\"#7201a8\"],[0.3333333333333333,\"#9c179e\"],[0.4444444444444444,\"#bd3786\"],[0.5555555555555556,\"#d8576b\"],[0.6666666666666666,\"#ed7953\"],[0.7777777777777778,\"#fb9f3a\"],[0.8888888888888888,\"#fdca26\"],[1.0,\"#f0f921\"]]}],\"choropleth\":[{\"type\":\"choropleth\",\"colorbar\":{\"outlinewidth\":0,\"ticks\":\"\"}}],\"histogram2d\":[{\"type\":\"histogram2d\",\"colorbar\":{\"outlinewidth\":0,\"ticks\":\"\"},\"colorscale\":[[0.0,\"#0d0887\"],[0.1111111111111111,\"#46039f\"],[0.2222222222222222,\"#7201a8\"],[0.3333333333333333,\"#9c179e\"],[0.4444444444444444,\"#bd3786\"],[0.5555555555555556,\"#d8576b\"],[0.6666666666666666,\"#ed7953\"],[0.7777777777777778,\"#fb9f3a\"],[0.8888888888888888,\"#fdca26\"],[1.0,\"#f0f921\"]]}],\"heatmap\":[{\"type\":\"heatmap\",\"colorbar\":{\"outlinewidth\":0,\"ticks\":\"\"},\"colorscale\":[[0.0,\"#0d0887\"],[0.1111111111111111,\"#46039f\"],[0.2222222222222222,\"#7201a8\"],[0.3333333333333333,\"#9c179e\"],[0.4444444444444444,\"#bd3786\"],[0.5555555555555556,\"#d8576b\"],[0.6666666666666666,\"#ed7953\"],[0.7777777777777778,\"#fb9f3a\"],[0.8888888888888888,\"#fdca26\"],[1.0,\"#f0f921\"]]}],\"heatmapgl\":[{\"type\":\"heatmapgl\",\"colorbar\":{\"outlinewidth\":0,\"ticks\":\"\"},\"colorscale\":[[0.0,\"#0d0887\"],[0.1111111111111111,\"#46039f\"],[0.2222222222222222,\"#7201a8\"],[0.3333333333333333,\"#9c179e\"],[0.4444444444444444,\"#bd3786\"],[0.5555555555555556,\"#d8576b\"],[0.6666666666666666,\"#ed7953\"],[0.7777777777777778,\"#fb9f3a\"],[0.8888888888888888,\"#fdca26\"],[1.0,\"#f0f921\"]]}],\"contourcarpet\":[{\"type\":\"contourcarpet\",\"colorbar\":{\"outlinewidth\":0,\"ticks\":\"\"}}],\"contour\":[{\"type\":\"contour\",\"colorbar\":{\"outlinewidth\":0,\"ticks\":\"\"},\"colorscale\":[[0.0,\"#0d0887\"],[0.1111111111111111,\"#46039f\"],[0.2222222222222222,\"#7201a8\"],[0.3333333333333333,\"#9c179e\"],[0.4444444444444444,\"#bd3786\"],[0.5555555555555556,\"#d8576b\"],[0.6666666666666666,\"#ed7953\"],[0.7777777777777778,\"#fb9f3a\"],[0.8888888888888888,\"#fdca26\"],[1.0,\"#f0f921\"]]}],\"surface\":[{\"type\":\"surface\",\"colorbar\":{\"outlinewidth\":0,\"ticks\":\"\"},\"colorscale\":[[0.0,\"#0d0887\"],[0.1111111111111111,\"#46039f\"],[0.2222222222222222,\"#7201a8\"],[0.3333333333333333,\"#9c179e\"],[0.4444444444444444,\"#bd3786\"],[0.5555555555555556,\"#d8576b\"],[0.6666666666666666,\"#ed7953\"],[0.7777777777777778,\"#fb9f3a\"],[0.8888888888888888,\"#fdca26\"],[1.0,\"#f0f921\"]]}],\"mesh3d\":[{\"type\":\"mesh3d\",\"colorbar\":{\"outlinewidth\":0,\"ticks\":\"\"}}],\"scatter\":[{\"fillpattern\":{\"fillmode\":\"overlay\",\"size\":10,\"solidity\":0.2},\"type\":\"scatter\"}],\"parcoords\":[{\"type\":\"parcoords\",\"line\":{\"colorbar\":{\"outlinewidth\":0,\"ticks\":\"\"}}}],\"scatterpolargl\":[{\"type\":\"scatterpolargl\",\"marker\":{\"colorbar\":{\"outlinewidth\":0,\"ticks\":\"\"}}}],\"bar\":[{\"error_x\":{\"color\":\"#2a3f5f\"},\"error_y\":{\"color\":\"#2a3f5f\"},\"marker\":{\"line\":{\"color\":\"#E5ECF6\",\"width\":0.5},\"pattern\":{\"fillmode\":\"overlay\",\"size\":10,\"solidity\":0.2}},\"type\":\"bar\"}],\"scattergeo\":[{\"type\":\"scattergeo\",\"marker\":{\"colorbar\":{\"outlinewidth\":0,\"ticks\":\"\"}}}],\"scatterpolar\":[{\"type\":\"scatterpolar\",\"marker\":{\"colorbar\":{\"outlinewidth\":0,\"ticks\":\"\"}}}],\"histogram\":[{\"marker\":{\"pattern\":{\"fillmode\":\"overlay\",\"size\":10,\"solidity\":0.2}},\"type\":\"histogram\"}],\"scattergl\":[{\"type\":\"scattergl\",\"marker\":{\"colorbar\":{\"outlinewidth\":0,\"ticks\":\"\"}}}],\"scatter3d\":[{\"type\":\"scatter3d\",\"line\":{\"colorbar\":{\"outlinewidth\":0,\"ticks\":\"\"}},\"marker\":{\"colorbar\":{\"outlinewidth\":0,\"ticks\":\"\"}}}],\"scattermapbox\":[{\"type\":\"scattermapbox\",\"marker\":{\"colorbar\":{\"outlinewidth\":0,\"ticks\":\"\"}}}],\"scatterternary\":[{\"type\":\"scatterternary\",\"marker\":{\"colorbar\":{\"outlinewidth\":0,\"ticks\":\"\"}}}],\"scattercarpet\":[{\"type\":\"scattercarpet\",\"marker\":{\"colorbar\":{\"outlinewidth\":0,\"ticks\":\"\"}}}],\"carpet\":[{\"aaxis\":{\"endlinecolor\":\"#2a3f5f\",\"gridcolor\":\"white\",\"linecolor\":\"white\",\"minorgridcolor\":\"white\",\"startlinecolor\":\"#2a3f5f\"},\"baxis\":{\"endlinecolor\":\"#2a3f5f\",\"gridcolor\":\"white\",\"linecolor\":\"white\",\"minorgridcolor\":\"white\",\"startlinecolor\":\"#2a3f5f\"},\"type\":\"carpet\"}],\"table\":[{\"cells\":{\"fill\":{\"color\":\"#EBF0F8\"},\"line\":{\"color\":\"white\"}},\"header\":{\"fill\":{\"color\":\"#C8D4E3\"},\"line\":{\"color\":\"white\"}},\"type\":\"table\"}],\"barpolar\":[{\"marker\":{\"line\":{\"color\":\"#E5ECF6\",\"width\":0.5},\"pattern\":{\"fillmode\":\"overlay\",\"size\":10,\"solidity\":0.2}},\"type\":\"barpolar\"}],\"pie\":[{\"automargin\":true,\"type\":\"pie\"}]},\"layout\":{\"autotypenumbers\":\"strict\",\"colorway\":[\"#636efa\",\"#EF553B\",\"#00cc96\",\"#ab63fa\",\"#FFA15A\",\"#19d3f3\",\"#FF6692\",\"#B6E880\",\"#FF97FF\",\"#FECB52\"],\"font\":{\"color\":\"#2a3f5f\"},\"hovermode\":\"closest\",\"hoverlabel\":{\"align\":\"left\"},\"paper_bgcolor\":\"white\",\"plot_bgcolor\":\"#E5ECF6\",\"polar\":{\"bgcolor\":\"#E5ECF6\",\"angularaxis\":{\"gridcolor\":\"white\",\"linecolor\":\"white\",\"ticks\":\"\"},\"radialaxis\":{\"gridcolor\":\"white\",\"linecolor\":\"white\",\"ticks\":\"\"}},\"ternary\":{\"bgcolor\":\"#E5ECF6\",\"aaxis\":{\"gridcolor\":\"white\",\"linecolor\":\"white\",\"ticks\":\"\"},\"baxis\":{\"gridcolor\":\"white\",\"linecolor\":\"white\",\"ticks\":\"\"},\"caxis\":{\"gridcolor\":\"white\",\"linecolor\":\"white\",\"ticks\":\"\"}},\"coloraxis\":{\"colorbar\":{\"outlinewidth\":0,\"ticks\":\"\"}},\"colorscale\":{\"sequential\":[[0.0,\"#0d0887\"],[0.1111111111111111,\"#46039f\"],[0.2222222222222222,\"#7201a8\"],[0.3333333333333333,\"#9c179e\"],[0.4444444444444444,\"#bd3786\"],[0.5555555555555556,\"#d8576b\"],[0.6666666666666666,\"#ed7953\"],[0.7777777777777778,\"#fb9f3a\"],[0.8888888888888888,\"#fdca26\"],[1.0,\"#f0f921\"]],\"sequentialminus\":[[0.0,\"#0d0887\"],[0.1111111111111111,\"#46039f\"],[0.2222222222222222,\"#7201a8\"],[0.3333333333333333,\"#9c179e\"],[0.4444444444444444,\"#bd3786\"],[0.5555555555555556,\"#d8576b\"],[0.6666666666666666,\"#ed7953\"],[0.7777777777777778,\"#fb9f3a\"],[0.8888888888888888,\"#fdca26\"],[1.0,\"#f0f921\"]],\"diverging\":[[0,\"#8e0152\"],[0.1,\"#c51b7d\"],[0.2,\"#de77ae\"],[0.3,\"#f1b6da\"],[0.4,\"#fde0ef\"],[0.5,\"#f7f7f7\"],[0.6,\"#e6f5d0\"],[0.7,\"#b8e186\"],[0.8,\"#7fbc41\"],[0.9,\"#4d9221\"],[1,\"#276419\"]]},\"xaxis\":{\"gridcolor\":\"white\",\"linecolor\":\"white\",\"ticks\":\"\",\"title\":{\"standoff\":15},\"zerolinecolor\":\"white\",\"automargin\":true,\"zerolinewidth\":2},\"yaxis\":{\"gridcolor\":\"white\",\"linecolor\":\"white\",\"ticks\":\"\",\"title\":{\"standoff\":15},\"zerolinecolor\":\"white\",\"automargin\":true,\"zerolinewidth\":2},\"scene\":{\"xaxis\":{\"backgroundcolor\":\"#E5ECF6\",\"gridcolor\":\"white\",\"linecolor\":\"white\",\"showbackground\":true,\"ticks\":\"\",\"zerolinecolor\":\"white\",\"gridwidth\":2},\"yaxis\":{\"backgroundcolor\":\"#E5ECF6\",\"gridcolor\":\"white\",\"linecolor\":\"white\",\"showbackground\":true,\"ticks\":\"\",\"zerolinecolor\":\"white\",\"gridwidth\":2},\"zaxis\":{\"backgroundcolor\":\"#E5ECF6\",\"gridcolor\":\"white\",\"linecolor\":\"white\",\"showbackground\":true,\"ticks\":\"\",\"zerolinecolor\":\"white\",\"gridwidth\":2}},\"shapedefaults\":{\"line\":{\"color\":\"#2a3f5f\"}},\"annotationdefaults\":{\"arrowcolor\":\"#2a3f5f\",\"arrowhead\":0,\"arrowwidth\":1},\"geo\":{\"bgcolor\":\"white\",\"landcolor\":\"#E5ECF6\",\"subunitcolor\":\"white\",\"showland\":true,\"showlakes\":true,\"lakecolor\":\"white\"},\"title\":{\"x\":0.05},\"mapbox\":{\"style\":\"light\"}}},\"xaxis\":{\"anchor\":\"y\",\"domain\":[0.0,1.0],\"title\":{\"text\":\"Size\"}},\"yaxis\":{\"anchor\":\"x\",\"domain\":[0.0,1.0],\"title\":{\"text\":\"Faithfulness score\"}},\"legend\":{\"title\":{\"text\":\"seed\"},\"tracegroupgap\":0},\"margin\":{\"t\":60},\"title\":{\"text\":\"Faithfulness scores for each seed at checkpoint 52000\"}},                        {\"responsive\": true}                    ).then(function(){\n",
       "                            \n",
       "var gd = document.getElementById('ffeb0300-a510-46af-b640-40ed90230d5d');\n",
       "var x = new MutationObserver(function (mutations, observer) {{\n",
       "        var display = window.getComputedStyle(gd).display;\n",
       "        if (!display || display === 'none') {{\n",
       "            console.log([gd, 'removed!']);\n",
       "            Plotly.purge(gd);\n",
       "            observer.disconnect();\n",
       "        }}\n",
       "}});\n",
       "\n",
       "// Listen for the removal of the full notebook cells\n",
       "var notebookContainer = gd.closest('#notebook-container');\n",
       "if (notebookContainer) {{\n",
       "    x.observe(notebookContainer, {childList: true});\n",
       "}}\n",
       "\n",
       "// Listen for the clearing of the current output cell\n",
       "var outputEl = gd.closest('.output');\n",
       "if (outputEl) {{\n",
       "    x.observe(outputEl, {childList: true});\n",
       "}}\n",
       "\n",
       "                        })                };                });            </script>        </div>"
      ]
     },
     "metadata": {},
     "output_type": "display_data"
    }
   ],
   "source": [
    "# graph faithfulness scores for each seed for checkpoint 143000\n",
    "checkpoint = 52000\n",
    "sub_df_ff = df_ff[df_ff['checkpoint'] == checkpoint]\n",
    "fig = px.line(sub_df_ff, x='size', y='faithfulness_score', color='seed')\n",
    "fig.update_layout(title=f'Faithfulness scores for each seed at checkpoint {checkpoint}', xaxis_title='Size', yaxis_title='Faithfulness score')\n",
    "fig.show()"
   ]
  },
  {
   "cell_type": "code",
   "execution_count": 26,
   "metadata": {},
   "outputs": [
    {
     "ename": "ValueError",
     "evalue": "Index contains duplicate entries, cannot reshape",
     "output_type": "error",
     "traceback": [
      "\u001b[0;31m---------------------------------------------------------------------------\u001b[0m",
      "\u001b[0;31mValueError\u001b[0m                                Traceback (most recent call last)",
      "Cell \u001b[0;32mIn[26], line 6\u001b[0m\n\u001b[1;32m      2\u001b[0m \u001b[39mimport\u001b[39;00m \u001b[39mplotly\u001b[39;00m\u001b[39m.\u001b[39;00m\u001b[39mexpress\u001b[39;00m \u001b[39mas\u001b[39;00m \u001b[39mpx\u001b[39;00m\n\u001b[1;32m      4\u001b[0m \u001b[39m# Assuming `df` is your DataFrame\u001b[39;00m\n\u001b[1;32m      5\u001b[0m \u001b[39m# Pivot the DataFrame to get the seeds as rows, sizes as columns, and faithfulness scores as values\u001b[39;00m\n\u001b[0;32m----> 6\u001b[0m heatmap_data \u001b[39m=\u001b[39m df_ff\u001b[39m.\u001b[39;49mpivot(index\u001b[39m=\u001b[39;49m\u001b[39m'\u001b[39;49m\u001b[39mseed\u001b[39;49m\u001b[39m'\u001b[39;49m, columns\u001b[39m=\u001b[39;49m\u001b[39m'\u001b[39;49m\u001b[39msize\u001b[39;49m\u001b[39m'\u001b[39;49m, values\u001b[39m=\u001b[39;49m\u001b[39m'\u001b[39;49m\u001b[39mfaithfulness_score\u001b[39;49m\u001b[39m'\u001b[39;49m)\n\u001b[1;32m      8\u001b[0m \u001b[39m# Create the heatmap\u001b[39;00m\n\u001b[1;32m      9\u001b[0m fig \u001b[39m=\u001b[39m px\u001b[39m.\u001b[39mimshow(heatmap_data,\n\u001b[1;32m     10\u001b[0m                 labels\u001b[39m=\u001b[39m\u001b[39mdict\u001b[39m(x\u001b[39m=\u001b[39m\u001b[39m\"\u001b[39m\u001b[39mSize\u001b[39m\u001b[39m\"\u001b[39m, y\u001b[39m=\u001b[39m\u001b[39m\"\u001b[39m\u001b[39mSeed\u001b[39m\u001b[39m\"\u001b[39m, color\u001b[39m=\u001b[39m\u001b[39m\"\u001b[39m\u001b[39mFaithfulness Score\u001b[39m\u001b[39m\"\u001b[39m),\n\u001b[1;32m     11\u001b[0m                 x\u001b[39m=\u001b[39mheatmap_data\u001b[39m.\u001b[39mcolumns,  \u001b[39m# Explicitly specify x-axis categories to ensure correct order\u001b[39;00m\n\u001b[1;32m     12\u001b[0m                 y\u001b[39m=\u001b[39mheatmap_data\u001b[39m.\u001b[39mindex,    \u001b[39m# Explicitly specify y-axis categories to ensure correct order\u001b[39;00m\n\u001b[1;32m     13\u001b[0m                 aspect\u001b[39m=\u001b[39m\u001b[39m\"\u001b[39m\u001b[39mauto\u001b[39m\u001b[39m\"\u001b[39m)           \u001b[39m# Let plotly choose the aspect ratio for best fit or use 'equal' for square cells\u001b[39;00m\n",
      "File \u001b[0;32m/opt/conda/lib/python3.10/site-packages/pandas/core/frame.py:9312\u001b[0m, in \u001b[0;36mDataFrame.pivot\u001b[0;34m(self, columns, index, values)\u001b[0m\n\u001b[1;32m   9305\u001b[0m \u001b[39m@Substitution\u001b[39m(\u001b[39m\"\u001b[39m\u001b[39m\"\u001b[39m)\n\u001b[1;32m   9306\u001b[0m \u001b[39m@Appender\u001b[39m(_shared_docs[\u001b[39m\"\u001b[39m\u001b[39mpivot\u001b[39m\u001b[39m\"\u001b[39m])\n\u001b[1;32m   9307\u001b[0m \u001b[39mdef\u001b[39;00m \u001b[39mpivot\u001b[39m(\n\u001b[1;32m   9308\u001b[0m     \u001b[39mself\u001b[39m, \u001b[39m*\u001b[39m, columns, index\u001b[39m=\u001b[39mlib\u001b[39m.\u001b[39mno_default, values\u001b[39m=\u001b[39mlib\u001b[39m.\u001b[39mno_default\n\u001b[1;32m   9309\u001b[0m ) \u001b[39m-\u001b[39m\u001b[39m>\u001b[39m DataFrame:\n\u001b[1;32m   9310\u001b[0m     \u001b[39mfrom\u001b[39;00m \u001b[39mpandas\u001b[39;00m\u001b[39m.\u001b[39;00m\u001b[39mcore\u001b[39;00m\u001b[39m.\u001b[39;00m\u001b[39mreshape\u001b[39;00m\u001b[39m.\u001b[39;00m\u001b[39mpivot\u001b[39;00m \u001b[39mimport\u001b[39;00m pivot\n\u001b[0;32m-> 9312\u001b[0m     \u001b[39mreturn\u001b[39;00m pivot(\u001b[39mself\u001b[39;49m, index\u001b[39m=\u001b[39;49mindex, columns\u001b[39m=\u001b[39;49mcolumns, values\u001b[39m=\u001b[39;49mvalues)\n",
      "File \u001b[0;32m/opt/conda/lib/python3.10/site-packages/pandas/core/reshape/pivot.py:570\u001b[0m, in \u001b[0;36mpivot\u001b[0;34m(data, columns, index, values)\u001b[0m\n\u001b[1;32m    566\u001b[0m         indexed \u001b[39m=\u001b[39m data\u001b[39m.\u001b[39m_constructor_sliced(data[values]\u001b[39m.\u001b[39m_values, index\u001b[39m=\u001b[39mmultiindex)\n\u001b[1;32m    567\u001b[0m \u001b[39m# error: Argument 1 to \"unstack\" of \"DataFrame\" has incompatible type \"Union\u001b[39;00m\n\u001b[1;32m    568\u001b[0m \u001b[39m# [List[Any], ExtensionArray, ndarray[Any, Any], Index, Series]\"; expected\u001b[39;00m\n\u001b[1;32m    569\u001b[0m \u001b[39m# \"Hashable\"\u001b[39;00m\n\u001b[0;32m--> 570\u001b[0m result \u001b[39m=\u001b[39m indexed\u001b[39m.\u001b[39;49munstack(columns_listlike)  \u001b[39m# type: ignore[arg-type]\u001b[39;00m\n\u001b[1;32m    571\u001b[0m result\u001b[39m.\u001b[39mindex\u001b[39m.\u001b[39mnames \u001b[39m=\u001b[39m [\n\u001b[1;32m    572\u001b[0m     name \u001b[39mif\u001b[39;00m name \u001b[39mis\u001b[39;00m \u001b[39mnot\u001b[39;00m lib\u001b[39m.\u001b[39mno_default \u001b[39melse\u001b[39;00m \u001b[39mNone\u001b[39;00m \u001b[39mfor\u001b[39;00m name \u001b[39min\u001b[39;00m result\u001b[39m.\u001b[39mindex\u001b[39m.\u001b[39mnames\n\u001b[1;32m    573\u001b[0m ]\n\u001b[1;32m    575\u001b[0m \u001b[39mreturn\u001b[39;00m result\n",
      "File \u001b[0;32m/opt/conda/lib/python3.10/site-packages/pandas/core/series.py:4595\u001b[0m, in \u001b[0;36mSeries.unstack\u001b[0;34m(self, level, fill_value, sort)\u001b[0m\n\u001b[1;32m   4550\u001b[0m \u001b[39m\u001b[39m\u001b[39m\"\"\"\u001b[39;00m\n\u001b[1;32m   4551\u001b[0m \u001b[39mUnstack, also known as pivot, Series with MultiIndex to produce DataFrame.\u001b[39;00m\n\u001b[1;32m   4552\u001b[0m \n\u001b[0;32m   (...)\u001b[0m\n\u001b[1;32m   4591\u001b[0m \u001b[39mb    2    4\u001b[39;00m\n\u001b[1;32m   4592\u001b[0m \u001b[39m\"\"\"\u001b[39;00m\n\u001b[1;32m   4593\u001b[0m \u001b[39mfrom\u001b[39;00m \u001b[39mpandas\u001b[39;00m\u001b[39m.\u001b[39;00m\u001b[39mcore\u001b[39;00m\u001b[39m.\u001b[39;00m\u001b[39mreshape\u001b[39;00m\u001b[39m.\u001b[39;00m\u001b[39mreshape\u001b[39;00m \u001b[39mimport\u001b[39;00m unstack\n\u001b[0;32m-> 4595\u001b[0m \u001b[39mreturn\u001b[39;00m unstack(\u001b[39mself\u001b[39;49m, level, fill_value, sort)\n",
      "File \u001b[0;32m/opt/conda/lib/python3.10/site-packages/pandas/core/reshape/reshape.py:517\u001b[0m, in \u001b[0;36munstack\u001b[0;34m(obj, level, fill_value, sort)\u001b[0m\n\u001b[1;32m    515\u001b[0m \u001b[39mif\u001b[39;00m is_1d_only_ea_dtype(obj\u001b[39m.\u001b[39mdtype):\n\u001b[1;32m    516\u001b[0m     \u001b[39mreturn\u001b[39;00m _unstack_extension_series(obj, level, fill_value, sort\u001b[39m=\u001b[39msort)\n\u001b[0;32m--> 517\u001b[0m unstacker \u001b[39m=\u001b[39m _Unstacker(\n\u001b[1;32m    518\u001b[0m     obj\u001b[39m.\u001b[39;49mindex, level\u001b[39m=\u001b[39;49mlevel, constructor\u001b[39m=\u001b[39;49mobj\u001b[39m.\u001b[39;49m_constructor_expanddim, sort\u001b[39m=\u001b[39;49msort\n\u001b[1;32m    519\u001b[0m )\n\u001b[1;32m    520\u001b[0m \u001b[39mreturn\u001b[39;00m unstacker\u001b[39m.\u001b[39mget_result(\n\u001b[1;32m    521\u001b[0m     obj\u001b[39m.\u001b[39m_values, value_columns\u001b[39m=\u001b[39m\u001b[39mNone\u001b[39;00m, fill_value\u001b[39m=\u001b[39mfill_value\n\u001b[1;32m    522\u001b[0m )\n",
      "File \u001b[0;32m/opt/conda/lib/python3.10/site-packages/pandas/core/reshape/reshape.py:154\u001b[0m, in \u001b[0;36m_Unstacker.__init__\u001b[0;34m(self, index, level, constructor, sort)\u001b[0m\n\u001b[1;32m    146\u001b[0m \u001b[39mif\u001b[39;00m num_cells \u001b[39m>\u001b[39m np\u001b[39m.\u001b[39miinfo(np\u001b[39m.\u001b[39mint32)\u001b[39m.\u001b[39mmax:\n\u001b[1;32m    147\u001b[0m     warnings\u001b[39m.\u001b[39mwarn(\n\u001b[1;32m    148\u001b[0m         \u001b[39mf\u001b[39m\u001b[39m\"\u001b[39m\u001b[39mThe following operation may generate \u001b[39m\u001b[39m{\u001b[39;00mnum_cells\u001b[39m}\u001b[39;00m\u001b[39m cells \u001b[39m\u001b[39m\"\u001b[39m\n\u001b[1;32m    149\u001b[0m         \u001b[39mf\u001b[39m\u001b[39m\"\u001b[39m\u001b[39min the resulting pandas object.\u001b[39m\u001b[39m\"\u001b[39m,\n\u001b[1;32m    150\u001b[0m         PerformanceWarning,\n\u001b[1;32m    151\u001b[0m         stacklevel\u001b[39m=\u001b[39mfind_stack_level(),\n\u001b[1;32m    152\u001b[0m     )\n\u001b[0;32m--> 154\u001b[0m \u001b[39mself\u001b[39;49m\u001b[39m.\u001b[39;49m_make_selectors()\n",
      "File \u001b[0;32m/opt/conda/lib/python3.10/site-packages/pandas/core/reshape/reshape.py:210\u001b[0m, in \u001b[0;36m_Unstacker._make_selectors\u001b[0;34m(self)\u001b[0m\n\u001b[1;32m    207\u001b[0m mask\u001b[39m.\u001b[39mput(selector, \u001b[39mTrue\u001b[39;00m)\n\u001b[1;32m    209\u001b[0m \u001b[39mif\u001b[39;00m mask\u001b[39m.\u001b[39msum() \u001b[39m<\u001b[39m \u001b[39mlen\u001b[39m(\u001b[39mself\u001b[39m\u001b[39m.\u001b[39mindex):\n\u001b[0;32m--> 210\u001b[0m     \u001b[39mraise\u001b[39;00m \u001b[39mValueError\u001b[39;00m(\u001b[39m\"\u001b[39m\u001b[39mIndex contains duplicate entries, cannot reshape\u001b[39m\u001b[39m\"\u001b[39m)\n\u001b[1;32m    212\u001b[0m \u001b[39mself\u001b[39m\u001b[39m.\u001b[39mgroup_index \u001b[39m=\u001b[39m comp_index\n\u001b[1;32m    213\u001b[0m \u001b[39mself\u001b[39m\u001b[39m.\u001b[39mmask \u001b[39m=\u001b[39m mask\n",
      "\u001b[0;31mValueError\u001b[0m: Index contains duplicate entries, cannot reshape"
     ]
    }
   ],
   "source": [
    "import pandas as pd\n",
    "import plotly.express as px\n",
    "\n",
    "# Assuming `df` is your DataFrame\n",
    "# Pivot the DataFrame to get the seeds as rows, sizes as columns, and faithfulness scores as values\n",
    "heatmap_data = df_ff.pivot(index='seed', columns='size', values='faithfulness_score')\n",
    "\n",
    "# Create the heatmap\n",
    "fig = px.imshow(heatmap_data,\n",
    "                labels=dict(x=\"Size\", y=\"Seed\", color=\"Faithfulness Score\"),\n",
    "                x=heatmap_data.columns,  # Explicitly specify x-axis categories to ensure correct order\n",
    "                y=heatmap_data.index,    # Explicitly specify y-axis categories to ensure correct order\n",
    "                aspect=\"auto\")           # Let plotly choose the aspect ratio for best fit or use 'equal' for square cells\n",
    "\n",
    "# Optional: Update layout for a better presentation\n",
    "fig.update_layout(\n",
    "    title=\"Heatmap of Faithfulness Scores\",\n",
    "    xaxis_title=\"Size\",\n",
    "    yaxis_title=\"Seed\",\n",
    "    xaxis_nticks=36)  # Adjust this for the number of sizes you have for better tick distribution\n",
    "\n",
    "fig.show()\n"
   ]
  },
  {
   "cell_type": "code",
   "execution_count": 18,
   "metadata": {},
   "outputs": [
    {
     "data": {
      "text/plain": [
       "array([  4000,   5000,   6000,   7000,   8000,   9000,  10000,  11000,\n",
       "        12000,  13000,  14000,  15000,  16000,  17000,  18000,  19000,\n",
       "        20000,  21000,  22000,  23000,  24000,  25000,  26000,  27000,\n",
       "        28000,  29000,  30000,  31000,  32000,  33000,  34000,  35000,\n",
       "        36000,  37000,  38000,  39000,  40000,  41000,  42000,  43000,\n",
       "        44000,  45000,  46000,  47000,  48000,  49000,  50000,  51000,\n",
       "        52000,  53000,  54000,  55000,  56000,  57000,  58000,  59000,\n",
       "        60000,  61000,  62000,  63000,  64000,  65000,  66000,  67000,\n",
       "        68000,  69000,  70000,  71000,  72000,  73000,  74000,  75000,\n",
       "        76000,  77000,  78000,  79000,  80000,  81000,  82000,  83000,\n",
       "        84000,  85000,  86000,  87000,  88000,  89000,  90000,  91000,\n",
       "        92000,  93000,  94000,  95000,  96000,  97000,  98000,  99000,\n",
       "       100000, 101000, 102000, 103000, 104000, 105000, 106000, 107000,\n",
       "       108000, 109000, 110000, 111000, 112000, 113000, 114000, 115000,\n",
       "       116000, 117000, 118000, 119000, 120000, 121000, 122000, 123000,\n",
       "       124000, 125000, 126000, 127000, 128000, 129000, 130000, 131000,\n",
       "       132000, 133000, 134000, 135000, 136000, 137000, 138000, 139000,\n",
       "       140000, 141000, 142000, 143000])"
      ]
     },
     "execution_count": 18,
     "metadata": {},
     "output_type": "execute_result"
    }
   ],
   "source": [
    "df_ff_seed_1['checkpoint'].unique()"
   ]
  },
  {
   "cell_type": "code",
   "execution_count": null,
   "metadata": {},
   "outputs": [],
   "source": []
  }
 ],
 "metadata": {
  "kernelspec": {
   "display_name": "Python 3 (ipykernel)",
   "language": "python",
   "name": "python3"
  },
  "language_info": {
   "codemirror_mode": {
    "name": "ipython",
    "version": 3
   },
   "file_extension": ".py",
   "mimetype": "text/x-python",
   "name": "python",
   "nbconvert_exporter": "python",
   "pygments_lexer": "ipython3",
   "version": "3.10.13"
  },
  "orig_nbformat": 4
 },
 "nbformat": 4,
 "nbformat_minor": 2
}
